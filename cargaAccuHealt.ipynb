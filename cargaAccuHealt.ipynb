{
 "cells": [
  {
   "cell_type": "code",
   "execution_count": null,
   "metadata": {
    "notebookRunGroups": {
     "groupValue": "2"
    }
   },
   "outputs": [],
   "source": [
    "from pathlib import Path\n",
    "import requests\n",
    "import pandas as pd\n",
    "import numpy as np\n",
    "from io import StringIO\n",
    "from simple_salesforce import Salesforce\n",
    "import shutil\n",
    "import datetime\n",
    "from datetime import datetime\n",
    "import json,re"
   ]
  },
  {
   "cell_type": "code",
   "execution_count": null,
   "metadata": {},
   "outputs": [],
   "source": [
    "with open(\"login.json\", \"r\") as j:\n",
    "    misDatos = json.load(j)"
   ]
  },
  {
   "cell_type": "code",
   "execution_count": null,
   "metadata": {},
   "outputs": [],
   "source": [
    "#para smart query\n",
    "\"\"\" sf = simple_salesforce.Salesforce(\n",
    "    username=misDatos[\"username\"],\n",
    "    password=misDatos[\"password\"],\n",
    "    security_token=misDatos[\"security_token\"],\n",
    ")\n",
    " \"\"\"\n",
    "#para lo demas\n",
    "sf = Salesforce(\n",
    "    username=misDatos[\"username\"],\n",
    "    password=misDatos[\"password\"],\n",
    "    security_token=misDatos[\"security_token\"],\n",
    ")\n",
    "# paramiko.util.log_to_file(\"paramiko.log\")\n",
    "regex = re.compile(r\"([A-Za-z0-9]+[.-_])*[A-Za-z0-9]+@[A-Za-z0-9-]+(\\.[A-Z|a-z]{2,})+\")"
   ]
  },
  {
   "cell_type": "code",
   "execution_count": null,
   "metadata": {},
   "outputs": [],
   "source": [
    "Fecha_Inicio = \"2023-08-01\""
   ]
  },
  {
   "cell_type": "code",
   "execution_count": null,
   "metadata": {},
   "outputs": [],
   "source": [
    "\"\"\" sf = Salesforce(\n",
    "    username=\"jmartinez@careassistance.com\",\n",
    "    password=\"Jcmm01041983*\",\n",
    "    security_token=\"dxbNevVOmgmoQS4Zllh3DpNDj\",\n",
    ") \"\"\""
   ]
  },
  {
   "cell_type": "code",
   "execution_count": null,
   "metadata": {},
   "outputs": [],
   "source": [
    "# CArga de PAcientes\n",
    "results = sf.query_all(\n",
    "    \"\"\"\n",
    "    select Id, IdentificationId__pc from Account where ispersonaccount = True\n",
    "   \"\"\"\n",
    ")\n",
    "Pacientes_SF = pd.DataFrame(results[\"records\"])\n",
    "\n",
    "Pacientes_SF = Pacientes_SF[\n",
    "    [\n",
    "        \"Id\",\n",
    "        \"IdentificationId__pc\",\n",
    "    ]\n",
    "]\n",
    "Pacientes_SF = Pacientes_SF.rename(\n",
    "    columns={\n",
    "        \"Id\": \"Account\",\n",
    "        \"IdentificationId__pc\": \"Rut\",\n",
    "    }\n",
    ")\n",
    "Pacientes_SF.shape"
   ]
  },
  {
   "cell_type": "code",
   "execution_count": null,
   "metadata": {},
   "outputs": [],
   "source": [
    "nuevos = \"F:/Procesos Automaticos/AccuHealth/1.xlsx\"\n",
    "Archivo = pd.read_excel(nuevos,sheet_name='Accuhealth')\n",
    "\n",
    "# OJO se copia rut1 a rut le saca el guoion\n",
    "Archivo.head()"
   ]
  },
  {
   "cell_type": "code",
   "execution_count": null,
   "metadata": {},
   "outputs": [],
   "source": [
    "Archivo[\"RUT\"] = Archivo[\"RUT\"].astype(str)\n",
    "Archivo[\"RUT\"] = Archivo[\"RUT\"].str.replace(\"-\", \"\")\n",
    "Archivo[\"RUT\"] = Archivo[\"RUT\"].str.replace(\".\", \"\")\n",
    "Archivo[\"RUT\"] = Archivo[\"RUT\"].str.upper()\n"
   ]
  },
  {
   "cell_type": "code",
   "execution_count": null,
   "metadata": {},
   "outputs": [],
   "source": [
    "Archivo.dtypes"
   ]
  },
  {
   "cell_type": "code",
   "execution_count": null,
   "metadata": {},
   "outputs": [],
   "source": [
    "def siPrimerCero(y):\n",
    "    if y[0] == \"0\":\n",
    "        y = y[1:]\n",
    "    return y"
   ]
  },
  {
   "cell_type": "code",
   "execution_count": null,
   "metadata": {},
   "outputs": [],
   "source": [
    "Archivo[\"RUT2\"] = Archivo[\"RUT\"].apply(lambda y: siPrimerCero(y))\n",
    "Archivo.head()"
   ]
  },
  {
   "cell_type": "code",
   "execution_count": null,
   "metadata": {},
   "outputs": [],
   "source": [
    "Pacientes_SF[\"Rut\"] = Pacientes_SF[\"Rut\"].astype(str)\n",
    "Pacientes_SF[\"Rut\"] = Pacientes_SF[\"Rut\"].str.replace(\"-\", \"\")\n",
    "Pacientes_SF[\"Rut\"] = Pacientes_SF[\"Rut\"].str.replace(\".\", \"\")\n",
    "Pacientes_SF[\"Rut\"] = Pacientes_SF[\"Rut\"].str.upper()"
   ]
  },
  {
   "cell_type": "code",
   "execution_count": null,
   "metadata": {},
   "outputs": [],
   "source": [
    "Archivo = pd.merge(\n",
    "    left=Archivo,\n",
    "    right=Pacientes_SF,\n",
    "    how=\"left\",\n",
    "    left_on=\"RUT2\",\n",
    "    right_on=\"Rut\",\n",
    ")\n",
    "Archivo.head()"
   ]
  },
  {
   "cell_type": "code",
   "execution_count": null,
   "metadata": {},
   "outputs": [],
   "source": [
    "Archivo[\"Presión Arterial\"] = np.where(Archivo[\"DBP\"].str.len() <=4,Archivo[\"SBP\"] + \" / \" + Archivo[\"DBP\"],\"0\")\n",
    "\n",
    "Archivo.head()"
   ]
  },
  {
   "cell_type": "code",
   "execution_count": null,
   "metadata": {},
   "outputs": [],
   "source": [
    "Archivo[\"Dia\"] = pd.to_datetime(Archivo[\"date\"]).dt.day\n",
    "\n",
    "Archivo[\"Mes\"] = pd.to_datetime(Archivo[\"date\"]).dt.month\n",
    "\n",
    "Archivo[\"Mes Nombre\"] = pd.to_datetime(Archivo[\"date\"]).dt.month_name()\n",
    "\n",
    "Archivo[\"Año\"] = pd.to_datetime(Archivo[\"date\"]).dt.year\n",
    "\n",
    "Archivo[\"Fecha_chilena\"] = pd.to_datetime(\n",
    "    Archivo[\"date\"], dayfirst=True, yearfirst=False, exact=True\n",
    ")\n",
    "# x = date(Citas_de_servicio['Dia'], Citas_de_servicio['Mes'], Citas_de_servicio['Año'] )\n",
    "# Archivo['LocalDateTime'] = pd.to_datetime(Archivo['LocalDateTime'])\n",
    "# \n",
    "\n",
    "Archivo[\"Fecha_chilena\"] = Archivo[\"Fecha_chilena\"].apply(\n",
    "    lambda a: datetime.strftime(a, \"%Y-%m-%d %H:%M:%S\")\n",
    ")\n",
    "\n",
    "Archivo[\"Fecha_chilena\"] = pd.to_datetime(Archivo[\"Fecha_chilena\"])\n",
    "\n",
    "Archivo[\"Fecha\"] = Archivo[\"Fecha_chilena\"].dt.strftime(\"%d-%m-%Y\")\n",
    "Archivo.to_excel(\"F:/Procesos Automaticos/AccuHealth/2.xlsx\", index=False)\n",
    "\n",
    "\n",
    "Archivo = Archivo[(Archivo[\"severity\"] != \"No realizado\")]"
   ]
  },
  {
   "cell_type": "markdown",
   "metadata": {},
   "source": [
    "Discriminacion fecha datos relevantes para carga"
   ]
  },
  {
   "cell_type": "code",
   "execution_count": null,
   "metadata": {},
   "outputs": [],
   "source": [
    "Archivo1 = Archivo[(Archivo[\"Fecha_chilena\"] >= Fecha_Inicio)]\n",
    "Archivo1.sort_values(by=\"date\")"
   ]
  },
  {
   "cell_type": "code",
   "execution_count": null,
   "metadata": {},
   "outputs": [],
   "source": [
    "Archivo1 = Archivo1[\n",
    "    [\n",
    "        \"patient_lot_id\",\n",
    "        \"Rut\",\n",
    "        \"Fecha\",\n",
    "        \"Fecha_chilena\",\n",
    "        \"severity\",\n",
    "        \"BG\",\n",
    "        \"bienestar\",\n",
    "        \"Medicacion\",\n",
    "        \"Account\",\n",
    "        \"Presión Arterial\",\n",
    "    ]\n",
    "]\n",
    "Archivo1.shape"
   ]
  },
  {
   "cell_type": "code",
   "execution_count": null,
   "metadata": {},
   "outputs": [],
   "source": [
    "results = sf.query_all(\n",
    "    \"\"\"\n",
    "    select Id,idAccuHealth__c from Ficha_Cl_nica_Seg_Paciente_Cr_nico__c \n",
    "   \"\"\"\n",
    ")\n",
    "fichaAccu = pd.DataFrame(results[\"records\"])\n",
    "\n",
    "fichaAccu = fichaAccu[\n",
    "    [\n",
    "        \"Id\",\n",
    "        \"idAccuHealth__c\",\n",
    "    ]\n",
    "]\n",
    "fichaAccu = fichaAccu.rename(\n",
    "    columns={\n",
    "        \"Id\": \"Id Account Paciente\",\n",
    "        \"idAccuHealth__c\": \"Codigo\",\n",
    "    }\n",
    ")\n",
    "fichaAccu[\"Codigo\"] = fichaAccu[\"Codigo\"].astype(str)\n",
    "fichaAccu[\"Codigo\"] = fichaAccu[\"Codigo\"].str.replace(\"-\", \"\")\n",
    "fichaAccu[\"Codigo\"] = fichaAccu[\"Codigo\"].str.replace(\".\", \"\")\n",
    "fichaAccu[\"Codigo\"] = fichaAccu[\"Codigo\"].str.upper()\n",
    "\n",
    "fichaAccu.shape"
   ]
  },
  {
   "cell_type": "code",
   "execution_count": null,
   "metadata": {},
   "outputs": [],
   "source": [
    "fichaAccu.head()"
   ]
  },
  {
   "cell_type": "code",
   "execution_count": null,
   "metadata": {},
   "outputs": [],
   "source": [
    "fichaAccu[\"Codigo\"] = fichaAccu[\"Codigo\"].astype(str)\n"
   ]
  },
  {
   "cell_type": "code",
   "execution_count": null,
   "metadata": {},
   "outputs": [],
   "source": [
    "\n",
    "Archivo1[\"patient_lot_id\"] = Archivo1[\"patient_lot_id\"].astype(str)\n",
    "Archivo1[\"patient_lot_id\"] = Archivo1[\"patient_lot_id\"].str.replace(\"-\", \"\")\n",
    "Archivo1[\"patient_lot_id\"] = Archivo1[\"patient_lot_id\"].str.replace(\".\", \"\")\n",
    "Archivo1[\"patient_lot_id\"] = Archivo1[\"patient_lot_id\"].str.upper()\n",
    "\n",
    "Archivo1[\"Estaono\"] = Archivo1[\"patient_lot_id\"].isin(fichaAccu[\"Codigo\"])\n",
    "Archivo1[\"Canal__c\"] = \"Chatter\"\n",
    "Archivo1[\"RecordTypeId\"] = \"0128c000002CYuWAAW\"\n",
    "\n",
    "Archivo1.head()"
   ]
  },
  {
   "cell_type": "code",
   "execution_count": null,
   "metadata": {},
   "outputs": [],
   "source": [
    "Archivo1 = Archivo1.rename(\n",
    "    columns={\n",
    "        \"patient_lot_id\": \"idAccuHealth__c\",\n",
    "        \"Rut\": \"Rut__c\",\n",
    "        \"Fecha_chilena\": \"Fecha__c\",\n",
    "        \"BG\": \"Glicemia__c\",\n",
    "        \"bienestar\": \"Bienestar__c\",\n",
    "        \"Medicacion\": \"Medicaci_n__c\",\n",
    "        \"Account\": \"Account__c\",\n",
    "        \"Presión Arterial\": \"Presi_n_Arterial__c\",\n",
    "        \"Estaono\": \"Estaono\",\n",
    "    }\n",
    ")\n",
    "Archivo1 = Archivo1[Archivo1[\"Estaono\"] == False]\n",
    "\n",
    "Archivo1 = Archivo1[\n",
    "    [\n",
    "        \"idAccuHealth__c\",\n",
    "        \"Fecha__c\",\n",
    "        \"Glicemia__c\",\n",
    "        \"Bienestar__c\",\n",
    "        \"Medicaci_n__c\",\n",
    "        \"Account__c\",\n",
    "        \"Presi_n_Arterial__c\",\n",
    "        \"Canal__c\",\n",
    "        \"RecordTypeId\",\n",
    "        \n",
    "    ]\n",
    "]\n",
    "\n",
    "\n",
    "Archivo1.to_excel(\"F:/Procesos Automaticos/AccuHealth/3.xlsx\", index=False)"
   ]
  }
 ],
 "metadata": {
  "kernelspec": {
   "display_name": "salesforce",
   "language": "python",
   "name": "python3"
  },
  "language_info": {
   "codemirror_mode": {
    "name": "ipython",
    "version": 3
   },
   "file_extension": ".py",
   "mimetype": "text/x-python",
   "name": "python",
   "nbconvert_exporter": "python",
   "pygments_lexer": "ipython3",
   "version": "3.8.16"
  },
  "orig_nbformat": 4
 },
 "nbformat": 4,
 "nbformat_minor": 2
}
