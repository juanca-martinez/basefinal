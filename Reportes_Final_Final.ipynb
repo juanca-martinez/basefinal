{
 "cells": [
  {
   "cell_type": "code",
   "execution_count": 1,
   "metadata": {
    "notebookRunGroups": {
     "groupValue": "1"
    }
   },
   "outputs": [],
   "source": [
    "from pathlib import Path \n",
    "import requests\n",
    "import pandas as pd\n",
    "import numpy as np\n",
    "from io import StringIO\n",
    "from simple_salesforce import Salesforce\n",
    "import shutil\n",
    "import datetime\n",
    "from datetime import date\n",
    "\n",
    "\n",
    "sf = Salesforce(\n",
    "    username=\"jmartinez@careassistance.com\",\n",
    "    password=\"Jcmm0104\",\n",
    "    security_token=\"EwVPSL02qXM8XQ2pkUdA13aW\",\n",
    ")"
   ]
  },
  {
   "attachments": {},
   "cell_type": "markdown",
   "metadata": {},
   "source": [
    "Empresas Programas por empresa y empresas desde account"
   ]
  },
  {
   "cell_type": "code",
   "execution_count": 2,
   "metadata": {
    "notebookRunGroups": {
     "groupValue": "1"
    }
   },
   "outputs": [
    {
     "data": {
      "text/plain": [
       "(8844, 7)"
      ]
     },
     "execution_count": 2,
     "metadata": {},
     "output_type": "execute_result"
    }
   ],
   "source": [
    "# Recuperar empresas ID de salesforce desde Account\n",
    "results = sf.query_all(\n",
    "    \"\"\"\n",
    "  select Id, name, Holding__c ,Campa_a__c,Id_Empresa__c,Empleador__c,poliza__c  from account where ispersonaccount = false \n",
    "    \"\"\"\n",
    ")\n",
    "Empresas_SF = pd.DataFrame(results[\"records\"])\n",
    "Empresas_SF = Empresas_SF[\n",
    "    [\n",
    "        \"Id\",\n",
    "        \"Name\",\n",
    "        \"Holding__c\",\n",
    "        \"Campa_a__c\",\n",
    "        \"Id_Empresa__c\",\n",
    "        \"Empleador__c\",\n",
    "        \"poliza__c\",\n",
    "    ]\n",
    "]\n",
    "Empresas_SF.shape"
   ]
  },
  {
   "cell_type": "code",
   "execution_count": 3,
   "metadata": {
    "notebookRunGroups": {
     "groupValue": "1"
    }
   },
   "outputs": [
    {
     "data": {
      "text/plain": [
       "(8846, 5)"
      ]
     },
     "execution_count": 3,
     "metadata": {},
     "output_type": "execute_result"
    }
   ],
   "source": [
    "# buscar empresas desde Programas_por_Empresas__c datos de empresas\n",
    "results = sf.query_all(\n",
    "    \"\"\"\n",
    "   select Id,Empresa__c, Empresa_Padre__c,Nombre_Empresa__c, Name  from Programas_por_Empresas__c \n",
    "    \"\"\"\n",
    ")\n",
    "Programas_por_empresa_SF = pd.DataFrame(results[\"records\"])\n",
    "\n",
    "Programas_por_empresa_SF = Programas_por_empresa_SF[\n",
    "    [\"Id\", \"Empresa__c\", \"Empresa_Padre__c\", \"Nombre_Empresa__c\", \"Name\"]\n",
    "]\n",
    "Programas_por_empresa_SF.shape"
   ]
  },
  {
   "cell_type": "code",
   "execution_count": 4,
   "metadata": {
    "notebookRunGroups": {
     "groupValue": "1"
    }
   },
   "outputs": [
    {
     "data": {
      "text/plain": [
       "(8852, 12)"
      ]
     },
     "execution_count": 4,
     "metadata": {},
     "output_type": "execute_result"
    }
   ],
   "source": [
    "#Union de Programas Empresa y empresas\n",
    "Programas_empresas = pd.merge(\n",
    "    left=Empresas_SF,\n",
    "    right=Programas_por_empresa_SF,\n",
    "    how=\"left\",\n",
    "    left_on=\"Id\",\n",
    "    right_on=\"Empresa__c\",\n",
    ")\n",
    "Programas_empresas.shape"
   ]
  },
  {
   "cell_type": "code",
   "execution_count": 5,
   "metadata": {
    "notebookRunGroups": {
     "groupValue": "1"
    }
   },
   "outputs": [],
   "source": [
    "Programas_pacientes = Programas_empresas.rename(\n",
    "    columns={\n",
    "        \"Id_x\": \"Id Account Empresa\",\n",
    "        \"Name_x\": \"Nombre Empresa\",\n",
    "        \"Holding__c\": \"Holding\",\n",
    "        \"Campa_a__c\": \"Campaña\",\n",
    "        \"Empleador__c\": \"Empleador\",\n",
    "        \"poliza__c\": \"Poliza\",\n",
    "        \"Id_y\": \"Programas_por_Empresas__c\",\n",
    "        \"Id_Empresa__c\": \"Codigo EMP\",\n",
    "        \"Name_y\": \"Codigo A\",\n",
    "    }\n",
    ")\n",
    "Programas_pacientes = Programas_pacientes[\n",
    "    [\n",
    "        \"Id Account Empresa\",\n",
    "        \"Nombre Empresa\",\n",
    "        \"Holding\",\n",
    "        \"Campaña\",\n",
    "        \"Empleador\",\n",
    "        \"Poliza\",\n",
    "        \"Programas_por_Empresas__c\",\n",
    "        \"Codigo EMP\",\n",
    "        \"Codigo A\"\n",
    "    ]\n",
    "]\n"
   ]
  },
  {
   "attachments": {},
   "cell_type": "markdown",
   "metadata": {},
   "source": [
    "fin empresas y comienzo de rescate de pacientes\n"
   ]
  },
  {
   "cell_type": "code",
   "execution_count": 6,
   "metadata": {
    "notebookRunGroups": {
     "groupValue": "1"
    }
   },
   "outputs": [
    {
     "data": {
      "text/plain": [
       "(1569936, 9)"
      ]
     },
     "execution_count": 6,
     "metadata": {},
     "output_type": "execute_result"
    }
   ],
   "source": [
    "results = sf.query_all(\n",
    "    \"\"\"\n",
    "    select Id, IdentificationId__pc,Name, Identification_Type__c, Ocupaci_n__c,  PersonTitle ,PersonDepartment,HealthCloudGA__Gender__pc,Phone  from Account where ispersonaccount = True\n",
    "   \"\"\"\n",
    ")\n",
    "Pacientes_SF = pd.DataFrame(results[\"records\"])\n",
    "\n",
    "Pacientes_SF = Pacientes_SF[\n",
    "    [\n",
    "        \"Id\",\n",
    "        \"IdentificationId__pc\",\n",
    "        \"Name\",\n",
    "        \"Identification_Type__c\",\n",
    "        \"Ocupaci_n__c\",\n",
    "        \"PersonTitle\",\n",
    "        \"PersonDepartment\",\n",
    "        \"HealthCloudGA__Gender__pc\",\n",
    "        'Phone'\n",
    "        \n",
    "    ]\n",
    "]\n",
    "Pacientes_SF = Pacientes_SF.rename(\n",
    "    columns={\n",
    "        \"Id\": \"Id Account Paciente\",\n",
    "        \"IdentificationId__pc\": \"Rut\",\n",
    "        \"Name\": \"Nombre\",\n",
    "        \"Ocupaci_n__c\": \"Ocupacion\",\n",
    "        \"PersonTitle\": \"Cargo\",\n",
    "        \"PersonDepartment\": \"Departamento\",\n",
    "        \"HealthCloudGA__Gender__pc\": \"Sexo\",\n",
    "        \"Phone\": \"Telefono\",\n",
    "        \"Identification_Type__c\": \"Tipo de Documento\",\n",
    "    }\n",
    ")\n",
    "Pacientes_SF.shape"
   ]
  },
  {
   "attachments": {},
   "cell_type": "markdown",
   "metadata": {},
   "source": [
    "Aca se comienzan a unir las relaciones de pacientes y empresas ya creadas."
   ]
  },
  {
   "cell_type": "code",
   "execution_count": 7,
   "metadata": {
    "notebookRunGroups": {
     "groupValue": "1"
    }
   },
   "outputs": [
    {
     "data": {
      "text/plain": [
       "(1284626, 4)"
      ]
     },
     "execution_count": 7,
     "metadata": {},
     "output_type": "execute_result"
    }
   ],
   "source": [
    "#buscar empresas desde Paciente_Programas__c relaciones de empresas con pacientes\n",
    "results = sf.query_all(\n",
    "    \"\"\"\n",
    "    select Id,Paciente__c, Programas_por_Empresas__c,padre__c from Paciente_Programas__c  \n",
    "    \"\"\"\n",
    ")\n",
    "Paciente_Programas_SF = pd.DataFrame(results[\"records\"])\n",
    "\n",
    "Paciente_Programas_SF = Paciente_Programas_SF[\n",
    "    [\"Id\", \"Paciente__c\", \"Programas_por_Empresas__c\", \"padre__c\"]\n",
    "]\n",
    "Paciente_Programas_SF.shape"
   ]
  },
  {
   "attachments": {},
   "cell_type": "markdown",
   "metadata": {},
   "source": [
    "Union de pacientes programas con las empresas"
   ]
  },
  {
   "cell_type": "code",
   "execution_count": 8,
   "metadata": {
    "notebookRunGroups": {
     "groupValue": "1"
    }
   },
   "outputs": [
    {
     "data": {
      "text/plain": [
       "(1284626, 12)"
      ]
     },
     "execution_count": 8,
     "metadata": {},
     "output_type": "execute_result"
    }
   ],
   "source": [
    "#Union de Pacientes Programas y Programas por empresa\n",
    "empresas_unidas = pd.merge(\n",
    "    left=Paciente_Programas_SF,\n",
    "    right=Programas_pacientes,\n",
    "    how=\"left\",\n",
    "    left_on=\"Programas_por_Empresas__c\",\n",
    "    right_on=\"Programas_por_Empresas__c\",\n",
    ")\n",
    "empresas_unidas.shape"
   ]
  },
  {
   "cell_type": "code",
   "execution_count": 9,
   "metadata": {
    "notebookRunGroups": {
     "groupValue": "1"
    }
   },
   "outputs": [
    {
     "data": {
      "text/plain": [
       "(1284626, 21)"
      ]
     },
     "execution_count": 9,
     "metadata": {},
     "output_type": "execute_result"
    }
   ],
   "source": [
    "empresas_unidas = pd.merge(\n",
    "    left=empresas_unidas,\n",
    "    right=Pacientes_SF,\n",
    "    how=\"left\",\n",
    "    left_on=\"Paciente__c\",\n",
    "    right_on=\"Id Account Paciente\",\n",
    ")\n",
    "empresas_unidas.shape"
   ]
  },
  {
   "cell_type": "code",
   "execution_count": 10,
   "metadata": {
    "notebookRunGroups": {
     "groupValue": "1"
    }
   },
   "outputs": [
    {
     "data": {
      "text/html": [
       "<div>\n",
       "<style scoped>\n",
       "    .dataframe tbody tr th:only-of-type {\n",
       "        vertical-align: middle;\n",
       "    }\n",
       "\n",
       "    .dataframe tbody tr th {\n",
       "        vertical-align: top;\n",
       "    }\n",
       "\n",
       "    .dataframe thead th {\n",
       "        text-align: right;\n",
       "    }\n",
       "</style>\n",
       "<table border=\"1\" class=\"dataframe\">\n",
       "  <thead>\n",
       "    <tr style=\"text-align: right;\">\n",
       "      <th></th>\n",
       "      <th>Id Pacientes Programas</th>\n",
       "      <th>Paciente__c</th>\n",
       "      <th>Programas_por_Empresas__c</th>\n",
       "      <th>Id Account Empresa</th>\n",
       "      <th>Nombre Empresa</th>\n",
       "      <th>Holding</th>\n",
       "      <th>Campaña</th>\n",
       "      <th>Empleador</th>\n",
       "      <th>Poliza</th>\n",
       "      <th>Id Account Paciente</th>\n",
       "      <th>Rut</th>\n",
       "      <th>Nombre</th>\n",
       "      <th>Ocupacion</th>\n",
       "      <th>Cargo</th>\n",
       "      <th>Departamento</th>\n",
       "      <th>Sexo</th>\n",
       "      <th>Telefono</th>\n",
       "      <th>Tipo de Documento</th>\n",
       "      <th>Codigo EMP</th>\n",
       "      <th>Codigo A</th>\n",
       "    </tr>\n",
       "  </thead>\n",
       "  <tbody>\n",
       "    <tr>\n",
       "      <th>0</th>\n",
       "      <td>a1Y8c00000C5asnEAB</td>\n",
       "      <td>0018c00002amLbpAAE</td>\n",
       "      <td>a1W8c000007vDPvEAM</td>\n",
       "      <td>0018c00002axQaeAAE</td>\n",
       "      <td>Serv. De Comerc. Y Ases. Callbusiness SPA</td>\n",
       "      <td>DBCH - CNSTD 2019</td>\n",
       "      <td>MetLife</td>\n",
       "      <td>Serv. De Comerc. Y Ases. Callbusiness SPA</td>\n",
       "      <td>340016490</td>\n",
       "      <td>0018c00002amLbpAAE</td>\n",
       "      <td>224488556</td>\n",
       "      <td>Genesis Antonia Gutierrez Abarca</td>\n",
       "      <td>None</td>\n",
       "      <td>None</td>\n",
       "      <td>None</td>\n",
       "      <td>Mujer</td>\n",
       "      <td>967786319</td>\n",
       "      <td>RUT</td>\n",
       "      <td>EMP6008</td>\n",
       "      <td>A-0173</td>\n",
       "    </tr>\n",
       "    <tr>\n",
       "      <th>1</th>\n",
       "      <td>a1Y8c00000C5asoEAB</td>\n",
       "      <td>0018c00002amLbqAAE</td>\n",
       "      <td>a1W8c000007vDSpEAM</td>\n",
       "      <td>0018c00002axQecAAE</td>\n",
       "      <td>Clínica Alemana</td>\n",
       "      <td>Clínica Alemana</td>\n",
       "      <td>MetLife</td>\n",
       "      <td>Clínica Alemana</td>\n",
       "      <td>340006119</td>\n",
       "      <td>0018c00002amLbqAAE</td>\n",
       "      <td>113376066</td>\n",
       "      <td>Claudia Silva</td>\n",
       "      <td>None</td>\n",
       "      <td>None</td>\n",
       "      <td>None</td>\n",
       "      <td>Mujer</td>\n",
       "      <td>None</td>\n",
       "      <td>RUT</td>\n",
       "      <td>EMP6274</td>\n",
       "      <td>A-0353</td>\n",
       "    </tr>\n",
       "    <tr>\n",
       "      <th>2</th>\n",
       "      <td>a1Y8c00000C5aspEAB</td>\n",
       "      <td>0018c00002amLbrAAE</td>\n",
       "      <td>a1W8c000007vDSpEAM</td>\n",
       "      <td>0018c00002axQecAAE</td>\n",
       "      <td>Clínica Alemana</td>\n",
       "      <td>Clínica Alemana</td>\n",
       "      <td>MetLife</td>\n",
       "      <td>Clínica Alemana</td>\n",
       "      <td>340006119</td>\n",
       "      <td>0018c00002amLbrAAE</td>\n",
       "      <td>79476161</td>\n",
       "      <td>Maria Lorenza Garay</td>\n",
       "      <td>None</td>\n",
       "      <td>None</td>\n",
       "      <td>None</td>\n",
       "      <td>Mujer</td>\n",
       "      <td>None</td>\n",
       "      <td>RUT</td>\n",
       "      <td>EMP6274</td>\n",
       "      <td>A-0353</td>\n",
       "    </tr>\n",
       "    <tr>\n",
       "      <th>3</th>\n",
       "      <td>a1Y8c00000C5asqEAB</td>\n",
       "      <td>0018c00002amLbsAAE</td>\n",
       "      <td>a1W8c000007vDSpEAM</td>\n",
       "      <td>0018c00002axQecAAE</td>\n",
       "      <td>Clínica Alemana</td>\n",
       "      <td>Clínica Alemana</td>\n",
       "      <td>MetLife</td>\n",
       "      <td>Clínica Alemana</td>\n",
       "      <td>340006119</td>\n",
       "      <td>0018c00002amLbsAAE</td>\n",
       "      <td>181854227</td>\n",
       "      <td>Estolaza Vidal Jean Patrick Moises</td>\n",
       "      <td>None</td>\n",
       "      <td>None</td>\n",
       "      <td>None</td>\n",
       "      <td>Hombre</td>\n",
       "      <td>953757757</td>\n",
       "      <td>RUT</td>\n",
       "      <td>EMP6274</td>\n",
       "      <td>A-0353</td>\n",
       "    </tr>\n",
       "    <tr>\n",
       "      <th>4</th>\n",
       "      <td>a1Y8c00000C5asrEAB</td>\n",
       "      <td>0018c00002amLc2AAE</td>\n",
       "      <td>a1W8c000007vDSpEAM</td>\n",
       "      <td>0018c00002axQecAAE</td>\n",
       "      <td>Clínica Alemana</td>\n",
       "      <td>Clínica Alemana</td>\n",
       "      <td>MetLife</td>\n",
       "      <td>Clínica Alemana</td>\n",
       "      <td>340006119</td>\n",
       "      <td>0018c00002amLc2AAE</td>\n",
       "      <td>126899823</td>\n",
       "      <td>Rivas Correa Claudia</td>\n",
       "      <td>None</td>\n",
       "      <td>None</td>\n",
       "      <td>None</td>\n",
       "      <td>Mujer</td>\n",
       "      <td>982058845</td>\n",
       "      <td>RUT</td>\n",
       "      <td>EMP6274</td>\n",
       "      <td>A-0353</td>\n",
       "    </tr>\n",
       "  </tbody>\n",
       "</table>\n",
       "</div>"
      ],
      "text/plain": [
       "  Id Pacientes Programas         Paciente__c Programas_por_Empresas__c  \\\n",
       "0     a1Y8c00000C5asnEAB  0018c00002amLbpAAE        a1W8c000007vDPvEAM   \n",
       "1     a1Y8c00000C5asoEAB  0018c00002amLbqAAE        a1W8c000007vDSpEAM   \n",
       "2     a1Y8c00000C5aspEAB  0018c00002amLbrAAE        a1W8c000007vDSpEAM   \n",
       "3     a1Y8c00000C5asqEAB  0018c00002amLbsAAE        a1W8c000007vDSpEAM   \n",
       "4     a1Y8c00000C5asrEAB  0018c00002amLc2AAE        a1W8c000007vDSpEAM   \n",
       "\n",
       "   Id Account Empresa                             Nombre Empresa  \\\n",
       "0  0018c00002axQaeAAE  Serv. De Comerc. Y Ases. Callbusiness SPA   \n",
       "1  0018c00002axQecAAE                            Clínica Alemana   \n",
       "2  0018c00002axQecAAE                            Clínica Alemana   \n",
       "3  0018c00002axQecAAE                            Clínica Alemana   \n",
       "4  0018c00002axQecAAE                            Clínica Alemana   \n",
       "\n",
       "             Holding  Campaña                                  Empleador  \\\n",
       "0  DBCH - CNSTD 2019  MetLife  Serv. De Comerc. Y Ases. Callbusiness SPA   \n",
       "1    Clínica Alemana  MetLife                            Clínica Alemana   \n",
       "2    Clínica Alemana  MetLife                            Clínica Alemana   \n",
       "3    Clínica Alemana  MetLife                            Clínica Alemana   \n",
       "4    Clínica Alemana  MetLife                            Clínica Alemana   \n",
       "\n",
       "      Poliza Id Account Paciente        Rut  \\\n",
       "0  340016490  0018c00002amLbpAAE  224488556   \n",
       "1  340006119  0018c00002amLbqAAE  113376066   \n",
       "2  340006119  0018c00002amLbrAAE   79476161   \n",
       "3  340006119  0018c00002amLbsAAE  181854227   \n",
       "4  340006119  0018c00002amLc2AAE  126899823   \n",
       "\n",
       "                               Nombre Ocupacion Cargo Departamento    Sexo  \\\n",
       "0    Genesis Antonia Gutierrez Abarca      None  None         None   Mujer   \n",
       "1                       Claudia Silva      None  None         None   Mujer   \n",
       "2                 Maria Lorenza Garay      None  None         None   Mujer   \n",
       "3  Estolaza Vidal Jean Patrick Moises      None  None         None  Hombre   \n",
       "4                Rivas Correa Claudia      None  None         None   Mujer   \n",
       "\n",
       "    Telefono Tipo de Documento Codigo EMP Codigo A  \n",
       "0  967786319               RUT    EMP6008   A-0173  \n",
       "1       None               RUT    EMP6274   A-0353  \n",
       "2       None               RUT    EMP6274   A-0353  \n",
       "3  953757757               RUT    EMP6274   A-0353  \n",
       "4  982058845               RUT    EMP6274   A-0353  "
      ]
     },
     "execution_count": 10,
     "metadata": {},
     "output_type": "execute_result"
    }
   ],
   "source": [
    "empresas_unidas = empresas_unidas.rename(\n",
    "    columns={\n",
    "        \"Id\": \"Id Pacientes Programas\"       \n",
    "    }\n",
    ")\n",
    "empresas_unidas = empresas_unidas[\n",
    "    [\n",
    "        \"Id Pacientes Programas\",\n",
    "        \"Paciente__c\",\n",
    "        \"Programas_por_Empresas__c\",\n",
    "        'Id Account Empresa',\n",
    "        'Nombre Empresa',\n",
    "        'Holding',\n",
    "        'Campaña',\n",
    "        'Empleador',\n",
    "        'Poliza',\n",
    "        'Id Account Paciente',\n",
    "        'Rut',\n",
    "        'Nombre',\n",
    "        'Ocupacion',\n",
    "        'Cargo',\n",
    "        'Departamento',\n",
    "        'Sexo',\n",
    "        'Telefono',\n",
    "        'Tipo de Documento',\n",
    "        'Codigo EMP',\n",
    "        'Codigo A'\n",
    "\n",
    "\n",
    "    ]]\n",
    "empresas_unidas.head()"
   ]
  },
  {
   "attachments": {},
   "cell_type": "markdown",
   "metadata": {},
   "source": [
    "Terminado la visualizacion de las empresas y pacientes que se muestran en los reportes\n"
   ]
  },
  {
   "attachments": {},
   "cell_type": "markdown",
   "metadata": {},
   "source": [
    "Descarga desde Citas de Servicios"
   ]
  },
  {
   "cell_type": "code",
   "execution_count": 11,
   "metadata": {
    "notebookRunGroups": {
     "groupValue": "1"
    }
   },
   "outputs": [
    {
     "data": {
      "text/plain": [
       "(8965, 8)"
      ]
     },
     "execution_count": 11,
     "metadata": {},
     "output_type": "execute_result"
    }
   ],
   "source": [
    "# Citas de Servicio\n",
    "results = sf.query_all(\n",
    "    \"\"\"\n",
    "    SELECT Id, clinica__c,AccountId,CreatedDate,RUT__c,Work_TypeGroup__c,Status,Interacci_n__c,AppointmentNumber,Tipo_de_la_cita__c from ServiceAppointment\n",
    "    \"\"\"\n",
    ")\n",
    "\n",
    "\n",
    "Citas_de_servicio = pd.DataFrame(results[\"records\"])\n",
    "Citas_de_servicio['Empresas'] = np.nan\n",
    "#Citas_de_servicio['RUT__c'].map(pacientessf_empresas.set_index('IdentificationId__pc_x',verify_integrity=False)['Name']) \n",
    "Citas_de_servicio['Empresas Id'] = np.nan\n",
    "Citas_de_servicio = Citas_de_servicio[\n",
    "    [\n",
    "        \"AppointmentNumber\",        \n",
    "        \"RUT__c\",  \n",
    "        'Empresas',      \n",
    "        \"CreatedDate\",\n",
    "        \"Tipo_de_la_cita__c\",\n",
    "        'Empresas Id',        \n",
    "        \"AccountId\",\n",
    "        'Clinica__c'\n",
    "        \n",
    "    ]\n",
    "]\n",
    "Citas_de_servicio.shape\n"
   ]
  },
  {
   "cell_type": "code",
   "execution_count": 12,
   "metadata": {
    "notebookRunGroups": {
     "groupValue": "1"
    }
   },
   "outputs": [
    {
     "data": {
      "text/plain": [
       "(8965, 8)"
      ]
     },
     "execution_count": 12,
     "metadata": {},
     "output_type": "execute_result"
    }
   ],
   "source": [
    "# Citas de Servicio Orientacion\n",
    "results = sf.query_all(\n",
    "    \"\"\"\n",
    "    SELECT Id, AccountId,CreatedDate,RUT__c,WorkTypeId,Work_TypeGroup__c,Status,Interacci_n__c,Tipo_de_la_cita__c,AppointmentNumber from ServiceAppointment\n",
    "    \"\"\"\n",
    ")\n",
    "Citas_de_servicio2 = pd.DataFrame(results[\"records\"])\n",
    "Citas_de_servicio2['Clinica__c'] = 'Orientación Médica'\n",
    "Citas_de_servicio2['Empresas'] = np.nan\n",
    "Citas_de_servicio2['Empresas Id'] = np.nan\n",
    "Citas_de_servicio2 = Citas_de_servicio2[\n",
    "    [\n",
    "        \"AppointmentNumber\",        \n",
    "        \"RUT__c\",  \n",
    "        'Empresas',      \n",
    "        \"CreatedDate\",\n",
    "        \"Tipo_de_la_cita__c\",\n",
    "        'Empresas Id',       \n",
    "        \"AccountId\",\n",
    "        'Clinica__c',\n",
    "        \n",
    "    ]\n",
    "]\n",
    "Citas_de_servicio2.shape\n"
   ]
  },
  {
   "cell_type": "code",
   "execution_count": 13,
   "metadata": {
    "notebookRunGroups": {
     "groupValue": "1"
    }
   },
   "outputs": [
    {
     "data": {
      "text/plain": [
       "(17930, 8)"
      ]
     },
     "execution_count": 13,
     "metadata": {},
     "output_type": "execute_result"
    }
   ],
   "source": [
    "#unir dos citas\n",
    "Gran_Citas_deservicio = pd.concat([Citas_de_servicio, Citas_de_servicio2], axis=0)\n",
    "Gran_Citas_deservicio = Gran_Citas_deservicio.rename(\n",
    "    columns={\n",
    "        \"AppointmentNumber\": \"Codigo Ficha\",\n",
    "        \"RUT__c\": \"Rut\",\n",
    "        \"Empresas\": \"Empleador\",\n",
    "        \"CreatedDate\": \"Fecha\",\n",
    "        \"Tipo_de_la_cita__c\": \"Canal\",\n",
    "        \"Empresas Id\": \"Cod. Empresa\",\n",
    "        \"AccountId\": \"Id Paciente\",        \n",
    "        'Clinica__c':'Clínica'\n",
    "    }\n",
    ")\n",
    "\n",
    "Gran_Citas_deservicio.shape"
   ]
  },
  {
   "cell_type": "code",
   "execution_count": 14,
   "metadata": {
    "notebookRunGroups": {
     "groupValue": "1"
    }
   },
   "outputs": [
    {
     "data": {
      "text/plain": [
       "(1078, 8)"
      ]
     },
     "execution_count": 14,
     "metadata": {},
     "output_type": "execute_result"
    }
   ],
   "source": [
    "#Clinica_deporte\n",
    "results = sf.query_all(\n",
    "    \"\"\"\n",
    "   SELECT id,Name,Rut__c,Nombre_Empresa__c,CreatedDate,Canal__c, Empresa__c, Account__c from Ficha_Cl_nica_Deporte__c\n",
    "     \"\"\"\n",
    ")\n",
    "ficha_deporte = pd.DataFrame(results[\"records\"])\n",
    "\n",
    "ficha_deporte = ficha_deporte[\n",
    "    [\n",
    "        \"Name\",\n",
    "        \"Rut__c\",\n",
    "        \"Nombre_Empresa__c\",\n",
    "        \"CreatedDate\",\n",
    "        \"Canal__c\",\n",
    "        \"Empresa__c\",\n",
    "        \"Account__c\",\n",
    "        \n",
    "    ]\n",
    "]\n",
    "ficha_deporte['clinica'] = 'Deporte'\n",
    "ficha_deporte = ficha_deporte.rename(\n",
    "    columns={\n",
    "        \"Name\": \"Codigo Ficha\",\n",
    "        \"Rut__c\": \"Rut\",\n",
    "        \"Nombre_Empresa__c\": \"Empleador\",\n",
    "        \"CreatedDate\": \"Fecha\",\n",
    "        \"Canal__c\": \"Canal\",\n",
    "        \"Empresa__c\": \"Cod. Empresa\",\n",
    "        \"Account__c\": \"Id Paciente\",        \n",
    "        'clinica':'Clínica'\n",
    "    }\n",
    ")\n",
    "ficha_deporte.shape\n"
   ]
  },
  {
   "cell_type": "code",
   "execution_count": 15,
   "metadata": {
    "notebookRunGroups": {
     "groupValue": "1"
    }
   },
   "outputs": [
    {
     "data": {
      "text/plain": [
       "(2429, 8)"
      ]
     },
     "execution_count": 15,
     "metadata": {},
     "output_type": "execute_result"
    }
   ],
   "source": [
    "# Clinica Nutricion\n",
    "results = sf.query_all(\n",
    "    \"\"\"\n",
    "   select  Name, RUT__c, Nombre_Empresa__c, CreatedDate, Canal__c, Empresa__c, Account__c from Ficha_Clinica_Nutrici_n__c \n",
    "     \"\"\"\n",
    ")\n",
    "ficha_nutricion = pd.DataFrame(results[\"records\"])\n",
    "\n",
    "ficha_nutricion = ficha_nutricion[\n",
    "    [\n",
    "        \"Name\",\n",
    "        \"RUT__c\",\n",
    "        \"Nombre_Empresa__c\",\n",
    "        \"CreatedDate\",\n",
    "        \"Canal__c\",\n",
    "        \"Empresa__c\",\n",
    "        \"Account__c\",\n",
    "        \n",
    "    ]\n",
    "]\n",
    "ficha_nutricion[\"clinica\"] = \"Nutrición\"\n",
    "\n",
    "ficha_nutricion = ficha_nutricion.rename(\n",
    "    columns={\n",
    "        \"Name\": \"Codigo Ficha\",\n",
    "        \"RUT__c\": \"Rut\",\n",
    "        \"Nombre_Empresa__c\": \"Empleador\",\n",
    "        \"CreatedDate\": \"Fecha\",\n",
    "        \"Canal__c\": \"Canal\",\n",
    "        \"Empresa__c\": \"Cod. Empresa\",\n",
    "        \"Account__c\": \"Id Paciente\",\n",
    "        'clinica':'Clínica'\n",
    "    }\n",
    ")\n",
    "\n",
    "\n",
    "ficha_nutricion.shape"
   ]
  },
  {
   "cell_type": "code",
   "execution_count": 16,
   "metadata": {
    "notebookRunGroups": {
     "groupValue": "1"
    }
   },
   "outputs": [
    {
     "data": {
      "text/plain": [
       "(5, 8)"
      ]
     },
     "execution_count": 16,
     "metadata": {},
     "output_type": "execute_result"
    }
   ],
   "source": [
    "#Clinica AppSex\n",
    "results = sf.query_all(\n",
    "    \"\"\"\n",
    "   select  Name, Rut__c, Nombre_Empresa__c, CreatedDate, Canal__c, Empresa__c, Account__c, RecordTypeId from Ficha_Cl_nica_ApsSex__c \n",
    "     \"\"\"\n",
    ")\n",
    "ficha_Apssex = pd.DataFrame(results[\"records\"])\n",
    "\n",
    "ficha_Apssex = ficha_Apssex[\n",
    "    [\n",
    "        \"Name\",\n",
    "        \"Rut__c\",\n",
    "        \"Nombre_Empresa__c\",\n",
    "        \"CreatedDate\",\n",
    "        \"Canal__c\",\n",
    "        \"Empresa__c\",\n",
    "        \"Account__c\",\n",
    "        \n",
    "    ]\n",
    "]\n",
    "ficha_Apssex['clinica'] = 'Asesoría Psicologíca en Salud Sexual'\n",
    "ficha_Apssex = ficha_Apssex.rename(\n",
    "    columns={\n",
    "        \"Name\": \"Codigo Ficha\",\n",
    "        \"Rut__c\": \"Rut\",\n",
    "        \"Nombre_Empresa__c\": \"Empleador\",\n",
    "        \"CreatedDate\": \"Fecha\",\n",
    "        \"Canal__c\": \"Canal\",\n",
    "        \"Empresa__c\": \"Cod. Empresa\",\n",
    "        \"Account__c\": \"Id Paciente\",\n",
    "        'clinica':'Clínica'\n",
    "    }\n",
    ")\n",
    "\n",
    "ficha_Apssex.shape"
   ]
  },
  {
   "cell_type": "code",
   "execution_count": 17,
   "metadata": {
    "notebookRunGroups": {
     "groupValue": "1"
    }
   },
   "outputs": [
    {
     "data": {
      "text/plain": [
       "(1700, 9)"
      ]
     },
     "execution_count": 17,
     "metadata": {},
     "output_type": "execute_result"
    }
   ],
   "source": [
    "# Clinica Psicologia\n",
    "results = sf.query_all(\n",
    "    \"\"\"\n",
    "   select  Name, Rut__c, Nombre_Empresa__c, CreatedDate, Canal__c, Empresa__c, Account__c, RecordTypeId,Motivo_de_consulta_manifiesto__c from Ficha_Cl_nica_Asistencia_Emocional__c \n",
    "     \"\"\"\n",
    ")\n",
    "ficha_Psicologia = pd.DataFrame(results[\"records\"])\n",
    "\n",
    "ficha_Psicologia = ficha_Psicologia[\n",
    "    [\n",
    "        \"Name\",\n",
    "        \"Rut__c\",\n",
    "        \"Nombre_Empresa__c\",\n",
    "        \"CreatedDate\",\n",
    "        \"Canal__c\",\n",
    "        \"Empresa__c\",\n",
    "        \"Account__c\",\n",
    "        \"Motivo_de_consulta_manifiesto__c\",\n",
    "    ]\n",
    "]\n",
    "ficha_Psicologia[\"clinica\"] = \"Psicología\"\n",
    "ficha_Psicologia = ficha_Psicologia.rename(\n",
    "    columns={\n",
    "        \"Name\": \"Codigo Ficha\",\n",
    "        \"Rut__c\": \"Rut\",\n",
    "        \"Nombre_Empresa__c\": \"Empleador\",\n",
    "        \"CreatedDate\": \"Fecha\",\n",
    "        \"Canal__c\": \"Canal\",\n",
    "        \"Empresa__c\": \"Cod. Empresa\",\n",
    "        \"Account__c\": \"Id Paciente\",\n",
    "        \"clinica\": \"Clínica\",\n",
    "        \"Motivo_de_consulta_manifiesto__c\": \"Motivo de consulta\",\n",
    "    }\n",
    ")\n",
    "ficha_Psicologia.shape"
   ]
  },
  {
   "cell_type": "code",
   "execution_count": 18,
   "metadata": {
    "notebookRunGroups": {
     "groupValue": "1"
    }
   },
   "outputs": [
    {
     "data": {
      "text/plain": [
       "(241, 8)"
      ]
     },
     "execution_count": 18,
     "metadata": {},
     "output_type": "execute_result"
    }
   ],
   "source": [
    "#Clinica Sueño\n",
    "results = sf.query_all(\n",
    "    \"\"\"\n",
    "   select  Name, RUT__c, Nombre_Empresa__c, CreatedDate, Canal__c, Empresa__c, Account__c, RecordTypeId from Ficha_Cl_nica_del_Sue_o__c \n",
    "     \"\"\"\n",
    ")\n",
    "ficha_Sueno = pd.DataFrame(results[\"records\"])\n",
    "ficha_Sueno = ficha_Sueno[\n",
    "    [\n",
    "        \"Name\",\n",
    "        \"Rut__c\",\n",
    "        \"Nombre_Empresa__c\",\n",
    "        \"CreatedDate\",\n",
    "        \"Canal__c\",\n",
    "        \"Empresa__c\",\n",
    "        \"Account__c\",\n",
    "    ]\n",
    "]\n",
    "ficha_Sueno['clinica'] = 'Clínica Del Sueño'\n",
    "ficha_Sueno = ficha_Sueno.rename(\n",
    "    columns={\n",
    "        \"Name\": \"Codigo Ficha\",\n",
    "        \"Rut__c\": \"Rut\",\n",
    "        \"Nombre_Empresa__c\": \"Empleador\",\n",
    "        \"CreatedDate\": \"Fecha\",\n",
    "        \"Canal__c\": \"Canal\",\n",
    "        \"Empresa__c\": \"Cod. Empresa\",\n",
    "        \"Account__c\": \"Id Paciente\",\n",
    "        'clinica':'Clínica'\n",
    "    }\n",
    ")\n",
    "ficha_Sueno.shape"
   ]
  },
  {
   "cell_type": "code",
   "execution_count": 19,
   "metadata": {
    "notebookRunGroups": {
     "groupValue": "1"
    }
   },
   "outputs": [
    {
     "data": {
      "text/plain": [
       "(975, 8)"
      ]
     },
     "execution_count": 19,
     "metadata": {},
     "output_type": "execute_result"
    }
   ],
   "source": [
    "#Clinica PAciente Cronico\n",
    "results = sf.query_all(\n",
    "    \"\"\"\n",
    "   select  Name, RUT__c, Nombre_Empresa__c, CreatedDate, Canal__c, Empresa__c, Account__c from Ficha_Cl_nica_Seg_Paciente_Cr_nico__c  \n",
    "     \"\"\"\n",
    ")\n",
    "ficha_Cronico = pd.DataFrame(results[\"records\"])\n",
    "ficha_Cronico = ficha_Cronico[\n",
    "    [\n",
    "        \"Name\",\n",
    "        \"Rut__c\",\n",
    "        \"Nombre_Empresa__c\",\n",
    "        \"CreatedDate\",\n",
    "        \"Canal__c\",\n",
    "        \"Empresa__c\",\n",
    "        \"Account__c\",\n",
    "    ]\n",
    "]\n",
    "ficha_Cronico['clinica'] = 'Pacientes Crónicos'\n",
    "ficha_Cronico = ficha_Cronico.rename(\n",
    "    columns={\n",
    "        \"Name\": \"Codigo Ficha\",\n",
    "        \"Rut__c\": \"Rut\",\n",
    "        \"Nombre_Empresa__c\": \"Empleador\",\n",
    "        \"CreatedDate\": \"Fecha\",\n",
    "        \"Canal__c\": \"Canal\",\n",
    "        \"Empresa__c\": \"Cod. Empresa\",\n",
    "        \"Account__c\": \"Id Paciente\",\n",
    "        'clinica':'Clínica'\n",
    "    }\n",
    ")\n",
    "ficha_Cronico.shape"
   ]
  },
  {
   "cell_type": "code",
   "execution_count": 20,
   "metadata": {
    "notebookRunGroups": {
     "groupValue": "1"
    }
   },
   "outputs": [
    {
     "data": {
      "text/plain": [
       "(2843, 8)"
      ]
     },
     "execution_count": 20,
     "metadata": {},
     "output_type": "execute_result"
    }
   ],
   "source": [
    "#Clinica Telemedicina\n",
    "results = sf.query_all(\n",
    "    \"\"\"\n",
    "   select  Name, RUT__c, Nombre_Empresa__c, CreatedDate, Canal__c, Empresa__c, Account__c from Ficha_Cl_nica_Telemedicina__c   \n",
    "     \"\"\"\n",
    ")\n",
    "ficha_Telemedicina = pd.DataFrame(results[\"records\"])\n",
    "ficha_Telemedicina = ficha_Telemedicina[\n",
    "    [\n",
    "        \"Name\",\n",
    "        \"Rut__c\",\n",
    "        \"Nombre_Empresa__c\",\n",
    "        \"CreatedDate\",\n",
    "        \"Canal__c\",\n",
    "        \"Empresa__c\",\n",
    "        \"Account__c\"\n",
    "    ]\n",
    "]\n",
    "ficha_Telemedicina['clinica'] = 'Telemedicina'\n",
    "ficha_Telemedicina = ficha_Telemedicina.rename(\n",
    "    columns={\n",
    "        \"Name\": \"Codigo Ficha\",\n",
    "        \"Rut__c\": \"Rut\",\n",
    "        \"Nombre_Empresa__c\": \"Empleador\",\n",
    "        \"CreatedDate\": \"Fecha\",\n",
    "        \"Canal__c\": \"Canal\",\n",
    "        \"Empresa__c\": \"Cod. Empresa\",\n",
    "        \"Account__c\": \"Id Paciente\",        \n",
    "        'clinica':'Clínica'\n",
    "    }\n",
    ")\n",
    "ficha_Telemedicina.shape"
   ]
  },
  {
   "cell_type": "code",
   "execution_count": 21,
   "metadata": {
    "notebookRunGroups": {
     "groupValue": "1"
    }
   },
   "outputs": [
    {
     "data": {
      "text/plain": [
       "(23, 8)"
      ]
     },
     "execution_count": 21,
     "metadata": {},
     "output_type": "execute_result"
    }
   ],
   "source": [
    "#Clinica Veterinaria\n",
    "results = sf.query_all(\n",
    "    \"\"\"\n",
    "   select  Name, RUT__c, Nombre_Empresa__c, CreatedDate, Canal__c, Empresa__c, Account__c from Ficha_Cl_nica_Veterinaria__c    \n",
    "     \"\"\"\n",
    ")\n",
    "ficha_Veterinaria = pd.DataFrame(results[\"records\"])\n",
    "ficha_Veterinaria = ficha_Veterinaria[\n",
    "    [\n",
    "        \"Name\",\n",
    "        \"Rut__c\",\n",
    "        \"Nombre_Empresa__c\",\n",
    "        \"CreatedDate\",\n",
    "        \"Canal__c\",\n",
    "        \"Empresa__c\",\n",
    "        \"Account__c\"\n",
    "    ]\n",
    "]\n",
    "ficha_Veterinaria['clinica'] = 'Veterinaria'\n",
    "ficha_Veterinaria = ficha_Veterinaria.rename(\n",
    "    columns={\n",
    "        \"Name\": \"Codigo Ficha\",\n",
    "        \"Rut__c\": \"Rut\",\n",
    "        \"Nombre_Empresa__c\": \"Empleador\",\n",
    "        \"CreatedDate\": \"Fecha\",\n",
    "        \"Canal__c\": \"Canal\",\n",
    "        \"Empresa__c\": \"Cod. Empresa\",\n",
    "        \"Account__c\": \"Id Paciente\",\n",
    "        'clinica':'Clínica'\n",
    "    }\n",
    ")\n",
    "ficha_Veterinaria.shape"
   ]
  },
  {
   "cell_type": "code",
   "execution_count": 22,
   "metadata": {
    "notebookRunGroups": {
     "groupValue": "1"
    }
   },
   "outputs": [
    {
     "data": {
      "text/plain": [
       "(35, 8)"
      ]
     },
     "execution_count": 22,
     "metadata": {},
     "output_type": "execute_result"
    }
   ],
   "source": [
    "#Clinica Orientacion\n",
    "results = sf.query_all(\n",
    "    \"\"\"\n",
    "   select  Name, RUT__c, Nombre_Empresa__c, CreatedDate, Canal__c, Empresa__c, Account__c from Ficha_Orientaci_n_Medica__c     \n",
    "     \"\"\"\n",
    ")\n",
    "ficha_Orientacion = pd.DataFrame(results[\"records\"])\n",
    "ficha_Orientacion = ficha_Orientacion[\n",
    "    [\n",
    "        \"Name\",\n",
    "        \"Rut__c\",\n",
    "        \"Nombre_Empresa__c\",\n",
    "        \"CreatedDate\",\n",
    "        \"Canal__c\",\n",
    "        \"Empresa__c\",\n",
    "        \"Account__c\",\n",
    "        \n",
    "    ]\n",
    "]\n",
    "ficha_Orientacion['clinica'] = 'Orientación Médica'\n",
    "ficha_Orientacion = ficha_Orientacion.rename(\n",
    "    columns={\n",
    "        \"Name\": \"Codigo Ficha\",\n",
    "        \"Rut__c\": \"Rut\",\n",
    "        \"Nombre_Empresa__c\": \"Empleador\",\n",
    "        \"CreatedDate\": \"Fecha\",\n",
    "        \"Canal__c\": \"Canal\",\n",
    "        \"Empresa__c\": \"Cod. Empresa\",\n",
    "        \"Account__c\": \"Id Paciente\",\n",
    "        'clinica':'Clínica'\n",
    "    }\n",
    ")\n",
    "ficha_Orientacion.shape"
   ]
  },
  {
   "cell_type": "code",
   "execution_count": 23,
   "metadata": {
    "notebookRunGroups": {
     "groupValue": "1"
    }
   },
   "outputs": [
    {
     "data": {
      "text/plain": [
       "(401, 8)"
      ]
     },
     "execution_count": 23,
     "metadata": {},
     "output_type": "execute_result"
    }
   ],
   "source": [
    "#Clinica Front\n",
    "results = sf.query_all(\n",
    "    \"\"\"\n",
    "   select  Name, RUT__c, Nombre_Empresa__c, CreatedDate, Canal__c, Empresa__c, Account__c from Ficha_Front__c     \n",
    "     \"\"\"\n",
    ")\n",
    "ficha_Front = pd.DataFrame(results[\"records\"])\n",
    "\n",
    "ficha_Front = ficha_Front[\n",
    "    [\n",
    "        \"Name\",\n",
    "        \"Rut__c\",\n",
    "        \"Nombre_Empresa__c\",\n",
    "        \"CreatedDate\",\n",
    "        \"Canal__c\",\n",
    "        \"Empresa__c\",\n",
    "        \"Account__c\"\n",
    "    ]\n",
    "]\n",
    "ficha_Front['clinica'] = 'Orientación Médica'\n",
    "ficha_Front = ficha_Front.rename(\n",
    "    columns={\n",
    "        \"Name\": \"Codigo Ficha\",\n",
    "        \"Rut__c\": \"Rut\",\n",
    "        \"Nombre_Empresa__c\": \"Empleador\",\n",
    "        \"CreatedDate\": \"Fecha\",\n",
    "        \"Canal__c\": \"Canal\",\n",
    "        \"Empresa__c\": \"Cod. Empresa\",\n",
    "        \"Account__c\": \"Id Paciente\",\n",
    "        'clinica':'Clínica'\n",
    "    }\n",
    ")\n",
    "ficha_Front.shape"
   ]
  },
  {
   "cell_type": "code",
   "execution_count": 24,
   "metadata": {
    "notebookRunGroups": {
     "groupValue": "1"
    }
   },
   "outputs": [
    {
     "data": {
      "text/plain": [
       "(1144, 8)"
      ]
     },
     "execution_count": 24,
     "metadata": {},
     "output_type": "execute_result"
    }
   ],
   "source": [
    "#Clinica_general\n",
    "results = sf.query_all(\n",
    "    \"\"\"\n",
    "   select  Name, RUT__c, Nombre_Empresa__c, CreatedDate, Canal__c, Empresa__c,Account__c,   Programa__c   from Ficha_Clinica_General__c \n",
    "     \"\"\"\n",
    ")\n",
    "ficha_general = pd.DataFrame(results[\"records\"])\n",
    "\n",
    "ficha_general = ficha_general[\n",
    "    [\n",
    "        \"Name\",\n",
    "        \"Rut__c\",\n",
    "        \"Nombre_Empresa__c\",\n",
    "        \"CreatedDate\",\n",
    "        \"Canal__c\",\n",
    "        \"Empresa__c\",\n",
    "        \"Account__c\",\n",
    "        'Programa__c'\n",
    "        \n",
    "    ]\n",
    "]\n",
    "\n",
    "ficha_general = ficha_general.rename(\n",
    "    columns={\n",
    "        \"Name\": \"Codigo Ficha\",\n",
    "        \"Rut__c\": \"Rut\",\n",
    "        \"Nombre_Empresa__c\": \"Empleador\",\n",
    "        \"CreatedDate\": \"Fecha\",\n",
    "        \"Canal__c\": \"Canal\",\n",
    "        \"Empresa__c\": \"Cod. Empresa\",\n",
    "        \"Account__c\": \"Id Paciente\",        \n",
    "        'Programa__c':'Clínica'\n",
    "    }\n",
    ")\n",
    "ficha_general.shape\n"
   ]
  },
  {
   "cell_type": "code",
   "execution_count": 25,
   "metadata": {
    "notebookRunGroups": {
     "groupValue": "1"
    }
   },
   "outputs": [
    {
     "data": {
      "text/plain": [
       "(243, 8)"
      ]
     },
     "execution_count": 25,
     "metadata": {},
     "output_type": "execute_result"
    }
   ],
   "source": [
    "#Clinica Ingreso deportivo\n",
    "results = sf.query_all(\n",
    "    \"\"\"\n",
    "   select  Name, RUT__c, Nombre_Empresa__c, CreatedDate, Canal__c, Empresa__c, Account__c from Ficha_Cl_nica_Ingreso_Deportivo__c    \n",
    "     \"\"\"\n",
    ")\n",
    "ficha_Ingreso_dep = pd.DataFrame(results[\"records\"])\n",
    "\n",
    "ficha_Ingreso_dep = ficha_Ingreso_dep[\n",
    "    [\n",
    "        \"Name\",\n",
    "        \"Rut__c\",\n",
    "        \"Nombre_Empresa__c\",\n",
    "        \"CreatedDate\",\n",
    "        \"Canal__c\",\n",
    "        \"Empresa__c\",\n",
    "        \"Account__c\",\n",
    "        \n",
    "    ]\n",
    "]\n",
    "ficha_Ingreso_dep['clinica'] = 'Ingreso Deporte Seguro'\n",
    "ficha_Ingreso_dep = ficha_Ingreso_dep.rename(\n",
    "    columns={\n",
    "        \"Name\": \"Codigo Ficha\",\n",
    "        \"Rut__c\": \"Rut\",\n",
    "        \"Nombre_Empresa__c\": \"Empleador\",\n",
    "        \"CreatedDate\": \"Fecha\",\n",
    "        \"Canal__c\": \"Canal\",\n",
    "        \"Empresa__c\": \"Cod. Empresa\",\n",
    "        \"Account__c\": \"Id Paciente\",\n",
    "        'clinica':'Clínica'\n",
    "    }\n",
    ")\n",
    "ficha_Ingreso_dep.shape"
   ]
  },
  {
   "cell_type": "code",
   "execution_count": 26,
   "metadata": {
    "notebookRunGroups": {
     "groupValue": "1"
    }
   },
   "outputs": [
    {
     "data": {
      "text/plain": [
       "(11117, 9)"
      ]
     },
     "execution_count": 26,
     "metadata": {},
     "output_type": "execute_result"
    }
   ],
   "source": [
    "Clinicas = pd.concat([ficha_Front, ficha_Ingreso_dep,ficha_Orientacion,ficha_Veterinaria,ficha_Telemedicina,ficha_Cronico,ficha_Sueno,ficha_Psicologia,ficha_Apssex,ficha_nutricion,ficha_deporte,ficha_general], axis=0)\n",
    "Clinicas.shape"
   ]
  },
  {
   "cell_type": "code",
   "execution_count": 27,
   "metadata": {
    "notebookRunGroups": {
     "groupValue": "1"
    }
   },
   "outputs": [
    {
     "data": {
      "text/plain": [
       "(29047, 9)"
      ]
     },
     "execution_count": 27,
     "metadata": {},
     "output_type": "execute_result"
    }
   ],
   "source": [
    "Reortes_general = pd.concat([Clinicas,Gran_Citas_deservicio ], axis=0)\n",
    "Reortes_general.shape"
   ]
  },
  {
   "cell_type": "code",
   "execution_count": 28,
   "metadata": {
    "notebookRunGroups": {
     "groupValue": "1"
    }
   },
   "outputs": [],
   "source": [
    "Reortes_general[\"Dia\"] = pd.to_datetime(Reortes_general[\"Fecha\"]).dt.day\n",
    "\n",
    "Reortes_general[\"Mes\"] = pd.to_datetime(Reortes_general[\"Fecha\"]).dt.month\n",
    "\n",
    "Reortes_general[\"semana\"] = pd.to_datetime(Reortes_general[\"Fecha\"]).dt.month_name()\n",
    "\n",
    "Reortes_general[\"Año\"] = pd.to_datetime(Reortes_general[\"Fecha\"]).dt.year\n",
    "\n",
    "\n",
    "# x = date(Citas_de_servicio['Dia'], Citas_de_servicio['Mes'], Citas_de_servicio['Año'] )\n",
    "Reortes_general[\"Fecha_chilena\"] = pd.to_datetime(\n",
    "    Reortes_general[\"Fecha\"], dayfirst=True, yearfirst=False, exact=True\n",
    ")\n",
    "Reortes_general[\"Fecha_chilena2\"] = Reortes_general[\"Fecha_chilena\"].dt.strftime(\n",
    "    \"%d-%m-%Y\"\n",
    ")\n",
    "\n",
    "clinicas_ = {\n",
    "    \"Clínica de Nutrición\": \"Nutrición\",\n",
    "    \"Clínica de Deporte\": \"Deporte\",\n",
    "    \"Clínica de Psicología\": \"Psicología\",\n",
    "    \"Clínica Ingreso Deportivo Seguro\": \"Deporte\",\n",
    "    \"Clínica del Sueño\": \"Clínica Del Sueño\",\n",
    "    \"Clínica Seguimiento Pacientes Crónicos\": \"Pacientes Crónicos\",\n",
    "    \"Orientación Médica\": \"Orientación Médica\",\n",
    "    \"Asesoría Deportiva\": \"Deporte\",\n",
    "    \"Asistencia Emocional\": \"Psicología\",\n",
    "    \"Asistencia Nutricional\": \"Nutrición\",\n",
    "    \"Clínica APSSex\": \"Asesoría Psicologíca en Salud Sexual\",\n",
    "    \"Clínica Del Sueño\": \"Clínica Del Sueño\",\n",
    "    \"Clínica Veterinaria\": \"Veterinaria\",\n",
    "    \"Ingreso Deportivo Seguro\": \"Deporte\",\n",
    "    \"Clínica Mis Primeros Pasos\": \"Mis Primeros Pasos\",\n",
    "}\n",
    "Reortes_general.replace({\"Clínica\": clinicas_}, inplace=True)\n",
    "\n",
    "Canal = {\n",
    "    \"Phone\": \"Teléfono\",\n",
    "    \"Video\": \"Videollamada\",\n",
    "    \"Entrante - Chat\": \"Entrante - Chat Online\",\n",
    "}\n",
    "Reortes_general.replace({\"Canal\": Canal}, inplace=True)\n",
    "\n",
    "\n",
    "Reortes_general[\"Fecha_chilena\"] = Reortes_general[\"Fecha_chilena\"].dt.tz_localize(None)\n",
    "Reortes_general.Rut.fillna(\"0\", inplace=True)\n",
    "\n"
   ]
  },
  {
   "cell_type": "code",
   "execution_count": 29,
   "metadata": {
    "notebookRunGroups": {
     "groupValue": "1"
    }
   },
   "outputs": [
    {
     "data": {
      "text/plain": [
       "(32613, 35)"
      ]
     },
     "execution_count": 29,
     "metadata": {},
     "output_type": "execute_result"
    }
   ],
   "source": [
    "Reportes_con_empresas = pd.merge(\n",
    "    left=Reortes_general,\n",
    "    right=empresas_unidas,\n",
    "    how=\"left\",\n",
    "    left_on=\"Id Paciente\",\n",
    "    right_on=\"Id Account Paciente\",\n",
    ")\n",
    "\n",
    "\n",
    "Reportes_con_empresas.shape"
   ]
  },
  {
   "cell_type": "code",
   "execution_count": 30,
   "metadata": {
    "notebookRunGroups": {
     "groupValue": "1"
    }
   },
   "outputs": [],
   "source": [
    "Reportes_con_empresas['Rut_x'].str.upper()\n",
    "Reportes_con_empresas['Rut_y'].str.upper()\n",
    "\n",
    "Reportes_con_empresas.Empleador_x.fillna(Reportes_con_empresas['Nombre Empresa'], inplace=True)"
   ]
  },
  {
   "attachments": {},
   "cell_type": "markdown",
   "metadata": {},
   "source": [
    "Salida de datos"
   ]
  },
  {
   "cell_type": "code",
   "execution_count": 31,
   "metadata": {
    "notebookRunGroups": {
     "groupValue": "1"
    }
   },
   "outputs": [],
   "source": [
    "Reportes_con_empresas.to_excel(\n",
    "    \"C:/Users/jmartinez/Documents/reportes_completos.xlsx\", index=False\n",
    ")\n",
    "\n",
    "\n",
    "Programas_pacientes.to_excel(\"C:/Users/jmartinez/Documents/Empresas.xlsx\", index=False)\n",
    "reportes = Reportes_con_empresas[\n",
    "    [\n",
    "        \"Codigo Ficha\",\n",
    "        \"Rut_x\",\n",
    "        \"Nombre\",\n",
    "        \"Sexo\",\n",
    "        \"Ocupacion\",\n",
    "        \"Cargo\",\n",
    "        \"Departamento\",\n",
    "        \"Campaña\",\n",
    "        \"Holding\",\n",
    "        \"Empleador_x\",\n",
    "        \"Poliza\",\n",
    "        \"Fecha\",\n",
    "        \"Fecha_chilena\",\n",
    "        \"Fecha_chilena2\",\n",
    "        \"Dia\",\n",
    "        \"Mes\",\n",
    "        \"Año\",\n",
    "        \"Canal\",\n",
    "        \"Clínica\",\n",
    "        \"Motivo de consulta\",\n",
    "        \"Nombre Empresa\",\n",
    "        \"Codigo EMP\",\n",
    "    ]\n",
    "]\n",
    "reportes = reportes.rename(\n",
    "    columns={\n",
    "        \"Rut_x\": \"Rut\",\n",
    "        \"Empleador_x\": \"Empleador\"\n",
    "        \n",
    "    }\n",
    ")\n",
    "reportes.to_excel(\"C:/Users/jmartinez/Documents/reportes.xlsx\", index=False)\n",
    "\n"
   ]
  },
  {
   "cell_type": "code",
   "execution_count": 32,
   "metadata": {},
   "outputs": [],
   "source": [
    "general_todo = reportes[(reportes[\"Empleador\"] == reportes[\"Nombre Empresa\"])]\n",
    "general_todo.to_excel(\"C:/Users/jmartinez/Documents/general.xlsx\", index=False)"
   ]
  },
  {
   "attachments": {},
   "cell_type": "markdown",
   "metadata": {},
   "source": [
    "Banco Estado"
   ]
  },
  {
   "cell_type": "code",
   "execution_count": 33,
   "metadata": {},
   "outputs": [],
   "source": [
    "Banco_Estado = reportes[\n",
    "    (reportes[\"Codigo EMP\"] == \"EMP5906\")\n",
    "    | (reportes[\"Codigo EMP\"] == \"EMP5907\")\n",
    "    | (reportes[\"Codigo EMP\"] == \"EMP6490\")\n",
    "    | (reportes[\"Codigo EMP\"] == \"EMP6754\")\n",
    "    | (reportes[\"Codigo EMP\"] == \"EMP6837\")\n",
    "    | (reportes[\"Codigo EMP\"] == \"EMP6838\")\n",
    "]\n",
    "Banco_Estado.to_excel('F:/Reportes SF/Banco Estado Metlife/Banco_Estado_Base.xlsx', index=False)\n"
   ]
  },
  {
   "attachments": {},
   "cell_type": "markdown",
   "metadata": {},
   "source": [
    "ZURICH"
   ]
  },
  {
   "cell_type": "code",
   "execution_count": 34,
   "metadata": {},
   "outputs": [],
   "source": [
    "Zurich = reportes[\n",
    "    (reportes[\"Campaña\"] == \"Zurich\")\n",
    "    & (reportes[\"Empleador\"] == reportes[\"Nombre Empresa\"])\n",
    "]\n",
    "Zurich.to_excel(\"F:/Reportes SF/Zurich/Zurich_Base.xlsx\", index=False)\n",
    "\n",
    "Amsa = reportes[\n",
    "    (reportes[\"Campaña\"] == \"Zurich\")\n",
    "    & (reportes[\"Empleador\"] == reportes[\"Nombre Empresa\"])\n",
    "    & (reportes[\"Holding\"] == \"Antofagasta Minerals S.A.\")\n",
    "]\n",
    "Amsa.to_excel(\"F:/Reportes SF/Zurich/Amsa.xlsx\", index=False)\n",
    "\n",
    "Bechtel = reportes[\n",
    "    (reportes[\"Campaña\"] == \"Zurich\")\n",
    "    & (reportes[\"Empleador\"] == reportes[\"Nombre Empresa\"])\n",
    "    & (reportes[\"Holding\"] == \"Bechtel\")\n",
    "]\n",
    "Bechtel.to_excel(\"F:/Reportes SF/Zurich/Bechtel.xlsx\", index=False)"
   ]
  },
  {
   "attachments": {},
   "cell_type": "markdown",
   "metadata": {},
   "source": [
    "Pesco"
   ]
  },
  {
   "cell_type": "code",
   "execution_count": 35,
   "metadata": {},
   "outputs": [],
   "source": [
    "Pesco = reportes[\n",
    "    (reportes[\"Campaña\"] == \"Pesco\")\n",
    "    & (reportes[\"Empleador\"] == reportes[\"Nombre Empresa\"])\n",
    "    \n",
    "]\n",
    "Pesco.to_excel(\"F:/Reportes SF/Pesco/Pesco_Base.xlsx\", index=False)\n",
    "\n",
    "    \n"
   ]
  },
  {
   "attachments": {},
   "cell_type": "markdown",
   "metadata": {},
   "source": [
    "Milan Fajanovic"
   ]
  },
  {
   "cell_type": "code",
   "execution_count": 36,
   "metadata": {},
   "outputs": [],
   "source": [
    "Milan = reportes[\n",
    "    (reportes[\"Campaña\"] == \"Milan Fajanovic\")\n",
    "    & (reportes[\"Empleador\"] == reportes[\"Nombre Empresa\"])\n",
    "    \n",
    "]\n",
    "Milan.to_excel(\"F:/Reportes SF/Milan/Milan_Fajanovic_Base.xlsx\", index=False)"
   ]
  },
  {
   "attachments": {},
   "cell_type": "markdown",
   "metadata": {},
   "source": [
    "Wom"
   ]
  },
  {
   "cell_type": "code",
   "execution_count": 37,
   "metadata": {},
   "outputs": [],
   "source": [
    "wom = reportes[\n",
    "    (reportes[\"Campaña\"] == \"MetLife\")\n",
    "    & (reportes[\"Empleador\"] == reportes[\"Nombre Empresa\"])\n",
    "    & (reportes[\"Empleador\"] == \"Wom S.A.\")\n",
    "]\n",
    "wom.to_excel(\"F:/Reportes SF/Wom/Wom_Base.xlsx\", index=False)"
   ]
  },
  {
   "cell_type": "code",
   "execution_count": 38,
   "metadata": {},
   "outputs": [],
   "source": [
    "Forus = reportes[\n",
    "    (reportes[\"Campaña\"] == \"Forus\")\n",
    "    & (reportes[\"Empleador\"] == reportes[\"Nombre Empresa\"])\n",
    "    \n",
    "]\n",
    "Forus.to_excel(\"F:/Reportes SF/Forus/Forus_Base.xlsx\", index=False)"
   ]
  },
  {
   "cell_type": "code",
   "execution_count": 39,
   "metadata": {},
   "outputs": [
    {
     "data": {
      "text/plain": [
       "(1865, 22)"
      ]
     },
     "execution_count": 39,
     "metadata": {},
     "output_type": "execute_result"
    }
   ],
   "source": [
    "Cruz = reportes[\n",
    "    (reportes[\"Campaña\"] == \"Farmacias Cruz Verde\")\n",
    "    & (reportes[\"Empleador\"] == reportes[\"Nombre Empresa\"])\n",
    "    \n",
    "]\n",
    "Cruz.to_excel(\"F:/Reportes SF/Cruz Verde/Cruz_Base.xlsx\", index=False)\n",
    "Cruz.shape"
   ]
  },
  {
   "attachments": {},
   "cell_type": "markdown",
   "metadata": {},
   "source": [
    "METLIFE"
   ]
  },
  {
   "cell_type": "code",
   "execution_count": 40,
   "metadata": {},
   "outputs": [],
   "source": [
    "Metlife = reportes[\n",
    "    (reportes[\"Campaña\"] == \"MetLife\")\n",
    "    & (reportes[\"Empleador\"] == reportes[\"Nombre Empresa\"])\n",
    "]\n",
    "Metlife.to_excel(\"F:/Reportes SF/MetLife/Metlife_Base.xlsx\", index=False)\n",
    "\n",
    "Conosur = reportes[\n",
    "    (reportes[\"Codigo EMP\"] == \"EMP5976\")\n",
    "    | (reportes[\"Codigo EMP\"] == \"EMP5977\")\n",
    "    | (reportes[\"Codigo EMP\"] == \"EMP5978\")\n",
    "    | (reportes[\"Codigo EMP\"] == \"EMP5979\")\n",
    "    | (reportes[\"Codigo EMP\"] == \"EMP5980\")\n",
    "    | (reportes[\"Codigo EMP\"] == \"EMP5981\")\n",
    "    | (reportes[\"Codigo EMP\"] == \"EMP5982\")\n",
    "    | (reportes[\"Codigo EMP\"] == \"EMP5983\")\n",
    "    | (reportes[\"Codigo EMP\"] == \"EMP5984\")\n",
    "    | (reportes[\"Codigo EMP\"] == \"EMP5985\")\n",
    "    | (reportes[\"Codigo EMP\"] == \"EMP5985\")\n",
    "    | (reportes[\"Codigo EMP\"] == \"EMP7431\")\n",
    "    | (reportes[\"Codigo EMP\"] == \"EMP2828\")\n",
    "]\n",
    "Conosur.to_excel(\"F:/Reportes SF/MetLife/Conosur_Base.xlsx\", index=False)"
   ]
  },
  {
   "cell_type": "code",
   "execution_count": 41,
   "metadata": {},
   "outputs": [],
   "source": [
    "Burgos = reportes[\n",
    "    \n",
    "    (reportes[\"Codigo EMP\"] == \"EMP5924\")\n",
    "    | (reportes[\"Codigo EMP\"] == \"EMP5925\")\n",
    "    | (reportes[\"Codigo EMP\"] == \"EMP5926\")\n",
    "    | (reportes[\"Codigo EMP\"] == \"EMP5927\")\n",
    "    | (reportes[\"Codigo EMP\"] == \"EMP5928\")\n",
    "    | (reportes[\"Codigo EMP\"] == \"EMP5971\")\n",
    "    | (reportes[\"Codigo EMP\"] == \"EMP5972\")\n",
    "    | (reportes[\"Codigo EMP\"] == \"EMP5973\")\n",
    "    | (reportes[\"Codigo EMP\"] == \"EMP5974\")\n",
    "    | (reportes[\"Codigo EMP\"] == \"EMP5975\")\n",
    "    | (reportes[\"Codigo EMP\"] == \"EMP7259\")\n",
    "    | (reportes[\"Codigo EMP\"] == \"EMP6536\")\n",
    "    | (reportes[\"Codigo EMP\"] == \"EMP6959\")\n",
    "    | (reportes[\"Codigo EMP\"] == \"EMP6388\")\n",
    "     \n",
    "]\n",
    "\n",
    "Burgos = Burgos[(Burgos[\"Empleador\"] == Burgos[\"Nombre Empresa\"])]\n",
    "Burgos.to_excel(\"F:/Reportes SF/MetLife/Burgos_Base.xlsx\", index=False)"
   ]
  },
  {
   "cell_type": "code",
   "execution_count": 42,
   "metadata": {},
   "outputs": [],
   "source": [
    "Ey = reportes[(reportes[\"Campaña\"] == \"EY\") & (reportes[\"Empleador\"] == reportes[\"Nombre Empresa\"])]\n",
    "Ey.to_excel(\"F:/Reportes SF/EY/EY_Base.xlsx\", index=False)"
   ]
  },
  {
   "cell_type": "code",
   "execution_count": 43,
   "metadata": {},
   "outputs": [],
   "source": [
    "Willis = reportes[\n",
    "    \n",
    "    (reportes[\"Codigo EMP\"] == \"EMP5924\")\n",
    "    | (reportes[\"Codigo EMP\"] == \"EMP5925\")\n",
    "    | (reportes[\"Codigo EMP\"] == \"EMP5926\")\n",
    "    | (reportes[\"Codigo EMP\"] == \"EMP5927\")\n",
    "    | (reportes[\"Codigo EMP\"] == \"EMP5928\")\n",
    "    | (reportes[\"Codigo EMP\"] == \"EMP5971\")\n",
    "    | (reportes[\"Codigo EMP\"] == \"EMP5972\")\n",
    "    | (reportes[\"Codigo EMP\"] == \"EMP5973\")\n",
    "    | (reportes[\"Codigo EMP\"] == \"EMP5974\")\n",
    "    | (reportes[\"Codigo EMP\"] == \"EMP5975\")\n",
    "    | (reportes[\"Codigo EMP\"] == \"EMP7259\")\n",
    "    | (reportes[\"Codigo EMP\"] == \"EMP6536\")\n",
    "    | (reportes[\"Codigo EMP\"] == \"EMP6959\")\n",
    "    | (reportes[\"Codigo EMP\"] == \"EMP6388\")\n",
    "    \n",
    "    | (reportes[\"Codigo EMP\"] == \"EMP5694\")\n",
    "    | (reportes[\"Codigo EMP\"] == \"EMP5655\")\n",
    "    | (reportes[\"Codigo EMP\"] == \"EMP5681\")\n",
    "    | (reportes[\"Codigo EMP\"] == \"EMP5682\")\n",
    "    | (reportes[\"Codigo EMP\"] == \"EMP5684\")\n",
    "    | (reportes[\"Codigo EMP\"] == \"EMP6274\")\n",
    "    | (reportes[\"Codigo EMP\"] == \"EMP5685\")\n",
    "    | (reportes[\"Codigo EMP\"] == \"EMP5686\")\n",
    "    | (reportes[\"Codigo EMP\"] == \"EMP5687\")\n",
    "    | (reportes[\"Codigo EMP\"] == \"EMP5688\")\n",
    "    | (reportes[\"Codigo EMP\"] == \"EMP5689\")\n",
    "    | (reportes[\"Codigo EMP\"] == \"EMP5690\")\n",
    "    | (reportes[\"Codigo EMP\"] == \"EMP5691\")\n",
    "\n",
    "    | (reportes[\"Codigo EMP\"] == \"EMP5692\")\n",
    "    | (reportes[\"Codigo EMP\"] == \"EMP5693\")\n",
    "    | (reportes[\"Codigo EMP\"] == \"EMP5694\")\n",
    "    | (reportes[\"Codigo EMP\"] == \"EMP5695\")\n",
    "    | (reportes[\"Codigo EMP\"] == \"EMP5696\")\n",
    "    | (reportes[\"Codigo EMP\"] == \"EMP5697\")\n",
    "    | (reportes[\"Codigo EMP\"] == \"EMP5698\")\n",
    "    | (reportes[\"Codigo EMP\"] == \"EMP5639\")\n",
    "    | (reportes[\"Codigo EMP\"] == \"EMP5640\")\n",
    "    | (reportes[\"Codigo EMP\"] == \"EMP5641\")\n",
    "    | (reportes[\"Codigo EMP\"] == \"EMP5642\")\n",
    "    | (reportes[\"Codigo EMP\"] == \"EMP5643\")\n",
    "    | (reportes[\"Codigo EMP\"] == \"EMP5644\")\n",
    "\n",
    "    | (reportes[\"Codigo EMP\"] == \"EMP5645\")\n",
    "    | (reportes[\"Codigo EMP\"] == \"EMP5646\")\n",
    "    | (reportes[\"Codigo EMP\"] == \"EMP5647\")\n",
    "    | (reportes[\"Codigo EMP\"] == \"EMP5648\")\n",
    "    | (reportes[\"Codigo EMP\"] == \"EMP5649\")\n",
    "    | (reportes[\"Codigo EMP\"] == \"EMP5650\")\n",
    "    | (reportes[\"Codigo EMP\"] == \"EMP5651\")\n",
    "    | (reportes[\"Codigo EMP\"] == \"EMP5652\")\n",
    "    | (reportes[\"Codigo EMP\"] == \"EMP5653\")\n",
    "    | (reportes[\"Codigo EMP\"] == \"EMP5654\")\n",
    "    | (reportes[\"Codigo EMP\"] == \"EMP5655\")\n",
    "    | (reportes[\"Codigo EMP\"] == \"EMP7526\")\n",
    "    | (reportes[\"Codigo EMP\"] == \"EMP6760\")\n",
    "\n",
    "    | (reportes[\"Codigo EMP\"] == \"EMP7678\")\n",
    "    | (reportes[\"Codigo EMP\"] == \"EMP6888\")\n",
    "    | (reportes[\"Codigo EMP\"] == \"EMP6444\")\n",
    "    | (reportes[\"Codigo EMP\"] == \"EMP6406\")\n",
    "    | (reportes[\"Codigo EMP\"] == \"EMP5616\")\n",
    "    | (reportes[\"Codigo EMP\"] == \"EMP9007\")\n",
    "    \n",
    "     \n",
    "]\n",
    "\n",
    "Willis = Willis[(Willis[\"Empleador\"] == Willis[\"Nombre Empresa\"])]\n",
    "Willis.to_excel(\"F:/Reportes SF/MetLife/Willis_Base.xlsx\", index=False)"
   ]
  },
  {
   "cell_type": "code",
   "execution_count": 44,
   "metadata": {},
   "outputs": [],
   "source": [
    "Aon = reportes[\n",
    " (reportes[\"Codigo EMP\"] == \"EMP5627\")\n",
    "| (reportes[\"Codigo EMP\"] == \"EMP9181\")\n",
    "| (reportes[\"Codigo EMP\"] == \"EMP9183\")\n",
    "| (reportes[\"Codigo EMP\"] == \"EMP9184\")\n",
    "| (reportes[\"Codigo EMP\"] == \"EMP9185\")\n",
    "| (reportes[\"Codigo EMP\"] == \"EMP9186\")\n",
    "| (reportes[\"Codigo EMP\"] == \"EMP9241\")\n",
    "| (reportes[\"Codigo EMP\"] == \"EMP9256\")\n",
    "| (reportes[\"Codigo EMP\"] == \"EMP9187\")\n",
    "| (reportes[\"Codigo EMP\"] == \"EMP9188\")\n",
    "| (reportes[\"Codigo EMP\"] == \"EMP9189\")\n",
    "| (reportes[\"Codigo EMP\"] == \"EMP9230\")\n",
    "| (reportes[\"Codigo EMP\"] == \"EMP9359\")\n",
    "| (reportes[\"Codigo EMP\"] == \"EMP9365\")\n",
    "| (reportes[\"Codigo EMP\"] == \"EMP9366\")\n",
    "| (reportes[\"Codigo EMP\"] == \"EMP9367\")\n",
    "| (reportes[\"Codigo EMP\"] == \"EMP9368\")\n",
    "| (reportes[\"Codigo EMP\"] == \"EMP5890\")\n",
    "| (reportes[\"Codigo EMP\"] == \"EMP5891\")\n",
    "| (reportes[\"Codigo EMP\"] == \"EMP5892\")\n",
    "| (reportes[\"Codigo EMP\"] == \"EMP5893\")\n",
    "| (reportes[\"Codigo EMP\"] == \"EMP5894\")\n",
    "| (reportes[\"Codigo EMP\"] == \"EMP5895\")\n",
    "| (reportes[\"Codigo EMP\"] == \"EMP5896\")\n",
    "| (reportes[\"Codigo EMP\"] == \"EMP5897\")\n",
    "| (reportes[\"Codigo EMP\"] == \"EMP5898\")\n",
    "| (reportes[\"Codigo EMP\"] == \"EMP5899\")\n",
    "| (reportes[\"Codigo EMP\"] == \"EMP5930\")\n",
    "| (reportes[\"Codigo EMP\"] == \"EMP5931\")\n",
    "| (reportes[\"Codigo EMP\"] == \"EMP5932\")\n",
    "| (reportes[\"Codigo EMP\"] == \"EMP5933\")\n",
    "| (reportes[\"Codigo EMP\"] == \"EMP5934\")\n",
    "| (reportes[\"Codigo EMP\"] == \"EMP5935\")\n",
    "| (reportes[\"Codigo EMP\"] == \"EMP5936\")\n",
    "| (reportes[\"Codigo EMP\"] == \"EMP5937\")\n",
    "| (reportes[\"Codigo EMP\"] == \"EMP5939\")\n",
    "| (reportes[\"Codigo EMP\"] == \"EMP5940\")\n",
    "| (reportes[\"Codigo EMP\"] == \"EMP5941\")\n",
    "| (reportes[\"Codigo EMP\"] == \"EMP5942\")\n",
    "| (reportes[\"Codigo EMP\"] == \"EMP5943\")\n",
    "| (reportes[\"Codigo EMP\"] == \"EMP5944\")\n",
    "| (reportes[\"Codigo EMP\"] == \"EMP5945\")\n",
    "| (reportes[\"Codigo EMP\"] == \"EMP5946\")\n",
    "| (reportes[\"Codigo EMP\"] == \"EMP5947\")\n",
    "| (reportes[\"Codigo EMP\"] == \"EMP5949\")\n",
    "| (reportes[\"Codigo EMP\"] == \"EMP9436\")\n",
    "| (reportes[\"Codigo EMP\"] == \"EMP9437\")\n",
    "| (reportes[\"Codigo EMP\"] == \"EMP9861\")\n",
    "| (reportes[\"Codigo EMP\"] == \"EMP9862\")\n",
    "| (reportes[\"Codigo EMP\"] == \"EMP9864\")\n",
    "| (reportes[\"Codigo EMP\"] == \"EMP9865\")\n",
    "| (reportes[\"Codigo EMP\"] == \"EMP9866\")\n",
    "| (reportes[\"Codigo EMP\"] == \"EMP9873\")\n",
    "| (reportes[\"Codigo EMP\"] == \"EMP9874\")\n",
    "| (reportes[\"Codigo EMP\"] == \"EMP9875\")\n",
    "| (reportes[\"Codigo EMP\"] == \"EMP9892\")\n",
    "| (reportes[\"Codigo EMP\"] == \"EMP9893\")\n",
    "| (reportes[\"Codigo EMP\"] == \"EMP9899\")\n",
    "| (reportes[\"Codigo EMP\"] == \"EMP9901\")\n",
    "| (reportes[\"Codigo EMP\"] == \"EMP9902\")\n",
    "| (reportes[\"Codigo EMP\"] == \"EMP9903\")\n",
    "| (reportes[\"Codigo EMP\"] == \"EMP9904\")\n",
    "| (reportes[\"Codigo EMP\"] == \"EMP9905\")\n",
    "| (reportes[\"Codigo EMP\"] == \"EMP9906\")\n",
    "| (reportes[\"Codigo EMP\"] == \"EMP9907\")\n",
    "| (reportes[\"Codigo EMP\"] == \"EMP9908\")\n",
    "| (reportes[\"Codigo EMP\"] == \"EMP9909\")\n",
    "| (reportes[\"Codigo EMP\"] == \"EMP9493\")\n",
    "| (reportes[\"Codigo EMP\"] == \"EMP9494\")\n",
    "| (reportes[\"Codigo EMP\"] == \"EMP9518\")\n",
    "| (reportes[\"Codigo EMP\"] == \"EMP9539\")\n",
    "| (reportes[\"Codigo EMP\"] == \"EMP9540\")\n",
    "| (reportes[\"Codigo EMP\"] == \"EMP9558\")\n",
    "| (reportes[\"Codigo EMP\"] == \"EMP9741\")\n",
    "| (reportes[\"Codigo EMP\"] == \"EMP9742\")\n",
    "| (reportes[\"Codigo EMP\"] == \"EMP9743\")\n",
    "| (reportes[\"Codigo EMP\"] == \"EMP9745\")\n",
    "| (reportes[\"Codigo EMP\"] == \"EMP9747\")\n",
    "| (reportes[\"Codigo EMP\"] == \"EMP9630\")\n",
    "| (reportes[\"Codigo EMP\"] == \"EMP9631\")\n",
    "| (reportes[\"Codigo EMP\"] == \"EMP9632\")\n",
    "| (reportes[\"Codigo EMP\"] == \"EMP9638\")\n",
    "| (reportes[\"Codigo EMP\"] == \"EMP9755\")\n",
    "| (reportes[\"Codigo EMP\"] == \"EMP6532\")\n",
    "| (reportes[\"Codigo EMP\"] == \"EMP6538\")\n",
    "| (reportes[\"Codigo EMP\"] == \"EMP6555\")\n",
    "| (reportes[\"Codigo EMP\"] == \"EMP6556\")\n",
    "| (reportes[\"Codigo EMP\"] == \"EMP6557\")\n",
    "| (reportes[\"Codigo EMP\"] == \"EMP6558\")\n",
    "| (reportes[\"Codigo EMP\"] == \"EMP6560\")\n",
    "| (reportes[\"Codigo EMP\"] == \"EMP6561\")\n",
    "| (reportes[\"Codigo EMP\"] == \"EMP6562\")\n",
    "| (reportes[\"Codigo EMP\"] == \"EMP6563\")\n",
    "| (reportes[\"Codigo EMP\"] == \"EMP6671\")\n",
    "| (reportes[\"Codigo EMP\"] == \"EMP6717\")\n",
    "| (reportes[\"Codigo EMP\"] == \"EMP6720\")\n",
    "| (reportes[\"Codigo EMP\"] == \"EMP6786\")\n",
    "| (reportes[\"Codigo EMP\"] == \"EMP6864\")\n",
    "| (reportes[\"Codigo EMP\"] == \"EMP6865\")\n",
    "| (reportes[\"Codigo EMP\"] == \"EMP6866\")\n",
    "| (reportes[\"Codigo EMP\"] == \"EMP6867\")\n",
    "| (reportes[\"Codigo EMP\"] == \"EMP6868\")\n",
    "| (reportes[\"Codigo EMP\"] == \"EMP6938\")\n",
    "| (reportes[\"Codigo EMP\"] == \"EMP7003\")\n",
    "| (reportes[\"Codigo EMP\"] == \"EMP7004\")\n",
    "| (reportes[\"Codigo EMP\"] == \"EMP7083\")\n",
    "| (reportes[\"Codigo EMP\"] == \"EMP7176\")\n",
    "| (reportes[\"Codigo EMP\"] == \"EMP7177\")\n",
    "| (reportes[\"Codigo EMP\"] == \"EMP7269\")\n",
    "| (reportes[\"Codigo EMP\"] == \"EMP7337\")\n",
    "| (reportes[\"Codigo EMP\"] == \"EMP7396\")\n",
    "| (reportes[\"Codigo EMP\"] == \"EMP7418\")\n",
    "| (reportes[\"Codigo EMP\"] == \"EMP7513\")\n",
    "| (reportes[\"Codigo EMP\"] == \"EMP7646\")\n",
    "| (reportes[\"Codigo EMP\"] == \"EMP7808\")\n",
    "| (reportes[\"Codigo EMP\"] == \"EMP7863\")\n",
    "| (reportes[\"Codigo EMP\"] == \"EMP9183\")\n",
    "| (reportes[\"Codigo EMP\"] == \"EMP9184\")\n",
    "| (reportes[\"Codigo EMP\"] == \"EMP9185\")\n",
    "| (reportes[\"Codigo EMP\"] == \"EMP9186\")\n",
    "| (reportes[\"Codigo EMP\"] == \"EMP9256\")\n",
    "| (reportes[\"Codigo EMP\"] == \"EMP9187\")\n",
    "| (reportes[\"Codigo EMP\"] == \"EMP9188\")\n",
    "| (reportes[\"Codigo EMP\"] == \"EMP9189\")\n",
    "| (reportes[\"Codigo EMP\"] == \"EMP5890\")\n",
    "| (reportes[\"Codigo EMP\"] == \"EMP5891\")\n",
    "| (reportes[\"Codigo EMP\"] == \"EMP5892\")\n",
    "| (reportes[\"Codigo EMP\"] == \"EMP5893\")\n",
    "| (reportes[\"Codigo EMP\"] == \"EMP5894\")\n",
    "| (reportes[\"Codigo EMP\"] == \"EMP5895\")\n",
    "| (reportes[\"Codigo EMP\"] == \"EMP5896\")\n",
    "| (reportes[\"Codigo EMP\"] == \"EMP5897\")\n",
    "| (reportes[\"Codigo EMP\"] == \"EMP5898\")\n",
    "| (reportes[\"Codigo EMP\"] == \"EMP5899\")\n",
    "| (reportes[\"Codigo EMP\"] == \"EMP5930\")\n",
    "| (reportes[\"Codigo EMP\"] == \"EMP5931\")\n",
    "| (reportes[\"Codigo EMP\"] == \"EMP5932\")\n",
    "| (reportes[\"Codigo EMP\"] == \"EMP5933\")\n",
    "| (reportes[\"Codigo EMP\"] == \"EMP5934\")\n",
    "| (reportes[\"Codigo EMP\"] == \"EMP5935\")\n",
    "| (reportes[\"Codigo EMP\"] == \"EMP5936\")\n",
    "| (reportes[\"Codigo EMP\"] == \"EMP5937\")\n",
    "| (reportes[\"Codigo EMP\"] == \"EMP5939\")\n",
    "| (reportes[\"Codigo EMP\"] == \"EMP5940\")\n",
    "| (reportes[\"Codigo EMP\"] == \"EMP5941\")\n",
    "| (reportes[\"Codigo EMP\"] == \"EMP5944\")\n",
    "| (reportes[\"Codigo EMP\"] == \"EMP5947\")\n",
    "| (reportes[\"Codigo EMP\"] == \"EMP5949\")\n",
    "| (reportes[\"Codigo EMP\"] == \"EMP9436\")\n",
    "| (reportes[\"Codigo EMP\"] == \"EMP9863\")\n",
    "| (reportes[\"Codigo EMP\"] == \"EMP9864\")\n",
    "| (reportes[\"Codigo EMP\"] == \"EMP9865\")\n",
    "| (reportes[\"Codigo EMP\"] == \"EMP9866\")\n",
    "| (reportes[\"Codigo EMP\"] == \"EMP9901\")\n",
    "| (reportes[\"Codigo EMP\"] == \"EMP9902\")\n",
    "| (reportes[\"Codigo EMP\"] == \"EMP9903\")\n",
    "| (reportes[\"Codigo EMP\"] == \"EMP9904\")\n",
    "| (reportes[\"Codigo EMP\"] == \"EMP9905\")\n",
    "| (reportes[\"Codigo EMP\"] == \"EMP9906\")\n",
    "| (reportes[\"Codigo EMP\"] == \"EMP9907\")\n",
    "| (reportes[\"Codigo EMP\"] == \"EMP9908\")\n",
    "| (reportes[\"Codigo EMP\"] == \"EMP9909\")\n",
    "| (reportes[\"Codigo EMP\"] == \"EMP9493\")\n",
    "| (reportes[\"Codigo EMP\"] == \"EMP9494\")\n",
    "| (reportes[\"Codigo EMP\"] == \"EMP9539\")\n",
    "| (reportes[\"Codigo EMP\"] == \"EMP9540\")\n",
    "| (reportes[\"Codigo EMP\"] == \"EMP9558\")\n",
    "| (reportes[\"Codigo EMP\"] == \"EMP9741\")\n",
    "| (reportes[\"Codigo EMP\"] == \"EMP9742\")\n",
    "| (reportes[\"Codigo EMP\"] == \"EMP9627\")\n",
    "| (reportes[\"Codigo EMP\"] == \"EMP9630\")\n",
    "| (reportes[\"Codigo EMP\"] == \"EMP9631\")\n",
    "| (reportes[\"Codigo EMP\"] == \"EMP9632\")\n",
    "| (reportes[\"Codigo EMP\"] == \"EMP9638\")\n",
    "| (reportes[\"Codigo EMP\"] == \"EMP6786\")\n",
    "| (reportes[\"Codigo EMP\"] == \"EMP7597\")\n",
    "\n",
    "]\n",
    "Aon = Aon[(Aon[\"Empleador\"] == Aon[\"Nombre Empresa\"])]\n",
    "Aon.to_excel(\"F:/Reportes SF/MetLife/Aon_Base.xlsx\", index=False)"
   ]
  },
  {
   "cell_type": "code",
   "execution_count": 45,
   "metadata": {},
   "outputs": [],
   "source": [
    "Aramark = reportes[\n",
    " (reportes[\"Codigo EMP\"] == \"EMP9244\")\n",
    "| (reportes[\"Codigo EMP\"] == \"EMP9245\")\n",
    "| (reportes[\"Codigo EMP\"] == \"EMP9246\")\n",
    "| (reportes[\"Codigo EMP\"] == \"EMP9247\")\n",
    "| (reportes[\"Codigo EMP\"] == \"EMP9248\")\n",
    "| (reportes[\"Codigo EMP\"] == \"EMP9249\")\n",
    "| (reportes[\"Codigo EMP\"] == \"EMP9250\")\n",
    "| (reportes[\"Codigo EMP\"] == \"EMP9148\")\n",
    "| (reportes[\"Codigo EMP\"] == \"EMP9149\")\n",
    "| (reportes[\"Codigo EMP\"] == \"EMP9150\")\n",
    "| (reportes[\"Codigo EMP\"] == \"EMP9151\")\n",
    "| (reportes[\"Codigo EMP\"] == \"EMP9152\")\n",
    "| (reportes[\"Codigo EMP\"] == \"EMP9153\")\n",
    "| (reportes[\"Codigo EMP\"] == \"EMP9154\")\n",
    "| (reportes[\"Codigo EMP\"] == \"EMP9155\")\n",
    "| (reportes[\"Codigo EMP\"] == \"EMP9156\")\n",
    "| (reportes[\"Codigo EMP\"] == \"EMP9157\")\n",
    "| (reportes[\"Codigo EMP\"] == \"EMP9158\")\n",
    "| (reportes[\"Codigo EMP\"] == \"EMP9159\")\n",
    "| (reportes[\"Codigo EMP\"] == \"EMP9160\")\n",
    "| (reportes[\"Codigo EMP\"] == \"EMP9161\")\n",
    "| (reportes[\"Codigo EMP\"] == \"EMP9162\")\n",
    "| (reportes[\"Codigo EMP\"] == \"EMP9163\")\n",
    "| (reportes[\"Codigo EMP\"] == \"EMP9164\")\n",
    "| (reportes[\"Codigo EMP\"] == \"EMP9165\")\n",
    "| (reportes[\"Codigo EMP\"] == \"EMP9166\")\n",
    "| (reportes[\"Codigo EMP\"] == \"EMP9167\")\n",
    "| (reportes[\"Codigo EMP\"] == \"EMP5806\")\n",
    "| (reportes[\"Codigo EMP\"] == \"EMP5808\")\n",
    "| (reportes[\"Codigo EMP\"] == \"EMP5810\")\n",
    "| (reportes[\"Codigo EMP\"] == \"EMP9266\")\n",
    "| (reportes[\"Codigo EMP\"] == \"EMP9267\")\n",
    "| (reportes[\"Codigo EMP\"] == \"EMP9268\")\n",
    "| (reportes[\"Codigo EMP\"] == \"EMP9269\")\n",
    "| (reportes[\"Codigo EMP\"] == \"EMP9270\")\n",
    "| (reportes[\"Codigo EMP\"] == \"EMP9271\")\n",
    "\n",
    "]\n",
    "Aramark = Aramark[(Aramark[\"Empleador\"] == Aramark[\"Nombre Empresa\"])]\n",
    "Aramark.to_excel(\"F:/Reportes SF/MetLife/Aramark_Base.xlsx\", index=False)"
   ]
  },
  {
   "cell_type": "code",
   "execution_count": 46,
   "metadata": {},
   "outputs": [],
   "source": [
    "Benefits = reportes[\n",
    "    (reportes[\"Codigo EMP\"] == \"EMP9190\")\n",
    "    | (reportes[\"Codigo EMP\"] == \"EMP9191\")\n",
    "    | (reportes[\"Codigo EMP\"] == \"EMP9192\")\n",
    "    | (reportes[\"Codigo EMP\"] == \"EMP9193\")\n",
    "    | (reportes[\"Codigo EMP\"] == \"EMP9194\")\n",
    "    | (reportes[\"Codigo EMP\"] == \"EMP9195\")\n",
    "    | (reportes[\"Codigo EMP\"] == \"EMP9196\")\n",
    "    | (reportes[\"Codigo EMP\"] == \"EMP9197\")\n",
    "    | (reportes[\"Codigo EMP\"] == \"EMP9198\")\n",
    "    | (reportes[\"Codigo EMP\"] == \"EMP9199\")\n",
    "    | (reportes[\"Codigo EMP\"] == \"EMP9200\")\n",
    "    | (reportes[\"Codigo EMP\"] == \"EMP9201\")\n",
    "    | (reportes[\"Codigo EMP\"] == \"EMP9202\")\n",
    "    | (reportes[\"Codigo EMP\"] == \"EMP9203\")\n",
    "    | (reportes[\"Codigo EMP\"] == \"EMP9204\")\n",
    "    | (reportes[\"Codigo EMP\"] == \"EMP9205\")\n",
    "    | (reportes[\"Codigo EMP\"] == \"EMP9326\")\n",
    "    | (reportes[\"Codigo EMP\"] == \"EMP9327\")\n",
    "    | (reportes[\"Codigo EMP\"] == \"EMP9328\")\n",
    "    | (reportes[\"Codigo EMP\"] == \"EMP9340\")\n",
    "    | (reportes[\"Codigo EMP\"] == \"EMP9345\")\n",
    "    | (reportes[\"Codigo EMP\"] == \"EMP9349\")\n",
    "    | (reportes[\"Codigo EMP\"] == \"EMP9324\")\n",
    "    | (reportes[\"Codigo EMP\"] == \"EMP5908\")\n",
    "    | (reportes[\"Codigo EMP\"] == \"EMP5909\")\n",
    "    | (reportes[\"Codigo EMP\"] == \"EMP5912\")\n",
    "    | (reportes[\"Codigo EMP\"] == \"EMP5913\")\n",
    "    | (reportes[\"Codigo EMP\"] == \"EMP5914\")\n",
    "    | (reportes[\"Codigo EMP\"] == \"EMP5915\")\n",
    "    | (reportes[\"Codigo EMP\"] == \"EMP5916\")\n",
    "    | (reportes[\"Codigo EMP\"] == \"EMP5917\")\n",
    "    | (reportes[\"Codigo EMP\"] == \"EMP5919\")\n",
    "    | (reportes[\"Codigo EMP\"] == \"EMP5920\")\n",
    "    | (reportes[\"Codigo EMP\"] == \"EMP5921\")\n",
    "    | (reportes[\"Codigo EMP\"] == \"EMP5922\")\n",
    "    | (reportes[\"Codigo EMP\"] == \"EMP5923\")\n",
    "    | (reportes[\"Codigo EMP\"] == \"EMP6001\")\n",
    "    | (reportes[\"Codigo EMP\"] == \"EMP9414\")\n",
    "    | (reportes[\"Codigo EMP\"] == \"EMP9464\")\n",
    "    | (reportes[\"Codigo EMP\"] == \"EMP9840\")\n",
    "    | (reportes[\"Codigo EMP\"] == \"EMP9852\")\n",
    "    | (reportes[\"Codigo EMP\"] == \"EMP9703\")\n",
    "    | (reportes[\"Codigo EMP\"] == \"EMP9600\")\n",
    "    | (reportes[\"Codigo EMP\"] == \"EMP9601\")\n",
    "    | (reportes[\"Codigo EMP\"] == \"EMP9602\")\n",
    "    | (reportes[\"Codigo EMP\"] == \"EMP9603\")\n",
    "    | (reportes[\"Codigo EMP\"] == \"EMP9604\")\n",
    "    | (reportes[\"Codigo EMP\"] == \"EMP9605\")\n",
    "    | (reportes[\"Codigo EMP\"] == \"EMP9606\")\n",
    "    | (reportes[\"Codigo EMP\"] == \"EMP9608\")\n",
    "    | (reportes[\"Codigo EMP\"] == \"EMP9609\")\n",
    "    | (reportes[\"Codigo EMP\"] == \"EMP9610\")\n",
    "    | (reportes[\"Codigo EMP\"] == \"EMP9611\")\n",
    "    | (reportes[\"Codigo EMP\"] == \"EMP9612\")\n",
    "    | (reportes[\"Codigo EMP\"] == \"EMP9613\")\n",
    "    | (reportes[\"Codigo EMP\"] == \"EMP9614\")\n",
    "    | (reportes[\"Codigo EMP\"] == \"EMP9615\")\n",
    "    | (reportes[\"Codigo EMP\"] == \"EMP9616\")\n",
    "    | (reportes[\"Codigo EMP\"] == \"EMP9617\")\n",
    "    | (reportes[\"Codigo EMP\"] == \"EMP9618\")\n",
    "    | (reportes[\"Codigo EMP\"] == \"EMP9619\")\n",
    "    | (reportes[\"Codigo EMP\"] == \"EMP9784\")\n",
    "    | (reportes[\"Codigo EMP\"] == \"EMP9670\")\n",
    "    | (reportes[\"Codigo EMP\"] == \"EMP9674\")\n",
    "    | (reportes[\"Codigo EMP\"] == \"EMP9802\")\n",
    "    | (reportes[\"Codigo EMP\"] == \"EMP6534\")\n",
    "    | (reportes[\"Codigo EMP\"] == \"EMP6540\")\n",
    "    | (reportes[\"Codigo EMP\"] == \"EMP6564\")\n",
    "    | (reportes[\"Codigo EMP\"] == \"EMP6621\")\n",
    "    | (reportes[\"Codigo EMP\"] == \"EMP6640\")\n",
    "    | (reportes[\"Codigo EMP\"] == \"EMP6643\")\n",
    "    | (reportes[\"Codigo EMP\"] == \"EMP6650\")\n",
    "    | (reportes[\"Codigo EMP\"] == \"EMP6653\")\n",
    "    | (reportes[\"Codigo EMP\"] == \"EMP6661\")\n",
    "    | (reportes[\"Codigo EMP\"] == \"EMP6758\")\n",
    "    | (reportes[\"Codigo EMP\"] == \"EMP6763\")\n",
    "    | (reportes[\"Codigo EMP\"] == \"EMP6772\")\n",
    "    | (reportes[\"Codigo EMP\"] == \"EMP6783\")\n",
    "    | (reportes[\"Codigo EMP\"] == \"EMP6792\")\n",
    "    | (reportes[\"Codigo EMP\"] == \"EMP6829\")\n",
    "    | (reportes[\"Codigo EMP\"] == \"EMP6869\")\n",
    "    | (reportes[\"Codigo EMP\"] == \"EMP6935\")\n",
    "    | (reportes[\"Codigo EMP\"] == \"EMP6940\")\n",
    "    | (reportes[\"Codigo EMP\"] == \"EMP7005\")\n",
    "    | (reportes[\"Codigo EMP\"] == \"EMP7033\")\n",
    "    | (reportes[\"Codigo EMP\"] == \"EMP7072\")\n",
    "    | (reportes[\"Codigo EMP\"] == \"EMP7189\")\n",
    "    | (reportes[\"Codigo EMP\"] == \"EMP7243\")\n",
    "    | (reportes[\"Codigo EMP\"] == \"EMP7247\")\n",
    "    | (reportes[\"Codigo EMP\"] == \"EMP7345\")\n",
    "    | (reportes[\"Codigo EMP\"] == \"EMP7507\")\n",
    "    | (reportes[\"Codigo EMP\"] == \"EMP7508\")\n",
    "    | (reportes[\"Codigo EMP\"] == \"EMP7546\")\n",
    "    | (reportes[\"Codigo EMP\"] == \"EMP7564\")\n",
    "    | (reportes[\"Codigo EMP\"] == \"EMP7567\")\n",
    "    | (reportes[\"Codigo EMP\"] == \"EMP7617\")\n",
    "    | (reportes[\"Codigo EMP\"] == \"EMP7639\")\n",
    "    | (reportes[\"Codigo EMP\"] == \"EMP7663\")\n",
    "    | (reportes[\"Codigo EMP\"] == \"EMP7674\")\n",
    "    | (reportes[\"Codigo EMP\"] == \"EMP7702\")\n",
    "    | (reportes[\"Codigo EMP\"] == \"EMP7739\")\n",
    "    | (reportes[\"Codigo EMP\"] == \"EMP7744\")\n",
    "    | (reportes[\"Codigo EMP\"] == \"EMP7784\")\n",
    "    | (reportes[\"Codigo EMP\"] == \"EMP7785\")\n",
    "    | (reportes[\"Codigo EMP\"] == \"EMP9206\")\n",
    "    | (reportes[\"Codigo EMP\"] == \"EMP5910\")\n",
    "    | (reportes[\"Codigo EMP\"] == \"EMP5911\")\n",
    "    | (reportes[\"Codigo EMP\"] == \"EMP5918\")\n",
    "    | (reportes[\"Codigo EMP\"] == \"EMP9607\")\n",
    "]\n",
    "Benefits = Benefits[(Benefits[\"Empleador\"] == Benefits[\"Nombre Empresa\"])]\n",
    "Benefits.to_excel(\"F:/Reportes SF/MetLife/Benefits_Base.xlsx\", index=False)"
   ]
  },
  {
   "cell_type": "code",
   "execution_count": 47,
   "metadata": {},
   "outputs": [],
   "source": [
    "Interno = reportes[\n",
    "    (reportes[\"Codigo EMP\"] == \"EMP5999\")\n",
    "    | (reportes[\"Codigo EMP\"] == \"EMP9683\")\n",
    "    | (reportes[\"Codigo EMP\"] == \"EMP9684\")\n",
    "    | (reportes[\"Codigo EMP\"] == \"EMP9685\")\n",
    "    | (reportes[\"Codigo EMP\"] == \"EMP9686\")\n",
    "    | (reportes[\"Codigo EMP\"] == \"EMP9687\")\n",
    "    | (reportes[\"Codigo EMP\"] == \"EMP9688\")\n",
    "    | (reportes[\"Codigo EMP\"] == \"EMP9689\")\n",
    "    | (reportes[\"Codigo EMP\"] == \"EMP9690\")\n",
    "    | (reportes[\"Codigo EMP\"] == \"EMP9691\")\n",
    "    | (reportes[\"Codigo EMP\"] == \"EMP7881\")\n",
    "]\n",
    "Interno = Interno[(Interno[\"Empleador\"] == Interno[\"Nombre Empresa\"])]\n",
    "Interno.to_excel(\"F:/Reportes SF/MetLife/Interno_Base.xlsx\", index=False)"
   ]
  },
  {
   "cell_type": "code",
   "execution_count": 48,
   "metadata": {},
   "outputs": [],
   "source": [
    "Lorena = reportes[\n",
    "    (reportes[\"Codigo EMP\"] == \"EMP5786\")\n",
    "    | (reportes[\"Codigo EMP\"] == \"EMP9171\")\n",
    "    | (reportes[\"Codigo EMP\"] == \"EMP5785\")\n",
    "    | (reportes[\"Codigo EMP\"] == \"EMP5787\")\n",
    "    | (reportes[\"Codigo EMP\"] == \"EMP5788\")\n",
    "    | (reportes[\"Codigo EMP\"] == \"EMP5789\")\n",
    "    | (reportes[\"Codigo EMP\"] == \"EMP5790\")\n",
    "    | (reportes[\"Codigo EMP\"] == \"EMP5791\")\n",
    "    | (reportes[\"Codigo EMP\"] == \"EMP5792\")\n",
    "    | (reportes[\"Codigo EMP\"] == \"EMP5793\")\n",
    "    | (reportes[\"Codigo EMP\"] == \"EMP5794\")\n",
    "    | (reportes[\"Codigo EMP\"] == \"EMP9310\")\n",
    "    | (reportes[\"Codigo EMP\"] == \"EMP9441\")\n",
    "    | (reportes[\"Codigo EMP\"] == \"EMP9792\")\n",
    "    | (reportes[\"Codigo EMP\"] == \"EMP6830\")\n",
    "    | (reportes[\"Codigo EMP\"] == \"EMP6975\")\n",
    "    | (reportes[\"Codigo EMP\"] == \"EMP7014\")\n",
    "    | (reportes[\"Codigo EMP\"] == \"EMP7045\")\n",
    "    | (reportes[\"Codigo EMP\"] == \"EMP7060\")\n",
    "    | (reportes[\"Codigo EMP\"] == \"EMP7422\")\n",
    "]\n",
    "Lorena = Lorena[(Lorena[\"Empleador\"] == Lorena[\"Nombre Empresa\"])]\n",
    "Lorena.to_excel(\"F:/Reportes SF/MetLife/Lorena_Base.xlsx\", index=False)"
   ]
  },
  {
   "cell_type": "code",
   "execution_count": 49,
   "metadata": {},
   "outputs": [],
   "source": [
    "Security_metlife = reportes[\n",
    " (reportes[\"Codigo EMP\"] == \"EMP5952\")\n",
    "| (reportes[\"Codigo EMP\"] == \"EMP5957\")\n",
    "| (reportes[\"Codigo EMP\"] == \"EMP5966\")\n",
    "| (reportes[\"Codigo EMP\"] == \"EMP5989\")\n",
    "| (reportes[\"Codigo EMP\"] == \"EMP6833\")\n",
    "| (reportes[\"Codigo EMP\"] == \"EMP6902\")\n",
    "| (reportes[\"Codigo EMP\"] == \"EMP7332\")\n",
    "| (reportes[\"Codigo EMP\"] == \"EMP7661\")\n",
    "| (reportes[\"Codigo EMP\"] == \"EMP9232\")\n",
    "| (reportes[\"Codigo EMP\"] == \"EMP9233\")\n",
    "| (reportes[\"Codigo EMP\"] == \"EMP9234\")\n",
    "| (reportes[\"Codigo EMP\"] == \"EMP9235\")\n",
    "| (reportes[\"Codigo EMP\"] == \"EMP9236\")\n",
    "| (reportes[\"Codigo EMP\"] == \"EMP9237\")\n",
    "| (reportes[\"Codigo EMP\"] == \"EMP9238\")\n",
    "| (reportes[\"Codigo EMP\"] == \"EMP9239\")\n",
    "| (reportes[\"Codigo EMP\"] == \"EMP9240\")\n",
    "| (reportes[\"Codigo EMP\"] == \"EMP9347\")\n",
    "| (reportes[\"Codigo EMP\"] == \"EMP9287\")\n",
    "| (reportes[\"Codigo EMP\"] == \"EMP5950\")\n",
    "| (reportes[\"Codigo EMP\"] == \"EMP5951\")\n",
    "| (reportes[\"Codigo EMP\"] == \"EMP5953\")\n",
    "| (reportes[\"Codigo EMP\"] == \"EMP5955\")\n",
    "| (reportes[\"Codigo EMP\"] == \"EMP5956\")\n",
    "| (reportes[\"Codigo EMP\"] == \"EMP5958\")\n",
    "| (reportes[\"Codigo EMP\"] == \"EMP5959\")\n",
    "| (reportes[\"Codigo EMP\"] == \"EMP5960\")\n",
    "| (reportes[\"Codigo EMP\"] == \"EMP5961\")\n",
    "| (reportes[\"Codigo EMP\"] == \"EMP5962\")\n",
    "| (reportes[\"Codigo EMP\"] == \"EMP5963\")\n",
    "| (reportes[\"Codigo EMP\"] == \"EMP5964\")\n",
    "| (reportes[\"Codigo EMP\"] == \"EMP5965\")\n",
    "| (reportes[\"Codigo EMP\"] == \"EMP5967\")\n",
    "| (reportes[\"Codigo EMP\"] == \"EMP5968\")\n",
    "| (reportes[\"Codigo EMP\"] == \"EMP5969\")\n",
    "| (reportes[\"Codigo EMP\"] == \"EMP5990\")\n",
    "| (reportes[\"Codigo EMP\"] == \"EMP5991\")\n",
    "| (reportes[\"Codigo EMP\"] == \"EMP9440\")\n",
    "| (reportes[\"Codigo EMP\"] == \"EMP9454\")\n",
    "| (reportes[\"Codigo EMP\"] == \"EMP9455\")\n",
    "| (reportes[\"Codigo EMP\"] == \"EMP9456\")\n",
    "| (reportes[\"Codigo EMP\"] == \"EMP9457\")\n",
    "| (reportes[\"Codigo EMP\"] == \"EMP9458\")\n",
    "| (reportes[\"Codigo EMP\"] == \"EMP9459\")\n",
    "| (reportes[\"Codigo EMP\"] == \"EMP9460\")\n",
    "| (reportes[\"Codigo EMP\"] == \"EMP9512\")\n",
    "| (reportes[\"Codigo EMP\"] == \"EMP9553\")\n",
    "| (reportes[\"Codigo EMP\"] == \"EMP9669\")\n",
    "| (reportes[\"Codigo EMP\"] == \"EMP6434\")\n",
    "| (reportes[\"Codigo EMP\"] == \"EMP6713\")\n",
    "| (reportes[\"Codigo EMP\"] == \"EMP6877\")\n",
    "| (reportes[\"Codigo EMP\"] == \"EMP6898\")\n",
    "| (reportes[\"Codigo EMP\"] == \"EMP6901\")\n",
    "| (reportes[\"Codigo EMP\"] == \"EMP6905\")\n",
    "| (reportes[\"Codigo EMP\"] == \"EMP7010\")\n",
    "| (reportes[\"Codigo EMP\"] == \"EMP7066\")\n",
    "| (reportes[\"Codigo EMP\"] == \"EMP7080\")\n",
    "| (reportes[\"Codigo EMP\"] == \"EMP7094\")\n",
    "| (reportes[\"Codigo EMP\"] == \"EMP7150\")\n",
    "| (reportes[\"Codigo EMP\"] == \"EMP7333\")\n",
    "| (reportes[\"Codigo EMP\"] == \"EMP7504\")\n",
    "| (reportes[\"Codigo EMP\"] == \"EMP7505\")\n",
    "| (reportes[\"Codigo EMP\"] == \"EMP7623\")\n",
    "| (reportes[\"Codigo EMP\"] == \"EMP7625\")\n",
    "| (reportes[\"Codigo EMP\"] == \"EMP7651\")\n",
    "| (reportes[\"Codigo EMP\"] == \"EMP7721\")\n",
    "| (reportes[\"Codigo EMP\"] == \"EMP7724\")\n",
    "\n",
    "]\n",
    "Security_metlife = Security_metlife[(Security_metlife[\"Empleador\"] == Security_metlife[\"Nombre Empresa\"])]\n",
    "Security_metlife.to_excel(\"F:/Reportes SF/MetLife/Security_Base.xlsx\", index=False)"
   ]
  },
  {
   "cell_type": "code",
   "execution_count": 50,
   "metadata": {},
   "outputs": [],
   "source": [
    "Thb = reportes[\n",
    "    (reportes[\"Codigo EMP\"] == \"EMP9336\")\n",
    "    | (reportes[\"Codigo EMP\"] == \"EMP9442\")\n",
    "    | (reportes[\"Codigo EMP\"] == \"EMP9746\")\n",
    "    | (reportes[\"Codigo EMP\"] == \"EMP9627\")\n",
    "    | (reportes[\"Codigo EMP\"] == \"EMP5618\")\n",
    "    | (reportes[\"Codigo EMP\"] == \"EMP5619\")\n",
    "    | (reportes[\"Codigo EMP\"] == \"EMP5620\")\n",
    "    | (reportes[\"Codigo EMP\"] == \"EMP5621\")\n",
    "    | (reportes[\"Codigo EMP\"] == \"EMP5622\")\n",
    "    | (reportes[\"Codigo EMP\"] == \"EMP5623\")\n",
    "    | (reportes[\"Codigo EMP\"] == \"EMP5624\")\n",
    "    | (reportes[\"Codigo EMP\"] == \"EMP5625\")\n",
    "    | (reportes[\"Codigo EMP\"] == \"EMP5626\")\n",
    "    | (reportes[\"Codigo EMP\"] == \"EMP5628\")\n",
    "    | (reportes[\"Codigo EMP\"] == \"EMP5629\")\n",
    "    | (reportes[\"Codigo EMP\"] == \"EMP5630\")\n",
    "    | (reportes[\"Codigo EMP\"] == \"EMP5631\")\n",
    "    | (reportes[\"Codigo EMP\"] == \"EMP5632\")\n",
    "    | (reportes[\"Codigo EMP\"] == \"EMP5633\")\n",
    "    | (reportes[\"Codigo EMP\"] == \"EMP5634\")\n",
    "    | (reportes[\"Codigo EMP\"] == \"EMP5635\")\n",
    "    | (reportes[\"Codigo EMP\"] == \"EMP5636\")\n",
    "    | (reportes[\"Codigo EMP\"] == \"EMP5637\")\n",
    "    | (reportes[\"Codigo EMP\"] == \"EMP5638\")\n",
    "    | (reportes[\"Codigo EMP\"] == \"EMP5669\")\n",
    "    | (reportes[\"Codigo EMP\"] == \"EMP5670\")\n",
    "    | (reportes[\"Codigo EMP\"] == \"EMP5671\")\n",
    "    | (reportes[\"Codigo EMP\"] == \"EMP5672\")\n",
    "    | (reportes[\"Codigo EMP\"] == \"EMP5673\")\n",
    "    | (reportes[\"Codigo EMP\"] == \"EMP5674\")\n",
    "    | (reportes[\"Codigo EMP\"] == \"EMP5675\")\n",
    "    | (reportes[\"Codigo EMP\"] == \"EMP5677\")\n",
    "    | (reportes[\"Codigo EMP\"] == \"EMP5721\")\n",
    "    | (reportes[\"Codigo EMP\"] == \"EMP5722\")\n",
    "    | (reportes[\"Codigo EMP\"] == \"EMP5723\")\n",
    "    | (reportes[\"Codigo EMP\"] == \"EMP5724\")\n",
    "    | (reportes[\"Codigo EMP\"] == \"EMP5725\")\n",
    "    | (reportes[\"Codigo EMP\"] == \"EMP5726\")\n",
    "    | (reportes[\"Codigo EMP\"] == \"EMP5727\")\n",
    "    | (reportes[\"Codigo EMP\"] == \"EMP5728\")\n",
    "    | (reportes[\"Codigo EMP\"] == \"EMP5729\")\n",
    "    | (reportes[\"Codigo EMP\"] == \"EMP5730\")\n",
    "    | (reportes[\"Codigo EMP\"] == \"EMP5731\")\n",
    "    | (reportes[\"Codigo EMP\"] == \"EMP5732\")\n",
    "    | (reportes[\"Codigo EMP\"] == \"EMP5733\")\n",
    "    | (reportes[\"Codigo EMP\"] == \"EMP5734\")\n",
    "    | (reportes[\"Codigo EMP\"] == \"EMP5735\")\n",
    "    | (reportes[\"Codigo EMP\"] == \"EMP5736\")\n",
    "    | (reportes[\"Codigo EMP\"] == \"EMP5737\")\n",
    "    | (reportes[\"Codigo EMP\"] == \"EMP5738\")\n",
    "    | (reportes[\"Codigo EMP\"] == \"EMP9242\")\n",
    "    | (reportes[\"Codigo EMP\"] == \"EMP9121\")\n",
    "    | (reportes[\"Codigo EMP\"] == \"EMP9122\")\n",
    "    | (reportes[\"Codigo EMP\"] == \"EMP9123\")\n",
    "    | (reportes[\"Codigo EMP\"] == \"EMP9168\")\n",
    "    | (reportes[\"Codigo EMP\"] == \"EMP9137\")\n",
    "    | (reportes[\"Codigo EMP\"] == \"EMP9320\")\n",
    "    | (reportes[\"Codigo EMP\"] == \"EMP9364\")\n",
    "    | (reportes[\"Codigo EMP\"] == \"EMP9257\")\n",
    "    | (reportes[\"Codigo EMP\"] == \"EMP9258\")\n",
    "    | (reportes[\"Codigo EMP\"] == \"EMP9259\")\n",
    "    | (reportes[\"Codigo EMP\"] == \"EMP9260\")\n",
    "    | (reportes[\"Codigo EMP\"] == \"EMP9261\")\n",
    "    | (reportes[\"Codigo EMP\"] == \"EMP9262\")\n",
    "    | (reportes[\"Codigo EMP\"] == \"EMP9461\")\n",
    "    | (reportes[\"Codigo EMP\"] == \"EMP9463\")\n",
    "    | (reportes[\"Codigo EMP\"] == \"EMP9859\")\n",
    "    | (reportes[\"Codigo EMP\"] == \"EMP9887\")\n",
    "    | (reportes[\"Codigo EMP\"] == \"EMP9888\")\n",
    "    | (reportes[\"Codigo EMP\"] == \"EMP9925\")\n",
    "    | (reportes[\"Codigo EMP\"] == \"EMP9952\")\n",
    "    | (reportes[\"Codigo EMP\"] == \"EMP9953\")\n",
    "    | (reportes[\"Codigo EMP\"] == \"EMP9514\")\n",
    "    | (reportes[\"Codigo EMP\"] == \"EMP9515\")\n",
    "    | (reportes[\"Codigo EMP\"] == \"EMP9516\")\n",
    "    | (reportes[\"Codigo EMP\"] == \"EMP9517\")\n",
    "    | (reportes[\"Codigo EMP\"] == \"EMP9956\")\n",
    "    | (reportes[\"Codigo EMP\"] == \"EMP9957\")\n",
    "    | (reportes[\"Codigo EMP\"] == \"EMP9958\")\n",
    "    | (reportes[\"Codigo EMP\"] == \"EMP9970\")\n",
    "    | (reportes[\"Codigo EMP\"] == \"EMP9559\")\n",
    "    | (reportes[\"Codigo EMP\"] == \"EMP9561\")\n",
    "    | (reportes[\"Codigo EMP\"] == \"EMP9565\")\n",
    "    | (reportes[\"Codigo EMP\"] == \"EMP9567\")\n",
    "    | (reportes[\"Codigo EMP\"] == \"EMP9568\")\n",
    "    | (reportes[\"Codigo EMP\"] == \"EMP9569\")\n",
    "    | (reportes[\"Codigo EMP\"] == \"EMP9570\")\n",
    "    | (reportes[\"Codigo EMP\"] == \"EMP9571\")\n",
    "    | (reportes[\"Codigo EMP\"] == \"EMP9572\")\n",
    "    | (reportes[\"Codigo EMP\"] == \"EMP9573\")\n",
    "    | (reportes[\"Codigo EMP\"] == \"EMP9574\")\n",
    "    | (reportes[\"Codigo EMP\"] == \"EMP9576\")\n",
    "    | (reportes[\"Codigo EMP\"] == \"EMP9698\")\n",
    "    | (reportes[\"Codigo EMP\"] == \"EMP9699\")\n",
    "    | (reportes[\"Codigo EMP\"] == \"EMP9700\")\n",
    "    | (reportes[\"Codigo EMP\"] == \"EMP9577\")\n",
    "    | (reportes[\"Codigo EMP\"] == \"EMP9580\")\n",
    "    | (reportes[\"Codigo EMP\"] == \"EMP9581\")\n",
    "    | (reportes[\"Codigo EMP\"] == \"EMP9583\")\n",
    "    | (reportes[\"Codigo EMP\"] == \"EMP9584\")\n",
    "    | (reportes[\"Codigo EMP\"] == \"EMP9585\")\n",
    "    | (reportes[\"Codigo EMP\"] == \"EMP9586\")\n",
    "    | (reportes[\"Codigo EMP\"] == \"EMP9587\")\n",
    "    | (reportes[\"Codigo EMP\"] == \"EMP9588\")\n",
    "    | (reportes[\"Codigo EMP\"] == \"EMP9594\")\n",
    "    | (reportes[\"Codigo EMP\"] == \"EMP9624\")\n",
    "    | (reportes[\"Codigo EMP\"] == \"EMP9625\")\n",
    "    | (reportes[\"Codigo EMP\"] == \"EMP9626\")\n",
    "    | (reportes[\"Codigo EMP\"] == \"EMP9628\")\n",
    "    | (reportes[\"Codigo EMP\"] == \"EMP9629\")\n",
    "    | (reportes[\"Codigo EMP\"] == \"EMP9633\")\n",
    "    | (reportes[\"Codigo EMP\"] == \"EMP9634\")\n",
    "    | (reportes[\"Codigo EMP\"] == \"EMP9635\")\n",
    "    | (reportes[\"Codigo EMP\"] == \"EMP9645\")\n",
    "    | (reportes[\"Codigo EMP\"] == \"EMP9791\")\n",
    "    | (reportes[\"Codigo EMP\"] == \"EMP9799\")\n",
    "    | (reportes[\"Codigo EMP\"] == \"EMP9806\")\n",
    "    | (reportes[\"Codigo EMP\"] == \"EMP9807\")\n",
    "    | (reportes[\"Codigo EMP\"] == \"EMP9691\")\n",
    "    | (reportes[\"Codigo EMP\"] == \"EMP6373\")\n",
    "    | (reportes[\"Codigo EMP\"] == \"EMP6397\")\n",
    "    | (reportes[\"Codigo EMP\"] == \"EMP6410\")\n",
    "    | (reportes[\"Codigo EMP\"] == \"EMP6481\")\n",
    "    | (reportes[\"Codigo EMP\"] == \"EMP6528\")\n",
    "    | (reportes[\"Codigo EMP\"] == \"EMP6612\")\n",
    "    | (reportes[\"Codigo EMP\"] == \"EMP6613\")\n",
    "    | (reportes[\"Codigo EMP\"] == \"EMP6753\")\n",
    "    | (reportes[\"Codigo EMP\"] == \"EMP6875\")\n",
    "    | (reportes[\"Codigo EMP\"] == \"EMP6891\")\n",
    "    | (reportes[\"Codigo EMP\"] == \"EMP7011\")\n",
    "    | (reportes[\"Codigo EMP\"] == \"EMP7012\")\n",
    "    | (reportes[\"Codigo EMP\"] == \"EMP7039\")\n",
    "    | (reportes[\"Codigo EMP\"] == \"EMP7040\")\n",
    "    | (reportes[\"Codigo EMP\"] == \"EMP7041\")\n",
    "    | (reportes[\"Codigo EMP\"] == \"EMP7051\")\n",
    "    | (reportes[\"Codigo EMP\"] == \"EMP7143\")\n",
    "    | (reportes[\"Codigo EMP\"] == \"EMP7170\")\n",
    "    | (reportes[\"Codigo EMP\"] == \"EMP7339\")\n",
    "    | (reportes[\"Codigo EMP\"] == \"EMP7420\")\n",
    "    | (reportes[\"Codigo EMP\"] == \"EMP7568\")\n",
    "    | (reportes[\"Codigo EMP\"] == \"EMP7626\")\n",
    "    | (reportes[\"Codigo EMP\"] == \"EMP7627\")\n",
    "    | (reportes[\"Codigo EMP\"] == \"EMP7633\")\n",
    "    | (reportes[\"Codigo EMP\"] == \"EMP7701\")\n",
    "    | (reportes[\"Codigo EMP\"] == \"EMP7740\")\n",
    "    | (reportes[\"Codigo EMP\"] == \"EMP7746\")\n",
    "    | (reportes[\"Codigo EMP\"] == \"EMP7772\")\n",
    "    | (reportes[\"Codigo EMP\"] == \"EMP7776\")\n",
    "]\n",
    "\n",
    "Thb = Thb[(Thb[\"Empleador\"] == Thb[\"Nombre Empresa\"])]\n",
    "Thb.to_excel(\"F:/Reportes SF/MetLife/Thb_Base.xlsx\", index=False)"
   ]
  },
  {
   "cell_type": "code",
   "execution_count": 51,
   "metadata": {},
   "outputs": [],
   "source": [
    "Veritas = reportes[\n",
    "(reportes[\"Codigo EMP\"] == \"EMP5717\")\n",
    "| (reportes[\"Codigo EMP\"] == \"EMP5718\")\n",
    "| (reportes[\"Codigo EMP\"] == \"EMP5719\")\n",
    "| (reportes[\"Codigo EMP\"] == \"EMP5720\")\n",
    "| (reportes[\"Codigo EMP\"] == \"EMP9959\")\n",
    "| (reportes[\"Codigo EMP\"] == \"EMP9707\")\n",
    "| (reportes[\"Codigo EMP\"] == \"EMP9823\")\n",
    "| (reportes[\"Codigo EMP\"] == \"EMP9824\")\n",
    "| (reportes[\"Codigo EMP\"] == \"EMP6615\")\n",
    "| (reportes[\"Codigo EMP\"] == \"EMP6662\")\n",
    "| (reportes[\"Codigo EMP\"] == \"EMP6778\")\n",
    "| (reportes[\"Codigo EMP\"] == \"EMP6872\")\n",
    "| (reportes[\"Codigo EMP\"] == \"EMP7042\")\n",
    "| (reportes[\"Codigo EMP\"] == \"EMP7052\")\n",
    "\n",
    "]\n",
    "\n",
    "Veritas = Veritas[(Veritas[\"Empleador\"] == Veritas[\"Nombre Empresa\"])]\n",
    "Veritas.to_excel(\"F:/Reportes SF/MetLife/Veritas_Base.xlsx\", index=False)"
   ]
  },
  {
   "cell_type": "code",
   "execution_count": 52,
   "metadata": {},
   "outputs": [],
   "source": [
    "Mercado_Libre = reportes[\n",
    "        (reportes[\"Codigo EMP\"] == \"EMP5617\")\n",
    "    ]\n",
    "\n",
    "Mercado_Libre = Mercado_Libre[(Mercado_Libre[\"Empleador\"] == Mercado_Libre[\"Nombre Empresa\"])]\n",
    "Mercado_Libre.to_excel(\"F:/Reportes SF/Mercado Libre/Mercado_Libre_Base.xlsx\", index=False)\n"
   ]
  },
  {
   "cell_type": "code",
   "execution_count": 53,
   "metadata": {},
   "outputs": [],
   "source": [
    "Ahumada = reportes[\n",
    "        (reportes[\"Codigo EMP\"] == \"EMP6475\")\n",
    "    ]\n",
    "\n",
    "Ahumada = Ahumada[(Ahumada[\"Empleador\"] == Ahumada[\"Nombre Empresa\"])]\n",
    "Ahumada.to_excel(\"F:/Reportes SF/Farmacias Ahumada/Ahumada_Base.xlsx\", index=False)\n"
   ]
  },
  {
   "cell_type": "code",
   "execution_count": 54,
   "metadata": {},
   "outputs": [],
   "source": [
    "Minera_Abra = reportes[\n",
    "        (reportes[\"Codigo EMP\"] == \"EMP7397\")\n",
    "        | (reportes[\"Codigo EMP\"] == \"EMP7795\")\n",
    "        |(reportes[\"Codigo EMP\"] == \"EMP7796\")\n",
    "    ]\n",
    "\n",
    "Minera_Abra = Minera_Abra[(Minera_Abra[\"Empleador\"] == Minera_Abra[\"Nombre Empresa\"])]\n",
    "Minera_Abra.to_excel(\"F:/Reportes SF/Minera El Abra/Abra_Base.xlsx\", index=False)"
   ]
  },
  {
   "cell_type": "code",
   "execution_count": 55,
   "metadata": {},
   "outputs": [],
   "source": [
    "Agrosuper = reportes[\n",
    "        (reportes[\"Holding\"] == \"Agrosuper\")\n",
    "    ]\n",
    "\n",
    "Agrosuper = Agrosuper[(Agrosuper[\"Empleador\"] == Agrosuper[\"Nombre Empresa\"])]\n",
    "Agrosuper.to_excel(\"F:/Reportes SF/Metlife/Mercer_Agrosuper_Base.xlsx\", index=False)"
   ]
  },
  {
   "cell_type": "code",
   "execution_count": 56,
   "metadata": {},
   "outputs": [],
   "source": [
    "Lipigas = reportes[\n",
    "        (reportes[\"Codigo EMP\"] == \"EMP7310\")\n",
    "    ]\n",
    "\n",
    "Lipigas = Lipigas[(Lipigas[\"Empleador\"] == Lipigas[\"Nombre Empresa\"])]\n",
    "Lipigas.to_excel(\"F:/Reportes SF/Lipigas/Lipigas_Base.xlsx\", index=False)"
   ]
  },
  {
   "cell_type": "code",
   "execution_count": 57,
   "metadata": {},
   "outputs": [],
   "source": [
    "Socofar = reportes[\n",
    "    (reportes[\"Codigo EMP\"] == \"EMP3780\")\n",
    "    | (reportes[\"Codigo EMP\"] == \"EMP6749\")\n",
    "    | (reportes[\"Codigo EMP\"] == \"EMP6750\")\n",
    "    | (reportes[\"Codigo EMP\"] == \"EMP6751\")\n",
    "    | (reportes[\"Codigo EMP\"] == \"EMP7405\")\n",
    "    | (reportes[\"Codigo EMP\"] == \"EMP7406\")\n",
    "    | (reportes[\"Codigo EMP\"] == \"EMP7407\")\n",
    "]\n",
    "\n",
    "\n",
    "Socofar = Socofar[(Socofar[\"Empleador\"] == Socofar[\"Nombre Empresa\"])]\n",
    "Socofar.to_excel(\"F:/Reportes SF/Socofar/Socofar_Base.xlsx\", index=False)"
   ]
  },
  {
   "cell_type": "code",
   "execution_count": 58,
   "metadata": {},
   "outputs": [],
   "source": [
    "Kaufmann = reportes[\n",
    "    (reportes[\"Codigo EMP\"] == \"EMP4171\")\n",
    "    | (reportes[\"Codigo EMP\"] == \"EMP7308\")\n",
    "    | (reportes[\"Codigo EMP\"] == \"EMP7309\")\n",
    "]\n",
    "\n",
    "\n",
    "Kaufmann = Kaufmann[(Kaufmann[\"Empleador\"] == Kaufmann[\"Nombre Empresa\"])]\n",
    "Kaufmann.to_excel(\"F:/Reportes SF/Kaufmann/Kaufmann_Base.xlsx\", index=False)"
   ]
  },
  {
   "cell_type": "code",
   "execution_count": 59,
   "metadata": {},
   "outputs": [
    {
     "data": {
      "text/plain": [
       "(8, 22)"
      ]
     },
     "execution_count": 59,
     "metadata": {},
     "output_type": "execute_result"
    }
   ],
   "source": [
    "\n",
    "Tressp = reportes[\n",
    "    (reportes[\"Codigo EMP\"] == \"EMP6467\")\n",
    "    #| (reportes[\"Codigo EMP\"] == \"EMP6468\")\n",
    "    #| (reportes[\"Codigo EMP\"] == \"EMP7607\")\n",
    "]\n",
    "\n",
    "\n",
    "Tressp = Tressp[(Tressp[\"Empleador\"] == Tressp[\"Nombre Empresa\"])]\n",
    "Tressp.to_excel(\"F:/Reportes SF/3SP/3sp_Base.xlsx\", index=False)\n",
    "Tressp.shape\n"
   ]
  },
  {
   "attachments": {},
   "cell_type": "markdown",
   "metadata": {},
   "source": [
    "BCI\n"
   ]
  },
  {
   "cell_type": "code",
   "execution_count": 60,
   "metadata": {},
   "outputs": [],
   "source": [
    "Bci = reportes[\n",
    "    (reportes[\"Campaña\"] == \"BCI\")\n",
    "]\n",
    "\n",
    "\n",
    "Bci = Bci[(Bci[\"Empleador\"] == Bci[\"Nombre Empresa\"])]\n",
    "Bci.to_excel(\"F:/Reportes SF/BCI/BCI_Base.xlsx\", index=False)\n",
    "\n",
    "Cenin = reportes[\n",
    "    (reportes[\"Codigo EMP\"] == \"EMP6250\")\n",
    "]\n",
    "Cenin = Cenin[(Cenin[\"Empleador\"] == Cenin[\"Nombre Empresa\"])]\n",
    "Cenin.to_excel(\"F:/Reportes SF/BCI/Cenin_Base.xlsx\", index=False)\n",
    "\n",
    "Orbis = reportes[\n",
    "    (reportes[\"Codigo EMP\"] == \"EMP6254\")\n",
    "    | (reportes[\"Codigo EMP\"] == \"EMP6255\")\n",
    "\n",
    "]\n",
    "Orbis = Orbis[(Orbis[\"Empleador\"] == Orbis[\"Nombre Empresa\"])]\n",
    "Orbis.to_excel(\"F:/Reportes SF/BCI/Orbis_Base.xlsx\", index=False)"
   ]
  },
  {
   "cell_type": "code",
   "execution_count": 61,
   "metadata": {},
   "outputs": [],
   "source": [
    "Colmena = reportes[\n",
    "    (reportes[\"Campaña\"] == \"Colmena\")\n",
    "]\n",
    "\n",
    "\n",
    "Colmena = Colmena[(Colmena[\"Empleador\"] == Colmena[\"Nombre Empresa\"])]\n",
    "Colmena.to_excel(\"F:/Reportes SF/Colmena/Colmena_Base.xlsx\", index=False)"
   ]
  },
  {
   "cell_type": "code",
   "execution_count": 62,
   "metadata": {},
   "outputs": [],
   "source": [
    "\n",
    "Pedro = reportes[\n",
    "    (reportes[\"Campaña\"] == \"Pedro De Valdivia\")\n",
    "]\n",
    "\n",
    "\n",
    "Pedro = Pedro[(Pedro[\"Empleador\"] == Pedro[\"Nombre Empresa\"])]\n",
    "Pedro.to_excel(\"F:/Reportes SF/Pedro de Valdivia/Pedro_Base.xlsx\", index=False)"
   ]
  },
  {
   "cell_type": "code",
   "execution_count": 63,
   "metadata": {},
   "outputs": [],
   "source": [
    "\n",
    "Vidacel = reportes[\n",
    "    (reportes[\"Campaña\"] == \"Vidacel\")\n",
    "]\n",
    "\n",
    "\n",
    "Vidacel = Vidacel[(Vidacel[\"Empleador\"] == Vidacel[\"Nombre Empresa\"])]\n",
    "Vidacel.to_excel(\"F:/Reportes SF/Vidacel/Vidacel_Base.xlsx\", index=False)\n",
    "\n",
    "VidacelColab = reportes[\n",
    "    (reportes[\"Campaña\"] == \"Vidacel Colaboradores\")\n",
    "]\n",
    "\n",
    "VidacelColab = VidacelColab[(VidacelColab[\"Empleador\"] == VidacelColab[\"Nombre Empresa\"])]\n",
    "VidacelColab.to_excel(\"F:/Reportes SF/Vidacel/VidacelColab_Base.xlsx\", index=False)\n"
   ]
  },
  {
   "cell_type": "code",
   "execution_count": 64,
   "metadata": {},
   "outputs": [],
   "source": [
    "\n",
    "Wfs = reportes[\n",
    "    (reportes[\"Campaña\"] == \"Holding Wfs Food Services\")\n",
    "]\n",
    "\n",
    "Wfs = Wfs[(Wfs[\"Empleador\"] == Wfs[\"Nombre Empresa\"])]\n",
    "Wfs.to_excel(\"F:/Reportes SF/Wfs/Wfs_Base.xlsx\", index=False)\n"
   ]
  },
  {
   "cell_type": "code",
   "execution_count": 65,
   "metadata": {},
   "outputs": [
    {
     "data": {
      "text/plain": [
       "(92, 22)"
      ]
     },
     "execution_count": 65,
     "metadata": {},
     "output_type": "execute_result"
    }
   ],
   "source": [
    "\n",
    "Dermic = reportes[\n",
    "    (reportes[\"Campaña\"] == \"Dermic\")\n",
    "]\n",
    "\n",
    "Dermic = Dermic[(Dermic[\"Empleador\"] == Dermic[\"Nombre Empresa\"])]\n",
    "Dermic.to_excel(\"F:/Reportes SF/Dermic/Dermic_Base.xlsx\", index=False)\n",
    "Dermic.shape"
   ]
  },
  {
   "cell_type": "code",
   "execution_count": 66,
   "metadata": {},
   "outputs": [],
   "source": [
    "\n",
    "Instruvalve = reportes[\n",
    "    (reportes[\"Campaña\"] == \"Instruvalve\")\n",
    "]\n",
    "\n",
    "Instruvalve = Instruvalve[(Instruvalve[\"Empleador\"] == Instruvalve[\"Nombre Empresa\"])]\n",
    "Instruvalve.to_excel(\"F:/Reportes SF/Instruvalve/Instruvalve_Base.xlsx\", index=False)"
   ]
  },
  {
   "cell_type": "code",
   "execution_count": 67,
   "metadata": {},
   "outputs": [],
   "source": [
    "\n",
    "Thb = reportes[\n",
    "    (reportes[\"Campaña\"] == \"THB Seguros\")\n",
    "]\n",
    "\n",
    "Thb = Thb[(Thb[\"Empleador\"] == Thb[\"Nombre Empresa\"])]\n",
    "Thb.to_excel(\"F:/Reportes SF/THB Seguros/Thb_Base.xlsx\", index=False)"
   ]
  },
  {
   "cell_type": "code",
   "execution_count": 68,
   "metadata": {},
   "outputs": [
    {
     "name": "stdout",
     "output_type": "stream",
     "text": [
      "E:\\Siempre\\Usuarios\\Francisca Rubio Yáñez\\TI\\Pacientes Sin Empresas\\2023_02_15_SinEmpresas.xlsx\n"
     ]
    }
   ],
   "source": [
    "Metlife = reportes[\n",
    "    (reportes[\"Campaña\"] == \"MetLife\")\n",
    "    & (reportes[\"Empleador\"] == reportes[\"Nombre Empresa\"])\n",
    "]\n",
    "Metlife.to_excel(\"C:/Users/jmartinez/Documents/Metlife.xlsx\", index=False)\n",
    "\n",
    "Security = reportes[\n",
    "    (reportes[\"Campaña\"] == \"Vida Security\")\n",
    "    & (reportes[\"Empleador\"] == reportes[\"Nombre Empresa\"])\n",
    "]\n",
    "Security.to_excel(\"C:/Users/jmartinez/Documents/Vida Security.xlsx\", index=False)\n",
    "\n",
    "#Reportes_con_empresas.Empleador_x.fillna(Reportes_con_empresas['Nombre Empresa'], inplace=True)\n",
    "reportes_francisca = Reportes_con_empresas\n",
    "reportes_francisca.Empleador_x.fillna('Nones',inplace=True)\n",
    "reportes_francisca = reportes_francisca[\n",
    "    reportes_francisca['Empleador_x'] == 'Nones'\n",
    "]\n",
    "archivo = 'SinEmpresas.xlsx'\n",
    "archivo1 = 'Empresas.xlsx'\n",
    "\n",
    "fecha = str(datetime.date.today())\n",
    "archivo_con_fecha = f\"{fecha}_{archivo}\"\n",
    "archivo_con_fecha = archivo_con_fecha.replace(\":\", \"_\")\n",
    "archivo_con_fecha = archivo_con_fecha.replace(\"-\", \"_\")\n",
    "archivo_con_fecha = archivo_con_fecha.replace(\" \", \"_\")\n",
    "#archivo_con_fecha = archivo_con_fecha.replace(\".\", \"_\")\n",
    "hasta = Path(\"E:/Siempre/Usuarios/Francisca Rubio Yáñez/TI/Pacientes Sin Empresas/\").joinpath(archivo_con_fecha)\n",
    "print (hasta)\n",
    "reportes_francisca.to_excel(\n",
    "    hasta, index=False\n",
    ")\n",
    "\n"
   ]
  },
  {
   "cell_type": "code",
   "execution_count": 69,
   "metadata": {},
   "outputs": [],
   "source": [
    "fecha = str(datetime.date.today())\n",
    "archivo_con_fecha = f\"{fecha}_{archivo1}\"\n",
    "archivo_con_fecha = archivo_con_fecha.replace(\":\", \"_\")\n",
    "archivo_con_fecha = archivo_con_fecha.replace(\"-\", \"_\")\n",
    "archivo_con_fecha = archivo_con_fecha.replace(\" \", \"_\")\n",
    "hasta = Path(\"E:/Siempre/Usuarios/Francisca Rubio Yáñez/TI/Empresas/\").joinpath(archivo_con_fecha)\n",
    "Programas_pacientes.to_excel(\n",
    "    hasta, index=False\n",
    ")\n",
    "\n",
    "hasta = Path(\"F:/Empresas SF/empresas/\").joinpath(archivo_con_fecha)\n",
    "Programas_pacientes.to_excel(\n",
    "    hasta, index=False\n",
    ")"
   ]
  }
 ],
 "metadata": {
  "kernelspec": {
   "display_name": "salesforce",
   "language": "python",
   "name": "python3"
  },
  "language_info": {
   "codemirror_mode": {
    "name": "ipython",
    "version": 3
   },
   "file_extension": ".py",
   "mimetype": "text/x-python",
   "name": "python",
   "nbconvert_exporter": "python",
   "pygments_lexer": "ipython3",
   "version": "3.8.15"
  },
  "orig_nbformat": 4,
  "vscode": {
   "interpreter": {
    "hash": "7fbccfb583f385d5cd7c75cc6ade03c09354727271e9200f47ca4e7fedb5381e"
   }
  }
 },
 "nbformat": 4,
 "nbformat_minor": 2
}
