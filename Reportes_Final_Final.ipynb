{
 "cells": [
  {
   "cell_type": "code",
   "execution_count": 118,
   "metadata": {
    "notebookRunGroups": {
     "groupValue": "1"
    }
   },
   "outputs": [],
   "source": [
    "from pathlib import Path \n",
    "import requests\n",
    "import pandas as pd\n",
    "import numpy as np\n",
    "from io import StringIO\n",
    "from simple_salesforce import Salesforce\n",
    "import shutil\n",
    "import datetime\n",
    "from datetime import date\n",
    "\n",
    "\n",
    "sf = Salesforce(\n",
    "    username=\"jmartinez@careassistance.com\",\n",
    "    password=\"Jcmm0104\",\n",
    "    security_token=\"EwVPSL02qXM8XQ2pkUdA13aW\",\n",
    ")"
   ]
  },
  {
   "attachments": {},
   "cell_type": "markdown",
   "metadata": {},
   "source": [
    "Empresas Programas por empresa y empresas desde account"
   ]
  },
  {
   "cell_type": "code",
   "execution_count": 119,
   "metadata": {
    "notebookRunGroups": {
     "groupValue": "1"
    }
   },
   "outputs": [
    {
     "data": {
      "text/plain": [
       "(7955, 7)"
      ]
     },
     "execution_count": 119,
     "metadata": {},
     "output_type": "execute_result"
    }
   ],
   "source": [
    "# Recuperar empresas ID de salesforce desde Account\n",
    "results = sf.query_all(\n",
    "    \"\"\"\n",
    "  select Id, name, Holding__c ,Campa_a__c,Id_Empresa__c,Empleador__c,poliza__c  from account where ispersonaccount = false \n",
    "    \"\"\"\n",
    ")\n",
    "Empresas_SF = pd.DataFrame(results[\"records\"])\n",
    "Empresas_SF = Empresas_SF[\n",
    "    [\n",
    "        \"Id\",\n",
    "        \"Name\",\n",
    "        \"Holding__c\",\n",
    "        \"Campa_a__c\",\n",
    "        \"Id_Empresa__c\",\n",
    "        \"Empleador__c\",\n",
    "        \"poliza__c\",\n",
    "    ]\n",
    "]\n",
    "Empresas_SF.shape"
   ]
  },
  {
   "cell_type": "code",
   "execution_count": 120,
   "metadata": {
    "notebookRunGroups": {
     "groupValue": "1"
    }
   },
   "outputs": [
    {
     "data": {
      "text/plain": [
       "(7957, 5)"
      ]
     },
     "execution_count": 120,
     "metadata": {},
     "output_type": "execute_result"
    }
   ],
   "source": [
    "# buscar empresas desde Programas_por_Empresas__c datos de empresas\n",
    "results = sf.query_all(\n",
    "    \"\"\"\n",
    "   select Id,Empresa__c, Empresa_Padre__c,Nombre_Empresa__c, Name  from Programas_por_Empresas__c \n",
    "    \"\"\"\n",
    ")\n",
    "Programas_por_empresa_SF = pd.DataFrame(results[\"records\"])\n",
    "\n",
    "Programas_por_empresa_SF = Programas_por_empresa_SF[\n",
    "    [\"Id\", \"Empresa__c\", \"Empresa_Padre__c\", \"Nombre_Empresa__c\", \"Name\"]\n",
    "]\n",
    "Programas_por_empresa_SF.shape"
   ]
  },
  {
   "cell_type": "code",
   "execution_count": 121,
   "metadata": {
    "notebookRunGroups": {
     "groupValue": "1"
    }
   },
   "outputs": [
    {
     "data": {
      "text/plain": [
       "(7963, 12)"
      ]
     },
     "execution_count": 121,
     "metadata": {},
     "output_type": "execute_result"
    }
   ],
   "source": [
    "#Union de Programas Empresa y empresas\n",
    "Programas_empresas = pd.merge(\n",
    "    left=Empresas_SF,\n",
    "    right=Programas_por_empresa_SF,\n",
    "    how=\"left\",\n",
    "    left_on=\"Id\",\n",
    "    right_on=\"Empresa__c\",\n",
    ")\n",
    "Programas_empresas.shape"
   ]
  },
  {
   "cell_type": "code",
   "execution_count": 122,
   "metadata": {
    "notebookRunGroups": {
     "groupValue": "1"
    }
   },
   "outputs": [],
   "source": [
    "Programas_pacientes = Programas_empresas.rename(\n",
    "    columns={\n",
    "        \"Id_x\": \"Id Account Empresa\",\n",
    "        \"Name_x\": \"Nombre Empresa\",\n",
    "        \"Holding__c\": \"Holding\",\n",
    "        \"Campa_a__c\": \"Campaña\",\n",
    "        \"Empleador__c\": \"Empleador\",\n",
    "        \"poliza__c\": \"Poliza\",\n",
    "        \"Id_y\": \"Programas_por_Empresas__c\",\n",
    "        \"Id_Empresa__c\": \"Codigo EMP\",\n",
    "        \"Name_y\": \"Codigo A\",\n",
    "    }\n",
    ")\n",
    "Programas_pacientes = Programas_pacientes[\n",
    "    [\n",
    "        \"Id Account Empresa\",\n",
    "        \"Nombre Empresa\",\n",
    "        \"Holding\",\n",
    "        \"Campaña\",\n",
    "        \"Empleador\",\n",
    "        \"Poliza\",\n",
    "        \"Programas_por_Empresas__c\",\n",
    "        \"Codigo EMP\",\n",
    "        \"Codigo A\"\n",
    "    ]\n",
    "]\n"
   ]
  },
  {
   "attachments": {},
   "cell_type": "markdown",
   "metadata": {},
   "source": [
    "fin empresas y comienzo de rescate de pacientes\n"
   ]
  },
  {
   "cell_type": "code",
   "execution_count": 123,
   "metadata": {
    "notebookRunGroups": {
     "groupValue": "1"
    }
   },
   "outputs": [
    {
     "data": {
      "text/plain": [
       "(1569270, 9)"
      ]
     },
     "execution_count": 123,
     "metadata": {},
     "output_type": "execute_result"
    }
   ],
   "source": [
    "results = sf.query_all(\n",
    "    \"\"\"\n",
    "    select Id, IdentificationId__pc,Name, Identification_Type__c, Ocupaci_n__c,  PersonTitle ,PersonDepartment,HealthCloudGA__Gender__pc,Phone  from Account where ispersonaccount = True\n",
    "   \"\"\"\n",
    ")\n",
    "Pacientes_SF = pd.DataFrame(results[\"records\"])\n",
    "\n",
    "Pacientes_SF = Pacientes_SF[\n",
    "    [\n",
    "        \"Id\",\n",
    "        \"IdentificationId__pc\",\n",
    "        \"Name\",\n",
    "        \"Identification_Type__c\",\n",
    "        \"Ocupaci_n__c\",\n",
    "        \"PersonTitle\",\n",
    "        \"PersonDepartment\",\n",
    "        \"HealthCloudGA__Gender__pc\",\n",
    "        'Phone'\n",
    "        \n",
    "    ]\n",
    "]\n",
    "Pacientes_SF = Pacientes_SF.rename(\n",
    "    columns={\n",
    "        \"Id\": \"Id Account Paciente\",\n",
    "        \"IdentificationId__pc\": \"Rut\",\n",
    "        \"Name\": \"Nombre\",\n",
    "        \"Ocupaci_n__c\": \"Ocupacion\",\n",
    "        \"PersonTitle\": \"Cargo\",\n",
    "        \"PersonDepartment\": \"Departamento\",\n",
    "        \"HealthCloudGA__Gender__pc\": \"Sexo\",\n",
    "        \"Phone\": \"Telefono\",\n",
    "        \"Identification_Type__c\": \"Tipo de Documento\",\n",
    "    }\n",
    ")\n",
    "Pacientes_SF.shape"
   ]
  },
  {
   "attachments": {},
   "cell_type": "markdown",
   "metadata": {},
   "source": [
    "Aca se comienzan a unir las relaciones de pacientes y empresas ya creadas."
   ]
  },
  {
   "cell_type": "code",
   "execution_count": 124,
   "metadata": {
    "notebookRunGroups": {
     "groupValue": "1"
    }
   },
   "outputs": [
    {
     "data": {
      "text/plain": [
       "(1279947, 4)"
      ]
     },
     "execution_count": 124,
     "metadata": {},
     "output_type": "execute_result"
    }
   ],
   "source": [
    "#buscar empresas desde Paciente_Programas__c relaciones de empresas con pacientes\n",
    "results = sf.query_all(\n",
    "    \"\"\"\n",
    "    select Id,Paciente__c, Programas_por_Empresas__c,padre__c from Paciente_Programas__c  \n",
    "    \"\"\"\n",
    ")\n",
    "Paciente_Programas_SF = pd.DataFrame(results[\"records\"])\n",
    "\n",
    "Paciente_Programas_SF = Paciente_Programas_SF[\n",
    "    [\"Id\", \"Paciente__c\", \"Programas_por_Empresas__c\", \"padre__c\"]\n",
    "]\n",
    "Paciente_Programas_SF.shape"
   ]
  },
  {
   "attachments": {},
   "cell_type": "markdown",
   "metadata": {},
   "source": [
    "Union de pacientes programas con las empresas"
   ]
  },
  {
   "cell_type": "code",
   "execution_count": 125,
   "metadata": {
    "notebookRunGroups": {
     "groupValue": "1"
    }
   },
   "outputs": [
    {
     "data": {
      "text/plain": [
       "(1279947, 12)"
      ]
     },
     "execution_count": 125,
     "metadata": {},
     "output_type": "execute_result"
    }
   ],
   "source": [
    "#Union de Pacientes Programas y Programas por empresa\n",
    "empresas_unidas = pd.merge(\n",
    "    left=Paciente_Programas_SF,\n",
    "    right=Programas_pacientes,\n",
    "    how=\"left\",\n",
    "    left_on=\"Programas_por_Empresas__c\",\n",
    "    right_on=\"Programas_por_Empresas__c\",\n",
    ")\n",
    "empresas_unidas.shape"
   ]
  },
  {
   "cell_type": "code",
   "execution_count": 126,
   "metadata": {
    "notebookRunGroups": {
     "groupValue": "1"
    }
   },
   "outputs": [
    {
     "data": {
      "text/plain": [
       "(1279947, 21)"
      ]
     },
     "execution_count": 126,
     "metadata": {},
     "output_type": "execute_result"
    }
   ],
   "source": [
    "empresas_unidas = pd.merge(\n",
    "    left=empresas_unidas,\n",
    "    right=Pacientes_SF,\n",
    "    how=\"left\",\n",
    "    left_on=\"Paciente__c\",\n",
    "    right_on=\"Id Account Paciente\",\n",
    ")\n",
    "empresas_unidas.shape"
   ]
  },
  {
   "cell_type": "code",
   "execution_count": 127,
   "metadata": {
    "notebookRunGroups": {
     "groupValue": "1"
    }
   },
   "outputs": [
    {
     "data": {
      "text/html": [
       "<div>\n",
       "<style scoped>\n",
       "    .dataframe tbody tr th:only-of-type {\n",
       "        vertical-align: middle;\n",
       "    }\n",
       "\n",
       "    .dataframe tbody tr th {\n",
       "        vertical-align: top;\n",
       "    }\n",
       "\n",
       "    .dataframe thead th {\n",
       "        text-align: right;\n",
       "    }\n",
       "</style>\n",
       "<table border=\"1\" class=\"dataframe\">\n",
       "  <thead>\n",
       "    <tr style=\"text-align: right;\">\n",
       "      <th></th>\n",
       "      <th>Id Pacientes Programas</th>\n",
       "      <th>Paciente__c</th>\n",
       "      <th>Programas_por_Empresas__c</th>\n",
       "      <th>Id Account Empresa</th>\n",
       "      <th>Nombre Empresa</th>\n",
       "      <th>Holding</th>\n",
       "      <th>Campaña</th>\n",
       "      <th>Empleador</th>\n",
       "      <th>Poliza</th>\n",
       "      <th>Id Account Paciente</th>\n",
       "      <th>Rut</th>\n",
       "      <th>Nombre</th>\n",
       "      <th>Ocupacion</th>\n",
       "      <th>Cargo</th>\n",
       "      <th>Departamento</th>\n",
       "      <th>Sexo</th>\n",
       "      <th>Telefono</th>\n",
       "      <th>Tipo de Documento</th>\n",
       "      <th>Codigo EMP</th>\n",
       "      <th>Codigo A</th>\n",
       "    </tr>\n",
       "  </thead>\n",
       "  <tbody>\n",
       "    <tr>\n",
       "      <th>0</th>\n",
       "      <td>a1Y8c00000C5asnEAB</td>\n",
       "      <td>0018c00002amLbpAAE</td>\n",
       "      <td>a1W8c000007vDPvEAM</td>\n",
       "      <td>0018c00002axQaeAAE</td>\n",
       "      <td>Serv. De Comerc. Y Ases. Callbusiness SPA</td>\n",
       "      <td>DBCH - CNSTD 2019</td>\n",
       "      <td>MetLife</td>\n",
       "      <td>Serv. De Comerc. Y Ases. Callbusiness SPA</td>\n",
       "      <td>340016490</td>\n",
       "      <td>0018c00002amLbpAAE</td>\n",
       "      <td>224488556</td>\n",
       "      <td>Genesis Antonia Gutierrez Abarca</td>\n",
       "      <td>None</td>\n",
       "      <td>None</td>\n",
       "      <td>None</td>\n",
       "      <td>Mujer</td>\n",
       "      <td>967786319</td>\n",
       "      <td>RUT</td>\n",
       "      <td>EMP6008</td>\n",
       "      <td>A-0173</td>\n",
       "    </tr>\n",
       "    <tr>\n",
       "      <th>1</th>\n",
       "      <td>a1Y8c00000C5asoEAB</td>\n",
       "      <td>0018c00002amLbqAAE</td>\n",
       "      <td>a1W8c000007vDSpEAM</td>\n",
       "      <td>0018c00002axQecAAE</td>\n",
       "      <td>Clínica Alemana</td>\n",
       "      <td>Clínica Alemana</td>\n",
       "      <td>MetLife</td>\n",
       "      <td>Clínica Alemana</td>\n",
       "      <td>340006119</td>\n",
       "      <td>0018c00002amLbqAAE</td>\n",
       "      <td>113376066</td>\n",
       "      <td>Claudia Silva</td>\n",
       "      <td>None</td>\n",
       "      <td>None</td>\n",
       "      <td>None</td>\n",
       "      <td>Mujer</td>\n",
       "      <td>None</td>\n",
       "      <td>RUT</td>\n",
       "      <td>EMP6274</td>\n",
       "      <td>A-0353</td>\n",
       "    </tr>\n",
       "    <tr>\n",
       "      <th>2</th>\n",
       "      <td>a1Y8c00000C5aspEAB</td>\n",
       "      <td>0018c00002amLbrAAE</td>\n",
       "      <td>a1W8c000007vDSpEAM</td>\n",
       "      <td>0018c00002axQecAAE</td>\n",
       "      <td>Clínica Alemana</td>\n",
       "      <td>Clínica Alemana</td>\n",
       "      <td>MetLife</td>\n",
       "      <td>Clínica Alemana</td>\n",
       "      <td>340006119</td>\n",
       "      <td>0018c00002amLbrAAE</td>\n",
       "      <td>79476161</td>\n",
       "      <td>Maria Lorenza Garay</td>\n",
       "      <td>None</td>\n",
       "      <td>None</td>\n",
       "      <td>None</td>\n",
       "      <td>Mujer</td>\n",
       "      <td>None</td>\n",
       "      <td>RUT</td>\n",
       "      <td>EMP6274</td>\n",
       "      <td>A-0353</td>\n",
       "    </tr>\n",
       "    <tr>\n",
       "      <th>3</th>\n",
       "      <td>a1Y8c00000C5asqEAB</td>\n",
       "      <td>0018c00002amLbsAAE</td>\n",
       "      <td>a1W8c000007vDSpEAM</td>\n",
       "      <td>0018c00002axQecAAE</td>\n",
       "      <td>Clínica Alemana</td>\n",
       "      <td>Clínica Alemana</td>\n",
       "      <td>MetLife</td>\n",
       "      <td>Clínica Alemana</td>\n",
       "      <td>340006119</td>\n",
       "      <td>0018c00002amLbsAAE</td>\n",
       "      <td>181854227</td>\n",
       "      <td>Estolaza Vidal Jean Patrick Moises</td>\n",
       "      <td>None</td>\n",
       "      <td>None</td>\n",
       "      <td>None</td>\n",
       "      <td>Hombre</td>\n",
       "      <td>953757757</td>\n",
       "      <td>RUT</td>\n",
       "      <td>EMP6274</td>\n",
       "      <td>A-0353</td>\n",
       "    </tr>\n",
       "    <tr>\n",
       "      <th>4</th>\n",
       "      <td>a1Y8c00000C5asrEAB</td>\n",
       "      <td>0018c00002amLc2AAE</td>\n",
       "      <td>a1W8c000007vDSpEAM</td>\n",
       "      <td>0018c00002axQecAAE</td>\n",
       "      <td>Clínica Alemana</td>\n",
       "      <td>Clínica Alemana</td>\n",
       "      <td>MetLife</td>\n",
       "      <td>Clínica Alemana</td>\n",
       "      <td>340006119</td>\n",
       "      <td>0018c00002amLc2AAE</td>\n",
       "      <td>126899823</td>\n",
       "      <td>Rivas Correa Claudia</td>\n",
       "      <td>None</td>\n",
       "      <td>None</td>\n",
       "      <td>None</td>\n",
       "      <td>Mujer</td>\n",
       "      <td>982058845</td>\n",
       "      <td>RUT</td>\n",
       "      <td>EMP6274</td>\n",
       "      <td>A-0353</td>\n",
       "    </tr>\n",
       "  </tbody>\n",
       "</table>\n",
       "</div>"
      ],
      "text/plain": [
       "  Id Pacientes Programas         Paciente__c Programas_por_Empresas__c  \\\n",
       "0     a1Y8c00000C5asnEAB  0018c00002amLbpAAE        a1W8c000007vDPvEAM   \n",
       "1     a1Y8c00000C5asoEAB  0018c00002amLbqAAE        a1W8c000007vDSpEAM   \n",
       "2     a1Y8c00000C5aspEAB  0018c00002amLbrAAE        a1W8c000007vDSpEAM   \n",
       "3     a1Y8c00000C5asqEAB  0018c00002amLbsAAE        a1W8c000007vDSpEAM   \n",
       "4     a1Y8c00000C5asrEAB  0018c00002amLc2AAE        a1W8c000007vDSpEAM   \n",
       "\n",
       "   Id Account Empresa                             Nombre Empresa  \\\n",
       "0  0018c00002axQaeAAE  Serv. De Comerc. Y Ases. Callbusiness SPA   \n",
       "1  0018c00002axQecAAE                            Clínica Alemana   \n",
       "2  0018c00002axQecAAE                            Clínica Alemana   \n",
       "3  0018c00002axQecAAE                            Clínica Alemana   \n",
       "4  0018c00002axQecAAE                            Clínica Alemana   \n",
       "\n",
       "             Holding  Campaña                                  Empleador  \\\n",
       "0  DBCH - CNSTD 2019  MetLife  Serv. De Comerc. Y Ases. Callbusiness SPA   \n",
       "1    Clínica Alemana  MetLife                            Clínica Alemana   \n",
       "2    Clínica Alemana  MetLife                            Clínica Alemana   \n",
       "3    Clínica Alemana  MetLife                            Clínica Alemana   \n",
       "4    Clínica Alemana  MetLife                            Clínica Alemana   \n",
       "\n",
       "      Poliza Id Account Paciente        Rut  \\\n",
       "0  340016490  0018c00002amLbpAAE  224488556   \n",
       "1  340006119  0018c00002amLbqAAE  113376066   \n",
       "2  340006119  0018c00002amLbrAAE   79476161   \n",
       "3  340006119  0018c00002amLbsAAE  181854227   \n",
       "4  340006119  0018c00002amLc2AAE  126899823   \n",
       "\n",
       "                               Nombre Ocupacion Cargo Departamento    Sexo  \\\n",
       "0    Genesis Antonia Gutierrez Abarca      None  None         None   Mujer   \n",
       "1                       Claudia Silva      None  None         None   Mujer   \n",
       "2                 Maria Lorenza Garay      None  None         None   Mujer   \n",
       "3  Estolaza Vidal Jean Patrick Moises      None  None         None  Hombre   \n",
       "4                Rivas Correa Claudia      None  None         None   Mujer   \n",
       "\n",
       "    Telefono Tipo de Documento Codigo EMP Codigo A  \n",
       "0  967786319               RUT    EMP6008   A-0173  \n",
       "1       None               RUT    EMP6274   A-0353  \n",
       "2       None               RUT    EMP6274   A-0353  \n",
       "3  953757757               RUT    EMP6274   A-0353  \n",
       "4  982058845               RUT    EMP6274   A-0353  "
      ]
     },
     "execution_count": 127,
     "metadata": {},
     "output_type": "execute_result"
    }
   ],
   "source": [
    "empresas_unidas = empresas_unidas.rename(\n",
    "    columns={\n",
    "        \"Id\": \"Id Pacientes Programas\"       \n",
    "    }\n",
    ")\n",
    "empresas_unidas = empresas_unidas[\n",
    "    [\n",
    "        \"Id Pacientes Programas\",\n",
    "        \"Paciente__c\",\n",
    "        \"Programas_por_Empresas__c\",\n",
    "        'Id Account Empresa',\n",
    "        'Nombre Empresa',\n",
    "        'Holding',\n",
    "        'Campaña',\n",
    "        'Empleador',\n",
    "        'Poliza',\n",
    "        'Id Account Paciente',\n",
    "        'Rut',\n",
    "        'Nombre',\n",
    "        'Ocupacion',\n",
    "        'Cargo',\n",
    "        'Departamento',\n",
    "        'Sexo',\n",
    "        'Telefono',\n",
    "        'Tipo de Documento',\n",
    "        'Codigo EMP',\n",
    "        'Codigo A'\n",
    "\n",
    "\n",
    "    ]]\n",
    "empresas_unidas.head()"
   ]
  },
  {
   "attachments": {},
   "cell_type": "markdown",
   "metadata": {},
   "source": [
    "Terminado la visualizacion de las empresas y pacientes que se muestran en los reportes\n"
   ]
  },
  {
   "attachments": {},
   "cell_type": "markdown",
   "metadata": {},
   "source": [
    "Descarga desde Citas de Servicios"
   ]
  },
  {
   "cell_type": "code",
   "execution_count": 128,
   "metadata": {
    "notebookRunGroups": {
     "groupValue": "1"
    }
   },
   "outputs": [
    {
     "data": {
      "text/plain": [
       "(8769, 8)"
      ]
     },
     "execution_count": 128,
     "metadata": {},
     "output_type": "execute_result"
    }
   ],
   "source": [
    "# Citas de Servicio\n",
    "results = sf.query_all(\n",
    "    \"\"\"\n",
    "    SELECT Id, clinica__c,AccountId,CreatedDate,RUT__c,Work_TypeGroup__c,Status,Interacci_n__c,AppointmentNumber,Tipo_de_la_cita__c from ServiceAppointment\n",
    "    \"\"\"\n",
    ")\n",
    "\n",
    "\n",
    "Citas_de_servicio = pd.DataFrame(results[\"records\"])\n",
    "Citas_de_servicio['Empresas'] = np.nan\n",
    "#Citas_de_servicio['RUT__c'].map(pacientessf_empresas.set_index('IdentificationId__pc_x',verify_integrity=False)['Name']) \n",
    "Citas_de_servicio['Empresas Id'] = np.nan\n",
    "Citas_de_servicio = Citas_de_servicio[\n",
    "    [\n",
    "        \"AppointmentNumber\",        \n",
    "        \"RUT__c\",  \n",
    "        'Empresas',      \n",
    "        \"CreatedDate\",\n",
    "        \"Tipo_de_la_cita__c\",\n",
    "        'Empresas Id',        \n",
    "        \"AccountId\",\n",
    "        'Clinica__c'\n",
    "        \n",
    "    ]\n",
    "]\n",
    "Citas_de_servicio.shape\n"
   ]
  },
  {
   "cell_type": "code",
   "execution_count": 129,
   "metadata": {
    "notebookRunGroups": {
     "groupValue": "1"
    }
   },
   "outputs": [
    {
     "data": {
      "text/plain": [
       "(8769, 8)"
      ]
     },
     "execution_count": 129,
     "metadata": {},
     "output_type": "execute_result"
    }
   ],
   "source": [
    "# Citas de Servicio Orientacion\n",
    "results = sf.query_all(\n",
    "    \"\"\"\n",
    "    SELECT Id, AccountId,CreatedDate,RUT__c,WorkTypeId,Work_TypeGroup__c,Status,Interacci_n__c,Tipo_de_la_cita__c,AppointmentNumber from ServiceAppointment\n",
    "    \"\"\"\n",
    ")\n",
    "Citas_de_servicio2 = pd.DataFrame(results[\"records\"])\n",
    "Citas_de_servicio2['Clinica__c'] = 'Orientación Médica'\n",
    "Citas_de_servicio2['Empresas'] = np.nan\n",
    "Citas_de_servicio2['Empresas Id'] = np.nan\n",
    "Citas_de_servicio2 = Citas_de_servicio2[\n",
    "    [\n",
    "        \"AppointmentNumber\",        \n",
    "        \"RUT__c\",  \n",
    "        'Empresas',      \n",
    "        \"CreatedDate\",\n",
    "        \"Tipo_de_la_cita__c\",\n",
    "        'Empresas Id',       \n",
    "        \"AccountId\",\n",
    "        'Clinica__c',\n",
    "        \n",
    "    ]\n",
    "]\n",
    "Citas_de_servicio2.shape\n"
   ]
  },
  {
   "cell_type": "code",
   "execution_count": 130,
   "metadata": {
    "notebookRunGroups": {
     "groupValue": "1"
    }
   },
   "outputs": [
    {
     "data": {
      "text/plain": [
       "(17538, 8)"
      ]
     },
     "execution_count": 130,
     "metadata": {},
     "output_type": "execute_result"
    }
   ],
   "source": [
    "#unir dos citas\n",
    "Gran_Citas_deservicio = pd.concat([Citas_de_servicio, Citas_de_servicio2], axis=0)\n",
    "Gran_Citas_deservicio = Gran_Citas_deservicio.rename(\n",
    "    columns={\n",
    "        \"AppointmentNumber\": \"Codigo Ficha\",\n",
    "        \"RUT__c\": \"Rut\",\n",
    "        \"Empresas\": \"Empleador\",\n",
    "        \"CreatedDate\": \"Fecha\",\n",
    "        \"Tipo_de_la_cita__c\": \"Canal\",\n",
    "        \"Empresas Id\": \"Cod. Empresa\",\n",
    "        \"AccountId\": \"Id Paciente\",        \n",
    "        'Clinica__c':'Clínica'\n",
    "    }\n",
    ")\n",
    "\n",
    "Gran_Citas_deservicio.shape"
   ]
  },
  {
   "cell_type": "code",
   "execution_count": 131,
   "metadata": {
    "notebookRunGroups": {
     "groupValue": "1"
    }
   },
   "outputs": [
    {
     "data": {
      "text/plain": [
       "(1041, 8)"
      ]
     },
     "execution_count": 131,
     "metadata": {},
     "output_type": "execute_result"
    }
   ],
   "source": [
    "#Clinica_deporte\n",
    "results = sf.query_all(\n",
    "    \"\"\"\n",
    "   SELECT id,Name,Rut__c,Nombre_Empresa__c,CreatedDate,Canal__c, Empresa__c, Account__c from Ficha_Cl_nica_Deporte__c\n",
    "     \"\"\"\n",
    ")\n",
    "ficha_deporte = pd.DataFrame(results[\"records\"])\n",
    "\n",
    "ficha_deporte = ficha_deporte[\n",
    "    [\n",
    "        \"Name\",\n",
    "        \"Rut__c\",\n",
    "        \"Nombre_Empresa__c\",\n",
    "        \"CreatedDate\",\n",
    "        \"Canal__c\",\n",
    "        \"Empresa__c\",\n",
    "        \"Account__c\",\n",
    "        \n",
    "    ]\n",
    "]\n",
    "ficha_deporte['clinica'] = 'Deporte'\n",
    "ficha_deporte = ficha_deporte.rename(\n",
    "    columns={\n",
    "        \"Name\": \"Codigo Ficha\",\n",
    "        \"Rut__c\": \"Rut\",\n",
    "        \"Nombre_Empresa__c\": \"Empleador\",\n",
    "        \"CreatedDate\": \"Fecha\",\n",
    "        \"Canal__c\": \"Canal\",\n",
    "        \"Empresa__c\": \"Cod. Empresa\",\n",
    "        \"Account__c\": \"Id Paciente\",        \n",
    "        'clinica':'Clínica'\n",
    "    }\n",
    ")\n",
    "ficha_deporte.shape\n"
   ]
  },
  {
   "cell_type": "code",
   "execution_count": 132,
   "metadata": {
    "notebookRunGroups": {
     "groupValue": "1"
    }
   },
   "outputs": [
    {
     "data": {
      "text/plain": [
       "(2334, 8)"
      ]
     },
     "execution_count": 132,
     "metadata": {},
     "output_type": "execute_result"
    }
   ],
   "source": [
    "# Clinica Nutricion\n",
    "results = sf.query_all(\n",
    "    \"\"\"\n",
    "   select  Name, RUT__c, Nombre_Empresa__c, CreatedDate, Canal__c, Empresa__c, Account__c from Ficha_Clinica_Nutrici_n__c \n",
    "     \"\"\"\n",
    ")\n",
    "ficha_nutricion = pd.DataFrame(results[\"records\"])\n",
    "\n",
    "ficha_nutricion = ficha_nutricion[\n",
    "    [\n",
    "        \"Name\",\n",
    "        \"RUT__c\",\n",
    "        \"Nombre_Empresa__c\",\n",
    "        \"CreatedDate\",\n",
    "        \"Canal__c\",\n",
    "        \"Empresa__c\",\n",
    "        \"Account__c\",\n",
    "        \n",
    "    ]\n",
    "]\n",
    "ficha_nutricion[\"clinica\"] = \"Nutrición\"\n",
    "\n",
    "ficha_nutricion = ficha_nutricion.rename(\n",
    "    columns={\n",
    "        \"Name\": \"Codigo Ficha\",\n",
    "        \"RUT__c\": \"Rut\",\n",
    "        \"Nombre_Empresa__c\": \"Empleador\",\n",
    "        \"CreatedDate\": \"Fecha\",\n",
    "        \"Canal__c\": \"Canal\",\n",
    "        \"Empresa__c\": \"Cod. Empresa\",\n",
    "        \"Account__c\": \"Id Paciente\",\n",
    "        'clinica':'Clínica'\n",
    "    }\n",
    ")\n",
    "\n",
    "\n",
    "ficha_nutricion.shape"
   ]
  },
  {
   "cell_type": "code",
   "execution_count": 133,
   "metadata": {
    "notebookRunGroups": {
     "groupValue": "1"
    }
   },
   "outputs": [
    {
     "data": {
      "text/plain": [
       "(5, 8)"
      ]
     },
     "execution_count": 133,
     "metadata": {},
     "output_type": "execute_result"
    }
   ],
   "source": [
    "#Clinica AppSex\n",
    "results = sf.query_all(\n",
    "    \"\"\"\n",
    "   select  Name, Rut__c, Nombre_Empresa__c, CreatedDate, Canal__c, Empresa__c, Account__c, RecordTypeId from Ficha_Cl_nica_ApsSex__c \n",
    "     \"\"\"\n",
    ")\n",
    "ficha_Apssex = pd.DataFrame(results[\"records\"])\n",
    "\n",
    "ficha_Apssex = ficha_Apssex[\n",
    "    [\n",
    "        \"Name\",\n",
    "        \"Rut__c\",\n",
    "        \"Nombre_Empresa__c\",\n",
    "        \"CreatedDate\",\n",
    "        \"Canal__c\",\n",
    "        \"Empresa__c\",\n",
    "        \"Account__c\",\n",
    "        \n",
    "    ]\n",
    "]\n",
    "ficha_Apssex['clinica'] = 'Asesoría Psicologíca en Salud Sexual'\n",
    "ficha_Apssex = ficha_Apssex.rename(\n",
    "    columns={\n",
    "        \"Name\": \"Codigo Ficha\",\n",
    "        \"Rut__c\": \"Rut\",\n",
    "        \"Nombre_Empresa__c\": \"Empleador\",\n",
    "        \"CreatedDate\": \"Fecha\",\n",
    "        \"Canal__c\": \"Canal\",\n",
    "        \"Empresa__c\": \"Cod. Empresa\",\n",
    "        \"Account__c\": \"Id Paciente\",\n",
    "        'clinica':'Clínica'\n",
    "    }\n",
    ")\n",
    "\n",
    "ficha_Apssex.shape"
   ]
  },
  {
   "cell_type": "code",
   "execution_count": 134,
   "metadata": {
    "notebookRunGroups": {
     "groupValue": "1"
    }
   },
   "outputs": [
    {
     "data": {
      "text/plain": [
       "(1664, 9)"
      ]
     },
     "execution_count": 134,
     "metadata": {},
     "output_type": "execute_result"
    }
   ],
   "source": [
    "# Clinica Psicologia\n",
    "results = sf.query_all(\n",
    "    \"\"\"\n",
    "   select  Name, Rut__c, Nombre_Empresa__c, CreatedDate, Canal__c, Empresa__c, Account__c, RecordTypeId,Motivo_de_consulta_manifiesto__c from Ficha_Cl_nica_Asistencia_Emocional__c \n",
    "     \"\"\"\n",
    ")\n",
    "ficha_Psicologia = pd.DataFrame(results[\"records\"])\n",
    "\n",
    "ficha_Psicologia = ficha_Psicologia[\n",
    "    [\n",
    "        \"Name\",\n",
    "        \"Rut__c\",\n",
    "        \"Nombre_Empresa__c\",\n",
    "        \"CreatedDate\",\n",
    "        \"Canal__c\",\n",
    "        \"Empresa__c\",\n",
    "        \"Account__c\",\n",
    "        \"Motivo_de_consulta_manifiesto__c\",\n",
    "    ]\n",
    "]\n",
    "ficha_Psicologia[\"clinica\"] = \"Psicología\"\n",
    "ficha_Psicologia = ficha_Psicologia.rename(\n",
    "    columns={\n",
    "        \"Name\": \"Codigo Ficha\",\n",
    "        \"Rut__c\": \"Rut\",\n",
    "        \"Nombre_Empresa__c\": \"Empleador\",\n",
    "        \"CreatedDate\": \"Fecha\",\n",
    "        \"Canal__c\": \"Canal\",\n",
    "        \"Empresa__c\": \"Cod. Empresa\",\n",
    "        \"Account__c\": \"Id Paciente\",\n",
    "        \"clinica\": \"Clínica\",\n",
    "        \"Motivo_de_consulta_manifiesto__c\": \"Motivo de consulta\",\n",
    "    }\n",
    ")\n",
    "ficha_Psicologia.shape"
   ]
  },
  {
   "cell_type": "code",
   "execution_count": 135,
   "metadata": {
    "notebookRunGroups": {
     "groupValue": "1"
    }
   },
   "outputs": [
    {
     "data": {
      "text/plain": [
       "(231, 8)"
      ]
     },
     "execution_count": 135,
     "metadata": {},
     "output_type": "execute_result"
    }
   ],
   "source": [
    "#Clinica Sueño\n",
    "results = sf.query_all(\n",
    "    \"\"\"\n",
    "   select  Name, RUT__c, Nombre_Empresa__c, CreatedDate, Canal__c, Empresa__c, Account__c, RecordTypeId from Ficha_Cl_nica_del_Sue_o__c \n",
    "     \"\"\"\n",
    ")\n",
    "ficha_Sueno = pd.DataFrame(results[\"records\"])\n",
    "ficha_Sueno = ficha_Sueno[\n",
    "    [\n",
    "        \"Name\",\n",
    "        \"Rut__c\",\n",
    "        \"Nombre_Empresa__c\",\n",
    "        \"CreatedDate\",\n",
    "        \"Canal__c\",\n",
    "        \"Empresa__c\",\n",
    "        \"Account__c\",\n",
    "    ]\n",
    "]\n",
    "ficha_Sueno['clinica'] = 'Clínica Del Sueño'\n",
    "ficha_Sueno = ficha_Sueno.rename(\n",
    "    columns={\n",
    "        \"Name\": \"Codigo Ficha\",\n",
    "        \"Rut__c\": \"Rut\",\n",
    "        \"Nombre_Empresa__c\": \"Empleador\",\n",
    "        \"CreatedDate\": \"Fecha\",\n",
    "        \"Canal__c\": \"Canal\",\n",
    "        \"Empresa__c\": \"Cod. Empresa\",\n",
    "        \"Account__c\": \"Id Paciente\",\n",
    "        'clinica':'Clínica'\n",
    "    }\n",
    ")\n",
    "ficha_Sueno.shape"
   ]
  },
  {
   "cell_type": "code",
   "execution_count": 136,
   "metadata": {
    "notebookRunGroups": {
     "groupValue": "1"
    }
   },
   "outputs": [
    {
     "data": {
      "text/plain": [
       "(952, 8)"
      ]
     },
     "execution_count": 136,
     "metadata": {},
     "output_type": "execute_result"
    }
   ],
   "source": [
    "#Clinica PAciente Cronico\n",
    "results = sf.query_all(\n",
    "    \"\"\"\n",
    "   select  Name, RUT__c, Nombre_Empresa__c, CreatedDate, Canal__c, Empresa__c, Account__c from Ficha_Cl_nica_Seg_Paciente_Cr_nico__c  \n",
    "     \"\"\"\n",
    ")\n",
    "ficha_Cronico = pd.DataFrame(results[\"records\"])\n",
    "ficha_Cronico = ficha_Cronico[\n",
    "    [\n",
    "        \"Name\",\n",
    "        \"Rut__c\",\n",
    "        \"Nombre_Empresa__c\",\n",
    "        \"CreatedDate\",\n",
    "        \"Canal__c\",\n",
    "        \"Empresa__c\",\n",
    "        \"Account__c\",\n",
    "    ]\n",
    "]\n",
    "ficha_Cronico['clinica'] = 'Pacientes Crónicos'\n",
    "ficha_Cronico = ficha_Cronico.rename(\n",
    "    columns={\n",
    "        \"Name\": \"Codigo Ficha\",\n",
    "        \"Rut__c\": \"Rut\",\n",
    "        \"Nombre_Empresa__c\": \"Empleador\",\n",
    "        \"CreatedDate\": \"Fecha\",\n",
    "        \"Canal__c\": \"Canal\",\n",
    "        \"Empresa__c\": \"Cod. Empresa\",\n",
    "        \"Account__c\": \"Id Paciente\",\n",
    "        'clinica':'Clínica'\n",
    "    }\n",
    ")\n",
    "ficha_Cronico.shape"
   ]
  },
  {
   "cell_type": "code",
   "execution_count": 137,
   "metadata": {
    "notebookRunGroups": {
     "groupValue": "1"
    }
   },
   "outputs": [
    {
     "data": {
      "text/plain": [
       "(2765, 8)"
      ]
     },
     "execution_count": 137,
     "metadata": {},
     "output_type": "execute_result"
    }
   ],
   "source": [
    "#Clinica Telemedicina\n",
    "results = sf.query_all(\n",
    "    \"\"\"\n",
    "   select  Name, RUT__c, Nombre_Empresa__c, CreatedDate, Canal__c, Empresa__c, Account__c from Ficha_Cl_nica_Telemedicina__c   \n",
    "     \"\"\"\n",
    ")\n",
    "ficha_Telemedicina = pd.DataFrame(results[\"records\"])\n",
    "ficha_Telemedicina = ficha_Telemedicina[\n",
    "    [\n",
    "        \"Name\",\n",
    "        \"Rut__c\",\n",
    "        \"Nombre_Empresa__c\",\n",
    "        \"CreatedDate\",\n",
    "        \"Canal__c\",\n",
    "        \"Empresa__c\",\n",
    "        \"Account__c\"\n",
    "    ]\n",
    "]\n",
    "ficha_Telemedicina['clinica'] = 'Telemedicina'\n",
    "ficha_Telemedicina = ficha_Telemedicina.rename(\n",
    "    columns={\n",
    "        \"Name\": \"Codigo Ficha\",\n",
    "        \"Rut__c\": \"Rut\",\n",
    "        \"Nombre_Empresa__c\": \"Empleador\",\n",
    "        \"CreatedDate\": \"Fecha\",\n",
    "        \"Canal__c\": \"Canal\",\n",
    "        \"Empresa__c\": \"Cod. Empresa\",\n",
    "        \"Account__c\": \"Id Paciente\",        \n",
    "        'clinica':'Clínica'\n",
    "    }\n",
    ")\n",
    "ficha_Telemedicina.shape"
   ]
  },
  {
   "cell_type": "code",
   "execution_count": 138,
   "metadata": {
    "notebookRunGroups": {
     "groupValue": "1"
    }
   },
   "outputs": [
    {
     "data": {
      "text/plain": [
       "(23, 8)"
      ]
     },
     "execution_count": 138,
     "metadata": {},
     "output_type": "execute_result"
    }
   ],
   "source": [
    "#Clinica Veterinaria\n",
    "results = sf.query_all(\n",
    "    \"\"\"\n",
    "   select  Name, RUT__c, Nombre_Empresa__c, CreatedDate, Canal__c, Empresa__c, Account__c from Ficha_Cl_nica_Veterinaria__c    \n",
    "     \"\"\"\n",
    ")\n",
    "ficha_Veterinaria = pd.DataFrame(results[\"records\"])\n",
    "ficha_Veterinaria = ficha_Veterinaria[\n",
    "    [\n",
    "        \"Name\",\n",
    "        \"Rut__c\",\n",
    "        \"Nombre_Empresa__c\",\n",
    "        \"CreatedDate\",\n",
    "        \"Canal__c\",\n",
    "        \"Empresa__c\",\n",
    "        \"Account__c\"\n",
    "    ]\n",
    "]\n",
    "ficha_Veterinaria['clinica'] = 'Veterinaria'\n",
    "ficha_Veterinaria = ficha_Veterinaria.rename(\n",
    "    columns={\n",
    "        \"Name\": \"Codigo Ficha\",\n",
    "        \"Rut__c\": \"Rut\",\n",
    "        \"Nombre_Empresa__c\": \"Empleador\",\n",
    "        \"CreatedDate\": \"Fecha\",\n",
    "        \"Canal__c\": \"Canal\",\n",
    "        \"Empresa__c\": \"Cod. Empresa\",\n",
    "        \"Account__c\": \"Id Paciente\",\n",
    "        'clinica':'Clínica'\n",
    "    }\n",
    ")\n",
    "ficha_Veterinaria.shape"
   ]
  },
  {
   "cell_type": "code",
   "execution_count": 139,
   "metadata": {
    "notebookRunGroups": {
     "groupValue": "1"
    }
   },
   "outputs": [
    {
     "data": {
      "text/plain": [
       "(34, 8)"
      ]
     },
     "execution_count": 139,
     "metadata": {},
     "output_type": "execute_result"
    }
   ],
   "source": [
    "#Clinica Orientacion\n",
    "results = sf.query_all(\n",
    "    \"\"\"\n",
    "   select  Name, RUT__c, Nombre_Empresa__c, CreatedDate, Canal__c, Empresa__c, Account__c from Ficha_Orientaci_n_Medica__c     \n",
    "     \"\"\"\n",
    ")\n",
    "ficha_Orientacion = pd.DataFrame(results[\"records\"])\n",
    "ficha_Orientacion = ficha_Orientacion[\n",
    "    [\n",
    "        \"Name\",\n",
    "        \"Rut__c\",\n",
    "        \"Nombre_Empresa__c\",\n",
    "        \"CreatedDate\",\n",
    "        \"Canal__c\",\n",
    "        \"Empresa__c\",\n",
    "        \"Account__c\",\n",
    "        \n",
    "    ]\n",
    "]\n",
    "ficha_Orientacion['clinica'] = 'Orientación Médica'\n",
    "ficha_Orientacion = ficha_Orientacion.rename(\n",
    "    columns={\n",
    "        \"Name\": \"Codigo Ficha\",\n",
    "        \"Rut__c\": \"Rut\",\n",
    "        \"Nombre_Empresa__c\": \"Empleador\",\n",
    "        \"CreatedDate\": \"Fecha\",\n",
    "        \"Canal__c\": \"Canal\",\n",
    "        \"Empresa__c\": \"Cod. Empresa\",\n",
    "        \"Account__c\": \"Id Paciente\",\n",
    "        'clinica':'Clínica'\n",
    "    }\n",
    ")\n",
    "ficha_Orientacion.shape"
   ]
  },
  {
   "cell_type": "code",
   "execution_count": 140,
   "metadata": {
    "notebookRunGroups": {
     "groupValue": "1"
    }
   },
   "outputs": [
    {
     "data": {
      "text/plain": [
       "(355, 8)"
      ]
     },
     "execution_count": 140,
     "metadata": {},
     "output_type": "execute_result"
    }
   ],
   "source": [
    "#Clinica Front\n",
    "results = sf.query_all(\n",
    "    \"\"\"\n",
    "   select  Name, RUT__c, Nombre_Empresa__c, CreatedDate, Canal__c, Empresa__c, Account__c from Ficha_Front__c     \n",
    "     \"\"\"\n",
    ")\n",
    "ficha_Front = pd.DataFrame(results[\"records\"])\n",
    "\n",
    "ficha_Front = ficha_Front[\n",
    "    [\n",
    "        \"Name\",\n",
    "        \"Rut__c\",\n",
    "        \"Nombre_Empresa__c\",\n",
    "        \"CreatedDate\",\n",
    "        \"Canal__c\",\n",
    "        \"Empresa__c\",\n",
    "        \"Account__c\"\n",
    "    ]\n",
    "]\n",
    "ficha_Front['clinica'] = 'Orientación Médica'\n",
    "ficha_Front = ficha_Front.rename(\n",
    "    columns={\n",
    "        \"Name\": \"Codigo Ficha\",\n",
    "        \"Rut__c\": \"Rut\",\n",
    "        \"Nombre_Empresa__c\": \"Empleador\",\n",
    "        \"CreatedDate\": \"Fecha\",\n",
    "        \"Canal__c\": \"Canal\",\n",
    "        \"Empresa__c\": \"Cod. Empresa\",\n",
    "        \"Account__c\": \"Id Paciente\",\n",
    "        'clinica':'Clínica'\n",
    "    }\n",
    ")\n",
    "ficha_Front.shape"
   ]
  },
  {
   "cell_type": "code",
   "execution_count": 141,
   "metadata": {
    "notebookRunGroups": {
     "groupValue": "1"
    }
   },
   "outputs": [
    {
     "data": {
      "text/plain": [
       "(1095, 8)"
      ]
     },
     "execution_count": 141,
     "metadata": {},
     "output_type": "execute_result"
    }
   ],
   "source": [
    "#Clinica_general\n",
    "results = sf.query_all(\n",
    "    \"\"\"\n",
    "   select  Name, RUT__c, Nombre_Empresa__c, CreatedDate, Canal__c, Empresa__c,Account__c,   Programa__c   from Ficha_Clinica_General__c \n",
    "     \"\"\"\n",
    ")\n",
    "ficha_general = pd.DataFrame(results[\"records\"])\n",
    "\n",
    "ficha_general = ficha_general[\n",
    "    [\n",
    "        \"Name\",\n",
    "        \"Rut__c\",\n",
    "        \"Nombre_Empresa__c\",\n",
    "        \"CreatedDate\",\n",
    "        \"Canal__c\",\n",
    "        \"Empresa__c\",\n",
    "        \"Account__c\",\n",
    "        'Programa__c'\n",
    "        \n",
    "    ]\n",
    "]\n",
    "\n",
    "ficha_general = ficha_general.rename(\n",
    "    columns={\n",
    "        \"Name\": \"Codigo Ficha\",\n",
    "        \"Rut__c\": \"Rut\",\n",
    "        \"Nombre_Empresa__c\": \"Empleador\",\n",
    "        \"CreatedDate\": \"Fecha\",\n",
    "        \"Canal__c\": \"Canal\",\n",
    "        \"Empresa__c\": \"Cod. Empresa\",\n",
    "        \"Account__c\": \"Id Paciente\",        \n",
    "        'Programa__c':'Clínica'\n",
    "    }\n",
    ")\n",
    "ficha_general.shape\n"
   ]
  },
  {
   "cell_type": "code",
   "execution_count": 142,
   "metadata": {
    "notebookRunGroups": {
     "groupValue": "1"
    }
   },
   "outputs": [
    {
     "data": {
      "text/plain": [
       "(237, 8)"
      ]
     },
     "execution_count": 142,
     "metadata": {},
     "output_type": "execute_result"
    }
   ],
   "source": [
    "#Clinica Ingreso deportivo\n",
    "results = sf.query_all(\n",
    "    \"\"\"\n",
    "   select  Name, RUT__c, Nombre_Empresa__c, CreatedDate, Canal__c, Empresa__c, Account__c from Ficha_Cl_nica_Ingreso_Deportivo__c    \n",
    "     \"\"\"\n",
    ")\n",
    "ficha_Ingreso_dep = pd.DataFrame(results[\"records\"])\n",
    "\n",
    "ficha_Ingreso_dep = ficha_Ingreso_dep[\n",
    "    [\n",
    "        \"Name\",\n",
    "        \"Rut__c\",\n",
    "        \"Nombre_Empresa__c\",\n",
    "        \"CreatedDate\",\n",
    "        \"Canal__c\",\n",
    "        \"Empresa__c\",\n",
    "        \"Account__c\",\n",
    "        \n",
    "    ]\n",
    "]\n",
    "ficha_Ingreso_dep['clinica'] = 'Ingreso Deporte Seguro'\n",
    "ficha_Ingreso_dep = ficha_Ingreso_dep.rename(\n",
    "    columns={\n",
    "        \"Name\": \"Codigo Ficha\",\n",
    "        \"Rut__c\": \"Rut\",\n",
    "        \"Nombre_Empresa__c\": \"Empleador\",\n",
    "        \"CreatedDate\": \"Fecha\",\n",
    "        \"Canal__c\": \"Canal\",\n",
    "        \"Empresa__c\": \"Cod. Empresa\",\n",
    "        \"Account__c\": \"Id Paciente\",\n",
    "        'clinica':'Clínica'\n",
    "    }\n",
    ")\n",
    "ficha_Ingreso_dep.shape"
   ]
  },
  {
   "cell_type": "code",
   "execution_count": 143,
   "metadata": {
    "notebookRunGroups": {
     "groupValue": "1"
    }
   },
   "outputs": [
    {
     "data": {
      "text/plain": [
       "(10736, 9)"
      ]
     },
     "execution_count": 143,
     "metadata": {},
     "output_type": "execute_result"
    }
   ],
   "source": [
    "Clinicas = pd.concat([ficha_Front, ficha_Ingreso_dep,ficha_Orientacion,ficha_Veterinaria,ficha_Telemedicina,ficha_Cronico,ficha_Sueno,ficha_Psicologia,ficha_Apssex,ficha_nutricion,ficha_deporte,ficha_general], axis=0)\n",
    "Clinicas.shape"
   ]
  },
  {
   "cell_type": "code",
   "execution_count": 144,
   "metadata": {
    "notebookRunGroups": {
     "groupValue": "1"
    }
   },
   "outputs": [
    {
     "data": {
      "text/plain": [
       "(28274, 9)"
      ]
     },
     "execution_count": 144,
     "metadata": {},
     "output_type": "execute_result"
    }
   ],
   "source": [
    "Reortes_general = pd.concat([Clinicas,Gran_Citas_deservicio ], axis=0)\n",
    "Reortes_general.shape"
   ]
  },
  {
   "cell_type": "code",
   "execution_count": 145,
   "metadata": {
    "notebookRunGroups": {
     "groupValue": "1"
    }
   },
   "outputs": [],
   "source": [
    "Reortes_general[\"Dia\"] = pd.to_datetime(Reortes_general[\"Fecha\"]).dt.day\n",
    "\n",
    "Reortes_general[\"Mes\"] = pd.to_datetime(Reortes_general[\"Fecha\"]).dt.month\n",
    "\n",
    "Reortes_general[\"semana\"] = pd.to_datetime(Reortes_general[\"Fecha\"]).dt.month_name()\n",
    "\n",
    "Reortes_general[\"Año\"] = pd.to_datetime(Reortes_general[\"Fecha\"]).dt.year\n",
    "\n",
    "\n",
    "# x = date(Citas_de_servicio['Dia'], Citas_de_servicio['Mes'], Citas_de_servicio['Año'] )\n",
    "Reortes_general[\"Fecha_chilena\"] = pd.to_datetime(\n",
    "    Reortes_general[\"Fecha\"], dayfirst=True, yearfirst=False, exact=True\n",
    ")\n",
    "Reortes_general[\"Fecha_chilena2\"] = Reortes_general[\"Fecha_chilena\"].dt.strftime(\n",
    "    \"%d-%m-%Y\"\n",
    ")\n",
    "\n",
    "clinicas_ = {\n",
    "    \"Clínica de Nutrición\": \"Nutrición\",\n",
    "    \"Clínica de Deporte\": \"Deporte\",\n",
    "    \"Clínica de Psicología\": \"Psicología\",\n",
    "    \"Clínica Ingreso Deportivo Seguro\": \"Deporte\",\n",
    "    \"Clínica del Sueño\": \"Clínica Del Sueño\",\n",
    "    \"Clínica Seguimiento Pacientes Crónicos\": \"Pacientes Crónicos\",\n",
    "    \"Orientación Médica\": \"Orientación Médica\",\n",
    "    \"Asesoría Deportiva\": \"Deporte\",\n",
    "    \"Asistencia Emocional\": \"Psicología\",\n",
    "    \"Asistencia Nutricional\": \"Nutrición\",\n",
    "    \"Clínica APSSex\": \"Asesoría Psicologíca en Salud Sexual\",\n",
    "    \"Clínica Del Sueño\": \"Clínica Del Sueño\",\n",
    "    \"Clínica Veterinaria\": \"Veterinaria\",\n",
    "    \"Ingreso Deportivo Seguro\": \"Deporte\",\n",
    "    \"Clínica Mis Primeros Pasos\": \"Mis Primeros Pasos\",\n",
    "}\n",
    "Reortes_general.replace({\"Clínica\": clinicas_}, inplace=True)\n",
    "\n",
    "Canal = {\n",
    "    \"Phone\": \"Teléfono\",\n",
    "    \"Video\": \"Videollamada\",\n",
    "    \"Entrante - Chat\": \"Entrante - Chat Online\",\n",
    "}\n",
    "Reortes_general.replace({\"Canal\": Canal}, inplace=True)\n",
    "\n",
    "\n",
    "Reortes_general[\"Fecha_chilena\"] = Reortes_general[\"Fecha_chilena\"].dt.tz_localize(None)\n",
    "Reortes_general.Rut.fillna(\"0\", inplace=True)\n",
    "\n"
   ]
  },
  {
   "cell_type": "code",
   "execution_count": 146,
   "metadata": {
    "notebookRunGroups": {
     "groupValue": "1"
    }
   },
   "outputs": [
    {
     "data": {
      "text/plain": [
       "(31787, 35)"
      ]
     },
     "execution_count": 146,
     "metadata": {},
     "output_type": "execute_result"
    }
   ],
   "source": [
    "Reportes_con_empresas = pd.merge(\n",
    "    left=Reortes_general,\n",
    "    right=empresas_unidas,\n",
    "    how=\"left\",\n",
    "    left_on=\"Id Paciente\",\n",
    "    right_on=\"Id Account Paciente\",\n",
    ")\n",
    "\n",
    "\n",
    "Reportes_con_empresas.shape"
   ]
  },
  {
   "cell_type": "code",
   "execution_count": 147,
   "metadata": {
    "notebookRunGroups": {
     "groupValue": "1"
    }
   },
   "outputs": [],
   "source": [
    "Reportes_con_empresas['Rut_x'].str.upper()\n",
    "Reportes_con_empresas['Rut_y'].str.upper()\n",
    "\n",
    "Reportes_con_empresas.Empleador_x.fillna(Reportes_con_empresas['Nombre Empresa'], inplace=True)"
   ]
  },
  {
   "attachments": {},
   "cell_type": "markdown",
   "metadata": {},
   "source": [
    "Salida de datos"
   ]
  },
  {
   "cell_type": "code",
   "execution_count": 148,
   "metadata": {
    "notebookRunGroups": {
     "groupValue": "1"
    }
   },
   "outputs": [],
   "source": [
    "Reportes_con_empresas.to_excel(\n",
    "    \"C:/Users/jmartinez/Documents/reportes_completos.xlsx\", index=False\n",
    ")\n",
    "\n",
    "\n",
    "Programas_pacientes.to_excel(\"C:/Users/jmartinez/Documents/Empresas.xlsx\", index=False)\n",
    "reportes = Reportes_con_empresas[\n",
    "    [\n",
    "        \"Codigo Ficha\",\n",
    "        \"Rut_x\",\n",
    "        \"Nombre\",\n",
    "        \"Sexo\",\n",
    "        \"Ocupacion\",\n",
    "        \"Cargo\",\n",
    "        \"Departamento\",\n",
    "        \"Campaña\",\n",
    "        \"Holding\",\n",
    "        \"Empleador_x\",\n",
    "        \"Poliza\",\n",
    "        \"Fecha\",\n",
    "        \"Fecha_chilena\",\n",
    "        \"Fecha_chilena2\",\n",
    "        \"Dia\",\n",
    "        \"Mes\",\n",
    "        \"Año\",\n",
    "        \"Canal\",\n",
    "        \"Clínica\",\n",
    "        \"Motivo de consulta\",\n",
    "        \"Nombre Empresa\",\n",
    "        \"Codigo EMP\",\n",
    "    ]\n",
    "]\n",
    "reportes = reportes.rename(\n",
    "    columns={\n",
    "        \"Rut_x\": \"Rut\",\n",
    "        \"Empleador_x\": \"Empleador\"\n",
    "        \n",
    "    }\n",
    ")\n",
    "reportes.to_excel(\"C:/Users/jmartinez/Documents/reportes.xlsx\", index=False)\n",
    "\n"
   ]
  },
  {
   "cell_type": "code",
   "execution_count": 81,
   "metadata": {},
   "outputs": [],
   "source": [
    "general_todo = reportes[(reportes[\"Empleador\"] == reportes[\"Nombre Empresa\"])]\n",
    "general_todo.to_excel(\"C:/Users/jmartinez/Documents/general.xlsx\", index=False)"
   ]
  },
  {
   "attachments": {},
   "cell_type": "markdown",
   "metadata": {},
   "source": [
    "Banco Estado"
   ]
  },
  {
   "cell_type": "code",
   "execution_count": 82,
   "metadata": {},
   "outputs": [],
   "source": [
    "Banco_Estado = reportes[\n",
    "    (reportes[\"Codigo EMP\"] == \"EMP5906\")\n",
    "    | (reportes[\"Codigo EMP\"] == \"EMP5907\")\n",
    "    | (reportes[\"Codigo EMP\"] == \"EMP6490\")\n",
    "    | (reportes[\"Codigo EMP\"] == \"EMP6754\")\n",
    "    | (reportes[\"Codigo EMP\"] == \"EMP6837\")\n",
    "    | (reportes[\"Codigo EMP\"] == \"EMP6838\")\n",
    "]\n",
    "Banco_Estado.to_excel('F:/Reportes SF/Banco Estado Metlife/Banco_Estado_Base.xlsx', index=False)\n"
   ]
  },
  {
   "attachments": {},
   "cell_type": "markdown",
   "metadata": {},
   "source": [
    "ZURICH"
   ]
  },
  {
   "cell_type": "code",
   "execution_count": 83,
   "metadata": {},
   "outputs": [],
   "source": [
    "Zurich = reportes[\n",
    "    (reportes[\"Campaña\"] == \"Zurich\")\n",
    "    & (reportes[\"Empleador\"] == reportes[\"Nombre Empresa\"])\n",
    "]\n",
    "Zurich.to_excel(\"F:/Reportes SF/Zurich/Zurich_Base.xlsx\", index=False)\n",
    "\n",
    "Amsa = reportes[\n",
    "    (reportes[\"Campaña\"] == \"Zurich\")\n",
    "    & (reportes[\"Empleador\"] == reportes[\"Nombre Empresa\"])\n",
    "    & (reportes[\"Holding\"] == \"Antofagasta Minerals S.A.\")\n",
    "]\n",
    "Amsa.to_excel(\"F:/Reportes SF/Zurich/Amsa.xlsx\", index=False)\n",
    "\n",
    "Bechtel = reportes[\n",
    "    (reportes[\"Campaña\"] == \"Zurich\")\n",
    "    & (reportes[\"Empleador\"] == reportes[\"Nombre Empresa\"])\n",
    "    & (reportes[\"Holding\"] == \"Bechtel\")\n",
    "]\n",
    "Bechtel.to_excel(\"F:/Reportes SF/Zurich/Bechtel.xlsx\", index=False)"
   ]
  },
  {
   "attachments": {},
   "cell_type": "markdown",
   "metadata": {},
   "source": [
    "Pesco"
   ]
  },
  {
   "cell_type": "code",
   "execution_count": 84,
   "metadata": {},
   "outputs": [],
   "source": [
    "Pesco = reportes[\n",
    "    (reportes[\"Campaña\"] == \"Pesco\")\n",
    "    & (reportes[\"Empleador\"] == reportes[\"Nombre Empresa\"])\n",
    "    \n",
    "]\n",
    "Pesco.to_excel(\"F:/Reportes SF/Pesco/Pesco_Base.xlsx\", index=False)\n",
    "\n",
    "    \n"
   ]
  },
  {
   "attachments": {},
   "cell_type": "markdown",
   "metadata": {},
   "source": [
    "Milan Fajanovic"
   ]
  },
  {
   "cell_type": "code",
   "execution_count": 85,
   "metadata": {},
   "outputs": [],
   "source": [
    "Milan = reportes[\n",
    "    (reportes[\"Campaña\"] == \"Milan Fajanovic\")\n",
    "    & (reportes[\"Empleador\"] == reportes[\"Nombre Empresa\"])\n",
    "    \n",
    "]\n",
    "Milan.to_excel(\"F:/Reportes SF/Milan/Milan_Fajanovic_Base.xlsx\", index=False)"
   ]
  },
  {
   "attachments": {},
   "cell_type": "markdown",
   "metadata": {},
   "source": [
    "Wom"
   ]
  },
  {
   "cell_type": "code",
   "execution_count": 86,
   "metadata": {},
   "outputs": [],
   "source": [
    "wom = reportes[\n",
    "    (reportes[\"Campaña\"] == \"MetLife\")\n",
    "    & (reportes[\"Empleador\"] == reportes[\"Nombre Empresa\"])\n",
    "    & (reportes[\"Empleador\"] == \"Wom S.A.\")\n",
    "]\n",
    "wom.to_excel(\"F:/Reportes SF/Wom/Wom_Base.xlsx\", index=False)"
   ]
  },
  {
   "cell_type": "code",
   "execution_count": 87,
   "metadata": {},
   "outputs": [],
   "source": [
    "Forus = reportes[\n",
    "    (reportes[\"Campaña\"] == \"Forus\")\n",
    "    & (reportes[\"Empleador\"] == reportes[\"Nombre Empresa\"])\n",
    "    \n",
    "]\n",
    "Forus.to_excel(\"F:/Reportes SF/Forus/Forus_Base.xlsx\", index=False)"
   ]
  },
  {
   "cell_type": "code",
   "execution_count": 88,
   "metadata": {},
   "outputs": [],
   "source": [
    "Cruz = reportes[\n",
    "    (reportes[\"Campaña\"] == \"Farmacias Cruz Verde\")\n",
    "    & (reportes[\"Empleador\"] == reportes[\"Nombre Empresa\"])\n",
    "    \n",
    "]\n",
    "Cruz.to_excel(\"F:/Reportes SF/Cruz Verde/Cruz_Base.xlsx\", index=False)"
   ]
  },
  {
   "attachments": {},
   "cell_type": "markdown",
   "metadata": {},
   "source": [
    "METLIFE"
   ]
  },
  {
   "cell_type": "code",
   "execution_count": 89,
   "metadata": {},
   "outputs": [],
   "source": [
    "Metlife = reportes[\n",
    "    (reportes[\"Campaña\"] == \"MetLife\")\n",
    "    & (reportes[\"Empleador\"] == reportes[\"Nombre Empresa\"])\n",
    "]\n",
    "Metlife.to_excel(\"F:/Reportes SF/MetLife/Metlife_Base.xlsx\", index=False)\n",
    "\n",
    "Conosur = reportes[\n",
    "    (reportes[\"Codigo EMP\"] == \"EMP5976\")\n",
    "    | (reportes[\"Codigo EMP\"] == \"EMP5977\")\n",
    "    | (reportes[\"Codigo EMP\"] == \"EMP5978\")\n",
    "    | (reportes[\"Codigo EMP\"] == \"EMP5979\")\n",
    "    | (reportes[\"Codigo EMP\"] == \"EMP5980\")\n",
    "    | (reportes[\"Codigo EMP\"] == \"EMP5981\")\n",
    "    | (reportes[\"Codigo EMP\"] == \"EMP5982\")\n",
    "    | (reportes[\"Codigo EMP\"] == \"EMP5983\")\n",
    "    | (reportes[\"Codigo EMP\"] == \"EMP5984\")\n",
    "    | (reportes[\"Codigo EMP\"] == \"EMP5985\")\n",
    "    | (reportes[\"Codigo EMP\"] == \"EMP5985\")\n",
    "    | (reportes[\"Codigo EMP\"] == \"EMP7431\")\n",
    "    | (reportes[\"Codigo EMP\"] == \"EMP2828\")\n",
    "]\n",
    "Conosur.to_excel(\"F:/Reportes SF/MetLife/Conosur_Base.xlsx\", index=False)"
   ]
  },
  {
   "cell_type": "code",
   "execution_count": 90,
   "metadata": {},
   "outputs": [],
   "source": [
    "Burgos = reportes[\n",
    "    \n",
    "    (reportes[\"Codigo EMP\"] == \"EMP5924\")\n",
    "    | (reportes[\"Codigo EMP\"] == \"EMP5925\")\n",
    "    | (reportes[\"Codigo EMP\"] == \"EMP5926\")\n",
    "    | (reportes[\"Codigo EMP\"] == \"EMP5927\")\n",
    "    | (reportes[\"Codigo EMP\"] == \"EMP5928\")\n",
    "    | (reportes[\"Codigo EMP\"] == \"EMP5971\")\n",
    "    | (reportes[\"Codigo EMP\"] == \"EMP5972\")\n",
    "    | (reportes[\"Codigo EMP\"] == \"EMP5973\")\n",
    "    | (reportes[\"Codigo EMP\"] == \"EMP5974\")\n",
    "    | (reportes[\"Codigo EMP\"] == \"EMP5975\")\n",
    "    | (reportes[\"Codigo EMP\"] == \"EMP7259\")\n",
    "    | (reportes[\"Codigo EMP\"] == \"EMP6536\")\n",
    "    | (reportes[\"Codigo EMP\"] == \"EMP6959\")\n",
    "    | (reportes[\"Codigo EMP\"] == \"EMP6388\")\n",
    "     \n",
    "]\n",
    "\n",
    "Burgos = Burgos[(Burgos[\"Empleador\"] == Burgos[\"Nombre Empresa\"])]\n",
    "Burgos.to_excel(\"F:/Reportes SF/MetLife/Burgos_Base.xlsx\", index=False)"
   ]
  },
  {
   "cell_type": "code",
   "execution_count": 91,
   "metadata": {},
   "outputs": [],
   "source": [
    "Ey = reportes[(reportes[\"Campaña\"] == \"EY\") & (reportes[\"Empleador\"] == reportes[\"Nombre Empresa\"])]\n",
    "Ey.to_excel(\"F:/Reportes SF/EY/EY_Base.xlsx\", index=False)"
   ]
  },
  {
   "cell_type": "code",
   "execution_count": 92,
   "metadata": {},
   "outputs": [],
   "source": [
    "Willis = reportes[\n",
    "    \n",
    "    (reportes[\"Codigo EMP\"] == \"EMP5924\")\n",
    "    | (reportes[\"Codigo EMP\"] == \"EMP5925\")\n",
    "    | (reportes[\"Codigo EMP\"] == \"EMP5926\")\n",
    "    | (reportes[\"Codigo EMP\"] == \"EMP5927\")\n",
    "    | (reportes[\"Codigo EMP\"] == \"EMP5928\")\n",
    "    | (reportes[\"Codigo EMP\"] == \"EMP5971\")\n",
    "    | (reportes[\"Codigo EMP\"] == \"EMP5972\")\n",
    "    | (reportes[\"Codigo EMP\"] == \"EMP5973\")\n",
    "    | (reportes[\"Codigo EMP\"] == \"EMP5974\")\n",
    "    | (reportes[\"Codigo EMP\"] == \"EMP5975\")\n",
    "    | (reportes[\"Codigo EMP\"] == \"EMP7259\")\n",
    "    | (reportes[\"Codigo EMP\"] == \"EMP6536\")\n",
    "    | (reportes[\"Codigo EMP\"] == \"EMP6959\")\n",
    "    | (reportes[\"Codigo EMP\"] == \"EMP6388\")\n",
    "    \n",
    "    | (reportes[\"Codigo EMP\"] == \"EMP5694\")\n",
    "    | (reportes[\"Codigo EMP\"] == \"EMP5655\")\n",
    "    | (reportes[\"Codigo EMP\"] == \"EMP5681\")\n",
    "    | (reportes[\"Codigo EMP\"] == \"EMP5682\")\n",
    "    | (reportes[\"Codigo EMP\"] == \"EMP5684\")\n",
    "    | (reportes[\"Codigo EMP\"] == \"EMP6274\")\n",
    "    | (reportes[\"Codigo EMP\"] == \"EMP5685\")\n",
    "    | (reportes[\"Codigo EMP\"] == \"EMP5686\")\n",
    "    | (reportes[\"Codigo EMP\"] == \"EMP5687\")\n",
    "    | (reportes[\"Codigo EMP\"] == \"EMP5688\")\n",
    "    | (reportes[\"Codigo EMP\"] == \"EMP5689\")\n",
    "    | (reportes[\"Codigo EMP\"] == \"EMP5690\")\n",
    "    | (reportes[\"Codigo EMP\"] == \"EMP5691\")\n",
    "\n",
    "    | (reportes[\"Codigo EMP\"] == \"EMP5692\")\n",
    "    | (reportes[\"Codigo EMP\"] == \"EMP5693\")\n",
    "    | (reportes[\"Codigo EMP\"] == \"EMP5694\")\n",
    "    | (reportes[\"Codigo EMP\"] == \"EMP5695\")\n",
    "    | (reportes[\"Codigo EMP\"] == \"EMP5696\")\n",
    "    | (reportes[\"Codigo EMP\"] == \"EMP5697\")\n",
    "    | (reportes[\"Codigo EMP\"] == \"EMP5698\")\n",
    "    | (reportes[\"Codigo EMP\"] == \"EMP5639\")\n",
    "    | (reportes[\"Codigo EMP\"] == \"EMP5640\")\n",
    "    | (reportes[\"Codigo EMP\"] == \"EMP5641\")\n",
    "    | (reportes[\"Codigo EMP\"] == \"EMP5642\")\n",
    "    | (reportes[\"Codigo EMP\"] == \"EMP5643\")\n",
    "    | (reportes[\"Codigo EMP\"] == \"EMP5644\")\n",
    "\n",
    "    | (reportes[\"Codigo EMP\"] == \"EMP5645\")\n",
    "    | (reportes[\"Codigo EMP\"] == \"EMP5646\")\n",
    "    | (reportes[\"Codigo EMP\"] == \"EMP5647\")\n",
    "    | (reportes[\"Codigo EMP\"] == \"EMP5648\")\n",
    "    | (reportes[\"Codigo EMP\"] == \"EMP5649\")\n",
    "    | (reportes[\"Codigo EMP\"] == \"EMP5650\")\n",
    "    | (reportes[\"Codigo EMP\"] == \"EMP5651\")\n",
    "    | (reportes[\"Codigo EMP\"] == \"EMP5652\")\n",
    "    | (reportes[\"Codigo EMP\"] == \"EMP5653\")\n",
    "    | (reportes[\"Codigo EMP\"] == \"EMP5654\")\n",
    "    | (reportes[\"Codigo EMP\"] == \"EMP5655\")\n",
    "    | (reportes[\"Codigo EMP\"] == \"EMP7526\")\n",
    "    | (reportes[\"Codigo EMP\"] == \"EMP6760\")\n",
    "\n",
    "    | (reportes[\"Codigo EMP\"] == \"EMP7678\")\n",
    "    | (reportes[\"Codigo EMP\"] == \"EMP6888\")\n",
    "    | (reportes[\"Codigo EMP\"] == \"EMP6444\")\n",
    "    | (reportes[\"Codigo EMP\"] == \"EMP6406\")\n",
    "    | (reportes[\"Codigo EMP\"] == \"EMP5616\")\n",
    "    | (reportes[\"Codigo EMP\"] == \"EMP9007\")\n",
    "    \n",
    "     \n",
    "]\n",
    "\n",
    "Willis = Willis[(Willis[\"Empleador\"] == Willis[\"Nombre Empresa\"])]\n",
    "Willis.to_excel(\"F:/Reportes SF/MetLife/Willis_Base.xlsx\", index=False)"
   ]
  },
  {
   "cell_type": "code",
   "execution_count": 93,
   "metadata": {},
   "outputs": [],
   "source": [
    "Mercado_Libre = reportes[\n",
    "        (reportes[\"Codigo EMP\"] == \"EMP5617\")\n",
    "    ]\n",
    "\n",
    "Mercado_Libre = Mercado_Libre[(Mercado_Libre[\"Empleador\"] == Mercado_Libre[\"Nombre Empresa\"])]\n",
    "Mercado_Libre.to_excel(\"F:/Reportes SF/Mercado Libre/Mercado_Libre_Base.xlsx\", index=False)\n"
   ]
  },
  {
   "cell_type": "code",
   "execution_count": 94,
   "metadata": {},
   "outputs": [],
   "source": [
    "Ahumada = reportes[\n",
    "        (reportes[\"Codigo EMP\"] == \"EMP6475\")\n",
    "    ]\n",
    "\n",
    "Ahumada = Ahumada[(Ahumada[\"Empleador\"] == Ahumada[\"Nombre Empresa\"])]\n",
    "Ahumada.to_excel(\"F:/Reportes SF/Farmacias Ahumada/Ahumada_Base.xlsx\", index=False)\n"
   ]
  },
  {
   "cell_type": "code",
   "execution_count": 95,
   "metadata": {},
   "outputs": [],
   "source": [
    "Minera_Abra = reportes[\n",
    "        (reportes[\"Codigo EMP\"] == \"EMP7397\")\n",
    "        | (reportes[\"Codigo EMP\"] == \"EMP7795\")\n",
    "        |(reportes[\"Codigo EMP\"] == \"EMP7796\")\n",
    "    ]\n",
    "\n",
    "Minera_Abra = Minera_Abra[(Minera_Abra[\"Empleador\"] == Minera_Abra[\"Nombre Empresa\"])]\n",
    "Minera_Abra.to_excel(\"F:/Reportes SF/Minera El Abra/Abra_Base.xlsx\", index=False)"
   ]
  },
  {
   "cell_type": "code",
   "execution_count": 96,
   "metadata": {},
   "outputs": [],
   "source": [
    "Agrosuper = reportes[\n",
    "        (reportes[\"Holding\"] == \"Agrosuper\")\n",
    "    ]\n",
    "\n",
    "Agrosuper = Agrosuper[(Agrosuper[\"Empleador\"] == Agrosuper[\"Nombre Empresa\"])]\n",
    "Agrosuper.to_excel(\"F:/Reportes SF/Metlife/Mercer_Agrosuper_Base.xlsx\", index=False)"
   ]
  },
  {
   "cell_type": "code",
   "execution_count": 97,
   "metadata": {},
   "outputs": [],
   "source": [
    "Lipigas = reportes[\n",
    "        (reportes[\"Codigo EMP\"] == \"EMP7310\")\n",
    "    ]\n",
    "\n",
    "Lipigas = Lipigas[(Lipigas[\"Empleador\"] == Lipigas[\"Nombre Empresa\"])]\n",
    "Lipigas.to_excel(\"F:/Reportes SF/Lipigas/Lipigas_Base.xlsx\", index=False)"
   ]
  },
  {
   "cell_type": "code",
   "execution_count": 100,
   "metadata": {},
   "outputs": [],
   "source": [
    "Socofar = reportes[\n",
    "        (reportes[\"Codigo EMP\"] == \"EMP3780\")\n",
    "        | (reportes[\"Codigo EMP\"] == \"EMP6749\")\n",
    "    | (reportes[\"Codigo EMP\"] == \"EMP6750\")\n",
    "    | (reportes[\"Codigo EMP\"] == \"EMP6751\")\n",
    "    | (reportes[\"Codigo EMP\"] == \"EMP7405\")\n",
    "    | (reportes[\"Codigo EMP\"] == \"EMP7406\")\n",
    "    | (reportes[\"Codigo EMP\"] == \"EMP7407\")\n",
    "    \n",
    "    ]\n",
    "\n",
    "   \n",
    "\n",
    "\n",
    "Socofar = Socofar[(Socofar[\"Empleador\"] == Socofar[\"Nombre Empresa\"])]\n",
    "Socofar.to_excel(\"F:/Reportes SF/Socofar/Socofar_Base.xlsx\", index=False)"
   ]
  },
  {
   "cell_type": "code",
   "execution_count": 102,
   "metadata": {},
   "outputs": [],
   "source": [
    "\n",
    "Kaufmann = reportes[\n",
    "    (reportes[\"Codigo EMP\"] == \"EMP4171\")\n",
    "    | (reportes[\"Codigo EMP\"] == \"EMP7308\")\n",
    "    | (reportes[\"Codigo EMP\"] == \"EMP7309\")\n",
    "]\n",
    "\n",
    "\n",
    "Kaufmann = Kaufmann[(Kaufmann[\"Empleador\"] == Kaufmann[\"Nombre Empresa\"])]\n",
    "Kaufmann.to_excel(\"F:/Reportes SF/Kaufmann/Kaufmann_Base.xlsx\", index=False)"
   ]
  },
  {
   "cell_type": "code",
   "execution_count": 103,
   "metadata": {},
   "outputs": [],
   "source": [
    "\n",
    "Tressp = reportes[\n",
    "    (reportes[\"Codigo EMP\"] == \"EMP6467\")\n",
    "    | (reportes[\"Codigo EMP\"] == \"EMP6468\")\n",
    "    | (reportes[\"Codigo EMP\"] == \"EMP7607\")\n",
    "]\n",
    "\n",
    "\n",
    "Tressp = Tressp[(Tressp[\"Empleador\"] == Tressp[\"Nombre Empresa\"])]\n",
    "Tressp.to_excel(\"F:/Reportes SF/3SP/3sp_Base.xlsx\", index=False)\n"
   ]
  },
  {
   "attachments": {},
   "cell_type": "markdown",
   "metadata": {},
   "source": [
    "BCI\n"
   ]
  },
  {
   "cell_type": "code",
   "execution_count": 104,
   "metadata": {},
   "outputs": [],
   "source": [
    "Bci = reportes[\n",
    "    (reportes[\"Campaña\"] == \"BCI\")\n",
    "]\n",
    "\n",
    "\n",
    "Bci = Bci[(Bci[\"Empleador\"] == Bci[\"Nombre Empresa\"])]\n",
    "Bci.to_excel(\"F:/Reportes SF/BCI/BCI_Base.xlsx\", index=False)"
   ]
  },
  {
   "cell_type": "code",
   "execution_count": 106,
   "metadata": {},
   "outputs": [],
   "source": [
    "Colmena = reportes[\n",
    "    (reportes[\"Campaña\"] == \"Colmena\")\n",
    "]\n",
    "\n",
    "\n",
    "Colmena = Colmena[(Colmena[\"Empleador\"] == Colmena[\"Nombre Empresa\"])]\n",
    "Colmena.to_excel(\"F:/Reportes SF/Colmena/Colmena_Base.xlsx\", index=False)"
   ]
  },
  {
   "cell_type": "code",
   "execution_count": 112,
   "metadata": {},
   "outputs": [],
   "source": [
    "\n",
    "Pedro = reportes[\n",
    "    (reportes[\"Campaña\"] == \"Pedro De Valdivia\")\n",
    "]\n",
    "\n",
    "\n",
    "Pedro = Pedro[(Pedro[\"Empleador\"] == Pedro[\"Nombre Empresa\"])]\n",
    "Pedro.to_excel(\"F:/Reportes SF/Pedro de Valdivia/Pedro_Base.xlsx\", index=False)"
   ]
  },
  {
   "cell_type": "code",
   "execution_count": 113,
   "metadata": {},
   "outputs": [],
   "source": [
    "\n",
    "Vidacel = reportes[\n",
    "    (reportes[\"Campaña\"] == \"Vidacel\")\n",
    "]\n",
    "\n",
    "\n",
    "Vidacel = Vidacel[(Vidacel[\"Empleador\"] == Vidacel[\"Nombre Empresa\"])]\n",
    "Vidacel.to_excel(\"F:/Reportes SF/Vidacel/Vidacel_Base.xlsx\", index=False)\n",
    "\n",
    "VidacelColab = reportes[\n",
    "    (reportes[\"Campaña\"] == \"Vidacel Colaboradores\")\n",
    "]\n",
    "\n",
    "VidacelColab = VidacelColab[(VidacelColab[\"Empleador\"] == VidacelColab[\"Nombre Empresa\"])]\n",
    "VidacelColab.to_excel(\"F:/Reportes SF/Vidacel/VidacelColab_Base.xlsx\", index=False)\n"
   ]
  },
  {
   "cell_type": "code",
   "execution_count": 114,
   "metadata": {},
   "outputs": [],
   "source": [
    "\n",
    "Wfs = reportes[\n",
    "    (reportes[\"Campaña\"] == \"Holding Wfs Food Services\")\n",
    "]\n",
    "\n",
    "Wfs = Wfs[(Wfs[\"Empleador\"] == Wfs[\"Nombre Empresa\"])]\n",
    "Wfs.to_excel(\"F:/Reportes SF/Wfs/Wfs_Base.xlsx\", index=False)\n"
   ]
  },
  {
   "cell_type": "code",
   "execution_count": 115,
   "metadata": {},
   "outputs": [],
   "source": [
    "\n",
    "Dermic = reportes[\n",
    "    (reportes[\"Campaña\"] == \"Dermic\")\n",
    "]\n",
    "\n",
    "Dermic = Dermic[(Dermic[\"Empleador\"] == Dermic[\"Nombre Empresa\"])]\n",
    "Dermic.to_excel(\"F:/Reportes SF/Dermic/Dermic_Base.xlsx\", index=False)"
   ]
  },
  {
   "cell_type": "code",
   "execution_count": 116,
   "metadata": {},
   "outputs": [],
   "source": [
    "\n",
    "Instruvalve = reportes[\n",
    "    (reportes[\"Campaña\"] == \"Instruvalve\")\n",
    "]\n",
    "\n",
    "Instruvalve = Instruvalve[(Instruvalve[\"Empleador\"] == Instruvalve[\"Nombre Empresa\"])]\n",
    "Instruvalve.to_excel(\"F:/Reportes SF/Instruvalve/Instruvalve_Base.xlsx\", index=False)"
   ]
  },
  {
   "cell_type": "code",
   "execution_count": 117,
   "metadata": {},
   "outputs": [],
   "source": [
    "\n",
    "Thb = reportes[\n",
    "    (reportes[\"Campaña\"] == \"THB Seguros\")\n",
    "]\n",
    "\n",
    "Thb = Thb[(Thb[\"Empleador\"] == Thb[\"Nombre Empresa\"])]\n",
    "Thb.to_excel(\"F:/Reportes SF/THB Seguros/Thb_Base.xlsx\", index=False)"
   ]
  },
  {
   "cell_type": "code",
   "execution_count": 98,
   "metadata": {},
   "outputs": [
    {
     "name": "stdout",
     "output_type": "stream",
     "text": [
      "E:\\Siempre\\Usuarios\\Francisca Rubio Yáñez\\TI\\Pacientes Sin Empresas\\2023_02_13_SinEmpresas.xlsx\n"
     ]
    }
   ],
   "source": [
    "Metlife = reportes[\n",
    "    (reportes[\"Campaña\"] == \"MetLife\")\n",
    "    & (reportes[\"Empleador\"] == reportes[\"Nombre Empresa\"])\n",
    "]\n",
    "Metlife.to_excel(\"C:/Users/jmartinez/Documents/Metlife.xlsx\", index=False)\n",
    "\n",
    "Security = reportes[\n",
    "    (reportes[\"Campaña\"] == \"Vida Security\")\n",
    "    & (reportes[\"Empleador\"] == reportes[\"Nombre Empresa\"])\n",
    "]\n",
    "Security.to_excel(\"C:/Users/jmartinez/Documents/Vida Security.xlsx\", index=False)\n",
    "\n",
    "#Reportes_con_empresas.Empleador_x.fillna(Reportes_con_empresas['Nombre Empresa'], inplace=True)\n",
    "reportes_francisca = Reportes_con_empresas\n",
    "reportes_francisca.Empleador_x.fillna('Nones',inplace=True)\n",
    "reportes_francisca = reportes_francisca[\n",
    "    reportes_francisca['Empleador_x'] == 'Nones'\n",
    "]\n",
    "archivo = 'SinEmpresas.xlsx'\n",
    "archivo1 = 'Empresas.xlsx'\n",
    "\n",
    "fecha = str(datetime.date.today())\n",
    "archivo_con_fecha = f\"{fecha}_{archivo}\"\n",
    "archivo_con_fecha = archivo_con_fecha.replace(\":\", \"_\")\n",
    "archivo_con_fecha = archivo_con_fecha.replace(\"-\", \"_\")\n",
    "archivo_con_fecha = archivo_con_fecha.replace(\" \", \"_\")\n",
    "#archivo_con_fecha = archivo_con_fecha.replace(\".\", \"_\")\n",
    "hasta = Path(\"E:/Siempre/Usuarios/Francisca Rubio Yáñez/TI/Pacientes Sin Empresas/\").joinpath(archivo_con_fecha)\n",
    "print (hasta)\n",
    "reportes_francisca.to_excel(\n",
    "    hasta, index=False\n",
    ")\n",
    "\n"
   ]
  },
  {
   "cell_type": "code",
   "execution_count": 99,
   "metadata": {},
   "outputs": [],
   "source": [
    "fecha = str(datetime.date.today())\n",
    "archivo_con_fecha = f\"{fecha}_{archivo1}\"\n",
    "archivo_con_fecha = archivo_con_fecha.replace(\":\", \"_\")\n",
    "archivo_con_fecha = archivo_con_fecha.replace(\"-\", \"_\")\n",
    "archivo_con_fecha = archivo_con_fecha.replace(\" \", \"_\")\n",
    "hasta = Path(\"E:/Siempre/Usuarios/Francisca Rubio Yáñez/TI/Empresas/\").joinpath(archivo_con_fecha)\n",
    "Programas_pacientes.to_excel(\n",
    "    hasta, index=False\n",
    ")\n",
    "\n",
    "hasta = Path(\"F:/Empresas SF/empresas/\").joinpath(archivo_con_fecha)\n",
    "Programas_pacientes.to_excel(\n",
    "    hasta, index=False\n",
    ")"
   ]
  }
 ],
 "metadata": {
  "kernelspec": {
   "display_name": "salesforce",
   "language": "python",
   "name": "python3"
  },
  "language_info": {
   "codemirror_mode": {
    "name": "ipython",
    "version": 3
   },
   "file_extension": ".py",
   "mimetype": "text/x-python",
   "name": "python",
   "nbconvert_exporter": "python",
   "pygments_lexer": "ipython3",
   "version": "3.8.15"
  },
  "orig_nbformat": 4,
  "vscode": {
   "interpreter": {
    "hash": "7fbccfb583f385d5cd7c75cc6ade03c09354727271e9200f47ca4e7fedb5381e"
   }
  }
 },
 "nbformat": 4,
 "nbformat_minor": 2
}
