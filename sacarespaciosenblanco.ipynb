{
 "cells": [
  {
   "cell_type": "code",
   "execution_count": 20,
   "metadata": {},
   "outputs": [],
   "source": [
    "import pandas as pd\n",
    "import os, glob\n",
    "\n",
    "#sacar filas en blanco\n",
    "\n"
   ]
  },
  {
   "cell_type": "code",
   "execution_count": 21,
   "metadata": {},
   "outputs": [],
   "source": [
    "data = 'C:/Users/jmartinez/Desktop/base de datos/filas cero/semifinales/2019.xlsx'\n",
    "data2 = 'C:/Users/jmartinez/Desktop/base de datos/filas cero/finales/2019.xlsx'"
   ]
  },
  {
   "cell_type": "code",
   "execution_count": 22,
   "metadata": {},
   "outputs": [
    {
     "name": "stderr",
     "output_type": "stream",
     "text": [
      "C:\\Users\\jmartinez\\AppData\\Local\\Temp\\ipykernel_1604\\2305126220.py:2: FutureWarning: The default value of regex will change from True to False in a future version. In addition, single character regular expressions will *not* be treated as literal strings when regex=True.\n",
      "  df['first_name'] = df['first_name'].str.replace('.','')\n",
      "C:\\Users\\jmartinez\\AppData\\Local\\Temp\\ipykernel_1604\\2305126220.py:3: FutureWarning: The default value of regex will change from True to False in a future version. In addition, single character regular expressions will *not* be treated as literal strings when regex=True.\n",
      "  df['last_name'] = df['last_name'].str.replace('.','')\n"
     ]
    }
   ],
   "source": [
    "df = pd.read_excel(data)\n",
    "df['first_name'] = df['first_name'].str.replace('.','')\n",
    "df['last_name'] = df['last_name'].str.replace('.','')\n",
    "df['first_name'] = df['first_name'].str.strip('1234567890.#/}{)(¥|;,-_')\n",
    "df['last_name'] = df['last_name'].str.strip('1234567890.#/}{)(¥|;,-_')\n",
    "df = df.replace(r\"^ +| +$\",r\"\",regex=True)\n",
    "df.drop(['LLave'],axis=1, inplace=True)\n",
    "df.dropna(how='all', inplace=True)\n",
    "df.to_excel(data2, index=False)\n"
   ]
  }
 ],
 "metadata": {
  "kernelspec": {
   "display_name": "Python 3.10.6 ('Mito')",
   "language": "python",
   "name": "python3"
  },
  "language_info": {
   "codemirror_mode": {
    "name": "ipython",
    "version": 3
   },
   "file_extension": ".py",
   "mimetype": "text/x-python",
   "name": "python",
   "nbconvert_exporter": "python",
   "pygments_lexer": "ipython3",
   "version": "3.10.6"
  },
  "orig_nbformat": 4,
  "vscode": {
   "interpreter": {
    "hash": "8ca7c6c0b372e79d1b046e97089bf0eca059102913bf5fbce589f25f1f28c438"
   }
  }
 },
 "nbformat": 4,
 "nbformat_minor": 2
}
