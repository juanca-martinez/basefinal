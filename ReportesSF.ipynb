{
 "cells": [
  {
   "cell_type": "code",
   "execution_count": 88,
   "metadata": {
    "notebookRunGroups": {
     "groupValue": "1"
    }
   },
   "outputs": [],
   "source": [
    "\n",
    "import requests\n",
    "import pandas as pd\n",
    "import numpy as np\n",
    "from io import StringIO\n",
    "from simple_salesforce import Salesforce"
   ]
  },
  {
   "cell_type": "code",
   "execution_count": 89,
   "metadata": {
    "notebookRunGroups": {
     "groupValue": "1"
    }
   },
   "outputs": [],
   "source": [
    "sf = Salesforce(\n",
    "    username=\"jmartinez@careassistance.com\",\n",
    "    password=\"Jcmm0104\",\n",
    "    security_token=\"EwVPSL02qXM8XQ2pkUdA13aW\",\n",
    ")"
   ]
  },
  {
   "attachments": {},
   "cell_type": "markdown",
   "metadata": {},
   "source": [
    "Recuperacion de pacientes"
   ]
  },
  {
   "cell_type": "code",
   "execution_count": null,
   "metadata": {
    "notebookRunGroups": {
     "groupValue": "1"
    }
   },
   "outputs": [],
   "source": [
    "# recuperar todos los pacientes ID\n",
    "results = sf.query_all(\n",
    "    \"\"\"\n",
    "   select Id, IdentificationId__pc,Name from Account \n",
    "    \"\"\"\n",
    ")\n",
    "Pacientes_SF = pd.DataFrame(results[\"records\"])\n",
    "\n",
    "Pacientes_SF = Pacientes_SF[[\"Id\", \"IdentificationId__pc\", \"Name\"]]\n",
    "Pacientes_SF.shape"
   ]
  },
  {
   "attachments": {},
   "cell_type": "markdown",
   "metadata": {},
   "source": [
    "Empresas de Sales Force"
   ]
  },
  {
   "cell_type": "code",
   "execution_count": 90,
   "metadata": {
    "notebookRunGroups": {
     "groupValue": "1"
    }
   },
   "outputs": [
    {
     "data": {
      "text/plain": [
       "(1220330, 3)"
      ]
     },
     "execution_count": 90,
     "metadata": {},
     "output_type": "execute_result"
    }
   ],
   "source": [
    "results = sf.query_all(\n",
    "    \"\"\"\n",
    "   select Id,Paciente__c,Programas_por_Empresas__c from Paciente_Programas__c\n",
    "    \"\"\"\n",
    ")\n",
    "Empresas_SF_pacpro = pd.DataFrame(results[\"records\"])\n",
    "Empresas_SF_pacpro = Empresas_SF_pacpro[\n",
    "    [\"Id\", \"Paciente__c\", \"Programas_por_Empresas__c\"]\n",
    "]\n",
    "Empresas_SF_pacpro.shape"
   ]
  },
  {
   "cell_type": "code",
   "execution_count": 91,
   "metadata": {
    "notebookRunGroups": {
     "groupValue": "1"
    }
   },
   "outputs": [
    {
     "data": {
      "text/plain": [
       "(7879, 6)"
      ]
     },
     "execution_count": 91,
     "metadata": {},
     "output_type": "execute_result"
    }
   ],
   "source": [
    "\n",
    "# Recuperar empresas ID de salesforce\n",
    "results = sf.query_all(\n",
    "    \"\"\"\n",
    "   select Id,Empresa__c, Empresa_Padre__c,  Name, Nombre_Empresa__c from Programas_por_Empresas__c\n",
    "    \"\"\"\n",
    ")\n",
    "Empresas_SF = pd.DataFrame(results[\"records\"])\n",
    "Empresas_SF = Empresas_SF[\n",
    "    [\"Id\", \"Empresa__c\", \"Empresa_Padre__c\", \"Name\", \"Nombre_Empresa__c\", \"Empresa_Padre__c\"]\n",
    "]\n",
    "Empresas_SF.shape"
   ]
  },
  {
   "cell_type": "code",
   "execution_count": 92,
   "metadata": {
    "notebookRunGroups": {
     "groupValue": "1"
    }
   },
   "outputs": [
    {
     "data": {
      "text/html": [
       "<div>\n",
       "<style scoped>\n",
       "    .dataframe tbody tr th:only-of-type {\n",
       "        vertical-align: middle;\n",
       "    }\n",
       "\n",
       "    .dataframe tbody tr th {\n",
       "        vertical-align: top;\n",
       "    }\n",
       "\n",
       "    .dataframe thead th {\n",
       "        text-align: right;\n",
       "    }\n",
       "</style>\n",
       "<table border=\"1\" class=\"dataframe\">\n",
       "  <thead>\n",
       "    <tr style=\"text-align: right;\">\n",
       "      <th></th>\n",
       "      <th>Id_x</th>\n",
       "      <th>Paciente__c</th>\n",
       "      <th>Programas_por_Empresas__c</th>\n",
       "      <th>Id_y</th>\n",
       "      <th>Empresa__c</th>\n",
       "      <th>Empresa_Padre__c</th>\n",
       "      <th>Name</th>\n",
       "      <th>Nombre_Empresa__c</th>\n",
       "      <th>Empresa_Padre__c</th>\n",
       "    </tr>\n",
       "  </thead>\n",
       "  <tbody>\n",
       "    <tr>\n",
       "      <th>0</th>\n",
       "      <td>a1Y8c00000C5asnEAB</td>\n",
       "      <td>0018c00002amLbpAAE</td>\n",
       "      <td>a1W8c000007vDPvEAM</td>\n",
       "      <td>a1W8c000007vDPvEAM</td>\n",
       "      <td>0018c00002axQaeAAE</td>\n",
       "      <td>Metlife</td>\n",
       "      <td>A-0173</td>\n",
       "      <td>Metlife Holding Metlife Serv. De Comerc Y Ases...</td>\n",
       "      <td>Metlife</td>\n",
       "    </tr>\n",
       "    <tr>\n",
       "      <th>1</th>\n",
       "      <td>a1Y8c00000C5asoEAB</td>\n",
       "      <td>0018c00002amLbqAAE</td>\n",
       "      <td>a1W8c000007vDSpEAM</td>\n",
       "      <td>a1W8c000007vDSpEAM</td>\n",
       "      <td>0018c00002axQecAAE</td>\n",
       "      <td>Metlife</td>\n",
       "      <td>A-0353</td>\n",
       "      <td>Metlife Clinica Alemana Clinica Alemana</td>\n",
       "      <td>Metlife</td>\n",
       "    </tr>\n",
       "    <tr>\n",
       "      <th>2</th>\n",
       "      <td>a1Y8c00000C5aspEAB</td>\n",
       "      <td>0018c00002amLbrAAE</td>\n",
       "      <td>a1W8c000007vDSpEAM</td>\n",
       "      <td>a1W8c000007vDSpEAM</td>\n",
       "      <td>0018c00002axQecAAE</td>\n",
       "      <td>Metlife</td>\n",
       "      <td>A-0353</td>\n",
       "      <td>Metlife Clinica Alemana Clinica Alemana</td>\n",
       "      <td>Metlife</td>\n",
       "    </tr>\n",
       "    <tr>\n",
       "      <th>3</th>\n",
       "      <td>a1Y8c00000C5asqEAB</td>\n",
       "      <td>0018c00002amLbsAAE</td>\n",
       "      <td>a1W8c000007vDSpEAM</td>\n",
       "      <td>a1W8c000007vDSpEAM</td>\n",
       "      <td>0018c00002axQecAAE</td>\n",
       "      <td>Metlife</td>\n",
       "      <td>A-0353</td>\n",
       "      <td>Metlife Clinica Alemana Clinica Alemana</td>\n",
       "      <td>Metlife</td>\n",
       "    </tr>\n",
       "    <tr>\n",
       "      <th>4</th>\n",
       "      <td>a1Y8c00000C5asrEAB</td>\n",
       "      <td>0018c00002amLc2AAE</td>\n",
       "      <td>a1W8c000007vDSpEAM</td>\n",
       "      <td>a1W8c000007vDSpEAM</td>\n",
       "      <td>0018c00002axQecAAE</td>\n",
       "      <td>Metlife</td>\n",
       "      <td>A-0353</td>\n",
       "      <td>Metlife Clinica Alemana Clinica Alemana</td>\n",
       "      <td>Metlife</td>\n",
       "    </tr>\n",
       "  </tbody>\n",
       "</table>\n",
       "</div>"
      ],
      "text/plain": [
       "                 Id_x         Paciente__c Programas_por_Empresas__c  \\\n",
       "0  a1Y8c00000C5asnEAB  0018c00002amLbpAAE        a1W8c000007vDPvEAM   \n",
       "1  a1Y8c00000C5asoEAB  0018c00002amLbqAAE        a1W8c000007vDSpEAM   \n",
       "2  a1Y8c00000C5aspEAB  0018c00002amLbrAAE        a1W8c000007vDSpEAM   \n",
       "3  a1Y8c00000C5asqEAB  0018c00002amLbsAAE        a1W8c000007vDSpEAM   \n",
       "4  a1Y8c00000C5asrEAB  0018c00002amLc2AAE        a1W8c000007vDSpEAM   \n",
       "\n",
       "                 Id_y          Empresa__c Empresa_Padre__c    Name  \\\n",
       "0  a1W8c000007vDPvEAM  0018c00002axQaeAAE          Metlife  A-0173   \n",
       "1  a1W8c000007vDSpEAM  0018c00002axQecAAE          Metlife  A-0353   \n",
       "2  a1W8c000007vDSpEAM  0018c00002axQecAAE          Metlife  A-0353   \n",
       "3  a1W8c000007vDSpEAM  0018c00002axQecAAE          Metlife  A-0353   \n",
       "4  a1W8c000007vDSpEAM  0018c00002axQecAAE          Metlife  A-0353   \n",
       "\n",
       "                                   Nombre_Empresa__c Empresa_Padre__c  \n",
       "0  Metlife Holding Metlife Serv. De Comerc Y Ases...          Metlife  \n",
       "1            Metlife Clinica Alemana Clinica Alemana          Metlife  \n",
       "2            Metlife Clinica Alemana Clinica Alemana          Metlife  \n",
       "3            Metlife Clinica Alemana Clinica Alemana          Metlife  \n",
       "4            Metlife Clinica Alemana Clinica Alemana          Metlife  "
      ]
     },
     "execution_count": 92,
     "metadata": {},
     "output_type": "execute_result"
    }
   ],
   "source": [
    "Empresas_SF = pd.merge(\n",
    "    left=Empresas_SF_pacpro,\n",
    "    right=Empresas_SF,\n",
    "    how=\"left\",\n",
    "    left_on=\"Programas_por_Empresas__c\",\n",
    "    right_on=\"Id\",\n",
    ")\n",
    "Empresas_SF.head()"
   ]
  },
  {
   "cell_type": "code",
   "execution_count": 93,
   "metadata": {
    "notebookRunGroups": {
     "groupValue": "1"
    }
   },
   "outputs": [
    {
     "data": {
      "text/plain": [
       "(1220330, 9)"
      ]
     },
     "execution_count": 93,
     "metadata": {},
     "output_type": "execute_result"
    }
   ],
   "source": [
    "Empresas_SF.shape"
   ]
  },
  {
   "cell_type": "code",
   "execution_count": 103,
   "metadata": {
    "notebookRunGroups": {
     "groupValue": "1"
    }
   },
   "outputs": [
    {
     "data": {
      "text/plain": [
       "(7876, 11)"
      ]
     },
     "execution_count": 103,
     "metadata": {},
     "output_type": "execute_result"
    }
   ],
   "source": [
    "# Recuperar empresas ID de salesforce\n",
    "results = sf.query_all(\n",
    "    \"\"\"\n",
    "   select Id, Name, IdentificationId__pc, Identification_Type__c,Holding__c ,Pa_s_del_Paciente__c,Campa_a__c,AccountNumber,Id_Empresa__c,poliza__c,Empleador__c  from account where ispersonaccount = false \n",
    "    \"\"\"\n",
    ")\n",
    "Empresas_SF_HL = pd.DataFrame(results[\"records\"])\n",
    "Empresas_SF_HL = Empresas_SF_HL[\n",
    "    [\"Id\", \"Name\", \"IdentificationId__pc\", \"Identification_Type__c\", \"Holding__c\", \"Pa_s_del_Paciente__c\",'Campa_a__c','AccountNumber','Id_Empresa__c','Empleador__c','poliza__c']\n",
    "]\n",
    "Empresas_SF_HL.shape"
   ]
  },
  {
   "cell_type": "code",
   "execution_count": 104,
   "metadata": {
    "notebookRunGroups": {
     "groupValue": "1"
    }
   },
   "outputs": [
    {
     "data": {
      "text/html": [
       "<div>\n",
       "<style scoped>\n",
       "    .dataframe tbody tr th:only-of-type {\n",
       "        vertical-align: middle;\n",
       "    }\n",
       "\n",
       "    .dataframe tbody tr th {\n",
       "        vertical-align: top;\n",
       "    }\n",
       "\n",
       "    .dataframe thead th {\n",
       "        text-align: right;\n",
       "    }\n",
       "</style>\n",
       "<table border=\"1\" class=\"dataframe\">\n",
       "  <thead>\n",
       "    <tr style=\"text-align: right;\">\n",
       "      <th></th>\n",
       "      <th>Id</th>\n",
       "      <th>Name</th>\n",
       "      <th>IdentificationId__pc</th>\n",
       "      <th>Identification_Type__c</th>\n",
       "      <th>Holding__c</th>\n",
       "      <th>Pa_s_del_Paciente__c</th>\n",
       "      <th>Campa_a__c</th>\n",
       "      <th>AccountNumber</th>\n",
       "      <th>Id_Empresa__c</th>\n",
       "      <th>Empleador__c</th>\n",
       "      <th>poliza__c</th>\n",
       "    </tr>\n",
       "  </thead>\n",
       "  <tbody>\n",
       "    <tr>\n",
       "      <th>0</th>\n",
       "      <td>0018c00002eTcCQAA0</td>\n",
       "      <td>Vida Camara Holding Vida Camara Cintegral Sist...</td>\n",
       "      <td>None</td>\n",
       "      <td>None</td>\n",
       "      <td>Holding Vida Camara</td>\n",
       "      <td>a1U8c000005dAtnEAE</td>\n",
       "      <td>Vida Camara</td>\n",
       "      <td>None</td>\n",
       "      <td>EMP879</td>\n",
       "      <td>None</td>\n",
       "      <td>None</td>\n",
       "    </tr>\n",
       "    <tr>\n",
       "      <th>1</th>\n",
       "      <td>0018c00002eTcCRAA0</td>\n",
       "      <td>Vida Camara Holding Vida Camara Civil Agro S.A.</td>\n",
       "      <td>None</td>\n",
       "      <td>None</td>\n",
       "      <td>Holding Vida Camara</td>\n",
       "      <td>a1U8c000005dAtnEAE</td>\n",
       "      <td>Vida Camara</td>\n",
       "      <td>None</td>\n",
       "      <td>EMP891</td>\n",
       "      <td>None</td>\n",
       "      <td>None</td>\n",
       "    </tr>\n",
       "    <tr>\n",
       "      <th>2</th>\n",
       "      <td>0018c00002eTcCSAA0</td>\n",
       "      <td>Vida Camara Holding Vida Camara Civilplas S.A.</td>\n",
       "      <td>None</td>\n",
       "      <td>None</td>\n",
       "      <td>Holding Vida Camara</td>\n",
       "      <td>a1U8c000005dAtnEAE</td>\n",
       "      <td>Vida Camara</td>\n",
       "      <td>None</td>\n",
       "      <td>EMP893</td>\n",
       "      <td>None</td>\n",
       "      <td>None</td>\n",
       "    </tr>\n",
       "    <tr>\n",
       "      <th>3</th>\n",
       "      <td>0018c00002eTcCTAA0</td>\n",
       "      <td>Vida Camara Holding Vida Camara Cj Traffic Chi...</td>\n",
       "      <td>None</td>\n",
       "      <td>None</td>\n",
       "      <td>Holding Vida Camara</td>\n",
       "      <td>a1U8c000005dAtnEAE</td>\n",
       "      <td>Vida Camara</td>\n",
       "      <td>None</td>\n",
       "      <td>EMP894</td>\n",
       "      <td>None</td>\n",
       "      <td>None</td>\n",
       "    </tr>\n",
       "    <tr>\n",
       "      <th>4</th>\n",
       "      <td>0018c00002eTcCUAA0</td>\n",
       "      <td>Vida Camara Holding Vida Camara Clinda Ltda.</td>\n",
       "      <td>None</td>\n",
       "      <td>None</td>\n",
       "      <td>Holding Vida Camara</td>\n",
       "      <td>a1U8c000005dAtnEAE</td>\n",
       "      <td>Vida Camara</td>\n",
       "      <td>None</td>\n",
       "      <td>EMP895</td>\n",
       "      <td>None</td>\n",
       "      <td>None</td>\n",
       "    </tr>\n",
       "  </tbody>\n",
       "</table>\n",
       "</div>"
      ],
      "text/plain": [
       "                   Id                                               Name  \\\n",
       "0  0018c00002eTcCQAA0  Vida Camara Holding Vida Camara Cintegral Sist...   \n",
       "1  0018c00002eTcCRAA0    Vida Camara Holding Vida Camara Civil Agro S.A.   \n",
       "2  0018c00002eTcCSAA0     Vida Camara Holding Vida Camara Civilplas S.A.   \n",
       "3  0018c00002eTcCTAA0  Vida Camara Holding Vida Camara Cj Traffic Chi...   \n",
       "4  0018c00002eTcCUAA0       Vida Camara Holding Vida Camara Clinda Ltda.   \n",
       "\n",
       "  IdentificationId__pc Identification_Type__c           Holding__c  \\\n",
       "0                 None                   None  Holding Vida Camara   \n",
       "1                 None                   None  Holding Vida Camara   \n",
       "2                 None                   None  Holding Vida Camara   \n",
       "3                 None                   None  Holding Vida Camara   \n",
       "4                 None                   None  Holding Vida Camara   \n",
       "\n",
       "  Pa_s_del_Paciente__c   Campa_a__c AccountNumber Id_Empresa__c Empleador__c  \\\n",
       "0   a1U8c000005dAtnEAE  Vida Camara          None        EMP879         None   \n",
       "1   a1U8c000005dAtnEAE  Vida Camara          None        EMP891         None   \n",
       "2   a1U8c000005dAtnEAE  Vida Camara          None        EMP893         None   \n",
       "3   a1U8c000005dAtnEAE  Vida Camara          None        EMP894         None   \n",
       "4   a1U8c000005dAtnEAE  Vida Camara          None        EMP895         None   \n",
       "\n",
       "  poliza__c  \n",
       "0      None  \n",
       "1      None  \n",
       "2      None  \n",
       "3      None  \n",
       "4      None  "
      ]
     },
     "execution_count": 104,
     "metadata": {},
     "output_type": "execute_result"
    }
   ],
   "source": [
    "Empresas_SF_HL.head()"
   ]
  },
  {
   "attachments": {},
   "cell_type": "markdown",
   "metadata": {},
   "source": [
    "EMPRESAS_SF es la relacion de todas los Pacientes con las Empresas"
   ]
  },
  {
   "cell_type": "markdown",
   "metadata": {},
   "source": []
  },
  {
   "cell_type": "code",
   "execution_count": 105,
   "metadata": {
    "notebookRunGroups": {
     "groupValue": "1"
    }
   },
   "outputs": [
    {
     "name": "stderr",
     "output_type": "stream",
     "text": [
      "C:\\Users\\jmartinez\\AppData\\Local\\Temp\\ipykernel_17200\\1228161240.py:1: FutureWarning: Passing 'suffixes' which cause duplicate columns {'Name_x'} in the result is deprecated and will raise a MergeError in a future version.\n",
      "  Empresas_SF = pd.merge(\n"
     ]
    },
    {
     "data": {
      "text/html": [
       "<div>\n",
       "<style scoped>\n",
       "    .dataframe tbody tr th:only-of-type {\n",
       "        vertical-align: middle;\n",
       "    }\n",
       "\n",
       "    .dataframe tbody tr th {\n",
       "        vertical-align: top;\n",
       "    }\n",
       "\n",
       "    .dataframe thead th {\n",
       "        text-align: right;\n",
       "    }\n",
       "</style>\n",
       "<table border=\"1\" class=\"dataframe\">\n",
       "  <thead>\n",
       "    <tr style=\"text-align: right;\">\n",
       "      <th></th>\n",
       "      <th>Id_x</th>\n",
       "      <th>Name_x</th>\n",
       "      <th>IdentificationId__pc_x</th>\n",
       "      <th>Identification_Type__c_x</th>\n",
       "      <th>Holding__c_x</th>\n",
       "      <th>Pa_s_del_Paciente__c_x</th>\n",
       "      <th>Campa_a__c_x</th>\n",
       "      <th>AccountNumber_x</th>\n",
       "      <th>Id_Empresa__c_x</th>\n",
       "      <th>Empleador__c_x</th>\n",
       "      <th>...</th>\n",
       "      <th>Name_y</th>\n",
       "      <th>IdentificationId__pc</th>\n",
       "      <th>Identification_Type__c</th>\n",
       "      <th>Holding__c</th>\n",
       "      <th>Pa_s_del_Paciente__c</th>\n",
       "      <th>Campa_a__c</th>\n",
       "      <th>AccountNumber</th>\n",
       "      <th>Id_Empresa__c</th>\n",
       "      <th>Empleador__c_y</th>\n",
       "      <th>poliza__c_y</th>\n",
       "    </tr>\n",
       "  </thead>\n",
       "  <tbody>\n",
       "    <tr>\n",
       "      <th>0</th>\n",
       "      <td>0018c00002eTcCQAA0</td>\n",
       "      <td>Vida Camara Holding Vida Camara Cintegral Sist...</td>\n",
       "      <td>None</td>\n",
       "      <td>None</td>\n",
       "      <td>Holding Vida Camara</td>\n",
       "      <td>a1U8c000005dAtnEAE</td>\n",
       "      <td>Vida Camara</td>\n",
       "      <td>None</td>\n",
       "      <td>EMP879</td>\n",
       "      <td>None</td>\n",
       "      <td>...</td>\n",
       "      <td>Vida Camara Holding Vida Camara Cintegral Sist...</td>\n",
       "      <td>None</td>\n",
       "      <td>None</td>\n",
       "      <td>Holding Vida Camara</td>\n",
       "      <td>a1U8c000005dAtnEAE</td>\n",
       "      <td>Vida Camara</td>\n",
       "      <td>None</td>\n",
       "      <td>EMP879</td>\n",
       "      <td>None</td>\n",
       "      <td>None</td>\n",
       "    </tr>\n",
       "    <tr>\n",
       "      <th>1</th>\n",
       "      <td>0018c00002eTcCQAA0</td>\n",
       "      <td>Vida Camara Holding Vida Camara Cintegral Sist...</td>\n",
       "      <td>None</td>\n",
       "      <td>None</td>\n",
       "      <td>Holding Vida Camara</td>\n",
       "      <td>a1U8c000005dAtnEAE</td>\n",
       "      <td>Vida Camara</td>\n",
       "      <td>None</td>\n",
       "      <td>EMP879</td>\n",
       "      <td>None</td>\n",
       "      <td>...</td>\n",
       "      <td>Vida Camara Holding Vida Camara Cintegral Sist...</td>\n",
       "      <td>None</td>\n",
       "      <td>None</td>\n",
       "      <td>Holding Vida Camara</td>\n",
       "      <td>a1U8c000005dAtnEAE</td>\n",
       "      <td>Vida Camara</td>\n",
       "      <td>None</td>\n",
       "      <td>EMP879</td>\n",
       "      <td>None</td>\n",
       "      <td>None</td>\n",
       "    </tr>\n",
       "    <tr>\n",
       "      <th>2</th>\n",
       "      <td>0018c00002eTcCQAA0</td>\n",
       "      <td>Vida Camara Holding Vida Camara Cintegral Sist...</td>\n",
       "      <td>None</td>\n",
       "      <td>None</td>\n",
       "      <td>Holding Vida Camara</td>\n",
       "      <td>a1U8c000005dAtnEAE</td>\n",
       "      <td>Vida Camara</td>\n",
       "      <td>None</td>\n",
       "      <td>EMP879</td>\n",
       "      <td>None</td>\n",
       "      <td>...</td>\n",
       "      <td>Vida Camara Holding Vida Camara Cintegral Sist...</td>\n",
       "      <td>None</td>\n",
       "      <td>None</td>\n",
       "      <td>Holding Vida Camara</td>\n",
       "      <td>a1U8c000005dAtnEAE</td>\n",
       "      <td>Vida Camara</td>\n",
       "      <td>None</td>\n",
       "      <td>EMP879</td>\n",
       "      <td>None</td>\n",
       "      <td>None</td>\n",
       "    </tr>\n",
       "    <tr>\n",
       "      <th>3</th>\n",
       "      <td>0018c00002eTcCQAA0</td>\n",
       "      <td>Vida Camara Holding Vida Camara Cintegral Sist...</td>\n",
       "      <td>None</td>\n",
       "      <td>None</td>\n",
       "      <td>Holding Vida Camara</td>\n",
       "      <td>a1U8c000005dAtnEAE</td>\n",
       "      <td>Vida Camara</td>\n",
       "      <td>None</td>\n",
       "      <td>EMP879</td>\n",
       "      <td>None</td>\n",
       "      <td>...</td>\n",
       "      <td>Vida Camara Holding Vida Camara Cintegral Sist...</td>\n",
       "      <td>None</td>\n",
       "      <td>None</td>\n",
       "      <td>Holding Vida Camara</td>\n",
       "      <td>a1U8c000005dAtnEAE</td>\n",
       "      <td>Vida Camara</td>\n",
       "      <td>None</td>\n",
       "      <td>EMP879</td>\n",
       "      <td>None</td>\n",
       "      <td>None</td>\n",
       "    </tr>\n",
       "    <tr>\n",
       "      <th>4</th>\n",
       "      <td>0018c00002eTcCQAA0</td>\n",
       "      <td>Vida Camara Holding Vida Camara Cintegral Sist...</td>\n",
       "      <td>None</td>\n",
       "      <td>None</td>\n",
       "      <td>Holding Vida Camara</td>\n",
       "      <td>a1U8c000005dAtnEAE</td>\n",
       "      <td>Vida Camara</td>\n",
       "      <td>None</td>\n",
       "      <td>EMP879</td>\n",
       "      <td>None</td>\n",
       "      <td>...</td>\n",
       "      <td>Vida Camara Holding Vida Camara Cintegral Sist...</td>\n",
       "      <td>None</td>\n",
       "      <td>None</td>\n",
       "      <td>Holding Vida Camara</td>\n",
       "      <td>a1U8c000005dAtnEAE</td>\n",
       "      <td>Vida Camara</td>\n",
       "      <td>None</td>\n",
       "      <td>EMP879</td>\n",
       "      <td>None</td>\n",
       "      <td>None</td>\n",
       "    </tr>\n",
       "  </tbody>\n",
       "</table>\n",
       "<p>5 rows × 40 columns</p>\n",
       "</div>"
      ],
      "text/plain": [
       "                 Id_x                                             Name_x  \\\n",
       "0  0018c00002eTcCQAA0  Vida Camara Holding Vida Camara Cintegral Sist...   \n",
       "1  0018c00002eTcCQAA0  Vida Camara Holding Vida Camara Cintegral Sist...   \n",
       "2  0018c00002eTcCQAA0  Vida Camara Holding Vida Camara Cintegral Sist...   \n",
       "3  0018c00002eTcCQAA0  Vida Camara Holding Vida Camara Cintegral Sist...   \n",
       "4  0018c00002eTcCQAA0  Vida Camara Holding Vida Camara Cintegral Sist...   \n",
       "\n",
       "  IdentificationId__pc_x Identification_Type__c_x         Holding__c_x  \\\n",
       "0                   None                     None  Holding Vida Camara   \n",
       "1                   None                     None  Holding Vida Camara   \n",
       "2                   None                     None  Holding Vida Camara   \n",
       "3                   None                     None  Holding Vida Camara   \n",
       "4                   None                     None  Holding Vida Camara   \n",
       "\n",
       "  Pa_s_del_Paciente__c_x Campa_a__c_x AccountNumber_x Id_Empresa__c_x  \\\n",
       "0     a1U8c000005dAtnEAE  Vida Camara            None          EMP879   \n",
       "1     a1U8c000005dAtnEAE  Vida Camara            None          EMP879   \n",
       "2     a1U8c000005dAtnEAE  Vida Camara            None          EMP879   \n",
       "3     a1U8c000005dAtnEAE  Vida Camara            None          EMP879   \n",
       "4     a1U8c000005dAtnEAE  Vida Camara            None          EMP879   \n",
       "\n",
       "  Empleador__c_x  ...                                             Name_y  \\\n",
       "0           None  ...  Vida Camara Holding Vida Camara Cintegral Sist...   \n",
       "1           None  ...  Vida Camara Holding Vida Camara Cintegral Sist...   \n",
       "2           None  ...  Vida Camara Holding Vida Camara Cintegral Sist...   \n",
       "3           None  ...  Vida Camara Holding Vida Camara Cintegral Sist...   \n",
       "4           None  ...  Vida Camara Holding Vida Camara Cintegral Sist...   \n",
       "\n",
       "  IdentificationId__pc Identification_Type__c           Holding__c  \\\n",
       "0                 None                   None  Holding Vida Camara   \n",
       "1                 None                   None  Holding Vida Camara   \n",
       "2                 None                   None  Holding Vida Camara   \n",
       "3                 None                   None  Holding Vida Camara   \n",
       "4                 None                   None  Holding Vida Camara   \n",
       "\n",
       "  Pa_s_del_Paciente__c   Campa_a__c AccountNumber Id_Empresa__c  \\\n",
       "0   a1U8c000005dAtnEAE  Vida Camara          None        EMP879   \n",
       "1   a1U8c000005dAtnEAE  Vida Camara          None        EMP879   \n",
       "2   a1U8c000005dAtnEAE  Vida Camara          None        EMP879   \n",
       "3   a1U8c000005dAtnEAE  Vida Camara          None        EMP879   \n",
       "4   a1U8c000005dAtnEAE  Vida Camara          None        EMP879   \n",
       "\n",
       "  Empleador__c_y poliza__c_y  \n",
       "0           None        None  \n",
       "1           None        None  \n",
       "2           None        None  \n",
       "3           None        None  \n",
       "4           None        None  \n",
       "\n",
       "[5 rows x 40 columns]"
      ]
     },
     "execution_count": 105,
     "metadata": {},
     "output_type": "execute_result"
    }
   ],
   "source": [
    "Empresas_SF = pd.merge(\n",
    "    left=Empresas_SF,\n",
    "    right=Empresas_SF_HL,\n",
    "    how=\"left\",\n",
    "    left_on=\"Empresa__c\",\n",
    "    right_on=\"Id\",\n",
    ")\n",
    "Empresas_SF.head()"
   ]
  },
  {
   "cell_type": "code",
   "execution_count": 106,
   "metadata": {
    "notebookRunGroups": {
     "groupValue": "1"
    }
   },
   "outputs": [
    {
     "data": {
      "text/plain": [
       "(1218185, 40)"
      ]
     },
     "execution_count": 106,
     "metadata": {},
     "output_type": "execute_result"
    }
   ],
   "source": [
    "Empresas_SF.shape"
   ]
  },
  {
   "attachments": {},
   "cell_type": "markdown",
   "metadata": {},
   "source": [
    "Consulta de Recordtype son los codigos de atencion de las distintas ficvhas segunda pantalla ingreso derivacion esas cosas"
   ]
  },
  {
   "cell_type": "code",
   "execution_count": null,
   "metadata": {},
   "outputs": [],
   "source": [
    "# Consulta de Servicios\n",
    "results = sf.query_all(\n",
    "    \"\"\"\n",
    " select Id, Name from recordtype\n",
    "    \"\"\"\n",
    ")\n",
    "recordtype = pd.DataFrame(results[\"records\"])\n",
    "# Pacientes_empresas = Pacientes_empresas[\n",
    "#   [\"Id\", \"RUT__c\",'CreatedDate','Name','Nombre_Empresa__c','Empresa__c','Tipo_de_Ficha__c','Account__c']\n",
    "# ]\n",
    "\n",
    "Pacientes_empresas.head()"
   ]
  },
  {
   "cell_type": "markdown",
   "metadata": {},
   "source": []
  },
  {
   "cell_type": "code",
   "execution_count": null,
   "metadata": {
    "notebookRunGroups": {
     "groupValue": "1"
    }
   },
   "outputs": [],
   "source": [
    "Pacientes_con_ID = pd.merge(\n",
    "    left=Pacientes_empresas,\n",
    "    right=Pacientes_SF,\n",
    "    how=\"left\",\n",
    "    left_on=\"Paciente__c\",\n",
    "    right_on=\"Id\",\n",
    ")\n",
    "Pacientes_con_ID.head()"
   ]
  },
  {
   "cell_type": "code",
   "execution_count": null,
   "metadata": {
    "notebookRunGroups": {
     "groupValue": "1"
    }
   },
   "outputs": [],
   "source": [
    "Pacientes_con_ID = pd.merge(\n",
    "    left=Pacientes_con_ID,\n",
    "    right=Empresas_SF,\n",
    "    how=\"left\",\n",
    "    left_on=\"Programas_por_Empresas__c\",\n",
    "    right_on=\"Id_y\",\n",
    ")\n",
    "Pacientes_con_ID.head()"
   ]
  },
  {
   "cell_type": "code",
   "execution_count": null,
   "metadata": {},
   "outputs": [],
   "source": [
    "results = sf.query_all(\n",
    "    \"\"\"\n",
    "  select Id,RUT__c, CreatedDate, Clinica__c,Interacci_n__c, AppointmentNumber from ServiceAppointment \n",
    "    \"\"\"\n",
    ")\n",
    "df = pd.DataFrame(results)\n",
    "df.shape\n",
    "citas_de_servicio = pd.DataFrame(results[\"records\"])\n",
    "citas_de_servicio = citas_de_servicio[\n",
    "    [\"RUT__c\",'CreatedDate','Clinica__c','AppointmentNumber','Interacci_n__c']\n",
    "]\n",
    "citas_de_servicio.head()"
   ]
  },
  {
   "cell_type": "code",
   "execution_count": null,
   "metadata": {},
   "outputs": [],
   "source": [
    "citas_de_servicio = pd.merge(\n",
    "    left=citas_de_servicio,\n",
    "    right=Pacientes_con_ID,\n",
    "    how=\"left\",\n",
    "    left_on=\"RUT__c\",\n",
    "    right_on=\"IdentificationId__pc\",\n",
    ")\n",
    "citas_de_servicio.head()"
   ]
  },
  {
   "cell_type": "code",
   "execution_count": null,
   "metadata": {},
   "outputs": [],
   "source": []
  },
  {
   "cell_type": "code",
   "execution_count": null,
   "metadata": {},
   "outputs": [],
   "source": [
    "#Nutricion\n",
    "results = sf.query_all(\n",
    "    \"\"\"\n",
    " select Id,RUT__c, CreatedDate, Name, Nombre_Empresa__c, Empresa__c,Tipo_de_Ficha__c,Account__c,Motivo__c, Motivo_de_consulta__c,  RecordTypeId from Ficha_Clinica_Nutrici_n__c\n",
    "    \"\"\"\n",
    ")\n",
    "\n",
    "nutricion = pd.DataFrame(results[\"records\"])\n",
    "nutricion = nutricion[\n",
    "    [\"RUT__c\",'CreatedDate','Name','Nombre_Empresa__c','Empresa__c','Tipo_de_Ficha__c','Account__c','Motivo__c','Motivo_de_consulta__c','RecordTypeId']\n",
    "]\n",
    "\n",
    "nutricion.head()"
   ]
  },
  {
   "cell_type": "code",
   "execution_count": null,
   "metadata": {},
   "outputs": [],
   "source": [
    "nutricion = pd.merge(\n",
    "    left=nutricion,\n",
    "    right=Pacientes_con_ID,\n",
    "    how=\"left\",\n",
    "    left_on=\"RUT__c\",\n",
    "    right_on=\"IdentificationId__pc\",\n",
    ")\n",
    "nutricion.head()"
   ]
  },
  {
   "cell_type": "code",
   "execution_count": 108,
   "metadata": {},
   "outputs": [
    {
     "ename": "ValueError",
     "evalue": "This sheet is too large! Your sheet size is: 1218185, 40 Max sheet size is: 1048576, 16384",
     "output_type": "error",
     "traceback": [
      "\u001b[1;31m---------------------------------------------------------------------------\u001b[0m",
      "\u001b[1;31mValueError\u001b[0m                                Traceback (most recent call last)",
      "Cell \u001b[1;32mIn[108], line 1\u001b[0m\n\u001b[1;32m----> 1\u001b[0m Empresas_SF\u001b[39m.\u001b[39;49mto_excel(\n\u001b[0;32m      2\u001b[0m     \u001b[39m\"\u001b[39;49m\u001b[39mC:/Users/jmartinez/Documents/cargas/empresas.xlsx\u001b[39;49m\u001b[39m\"\u001b[39;49m, index\u001b[39m=\u001b[39;49m\u001b[39mFalse\u001b[39;49;00m\n\u001b[0;32m      3\u001b[0m )\n",
      "File \u001b[1;32mc:\\Users\\jmartinez\\.conda\\envs\\salesforce\\lib\\site-packages\\pandas\\util\\_decorators.py:211\u001b[0m, in \u001b[0;36mdeprecate_kwarg.<locals>._deprecate_kwarg.<locals>.wrapper\u001b[1;34m(*args, **kwargs)\u001b[0m\n\u001b[0;32m    209\u001b[0m     \u001b[39melse\u001b[39;00m:\n\u001b[0;32m    210\u001b[0m         kwargs[new_arg_name] \u001b[39m=\u001b[39m new_arg_value\n\u001b[1;32m--> 211\u001b[0m \u001b[39mreturn\u001b[39;00m func(\u001b[39m*\u001b[39;49margs, \u001b[39m*\u001b[39;49m\u001b[39m*\u001b[39;49mkwargs)\n",
      "File \u001b[1;32mc:\\Users\\jmartinez\\.conda\\envs\\salesforce\\lib\\site-packages\\pandas\\util\\_decorators.py:211\u001b[0m, in \u001b[0;36mdeprecate_kwarg.<locals>._deprecate_kwarg.<locals>.wrapper\u001b[1;34m(*args, **kwargs)\u001b[0m\n\u001b[0;32m    209\u001b[0m     \u001b[39melse\u001b[39;00m:\n\u001b[0;32m    210\u001b[0m         kwargs[new_arg_name] \u001b[39m=\u001b[39m new_arg_value\n\u001b[1;32m--> 211\u001b[0m \u001b[39mreturn\u001b[39;00m func(\u001b[39m*\u001b[39;49margs, \u001b[39m*\u001b[39;49m\u001b[39m*\u001b[39;49mkwargs)\n",
      "File \u001b[1;32mc:\\Users\\jmartinez\\.conda\\envs\\salesforce\\lib\\site-packages\\pandas\\core\\generic.py:2374\u001b[0m, in \u001b[0;36mNDFrame.to_excel\u001b[1;34m(self, excel_writer, sheet_name, na_rep, float_format, columns, header, index, index_label, startrow, startcol, engine, merge_cells, encoding, inf_rep, verbose, freeze_panes, storage_options)\u001b[0m\n\u001b[0;32m   2361\u001b[0m \u001b[39mfrom\u001b[39;00m \u001b[39mpandas\u001b[39;00m\u001b[39m.\u001b[39;00m\u001b[39mio\u001b[39;00m\u001b[39m.\u001b[39;00m\u001b[39mformats\u001b[39;00m\u001b[39m.\u001b[39;00m\u001b[39mexcel\u001b[39;00m \u001b[39mimport\u001b[39;00m ExcelFormatter\n\u001b[0;32m   2363\u001b[0m formatter \u001b[39m=\u001b[39m ExcelFormatter(\n\u001b[0;32m   2364\u001b[0m     df,\n\u001b[0;32m   2365\u001b[0m     na_rep\u001b[39m=\u001b[39mna_rep,\n\u001b[1;32m   (...)\u001b[0m\n\u001b[0;32m   2372\u001b[0m     inf_rep\u001b[39m=\u001b[39minf_rep,\n\u001b[0;32m   2373\u001b[0m )\n\u001b[1;32m-> 2374\u001b[0m formatter\u001b[39m.\u001b[39;49mwrite(\n\u001b[0;32m   2375\u001b[0m     excel_writer,\n\u001b[0;32m   2376\u001b[0m     sheet_name\u001b[39m=\u001b[39;49msheet_name,\n\u001b[0;32m   2377\u001b[0m     startrow\u001b[39m=\u001b[39;49mstartrow,\n\u001b[0;32m   2378\u001b[0m     startcol\u001b[39m=\u001b[39;49mstartcol,\n\u001b[0;32m   2379\u001b[0m     freeze_panes\u001b[39m=\u001b[39;49mfreeze_panes,\n\u001b[0;32m   2380\u001b[0m     engine\u001b[39m=\u001b[39;49mengine,\n\u001b[0;32m   2381\u001b[0m     storage_options\u001b[39m=\u001b[39;49mstorage_options,\n\u001b[0;32m   2382\u001b[0m )\n",
      "File \u001b[1;32mc:\\Users\\jmartinez\\.conda\\envs\\salesforce\\lib\\site-packages\\pandas\\io\\formats\\excel.py:907\u001b[0m, in \u001b[0;36mExcelFormatter.write\u001b[1;34m(self, writer, sheet_name, startrow, startcol, freeze_panes, engine, storage_options)\u001b[0m\n\u001b[0;32m    905\u001b[0m num_rows, num_cols \u001b[39m=\u001b[39m \u001b[39mself\u001b[39m\u001b[39m.\u001b[39mdf\u001b[39m.\u001b[39mshape\n\u001b[0;32m    906\u001b[0m \u001b[39mif\u001b[39;00m num_rows \u001b[39m>\u001b[39m \u001b[39mself\u001b[39m\u001b[39m.\u001b[39mmax_rows \u001b[39mor\u001b[39;00m num_cols \u001b[39m>\u001b[39m \u001b[39mself\u001b[39m\u001b[39m.\u001b[39mmax_cols:\n\u001b[1;32m--> 907\u001b[0m     \u001b[39mraise\u001b[39;00m \u001b[39mValueError\u001b[39;00m(\n\u001b[0;32m    908\u001b[0m         \u001b[39mf\u001b[39m\u001b[39m\"\u001b[39m\u001b[39mThis sheet is too large! Your sheet size is: \u001b[39m\u001b[39m{\u001b[39;00mnum_rows\u001b[39m}\u001b[39;00m\u001b[39m, \u001b[39m\u001b[39m{\u001b[39;00mnum_cols\u001b[39m}\u001b[39;00m\u001b[39m \u001b[39m\u001b[39m\"\u001b[39m\n\u001b[0;32m    909\u001b[0m         \u001b[39mf\u001b[39m\u001b[39m\"\u001b[39m\u001b[39mMax sheet size is: \u001b[39m\u001b[39m{\u001b[39;00m\u001b[39mself\u001b[39m\u001b[39m.\u001b[39mmax_rows\u001b[39m}\u001b[39;00m\u001b[39m, \u001b[39m\u001b[39m{\u001b[39;00m\u001b[39mself\u001b[39m\u001b[39m.\u001b[39mmax_cols\u001b[39m}\u001b[39;00m\u001b[39m\"\u001b[39m\n\u001b[0;32m    910\u001b[0m     )\n\u001b[0;32m    912\u001b[0m formatted_cells \u001b[39m=\u001b[39m \u001b[39mself\u001b[39m\u001b[39m.\u001b[39mget_formatted_cells()\n\u001b[0;32m    913\u001b[0m \u001b[39mif\u001b[39;00m \u001b[39misinstance\u001b[39m(writer, ExcelWriter):\n",
      "\u001b[1;31mValueError\u001b[0m: This sheet is too large! Your sheet size is: 1218185, 40 Max sheet size is: 1048576, 16384"
     ]
    }
   ],
   "source": [
    "Empresas_SF.to_excel(\n",
    "    \"C:/Users/jmartinez/Documents/cargas/empresas.xlsx\", index=False\n",
    ")"
   ]
  }
 ],
 "metadata": {
  "kernelspec": {
   "display_name": "salesforce",
   "language": "python",
   "name": "python3"
  },
  "language_info": {
   "codemirror_mode": {
    "name": "ipython",
    "version": 3
   },
   "file_extension": ".py",
   "mimetype": "text/x-python",
   "name": "python",
   "nbconvert_exporter": "python",
   "pygments_lexer": "ipython3",
   "version": "3.8.15"
  },
  "orig_nbformat": 4,
  "vscode": {
   "interpreter": {
    "hash": "7fbccfb583f385d5cd7c75cc6ade03c09354727271e9200f47ca4e7fedb5381e"
   }
  }
 },
 "nbformat": 4,
 "nbformat_minor": 2
}
