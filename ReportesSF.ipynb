{
 "cells": [
  {
   "cell_type": "code",
   "execution_count": null,
   "metadata": {
    "notebookRunGroups": {
     "groupValue": "1"
    }
   },
   "outputs": [],
   "source": [
    "from pathlib import Path \n",
    "import requests\n",
    "import pandas as pd\n",
    "import numpy as np\n",
    "from io import StringIO\n",
    "from simple_salesforce import Salesforce\n",
    "import shutil\n",
    "import datetime"
   ]
  },
  {
   "cell_type": "code",
   "execution_count": null,
   "metadata": {
    "notebookRunGroups": {
     "groupValue": "1"
    }
   },
   "outputs": [],
   "source": [
    "sf = Salesforce(\n",
    "    username=\"jmartinez@careassistance.com\",\n",
    "    password=\"Jcmm0104\",\n",
    "    security_token=\"EwVPSL02qXM8XQ2pkUdA13aW\",\n",
    ")"
   ]
  },
  {
   "attachments": {},
   "cell_type": "markdown",
   "metadata": {},
   "source": [
    "Recuperacion de pacientes"
   ]
  },
  {
   "cell_type": "code",
   "execution_count": 154,
   "metadata": {
    "notebookRunGroups": {
     "groupValue": "1"
    }
   },
   "outputs": [],
   "source": [
    "# recuperar todos los pacientes ID\n",
    "results = sf.query_all(\n",
    "    \"\"\"\n",
    "   select Id, IdentificationId__pc,Name from Account \n",
    "    \"\"\"\n",
    ")\n",
    "Pacientes_SF = pd.DataFrame(results[\"records\"])\n",
    "\n",
    "Pacientes_SF = Pacientes_SF[[\"Id\", \"IdentificationId__pc\", \"Name\"]]\n",
    "Pacientes_SF.shape"
   ]
  },
  {
   "attachments": {},
   "cell_type": "markdown",
   "metadata": {},
   "source": [
    "Empresas de Sales Force"
   ]
  },
  {
   "cell_type": "code",
   "execution_count": null,
   "metadata": {
    "notebookRunGroups": {
     "groupValue": "1"
    }
   },
   "outputs": [],
   "source": [
    "\n",
    "# Recuperar empresas ID de salesforce\n",
    "results = sf.query_all(\n",
    "    \"\"\"\n",
    "   select Id,Empresa__c, Empresa_Padre__c,  Name, Nombre_Empresa__c from Programas_por_Empresas__c\n",
    "    \"\"\"\n",
    ")\n",
    "programas_empresas = pd.DataFrame(results[\"records\"])\n",
    "programas_empresas = programas_empresas[\n",
    "    [\"Id\", \"Empresa__c\", \"Empresa_Padre__c\", \"Name\", \"Nombre_Empresa__c\", \"Empresa_Padre__c\"]\n",
    "]\n",
    "programas_empresas.shape"
   ]
  },
  {
   "cell_type": "code",
   "execution_count": null,
   "metadata": {
    "notebookRunGroups": {
     "groupValue": "1"
    }
   },
   "outputs": [],
   "source": [
    "# Recuperar empresas ID de salesforce\n",
    "results = sf.query_all(\n",
    "    \"\"\"\n",
    "   select Id, Name, IdentificationId__pc, Identification_Type__c,Holding__c ,Pa_s_del_Paciente__c,Campa_a__c,AccountNumber,Id_Empresa__c,poliza__c,Empleador__c  from account where ispersonaccount = false \n",
    "    \"\"\"\n",
    ")\n",
    "Empresas_SF = pd.DataFrame(results[\"records\"])\n",
    "Empresas_SF = Empresas_SF[\n",
    "    [\"Id\", \"Name\", \"IdentificationId__pc\", \"Identification_Type__c\", \"Holding__c\", \"Pa_s_del_Paciente__c\",'Campa_a__c','AccountNumber','Id_Empresa__c','Empleador__c','poliza__c']\n",
    "]\n",
    "Empresas_SF.shape"
   ]
  },
  {
   "cell_type": "code",
   "execution_count": null,
   "metadata": {
    "notebookRunGroups": {
     "groupValue": "1"
    }
   },
   "outputs": [],
   "source": [
    "Empresas_SF_grande = pd.merge(\n",
    "    left=programas_empresas,\n",
    "    right=Empresas_SF,\n",
    "    how=\"left\",\n",
    "    left_on=\"Empresa__c\",\n",
    "    right_on=\"Id\",\n",
    ")\n",
    "Empresas_SF_grande.head()"
   ]
  },
  {
   "cell_type": "code",
   "execution_count": null,
   "metadata": {
    "notebookRunGroups": {
     "groupValue": "1"
    }
   },
   "outputs": [],
   "source": [
    "Empresas_SF_grande.shape"
   ]
  },
  {
   "cell_type": "code",
   "execution_count": null,
   "metadata": {},
   "outputs": [],
   "source": [
    "archivo = 'empresas.xlsx'\n",
    "fecha = str(datetime.date.today())\n",
    "archivo_con_fecha = f\"{fecha}_{archivo}\"\n",
    "archivo_con_fecha = archivo_con_fecha.replace(\":\", \"_\")\n",
    "archivo_con_fecha = archivo_con_fecha.replace(\"-\", \"_\")\n",
    "archivo_con_fecha = archivo_con_fecha.replace(\" \", \"_\")\n",
    "#archivo_con_fecha = archivo_con_fecha.replace(\".\", \"_\")\n",
    "hasta = Path(\"F:/Empresas SF/\").joinpath(archivo_con_fecha)\n",
    "print (hasta)\n",
    "Empresas_SF_grande.to_excel(\n",
    "    hasta, index=False\n",
    ")"
   ]
  },
  {
   "cell_type": "code",
   "execution_count": null,
   "metadata": {
    "notebookRunGroups": {
     "groupValue": "1"
    }
   },
   "outputs": [],
   "source": [
    "results = sf.query_all(\n",
    "    \"\"\"\n",
    "   select Id,Paciente__c,Programas_por_Empresas__c from Paciente_Programas__c\n",
    "    \"\"\"\n",
    ")\n",
    "pacientes_programas = pd.DataFrame(results[\"records\"])\n",
    "pacientes_programas = pacientes_programas[\n",
    "    [\"Id\", \"Paciente__c\", \"Programas_por_Empresas__c\"]\n",
    "]\n",
    "pacientes_programas.shape"
   ]
  },
  {
   "cell_type": "code",
   "execution_count": null,
   "metadata": {
    "notebookRunGroups": {
     "groupValue": "1"
    }
   },
   "outputs": [],
   "source": [
    "Empresas_SF_HL.head()"
   ]
  },
  {
   "attachments": {},
   "cell_type": "markdown",
   "metadata": {},
   "source": [
    "EMPRESAS_SF es la relacion de todas los Pacientes con las Empresas"
   ]
  },
  {
   "cell_type": "code",
   "execution_count": null,
   "metadata": {
    "notebookRunGroups": {
     "groupValue": "1"
    }
   },
   "outputs": [],
   "source": [
    "Empresas_SF = pd.merge(\n",
    "    left=Empresas_SF,\n",
    "    right=Empresas_SF_HL,\n",
    "    how=\"left\",\n",
    "    left_on=\"Empresa__c\",\n",
    "    right_on=\"Id\",\n",
    ")\n",
    "Empresas_SF.head()"
   ]
  },
  {
   "cell_type": "code",
   "execution_count": null,
   "metadata": {
    "notebookRunGroups": {
     "groupValue": "1"
    }
   },
   "outputs": [],
   "source": [
    "Empresas_SF.shape"
   ]
  },
  {
   "cell_type": "code",
   "execution_count": null,
   "metadata": {},
   "outputs": [],
   "source": [
    "empresas_EyDAtos = pd.merge(\n",
    "    left=Empresas_SF,\n",
    "    right=Empresas_SF_HL,\n",
    "    how=\"left\",\n",
    "    left_on=\"Empresa__c\",\n",
    "    right_on=\"Id\",\n",
    ")\n",
    "empresas_EyDAtos.head()"
   ]
  },
  {
   "attachments": {},
   "cell_type": "markdown",
   "metadata": {},
   "source": [
    "Consulta de Recordtype son los codigos de atencion de las distintas ficvhas segunda pantalla ingreso derivacion esas cosas"
   ]
  },
  {
   "cell_type": "code",
   "execution_count": null,
   "metadata": {},
   "outputs": [],
   "source": [
    "# Consulta de Servicios\n",
    "results = sf.query_all(\n",
    "    \"\"\"\n",
    " select Id, Name from recordtype\n",
    "    \"\"\"\n",
    ")\n",
    "recordtype = pd.DataFrame(results[\"records\"])\n",
    "# Pacientes_empresas = Pacientes_empresas[\n",
    "#   [\"Id\", \"RUT__c\",'CreatedDate','Name','Nombre_Empresa__c','Empresa__c','Tipo_de_Ficha__c','Account__c']\n",
    "# ]\n",
    "\n",
    "Pacientes_empresas.head()"
   ]
  },
  {
   "cell_type": "markdown",
   "metadata": {},
   "source": []
  },
  {
   "cell_type": "code",
   "execution_count": null,
   "metadata": {
    "notebookRunGroups": {
     "groupValue": "1"
    }
   },
   "outputs": [],
   "source": [
    "Pacientes_con_ID = pd.merge(\n",
    "    left=Pacientes_empresas,\n",
    "    right=Pacientes_SF,\n",
    "    how=\"left\",\n",
    "    left_on=\"Paciente__c\",\n",
    "    right_on=\"Id\",\n",
    ")\n",
    "Pacientes_con_ID.head()"
   ]
  },
  {
   "cell_type": "code",
   "execution_count": null,
   "metadata": {
    "notebookRunGroups": {
     "groupValue": "1"
    }
   },
   "outputs": [],
   "source": [
    "Pacientes_con_ID = pd.merge(\n",
    "    left=Pacientes_con_ID,\n",
    "    right=Empresas_SF,\n",
    "    how=\"left\",\n",
    "    left_on=\"Programas_por_Empresas__c\",\n",
    "    right_on=\"Id_y\",\n",
    ")\n",
    "Pacientes_con_ID.head()"
   ]
  },
  {
   "cell_type": "code",
   "execution_count": null,
   "metadata": {},
   "outputs": [],
   "source": [
    "results = sf.query_all(\n",
    "    \"\"\"\n",
    "  select Id,RUT__c, CreatedDate, Clinica__c,Interacci_n__c, AppointmentNumber from ServiceAppointment \n",
    "    \"\"\"\n",
    ")\n",
    "df = pd.DataFrame(results)\n",
    "df.shape\n",
    "citas_de_servicio = pd.DataFrame(results[\"records\"])\n",
    "citas_de_servicio = citas_de_servicio[\n",
    "    [\"RUT__c\",'CreatedDate','Clinica__c','AppointmentNumber','Interacci_n__c']\n",
    "]\n",
    "citas_de_servicio.head()"
   ]
  },
  {
   "cell_type": "code",
   "execution_count": null,
   "metadata": {},
   "outputs": [],
   "source": [
    "citas_de_servicio = pd.merge(\n",
    "    left=citas_de_servicio,\n",
    "    right=Pacientes_con_ID,\n",
    "    how=\"left\",\n",
    "    left_on=\"RUT__c\",\n",
    "    right_on=\"IdentificationId__pc\",\n",
    ")\n",
    "citas_de_servicio.head()"
   ]
  },
  {
   "cell_type": "code",
   "execution_count": null,
   "metadata": {},
   "outputs": [],
   "source": []
  },
  {
   "cell_type": "code",
   "execution_count": null,
   "metadata": {},
   "outputs": [],
   "source": [
    "#Nutricion\n",
    "results = sf.query_all(\n",
    "    \"\"\"\n",
    " select Id,RUT__c, CreatedDate, Name, Nombre_Empresa__c, Empresa__c,Tipo_de_Ficha__c,Account__c,Motivo__c, Motivo_de_consulta__c,  RecordTypeId from Ficha_Clinica_Nutrici_n__c\n",
    "    \"\"\"\n",
    ")\n",
    "\n",
    "nutricion = pd.DataFrame(results[\"records\"])\n",
    "nutricion = nutricion[\n",
    "    [\"RUT__c\",'CreatedDate','Name','Nombre_Empresa__c','Empresa__c','Tipo_de_Ficha__c','Account__c','Motivo__c','Motivo_de_consulta__c','RecordTypeId']\n",
    "]\n",
    "\n",
    "nutricion.head()"
   ]
  },
  {
   "cell_type": "code",
   "execution_count": null,
   "metadata": {},
   "outputs": [],
   "source": [
    "nutricion = pd.merge(\n",
    "    left=nutricion,\n",
    "    right=Pacientes_con_ID,\n",
    "    how=\"left\",\n",
    "    left_on=\"RUT__c\",\n",
    "    right_on=\"IdentificationId__pc\",\n",
    ")\n",
    "nutricion.head()"
   ]
  },
  {
   "cell_type": "code",
   "execution_count": null,
   "metadata": {},
   "outputs": [],
   "source": [
    "Empresas_SF.to_excel(\n",
    "    \"C:/Users/jmartinez/Documents/cargas/empresas.xlsx\", index=False\n",
    ")"
   ]
  }
 ],
 "metadata": {
  "kernelspec": {
   "display_name": "salesforce",
   "language": "python",
   "name": "python3"
  },
  "language_info": {
   "codemirror_mode": {
    "name": "ipython",
    "version": 3
   },
   "file_extension": ".py",
   "mimetype": "text/x-python",
   "name": "python",
   "nbconvert_exporter": "python",
   "pygments_lexer": "ipython3",
   "version": "3.8.15"
  },
  "orig_nbformat": 4,
  "vscode": {
   "interpreter": {
    "hash": "7fbccfb583f385d5cd7c75cc6ade03c09354727271e9200f47ca4e7fedb5381e"
   }
  }
 },
 "nbformat": 4,
 "nbformat_minor": 2
}
