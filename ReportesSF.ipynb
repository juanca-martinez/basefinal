{
 "cells": [
  {
   "cell_type": "code",
   "execution_count": 63,
   "metadata": {
    "notebookRunGroups": {
     "groupValue": "1"
    }
   },
   "outputs": [],
   "source": [
    "\n",
    "import requests\n",
    "import pandas as pd\n",
    "import numpy as np\n",
    "from io import StringIO\n",
    "from simple_salesforce import Salesforce"
   ]
  },
  {
   "cell_type": "code",
   "execution_count": 64,
   "metadata": {
    "notebookRunGroups": {
     "groupValue": "1"
    }
   },
   "outputs": [],
   "source": [
    "sf = Salesforce(\n",
    "    username=\"jmartinez@careassistance.com\",\n",
    "    password=\"Jcmm0104\",\n",
    "    security_token=\"EwVPSL02qXM8XQ2pkUdA13aW\",\n",
    ")"
   ]
  },
  {
   "attachments": {},
   "cell_type": "markdown",
   "metadata": {},
   "source": [
    "Recuperacion de pacientes"
   ]
  },
  {
   "cell_type": "code",
   "execution_count": 65,
   "metadata": {
    "notebookRunGroups": {
     "groupValue": "1"
    }
   },
   "outputs": [
    {
     "data": {
      "text/plain": [
       "(1540175, 3)"
      ]
     },
     "execution_count": 65,
     "metadata": {},
     "output_type": "execute_result"
    }
   ],
   "source": [
    "# recuperar todos los pacientes ID\n",
    "results = sf.query_all(\n",
    "    \"\"\"\n",
    "   select Id, IdentificationId__pc,Name from Account \n",
    "    \"\"\"\n",
    ")\n",
    "Pacientes_SF = pd.DataFrame(results[\"records\"])\n",
    "\n",
    "Pacientes_SF = Pacientes_SF[[\"Id\", \"IdentificationId__pc\", \"Name\"]]\n",
    "Pacientes_SF.shape"
   ]
  },
  {
   "attachments": {},
   "cell_type": "markdown",
   "metadata": {},
   "source": [
    "Empresas de Sales Force"
   ]
  },
  {
   "cell_type": "code",
   "execution_count": 66,
   "metadata": {
    "notebookRunGroups": {
     "groupValue": "1"
    }
   },
   "outputs": [
    {
     "data": {
      "text/plain": [
       "(7879, 6)"
      ]
     },
     "execution_count": 66,
     "metadata": {},
     "output_type": "execute_result"
    }
   ],
   "source": [
    "# Recuperar empresas ID de salesforce\n",
    "results = sf.query_all(\n",
    "    \"\"\"\n",
    "   select Id,Empresa__c, Empresa_Padre__c,  Name, Nombre_Empresa__c from Programas_por_Empresas__c\n",
    "    \"\"\"\n",
    ")\n",
    "Empresas_SF = pd.DataFrame(results[\"records\"])\n",
    "Empresas_SF = Empresas_SF[\n",
    "    [\"Id\", \"Empresa__c\", \"Empresa_Padre__c\", \"Name\", \"Nombre_Empresa__c\", \"Empresa_Padre__c\"]\n",
    "]\n",
    "Empresas_SF.shape"
   ]
  },
  {
   "cell_type": "code",
   "execution_count": 67,
   "metadata": {},
   "outputs": [
    {
     "data": {
      "text/plain": [
       "(7874, 9)"
      ]
     },
     "execution_count": 67,
     "metadata": {},
     "output_type": "execute_result"
    }
   ],
   "source": [
    "# Recuperar empresas ID de salesforce\n",
    "results = sf.query_all(\n",
    "    \"\"\"\n",
    "   select Id, Name, IdentificationId__pc, Identification_Type__c,Holding__c ,Pa_s_del_Paciente__c,Campa_a__c,AccountNumber,Id_Empresa__c  from account where ispersonaccount = false \n",
    "    \"\"\"\n",
    ")\n",
    "Empresas_SF_HL = pd.DataFrame(results[\"records\"])\n",
    "Empresas_SF_HL = Empresas_SF_HL[\n",
    "    [\"Id\", \"Name\", \"IdentificationId__pc\", \"Identification_Type__c\", \"Holding__c\", \"Pa_s_del_Paciente__c\",'Campa_a__c','AccountNumber','Id_Empresa__c']\n",
    "]\n",
    "Empresas_SF_HL.shape"
   ]
  },
  {
   "cell_type": "code",
   "execution_count": 68,
   "metadata": {},
   "outputs": [
    {
     "data": {
      "text/html": [
       "<div>\n",
       "<style scoped>\n",
       "    .dataframe tbody tr th:only-of-type {\n",
       "        vertical-align: middle;\n",
       "    }\n",
       "\n",
       "    .dataframe tbody tr th {\n",
       "        vertical-align: top;\n",
       "    }\n",
       "\n",
       "    .dataframe thead th {\n",
       "        text-align: right;\n",
       "    }\n",
       "</style>\n",
       "<table border=\"1\" class=\"dataframe\">\n",
       "  <thead>\n",
       "    <tr style=\"text-align: right;\">\n",
       "      <th></th>\n",
       "      <th>Id_x</th>\n",
       "      <th>Name_x</th>\n",
       "      <th>IdentificationId__pc</th>\n",
       "      <th>Identification_Type__c</th>\n",
       "      <th>Holding__c</th>\n",
       "      <th>Pa_s_del_Paciente__c</th>\n",
       "      <th>Campa_a__c</th>\n",
       "      <th>AccountNumber</th>\n",
       "      <th>Id_Empresa__c</th>\n",
       "      <th>Id_y</th>\n",
       "      <th>Empresa__c</th>\n",
       "      <th>Empresa_Padre__c</th>\n",
       "      <th>Name_y</th>\n",
       "      <th>Nombre_Empresa__c</th>\n",
       "      <th>Empresa_Padre__c</th>\n",
       "    </tr>\n",
       "  </thead>\n",
       "  <tbody>\n",
       "    <tr>\n",
       "      <th>0</th>\n",
       "      <td>0018c00002eTcCQAA0</td>\n",
       "      <td>Vida Camara Holding Vida Camara Cintegral Sist...</td>\n",
       "      <td>None</td>\n",
       "      <td>None</td>\n",
       "      <td>Holding Vida Camara</td>\n",
       "      <td>a1U8c000005dAtnEAE</td>\n",
       "      <td>Vida Camara</td>\n",
       "      <td>None</td>\n",
       "      <td>EMP879</td>\n",
       "      <td>a1W8c0000083l2BEAQ</td>\n",
       "      <td>0018c00002eTcCQAA0</td>\n",
       "      <td>Vida Camara</td>\n",
       "      <td>A-2357</td>\n",
       "      <td>Vida Camara Holding Vida Camara Cintegral Sist...</td>\n",
       "      <td>Vida Camara</td>\n",
       "    </tr>\n",
       "    <tr>\n",
       "      <th>1</th>\n",
       "      <td>0018c00002eTcCRAA0</td>\n",
       "      <td>Vida Camara Holding Vida Camara Civil Agro S.A.</td>\n",
       "      <td>None</td>\n",
       "      <td>None</td>\n",
       "      <td>Holding Vida Camara</td>\n",
       "      <td>a1U8c000005dAtnEAE</td>\n",
       "      <td>Vida Camara</td>\n",
       "      <td>None</td>\n",
       "      <td>EMP891</td>\n",
       "      <td>a1W8c0000083l2CEAQ</td>\n",
       "      <td>0018c00002eTcCRAA0</td>\n",
       "      <td>Vida Camara</td>\n",
       "      <td>A-2358</td>\n",
       "      <td>Vida Camara Holding Vida Camara Civil Agro S.A.</td>\n",
       "      <td>Vida Camara</td>\n",
       "    </tr>\n",
       "    <tr>\n",
       "      <th>2</th>\n",
       "      <td>0018c00002eTcCSAA0</td>\n",
       "      <td>Vida Camara Holding Vida Camara Civilplas S.A.</td>\n",
       "      <td>None</td>\n",
       "      <td>None</td>\n",
       "      <td>Holding Vida Camara</td>\n",
       "      <td>a1U8c000005dAtnEAE</td>\n",
       "      <td>Vida Camara</td>\n",
       "      <td>None</td>\n",
       "      <td>EMP893</td>\n",
       "      <td>a1W8c0000083l2DEAQ</td>\n",
       "      <td>0018c00002eTcCSAA0</td>\n",
       "      <td>Vida Camara</td>\n",
       "      <td>A-2359</td>\n",
       "      <td>Vida Camara Holding Vida Camara Civilplas S.A.</td>\n",
       "      <td>Vida Camara</td>\n",
       "    </tr>\n",
       "    <tr>\n",
       "      <th>3</th>\n",
       "      <td>0018c00002eTcCTAA0</td>\n",
       "      <td>Vida Camara Holding Vida Camara Cj Traffic Chi...</td>\n",
       "      <td>None</td>\n",
       "      <td>None</td>\n",
       "      <td>Holding Vida Camara</td>\n",
       "      <td>a1U8c000005dAtnEAE</td>\n",
       "      <td>Vida Camara</td>\n",
       "      <td>None</td>\n",
       "      <td>EMP894</td>\n",
       "      <td>a1W8c0000083l2EEAQ</td>\n",
       "      <td>0018c00002eTcCTAA0</td>\n",
       "      <td>Vida Camara</td>\n",
       "      <td>A-2360</td>\n",
       "      <td>Vida Camara Holding Vida Camara Cj Traffic Chi...</td>\n",
       "      <td>Vida Camara</td>\n",
       "    </tr>\n",
       "    <tr>\n",
       "      <th>4</th>\n",
       "      <td>0018c00002eTcCUAA0</td>\n",
       "      <td>Vida Camara Holding Vida Camara Clinda Ltda.</td>\n",
       "      <td>None</td>\n",
       "      <td>None</td>\n",
       "      <td>Holding Vida Camara</td>\n",
       "      <td>a1U8c000005dAtnEAE</td>\n",
       "      <td>Vida Camara</td>\n",
       "      <td>None</td>\n",
       "      <td>EMP895</td>\n",
       "      <td>a1W8c0000083l2FEAQ</td>\n",
       "      <td>0018c00002eTcCUAA0</td>\n",
       "      <td>Vida Camara</td>\n",
       "      <td>A-2361</td>\n",
       "      <td>Vida Camara Holding Vida Camara Clinda Ltda.</td>\n",
       "      <td>Vida Camara</td>\n",
       "    </tr>\n",
       "  </tbody>\n",
       "</table>\n",
       "</div>"
      ],
      "text/plain": [
       "                 Id_x                                             Name_x  \\\n",
       "0  0018c00002eTcCQAA0  Vida Camara Holding Vida Camara Cintegral Sist...   \n",
       "1  0018c00002eTcCRAA0    Vida Camara Holding Vida Camara Civil Agro S.A.   \n",
       "2  0018c00002eTcCSAA0     Vida Camara Holding Vida Camara Civilplas S.A.   \n",
       "3  0018c00002eTcCTAA0  Vida Camara Holding Vida Camara Cj Traffic Chi...   \n",
       "4  0018c00002eTcCUAA0       Vida Camara Holding Vida Camara Clinda Ltda.   \n",
       "\n",
       "  IdentificationId__pc Identification_Type__c           Holding__c  \\\n",
       "0                 None                   None  Holding Vida Camara   \n",
       "1                 None                   None  Holding Vida Camara   \n",
       "2                 None                   None  Holding Vida Camara   \n",
       "3                 None                   None  Holding Vida Camara   \n",
       "4                 None                   None  Holding Vida Camara   \n",
       "\n",
       "  Pa_s_del_Paciente__c   Campa_a__c AccountNumber Id_Empresa__c  \\\n",
       "0   a1U8c000005dAtnEAE  Vida Camara          None        EMP879   \n",
       "1   a1U8c000005dAtnEAE  Vida Camara          None        EMP891   \n",
       "2   a1U8c000005dAtnEAE  Vida Camara          None        EMP893   \n",
       "3   a1U8c000005dAtnEAE  Vida Camara          None        EMP894   \n",
       "4   a1U8c000005dAtnEAE  Vida Camara          None        EMP895   \n",
       "\n",
       "                 Id_y          Empresa__c Empresa_Padre__c  Name_y  \\\n",
       "0  a1W8c0000083l2BEAQ  0018c00002eTcCQAA0      Vida Camara  A-2357   \n",
       "1  a1W8c0000083l2CEAQ  0018c00002eTcCRAA0      Vida Camara  A-2358   \n",
       "2  a1W8c0000083l2DEAQ  0018c00002eTcCSAA0      Vida Camara  A-2359   \n",
       "3  a1W8c0000083l2EEAQ  0018c00002eTcCTAA0      Vida Camara  A-2360   \n",
       "4  a1W8c0000083l2FEAQ  0018c00002eTcCUAA0      Vida Camara  A-2361   \n",
       "\n",
       "                                   Nombre_Empresa__c Empresa_Padre__c  \n",
       "0  Vida Camara Holding Vida Camara Cintegral Sist...      Vida Camara  \n",
       "1    Vida Camara Holding Vida Camara Civil Agro S.A.      Vida Camara  \n",
       "2     Vida Camara Holding Vida Camara Civilplas S.A.      Vida Camara  \n",
       "3  Vida Camara Holding Vida Camara Cj Traffic Chi...      Vida Camara  \n",
       "4       Vida Camara Holding Vida Camara Clinda Ltda.      Vida Camara  "
      ]
     },
     "execution_count": 68,
     "metadata": {},
     "output_type": "execute_result"
    }
   ],
   "source": [
    "Empresas_SF = pd.merge(\n",
    "    left=Empresas_SF_HL,\n",
    "    right=Empresas_SF,\n",
    "    how=\"left\",\n",
    "    left_on=\"Id\",\n",
    "    right_on=\"Empresa__c\",\n",
    ")\n",
    "Empresas_SF.head()"
   ]
  },
  {
   "cell_type": "code",
   "execution_count": 69,
   "metadata": {},
   "outputs": [
    {
     "data": {
      "text/plain": [
       "(7881, 15)"
      ]
     },
     "execution_count": 69,
     "metadata": {},
     "output_type": "execute_result"
    }
   ],
   "source": [
    "Empresas_SF.shape"
   ]
  },
  {
   "attachments": {},
   "cell_type": "markdown",
   "metadata": {},
   "source": [
    "Relacionj pacientes y empresas"
   ]
  },
  {
   "cell_type": "code",
   "execution_count": 70,
   "metadata": {
    "notebookRunGroups": {
     "groupValue": "1"
    }
   },
   "outputs": [
    {
     "data": {
      "text/plain": [
       "(1220331, 2)"
      ]
     },
     "execution_count": 70,
     "metadata": {},
     "output_type": "execute_result"
    }
   ],
   "source": [
    "#Relacion Pacientes Empresa\n",
    "results = sf.query_all(\n",
    "    \"\"\"\n",
    "  select Id,Paciente__c,Programas_por_Empresas__c from Paciente_Programas__c \n",
    "    \"\"\"\n",
    ")\n",
    "#df = pd.DataFrame(results)\n",
    "#df.shape\n",
    "\n",
    "\n",
    "Pacientes_empresas = pd.DataFrame(results[\"records\"])\n",
    "Pacientes_empresas = Pacientes_empresas[\n",
    "    [\"Paciente__c\", \"Programas_por_Empresas__c\"]\n",
    "]\n",
    "Pacientes_empresas.shape"
   ]
  },
  {
   "attachments": {},
   "cell_type": "markdown",
   "metadata": {},
   "source": [
    "Consulta de Recordtype son los codigos de atencion de las distintas ficvhas segunda pantalla ingreso derivacion esas cosas"
   ]
  },
  {
   "cell_type": "code",
   "execution_count": 71,
   "metadata": {},
   "outputs": [
    {
     "data": {
      "text/html": [
       "<div>\n",
       "<style scoped>\n",
       "    .dataframe tbody tr th:only-of-type {\n",
       "        vertical-align: middle;\n",
       "    }\n",
       "\n",
       "    .dataframe tbody tr th {\n",
       "        vertical-align: top;\n",
       "    }\n",
       "\n",
       "    .dataframe thead th {\n",
       "        text-align: right;\n",
       "    }\n",
       "</style>\n",
       "<table border=\"1\" class=\"dataframe\">\n",
       "  <thead>\n",
       "    <tr style=\"text-align: right;\">\n",
       "      <th></th>\n",
       "      <th>Paciente__c</th>\n",
       "      <th>Programas_por_Empresas__c</th>\n",
       "    </tr>\n",
       "  </thead>\n",
       "  <tbody>\n",
       "    <tr>\n",
       "      <th>0</th>\n",
       "      <td>0018c00002amLbpAAE</td>\n",
       "      <td>a1W8c000007vDPvEAM</td>\n",
       "    </tr>\n",
       "    <tr>\n",
       "      <th>1</th>\n",
       "      <td>0018c00002amLbqAAE</td>\n",
       "      <td>a1W8c000007vDSpEAM</td>\n",
       "    </tr>\n",
       "    <tr>\n",
       "      <th>2</th>\n",
       "      <td>0018c00002amLbrAAE</td>\n",
       "      <td>a1W8c000007vDSpEAM</td>\n",
       "    </tr>\n",
       "    <tr>\n",
       "      <th>3</th>\n",
       "      <td>0018c00002amLbsAAE</td>\n",
       "      <td>a1W8c000007vDSpEAM</td>\n",
       "    </tr>\n",
       "    <tr>\n",
       "      <th>4</th>\n",
       "      <td>0018c00002amLc2AAE</td>\n",
       "      <td>a1W8c000007vDSpEAM</td>\n",
       "    </tr>\n",
       "  </tbody>\n",
       "</table>\n",
       "</div>"
      ],
      "text/plain": [
       "          Paciente__c Programas_por_Empresas__c\n",
       "0  0018c00002amLbpAAE        a1W8c000007vDPvEAM\n",
       "1  0018c00002amLbqAAE        a1W8c000007vDSpEAM\n",
       "2  0018c00002amLbrAAE        a1W8c000007vDSpEAM\n",
       "3  0018c00002amLbsAAE        a1W8c000007vDSpEAM\n",
       "4  0018c00002amLc2AAE        a1W8c000007vDSpEAM"
      ]
     },
     "execution_count": 71,
     "metadata": {},
     "output_type": "execute_result"
    }
   ],
   "source": [
    "# Consulta de Servicios\n",
    "results = sf.query_all(\n",
    "    \"\"\"\n",
    " select Id, Name from recordtype\n",
    "    \"\"\"\n",
    ")\n",
    "recordtype = pd.DataFrame(results[\"records\"])\n",
    "# Pacientes_empresas = Pacientes_empresas[\n",
    "#   [\"Id\", \"RUT__c\",'CreatedDate','Name','Nombre_Empresa__c','Empresa__c','Tipo_de_Ficha__c','Account__c']\n",
    "# ]\n",
    "\n",
    "Pacientes_empresas.head()"
   ]
  },
  {
   "cell_type": "markdown",
   "metadata": {},
   "source": []
  },
  {
   "cell_type": "code",
   "execution_count": 72,
   "metadata": {
    "notebookRunGroups": {
     "groupValue": "1"
    }
   },
   "outputs": [
    {
     "data": {
      "text/html": [
       "<div>\n",
       "<style scoped>\n",
       "    .dataframe tbody tr th:only-of-type {\n",
       "        vertical-align: middle;\n",
       "    }\n",
       "\n",
       "    .dataframe tbody tr th {\n",
       "        vertical-align: top;\n",
       "    }\n",
       "\n",
       "    .dataframe thead th {\n",
       "        text-align: right;\n",
       "    }\n",
       "</style>\n",
       "<table border=\"1\" class=\"dataframe\">\n",
       "  <thead>\n",
       "    <tr style=\"text-align: right;\">\n",
       "      <th></th>\n",
       "      <th>Paciente__c</th>\n",
       "      <th>Programas_por_Empresas__c</th>\n",
       "      <th>Id</th>\n",
       "      <th>IdentificationId__pc</th>\n",
       "      <th>Name</th>\n",
       "    </tr>\n",
       "  </thead>\n",
       "  <tbody>\n",
       "    <tr>\n",
       "      <th>0</th>\n",
       "      <td>0018c00002amLbpAAE</td>\n",
       "      <td>a1W8c000007vDPvEAM</td>\n",
       "      <td>0018c00002amLbpAAE</td>\n",
       "      <td>224488556</td>\n",
       "      <td>Genesis Antonia Gutierrez Abarca</td>\n",
       "    </tr>\n",
       "    <tr>\n",
       "      <th>1</th>\n",
       "      <td>0018c00002amLbqAAE</td>\n",
       "      <td>a1W8c000007vDSpEAM</td>\n",
       "      <td>0018c00002amLbqAAE</td>\n",
       "      <td>113376066</td>\n",
       "      <td>Claudia Silva</td>\n",
       "    </tr>\n",
       "    <tr>\n",
       "      <th>2</th>\n",
       "      <td>0018c00002amLbrAAE</td>\n",
       "      <td>a1W8c000007vDSpEAM</td>\n",
       "      <td>0018c00002amLbrAAE</td>\n",
       "      <td>79476161</td>\n",
       "      <td>Maria Lorenza Garay</td>\n",
       "    </tr>\n",
       "    <tr>\n",
       "      <th>3</th>\n",
       "      <td>0018c00002amLbsAAE</td>\n",
       "      <td>a1W8c000007vDSpEAM</td>\n",
       "      <td>0018c00002amLbsAAE</td>\n",
       "      <td>181854227</td>\n",
       "      <td>Estolaza Vidal Jean Patrick Moises</td>\n",
       "    </tr>\n",
       "    <tr>\n",
       "      <th>4</th>\n",
       "      <td>0018c00002amLc2AAE</td>\n",
       "      <td>a1W8c000007vDSpEAM</td>\n",
       "      <td>0018c00002amLc2AAE</td>\n",
       "      <td>126899823</td>\n",
       "      <td>Rivas Correa Claudia</td>\n",
       "    </tr>\n",
       "  </tbody>\n",
       "</table>\n",
       "</div>"
      ],
      "text/plain": [
       "          Paciente__c Programas_por_Empresas__c                  Id  \\\n",
       "0  0018c00002amLbpAAE        a1W8c000007vDPvEAM  0018c00002amLbpAAE   \n",
       "1  0018c00002amLbqAAE        a1W8c000007vDSpEAM  0018c00002amLbqAAE   \n",
       "2  0018c00002amLbrAAE        a1W8c000007vDSpEAM  0018c00002amLbrAAE   \n",
       "3  0018c00002amLbsAAE        a1W8c000007vDSpEAM  0018c00002amLbsAAE   \n",
       "4  0018c00002amLc2AAE        a1W8c000007vDSpEAM  0018c00002amLc2AAE   \n",
       "\n",
       "  IdentificationId__pc                                Name  \n",
       "0            224488556    Genesis Antonia Gutierrez Abarca  \n",
       "1            113376066                       Claudia Silva  \n",
       "2             79476161                 Maria Lorenza Garay  \n",
       "3            181854227  Estolaza Vidal Jean Patrick Moises  \n",
       "4            126899823                Rivas Correa Claudia  "
      ]
     },
     "execution_count": 72,
     "metadata": {},
     "output_type": "execute_result"
    }
   ],
   "source": [
    "Pacientes_con_ID = pd.merge(\n",
    "    left=Pacientes_empresas,\n",
    "    right=Pacientes_SF,\n",
    "    how=\"left\",\n",
    "    left_on=\"Paciente__c\",\n",
    "    right_on=\"Id\",\n",
    ")\n",
    "Pacientes_con_ID.head()"
   ]
  },
  {
   "cell_type": "code",
   "execution_count": 73,
   "metadata": {
    "notebookRunGroups": {
     "groupValue": "1"
    }
   },
   "outputs": [
    {
     "data": {
      "text/html": [
       "<div>\n",
       "<style scoped>\n",
       "    .dataframe tbody tr th:only-of-type {\n",
       "        vertical-align: middle;\n",
       "    }\n",
       "\n",
       "    .dataframe tbody tr th {\n",
       "        vertical-align: top;\n",
       "    }\n",
       "\n",
       "    .dataframe thead th {\n",
       "        text-align: right;\n",
       "    }\n",
       "</style>\n",
       "<table border=\"1\" class=\"dataframe\">\n",
       "  <thead>\n",
       "    <tr style=\"text-align: right;\">\n",
       "      <th></th>\n",
       "      <th>Paciente__c</th>\n",
       "      <th>Programas_por_Empresas__c</th>\n",
       "      <th>Id</th>\n",
       "      <th>IdentificationId__pc_x</th>\n",
       "      <th>Name</th>\n",
       "      <th>Id_x</th>\n",
       "      <th>Name_x</th>\n",
       "      <th>IdentificationId__pc_y</th>\n",
       "      <th>Identification_Type__c</th>\n",
       "      <th>Holding__c</th>\n",
       "      <th>Pa_s_del_Paciente__c</th>\n",
       "      <th>Campa_a__c</th>\n",
       "      <th>AccountNumber</th>\n",
       "      <th>Id_Empresa__c</th>\n",
       "      <th>Id_y</th>\n",
       "      <th>Empresa__c</th>\n",
       "      <th>Empresa_Padre__c</th>\n",
       "      <th>Name_y</th>\n",
       "      <th>Nombre_Empresa__c</th>\n",
       "      <th>Empresa_Padre__c</th>\n",
       "    </tr>\n",
       "  </thead>\n",
       "  <tbody>\n",
       "    <tr>\n",
       "      <th>0</th>\n",
       "      <td>0018c00002amLbpAAE</td>\n",
       "      <td>a1W8c000007vDPvEAM</td>\n",
       "      <td>0018c00002amLbpAAE</td>\n",
       "      <td>224488556</td>\n",
       "      <td>Genesis Antonia Gutierrez Abarca</td>\n",
       "      <td>0018c00002axQaeAAE</td>\n",
       "      <td>Metlife Holding Metlife Serv. De Comerc Y Ases...</td>\n",
       "      <td>None</td>\n",
       "      <td>None</td>\n",
       "      <td>Holding Metlife</td>\n",
       "      <td>a1U8c000005dAtnEAE</td>\n",
       "      <td>Metlife</td>\n",
       "      <td>None</td>\n",
       "      <td>EMP6008</td>\n",
       "      <td>a1W8c000007vDPvEAM</td>\n",
       "      <td>0018c00002axQaeAAE</td>\n",
       "      <td>Metlife</td>\n",
       "      <td>A-0173</td>\n",
       "      <td>Metlife Holding Metlife Serv. De Comerc Y Ases...</td>\n",
       "      <td>Metlife</td>\n",
       "    </tr>\n",
       "    <tr>\n",
       "      <th>1</th>\n",
       "      <td>0018c00002amLbqAAE</td>\n",
       "      <td>a1W8c000007vDSpEAM</td>\n",
       "      <td>0018c00002amLbqAAE</td>\n",
       "      <td>113376066</td>\n",
       "      <td>Claudia Silva</td>\n",
       "      <td>0018c00002axQecAAE</td>\n",
       "      <td>Metlife Clinica Alemana Clinica Alemana</td>\n",
       "      <td>None</td>\n",
       "      <td>None</td>\n",
       "      <td>Clinica Alemana</td>\n",
       "      <td>a1U8c000005dAtnEAE</td>\n",
       "      <td>Metlife</td>\n",
       "      <td>None</td>\n",
       "      <td>EMP6274</td>\n",
       "      <td>a1W8c000007vDSpEAM</td>\n",
       "      <td>0018c00002axQecAAE</td>\n",
       "      <td>Metlife</td>\n",
       "      <td>A-0353</td>\n",
       "      <td>Metlife Clinica Alemana Clinica Alemana</td>\n",
       "      <td>Metlife</td>\n",
       "    </tr>\n",
       "    <tr>\n",
       "      <th>2</th>\n",
       "      <td>0018c00002amLbrAAE</td>\n",
       "      <td>a1W8c000007vDSpEAM</td>\n",
       "      <td>0018c00002amLbrAAE</td>\n",
       "      <td>79476161</td>\n",
       "      <td>Maria Lorenza Garay</td>\n",
       "      <td>0018c00002axQecAAE</td>\n",
       "      <td>Metlife Clinica Alemana Clinica Alemana</td>\n",
       "      <td>None</td>\n",
       "      <td>None</td>\n",
       "      <td>Clinica Alemana</td>\n",
       "      <td>a1U8c000005dAtnEAE</td>\n",
       "      <td>Metlife</td>\n",
       "      <td>None</td>\n",
       "      <td>EMP6274</td>\n",
       "      <td>a1W8c000007vDSpEAM</td>\n",
       "      <td>0018c00002axQecAAE</td>\n",
       "      <td>Metlife</td>\n",
       "      <td>A-0353</td>\n",
       "      <td>Metlife Clinica Alemana Clinica Alemana</td>\n",
       "      <td>Metlife</td>\n",
       "    </tr>\n",
       "    <tr>\n",
       "      <th>3</th>\n",
       "      <td>0018c00002amLbsAAE</td>\n",
       "      <td>a1W8c000007vDSpEAM</td>\n",
       "      <td>0018c00002amLbsAAE</td>\n",
       "      <td>181854227</td>\n",
       "      <td>Estolaza Vidal Jean Patrick Moises</td>\n",
       "      <td>0018c00002axQecAAE</td>\n",
       "      <td>Metlife Clinica Alemana Clinica Alemana</td>\n",
       "      <td>None</td>\n",
       "      <td>None</td>\n",
       "      <td>Clinica Alemana</td>\n",
       "      <td>a1U8c000005dAtnEAE</td>\n",
       "      <td>Metlife</td>\n",
       "      <td>None</td>\n",
       "      <td>EMP6274</td>\n",
       "      <td>a1W8c000007vDSpEAM</td>\n",
       "      <td>0018c00002axQecAAE</td>\n",
       "      <td>Metlife</td>\n",
       "      <td>A-0353</td>\n",
       "      <td>Metlife Clinica Alemana Clinica Alemana</td>\n",
       "      <td>Metlife</td>\n",
       "    </tr>\n",
       "    <tr>\n",
       "      <th>4</th>\n",
       "      <td>0018c00002amLc2AAE</td>\n",
       "      <td>a1W8c000007vDSpEAM</td>\n",
       "      <td>0018c00002amLc2AAE</td>\n",
       "      <td>126899823</td>\n",
       "      <td>Rivas Correa Claudia</td>\n",
       "      <td>0018c00002axQecAAE</td>\n",
       "      <td>Metlife Clinica Alemana Clinica Alemana</td>\n",
       "      <td>None</td>\n",
       "      <td>None</td>\n",
       "      <td>Clinica Alemana</td>\n",
       "      <td>a1U8c000005dAtnEAE</td>\n",
       "      <td>Metlife</td>\n",
       "      <td>None</td>\n",
       "      <td>EMP6274</td>\n",
       "      <td>a1W8c000007vDSpEAM</td>\n",
       "      <td>0018c00002axQecAAE</td>\n",
       "      <td>Metlife</td>\n",
       "      <td>A-0353</td>\n",
       "      <td>Metlife Clinica Alemana Clinica Alemana</td>\n",
       "      <td>Metlife</td>\n",
       "    </tr>\n",
       "  </tbody>\n",
       "</table>\n",
       "</div>"
      ],
      "text/plain": [
       "          Paciente__c Programas_por_Empresas__c                  Id  \\\n",
       "0  0018c00002amLbpAAE        a1W8c000007vDPvEAM  0018c00002amLbpAAE   \n",
       "1  0018c00002amLbqAAE        a1W8c000007vDSpEAM  0018c00002amLbqAAE   \n",
       "2  0018c00002amLbrAAE        a1W8c000007vDSpEAM  0018c00002amLbrAAE   \n",
       "3  0018c00002amLbsAAE        a1W8c000007vDSpEAM  0018c00002amLbsAAE   \n",
       "4  0018c00002amLc2AAE        a1W8c000007vDSpEAM  0018c00002amLc2AAE   \n",
       "\n",
       "  IdentificationId__pc_x                                Name  \\\n",
       "0              224488556    Genesis Antonia Gutierrez Abarca   \n",
       "1              113376066                       Claudia Silva   \n",
       "2               79476161                 Maria Lorenza Garay   \n",
       "3              181854227  Estolaza Vidal Jean Patrick Moises   \n",
       "4              126899823                Rivas Correa Claudia   \n",
       "\n",
       "                 Id_x                                             Name_x  \\\n",
       "0  0018c00002axQaeAAE  Metlife Holding Metlife Serv. De Comerc Y Ases...   \n",
       "1  0018c00002axQecAAE            Metlife Clinica Alemana Clinica Alemana   \n",
       "2  0018c00002axQecAAE            Metlife Clinica Alemana Clinica Alemana   \n",
       "3  0018c00002axQecAAE            Metlife Clinica Alemana Clinica Alemana   \n",
       "4  0018c00002axQecAAE            Metlife Clinica Alemana Clinica Alemana   \n",
       "\n",
       "  IdentificationId__pc_y Identification_Type__c       Holding__c  \\\n",
       "0                   None                   None  Holding Metlife   \n",
       "1                   None                   None  Clinica Alemana   \n",
       "2                   None                   None  Clinica Alemana   \n",
       "3                   None                   None  Clinica Alemana   \n",
       "4                   None                   None  Clinica Alemana   \n",
       "\n",
       "  Pa_s_del_Paciente__c Campa_a__c AccountNumber Id_Empresa__c  \\\n",
       "0   a1U8c000005dAtnEAE    Metlife          None       EMP6008   \n",
       "1   a1U8c000005dAtnEAE    Metlife          None       EMP6274   \n",
       "2   a1U8c000005dAtnEAE    Metlife          None       EMP6274   \n",
       "3   a1U8c000005dAtnEAE    Metlife          None       EMP6274   \n",
       "4   a1U8c000005dAtnEAE    Metlife          None       EMP6274   \n",
       "\n",
       "                 Id_y          Empresa__c Empresa_Padre__c  Name_y  \\\n",
       "0  a1W8c000007vDPvEAM  0018c00002axQaeAAE          Metlife  A-0173   \n",
       "1  a1W8c000007vDSpEAM  0018c00002axQecAAE          Metlife  A-0353   \n",
       "2  a1W8c000007vDSpEAM  0018c00002axQecAAE          Metlife  A-0353   \n",
       "3  a1W8c000007vDSpEAM  0018c00002axQecAAE          Metlife  A-0353   \n",
       "4  a1W8c000007vDSpEAM  0018c00002axQecAAE          Metlife  A-0353   \n",
       "\n",
       "                                   Nombre_Empresa__c Empresa_Padre__c  \n",
       "0  Metlife Holding Metlife Serv. De Comerc Y Ases...          Metlife  \n",
       "1            Metlife Clinica Alemana Clinica Alemana          Metlife  \n",
       "2            Metlife Clinica Alemana Clinica Alemana          Metlife  \n",
       "3            Metlife Clinica Alemana Clinica Alemana          Metlife  \n",
       "4            Metlife Clinica Alemana Clinica Alemana          Metlife  "
      ]
     },
     "execution_count": 73,
     "metadata": {},
     "output_type": "execute_result"
    }
   ],
   "source": [
    "Pacientes_con_ID = pd.merge(\n",
    "    left=Pacientes_con_ID,\n",
    "    right=Empresas_SF,\n",
    "    how=\"left\",\n",
    "    left_on=\"Programas_por_Empresas__c\",\n",
    "    right_on=\"Id_y\",\n",
    ")\n",
    "Pacientes_con_ID.head()"
   ]
  },
  {
   "cell_type": "code",
   "execution_count": 74,
   "metadata": {},
   "outputs": [
    {
     "data": {
      "text/html": [
       "<div>\n",
       "<style scoped>\n",
       "    .dataframe tbody tr th:only-of-type {\n",
       "        vertical-align: middle;\n",
       "    }\n",
       "\n",
       "    .dataframe tbody tr th {\n",
       "        vertical-align: top;\n",
       "    }\n",
       "\n",
       "    .dataframe thead th {\n",
       "        text-align: right;\n",
       "    }\n",
       "</style>\n",
       "<table border=\"1\" class=\"dataframe\">\n",
       "  <thead>\n",
       "    <tr style=\"text-align: right;\">\n",
       "      <th></th>\n",
       "      <th>RUT__c</th>\n",
       "      <th>CreatedDate</th>\n",
       "      <th>Clinica__c</th>\n",
       "      <th>AppointmentNumber</th>\n",
       "      <th>Interacci_n__c</th>\n",
       "    </tr>\n",
       "  </thead>\n",
       "  <tbody>\n",
       "    <tr>\n",
       "      <th>0</th>\n",
       "      <td>183552252</td>\n",
       "      <td>2022-12-02T16:23:05.000+0000</td>\n",
       "      <td>Clínica de Nutrición</td>\n",
       "      <td>SA-3124</td>\n",
       "      <td>Seguimiento</td>\n",
       "    </tr>\n",
       "    <tr>\n",
       "      <th>1</th>\n",
       "      <td>224488556</td>\n",
       "      <td>2022-12-21T21:28:49.000+0000</td>\n",
       "      <td>Clínica de Nutrición</td>\n",
       "      <td>SA-4987</td>\n",
       "      <td>Seguimiento</td>\n",
       "    </tr>\n",
       "    <tr>\n",
       "      <th>2</th>\n",
       "      <td>185384799</td>\n",
       "      <td>2022-12-12T15:34:28.000+0000</td>\n",
       "      <td>Clínica de Deporte</td>\n",
       "      <td>SA-3905</td>\n",
       "      <td>Explicacion Plan de Intervención</td>\n",
       "    </tr>\n",
       "    <tr>\n",
       "      <th>3</th>\n",
       "      <td>187821444</td>\n",
       "      <td>2022-12-12T12:21:02.000+0000</td>\n",
       "      <td>Clínica de Psicología</td>\n",
       "      <td>SA-3871</td>\n",
       "      <td>Ingreso al programa</td>\n",
       "    </tr>\n",
       "    <tr>\n",
       "      <th>4</th>\n",
       "      <td>167466923</td>\n",
       "      <td>2022-12-12T15:04:05.000+0000</td>\n",
       "      <td>Clínica de Nutrición</td>\n",
       "      <td>SA-3898</td>\n",
       "      <td>Ingreso</td>\n",
       "    </tr>\n",
       "  </tbody>\n",
       "</table>\n",
       "</div>"
      ],
      "text/plain": [
       "      RUT__c                   CreatedDate             Clinica__c  \\\n",
       "0  183552252  2022-12-02T16:23:05.000+0000   Clínica de Nutrición   \n",
       "1  224488556  2022-12-21T21:28:49.000+0000   Clínica de Nutrición   \n",
       "2  185384799  2022-12-12T15:34:28.000+0000     Clínica de Deporte   \n",
       "3  187821444  2022-12-12T12:21:02.000+0000  Clínica de Psicología   \n",
       "4  167466923  2022-12-12T15:04:05.000+0000   Clínica de Nutrición   \n",
       "\n",
       "  AppointmentNumber                    Interacci_n__c  \n",
       "0           SA-3124                       Seguimiento  \n",
       "1           SA-4987                       Seguimiento  \n",
       "2           SA-3905  Explicacion Plan de Intervención  \n",
       "3           SA-3871               Ingreso al programa  \n",
       "4           SA-3898                           Ingreso  "
      ]
     },
     "execution_count": 74,
     "metadata": {},
     "output_type": "execute_result"
    }
   ],
   "source": [
    "results = sf.query_all(\n",
    "    \"\"\"\n",
    "  select Id,RUT__c, CreatedDate, Clinica__c,Interacci_n__c, AppointmentNumber from ServiceAppointment \n",
    "    \"\"\"\n",
    ")\n",
    "df = pd.DataFrame(results)\n",
    "df.shape\n",
    "citas_de_servicio = pd.DataFrame(results[\"records\"])\n",
    "citas_de_servicio = citas_de_servicio[\n",
    "    [\"RUT__c\",'CreatedDate','Clinica__c','AppointmentNumber','Interacci_n__c']\n",
    "]\n",
    "citas_de_servicio.head()"
   ]
  },
  {
   "cell_type": "code",
   "execution_count": 75,
   "metadata": {},
   "outputs": [
    {
     "ename": "KeyError",
     "evalue": "'IdentificationId__pc'",
     "output_type": "error",
     "traceback": [
      "\u001b[1;31m---------------------------------------------------------------------------\u001b[0m",
      "\u001b[1;31mKeyError\u001b[0m                                  Traceback (most recent call last)",
      "Cell \u001b[1;32mIn[75], line 1\u001b[0m\n\u001b[1;32m----> 1\u001b[0m citas_de_servicio \u001b[39m=\u001b[39m pd\u001b[39m.\u001b[39;49mmerge(\n\u001b[0;32m      2\u001b[0m     left\u001b[39m=\u001b[39;49mcitas_de_servicio,\n\u001b[0;32m      3\u001b[0m     right\u001b[39m=\u001b[39;49mPacientes_con_ID,\n\u001b[0;32m      4\u001b[0m     how\u001b[39m=\u001b[39;49m\u001b[39m\"\u001b[39;49m\u001b[39mleft\u001b[39;49m\u001b[39m\"\u001b[39;49m,\n\u001b[0;32m      5\u001b[0m     left_on\u001b[39m=\u001b[39;49m\u001b[39m\"\u001b[39;49m\u001b[39mRUT__c\u001b[39;49m\u001b[39m\"\u001b[39;49m,\n\u001b[0;32m      6\u001b[0m     right_on\u001b[39m=\u001b[39;49m\u001b[39m\"\u001b[39;49m\u001b[39mIdentificationId__pc\u001b[39;49m\u001b[39m\"\u001b[39;49m,\n\u001b[0;32m      7\u001b[0m )\n\u001b[0;32m      8\u001b[0m citas_de_servicio\u001b[39m.\u001b[39mhead()\n",
      "File \u001b[1;32mc:\\Users\\jmartinez\\.conda\\envs\\salesforce\\lib\\site-packages\\pandas\\core\\reshape\\merge.py:110\u001b[0m, in \u001b[0;36mmerge\u001b[1;34m(left, right, how, on, left_on, right_on, left_index, right_index, sort, suffixes, copy, indicator, validate)\u001b[0m\n\u001b[0;32m     93\u001b[0m \u001b[39m@Substitution\u001b[39m(\u001b[39m\"\u001b[39m\u001b[39m\\n\u001b[39;00m\u001b[39mleft : DataFrame or named Series\u001b[39m\u001b[39m\"\u001b[39m)\n\u001b[0;32m     94\u001b[0m \u001b[39m@Appender\u001b[39m(_merge_doc, indents\u001b[39m=\u001b[39m\u001b[39m0\u001b[39m)\n\u001b[0;32m     95\u001b[0m \u001b[39mdef\u001b[39;00m \u001b[39mmerge\u001b[39m(\n\u001b[1;32m   (...)\u001b[0m\n\u001b[0;32m    108\u001b[0m     validate: \u001b[39mstr\u001b[39m \u001b[39m|\u001b[39m \u001b[39mNone\u001b[39;00m \u001b[39m=\u001b[39m \u001b[39mNone\u001b[39;00m,\n\u001b[0;32m    109\u001b[0m ) \u001b[39m-\u001b[39m\u001b[39m>\u001b[39m DataFrame:\n\u001b[1;32m--> 110\u001b[0m     op \u001b[39m=\u001b[39m _MergeOperation(\n\u001b[0;32m    111\u001b[0m         left,\n\u001b[0;32m    112\u001b[0m         right,\n\u001b[0;32m    113\u001b[0m         how\u001b[39m=\u001b[39;49mhow,\n\u001b[0;32m    114\u001b[0m         on\u001b[39m=\u001b[39;49mon,\n\u001b[0;32m    115\u001b[0m         left_on\u001b[39m=\u001b[39;49mleft_on,\n\u001b[0;32m    116\u001b[0m         right_on\u001b[39m=\u001b[39;49mright_on,\n\u001b[0;32m    117\u001b[0m         left_index\u001b[39m=\u001b[39;49mleft_index,\n\u001b[0;32m    118\u001b[0m         right_index\u001b[39m=\u001b[39;49mright_index,\n\u001b[0;32m    119\u001b[0m         sort\u001b[39m=\u001b[39;49msort,\n\u001b[0;32m    120\u001b[0m         suffixes\u001b[39m=\u001b[39;49msuffixes,\n\u001b[0;32m    121\u001b[0m         indicator\u001b[39m=\u001b[39;49mindicator,\n\u001b[0;32m    122\u001b[0m         validate\u001b[39m=\u001b[39;49mvalidate,\n\u001b[0;32m    123\u001b[0m     )\n\u001b[0;32m    124\u001b[0m     \u001b[39mreturn\u001b[39;00m op\u001b[39m.\u001b[39mget_result(copy\u001b[39m=\u001b[39mcopy)\n",
      "File \u001b[1;32mc:\\Users\\jmartinez\\.conda\\envs\\salesforce\\lib\\site-packages\\pandas\\core\\reshape\\merge.py:703\u001b[0m, in \u001b[0;36m_MergeOperation.__init__\u001b[1;34m(self, left, right, how, on, left_on, right_on, axis, left_index, right_index, sort, suffixes, indicator, validate)\u001b[0m\n\u001b[0;32m    696\u001b[0m \u001b[39mself\u001b[39m\u001b[39m.\u001b[39m_cross \u001b[39m=\u001b[39m cross_col\n\u001b[0;32m    698\u001b[0m \u001b[39m# note this function has side effects\u001b[39;00m\n\u001b[0;32m    699\u001b[0m (\n\u001b[0;32m    700\u001b[0m     \u001b[39mself\u001b[39m\u001b[39m.\u001b[39mleft_join_keys,\n\u001b[0;32m    701\u001b[0m     \u001b[39mself\u001b[39m\u001b[39m.\u001b[39mright_join_keys,\n\u001b[0;32m    702\u001b[0m     \u001b[39mself\u001b[39m\u001b[39m.\u001b[39mjoin_names,\n\u001b[1;32m--> 703\u001b[0m ) \u001b[39m=\u001b[39m \u001b[39mself\u001b[39;49m\u001b[39m.\u001b[39;49m_get_merge_keys()\n\u001b[0;32m    705\u001b[0m \u001b[39m# validate the merge keys dtypes. We may need to coerce\u001b[39;00m\n\u001b[0;32m    706\u001b[0m \u001b[39m# to avoid incompatible dtypes\u001b[39;00m\n\u001b[0;32m    707\u001b[0m \u001b[39mself\u001b[39m\u001b[39m.\u001b[39m_maybe_coerce_merge_keys()\n",
      "File \u001b[1;32mc:\\Users\\jmartinez\\.conda\\envs\\salesforce\\lib\\site-packages\\pandas\\core\\reshape\\merge.py:1162\u001b[0m, in \u001b[0;36m_MergeOperation._get_merge_keys\u001b[1;34m(self)\u001b[0m\n\u001b[0;32m   1160\u001b[0m rk \u001b[39m=\u001b[39m cast(Hashable, rk)\n\u001b[0;32m   1161\u001b[0m \u001b[39mif\u001b[39;00m rk \u001b[39mis\u001b[39;00m \u001b[39mnot\u001b[39;00m \u001b[39mNone\u001b[39;00m:\n\u001b[1;32m-> 1162\u001b[0m     right_keys\u001b[39m.\u001b[39mappend(right\u001b[39m.\u001b[39;49m_get_label_or_level_values(rk))\n\u001b[0;32m   1163\u001b[0m \u001b[39melse\u001b[39;00m:\n\u001b[0;32m   1164\u001b[0m     \u001b[39m# work-around for merge_asof(right_index=True)\u001b[39;00m\n\u001b[0;32m   1165\u001b[0m     right_keys\u001b[39m.\u001b[39mappend(right\u001b[39m.\u001b[39mindex)\n",
      "File \u001b[1;32mc:\\Users\\jmartinez\\.conda\\envs\\salesforce\\lib\\site-packages\\pandas\\core\\generic.py:1850\u001b[0m, in \u001b[0;36mNDFrame._get_label_or_level_values\u001b[1;34m(self, key, axis)\u001b[0m\n\u001b[0;32m   1844\u001b[0m     values \u001b[39m=\u001b[39m (\n\u001b[0;32m   1845\u001b[0m         \u001b[39mself\u001b[39m\u001b[39m.\u001b[39maxes[axis]\n\u001b[0;32m   1846\u001b[0m         \u001b[39m.\u001b[39mget_level_values(key)  \u001b[39m# type: ignore[assignment]\u001b[39;00m\n\u001b[0;32m   1847\u001b[0m         \u001b[39m.\u001b[39m_values\n\u001b[0;32m   1848\u001b[0m     )\n\u001b[0;32m   1849\u001b[0m \u001b[39melse\u001b[39;00m:\n\u001b[1;32m-> 1850\u001b[0m     \u001b[39mraise\u001b[39;00m \u001b[39mKeyError\u001b[39;00m(key)\n\u001b[0;32m   1852\u001b[0m \u001b[39m# Check for duplicates\u001b[39;00m\n\u001b[0;32m   1853\u001b[0m \u001b[39mif\u001b[39;00m values\u001b[39m.\u001b[39mndim \u001b[39m>\u001b[39m \u001b[39m1\u001b[39m:\n",
      "\u001b[1;31mKeyError\u001b[0m: 'IdentificationId__pc'"
     ]
    }
   ],
   "source": [
    "citas_de_servicio = pd.merge(\n",
    "    left=citas_de_servicio,\n",
    "    right=Pacientes_con_ID,\n",
    "    how=\"left\",\n",
    "    left_on=\"RUT__c\",\n",
    "    right_on=\"IdentificationId__pc\",\n",
    ")\n",
    "citas_de_servicio.head()"
   ]
  },
  {
   "cell_type": "code",
   "execution_count": null,
   "metadata": {},
   "outputs": [],
   "source": []
  },
  {
   "cell_type": "code",
   "execution_count": null,
   "metadata": {},
   "outputs": [],
   "source": [
    "#Nutricion\n",
    "results = sf.query_all(\n",
    "    \"\"\"\n",
    " select Id,RUT__c, CreatedDate, Name, Nombre_Empresa__c, Empresa__c,Tipo_de_Ficha__c,Account__c,Motivo__c, Motivo_de_consulta__c,  RecordTypeId from Ficha_Clinica_Nutrici_n__c\n",
    "    \"\"\"\n",
    ")\n",
    "\n",
    "nutricion = pd.DataFrame(results[\"records\"])\n",
    "nutricion = nutricion[\n",
    "    [\"RUT__c\",'CreatedDate','Name','Nombre_Empresa__c','Empresa__c','Tipo_de_Ficha__c','Account__c','Motivo__c','Motivo_de_consulta__c','RecordTypeId']\n",
    "]\n",
    "\n",
    "nutricion.head()"
   ]
  },
  {
   "cell_type": "code",
   "execution_count": null,
   "metadata": {},
   "outputs": [],
   "source": [
    "nutricion = pd.merge(\n",
    "    left=nutricion,\n",
    "    right=Pacientes_con_ID,\n",
    "    how=\"left\",\n",
    "    left_on=\"RUT__c\",\n",
    "    right_on=\"IdentificationId__pc\",\n",
    ")\n",
    "nutricion.head()"
   ]
  },
  {
   "cell_type": "code",
   "execution_count": null,
   "metadata": {},
   "outputs": [],
   "source": [
    "Empresas_SF.to_excel(\n",
    "    \"C:/Users/jmartinez/Documents/cargas/empresas.xlsx\", index=False\n",
    ")"
   ]
  }
 ],
 "metadata": {
  "kernelspec": {
   "display_name": "salesforce",
   "language": "python",
   "name": "python3"
  },
  "language_info": {
   "codemirror_mode": {
    "name": "ipython",
    "version": 3
   },
   "file_extension": ".py",
   "mimetype": "text/x-python",
   "name": "python",
   "nbconvert_exporter": "python",
   "pygments_lexer": "ipython3",
   "version": "3.8.15"
  },
  "orig_nbformat": 4,
  "vscode": {
   "interpreter": {
    "hash": "7fbccfb583f385d5cd7c75cc6ade03c09354727271e9200f47ca4e7fedb5381e"
   }
  }
 },
 "nbformat": 4,
 "nbformat_minor": 2
}
