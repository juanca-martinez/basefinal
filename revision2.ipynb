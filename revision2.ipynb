{
 "cells": [
  {
   "cell_type": "code",
   "execution_count": null,
   "metadata": {},
   "outputs": [],
   "source": [
    "import pandas as pd\n",
    "import os, glob\n",
    "\n",
    "#sacar filas en blanco\n",
    "\n"
   ]
  },
  {
   "cell_type": "code",
   "execution_count": null,
   "metadata": {},
   "outputs": [],
   "source": [
    "data = 'C:/Users/jmartinez/Desktop/base de datos/filas cero/finales/2022.xlsx'\n",
    "data2 = 'C:/Users/jmartinez/Desktop/base de datos/filas cero/finales/final2/2022.xlsx'"
   ]
  },
  {
   "cell_type": "code",
   "execution_count": null,
   "metadata": {},
   "outputs": [],
   "source": [
    "dfexel = pd.read_excel(data)\n",
    "dfexel.head()\n",
    "\n",
    "\n",
    "\n",
    "\n",
    "\n"
   ]
  },
  {
   "cell_type": "code",
   "execution_count": null,
   "metadata": {},
   "outputs": [],
   "source": [
    "dfexel.empleador.fillna(dfexel.campana_paciente + ' empresas', inplace=True)\n",
    "#if (dfexel['empleador'] == ''):{}\n",
    "\n",
    "\n",
    "\n",
    "\n",
    "\n",
    "\n",
    "dfexel['empleador'] = dfexel['empleador'].str.lower()\n",
    "dfexel['empleador'] = dfexel['empleador'].str.strip('.#/}{)(¥|;,-_ ')\n",
    "dfexel['empleador'] = dfexel['empleador'].str.title()\n",
    "dfexel['empleador'] = dfexel['empleador'].str.replace('S.A','S.A.')\n",
    "#dfexel['empleador'] = dfexel['empleador'].str.replace('.','')\n",
    "dfexel['poliza'] = dfexel['poliza'].str.replace('.','')\n",
    "#data20['rut_asegurado'] = data20['rut_asegurado'].str.replace('.','')\n",
    "\n",
    "Rremrelacionj = {'AS':'Titular','CO':'Conyuge','HI':'Hijo/a','M':'Madre','NI':'Nieto/a','O':'Otros','P':'Padre'}\n",
    "dfexel.replace({'relacion_con_asegurado': Rremrelacionj}, inplace=True)\n",
    "\n",
    "dfexel['empleador'] = dfexel['empleador'].str.replace('Siempre Chile','Care Assistance')\n",
    "dfexel['empleador'] = dfexel['empleador'].str.replace('Colaboradores Empresas','Care Assistance')\n",
    "dfexel['empleador'] = dfexel['empleador'].str.replace('Clalemana','Clinica Alemana')\n",
    "dfexel['empleador'] = dfexel['empleador'].str.replace('Bancodechile','Banco de Chile')\n",
    "dfexel['empleador'] = dfexel['empleador'].str.replace('Conchaytoro','Concha y Toro')\n",
    "dfexel['empleador'] = dfexel['empleador'].str.replace('Prueba Empresas','Testing De Ejecutivos')\n",
    "dfexel['empleador'].head(20)"
   ]
  },
  {
   "cell_type": "code",
   "execution_count": null,
   "metadata": {},
   "outputs": [],
   "source": [
    "dfexel['empleador'].head(50)"
   ]
  },
  {
   "cell_type": "code",
   "execution_count": null,
   "metadata": {},
   "outputs": [],
   "source": []
  },
  {
   "cell_type": "code",
   "execution_count": null,
   "metadata": {},
   "outputs": [],
   "source": [
    "dfexel['empleador'].head(50)"
   ]
  },
  {
   "cell_type": "code",
   "execution_count": null,
   "metadata": {},
   "outputs": [],
   "source": [
    "#df.drop(['LLave'],axis=1, inplace=True)\n",
    "#df.dropna(how='all', inplace=True)\n",
    "dfexel.to_excel(data2, index=False)"
   ]
  },
  {
   "cell_type": "code",
   "execution_count": null,
   "metadata": {},
   "outputs": [],
   "source": [
    "dfexel['empleador'] = dfexel['empleador'].str.replace('Siempre Chile','Care Assistance')\n",
    "\n",
    "df['last_name'] = df['last_name'].str.replace('.','')\n",
    "df['first_name'] = df['first_name'].str.strip('1234567890.#/}{)(¥|;,-_')\n",
    "df['last_name'] = df['last_name'].str.strip('1234567890.#/}{)(¥|;,-_')\n",
    "df = df.replace(r\"^ +| +$\",r\"\",regex=True)"
   ]
  }
 ],
 "metadata": {
  "kernelspec": {
   "display_name": "Python 3.10.6 ('Mito')",
   "language": "python",
   "name": "python3"
  },
  "language_info": {
   "codemirror_mode": {
    "name": "ipython",
    "version": 3
   },
   "file_extension": ".py",
   "mimetype": "text/x-python",
   "name": "python",
   "nbconvert_exporter": "python",
   "pygments_lexer": "ipython3",
   "version": "3.10.6"
  },
  "orig_nbformat": 4,
  "vscode": {
   "interpreter": {
    "hash": "8ca7c6c0b372e79d1b046e97089bf0eca059102913bf5fbce589f25f1f28c438"
   }
  }
 },
 "nbformat": 4,
 "nbformat_minor": 2
}
