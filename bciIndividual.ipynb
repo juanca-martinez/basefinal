{
 "cells": [
  {
   "cell_type": "code",
   "execution_count": null,
   "metadata": {
    "notebookRunGroups": {
     "groupValue": "1"
    }
   },
   "outputs": [],
   "source": [
    "import json\n",
    "import numpy as np\n",
    "import matplotlib.pyplot as plt\n",
    "import matplotlib\n",
    "import pandas as pd\n",
    "from simple_salesforce import Salesforce, format_soql, format_external_id\n",
    "import paramiko\n",
    "import datetime\n",
    "from datetime import date\n",
    "import re\n",
    "from collections import OrderedDict\n",
    "import simpler_sf\n",
    "simpler_sf.simple_salesforce()\n",
    "import simple_salesforce"
   ]
  },
  {
   "cell_type": "code",
   "execution_count": null,
   "metadata": {
    "notebookRunGroups": {
     "groupValue": "1"
    }
   },
   "outputs": [],
   "source": [
    "with open(\"login.json\", \"r\") as j:\n",
    "    misDatos = json.load(j)"
   ]
  },
  {
   "cell_type": "code",
   "execution_count": null,
   "metadata": {},
   "outputs": [],
   "source": [
    "#para smart query\n",
    "\"\"\" sf = simple_salesforce.Salesforce(\n",
    "    username=misDatos[\"username\"],\n",
    "    password=misDatos[\"password\"],\n",
    "    security_token=misDatos[\"security_token\"],\n",
    ")\n",
    " \"\"\"\n",
    "#para lo demas\n",
    "sf = Salesforce(\n",
    "    username=misDatos[\"username\"],\n",
    "    password=misDatos[\"password\"],\n",
    "    security_token=misDatos[\"security_token\"],\n",
    ")\n",
    "# paramiko.util.log_to_file(\"paramiko.log\")\n",
    "regex = re.compile(r\"([A-Za-z0-9]+[.-_])*[A-Za-z0-9]+@[A-Za-z0-9-]+(\\.[A-Z|a-z]{2,})+\")"
   ]
  },
  {
   "cell_type": "code",
   "execution_count": null,
   "metadata": {},
   "outputs": [],
   "source": [
    "fecha = datetime.date.today()\n",
    "dia_hoy = str(fecha.day)\n",
    "mes_hoy = str(fecha.month)\n",
    "ano_hoy = str(fecha.year)\n",
    "if len(mes_hoy) == 1:\n",
    "    mes_hoy = \"0\" + mes_hoy\n",
    "if len(dia_hoy) == 1:\n",
    "    dia_hoy = \"0\" + dia_hoy\n",
    "archivoDia = dia_hoy + mes_hoy + ano_hoy\n",
    "\n",
    "nombreCarpetaHost = \"/care_assistance/BCI_a_CAREASSIST/PRODUCCION\" + \"/\"\n",
    "#nombreArchivoHost = \"VentaCARE_ASSISTANCE_\" + str(archivoDia) + \".xlsx\"\n",
    "nombreArchivoHost = \"VentaCARE_ASSISTANCE_\" + '22112023' + \".xlsx\"\n",
    "descargaDeArchivo = nombreCarpetaHost + nombreArchivoHost\n",
    "\n",
    "# Direccion descarga local\n",
    "direccionDescargaLocal = (\n",
    "    \"F:/Procesos Automaticos/BCI Canal Individual/\" + nombreArchivoHost\n",
    ")\n",
    "\n",
    "print(fecha)\n",
    "print(archivoDia)\n",
    "print(nombreArchivoHost)\n",
    "print(descargaDeArchivo)"
   ]
  },
  {
   "cell_type": "code",
   "execution_count": null,
   "metadata": {},
   "outputs": [],
   "source": [
    "host = \"sftp.bciseguros.cl\"\n",
    "puerto = 22\n",
    "transporte = paramiko.Transport((host, puerto))\n",
    "usuario = \"pcerda_cas\"\n",
    "clave = \"wB6tfCRc\"\n",
    "transporte.connect(None, usuario, clave)\n",
    "sftp = paramiko.SFTPClient.from_transport(transporte)"
   ]
  },
  {
   "cell_type": "markdown",
   "metadata": {},
   "source": [
    "Coneccion a carpeta sft y rescate de archivo\n"
   ]
  },
  {
   "cell_type": "code",
   "execution_count": null,
   "metadata": {},
   "outputs": [],
   "source": [
    "# Download\n",
    "filepath = descargaDeArchivo\n",
    "localpath = direccionDescargaLocal\n",
    "sftp.get(filepath, localpath)"
   ]
  },
  {
   "cell_type": "code",
   "execution_count": null,
   "metadata": {},
   "outputs": [],
   "source": [
    "if sftp:\n",
    "    sftp.close()\n",
    "if transporte:\n",
    "    transporte.close()"
   ]
  },
  {
   "cell_type": "markdown",
   "metadata": {},
   "source": [
    "Inicio Manipulacion de Excel descargado\n"
   ]
  },
  {
   "cell_type": "code",
   "execution_count": null,
   "metadata": {},
   "outputs": [],
   "source": [
    "archivoBCI = pd.read_excel(direccionDescargaLocal)\n",
    "archivoBCI.shape\n"
   ]
  },
  {
   "cell_type": "code",
   "execution_count": null,
   "metadata": {},
   "outputs": [],
   "source": [
    "archivoBCI.dtypes\n"
   ]
  },
  {
   "cell_type": "code",
   "execution_count": null,
   "metadata": {},
   "outputs": [],
   "source": [
    "archivoBCI.RUT_ASEGURADO.fillna(archivoBCI[\"RUT_TITULAR\"], inplace=True)\n",
    "archivoBCI.DV_ASEGURADO.fillna(archivoBCI[\"DV_TITULAR\"], inplace=True)\n",
    "archivoBCI.SEXO.fillna(\"0\", inplace=True)\n",
    "archivoBCI.CORREO.fillna(\"\", inplace=True)\n",
    "archivoBCI.CELULAR.fillna(\"0\", inplace=True)\n",
    "archivoBCI.DIREC.fillna(\"\", inplace=True)\n",
    "archivoBCI.NOMBRE_ASEGURADO.fillna(\"NN NN\", inplace=True)\n",
    "archivoBCI[\"RUT_ASEGURADO\"] = archivoBCI[\"RUT_ASEGURADO\"].apply(np.int64)\n",
    "archivoBCI[\"CELULAR\"] = archivoBCI[\"CELULAR\"].astype(int)\n",
    "archivoBCI[\"CELULAR\"] = archivoBCI[\"CELULAR\"].apply(np.int64)\n",
    "\n",
    "\n",
    "archivoBCI.head(-50)"
   ]
  },
  {
   "cell_type": "code",
   "execution_count": null,
   "metadata": {},
   "outputs": [],
   "source": [
    "def isValid(email):\n",
    "    if re.fullmatch(regex, email):\n",
    "        return email\n",
    "    else:\n",
    "        return \"\"\n",
    "\n",
    "\n",
    "def nombreFuncion(nombreCompleto):\n",
    "    if len(nombreCompleto) >= 2:\n",
    "        nombresJuntos = nombreCompleto[0] + \" \" + nombreCompleto[1]\n",
    "        return nombresJuntos\n",
    "    elif len(nombreCompleto) == 1:\n",
    "        nombresJuntos = nombreCompleto[0]\n",
    "        return nombresJuntos\n",
    "    else:\n",
    "        nombresJuntos = \"NN NN\"\n",
    "        return nombresJuntos\n",
    "    print(len(nombresJuntos) + nombresJuntos)\n",
    "\n",
    "\n",
    "def apellidoFuncion(nombreCompleto):\n",
    "    if len(nombreCompleto) >= 2:\n",
    "        nombresJuntos = nombreCompleto[-2] + \" \" + nombreCompleto[-1]\n",
    "        return nombresJuntos\n",
    "    elif len(nombreCompleto) == 1:\n",
    "        nombresJuntos = nombreCompleto[-1]\n",
    "        return nombresJuntos\n",
    "    else:\n",
    "        nombresJuntos = \"NN NN\"\n",
    "        return nombresJuntos\n",
    "    print(len(nombresJuntos) + nombresJuntos)\n",
    "\n",
    "\n",
    "\"\"\" def apellidoFuncion(nombreCompleto):\n",
    "  nombreCompleto = str(nombreCompleto)\n",
    "  apellidos = re.split('\\W+', nombreCompleto)\n",
    "  if len(apellidos)==1:\n",
    "    return apellidos[0]\n",
    "  elif len(apellidos)==2:\n",
    "    nombresJuntos = apellidos[0] + \" \" + apellidos[1]\n",
    "    return nombresJuntos\n",
    "    \n",
    "  elif len(apellidos)==3:\n",
    "    archivoBCI[\"nombre\"] = apellidos[0] + \" \" + apellidos[1]\n",
    "    archivoBCI[\"apellido\"] = apellidos[2]\n",
    "  else:\n",
    "    archivoBCI[\"nombre\"] = apellidos[0] + \" \" + apellidos[1]\n",
    "    archivoBCI[\"apellido\"] = apellidos[2] + \" \" + apellidos[3] \"\"\"\n",
    "\n",
    "# archivoBCI[\"nombre\"] = apellidos[0] + \" \" + apellidos[1]\n",
    "# archivoBCI[\"apellido\"] = apellidos[2] + \" \" + apellidos[3]\n",
    "# print (apellidos)"
   ]
  },
  {
   "cell_type": "code",
   "execution_count": null,
   "metadata": {},
   "outputs": [],
   "source": [
    "archivoBCI[\"Rut Titular\"] = archivoBCI[\"RUT_TITULAR\"].astype(str) + archivoBCI[\n",
    "    \"DV_TITULAR\"\n",
    "].astype(str)\n",
    "archivoBCI[\"Rut Titular\"] = archivoBCI[\"Rut Titular\"].str.replace(\" \", \"\").str.upper()\n",
    "\n",
    "archivoBCI[\"Rut Carga\"] = archivoBCI[\"RUT_ASEGURADO\"].astype(str) + archivoBCI[\n",
    "    \"DV_ASEGURADO\"\n",
    "].astype(str)\n",
    "archivoBCI[\"Rut Carga\"] = archivoBCI[\"Rut Carga\"].str.replace(\" \", \"\").str.upper()\n",
    "\n",
    "archivoBCI[\"poliza\"] = archivoBCI[\"POLIZA\"].astype(str)\n",
    "\n",
    "general_Sexo = {\n",
    "    \"M\": \"Hombre\",\n",
    "    \"m\": \"Hombre\",\n",
    "    \"Masculino\": \"Hombre\",\n",
    "    \"Femenino\": \"Mujer\",\n",
    "    \"\": \"Prefiero no responder\",\n",
    "    \"HOMBRE\": \"Hombre\",\n",
    "    \"MUJER\": \"Mujer\",\n",
    "    \"F\": \"Mujer\",\n",
    "    \"O\": \"O\",\n",
    "    \"Ambos\": \"Prefiero no responder\",\n",
    "    \"N\": \"Prefiero no responder\",\n",
    "    \"Otro\": \"Prefiero no responder\",\n",
    "    \"n\": \"Prefiero no responder\",\n",
    "    \"N\": \"Prefiero no responder\",\n",
    "    \"FEMENINO\": \"Mujer\",\n",
    "    \"f\": \"Mujer\",\n",
    "    \"MASCULINO\": \"Hombre\",\n",
    "    \"m\": \"Hombre\",\n",
    "    \"M \": \"Hombre\",\n",
    "    \"F \": \"Mujer\",\n",
    "    \"Varón\": \"Hombre\",\n",
    "    \"0\": \"\",\n",
    "}\n",
    "archivoBCI.replace({\"SEXO\": general_Sexo}, inplace=True)\n",
    "archivoBCI[\"sexo\"] = archivoBCI[\"SEXO\"].astype(str).str.title()\n",
    "\n",
    "general_email = {\n",
    "    \"no informado\": \"\",\n",
    "}\n",
    "archivoBCI[\"email\"] = archivoBCI[\"CORREO\"].astype(str).str.lower()\n",
    "archivoBCI[\"email\"] = archivoBCI[\"email\"].apply(lambda y: isValid(y))\n",
    "archivoBCI.replace({\"email\": general_email}, inplace=True)\n",
    "\n",
    "general_direccion = {\n",
    "    \"no informado\": \"\",\n",
    "    \"SN\": \"\",\n",
    "    \"sn\": \"\",\n",
    "    \"s/d\": \"\",\n",
    "    \"1 1\": \"\",\n",
    "    \"0 0\": \"\",\n",
    "    \"sn 0\": \"\",\n",
    "}\n",
    "archivoBCI[\"direccion\"] = archivoBCI[\"DIREC\"].astype(str).str.lower()\n",
    "archivoBCI.replace({\"direccion\": general_direccion}, inplace=True)\n",
    "archivoBCI[\"direccion\"] = archivoBCI[\"direccion\"].str.title()\n",
    "\n",
    "general_Celular = {\n",
    "    0: \"\",\n",
    "}\n",
    "archivoBCI.replace({\"CELULAR\": general_Celular}, inplace=True)\n",
    "archivoBCI[\"celular\"] = archivoBCI[\"CELULAR\"].astype(str).str.lower()\n",
    "archivoBCI[\"celular\"] = archivoBCI[\"celular\"].str.replace(\"NaN\", \"\")\n",
    "archivoBCI[\"celular\"] = archivoBCI[\"celular\"].str.replace(\"Nan\", \"\")\n",
    "archivoBCI[\"celular\"] = archivoBCI[\"celular\"].str.replace(\"-\", \"\")\n",
    "archivoBCI[\"celular\"] = archivoBCI[\"celular\"].str.replace(\"No Informado\", \"\")\n",
    "archivoBCI[\"celular\"] = archivoBCI[\"celular\"].str.replace(\"_\", \"\")\n",
    "archivoBCI[\"celular\"] = archivoBCI[\"celular\"].str.replace(\"+\", \"\")\n",
    "archivoBCI[\"celular\"] = archivoBCI[\"celular\"].str.replace(\"nan\", \"\")\n",
    "archivoBCI[\"celular\"] = archivoBCI[\"celular\"].str.replace(\" \", \"\")\n",
    "\n",
    "\n",
    "archivoBCI[\"nombres\"] = archivoBCI[\"NOMBRE_ASEGURADO\"].str.split(n=2)\n",
    "archivoBCI[\"apellidos\"] = archivoBCI[\"NOMBRE_ASEGURADO\"].str.rsplit(n=2)\n",
    "archivoBCI[\"nombres\"] = (\n",
    "    archivoBCI[\"nombres\"].apply(lambda y: nombreFuncion(y)).str.title()\n",
    ")\n",
    "archivoBCI[\"apellidos\"] = (\n",
    "    archivoBCI[\"apellidos\"].apply(lambda y: apellidoFuncion(y)).str.title()\n",
    ")"
   ]
  },
  {
   "cell_type": "code",
   "execution_count": null,
   "metadata": {},
   "outputs": [],
   "source": [
    "archivoBCI.head(-50)\n"
   ]
  },
  {
   "cell_type": "code",
   "execution_count": null,
   "metadata": {},
   "outputs": [],
   "source": [
    "# archivoBCI = archivoBCI[archivoBCI[\"RUT_ASEGURADO\"]== \"0\"]\n",
    "# archivoBCI.to_excel(\"F:/Procesos Automaticos/BCI Canal Individual/derty.xlsx\",index=False)"
   ]
  },
  {
   "cell_type": "code",
   "execution_count": null,
   "metadata": {},
   "outputs": [],
   "source": [
    "def revisaDict(ver):\n",
    "    numbers = ver\n",
    "    for key, value in numbers.items():\n",
    "        print(key, \"->\", value)\n",
    "        if key == \"IdentificationId__pc\":\n",
    "            return value\n",
    "\n",
    "\n",
    "\"\"\" def revisaDict(ver):\n",
    "    numbers = ver\n",
    "    for key, value in numbers.items():\n",
    "        print(key, \"->\", value)\n",
    "        if key == \"IdentificationId__pc\":\n",
    "            return value \"\"\"\n"
   ]
  },
  {
   "cell_type": "code",
   "execution_count": null,
   "metadata": {},
   "outputs": [],
   "source": [
    "results = sf.query_all(\n",
    "    \"\"\"\n",
    "    select Paciente__r.IdentificationId__pc from Paciente_Programas__c where padre__c = 'BCI Seguros Individuales'\n",
    "   \"\"\"\n",
    ")\n",
    "pacienteProgr = pd.DataFrame(results[\"records\"])\n",
    "# Pacientes_SF[\"nuevo\"] = Paciente__r.OrderedDict.IdentificationId__pc\n",
    "# String acctName = carol.Account.Name;\n",
    "\n",
    "pacienteProgr[\"sfRut\"] = pacienteProgr[\"Paciente__r\"].apply(lambda y: revisaDict(y))\n",
    "\n",
    "pacienteProgr[\"sfRut\"] = pacienteProgr[\"sfRut\"].astype(str).str.upper()\n",
    "\n",
    "pacienteProgr = pacienteProgr[[\"sfRut\",]]\n",
    "\n",
    "\n",
    "pacienteProgr.shape\n"
   ]
  },
  {
   "cell_type": "code",
   "execution_count": null,
   "metadata": {},
   "outputs": [],
   "source": [
    "pacienteProgr[\"sfRut\"] = pacienteProgr[\"sfRut\"].astype(str).str.upper()\n",
    "pacienteProgr[\"sfRut\"] = pacienteProgr[\"sfRut\"].str.replace(\" \", \"\")\n",
    "pacienteProgr[\"sfRut\"] = pacienteProgr[\"sfRut\"].str.replace(\"-\", \"\")\n",
    "\n",
    "archivoBCI[\"Rut Carga\"] = archivoBCI[\"Rut Carga\"].astype(str).str.upper()\n",
    "archivoBCI[\"Rut Carga\"] = archivoBCI[\"Rut Carga\"].str.replace(\" \", \"\")\n",
    "archivoBCI[\"Rut Carga\"] = archivoBCI[\"Rut Carga\"].str.replace(\"-\", \"\")\n",
    "\n",
    "archivoBCI[\"RutEstaoNo\"] = archivoBCI[\"Rut Carga\"].isin(pacienteProgr[\"sfRut\"])\n",
    "\n",
    "archivoBCI = archivoBCI[archivoBCI[\"RutEstaoNo\"] == False]\n",
    "\n",
    "archivoBCI.drop(\n",
    "    archivoBCI[\n",
    "        (archivoBCI[\"nombres\"] == \"Nn Nn\") & (archivoBCI[\"apellidos\"] == \"Nn Nn\")\n",
    "    ].index,\n",
    "    inplace=True,\n",
    ")\n",
    "archivoBCI.drop_duplicates([\"Rut Carga\", \"Rut Titular\"], keep=\"last\")\n",
    "\n",
    "archivoBCI = archivoBCI[\n",
    "    [\"Rut Carga\", \"sexo\", \"direccion\", \"email\", \"celular\", \"nombres\", \"apellidos\"]\n",
    "]\n",
    "\n",
    "archivoBCI = archivoBCI.rename(\n",
    "    columns={\n",
    "        \"Rut Carga\": \"IdentificationId__pc\",\n",
    "        \"sexo\": \"HealthCloudGA__Gender__pc\",\n",
    "        \"direccion\": \"BillingStreet\",\n",
    "        \"email\": \"PersonEmail\",\n",
    "        \"celular\": \"Phone\",\n",
    "        \"nombres\": \"FirstName\",\n",
    "        \"apellidos\": \"LastName\",\n",
    "    }\n",
    ")\n",
    "archivoBCI[\"BillingCountry\"] = \"Chile\"\n",
    "archivoBCI[\"Identification_Type__c\"] = \"RUT\"\n",
    "archivoBCI[\"Pa_s_del_Paciente__c\"] = \"a1U8c000005dAtnEAE\"\n",
    "archivoBCI[\"RecordTypeId\"] = \"0128c000002Byp4AAC\"\n",
    "archivoBCI[\"Cuenta_validada__c\"] = \"True\"\n",
    "archivoBCI[\"Validaci_n__c\"] = \"Validada\"\n",
    "archivoBCI[\"Email_Seteado__c\"] = np.where(\n",
    "    archivoBCI[\"PersonEmail\"] != \"\", \"True\", \"False\"\n",
    ")\n",
    "\"\"\" archivoBCI.to_excel(\n",
    "    \"F:/Procesos Automaticos/BCI Seguros Individuales/derty.xlsx\", index=False\n",
    ") \"\"\"\n",
    "\n",
    "\n",
    "archivoBCI.columns\n"
   ]
  },
  {
   "cell_type": "code",
   "execution_count": null,
   "metadata": {},
   "outputs": [],
   "source": [
    "\"\"\" derty = sf.quick_search(\"153298939\")\n",
    "#print(derty)\n",
    "\n",
    "revisaDict(derty)\n",
    " \"\"\"\n",
    "soql_query = \"\"\" select Id, Paciente__r.IdentificationId__pc from Paciente_Programas__c where padre__c = 'BCI Seguros Individuales' \"\"\"\n",
    "soql_result = sf.query_all(soql_query)\n",
    "df = pd.DataFrame(soql_result.get(\"records\"))\n",
    "df = df.drop(columns=[\"attributes\"])\n",
    "df = df.drop(columns=\"Id\")\n",
    "list_of_records = df.to_dict(\"index\")\n",
    "\n",
    "\"\"\" derty = sf.quick_search(\"153298939\")\n",
    "print(derty) \"\"\"\n",
    "list_of_records[0][\"Paciente__r\"][\"IdentificationId__pc\"]"
   ]
  },
  {
   "cell_type": "markdown",
   "metadata": {},
   "source": [
    "Weeeeeeeeeeeenooo\n"
   ]
  },
  {
   "cell_type": "code",
   "execution_count": null,
   "metadata": {},
   "outputs": [],
   "source": [
    "# rut = \"124942012\"\n",
    "def traerId(rut):\n",
    "    if (len(rut)>=8):\n",
    "        busquedaDatos = \"FIND {\" + rut + \"} RETURNING Account(Id,IdentificationId__pc)\"\n",
    "        derty = dict(sf.search(busquedaDatos))\n",
    "        if derty[\"searchRecords\"] != []:\n",
    "            if derty[\"searchRecords\"][0][\"attributes\"][\"type\"] == \"Account\":\n",
    "                jote = derty[\"searchRecords\"][0][\"Id\"]\n",
    "                dertyd = derty[\"searchRecords\"][0][\"IdentificationId__pc\"]\n",
    "                print(jote + \" \" + dertyd)\n",
    "                return jote\n",
    "            else:\n",
    "                print(\"no\")\n",
    "        else:\n",
    "            print(\"vacio\")\n",
    "    else:\n",
    "        return \"\"        "
   ]
  },
  {
   "cell_type": "code",
   "execution_count": null,
   "metadata": {},
   "outputs": [],
   "source": [
    "archivoBCI[\"Paciente__c\"] = archivoBCI[\"IdentificationId__pc\"].apply(lambda y: traerId(y))\n",
    "archivoBCI[\"Programas_por_Empresas__c\"] = \"a1W8c000008TCWxEAO\"\n",
    "archivoBCI.head()"
   ]
  },
  {
   "cell_type": "code",
   "execution_count": null,
   "metadata": {},
   "outputs": [],
   "source": [
    "archivoDeCarga = (\n",
    "    \"F:/Procesos Automaticos/BCI Canal Individual/\" + str(archivoDia) + \".xlsx\"\n",
    ")\n",
    "\n",
    "archivoBCI.to_excel(archivoDeCarga, index=False)\n",
    "\n",
    "archivoBCI.head()"
   ]
  },
  {
   "cell_type": "code",
   "execution_count": null,
   "metadata": {},
   "outputs": [],
   "source": [
    "prueba = \"153298939\"\n",
    "sf.query(\n",
    "    format_soql(\n",
    "        \"SELECT Id,lastname FROM Account WHERE IdentificationId__pc = {last_name}\",\n",
    "        last_name=prueba,\n",
    "    )\n",
    ")"
   ]
  },
  {
   "cell_type": "code",
   "execution_count": null,
   "metadata": {},
   "outputs": [],
   "source": [
    "\"\"\" sf.Account.create(\n",
    "    {\n",
    "        \"IdentificationId__pc\": \"12345678910\",\n",
    "        \"HealthCloudGA__Gender__pc\": \"Mujer\",\n",
    "        \"FirstName\": \"johan\",\n",
    "        \"LastName\": \"Smith\",\n",
    "        \"PersonEmail\": \"example@example.com\",\n",
    "        \"BillingCountry\": \"Chile\",\n",
    "        \"Identification_Type__c\": \"RUT\",\n",
    "        \"Pa_s_del_Paciente__c\": \"a1U8c000005dAtnEAE\",\n",
    "        \"RecordTypeId\": \"0128c000002Byp4AAC\",\n",
    "    }\n",
    ")\n",
    " \"\"\"\n",
    "\n",
    "# sf.Account.update(1, {'Name': 'Test Account', ContactId: contact_id}) # doctest: +SKIP"
   ]
  },
  {
   "cell_type": "code",
   "execution_count": null,
   "metadata": {},
   "outputs": [],
   "source": [
    "\"\"\" import pandas as pd\n",
    "sf.bulk.Account.query(\"SELECT Id, Email FROM Account\")\n",
    "\n",
    "df = pd.DataFrame.from_dict(data,orient='columns').drop('attributes',axis=1) \"\"\"\n",
    "\n",
    "import pandas as pd\n",
    "\n",
    "df = pd.DataFrame([{'Id':1},{'Id':2},{'Id':3}])\n",
    "def dataframe_to_sfdc_list(df,column):\n",
    "    df_list = df[column].unique()\n",
    "    df_list = [str(x) for x in df_list]\n",
    "    df_list = ','.join(\"'\"+item+\"'\" for item in df_list)\n",
    "    return df_list\n",
    "\n",
    "sf.query(format_soql(\"SELECT Id, Email FROM Account WHERE Id IN ({})\", dataframe_to_sfdc_list(df,column)))\n"
   ]
  },
  {
   "cell_type": "code",
   "execution_count": null,
   "metadata": {},
   "outputs": [],
   "source": [
    "contact = sf.Account.get('0018c00002amLcCAAU')"
   ]
  },
  {
   "cell_type": "code",
   "execution_count": null,
   "metadata": {},
   "outputs": [],
   "source": [
    "# sf = simple_salesforce.Salesforce(...)\n",
    "\n",
    "query = \"SELECT Id, clinica__c,AccountId,CreatedDate,RUT__c,Account.IdentificationId__pc, Work_TypeGroup__c,Status,Interacci_n__c,AppointmentNumber,CreatedById,Tipo_de_la_cita__c,Empresa_Principal__c,Country from ServiceAppointment\"\n",
    "\n",
    "df = sf.smart_query(query)\n",
    "print(df)"
   ]
  },
  {
   "cell_type": "code",
   "execution_count": null,
   "metadata": {},
   "outputs": [],
   "source": [
    "df.head(-50)"
   ]
  },
  {
   "cell_type": "code",
   "execution_count": null,
   "metadata": {},
   "outputs": [],
   "source": [
    " "
   ]
  },
  {
   "cell_type": "code",
   "execution_count": null,
   "metadata": {},
   "outputs": [],
   "source": [
    "rut = \"153298939\"\n",
    "\n",
    "\"\"\" busquedaDatos = (\n",
    "    \"FIND {\" + rut + \"} \"\n",
    ") \"\"\"\n",
    "derty = sf.quick_search(\"124942012\")\n",
    "derty\n"
   ]
  },
  {
   "cell_type": "code",
   "execution_count": null,
   "metadata": {},
   "outputs": [],
   "source": [
    "df = pd.DataFrame([{'Id':1},{'Id':2},{'Id':3}])\n",
    "archivoBCI[\"IdentificationId__pc\"]\n",
    "df.head()"
   ]
  },
  {
   "cell_type": "code",
   "execution_count": null,
   "metadata": {},
   "outputs": [],
   "source": [
    "def dataframe_to_sfdc_list(df,column):\n",
    "    df_list = df[column].unique()\n",
    "    df_list = [str(x) for x in df_list]\n",
    "    df_list = ','.join(\"'\"+item+\"'\" for item in df_list)\n",
    "    return df_list\n",
    "\n",
    "sf.query(format_soql(\"SELECT Id FROM Account WHERE IdentificationId__pc IN ({})\", dataframe_to_sfdc_list(pacienteProgr,\"sfRut\")))"
   ]
  },
  {
   "cell_type": "code",
   "execution_count": null,
   "metadata": {},
   "outputs": [],
   "source": [
    "pacienteProgr.head()"
   ]
  },
  {
   "cell_type": "markdown",
   "metadata": {},
   "source": [
    "Codigo que dio github Copilot para la solucion del error de 0 en envio de correos"
   ]
  },
  {
   "cell_type": "code",
   "execution_count": null,
   "metadata": {},
   "outputs": [],
   "source": [
    "import win32com.client as win32\n",
    "import os\n",
    "import shutil\n",
    "\n",
    "nombre_reporte = \"Vida Security - Ferronor\"\n",
    "nombre_carpeta = \"F:/Reportes SF/Vida Security/\"\n",
    "nombre_archivo_final = nombre_carpeta + str(dia) + \"/\" + nombre_reporte + \".xlsx\"\n",
    "Archivo_origen = nombre_carpeta + \"Datos/\" + nombre_reporte + \".xlsx\"\n",
    "crear_carpeta(nombre_carpeta)\n",
    "actualizar(Archivo_origen)\n",
    "Asunto = \"Detalle de Uso \" + nombre_reporte + \" - \" + str(dia)\n",
    "shutil.copy2(Archivo_origen, nombre_archivo_final, follow_symlinks=True)\n",
    "\n",
    "# create Excel application object\n",
    "excel = win32.gencache.EnsureDispatch('Excel.Application')\n",
    "\n",
    "# set ScreenUpdating property to False to hide Excel application\n",
    "excel.ScreenUpdating = False\n",
    "\n",
    "# open workbook\n",
    "workbook = excel.Workbooks.Open(nombre_archivo_final)\n",
    "\n",
    "# do some work with the workbook\n",
    "\n",
    "# save and close workbook\n",
    "workbook.Save()\n",
    "workbook.Close()\n",
    "\n",
    "# set ScreenUpdating property to True to show Excel application\n",
    "excel.ScreenUpdating = True\n",
    "\n",
    "# quit Excel application\n",
    "excel.Quit()\n",
    "\n",
    "# release COM object\n",
    "del excel\n",
    "\n",
    "envio_de_email(\n",
    "    destinatarios=[\"marialaura.perez@security.cl\",],\n",
    "    concopia=[\n",
    "        \"dnunez@careassistance.com\",\n",
    "        \"dgarcia@careassistance.com\",\n",
    "        \"pcerda@careassistance.com\",\n",
    "        \"frubio@careassistance.com\",\n",
    "    ],\n",
    "    asunto=Asunto,\n",
    "    nombre_reporte=str(nombre_reporte),\n",
    "    ruta_adjunto=nombre_archivo_final,\n",
    "    nombre_adjunto=nombre_reporte + \".xlsx\",\n",
    "    activo=1,\n",
    ")"
   ]
  },
  {
   "cell_type": "code",
   "execution_count": null,
   "metadata": {},
   "outputs": [],
   "source": [
    "import win32com.client as win32\n",
    "import os\n",
    "import shutil\n",
    "import datetime as dt\n",
    "\n",
    "def crear_carpeta(nombre_carpeta):\n",
    "    if not os.path.exists(nombre_carpeta):\n",
    "        os.makedirs(nombre_carpeta)\n",
    "\n",
    "def actualizar(Archivo_origen):\n",
    "    excel = win32.gencache.EnsureDispatch('Excel.Application')\n",
    "    wb = excel.Workbooks.Open(Archivo_origen)\n",
    "    wb.RefreshAll()\n",
    "    wb.Save()\n",
    "    wb.Close()\n",
    "\n",
    "def envio_de_email(destinatarios, concopia, asunto, nombre_reporte, ruta_adjunto, nombre_adjunto):\n",
    "    outlook = win32.Dispatch('outlook.application')\n",
    "    mail = outlook.CreateItem(0)\n",
    "    mail.To = \";\".join(destinatarios)\n",
    "    mail.CC = \";\".join(concopia)\n",
    "    mail.Subject = asunto\n",
    "    mail.Body = \"Buen día,\\n\\nSe adjunta el detalle de uso de la aplicación \" + nombre_reporte + \" correspondiente al día de ayer.\\n\\nSaludos cordiales,\\n\\n\"\n",
    "    mail.Attachments.Add(ruta_adjunto, DisplayName=nombre_adjunto)\n",
    "    mail.Send()\n",
    "\n",
    "nombre_reporte = \"Zurich - AMSA\"\n",
    "nombre_carpeta = \"F:/Reportes SF/Zurich/\"\n",
    "nombre_archivo_final = nombre_carpeta + str(dt.date.today()) + \"/\" + nombre_reporte + \".xlsx\"\n",
    "Archivo_origen = nombre_carpeta + \"Datos/\" + nombre_reporte + \".xlsx\"\n",
    "crear_carpeta(nombre_carpeta)\n",
    "actualizar(Archivo_origen)\n",
    "Asunto = \"Detalle de Uso \" + nombre_reporte + \" - \" + str(dt.date.today())\n",
    "shutil.copy2(Archivo_origen, nombre_archivo_final, follow_symlinks=True)\n",
    "\n",
    "envio_de_email(\n",
    "    destinatarios=[\n",
    "        \"clara.angelica.munoz@zurich.com\",\n",
    "        \"claudia.ivonne.zapata@zurich.com\",\n",
    "        \"maria.moreno.poblete@zurich.com\",\n",
    "        \"nadia.pino@zurich.com\",\n",
    "    ],\n",
    "    concopia=[\n",
    "        \"dgarcia@careassistance.com\",\n",
    "        \"dnunez@careassistance.com\",\n",
    "        \"pcerda@careassistance.com\",\n",
    "        \"frubio@careassistance.com\",\n",
    "    ],\n",
    "    asunto=Asunto,\n",
    "    nombre_reporte=str(nombre_reporte),\n",
    "    ruta_adjunto=nombre_archivo_final,\n",
    "    nombre_adjunto=nombre_reporte + \".xlsx\""
   ]
  }
 ],
 "metadata": {
  "kernelspec": {
   "display_name": "salesforce",
   "language": "python",
   "name": "python3"
  },
  "language_info": {
   "codemirror_mode": {
    "name": "ipython",
    "version": 3
   },
   "file_extension": ".py",
   "mimetype": "text/x-python",
   "name": "python",
   "nbconvert_exporter": "python",
   "pygments_lexer": "ipython3",
   "version": "3.8.16"
  },
  "orig_nbformat": 4
 },
 "nbformat": 4,
 "nbformat_minor": 2
}
