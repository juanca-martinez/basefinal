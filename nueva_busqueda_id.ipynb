{
 "cells": [
  {
   "cell_type": "code",
   "execution_count": 1,
   "metadata": {
    "notebookRunGroups": {
     "groupValue": "1"
    }
   },
   "outputs": [],
   "source": [
    "from pathlib import Path \n",
    "import requests\n",
    "import pandas as pd\n",
    "import numpy as np\n",
    "from io import StringIO\n",
    "from simple_salesforce import Salesforce\n",
    "import shutil\n",
    "import datetime\n",
    "from datetime import date\n",
    "\n",
    "\n",
    "sf = Salesforce(\n",
    "    username=\"jmartinez@careassistance.com\",\n",
    "    password=\"Jcmm010483\",\n",
    "    security_token=\"nc20DsgxOHWVR9OHZ78s7TRp\",\n",
    ")"
   ]
  },
  {
   "cell_type": "code",
   "execution_count": 2,
   "metadata": {
    "notebookRunGroups": {
     "groupValue": "1"
    }
   },
   "outputs": [
    {
     "ename": "KeyError",
     "evalue": "\"['IdentificationId__pc'] not in index\"",
     "output_type": "error",
     "traceback": [
      "\u001b[1;31m---------------------------------------------------------------------------\u001b[0m",
      "\u001b[1;31mKeyError\u001b[0m                                  Traceback (most recent call last)",
      "Cell \u001b[1;32mIn[2], line 9\u001b[0m\n\u001b[0;32m      2\u001b[0m results \u001b[39m=\u001b[39m sf\u001b[39m.\u001b[39mquery_all(\n\u001b[0;32m      3\u001b[0m     \u001b[39m\"\"\"\u001b[39;00m\n\u001b[0;32m      4\u001b[0m \u001b[39m    select Id, Identification_Type__c from Account where ispersonaccount = True\u001b[39;00m\n\u001b[0;32m      5\u001b[0m \u001b[39m   \"\"\"\u001b[39;00m\n\u001b[0;32m      6\u001b[0m )\n\u001b[0;32m      7\u001b[0m Pacientes_SF \u001b[39m=\u001b[39m pd\u001b[39m.\u001b[39mDataFrame(results[\u001b[39m\"\u001b[39m\u001b[39mrecords\u001b[39m\u001b[39m\"\u001b[39m])\n\u001b[1;32m----> 9\u001b[0m Pacientes_SF \u001b[39m=\u001b[39m Pacientes_SF[\n\u001b[0;32m     10\u001b[0m     [\n\u001b[0;32m     11\u001b[0m         \u001b[39m\"\u001b[39;49m\u001b[39mId\u001b[39;49m\u001b[39m\"\u001b[39;49m,\n\u001b[0;32m     12\u001b[0m         \u001b[39m\"\u001b[39;49m\u001b[39mIdentificationId__pc\u001b[39;49m\u001b[39m\"\u001b[39;49m,\n\u001b[0;32m     13\u001b[0m         \n\u001b[0;32m     14\u001b[0m         \n\u001b[0;32m     15\u001b[0m     ]\n\u001b[0;32m     16\u001b[0m ]\n\u001b[0;32m     17\u001b[0m Pacientes_SF \u001b[39m=\u001b[39m Pacientes_SF\u001b[39m.\u001b[39mrename(\n\u001b[0;32m     18\u001b[0m     columns\u001b[39m=\u001b[39m{\n\u001b[0;32m     19\u001b[0m         \u001b[39m\"\u001b[39m\u001b[39mId\u001b[39m\u001b[39m\"\u001b[39m: \u001b[39m\"\u001b[39m\u001b[39mId Account Paciente\u001b[39m\u001b[39m\"\u001b[39m,\n\u001b[1;32m   (...)\u001b[0m\n\u001b[0;32m     22\u001b[0m     }\n\u001b[0;32m     23\u001b[0m )\n\u001b[0;32m     24\u001b[0m Pacientes_SF\u001b[39m.\u001b[39mshape\n",
      "File \u001b[1;32mc:\\Users\\jmartinez\\.conda\\envs\\salesforce\\lib\\site-packages\\pandas\\core\\frame.py:3811\u001b[0m, in \u001b[0;36mDataFrame.__getitem__\u001b[1;34m(self, key)\u001b[0m\n\u001b[0;32m   3809\u001b[0m     \u001b[39mif\u001b[39;00m is_iterator(key):\n\u001b[0;32m   3810\u001b[0m         key \u001b[39m=\u001b[39m \u001b[39mlist\u001b[39m(key)\n\u001b[1;32m-> 3811\u001b[0m     indexer \u001b[39m=\u001b[39m \u001b[39mself\u001b[39;49m\u001b[39m.\u001b[39;49mcolumns\u001b[39m.\u001b[39;49m_get_indexer_strict(key, \u001b[39m\"\u001b[39;49m\u001b[39mcolumns\u001b[39;49m\u001b[39m\"\u001b[39;49m)[\u001b[39m1\u001b[39m]\n\u001b[0;32m   3813\u001b[0m \u001b[39m# take() does not accept boolean indexers\u001b[39;00m\n\u001b[0;32m   3814\u001b[0m \u001b[39mif\u001b[39;00m \u001b[39mgetattr\u001b[39m(indexer, \u001b[39m\"\u001b[39m\u001b[39mdtype\u001b[39m\u001b[39m\"\u001b[39m, \u001b[39mNone\u001b[39;00m) \u001b[39m==\u001b[39m \u001b[39mbool\u001b[39m:\n",
      "File \u001b[1;32mc:\\Users\\jmartinez\\.conda\\envs\\salesforce\\lib\\site-packages\\pandas\\core\\indexes\\base.py:6113\u001b[0m, in \u001b[0;36mIndex._get_indexer_strict\u001b[1;34m(self, key, axis_name)\u001b[0m\n\u001b[0;32m   6110\u001b[0m \u001b[39melse\u001b[39;00m:\n\u001b[0;32m   6111\u001b[0m     keyarr, indexer, new_indexer \u001b[39m=\u001b[39m \u001b[39mself\u001b[39m\u001b[39m.\u001b[39m_reindex_non_unique(keyarr)\n\u001b[1;32m-> 6113\u001b[0m \u001b[39mself\u001b[39;49m\u001b[39m.\u001b[39;49m_raise_if_missing(keyarr, indexer, axis_name)\n\u001b[0;32m   6115\u001b[0m keyarr \u001b[39m=\u001b[39m \u001b[39mself\u001b[39m\u001b[39m.\u001b[39mtake(indexer)\n\u001b[0;32m   6116\u001b[0m \u001b[39mif\u001b[39;00m \u001b[39misinstance\u001b[39m(key, Index):\n\u001b[0;32m   6117\u001b[0m     \u001b[39m# GH 42790 - Preserve name from an Index\u001b[39;00m\n",
      "File \u001b[1;32mc:\\Users\\jmartinez\\.conda\\envs\\salesforce\\lib\\site-packages\\pandas\\core\\indexes\\base.py:6176\u001b[0m, in \u001b[0;36mIndex._raise_if_missing\u001b[1;34m(self, key, indexer, axis_name)\u001b[0m\n\u001b[0;32m   6173\u001b[0m     \u001b[39mraise\u001b[39;00m \u001b[39mKeyError\u001b[39;00m(\u001b[39mf\u001b[39m\u001b[39m\"\u001b[39m\u001b[39mNone of [\u001b[39m\u001b[39m{\u001b[39;00mkey\u001b[39m}\u001b[39;00m\u001b[39m] are in the [\u001b[39m\u001b[39m{\u001b[39;00maxis_name\u001b[39m}\u001b[39;00m\u001b[39m]\u001b[39m\u001b[39m\"\u001b[39m)\n\u001b[0;32m   6175\u001b[0m not_found \u001b[39m=\u001b[39m \u001b[39mlist\u001b[39m(ensure_index(key)[missing_mask\u001b[39m.\u001b[39mnonzero()[\u001b[39m0\u001b[39m]]\u001b[39m.\u001b[39munique())\n\u001b[1;32m-> 6176\u001b[0m \u001b[39mraise\u001b[39;00m \u001b[39mKeyError\u001b[39;00m(\u001b[39mf\u001b[39m\u001b[39m\"\u001b[39m\u001b[39m{\u001b[39;00mnot_found\u001b[39m}\u001b[39;00m\u001b[39m not in index\u001b[39m\u001b[39m\"\u001b[39m)\n",
      "\u001b[1;31mKeyError\u001b[0m: \"['IdentificationId__pc'] not in index\""
     ]
    }
   ],
   "source": [
    "#CArga de PAcientes\n",
    "results = sf.query_all(\n",
    "    \"\"\"\n",
    "    select Id, Identification_Type__c from Account where ispersonaccount = True\n",
    "   \"\"\"\n",
    ")\n",
    "Pacientes_SF = pd.DataFrame(results[\"records\"])\n",
    "\n",
    "Pacientes_SF = Pacientes_SF[\n",
    "    [\n",
    "        \"Id\",\n",
    "        \"IdentificationId__pc\",\n",
    "        \n",
    "        \n",
    "    ]\n",
    "]\n",
    "Pacientes_SF = Pacientes_SF.rename(\n",
    "    columns={\n",
    "        \"Id\": \"Id Account Paciente\",\n",
    "        \"IdentificationId__pc\": \"Rut\",\n",
    "        \n",
    "    }\n",
    ")\n",
    "Pacientes_SF.shape"
   ]
  },
  {
   "cell_type": "code",
   "execution_count": null,
   "metadata": {},
   "outputs": [],
   "source": [
    "nuevos = (\"F:/Empresas SF/reportes/carga.xlsx\")\n",
    "\n",
    "Pacientes_Archivo = pd.read_excel(nuevos)\n",
    "# OJO se copia rut1 a rut le saca el guoion\n",
    "Pacientes_Archivo[\"rut\"] = Pacientes_Archivo[\"rut1\"].str.replace(\"-\", \"\")\n",
    "\n",
    "                                     "
   ]
  },
  {
   "cell_type": "code",
   "execution_count": null,
   "metadata": {},
   "outputs": [],
   "source": [
    "Pacientes_Archivo[\"rut\"] = Pacientes_Archivo[\"rut\"].str.replace(\".\", \"\")\n",
    "# aca se trabaja con el nuevo rut desde rut1 ojooooooo\n",
    "Pacientes_Archivo[\"rut\"] = Pacientes_Archivo[\"rut\"].str.upper()\n",
    "Pacientes_Archivo[\"rut\"] = Pacientes_Archivo[\"rut\"].astype(str)\n",
    "Pacientes_Archivo[\"rut\"] = Pacientes_Archivo[\"rut\"].str.strip()\n"
   ]
  }
 ],
 "metadata": {
  "kernelspec": {
   "display_name": "salesforce",
   "language": "python",
   "name": "python3"
  },
  "language_info": {
   "codemirror_mode": {
    "name": "ipython",
    "version": 3
   },
   "file_extension": ".py",
   "mimetype": "text/x-python",
   "name": "python",
   "nbconvert_exporter": "python",
   "pygments_lexer": "ipython3",
   "version": "3.8.16"
  },
  "orig_nbformat": 4
 },
 "nbformat": 4,
 "nbformat_minor": 2
}
