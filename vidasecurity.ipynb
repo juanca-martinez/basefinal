{
 "cells": [
  {
   "cell_type": "code",
   "execution_count": 11,
   "metadata": {},
   "outputs": [],
   "source": [
    "import pandas as pd\n",
    "import numpy as np\n",
    "from sqlalchemy import create_engine\n",
    "import matplotlib.pyplot as plt "
   ]
  },
  {
   "cell_type": "code",
   "execution_count": 12,
   "metadata": {},
   "outputs": [],
   "source": [
    "usuario = 'siempreread'\n",
    "contrasena = 'S13mpr3_Ch1l3'\n",
    "url_servidor = '209.151.148.250'\n",
    "puerto = '3306'\n",
    "esquema = 'EspoCRM2'\n",
    "plugin_autenticacion = 'mysql_native_password'\n",
    "\n",
    "#usuario = 'care_consulta'\n",
    "#contrasena = 'CareAssistance!10'\n",
    "#url_servidor = '10.0.10.22'\n",
    "\n",
    "# Conexión a la base de datos\n",
    "\n",
    "c_conexion = 'mysql+mysqlconnector://{0}:{1}@{2}:{3}/{4}?auth_plugin={5}'\n",
    "c_conexion = c_conexion.format(usuario, contrasena, url_servidor, puerto,\n",
    "                               esquema, plugin_autenticacion)\n",
    "motor_mysql_mariadb = create_engine(c_conexion)\n",
    "\n",
    "\n",
    "#archivo de salida modificar segun archivo\n",
    "#archivo = 'C:/Users/jmartinez/Desktop/casos nuevos/clientes/1/casos_faltantes_segun_archivo.xlsx'"
   ]
  },
  {
   "cell_type": "code",
   "execution_count": 13,
   "metadata": {},
   "outputs": [
    {
     "data": {
      "text/plain": [
       "(36828, 63)"
      ]
     },
     "execution_count": 13,
     "metadata": {},
     "output_type": "execute_result"
    }
   ],
   "source": [
    "#ojo modificar año de la tabla  para ver bien los datos\n",
    "\n",
    "sql = \"SELECT * FROM EspoCRM2.contact where campana_paciente like '%vida security%' and active = 1 and relacion_con_asegurado = 'AS' group by rut_asegurado\"\n",
    "#dataframe desde consulta SQL ######   and month(created_at) = 6 ################and year(created_at) = 2022 and month(created_at) = 9\n",
    "datos = pd.read_sql_query(sql, motor_mysql_mariadb)\n",
    "datos.shape"
   ]
  },
  {
   "cell_type": "code",
   "execution_count": 14,
   "metadata": {},
   "outputs": [],
   "source": [
    "ruts_cargados = \"C:/Users/jmartinez/Documents/vidasecurity/nomina_final.xlsx\"\n",
    "vidasecurity = pd.read_excel(ruts_cargados)"
   ]
  },
  {
   "cell_type": "code",
   "execution_count": 15,
   "metadata": {},
   "outputs": [],
   "source": [
    "datos['rut_asegurado'] = datos['rut_asegurado'].astype(str).str.lower().str.strip()\n",
    "vidasecurity['RUT'] = vidasecurity['RUT'].astype(str).str.lower().str.strip()\n",
    "\n",
    "vidasecurity['seencuentra']  = vidasecurity['RUT'].isin(datos['rut_asegurado'])\n"
   ]
  },
  {
   "cell_type": "code",
   "execution_count": 16,
   "metadata": {},
   "outputs": [],
   "source": [
    "vidasecurity.head()\n",
    "vidasecurity.to_excel(\"C:/Users/jmartinez/Documents/vidasecurity/nomina_final_vidasecurity.xlsx\",index=False,sheet_name='Vidasecurity')"
   ]
  },
  {
   "cell_type": "code",
   "execution_count": 18,
   "metadata": {},
   "outputs": [],
   "source": [
    "datos['check'] = datos['rut_asegurado'].isin(vidasecurity['RUT'])\n",
    "datos.to_excel(\"C:/Users/jmartinez/Documents/vidasecurity/Vidasecurity_activosenCare.xlsx\",index=False,sheet_name='Vidasecurity')"
   ]
  }
 ],
 "metadata": {
  "kernelspec": {
   "display_name": "Python 3.10.6 ('Mito')",
   "language": "python",
   "name": "python3"
  },
  "language_info": {
   "codemirror_mode": {
    "name": "ipython",
    "version": 3
   },
   "file_extension": ".py",
   "mimetype": "text/x-python",
   "name": "python",
   "nbconvert_exporter": "python",
   "pygments_lexer": "ipython3",
   "version": "3.10.6 | packaged by conda-forge | (main, Oct  7 2022, 20:14:50) [MSC v.1916 64 bit (AMD64)]"
  },
  "orig_nbformat": 4,
  "vscode": {
   "interpreter": {
    "hash": "8ca7c6c0b372e79d1b046e97089bf0eca059102913bf5fbce589f25f1f28c438"
   }
  }
 },
 "nbformat": 4,
 "nbformat_minor": 2
}
