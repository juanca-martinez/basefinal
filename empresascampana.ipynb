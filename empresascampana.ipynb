{
 "cells": [
  {
   "cell_type": "code",
   "execution_count": 31,
   "metadata": {},
   "outputs": [],
   "source": [
    "import encodings\n",
    "import pandas as pd\n",
    "import numpy as np\n",
    "from sqlalchemy import create_engine\n",
    "import openpyxl"
   ]
  },
  {
   "cell_type": "code",
   "execution_count": 32,
   "metadata": {},
   "outputs": [
    {
     "name": "stderr",
     "output_type": "stream",
     "text": [
      "C:\\Users\\jmartinez\\AppData\\Local\\Temp\\ipykernel_1584\\3303049263.py:6: SettingWithCopyWarning: \n",
      "A value is trying to be set on a copy of a slice from a DataFrame.\n",
      "Try using .loc[row_indexer,col_indexer] = value instead\n",
      "\n",
      "See the caveats in the documentation: https://pandas.pydata.org/pandas-docs/stable/user_guide/indexing.html#returning-a-view-versus-a-copy\n",
      "  df2['numeros'] = 1\n"
     ]
    },
    {
     "data": {
      "text/html": [
       "<div><div id=e132baae-9323-4e57-ba61-3b0b949c94a6 style=\"display:none; background-color:#9D6CFF; color:white; width:200px; height:30px; padding-left:5px; border-radius:4px; flex-direction:row; justify-content:space-around; align-items:center;\" onmouseover=\"this.style.backgroundColor='#BA9BF8'\" onmouseout=\"this.style.backgroundColor='#9D6CFF'\" onclick=\"window.commands?.execute('create-mitosheet-from-dataframe-output');\">See Full Dataframe in Mito</div> <script> if (window.commands?.hasCommand('create-mitosheet-from-dataframe-output')) document.getElementById('e132baae-9323-4e57-ba61-3b0b949c94a6').style.display = 'flex' </script> <table border=\"1\" class=\"dataframe\">\n",
       "  <thead>\n",
       "    <tr style=\"text-align: right;\">\n",
       "      <th></th>\n",
       "      <th>empleador</th>\n",
       "      <th>campana_paciente</th>\n",
       "      <th>holding</th>\n",
       "      <th>numeros</th>\n",
       "    </tr>\n",
       "  </thead>\n",
       "  <tbody>\n",
       "    <tr>\n",
       "      <th>0</th>\n",
       "      <td>Vulco</td>\n",
       "      <td>3Sp</td>\n",
       "      <td>Holding 3SP</td>\n",
       "      <td>1</td>\n",
       "    </tr>\n",
       "    <tr>\n",
       "      <th>1</th>\n",
       "      <td>Vulco S.A.</td>\n",
       "      <td>Metlife</td>\n",
       "      <td>Vulco</td>\n",
       "      <td>1</td>\n",
       "    </tr>\n",
       "    <tr>\n",
       "      <th>2</th>\n",
       "      <td>Farmacias Cruz Verde</td>\n",
       "      <td>Farmacias Cruz Verde</td>\n",
       "      <td>Holding FARMACIAS CRUZ VERDE</td>\n",
       "      <td>1</td>\n",
       "    </tr>\n",
       "    <tr>\n",
       "      <th>3</th>\n",
       "      <td>Besalco Maquinarias S.A.</td>\n",
       "      <td>Metlife</td>\n",
       "      <td>Holding METLIFE</td>\n",
       "      <td>1</td>\n",
       "    </tr>\n",
       "    <tr>\n",
       "      <th>4</th>\n",
       "      <td>Farmacias Cruz Verde</td>\n",
       "      <td>Farmacias Cruz Verde</td>\n",
       "      <td>Holding FARMACIAS CRUZ VERDE</td>\n",
       "      <td>1</td>\n",
       "    </tr>\n",
       "    <tr>\n",
       "      <th>5</th>\n",
       "      <td>Asociacion Chilena De Seguridad</td>\n",
       "      <td>Metlife</td>\n",
       "      <td>Holding METLIFE</td>\n",
       "      <td>1</td>\n",
       "    </tr>\n",
       "    <tr>\n",
       "      <th>6</th>\n",
       "      <td>Ey</td>\n",
       "      <td>Ey</td>\n",
       "      <td>Holding EY</td>\n",
       "      <td>1</td>\n",
       "    </tr>\n",
       "    <tr>\n",
       "      <th>7</th>\n",
       "      <td>Manufacturas Metalurgicas Rheem Chilena</td>\n",
       "      <td>Metlife</td>\n",
       "      <td>Holding METLIFE</td>\n",
       "      <td>1</td>\n",
       "    </tr>\n",
       "    <tr>\n",
       "      <th>8</th>\n",
       "      <td>Rheem</td>\n",
       "      <td>Consorcio</td>\n",
       "      <td>Holding BURGOS - CONSORCIO</td>\n",
       "      <td>1</td>\n",
       "    </tr>\n",
       "    <tr>\n",
       "      <th>9</th>\n",
       "      <td>Serv.Bienestar Manuf.Metalurgicas Rheem</td>\n",
       "      <td>Consorcio</td>\n",
       "      <td>Holding BURGOS - CONSORCIO</td>\n",
       "      <td>1</td>\n",
       "    </tr>\n",
       "  </tbody>\n",
       "</table></div>"
      ],
      "text/plain": [
       "                                 empleador      campana_paciente  \\\n",
       "0                                    Vulco                   3Sp   \n",
       "1                               Vulco S.A.               Metlife   \n",
       "2                     Farmacias Cruz Verde  Farmacias Cruz Verde   \n",
       "3                 Besalco Maquinarias S.A.               Metlife   \n",
       "4                     Farmacias Cruz Verde  Farmacias Cruz Verde   \n",
       "5          Asociacion Chilena De Seguridad               Metlife   \n",
       "6                                       Ey                    Ey   \n",
       "7  Manufacturas Metalurgicas Rheem Chilena               Metlife   \n",
       "8                                    Rheem             Consorcio   \n",
       "9  Serv.Bienestar Manuf.Metalurgicas Rheem             Consorcio   \n",
       "\n",
       "                        holding  numeros  \n",
       "0                   Holding 3SP        1  \n",
       "1                         Vulco        1  \n",
       "2  Holding FARMACIAS CRUZ VERDE        1  \n",
       "3               Holding METLIFE        1  \n",
       "4  Holding FARMACIAS CRUZ VERDE        1  \n",
       "5               Holding METLIFE        1  \n",
       "6                    Holding EY        1  \n",
       "7               Holding METLIFE        1  \n",
       "8    Holding BURGOS - CONSORCIO        1  \n",
       "9    Holding BURGOS - CONSORCIO        1  "
      ]
     },
     "execution_count": 32,
     "metadata": {},
     "output_type": "execute_result"
    }
   ],
   "source": [
    "archivo2 = 'C:/Users/jmartinez/Desktop/casos nuevos/clientes/2/terminado_empresas.xlsx'\n",
    "archivo3 = 'C:/Users/jmartinez/Desktop/casos nuevos/clientes/2/empresas_francisca.xlsx'\n",
    "\n",
    "df = pd.read_excel(archivo2)\n",
    "df2 = df[['empleador','campana_paciente','holding']]\n",
    "df2['numeros'] = 1\n",
    "\n",
    "\n",
    "df2.head(10)"
   ]
  },
  {
   "cell_type": "code",
   "execution_count": 33,
   "metadata": {},
   "outputs": [
    {
     "name": "stdout",
     "output_type": "stream",
     "text": [
      "campana_paciente  empleador                  numeros\n",
      "3Sp               Amicar                     1           1\n",
      "                  Vulco                      1          12\n",
      "Bci               Bci                        1           1\n",
      "                  Bci Vida                   1           1\n",
      "                  Cenim                      1           1\n",
      "                                                        ..\n",
      "Vida Security     Tuniche Fruits Ltda.       1           1\n",
      "                  Vida Security              1           1\n",
      "Vidacel           Vidacel                    1           1\n",
      "Zurich            Antofagasta Minerals S.A.  1           2\n",
      "                  Tecrein Spa.               1           1\n",
      "Name: numeros, Length: 256, dtype: int64\n"
     ]
    }
   ],
   "source": [
    "#derty = pd.DataFrame()\n",
    "\n",
    "deff = df2.groupby(by = ['campana_paciente','empleador']).numeros.value_counts()\n",
    "print(deff)\n"
   ]
  },
  {
   "cell_type": "code",
   "execution_count": 34,
   "metadata": {},
   "outputs": [
    {
     "data": {
      "text/plain": [
       "campana_paciente  empleador  numeros\n",
       "3Sp               Amicar     1           1\n",
       "                  Vulco      1          12\n",
       "Bci               Bci        1           1\n",
       "                  Bci Vida   1           1\n",
       "                  Cenim      1           1\n",
       "Name: numeros, dtype: int64"
      ]
     },
     "execution_count": 34,
     "metadata": {},
     "output_type": "execute_result"
    }
   ],
   "source": [
    "deff.head()\n"
   ]
  },
  {
   "cell_type": "code",
   "execution_count": 35,
   "metadata": {},
   "outputs": [],
   "source": [
    "deff.to_excel(archivo3)"
   ]
  }
 ],
 "metadata": {
  "kernelspec": {
   "display_name": "Python 3.10.6 ('Mito')",
   "language": "python",
   "name": "python3"
  },
  "language_info": {
   "codemirror_mode": {
    "name": "ipython",
    "version": 3
   },
   "file_extension": ".py",
   "mimetype": "text/x-python",
   "name": "python",
   "nbconvert_exporter": "python",
   "pygments_lexer": "ipython3",
   "version": "3.10.6"
  },
  "orig_nbformat": 4,
  "vscode": {
   "interpreter": {
    "hash": "8ca7c6c0b372e79d1b046e97089bf0eca059102913bf5fbce589f25f1f28c438"
   }
  }
 },
 "nbformat": 4,
 "nbformat_minor": 2
}
