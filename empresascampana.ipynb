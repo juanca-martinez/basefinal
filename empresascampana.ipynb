{
 "cells": [
  {
   "cell_type": "code",
   "execution_count": 75,
   "metadata": {},
   "outputs": [],
   "source": [
    "import encodings\n",
    "import pandas as pd\n",
    "import numpy as np\n",
    "from sqlalchemy import create_engine\n",
    "import openpyxl"
   ]
  },
  {
   "cell_type": "code",
   "execution_count": 79,
   "metadata": {},
   "outputs": [
    {
     "data": {
      "text/html": [
       "<div><div id=80446b32-e19f-4f05-8792-57aa20c11999 style=\"display:none; background-color:#9D6CFF; color:white; width:200px; height:30px; padding-left:5px; border-radius:4px; flex-direction:row; justify-content:space-around; align-items:center;\" onmouseover=\"this.style.backgroundColor='#BA9BF8'\" onmouseout=\"this.style.backgroundColor='#9D6CFF'\" onclick=\"window.commands?.execute('create-mitosheet-from-dataframe-output');\">See Full Dataframe in Mito</div> <script> if (window.commands?.hasCommand('create-mitosheet-from-dataframe-output')) document.getElementById('80446b32-e19f-4f05-8792-57aa20c11999').style.display = 'flex' </script> <table border=\"1\" class=\"dataframe\">\n",
       "  <thead>\n",
       "    <tr style=\"text-align: right;\">\n",
       "      <th></th>\n",
       "      <th>campana_paciente</th>\n",
       "      <th>holding</th>\n",
       "      <th>empleador</th>\n",
       "      <th>convenio</th>\n",
       "      <th>numeros</th>\n",
       "    </tr>\n",
       "  </thead>\n",
       "  <tbody>\n",
       "    <tr>\n",
       "      <th>0</th>\n",
       "      <td>VIDA SECURITY</td>\n",
       "      <td>Aconcagua</td>\n",
       "      <td>Aconcagua Gestion Inmobiliaria S.A.</td>\n",
       "      <td>telemedicina - asistencia emocional - asistencia nutricional</td>\n",
       "      <td>1</td>\n",
       "    </tr>\n",
       "    <tr>\n",
       "      <th>1</th>\n",
       "      <td>VIDA SECURITY</td>\n",
       "      <td>Aconcagua</td>\n",
       "      <td>Aconcagua Gestion Inmobiliaria S.A.</td>\n",
       "      <td>telemedicina - asistencia emocional - asistencia nutricional</td>\n",
       "      <td>1</td>\n",
       "    </tr>\n",
       "    <tr>\n",
       "      <th>2</th>\n",
       "      <td>VIDA SECURITY</td>\n",
       "      <td>Aconcagua</td>\n",
       "      <td>Aconcagua Gestion Inmobiliaria S.A.</td>\n",
       "      <td>telemedicina - asistencia emocional - asistencia nutricional</td>\n",
       "      <td>1</td>\n",
       "    </tr>\n",
       "    <tr>\n",
       "      <th>3</th>\n",
       "      <td>VIDA SECURITY</td>\n",
       "      <td>Aconcagua</td>\n",
       "      <td>Aconcagua Gestion Inmobiliaria S.A.</td>\n",
       "      <td>telemedicina - asistencia emocional - asistencia nutricional</td>\n",
       "      <td>1</td>\n",
       "    </tr>\n",
       "    <tr>\n",
       "      <th>4</th>\n",
       "      <td>VIDA SECURITY</td>\n",
       "      <td>Aconcagua</td>\n",
       "      <td>Salfacorp S.A.</td>\n",
       "      <td>telemedicina - asistencia emocional - asistencia nutricional</td>\n",
       "      <td>1</td>\n",
       "    </tr>\n",
       "    <tr>\n",
       "      <th>5</th>\n",
       "      <td>VIDA SECURITY</td>\n",
       "      <td>Aconcagua</td>\n",
       "      <td>Salfacorp S.A.</td>\n",
       "      <td>telemedicina - asistencia emocional - asistencia nutricional</td>\n",
       "      <td>1</td>\n",
       "    </tr>\n",
       "    <tr>\n",
       "      <th>6</th>\n",
       "      <td>VIDA SECURITY</td>\n",
       "      <td>Aconcagua</td>\n",
       "      <td>Salfacorp S.A.</td>\n",
       "      <td>telemedicina - asistencia emocional - asistencia nutricional</td>\n",
       "      <td>1</td>\n",
       "    </tr>\n",
       "    <tr>\n",
       "      <th>7</th>\n",
       "      <td>VIDA SECURITY</td>\n",
       "      <td>Aconcagua</td>\n",
       "      <td>Salfacorp S.A.</td>\n",
       "      <td>telemedicina - asistencia emocional - asistencia nutricional</td>\n",
       "      <td>1</td>\n",
       "    </tr>\n",
       "    <tr>\n",
       "      <th>8</th>\n",
       "      <td>VIDA SECURITY</td>\n",
       "      <td>Aconcagua</td>\n",
       "      <td>Salfacorp S.A.</td>\n",
       "      <td>telemedicina - asistencia emocional - asistencia nutricional</td>\n",
       "      <td>1</td>\n",
       "    </tr>\n",
       "    <tr>\n",
       "      <th>9</th>\n",
       "      <td>VIDA SECURITY</td>\n",
       "      <td>Aconcagua</td>\n",
       "      <td>Aconcagua Gestion Inmobiliaria S.A.</td>\n",
       "      <td>telemedicina - asistencia emocional - asistencia nutricional</td>\n",
       "      <td>1</td>\n",
       "    </tr>\n",
       "  </tbody>\n",
       "</table></div>"
      ],
      "text/plain": [
       "  campana_paciente    holding                            empleador  \\\n",
       "0    VIDA SECURITY  Aconcagua  Aconcagua Gestion Inmobiliaria S.A.   \n",
       "1    VIDA SECURITY  Aconcagua  Aconcagua Gestion Inmobiliaria S.A.   \n",
       "2    VIDA SECURITY  Aconcagua  Aconcagua Gestion Inmobiliaria S.A.   \n",
       "3    VIDA SECURITY  Aconcagua  Aconcagua Gestion Inmobiliaria S.A.   \n",
       "4    VIDA SECURITY  Aconcagua                       Salfacorp S.A.   \n",
       "5    VIDA SECURITY  Aconcagua                       Salfacorp S.A.   \n",
       "6    VIDA SECURITY  Aconcagua                       Salfacorp S.A.   \n",
       "7    VIDA SECURITY  Aconcagua                       Salfacorp S.A.   \n",
       "8    VIDA SECURITY  Aconcagua                       Salfacorp S.A.   \n",
       "9    VIDA SECURITY  Aconcagua  Aconcagua Gestion Inmobiliaria S.A.   \n",
       "\n",
       "                                            convenio  numeros  \n",
       "0  telemedicina - asistencia emocional - asistenc...        1  \n",
       "1  telemedicina - asistencia emocional - asistenc...        1  \n",
       "2  telemedicina - asistencia emocional - asistenc...        1  \n",
       "3  telemedicina - asistencia emocional - asistenc...        1  \n",
       "4  telemedicina - asistencia emocional - asistenc...        1  \n",
       "5  telemedicina - asistencia emocional - asistenc...        1  \n",
       "6  telemedicina - asistencia emocional - asistenc...        1  \n",
       "7  telemedicina - asistencia emocional - asistenc...        1  \n",
       "8  telemedicina - asistencia emocional - asistenc...        1  \n",
       "9  telemedicina - asistencia emocional - asistenc...        1  "
      ]
     },
     "execution_count": 79,
     "metadata": {},
     "output_type": "execute_result"
    }
   ],
   "source": [
    "archivo2 = 'C:/Users/jmartinez/Desktop/ver repetidas empresas/repetidas empresas en campaña.xlsx'\n",
    "archivo3 = 'C:/Users/jmartinez/Desktop/ver repetidas empresas/repetidas empresas en campaña2.xlsx'\n",
    "em2022 = pd.read_excel(archivo2)\n",
    "emm = pd.DataFrame(em2022)\n",
    "em2022.head(10)"
   ]
  },
  {
   "cell_type": "code",
   "execution_count": 80,
   "metadata": {},
   "outputs": [
    {
     "data": {
      "text/html": [
       "<div><div id=06d8fcf6-0f2d-45f2-b726-3f9d15b963fe style=\"display:none; background-color:#9D6CFF; color:white; width:200px; height:30px; padding-left:5px; border-radius:4px; flex-direction:row; justify-content:space-around; align-items:center;\" onmouseover=\"this.style.backgroundColor='#BA9BF8'\" onmouseout=\"this.style.backgroundColor='#9D6CFF'\" onclick=\"window.commands?.execute('create-mitosheet-from-dataframe-output');\">See Full Dataframe in Mito</div> <script> if (window.commands?.hasCommand('create-mitosheet-from-dataframe-output')) document.getElementById('06d8fcf6-0f2d-45f2-b726-3f9d15b963fe').style.display = 'flex' </script> <table border=\"1\" class=\"dataframe\">\n",
       "  <thead>\n",
       "    <tr style=\"text-align: right;\">\n",
       "      <th></th>\n",
       "      <th>campana_paciente</th>\n",
       "      <th>holding</th>\n",
       "      <th>empleador</th>\n",
       "      <th>convenio</th>\n",
       "      <th>numeros</th>\n",
       "    </tr>\n",
       "  </thead>\n",
       "  <tbody>\n",
       "    <tr>\n",
       "      <th>0</th>\n",
       "      <td>VIDA SECURITY</td>\n",
       "      <td>Aconcagua</td>\n",
       "      <td>Aconcagua Gestion Inmobiliaria S.A.</td>\n",
       "      <td>telemedicina - asistencia emocional - asistencia nutricional</td>\n",
       "      <td>1</td>\n",
       "    </tr>\n",
       "    <tr>\n",
       "      <th>1</th>\n",
       "      <td>VIDA SECURITY</td>\n",
       "      <td>Aconcagua</td>\n",
       "      <td>Aconcagua Gestion Inmobiliaria S.A.</td>\n",
       "      <td>telemedicina - asistencia emocional - asistencia nutricional</td>\n",
       "      <td>1</td>\n",
       "    </tr>\n",
       "    <tr>\n",
       "      <th>2</th>\n",
       "      <td>VIDA SECURITY</td>\n",
       "      <td>Aconcagua</td>\n",
       "      <td>Aconcagua Gestion Inmobiliaria S.A.</td>\n",
       "      <td>telemedicina - asistencia emocional - asistencia nutricional</td>\n",
       "      <td>1</td>\n",
       "    </tr>\n",
       "    <tr>\n",
       "      <th>3</th>\n",
       "      <td>VIDA SECURITY</td>\n",
       "      <td>Aconcagua</td>\n",
       "      <td>Aconcagua Gestion Inmobiliaria S.A.</td>\n",
       "      <td>telemedicina - asistencia emocional - asistencia nutricional</td>\n",
       "      <td>1</td>\n",
       "    </tr>\n",
       "    <tr>\n",
       "      <th>4</th>\n",
       "      <td>VIDA SECURITY</td>\n",
       "      <td>Aconcagua</td>\n",
       "      <td>Salfacorp S.A.</td>\n",
       "      <td>telemedicina - asistencia emocional - asistencia nutricional</td>\n",
       "      <td>1</td>\n",
       "    </tr>\n",
       "  </tbody>\n",
       "</table></div>"
      ],
      "text/plain": [
       "  campana_paciente    holding                            empleador  \\\n",
       "0    VIDA SECURITY  Aconcagua  Aconcagua Gestion Inmobiliaria S.A.   \n",
       "1    VIDA SECURITY  Aconcagua  Aconcagua Gestion Inmobiliaria S.A.   \n",
       "2    VIDA SECURITY  Aconcagua  Aconcagua Gestion Inmobiliaria S.A.   \n",
       "3    VIDA SECURITY  Aconcagua  Aconcagua Gestion Inmobiliaria S.A.   \n",
       "4    VIDA SECURITY  Aconcagua                       Salfacorp S.A.   \n",
       "\n",
       "                                            convenio  numeros  \n",
       "0  telemedicina - asistencia emocional - asistenc...        1  \n",
       "1  telemedicina - asistencia emocional - asistenc...        1  \n",
       "2  telemedicina - asistencia emocional - asistenc...        1  \n",
       "3  telemedicina - asistencia emocional - asistenc...        1  \n",
       "4  telemedicina - asistencia emocional - asistenc...        1  "
      ]
     },
     "execution_count": 80,
     "metadata": {},
     "output_type": "execute_result"
    }
   ],
   "source": [
    "emm.head()"
   ]
  },
  {
   "cell_type": "code",
   "execution_count": 110,
   "metadata": {},
   "outputs": [
    {
     "name": "stdout",
     "output_type": "stream",
     "text": [
      "empleador                            campana_paciente  numeros\n",
      "2080 Sistemas Y Servicios Ltda.      METLIFE           1          474\n",
      "Abu-Gosch Y Cia Ltda.                METLIFE           1          244\n",
      "Achap                                METLIFE           1          368\n",
      "Aconcagua Gestion Inmobiliaria S.A.  VIDA SECURITY     1          446\n",
      "Aconcagua Terreno Y Desarrollo S.A.  VIDA SECURITY     1           33\n",
      "                                                                 ... \n",
      "World Survey Services S.A.           METLIFE           1          466\n",
      "Worley Chile S.A.                    METLIFE           1          393\n",
      "Worleyparsons                        METLIFE           1           81\n",
      "Wsp Consulting Chile Ltda.           METLIFE           1           74\n",
      "Xtreme Mining Ltda.                  METLIFE           1          980\n",
      "Name: numeros, Length: 396, dtype: int64\n"
     ]
    }
   ],
   "source": [
    "#derty = pd.DataFrame()\n",
    "deff =emm.groupby(by = ['empleador','campana_paciente']).numeros.value_counts()\n",
    "print(deff)\n"
   ]
  },
  {
   "cell_type": "code",
   "execution_count": 111,
   "metadata": {},
   "outputs": [
    {
     "data": {
      "text/plain": [
       "empleador                            campana_paciente  numeros\n",
       "2080 Sistemas Y Servicios Ltda.      METLIFE           1          474\n",
       "Abu-Gosch Y Cia Ltda.                METLIFE           1          244\n",
       "Achap                                METLIFE           1          368\n",
       "Aconcagua Gestion Inmobiliaria S.A.  VIDA SECURITY     1          446\n",
       "Aconcagua Terreno Y Desarrollo S.A.  VIDA SECURITY     1           33\n",
       "Name: numeros, dtype: int64"
      ]
     },
     "execution_count": 111,
     "metadata": {},
     "output_type": "execute_result"
    }
   ],
   "source": [
    "deff.head()\n"
   ]
  },
  {
   "cell_type": "code",
   "execution_count": 112,
   "metadata": {},
   "outputs": [],
   "source": [
    "deff.to_excel(archivo3)"
   ]
  }
 ],
 "metadata": {
  "kernelspec": {
   "display_name": "Python 3.10.6 ('Mito')",
   "language": "python",
   "name": "python3"
  },
  "language_info": {
   "codemirror_mode": {
    "name": "ipython",
    "version": 3
   },
   "file_extension": ".py",
   "mimetype": "text/x-python",
   "name": "python",
   "nbconvert_exporter": "python",
   "pygments_lexer": "ipython3",
   "version": "3.10.6"
  },
  "orig_nbformat": 4,
  "vscode": {
   "interpreter": {
    "hash": "8ca7c6c0b372e79d1b046e97089bf0eca059102913bf5fbce589f25f1f28c438"
   }
  }
 },
 "nbformat": 4,
 "nbformat_minor": 2
}
