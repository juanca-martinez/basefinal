{
 "cells": [
  {
   "cell_type": "code",
   "execution_count": 27,
   "metadata": {},
   "outputs": [],
   "source": [
    "import encodings\n",
    "import pandas as pd\n",
    "import numpy as np\n",
    "from sqlalchemy import create_engine\n",
    "import openpyxl"
   ]
  },
  {
   "cell_type": "code",
   "execution_count": 28,
   "metadata": {},
   "outputs": [
    {
     "name": "stderr",
     "output_type": "stream",
     "text": [
      "C:\\Users\\jmartinez\\AppData\\Local\\Temp\\ipykernel_21948\\970822129.py:6: SettingWithCopyWarning: \n",
      "A value is trying to be set on a copy of a slice from a DataFrame.\n",
      "Try using .loc[row_indexer,col_indexer] = value instead\n",
      "\n",
      "See the caveats in the documentation: https://pandas.pydata.org/pandas-docs/stable/user_guide/indexing.html#returning-a-view-versus-a-copy\n",
      "  df2['numeros'] = 1\n"
     ]
    },
    {
     "data": {
      "text/html": [
       "<div><div id=abe11f68-93ab-4a9f-a027-d6742f02e22f style=\"display:none; background-color:#9D6CFF; color:white; width:200px; height:30px; padding-left:5px; border-radius:4px; flex-direction:row; justify-content:space-around; align-items:center;\" onmouseover=\"this.style.backgroundColor='#BA9BF8'\" onmouseout=\"this.style.backgroundColor='#9D6CFF'\" onclick=\"window.commands?.execute('create-mitosheet-from-dataframe-output');\">See Full Dataframe in Mito</div> <script> if (window.commands?.hasCommand('create-mitosheet-from-dataframe-output')) document.getElementById('abe11f68-93ab-4a9f-a027-d6742f02e22f').style.display = 'flex' </script> <table border=\"1\" class=\"dataframe\">\n",
       "  <thead>\n",
       "    <tr style=\"text-align: right;\">\n",
       "      <th></th>\n",
       "      <th>empleador</th>\n",
       "      <th>campana_paciente</th>\n",
       "      <th>numeros</th>\n",
       "    </tr>\n",
       "  </thead>\n",
       "  <tbody>\n",
       "    <tr>\n",
       "      <th>0</th>\n",
       "      <td>Saesa</td>\n",
       "      <td>BCI</td>\n",
       "      <td>1</td>\n",
       "    </tr>\n",
       "    <tr>\n",
       "      <th>1</th>\n",
       "      <td>Worley Ingenieria Y Const Chile S.A.</td>\n",
       "      <td>METLIFE</td>\n",
       "      <td>1</td>\n",
       "    </tr>\n",
       "    <tr>\n",
       "      <th>2</th>\n",
       "      <td>Saesa</td>\n",
       "      <td>BCI</td>\n",
       "      <td>1</td>\n",
       "    </tr>\n",
       "    <tr>\n",
       "      <th>3</th>\n",
       "      <td>Parque Arauco S.A.</td>\n",
       "      <td>VIDA SECURITY</td>\n",
       "      <td>1</td>\n",
       "    </tr>\n",
       "    <tr>\n",
       "      <th>4</th>\n",
       "      <td>Parque Arauco S.A.</td>\n",
       "      <td>VIDA SECURITY</td>\n",
       "      <td>1</td>\n",
       "    </tr>\n",
       "    <tr>\n",
       "      <th>5</th>\n",
       "      <td>Enami</td>\n",
       "      <td>VIDA SECURITY</td>\n",
       "      <td>1</td>\n",
       "    </tr>\n",
       "    <tr>\n",
       "      <th>6</th>\n",
       "      <td>Rendic Hnos. S.A.</td>\n",
       "      <td>METLIFE</td>\n",
       "      <td>1</td>\n",
       "    </tr>\n",
       "    <tr>\n",
       "      <th>7</th>\n",
       "      <td>Aramark Serv. Mineros Y Remotos Ltda.</td>\n",
       "      <td>METLIFE</td>\n",
       "      <td>1</td>\n",
       "    </tr>\n",
       "    <tr>\n",
       "      <th>8</th>\n",
       "      <td>Super 10 S.A.</td>\n",
       "      <td>METLIFE</td>\n",
       "      <td>1</td>\n",
       "    </tr>\n",
       "    <tr>\n",
       "      <th>9</th>\n",
       "      <td>Caja De Compensacion De Asignacion Familiar De Los Andes</td>\n",
       "      <td>VIDA SECURITY</td>\n",
       "      <td>1</td>\n",
       "    </tr>\n",
       "  </tbody>\n",
       "</table></div>"
      ],
      "text/plain": [
       "                                           empleador campana_paciente  numeros\n",
       "0                                              Saesa              BCI        1\n",
       "1               Worley Ingenieria Y Const Chile S.A.          METLIFE        1\n",
       "2                                              Saesa              BCI        1\n",
       "3                                 Parque Arauco S.A.    VIDA SECURITY        1\n",
       "4                                 Parque Arauco S.A.    VIDA SECURITY        1\n",
       "5                                              Enami    VIDA SECURITY        1\n",
       "6                                  Rendic Hnos. S.A.          METLIFE        1\n",
       "7              Aramark Serv. Mineros Y Remotos Ltda.          METLIFE        1\n",
       "8                                      Super 10 S.A.          METLIFE        1\n",
       "9  Caja De Compensacion De Asignacion Familiar De...    VIDA SECURITY        1"
      ]
     },
     "execution_count": 28,
     "metadata": {},
     "output_type": "execute_result"
    }
   ],
   "source": [
    "archivo2 = 'C:/Users/jmartinez/Desktop/ultimo/Ultimo Ultimo/2022_final_chile.xlsx'\n",
    "archivo3 = 'C:/Users/jmartinez/Desktop/ver repetidas empresas/empresas2022_final.xlsx'\n",
    "\n",
    "df = pd.read_excel(archivo2)\n",
    "df2 = df[['empleador','campana_paciente']]\n",
    "df2['numeros'] = 1\n",
    "\n",
    "\n",
    "df2.head(10)"
   ]
  },
  {
   "cell_type": "code",
   "execution_count": 29,
   "metadata": {},
   "outputs": [
    {
     "name": "stdout",
     "output_type": "stream",
     "text": [
      "empleador                             campana_paciente  numeros\n",
      "2080 Sistemas Y Servicios Ltda.       METLIFE           1           225\n",
      "Abb S.A.                              VIDA SECURITY     1          1132\n",
      "Abu-Gosch Y Cia Ltda.                 METLIFE           1             2\n",
      "Achap                                 METLIFE           1           284\n",
      "Aconcagua Gestion Inmobiliaria S.A.   VIDA SECURITY     1            29\n",
      "                                                                   ... \n",
      "Worley Chile S.A.                     METLIFE           1             1\n",
      "Worley Ingenieria Y Const Chile S.A.  METLIFE           1          1221\n",
      "Worleyparsons                         METLIFE           1           134\n",
      "Wsp Consulting Chile Ltda.            METLIFE           1             1\n",
      "Xtreme Mining Ltda.                   METLIFE           1           909\n",
      "Name: numeros, Length: 558, dtype: int64\n"
     ]
    }
   ],
   "source": [
    "#derty = pd.DataFrame()\n",
    "\n",
    "deff = df2.groupby(by = ['empleador','campana_paciente']).numeros.value_counts()\n",
    "print(deff)\n"
   ]
  },
  {
   "cell_type": "code",
   "execution_count": 30,
   "metadata": {},
   "outputs": [
    {
     "data": {
      "text/plain": [
       "empleador                            campana_paciente  numeros\n",
       "2080 Sistemas Y Servicios Ltda.      METLIFE           1           225\n",
       "Abb S.A.                             VIDA SECURITY     1          1132\n",
       "Abu-Gosch Y Cia Ltda.                METLIFE           1             2\n",
       "Achap                                METLIFE           1           284\n",
       "Aconcagua Gestion Inmobiliaria S.A.  VIDA SECURITY     1            29\n",
       "Name: numeros, dtype: int64"
      ]
     },
     "execution_count": 30,
     "metadata": {},
     "output_type": "execute_result"
    }
   ],
   "source": [
    "deff.head()\n"
   ]
  },
  {
   "cell_type": "code",
   "execution_count": 31,
   "metadata": {},
   "outputs": [],
   "source": [
    "deff.to_excel(archivo3)"
   ]
  }
 ],
 "metadata": {
  "kernelspec": {
   "display_name": "Python 3.10.6 ('Mito')",
   "language": "python",
   "name": "python3"
  },
  "language_info": {
   "codemirror_mode": {
    "name": "ipython",
    "version": 3
   },
   "file_extension": ".py",
   "mimetype": "text/x-python",
   "name": "python",
   "nbconvert_exporter": "python",
   "pygments_lexer": "ipython3",
   "version": "3.10.6"
  },
  "orig_nbformat": 4,
  "vscode": {
   "interpreter": {
    "hash": "8ca7c6c0b372e79d1b046e97089bf0eca059102913bf5fbce589f25f1f28c438"
   }
  }
 },
 "nbformat": 4,
 "nbformat_minor": 2
}
