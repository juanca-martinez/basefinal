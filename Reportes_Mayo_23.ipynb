{
 "cells": [
  {
   "cell_type": "code",
   "execution_count": null,
   "metadata": {
    "notebookRunGroups": {
     "groupValue": "1"
    }
   },
   "outputs": [],
   "source": [
    "from pathlib import Path\n",
    "import requests\n",
    "import pandas as pd\n",
    "import numpy as np\n",
    "from io import StringIO\n",
    "from simple_salesforce import Salesforce\n",
    "import shutil\n",
    "import datetime\n",
    "from datetime import date\n",
    "\n",
    "\n",
    "sf = Salesforce(\n",
    "    username=\"jmartinez@careassistance.com\",\n",
    "    password=\"Jcmm010483\",\n",
    "    security_token=\"nc20DsgxOHWVR9OHZ78s7TRp\",\n",
    ")"
   ]
  },
  {
   "cell_type": "code",
   "execution_count": null,
   "metadata": {
    "notebookRunGroups": {
     "groupValue": "1"
    }
   },
   "outputs": [],
   "source": [
    "# Recuperar empresas ID de salesforce desde Account\n",
    "results = sf.query_all(\n",
    "    \"\"\"\n",
    "  select Id, name, Holding__c ,Campa_a__c,Id_Empresa__c,Empleador__c,poliza__c,Vigencia__c, Corredor__c,Pa_s_del_Paciente__c, Habilitado__c from account where ispersonaccount = false \n",
    "    \"\"\"\n",
    ")\n",
    "Empresas_SF = pd.DataFrame(results[\"records\"])\n",
    "Empresas_SF = Empresas_SF[\n",
    "    [\n",
    "        \"Id\",\n",
    "        \"Name\",\n",
    "        \"Holding__c\",\n",
    "        \"Campa_a__c\",\n",
    "        \"Id_Empresa__c\",\n",
    "        \"Empleador__c\",\n",
    "        \"poliza__c\",\n",
    "        \"Vigencia__c\",\n",
    "        \"Corredor__c\",\n",
    "        \"Pa_s_del_Paciente__c\",\n",
    "        \"Habilitado__c\",\n",
    "    ]\n",
    "]\n",
    "Empresas_SF.shape\n"
   ]
  },
  {
   "cell_type": "code",
   "execution_count": null,
   "metadata": {
    "notebookRunGroups": {
     "groupValue": "1"
    }
   },
   "outputs": [],
   "source": [
    "# buscar empresas desde Programas_por_Empresas__c datos de empresas\n",
    "results = sf.query_all(\n",
    "    \"\"\"\n",
    "   select Id,Empresa__c, Empresa_Padre__c,Nombre_Empresa__c, Name  from Programas_por_Empresas__c \n",
    "    \"\"\"\n",
    ")\n",
    "Programas_por_empresa_SF = pd.DataFrame(results[\"records\"])\n",
    "\n",
    "Programas_por_empresa_SF = Programas_por_empresa_SF[\n",
    "    [\"Id\", \"Empresa__c\", \"Empresa_Padre__c\", \"Nombre_Empresa__c\", \"Name\"]\n",
    "]\n",
    "Programas_por_empresa_SF.shape\n"
   ]
  },
  {
   "cell_type": "code",
   "execution_count": null,
   "metadata": {
    "notebookRunGroups": {
     "groupValue": "1"
    }
   },
   "outputs": [],
   "source": [
    "# Union de Programas Empresa y empresas\n",
    "Programas_empresas = pd.merge(\n",
    "    left=Empresas_SF,\n",
    "    right=Programas_por_empresa_SF,\n",
    "    how=\"left\",\n",
    "    left_on=\"Id\",\n",
    "    right_on=\"Empresa__c\",\n",
    ")\n",
    "Programas_empresas.shape"
   ]
  },
  {
   "cell_type": "code",
   "execution_count": null,
   "metadata": {
    "notebookRunGroups": {
     "groupValue": "1"
    }
   },
   "outputs": [],
   "source": [
    "Programas_empresas = Programas_empresas.rename(\n",
    "    columns={\n",
    "        \"Id_x\": \"Id Account Empresa\",\n",
    "        \"Name_x\": \"Nombre Empresa\",\n",
    "        \"Empleador__c\": \"Empleador\",\n",
    "        \"Holding__c\": \"Holding\",\n",
    "        \"Campa_a__c\": \"Campaña\",\n",
    "        \"poliza__c\": \"Poliza\",\n",
    "        \"Id_y\": \"Programas_por_Empresas__c\",\n",
    "        \"Id_Empresa__c\": \"Codigo EMP\",\n",
    "        \"Name_y\": \"Codigo A\",\n",
    "        \"Vigencia__c\": \"Vigente\",\n",
    "        \"Corredor__c\": \"Corredor\",\n",
    "        \"Pa_s_del_Paciente__c\": \"Pais\",\n",
    "        \"Habilitado__c\": \"Habilitado\",\n",
    "    }\n",
    ")\n",
    "Programas_empresas = Programas_empresas[\n",
    "    [\n",
    "        \"Id Account Empresa\",\n",
    "        \"Nombre Empresa\",\n",
    "        \"Empleador\",\n",
    "        \"Holding\",\n",
    "        \"Campaña\",\n",
    "        \"Poliza\",\n",
    "        \"Programas_por_Empresas__c\",\n",
    "        \"Codigo EMP\",\n",
    "        \"Codigo A\",\n",
    "        \"Vigente\",\n",
    "        \"Corredor\",\n",
    "        \"Pais\",\n",
    "        \"Habilitado\",\n",
    "    ]\n",
    "]"
   ]
  },
  {
   "cell_type": "code",
   "execution_count": null,
   "metadata": {
    "notebookRunGroups": {
     "groupValue": "1"
    }
   },
   "outputs": [],
   "source": [
    "Programas_empresas.to_excel(\"C:/Users/jmartinez/Documents/Empresas2.xlsx\", index=False)\n",
    "# .to_excel(\"F:/Empresas SF/reportes/empresas2.xlsx\", index=False)\n",
    "Programas_empresas.head()"
   ]
  },
  {
   "attachments": {},
   "cell_type": "markdown",
   "metadata": {},
   "source": [
    "Finalizacion de Recorrido por las empresas\n",
    "\n",
    "Ahora comienza la recoleccion de las fichas y sus datos\n"
   ]
  },
  {
   "cell_type": "code",
   "execution_count": null,
   "metadata": {},
   "outputs": [],
   "source": [
    "# Citas de Servicio\n",
    "results = sf.query_all(\n",
    "    \"\"\"\n",
    "    SELECT Id, clinica__c,AccountId,CreatedDate,RUT__c,Work_TypeGroup__c,Status,Interacci_n__c,AppointmentNumber,Tipo_de_la_cita__c,Empresa__c,Empresa_Principal__c from ServiceAppointment\n",
    "    \"\"\"\n",
    ")\n",
    "Citas_de_servicio = pd.DataFrame(results[\"records\"])\n",
    "# itas_de_servicio[\"Empresas\"] = np.nan\n",
    "# Citas_de_servicio['RUT__c'].map(pacientessf_empresas.set_index('IdentificationId__pc_x',verify_integrity=False)['Name'])\n",
    "# Citas_de_servicio[\"Empresas Id\"] = np.nan\n",
    "Citas_de_servicio = Citas_de_servicio[\n",
    "    [\n",
    "        \"AppointmentNumber\",\n",
    "        \"RUT__c\",\n",
    "        \"CreatedDate\",\n",
    "        \"Tipo_de_la_cita__c\",\n",
    "        \"AccountId\",\n",
    "        \"Clinica__c\",\n",
    "        \"Empresa__c\",\n",
    "        \"Empresa_Principal__c\",\n",
    "    ]\n",
    "]\n",
    "Citas_de_servicio[\"AppointmentNumber\"] = \"F\" + Citas_de_servicio[\"AppointmentNumber\"]\n",
    "\n",
    "Citas_de_servicio.head()"
   ]
  },
  {
   "cell_type": "code",
   "execution_count": null,
   "metadata": {},
   "outputs": [],
   "source": [
    "# Citas de Servicio Orientacion\n",
    "results = sf.query_all(\n",
    "    \"\"\"\n",
    "    SELECT Id, AccountId,CreatedDate,RUT__c,WorkTypeId,Work_TypeGroup__c,Status,Interacci_n__c,Tipo_de_la_cita__c,AppointmentNumber,Empresa__c,Empresa_Principal__c from ServiceAppointment\n",
    "    \"\"\"\n",
    ")\n",
    "Citas_de_servicio2 = pd.DataFrame(results[\"records\"])\n",
    "Citas_de_servicio2[\"Clinica__c\"] = \"Orientación Médica\"\n",
    "Citas_de_servicio2[\"Tipo_de_la_cita__c\"] = \"Agendamiento\"\n",
    "# Citas_de_servicio2[\"Empresas\"] = np.nan\n",
    "# Citas_de_servicio2[\"Empresas Id\"] = np.nan\n",
    "Citas_de_servicio2 = Citas_de_servicio2[\n",
    "    [\n",
    "        \"AppointmentNumber\",\n",
    "        \"RUT__c\",\n",
    "        \"CreatedDate\",\n",
    "        \"Tipo_de_la_cita__c\",\n",
    "        \"AccountId\",\n",
    "        \"Clinica__c\",\n",
    "        \"Empresa__c\",\n",
    "        \"Empresa_Principal__c\",\n",
    "    ]\n",
    "]\n",
    "Citas_de_servicio2.head(10)"
   ]
  },
  {
   "cell_type": "code",
   "execution_count": null,
   "metadata": {},
   "outputs": [],
   "source": [
    "# unir dos citas\n",
    "Gran_Citas_deservicio = pd.concat([Citas_de_servicio, Citas_de_servicio2], axis=0)\n",
    "Gran_Citas_deservicio = Gran_Citas_deservicio.rename(\n",
    "    columns={\n",
    "        \"AppointmentNumber\": \"Codigo Ficha\",\n",
    "        \"RUT__c\": \"Rut\",\n",
    "        \"Empresas\": \"Empleador\",\n",
    "        \"CreatedDate\": \"Fecha\",\n",
    "        \"Tipo_de_la_cita__c\": \"Canal\",\n",
    "        \"AccountId\": \"Id Paciente\",\n",
    "        \"Clinica__c\": \"Clínica\",\n",
    "        \"Empresa__c\": \"Empresas\",\n",
    "        \"Empresa_Principal__c\": \"Id Empresa Account\",\n",
    "    }\n",
    ")\n",
    "\n",
    "Gran_Citas_deservicio"
   ]
  },
  {
   "cell_type": "code",
   "execution_count": null,
   "metadata": {},
   "outputs": [],
   "source": [
    "# Clinica_deporte\n",
    "results = sf.query_all(\n",
    "    \"\"\"\n",
    "   SELECT id,Name,Rut__c,Nombre_Empresa__c,CreatedDate,Canal__c, Empresa__c, Account__c,Pais_Paciente__c,Empresa_Principal__c from Ficha_Cl_nica_Deporte__c\n",
    "     \"\"\"\n",
    ")\n",
    "ficha_deporte = pd.DataFrame(results[\"records\"])\n",
    "\n",
    "ficha_deporte = ficha_deporte[\n",
    "    [\n",
    "        \"Name\",\n",
    "        \"Rut__c\",\n",
    "        \"Nombre_Empresa__c\",\n",
    "        \"CreatedDate\",\n",
    "        \"Canal__c\",\n",
    "        \"Empresa__c\",\n",
    "        \"Account__c\",\n",
    "        'Empresa_Principal__c',\n",
    "    ]\n",
    "]\n",
    "ficha_deporte[\"clinica\"] = \"Deporte\"\n",
    "ficha_deporte = ficha_deporte.rename(\n",
    "    columns={\n",
    "        \"Name\": \"Codigo Ficha\",\n",
    "        \"Rut__c\": \"Rut\",\n",
    "        \"Nombre_Empresa__c\": \"Empleador\",\n",
    "        \"CreatedDate\": \"Fecha\",\n",
    "        \"Canal__c\": \"Canal\",\n",
    "        \"Empresa__c\": \"Cod. Empresa\",\n",
    "        \"Account__c\": \"Id Paciente\",\n",
    "        \"clinica\": \"Clínica\",\n",
    "        'Empresa_Principal__c': 'Empresa Principal'\n",
    "    }\n",
    ")\n",
    "ficha_deporte.shape"
   ]
  },
  {
   "cell_type": "code",
   "execution_count": null,
   "metadata": {},
   "outputs": [],
   "source": [
    "ficha_deporte\n"
   ]
  }
 ],
 "metadata": {
  "kernelspec": {
   "display_name": "salesforce",
   "language": "python",
   "name": "python3"
  },
  "language_info": {
   "codemirror_mode": {
    "name": "ipython",
    "version": 3
   },
   "file_extension": ".py",
   "mimetype": "text/x-python",
   "name": "python",
   "nbconvert_exporter": "python",
   "pygments_lexer": "ipython3",
   "version": "3.8.16"
  },
  "orig_nbformat": 4
 },
 "nbformat": 4,
 "nbformat_minor": 2
}
