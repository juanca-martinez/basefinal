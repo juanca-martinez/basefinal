{
 "cells": [
  {
   "cell_type": "code",
   "execution_count": 24,
   "metadata": {},
   "outputs": [],
   "source": [
    "import pandas as pd\n",
    "import numpy as np\n",
    "from sqlalchemy import create_engine\n",
    "import matplotlib.pyplot as plt "
   ]
  },
  {
   "cell_type": "code",
   "execution_count": 25,
   "metadata": {},
   "outputs": [
    {
     "data": {
      "text/plain": [
       "(3259, 34)"
      ]
     },
     "execution_count": 25,
     "metadata": {},
     "output_type": "execute_result"
    }
   ],
   "source": [
    "ruts_cargados = \"C:/Users/jmartinez/Desktop/mexico/mexico1.xlsx\"\n",
    "data30 = pd.read_excel(ruts_cargados)\n",
    "\n",
    "#data30['LLave'] = data30['empleador'].astype(str).str.lower() + data30['campana_paciente'].astype(str).str.lower() + data30['holding'].astype(str).str.lower()\n",
    "data30.shape"
   ]
  },
  {
   "cell_type": "code",
   "execution_count": 26,
   "metadata": {},
   "outputs": [
    {
     "data": {
      "text/plain": [
       "(3259, 35)"
      ]
     },
     "execution_count": 26,
     "metadata": {},
     "output_type": "execute_result"
    }
   ],
   "source": [
    "data30['LLave'] = data30['empleador'].astype(str) + data30['campana_paciente'].astype(str) + data30['holding'].astype(str)\n",
    "data30.shape"
   ]
  },
  {
   "cell_type": "code",
   "execution_count": 27,
   "metadata": {},
   "outputs": [],
   "source": [
    "\n",
    "agrupar = pd.DataFrame()\n",
    "agrupar = data30['holding'].to_frame()\n",
    "agrupar['empresas'] = data30['empleador'].to_frame()\n",
    "agrupar['campaña'] = data30['campana_paciente'].to_frame()\n",
    "#agrupar['si'] = data30['check'].to_frame()\n",
    "\n",
    "#agrupar = agrupar[agrupar['si']==False]\n",
    "\n",
    "\n",
    "\n"
   ]
  },
  {
   "cell_type": "code",
   "execution_count": 28,
   "metadata": {},
   "outputs": [
    {
     "data": {
      "text/plain": [
       "(28, 4)"
      ]
     },
     "execution_count": 28,
     "metadata": {},
     "output_type": "execute_result"
    }
   ],
   "source": [
    "agrupar['holding'] = agrupar['holding'].str.title()\n",
    "agrupar['empresas'] = agrupar['empresas'].str.title()\n",
    "agrupar['campaña'] = agrupar['campaña'].str.title()\n",
    "\n",
    "\n",
    "agrupar['LLave_empresa'] = agrupar['empresas'].astype(str) + agrupar['campaña'].astype(str) + agrupar['holding'].astype(str)\n",
    "agrupar = agrupar.drop_duplicates(subset = ['LLave_empresa'], keep='last')\n",
    "\n",
    "agrupar.shape\n"
   ]
  },
  {
   "cell_type": "code",
   "execution_count": 29,
   "metadata": {},
   "outputs": [],
   "source": [
    "data30['checks']= data30['LLave'].isin(agrupar['LLave_empresa'])"
   ]
  },
  {
   "cell_type": "code",
   "execution_count": 30,
   "metadata": {},
   "outputs": [],
   "source": [
    "agrupar.to_excel(\"C:/Users/jmartinez/Desktop/mexico/empresas2.xlsx\",index=False,sheet_name='Hoja 1')\n",
    "data30.to_excel(\"C:/Users/jmartinez/Desktop/mexico/mexico2.xlsx\",index=False,sheet_name='Hoja 1')"
   ]
  },
  {
   "cell_type": "code",
   "execution_count": 31,
   "metadata": {},
   "outputs": [
    {
     "data": {
      "text/html": [
       "<div><div id=69c8dc44-9819-432b-8007-adf5101d704c style=\"display:none; background-color:#9D6CFF; color:white; width:200px; height:30px; padding-left:5px; border-radius:4px; flex-direction:row; justify-content:space-around; align-items:center;\" onmouseover=\"this.style.backgroundColor='#BA9BF8'\" onmouseout=\"this.style.backgroundColor='#9D6CFF'\" onclick=\"window.commands?.execute('create-mitosheet-from-dataframe-output');\">See Full Dataframe in Mito</div> <script> if (window.commands?.hasCommand('create-mitosheet-from-dataframe-output')) document.getElementById('69c8dc44-9819-432b-8007-adf5101d704c').style.display = 'flex' </script> <table border=\"1\" class=\"dataframe\">\n",
       "  <thead>\n",
       "    <tr style=\"text-align: right;\">\n",
       "      <th></th>\n",
       "      <th>id</th>\n",
       "      <th>deleted</th>\n",
       "      <th>salutation_name</th>\n",
       "      <th>first_name</th>\n",
       "      <th>last_name</th>\n",
       "      <th>description</th>\n",
       "      <th>address_street</th>\n",
       "      <th>address_city</th>\n",
       "      <th>address_state</th>\n",
       "      <th>address_country</th>\n",
       "      <th>...</th>\n",
       "      <th>turno</th>\n",
       "      <th>created_by_id</th>\n",
       "      <th>modified_by_id</th>\n",
       "      <th>assigned_user_id</th>\n",
       "      <th>horariopreferente</th>\n",
       "      <th>division</th>\n",
       "      <th>ubicacion</th>\n",
       "      <th>email</th>\n",
       "      <th>LLave</th>\n",
       "      <th>checks</th>\n",
       "    </tr>\n",
       "  </thead>\n",
       "  <tbody>\n",
       "    <tr>\n",
       "      <th>0</th>\n",
       "      <td>630689b81e304a2ba</td>\n",
       "      <td>0</td>\n",
       "      <td>Ms.</td>\n",
       "      <td>Andrea</td>\n",
       "      <td>Dorantes Montoya</td>\n",
       "      <td>NaN</td>\n",
       "      <td>Placeres #823, Col. Jardines Del Bosque</td>\n",
       "      <td>Guadalajara</td>\n",
       "      <td>Jalisco</td>\n",
       "      <td>Mexico</td>\n",
       "      <td>...</td>\n",
       "      <td>NaN</td>\n",
       "      <td>62e96e38b14101dae</td>\n",
       "      <td>system</td>\n",
       "      <td>62e96e38b14101dae</td>\n",
       "      <td>AM/PM</td>\n",
       "      <td>NaN</td>\n",
       "      <td>NaN</td>\n",
       "      <td>andreadorantesm@gmail.com</td>\n",
       "      <td>Ambar MxAmbar MxHolding Prueba</td>\n",
       "      <td>True</td>\n",
       "    </tr>\n",
       "    <tr>\n",
       "      <th>1</th>\n",
       "      <td>63068ad8ab45637b4</td>\n",
       "      <td>0</td>\n",
       "      <td>Ms.</td>\n",
       "      <td>Isabel Cristina</td>\n",
       "      <td>Centeno Reyes</td>\n",
       "      <td>NaN</td>\n",
       "      <td>Placeres #823, Col. Jardines Del Bosque</td>\n",
       "      <td>Guadalajara</td>\n",
       "      <td>Jalisco</td>\n",
       "      <td>Mexico</td>\n",
       "      <td>...</td>\n",
       "      <td>NaN</td>\n",
       "      <td>62e96e38b14101dae</td>\n",
       "      <td>62e2c2cc0f2326c87</td>\n",
       "      <td>62e96e38b14101dae</td>\n",
       "      <td>AM/PM</td>\n",
       "      <td>NaN</td>\n",
       "      <td>NaN</td>\n",
       "      <td>icristinacr@hotmail.com</td>\n",
       "      <td>Ambar MxAmbar MxHolding Ambar Mx</td>\n",
       "      <td>True</td>\n",
       "    </tr>\n",
       "    <tr>\n",
       "      <th>2</th>\n",
       "      <td>63068de7e8317675c</td>\n",
       "      <td>1</td>\n",
       "      <td>Ms.</td>\n",
       "      <td>Hilda Elizabeth</td>\n",
       "      <td>Garcia Mendoza</td>\n",
       "      <td>NaN</td>\n",
       "      <td>Av.8 De Julio #1297 Int 21 Coto Alborada, Col. Los Olivos</td>\n",
       "      <td>Guadalajara</td>\n",
       "      <td>Jalisco</td>\n",
       "      <td>Mexico</td>\n",
       "      <td>...</td>\n",
       "      <td>NaN</td>\n",
       "      <td>62e96e38b14101dae</td>\n",
       "      <td>62ed7c2a67819254e</td>\n",
       "      <td>62e96e38b14101dae</td>\n",
       "      <td>AM/PM</td>\n",
       "      <td>NaN</td>\n",
       "      <td>NaN</td>\n",
       "      <td>elizita.hermozita@gmail.com</td>\n",
       "      <td>Ambar MxAmbar MxHolding Prueba</td>\n",
       "      <td>True</td>\n",
       "    </tr>\n",
       "    <tr>\n",
       "      <th>3</th>\n",
       "      <td>6306b5b78109f4c81</td>\n",
       "      <td>0</td>\n",
       "      <td>NaN</td>\n",
       "      <td>Evangelina</td>\n",
       "      <td>Martinez Carrilo</td>\n",
       "      <td>NaN</td>\n",
       "      <td>NaN</td>\n",
       "      <td>NaN</td>\n",
       "      <td>NaN</td>\n",
       "      <td>Mexico</td>\n",
       "      <td>...</td>\n",
       "      <td>NaN</td>\n",
       "      <td>62daf33ae8a6e242c</td>\n",
       "      <td>system</td>\n",
       "      <td>62daf33ae8a6e242c</td>\n",
       "      <td>NaN</td>\n",
       "      <td>NaN</td>\n",
       "      <td>NaN</td>\n",
       "      <td>evangelina.martinez@ambarseguros.mx</td>\n",
       "      <td>Ambar MxAmbar MxHolding Prueba</td>\n",
       "      <td>True</td>\n",
       "    </tr>\n",
       "    <tr>\n",
       "      <th>4</th>\n",
       "      <td>6320be1a219fec47c</td>\n",
       "      <td>0</td>\n",
       "      <td>NaN</td>\n",
       "      <td>Alejandro</td>\n",
       "      <td>Dorantes Gonzalez</td>\n",
       "      <td>NaN</td>\n",
       "      <td>NaN</td>\n",
       "      <td>NaN</td>\n",
       "      <td>NaN</td>\n",
       "      <td>Mexico</td>\n",
       "      <td>...</td>\n",
       "      <td>NaN</td>\n",
       "      <td>system</td>\n",
       "      <td>NaN</td>\n",
       "      <td>NaN</td>\n",
       "      <td>NaN</td>\n",
       "      <td>NaN</td>\n",
       "      <td>NaN</td>\n",
       "      <td>alejandro.dorantes@ambarseguros.mx</td>\n",
       "      <td>Ambar MxAmbar MxHolding Ambar Mx</td>\n",
       "      <td>True</td>\n",
       "    </tr>\n",
       "  </tbody>\n",
       "</table></div>"
      ],
      "text/plain": [
       "                  id  deleted salutation_name       first_name  \\\n",
       "0  630689b81e304a2ba        0             Ms.           Andrea   \n",
       "1  63068ad8ab45637b4        0             Ms.  Isabel Cristina   \n",
       "2  63068de7e8317675c        1             Ms.  Hilda Elizabeth   \n",
       "3  6306b5b78109f4c81        0             NaN       Evangelina   \n",
       "4  6320be1a219fec47c        0             NaN        Alejandro   \n",
       "\n",
       "           last_name description  \\\n",
       "0   Dorantes Montoya         NaN   \n",
       "1      Centeno Reyes         NaN   \n",
       "2     Garcia Mendoza         NaN   \n",
       "3   Martinez Carrilo         NaN   \n",
       "4  Dorantes Gonzalez         NaN   \n",
       "\n",
       "                                      address_street address_city  \\\n",
       "0            Placeres #823, Col. Jardines Del Bosque  Guadalajara   \n",
       "1            Placeres #823, Col. Jardines Del Bosque  Guadalajara   \n",
       "2  Av.8 De Julio #1297 Int 21 Coto Alborada, Col....  Guadalajara   \n",
       "3                                                NaN          NaN   \n",
       "4                                                NaN          NaN   \n",
       "\n",
       "  address_state address_country  ... turno      created_by_id  \\\n",
       "0       Jalisco          Mexico  ...   NaN  62e96e38b14101dae   \n",
       "1       Jalisco          Mexico  ...   NaN  62e96e38b14101dae   \n",
       "2       Jalisco          Mexico  ...   NaN  62e96e38b14101dae   \n",
       "3           NaN          Mexico  ...   NaN  62daf33ae8a6e242c   \n",
       "4           NaN          Mexico  ...   NaN             system   \n",
       "\n",
       "      modified_by_id   assigned_user_id horariopreferente division ubicacion  \\\n",
       "0             system  62e96e38b14101dae             AM/PM      NaN       NaN   \n",
       "1  62e2c2cc0f2326c87  62e96e38b14101dae             AM/PM      NaN       NaN   \n",
       "2  62ed7c2a67819254e  62e96e38b14101dae             AM/PM      NaN       NaN   \n",
       "3             system  62daf33ae8a6e242c               NaN      NaN       NaN   \n",
       "4                NaN                NaN               NaN      NaN       NaN   \n",
       "\n",
       "                                 email                             LLave  \\\n",
       "0            andreadorantesm@gmail.com    Ambar MxAmbar MxHolding Prueba   \n",
       "1              icristinacr@hotmail.com  Ambar MxAmbar MxHolding Ambar Mx   \n",
       "2          elizita.hermozita@gmail.com    Ambar MxAmbar MxHolding Prueba   \n",
       "3  evangelina.martinez@ambarseguros.mx    Ambar MxAmbar MxHolding Prueba   \n",
       "4   alejandro.dorantes@ambarseguros.mx  Ambar MxAmbar MxHolding Ambar Mx   \n",
       "\n",
       "  checks  \n",
       "0   True  \n",
       "1   True  \n",
       "2   True  \n",
       "3   True  \n",
       "4   True  \n",
       "\n",
       "[5 rows x 36 columns]"
      ]
     },
     "execution_count": 31,
     "metadata": {},
     "output_type": "execute_result"
    }
   ],
   "source": [
    "data30.head()"
   ]
  }
 ],
 "metadata": {
  "kernelspec": {
   "display_name": "Python 3.10.6 ('Mito')",
   "language": "python",
   "name": "python3"
  },
  "language_info": {
   "codemirror_mode": {
    "name": "ipython",
    "version": 3
   },
   "file_extension": ".py",
   "mimetype": "text/x-python",
   "name": "python",
   "nbconvert_exporter": "python",
   "pygments_lexer": "ipython3",
   "version": "3.10.6"
  },
  "orig_nbformat": 4,
  "vscode": {
   "interpreter": {
    "hash": "8ca7c6c0b372e79d1b046e97089bf0eca059102913bf5fbce589f25f1f28c438"
   }
  }
 },
 "nbformat": 4,
 "nbformat_minor": 2
}
