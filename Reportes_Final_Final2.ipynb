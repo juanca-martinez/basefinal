{
 "cells": [
  {
   "cell_type": "code",
   "execution_count": 1,
   "metadata": {
    "notebookRunGroups": {
     "groupValue": "1"
    }
   },
   "outputs": [],
   "source": [
    "from pathlib import Path\n",
    "import requests\n",
    "import pandas as pd\n",
    "import numpy as np\n",
    "from io import StringIO\n",
    "from simple_salesforce import Salesforce\n",
    "import shutil\n",
    "import datetime\n",
    "from datetime import date\n",
    "\n",
    "\n",
    "sf = Salesforce(\n",
    "    username=\"jmartinez@careassistance.com\",\n",
    "    password=\"Jcmm010483*\",\n",
    "    security_token=\"1B6xNEvzIe5uroF6nRgKGTSk\",\n",
    ")"
   ]
  },
  {
   "attachments": {},
   "cell_type": "markdown",
   "metadata": {},
   "source": [
    "Empresas Programas por empresa y empresas desde account\n"
   ]
  },
  {
   "cell_type": "code",
   "execution_count": 2,
   "metadata": {
    "notebookRunGroups": {
     "groupValue": "1"
    }
   },
   "outputs": [
    {
     "data": {
      "text/plain": [
       "(7302, 10)"
      ]
     },
     "execution_count": 2,
     "metadata": {},
     "output_type": "execute_result"
    }
   ],
   "source": [
    "# Recuperar empresas ID de salesforce desde Account\n",
    "results = sf.query_all(\n",
    "    \"\"\"\n",
    "  select Id, name, Holding__c ,Campa_a__c,Id_Empresa__c,Empleador__c,poliza__c,Vigencia__c, Corredor__c,Pa_s_del_Paciente__c from account where ispersonaccount = false \n",
    "    \"\"\"\n",
    ")\n",
    "Empresas_SF = pd.DataFrame(results[\"records\"])\n",
    "Empresas_SF = Empresas_SF[\n",
    "    [\n",
    "        \"Id\",\n",
    "        \"Name\",\n",
    "        \"Holding__c\",\n",
    "        \"Campa_a__c\",\n",
    "        \"Id_Empresa__c\",\n",
    "        \"Empleador__c\",\n",
    "        \"poliza__c\",\n",
    "        \"Vigencia__c\",\n",
    "        \"Corredor__c\",\n",
    "        \"Pa_s_del_Paciente__c\",\n",
    "    ]\n",
    "]\n",
    "Empresas_SF.shape\n"
   ]
  },
  {
   "cell_type": "code",
   "execution_count": 3,
   "metadata": {
    "notebookRunGroups": {
     "groupValue": "1"
    }
   },
   "outputs": [
    {
     "data": {
      "text/plain": [
       "(7005, 5)"
      ]
     },
     "execution_count": 3,
     "metadata": {},
     "output_type": "execute_result"
    }
   ],
   "source": [
    "# buscar empresas desde Programas_por_Empresas__c datos de empresas\n",
    "results = sf.query_all(\n",
    "    \"\"\"\n",
    "   select Id,Empresa__c, Empresa_Padre__c,Nombre_Empresa__c, Name  from Programas_por_Empresas__c \n",
    "    \"\"\"\n",
    ")\n",
    "Programas_por_empresa_SF = pd.DataFrame(results[\"records\"])\n",
    "\n",
    "Programas_por_empresa_SF = Programas_por_empresa_SF[\n",
    "    [\"Id\", \"Empresa__c\", \"Empresa_Padre__c\", \"Nombre_Empresa__c\", \"Name\"]\n",
    "]\n",
    "Programas_por_empresa_SF.shape\n"
   ]
  },
  {
   "cell_type": "code",
   "execution_count": 4,
   "metadata": {
    "notebookRunGroups": {
     "groupValue": "1"
    }
   },
   "outputs": [
    {
     "data": {
      "text/plain": [
       "(7308, 15)"
      ]
     },
     "execution_count": 4,
     "metadata": {},
     "output_type": "execute_result"
    }
   ],
   "source": [
    "# Union de Programas Empresa y empresas\n",
    "Programas_empresas = pd.merge(\n",
    "    left=Empresas_SF,\n",
    "    right=Programas_por_empresa_SF,\n",
    "    how=\"left\",\n",
    "    left_on=\"Id\",\n",
    "    right_on=\"Empresa__c\",\n",
    ")\n",
    "Programas_empresas.shape"
   ]
  },
  {
   "cell_type": "code",
   "execution_count": 5,
   "metadata": {
    "notebookRunGroups": {
     "groupValue": "1"
    }
   },
   "outputs": [],
   "source": [
    "Programas_pacientes = Programas_empresas.rename(\n",
    "    columns={\n",
    "        \"Id_x\": \"Id Account Empresa\",\n",
    "        \"Name_x\": \"Nombre Empresa\",\n",
    "        \"Holding__c\": \"Holding\",\n",
    "        \"Campa_a__c\": \"Campaña\",\n",
    "        \"Empleador__c\": \"Empleador\",\n",
    "        \"poliza__c\": \"Poliza\",\n",
    "        \"Id_y\": \"Programas_por_Empresas__c\",\n",
    "        \"Id_Empresa__c\": \"Codigo EMP\",\n",
    "        \"Name_y\": \"Codigo A\",\n",
    "        \"Vigencia__c\": \"Vigente\",\n",
    "        \"Corredor__c\": \"Corredor\",\n",
    "        \"Pa_s_del_Paciente__c\": \"Pais\",\n",
    "    }\n",
    ")\n",
    "Programas_pacientes = Programas_pacientes[\n",
    "    [\n",
    "        \"Id Account Empresa\",\n",
    "        \"Nombre Empresa\",\n",
    "        \"Holding\",\n",
    "        \"Campaña\",\n",
    "        \"Empleador\",\n",
    "        \"Poliza\",\n",
    "        \"Programas_por_Empresas__c\",\n",
    "        \"Codigo EMP\",\n",
    "        \"Codigo A\",\n",
    "        \"Vigente\",\n",
    "        \"Corredor\",\n",
    "        \"Pais\",\n",
    "    ]\n",
    "]\n"
   ]
  },
  {
   "attachments": {},
   "cell_type": "markdown",
   "metadata": {},
   "source": [
    "fin empresas y comienzo de rescate de pacientes\n"
   ]
  },
  {
   "cell_type": "code",
   "execution_count": 6,
   "metadata": {
    "notebookRunGroups": {
     "groupValue": "1"
    }
   },
   "outputs": [
    {
     "data": {
      "text/plain": [
       "(1764461, 9)"
      ]
     },
     "execution_count": 6,
     "metadata": {},
     "output_type": "execute_result"
    }
   ],
   "source": [
    "results = sf.query_all(\n",
    "    \"\"\"\n",
    "    select Id, IdentificationId__pc,Name, Identification_Type__c, Ocupaci_n__c,  PersonTitle ,PersonDepartment,HealthCloudGA__Gender__pc,Phone  from Account where ispersonaccount = True\n",
    "   \"\"\"\n",
    ")\n",
    "Pacientes_SF = pd.DataFrame(results[\"records\"])\n",
    "\n",
    "Pacientes_SF = Pacientes_SF[\n",
    "    [\n",
    "        \"Id\",\n",
    "        \"IdentificationId__pc\",\n",
    "        \"Name\",\n",
    "        \"Identification_Type__c\",\n",
    "        \"Ocupaci_n__c\",\n",
    "        \"PersonTitle\",\n",
    "        \"PersonDepartment\",\n",
    "        \"HealthCloudGA__Gender__pc\",\n",
    "        \"Phone\",\n",
    "    ]\n",
    "]\n",
    "Pacientes_SF = Pacientes_SF.rename(\n",
    "    columns={\n",
    "        \"Id\": \"Id Account Paciente\",\n",
    "        \"IdentificationId__pc\": \"Rut\",\n",
    "        \"Name\": \"Nombre\",\n",
    "        \"Ocupaci_n__c\": \"Ocupacion\",\n",
    "        \"PersonTitle\": \"Cargo\",\n",
    "        \"PersonDepartment\": \"Departamento\",\n",
    "        \"HealthCloudGA__Gender__pc\": \"Sexo\",\n",
    "        \"Phone\": \"Telefono\",\n",
    "        \"Identification_Type__c\": \"Tipo de Documento\",\n",
    "    }\n",
    ")\n",
    "Pacientes_SF.shape\n"
   ]
  },
  {
   "attachments": {},
   "cell_type": "markdown",
   "metadata": {},
   "source": [
    "Aca se comienzan a unir las relaciones de pacientes y empresas ya creadas.\n"
   ]
  },
  {
   "cell_type": "code",
   "execution_count": 7,
   "metadata": {
    "notebookRunGroups": {
     "groupValue": "1"
    }
   },
   "outputs": [
    {
     "data": {
      "text/plain": [
       "(1358215, 4)"
      ]
     },
     "execution_count": 7,
     "metadata": {},
     "output_type": "execute_result"
    }
   ],
   "source": [
    "# buscar empresas desde Paciente_Programas__c relaciones de empresas con pacientes\n",
    "results = sf.query_all(\n",
    "    \"\"\"\n",
    "    select Id,Paciente__c, Programas_por_Empresas__c,padre__c from Paciente_Programas__c  \n",
    "    \"\"\"\n",
    ")\n",
    "Paciente_Programas_SF = pd.DataFrame(results[\"records\"])\n",
    "\n",
    "Paciente_Programas_SF = Paciente_Programas_SF[\n",
    "    [\"Id\", \"Paciente__c\", \"Programas_por_Empresas__c\", \"padre__c\"]\n",
    "]\n",
    "Paciente_Programas_SF.shape"
   ]
  },
  {
   "attachments": {},
   "cell_type": "markdown",
   "metadata": {},
   "source": [
    "Union de pacientes programas con las empresas\n"
   ]
  },
  {
   "cell_type": "code",
   "execution_count": 8,
   "metadata": {
    "notebookRunGroups": {
     "groupValue": "1"
    }
   },
   "outputs": [
    {
     "data": {
      "text/plain": [
       "(1358215, 15)"
      ]
     },
     "execution_count": 8,
     "metadata": {},
     "output_type": "execute_result"
    }
   ],
   "source": [
    "# Union de Pacientes Programas y Programas por empresa\n",
    "empresas_unidas = pd.merge(\n",
    "    left=Paciente_Programas_SF,\n",
    "    right=Programas_pacientes,\n",
    "    how=\"left\",\n",
    "    left_on=\"Programas_por_Empresas__c\",\n",
    "    right_on=\"Programas_por_Empresas__c\",\n",
    ")\n",
    "empresas_unidas.shape"
   ]
  },
  {
   "cell_type": "code",
   "execution_count": 9,
   "metadata": {
    "notebookRunGroups": {
     "groupValue": "1"
    }
   },
   "outputs": [
    {
     "data": {
      "text/plain": [
       "(1358215, 24)"
      ]
     },
     "execution_count": 9,
     "metadata": {},
     "output_type": "execute_result"
    }
   ],
   "source": [
    "empresas_unidas = pd.merge(\n",
    "    left=empresas_unidas,\n",
    "    right=Pacientes_SF,\n",
    "    how=\"left\",\n",
    "    left_on=\"Paciente__c\",\n",
    "    right_on=\"Id Account Paciente\",\n",
    ")\n",
    "empresas_unidas.shape\n"
   ]
  },
  {
   "cell_type": "code",
   "execution_count": 10,
   "metadata": {
    "notebookRunGroups": {
     "groupValue": "1"
    }
   },
   "outputs": [
    {
     "data": {
      "text/plain": [
       "(1358215, 23)"
      ]
     },
     "execution_count": 10,
     "metadata": {},
     "output_type": "execute_result"
    }
   ],
   "source": [
    "empresas_unidas = empresas_unidas.rename(columns={\"Id\": \"Id Pacientes Programas\"})\n",
    "empresas_unidas = empresas_unidas[\n",
    "    [\n",
    "        \"Id Pacientes Programas\",\n",
    "        \"Paciente__c\",\n",
    "        \"Programas_por_Empresas__c\",\n",
    "        \"Id Account Empresa\",\n",
    "        \"Nombre Empresa\",\n",
    "        \"Holding\",\n",
    "        \"Campaña\",\n",
    "        \"Empleador\",\n",
    "        \"Poliza\",\n",
    "        \"Id Account Paciente\",\n",
    "        \"Rut\",\n",
    "        \"Nombre\",\n",
    "        \"Ocupacion\",\n",
    "        \"Cargo\",\n",
    "        \"Departamento\",\n",
    "        \"Sexo\",\n",
    "        \"Telefono\",\n",
    "        \"Tipo de Documento\",\n",
    "        \"Codigo EMP\",\n",
    "        \"Codigo A\",\n",
    "        \"Vigente\",\n",
    "        \"Corredor\",\n",
    "        \"Pais\",\n",
    "    ]\n",
    "]\n",
    "\n",
    "empresas_unidas.shape\n"
   ]
  },
  {
   "cell_type": "code",
   "execution_count": 11,
   "metadata": {
    "notebookRunGroups": {
     "groupValue": "1"
    }
   },
   "outputs": [],
   "source": [
    "# cantidad_de_PAcientes = pd.DataFrame()\n",
    "def cantidad_gente(corredor):\n",
    "    empresas_unidas2 = empresas_unidas[empresas_unidas[\"Corredor\"] == corredor]\n",
    "    empresas_unidas2 = empresas_unidas2.drop_duplicates(\n",
    "        subset=[\"Rut\", \"Empleador\", \"Poliza\", \"Nombre Empresa\"], keep=\"last\"\n",
    "    )\n",
    "    cantidad_de_PAcientes = empresas_unidas2.groupby([\"Poliza\", \"Empleador\"])[\n",
    "        \"Paciente__c\"\n",
    "    ].count()\n",
    "    cantidad_de_PAcientes = cantidad_de_PAcientes.reset_index()\n",
    "    # cantidad_de_PAcientes = cantidad_de_PAcientes[cantidad_de_PAcientes[\"Poliza\",\"Empleador\",\"count\"]]\n",
    "    Archivo_gente = \"F:/Reportes SF/MetLife/usuarios/\" + corredor + \"_gente.xlsx\"\n",
    "    cantidad_de_PAcientes.to_excel(Archivo_gente, index=False)\n",
    "    cantidad_de_PAcientes.shape"
   ]
  },
  {
   "attachments": {},
   "cell_type": "markdown",
   "metadata": {},
   "source": [
    "Terminado la visualizacion de las empresas y pacientes que se muestran en los reportes\n"
   ]
  },
  {
   "attachments": {},
   "cell_type": "markdown",
   "metadata": {},
   "source": [
    "Descarga desde Citas de Servicios\n"
   ]
  },
  {
   "cell_type": "code",
   "execution_count": 12,
   "metadata": {
    "notebookRunGroups": {
     "groupValue": "1"
    }
   },
   "outputs": [
    {
     "data": {
      "text/html": [
       "<div>\n",
       "<style scoped>\n",
       "    .dataframe tbody tr th:only-of-type {\n",
       "        vertical-align: middle;\n",
       "    }\n",
       "\n",
       "    .dataframe tbody tr th {\n",
       "        vertical-align: top;\n",
       "    }\n",
       "\n",
       "    .dataframe thead th {\n",
       "        text-align: right;\n",
       "    }\n",
       "</style>\n",
       "<table border=\"1\" class=\"dataframe\">\n",
       "  <thead>\n",
       "    <tr style=\"text-align: right;\">\n",
       "      <th></th>\n",
       "      <th>AppointmentNumber</th>\n",
       "      <th>RUT__c</th>\n",
       "      <th>Empresas</th>\n",
       "      <th>CreatedDate</th>\n",
       "      <th>Tipo_de_la_cita__c</th>\n",
       "      <th>Empresas Id</th>\n",
       "      <th>AccountId</th>\n",
       "      <th>Clinica__c</th>\n",
       "    </tr>\n",
       "  </thead>\n",
       "  <tbody>\n",
       "    <tr>\n",
       "      <th>0</th>\n",
       "      <td>FSA-16763</td>\n",
       "      <td>128060006</td>\n",
       "      <td>NaN</td>\n",
       "      <td>2023-04-20T23:17:29.000+0000</td>\n",
       "      <td>Video</td>\n",
       "      <td>NaN</td>\n",
       "      <td>0018c00002gl5fhAAA</td>\n",
       "      <td>Nutrición</td>\n",
       "    </tr>\n",
       "    <tr>\n",
       "      <th>1</th>\n",
       "      <td>FSA-17166</td>\n",
       "      <td>186247981</td>\n",
       "      <td>NaN</td>\n",
       "      <td>2023-04-24T22:22:01.000+0000</td>\n",
       "      <td>Video</td>\n",
       "      <td>NaN</td>\n",
       "      <td>0018c00002iwWAuAAM</td>\n",
       "      <td>Nutrición</td>\n",
       "    </tr>\n",
       "    <tr>\n",
       "      <th>2</th>\n",
       "      <td>FSA-17173</td>\n",
       "      <td>186318072</td>\n",
       "      <td>NaN</td>\n",
       "      <td>2023-04-24T22:56:10.000+0000</td>\n",
       "      <td>Phone</td>\n",
       "      <td>NaN</td>\n",
       "      <td>0018c00002azrebAAA</td>\n",
       "      <td>Nutrición</td>\n",
       "    </tr>\n",
       "    <tr>\n",
       "      <th>3</th>\n",
       "      <td>FSA-17196</td>\n",
       "      <td>97073430</td>\n",
       "      <td>NaN</td>\n",
       "      <td>2023-04-25T14:21:40.000+0000</td>\n",
       "      <td>Phone</td>\n",
       "      <td>NaN</td>\n",
       "      <td>0018c00002amLcMAAU</td>\n",
       "      <td>Nutrición</td>\n",
       "    </tr>\n",
       "    <tr>\n",
       "      <th>4</th>\n",
       "      <td>FSA-16876</td>\n",
       "      <td>183801422</td>\n",
       "      <td>NaN</td>\n",
       "      <td>2023-04-21T19:42:01.000+0000</td>\n",
       "      <td>Phone</td>\n",
       "      <td>NaN</td>\n",
       "      <td>0018c00002amLvkAAE</td>\n",
       "      <td>Nutrición</td>\n",
       "    </tr>\n",
       "  </tbody>\n",
       "</table>\n",
       "</div>"
      ],
      "text/plain": [
       "  AppointmentNumber     RUT__c  Empresas                   CreatedDate  \\\n",
       "0         FSA-16763  128060006       NaN  2023-04-20T23:17:29.000+0000   \n",
       "1         FSA-17166  186247981       NaN  2023-04-24T22:22:01.000+0000   \n",
       "2         FSA-17173  186318072       NaN  2023-04-24T22:56:10.000+0000   \n",
       "3         FSA-17196   97073430       NaN  2023-04-25T14:21:40.000+0000   \n",
       "4         FSA-16876  183801422       NaN  2023-04-21T19:42:01.000+0000   \n",
       "\n",
       "  Tipo_de_la_cita__c  Empresas Id           AccountId Clinica__c  \n",
       "0              Video          NaN  0018c00002gl5fhAAA  Nutrición  \n",
       "1              Video          NaN  0018c00002iwWAuAAM  Nutrición  \n",
       "2              Phone          NaN  0018c00002azrebAAA  Nutrición  \n",
       "3              Phone          NaN  0018c00002amLcMAAU  Nutrición  \n",
       "4              Phone          NaN  0018c00002amLvkAAE  Nutrición  "
      ]
     },
     "execution_count": 12,
     "metadata": {},
     "output_type": "execute_result"
    }
   ],
   "source": [
    "# Citas de Servicio\n",
    "results = sf.query_all(\n",
    "    \"\"\"\n",
    "    SELECT Id, clinica__c,AccountId,CreatedDate,RUT__c,Work_TypeGroup__c,Status,Interacci_n__c,AppointmentNumber,Tipo_de_la_cita__c from ServiceAppointment\n",
    "    \"\"\"\n",
    ")\n",
    "\n",
    "\n",
    "Citas_de_servicio = pd.DataFrame(results[\"records\"])\n",
    "Citas_de_servicio[\"Empresas\"] = np.nan\n",
    "# Citas_de_servicio['RUT__c'].map(pacientessf_empresas.set_index('IdentificationId__pc_x',verify_integrity=False)['Name'])\n",
    "Citas_de_servicio[\"Empresas Id\"] = np.nan\n",
    "np.matrix\n",
    "Citas_de_servicio = Citas_de_servicio[\n",
    "    [\n",
    "        \"AppointmentNumber\",\n",
    "        \"RUT__c\",\n",
    "        \"Empresas\",\n",
    "        \"CreatedDate\",\n",
    "        \"Tipo_de_la_cita__c\",\n",
    "        \"Empresas Id\",\n",
    "        \"AccountId\",\n",
    "        \"Clinica__c\",\n",
    "    ]\n",
    "]\n",
    "Citas_de_servicio[\"AppointmentNumber\"] = \"F\" + Citas_de_servicio[\"AppointmentNumber\"]\n",
    "\n",
    "Citas_de_servicio.head()"
   ]
  },
  {
   "cell_type": "code",
   "execution_count": null,
   "metadata": {},
   "outputs": [],
   "source": []
  },
  {
   "cell_type": "code",
   "execution_count": 13,
   "metadata": {},
   "outputs": [],
   "source": [
    "Citas_de_servicio.to_excel(\n",
    "    \"F:/Empresas SF/reportes/citas de servicio.xlsx\", index=False\n",
    ")"
   ]
  },
  {
   "cell_type": "code",
   "execution_count": 14,
   "metadata": {
    "notebookRunGroups": {
     "groupValue": "1"
    }
   },
   "outputs": [
    {
     "data": {
      "text/plain": [
       "(23689, 8)"
      ]
     },
     "execution_count": 14,
     "metadata": {},
     "output_type": "execute_result"
    }
   ],
   "source": [
    "# Citas de Servicio Orientacion\n",
    "results = sf.query_all(\n",
    "    \"\"\"\n",
    "    SELECT Id, AccountId,CreatedDate,RUT__c,WorkTypeId,Work_TypeGroup__c,Status,Interacci_n__c,Tipo_de_la_cita__c,AppointmentNumber from ServiceAppointment\n",
    "    \"\"\"\n",
    ")\n",
    "Citas_de_servicio2 = pd.DataFrame(results[\"records\"])\n",
    "Citas_de_servicio2[\"Clinica__c\"] = \"Orientación Médica\"\n",
    "Citas_de_servicio2[\"Tipo_de_la_cita__c\"] = \"Agendamiento\"\n",
    "Citas_de_servicio2[\"Empresas\"] = np.nan\n",
    "Citas_de_servicio2[\"Empresas Id\"] = np.nan\n",
    "Citas_de_servicio2 = Citas_de_servicio2[\n",
    "    [\n",
    "        \"AppointmentNumber\",\n",
    "        \"RUT__c\",\n",
    "        \"Empresas\",\n",
    "        \"CreatedDate\",\n",
    "        \"Tipo_de_la_cita__c\",\n",
    "        \"Empresas Id\",\n",
    "        \"AccountId\",\n",
    "        \"Clinica__c\",\n",
    "    ]\n",
    "]\n",
    "Citas_de_servicio2.shape"
   ]
  },
  {
   "cell_type": "code",
   "execution_count": 15,
   "metadata": {
    "notebookRunGroups": {
     "groupValue": "1"
    }
   },
   "outputs": [
    {
     "data": {
      "text/plain": [
       "(47378, 8)"
      ]
     },
     "execution_count": 15,
     "metadata": {},
     "output_type": "execute_result"
    }
   ],
   "source": [
    "# unir dos citas\n",
    "Gran_Citas_deservicio = pd.concat([Citas_de_servicio, Citas_de_servicio2], axis=0)\n",
    "Gran_Citas_deservicio = Gran_Citas_deservicio.rename(\n",
    "    columns={\n",
    "        \"AppointmentNumber\": \"Codigo Ficha\",\n",
    "        \"RUT__c\": \"Rut\",\n",
    "        \"Empresas\": \"Empleador\",\n",
    "        \"CreatedDate\": \"Fecha\",\n",
    "        \"Tipo_de_la_cita__c\": \"Canal\",\n",
    "        \"Empresas Id\": \"Cod. Empresa\",\n",
    "        \"AccountId\": \"Id Paciente\",\n",
    "        \"Clinica__c\": \"Clínica\",\n",
    "    }\n",
    ")\n",
    "\n",
    "Gran_Citas_deservicio.shape"
   ]
  },
  {
   "cell_type": "code",
   "execution_count": 16,
   "metadata": {
    "notebookRunGroups": {
     "groupValue": "1"
    }
   },
   "outputs": [
    {
     "data": {
      "text/plain": [
       "(3607, 8)"
      ]
     },
     "execution_count": 16,
     "metadata": {},
     "output_type": "execute_result"
    }
   ],
   "source": [
    "# Clinica_deporte\n",
    "results = sf.query_all(\n",
    "    \"\"\"\n",
    "   SELECT id,Name,Rut__c,Nombre_Empresa__c,CreatedDate,Canal__c, Empresa__c, Account__c from Ficha_Cl_nica_Deporte__c\n",
    "     \"\"\"\n",
    ")\n",
    "ficha_deporte = pd.DataFrame(results[\"records\"])\n",
    "\n",
    "ficha_deporte = ficha_deporte[\n",
    "    [\n",
    "        \"Name\",\n",
    "        \"Rut__c\",\n",
    "        \"Nombre_Empresa__c\",\n",
    "        \"CreatedDate\",\n",
    "        \"Canal__c\",\n",
    "        \"Empresa__c\",\n",
    "        \"Account__c\",\n",
    "    ]\n",
    "]\n",
    "ficha_deporte[\"clinica\"] = \"Deporte\"\n",
    "ficha_deporte = ficha_deporte.rename(\n",
    "    columns={\n",
    "        \"Name\": \"Codigo Ficha\",\n",
    "        \"Rut__c\": \"Rut\",\n",
    "        \"Nombre_Empresa__c\": \"Empleador\",\n",
    "        \"CreatedDate\": \"Fecha\",\n",
    "        \"Canal__c\": \"Canal\",\n",
    "        \"Empresa__c\": \"Cod. Empresa\",\n",
    "        \"Account__c\": \"Id Paciente\",\n",
    "        \"clinica\": \"Clínica\",\n",
    "    }\n",
    ")\n",
    "ficha_deporte.shape"
   ]
  },
  {
   "cell_type": "code",
   "execution_count": 17,
   "metadata": {
    "notebookRunGroups": {
     "groupValue": "1"
    }
   },
   "outputs": [
    {
     "data": {
      "text/plain": [
       "(8347, 8)"
      ]
     },
     "execution_count": 17,
     "metadata": {},
     "output_type": "execute_result"
    }
   ],
   "source": [
    "# Clinica Nutricion\n",
    "results = sf.query_all(\n",
    "    \"\"\"\n",
    "   select  Name, RUT__c, Nombre_Empresa__c, CreatedDate, Canal__c, Empresa__c, Account__c from Ficha_Clinica_Nutrici_n__c \n",
    "     \"\"\"\n",
    ")\n",
    "ficha_nutricion = pd.DataFrame(results[\"records\"])\n",
    "\n",
    "ficha_nutricion = ficha_nutricion[\n",
    "    [\n",
    "        \"Name\",\n",
    "        \"RUT__c\",\n",
    "        \"Nombre_Empresa__c\",\n",
    "        \"CreatedDate\",\n",
    "        \"Canal__c\",\n",
    "        \"Empresa__c\",\n",
    "        \"Account__c\",\n",
    "    ]\n",
    "]\n",
    "ficha_nutricion[\"clinica\"] = \"Nutrición\"\n",
    "\n",
    "ficha_nutricion = ficha_nutricion.rename(\n",
    "    columns={\n",
    "        \"Name\": \"Codigo Ficha\",\n",
    "        \"RUT__c\": \"Rut\",\n",
    "        \"Nombre_Empresa__c\": \"Empleador\",\n",
    "        \"CreatedDate\": \"Fecha\",\n",
    "        \"Canal__c\": \"Canal\",\n",
    "        \"Empresa__c\": \"Cod. Empresa\",\n",
    "        \"Account__c\": \"Id Paciente\",\n",
    "        \"clinica\": \"Clínica\",\n",
    "    }\n",
    ")\n",
    "\n",
    "\n",
    "ficha_nutricion.shape"
   ]
  },
  {
   "cell_type": "code",
   "execution_count": 18,
   "metadata": {
    "notebookRunGroups": {
     "groupValue": "1"
    }
   },
   "outputs": [
    {
     "data": {
      "text/plain": [
       "(31, 8)"
      ]
     },
     "execution_count": 18,
     "metadata": {},
     "output_type": "execute_result"
    }
   ],
   "source": [
    "# Clinica AppSex\n",
    "results = sf.query_all(\n",
    "    \"\"\"\n",
    "   select  Name, Rut__c, Nombre_Empresa__c, CreatedDate, Canal__c, Empresa__c, Account__c, RecordTypeId from Ficha_Cl_nica_ApsSex__c \n",
    "     \"\"\"\n",
    ")\n",
    "ficha_Apssex = pd.DataFrame(results[\"records\"])\n",
    "\n",
    "ficha_Apssex = ficha_Apssex[\n",
    "    [\n",
    "        \"Name\",\n",
    "        \"Rut__c\",\n",
    "        \"Nombre_Empresa__c\",\n",
    "        \"CreatedDate\",\n",
    "        \"Canal__c\",\n",
    "        \"Empresa__c\",\n",
    "        \"Account__c\",\n",
    "    ]\n",
    "]\n",
    "ficha_Apssex[\"clinica\"] = \"Asesoría Psicológica en Salud Sexual\"\n",
    "ficha_Apssex = ficha_Apssex.rename(\n",
    "    columns={\n",
    "        \"Name\": \"Codigo Ficha\",\n",
    "        \"Rut__c\": \"Rut\",\n",
    "        \"Nombre_Empresa__c\": \"Empleador\",\n",
    "        \"CreatedDate\": \"Fecha\",\n",
    "        \"Canal__c\": \"Canal\",\n",
    "        \"Empresa__c\": \"Cod. Empresa\",\n",
    "        \"Account__c\": \"Id Paciente\",\n",
    "        \"clinica\": \"Clínica\",\n",
    "    }\n",
    ")\n",
    "\n",
    "ficha_Apssex.shape"
   ]
  },
  {
   "cell_type": "code",
   "execution_count": 19,
   "metadata": {
    "notebookRunGroups": {
     "groupValue": "1"
    }
   },
   "outputs": [
    {
     "data": {
      "text/plain": [
       "(5802, 9)"
      ]
     },
     "execution_count": 19,
     "metadata": {},
     "output_type": "execute_result"
    }
   ],
   "source": [
    "# Clinica Psicologia\n",
    "results = sf.query_all(\n",
    "    \"\"\"\n",
    "   select  Name, Rut__c, Nombre_Empresa__c, CreatedDate, Canal__c, Empresa__c, Account__c, RecordTypeId,Motivo_de_consulta_manifiesto__c from Ficha_Cl_nica_Asistencia_Emocional__c \n",
    "     \"\"\"\n",
    ")\n",
    "ficha_Psicologia = pd.DataFrame(results[\"records\"])\n",
    "\n",
    "ficha_Psicologia = ficha_Psicologia[\n",
    "    [\n",
    "        \"Name\",\n",
    "        \"Rut__c\",\n",
    "        \"Nombre_Empresa__c\",\n",
    "        \"CreatedDate\",\n",
    "        \"Canal__c\",\n",
    "        \"Empresa__c\",\n",
    "        \"Account__c\",\n",
    "        \"Motivo_de_consulta_manifiesto__c\",\n",
    "    ]\n",
    "]\n",
    "ficha_Psicologia[\"clinica\"] = \"Psicología\"\n",
    "ficha_Psicologia.Motivo_de_consulta_manifiesto__c.fillna(0, inplace=True)\n",
    "ficha_Psicologia[\"Motivo_de_consulta_manifiesto__c\"] = np.where(\n",
    "    ficha_Psicologia[\"Motivo_de_consulta_manifiesto__c\"] == 0,\n",
    "    \"Otras Derivaciones\",\n",
    "    ficha_Psicologia[\"Motivo_de_consulta_manifiesto__c\"],\n",
    ")\n",
    "# ficha_Psicologia['77'] = len(ficha_Psicologia['Motivo_de_consulta_manifiesto__c'])\n",
    "ficha_Psicologia = ficha_Psicologia.rename(\n",
    "    columns={\n",
    "        \"Name\": \"Codigo Ficha\",\n",
    "        \"Rut__c\": \"Rut\",\n",
    "        \"Nombre_Empresa__c\": \"Empleador\",\n",
    "        \"CreatedDate\": \"Fecha\",\n",
    "        \"Canal__c\": \"Canal\",\n",
    "        \"Empresa__c\": \"Cod. Empresa\",\n",
    "        \"Account__c\": \"Id Paciente\",\n",
    "        \"clinica\": \"Clínica\",\n",
    "        \"Motivo_de_consulta_manifiesto__c\": \"Motivo de consulta\",\n",
    "    }\n",
    ")\n",
    "\n",
    "ficha_Psicologia.shape"
   ]
  },
  {
   "cell_type": "code",
   "execution_count": 20,
   "metadata": {
    "notebookRunGroups": {
     "groupValue": "1"
    }
   },
   "outputs": [
    {
     "data": {
      "text/plain": [
       "(758, 8)"
      ]
     },
     "execution_count": 20,
     "metadata": {},
     "output_type": "execute_result"
    }
   ],
   "source": [
    "# Clinica Sueño\n",
    "results = sf.query_all(\n",
    "    \"\"\"\n",
    "   select  Name, RUT__c, Nombre_Empresa__c, CreatedDate, Canal__c, Empresa__c, Account__c, RecordTypeId from Ficha_Cl_nica_del_Sue_o__c \n",
    "     \"\"\"\n",
    ")\n",
    "ficha_Sueno = pd.DataFrame(results[\"records\"])\n",
    "ficha_Sueno = ficha_Sueno[\n",
    "    [\n",
    "        \"Name\",\n",
    "        \"Rut__c\",\n",
    "        \"Nombre_Empresa__c\",\n",
    "        \"CreatedDate\",\n",
    "        \"Canal__c\",\n",
    "        \"Empresa__c\",\n",
    "        \"Account__c\",\n",
    "    ]\n",
    "]\n",
    "ficha_Sueno[\"clinica\"] = \"Clínica Del Sueño\"\n",
    "ficha_Sueno = ficha_Sueno.rename(\n",
    "    columns={\n",
    "        \"Name\": \"Codigo Ficha\",\n",
    "        \"Rut__c\": \"Rut\",\n",
    "        \"Nombre_Empresa__c\": \"Empleador\",\n",
    "        \"CreatedDate\": \"Fecha\",\n",
    "        \"Canal__c\": \"Canal\",\n",
    "        \"Empresa__c\": \"Cod. Empresa\",\n",
    "        \"Account__c\": \"Id Paciente\",\n",
    "        \"clinica\": \"Clínica\",\n",
    "    }\n",
    ")\n",
    "ficha_Sueno.shape"
   ]
  },
  {
   "cell_type": "code",
   "execution_count": 21,
   "metadata": {
    "notebookRunGroups": {
     "groupValue": "1"
    }
   },
   "outputs": [
    {
     "data": {
      "text/plain": [
       "(2487, 8)"
      ]
     },
     "execution_count": 21,
     "metadata": {},
     "output_type": "execute_result"
    }
   ],
   "source": [
    "# Clinica PAciente Cronico\n",
    "results = sf.query_all(\n",
    "    \"\"\"\n",
    "   select  Name, RUT__c, Nombre_Empresa__c, CreatedDate, Canal__c, Empresa__c, Account__c from Ficha_Cl_nica_Seg_Paciente_Cr_nico__c  \n",
    "     \"\"\"\n",
    ")\n",
    "ficha_Cronico = pd.DataFrame(results[\"records\"])\n",
    "ficha_Cronico = ficha_Cronico[\n",
    "    [\n",
    "        \"Name\",\n",
    "        \"Rut__c\",\n",
    "        \"Nombre_Empresa__c\",\n",
    "        \"CreatedDate\",\n",
    "        \"Canal__c\",\n",
    "        \"Empresa__c\",\n",
    "        \"Account__c\",\n",
    "    ]\n",
    "]\n",
    "ficha_Cronico[\"clinica\"] = \"Pacientes Crónicos\"\n",
    "ficha_Cronico = ficha_Cronico.rename(\n",
    "    columns={\n",
    "        \"Name\": \"Codigo Ficha\",\n",
    "        \"Rut__c\": \"Rut\",\n",
    "        \"Nombre_Empresa__c\": \"Empleador\",\n",
    "        \"CreatedDate\": \"Fecha\",\n",
    "        \"Canal__c\": \"Canal\",\n",
    "        \"Empresa__c\": \"Cod. Empresa\",\n",
    "        \"Account__c\": \"Id Paciente\",\n",
    "        \"clinica\": \"Clínica\",\n",
    "    }\n",
    ")\n",
    "ficha_Cronico.shape"
   ]
  },
  {
   "cell_type": "code",
   "execution_count": 22,
   "metadata": {
    "notebookRunGroups": {
     "groupValue": "1"
    }
   },
   "outputs": [
    {
     "data": {
      "text/plain": [
       "(11698, 8)"
      ]
     },
     "execution_count": 22,
     "metadata": {},
     "output_type": "execute_result"
    }
   ],
   "source": [
    "# Clinica Telemedicina\n",
    "results = sf.query_all(\n",
    "    \"\"\"\n",
    "   select  Name, RUT__c, Nombre_Empresa__c, CreatedDate, Canal__c, Empresa__c, Account__c from Ficha_Cl_nica_Telemedicina__c   \n",
    "     \"\"\"\n",
    ")\n",
    "ficha_Telemedicina = pd.DataFrame(results[\"records\"])\n",
    "ficha_Telemedicina = ficha_Telemedicina[\n",
    "    [\n",
    "        \"Name\",\n",
    "        \"Rut__c\",\n",
    "        \"Nombre_Empresa__c\",\n",
    "        \"CreatedDate\",\n",
    "        \"Canal__c\",\n",
    "        \"Empresa__c\",\n",
    "        \"Account__c\",\n",
    "    ]\n",
    "]\n",
    "ficha_Telemedicina[\"clinica\"] = \"Telemedicina\"\n",
    "ficha_Telemedicina = ficha_Telemedicina.rename(\n",
    "    columns={\n",
    "        \"Name\": \"Codigo Ficha\",\n",
    "        \"Rut__c\": \"Rut\",\n",
    "        \"Nombre_Empresa__c\": \"Empleador\",\n",
    "        \"CreatedDate\": \"Fecha\",\n",
    "        \"Canal__c\": \"Canal\",\n",
    "        \"Empresa__c\": \"Cod. Empresa\",\n",
    "        \"Account__c\": \"Id Paciente\",\n",
    "        \"clinica\": \"Clínica\",\n",
    "    }\n",
    ")\n",
    "ficha_Telemedicina.shape"
   ]
  },
  {
   "cell_type": "code",
   "execution_count": 23,
   "metadata": {
    "notebookRunGroups": {
     "groupValue": "1"
    }
   },
   "outputs": [
    {
     "data": {
      "text/plain": [
       "(80, 8)"
      ]
     },
     "execution_count": 23,
     "metadata": {},
     "output_type": "execute_result"
    }
   ],
   "source": [
    "# Clinica Veterinaria\n",
    "results = sf.query_all(\n",
    "    \"\"\"\n",
    "   select  Name, RUT__c, Nombre_Empresa__c, CreatedDate, Canal__c, Empresa__c, Account__c from Ficha_Cl_nica_Veterinaria__c    \n",
    "     \"\"\"\n",
    ")\n",
    "ficha_Veterinaria = pd.DataFrame(results[\"records\"])\n",
    "ficha_Veterinaria = ficha_Veterinaria[\n",
    "    [\n",
    "        \"Name\",\n",
    "        \"Rut__c\",\n",
    "        \"Nombre_Empresa__c\",\n",
    "        \"CreatedDate\",\n",
    "        \"Canal__c\",\n",
    "        \"Empresa__c\",\n",
    "        \"Account__c\",\n",
    "    ]\n",
    "]\n",
    "ficha_Veterinaria[\"clinica\"] = \"Veterinaria\"\n",
    "ficha_Veterinaria = ficha_Veterinaria.rename(\n",
    "    columns={\n",
    "        \"Name\": \"Codigo Ficha\",\n",
    "        \"Rut__c\": \"Rut\",\n",
    "        \"Nombre_Empresa__c\": \"Empleador\",\n",
    "        \"CreatedDate\": \"Fecha\",\n",
    "        \"Canal__c\": \"Canal\",\n",
    "        \"Empresa__c\": \"Cod. Empresa\",\n",
    "        \"Account__c\": \"Id Paciente\",\n",
    "        \"clinica\": \"Clínica\",\n",
    "    }\n",
    ")\n",
    "ficha_Veterinaria.shape"
   ]
  },
  {
   "cell_type": "code",
   "execution_count": 24,
   "metadata": {
    "notebookRunGroups": {
     "groupValue": "1"
    }
   },
   "outputs": [
    {
     "data": {
      "text/plain": [
       "(217, 8)"
      ]
     },
     "execution_count": 24,
     "metadata": {},
     "output_type": "execute_result"
    }
   ],
   "source": [
    "# Clinica Orientacion\n",
    "results = sf.query_all(\n",
    "    \"\"\"\n",
    "   select  Name, RUT__c, Nombre_Empresa__c, CreatedDate, Canal__c, Empresa__c, Account__c from Ficha_Orientaci_n_Medica__c     \n",
    "     \"\"\"\n",
    ")\n",
    "ficha_Orientacion = pd.DataFrame(results[\"records\"])\n",
    "ficha_Orientacion = ficha_Orientacion[\n",
    "    [\n",
    "        \"Name\",\n",
    "        \"Rut__c\",\n",
    "        \"Nombre_Empresa__c\",\n",
    "        \"CreatedDate\",\n",
    "        \"Canal__c\",\n",
    "        \"Empresa__c\",\n",
    "        \"Account__c\",\n",
    "    ]\n",
    "]\n",
    "ficha_Orientacion[\"clinica\"] = \"Orientación Médica\"\n",
    "ficha_Orientacion = ficha_Orientacion.rename(\n",
    "    columns={\n",
    "        \"Name\": \"Codigo Ficha\",\n",
    "        \"Rut__c\": \"Rut\",\n",
    "        \"Nombre_Empresa__c\": \"Empleador\",\n",
    "        \"CreatedDate\": \"Fecha\",\n",
    "        \"Canal__c\": \"Canal\",\n",
    "        \"Empresa__c\": \"Cod. Empresa\",\n",
    "        \"Account__c\": \"Id Paciente\",\n",
    "        \"clinica\": \"Clínica\",\n",
    "    }\n",
    ")\n",
    "ficha_Orientacion.shape\n"
   ]
  },
  {
   "cell_type": "code",
   "execution_count": 25,
   "metadata": {
    "notebookRunGroups": {
     "groupValue": "1"
    }
   },
   "outputs": [
    {
     "data": {
      "text/plain": [
       "(3424, 8)"
      ]
     },
     "execution_count": 25,
     "metadata": {},
     "output_type": "execute_result"
    }
   ],
   "source": [
    "# Clinica Front\n",
    "results = sf.query_all(\n",
    "    \"\"\"\n",
    "   select  Name, RUT__c, Nombre_Empresa__c, CreatedDate, Canal__c, Empresa__c, Account__c from Ficha_Front__c     \n",
    "     \"\"\"\n",
    ")\n",
    "ficha_Front = pd.DataFrame(results[\"records\"])\n",
    "\n",
    "ficha_Front = ficha_Front[\n",
    "    [\n",
    "        \"Name\",\n",
    "        \"Rut__c\",\n",
    "        \"Nombre_Empresa__c\",\n",
    "        \"CreatedDate\",\n",
    "        \"Canal__c\",\n",
    "        \"Empresa__c\",\n",
    "        \"Account__c\",\n",
    "    ]\n",
    "]\n",
    "ficha_Front[\"clinica\"] = \"Orientación Médica\"\n",
    "ficha_Front = ficha_Front.rename(\n",
    "    columns={\n",
    "        \"Name\": \"Codigo Ficha\",\n",
    "        \"Rut__c\": \"Rut\",\n",
    "        \"Nombre_Empresa__c\": \"Empleador\",\n",
    "        \"CreatedDate\": \"Fecha\",\n",
    "        \"Canal__c\": \"Canal\",\n",
    "        \"Empresa__c\": \"Cod. Empresa\",\n",
    "        \"Account__c\": \"Id Paciente\",\n",
    "        \"clinica\": \"Clínica\",\n",
    "    }\n",
    ")\n",
    "ficha_Front.shape\n"
   ]
  },
  {
   "cell_type": "code",
   "execution_count": 26,
   "metadata": {
    "notebookRunGroups": {
     "groupValue": "1"
    }
   },
   "outputs": [
    {
     "data": {
      "text/plain": [
       "(3605, 8)"
      ]
     },
     "execution_count": 26,
     "metadata": {},
     "output_type": "execute_result"
    }
   ],
   "source": [
    "# Clinica_general\n",
    "results = sf.query_all(\n",
    "    \"\"\"\n",
    "   select  Name, RUT__c, Nombre_Empresa__c, CreatedDate, Canal__c, Empresa__c,Account__c,   Programa__c   from Ficha_Clinica_General__c \n",
    "     \"\"\"\n",
    ")\n",
    "ficha_general = pd.DataFrame(results[\"records\"])\n",
    "\n",
    "ficha_general = ficha_general[\n",
    "    [\n",
    "        \"Name\",\n",
    "        \"Rut__c\",\n",
    "        \"Nombre_Empresa__c\",\n",
    "        \"CreatedDate\",\n",
    "        \"Canal__c\",\n",
    "        \"Empresa__c\",\n",
    "        \"Account__c\",\n",
    "        \"Programa__c\",\n",
    "    ]\n",
    "]\n",
    "\n",
    "ficha_general = ficha_general.rename(\n",
    "    columns={\n",
    "        \"Name\": \"Codigo Ficha\",\n",
    "        \"Rut__c\": \"Rut\",\n",
    "        \"Nombre_Empresa__c\": \"Empleador\",\n",
    "        \"CreatedDate\": \"Fecha\",\n",
    "        \"Canal__c\": \"Canal\",\n",
    "        \"Empresa__c\": \"Cod. Empresa\",\n",
    "        \"Account__c\": \"Id Paciente\",\n",
    "        \"Programa__c\": \"Clínica\",\n",
    "    }\n",
    ")\n",
    "ficha_general.shape"
   ]
  },
  {
   "cell_type": "code",
   "execution_count": 27,
   "metadata": {
    "notebookRunGroups": {
     "groupValue": "1"
    }
   },
   "outputs": [
    {
     "data": {
      "text/plain": [
       "(268, 8)"
      ]
     },
     "execution_count": 27,
     "metadata": {},
     "output_type": "execute_result"
    }
   ],
   "source": [
    "# Clinica Ingreso deportivo\n",
    "results = sf.query_all(\n",
    "    \"\"\"\n",
    "   select  Name, RUT__c, Nombre_Empresa__c, CreatedDate, Canal__c, Empresa__c, Account__c from Ficha_Cl_nica_Ingreso_Deportivo__c    \n",
    "     \"\"\"\n",
    ")\n",
    "ficha_Ingreso_dep = pd.DataFrame(results[\"records\"])\n",
    "\n",
    "ficha_Ingreso_dep = ficha_Ingreso_dep[\n",
    "    [\n",
    "        \"Name\",\n",
    "        \"Rut__c\",\n",
    "        \"Nombre_Empresa__c\",\n",
    "        \"CreatedDate\",\n",
    "        \"Canal__c\",\n",
    "        \"Empresa__c\",\n",
    "        \"Account__c\",\n",
    "    ]\n",
    "]\n",
    "ficha_Ingreso_dep[\"clinica\"] = \"Ingreso Deporte Seguro\"\n",
    "ficha_Ingreso_dep = ficha_Ingreso_dep.rename(\n",
    "    columns={\n",
    "        \"Name\": \"Codigo Ficha\",\n",
    "        \"Rut__c\": \"Rut\",\n",
    "        \"Nombre_Empresa__c\": \"Empleador\",\n",
    "        \"CreatedDate\": \"Fecha\",\n",
    "        \"Canal__c\": \"Canal\",\n",
    "        \"Empresa__c\": \"Cod. Empresa\",\n",
    "        \"Account__c\": \"Id Paciente\",\n",
    "        \"clinica\": \"Clínica\",\n",
    "    }\n",
    ")\n",
    "ficha_Ingreso_dep.shape"
   ]
  },
  {
   "cell_type": "code",
   "execution_count": 28,
   "metadata": {
    "notebookRunGroups": {
     "groupValue": "1"
    }
   },
   "outputs": [
    {
     "data": {
      "text/plain": [
       "(40324, 9)"
      ]
     },
     "execution_count": 28,
     "metadata": {},
     "output_type": "execute_result"
    }
   ],
   "source": [
    "Clinicas = pd.concat(\n",
    "    [\n",
    "        ficha_Front,\n",
    "        ficha_Ingreso_dep,\n",
    "        ficha_Orientacion,\n",
    "        ficha_Veterinaria,\n",
    "        ficha_Telemedicina,\n",
    "        ficha_Cronico,\n",
    "        ficha_Sueno,\n",
    "        ficha_Psicologia,\n",
    "        ficha_Apssex,\n",
    "        ficha_nutricion,\n",
    "        ficha_deporte,\n",
    "        ficha_general,\n",
    "    ],\n",
    "    axis=0,\n",
    ")\n",
    "Clinicas.shape"
   ]
  },
  {
   "cell_type": "code",
   "execution_count": 29,
   "metadata": {
    "notebookRunGroups": {
     "groupValue": "1"
    }
   },
   "outputs": [
    {
     "data": {
      "text/plain": [
       "(87702, 9)"
      ]
     },
     "execution_count": 29,
     "metadata": {},
     "output_type": "execute_result"
    }
   ],
   "source": [
    "Reortes_general = pd.concat([Clinicas, Gran_Citas_deservicio], axis=0)\n",
    "Reortes_general.shape"
   ]
  },
  {
   "cell_type": "code",
   "execution_count": 30,
   "metadata": {
    "notebookRunGroups": {
     "groupValue": "1"
    }
   },
   "outputs": [],
   "source": [
    "Reortes_general[\"Dia\"] = pd.to_datetime(Reortes_general[\"Fecha\"]).dt.day\n",
    "\n",
    "Reortes_general[\"Mes\"] = pd.to_datetime(Reortes_general[\"Fecha\"]).dt.month\n",
    "\n",
    "Reortes_general[\"semana\"] = pd.to_datetime(Reortes_general[\"Fecha\"]).dt.month_name()\n",
    "\n",
    "Reortes_general[\"Año\"] = pd.to_datetime(Reortes_general[\"Fecha\"]).dt.year\n",
    "\n",
    "\n",
    "# x = date(Citas_de_servicio['Dia'], Citas_de_servicio['Mes'], Citas_de_servicio['Año'] )\n",
    "Reortes_general[\"Fecha_chilena\"] = pd.to_datetime(\n",
    "    Reortes_general[\"Fecha\"], dayfirst=True, yearfirst=False, exact=True\n",
    ")\n",
    "Reortes_general[\"Fecha_chilena2\"] = Reortes_general[\"Fecha_chilena\"].dt.strftime(\n",
    "    \"%d-%m-%Y\"\n",
    ")\n",
    "general_Sexo = {\n",
    "    \"M\": \"Hombre\",\n",
    "    \"m\": \"Hombre\",\n",
    "    \"Masculino\": \"Hombre\",\n",
    "    \"Femenino\": \"Mujer\",\n",
    "    \"\": \"Prefiero no responder\",\n",
    "    \"HOMBRE\": \"Hombre\",\n",
    "    \"MUJER\": \"Mujer\",\n",
    "    \"F\": \"Mujer\",\n",
    "    \"O\": \"O\",\n",
    "    \"Ambos\": \"Prefiero no responder\",\n",
    "    \"N\": \"Prefiero no responder\",\n",
    "    \"Otro\": \"Prefiero no responder\",\n",
    "    \"n\": \"Prefiero no responder\",\n",
    "    \"N\": \"Prefiero no responder\",\n",
    "    \"FEMENINO\": \"Mujer\",\n",
    "    \"f\": \"Mujer\",\n",
    "    \"MASCULINO\": \"Hombre\",\n",
    "    \"m\": \"Hombre\",\n",
    "    \"M \": \"Hombre\",\n",
    "    \"F \": \"Mujer\",\n",
    "    \"Varón\": \"Hombre\",\n",
    "}\n",
    "\n",
    "\n",
    "clinicas_ = {\n",
    "    \"Clínica de Nutrición\": \"Nutrición\",\n",
    "    \"Clínica de Deporte\": \"Deporte\",\n",
    "    \"Clínica de Psicología\": \"Psicología\",\n",
    "    \"Clínica Ingreso Deportivo Seguro\": \"Deporte\",\n",
    "    \"Clínica del Sueño\": \"Clínica Del Sueño\",\n",
    "    \"Clínica Seguimiento Pacientes Crónicos\": \"Pacientes Crónicos\",\n",
    "    \"Seguimiento de Pacientes Crónicos\": \"Pacientes Crónicos\",\n",
    "    \"Orientación Médica\": \"Orientación Médica\",\n",
    "    \"Asesoría Deportiva\": \"Deporte\",\n",
    "    \"Asistencia Emocional\": \"Psicología\",\n",
    "    \"Asistencia Nutricional\": \"Nutrición\",\n",
    "    \"Clínica APSSex\": \"Asesoría Psicológica en Salud Sexual\",\n",
    "    \"Clínica Del Sueño\": \"Clínica Del Sueño\",\n",
    "    \"Clínica Veterinaria\": \"Veterinaria\",\n",
    "    \"Ingreso Deportivo Seguro\": \"Deporte\",\n",
    "    \"Clínica Mis Primeros Pasos\": \"Mis Primeros Pasos\",\n",
    "    \"Ingreso Deporte Seguro\": \"Deporte\",\n",
    "    \"APSSex\": \"Asesoría Psicológica en Salud Sexual\",\n",
    "    \"Médico Cirujano\": \"Telemedicina\",\n",
    "    \"Kinesióloga\": \"Deporte\",\n",
    "    \"Coordinadora General de Operaciones\": \"Nutrición\",\n",
    "    \"Coordinadora de Equipo de Nutrición y Deporte\": \"Deporte\",\n",
    "    \"Encargado de Equipo Psicología\": \"Psicología\",\n",
    "    \"Psicólogo\": \"Psicología\",\n",
    "    \"Coordinadora de Telemedicina, Enfermería, Maternidad, Dental y Veterinaria\": \"Telemedicina\",\n",
    "}\n",
    "Reortes_general.replace({\"Clínica\": clinicas_}, inplace=True)\n",
    "\n",
    "Clinicas_metlife = {\n",
    "    \"Mis Primeros Pasos\": \"Pacientes Crónicos\",\n",
    "    \"Ingreso Deporte Seguro\": \"Deporte\",\n",
    "    \"Veterinaria\": \"Orientación Médica\",\n",
    "}\n",
    "\n",
    "Canal = {\n",
    "    \"Phone\": \"Teléfono\",\n",
    "    \"Video\": \"Videollamada\",\n",
    "    \"Entrante - Chat\": \"Entrante - Chat Online\",\n",
    "    \"Videollamda\": \"Videollamada\",\n",
    "    \"Teléfono\": \"LLamada\",\n",
    "}\n",
    "Reortes_general.replace({\"Canal\": Canal}, inplace=True)\n",
    "\n",
    "meses = {\n",
    "    1: \"Enero\",\n",
    "    2: \"Febrero\",\n",
    "    3: \"Marzo\",\n",
    "    4: \"Abril\",\n",
    "    5: \"Mayo\",\n",
    "    6: \"Junio\",\n",
    "    7: \"Julio\",\n",
    "    8: \"Agosto\",\n",
    "    9: \"Septiembre\",\n",
    "    10: \"Octubre\",\n",
    "    11: \"Noviembre\",\n",
    "    12: \"Diciembre\",\n",
    "}\n",
    "Reortes_general[\"Meses\"] = Reortes_general[\"Mes\"]\n",
    "Reortes_general.replace({\"Meses\": meses}, inplace=True)\n",
    "Reortes_general[\"Fecha_chilena\"] = Reortes_general[\"Fecha_chilena\"].dt.tz_localize(None)\n",
    "Reortes_general.Rut.fillna(\"0\", inplace=True)\n",
    "Reortes_general.Canal.fillna(\"Sin Canal\", inplace=True)"
   ]
  },
  {
   "cell_type": "code",
   "execution_count": 31,
   "metadata": {
    "notebookRunGroups": {
     "groupValue": "1"
    }
   },
   "outputs": [
    {
     "data": {
      "text/html": [
       "<div>\n",
       "<style scoped>\n",
       "    .dataframe tbody tr th:only-of-type {\n",
       "        vertical-align: middle;\n",
       "    }\n",
       "\n",
       "    .dataframe tbody tr th {\n",
       "        vertical-align: top;\n",
       "    }\n",
       "\n",
       "    .dataframe thead th {\n",
       "        text-align: right;\n",
       "    }\n",
       "</style>\n",
       "<table border=\"1\" class=\"dataframe\">\n",
       "  <thead>\n",
       "    <tr style=\"text-align: right;\">\n",
       "      <th></th>\n",
       "      <th>Codigo Ficha</th>\n",
       "      <th>Rut</th>\n",
       "      <th>Empleador</th>\n",
       "      <th>Fecha</th>\n",
       "      <th>Canal</th>\n",
       "      <th>Cod. Empresa</th>\n",
       "      <th>Id Paciente</th>\n",
       "      <th>Clínica</th>\n",
       "      <th>Motivo de consulta</th>\n",
       "      <th>Dia</th>\n",
       "      <th>Mes</th>\n",
       "      <th>semana</th>\n",
       "      <th>Año</th>\n",
       "      <th>Fecha_chilena</th>\n",
       "      <th>Fecha_chilena2</th>\n",
       "      <th>Meses</th>\n",
       "    </tr>\n",
       "  </thead>\n",
       "  <tbody>\n",
       "    <tr>\n",
       "      <th>0</th>\n",
       "      <td>FFF-0002</td>\n",
       "      <td>MOAI100308MJCRCSA4</td>\n",
       "      <td>None</td>\n",
       "      <td>2022-12-08T17:20:22.000+0000</td>\n",
       "      <td>Sin Canal</td>\n",
       "      <td>None</td>\n",
       "      <td>0018c00002d7jlWAAQ</td>\n",
       "      <td>Orientación Médica</td>\n",
       "      <td>NaN</td>\n",
       "      <td>8</td>\n",
       "      <td>12</td>\n",
       "      <td>December</td>\n",
       "      <td>2022</td>\n",
       "      <td>2022-12-08 17:20:22</td>\n",
       "      <td>08-12-2022</td>\n",
       "      <td>Diciembre</td>\n",
       "    </tr>\n",
       "    <tr>\n",
       "      <th>1</th>\n",
       "      <td>FFF-0003</td>\n",
       "      <td>AUGI770101MJCNNR06</td>\n",
       "      <td>Ambar MX</td>\n",
       "      <td>2022-12-08T21:13:52.000+0000</td>\n",
       "      <td>Saliente - Llamada</td>\n",
       "      <td>a1Y8c00000C6THvEAN</td>\n",
       "      <td>0018c00002cXy5OAAS</td>\n",
       "      <td>Orientación Médica</td>\n",
       "      <td>NaN</td>\n",
       "      <td>8</td>\n",
       "      <td>12</td>\n",
       "      <td>December</td>\n",
       "      <td>2022</td>\n",
       "      <td>2022-12-08 21:13:52</td>\n",
       "      <td>08-12-2022</td>\n",
       "      <td>Diciembre</td>\n",
       "    </tr>\n",
       "    <tr>\n",
       "      <th>2</th>\n",
       "      <td>FFF-0005</td>\n",
       "      <td>HESJ910818MVZRNN01</td>\n",
       "      <td>ICSI MX</td>\n",
       "      <td>2022-12-14T20:23:06.000+0000</td>\n",
       "      <td>Sin Canal</td>\n",
       "      <td>a1Y8c00000C6TKKEA3</td>\n",
       "      <td>0018c00002cXzcdAAC</td>\n",
       "      <td>Orientación Médica</td>\n",
       "      <td>NaN</td>\n",
       "      <td>14</td>\n",
       "      <td>12</td>\n",
       "      <td>December</td>\n",
       "      <td>2022</td>\n",
       "      <td>2022-12-14 20:23:06</td>\n",
       "      <td>14-12-2022</td>\n",
       "      <td>Diciembre</td>\n",
       "    </tr>\n",
       "    <tr>\n",
       "      <th>3</th>\n",
       "      <td>FFF-0006</td>\n",
       "      <td>RARA950705HNLMSN07</td>\n",
       "      <td>Ambar MX</td>\n",
       "      <td>2023-01-02T21:49:13.000+0000</td>\n",
       "      <td>Sin Canal</td>\n",
       "      <td>a1Y8c00000C6THlEAN</td>\n",
       "      <td>0018c00002cXy5EAAS</td>\n",
       "      <td>Orientación Médica</td>\n",
       "      <td>NaN</td>\n",
       "      <td>2</td>\n",
       "      <td>1</td>\n",
       "      <td>January</td>\n",
       "      <td>2023</td>\n",
       "      <td>2023-01-02 21:49:13</td>\n",
       "      <td>02-01-2023</td>\n",
       "      <td>Enero</td>\n",
       "    </tr>\n",
       "    <tr>\n",
       "      <th>4</th>\n",
       "      <td>FFF-0007</td>\n",
       "      <td>185410072</td>\n",
       "      <td>Colaboradores Care Assistance Chile SPA</td>\n",
       "      <td>2023-01-20T16:06:57.000+0000</td>\n",
       "      <td>Entrante - Llamada</td>\n",
       "      <td>a1Y8c00000C6UcYEAV</td>\n",
       "      <td>0018c00002amV70AAE</td>\n",
       "      <td>Orientación Médica</td>\n",
       "      <td>NaN</td>\n",
       "      <td>20</td>\n",
       "      <td>1</td>\n",
       "      <td>January</td>\n",
       "      <td>2023</td>\n",
       "      <td>2023-01-20 16:06:57</td>\n",
       "      <td>20-01-2023</td>\n",
       "      <td>Enero</td>\n",
       "    </tr>\n",
       "  </tbody>\n",
       "</table>\n",
       "</div>"
      ],
      "text/plain": [
       "  Codigo Ficha                 Rut                                Empleador  \\\n",
       "0     FFF-0002  MOAI100308MJCRCSA4                                     None   \n",
       "1     FFF-0003  AUGI770101MJCNNR06                                 Ambar MX   \n",
       "2     FFF-0005  HESJ910818MVZRNN01                                  ICSI MX   \n",
       "3     FFF-0006  RARA950705HNLMSN07                                 Ambar MX   \n",
       "4     FFF-0007           185410072  Colaboradores Care Assistance Chile SPA   \n",
       "\n",
       "                          Fecha               Canal        Cod. Empresa  \\\n",
       "0  2022-12-08T17:20:22.000+0000           Sin Canal                None   \n",
       "1  2022-12-08T21:13:52.000+0000  Saliente - Llamada  a1Y8c00000C6THvEAN   \n",
       "2  2022-12-14T20:23:06.000+0000           Sin Canal  a1Y8c00000C6TKKEA3   \n",
       "3  2023-01-02T21:49:13.000+0000           Sin Canal  a1Y8c00000C6THlEAN   \n",
       "4  2023-01-20T16:06:57.000+0000  Entrante - Llamada  a1Y8c00000C6UcYEAV   \n",
       "\n",
       "          Id Paciente             Clínica Motivo de consulta  Dia  Mes  \\\n",
       "0  0018c00002d7jlWAAQ  Orientación Médica                NaN    8   12   \n",
       "1  0018c00002cXy5OAAS  Orientación Médica                NaN    8   12   \n",
       "2  0018c00002cXzcdAAC  Orientación Médica                NaN   14   12   \n",
       "3  0018c00002cXy5EAAS  Orientación Médica                NaN    2    1   \n",
       "4  0018c00002amV70AAE  Orientación Médica                NaN   20    1   \n",
       "\n",
       "     semana   Año       Fecha_chilena Fecha_chilena2      Meses  \n",
       "0  December  2022 2022-12-08 17:20:22     08-12-2022  Diciembre  \n",
       "1  December  2022 2022-12-08 21:13:52     08-12-2022  Diciembre  \n",
       "2  December  2022 2022-12-14 20:23:06     14-12-2022  Diciembre  \n",
       "3   January  2023 2023-01-02 21:49:13     02-01-2023      Enero  \n",
       "4   January  2023 2023-01-20 16:06:57     20-01-2023      Enero  "
      ]
     },
     "execution_count": 31,
     "metadata": {},
     "output_type": "execute_result"
    }
   ],
   "source": [
    "Reortes_general.head()\n"
   ]
  },
  {
   "cell_type": "code",
   "execution_count": 32,
   "metadata": {
    "notebookRunGroups": {
     "groupValue": "1"
    }
   },
   "outputs": [
    {
     "data": {
      "text/html": [
       "<div>\n",
       "<style scoped>\n",
       "    .dataframe tbody tr th:only-of-type {\n",
       "        vertical-align: middle;\n",
       "    }\n",
       "\n",
       "    .dataframe tbody tr th {\n",
       "        vertical-align: top;\n",
       "    }\n",
       "\n",
       "    .dataframe thead th {\n",
       "        text-align: right;\n",
       "    }\n",
       "</style>\n",
       "<table border=\"1\" class=\"dataframe\">\n",
       "  <thead>\n",
       "    <tr style=\"text-align: right;\">\n",
       "      <th></th>\n",
       "      <th>Id Pacientes Programas</th>\n",
       "      <th>Paciente__c</th>\n",
       "      <th>Programas_por_Empresas__c</th>\n",
       "      <th>Id Account Empresa</th>\n",
       "      <th>Nombre Empresa</th>\n",
       "      <th>Holding</th>\n",
       "      <th>Campaña</th>\n",
       "      <th>Empleador</th>\n",
       "      <th>Poliza</th>\n",
       "      <th>Id Account Paciente</th>\n",
       "      <th>...</th>\n",
       "      <th>Cargo</th>\n",
       "      <th>Departamento</th>\n",
       "      <th>Sexo</th>\n",
       "      <th>Telefono</th>\n",
       "      <th>Tipo de Documento</th>\n",
       "      <th>Codigo EMP</th>\n",
       "      <th>Codigo A</th>\n",
       "      <th>Vigente</th>\n",
       "      <th>Corredor</th>\n",
       "      <th>Pais</th>\n",
       "    </tr>\n",
       "  </thead>\n",
       "  <tbody>\n",
       "    <tr>\n",
       "      <th>0</th>\n",
       "      <td>a1Y8c00000C5asnEAB</td>\n",
       "      <td>0018c00002amLbpAAE</td>\n",
       "      <td>a1W8c000007vDPvEAM</td>\n",
       "      <td>0018c00002axQaeAAE</td>\n",
       "      <td>Serv. De Comerc. Y Ases. Callbusiness SPA</td>\n",
       "      <td>DBCH - CNSTD 2019</td>\n",
       "      <td>MetLife</td>\n",
       "      <td>Serv. De Comerc. Y Ases. Callbusiness SPA</td>\n",
       "      <td>340016490</td>\n",
       "      <td>0018c00002amLbpAAE</td>\n",
       "      <td>...</td>\n",
       "      <td>None</td>\n",
       "      <td>None</td>\n",
       "      <td>Mujer</td>\n",
       "      <td>967786319</td>\n",
       "      <td>RUT</td>\n",
       "      <td>EMP6008</td>\n",
       "      <td>A-0173</td>\n",
       "      <td>SI</td>\n",
       "      <td>Directo BCH</td>\n",
       "      <td>a1U8c000005dAtnEAE</td>\n",
       "    </tr>\n",
       "    <tr>\n",
       "      <th>1</th>\n",
       "      <td>a1Y8c00000C5asoEAB</td>\n",
       "      <td>0018c00002amLbqAAE</td>\n",
       "      <td>a1W8c000007vDSpEAM</td>\n",
       "      <td>0018c00002axQecAAE</td>\n",
       "      <td>Clínica Alemana</td>\n",
       "      <td>Clínica Alemana</td>\n",
       "      <td>MetLife</td>\n",
       "      <td>Clínica Alemana</td>\n",
       "      <td>340006119</td>\n",
       "      <td>0018c00002amLbqAAE</td>\n",
       "      <td>...</td>\n",
       "      <td>None</td>\n",
       "      <td>None</td>\n",
       "      <td>Mujer</td>\n",
       "      <td>966906983</td>\n",
       "      <td>RUT</td>\n",
       "      <td>EMP6274</td>\n",
       "      <td>A-0353</td>\n",
       "      <td>SI</td>\n",
       "      <td>Willis Towers Watson S.A. Corred. De Seg.</td>\n",
       "      <td>a1U8c000005dAtnEAE</td>\n",
       "    </tr>\n",
       "    <tr>\n",
       "      <th>2</th>\n",
       "      <td>a1Y8c00000C5aspEAB</td>\n",
       "      <td>0018c00002amLbrAAE</td>\n",
       "      <td>a1W8c000007vDSpEAM</td>\n",
       "      <td>0018c00002axQecAAE</td>\n",
       "      <td>Clínica Alemana</td>\n",
       "      <td>Clínica Alemana</td>\n",
       "      <td>MetLife</td>\n",
       "      <td>Clínica Alemana</td>\n",
       "      <td>340006119</td>\n",
       "      <td>0018c00002amLbrAAE</td>\n",
       "      <td>...</td>\n",
       "      <td>None</td>\n",
       "      <td>None</td>\n",
       "      <td>Mujer</td>\n",
       "      <td>988697805</td>\n",
       "      <td>RUT</td>\n",
       "      <td>EMP6274</td>\n",
       "      <td>A-0353</td>\n",
       "      <td>SI</td>\n",
       "      <td>Willis Towers Watson S.A. Corred. De Seg.</td>\n",
       "      <td>a1U8c000005dAtnEAE</td>\n",
       "    </tr>\n",
       "    <tr>\n",
       "      <th>3</th>\n",
       "      <td>a1Y8c00000C5asqEAB</td>\n",
       "      <td>0018c00002amLbsAAE</td>\n",
       "      <td>a1W8c000007vDSpEAM</td>\n",
       "      <td>0018c00002axQecAAE</td>\n",
       "      <td>Clínica Alemana</td>\n",
       "      <td>Clínica Alemana</td>\n",
       "      <td>MetLife</td>\n",
       "      <td>Clínica Alemana</td>\n",
       "      <td>340006119</td>\n",
       "      <td>0018c00002amLbsAAE</td>\n",
       "      <td>...</td>\n",
       "      <td>None</td>\n",
       "      <td>None</td>\n",
       "      <td>Hombre</td>\n",
       "      <td>953757757</td>\n",
       "      <td>RUT</td>\n",
       "      <td>EMP6274</td>\n",
       "      <td>A-0353</td>\n",
       "      <td>SI</td>\n",
       "      <td>Willis Towers Watson S.A. Corred. De Seg.</td>\n",
       "      <td>a1U8c000005dAtnEAE</td>\n",
       "    </tr>\n",
       "    <tr>\n",
       "      <th>4</th>\n",
       "      <td>a1Y8c00000C5asrEAB</td>\n",
       "      <td>0018c00002amLc2AAE</td>\n",
       "      <td>a1W8c000007vDSpEAM</td>\n",
       "      <td>0018c00002axQecAAE</td>\n",
       "      <td>Clínica Alemana</td>\n",
       "      <td>Clínica Alemana</td>\n",
       "      <td>MetLife</td>\n",
       "      <td>Clínica Alemana</td>\n",
       "      <td>340006119</td>\n",
       "      <td>0018c00002amLc2AAE</td>\n",
       "      <td>...</td>\n",
       "      <td>None</td>\n",
       "      <td>None</td>\n",
       "      <td>Mujer</td>\n",
       "      <td>982058845</td>\n",
       "      <td>RUT</td>\n",
       "      <td>EMP6274</td>\n",
       "      <td>A-0353</td>\n",
       "      <td>SI</td>\n",
       "      <td>Willis Towers Watson S.A. Corred. De Seg.</td>\n",
       "      <td>a1U8c000005dAtnEAE</td>\n",
       "    </tr>\n",
       "  </tbody>\n",
       "</table>\n",
       "<p>5 rows × 23 columns</p>\n",
       "</div>"
      ],
      "text/plain": [
       "  Id Pacientes Programas         Paciente__c Programas_por_Empresas__c  \\\n",
       "0     a1Y8c00000C5asnEAB  0018c00002amLbpAAE        a1W8c000007vDPvEAM   \n",
       "1     a1Y8c00000C5asoEAB  0018c00002amLbqAAE        a1W8c000007vDSpEAM   \n",
       "2     a1Y8c00000C5aspEAB  0018c00002amLbrAAE        a1W8c000007vDSpEAM   \n",
       "3     a1Y8c00000C5asqEAB  0018c00002amLbsAAE        a1W8c000007vDSpEAM   \n",
       "4     a1Y8c00000C5asrEAB  0018c00002amLc2AAE        a1W8c000007vDSpEAM   \n",
       "\n",
       "   Id Account Empresa                             Nombre Empresa  \\\n",
       "0  0018c00002axQaeAAE  Serv. De Comerc. Y Ases. Callbusiness SPA   \n",
       "1  0018c00002axQecAAE                            Clínica Alemana   \n",
       "2  0018c00002axQecAAE                            Clínica Alemana   \n",
       "3  0018c00002axQecAAE                            Clínica Alemana   \n",
       "4  0018c00002axQecAAE                            Clínica Alemana   \n",
       "\n",
       "             Holding  Campaña                                  Empleador  \\\n",
       "0  DBCH - CNSTD 2019  MetLife  Serv. De Comerc. Y Ases. Callbusiness SPA   \n",
       "1    Clínica Alemana  MetLife                            Clínica Alemana   \n",
       "2    Clínica Alemana  MetLife                            Clínica Alemana   \n",
       "3    Clínica Alemana  MetLife                            Clínica Alemana   \n",
       "4    Clínica Alemana  MetLife                            Clínica Alemana   \n",
       "\n",
       "      Poliza Id Account Paciente  ... Cargo Departamento    Sexo   Telefono  \\\n",
       "0  340016490  0018c00002amLbpAAE  ...  None         None   Mujer  967786319   \n",
       "1  340006119  0018c00002amLbqAAE  ...  None         None   Mujer  966906983   \n",
       "2  340006119  0018c00002amLbrAAE  ...  None         None   Mujer  988697805   \n",
       "3  340006119  0018c00002amLbsAAE  ...  None         None  Hombre  953757757   \n",
       "4  340006119  0018c00002amLc2AAE  ...  None         None   Mujer  982058845   \n",
       "\n",
       "  Tipo de Documento Codigo EMP Codigo A Vigente  \\\n",
       "0               RUT    EMP6008   A-0173      SI   \n",
       "1               RUT    EMP6274   A-0353      SI   \n",
       "2               RUT    EMP6274   A-0353      SI   \n",
       "3               RUT    EMP6274   A-0353      SI   \n",
       "4               RUT    EMP6274   A-0353      SI   \n",
       "\n",
       "                                    Corredor                Pais  \n",
       "0                                Directo BCH  a1U8c000005dAtnEAE  \n",
       "1  Willis Towers Watson S.A. Corred. De Seg.  a1U8c000005dAtnEAE  \n",
       "2  Willis Towers Watson S.A. Corred. De Seg.  a1U8c000005dAtnEAE  \n",
       "3  Willis Towers Watson S.A. Corred. De Seg.  a1U8c000005dAtnEAE  \n",
       "4  Willis Towers Watson S.A. Corred. De Seg.  a1U8c000005dAtnEAE  \n",
       "\n",
       "[5 rows x 23 columns]"
      ]
     },
     "execution_count": 32,
     "metadata": {},
     "output_type": "execute_result"
    }
   ],
   "source": [
    "empresas_unidas.head()\n"
   ]
  },
  {
   "cell_type": "code",
   "execution_count": 33,
   "metadata": {
    "notebookRunGroups": {
     "groupValue": "1"
    }
   },
   "outputs": [
    {
     "data": {
      "text/plain": [
       "(105417, 39)"
      ]
     },
     "execution_count": 33,
     "metadata": {},
     "output_type": "execute_result"
    }
   ],
   "source": [
    "Reportes_con_empresas = pd.merge(\n",
    "    left=Reortes_general,\n",
    "    right=empresas_unidas,\n",
    "    how=\"left\",\n",
    "    left_on=\"Id Paciente\",\n",
    "    right_on=\"Id Account Paciente\",\n",
    ")\n",
    "\n",
    "\n",
    "Reportes_con_empresas.shape\n"
   ]
  },
  {
   "cell_type": "code",
   "execution_count": 34,
   "metadata": {
    "notebookRunGroups": {
     "groupValue": "1"
    }
   },
   "outputs": [],
   "source": [
    "Reportes_con_empresas[\"Rut_x\"].str.upper()\n",
    "Reportes_con_empresas[\"Rut_y\"].str.upper()\n",
    "\n",
    "Reportes_con_empresas.Empleador_x.fillna(\n",
    "    Reportes_con_empresas[\"Nombre Empresa\"], inplace=True\n",
    ")"
   ]
  },
  {
   "cell_type": "code",
   "execution_count": 35,
   "metadata": {},
   "outputs": [],
   "source": [
    "Programas_pacientes.to_excel(\"C:/Users/jmartinez/Documents/Empresas.xlsx\", index=False)\n"
   ]
  },
  {
   "attachments": {},
   "cell_type": "markdown",
   "metadata": {},
   "source": [
    "Salida de datos\n"
   ]
  },
  {
   "cell_type": "code",
   "execution_count": 36,
   "metadata": {
    "notebookRunGroups": {
     "groupValue": "1"
    }
   },
   "outputs": [
    {
     "name": "stderr",
     "output_type": "stream",
     "text": [
      "C:\\Users\\jmartinez\\AppData\\Local\\Temp\\ipykernel_12052\\1707868384.py:34: SettingWithCopyWarning: \n",
      "A value is trying to be set on a copy of a slice from a DataFrame\n",
      "\n",
      "See the caveats in the documentation: https://pandas.pydata.org/pandas-docs/stable/user_guide/indexing.html#returning-a-view-versus-a-copy\n",
      "  reportes.drop(reportes[(reportes[\"Rut_x\"] == \"153298939\")].index, inplace=True)\n",
      "C:\\Users\\jmartinez\\AppData\\Local\\Temp\\ipykernel_12052\\1707868384.py:35: SettingWithCopyWarning: \n",
      "A value is trying to be set on a copy of a slice from a DataFrame\n",
      "\n",
      "See the caveats in the documentation: https://pandas.pydata.org/pandas-docs/stable/user_guide/indexing.html#returning-a-view-versus-a-copy\n",
      "  reportes.drop(reportes[(reportes[\"Rut_x\"] == \"191710940\")].index, inplace=True)\n",
      "C:\\Users\\jmartinez\\AppData\\Local\\Temp\\ipykernel_12052\\1707868384.py:36: SettingWithCopyWarning: \n",
      "A value is trying to be set on a copy of a slice from a DataFrame\n",
      "\n",
      "See the caveats in the documentation: https://pandas.pydata.org/pandas-docs/stable/user_guide/indexing.html#returning-a-view-versus-a-copy\n",
      "  reportes.drop(reportes[(reportes[\"Rut_x\"] == \"182470082\")].index, inplace=True)\n",
      "C:\\Users\\jmartinez\\AppData\\Local\\Temp\\ipykernel_12052\\1707868384.py:37: SettingWithCopyWarning: \n",
      "A value is trying to be set on a copy of a slice from a DataFrame\n",
      "\n",
      "See the caveats in the documentation: https://pandas.pydata.org/pandas-docs/stable/user_guide/indexing.html#returning-a-view-versus-a-copy\n",
      "  reportes.drop(reportes[(reportes[\"Rut_x\"] == \"16277865\")].index, inplace=True)\n",
      "C:\\Users\\jmartinez\\AppData\\Local\\Temp\\ipykernel_12052\\1707868384.py:38: SettingWithCopyWarning: \n",
      "A value is trying to be set on a copy of a slice from a DataFrame\n",
      "\n",
      "See the caveats in the documentation: https://pandas.pydata.org/pandas-docs/stable/user_guide/indexing.html#returning-a-view-versus-a-copy\n",
      "  reportes.drop(reportes[(reportes[\"Rut_x\"] == \"HEGJ930928HMNRRL06\")].index, inplace=True)\n",
      "C:\\Users\\jmartinez\\AppData\\Local\\Temp\\ipykernel_12052\\1707868384.py:39: SettingWithCopyWarning: \n",
      "A value is trying to be set on a copy of a slice from a DataFrame\n",
      "\n",
      "See the caveats in the documentation: https://pandas.pydata.org/pandas-docs/stable/user_guide/indexing.html#returning-a-view-versus-a-copy\n",
      "  reportes.drop(reportes[(reportes[\"Rut_x\"] == \"1122345\")].index, inplace=True)\n",
      "C:\\Users\\jmartinez\\AppData\\Local\\Temp\\ipykernel_12052\\1707868384.py:40: SettingWithCopyWarning: \n",
      "A value is trying to be set on a copy of a slice from a DataFrame\n",
      "\n",
      "See the caveats in the documentation: https://pandas.pydata.org/pandas-docs/stable/user_guide/indexing.html#returning-a-view-versus-a-copy\n",
      "  reportes.drop(reportes[(reportes[\"Rut_x\"] == \"28131394\")].index, inplace=True)\n",
      "C:\\Users\\jmartinez\\AppData\\Local\\Temp\\ipykernel_12052\\1707868384.py:41: SettingWithCopyWarning: \n",
      "A value is trying to be set on a copy of a slice from a DataFrame\n",
      "\n",
      "See the caveats in the documentation: https://pandas.pydata.org/pandas-docs/stable/user_guide/indexing.html#returning-a-view-versus-a-copy\n",
      "  reportes.drop(reportes[(reportes[\"Rut_x\"] == \"34005945\")].index, inplace=True)\n",
      "C:\\Users\\jmartinez\\AppData\\Local\\Temp\\ipykernel_12052\\1707868384.py:42: SettingWithCopyWarning: \n",
      "A value is trying to be set on a copy of a slice from a DataFrame\n",
      "\n",
      "See the caveats in the documentation: https://pandas.pydata.org/pandas-docs/stable/user_guide/indexing.html#returning-a-view-versus-a-copy\n",
      "  reportes.drop(reportes[(reportes[\"Rut_x\"] == \"255356798\")].index, inplace=True)\n",
      "C:\\Users\\jmartinez\\AppData\\Local\\Temp\\ipykernel_12052\\1707868384.py:48: SettingWithCopyWarning: \n",
      "A value is trying to be set on a copy of a slice from a DataFrame.\n",
      "Try using .loc[row_indexer,col_indexer] = value instead\n",
      "\n",
      "See the caveats in the documentation: https://pandas.pydata.org/pandas-docs/stable/user_guide/indexing.html#returning-a-view-versus-a-copy\n",
      "  reportes.replace({\"Pais\": Pais_SF}, inplace=True)\n"
     ]
    }
   ],
   "source": [
    "reportes = Reportes_con_empresas[\n",
    "    [\n",
    "        \"Codigo Ficha\",\n",
    "        \"Rut_x\",\n",
    "        \"Nombre\",\n",
    "        \"Sexo\",\n",
    "        \"Ocupacion\",\n",
    "        \"Cargo\",\n",
    "        \"Departamento\",\n",
    "        \"Campaña\",\n",
    "        \"Holding\",\n",
    "        \"Empleador_x\",\n",
    "        \"Poliza\",\n",
    "        \"Fecha\",\n",
    "        \"Fecha_chilena\",\n",
    "        \"Fecha_chilena2\",\n",
    "        \"Dia\",\n",
    "        \"Mes\",\n",
    "        \"Año\",\n",
    "        \"Meses\",\n",
    "        \"Canal\",\n",
    "        \"Clínica\",\n",
    "        \"Motivo de consulta\",\n",
    "        \"Nombre Empresa\",\n",
    "        \"Codigo EMP\",\n",
    "        \"Codigo A\",\n",
    "        \"Vigente\",\n",
    "        \"Corredor\",\n",
    "        \"Pais\",\n",
    "    ]\n",
    "]\n",
    "\n",
    "\n",
    "reportes.drop(reportes[(reportes[\"Rut_x\"] == \"153298939\")].index, inplace=True)\n",
    "reportes.drop(reportes[(reportes[\"Rut_x\"] == \"191710940\")].index, inplace=True)\n",
    "reportes.drop(reportes[(reportes[\"Rut_x\"] == \"182470082\")].index, inplace=True)\n",
    "reportes.drop(reportes[(reportes[\"Rut_x\"] == \"16277865\")].index, inplace=True)\n",
    "reportes.drop(reportes[(reportes[\"Rut_x\"] == \"HEGJ930928HMNRRL06\")].index, inplace=True)\n",
    "reportes.drop(reportes[(reportes[\"Rut_x\"] == \"1122345\")].index, inplace=True)\n",
    "reportes.drop(reportes[(reportes[\"Rut_x\"] == \"28131394\")].index, inplace=True)\n",
    "reportes.drop(reportes[(reportes[\"Rut_x\"] == \"34005945\")].index, inplace=True)\n",
    "reportes.drop(reportes[(reportes[\"Rut_x\"] == \"255356798\")].index, inplace=True)\n",
    "\n",
    "\n",
    "\n",
    "\n",
    "Pais_SF = {\"a1U8c000005dAtnEAE\": \"Chile\", \"a1U8c000005dAtsEAE\": \"México\"}\n",
    "reportes.replace({\"Pais\": Pais_SF}, inplace=True)\n",
    "\n",
    "reportes = reportes.rename(columns={\"Rut_x\": \"Rut\", \"Empleador_x\": \"Empleador\"})\n",
    "reportes[\"Motivo de consulta\"].fillna(0, inplace=True)\n",
    "reportes[\"Motivo de consulta\"] = np.where(\n",
    "    (reportes[\"Clínica\"] == \"Psicología\") & (reportes[\"Motivo de consulta\"] == 0),\n",
    "    \"Ingreso a Psicologia\",\n",
    "    reportes[\"Motivo de consulta\"],\n",
    ")\n",
    "reportes.Clínica.fillna(\"Orientación Médica\", inplace=True)\n",
    "reportes = reportes.drop_duplicates(\n",
    "    [\"Clínica\", \"Empleador\", \"Nombre Empresa\", \"Codigo Ficha\"], keep=\"last\"\n",
    ")\n",
    "\n",
    "reportes[\"Rut\"] = reportes[\"Rut\"].str.replace(\"-\", \"\")\n",
    "reportes.replace({\"Sexo\": general_Sexo}, inplace=True)"
   ]
  },
  {
   "cell_type": "code",
   "execution_count": 37,
   "metadata": {},
   "outputs": [
    {
     "data": {
      "text/plain": [
       "(99048, 27)"
      ]
     },
     "execution_count": 37,
     "metadata": {},
     "output_type": "execute_result"
    }
   ],
   "source": [
    "reportes.shape"
   ]
  },
  {
   "cell_type": "code",
   "execution_count": 38,
   "metadata": {
    "notebookRunGroups": {
     "groupValue": "1"
    }
   },
   "outputs": [],
   "source": [
    "\"\"\" Reportes_con_empresas.to_excel(\n",
    "    \"C:/Users/jmartinez/Documents/reportes_completos.xlsx\", index=False\n",
    ") \"\"\"\n",
    "\n",
    "\n",
    "Programas_pacientes.to_excel(\"C:/Users/jmartinez/Documents/Empresas.xlsx\", index=False)\n",
    "reportes.to_excel(\"C:/Users/jmartinez/Documents/reportes.xlsx\", index=False)"
   ]
  },
  {
   "cell_type": "code",
   "execution_count": 39,
   "metadata": {
    "notebookRunGroups": {
     "groupValue": "1"
    }
   },
   "outputs": [],
   "source": [
    "general_todo = reportes[(reportes[\"Empleador\"] == reportes[\"Nombre Empresa\"])]\n",
    "general_todo.to_excel(\"F:/Reportes SF/General/General_Base.xlsx\", index=False)\n"
   ]
  },
  {
   "cell_type": "code",
   "execution_count": 40,
   "metadata": {},
   "outputs": [],
   "source": [
    "reportes = reportes[\n",
    "    [\n",
    "        \"Codigo Ficha\",\n",
    "        \"Rut\",\n",
    "        \"Nombre\",\n",
    "        \"Sexo\",\n",
    "        \"Ocupacion\",\n",
    "        \"Cargo\",\n",
    "        \"Departamento\",\n",
    "        \"Campaña\",\n",
    "        \"Holding\",\n",
    "        \"Empleador\",\n",
    "        \"Poliza\",\n",
    "        \"Fecha\",\n",
    "        \"Fecha_chilena\",\n",
    "        \"Fecha_chilena2\",\n",
    "        \"Dia\",\n",
    "        \"Mes\",\n",
    "        \"Año\",\n",
    "        \"Meses\",\n",
    "        \"Canal\",\n",
    "        \"Clínica\", \n",
    "        \"Motivo de consulta\",       \n",
    "        \"Nombre Empresa\",\n",
    "        \"Codigo EMP\",\n",
    "        \"Codigo A\",\n",
    "        \"Vigente\",\n",
    "        \"Corredor\",\n",
    "        \"Pais\",\n",
    "    ]\n",
    "]\n",
    "Bhp2 = reportes[\n",
    "    (reportes[\"Clínica\"] == \"Psicología\") & (reportes[\"Holding\"] == \"Grupo BHP\")\n",
    "]\n",
    "Bhp2 = Bhp2[[\"Clínica\", \"Motivo de consulta\", \"Fecha_chilena\"]]\n",
    "Bhp2.to_excel(\"F:/Reportes SF/Vida Security/BHP_Base2.xlsx\", index=False)\n",
    "\n",
    "reportes[\"Motivo de consulta\"] = \"\"\n",
    "\n",
    "\n"
   ]
  },
  {
   "attachments": {},
   "cell_type": "markdown",
   "metadata": {},
   "source": [
    "Banco Estado\n"
   ]
  },
  {
   "cell_type": "code",
   "execution_count": 41,
   "metadata": {},
   "outputs": [],
   "source": [
    "Banco_Estado = reportes[\n",
    "    (reportes[\"Corredor\"] == \"Bancoestado Corredores De Seguros S.A.\")\n",
    "    & (reportes[\"Holding\"] != \"Sin Holding Asociado\")\n",
    "]\n",
    "Banco_Estado = Banco_Estado[\n",
    "    (Banco_Estado[\"Empleador\"] == Banco_Estado[\"Nombre Empresa\"])\n",
    "]\n",
    "\n",
    "Banco_Estado.to_excel(\n",
    "    \"F:/Reportes SF/Banco Estado Metlife/Banco_Estado_Base.xlsx\", index=False\n",
    ")"
   ]
  },
  {
   "attachments": {},
   "cell_type": "markdown",
   "metadata": {},
   "source": [
    "ZURICH\n"
   ]
  },
  {
   "cell_type": "code",
   "execution_count": 42,
   "metadata": {},
   "outputs": [],
   "source": [
    "Zurich = reportes[\n",
    "    (reportes[\"Campaña\"] == \"Zurich\")\n",
    "    & (reportes[\"Empleador\"] == reportes[\"Nombre Empresa\"])\n",
    "]\n",
    "Zurich.to_excel(\"F:/Reportes SF/Zurich/Zurich_Base.xlsx\", index=False)\n",
    "\n",
    "Amsa = reportes[\n",
    "    (reportes[\"Campaña\"] == \"Zurich\")\n",
    "    & (reportes[\"Empleador\"] == reportes[\"Nombre Empresa\"])\n",
    "    & (reportes[\"Holding\"] == \"Antofagasta Minerals S.A.\")\n",
    "]\n",
    "Amsa.to_excel(\"F:/Reportes SF/Zurich/Amsa.xlsx\", index=False)\n",
    "\n",
    "Bechtel = reportes[\n",
    "    (reportes[\"Campaña\"] == \"Zurich\")\n",
    "    & (reportes[\"Empleador\"] == reportes[\"Nombre Empresa\"])\n",
    "    & (reportes[\"Holding\"] == \"Bechtel\")\n",
    "]\n",
    "Bechtel.to_excel(\"F:/Reportes SF/Zurich/Bechtel.xlsx\", index=False)\n"
   ]
  },
  {
   "attachments": {},
   "cell_type": "markdown",
   "metadata": {},
   "source": [
    "VIDA SECURITY\n"
   ]
  },
  {
   "cell_type": "code",
   "execution_count": 43,
   "metadata": {},
   "outputs": [
    {
     "name": "stderr",
     "output_type": "stream",
     "text": [
      "C:\\Users\\jmartinez\\AppData\\Local\\Temp\\ipykernel_12052\\1398605690.py:106: UserWarning: Boolean Series key will be reindexed to match DataFrame index.\n",
      "  Enami = Vida_security[\n"
     ]
    }
   ],
   "source": [
    "Vida_security = reportes[\n",
    "    (reportes[\"Campaña\"] == \"Vida Security\")\n",
    "    & (reportes[\"Empleador\"] == reportes[\"Nombre Empresa\"])\n",
    "]\n",
    "Vida_security = Vida_security[\n",
    "    [\n",
    "        \"Codigo Ficha\",\n",
    "        \"Rut\",\n",
    "        \"Nombre\",\n",
    "        \"Sexo\",\n",
    "        \"Ocupacion\",\n",
    "        \"Cargo\",\n",
    "        \"Departamento\",\n",
    "        \"Campaña\",\n",
    "        \"Holding\",\n",
    "        \"Empleador\",\n",
    "        \"Poliza\",\n",
    "        \"Fecha\",\n",
    "        \"Fecha_chilena\",\n",
    "        \"Fecha_chilena2\",\n",
    "        \"Dia\",\n",
    "        \"Mes\",\n",
    "        \"Meses\",\n",
    "        \"Año\",\n",
    "        \"Canal\",\n",
    "        \"Clínica\",\n",
    "        \"Nombre Empresa\",\n",
    "        \"Codigo EMP\",\n",
    "        \"Codigo A\",\n",
    "        \"Vigente\",\n",
    "        \"Corredor\",\n",
    "        \"Pais\",\n",
    "    ]\n",
    "]\n",
    "Vida_security.to_excel(\n",
    "    \"F:/Reportes SF/Vida Security/Vida_Security_Base.xlsx\", index=False\n",
    ")\n",
    "\n",
    "\n",
    "Bhp = reportes[\n",
    "    (reportes[\"Holding\"] == \"Grupo BHP\")\n",
    "    & (reportes[\"Empleador\"] == reportes[\"Nombre Empresa\"])\n",
    "]\n",
    "Bhp = Bhp[\n",
    "    [\n",
    "        \"Codigo Ficha\",\n",
    "        \"Rut\",\n",
    "        \"Nombre\",\n",
    "        \"Sexo\",\n",
    "        \"Ocupacion\",\n",
    "        \"Cargo\",\n",
    "        \"Departamento\",\n",
    "        \"Campaña\",\n",
    "        \"Holding\",\n",
    "        \"Empleador\",\n",
    "        \"Poliza\",\n",
    "        \"Fecha\",\n",
    "        \"Fecha_chilena\",\n",
    "        \"Fecha_chilena2\",\n",
    "        \"Dia\",\n",
    "        \"Mes\",\n",
    "        \"Meses\",\n",
    "        \"Año\",\n",
    "        \"Canal\",\n",
    "        \"Clínica\",\n",
    "        \"Nombre Empresa\",\n",
    "        \"Codigo EMP\",\n",
    "        \"Codigo A\",\n",
    "        \"Vigente\",\n",
    "        \"Corredor\",\n",
    "        \"Pais\",\n",
    "    ]\n",
    "]\n",
    "\n",
    "\n",
    "\n",
    "Bhp.to_excel(\"F:/Reportes SF/Vida Security/BHP_Base.xlsx\", index=False)\n",
    "\n",
    "\n",
    "\n",
    "Sqm = reportes[\n",
    "    (reportes[\"Holding\"] == \"Grupo S.Q.M.\")\n",
    "    & (reportes[\"Empleador\"] == reportes[\"Nombre Empresa\"])\n",
    "]\n",
    "Sqm.to_excel(\"F:/Reportes SF/Vida Security/SQM_Base.xlsx\", index=False)\n",
    "\n",
    "\n",
    "Vs_mercer = reportes[\n",
    "    (reportes[\"Corredor\"] == \"Mercer\") & (reportes[\"Campaña\"] == \"Vida Security\")\n",
    "]\n",
    "Vs_mercer = Vs_mercer[(Vs_mercer[\"Empleador\"] == Vs_mercer[\"Nombre Empresa\"])]\n",
    "Vs_mercer.to_excel(\"F:/Reportes SF/Vida Security/Vs_mercer_Base.xlsx\", index=False)\n",
    "\n",
    "Ferronor = reportes[\n",
    "    (reportes[\"Holding\"] == \"Ferronor\") & (reportes[\"Campaña\"] == \"Vida Security\")\n",
    "]\n",
    "Ferronor = Ferronor[(Ferronor[\"Empleador\"] == Ferronor[\"Nombre Empresa\"])]\n",
    "Ferronor.to_excel(\"F:/Reportes SF/Vida Security/Ferronor_Base.xlsx\", index=False)\n",
    "\n",
    "Itau = reportes[\n",
    "    (reportes[\"Holding\"] == \"Itaú\") & (reportes[\"Campaña\"] == \"Vida Security\")\n",
    "]\n",
    "Itau = Itau[(Itau[\"Empleador\"] == Itau[\"Nombre Empresa\"])]\n",
    "Itau.to_excel(\"F:/Reportes SF/Vida Security/Itau_Base.xlsx\", index=False)\n",
    "\n",
    "Enami = Vida_security[\n",
    "    (reportes[\"Holding\"] == \"Enami\") & (reportes[\"Campaña\"] == \"Vida Security\")\n",
    "]\n",
    "Enami = Enami[(Enami[\"Empleador\"] == Enami[\"Nombre Empresa\"])]\n",
    "Enami.to_excel(\"F:/Reportes SF/Vida Security/Enami_Base.xlsx\", index=False)"
   ]
  },
  {
   "attachments": {},
   "cell_type": "markdown",
   "metadata": {},
   "source": [
    "MERCER"
   ]
  },
  {
   "cell_type": "code",
   "execution_count": 44,
   "metadata": {},
   "outputs": [],
   "source": [
    "Mercer = reportes[\n",
    "    (reportes[\"Campaña\"] == \"Mercer\")\n",
    "    & (reportes[\"Empleador\"] == reportes[\"Nombre Empresa\"])\n",
    "]\n",
    "Mercer.to_excel(\"F:/Reportes SF/Mercer/Mercer_Base.xlsx\", index=False)"
   ]
  },
  {
   "attachments": {},
   "cell_type": "markdown",
   "metadata": {},
   "source": [
    "SURA\n"
   ]
  },
  {
   "cell_type": "code",
   "execution_count": 45,
   "metadata": {},
   "outputs": [],
   "source": [
    "Sura = reportes[\n",
    "    (reportes[\"Campaña\"] == \"Sura\")\n",
    "    & (reportes[\"Empleador\"] == reportes[\"Nombre Empresa\"])\n",
    "]\n",
    "Sura.to_excel(\"F:/Reportes SF/Sura/Sura_Base.xlsx\", index=False)"
   ]
  },
  {
   "attachments": {},
   "cell_type": "markdown",
   "metadata": {},
   "source": [
    "Pesco\n"
   ]
  },
  {
   "cell_type": "code",
   "execution_count": 46,
   "metadata": {},
   "outputs": [],
   "source": [
    "Pesco = reportes[\n",
    "    (reportes[\"Campaña\"] == \"Pesco\")\n",
    "    & (reportes[\"Empleador\"] == reportes[\"Nombre Empresa\"])\n",
    "]\n",
    "Pesco.to_excel(\"F:/Reportes SF/Pesco/Pesco_Base.xlsx\", index=False)"
   ]
  },
  {
   "attachments": {},
   "cell_type": "markdown",
   "metadata": {},
   "source": [
    "Milan Fajanovic\n"
   ]
  },
  {
   "cell_type": "code",
   "execution_count": 47,
   "metadata": {},
   "outputs": [],
   "source": [
    "Milan = reportes[\n",
    "    (reportes[\"Campaña\"] == \"Milan Fajanovic\")\n",
    "    & (reportes[\"Empleador\"] == reportes[\"Nombre Empresa\"])\n",
    "]\n",
    "Milan.to_excel(\"F:/Reportes SF/Milan Fajanovic/Milan_Fajanovic_Base.xlsx\", index=False)"
   ]
  },
  {
   "attachments": {},
   "cell_type": "markdown",
   "metadata": {},
   "source": [
    "Wom\n"
   ]
  },
  {
   "cell_type": "code",
   "execution_count": 48,
   "metadata": {},
   "outputs": [],
   "source": [
    "wom = reportes[\n",
    "    (reportes[\"Campaña\"] == \"MetLife\")\n",
    "    & (reportes[\"Empleador\"] == reportes[\"Nombre Empresa\"])\n",
    "    & (reportes[\"Empleador\"] == \"Wom S.A.\")\n",
    "]\n",
    "wom.to_excel(\"F:/Reportes SF/Wom/Wom_Base.xlsx\", index=False)\n"
   ]
  },
  {
   "cell_type": "code",
   "execution_count": 49,
   "metadata": {},
   "outputs": [],
   "source": [
    "Forus = reportes[\n",
    "    (reportes[\"Campaña\"] == \"Forus\")\n",
    "    & (reportes[\"Empleador\"] == reportes[\"Nombre Empresa\"])\n",
    "]\n",
    "Forus.to_excel(\"F:/Reportes SF/Forus/Forus_Base.xlsx\", index=False)"
   ]
  },
  {
   "cell_type": "code",
   "execution_count": 50,
   "metadata": {},
   "outputs": [
    {
     "data": {
      "text/plain": [
       "(5140, 27)"
      ]
     },
     "execution_count": 50,
     "metadata": {},
     "output_type": "execute_result"
    }
   ],
   "source": [
    "Cruz = reportes[\n",
    "    (reportes[\"Campaña\"] == \"Farmacias Cruz Verde\")\n",
    "    & (reportes[\"Empleador\"] == reportes[\"Nombre Empresa\"])\n",
    "]\n",
    "Cruz.to_excel(\"F:/Reportes SF/Cruz Verde/Cruz_Base.xlsx\", index=False)\n",
    "Cruz.shape"
   ]
  },
  {
   "attachments": {},
   "cell_type": "markdown",
   "metadata": {},
   "source": [
    "METLIFE\n"
   ]
  },
  {
   "cell_type": "code",
   "execution_count": 51,
   "metadata": {},
   "outputs": [
    {
     "name": "stderr",
     "output_type": "stream",
     "text": [
      "C:\\Users\\jmartinez\\AppData\\Local\\Temp\\ipykernel_12052\\3111412387.py:7: SettingWithCopyWarning: \n",
      "A value is trying to be set on a copy of a slice from a DataFrame.\n",
      "Try using .loc[row_indexer,col_indexer] = value instead\n",
      "\n",
      "See the caveats in the documentation: https://pandas.pydata.org/pandas-docs/stable/user_guide/indexing.html#returning-a-view-versus-a-copy\n",
      "  Metlife.replace({\"Clínica\": Clinicas_metlife}, inplace=True)\n"
     ]
    }
   ],
   "source": [
    "Metlife = reportes[\n",
    "    (reportes[\"Campaña\"] == \"MetLife\")\n",
    "    & (reportes[\"Empleador\"] == reportes[\"Nombre Empresa\"])\n",
    "]\n",
    "\n",
    "\n",
    "Metlife.replace({\"Clínica\": Clinicas_metlife}, inplace=True)\n",
    "\n",
    "Metlife.to_excel(\"F:/Reportes SF/MetLife/Metlife_Base.xlsx\", index=False)"
   ]
  },
  {
   "cell_type": "code",
   "execution_count": 52,
   "metadata": {},
   "outputs": [
    {
     "name": "stderr",
     "output_type": "stream",
     "text": [
      "C:\\Users\\jmartinez\\AppData\\Local\\Temp\\ipykernel_12052\\2896393119.py:17: SettingWithCopyWarning: \n",
      "A value is trying to be set on a copy of a slice from a DataFrame.\n",
      "Try using .loc[row_indexer,col_indexer] = value instead\n",
      "\n",
      "See the caveats in the documentation: https://pandas.pydata.org/pandas-docs/stable/user_guide/indexing.html#returning-a-view-versus-a-copy\n",
      "  Conosur.replace({\"Clínica\": Clinicas_metlife}, inplace=True)\n"
     ]
    }
   ],
   "source": [
    "Conosur = reportes[\n",
    "    (reportes[\"Codigo EMP\"] == \"EMP5976\")\n",
    "    | (reportes[\"Codigo EMP\"] == \"EMP5977\")\n",
    "    | (reportes[\"Codigo EMP\"] == \"EMP5978\")\n",
    "    | (reportes[\"Codigo EMP\"] == \"EMP5979\")\n",
    "    | (reportes[\"Codigo EMP\"] == \"EMP5980\")\n",
    "    | (reportes[\"Codigo EMP\"] == \"EMP5981\")\n",
    "    | (reportes[\"Codigo EMP\"] == \"EMP5982\")\n",
    "    | (reportes[\"Codigo EMP\"] == \"EMP5983\")\n",
    "    | (reportes[\"Codigo EMP\"] == \"EMP5984\")\n",
    "    | (reportes[\"Codigo EMP\"] == \"EMP5985\")\n",
    "    | (reportes[\"Codigo EMP\"] == \"EMP5985\")\n",
    "    | (reportes[\"Codigo EMP\"] == \"EMP7431\")\n",
    "    | (reportes[\"Codigo EMP\"] == \"EMP2828\")\n",
    "    | (reportes[\"Corredor\"] == \"Cono Sur Corredores De Seguros Ltda.\")\n",
    "]\n",
    "Conosur.replace({\"Clínica\": Clinicas_metlife}, inplace=True)\n",
    "Conosur = Conosur[(Conosur[\"Empleador\"] == Conosur[\"Nombre Empresa\"])]\n",
    "Conosur.to_excel(\"F:/Reportes SF/MetLife/Conosur_Base.xlsx\", index=False)\n"
   ]
  },
  {
   "cell_type": "code",
   "execution_count": 53,
   "metadata": {},
   "outputs": [],
   "source": [
    "Burgos = reportes[\n",
    "    (reportes[\"Codigo EMP\"] == \"EMP5924\")\n",
    "    | (reportes[\"Codigo EMP\"] == \"EMP5925\")\n",
    "    | (reportes[\"Codigo EMP\"] == \"EMP5926\")\n",
    "    | (reportes[\"Codigo EMP\"] == \"EMP5927\")\n",
    "    | (reportes[\"Codigo EMP\"] == \"EMP5928\")\n",
    "    | (reportes[\"Codigo EMP\"] == \"EMP5971\")\n",
    "    | (reportes[\"Codigo EMP\"] == \"EMP5972\")\n",
    "    | (reportes[\"Codigo EMP\"] == \"EMP5973\")\n",
    "    | (reportes[\"Codigo EMP\"] == \"EMP5974\")\n",
    "    | (reportes[\"Codigo EMP\"] == \"EMP5975\")\n",
    "    | (reportes[\"Codigo EMP\"] == \"EMP7259\")\n",
    "    | (reportes[\"Codigo EMP\"] == \"EMP6536\")\n",
    "    | (reportes[\"Codigo EMP\"] == \"EMP6959\")\n",
    "    | (reportes[\"Codigo EMP\"] == \"EMP6388\")\n",
    "    | (reportes[\"Corredor\"] == \"Burgos Y Cía. Corredores De Seguros Ltda.\")\n",
    "]\n",
    "\n",
    "Burgos = Burgos[(Burgos[\"Empleador\"] == Burgos[\"Nombre Empresa\"])]\n",
    "Burgos.replace({\"Clínica\": Clinicas_metlife}, inplace=True)\n",
    "Burgos.to_excel(\"F:/Reportes SF/MetLife/Burgos_Base.xlsx\", index=False)"
   ]
  },
  {
   "cell_type": "code",
   "execution_count": 54,
   "metadata": {},
   "outputs": [],
   "source": [
    "Ultramar = reportes[\n",
    "    (reportes[\"Codigo EMP\"] == \"EMP9232\")\n",
    "    | (reportes[\"Codigo EMP\"] == \"EMP9233\")\n",
    "    | (reportes[\"Codigo EMP\"] == \"EMP9234\")\n",
    "    | (reportes[\"Codigo EMP\"] == \"EMP9235\")\n",
    "    | (reportes[\"Codigo EMP\"] == \"EMP9236\")\n",
    "    | (reportes[\"Codigo EMP\"] == \"EMP9237\")\n",
    "    | (reportes[\"Codigo EMP\"] == \"EMP9238\")\n",
    "    | (reportes[\"Codigo EMP\"] == \"EMP9239\")\n",
    "    | (reportes[\"Codigo EMP\"] == \"EMP9240\")\n",
    "    | (reportes[\"Codigo EMP\"] == \"EMP5955\")\n",
    "    | (reportes[\"Codigo EMP\"] == \"EMP5958\")\n",
    "    | (reportes[\"Codigo EMP\"] == \"EMP5968\")\n",
    "    | (reportes[\"Codigo EMP\"] == \"EMP6713\")\n",
    "    | (reportes[\"Codigo EMP\"] == \"EMP7066\")\n",
    "    | (reportes[\"Codigo EMP\"] == \"EMP7625\")\n",
    "]\n",
    "\n",
    "Ultramar = Ultramar[(Ultramar[\"Empleador\"] == Ultramar[\"Nombre Empresa\"])]\n",
    "Ultramar.replace({\"Clínica\": Clinicas_metlife}, inplace=True)\n",
    "Ultramar.to_excel(\"F:/Reportes SF/MetLife/Ultramar_Base.xlsx\", index=False)"
   ]
  },
  {
   "cell_type": "code",
   "execution_count": 55,
   "metadata": {},
   "outputs": [
    {
     "name": "stderr",
     "output_type": "stream",
     "text": [
      "C:\\Users\\jmartinez\\AppData\\Local\\Temp\\ipykernel_12052\\1073128510.py:51: SettingWithCopyWarning: \n",
      "A value is trying to be set on a copy of a slice from a DataFrame\n",
      "\n",
      "See the caveats in the documentation: https://pandas.pydata.org/pandas-docs/stable/user_guide/indexing.html#returning-a-view-versus-a-copy\n",
      "  sK.Clínica.fillna(\"Orientación Médica\", inplace=True)\n",
      "C:\\Users\\jmartinez\\AppData\\Local\\Temp\\ipykernel_12052\\1073128510.py:52: SettingWithCopyWarning: \n",
      "A value is trying to be set on a copy of a slice from a DataFrame.\n",
      "Try using .loc[row_indexer,col_indexer] = value instead\n",
      "\n",
      "See the caveats in the documentation: https://pandas.pydata.org/pandas-docs/stable/user_guide/indexing.html#returning-a-view-versus-a-copy\n",
      "  sK.replace({\"Sexo\": general_Sexo}, inplace=True)\n",
      "C:\\Users\\jmartinez\\AppData\\Local\\Temp\\ipykernel_12052\\1073128510.py:53: SettingWithCopyWarning: \n",
      "A value is trying to be set on a copy of a slice from a DataFrame.\n",
      "Try using .loc[row_indexer,col_indexer] = value instead\n",
      "\n",
      "See the caveats in the documentation: https://pandas.pydata.org/pandas-docs/stable/user_guide/indexing.html#returning-a-view-versus-a-copy\n",
      "  sK.replace({\"Clínica\": Clinicas_metlife}, inplace=True)\n",
      "C:\\Users\\jmartinez\\AppData\\Local\\Temp\\ipykernel_12052\\1073128510.py:68: SettingWithCopyWarning: \n",
      "A value is trying to be set on a copy of a slice from a DataFrame.\n",
      "Try using .loc[row_indexer,col_indexer] = value instead\n",
      "\n",
      "See the caveats in the documentation: https://pandas.pydata.org/pandas-docs/stable/user_guide/indexing.html#returning-a-view-versus-a-copy\n",
      "  sK.replace({\"Nombre Empresa\": Empresas_Benefits}, inplace=True)\n",
      "C:\\Users\\jmartinez\\AppData\\Local\\Temp\\ipykernel_12052\\1073128510.py:69: SettingWithCopyWarning: \n",
      "A value is trying to be set on a copy of a slice from a DataFrame.\n",
      "Try using .loc[row_indexer,col_indexer] = value instead\n",
      "\n",
      "See the caveats in the documentation: https://pandas.pydata.org/pandas-docs/stable/user_guide/indexing.html#returning-a-view-versus-a-copy\n",
      "  sK.replace({\"Empleador\": Empresas_Benefits}, inplace=True)\n",
      "C:\\Users\\jmartinez\\AppData\\Local\\Temp\\ipykernel_12052\\1073128510.py:70: SettingWithCopyWarning: \n",
      "A value is trying to be set on a copy of a slice from a DataFrame.\n",
      "Try using .loc[row_indexer,col_indexer] = value instead\n",
      "\n",
      "See the caveats in the documentation: https://pandas.pydata.org/pandas-docs/stable/user_guide/indexing.html#returning-a-view-versus-a-copy\n",
      "  sK.replace({\"Clínica\": Lorena_clinicas}, inplace=True)\n"
     ]
    }
   ],
   "source": [
    "Antiguo = \"F:/Reportes SF/MetLife/MetLife_Antiguo.xlsx\"\n",
    "Antiguo_sk = pd.read_excel(Antiguo)\n",
    "\n",
    "reportes2 = pd.concat([reportes, Antiguo_sk])\n",
    "\n",
    "\n",
    "sK = reportes2[\n",
    "    (reportes2[\"Poliza\"] == \"340010027\")\n",
    "    | (reportes2[\"Poliza\"] == \"340010109\")\n",
    "    | (reportes2[\"Poliza\"] == \"340013106\")\n",
    "    | (reportes2[\"Poliza\"] == \"340013107\")\n",
    "    | (reportes2[\"Poliza\"] == \"340013108\")\n",
    "    | (reportes2[\"Poliza\"] == \"340013109\")\n",
    "    | (reportes2[\"Poliza\"] == \"340013110\")\n",
    "    | (reportes2[\"Poliza\"] == \"340013111\")\n",
    "    | (reportes2[\"Poliza\"] == \"340013112\")\n",
    "    | (reportes2[\"Poliza\"] == \"340013113\")\n",
    "    | (reportes2[\"Poliza\"] == \"340013114\")\n",
    "    | (reportes2[\"Poliza\"] == \"340013115\")\n",
    "    | (reportes2[\"Poliza\"] == \"340013116\")\n",
    "    | (reportes2[\"Poliza\"] == \"340013118\")\n",
    "    | (reportes2[\"Poliza\"] == \"340013120\")\n",
    "    | (reportes2[\"Poliza\"] == \"340013127\")\n",
    "    | (reportes2[\"Poliza\"] == \"340013128\")\n",
    "    | (reportes2[\"Poliza\"] == \"340013129\")\n",
    "    | (reportes2[\"Poliza\"] == \"340013130\")\n",
    "    | (reportes2[\"Poliza\"] == \"340013131\")\n",
    "    | (reportes2[\"Poliza\"] == \"340013132\")\n",
    "    | (reportes2[\"Poliza\"] == \"340013218\")\n",
    "    | (reportes2[\"Poliza\"] == \"340013873\")\n",
    "    | (reportes2[\"Poliza\"] == \"340014021\")\n",
    "    | (reportes2[\"Poliza\"] == \"340016184\")\n",
    "    | (reportes2[\"Poliza\"] == \"340016185\")\n",
    "    | (reportes2[\"Poliza\"] == \"340018745\")\n",
    "    | (reportes2[\"Poliza\"] == \"340018746\")\n",
    "    | (reportes2[\"Poliza\"] == \"340018747\")\n",
    "    | (reportes2[\"Poliza\"] == \"340019079\")\n",
    "    | (reportes2[\"Poliza\"] == \"340020289\")\n",
    "    | (reportes2[\"Poliza\"] == \"340020315\")\n",
    "    | (reportes2[\"Poliza\"] == \"340022643\")\n",
    "    | (reportes2[\"Poliza\"] == \"340022652\")\n",
    "    | (reportes2[\"Poliza\"] == \"340022662\")\n",
    "    | (reportes2[\"Poliza\"] == \"340022664\")\n",
    "    | (reportes2[\"Poliza\"] == \"340022665\")\n",
    "    | (reportes2[\"Poliza\"] == \"340022668\")\n",
    "    | (reportes2[\"Poliza\"] == \"340023297\")\n",
    "    | (reportes2[\"Poliza\"] == \"340023397\")\n",
    "    \n",
    "]\n",
    "\n",
    "sK.Clínica.fillna(\"Orientación Médica\", inplace=True)\n",
    "sK.replace({\"Sexo\": general_Sexo}, inplace=True)\n",
    "sK.replace({\"Clínica\": Clinicas_metlife}, inplace=True)\n",
    "Lorena_clinicas = {\n",
    "    \"Nutricion\": \"Nutrición\",\n",
    "    \"Deportivo\": \"Deporte\",\n",
    "    \"Front\": \"Orientación Médica\",\n",
    "    \"\": \"Orientación Médica\",\n",
    "    \"Enfermería\": \"Pacientes Crónicos\",\n",
    "}\n",
    "Empresas_Benefits = {\n",
    "    \"BancoChile\": \"Banco De Chile\",\n",
    "    \"bancochile\": \"Banco De Chile\",\n",
    "    \"Fundacion De Salud El Teniente\": \"Fundación De Salud El Teniente\",\n",
    "    \"Serv Biene. Fundación Arturo López Pérez\": \"Serv. Bienestar Fundación Arturo López Pérez\",\n",
    "}\n",
    "\n",
    "sK.replace({\"Nombre Empresa\": Empresas_Benefits}, inplace=True)\n",
    "sK.replace({\"Empleador\": Empresas_Benefits}, inplace=True)\n",
    "sK.replace({\"Clínica\": Lorena_clinicas}, inplace=True)\n",
    "\n",
    "sK = sK[(sK[\"Empleador\"] == sK[\"Nombre Empresa\"])]\n",
    "sK.replace({\"Clínica\": Clinicas_metlife}, inplace=True)\n",
    "sK.to_excel(\"F:/Reportes SF/MetLife/sK_Base.xlsx\", index=False)"
   ]
  },
  {
   "attachments": {},
   "cell_type": "markdown",
   "metadata": {},
   "source": [
    "EY\n"
   ]
  },
  {
   "cell_type": "code",
   "execution_count": 56,
   "metadata": {},
   "outputs": [
    {
     "name": "stderr",
     "output_type": "stream",
     "text": [
      "C:\\Users\\jmartinez\\AppData\\Local\\Temp\\ipykernel_12052\\1813628391.py:5: SettingWithCopyWarning: \n",
      "A value is trying to be set on a copy of a slice from a DataFrame.\n",
      "Try using .loc[row_indexer,col_indexer] = value instead\n",
      "\n",
      "See the caveats in the documentation: https://pandas.pydata.org/pandas-docs/stable/user_guide/indexing.html#returning-a-view-versus-a-copy\n",
      "  Ey[\"Nombre\"] = \"NoN\"\n",
      "C:\\Users\\jmartinez\\AppData\\Local\\Temp\\ipykernel_12052\\1813628391.py:6: SettingWithCopyWarning: \n",
      "A value is trying to be set on a copy of a slice from a DataFrame.\n",
      "Try using .loc[row_indexer,col_indexer] = value instead\n",
      "\n",
      "See the caveats in the documentation: https://pandas.pydata.org/pandas-docs/stable/user_guide/indexing.html#returning-a-view-versus-a-copy\n",
      "  Ey[\"Motivo de consulta\"] = \"NoN\"\n"
     ]
    }
   ],
   "source": [
    "Ey = reportes[\n",
    "    (reportes[\"Campaña\"] == \"EY\")\n",
    "    & (reportes[\"Empleador\"] == reportes[\"Nombre Empresa\"])\n",
    "]\n",
    "Ey[\"Nombre\"] = \"NoN\"\n",
    "Ey[\"Motivo de consulta\"] = \"NoN\"\n",
    "\n",
    "Ey.to_excel(\"F:/Reportes SF/EY/EY_Base.xlsx\", index=False)"
   ]
  },
  {
   "cell_type": "code",
   "execution_count": 57,
   "metadata": {},
   "outputs": [],
   "source": [
    "Thb_Seguros = reportes[\n",
    "    (reportes[\"Campaña\"] == \"THB Seguros COVID\")\n",
    "    & (reportes[\"Empleador\"] == reportes[\"Nombre Empresa\"])\n",
    "]\n",
    "Thb_Seguros.to_excel(\n",
    "    \"F:/Reportes SF/THB Seguros Covid/Thb_Seguros_Base.xlsx\", index=False\n",
    ")"
   ]
  },
  {
   "attachments": {},
   "cell_type": "markdown",
   "metadata": {},
   "source": [
    "\"\"\" ( reportes[\"Codigo EMP\"] == \"EMP5924\")\n",
    "| (reportes[\"Codigo EMP\"] == \"EMP5925\")\n",
    "| (reportes[\"Codigo EMP\"] == \"EMP5926\")\n",
    "| (reportes[\"Codigo EMP\"] == \"EMP5927\")\n",
    "| (reportes[\"Codigo EMP\"] == \"EMP5928\")\n",
    "| (reportes[\"Codigo EMP\"] == \"EMP5971\")\n",
    "| (reportes[\"Codigo EMP\"] == \"EMP5972\")\n",
    "| (reportes[\"Codigo EMP\"] == \"EMP5973\")\n",
    "| (reportes[\"Codigo EMP\"] == \"EMP5974\")\n",
    "| (reportes[\"Codigo EMP\"] == \"EMP5975\")\n",
    "| (reportes[\"Codigo EMP\"] == \"EMP7259\")\n",
    "| (reportes[\"Codigo EMP\"] == \"EMP6536\")\n",
    "| (reportes[\"Codigo EMP\"] == \"EMP6959\")\n",
    "| (reportes[\"Codigo EMP\"] == \"EMP6388\")\n",
    "\n",
    "    | (reportes[\"Codigo EMP\"] == \"EMP5694\")\n",
    "    | (reportes[\"Codigo EMP\"] == \"EMP5655\")\n",
    "    | (reportes[\"Codigo EMP\"] == \"EMP5681\")\n",
    "    | (reportes[\"Codigo EMP\"] == \"EMP5682\")\n",
    "    | (reportes[\"Codigo EMP\"] == \"EMP5684\")\n",
    "    | (reportes[\"Codigo EMP\"] == \"EMP6274\")\n",
    "    | (reportes[\"Codigo EMP\"] == \"EMP5685\")\n",
    "    | (reportes[\"Codigo EMP\"] == \"EMP5686\")\n",
    "    | (reportes[\"Codigo EMP\"] == \"EMP5687\")\n",
    "    | (reportes[\"Codigo EMP\"] == \"EMP5688\")\n",
    "    | (reportes[\"Codigo EMP\"] == \"EMP5689\")\n",
    "    | (reportes[\"Codigo EMP\"] == \"EMP5690\")\n",
    "    | (reportes[\"Codigo EMP\"] == \"EMP5691\")\n",
    "\n",
    "    | (reportes[\"Codigo EMP\"] == \"EMP5692\")\n",
    "    | (reportes[\"Codigo EMP\"] == \"EMP5693\")\n",
    "    | (reportes[\"Codigo EMP\"] == \"EMP5694\")\n",
    "    | (reportes[\"Codigo EMP\"] == \"EMP5695\")\n",
    "    | (reportes[\"Codigo EMP\"] == \"EMP5696\")\n",
    "    | (reportes[\"Codigo EMP\"] == \"EMP5697\")\n",
    "    | (reportes[\"Codigo EMP\"] == \"EMP5698\")\n",
    "    | (reportes[\"Codigo EMP\"] == \"EMP5639\")\n",
    "    | (reportes[\"Codigo EMP\"] == \"EMP5640\")\n",
    "    | (reportes[\"Codigo EMP\"] == \"EMP5641\")\n",
    "    | (reportes[\"Codigo EMP\"] == \"EMP5642\")\n",
    "    | (reportes[\"Codigo EMP\"] == \"EMP5643\")\n",
    "    | (reportes[\"Codigo EMP\"] == \"EMP5644\")\n",
    "\n",
    "    | (reportes[\"Codigo EMP\"] == \"EMP5645\")\n",
    "    | (reportes[\"Codigo EMP\"] == \"EMP5646\")\n",
    "    | (reportes[\"Codigo EMP\"] == \"EMP5647\")\n",
    "    | (reportes[\"Codigo EMP\"] == \"EMP5648\")\n",
    "    | (reportes[\"Codigo EMP\"] == \"EMP5649\")\n",
    "    | (reportes[\"Codigo EMP\"] == \"EMP5650\")\n",
    "    | (reportes[\"Codigo EMP\"] == \"EMP5651\")\n",
    "    | (reportes[\"Codigo EMP\"] == \"EMP5652\")\n",
    "    | (reportes[\"Codigo EMP\"] == \"EMP5653\")\n",
    "    | (reportes[\"Codigo EMP\"] == \"EMP5654\")\n",
    "    | (reportes[\"Codigo EMP\"] == \"EMP5655\")\n",
    "    | (reportes[\"Codigo EMP\"] == \"EMP7526\")\n",
    "    | (reportes[\"Codigo EMP\"] == \"EMP6760\")\n",
    "\n",
    "    | (reportes[\"Codigo EMP\"] == \"EMP7678\")\n",
    "    | (reportes[\"Codigo EMP\"] == \"EMP6888\")\n",
    "    | (reportes[\"Codigo EMP\"] == \"EMP6444\")\n",
    "    | (reportes[\"Codigo EMP\"] == \"EMP6406\")\n",
    "    | (reportes[\"Codigo EMP\"] == \"EMP5616\")\n",
    "    | (reportes[\"Codigo EMP\"] == \"EMP9007\")\n",
    "    |\"\"\"\n"
   ]
  },
  {
   "cell_type": "code",
   "execution_count": 58,
   "metadata": {},
   "outputs": [
    {
     "name": "stderr",
     "output_type": "stream",
     "text": [
      "C:\\Users\\jmartinez\\AppData\\Local\\Temp\\ipykernel_12052\\2795123212.py:2: SettingWithCopyWarning: \n",
      "A value is trying to be set on a copy of a slice from a DataFrame.\n",
      "Try using .loc[row_indexer,col_indexer] = value instead\n",
      "\n",
      "See the caveats in the documentation: https://pandas.pydata.org/pandas-docs/stable/user_guide/indexing.html#returning-a-view-versus-a-copy\n",
      "  Willis.replace({\"Clínica\": Clinicas_metlife}, inplace=True)\n",
      "C:\\Users\\jmartinez\\AppData\\Local\\Temp\\ipykernel_12052\\2795123212.py:7: SettingWithCopyWarning: \n",
      "A value is trying to be set on a copy of a slice from a DataFrame.\n",
      "Try using .loc[row_indexer,col_indexer] = value instead\n",
      "\n",
      "See the caveats in the documentation: https://pandas.pydata.org/pandas-docs/stable/user_guide/indexing.html#returning-a-view-versus-a-copy\n",
      "  sKf.replace({\"Clínica\": Clinicas_metlife}, inplace=True)\n"
     ]
    }
   ],
   "source": [
    "Willis = reportes[(reportes[\"Corredor\"] == \"Willis Towers Watson S.A. Corred. De Seg.\")]\n",
    "Willis.replace({\"Clínica\": Clinicas_metlife}, inplace=True)\n",
    "Willis = Willis[(Willis[\"Empleador\"] == Willis[\"Nombre Empresa\"])]\n",
    "Willis.to_excel(\"F:/Reportes SF/MetLife/Willis_Base.xlsx\", index=False)\n",
    "\n",
    "sKf = reportes[(reportes[\"Poliza\"] == \"340018080\")]\n",
    "sKf.replace({\"Clínica\": Clinicas_metlife}, inplace=True)\n",
    "sKf = sKf[(sKf[\"Empleador\"] == sKf[\"Nombre Empresa\"])]\n",
    "sKf.to_excel(\"F:/Reportes SF/MetLife/Willis_sKf_Base.xlsx\", index=False)"
   ]
  },
  {
   "cell_type": "code",
   "execution_count": 59,
   "metadata": {},
   "outputs": [
    {
     "name": "stderr",
     "output_type": "stream",
     "text": [
      "C:\\Users\\jmartinez\\AppData\\Local\\Temp\\ipykernel_12052\\861990135.py:180: SettingWithCopyWarning: \n",
      "A value is trying to be set on a copy of a slice from a DataFrame.\n",
      "Try using .loc[row_indexer,col_indexer] = value instead\n",
      "\n",
      "See the caveats in the documentation: https://pandas.pydata.org/pandas-docs/stable/user_guide/indexing.html#returning-a-view-versus-a-copy\n",
      "  Aon.replace({\"Clínica\": Clinicas_metlife}, inplace=True)\n"
     ]
    }
   ],
   "source": [
    "Aon = reportes[\n",
    "    (reportes[\"Codigo EMP\"] == \"EMP5627\")\n",
    "    | (reportes[\"Codigo EMP\"] == \"EMP9181\")\n",
    "    | (reportes[\"Codigo EMP\"] == \"EMP9183\")\n",
    "    | (reportes[\"Codigo EMP\"] == \"EMP9184\")\n",
    "    | (reportes[\"Codigo EMP\"] == \"EMP9185\")\n",
    "    | (reportes[\"Codigo EMP\"] == \"EMP9186\")\n",
    "    | (reportes[\"Codigo EMP\"] == \"EMP9241\")\n",
    "    | (reportes[\"Codigo EMP\"] == \"EMP9256\")\n",
    "    | (reportes[\"Codigo EMP\"] == \"EMP9187\")\n",
    "    | (reportes[\"Codigo EMP\"] == \"EMP9188\")\n",
    "    | (reportes[\"Codigo EMP\"] == \"EMP9189\")\n",
    "    | (reportes[\"Codigo EMP\"] == \"EMP9230\")\n",
    "    | (reportes[\"Codigo EMP\"] == \"EMP9359\")\n",
    "    | (reportes[\"Codigo EMP\"] == \"EMP9365\")\n",
    "    | (reportes[\"Codigo EMP\"] == \"EMP9366\")\n",
    "    | (reportes[\"Codigo EMP\"] == \"EMP9367\")\n",
    "    | (reportes[\"Codigo EMP\"] == \"EMP9368\")\n",
    "    | (reportes[\"Codigo EMP\"] == \"EMP5890\")\n",
    "    | (reportes[\"Codigo EMP\"] == \"EMP5891\")\n",
    "    | (reportes[\"Codigo EMP\"] == \"EMP5892\")\n",
    "    | (reportes[\"Codigo EMP\"] == \"EMP5893\")\n",
    "    | (reportes[\"Codigo EMP\"] == \"EMP5894\")\n",
    "    | (reportes[\"Codigo EMP\"] == \"EMP5895\")\n",
    "    | (reportes[\"Codigo EMP\"] == \"EMP5896\")\n",
    "    | (reportes[\"Codigo EMP\"] == \"EMP5897\")\n",
    "    | (reportes[\"Codigo EMP\"] == \"EMP5898\")\n",
    "    | (reportes[\"Codigo EMP\"] == \"EMP5899\")\n",
    "    | (reportes[\"Codigo EMP\"] == \"EMP5930\")\n",
    "    | (reportes[\"Codigo EMP\"] == \"EMP5931\")\n",
    "    | (reportes[\"Codigo EMP\"] == \"EMP5932\")\n",
    "    | (reportes[\"Codigo EMP\"] == \"EMP5933\")\n",
    "    | (reportes[\"Codigo EMP\"] == \"EMP5934\")\n",
    "    | (reportes[\"Codigo EMP\"] == \"EMP5935\")\n",
    "    | (reportes[\"Codigo EMP\"] == \"EMP5936\")\n",
    "    | (reportes[\"Codigo EMP\"] == \"EMP5937\")\n",
    "    | (reportes[\"Codigo EMP\"] == \"EMP5939\")\n",
    "    | (reportes[\"Codigo EMP\"] == \"EMP5940\")\n",
    "    | (reportes[\"Codigo EMP\"] == \"EMP5941\")\n",
    "    | (reportes[\"Codigo EMP\"] == \"EMP5942\")\n",
    "    | (reportes[\"Codigo EMP\"] == \"EMP5943\")\n",
    "    | (reportes[\"Codigo EMP\"] == \"EMP5944\")\n",
    "    | (reportes[\"Codigo EMP\"] == \"EMP5945\")\n",
    "    | (reportes[\"Codigo EMP\"] == \"EMP5946\")\n",
    "    | (reportes[\"Codigo EMP\"] == \"EMP5947\")\n",
    "    | (reportes[\"Codigo EMP\"] == \"EMP5949\")\n",
    "    | (reportes[\"Codigo EMP\"] == \"EMP9436\")\n",
    "    | (reportes[\"Codigo EMP\"] == \"EMP9437\")\n",
    "    | (reportes[\"Codigo EMP\"] == \"EMP9861\")\n",
    "    | (reportes[\"Codigo EMP\"] == \"EMP9862\")\n",
    "    | (reportes[\"Codigo EMP\"] == \"EMP9864\")\n",
    "    | (reportes[\"Codigo EMP\"] == \"EMP9865\")\n",
    "    | (reportes[\"Codigo EMP\"] == \"EMP9866\")\n",
    "    | (reportes[\"Codigo EMP\"] == \"EMP9873\")\n",
    "    | (reportes[\"Codigo EMP\"] == \"EMP9874\")\n",
    "    | (reportes[\"Codigo EMP\"] == \"EMP9875\")\n",
    "    | (reportes[\"Codigo EMP\"] == \"EMP9892\")\n",
    "    | (reportes[\"Codigo EMP\"] == \"EMP9893\")\n",
    "    | (reportes[\"Codigo EMP\"] == \"EMP9899\")\n",
    "    | (reportes[\"Codigo EMP\"] == \"EMP9901\")\n",
    "    | (reportes[\"Codigo EMP\"] == \"EMP9902\")\n",
    "    | (reportes[\"Codigo EMP\"] == \"EMP9903\")\n",
    "    | (reportes[\"Codigo EMP\"] == \"EMP9904\")\n",
    "    | (reportes[\"Codigo EMP\"] == \"EMP9905\")\n",
    "    | (reportes[\"Codigo EMP\"] == \"EMP9906\")\n",
    "    | (reportes[\"Codigo EMP\"] == \"EMP9907\")\n",
    "    | (reportes[\"Codigo EMP\"] == \"EMP9908\")\n",
    "    | (reportes[\"Codigo EMP\"] == \"EMP9909\")\n",
    "    | (reportes[\"Codigo EMP\"] == \"EMP9493\")\n",
    "    | (reportes[\"Codigo EMP\"] == \"EMP9494\")\n",
    "    | (reportes[\"Codigo EMP\"] == \"EMP9518\")\n",
    "    | (reportes[\"Codigo EMP\"] == \"EMP9539\")\n",
    "    | (reportes[\"Codigo EMP\"] == \"EMP9540\")\n",
    "    | (reportes[\"Codigo EMP\"] == \"EMP9558\")\n",
    "    | (reportes[\"Codigo EMP\"] == \"EMP9741\")\n",
    "    | (reportes[\"Codigo EMP\"] == \"EMP9742\")\n",
    "    | (reportes[\"Codigo EMP\"] == \"EMP9743\")\n",
    "    | (reportes[\"Codigo EMP\"] == \"EMP9745\")\n",
    "    | (reportes[\"Codigo EMP\"] == \"EMP9747\")\n",
    "    | (reportes[\"Codigo EMP\"] == \"EMP9630\")\n",
    "    | (reportes[\"Codigo EMP\"] == \"EMP9631\")\n",
    "    | (reportes[\"Codigo EMP\"] == \"EMP9632\")\n",
    "    | (reportes[\"Codigo EMP\"] == \"EMP9638\")\n",
    "    | (reportes[\"Codigo EMP\"] == \"EMP9755\")\n",
    "    | (reportes[\"Codigo EMP\"] == \"EMP6532\")\n",
    "    | (reportes[\"Codigo EMP\"] == \"EMP6538\")\n",
    "    | (reportes[\"Codigo EMP\"] == \"EMP6555\")\n",
    "    | (reportes[\"Codigo EMP\"] == \"EMP6556\")\n",
    "    | (reportes[\"Codigo EMP\"] == \"EMP6557\")\n",
    "    | (reportes[\"Codigo EMP\"] == \"EMP6558\")\n",
    "    | (reportes[\"Codigo EMP\"] == \"EMP6560\")\n",
    "    | (reportes[\"Codigo EMP\"] == \"EMP6561\")\n",
    "    | (reportes[\"Codigo EMP\"] == \"EMP6562\")\n",
    "    | (reportes[\"Codigo EMP\"] == \"EMP6563\")\n",
    "    | (reportes[\"Codigo EMP\"] == \"EMP6671\")\n",
    "    | (reportes[\"Codigo EMP\"] == \"EMP6717\")\n",
    "    | (reportes[\"Codigo EMP\"] == \"EMP6720\")\n",
    "    | (reportes[\"Codigo EMP\"] == \"EMP6786\")\n",
    "    | (reportes[\"Codigo EMP\"] == \"EMP6864\")\n",
    "    | (reportes[\"Codigo EMP\"] == \"EMP6865\")\n",
    "    | (reportes[\"Codigo EMP\"] == \"EMP6866\")\n",
    "    | (reportes[\"Codigo EMP\"] == \"EMP6867\")\n",
    "    | (reportes[\"Codigo EMP\"] == \"EMP6868\")\n",
    "    | (reportes[\"Codigo EMP\"] == \"EMP6938\")\n",
    "    | (reportes[\"Codigo EMP\"] == \"EMP7003\")\n",
    "    | (reportes[\"Codigo EMP\"] == \"EMP7004\")\n",
    "    | (reportes[\"Codigo EMP\"] == \"EMP7083\")\n",
    "    | (reportes[\"Codigo EMP\"] == \"EMP7176\")\n",
    "    | (reportes[\"Codigo EMP\"] == \"EMP7177\")\n",
    "    | (reportes[\"Codigo EMP\"] == \"EMP7269\")\n",
    "    | (reportes[\"Codigo EMP\"] == \"EMP7337\")\n",
    "    | (reportes[\"Codigo EMP\"] == \"EMP7396\")\n",
    "    | (reportes[\"Codigo EMP\"] == \"EMP7418\")\n",
    "    | (reportes[\"Codigo EMP\"] == \"EMP7513\")\n",
    "    | (reportes[\"Codigo EMP\"] == \"EMP7646\")\n",
    "    | (reportes[\"Codigo EMP\"] == \"EMP7808\")\n",
    "    | (reportes[\"Codigo EMP\"] == \"EMP7863\")\n",
    "    | (reportes[\"Codigo EMP\"] == \"EMP9183\")\n",
    "    | (reportes[\"Codigo EMP\"] == \"EMP9184\")\n",
    "    | (reportes[\"Codigo EMP\"] == \"EMP9185\")\n",
    "    | (reportes[\"Codigo EMP\"] == \"EMP9186\")\n",
    "    | (reportes[\"Codigo EMP\"] == \"EMP9256\")\n",
    "    | (reportes[\"Codigo EMP\"] == \"EMP9187\")\n",
    "    | (reportes[\"Codigo EMP\"] == \"EMP9188\")\n",
    "    | (reportes[\"Codigo EMP\"] == \"EMP9189\")\n",
    "    | (reportes[\"Codigo EMP\"] == \"EMP5890\")\n",
    "    | (reportes[\"Codigo EMP\"] == \"EMP5891\")\n",
    "    | (reportes[\"Codigo EMP\"] == \"EMP5892\")\n",
    "    | (reportes[\"Codigo EMP\"] == \"EMP5893\")\n",
    "    | (reportes[\"Codigo EMP\"] == \"EMP5894\")\n",
    "    | (reportes[\"Codigo EMP\"] == \"EMP5895\")\n",
    "    | (reportes[\"Codigo EMP\"] == \"EMP5896\")\n",
    "    | (reportes[\"Codigo EMP\"] == \"EMP5897\")\n",
    "    | (reportes[\"Codigo EMP\"] == \"EMP5898\")\n",
    "    | (reportes[\"Codigo EMP\"] == \"EMP5899\")\n",
    "    | (reportes[\"Codigo EMP\"] == \"EMP5930\")\n",
    "    | (reportes[\"Codigo EMP\"] == \"EMP5931\")\n",
    "    | (reportes[\"Codigo EMP\"] == \"EMP5932\")\n",
    "    | (reportes[\"Codigo EMP\"] == \"EMP5933\")\n",
    "    | (reportes[\"Codigo EMP\"] == \"EMP5934\")\n",
    "    | (reportes[\"Codigo EMP\"] == \"EMP5935\")\n",
    "    | (reportes[\"Codigo EMP\"] == \"EMP5936\")\n",
    "    | (reportes[\"Codigo EMP\"] == \"EMP5937\")\n",
    "    | (reportes[\"Codigo EMP\"] == \"EMP5939\")\n",
    "    | (reportes[\"Codigo EMP\"] == \"EMP5940\")\n",
    "    | (reportes[\"Codigo EMP\"] == \"EMP5941\")\n",
    "    | (reportes[\"Codigo EMP\"] == \"EMP5944\")\n",
    "    | (reportes[\"Codigo EMP\"] == \"EMP5947\")\n",
    "    | (reportes[\"Codigo EMP\"] == \"EMP5949\")\n",
    "    | (reportes[\"Codigo EMP\"] == \"EMP9436\")\n",
    "    | (reportes[\"Codigo EMP\"] == \"EMP9863\")\n",
    "    | (reportes[\"Codigo EMP\"] == \"EMP9864\")\n",
    "    | (reportes[\"Codigo EMP\"] == \"EMP9865\")\n",
    "    | (reportes[\"Codigo EMP\"] == \"EMP9866\")\n",
    "    | (reportes[\"Codigo EMP\"] == \"EMP9901\")\n",
    "    | (reportes[\"Codigo EMP\"] == \"EMP9902\")\n",
    "    | (reportes[\"Codigo EMP\"] == \"EMP9903\")\n",
    "    | (reportes[\"Codigo EMP\"] == \"EMP9904\")\n",
    "    | (reportes[\"Codigo EMP\"] == \"EMP9905\")\n",
    "    | (reportes[\"Codigo EMP\"] == \"EMP9906\")\n",
    "    | (reportes[\"Codigo EMP\"] == \"EMP9907\")\n",
    "    | (reportes[\"Codigo EMP\"] == \"EMP9908\")\n",
    "    | (reportes[\"Codigo EMP\"] == \"EMP9909\")\n",
    "    | (reportes[\"Codigo EMP\"] == \"EMP9493\")\n",
    "    | (reportes[\"Codigo EMP\"] == \"EMP9494\")\n",
    "    | (reportes[\"Codigo EMP\"] == \"EMP9539\")\n",
    "    | (reportes[\"Codigo EMP\"] == \"EMP9540\")\n",
    "    | (reportes[\"Codigo EMP\"] == \"EMP9558\")\n",
    "    | (reportes[\"Codigo EMP\"] == \"EMP9741\")\n",
    "    | (reportes[\"Codigo EMP\"] == \"EMP9742\")\n",
    "    | (reportes[\"Codigo EMP\"] == \"EMP9627\")\n",
    "    | (reportes[\"Codigo EMP\"] == \"EMP9630\")\n",
    "    | (reportes[\"Codigo EMP\"] == \"EMP9631\")\n",
    "    | (reportes[\"Codigo EMP\"] == \"EMP9632\")\n",
    "    | (reportes[\"Codigo EMP\"] == \"EMP9638\")\n",
    "    | (reportes[\"Codigo EMP\"] == \"EMP6786\")\n",
    "    | (reportes[\"Codigo EMP\"] == \"EMP7597\")\n",
    "    | (reportes[\"Corredor\"] == \"Aon Risk Services (Chile) Corred. De Seg.\")\n",
    "]\n",
    "Aon.replace({\"Clínica\": Clinicas_metlife}, inplace=True)\n",
    "Aon = Aon[(Aon[\"Empleador\"] == Aon[\"Nombre Empresa\"])]\n",
    "Aon.to_excel(\"F:/Reportes SF/MetLife/Aon_Base.xlsx\", index=False)\n"
   ]
  },
  {
   "cell_type": "code",
   "execution_count": 60,
   "metadata": {},
   "outputs": [
    {
     "name": "stderr",
     "output_type": "stream",
     "text": [
      "C:\\Users\\jmartinez\\AppData\\Local\\Temp\\ipykernel_12052\\2172310933.py:40: SettingWithCopyWarning: \n",
      "A value is trying to be set on a copy of a slice from a DataFrame.\n",
      "Try using .loc[row_indexer,col_indexer] = value instead\n",
      "\n",
      "See the caveats in the documentation: https://pandas.pydata.org/pandas-docs/stable/user_guide/indexing.html#returning-a-view-versus-a-copy\n",
      "  Aramark.replace({\"Clínica\": Clinicas_metlife}, inplace=True)\n"
     ]
    }
   ],
   "source": [
    "Aramark = reportes[\n",
    "    (reportes[\"Codigo EMP\"] == \"EMP9244\")\n",
    "    | (reportes[\"Codigo EMP\"] == \"EMP9245\")\n",
    "    | (reportes[\"Codigo EMP\"] == \"EMP9246\")\n",
    "    | (reportes[\"Codigo EMP\"] == \"EMP9247\")\n",
    "    | (reportes[\"Codigo EMP\"] == \"EMP9248\")\n",
    "    | (reportes[\"Codigo EMP\"] == \"EMP9249\")\n",
    "    | (reportes[\"Codigo EMP\"] == \"EMP9250\")\n",
    "    | (reportes[\"Codigo EMP\"] == \"EMP9148\")\n",
    "    | (reportes[\"Codigo EMP\"] == \"EMP9149\")\n",
    "    | (reportes[\"Codigo EMP\"] == \"EMP9150\")\n",
    "    | (reportes[\"Codigo EMP\"] == \"EMP9151\")\n",
    "    | (reportes[\"Codigo EMP\"] == \"EMP9152\")\n",
    "    | (reportes[\"Codigo EMP\"] == \"EMP9153\")\n",
    "    | (reportes[\"Codigo EMP\"] == \"EMP9154\")\n",
    "    | (reportes[\"Codigo EMP\"] == \"EMP9155\")\n",
    "    | (reportes[\"Codigo EMP\"] == \"EMP9156\")\n",
    "    | (reportes[\"Codigo EMP\"] == \"EMP9157\")\n",
    "    | (reportes[\"Codigo EMP\"] == \"EMP9158\")\n",
    "    | (reportes[\"Codigo EMP\"] == \"EMP9159\")\n",
    "    | (reportes[\"Codigo EMP\"] == \"EMP9160\")\n",
    "    | (reportes[\"Codigo EMP\"] == \"EMP9161\")\n",
    "    | (reportes[\"Codigo EMP\"] == \"EMP9162\")\n",
    "    | (reportes[\"Codigo EMP\"] == \"EMP9163\")\n",
    "    | (reportes[\"Codigo EMP\"] == \"EMP9164\")\n",
    "    | (reportes[\"Codigo EMP\"] == \"EMP9165\")\n",
    "    | (reportes[\"Codigo EMP\"] == \"EMP9166\")\n",
    "    | (reportes[\"Codigo EMP\"] == \"EMP9167\")\n",
    "    | (reportes[\"Codigo EMP\"] == \"EMP5806\")\n",
    "    | (reportes[\"Codigo EMP\"] == \"EMP5808\")\n",
    "    | (reportes[\"Codigo EMP\"] == \"EMP5810\")\n",
    "    | (reportes[\"Codigo EMP\"] == \"EMP9266\")\n",
    "    | (reportes[\"Codigo EMP\"] == \"EMP9267\")\n",
    "    | (reportes[\"Codigo EMP\"] == \"EMP9268\")\n",
    "    | (reportes[\"Codigo EMP\"] == \"EMP9269\")\n",
    "    | (reportes[\"Codigo EMP\"] == \"EMP9270\")\n",
    "    | (reportes[\"Codigo EMP\"] == \"EMP9271\")\n",
    "    # | (reportes[\"Corredor\"] == \"Aon Risk Services (Chile) Corred. De Seg.\")\n",
    "]\n",
    "Aramark.replace({\"Clínica\": Clinicas_metlife}, inplace=True)\n",
    "Aramark = Aramark[(Aramark[\"Empleador\"] == Aramark[\"Nombre Empresa\"])]\n",
    "Aramark.to_excel(\"F:/Reportes SF/MetLife/Aramark_Base.xlsx\", index=False)"
   ]
  },
  {
   "cell_type": "code",
   "execution_count": 61,
   "metadata": {},
   "outputs": [],
   "source": [
    "Benefits = reportes[\n",
    "    (reportes[\"Codigo EMP\"] == \"EMP9190\")\n",
    "    | (reportes[\"Codigo EMP\"] == \"EMP9191\")\n",
    "    | (reportes[\"Codigo EMP\"] == \"EMP9192\")\n",
    "    | (reportes[\"Codigo EMP\"] == \"EMP9193\")\n",
    "    | (reportes[\"Codigo EMP\"] == \"EMP9194\")\n",
    "    | (reportes[\"Codigo EMP\"] == \"EMP9195\")\n",
    "    | (reportes[\"Codigo EMP\"] == \"EMP9196\")\n",
    "    | (reportes[\"Codigo EMP\"] == \"EMP9197\")\n",
    "    | (reportes[\"Codigo EMP\"] == \"EMP9198\")\n",
    "    | (reportes[\"Codigo EMP\"] == \"EMP9199\")\n",
    "    | (reportes[\"Codigo EMP\"] == \"EMP9200\")\n",
    "    | (reportes[\"Codigo EMP\"] == \"EMP9201\")\n",
    "    | (reportes[\"Codigo EMP\"] == \"EMP9202\")\n",
    "    | (reportes[\"Codigo EMP\"] == \"EMP9203\")\n",
    "    | (reportes[\"Codigo EMP\"] == \"EMP9204\")\n",
    "    | (reportes[\"Codigo EMP\"] == \"EMP9205\")\n",
    "    | (reportes[\"Codigo EMP\"] == \"EMP9326\")\n",
    "    | (reportes[\"Codigo EMP\"] == \"EMP9327\")\n",
    "    | (reportes[\"Codigo EMP\"] == \"EMP9328\")\n",
    "    | (reportes[\"Codigo EMP\"] == \"EMP9340\")\n",
    "    | (reportes[\"Codigo EMP\"] == \"EMP9345\")\n",
    "    | (reportes[\"Codigo EMP\"] == \"EMP9349\")\n",
    "    | (reportes[\"Codigo EMP\"] == \"EMP9324\")\n",
    "    | (reportes[\"Codigo EMP\"] == \"EMP5908\")\n",
    "    | (reportes[\"Codigo EMP\"] == \"EMP5909\")\n",
    "    | (reportes[\"Codigo EMP\"] == \"EMP5912\")\n",
    "    | (reportes[\"Codigo EMP\"] == \"EMP5913\")\n",
    "    | (reportes[\"Codigo EMP\"] == \"EMP5914\")\n",
    "    | (reportes[\"Codigo EMP\"] == \"EMP5915\")\n",
    "    | (reportes[\"Codigo EMP\"] == \"EMP5916\")\n",
    "    | (reportes[\"Codigo EMP\"] == \"EMP5917\")\n",
    "    | (reportes[\"Codigo EMP\"] == \"EMP5919\")\n",
    "    | (reportes[\"Codigo EMP\"] == \"EMP5920\")\n",
    "    | (reportes[\"Codigo EMP\"] == \"EMP5921\")\n",
    "    | (reportes[\"Codigo EMP\"] == \"EMP5922\")\n",
    "    | (reportes[\"Codigo EMP\"] == \"EMP5923\")\n",
    "    | (reportes[\"Codigo EMP\"] == \"EMP6001\")\n",
    "    | (reportes[\"Codigo EMP\"] == \"EMP9414\")\n",
    "    | (reportes[\"Codigo EMP\"] == \"EMP9464\")\n",
    "    | (reportes[\"Codigo EMP\"] == \"EMP9840\")\n",
    "    | (reportes[\"Codigo EMP\"] == \"EMP9852\")\n",
    "    | (reportes[\"Codigo EMP\"] == \"EMP9703\")\n",
    "    | (reportes[\"Codigo EMP\"] == \"EMP9600\")\n",
    "    | (reportes[\"Codigo EMP\"] == \"EMP9601\")\n",
    "    | (reportes[\"Codigo EMP\"] == \"EMP9602\")\n",
    "    | (reportes[\"Codigo EMP\"] == \"EMP9603\")\n",
    "    | (reportes[\"Codigo EMP\"] == \"EMP9604\")\n",
    "    | (reportes[\"Codigo EMP\"] == \"EMP9605\")\n",
    "    | (reportes[\"Codigo EMP\"] == \"EMP9606\")\n",
    "    | (reportes[\"Codigo EMP\"] == \"EMP9608\")\n",
    "    | (reportes[\"Codigo EMP\"] == \"EMP9609\")\n",
    "    | (reportes[\"Codigo EMP\"] == \"EMP9610\")\n",
    "    | (reportes[\"Codigo EMP\"] == \"EMP9611\")\n",
    "    | (reportes[\"Codigo EMP\"] == \"EMP9612\")\n",
    "    | (reportes[\"Codigo EMP\"] == \"EMP9613\")\n",
    "    | (reportes[\"Codigo EMP\"] == \"EMP9614\")\n",
    "    | (reportes[\"Codigo EMP\"] == \"EMP9615\")\n",
    "    | (reportes[\"Codigo EMP\"] == \"EMP9616\")\n",
    "    | (reportes[\"Codigo EMP\"] == \"EMP9617\")\n",
    "    | (reportes[\"Codigo EMP\"] == \"EMP9618\")\n",
    "    | (reportes[\"Codigo EMP\"] == \"EMP9619\")\n",
    "    | (reportes[\"Codigo EMP\"] == \"EMP9784\")\n",
    "    | (reportes[\"Codigo EMP\"] == \"EMP9670\")\n",
    "    | (reportes[\"Codigo EMP\"] == \"EMP9674\")\n",
    "    | (reportes[\"Codigo EMP\"] == \"EMP9802\")\n",
    "    | (reportes[\"Codigo EMP\"] == \"EMP6534\")\n",
    "    | (reportes[\"Codigo EMP\"] == \"EMP6540\")\n",
    "    | (reportes[\"Codigo EMP\"] == \"EMP6564\")\n",
    "    | (reportes[\"Codigo EMP\"] == \"EMP6621\")\n",
    "    | (reportes[\"Codigo EMP\"] == \"EMP6640\")\n",
    "    | (reportes[\"Codigo EMP\"] == \"EMP6643\")\n",
    "    | (reportes[\"Codigo EMP\"] == \"EMP6650\")\n",
    "    | (reportes[\"Codigo EMP\"] == \"EMP6653\")\n",
    "    | (reportes[\"Codigo EMP\"] == \"EMP6661\")\n",
    "    | (reportes[\"Codigo EMP\"] == \"EMP6758\")\n",
    "    | (reportes[\"Codigo EMP\"] == \"EMP6763\")\n",
    "    | (reportes[\"Codigo EMP\"] == \"EMP6772\")\n",
    "    | (reportes[\"Codigo EMP\"] == \"EMP6783\")\n",
    "    | (reportes[\"Codigo EMP\"] == \"EMP6792\")\n",
    "    | (reportes[\"Codigo EMP\"] == \"EMP6829\")\n",
    "    | (reportes[\"Codigo EMP\"] == \"EMP6869\")\n",
    "    | (reportes[\"Codigo EMP\"] == \"EMP6935\")\n",
    "    | (reportes[\"Codigo EMP\"] == \"EMP6940\")\n",
    "    | (reportes[\"Codigo EMP\"] == \"EMP7005\")\n",
    "    | (reportes[\"Codigo EMP\"] == \"EMP7033\")\n",
    "    | (reportes[\"Codigo EMP\"] == \"EMP7072\")\n",
    "    | (reportes[\"Codigo EMP\"] == \"EMP7189\")\n",
    "    | (reportes[\"Codigo EMP\"] == \"EMP7243\")\n",
    "    | (reportes[\"Codigo EMP\"] == \"EMP7247\")\n",
    "    | (reportes[\"Codigo EMP\"] == \"EMP7345\")\n",
    "    | (reportes[\"Codigo EMP\"] == \"EMP7507\")\n",
    "    | (reportes[\"Codigo EMP\"] == \"EMP7508\")\n",
    "    | (reportes[\"Codigo EMP\"] == \"EMP7546\")\n",
    "    | (reportes[\"Codigo EMP\"] == \"EMP7564\")\n",
    "    | (reportes[\"Codigo EMP\"] == \"EMP7567\")\n",
    "    | (reportes[\"Codigo EMP\"] == \"EMP7617\")\n",
    "    | (reportes[\"Codigo EMP\"] == \"EMP7639\")\n",
    "    | (reportes[\"Codigo EMP\"] == \"EMP7663\")\n",
    "    | (reportes[\"Codigo EMP\"] == \"EMP7674\")\n",
    "    | (reportes[\"Codigo EMP\"] == \"EMP7702\")\n",
    "    | (reportes[\"Codigo EMP\"] == \"EMP7739\")\n",
    "    | (reportes[\"Codigo EMP\"] == \"EMP7744\")\n",
    "    | (reportes[\"Codigo EMP\"] == \"EMP7784\")\n",
    "    | (reportes[\"Codigo EMP\"] == \"EMP7785\")\n",
    "    | (reportes[\"Codigo EMP\"] == \"EMP9206\")\n",
    "    | (reportes[\"Codigo EMP\"] == \"EMP5910\")\n",
    "    | (reportes[\"Codigo EMP\"] == \"EMP5911\")\n",
    "    | (reportes[\"Codigo EMP\"] == \"EMP5918\")\n",
    "    | (reportes[\"Codigo EMP\"] == \"EMP9607\")\n",
    "    | (reportes[\"Corredor\"] == \"Benefits Corredores De Seguros SPA\")\n",
    "]\n",
    "\n",
    "cantidad_gente(\"Benefits Corredores De Seguros SPA\")\n",
    "\n",
    "\n",
    "Benefits = Benefits[(Benefits[\"Empleador\"] == Benefits[\"Nombre Empresa\"])]\n",
    "\n",
    "Antiguo = \"F:/Reportes SF/MetLife/MetLife_Antiguo.xlsx\"\n",
    "Antiguo_Lorena = pd.read_excel(Antiguo)\n",
    "Antiguo_Lorena = Antiguo_Lorena[\n",
    "    (Antiguo_Lorena[\"Corredor\"] == \"Benefits Corredores De Seguros Spa\")\n",
    "]\n",
    "Benefits = pd.concat([Benefits, Antiguo_Lorena])\n",
    "\n",
    "\n",
    "Antiguo_gente = (\n",
    "    \"F:/Reportes SF/MetLife/usuarios/cantidad_metlife_antiguo_gente_benefits.xlsx\"\n",
    ")\n",
    "nuevo_gente = (\n",
    "    \"F:/Reportes SF/MetLife/usuarios/Benefits Corredores De Seguros Spa_gente.xlsx\"\n",
    ")\n",
    "Antiguo_gente_read = pd.read_excel(Antiguo_gente)\n",
    "nuevo_gente_read = pd.read_excel(nuevo_gente)\n",
    "\n",
    "Benefits_gente = pd.concat([Antiguo_gente_read, nuevo_gente_read])\n",
    "\n",
    "\n",
    "Benefits.Clínica.fillna(\"Orientación Médica\", inplace=True)\n",
    "Benefits.replace({\"Sexo\": general_Sexo}, inplace=True)\n",
    "Benefits.replace({\"Clínica\": Clinicas_metlife}, inplace=True)\n",
    "Lorena_clinicas = {\n",
    "    \"Nutricion\": \"Nutrición\",\n",
    "    \"Deportivo\": \"Deporte\",\n",
    "    \"Front\": \"Orientación Médica\",\n",
    "    \"\": \"Orientación Médica\",\n",
    "    \"Enfermería\": \"Pacientes Crónicos\",\n",
    "}\n",
    "Empresas_Benefits = {\n",
    "    \"BancoChile\": \"Banco De Chile\",\n",
    "    \"bancochile\": \"Banco De Chile\",\n",
    "    \"Fundacion De Salud El Teniente\": \"Fundación De Salud El Teniente\",\n",
    "    \"Serv Biene. Fundación Arturo López Pérez\": \"Serv. Bienestar Fundación Arturo López Pérez\",\n",
    "}\n",
    "Benefits_gente.replace({\"Empleador\": Empresas_Benefits}, inplace=True)\n",
    "Benefits.replace({\"Nombre Empresa\": Empresas_Benefits}, inplace=True)\n",
    "Benefits.replace({\"Empleador\": Empresas_Benefits}, inplace=True)\n",
    "Benefits.replace({\"Clínica\": Lorena_clinicas}, inplace=True)\n",
    "Benefits = Benefits[(Benefits[\"Empleador\"] == Benefits[\"Nombre Empresa\"])]\n",
    "Benefits.to_excel(\"F:/Reportes SF/MetLife/Benefits_Base.xlsx\", index=False)\n",
    "Benefits_gente.to_excel(\n",
    "    \"F:/Reportes SF/MetLife/usuarios/gente_Benefits.xlsx\", index=False\n",
    ")\n"
   ]
  },
  {
   "cell_type": "code",
   "execution_count": 62,
   "metadata": {},
   "outputs": [],
   "source": [
    "wom = reportes[\n",
    "    (reportes[\"Campaña\"] == \"MetLife\") & (reportes[\"Empleador\"] == \"Wom S.A.\")\n",
    "]\n",
    "wom = wom[(wom[\"Empleador\"] == wom[\"Nombre Empresa\"])]\n",
    "Lorena_clinicas = {\n",
    "    \"Nutricion\": \"Nutrición\",\n",
    "    \"Deportivo\": \"Deporte\",\n",
    "    \"Front\": \"Orientación Médica\",\n",
    "    \"\": \"Orientación Médica\",\n",
    "    \"Enfermería\": \"Pacientes Crónicos\",\n",
    "}\n",
    "Antiguo = \"F:/Reportes SF/MetLife/MetLife_Antiguo.xlsx\"\n",
    "Antiguo_Lorena = pd.read_excel(Antiguo)\n",
    "Antiguo_Lorena = Antiguo_Lorena[(Antiguo_Lorena[\"Empleador\"] == \"Wom S.A.\")]\n",
    "\n",
    "wom = pd.concat([wom, Antiguo_Lorena])\n",
    "wom.replace({\"Clínica\": Lorena_clinicas}, inplace=True)\n",
    "wom.to_excel(\"F:/Reportes SF/MetLife/wom_Base.xlsx\", index=False)"
   ]
  },
  {
   "cell_type": "code",
   "execution_count": 63,
   "metadata": {},
   "outputs": [],
   "source": [
    "psg = reportes[\n",
    "    (reportes[\"Campaña\"] == \"Grupo PSG\") \n",
    "]\n",
    "psg = psg[(psg[\"Empleador\"] == psg[\"Nombre Empresa\"])]\n",
    "\n",
    "psg.to_excel(\"F:/Reportes SF/Grupo PSG/psg_Base.xlsx\", index=False)"
   ]
  },
  {
   "cell_type": "code",
   "execution_count": null,
   "metadata": {},
   "outputs": [],
   "source": []
  },
  {
   "cell_type": "code",
   "execution_count": 64,
   "metadata": {},
   "outputs": [
    {
     "name": "stderr",
     "output_type": "stream",
     "text": [
      "C:\\Users\\jmartinez\\AppData\\Local\\Temp\\ipykernel_12052\\3001414131.py:15: SettingWithCopyWarning: \n",
      "A value is trying to be set on a copy of a slice from a DataFrame.\n",
      "Try using .loc[row_indexer,col_indexer] = value instead\n",
      "\n",
      "See the caveats in the documentation: https://pandas.pydata.org/pandas-docs/stable/user_guide/indexing.html#returning-a-view-versus-a-copy\n",
      "  Interno.replace({\"Clínica\": Clinicas_metlife}, inplace=True)\n"
     ]
    }
   ],
   "source": [
    "Interno = reportes[\n",
    "    (reportes[\"Codigo EMP\"] == \"EMP5999\")\n",
    "    | (reportes[\"Codigo EMP\"] == \"EMP9683\")\n",
    "    | (reportes[\"Codigo EMP\"] == \"EMP9684\")\n",
    "    | (reportes[\"Codigo EMP\"] == \"EMP9685\")\n",
    "    | (reportes[\"Codigo EMP\"] == \"EMP9686\")\n",
    "    | (reportes[\"Codigo EMP\"] == \"EMP9687\")\n",
    "    | (reportes[\"Codigo EMP\"] == \"EMP9688\")\n",
    "    | (reportes[\"Codigo EMP\"] == \"EMP9689\")\n",
    "    | (reportes[\"Codigo EMP\"] == \"EMP9690\")\n",
    "    | (reportes[\"Codigo EMP\"] == \"EMP9691\")\n",
    "    | (reportes[\"Codigo EMP\"] == \"EMP7881\")\n",
    "    # | (reportes[\"Corredor\"] == \"Benefits Corredores De Seguros SPA\")\n",
    "]\n",
    "Interno.replace({\"Clínica\": Clinicas_metlife}, inplace=True)\n",
    "Interno = Interno[(Interno[\"Empleador\"] == Interno[\"Nombre Empresa\"])]\n",
    "Interno.to_excel(\"F:/Reportes SF/MetLife/Interno_Base.xlsx\", index=False)"
   ]
  },
  {
   "cell_type": "code",
   "execution_count": 65,
   "metadata": {},
   "outputs": [],
   "source": [
    "Lorena = reportes[\n",
    "    (reportes[\"Codigo EMP\"] == \"EMP5786\")\n",
    "    | (reportes[\"Codigo EMP\"] == \"EMP9171\")\n",
    "    | (reportes[\"Codigo EMP\"] == \"EMP5785\")\n",
    "    | (reportes[\"Codigo EMP\"] == \"EMP5787\")\n",
    "    | (reportes[\"Codigo EMP\"] == \"EMP5788\")\n",
    "    | (reportes[\"Codigo EMP\"] == \"EMP5789\")\n",
    "    | (reportes[\"Codigo EMP\"] == \"EMP5790\")\n",
    "    | (reportes[\"Codigo EMP\"] == \"EMP5791\")\n",
    "    | (reportes[\"Codigo EMP\"] == \"EMP5792\")\n",
    "    | (reportes[\"Codigo EMP\"] == \"EMP5793\")\n",
    "    | (reportes[\"Codigo EMP\"] == \"EMP5794\")\n",
    "    | (reportes[\"Codigo EMP\"] == \"EMP9310\")\n",
    "    | (reportes[\"Codigo EMP\"] == \"EMP9441\")\n",
    "    | (reportes[\"Codigo EMP\"] == \"EMP9792\")\n",
    "    | (reportes[\"Codigo EMP\"] == \"EMP6830\")\n",
    "    | (reportes[\"Codigo EMP\"] == \"EMP6975\")\n",
    "    | (reportes[\"Codigo EMP\"] == \"EMP7014\")\n",
    "    | (reportes[\"Codigo EMP\"] == \"EMP7045\")\n",
    "    | (reportes[\"Codigo EMP\"] == \"EMP7060\")\n",
    "    | (reportes[\"Codigo EMP\"] == \"EMP7422\")\n",
    "    | (reportes[\"Corredor\"] == \"Lorena Contreras Ugarte\")\n",
    "]\n",
    "cantidad_gente(\"Lorena Contreras Ugarte\")\n",
    "\n",
    "\n",
    "Lorena = Lorena[(Lorena[\"Empleador\"] == Lorena[\"Nombre Empresa\"])]\n",
    "\n",
    "Antiguo = \"F:/Reportes SF/MetLife/MetLife_Antiguo.xlsx\"\n",
    "Antiguo_Lorena = pd.read_excel(Antiguo)\n",
    "Antiguo_Lorena = Antiguo_Lorena[\n",
    "    (Antiguo_Lorena[\"Corredor\"] == \"Lorena Contreras Ugarte\")\n",
    "]\n",
    "Lorena = pd.concat([Lorena, Antiguo_Lorena])\n",
    "\n",
    "Antiguo_gente = \"F:/Reportes SF/MetLife/usuarios/cantidad_metlife_antiguo_gente.xlsx\"\n",
    "nuevo_gente = \"F:/Reportes SF/MetLife/usuarios/Lorena Contreras Ugarte_gente.xlsx\"\n",
    "Antiguo_gente_read = pd.read_excel(Antiguo_gente)\n",
    "nuevo_gente_read = pd.read_excel(nuevo_gente)\n",
    "\n",
    "Lorena_gente = pd.concat([Antiguo_gente_read, nuevo_gente_read])\n",
    "Lorena_gente.to_excel(\"F:/Reportes SF/MetLife/usuarios/gente_Lorena.xlsx\", index=False)\n",
    "\n",
    "Lorena.Clínica.fillna(\"Orientación Médica\", inplace=True)\n",
    "Lorena.replace({\"Sexo\": general_Sexo}, inplace=True)\n",
    "Lorena.replace({\"Clínica\": Clinicas_metlife}, inplace=True)\n",
    "Lorena_clinicas = {\n",
    "    \"Nutricion\": \"Nutrición\",\n",
    "    \"Deportivo\": \"Deporte\",\n",
    "    \"Front\": \"Orientación Médica\",\n",
    "    \"\": \"Orientación Médica\",\n",
    "    \"Enfermería\": \"Pacientes Crónicos\",\n",
    "}\n",
    "\n",
    "Lorena.replace({\"Clínica\": Lorena_clinicas}, inplace=True)\n",
    "\n",
    "Lorena.to_excel(\"F:/Reportes SF/MetLife/Lorena_Base.xlsx\", index=False)\n"
   ]
  },
  {
   "cell_type": "code",
   "execution_count": 66,
   "metadata": {},
   "outputs": [
    {
     "data": {
      "text/html": [
       "<div>\n",
       "<style scoped>\n",
       "    .dataframe tbody tr th:only-of-type {\n",
       "        vertical-align: middle;\n",
       "    }\n",
       "\n",
       "    .dataframe tbody tr th {\n",
       "        vertical-align: top;\n",
       "    }\n",
       "\n",
       "    .dataframe thead th {\n",
       "        text-align: right;\n",
       "    }\n",
       "</style>\n",
       "<table border=\"1\" class=\"dataframe\">\n",
       "  <thead>\n",
       "    <tr style=\"text-align: right;\">\n",
       "      <th></th>\n",
       "      <th>Codigo Ficha</th>\n",
       "      <th>Rut</th>\n",
       "      <th>Nombre</th>\n",
       "      <th>Sexo</th>\n",
       "      <th>Ocupacion</th>\n",
       "      <th>Cargo</th>\n",
       "      <th>Departamento</th>\n",
       "      <th>Campaña</th>\n",
       "      <th>Holding</th>\n",
       "      <th>Empleador</th>\n",
       "      <th>...</th>\n",
       "      <th>Meses</th>\n",
       "      <th>Canal</th>\n",
       "      <th>Clínica</th>\n",
       "      <th>Motivo de consulta</th>\n",
       "      <th>Nombre Empresa</th>\n",
       "      <th>Codigo EMP</th>\n",
       "      <th>Codigo A</th>\n",
       "      <th>Vigente</th>\n",
       "      <th>Corredor</th>\n",
       "      <th>Pais</th>\n",
       "    </tr>\n",
       "  </thead>\n",
       "  <tbody>\n",
       "    <tr>\n",
       "      <th>83</th>\n",
       "      <td>61d58cbb49839dd0a</td>\n",
       "      <td>26206235K</td>\n",
       "      <td>ACOSTA MATIE VICTORIA ALEXJA</td>\n",
       "      <td>Mujer</td>\n",
       "      <td>NaN</td>\n",
       "      <td>NaN</td>\n",
       "      <td>NaN</td>\n",
       "      <td>MetLife</td>\n",
       "      <td>NaN</td>\n",
       "      <td>Sociedad Comercial Allendes Hnos.</td>\n",
       "      <td>...</td>\n",
       "      <td>Enero</td>\n",
       "      <td>Llamada telefónica</td>\n",
       "      <td>Psicología</td>\n",
       "      <td>0</td>\n",
       "      <td>Sociedad Comercial Allendes Hnos.</td>\n",
       "      <td>0</td>\n",
       "      <td>0</td>\n",
       "      <td>SI</td>\n",
       "      <td>Lorena Contreras Ugarte</td>\n",
       "      <td>Chile</td>\n",
       "    </tr>\n",
       "    <tr>\n",
       "      <th>109</th>\n",
       "      <td>61d58cbb49839dd0a</td>\n",
       "      <td>26206235K</td>\n",
       "      <td>ACOSTA MATIE VICTORIA ALEXJA</td>\n",
       "      <td>Mujer</td>\n",
       "      <td>NaN</td>\n",
       "      <td>NaN</td>\n",
       "      <td>NaN</td>\n",
       "      <td>MetLife</td>\n",
       "      <td>NaN</td>\n",
       "      <td>Sociedad Comercial Allendes Hnos.</td>\n",
       "      <td>...</td>\n",
       "      <td>Enero</td>\n",
       "      <td>Llamada telefónica</td>\n",
       "      <td>Psicología</td>\n",
       "      <td>0</td>\n",
       "      <td>Sociedad Comercial Allendes Hnos.</td>\n",
       "      <td>0</td>\n",
       "      <td>0</td>\n",
       "      <td>SI</td>\n",
       "      <td>Lorena Contreras Ugarte</td>\n",
       "      <td>Chile</td>\n",
       "    </tr>\n",
       "    <tr>\n",
       "      <th>132</th>\n",
       "      <td>61d58cbb49839dd0a</td>\n",
       "      <td>26206235K</td>\n",
       "      <td>ACOSTA MATIE VICTORIA ALEXJA</td>\n",
       "      <td>Mujer</td>\n",
       "      <td>NaN</td>\n",
       "      <td>NaN</td>\n",
       "      <td>NaN</td>\n",
       "      <td>MetLife</td>\n",
       "      <td>NaN</td>\n",
       "      <td>Sociedad Comercial Allendes Hnos.</td>\n",
       "      <td>...</td>\n",
       "      <td>Febrero</td>\n",
       "      <td>Llamada telefónica</td>\n",
       "      <td>Psicología</td>\n",
       "      <td>0</td>\n",
       "      <td>Sociedad Comercial Allendes Hnos.</td>\n",
       "      <td>0</td>\n",
       "      <td>0</td>\n",
       "      <td>SI</td>\n",
       "      <td>Lorena Contreras Ugarte</td>\n",
       "      <td>Chile</td>\n",
       "    </tr>\n",
       "    <tr>\n",
       "      <th>153</th>\n",
       "      <td>61d58cb94d6959a4a</td>\n",
       "      <td>228278424</td>\n",
       "      <td>VALERO BRIONES SOFIA</td>\n",
       "      <td>Mujer</td>\n",
       "      <td>NaN</td>\n",
       "      <td>NaN</td>\n",
       "      <td>NaN</td>\n",
       "      <td>MetLife</td>\n",
       "      <td>NaN</td>\n",
       "      <td>Sociedad Comercial Allendes Hnos.</td>\n",
       "      <td>...</td>\n",
       "      <td>Febrero</td>\n",
       "      <td>Llamada telefónica</td>\n",
       "      <td>Psicología</td>\n",
       "      <td>0</td>\n",
       "      <td>Sociedad Comercial Allendes Hnos.</td>\n",
       "      <td>0</td>\n",
       "      <td>0</td>\n",
       "      <td>SI</td>\n",
       "      <td>Lorena Contreras Ugarte</td>\n",
       "      <td>Chile</td>\n",
       "    </tr>\n",
       "    <tr>\n",
       "      <th>170</th>\n",
       "      <td>61d58cb94d6959a4a</td>\n",
       "      <td>228278424</td>\n",
       "      <td>VALERO BRIONES SOFIA</td>\n",
       "      <td>Mujer</td>\n",
       "      <td>NaN</td>\n",
       "      <td>NaN</td>\n",
       "      <td>NaN</td>\n",
       "      <td>MetLife</td>\n",
       "      <td>NaN</td>\n",
       "      <td>Sociedad Comercial Allendes Hnos.</td>\n",
       "      <td>...</td>\n",
       "      <td>Febrero</td>\n",
       "      <td>Llamada telefónica</td>\n",
       "      <td>Psicología</td>\n",
       "      <td>0</td>\n",
       "      <td>Sociedad Comercial Allendes Hnos.</td>\n",
       "      <td>0</td>\n",
       "      <td>0</td>\n",
       "      <td>SI</td>\n",
       "      <td>Lorena Contreras Ugarte</td>\n",
       "      <td>Chile</td>\n",
       "    </tr>\n",
       "  </tbody>\n",
       "</table>\n",
       "<p>5 rows × 27 columns</p>\n",
       "</div>"
      ],
      "text/plain": [
       "          Codigo Ficha        Rut                        Nombre   Sexo  \\\n",
       "83   61d58cbb49839dd0a  26206235K  ACOSTA MATIE VICTORIA ALEXJA  Mujer   \n",
       "109  61d58cbb49839dd0a  26206235K  ACOSTA MATIE VICTORIA ALEXJA  Mujer   \n",
       "132  61d58cbb49839dd0a  26206235K  ACOSTA MATIE VICTORIA ALEXJA  Mujer   \n",
       "153  61d58cb94d6959a4a  228278424          VALERO BRIONES SOFIA  Mujer   \n",
       "170  61d58cb94d6959a4a  228278424          VALERO BRIONES SOFIA  Mujer   \n",
       "\n",
       "     Ocupacion  Cargo  Departamento  Campaña Holding  \\\n",
       "83         NaN    NaN           NaN  MetLife     NaN   \n",
       "109        NaN    NaN           NaN  MetLife     NaN   \n",
       "132        NaN    NaN           NaN  MetLife     NaN   \n",
       "153        NaN    NaN           NaN  MetLife     NaN   \n",
       "170        NaN    NaN           NaN  MetLife     NaN   \n",
       "\n",
       "                             Empleador  ...    Meses               Canal  \\\n",
       "83   Sociedad Comercial Allendes Hnos.  ...    Enero  Llamada telefónica   \n",
       "109  Sociedad Comercial Allendes Hnos.  ...    Enero  Llamada telefónica   \n",
       "132  Sociedad Comercial Allendes Hnos.  ...  Febrero  Llamada telefónica   \n",
       "153  Sociedad Comercial Allendes Hnos.  ...  Febrero  Llamada telefónica   \n",
       "170  Sociedad Comercial Allendes Hnos.  ...  Febrero  Llamada telefónica   \n",
       "\n",
       "        Clínica Motivo de consulta                     Nombre Empresa  \\\n",
       "83   Psicología                  0  Sociedad Comercial Allendes Hnos.   \n",
       "109  Psicología                  0  Sociedad Comercial Allendes Hnos.   \n",
       "132  Psicología                  0  Sociedad Comercial Allendes Hnos.   \n",
       "153  Psicología                  0  Sociedad Comercial Allendes Hnos.   \n",
       "170  Psicología                  0  Sociedad Comercial Allendes Hnos.   \n",
       "\n",
       "     Codigo EMP  Codigo A Vigente                 Corredor   Pais  \n",
       "83            0         0      SI  Lorena Contreras Ugarte  Chile  \n",
       "109           0         0      SI  Lorena Contreras Ugarte  Chile  \n",
       "132           0         0      SI  Lorena Contreras Ugarte  Chile  \n",
       "153           0         0      SI  Lorena Contreras Ugarte  Chile  \n",
       "170           0         0      SI  Lorena Contreras Ugarte  Chile  \n",
       "\n",
       "[5 rows x 27 columns]"
      ]
     },
     "execution_count": 66,
     "metadata": {},
     "output_type": "execute_result"
    }
   ],
   "source": [
    "Antiguo_Lorena.head()\n"
   ]
  },
  {
   "cell_type": "code",
   "execution_count": 67,
   "metadata": {},
   "outputs": [
    {
     "name": "stderr",
     "output_type": "stream",
     "text": [
      "C:\\Users\\jmartinez\\AppData\\Local\\Temp\\ipykernel_12052\\3360871456.py:72: SettingWithCopyWarning: \n",
      "A value is trying to be set on a copy of a slice from a DataFrame.\n",
      "Try using .loc[row_indexer,col_indexer] = value instead\n",
      "\n",
      "See the caveats in the documentation: https://pandas.pydata.org/pandas-docs/stable/user_guide/indexing.html#returning-a-view-versus-a-copy\n",
      "  Security_metlife.replace({\"Clínica\": Clinicas_metlife}, inplace=True)\n"
     ]
    }
   ],
   "source": [
    "Security_metlife = reportes[\n",
    "    (reportes[\"Codigo EMP\"] == \"EMP5952\")\n",
    "    | (reportes[\"Codigo EMP\"] == \"EMP5957\")\n",
    "    | (reportes[\"Codigo EMP\"] == \"EMP5966\")\n",
    "    | (reportes[\"Codigo EMP\"] == \"EMP5989\")\n",
    "    | (reportes[\"Codigo EMP\"] == \"EMP6833\")\n",
    "    | (reportes[\"Codigo EMP\"] == \"EMP6902\")\n",
    "    | (reportes[\"Codigo EMP\"] == \"EMP7332\")\n",
    "    | (reportes[\"Codigo EMP\"] == \"EMP7661\")\n",
    "    | (reportes[\"Codigo EMP\"] == \"EMP9232\")\n",
    "    | (reportes[\"Codigo EMP\"] == \"EMP9233\")\n",
    "    | (reportes[\"Codigo EMP\"] == \"EMP9234\")\n",
    "    | (reportes[\"Codigo EMP\"] == \"EMP9235\")\n",
    "    | (reportes[\"Codigo EMP\"] == \"EMP9236\")\n",
    "    | (reportes[\"Codigo EMP\"] == \"EMP9237\")\n",
    "    | (reportes[\"Codigo EMP\"] == \"EMP9238\")\n",
    "    | (reportes[\"Codigo EMP\"] == \"EMP9239\")\n",
    "    | (reportes[\"Codigo EMP\"] == \"EMP9240\")\n",
    "    | (reportes[\"Codigo EMP\"] == \"EMP9347\")\n",
    "    | (reportes[\"Codigo EMP\"] == \"EMP9287\")\n",
    "    | (reportes[\"Codigo EMP\"] == \"EMP5950\")\n",
    "    | (reportes[\"Codigo EMP\"] == \"EMP5951\")\n",
    "    | (reportes[\"Codigo EMP\"] == \"EMP5953\")\n",
    "    | (reportes[\"Codigo EMP\"] == \"EMP5955\")\n",
    "    | (reportes[\"Codigo EMP\"] == \"EMP5956\")\n",
    "    | (reportes[\"Codigo EMP\"] == \"EMP5958\")\n",
    "    | (reportes[\"Codigo EMP\"] == \"EMP5959\")\n",
    "    | (reportes[\"Codigo EMP\"] == \"EMP5960\")\n",
    "    | (reportes[\"Codigo EMP\"] == \"EMP5961\")\n",
    "    | (reportes[\"Codigo EMP\"] == \"EMP5962\")\n",
    "    | (reportes[\"Codigo EMP\"] == \"EMP5963\")\n",
    "    | (reportes[\"Codigo EMP\"] == \"EMP5964\")\n",
    "    | (reportes[\"Codigo EMP\"] == \"EMP5965\")\n",
    "    | (reportes[\"Codigo EMP\"] == \"EMP5967\")\n",
    "    | (reportes[\"Codigo EMP\"] == \"EMP5968\")\n",
    "    | (reportes[\"Codigo EMP\"] == \"EMP5969\")\n",
    "    | (reportes[\"Codigo EMP\"] == \"EMP5990\")\n",
    "    | (reportes[\"Codigo EMP\"] == \"EMP5991\")\n",
    "    | (reportes[\"Codigo EMP\"] == \"EMP9440\")\n",
    "    | (reportes[\"Codigo EMP\"] == \"EMP9454\")\n",
    "    | (reportes[\"Codigo EMP\"] == \"EMP9455\")\n",
    "    | (reportes[\"Codigo EMP\"] == \"EMP9456\")\n",
    "    | (reportes[\"Codigo EMP\"] == \"EMP9457\")\n",
    "    | (reportes[\"Codigo EMP\"] == \"EMP9458\")\n",
    "    | (reportes[\"Codigo EMP\"] == \"EMP9459\")\n",
    "    | (reportes[\"Codigo EMP\"] == \"EMP9460\")\n",
    "    | (reportes[\"Codigo EMP\"] == \"EMP9512\")\n",
    "    | (reportes[\"Codigo EMP\"] == \"EMP9553\")\n",
    "    | (reportes[\"Codigo EMP\"] == \"EMP9669\")\n",
    "    | (reportes[\"Codigo EMP\"] == \"EMP6434\")\n",
    "    | (reportes[\"Codigo EMP\"] == \"EMP6713\")\n",
    "    | (reportes[\"Codigo EMP\"] == \"EMP6877\")\n",
    "    | (reportes[\"Codigo EMP\"] == \"EMP6898\")\n",
    "    | (reportes[\"Codigo EMP\"] == \"EMP6901\")\n",
    "    | (reportes[\"Codigo EMP\"] == \"EMP6905\")\n",
    "    | (reportes[\"Codigo EMP\"] == \"EMP7010\")\n",
    "    | (reportes[\"Codigo EMP\"] == \"EMP7066\")\n",
    "    | (reportes[\"Codigo EMP\"] == \"EMP7080\")\n",
    "    | (reportes[\"Codigo EMP\"] == \"EMP7094\")\n",
    "    | (reportes[\"Codigo EMP\"] == \"EMP7150\")\n",
    "    | (reportes[\"Codigo EMP\"] == \"EMP7333\")\n",
    "    | (reportes[\"Codigo EMP\"] == \"EMP7504\")\n",
    "    | (reportes[\"Codigo EMP\"] == \"EMP7505\")\n",
    "    | (reportes[\"Codigo EMP\"] == \"EMP7623\")\n",
    "    | (reportes[\"Codigo EMP\"] == \"EMP7625\")\n",
    "    | (reportes[\"Codigo EMP\"] == \"EMP7651\")\n",
    "    | (reportes[\"Codigo EMP\"] == \"EMP7721\")\n",
    "    | (reportes[\"Codigo EMP\"] == \"EMP7724\")\n",
    "    | (reportes[\"Corredor\"] == \"Corredores De Seguros Security Ltda.\")\n",
    "]\n",
    "\n",
    "Security_metlife.replace({\"Clínica\": Clinicas_metlife}, inplace=True)\n",
    "Security_metlife = Security_metlife[\n",
    "    (Security_metlife[\"Empleador\"] == Security_metlife[\"Nombre Empresa\"])\n",
    "]\n",
    "Security_metlife.to_excel(\"F:/Reportes SF/MetLife/Security_Base.xlsx\", index=False)"
   ]
  },
  {
   "cell_type": "code",
   "execution_count": 68,
   "metadata": {},
   "outputs": [
    {
     "name": "stderr",
     "output_type": "stream",
     "text": [
      "C:\\Users\\jmartinez\\AppData\\Local\\Temp\\ipykernel_12052\\3869347732.py:152: SettingWithCopyWarning: \n",
      "A value is trying to be set on a copy of a slice from a DataFrame.\n",
      "Try using .loc[row_indexer,col_indexer] = value instead\n",
      "\n",
      "See the caveats in the documentation: https://pandas.pydata.org/pandas-docs/stable/user_guide/indexing.html#returning-a-view-versus-a-copy\n",
      "  Thb.replace({\"Clínica\": Clinicas_metlife}, inplace=True)\n"
     ]
    }
   ],
   "source": [
    "Thb = reportes[\n",
    "    (reportes[\"Codigo EMP\"] == \"EMP9336\")\n",
    "    | (reportes[\"Codigo EMP\"] == \"EMP9442\")\n",
    "    | (reportes[\"Codigo EMP\"] == \"EMP9746\")\n",
    "    | (reportes[\"Codigo EMP\"] == \"EMP9627\")\n",
    "    | (reportes[\"Codigo EMP\"] == \"EMP5618\")\n",
    "    | (reportes[\"Codigo EMP\"] == \"EMP5619\")\n",
    "    | (reportes[\"Codigo EMP\"] == \"EMP5620\")\n",
    "    | (reportes[\"Codigo EMP\"] == \"EMP5621\")\n",
    "    | (reportes[\"Codigo EMP\"] == \"EMP5622\")\n",
    "    | (reportes[\"Codigo EMP\"] == \"EMP5623\")\n",
    "    | (reportes[\"Codigo EMP\"] == \"EMP5624\")\n",
    "    | (reportes[\"Codigo EMP\"] == \"EMP5625\")\n",
    "    | (reportes[\"Codigo EMP\"] == \"EMP5626\")\n",
    "    | (reportes[\"Codigo EMP\"] == \"EMP5628\")\n",
    "    | (reportes[\"Codigo EMP\"] == \"EMP5629\")\n",
    "    | (reportes[\"Codigo EMP\"] == \"EMP5630\")\n",
    "    | (reportes[\"Codigo EMP\"] == \"EMP5631\")\n",
    "    | (reportes[\"Codigo EMP\"] == \"EMP5632\")\n",
    "    | (reportes[\"Codigo EMP\"] == \"EMP5633\")\n",
    "    | (reportes[\"Codigo EMP\"] == \"EMP5634\")\n",
    "    | (reportes[\"Codigo EMP\"] == \"EMP5635\")\n",
    "    | (reportes[\"Codigo EMP\"] == \"EMP5636\")\n",
    "    | (reportes[\"Codigo EMP\"] == \"EMP5637\")\n",
    "    | (reportes[\"Codigo EMP\"] == \"EMP5638\")\n",
    "    | (reportes[\"Codigo EMP\"] == \"EMP5669\")\n",
    "    | (reportes[\"Codigo EMP\"] == \"EMP5670\")\n",
    "    | (reportes[\"Codigo EMP\"] == \"EMP5671\")\n",
    "    | (reportes[\"Codigo EMP\"] == \"EMP5672\")\n",
    "    | (reportes[\"Codigo EMP\"] == \"EMP5673\")\n",
    "    | (reportes[\"Codigo EMP\"] == \"EMP5674\")\n",
    "    | (reportes[\"Codigo EMP\"] == \"EMP5675\")\n",
    "    | (reportes[\"Codigo EMP\"] == \"EMP5677\")\n",
    "    | (reportes[\"Codigo EMP\"] == \"EMP5721\")\n",
    "    | (reportes[\"Codigo EMP\"] == \"EMP5722\")\n",
    "    | (reportes[\"Codigo EMP\"] == \"EMP5723\")\n",
    "    | (reportes[\"Codigo EMP\"] == \"EMP5724\")\n",
    "    | (reportes[\"Codigo EMP\"] == \"EMP5725\")\n",
    "    | (reportes[\"Codigo EMP\"] == \"EMP5726\")\n",
    "    | (reportes[\"Codigo EMP\"] == \"EMP5727\")\n",
    "    | (reportes[\"Codigo EMP\"] == \"EMP5728\")\n",
    "    | (reportes[\"Codigo EMP\"] == \"EMP5729\")\n",
    "    | (reportes[\"Codigo EMP\"] == \"EMP5730\")\n",
    "    | (reportes[\"Codigo EMP\"] == \"EMP5731\")\n",
    "    | (reportes[\"Codigo EMP\"] == \"EMP5732\")\n",
    "    | (reportes[\"Codigo EMP\"] == \"EMP5733\")\n",
    "    | (reportes[\"Codigo EMP\"] == \"EMP5734\")\n",
    "    | (reportes[\"Codigo EMP\"] == \"EMP5735\")\n",
    "    | (reportes[\"Codigo EMP\"] == \"EMP5736\")\n",
    "    | (reportes[\"Codigo EMP\"] == \"EMP5737\")\n",
    "    | (reportes[\"Codigo EMP\"] == \"EMP5738\")\n",
    "    | (reportes[\"Codigo EMP\"] == \"EMP9242\")\n",
    "    | (reportes[\"Codigo EMP\"] == \"EMP9121\")\n",
    "    | (reportes[\"Codigo EMP\"] == \"EMP9122\")\n",
    "    | (reportes[\"Codigo EMP\"] == \"EMP9123\")\n",
    "    | (reportes[\"Codigo EMP\"] == \"EMP9168\")\n",
    "    | (reportes[\"Codigo EMP\"] == \"EMP9137\")\n",
    "    | (reportes[\"Codigo EMP\"] == \"EMP9320\")\n",
    "    | (reportes[\"Codigo EMP\"] == \"EMP9364\")\n",
    "    | (reportes[\"Codigo EMP\"] == \"EMP9257\")\n",
    "    | (reportes[\"Codigo EMP\"] == \"EMP9258\")\n",
    "    | (reportes[\"Codigo EMP\"] == \"EMP9259\")\n",
    "    | (reportes[\"Codigo EMP\"] == \"EMP9260\")\n",
    "    | (reportes[\"Codigo EMP\"] == \"EMP9261\")\n",
    "    | (reportes[\"Codigo EMP\"] == \"EMP9262\")\n",
    "    | (reportes[\"Codigo EMP\"] == \"EMP9461\")\n",
    "    | (reportes[\"Codigo EMP\"] == \"EMP9463\")\n",
    "    | (reportes[\"Codigo EMP\"] == \"EMP9859\")\n",
    "    | (reportes[\"Codigo EMP\"] == \"EMP9887\")\n",
    "    | (reportes[\"Codigo EMP\"] == \"EMP9888\")\n",
    "    | (reportes[\"Codigo EMP\"] == \"EMP9925\")\n",
    "    | (reportes[\"Codigo EMP\"] == \"EMP9952\")\n",
    "    | (reportes[\"Codigo EMP\"] == \"EMP9953\")\n",
    "    | (reportes[\"Codigo EMP\"] == \"EMP9514\")\n",
    "    | (reportes[\"Codigo EMP\"] == \"EMP9515\")\n",
    "    | (reportes[\"Codigo EMP\"] == \"EMP9516\")\n",
    "    | (reportes[\"Codigo EMP\"] == \"EMP9517\")\n",
    "    | (reportes[\"Codigo EMP\"] == \"EMP9956\")\n",
    "    | (reportes[\"Codigo EMP\"] == \"EMP9957\")\n",
    "    | (reportes[\"Codigo EMP\"] == \"EMP9958\")\n",
    "    | (reportes[\"Codigo EMP\"] == \"EMP9970\")\n",
    "    | (reportes[\"Codigo EMP\"] == \"EMP9559\")\n",
    "    | (reportes[\"Codigo EMP\"] == \"EMP9561\")\n",
    "    | (reportes[\"Codigo EMP\"] == \"EMP9565\")\n",
    "    | (reportes[\"Codigo EMP\"] == \"EMP9567\")\n",
    "    | (reportes[\"Codigo EMP\"] == \"EMP9568\")\n",
    "    | (reportes[\"Codigo EMP\"] == \"EMP9569\")\n",
    "    | (reportes[\"Codigo EMP\"] == \"EMP9570\")\n",
    "    | (reportes[\"Codigo EMP\"] == \"EMP9571\")\n",
    "    | (reportes[\"Codigo EMP\"] == \"EMP9572\")\n",
    "    | (reportes[\"Codigo EMP\"] == \"EMP9573\")\n",
    "    | (reportes[\"Codigo EMP\"] == \"EMP9574\")\n",
    "    | (reportes[\"Codigo EMP\"] == \"EMP9576\")\n",
    "    | (reportes[\"Codigo EMP\"] == \"EMP9698\")\n",
    "    | (reportes[\"Codigo EMP\"] == \"EMP9699\")\n",
    "    | (reportes[\"Codigo EMP\"] == \"EMP9700\")\n",
    "    | (reportes[\"Codigo EMP\"] == \"EMP9577\")\n",
    "    | (reportes[\"Codigo EMP\"] == \"EMP9580\")\n",
    "    | (reportes[\"Codigo EMP\"] == \"EMP9581\")\n",
    "    | (reportes[\"Codigo EMP\"] == \"EMP9583\")\n",
    "    | (reportes[\"Codigo EMP\"] == \"EMP9584\")\n",
    "    | (reportes[\"Codigo EMP\"] == \"EMP9585\")\n",
    "    | (reportes[\"Codigo EMP\"] == \"EMP9586\")\n",
    "    | (reportes[\"Codigo EMP\"] == \"EMP9587\")\n",
    "    | (reportes[\"Codigo EMP\"] == \"EMP9588\")\n",
    "    | (reportes[\"Codigo EMP\"] == \"EMP9594\")\n",
    "    | (reportes[\"Codigo EMP\"] == \"EMP9624\")\n",
    "    | (reportes[\"Codigo EMP\"] == \"EMP9625\")\n",
    "    | (reportes[\"Codigo EMP\"] == \"EMP9626\")\n",
    "    | (reportes[\"Codigo EMP\"] == \"EMP9628\")\n",
    "    | (reportes[\"Codigo EMP\"] == \"EMP9629\")\n",
    "    | (reportes[\"Codigo EMP\"] == \"EMP9633\")\n",
    "    | (reportes[\"Codigo EMP\"] == \"EMP9634\")\n",
    "    | (reportes[\"Codigo EMP\"] == \"EMP9635\")\n",
    "    | (reportes[\"Codigo EMP\"] == \"EMP9645\")\n",
    "    | (reportes[\"Codigo EMP\"] == \"EMP9791\")\n",
    "    | (reportes[\"Codigo EMP\"] == \"EMP9799\")\n",
    "    | (reportes[\"Codigo EMP\"] == \"EMP9806\")\n",
    "    | (reportes[\"Codigo EMP\"] == \"EMP9807\")\n",
    "    | (reportes[\"Codigo EMP\"] == \"EMP9691\")\n",
    "    | (reportes[\"Codigo EMP\"] == \"EMP6373\")\n",
    "    | (reportes[\"Codigo EMP\"] == \"EMP6397\")\n",
    "    | (reportes[\"Codigo EMP\"] == \"EMP6410\")\n",
    "    | (reportes[\"Codigo EMP\"] == \"EMP6481\")\n",
    "    | (reportes[\"Codigo EMP\"] == \"EMP6528\")\n",
    "    | (reportes[\"Codigo EMP\"] == \"EMP6612\")\n",
    "    | (reportes[\"Codigo EMP\"] == \"EMP6613\")\n",
    "    | (reportes[\"Codigo EMP\"] == \"EMP6753\")\n",
    "    | (reportes[\"Codigo EMP\"] == \"EMP6875\")\n",
    "    | (reportes[\"Codigo EMP\"] == \"EMP6891\")\n",
    "    | (reportes[\"Codigo EMP\"] == \"EMP7011\")\n",
    "    | (reportes[\"Codigo EMP\"] == \"EMP7012\")\n",
    "    | (reportes[\"Codigo EMP\"] == \"EMP7039\")\n",
    "    | (reportes[\"Codigo EMP\"] == \"EMP7040\")\n",
    "    | (reportes[\"Codigo EMP\"] == \"EMP7041\")\n",
    "    | (reportes[\"Codigo EMP\"] == \"EMP7051\")\n",
    "    | (reportes[\"Codigo EMP\"] == \"EMP7143\")\n",
    "    | (reportes[\"Codigo EMP\"] == \"EMP7170\")\n",
    "    | (reportes[\"Codigo EMP\"] == \"EMP7339\")\n",
    "    | (reportes[\"Codigo EMP\"] == \"EMP7420\")\n",
    "    | (reportes[\"Codigo EMP\"] == \"EMP7568\")\n",
    "    | (reportes[\"Codigo EMP\"] == \"EMP7626\")\n",
    "    | (reportes[\"Codigo EMP\"] == \"EMP7627\")\n",
    "    | (reportes[\"Codigo EMP\"] == \"EMP7633\")\n",
    "    | (reportes[\"Codigo EMP\"] == \"EMP7701\")\n",
    "    | (reportes[\"Codigo EMP\"] == \"EMP7740\")\n",
    "    | (reportes[\"Codigo EMP\"] == \"EMP7746\")\n",
    "    | (reportes[\"Codigo EMP\"] == \"EMP7772\")\n",
    "    | (reportes[\"Codigo EMP\"] == \"EMP7776\")\n",
    "    | (reportes[\"Corredor\"] == \"THB Chile Corredores De Seguros S.A.\")\n",
    "]\n",
    "Thb.replace({\"Clínica\": Clinicas_metlife}, inplace=True)\n",
    "Thb = Thb[(Thb[\"Empleador\"] == Thb[\"Nombre Empresa\"])]\n",
    "Thb.to_excel(\"F:/Reportes SF/MetLife/Thb_Base.xlsx\", index=False)"
   ]
  },
  {
   "cell_type": "code",
   "execution_count": 69,
   "metadata": {},
   "outputs": [
    {
     "name": "stderr",
     "output_type": "stream",
     "text": [
      "C:\\Users\\jmartinez\\AppData\\Local\\Temp\\ipykernel_12052\\2416436682.py:18: SettingWithCopyWarning: \n",
      "A value is trying to be set on a copy of a slice from a DataFrame.\n",
      "Try using .loc[row_indexer,col_indexer] = value instead\n",
      "\n",
      "See the caveats in the documentation: https://pandas.pydata.org/pandas-docs/stable/user_guide/indexing.html#returning-a-view-versus-a-copy\n",
      "  Veritas.replace({\"Clínica\": Clinicas_metlife}, inplace=True)\n"
     ]
    }
   ],
   "source": [
    "Veritas = reportes[\n",
    "    (reportes[\"Codigo EMP\"] == \"EMP5717\")\n",
    "    | (reportes[\"Codigo EMP\"] == \"EMP5718\")\n",
    "    | (reportes[\"Codigo EMP\"] == \"EMP5719\")\n",
    "    | (reportes[\"Codigo EMP\"] == \"EMP5720\")\n",
    "    | (reportes[\"Codigo EMP\"] == \"EMP9959\")\n",
    "    | (reportes[\"Codigo EMP\"] == \"EMP9707\")\n",
    "    | (reportes[\"Codigo EMP\"] == \"EMP9823\")\n",
    "    | (reportes[\"Codigo EMP\"] == \"EMP9824\")\n",
    "    | (reportes[\"Codigo EMP\"] == \"EMP6615\")\n",
    "    | (reportes[\"Codigo EMP\"] == \"EMP6662\")\n",
    "    | (reportes[\"Codigo EMP\"] == \"EMP6778\")\n",
    "    | (reportes[\"Codigo EMP\"] == \"EMP6872\")\n",
    "    | (reportes[\"Codigo EMP\"] == \"EMP7042\")\n",
    "    | (reportes[\"Codigo EMP\"] == \"EMP7052\")\n",
    "    | (reportes[\"Corredor\"] == \"Veritas Corredores De Seguros S.A.\")\n",
    "]\n",
    "Veritas.replace({\"Clínica\": Clinicas_metlife}, inplace=True)\n",
    "Veritas = Veritas[(Veritas[\"Empleador\"] == Veritas[\"Nombre Empresa\"])]\n",
    "Veritas.to_excel(\"F:/Reportes SF/MetLife/Veritas_Base.xlsx\", index=False)\n"
   ]
  },
  {
   "cell_type": "code",
   "execution_count": 70,
   "metadata": {},
   "outputs": [
    {
     "name": "stderr",
     "output_type": "stream",
     "text": [
      "C:\\Users\\jmartinez\\AppData\\Local\\Temp\\ipykernel_12052\\1490380631.py:197: SettingWithCopyWarning: \n",
      "A value is trying to be set on a copy of a slice from a DataFrame.\n",
      "Try using .loc[row_indexer,col_indexer] = value instead\n",
      "\n",
      "See the caveats in the documentation: https://pandas.pydata.org/pandas-docs/stable/user_guide/indexing.html#returning-a-view-versus-a-copy\n",
      "  Mercer.replace({\"Clínica\": Clinicas_metlife}, inplace=True)\n"
     ]
    }
   ],
   "source": [
    "Mercer = reportes[\n",
    "    (reportes[\"Codigo EMP\"] == \"EMP9162\")\n",
    "    | (reportes[\"Codigo EMP\"] == \"EMP5741\")\n",
    "    | (reportes[\"Codigo EMP\"] == \"EMP5744\")\n",
    "    | (reportes[\"Codigo EMP\"] == \"EMP5755\")\n",
    "    | (reportes[\"Codigo EMP\"] == \"EMP5763\")\n",
    "    | (reportes[\"Codigo EMP\"] == \"EMP5772\")\n",
    "    | (reportes[\"Codigo EMP\"] == \"EMP5795\")\n",
    "    | (reportes[\"Codigo EMP\"] == \"EMP5811\")\n",
    "    | (reportes[\"Codigo EMP\"] == \"EMP3852\")\n",
    "    | (reportes[\"Codigo EMP\"] == \"EMP9377\")\n",
    "    | (reportes[\"Codigo EMP\"] == \"EMP9544\")\n",
    "    | (reportes[\"Codigo EMP\"] == \"EMP9714\")\n",
    "    | (reportes[\"Codigo EMP\"] == \"EMP9715\")\n",
    "    | (reportes[\"Codigo EMP\"] == \"EMP9716\")\n",
    "    | (reportes[\"Codigo EMP\"] == \"EMP9717\")\n",
    "    | (reportes[\"Codigo EMP\"] == \"EMP9721\")\n",
    "    | (reportes[\"Codigo EMP\"] == \"EMP9722\")\n",
    "    | (reportes[\"Codigo EMP\"] == \"EMP9723\")\n",
    "    | (reportes[\"Codigo EMP\"] == \"EMP6464\")\n",
    "    | (reportes[\"Codigo EMP\"] == \"EMP7653\")\n",
    "    | (reportes[\"Codigo EMP\"] == \"EMP9244\")\n",
    "    | (reportes[\"Codigo EMP\"] == \"EMP9245\")\n",
    "    | (reportes[\"Codigo EMP\"] == \"EMP9246\")\n",
    "    | (reportes[\"Codigo EMP\"] == \"EMP9247\")\n",
    "    | (reportes[\"Codigo EMP\"] == \"EMP9248\")\n",
    "    | (reportes[\"Codigo EMP\"] == \"EMP9249\")\n",
    "    | (reportes[\"Codigo EMP\"] == \"EMP9250\")\n",
    "    | (reportes[\"Codigo EMP\"] == \"EMP9140\")\n",
    "    | (reportes[\"Codigo EMP\"] == \"EMP9141\")\n",
    "    | (reportes[\"Codigo EMP\"] == \"EMP9148\")\n",
    "    | (reportes[\"Codigo EMP\"] == \"EMP9149\")\n",
    "    | (reportes[\"Codigo EMP\"] == \"EMP9150\")\n",
    "    | (reportes[\"Codigo EMP\"] == \"EMP9151\")\n",
    "    | (reportes[\"Codigo EMP\"] == \"EMP9152\")\n",
    "    | (reportes[\"Codigo EMP\"] == \"EMP9153\")\n",
    "    | (reportes[\"Codigo EMP\"] == \"EMP9154\")\n",
    "    | (reportes[\"Codigo EMP\"] == \"EMP9155\")\n",
    "    | (reportes[\"Codigo EMP\"] == \"EMP9156\")\n",
    "    | (reportes[\"Codigo EMP\"] == \"EMP9157\")\n",
    "    | (reportes[\"Codigo EMP\"] == \"EMP9158\")\n",
    "    | (reportes[\"Codigo EMP\"] == \"EMP9159\")\n",
    "    | (reportes[\"Codigo EMP\"] == \"EMP9160\")\n",
    "    | (reportes[\"Codigo EMP\"] == \"EMP9161\")\n",
    "    | (reportes[\"Codigo EMP\"] == \"EMP9163\")\n",
    "    | (reportes[\"Codigo EMP\"] == \"EMP9164\")\n",
    "    | (reportes[\"Codigo EMP\"] == \"EMP9165\")\n",
    "    | (reportes[\"Codigo EMP\"] == \"EMP9166\")\n",
    "    | (reportes[\"Codigo EMP\"] == \"EMP9167\")\n",
    "    | (reportes[\"Codigo EMP\"] == \"EMP9127\")\n",
    "    | (reportes[\"Codigo EMP\"] == \"EMP9130\")\n",
    "    | (reportes[\"Codigo EMP\"] == \"EMP9131\")\n",
    "    | (reportes[\"Codigo EMP\"] == \"EMP5742\")\n",
    "    | (reportes[\"Codigo EMP\"] == \"EMP5743\")\n",
    "    | (reportes[\"Codigo EMP\"] == \"EMP5745\")\n",
    "    | (reportes[\"Codigo EMP\"] == \"EMP5746\")\n",
    "    | (reportes[\"Codigo EMP\"] == \"EMP5747\")\n",
    "    | (reportes[\"Codigo EMP\"] == \"EMP5748\")\n",
    "    | (reportes[\"Codigo EMP\"] == \"EMP5749\")\n",
    "    | (reportes[\"Codigo EMP\"] == \"EMP5750\")\n",
    "    | (reportes[\"Codigo EMP\"] == \"EMP5751\")\n",
    "    | (reportes[\"Codigo EMP\"] == \"EMP5752\")\n",
    "    | (reportes[\"Codigo EMP\"] == \"EMP5753\")\n",
    "    | (reportes[\"Codigo EMP\"] == \"EMP5754\")\n",
    "    | (reportes[\"Codigo EMP\"] == \"EMP5756\")\n",
    "    | (reportes[\"Codigo EMP\"] == \"EMP5757\")\n",
    "    | (reportes[\"Codigo EMP\"] == \"EMP5758\")\n",
    "    | (reportes[\"Codigo EMP\"] == \"EMP5759\")\n",
    "    | (reportes[\"Codigo EMP\"] == \"EMP5760\")\n",
    "    | (reportes[\"Codigo EMP\"] == \"EMP5761\")\n",
    "    | (reportes[\"Codigo EMP\"] == \"EMP5762\")\n",
    "    | (reportes[\"Codigo EMP\"] == \"EMP5764\")\n",
    "    | (reportes[\"Codigo EMP\"] == \"EMP5765\")\n",
    "    | (reportes[\"Codigo EMP\"] == \"EMP5766\")\n",
    "    | (reportes[\"Codigo EMP\"] == \"EMP5767\")\n",
    "    | (reportes[\"Codigo EMP\"] == \"EMP5768\")\n",
    "    | (reportes[\"Codigo EMP\"] == \"EMP5769\")\n",
    "    | (reportes[\"Codigo EMP\"] == \"EMP5770\")\n",
    "    | (reportes[\"Codigo EMP\"] == \"EMP5771\")\n",
    "    | (reportes[\"Codigo EMP\"] == \"EMP5773\")\n",
    "    | (reportes[\"Codigo EMP\"] == \"EMP5774\")\n",
    "    | (reportes[\"Codigo EMP\"] == \"EMP9276\")\n",
    "    | (reportes[\"Codigo EMP\"] == \"EMP9362\")\n",
    "    | (reportes[\"Codigo EMP\"] == \"EMP5796\")\n",
    "    | (reportes[\"Codigo EMP\"] == \"EMP5797\")\n",
    "    | (reportes[\"Codigo EMP\"] == \"EMP5798\")\n",
    "    | (reportes[\"Codigo EMP\"] == \"EMP5799\")\n",
    "    | (reportes[\"Codigo EMP\"] == \"EMP5800\")\n",
    "    | (reportes[\"Codigo EMP\"] == \"EMP5801\")\n",
    "    | (reportes[\"Codigo EMP\"] == \"EMP5802\")\n",
    "    | (reportes[\"Codigo EMP\"] == \"EMP5803\")\n",
    "    | (reportes[\"Codigo EMP\"] == \"EMP5804\")\n",
    "    | (reportes[\"Codigo EMP\"] == \"EMP5805\")\n",
    "    | (reportes[\"Codigo EMP\"] == \"EMP5806\")\n",
    "    | (reportes[\"Codigo EMP\"] == \"EMP5807\")\n",
    "    | (reportes[\"Codigo EMP\"] == \"EMP5808\")\n",
    "    | (reportes[\"Codigo EMP\"] == \"EMP5809\")\n",
    "    | (reportes[\"Codigo EMP\"] == \"EMP5810\")\n",
    "    | (reportes[\"Codigo EMP\"] == \"EMP5812\")\n",
    "    | (reportes[\"Codigo EMP\"] == \"EMP9264\")\n",
    "    | (reportes[\"Codigo EMP\"] == \"EMP9265\")\n",
    "    | (reportes[\"Codigo EMP\"] == \"EMP9266\")\n",
    "    | (reportes[\"Codigo EMP\"] == \"EMP9267\")\n",
    "    | (reportes[\"Codigo EMP\"] == \"EMP9268\")\n",
    "    | (reportes[\"Codigo EMP\"] == \"EMP9269\")\n",
    "    | (reportes[\"Codigo EMP\"] == \"EMP9270\")\n",
    "    | (reportes[\"Codigo EMP\"] == \"EMP9271\")\n",
    "    | (reportes[\"Codigo EMP\"] == \"EMP9273\")\n",
    "    | (reportes[\"Codigo EMP\"] == \"EMP9274\")\n",
    "    | (reportes[\"Codigo EMP\"] == \"EMP9275\")\n",
    "    | (reportes[\"Codigo EMP\"] == \"EMP9263\")\n",
    "    | (reportes[\"Codigo EMP\"] == \"EMP6178\")\n",
    "    | (reportes[\"Codigo EMP\"] == \"EMP6179\")\n",
    "    | (reportes[\"Codigo EMP\"] == \"EMP6180\")\n",
    "    | (reportes[\"Codigo EMP\"] == \"EMP9445\")\n",
    "    | (reportes[\"Codigo EMP\"] == \"EMP9446\")\n",
    "    | (reportes[\"Codigo EMP\"] == \"EMP9448\")\n",
    "    | (reportes[\"Codigo EMP\"] == \"EMP9449\")\n",
    "    | (reportes[\"Codigo EMP\"] == \"EMP9450\")\n",
    "    | (reportes[\"Codigo EMP\"] == \"EMP9451\")\n",
    "    | (reportes[\"Codigo EMP\"] == \"EMP9462\")\n",
    "    | (reportes[\"Codigo EMP\"] == \"EMP9480\")\n",
    "    | (reportes[\"Codigo EMP\"] == \"EMP9867\")\n",
    "    | (reportes[\"Codigo EMP\"] == \"EMP9868\")\n",
    "    | (reportes[\"Codigo EMP\"] == \"EMP9869\")\n",
    "    | (reportes[\"Codigo EMP\"] == \"EMP9932\")\n",
    "    | (reportes[\"Codigo EMP\"] == \"EMP9933\")\n",
    "    | (reportes[\"Codigo EMP\"] == \"EMP9943\")\n",
    "    | (reportes[\"Codigo EMP\"] == \"EMP9944\")\n",
    "    | (reportes[\"Codigo EMP\"] == \"EMP9945\")\n",
    "    | (reportes[\"Codigo EMP\"] == \"EMP9964\")\n",
    "    | (reportes[\"Codigo EMP\"] == \"EMP9965\")\n",
    "    | (reportes[\"Codigo EMP\"] == \"EMP9596\")\n",
    "    | (reportes[\"Codigo EMP\"] == \"EMP9713\")\n",
    "    | (reportes[\"Codigo EMP\"] == \"EMP9724\")\n",
    "    | (reportes[\"Codigo EMP\"] == \"EMP9725\")\n",
    "    | (reportes[\"Codigo EMP\"] == \"EMP9726\")\n",
    "    | (reportes[\"Codigo EMP\"] == \"EMP9727\")\n",
    "    | (reportes[\"Codigo EMP\"] == \"EMP9728\")\n",
    "    | (reportes[\"Codigo EMP\"] == \"EMP9729\")\n",
    "    | (reportes[\"Codigo EMP\"] == \"EMP9730\")\n",
    "    | (reportes[\"Codigo EMP\"] == \"EMP9731\")\n",
    "    | (reportes[\"Codigo EMP\"] == \"EMP9732\")\n",
    "    | (reportes[\"Codigo EMP\"] == \"EMP9733\")\n",
    "    | (reportes[\"Codigo EMP\"] == \"EMP9738\")\n",
    "    | (reportes[\"Codigo EMP\"] == \"EMP9636\")\n",
    "    | (reportes[\"Codigo EMP\"] == \"EMP9640\")\n",
    "    | (reportes[\"Codigo EMP\"] == \"EMP9641\")\n",
    "    | (reportes[\"Codigo EMP\"] == \"EMP9642\")\n",
    "    | (reportes[\"Codigo EMP\"] == \"EMP9643\")\n",
    "    | (reportes[\"Codigo EMP\"] == \"EMP9644\")\n",
    "    | (reportes[\"Codigo EMP\"] == \"EMP6366\")\n",
    "    | (reportes[\"Codigo EMP\"] == \"EMP6425\")\n",
    "    | (reportes[\"Codigo EMP\"] == \"EMP6433\")\n",
    "    | (reportes[\"Codigo EMP\"] == \"EMP6445\")\n",
    "    | (reportes[\"Codigo EMP\"] == \"EMP6446\")\n",
    "    | (reportes[\"Codigo EMP\"] == \"EMP6450\")\n",
    "    | (reportes[\"Codigo EMP\"] == \"EMP6547\")\n",
    "    | (reportes[\"Codigo EMP\"] == \"EMP6625\")\n",
    "    | (reportes[\"Codigo EMP\"] == \"EMP6626\")\n",
    "    | (reportes[\"Codigo EMP\"] == \"EMP6648\")\n",
    "    | (reportes[\"Codigo EMP\"] == \"EMP6655\")\n",
    "    | (reportes[\"Codigo EMP\"] == \"EMP6656\")\n",
    "    | (reportes[\"Codigo EMP\"] == \"EMP6657\")\n",
    "    | (reportes[\"Codigo EMP\"] == \"EMP6658\")\n",
    "    | (reportes[\"Codigo EMP\"] == \"EMP6659\")\n",
    "    | (reportes[\"Codigo EMP\"] == \"EMP6780\")\n",
    "    | (reportes[\"Codigo EMP\"] == \"EMP6791\")\n",
    "    | (reportes[\"Codigo EMP\"] == \"EMP6897\")\n",
    "    | (reportes[\"Codigo EMP\"] == \"EMP6931\")\n",
    "    | (reportes[\"Codigo EMP\"] == \"EMP6941\")\n",
    "    | (reportes[\"Codigo EMP\"] == \"EMP6942\")\n",
    "    | (reportes[\"Codigo EMP\"] == \"EMP6968\")\n",
    "    | (reportes[\"Codigo EMP\"] == \"EMP6970\")\n",
    "    | (reportes[\"Codigo EMP\"] == \"EMP7074\")\n",
    "    | (reportes[\"Codigo EMP\"] == \"EMP7325\")\n",
    "    | (reportes[\"Codigo EMP\"] == \"EMP7342\")\n",
    "    | (reportes[\"Codigo EMP\"] == \"EMP7415\")\n",
    "    | (reportes[\"Codigo EMP\"] == \"EMP7425\")\n",
    "    | (reportes[\"Codigo EMP\"] == \"EMP7527\")\n",
    "    | (reportes[\"Codigo EMP\"] == \"EMP7529\")\n",
    "    | (reportes[\"Codigo EMP\"] == \"EMP7622\")\n",
    "    | (reportes[\"Codigo EMP\"] == \"EMP7628\")\n",
    "    | (reportes[\"Codigo EMP\"] == \"EMP7644\")\n",
    "    | (reportes[\"Codigo EMP\"] == \"EMP7645\")\n",
    "    | (reportes[\"Codigo EMP\"] == \"EMP7710\")\n",
    "    | (reportes[\"Codigo EMP\"] == \"EMP7711\")\n",
    "    | (reportes[\"Codigo EMP\"] == \"EMP7773\")\n",
    "    | (reportes[\"Codigo EMP\"] == \"EMP7774\")\n",
    "    | (reportes[\"Codigo EMP\"] == \"EMP7775\")\n",
    "    | (reportes[\"Codigo EMP\"] == \"EMP7790\")\n",
    "    | (reportes[\"Codigo EMP\"] == \"EMP7792\")\n",
    "    | (reportes[\"Codigo EMP\"] == \"EMP7874\")\n",
    "    | (reportes[\"Codigo EMP\"] == \"EMP7879\")\n",
    "    | (reportes[\"Corredor\"] == \"Mercer Corredores De Seguros Ltda.\")\n",
    "]\n",
    "Mercer.replace({\"Clínica\": Clinicas_metlife}, inplace=True)\n",
    "Mercer = Mercer[(Mercer[\"Empleador\"] == Mercer[\"Nombre Empresa\"])]\n",
    "Mercer.to_excel(\"F:/Reportes SF/MetLife/Mercer_Base.xlsx\", index=False)\n"
   ]
  },
  {
   "cell_type": "code",
   "execution_count": 71,
   "metadata": {},
   "outputs": [],
   "source": [
    "Mercado_Libre = reportes[(reportes[\"Codigo EMP\"] == \"EMP5617\")]\n",
    "\n",
    "Mercado_Libre = Mercado_Libre[\n",
    "    (Mercado_Libre[\"Empleador\"] == Mercado_Libre[\"Nombre Empresa\"])\n",
    "]\n",
    "Mercado_Libre.to_excel(\n",
    "    \"F:/Reportes SF/Mercado Libre/Mercado_Libre_Base.xlsx\", index=False\n",
    ")"
   ]
  },
  {
   "cell_type": "code",
   "execution_count": 72,
   "metadata": {},
   "outputs": [],
   "source": [
    "Ahumada = reportes[(reportes[\"Codigo EMP\"] == \"EMP6475\")]\n",
    "\n",
    "Ahumada = Ahumada[(Ahumada[\"Empleador\"] == Ahumada[\"Nombre Empresa\"])]\n",
    "Ahumada.to_excel(\"F:/Reportes SF/Farmacias Ahumada/Ahumada_Base.xlsx\", index=False)"
   ]
  },
  {
   "cell_type": "code",
   "execution_count": 73,
   "metadata": {},
   "outputs": [],
   "source": [
    "Minera_Abra = reportes[\n",
    "    (reportes[\"Codigo EMP\"] == \"EMP7397\")\n",
    "    | (reportes[\"Codigo EMP\"] == \"EMP7795\")\n",
    "    | (reportes[\"Codigo EMP\"] == \"EMP7796\")\n",
    "]\n",
    "\n",
    "Minera_Abra = Minera_Abra[(Minera_Abra[\"Empleador\"] == Minera_Abra[\"Nombre Empresa\"])]\n",
    "Minera_Abra.to_excel(\"F:/Reportes SF/Minera El Abra/Abra_Base.xlsx\", index=False)"
   ]
  },
  {
   "cell_type": "code",
   "execution_count": 74,
   "metadata": {},
   "outputs": [
    {
     "name": "stderr",
     "output_type": "stream",
     "text": [
      "C:\\Users\\jmartinez\\AppData\\Local\\Temp\\ipykernel_12052\\2211481513.py:2: SettingWithCopyWarning: \n",
      "A value is trying to be set on a copy of a slice from a DataFrame.\n",
      "Try using .loc[row_indexer,col_indexer] = value instead\n",
      "\n",
      "See the caveats in the documentation: https://pandas.pydata.org/pandas-docs/stable/user_guide/indexing.html#returning-a-view-versus-a-copy\n",
      "  Agrosuper.replace({\"Clínica\": Clinicas_metlife}, inplace=True)\n"
     ]
    }
   ],
   "source": [
    "Agrosuper = reportes[(reportes[\"Holding\"] == \"Agrosuper\")]\n",
    "Agrosuper.replace({\"Clínica\": Clinicas_metlife}, inplace=True)\n",
    "Agrosuper = Agrosuper[(Agrosuper[\"Empleador\"] == Agrosuper[\"Nombre Empresa\"])]\n",
    "Agrosuper.to_excel(\"F:/Reportes SF/Metlife/Mercer_Agrosuper_Base.xlsx\", index=False)\n"
   ]
  },
  {
   "cell_type": "code",
   "execution_count": 75,
   "metadata": {},
   "outputs": [
    {
     "name": "stderr",
     "output_type": "stream",
     "text": [
      "C:\\Users\\jmartinez\\AppData\\Local\\Temp\\ipykernel_12052\\989549224.py:2: SettingWithCopyWarning: \n",
      "A value is trying to be set on a copy of a slice from a DataFrame.\n",
      "Try using .loc[row_indexer,col_indexer] = value instead\n",
      "\n",
      "See the caveats in the documentation: https://pandas.pydata.org/pandas-docs/stable/user_guide/indexing.html#returning-a-view-versus-a-copy\n",
      "  Agrosuper2.replace({\"Clínica\": Clinicas_metlife}, inplace=True)\n"
     ]
    }
   ],
   "source": [
    "Agrosuper2 = reportes[(reportes[\"Holding\"] == \"Agrosuper 2\")]\n",
    "Agrosuper2.replace({\"Clínica\": Clinicas_metlife}, inplace=True)\n",
    "# Agrosuper2 = Agrosuper2[(Agrosuper2[\"Empleador\"] == Agrosuper2[\"Nombre Empresa\"])]\n",
    "Agrosuper2.to_excel(\"F:/Reportes SF/Metlife/Mercer_Agrosuper2_Base.xlsx\", index=False)\n"
   ]
  },
  {
   "cell_type": "code",
   "execution_count": 76,
   "metadata": {},
   "outputs": [],
   "source": [
    "Lipigas = reportes[(reportes[\"Codigo EMP\"] == \"EMP7310\")]\n",
    "\n",
    "Lipigas = Lipigas[(Lipigas[\"Empleador\"] == Lipigas[\"Nombre Empresa\"])]\n",
    "Lipigas.to_excel(\"F:/Reportes SF/Lipigas/Lipigas_Base.xlsx\", index=False)"
   ]
  },
  {
   "cell_type": "code",
   "execution_count": 77,
   "metadata": {},
   "outputs": [],
   "source": [
    "Socofar = reportes[\n",
    "    (reportes[\"Codigo EMP\"] == \"EMP3780\")\n",
    "    | (reportes[\"Codigo EMP\"] == \"EMP6749\")\n",
    "    | (reportes[\"Codigo EMP\"] == \"EMP6750\")\n",
    "    | (reportes[\"Codigo EMP\"] == \"EMP6751\")\n",
    "    | (reportes[\"Codigo EMP\"] == \"EMP7405\")\n",
    "    | (reportes[\"Codigo EMP\"] == \"EMP7406\")\n",
    "    | (reportes[\"Codigo EMP\"] == \"EMP7407\")\n",
    "]\n",
    "\n",
    "\n",
    "Socofar = Socofar[(Socofar[\"Empleador\"] == Socofar[\"Nombre Empresa\"])]\n",
    "Socofar.to_excel(\"F:/Reportes SF/Socofar/Socofar_Base.xlsx\", index=False)\n",
    "\n",
    "Socofar1 = Socofar[(Socofar[\"Mes\"] == 1)]\n",
    "Socofar1.to_excel(\"F:/Reportes SF/Socofar/Socofar_Enero_Base.xlsx\", index=False)\n",
    "\n",
    "Socofar2 = Socofar[(Socofar[\"Mes\"] == 2)]\n",
    "Socofar2.to_excel(\"F:/Reportes SF/Socofar/Socofar_Febrero_Base.xlsx\", index=False)\n",
    "\n",
    "Socofar3 = Socofar[(Socofar[\"Mes\"] == 3)]\n",
    "Socofar3.to_excel(\"F:/Reportes SF/Socofar/Socofar_Marzo_Base.xlsx\", index=False)\n"
   ]
  },
  {
   "cell_type": "code",
   "execution_count": 78,
   "metadata": {},
   "outputs": [],
   "source": [
    "Kaufmann = reportes[\n",
    "    (reportes[\"Codigo EMP\"] == \"EMP4171\")\n",
    "    | (reportes[\"Codigo EMP\"] == \"EMP7308\")\n",
    "    | (reportes[\"Codigo EMP\"] == \"EMP7309\")\n",
    "    | (reportes[\"Campaña\"] == \"Kaufmann\")\n",
    "]\n",
    "\n",
    "\n",
    "Kaufmann = Kaufmann[(Kaufmann[\"Empleador\"] == Kaufmann[\"Nombre Empresa\"])]\n",
    "Kaufmann.to_excel(\"F:/Reportes SF/Kaufmann/Kaufmann_Base.xlsx\", index=False)\n"
   ]
  },
  {
   "cell_type": "code",
   "execution_count": 79,
   "metadata": {},
   "outputs": [
    {
     "data": {
      "text/plain": [
       "(8, 27)"
      ]
     },
     "execution_count": 79,
     "metadata": {},
     "output_type": "execute_result"
    }
   ],
   "source": [
    "Tressp = reportes[\n",
    "    (reportes[\"Codigo EMP\"] == \"EMP6467\")\n",
    "    # | (reportes[\"Codigo EMP\"] == \"EMP6468\")\n",
    "    # | (reportes[\"Codigo EMP\"] == \"EMP7607\")\n",
    "]\n",
    "\n",
    "\n",
    "Tressp = Tressp[(Tressp[\"Empleador\"] == Tressp[\"Nombre Empresa\"])]\n",
    "Tressp.to_excel(\"F:/Reportes SF/3SP/3sp_Base.xlsx\", index=False)\n",
    "Tressp.shape"
   ]
  },
  {
   "attachments": {},
   "cell_type": "markdown",
   "metadata": {},
   "source": [
    "BCI\n"
   ]
  },
  {
   "cell_type": "code",
   "execution_count": 80,
   "metadata": {},
   "outputs": [
    {
     "name": "stderr",
     "output_type": "stream",
     "text": [
      "C:\\Users\\jmartinez\\AppData\\Local\\Temp\\ipykernel_12052\\2279787881.py:4: UserWarning: Boolean Series key will be reindexed to match DataFrame index.\n",
      "  Bci = Bci[\n"
     ]
    }
   ],
   "source": [
    "Bci = reportes[(reportes[\"Campaña\"] == \"BCI\")]\n",
    "\n",
    "\n",
    "Bci = Bci[\n",
    "    (Bci[\"Empleador\"] == Bci[\"Nombre Empresa\"])\n",
    "    & (Bci[\"Codigo EMP\"] != \"EMP6254\")\n",
    "    & (Bci[\"Codigo EMP\"] != \"EMP6255\")\n",
    "    & (reportes[\"Holding\"] != \"Orbis\")\n",
    "]\n",
    "Bci.to_excel(\"F:/Reportes SF/BCI/BCI_Base.xlsx\", index=False)\n",
    "\n",
    "Cenin = reportes[\n",
    "    (reportes[\"Codigo EMP\"] == \"EMP6250\") | (reportes[\"Holding\"] == \"Cemin\")\n",
    "]\n",
    "Cenin = Cenin[(Cenin[\"Empleador\"] == Cenin[\"Nombre Empresa\"])]\n",
    "Cenin.to_excel(\"F:/Reportes SF/BCI/Cenin_Base.xlsx\", index=False)\n",
    "\n",
    "Orbis = reportes[\n",
    "    (reportes[\"Codigo EMP\"] == \"EMP6254\")\n",
    "    | (reportes[\"Codigo EMP\"] == \"EMP6255\")\n",
    "    | (reportes[\"Holding\"] == \"Orbis\")\n",
    "]\n",
    "Orbis = Orbis[(Orbis[\"Empleador\"] == Orbis[\"Nombre Empresa\"])]\n",
    "Orbis.to_excel(\"F:/Reportes SF/BCI/Orbis_Base.xlsx\", index=False)\n",
    "\n",
    "Embonor = reportes[(reportes[\"Holding\"] == \"Embonor\")]\n",
    "Embonor = Embonor[(Embonor[\"Empleador\"] == Embonor[\"Nombre Empresa\"])]\n",
    "Embonor.to_excel(\"F:/Reportes SF/BCI/Embonor_Base.xlsx\", index=False)\n",
    "\n",
    "\n",
    "Saesa = reportes[(reportes[\"Holding\"] == \"Saesa\")]\n",
    "Saesa = Saesa[(Saesa[\"Empleador\"] == Saesa[\"Nombre Empresa\"])]\n",
    "Saesa.to_excel(\"F:/Reportes SF/BCI/Saesa_Base.xlsx\", index=False)"
   ]
  },
  {
   "cell_type": "code",
   "execution_count": 81,
   "metadata": {},
   "outputs": [
    {
     "name": "stderr",
     "output_type": "stream",
     "text": [
      "C:\\Users\\jmartinez\\AppData\\Local\\Temp\\ipykernel_12052\\955374149.py:3: SettingWithCopyWarning: \n",
      "A value is trying to be set on a copy of a slice from a DataFrame.\n",
      "Try using .loc[row_indexer,col_indexer] = value instead\n",
      "\n",
      "See the caveats in the documentation: https://pandas.pydata.org/pandas-docs/stable/user_guide/indexing.html#returning-a-view-versus-a-copy\n",
      "  Colmena.replace({\"Clínica\": clinicas_colmena}, inplace=True)\n"
     ]
    }
   ],
   "source": [
    "Colmena = reportes[(reportes[\"Campaña\"] == \"Colmena\")]\n",
    "clinicas_colmena = {\"Mis Primeros Pasos\": \"Deporte\"}\n",
    "Colmena.replace({\"Clínica\": clinicas_colmena}, inplace=True)\n",
    "\n",
    "\n",
    "Colmena = Colmena[(Colmena[\"Empleador\"] == Colmena[\"Nombre Empresa\"])]\n",
    "Colmena.to_excel(\"F:/Reportes SF/Colmena/Colmena_Base.xlsx\", index=False)\n"
   ]
  },
  {
   "cell_type": "code",
   "execution_count": 82,
   "metadata": {},
   "outputs": [],
   "source": [
    "Pedro = reportes[(reportes[\"Campaña\"] == \"Pedro De Valdivia\")]\n",
    "\n",
    "\n",
    "Pedro = Pedro[(Pedro[\"Empleador\"] == Pedro[\"Nombre Empresa\"])]\n",
    "Pedro.to_excel(\"F:/Reportes SF/Pedro de Valdivia/Pedro_Base.xlsx\", index=False)"
   ]
  },
  {
   "cell_type": "code",
   "execution_count": 83,
   "metadata": {},
   "outputs": [],
   "source": [
    "Vidacel = reportes[(reportes[\"Campaña\"] == \"VidaCel\")]\n",
    "\n",
    "\n",
    "Vidacel = Vidacel[(Vidacel[\"Empleador\"] == Vidacel[\"Nombre Empresa\"])]\n",
    "Vidacel.to_excel(\"F:/Reportes SF/Vidacel/Vidacel_Base.xlsx\", index=False)\n",
    "\n",
    "VidacelColab = reportes[(reportes[\"Campaña\"] == \"VidaCel Colaboradores\")]\n",
    "\n",
    "VidacelColab = VidacelColab[\n",
    "    (VidacelColab[\"Empleador\"] == VidacelColab[\"Nombre Empresa\"])\n",
    "]\n",
    "VidacelColab.to_excel(\"F:/Reportes SF/Vidacel/VidacelColab_Base.xlsx\", index=False)"
   ]
  },
  {
   "cell_type": "code",
   "execution_count": 84,
   "metadata": {},
   "outputs": [],
   "source": [
    "Wfs = reportes[(reportes[\"Campaña\"] == \"Holding Wfs Food Services\")]\n",
    "\n",
    "Wfs = Wfs[(Wfs[\"Empleador\"] == Wfs[\"Nombre Empresa\"])]\n",
    "Wfs.to_excel(\"F:/Reportes SF/Wfs/Wfs_Base.xlsx\", index=False)"
   ]
  },
  {
   "cell_type": "code",
   "execution_count": 85,
   "metadata": {},
   "outputs": [
    {
     "data": {
      "text/plain": [
       "(198, 27)"
      ]
     },
     "execution_count": 85,
     "metadata": {},
     "output_type": "execute_result"
    }
   ],
   "source": [
    "Dermic = reportes[(reportes[\"Campaña\"] == \"Dermik\")]\n",
    "\n",
    "Dermic = Dermic[(Dermic[\"Empleador\"] == Dermic[\"Nombre Empresa\"])]\n",
    "Dermic.to_excel(\"F:/Reportes SF/Dermik/Dermic_Base.xlsx\", index=False)\n",
    "Dermic.shape"
   ]
  },
  {
   "cell_type": "code",
   "execution_count": 86,
   "metadata": {},
   "outputs": [],
   "source": [
    "Instruvalve = reportes[(reportes[\"Campaña\"] == \"Instruvalve\")]\n",
    "\n",
    "Instruvalve = Instruvalve[(Instruvalve[\"Empleador\"] == Instruvalve[\"Nombre Empresa\"])]\n",
    "Instruvalve.to_excel(\"F:/Reportes SF/Instruvalve/Instruvalve_Base.xlsx\", index=False)"
   ]
  },
  {
   "cell_type": "code",
   "execution_count": 87,
   "metadata": {},
   "outputs": [],
   "source": [
    "Thb = reportes[(reportes[\"Campaña\"] == \"THB Seguros\")]\n",
    "\n",
    "Thb = Thb[(Thb[\"Empleador\"] == Thb[\"Nombre Empresa\"])]\n",
    "Thb.to_excel(\"F:/Reportes SF/THB Seguros/Thb_Base.xlsx\", index=False)"
   ]
  },
  {
   "cell_type": "code",
   "execution_count": 88,
   "metadata": {},
   "outputs": [],
   "source": [
    "Construmart = reportes[(reportes[\"Campaña\"] == \"Construmart\")]\n",
    "Construmart = Construmart[(Construmart[\"Fecha\"] > \"2023-02-01\")]\n",
    "\n",
    "Clinicas_Construmart = {\n",
    "    \"Pacientes Crónicos\": \"Telemedicina\",\n",
    "    \"Clínica Del Sueño\": \"Telemedicina\",\n",
    "}\n",
    "Construmart.replace({\"Clínica\": Clinicas_Construmart}, inplace=True)\n",
    "Construmart = Construmart[(Construmart[\"Empleador\"] == Construmart[\"Nombre Empresa\"])]\n",
    "Construmart[\"Agendamiento\"] = \"No\"\n",
    "# np.where(Construmart['Codigo Ficha'].str.contains('FSA') == True, 'Si', Construmart['agendamiento'])\n",
    "Construmart[\"Agendamiento\"] = np.where(\n",
    "    Construmart[\"Codigo Ficha\"].str.contains(\"FSA\") == True,\n",
    "    \"Si\",\n",
    "    Construmart[\"Agendamiento\"],\n",
    ")\n",
    "# Construmart['Codigo Ficha'].star\n",
    "# Construmart[\"agendamiento\"][Construmart['Codigo Ficha'].str.contains('FSA')]\n",
    "\n",
    "Construmart.to_excel(\"F:/Reportes SF/Construmart/Construmart_Base.xlsx\", index=False)"
   ]
  },
  {
   "cell_type": "code",
   "execution_count": 89,
   "metadata": {},
   "outputs": [],
   "source": [
    "reportesMX = reportes[\n",
    "    [\n",
    "        \"Codigo Ficha\",\n",
    "        \"Rut\",\n",
    "        \"Nombre\",\n",
    "        \"Sexo\",\n",
    "        \"Campaña\",\n",
    "        \"Empleador\",\n",
    "        \"Fecha\",\n",
    "        \"Dia\",\n",
    "        \"Mes\",\n",
    "        \"Año\",\n",
    "        \"Meses\",\n",
    "        \"Canal\",\n",
    "        \"Clínica\",\n",
    "        \"Motivo de consulta\",\n",
    "        \"Nombre Empresa\",\n",
    "        \"Vigente\",\n",
    "        \"Pais\",\n",
    "    ]\n",
    "]\n",
    "Mexico = reportesMX[(reportesMX[\"Pais\"] == \"México\")]\n",
    "Mexico = Mexico.rename(columns={\"Rut\": \"CURP\"})"
   ]
  },
  {
   "attachments": {},
   "cell_type": "markdown",
   "metadata": {},
   "source": [
    "Mexico\n"
   ]
  },
  {
   "cell_type": "code",
   "execution_count": 90,
   "metadata": {},
   "outputs": [],
   "source": [
    "\n",
    "\n",
    "Mexico = Mexico[(Mexico[\"Empleador\"] == Mexico[\"Nombre Empresa\"])]\n",
    "Mexico.to_excel(\"F:/Reportes SF/Mexico/Mexico_Base.xlsx\", index=False)"
   ]
  },
  {
   "cell_type": "code",
   "execution_count": 91,
   "metadata": {},
   "outputs": [],
   "source": [
    "CareU = Mexico[(Mexico[\"Campaña\"] == \"Care U\")]\n",
    "\n",
    "CareU = CareU[(CareU[\"Empleador\"] == CareU[\"Nombre Empresa\"])]\n",
    "CareU.to_excel(\"F:/Reportes SF/Mexico/Care U/Care_Base.xlsx\", index=False)"
   ]
  },
  {
   "cell_type": "code",
   "execution_count": 92,
   "metadata": {},
   "outputs": [],
   "source": [
    "Bbdo = Mexico[(Mexico[\"Campaña\"] == \"BBDO\")]\n",
    "\n",
    "Bbdo = Bbdo[(Bbdo[\"Empleador\"] == Bbdo[\"Nombre Empresa\"])]\n",
    "Bbdo.to_excel(\"F:/Reportes SF/Mexico/BBDO/BBDO_Base.xlsx\", index=False)"
   ]
  },
  {
   "cell_type": "code",
   "execution_count": 93,
   "metadata": {},
   "outputs": [],
   "source": [
    "Riddell = Mexico[(Mexico[\"Campaña\"] == \"Riddell Sports\")]\n",
    "\n",
    "Riddell = Riddell[(Riddell[\"Empleador\"] == Riddell[\"Nombre Empresa\"])]\n",
    "Riddell.to_excel(\n",
    "    \"F:/Reportes SF/Mexico/Riddell Sports/Riddell Sports_Base.xlsx\", index=False\n",
    ")"
   ]
  },
  {
   "cell_type": "code",
   "execution_count": 94,
   "metadata": {},
   "outputs": [],
   "source": [
    "Cuartel = Mexico[(Mexico[\"Campaña\"] == \"Cuartel General\")]\n",
    "\n",
    "Cuartel = Cuartel[(Cuartel[\"Empleador\"] == Cuartel[\"Nombre Empresa\"])]\n",
    "Cuartel.to_excel(\"F:/Reportes SF/Mexico/Cuartel General/Cuartel_Base.xlsx\", index=False)"
   ]
  },
  {
   "cell_type": "code",
   "execution_count": 95,
   "metadata": {},
   "outputs": [],
   "source": [
    "Ducter = Mexico[(Mexico[\"Campaña\"] == \"Ducter\")]\n",
    "\n",
    "Ducter = Ducter[(Ducter[\"Empleador\"] == Ducter[\"Nombre Empresa\"])]\n",
    "Ducter.to_excel(\"F:/Reportes SF/Mexico/Ducter/Ducter_Base.xlsx\", index=False)"
   ]
  },
  {
   "cell_type": "code",
   "execution_count": 96,
   "metadata": {},
   "outputs": [],
   "source": [
    "Efectivale = Mexico[(Mexico[\"Campaña\"] == \"Efectivale\")]\n",
    "\n",
    "Efectivale = Efectivale[(Efectivale[\"Empleador\"] == Efectivale[\"Nombre Empresa\"])]\n",
    "Efectivale.to_excel(\n",
    "    \"F:/Reportes SF/Mexico/Efectivale/Efectivale_Base.xlsx\", index=False\n",
    ")"
   ]
  },
  {
   "cell_type": "code",
   "execution_count": 97,
   "metadata": {},
   "outputs": [],
   "source": [
    "Ambar = Mexico[(Mexico[\"Campaña\"] == \"Ambar\")]\n",
    "\n",
    "Ambar = Ambar[(Ambar[\"Empleador\"] == Ambar[\"Nombre Empresa\"])]\n",
    "Ambar.to_excel(\"F:/Reportes SF/Mexico/Ambar/Ambar_Base.xlsx\", index=False)"
   ]
  },
  {
   "cell_type": "code",
   "execution_count": 98,
   "metadata": {},
   "outputs": [],
   "source": [
    "Charger = Mexico[(Mexico[\"Campaña\"] == \"Charger Logistics\")]\n",
    "\n",
    "Charger = Charger[(Charger[\"Empleador\"] == Charger[\"Nombre Empresa\"])]\n",
    "Charger.to_excel(\n",
    "    \"F:/Reportes SF/Mexico/Charger Logistics/Charger Logistics_Base.xlsx\", index=False\n",
    ")"
   ]
  },
  {
   "cell_type": "code",
   "execution_count": 99,
   "metadata": {},
   "outputs": [],
   "source": [
    "Clinica = Mexico[(Mexico[\"Campaña\"] == \"Clínica Virtual\")]\n",
    "\n",
    "Clinica = Clinica[(Clinica[\"Empleador\"] == Clinica[\"Nombre Empresa\"])]\n",
    "Clinica.to_excel(\n",
    "    \"F:/Reportes SF/Mexico/Clinica Virtual/Clinica Virtual_Base.xlsx\", index=False\n",
    ")"
   ]
  },
  {
   "cell_type": "code",
   "execution_count": 100,
   "metadata": {},
   "outputs": [],
   "source": [
    "Omg = Mexico[(Mexico[\"Campaña\"] == \"OMG\")]\n",
    "\n",
    "Omg = Omg[(Omg[\"Empleador\"] == Omg[\"Nombre Empresa\"])]\n",
    "Omg.to_excel(\"F:/Reportes SF/Mexico/OMG/OMG_Base.xlsx\", index=False)"
   ]
  },
  {
   "cell_type": "code",
   "execution_count": 101,
   "metadata": {},
   "outputs": [],
   "source": [
    "Efisys = Mexico[(Mexico[\"Campaña\"] == \"Efisys\")]\n",
    "\n",
    "Efisys = Efisys[(Efisys[\"Empleador\"] == Efisys[\"Nombre Empresa\"])]\n",
    "Efisys.to_excel(\"F:/Reportes SF/Mexico/Efisys/Efisys_Base.xlsx\", index=False)"
   ]
  },
  {
   "cell_type": "code",
   "execution_count": 102,
   "metadata": {},
   "outputs": [],
   "source": [
    "Fadermex = Mexico[(Mexico[\"Campaña\"] == \"Fadermex\")]\n",
    "\n",
    "Fadermex = Fadermex[(Fadermex[\"Empleador\"] == Fadermex[\"Nombre Empresa\"])]\n",
    "Fadermex.to_excel(\"F:/Reportes SF/Mexico/Fadermex/Fadermex_Base.xlsx\", index=False)"
   ]
  },
  {
   "cell_type": "code",
   "execution_count": 103,
   "metadata": {},
   "outputs": [],
   "source": [
    "Farmacias = Mexico[(Mexico[\"Campaña\"] == \"Farmacias YZA\")]\n",
    "\n",
    "Farmacias = Farmacias[(Farmacias[\"Empleador\"] == Farmacias[\"Nombre Empresa\"])]\n",
    "Farmacias.to_excel(\n",
    "    \"F:/Reportes SF/Mexico/Farmacias YZA/Farmacias YZA_Base.xlsx\", index=False\n",
    ")"
   ]
  },
  {
   "cell_type": "code",
   "execution_count": 104,
   "metadata": {},
   "outputs": [],
   "source": [
    "Geodis = Mexico[(Mexico[\"Campaña\"] == \"Geodis\")]\n",
    "\n",
    "Geodis = Geodis[(Geodis[\"Empleador\"] == Geodis[\"Nombre Empresa\"])]\n",
    "Geodis.to_excel(\"F:/Reportes SF/Mexico/Geodis/Geodis_Base.xlsx\", index=False)"
   ]
  },
  {
   "cell_type": "code",
   "execution_count": 105,
   "metadata": {},
   "outputs": [],
   "source": [
    "Hidrosina = Mexico[(Mexico[\"Campaña\"] == \"Hidrosina\")]\n",
    "\n",
    "Hidrosina = Hidrosina[(Hidrosina[\"Empleador\"] == Hidrosina[\"Nombre Empresa\"])]\n",
    "Hidrosina.to_excel(\"F:/Reportes SF/Mexico/Hidrosina/Hidrosina_Base.xlsx\", index=False)"
   ]
  },
  {
   "cell_type": "code",
   "execution_count": 106,
   "metadata": {},
   "outputs": [],
   "source": [
    "Icsi = Mexico[(Mexico[\"Campaña\"] == \"ICSI\")]\n",
    "\n",
    "Icsi = Icsi[(Icsi[\"Empleador\"] == Icsi[\"Nombre Empresa\"])]\n",
    "Icsi.to_excel(\"F:/Reportes SF/Mexico/ICSI/ICSI_Base.xlsx\", index=False)"
   ]
  },
  {
   "cell_type": "code",
   "execution_count": 107,
   "metadata": {},
   "outputs": [],
   "source": [
    "Infra = Mexico[(Mexico[\"Campaña\"] == \"Infra\")]\n",
    "\n",
    "Infra = Infra[(Infra[\"Empleador\"] == Infra[\"Nombre Empresa\"])]\n",
    "Infra.to_excel(\"F:/Reportes SF/Mexico/Infra/Infra_Base.xlsx\", index=False)\n",
    "\n",
    "\n",
    "\n",
    "aldo = Mexico[(Mexico[\"Campaña\"] == \"Aldo Conti\")]\n",
    "\n",
    "aldo = aldo[(aldo[\"Empleador\"] == aldo[\"Nombre Empresa\"])]\n",
    "aldo.to_excel(\"F:/Reportes SF/Mexico/Aldo Conti/Aldo_Base.xlsx\", index=False)\n"
   ]
  },
  {
   "cell_type": "code",
   "execution_count": 108,
   "metadata": {},
   "outputs": [],
   "source": [
    "Cursor = Mexico[(Mexico[\"Campaña\"] == \"Mi Cursor\")]\n",
    "\n",
    "Cursor = Cursor[(Cursor[\"Empleador\"] == Cursor[\"Nombre Empresa\"])]\n",
    "Cursor.to_excel(\"F:/Reportes SF/Mexico/Mi Cursor/Mi Cursor_Base.xlsx\", index=False)"
   ]
  },
  {
   "cell_type": "code",
   "execution_count": 109,
   "metadata": {},
   "outputs": [],
   "source": [
    "Porter = Mexico[(Mexico[\"Campaña\"] == \"Porter Novelli\")]\n",
    "\n",
    "Porter = Porter[(Porter[\"Empleador\"] == Porter[\"Nombre Empresa\"])]\n",
    "Porter.to_excel(\n",
    "    \"F:/Reportes SF/Mexico/Porter Novelli/Porter Novelli_Base.xlsx\", index=False\n",
    ")"
   ]
  },
  {
   "cell_type": "code",
   "execution_count": 110,
   "metadata": {},
   "outputs": [],
   "source": [
    "Productos = Mexico[(Mexico[\"Campaña\"] == \"Productos San Juan\")]\n",
    "\n",
    "Productos = Productos[(Productos[\"Empleador\"] == Productos[\"Nombre Empresa\"])]\n",
    "Productos.to_excel(\n",
    "    \"F:/Reportes SF/Mexico/Productos San Juan/Productos San Juan_Base.xlsx\", index=False\n",
    ")"
   ]
  },
  {
   "cell_type": "code",
   "execution_count": 111,
   "metadata": {},
   "outputs": [],
   "source": [
    "Reckitt = Mexico[(Mexico[\"Campaña\"] == \"Reckitt Benckiser\")]\n",
    "\n",
    "Reckitt = Reckitt[(Reckitt[\"Empleador\"] == Reckitt[\"Nombre Empresa\"])]\n",
    "Reckitt.to_excel(\n",
    "    \"F:/Reportes SF/Mexico/Reckitt Benckiser/Reckitt Benckiser_Base.xlsx\", index=False\n",
    ")"
   ]
  },
  {
   "cell_type": "code",
   "execution_count": 112,
   "metadata": {},
   "outputs": [],
   "source": [
    "Sintec = Mexico[(Mexico[\"Campaña\"] == \"Sintec\")]\n",
    "\n",
    "Sintec = Sintec[(Sintec[\"Empleador\"] == Sintec[\"Nombre Empresa\"])]\n",
    "Sintec.to_excel(\"F:/Reportes SF/Mexico/Sintec/Sintec_Base.xlsx\", index=False)"
   ]
  },
  {
   "cell_type": "code",
   "execution_count": 113,
   "metadata": {},
   "outputs": [
    {
     "name": "stdout",
     "output_type": "stream",
     "text": [
      "E:\\Siempre\\Usuarios\\Francisca Rubio Yáñez\\TI\\Pacientes Sin Empresas\\2023_07_03_SinEmpresas.xlsx\n"
     ]
    }
   ],
   "source": [
    "Metlife = reportes[\n",
    "    (reportes[\"Campaña\"] == \"MetLife\")\n",
    "    & (reportes[\"Empleador\"] == reportes[\"Nombre Empresa\"])\n",
    "]\n",
    "Metlife.to_excel(\"C:/Users/jmartinez/Documents/Metlife.xlsx\", index=False)\n",
    "\n",
    "Security = reportes[\n",
    "    (reportes[\"Campaña\"] == \"Vida Security\")\n",
    "    & (reportes[\"Empleador\"] == reportes[\"Nombre Empresa\"])\n",
    "]\n",
    "Security.to_excel(\"C:/Users/jmartinez/Documents/Vida Security.xlsx\", index=False)\n",
    "\n",
    "# Reportes_con_empresas.Empleador_x.fillna(Reportes_con_empresas['Nombre Empresa'], inplace=True)\n",
    "reportes_francisca = Reportes_con_empresas\n",
    "reportes_francisca.Empleador_x.fillna(\"Nones\", inplace=True)\n",
    "reportes_francisca = reportes_francisca[reportes_francisca[\"Empleador_x\"] == \"Nones\"]\n",
    "archivo = \"SinEmpresas.xlsx\"\n",
    "archivo1 = \"Empresas.xlsx\"\n",
    "\n",
    "fecha = str(datetime.date.today())\n",
    "archivo_con_fecha = f\"{fecha}_{archivo}\"\n",
    "archivo_con_fecha = archivo_con_fecha.replace(\":\", \"_\")\n",
    "archivo_con_fecha = archivo_con_fecha.replace(\"-\", \"_\")\n",
    "archivo_con_fecha = archivo_con_fecha.replace(\" \", \"_\")\n",
    "# archivo_con_fecha = archivo_con_fecha.replace(\".\", \"_\")\n",
    "hasta = Path(\n",
    "    \"E:/Siempre/Usuarios/Francisca Rubio Yáñez/TI/Pacientes Sin Empresas/\"\n",
    ").joinpath(archivo_con_fecha)\n",
    "print(hasta)\n",
    "reportes_francisca.to_excel(hasta, index=False)"
   ]
  },
  {
   "cell_type": "code",
   "execution_count": 114,
   "metadata": {},
   "outputs": [],
   "source": [
    "fecha = str(datetime.date.today())\n",
    "archivo_con_fecha = f\"{fecha}_{archivo1}\"\n",
    "archivo_con_fecha = archivo_con_fecha.replace(\":\", \"_\")\n",
    "archivo_con_fecha = archivo_con_fecha.replace(\"-\", \"_\")\n",
    "archivo_con_fecha = archivo_con_fecha.replace(\" \", \"_\")\n",
    "hasta = Path(\"E:/Siempre/Usuarios/Francisca Rubio Yáñez/TI/Empresas/\").joinpath(\n",
    "    archivo_con_fecha\n",
    ")\n",
    "Programas_pacientes.to_excel(hasta, index=False)\n",
    "\n",
    "hasta = Path(\"F:/Empresas SF/empresas/\").joinpath(archivo_con_fecha)\n",
    "Programas_pacientes.to_excel(hasta, index=False)"
   ]
  }
 ],
 "metadata": {
  "kernelspec": {
   "display_name": "salesforce",
   "language": "python",
   "name": "python3"
  },
  "language_info": {
   "codemirror_mode": {
    "name": "ipython",
    "version": 3
   },
   "file_extension": ".py",
   "mimetype": "text/x-python",
   "name": "python",
   "nbconvert_exporter": "python",
   "pygments_lexer": "ipython3",
   "version": "3.8.16"
  },
  "orig_nbformat": 4,
  "vscode": {
   "interpreter": {
    "hash": "7fbccfb583f385d5cd7c75cc6ade03c09354727271e9200f47ca4e7fedb5381e"
   }
  }
 },
 "nbformat": 4,
 "nbformat_minor": 2
}
