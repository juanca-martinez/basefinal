{
 "cells": [
  {
   "cell_type": "code",
   "execution_count": null,
   "metadata": {},
   "outputs": [],
   "source": [
    "import encodings\n",
    "import pandas as pd\n",
    "import numpy as np\n",
    "from sqlalchemy import create_engine\n",
    "import openpyxl\n",
    "\n"
   ]
  },
  {
   "cell_type": "code",
   "execution_count": null,
   "metadata": {},
   "outputs": [],
   "source": [
    "#ususaarios de base de datos local\n",
    "\n",
    "usuario = 'care_consulta'\n",
    "contrasena = 'CareAssistance!10'\n",
    "url_servidor = '10.0.10.22'\n",
    "#puerto = '3306'\n",
    "#esquema = 'EspoCRM2'\n",
    "#plugin_autenticacion = 'mysql_native_password'\n",
    "\n",
    "#usuarios de base de datos Simtastic ##########################################\n",
    "\n",
    "#usuario = 'siempreread'\n",
    "#contrasena = 'S13mpr3_Ch1l3'\n",
    "#url_servidor = '209.151.148.250'\n",
    "puerto = '3306'\n",
    "esquema = 'EspoCRM2'\n",
    "plugin_autenticacion = 'mysql_native_password'\n",
    "\n",
    "# Conexión a la base de datos\n",
    "\n",
    "c_conexion = 'mysql+mysqlconnector://{0}:{1}@{2}:{3}/{4}?auth_plugin={5}'\n",
    "c_conexion = c_conexion.format(usuario, contrasena, url_servidor, puerto,\n",
    "                               esquema, plugin_autenticacion)\n",
    "motor_mysql_mariadb = create_engine(c_conexion)"
   ]
  },
  {
   "cell_type": "code",
   "execution_count": null,
   "metadata": {},
   "outputs": [],
   "source": [
    "nuevosql='SELECT * FROM `case`'\n",
    "data20 = pd.read_sql_query(nuevosql, motor_mysql_mariadb)\n",
    "archivocase = 'C:/Users/jmartinez/Desktop/base de datos/casos.xlsx'\n",
    "data20.head()"
   ]
  },
  {
   "cell_type": "code",
   "execution_count": null,
   "metadata": {},
   "outputs": [],
   "source": [
    " #saca los espacios de todo el dataframe\n",
    "data20 = data20.replace(r\"^ +| +$\",r\"\",regex=True)\n",
    "\n",
    "#cambia los valores nulos por vacios\n",
    "#data20 = data20.replace(np.nan, '', regex=True)\n",
    "\n",
    "data20['name'] = data20['name'].str.lower()\n",
    "data20['description'] = data20['description'].str.lower()\n",
    "data20['channel'] = data20['channel'].str.title()\n",
    "data20['confidential_description'] = data20['confidential_description'].str.lower()\n",
    "#data20['confidential_description'] = data20['confidential_description'].str.replace('nan', '')\n",
    "data20['action'] = data20['action'].str.title()\n",
    "data20['request'] = data20['request'].str.title()\n",
    "data20['area'] = data20['area'].str.title()\n",
    "data20['consultation_reason'] = data20['consultation_reason'].str.upper()\n",
    "data20['treatment_location'] = data20['treatment_location'].str.title()\n",
    "data20['patologia_ges'] = data20['patologia_ges'].str.upper()\n",
    "data20['descripcion_medicina'] = data20['descripcion_medicina'].str.lower()\n",
    "data20['indicaciones_medicas'] = data20['indicaciones_medicas'].str.lower()\n",
    "data20['cad_turno'] = data20['cad_turno'].str.lower()\n",
    "data20['cad_sector'] = data20['cad_sector'].str.title()\n",
    "data20['cad_origen_foco'] = data20['cad_origen_foco'].str.lower()\n",
    "data20['nombre_mascota'] = data20['nombre_mascota'].str.title()\n",
    "data20['vet_especie'] = data20['vet_especie'].str.title()\n",
    "data20['vet_raza'] = data20['vet_raza'].str.title()"
   ]
  },
  {
   "cell_type": "code",
   "execution_count": null,
   "metadata": {},
   "outputs": [],
   "source": [
    "data20.to_excel(archivocase, index=False)"
   ]
  }
 ],
 "metadata": {
  "kernelspec": {
   "display_name": "Python 3.10.6 ('Mito')",
   "language": "python",
   "name": "python3"
  },
  "language_info": {
   "codemirror_mode": {
    "name": "ipython",
    "version": 3
   },
   "file_extension": ".py",
   "mimetype": "text/x-python",
   "name": "python",
   "nbconvert_exporter": "python",
   "pygments_lexer": "ipython3",
   "version": "3.10.6"
  },
  "orig_nbformat": 4,
  "vscode": {
   "interpreter": {
    "hash": "8ca7c6c0b372e79d1b046e97089bf0eca059102913bf5fbce589f25f1f28c438"
   }
  }
 },
 "nbformat": 4,
 "nbformat_minor": 2
}
