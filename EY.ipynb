{
 "cells": [
  {
   "cell_type": "code",
   "execution_count": 1,
   "metadata": {},
   "outputs": [],
   "source": [
    "import pandas as pd\n",
    "import numpy as np\n",
    "from sqlalchemy import create_engine\n",
    "import matplotlib.pyplot as plt "
   ]
  },
  {
   "cell_type": "code",
   "execution_count": 2,
   "metadata": {},
   "outputs": [],
   "source": [
    "pacientes_arriba1 = \"C:/Users/jmartinez/Desktop/validaciones/enviados/Pacientes1.xlsx\"\n",
    "pacientes_arriba2 = \"C:/Users/jmartinez/Desktop/validaciones/enviados/Pacientes2.xlsx\"\n",
    "pacientes_arriba3 = \"C:/Users/jmartinez/Desktop/validaciones/enviados/Pacientes3.xlsx\"\n",
    "pacientes_arriba4 = \"C:/Users/jmartinez/Desktop/validaciones/enviados/Pacientes4.xlsx\"\n",
    "pacientes_arriba5 = \"C:/Users/jmartinez/Desktop/validaciones/enviados/Pacientes5.xlsx\"\n",
    "pacientes_arriba6 = \"C:/Users/jmartinez/Desktop/validaciones/enviados/Pacientes6.xlsx\"\n",
    "\n",
    "pacientes_sf1 = pd.read_excel(pacientes_arriba1) \n",
    "pacientes_sf2 = pd.read_excel(pacientes_arriba2)\n",
    "pacientes_sf3 = pd.read_excel(pacientes_arriba3)\n",
    "pacientes_sf4 = pd.read_excel(pacientes_arriba4)\n",
    "pacientes_sf5 = pd.read_excel(pacientes_arriba5)\n",
    "pacientes_sf6 = pd.read_excel(pacientes_arriba6)"
   ]
  },
  {
   "cell_type": "code",
   "execution_count": 3,
   "metadata": {},
   "outputs": [],
   "source": [
    "pacientes_uni = pd.concat([pacientes_sf1, pacientes_sf2], ignore_index=True, sort=False)\n"
   ]
  },
  {
   "cell_type": "code",
   "execution_count": 4,
   "metadata": {},
   "outputs": [],
   "source": [
    "pacientes_uni2 = pd.concat([pacientes_sf4, pacientes_sf3], ignore_index=True, sort=False)"
   ]
  },
  {
   "cell_type": "code",
   "execution_count": 5,
   "metadata": {},
   "outputs": [],
   "source": [
    "pacientes_arriba = pd.concat([pacientes_uni, pacientes_uni2], ignore_index=True, sort=False)"
   ]
  },
  {
   "cell_type": "code",
   "execution_count": 6,
   "metadata": {},
   "outputs": [],
   "source": [
    "pacientes_nuestros = pd.concat([pacientes_arriba,pacientes_sf5],ignore_index=True,sort=False)"
   ]
  },
  {
   "cell_type": "code",
   "execution_count": 7,
   "metadata": {},
   "outputs": [],
   "source": [
    "pacientes_totales = pd.concat([pacientes_nuestros,pacientes_sf6],ignore_index=True,sort=False)"
   ]
  },
  {
   "cell_type": "code",
   "execution_count": 8,
   "metadata": {},
   "outputs": [],
   "source": [
    "si_verdad = pacientes_totales[(pacientes_totales['campana_paciente']=='Ey')]"
   ]
  },
  {
   "cell_type": "code",
   "execution_count": 9,
   "metadata": {},
   "outputs": [
    {
     "data": {
      "text/html": [
       "<div><div id=7d37af49-48b9-4863-8482-885dbcf146a6 style=\"display:none; background-color:#9D6CFF; color:white; width:200px; height:30px; padding-left:5px; border-radius:4px; flex-direction:row; justify-content:space-around; align-items:center;\" onmouseover=\"this.style.backgroundColor='#BA9BF8'\" onmouseout=\"this.style.backgroundColor='#9D6CFF'\" onclick=\"window.commands?.execute('create-mitosheet-from-dataframe-output');\">See Full Dataframe in Mito</div> <script> if (window.commands?.hasCommand('create-mitosheet-from-dataframe-output')) document.getElementById('7d37af49-48b9-4863-8482-885dbcf146a6').style.display = 'flex' </script> <table border=\"1\" class=\"dataframe\">\n",
       "  <thead>\n",
       "    <tr style=\"text-align: right;\">\n",
       "      <th></th>\n",
       "      <th>rut</th>\n",
       "      <th>id</th>\n",
       "      <th>deleted</th>\n",
       "      <th>salutation_name</th>\n",
       "      <th>first_name</th>\n",
       "      <th>last_name</th>\n",
       "      <th>description</th>\n",
       "      <th>address_street</th>\n",
       "      <th>address_city</th>\n",
       "      <th>address_state</th>\n",
       "      <th>...</th>\n",
       "      <th>Unnamed: 25</th>\n",
       "      <th>Unnamed: 26</th>\n",
       "      <th>sdfgds</th>\n",
       "      <th>LLave</th>\n",
       "      <th>checks</th>\n",
       "      <th>Unnamed: 17</th>\n",
       "      <th>chkeorut</th>\n",
       "      <th>LLave_Empresa</th>\n",
       "      <th>llave</th>\n",
       "      <th>Clave</th>\n",
       "    </tr>\n",
       "  </thead>\n",
       "  <tbody>\n",
       "    <tr>\n",
       "      <th>6</th>\n",
       "      <td>16933292-4</td>\n",
       "      <td>61e4f5ba3283db598</td>\n",
       "      <td>0.0</td>\n",
       "      <td>NaN</td>\n",
       "      <td>Deayan Nicole</td>\n",
       "      <td>Parra Peralta</td>\n",
       "      <td>NaN</td>\n",
       "      <td>Av. Ecuador 5079</td>\n",
       "      <td>Estacion Central</td>\n",
       "      <td>NaN</td>\n",
       "      <td>...</td>\n",
       "      <td>NaN</td>\n",
       "      <td>NaN</td>\n",
       "      <td>NaN</td>\n",
       "      <td>NaN</td>\n",
       "      <td>NaN</td>\n",
       "      <td>NaN</td>\n",
       "      <td>NaN</td>\n",
       "      <td>NaN</td>\n",
       "      <td>NaN</td>\n",
       "      <td>NaN</td>\n",
       "    </tr>\n",
       "    <tr>\n",
       "      <th>17</th>\n",
       "      <td>19421916-4</td>\n",
       "      <td>61e4f5bc9141dd8f3</td>\n",
       "      <td>0.0</td>\n",
       "      <td>NaN</td>\n",
       "      <td>Ignacio Andrés</td>\n",
       "      <td>Torres Sanzana</td>\n",
       "      <td>NaN</td>\n",
       "      <td>Diego De Almagro 4885B, Ñuñoa</td>\n",
       "      <td>Santiago</td>\n",
       "      <td>NaN</td>\n",
       "      <td>...</td>\n",
       "      <td>NaN</td>\n",
       "      <td>NaN</td>\n",
       "      <td>NaN</td>\n",
       "      <td>NaN</td>\n",
       "      <td>NaN</td>\n",
       "      <td>NaN</td>\n",
       "      <td>NaN</td>\n",
       "      <td>NaN</td>\n",
       "      <td>NaN</td>\n",
       "      <td>NaN</td>\n",
       "    </tr>\n",
       "    <tr>\n",
       "      <th>20</th>\n",
       "      <td>13951817-9</td>\n",
       "      <td>61e4f5c2e32bdc711</td>\n",
       "      <td>0.0</td>\n",
       "      <td>NaN</td>\n",
       "      <td>Rene Alejandro</td>\n",
       "      <td>Sanchez Fuentealba</td>\n",
       "      <td>NaN</td>\n",
       "      <td>Av. Los Libertadores 7401, Casa 132;  Huechuraba</td>\n",
       "      <td>NaN</td>\n",
       "      <td>NaN</td>\n",
       "      <td>...</td>\n",
       "      <td>NaN</td>\n",
       "      <td>NaN</td>\n",
       "      <td>NaN</td>\n",
       "      <td>NaN</td>\n",
       "      <td>NaN</td>\n",
       "      <td>NaN</td>\n",
       "      <td>NaN</td>\n",
       "      <td>NaN</td>\n",
       "      <td>NaN</td>\n",
       "      <td>NaN</td>\n",
       "    </tr>\n",
       "    <tr>\n",
       "      <th>22</th>\n",
       "      <td>14415385-5</td>\n",
       "      <td>61e4f5bc5f98fdc81</td>\n",
       "      <td>0.0</td>\n",
       "      <td>NaN</td>\n",
       "      <td>Hector</td>\n",
       "      <td>Herrera Pino</td>\n",
       "      <td>NaN</td>\n",
       "      <td>Valenzuela Castilla 1565, Providencia</td>\n",
       "      <td>NaN</td>\n",
       "      <td>NaN</td>\n",
       "      <td>...</td>\n",
       "      <td>NaN</td>\n",
       "      <td>NaN</td>\n",
       "      <td>NaN</td>\n",
       "      <td>NaN</td>\n",
       "      <td>NaN</td>\n",
       "      <td>NaN</td>\n",
       "      <td>NaN</td>\n",
       "      <td>NaN</td>\n",
       "      <td>NaN</td>\n",
       "      <td>NaN</td>\n",
       "    </tr>\n",
       "    <tr>\n",
       "      <th>29</th>\n",
       "      <td>18396855-6</td>\n",
       "      <td>62c464397bd75d27c</td>\n",
       "      <td>0.0</td>\n",
       "      <td>NaN</td>\n",
       "      <td>Andrés Gabriel</td>\n",
       "      <td>Barros  Cortés</td>\n",
       "      <td>NaN</td>\n",
       "      <td>Ricardo Lyon 619 Dpto 23</td>\n",
       "      <td>Providencia</td>\n",
       "      <td>NaN</td>\n",
       "      <td>...</td>\n",
       "      <td>NaN</td>\n",
       "      <td>NaN</td>\n",
       "      <td>NaN</td>\n",
       "      <td>NaN</td>\n",
       "      <td>NaN</td>\n",
       "      <td>NaN</td>\n",
       "      <td>NaN</td>\n",
       "      <td>NaN</td>\n",
       "      <td>NaN</td>\n",
       "      <td>NaN</td>\n",
       "    </tr>\n",
       "  </tbody>\n",
       "</table></div>"
      ],
      "text/plain": [
       "           rut                 id  deleted salutation_name      first_name  \\\n",
       "6   16933292-4  61e4f5ba3283db598      0.0             NaN   Deayan Nicole   \n",
       "17  19421916-4  61e4f5bc9141dd8f3      0.0             NaN  Ignacio Andrés   \n",
       "20  13951817-9  61e4f5c2e32bdc711      0.0             NaN  Rene Alejandro   \n",
       "22  14415385-5  61e4f5bc5f98fdc81      0.0             NaN          Hector   \n",
       "29  18396855-6  62c464397bd75d27c      0.0             NaN  Andrés Gabriel   \n",
       "\n",
       "             last_name description  \\\n",
       "6        Parra Peralta         NaN   \n",
       "17      Torres Sanzana         NaN   \n",
       "20  Sanchez Fuentealba         NaN   \n",
       "22        Herrera Pino         NaN   \n",
       "29      Barros  Cortés         NaN   \n",
       "\n",
       "                                      address_street      address_city  \\\n",
       "6                                   Av. Ecuador 5079  Estacion Central   \n",
       "17                     Diego De Almagro 4885B, Ñuñoa          Santiago   \n",
       "20  Av. Los Libertadores 7401, Casa 132;  Huechuraba               NaN   \n",
       "22             Valenzuela Castilla 1565, Providencia               NaN   \n",
       "29                          Ricardo Lyon 619 Dpto 23       Providencia   \n",
       "\n",
       "   address_state  ... Unnamed: 25 Unnamed: 26 sdfgds LLave checks Unnamed: 17  \\\n",
       "6            NaN  ...         NaN         NaN    NaN   NaN    NaN         NaN   \n",
       "17           NaN  ...         NaN         NaN    NaN   NaN    NaN         NaN   \n",
       "20           NaN  ...         NaN         NaN    NaN   NaN    NaN         NaN   \n",
       "22           NaN  ...         NaN         NaN    NaN   NaN    NaN         NaN   \n",
       "29           NaN  ...         NaN         NaN    NaN   NaN    NaN         NaN   \n",
       "\n",
       "   chkeorut LLave_Empresa llave Clave  \n",
       "6       NaN           NaN   NaN   NaN  \n",
       "17      NaN           NaN   NaN   NaN  \n",
       "20      NaN           NaN   NaN   NaN  \n",
       "22      NaN           NaN   NaN   NaN  \n",
       "29      NaN           NaN   NaN   NaN  \n",
       "\n",
       "[5 rows x 52 columns]"
      ]
     },
     "execution_count": 9,
     "metadata": {},
     "output_type": "execute_result"
    }
   ],
   "source": [
    "si_verdad.head()"
   ]
  },
  {
   "cell_type": "code",
   "execution_count": 10,
   "metadata": {},
   "outputs": [
    {
     "data": {
      "text/plain": [
       "(3377, 52)"
      ]
     },
     "execution_count": 10,
     "metadata": {},
     "output_type": "execute_result"
    }
   ],
   "source": [
    "si_verdad.shape"
   ]
  },
  {
   "cell_type": "code",
   "execution_count": 11,
   "metadata": {},
   "outputs": [],
   "source": [
    "si_verdad.to_excel(\"C:/Users/jmartinez/Desktop/validaciones/enviados/ey.xlsx\")"
   ]
  }
 ],
 "metadata": {
  "kernelspec": {
   "display_name": "Mito",
   "language": "python",
   "name": "python3"
  },
  "language_info": {
   "codemirror_mode": {
    "name": "ipython",
    "version": 3
   },
   "file_extension": ".py",
   "mimetype": "text/x-python",
   "name": "python",
   "nbconvert_exporter": "python",
   "pygments_lexer": "ipython3",
   "version": "3.10.6"
  },
  "orig_nbformat": 4,
  "vscode": {
   "interpreter": {
    "hash": "8ca7c6c0b372e79d1b046e97089bf0eca059102913bf5fbce589f25f1f28c438"
   }
  }
 },
 "nbformat": 4,
 "nbformat_minor": 2
}
