{
 "cells": [
  {
   "cell_type": "code",
   "execution_count": null,
   "metadata": {},
   "outputs": [],
   "source": [
    "import pandas as pd\n",
    "import numpy as np\n",
    "from sqlalchemy import create_engine\n",
    "import matplotlib.pyplot as plt "
   ]
  },
  {
   "cell_type": "code",
   "execution_count": null,
   "metadata": {},
   "outputs": [],
   "source": [
    "pacientes_arriba1 = \"C:/Users/jmartinez/Desktop/validaciones/enviados/Pacientes1.xlsx\"\n",
    "pacientes_arriba2 = \"C:/Users/jmartinez/Desktop/validaciones/enviados/Pacientes2.xlsx\"\n",
    "pacientes_arriba3 = \"C:/Users/jmartinez/Desktop/validaciones/enviados/Pacientes3.xlsx\"\n",
    "pacientes_arriba4 = \"C:/Users/jmartinez/Desktop/validaciones/enviados/Pacientes4.xlsx\"\n",
    "pacientes_arriba5 = \"C:/Users/jmartinez/Desktop/validaciones/enviados/Pacientes5.xlsx\"\n",
    "pacientes_arriba6 = \"C:/Users/jmartinez/Desktop/validaciones/enviados/Pacientes6.xlsx\"\n",
    "\n",
    "pacientes_sf1 = pd.read_excel(pacientes_arriba1) \n",
    "pacientes_sf2 = pd.read_excel(pacientes_arriba2)\n",
    "pacientes_sf3 = pd.read_excel(pacientes_arriba3)\n",
    "pacientes_sf4 = pd.read_excel(pacientes_arriba4)\n",
    "pacientes_sf5 = pd.read_excel(pacientes_arriba5)\n",
    "pacientes_sf6 = pd.read_excel(pacientes_arriba6)"
   ]
  },
  {
   "cell_type": "code",
   "execution_count": null,
   "metadata": {},
   "outputs": [],
   "source": [
    "pacientes_uni = pd.concat([pacientes_sf1, pacientes_sf2], ignore_index=True, sort=False)\n"
   ]
  },
  {
   "cell_type": "code",
   "execution_count": null,
   "metadata": {},
   "outputs": [],
   "source": [
    "pacientes_uni2 = pd.concat([pacientes_sf4, pacientes_sf3], ignore_index=True, sort=False)"
   ]
  },
  {
   "cell_type": "code",
   "execution_count": null,
   "metadata": {},
   "outputs": [],
   "source": [
    "pacientes_arriba = pd.concat([pacientes_uni, pacientes_uni2], ignore_index=True, sort=False)"
   ]
  },
  {
   "cell_type": "code",
   "execution_count": null,
   "metadata": {},
   "outputs": [],
   "source": [
    "pacientes_nuestros = pd.concat([pacientes_arriba,pacientes_sf5],ignore_index=True,sort=False)"
   ]
  },
  {
   "cell_type": "code",
   "execution_count": null,
   "metadata": {},
   "outputs": [],
   "source": [
    "pacientes_totales = pd.concat([pacientes_nuestros,pacientes_sf6],ignore_index=True,sort=False)"
   ]
  },
  {
   "cell_type": "code",
   "execution_count": null,
   "metadata": {},
   "outputs": [],
   "source": [
    "si_verdad = pacientes_totales[(pacientes_totales['campana_paciente']=='Ey')]"
   ]
  },
  {
   "cell_type": "code",
   "execution_count": null,
   "metadata": {},
   "outputs": [],
   "source": [
    "si_verdad.head()"
   ]
  },
  {
   "cell_type": "code",
   "execution_count": null,
   "metadata": {},
   "outputs": [],
   "source": [
    "si_verdad.shape"
   ]
  },
  {
   "cell_type": "code",
   "execution_count": null,
   "metadata": {},
   "outputs": [],
   "source": [
    "si_verdad.to_excel(\"C:/Users/jmartinez/Desktop/validaciones/enviados/ey.xlsx\")"
   ]
  }
 ],
 "metadata": {
  "kernelspec": {
   "display_name": "Mito",
   "language": "python",
   "name": "python3"
  },
  "language_info": {
   "codemirror_mode": {
    "name": "ipython",
    "version": 3
   },
   "file_extension": ".py",
   "mimetype": "text/x-python",
   "name": "python",
   "nbconvert_exporter": "python",
   "pygments_lexer": "ipython3",
   "version": "3.10.6 | packaged by conda-forge | (main, Oct  7 2022, 20:14:50) [MSC v.1916 64 bit (AMD64)]"
  },
  "orig_nbformat": 4,
  "vscode": {
   "interpreter": {
    "hash": "8ca7c6c0b372e79d1b046e97089bf0eca059102913bf5fbce589f25f1f28c438"
   }
  }
 },
 "nbformat": 4,
 "nbformat_minor": 2
}
