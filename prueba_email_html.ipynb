{
 "cells": [
  {
   "cell_type": "code",
   "execution_count": 5,
   "metadata": {},
   "outputs": [
    {
     "ename": "TypeError",
     "evalue": "unhashable type: 'list'",
     "output_type": "error",
     "traceback": [
      "\u001b[1;31m---------------------------------------------------------------------------\u001b[0m",
      "\u001b[1;31mTypeError\u001b[0m                                 Traceback (most recent call last)",
      "\u001b[1;32mc:\\Users\\jmartinez\\Desktop\\basefinal\\prueba_email_html.ipynb Celda 1\u001b[0m in \u001b[0;36m2\n\u001b[0;32m     <a href='vscode-notebook-cell:/c%3A/Users/jmartinez/Desktop/basefinal/prueba_email_html.ipynb#W0sZmlsZQ%3D%3D?line=23'>24</a>\u001b[0m smtp\u001b[39m.\u001b[39mstarttls()\n\u001b[0;32m     <a href='vscode-notebook-cell:/c%3A/Users/jmartinez/Desktop/basefinal/prueba_email_html.ipynb#W0sZmlsZQ%3D%3D?line=24'>25</a>\u001b[0m smtp\u001b[39m.\u001b[39mlogin(\u001b[39m\"\u001b[39m\u001b[39mjmartinez@careassistance.com\u001b[39m\u001b[39m\"\u001b[39m, \u001b[39m\"\u001b[39m\u001b[39mJcmm010483\u001b[39m\u001b[39m\"\u001b[39m)\n\u001b[1;32m---> <a href='vscode-notebook-cell:/c%3A/Users/jmartinez/Desktop/basefinal/prueba_email_html.ipynb#W0sZmlsZQ%3D%3D?line=25'>26</a>\u001b[0m smtp\u001b[39m.\u001b[39;49msendmail(remitente, destinatarios, email\u001b[39m.\u001b[39;49mas_string())\n\u001b[0;32m     <a href='vscode-notebook-cell:/c%3A/Users/jmartinez/Desktop/basefinal/prueba_email_html.ipynb#W0sZmlsZQ%3D%3D?line=26'>27</a>\u001b[0m smtp\u001b[39m.\u001b[39mquit()\n",
      "File \u001b[1;32mc:\\Users\\jmartinez\\AppData\\Local\\Programs\\Python\\Python310\\lib\\smtplib.py:894\u001b[0m, in \u001b[0;36mSMTP.sendmail\u001b[1;34m(self, from_addr, to_addrs, msg, mail_options, rcpt_options)\u001b[0m\n\u001b[0;32m    892\u001b[0m (code, resp) \u001b[39m=\u001b[39m \u001b[39mself\u001b[39m\u001b[39m.\u001b[39mrcpt(each, rcpt_options)\n\u001b[0;32m    893\u001b[0m \u001b[39mif\u001b[39;00m (code \u001b[39m!=\u001b[39m \u001b[39m250\u001b[39m) \u001b[39mand\u001b[39;00m (code \u001b[39m!=\u001b[39m \u001b[39m251\u001b[39m):\n\u001b[1;32m--> 894\u001b[0m     senderrs[each] \u001b[39m=\u001b[39m (code, resp)\n\u001b[0;32m    895\u001b[0m \u001b[39mif\u001b[39;00m code \u001b[39m==\u001b[39m \u001b[39m421\u001b[39m:\n\u001b[0;32m    896\u001b[0m     \u001b[39mself\u001b[39m\u001b[39m.\u001b[39mclose()\n",
      "\u001b[1;31mTypeError\u001b[0m: unhashable type: 'list'"
     ]
    }
   ],
   "source": [
    "from email.message import EmailMessage\n",
    "import smtplib\n",
    "\n",
    "\n",
    "destinatarios=[\n",
    "        \"jmartinez@careassistance.com\",\n",
    "        \"cvillanueva@careassistance.com\",\n",
    "        \"jcm.matus@gmail.com\",\n",
    "        \"jota.kamm@gmail.com\",\n",
    "    ],\n",
    "\n",
    "remitente = \"jmartinez@careassistance.com\"\n",
    "#destinatario = \"destinatario@ejemplo.com\"\n",
    "mensaje = \"¡<strong>Hola</strong>, <em>mundo</em>!\"\n",
    "email = EmailMessage()\n",
    "email[\"From\"] = remitente\n",
    "email[\"To\"] = destinatarios\n",
    "email[\"Subject\"] = \"¡Enviado desde Python!\"\n",
    "email.set_content(mensaje, subtype=\"html\")\n",
    "#smtp = smtplib.SMTP(\"smtp.office365.com\", 587)\n",
    "#smtp = smtplib.SMTP_SSL(\"smtp.ejemplo.com\")\n",
    "# O si se usa TLS:\n",
    "smtp = smtplib.SMTP(\"smtp.office365.com\", port=587)\n",
    "smtp.starttls()\n",
    "smtp.login(\"jmartinez@careassistance.com\", \"Jcmm010483\")\n",
    "smtp.sendmail(remitente, destinatarios, email.as_string())\n",
    "smtp.quit()"
   ]
  }
 ],
 "metadata": {
  "kernelspec": {
   "display_name": "Python 3",
   "language": "python",
   "name": "python3"
  },
  "language_info": {
   "codemirror_mode": {
    "name": "ipython",
    "version": 3
   },
   "file_extension": ".py",
   "mimetype": "text/x-python",
   "name": "python",
   "nbconvert_exporter": "python",
   "pygments_lexer": "ipython3",
   "version": "3.10.8"
  },
  "orig_nbformat": 4
 },
 "nbformat": 4,
 "nbformat_minor": 2
}
