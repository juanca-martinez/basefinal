{
 "cells": [
  {
   "cell_type": "code",
   "execution_count": null,
   "metadata": {},
   "outputs": [],
   "source": [
    "from pathlib import Path \n",
    "import requests\n",
    "import pandas as pd\n",
    "import numpy as np\n",
    "from io import StringIO\n",
    "from simple_salesforce import Salesforce\n",
    "import shutil\n",
    "import datetime\n",
    "from datetime import date\n",
    "\n",
    "\n",
    "sf = Salesforce(\n",
    "    username=\"jmartinez@careassistance.com\",\n",
    "    password=\"Jcmm010483\",\n",
    "    security_token=\"nc20DsgxOHWVR9OHZ78s7TRp\",\n",
    ")"
   ]
  },
  {
   "cell_type": "code",
   "execution_count": null,
   "metadata": {},
   "outputs": [
    {
     "data": {
      "text/plain": [
       "(6757, 10)"
      ]
     },
     "metadata": {},
     "output_type": "display_data"
    }
   ],
   "source": [
    "# Recuperar empresas ID de salesforce desde Account\n",
    "results = sf.query_all(\n",
    "    \"\"\"\n",
    "  select Id, name, Holding__c ,Campa_a__c,Id_Empresa__c,Empleador__c,poliza__c,Vigencia__c, Corredor__c,Pa_s_del_Paciente__c from account where ispersonaccount = false \n",
    "    \"\"\"\n",
    ")\n",
    "Empresas_SF = pd.DataFrame(results[\"records\"])\n",
    "Empresas_SF = Empresas_SF[\n",
    "    [\n",
    "        \"Id\",\n",
    "        \"Name\",\n",
    "        \"Holding__c\",\n",
    "        \"Campa_a__c\",\n",
    "        \"Id_Empresa__c\",\n",
    "        \"Empleador__c\",\n",
    "        \"poliza__c\",\n",
    "        \"Vigencia__c\",\n",
    "        \"Corredor__c\",\n",
    "        \"Pa_s_del_Paciente__c\",\n",
    "    ]\n",
    "]\n",
    "Empresas_SF.shape"
   ]
  },
  {
   "cell_type": "code",
   "execution_count": null,
   "metadata": {},
   "outputs": [
    {
     "data": {
      "text/plain": [
       "(6746, 5)"
      ]
     },
     "metadata": {},
     "output_type": "display_data"
    }
   ],
   "source": [
    "# buscar empresas desde Programas_por_Empresas__c datos de empresas\n",
    "results = sf.query_all(\n",
    "    \"\"\"\n",
    "   select Id,Empresa__c, Empresa_Padre__c,Nombre_Empresa__c, Name  from Programas_por_Empresas__c \n",
    "    \"\"\"\n",
    ")\n",
    "Programas_por_empresa_SF = pd.DataFrame(results[\"records\"])\n",
    "\n",
    "Programas_por_empresa_SF = Programas_por_empresa_SF[\n",
    "    [\"Id\", \"Empresa__c\", \"Empresa_Padre__c\", \"Nombre_Empresa__c\", \"Name\"]\n",
    "]\n",
    "Programas_por_empresa_SF.shape"
   ]
  },
  {
   "cell_type": "code",
   "execution_count": null,
   "metadata": {},
   "outputs": [
    {
     "data": {
      "text/plain": [
       "(6763, 15)"
      ]
     },
     "metadata": {},
     "output_type": "display_data"
    }
   ],
   "source": [
    "#Union de Programas Empresa y empresas\n",
    "Programas_empresas = pd.merge(\n",
    "    left=Empresas_SF,\n",
    "    right=Programas_por_empresa_SF,\n",
    "    how=\"left\",\n",
    "    left_on=\"Id\",\n",
    "    right_on=\"Empresa__c\",\n",
    ")\n",
    "Programas_empresas.shape"
   ]
  },
  {
   "cell_type": "code",
   "execution_count": null,
   "metadata": {},
   "outputs": [],
   "source": [
    "Programas_pacientes = Programas_empresas.rename(\n",
    "    columns={\n",
    "        \"Id_x\": \"Id Account Empresa\",\n",
    "        \"Name_x\": \"Nombre Empresa\",\n",
    "        \"Holding__c\": \"Holding\",\n",
    "        \"Campa_a__c\": \"Campaña\",\n",
    "        \"Empleador__c\": \"Empleador\",\n",
    "        \"poliza__c\": \"Poliza\",\n",
    "        \"Id_y\": \"Programas_por_Empresas__c\",\n",
    "        \"Id_Empresa__c\": \"Codigo EMP\",\n",
    "        \"Name_y\": \"Codigo A\",\n",
    "        \"Vigencia__c\": \"Vigente\",\n",
    "        \"Corredor__c\": \"Corredor\",\n",
    "        \"Pa_s_del_Paciente__c\": \"Pais\",\n",
    "    }\n",
    ")\n",
    "Programas_pacientes = Programas_pacientes[\n",
    "    [\n",
    "        \"Id Account Empresa\",\n",
    "        \"Nombre Empresa\",\n",
    "        \"Holding\",\n",
    "        \"Campaña\",\n",
    "        \"Empleador\",\n",
    "        \"Poliza\",\n",
    "        \"Programas_por_Empresas__c\",\n",
    "        \"Codigo EMP\",\n",
    "        \"Codigo A\",\n",
    "        \"Vigente\",\n",
    "        \"Corredor\",\n",
    "        \"Pais\",\n",
    "    ]\n",
    "]"
   ]
  },
  {
   "cell_type": "code",
   "execution_count": null,
   "metadata": {},
   "outputs": [
    {
     "data": {
      "text/plain": [
       "(1606994, 9)"
      ]
     },
     "metadata": {},
     "output_type": "display_data"
    }
   ],
   "source": [
    "results = sf.query_all(\n",
    "    \"\"\"\n",
    "    select Id, IdentificationId__pc,Name, Identification_Type__c, Ocupaci_n__c,  PersonTitle ,PersonDepartment,HealthCloudGA__Gender__pc,Phone  from Account where ispersonaccount = True\n",
    "   \"\"\"\n",
    ")\n",
    "Pacientes_SF = pd.DataFrame(results[\"records\"])\n",
    "\n",
    "Pacientes_SF = Pacientes_SF[\n",
    "    [\n",
    "        \"Id\",\n",
    "        \"IdentificationId__pc\",\n",
    "        \"Name\",\n",
    "        \"Identification_Type__c\",\n",
    "        \"Ocupaci_n__c\",\n",
    "        \"PersonTitle\",\n",
    "        \"PersonDepartment\",\n",
    "        \"HealthCloudGA__Gender__pc\",\n",
    "        'Phone'\n",
    "        \n",
    "    ]\n",
    "]\n",
    "Pacientes_SF = Pacientes_SF.rename(\n",
    "    columns={\n",
    "        \"Id\": \"Id Account Paciente\",\n",
    "        \"IdentificationId__pc\": \"Rut\",\n",
    "        \"Name\": \"Nombre\",\n",
    "        \"Ocupaci_n__c\": \"Ocupacion\",\n",
    "        \"PersonTitle\": \"Cargo\",\n",
    "        \"PersonDepartment\": \"Departamento\",\n",
    "        \"HealthCloudGA__Gender__pc\": \"Sexo\",\n",
    "        \"Phone\": \"Telefono\",\n",
    "        \"Identification_Type__c\": \"Tipo de Documento\",\n",
    "    }\n",
    ")\n",
    "Pacientes_SF.shape"
   ]
  },
  {
   "cell_type": "code",
   "execution_count": null,
   "metadata": {},
   "outputs": [
    {
     "data": {
      "text/plain": [
       "(1171331, 4)"
      ]
     },
     "metadata": {},
     "output_type": "display_data"
    }
   ],
   "source": [
    "#buscar empresas desde Paciente_Programas__c relaciones de empresas con pacientes\n",
    "results = sf.query_all(\n",
    "    \"\"\"\n",
    "    select Id,Paciente__c, Programas_por_Empresas__c,padre__c from Paciente_Programas__c  \n",
    "    \"\"\"\n",
    ")\n",
    "Paciente_Programas_SF = pd.DataFrame(results[\"records\"])\n",
    "\n",
    "Paciente_Programas_SF = Paciente_Programas_SF[\n",
    "    [\"Id\", \"Paciente__c\", \"Programas_por_Empresas__c\", \"padre__c\"]\n",
    "]\n",
    "Paciente_Programas_SF.shape"
   ]
  },
  {
   "cell_type": "code",
   "execution_count": null,
   "metadata": {},
   "outputs": [
    {
     "data": {
      "text/plain": [
       "(1171331, 15)"
      ]
     },
     "metadata": {},
     "output_type": "display_data"
    }
   ],
   "source": [
    "#Union de Pacientes Programas y Programas por empresa\n",
    "empresas_unidas = pd.merge(\n",
    "    left=Paciente_Programas_SF,\n",
    "    right=Programas_pacientes,\n",
    "    how=\"left\",\n",
    "    left_on=\"Programas_por_Empresas__c\",\n",
    "    right_on=\"Programas_por_Empresas__c\",\n",
    ")\n",
    "empresas_unidas.shape"
   ]
  },
  {
   "cell_type": "code",
   "execution_count": null,
   "metadata": {},
   "outputs": [
    {
     "data": {
      "text/plain": [
       "(1171331, 24)"
      ]
     },
     "metadata": {},
     "output_type": "display_data"
    }
   ],
   "source": [
    "empresas_unidas = pd.merge(\n",
    "    left=empresas_unidas,\n",
    "    right=Pacientes_SF,\n",
    "    how=\"left\",\n",
    "    left_on=\"Paciente__c\",\n",
    "    right_on=\"Id Account Paciente\",\n",
    ")\n",
    "empresas_unidas.shape"
   ]
  },
  {
   "cell_type": "code",
   "execution_count": null,
   "metadata": {},
   "outputs": [
    {
     "data": {
      "text/plain": [
       "(1171331, 23)"
      ]
     },
     "metadata": {},
     "output_type": "display_data"
    }
   ],
   "source": [
    "empresas_unidas = empresas_unidas.rename(columns={\"Id\": \"Id Pacientes Programas\"})\n",
    "empresas_unidas = empresas_unidas[\n",
    "    [\n",
    "        \"Id Pacientes Programas\",\n",
    "        \"Paciente__c\",\n",
    "        \"Programas_por_Empresas__c\",\n",
    "        \"Id Account Empresa\",\n",
    "        \"Nombre Empresa\",\n",
    "        \"Holding\",\n",
    "        \"Campaña\",\n",
    "        \"Empleador\",\n",
    "        \"Poliza\",\n",
    "        \"Id Account Paciente\",\n",
    "        \"Rut\",\n",
    "        \"Nombre\",\n",
    "        \"Ocupacion\",\n",
    "        \"Cargo\",\n",
    "        \"Departamento\",\n",
    "        \"Sexo\",\n",
    "        \"Telefono\",\n",
    "        \"Tipo de Documento\",\n",
    "        \"Codigo EMP\",\n",
    "        \"Codigo A\",\n",
    "        \"Vigente\",\n",
    "        \"Corredor\",\n",
    "        \"Pais\",\n",
    "    ]\n",
    "]\n",
    "\n",
    "empresas_unidas.shape"
   ]
  },
  {
   "cell_type": "code",
   "execution_count": null,
   "metadata": {},
   "outputs": [],
   "source": [
    "# cantidad_de_PAcientes = pd.DataFrame()\n",
    "def cantidad_gente(corredor):\n",
    "    empresas_unidas2 = empresas_unidas[empresas_unidas[\"Corredor\"] == corredor]\n",
    "    empresas_unidas2 = empresas_unidas2.drop_duplicates(\n",
    "        subset=[\"Rut\", \"Empleador\", \"Poliza\",\"Nombre Empresa\"], keep=\"last\"\n",
    "    )\n",
    "    cantidad_de_PAcientes = empresas_unidas2.groupby([\"Poliza\", \"Empleador\"])[\n",
    "        \"Paciente__c\"\n",
    "    ].count()\n",
    "    cantidad_de_PAcientes = cantidad_de_PAcientes.reset_index()\n",
    "    # cantidad_de_PAcientes = cantidad_de_PAcientes[cantidad_de_PAcientes[\"Poliza\",\"Empleador\",\"count\"]]\n",
    "    Archivo_gente = \"F:/Reportes SF/MetLife/usuarios/\" + corredor + \"_gente.xlsx\"\n",
    "    cantidad_de_PAcientes.to_excel(Archivo_gente, index=False)\n",
    "    cantidad_de_PAcientes.shape"
   ]
  },
  {
   "cell_type": "code",
   "execution_count": null,
   "metadata": {},
   "outputs": [
    {
     "data": {
      "text/html": [
       "<div>\n",
       "<style scoped>\n",
       "    .dataframe tbody tr th:only-of-type {\n",
       "        vertical-align: middle;\n",
       "    }\n",
       "\n",
       "    .dataframe tbody tr th {\n",
       "        vertical-align: top;\n",
       "    }\n",
       "\n",
       "    .dataframe thead th {\n",
       "        text-align: right;\n",
       "    }\n",
       "</style>\n",
       "<table border=\"1\" class=\"dataframe\">\n",
       "  <thead>\n",
       "    <tr style=\"text-align: right;\">\n",
       "      <th></th>\n",
       "      <th>AppointmentNumber</th>\n",
       "      <th>RUT__c</th>\n",
       "      <th>Empresas</th>\n",
       "      <th>CreatedDate</th>\n",
       "      <th>Tipo_de_la_cita__c</th>\n",
       "      <th>Empresas Id</th>\n",
       "      <th>AccountId</th>\n",
       "      <th>Clinica__c</th>\n",
       "    </tr>\n",
       "  </thead>\n",
       "  <tbody>\n",
       "    <tr>\n",
       "      <th>0</th>\n",
       "      <td>FSA-12257</td>\n",
       "      <td>138959341</td>\n",
       "      <td>NaN</td>\n",
       "      <td>2023-03-11T12:30:20.000+0000</td>\n",
       "      <td>Video</td>\n",
       "      <td>NaN</td>\n",
       "      <td>0018c00002amSUbAAM</td>\n",
       "      <td>Clínica de Psicología</td>\n",
       "    </tr>\n",
       "    <tr>\n",
       "      <th>1</th>\n",
       "      <td>FSA-3124</td>\n",
       "      <td>183552252</td>\n",
       "      <td>NaN</td>\n",
       "      <td>2022-12-02T16:23:05.000+0000</td>\n",
       "      <td>Phone</td>\n",
       "      <td>NaN</td>\n",
       "      <td>0018c00002azpJ4AAI</td>\n",
       "      <td>Clínica de Nutrición</td>\n",
       "    </tr>\n",
       "    <tr>\n",
       "      <th>2</th>\n",
       "      <td>FSA-11374</td>\n",
       "      <td>139187598</td>\n",
       "      <td>NaN</td>\n",
       "      <td>2023-03-03T17:16:41.000+0000</td>\n",
       "      <td>Phone</td>\n",
       "      <td>NaN</td>\n",
       "      <td>0018c00002amLVAAA2</td>\n",
       "      <td>Clínica de Nutrición</td>\n",
       "    </tr>\n",
       "    <tr>\n",
       "      <th>3</th>\n",
       "      <td>FSA-10627</td>\n",
       "      <td>159754278</td>\n",
       "      <td>NaN</td>\n",
       "      <td>2023-02-24T13:00:37.000+0000</td>\n",
       "      <td>Phone</td>\n",
       "      <td>NaN</td>\n",
       "      <td>0018c00002bINLlAAO</td>\n",
       "      <td>Clínica de Nutrición</td>\n",
       "    </tr>\n",
       "    <tr>\n",
       "      <th>4</th>\n",
       "      <td>FSA-12261</td>\n",
       "      <td>162332392</td>\n",
       "      <td>NaN</td>\n",
       "      <td>2023-03-11T12:44:57.000+0000</td>\n",
       "      <td>Phone</td>\n",
       "      <td>NaN</td>\n",
       "      <td>0018c00002cX820AAC</td>\n",
       "      <td>Clínica APSSex</td>\n",
       "    </tr>\n",
       "  </tbody>\n",
       "</table>\n",
       "</div>"
      ],
      "text/plain": [
       "  AppointmentNumber     RUT__c  Empresas                   CreatedDate  \\\n",
       "0         FSA-12257  138959341       NaN  2023-03-11T12:30:20.000+0000   \n",
       "1          FSA-3124  183552252       NaN  2022-12-02T16:23:05.000+0000   \n",
       "2         FSA-11374  139187598       NaN  2023-03-03T17:16:41.000+0000   \n",
       "3         FSA-10627  159754278       NaN  2023-02-24T13:00:37.000+0000   \n",
       "4         FSA-12261  162332392       NaN  2023-03-11T12:44:57.000+0000   \n",
       "\n",
       "  Tipo_de_la_cita__c  Empresas Id           AccountId             Clinica__c  \n",
       "0              Video          NaN  0018c00002amSUbAAM  Clínica de Psicología  \n",
       "1              Phone          NaN  0018c00002azpJ4AAI   Clínica de Nutrición  \n",
       "2              Phone          NaN  0018c00002amLVAAA2   Clínica de Nutrición  \n",
       "3              Phone          NaN  0018c00002bINLlAAO   Clínica de Nutrición  \n",
       "4              Phone          NaN  0018c00002cX820AAC         Clínica APSSex  "
      ]
     },
     "metadata": {},
     "output_type": "display_data"
    }
   ],
   "source": [
    "# Citas de Servicio\n",
    "results = sf.query_all(\n",
    "    \"\"\"\n",
    "    SELECT Id, clinica__c,AccountId,CreatedDate,RUT__c,Work_TypeGroup__c,Status,Interacci_n__c,AppointmentNumber,Tipo_de_la_cita__c from ServiceAppointment\n",
    "    \"\"\"\n",
    ")\n",
    "\n",
    "\n",
    "Citas_de_servicio = pd.DataFrame(results[\"records\"])\n",
    "Citas_de_servicio['Empresas'] = np.nan\n",
    "#Citas_de_servicio['RUT__c'].map(pacientessf_empresas.set_index('IdentificationId__pc_x',verify_integrity=False)['Name']) \n",
    "Citas_de_servicio['Empresas Id'] = np.nan\n",
    "Citas_de_servicio = Citas_de_servicio[\n",
    "    [\n",
    "        \"AppointmentNumber\",        \n",
    "        \"RUT__c\",  \n",
    "        'Empresas',      \n",
    "        \"CreatedDate\",\n",
    "        \"Tipo_de_la_cita__c\",\n",
    "        'Empresas Id',        \n",
    "        \"AccountId\",\n",
    "        'Clinica__c'\n",
    "        \n",
    "    ]\n",
    "]\n",
    "Citas_de_servicio[\"AppointmentNumber\"] = 'F' + Citas_de_servicio[\"AppointmentNumber\"]\n",
    "    \n",
    "Citas_de_servicio.head()\n"
   ]
  },
  {
   "cell_type": "code",
   "execution_count": null,
   "metadata": {},
   "outputs": [
    {
     "data": {
      "text/plain": [
       "(12522, 8)"
      ]
     },
     "metadata": {},
     "output_type": "display_data"
    }
   ],
   "source": [
    "# Citas de Servicio Orientacion\n",
    "results = sf.query_all(\n",
    "    \"\"\"\n",
    "    SELECT Id, AccountId,CreatedDate,RUT__c,WorkTypeId,Work_TypeGroup__c,Status,Interacci_n__c,Tipo_de_la_cita__c,AppointmentNumber from ServiceAppointment\n",
    "    \"\"\"\n",
    ")\n",
    "Citas_de_servicio2 = pd.DataFrame(results[\"records\"])\n",
    "Citas_de_servicio2['Clinica__c'] = 'Orientación Médica'\n",
    "Citas_de_servicio2['Empresas'] = np.nan\n",
    "Citas_de_servicio2['Empresas Id'] = np.nan\n",
    "Citas_de_servicio2 = Citas_de_servicio2[\n",
    "    [\n",
    "        \"AppointmentNumber\",        \n",
    "        \"RUT__c\",  \n",
    "        'Empresas',      \n",
    "        \"CreatedDate\",\n",
    "        \"Tipo_de_la_cita__c\",\n",
    "        'Empresas Id',       \n",
    "        \"AccountId\",\n",
    "        'Clinica__c',\n",
    "        \n",
    "    ]\n",
    "]\n",
    "Citas_de_servicio2.shape\n"
   ]
  },
  {
   "cell_type": "code",
   "execution_count": null,
   "metadata": {},
   "outputs": [
    {
     "data": {
      "text/plain": [
       "(25044, 8)"
      ]
     },
     "metadata": {},
     "output_type": "display_data"
    }
   ],
   "source": [
    "#unir dos citas\n",
    "Gran_Citas_deservicio = pd.concat([Citas_de_servicio, Citas_de_servicio2], axis=0)\n",
    "Gran_Citas_deservicio = Gran_Citas_deservicio.rename(\n",
    "    columns={\n",
    "        \"AppointmentNumber\": \"Codigo Ficha\",\n",
    "        \"RUT__c\": \"Rut\",\n",
    "        \"Empresas\": \"Empleador\",\n",
    "        \"CreatedDate\": \"Fecha\",\n",
    "        \"Tipo_de_la_cita__c\": \"Canal\",\n",
    "        \"Empresas Id\": \"Cod. Empresa\",\n",
    "        \"AccountId\": \"Id Paciente\",        \n",
    "        'Clinica__c':'Clínica'\n",
    "    }\n",
    ")\n",
    "\n",
    "Gran_Citas_deservicio.shape"
   ]
  },
  {
   "cell_type": "code",
   "execution_count": null,
   "metadata": {},
   "outputs": [
    {
     "data": {
      "text/plain": [
       "(1670, 8)"
      ]
     },
     "metadata": {},
     "output_type": "display_data"
    }
   ],
   "source": [
    "#Clinica_deporte\n",
    "results = sf.query_all(\n",
    "    \"\"\"\n",
    "   SELECT id,Name,Rut__c,Nombre_Empresa__c,CreatedDate,Canal__c, Empresa__c, Account__c from Ficha_Cl_nica_Deporte__c\n",
    "     \"\"\"\n",
    ")\n",
    "ficha_deporte = pd.DataFrame(results[\"records\"])\n",
    "\n",
    "ficha_deporte = ficha_deporte[\n",
    "    [\n",
    "        \"Name\",\n",
    "        \"Rut__c\",\n",
    "        \"Nombre_Empresa__c\",\n",
    "        \"CreatedDate\",\n",
    "        \"Canal__c\",\n",
    "        \"Empresa__c\",\n",
    "        \"Account__c\",\n",
    "        \n",
    "    ]\n",
    "]\n",
    "ficha_deporte['clinica'] = 'Deporte'\n",
    "ficha_deporte = ficha_deporte.rename(\n",
    "    columns={\n",
    "        \"Name\": \"Codigo Ficha\",\n",
    "        \"Rut__c\": \"Rut\",\n",
    "        \"Nombre_Empresa__c\": \"Empleador\",\n",
    "        \"CreatedDate\": \"Fecha\",\n",
    "        \"Canal__c\": \"Canal\",\n",
    "        \"Empresa__c\": \"Cod. Empresa\",\n",
    "        \"Account__c\": \"Id Paciente\",        \n",
    "        'clinica':'Clínica'\n",
    "    }\n",
    ")\n",
    "ficha_deporte.shape\n"
   ]
  },
  {
   "cell_type": "code",
   "execution_count": null,
   "metadata": {},
   "outputs": [
    {
     "data": {
      "text/plain": [
       "(3643, 8)"
      ]
     },
     "metadata": {},
     "output_type": "display_data"
    }
   ],
   "source": [
    "# Clinica Nutricion\n",
    "results = sf.query_all(\n",
    "    \"\"\"\n",
    "   select  Name, RUT__c, Nombre_Empresa__c, CreatedDate, Canal__c, Empresa__c, Account__c from Ficha_Clinica_Nutrici_n__c \n",
    "     \"\"\"\n",
    ")\n",
    "ficha_nutricion = pd.DataFrame(results[\"records\"])\n",
    "\n",
    "ficha_nutricion = ficha_nutricion[\n",
    "    [\n",
    "        \"Name\",\n",
    "        \"RUT__c\",\n",
    "        \"Nombre_Empresa__c\",\n",
    "        \"CreatedDate\",\n",
    "        \"Canal__c\",\n",
    "        \"Empresa__c\",\n",
    "        \"Account__c\",\n",
    "        \n",
    "    ]\n",
    "]\n",
    "ficha_nutricion[\"clinica\"] = \"Nutrición\"\n",
    "\n",
    "ficha_nutricion = ficha_nutricion.rename(\n",
    "    columns={\n",
    "        \"Name\": \"Codigo Ficha\",\n",
    "        \"RUT__c\": \"Rut\",\n",
    "        \"Nombre_Empresa__c\": \"Empleador\",\n",
    "        \"CreatedDate\": \"Fecha\",\n",
    "        \"Canal__c\": \"Canal\",\n",
    "        \"Empresa__c\": \"Cod. Empresa\",\n",
    "        \"Account__c\": \"Id Paciente\",\n",
    "        'clinica':'Clínica'\n",
    "    }\n",
    ")\n",
    "\n",
    "\n",
    "ficha_nutricion.shape"
   ]
  },
  {
   "cell_type": "code",
   "execution_count": null,
   "metadata": {},
   "outputs": [
    {
     "data": {
      "text/plain": [
       "(13, 8)"
      ]
     },
     "metadata": {},
     "output_type": "display_data"
    }
   ],
   "source": [
    "#Clinica AppSex\n",
    "results = sf.query_all(\n",
    "    \"\"\"\n",
    "   select  Name, Rut__c, Nombre_Empresa__c, CreatedDate, Canal__c, Empresa__c, Account__c, RecordTypeId from Ficha_Cl_nica_ApsSex__c \n",
    "     \"\"\"\n",
    ")\n",
    "ficha_Apssex = pd.DataFrame(results[\"records\"])\n",
    "\n",
    "ficha_Apssex = ficha_Apssex[\n",
    "    [\n",
    "        \"Name\",\n",
    "        \"Rut__c\",\n",
    "        \"Nombre_Empresa__c\",\n",
    "        \"CreatedDate\",\n",
    "        \"Canal__c\",\n",
    "        \"Empresa__c\",\n",
    "        \"Account__c\",\n",
    "        \n",
    "    ]\n",
    "]\n",
    "ficha_Apssex['clinica'] = 'Asesoría Psicologíca en Salud Sexual'\n",
    "ficha_Apssex = ficha_Apssex.rename(\n",
    "    columns={\n",
    "        \"Name\": \"Codigo Ficha\",\n",
    "        \"Rut__c\": \"Rut\",\n",
    "        \"Nombre_Empresa__c\": \"Empleador\",\n",
    "        \"CreatedDate\": \"Fecha\",\n",
    "        \"Canal__c\": \"Canal\",\n",
    "        \"Empresa__c\": \"Cod. Empresa\",\n",
    "        \"Account__c\": \"Id Paciente\",\n",
    "        'clinica':'Clínica'\n",
    "    }\n",
    ")\n",
    "\n",
    "ficha_Apssex.shape"
   ]
  },
  {
   "cell_type": "code",
   "execution_count": null,
   "metadata": {},
   "outputs": [
    {
     "data": {
      "text/plain": [
       "(2542, 9)"
      ]
     },
     "metadata": {},
     "output_type": "display_data"
    }
   ],
   "source": [
    "# Clinica Psicologia\n",
    "results = sf.query_all(\n",
    "    \"\"\"\n",
    "   select  Name, Rut__c, Nombre_Empresa__c, CreatedDate, Canal__c, Empresa__c, Account__c, RecordTypeId,Motivo_de_consulta_manifiesto__c from Ficha_Cl_nica_Asistencia_Emocional__c \n",
    "     \"\"\"\n",
    ")\n",
    "ficha_Psicologia = pd.DataFrame(results[\"records\"])\n",
    "\n",
    "ficha_Psicologia = ficha_Psicologia[\n",
    "    [\n",
    "        \"Name\",\n",
    "        \"Rut__c\",\n",
    "        \"Nombre_Empresa__c\",\n",
    "        \"CreatedDate\",\n",
    "        \"Canal__c\",\n",
    "        \"Empresa__c\",\n",
    "        \"Account__c\",\n",
    "        \"Motivo_de_consulta_manifiesto__c\",\n",
    "    ]\n",
    "]\n",
    "ficha_Psicologia[\"clinica\"] = \"Psicología\"\n",
    "ficha_Psicologia.Motivo_de_consulta_manifiesto__c.fillna(0, inplace=True)\n",
    "ficha_Psicologia['Motivo_de_consulta_manifiesto__c'] = np.where(ficha_Psicologia['Motivo_de_consulta_manifiesto__c']== 0 ,'Otras Derivaciones',ficha_Psicologia['Motivo_de_consulta_manifiesto__c'] )\n",
    "#ficha_Psicologia['77'] = len(ficha_Psicologia['Motivo_de_consulta_manifiesto__c'])\n",
    "ficha_Psicologia = ficha_Psicologia.rename(\n",
    "    columns={\n",
    "        \"Name\": \"Codigo Ficha\",\n",
    "        \"Rut__c\": \"Rut\",\n",
    "        \"Nombre_Empresa__c\": \"Empleador\",\n",
    "        \"CreatedDate\": \"Fecha\",\n",
    "        \"Canal__c\": \"Canal\",\n",
    "        \"Empresa__c\": \"Cod. Empresa\",\n",
    "        \"Account__c\": \"Id Paciente\",\n",
    "        \"clinica\": \"Clínica\",\n",
    "        \"Motivo_de_consulta_manifiesto__c\": \"Motivo de consulta\",\n",
    "    }\n",
    ")\n",
    "\n",
    "ficha_Psicologia.shape"
   ]
  },
  {
   "cell_type": "code",
   "execution_count": null,
   "metadata": {},
   "outputs": [
    {
     "data": {
      "text/plain": [
       "(348, 8)"
      ]
     },
     "metadata": {},
     "output_type": "display_data"
    }
   ],
   "source": [
    "#Clinica Sueño\n",
    "results = sf.query_all(\n",
    "    \"\"\"\n",
    "   select  Name, RUT__c, Nombre_Empresa__c, CreatedDate, Canal__c, Empresa__c, Account__c, RecordTypeId from Ficha_Cl_nica_del_Sue_o__c \n",
    "     \"\"\"\n",
    ")\n",
    "ficha_Sueno = pd.DataFrame(results[\"records\"])\n",
    "ficha_Sueno = ficha_Sueno[\n",
    "    [\n",
    "        \"Name\",\n",
    "        \"Rut__c\",\n",
    "        \"Nombre_Empresa__c\",\n",
    "        \"CreatedDate\",\n",
    "        \"Canal__c\",\n",
    "        \"Empresa__c\",\n",
    "        \"Account__c\",\n",
    "    ]\n",
    "]\n",
    "ficha_Sueno['clinica'] = 'Clínica Del Sueño'\n",
    "ficha_Sueno = ficha_Sueno.rename(\n",
    "    columns={\n",
    "        \"Name\": \"Codigo Ficha\",\n",
    "        \"Rut__c\": \"Rut\",\n",
    "        \"Nombre_Empresa__c\": \"Empleador\",\n",
    "        \"CreatedDate\": \"Fecha\",\n",
    "        \"Canal__c\": \"Canal\",\n",
    "        \"Empresa__c\": \"Cod. Empresa\",\n",
    "        \"Account__c\": \"Id Paciente\",\n",
    "        'clinica':'Clínica'\n",
    "    }\n",
    ")\n",
    "ficha_Sueno.shape"
   ]
  },
  {
   "cell_type": "code",
   "execution_count": null,
   "metadata": {},
   "outputs": [
    {
     "data": {
      "text/plain": [
       "(1352, 8)"
      ]
     },
     "metadata": {},
     "output_type": "display_data"
    }
   ],
   "source": [
    "#Clinica PAciente Cronico\n",
    "results = sf.query_all(\n",
    "    \"\"\"\n",
    "   select  Name, RUT__c, Nombre_Empresa__c, CreatedDate, Canal__c, Empresa__c, Account__c from Ficha_Cl_nica_Seg_Paciente_Cr_nico__c  \n",
    "     \"\"\"\n",
    ")\n",
    "ficha_Cronico = pd.DataFrame(results[\"records\"])\n",
    "ficha_Cronico = ficha_Cronico[\n",
    "    [\n",
    "        \"Name\",\n",
    "        \"Rut__c\",\n",
    "        \"Nombre_Empresa__c\",\n",
    "        \"CreatedDate\",\n",
    "        \"Canal__c\",\n",
    "        \"Empresa__c\",\n",
    "        \"Account__c\",\n",
    "    ]\n",
    "]\n",
    "ficha_Cronico['clinica'] = 'Pacientes Crónicos'\n",
    "ficha_Cronico = ficha_Cronico.rename(\n",
    "    columns={\n",
    "        \"Name\": \"Codigo Ficha\",\n",
    "        \"Rut__c\": \"Rut\",\n",
    "        \"Nombre_Empresa__c\": \"Empleador\",\n",
    "        \"CreatedDate\": \"Fecha\",\n",
    "        \"Canal__c\": \"Canal\",\n",
    "        \"Empresa__c\": \"Cod. Empresa\",\n",
    "        \"Account__c\": \"Id Paciente\",\n",
    "        'clinica':'Clínica'\n",
    "    }\n",
    ")\n",
    "ficha_Cronico.shape"
   ]
  },
  {
   "cell_type": "code",
   "execution_count": null,
   "metadata": {},
   "outputs": [
    {
     "data": {
      "text/plain": [
       "(4206, 8)"
      ]
     },
     "metadata": {},
     "output_type": "display_data"
    }
   ],
   "source": [
    "#Clinica Telemedicina\n",
    "results = sf.query_all(\n",
    "    \"\"\"\n",
    "   select  Name, RUT__c, Nombre_Empresa__c, CreatedDate, Canal__c, Empresa__c, Account__c from Ficha_Cl_nica_Telemedicina__c   \n",
    "     \"\"\"\n",
    ")\n",
    "ficha_Telemedicina = pd.DataFrame(results[\"records\"])\n",
    "ficha_Telemedicina = ficha_Telemedicina[\n",
    "    [\n",
    "        \"Name\",\n",
    "        \"Rut__c\",\n",
    "        \"Nombre_Empresa__c\",\n",
    "        \"CreatedDate\",\n",
    "        \"Canal__c\",\n",
    "        \"Empresa__c\",\n",
    "        \"Account__c\"\n",
    "    ]\n",
    "]\n",
    "ficha_Telemedicina['clinica'] = 'Telemedicina'\n",
    "ficha_Telemedicina = ficha_Telemedicina.rename(\n",
    "    columns={\n",
    "        \"Name\": \"Codigo Ficha\",\n",
    "        \"Rut__c\": \"Rut\",\n",
    "        \"Nombre_Empresa__c\": \"Empleador\",\n",
    "        \"CreatedDate\": \"Fecha\",\n",
    "        \"Canal__c\": \"Canal\",\n",
    "        \"Empresa__c\": \"Cod. Empresa\",\n",
    "        \"Account__c\": \"Id Paciente\",        \n",
    "        'clinica':'Clínica'\n",
    "    }\n",
    ")\n",
    "ficha_Telemedicina.shape"
   ]
  },
  {
   "cell_type": "code",
   "execution_count": null,
   "metadata": {},
   "outputs": [
    {
     "data": {
      "text/plain": [
       "(34, 8)"
      ]
     },
     "metadata": {},
     "output_type": "display_data"
    }
   ],
   "source": [
    "#Clinica Veterinaria\n",
    "results = sf.query_all(\n",
    "    \"\"\"\n",
    "   select  Name, RUT__c, Nombre_Empresa__c, CreatedDate, Canal__c, Empresa__c, Account__c from Ficha_Cl_nica_Veterinaria__c    \n",
    "     \"\"\"\n",
    ")\n",
    "ficha_Veterinaria = pd.DataFrame(results[\"records\"])\n",
    "ficha_Veterinaria = ficha_Veterinaria[\n",
    "    [\n",
    "        \"Name\",\n",
    "        \"Rut__c\",\n",
    "        \"Nombre_Empresa__c\",\n",
    "        \"CreatedDate\",\n",
    "        \"Canal__c\",\n",
    "        \"Empresa__c\",\n",
    "        \"Account__c\"\n",
    "    ]\n",
    "]\n",
    "ficha_Veterinaria['clinica'] = 'Veterinaria'\n",
    "ficha_Veterinaria = ficha_Veterinaria.rename(\n",
    "    columns={\n",
    "        \"Name\": \"Codigo Ficha\",\n",
    "        \"Rut__c\": \"Rut\",\n",
    "        \"Nombre_Empresa__c\": \"Empleador\",\n",
    "        \"CreatedDate\": \"Fecha\",\n",
    "        \"Canal__c\": \"Canal\",\n",
    "        \"Empresa__c\": \"Cod. Empresa\",\n",
    "        \"Account__c\": \"Id Paciente\",\n",
    "        'clinica':'Clínica'\n",
    "    }\n",
    ")\n",
    "ficha_Veterinaria.shape"
   ]
  },
  {
   "cell_type": "code",
   "execution_count": null,
   "metadata": {},
   "outputs": [
    {
     "data": {
      "text/plain": [
       "(74, 8)"
      ]
     },
     "metadata": {},
     "output_type": "display_data"
    }
   ],
   "source": [
    "# Clinica Orientacion\n",
    "results = sf.query_all(\n",
    "    \"\"\"\n",
    "   select  Name, RUT__c, Nombre_Empresa__c, CreatedDate, Canal__c, Empresa__c, Account__c from Ficha_Orientaci_n_Medica__c     \n",
    "     \"\"\"\n",
    ")\n",
    "ficha_Orientacion = pd.DataFrame(results[\"records\"])\n",
    "ficha_Orientacion = ficha_Orientacion[\n",
    "    [\n",
    "        \"Name\",\n",
    "        \"Rut__c\",\n",
    "        \"Nombre_Empresa__c\",\n",
    "        \"CreatedDate\",\n",
    "        \"Canal__c\",\n",
    "        \"Empresa__c\",\n",
    "        \"Account__c\",\n",
    "    ]\n",
    "]\n",
    "ficha_Orientacion[\"clinica\"] = \"Orientación Médica\"\n",
    "ficha_Orientacion = ficha_Orientacion.rename(\n",
    "    columns={\n",
    "        \"Name\": \"Codigo Ficha\",\n",
    "        \"Rut__c\": \"Rut\",\n",
    "        \"Nombre_Empresa__c\": \"Empleador\",\n",
    "        \"CreatedDate\": \"Fecha\",\n",
    "        \"Canal__c\": \"Canal\",\n",
    "        \"Empresa__c\": \"Cod. Empresa\",\n",
    "        \"Account__c\": \"Id Paciente\",\n",
    "        \"clinica\": \"Clínica\",\n",
    "    }\n",
    ")\n",
    "ficha_Orientacion.shape"
   ]
  },
  {
   "cell_type": "code",
   "execution_count": null,
   "metadata": {},
   "outputs": [
    {
     "data": {
      "text/plain": [
       "(831, 8)"
      ]
     },
     "metadata": {},
     "output_type": "display_data"
    }
   ],
   "source": [
    "# Clinica Front\n",
    "results = sf.query_all(\n",
    "    \"\"\"\n",
    "   select  Name, RUT__c, Nombre_Empresa__c, CreatedDate, Canal__c, Empresa__c, Account__c from Ficha_Front__c     \n",
    "     \"\"\"\n",
    ")\n",
    "ficha_Front = pd.DataFrame(results[\"records\"])\n",
    "\n",
    "ficha_Front = ficha_Front[\n",
    "    [\n",
    "        \"Name\",\n",
    "        \"Rut__c\",\n",
    "        \"Nombre_Empresa__c\",\n",
    "        \"CreatedDate\",\n",
    "        \"Canal__c\",\n",
    "        \"Empresa__c\",\n",
    "        \"Account__c\",\n",
    "    ]\n",
    "]\n",
    "ficha_Front[\"clinica\"] = \"Orientación Médica\"\n",
    "ficha_Front = ficha_Front.rename(\n",
    "    columns={\n",
    "        \"Name\": \"Codigo Ficha\",\n",
    "        \"Rut__c\": \"Rut\",\n",
    "        \"Nombre_Empresa__c\": \"Empleador\",\n",
    "        \"CreatedDate\": \"Fecha\",\n",
    "        \"Canal__c\": \"Canal\",\n",
    "        \"Empresa__c\": \"Cod. Empresa\",\n",
    "        \"Account__c\": \"Id Paciente\",\n",
    "        \"clinica\": \"Clínica\",\n",
    "    }\n",
    ")\n",
    "ficha_Front.shape"
   ]
  },
  {
   "cell_type": "code",
   "execution_count": null,
   "metadata": {},
   "outputs": [
    {
     "data": {
      "text/plain": [
       "(1645, 8)"
      ]
     },
     "metadata": {},
     "output_type": "display_data"
    }
   ],
   "source": [
    "#Clinica_general\n",
    "results = sf.query_all(\n",
    "    \"\"\"\n",
    "   select  Name, RUT__c, Nombre_Empresa__c, CreatedDate, Canal__c, Empresa__c,Account__c,   Programa__c   from Ficha_Clinica_General__c \n",
    "     \"\"\"\n",
    ")\n",
    "ficha_general = pd.DataFrame(results[\"records\"])\n",
    "\n",
    "ficha_general = ficha_general[\n",
    "    [\n",
    "        \"Name\",\n",
    "        \"Rut__c\",\n",
    "        \"Nombre_Empresa__c\",\n",
    "        \"CreatedDate\",\n",
    "        \"Canal__c\",\n",
    "        \"Empresa__c\",\n",
    "        \"Account__c\",\n",
    "        'Programa__c'\n",
    "        \n",
    "    ]\n",
    "]\n",
    "\n",
    "ficha_general = ficha_general.rename(\n",
    "    columns={\n",
    "        \"Name\": \"Codigo Ficha\",\n",
    "        \"Rut__c\": \"Rut\",\n",
    "        \"Nombre_Empresa__c\": \"Empleador\",\n",
    "        \"CreatedDate\": \"Fecha\",\n",
    "        \"Canal__c\": \"Canal\",\n",
    "        \"Empresa__c\": \"Cod. Empresa\",\n",
    "        \"Account__c\": \"Id Paciente\",        \n",
    "        'Programa__c':'Clínica'\n",
    "    }\n",
    ")\n",
    "ficha_general.shape\n"
   ]
  },
  {
   "cell_type": "code",
   "execution_count": null,
   "metadata": {},
   "outputs": [
    {
     "data": {
      "text/plain": [
       "(264, 8)"
      ]
     },
     "metadata": {},
     "output_type": "display_data"
    }
   ],
   "source": [
    "#Clinica Ingreso deportivo\n",
    "results = sf.query_all(\n",
    "    \"\"\"\n",
    "   select  Name, RUT__c, Nombre_Empresa__c, CreatedDate, Canal__c, Empresa__c, Account__c from Ficha_Cl_nica_Ingreso_Deportivo__c    \n",
    "     \"\"\"\n",
    ")\n",
    "ficha_Ingreso_dep = pd.DataFrame(results[\"records\"])\n",
    "\n",
    "ficha_Ingreso_dep = ficha_Ingreso_dep[\n",
    "    [\n",
    "        \"Name\",\n",
    "        \"Rut__c\",\n",
    "        \"Nombre_Empresa__c\",\n",
    "        \"CreatedDate\",\n",
    "        \"Canal__c\",\n",
    "        \"Empresa__c\",\n",
    "        \"Account__c\",\n",
    "        \n",
    "    ]\n",
    "]\n",
    "ficha_Ingreso_dep['clinica'] = 'Ingreso Deporte Seguro'\n",
    "ficha_Ingreso_dep = ficha_Ingreso_dep.rename(\n",
    "    columns={\n",
    "        \"Name\": \"Codigo Ficha\",\n",
    "        \"Rut__c\": \"Rut\",\n",
    "        \"Nombre_Empresa__c\": \"Empleador\",\n",
    "        \"CreatedDate\": \"Fecha\",\n",
    "        \"Canal__c\": \"Canal\",\n",
    "        \"Empresa__c\": \"Cod. Empresa\",\n",
    "        \"Account__c\": \"Id Paciente\",\n",
    "        'clinica':'Clínica'\n",
    "    }\n",
    ")\n",
    "ficha_Ingreso_dep.shape"
   ]
  },
  {
   "cell_type": "code",
   "execution_count": null,
   "metadata": {},
   "outputs": [
    {
     "data": {
      "text/plain": [
       "(16622, 9)"
      ]
     },
     "metadata": {},
     "output_type": "display_data"
    }
   ],
   "source": [
    "Clinicas = pd.concat([ficha_Front, ficha_Ingreso_dep,ficha_Orientacion,ficha_Veterinaria,ficha_Telemedicina,ficha_Cronico,ficha_Sueno,ficha_Psicologia,ficha_Apssex,ficha_nutricion,ficha_deporte,ficha_general], axis=0)\n",
    "Clinicas.shape"
   ]
  },
  {
   "cell_type": "code",
   "execution_count": null,
   "metadata": {},
   "outputs": [
    {
     "data": {
      "text/plain": [
       "(41666, 9)"
      ]
     },
     "metadata": {},
     "output_type": "display_data"
    }
   ],
   "source": [
    "Reortes_general = pd.concat([Clinicas,Gran_Citas_deservicio ], axis=0)\n",
    "Reortes_general.shape"
   ]
  }
 ],
 "metadata": {
  "language_info": {
   "name": "python"
  },
  "orig_nbformat": 4
 },
 "nbformat": 4,
 "nbformat_minor": 2
}
