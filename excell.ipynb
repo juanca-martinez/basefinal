{
 "cells": [
  {
   "cell_type": "code",
   "execution_count": null,
   "metadata": {},
   "outputs": [],
   "source": [
    "import pandas as pd\n",
    "import numpy as np"
   ]
  },
  {
   "cell_type": "code",
   "execution_count": null,
   "metadata": {},
   "outputs": [],
   "source": [
    "empresas = (\"F:/SalesForce/Carga Empresas/Empresas.xlsx\")\n",
    "clinicas = (\"F:/SalesForce/Carga Empresas/Clinicas MetLife.xlsx\")\n",
    "salida = (\"F:/SalesForce/Carga Empresas/salida.xlsx\")"
   ]
  },
  {
   "cell_type": "code",
   "execution_count": null,
   "metadata": {},
   "outputs": [],
   "source": [
    "\n",
    "derty = pd.read_excel(empresas)\n",
    "df = pd.read_excel(clinicas)\n",
    "total = pd.DataFrame(columns=['Account__c', 'Work_Type_Group__c'])"
   ]
  },
  {
   "cell_type": "code",
   "execution_count": null,
   "metadata": {},
   "outputs": [],
   "source": [
    "df.head(10)"
   ]
  },
  {
   "cell_type": "code",
   "execution_count": null,
   "metadata": {},
   "outputs": [],
   "source": [
    "#total = pd.merge(left=derty,right=df,  how='outer',on='Id')"
   ]
  },
  {
   "cell_type": "code",
   "execution_count": null,
   "metadata": {},
   "outputs": [],
   "source": [
    "a = 0\n",
    "for i in range(len(derty)):\n",
    "    \n",
    "    for k in range(len(df)):\n",
    "        print (derty.iloc[i])\n",
    "        print (df.iloc[k])\n",
    "        #total.iloc[0:a] = derty.iloc[i]\n",
    "\n",
    "        total.loc[a]=  [derty.iloc[i]['Id'],df.iloc[k]['Id']]\n",
    "        #total.append['uno']=  df.iloc[k]['Id']\n",
    "        #total[a]['dos'] = df.iloc[k]['Id']\n",
    "        #total.append(col[i] + col[i + 1])\n",
    "        a = a+1"
   ]
  },
  {
   "cell_type": "code",
   "execution_count": null,
   "metadata": {},
   "outputs": [],
   "source": [
    "total.to_excel(salida, index=False)\n",
    "total.head(30)"
   ]
  },
  {
   "cell_type": "code",
   "execution_count": null,
   "metadata": {},
   "outputs": [],
   "source": []
  }
 ],
 "metadata": {
  "kernelspec": {
   "display_name": "salesforce",
   "language": "python",
   "name": "python3"
  },
  "language_info": {
   "codemirror_mode": {
    "name": "ipython",
    "version": 3
   },
   "file_extension": ".py",
   "mimetype": "text/x-python",
   "name": "python",
   "nbconvert_exporter": "python",
   "pygments_lexer": "ipython3",
   "version": "3.10.8"
  },
  "orig_nbformat": 4,
  "vscode": {
   "interpreter": {
    "hash": "7fbccfb583f385d5cd7c75cc6ade03c09354727271e9200f47ca4e7fedb5381e"
   }
  }
 },
 "nbformat": 4,
 "nbformat_minor": 2
}
