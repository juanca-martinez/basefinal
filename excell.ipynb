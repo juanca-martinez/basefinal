{
 "cells": [
  {
   "cell_type": "code",
   "execution_count": 22,
   "metadata": {},
   "outputs": [],
   "source": [
    "import pandas as pd\n",
    "import numpy as np"
   ]
  },
  {
   "cell_type": "code",
   "execution_count": 23,
   "metadata": {},
   "outputs": [],
   "source": [
    "empresas = (\"F:/SalesForce/Carga Empresas/Empresas.xlsx\")\n",
    "clinicas = (\"F:/SalesForce/Carga Empresas/Clinicas MetLife.xlsx\")\n",
    "salida = (\"F:/SalesForce/Carga Empresas/salida.xlsx\")"
   ]
  },
  {
   "cell_type": "code",
   "execution_count": 24,
   "metadata": {},
   "outputs": [],
   "source": [
    "\n",
    "derty = pd.read_excel(empresas)\n",
    "df = pd.read_excel(clinicas)\n",
    "total = pd.DataFrame(columns=['Account__c', 'Work_Type_Group__c'])"
   ]
  },
  {
   "cell_type": "code",
   "execution_count": 25,
   "metadata": {},
   "outputs": [
    {
     "data": {
      "text/html": [
       "<div>\n",
       "<style scoped>\n",
       "    .dataframe tbody tr th:only-of-type {\n",
       "        vertical-align: middle;\n",
       "    }\n",
       "\n",
       "    .dataframe tbody tr th {\n",
       "        vertical-align: top;\n",
       "    }\n",
       "\n",
       "    .dataframe thead th {\n",
       "        text-align: right;\n",
       "    }\n",
       "</style>\n",
       "<table border=\"1\" class=\"dataframe\">\n",
       "  <thead>\n",
       "    <tr style=\"text-align: right;\">\n",
       "      <th></th>\n",
       "      <th>Id</th>\n",
       "    </tr>\n",
       "  </thead>\n",
       "  <tbody>\n",
       "    <tr>\n",
       "      <th>0</th>\n",
       "      <td>0VS8c0000005Ya0GAE</td>\n",
       "    </tr>\n",
       "    <tr>\n",
       "      <th>1</th>\n",
       "      <td>0VS8c0000005YZvGAM</td>\n",
       "    </tr>\n",
       "    <tr>\n",
       "      <th>2</th>\n",
       "      <td>0VS8c0000005YaAGAU</td>\n",
       "    </tr>\n",
       "    <tr>\n",
       "      <th>3</th>\n",
       "      <td>0VS8c0000005YewGAE</td>\n",
       "    </tr>\n",
       "  </tbody>\n",
       "</table>\n",
       "</div>"
      ],
      "text/plain": [
       "                   Id\n",
       "0  0VS8c0000005Ya0GAE\n",
       "1  0VS8c0000005YZvGAM\n",
       "2  0VS8c0000005YaAGAU\n",
       "3  0VS8c0000005YewGAE"
      ]
     },
     "execution_count": 25,
     "metadata": {},
     "output_type": "execute_result"
    }
   ],
   "source": [
    "df.head(10)"
   ]
  },
  {
   "cell_type": "code",
   "execution_count": 26,
   "metadata": {},
   "outputs": [],
   "source": [
    "#total = pd.merge(left=derty,right=df,  how='outer',on='Id')"
   ]
  },
  {
   "cell_type": "code",
   "execution_count": 27,
   "metadata": {},
   "outputs": [
    {
     "name": "stdout",
     "output_type": "stream",
     "text": [
      "Id    0018c00002kBFREAA4\n",
      "Name: 0, dtype: object\n",
      "Id    0VS8c0000005Ya0GAE\n",
      "Name: 0, dtype: object\n",
      "Id    0018c00002kBFREAA4\n",
      "Name: 0, dtype: object\n",
      "Id    0VS8c0000005YZvGAM\n",
      "Name: 1, dtype: object\n",
      "Id    0018c00002kBFREAA4\n",
      "Name: 0, dtype: object\n",
      "Id    0VS8c0000005YaAGAU\n",
      "Name: 2, dtype: object\n",
      "Id    0018c00002kBFREAA4\n",
      "Name: 0, dtype: object\n",
      "Id    0VS8c0000005YewGAE\n",
      "Name: 3, dtype: object\n",
      "Id    0018c00002kBFRFAA4\n",
      "Name: 1, dtype: object\n",
      "Id    0VS8c0000005Ya0GAE\n",
      "Name: 0, dtype: object\n",
      "Id    0018c00002kBFRFAA4\n",
      "Name: 1, dtype: object\n",
      "Id    0VS8c0000005YZvGAM\n",
      "Name: 1, dtype: object\n",
      "Id    0018c00002kBFRFAA4\n",
      "Name: 1, dtype: object\n",
      "Id    0VS8c0000005YaAGAU\n",
      "Name: 2, dtype: object\n",
      "Id    0018c00002kBFRFAA4\n",
      "Name: 1, dtype: object\n",
      "Id    0VS8c0000005YewGAE\n",
      "Name: 3, dtype: object\n"
     ]
    }
   ],
   "source": [
    "a = 0\n",
    "for i in range(len(derty)):\n",
    "    \n",
    "    for k in range(len(df)):\n",
    "        print (derty.iloc[i])\n",
    "        print (df.iloc[k])\n",
    "        #total.iloc[0:a] = derty.iloc[i]\n",
    "\n",
    "        total.loc[a]=  [derty.iloc[i]['Id'],df.iloc[k]['Id']]\n",
    "        #total.append['uno']=  df.iloc[k]['Id']\n",
    "        #total[a]['dos'] = df.iloc[k]['Id']\n",
    "        #total.append(col[i] + col[i + 1])\n",
    "        a = a+1"
   ]
  },
  {
   "cell_type": "code",
   "execution_count": 28,
   "metadata": {},
   "outputs": [
    {
     "data": {
      "text/html": [
       "<div>\n",
       "<style scoped>\n",
       "    .dataframe tbody tr th:only-of-type {\n",
       "        vertical-align: middle;\n",
       "    }\n",
       "\n",
       "    .dataframe tbody tr th {\n",
       "        vertical-align: top;\n",
       "    }\n",
       "\n",
       "    .dataframe thead th {\n",
       "        text-align: right;\n",
       "    }\n",
       "</style>\n",
       "<table border=\"1\" class=\"dataframe\">\n",
       "  <thead>\n",
       "    <tr style=\"text-align: right;\">\n",
       "      <th></th>\n",
       "      <th>Account__c</th>\n",
       "      <th>Work_Type_Group__c</th>\n",
       "    </tr>\n",
       "  </thead>\n",
       "  <tbody>\n",
       "    <tr>\n",
       "      <th>0</th>\n",
       "      <td>0018c00002kBFREAA4</td>\n",
       "      <td>0VS8c0000005Ya0GAE</td>\n",
       "    </tr>\n",
       "    <tr>\n",
       "      <th>1</th>\n",
       "      <td>0018c00002kBFREAA4</td>\n",
       "      <td>0VS8c0000005YZvGAM</td>\n",
       "    </tr>\n",
       "    <tr>\n",
       "      <th>2</th>\n",
       "      <td>0018c00002kBFREAA4</td>\n",
       "      <td>0VS8c0000005YaAGAU</td>\n",
       "    </tr>\n",
       "    <tr>\n",
       "      <th>3</th>\n",
       "      <td>0018c00002kBFREAA4</td>\n",
       "      <td>0VS8c0000005YewGAE</td>\n",
       "    </tr>\n",
       "    <tr>\n",
       "      <th>4</th>\n",
       "      <td>0018c00002kBFRFAA4</td>\n",
       "      <td>0VS8c0000005Ya0GAE</td>\n",
       "    </tr>\n",
       "    <tr>\n",
       "      <th>5</th>\n",
       "      <td>0018c00002kBFRFAA4</td>\n",
       "      <td>0VS8c0000005YZvGAM</td>\n",
       "    </tr>\n",
       "    <tr>\n",
       "      <th>6</th>\n",
       "      <td>0018c00002kBFRFAA4</td>\n",
       "      <td>0VS8c0000005YaAGAU</td>\n",
       "    </tr>\n",
       "    <tr>\n",
       "      <th>7</th>\n",
       "      <td>0018c00002kBFRFAA4</td>\n",
       "      <td>0VS8c0000005YewGAE</td>\n",
       "    </tr>\n",
       "  </tbody>\n",
       "</table>\n",
       "</div>"
      ],
      "text/plain": [
       "           Account__c  Work_Type_Group__c\n",
       "0  0018c00002kBFREAA4  0VS8c0000005Ya0GAE\n",
       "1  0018c00002kBFREAA4  0VS8c0000005YZvGAM\n",
       "2  0018c00002kBFREAA4  0VS8c0000005YaAGAU\n",
       "3  0018c00002kBFREAA4  0VS8c0000005YewGAE\n",
       "4  0018c00002kBFRFAA4  0VS8c0000005Ya0GAE\n",
       "5  0018c00002kBFRFAA4  0VS8c0000005YZvGAM\n",
       "6  0018c00002kBFRFAA4  0VS8c0000005YaAGAU\n",
       "7  0018c00002kBFRFAA4  0VS8c0000005YewGAE"
      ]
     },
     "execution_count": 28,
     "metadata": {},
     "output_type": "execute_result"
    }
   ],
   "source": [
    "total.to_excel(salida, index=False)\n",
    "total.head(30)"
   ]
  },
  {
   "cell_type": "code",
   "execution_count": null,
   "metadata": {},
   "outputs": [],
   "source": []
  }
 ],
 "metadata": {
  "kernelspec": {
   "display_name": "salesforce",
   "language": "python",
   "name": "python3"
  },
  "language_info": {
   "codemirror_mode": {
    "name": "ipython",
    "version": 3
   },
   "file_extension": ".py",
   "mimetype": "text/x-python",
   "name": "python",
   "nbconvert_exporter": "python",
   "pygments_lexer": "ipython3",
   "version": "3.10.8"
  },
  "orig_nbformat": 4,
  "vscode": {
   "interpreter": {
    "hash": "7fbccfb583f385d5cd7c75cc6ade03c09354727271e9200f47ca4e7fedb5381e"
   }
  }
 },
 "nbformat": 4,
 "nbformat_minor": 2
}
