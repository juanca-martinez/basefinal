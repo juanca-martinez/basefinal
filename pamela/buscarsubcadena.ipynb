{
 "cells": [
  {
   "cell_type": "code",
   "execution_count": 3,
   "metadata": {},
   "outputs": [],
   "source": [
    "import pandas as pd"
   ]
  },
  {
   "cell_type": "code",
   "execution_count": 12,
   "metadata": {},
   "outputs": [
    {
     "data": {
      "text/plain": [
       "<bound method NDFrame.head of         NOMBRE        APELLIDO                            CARGO  \\\n",
       "0      Marcela            Hein            Total Rewards Manager   \n",
       "1      Osvaldo           Acuña                GERENTE PERSONAS    \n",
       "2      Paulina            Toro        Subgerente Compensaciones   \n",
       "3        FABIO  ALFIERI ARAUJO          SR Compensation Manager   \n",
       "4      Natalia        Sandoval                              C&B   \n",
       "..         ...             ...                              ...   \n",
       "831        Hug            Ruiz                VP COMPENSACIONES   \n",
       "832  Alejandro          Batres                 Gerente Comecial   \n",
       "833   Carolina    Díaz Infante                      Sub gerente   \n",
       "834      Pablo          Prieto                Jefe compensacion   \n",
       "835       Luz        Martínez   Subgerente Proposition Empresas   \n",
       "\n",
       "           empresas                          CORREO  \n",
       "0                3M                   mhein@mmm.com  \n",
       "1    Abastible S.A.      osvaldo.acuna@abastible.cl  \n",
       "2    Abastible S.A.       paulina.toro@abastible.cl  \n",
       "3               Abb         FABIO.ARAUJO@BR.ABB.COM  \n",
       "4            Abbott     natalia.sandoval@abbott.com  \n",
       "..              ...                             ...  \n",
       "831        Zucarmex              Hruiz@zucarmex.com  \n",
       "832          Zurich  alejandro.batres@mx.zurich.com  \n",
       "833          Zurich        Carolina.diaz@zurich.com  \n",
       "834          Zurich         pablo.prieto@zurich.con  \n",
       "835          Zurich   luz.maria.martinez@zurich.com  \n",
       "\n",
       "[836 rows x 5 columns]>"
      ]
     },
     "execution_count": 12,
     "metadata": {},
     "output_type": "execute_result"
    }
   ],
   "source": [
    "archivo = \"C:/Users/jmartinez/Desktop/pamela/empresa_pamela.xlsx\"\n",
    "df1 = pd.read_excel(archivo)\n",
    "df1.shape\n",
    "df1.head\n"
   ]
  },
  {
   "cell_type": "code",
   "execution_count": 8,
   "metadata": {},
   "outputs": [
    {
     "data": {
      "text/plain": [
       "<bound method NDFrame.head of                                   empresas  0\n",
       "0       \"Apunto\" Servicios De Alimentacion  1\n",
       "1                                     #N/D  1\n",
       "2                                       --  1\n",
       "3                                     ....  1\n",
       "4                      ...................  1\n",
       "...                                    ... ..\n",
       "6829           Zona Franca De Iquique S.A.  1\n",
       "6830                     Zubale Chile Spa.  1\n",
       "6831  Zublin International Gmbh Chile Spa.  1\n",
       "6832                                Zurich  1\n",
       "6833                        Ñanco Mix Spa.  1\n",
       "\n",
       "[6834 rows x 2 columns]>"
      ]
     },
     "execution_count": 8,
     "metadata": {},
     "output_type": "execute_result"
    }
   ],
   "source": [
    "archivo2 = \"C:/Users/jmartinez/Desktop/pamela/empresa_todas.xlsx\"\n",
    "df2 = pd.read_excel(archivo2)\n",
    "df2.shape\n",
    "df2.head"
   ]
  },
  {
   "cell_type": "code",
   "execution_count": null,
   "metadata": {},
   "outputs": [],
   "source": []
  }
 ],
 "metadata": {
  "kernelspec": {
   "display_name": "Python 3.10.6 ('Mito')",
   "language": "python",
   "name": "python3"
  },
  "language_info": {
   "codemirror_mode": {
    "name": "ipython",
    "version": 3
   },
   "file_extension": ".py",
   "mimetype": "text/x-python",
   "name": "python",
   "nbconvert_exporter": "python",
   "pygments_lexer": "ipython3",
   "version": "3.10.6"
  },
  "orig_nbformat": 4,
  "vscode": {
   "interpreter": {
    "hash": "8ca7c6c0b372e79d1b046e97089bf0eca059102913bf5fbce589f25f1f28c438"
   }
  }
 },
 "nbformat": 4,
 "nbformat_minor": 2
}
