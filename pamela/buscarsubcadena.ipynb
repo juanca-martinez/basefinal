{
 "cells": [
  {
   "cell_type": "code",
   "execution_count": 20,
   "metadata": {},
   "outputs": [],
   "source": [
    "import pandas as pd"
   ]
  },
  {
   "cell_type": "code",
   "execution_count": 21,
   "metadata": {},
   "outputs": [
    {
     "data": {
      "text/plain": [
       "<bound method NDFrame.head of         NOMBRE        APELLIDO                            CARGO  \\\n",
       "0      Marcela            Hein            Total Rewards Manager   \n",
       "1      Osvaldo           Acuña                GERENTE PERSONAS    \n",
       "2      Paulina            Toro        Subgerente Compensaciones   \n",
       "3        FABIO  ALFIERI ARAUJO          SR Compensation Manager   \n",
       "4      Natalia        Sandoval                              C&B   \n",
       "..         ...             ...                              ...   \n",
       "831        Hug            Ruiz                VP COMPENSACIONES   \n",
       "832  Alejandro          Batres                 Gerente Comecial   \n",
       "833   Carolina    Díaz Infante                      Sub gerente   \n",
       "834      Pablo          Prieto                Jefe compensacion   \n",
       "835       Luz        Martínez   Subgerente Proposition Empresas   \n",
       "\n",
       "           empresas                          CORREO  dfdfd  \n",
       "0                3m                   mhein@mmm.com    NaN  \n",
       "1    abastible s.a.      osvaldo.acuna@abastible.cl    1.0  \n",
       "2    abastible s.a.       paulina.toro@abastible.cl    1.0  \n",
       "3               abb         FABIO.ARAUJO@BR.ABB.COM    1.0  \n",
       "4            abbott     natalia.sandoval@abbott.com    NaN  \n",
       "..              ...                             ...    ...  \n",
       "831        zucarmex              Hruiz@zucarmex.com    NaN  \n",
       "832          zurich  alejandro.batres@mx.zurich.com    1.0  \n",
       "833          zurich        Carolina.diaz@zurich.com    1.0  \n",
       "834          zurich         pablo.prieto@zurich.con    1.0  \n",
       "835          zurich   luz.maria.martinez@zurich.com    1.0  \n",
       "\n",
       "[836 rows x 6 columns]>"
      ]
     },
     "execution_count": 21,
     "metadata": {},
     "output_type": "execute_result"
    }
   ],
   "source": [
    "archivo = \"C:/Users/jmartinez/Desktop/pamela/empresa_pamela.xlsx\"\n",
    "df1 = pd.read_excel(archivo)\n",
    "df1['empresas'] = df1.empresas.str.lower()\n",
    "\n",
    "df1.shape\n",
    "df1.head\n"
   ]
  },
  {
   "cell_type": "code",
   "execution_count": 22,
   "metadata": {},
   "outputs": [
    {
     "data": {
      "text/plain": [
       "<bound method NDFrame.head of                                   empresas  0\n",
       "0       \"apunto\" servicios de alimentacion  1\n",
       "1                                     #n/d  1\n",
       "2                                       --  1\n",
       "3                                     ....  1\n",
       "4                      ...................  1\n",
       "...                                    ... ..\n",
       "6829           zona franca de iquique s.a.  1\n",
       "6830                     zubale chile spa.  1\n",
       "6831  zublin international gmbh chile spa.  1\n",
       "6832                                zurich  1\n",
       "6833                        ñanco mix spa.  1\n",
       "\n",
       "[6834 rows x 2 columns]>"
      ]
     },
     "execution_count": 22,
     "metadata": {},
     "output_type": "execute_result"
    }
   ],
   "source": [
    "archivo2 = \"C:/Users/jmartinez/Desktop/pamela/empresa_todas.xlsx\"\n",
    "df2 = pd.read_excel(archivo2)\n",
    "df2.empresas = df2.empresas.str.lower()\n",
    "df2.shape\n",
    "df2.head"
   ]
  },
  {
   "cell_type": "markdown",
   "metadata": {},
   "source": [
    "**Empresas Pamela**"
   ]
  },
  {
   "cell_type": "code",
   "execution_count": 23,
   "metadata": {},
   "outputs": [],
   "source": [
    "otra = df1[\"empresas\"].str.split(expand=True)\n",
    "otra.columns = ['aa','bb','cc','dd','ee','ff','gg','hh','ii']"
   ]
  },
  {
   "cell_type": "code",
   "execution_count": 24,
   "metadata": {},
   "outputs": [
    {
     "data": {
      "text/html": [
       "<div><div id=0028bf8a-22bc-4f7e-a426-0d0776ca0768 style=\"display:none; background-color:#9D6CFF; color:white; width:200px; height:30px; padding-left:5px; border-radius:4px; flex-direction:row; justify-content:space-around; align-items:center;\" onmouseover=\"this.style.backgroundColor='#BA9BF8'\" onmouseout=\"this.style.backgroundColor='#9D6CFF'\" onclick=\"window.commands?.execute('create-mitosheet-from-dataframe-output');\">See Full Dataframe in Mito</div> <script> if (window.commands?.hasCommand('create-mitosheet-from-dataframe-output')) document.getElementById('0028bf8a-22bc-4f7e-a426-0d0776ca0768').style.display = 'flex' </script> <table border=\"1\" class=\"dataframe\">\n",
       "  <thead>\n",
       "    <tr style=\"text-align: right;\">\n",
       "      <th></th>\n",
       "      <th>aa</th>\n",
       "      <th>bb</th>\n",
       "      <th>cc</th>\n",
       "      <th>dd</th>\n",
       "      <th>ee</th>\n",
       "      <th>ff</th>\n",
       "      <th>gg</th>\n",
       "      <th>hh</th>\n",
       "      <th>ii</th>\n",
       "    </tr>\n",
       "  </thead>\n",
       "  <tbody>\n",
       "    <tr>\n",
       "      <th>0</th>\n",
       "      <td>3m</td>\n",
       "      <td>None</td>\n",
       "      <td>None</td>\n",
       "      <td>None</td>\n",
       "      <td>None</td>\n",
       "      <td>None</td>\n",
       "      <td>None</td>\n",
       "      <td>None</td>\n",
       "      <td>None</td>\n",
       "    </tr>\n",
       "    <tr>\n",
       "      <th>1</th>\n",
       "      <td>abastible</td>\n",
       "      <td>s.a.</td>\n",
       "      <td>None</td>\n",
       "      <td>None</td>\n",
       "      <td>None</td>\n",
       "      <td>None</td>\n",
       "      <td>None</td>\n",
       "      <td>None</td>\n",
       "      <td>None</td>\n",
       "    </tr>\n",
       "    <tr>\n",
       "      <th>2</th>\n",
       "      <td>abastible</td>\n",
       "      <td>s.a.</td>\n",
       "      <td>None</td>\n",
       "      <td>None</td>\n",
       "      <td>None</td>\n",
       "      <td>None</td>\n",
       "      <td>None</td>\n",
       "      <td>None</td>\n",
       "      <td>None</td>\n",
       "    </tr>\n",
       "    <tr>\n",
       "      <th>3</th>\n",
       "      <td>abb</td>\n",
       "      <td>None</td>\n",
       "      <td>None</td>\n",
       "      <td>None</td>\n",
       "      <td>None</td>\n",
       "      <td>None</td>\n",
       "      <td>None</td>\n",
       "      <td>None</td>\n",
       "      <td>None</td>\n",
       "    </tr>\n",
       "    <tr>\n",
       "      <th>4</th>\n",
       "      <td>abbott</td>\n",
       "      <td>None</td>\n",
       "      <td>None</td>\n",
       "      <td>None</td>\n",
       "      <td>None</td>\n",
       "      <td>None</td>\n",
       "      <td>None</td>\n",
       "      <td>None</td>\n",
       "      <td>None</td>\n",
       "    </tr>\n",
       "  </tbody>\n",
       "</table></div>"
      ],
      "text/plain": [
       "          aa    bb    cc    dd    ee    ff    gg    hh    ii\n",
       "0         3m  None  None  None  None  None  None  None  None\n",
       "1  abastible  s.a.  None  None  None  None  None  None  None\n",
       "2  abastible  s.a.  None  None  None  None  None  None  None\n",
       "3        abb  None  None  None  None  None  None  None  None\n",
       "4     abbott  None  None  None  None  None  None  None  None"
      ]
     },
     "execution_count": 24,
     "metadata": {},
     "output_type": "execute_result"
    }
   ],
   "source": [
    "otra.head()"
   ]
  },
  {
   "cell_type": "code",
   "execution_count": 26,
   "metadata": {},
   "outputs": [
    {
     "name": "stdout",
     "output_type": "stream",
     "text": [
      "['3m', 'abastible', 'abastible', 'abb', 'abbott', 'accenture', 'accor', 'acdi', 'achs', 'achs', 'acl', 'aconcagua', 'addval', 'addval', 'addval', 'aeg', 'aes', 'afc', 'agricola', 'agricom', 'agrospec', 'agrospec', 'agrospec', 'agrosuper', 'agrosuper', 'agrosuper', 'agrosuper', 'aguas', 'aiep', 'aislapol', 'aislapol', 'akzio', 'alc', 'alfapeople', 'aliservice', 'alma', 'alog', 'alpek', 'alsea', 'alsea', 'alsea', 'alstom', 'amcor', 'americar', 'ameris', 'ameris', 'ampacet', 'ampacet', 'anglo', 'antofagasta', 'antofagasta', 'apiux', 'applus', 'applus', 'applus', 'applus', 'aquachile', 'arauco', 'arcadis', 'arcadis', 'ariztia', 'ariztia', 'ariztia', 'ariztia', 'ascensores', 'assa', 'assa', 'associated', 'assurant', 'atento', 'atento', 'atento', 'atlas', 'aurys', 'autofin', 'autofin', 'autofin', 'autopista', 'avellaneda', 'avery', 'b', 'b&m', 'banchile', 'banchile', 'banchile', 'banco', 'banco', 'banco', 'banco', 'banco', 'banmedica', 'basf', 'bat', 'bata', 'bayer', 'bci', 'bci', 'bci', 'bci', 'bci', 'bci', 'bci', 'bci', 'bci', 'belltech', 'besalco', 'bestrategy', 'betterfly', 'betterfly', 'betterfly', 'betterfly', 'bhp', 'bhp', 'biomar', 'black', 'bmi', 'boehringer', 'bp', 'bradford', 'bridgestone', 'bridgestone', 'brighstar', 'bristol', 'bristol', 'bristol', 'bronor', 'browne', 'btg', 'btg', 'btg', 'budnik', 'bupa', 'bureau', 'bureau', 'caja', 'caja', 'camara', 'camposol', 'camposol', 'cardinal', 'care', 'care', 'care', 'care', 'care', 'care', 'casa', 'ccaf', 'cchc', 'cchc', 'ccu', 'ccu', 'cementos', 'cementos', 'cementos', 'cementos', 'cencosud', 'cencosud', 'cencosud', 'cencosud', 'cencosud', 'centro', 'cerveceria', 'cge', 'chep', 'chimu', 'cia.de', 'cibergestion', 'cinepolis', 'cinepolis', 'cinepolis', 'cj', 'clear2pay', 'cleo', 'cmpc', 'cmpc', 'cmpc', 'cmpc', 'cmpc', 'cmpc-', 'coca', 'coca-cola', 'colbun', 'colbun', 'colbun', 'colgate', 'colgate', 'comercial', 'comercializadora', 'comision', 'compañia', 'compañias', 'compañias', 'constructora', 'consultora', 'contempora', 'continuum', 'coopeuch', 'corporacion', 'corporacion', 'corporacion', 'criteria', 'criteria', 'crystal', 'cummins', 'd&c', 'david', 'dc', 'dcv', 'dedalus', 'deel', 'dell', 'dell', 'dell', 'dell', 'deloitte', 'despegar', 'dh', 'diageo', 'diaverum', 'dimerc', 'directv', 'directv', 'dole', 'dole', 'drager', 'dräger', 'drimo', 'duoc', 'eaton', 'ebco', 'ebco', 'ebco', 'ebg', 'ebg', 'ecoandina', 'edf', 'edp', 'efe', 'efe', 'efizity', 'eli', 'emin', 'emin', 'emin', 'emin', 'empresa', 'empresa', 'empresas', 'empresas', 'empresas', 'empresas', 'empresas', 'empresas', 'empresas', 'enaex', 'enap', 'encora', 'enel', 'energy', 'energy', 'energy', 'energy', 'engie', 'entel', 'entel', 'envacar', 'e-press', 'e-press', 'epson', 'equifax', 'escuela', 'esd', 'essbio', 'essbio', 'essity', 'essity', 'estee', 'estee', 'eurocorp', 'eurocorp', 'eurocorp', 'eurocorp', 'eurocorp', 'eurofarma', 'eurofarma', 'eurofarma', 'euroholding', 'evernote', 'exeltis', 'experian', 'experian', 'experian', 'ey', 'ey', 'ey', 'fabula', 'falabella', 'falabella', 'falabella', 'falabella', 'falabella', 'falabella', 'falabella', 'falabella', 'falabella', 'favima', 'favima', 'fcab', 'fedex', 'festo', 'fid', 'finning', 'finning', 'finning', 'finning', 'flekk', 'food', 'forum', 'fosforos', 'fqm', 'fracttal', 'fresenius', 'fresenius', 'fresenius', 'fresenius', 'fresenius', 'frgroup', 'frigorifico', 'fruticola', 'fundacion', 'fundacion', 'fynsa', 'g&nbrands', 'g4', 'gama', 'garmendia', 'gasmar', 'gemco', 'generadora', 'geodis', 'gestion', 'gildemeister', 'givaudan', 'global', 'gnl', 'godrej', 'godrej', 'godrej', 'godrej', 'goldenfrost', 'goldenfrost', 'goldenfrost', 'goodyear', 'gp', 'groundprobe', 'grubdfos', 'grünenthal', 'grupo', 'grupo', 'grupo', 'grupo', 'grupo', 'grupo', 'grupo', 'grupo', 'grupo', 'grupo', 'grupo', 'grupo', 'guerbet', 'halliburton', 'hilit', 'hl', 'hocol', 'hortifrut', 'hpdm', 'huntme', 'iansa', 'icv', 'ide', 'ide', 'ideal', 'ideal', 'ideal', 'ifop', 'ifop', 'ika', 'ika', 'inacap', 'inacap', 'inalde', 'inchalam', 'independiente', 'independiente', 'independiente', 'independiente', 'independiente', 'independiente', 'independiente', 'independiente', 'independiente', 'indumotora', 'infotipos', 'inmobiliaria', 'instituto', 'intervial', 'inv.', 'inversiones', 'inversiones', 'inversiones', 'inversiones', 'inversiones', 'inversiones', 'iqvia', 'iqvia', 'italoptic', 'jetsmart', 'jetsmart', 'kibernum', 'kimberly', 'kimberly', 'komatsu', 'komatsu', 'komatsu', 'komatsu', 'komax', 'komax', 'komax', 'kuehne', 'kuehne', 'kuehne+nagel', 'kyndryl', 'la', 'la', 'laboratorio', 'laboratorio', 'laboratorio', 'laboratorio', 'laboratorio', 'laboratorios', 'laboratorios', 'lacoste', 'latam', 'lessafre', 'lg', 'lg', 'lg', 'liberty', 'lider', 'lider', 'lima', 'lima', 'll', 'lo', 'logistica', \"l'oreal\", \"l'oreal\", \"l'oreal\", 'los', 'los', 'luxottica', 'manpowergroup', 'manquehue', 'marsh', 'marsh', 'marsh', 'marsh', 'marsh', 'marubeni', 'mas', 'masisa', 'masrh', 'master', 'master', 'materiales', 'mawutara', 'medicien', 'mediterranean', 'medlog', 'megalabs', 'megalabs', 'melon', 'melon', 'mercado', 'mercer', 'mercer', 'mercer', 'mercer', 'mercer', 'mercer', 'mercer', 'mercer', 'mercer', 'mercer', 'mercer', 'mercer', 'mercer', 'mercer', 'mercer', 'mercer', 'mercer', 'mercer', 'mercer', 'mercer', 'mercer', 'mercer', 'mercer', 'mercer', 'mercer', 'mercer', 'mercer', 'mercer', 'mercer', 'mercer', 'mercer', 'mercer', 'mercer', 'mercer', 'mercer', 'mercer', 'mercer', 'mercer', 'mercer', 'mercer', 'mercer', 'mercer', 'mercer', 'mercer', 'mercer', 'mercer', 'mercer', 'mercer', 'mercer', 'mercer', 'mercer', 'mercermarsh', 'metlife', 'metlife', 'metlife', 'metlife', 'metlife', 'metlife', 'metro', 'metrogas', 'metrogas', 'minera', 'minera', 'minera', 'minera', 'mitsubishi', 'mitsui', 'mitta', 'mmb', 'mmb', 'molino', 'molymet', 'molymetnos', 'molymnetnos', 'monha', 'movitec', 'msc', 'msc', 'msc', 'msc', 'msc', 'msc', 'msteck', 'mutucar', 'mytilineos', 'natura', 'natura', 'natura', 'nec', 'new', 'newell', 'newell', 'nexus', 'nexus', 'nokia', 'notco', 'novo', 'novo', 'novo', 'novo', 'ns', 'ntt', 'ntt', 'nyg', 'omnilife', 'on', 'oracle', 'orbyta', 'organon', 'organon', 'oxxo', 'page', 'pandora', 'papa', 'paris', 'parque', 'parque', 'people', 'pepsico', 'peri', 'pernod', 'pesbasa', 'pfizer', 'pierre', 'pj', 'planvital', 'plotter', 'pochteca', 'pochteca', 'pontificia', 'porsche', 'potenciahr', 'powerchina', 'precision', 'precision', 'productos', 'profesional', 'progestion', 'promet', 'promoplan', 'prosegur', 'prosegur', 'protera', 'psinet', 'psyalive', 'psyalive', 'psyalive', 'psyalive', 'pucobre', 'pucobre', 'pucobre', 'pucobre', 'puig', 'puig', 'py', 'rabobank', 'raya', 'red', 'redsalud', 'redsalud', 'redsalud', 'redsalud', 'renner', 'rentokil', 'rgm', 'ripley', 'ripley', 'ripley', 'ripley', 'ripley', 'ripley', 'robert', 'roche', 'roche', 'rosen', 'rosen', 'rosen', 'rosen', 'saam', 'sadia', 'salfa', 'salfacorp', 'salfacorp', 'samsonite', 'samsung', 'samsung', 'sas', 'schievement', 'security', 'seguros', 'seguros', 'seguros', 'seguros', 'seguros', 'seguros', 'servicio', 'servicios', 'siemens', 'siempe', 'simov', 'sinclair', 'sixbell', 'skf', 'sky', 'sky', 'sky', 'sky', 'socofar', 'sodexo', 'sodexo', 'sodimac', 'softys', 'softys', 'softys', 'softys', 'softys', 'softys', 'softys', 'softys', 'softys', 'softys', 'softys', 'softys', 'softys', 'soluciones', 'soluciones', 'sonepar', 'sophos', 'soprole', 'soprole', 'sqm', 'sqm', 'stantec', 'stantec', 'starbucks', 'starbucks', 'stryker', 'sugal', 'sumitomo', 'sura', 'sura', 'sura', 'surmonte', 'swarovski', 'talana', 'talana', 'talentfinder', 'talentopia', 'taltentopia', 'tanica', 'tanica', 'tanica', 'tanica', 'tanica', 'tanner', 'tarragona', 'techint', 'techint', 'teck', 'teck', 'teck', 'tecnofarma', 'tecnofarma', 'tecnologias', 'tekc', 'telefonica', 'telefonica', 'telefonica', 'telefonica', 'telefonuca', 'tenaristamsa', 'terumo', 'tiaxa', 'tomra', 'top', 'torrentpharma', 'total', 'totalchile', 'totalenergies', 'tottus', 'transicion', 'transportes', 'trendjs', 'trends', 'trends', 'tresmontes', 'tricot', 'true', 'tucapel', 'turbus', 'uc', 'uc', 'uc', 'ucchristus', 'ucsh', 'udla', 'udla', 'ultimas', 'ultramar', 'universidad', 'universidad', 'universidad', 'universidad', 'universidad', 'universidad', 'universidasd', 'unversidad', 'urbano', 'urbano', 'van', 'vantrust', 'ventisqueros', 'vgroup', 'viaschile', 'vida', 'vida', 'vigatec', 'viña', 'viñedos', 'volvo', 'volvo', 'volvo', 'vspt', 'walmart', 'walmart', 'walmart', 'walmart', 'walmart', 'walmart', 'walmart', 'watts', 'westfalia', 'wework', 'wework', 'wework', 'wmgs', 'wom', 'workmate', 'workmate', 'wsp', 'wsp', 'wunderman', 'xylem', 'ypf', 'zenta', 'zerofox', 'zucarmex', 'zurich', 'zurich', 'zurich', 'zurich']\n"
     ]
    }
   ],
   "source": [
    "salidaprueba = \"C:/Users/jmartinez/Desktop/pamela/prueba_5.xlsx\"\n",
    "# otra['nueaa'] = df2['empresas'].str.isin({otra['aa']})\n",
    "\n",
    "listado = otra[\"aa\"].tolist()\n",
    "listado2 = df2['empresas'].tolist()\n",
    "\n",
    "\"\"\" i = 0\n",
    "for otro in listado:\n",
    "  \n",
    "  \n",
    "  if df2[\"empresas\"].str.contains(listado[i], na=False, case=False) == True:\n",
    "    otra[\"newaa\"] = df2[\"empresas\"].str.contains(listado[i], na=False, case=False)\n",
    "  \n",
    "  \n",
    "  i += 1\n",
    " \"\"\"\n",
    "otra[\"newaa\"] = df2[\"empresas\"].apply(lambda x : 1 if (x in listado) else 0)\n",
    "otra['newaaa'] = otra['aa'].apply(lambda x : 1 if (x in listado2) else 0)\n",
    "\n",
    "print(listado)\n",
    "\n",
    "# df2['empresas'].str.contains(listado)\n",
    "otra.head()\n",
    "otra.shape\n",
    "otra.to_excel(salidaprueba, index=False)"
   ]
  },
  {
   "cell_type": "code",
   "execution_count": null,
   "metadata": {},
   "outputs": [],
   "source": [
    "derty = df2.isin({'empresas':listado})\n",
    "salidaprueba = \"C:/Users/jmartinez/Desktop/pamela/prueba_6.xlsx\"\n",
    "derty.head\n",
    "derty.to_excel(salidaprueba, index=False)\n",
    "\n"
   ]
  }
 ],
 "metadata": {
  "kernelspec": {
   "display_name": "Python 3.10.6 ('Mito')",
   "language": "python",
   "name": "python3"
  },
  "language_info": {
   "codemirror_mode": {
    "name": "ipython",
    "version": 3
   },
   "file_extension": ".py",
   "mimetype": "text/x-python",
   "name": "python",
   "nbconvert_exporter": "python",
   "pygments_lexer": "ipython3",
   "version": "3.10.6"
  },
  "orig_nbformat": 4,
  "vscode": {
   "interpreter": {
    "hash": "8ca7c6c0b372e79d1b046e97089bf0eca059102913bf5fbce589f25f1f28c438"
   }
  }
 },
 "nbformat": 4,
 "nbformat_minor": 2
}
