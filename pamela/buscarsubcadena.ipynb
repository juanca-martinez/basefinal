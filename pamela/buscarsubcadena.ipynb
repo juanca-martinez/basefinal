{
 "cells": [
  {
   "cell_type": "code",
   "execution_count": 10,
   "metadata": {},
   "outputs": [],
   "source": [
    "import pandas as pd"
   ]
  },
  {
   "cell_type": "code",
   "execution_count": 11,
   "metadata": {},
   "outputs": [
    {
     "data": {
      "text/plain": [
       "<bound method NDFrame.head of         NOMBRE        APELLIDO                            CARGO  \\\n",
       "0      Marcela            Hein            Total Rewards Manager   \n",
       "1      Osvaldo           Acuña                GERENTE PERSONAS    \n",
       "2      Paulina            Toro        Subgerente Compensaciones   \n",
       "3        FABIO  ALFIERI ARAUJO          SR Compensation Manager   \n",
       "4      Natalia        Sandoval                              C&B   \n",
       "..         ...             ...                              ...   \n",
       "831        Hug            Ruiz                VP COMPENSACIONES   \n",
       "832  Alejandro          Batres                 Gerente Comecial   \n",
       "833   Carolina    Díaz Infante                      Sub gerente   \n",
       "834      Pablo          Prieto                Jefe compensacion   \n",
       "835       Luz        Martínez   Subgerente Proposition Empresas   \n",
       "\n",
       "           empresas                          CORREO  dfdfd  \n",
       "0                3m                   mhein@mmm.com    NaN  \n",
       "1    abastible s.a.      osvaldo.acuna@abastible.cl    1.0  \n",
       "2    abastible s.a.       paulina.toro@abastible.cl    1.0  \n",
       "3               abb         FABIO.ARAUJO@BR.ABB.COM    1.0  \n",
       "4            abbott     natalia.sandoval@abbott.com    NaN  \n",
       "..              ...                             ...    ...  \n",
       "831        zucarmex              Hruiz@zucarmex.com    NaN  \n",
       "832          zurich  alejandro.batres@mx.zurich.com    1.0  \n",
       "833          zurich        Carolina.diaz@zurich.com    1.0  \n",
       "834          zurich         pablo.prieto@zurich.con    1.0  \n",
       "835          zurich   luz.maria.martinez@zurich.com    1.0  \n",
       "\n",
       "[836 rows x 6 columns]>"
      ]
     },
     "execution_count": 11,
     "metadata": {},
     "output_type": "execute_result"
    }
   ],
   "source": [
    "archivo = \"C:/Users/jmartinez/Desktop/pamela/empresa_pamela.xlsx\"\n",
    "df1 = pd.read_excel(archivo)\n",
    "df1['empresas'] = df1.empresas.str.lower()\n",
    "\n",
    "df1.shape\n",
    "df1.head\n"
   ]
  },
  {
   "cell_type": "code",
   "execution_count": 12,
   "metadata": {},
   "outputs": [
    {
     "data": {
      "text/plain": [
       "<bound method NDFrame.head of                                   empresas  0\n",
       "0       \"Apunto\" Servicios De Alimentacion  1\n",
       "1                                     #N/D  1\n",
       "2                                       --  1\n",
       "3                                     ....  1\n",
       "4                      ...................  1\n",
       "...                                    ... ..\n",
       "6829           Zona Franca De Iquique S.A.  1\n",
       "6830                     Zubale Chile Spa.  1\n",
       "6831  Zublin International Gmbh Chile Spa.  1\n",
       "6832                                Zurich  1\n",
       "6833                        Ñanco Mix Spa.  1\n",
       "\n",
       "[6834 rows x 2 columns]>"
      ]
     },
     "execution_count": 12,
     "metadata": {},
     "output_type": "execute_result"
    }
   ],
   "source": [
    "archivo2 = \"C:/Users/jmartinez/Desktop/pamela/empresa_todas.xlsx\"\n",
    "df2 = pd.read_excel(archivo2)\n",
    "df2.shape\n",
    "df2.head"
   ]
  },
  {
   "cell_type": "markdown",
   "metadata": {},
   "source": [
    "**Empresas Pamela**"
   ]
  },
  {
   "cell_type": "code",
   "execution_count": 13,
   "metadata": {},
   "outputs": [],
   "source": [
    "otra = df1[\"empresas\"].str.split(expand=True)\n",
    "otra.columns = ['aa','bb','cc','dd','ee','ff','gg','hh','ii']"
   ]
  },
  {
   "cell_type": "code",
   "execution_count": 14,
   "metadata": {},
   "outputs": [
    {
     "data": {
      "text/html": [
       "<div><div id=bf83c336-a2a9-45ff-a4e6-f427e1099816 style=\"display:none; background-color:#9D6CFF; color:white; width:200px; height:30px; padding-left:5px; border-radius:4px; flex-direction:row; justify-content:space-around; align-items:center;\" onmouseover=\"this.style.backgroundColor='#BA9BF8'\" onmouseout=\"this.style.backgroundColor='#9D6CFF'\" onclick=\"window.commands?.execute('create-mitosheet-from-dataframe-output');\">See Full Dataframe in Mito</div> <script> if (window.commands?.hasCommand('create-mitosheet-from-dataframe-output')) document.getElementById('bf83c336-a2a9-45ff-a4e6-f427e1099816').style.display = 'flex' </script> <table border=\"1\" class=\"dataframe\">\n",
       "  <thead>\n",
       "    <tr style=\"text-align: right;\">\n",
       "      <th></th>\n",
       "      <th>aa</th>\n",
       "      <th>bb</th>\n",
       "      <th>cc</th>\n",
       "      <th>dd</th>\n",
       "      <th>ee</th>\n",
       "      <th>ff</th>\n",
       "      <th>gg</th>\n",
       "      <th>hh</th>\n",
       "      <th>ii</th>\n",
       "    </tr>\n",
       "  </thead>\n",
       "  <tbody>\n",
       "    <tr>\n",
       "      <th>0</th>\n",
       "      <td>3m</td>\n",
       "      <td>None</td>\n",
       "      <td>None</td>\n",
       "      <td>None</td>\n",
       "      <td>None</td>\n",
       "      <td>None</td>\n",
       "      <td>None</td>\n",
       "      <td>None</td>\n",
       "      <td>None</td>\n",
       "    </tr>\n",
       "    <tr>\n",
       "      <th>1</th>\n",
       "      <td>abastible</td>\n",
       "      <td>s.a.</td>\n",
       "      <td>None</td>\n",
       "      <td>None</td>\n",
       "      <td>None</td>\n",
       "      <td>None</td>\n",
       "      <td>None</td>\n",
       "      <td>None</td>\n",
       "      <td>None</td>\n",
       "    </tr>\n",
       "    <tr>\n",
       "      <th>2</th>\n",
       "      <td>abastible</td>\n",
       "      <td>s.a.</td>\n",
       "      <td>None</td>\n",
       "      <td>None</td>\n",
       "      <td>None</td>\n",
       "      <td>None</td>\n",
       "      <td>None</td>\n",
       "      <td>None</td>\n",
       "      <td>None</td>\n",
       "    </tr>\n",
       "    <tr>\n",
       "      <th>3</th>\n",
       "      <td>abb</td>\n",
       "      <td>None</td>\n",
       "      <td>None</td>\n",
       "      <td>None</td>\n",
       "      <td>None</td>\n",
       "      <td>None</td>\n",
       "      <td>None</td>\n",
       "      <td>None</td>\n",
       "      <td>None</td>\n",
       "    </tr>\n",
       "    <tr>\n",
       "      <th>4</th>\n",
       "      <td>abbott</td>\n",
       "      <td>None</td>\n",
       "      <td>None</td>\n",
       "      <td>None</td>\n",
       "      <td>None</td>\n",
       "      <td>None</td>\n",
       "      <td>None</td>\n",
       "      <td>None</td>\n",
       "      <td>None</td>\n",
       "    </tr>\n",
       "  </tbody>\n",
       "</table></div>"
      ],
      "text/plain": [
       "          aa    bb    cc    dd    ee    ff    gg    hh    ii\n",
       "0         3m  None  None  None  None  None  None  None  None\n",
       "1  abastible  s.a.  None  None  None  None  None  None  None\n",
       "2  abastible  s.a.  None  None  None  None  None  None  None\n",
       "3        abb  None  None  None  None  None  None  None  None\n",
       "4     abbott  None  None  None  None  None  None  None  None"
      ]
     },
     "execution_count": 14,
     "metadata": {},
     "output_type": "execute_result"
    }
   ],
   "source": [
    "otra.head()"
   ]
  },
  {
   "cell_type": "code",
   "execution_count": null,
   "metadata": {},
   "outputs": [],
   "source": [
    "salidaprueba = \"C:/Users/jmartinez/Desktop/pamela/prueba_2.xlsx\"\n",
    "listado = otra['aa'].tolist()\n",
    "i=0\n",
    "for otro in listado:        \n",
    "        df2['new'] = df2['empresas'].str.contains(listado[i])\n",
    "        i+=1\n",
    "\n",
    "\n",
    "print(listado)\n",
    "\n",
    "#df2['empresas'].str.contains(listado)\n",
    "otra.head()\n",
    "otra.shape\n",
    "otra.to_excel(salidaprueba)"
   ]
  }
 ],
 "metadata": {
  "kernelspec": {
   "display_name": "Python 3.10.6 ('Mito')",
   "language": "python",
   "name": "python3"
  },
  "language_info": {
   "codemirror_mode": {
    "name": "ipython",
    "version": 3
   },
   "file_extension": ".py",
   "mimetype": "text/x-python",
   "name": "python",
   "nbconvert_exporter": "python",
   "pygments_lexer": "ipython3",
   "version": "3.10.6"
  },
  "orig_nbformat": 4,
  "vscode": {
   "interpreter": {
    "hash": "8ca7c6c0b372e79d1b046e97089bf0eca059102913bf5fbce589f25f1f28c438"
   }
  }
 },
 "nbformat": 4,
 "nbformat_minor": 2
}
