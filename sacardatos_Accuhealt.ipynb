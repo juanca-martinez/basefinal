{
 "cells": [
  {
   "cell_type": "code",
   "execution_count": null,
   "metadata": {},
   "outputs": [],
   "source": [
    "import datetime\n",
    "import requests\n",
    "from bs4 import BeautifulSoup\n",
    "import pandas as pd\n",
    "from openpyxl import workbook\n"
   ]
  },
  {
   "cell_type": "code",
   "execution_count": null,
   "metadata": {},
   "outputs": [],
   "source": [
    "base_url = \"https://center.accuhealth.cl/?mod=Patient\"\n",
    "response = requests.get(base_url)\n",
    "soup = BeautifulSoup(response.content,\"html.parser\")\n",
    "#soup = BeautifulSoup(response.text)\n",
    "data = soup.find_all('div')[0]\n",
    "#df_population = pd.read_html(data)[0]\n",
    "#df_population.head()\n",
    "print(data)\n"
   ]
  },
  {
   "cell_type": "code",
   "execution_count": 21,
   "metadata": {},
   "outputs": [],
   "source": [
    "#from tabula.io import read_pdf\n",
    "from tabulate import tabulate\n",
    "import pandas as pd\n",
    "from tabula.io import read_pdf\n"
   ]
  },
  {
   "cell_type": "code",
   "execution_count": 36,
   "metadata": {},
   "outputs": [],
   "source": [
    "pdf = \"C:/Users/jmartinez/Documents/cargas/1.pdf\"\n",
    "data = read_pdf(pdf,pages='all',multiple_tables=True)\n"
   ]
  },
  {
   "cell_type": "code",
   "execution_count": 47,
   "metadata": {},
   "outputs": [
    {
     "name": "stdout",
     "output_type": "stream",
     "text": [
      "[              Fecha  Valor  Alertas\n",
      "0  15/05/2023 21:20     88      NaN\n",
      "1  17/05/2023 21:04     85      NaN\n",
      "2  31/05/2023 21:12     84      NaN,    Fecha        Unnamed: 0  Valor  Unnamed: 1  Alertas\n",
      "0    NaN  15/05/2023 21:20    NaN         139      NaN\n",
      "1    NaN  17/05/2023 21:04    NaN         136      NaN\n",
      "2    NaN  31/05/2023 21:12    NaN         148      NaN,    Fecha        Unnamed: 0  Valor  Unnamed: 1  Alertas\n",
      "0    NaN  15/05/2023 21:20    NaN         134      NaN\n",
      "1    NaN  17/05/2023 21:05    NaN         137      NaN\n",
      "2    NaN  31/05/2023 21:13    NaN         123      NaN,    Fecha        Unnamed: 0  Valor  Unnamed: 1  Alertas\n",
      "0    NaN  15/05/2023 21:20    NaN          63      NaN\n",
      "1    NaN  17/05/2023 21:04    NaN          61      NaN\n",
      "2    NaN  31/05/2023 21:12    NaN          65      NaN,    Fecha        Unnamed: 0  Valor  Unnamed: 1  Alertas\n",
      "0    NaN  15/05/2023 21:20    NaN         105      NaN\n",
      "1    NaN  17/05/2023 21:04    NaN         102      NaN\n",
      "2    NaN  31/05/2023 21:12    NaN         105      NaN]\n"
     ]
    }
   ],
   "source": [
    "print(data)"
   ]
  },
  {
   "cell_type": "code",
   "execution_count": 51,
   "metadata": {},
   "outputs": [
    {
     "data": {
      "text/html": [
       "<div>\n",
       "<style scoped>\n",
       "    .dataframe tbody tr th:only-of-type {\n",
       "        vertical-align: middle;\n",
       "    }\n",
       "\n",
       "    .dataframe tbody tr th {\n",
       "        vertical-align: top;\n",
       "    }\n",
       "\n",
       "    .dataframe thead th {\n",
       "        text-align: right;\n",
       "    }\n",
       "</style>\n",
       "<table border=\"1\" class=\"dataframe\">\n",
       "  <thead>\n",
       "    <tr style=\"text-align: right;\">\n",
       "      <th></th>\n",
       "      <th>Fecha</th>\n",
       "      <th>Unnamed: 0</th>\n",
       "      <th>Valor</th>\n",
       "      <th>Unnamed: 1</th>\n",
       "      <th>Alertas</th>\n",
       "    </tr>\n",
       "  </thead>\n",
       "  <tbody>\n",
       "    <tr>\n",
       "      <th>0</th>\n",
       "      <td>NaN</td>\n",
       "      <td>15/05/2023 21:20</td>\n",
       "      <td>NaN</td>\n",
       "      <td>139</td>\n",
       "      <td>NaN</td>\n",
       "    </tr>\n",
       "    <tr>\n",
       "      <th>1</th>\n",
       "      <td>NaN</td>\n",
       "      <td>17/05/2023 21:04</td>\n",
       "      <td>NaN</td>\n",
       "      <td>136</td>\n",
       "      <td>NaN</td>\n",
       "    </tr>\n",
       "    <tr>\n",
       "      <th>2</th>\n",
       "      <td>NaN</td>\n",
       "      <td>31/05/2023 21:12</td>\n",
       "      <td>NaN</td>\n",
       "      <td>148</td>\n",
       "      <td>NaN</td>\n",
       "    </tr>\n",
       "  </tbody>\n",
       "</table>\n",
       "</div>"
      ],
      "text/plain": [
       "   Fecha        Unnamed: 0  Valor  Unnamed: 1  Alertas\n",
       "0    NaN  15/05/2023 21:20    NaN         139      NaN\n",
       "1    NaN  17/05/2023 21:04    NaN         136      NaN\n",
       "2    NaN  31/05/2023 21:12    NaN         148      NaN"
      ]
     },
     "execution_count": 51,
     "metadata": {},
     "output_type": "execute_result"
    }
   ],
   "source": [
    "df1 = data\n",
    "df11 = pd.DataFrame(df1[1]) \n",
    "df11.head()"
   ]
  }
 ],
 "metadata": {
  "kernelspec": {
   "display_name": "Python 3",
   "language": "python",
   "name": "python3"
  },
  "language_info": {
   "codemirror_mode": {
    "name": "ipython",
    "version": 3
   },
   "file_extension": ".py",
   "mimetype": "text/x-python",
   "name": "python",
   "nbconvert_exporter": "python",
   "pygments_lexer": "ipython3",
   "version": "3.11.3"
  },
  "orig_nbformat": 4
 },
 "nbformat": 4,
 "nbformat_minor": 2
}
