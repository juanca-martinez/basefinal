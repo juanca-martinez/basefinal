{
 "cells": [
  {
   "cell_type": "code",
   "execution_count": 19,
   "metadata": {},
   "outputs": [],
   "source": [
    "import datetime\n",
    "import requests\n",
    "from bs4 import BeautifulSoup\n",
    "import pandas as pd\n",
    "from openpyxl import workbook\n"
   ]
  },
  {
   "cell_type": "code",
   "execution_count": 42,
   "metadata": {},
   "outputs": [
    {
     "name": "stdout",
     "output_type": "stream",
     "text": [
      "<div id=\"loading\">\n",
      "<div id=\"loading-indicator\">\n",
      "<img id=\"loading-img\" src=\"resources/images/loading.gif\"/>AccuCenter v2.3.1 - <a href=\"http://accu.health\" target=\"blank\">accu.health</a>\n",
      "<br/>\n",
      "<span id=\"loading-msg\">Cargando recursos...</span>\n",
      "</div>\n",
      "</div>\n"
     ]
    }
   ],
   "source": [
    "base_url = \"https://center.accuhealth.cl/?mod=Patient\"\n",
    "response = requests.get(base_url)\n",
    "soup = BeautifulSoup(response.content,\"html.parser\")\n",
    "#soup = BeautifulSoup(response.text)\n",
    "data = soup.find_all('div')[0]\n",
    "#df_population = pd.read_html(data)[0]\n",
    "#df_population.head()\n",
    "print(data)\n"
   ]
  }
 ],
 "metadata": {
  "kernelspec": {
   "display_name": "Python 3",
   "language": "python",
   "name": "python3"
  },
  "language_info": {
   "codemirror_mode": {
    "name": "ipython",
    "version": 3
   },
   "file_extension": ".py",
   "mimetype": "text/x-python",
   "name": "python",
   "nbconvert_exporter": "python",
   "pygments_lexer": "ipython3",
   "version": "3.11.3"
  },
  "orig_nbformat": 4
 },
 "nbformat": 4,
 "nbformat_minor": 2
}
