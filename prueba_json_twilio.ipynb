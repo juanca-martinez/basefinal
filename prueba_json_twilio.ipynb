{
 "cells": [
  {
   "cell_type": "code",
   "execution_count": 1,
   "metadata": {},
   "outputs": [],
   "source": [
    "import pandas as pd\n",
    "import matplotlib.pyplot as plt\n",
    "from twilio.rest import Client\n",
    "import requests"
   ]
  },
  {
   "cell_type": "code",
   "execution_count": 2,
   "metadata": {},
   "outputs": [],
   "source": [
    "# Your Account SID from twilio.com/console\n",
    "AccountSID = \"ACf0932b13d7e256d9932d540a3cb25475\"\n",
    "# Your Auth Token from twilio.com/console\n",
    "auth_token  = \"cbf3b69af0f3f7974a09661239a55601\""
   ]
  },
  {
   "cell_type": "code",
   "execution_count": 24,
   "metadata": {},
   "outputs": [
    {
     "name": "stdout",
     "output_type": "stream",
     "text": [
      "https://api.twilio.com/2010-04-01/Accounts/{AccountSID}/Calls.json\n"
     ]
    }
   ],
   "source": [
    "#url = 'https://api.twilio.com/2010-04-01/Accounts/ACf0932b13d7e256d9932d540a3cb25475/Calls.json'\n",
    "url = 'https://api.twilio.com/2010-04-01/Accounts/{AccountSID}/Calls.json'\n",
    "print(url)"
   ]
  },
  {
   "cell_type": "code",
   "execution_count": 25,
   "metadata": {},
   "outputs": [
    {
     "name": "stdout",
     "output_type": "stream",
     "text": [
      "('{AccountSID}', '{AuthToken}')\n"
     ]
    }
   ],
   "source": [
    "auth = ('{AccountSID}', '{AuthToken}')\n",
    "print(auth)"
   ]
  },
  {
   "cell_type": "code",
   "execution_count": 26,
   "metadata": {},
   "outputs": [],
   "source": [
    "response = requests.get(url, auth=auth)"
   ]
  },
  {
   "cell_type": "code",
   "execution_count": 27,
   "metadata": {},
   "outputs": [
    {
     "name": "stdout",
     "output_type": "stream",
     "text": [
      "{'code': 20003, 'message': 'Authentication Error - invalid username', 'more_info': 'https://www.twilio.com/docs/errors/20003', 'status': 401}\n"
     ]
    }
   ],
   "source": [
    "print(response.json())"
   ]
  },
  {
   "cell_type": "code",
   "execution_count": 7,
   "metadata": {},
   "outputs": [
    {
     "name": "stdout",
     "output_type": "stream",
     "text": [
      "<Twilio.Api.V2010.EventList>\n"
     ]
    }
   ],
   "source": [
    "calle = \"CA0779591d311f44adec82fa55733d6b47\"\n",
    "\n",
    "client = Client(AccountSID, auth_token)\n",
    "\n",
    "call = client.calls.get(\"CA0779591d311f44adec82fa55733d6b47\")\n",
    "print(call.events)"
   ]
  },
  {
   "cell_type": "code",
   "execution_count": 8,
   "metadata": {},
   "outputs": [],
   "source": [
    "from twilio.rest import Client\n",
    "from datetime import datetime, timedelta\n",
    "\n",
    "# Your Account SID from twilio.com/console\n",
    "AccountSID = \"ACf0932b13d7e256d9932d540a3cb25475\"\n",
    "# Your Auth Token from twilio.com/console\n",
    "auth_token  = \"cbf3b69af0f3f7974a09661239a55601\"\n",
    "client = Client(AccountSID, auth_token)"
   ]
  },
  {
   "cell_type": "code",
   "execution_count": 9,
   "metadata": {},
   "outputs": [
    {
     "name": "stdout",
     "output_type": "stream",
     "text": [
      "<Twilio ACf0932b13d7e256d9932d540a3cb25475>\n"
     ]
    }
   ],
   "source": [
    "print(client)"
   ]
  },
  {
   "cell_type": "code",
   "execution_count": 10,
   "metadata": {},
   "outputs": [],
   "source": [
    "calls = client.calls.list(\n",
    "    status='completed',\n",
    "    start_time=datetime.utcnow() \n",
    "    #- timedelta(days=30),\n",
    "    #end_time=datetime.utcnow()\n",
    ")"
   ]
  },
  {
   "cell_type": "code",
   "execution_count": 11,
   "metadata": {},
   "outputs": [],
   "source": [
    "for call in calls:\n",
    "    print(f'Duración de la llamada: {call.duration} segundos')\n",
    "    print(f'Hora de inicio: {call.start_time}')\n",
    "    print(f'Hora de finalización: {call.end_time}')\n",
    "    print('---------------------------')"
   ]
  },
  {
   "cell_type": "code",
   "execution_count": 47,
   "metadata": {},
   "outputs": [],
   "source": [
    "from twilio.rest import Client\n",
    "from datetime import datetime, timedelta\n",
    "\n",
    "\n",
    "\n",
    "# Your Account SID from twilio.com/console\n",
    "AccountSID = \"ACf0932b13d7e256d9932d540a3cb25475\"\n",
    "# Your Auth Token from twilio.com/console\n",
    "auth_token  = \"cbf3b69af0f3f7974a09661239a55601\"\n",
    "client = Client(AccountSID, auth_token)"
   ]
  },
  {
   "cell_type": "code",
   "execution_count": 74,
   "metadata": {},
   "outputs": [
    {
     "ename": "KeyError",
     "evalue": "'Videos'",
     "output_type": "error",
     "traceback": [
      "\u001b[1;31m---------------------------------------------------------------------------\u001b[0m",
      "\u001b[1;31mKeyError\u001b[0m                                  Traceback (most recent call last)",
      "Cell \u001b[1;32mIn[74], line 3\u001b[0m\n\u001b[0;32m      1\u001b[0m url \u001b[38;5;241m=\u001b[39m \u001b[38;5;124mf\u001b[39m\u001b[38;5;124m'\u001b[39m\u001b[38;5;124mhttps://api.twilio.com/2010-04-01/Accounts/\u001b[39m\u001b[38;5;132;01m{\u001b[39;00mAccountSID\u001b[38;5;132;01m}\u001b[39;00m\u001b[38;5;124m/Messages.json\u001b[39m\u001b[38;5;124m'\u001b[39m\n\u001b[0;32m      2\u001b[0m response \u001b[38;5;241m=\u001b[39m requests\u001b[38;5;241m.\u001b[39mget(url, auth\u001b[38;5;241m=\u001b[39m(AccountSID, auth_token))\n\u001b[1;32m----> 3\u001b[0m messages \u001b[38;5;241m=\u001b[39m \u001b[43mresponse\u001b[49m\u001b[38;5;241;43m.\u001b[39;49m\u001b[43mjson\u001b[49m\u001b[43m(\u001b[49m\u001b[43m)\u001b[49m\u001b[43m[\u001b[49m\u001b[38;5;124;43m'\u001b[39;49m\u001b[38;5;124;43mVideos\u001b[39;49m\u001b[38;5;124;43m'\u001b[39;49m\u001b[43m]\u001b[49m\n\u001b[0;32m      4\u001b[0m \u001b[38;5;28mprint\u001b[39m(\u001b[38;5;124m'\u001b[39m\u001b[38;5;124mNumber of messages: \u001b[39m\u001b[38;5;124m'\u001b[39m, \u001b[38;5;28mlen\u001b[39m(messages))\n\u001b[0;32m      5\u001b[0m \u001b[38;5;66;03m# json is a built-in module for Python - no install required\u001b[39;00m\n",
      "\u001b[1;31mKeyError\u001b[0m: 'Videos'"
     ]
    }
   ],
   "source": [
    "url = f'https://api.twilio.com/2010-04-01/Accounts/{AccountSID}/Messages.json'\n",
    "response = requests.get(url, auth=(AccountSID, auth_token))\n",
    "messages = response.json()['Videos']\n",
    "print('Number of messages: ', len(messages))\n",
    "# json is a built-in module for Python - no install required\n",
    "import json\n",
    "print(json.dumps(messages, indent=2))"
   ]
  },
  {
   "cell_type": "code",
   "execution_count": 83,
   "metadata": {},
   "outputs": [
    {
     "name": "stdout",
     "output_type": "stream",
     "text": [
      "RMfee61716e52954f74288d8275ce47825\n",
      "Duración de la llamada: None segundos\n",
      "Hora de finalización: None\n",
      "1\n",
      "---------------------------\n",
      "RM5f70af2959aadefead174546b77262db\n",
      "Duración de la llamada: None segundos\n",
      "Hora de finalización: None\n",
      "2\n",
      "---------------------------\n",
      "RM19bbefd1b39c43bf2715a9ce061b2e83\n",
      "Duración de la llamada: None segundos\n",
      "Hora de finalización: None\n",
      "3\n",
      "---------------------------\n"
     ]
    },
    {
     "name": "stderr",
     "output_type": "stream",
     "text": [
      "C:\\Users\\jmartinez\\AppData\\Local\\Temp\\ipykernel_10608\\3264913386.py:20: FutureWarning: The frame.append method is deprecated and will be removed from pandas in a future version. Use pandas.concat instead.\n",
      "  llamadasTwilio = llamadasTwilio.append(\n",
      "C:\\Users\\jmartinez\\AppData\\Local\\Temp\\ipykernel_10608\\3264913386.py:20: FutureWarning: The frame.append method is deprecated and will be removed from pandas in a future version. Use pandas.concat instead.\n",
      "  llamadasTwilio = llamadasTwilio.append(\n",
      "C:\\Users\\jmartinez\\AppData\\Local\\Temp\\ipykernel_10608\\3264913386.py:20: FutureWarning: The frame.append method is deprecated and will be removed from pandas in a future version. Use pandas.concat instead.\n",
      "  llamadasTwilio = llamadasTwilio.append(\n"
     ]
    }
   ],
   "source": [
    "calls = client.video.v1.rooms.list(limit=20)\n",
    "numero = 0\n",
    "llamadasTwilio = pd.DataFrame(columns=[\"SID\", \"Duracion\", \"inicio\", \"Fin\"])\n",
    "\n",
    "for call in calls:\n",
    "    numero = numero + 1\n",
    "    print(call.sid)\n",
    "    print(f\"Duración de la llamada: {call.duration} segundos\")\n",
    "    #print(f\"Hora de inicio: {call.start_time}\")\n",
    "    print(f\"Hora de finalización: {call.end_time}\")\n",
    "    #print(f\"fecha: {call.date_updated}\")\n",
    "    print(numero)\n",
    "    print(\"---------------------------\")\n",
    "    \"\"\" llamadasTwilio.appensd= [\n",
    "        call.sid,\n",
    "        call.duration,\n",
    "        call.start_time,\n",
    "        call.end_time,\n",
    "    ] \"\"\"\n",
    "    llamadasTwilio = llamadasTwilio.append(\n",
    "        {\n",
    "            \"SID\": call.sid,\n",
    "            \"Duracion\": call.duration,\n",
    "            #\"inicio\": call.start_time,\n",
    "            \"Fin\": call.end_time,\n",
    "        },\n",
    "        ignore_index=True,\n",
    "    )\n",
    "\n",
    "    if numero == 100:\n",
    "        break"
   ]
  },
  {
   "cell_type": "code",
   "execution_count": 79,
   "metadata": {},
   "outputs": [],
   "source": [
    "calls = client.calls.list(20)\n",
    "llamadasTwilio = pd.DataFrame(columns=[\"SID\", \"Duracion\", \"inicio\", \"Fin\"])\n",
    "i = 0\n",
    "for cal in calls:\n",
    "    llamadasTwilio.loc[i] = [\n",
    "        cal.sid,\n",
    "        cal.duration,\n",
    "        cal.start_time,\n",
    "        cal.end_time,\n",
    "    ]\n",
    "    i = i + 1"
   ]
  },
  {
   "cell_type": "code",
   "execution_count": 85,
   "metadata": {},
   "outputs": [
    {
     "name": "stdout",
     "output_type": "stream",
     "text": [
      "<Twilio.Video.V1.RoomInstance sid=RMfee61716e52954f74288d8275ce47825>\n"
     ]
    }
   ],
   "source": [
    "print(calls[0]) # calls"
   ]
  },
  {
   "cell_type": "code",
   "execution_count": 66,
   "metadata": {},
   "outputs": [
    {
     "data": {
      "text/html": [
       "<div>\n",
       "<style scoped>\n",
       "    .dataframe tbody tr th:only-of-type {\n",
       "        vertical-align: middle;\n",
       "    }\n",
       "\n",
       "    .dataframe tbody tr th {\n",
       "        vertical-align: top;\n",
       "    }\n",
       "\n",
       "    .dataframe thead th {\n",
       "        text-align: right;\n",
       "    }\n",
       "</style>\n",
       "<table border=\"1\" class=\"dataframe\">\n",
       "  <thead>\n",
       "    <tr style=\"text-align: right;\">\n",
       "      <th></th>\n",
       "      <th>SID</th>\n",
       "      <th>Duracion</th>\n",
       "      <th>inicio</th>\n",
       "      <th>Fin</th>\n",
       "    </tr>\n",
       "  </thead>\n",
       "  <tbody>\n",
       "    <tr>\n",
       "      <th>0</th>\n",
       "      <td>CA835849f09ad3d4eae0c6c1ae5189bfff</td>\n",
       "      <td>147</td>\n",
       "      <td>2024-03-21 20:42:01+00:00</td>\n",
       "      <td>2024-03-21 20:44:28+00:00</td>\n",
       "    </tr>\n",
       "    <tr>\n",
       "      <th>1</th>\n",
       "      <td>CA55427491e387efc57e7e03289d8875c5</td>\n",
       "      <td>0</td>\n",
       "      <td>2024-03-21 20:37:22+00:00</td>\n",
       "      <td>None</td>\n",
       "    </tr>\n",
       "    <tr>\n",
       "      <th>2</th>\n",
       "      <td>CA4b16b60b2546065b20cc991484a20710</td>\n",
       "      <td>0</td>\n",
       "      <td>2024-03-21 20:37:05+00:00</td>\n",
       "      <td>None</td>\n",
       "    </tr>\n",
       "    <tr>\n",
       "      <th>3</th>\n",
       "      <td>CA96527de36690e7fd61b90387292c89a1</td>\n",
       "      <td>91</td>\n",
       "      <td>2024-03-21 20:36:57+00:00</td>\n",
       "      <td>2024-03-21 20:38:28+00:00</td>\n",
       "    </tr>\n",
       "    <tr>\n",
       "      <th>4</th>\n",
       "      <td>CA43a14c0694df0e38a9d9ed625469354d</td>\n",
       "      <td>592</td>\n",
       "      <td>2024-03-21 20:36:00+00:00</td>\n",
       "      <td>2024-03-21 20:45:52+00:00</td>\n",
       "    </tr>\n",
       "    <tr>\n",
       "      <th>5</th>\n",
       "      <td>CAbb148ceaeeebd146af257e01e1ea7df2</td>\n",
       "      <td>607</td>\n",
       "      <td>2024-03-21 20:35:45+00:00</td>\n",
       "      <td>2024-03-21 20:45:52+00:00</td>\n",
       "    </tr>\n",
       "    <tr>\n",
       "      <th>6</th>\n",
       "      <td>CA253b1bc6dabe29003b4e9b137add08fa</td>\n",
       "      <td>0</td>\n",
       "      <td>2024-03-21 20:33:06+00:00</td>\n",
       "      <td>2024-03-21 20:34:11+00:00</td>\n",
       "    </tr>\n",
       "    <tr>\n",
       "      <th>7</th>\n",
       "      <td>CAc7a4930a5114e793a2ad47353337ce8c</td>\n",
       "      <td>65</td>\n",
       "      <td>2024-03-21 20:33:06+00:00</td>\n",
       "      <td>2024-03-21 20:34:11+00:00</td>\n",
       "    </tr>\n",
       "    <tr>\n",
       "      <th>8</th>\n",
       "      <td>CA665ebddf825052b56ffee8c511a9da90</td>\n",
       "      <td>653</td>\n",
       "      <td>2024-03-21 20:33:12+00:00</td>\n",
       "      <td>2024-03-21 20:44:05+00:00</td>\n",
       "    </tr>\n",
       "    <tr>\n",
       "      <th>9</th>\n",
       "      <td>CAb52b3323119b4989ea3331b0adc64e07</td>\n",
       "      <td>716</td>\n",
       "      <td>2024-03-21 20:32:09+00:00</td>\n",
       "      <td>2024-03-21 20:44:05+00:00</td>\n",
       "    </tr>\n",
       "    <tr>\n",
       "      <th>10</th>\n",
       "      <td>CA0b781ee861f636224e64adf01eda36e4</td>\n",
       "      <td>77</td>\n",
       "      <td>2024-03-21 20:30:41+00:00</td>\n",
       "      <td>2024-03-21 20:31:58+00:00</td>\n",
       "    </tr>\n",
       "    <tr>\n",
       "      <th>11</th>\n",
       "      <td>CA0e9b0c75aaa76fa0f1025076ed6154aa</td>\n",
       "      <td>86</td>\n",
       "      <td>2024-03-21 20:30:32+00:00</td>\n",
       "      <td>2024-03-21 20:31:58+00:00</td>\n",
       "    </tr>\n",
       "    <tr>\n",
       "      <th>12</th>\n",
       "      <td>CA16fa0f84b45bab19d420b82d58b2dcde</td>\n",
       "      <td>0</td>\n",
       "      <td>2024-03-21 20:29:59+00:00</td>\n",
       "      <td>2024-03-21 20:31:09+00:00</td>\n",
       "    </tr>\n",
       "    <tr>\n",
       "      <th>13</th>\n",
       "      <td>CAc3d35c3427c9bfcd6e59bac0bf73dcb3</td>\n",
       "      <td>71</td>\n",
       "      <td>2024-03-21 20:29:59+00:00</td>\n",
       "      <td>2024-03-21 20:31:10+00:00</td>\n",
       "    </tr>\n",
       "    <tr>\n",
       "      <th>14</th>\n",
       "      <td>CAe049defabba1789a4ca5ddb47f4a097d</td>\n",
       "      <td>106</td>\n",
       "      <td>2024-03-21 20:28:30+00:00</td>\n",
       "      <td>2024-03-21 20:30:16+00:00</td>\n",
       "    </tr>\n",
       "    <tr>\n",
       "      <th>15</th>\n",
       "      <td>CA5db11395605419f06d49b5aed47a7bcc</td>\n",
       "      <td>126</td>\n",
       "      <td>2024-03-21 20:28:10+00:00</td>\n",
       "      <td>2024-03-21 20:30:16+00:00</td>\n",
       "    </tr>\n",
       "    <tr>\n",
       "      <th>16</th>\n",
       "      <td>CA91af9b19b0ddefe36e08db9c2ffa7849</td>\n",
       "      <td>921</td>\n",
       "      <td>2024-03-21 20:26:51+00:00</td>\n",
       "      <td>2024-03-21 20:42:12+00:00</td>\n",
       "    </tr>\n",
       "    <tr>\n",
       "      <th>17</th>\n",
       "      <td>CA83145a2598ff3529fef78256082aadf3</td>\n",
       "      <td>932</td>\n",
       "      <td>2024-03-21 20:26:40+00:00</td>\n",
       "      <td>2024-03-21 20:42:12+00:00</td>\n",
       "    </tr>\n",
       "    <tr>\n",
       "      <th>18</th>\n",
       "      <td>CA9c5c0a7ee246ce53b0ed069889570e60</td>\n",
       "      <td>0</td>\n",
       "      <td>2024-03-21 20:26:05+00:00</td>\n",
       "      <td>2024-03-21 20:26:28+00:00</td>\n",
       "    </tr>\n",
       "    <tr>\n",
       "      <th>19</th>\n",
       "      <td>CA15cc8aba09a6dd7edbbb33a30715556d</td>\n",
       "      <td>23</td>\n",
       "      <td>2024-03-21 20:26:05+00:00</td>\n",
       "      <td>2024-03-21 20:26:28+00:00</td>\n",
       "    </tr>\n",
       "    <tr>\n",
       "      <th>20</th>\n",
       "      <td>CAb8d57940dee6a7744496c9ca76eed8ef</td>\n",
       "      <td>0</td>\n",
       "      <td>2024-03-21 20:25:33+00:00</td>\n",
       "      <td>2024-03-21 20:26:03+00:00</td>\n",
       "    </tr>\n",
       "    <tr>\n",
       "      <th>21</th>\n",
       "      <td>CA3caeecf00913a368d8cdc1f63e4b2ead</td>\n",
       "      <td>31</td>\n",
       "      <td>2024-03-21 20:25:32+00:00</td>\n",
       "      <td>2024-03-21 20:26:03+00:00</td>\n",
       "    </tr>\n",
       "    <tr>\n",
       "      <th>22</th>\n",
       "      <td>CA62c403334f4e9e50459c043bfdf304a3</td>\n",
       "      <td>0</td>\n",
       "      <td>2024-03-21 20:25:15+00:00</td>\n",
       "      <td>2024-03-21 20:25:18+00:00</td>\n",
       "    </tr>\n",
       "    <tr>\n",
       "      <th>23</th>\n",
       "      <td>CA5894ea0a72c65ac9c0ba31adbfc74944</td>\n",
       "      <td>3</td>\n",
       "      <td>2024-03-21 20:25:15+00:00</td>\n",
       "      <td>2024-03-21 20:25:18+00:00</td>\n",
       "    </tr>\n",
       "    <tr>\n",
       "      <th>24</th>\n",
       "      <td>CAc127dcef12dcda0ef34a33c5f50bf267</td>\n",
       "      <td>0</td>\n",
       "      <td>2024-03-21 20:25:05+00:00</td>\n",
       "      <td>2024-03-21 20:25:13+00:00</td>\n",
       "    </tr>\n",
       "    <tr>\n",
       "      <th>25</th>\n",
       "      <td>CA48754f032940123196f64d18f6bccf99</td>\n",
       "      <td>8</td>\n",
       "      <td>2024-03-21 20:25:05+00:00</td>\n",
       "      <td>2024-03-21 20:25:13+00:00</td>\n",
       "    </tr>\n",
       "    <tr>\n",
       "      <th>26</th>\n",
       "      <td>CAe472015ac960c108d6d8cd1799b1181c</td>\n",
       "      <td>0</td>\n",
       "      <td>2024-03-21 20:24:56+00:00</td>\n",
       "      <td>2024-03-21 20:24:59+00:00</td>\n",
       "    </tr>\n",
       "    <tr>\n",
       "      <th>27</th>\n",
       "      <td>CAaead0947e51b168757d2f09a4f3a63b2</td>\n",
       "      <td>3</td>\n",
       "      <td>2024-03-21 20:24:56+00:00</td>\n",
       "      <td>2024-03-21 20:24:59+00:00</td>\n",
       "    </tr>\n",
       "    <tr>\n",
       "      <th>28</th>\n",
       "      <td>CA599db34c11109756d1fee3854e8d4c9f</td>\n",
       "      <td>0</td>\n",
       "      <td>2024-03-21 20:24:26+00:00</td>\n",
       "      <td>2024-03-21 20:24:53+00:00</td>\n",
       "    </tr>\n",
       "    <tr>\n",
       "      <th>29</th>\n",
       "      <td>CA7ae65d1497c5b297795cb3f4cef50587</td>\n",
       "      <td>27</td>\n",
       "      <td>2024-03-21 20:24:26+00:00</td>\n",
       "      <td>2024-03-21 20:24:53+00:00</td>\n",
       "    </tr>\n",
       "  </tbody>\n",
       "</table>\n",
       "</div>"
      ],
      "text/plain": [
       "                                   SID Duracion                    inicio  \\\n",
       "0   CA835849f09ad3d4eae0c6c1ae5189bfff      147 2024-03-21 20:42:01+00:00   \n",
       "1   CA55427491e387efc57e7e03289d8875c5        0 2024-03-21 20:37:22+00:00   \n",
       "2   CA4b16b60b2546065b20cc991484a20710        0 2024-03-21 20:37:05+00:00   \n",
       "3   CA96527de36690e7fd61b90387292c89a1       91 2024-03-21 20:36:57+00:00   \n",
       "4   CA43a14c0694df0e38a9d9ed625469354d      592 2024-03-21 20:36:00+00:00   \n",
       "5   CAbb148ceaeeebd146af257e01e1ea7df2      607 2024-03-21 20:35:45+00:00   \n",
       "6   CA253b1bc6dabe29003b4e9b137add08fa        0 2024-03-21 20:33:06+00:00   \n",
       "7   CAc7a4930a5114e793a2ad47353337ce8c       65 2024-03-21 20:33:06+00:00   \n",
       "8   CA665ebddf825052b56ffee8c511a9da90      653 2024-03-21 20:33:12+00:00   \n",
       "9   CAb52b3323119b4989ea3331b0adc64e07      716 2024-03-21 20:32:09+00:00   \n",
       "10  CA0b781ee861f636224e64adf01eda36e4       77 2024-03-21 20:30:41+00:00   \n",
       "11  CA0e9b0c75aaa76fa0f1025076ed6154aa       86 2024-03-21 20:30:32+00:00   \n",
       "12  CA16fa0f84b45bab19d420b82d58b2dcde        0 2024-03-21 20:29:59+00:00   \n",
       "13  CAc3d35c3427c9bfcd6e59bac0bf73dcb3       71 2024-03-21 20:29:59+00:00   \n",
       "14  CAe049defabba1789a4ca5ddb47f4a097d      106 2024-03-21 20:28:30+00:00   \n",
       "15  CA5db11395605419f06d49b5aed47a7bcc      126 2024-03-21 20:28:10+00:00   \n",
       "16  CA91af9b19b0ddefe36e08db9c2ffa7849      921 2024-03-21 20:26:51+00:00   \n",
       "17  CA83145a2598ff3529fef78256082aadf3      932 2024-03-21 20:26:40+00:00   \n",
       "18  CA9c5c0a7ee246ce53b0ed069889570e60        0 2024-03-21 20:26:05+00:00   \n",
       "19  CA15cc8aba09a6dd7edbbb33a30715556d       23 2024-03-21 20:26:05+00:00   \n",
       "20  CAb8d57940dee6a7744496c9ca76eed8ef        0 2024-03-21 20:25:33+00:00   \n",
       "21  CA3caeecf00913a368d8cdc1f63e4b2ead       31 2024-03-21 20:25:32+00:00   \n",
       "22  CA62c403334f4e9e50459c043bfdf304a3        0 2024-03-21 20:25:15+00:00   \n",
       "23  CA5894ea0a72c65ac9c0ba31adbfc74944        3 2024-03-21 20:25:15+00:00   \n",
       "24  CAc127dcef12dcda0ef34a33c5f50bf267        0 2024-03-21 20:25:05+00:00   \n",
       "25  CA48754f032940123196f64d18f6bccf99        8 2024-03-21 20:25:05+00:00   \n",
       "26  CAe472015ac960c108d6d8cd1799b1181c        0 2024-03-21 20:24:56+00:00   \n",
       "27  CAaead0947e51b168757d2f09a4f3a63b2        3 2024-03-21 20:24:56+00:00   \n",
       "28  CA599db34c11109756d1fee3854e8d4c9f        0 2024-03-21 20:24:26+00:00   \n",
       "29  CA7ae65d1497c5b297795cb3f4cef50587       27 2024-03-21 20:24:26+00:00   \n",
       "\n",
       "                          Fin  \n",
       "0   2024-03-21 20:44:28+00:00  \n",
       "1                        None  \n",
       "2                        None  \n",
       "3   2024-03-21 20:38:28+00:00  \n",
       "4   2024-03-21 20:45:52+00:00  \n",
       "5   2024-03-21 20:45:52+00:00  \n",
       "6   2024-03-21 20:34:11+00:00  \n",
       "7   2024-03-21 20:34:11+00:00  \n",
       "8   2024-03-21 20:44:05+00:00  \n",
       "9   2024-03-21 20:44:05+00:00  \n",
       "10  2024-03-21 20:31:58+00:00  \n",
       "11  2024-03-21 20:31:58+00:00  \n",
       "12  2024-03-21 20:31:09+00:00  \n",
       "13  2024-03-21 20:31:10+00:00  \n",
       "14  2024-03-21 20:30:16+00:00  \n",
       "15  2024-03-21 20:30:16+00:00  \n",
       "16  2024-03-21 20:42:12+00:00  \n",
       "17  2024-03-21 20:42:12+00:00  \n",
       "18  2024-03-21 20:26:28+00:00  \n",
       "19  2024-03-21 20:26:28+00:00  \n",
       "20  2024-03-21 20:26:03+00:00  \n",
       "21  2024-03-21 20:26:03+00:00  \n",
       "22  2024-03-21 20:25:18+00:00  \n",
       "23  2024-03-21 20:25:18+00:00  \n",
       "24  2024-03-21 20:25:13+00:00  \n",
       "25  2024-03-21 20:25:13+00:00  \n",
       "26  2024-03-21 20:24:59+00:00  \n",
       "27  2024-03-21 20:24:59+00:00  \n",
       "28  2024-03-21 20:24:53+00:00  \n",
       "29  2024-03-21 20:24:53+00:00  "
      ]
     },
     "execution_count": 66,
     "metadata": {},
     "output_type": "execute_result"
    }
   ],
   "source": [
    "llamadasTwilio.head(30)"
   ]
  },
  {
   "cell_type": "code",
   "execution_count": 19,
   "metadata": {},
   "outputs": [
    {
     "data": {
      "text/plain": [
       "(0, 4)"
      ]
     },
     "execution_count": 19,
     "metadata": {},
     "output_type": "execute_result"
    }
   ],
   "source": [
    "llamadasTwilio.shape"
   ]
  },
  {
   "cell_type": "code",
   "execution_count": 20,
   "metadata": {},
   "outputs": [
    {
     "data": {
      "text/html": [
       "<div>\n",
       "<style scoped>\n",
       "    .dataframe tbody tr th:only-of-type {\n",
       "        vertical-align: middle;\n",
       "    }\n",
       "\n",
       "    .dataframe tbody tr th {\n",
       "        vertical-align: top;\n",
       "    }\n",
       "\n",
       "    .dataframe thead th {\n",
       "        text-align: right;\n",
       "    }\n",
       "</style>\n",
       "<table border=\"1\" class=\"dataframe\">\n",
       "  <thead>\n",
       "    <tr style=\"text-align: right;\">\n",
       "      <th></th>\n",
       "      <th>SID</th>\n",
       "      <th>Duracion</th>\n",
       "      <th>inicio</th>\n",
       "      <th>Fin</th>\n",
       "    </tr>\n",
       "  </thead>\n",
       "  <tbody>\n",
       "  </tbody>\n",
       "</table>\n",
       "</div>"
      ],
      "text/plain": [
       "Empty DataFrame\n",
       "Columns: [SID, Duracion, inicio, Fin]\n",
       "Index: []"
      ]
     },
     "execution_count": 20,
     "metadata": {},
     "output_type": "execute_result"
    }
   ],
   "source": [
    "llamadasTwilio.head()"
   ]
  },
  {
   "cell_type": "code",
   "execution_count": null,
   "metadata": {},
   "outputs": [],
   "source": [
    "client.calls.get()"
   ]
  },
  {
   "cell_type": "code",
   "execution_count": null,
   "metadata": {},
   "outputs": [],
   "source": [
    "df = pd.DataFrame(client.calls.list())\n",
    "df.head()"
   ]
  },
  {
   "cell_type": "code",
   "execution_count": 50,
   "metadata": {},
   "outputs": [
    {
     "ename": "AttributeError",
     "evalue": "'Events' object has no attribute 'stream'",
     "output_type": "error",
     "traceback": [
      "\u001b[1;31m---------------------------------------------------------------------------\u001b[0m",
      "\u001b[1;31mAttributeError\u001b[0m                            Traceback (most recent call last)",
      "Cell \u001b[1;32mIn[50], line 10\u001b[0m\n\u001b[0;32m      7\u001b[0m         wait_time \u001b[38;5;241m=\u001b[39m (current_time \u001b[38;5;241m-\u001b[39m start_time)\u001b[38;5;241m.\u001b[39mtotal_seconds()\n\u001b[0;32m      8\u001b[0m         \u001b[38;5;28mprint\u001b[39m(\u001b[38;5;124mf\u001b[39m\u001b[38;5;124m'\u001b[39m\u001b[38;5;124mTiempo de espera para la llamada \u001b[39m\u001b[38;5;132;01m{\u001b[39;00mcall_sid\u001b[38;5;132;01m}\u001b[39;00m\u001b[38;5;124m: \u001b[39m\u001b[38;5;132;01m{\u001b[39;00mwait_time\u001b[38;5;132;01m}\u001b[39;00m\u001b[38;5;124m segundos\u001b[39m\u001b[38;5;124m'\u001b[39m)\n\u001b[1;32m---> 10\u001b[0m event_stream \u001b[38;5;241m=\u001b[39m \u001b[43mclient\u001b[49m\u001b[38;5;241;43m.\u001b[39;49m\u001b[43mevents\u001b[49m\u001b[38;5;241;43m.\u001b[39;49m\u001b[43mstream\u001b[49m()\n\u001b[0;32m     11\u001b[0m event_stream\u001b[38;5;241m.\u001b[39msubscribe(handle_call_initiated, event_type\u001b[38;5;241m=\u001b[39m\u001b[38;5;124m'\u001b[39m\u001b[38;5;124minitiated\u001b[39m\u001b[38;5;124m'\u001b[39m)\n",
      "\u001b[1;31mAttributeError\u001b[0m: 'Events' object has no attribute 'stream'"
     ]
    }
   ],
   "source": [
    "\n",
    "\n",
    "def handle_call_initiated(event):\n",
    "    if event['event_type'] == 'initiated':\n",
    "        call_sid = event['resource_sid']\n",
    "        call = client.calls(call_sid).fetch()\n",
    "        start_time = call.start_time\n",
    "        current_time = datetime.now()\n",
    "        wait_time = (current_time - start_time).total_seconds()\n",
    "        print(f'Tiempo de espera para la llamada {call_sid}: {wait_time} segundos')\n",
    "\n",
    "event_stream = client.events.stream()\n",
    "event_stream.subscribe(handle_call_initiated, event_type='initiated')"
   ]
  },
  {
   "cell_type": "code",
   "execution_count": 52,
   "metadata": {},
   "outputs": [
    {
     "ename": "ImportError",
     "evalue": "cannot import name 'create_engin' from 'sqlalchemy' (c:\\Users\\jmartinez\\.conda\\envs\\salesforce\\lib\\site-packages\\sqlalchemy\\__init__.py)",
     "output_type": "error",
     "traceback": [
      "\u001b[1;31m---------------------------------------------------------------------------\u001b[0m",
      "\u001b[1;31mImportError\u001b[0m                               Traceback (most recent call last)",
      "Cell \u001b[1;32mIn[52], line 3\u001b[0m\n\u001b[0;32m      1\u001b[0m \u001b[38;5;28;01mimport\u001b[39;00m \u001b[38;5;21;01mpandas\u001b[39;00m\n\u001b[0;32m      2\u001b[0m \u001b[38;5;28;01mimport\u001b[39;00m \u001b[38;5;21;01mmatplotlib\u001b[39;00m\u001b[38;5;21;01m.\u001b[39;00m\u001b[38;5;21;01mpyplot\u001b[39;00m \u001b[38;5;28;01mas\u001b[39;00m \u001b[38;5;21;01mplt\u001b[39;00m\n\u001b[1;32m----> 3\u001b[0m \u001b[38;5;28;01mfrom\u001b[39;00m \u001b[38;5;21;01msqlalchemy\u001b[39;00m \u001b[38;5;28;01mimport\u001b[39;00m create_engin\n\u001b[0;32m      4\u001b[0m engine \u001b[38;5;241m=\u001b[39m create_engine(\u001b[38;5;124m\"\u001b[39m\u001b[38;5;124mtwilio:///?AccountSid=MyAccountSid&;AuthToken=MyAuthToken\u001b[39m\u001b[38;5;124m\"\u001b[39m)\n\u001b[0;32m      5\u001b[0m df \u001b[38;5;241m=\u001b[39m pandas\u001b[38;5;241m.\u001b[39mread_sql(\u001b[38;5;124m\"\u001b[39m\u001b[38;5;124mSELECT To, Duration FROM Calls WHERE StartTime = \u001b[39m\u001b[38;5;124m'\u001b[39m\u001b[38;5;124m1/1/2016\u001b[39m\u001b[38;5;124m'\u001b[39m\u001b[38;5;124m\"\u001b[39m, engine)\n",
      "\u001b[1;31mImportError\u001b[0m: cannot import name 'create_engin' from 'sqlalchemy' (c:\\Users\\jmartinez\\.conda\\envs\\salesforce\\lib\\site-packages\\sqlalchemy\\__init__.py)"
     ]
    }
   ],
   "source": [
    "import pandas\n",
    "import matplotlib.pyplot as plt\n",
    "from sqlalchemy import create_engin\n",
    "engine = create_engine(\"twilio:///?AccountSid=MyAccountSid&;AuthToken=MyAuthToken\")\n",
    "df = pandas.read_sql(\"SELECT To, Duration FROM Calls WHERE StartTime = '1/1/2016'\", engine)"
   ]
  }
 ],
 "metadata": {
  "kernelspec": {
   "display_name": "Python 3",
   "language": "python",
   "name": "python3"
  },
  "language_info": {
   "codemirror_mode": {
    "name": "ipython",
    "version": 3
   },
   "file_extension": ".py",
   "mimetype": "text/x-python",
   "name": "python",
   "nbconvert_exporter": "python",
   "pygments_lexer": "ipython3",
   "version": "3.8.16"
  },
  "orig_nbformat": 4
 },
 "nbformat": 4,
 "nbformat_minor": 2
}
