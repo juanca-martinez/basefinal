{
 "cells": [
  {
   "cell_type": "code",
   "execution_count": 8,
   "metadata": {},
   "outputs": [],
   "source": [
    "import pandas as pd\n",
    "import matplotlib.pyplot as plt\n",
    "from twilio.rest import Client\n",
    "import requests\n"
   ]
  },
  {
   "cell_type": "code",
   "execution_count": 10,
   "metadata": {},
   "outputs": [
    {
     "name": "stdout",
     "output_type": "stream",
     "text": [
      "{'code': 20003, 'message': 'Authentication Error - invalid username', 'more_info': 'https://www.twilio.com/docs/errors/20003', 'status': 401}\n"
     ]
    }
   ],
   "source": [
    "AccountSID = \"ACf0932b13d7e256d9932d540a3cb25475\"\n",
    "\n",
    "# Your Auth Token from twilio.com/console\n",
    "\n",
    "auth_token = \"cbf3b69af0f3f7974a09661239a55601\"\n",
    "\n",
    "url = 'https://api.twilio.com/2010-04-01/Accounts/{AccountSID}/Calls.json'\n",
    "#url = \"https://api.twilio.com/2010-04-01/Accounts/{account_sid}/Calls.json\"\n",
    "\n",
    "# Set the authentication credentials\n",
    "auth = (\"{AccountSID}\", \"{auth_token}\")\n",
    "\n",
    "# Make the API request\n",
    "response = requests.get(url, auth=auth)\n",
    "\n",
    "# Print the response data\n",
    "print(response.json())"
   ]
  }
 ],
 "metadata": {
  "kernelspec": {
   "display_name": "Python 3",
   "language": "python",
   "name": "python3"
  },
  "language_info": {
   "codemirror_mode": {
    "name": "ipython",
    "version": 3
   },
   "file_extension": ".py",
   "mimetype": "text/x-python",
   "name": "python",
   "nbconvert_exporter": "python",
   "pygments_lexer": "ipython3",
   "version": "3.8.16"
  },
  "orig_nbformat": 4
 },
 "nbformat": 4,
 "nbformat_minor": 2
}
