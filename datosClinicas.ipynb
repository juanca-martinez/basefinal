{
 "cells": [
  {
   "cell_type": "code",
   "execution_count": 58,
   "metadata": {},
   "outputs": [],
   "source": [
    "from pathlib import Path\n",
    "import requests\n",
    "import pandas as pd\n",
    "import numpy as np\n",
    "from io import StringIO\n",
    "from simple_salesforce import Salesforce\n",
    "import shutil\n",
    "import datetime\n",
    "from datetime import datetime\n"
   ]
  },
  {
   "cell_type": "code",
   "execution_count": 59,
   "metadata": {},
   "outputs": [],
   "source": [
    "sf = Salesforce(\n",
    "    username=\"jmartinez@careassistance.com\",\n",
    "    password=\"Jcmm01041983*\",\n",
    "    security_token=\"dxbNevVOmgmoQS4Zllh3DpNDj\",\n",
    ")"
   ]
  },
  {
   "cell_type": "code",
   "execution_count": 60,
   "metadata": {},
   "outputs": [
    {
     "data": {
      "text/plain": [
       "(4872, 8)"
      ]
     },
     "execution_count": 60,
     "metadata": {},
     "output_type": "execute_result"
    }
   ],
   "source": [
    "# Clinica_deporte\n",
    "results = sf.query_all(\n",
    "    \"\"\"\n",
    "   SELECT id,Name,Rut__c,Nombre_Empresa__c,CreatedDate,Canal__c, Empresa__c, Account__c from Ficha_Cl_nica_Deporte__c\n",
    "     \"\"\"\n",
    ")\n",
    "ficha_deporte = pd.DataFrame(results[\"records\"])\n",
    "\n",
    "ficha_deporte = ficha_deporte[\n",
    "    [\n",
    "        \"Name\",\n",
    "        \"Rut__c\",\n",
    "        \"Nombre_Empresa__c\",\n",
    "        \"CreatedDate\",\n",
    "        \"Canal__c\",\n",
    "        \"Empresa__c\",\n",
    "        \"Account__c\",\n",
    "    ]\n",
    "]\n",
    "ficha_deporte[\"clinica\"] = \"Deporte\"\n",
    "ficha_deporte = ficha_deporte.rename(\n",
    "    columns={\n",
    "        \"Name\": \"Codigo Ficha\",\n",
    "        \"Rut__c\": \"Rut\",\n",
    "        \"Nombre_Empresa__c\": \"Empleador\",\n",
    "        \"CreatedDate\": \"Fecha\",\n",
    "        \"Canal__c\": \"Canal\",\n",
    "        \"Empresa__c\": \"Cod. Empresa\",\n",
    "        \"Account__c\": \"Id Paciente\",\n",
    "        \"clinica\": \"Clínica\",\n",
    "    }\n",
    ")\n",
    "ficha_deporte.shape"
   ]
  },
  {
   "cell_type": "code",
   "execution_count": 61,
   "metadata": {},
   "outputs": [
    {
     "data": {
      "text/plain": [
       "(10983, 8)"
      ]
     },
     "execution_count": 61,
     "metadata": {},
     "output_type": "execute_result"
    }
   ],
   "source": [
    "# Clinica Nutricion\n",
    "results = sf.query_all(\n",
    "    \"\"\"\n",
    "   select  Name, RUT__c, Nombre_Empresa__c, CreatedDate, Canal__c, Empresa__c, Account__c from Ficha_Clinica_Nutrici_n__c \n",
    "     \"\"\"\n",
    ")\n",
    "ficha_nutricion = pd.DataFrame(results[\"records\"])\n",
    "\n",
    "ficha_nutricion = ficha_nutricion[\n",
    "    [\n",
    "        \"Name\",\n",
    "        \"RUT__c\",\n",
    "        \"Nombre_Empresa__c\",\n",
    "        \"CreatedDate\",\n",
    "        \"Canal__c\",\n",
    "        \"Empresa__c\",\n",
    "        \"Account__c\",\n",
    "    ]\n",
    "]\n",
    "ficha_nutricion[\"clinica\"] = \"Nutrición\"\n",
    "\n",
    "ficha_nutricion = ficha_nutricion.rename(\n",
    "    columns={\n",
    "        \"Name\": \"Codigo Ficha\",\n",
    "        \"RUT__c\": \"Rut\",\n",
    "        \"Nombre_Empresa__c\": \"Empleador\",\n",
    "        \"CreatedDate\": \"Fecha\",\n",
    "        \"Canal__c\": \"Canal\",\n",
    "        \"Empresa__c\": \"Cod. Empresa\",\n",
    "        \"Account__c\": \"Id Paciente\",\n",
    "        \"clinica\": \"Clínica\",\n",
    "    }\n",
    ")\n",
    "\n",
    "\n",
    "ficha_nutricion.shape"
   ]
  },
  {
   "cell_type": "code",
   "execution_count": 62,
   "metadata": {},
   "outputs": [
    {
     "data": {
      "text/plain": [
       "(60, 8)"
      ]
     },
     "execution_count": 62,
     "metadata": {},
     "output_type": "execute_result"
    }
   ],
   "source": [
    "# Clinica AppSex\n",
    "results = sf.query_all(\n",
    "    \"\"\"\n",
    "   select  Name, Rut__c, Nombre_Empresa__c, CreatedDate, Canal__c, Empresa__c, Account__c, RecordTypeId from Ficha_Cl_nica_ApsSex__c \n",
    "     \"\"\"\n",
    ")\n",
    "ficha_Apssex = pd.DataFrame(results[\"records\"])\n",
    "\n",
    "ficha_Apssex = ficha_Apssex[\n",
    "    [\n",
    "        \"Name\",\n",
    "        \"Rut__c\",\n",
    "        \"Nombre_Empresa__c\",\n",
    "        \"CreatedDate\",\n",
    "        \"Canal__c\",\n",
    "        \"Empresa__c\",\n",
    "        \"Account__c\",\n",
    "    ]\n",
    "]\n",
    "ficha_Apssex[\"clinica\"] = \"Asesoría Psicológica en Salud Sexual\"\n",
    "ficha_Apssex = ficha_Apssex.rename(\n",
    "    columns={\n",
    "        \"Name\": \"Codigo Ficha\",\n",
    "        \"Rut__c\": \"Rut\",\n",
    "        \"Nombre_Empresa__c\": \"Empleador\",\n",
    "        \"CreatedDate\": \"Fecha\",\n",
    "        \"Canal__c\": \"Canal\",\n",
    "        \"Empresa__c\": \"Cod. Empresa\",\n",
    "        \"Account__c\": \"Id Paciente\",\n",
    "        \"clinica\": \"Clínica\",\n",
    "    }\n",
    ")\n",
    "\n",
    "ficha_Apssex.shape"
   ]
  },
  {
   "cell_type": "code",
   "execution_count": 63,
   "metadata": {},
   "outputs": [
    {
     "data": {
      "text/plain": [
       "(7858, 9)"
      ]
     },
     "execution_count": 63,
     "metadata": {},
     "output_type": "execute_result"
    }
   ],
   "source": [
    "# Clinica Psicologia\n",
    "results = sf.query_all(\n",
    "    \"\"\"\n",
    "   select  Name, Rut__c, Nombre_Empresa__c, CreatedDate, Canal__c, Empresa__c, Account__c, RecordTypeId,Motivo_de_consulta_manifiesto__c from Ficha_Cl_nica_Asistencia_Emocional__c \n",
    "     \"\"\"\n",
    ")\n",
    "ficha_Psicologia = pd.DataFrame(results[\"records\"])\n",
    "\n",
    "ficha_Psicologia = ficha_Psicologia[\n",
    "    [\n",
    "        \"Name\",\n",
    "        \"Rut__c\",\n",
    "        \"Nombre_Empresa__c\",\n",
    "        \"CreatedDate\",\n",
    "        \"Canal__c\",\n",
    "        \"Empresa__c\",\n",
    "        \"Account__c\",\n",
    "        \"Motivo_de_consulta_manifiesto__c\",\n",
    "    ]\n",
    "]\n",
    "ficha_Psicologia[\"clinica\"] = \"Psicología\"\n",
    "ficha_Psicologia.Motivo_de_consulta_manifiesto__c.fillna(0, inplace=True)\n",
    "ficha_Psicologia[\"Motivo_de_consulta_manifiesto__c\"] = np.where(\n",
    "    ficha_Psicologia[\"Motivo_de_consulta_manifiesto__c\"] == 0,\n",
    "    \"Otras Derivaciones\",\n",
    "    ficha_Psicologia[\"Motivo_de_consulta_manifiesto__c\"],\n",
    ")\n",
    "# ficha_Psicologia['77'] = len(ficha_Psicologia['Motivo_de_consulta_manifiesto__c'])\n",
    "ficha_Psicologia = ficha_Psicologia.rename(\n",
    "    columns={\n",
    "        \"Name\": \"Codigo Ficha\",\n",
    "        \"Rut__c\": \"Rut\",\n",
    "        \"Nombre_Empresa__c\": \"Empleador\",\n",
    "        \"CreatedDate\": \"Fecha\",\n",
    "        \"Canal__c\": \"Canal\",\n",
    "        \"Empresa__c\": \"Cod. Empresa\",\n",
    "        \"Account__c\": \"Id Paciente\",\n",
    "        \"clinica\": \"Clínica\",\n",
    "        \"Motivo_de_consulta_manifiesto__c\": \"Motivo de consulta\",\n",
    "    }\n",
    ")\n",
    "\n",
    "ficha_Psicologia.shape"
   ]
  },
  {
   "cell_type": "code",
   "execution_count": 64,
   "metadata": {},
   "outputs": [
    {
     "data": {
      "text/plain": [
       "(1055, 8)"
      ]
     },
     "execution_count": 64,
     "metadata": {},
     "output_type": "execute_result"
    }
   ],
   "source": [
    "# Clinica Sueño\n",
    "results = sf.query_all(\n",
    "    \"\"\"\n",
    "   select  Name, RUT__c, Nombre_Empresa__c, CreatedDate, Canal__c, Empresa__c, Account__c, RecordTypeId from Ficha_Cl_nica_del_Sue_o__c \n",
    "     \"\"\"\n",
    ")\n",
    "ficha_Sueno = pd.DataFrame(results[\"records\"])\n",
    "ficha_Sueno = ficha_Sueno[\n",
    "    [\n",
    "        \"Name\",\n",
    "        \"Rut__c\",\n",
    "        \"Nombre_Empresa__c\",\n",
    "        \"CreatedDate\",\n",
    "        \"Canal__c\",\n",
    "        \"Empresa__c\",\n",
    "        \"Account__c\",\n",
    "    ]\n",
    "]\n",
    "ficha_Sueno[\"clinica\"] = \"Clínica Del Sueño\"\n",
    "ficha_Sueno = ficha_Sueno.rename(\n",
    "    columns={\n",
    "        \"Name\": \"Codigo Ficha\",\n",
    "        \"Rut__c\": \"Rut\",\n",
    "        \"Nombre_Empresa__c\": \"Empleador\",\n",
    "        \"CreatedDate\": \"Fecha\",\n",
    "        \"Canal__c\": \"Canal\",\n",
    "        \"Empresa__c\": \"Cod. Empresa\",\n",
    "        \"Account__c\": \"Id Paciente\",\n",
    "        \"clinica\": \"Clínica\",\n",
    "    }\n",
    ")\n",
    "ficha_Sueno.shape"
   ]
  },
  {
   "cell_type": "code",
   "execution_count": 65,
   "metadata": {},
   "outputs": [
    {
     "data": {
      "text/plain": [
       "(2928, 8)"
      ]
     },
     "execution_count": 65,
     "metadata": {},
     "output_type": "execute_result"
    }
   ],
   "source": [
    "# Clinica PAciente Cronico\n",
    "results = sf.query_all(\n",
    "    \"\"\"\n",
    "   select  Name, RUT__c, Nombre_Empresa__c, CreatedDate, Canal__c, Empresa__c, Account__c from Ficha_Cl_nica_Seg_Paciente_Cr_nico__c  \n",
    "     \"\"\"\n",
    ")\n",
    "ficha_Cronico = pd.DataFrame(results[\"records\"])\n",
    "ficha_Cronico = ficha_Cronico[\n",
    "    [\n",
    "        \"Name\",\n",
    "        \"Rut__c\",\n",
    "        \"Nombre_Empresa__c\",\n",
    "        \"CreatedDate\",\n",
    "        \"Canal__c\",\n",
    "        \"Empresa__c\",\n",
    "        \"Account__c\",\n",
    "    ]\n",
    "]\n",
    "ficha_Cronico[\"clinica\"] = \"Pacientes Crónicos\"\n",
    "ficha_Cronico = ficha_Cronico.rename(\n",
    "    columns={\n",
    "        \"Name\": \"Codigo Ficha\",\n",
    "        \"Rut__c\": \"Rut\",\n",
    "        \"Nombre_Empresa__c\": \"Empleador\",\n",
    "        \"CreatedDate\": \"Fecha\",\n",
    "        \"Canal__c\": \"Canal\",\n",
    "        \"Empresa__c\": \"Cod. Empresa\",\n",
    "        \"Account__c\": \"Id Paciente\",\n",
    "        \"clinica\": \"Clínica\",\n",
    "    }\n",
    ")\n",
    "ficha_Cronico.shape"
   ]
  },
  {
   "cell_type": "code",
   "execution_count": 66,
   "metadata": {},
   "outputs": [
    {
     "data": {
      "text/plain": [
       "(15063, 8)"
      ]
     },
     "execution_count": 66,
     "metadata": {},
     "output_type": "execute_result"
    }
   ],
   "source": [
    "# Clinica Telemedicina\n",
    "results = sf.query_all(\n",
    "    \"\"\"\n",
    "   select  Name, RUT__c, Nombre_Empresa__c, CreatedDate, Canal__c, Empresa__c, Account__c from Ficha_Cl_nica_Telemedicina__c   \n",
    "     \"\"\"\n",
    ")\n",
    "ficha_Telemedicina = pd.DataFrame(results[\"records\"])\n",
    "ficha_Telemedicina = ficha_Telemedicina[\n",
    "    [\n",
    "        \"Name\",\n",
    "        \"Rut__c\",\n",
    "        \"Nombre_Empresa__c\",\n",
    "        \"CreatedDate\",\n",
    "        \"Canal__c\",\n",
    "        \"Empresa__c\",\n",
    "        \"Account__c\",\n",
    "    ]\n",
    "]\n",
    "ficha_Telemedicina[\"clinica\"] = \"Telemedicina\"\n",
    "ficha_Telemedicina = ficha_Telemedicina.rename(\n",
    "    columns={\n",
    "        \"Name\": \"Codigo Ficha\",\n",
    "        \"Rut__c\": \"Rut\",\n",
    "        \"Nombre_Empresa__c\": \"Empleador\",\n",
    "        \"CreatedDate\": \"Fecha\",\n",
    "        \"Canal__c\": \"Canal\",\n",
    "        \"Empresa__c\": \"Cod. Empresa\",\n",
    "        \"Account__c\": \"Id Paciente\",\n",
    "        \"clinica\": \"Clínica\",\n",
    "    }\n",
    ")\n",
    "ficha_Telemedicina.shape"
   ]
  },
  {
   "cell_type": "code",
   "execution_count": 67,
   "metadata": {},
   "outputs": [
    {
     "data": {
      "text/plain": [
       "(119, 8)"
      ]
     },
     "execution_count": 67,
     "metadata": {},
     "output_type": "execute_result"
    }
   ],
   "source": [
    "# Clinica Veterinaria\n",
    "results = sf.query_all(\n",
    "    \"\"\"\n",
    "   select  Name, RUT__c, Nombre_Empresa__c, CreatedDate, Canal__c, Empresa__c, Account__c from Ficha_Cl_nica_Veterinaria__c    \n",
    "     \"\"\"\n",
    ")\n",
    "ficha_Veterinaria = pd.DataFrame(results[\"records\"])\n",
    "ficha_Veterinaria = ficha_Veterinaria[\n",
    "    [\n",
    "        \"Name\",\n",
    "        \"Rut__c\",\n",
    "        \"Nombre_Empresa__c\",\n",
    "        \"CreatedDate\",\n",
    "        \"Canal__c\",\n",
    "        \"Empresa__c\",\n",
    "        \"Account__c\",\n",
    "    ]\n",
    "]\n",
    "ficha_Veterinaria[\"clinica\"] = \"Veterinaria\"\n",
    "ficha_Veterinaria = ficha_Veterinaria.rename(\n",
    "    columns={\n",
    "        \"Name\": \"Codigo Ficha\",\n",
    "        \"Rut__c\": \"Rut\",\n",
    "        \"Nombre_Empresa__c\": \"Empleador\",\n",
    "        \"CreatedDate\": \"Fecha\",\n",
    "        \"Canal__c\": \"Canal\",\n",
    "        \"Empresa__c\": \"Cod. Empresa\",\n",
    "        \"Account__c\": \"Id Paciente\",\n",
    "        \"clinica\": \"Clínica\",\n",
    "    }\n",
    ")\n",
    "ficha_Veterinaria.shape"
   ]
  },
  {
   "cell_type": "code",
   "execution_count": 68,
   "metadata": {},
   "outputs": [
    {
     "data": {
      "text/plain": [
       "(276, 8)"
      ]
     },
     "execution_count": 68,
     "metadata": {},
     "output_type": "execute_result"
    }
   ],
   "source": [
    "# Clinica Orientacion\n",
    "results = sf.query_all(\n",
    "    \"\"\"\n",
    "   select  Name, RUT__c, Nombre_Empresa__c, CreatedDate, Canal__c, Empresa__c, Account__c from Ficha_Orientaci_n_Medica__c     \n",
    "     \"\"\"\n",
    ")\n",
    "ficha_Orientacion = pd.DataFrame(results[\"records\"])\n",
    "ficha_Orientacion = ficha_Orientacion[\n",
    "    [\n",
    "        \"Name\",\n",
    "        \"Rut__c\",\n",
    "        \"Nombre_Empresa__c\",\n",
    "        \"CreatedDate\",\n",
    "        \"Canal__c\",\n",
    "        \"Empresa__c\",\n",
    "        \"Account__c\",\n",
    "    ]\n",
    "]\n",
    "ficha_Orientacion[\"clinica\"] = \"Orientación Médica\"\n",
    "ficha_Orientacion = ficha_Orientacion.rename(\n",
    "    columns={\n",
    "        \"Name\": \"Codigo Ficha\",\n",
    "        \"Rut__c\": \"Rut\",\n",
    "        \"Nombre_Empresa__c\": \"Empleador\",\n",
    "        \"CreatedDate\": \"Fecha\",\n",
    "        \"Canal__c\": \"Canal\",\n",
    "        \"Empresa__c\": \"Cod. Empresa\",\n",
    "        \"Account__c\": \"Id Paciente\",\n",
    "        \"clinica\": \"Clínica\",\n",
    "    }\n",
    ")\n",
    "ficha_Orientacion.shape\n"
   ]
  },
  {
   "cell_type": "code",
   "execution_count": 69,
   "metadata": {},
   "outputs": [
    {
     "data": {
      "text/plain": [
       "(5178, 8)"
      ]
     },
     "execution_count": 69,
     "metadata": {},
     "output_type": "execute_result"
    }
   ],
   "source": [
    "# Clinica Front\n",
    "results = sf.query_all(\n",
    "    \"\"\"\n",
    "   select  Name, RUT__c, Nombre_Empresa__c, CreatedDate, Canal__c, Empresa__c, Account__c from Ficha_Front__c     \n",
    "     \"\"\"\n",
    ")\n",
    "ficha_Front = pd.DataFrame(results[\"records\"])\n",
    "\n",
    "ficha_Front = ficha_Front[\n",
    "    [\n",
    "        \"Name\",\n",
    "        \"Rut__c\",\n",
    "        \"Nombre_Empresa__c\",\n",
    "        \"CreatedDate\",\n",
    "        \"Canal__c\",\n",
    "        \"Empresa__c\",\n",
    "        \"Account__c\",\n",
    "    ]\n",
    "]\n",
    "ficha_Front[\"clinica\"] = \"Orientación Médica\"\n",
    "ficha_Front = ficha_Front.rename(\n",
    "    columns={\n",
    "        \"Name\": \"Codigo Ficha\",\n",
    "        \"Rut__c\": \"Rut\",\n",
    "        \"Nombre_Empresa__c\": \"Empleador\",\n",
    "        \"CreatedDate\": \"Fecha\",\n",
    "        \"Canal__c\": \"Canal\",\n",
    "        \"Empresa__c\": \"Cod. Empresa\",\n",
    "        \"Account__c\": \"Id Paciente\",\n",
    "        \"clinica\": \"Clínica\",\n",
    "    }\n",
    ")\n",
    "ficha_Front.shape\n"
   ]
  },
  {
   "cell_type": "code",
   "execution_count": 70,
   "metadata": {},
   "outputs": [
    {
     "data": {
      "text/plain": [
       "(4854, 8)"
      ]
     },
     "execution_count": 70,
     "metadata": {},
     "output_type": "execute_result"
    }
   ],
   "source": [
    "# Clinica_general\n",
    "results = sf.query_all(\n",
    "    \"\"\"\n",
    "   select  Name, RUT__c, Nombre_Empresa__c, CreatedDate, Canal__c, Empresa__c,Account__c,   Programa__c   from Ficha_Clinica_General__c \n",
    "     \"\"\"\n",
    ")\n",
    "ficha_general = pd.DataFrame(results[\"records\"])\n",
    "\n",
    "ficha_general = ficha_general[\n",
    "    [\n",
    "        \"Name\",\n",
    "        \"Rut__c\",\n",
    "        \"Nombre_Empresa__c\",\n",
    "        \"CreatedDate\",\n",
    "        \"Canal__c\",\n",
    "        \"Empresa__c\",\n",
    "        \"Account__c\",\n",
    "        \"Programa__c\",\n",
    "    ]\n",
    "]\n",
    "\n",
    "ficha_general = ficha_general.rename(\n",
    "    columns={\n",
    "        \"Name\": \"Codigo Ficha\",\n",
    "        \"Rut__c\": \"Rut\",\n",
    "        \"Nombre_Empresa__c\": \"Empleador\",\n",
    "        \"CreatedDate\": \"Fecha\",\n",
    "        \"Canal__c\": \"Canal\",\n",
    "        \"Empresa__c\": \"Cod. Empresa\",\n",
    "        \"Account__c\": \"Id Paciente\",\n",
    "        \"Programa__c\": \"Clínica\",\n",
    "    }\n",
    ")\n",
    "ficha_general.shape"
   ]
  },
  {
   "cell_type": "code",
   "execution_count": 71,
   "metadata": {},
   "outputs": [
    {
     "data": {
      "text/plain": [
       "(268, 8)"
      ]
     },
     "execution_count": 71,
     "metadata": {},
     "output_type": "execute_result"
    }
   ],
   "source": [
    "# Clinica Ingreso deportivo\n",
    "results = sf.query_all(\n",
    "    \"\"\"\n",
    "   select  Name, RUT__c, Nombre_Empresa__c, CreatedDate, Canal__c, Empresa__c, Account__c from Ficha_Cl_nica_Ingreso_Deportivo__c    \n",
    "     \"\"\"\n",
    ")\n",
    "ficha_Ingreso_dep = pd.DataFrame(results[\"records\"])\n",
    "\n",
    "ficha_Ingreso_dep = ficha_Ingreso_dep[\n",
    "    [\n",
    "        \"Name\",\n",
    "        \"Rut__c\",\n",
    "        \"Nombre_Empresa__c\",\n",
    "        \"CreatedDate\",\n",
    "        \"Canal__c\",\n",
    "        \"Empresa__c\",\n",
    "        \"Account__c\",\n",
    "    ]\n",
    "]\n",
    "ficha_Ingreso_dep[\"clinica\"] = \"Ingreso Deporte Seguro\"\n",
    "ficha_Ingreso_dep = ficha_Ingreso_dep.rename(\n",
    "    columns={\n",
    "        \"Name\": \"Codigo Ficha\",\n",
    "        \"Rut__c\": \"Rut\",\n",
    "        \"Nombre_Empresa__c\": \"Empleador\",\n",
    "        \"CreatedDate\": \"Fecha\",\n",
    "        \"Canal__c\": \"Canal\",\n",
    "        \"Empresa__c\": \"Cod. Empresa\",\n",
    "        \"Account__c\": \"Id Paciente\",\n",
    "        \"clinica\": \"Clínica\",\n",
    "    }\n",
    ")\n",
    "ficha_Ingreso_dep.shape"
   ]
  },
  {
   "cell_type": "code",
   "execution_count": 72,
   "metadata": {},
   "outputs": [
    {
     "data": {
      "text/plain": [
       "(3, 8)"
      ]
     },
     "execution_count": 72,
     "metadata": {},
     "output_type": "execute_result"
    }
   ],
   "source": [
    "# Clinica Ergonomia\n",
    "results = sf.query_all(\n",
    "    \"\"\"\n",
    "   select id,Name, Rut__c, Nombre_de_Empresa__c, CreatedDate, Canal__c, Empresa__c, Cuenta__c from Ficha_de_Ergonomia__c    \n",
    "     \"\"\"\n",
    ")\n",
    "fichaErgonomia = pd.DataFrame(results[\"records\"])\n",
    "\n",
    "fichaErgonomia = fichaErgonomia[\n",
    "    [\n",
    "        \"Name\",\n",
    "        \"Rut__c\",\n",
    "        \"Nombre_de_Empresa__c\",\n",
    "        \"CreatedDate\",\n",
    "        \"Canal__c\",\n",
    "        \"Empresa__c\",\n",
    "        \"Cuenta__c\",\n",
    "    ]\n",
    "]\n",
    "fichaErgonomia[\"clinica\"] = \"Ergonomía\"\n",
    "fichaErgonomia = fichaErgonomia.rename(\n",
    "    columns={\n",
    "        \"Name\": \"Codigo Ficha\",\n",
    "        \"Rut__c\": \"Rut\",\n",
    "        \"Nombre_de_Empresa__c\": \"Empleador\",\n",
    "        \"CreatedDate\": \"Fecha\",\n",
    "        \"Canal__c\": \"Canal\",\n",
    "        \"Empresa__c\": \"Cod. Empresa\",\n",
    "        \"Account__c\": \"Id Paciente\",\n",
    "        \"clinica\": \"Clínica\",\n",
    "    }\n",
    ")\n",
    "fichaErgonomia.shape"
   ]
  },
  {
   "cell_type": "code",
   "execution_count": 73,
   "metadata": {},
   "outputs": [
    {
     "data": {
      "text/plain": [
       "(12, 8)"
      ]
     },
     "execution_count": 73,
     "metadata": {},
     "output_type": "execute_result"
    }
   ],
   "source": [
    "# Clinica Mis Primeros Pasos\n",
    "results = sf.query_all(\n",
    "    \"\"\"\n",
    "   select id,Name, Rut__c,Nombre_Empresa__c, CreatedDate, Canal__c, Empresa__c, Cuenta__c from Ficha_Mis_Primeros_Pasos__c    \n",
    "     \"\"\"\n",
    ")\n",
    "misPrimeros = pd.DataFrame(results[\"records\"])\n",
    "\n",
    "misPrimeros = misPrimeros[\n",
    "    [\n",
    "        \"Name\",\n",
    "        \"Rut__c\",\n",
    "        \"Nombre_Empresa__c\",\n",
    "        \"CreatedDate\",\n",
    "        \"Canal__c\",\n",
    "        \"Empresa__c\",\n",
    "        \"Cuenta__c\",\n",
    "    ]\n",
    "]\n",
    "misPrimeros[\"clinica\"] = \"Mis Primeros Pasos\"\n",
    "misPrimeros = misPrimeros.rename(\n",
    "    columns={\n",
    "        \"Name\": \"Codigo Ficha\",\n",
    "        \"Rut__c\": \"Rut\",\n",
    "        \"Nombre_Empresa__c\": \"Empleador\",\n",
    "        \"CreatedDate\": \"Fecha\",\n",
    "        \"Canal__c\": \"Canal\",\n",
    "        \"Empresa__c\": \"Cod. Empresa\",\n",
    "        \"Account__c\": \"Id Paciente\",\n",
    "        \"clinica\": \"Clínica\",\n",
    "    }\n",
    ")\n",
    "misPrimeros.shape"
   ]
  },
  {
   "cell_type": "code",
   "execution_count": 74,
   "metadata": {},
   "outputs": [
    {
     "data": {
      "text/plain": [
       "(23, 8)"
      ]
     },
     "execution_count": 74,
     "metadata": {},
     "output_type": "execute_result"
    }
   ],
   "source": [
    "# Clinica Ergonomia\n",
    "results = sf.query_all(\n",
    "    \"\"\"\n",
    "     select id,Name, Rut__c,Nombre_Empresa__c, CreatedDate, Canal__c, Empresa__c, Account__c from Ficha_Cl_nica_Obstreticia__c     \n",
    "     \"\"\"\n",
    ")\n",
    "obsteTricia = pd.DataFrame(results[\"records\"])\n",
    "\n",
    "obsteTricia = obsteTricia[\n",
    "    [\n",
    "        \"Name\",\n",
    "        \"Rut__c\",\n",
    "        \"Nombre_Empresa__c\",\n",
    "        \"CreatedDate\",\n",
    "        \"Canal__c\",\n",
    "        \"Empresa__c\",\n",
    "        \"Account__c\",\n",
    "    ]\n",
    "]\n",
    "obsteTricia[\"clinica\"] = \"Obstetricia\"\n",
    "obsteTricia = obsteTricia.rename(\n",
    "    columns={\n",
    "        \"Name\": \"Codigo Ficha\",\n",
    "        \"Rut__c\": \"Rut\",\n",
    "        \"Nombre_Empresa__c\": \"Empleador\",\n",
    "        \"CreatedDate\": \"Fecha\",\n",
    "        \"Canal__c\": \"Canal\",\n",
    "        \"Empresa__c\": \"Cod. Empresa\",\n",
    "        \"Account__c\": \"Id Paciente\",\n",
    "        \"clinica\": \"Clínica\",\n",
    "    }\n",
    ")\n",
    "obsteTricia.shape"
   ]
  },
  {
   "cell_type": "code",
   "execution_count": 75,
   "metadata": {},
   "outputs": [
    {
     "data": {
      "text/plain": [
       "(53552, 10)"
      ]
     },
     "execution_count": 75,
     "metadata": {},
     "output_type": "execute_result"
    }
   ],
   "source": [
    "Clinicas = pd.concat(\n",
    "    [\n",
    "        ficha_Front,\n",
    "        ficha_Ingreso_dep,\n",
    "        ficha_Orientacion,\n",
    "        ficha_Veterinaria,\n",
    "        ficha_Telemedicina,\n",
    "        ficha_Cronico,\n",
    "        ficha_Sueno,\n",
    "        ficha_Psicologia,\n",
    "        ficha_Apssex,\n",
    "        ficha_nutricion,\n",
    "        ficha_deporte,\n",
    "        ficha_general,\n",
    "        obsteTricia,\n",
    "        misPrimeros,\n",
    "        fichaErgonomia,\n",
    "    ],\n",
    "    axis=0,\n",
    ")\n",
    "Clinicas.shape"
   ]
  },
  {
   "cell_type": "code",
   "execution_count": 77,
   "metadata": {},
   "outputs": [
    {
     "data": {
      "text/html": [
       "<div>\n",
       "<style scoped>\n",
       "    .dataframe tbody tr th:only-of-type {\n",
       "        vertical-align: middle;\n",
       "    }\n",
       "\n",
       "    .dataframe tbody tr th {\n",
       "        vertical-align: top;\n",
       "    }\n",
       "\n",
       "    .dataframe thead th {\n",
       "        text-align: right;\n",
       "    }\n",
       "</style>\n",
       "<table border=\"1\" class=\"dataframe\">\n",
       "  <thead>\n",
       "    <tr style=\"text-align: right;\">\n",
       "      <th></th>\n",
       "      <th>Codigo Ficha</th>\n",
       "      <th>Rut</th>\n",
       "      <th>Empleador</th>\n",
       "      <th>Fecha</th>\n",
       "      <th>Canal</th>\n",
       "      <th>Cod. Empresa</th>\n",
       "      <th>Id Paciente</th>\n",
       "      <th>Clínica</th>\n",
       "      <th>Motivo de consulta</th>\n",
       "      <th>Cuenta__c</th>\n",
       "    </tr>\n",
       "  </thead>\n",
       "  <tbody>\n",
       "    <tr>\n",
       "      <th>0</th>\n",
       "      <td>FFF-0002</td>\n",
       "      <td>MOAI100308MJCRCSA4</td>\n",
       "      <td>None</td>\n",
       "      <td>2022-12-08T17:20:22.000+0000</td>\n",
       "      <td>None</td>\n",
       "      <td>None</td>\n",
       "      <td>0018c00002d7jlWAAQ</td>\n",
       "      <td>Orientación Médica</td>\n",
       "      <td>NaN</td>\n",
       "      <td>NaN</td>\n",
       "    </tr>\n",
       "    <tr>\n",
       "      <th>1</th>\n",
       "      <td>FFF-0003</td>\n",
       "      <td>AUGI770101MJCNNR06</td>\n",
       "      <td>Ambar MX</td>\n",
       "      <td>2022-12-08T21:13:52.000+0000</td>\n",
       "      <td>Saliente - Llamada</td>\n",
       "      <td>a1Y8c00000C6THvEAN</td>\n",
       "      <td>0018c00002cXy5OAAS</td>\n",
       "      <td>Orientación Médica</td>\n",
       "      <td>NaN</td>\n",
       "      <td>NaN</td>\n",
       "    </tr>\n",
       "    <tr>\n",
       "      <th>2</th>\n",
       "      <td>FFF-0005</td>\n",
       "      <td>HESJ910818MVZRNN01</td>\n",
       "      <td>ICSI MX</td>\n",
       "      <td>2022-12-14T20:23:06.000+0000</td>\n",
       "      <td>None</td>\n",
       "      <td>a1Y8c00000C6TKKEA3</td>\n",
       "      <td>0018c00002cXzcdAAC</td>\n",
       "      <td>Orientación Médica</td>\n",
       "      <td>NaN</td>\n",
       "      <td>NaN</td>\n",
       "    </tr>\n",
       "    <tr>\n",
       "      <th>3</th>\n",
       "      <td>FFF-0006</td>\n",
       "      <td>RARA950705HNLMSN07</td>\n",
       "      <td>Ambar MX</td>\n",
       "      <td>2023-01-02T21:49:13.000+0000</td>\n",
       "      <td>None</td>\n",
       "      <td>a1Y8c00000C6THlEAN</td>\n",
       "      <td>0018c00002cXy5EAAS</td>\n",
       "      <td>Orientación Médica</td>\n",
       "      <td>NaN</td>\n",
       "      <td>NaN</td>\n",
       "    </tr>\n",
       "    <tr>\n",
       "      <th>4</th>\n",
       "      <td>FFF-0007</td>\n",
       "      <td>185410072</td>\n",
       "      <td>Colaboradores Care Assistance Chile SPA</td>\n",
       "      <td>2023-01-20T16:06:57.000+0000</td>\n",
       "      <td>Entrante - Llamada</td>\n",
       "      <td>a1Y8c00000C6UcYEAV</td>\n",
       "      <td>0018c00002amV70AAE</td>\n",
       "      <td>Orientación Médica</td>\n",
       "      <td>NaN</td>\n",
       "      <td>NaN</td>\n",
       "    </tr>\n",
       "  </tbody>\n",
       "</table>\n",
       "</div>"
      ],
      "text/plain": [
       "  Codigo Ficha                 Rut                                Empleador  \\\n",
       "0     FFF-0002  MOAI100308MJCRCSA4                                     None   \n",
       "1     FFF-0003  AUGI770101MJCNNR06                                 Ambar MX   \n",
       "2     FFF-0005  HESJ910818MVZRNN01                                  ICSI MX   \n",
       "3     FFF-0006  RARA950705HNLMSN07                                 Ambar MX   \n",
       "4     FFF-0007           185410072  Colaboradores Care Assistance Chile SPA   \n",
       "\n",
       "                          Fecha               Canal        Cod. Empresa  \\\n",
       "0  2022-12-08T17:20:22.000+0000                None                None   \n",
       "1  2022-12-08T21:13:52.000+0000  Saliente - Llamada  a1Y8c00000C6THvEAN   \n",
       "2  2022-12-14T20:23:06.000+0000                None  a1Y8c00000C6TKKEA3   \n",
       "3  2023-01-02T21:49:13.000+0000                None  a1Y8c00000C6THlEAN   \n",
       "4  2023-01-20T16:06:57.000+0000  Entrante - Llamada  a1Y8c00000C6UcYEAV   \n",
       "\n",
       "          Id Paciente             Clínica Motivo de consulta Cuenta__c  \n",
       "0  0018c00002d7jlWAAQ  Orientación Médica                NaN       NaN  \n",
       "1  0018c00002cXy5OAAS  Orientación Médica                NaN       NaN  \n",
       "2  0018c00002cXzcdAAC  Orientación Médica                NaN       NaN  \n",
       "3  0018c00002cXy5EAAS  Orientación Médica                NaN       NaN  \n",
       "4  0018c00002amV70AAE  Orientación Médica                NaN       NaN  "
      ]
     },
     "execution_count": 77,
     "metadata": {},
     "output_type": "execute_result"
    }
   ],
   "source": [
    "Clinicas.head()"
   ]
  }
 ],
 "metadata": {
  "kernelspec": {
   "display_name": "salesforce",
   "language": "python",
   "name": "python3"
  },
  "language_info": {
   "codemirror_mode": {
    "name": "ipython",
    "version": 3
   },
   "file_extension": ".py",
   "mimetype": "text/x-python",
   "name": "python",
   "nbconvert_exporter": "python",
   "pygments_lexer": "ipython3",
   "version": "3.8.16"
  },
  "orig_nbformat": 4
 },
 "nbformat": 4,
 "nbformat_minor": 2
}
