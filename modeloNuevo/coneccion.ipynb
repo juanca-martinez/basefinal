{
 "cells": [
  {
   "cell_type": "code",
   "execution_count": null,
   "metadata": {
    "notebookRunGroups": {
     "groupValue": "1"
    }
   },
   "outputs": [],
   "source": [
    "import json\n",
    "import pandas as pd\n",
    "from simple_salesforce import Salesforce, format_soql, format_external_id\n",
    "from json import loads, dumps"
   ]
  },
  {
   "cell_type": "code",
   "execution_count": null,
   "metadata": {
    "notebookRunGroups": {
     "groupValue": "1"
    }
   },
   "outputs": [],
   "source": [
    "with open(\"../login.json\", \"r\") as j:\n",
    "    misDatos = json.load(j)"
   ]
  },
  {
   "cell_type": "code",
   "execution_count": null,
   "metadata": {
    "notebookRunGroups": {
     "groupValue": "1"
    }
   },
   "outputs": [],
   "source": [
    "sf = Salesforce(\n",
    "    username=misDatos[\"username\"],\n",
    "    password=misDatos[\"password\"],\n",
    "    security_token=misDatos[\"security_token\"],\n",
    ")"
   ]
  },
  {
   "cell_type": "code",
   "execution_count": null,
   "metadata": {},
   "outputs": [],
   "source": []
  },
  {
   "cell_type": "code",
   "execution_count": null,
   "metadata": {},
   "outputs": [],
   "source": [
    "brandGroupsIds = \"Lipigas\"\n",
    "busquedaDatos = \"FIND {\" + brandGroupsIds + \"} RETURNING Brand_Account__c(Id,Atributo_1_3__c,Valor_1_3__c,Nombre_Elemento_1__c,Tipo_Elemento_1__c,Brand_Groups__r.Empresa__c  )\"\n",
    "derty = dict(sf.search(busquedaDatos))"
   ]
  },
  {
   "cell_type": "code",
   "execution_count": null,
   "metadata": {},
   "outputs": [],
   "source": [
    "derty"
   ]
  },
  {
   "cell_type": "code",
   "execution_count": null,
   "metadata": {},
   "outputs": [],
   "source": [
    "brandGroupsIds = \"a41RN0000000fNRYAY\"\n",
    "\n",
    "\n",
    "\n",
    "soql_result = sf.query(\n",
    "    format_soql(\n",
    "        \"SELECT Id,Nombre_Elemento_1__c,Tipo_Elemento_1__c,Atributo_1_3__c,Valor_1_3__c   from Brand_Account__c WHERE Brand_Groups__c = {brandGroupId} and Tipo_de_Front__c = 'mobile' and Tipo_Elemento_1__c = 'C'\",\n",
    "        brandGroupId=brandGroupsIds,\n",
    "    )\n",
    ")\n",
    "df = pd.DataFrame(soql_result.get(\"records\"))\n",
    "df = df.drop(columns=[\"attributes\"])\n",
    "# df = df.drop(columns=\"Id\")\n",
    "list_of_records = df.to_dict(\"index\")\n",
    "\n",
    "\n",
    "\n",
    "\n",
    "\n",
    "\n",
    "for listado in list_of_records:\n",
    "    print(\n",
    "        \n",
    "         list_of_records[listado][\"Id\"]\n",
    "        + \" - \"\n",
    "        + list_of_records[listado][\"Valor_1_3__c\"]\n",
    "        + \" - \"\n",
    "        + list_of_records[listado][\"Nombre_Elemento_1__c\"]\n",
    "    )\n"
   ]
  },
  {
   "cell_type": "code",
   "execution_count": null,
   "metadata": {},
   "outputs": [],
   "source": [
    "list_of_records"
   ]
  },
  {
   "cell_type": "code",
   "execution_count": null,
   "metadata": {},
   "outputs": [],
   "source": [
    "def traerId(rut):\n",
    "    if len(rut) >= 8:\n",
    "        busquedaDatos = \"FIND {\" + rut + \"} RETURNING Account(Id,IdentificationId__pc)\"\n",
    "        derty = dict(sf.search(busquedaDatos))\n",
    "        if derty[\"searchRecords\"] != []:\n",
    "            if derty[\"searchRecords\"][0][\"attributes\"][\"type\"] == \"Account\":\n",
    "                jote = derty[\"searchRecords\"][0][\"Id\"]\n",
    "                dertyd = derty[\"searchRecords\"][0][\"IdentificationId__pc\"]\n",
    "                print(jote + \" \" + dertyd)\n",
    "                return jote\n",
    "            else:\n",
    "                print(\"no\")\n",
    "        else:\n",
    "            print(\"vacio\")\n",
    "    else:\n",
    "        return \"\""
   ]
  },
  {
   "cell_type": "code",
   "execution_count": null,
   "metadata": {},
   "outputs": [],
   "source": [
    "archivoBCI[\"Paciente__c\"] = archivoBCI[\"IdentificationId__pc\"].apply(\n",
    "    lambda y: traerId(y)\n",
    ")\n",
    "archivoBCI[\"Programas_por_Empresas__c\"] = \"a1W8c000008TCWxEAO\"\n",
    "archivoBCI.head()"
   ]
  },
  {
   "cell_type": "code",
   "execution_count": null,
   "metadata": {},
   "outputs": [],
   "source": [
    "desc = sf.Brand_Account__c.describe()\n",
    "fields_name = [field['name'] for field in desc['fields']]\n",
    "soql = \"SELECT {} FROM Brand_Account__c WHERE Brand_Groups__c = 'a41RN0000000fNRYAY' \".format(','.join(fields_name))\n",
    "results = sf.query_all(soql)\n",
    "\n",
    "\n",
    "\"\"\" fields = [field.get('Brand_Account__c') for field in getattr(sf, Brand_Account__c).describe().get('fields')]\n",
    "\n",
    "# Concat fields ready for inclusion in query string\n",
    "fields = ',\\n'.join(fields)\n",
    "\n",
    "# Convert into SOQL query\n",
    "soql = f\"SELECT \\n{fields} \\nFROM {TABLE}\" \"\"\"\n",
    "results"
   ]
  },
  {
   "cell_type": "code",
   "execution_count": null,
   "metadata": {},
   "outputs": [],
   "source": [
    "\n",
    "def traerEmpresa(nombreEmpresa):\n",
    "    vaBusquedaEmpresa = \"FIND {\"+ nombreEmpresa +\"} IN Name Fields RETURNING Account(Id,Name where IsPersonAccount = false and Nueva_Estructura__c = true and Padre_Empresa__c = false  )\"\n",
    "    \n",
    "    derty = dict(sf.search(vaBusquedaEmpresa))\n",
    "    if (derty[\"searchRecords\"] != []):\n",
    "    #return derty[\"searchRecords\"][0][\"Id\"]\n",
    "        \n",
    "        return derty[\"searchRecords\"][0][\"Name\"]\n",
    "        \n",
    "    else:        \n",
    "        return \"0\"\n",
    "    \n",
    "    return \"0\"\n",
    "\n",
    "\"\"\" def traerPoliza(numeroPoliza):\n",
    "    vaBusquedaEmpresa = \"FIND {\"+ numeroPoliza +\"} RETURNING Datos_Empresa__c(Id,P_liza__c,Empresa__c, Identificador__c where Empresa__c = )\"\n",
    "    derty = dict(sf.search(vaBusquedaEmpresa))\n",
    "    #if (derty[\"searchRecords\"][0][\"Poliza__c\"] == nombreEmpresa):\n",
    "    return derty[\"searchRecords\"] \n",
    "    \n",
    "asa = \"Sherwin Williams Chile S.A.\"\n",
    "poliza = \"34001\"\n",
    "\n",
    "\n",
    "traerEmpresa(asa)\n",
    "traerPoliza(poliza)\n",
    "    \n",
    "    \"\"\"\n",
    "\n"
   ]
  },
  {
   "cell_type": "code",
   "execution_count": null,
   "metadata": {},
   "outputs": [],
   "source": [
    "asa = \"Sherwin Williams Chile S.A.\"\n",
    "traerEmpresa(asa)\n"
   ]
  },
  {
   "cell_type": "code",
   "execution_count": null,
   "metadata": {},
   "outputs": [],
   "source": [
    "nuevos = \"F:/2024/empresa.xlsx\"\n",
    "empresasArchivo = pd.read_excel(nuevos)\n",
    "empresasArchivo[\"empresa\"] = empresasArchivo[\"empresa\"].astype(str)\n",
    "\n",
    "empresasArchivo[\"empresa\"] = empresasArchivo[\"empresa\"].str.title()\n",
    "empresasArchivo[\"empresa\"] = empresasArchivo[\"empresa\"].str.replace(\"&\", \"And\")\n",
    "empresasArchivo[\"empresa\"] = empresasArchivo[\"empresa\"].str.replace(\"-\", \"And\")\n",
    "\n",
    "\n",
    "empresasArchivo.head(100)"
   ]
  },
  {
   "cell_type": "code",
   "execution_count": null,
   "metadata": {},
   "outputs": [],
   "source": [
    "empresasArchivo.head(100)"
   ]
  },
  {
   "cell_type": "code",
   "execution_count": null,
   "metadata": {},
   "outputs": [],
   "source": [
    "empresasArchivo[\"IdAccount\"] = empresasArchivo[\"empresa\"].apply(\n",
    "    lambda y: traerEmpresa(y) \n",
    ")"
   ]
  },
  {
   "cell_type": "code",
   "execution_count": null,
   "metadata": {},
   "outputs": [],
   "source": [
    "empresasArchivo.to_excel(\n",
    "        \"F:/2024/empresa1.xlsx\", index=False\n",
    "    )"
   ]
  },
  {
   "cell_type": "code",
   "execution_count": null,
   "metadata": {},
   "outputs": [],
   "source": []
  },
  {
   "cell_type": "code",
   "execution_count": null,
   "metadata": {},
   "outputs": [],
   "source": [
    "sf.Datos_Empresa__c.create({'Empresa__c':'001RN000004kd1IYAQ','Identificador__c':'example@example.com'})"
   ]
  }
 ],
 "metadata": {
  "kernelspec": {
   "display_name": "salesforce",
   "language": "python",
   "name": "python3"
  },
  "language_info": {
   "codemirror_mode": {
    "name": "ipython",
    "version": 3
   },
   "file_extension": ".py",
   "mimetype": "text/x-python",
   "name": "python",
   "nbconvert_exporter": "python",
   "pygments_lexer": "ipython3",
   "version": "3.8.16"
  }
 },
 "nbformat": 4,
 "nbformat_minor": 2
}
