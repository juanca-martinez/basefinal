{
 "cells": [
  {
   "cell_type": "code",
   "execution_count": null,
   "metadata": {},
   "outputs": [],
   "source": [
    "import json\n",
    "import numpy as np\n",
    "import matplotlib.pyplot as plt\n",
    "import matplotlib\n",
    "import pandas as pd\n",
    "from simple_salesforce import Salesforce, format_soql, format_external_id,SFType\n",
    "import paramiko\n",
    "import datetime\n",
    "from datetime import date\n",
    "import re\n",
    "from collections import OrderedDict\n",
    "import simpler_sf\n",
    "\n",
    "simpler_sf.simple_salesforce()\n",
    "import simple_salesforce\n",
    "from simple_salesforce.exceptions import SalesforceMalformedRequest"
   ]
  },
  {
   "cell_type": "code",
   "execution_count": null,
   "metadata": {},
   "outputs": [],
   "source": [
    "with open(\"../login.json\", \"r\") as j:\n",
    "    misDatos = json.load(j)"
   ]
  },
  {
   "cell_type": "code",
   "execution_count": null,
   "metadata": {},
   "outputs": [],
   "source": [
    "# para smart query\n",
    "\"\"\" sf = simple_salesforce.Salesforce(\n",
    "    username=misDatos[\"username\"],\n",
    "    password=misDatos[\"password\"],\n",
    "    security_token=misDatos[\"security_token\"],\n",
    ")\n",
    " \"\"\"\n",
    "# para lo demas\n",
    "sf = Salesforce(\n",
    "    username=misDatos[\"username\"],\n",
    "    password=misDatos[\"password\"],\n",
    "    security_token=misDatos[\"security_token\"],\n",
    "    #domain = \"careassistance.my.salesforce.com/\n",
    ")\n",
    "# paramiko.util.log_to_file(\"paramiko.log\")\n",
    "regex = re.compile(r\"([A-Za-z0-9]+[.-_])*[A-Za-z0-9]+@[A-Za-z0-9-]+(\\.[A-Z|a-z]{2,})+\")"
   ]
  },
  {
   "cell_type": "code",
   "execution_count": null,
   "metadata": {
    "notebookRunGroups": {
     "groupValue": "1"
    }
   },
   "outputs": [],
   "source": [
    "brandGroup = \"a41RN0000000kKbYAI\"\n",
    "campaña = \"Care Assistance Colaboradores\"\n",
    "tipo = \"si\" #Con no lee de excell branAccount.xlsx\n",
    "\n",
    "\n",
    "\n",
    "query_BRandAccount = \"SELECT Id,Brand_Groups__c, Name, RecordTypeId, Tipo_de_Front__c, Nombre_Elemento_1__c, Tipo_Elemento_1__c, Atributo_1_1__c, Atributo_1_2__c, Atributo_1_3__c, Atributo_1_4__c, Atributo_1_5__c, Atributo_1_6__c, Atributo_1_7__c, Atributo_1_8__c, Atributo_1_9__c, Atributo_1_10__c, Atributo_1_11__c, Atributo_1_12__c, Atributo_1_13__c, Atributo_1_14__c, Valor_1_1__c, Valor_1_2__c, Valor_1_3__c, Valor_1_4__c, Valor_1_5__c, Valor_1_6__c, Valor_1_7__c, Valor_1_8__c, Valor_1_9__c, Valor_1_10__c, Valor_1_11__c, Valor_1_12__c, Valor_1_13__c, Valor_1_14__c, Nombre_Elemento_2__c, Tipo_Elemento_2__c, Atributo_2_1__c, Atributo_2_2__c, Atributo_2_3__c, Atributo_2_4__c, Atributo_2_5__c, Atributo_2_6__c, Atributo_2_7__c, Atributo_2_8__c, Atributo_2_9__c, Atributo_2_10__c, Atributo_2_11__c, Atributo_2_12__c, Atributo_2_13__c, Atributo_2_14__c, Valor_2_1__c, Valor_2_2__c, Valor_2_3__c, Valor_2_4__c, Valor_2_5__c, Valor_2_6__c, Valor_2_7__c, Valor_2_8__c, Valor_2_9__c, Valor_2_10__c, Valor_2_11__c, Valor_2_12__c, Valor_2_13__c, Valor_2_14__c, Nombre_Elemento_3__c, Tipo_Elemento_3__c, Atributo_3_1__c, Atributo_3_2__c, Atributo_3_3__c, Atributo_3_4__c, Atributo_3_5__c, Atributo_3_6__c, Atributo_3_7__c, Atributo_3_8__c, Atributo_3_9__c, Atributo_3_10__c, Atributo_3_11__c, Atributo_3_12__c, Atributo_3_13__c, Atributo_3_14__c, Valor_3_1__c, Valor_3_2__c, Valor_3_3__c, Valor_3_4__c, Valor_3_5__c, Valor_3_6__c, Valor_3_7__c, Valor_3_8__c, Valor_3_9__c, Valor_3_10__c, Valor_3_11__c, Valor_3_12__c, Valor_3_13__c, Valor_3_14__c,Nombre_Elemento_4__c, Tipo_Elemento_4__c, Atributo_4_1__c, Atributo_4_2__c, Atributo_4_3__c, Atributo_4_4__c, Atributo_4_5__c, Atributo_4_6__c, Atributo_4_7__c, Atributo_4_8__c, Atributo_4_9__c, Atributo_4_10__c, Atributo_4_11__c, Atributo_4_12__c, Atributo_4_13__c, Atributo_4_14__c, Valor_4_1__c, Valor_4_2__c, Valor_4_3__c, Valor_4_4__c, Valor_4_5__c, Valor_4_6__c, Valor_4_7__c, Valor_4_8__c, Valor_4_9__c, Valor_4_10__c, Valor_4_11__c, Valor_4_12__c, Valor_4_13__c, Valor_4_14__c, Nombre_Elemento_5__c, Tipo_Elemento_5__c, Atributo_5_1__c, Atributo_5_2__c, Atributo_5_3__c, Atributo_5_4__c, Atributo_5_5__c, Atributo_5_6__c, Atributo_5_7__c, Atributo_5_8__c, Atributo_5_9__c, Atributo_5_10__c, Atributo_5_11__c, Atributo_5_12__c, Atributo_5_13__c, Atributo_5_14__c, Valor_5_1__c, Valor_5_2__c, Valor_5_3__c, Valor_5_4__c, Valor_5_5__c, Valor_5_6__c, Valor_5_7__c, Valor_5_8__c, Valor_5_9__c, Valor_5_10__c, Valor_5_11__c, Valor_5_12__c, Valor_5_13__c, Valor_5_14__c, Nombre_Elemento_6__c, Tipo_Elemento_6__c, Atributo_6_1__c, Atributo_6_2__c, Atributo_6_3__c, Atributo_6_4__c, Atributo_6_5__c, Atributo_6_6__c, Atributo_6_7__c, Atributo_6_8__c, Atributo_6_9__c, Atributo_6_10__c, Atributo_6_11__c, Atributo_6_12__c, Atributo_6_13__c, Atributo_6_14__c, Valor_6_1__c, Valor_6_2__c, Valor_6_3__c, Valor_6_4__c, Valor_6_5__c, Valor_6_6__c, Valor_6_7__c, Valor_6_8__c, Valor_6_9__c, Valor_6_10__c, Valor_6_11__c, Valor_6_12__c, Valor_6_13__c, Valor_6_14__c, Nombre_Elemento_7__c, Tipo_Elemento_7__c, Atributo_7_1__c, Atributo_7_2__c, Atributo_7_3__c, Atributo_7_4__c, Atributo_7_5__c, Atributo_7_6__c, Atributo_7_7__c, Atributo_7_8__c, Atributo_7_9__c, Atributo_7_10__c, Atributo_7_11__c, Atributo_7_12__c, Atributo_7_13__c, Atributo_7_14__c, Valor_7_1__c, Valor_7_2__c, Valor_7_3__c, Valor_7_4__c, Valor_7_5__c, Valor_7_6__c, Valor_7_7__c, Valor_7_8__c, Valor_7_9__c, Valor_7_10__c, Valor_7_11__c, Valor_7_12__c, Valor_7_13__c, Valor_7_14__c, Nombre_Elemento_8__c, Tipo_Elemento_8__c, Atributo_8_1__c, Atributo_8_2__c, Atributo_8_3__c, Atributo_8_4__c, Atributo_8_5__c, Atributo_8_6__c, Atributo_8_7__c, Atributo_8_8__c, Atributo_8_9__c, Atributo_8_10__c, Atributo_8_11__c, Atributo_8_12__c, Atributo_8_13__c, Atributo_8_14__c, Valor_8_1__c, Valor_8_2__c, Valor_8_3__c, Valor_8_4__c, Valor_8_5__c, Valor_8_6__c, Valor_8_7__c, Valor_8_8__c, Valor_8_9__c, Valor_8_10__c, Valor_8_11__c, Valor_8_12__c, Valor_8_13__c, Valor_8_14__c, Nombre_Elemento_9__c, Tipo_Elemento_9__c, Atributo_9_1__c, Atributo_9_2__c, Atributo_9_3__c, Atributo_9_4__c, Atributo_9_5__c, Atributo_9_6__c, Atributo_9_7__c, Atributo_9_8__c, Atributo_9_9__c, Atributo_9_10__c, Atributo_9_11__c, Atributo_9_12__c, Atributo_9_13__c, Atributo_9_14__c, Valor_9_1__c, Valor_9_2__c, Valor_9_3__c, Valor_9_4__c, Valor_9_5__c, Valor_9_6__c, Valor_9_7__c, Valor_9_8__c, Valor_9_9__c, Valor_9_10__c, Valor_9_11__c, Valor_9_12__c, Valor_9_13__c, Valor_9_14__c, Nombre_Elemento_10__c, Tipo_Elemento_10__c, Atributo_10_1__c, Atributo_10_2__c, Atributo_10_3__c, Atributo_10_4__c, Atributo_10_5__c, Atributo_10_6__c, Atributo_10_7__c, Atributo_10_8__c, Atributo_10_9__c, Atributo_10_10__c, Atributo_10_11__c, Atributo_10_12__c, Atributo_10_13__c, Atributo_10_14__c, Valor_10_1__c, Valor_10_2__c, Valor_10_3__c, Valor_10_4__c, Valor_10_5__c, Valor_10_6__c, Valor_10_7__c, Valor_10_8__c, Valor_10_9__c, Valor_10_10__c, Valor_10_11__c, Valor_10_12__c, Valor_10_13__c, Valor_10_14__c, Nombre_Elemento_11__c, Tipo_Elemento_11__c, Atributo_11_1__c, Atributo_11_2__c, Atributo_11_3__c, Atributo_11_4__c, Atributo_11_5__c, Atributo_11_6__c, Atributo_11_7__c, Atributo_11_8__c, Atributo_11_9__c, Atributo_11_10__c, Atributo_11_11__c, Atributo_11_12__c, Atributo_11_13__c, Atributo_11_14__c, Valor_11_1__c, Valor_11_2__c, Valor_11_3__c, Valor_11_4__c, Valor_11_5__c, Valor_11_6__c, Valor_11_7__c, Valor_11_8__c, Valor_11_9__c, Valor_11_10__c, Valor_11_11__c, Valor_11_12__c, Valor_11_13__c, Valor_11_14__c, Nombre_Elemento_12__c, Tipo_Elemento_12__c, Atributo_12_1__c, Atributo_12_2__c, Atributo_12_3__c, Atributo_12_4__c, Atributo_12_5__c, Atributo_12_6__c, Atributo_12_7__c, Atributo_12_8__c, Atributo_12_9__c, Atributo_12_10__c, Atributo_12_11__c, Atributo_12_12__c, Atributo_12_13__c, Atributo_12_14__c, Atributo_12_15__c, Atributo_12_16__c, Valor_12_1__c, Valor_12_2__c, Valor_12_3__c, Valor_12_4__c, Valor_12_5__c, Valor_12_6__c, Valor_12_7__c, Valor_12_8__c, Valor_12_9__c, Valor_12_10__c, Valor_12_11__c, Valor_12_12__c, Valor_12_13__c, Valor_12_14__c, Valor_12_15__c, Valor_12_16__c, Nombre_Elemento_13__c, Tipo_Elemento_13__c, Atributo_13_1__c, Atributo_13_2__c, Atributo_13_3__c, Atributo_13_4__c, Atributo_13_5__c, Atributo_13_6__c, Atributo_13_7__c, Atributo_13_8__c, Atributo_13_9__c, Atributo_13_10__c, Atributo_13_11__c, Atributo_13_12__c, Atributo_13_13__c, Atributo_13_14__c, Atributo_13_15__c, Atributo_13_16__c, Valor_13_1__c, Valor_13_2__c, Valor_13_3__c, Valor_13_4__c, Valor_13_5__c, Valor_13_6__c, Valor_13_7__c, Valor_13_8__c, Valor_13_9__c, Valor_13_10__c, Valor_13_11__c, Valor_13_12__c, Valor_13_13__c, Valor_13_14__c, Valor_13_15__c, Valor_13_16__c from Brand_Account__c where Brand_Groups__c  = '\" + brandGroup + \"' order by Name\" \n",
    "brand_Account  = sf.smart_query(query_BRandAccount)\n",
    "cantidadFilas = brand_Account.shape[0]\n",
    "print(cantidadFilas)\n",
    "brand_Account.head(30)\n",
    "\n"
   ]
  },
  {
   "cell_type": "code",
   "execution_count": null,
   "metadata": {},
   "outputs": [],
   "source": [
    "def modifica_BRAND(x,brand_Account):\n",
    "    brandGroup = x\n",
    "    query_BG = \"SELECT Id,Brand_Groups__c, Name, RecordTypeId, Tipo_de_Front__c, Nombre_Elemento_1__c, Tipo_Elemento_1__c, Atributo_1_1__c, Atributo_1_2__c, Atributo_1_3__c, Atributo_1_4__c, Atributo_1_5__c, Atributo_1_6__c, Atributo_1_7__c, Atributo_1_8__c, Atributo_1_9__c, Atributo_1_10__c, Atributo_1_11__c, Atributo_1_12__c, Atributo_1_13__c, Atributo_1_14__c, Valor_1_1__c, Valor_1_2__c, Valor_1_3__c, Valor_1_4__c, Valor_1_5__c, Valor_1_6__c, Valor_1_7__c, Valor_1_8__c, Valor_1_9__c, Valor_1_10__c, Valor_1_11__c, Valor_1_12__c, Valor_1_13__c, Valor_1_14__c, Nombre_Elemento_2__c, Tipo_Elemento_2__c, Atributo_2_1__c, Atributo_2_2__c, Atributo_2_3__c, Atributo_2_4__c, Atributo_2_5__c, Atributo_2_6__c, Atributo_2_7__c, Atributo_2_8__c, Atributo_2_9__c, Atributo_2_10__c, Atributo_2_11__c, Atributo_2_12__c, Atributo_2_13__c, Atributo_2_14__c, Valor_2_1__c, Valor_2_2__c, Valor_2_3__c, Valor_2_4__c, Valor_2_5__c, Valor_2_6__c, Valor_2_7__c, Valor_2_8__c, Valor_2_9__c, Valor_2_10__c, Valor_2_11__c, Valor_2_12__c, Valor_2_13__c, Valor_2_14__c, Nombre_Elemento_3__c, Tipo_Elemento_3__c, Atributo_3_1__c, Atributo_3_2__c, Atributo_3_3__c, Atributo_3_4__c, Atributo_3_5__c, Atributo_3_6__c, Atributo_3_7__c, Atributo_3_8__c, Atributo_3_9__c, Atributo_3_10__c, Atributo_3_11__c, Atributo_3_12__c, Atributo_3_13__c, Atributo_3_14__c, Valor_3_1__c, Valor_3_2__c, Valor_3_3__c, Valor_3_4__c, Valor_3_5__c, Valor_3_6__c, Valor_3_7__c, Valor_3_8__c, Valor_3_9__c, Valor_3_10__c, Valor_3_11__c, Valor_3_12__c, Valor_3_13__c, Valor_3_14__c,Nombre_Elemento_4__c, Tipo_Elemento_4__c, Atributo_4_1__c, Atributo_4_2__c, Atributo_4_3__c, Atributo_4_4__c, Atributo_4_5__c, Atributo_4_6__c, Atributo_4_7__c, Atributo_4_8__c, Atributo_4_9__c, Atributo_4_10__c, Atributo_4_11__c, Atributo_4_12__c, Atributo_4_13__c, Atributo_4_14__c, Valor_4_1__c, Valor_4_2__c, Valor_4_3__c, Valor_4_4__c, Valor_4_5__c, Valor_4_6__c, Valor_4_7__c, Valor_4_8__c, Valor_4_9__c, Valor_4_10__c, Valor_4_11__c, Valor_4_12__c, Valor_4_13__c, Valor_4_14__c, Nombre_Elemento_5__c, Tipo_Elemento_5__c, Atributo_5_1__c, Atributo_5_2__c, Atributo_5_3__c, Atributo_5_4__c, Atributo_5_5__c, Atributo_5_6__c, Atributo_5_7__c, Atributo_5_8__c, Atributo_5_9__c, Atributo_5_10__c, Atributo_5_11__c, Atributo_5_12__c, Atributo_5_13__c, Atributo_5_14__c, Valor_5_1__c, Valor_5_2__c, Valor_5_3__c, Valor_5_4__c, Valor_5_5__c, Valor_5_6__c, Valor_5_7__c, Valor_5_8__c, Valor_5_9__c, Valor_5_10__c, Valor_5_11__c, Valor_5_12__c, Valor_5_13__c, Valor_5_14__c, Nombre_Elemento_6__c, Tipo_Elemento_6__c, Atributo_6_1__c, Atributo_6_2__c, Atributo_6_3__c, Atributo_6_4__c, Atributo_6_5__c, Atributo_6_6__c, Atributo_6_7__c, Atributo_6_8__c, Atributo_6_9__c, Atributo_6_10__c, Atributo_6_11__c, Atributo_6_12__c, Atributo_6_13__c, Atributo_6_14__c, Valor_6_1__c, Valor_6_2__c, Valor_6_3__c, Valor_6_4__c, Valor_6_5__c, Valor_6_6__c, Valor_6_7__c, Valor_6_8__c, Valor_6_9__c, Valor_6_10__c, Valor_6_11__c, Valor_6_12__c, Valor_6_13__c, Valor_6_14__c, Nombre_Elemento_7__c, Tipo_Elemento_7__c, Atributo_7_1__c, Atributo_7_2__c, Atributo_7_3__c, Atributo_7_4__c, Atributo_7_5__c, Atributo_7_6__c, Atributo_7_7__c, Atributo_7_8__c, Atributo_7_9__c, Atributo_7_10__c, Atributo_7_11__c, Atributo_7_12__c, Atributo_7_13__c, Atributo_7_14__c, Valor_7_1__c, Valor_7_2__c, Valor_7_3__c, Valor_7_4__c, Valor_7_5__c, Valor_7_6__c, Valor_7_7__c, Valor_7_8__c, Valor_7_9__c, Valor_7_10__c, Valor_7_11__c, Valor_7_12__c, Valor_7_13__c, Valor_7_14__c, Nombre_Elemento_8__c, Tipo_Elemento_8__c, Atributo_8_1__c, Atributo_8_2__c, Atributo_8_3__c, Atributo_8_4__c, Atributo_8_5__c, Atributo_8_6__c, Atributo_8_7__c, Atributo_8_8__c, Atributo_8_9__c, Atributo_8_10__c, Atributo_8_11__c, Atributo_8_12__c, Atributo_8_13__c, Atributo_8_14__c, Valor_8_1__c, Valor_8_2__c, Valor_8_3__c, Valor_8_4__c, Valor_8_5__c, Valor_8_6__c, Valor_8_7__c, Valor_8_8__c, Valor_8_9__c, Valor_8_10__c, Valor_8_11__c, Valor_8_12__c, Valor_8_13__c, Valor_8_14__c, Nombre_Elemento_9__c, Tipo_Elemento_9__c, Atributo_9_1__c, Atributo_9_2__c, Atributo_9_3__c, Atributo_9_4__c, Atributo_9_5__c, Atributo_9_6__c, Atributo_9_7__c, Atributo_9_8__c, Atributo_9_9__c, Atributo_9_10__c, Atributo_9_11__c, Atributo_9_12__c, Atributo_9_13__c, Atributo_9_14__c, Valor_9_1__c, Valor_9_2__c, Valor_9_3__c, Valor_9_4__c, Valor_9_5__c, Valor_9_6__c, Valor_9_7__c, Valor_9_8__c, Valor_9_9__c, Valor_9_10__c, Valor_9_11__c, Valor_9_12__c, Valor_9_13__c, Valor_9_14__c, Nombre_Elemento_10__c, Tipo_Elemento_10__c, Atributo_10_1__c, Atributo_10_2__c, Atributo_10_3__c, Atributo_10_4__c, Atributo_10_5__c, Atributo_10_6__c, Atributo_10_7__c, Atributo_10_8__c, Atributo_10_9__c, Atributo_10_10__c, Atributo_10_11__c, Atributo_10_12__c, Atributo_10_13__c, Atributo_10_14__c, Valor_10_1__c, Valor_10_2__c, Valor_10_3__c, Valor_10_4__c, Valor_10_5__c, Valor_10_6__c, Valor_10_7__c, Valor_10_8__c, Valor_10_9__c, Valor_10_10__c, Valor_10_11__c, Valor_10_12__c, Valor_10_13__c, Valor_10_14__c, Nombre_Elemento_11__c, Tipo_Elemento_11__c, Atributo_11_1__c, Atributo_11_2__c, Atributo_11_3__c, Atributo_11_4__c, Atributo_11_5__c, Atributo_11_6__c, Atributo_11_7__c, Atributo_11_8__c, Atributo_11_9__c, Atributo_11_10__c, Atributo_11_11__c, Atributo_11_12__c, Atributo_11_13__c, Atributo_11_14__c, Valor_11_1__c, Valor_11_2__c, Valor_11_3__c, Valor_11_4__c, Valor_11_5__c, Valor_11_6__c, Valor_11_7__c, Valor_11_8__c, Valor_11_9__c, Valor_11_10__c, Valor_11_11__c, Valor_11_12__c, Valor_11_13__c, Valor_11_14__c, Nombre_Elemento_12__c, Tipo_Elemento_12__c, Atributo_12_1__c, Atributo_12_2__c, Atributo_12_3__c, Atributo_12_4__c, Atributo_12_5__c, Atributo_12_6__c, Atributo_12_7__c, Atributo_12_8__c, Atributo_12_9__c, Atributo_12_10__c, Atributo_12_11__c, Atributo_12_12__c, Atributo_12_13__c, Atributo_12_14__c, Atributo_12_15__c, Atributo_12_16__c, Valor_12_1__c, Valor_12_2__c, Valor_12_3__c, Valor_12_4__c, Valor_12_5__c, Valor_12_6__c, Valor_12_7__c, Valor_12_8__c, Valor_12_9__c, Valor_12_10__c, Valor_12_11__c, Valor_12_12__c, Valor_12_13__c, Valor_12_14__c, Valor_12_15__c, Valor_12_16__c, Nombre_Elemento_13__c, Tipo_Elemento_13__c, Atributo_13_1__c, Atributo_13_2__c, Atributo_13_3__c, Atributo_13_4__c, Atributo_13_5__c, Atributo_13_6__c, Atributo_13_7__c, Atributo_13_8__c, Atributo_13_9__c, Atributo_13_10__c, Atributo_13_11__c, Atributo_13_12__c, Atributo_13_13__c, Atributo_13_14__c, Atributo_13_15__c, Atributo_13_16__c, Valor_13_1__c, Valor_13_2__c, Valor_13_3__c, Valor_13_4__c, Valor_13_5__c, Valor_13_6__c, Valor_13_7__c, Valor_13_8__c, Valor_13_9__c, Valor_13_10__c, Valor_13_11__c, Valor_13_12__c, Valor_13_13__c, Valor_13_14__c, Valor_13_15__c, Valor_13_16__c from Brand_Account__c where Brand_Groups__c  = '\" + brandGroup + \"' order by Name\" \n",
    "    brand_Group_DF  = sf.smart_query(query_BG)\n",
    "    filas = brand_Group_DF.shape[0]\n",
    "\n",
    "\n",
    "\n",
    "    if brand_Group_DF.empty:\n",
    "        brand_Account = brand_Account.drop(columns=[\"Brand_Groups__c\", \"Id\"])\n",
    "        brand_Account[\"Brand_Groups__c\"] = brandGroup\n",
    "        fake_dict = brand_Account.to_dict('records')\n",
    "        sf.bulk.Brand_Account__c.insert(fake_dict, batch_size=10000, use_serial=True)\n",
    "        querty = \"1\"\n",
    "        #brand_Account.to_csv('datos.csv')\n",
    "        #sf.bulk2.Brand_Account__c.insert(\"./datos.csv\", batch_size=10000)\n",
    "    elif(filas != cantidadFilas):\n",
    "        brand_Account = brand_Account.drop(columns=[\"Brand_Groups__c\", \"Id\"])\n",
    "        brand_Account[\"Brand_Groups__c\"] = brandGroup\n",
    "        fake_dict = brand_Account.to_dict('records')\n",
    "        brand_Group_DF_ID = brand_Group_DF[\n",
    "            [\"Id\",]\n",
    "        ] \n",
    "        fake_dict2 = brand_Group_DF_ID.to_dict('records')\n",
    "        sf.bulk.Brand_Account__c.delete(fake_dict2,batch_size=10000,use_serial=True)        \n",
    "        sf.bulk.Brand_Account__c.insert(fake_dict, batch_size=10000, use_serial=True)\n",
    "        querty = \"2\"\n",
    "    elif(filas == cantidadFilas):\n",
    "        brand_Account = brand_Account.drop(columns=[\"Brand_Groups__c\", \"Id\"])\n",
    "        brand_Account[\"Brand_Groups__c\"] = brandGroup\n",
    "        brand_Account[\"Id\"] = brand_Group_DF[\"Id\"]\n",
    "        fake_dict = brand_Account.to_dict('records')\n",
    "        sf.bulk.Brand_Account__c.update(fake_dict, batch_size=10000, use_serial=True)\n",
    "        querty = \"3\"\n",
    "    return querty"
   ]
  },
  {
   "cell_type": "code",
   "execution_count": null,
   "metadata": {},
   "outputs": [],
   "source": [
    "if (tipo == \"si\"):   \n",
    "    seleccionados = \"select Id, Campana__c, Name,Empresa__c from Brand_Groups__c where Campana__c = '\" + campaña + \"' AND Id <> '\" + brandGroup +\"'\"\n",
    "    seleccionadosDF  = sf.smart_query(seleccionados)\n",
    "    seleccionadosDF.head(10)\n",
    "else:\n",
    "    nuevos = \"F:/Empresas SF/reportes/BrandAccount.xlsx\"\n",
    "    seleccionadosDF = pd.read_excel(nuevos)\n",
    "    seleccionadosDF.head(10)"
   ]
  },
  {
   "cell_type": "code",
   "execution_count": null,
   "metadata": {},
   "outputs": [],
   "source": [
    "\n",
    "\n",
    "\n",
    "seleccionadosDF[\"uno\"] = seleccionadosDF[\"Id\"].apply(\n",
    "    lambda x: modifica_BRAND(x,brand_Account)\n",
    ")"
   ]
  },
  {
   "cell_type": "code",
   "execution_count": null,
   "metadata": {},
   "outputs": [],
   "source": [
    "seleccionadosDF.head()"
   ]
  },
  {
   "cell_type": "code",
   "execution_count": null,
   "metadata": {},
   "outputs": [],
   "source": [
    "seleccionadosDF.shape"
   ]
  }
 ],
 "metadata": {
  "kernelspec": {
   "display_name": "salesforce",
   "language": "python",
   "name": "python3"
  },
  "language_info": {
   "codemirror_mode": {
    "name": "ipython",
    "version": 3
   },
   "file_extension": ".py",
   "mimetype": "text/x-python",
   "name": "python",
   "nbconvert_exporter": "python",
   "pygments_lexer": "ipython3",
   "version": "3.8.16"
  }
 },
 "nbformat": 4,
 "nbformat_minor": 2
}
