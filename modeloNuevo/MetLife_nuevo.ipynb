{
 "cells": [
  {
   "cell_type": "code",
   "execution_count": 120,
   "metadata": {
    "notebookRunGroups": {
     "groupValue": "1"
    }
   },
   "outputs": [],
   "source": [
    "import json\n",
    "import pandas as pd\n",
    "import numpy as np\n",
    "from simple_salesforce import Salesforce, format_soql, format_external_id\n",
    "from json import loads, dumps\n",
    "import simpler_sf\n",
    "simpler_sf.simple_salesforce()\n",
    "from sqlalchemy import create_engine"
   ]
  },
  {
   "cell_type": "code",
   "execution_count": 121,
   "metadata": {
    "notebookRunGroups": {
     "groupValue": "1"
    }
   },
   "outputs": [],
   "source": [
    "with open(\"../login.json\", \"r\") as j:\n",
    "    misDatos = json.load(j)\n",
    "sf = Salesforce(\n",
    "    username=misDatos[\"username\"],\n",
    "    password=misDatos[\"password\"],\n",
    "    security_token=misDatos[\"security_token\"],\n",
    ")"
   ]
  },
  {
   "cell_type": "code",
   "execution_count": 122,
   "metadata": {
    "notebookRunGroups": {
     "groupValue": "12"
    }
   },
   "outputs": [],
   "source": [
    "ruts = \"F:/martin/MetLife SFTP/ORIENTA_22122023.xlsx\"\n",
    "rutsMetlife2 = pd.read_excel(ruts)\n"
   ]
  },
  {
   "cell_type": "code",
   "execution_count": 123,
   "metadata": {
    "notebookRunGroups": {
     "groupValue": "1"
    }
   },
   "outputs": [
    {
     "data": {
      "text/html": [
       "<div>\n",
       "<style scoped>\n",
       "    .dataframe tbody tr th:only-of-type {\n",
       "        vertical-align: middle;\n",
       "    }\n",
       "\n",
       "    .dataframe tbody tr th {\n",
       "        vertical-align: top;\n",
       "    }\n",
       "\n",
       "    .dataframe thead th {\n",
       "        text-align: right;\n",
       "    }\n",
       "</style>\n",
       "<table border=\"1\" class=\"dataframe\">\n",
       "  <thead>\n",
       "    <tr style=\"text-align: right;\">\n",
       "      <th></th>\n",
       "      <th>POLIZA</th>\n",
       "      <th>RUTASEGURADO</th>\n",
       "      <th>DV</th>\n",
       "      <th>RUTBENEFICIARIO</th>\n",
       "      <th>RUTBENEFIARIO_DV</th>\n",
       "      <th>FNAC</th>\n",
       "      <th>SEXO</th>\n",
       "      <th>DIRECCION</th>\n",
       "      <th>COMUNA</th>\n",
       "      <th>CIUDAD</th>\n",
       "      <th>TELEFONO</th>\n",
       "      <th>RELACION</th>\n",
       "      <th>DESDE</th>\n",
       "      <th>HASTA</th>\n",
       "      <th>NOMBRE</th>\n",
       "      <th>EMAIL</th>\n",
       "      <th>NROCELULAR</th>\n",
       "      <th>VIGENCIA</th>\n",
       "    </tr>\n",
       "  </thead>\n",
       "  <tbody>\n",
       "    <tr>\n",
       "      <th>0</th>\n",
       "      <td>340002977.0</td>\n",
       "      <td>26253599</td>\n",
       "      <td>1</td>\n",
       "      <td>26253599.0</td>\n",
       "      <td>1</td>\n",
       "      <td>1981-06-29 00:00:00</td>\n",
       "      <td>F</td>\n",
       "      <td>NaN</td>\n",
       "      <td>NaN</td>\n",
       "      <td>NaN</td>\n",
       "      <td>961648617</td>\n",
       "      <td>AS</td>\n",
       "      <td>2023-06-01</td>\n",
       "      <td>NaN</td>\n",
       "      <td>Meza Patio Patricia</td>\n",
       "      <td>meza.paty@gmail.com</td>\n",
       "      <td>961648617</td>\n",
       "      <td>2024-08-31 00:00:00</td>\n",
       "    </tr>\n",
       "    <tr>\n",
       "      <th>1</th>\n",
       "      <td>340002977.0</td>\n",
       "      <td>26346168</td>\n",
       "      <td>1</td>\n",
       "      <td>26346168.0</td>\n",
       "      <td>1</td>\n",
       "      <td>1991-09-01 00:00:00</td>\n",
       "      <td>M</td>\n",
       "      <td>Hipódromo Chile 1310 apto 401</td>\n",
       "      <td>INDEPENDENCIA</td>\n",
       "      <td>SANTIAGO</td>\n",
       "      <td>985606814</td>\n",
       "      <td>AS</td>\n",
       "      <td>2018-03-01</td>\n",
       "      <td>NaN</td>\n",
       "      <td>Pimienta Pardo Danny Daniel</td>\n",
       "      <td>danny.pimienta@cummins.cl</td>\n",
       "      <td>985606814</td>\n",
       "      <td>2024-08-31 00:00:00</td>\n",
       "    </tr>\n",
       "    <tr>\n",
       "      <th>2</th>\n",
       "      <td>340002977.0</td>\n",
       "      <td>26346168</td>\n",
       "      <td>1</td>\n",
       "      <td>500000.0</td>\n",
       "      <td>9</td>\n",
       "      <td>1991-07-23 00:00:00</td>\n",
       "      <td>F</td>\n",
       "      <td>Hipódromo Chile 1310 apto 401</td>\n",
       "      <td>INDEPENDENCIA</td>\n",
       "      <td>SANTIAGO</td>\n",
       "      <td>985606814</td>\n",
       "      <td>CO</td>\n",
       "      <td>2019-04-01</td>\n",
       "      <td>NaN</td>\n",
       "      <td>Martinez Gonzalez Estefania Paola</td>\n",
       "      <td>danny.pimienta@cummins.cl</td>\n",
       "      <td>985606814</td>\n",
       "      <td>NaN</td>\n",
       "    </tr>\n",
       "    <tr>\n",
       "      <th>3</th>\n",
       "      <td>340002977.0</td>\n",
       "      <td>26370990</td>\n",
       "      <td>K</td>\n",
       "      <td>26370990.0</td>\n",
       "      <td>K</td>\n",
       "      <td>1991-07-31 00:00:00</td>\n",
       "      <td>F</td>\n",
       "      <td>Carmen 566</td>\n",
       "      <td>Santiago centro</td>\n",
       "      <td>Santiago</td>\n",
       "      <td>950709724</td>\n",
       "      <td>AS</td>\n",
       "      <td>2020-03-01</td>\n",
       "      <td>NaN</td>\n",
       "      <td>Argote Argote Keysi Milu</td>\n",
       "      <td>keysi.argote@cummins.cl</td>\n",
       "      <td>950709724</td>\n",
       "      <td>2024-08-31 00:00:00</td>\n",
       "    </tr>\n",
       "    <tr>\n",
       "      <th>4</th>\n",
       "      <td>340002977.0</td>\n",
       "      <td>26370990</td>\n",
       "      <td>K</td>\n",
       "      <td>28308780.0</td>\n",
       "      <td>8</td>\n",
       "      <td>2023-12-11 00:00:00</td>\n",
       "      <td>F</td>\n",
       "      <td>Carmen 566</td>\n",
       "      <td>Santiago centro</td>\n",
       "      <td>Santiago</td>\n",
       "      <td>950709724</td>\n",
       "      <td>HI</td>\n",
       "      <td>2023-12-11</td>\n",
       "      <td>NaN</td>\n",
       "      <td>Argote Argote Elif Monserrat</td>\n",
       "      <td>keysi.argote@cummins.cl</td>\n",
       "      <td>950709724</td>\n",
       "      <td>NaN</td>\n",
       "    </tr>\n",
       "  </tbody>\n",
       "</table>\n",
       "</div>"
      ],
      "text/plain": [
       "        POLIZA RUTASEGURADO DV  RUTBENEFICIARIO RUTBENEFIARIO_DV  \\\n",
       "0  340002977.0     26253599  1       26253599.0                1   \n",
       "1  340002977.0     26346168  1       26346168.0                1   \n",
       "2  340002977.0     26346168  1         500000.0                9   \n",
       "3  340002977.0     26370990  K       26370990.0                K   \n",
       "4  340002977.0     26370990  K       28308780.0                8   \n",
       "\n",
       "                  FNAC SEXO                      DIRECCION           COMUNA  \\\n",
       "0  1981-06-29 00:00:00    F                            NaN              NaN   \n",
       "1  1991-09-01 00:00:00    M  Hipódromo Chile 1310 apto 401    INDEPENDENCIA   \n",
       "2  1991-07-23 00:00:00    F  Hipódromo Chile 1310 apto 401    INDEPENDENCIA   \n",
       "3  1991-07-31 00:00:00    F                     Carmen 566  Santiago centro   \n",
       "4  2023-12-11 00:00:00    F                     Carmen 566  Santiago centro   \n",
       "\n",
       "     CIUDAD   TELEFONO RELACION      DESDE HASTA  \\\n",
       "0       NaN  961648617       AS 2023-06-01   NaN   \n",
       "1  SANTIAGO  985606814       AS 2018-03-01   NaN   \n",
       "2  SANTIAGO  985606814       CO 2019-04-01   NaN   \n",
       "3  Santiago  950709724       AS 2020-03-01   NaN   \n",
       "4  Santiago  950709724       HI 2023-12-11   NaN   \n",
       "\n",
       "                              NOMBRE                      EMAIL NROCELULAR  \\\n",
       "0                Meza Patio Patricia        meza.paty@gmail.com  961648617   \n",
       "1        Pimienta Pardo Danny Daniel  danny.pimienta@cummins.cl  985606814   \n",
       "2  Martinez Gonzalez Estefania Paola  danny.pimienta@cummins.cl  985606814   \n",
       "3           Argote Argote Keysi Milu    keysi.argote@cummins.cl  950709724   \n",
       "4       Argote Argote Elif Monserrat    keysi.argote@cummins.cl  950709724   \n",
       "\n",
       "              VIGENCIA  \n",
       "0  2024-08-31 00:00:00  \n",
       "1  2024-08-31 00:00:00  \n",
       "2                  NaN  \n",
       "3  2024-08-31 00:00:00  \n",
       "4                  NaN  "
      ]
     },
     "execution_count": 123,
     "metadata": {},
     "output_type": "execute_result"
    }
   ],
   "source": [
    "rutsMetlife2.head()\n"
   ]
  },
  {
   "cell_type": "code",
   "execution_count": 124,
   "metadata": {
    "notebookRunGroups": {
     "groupValue": "12"
    }
   },
   "outputs": [
    {
     "data": {
      "text/plain": [
       "(811694, 6)"
      ]
     },
     "execution_count": 124,
     "metadata": {},
     "output_type": "execute_result"
    }
   ],
   "source": [
    "rutsMetlife = rutsMetlife2[\n",
    "    [\n",
    "        \"POLIZA\",\n",
    "        \"RUTASEGURADO\",\n",
    "        \"DV\",\n",
    "        \"RUTBENEFICIARIO\",\n",
    "        \"RUTBENEFIARIO_DV\",\n",
    "        \"RELACION\",\n",
    "    ]\n",
    "]\n",
    "rutsMetlife.shape"
   ]
  },
  {
   "cell_type": "code",
   "execution_count": 125,
   "metadata": {},
   "outputs": [],
   "source": [
    "def siPrimerCero(y):\n",
    "    if len(y) == 2:\n",
    "        if y[0] == \"0\":\n",
    "            y = y[1:]\n",
    "    return y"
   ]
  },
  {
   "cell_type": "code",
   "execution_count": 126,
   "metadata": {},
   "outputs": [
    {
     "data": {
      "text/html": [
       "<div>\n",
       "<style scoped>\n",
       "    .dataframe tbody tr th:only-of-type {\n",
       "        vertical-align: middle;\n",
       "    }\n",
       "\n",
       "    .dataframe tbody tr th {\n",
       "        vertical-align: top;\n",
       "    }\n",
       "\n",
       "    .dataframe thead th {\n",
       "        text-align: right;\n",
       "    }\n",
       "</style>\n",
       "<table border=\"1\" class=\"dataframe\">\n",
       "  <thead>\n",
       "    <tr style=\"text-align: right;\">\n",
       "      <th></th>\n",
       "      <th>POLIZA</th>\n",
       "      <th>RUTASEGURADO</th>\n",
       "      <th>DV</th>\n",
       "      <th>RUTBENEFICIARIO</th>\n",
       "      <th>RUTBENEFIARIO_DV</th>\n",
       "      <th>RELACION</th>\n",
       "    </tr>\n",
       "  </thead>\n",
       "  <tbody>\n",
       "    <tr>\n",
       "      <th>0</th>\n",
       "      <td>340002977.0</td>\n",
       "      <td>26253599</td>\n",
       "      <td>1</td>\n",
       "      <td>26253599.0</td>\n",
       "      <td>1</td>\n",
       "      <td>AS</td>\n",
       "    </tr>\n",
       "    <tr>\n",
       "      <th>1</th>\n",
       "      <td>340002977.0</td>\n",
       "      <td>26346168</td>\n",
       "      <td>1</td>\n",
       "      <td>26346168.0</td>\n",
       "      <td>1</td>\n",
       "      <td>AS</td>\n",
       "    </tr>\n",
       "    <tr>\n",
       "      <th>2</th>\n",
       "      <td>340002977.0</td>\n",
       "      <td>26346168</td>\n",
       "      <td>1</td>\n",
       "      <td>500000.0</td>\n",
       "      <td>9</td>\n",
       "      <td>CO</td>\n",
       "    </tr>\n",
       "    <tr>\n",
       "      <th>3</th>\n",
       "      <td>340002977.0</td>\n",
       "      <td>26370990</td>\n",
       "      <td>K</td>\n",
       "      <td>26370990.0</td>\n",
       "      <td>K</td>\n",
       "      <td>AS</td>\n",
       "    </tr>\n",
       "    <tr>\n",
       "      <th>4</th>\n",
       "      <td>340002977.0</td>\n",
       "      <td>26370990</td>\n",
       "      <td>K</td>\n",
       "      <td>28308780.0</td>\n",
       "      <td>8</td>\n",
       "      <td>HI</td>\n",
       "    </tr>\n",
       "  </tbody>\n",
       "</table>\n",
       "</div>"
      ],
      "text/plain": [
       "        POLIZA RUTASEGURADO DV  RUTBENEFICIARIO RUTBENEFIARIO_DV RELACION\n",
       "0  340002977.0     26253599  1       26253599.0                1       AS\n",
       "1  340002977.0     26346168  1       26346168.0                1       AS\n",
       "2  340002977.0     26346168  1         500000.0                9       CO\n",
       "3  340002977.0     26370990  K       26370990.0                K       AS\n",
       "4  340002977.0     26370990  K       28308780.0                8       HI"
      ]
     },
     "execution_count": 126,
     "metadata": {},
     "output_type": "execute_result"
    }
   ],
   "source": [
    "rutsMetlife.head()"
   ]
  },
  {
   "cell_type": "code",
   "execution_count": 127,
   "metadata": {},
   "outputs": [
    {
     "name": "stderr",
     "output_type": "stream",
     "text": [
      "C:\\Users\\jmartinez\\AppData\\Local\\Temp\\ipykernel_1080\\3045764418.py:1: SettingWithCopyWarning: \n",
      "A value is trying to be set on a copy of a slice from a DataFrame.\n",
      "Try using .loc[row_indexer,col_indexer] = value instead\n",
      "\n",
      "See the caveats in the documentation: https://pandas.pydata.org/pandas-docs/stable/user_guide/indexing.html#returning-a-view-versus-a-copy\n",
      "  rutsMetlife[\"RUTBENEFIARIO_DV\"] = rutsMetlife[\"RUTBENEFIARIO_DV\"].astype(str).astype(str).apply(lambda y: siPrimerCero(y))\n"
     ]
    },
    {
     "data": {
      "text/html": [
       "<div>\n",
       "<style scoped>\n",
       "    .dataframe tbody tr th:only-of-type {\n",
       "        vertical-align: middle;\n",
       "    }\n",
       "\n",
       "    .dataframe tbody tr th {\n",
       "        vertical-align: top;\n",
       "    }\n",
       "\n",
       "    .dataframe thead th {\n",
       "        text-align: right;\n",
       "    }\n",
       "</style>\n",
       "<table border=\"1\" class=\"dataframe\">\n",
       "  <thead>\n",
       "    <tr style=\"text-align: right;\">\n",
       "      <th></th>\n",
       "      <th>POLIZA</th>\n",
       "      <th>RUTASEGURADO</th>\n",
       "      <th>DV</th>\n",
       "      <th>RUTBENEFICIARIO</th>\n",
       "      <th>RUTBENEFIARIO_DV</th>\n",
       "      <th>RELACION</th>\n",
       "    </tr>\n",
       "  </thead>\n",
       "  <tbody>\n",
       "    <tr>\n",
       "      <th>0</th>\n",
       "      <td>340002977.0</td>\n",
       "      <td>26253599</td>\n",
       "      <td>1</td>\n",
       "      <td>26253599.0</td>\n",
       "      <td>1</td>\n",
       "      <td>AS</td>\n",
       "    </tr>\n",
       "    <tr>\n",
       "      <th>1</th>\n",
       "      <td>340002977.0</td>\n",
       "      <td>26346168</td>\n",
       "      <td>1</td>\n",
       "      <td>26346168.0</td>\n",
       "      <td>1</td>\n",
       "      <td>AS</td>\n",
       "    </tr>\n",
       "    <tr>\n",
       "      <th>2</th>\n",
       "      <td>340002977.0</td>\n",
       "      <td>26346168</td>\n",
       "      <td>1</td>\n",
       "      <td>500000.0</td>\n",
       "      <td>9</td>\n",
       "      <td>CO</td>\n",
       "    </tr>\n",
       "    <tr>\n",
       "      <th>3</th>\n",
       "      <td>340002977.0</td>\n",
       "      <td>26370990</td>\n",
       "      <td>K</td>\n",
       "      <td>26370990.0</td>\n",
       "      <td>K</td>\n",
       "      <td>AS</td>\n",
       "    </tr>\n",
       "    <tr>\n",
       "      <th>4</th>\n",
       "      <td>340002977.0</td>\n",
       "      <td>26370990</td>\n",
       "      <td>K</td>\n",
       "      <td>28308780.0</td>\n",
       "      <td>8</td>\n",
       "      <td>HI</td>\n",
       "    </tr>\n",
       "  </tbody>\n",
       "</table>\n",
       "</div>"
      ],
      "text/plain": [
       "        POLIZA RUTASEGURADO DV  RUTBENEFICIARIO RUTBENEFIARIO_DV RELACION\n",
       "0  340002977.0     26253599  1       26253599.0                1       AS\n",
       "1  340002977.0     26346168  1       26346168.0                1       AS\n",
       "2  340002977.0     26346168  1         500000.0                9       CO\n",
       "3  340002977.0     26370990  K       26370990.0                K       AS\n",
       "4  340002977.0     26370990  K       28308780.0                8       HI"
      ]
     },
     "execution_count": 127,
     "metadata": {},
     "output_type": "execute_result"
    }
   ],
   "source": [
    "\n",
    "rutsMetlife[\"RUTBENEFIARIO_DV\"] = rutsMetlife[\"RUTBENEFIARIO_DV\"].astype(str).astype(str).apply(lambda y: siPrimerCero(y))\n",
    "rutsMetlife.head()"
   ]
  },
  {
   "cell_type": "code",
   "execution_count": 128,
   "metadata": {
    "notebookRunGroups": {
     "groupValue": "12"
    }
   },
   "outputs": [
    {
     "name": "stderr",
     "output_type": "stream",
     "text": [
      "C:\\Users\\jmartinez\\AppData\\Local\\Temp\\ipykernel_1080\\683568310.py:1: SettingWithCopyWarning: \n",
      "A value is trying to be set on a copy of a slice from a DataFrame.\n",
      "Try using .loc[row_indexer,col_indexer] = value instead\n",
      "\n",
      "See the caveats in the documentation: https://pandas.pydata.org/pandas-docs/stable/user_guide/indexing.html#returning-a-view-versus-a-copy\n",
      "  rutsMetlife[\"Relación\"] = rutsMetlife[\"RELACION\"].astype(str)\n",
      "C:\\Users\\jmartinez\\AppData\\Local\\Temp\\ipykernel_1080\\683568310.py:2: SettingWithCopyWarning: \n",
      "A value is trying to be set on a copy of a slice from a DataFrame.\n",
      "Try using .loc[row_indexer,col_indexer] = value instead\n",
      "\n",
      "See the caveats in the documentation: https://pandas.pydata.org/pandas-docs/stable/user_guide/indexing.html#returning-a-view-versus-a-copy\n",
      "  rutsMetlife[\"Relación\"] = np.where(rutsMetlife[\"Relación\"]== \"AS\",\"Titular\", \"Carga\")\n",
      "C:\\Users\\jmartinez\\AppData\\Local\\Temp\\ipykernel_1080\\683568310.py:9: FutureWarning: The default value of regex will change from True to False in a future version. In addition, single character regular expressions will *not* be treated as literal strings when regex=True.\n",
      "  rutsMetlife[\"Poliza\"] = rutsMetlife[\"Poliza\"].str.replace(\".\", \"\")\n",
      "C:\\Users\\jmartinez\\AppData\\Local\\Temp\\ipykernel_1080\\683568310.py:19: FutureWarning: The default value of regex will change from True to False in a future version. In addition, single character regular expressions will *not* be treated as literal strings when regex=True.\n",
      "  rutsMetlife[\"dv_asegurado\"] = rutsMetlife[\"dv_asegurado\"].str.replace(\".\", \"\")\n",
      "C:\\Users\\jmartinez\\AppData\\Local\\Temp\\ipykernel_1080\\683568310.py:29: FutureWarning: The default value of regex will change from True to False in a future version. In addition, single character regular expressions will *not* be treated as literal strings when regex=True.\n",
      "  rutsMetlife[\"Rut_Titular\"] = rutsMetlife[\"Rut_Titular\"].str.replace(\".\", \"\")\n",
      "C:\\Users\\jmartinez\\AppData\\Local\\Temp\\ipykernel_1080\\683568310.py:39: FutureWarning: The default value of regex will change from True to False in a future version. In addition, single character regular expressions will *not* be treated as literal strings when regex=True.\n",
      "  rutsMetlife[\"dv_Beneficiario\"] = rutsMetlife[\"dv_Beneficiario\"].str.replace(\".\", \"\")\n",
      "C:\\Users\\jmartinez\\AppData\\Local\\Temp\\ipykernel_1080\\683568310.py:49: FutureWarning: The default value of regex will change from True to False in a future version. In addition, single character regular expressions will *not* be treated as literal strings when regex=True.\n",
      "  rutsMetlife[\"Rut_Beneficiario\"] = rutsMetlife[\"Rut_Beneficiario\"].str.replace(\".\", \"\")\n"
     ]
    },
    {
     "data": {
      "text/plain": [
       "(334344, 13)"
      ]
     },
     "execution_count": 128,
     "metadata": {},
     "output_type": "execute_result"
    }
   ],
   "source": [
    "\n",
    "rutsMetlife[\"Relación\"] = rutsMetlife[\"RELACION\"].astype(str)\n",
    "rutsMetlife[\"Relación\"] = np.where(rutsMetlife[\"Relación\"]== \"AS\",\"Titular\", \"Carga\")\n",
    "rutsMetlife = rutsMetlife[rutsMetlife[\"Relación\"]==\"Titular\" ]\n",
    "\n",
    "rutsMetlife[\"Poliza\"] = rutsMetlife[\"POLIZA\"].astype(int).astype(str)\n",
    "rutsMetlife[\"Poliza\"] = rutsMetlife[\"Poliza\"].str.replace(\"-\", \"\")\n",
    "rutsMetlife[\"Poliza\"] = rutsMetlife[\"Poliza\"].str.replace(\"–\", \"\")\n",
    "rutsMetlife[\"Poliza\"] = rutsMetlife[\"Poliza\"].astype(str)\n",
    "rutsMetlife[\"Poliza\"] = rutsMetlife[\"Poliza\"].str.replace(\".\", \"\")\n",
    "rutsMetlife[\"Poliza\"] = rutsMetlife[\"Poliza\"].str.replace(\" \", \"\")\n",
    "rutsMetlife[\"Poliza\"] = rutsMetlife[\"Poliza\"].str.upper()\n",
    "rutsMetlife[\"Poliza\"] = rutsMetlife[\"Poliza\"].str.strip()\n",
    "\n",
    "rutsMetlife[\"dv_asegurado\"] = rutsMetlife[\"DV\"].astype(str).apply(lambda y: siPrimerCero(y)) \n",
    "#rutsMetlife[\"Rut_Titular\"] = rutsMetlife[\"Rut_Titular\"].astype(str)\n",
    "rutsMetlife[\"dv_asegurado\"] = rutsMetlife[\"dv_asegurado\"].str.replace(\"-\", \"\")\n",
    "rutsMetlife[\"dv_asegurado\"] = rutsMetlife[\"dv_asegurado\"].str.replace(\"–\", \"\")\n",
    "rutsMetlife[\"dv_asegurado\"] = rutsMetlife[\"dv_asegurado\"].astype(str)\n",
    "rutsMetlife[\"dv_asegurado\"] = rutsMetlife[\"dv_asegurado\"].str.replace(\".\", \"\")\n",
    "rutsMetlife[\"dv_asegurado\"] = rutsMetlife[\"dv_asegurado\"].str.replace(\" \", \"\")\n",
    "rutsMetlife[\"dv_asegurado\"] = rutsMetlife[\"dv_asegurado\"].str.upper()\n",
    "rutsMetlife[\"dv_asegurado\"] = rutsMetlife[\"dv_asegurado\"].str.strip()\n",
    "\n",
    "rutsMetlife[\"Rut_Titular\"] = rutsMetlife[\"RUTASEGURADO\"].astype(str).apply(lambda y: siPrimerCero(y)) \n",
    "#rutsMetlife[\"Rut_Titular\"] = rutsMetlife[\"Rut_Titular\"].astype(str).apply(lambda y: siPrimerCero(y)) \n",
    "rutsMetlife[\"Rut_Titular\"] = rutsMetlife[\"Rut_Titular\"].str.replace(\"-\", \"\")\n",
    "rutsMetlife[\"Rut_Titular\"] = rutsMetlife[\"Rut_Titular\"].str.replace(\"–\", \"\")\n",
    "rutsMetlife[\"Rut_Titular\"] = rutsMetlife[\"Rut_Titular\"].astype(str)\n",
    "rutsMetlife[\"Rut_Titular\"] = rutsMetlife[\"Rut_Titular\"].str.replace(\".\", \"\")\n",
    "rutsMetlife[\"Rut_Titular\"] = rutsMetlife[\"Rut_Titular\"].str.replace(\" \", \"\")\n",
    "rutsMetlife[\"Rut_Titular\"] = rutsMetlife[\"Rut_Titular\"].str.upper()\n",
    "rutsMetlife[\"Rut_Titular\"] = rutsMetlife[\"Rut_Titular\"].str.strip()\n",
    "\n",
    "rutsMetlife[\"dv_Beneficiario\"] = rutsMetlife[\"RUTBENEFIARIO_DV\"].astype(str).apply(lambda y: siPrimerCero(y))\n",
    "#rutsMetlife[\"Rut_Beneficiario\"] = rutsMetlife[\"Rut_Beneficiario\"].astype(str)\n",
    "rutsMetlife[\"dv_Beneficiario\"] = rutsMetlife[\"dv_Beneficiario\"].str.replace(\"-\", \"\")\n",
    "rutsMetlife[\"dv_Beneficiario\"] = rutsMetlife[\"dv_Beneficiario\"].str.replace(\"–\", \"\")\n",
    "rutsMetlife[\"dv_Beneficiario\"] = rutsMetlife[\"dv_Beneficiario\"].astype(str)\n",
    "rutsMetlife[\"dv_Beneficiario\"] = rutsMetlife[\"dv_Beneficiario\"].str.replace(\".\", \"\")\n",
    "rutsMetlife[\"dv_Beneficiario\"] = rutsMetlife[\"dv_Beneficiario\"].str.replace(\" \", \"\")\n",
    "rutsMetlife[\"dv_Beneficiario\"] = rutsMetlife[\"dv_Beneficiario\"].str.upper()\n",
    "rutsMetlife[\"dv_Beneficiario\"] = rutsMetlife[\"dv_Beneficiario\"].str.strip()\n",
    "\n",
    "rutsMetlife[\"Rut_Beneficiario\"] = rutsMetlife[\"RUTBENEFICIARIO\"].astype(int).astype(str).apply(lambda y: siPrimerCero(y))\n",
    "#rutsMetlife[\"Rut_Beneficiario\"] = rutsMetlife[\"Rut_Beneficiario\"].astype(str)\n",
    "rutsMetlife[\"Rut_Beneficiario\"] = rutsMetlife[\"Rut_Beneficiario\"].str.replace(\"-\", \"\")\n",
    "rutsMetlife[\"Rut_Beneficiario\"] = rutsMetlife[\"Rut_Beneficiario\"].str.replace(\"–\", \"\")\n",
    "rutsMetlife[\"Rut_Beneficiario\"] = rutsMetlife[\"Rut_Beneficiario\"].astype(str)\n",
    "rutsMetlife[\"Rut_Beneficiario\"] = rutsMetlife[\"Rut_Beneficiario\"].str.replace(\".\", \"\")\n",
    "rutsMetlife[\"Rut_Beneficiario\"] = rutsMetlife[\"Rut_Beneficiario\"].str.replace(\" \", \"\")\n",
    "rutsMetlife[\"Rut_Beneficiario\"] = rutsMetlife[\"Rut_Beneficiario\"].str.upper()\n",
    "rutsMetlife[\"Rut_Beneficiario\"] = rutsMetlife[\"Rut_Beneficiario\"].str.strip()\n",
    "\n",
    "rutsMetlife[\"Rut_Beneficiario\"] = rutsMetlife[\"Rut_Beneficiario\"] + rutsMetlife[\"dv_Beneficiario\"]\n",
    "rutsMetlife[\"Rut_Titular\"] = rutsMetlife[\"Rut_Titular\"] + rutsMetlife[\"dv_asegurado\"]\n",
    "\n",
    "\n",
    "#Subir_pacientes[Subir_pacientes[\"RutEstaoNo\"] == True]\n",
    "\n",
    "\n",
    "#rutsMetlife[\"llave\"] = rutsMetlife[\"Poliza\"] + rutsMetlife[\"Rut_Titular\"] + rutsMetlife[\"Rut_Beneficiario\"]\n",
    "rutsMetlife[\"llave\"] = rutsMetlife[\"Rut_Titular\"] + rutsMetlife[\"Rut_Beneficiario\"]\n",
    "\n",
    "\"\"\" rutsMetlife = rutsMetlife[\n",
    "    [\"Poliza\",\t\"Rut_Titular\",\t\"Rut_Beneficiario\",\t\"Relación\",\"llave\",\n",
    "       \n",
    "    ]\n",
    "] \"\"\"\n",
    "rutsMetlife = rutsMetlife.drop_duplicates(\n",
    "    [\n",
    "        \"llave\",\t\n",
    "    ],\n",
    "    keep=\"last\",\n",
    ")\n",
    "rutsMetlife.shape"
   ]
  },
  {
   "cell_type": "code",
   "execution_count": 129,
   "metadata": {},
   "outputs": [
    {
     "data": {
      "text/html": [
       "<div>\n",
       "<style scoped>\n",
       "    .dataframe tbody tr th:only-of-type {\n",
       "        vertical-align: middle;\n",
       "    }\n",
       "\n",
       "    .dataframe tbody tr th {\n",
       "        vertical-align: top;\n",
       "    }\n",
       "\n",
       "    .dataframe thead th {\n",
       "        text-align: right;\n",
       "    }\n",
       "</style>\n",
       "<table border=\"1\" class=\"dataframe\">\n",
       "  <thead>\n",
       "    <tr style=\"text-align: right;\">\n",
       "      <th></th>\n",
       "      <th>POLIZA</th>\n",
       "      <th>RUTASEGURADO</th>\n",
       "      <th>DV</th>\n",
       "      <th>RUTBENEFICIARIO</th>\n",
       "      <th>RUTBENEFIARIO_DV</th>\n",
       "      <th>RELACION</th>\n",
       "      <th>Relación</th>\n",
       "      <th>Poliza</th>\n",
       "      <th>dv_asegurado</th>\n",
       "      <th>Rut_Titular</th>\n",
       "      <th>dv_Beneficiario</th>\n",
       "      <th>Rut_Beneficiario</th>\n",
       "      <th>llave</th>\n",
       "    </tr>\n",
       "  </thead>\n",
       "  <tbody>\n",
       "    <tr>\n",
       "      <th>40</th>\n",
       "      <td>340003298.0</td>\n",
       "      <td>8321693</td>\n",
       "      <td>K</td>\n",
       "      <td>8321693.0</td>\n",
       "      <td>K</td>\n",
       "      <td>AS</td>\n",
       "      <td>Titular</td>\n",
       "      <td>340003298</td>\n",
       "      <td>K</td>\n",
       "      <td>8321693K</td>\n",
       "      <td>K</td>\n",
       "      <td>8321693K</td>\n",
       "      <td>8321693K8321693K</td>\n",
       "    </tr>\n",
       "    <tr>\n",
       "      <th>44</th>\n",
       "      <td>340003298.0</td>\n",
       "      <td>11575425</td>\n",
       "      <td>4</td>\n",
       "      <td>11575425.0</td>\n",
       "      <td>4</td>\n",
       "      <td>AS</td>\n",
       "      <td>Titular</td>\n",
       "      <td>340003298</td>\n",
       "      <td>4</td>\n",
       "      <td>115754254</td>\n",
       "      <td>4</td>\n",
       "      <td>115754254</td>\n",
       "      <td>115754254115754254</td>\n",
       "    </tr>\n",
       "    <tr>\n",
       "      <th>46</th>\n",
       "      <td>340003298.0</td>\n",
       "      <td>12791821</td>\n",
       "      <td>K</td>\n",
       "      <td>12791821.0</td>\n",
       "      <td>K</td>\n",
       "      <td>AS</td>\n",
       "      <td>Titular</td>\n",
       "      <td>340003298</td>\n",
       "      <td>K</td>\n",
       "      <td>12791821K</td>\n",
       "      <td>K</td>\n",
       "      <td>12791821K</td>\n",
       "      <td>12791821K12791821K</td>\n",
       "    </tr>\n",
       "    <tr>\n",
       "      <th>2946</th>\n",
       "      <td>340002976.0</td>\n",
       "      <td>15979959</td>\n",
       "      <td>K</td>\n",
       "      <td>15979959.0</td>\n",
       "      <td>K</td>\n",
       "      <td>AS</td>\n",
       "      <td>Titular</td>\n",
       "      <td>340002976</td>\n",
       "      <td>K</td>\n",
       "      <td>15979959K</td>\n",
       "      <td>K</td>\n",
       "      <td>15979959K</td>\n",
       "      <td>15979959K15979959K</td>\n",
       "    </tr>\n",
       "    <tr>\n",
       "      <th>2951</th>\n",
       "      <td>340003298.0</td>\n",
       "      <td>4108674</td>\n",
       "      <td>2</td>\n",
       "      <td>4108674.0</td>\n",
       "      <td>2</td>\n",
       "      <td>AS</td>\n",
       "      <td>Titular</td>\n",
       "      <td>340003298</td>\n",
       "      <td>2</td>\n",
       "      <td>41086742</td>\n",
       "      <td>2</td>\n",
       "      <td>41086742</td>\n",
       "      <td>4108674241086742</td>\n",
       "    </tr>\n",
       "  </tbody>\n",
       "</table>\n",
       "</div>"
      ],
      "text/plain": [
       "           POLIZA RUTASEGURADO DV  RUTBENEFICIARIO RUTBENEFIARIO_DV RELACION  \\\n",
       "40    340003298.0      8321693  K        8321693.0                K       AS   \n",
       "44    340003298.0     11575425  4       11575425.0                4       AS   \n",
       "46    340003298.0     12791821  K       12791821.0                K       AS   \n",
       "2946  340002976.0     15979959  K       15979959.0                K       AS   \n",
       "2951  340003298.0      4108674  2        4108674.0                2       AS   \n",
       "\n",
       "     Relación     Poliza dv_asegurado Rut_Titular dv_Beneficiario  \\\n",
       "40    Titular  340003298            K    8321693K               K   \n",
       "44    Titular  340003298            4   115754254               4   \n",
       "46    Titular  340003298            K   12791821K               K   \n",
       "2946  Titular  340002976            K   15979959K               K   \n",
       "2951  Titular  340003298            2    41086742               2   \n",
       "\n",
       "     Rut_Beneficiario               llave  \n",
       "40           8321693K    8321693K8321693K  \n",
       "44          115754254  115754254115754254  \n",
       "46          12791821K  12791821K12791821K  \n",
       "2946        15979959K  15979959K15979959K  \n",
       "2951         41086742    4108674241086742  "
      ]
     },
     "execution_count": 129,
     "metadata": {},
     "output_type": "execute_result"
    }
   ],
   "source": [
    "rutsMetlife.head()"
   ]
  },
  {
   "cell_type": "code",
   "execution_count": 130,
   "metadata": {
    "notebookRunGroups": {
     "groupValue": "1"
    }
   },
   "outputs": [
    {
     "data": {
      "text/plain": [
       "' rutsMetlife = rutsMetlife.sort_values(by=\"llave\", ascending = True)\\nrutsMetlife.to_excel(\"F:/martin/MetLife SFTP/Titulares unicos Metlife.xlsx\", index=False) '"
      ]
     },
     "execution_count": 130,
     "metadata": {},
     "output_type": "execute_result"
    }
   ],
   "source": [
    "\n",
    "#ruts_metlife = rutsMetlife\n",
    "\"\"\" rutsMetlife = rutsMetlife.sort_values(by=\"llave\", ascending = True)\n",
    "rutsMetlife.to_excel(\"F:/martin/MetLife SFTP/Titulares unicos Metlife.xlsx\", index=False) \"\"\""
   ]
  },
  {
   "cell_type": "code",
   "execution_count": 131,
   "metadata": {},
   "outputs": [
    {
     "data": {
      "text/html": [
       "<div>\n",
       "<style scoped>\n",
       "    .dataframe tbody tr th:only-of-type {\n",
       "        vertical-align: middle;\n",
       "    }\n",
       "\n",
       "    .dataframe tbody tr th {\n",
       "        vertical-align: top;\n",
       "    }\n",
       "\n",
       "    .dataframe thead th {\n",
       "        text-align: right;\n",
       "    }\n",
       "</style>\n",
       "<table border=\"1\" class=\"dataframe\">\n",
       "  <thead>\n",
       "    <tr style=\"text-align: right;\">\n",
       "      <th></th>\n",
       "      <th>N_Documento_Titular__c</th>\n",
       "      <th>Paciente__r.IdentificationId__pc</th>\n",
       "      <th>llave</th>\n",
       "      <th>Esta</th>\n",
       "    </tr>\n",
       "  </thead>\n",
       "  <tbody>\n",
       "    <tr>\n",
       "      <th>24</th>\n",
       "      <td>196857265</td>\n",
       "      <td>196857265</td>\n",
       "      <td>196857265196857265</td>\n",
       "      <td>False</td>\n",
       "    </tr>\n",
       "    <tr>\n",
       "      <th>37</th>\n",
       "      <td>133393641</td>\n",
       "      <td>133393641</td>\n",
       "      <td>133393641133393641</td>\n",
       "      <td>False</td>\n",
       "    </tr>\n",
       "    <tr>\n",
       "      <th>69</th>\n",
       "      <td>81122970</td>\n",
       "      <td>81122970</td>\n",
       "      <td>8112297081122970</td>\n",
       "      <td>False</td>\n",
       "    </tr>\n",
       "    <tr>\n",
       "      <th>70</th>\n",
       "      <td>181215232</td>\n",
       "      <td>181215232</td>\n",
       "      <td>181215232181215232</td>\n",
       "      <td>False</td>\n",
       "    </tr>\n",
       "    <tr>\n",
       "      <th>71</th>\n",
       "      <td>160280859</td>\n",
       "      <td>160280859</td>\n",
       "      <td>160280859160280859</td>\n",
       "      <td>False</td>\n",
       "    </tr>\n",
       "  </tbody>\n",
       "</table>\n",
       "</div>"
      ],
      "text/plain": [
       "   N_Documento_Titular__c Paciente__r.IdentificationId__pc  \\\n",
       "24              196857265                        196857265   \n",
       "37              133393641                        133393641   \n",
       "69               81122970                         81122970   \n",
       "70              181215232                        181215232   \n",
       "71              160280859                        160280859   \n",
       "\n",
       "                 llave   Esta  \n",
       "24  196857265196857265  False  \n",
       "37  133393641133393641  False  \n",
       "69    8112297081122970  False  \n",
       "70  181215232181215232  False  \n",
       "71  160280859160280859  False  "
      ]
     },
     "execution_count": 131,
     "metadata": {},
     "output_type": "execute_result"
    }
   ],
   "source": [
    "\"\"\" query_empresacontactoconvenio = (\n",
    "    \"select N_Documento_Titular__c,Paciente__r.IdentificationId__pc from EmpresaContactoConvenios__c where Empresa__r.Campa_a__c = 'MetLife' and Relaci_n_Con_Asegurado__c = 'Titular' \"\n",
    "    \n",
    ") \"\"\"\n",
    "\n",
    "\n",
    "#and Convenio_Activo__c = true \n",
    "#empresacontactoconvenio = sf.smart_query(query_empresacontactoconvenio)\n",
    "#empresacontactoconvenio.\n",
    "\n",
    "empresacontactoconvenio.head()"
   ]
  },
  {
   "cell_type": "code",
   "execution_count": 132,
   "metadata": {},
   "outputs": [],
   "source": [
    "ruts = \"F:/martin/MetLife SFTP/ORIENTA_22122023.xlsx\"\n",
    "empresacontactoconvenio = pd.read_excel(ruts)"
   ]
  },
  {
   "cell_type": "code",
   "execution_count": null,
   "metadata": {},
   "outputs": [
    {
     "name": "stderr",
     "output_type": "stream",
     "text": [
      "C:\\Users\\jmartinez\\AppData\\Local\\Temp\\ipykernel_1080\\3834120504.py:5: FutureWarning: The default value of regex will change from True to False in a future version. In addition, single character regular expressions will *not* be treated as literal strings when regex=True.\n",
      "  empresacontactoconvenio[\"N_Documento_Titular__c\"] = empresacontactoconvenio[\"N_Documento_Titular__c\"].str.replace(\".\", \"\")\n",
      "C:\\Users\\jmartinez\\AppData\\Local\\Temp\\ipykernel_1080\\3834120504.py:14: FutureWarning: The default value of regex will change from True to False in a future version. In addition, single character regular expressions will *not* be treated as literal strings when regex=True.\n",
      "  empresacontactoconvenio[\"Paciente__r.IdentificationId__pc\"] = empresacontactoconvenio[\"Paciente__r.IdentificationId__pc\"].str.replace(\".\", \"\")\n"
     ]
    },
    {
     "data": {
      "text/html": [
       "<div>\n",
       "<style scoped>\n",
       "    .dataframe tbody tr th:only-of-type {\n",
       "        vertical-align: middle;\n",
       "    }\n",
       "\n",
       "    .dataframe tbody tr th {\n",
       "        vertical-align: top;\n",
       "    }\n",
       "\n",
       "    .dataframe thead th {\n",
       "        text-align: right;\n",
       "    }\n",
       "</style>\n",
       "<table border=\"1\" class=\"dataframe\">\n",
       "  <thead>\n",
       "    <tr style=\"text-align: right;\">\n",
       "      <th></th>\n",
       "      <th>N_Documento_Titular__c</th>\n",
       "      <th>Paciente__r.IdentificationId__pc</th>\n",
       "    </tr>\n",
       "  </thead>\n",
       "  <tbody>\n",
       "    <tr>\n",
       "      <th>0</th>\n",
       "      <td>199175742</td>\n",
       "      <td>199175742</td>\n",
       "    </tr>\n",
       "    <tr>\n",
       "      <th>1</th>\n",
       "      <td>15638903K</td>\n",
       "      <td>15638903K</td>\n",
       "    </tr>\n",
       "    <tr>\n",
       "      <th>2</th>\n",
       "      <td>272172277</td>\n",
       "      <td>272172277</td>\n",
       "    </tr>\n",
       "    <tr>\n",
       "      <th>3</th>\n",
       "      <td>197504749</td>\n",
       "      <td>197504749</td>\n",
       "    </tr>\n",
       "    <tr>\n",
       "      <th>4</th>\n",
       "      <td>188405010</td>\n",
       "      <td>188405010</td>\n",
       "    </tr>\n",
       "  </tbody>\n",
       "</table>\n",
       "</div>"
      ],
      "text/plain": [
       "  N_Documento_Titular__c Paciente__r.IdentificationId__pc\n",
       "0              199175742                        199175742\n",
       "1              15638903K                        15638903K\n",
       "2              272172277                        272172277\n",
       "3              197504749                        197504749\n",
       "4              188405010                        188405010"
      ]
     },
     "execution_count": 110,
     "metadata": {},
     "output_type": "execute_result"
    }
   ],
   "source": [
    "empresacontactoconvenio[\"N_Documento_Titular__c\"] = empresacontactoconvenio[\"N_Documento_Titular__c\"].astype(str)\n",
    "empresacontactoconvenio[\"N_Documento_Titular__c\"] = empresacontactoconvenio[\"N_Documento_Titular__c\"].str.replace(\"-\", \"\")\n",
    "empresacontactoconvenio[\"N_Documento_Titular__c\"] = empresacontactoconvenio[\"N_Documento_Titular__c\"].str.replace(\"–\", \"\")\n",
    "empresacontactoconvenio[\"N_Documento_Titular__c\"] = empresacontactoconvenio[\"N_Documento_Titular__c\"].astype(str)\n",
    "empresacontactoconvenio[\"N_Documento_Titular__c\"] = empresacontactoconvenio[\"N_Documento_Titular__c\"].str.replace(\".\", \"\")\n",
    "empresacontactoconvenio[\"N_Documento_Titular__c\"] = empresacontactoconvenio[\"N_Documento_Titular__c\"].str.replace(\" \", \"\")\n",
    "empresacontactoconvenio[\"N_Documento_Titular__c\"] = empresacontactoconvenio[\"N_Documento_Titular__c\"].str.upper()\n",
    "empresacontactoconvenio[\"N_Documento_Titular__c\"] = empresacontactoconvenio[\"N_Documento_Titular__c\"].str.strip()\n",
    "\n",
    "empresacontactoconvenio[\"Paciente__r.IdentificationId__pc\"] = empresacontactoconvenio[\"Paciente__r.IdentificationId__pc\"].astype(str)\n",
    "empresacontactoconvenio[\"Paciente__r.IdentificationId__pc\"] = empresacontactoconvenio[\"Paciente__r.IdentificationId__pc\"].str.replace(\"-\", \"\")\n",
    "empresacontactoconvenio[\"Paciente__r.IdentificationId__pc\"] = empresacontactoconvenio[\"Paciente__r.IdentificationId__pc\"].str.replace(\"–\", \"\")\n",
    "empresacontactoconvenio[\"Paciente__r.IdentificationId__pc\"] = empresacontactoconvenio[\"Paciente__r.IdentificationId__pc\"].astype(str)\n",
    "empresacontactoconvenio[\"Paciente__r.IdentificationId__pc\"] = empresacontactoconvenio[\"Paciente__r.IdentificationId__pc\"].str.replace(\".\", \"\")\n",
    "empresacontactoconvenio[\"Paciente__r.IdentificationId__pc\"] = empresacontactoconvenio[\"Paciente__r.IdentificationId__pc\"].str.replace(\" \", \"\")\n",
    "empresacontactoconvenio[\"Paciente__r.IdentificationId__pc\"] = empresacontactoconvenio[\"Paciente__r.IdentificationId__pc\"].str.upper()\n",
    "empresacontactoconvenio[\"Paciente__r.IdentificationId__pc\"] = empresacontactoconvenio[\"Paciente__r.IdentificationId__pc\"].str.strip()\n",
    "\n",
    "empresacontactoconvenio.head()"
   ]
  },
  {
   "cell_type": "code",
   "execution_count": null,
   "metadata": {},
   "outputs": [
    {
     "data": {
      "text/plain": [
       "(372546, 3)"
      ]
     },
     "execution_count": 111,
     "metadata": {},
     "output_type": "execute_result"
    }
   ],
   "source": [
    "empresacontactoconvenio[\"llave\"] = empresacontactoconvenio[\"Paciente__r.IdentificationId__pc\"] + empresacontactoconvenio[\"N_Documento_Titular__c\"]\n",
    "empresacontactoconvenio = empresacontactoconvenio.drop_duplicates(\n",
    "    [\n",
    "        \"llave\",\t\n",
    "    ],\n",
    "    keep=\"last\",\n",
    ")\n",
    "empresacontactoconvenio.shape"
   ]
  },
  {
   "cell_type": "markdown",
   "metadata": {},
   "source": []
  },
  {
   "cell_type": "code",
   "execution_count": null,
   "metadata": {},
   "outputs": [
    {
     "data": {
      "text/plain": [
       "(57233, 4)"
      ]
     },
     "execution_count": 112,
     "metadata": {},
     "output_type": "execute_result"
    }
   ],
   "source": [
    "empresacontactoconvenio[\"Esta\"] = empresacontactoconvenio[\"llave\"].isin(rutsMetlife[\"llave\"])\n",
    "empresacontactoconvenio = empresacontactoconvenio[empresacontactoconvenio[\"Esta\"]==False]\n",
    "#rutsMetlife = rutsMetlife[rutsMetlife[\"Relación\"]==\"Titular\" ]\n",
    "empresacontactoconvenio.shape"
   ]
  },
  {
   "cell_type": "code",
   "execution_count": null,
   "metadata": {},
   "outputs": [],
   "source": [
    "\n",
    "#empresacontactoconvenio.to_excel(\"F:/martin/MetLife SFTP/diferencia_57.xlsx\", index=False) "
   ]
  },
  {
   "cell_type": "code",
   "execution_count": null,
   "metadata": {
    "notebookRunGroups": {
     "groupValue": "2"
    }
   },
   "outputs": [
    {
     "data": {
      "text/plain": [
       "' ruts_metlife = pd.concat([ruts_metlife, rutsMetlife], axis=0)\\nruts_metlife = ruts_metlife.drop_duplicates(\\n    [\\n        \"Poliza\",\"Rut_Titular\",\\t\"Rut_Beneficiario\",\\t\"Relación\",\\n    ],\\n    keep=\"last\",\\n)\\nruts_metlife.shape '"
      ]
     },
     "execution_count": 113,
     "metadata": {},
     "output_type": "execute_result"
    }
   ],
   "source": [
    "\"\"\" ruts_metlife = pd.concat([ruts_metlife, rutsMetlife], axis=0)\n",
    "ruts_metlife = ruts_metlife.drop_duplicates(\n",
    "    [\n",
    "        \"Poliza\",\"Rut_Titular\",\t\"Rut_Beneficiario\",\t\"Relación\",\n",
    "    ],\n",
    "    keep=\"last\",\n",
    ")\n",
    "ruts_metlife.shape \"\"\""
   ]
  },
  {
   "cell_type": "code",
   "execution_count": null,
   "metadata": {},
   "outputs": [
    {
     "data": {
      "text/plain": [
       "' reportes_metlife = \"C:/Users/jmartinez/Documents/Metlife_derty.xlsx\"\\nreportes_metlife_fredy = pd.read_excel(reportes_metlife) '"
      ]
     },
     "execution_count": 114,
     "metadata": {},
     "output_type": "execute_result"
    }
   ],
   "source": [
    "\n",
    "\"\"\" reportes_metlife = \"C:/Users/jmartinez/Documents/Metlife_derty.xlsx\"\n",
    "reportes_metlife_fredy = pd.read_excel(reportes_metlife) \"\"\""
   ]
  },
  {
   "cell_type": "code",
   "execution_count": null,
   "metadata": {},
   "outputs": [
    {
     "data": {
      "text/plain": [
       "' reportes_metlife_fredy[\"llave\"] =  reportes_metlife_fredy[\"Rut\"]\\nruts_metlife[\"LLave\"] = ruts_metlife[\"Rut_Beneficiario\"]  '"
      ]
     },
     "execution_count": 115,
     "metadata": {},
     "output_type": "execute_result"
    }
   ],
   "source": [
    "\"\"\" reportes_metlife_fredy[\"llave\"] =  reportes_metlife_fredy[\"Rut\"]\n",
    "ruts_metlife[\"LLave\"] = ruts_metlife[\"Rut_Beneficiario\"]  \"\"\""
   ]
  },
  {
   "cell_type": "code",
   "execution_count": null,
   "metadata": {},
   "outputs": [
    {
     "data": {
      "text/plain": [
       "' reportes_metlife_fredy = pd.merge(\\n    left=reportes_metlife_fredy,\\n    right=ruts_metlife,\\n    how=\"left\",\\n    left_on=\"llave\",\\n    right_on=\"LLave\",\\n) '"
      ]
     },
     "execution_count": 116,
     "metadata": {},
     "output_type": "execute_result"
    }
   ],
   "source": [
    "\"\"\" reportes_metlife_fredy = pd.merge(\n",
    "    left=reportes_metlife_fredy,\n",
    "    right=ruts_metlife,\n",
    "    how=\"left\",\n",
    "    left_on=\"llave\",\n",
    "    right_on=\"LLave\",\n",
    ") \"\"\""
   ]
  },
  {
   "cell_type": "code",
   "execution_count": null,
   "metadata": {},
   "outputs": [
    {
     "data": {
      "text/plain": [
       "' reportes_metlife_fredy.head(5) '"
      ]
     },
     "execution_count": 117,
     "metadata": {},
     "output_type": "execute_result"
    }
   ],
   "source": [
    "\"\"\" reportes_metlife_fredy.head(5) \"\"\""
   ]
  },
  {
   "cell_type": "code",
   "execution_count": null,
   "metadata": {},
   "outputs": [],
   "source": [
    "#reportes_metlife_fredy.to_excel(\"C:/Users/jmartinez/Documents/reportes_metlife2.xlsx\", index=False)"
   ]
  }
 ],
 "metadata": {
  "kernelspec": {
   "display_name": "salesforce",
   "language": "python",
   "name": "python3"
  },
  "language_info": {
   "codemirror_mode": {
    "name": "ipython",
    "version": 3
   },
   "file_extension": ".py",
   "mimetype": "text/x-python",
   "name": "python",
   "nbconvert_exporter": "python",
   "pygments_lexer": "ipython3",
   "version": "3.8.16"
  }
 },
 "nbformat": 4,
 "nbformat_minor": 2
}
