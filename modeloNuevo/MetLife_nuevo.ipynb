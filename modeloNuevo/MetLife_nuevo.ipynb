{
 "cells": [
  {
   "cell_type": "code",
   "execution_count": 4,
   "metadata": {
    "notebookRunGroups": {
     "groupValue": "1"
    }
   },
   "outputs": [],
   "source": [
    "import json\n",
    "import pandas as pd\n",
    "import numpy as np\n",
    "from simple_salesforce import Salesforce, format_soql, format_external_id\n",
    "from json import loads, dumps\n",
    "import simpler_sf\n",
    "simpler_sf.simple_salesforce()\n",
    "from sqlalchemy import create_engine"
   ]
  },
  {
   "cell_type": "code",
   "execution_count": 5,
   "metadata": {
    "notebookRunGroups": {
     "groupValue": "1"
    }
   },
   "outputs": [],
   "source": [
    "with open(\"../login.json\", \"r\") as j:\n",
    "    misDatos = json.load(j)\n",
    "sf = Salesforce(\n",
    "    username=misDatos[\"username\"],\n",
    "    password=misDatos[\"password\"],\n",
    "    security_token=misDatos[\"security_token\"],\n",
    ")"
   ]
  },
  {
   "cell_type": "code",
   "execution_count": 6,
   "metadata": {
    "notebookRunGroups": {
     "groupValue": "12"
    }
   },
   "outputs": [],
   "source": [
    "#ruts = \"F:/martin/MetLife SFTP/ORIENTA_02022024.xlsx\"\n",
    "#rutsMetlife = pd.read_excel(ruts)\n"
   ]
  },
  {
   "cell_type": "code",
   "execution_count": 7,
   "metadata": {
    "notebookRunGroups": {
     "groupValue": "1"
    }
   },
   "outputs": [
    {
     "ename": "NameError",
     "evalue": "name 'rutsMetlife' is not defined",
     "output_type": "error",
     "traceback": [
      "\u001b[1;31m---------------------------------------------------------------------------\u001b[0m",
      "\u001b[1;31mNameError\u001b[0m                                 Traceback (most recent call last)",
      "Cell \u001b[1;32mIn[7], line 1\u001b[0m\n\u001b[1;32m----> 1\u001b[0m \u001b[43mrutsMetlife\u001b[49m\u001b[38;5;241m.\u001b[39mhead()\n",
      "\u001b[1;31mNameError\u001b[0m: name 'rutsMetlife' is not defined"
     ]
    }
   ],
   "source": [
    "rutsMetlife.head()\n"
   ]
  },
  {
   "cell_type": "code",
   "execution_count": 8,
   "metadata": {
    "notebookRunGroups": {
     "groupValue": "12"
    }
   },
   "outputs": [
    {
     "ename": "NameError",
     "evalue": "name 'rutsMetlife' is not defined",
     "output_type": "error",
     "traceback": [
      "\u001b[1;31m---------------------------------------------------------------------------\u001b[0m",
      "\u001b[1;31mNameError\u001b[0m                                 Traceback (most recent call last)",
      "Cell \u001b[1;32mIn[8], line 1\u001b[0m\n\u001b[1;32m----> 1\u001b[0m rutsMetlife \u001b[38;5;241m=\u001b[39m \u001b[43mrutsMetlife\u001b[49m[\n\u001b[0;32m      2\u001b[0m     [\n\u001b[0;32m      3\u001b[0m         \u001b[38;5;124m\"\u001b[39m\u001b[38;5;124mPOLIZA\u001b[39m\u001b[38;5;124m\"\u001b[39m,\n\u001b[0;32m      4\u001b[0m         \u001b[38;5;124m\"\u001b[39m\u001b[38;5;124mRUTASEGURADO\u001b[39m\u001b[38;5;124m\"\u001b[39m,\n\u001b[0;32m      5\u001b[0m         \u001b[38;5;124m\"\u001b[39m\u001b[38;5;124mDV\u001b[39m\u001b[38;5;124m\"\u001b[39m,\n\u001b[0;32m      6\u001b[0m         \u001b[38;5;124m\"\u001b[39m\u001b[38;5;124mRUTBENEFICIARIO\u001b[39m\u001b[38;5;124m\"\u001b[39m,\n\u001b[0;32m      7\u001b[0m         \u001b[38;5;124m\"\u001b[39m\u001b[38;5;124mRUTBENEFIARIO_DV\u001b[39m\u001b[38;5;124m\"\u001b[39m,\n\u001b[0;32m      8\u001b[0m         \u001b[38;5;124m\"\u001b[39m\u001b[38;5;124mRELACION\u001b[39m\u001b[38;5;124m\"\u001b[39m,\n\u001b[0;32m      9\u001b[0m     ]\n\u001b[0;32m     10\u001b[0m ]\n\u001b[0;32m     11\u001b[0m rutsMetlife\u001b[38;5;241m.\u001b[39mshape\n",
      "\u001b[1;31mNameError\u001b[0m: name 'rutsMetlife' is not defined"
     ]
    }
   ],
   "source": [
    "rutsMetlife = rutsMetlife[\n",
    "    [\n",
    "        \"POLIZA\",\n",
    "        \"RUTASEGURADO\",\n",
    "        \"DV\",\n",
    "        \"RUTBENEFICIARIO\",\n",
    "        \"RUTBENEFIARIO_DV\",\n",
    "        \"RELACION\",\n",
    "    ]\n",
    "]\n",
    "rutsMetlife.shape"
   ]
  },
  {
   "cell_type": "code",
   "execution_count": 9,
   "metadata": {
    "notebookRunGroups": {
     "groupValue": "12"
    }
   },
   "outputs": [
    {
     "ename": "NameError",
     "evalue": "name 'rutsMetlife' is not defined",
     "output_type": "error",
     "traceback": [
      "\u001b[1;31m---------------------------------------------------------------------------\u001b[0m",
      "\u001b[1;31mNameError\u001b[0m                                 Traceback (most recent call last)",
      "Cell \u001b[1;32mIn[9], line 1\u001b[0m\n\u001b[1;32m----> 1\u001b[0m rutsMetlife[\u001b[38;5;124m\"\u001b[39m\u001b[38;5;124mPoliza\u001b[39m\u001b[38;5;124m\"\u001b[39m] \u001b[38;5;241m=\u001b[39m \u001b[43mrutsMetlife\u001b[49m[\u001b[38;5;124m\"\u001b[39m\u001b[38;5;124mPOLIZA\u001b[39m\u001b[38;5;124m\"\u001b[39m]\u001b[38;5;241m.\u001b[39mastype(\u001b[38;5;28mstr\u001b[39m)\n\u001b[0;32m      2\u001b[0m rutsMetlife[\u001b[38;5;124m\"\u001b[39m\u001b[38;5;124mPoliza\u001b[39m\u001b[38;5;124m\"\u001b[39m] \u001b[38;5;241m=\u001b[39m rutsMetlife[\u001b[38;5;124m\"\u001b[39m\u001b[38;5;124mPoliza\u001b[39m\u001b[38;5;124m\"\u001b[39m]\u001b[38;5;241m.\u001b[39mstr\u001b[38;5;241m.\u001b[39mreplace(\u001b[38;5;124m\"\u001b[39m\u001b[38;5;124m-\u001b[39m\u001b[38;5;124m\"\u001b[39m, \u001b[38;5;124m\"\u001b[39m\u001b[38;5;124m\"\u001b[39m)\n\u001b[0;32m      3\u001b[0m rutsMetlife[\u001b[38;5;124m\"\u001b[39m\u001b[38;5;124mPoliza\u001b[39m\u001b[38;5;124m\"\u001b[39m] \u001b[38;5;241m=\u001b[39m rutsMetlife[\u001b[38;5;124m\"\u001b[39m\u001b[38;5;124mPoliza\u001b[39m\u001b[38;5;124m\"\u001b[39m]\u001b[38;5;241m.\u001b[39mstr\u001b[38;5;241m.\u001b[39mreplace(\u001b[38;5;124m\"\u001b[39m\u001b[38;5;124m–\u001b[39m\u001b[38;5;124m\"\u001b[39m, \u001b[38;5;124m\"\u001b[39m\u001b[38;5;124m\"\u001b[39m)\n",
      "\u001b[1;31mNameError\u001b[0m: name 'rutsMetlife' is not defined"
     ]
    }
   ],
   "source": [
    "rutsMetlife[\"Poliza\"] = rutsMetlife[\"POLIZA\"].astype(str)\n",
    "rutsMetlife[\"Poliza\"] = rutsMetlife[\"Poliza\"].str.replace(\"-\", \"\")\n",
    "rutsMetlife[\"Poliza\"] = rutsMetlife[\"Poliza\"].str.replace(\"–\", \"\")\n",
    "rutsMetlife[\"Poliza\"] = rutsMetlife[\"Poliza\"].astype(str)\n",
    "rutsMetlife[\"Poliza\"] = rutsMetlife[\"Poliza\"].str.replace(\".\", \"\")\n",
    "rutsMetlife[\"Poliza\"] = rutsMetlife[\"Poliza\"].str.replace(\" \", \"\")\n",
    "rutsMetlife[\"Poliza\"] = rutsMetlife[\"Poliza\"].str.upper()\n",
    "rutsMetlife[\"Poliza\"] = rutsMetlife[\"Poliza\"].str.strip()\n",
    "\n",
    "rutsMetlife[\"Rut_Titular\"] = rutsMetlife[\"RUTASEGURADO\"].astype(str) + rutsMetlife[\"DV\"].astype(str)\n",
    "rutsMetlife[\"Rut_Titular\"] = rutsMetlife[\"Rut_Titular\"].astype(str)\n",
    "rutsMetlife[\"Rut_Titular\"] = rutsMetlife[\"Rut_Titular\"].str.replace(\"-\", \"\")\n",
    "rutsMetlife[\"Rut_Titular\"] = rutsMetlife[\"Rut_Titular\"].str.replace(\"–\", \"\")\n",
    "rutsMetlife[\"Rut_Titular\"] = rutsMetlife[\"Rut_Titular\"].astype(str)\n",
    "rutsMetlife[\"Rut_Titular\"] = rutsMetlife[\"Rut_Titular\"].str.replace(\".\", \"\")\n",
    "rutsMetlife[\"Rut_Titular\"] = rutsMetlife[\"Rut_Titular\"].str.replace(\" \", \"\")\n",
    "rutsMetlife[\"Rut_Titular\"] = rutsMetlife[\"Rut_Titular\"].str.upper()\n",
    "rutsMetlife[\"Rut_Titular\"] = rutsMetlife[\"Rut_Titular\"].str.strip()\n",
    "\n",
    "rutsMetlife[\"Rut_Beneficiario\"] = rutsMetlife[\"RUTBENEFICIARIO\"].astype(str) + rutsMetlife[\"RUTBENEFIARIO_DV\"].astype(str)\n",
    "rutsMetlife[\"Rut_Beneficiario\"] = rutsMetlife[\"Rut_Beneficiario\"].astype(str)\n",
    "rutsMetlife[\"Rut_Beneficiario\"] = rutsMetlife[\"Rut_Beneficiario\"].str.replace(\"-\", \"\")\n",
    "rutsMetlife[\"Rut_Beneficiario\"] = rutsMetlife[\"Rut_Beneficiario\"].str.replace(\"–\", \"\")\n",
    "rutsMetlife[\"Rut_Beneficiario\"] = rutsMetlife[\"Rut_Beneficiario\"].astype(str)\n",
    "rutsMetlife[\"Rut_Beneficiario\"] = rutsMetlife[\"Rut_Beneficiario\"].str.replace(\".\", \"\")\n",
    "rutsMetlife[\"Rut_Beneficiario\"] = rutsMetlife[\"Rut_Beneficiario\"].str.replace(\" \", \"\")\n",
    "rutsMetlife[\"Rut_Beneficiario\"] = rutsMetlife[\"Rut_Beneficiario\"].str.upper()\n",
    "rutsMetlife[\"Rut_Beneficiario\"] = rutsMetlife[\"Rut_Beneficiario\"].str.strip()\n",
    "\n",
    "rutsMetlife[\"Relación\"] = rutsMetlife[\"RELACION\"].astype(str)\n",
    "rutsMetlife[\"Relación\"] = np.where(rutsMetlife[\"Relación\"]== \"AS\",\"Titular\", \"Carga\")\n",
    "\n",
    "rutsMetlife[\"llave\"] = rutsMetlife[\"Poliza\"] + rutsMetlife[\"Rut_Titular\"] + rutsMetlife[\"Rut_Beneficiario\"]\n",
    "\n",
    "\n",
    "rutsMetlife = rutsMetlife[\n",
    "    [\"Poliza\",\t\"Rut_Titular\",\t\"Rut_Beneficiario\",\t\"Relación\",\"llave\",\n",
    "       \n",
    "    ]\n",
    "]\n",
    "rutsMetlife = rutsMetlife.drop_duplicates(\n",
    "    [\n",
    "        \"Poliza\",\"Rut_Titular\",\t\"Rut_Beneficiario\",\t\"Relación\",\n",
    "    ],\n",
    "    keep=\"last\",\n",
    ")\n",
    "rutsMetlife.shape"
   ]
  },
  {
   "cell_type": "code",
   "execution_count": null,
   "metadata": {
    "notebookRunGroups": {
     "groupValue": "1"
    }
   },
   "outputs": [],
   "source": [
    "\n",
    "#ruts_metlife = rutsMetlife\n",
    "#ruts_metlife.to_excel(\"F:/martin/MetLife SFTP/ruts_metlife.xlsx\", index=False)"
   ]
  },
  {
   "cell_type": "code",
   "execution_count": 10,
   "metadata": {
    "notebookRunGroups": {
     "groupValue": "2"
    }
   },
   "outputs": [
    {
     "ename": "NameError",
     "evalue": "name 'ruts_metlife' is not defined",
     "output_type": "error",
     "traceback": [
      "\u001b[1;31m---------------------------------------------------------------------------\u001b[0m",
      "\u001b[1;31mNameError\u001b[0m                                 Traceback (most recent call last)",
      "Cell \u001b[1;32mIn[10], line 1\u001b[0m\n\u001b[1;32m----> 1\u001b[0m ruts_metlife \u001b[38;5;241m=\u001b[39m pd\u001b[38;5;241m.\u001b[39mconcat([\u001b[43mruts_metlife\u001b[49m, rutsMetlife], axis\u001b[38;5;241m=\u001b[39m\u001b[38;5;241m0\u001b[39m)\n\u001b[0;32m      2\u001b[0m ruts_metlife \u001b[38;5;241m=\u001b[39m ruts_metlife\u001b[38;5;241m.\u001b[39mdrop_duplicates(\n\u001b[0;32m      3\u001b[0m     [\n\u001b[0;32m      4\u001b[0m         \u001b[38;5;124m\"\u001b[39m\u001b[38;5;124mPoliza\u001b[39m\u001b[38;5;124m\"\u001b[39m,\u001b[38;5;124m\"\u001b[39m\u001b[38;5;124mRut_Titular\u001b[39m\u001b[38;5;124m\"\u001b[39m,\t\u001b[38;5;124m\"\u001b[39m\u001b[38;5;124mRut_Beneficiario\u001b[39m\u001b[38;5;124m\"\u001b[39m,\t\u001b[38;5;124m\"\u001b[39m\u001b[38;5;124mRelación\u001b[39m\u001b[38;5;124m\"\u001b[39m,\n\u001b[0;32m      5\u001b[0m     ],\n\u001b[0;32m      6\u001b[0m     keep\u001b[38;5;241m=\u001b[39m\u001b[38;5;124m\"\u001b[39m\u001b[38;5;124mlast\u001b[39m\u001b[38;5;124m\"\u001b[39m,\n\u001b[0;32m      7\u001b[0m )\n\u001b[0;32m      8\u001b[0m ruts_metlife\u001b[38;5;241m.\u001b[39mshape\n",
      "\u001b[1;31mNameError\u001b[0m: name 'ruts_metlife' is not defined"
     ]
    }
   ],
   "source": [
    "ruts_metlife = pd.concat([ruts_metlife, rutsMetlife], axis=0)\n",
    "ruts_metlife = ruts_metlife.drop_duplicates(\n",
    "    [\n",
    "        \"Poliza\",\"Rut_Titular\",\t\"Rut_Beneficiario\",\t\"Relación\",\n",
    "    ],\n",
    "    keep=\"last\",\n",
    ")\n",
    "ruts_metlife.shape"
   ]
  },
  {
   "cell_type": "code",
   "execution_count": 11,
   "metadata": {},
   "outputs": [],
   "source": [
    "\n",
    "reportes_metlife = \"C:/Users/jmartinez/Documents/Metlife_derty.xlsx\"\n",
    "reportes_metlife_fredy = pd.read_excel(reportes_metlife)"
   ]
  },
  {
   "cell_type": "code",
   "execution_count": 12,
   "metadata": {},
   "outputs": [
    {
     "ename": "NameError",
     "evalue": "name 'ruts_metlife' is not defined",
     "output_type": "error",
     "traceback": [
      "\u001b[1;31m---------------------------------------------------------------------------\u001b[0m",
      "\u001b[1;31mNameError\u001b[0m                                 Traceback (most recent call last)",
      "Cell \u001b[1;32mIn[12], line 2\u001b[0m\n\u001b[0;32m      1\u001b[0m reportes_metlife_fredy[\u001b[38;5;124m\"\u001b[39m\u001b[38;5;124mllave\u001b[39m\u001b[38;5;124m\"\u001b[39m] \u001b[38;5;241m=\u001b[39m  reportes_metlife_fredy[\u001b[38;5;124m\"\u001b[39m\u001b[38;5;124mRut\u001b[39m\u001b[38;5;124m\"\u001b[39m]\n\u001b[1;32m----> 2\u001b[0m ruts_metlife[\u001b[38;5;124m\"\u001b[39m\u001b[38;5;124mLLave\u001b[39m\u001b[38;5;124m\"\u001b[39m] \u001b[38;5;241m=\u001b[39m \u001b[43mruts_metlife\u001b[49m[\u001b[38;5;124m\"\u001b[39m\u001b[38;5;124mRut_Beneficiario\u001b[39m\u001b[38;5;124m\"\u001b[39m]\n",
      "\u001b[1;31mNameError\u001b[0m: name 'ruts_metlife' is not defined"
     ]
    }
   ],
   "source": [
    "reportes_metlife_fredy[\"llave\"] =  reportes_metlife_fredy[\"Rut\"]\n",
    "ruts_metlife[\"LLave\"] = ruts_metlife[\"Rut_Beneficiario\"] "
   ]
  },
  {
   "cell_type": "code",
   "execution_count": null,
   "metadata": {},
   "outputs": [
    {
     "name": "stderr",
     "output_type": "stream",
     "text": [
      "C:\\Users\\jmartinez\\AppData\\Local\\Temp\\ipykernel_21136\\418009904.py:1: FutureWarning: Passing 'suffixes' which cause duplicate columns {'llave_x'} in the result is deprecated and will raise a MergeError in a future version.\n",
      "  reportes_metlife_fredy = pd.merge(\n"
     ]
    }
   ],
   "source": [
    "reportes_metlife_fredy = pd.merge(\n",
    "    left=reportes_metlife_fredy,\n",
    "    right=ruts_metlife,\n",
    "    how=\"left\",\n",
    "    left_on=\"llave\",\n",
    "    right_on=\"LLave\",\n",
    ")"
   ]
  },
  {
   "cell_type": "code",
   "execution_count": null,
   "metadata": {},
   "outputs": [
    {
     "data": {
      "text/html": [
       "<div>\n",
       "<style scoped>\n",
       "    .dataframe tbody tr th:only-of-type {\n",
       "        vertical-align: middle;\n",
       "    }\n",
       "\n",
       "    .dataframe tbody tr th {\n",
       "        vertical-align: top;\n",
       "    }\n",
       "\n",
       "    .dataframe thead th {\n",
       "        text-align: right;\n",
       "    }\n",
       "</style>\n",
       "<table border=\"1\" class=\"dataframe\">\n",
       "  <thead>\n",
       "    <tr style=\"text-align: right;\">\n",
       "      <th></th>\n",
       "      <th>Codigo Ficha</th>\n",
       "      <th>Rut</th>\n",
       "      <th>Nombre</th>\n",
       "      <th>Sexo</th>\n",
       "      <th>Ocupacion</th>\n",
       "      <th>Cargo</th>\n",
       "      <th>Departamento</th>\n",
       "      <th>Campaña</th>\n",
       "      <th>Holding</th>\n",
       "      <th>Empleador</th>\n",
       "      <th>...</th>\n",
       "      <th>Relación_x</th>\n",
       "      <th>llave_y</th>\n",
       "      <th>LLave_x</th>\n",
       "      <th>llave_x</th>\n",
       "      <th>Poliza</th>\n",
       "      <th>Rut_Titular_y</th>\n",
       "      <th>Rut_Beneficiario_y</th>\n",
       "      <th>Relación_y</th>\n",
       "      <th>llave_y</th>\n",
       "      <th>LLave_y</th>\n",
       "    </tr>\n",
       "  </thead>\n",
       "  <tbody>\n",
       "    <tr>\n",
       "      <th>0</th>\n",
       "      <td>FFF-0009</td>\n",
       "      <td>174839182</td>\n",
       "      <td>Perez Cordova Catherine Fernanda</td>\n",
       "      <td>Mujer</td>\n",
       "      <td>NaN</td>\n",
       "      <td>Gerencia Enológica</td>\n",
       "      <td>Enología</td>\n",
       "      <td>MetLife</td>\n",
       "      <td>Concha Y Toro</td>\n",
       "      <td>Viña Concha Y Toro S.A.</td>\n",
       "      <td>...</td>\n",
       "      <td>NaN</td>\n",
       "      <td>NaN</td>\n",
       "      <td>NaN</td>\n",
       "      <td>174839182</td>\n",
       "      <td>340009745</td>\n",
       "      <td>174839182</td>\n",
       "      <td>174839182</td>\n",
       "      <td>Titular</td>\n",
       "      <td>340009745174839182174839182</td>\n",
       "      <td>174839182</td>\n",
       "    </tr>\n",
       "    <tr>\n",
       "      <th>1</th>\n",
       "      <td>FFF-0009</td>\n",
       "      <td>174839182</td>\n",
       "      <td>Perez Cordova Catherine Fernanda</td>\n",
       "      <td>Mujer</td>\n",
       "      <td>NaN</td>\n",
       "      <td>Gerencia Enológica</td>\n",
       "      <td>Enología</td>\n",
       "      <td>MetLife</td>\n",
       "      <td>Concha Y Toro</td>\n",
       "      <td>Viña Concha Y Toro S.A.</td>\n",
       "      <td>...</td>\n",
       "      <td>NaN</td>\n",
       "      <td>NaN</td>\n",
       "      <td>NaN</td>\n",
       "      <td>174839182</td>\n",
       "      <td>340002495</td>\n",
       "      <td>174839182</td>\n",
       "      <td>174839182</td>\n",
       "      <td>Titular</td>\n",
       "      <td>340002495174839182174839182</td>\n",
       "      <td>174839182</td>\n",
       "    </tr>\n",
       "    <tr>\n",
       "      <th>2</th>\n",
       "      <td>FFF-0010</td>\n",
       "      <td>150235456</td>\n",
       "      <td>Katherine Evelyn Yong Leyton</td>\n",
       "      <td>Mujer</td>\n",
       "      <td>NaN</td>\n",
       "      <td>NaN</td>\n",
       "      <td>NaN</td>\n",
       "      <td>MetLife</td>\n",
       "      <td>Rol General SMU</td>\n",
       "      <td>Rendic Hnos. S.A.</td>\n",
       "      <td>...</td>\n",
       "      <td>Titular</td>\n",
       "      <td>340008362150235456150235456</td>\n",
       "      <td>340008362150235456</td>\n",
       "      <td>150235456</td>\n",
       "      <td>340009888</td>\n",
       "      <td>150235456</td>\n",
       "      <td>150235456</td>\n",
       "      <td>Titular</td>\n",
       "      <td>340009888150235456150235456</td>\n",
       "      <td>150235456</td>\n",
       "    </tr>\n",
       "    <tr>\n",
       "      <th>3</th>\n",
       "      <td>FFF-0010</td>\n",
       "      <td>150235456</td>\n",
       "      <td>Katherine Evelyn Yong Leyton</td>\n",
       "      <td>Mujer</td>\n",
       "      <td>NaN</td>\n",
       "      <td>NaN</td>\n",
       "      <td>NaN</td>\n",
       "      <td>MetLife</td>\n",
       "      <td>Rol General SMU</td>\n",
       "      <td>Rendic Hnos. S.A.</td>\n",
       "      <td>...</td>\n",
       "      <td>Titular</td>\n",
       "      <td>340008362150235456150235456</td>\n",
       "      <td>340008362150235456</td>\n",
       "      <td>150235456</td>\n",
       "      <td>340008362</td>\n",
       "      <td>150235456</td>\n",
       "      <td>150235456</td>\n",
       "      <td>Titular</td>\n",
       "      <td>340008362150235456150235456</td>\n",
       "      <td>150235456</td>\n",
       "    </tr>\n",
       "    <tr>\n",
       "      <th>4</th>\n",
       "      <td>FFF-0012</td>\n",
       "      <td>197272031</td>\n",
       "      <td>Rojo Collao Sebastian</td>\n",
       "      <td>Hombre</td>\n",
       "      <td>NaN</td>\n",
       "      <td>NaN</td>\n",
       "      <td>NaN</td>\n",
       "      <td>MetLife</td>\n",
       "      <td>Agrosuper</td>\n",
       "      <td>Agrícola Super Ltda.</td>\n",
       "      <td>...</td>\n",
       "      <td>NaN</td>\n",
       "      <td>NaN</td>\n",
       "      <td>NaN</td>\n",
       "      <td>197272031</td>\n",
       "      <td>340011941</td>\n",
       "      <td>197272031</td>\n",
       "      <td>197272031</td>\n",
       "      <td>Titular</td>\n",
       "      <td>340011941197272031197272031</td>\n",
       "      <td>197272031</td>\n",
       "    </tr>\n",
       "  </tbody>\n",
       "</table>\n",
       "<p>5 rows × 41 columns</p>\n",
       "</div>"
      ],
      "text/plain": [
       "  Codigo Ficha        Rut                            Nombre    Sexo Ocupacion  \\\n",
       "0     FFF-0009  174839182  Perez Cordova Catherine Fernanda   Mujer       NaN   \n",
       "1     FFF-0009  174839182  Perez Cordova Catherine Fernanda   Mujer       NaN   \n",
       "2     FFF-0010  150235456      Katherine Evelyn Yong Leyton   Mujer       NaN   \n",
       "3     FFF-0010  150235456      Katherine Evelyn Yong Leyton   Mujer       NaN   \n",
       "4     FFF-0012  197272031             Rojo Collao Sebastian  Hombre       NaN   \n",
       "\n",
       "                Cargo Departamento  Campaña          Holding  \\\n",
       "0  Gerencia Enológica     Enología  MetLife    Concha Y Toro   \n",
       "1  Gerencia Enológica     Enología  MetLife    Concha Y Toro   \n",
       "2                 NaN          NaN  MetLife  Rol General SMU   \n",
       "3                 NaN          NaN  MetLife  Rol General SMU   \n",
       "4                 NaN          NaN  MetLife        Agrosuper   \n",
       "\n",
       "                 Empleador  ... Relación_x                      llave_y  \\\n",
       "0  Viña Concha Y Toro S.A.  ...        NaN                          NaN   \n",
       "1  Viña Concha Y Toro S.A.  ...        NaN                          NaN   \n",
       "2        Rendic Hnos. S.A.  ...    Titular  340008362150235456150235456   \n",
       "3        Rendic Hnos. S.A.  ...    Titular  340008362150235456150235456   \n",
       "4     Agrícola Super Ltda.  ...        NaN                          NaN   \n",
       "\n",
       "              LLave_x    llave_x     Poliza  Rut_Titular_y  \\\n",
       "0                 NaN  174839182  340009745      174839182   \n",
       "1                 NaN  174839182  340002495      174839182   \n",
       "2  340008362150235456  150235456  340009888      150235456   \n",
       "3  340008362150235456  150235456  340008362      150235456   \n",
       "4                 NaN  197272031  340011941      197272031   \n",
       "\n",
       "   Rut_Beneficiario_y Relación_y                      llave_y    LLave_y  \n",
       "0           174839182    Titular  340009745174839182174839182  174839182  \n",
       "1           174839182    Titular  340002495174839182174839182  174839182  \n",
       "2           150235456    Titular  340009888150235456150235456  150235456  \n",
       "3           150235456    Titular  340008362150235456150235456  150235456  \n",
       "4           197272031    Titular  340011941197272031197272031  197272031  \n",
       "\n",
       "[5 rows x 41 columns]"
      ]
     },
     "execution_count": 93,
     "metadata": {},
     "output_type": "execute_result"
    }
   ],
   "source": [
    "reportes_metlife_fredy.head(5)"
   ]
  },
  {
   "cell_type": "code",
   "execution_count": null,
   "metadata": {},
   "outputs": [],
   "source": [
    "#reportes_metlife_fredy.to_excel(\"C:/Users/jmartinez/Documents/reportes_metlife2.xlsx\", index=False)"
   ]
  }
 ],
 "metadata": {
  "kernelspec": {
   "display_name": "salesforce",
   "language": "python",
   "name": "python3"
  },
  "language_info": {
   "codemirror_mode": {
    "name": "ipython",
    "version": 3
   },
   "file_extension": ".py",
   "mimetype": "text/x-python",
   "name": "python",
   "nbconvert_exporter": "python",
   "pygments_lexer": "ipython3",
   "version": "3.8.16"
  }
 },
 "nbformat": 4,
 "nbformat_minor": 2
}
