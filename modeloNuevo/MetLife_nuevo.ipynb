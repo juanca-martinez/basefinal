{
 "cells": [
  {
   "cell_type": "code",
   "execution_count": null,
   "metadata": {
    "notebookRunGroups": {
     "groupValue": "1"
    }
   },
   "outputs": [],
   "source": [
    "import json\n",
    "import pandas as pd\n",
    "import numpy as np\n",
    "from simple_salesforce import Salesforce, format_soql, format_external_id\n",
    "from json import loads, dumps\n",
    "import simpler_sf\n",
    "simpler_sf.simple_salesforce()\n",
    "from sqlalchemy import create_engine"
   ]
  },
  {
   "cell_type": "code",
   "execution_count": null,
   "metadata": {
    "notebookRunGroups": {
     "groupValue": "1"
    }
   },
   "outputs": [],
   "source": [
    "with open(\"../login.json\", \"r\") as j:\n",
    "    misDatos = json.load(j)\n",
    "sf = Salesforce(\n",
    "    username=misDatos[\"username\"],\n",
    "    password=misDatos[\"password\"],\n",
    "    security_token=misDatos[\"security_token\"],\n",
    ")"
   ]
  },
  {
   "cell_type": "code",
   "execution_count": null,
   "metadata": {
    "notebookRunGroups": {
     "groupValue": "12"
    }
   },
   "outputs": [],
   "source": [
    "#ruts = \"F:/martin/MetLife SFTP/ORIENTA_02022024.xlsx\"\n",
    "#rutsMetlife = pd.read_excel(ruts)\n"
   ]
  },
  {
   "cell_type": "code",
   "execution_count": null,
   "metadata": {
    "notebookRunGroups": {
     "groupValue": "1"
    }
   },
   "outputs": [],
   "source": [
    "rutsMetlife.head()\n"
   ]
  },
  {
   "cell_type": "code",
   "execution_count": null,
   "metadata": {
    "notebookRunGroups": {
     "groupValue": "12"
    }
   },
   "outputs": [],
   "source": [
    "rutsMetlife = rutsMetlife[\n",
    "    [\n",
    "        \"POLIZA\",\n",
    "        \"RUTASEGURADO\",\n",
    "        \"DV\",\n",
    "        \"RUTBENEFICIARIO\",\n",
    "        \"RUTBENEFIARIO_DV\",\n",
    "        \"RELACION\",\n",
    "    ]\n",
    "]\n",
    "rutsMetlife.shape"
   ]
  },
  {
   "cell_type": "code",
   "execution_count": null,
   "metadata": {
    "notebookRunGroups": {
     "groupValue": "12"
    }
   },
   "outputs": [],
   "source": [
    "rutsMetlife[\"Poliza\"] = rutsMetlife[\"POLIZA\"].astype(str)\n",
    "rutsMetlife[\"Poliza\"] = rutsMetlife[\"Poliza\"].str.replace(\"-\", \"\")\n",
    "rutsMetlife[\"Poliza\"] = rutsMetlife[\"Poliza\"].str.replace(\"–\", \"\")\n",
    "rutsMetlife[\"Poliza\"] = rutsMetlife[\"Poliza\"].astype(str)\n",
    "rutsMetlife[\"Poliza\"] = rutsMetlife[\"Poliza\"].str.replace(\".\", \"\")\n",
    "rutsMetlife[\"Poliza\"] = rutsMetlife[\"Poliza\"].str.replace(\" \", \"\")\n",
    "rutsMetlife[\"Poliza\"] = rutsMetlife[\"Poliza\"].str.upper()\n",
    "rutsMetlife[\"Poliza\"] = rutsMetlife[\"Poliza\"].str.strip()\n",
    "\n",
    "rutsMetlife[\"Rut_Titular\"] = rutsMetlife[\"RUTASEGURADO\"].astype(str) + rutsMetlife[\"DV\"].astype(str)\n",
    "rutsMetlife[\"Rut_Titular\"] = rutsMetlife[\"Rut_Titular\"].astype(str)\n",
    "rutsMetlife[\"Rut_Titular\"] = rutsMetlife[\"Rut_Titular\"].str.replace(\"-\", \"\")\n",
    "rutsMetlife[\"Rut_Titular\"] = rutsMetlife[\"Rut_Titular\"].str.replace(\"–\", \"\")\n",
    "rutsMetlife[\"Rut_Titular\"] = rutsMetlife[\"Rut_Titular\"].astype(str)\n",
    "rutsMetlife[\"Rut_Titular\"] = rutsMetlife[\"Rut_Titular\"].str.replace(\".\", \"\")\n",
    "rutsMetlife[\"Rut_Titular\"] = rutsMetlife[\"Rut_Titular\"].str.replace(\" \", \"\")\n",
    "rutsMetlife[\"Rut_Titular\"] = rutsMetlife[\"Rut_Titular\"].str.upper()\n",
    "rutsMetlife[\"Rut_Titular\"] = rutsMetlife[\"Rut_Titular\"].str.strip()\n",
    "\n",
    "rutsMetlife[\"Rut_Beneficiario\"] = rutsMetlife[\"RUTBENEFICIARIO\"].astype(str) + rutsMetlife[\"RUTBENEFIARIO_DV\"].astype(str)\n",
    "rutsMetlife[\"Rut_Beneficiario\"] = rutsMetlife[\"Rut_Beneficiario\"].astype(str)\n",
    "rutsMetlife[\"Rut_Beneficiario\"] = rutsMetlife[\"Rut_Beneficiario\"].str.replace(\"-\", \"\")\n",
    "rutsMetlife[\"Rut_Beneficiario\"] = rutsMetlife[\"Rut_Beneficiario\"].str.replace(\"–\", \"\")\n",
    "rutsMetlife[\"Rut_Beneficiario\"] = rutsMetlife[\"Rut_Beneficiario\"].astype(str)\n",
    "rutsMetlife[\"Rut_Beneficiario\"] = rutsMetlife[\"Rut_Beneficiario\"].str.replace(\".\", \"\")\n",
    "rutsMetlife[\"Rut_Beneficiario\"] = rutsMetlife[\"Rut_Beneficiario\"].str.replace(\" \", \"\")\n",
    "rutsMetlife[\"Rut_Beneficiario\"] = rutsMetlife[\"Rut_Beneficiario\"].str.upper()\n",
    "rutsMetlife[\"Rut_Beneficiario\"] = rutsMetlife[\"Rut_Beneficiario\"].str.strip()\n",
    "\n",
    "rutsMetlife[\"Relación\"] = rutsMetlife[\"RELACION\"].astype(str)\n",
    "rutsMetlife[\"Relación\"] = np.where(rutsMetlife[\"Relación\"]== \"AS\",\"Titular\", \"Carga\")\n",
    "\n",
    "rutsMetlife[\"llave\"] = rutsMetlife[\"Poliza\"] + rutsMetlife[\"Rut_Titular\"] + rutsMetlife[\"Rut_Beneficiario\"]\n",
    "\n",
    "\n",
    "rutsMetlife = rutsMetlife[\n",
    "    [\"Poliza\",\t\"Rut_Titular\",\t\"Rut_Beneficiario\",\t\"Relación\",\"llave\",\n",
    "       \n",
    "    ]\n",
    "]\n",
    "rutsMetlife = rutsMetlife.drop_duplicates(\n",
    "    [\n",
    "        \"Poliza\",\"Rut_Titular\",\t\"Rut_Beneficiario\",\t\"Relación\",\n",
    "    ],\n",
    "    keep=\"last\",\n",
    ")\n",
    "rutsMetlife.shape"
   ]
  },
  {
   "cell_type": "code",
   "execution_count": null,
   "metadata": {
    "notebookRunGroups": {
     "groupValue": "1"
    }
   },
   "outputs": [],
   "source": [
    "\n",
    "#ruts_metlife = rutsMetlife\n",
    "#ruts_metlife.to_excel(\"F:/martin/MetLife SFTP/ruts_metlife.xlsx\", index=False)"
   ]
  },
  {
   "cell_type": "code",
   "execution_count": null,
   "metadata": {
    "notebookRunGroups": {
     "groupValue": "2"
    }
   },
   "outputs": [],
   "source": [
    "ruts_metlife = pd.concat([ruts_metlife, rutsMetlife], axis=0)\n",
    "ruts_metlife = ruts_metlife.drop_duplicates(\n",
    "    [\n",
    "        \"Poliza\",\"Rut_Titular\",\t\"Rut_Beneficiario\",\t\"Relación\",\n",
    "    ],\n",
    "    keep=\"last\",\n",
    ")\n",
    "ruts_metlife.shape"
   ]
  },
  {
   "cell_type": "code",
   "execution_count": null,
   "metadata": {},
   "outputs": [],
   "source": [
    "\n",
    "reportes_metlife = \"C:/Users/jmartinez/Documents/Metlife_derty.xlsx\"\n",
    "reportes_metlife_fredy = pd.read_excel(reportes_metlife)"
   ]
  },
  {
   "cell_type": "code",
   "execution_count": null,
   "metadata": {},
   "outputs": [],
   "source": [
    "reportes_metlife_fredy[\"llave\"] =  reportes_metlife_fredy[\"Rut\"]\n",
    "ruts_metlife[\"LLave\"] = ruts_metlife[\"Rut_Beneficiario\"] "
   ]
  },
  {
   "cell_type": "code",
   "execution_count": null,
   "metadata": {},
   "outputs": [],
   "source": [
    "reportes_metlife_fredy = pd.merge(\n",
    "    left=reportes_metlife_fredy,\n",
    "    right=ruts_metlife,\n",
    "    how=\"left\",\n",
    "    left_on=\"llave\",\n",
    "    right_on=\"LLave\",\n",
    ")"
   ]
  },
  {
   "cell_type": "code",
   "execution_count": null,
   "metadata": {},
   "outputs": [],
   "source": [
    "reportes_metlife_fredy.head(5)"
   ]
  },
  {
   "cell_type": "code",
   "execution_count": null,
   "metadata": {},
   "outputs": [],
   "source": [
    "#reportes_metlife_fredy.to_excel(\"C:/Users/jmartinez/Documents/reportes_metlife2.xlsx\", index=False)"
   ]
  }
 ],
 "metadata": {
  "kernelspec": {
   "display_name": "salesforce",
   "language": "python",
   "name": "python3"
  },
  "language_info": {
   "codemirror_mode": {
    "name": "ipython",
    "version": 3
   },
   "file_extension": ".py",
   "mimetype": "text/x-python",
   "name": "python",
   "nbconvert_exporter": "python",
   "pygments_lexer": "ipython3",
   "version": "3.8.16"
  }
 },
 "nbformat": 4,
 "nbformat_minor": 2
}
