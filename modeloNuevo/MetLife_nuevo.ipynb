{
 "cells": [
  {
   "cell_type": "code",
   "execution_count": null,
   "metadata": {
    "notebookRunGroups": {
     "groupValue": "1"
    }
   },
   "outputs": [],
   "source": [
    "import json\n",
    "import pandas as pd\n",
    "import numpy as np\n",
    "from simple_salesforce import Salesforce, format_soql, format_external_id\n",
    "from json import loads, dumps\n",
    "import simpler_sf\n",
    "simpler_sf.simple_salesforce()\n",
    "from sqlalchemy import create_engine"
   ]
  },
  {
   "cell_type": "code",
   "execution_count": null,
   "metadata": {
    "notebookRunGroups": {
     "groupValue": "1"
    }
   },
   "outputs": [],
   "source": [
    "with open(\"../login.json\", \"r\") as j:\n",
    "    misDatos = json.load(j)\n",
    "sf = Salesforce(\n",
    "    username=misDatos[\"username\"],\n",
    "    password=misDatos[\"password\"],\n",
    "    security_token=misDatos[\"security_token\"],\n",
    ")"
   ]
  },
  {
   "cell_type": "code",
   "execution_count": null,
   "metadata": {
    "notebookRunGroups": {
     "groupValue": "12"
    }
   },
   "outputs": [],
   "source": [
    "ruts = \"F:/martin/MetLife SFTP/derty_Metlife.xlsx\"\n",
    "rutsMetlife2 = pd.read_excel(ruts)\n"
   ]
  },
  {
   "cell_type": "code",
   "execution_count": null,
   "metadata": {
    "notebookRunGroups": {
     "groupValue": "1"
    }
   },
   "outputs": [],
   "source": [
    "rutsMetlife2.head()\n"
   ]
  },
  {
   "cell_type": "code",
   "execution_count": null,
   "metadata": {
    "notebookRunGroups": {
     "groupValue": "12"
    }
   },
   "outputs": [],
   "source": [
    "rutsMetlife = rutsMetlife2[\n",
    "    [\n",
    "        \"POLIZA\",\n",
    "        \"RUTASEGURADO\",\n",
    "        \"DV\",\n",
    "        \"RUTBENEFICIARIO\",\n",
    "        \"RUTBENEFIARIO_DV\",\n",
    "        \"RELACION\",\n",
    "    ]\n",
    "]\n",
    "rutsMetlife.shape"
   ]
  },
  {
   "cell_type": "code",
   "execution_count": null,
   "metadata": {},
   "outputs": [],
   "source": [
    "def siPrimerCero(y):\n",
    "    if len(y) == 2:\n",
    "        if y[0] == \"0\":\n",
    "            y = y[1:]\n",
    "    return y"
   ]
  },
  {
   "cell_type": "code",
   "execution_count": null,
   "metadata": {},
   "outputs": [],
   "source": [
    "rutsMetlife.head()"
   ]
  },
  {
   "cell_type": "code",
   "execution_count": null,
   "metadata": {},
   "outputs": [],
   "source": [
    "\n",
    "rutsMetlife[\"RUTBENEFIARIO_DV\"] = rutsMetlife[\"RUTBENEFIARIO_DV\"].astype(str).astype(str).apply(lambda y: siPrimerCero(y))\n",
    "rutsMetlife.head()"
   ]
  },
  {
   "cell_type": "code",
   "execution_count": null,
   "metadata": {
    "notebookRunGroups": {
     "groupValue": "12"
    }
   },
   "outputs": [],
   "source": [
    "\n",
    "rutsMetlife[\"Relación\"] = rutsMetlife[\"RELACION\"].astype(str)\n",
    "rutsMetlife[\"Relación\"] = np.where(rutsMetlife[\"Relación\"]== \"AS\",\"Titular\", \"Carga\")\n",
    "rutsMetlife = rutsMetlife[rutsMetlife[\"Relación\"]==\"Titular\" ]\n",
    "\n",
    "rutsMetlife[\"Poliza\"] = rutsMetlife[\"POLIZA\"].astype(int).astype(str)\n",
    "rutsMetlife[\"Poliza\"] = rutsMetlife[\"Poliza\"].str.replace(\"-\", \"\")\n",
    "rutsMetlife[\"Poliza\"] = rutsMetlife[\"Poliza\"].str.replace(\"–\", \"\")\n",
    "rutsMetlife[\"Poliza\"] = rutsMetlife[\"Poliza\"].astype(str)\n",
    "rutsMetlife[\"Poliza\"] = rutsMetlife[\"Poliza\"].str.replace(\".\", \"\")\n",
    "rutsMetlife[\"Poliza\"] = rutsMetlife[\"Poliza\"].str.replace(\" \", \"\")\n",
    "rutsMetlife[\"Poliza\"] = rutsMetlife[\"Poliza\"].str.upper()\n",
    "rutsMetlife[\"Poliza\"] = rutsMetlife[\"Poliza\"].str.strip()\n",
    "\n",
    "rutsMetlife[\"dv_asegurado\"] = rutsMetlife[\"DV\"].astype(str).apply(lambda y: siPrimerCero(y)) \n",
    "#rutsMetlife[\"Rut_Titular\"] = rutsMetlife[\"Rut_Titular\"].astype(str)\n",
    "rutsMetlife[\"dv_asegurado\"] = rutsMetlife[\"dv_asegurado\"].str.replace(\"-\", \"\")\n",
    "rutsMetlife[\"dv_asegurado\"] = rutsMetlife[\"dv_asegurado\"].str.replace(\"–\", \"\")\n",
    "rutsMetlife[\"dv_asegurado\"] = rutsMetlife[\"dv_asegurado\"].astype(str)\n",
    "rutsMetlife[\"dv_asegurado\"] = rutsMetlife[\"dv_asegurado\"].str.replace(\".\", \"\")\n",
    "rutsMetlife[\"dv_asegurado\"] = rutsMetlife[\"dv_asegurado\"].str.replace(\" \", \"\")\n",
    "rutsMetlife[\"dv_asegurado\"] = rutsMetlife[\"dv_asegurado\"].str.upper()\n",
    "rutsMetlife[\"dv_asegurado\"] = rutsMetlife[\"dv_asegurado\"].str.strip()\n",
    "\n",
    "rutsMetlife[\"Rut_Titular\"] = rutsMetlife[\"RUTASEGURADO\"].astype(str).apply(lambda y: siPrimerCero(y)) \n",
    "#rutsMetlife[\"Rut_Titular\"] = rutsMetlife[\"Rut_Titular\"].astype(str).apply(lambda y: siPrimerCero(y)) \n",
    "rutsMetlife[\"Rut_Titular\"] = rutsMetlife[\"Rut_Titular\"].str.replace(\"-\", \"\")\n",
    "rutsMetlife[\"Rut_Titular\"] = rutsMetlife[\"Rut_Titular\"].str.replace(\"–\", \"\")\n",
    "rutsMetlife[\"Rut_Titular\"] = rutsMetlife[\"Rut_Titular\"].astype(str)\n",
    "rutsMetlife[\"Rut_Titular\"] = rutsMetlife[\"Rut_Titular\"].str.replace(\".\", \"\")\n",
    "rutsMetlife[\"Rut_Titular\"] = rutsMetlife[\"Rut_Titular\"].str.replace(\" \", \"\")\n",
    "rutsMetlife[\"Rut_Titular\"] = rutsMetlife[\"Rut_Titular\"].str.upper()\n",
    "rutsMetlife[\"Rut_Titular\"] = rutsMetlife[\"Rut_Titular\"].str.strip()\n",
    "\n",
    "rutsMetlife[\"dv_Beneficiario\"] = rutsMetlife[\"RUTBENEFIARIO_DV\"].astype(str).apply(lambda y: siPrimerCero(y))\n",
    "#rutsMetlife[\"Rut_Beneficiario\"] = rutsMetlife[\"Rut_Beneficiario\"].astype(str)\n",
    "rutsMetlife[\"dv_Beneficiario\"] = rutsMetlife[\"dv_Beneficiario\"].str.replace(\"-\", \"\")\n",
    "rutsMetlife[\"dv_Beneficiario\"] = rutsMetlife[\"dv_Beneficiario\"].str.replace(\"–\", \"\")\n",
    "rutsMetlife[\"dv_Beneficiario\"] = rutsMetlife[\"dv_Beneficiario\"].astype(str)\n",
    "rutsMetlife[\"dv_Beneficiario\"] = rutsMetlife[\"dv_Beneficiario\"].str.replace(\".\", \"\")\n",
    "rutsMetlife[\"dv_Beneficiario\"] = rutsMetlife[\"dv_Beneficiario\"].str.replace(\" \", \"\")\n",
    "rutsMetlife[\"dv_Beneficiario\"] = rutsMetlife[\"dv_Beneficiario\"].str.upper()\n",
    "rutsMetlife[\"dv_Beneficiario\"] = rutsMetlife[\"dv_Beneficiario\"].str.strip()\n",
    "\n",
    "rutsMetlife[\"Rut_Beneficiario\"] = rutsMetlife[\"RUTBENEFICIARIO\"].astype(int).astype(str).apply(lambda y: siPrimerCero(y))\n",
    "#rutsMetlife[\"Rut_Beneficiario\"] = rutsMetlife[\"Rut_Beneficiario\"].astype(str)\n",
    "rutsMetlife[\"Rut_Beneficiario\"] = rutsMetlife[\"Rut_Beneficiario\"].str.replace(\"-\", \"\")\n",
    "rutsMetlife[\"Rut_Beneficiario\"] = rutsMetlife[\"Rut_Beneficiario\"].str.replace(\"–\", \"\")\n",
    "rutsMetlife[\"Rut_Beneficiario\"] = rutsMetlife[\"Rut_Beneficiario\"].astype(str)\n",
    "rutsMetlife[\"Rut_Beneficiario\"] = rutsMetlife[\"Rut_Beneficiario\"].str.replace(\".\", \"\")\n",
    "rutsMetlife[\"Rut_Beneficiario\"] = rutsMetlife[\"Rut_Beneficiario\"].str.replace(\" \", \"\")\n",
    "rutsMetlife[\"Rut_Beneficiario\"] = rutsMetlife[\"Rut_Beneficiario\"].str.upper()\n",
    "rutsMetlife[\"Rut_Beneficiario\"] = rutsMetlife[\"Rut_Beneficiario\"].str.strip()\n",
    "\n",
    "rutsMetlife[\"Rut_Beneficiario\"] = rutsMetlife[\"Rut_Beneficiario\"] + rutsMetlife[\"dv_Beneficiario\"]\n",
    "rutsMetlife[\"Rut_Titular\"] = rutsMetlife[\"Rut_Titular\"] + rutsMetlife[\"dv_asegurado\"]\n",
    "\n",
    "\n",
    "#Subir_pacientes[Subir_pacientes[\"RutEstaoNo\"] == True]\n",
    "\n",
    "\n",
    "#rutsMetlife[\"llave\"] = rutsMetlife[\"Poliza\"] + rutsMetlife[\"Rut_Titular\"] + rutsMetlife[\"Rut_Beneficiario\"]\n",
    "rutsMetlife[\"llave\"] = rutsMetlife[\"Rut_Titular\"] + rutsMetlife[\"Rut_Beneficiario\"]\n",
    "\n",
    "\"\"\" rutsMetlife = rutsMetlife[\n",
    "    [\"Poliza\",\t\"Rut_Titular\",\t\"Rut_Beneficiario\",\t\"Relación\",\"llave\",\n",
    "       \n",
    "    ]\n",
    "] \"\"\"\n",
    "rutsMetlife = rutsMetlife.drop_duplicates(\n",
    "    [\n",
    "        \"llave\",\t\n",
    "    ],\n",
    "    keep=\"last\",\n",
    ")\n",
    "rutsMetlife.shape"
   ]
  },
  {
   "cell_type": "code",
   "execution_count": null,
   "metadata": {},
   "outputs": [],
   "source": [
    "rutsMetlife.head()"
   ]
  },
  {
   "cell_type": "code",
   "execution_count": null,
   "metadata": {
    "notebookRunGroups": {
     "groupValue": "1"
    }
   },
   "outputs": [],
   "source": [
    "\n",
    "#ruts_metlife = rutsMetlife\n",
    "rutsMetlife = rutsMetlife.sort_values(by=\"llave\", ascending = True)\n",
    "#rutsMetlife.to_excel(\"F:/martin/MetLife SFTP/Titulares unicos Metlife.xlsx\", index=False)"
   ]
  },
  {
   "cell_type": "code",
   "execution_count": null,
   "metadata": {},
   "outputs": [],
   "source": [
    "query_empresacontactoconvenio = (\n",
    "    \"select N_Documento_Titular__c,Paciente__r.IdentificationId__pc from EmpresaContactoConvenios__c where Empresa__r.Campa_a__c = 'MetLife' and Relaci_n_Con_Asegurado__c = 'Titular' and Convenio_Activo__c = true \"\n",
    "    \n",
    ")\n",
    "\n",
    "\n",
    "#and Convenio_Activo__c = true \n",
    "empresacontactoconvenio = sf.smart_query(query_empresacontactoconvenio)\n",
    "#empresacontactoconvenio.\n",
    "\n",
    "#empresacontactoconvenio = rutsMetlife"
   ]
  },
  {
   "cell_type": "code",
   "execution_count": null,
   "metadata": {},
   "outputs": [],
   "source": [
    "\"\"\" ruts = \"F:/martin/MetLife SFTP/derty_metlife_diciembre.xlsx\"\n",
    "rutsMetlife = pd.read_excel(ruts)\n",
    "\n",
    "rutsMetlife[\"Relación\"] = rutsMetlife[\"RELACION\"].astype(str)\n",
    "rutsMetlife[\"Relación\"] = np.where(rutsMetlife[\"Relación\"]== \"AS\",\"Titular\", \"Carga\")\n",
    "rutsMetlife = rutsMetlife[rutsMetlife[\"Relación\"]==\"Titular\" ]\n",
    "\n",
    "rutsMetlife[\"Poliza\"] = rutsMetlife[\"POLIZA\"].astype(int).astype(str)\n",
    "rutsMetlife[\"Poliza\"] = rutsMetlife[\"Poliza\"].str.replace(\"-\", \"\")\n",
    "rutsMetlife[\"Poliza\"] = rutsMetlife[\"Poliza\"].str.replace(\"–\", \"\")\n",
    "rutsMetlife[\"Poliza\"] = rutsMetlife[\"Poliza\"].astype(str)\n",
    "rutsMetlife[\"Poliza\"] = rutsMetlife[\"Poliza\"].str.replace(\".\", \"\")\n",
    "rutsMetlife[\"Poliza\"] = rutsMetlife[\"Poliza\"].str.replace(\" \", \"\")\n",
    "rutsMetlife[\"Poliza\"] = rutsMetlife[\"Poliza\"].str.upper()\n",
    "rutsMetlife[\"Poliza\"] = rutsMetlife[\"Poliza\"].str.strip()\n",
    "\n",
    "rutsMetlife[\"dv_asegurado\"] = rutsMetlife[\"DV\"].astype(str).apply(lambda y: siPrimerCero(y)) \n",
    "#rutsMetlife[\"Rut_Titular\"] = rutsMetlife[\"Rut_Titular\"].astype(str)\n",
    "rutsMetlife[\"dv_asegurado\"] = rutsMetlife[\"dv_asegurado\"].str.replace(\"-\", \"\")\n",
    "rutsMetlife[\"dv_asegurado\"] = rutsMetlife[\"dv_asegurado\"].str.replace(\"–\", \"\")\n",
    "rutsMetlife[\"dv_asegurado\"] = rutsMetlife[\"dv_asegurado\"].astype(str)\n",
    "rutsMetlife[\"dv_asegurado\"] = rutsMetlife[\"dv_asegurado\"].str.replace(\".\", \"\")\n",
    "rutsMetlife[\"dv_asegurado\"] = rutsMetlife[\"dv_asegurado\"].str.replace(\" \", \"\")\n",
    "rutsMetlife[\"dv_asegurado\"] = rutsMetlife[\"dv_asegurado\"].str.upper()\n",
    "rutsMetlife[\"dv_asegurado\"] = rutsMetlife[\"dv_asegurado\"].str.strip()\n",
    "\n",
    "rutsMetlife[\"Rut_Titular\"] = rutsMetlife[\"RUTASEGURADO\"].astype(str).apply(lambda y: siPrimerCero(y)) \n",
    "#rutsMetlife[\"Rut_Titular\"] = rutsMetlife[\"Rut_Titular\"].astype(str).apply(lambda y: siPrimerCero(y)) \n",
    "rutsMetlife[\"Rut_Titular\"] = rutsMetlife[\"Rut_Titular\"].str.replace(\"-\", \"\")\n",
    "rutsMetlife[\"Rut_Titular\"] = rutsMetlife[\"Rut_Titular\"].str.replace(\"–\", \"\")\n",
    "rutsMetlife[\"Rut_Titular\"] = rutsMetlife[\"Rut_Titular\"].astype(str)\n",
    "rutsMetlife[\"Rut_Titular\"] = rutsMetlife[\"Rut_Titular\"].str.replace(\".\", \"\")\n",
    "rutsMetlife[\"Rut_Titular\"] = rutsMetlife[\"Rut_Titular\"].str.replace(\" \", \"\")\n",
    "rutsMetlife[\"Rut_Titular\"] = rutsMetlife[\"Rut_Titular\"].str.upper()\n",
    "rutsMetlife[\"Rut_Titular\"] = rutsMetlife[\"Rut_Titular\"].str.strip()\n",
    "\n",
    "rutsMetlife[\"dv_Beneficiario\"] = rutsMetlife[\"RUTBENEFIARIO_DV\"].astype(str).apply(lambda y: siPrimerCero(y))\n",
    "#rutsMetlife[\"Rut_Beneficiario\"] = rutsMetlife[\"Rut_Beneficiario\"].astype(str)\n",
    "rutsMetlife[\"dv_Beneficiario\"] = rutsMetlife[\"dv_Beneficiario\"].str.replace(\"-\", \"\")\n",
    "rutsMetlife[\"dv_Beneficiario\"] = rutsMetlife[\"dv_Beneficiario\"].str.replace(\"–\", \"\")\n",
    "rutsMetlife[\"dv_Beneficiario\"] = rutsMetlife[\"dv_Beneficiario\"].astype(str)\n",
    "rutsMetlife[\"dv_Beneficiario\"] = rutsMetlife[\"dv_Beneficiario\"].str.replace(\".\", \"\")\n",
    "rutsMetlife[\"dv_Beneficiario\"] = rutsMetlife[\"dv_Beneficiario\"].str.replace(\" \", \"\")\n",
    "rutsMetlife[\"dv_Beneficiario\"] = rutsMetlife[\"dv_Beneficiario\"].str.upper()\n",
    "rutsMetlife[\"dv_Beneficiario\"] = rutsMetlife[\"dv_Beneficiario\"].str.strip()\n",
    "\n",
    "rutsMetlife[\"Rut_Beneficiario\"] = rutsMetlife[\"RUTBENEFICIARIO\"].astype(int).astype(str).apply(lambda y: siPrimerCero(y))\n",
    "#rutsMetlife[\"Rut_Beneficiario\"] = rutsMetlife[\"Rut_Beneficiario\"].astype(str)\n",
    "rutsMetlife[\"Rut_Beneficiario\"] = rutsMetlife[\"Rut_Beneficiario\"].str.replace(\"-\", \"\")\n",
    "rutsMetlife[\"Rut_Beneficiario\"] = rutsMetlife[\"Rut_Beneficiario\"].str.replace(\"–\", \"\")\n",
    "rutsMetlife[\"Rut_Beneficiario\"] = rutsMetlife[\"Rut_Beneficiario\"].astype(str)\n",
    "rutsMetlife[\"Rut_Beneficiario\"] = rutsMetlife[\"Rut_Beneficiario\"].str.replace(\".\", \"\")\n",
    "rutsMetlife[\"Rut_Beneficiario\"] = rutsMetlife[\"Rut_Beneficiario\"].str.replace(\" \", \"\")\n",
    "rutsMetlife[\"Rut_Beneficiario\"] = rutsMetlife[\"Rut_Beneficiario\"].str.upper()\n",
    "rutsMetlife[\"Rut_Beneficiario\"] = rutsMetlife[\"Rut_Beneficiario\"].str.strip()\n",
    "\n",
    "rutsMetlife[\"Rut_Beneficiario\"] = rutsMetlife[\"Rut_Beneficiario\"] + rutsMetlife[\"dv_Beneficiario\"]\n",
    "rutsMetlife[\"Rut_Titular\"] = rutsMetlife[\"Rut_Titular\"] + rutsMetlife[\"dv_asegurado\"]\n",
    "\n",
    "\n",
    "#Subir_pacientes[Subir_pacientes[\"RutEstaoNo\"] == True]\n",
    "\n",
    "\n",
    "#rutsMetlife[\"llave\"] = rutsMetlife[\"Poliza\"] + rutsMetlife[\"Rut_Titular\"] + rutsMetlife[\"Rut_Beneficiario\"]\n",
    "rutsMetlife[\"llave\"] = rutsMetlife[\"Rut_Titular\"] + rutsMetlife[\"Rut_Beneficiario\"]\n",
    "\n",
    "rutsMetlife = rutsMetlife[\n",
    "    [\"Poliza\",\t\"Rut_Titular\",\t\"Rut_Beneficiario\",\t\"Relación\",\"llave\",\n",
    "       \n",
    "    ]\n",
    "] \n",
    "rutsMetlife = rutsMetlife.drop_duplicates(\n",
    "    [\n",
    "        \"llave\",\t\n",
    "    ],\n",
    "    keep=\"last\",\n",
    ")\n",
    "rutsMetlife.shape\n",
    "\n",
    " \"\"\""
   ]
  },
  {
   "cell_type": "code",
   "execution_count": null,
   "metadata": {},
   "outputs": [],
   "source": [
    "\"\"\" empresacontactoconvenio[\"N_Documento_Titular__c\"] = empresacontactoconvenio[\"N_Documento_Titular__c\"].astype(str)\n",
    "empresacontactoconvenio[\"N_Documento_Titular__c\"] = empresacontactoconvenio[\"N_Documento_Titular__c\"].str.replace(\"-\", \"\")\n",
    "empresacontactoconvenio[\"N_Documento_Titular__c\"] = empresacontactoconvenio[\"N_Documento_Titular__c\"].str.replace(\"–\", \"\")\n",
    "empresacontactoconvenio[\"N_Documento_Titular__c\"] = empresacontactoconvenio[\"N_Documento_Titular__c\"].astype(str)\n",
    "empresacontactoconvenio[\"N_Documento_Titular__c\"] = empresacontactoconvenio[\"N_Documento_Titular__c\"].str.replace(\".\", \"\")\n",
    "empresacontactoconvenio[\"N_Documento_Titular__c\"] = empresacontactoconvenio[\"N_Documento_Titular__c\"].str.replace(\" \", \"\")\n",
    "empresacontactoconvenio[\"N_Documento_Titular__c\"] = empresacontactoconvenio[\"N_Documento_Titular__c\"].str.upper()\n",
    "empresacontactoconvenio[\"N_Documento_Titular__c\"] = empresacontactoconvenio[\"N_Documento_Titular__c\"].str.strip()\n",
    "\n",
    "empresacontactoconvenio[\"Paciente__r.IdentificationId__pc\"] = empresacontactoconvenio[\"Paciente__r.IdentificationId__pc\"].astype(str)\n",
    "empresacontactoconvenio[\"Paciente__r.IdentificationId__pc\"] = empresacontactoconvenio[\"Paciente__r.IdentificationId__pc\"].str.replace(\"-\", \"\")\n",
    "empresacontactoconvenio[\"Paciente__r.IdentificationId__pc\"] = empresacontactoconvenio[\"Paciente__r.IdentificationId__pc\"].str.replace(\"–\", \"\")\n",
    "empresacontactoconvenio[\"Paciente__r.IdentificationId__pc\"] = empresacontactoconvenio[\"Paciente__r.IdentificationId__pc\"].astype(str)\n",
    "empresacontactoconvenio[\"Paciente__r.IdentificationId__pc\"] = empresacontactoconvenio[\"Paciente__r.IdentificationId__pc\"].str.replace(\".\", \"\")\n",
    "empresacontactoconvenio[\"Paciente__r.IdentificationId__pc\"] = empresacontactoconvenio[\"Paciente__r.IdentificationId__pc\"].str.replace(\" \", \"\")\n",
    "empresacontactoconvenio[\"Paciente__r.IdentificationId__pc\"] = empresacontactoconvenio[\"Paciente__r.IdentificationId__pc\"].str.upper()\n",
    "empresacontactoconvenio[\"Paciente__r.IdentificationId__pc\"] = empresacontactoconvenio[\"Paciente__r.IdentificationId__pc\"].str.strip()\n",
    "\n",
    "empresacontactoconvenio.head() \"\"\""
   ]
  },
  {
   "cell_type": "code",
   "execution_count": null,
   "metadata": {},
   "outputs": [],
   "source": [
    "empresacontactoconvenio[\"llave\"] = empresacontactoconvenio[\"Paciente__r.IdentificationId__pc\"] + empresacontactoconvenio[\"N_Documento_Titular__c\"]\n",
    "empresacontactoconvenio = empresacontactoconvenio.drop_duplicates(\n",
    "    [\n",
    "        \"llave\",\t\n",
    "    ],\n",
    "    keep=\"last\",\n",
    ")\n",
    "empresacontactoconvenio.shape"
   ]
  },
  {
   "cell_type": "markdown",
   "metadata": {},
   "source": []
  },
  {
   "cell_type": "code",
   "execution_count": null,
   "metadata": {},
   "outputs": [],
   "source": [
    "empresacontactoconvenio[\"Esta\"] = empresacontactoconvenio[\"llave\"].isin(rutsMetlife[\"llave\"])\n",
    "empresacontactoconvenio = empresacontactoconvenio[empresacontactoconvenio[\"Esta\"]==False]\n",
    "#rutsMetlife = rutsMetlife[rutsMetlife[\"Relación\"]==\"Titular\" ]\n",
    "empresacontactoconvenio.shape"
   ]
  },
  {
   "cell_type": "code",
   "execution_count": null,
   "metadata": {},
   "outputs": [],
   "source": [
    "\n",
    "empresacontactoconvenio.to_excel(\"F:/martin/MetLife SFTP/diferencia_36000.xlsx\", index=False) "
   ]
  },
  {
   "cell_type": "code",
   "execution_count": null,
   "metadata": {
    "notebookRunGroups": {
     "groupValue": "2"
    }
   },
   "outputs": [],
   "source": [
    "\"\"\" ruts_metlife = pd.concat([ruts_metlife, rutsMetlife], axis=0)\n",
    "ruts_metlife = ruts_metlife.drop_duplicates(\n",
    "    [\n",
    "        \"Poliza\",\"Rut_Titular\",\t\"Rut_Beneficiario\",\t\"Relación\",\n",
    "    ],\n",
    "    keep=\"last\",\n",
    ")\n",
    "ruts_metlife.shape \"\"\""
   ]
  },
  {
   "cell_type": "code",
   "execution_count": null,
   "metadata": {},
   "outputs": [],
   "source": [
    "\n",
    "\"\"\" reportes_metlife = \"C:/Users/jmartinez/Documents/Metlife_derty.xlsx\"\n",
    "reportes_metlife_fredy = pd.read_excel(reportes_metlife) \"\"\""
   ]
  },
  {
   "cell_type": "code",
   "execution_count": null,
   "metadata": {},
   "outputs": [],
   "source": [
    "\"\"\" reportes_metlife_fredy[\"llave\"] =  reportes_metlife_fredy[\"Rut\"]\n",
    "ruts_metlife[\"LLave\"] = ruts_metlife[\"Rut_Beneficiario\"]  \"\"\""
   ]
  },
  {
   "cell_type": "code",
   "execution_count": null,
   "metadata": {},
   "outputs": [],
   "source": [
    "\"\"\" reportes_metlife_fredy = pd.merge(\n",
    "    left=reportes_metlife_fredy,\n",
    "    right=ruts_metlife,\n",
    "    how=\"left\",\n",
    "    left_on=\"llave\",\n",
    "    right_on=\"LLave\",\n",
    ") \"\"\""
   ]
  },
  {
   "cell_type": "code",
   "execution_count": null,
   "metadata": {},
   "outputs": [],
   "source": [
    "\"\"\" reportes_metlife_fredy.head(5) \"\"\""
   ]
  },
  {
   "cell_type": "code",
   "execution_count": null,
   "metadata": {},
   "outputs": [],
   "source": [
    "#reportes_metlife_fredy.to_excel(\"C:/Users/jmartinez/Documents/reportes_metlife2.xlsx\", index=False)"
   ]
  }
 ],
 "metadata": {
  "kernelspec": {
   "display_name": "salesforce",
   "language": "python",
   "name": "python3"
  },
  "language_info": {
   "codemirror_mode": {
    "name": "ipython",
    "version": 3
   },
   "file_extension": ".py",
   "mimetype": "text/x-python",
   "name": "python",
   "nbconvert_exporter": "python",
   "pygments_lexer": "ipython3",
   "version": "3.8.16"
  }
 },
 "nbformat": 4,
 "nbformat_minor": 2
}
