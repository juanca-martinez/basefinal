{
 "cells": [
  {
   "cell_type": "code",
   "execution_count": 1,
   "metadata": {
    "notebookRunGroups": {
     "groupValue": "1"
    }
   },
   "outputs": [],
   "source": [
    "import json\n",
    "import pandas as pd\n",
    "import numpy as np\n",
    "from simple_salesforce import Salesforce, format_soql, format_external_id\n",
    "from json import loads, dumps\n",
    "import simpler_sf\n",
    "simpler_sf.simple_salesforce()\n",
    "from sqlalchemy import create_engine"
   ]
  },
  {
   "cell_type": "code",
   "execution_count": 2,
   "metadata": {
    "notebookRunGroups": {
     "groupValue": "1"
    }
   },
   "outputs": [],
   "source": [
    "with open(\"../login.json\", \"r\") as j:\n",
    "    misDatos = json.load(j)\n",
    "sf = Salesforce(\n",
    "    username=misDatos[\"username\"],\n",
    "    password=misDatos[\"password\"],\n",
    "    security_token=misDatos[\"security_token\"],\n",
    ")"
   ]
  },
  {
   "cell_type": "code",
   "execution_count": 3,
   "metadata": {
    "notebookRunGroups": {
     "groupValue": "12"
    }
   },
   "outputs": [],
   "source": [
    "ruts = \"F:/martin/MetLife SFTP/derty_Metlife.xlsx\"\n",
    "rutsMetlife2 = pd.read_excel(ruts)\n"
   ]
  },
  {
   "cell_type": "code",
   "execution_count": 4,
   "metadata": {
    "notebookRunGroups": {
     "groupValue": "1"
    }
   },
   "outputs": [
    {
     "data": {
      "text/html": [
       "<div>\n",
       "<style scoped>\n",
       "    .dataframe tbody tr th:only-of-type {\n",
       "        vertical-align: middle;\n",
       "    }\n",
       "\n",
       "    .dataframe tbody tr th {\n",
       "        vertical-align: top;\n",
       "    }\n",
       "\n",
       "    .dataframe thead th {\n",
       "        text-align: right;\n",
       "    }\n",
       "</style>\n",
       "<table border=\"1\" class=\"dataframe\">\n",
       "  <thead>\n",
       "    <tr style=\"text-align: right;\">\n",
       "      <th></th>\n",
       "      <th>POLIZA</th>\n",
       "      <th>RUTASEGURADO</th>\n",
       "      <th>DV</th>\n",
       "      <th>RUTBENEFICIARIO</th>\n",
       "      <th>RUTBENEFIARIO_DV</th>\n",
       "      <th>FNAC</th>\n",
       "      <th>SEXO</th>\n",
       "      <th>DIRECCION</th>\n",
       "      <th>COMUNA</th>\n",
       "      <th>CIUDAD</th>\n",
       "      <th>TELEFONO</th>\n",
       "      <th>RELACION</th>\n",
       "      <th>DESDE</th>\n",
       "      <th>HASTA</th>\n",
       "      <th>NOMBRE</th>\n",
       "      <th>EMAIL</th>\n",
       "      <th>NROCELULAR</th>\n",
       "      <th>VIGENCIA</th>\n",
       "    </tr>\n",
       "  </thead>\n",
       "  <tbody>\n",
       "    <tr>\n",
       "      <th>0</th>\n",
       "      <td>340007997</td>\n",
       "      <td>3391629</td>\n",
       "      <td>9</td>\n",
       "      <td>0</td>\n",
       "      <td>0</td>\n",
       "      <td>13707.0</td>\n",
       "      <td>F</td>\n",
       "      <td>EDUARDO ALERT 6229</td>\n",
       "      <td>LA REINA</td>\n",
       "      <td>SANTIAGO</td>\n",
       "      <td>965770703</td>\n",
       "      <td>CO</td>\n",
       "      <td>42064.0</td>\n",
       "      <td>NaN</td>\n",
       "      <td>Beltrán Martínez Ana Eliana</td>\n",
       "      <td>luarayabeltran@gmail.com</td>\n",
       "      <td>965770703</td>\n",
       "      <td>45351</td>\n",
       "    </tr>\n",
       "    <tr>\n",
       "      <th>1</th>\n",
       "      <td>340007997</td>\n",
       "      <td>4888346</td>\n",
       "      <td>K</td>\n",
       "      <td>0</td>\n",
       "      <td>0</td>\n",
       "      <td>18488.0</td>\n",
       "      <td>F</td>\n",
       "      <td>BOCACCIO 544</td>\n",
       "      <td>LAS CONDES</td>\n",
       "      <td>SANTIAGO</td>\n",
       "      <td>2204262-   098740509</td>\n",
       "      <td>CO</td>\n",
       "      <td>42064.0</td>\n",
       "      <td>NaN</td>\n",
       "      <td>Cabrera Undurraga Maria</td>\n",
       "      <td>NaN</td>\n",
       "      <td>NaN</td>\n",
       "      <td>45351</td>\n",
       "    </tr>\n",
       "    <tr>\n",
       "      <th>2</th>\n",
       "      <td>340007997</td>\n",
       "      <td>5393043</td>\n",
       "      <td>3</td>\n",
       "      <td>0</td>\n",
       "      <td>0</td>\n",
       "      <td>17977.0</td>\n",
       "      <td>F</td>\n",
       "      <td>Los Fresnos 1355 Casa 2 Condominio La Llanura</td>\n",
       "      <td>HUECHURABA</td>\n",
       "      <td>SANTIAGO</td>\n",
       "      <td>56-2-22488062</td>\n",
       "      <td>CO</td>\n",
       "      <td>42064.0</td>\n",
       "      <td>NaN</td>\n",
       "      <td>Muñoz Garate Edith Margot</td>\n",
       "      <td>AMADORITURRIETA@GMAIL.COM</td>\n",
       "      <td>56992279688</td>\n",
       "      <td>45351</td>\n",
       "    </tr>\n",
       "    <tr>\n",
       "      <th>3</th>\n",
       "      <td>340007997</td>\n",
       "      <td>5473602</td>\n",
       "      <td>9</td>\n",
       "      <td>0</td>\n",
       "      <td>0</td>\n",
       "      <td>19138.0</td>\n",
       "      <td>F</td>\n",
       "      <td>AVENIDA FRANCISCO DE VILLAGRA 5824</td>\n",
       "      <td>LA REINA</td>\n",
       "      <td>SANTIAGO</td>\n",
       "      <td>NaN</td>\n",
       "      <td>CO</td>\n",
       "      <td>42064.0</td>\n",
       "      <td>NaN</td>\n",
       "      <td>Contreras Mendoza Patricia</td>\n",
       "      <td>NaN</td>\n",
       "      <td>NaN</td>\n",
       "      <td>45351</td>\n",
       "    </tr>\n",
       "    <tr>\n",
       "      <th>4</th>\n",
       "      <td>340006458</td>\n",
       "      <td>6410825</td>\n",
       "      <td>5</td>\n",
       "      <td>0</td>\n",
       "      <td>0</td>\n",
       "      <td>21158.0</td>\n",
       "      <td>F</td>\n",
       "      <td>MAIPU 470  DP 504</td>\n",
       "      <td>CONCEPCIÓN</td>\n",
       "      <td>NaN</td>\n",
       "      <td>235951</td>\n",
       "      <td>CO</td>\n",
       "      <td>41974.0</td>\n",
       "      <td>NaN</td>\n",
       "      <td>Delgado Muñoz Olivia</td>\n",
       "      <td>docampo@udec.cl</td>\n",
       "      <td>NaN</td>\n",
       "      <td>45535</td>\n",
       "    </tr>\n",
       "  </tbody>\n",
       "</table>\n",
       "</div>"
      ],
      "text/plain": [
       "      POLIZA  RUTASEGURADO DV  RUTBENEFICIARIO RUTBENEFIARIO_DV     FNAC SEXO  \\\n",
       "0  340007997       3391629  9                0                0  13707.0    F   \n",
       "1  340007997       4888346  K                0                0  18488.0    F   \n",
       "2  340007997       5393043  3                0                0  17977.0    F   \n",
       "3  340007997       5473602  9                0                0  19138.0    F   \n",
       "4  340006458       6410825  5                0                0  21158.0    F   \n",
       "\n",
       "                                        DIRECCION      COMUNA    CIUDAD  \\\n",
       "0                              EDUARDO ALERT 6229    LA REINA  SANTIAGO   \n",
       "1                                    BOCACCIO 544  LAS CONDES  SANTIAGO   \n",
       "2  Los Fresnos 1355 Casa 2 Condominio La Llanura   HUECHURABA  SANTIAGO   \n",
       "3            AVENIDA FRANCISCO DE VILLAGRA 5824      LA REINA  SANTIAGO   \n",
       "4                               MAIPU 470  DP 504  CONCEPCIÓN       NaN   \n",
       "\n",
       "               TELEFONO RELACION    DESDE  HASTA                       NOMBRE  \\\n",
       "0             965770703       CO  42064.0    NaN  Beltrán Martínez Ana Eliana   \n",
       "1  2204262-   098740509       CO  42064.0    NaN      Cabrera Undurraga Maria   \n",
       "2         56-2-22488062       CO  42064.0    NaN    Muñoz Garate Edith Margot   \n",
       "3                   NaN       CO  42064.0    NaN   Contreras Mendoza Patricia   \n",
       "4                235951       CO  41974.0    NaN         Delgado Muñoz Olivia   \n",
       "\n",
       "                       EMAIL   NROCELULAR  VIGENCIA  \n",
       "0   luarayabeltran@gmail.com    965770703     45351  \n",
       "1                        NaN          NaN     45351  \n",
       "2  AMADORITURRIETA@GMAIL.COM  56992279688     45351  \n",
       "3                        NaN          NaN     45351  \n",
       "4            docampo@udec.cl          NaN     45535  "
      ]
     },
     "execution_count": 4,
     "metadata": {},
     "output_type": "execute_result"
    }
   ],
   "source": [
    "rutsMetlife2.head()\n"
   ]
  },
  {
   "cell_type": "code",
   "execution_count": 5,
   "metadata": {
    "notebookRunGroups": {
     "groupValue": "12"
    }
   },
   "outputs": [
    {
     "data": {
      "text/plain": [
       "(744401, 6)"
      ]
     },
     "execution_count": 5,
     "metadata": {},
     "output_type": "execute_result"
    }
   ],
   "source": [
    "rutsMetlife = rutsMetlife2[\n",
    "    [\n",
    "        \"POLIZA\",\n",
    "        \"RUTASEGURADO\",\n",
    "        \"DV\",\n",
    "        \"RUTBENEFICIARIO\",\n",
    "        \"RUTBENEFIARIO_DV\",\n",
    "        \"RELACION\",\n",
    "    ]\n",
    "]\n",
    "rutsMetlife.shape"
   ]
  },
  {
   "cell_type": "code",
   "execution_count": null,
   "metadata": {},
   "outputs": [],
   "source": [
    "def siPrimerCero(y):\n",
    "    if len(y) == 2:\n",
    "        if y[0] == \"0\":\n",
    "            y = y[1:]\n",
    "    return y"
   ]
  },
  {
   "cell_type": "code",
   "execution_count": null,
   "metadata": {},
   "outputs": [],
   "source": [
    "rutsMetlife.head()"
   ]
  },
  {
   "cell_type": "code",
   "execution_count": null,
   "metadata": {},
   "outputs": [],
   "source": [
    "\n",
    "rutsMetlife[\"RUTBENEFIARIO_DV\"] = rutsMetlife[\"RUTBENEFIARIO_DV\"].astype(str).astype(str).apply(lambda y: siPrimerCero(y))\n",
    "rutsMetlife.head()"
   ]
  },
  {
   "cell_type": "code",
   "execution_count": 6,
   "metadata": {
    "notebookRunGroups": {
     "groupValue": "12"
    }
   },
   "outputs": [
    {
     "name": "stderr",
     "output_type": "stream",
     "text": [
      "C:\\Users\\jmartinez\\AppData\\Local\\Temp\\ipykernel_10612\\683568310.py:1: SettingWithCopyWarning: \n",
      "A value is trying to be set on a copy of a slice from a DataFrame.\n",
      "Try using .loc[row_indexer,col_indexer] = value instead\n",
      "\n",
      "See the caveats in the documentation: https://pandas.pydata.org/pandas-docs/stable/user_guide/indexing.html#returning-a-view-versus-a-copy\n",
      "  rutsMetlife[\"Relación\"] = rutsMetlife[\"RELACION\"].astype(str)\n",
      "C:\\Users\\jmartinez\\AppData\\Local\\Temp\\ipykernel_10612\\683568310.py:2: SettingWithCopyWarning: \n",
      "A value is trying to be set on a copy of a slice from a DataFrame.\n",
      "Try using .loc[row_indexer,col_indexer] = value instead\n",
      "\n",
      "See the caveats in the documentation: https://pandas.pydata.org/pandas-docs/stable/user_guide/indexing.html#returning-a-view-versus-a-copy\n",
      "  rutsMetlife[\"Relación\"] = np.where(rutsMetlife[\"Relación\"]== \"AS\",\"Titular\", \"Carga\")\n",
      "C:\\Users\\jmartinez\\AppData\\Local\\Temp\\ipykernel_10612\\683568310.py:9: FutureWarning: The default value of regex will change from True to False in a future version. In addition, single character regular expressions will *not* be treated as literal strings when regex=True.\n",
      "  rutsMetlife[\"Poliza\"] = rutsMetlife[\"Poliza\"].str.replace(\".\", \"\")\n"
     ]
    },
    {
     "ename": "NameError",
     "evalue": "name 'siPrimerCero' is not defined",
     "output_type": "error",
     "traceback": [
      "\u001b[1;31m---------------------------------------------------------------------------\u001b[0m",
      "\u001b[1;31mNameError\u001b[0m                                 Traceback (most recent call last)",
      "Cell \u001b[1;32mIn[6], line 14\u001b[0m\n\u001b[0;32m     11\u001b[0m rutsMetlife[\u001b[38;5;124m\"\u001b[39m\u001b[38;5;124mPoliza\u001b[39m\u001b[38;5;124m\"\u001b[39m] \u001b[38;5;241m=\u001b[39m rutsMetlife[\u001b[38;5;124m\"\u001b[39m\u001b[38;5;124mPoliza\u001b[39m\u001b[38;5;124m\"\u001b[39m]\u001b[38;5;241m.\u001b[39mstr\u001b[38;5;241m.\u001b[39mupper()\n\u001b[0;32m     12\u001b[0m rutsMetlife[\u001b[38;5;124m\"\u001b[39m\u001b[38;5;124mPoliza\u001b[39m\u001b[38;5;124m\"\u001b[39m] \u001b[38;5;241m=\u001b[39m rutsMetlife[\u001b[38;5;124m\"\u001b[39m\u001b[38;5;124mPoliza\u001b[39m\u001b[38;5;124m\"\u001b[39m]\u001b[38;5;241m.\u001b[39mstr\u001b[38;5;241m.\u001b[39mstrip()\n\u001b[1;32m---> 14\u001b[0m rutsMetlife[\u001b[38;5;124m\"\u001b[39m\u001b[38;5;124mdv_asegurado\u001b[39m\u001b[38;5;124m\"\u001b[39m] \u001b[38;5;241m=\u001b[39m \u001b[43mrutsMetlife\u001b[49m\u001b[43m[\u001b[49m\u001b[38;5;124;43m\"\u001b[39;49m\u001b[38;5;124;43mDV\u001b[39;49m\u001b[38;5;124;43m\"\u001b[39;49m\u001b[43m]\u001b[49m\u001b[38;5;241;43m.\u001b[39;49m\u001b[43mastype\u001b[49m\u001b[43m(\u001b[49m\u001b[38;5;28;43mstr\u001b[39;49m\u001b[43m)\u001b[49m\u001b[38;5;241;43m.\u001b[39;49m\u001b[43mapply\u001b[49m\u001b[43m(\u001b[49m\u001b[38;5;28;43;01mlambda\u001b[39;49;00m\u001b[43m \u001b[49m\u001b[43my\u001b[49m\u001b[43m:\u001b[49m\u001b[43m \u001b[49m\u001b[43msiPrimerCero\u001b[49m\u001b[43m(\u001b[49m\u001b[43my\u001b[49m\u001b[43m)\u001b[49m\u001b[43m)\u001b[49m \n\u001b[0;32m     15\u001b[0m \u001b[38;5;66;03m#rutsMetlife[\"Rut_Titular\"] = rutsMetlife[\"Rut_Titular\"].astype(str)\u001b[39;00m\n\u001b[0;32m     16\u001b[0m rutsMetlife[\u001b[38;5;124m\"\u001b[39m\u001b[38;5;124mdv_asegurado\u001b[39m\u001b[38;5;124m\"\u001b[39m] \u001b[38;5;241m=\u001b[39m rutsMetlife[\u001b[38;5;124m\"\u001b[39m\u001b[38;5;124mdv_asegurado\u001b[39m\u001b[38;5;124m\"\u001b[39m]\u001b[38;5;241m.\u001b[39mstr\u001b[38;5;241m.\u001b[39mreplace(\u001b[38;5;124m\"\u001b[39m\u001b[38;5;124m-\u001b[39m\u001b[38;5;124m\"\u001b[39m, \u001b[38;5;124m\"\u001b[39m\u001b[38;5;124m\"\u001b[39m)\n",
      "File \u001b[1;32mc:\\Users\\jmartinez\\.conda\\envs\\salesforce\\lib\\site-packages\\pandas\\core\\series.py:4771\u001b[0m, in \u001b[0;36mSeries.apply\u001b[1;34m(self, func, convert_dtype, args, **kwargs)\u001b[0m\n\u001b[0;32m   4661\u001b[0m \u001b[38;5;28;01mdef\u001b[39;00m \u001b[38;5;21mapply\u001b[39m(\n\u001b[0;32m   4662\u001b[0m     \u001b[38;5;28mself\u001b[39m,\n\u001b[0;32m   4663\u001b[0m     func: AggFuncType,\n\u001b[1;32m   (...)\u001b[0m\n\u001b[0;32m   4666\u001b[0m     \u001b[38;5;241m*\u001b[39m\u001b[38;5;241m*\u001b[39mkwargs,\n\u001b[0;32m   4667\u001b[0m ) \u001b[38;5;241m-\u001b[39m\u001b[38;5;241m>\u001b[39m DataFrame \u001b[38;5;241m|\u001b[39m Series:\n\u001b[0;32m   4668\u001b[0m \u001b[38;5;250m    \u001b[39m\u001b[38;5;124;03m\"\"\"\u001b[39;00m\n\u001b[0;32m   4669\u001b[0m \u001b[38;5;124;03m    Invoke function on values of Series.\u001b[39;00m\n\u001b[0;32m   4670\u001b[0m \n\u001b[1;32m   (...)\u001b[0m\n\u001b[0;32m   4769\u001b[0m \u001b[38;5;124;03m    dtype: float64\u001b[39;00m\n\u001b[0;32m   4770\u001b[0m \u001b[38;5;124;03m    \"\"\"\u001b[39;00m\n\u001b[1;32m-> 4771\u001b[0m     \u001b[38;5;28;01mreturn\u001b[39;00m \u001b[43mSeriesApply\u001b[49m\u001b[43m(\u001b[49m\u001b[38;5;28;43mself\u001b[39;49m\u001b[43m,\u001b[49m\u001b[43m \u001b[49m\u001b[43mfunc\u001b[49m\u001b[43m,\u001b[49m\u001b[43m \u001b[49m\u001b[43mconvert_dtype\u001b[49m\u001b[43m,\u001b[49m\u001b[43m \u001b[49m\u001b[43margs\u001b[49m\u001b[43m,\u001b[49m\u001b[43m \u001b[49m\u001b[43mkwargs\u001b[49m\u001b[43m)\u001b[49m\u001b[38;5;241;43m.\u001b[39;49m\u001b[43mapply\u001b[49m\u001b[43m(\u001b[49m\u001b[43m)\u001b[49m\n",
      "File \u001b[1;32mc:\\Users\\jmartinez\\.conda\\envs\\salesforce\\lib\\site-packages\\pandas\\core\\apply.py:1123\u001b[0m, in \u001b[0;36mSeriesApply.apply\u001b[1;34m(self)\u001b[0m\n\u001b[0;32m   1120\u001b[0m     \u001b[38;5;28;01mreturn\u001b[39;00m \u001b[38;5;28mself\u001b[39m\u001b[38;5;241m.\u001b[39mapply_str()\n\u001b[0;32m   1122\u001b[0m \u001b[38;5;66;03m# self.f is Callable\u001b[39;00m\n\u001b[1;32m-> 1123\u001b[0m \u001b[38;5;28;01mreturn\u001b[39;00m \u001b[38;5;28;43mself\u001b[39;49m\u001b[38;5;241;43m.\u001b[39;49m\u001b[43mapply_standard\u001b[49m\u001b[43m(\u001b[49m\u001b[43m)\u001b[49m\n",
      "File \u001b[1;32mc:\\Users\\jmartinez\\.conda\\envs\\salesforce\\lib\\site-packages\\pandas\\core\\apply.py:1174\u001b[0m, in \u001b[0;36mSeriesApply.apply_standard\u001b[1;34m(self)\u001b[0m\n\u001b[0;32m   1172\u001b[0m     \u001b[38;5;28;01melse\u001b[39;00m:\n\u001b[0;32m   1173\u001b[0m         values \u001b[38;5;241m=\u001b[39m obj\u001b[38;5;241m.\u001b[39mastype(\u001b[38;5;28mobject\u001b[39m)\u001b[38;5;241m.\u001b[39m_values\n\u001b[1;32m-> 1174\u001b[0m         mapped \u001b[38;5;241m=\u001b[39m \u001b[43mlib\u001b[49m\u001b[38;5;241;43m.\u001b[39;49m\u001b[43mmap_infer\u001b[49m\u001b[43m(\u001b[49m\n\u001b[0;32m   1175\u001b[0m \u001b[43m            \u001b[49m\u001b[43mvalues\u001b[49m\u001b[43m,\u001b[49m\n\u001b[0;32m   1176\u001b[0m \u001b[43m            \u001b[49m\u001b[43mf\u001b[49m\u001b[43m,\u001b[49m\n\u001b[0;32m   1177\u001b[0m \u001b[43m            \u001b[49m\u001b[43mconvert\u001b[49m\u001b[38;5;241;43m=\u001b[39;49m\u001b[38;5;28;43mself\u001b[39;49m\u001b[38;5;241;43m.\u001b[39;49m\u001b[43mconvert_dtype\u001b[49m\u001b[43m,\u001b[49m\n\u001b[0;32m   1178\u001b[0m \u001b[43m        \u001b[49m\u001b[43m)\u001b[49m\n\u001b[0;32m   1180\u001b[0m \u001b[38;5;28;01mif\u001b[39;00m \u001b[38;5;28mlen\u001b[39m(mapped) \u001b[38;5;129;01mand\u001b[39;00m \u001b[38;5;28misinstance\u001b[39m(mapped[\u001b[38;5;241m0\u001b[39m], ABCSeries):\n\u001b[0;32m   1181\u001b[0m     \u001b[38;5;66;03m# GH#43986 Need to do list(mapped) in order to get treated as nested\u001b[39;00m\n\u001b[0;32m   1182\u001b[0m     \u001b[38;5;66;03m#  See also GH#25959 regarding EA support\u001b[39;00m\n\u001b[0;32m   1183\u001b[0m     \u001b[38;5;28;01mreturn\u001b[39;00m obj\u001b[38;5;241m.\u001b[39m_constructor_expanddim(\u001b[38;5;28mlist\u001b[39m(mapped), index\u001b[38;5;241m=\u001b[39mobj\u001b[38;5;241m.\u001b[39mindex)\n",
      "File \u001b[1;32mc:\\Users\\jmartinez\\.conda\\envs\\salesforce\\lib\\site-packages\\pandas\\_libs\\lib.pyx:2924\u001b[0m, in \u001b[0;36mpandas._libs.lib.map_infer\u001b[1;34m()\u001b[0m\n",
      "Cell \u001b[1;32mIn[6], line 14\u001b[0m, in \u001b[0;36m<lambda>\u001b[1;34m(y)\u001b[0m\n\u001b[0;32m     11\u001b[0m rutsMetlife[\u001b[38;5;124m\"\u001b[39m\u001b[38;5;124mPoliza\u001b[39m\u001b[38;5;124m\"\u001b[39m] \u001b[38;5;241m=\u001b[39m rutsMetlife[\u001b[38;5;124m\"\u001b[39m\u001b[38;5;124mPoliza\u001b[39m\u001b[38;5;124m\"\u001b[39m]\u001b[38;5;241m.\u001b[39mstr\u001b[38;5;241m.\u001b[39mupper()\n\u001b[0;32m     12\u001b[0m rutsMetlife[\u001b[38;5;124m\"\u001b[39m\u001b[38;5;124mPoliza\u001b[39m\u001b[38;5;124m\"\u001b[39m] \u001b[38;5;241m=\u001b[39m rutsMetlife[\u001b[38;5;124m\"\u001b[39m\u001b[38;5;124mPoliza\u001b[39m\u001b[38;5;124m\"\u001b[39m]\u001b[38;5;241m.\u001b[39mstr\u001b[38;5;241m.\u001b[39mstrip()\n\u001b[1;32m---> 14\u001b[0m rutsMetlife[\u001b[38;5;124m\"\u001b[39m\u001b[38;5;124mdv_asegurado\u001b[39m\u001b[38;5;124m\"\u001b[39m] \u001b[38;5;241m=\u001b[39m rutsMetlife[\u001b[38;5;124m\"\u001b[39m\u001b[38;5;124mDV\u001b[39m\u001b[38;5;124m\"\u001b[39m]\u001b[38;5;241m.\u001b[39mastype(\u001b[38;5;28mstr\u001b[39m)\u001b[38;5;241m.\u001b[39mapply(\u001b[38;5;28;01mlambda\u001b[39;00m y: \u001b[43msiPrimerCero\u001b[49m(y)) \n\u001b[0;32m     15\u001b[0m \u001b[38;5;66;03m#rutsMetlife[\"Rut_Titular\"] = rutsMetlife[\"Rut_Titular\"].astype(str)\u001b[39;00m\n\u001b[0;32m     16\u001b[0m rutsMetlife[\u001b[38;5;124m\"\u001b[39m\u001b[38;5;124mdv_asegurado\u001b[39m\u001b[38;5;124m\"\u001b[39m] \u001b[38;5;241m=\u001b[39m rutsMetlife[\u001b[38;5;124m\"\u001b[39m\u001b[38;5;124mdv_asegurado\u001b[39m\u001b[38;5;124m\"\u001b[39m]\u001b[38;5;241m.\u001b[39mstr\u001b[38;5;241m.\u001b[39mreplace(\u001b[38;5;124m\"\u001b[39m\u001b[38;5;124m-\u001b[39m\u001b[38;5;124m\"\u001b[39m, \u001b[38;5;124m\"\u001b[39m\u001b[38;5;124m\"\u001b[39m)\n",
      "\u001b[1;31mNameError\u001b[0m: name 'siPrimerCero' is not defined"
     ]
    }
   ],
   "source": [
    "\n",
    "rutsMetlife[\"Relación\"] = rutsMetlife[\"RELACION\"].astype(str)\n",
    "rutsMetlife[\"Relación\"] = np.where(rutsMetlife[\"Relación\"]== \"AS\",\"Titular\", \"Carga\")\n",
    "rutsMetlife = rutsMetlife[rutsMetlife[\"Relación\"]==\"Titular\" ]\n",
    "\n",
    "rutsMetlife[\"Poliza\"] = rutsMetlife[\"POLIZA\"].astype(int).astype(str)\n",
    "rutsMetlife[\"Poliza\"] = rutsMetlife[\"Poliza\"].str.replace(\"-\", \"\")\n",
    "rutsMetlife[\"Poliza\"] = rutsMetlife[\"Poliza\"].str.replace(\"–\", \"\")\n",
    "rutsMetlife[\"Poliza\"] = rutsMetlife[\"Poliza\"].astype(str)\n",
    "rutsMetlife[\"Poliza\"] = rutsMetlife[\"Poliza\"].str.replace(\".\", \"\")\n",
    "rutsMetlife[\"Poliza\"] = rutsMetlife[\"Poliza\"].str.replace(\" \", \"\")\n",
    "rutsMetlife[\"Poliza\"] = rutsMetlife[\"Poliza\"].str.upper()\n",
    "rutsMetlife[\"Poliza\"] = rutsMetlife[\"Poliza\"].str.strip()\n",
    "\n",
    "rutsMetlife[\"dv_asegurado\"] = rutsMetlife[\"DV\"].astype(str).apply(lambda y: siPrimerCero(y)) \n",
    "#rutsMetlife[\"Rut_Titular\"] = rutsMetlife[\"Rut_Titular\"].astype(str)\n",
    "rutsMetlife[\"dv_asegurado\"] = rutsMetlife[\"dv_asegurado\"].str.replace(\"-\", \"\")\n",
    "rutsMetlife[\"dv_asegurado\"] = rutsMetlife[\"dv_asegurado\"].str.replace(\"–\", \"\")\n",
    "rutsMetlife[\"dv_asegurado\"] = rutsMetlife[\"dv_asegurado\"].astype(str)\n",
    "rutsMetlife[\"dv_asegurado\"] = rutsMetlife[\"dv_asegurado\"].str.replace(\".\", \"\")\n",
    "rutsMetlife[\"dv_asegurado\"] = rutsMetlife[\"dv_asegurado\"].str.replace(\" \", \"\")\n",
    "rutsMetlife[\"dv_asegurado\"] = rutsMetlife[\"dv_asegurado\"].str.upper()\n",
    "rutsMetlife[\"dv_asegurado\"] = rutsMetlife[\"dv_asegurado\"].str.strip()\n",
    "\n",
    "rutsMetlife[\"Rut_Titular\"] = rutsMetlife[\"RUTASEGURADO\"].astype(str).apply(lambda y: siPrimerCero(y)) \n",
    "#rutsMetlife[\"Rut_Titular\"] = rutsMetlife[\"Rut_Titular\"].astype(str).apply(lambda y: siPrimerCero(y)) \n",
    "rutsMetlife[\"Rut_Titular\"] = rutsMetlife[\"Rut_Titular\"].str.replace(\"-\", \"\")\n",
    "rutsMetlife[\"Rut_Titular\"] = rutsMetlife[\"Rut_Titular\"].str.replace(\"–\", \"\")\n",
    "rutsMetlife[\"Rut_Titular\"] = rutsMetlife[\"Rut_Titular\"].astype(str)\n",
    "rutsMetlife[\"Rut_Titular\"] = rutsMetlife[\"Rut_Titular\"].str.replace(\".\", \"\")\n",
    "rutsMetlife[\"Rut_Titular\"] = rutsMetlife[\"Rut_Titular\"].str.replace(\" \", \"\")\n",
    "rutsMetlife[\"Rut_Titular\"] = rutsMetlife[\"Rut_Titular\"].str.upper()\n",
    "rutsMetlife[\"Rut_Titular\"] = rutsMetlife[\"Rut_Titular\"].str.strip()\n",
    "\n",
    "rutsMetlife[\"dv_Beneficiario\"] = rutsMetlife[\"RUTBENEFIARIO_DV\"].astype(str).apply(lambda y: siPrimerCero(y))\n",
    "#rutsMetlife[\"Rut_Beneficiario\"] = rutsMetlife[\"Rut_Beneficiario\"].astype(str)\n",
    "rutsMetlife[\"dv_Beneficiario\"] = rutsMetlife[\"dv_Beneficiario\"].str.replace(\"-\", \"\")\n",
    "rutsMetlife[\"dv_Beneficiario\"] = rutsMetlife[\"dv_Beneficiario\"].str.replace(\"–\", \"\")\n",
    "rutsMetlife[\"dv_Beneficiario\"] = rutsMetlife[\"dv_Beneficiario\"].astype(str)\n",
    "rutsMetlife[\"dv_Beneficiario\"] = rutsMetlife[\"dv_Beneficiario\"].str.replace(\".\", \"\")\n",
    "rutsMetlife[\"dv_Beneficiario\"] = rutsMetlife[\"dv_Beneficiario\"].str.replace(\" \", \"\")\n",
    "rutsMetlife[\"dv_Beneficiario\"] = rutsMetlife[\"dv_Beneficiario\"].str.upper()\n",
    "rutsMetlife[\"dv_Beneficiario\"] = rutsMetlife[\"dv_Beneficiario\"].str.strip()\n",
    "\n",
    "rutsMetlife[\"Rut_Beneficiario\"] = rutsMetlife[\"RUTBENEFICIARIO\"].astype(int).astype(str).apply(lambda y: siPrimerCero(y))\n",
    "#rutsMetlife[\"Rut_Beneficiario\"] = rutsMetlife[\"Rut_Beneficiario\"].astype(str)\n",
    "rutsMetlife[\"Rut_Beneficiario\"] = rutsMetlife[\"Rut_Beneficiario\"].str.replace(\"-\", \"\")\n",
    "rutsMetlife[\"Rut_Beneficiario\"] = rutsMetlife[\"Rut_Beneficiario\"].str.replace(\"–\", \"\")\n",
    "rutsMetlife[\"Rut_Beneficiario\"] = rutsMetlife[\"Rut_Beneficiario\"].astype(str)\n",
    "rutsMetlife[\"Rut_Beneficiario\"] = rutsMetlife[\"Rut_Beneficiario\"].str.replace(\".\", \"\")\n",
    "rutsMetlife[\"Rut_Beneficiario\"] = rutsMetlife[\"Rut_Beneficiario\"].str.replace(\" \", \"\")\n",
    "rutsMetlife[\"Rut_Beneficiario\"] = rutsMetlife[\"Rut_Beneficiario\"].str.upper()\n",
    "rutsMetlife[\"Rut_Beneficiario\"] = rutsMetlife[\"Rut_Beneficiario\"].str.strip()\n",
    "\n",
    "rutsMetlife[\"Rut_Beneficiario\"] = rutsMetlife[\"Rut_Beneficiario\"] + rutsMetlife[\"dv_Beneficiario\"]\n",
    "rutsMetlife[\"Rut_Titular\"] = rutsMetlife[\"Rut_Titular\"] + rutsMetlife[\"dv_asegurado\"]\n",
    "\n",
    "\n",
    "#Subir_pacientes[Subir_pacientes[\"RutEstaoNo\"] == True]\n",
    "\n",
    "\n",
    "#rutsMetlife[\"llave\"] = rutsMetlife[\"Poliza\"] + rutsMetlife[\"Rut_Titular\"] + rutsMetlife[\"Rut_Beneficiario\"]\n",
    "rutsMetlife[\"llave\"] = rutsMetlife[\"Rut_Titular\"] + rutsMetlife[\"Rut_Beneficiario\"]\n",
    "\n",
    "\"\"\" rutsMetlife = rutsMetlife[\n",
    "    [\"Poliza\",\t\"Rut_Titular\",\t\"Rut_Beneficiario\",\t\"Relación\",\"llave\",\n",
    "       \n",
    "    ]\n",
    "] \"\"\"\n",
    "rutsMetlife = rutsMetlife.drop_duplicates(\n",
    "    [\n",
    "        \"llave\",\t\n",
    "    ],\n",
    "    keep=\"last\",\n",
    ")\n",
    "rutsMetlife.shape"
   ]
  },
  {
   "cell_type": "code",
   "execution_count": null,
   "metadata": {},
   "outputs": [],
   "source": [
    "rutsMetlife.head()"
   ]
  },
  {
   "cell_type": "code",
   "execution_count": null,
   "metadata": {
    "notebookRunGroups": {
     "groupValue": "1"
    }
   },
   "outputs": [],
   "source": [
    "\n",
    "#ruts_metlife = rutsMetlife\n",
    "rutsMetlife = rutsMetlife.sort_values(by=\"llave\", ascending = True)\n",
    "#rutsMetlife.to_excel(\"F:/martin/MetLife SFTP/Titulares unicos Metlife.xlsx\", index=False)"
   ]
  },
  {
   "cell_type": "code",
   "execution_count": null,
   "metadata": {},
   "outputs": [],
   "source": [
    "query_empresacontactoconvenio = (\n",
    "    \"select N_Documento_Titular__c,Paciente__r.IdentificationId__pc from EmpresaContactoConvenios__c where Empresa__r.Campa_a__c = 'MetLife' and Relaci_n_Con_Asegurado__c = 'Titular' and Convenio_Activo__c = true \"\n",
    "    \n",
    ")\n",
    "\n",
    "\n",
    "#and Convenio_Activo__c = true \n",
    "empresacontactoconvenio = sf.smart_query(query_empresacontactoconvenio)\n",
    "#empresacontactoconvenio.\n",
    "\n",
    "#empresacontactoconvenio = rutsMetlife"
   ]
  },
  {
   "cell_type": "code",
   "execution_count": null,
   "metadata": {},
   "outputs": [],
   "source": [
    "\"\"\" ruts = \"F:/martin/MetLife SFTP/derty_metlife_diciembre.xlsx\"\n",
    "rutsMetlife = pd.read_excel(ruts)\n",
    "\n",
    "rutsMetlife[\"Relación\"] = rutsMetlife[\"RELACION\"].astype(str)\n",
    "rutsMetlife[\"Relación\"] = np.where(rutsMetlife[\"Relación\"]== \"AS\",\"Titular\", \"Carga\")\n",
    "rutsMetlife = rutsMetlife[rutsMetlife[\"Relación\"]==\"Titular\" ]\n",
    "\n",
    "rutsMetlife[\"Poliza\"] = rutsMetlife[\"POLIZA\"].astype(int).astype(str)\n",
    "rutsMetlife[\"Poliza\"] = rutsMetlife[\"Poliza\"].str.replace(\"-\", \"\")\n",
    "rutsMetlife[\"Poliza\"] = rutsMetlife[\"Poliza\"].str.replace(\"–\", \"\")\n",
    "rutsMetlife[\"Poliza\"] = rutsMetlife[\"Poliza\"].astype(str)\n",
    "rutsMetlife[\"Poliza\"] = rutsMetlife[\"Poliza\"].str.replace(\".\", \"\")\n",
    "rutsMetlife[\"Poliza\"] = rutsMetlife[\"Poliza\"].str.replace(\" \", \"\")\n",
    "rutsMetlife[\"Poliza\"] = rutsMetlife[\"Poliza\"].str.upper()\n",
    "rutsMetlife[\"Poliza\"] = rutsMetlife[\"Poliza\"].str.strip()\n",
    "\n",
    "rutsMetlife[\"dv_asegurado\"] = rutsMetlife[\"DV\"].astype(str).apply(lambda y: siPrimerCero(y)) \n",
    "#rutsMetlife[\"Rut_Titular\"] = rutsMetlife[\"Rut_Titular\"].astype(str)\n",
    "rutsMetlife[\"dv_asegurado\"] = rutsMetlife[\"dv_asegurado\"].str.replace(\"-\", \"\")\n",
    "rutsMetlife[\"dv_asegurado\"] = rutsMetlife[\"dv_asegurado\"].str.replace(\"–\", \"\")\n",
    "rutsMetlife[\"dv_asegurado\"] = rutsMetlife[\"dv_asegurado\"].astype(str)\n",
    "rutsMetlife[\"dv_asegurado\"] = rutsMetlife[\"dv_asegurado\"].str.replace(\".\", \"\")\n",
    "rutsMetlife[\"dv_asegurado\"] = rutsMetlife[\"dv_asegurado\"].str.replace(\" \", \"\")\n",
    "rutsMetlife[\"dv_asegurado\"] = rutsMetlife[\"dv_asegurado\"].str.upper()\n",
    "rutsMetlife[\"dv_asegurado\"] = rutsMetlife[\"dv_asegurado\"].str.strip()\n",
    "\n",
    "rutsMetlife[\"Rut_Titular\"] = rutsMetlife[\"RUTASEGURADO\"].astype(str).apply(lambda y: siPrimerCero(y)) \n",
    "#rutsMetlife[\"Rut_Titular\"] = rutsMetlife[\"Rut_Titular\"].astype(str).apply(lambda y: siPrimerCero(y)) \n",
    "rutsMetlife[\"Rut_Titular\"] = rutsMetlife[\"Rut_Titular\"].str.replace(\"-\", \"\")\n",
    "rutsMetlife[\"Rut_Titular\"] = rutsMetlife[\"Rut_Titular\"].str.replace(\"–\", \"\")\n",
    "rutsMetlife[\"Rut_Titular\"] = rutsMetlife[\"Rut_Titular\"].astype(str)\n",
    "rutsMetlife[\"Rut_Titular\"] = rutsMetlife[\"Rut_Titular\"].str.replace(\".\", \"\")\n",
    "rutsMetlife[\"Rut_Titular\"] = rutsMetlife[\"Rut_Titular\"].str.replace(\" \", \"\")\n",
    "rutsMetlife[\"Rut_Titular\"] = rutsMetlife[\"Rut_Titular\"].str.upper()\n",
    "rutsMetlife[\"Rut_Titular\"] = rutsMetlife[\"Rut_Titular\"].str.strip()\n",
    "\n",
    "rutsMetlife[\"dv_Beneficiario\"] = rutsMetlife[\"RUTBENEFIARIO_DV\"].astype(str).apply(lambda y: siPrimerCero(y))\n",
    "#rutsMetlife[\"Rut_Beneficiario\"] = rutsMetlife[\"Rut_Beneficiario\"].astype(str)\n",
    "rutsMetlife[\"dv_Beneficiario\"] = rutsMetlife[\"dv_Beneficiario\"].str.replace(\"-\", \"\")\n",
    "rutsMetlife[\"dv_Beneficiario\"] = rutsMetlife[\"dv_Beneficiario\"].str.replace(\"–\", \"\")\n",
    "rutsMetlife[\"dv_Beneficiario\"] = rutsMetlife[\"dv_Beneficiario\"].astype(str)\n",
    "rutsMetlife[\"dv_Beneficiario\"] = rutsMetlife[\"dv_Beneficiario\"].str.replace(\".\", \"\")\n",
    "rutsMetlife[\"dv_Beneficiario\"] = rutsMetlife[\"dv_Beneficiario\"].str.replace(\" \", \"\")\n",
    "rutsMetlife[\"dv_Beneficiario\"] = rutsMetlife[\"dv_Beneficiario\"].str.upper()\n",
    "rutsMetlife[\"dv_Beneficiario\"] = rutsMetlife[\"dv_Beneficiario\"].str.strip()\n",
    "\n",
    "rutsMetlife[\"Rut_Beneficiario\"] = rutsMetlife[\"RUTBENEFICIARIO\"].astype(int).astype(str).apply(lambda y: siPrimerCero(y))\n",
    "#rutsMetlife[\"Rut_Beneficiario\"] = rutsMetlife[\"Rut_Beneficiario\"].astype(str)\n",
    "rutsMetlife[\"Rut_Beneficiario\"] = rutsMetlife[\"Rut_Beneficiario\"].str.replace(\"-\", \"\")\n",
    "rutsMetlife[\"Rut_Beneficiario\"] = rutsMetlife[\"Rut_Beneficiario\"].str.replace(\"–\", \"\")\n",
    "rutsMetlife[\"Rut_Beneficiario\"] = rutsMetlife[\"Rut_Beneficiario\"].astype(str)\n",
    "rutsMetlife[\"Rut_Beneficiario\"] = rutsMetlife[\"Rut_Beneficiario\"].str.replace(\".\", \"\")\n",
    "rutsMetlife[\"Rut_Beneficiario\"] = rutsMetlife[\"Rut_Beneficiario\"].str.replace(\" \", \"\")\n",
    "rutsMetlife[\"Rut_Beneficiario\"] = rutsMetlife[\"Rut_Beneficiario\"].str.upper()\n",
    "rutsMetlife[\"Rut_Beneficiario\"] = rutsMetlife[\"Rut_Beneficiario\"].str.strip()\n",
    "\n",
    "rutsMetlife[\"Rut_Beneficiario\"] = rutsMetlife[\"Rut_Beneficiario\"] + rutsMetlife[\"dv_Beneficiario\"]\n",
    "rutsMetlife[\"Rut_Titular\"] = rutsMetlife[\"Rut_Titular\"] + rutsMetlife[\"dv_asegurado\"]\n",
    "\n",
    "\n",
    "#Subir_pacientes[Subir_pacientes[\"RutEstaoNo\"] == True]\n",
    "\n",
    "\n",
    "#rutsMetlife[\"llave\"] = rutsMetlife[\"Poliza\"] + rutsMetlife[\"Rut_Titular\"] + rutsMetlife[\"Rut_Beneficiario\"]\n",
    "rutsMetlife[\"llave\"] = rutsMetlife[\"Rut_Titular\"] + rutsMetlife[\"Rut_Beneficiario\"]\n",
    "\n",
    "rutsMetlife = rutsMetlife[\n",
    "    [\"Poliza\",\t\"Rut_Titular\",\t\"Rut_Beneficiario\",\t\"Relación\",\"llave\",\n",
    "       \n",
    "    ]\n",
    "] \n",
    "rutsMetlife = rutsMetlife.drop_duplicates(\n",
    "    [\n",
    "        \"llave\",\t\n",
    "    ],\n",
    "    keep=\"last\",\n",
    ")\n",
    "rutsMetlife.shape\n",
    "\n",
    " \"\"\""
   ]
  },
  {
   "cell_type": "code",
   "execution_count": null,
   "metadata": {},
   "outputs": [],
   "source": [
    "\"\"\" empresacontactoconvenio[\"N_Documento_Titular__c\"] = empresacontactoconvenio[\"N_Documento_Titular__c\"].astype(str)\n",
    "empresacontactoconvenio[\"N_Documento_Titular__c\"] = empresacontactoconvenio[\"N_Documento_Titular__c\"].str.replace(\"-\", \"\")\n",
    "empresacontactoconvenio[\"N_Documento_Titular__c\"] = empresacontactoconvenio[\"N_Documento_Titular__c\"].str.replace(\"–\", \"\")\n",
    "empresacontactoconvenio[\"N_Documento_Titular__c\"] = empresacontactoconvenio[\"N_Documento_Titular__c\"].astype(str)\n",
    "empresacontactoconvenio[\"N_Documento_Titular__c\"] = empresacontactoconvenio[\"N_Documento_Titular__c\"].str.replace(\".\", \"\")\n",
    "empresacontactoconvenio[\"N_Documento_Titular__c\"] = empresacontactoconvenio[\"N_Documento_Titular__c\"].str.replace(\" \", \"\")\n",
    "empresacontactoconvenio[\"N_Documento_Titular__c\"] = empresacontactoconvenio[\"N_Documento_Titular__c\"].str.upper()\n",
    "empresacontactoconvenio[\"N_Documento_Titular__c\"] = empresacontactoconvenio[\"N_Documento_Titular__c\"].str.strip()\n",
    "\n",
    "empresacontactoconvenio[\"Paciente__r.IdentificationId__pc\"] = empresacontactoconvenio[\"Paciente__r.IdentificationId__pc\"].astype(str)\n",
    "empresacontactoconvenio[\"Paciente__r.IdentificationId__pc\"] = empresacontactoconvenio[\"Paciente__r.IdentificationId__pc\"].str.replace(\"-\", \"\")\n",
    "empresacontactoconvenio[\"Paciente__r.IdentificationId__pc\"] = empresacontactoconvenio[\"Paciente__r.IdentificationId__pc\"].str.replace(\"–\", \"\")\n",
    "empresacontactoconvenio[\"Paciente__r.IdentificationId__pc\"] = empresacontactoconvenio[\"Paciente__r.IdentificationId__pc\"].astype(str)\n",
    "empresacontactoconvenio[\"Paciente__r.IdentificationId__pc\"] = empresacontactoconvenio[\"Paciente__r.IdentificationId__pc\"].str.replace(\".\", \"\")\n",
    "empresacontactoconvenio[\"Paciente__r.IdentificationId__pc\"] = empresacontactoconvenio[\"Paciente__r.IdentificationId__pc\"].str.replace(\" \", \"\")\n",
    "empresacontactoconvenio[\"Paciente__r.IdentificationId__pc\"] = empresacontactoconvenio[\"Paciente__r.IdentificationId__pc\"].str.upper()\n",
    "empresacontactoconvenio[\"Paciente__r.IdentificationId__pc\"] = empresacontactoconvenio[\"Paciente__r.IdentificationId__pc\"].str.strip()\n",
    "\n",
    "empresacontactoconvenio.head() \"\"\""
   ]
  },
  {
   "cell_type": "code",
   "execution_count": null,
   "metadata": {},
   "outputs": [],
   "source": [
    "empresacontactoconvenio[\"llave\"] = empresacontactoconvenio[\"Paciente__r.IdentificationId__pc\"] + empresacontactoconvenio[\"N_Documento_Titular__c\"]\n",
    "empresacontactoconvenio = empresacontactoconvenio.drop_duplicates(\n",
    "    [\n",
    "        \"llave\",\t\n",
    "    ],\n",
    "    keep=\"last\",\n",
    ")\n",
    "empresacontactoconvenio.shape"
   ]
  },
  {
   "cell_type": "markdown",
   "metadata": {},
   "source": []
  },
  {
   "cell_type": "code",
   "execution_count": null,
   "metadata": {},
   "outputs": [],
   "source": [
    "empresacontactoconvenio[\"Esta\"] = empresacontactoconvenio[\"llave\"].isin(rutsMetlife[\"llave\"])\n",
    "empresacontactoconvenio = empresacontactoconvenio[empresacontactoconvenio[\"Esta\"]==False]\n",
    "#rutsMetlife = rutsMetlife[rutsMetlife[\"Relación\"]==\"Titular\" ]\n",
    "empresacontactoconvenio.shape"
   ]
  },
  {
   "cell_type": "code",
   "execution_count": null,
   "metadata": {},
   "outputs": [],
   "source": [
    "\n",
    "empresacontactoconvenio.to_excel(\"F:/martin/MetLife SFTP/diferencia_36000.xlsx\", index=False) "
   ]
  },
  {
   "cell_type": "code",
   "execution_count": null,
   "metadata": {
    "notebookRunGroups": {
     "groupValue": "2"
    }
   },
   "outputs": [],
   "source": [
    "\"\"\" ruts_metlife = pd.concat([ruts_metlife, rutsMetlife], axis=0)\n",
    "ruts_metlife = ruts_metlife.drop_duplicates(\n",
    "    [\n",
    "        \"Poliza\",\"Rut_Titular\",\t\"Rut_Beneficiario\",\t\"Relación\",\n",
    "    ],\n",
    "    keep=\"last\",\n",
    ")\n",
    "ruts_metlife.shape \"\"\""
   ]
  },
  {
   "cell_type": "code",
   "execution_count": null,
   "metadata": {},
   "outputs": [],
   "source": [
    "\n",
    "\"\"\" reportes_metlife = \"C:/Users/jmartinez/Documents/Metlife_derty.xlsx\"\n",
    "reportes_metlife_fredy = pd.read_excel(reportes_metlife) \"\"\""
   ]
  },
  {
   "cell_type": "code",
   "execution_count": null,
   "metadata": {},
   "outputs": [],
   "source": [
    "\"\"\" reportes_metlife_fredy[\"llave\"] =  reportes_metlife_fredy[\"Rut\"]\n",
    "ruts_metlife[\"LLave\"] = ruts_metlife[\"Rut_Beneficiario\"]  \"\"\""
   ]
  },
  {
   "cell_type": "code",
   "execution_count": null,
   "metadata": {},
   "outputs": [],
   "source": [
    "\"\"\" reportes_metlife_fredy = pd.merge(\n",
    "    left=reportes_metlife_fredy,\n",
    "    right=ruts_metlife,\n",
    "    how=\"left\",\n",
    "    left_on=\"llave\",\n",
    "    right_on=\"LLave\",\n",
    ") \"\"\""
   ]
  },
  {
   "cell_type": "code",
   "execution_count": null,
   "metadata": {},
   "outputs": [],
   "source": [
    "\"\"\" reportes_metlife_fredy.head(5) \"\"\""
   ]
  },
  {
   "cell_type": "code",
   "execution_count": null,
   "metadata": {},
   "outputs": [],
   "source": [
    "#reportes_metlife_fredy.to_excel(\"C:/Users/jmartinez/Documents/reportes_metlife2.xlsx\", index=False)"
   ]
  }
 ],
 "metadata": {
  "kernelspec": {
   "display_name": "salesforce",
   "language": "python",
   "name": "python3"
  },
  "language_info": {
   "codemirror_mode": {
    "name": "ipython",
    "version": 3
   },
   "file_extension": ".py",
   "mimetype": "text/x-python",
   "name": "python",
   "nbconvert_exporter": "python",
   "pygments_lexer": "ipython3",
   "version": "3.8.16"
  }
 },
 "nbformat": 4,
 "nbformat_minor": 2
}
