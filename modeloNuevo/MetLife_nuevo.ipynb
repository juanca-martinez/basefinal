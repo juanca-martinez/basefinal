{
 "cells": [
  {
   "cell_type": "code",
   "execution_count": null,
   "metadata": {
    "notebookRunGroups": {
     "groupValue": "1"
    }
   },
   "outputs": [],
   "source": [
    "import json\n",
    "import pandas as pd\n",
    "import numpy as np\n",
    "from simple_salesforce import Salesforce, format_soql, format_external_id\n",
    "from json import loads, dumps\n",
    "import simpler_sf\n",
    "simpler_sf.simple_salesforce()\n",
    "from sqlalchemy import create_engine"
   ]
  },
  {
   "cell_type": "code",
   "execution_count": null,
   "metadata": {
    "notebookRunGroups": {
     "groupValue": "1"
    }
   },
   "outputs": [],
   "source": [
    "with open(\"../login.json\", \"r\") as j:\n",
    "    misDatos = json.load(j)\n",
    "sf = Salesforce(\n",
    "    username=misDatos[\"username\"],\n",
    "    password=misDatos[\"password\"],\n",
    "    security_token=misDatos[\"security_token\"],\n",
    ")"
   ]
  },
  {
   "cell_type": "code",
   "execution_count": 180,
   "metadata": {
    "notebookRunGroups": {
     "groupValue": "12"
    }
   },
   "outputs": [],
   "source": [
    "ruts = \"F:/martin/MetLife SFTP/derty_Metlife.xlsx\"\n",
    "rutsMetlife2 = pd.read_excel(ruts)\n"
   ]
  },
  {
   "cell_type": "code",
   "execution_count": 181,
   "metadata": {
    "notebookRunGroups": {
     "groupValue": "1"
    }
   },
   "outputs": [
    {
     "data": {
      "text/html": [
       "<div>\n",
       "<style scoped>\n",
       "    .dataframe tbody tr th:only-of-type {\n",
       "        vertical-align: middle;\n",
       "    }\n",
       "\n",
       "    .dataframe tbody tr th {\n",
       "        vertical-align: top;\n",
       "    }\n",
       "\n",
       "    .dataframe thead th {\n",
       "        text-align: right;\n",
       "    }\n",
       "</style>\n",
       "<table border=\"1\" class=\"dataframe\">\n",
       "  <thead>\n",
       "    <tr style=\"text-align: right;\">\n",
       "      <th></th>\n",
       "      <th>POLIZA</th>\n",
       "      <th>RUTASEGURADO</th>\n",
       "      <th>DV</th>\n",
       "      <th>RUTBENEFICIARIO</th>\n",
       "      <th>RUTBENEFIARIO_DV</th>\n",
       "      <th>FNAC</th>\n",
       "      <th>SEXO</th>\n",
       "      <th>DIRECCION</th>\n",
       "      <th>COMUNA</th>\n",
       "      <th>CIUDAD</th>\n",
       "      <th>TELEFONO</th>\n",
       "      <th>RELACION</th>\n",
       "      <th>DESDE</th>\n",
       "      <th>HASTA</th>\n",
       "      <th>NOMBRE</th>\n",
       "      <th>EMAIL</th>\n",
       "      <th>NROCELULAR</th>\n",
       "      <th>VIGENCIA</th>\n",
       "    </tr>\n",
       "  </thead>\n",
       "  <tbody>\n",
       "    <tr>\n",
       "      <th>0</th>\n",
       "      <td>340007997</td>\n",
       "      <td>3391629</td>\n",
       "      <td>9</td>\n",
       "      <td>0</td>\n",
       "      <td>0</td>\n",
       "      <td>13707.0</td>\n",
       "      <td>F</td>\n",
       "      <td>EDUARDO ALERT 6229</td>\n",
       "      <td>LA REINA</td>\n",
       "      <td>SANTIAGO</td>\n",
       "      <td>965770703</td>\n",
       "      <td>CO</td>\n",
       "      <td>42064.0</td>\n",
       "      <td>NaN</td>\n",
       "      <td>Beltrán Martínez Ana Eliana</td>\n",
       "      <td>luarayabeltran@gmail.com</td>\n",
       "      <td>965770703</td>\n",
       "      <td>45351</td>\n",
       "    </tr>\n",
       "    <tr>\n",
       "      <th>1</th>\n",
       "      <td>340007997</td>\n",
       "      <td>4888346</td>\n",
       "      <td>K</td>\n",
       "      <td>0</td>\n",
       "      <td>0</td>\n",
       "      <td>18488.0</td>\n",
       "      <td>F</td>\n",
       "      <td>BOCACCIO 544</td>\n",
       "      <td>LAS CONDES</td>\n",
       "      <td>SANTIAGO</td>\n",
       "      <td>2204262-   098740509</td>\n",
       "      <td>CO</td>\n",
       "      <td>42064.0</td>\n",
       "      <td>NaN</td>\n",
       "      <td>Cabrera Undurraga Maria</td>\n",
       "      <td>NaN</td>\n",
       "      <td>NaN</td>\n",
       "      <td>45351</td>\n",
       "    </tr>\n",
       "    <tr>\n",
       "      <th>2</th>\n",
       "      <td>340007997</td>\n",
       "      <td>5393043</td>\n",
       "      <td>3</td>\n",
       "      <td>0</td>\n",
       "      <td>0</td>\n",
       "      <td>17977.0</td>\n",
       "      <td>F</td>\n",
       "      <td>Los Fresnos 1355 Casa 2 Condominio La Llanura</td>\n",
       "      <td>HUECHURABA</td>\n",
       "      <td>SANTIAGO</td>\n",
       "      <td>56-2-22488062</td>\n",
       "      <td>CO</td>\n",
       "      <td>42064.0</td>\n",
       "      <td>NaN</td>\n",
       "      <td>Muñoz Garate Edith Margot</td>\n",
       "      <td>AMADORITURRIETA@GMAIL.COM</td>\n",
       "      <td>56992279688</td>\n",
       "      <td>45351</td>\n",
       "    </tr>\n",
       "    <tr>\n",
       "      <th>3</th>\n",
       "      <td>340007997</td>\n",
       "      <td>5473602</td>\n",
       "      <td>9</td>\n",
       "      <td>0</td>\n",
       "      <td>0</td>\n",
       "      <td>19138.0</td>\n",
       "      <td>F</td>\n",
       "      <td>AVENIDA FRANCISCO DE VILLAGRA 5824</td>\n",
       "      <td>LA REINA</td>\n",
       "      <td>SANTIAGO</td>\n",
       "      <td>NaN</td>\n",
       "      <td>CO</td>\n",
       "      <td>42064.0</td>\n",
       "      <td>NaN</td>\n",
       "      <td>Contreras Mendoza Patricia</td>\n",
       "      <td>NaN</td>\n",
       "      <td>NaN</td>\n",
       "      <td>45351</td>\n",
       "    </tr>\n",
       "    <tr>\n",
       "      <th>4</th>\n",
       "      <td>340006458</td>\n",
       "      <td>6410825</td>\n",
       "      <td>5</td>\n",
       "      <td>0</td>\n",
       "      <td>0</td>\n",
       "      <td>21158.0</td>\n",
       "      <td>F</td>\n",
       "      <td>MAIPU 470  DP 504</td>\n",
       "      <td>CONCEPCIÓN</td>\n",
       "      <td>NaN</td>\n",
       "      <td>235951</td>\n",
       "      <td>CO</td>\n",
       "      <td>41974.0</td>\n",
       "      <td>NaN</td>\n",
       "      <td>Delgado Muñoz Olivia</td>\n",
       "      <td>docampo@udec.cl</td>\n",
       "      <td>NaN</td>\n",
       "      <td>45535</td>\n",
       "    </tr>\n",
       "  </tbody>\n",
       "</table>\n",
       "</div>"
      ],
      "text/plain": [
       "      POLIZA  RUTASEGURADO DV  RUTBENEFICIARIO RUTBENEFIARIO_DV     FNAC SEXO  \\\n",
       "0  340007997       3391629  9                0                0  13707.0    F   \n",
       "1  340007997       4888346  K                0                0  18488.0    F   \n",
       "2  340007997       5393043  3                0                0  17977.0    F   \n",
       "3  340007997       5473602  9                0                0  19138.0    F   \n",
       "4  340006458       6410825  5                0                0  21158.0    F   \n",
       "\n",
       "                                        DIRECCION      COMUNA    CIUDAD  \\\n",
       "0                              EDUARDO ALERT 6229    LA REINA  SANTIAGO   \n",
       "1                                    BOCACCIO 544  LAS CONDES  SANTIAGO   \n",
       "2  Los Fresnos 1355 Casa 2 Condominio La Llanura   HUECHURABA  SANTIAGO   \n",
       "3            AVENIDA FRANCISCO DE VILLAGRA 5824      LA REINA  SANTIAGO   \n",
       "4                               MAIPU 470  DP 504  CONCEPCIÓN       NaN   \n",
       "\n",
       "               TELEFONO RELACION    DESDE  HASTA                       NOMBRE  \\\n",
       "0             965770703       CO  42064.0    NaN  Beltrán Martínez Ana Eliana   \n",
       "1  2204262-   098740509       CO  42064.0    NaN      Cabrera Undurraga Maria   \n",
       "2         56-2-22488062       CO  42064.0    NaN    Muñoz Garate Edith Margot   \n",
       "3                   NaN       CO  42064.0    NaN   Contreras Mendoza Patricia   \n",
       "4                235951       CO  41974.0    NaN         Delgado Muñoz Olivia   \n",
       "\n",
       "                       EMAIL   NROCELULAR  VIGENCIA  \n",
       "0   luarayabeltran@gmail.com    965770703     45351  \n",
       "1                        NaN          NaN     45351  \n",
       "2  AMADORITURRIETA@GMAIL.COM  56992279688     45351  \n",
       "3                        NaN          NaN     45351  \n",
       "4            docampo@udec.cl          NaN     45535  "
      ]
     },
     "execution_count": 181,
     "metadata": {},
     "output_type": "execute_result"
    }
   ],
   "source": [
    "rutsMetlife2.head()\n"
   ]
  },
  {
   "cell_type": "code",
   "execution_count": 182,
   "metadata": {
    "notebookRunGroups": {
     "groupValue": "12"
    }
   },
   "outputs": [
    {
     "data": {
      "text/plain": [
       "(744401, 6)"
      ]
     },
     "execution_count": 182,
     "metadata": {},
     "output_type": "execute_result"
    }
   ],
   "source": [
    "rutsMetlife = rutsMetlife2[\n",
    "    [\n",
    "        \"POLIZA\",\n",
    "        \"RUTASEGURADO\",\n",
    "        \"DV\",\n",
    "        \"RUTBENEFICIARIO\",\n",
    "        \"RUTBENEFIARIO_DV\",\n",
    "        \"RELACION\",\n",
    "    ]\n",
    "]\n",
    "rutsMetlife.shape"
   ]
  },
  {
   "cell_type": "code",
   "execution_count": 183,
   "metadata": {},
   "outputs": [],
   "source": [
    "def siPrimerCero(y):\n",
    "    if len(y) == 2:\n",
    "        if y[0] == \"0\":\n",
    "            y = y[1:]\n",
    "    return y"
   ]
  },
  {
   "cell_type": "code",
   "execution_count": 184,
   "metadata": {},
   "outputs": [
    {
     "data": {
      "text/html": [
       "<div>\n",
       "<style scoped>\n",
       "    .dataframe tbody tr th:only-of-type {\n",
       "        vertical-align: middle;\n",
       "    }\n",
       "\n",
       "    .dataframe tbody tr th {\n",
       "        vertical-align: top;\n",
       "    }\n",
       "\n",
       "    .dataframe thead th {\n",
       "        text-align: right;\n",
       "    }\n",
       "</style>\n",
       "<table border=\"1\" class=\"dataframe\">\n",
       "  <thead>\n",
       "    <tr style=\"text-align: right;\">\n",
       "      <th></th>\n",
       "      <th>POLIZA</th>\n",
       "      <th>RUTASEGURADO</th>\n",
       "      <th>DV</th>\n",
       "      <th>RUTBENEFICIARIO</th>\n",
       "      <th>RUTBENEFIARIO_DV</th>\n",
       "      <th>RELACION</th>\n",
       "    </tr>\n",
       "  </thead>\n",
       "  <tbody>\n",
       "    <tr>\n",
       "      <th>0</th>\n",
       "      <td>340007997</td>\n",
       "      <td>3391629</td>\n",
       "      <td>9</td>\n",
       "      <td>0</td>\n",
       "      <td>0</td>\n",
       "      <td>CO</td>\n",
       "    </tr>\n",
       "    <tr>\n",
       "      <th>1</th>\n",
       "      <td>340007997</td>\n",
       "      <td>4888346</td>\n",
       "      <td>K</td>\n",
       "      <td>0</td>\n",
       "      <td>0</td>\n",
       "      <td>CO</td>\n",
       "    </tr>\n",
       "    <tr>\n",
       "      <th>2</th>\n",
       "      <td>340007997</td>\n",
       "      <td>5393043</td>\n",
       "      <td>3</td>\n",
       "      <td>0</td>\n",
       "      <td>0</td>\n",
       "      <td>CO</td>\n",
       "    </tr>\n",
       "    <tr>\n",
       "      <th>3</th>\n",
       "      <td>340007997</td>\n",
       "      <td>5473602</td>\n",
       "      <td>9</td>\n",
       "      <td>0</td>\n",
       "      <td>0</td>\n",
       "      <td>CO</td>\n",
       "    </tr>\n",
       "    <tr>\n",
       "      <th>4</th>\n",
       "      <td>340006458</td>\n",
       "      <td>6410825</td>\n",
       "      <td>5</td>\n",
       "      <td>0</td>\n",
       "      <td>0</td>\n",
       "      <td>CO</td>\n",
       "    </tr>\n",
       "  </tbody>\n",
       "</table>\n",
       "</div>"
      ],
      "text/plain": [
       "      POLIZA  RUTASEGURADO DV  RUTBENEFICIARIO RUTBENEFIARIO_DV RELACION\n",
       "0  340007997       3391629  9                0                0       CO\n",
       "1  340007997       4888346  K                0                0       CO\n",
       "2  340007997       5393043  3                0                0       CO\n",
       "3  340007997       5473602  9                0                0       CO\n",
       "4  340006458       6410825  5                0                0       CO"
      ]
     },
     "execution_count": 184,
     "metadata": {},
     "output_type": "execute_result"
    }
   ],
   "source": [
    "rutsMetlife.head()"
   ]
  },
  {
   "cell_type": "code",
   "execution_count": 185,
   "metadata": {},
   "outputs": [
    {
     "name": "stderr",
     "output_type": "stream",
     "text": [
      "C:\\Users\\jmartinez\\AppData\\Local\\Temp\\ipykernel_1080\\3045764418.py:1: SettingWithCopyWarning: \n",
      "A value is trying to be set on a copy of a slice from a DataFrame.\n",
      "Try using .loc[row_indexer,col_indexer] = value instead\n",
      "\n",
      "See the caveats in the documentation: https://pandas.pydata.org/pandas-docs/stable/user_guide/indexing.html#returning-a-view-versus-a-copy\n",
      "  rutsMetlife[\"RUTBENEFIARIO_DV\"] = rutsMetlife[\"RUTBENEFIARIO_DV\"].astype(str).astype(str).apply(lambda y: siPrimerCero(y))\n"
     ]
    },
    {
     "data": {
      "text/html": [
       "<div>\n",
       "<style scoped>\n",
       "    .dataframe tbody tr th:only-of-type {\n",
       "        vertical-align: middle;\n",
       "    }\n",
       "\n",
       "    .dataframe tbody tr th {\n",
       "        vertical-align: top;\n",
       "    }\n",
       "\n",
       "    .dataframe thead th {\n",
       "        text-align: right;\n",
       "    }\n",
       "</style>\n",
       "<table border=\"1\" class=\"dataframe\">\n",
       "  <thead>\n",
       "    <tr style=\"text-align: right;\">\n",
       "      <th></th>\n",
       "      <th>POLIZA</th>\n",
       "      <th>RUTASEGURADO</th>\n",
       "      <th>DV</th>\n",
       "      <th>RUTBENEFICIARIO</th>\n",
       "      <th>RUTBENEFIARIO_DV</th>\n",
       "      <th>RELACION</th>\n",
       "    </tr>\n",
       "  </thead>\n",
       "  <tbody>\n",
       "    <tr>\n",
       "      <th>0</th>\n",
       "      <td>340007997</td>\n",
       "      <td>3391629</td>\n",
       "      <td>9</td>\n",
       "      <td>0</td>\n",
       "      <td>0</td>\n",
       "      <td>CO</td>\n",
       "    </tr>\n",
       "    <tr>\n",
       "      <th>1</th>\n",
       "      <td>340007997</td>\n",
       "      <td>4888346</td>\n",
       "      <td>K</td>\n",
       "      <td>0</td>\n",
       "      <td>0</td>\n",
       "      <td>CO</td>\n",
       "    </tr>\n",
       "    <tr>\n",
       "      <th>2</th>\n",
       "      <td>340007997</td>\n",
       "      <td>5393043</td>\n",
       "      <td>3</td>\n",
       "      <td>0</td>\n",
       "      <td>0</td>\n",
       "      <td>CO</td>\n",
       "    </tr>\n",
       "    <tr>\n",
       "      <th>3</th>\n",
       "      <td>340007997</td>\n",
       "      <td>5473602</td>\n",
       "      <td>9</td>\n",
       "      <td>0</td>\n",
       "      <td>0</td>\n",
       "      <td>CO</td>\n",
       "    </tr>\n",
       "    <tr>\n",
       "      <th>4</th>\n",
       "      <td>340006458</td>\n",
       "      <td>6410825</td>\n",
       "      <td>5</td>\n",
       "      <td>0</td>\n",
       "      <td>0</td>\n",
       "      <td>CO</td>\n",
       "    </tr>\n",
       "  </tbody>\n",
       "</table>\n",
       "</div>"
      ],
      "text/plain": [
       "      POLIZA  RUTASEGURADO DV  RUTBENEFICIARIO RUTBENEFIARIO_DV RELACION\n",
       "0  340007997       3391629  9                0                0       CO\n",
       "1  340007997       4888346  K                0                0       CO\n",
       "2  340007997       5393043  3                0                0       CO\n",
       "3  340007997       5473602  9                0                0       CO\n",
       "4  340006458       6410825  5                0                0       CO"
      ]
     },
     "execution_count": 185,
     "metadata": {},
     "output_type": "execute_result"
    }
   ],
   "source": [
    "\n",
    "rutsMetlife[\"RUTBENEFIARIO_DV\"] = rutsMetlife[\"RUTBENEFIARIO_DV\"].astype(str).astype(str).apply(lambda y: siPrimerCero(y))\n",
    "rutsMetlife.head()"
   ]
  },
  {
   "cell_type": "code",
   "execution_count": 186,
   "metadata": {
    "notebookRunGroups": {
     "groupValue": "12"
    }
   },
   "outputs": [
    {
     "name": "stderr",
     "output_type": "stream",
     "text": [
      "C:\\Users\\jmartinez\\AppData\\Local\\Temp\\ipykernel_1080\\683568310.py:1: SettingWithCopyWarning: \n",
      "A value is trying to be set on a copy of a slice from a DataFrame.\n",
      "Try using .loc[row_indexer,col_indexer] = value instead\n",
      "\n",
      "See the caveats in the documentation: https://pandas.pydata.org/pandas-docs/stable/user_guide/indexing.html#returning-a-view-versus-a-copy\n",
      "  rutsMetlife[\"Relación\"] = rutsMetlife[\"RELACION\"].astype(str)\n",
      "C:\\Users\\jmartinez\\AppData\\Local\\Temp\\ipykernel_1080\\683568310.py:2: SettingWithCopyWarning: \n",
      "A value is trying to be set on a copy of a slice from a DataFrame.\n",
      "Try using .loc[row_indexer,col_indexer] = value instead\n",
      "\n",
      "See the caveats in the documentation: https://pandas.pydata.org/pandas-docs/stable/user_guide/indexing.html#returning-a-view-versus-a-copy\n",
      "  rutsMetlife[\"Relación\"] = np.where(rutsMetlife[\"Relación\"]== \"AS\",\"Titular\", \"Carga\")\n",
      "C:\\Users\\jmartinez\\AppData\\Local\\Temp\\ipykernel_1080\\683568310.py:9: FutureWarning: The default value of regex will change from True to False in a future version. In addition, single character regular expressions will *not* be treated as literal strings when regex=True.\n",
      "  rutsMetlife[\"Poliza\"] = rutsMetlife[\"Poliza\"].str.replace(\".\", \"\")\n",
      "C:\\Users\\jmartinez\\AppData\\Local\\Temp\\ipykernel_1080\\683568310.py:19: FutureWarning: The default value of regex will change from True to False in a future version. In addition, single character regular expressions will *not* be treated as literal strings when regex=True.\n",
      "  rutsMetlife[\"dv_asegurado\"] = rutsMetlife[\"dv_asegurado\"].str.replace(\".\", \"\")\n",
      "C:\\Users\\jmartinez\\AppData\\Local\\Temp\\ipykernel_1080\\683568310.py:29: FutureWarning: The default value of regex will change from True to False in a future version. In addition, single character regular expressions will *not* be treated as literal strings when regex=True.\n",
      "  rutsMetlife[\"Rut_Titular\"] = rutsMetlife[\"Rut_Titular\"].str.replace(\".\", \"\")\n",
      "C:\\Users\\jmartinez\\AppData\\Local\\Temp\\ipykernel_1080\\683568310.py:39: FutureWarning: The default value of regex will change from True to False in a future version. In addition, single character regular expressions will *not* be treated as literal strings when regex=True.\n",
      "  rutsMetlife[\"dv_Beneficiario\"] = rutsMetlife[\"dv_Beneficiario\"].str.replace(\".\", \"\")\n",
      "C:\\Users\\jmartinez\\AppData\\Local\\Temp\\ipykernel_1080\\683568310.py:49: FutureWarning: The default value of regex will change from True to False in a future version. In addition, single character regular expressions will *not* be treated as literal strings when regex=True.\n",
      "  rutsMetlife[\"Rut_Beneficiario\"] = rutsMetlife[\"Rut_Beneficiario\"].str.replace(\".\", \"\")\n"
     ]
    },
    {
     "data": {
      "text/plain": [
       "(303017, 13)"
      ]
     },
     "execution_count": 186,
     "metadata": {},
     "output_type": "execute_result"
    }
   ],
   "source": [
    "\n",
    "rutsMetlife[\"Relación\"] = rutsMetlife[\"RELACION\"].astype(str)\n",
    "rutsMetlife[\"Relación\"] = np.where(rutsMetlife[\"Relación\"]== \"AS\",\"Titular\", \"Carga\")\n",
    "rutsMetlife = rutsMetlife[rutsMetlife[\"Relación\"]==\"Titular\" ]\n",
    "\n",
    "rutsMetlife[\"Poliza\"] = rutsMetlife[\"POLIZA\"].astype(int).astype(str)\n",
    "rutsMetlife[\"Poliza\"] = rutsMetlife[\"Poliza\"].str.replace(\"-\", \"\")\n",
    "rutsMetlife[\"Poliza\"] = rutsMetlife[\"Poliza\"].str.replace(\"–\", \"\")\n",
    "rutsMetlife[\"Poliza\"] = rutsMetlife[\"Poliza\"].astype(str)\n",
    "rutsMetlife[\"Poliza\"] = rutsMetlife[\"Poliza\"].str.replace(\".\", \"\")\n",
    "rutsMetlife[\"Poliza\"] = rutsMetlife[\"Poliza\"].str.replace(\" \", \"\")\n",
    "rutsMetlife[\"Poliza\"] = rutsMetlife[\"Poliza\"].str.upper()\n",
    "rutsMetlife[\"Poliza\"] = rutsMetlife[\"Poliza\"].str.strip()\n",
    "\n",
    "rutsMetlife[\"dv_asegurado\"] = rutsMetlife[\"DV\"].astype(str).apply(lambda y: siPrimerCero(y)) \n",
    "#rutsMetlife[\"Rut_Titular\"] = rutsMetlife[\"Rut_Titular\"].astype(str)\n",
    "rutsMetlife[\"dv_asegurado\"] = rutsMetlife[\"dv_asegurado\"].str.replace(\"-\", \"\")\n",
    "rutsMetlife[\"dv_asegurado\"] = rutsMetlife[\"dv_asegurado\"].str.replace(\"–\", \"\")\n",
    "rutsMetlife[\"dv_asegurado\"] = rutsMetlife[\"dv_asegurado\"].astype(str)\n",
    "rutsMetlife[\"dv_asegurado\"] = rutsMetlife[\"dv_asegurado\"].str.replace(\".\", \"\")\n",
    "rutsMetlife[\"dv_asegurado\"] = rutsMetlife[\"dv_asegurado\"].str.replace(\" \", \"\")\n",
    "rutsMetlife[\"dv_asegurado\"] = rutsMetlife[\"dv_asegurado\"].str.upper()\n",
    "rutsMetlife[\"dv_asegurado\"] = rutsMetlife[\"dv_asegurado\"].str.strip()\n",
    "\n",
    "rutsMetlife[\"Rut_Titular\"] = rutsMetlife[\"RUTASEGURADO\"].astype(str).apply(lambda y: siPrimerCero(y)) \n",
    "#rutsMetlife[\"Rut_Titular\"] = rutsMetlife[\"Rut_Titular\"].astype(str).apply(lambda y: siPrimerCero(y)) \n",
    "rutsMetlife[\"Rut_Titular\"] = rutsMetlife[\"Rut_Titular\"].str.replace(\"-\", \"\")\n",
    "rutsMetlife[\"Rut_Titular\"] = rutsMetlife[\"Rut_Titular\"].str.replace(\"–\", \"\")\n",
    "rutsMetlife[\"Rut_Titular\"] = rutsMetlife[\"Rut_Titular\"].astype(str)\n",
    "rutsMetlife[\"Rut_Titular\"] = rutsMetlife[\"Rut_Titular\"].str.replace(\".\", \"\")\n",
    "rutsMetlife[\"Rut_Titular\"] = rutsMetlife[\"Rut_Titular\"].str.replace(\" \", \"\")\n",
    "rutsMetlife[\"Rut_Titular\"] = rutsMetlife[\"Rut_Titular\"].str.upper()\n",
    "rutsMetlife[\"Rut_Titular\"] = rutsMetlife[\"Rut_Titular\"].str.strip()\n",
    "\n",
    "rutsMetlife[\"dv_Beneficiario\"] = rutsMetlife[\"RUTBENEFIARIO_DV\"].astype(str).apply(lambda y: siPrimerCero(y))\n",
    "#rutsMetlife[\"Rut_Beneficiario\"] = rutsMetlife[\"Rut_Beneficiario\"].astype(str)\n",
    "rutsMetlife[\"dv_Beneficiario\"] = rutsMetlife[\"dv_Beneficiario\"].str.replace(\"-\", \"\")\n",
    "rutsMetlife[\"dv_Beneficiario\"] = rutsMetlife[\"dv_Beneficiario\"].str.replace(\"–\", \"\")\n",
    "rutsMetlife[\"dv_Beneficiario\"] = rutsMetlife[\"dv_Beneficiario\"].astype(str)\n",
    "rutsMetlife[\"dv_Beneficiario\"] = rutsMetlife[\"dv_Beneficiario\"].str.replace(\".\", \"\")\n",
    "rutsMetlife[\"dv_Beneficiario\"] = rutsMetlife[\"dv_Beneficiario\"].str.replace(\" \", \"\")\n",
    "rutsMetlife[\"dv_Beneficiario\"] = rutsMetlife[\"dv_Beneficiario\"].str.upper()\n",
    "rutsMetlife[\"dv_Beneficiario\"] = rutsMetlife[\"dv_Beneficiario\"].str.strip()\n",
    "\n",
    "rutsMetlife[\"Rut_Beneficiario\"] = rutsMetlife[\"RUTBENEFICIARIO\"].astype(int).astype(str).apply(lambda y: siPrimerCero(y))\n",
    "#rutsMetlife[\"Rut_Beneficiario\"] = rutsMetlife[\"Rut_Beneficiario\"].astype(str)\n",
    "rutsMetlife[\"Rut_Beneficiario\"] = rutsMetlife[\"Rut_Beneficiario\"].str.replace(\"-\", \"\")\n",
    "rutsMetlife[\"Rut_Beneficiario\"] = rutsMetlife[\"Rut_Beneficiario\"].str.replace(\"–\", \"\")\n",
    "rutsMetlife[\"Rut_Beneficiario\"] = rutsMetlife[\"Rut_Beneficiario\"].astype(str)\n",
    "rutsMetlife[\"Rut_Beneficiario\"] = rutsMetlife[\"Rut_Beneficiario\"].str.replace(\".\", \"\")\n",
    "rutsMetlife[\"Rut_Beneficiario\"] = rutsMetlife[\"Rut_Beneficiario\"].str.replace(\" \", \"\")\n",
    "rutsMetlife[\"Rut_Beneficiario\"] = rutsMetlife[\"Rut_Beneficiario\"].str.upper()\n",
    "rutsMetlife[\"Rut_Beneficiario\"] = rutsMetlife[\"Rut_Beneficiario\"].str.strip()\n",
    "\n",
    "rutsMetlife[\"Rut_Beneficiario\"] = rutsMetlife[\"Rut_Beneficiario\"] + rutsMetlife[\"dv_Beneficiario\"]\n",
    "rutsMetlife[\"Rut_Titular\"] = rutsMetlife[\"Rut_Titular\"] + rutsMetlife[\"dv_asegurado\"]\n",
    "\n",
    "\n",
    "#Subir_pacientes[Subir_pacientes[\"RutEstaoNo\"] == True]\n",
    "\n",
    "\n",
    "#rutsMetlife[\"llave\"] = rutsMetlife[\"Poliza\"] + rutsMetlife[\"Rut_Titular\"] + rutsMetlife[\"Rut_Beneficiario\"]\n",
    "rutsMetlife[\"llave\"] = rutsMetlife[\"Rut_Titular\"] + rutsMetlife[\"Rut_Beneficiario\"]\n",
    "\n",
    "\"\"\" rutsMetlife = rutsMetlife[\n",
    "    [\"Poliza\",\t\"Rut_Titular\",\t\"Rut_Beneficiario\",\t\"Relación\",\"llave\",\n",
    "       \n",
    "    ]\n",
    "] \"\"\"\n",
    "rutsMetlife = rutsMetlife.drop_duplicates(\n",
    "    [\n",
    "        \"llave\",\t\n",
    "    ],\n",
    "    keep=\"last\",\n",
    ")\n",
    "rutsMetlife.shape"
   ]
  },
  {
   "cell_type": "code",
   "execution_count": 187,
   "metadata": {},
   "outputs": [
    {
     "data": {
      "text/html": [
       "<div>\n",
       "<style scoped>\n",
       "    .dataframe tbody tr th:only-of-type {\n",
       "        vertical-align: middle;\n",
       "    }\n",
       "\n",
       "    .dataframe tbody tr th {\n",
       "        vertical-align: top;\n",
       "    }\n",
       "\n",
       "    .dataframe thead th {\n",
       "        text-align: right;\n",
       "    }\n",
       "</style>\n",
       "<table border=\"1\" class=\"dataframe\">\n",
       "  <thead>\n",
       "    <tr style=\"text-align: right;\">\n",
       "      <th></th>\n",
       "      <th>POLIZA</th>\n",
       "      <th>RUTASEGURADO</th>\n",
       "      <th>DV</th>\n",
       "      <th>RUTBENEFICIARIO</th>\n",
       "      <th>RUTBENEFIARIO_DV</th>\n",
       "      <th>RELACION</th>\n",
       "      <th>Relación</th>\n",
       "      <th>Poliza</th>\n",
       "      <th>dv_asegurado</th>\n",
       "      <th>Rut_Titular</th>\n",
       "      <th>dv_Beneficiario</th>\n",
       "      <th>Rut_Beneficiario</th>\n",
       "      <th>llave</th>\n",
       "    </tr>\n",
       "  </thead>\n",
       "  <tbody>\n",
       "    <tr>\n",
       "      <th>2103</th>\n",
       "      <td>340006458</td>\n",
       "      <td>12345</td>\n",
       "      <td>5</td>\n",
       "      <td>12345</td>\n",
       "      <td>5</td>\n",
       "      <td>AS</td>\n",
       "      <td>Titular</td>\n",
       "      <td>340006458</td>\n",
       "      <td>5</td>\n",
       "      <td>123455</td>\n",
       "      <td>5</td>\n",
       "      <td>123455</td>\n",
       "      <td>123455123455</td>\n",
       "    </tr>\n",
       "    <tr>\n",
       "      <th>2116</th>\n",
       "      <td>340020148</td>\n",
       "      <td>1039122</td>\n",
       "      <td>9</td>\n",
       "      <td>1039122</td>\n",
       "      <td>9</td>\n",
       "      <td>AS</td>\n",
       "      <td>Titular</td>\n",
       "      <td>340020148</td>\n",
       "      <td>9</td>\n",
       "      <td>10391229</td>\n",
       "      <td>9</td>\n",
       "      <td>10391229</td>\n",
       "      <td>1039122910391229</td>\n",
       "    </tr>\n",
       "    <tr>\n",
       "      <th>2121</th>\n",
       "      <td>340024778</td>\n",
       "      <td>1446411</td>\n",
       "      <td>5</td>\n",
       "      <td>1446411</td>\n",
       "      <td>5</td>\n",
       "      <td>AS</td>\n",
       "      <td>Titular</td>\n",
       "      <td>340024778</td>\n",
       "      <td>5</td>\n",
       "      <td>14464115</td>\n",
       "      <td>5</td>\n",
       "      <td>14464115</td>\n",
       "      <td>1446411514464115</td>\n",
       "    </tr>\n",
       "    <tr>\n",
       "      <th>2125</th>\n",
       "      <td>340006130</td>\n",
       "      <td>1543124</td>\n",
       "      <td>5</td>\n",
       "      <td>1543124</td>\n",
       "      <td>5</td>\n",
       "      <td>AS</td>\n",
       "      <td>Titular</td>\n",
       "      <td>340006130</td>\n",
       "      <td>5</td>\n",
       "      <td>15431245</td>\n",
       "      <td>5</td>\n",
       "      <td>15431245</td>\n",
       "      <td>1543124515431245</td>\n",
       "    </tr>\n",
       "    <tr>\n",
       "      <th>2128</th>\n",
       "      <td>340011238</td>\n",
       "      <td>1701221</td>\n",
       "      <td>5</td>\n",
       "      <td>1701221</td>\n",
       "      <td>5</td>\n",
       "      <td>AS</td>\n",
       "      <td>Titular</td>\n",
       "      <td>340011238</td>\n",
       "      <td>5</td>\n",
       "      <td>17012215</td>\n",
       "      <td>5</td>\n",
       "      <td>17012215</td>\n",
       "      <td>1701221517012215</td>\n",
       "    </tr>\n",
       "  </tbody>\n",
       "</table>\n",
       "</div>"
      ],
      "text/plain": [
       "         POLIZA  RUTASEGURADO DV  RUTBENEFICIARIO RUTBENEFIARIO_DV RELACION  \\\n",
       "2103  340006458         12345  5            12345                5       AS   \n",
       "2116  340020148       1039122  9          1039122                9       AS   \n",
       "2121  340024778       1446411  5          1446411                5       AS   \n",
       "2125  340006130       1543124  5          1543124                5       AS   \n",
       "2128  340011238       1701221  5          1701221                5       AS   \n",
       "\n",
       "     Relación     Poliza dv_asegurado Rut_Titular dv_Beneficiario  \\\n",
       "2103  Titular  340006458            5      123455               5   \n",
       "2116  Titular  340020148            9    10391229               9   \n",
       "2121  Titular  340024778            5    14464115               5   \n",
       "2125  Titular  340006130            5    15431245               5   \n",
       "2128  Titular  340011238            5    17012215               5   \n",
       "\n",
       "     Rut_Beneficiario             llave  \n",
       "2103           123455      123455123455  \n",
       "2116         10391229  1039122910391229  \n",
       "2121         14464115  1446411514464115  \n",
       "2125         15431245  1543124515431245  \n",
       "2128         17012215  1701221517012215  "
      ]
     },
     "execution_count": 187,
     "metadata": {},
     "output_type": "execute_result"
    }
   ],
   "source": [
    "rutsMetlife.head()"
   ]
  },
  {
   "cell_type": "code",
   "execution_count": 188,
   "metadata": {
    "notebookRunGroups": {
     "groupValue": "1"
    }
   },
   "outputs": [],
   "source": [
    "\n",
    "#ruts_metlife = rutsMetlife\n",
    "rutsMetlife = rutsMetlife.sort_values(by=\"llave\", ascending = True)\n",
    "#rutsMetlife.to_excel(\"F:/martin/MetLife SFTP/Titulares unicos Metlife.xlsx\", index=False)"
   ]
  },
  {
   "cell_type": "code",
   "execution_count": 189,
   "metadata": {},
   "outputs": [
    {
     "name": "stderr",
     "output_type": "stream",
     "text": [
      "100%|██████████| 1/1 [02:01<00:00, 121.13s/it]\n"
     ]
    }
   ],
   "source": [
    "query_empresacontactoconvenio = (\n",
    "    \"select N_Documento_Titular__c,Paciente__r.IdentificationId__pc from EmpresaContactoConvenios__c where Empresa__r.Campa_a__c = 'MetLife' and Relaci_n_Con_Asegurado__c = 'Titular' and Convenio_Activo__c = true \"\n",
    "    \n",
    ")\n",
    "\n",
    "\n",
    "#and Convenio_Activo__c = true \n",
    "empresacontactoconvenio = sf.smart_query(query_empresacontactoconvenio)\n",
    "#empresacontactoconvenio.\n",
    "\n",
    "#empresacontactoconvenio = rutsMetlife"
   ]
  },
  {
   "cell_type": "code",
   "execution_count": null,
   "metadata": {},
   "outputs": [],
   "source": [
    "\"\"\" ruts = \"F:/martin/MetLife SFTP/derty_metlife_diciembre.xlsx\"\n",
    "rutsMetlife = pd.read_excel(ruts)\n",
    "\n",
    "rutsMetlife[\"Relación\"] = rutsMetlife[\"RELACION\"].astype(str)\n",
    "rutsMetlife[\"Relación\"] = np.where(rutsMetlife[\"Relación\"]== \"AS\",\"Titular\", \"Carga\")\n",
    "rutsMetlife = rutsMetlife[rutsMetlife[\"Relación\"]==\"Titular\" ]\n",
    "\n",
    "rutsMetlife[\"Poliza\"] = rutsMetlife[\"POLIZA\"].astype(int).astype(str)\n",
    "rutsMetlife[\"Poliza\"] = rutsMetlife[\"Poliza\"].str.replace(\"-\", \"\")\n",
    "rutsMetlife[\"Poliza\"] = rutsMetlife[\"Poliza\"].str.replace(\"–\", \"\")\n",
    "rutsMetlife[\"Poliza\"] = rutsMetlife[\"Poliza\"].astype(str)\n",
    "rutsMetlife[\"Poliza\"] = rutsMetlife[\"Poliza\"].str.replace(\".\", \"\")\n",
    "rutsMetlife[\"Poliza\"] = rutsMetlife[\"Poliza\"].str.replace(\" \", \"\")\n",
    "rutsMetlife[\"Poliza\"] = rutsMetlife[\"Poliza\"].str.upper()\n",
    "rutsMetlife[\"Poliza\"] = rutsMetlife[\"Poliza\"].str.strip()\n",
    "\n",
    "rutsMetlife[\"dv_asegurado\"] = rutsMetlife[\"DV\"].astype(str).apply(lambda y: siPrimerCero(y)) \n",
    "#rutsMetlife[\"Rut_Titular\"] = rutsMetlife[\"Rut_Titular\"].astype(str)\n",
    "rutsMetlife[\"dv_asegurado\"] = rutsMetlife[\"dv_asegurado\"].str.replace(\"-\", \"\")\n",
    "rutsMetlife[\"dv_asegurado\"] = rutsMetlife[\"dv_asegurado\"].str.replace(\"–\", \"\")\n",
    "rutsMetlife[\"dv_asegurado\"] = rutsMetlife[\"dv_asegurado\"].astype(str)\n",
    "rutsMetlife[\"dv_asegurado\"] = rutsMetlife[\"dv_asegurado\"].str.replace(\".\", \"\")\n",
    "rutsMetlife[\"dv_asegurado\"] = rutsMetlife[\"dv_asegurado\"].str.replace(\" \", \"\")\n",
    "rutsMetlife[\"dv_asegurado\"] = rutsMetlife[\"dv_asegurado\"].str.upper()\n",
    "rutsMetlife[\"dv_asegurado\"] = rutsMetlife[\"dv_asegurado\"].str.strip()\n",
    "\n",
    "rutsMetlife[\"Rut_Titular\"] = rutsMetlife[\"RUTASEGURADO\"].astype(str).apply(lambda y: siPrimerCero(y)) \n",
    "#rutsMetlife[\"Rut_Titular\"] = rutsMetlife[\"Rut_Titular\"].astype(str).apply(lambda y: siPrimerCero(y)) \n",
    "rutsMetlife[\"Rut_Titular\"] = rutsMetlife[\"Rut_Titular\"].str.replace(\"-\", \"\")\n",
    "rutsMetlife[\"Rut_Titular\"] = rutsMetlife[\"Rut_Titular\"].str.replace(\"–\", \"\")\n",
    "rutsMetlife[\"Rut_Titular\"] = rutsMetlife[\"Rut_Titular\"].astype(str)\n",
    "rutsMetlife[\"Rut_Titular\"] = rutsMetlife[\"Rut_Titular\"].str.replace(\".\", \"\")\n",
    "rutsMetlife[\"Rut_Titular\"] = rutsMetlife[\"Rut_Titular\"].str.replace(\" \", \"\")\n",
    "rutsMetlife[\"Rut_Titular\"] = rutsMetlife[\"Rut_Titular\"].str.upper()\n",
    "rutsMetlife[\"Rut_Titular\"] = rutsMetlife[\"Rut_Titular\"].str.strip()\n",
    "\n",
    "rutsMetlife[\"dv_Beneficiario\"] = rutsMetlife[\"RUTBENEFIARIO_DV\"].astype(str).apply(lambda y: siPrimerCero(y))\n",
    "#rutsMetlife[\"Rut_Beneficiario\"] = rutsMetlife[\"Rut_Beneficiario\"].astype(str)\n",
    "rutsMetlife[\"dv_Beneficiario\"] = rutsMetlife[\"dv_Beneficiario\"].str.replace(\"-\", \"\")\n",
    "rutsMetlife[\"dv_Beneficiario\"] = rutsMetlife[\"dv_Beneficiario\"].str.replace(\"–\", \"\")\n",
    "rutsMetlife[\"dv_Beneficiario\"] = rutsMetlife[\"dv_Beneficiario\"].astype(str)\n",
    "rutsMetlife[\"dv_Beneficiario\"] = rutsMetlife[\"dv_Beneficiario\"].str.replace(\".\", \"\")\n",
    "rutsMetlife[\"dv_Beneficiario\"] = rutsMetlife[\"dv_Beneficiario\"].str.replace(\" \", \"\")\n",
    "rutsMetlife[\"dv_Beneficiario\"] = rutsMetlife[\"dv_Beneficiario\"].str.upper()\n",
    "rutsMetlife[\"dv_Beneficiario\"] = rutsMetlife[\"dv_Beneficiario\"].str.strip()\n",
    "\n",
    "rutsMetlife[\"Rut_Beneficiario\"] = rutsMetlife[\"RUTBENEFICIARIO\"].astype(int).astype(str).apply(lambda y: siPrimerCero(y))\n",
    "#rutsMetlife[\"Rut_Beneficiario\"] = rutsMetlife[\"Rut_Beneficiario\"].astype(str)\n",
    "rutsMetlife[\"Rut_Beneficiario\"] = rutsMetlife[\"Rut_Beneficiario\"].str.replace(\"-\", \"\")\n",
    "rutsMetlife[\"Rut_Beneficiario\"] = rutsMetlife[\"Rut_Beneficiario\"].str.replace(\"–\", \"\")\n",
    "rutsMetlife[\"Rut_Beneficiario\"] = rutsMetlife[\"Rut_Beneficiario\"].astype(str)\n",
    "rutsMetlife[\"Rut_Beneficiario\"] = rutsMetlife[\"Rut_Beneficiario\"].str.replace(\".\", \"\")\n",
    "rutsMetlife[\"Rut_Beneficiario\"] = rutsMetlife[\"Rut_Beneficiario\"].str.replace(\" \", \"\")\n",
    "rutsMetlife[\"Rut_Beneficiario\"] = rutsMetlife[\"Rut_Beneficiario\"].str.upper()\n",
    "rutsMetlife[\"Rut_Beneficiario\"] = rutsMetlife[\"Rut_Beneficiario\"].str.strip()\n",
    "\n",
    "rutsMetlife[\"Rut_Beneficiario\"] = rutsMetlife[\"Rut_Beneficiario\"] + rutsMetlife[\"dv_Beneficiario\"]\n",
    "rutsMetlife[\"Rut_Titular\"] = rutsMetlife[\"Rut_Titular\"] + rutsMetlife[\"dv_asegurado\"]\n",
    "\n",
    "\n",
    "#Subir_pacientes[Subir_pacientes[\"RutEstaoNo\"] == True]\n",
    "\n",
    "\n",
    "#rutsMetlife[\"llave\"] = rutsMetlife[\"Poliza\"] + rutsMetlife[\"Rut_Titular\"] + rutsMetlife[\"Rut_Beneficiario\"]\n",
    "rutsMetlife[\"llave\"] = rutsMetlife[\"Rut_Titular\"] + rutsMetlife[\"Rut_Beneficiario\"]\n",
    "\n",
    "rutsMetlife = rutsMetlife[\n",
    "    [\"Poliza\",\t\"Rut_Titular\",\t\"Rut_Beneficiario\",\t\"Relación\",\"llave\",\n",
    "       \n",
    "    ]\n",
    "] \n",
    "rutsMetlife = rutsMetlife.drop_duplicates(\n",
    "    [\n",
    "        \"llave\",\t\n",
    "    ],\n",
    "    keep=\"last\",\n",
    ")\n",
    "rutsMetlife.shape\n",
    "\n",
    " \"\"\""
   ]
  },
  {
   "cell_type": "code",
   "execution_count": null,
   "metadata": {},
   "outputs": [],
   "source": [
    "\"\"\" empresacontactoconvenio[\"N_Documento_Titular__c\"] = empresacontactoconvenio[\"N_Documento_Titular__c\"].astype(str)\n",
    "empresacontactoconvenio[\"N_Documento_Titular__c\"] = empresacontactoconvenio[\"N_Documento_Titular__c\"].str.replace(\"-\", \"\")\n",
    "empresacontactoconvenio[\"N_Documento_Titular__c\"] = empresacontactoconvenio[\"N_Documento_Titular__c\"].str.replace(\"–\", \"\")\n",
    "empresacontactoconvenio[\"N_Documento_Titular__c\"] = empresacontactoconvenio[\"N_Documento_Titular__c\"].astype(str)\n",
    "empresacontactoconvenio[\"N_Documento_Titular__c\"] = empresacontactoconvenio[\"N_Documento_Titular__c\"].str.replace(\".\", \"\")\n",
    "empresacontactoconvenio[\"N_Documento_Titular__c\"] = empresacontactoconvenio[\"N_Documento_Titular__c\"].str.replace(\" \", \"\")\n",
    "empresacontactoconvenio[\"N_Documento_Titular__c\"] = empresacontactoconvenio[\"N_Documento_Titular__c\"].str.upper()\n",
    "empresacontactoconvenio[\"N_Documento_Titular__c\"] = empresacontactoconvenio[\"N_Documento_Titular__c\"].str.strip()\n",
    "\n",
    "empresacontactoconvenio[\"Paciente__r.IdentificationId__pc\"] = empresacontactoconvenio[\"Paciente__r.IdentificationId__pc\"].astype(str)\n",
    "empresacontactoconvenio[\"Paciente__r.IdentificationId__pc\"] = empresacontactoconvenio[\"Paciente__r.IdentificationId__pc\"].str.replace(\"-\", \"\")\n",
    "empresacontactoconvenio[\"Paciente__r.IdentificationId__pc\"] = empresacontactoconvenio[\"Paciente__r.IdentificationId__pc\"].str.replace(\"–\", \"\")\n",
    "empresacontactoconvenio[\"Paciente__r.IdentificationId__pc\"] = empresacontactoconvenio[\"Paciente__r.IdentificationId__pc\"].astype(str)\n",
    "empresacontactoconvenio[\"Paciente__r.IdentificationId__pc\"] = empresacontactoconvenio[\"Paciente__r.IdentificationId__pc\"].str.replace(\".\", \"\")\n",
    "empresacontactoconvenio[\"Paciente__r.IdentificationId__pc\"] = empresacontactoconvenio[\"Paciente__r.IdentificationId__pc\"].str.replace(\" \", \"\")\n",
    "empresacontactoconvenio[\"Paciente__r.IdentificationId__pc\"] = empresacontactoconvenio[\"Paciente__r.IdentificationId__pc\"].str.upper()\n",
    "empresacontactoconvenio[\"Paciente__r.IdentificationId__pc\"] = empresacontactoconvenio[\"Paciente__r.IdentificationId__pc\"].str.strip()\n",
    "\n",
    "empresacontactoconvenio.head() \"\"\""
   ]
  },
  {
   "cell_type": "code",
   "execution_count": 190,
   "metadata": {},
   "outputs": [
    {
     "data": {
      "text/plain": [
       "(338576, 3)"
      ]
     },
     "execution_count": 190,
     "metadata": {},
     "output_type": "execute_result"
    }
   ],
   "source": [
    "empresacontactoconvenio[\"llave\"] = empresacontactoconvenio[\"Paciente__r.IdentificationId__pc\"] + empresacontactoconvenio[\"N_Documento_Titular__c\"]\n",
    "empresacontactoconvenio = empresacontactoconvenio.drop_duplicates(\n",
    "    [\n",
    "        \"llave\",\t\n",
    "    ],\n",
    "    keep=\"last\",\n",
    ")\n",
    "empresacontactoconvenio.shape"
   ]
  },
  {
   "cell_type": "markdown",
   "metadata": {},
   "source": []
  },
  {
   "cell_type": "code",
   "execution_count": 191,
   "metadata": {},
   "outputs": [
    {
     "data": {
      "text/plain": [
       "(36365, 4)"
      ]
     },
     "execution_count": 191,
     "metadata": {},
     "output_type": "execute_result"
    }
   ],
   "source": [
    "empresacontactoconvenio[\"Esta\"] = empresacontactoconvenio[\"llave\"].isin(rutsMetlife[\"llave\"])\n",
    "empresacontactoconvenio = empresacontactoconvenio[empresacontactoconvenio[\"Esta\"]==False]\n",
    "#rutsMetlife = rutsMetlife[rutsMetlife[\"Relación\"]==\"Titular\" ]\n",
    "empresacontactoconvenio.shape"
   ]
  },
  {
   "cell_type": "code",
   "execution_count": 192,
   "metadata": {},
   "outputs": [],
   "source": [
    "\n",
    "empresacontactoconvenio.to_excel(\"F:/martin/MetLife SFTP/diferencia_36000.xlsx\", index=False) "
   ]
  },
  {
   "cell_type": "code",
   "execution_count": null,
   "metadata": {
    "notebookRunGroups": {
     "groupValue": "2"
    }
   },
   "outputs": [],
   "source": [
    "\"\"\" ruts_metlife = pd.concat([ruts_metlife, rutsMetlife], axis=0)\n",
    "ruts_metlife = ruts_metlife.drop_duplicates(\n",
    "    [\n",
    "        \"Poliza\",\"Rut_Titular\",\t\"Rut_Beneficiario\",\t\"Relación\",\n",
    "    ],\n",
    "    keep=\"last\",\n",
    ")\n",
    "ruts_metlife.shape \"\"\""
   ]
  },
  {
   "cell_type": "code",
   "execution_count": null,
   "metadata": {},
   "outputs": [],
   "source": [
    "\n",
    "\"\"\" reportes_metlife = \"C:/Users/jmartinez/Documents/Metlife_derty.xlsx\"\n",
    "reportes_metlife_fredy = pd.read_excel(reportes_metlife) \"\"\""
   ]
  },
  {
   "cell_type": "code",
   "execution_count": null,
   "metadata": {},
   "outputs": [],
   "source": [
    "\"\"\" reportes_metlife_fredy[\"llave\"] =  reportes_metlife_fredy[\"Rut\"]\n",
    "ruts_metlife[\"LLave\"] = ruts_metlife[\"Rut_Beneficiario\"]  \"\"\""
   ]
  },
  {
   "cell_type": "code",
   "execution_count": null,
   "metadata": {},
   "outputs": [],
   "source": [
    "\"\"\" reportes_metlife_fredy = pd.merge(\n",
    "    left=reportes_metlife_fredy,\n",
    "    right=ruts_metlife,\n",
    "    how=\"left\",\n",
    "    left_on=\"llave\",\n",
    "    right_on=\"LLave\",\n",
    ") \"\"\""
   ]
  },
  {
   "cell_type": "code",
   "execution_count": null,
   "metadata": {},
   "outputs": [],
   "source": [
    "\"\"\" reportes_metlife_fredy.head(5) \"\"\""
   ]
  },
  {
   "cell_type": "code",
   "execution_count": null,
   "metadata": {},
   "outputs": [],
   "source": [
    "#reportes_metlife_fredy.to_excel(\"C:/Users/jmartinez/Documents/reportes_metlife2.xlsx\", index=False)"
   ]
  }
 ],
 "metadata": {
  "kernelspec": {
   "display_name": "salesforce",
   "language": "python",
   "name": "python3"
  },
  "language_info": {
   "codemirror_mode": {
    "name": "ipython",
    "version": 3
   },
   "file_extension": ".py",
   "mimetype": "text/x-python",
   "name": "python",
   "nbconvert_exporter": "python",
   "pygments_lexer": "ipython3",
   "version": "3.8.16"
  }
 },
 "nbformat": 4,
 "nbformat_minor": 2
}
