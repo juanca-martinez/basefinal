{
 "cells": [
  {
   "cell_type": "code",
   "execution_count": 1,
   "metadata": {},
   "outputs": [
    {
     "data": {
      "text/plain": [
       "' sf = Salesforce(\\n    username=\"jmartinez@careassistance.com\",\\n    password=\"Jcmm01041983*\",\\n    security_token=\"dxbNevVOmgmoQS4Zllh3DpNDj\",\\n) '"
      ]
     },
     "execution_count": 1,
     "metadata": {},
     "output_type": "execute_result"
    }
   ],
   "source": [
    "from pathlib import Path\n",
    "import requests\n",
    "import pandas as pd\n",
    "import numpy as np\n",
    "from io import StringIO\n",
    "#from simple_salesforce import Salesforce\n",
    "#import shutil\n",
    "#import datetime\n",
    "#from datetime import date\n",
    "import json, re\n",
    "#from pathlib import Path\n",
    "#import pandas as pd\n",
    "#import numpy as np\n",
    "#from io import StringIO\n",
    "import shutil\n",
    "import datetime\n",
    "from datetime import datetime,date\n",
    "#import re\n",
    "#import json\n",
    "from pandas.api.types import is_numeric_dtype\n",
    "from simple_salesforce import Salesforce, format_soql, format_external_id\n",
    "from simple_salesforce.exceptions import SalesforceMalformedRequest\n",
    "import simpler_sf\n",
    "\n",
    "simpler_sf.simple_salesforce()\n",
    "\n",
    "\n",
    "\"\"\" sf = Salesforce(\n",
    "    username=\"jmartinez@careassistance.com\",\n",
    "    password=\"Jcmm01041983*\",\n",
    "    security_token=\"dxbNevVOmgmoQS4Zllh3DpNDj\",\n",
    ") \"\"\""
   ]
  },
  {
   "cell_type": "code",
   "execution_count": 2,
   "metadata": {},
   "outputs": [],
   "source": [
    "with open(\"../login.json\", \"r\") as j:\n",
    "    misDatos = json.load(j)"
   ]
  },
  {
   "cell_type": "code",
   "execution_count": 3,
   "metadata": {},
   "outputs": [],
   "source": [
    "# para smart query\n",
    "\"\"\" sf = simple_salesforce.Salesforce(\n",
    "    username=misDatos[\"username\"],\n",
    "    password=misDatos[\"password\"],\n",
    "    security_token=misDatos[\"security_token\"],\n",
    ")\n",
    " \"\"\"\n",
    "# para lo demas\n",
    "sf = Salesforce(\n",
    "    username=misDatos[\"username\"],\n",
    "    password=misDatos[\"password\"],\n",
    "    security_token=misDatos[\"security_token\"],\n",
    ")\n",
    "# paramiko.util.log_to_file(\"paramiko.log\")\n",
    "regex = re.compile(r\"([A-Za-z0-9]+[.-_])*[A-Za-z0-9]+@[A-Za-z0-9-]+(\\.[A-Z|a-z]{2,})+\")"
   ]
  },
  {
   "cell_type": "code",
   "execution_count": 4,
   "metadata": {},
   "outputs": [
    {
     "name": "stderr",
     "output_type": "stream",
     "text": [
      "100%|██████████| 1/1 [04:21<00:00, 261.84s/it]\n"
     ]
    }
   ],
   "source": [
    "query = \"SELECT Id,Empresa__c,Paciente__c, N_Documento_Titular__c,Relaci_n_Con_Asegurado__c,Paciente__r.IdentificationId__pc, Nombre_del_Paciente__c from EmpresaContactoConvenios__c\"\n",
    "#query2 = \"select P_liza__c, Nombre_de_Empresa__c,Identificador__c, Rut_Empresa__c, Empresa_Padre__r.Name, Empresa__r.name,Holding__c, Plan__c, Pais__c, Activo__c, Id from Datos_Empresa__c \"\n",
    "\n",
    "df2 = sf.smart_query(query)"
   ]
  },
  {
   "cell_type": "code",
   "execution_count": 5,
   "metadata": {},
   "outputs": [
    {
     "data": {
      "text/plain": [
       "(1312720, 7)"
      ]
     },
     "execution_count": 5,
     "metadata": {},
     "output_type": "execute_result"
    }
   ],
   "source": [
    "df2.shape"
   ]
  },
  {
   "cell_type": "code",
   "execution_count": 6,
   "metadata": {},
   "outputs": [
    {
     "name": "stderr",
     "output_type": "stream",
     "text": [
      "100%|██████████| 1/1 [00:08<00:00,  8.03s/it]\n"
     ]
    },
    {
     "data": {
      "text/plain": [
       "(32, 5)"
      ]
     },
     "execution_count": 6,
     "metadata": {},
     "output_type": "execute_result"
    }
   ],
   "source": [
    "query2 = \"SELECT Id,Rut_Titular__c,Empresa__c,Paciente__c,Relacion__c  from Reporte__c where Rut_Titular__c = ''\"\n",
    "#query2 = \"select P_liza__c, Nombre_de_Empresa__c,Identificador__c, Rut_Empresa__c, Empresa_Padre__r.Name, Empresa__r.name,Holding__c, Plan__c, Pais__c, Activo__c, Id from Datos_Empresa__c \"\n",
    "\n",
    "df22 = sf.smart_query(query2)\n",
    "df22.shape"
   ]
  },
  {
   "cell_type": "code",
   "execution_count": 7,
   "metadata": {},
   "outputs": [
    {
     "name": "stderr",
     "output_type": "stream",
     "text": [
      "100%|██████████| 1/1 [02:34<00:00, 154.01s/it]\n"
     ]
    }
   ],
   "source": [
    "paciente = \"SELECT Id,IdentificationId__pc from Account where IsPersonAccount = true \"\n",
    "#query2 = \"select P_liza__c, Nombre_de_Empresa__c,Identificador__c, Rut_Empresa__c, Empresa_Padre__r.Name, Empresa__r.name,Holding__c, Plan__c, Pais__c, Activo__c, Id from Datos_Empresa__c \"\n",
    "\n",
    "pacienteSF = sf.smart_query(paciente)"
   ]
  },
  {
   "cell_type": "code",
   "execution_count": 8,
   "metadata": {},
   "outputs": [
    {
     "name": "stderr",
     "output_type": "stream",
     "text": [
      "100%|██████████| 1/1 [00:09<00:00,  9.90s/it]\n"
     ]
    }
   ],
   "source": [
    "empresa = \"SELECT Id,Campa_a__c, Compania__c, Identificador__c, P_liza__c,Empresa__c,Empresa__r.Name from Datos_Empresa__c  \"\n",
    "#query2 = \"select P_liza__c, Nombre_de_Empresa__c,Identificador__c, Rut_Empresa__c, Empresa_Padre__r.Name, Empresa__r.name,Holding__c, Plan__c, Pais__c, Activo__c, Id from Datos_Empresa__c \"\n",
    "\n",
    "empresaSF = sf.smart_query(empresa)"
   ]
  },
  {
   "cell_type": "code",
   "execution_count": 9,
   "metadata": {},
   "outputs": [],
   "source": [
    "df2[\"llave2\"] = df2[\"Empresa__c\"] + df2[\"Paciente__c\"] +   df2[\"Relaci_n_Con_Asegurado__c\"]"
   ]
  },
  {
   "cell_type": "code",
   "execution_count": 10,
   "metadata": {},
   "outputs": [],
   "source": [
    "df22[\"llave2\"] = df22[\"Empresa__c\"]+ df22[\"Paciente__c\"]  + df22[\"Relacion__c\"]\n"
   ]
  },
  {
   "cell_type": "code",
   "execution_count": 11,
   "metadata": {},
   "outputs": [],
   "source": [
    "df2[\"esta4\"] = df2[\"llave2\"].isin(\n",
    "    df22[\"llave2\"]\n",
    ")"
   ]
  },
  {
   "cell_type": "code",
   "execution_count": 12,
   "metadata": {},
   "outputs": [
    {
     "data": {
      "text/plain": [
       "(0, 9)"
      ]
     },
     "execution_count": 12,
     "metadata": {},
     "output_type": "execute_result"
    }
   ],
   "source": [
    "df23 = df2[df2[\"esta4\"] == True]\n",
    "df23.shape"
   ]
  },
  {
   "cell_type": "code",
   "execution_count": 13,
   "metadata": {},
   "outputs": [],
   "source": [
    "df22[\"esta3\"] = df22[\"llave2\"].isin(\n",
    "    df2[\"llave2\"]\n",
    ")\n",
    "#df22 = df22[df22[\"esta2\"] == False]"
   ]
  },
  {
   "cell_type": "code",
   "execution_count": 15,
   "metadata": {},
   "outputs": [
    {
     "data": {
      "text/html": [
       "<div>\n",
       "<style scoped>\n",
       "    .dataframe tbody tr th:only-of-type {\n",
       "        vertical-align: middle;\n",
       "    }\n",
       "\n",
       "    .dataframe tbody tr th {\n",
       "        vertical-align: top;\n",
       "    }\n",
       "\n",
       "    .dataframe thead th {\n",
       "        text-align: right;\n",
       "    }\n",
       "</style>\n",
       "<table border=\"1\" class=\"dataframe\">\n",
       "  <thead>\n",
       "    <tr style=\"text-align: right;\">\n",
       "      <th></th>\n",
       "      <th>Id</th>\n",
       "      <th>Rut_Titular__c</th>\n",
       "      <th>Empresa__c</th>\n",
       "      <th>Paciente__c</th>\n",
       "      <th>Relacion__c</th>\n",
       "      <th>llave2</th>\n",
       "      <th>esta3</th>\n",
       "    </tr>\n",
       "  </thead>\n",
       "  <tbody>\n",
       "    <tr>\n",
       "      <th>0</th>\n",
       "      <td>a4JRN0000000iUb2AI</td>\n",
       "      <td>-</td>\n",
       "      <td>a3yRN0000006rsTYAQ</td>\n",
       "      <td>001RN0000018ZfaYAE</td>\n",
       "      <td>Carga</td>\n",
       "      <td>a3yRN0000006rsTYAQ001RN0000018ZfaYAECarga</td>\n",
       "      <td>False</td>\n",
       "    </tr>\n",
       "    <tr>\n",
       "      <th>1</th>\n",
       "      <td>a4JRN0000000iqW2AQ</td>\n",
       "      <td>-</td>\n",
       "      <td>a3yRN0000006sgLYAQ</td>\n",
       "      <td>001RN000000qjGQYAY</td>\n",
       "      <td>Carga</td>\n",
       "      <td>a3yRN0000006sgLYAQ001RN000000qjGQYAYCarga</td>\n",
       "      <td>False</td>\n",
       "    </tr>\n",
       "    <tr>\n",
       "      <th>2</th>\n",
       "      <td>a4JRN0000000ivA2AQ</td>\n",
       "      <td>-</td>\n",
       "      <td>a3yRN0000006rsTYAQ</td>\n",
       "      <td>001RN000002jia2YAA</td>\n",
       "      <td>Carga</td>\n",
       "      <td>a3yRN0000006rsTYAQ001RN000002jia2YAACarga</td>\n",
       "      <td>False</td>\n",
       "    </tr>\n",
       "    <tr>\n",
       "      <th>3</th>\n",
       "      <td>a4JRN0000000j2a2AA</td>\n",
       "      <td>-</td>\n",
       "      <td>a3yRN0000006s9KYAQ</td>\n",
       "      <td>0018c00002egqOWAAY</td>\n",
       "      <td>Carga</td>\n",
       "      <td>a3yRN0000006s9KYAQ0018c00002egqOWAAYCarga</td>\n",
       "      <td>False</td>\n",
       "    </tr>\n",
       "    <tr>\n",
       "      <th>4</th>\n",
       "      <td>a4JRN0000000ntz2AA</td>\n",
       "      <td>-</td>\n",
       "      <td>a3yRN0000006rlZYAQ</td>\n",
       "      <td>0018c00002giO5rAAE</td>\n",
       "      <td>Carga</td>\n",
       "      <td>a3yRN0000006rlZYAQ0018c00002giO5rAAECarga</td>\n",
       "      <td>False</td>\n",
       "    </tr>\n",
       "  </tbody>\n",
       "</table>\n",
       "</div>"
      ],
      "text/plain": [
       "                   Id Rut_Titular__c          Empresa__c         Paciente__c  \\\n",
       "0  a4JRN0000000iUb2AI              -  a3yRN0000006rsTYAQ  001RN0000018ZfaYAE   \n",
       "1  a4JRN0000000iqW2AQ              -  a3yRN0000006sgLYAQ  001RN000000qjGQYAY   \n",
       "2  a4JRN0000000ivA2AQ              -  a3yRN0000006rsTYAQ  001RN000002jia2YAA   \n",
       "3  a4JRN0000000j2a2AA              -  a3yRN0000006s9KYAQ  0018c00002egqOWAAY   \n",
       "4  a4JRN0000000ntz2AA              -  a3yRN0000006rlZYAQ  0018c00002giO5rAAE   \n",
       "\n",
       "  Relacion__c                                     llave2  esta3  \n",
       "0       Carga  a3yRN0000006rsTYAQ001RN0000018ZfaYAECarga  False  \n",
       "1       Carga  a3yRN0000006sgLYAQ001RN000000qjGQYAYCarga  False  \n",
       "2       Carga  a3yRN0000006rsTYAQ001RN000002jia2YAACarga  False  \n",
       "3       Carga  a3yRN0000006s9KYAQ0018c00002egqOWAAYCarga  False  \n",
       "4       Carga  a3yRN0000006rlZYAQ0018c00002giO5rAAECarga  False  "
      ]
     },
     "execution_count": 15,
     "metadata": {},
     "output_type": "execute_result"
    }
   ],
   "source": [
    "df22.head()\n",
    "#df22 = df22[df22[\"esta2\"] == False]"
   ]
  },
  {
   "cell_type": "code",
   "execution_count": 16,
   "metadata": {},
   "outputs": [
    {
     "data": {
      "text/plain": [
       "(32, 7)"
      ]
     },
     "execution_count": 16,
     "metadata": {},
     "output_type": "execute_result"
    }
   ],
   "source": [
    "df22.shape"
   ]
  },
  {
   "cell_type": "code",
   "execution_count": 17,
   "metadata": {},
   "outputs": [],
   "source": [
    "df22.to_excel(\"F:/Empresas SF/reportes/11111.xlsx\", index=False)"
   ]
  },
  {
   "cell_type": "code",
   "execution_count": 18,
   "metadata": {},
   "outputs": [],
   "source": [
    "df223 = pd.merge(\n",
    "    left=df22,\n",
    "    right=pacienteSF,\n",
    "    how=\"left\",\n",
    "    left_on=\"Paciente__c\",\n",
    "    right_on=\"Id\",\n",
    ")"
   ]
  },
  {
   "cell_type": "code",
   "execution_count": 19,
   "metadata": {},
   "outputs": [],
   "source": [
    "df223.to_excel(\"F:/Empresas SF/reportes/222222.xlsx\", index=False)"
   ]
  },
  {
   "cell_type": "code",
   "execution_count": null,
   "metadata": {},
   "outputs": [],
   "source": [
    "df2233 = pd.merge(\n",
    "    left=df223,\n",
    "    right=empresaSF,\n",
    "    how=\"left\",\n",
    "    left_on=\"Empresa__c\",\n",
    "    right_on=\"Id\",\n",
    ")"
   ]
  },
  {
   "cell_type": "code",
   "execution_count": null,
   "metadata": {},
   "outputs": [],
   "source": [
    "df2233.to_excel(\"F:/Empresas SF/reportes/rutes3.xlsx\", index=False)"
   ]
  },
  {
   "cell_type": "code",
   "execution_count": null,
   "metadata": {},
   "outputs": [],
   "source": [
    "datos = pd.merge(\n",
    "    left=df2233,\n",
    "    right=df2,\n",
    "    how=\"left\",\n",
    "    left_on=\"Paciente__c\",\n",
    "    right_on=\"Paciente__c\",\n",
    ")"
   ]
  },
  {
   "cell_type": "code",
   "execution_count": null,
   "metadata": {},
   "outputs": [],
   "source": [
    "df223.head()"
   ]
  },
  {
   "cell_type": "code",
   "execution_count": null,
   "metadata": {},
   "outputs": [],
   "source": [
    "datos2.shape"
   ]
  },
  {
   "cell_type": "code",
   "execution_count": null,
   "metadata": {},
   "outputs": [],
   "source": [
    "datos.head()"
   ]
  },
  {
   "cell_type": "code",
   "execution_count": null,
   "metadata": {},
   "outputs": [],
   "source": [
    "datos.Empresa__c_x.fillna(\"FARSO\", inplace=True)\n",
    "\n",
    "#Pacientes_SF = Pacientes_SF[(Pacientes_SF[\"Rut\"] != \"NONE\")]"
   ]
  },
  {
   "cell_type": "code",
   "execution_count": null,
   "metadata": {},
   "outputs": [],
   "source": [
    "datos2 = datos[(datos[\"Empresa__c_x\"]!=\"FARSO\")]\n"
   ]
  },
  {
   "cell_type": "code",
   "execution_count": null,
   "metadata": {},
   "outputs": [],
   "source": []
  },
  {
   "cell_type": "code",
   "execution_count": null,
   "metadata": {},
   "outputs": [],
   "source": [
    "datos2.to_excel(\"F:/Empresas SF/reportes/rutes.xlsx\", index=False)"
   ]
  }
 ],
 "metadata": {
  "kernelspec": {
   "display_name": "salesforce",
   "language": "python",
   "name": "python3"
  },
  "language_info": {
   "codemirror_mode": {
    "name": "ipython",
    "version": 3
   },
   "file_extension": ".py",
   "mimetype": "text/x-python",
   "name": "python",
   "nbconvert_exporter": "python",
   "pygments_lexer": "ipython3",
   "version": "3.8.16"
  }
 },
 "nbformat": 4,
 "nbformat_minor": 2
}
