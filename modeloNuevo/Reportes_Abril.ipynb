{
 "cells": [
  {
   "cell_type": "code",
   "execution_count": 96,
   "metadata": {
    "notebookRunGroups": {
     "groupValue": "1"
    }
   },
   "outputs": [
    {
     "data": {
      "text/plain": [
       "' sf = Salesforce(\\n    username=\"jmartinez@careassistance.com\",\\n    password=\"Jcmm01041983*\",\\n    security_token=\"dxbNevVOmgmoQS4Zllh3DpNDj\",\\n) '"
      ]
     },
     "execution_count": 96,
     "metadata": {},
     "output_type": "execute_result"
    }
   ],
   "source": [
    "from pathlib import Path\n",
    "import requests\n",
    "import pandas as pd\n",
    "import numpy as np\n",
    "from io import StringIO\n",
    "\n",
    "# from simple_salesforce import Salesforce\n",
    "# import shutil\n",
    "# import datetime\n",
    "# from datetime import date\n",
    "import json, re\n",
    "\n",
    "# from pathlib import Path\n",
    "# import pandas as pd\n",
    "# import numpy as np\n",
    "# from io import StringIO\n",
    "import shutil\n",
    "import datetime\n",
    "from datetime import datetime, date\n",
    "\n",
    "# import re\n",
    "# import json\n",
    "from pandas.api.types import is_numeric_dtype\n",
    "from simple_salesforce import Salesforce, format_soql, format_external_id\n",
    "from simple_salesforce.exceptions import SalesforceMalformedRequest\n",
    "import simpler_sf\n",
    "\n",
    "simpler_sf.simple_salesforce()\n",
    "\n",
    "\n",
    "\"\"\" sf = Salesforce(\n",
    "    username=\"jmartinez@careassistance.com\",\n",
    "    password=\"Jcmm01041983*\",\n",
    "    security_token=\"dxbNevVOmgmoQS4Zllh3DpNDj\",\n",
    ") \"\"\""
   ]
  },
  {
   "attachments": {},
   "cell_type": "markdown",
   "metadata": {},
   "source": [
    "Empresas Programas por empresa y empresas desde account\n"
   ]
  },
  {
   "cell_type": "code",
   "execution_count": 97,
   "metadata": {
    "notebookRunGroups": {
     "groupValue": "1"
    }
   },
   "outputs": [],
   "source": [
    "with open(\"../login.json\", \"r\") as j:\n",
    "    misDatos = json.load(j)"
   ]
  },
  {
   "cell_type": "code",
   "execution_count": 98,
   "metadata": {
    "notebookRunGroups": {
     "groupValue": "1"
    }
   },
   "outputs": [],
   "source": [
    "# para smart query\n",
    "\"\"\" sf = simple_salesforce.Salesforce(\n",
    "    username=misDatos[\"username\"],\n",
    "    password=misDatos[\"password\"],\n",
    "    security_token=misDatos[\"security_token\"],\n",
    ")\n",
    " \"\"\"\n",
    "# para lo demas\n",
    "sf = Salesforce(\n",
    "    username=misDatos[\"username\"],\n",
    "    password=misDatos[\"password\"],\n",
    "    security_token=misDatos[\"security_token\"],\n",
    ")\n",
    "# paramiko.util.log_to_file(\"paramiko.log\")\n",
    "regex = re.compile(r\"([A-Za-z0-9]+[.-_])*[A-Za-z0-9]+@[A-Za-z0-9-]+(\\.[A-Z|a-z]{2,})+\")"
   ]
  },
  {
   "cell_type": "markdown",
   "metadata": {},
   "source": [
    "CITA DE SERVICIO\n"
   ]
  },
  {
   "cell_type": "code",
   "execution_count": 99,
   "metadata": {
    "notebookRunGroups": {
     "groupValue": "1"
    }
   },
   "outputs": [
    {
     "name": "stderr",
     "output_type": "stream",
     "text": [
      "100%|██████████| 1/1 [00:06<00:00,  6.11s/it]\n"
     ]
    },
    {
     "data": {
      "text/plain": [
       "(23, 1)"
      ]
     },
     "execution_count": 99,
     "metadata": {},
     "output_type": "execute_result"
    }
   ],
   "source": [
    "vacio = \"SELECT Id, EmpresaContactoConvenio__c from ServiceAppointment WHERE CALENDAR_YEAR(CreatedDate ) >= 2024  and CALENDAR_MONTH(CreatedDate ) >= 4 ORDER BY CreatedDate\"\n",
    "Cita_Servicio = sf.smart_query(vacio)\n",
    "Cita_Servicio = Cita_Servicio[(Cita_Servicio[\"EmpresaContactoConvenio__c\"] == \"-\")]\n",
    "Cita_Servicio = Cita_Servicio[[\"Id\"]]\n",
    "fake_dict = Cita_Servicio.to_dict(\"records\")\n",
    "sf.bulk.ServiceAppointment.update(fake_dict, batch_size=10000, use_serial=True)\n",
    "Cita_Servicio.head()\n",
    "\n",
    "Cita_Servicio.shape"
   ]
  },
  {
   "cell_type": "code",
   "execution_count": 100,
   "metadata": {
    "notebookRunGroups": {
     "groupValue": "1"
    }
   },
   "outputs": [
    {
     "name": "stderr",
     "output_type": "stream",
     "text": [
      "100%|██████████| 1/1 [00:09<00:00,  9.17s/it]\n"
     ]
    }
   ],
   "source": [
    "Cita_Servicio = \"SELECT Id,Nombre_Tipo_de_Cita__c,AppointmentNumber,Status, Interacci_n__c,CreatedBy.Name,Clinica__c,SchedStartTime,EarliestStartTime,AccountId,EmpresaContactoConvenio__c from ServiceAppointment WHERE CALENDAR_YEAR(CreatedDate ) >= 2024 and CALENDAR_MONTH(CreatedDate ) >= 4 ORDER BY CreatedDate\"\n",
    "CitaDeServicio = sf.smart_query(Cita_Servicio)\n",
    "CitaDeServicio[\"Orientación\"] = CitaDeServicio.Interacci_n__c.str.contains(\"Ingreso\")\n",
    "\n",
    "CitaDeServicio[\"Realizado\"] = CitaDeServicio[\"Status\"].str.replace(\"Confirmado\", \"SI\")\n",
    "CitaDeServicio[\"Realizado\"] = CitaDeServicio[\"Realizado\"].str.replace(\n",
    "    \"No Confirmado\", \"NO\"\n",
    ")\n",
    "CitaDeServicio[\"Realizado\"] = CitaDeServicio[\"Realizado\"].str.replace(\"Cancelado\", \"NO\")\n",
    "CitaDeServicio[\"Realizado\"] = CitaDeServicio[\"Realizado\"].str.replace(\n",
    "    \"No realizado\", \"NO\"\n",
    ")\n",
    "CitaDeServicio[\"Realizado\"] = CitaDeServicio[\"Realizado\"].str.replace(\n",
    "    \"Programado\", \"NO\"\n",
    ")\n",
    "CitaDeServicio[\"Realizado\"] = CitaDeServicio[\"Realizado\"].str.replace(\n",
    "    \"Reagendado\", \"SI\"\n",
    ")\n",
    "CitaDeServicio[\"Realizado\"] = CitaDeServicio[\"Realizado\"].str.replace(\"Realizado\", \"SI\")"
   ]
  },
  {
   "cell_type": "markdown",
   "metadata": {},
   "source": [
    "Cita agendamiento\n"
   ]
  },
  {
   "cell_type": "code",
   "execution_count": 101,
   "metadata": {
    "notebookRunGroups": {
     "groupValue": "1"
    }
   },
   "outputs": [
    {
     "name": "stderr",
     "output_type": "stream",
     "text": [
      "C:\\Users\\jmartinez\\AppData\\Local\\Temp\\ipykernel_5672\\3006692268.py:23: SettingWithCopyWarning: \n",
      "A value is trying to be set on a copy of a slice from a DataFrame.\n",
      "Try using .loc[row_indexer,col_indexer] = value instead\n",
      "\n",
      "See the caveats in the documentation: https://pandas.pydata.org/pandas-docs/stable/user_guide/indexing.html#returning-a-view-versus-a-copy\n",
      "  CitaDeServicioO[\"Ficha\"] = CitaDeServicioO[\"AppointmentNumber\"]\n",
      "C:\\Users\\jmartinez\\AppData\\Local\\Temp\\ipykernel_5672\\3006692268.py:24: SettingWithCopyWarning: \n",
      "A value is trying to be set on a copy of a slice from a DataFrame.\n",
      "Try using .loc[row_indexer,col_indexer] = value instead\n",
      "\n",
      "See the caveats in the documentation: https://pandas.pydata.org/pandas-docs/stable/user_guide/indexing.html#returning-a-view-versus-a-copy\n",
      "  CitaDeServicioO[\"Fecha creación\"] = CitaDeServicioO[\"EarliestStartTime\"]\n",
      "C:\\Users\\jmartinez\\AppData\\Local\\Temp\\ipykernel_5672\\3006692268.py:25: SettingWithCopyWarning: \n",
      "A value is trying to be set on a copy of a slice from a DataFrame.\n",
      "Try using .loc[row_indexer,col_indexer] = value instead\n",
      "\n",
      "See the caveats in the documentation: https://pandas.pydata.org/pandas-docs/stable/user_guide/indexing.html#returning-a-view-versus-a-copy\n",
      "  CitaDeServicioO[\"Canal\"] = np.where(\n",
      "C:\\Users\\jmartinez\\AppData\\Local\\Temp\\ipykernel_5672\\3006692268.py:28: SettingWithCopyWarning: \n",
      "A value is trying to be set on a copy of a slice from a DataFrame.\n",
      "Try using .loc[row_indexer,col_indexer] = value instead\n",
      "\n",
      "See the caveats in the documentation: https://pandas.pydata.org/pandas-docs/stable/user_guide/indexing.html#returning-a-view-versus-a-copy\n",
      "  CitaDeServicioO[\"Realizado\"] = \"SI\"\n",
      "C:\\Users\\jmartinez\\AppData\\Local\\Temp\\ipykernel_5672\\3006692268.py:29: SettingWithCopyWarning: \n",
      "A value is trying to be set on a copy of a slice from a DataFrame.\n",
      "Try using .loc[row_indexer,col_indexer] = value instead\n",
      "\n",
      "See the caveats in the documentation: https://pandas.pydata.org/pandas-docs/stable/user_guide/indexing.html#returning-a-view-versus-a-copy\n",
      "  CitaDeServicioO[\"Tipo de atención\"] = np.where(\n",
      "C:\\Users\\jmartinez\\AppData\\Local\\Temp\\ipykernel_5672\\3006692268.py:32: SettingWithCopyWarning: \n",
      "A value is trying to be set on a copy of a slice from a DataFrame.\n",
      "Try using .loc[row_indexer,col_indexer] = value instead\n",
      "\n",
      "See the caveats in the documentation: https://pandas.pydata.org/pandas-docs/stable/user_guide/indexing.html#returning-a-view-versus-a-copy\n",
      "  CitaDeServicioO[\"Profesional\"] = np.where(\n",
      "C:\\Users\\jmartinez\\AppData\\Local\\Temp\\ipykernel_5672\\3006692268.py:35: SettingWithCopyWarning: \n",
      "A value is trying to be set on a copy of a slice from a DataFrame.\n",
      "Try using .loc[row_indexer,col_indexer] = value instead\n",
      "\n",
      "See the caveats in the documentation: https://pandas.pydata.org/pandas-docs/stable/user_guide/indexing.html#returning-a-view-versus-a-copy\n",
      "  CitaDeServicioO[\"Fecha agendamiento\"] = CitaDeServicioO[\"SchedStartTime\"]\n",
      "C:\\Users\\jmartinez\\AppData\\Local\\Temp\\ipykernel_5672\\3006692268.py:36: SettingWithCopyWarning: \n",
      "A value is trying to be set on a copy of a slice from a DataFrame.\n",
      "Try using .loc[row_indexer,col_indexer] = value instead\n",
      "\n",
      "See the caveats in the documentation: https://pandas.pydata.org/pandas-docs/stable/user_guide/indexing.html#returning-a-view-versus-a-copy\n",
      "  CitaDeServicioO[\"Clínica\"] = \"Orientación Médica\"\n"
     ]
    }
   ],
   "source": [
    "CitaDeServicioA = pd.DataFrame()\n",
    "\n",
    "CitaDeServicioA[\"Id\"] = CitaDeServicio[\"Id\"]\n",
    "CitaDeServicioA[\"Ficha\"] = CitaDeServicio[\"AppointmentNumber\"]\n",
    "CitaDeServicioA[\"Fecha creación\"] = CitaDeServicio[\"EarliestStartTime\"]\n",
    "CitaDeServicioA[\"Canal\"] = CitaDeServicio[\"Nombre_Tipo_de_Cita__c\"]\n",
    "CitaDeServicioA[\"Realizado\"] = CitaDeServicio[\"Status\"]\n",
    "CitaDeServicioA[\"Tipo de atención\"] = \"Agendamiento\"\n",
    "CitaDeServicioA[\"Profesional\"] = np.where(\n",
    "    CitaDeServicio[\"CreatedBy.Name\"] == \"No - Reply\", \"App\", \"Profesional\"\n",
    ")\n",
    "CitaDeServicioA[\"Clínica\"] = CitaDeServicio[\"Clinica__c\"]\n",
    "CitaDeServicioA[\"Fecha agendamiento\"] = CitaDeServicio[\"SchedStartTime\"]\n",
    "\n",
    "\n",
    "\n",
    "\n",
    "CitaDeServicioO = pd.DataFrame()\n",
    "CitaDeServicioO = CitaDeServicio[(CitaDeServicio[\"Orientación\"] == True)]\n",
    "# CitaDeServicioO = Pacientes_con_id[(Pacientes_con_id[\"RutEstaoNo\"] == False)]\n",
    "\n",
    "# CitaDeServicioO[\"Id\"] = CitaDeServicio[\"Id\"]\n",
    "CitaDeServicioO[\"Ficha\"] = CitaDeServicioO[\"AppointmentNumber\"]\n",
    "CitaDeServicioO[\"Fecha creación\"] = CitaDeServicioO[\"EarliestStartTime\"]\n",
    "CitaDeServicioO[\"Canal\"] = np.where(\n",
    "    CitaDeServicioO[\"CreatedBy.Name\"] == \"No - Reply\", \"Aplicación\", \"Llamada\"\n",
    ")\n",
    "CitaDeServicioO[\"Realizado\"] = \"SI\"\n",
    "CitaDeServicioO[\"Tipo de atención\"] = np.where(\n",
    "    CitaDeServicioO[\"CreatedBy.Name\"] == \"No - Reply\", \"Aplicación\", \"Llamada Ondemand\"\n",
    ")\n",
    "CitaDeServicioO[\"Profesional\"] = np.where(\n",
    "    CitaDeServicioO[\"CreatedBy.Name\"] == \"No - Reply\", \"App\", \"Profesional\"\n",
    ")\n",
    "CitaDeServicioO[\"Fecha agendamiento\"] = CitaDeServicioO[\"SchedStartTime\"]\n",
    "CitaDeServicioO[\"Clínica\"] = \"Orientación Médica\"\n",
    "CitaDeServicioO = CitaDeServicioO[\n",
    "    [\n",
    "        \"Id\",\n",
    "        \"Ficha\",\n",
    "        \"Fecha creación\",\n",
    "        \"Canal\",\n",
    "        \"Realizado\",\n",
    "        \"Tipo de atención\",\n",
    "        \"Profesional\",        \n",
    "        \"Clínica\",\n",
    "        \"Fecha agendamiento\",\n",
    "    ]\n",
    "]"
   ]
  },
  {
   "cell_type": "code",
   "execution_count": 102,
   "metadata": {
    "notebookRunGroups": {
     "groupValue": "1"
    }
   },
   "outputs": [
    {
     "data": {
      "text/html": [
       "<div>\n",
       "<style scoped>\n",
       "    .dataframe tbody tr th:only-of-type {\n",
       "        vertical-align: middle;\n",
       "    }\n",
       "\n",
       "    .dataframe tbody tr th {\n",
       "        vertical-align: top;\n",
       "    }\n",
       "\n",
       "    .dataframe thead th {\n",
       "        text-align: right;\n",
       "    }\n",
       "</style>\n",
       "<table border=\"1\" class=\"dataframe\">\n",
       "  <thead>\n",
       "    <tr style=\"text-align: right;\">\n",
       "      <th></th>\n",
       "      <th>Id</th>\n",
       "      <th>Ficha</th>\n",
       "      <th>Fecha creación</th>\n",
       "      <th>Canal</th>\n",
       "      <th>Realizado</th>\n",
       "      <th>Tipo de atención</th>\n",
       "      <th>Profesional</th>\n",
       "      <th>Clínica</th>\n",
       "      <th>Fecha agendamiento</th>\n",
       "    </tr>\n",
       "  </thead>\n",
       "  <tbody>\n",
       "    <tr>\n",
       "      <th>0</th>\n",
       "      <td>08pRN000000NhHBYA0</td>\n",
       "      <td>SA-62157</td>\n",
       "      <td>1711933783000</td>\n",
       "      <td>Videollamada</td>\n",
       "      <td>Realizado</td>\n",
       "      <td>Agendamiento</td>\n",
       "      <td>App</td>\n",
       "      <td>Consulta Nutricional</td>\n",
       "      <td>1712404800000</td>\n",
       "    </tr>\n",
       "    <tr>\n",
       "      <th>1</th>\n",
       "      <td>08pRN000000NhInYAK</td>\n",
       "      <td>SA-62158</td>\n",
       "      <td>1711933881000</td>\n",
       "      <td>Videollamada</td>\n",
       "      <td>Realizado</td>\n",
       "      <td>Agendamiento</td>\n",
       "      <td>App</td>\n",
       "      <td>Consulta Deportiva</td>\n",
       "      <td>1712408400000</td>\n",
       "    </tr>\n",
       "    <tr>\n",
       "      <th>2</th>\n",
       "      <td>08pRN000000NhXJYA0</td>\n",
       "      <td>SA-62159</td>\n",
       "      <td>1711938336000</td>\n",
       "      <td>Teléfono</td>\n",
       "      <td>No realizado</td>\n",
       "      <td>Agendamiento</td>\n",
       "      <td>App</td>\n",
       "      <td>Consulta Nutricional</td>\n",
       "      <td>1711975500000</td>\n",
       "    </tr>\n",
       "    <tr>\n",
       "      <th>3</th>\n",
       "      <td>08pRN000000NijVYAS</td>\n",
       "      <td>SA-62162</td>\n",
       "      <td>1711972639000</td>\n",
       "      <td>Videollamada</td>\n",
       "      <td>Realizado</td>\n",
       "      <td>Agendamiento</td>\n",
       "      <td>Profesional</td>\n",
       "      <td>Consulta Psicológica</td>\n",
       "      <td>1712787000000</td>\n",
       "    </tr>\n",
       "    <tr>\n",
       "      <th>4</th>\n",
       "      <td>08pRN000000Nil7YAC</td>\n",
       "      <td>SA-62163</td>\n",
       "      <td>1711973400000</td>\n",
       "      <td>Videollamada</td>\n",
       "      <td>Cancelado</td>\n",
       "      <td>Agendamiento</td>\n",
       "      <td>App</td>\n",
       "      <td>Veterinaria</td>\n",
       "      <td>1712581200000</td>\n",
       "    </tr>\n",
       "  </tbody>\n",
       "</table>\n",
       "</div>"
      ],
      "text/plain": [
       "                   Id     Ficha  Fecha creación         Canal     Realizado  \\\n",
       "0  08pRN000000NhHBYA0  SA-62157   1711933783000  Videollamada     Realizado   \n",
       "1  08pRN000000NhInYAK  SA-62158   1711933881000  Videollamada     Realizado   \n",
       "2  08pRN000000NhXJYA0  SA-62159   1711938336000      Teléfono  No realizado   \n",
       "3  08pRN000000NijVYAS  SA-62162   1711972639000  Videollamada     Realizado   \n",
       "4  08pRN000000Nil7YAC  SA-62163   1711973400000  Videollamada     Cancelado   \n",
       "\n",
       "  Tipo de atención  Profesional               Clínica  Fecha agendamiento  \n",
       "0     Agendamiento          App  Consulta Nutricional       1712404800000  \n",
       "1     Agendamiento          App    Consulta Deportiva       1712408400000  \n",
       "2     Agendamiento          App  Consulta Nutricional       1711975500000  \n",
       "3     Agendamiento  Profesional  Consulta Psicológica       1712787000000  \n",
       "4     Agendamiento          App           Veterinaria       1712581200000  "
      ]
     },
     "execution_count": 102,
     "metadata": {},
     "output_type": "execute_result"
    }
   ],
   "source": [
    "CitaDeServicioA.head(5)"
   ]
  },
  {
   "cell_type": "code",
   "execution_count": 103,
   "metadata": {
    "notebookRunGroups": {
     "groupValue": "1"
    }
   },
   "outputs": [
    {
     "data": {
      "text/html": [
       "<div>\n",
       "<style scoped>\n",
       "    .dataframe tbody tr th:only-of-type {\n",
       "        vertical-align: middle;\n",
       "    }\n",
       "\n",
       "    .dataframe tbody tr th {\n",
       "        vertical-align: top;\n",
       "    }\n",
       "\n",
       "    .dataframe thead th {\n",
       "        text-align: right;\n",
       "    }\n",
       "</style>\n",
       "<table border=\"1\" class=\"dataframe\">\n",
       "  <thead>\n",
       "    <tr style=\"text-align: right;\">\n",
       "      <th></th>\n",
       "      <th>Id</th>\n",
       "      <th>Ficha</th>\n",
       "      <th>Fecha creación</th>\n",
       "      <th>Canal</th>\n",
       "      <th>Realizado</th>\n",
       "      <th>Tipo de atención</th>\n",
       "      <th>Profesional</th>\n",
       "      <th>Clínica</th>\n",
       "      <th>Fecha agendamiento</th>\n",
       "    </tr>\n",
       "  </thead>\n",
       "  <tbody>\n",
       "    <tr>\n",
       "      <th>0</th>\n",
       "      <td>08pRN000000NhHBYA0</td>\n",
       "      <td>SA-62157</td>\n",
       "      <td>1711933783000</td>\n",
       "      <td>Aplicación</td>\n",
       "      <td>SI</td>\n",
       "      <td>Aplicación</td>\n",
       "      <td>App</td>\n",
       "      <td>Orientación Médica</td>\n",
       "      <td>1712404800000</td>\n",
       "    </tr>\n",
       "    <tr>\n",
       "      <th>1</th>\n",
       "      <td>08pRN000000NhInYAK</td>\n",
       "      <td>SA-62158</td>\n",
       "      <td>1711933881000</td>\n",
       "      <td>Aplicación</td>\n",
       "      <td>SI</td>\n",
       "      <td>Aplicación</td>\n",
       "      <td>App</td>\n",
       "      <td>Orientación Médica</td>\n",
       "      <td>1712408400000</td>\n",
       "    </tr>\n",
       "    <tr>\n",
       "      <th>2</th>\n",
       "      <td>08pRN000000NhXJYA0</td>\n",
       "      <td>SA-62159</td>\n",
       "      <td>1711938336000</td>\n",
       "      <td>Aplicación</td>\n",
       "      <td>SI</td>\n",
       "      <td>Aplicación</td>\n",
       "      <td>App</td>\n",
       "      <td>Orientación Médica</td>\n",
       "      <td>1711975500000</td>\n",
       "    </tr>\n",
       "    <tr>\n",
       "      <th>4</th>\n",
       "      <td>08pRN000000Nil7YAC</td>\n",
       "      <td>SA-62163</td>\n",
       "      <td>1711973400000</td>\n",
       "      <td>Aplicación</td>\n",
       "      <td>SI</td>\n",
       "      <td>Aplicación</td>\n",
       "      <td>App</td>\n",
       "      <td>Orientación Médica</td>\n",
       "      <td>1712581200000</td>\n",
       "    </tr>\n",
       "    <tr>\n",
       "      <th>5</th>\n",
       "      <td>08pRN000000NimjYAC</td>\n",
       "      <td>SA-62164</td>\n",
       "      <td>1711973426000</td>\n",
       "      <td>Aplicación</td>\n",
       "      <td>SI</td>\n",
       "      <td>Aplicación</td>\n",
       "      <td>App</td>\n",
       "      <td>Orientación Médica</td>\n",
       "      <td>1712581200000</td>\n",
       "    </tr>\n",
       "  </tbody>\n",
       "</table>\n",
       "</div>"
      ],
      "text/plain": [
       "                   Id     Ficha  Fecha creación       Canal Realizado  \\\n",
       "0  08pRN000000NhHBYA0  SA-62157   1711933783000  Aplicación        SI   \n",
       "1  08pRN000000NhInYAK  SA-62158   1711933881000  Aplicación        SI   \n",
       "2  08pRN000000NhXJYA0  SA-62159   1711938336000  Aplicación        SI   \n",
       "4  08pRN000000Nil7YAC  SA-62163   1711973400000  Aplicación        SI   \n",
       "5  08pRN000000NimjYAC  SA-62164   1711973426000  Aplicación        SI   \n",
       "\n",
       "  Tipo de atención Profesional             Clínica  Fecha agendamiento  \n",
       "0       Aplicación         App  Orientación Médica       1712404800000  \n",
       "1       Aplicación         App  Orientación Médica       1712408400000  \n",
       "2       Aplicación         App  Orientación Médica       1711975500000  \n",
       "4       Aplicación         App  Orientación Médica       1712581200000  \n",
       "5       Aplicación         App  Orientación Médica       1712581200000  "
      ]
     },
     "execution_count": 103,
     "metadata": {},
     "output_type": "execute_result"
    }
   ],
   "source": [
    "CitaDeServicioO.head(5)"
   ]
  },
  {
   "cell_type": "markdown",
   "metadata": {},
   "source": [
    "Paciente Cronico"
   ]
  },
  {
   "cell_type": "code",
   "execution_count": 104,
   "metadata": {
    "notebookRunGroups": {
     "groupValue": "1"
    }
   },
   "outputs": [
    {
     "name": "stderr",
     "output_type": "stream",
     "text": [
      "  0%|          | 0/1 [00:00<?, ?it/s]"
     ]
    }
   ],
   "source": [
    "vacio = \"SELECT Id, EmpresaContactoConvenio__c from Ficha_Cl_nica_Seg_Paciente_Cr_nico__c WHERE CALENDAR_YEAR(CreatedDate ) >= 2024  and CALENDAR_MONTH(CreatedDate ) >= 4 ORDER BY CreatedDate\"\n",
    "Cita_Servicio = sf.smart_query(vacio)\n",
    "Cita_Servicio = Cita_Servicio[(Cita_Servicio[\"EmpresaContactoConvenio__c\"] == \"-\")]\n",
    "Cita_Servicio = Cita_Servicio[[\"Id\"]]\n",
    "fake_dict = Cita_Servicio.to_dict(\"records\")\n",
    "sf.bulk.Ficha_Cl_nica_Seg_Paciente_Cr_nico__c.update(fake_dict, batch_size=10000, use_serial=True)\n",
    "Cita_Servicio.head()\n",
    "\n",
    "Cita_Servicio.shape\n",
    "\n",
    "query_Cronico = \"SELECT Id,Name,CreatedDate,Canal__c,  Realizado__c, Tipo_de_Atenci_n__c, Owner.Name from Ficha_Cl_nica_Seg_Paciente_Cr_nico__c WHERE CALENDAR_YEAR(CreatedDate ) >= 2024 and CALENDAR_MONTH(CreatedDate ) >= 4 ORDER BY CreatedDate\"\n",
    "dt_Cronico = sf.smart_query(query_Cronico)\n",
    "dt_Cronico[\"Clínica\"] = \"Paciente Crónico\"\n",
    "dt_Cronico[\"Profesional\"] = np.where(\n",
    "    dt_Cronico[\"Owner.Name\"] == \"No - Reply\", \"App\", \"Profesional\"\n",
    ")\n",
    "\n",
    "dt_Cronico = dt_Cronico.rename(\n",
    "    columns={\n",
    "        \"Name\": \"Ficha\",\n",
    "        \"CreatedDate\": \"Fecha creación\",\n",
    "        \"Canal__c\": \"Canal\",\n",
    "        \"Realizado__c\": \"Realizado\",\n",
    "        \"Tipo_de_Atenci_n__c\": \"Tipo de atención\",\n",
    "    }\n",
    ")\n",
    "dt_Cronico = dt_Cronico[\n",
    "    [\n",
    "        \"Id\",\n",
    "        \"Ficha\",\n",
    "        \"Fecha creación\",\n",
    "        \"Canal\",\n",
    "        \"Realizado\",\n",
    "        \"Tipo de atención\",\n",
    "        \"Profesional\",        \n",
    "        \"Clínica\",\n",
    "        #\"Fecha agendamiento\",\n",
    "    ]\n",
    "]\n",
    "dt_Cronico.shape"
   ]
  },
  {
   "cell_type": "markdown",
   "metadata": {},
   "source": [
    "Deporte"
   ]
  },
  {
   "cell_type": "code",
   "execution_count": null,
   "metadata": {
    "notebookRunGroups": {
     "groupValue": "1"
    }
   },
   "outputs": [],
   "source": [
    "vacio = \"SELECT Id, EmpresaContactoConvenio__c from Ficha_Cl_nica_Deporte__c WHERE CALENDAR_YEAR(CreatedDate ) >= 2024  and CALENDAR_MONTH(CreatedDate ) >= 4 ORDER BY CreatedDate\"\n",
    "Cita_Servicio = sf.smart_query(vacio)\n",
    "Cita_Servicio = Cita_Servicio[(Cita_Servicio[\"EmpresaContactoConvenio__c\"] == \"-\")]\n",
    "Cita_Servicio = Cita_Servicio[[\"Id\"]]\n",
    "fake_dict = Cita_Servicio.to_dict(\"records\")\n",
    "sf.bulk.Ficha_Cl_nica_Deporte__c.update(fake_dict, batch_size=10000, use_serial=True)\n",
    "Cita_Servicio.head()\n",
    "\n",
    "Cita_Servicio.shape\n",
    "\n",
    "query_Deporte = \"SELECT Id,Name,CreatedDate,Canal__c,  Realizado__c, Tipo_de_Atenci_n__c, Owner.Name from Ficha_Cl_nica_Deporte__c WHERE CALENDAR_YEAR(CreatedDate ) >= 2024 and CALENDAR_MONTH(CreatedDate ) >= 4 ORDER BY CreatedDate\"\n",
    "dt_Deporte = sf.smart_query(query_Deporte)\n",
    "dt_Deporte[\"Clínica\"] = \"Deporte\"\n",
    "dt_Deporte[\"Profesional\"] = np.where(\n",
    "    dt_Deporte[\"Owner.Name\"] == \"No - Reply\", \"App\", \"Profesional\"\n",
    ")\n",
    "\n",
    "dt_Deporte = dt_Deporte.rename(\n",
    "    columns={\n",
    "        \"Name\": \"Ficha\",\n",
    "        \"CreatedDate\": \"Fecha creación\",\n",
    "        \"Canal__c\": \"Canal\",\n",
    "        \"Realizado__c\": \"Realizado\",\n",
    "        \"Tipo_de_Atenci_n__c\": \"Tipo de atención\",\n",
    "    }\n",
    ")\n",
    "dt_Deporte = dt_Deporte[\n",
    "    [\n",
    "        \"Id\",\n",
    "        \"Ficha\",\n",
    "        \"Fecha creación\",\n",
    "        \"Canal\",\n",
    "        \"Realizado\",\n",
    "        \"Tipo de atención\",\n",
    "        \"Profesional\",        \n",
    "        \"Clínica\",\n",
    "        #\"Fecha agendamiento\",\n",
    "    ]\n",
    "]\n",
    "dt_Deporte.shape"
   ]
  },
  {
   "cell_type": "markdown",
   "metadata": {},
   "source": [
    "Nutricion"
   ]
  },
  {
   "cell_type": "code",
   "execution_count": null,
   "metadata": {
    "notebookRunGroups": {
     "groupValue": "1"
    }
   },
   "outputs": [],
   "source": [
    "vacio = \"SELECT Id, EmpresaContactoConvenio__c from Ficha_Clinica_Nutrici_n__c WHERE CALENDAR_YEAR(CreatedDate ) >= 2024  and CALENDAR_MONTH(CreatedDate ) >= 4 ORDER BY CreatedDate\"\n",
    "Cita_Servicio = sf.smart_query(vacio)\n",
    "Cita_Servicio = Cita_Servicio[(Cita_Servicio[\"EmpresaContactoConvenio__c\"] == \"-\")]\n",
    "Cita_Servicio = Cita_Servicio[[\"Id\"]]\n",
    "fake_dict = Cita_Servicio.to_dict(\"records\")\n",
    "sf.bulk.Ficha_Clinica_Nutrici_n__c.update(fake_dict, batch_size=10000, use_serial=True)\n",
    "Cita_Servicio.head()\n",
    "\n",
    "Cita_Servicio.shape\n",
    "\n",
    "query_nutricion = \"SELECT Id,Name,CreatedDate,Canal__c,  Realizado__c, Tipo_de_Atenci_n__c, Owner.Name from Ficha_Clinica_Nutrici_n__c WHERE CALENDAR_YEAR(CreatedDate ) >= 2024 and CALENDAR_MONTH(CreatedDate ) >= 4 ORDER BY CreatedDate\"\n",
    "dt_Nutricion = sf.smart_query(query_nutricion)\n",
    "dt_Nutricion[\"Clínica\"] = \"Nutrición\"\n",
    "dt_Nutricion[\"Profesional\"] = np.where(\n",
    "    dt_Nutricion[\"Owner.Name\"] == \"No - Reply\", \"App\", \"Profesional\"\n",
    ")\n",
    "\n",
    "dt_Nutricion = dt_Nutricion.rename(\n",
    "    columns={\n",
    "        \"Name\": \"Ficha\",\n",
    "        \"CreatedDate\": \"Fecha creación\",\n",
    "        \"Canal__c\": \"Canal\",\n",
    "        \"Realizado__c\": \"Realizado\",\n",
    "        \"Tipo_de_Atenci_n__c\": \"Tipo de atención\",\n",
    "    }\n",
    ")\n",
    "dt_Nutricion = dt_Nutricion[\n",
    "    [\n",
    "        \"Id\",\n",
    "        \"Ficha\",\n",
    "        \"Fecha creación\",\n",
    "        \"Canal\",\n",
    "        \"Realizado\",\n",
    "        \"Tipo de atención\",\n",
    "        \"Profesional\",        \n",
    "        \"Clínica\",\n",
    "        #\"Fecha agendamiento\",\n",
    "    ]\n",
    "]\n",
    "dt_Nutricion.shape"
   ]
  },
  {
   "cell_type": "markdown",
   "metadata": {},
   "source": [
    "APP SEX"
   ]
  },
  {
   "cell_type": "code",
   "execution_count": null,
   "metadata": {
    "notebookRunGroups": {
     "groupValue": "1"
    }
   },
   "outputs": [],
   "source": [
    "vacio = \"SELECT Id, EmpresaContactoConvenio__c from Ficha_Cl_nica_ApsSex__c  WHERE CALENDAR_YEAR(CreatedDate ) >= 2024  and CALENDAR_MONTH(CreatedDate ) >= 4 ORDER BY CreatedDate\"\n",
    "Cita_Servicio = sf.smart_query(vacio)\n",
    "Cita_Servicio = Cita_Servicio[(Cita_Servicio[\"EmpresaContactoConvenio__c\"] == \"-\")]\n",
    "Cita_Servicio = Cita_Servicio[[\"Id\"]]\n",
    "fake_dict = Cita_Servicio.to_dict(\"records\")\n",
    "sf.bulk.Ficha_Cl_nica_ApsSex__c.update(fake_dict, batch_size=10000, use_serial=True)\n",
    "\n",
    "query_appsex = \"SELECT Id,Name,CreatedDate,Canal__c,  Realizado__c, Tipo_de_Atenci_n__c, Owner.Name from Ficha_Cl_nica_ApsSex__c  WHERE CALENDAR_YEAR(CreatedDate ) >= 2024 and CALENDAR_MONTH(CreatedDate ) >= 4 ORDER BY CreatedDate\"\n",
    "dt_AppSex = sf.smart_query(query_appsex)\n",
    "dt_AppSex[\"Clínica\"] = \"AppSex\"\n",
    "dt_AppSex[\"Profesional\"] = np.where(\n",
    "    dt_AppSex[\"Owner.Name\"] == \"No - Reply\", \"App\", \"Profesional\"\n",
    ")\n",
    "\n",
    "dt_AppSex = dt_AppSex.rename(\n",
    "    columns={\n",
    "        \"Name\": \"Ficha\",\n",
    "        \"CreatedDate\": \"Fecha creación\",\n",
    "        \"Canal__c\": \"Canal\",\n",
    "        \"Realizado__c\": \"Realizado\",\n",
    "        \"Tipo_de_Atenci_n__c\": \"Tipo de atención\",\n",
    "    }\n",
    ")\n",
    "dt_AppSex = dt_AppSex[\n",
    "    [\n",
    "        \"Id\",\n",
    "        \"Ficha\",\n",
    "        \"Fecha creación\",\n",
    "        \"Canal\",\n",
    "        \"Realizado\",\n",
    "        \"Tipo de atención\",\n",
    "        \"Profesional\",        \n",
    "        \"Clínica\",\n",
    "        #\"Fecha agendamiento\",\n",
    "    ]\n",
    "]\n",
    "dt_AppSex.shape"
   ]
  },
  {
   "cell_type": "markdown",
   "metadata": {},
   "source": [
    "Sueño"
   ]
  },
  {
   "cell_type": "code",
   "execution_count": null,
   "metadata": {
    "notebookRunGroups": {
     "groupValue": "1"
    }
   },
   "outputs": [],
   "source": [
    "vacio = \"SELECT Id, EmpresaContactoConvenio__c from Ficha_Cl_nica_del_Sue_o__c   WHERE CALENDAR_YEAR(CreatedDate ) >= 2024  and CALENDAR_MONTH(CreatedDate ) >= 4 ORDER BY CreatedDate\"\n",
    "Cita_Servicio = sf.smart_query(vacio)\n",
    "Cita_Servicio = Cita_Servicio[(Cita_Servicio[\"EmpresaContactoConvenio__c\"] == \"-\")]\n",
    "Cita_Servicio = Cita_Servicio[[\"Id\"]]\n",
    "fake_dict = Cita_Servicio.to_dict(\"records\")\n",
    "sf.bulk.Ficha_Cl_nica_del_Sue_o__c.update(fake_dict, batch_size=10000, use_serial=True)\n",
    "\n",
    "query_sueno = \"SELECT Id,Name,CreatedDate,Canal__c,  Realizado__c, Tipo_de_Atenci_n__c, Owner.Name from Ficha_Cl_nica_del_Sue_o__c   WHERE CALENDAR_YEAR(CreatedDate ) >= 2024 and CALENDAR_MONTH(CreatedDate ) >= 4 ORDER BY CreatedDate\"\n",
    "dt_Sueno = sf.smart_query(query_sueno)\n",
    "dt_Sueno[\"Clínica\"] = \"Clínica del Sueño\"\n",
    "dt_Sueno[\"Profesional\"] = np.where(\n",
    "    dt_Sueno[\"Owner.Name\"] == \"No - Reply\", \"App\", \"Profesional\"\n",
    ")\n",
    "\n",
    "dt_Sueno = dt_Sueno.rename(\n",
    "    columns={\n",
    "        \"Name\": \"Ficha\",\n",
    "        \"CreatedDate\": \"Fecha creación\",\n",
    "        \"Canal__c\": \"Canal\",\n",
    "        \"Realizado__c\": \"Realizado\",\n",
    "        \"Tipo_de_Atenci_n__c\": \"Tipo de atención\",\n",
    "    }\n",
    ")\n",
    "dt_Sueno = dt_Sueno[\n",
    "    [\n",
    "        \"Id\",\n",
    "        \"Ficha\",\n",
    "        \"Fecha creación\",\n",
    "        \"Canal\",\n",
    "        \"Realizado\",\n",
    "        \"Tipo de atención\",\n",
    "        \"Profesional\",        \n",
    "        \"Clínica\",\n",
    "        #\"Fecha agendamiento\",\n",
    "    ]\n",
    "]\n",
    "dt_Sueno.shape"
   ]
  },
  {
   "cell_type": "markdown",
   "metadata": {},
   "source": [
    "Salus Sexual y reproductiva"
   ]
  },
  {
   "cell_type": "code",
   "execution_count": null,
   "metadata": {
    "notebookRunGroups": {
     "groupValue": "1"
    }
   },
   "outputs": [],
   "source": [
    "vacio = \"SELECT Id, EmpresaContactoConvenio__c from Ficha_Salud_Sexual_y_Reproductiva__c WHERE CALENDAR_YEAR(CreatedDate ) >= 2024  and CALENDAR_MONTH(CreatedDate ) >= 4 ORDER BY CreatedDate\"\n",
    "Cita_Servicio = sf.smart_query(vacio)\n",
    "Cita_Servicio = Cita_Servicio[(Cita_Servicio[\"EmpresaContactoConvenio__c\"] == \"-\")]\n",
    "Cita_Servicio = Cita_Servicio[[\"Id\"]]\n",
    "fake_dict = Cita_Servicio.to_dict(\"records\")\n",
    "sf.bulk.Ficha_Salud_Sexual_y_Reproductiva__c.update(fake_dict, batch_size=10000, use_serial=True)\n",
    "\n",
    "query_saludSexual = \"SELECT Id,Name,CreatedDate,Canal__c,  Realizado__c, Tipo_de_Atenci_n__c, Owner.Name from Ficha_Salud_Sexual_y_Reproductiva__c WHERE CALENDAR_YEAR(CreatedDate ) >= 2024 and CALENDAR_MONTH(CreatedDate ) >= 4 ORDER BY CreatedDate\"\n",
    "dt_SaludSexual = sf.smart_query(query_saludSexual)\n",
    "dt_SaludSexual[\"Clínica\"] = \"Salud Sexual y Reproductiva\"\n",
    "dt_SaludSexual[\"Profesional\"] = np.where(\n",
    "    dt_SaludSexual[\"Owner.Name\"] == \"No - Reply\", \"App\", \"Profesional\"\n",
    ")\n",
    "\n",
    "dt_SaludSexual = dt_SaludSexual.rename(\n",
    "    columns={\n",
    "        \"Name\": \"Ficha\",\n",
    "        \"CreatedDate\": \"Fecha creación\",\n",
    "        \"Canal__c\": \"Canal\",\n",
    "        \"Realizado__c\": \"Realizado\",\n",
    "        \"Tipo_de_Atenci_n__c\": \"Tipo de atención\",\n",
    "    }\n",
    ")\n",
    "dt_SaludSexual = dt_SaludSexual[\n",
    "    [\n",
    "        \"Id\",\n",
    "        \"Ficha\",\n",
    "        \"Fecha creación\",\n",
    "        \"Canal\",\n",
    "        \"Realizado\",\n",
    "        \"Tipo de atención\",\n",
    "        \"Profesional\",        \n",
    "        \"Clínica\",\n",
    "        #\"Fecha agendamiento\",\n",
    "    ]\n",
    "]\n",
    "dt_SaludSexual.shape"
   ]
  },
  {
   "cell_type": "markdown",
   "metadata": {},
   "source": [
    "Asistencia Social"
   ]
  },
  {
   "cell_type": "code",
   "execution_count": null,
   "metadata": {
    "notebookRunGroups": {
     "groupValue": "1"
    }
   },
   "outputs": [
    {
     "name": "stderr",
     "output_type": "stream",
     "text": [
      "100%|██████████| 1/1 [00:07<00:00,  7.67s/it]\n",
      "100%|██████████| 1/1 [00:02<00:00,  2.50s/it]\n"
     ]
    },
    {
     "data": {
      "text/plain": [
       "(0, 8)"
      ]
     },
     "execution_count": 56,
     "metadata": {},
     "output_type": "execute_result"
    }
   ],
   "source": [
    "vacio = \"SELECT Id, EmpresaContactoConvenio__c from Ficha_Asistencia_Social__c WHERE CALENDAR_YEAR(CreatedDate ) >= 2024  and CALENDAR_MONTH(CreatedDate ) >= 4 ORDER BY CreatedDate\"\n",
    "Cita_Servicio = sf.smart_query(vacio)\n",
    "Cita_Servicio = Cita_Servicio[(Cita_Servicio[\"EmpresaContactoConvenio__c\"] == \"-\")]\n",
    "Cita_Servicio = Cita_Servicio[[\"Id\"]]\n",
    "fake_dict = Cita_Servicio.to_dict(\"records\")\n",
    "sf.bulk.Ficha_Asistencia_Social__c.update(fake_dict, batch_size=10000, use_serial=True)\n",
    "\n",
    "query_asistencia = \"SELECT Id,Name,CreatedDate,Canal__c,  Realizado__c, Tipo_de_Atenci_n__c, Owner.Name from Ficha_Asistencia_Social__c WHERE CALENDAR_YEAR(CreatedDate ) >= 2024 and CALENDAR_MONTH(CreatedDate ) >= 4 ORDER BY CreatedDate\"\n",
    "dt_AsistenciaSocial = sf.smart_query(query_asistencia)\n",
    "dt_AsistenciaSocial[\"Clínica\"] = \"Asistencia Social\"\n",
    "dt_AsistenciaSocial[\"Profesional\"] = np.where(\n",
    "    dt_AsistenciaSocial[\"Owner.Name\"] == \"No - Reply\", \"App\", \"Profesional\"\n",
    ")\n",
    "\n",
    "dt_AsistenciaSocial = dt_AsistenciaSocial.rename(\n",
    "    columns={\n",
    "        \"Name\": \"Ficha\",\n",
    "        \"CreatedDate\": \"Fecha creación\",\n",
    "        \"Canal__c\": \"Canal\",\n",
    "        \"Realizado__c\": \"Realizado\",\n",
    "        \"Tipo_de_Atenci_n__c\": \"Tipo de atención\",\n",
    "    }\n",
    ")\n",
    "dt_AsistenciaSocial = dt_AsistenciaSocial[\n",
    "    [\n",
    "        \"Id\",\n",
    "        \"Ficha\",\n",
    "        \"Fecha creación\",\n",
    "        \"Canal\",\n",
    "        \"Realizado\",\n",
    "        \"Tipo de atención\",\n",
    "        \"Profesional\",        \n",
    "        \"Clínica\",\n",
    "        #\"Fecha agendamiento\",\n",
    "    ]\n",
    "]\n",
    "dt_AsistenciaSocial.shape"
   ]
  },
  {
   "cell_type": "markdown",
   "metadata": {},
   "source": [
    "Legal Familia"
   ]
  },
  {
   "cell_type": "code",
   "execution_count": null,
   "metadata": {
    "notebookRunGroups": {
     "groupValue": "1"
    }
   },
   "outputs": [
    {
     "name": "stderr",
     "output_type": "stream",
     "text": [
      "100%|██████████| 1/1 [00:03<00:00,  3.60s/it]\n",
      "100%|██████████| 1/1 [00:02<00:00,  2.94s/it]\n"
     ]
    },
    {
     "data": {
      "text/plain": [
       "(0, 8)"
      ]
     },
     "execution_count": 57,
     "metadata": {},
     "output_type": "execute_result"
    }
   ],
   "source": [
    "vacio = \"SELECT Id, EmpresaContactoConvenio__c from Ficha_Legal_Familia__c WHERE CALENDAR_YEAR(CreatedDate ) >= 2024  and CALENDAR_MONTH(CreatedDate ) >= 4 ORDER BY CreatedDate\"\n",
    "Cita_Servicio = sf.smart_query(vacio)\n",
    "Cita_Servicio = Cita_Servicio[(Cita_Servicio[\"EmpresaContactoConvenio__c\"] == \"-\")]\n",
    "Cita_Servicio = Cita_Servicio[[\"Id\"]]\n",
    "fake_dict = Cita_Servicio.to_dict(\"records\")\n",
    "sf.bulk.Ficha_Legal_Familia__c.update(fake_dict, batch_size=10000, use_serial=True)\n",
    "\n",
    "query_legal = \"SELECT Id,Name,CreatedDate,Canal__c,  Realizado__c, Tipo_de_Atenci_n__c, Owner.Name from Ficha_Legal_Familia__c WHERE CALENDAR_YEAR(CreatedDate ) >= 2024 and CALENDAR_MONTH(CreatedDate ) >= 4 ORDER BY CreatedDate\"\n",
    "dt_LegalFamilia = sf.smart_query(query_legal)\n",
    "dt_LegalFamilia[\"Clínica\"] = \"Legal Familia\"\n",
    "dt_LegalFamilia[\"Profesional\"] = np.where(\n",
    "    dt_LegalFamilia[\"Owner.Name\"] == \"No - Reply\", \"App\", \"Profesional\"\n",
    ")\n",
    "\n",
    "dt_LegalFamilia = dt_LegalFamilia.rename(\n",
    "    columns={\n",
    "        \"Name\": \"Ficha\",\n",
    "        \"CreatedDate\": \"Fecha creación\",\n",
    "        \"Canal__c\": \"Canal\",\n",
    "        \"Realizado__c\": \"Realizado\",\n",
    "        \"Tipo_de_Atenci_n__c\": \"Tipo de atención\",\n",
    "    }\n",
    ")\n",
    "dt_LegalFamilia = dt_LegalFamilia[\n",
    "    [\n",
    "        \"Id\",\n",
    "        \"Ficha\",\n",
    "        \"Fecha creación\",\n",
    "        \"Canal\",\n",
    "        \"Realizado\",\n",
    "        \"Tipo de atención\",\n",
    "        \"Profesional\",        \n",
    "        \"Clínica\",\n",
    "        #\"Fecha agendamiento\",\n",
    "    ]\n",
    "]\n",
    "dt_LegalFamilia.shape"
   ]
  },
  {
   "cell_type": "markdown",
   "metadata": {},
   "source": [
    "Salud Bucal"
   ]
  },
  {
   "cell_type": "code",
   "execution_count": null,
   "metadata": {
    "notebookRunGroups": {
     "groupValue": "1"
    }
   },
   "outputs": [
    {
     "name": "stderr",
     "output_type": "stream",
     "text": [
      "100%|██████████| 1/1 [00:02<00:00,  2.98s/it]\n",
      "100%|██████████| 1/1 [00:03<00:00,  3.43s/it]\n"
     ]
    },
    {
     "data": {
      "text/plain": [
       "(8, 8)"
      ]
     },
     "execution_count": 58,
     "metadata": {},
     "output_type": "execute_result"
    }
   ],
   "source": [
    "vacio = \"SELECT Id, EmpresaContactoConvenio__c from Ficha_Salud_Bucal__c WHERE CALENDAR_YEAR(CreatedDate ) >= 2024  and CALENDAR_MONTH(CreatedDate ) >= 4 ORDER BY CreatedDate\"\n",
    "Cita_Servicio = sf.smart_query(vacio)\n",
    "Cita_Servicio = Cita_Servicio[(Cita_Servicio[\"EmpresaContactoConvenio__c\"] == \"-\")]\n",
    "Cita_Servicio = Cita_Servicio[[\"Id\"]]\n",
    "fake_dict = Cita_Servicio.to_dict(\"records\")\n",
    "sf.bulk.Ficha_Salud_Bucal__c.update(fake_dict, batch_size=10000, use_serial=True)\n",
    "\n",
    "query_bucal = \"SELECT Id,Name,CreatedDate,Canal__c,  Realizado__c, Tipo_de_Atenci_n__c, Owner.Name from Ficha_Salud_Bucal__c WHERE CALENDAR_YEAR(CreatedDate ) >= 2024 and CALENDAR_MONTH(CreatedDate ) >= 4 ORDER BY CreatedDate\"\n",
    "dt_SaludBucal = sf.smart_query(query_bucal)\n",
    "dt_SaludBucal[\"Clínica\"] = \"Salud Bucal\"\n",
    "dt_SaludBucal[\"Profesional\"] = np.where(\n",
    "    dt_SaludBucal[\"Owner.Name\"] == \"No - Reply\", \"App\", \"Profesional\"\n",
    ")\n",
    "\n",
    "dt_SaludBucal = dt_SaludBucal.rename(\n",
    "    columns={\n",
    "        \"Name\": \"Ficha\",\n",
    "        \"CreatedDate\": \"Fecha creación\",\n",
    "        \"Canal__c\": \"Canal\",\n",
    "        \"Realizado__c\": \"Realizado\",\n",
    "        \"Tipo_de_Atenci_n__c\": \"Tipo de atención\",\n",
    "    }\n",
    ")\n",
    "dt_SaludBucal = dt_SaludBucal[\n",
    "    [\n",
    "        \"Id\",\n",
    "        \"Ficha\",\n",
    "        \"Fecha creación\",\n",
    "        \"Canal\",\n",
    "        \"Realizado\",\n",
    "        \"Tipo de atención\",\n",
    "        \"Profesional\",        \n",
    "        \"Clínica\",\n",
    "        #\"Fecha agendamiento\",\n",
    "    ]\n",
    "]\n",
    "dt_SaludBucal.shape"
   ]
  },
  {
   "cell_type": "markdown",
   "metadata": {},
   "source": [
    "Veterinaria"
   ]
  },
  {
   "cell_type": "code",
   "execution_count": null,
   "metadata": {
    "notebookRunGroups": {
     "groupValue": "1"
    }
   },
   "outputs": [
    {
     "name": "stderr",
     "output_type": "stream",
     "text": [
      "100%|██████████| 1/1 [00:02<00:00,  2.94s/it]\n",
      "100%|██████████| 1/1 [00:02<00:00,  2.81s/it]\n"
     ]
    },
    {
     "data": {
      "text/plain": [
       "(52, 8)"
      ]
     },
     "execution_count": 59,
     "metadata": {},
     "output_type": "execute_result"
    }
   ],
   "source": [
    "vacio = \"SELECT Id, EmpresaContactoConvenio__c from Ficha_Cl_nica_Veterinaria__c WHERE CALENDAR_YEAR(CreatedDate ) >= 2024  and CALENDAR_MONTH(CreatedDate ) >= 4 ORDER BY CreatedDate\"\n",
    "Cita_Servicio = sf.smart_query(vacio)\n",
    "Cita_Servicio = Cita_Servicio[(Cita_Servicio[\"EmpresaContactoConvenio__c\"] == \"-\")]\n",
    "Cita_Servicio = Cita_Servicio[[\"Id\"]]\n",
    "fake_dict = Cita_Servicio.to_dict(\"records\")\n",
    "sf.bulk.Ficha_Cl_nica_Veterinaria__c.update(fake_dict, batch_size=10000, use_serial=True)\n",
    "\n",
    "query_veterinaria = \"SELECT Id,Name,CreatedDate,Canal__c,  Realizado__c, Tipo_de_Atenci_n__c, Owner.Name from Ficha_Cl_nica_Veterinaria__c WHERE CALENDAR_YEAR(CreatedDate ) >= 2024 and CALENDAR_MONTH(CreatedDate ) >= 4 ORDER BY CreatedDate\"\n",
    "dt_Veterinaria = sf.smart_query(query_veterinaria)\n",
    "dt_Veterinaria[\"Clínica\"] = \"Veterinaria\"\n",
    "dt_Veterinaria[\"Profesional\"] = np.where(\n",
    "    dt_Veterinaria[\"Owner.Name\"] == \"No - Reply\", \"App\", \"Profesional\"\n",
    ")\n",
    "\n",
    "dt_Veterinaria = dt_Veterinaria.rename(\n",
    "    columns={\n",
    "        \"Name\": \"Ficha\",\n",
    "        \"CreatedDate\": \"Fecha creación\",\n",
    "        \"Canal__c\": \"Canal\",\n",
    "        \"Realizado__c\": \"Realizado\",\n",
    "        \"Tipo_de_Atenci_n__c\": \"Tipo de atención\",\n",
    "    }\n",
    ")\n",
    "dt_Veterinaria = dt_Veterinaria[\n",
    "    [\n",
    "        \"Id\",\n",
    "        \"Ficha\",\n",
    "        \"Fecha creación\",\n",
    "        \"Canal\",\n",
    "        \"Realizado\",\n",
    "        \"Tipo de atención\",\n",
    "        \"Profesional\",        \n",
    "        \"Clínica\",\n",
    "        #\"Fecha agendamiento\",\n",
    "    ]\n",
    "]\n",
    "dt_Veterinaria.shape"
   ]
  },
  {
   "cell_type": "markdown",
   "metadata": {},
   "source": [
    "Mis Primeros Pasos"
   ]
  },
  {
   "cell_type": "code",
   "execution_count": null,
   "metadata": {
    "notebookRunGroups": {
     "groupValue": "1"
    }
   },
   "outputs": [
    {
     "name": "stderr",
     "output_type": "stream",
     "text": [
      "100%|██████████| 1/1 [00:03<00:00,  3.57s/it]\n",
      "100%|██████████| 1/1 [00:03<00:00,  3.56s/it]\n"
     ]
    },
    {
     "data": {
      "text/plain": [
       "(4, 8)"
      ]
     },
     "execution_count": 60,
     "metadata": {},
     "output_type": "execute_result"
    }
   ],
   "source": [
    "vacio = \"SELECT Id, EmpresaContactoConvenio__c from Ficha_Mis_Primeros_Pasos__c WHERE CALENDAR_YEAR(CreatedDate ) >= 2024  and CALENDAR_MONTH(CreatedDate ) >= 4 ORDER BY CreatedDate\"\n",
    "Cita_Servicio = sf.smart_query(vacio)\n",
    "Cita_Servicio = Cita_Servicio[(Cita_Servicio[\"EmpresaContactoConvenio__c\"] == \"-\")]\n",
    "Cita_Servicio = Cita_Servicio[[\"Id\"]]\n",
    "fake_dict = Cita_Servicio.to_dict(\"records\")\n",
    "sf.bulk.Ficha_Mis_Primeros_Pasos__c.update(fake_dict, batch_size=10000, use_serial=True)\n",
    "\n",
    "query_primeros = \"SELECT Id,Name,CreatedDate,Canal__c,  Realizado__c, Tipo_de_Atenci_n__c, Owner.Name from Ficha_Mis_Primeros_Pasos__c WHERE CALENDAR_YEAR(CreatedDate ) >= 2024 and CALENDAR_MONTH(CreatedDate ) >= 4 ORDER BY CreatedDate\"\n",
    "dt_PrimerosPasos = sf.smart_query(query_primeros)\n",
    "dt_PrimerosPasos[\"Clínica\"] = \"Primeros Pasos\"\n",
    "dt_PrimerosPasos[\"Profesional\"] = np.where(\n",
    "    dt_PrimerosPasos[\"Owner.Name\"] == \"No - Reply\", \"App\", \"Profesional\"\n",
    ")\n",
    "\n",
    "dt_PrimerosPasos = dt_PrimerosPasos.rename(\n",
    "    columns={\n",
    "        \"Name\": \"Ficha\",\n",
    "        \"CreatedDate\": \"Fecha creación\",\n",
    "        \"Canal__c\": \"Canal\",\n",
    "        \"Realizado__c\": \"Realizado\",\n",
    "        \"Tipo_de_Atenci_n__c\": \"Tipo de atención\",\n",
    "    }\n",
    ")\n",
    "dt_PrimerosPasos = dt_PrimerosPasos[\n",
    "    [\n",
    "        \"Id\",\n",
    "        \"Ficha\",\n",
    "        \"Fecha creación\",\n",
    "        \"Canal\",\n",
    "        \"Realizado\",\n",
    "        \"Tipo de atención\",\n",
    "        \"Profesional\",        \n",
    "        \"Clínica\",\n",
    "        #\"Fecha agendamiento\",\n",
    "    ]\n",
    "]\n",
    "dt_PrimerosPasos.shape"
   ]
  },
  {
   "cell_type": "markdown",
   "metadata": {},
   "source": [
    "Obstetricia"
   ]
  },
  {
   "cell_type": "code",
   "execution_count": null,
   "metadata": {
    "notebookRunGroups": {
     "groupValue": "1"
    }
   },
   "outputs": [
    {
     "name": "stderr",
     "output_type": "stream",
     "text": [
      "100%|██████████| 1/1 [00:02<00:00,  2.76s/it]\n",
      "100%|██████████| 1/1 [00:02<00:00,  2.03s/it]\n"
     ]
    },
    {
     "data": {
      "text/plain": [
       "(0, 8)"
      ]
     },
     "execution_count": 61,
     "metadata": {},
     "output_type": "execute_result"
    }
   ],
   "source": [
    "vacio = \"SELECT Id, EmpresaContactoConvenio__c from Ficha_Cl_nica_Obstreticia__c WHERE CALENDAR_YEAR(CreatedDate ) >= 2024  and CALENDAR_MONTH(CreatedDate ) >= 4 ORDER BY CreatedDate\"\n",
    "Cita_Servicio = sf.smart_query(vacio)\n",
    "Cita_Servicio = Cita_Servicio[(Cita_Servicio[\"EmpresaContactoConvenio__c\"] == \"-\")]\n",
    "Cita_Servicio = Cita_Servicio[[\"Id\"]]\n",
    "fake_dict = Cita_Servicio.to_dict(\"records\")\n",
    "sf.bulk.Ficha_Cl_nica_Obstreticia__c.update(fake_dict, batch_size=10000, use_serial=True)\n",
    "\n",
    "query_obstetricia = \"SELECT Id,Name,CreatedDate,Canal__c,  Realizado__c, Tipo_de_Atenci_n__c, Owner.Name from Ficha_Cl_nica_Obstreticia__c WHERE CALENDAR_YEAR(CreatedDate ) >= 2024 and CALENDAR_MONTH(CreatedDate ) >= 4 ORDER BY CreatedDate\"\n",
    "dt_Obstetricia = sf.smart_query(query_obstetricia)\n",
    "dt_Obstetricia[\"Clínica\"] = \"Obstetricia\"\n",
    "dt_Obstetricia[\"Profesional\"] = np.where(\n",
    "    dt_Obstetricia[\"Owner.Name\"] == \"No - Reply\", \"App\", \"Profesional\"\n",
    ")\n",
    "\n",
    "dt_Obstetricia = dt_Obstetricia.rename(\n",
    "    columns={\n",
    "        \"Name\": \"Ficha\",\n",
    "        \"CreatedDate\": \"Fecha creación\",\n",
    "        \"Canal__c\": \"Canal\",\n",
    "        \"Realizado__c\": \"Realizado\",\n",
    "        \"Tipo_de_Atenci_n__c\": \"Tipo de atención\",\n",
    "    }\n",
    ")\n",
    "dt_Obstetricia = dt_Obstetricia[\n",
    "    [\n",
    "        \"Id\",\n",
    "        \"Ficha\",\n",
    "        \"Fecha creación\",\n",
    "        \"Canal\",\n",
    "        \"Realizado\",\n",
    "        \"Tipo de atención\",\n",
    "        \"Profesional\",        \n",
    "        \"Clínica\",\n",
    "        #\"Fecha agendamiento\",\n",
    "    ]\n",
    "]\n",
    "dt_Obstetricia.shape"
   ]
  },
  {
   "cell_type": "markdown",
   "metadata": {},
   "source": [
    "Ergonomia"
   ]
  },
  {
   "cell_type": "code",
   "execution_count": null,
   "metadata": {
    "notebookRunGroups": {
     "groupValue": "1"
    }
   },
   "outputs": [
    {
     "name": "stderr",
     "output_type": "stream",
     "text": [
      "100%|██████████| 1/1 [00:07<00:00,  7.24s/it]\n",
      "100%|██████████| 1/1 [00:02<00:00,  2.53s/it]\n"
     ]
    },
    {
     "data": {
      "text/plain": [
       "(17, 8)"
      ]
     },
     "execution_count": 62,
     "metadata": {},
     "output_type": "execute_result"
    }
   ],
   "source": [
    "vacio = \"SELECT Id, EmpresaContactoConvenio__c from Ficha_de_Ergonomia__c WHERE CALENDAR_YEAR(CreatedDate ) >= 2024  and CALENDAR_MONTH(CreatedDate ) >= 4 ORDER BY CreatedDate\"\n",
    "Cita_Servicio = sf.smart_query(vacio)\n",
    "Cita_Servicio = Cita_Servicio[(Cita_Servicio[\"EmpresaContactoConvenio__c\"] == \"-\")]\n",
    "Cita_Servicio = Cita_Servicio[[\"Id\"]]\n",
    "fake_dict = Cita_Servicio.to_dict(\"records\")\n",
    "sf.bulk.Ficha_de_Ergonomia__c.update(fake_dict, batch_size=10000, use_serial=True)\n",
    "\n",
    "query_ergonomia = \"SELECT Id,Name,CreatedDate,Canal__c,  Realizado__c, Tipo_de_Atenci_n__c, Owner.Name from Ficha_de_Ergonomia__c WHERE CALENDAR_YEAR(CreatedDate ) >= 2024 and CALENDAR_MONTH(CreatedDate ) >= 4 ORDER BY CreatedDate\"\n",
    "dt_Ergonomia = sf.smart_query(query_ergonomia)\n",
    "dt_Ergonomia[\"Clínica\"] = \"Ergonomia\"\n",
    "dt_Ergonomia[\"Profesional\"] = np.where(\n",
    "    dt_Ergonomia[\"Owner.Name\"] == \"No - Reply\", \"App\", \"Profesional\"\n",
    ")\n",
    "\n",
    "dt_Ergonomia = dt_Ergonomia.rename(\n",
    "    columns={\n",
    "        \"Name\": \"Ficha\",\n",
    "        \"CreatedDate\": \"Fecha creación\",\n",
    "        \"Canal__c\": \"Canal\",\n",
    "        \"Realizado__c\": \"Realizado\",\n",
    "        \"Tipo_de_Atenci_n__c\": \"Tipo de atención\",\n",
    "    }\n",
    ")\n",
    "dt_Ergonomia = dt_Ergonomia[\n",
    "    [\n",
    "        \"Id\",\n",
    "        \"Ficha\",\n",
    "        \"Fecha creación\",\n",
    "        \"Canal\",\n",
    "        \"Realizado\",\n",
    "        \"Tipo de atención\",\n",
    "        \"Profesional\",        \n",
    "        \"Clínica\",\n",
    "        #\"Fecha agendamiento\",\n",
    "    ]\n",
    "]\n",
    "dt_Ergonomia.shape"
   ]
  },
  {
   "cell_type": "markdown",
   "metadata": {},
   "source": [
    "Telemedicina"
   ]
  },
  {
   "cell_type": "code",
   "execution_count": null,
   "metadata": {
    "notebookRunGroups": {
     "groupValue": "1"
    }
   },
   "outputs": [
    {
     "name": "stderr",
     "output_type": "stream",
     "text": [
      "100%|██████████| 1/1 [00:13<00:00, 13.88s/it]\n",
      "100%|██████████| 1/1 [00:08<00:00,  8.77s/it]\n"
     ]
    },
    {
     "data": {
      "text/plain": [
       "(1944, 8)"
      ]
     },
     "execution_count": 63,
     "metadata": {},
     "output_type": "execute_result"
    }
   ],
   "source": [
    "vacio = \"SELECT Id, EmpresaContactoConvenio__c from Ficha_Cl_nica_Telemedicina__c WHERE CALENDAR_YEAR(CreatedDate ) >= 2024  and CALENDAR_MONTH(CreatedDate ) >= 4 ORDER BY CreatedDate\"\n",
    "Cita_Servicio = sf.smart_query(vacio)\n",
    "Cita_Servicio = Cita_Servicio[(Cita_Servicio[\"EmpresaContactoConvenio__c\"] == \"-\")]\n",
    "Cita_Servicio = Cita_Servicio[[\"Id\"]]\n",
    "fake_dict = Cita_Servicio.to_dict(\"records\")\n",
    "sf.bulk.Ficha_Cl_nica_Telemedicina__c.update(fake_dict, batch_size=10000, use_serial=True)\n",
    "\n",
    "query_telemedicina = \"SELECT Id,Name,CreatedDate,Canal__c,  Realizado__c, Tipo_de_Atenci_n__c, Owner.Name from Ficha_Cl_nica_Telemedicina__c WHERE CALENDAR_YEAR(CreatedDate ) >= 2024 and CALENDAR_MONTH(CreatedDate ) >= 4 ORDER BY CreatedDate\"\n",
    "dt_Telemedicina = sf.smart_query(query_telemedicina)\n",
    "dt_Telemedicina[\"Clínica\"] = \"Telemedicina\"\n",
    "dt_Telemedicina[\"Profesional\"] = np.where(\n",
    "    dt_Telemedicina[\"Owner.Name\"] == \"No - Reply\", \"App\", \"Profesional\"\n",
    ")\n",
    "\n",
    "dt_Telemedicina = dt_Telemedicina.rename(\n",
    "    columns={\n",
    "        \"Name\": \"Ficha\",\n",
    "        \"CreatedDate\": \"Fecha creación\",\n",
    "        \"Canal__c\": \"Canal\",\n",
    "        \"Realizado__c\": \"Realizado\",\n",
    "        \"Tipo_de_Atenci_n__c\": \"Tipo de atención\",\n",
    "    }\n",
    ")\n",
    "dt_Telemedicina = dt_Telemedicina[\n",
    "    [\n",
    "        \"Id\",\n",
    "        \"Ficha\",\n",
    "        \"Fecha creación\",\n",
    "        \"Canal\",\n",
    "        \"Realizado\",\n",
    "        \"Tipo de atención\",\n",
    "        \"Profesional\",        \n",
    "        \"Clínica\",\n",
    "        #\"Fecha agendamiento\",\n",
    "    ]\n",
    "]\n",
    "dt_Telemedicina.shape"
   ]
  },
  {
   "cell_type": "markdown",
   "metadata": {},
   "source": [
    "General"
   ]
  },
  {
   "cell_type": "code",
   "execution_count": null,
   "metadata": {
    "notebookRunGroups": {
     "groupValue": "1"
    }
   },
   "outputs": [
    {
     "name": "stderr",
     "output_type": "stream",
     "text": [
      "100%|██████████| 1/1 [00:02<00:00,  2.08s/it]\n",
      "100%|██████████| 1/1 [00:02<00:00,  2.70s/it]\n"
     ]
    },
    {
     "data": {
      "text/plain": [
       "(469, 8)"
      ]
     },
     "execution_count": 64,
     "metadata": {},
     "output_type": "execute_result"
    }
   ],
   "source": [
    "vacio = \"SELECT Id, EmpresaContactoConvenio__c from Ficha_Clinica_General__c WHERE CALENDAR_YEAR(CreatedDate ) >= 2024  and CALENDAR_MONTH(CreatedDate ) >= 4 ORDER BY CreatedDate\"\n",
    "Cita_Servicio = sf.smart_query(vacio)\n",
    "Cita_Servicio = Cita_Servicio[(Cita_Servicio[\"EmpresaContactoConvenio__c\"] == \"-\")]\n",
    "Cita_Servicio = Cita_Servicio[[\"Id\"]]\n",
    "fake_dict = Cita_Servicio.to_dict(\"records\")\n",
    "sf.bulk.Ficha_Clinica_General__c.update(fake_dict, batch_size=10000, use_serial=True)\n",
    "\n",
    "query_general = \"SELECT Id,Name,CreatedDate,Canal__c,Owner.Name,Programa__c from Ficha_Clinica_General__c WHERE CALENDAR_YEAR(CreatedDate ) >= 2024 and CALENDAR_MONTH(CreatedDate ) >= 4 ORDER BY CreatedDate\"\n",
    "dt_General = sf.smart_query(query_general)\n",
    "dt_General[\"Clínica\"] = dt_General[\"Programa__c\"]\n",
    "dt_General[\"Profesional\"] = np.where(\n",
    "    dt_General[\"Owner.Name\"] == \"No - Reply\", \"App\", \"Profesional\"\n",
    ")\n",
    "dt_General[\"Realizado\"] = \"SI\"\n",
    "dt_General[\"Tipo de atención\"] = \"Complemento a la atención\"\n",
    "\n",
    "dt_General = dt_General.rename(\n",
    "    columns={\n",
    "        \"Name\": \"Ficha\",\n",
    "        \"CreatedDate\": \"Fecha creación\",\n",
    "        \"Canal__c\": \"Canal\",\n",
    "        \"Realizado__c\": \"Realizado\",\n",
    "        \"Tipo_de_Atenci_n__c\": \"Tipo de atención\",\n",
    "    }\n",
    ")\n",
    "dt_General = dt_General[\n",
    "    [\n",
    "        \"Id\",\n",
    "        \"Ficha\",\n",
    "        \"Fecha creación\",\n",
    "        \"Canal\",\n",
    "        \"Realizado\",\n",
    "        \"Tipo de atención\",\n",
    "        \"Profesional\",        \n",
    "        \"Clínica\",\n",
    "        #\"Fecha agendamiento\",\n",
    "    ]\n",
    "]\n",
    "dt_General.shape"
   ]
  },
  {
   "cell_type": "markdown",
   "metadata": {},
   "source": [
    "Ficha Front"
   ]
  },
  {
   "cell_type": "code",
   "execution_count": null,
   "metadata": {
    "notebookRunGroups": {
     "groupValue": "1"
    }
   },
   "outputs": [
    {
     "name": "stderr",
     "output_type": "stream",
     "text": [
      "100%|██████████| 1/1 [00:02<00:00,  2.41s/it]\n",
      "100%|██████████| 1/1 [00:07<00:00,  7.90s/it]\n"
     ]
    },
    {
     "data": {
      "text/plain": [
       "(9, 8)"
      ]
     },
     "execution_count": 65,
     "metadata": {},
     "output_type": "execute_result"
    }
   ],
   "source": [
    "vacio = \"SELECT Id, EmpresaContactoConvenio__c from Ficha_Orientaci_n_Medica__c WHERE CALENDAR_YEAR(CreatedDate ) >= 2024  and CALENDAR_MONTH(CreatedDate ) >= 4 ORDER BY CreatedDate\"\n",
    "Cita_Servicio = sf.smart_query(vacio)\n",
    "Cita_Servicio = Cita_Servicio[(Cita_Servicio[\"EmpresaContactoConvenio__c\"] == \"-\")]\n",
    "Cita_Servicio = Cita_Servicio[[\"Id\"]]\n",
    "fake_dict = Cita_Servicio.to_dict(\"records\")\n",
    "sf.bulk.Ficha_Orientaci_n_Medica__c.update(fake_dict, batch_size=10000, use_serial=True)\n",
    "\n",
    "query_orientacion = \"SELECT Id,Name,CreatedDate,Canal__c,Owner.Name,Tipo_de_Atenci_n__c from Ficha_Orientaci_n_Medica__c WHERE CALENDAR_YEAR(CreatedDate ) >= 2024 and CALENDAR_MONTH(CreatedDate ) >= 4 ORDER BY CreatedDate\"\n",
    "dt_Orientacion = sf.smart_query(query_orientacion)\n",
    "dt_Orientacion[\"Clínica\"] = \"Orientación Médica\"\n",
    "dt_Orientacion[\"Profesional\"] = np.where(\n",
    "    dt_Orientacion[\"Owner.Name\"] == \"No - Reply\", \"App\", \"Profesional\"\n",
    ")\n",
    "dt_Orientacion[\"Realizado\"] = \"SI\"\n",
    "#dt_Front[\"Tipo de atención\"] = \"Complemento a la atención\"\n",
    "\n",
    "dt_Orientacion = dt_Orientacion.rename(\n",
    "    columns={\n",
    "        \"Name\": \"Ficha\",\n",
    "        \"CreatedDate\": \"Fecha creación\",\n",
    "        \"Canal__c\": \"Canal\",\n",
    "        \"Realizado__c\": \"Realizado\",\n",
    "        \"Tipo_de_Atenci_n__c\": \"Tipo de atención\",\n",
    "    }\n",
    ")\n",
    "dt_Orientacion = dt_Orientacion[\n",
    "    [\n",
    "        \"Id\",\n",
    "        \"Ficha\",\n",
    "        \"Fecha creación\",\n",
    "        \"Canal\",\n",
    "        \"Realizado\",\n",
    "        \"Tipo de atención\",\n",
    "        \"Profesional\",        \n",
    "        \"Clínica\",\n",
    "        #\"Fecha agendamiento\",\n",
    "    ]\n",
    "]\n",
    "dt_Orientacion.shape"
   ]
  },
  {
   "cell_type": "markdown",
   "metadata": {},
   "source": [
    "Orientacion medica"
   ]
  },
  {
   "cell_type": "code",
   "execution_count": null,
   "metadata": {
    "notebookRunGroups": {
     "groupValue": "1"
    }
   },
   "outputs": [
    {
     "name": "stderr",
     "output_type": "stream",
     "text": [
      "100%|██████████| 1/1 [00:07<00:00,  7.70s/it]\n",
      "100%|██████████| 1/1 [00:02<00:00,  2.62s/it]\n"
     ]
    },
    {
     "data": {
      "text/plain": [
       "(493, 8)"
      ]
     },
     "execution_count": 66,
     "metadata": {},
     "output_type": "execute_result"
    }
   ],
   "source": [
    "vacio = \"SELECT Id, EmpresaContactoConvenio__c from Ficha_Front__c WHERE CALENDAR_YEAR(CreatedDate ) >= 2024  and CALENDAR_MONTH(CreatedDate ) >= 4 ORDER BY CreatedDate\"\n",
    "Cita_Servicio = sf.smart_query(vacio)\n",
    "Cita_Servicio = Cita_Servicio[(Cita_Servicio[\"EmpresaContactoConvenio__c\"] == \"-\")]\n",
    "Cita_Servicio = Cita_Servicio[[\"Id\"]]\n",
    "fake_dict = Cita_Servicio.to_dict(\"records\")\n",
    "sf.bulk.Ficha_Front__c.update(fake_dict, batch_size=10000, use_serial=True)\n",
    "\n",
    "query_front = \"SELECT Id,Name,CreatedDate,Canal__c,Owner.Name,Tipo_de_Atenci_n__c from Ficha_Front__c WHERE CALENDAR_YEAR(CreatedDate ) >= 2024 and CALENDAR_MONTH(CreatedDate ) >= 4 ORDER BY CreatedDate\"\n",
    "dt_Front = sf.smart_query(query_front)\n",
    "dt_Front[\"Clínica\"] = \"Ficha Front\"\n",
    "dt_Front[\"Profesional\"] = np.where(\n",
    "    dt_Front[\"Owner.Name\"] == \"No - Reply\", \"App\", \"Profesional\"\n",
    ")\n",
    "dt_Front[\"Realizado\"] = \"SI\"\n",
    "#dt_Front[\"Tipo de atención\"] = \"Complemento a la atención\"\n",
    "\n",
    "dt_Front = dt_Front.rename(\n",
    "    columns={\n",
    "        \"Name\": \"Ficha\",\n",
    "        \"CreatedDate\": \"Fecha creación\",\n",
    "        \"Canal__c\": \"Canal\",\n",
    "        \"Realizado__c\": \"Realizado\",\n",
    "        \"Tipo_de_Atenci_n__c\": \"Tipo de atención\",\n",
    "    }\n",
    ")\n",
    "dt_Front = dt_Front[\n",
    "    [\n",
    "        \"Id\",\n",
    "        \"Ficha\",\n",
    "        \"Fecha creación\",\n",
    "        \"Canal\",\n",
    "        \"Realizado\",\n",
    "        \"Tipo de atención\",\n",
    "        \"Profesional\",        \n",
    "        \"Clínica\",\n",
    "        #\"Fecha agendamiento\",\n",
    "    ]\n",
    "]\n",
    "dt_Front.shape"
   ]
  },
  {
   "cell_type": "markdown",
   "metadata": {},
   "source": [
    "prevencio cancer de mamas"
   ]
  },
  {
   "cell_type": "code",
   "execution_count": null,
   "metadata": {
    "notebookRunGroups": {
     "groupValue": "1"
    }
   },
   "outputs": [
    {
     "name": "stderr",
     "output_type": "stream",
     "text": [
      "100%|██████████| 1/1 [00:02<00:00,  2.39s/it]\n",
      "100%|██████████| 1/1 [00:02<00:00,  2.69s/it]\n"
     ]
    },
    {
     "data": {
      "text/plain": [
       "(0, 8)"
      ]
     },
     "execution_count": 67,
     "metadata": {},
     "output_type": "execute_result"
    }
   ],
   "source": [
    "vacio = \"SELECT Id, EmpresaContactoConvenio__c from Ficha_Prevencion_Cancer_de_Mamas__c WHERE CALENDAR_YEAR(CreatedDate ) >= 2024  and CALENDAR_MONTH(CreatedDate ) >= 4 ORDER BY CreatedDate\"\n",
    "Cita_Servicio = sf.smart_query(vacio)\n",
    "Cita_Servicio = Cita_Servicio[(Cita_Servicio[\"EmpresaContactoConvenio__c\"] == \"-\")]\n",
    "Cita_Servicio = Cita_Servicio[[\"Id\"]]\n",
    "fake_dict = Cita_Servicio.to_dict(\"records\")\n",
    "sf.bulk.Ficha_Prevencion_Cancer_de_Mamas__c.update(fake_dict, batch_size=10000, use_serial=True)\n",
    "\n",
    "query_mamas = \"SELECT Id,Name,CreatedDate,Canal__c,Owner.Name,Tipo_de_Atenci_n__c from Ficha_Prevencion_Cancer_de_Mamas__c WHERE CALENDAR_YEAR(CreatedDate ) >= 2024 and CALENDAR_MONTH(CreatedDate ) >= 4 ORDER BY CreatedDate\"\n",
    "dt_Mamas = sf.smart_query(query_mamas)\n",
    "dt_Mamas[\"Clínica\"] = \"Prevencion Cancer de Mamas\"\n",
    "dt_Mamas[\"Profesional\"] = np.where(\n",
    "    dt_Mamas[\"Owner.Name\"] == \"No - Reply\", \"App\", \"Profesional\"\n",
    ")\n",
    "dt_Mamas[\"Realizado\"] = \"SI\"\n",
    "#dt_Mamas[\"Tipo de atención\"] = \"Complemento a la atención\"\n",
    "\n",
    "dt_Mamas = dt_Mamas.rename(\n",
    "    columns={\n",
    "        \"Name\": \"Ficha\",\n",
    "        \"CreatedDate\": \"Fecha creación\",\n",
    "        \"Canal__c\": \"Canal\",\n",
    "        \"Realizado__c\": \"Realizado\",\n",
    "        \"Tipo_de_Atenci_n__c\": \"Tipo de atención\",\n",
    "    }\n",
    ")\n",
    "dt_Mamas = dt_Mamas[\n",
    "    [\n",
    "        \"Id\",\n",
    "        \"Ficha\",\n",
    "        \"Fecha creación\",\n",
    "        \"Canal\",\n",
    "        \"Realizado\",\n",
    "        \"Tipo de atención\",\n",
    "        \"Profesional\",        \n",
    "        \"Clínica\",\n",
    "        #\"Fecha agendamiento\",\n",
    "    ]\n",
    "]\n",
    "dt_Mamas.shape"
   ]
  },
  {
   "cell_type": "markdown",
   "metadata": {},
   "source": [
    "Ficha de Activación"
   ]
  },
  {
   "cell_type": "code",
   "execution_count": null,
   "metadata": {
    "notebookRunGroups": {
     "groupValue": "1"
    }
   },
   "outputs": [
    {
     "name": "stderr",
     "output_type": "stream",
     "text": [
      "100%|██████████| 1/1 [00:02<00:00,  2.32s/it]\n",
      "100%|██████████| 1/1 [00:03<00:00,  3.43s/it]\n"
     ]
    },
    {
     "data": {
      "text/plain": [
       "(938, 8)"
      ]
     },
     "execution_count": 68,
     "metadata": {},
     "output_type": "execute_result"
    }
   ],
   "source": [
    "vacio = \"SELECT Id, EmpresaContactoConvenio__c from Activaciones__c WHERE CALENDAR_YEAR(CreatedDate ) >= 2024  and CALENDAR_MONTH(CreatedDate ) >= 4 ORDER BY CreatedDate\"\n",
    "Cita_Servicio = sf.smart_query(vacio)\n",
    "Cita_Servicio = Cita_Servicio[(Cita_Servicio[\"EmpresaContactoConvenio__c\"] == \"-\")]\n",
    "Cita_Servicio = Cita_Servicio[[\"Id\"]]\n",
    "fake_dict = Cita_Servicio.to_dict(\"records\")\n",
    "sf.bulk.Activaciones__c.update(fake_dict, batch_size=10000, use_serial=True)\n",
    "\n",
    "query_activacion = \"SELECT Id,Name,CreatedDate,Canal__c,Owner.Name,Tipo_de_Atenci_n__c,Area__c from Activaciones__c WHERE CALENDAR_YEAR(CreatedDate ) >= 2024 and CALENDAR_MONTH(CreatedDate ) >= 4 ORDER BY CreatedDate\"\n",
    "dt_Activacion = sf.smart_query(query_activacion)\n",
    "#dt_Activacion[\"Clínica\"] = \"Ficha de Activación\"\n",
    "dt_Activacion[\"Profesional\"] = np.where(\n",
    "    dt_Activacion[\"Owner.Name\"] == \"No - Reply\", \"App\", \"Profesional\"\n",
    ")\n",
    "dt_Activacion[\"Realizado\"] = \"SI\"\n",
    "#dt_Activacion[\"Tipo de atención\"] = \"Complemento a la atención\"\n",
    "\n",
    "dt_Activacion = dt_Activacion.rename(\n",
    "    columns={\n",
    "        \"Name\": \"Ficha\",\n",
    "        \"CreatedDate\": \"Fecha creación\",\n",
    "        \"Canal__c\": \"Canal\",\n",
    "        \"Realizado__c\": \"Realizado\",\n",
    "        \"Tipo_de_Atenci_n__c\": \"Tipo de atención\",\n",
    "        \"Area__c\": \"Clínica\",\n",
    "    }\n",
    ")\n",
    "dt_Activacion = dt_Activacion[\n",
    "    [\n",
    "        \"Id\",\n",
    "        \"Ficha\",\n",
    "        \"Fecha creación\",\n",
    "        \"Canal\",\n",
    "        \"Realizado\",\n",
    "        \"Tipo de atención\",\n",
    "        \"Profesional\",        \n",
    "        \"Clínica\",\n",
    "        #\"Fecha agendamiento\",\n",
    "    ]\n",
    "]\n",
    "dt_Activacion.shape"
   ]
  },
  {
   "cell_type": "markdown",
   "metadata": {},
   "source": [
    "Psicologia"
   ]
  },
  {
   "cell_type": "code",
   "execution_count": null,
   "metadata": {
    "notebookRunGroups": {
     "groupValue": "1"
    }
   },
   "outputs": [
    {
     "name": "stderr",
     "output_type": "stream",
     "text": [
      "100%|██████████| 1/1 [00:02<00:00,  2.35s/it]\n",
      "100%|██████████| 1/1 [00:03<00:00,  3.47s/it]\n"
     ]
    },
    {
     "data": {
      "text/plain": [
       "(1067, 9)"
      ]
     },
     "execution_count": 69,
     "metadata": {},
     "output_type": "execute_result"
    }
   ],
   "source": [
    "vacio = \"SELECT Id, EmpresaContactoConvenio__c from Ficha_Cl_nica_Asistencia_Emocional__c WHERE CALENDAR_YEAR(CreatedDate ) >= 2024  and CALENDAR_MONTH(CreatedDate ) >= 4 ORDER BY CreatedDate\"\n",
    "Cita_Servicio = sf.smart_query(vacio)\n",
    "Cita_Servicio = Cita_Servicio[(Cita_Servicio[\"EmpresaContactoConvenio__c\"] == \"-\")]\n",
    "Cita_Servicio = Cita_Servicio[[\"Id\"]]\n",
    "fake_dict = Cita_Servicio.to_dict(\"records\")\n",
    "sf.bulk.Ficha_Cl_nica_Asistencia_Emocional__c.update(fake_dict, batch_size=10000, use_serial=True)\n",
    "\n",
    "query_psicologia = \"SELECT Id,Name,CreatedDate,Canal__c,Tipo_de_Atenci_n__c, Motivo_de_consulta_manifiesto__c,Realizado__c, Owner.Name from Ficha_Cl_nica_Asistencia_Emocional__c WHERE CALENDAR_YEAR(CreatedDate ) >= 2024 and CALENDAR_MONTH(CreatedDate ) >= 4 ORDER BY CreatedDate\"\n",
    "dt_Psicologia = sf.smart_query(query_psicologia)\n",
    "dt_Psicologia[\"Clínica\"] = \"Psicologia\"\n",
    "dt_Psicologia[\"Profesional\"] = np.where(\n",
    "    dt_Psicologia[\"Owner.Name\"] == \"No - Reply\", \"App\", \"Profesional\"\n",
    ")\n",
    "\n",
    "dt_Psicologia[\"Motivo_de_consulta_manifiesto__c\"] = np.where(\n",
    "    dt_Psicologia[\"Motivo_de_consulta_manifiesto__c\"] == \"-\",\n",
    "    \"Otros\",\n",
    "    dt_Psicologia[\"Motivo_de_consulta_manifiesto__c\"],\n",
    ")\n",
    "#dt_Activacion[\"Realizado\"] = \"SI\"\n",
    "#dt_Activacion[\"Tipo de atención\"] = \"Complemento a la atención\"\n",
    "\n",
    "dt_Psicologia = dt_Psicologia.rename(\n",
    "    columns={\n",
    "        \"Name\": \"Ficha\",\n",
    "        \"CreatedDate\": \"Fecha creación\",\n",
    "        \"Canal__c\": \"Canal\",\n",
    "        \"Realizado__c\": \"Realizado\",\n",
    "        \"Tipo_de_Atenci_n__c\": \"Tipo de atención\",\n",
    "        #\"Area__c\": \"Clínica\",\n",
    "         \"Motivo_de_consulta_manifiesto__c\": \"Motivo de consulta\",\n",
    "        \n",
    "    }\n",
    ")\n",
    "dt_Psicologia = dt_Psicologia[\n",
    "    [\n",
    "        \"Id\",\n",
    "        \"Ficha\",\n",
    "        \"Fecha creación\",\n",
    "        \"Canal\",\n",
    "        \"Realizado\",\n",
    "        \"Tipo de atención\",\n",
    "        \"Profesional\",        \n",
    "        \"Clínica\",\n",
    "        \"Motivo de consulta\"\n",
    "        #\"Fecha agendamiento\",\n",
    "    ]\n",
    "]\n",
    "dt_Psicologia.shape"
   ]
  },
  {
   "cell_type": "code",
   "execution_count": null,
   "metadata": {
    "notebookRunGroups": {
     "groupValue": "1"
    }
   },
   "outputs": [
    {
     "data": {
      "text/plain": [
       "(13360, 10)"
      ]
     },
     "execution_count": 70,
     "metadata": {},
     "output_type": "execute_result"
    }
   ],
   "source": [
    "Fichas_Clinicas = pd.concat(\n",
    "    [\n",
    "        CitaDeServicioA,\n",
    "        CitaDeServicioO,\n",
    "        dt_Psicologia,\n",
    "        dt_Cronico,\n",
    "        dt_Deporte,\n",
    "        dt_Nutricion,\n",
    "        dt_AppSex,\n",
    "        dt_Sueno,\n",
    "        dt_Activacion,\n",
    "        dt_Mamas,\n",
    "        dt_Front,\n",
    "        dt_Orientacion,\n",
    "        dt_General,\n",
    "        dt_Telemedicina,\n",
    "        dt_Ergonomia,\n",
    "        dt_Obstetricia,\n",
    "        dt_PrimerosPasos,\n",
    "        dt_Veterinaria,\n",
    "        dt_SaludBucal,\n",
    "        dt_LegalFamilia,\n",
    "        dt_AsistenciaSocial,\n",
    "        dt_SaludSexual\n",
    "        \n",
    "    ],\n",
    "    axis=0,\n",
    ")\n",
    "Fichas_Clinicas.shape"
   ]
  },
  {
   "cell_type": "code",
   "execution_count": null,
   "metadata": {
    "notebookRunGroups": {
     "groupValue": "1"
    }
   },
   "outputs": [
    {
     "data": {
      "text/plain": [
       "(13360, 10)"
      ]
     },
     "execution_count": 71,
     "metadata": {},
     "output_type": "execute_result"
    }
   ],
   "source": [
    "Fichas_Clinicas.shape"
   ]
  },
  {
   "cell_type": "code",
   "execution_count": null,
   "metadata": {
    "notebookRunGroups": {
     "groupValue": "1"
    }
   },
   "outputs": [
    {
     "data": {
      "text/html": [
       "<div>\n",
       "<style scoped>\n",
       "    .dataframe tbody tr th:only-of-type {\n",
       "        vertical-align: middle;\n",
       "    }\n",
       "\n",
       "    .dataframe tbody tr th {\n",
       "        vertical-align: top;\n",
       "    }\n",
       "\n",
       "    .dataframe thead th {\n",
       "        text-align: right;\n",
       "    }\n",
       "</style>\n",
       "<table border=\"1\" class=\"dataframe\">\n",
       "  <thead>\n",
       "    <tr style=\"text-align: right;\">\n",
       "      <th></th>\n",
       "      <th>Id</th>\n",
       "      <th>Ficha</th>\n",
       "      <th>Fecha creación</th>\n",
       "      <th>Canal</th>\n",
       "      <th>Realizado</th>\n",
       "      <th>Tipo de atención</th>\n",
       "      <th>Profesional</th>\n",
       "      <th>Clínica</th>\n",
       "      <th>Fecha agendamiento</th>\n",
       "      <th>Motivo de consulta</th>\n",
       "    </tr>\n",
       "  </thead>\n",
       "  <tbody>\n",
       "    <tr>\n",
       "      <th>0</th>\n",
       "      <td>08pRN000000NhHBYA0</td>\n",
       "      <td>SA-62157</td>\n",
       "      <td>1711933783000</td>\n",
       "      <td>Videollamada</td>\n",
       "      <td>Realizado</td>\n",
       "      <td>Agendamiento</td>\n",
       "      <td>App</td>\n",
       "      <td>Consulta Nutricional</td>\n",
       "      <td>1.712405e+12</td>\n",
       "      <td>NaN</td>\n",
       "    </tr>\n",
       "    <tr>\n",
       "      <th>1</th>\n",
       "      <td>08pRN000000NhInYAK</td>\n",
       "      <td>SA-62158</td>\n",
       "      <td>1711933881000</td>\n",
       "      <td>Videollamada</td>\n",
       "      <td>Realizado</td>\n",
       "      <td>Agendamiento</td>\n",
       "      <td>App</td>\n",
       "      <td>Consulta Deportiva</td>\n",
       "      <td>1.712408e+12</td>\n",
       "      <td>NaN</td>\n",
       "    </tr>\n",
       "    <tr>\n",
       "      <th>2</th>\n",
       "      <td>08pRN000000NhXJYA0</td>\n",
       "      <td>SA-62159</td>\n",
       "      <td>1711938336000</td>\n",
       "      <td>Teléfono</td>\n",
       "      <td>No realizado</td>\n",
       "      <td>Agendamiento</td>\n",
       "      <td>App</td>\n",
       "      <td>Consulta Nutricional</td>\n",
       "      <td>1.711976e+12</td>\n",
       "      <td>NaN</td>\n",
       "    </tr>\n",
       "    <tr>\n",
       "      <th>3</th>\n",
       "      <td>08pRN000000NijVYAS</td>\n",
       "      <td>SA-62162</td>\n",
       "      <td>1711972639000</td>\n",
       "      <td>Videollamada</td>\n",
       "      <td>Realizado</td>\n",
       "      <td>Agendamiento</td>\n",
       "      <td>Profesional</td>\n",
       "      <td>Consulta Psicológica</td>\n",
       "      <td>1.712787e+12</td>\n",
       "      <td>NaN</td>\n",
       "    </tr>\n",
       "    <tr>\n",
       "      <th>4</th>\n",
       "      <td>08pRN000000Nil7YAC</td>\n",
       "      <td>SA-62163</td>\n",
       "      <td>1711973400000</td>\n",
       "      <td>Videollamada</td>\n",
       "      <td>Cancelado</td>\n",
       "      <td>Agendamiento</td>\n",
       "      <td>App</td>\n",
       "      <td>Veterinaria</td>\n",
       "      <td>1.712581e+12</td>\n",
       "      <td>NaN</td>\n",
       "    </tr>\n",
       "  </tbody>\n",
       "</table>\n",
       "</div>"
      ],
      "text/plain": [
       "                   Id     Ficha Fecha creación         Canal     Realizado  \\\n",
       "0  08pRN000000NhHBYA0  SA-62157  1711933783000  Videollamada     Realizado   \n",
       "1  08pRN000000NhInYAK  SA-62158  1711933881000  Videollamada     Realizado   \n",
       "2  08pRN000000NhXJYA0  SA-62159  1711938336000      Teléfono  No realizado   \n",
       "3  08pRN000000NijVYAS  SA-62162  1711972639000  Videollamada     Realizado   \n",
       "4  08pRN000000Nil7YAC  SA-62163  1711973400000  Videollamada     Cancelado   \n",
       "\n",
       "  Tipo de atención  Profesional               Clínica  Fecha agendamiento  \\\n",
       "0     Agendamiento          App  Consulta Nutricional        1.712405e+12   \n",
       "1     Agendamiento          App    Consulta Deportiva        1.712408e+12   \n",
       "2     Agendamiento          App  Consulta Nutricional        1.711976e+12   \n",
       "3     Agendamiento  Profesional  Consulta Psicológica        1.712787e+12   \n",
       "4     Agendamiento          App           Veterinaria        1.712581e+12   \n",
       "\n",
       "  Motivo de consulta  \n",
       "0                NaN  \n",
       "1                NaN  \n",
       "2                NaN  \n",
       "3                NaN  \n",
       "4                NaN  "
      ]
     },
     "execution_count": 72,
     "metadata": {},
     "output_type": "execute_result"
    }
   ],
   "source": [
    "Fichas_Clinicas.head()"
   ]
  },
  {
   "cell_type": "markdown",
   "metadata": {},
   "source": [
    "OBjeto reportes"
   ]
  },
  {
   "cell_type": "code",
   "execution_count": null,
   "metadata": {
    "notebookRunGroups": {
     "groupValue": "1"
    }
   },
   "outputs": [
    {
     "name": "stderr",
     "output_type": "stream",
     "text": [
      "100%|██████████| 1/1 [00:12<00:00, 12.75s/it]\n"
     ]
    },
    {
     "data": {
      "text/plain": [
       "(64651, 7)"
      ]
     },
     "execution_count": 73,
     "metadata": {},
     "output_type": "execute_result"
    }
   ],
   "source": [
    "query_reporte = \"SELECT Ficha__c, Paciente__c, Empresa__c, Rut_Titular__c, Relacion__c, Cargo__c, Divisi_n__c FROM Reporte__c\"\n",
    "Reportes_SF = sf.smart_query(query_reporte)\n",
    "Reportes_SF.shape"
   ]
  },
  {
   "cell_type": "markdown",
   "metadata": {},
   "source": [
    "Empresas"
   ]
  },
  {
   "cell_type": "code",
   "execution_count": null,
   "metadata": {
    "notebookRunGroups": {
     "groupValue": "1"
    }
   },
   "outputs": [
    {
     "name": "stderr",
     "output_type": "stream",
     "text": [
      "100%|██████████| 1/1 [00:09<00:00,  9.07s/it]\n"
     ]
    },
    {
     "data": {
      "text/plain": [
       "(8659, 7)"
      ]
     },
     "execution_count": 74,
     "metadata": {},
     "output_type": "execute_result"
    }
   ],
   "source": [
    "query_empresa = \"SELECT Id, Campa_a__c, Holding__c, Identificador__c, Compania__c, P_liza__c, Corredor__c  from Datos_Empresa__c\"\n",
    "Empresas_SF = sf.smart_query(query_empresa)\n",
    "Empresas_SF.shape"
   ]
  },
  {
   "cell_type": "markdown",
   "metadata": {},
   "source": [
    "Pacientes"
   ]
  },
  {
   "cell_type": "code",
   "execution_count": null,
   "metadata": {
    "notebookRunGroups": {
     "groupValue": "1"
    }
   },
   "outputs": [
    {
     "name": "stderr",
     "output_type": "stream",
     "text": [
      "100%|██████████| 1/1 [06:13<00:00, 373.25s/it]\n"
     ]
    },
    {
     "data": {
      "text/plain": [
       "(2045620, 6)"
      ]
     },
     "execution_count": 75,
     "metadata": {},
     "output_type": "execute_result"
    }
   ],
   "source": [
    "query_pacientes = \"SELECT Id,Name, IdentificationId__pc, HealthCloudGA__Gender__pc,Pa_s_del_Paciente__r.Name, HealthCloudGA__Age__pc from Account where IsPersonAccount = true\"\n",
    "Pacientes_SF = sf.smart_query(query_pacientes)\n",
    "Pacientes_SF.shape"
   ]
  },
  {
   "cell_type": "code",
   "execution_count": null,
   "metadata": {
    "notebookRunGroups": {
     "groupValue": "1"
    }
   },
   "outputs": [],
   "source": [
    "reportes_general = pd.merge(\n",
    "    left=Reportes_SF,\n",
    "    right=Pacientes_SF,\n",
    "    how=\"left\",\n",
    "    left_on=\"Paciente__c\",\n",
    "    right_on=\"Id\",\n",
    ")"
   ]
  },
  {
   "cell_type": "code",
   "execution_count": null,
   "metadata": {
    "notebookRunGroups": {
     "groupValue": "1"
    }
   },
   "outputs": [
    {
     "data": {
      "text/plain": [
       "(64651, 13)"
      ]
     },
     "execution_count": 77,
     "metadata": {},
     "output_type": "execute_result"
    }
   ],
   "source": [
    "reportes_general.shape"
   ]
  },
  {
   "cell_type": "code",
   "execution_count": null,
   "metadata": {
    "notebookRunGroups": {
     "groupValue": "1"
    }
   },
   "outputs": [],
   "source": [
    "reportes_general = pd.merge(\n",
    "    left=reportes_general,\n",
    "    right=Empresas_SF,\n",
    "    how=\"left\",\n",
    "    left_on=\"Empresa__c\",\n",
    "    right_on=\"Id\",\n",
    ")"
   ]
  },
  {
   "cell_type": "code",
   "execution_count": null,
   "metadata": {
    "notebookRunGroups": {
     "groupValue": "1"
    }
   },
   "outputs": [
    {
     "data": {
      "text/plain": [
       "(64651, 20)"
      ]
     },
     "execution_count": 79,
     "metadata": {},
     "output_type": "execute_result"
    }
   ],
   "source": [
    "reportes_general.shape"
   ]
  },
  {
   "cell_type": "code",
   "execution_count": null,
   "metadata": {
    "notebookRunGroups": {
     "groupValue": "1"
    }
   },
   "outputs": [
    {
     "name": "stderr",
     "output_type": "stream",
     "text": [
      "C:\\Users\\jmartinez\\AppData\\Local\\Temp\\ipykernel_5672\\3215250680.py:1: FutureWarning: Passing 'suffixes' which cause duplicate columns {'Id_x'} in the result is deprecated and will raise a MergeError in a future version.\n",
      "  reportes_general = pd.merge(\n"
     ]
    }
   ],
   "source": [
    "reportes_general = pd.merge(\n",
    "    left=reportes_general,\n",
    "    right=Fichas_Clinicas,\n",
    "    how=\"left\",\n",
    "    left_on=\"Ficha__c\",\n",
    "    right_on=\"Id\",\n",
    ")"
   ]
  },
  {
   "cell_type": "code",
   "execution_count": null,
   "metadata": {
    "notebookRunGroups": {
     "groupValue": "1"
    }
   },
   "outputs": [],
   "source": [
    "reportes_general.drop(reportes_general[(reportes_general[\"IdentificationId__pc\"] == \"163820064\")].index, inplace=True)\n",
    "reportes_general.drop(reportes_general[(reportes_general[\"IdentificationId__pc\"] == \"153298939\")].index, inplace=True)\n",
    "reportes_general.drop(reportes_general[(reportes_general[\"IdentificationId__pc\"] == \"191710940\")].index, inplace=True)\n",
    "reportes_general.drop(reportes_general[(reportes_general[\"IdentificationId__pc\"] == \"182470082\")].index, inplace=True)\n",
    "reportes_general.drop(reportes_general[(reportes_general[\"IdentificationId__pc\"] == \"16277865\")].index, inplace=True)\n",
    "reportes_general.drop(reportes_general[(reportes_general[\"IdentificationId__pc\"] == \"16277865K\")].index, inplace=True)\n",
    "reportes_general.drop(reportes_general[(reportes_general[\"IdentificationId__pc\"] == \"HEGJ930928HMNRRL06\")].index, inplace=True)\n",
    "reportes_general.drop(reportes_general[(reportes_general[\"IdentificationId__pc\"] == \"16007258K\")].index, inplace=True)\n",
    "reportes_general.drop(reportes_general[(reportes_general[\"IdentificationId__pc\"] == \"86676540\")].index, inplace=True)\n",
    "reportes_general.drop(reportes_general[(reportes_general[\"IdentificationId__pc\"] == \"202201466\")].index, inplace=True)\n",
    "reportes_general.drop(reportes_general[(reportes_general[\"IdentificationId__pc\"] == \"105233469\")].index, inplace=True)\n",
    "reportes_general.drop(reportes_general[(reportes_general[\"IdentificationId__pc\"] == \"130949185\")].index, inplace=True)\n",
    "reportes_general.drop(reportes_general[(reportes_general[\"IdentificationId__pc\"] == \"255356798\")].index, inplace=True)\n",
    "reportes_general.drop(reportes_general[(reportes_general[\"IdentificationId__pc\"] == \"34005945\")].index, inplace=True)\n",
    "reportes_general.drop(reportes_general[(reportes_general[\"IdentificationId__pc\"] == \"185410072\")].index, inplace=True)\n",
    "reportes_general.drop(reportes_general[(reportes_general[\"IdentificationId__pc\"] == \"34954659\")].index, inplace=True)\n",
    "reportes_general.drop(reportes_general[(reportes_general[\"IdentificationId__pc\"] == \"166110890\")].index, inplace=True)\n",
    "reportes_general.drop(reportes_general[(reportes_general[\"IdentificationId__pc\"] == \"197415029\")].index, inplace=True)\n",
    "reportes_general.drop(reportes_general[(reportes_general[\"IdentificationId__pc\"] == \"254468134\")].index, inplace=True)\n",
    "reportes_general.drop(reportes_general[(reportes_general[\"IdentificationId__pc\"] == \"27591679K\")].index, inplace=True)\n",
    "reportes_general.drop(reportes_general[(reportes_general[\"IdentificationId__pc\"] == \"123890211\")].index, inplace=True)\n",
    "reportes_general.drop(reportes_general[(reportes_general[\"IdentificationId__pc\"] == \"153298931\")].index, inplace=True)\n"
   ]
  },
  {
   "cell_type": "code",
   "execution_count": null,
   "metadata": {
    "notebookRunGroups": {
     "groupValue": "1"
    }
   },
   "outputs": [],
   "source": [
    "reportes_general.Id.fillna(\"NONE\", inplace=True)\n",
    "reportes_general = reportes_general[reportes_general[\"Id\"] == \"NONE\"]\n"
   ]
  },
  {
   "cell_type": "code",
   "execution_count": 95,
   "metadata": {},
   "outputs": [
    {
     "data": {
      "text/plain": [
       "(36798, 40)"
      ]
     },
     "execution_count": 95,
     "metadata": {},
     "output_type": "execute_result"
    }
   ],
   "source": [
    "reportes_general.shape"
   ]
  },
  {
   "cell_type": "code",
   "execution_count": null,
   "metadata": {
    "notebookRunGroups": {
     "groupValue": "1"
    }
   },
   "outputs": [],
   "source": [
    "reportes_general.to_excel(\"F:/Empresas SF/reportes/derty_yuiop_2.xlsx\", index=False)"
   ]
  },
  {
   "cell_type": "code",
   "execution_count": null,
   "metadata": {},
   "outputs": [],
   "source": [
    "reportes_general.shape"
   ]
  },
  {
   "cell_type": "code",
   "execution_count": null,
   "metadata": {},
   "outputs": [],
   "source": []
  },
  {
   "cell_type": "code",
   "execution_count": null,
   "metadata": {},
   "outputs": [],
   "source": [
    "df_deportes.head(50)"
   ]
  },
  {
   "cell_type": "code",
   "execution_count": null,
   "metadata": {},
   "outputs": [],
   "source": [
    "print(pandas.__version__)"
   ]
  },
  {
   "cell_type": "code",
   "execution_count": null,
   "metadata": {},
   "outputs": [],
   "source": [
    "ficha_deporte.head()"
   ]
  },
  {
   "cell_type": "code",
   "execution_count": null,
   "metadata": {
    "notebookRunGroups": {
     "groupValue": ""
    }
   },
   "outputs": [],
   "source": [
    "Reortes_general[\"Dia\"] = pd.to_datetime(Reortes_general[\"Fecha\"]).dt.day\n",
    "\n",
    "Reortes_general[\"Mes\"] = pd.to_datetime(Reortes_general[\"Fecha\"]).dt.month\n",
    "\n",
    "Reortes_general[\"semana\"] = pd.to_datetime(Reortes_general[\"Fecha\"]).dt.month_name()\n",
    "\n",
    "Reortes_general[\"Año\"] = pd.to_datetime(Reortes_general[\"Fecha\"]).dt.year\n",
    "\n",
    "\n",
    "# x = date(Citas_de_servicio['Dia'], Citas_de_servicio['Mes'], Citas_de_servicio['Año'] )\n",
    "Reortes_general[\"Fecha_chilena\"] = pd.to_datetime(\n",
    "    Reortes_general[\"Fecha\"], dayfirst=True, yearfirst=False, exact=True\n",
    ")\n",
    "Reortes_general[\"Fecha_chilena2\"] = Reortes_general[\"Fecha_chilena\"].dt.strftime(\n",
    "    \"%d-%m-%Y\"\n",
    ")\n",
    "general_Sexo = {\n",
    "    \"M\": \"Hombre\",\n",
    "    \"m\": \"Hombre\",\n",
    "    \"\": \"Prefiero no responder\",\n",
    "    \"HOMBRE\": \"Hombre\",\n",
    "    \"MUJER\": \"Mujer\",\n",
    "    \"F\": \"Mujer\",\n",
    "    \"O\": \"O\",\n",
    "    \"Ambos\": \"Prefiero no responder\",\n",
    "    \"N\": \"Prefiero no responder\",\n",
    "    \"Otro\": \"Prefiero no responder\",\n",
    "    \"n\": \"Prefiero no responder\",\n",
    "    \"N\": \"Prefiero no responder\",\n",
    "    \"FEMENINO\": \"Mujer\",\n",
    "    \"f\": \"Mujer\",\n",
    "    \"MASCULINO\": \"Hombre\",\n",
    "    \"m\": \"Hombre\",\n",
    "    \"M \": \"Hombre\",\n",
    "    \"F \": \"Mujer\",\n",
    "    \"Varón\": \"Hombre\",\n",
    "    \"Masculino\": \"Hombre\",\n",
    "    \"Femenino\": \"Mujer\",\n",
    "    \"\": \"Prefiero no responder\",\n",
    "    \"Otros\": \"Prefiero no responder\",\n",
    "}\n",
    "\n",
    "\n",
    "clinicas_ = {\n",
    "    \"Clínica de Nutrición\": \"Nutrición\",\n",
    "    \"Clínica de Deporte\": \"Deporte\",\n",
    "    \"Clínica de Psicología\": \"Psicología\",\n",
    "    \"Clínica Ingreso Deportivo Seguro\": \"Deporte\",\n",
    "    \"Clínica del Sueño\": \"Clínica Del Sueño\",\n",
    "    \"Clínica Seguimiento Pacientes Crónicos\": \"Pacientes Crónicos\",\n",
    "    \"Seguimiento de Pacientes Crónicos\": \"Pacientes Crónicos\",\n",
    "    \"Orientación Médica\": \"Orientación Médica\",\n",
    "    \"Asesoría Deportiva\": \"Deporte\",\n",
    "    \"Asistencia Emocional\": \"Psicología\",\n",
    "    \"Asistencia Nutricional\": \"Nutrición\",\n",
    "    \"Clínica APSSex\": \"Asesoría Psicológica en Salud Sexual\",\n",
    "    \"Clínica Del Sueño\": \"Clínica Del Sueño\",\n",
    "    \"Clínica Veterinaria\": \"Veterinaria\",\n",
    "    \"Ingreso Deportivo Seguro\": \"Deporte\",\n",
    "    \"Clínica Mis Primeros Pasos\": \"Mis Primeros Pasos\",\n",
    "    \"Ingreso Deporte Seguro\": \"Deporte\",\n",
    "    \"APSSex\": \"Asesoría Psicológica en Salud Sexual\",\n",
    "    \"Médico Cirujano\": \"Telemedicina\",\n",
    "    \"Kinesióloga\": \"Deporte\",\n",
    "    \"Coordinadora General de Operaciones\": \"Nutrición\",\n",
    "    \"Coordinadora de Equipo de Nutrición y Deporte\": \"Deporte\",\n",
    "    \"Encargado de Equipo Psicología\": \"Psicología\",\n",
    "    \"Psicólogo\": \"Psicología\",\n",
    "    \"Coordinadora de Telemedicina, Enfermería, Maternidad, Dental y Veterinaria\": \"Telemedicina\",\n",
    "    \"Clínica de Orientación LGBT+\": \"Orientación LGBT+\",\n",
    "    \"Clínica MetLife Prueba\": \"Orientación Médica\",\n",
    "    \"Soporte TI\": \"Orientación Médica\",\n",
    "    \"Paciente Crónico\": \"Pacientes Crónicos\",\n",
    "    \"Consulta Deportiva\": \"Deporte\",\n",
    "    \"Consulta Nutricional\": \"Nutrición\",\n",
    "    \"Consulta Psicológica\": \"Psicología\",\n",
    "}\n",
    "Reortes_general.replace({\"Clínica\": clinicas_}, inplace=True)\n",
    "\n",
    "Clinicas_metlife = {\n",
    "    \"Mis Primeros Pasos\": \"Pacientes Crónicos\",\n",
    "    \"Ingreso Deporte Seguro\": \"Deporte\",\n",
    "    \"Veterinaria\": \"Orientación Médica\",\n",
    "}\n",
    "\n",
    "Canal = {\n",
    "    \"Phone\": \"LLamada\",\n",
    "    \"Video\": \"Videollamada\",\n",
    "    \"Entrante - Chat\": \"Entrante - Chat Online\",\n",
    "    \"Videollamda\": \"Videollamada\",\n",
    "    \"Teléfono\": \"LLamada\",\n",
    "    \"Correo\": \"Correo electrónico\",\n",
    "}\n",
    "Reortes_general.replace({\"Canal\": Canal}, inplace=True)\n",
    "\n",
    "meses = {\n",
    "    1: \"Enero\",\n",
    "    2: \"Febrero\",\n",
    "    3: \"Marzo\",\n",
    "    4: \"Abril\",\n",
    "    5: \"Mayo\",\n",
    "    6: \"Junio\",\n",
    "    7: \"Julio\",\n",
    "    8: \"Agosto\",\n",
    "    9: \"Septiembre\",\n",
    "    10: \"Octubre\",\n",
    "    11: \"Noviembre\",\n",
    "    12: \"Diciembre\",\n",
    "}\n",
    "Reortes_general.replace({\"Canal\": Canal}, inplace=True)\n",
    "Reortes_general[\"Meses\"] = Reortes_general[\"Mes\"]\n",
    "Reortes_general.replace({\"Meses\": meses}, inplace=True)\n",
    "Reortes_general[\"Fecha_chilena\"] = Reortes_general[\"Fecha_chilena\"].dt.tz_localize(None)\n",
    "Reortes_general.Rut.fillna(\"0\", inplace=True)\n",
    "Reortes_general.Canal.fillna(\"Sin Canal\", inplace=True)"
   ]
  },
  {
   "cell_type": "code",
   "execution_count": null,
   "metadata": {
    "notebookRunGroups": {
     "groupValue": ""
    }
   },
   "outputs": [],
   "source": [
    "Reportes_con_empresas = pd.merge(\n",
    "    left=Reortes_general,\n",
    "    right=empresas_unidas,\n",
    "    how=\"left\",\n",
    "    left_on=\"Id Paciente\",\n",
    "    right_on=\"Id Account Paciente\",\n",
    ")\n",
    "\n",
    "\n",
    "Reportes_con_empresas.shape"
   ]
  },
  {
   "cell_type": "code",
   "execution_count": null,
   "metadata": {
    "notebookRunGroups": {
     "groupValue": ""
    }
   },
   "outputs": [],
   "source": [
    "Reportes_con_empresas[\"Rut_x\"].str.upper()\n",
    "Reportes_con_empresas[\"Rut_y\"].str.upper()\n",
    "\n",
    "Reportes_con_empresas.Empleador_x.fillna(\n",
    "    Reportes_con_empresas[\"Nombre Empresa\"], inplace=True\n",
    ")"
   ]
  },
  {
   "attachments": {},
   "cell_type": "markdown",
   "metadata": {},
   "source": [
    "Salida de datos\n"
   ]
  },
  {
   "cell_type": "code",
   "execution_count": null,
   "metadata": {
    "notebookRunGroups": {
     "groupValue": ""
    }
   },
   "outputs": [],
   "source": [
    "reportes = Reportes_con_empresas[\n",
    "    [\n",
    "        \"Codigo Ficha\",\n",
    "        \"Rut_x\",\n",
    "        \"Nombre\",\n",
    "        \"Sexo\",\n",
    "        \"Ocupacion\",\n",
    "        \"Cargo\",\n",
    "        \"Departamento\",\n",
    "        \"Campaña\",\n",
    "        \"Holding\",\n",
    "        \"Empleador_x\",\n",
    "        \"Poliza\",\n",
    "        \"Fecha\",\n",
    "        \"Fecha_chilena\",\n",
    "        \"Fecha_chilena2\",\n",
    "        \"Dia\",\n",
    "        \"Mes\",\n",
    "        \"Año\",\n",
    "        \"Meses\",\n",
    "        \"Canal\",\n",
    "        \"Clínica\",\n",
    "        \"Motivo de consulta\",\n",
    "        \"Nombre Empresa\",\n",
    "        \"Codigo EMP\",\n",
    "        \"Codigo A\",\n",
    "        \"Vigente\",\n",
    "        \"Corredor\",\n",
    "        \"Pais\",\n",
    "    ]\n",
    "]\n",
    "\n",
    "\n",
    "reportes.drop(reportes[(reportes[\"Rut_x\"] == \"153298939\")].index, inplace=True)\n",
    "reportes.drop(reportes[(reportes[\"Rut_x\"] == \"191710940\")].index, inplace=True)\n",
    "reportes.drop(reportes[(reportes[\"Rut_x\"] == \"182470082\")].index, inplace=True)\n",
    "reportes.drop(reportes[(reportes[\"Rut_x\"] == \"16277865\")].index, inplace=True)\n",
    "reportes.drop(reportes[(reportes[\"Rut_x\"] == \"HEGJ930928HMNRRL06\")].index, inplace=True)\n",
    "reportes.drop(reportes[(reportes[\"Rut_x\"] == \"1122345\")].index, inplace=True)\n",
    "reportes.drop(reportes[(reportes[\"Rut_x\"] == \"28131394\")].index, inplace=True)\n",
    "reportes.drop(reportes[(reportes[\"Rut_x\"] == \"34005945\")].index, inplace=True)\n",
    "reportes.drop(reportes[(reportes[\"Rut_x\"] == \"255356798\")].index, inplace=True)\n",
    "\n",
    "\n",
    "Pais_SF = {\"a1U8c000005dAtnEAE\": \"Chile\", \"a1U8c000005dAtsEAE\": \"México\"}\n",
    "reportes.replace({\"Pais\": Pais_SF}, inplace=True)\n",
    "\n",
    "reportes = reportes.rename(columns={\"Rut_x\": \"Rut\", \"Empleador_x\": \"Empleador\"})\n",
    "reportes[\"Motivo de consulta\"].fillna(0, inplace=True)\n",
    "reportes[\"Motivo de consulta\"] = np.where(\n",
    "    (reportes[\"Clínica\"] == \"Psicología\") & (reportes[\"Motivo de consulta\"] == 0),\n",
    "    \"Ingreso a Psicologia\",\n",
    "    reportes[\"Motivo de consulta\"],\n",
    ")\n",
    "reportes.Clínica.fillna(\"Orientación Médica\", inplace=True)\n",
    "reportes = reportes.drop_duplicates(\n",
    "    [\"Clínica\", \"Empleador\", \"Nombre Empresa\", \"Codigo Ficha\"], keep=\"last\"\n",
    ")\n",
    "reportes.replace({\"Sexo\": general_Sexo}, inplace=True)\n",
    "\n",
    "reportes[\"Rut\"] = reportes[\"Rut\"].str.replace(\"-\", \"\")\n",
    "reportes.replace({\"Sexo\": general_Sexo}, inplace=True)"
   ]
  },
  {
   "cell_type": "code",
   "execution_count": null,
   "metadata": {},
   "outputs": [],
   "source": [
    "hoy = datetime.datetime.now()\n",
    "print(hoy)\n",
    "reportes.shape"
   ]
  },
  {
   "cell_type": "code",
   "execution_count": null,
   "metadata": {},
   "outputs": [],
   "source": [
    "reportes.to_excel(\"C:/Users/jmartinez/Documents/reportes2.xlsx\", index=False)\n",
    "reportes.dtypes"
   ]
  },
  {
   "cell_type": "code",
   "execution_count": null,
   "metadata": {},
   "outputs": [],
   "source": [
    "reportes = reportes[(reportes[\"Fecha_chilena\"] <= hoy)]\n",
    "reportes.shape"
   ]
  },
  {
   "cell_type": "code",
   "execution_count": null,
   "metadata": {},
   "outputs": [],
   "source": [
    "reportes.shape"
   ]
  },
  {
   "cell_type": "code",
   "execution_count": null,
   "metadata": {},
   "outputs": [],
   "source": [
    "reportes[\"Corredor\"] = np.where(\n",
    "    (reportes[\"Fecha\"] >= \"2023-08-01T00:00:00.000+0000\")\n",
    "    & (reportes[\"Poliza\"] == \"340002436\"),\n",
    "    \"Aon Risk Services (Chile) Corred. De Seg.\",\n",
    "    reportes[\"Corredor\"],\n",
    ")\n",
    "reportes[\"Corredor\"] = np.where(\n",
    "    (reportes[\"Fecha\"] >= \"2023-08-01T00:00:00.000+0000\")\n",
    "    & (reportes[\"Poliza\"] == \"340002438\"),\n",
    "    \"Aon Risk Services (Chile) Corred. De Seg.\",\n",
    "    reportes[\"Corredor\"],\n",
    ")\n",
    "reportes[\"Corredor\"] = np.where(\n",
    "    (reportes[\"Fecha\"] >= \"2023-08-01T00:00:00.000+0000\")\n",
    "    & (reportes[\"Poliza\"] == \"340002439\"),\n",
    "    \"Aon Risk Services (Chile) Corred. De Seg.\",\n",
    "    reportes[\"Corredor\"],\n",
    ")\n",
    "reportes[\"Corredor\"] = np.where(\n",
    "    (reportes[\"Fecha\"] >= \"2023-08-01T00:00:00.000+0000\")\n",
    "    & (reportes[\"Poliza\"] == \"340002444\"),\n",
    "    \"Aon Risk Services (Chile) Corred. De Seg.\",\n",
    "    reportes[\"Corredor\"],\n",
    ")\n",
    "reportes[\"Corredor\"] = np.where(\n",
    "    (reportes[\"Fecha\"] >= \"2023-08-01T00:00:00.000+0000\")\n",
    "    & (reportes[\"Poliza\"] == \"340002446\"),\n",
    "    \"Aon Risk Services (Chile) Corred. De Seg.\",\n",
    "    reportes[\"Corredor\"],\n",
    ")\n",
    "reportes[\"Corredor\"] = np.where(\n",
    "    (reportes[\"Fecha\"] >= \"2023-08-01T00:00:00.000+0000\")\n",
    "    & (reportes[\"Poliza\"] == \"340002452\"),\n",
    "    \"Aon Risk Services (Chile) Corred. De Seg.\",\n",
    "    reportes[\"Corredor\"],\n",
    ")\n",
    "reportes[\"Corredor\"] = np.where(\n",
    "    (reportes[\"Fecha\"] >= \"2023-08-01T00:00:00.000+0000\")\n",
    "    & (reportes[\"Poliza\"] == \"340002453\"),\n",
    "    \"Aon Risk Services (Chile) Corred. De Seg.\",\n",
    "    reportes[\"Corredor\"],\n",
    ")\n",
    "reportes[\"Corredor\"] = np.where(\n",
    "    (reportes[\"Fecha\"] >= \"2023-08-01T00:00:00.000+0000\")\n",
    "    & (reportes[\"Poliza\"] == \"340002454\"),\n",
    "    \"Aon Risk Services (Chile) Corred. De Seg.\",\n",
    "    reportes[\"Corredor\"],\n",
    ")\n",
    "reportes[\"Corredor\"] = np.where(\n",
    "    (reportes[\"Fecha\"] >= \"2023-08-01T00:00:00.000+0000\")\n",
    "    & (reportes[\"Poliza\"] == \"340002456\"),\n",
    "    \"Aon Risk Services (Chile) Corred. De Seg.\",\n",
    "    reportes[\"Corredor\"],\n",
    ")\n",
    "reportes[\"Corredor\"] = np.where(\n",
    "    (reportes[\"Fecha\"] >= \"2023-08-01T00:00:00.000+0000\")\n",
    "    & (reportes[\"Poliza\"] == \"340002458\"),\n",
    "    \"Aon Risk Services (Chile) Corred. De Seg.\",\n",
    "    reportes[\"Corredor\"],\n",
    ")\n",
    "reportes[\"Corredor\"] = np.where(\n",
    "    (reportes[\"Fecha\"] >= \"2023-08-01T00:00:00.000+0000\")\n",
    "    & (reportes[\"Poliza\"] == \"340002459\"),\n",
    "    \"Aon Risk Services (Chile) Corred. De Seg.\",\n",
    "    reportes[\"Corredor\"],\n",
    ")\n",
    "reportes[\"Corredor\"] = np.where(\n",
    "    (reportes[\"Fecha\"] >= \"2023-08-01T00:00:00.000+0000\")\n",
    "    & (reportes[\"Poliza\"] == \"340002460\"),\n",
    "    \"Aon Risk Services (Chile) Corred. De Seg.\",\n",
    "    reportes[\"Corredor\"],\n",
    ")\n",
    "reportes[\"Corredor\"] = np.where(\n",
    "    (reportes[\"Fecha\"] >= \"2023-08-01T00:00:00.000+0000\")\n",
    "    & (reportes[\"Poliza\"] == \"340003524\"),\n",
    "    \"Aon Risk Services (Chile) Corred. De Seg.\",\n",
    "    reportes[\"Corredor\"],\n",
    ")\n",
    "reportes[\"Corredor\"] = np.where(\n",
    "    (reportes[\"Fecha\"] >= \"2023-08-01T00:00:00.000+0000\")\n",
    "    & (reportes[\"Poliza\"] == \"340003525\"),\n",
    "    \"Aon Risk Services (Chile) Corred. De Seg.\",\n",
    "    reportes[\"Corredor\"],\n",
    ")\n",
    "reportes[\"Corredor\"] = np.where(\n",
    "    (reportes[\"Fecha\"] >= \"2023-08-01T00:00:00.000+0000\")\n",
    "    & (reportes[\"Poliza\"] == \"340003526\"),\n",
    "    \"Aon Risk Services (Chile) Corred. De Seg.\",\n",
    "    reportes[\"Corredor\"],\n",
    ")\n",
    "reportes[\"Corredor\"] = np.where(\n",
    "    (reportes[\"Fecha\"] >= \"2023-08-01T00:00:00.000+0000\")\n",
    "    & (reportes[\"Poliza\"] == \"340003529\"),\n",
    "    \"Aon Risk Services (Chile) Corred. De Seg.\",\n",
    "    reportes[\"Corredor\"],\n",
    ")\n",
    "reportes[\"Corredor\"] = np.where(\n",
    "    (reportes[\"Fecha\"] >= \"2023-08-01T00:00:00.000+0000\")\n",
    "    & (reportes[\"Poliza\"] == \"340003535\"),\n",
    "    \"Aon Risk Services (Chile) Corred. De Seg.\",\n",
    "    reportes[\"Corredor\"],\n",
    ")\n",
    "reportes[\"Corredor\"] = np.where(\n",
    "    (reportes[\"Fecha\"] >= \"2023-08-01T00:00:00.000+0000\")\n",
    "    & (reportes[\"Poliza\"] == \"340008474\"),\n",
    "    \"Aon Risk Services (Chile) Corred. De Seg.\",\n",
    "    reportes[\"Corredor\"],\n",
    ")\n",
    "reportes[\"Corredor\"] = np.where(\n",
    "    (reportes[\"Fecha\"] >= \"2023-08-01T00:00:00.000+0000\")\n",
    "    & (reportes[\"Poliza\"] == \"340008475\"),\n",
    "    \"Aon Risk Services (Chile) Corred. De Seg.\",\n",
    "    reportes[\"Corredor\"],\n",
    ")\n",
    "reportes[\"Corredor\"] = np.where(\n",
    "    (reportes[\"Fecha\"] >= \"2023-08-01T00:00:00.000+0000\")\n",
    "    & (reportes[\"Poliza\"] == \"340008476\"),\n",
    "    \"Aon Risk Services (Chile) Corred. De Seg.\",\n",
    "    reportes[\"Corredor\"],\n",
    ")\n",
    "reportes[\"Corredor\"] = np.where(\n",
    "    (reportes[\"Fecha\"] >= \"2023-08-01T00:00:00.000+0000\")\n",
    "    & (reportes[\"Poliza\"] == \"340008481\"),\n",
    "    \"Aon Risk Services (Chile) Corred. De Seg.\",\n",
    "    reportes[\"Corredor\"],\n",
    ")\n",
    "reportes[\"Corredor\"] = np.where(\n",
    "    (reportes[\"Fecha\"] >= \"2023-08-01T00:00:00.000+0000\")\n",
    "    & (reportes[\"Poliza\"] == \"340008482\"),\n",
    "    \"Aon Risk Services (Chile) Corred. De Seg.\",\n",
    "    reportes[\"Corredor\"],\n",
    ")\n",
    "reportes[\"Corredor\"] = np.where(\n",
    "    (reportes[\"Fecha\"] >= \"2023-08-01T00:00:00.000+0000\")\n",
    "    & (reportes[\"Poliza\"] == \"340008484\"),\n",
    "    \"Aon Risk Services (Chile) Corred. De Seg.\",\n",
    "    reportes[\"Corredor\"],\n",
    ")\n",
    "reportes[\"Corredor\"] = np.where(\n",
    "    (reportes[\"Fecha\"] >= \"2023-08-01T00:00:00.000+0000\")\n",
    "    & (reportes[\"Poliza\"] == \"340011103\"),\n",
    "    \"Aon Risk Services (Chile) Corred. De Seg.\",\n",
    "    reportes[\"Corredor\"],\n",
    ")\n",
    "reportes[\"Corredor\"] = np.where(\n",
    "    (reportes[\"Fecha\"] >= \"2023-08-01T00:00:00.000+0000\")\n",
    "    & (reportes[\"Poliza\"] == \"340011161\"),\n",
    "    \"Aon Risk Services (Chile) Corred. De Seg.\",\n",
    "    reportes[\"Corredor\"],\n",
    ")\n",
    "reportes[\"Corredor\"] = np.where(\n",
    "    (reportes[\"Fecha\"] >= \"2023-08-01T00:00:00.000+0000\")\n",
    "    & (reportes[\"Poliza\"] == \"340011103\"),\n",
    "    \"Aon Risk Services (Chile) Corred. De Seg.\",\n",
    "    reportes[\"Corredor\"],\n",
    ")"
   ]
  },
  {
   "cell_type": "code",
   "execution_count": null,
   "metadata": {
    "notebookRunGroups": {
     "groupValue": "1"
    }
   },
   "outputs": [
    {
     "ename": "NameError",
     "evalue": "name 'Programas_pacientes' is not defined",
     "output_type": "error",
     "traceback": [
      "\u001b[1;31m---------------------------------------------------------------------------\u001b[0m",
      "\u001b[1;31mNameError\u001b[0m                                 Traceback (most recent call last)",
      "Cell \u001b[1;32mIn[82], line 5\u001b[0m\n\u001b[0;32m      1\u001b[0m \u001b[38;5;124;03m\"\"\" Reportes_con_empresas.to_excel(\u001b[39;00m\n\u001b[0;32m      2\u001b[0m \u001b[38;5;124;03m    \"C:/Users/jmartinez/Documents/reportes_completos.xlsx\", index=False\u001b[39;00m\n\u001b[0;32m      3\u001b[0m \u001b[38;5;124;03m) \"\"\"\u001b[39;00m\n\u001b[1;32m----> 5\u001b[0m \u001b[43mProgramas_pacientes\u001b[49m\u001b[38;5;241m.\u001b[39mto_excel(\u001b[38;5;124m\"\u001b[39m\u001b[38;5;124mC:/Users/jmartinez/Documents/Empresas.xlsx\u001b[39m\u001b[38;5;124m\"\u001b[39m, index\u001b[38;5;241m=\u001b[39m\u001b[38;5;28;01mFalse\u001b[39;00m)\n",
      "\u001b[1;31mNameError\u001b[0m: name 'Programas_pacientes' is not defined"
     ]
    }
   ],
   "source": [
    "\"\"\" Reportes_con_empresas.to_excel(\n",
    "    \"C:/Users/jmartinez/Documents/reportes_completos.xlsx\", index=False\n",
    ") \"\"\"\n",
    "\n",
    "Programas_pacientes.to_excel(\"C:/Users/jmartinez/Documents/Empresas.xlsx\", index=False)\n",
    "# reportes.to_excel(\"C:/Users/jmartinez/Documents/reportes.xlsx\", index=False)"
   ]
  },
  {
   "cell_type": "code",
   "execution_count": null,
   "metadata": {
    "notebookRunGroups": {
     "groupValue": "1"
    }
   },
   "outputs": [],
   "source": [
    "general_todo = reportes[(reportes[\"Empleador\"] == reportes[\"Nombre Empresa\"])]\n",
    "\n",
    "\n",
    "# general_todo2 = reportes[(reportes[\"Empleador\"] == reportes[\"Nombre Empresa\"]) & (reportes[\"Poliza\"]==\"340002436\") | (reportes[\"Poliza\"]==\"340002446\") ]"
   ]
  },
  {
   "cell_type": "code",
   "execution_count": null,
   "metadata": {},
   "outputs": [],
   "source": [
    "# general_todo = reportes[(reportes[\"Empleador\"] == reportes[\"Nombre Empresa\"])]\n",
    "reportes.to_excel(\"C:/Users/jmartinez/Documents/reportes.xlsx\", index=False)\n",
    "general_todo.to_excel(\"C:/Users/jmartinez/Documents/General_Base.xlsx\", index=False)"
   ]
  },
  {
   "cell_type": "code",
   "execution_count": null,
   "metadata": {},
   "outputs": [],
   "source": [
    "\"\"\" reportes = [\n",
    "    (reportes[\"Campaña\"] == \"Zurich\")\n",
    "    & (reportes[\"Empleador\"] == reportes[\"Nombre Empresa\"])\n",
    "    & (reportes[\"Holding\"] == \"Antofagasta Minerals S.A.\")\n",
    "] \"\"\""
   ]
  },
  {
   "cell_type": "code",
   "execution_count": null,
   "metadata": {},
   "outputs": [],
   "source": [
    "reportes = reportes[\n",
    "    [\n",
    "        \"Codigo Ficha\",\n",
    "        \"Rut\",\n",
    "        \"Nombre\",\n",
    "        \"Sexo\",\n",
    "        \"Ocupacion\",\n",
    "        \"Cargo\",\n",
    "        \"Departamento\",\n",
    "        \"Campaña\",\n",
    "        \"Holding\",\n",
    "        \"Empleador\",\n",
    "        \"Poliza\",\n",
    "        \"Fecha\",\n",
    "        \"Fecha_chilena\",\n",
    "        \"Fecha_chilena2\",\n",
    "        \"Dia\",\n",
    "        \"Mes\",\n",
    "        \"Año\",\n",
    "        \"Meses\",\n",
    "        \"Canal\",\n",
    "        \"Clínica\",\n",
    "        \"Motivo de consulta\",\n",
    "        \"Nombre Empresa\",\n",
    "        \"Codigo EMP\",\n",
    "        \"Codigo A\",\n",
    "        \"Vigente\",\n",
    "        \"Corredor\",\n",
    "        \"Pais\",\n",
    "    ]\n",
    "]\n",
    "Bhp2 = reportes[\n",
    "    (reportes[\"Clínica\"] == \"Psicología\") & (reportes[\"Holding\"] == \"Grupo BHP\")\n",
    "]\n",
    "Bhp2 = Bhp2[[\"Clínica\", \"Motivo de consulta\", \"Fecha_chilena\"]]\n",
    "Bhp2.to_excel(\"F:/Reportes SF/Vida Security/BHP_Base2.xlsx\", index=False)\n",
    "\n",
    "reportes[\"Motivo de consulta\"] = \"\""
   ]
  },
  {
   "attachments": {},
   "cell_type": "markdown",
   "metadata": {},
   "source": [
    "Banco Estado\n"
   ]
  },
  {
   "cell_type": "code",
   "execution_count": null,
   "metadata": {},
   "outputs": [],
   "source": [
    "Banco_Estado = reportes[\n",
    "    (reportes[\"Corredor\"] == \"Bancoestado Corredores De Seguros S.A.\")\n",
    "    & (reportes[\"Holding\"] != \"Sin Holding Asociado\")\n",
    "]\n",
    "Banco_Estado = Banco_Estado[\n",
    "    (Banco_Estado[\"Empleador\"] == Banco_Estado[\"Nombre Empresa\"])\n",
    "]\n",
    "\n",
    "Banco_Estado.to_excel(\n",
    "    \"F:/Reportes SF/Banco Estado Metlife/Banco_Estado_Base.xlsx\", index=False\n",
    ")"
   ]
  },
  {
   "attachments": {},
   "cell_type": "markdown",
   "metadata": {},
   "source": [
    "ZURICH\n"
   ]
  },
  {
   "cell_type": "code",
   "execution_count": null,
   "metadata": {},
   "outputs": [],
   "source": [
    "Zurich = reportes[\n",
    "    (reportes[\"Campaña\"] == \"Zurich\")\n",
    "    & (reportes[\"Empleador\"] == reportes[\"Nombre Empresa\"])\n",
    "]\n",
    "Zurich.to_excel(\"F:/Reportes SF/Zurich/Zurich_Base.xlsx\", index=False)\n",
    "\n",
    "Amsa = reportes[\n",
    "    (reportes[\"Campaña\"] == \"Zurich\")\n",
    "    & (reportes[\"Empleador\"] == reportes[\"Nombre Empresa\"])\n",
    "    & (reportes[\"Holding\"] == \"Antofagasta Minerals S.A.\")\n",
    "]\n",
    "Amsa.to_excel(\"F:/Reportes SF/Zurich/Amsa.xlsx\", index=False)\n",
    "resultadoAmsa = sf.query_all(\n",
    "    \"\"\"\n",
    "        SELECT CALENDAR_YEAR(CreatedDate), COUNT(Id),CALENDAR_MONTH(CreatedDate)\n",
    "    from Paciente_Programas__c\n",
    "    Where Programas_por_Empresas__r.Holding__c like '%antofagasta minerals%'\n",
    "    GROUP BY CALENDAR_YEAR(CreatedDate), CALENDAR_MONTH(CreatedDate)\n",
    "    ORDER BY CALENDAR_MONTH(CreatedDate)\n",
    "        \"\"\"\n",
    ")\n",
    "amsaIngreso = pd.DataFrame(resultadoAmsa[\"records\"])\n",
    "\n",
    "amsaIngreso = amsaIngreso[\n",
    "    [\n",
    "        \"expr0\",\n",
    "        \"expr2\",\n",
    "        \"expr1\",\n",
    "    ]\n",
    "]\n",
    "amsaIngreso = amsaIngreso.rename(\n",
    "    columns={\n",
    "        \"expr0\": \"Año\",\n",
    "        \"expr1\": \"Cantidad\",\n",
    "        \"expr2\": \"Mes\",\n",
    "    }\n",
    ")\n",
    "\n",
    "meses = {\n",
    "    1: \"Enero\",\n",
    "    2: \"Febrero\",\n",
    "    3: \"Marzo\",\n",
    "    4: \"Abril\",\n",
    "    5: \"Mayo\",\n",
    "    6: \"Junio\",\n",
    "    7: \"Julio\",\n",
    "    8: \"Agosto\",\n",
    "    9: \"Septiembre\",\n",
    "    10: \"Octubre\",\n",
    "    11: \"Noviembre\",\n",
    "    12: \"Diciembre\",\n",
    "}\n",
    "\n",
    "amsaIngreso.replace({\"Mes\": meses}, inplace=True)\n",
    "\n",
    "amsaIngreso.to_excel(\"F:/Reportes SF/Zurich/Cantida_AMSA.xlsx\", index=False)\n",
    "\n",
    "\n",
    "Bechtel = reportes[\n",
    "    (reportes[\"Campaña\"] == \"Zurich\")\n",
    "    & (reportes[\"Empleador\"] == reportes[\"Nombre Empresa\"])\n",
    "    & (reportes[\"Holding\"] == \"Bechtel\")\n",
    "]\n",
    "Bechtel.to_excel(\"F:/Reportes SF/Zurich/Bechtel.xlsx\", index=False)"
   ]
  },
  {
   "attachments": {},
   "cell_type": "markdown",
   "metadata": {},
   "source": [
    "VIDA SECURITY\n"
   ]
  },
  {
   "cell_type": "code",
   "execution_count": null,
   "metadata": {},
   "outputs": [],
   "source": [
    "Vida_security = reportes[\n",
    "    (reportes[\"Campaña\"] == \"Vida Security\")\n",
    "    & (reportes[\"Empleador\"] == reportes[\"Nombre Empresa\"])\n",
    "]\n",
    "Vida_security = Vida_security[\n",
    "    [\n",
    "        \"Codigo Ficha\",\n",
    "        \"Rut\",\n",
    "        \"Nombre\",\n",
    "        \"Sexo\",\n",
    "        \"Ocupacion\",\n",
    "        \"Cargo\",\n",
    "        \"Departamento\",\n",
    "        \"Campaña\",\n",
    "        \"Holding\",\n",
    "        \"Empleador\",\n",
    "        \"Poliza\",\n",
    "        \"Fecha\",\n",
    "        \"Fecha_chilena\",\n",
    "        \"Fecha_chilena2\",\n",
    "        \"Dia\",\n",
    "        \"Mes\",\n",
    "        \"Meses\",\n",
    "        \"Año\",\n",
    "        \"Canal\",\n",
    "        \"Clínica\",\n",
    "        \"Nombre Empresa\",\n",
    "        \"Codigo EMP\",\n",
    "        \"Codigo A\",\n",
    "        \"Vigente\",\n",
    "        \"Corredor\",\n",
    "        \"Pais\",\n",
    "    ]\n",
    "]\n",
    "Vida_security.to_excel(\n",
    "    \"F:/Reportes SF/Vida Security/Vida_Security_Base.xlsx\", index=False\n",
    ")\n",
    "\n",
    "\n",
    "Bhp = reportes[\n",
    "    (reportes[\"Holding\"] == \"Grupo BHP\")\n",
    "    & (reportes[\"Empleador\"] == reportes[\"Nombre Empresa\"])\n",
    "]\n",
    "Bhp = Bhp[\n",
    "    [\n",
    "        \"Codigo Ficha\",\n",
    "        \"Rut\",\n",
    "        \"Nombre\",\n",
    "        \"Sexo\",\n",
    "        \"Ocupacion\",\n",
    "        \"Cargo\",\n",
    "        \"Departamento\",\n",
    "        \"Campaña\",\n",
    "        \"Holding\",\n",
    "        \"Empleador\",\n",
    "        \"Poliza\",\n",
    "        \"Fecha\",\n",
    "        \"Fecha_chilena\",\n",
    "        \"Fecha_chilena2\",\n",
    "        \"Dia\",\n",
    "        \"Mes\",\n",
    "        \"Meses\",\n",
    "        \"Año\",\n",
    "        \"Canal\",\n",
    "        \"Clínica\",\n",
    "        \"Nombre Empresa\",\n",
    "        \"Codigo EMP\",\n",
    "        \"Codigo A\",\n",
    "        \"Vigente\",\n",
    "        \"Corredor\",\n",
    "        \"Pais\",\n",
    "    ]\n",
    "]\n",
    "\n",
    "\n",
    "Bhp.to_excel(\"F:/Reportes SF/Vida Security/BHP_Base.xlsx\", index=False)\n",
    "\n",
    "\n",
    "Sqm = reportes[\n",
    "    (reportes[\"Holding\"] == \"Grupo S.Q.M.\")\n",
    "    & (reportes[\"Empleador\"] == reportes[\"Nombre Empresa\"])\n",
    "]\n",
    "Sqm.to_excel(\"F:/Reportes SF/Vida Security/SQM_Base.xlsx\", index=False)\n",
    "\n",
    "\n",
    "Vs_mercer = reportes[\n",
    "    (reportes[\"Corredor\"] == \"Mercer\") & (reportes[\"Campaña\"] == \"Vida Security\")\n",
    "]\n",
    "Vs_mercer = Vs_mercer[(Vs_mercer[\"Empleador\"] == Vs_mercer[\"Nombre Empresa\"])]\n",
    "Vs_mercer.to_excel(\"F:/Reportes SF/Vida Security/Vs_mercer_Base.xlsx\", index=False)\n",
    "\n",
    "Ferronor = reportes[\n",
    "    (reportes[\"Holding\"] == \"Ferronor\") & (reportes[\"Campaña\"] == \"Vida Security\")\n",
    "]\n",
    "Ferronor = Ferronor[(Ferronor[\"Empleador\"] == Ferronor[\"Nombre Empresa\"])]\n",
    "Ferronor.to_excel(\"F:/Reportes SF/Vida Security/Ferronor_Base.xlsx\", index=False)\n",
    "\n",
    "Itau = reportes[\n",
    "    (reportes[\"Holding\"] == \"Itaú\") & (reportes[\"Campaña\"] == \"Vida Security\")\n",
    "]\n",
    "Itau = Itau[(Itau[\"Empleador\"] == Itau[\"Nombre Empresa\"])]\n",
    "Itau.to_excel(\"F:/Reportes SF/Vida Security/Itau_Base.xlsx\", index=False)\n",
    "\n",
    "Enami = Vida_security[\n",
    "    (reportes[\"Holding\"] == \"Enami\") & (reportes[\"Campaña\"] == \"Vida Security\")\n",
    "]\n",
    "Enami = Enami[(Enami[\"Empleador\"] == Enami[\"Nombre Empresa\"])]\n",
    "Enami.to_excel(\"F:/Reportes SF/Vida Security/Enami_Base.xlsx\", index=False)"
   ]
  },
  {
   "attachments": {},
   "cell_type": "markdown",
   "metadata": {},
   "source": [
    "MERCER\n"
   ]
  },
  {
   "cell_type": "code",
   "execution_count": null,
   "metadata": {},
   "outputs": [],
   "source": [
    "Mercer = reportes[\n",
    "    (reportes[\"Campaña\"] == \"Mercer\")\n",
    "    & (reportes[\"Empleador\"] == reportes[\"Nombre Empresa\"])\n",
    "]\n",
    "Mercer.to_excel(\"F:/Reportes SF/Mercer/Mercer_Base.xlsx\", index=False)"
   ]
  },
  {
   "attachments": {},
   "cell_type": "markdown",
   "metadata": {},
   "source": [
    "SURA\n"
   ]
  },
  {
   "cell_type": "code",
   "execution_count": null,
   "metadata": {},
   "outputs": [],
   "source": [
    "Sura = reportes[\n",
    "    (reportes[\"Campaña\"] == \"Sura\")\n",
    "    & (reportes[\"Empleador\"] == reportes[\"Nombre Empresa\"])\n",
    "]\n",
    "Sura.to_excel(\"F:/Reportes SF/Sura/Sura_Base.xlsx\", index=False)"
   ]
  },
  {
   "attachments": {},
   "cell_type": "markdown",
   "metadata": {},
   "source": [
    "Pesco\n"
   ]
  },
  {
   "cell_type": "code",
   "execution_count": null,
   "metadata": {},
   "outputs": [],
   "source": [
    "Pesco = reportes[\n",
    "    (reportes[\"Campaña\"] == \"Pesco\")\n",
    "    & (reportes[\"Empleador\"] == reportes[\"Nombre Empresa\"])\n",
    "]\n",
    "Pesco.to_excel(\"F:/Reportes SF/Pesco/Pesco_Base.xlsx\", index=False)"
   ]
  },
  {
   "attachments": {},
   "cell_type": "markdown",
   "metadata": {},
   "source": [
    "Milan Fajanovic\n"
   ]
  },
  {
   "cell_type": "code",
   "execution_count": null,
   "metadata": {},
   "outputs": [],
   "source": [
    "Milan = reportes[\n",
    "    (reportes[\"Campaña\"] == \"Milan Fajanovic\")\n",
    "    & (reportes[\"Empleador\"] == reportes[\"Nombre Empresa\"])\n",
    "]\n",
    "Milan.to_excel(\"F:/Reportes SF/Milan Fajanovic/Milan_Fajanovic_Base.xlsx\", index=False)"
   ]
  },
  {
   "attachments": {},
   "cell_type": "markdown",
   "metadata": {},
   "source": [
    "Wom\n"
   ]
  },
  {
   "cell_type": "code",
   "execution_count": null,
   "metadata": {},
   "outputs": [],
   "source": [
    "wom = reportes[\n",
    "    (reportes[\"Campaña\"] == \"MetLife\")\n",
    "    & (reportes[\"Empleador\"] == reportes[\"Nombre Empresa\"])\n",
    "    & (reportes[\"Empleador\"] == \"Wom S.A.\")\n",
    "]\n",
    "wom.to_excel(\"F:/Reportes SF/Wom/Wom_Base.xlsx\", index=False)"
   ]
  },
  {
   "cell_type": "code",
   "execution_count": null,
   "metadata": {},
   "outputs": [],
   "source": [
    "Forus = reportes[\n",
    "    (reportes[\"Campaña\"] == \"Forus\")\n",
    "    & (reportes[\"Empleador\"] == reportes[\"Nombre Empresa\"])\n",
    "]\n",
    "Forus.to_excel(\"F:/Reportes SF/Forus/Forus_Base.xlsx\", index=False)"
   ]
  },
  {
   "cell_type": "code",
   "execution_count": null,
   "metadata": {},
   "outputs": [],
   "source": [
    "Cruz = reportes[\n",
    "    (reportes[\"Campaña\"] == \"Farmacias Cruz Verde\")\n",
    "    & (reportes[\"Empleador\"] == reportes[\"Nombre Empresa\"])\n",
    "]\n",
    "Cruz.to_excel(\"F:/Reportes SF/Cruz Verde/Cruz_Base.xlsx\", index=False)\n",
    "Cruz.shape"
   ]
  },
  {
   "attachments": {},
   "cell_type": "markdown",
   "metadata": {},
   "source": [
    "METLIFE\n"
   ]
  },
  {
   "cell_type": "code",
   "execution_count": null,
   "metadata": {},
   "outputs": [],
   "source": [
    "Metlife = reportes[\n",
    "    (reportes[\"Campaña\"] == \"MetLife\")\n",
    "    & (reportes[\"Empleador\"] == reportes[\"Nombre Empresa\"])\n",
    "]\n",
    "\n",
    "\n",
    "Metlife.replace({\"Clínica\": Clinicas_metlife}, inplace=True)\n",
    "\n",
    "Metlife.to_excel(\"F:/Reportes SF/MetLife/Metlife_Base.xlsx\", index=False)"
   ]
  },
  {
   "cell_type": "code",
   "execution_count": null,
   "metadata": {},
   "outputs": [],
   "source": [
    "Conosur = reportes[\n",
    "    (reportes[\"Codigo EMP\"] == \"EMP5976\")\n",
    "    | (reportes[\"Codigo EMP\"] == \"EMP5977\")\n",
    "    | (reportes[\"Codigo EMP\"] == \"EMP5978\")\n",
    "    | (reportes[\"Codigo EMP\"] == \"EMP5979\")\n",
    "    | (reportes[\"Codigo EMP\"] == \"EMP5980\")\n",
    "    | (reportes[\"Codigo EMP\"] == \"EMP5981\")\n",
    "    | (reportes[\"Codigo EMP\"] == \"EMP5982\")\n",
    "    | (reportes[\"Codigo EMP\"] == \"EMP5983\")\n",
    "    | (reportes[\"Codigo EMP\"] == \"EMP5984\")\n",
    "    | (reportes[\"Codigo EMP\"] == \"EMP5985\")\n",
    "    | (reportes[\"Codigo EMP\"] == \"EMP5985\")\n",
    "    | (reportes[\"Codigo EMP\"] == \"EMP7431\")\n",
    "    | (reportes[\"Codigo EMP\"] == \"EMP2828\")\n",
    "    | (reportes[\"Corredor\"] == \"Cono Sur Corredores De Seguros Ltda.\")\n",
    "]\n",
    "Conosur.replace({\"Clínica\": Clinicas_metlife}, inplace=True)\n",
    "Conosur = Conosur[(Conosur[\"Empleador\"] == Conosur[\"Nombre Empresa\"])]\n",
    "Conosur.to_excel(\"F:/Reportes SF/MetLife/Conosur_Base.xlsx\", index=False)"
   ]
  },
  {
   "cell_type": "code",
   "execution_count": null,
   "metadata": {},
   "outputs": [],
   "source": [
    "Komatsu = reportes[\n",
    "    (reportes[\"Codigo EMP\"] == \"EMP5913\")\n",
    "    | (reportes[\"Codigo EMP\"] == \"EMP9600\")\n",
    "    | (reportes[\"Codigo EMP\"] == \"EMP9601\")\n",
    "    | (reportes[\"Codigo EMP\"] == \"EMP9602\")\n",
    "    | (reportes[\"Codigo EMP\"] == \"EMP9603\")\n",
    "    | (reportes[\"Codigo EMP\"] == \"EMP9604\")\n",
    "    | (reportes[\"Codigo EMP\"] == \"EMP9605\")\n",
    "    | (reportes[\"Codigo EMP\"] == \"EMP9606\")\n",
    "    | (reportes[\"Codigo EMP\"] == \"EMP9608\")\n",
    "    | (reportes[\"Codigo EMP\"] == \"EMP9609\")\n",
    "    | (reportes[\"Codigo EMP\"] == \"EMP9610\")\n",
    "    | (reportes[\"Codigo EMP\"] == \"EMP9611\")\n",
    "    | (reportes[\"Codigo EMP\"] == \"EMP9612\")\n",
    "    | (reportes[\"Codigo EMP\"] == \"EMP9613\")\n",
    "    | (reportes[\"Codigo EMP\"] == \"EMP9614\")\n",
    "    | (reportes[\"Codigo EMP\"] == \"EMP9615\")\n",
    "    | (reportes[\"Codigo EMP\"] == \"EMP9616\")\n",
    "    | (reportes[\"Codigo EMP\"] == \"EMP9618\")\n",
    "    | (reportes[\"Codigo EMP\"] == \"EMP9619\")\n",
    "]\n",
    "Komatsu.replace({\"Clínica\": Clinicas_metlife}, inplace=True)\n",
    "Komatsu = Komatsu[(Komatsu[\"Empleador\"] == Komatsu[\"Nombre Empresa\"])]\n",
    "Komatsu.to_excel(\"F:/Reportes SF/MetLife/Komatsu_Base.xlsx\", index=False)"
   ]
  },
  {
   "cell_type": "code",
   "execution_count": null,
   "metadata": {},
   "outputs": [],
   "source": [
    "Burgos = reportes[\n",
    "    (reportes[\"Codigo EMP\"] == \"EMP5924\")\n",
    "    | (reportes[\"Codigo EMP\"] == \"EMP5925\")\n",
    "    | (reportes[\"Codigo EMP\"] == \"EMP5926\")\n",
    "    | (reportes[\"Codigo EMP\"] == \"EMP5927\")\n",
    "    | (reportes[\"Codigo EMP\"] == \"EMP5928\")\n",
    "    | (reportes[\"Codigo EMP\"] == \"EMP5971\")\n",
    "    | (reportes[\"Codigo EMP\"] == \"EMP5972\")\n",
    "    | (reportes[\"Codigo EMP\"] == \"EMP5973\")\n",
    "    | (reportes[\"Codigo EMP\"] == \"EMP5974\")\n",
    "    | (reportes[\"Codigo EMP\"] == \"EMP5975\")\n",
    "    | (reportes[\"Codigo EMP\"] == \"EMP7259\")\n",
    "    | (reportes[\"Codigo EMP\"] == \"EMP6536\")\n",
    "    | (reportes[\"Codigo EMP\"] == \"EMP6959\")\n",
    "    | (reportes[\"Codigo EMP\"] == \"EMP6388\")\n",
    "    | (reportes[\"Corredor\"] == \"Burgos Y Cía. Corredores De Seguros Ltda.\")\n",
    "]\n",
    "\n",
    "Burgos = Burgos[(Burgos[\"Empleador\"] == Burgos[\"Nombre Empresa\"])]\n",
    "Burgos.replace({\"Clínica\": Clinicas_metlife}, inplace=True)\n",
    "Burgos.to_excel(\"F:/Reportes SF/MetLife/Burgos_Base.xlsx\", index=False)"
   ]
  },
  {
   "cell_type": "code",
   "execution_count": null,
   "metadata": {},
   "outputs": [],
   "source": [
    "Ultramar = reportes[\n",
    "    (reportes[\"Codigo EMP\"] == \"EMP9232\")\n",
    "    | (reportes[\"Codigo EMP\"] == \"EMP9233\")\n",
    "    | (reportes[\"Codigo EMP\"] == \"EMP9234\")\n",
    "    | (reportes[\"Codigo EMP\"] == \"EMP9235\")\n",
    "    | (reportes[\"Codigo EMP\"] == \"EMP9236\")\n",
    "    | (reportes[\"Codigo EMP\"] == \"EMP9237\")\n",
    "    | (reportes[\"Codigo EMP\"] == \"EMP9238\")\n",
    "    | (reportes[\"Codigo EMP\"] == \"EMP9239\")\n",
    "    | (reportes[\"Codigo EMP\"] == \"EMP9240\")\n",
    "    | (reportes[\"Codigo EMP\"] == \"EMP5955\")\n",
    "    | (reportes[\"Codigo EMP\"] == \"EMP5958\")\n",
    "    | (reportes[\"Codigo EMP\"] == \"EMP5968\")\n",
    "    | (reportes[\"Codigo EMP\"] == \"EMP6713\")\n",
    "    | (reportes[\"Codigo EMP\"] == \"EMP7066\")\n",
    "    | (reportes[\"Codigo EMP\"] == \"EMP7625\")\n",
    "]\n",
    "\n",
    "Ultramar = Ultramar[(Ultramar[\"Empleador\"] == Ultramar[\"Nombre Empresa\"])]\n",
    "Ultramar.replace({\"Clínica\": Clinicas_metlife}, inplace=True)\n",
    "Ultramar.to_excel(\"F:/Reportes SF/MetLife/Ultramar_Base.xlsx\", index=False)"
   ]
  },
  {
   "cell_type": "code",
   "execution_count": null,
   "metadata": {},
   "outputs": [],
   "source": [
    "Antiguo = \"F:/Reportes SF/MetLife/MetLife_Antiguo.xlsx\"\n",
    "Antiguo_sk = pd.read_excel(Antiguo)\n",
    "\n",
    "reportes2 = pd.concat([reportes, Antiguo_sk])\n",
    "\n",
    "\n",
    "sK = reportes2[\n",
    "    (reportes2[\"Poliza\"] == \"340010027\")\n",
    "    | (reportes2[\"Poliza\"] == \"340010109\")\n",
    "    | (reportes2[\"Poliza\"] == \"340013106\")\n",
    "    | (reportes2[\"Poliza\"] == \"340013107\")\n",
    "    | (reportes2[\"Poliza\"] == \"340013108\")\n",
    "    | (reportes2[\"Poliza\"] == \"340013109\")\n",
    "    | (reportes2[\"Poliza\"] == \"340013110\")\n",
    "    | (reportes2[\"Poliza\"] == \"340013111\")\n",
    "    | (reportes2[\"Poliza\"] == \"340013112\")\n",
    "    | (reportes2[\"Poliza\"] == \"340013113\")\n",
    "    | (reportes2[\"Poliza\"] == \"340013114\")\n",
    "    | (reportes2[\"Poliza\"] == \"340013115\")\n",
    "    | (reportes2[\"Poliza\"] == \"340013116\")\n",
    "    | (reportes2[\"Poliza\"] == \"340013118\")\n",
    "    | (reportes2[\"Poliza\"] == \"340013120\")\n",
    "    | (reportes2[\"Poliza\"] == \"340013127\")\n",
    "    | (reportes2[\"Poliza\"] == \"340013128\")\n",
    "    | (reportes2[\"Poliza\"] == \"340013129\")\n",
    "    | (reportes2[\"Poliza\"] == \"340013130\")\n",
    "    | (reportes2[\"Poliza\"] == \"340013131\")\n",
    "    | (reportes2[\"Poliza\"] == \"340013132\")\n",
    "    | (reportes2[\"Poliza\"] == \"340013218\")\n",
    "    | (reportes2[\"Poliza\"] == \"340013873\")\n",
    "    | (reportes2[\"Poliza\"] == \"340014021\")\n",
    "    | (reportes2[\"Poliza\"] == \"340016184\")\n",
    "    | (reportes2[\"Poliza\"] == \"340016185\")\n",
    "    | (reportes2[\"Poliza\"] == \"340018745\")\n",
    "    | (reportes2[\"Poliza\"] == \"340018746\")\n",
    "    | (reportes2[\"Poliza\"] == \"340018747\")\n",
    "    | (reportes2[\"Poliza\"] == \"340019079\")\n",
    "    | (reportes2[\"Poliza\"] == \"340020289\")\n",
    "    | (reportes2[\"Poliza\"] == \"340020315\")\n",
    "    | (reportes2[\"Poliza\"] == \"340022643\")\n",
    "    | (reportes2[\"Poliza\"] == \"340022652\")\n",
    "    | (reportes2[\"Poliza\"] == \"340022662\")\n",
    "    | (reportes2[\"Poliza\"] == \"340022664\")\n",
    "    | (reportes2[\"Poliza\"] == \"340022665\")\n",
    "    | (reportes2[\"Poliza\"] == \"340022668\")\n",
    "    | (reportes2[\"Poliza\"] == \"340023297\")\n",
    "    | (reportes2[\"Poliza\"] == \"340023397\")\n",
    "]\n",
    "\n",
    "sK.Clínica.fillna(\"Orientación Médica\", inplace=True)\n",
    "sK.replace({\"Sexo\": general_Sexo}, inplace=True)\n",
    "sK.replace({\"Clínica\": Clinicas_metlife}, inplace=True)\n",
    "Lorena_clinicas = {\n",
    "    \"Nutricion\": \"Nutrición\",\n",
    "    \"Deportivo\": \"Deporte\",\n",
    "    \"Front\": \"Orientación Médica\",\n",
    "    \"\": \"Orientación Médica\",\n",
    "    \"Enfermería\": \"Pacientes Crónicos\",\n",
    "}\n",
    "Empresas_Benefits = {\n",
    "    \"BancoChile\": \"Banco De Chile\",\n",
    "    \"bancochile\": \"Banco De Chile\",\n",
    "    \"Fundacion De Salud El Teniente\": \"Fundación De Salud El Teniente\",\n",
    "    \"Serv Biene. Fundación Arturo López Pérez\": \"Serv. Bienestar Fundación Arturo López Pérez\",\n",
    "}\n",
    "\n",
    "sK.replace({\"Nombre Empresa\": Empresas_Benefits}, inplace=True)\n",
    "sK.replace({\"Empleador\": Empresas_Benefits}, inplace=True)\n",
    "sK.replace({\"Clínica\": Lorena_clinicas}, inplace=True)\n",
    "\n",
    "sK = sK[(sK[\"Empleador\"] == sK[\"Nombre Empresa\"])]\n",
    "sK.replace({\"Clínica\": Clinicas_metlife}, inplace=True)\n",
    "sK.to_excel(\"F:/Reportes SF/MetLife/sK_Base.xlsx\", index=False)"
   ]
  },
  {
   "attachments": {},
   "cell_type": "markdown",
   "metadata": {},
   "source": [
    "EY\n"
   ]
  },
  {
   "cell_type": "code",
   "execution_count": null,
   "metadata": {},
   "outputs": [],
   "source": [
    "Ey = reportes[\n",
    "    (reportes[\"Campaña\"] == \"EY\")\n",
    "    & (reportes[\"Empleador\"] == reportes[\"Nombre Empresa\"])\n",
    "]\n",
    "Ey[\"Nombre\"] = \"NoN\"\n",
    "Ey[\"Motivo de consulta\"] = \"NoN\"\n",
    "\n",
    "Ey.to_excel(\"F:/Reportes SF/EY/EY_Base.xlsx\", index=False)"
   ]
  },
  {
   "cell_type": "code",
   "execution_count": null,
   "metadata": {},
   "outputs": [],
   "source": [
    "Thb_Seguros = reportes[\n",
    "    (reportes[\"Campaña\"] == \"THB Seguros COVID\")\n",
    "    & (reportes[\"Empleador\"] == reportes[\"Nombre Empresa\"])\n",
    "]\n",
    "Thb_Seguros.to_excel(\n",
    "    \"F:/Reportes SF/THB Seguros Covid/Thb_Seguros_Base.xlsx\", index=False\n",
    ")"
   ]
  },
  {
   "attachments": {},
   "cell_type": "markdown",
   "metadata": {},
   "source": [
    "\"\"\" ( reportes[\"Codigo EMP\"] == \"EMP5924\")\n",
    "| (reportes[\"Codigo EMP\"] == \"EMP5925\")\n",
    "| (reportes[\"Codigo EMP\"] == \"EMP5926\")\n",
    "| (reportes[\"Codigo EMP\"] == \"EMP5927\")\n",
    "| (reportes[\"Codigo EMP\"] == \"EMP5928\")\n",
    "| (reportes[\"Codigo EMP\"] == \"EMP5971\")\n",
    "| (reportes[\"Codigo EMP\"] == \"EMP5972\")\n",
    "| (reportes[\"Codigo EMP\"] == \"EMP5973\")\n",
    "| (reportes[\"Codigo EMP\"] == \"EMP5974\")\n",
    "| (reportes[\"Codigo EMP\"] == \"EMP5975\")\n",
    "| (reportes[\"Codigo EMP\"] == \"EMP7259\")\n",
    "| (reportes[\"Codigo EMP\"] == \"EMP6536\")\n",
    "| (reportes[\"Codigo EMP\"] == \"EMP6959\")\n",
    "| (reportes[\"Codigo EMP\"] == \"EMP6388\")\n",
    "\n",
    "    | (reportes[\"Codigo EMP\"] == \"EMP5694\")\n",
    "    | (reportes[\"Codigo EMP\"] == \"EMP5655\")\n",
    "    | (reportes[\"Codigo EMP\"] == \"EMP5681\")\n",
    "    | (reportes[\"Codigo EMP\"] == \"EMP5682\")\n",
    "    | (reportes[\"Codigo EMP\"] == \"EMP5684\")\n",
    "    | (reportes[\"Codigo EMP\"] == \"EMP6274\")\n",
    "    | (reportes[\"Codigo EMP\"] == \"EMP5685\")\n",
    "    | (reportes[\"Codigo EMP\"] == \"EMP5686\")\n",
    "    | (reportes[\"Codigo EMP\"] == \"EMP5687\")\n",
    "    | (reportes[\"Codigo EMP\"] == \"EMP5688\")\n",
    "    | (reportes[\"Codigo EMP\"] == \"EMP5689\")\n",
    "    | (reportes[\"Codigo EMP\"] == \"EMP5690\")\n",
    "    | (reportes[\"Codigo EMP\"] == \"EMP5691\")\n",
    "\n",
    "    | (reportes[\"Codigo EMP\"] == \"EMP5692\")\n",
    "    | (reportes[\"Codigo EMP\"] == \"EMP5693\")\n",
    "    | (reportes[\"Codigo EMP\"] == \"EMP5694\")\n",
    "    | (reportes[\"Codigo EMP\"] == \"EMP5695\")\n",
    "    | (reportes[\"Codigo EMP\"] == \"EMP5696\")\n",
    "    | (reportes[\"Codigo EMP\"] == \"EMP5697\")\n",
    "    | (reportes[\"Codigo EMP\"] == \"EMP5698\")\n",
    "    | (reportes[\"Codigo EMP\"] == \"EMP5639\")\n",
    "    | (reportes[\"Codigo EMP\"] == \"EMP5640\")\n",
    "    | (reportes[\"Codigo EMP\"] == \"EMP5641\")\n",
    "    | (reportes[\"Codigo EMP\"] == \"EMP5642\")\n",
    "    | (reportes[\"Codigo EMP\"] == \"EMP5643\")\n",
    "    | (reportes[\"Codigo EMP\"] == \"EMP5644\")\n",
    "\n",
    "    | (reportes[\"Codigo EMP\"] == \"EMP5645\")\n",
    "    | (reportes[\"Codigo EMP\"] == \"EMP5646\")\n",
    "    | (reportes[\"Codigo EMP\"] == \"EMP5647\")\n",
    "    | (reportes[\"Codigo EMP\"] == \"EMP5648\")\n",
    "    | (reportes[\"Codigo EMP\"] == \"EMP5649\")\n",
    "    | (reportes[\"Codigo EMP\"] == \"EMP5650\")\n",
    "    | (reportes[\"Codigo EMP\"] == \"EMP5651\")\n",
    "    | (reportes[\"Codigo EMP\"] == \"EMP5652\")\n",
    "    | (reportes[\"Codigo EMP\"] == \"EMP5653\")\n",
    "    | (reportes[\"Codigo EMP\"] == \"EMP5654\")\n",
    "    | (reportes[\"Codigo EMP\"] == \"EMP5655\")\n",
    "    | (reportes[\"Codigo EMP\"] == \"EMP7526\")\n",
    "    | (reportes[\"Codigo EMP\"] == \"EMP6760\")\n",
    "\n",
    "    | (reportes[\"Codigo EMP\"] == \"EMP7678\")\n",
    "    | (reportes[\"Codigo EMP\"] == \"EMP6888\")\n",
    "    | (reportes[\"Codigo EMP\"] == \"EMP6444\")\n",
    "    | (reportes[\"Codigo EMP\"] == \"EMP6406\")\n",
    "    | (reportes[\"Codigo EMP\"] == \"EMP5616\")\n",
    "    | (reportes[\"Codigo EMP\"] == \"EMP9007\")\n",
    "    |\"\"\"\n"
   ]
  },
  {
   "cell_type": "code",
   "execution_count": null,
   "metadata": {},
   "outputs": [],
   "source": [
    "Willis = reportes[(reportes[\"Corredor\"] == \"Willis Towers Watson S.A. Corred. De Seg.\")]\n",
    "Willis.replace({\"Clínica\": Clinicas_metlife}, inplace=True)\n",
    "Willis = Willis[(Willis[\"Empleador\"] == Willis[\"Nombre Empresa\"])]\n",
    "Willis.to_excel(\"F:/Reportes SF/MetLife/Willis_Base.xlsx\", index=False)\n",
    "\n",
    "sKf = reportes[(reportes[\"Poliza\"] == \"340018080\")]\n",
    "sKf.replace({\"Clínica\": Clinicas_metlife}, inplace=True)\n",
    "sKf = sKf[(sKf[\"Empleador\"] == sKf[\"Nombre Empresa\"])]\n",
    "sKf.to_excel(\"F:/Reportes SF/MetLife/Willis_sKf_Base.xlsx\", index=False)"
   ]
  },
  {
   "cell_type": "code",
   "execution_count": null,
   "metadata": {},
   "outputs": [],
   "source": [
    "Aon = reportes[\n",
    "    (reportes[\"Codigo EMP\"] == \"EMP5627\")\n",
    "    | (reportes[\"Codigo EMP\"] == \"EMP9181\")\n",
    "    | (reportes[\"Codigo EMP\"] == \"EMP9183\")\n",
    "    | (reportes[\"Codigo EMP\"] == \"EMP9184\")\n",
    "    | (reportes[\"Codigo EMP\"] == \"EMP9185\")\n",
    "    | (reportes[\"Codigo EMP\"] == \"EMP9186\")\n",
    "    | (reportes[\"Codigo EMP\"] == \"EMP9241\")\n",
    "    | (reportes[\"Codigo EMP\"] == \"EMP9256\")\n",
    "    | (reportes[\"Codigo EMP\"] == \"EMP9187\")\n",
    "    | (reportes[\"Codigo EMP\"] == \"EMP9188\")\n",
    "    | (reportes[\"Codigo EMP\"] == \"EMP9189\")\n",
    "    | (reportes[\"Codigo EMP\"] == \"EMP9230\")\n",
    "    | (reportes[\"Codigo EMP\"] == \"EMP9359\")\n",
    "    | (reportes[\"Codigo EMP\"] == \"EMP9365\")\n",
    "    | (reportes[\"Codigo EMP\"] == \"EMP9366\")\n",
    "    | (reportes[\"Codigo EMP\"] == \"EMP9367\")\n",
    "    | (reportes[\"Codigo EMP\"] == \"EMP9368\")\n",
    "    | (reportes[\"Codigo EMP\"] == \"EMP5890\")\n",
    "    | (reportes[\"Codigo EMP\"] == \"EMP5891\")\n",
    "    | (reportes[\"Codigo EMP\"] == \"EMP5892\")\n",
    "    | (reportes[\"Codigo EMP\"] == \"EMP5893\")\n",
    "    | (reportes[\"Codigo EMP\"] == \"EMP5894\")\n",
    "    | (reportes[\"Codigo EMP\"] == \"EMP5895\")\n",
    "    | (reportes[\"Codigo EMP\"] == \"EMP5896\")\n",
    "    | (reportes[\"Codigo EMP\"] == \"EMP5897\")\n",
    "    | (reportes[\"Codigo EMP\"] == \"EMP5898\")\n",
    "    | (reportes[\"Codigo EMP\"] == \"EMP5899\")\n",
    "    | (reportes[\"Codigo EMP\"] == \"EMP5930\")\n",
    "    | (reportes[\"Codigo EMP\"] == \"EMP5931\")\n",
    "    | (reportes[\"Codigo EMP\"] == \"EMP5932\")\n",
    "    | (reportes[\"Codigo EMP\"] == \"EMP5933\")\n",
    "    | (reportes[\"Codigo EMP\"] == \"EMP5934\")\n",
    "    | (reportes[\"Codigo EMP\"] == \"EMP5935\")\n",
    "    | (reportes[\"Codigo EMP\"] == \"EMP5936\")\n",
    "    | (reportes[\"Codigo EMP\"] == \"EMP5937\")\n",
    "    | (reportes[\"Codigo EMP\"] == \"EMP5939\")\n",
    "    | (reportes[\"Codigo EMP\"] == \"EMP5940\")\n",
    "    | (reportes[\"Codigo EMP\"] == \"EMP5941\")\n",
    "    | (reportes[\"Codigo EMP\"] == \"EMP5942\")\n",
    "    | (reportes[\"Codigo EMP\"] == \"EMP5943\")\n",
    "    | (reportes[\"Codigo EMP\"] == \"EMP5944\")\n",
    "    | (reportes[\"Codigo EMP\"] == \"EMP5945\")\n",
    "    | (reportes[\"Codigo EMP\"] == \"EMP5946\")\n",
    "    | (reportes[\"Codigo EMP\"] == \"EMP5947\")\n",
    "    | (reportes[\"Codigo EMP\"] == \"EMP5949\")\n",
    "    | (reportes[\"Codigo EMP\"] == \"EMP9436\")\n",
    "    | (reportes[\"Codigo EMP\"] == \"EMP9437\")\n",
    "    | (reportes[\"Codigo EMP\"] == \"EMP9861\")\n",
    "    | (reportes[\"Codigo EMP\"] == \"EMP9862\")\n",
    "    | (reportes[\"Codigo EMP\"] == \"EMP9864\")\n",
    "    | (reportes[\"Codigo EMP\"] == \"EMP9865\")\n",
    "    | (reportes[\"Codigo EMP\"] == \"EMP9866\")\n",
    "    | (reportes[\"Codigo EMP\"] == \"EMP9873\")\n",
    "    | (reportes[\"Codigo EMP\"] == \"EMP9874\")\n",
    "    | (reportes[\"Codigo EMP\"] == \"EMP9875\")\n",
    "    | (reportes[\"Codigo EMP\"] == \"EMP9892\")\n",
    "    | (reportes[\"Codigo EMP\"] == \"EMP9893\")\n",
    "    | (reportes[\"Codigo EMP\"] == \"EMP9899\")\n",
    "    | (reportes[\"Codigo EMP\"] == \"EMP9901\")\n",
    "    | (reportes[\"Codigo EMP\"] == \"EMP9902\")\n",
    "    | (reportes[\"Codigo EMP\"] == \"EMP9903\")\n",
    "    | (reportes[\"Codigo EMP\"] == \"EMP9904\")\n",
    "    | (reportes[\"Codigo EMP\"] == \"EMP9905\")\n",
    "    | (reportes[\"Codigo EMP\"] == \"EMP9906\")\n",
    "    | (reportes[\"Codigo EMP\"] == \"EMP9907\")\n",
    "    | (reportes[\"Codigo EMP\"] == \"EMP9908\")\n",
    "    | (reportes[\"Codigo EMP\"] == \"EMP9909\")\n",
    "    | (reportes[\"Codigo EMP\"] == \"EMP9493\")\n",
    "    | (reportes[\"Codigo EMP\"] == \"EMP9494\")\n",
    "    | (reportes[\"Codigo EMP\"] == \"EMP9518\")\n",
    "    | (reportes[\"Codigo EMP\"] == \"EMP9539\")\n",
    "    | (reportes[\"Codigo EMP\"] == \"EMP9540\")\n",
    "    | (reportes[\"Codigo EMP\"] == \"EMP9558\")\n",
    "    | (reportes[\"Codigo EMP\"] == \"EMP9741\")\n",
    "    | (reportes[\"Codigo EMP\"] == \"EMP9742\")\n",
    "    | (reportes[\"Codigo EMP\"] == \"EMP9743\")\n",
    "    | (reportes[\"Codigo EMP\"] == \"EMP9745\")\n",
    "    | (reportes[\"Codigo EMP\"] == \"EMP9747\")\n",
    "    | (reportes[\"Codigo EMP\"] == \"EMP9630\")\n",
    "    | (reportes[\"Codigo EMP\"] == \"EMP9631\")\n",
    "    | (reportes[\"Codigo EMP\"] == \"EMP9632\")\n",
    "    | (reportes[\"Codigo EMP\"] == \"EMP9638\")\n",
    "    | (reportes[\"Codigo EMP\"] == \"EMP9755\")\n",
    "    | (reportes[\"Codigo EMP\"] == \"EMP6532\")\n",
    "    | (reportes[\"Codigo EMP\"] == \"EMP6538\")\n",
    "    | (reportes[\"Codigo EMP\"] == \"EMP6555\")\n",
    "    | (reportes[\"Codigo EMP\"] == \"EMP6556\")\n",
    "    | (reportes[\"Codigo EMP\"] == \"EMP6557\")\n",
    "    | (reportes[\"Codigo EMP\"] == \"EMP6558\")\n",
    "    | (reportes[\"Codigo EMP\"] == \"EMP6560\")\n",
    "    | (reportes[\"Codigo EMP\"] == \"EMP6561\")\n",
    "    | (reportes[\"Codigo EMP\"] == \"EMP6562\")\n",
    "    | (reportes[\"Codigo EMP\"] == \"EMP6563\")\n",
    "    | (reportes[\"Codigo EMP\"] == \"EMP6671\")\n",
    "    | (reportes[\"Codigo EMP\"] == \"EMP6717\")\n",
    "    | (reportes[\"Codigo EMP\"] == \"EMP6720\")\n",
    "    | (reportes[\"Codigo EMP\"] == \"EMP6786\")\n",
    "    | (reportes[\"Codigo EMP\"] == \"EMP6864\")\n",
    "    | (reportes[\"Codigo EMP\"] == \"EMP6865\")\n",
    "    | (reportes[\"Codigo EMP\"] == \"EMP6866\")\n",
    "    | (reportes[\"Codigo EMP\"] == \"EMP6867\")\n",
    "    | (reportes[\"Codigo EMP\"] == \"EMP6868\")\n",
    "    | (reportes[\"Codigo EMP\"] == \"EMP6938\")\n",
    "    | (reportes[\"Codigo EMP\"] == \"EMP7003\")\n",
    "    | (reportes[\"Codigo EMP\"] == \"EMP7004\")\n",
    "    | (reportes[\"Codigo EMP\"] == \"EMP7083\")\n",
    "    | (reportes[\"Codigo EMP\"] == \"EMP7176\")\n",
    "    | (reportes[\"Codigo EMP\"] == \"EMP7177\")\n",
    "    | (reportes[\"Codigo EMP\"] == \"EMP7269\")\n",
    "    | (reportes[\"Codigo EMP\"] == \"EMP7337\")\n",
    "    | (reportes[\"Codigo EMP\"] == \"EMP7396\")\n",
    "    | (reportes[\"Codigo EMP\"] == \"EMP7418\")\n",
    "    | (reportes[\"Codigo EMP\"] == \"EMP7513\")\n",
    "    | (reportes[\"Codigo EMP\"] == \"EMP7646\")\n",
    "    | (reportes[\"Codigo EMP\"] == \"EMP7808\")\n",
    "    | (reportes[\"Codigo EMP\"] == \"EMP7863\")\n",
    "    | (reportes[\"Codigo EMP\"] == \"EMP9183\")\n",
    "    | (reportes[\"Codigo EMP\"] == \"EMP9184\")\n",
    "    | (reportes[\"Codigo EMP\"] == \"EMP9185\")\n",
    "    | (reportes[\"Codigo EMP\"] == \"EMP9186\")\n",
    "    | (reportes[\"Codigo EMP\"] == \"EMP9256\")\n",
    "    | (reportes[\"Codigo EMP\"] == \"EMP9187\")\n",
    "    | (reportes[\"Codigo EMP\"] == \"EMP9188\")\n",
    "    | (reportes[\"Codigo EMP\"] == \"EMP9189\")\n",
    "    | (reportes[\"Codigo EMP\"] == \"EMP5890\")\n",
    "    | (reportes[\"Codigo EMP\"] == \"EMP5891\")\n",
    "    | (reportes[\"Codigo EMP\"] == \"EMP5892\")\n",
    "    | (reportes[\"Codigo EMP\"] == \"EMP5893\")\n",
    "    | (reportes[\"Codigo EMP\"] == \"EMP5894\")\n",
    "    | (reportes[\"Codigo EMP\"] == \"EMP5895\")\n",
    "    | (reportes[\"Codigo EMP\"] == \"EMP5896\")\n",
    "    | (reportes[\"Codigo EMP\"] == \"EMP5897\")\n",
    "    | (reportes[\"Codigo EMP\"] == \"EMP5898\")\n",
    "    | (reportes[\"Codigo EMP\"] == \"EMP5899\")\n",
    "    | (reportes[\"Codigo EMP\"] == \"EMP5930\")\n",
    "    | (reportes[\"Codigo EMP\"] == \"EMP5931\")\n",
    "    | (reportes[\"Codigo EMP\"] == \"EMP5932\")\n",
    "    | (reportes[\"Codigo EMP\"] == \"EMP5933\")\n",
    "    | (reportes[\"Codigo EMP\"] == \"EMP5934\")\n",
    "    | (reportes[\"Codigo EMP\"] == \"EMP5935\")\n",
    "    | (reportes[\"Codigo EMP\"] == \"EMP5936\")\n",
    "    | (reportes[\"Codigo EMP\"] == \"EMP5937\")\n",
    "    | (reportes[\"Codigo EMP\"] == \"EMP5939\")\n",
    "    | (reportes[\"Codigo EMP\"] == \"EMP5940\")\n",
    "    | (reportes[\"Codigo EMP\"] == \"EMP5941\")\n",
    "    | (reportes[\"Codigo EMP\"] == \"EMP5944\")\n",
    "    | (reportes[\"Codigo EMP\"] == \"EMP5947\")\n",
    "    | (reportes[\"Codigo EMP\"] == \"EMP5949\")\n",
    "    | (reportes[\"Codigo EMP\"] == \"EMP9436\")\n",
    "    | (reportes[\"Codigo EMP\"] == \"EMP9863\")\n",
    "    | (reportes[\"Codigo EMP\"] == \"EMP9864\")\n",
    "    | (reportes[\"Codigo EMP\"] == \"EMP9865\")\n",
    "    | (reportes[\"Codigo EMP\"] == \"EMP9866\")\n",
    "    | (reportes[\"Codigo EMP\"] == \"EMP9901\")\n",
    "    | (reportes[\"Codigo EMP\"] == \"EMP9902\")\n",
    "    | (reportes[\"Codigo EMP\"] == \"EMP9903\")\n",
    "    | (reportes[\"Codigo EMP\"] == \"EMP9904\")\n",
    "    | (reportes[\"Codigo EMP\"] == \"EMP9905\")\n",
    "    | (reportes[\"Codigo EMP\"] == \"EMP9906\")\n",
    "    | (reportes[\"Codigo EMP\"] == \"EMP9907\")\n",
    "    | (reportes[\"Codigo EMP\"] == \"EMP9908\")\n",
    "    | (reportes[\"Codigo EMP\"] == \"EMP9909\")\n",
    "    | (reportes[\"Codigo EMP\"] == \"EMP9493\")\n",
    "    | (reportes[\"Codigo EMP\"] == \"EMP9494\")\n",
    "    | (reportes[\"Codigo EMP\"] == \"EMP9539\")\n",
    "    | (reportes[\"Codigo EMP\"] == \"EMP9540\")\n",
    "    | (reportes[\"Codigo EMP\"] == \"EMP9558\")\n",
    "    | (reportes[\"Codigo EMP\"] == \"EMP9741\")\n",
    "    | (reportes[\"Codigo EMP\"] == \"EMP9742\")\n",
    "    | (reportes[\"Codigo EMP\"] == \"EMP9627\")\n",
    "    | (reportes[\"Codigo EMP\"] == \"EMP9630\")\n",
    "    | (reportes[\"Codigo EMP\"] == \"EMP9631\")\n",
    "    | (reportes[\"Codigo EMP\"] == \"EMP9632\")\n",
    "    | (reportes[\"Codigo EMP\"] == \"EMP9638\")\n",
    "    | (reportes[\"Codigo EMP\"] == \"EMP6786\")\n",
    "    | (reportes[\"Codigo EMP\"] == \"EMP7597\")\n",
    "    | (reportes[\"Corredor\"] == \"Aon Risk Services (Chile) Corred. De Seg.\")\n",
    "]\n",
    "Aon.replace({\"Clínica\": Clinicas_metlife}, inplace=True)\n",
    "Aon = Aon[(Aon[\"Empleador\"] == Aon[\"Nombre Empresa\"])]\n",
    "Aon.to_excel(\"F:/Reportes SF/MetLife/Aon_Base.xlsx\", index=False)"
   ]
  },
  {
   "cell_type": "code",
   "execution_count": null,
   "metadata": {},
   "outputs": [],
   "source": [
    "Aramark = reportes[\n",
    "    (reportes[\"Codigo EMP\"] == \"EMP9244\")\n",
    "    | (reportes[\"Codigo EMP\"] == \"EMP9245\")\n",
    "    | (reportes[\"Codigo EMP\"] == \"EMP9246\")\n",
    "    | (reportes[\"Codigo EMP\"] == \"EMP9247\")\n",
    "    | (reportes[\"Codigo EMP\"] == \"EMP9248\")\n",
    "    | (reportes[\"Codigo EMP\"] == \"EMP9249\")\n",
    "    | (reportes[\"Codigo EMP\"] == \"EMP9250\")\n",
    "    | (reportes[\"Codigo EMP\"] == \"EMP9148\")\n",
    "    | (reportes[\"Codigo EMP\"] == \"EMP9149\")\n",
    "    | (reportes[\"Codigo EMP\"] == \"EMP9150\")\n",
    "    | (reportes[\"Codigo EMP\"] == \"EMP9151\")\n",
    "    | (reportes[\"Codigo EMP\"] == \"EMP9152\")\n",
    "    | (reportes[\"Codigo EMP\"] == \"EMP9153\")\n",
    "    | (reportes[\"Codigo EMP\"] == \"EMP9154\")\n",
    "    | (reportes[\"Codigo EMP\"] == \"EMP9155\")\n",
    "    | (reportes[\"Codigo EMP\"] == \"EMP9156\")\n",
    "    | (reportes[\"Codigo EMP\"] == \"EMP9157\")\n",
    "    | (reportes[\"Codigo EMP\"] == \"EMP9158\")\n",
    "    | (reportes[\"Codigo EMP\"] == \"EMP9159\")\n",
    "    | (reportes[\"Codigo EMP\"] == \"EMP9160\")\n",
    "    | (reportes[\"Codigo EMP\"] == \"EMP9161\")\n",
    "    | (reportes[\"Codigo EMP\"] == \"EMP9162\")\n",
    "    | (reportes[\"Codigo EMP\"] == \"EMP9163\")\n",
    "    | (reportes[\"Codigo EMP\"] == \"EMP9164\")\n",
    "    | (reportes[\"Codigo EMP\"] == \"EMP9165\")\n",
    "    | (reportes[\"Codigo EMP\"] == \"EMP9166\")\n",
    "    | (reportes[\"Codigo EMP\"] == \"EMP9167\")\n",
    "    | (reportes[\"Codigo EMP\"] == \"EMP5806\")\n",
    "    | (reportes[\"Codigo EMP\"] == \"EMP5808\")\n",
    "    | (reportes[\"Codigo EMP\"] == \"EMP5810\")\n",
    "    | (reportes[\"Codigo EMP\"] == \"EMP9266\")\n",
    "    | (reportes[\"Codigo EMP\"] == \"EMP9267\")\n",
    "    | (reportes[\"Codigo EMP\"] == \"EMP9268\")\n",
    "    | (reportes[\"Codigo EMP\"] == \"EMP9269\")\n",
    "    | (reportes[\"Codigo EMP\"] == \"EMP9270\")\n",
    "    | (reportes[\"Codigo EMP\"] == \"EMP9271\")\n",
    "    # | (reportes[\"Corredor\"] == \"Aon Risk Services (Chile) Corred. De Seg.\")\n",
    "]\n",
    "Aramark.replace({\"Clínica\": Clinicas_metlife}, inplace=True)\n",
    "Aramark = Aramark[(Aramark[\"Empleador\"] == Aramark[\"Nombre Empresa\"])]\n",
    "Aramark.to_excel(\"F:/Reportes SF/MetLife/Aramark_Base.xlsx\", index=False)"
   ]
  },
  {
   "cell_type": "code",
   "execution_count": null,
   "metadata": {},
   "outputs": [],
   "source": [
    "Benefits = reportes[\n",
    "    (reportes[\"Codigo EMP\"] == \"EMP9190\")\n",
    "    | (reportes[\"Codigo EMP\"] == \"EMP9191\")\n",
    "    | (reportes[\"Codigo EMP\"] == \"EMP9192\")\n",
    "    | (reportes[\"Codigo EMP\"] == \"EMP9193\")\n",
    "    | (reportes[\"Codigo EMP\"] == \"EMP9194\")\n",
    "    | (reportes[\"Codigo EMP\"] == \"EMP9195\")\n",
    "    | (reportes[\"Codigo EMP\"] == \"EMP9196\")\n",
    "    | (reportes[\"Codigo EMP\"] == \"EMP9197\")\n",
    "    | (reportes[\"Codigo EMP\"] == \"EMP9198\")\n",
    "    | (reportes[\"Codigo EMP\"] == \"EMP9199\")\n",
    "    | (reportes[\"Codigo EMP\"] == \"EMP9200\")\n",
    "    | (reportes[\"Codigo EMP\"] == \"EMP9201\")\n",
    "    | (reportes[\"Codigo EMP\"] == \"EMP9202\")\n",
    "    | (reportes[\"Codigo EMP\"] == \"EMP9203\")\n",
    "    | (reportes[\"Codigo EMP\"] == \"EMP9204\")\n",
    "    | (reportes[\"Codigo EMP\"] == \"EMP9205\")\n",
    "    | (reportes[\"Codigo EMP\"] == \"EMP9326\")\n",
    "    | (reportes[\"Codigo EMP\"] == \"EMP9327\")\n",
    "    | (reportes[\"Codigo EMP\"] == \"EMP9328\")\n",
    "    | (reportes[\"Codigo EMP\"] == \"EMP9340\")\n",
    "    | (reportes[\"Codigo EMP\"] == \"EMP9345\")\n",
    "    | (reportes[\"Codigo EMP\"] == \"EMP9349\")\n",
    "    | (reportes[\"Codigo EMP\"] == \"EMP9324\")\n",
    "    | (reportes[\"Codigo EMP\"] == \"EMP5908\")\n",
    "    | (reportes[\"Codigo EMP\"] == \"EMP5909\")\n",
    "    | (reportes[\"Codigo EMP\"] == \"EMP5912\")\n",
    "    | (reportes[\"Codigo EMP\"] == \"EMP5913\")\n",
    "    | (reportes[\"Codigo EMP\"] == \"EMP5914\")\n",
    "    | (reportes[\"Codigo EMP\"] == \"EMP5915\")\n",
    "    | (reportes[\"Codigo EMP\"] == \"EMP5916\")\n",
    "    | (reportes[\"Codigo EMP\"] == \"EMP5917\")\n",
    "    | (reportes[\"Codigo EMP\"] == \"EMP5919\")\n",
    "    | (reportes[\"Codigo EMP\"] == \"EMP5920\")\n",
    "    | (reportes[\"Codigo EMP\"] == \"EMP5921\")\n",
    "    | (reportes[\"Codigo EMP\"] == \"EMP5922\")\n",
    "    | (reportes[\"Codigo EMP\"] == \"EMP5923\")\n",
    "    | (reportes[\"Codigo EMP\"] == \"EMP6001\")\n",
    "    | (reportes[\"Codigo EMP\"] == \"EMP9414\")\n",
    "    | (reportes[\"Codigo EMP\"] == \"EMP9464\")\n",
    "    | (reportes[\"Codigo EMP\"] == \"EMP9840\")\n",
    "    | (reportes[\"Codigo EMP\"] == \"EMP9852\")\n",
    "    | (reportes[\"Codigo EMP\"] == \"EMP9703\")\n",
    "    | (reportes[\"Codigo EMP\"] == \"EMP9600\")\n",
    "    | (reportes[\"Codigo EMP\"] == \"EMP9601\")\n",
    "    | (reportes[\"Codigo EMP\"] == \"EMP9602\")\n",
    "    | (reportes[\"Codigo EMP\"] == \"EMP9603\")\n",
    "    | (reportes[\"Codigo EMP\"] == \"EMP9604\")\n",
    "    | (reportes[\"Codigo EMP\"] == \"EMP9605\")\n",
    "    | (reportes[\"Codigo EMP\"] == \"EMP9606\")\n",
    "    | (reportes[\"Codigo EMP\"] == \"EMP9608\")\n",
    "    | (reportes[\"Codigo EMP\"] == \"EMP9609\")\n",
    "    | (reportes[\"Codigo EMP\"] == \"EMP9610\")\n",
    "    | (reportes[\"Codigo EMP\"] == \"EMP9611\")\n",
    "    | (reportes[\"Codigo EMP\"] == \"EMP9612\")\n",
    "    | (reportes[\"Codigo EMP\"] == \"EMP9613\")\n",
    "    | (reportes[\"Codigo EMP\"] == \"EMP9614\")\n",
    "    | (reportes[\"Codigo EMP\"] == \"EMP9615\")\n",
    "    | (reportes[\"Codigo EMP\"] == \"EMP9616\")\n",
    "    | (reportes[\"Codigo EMP\"] == \"EMP9617\")\n",
    "    | (reportes[\"Codigo EMP\"] == \"EMP9618\")\n",
    "    | (reportes[\"Codigo EMP\"] == \"EMP9619\")\n",
    "    | (reportes[\"Codigo EMP\"] == \"EMP9784\")\n",
    "    | (reportes[\"Codigo EMP\"] == \"EMP9670\")\n",
    "    | (reportes[\"Codigo EMP\"] == \"EMP9674\")\n",
    "    | (reportes[\"Codigo EMP\"] == \"EMP9802\")\n",
    "    | (reportes[\"Codigo EMP\"] == \"EMP6534\")\n",
    "    | (reportes[\"Codigo EMP\"] == \"EMP6540\")\n",
    "    | (reportes[\"Codigo EMP\"] == \"EMP6564\")\n",
    "    | (reportes[\"Codigo EMP\"] == \"EMP6621\")\n",
    "    | (reportes[\"Codigo EMP\"] == \"EMP6640\")\n",
    "    | (reportes[\"Codigo EMP\"] == \"EMP6643\")\n",
    "    | (reportes[\"Codigo EMP\"] == \"EMP6650\")\n",
    "    | (reportes[\"Codigo EMP\"] == \"EMP6653\")\n",
    "    | (reportes[\"Codigo EMP\"] == \"EMP6661\")\n",
    "    | (reportes[\"Codigo EMP\"] == \"EMP6758\")\n",
    "    | (reportes[\"Codigo EMP\"] == \"EMP6763\")\n",
    "    | (reportes[\"Codigo EMP\"] == \"EMP6772\")\n",
    "    | (reportes[\"Codigo EMP\"] == \"EMP6783\")\n",
    "    | (reportes[\"Codigo EMP\"] == \"EMP6792\")\n",
    "    | (reportes[\"Codigo EMP\"] == \"EMP6829\")\n",
    "    | (reportes[\"Codigo EMP\"] == \"EMP6869\")\n",
    "    | (reportes[\"Codigo EMP\"] == \"EMP6935\")\n",
    "    | (reportes[\"Codigo EMP\"] == \"EMP6940\")\n",
    "    | (reportes[\"Codigo EMP\"] == \"EMP7005\")\n",
    "    | (reportes[\"Codigo EMP\"] == \"EMP7033\")\n",
    "    | (reportes[\"Codigo EMP\"] == \"EMP7072\")\n",
    "    | (reportes[\"Codigo EMP\"] == \"EMP7189\")\n",
    "    | (reportes[\"Codigo EMP\"] == \"EMP7243\")\n",
    "    | (reportes[\"Codigo EMP\"] == \"EMP7247\")\n",
    "    | (reportes[\"Codigo EMP\"] == \"EMP7345\")\n",
    "    | (reportes[\"Codigo EMP\"] == \"EMP7507\")\n",
    "    | (reportes[\"Codigo EMP\"] == \"EMP7508\")\n",
    "    | (reportes[\"Codigo EMP\"] == \"EMP7546\")\n",
    "    | (reportes[\"Codigo EMP\"] == \"EMP7564\")\n",
    "    | (reportes[\"Codigo EMP\"] == \"EMP7567\")\n",
    "    | (reportes[\"Codigo EMP\"] == \"EMP7617\")\n",
    "    | (reportes[\"Codigo EMP\"] == \"EMP7639\")\n",
    "    | (reportes[\"Codigo EMP\"] == \"EMP7663\")\n",
    "    | (reportes[\"Codigo EMP\"] == \"EMP7674\")\n",
    "    | (reportes[\"Codigo EMP\"] == \"EMP7702\")\n",
    "    | (reportes[\"Codigo EMP\"] == \"EMP7739\")\n",
    "    | (reportes[\"Codigo EMP\"] == \"EMP7744\")\n",
    "    | (reportes[\"Codigo EMP\"] == \"EMP7784\")\n",
    "    | (reportes[\"Codigo EMP\"] == \"EMP7785\")\n",
    "    | (reportes[\"Codigo EMP\"] == \"EMP9206\")\n",
    "    | (reportes[\"Codigo EMP\"] == \"EMP5910\")\n",
    "    | (reportes[\"Codigo EMP\"] == \"EMP5911\")\n",
    "    | (reportes[\"Codigo EMP\"] == \"EMP5918\")\n",
    "    | (reportes[\"Codigo EMP\"] == \"EMP9607\")\n",
    "    | (reportes[\"Corredor\"] == \"Benefits Corredores De Seguros SPA\")\n",
    "]\n",
    "\n",
    "cantidad_gente(\"Benefits Corredores De Seguros SPA\")\n",
    "\n",
    "\n",
    "Benefits = Benefits[(Benefits[\"Empleador\"] == Benefits[\"Nombre Empresa\"])]\n",
    "\n",
    "Antiguo = \"F:/Reportes SF/MetLife/MetLife_Antiguo.xlsx\"\n",
    "Antiguo_Lorena = pd.read_excel(Antiguo)\n",
    "Antiguo_Lorena = Antiguo_Lorena[\n",
    "    (Antiguo_Lorena[\"Corredor\"] == \"Benefits Corredores De Seguros Spa\")\n",
    "]\n",
    "Benefits = pd.concat([Benefits, Antiguo_Lorena])\n",
    "\n",
    "\n",
    "Antiguo_gente = (\n",
    "    \"F:/Reportes SF/MetLife/usuarios/cantidad_metlife_antiguo_gente_benefits.xlsx\"\n",
    ")\n",
    "nuevo_gente = (\n",
    "    \"F:/Reportes SF/MetLife/usuarios/Benefits Corredores De Seguros Spa_gente.xlsx\"\n",
    ")\n",
    "Antiguo_gente_read = pd.read_excel(Antiguo_gente)\n",
    "nuevo_gente_read = pd.read_excel(nuevo_gente)\n",
    "\n",
    "Benefits_gente = pd.concat([Antiguo_gente_read, nuevo_gente_read])\n",
    "\n",
    "\n",
    "Benefits.Clínica.fillna(\"Orientación Médica\", inplace=True)\n",
    "Benefits.replace({\"Sexo\": general_Sexo}, inplace=True)\n",
    "Benefits.replace({\"Clínica\": Clinicas_metlife}, inplace=True)\n",
    "Lorena_clinicas = {\n",
    "    \"Nutricion\": \"Nutrición\",\n",
    "    \"Deportivo\": \"Deporte\",\n",
    "    \"Front\": \"Orientación Médica\",\n",
    "    \"\": \"Orientación Médica\",\n",
    "    \"Enfermería\": \"Pacientes Crónicos\",\n",
    "}\n",
    "Empresas_Benefits = {\n",
    "    \"BancoChile\": \"Banco De Chile\",\n",
    "    \"bancochile\": \"Banco De Chile\",\n",
    "    \"Fundacion De Salud El Teniente\": \"Fundación De Salud El Teniente\",\n",
    "    \"Serv Biene. Fundación Arturo López Pérez\": \"Serv. Bienestar Fundación Arturo López Pérez\",\n",
    "}\n",
    "Benefits_gente.replace({\"Empleador\": Empresas_Benefits}, inplace=True)\n",
    "Benefits.replace({\"Nombre Empresa\": Empresas_Benefits}, inplace=True)\n",
    "Benefits.replace({\"Empleador\": Empresas_Benefits}, inplace=True)\n",
    "Benefits.replace({\"Clínica\": Lorena_clinicas}, inplace=True)\n",
    "Benefits = Benefits[(Benefits[\"Empleador\"] == Benefits[\"Nombre Empresa\"])]\n",
    "Benefits.to_excel(\"F:/Reportes SF/MetLife/Benefits_Base.xlsx\", index=False)\n",
    "Benefits_gente.to_excel(\n",
    "    \"F:/Reportes SF/MetLife/usuarios/gente_Benefits.xlsx\", index=False\n",
    ")"
   ]
  },
  {
   "cell_type": "code",
   "execution_count": null,
   "metadata": {},
   "outputs": [],
   "source": [
    "wom = reportes[\n",
    "    (reportes[\"Campaña\"] == \"MetLife\") & (reportes[\"Empleador\"] == \"Wom S.A.\")\n",
    "]\n",
    "wom = wom[(wom[\"Empleador\"] == wom[\"Nombre Empresa\"])]\n",
    "Lorena_clinicas = {\n",
    "    \"Nutricion\": \"Nutrición\",\n",
    "    \"Deportivo\": \"Deporte\",\n",
    "    \"Front\": \"Orientación Médica\",\n",
    "    \"\": \"Orientación Médica\",\n",
    "    \"Enfermería\": \"Pacientes Crónicos\",\n",
    "}\n",
    "Antiguo = \"F:/Reportes SF/MetLife/MetLife_Antiguo.xlsx\"\n",
    "Antiguo_Lorena = pd.read_excel(Antiguo)\n",
    "Antiguo_Lorena = Antiguo_Lorena[(Antiguo_Lorena[\"Empleador\"] == \"Wom S.A.\")]\n",
    "\n",
    "wom = pd.concat([wom, Antiguo_Lorena])\n",
    "wom.replace({\"Clínica\": Lorena_clinicas}, inplace=True)\n",
    "wom.to_excel(\"F:/Reportes SF/MetLife/wom_Base.xlsx\", index=False)"
   ]
  },
  {
   "cell_type": "code",
   "execution_count": null,
   "metadata": {},
   "outputs": [],
   "source": [
    "psg = reportes[(reportes[\"Campaña\"] == \"Grupo PSG\")]\n",
    "psg = psg[(psg[\"Empleador\"] == psg[\"Nombre Empresa\"])]\n",
    "\n",
    "psg.to_excel(\"F:/Reportes SF/Grupo PSG/psg_Base.xlsx\", index=False)"
   ]
  },
  {
   "cell_type": "code",
   "execution_count": null,
   "metadata": {},
   "outputs": [],
   "source": []
  },
  {
   "cell_type": "code",
   "execution_count": null,
   "metadata": {},
   "outputs": [],
   "source": [
    "Interno = reportes[\n",
    "    (reportes[\"Codigo EMP\"] == \"EMP5999\")\n",
    "    | (reportes[\"Codigo EMP\"] == \"EMP9683\")\n",
    "    | (reportes[\"Codigo EMP\"] == \"EMP9684\")\n",
    "    | (reportes[\"Codigo EMP\"] == \"EMP9685\")\n",
    "    | (reportes[\"Codigo EMP\"] == \"EMP9686\")\n",
    "    | (reportes[\"Codigo EMP\"] == \"EMP9687\")\n",
    "    | (reportes[\"Codigo EMP\"] == \"EMP9688\")\n",
    "    | (reportes[\"Codigo EMP\"] == \"EMP9689\")\n",
    "    | (reportes[\"Codigo EMP\"] == \"EMP9690\")\n",
    "    | (reportes[\"Codigo EMP\"] == \"EMP9691\")\n",
    "    | (reportes[\"Codigo EMP\"] == \"EMP7881\")\n",
    "    # | (reportes[\"Corredor\"] == \"Benefits Corredores De Seguros SPA\")\n",
    "]\n",
    "Interno.replace({\"Clínica\": Clinicas_metlife}, inplace=True)\n",
    "Interno = Interno[(Interno[\"Empleador\"] == Interno[\"Nombre Empresa\"])]\n",
    "Interno.to_excel(\"F:/Reportes SF/MetLife/Interno_Base.xlsx\", index=False)"
   ]
  },
  {
   "cell_type": "code",
   "execution_count": null,
   "metadata": {},
   "outputs": [],
   "source": [
    "Lorena = reportes[\n",
    "    (reportes[\"Codigo EMP\"] == \"EMP5786\")\n",
    "    | (reportes[\"Codigo EMP\"] == \"EMP9171\")\n",
    "    | (reportes[\"Codigo EMP\"] == \"EMP5785\")\n",
    "    | (reportes[\"Codigo EMP\"] == \"EMP5787\")\n",
    "    | (reportes[\"Codigo EMP\"] == \"EMP5788\")\n",
    "    | (reportes[\"Codigo EMP\"] == \"EMP5789\")\n",
    "    | (reportes[\"Codigo EMP\"] == \"EMP5790\")\n",
    "    | (reportes[\"Codigo EMP\"] == \"EMP5791\")\n",
    "    | (reportes[\"Codigo EMP\"] == \"EMP5792\")\n",
    "    | (reportes[\"Codigo EMP\"] == \"EMP5793\")\n",
    "    | (reportes[\"Codigo EMP\"] == \"EMP5794\")\n",
    "    | (reportes[\"Codigo EMP\"] == \"EMP9310\")\n",
    "    | (reportes[\"Codigo EMP\"] == \"EMP9441\")\n",
    "    | (reportes[\"Codigo EMP\"] == \"EMP9792\")\n",
    "    | (reportes[\"Codigo EMP\"] == \"EMP6830\")\n",
    "    | (reportes[\"Codigo EMP\"] == \"EMP6975\")\n",
    "    | (reportes[\"Codigo EMP\"] == \"EMP7014\")\n",
    "    | (reportes[\"Codigo EMP\"] == \"EMP7045\")\n",
    "    | (reportes[\"Codigo EMP\"] == \"EMP7060\")\n",
    "    | (reportes[\"Codigo EMP\"] == \"EMP7422\")\n",
    "    | (reportes[\"Corredor\"] == \"Lorena Contreras Ugarte\")\n",
    "]\n",
    "cantidad_gente(\"Lorena Contreras Ugarte\")\n",
    "\n",
    "\n",
    "Lorena = Lorena[(Lorena[\"Empleador\"] == Lorena[\"Nombre Empresa\"])]\n",
    "\n",
    "Antiguo = \"F:/Reportes SF/MetLife/MetLife_Antiguo.xlsx\"\n",
    "Antiguo_Lorena = pd.read_excel(Antiguo)\n",
    "Antiguo_Lorena = Antiguo_Lorena[\n",
    "    (Antiguo_Lorena[\"Corredor\"] == \"Lorena Contreras Ugarte\")\n",
    "]\n",
    "Lorena = pd.concat([Lorena, Antiguo_Lorena])\n",
    "\n",
    "Antiguo_gente = \"F:/Reportes SF/MetLife/usuarios/cantidad_metlife_antiguo_gente.xlsx\"\n",
    "nuevo_gente = \"F:/Reportes SF/MetLife/usuarios/Lorena Contreras Ugarte_gente.xlsx\"\n",
    "Antiguo_gente_read = pd.read_excel(Antiguo_gente)\n",
    "nuevo_gente_read = pd.read_excel(nuevo_gente)\n",
    "\n",
    "Lorena_gente = pd.concat([Antiguo_gente_read, nuevo_gente_read])\n",
    "Lorena_gente.to_excel(\"F:/Reportes SF/MetLife/usuarios/gente_Lorena.xlsx\", index=False)\n",
    "\n",
    "Lorena.Clínica.fillna(\"Orientación Médica\", inplace=True)\n",
    "Lorena.replace({\"Sexo\": general_Sexo}, inplace=True)\n",
    "Lorena.replace({\"Clínica\": Clinicas_metlife}, inplace=True)\n",
    "Lorena_clinicas = {\n",
    "    \"Nutricion\": \"Nutrición\",\n",
    "    \"Deportivo\": \"Deporte\",\n",
    "    \"Front\": \"Orientación Médica\",\n",
    "    \"\": \"Orientación Médica\",\n",
    "    \"Enfermería\": \"Pacientes Crónicos\",\n",
    "}\n",
    "\n",
    "Lorena.replace({\"Clínica\": Lorena_clinicas}, inplace=True)\n",
    "\n",
    "Lorena.to_excel(\"F:/Reportes SF/MetLife/Lorena_Base.xlsx\", index=False)"
   ]
  },
  {
   "cell_type": "code",
   "execution_count": null,
   "metadata": {},
   "outputs": [],
   "source": [
    "Antiguo_Lorena.head()"
   ]
  },
  {
   "cell_type": "code",
   "execution_count": null,
   "metadata": {},
   "outputs": [],
   "source": [
    "Security_metlife = reportes[\n",
    "    (reportes[\"Codigo EMP\"] == \"EMP5952\")\n",
    "    | (reportes[\"Codigo EMP\"] == \"EMP5957\")\n",
    "    | (reportes[\"Codigo EMP\"] == \"EMP5966\")\n",
    "    | (reportes[\"Codigo EMP\"] == \"EMP5989\")\n",
    "    | (reportes[\"Codigo EMP\"] == \"EMP6833\")\n",
    "    | (reportes[\"Codigo EMP\"] == \"EMP6902\")\n",
    "    | (reportes[\"Codigo EMP\"] == \"EMP7332\")\n",
    "    | (reportes[\"Codigo EMP\"] == \"EMP7661\")\n",
    "    | (reportes[\"Codigo EMP\"] == \"EMP9232\")\n",
    "    | (reportes[\"Codigo EMP\"] == \"EMP9233\")\n",
    "    | (reportes[\"Codigo EMP\"] == \"EMP9234\")\n",
    "    | (reportes[\"Codigo EMP\"] == \"EMP9235\")\n",
    "    | (reportes[\"Codigo EMP\"] == \"EMP9236\")\n",
    "    | (reportes[\"Codigo EMP\"] == \"EMP9237\")\n",
    "    | (reportes[\"Codigo EMP\"] == \"EMP9238\")\n",
    "    | (reportes[\"Codigo EMP\"] == \"EMP9239\")\n",
    "    | (reportes[\"Codigo EMP\"] == \"EMP9240\")\n",
    "    | (reportes[\"Codigo EMP\"] == \"EMP9347\")\n",
    "    | (reportes[\"Codigo EMP\"] == \"EMP9287\")\n",
    "    | (reportes[\"Codigo EMP\"] == \"EMP5950\")\n",
    "    | (reportes[\"Codigo EMP\"] == \"EMP5951\")\n",
    "    | (reportes[\"Codigo EMP\"] == \"EMP5953\")\n",
    "    | (reportes[\"Codigo EMP\"] == \"EMP5955\")\n",
    "    | (reportes[\"Codigo EMP\"] == \"EMP5956\")\n",
    "    | (reportes[\"Codigo EMP\"] == \"EMP5958\")\n",
    "    | (reportes[\"Codigo EMP\"] == \"EMP5959\")\n",
    "    | (reportes[\"Codigo EMP\"] == \"EMP5960\")\n",
    "    | (reportes[\"Codigo EMP\"] == \"EMP5961\")\n",
    "    | (reportes[\"Codigo EMP\"] == \"EMP5962\")\n",
    "    | (reportes[\"Codigo EMP\"] == \"EMP5963\")\n",
    "    | (reportes[\"Codigo EMP\"] == \"EMP5964\")\n",
    "    | (reportes[\"Codigo EMP\"] == \"EMP5965\")\n",
    "    | (reportes[\"Codigo EMP\"] == \"EMP5967\")\n",
    "    | (reportes[\"Codigo EMP\"] == \"EMP5968\")\n",
    "    | (reportes[\"Codigo EMP\"] == \"EMP5969\")\n",
    "    | (reportes[\"Codigo EMP\"] == \"EMP5990\")\n",
    "    | (reportes[\"Codigo EMP\"] == \"EMP5991\")\n",
    "    | (reportes[\"Codigo EMP\"] == \"EMP9440\")\n",
    "    | (reportes[\"Codigo EMP\"] == \"EMP9454\")\n",
    "    | (reportes[\"Codigo EMP\"] == \"EMP9455\")\n",
    "    | (reportes[\"Codigo EMP\"] == \"EMP9456\")\n",
    "    | (reportes[\"Codigo EMP\"] == \"EMP9457\")\n",
    "    | (reportes[\"Codigo EMP\"] == \"EMP9458\")\n",
    "    | (reportes[\"Codigo EMP\"] == \"EMP9459\")\n",
    "    | (reportes[\"Codigo EMP\"] == \"EMP9460\")\n",
    "    | (reportes[\"Codigo EMP\"] == \"EMP9512\")\n",
    "    | (reportes[\"Codigo EMP\"] == \"EMP9553\")\n",
    "    | (reportes[\"Codigo EMP\"] == \"EMP9669\")\n",
    "    | (reportes[\"Codigo EMP\"] == \"EMP6434\")\n",
    "    | (reportes[\"Codigo EMP\"] == \"EMP6713\")\n",
    "    | (reportes[\"Codigo EMP\"] == \"EMP6877\")\n",
    "    | (reportes[\"Codigo EMP\"] == \"EMP6898\")\n",
    "    | (reportes[\"Codigo EMP\"] == \"EMP6901\")\n",
    "    | (reportes[\"Codigo EMP\"] == \"EMP6905\")\n",
    "    | (reportes[\"Codigo EMP\"] == \"EMP7010\")\n",
    "    | (reportes[\"Codigo EMP\"] == \"EMP7066\")\n",
    "    | (reportes[\"Codigo EMP\"] == \"EMP7080\")\n",
    "    | (reportes[\"Codigo EMP\"] == \"EMP7094\")\n",
    "    | (reportes[\"Codigo EMP\"] == \"EMP7150\")\n",
    "    | (reportes[\"Codigo EMP\"] == \"EMP7333\")\n",
    "    | (reportes[\"Codigo EMP\"] == \"EMP7504\")\n",
    "    | (reportes[\"Codigo EMP\"] == \"EMP7505\")\n",
    "    | (reportes[\"Codigo EMP\"] == \"EMP7623\")\n",
    "    | (reportes[\"Codigo EMP\"] == \"EMP7625\")\n",
    "    | (reportes[\"Codigo EMP\"] == \"EMP7651\")\n",
    "    | (reportes[\"Codigo EMP\"] == \"EMP7721\")\n",
    "    | (reportes[\"Codigo EMP\"] == \"EMP7724\")\n",
    "    | (reportes[\"Corredor\"] == \"Corredores De Seguros Security Ltda.\")\n",
    "]\n",
    "\n",
    "Security_metlife.replace({\"Clínica\": Clinicas_metlife}, inplace=True)\n",
    "Security_metlife = Security_metlife[\n",
    "    (Security_metlife[\"Empleador\"] == Security_metlife[\"Nombre Empresa\"])\n",
    "]\n",
    "Security_metlife.to_excel(\"F:/Reportes SF/MetLife/Security_Base.xlsx\", index=False)"
   ]
  },
  {
   "cell_type": "code",
   "execution_count": null,
   "metadata": {},
   "outputs": [],
   "source": [
    "Thb = reportes[\n",
    "    (reportes[\"Codigo EMP\"] == \"EMP9336\")\n",
    "    | (reportes[\"Codigo EMP\"] == \"EMP9442\")\n",
    "    | (reportes[\"Codigo EMP\"] == \"EMP9746\")\n",
    "    | (reportes[\"Codigo EMP\"] == \"EMP9627\")\n",
    "    | (reportes[\"Codigo EMP\"] == \"EMP5618\")\n",
    "    | (reportes[\"Codigo EMP\"] == \"EMP5619\")\n",
    "    | (reportes[\"Codigo EMP\"] == \"EMP5620\")\n",
    "    | (reportes[\"Codigo EMP\"] == \"EMP5621\")\n",
    "    | (reportes[\"Codigo EMP\"] == \"EMP5622\")\n",
    "    | (reportes[\"Codigo EMP\"] == \"EMP5623\")\n",
    "    | (reportes[\"Codigo EMP\"] == \"EMP5624\")\n",
    "    | (reportes[\"Codigo EMP\"] == \"EMP5625\")\n",
    "    | (reportes[\"Codigo EMP\"] == \"EMP5626\")\n",
    "    | (reportes[\"Codigo EMP\"] == \"EMP5628\")\n",
    "    | (reportes[\"Codigo EMP\"] == \"EMP5629\")\n",
    "    | (reportes[\"Codigo EMP\"] == \"EMP5630\")\n",
    "    | (reportes[\"Codigo EMP\"] == \"EMP5631\")\n",
    "    | (reportes[\"Codigo EMP\"] == \"EMP5632\")\n",
    "    | (reportes[\"Codigo EMP\"] == \"EMP5633\")\n",
    "    | (reportes[\"Codigo EMP\"] == \"EMP5634\")\n",
    "    | (reportes[\"Codigo EMP\"] == \"EMP5635\")\n",
    "    | (reportes[\"Codigo EMP\"] == \"EMP5636\")\n",
    "    | (reportes[\"Codigo EMP\"] == \"EMP5637\")\n",
    "    | (reportes[\"Codigo EMP\"] == \"EMP5638\")\n",
    "    | (reportes[\"Codigo EMP\"] == \"EMP5669\")\n",
    "    | (reportes[\"Codigo EMP\"] == \"EMP5670\")\n",
    "    | (reportes[\"Codigo EMP\"] == \"EMP5671\")\n",
    "    | (reportes[\"Codigo EMP\"] == \"EMP5672\")\n",
    "    | (reportes[\"Codigo EMP\"] == \"EMP5673\")\n",
    "    | (reportes[\"Codigo EMP\"] == \"EMP5674\")\n",
    "    | (reportes[\"Codigo EMP\"] == \"EMP5675\")\n",
    "    | (reportes[\"Codigo EMP\"] == \"EMP5677\")\n",
    "    | (reportes[\"Codigo EMP\"] == \"EMP5721\")\n",
    "    | (reportes[\"Codigo EMP\"] == \"EMP5722\")\n",
    "    | (reportes[\"Codigo EMP\"] == \"EMP5723\")\n",
    "    | (reportes[\"Codigo EMP\"] == \"EMP5724\")\n",
    "    | (reportes[\"Codigo EMP\"] == \"EMP5725\")\n",
    "    | (reportes[\"Codigo EMP\"] == \"EMP5726\")\n",
    "    | (reportes[\"Codigo EMP\"] == \"EMP5727\")\n",
    "    | (reportes[\"Codigo EMP\"] == \"EMP5728\")\n",
    "    | (reportes[\"Codigo EMP\"] == \"EMP5729\")\n",
    "    | (reportes[\"Codigo EMP\"] == \"EMP5730\")\n",
    "    | (reportes[\"Codigo EMP\"] == \"EMP5731\")\n",
    "    | (reportes[\"Codigo EMP\"] == \"EMP5732\")\n",
    "    | (reportes[\"Codigo EMP\"] == \"EMP5733\")\n",
    "    | (reportes[\"Codigo EMP\"] == \"EMP5734\")\n",
    "    | (reportes[\"Codigo EMP\"] == \"EMP5735\")\n",
    "    | (reportes[\"Codigo EMP\"] == \"EMP5736\")\n",
    "    | (reportes[\"Codigo EMP\"] == \"EMP5737\")\n",
    "    | (reportes[\"Codigo EMP\"] == \"EMP5738\")\n",
    "    | (reportes[\"Codigo EMP\"] == \"EMP9242\")\n",
    "    | (reportes[\"Codigo EMP\"] == \"EMP9121\")\n",
    "    | (reportes[\"Codigo EMP\"] == \"EMP9122\")\n",
    "    | (reportes[\"Codigo EMP\"] == \"EMP9123\")\n",
    "    | (reportes[\"Codigo EMP\"] == \"EMP9168\")\n",
    "    | (reportes[\"Codigo EMP\"] == \"EMP9137\")\n",
    "    | (reportes[\"Codigo EMP\"] == \"EMP9320\")\n",
    "    | (reportes[\"Codigo EMP\"] == \"EMP9364\")\n",
    "    | (reportes[\"Codigo EMP\"] == \"EMP9257\")\n",
    "    | (reportes[\"Codigo EMP\"] == \"EMP9258\")\n",
    "    | (reportes[\"Codigo EMP\"] == \"EMP9259\")\n",
    "    | (reportes[\"Codigo EMP\"] == \"EMP9260\")\n",
    "    | (reportes[\"Codigo EMP\"] == \"EMP9261\")\n",
    "    | (reportes[\"Codigo EMP\"] == \"EMP9262\")\n",
    "    | (reportes[\"Codigo EMP\"] == \"EMP9461\")\n",
    "    | (reportes[\"Codigo EMP\"] == \"EMP9463\")\n",
    "    | (reportes[\"Codigo EMP\"] == \"EMP9859\")\n",
    "    | (reportes[\"Codigo EMP\"] == \"EMP9887\")\n",
    "    | (reportes[\"Codigo EMP\"] == \"EMP9888\")\n",
    "    | (reportes[\"Codigo EMP\"] == \"EMP9925\")\n",
    "    | (reportes[\"Codigo EMP\"] == \"EMP9952\")\n",
    "    | (reportes[\"Codigo EMP\"] == \"EMP9953\")\n",
    "    | (reportes[\"Codigo EMP\"] == \"EMP9514\")\n",
    "    | (reportes[\"Codigo EMP\"] == \"EMP9515\")\n",
    "    | (reportes[\"Codigo EMP\"] == \"EMP9516\")\n",
    "    | (reportes[\"Codigo EMP\"] == \"EMP9517\")\n",
    "    | (reportes[\"Codigo EMP\"] == \"EMP9956\")\n",
    "    | (reportes[\"Codigo EMP\"] == \"EMP9957\")\n",
    "    | (reportes[\"Codigo EMP\"] == \"EMP9958\")\n",
    "    | (reportes[\"Codigo EMP\"] == \"EMP9970\")\n",
    "    | (reportes[\"Codigo EMP\"] == \"EMP9559\")\n",
    "    | (reportes[\"Codigo EMP\"] == \"EMP9561\")\n",
    "    | (reportes[\"Codigo EMP\"] == \"EMP9565\")\n",
    "    | (reportes[\"Codigo EMP\"] == \"EMP9567\")\n",
    "    | (reportes[\"Codigo EMP\"] == \"EMP9568\")\n",
    "    | (reportes[\"Codigo EMP\"] == \"EMP9569\")\n",
    "    | (reportes[\"Codigo EMP\"] == \"EMP9570\")\n",
    "    | (reportes[\"Codigo EMP\"] == \"EMP9571\")\n",
    "    | (reportes[\"Codigo EMP\"] == \"EMP9572\")\n",
    "    | (reportes[\"Codigo EMP\"] == \"EMP9573\")\n",
    "    | (reportes[\"Codigo EMP\"] == \"EMP9574\")\n",
    "    | (reportes[\"Codigo EMP\"] == \"EMP9576\")\n",
    "    | (reportes[\"Codigo EMP\"] == \"EMP9698\")\n",
    "    | (reportes[\"Codigo EMP\"] == \"EMP9699\")\n",
    "    | (reportes[\"Codigo EMP\"] == \"EMP9700\")\n",
    "    | (reportes[\"Codigo EMP\"] == \"EMP9577\")\n",
    "    | (reportes[\"Codigo EMP\"] == \"EMP9580\")\n",
    "    | (reportes[\"Codigo EMP\"] == \"EMP9581\")\n",
    "    | (reportes[\"Codigo EMP\"] == \"EMP9583\")\n",
    "    | (reportes[\"Codigo EMP\"] == \"EMP9584\")\n",
    "    | (reportes[\"Codigo EMP\"] == \"EMP9585\")\n",
    "    | (reportes[\"Codigo EMP\"] == \"EMP9586\")\n",
    "    | (reportes[\"Codigo EMP\"] == \"EMP9587\")\n",
    "    | (reportes[\"Codigo EMP\"] == \"EMP9588\")\n",
    "    | (reportes[\"Codigo EMP\"] == \"EMP9594\")\n",
    "    | (reportes[\"Codigo EMP\"] == \"EMP9624\")\n",
    "    | (reportes[\"Codigo EMP\"] == \"EMP9625\")\n",
    "    | (reportes[\"Codigo EMP\"] == \"EMP9626\")\n",
    "    | (reportes[\"Codigo EMP\"] == \"EMP9628\")\n",
    "    | (reportes[\"Codigo EMP\"] == \"EMP9629\")\n",
    "    | (reportes[\"Codigo EMP\"] == \"EMP9633\")\n",
    "    | (reportes[\"Codigo EMP\"] == \"EMP9634\")\n",
    "    | (reportes[\"Codigo EMP\"] == \"EMP9635\")\n",
    "    | (reportes[\"Codigo EMP\"] == \"EMP9645\")\n",
    "    | (reportes[\"Codigo EMP\"] == \"EMP9791\")\n",
    "    | (reportes[\"Codigo EMP\"] == \"EMP9799\")\n",
    "    | (reportes[\"Codigo EMP\"] == \"EMP9806\")\n",
    "    | (reportes[\"Codigo EMP\"] == \"EMP9807\")\n",
    "    | (reportes[\"Codigo EMP\"] == \"EMP9691\")\n",
    "    | (reportes[\"Codigo EMP\"] == \"EMP6373\")\n",
    "    | (reportes[\"Codigo EMP\"] == \"EMP6397\")\n",
    "    | (reportes[\"Codigo EMP\"] == \"EMP6410\")\n",
    "    | (reportes[\"Codigo EMP\"] == \"EMP6481\")\n",
    "    | (reportes[\"Codigo EMP\"] == \"EMP6528\")\n",
    "    | (reportes[\"Codigo EMP\"] == \"EMP6612\")\n",
    "    | (reportes[\"Codigo EMP\"] == \"EMP6613\")\n",
    "    | (reportes[\"Codigo EMP\"] == \"EMP6753\")\n",
    "    | (reportes[\"Codigo EMP\"] == \"EMP6875\")\n",
    "    | (reportes[\"Codigo EMP\"] == \"EMP6891\")\n",
    "    | (reportes[\"Codigo EMP\"] == \"EMP7011\")\n",
    "    | (reportes[\"Codigo EMP\"] == \"EMP7012\")\n",
    "    | (reportes[\"Codigo EMP\"] == \"EMP7039\")\n",
    "    | (reportes[\"Codigo EMP\"] == \"EMP7040\")\n",
    "    | (reportes[\"Codigo EMP\"] == \"EMP7041\")\n",
    "    | (reportes[\"Codigo EMP\"] == \"EMP7051\")\n",
    "    | (reportes[\"Codigo EMP\"] == \"EMP7143\")\n",
    "    | (reportes[\"Codigo EMP\"] == \"EMP7170\")\n",
    "    | (reportes[\"Codigo EMP\"] == \"EMP7339\")\n",
    "    | (reportes[\"Codigo EMP\"] == \"EMP7420\")\n",
    "    | (reportes[\"Codigo EMP\"] == \"EMP7568\")\n",
    "    | (reportes[\"Codigo EMP\"] == \"EMP7626\")\n",
    "    | (reportes[\"Codigo EMP\"] == \"EMP7627\")\n",
    "    | (reportes[\"Codigo EMP\"] == \"EMP7633\")\n",
    "    | (reportes[\"Codigo EMP\"] == \"EMP7701\")\n",
    "    | (reportes[\"Codigo EMP\"] == \"EMP7740\")\n",
    "    | (reportes[\"Codigo EMP\"] == \"EMP7746\")\n",
    "    | (reportes[\"Codigo EMP\"] == \"EMP7772\")\n",
    "    | (reportes[\"Codigo EMP\"] == \"EMP7776\")\n",
    "    | (reportes[\"Corredor\"] == \"THB Chile Corredores De Seguros S.A.\")\n",
    "]\n",
    "Thb.replace({\"Clínica\": Clinicas_metlife}, inplace=True)\n",
    "Thb = Thb[(Thb[\"Empleador\"] == Thb[\"Nombre Empresa\"])]\n",
    "Thb.to_excel(\"F:/Reportes SF/MetLife/Thb_Base.xlsx\", index=False)"
   ]
  },
  {
   "cell_type": "code",
   "execution_count": null,
   "metadata": {},
   "outputs": [],
   "source": [
    "Veritas = reportes[\n",
    "    (reportes[\"Codigo EMP\"] == \"EMP5717\")\n",
    "    | (reportes[\"Codigo EMP\"] == \"EMP5718\")\n",
    "    | (reportes[\"Codigo EMP\"] == \"EMP5719\")\n",
    "    | (reportes[\"Codigo EMP\"] == \"EMP5720\")\n",
    "    | (reportes[\"Codigo EMP\"] == \"EMP9959\")\n",
    "    | (reportes[\"Codigo EMP\"] == \"EMP9707\")\n",
    "    | (reportes[\"Codigo EMP\"] == \"EMP9823\")\n",
    "    | (reportes[\"Codigo EMP\"] == \"EMP9824\")\n",
    "    | (reportes[\"Codigo EMP\"] == \"EMP6615\")\n",
    "    | (reportes[\"Codigo EMP\"] == \"EMP6662\")\n",
    "    | (reportes[\"Codigo EMP\"] == \"EMP6778\")\n",
    "    | (reportes[\"Codigo EMP\"] == \"EMP6872\")\n",
    "    | (reportes[\"Codigo EMP\"] == \"EMP7042\")\n",
    "    | (reportes[\"Codigo EMP\"] == \"EMP7052\")\n",
    "    | (reportes[\"Corredor\"] == \"Veritas Corredores De Seguros S.A.\")\n",
    "]\n",
    "Veritas.replace({\"Clínica\": Clinicas_metlife}, inplace=True)\n",
    "Veritas = Veritas[(Veritas[\"Empleador\"] == Veritas[\"Nombre Empresa\"])]\n",
    "Veritas.to_excel(\"F:/Reportes SF/MetLife/Veritas_Base.xlsx\", index=False)"
   ]
  },
  {
   "cell_type": "code",
   "execution_count": null,
   "metadata": {},
   "outputs": [],
   "source": [
    "Mercer = reportes[\n",
    "    (reportes[\"Codigo EMP\"] == \"EMP9162\")\n",
    "    | (reportes[\"Codigo EMP\"] == \"EMP5741\")\n",
    "    | (reportes[\"Codigo EMP\"] == \"EMP5744\")\n",
    "    | (reportes[\"Codigo EMP\"] == \"EMP5755\")\n",
    "    | (reportes[\"Codigo EMP\"] == \"EMP5763\")\n",
    "    | (reportes[\"Codigo EMP\"] == \"EMP5772\")\n",
    "    | (reportes[\"Codigo EMP\"] == \"EMP5795\")\n",
    "    | (reportes[\"Codigo EMP\"] == \"EMP5811\")\n",
    "    | (reportes[\"Codigo EMP\"] == \"EMP3852\")\n",
    "    | (reportes[\"Codigo EMP\"] == \"EMP9377\")\n",
    "    | (reportes[\"Codigo EMP\"] == \"EMP9544\")\n",
    "    | (reportes[\"Codigo EMP\"] == \"EMP9714\")\n",
    "    | (reportes[\"Codigo EMP\"] == \"EMP9715\")\n",
    "    | (reportes[\"Codigo EMP\"] == \"EMP9716\")\n",
    "    | (reportes[\"Codigo EMP\"] == \"EMP9717\")\n",
    "    | (reportes[\"Codigo EMP\"] == \"EMP9721\")\n",
    "    | (reportes[\"Codigo EMP\"] == \"EMP9722\")\n",
    "    | (reportes[\"Codigo EMP\"] == \"EMP9723\")\n",
    "    | (reportes[\"Codigo EMP\"] == \"EMP6464\")\n",
    "    | (reportes[\"Codigo EMP\"] == \"EMP7653\")\n",
    "    | (reportes[\"Codigo EMP\"] == \"EMP9244\")\n",
    "    | (reportes[\"Codigo EMP\"] == \"EMP9245\")\n",
    "    | (reportes[\"Codigo EMP\"] == \"EMP9246\")\n",
    "    | (reportes[\"Codigo EMP\"] == \"EMP9247\")\n",
    "    | (reportes[\"Codigo EMP\"] == \"EMP9248\")\n",
    "    | (reportes[\"Codigo EMP\"] == \"EMP9249\")\n",
    "    | (reportes[\"Codigo EMP\"] == \"EMP9250\")\n",
    "    | (reportes[\"Codigo EMP\"] == \"EMP9140\")\n",
    "    | (reportes[\"Codigo EMP\"] == \"EMP9141\")\n",
    "    | (reportes[\"Codigo EMP\"] == \"EMP9148\")\n",
    "    | (reportes[\"Codigo EMP\"] == \"EMP9149\")\n",
    "    | (reportes[\"Codigo EMP\"] == \"EMP9150\")\n",
    "    | (reportes[\"Codigo EMP\"] == \"EMP9151\")\n",
    "    | (reportes[\"Codigo EMP\"] == \"EMP9152\")\n",
    "    | (reportes[\"Codigo EMP\"] == \"EMP9153\")\n",
    "    | (reportes[\"Codigo EMP\"] == \"EMP9154\")\n",
    "    | (reportes[\"Codigo EMP\"] == \"EMP9155\")\n",
    "    | (reportes[\"Codigo EMP\"] == \"EMP9156\")\n",
    "    | (reportes[\"Codigo EMP\"] == \"EMP9157\")\n",
    "    | (reportes[\"Codigo EMP\"] == \"EMP9158\")\n",
    "    | (reportes[\"Codigo EMP\"] == \"EMP9159\")\n",
    "    | (reportes[\"Codigo EMP\"] == \"EMP9160\")\n",
    "    | (reportes[\"Codigo EMP\"] == \"EMP9161\")\n",
    "    | (reportes[\"Codigo EMP\"] == \"EMP9163\")\n",
    "    | (reportes[\"Codigo EMP\"] == \"EMP9164\")\n",
    "    | (reportes[\"Codigo EMP\"] == \"EMP9165\")\n",
    "    | (reportes[\"Codigo EMP\"] == \"EMP9166\")\n",
    "    | (reportes[\"Codigo EMP\"] == \"EMP9167\")\n",
    "    | (reportes[\"Codigo EMP\"] == \"EMP9127\")\n",
    "    | (reportes[\"Codigo EMP\"] == \"EMP9130\")\n",
    "    | (reportes[\"Codigo EMP\"] == \"EMP9131\")\n",
    "    | (reportes[\"Codigo EMP\"] == \"EMP5742\")\n",
    "    | (reportes[\"Codigo EMP\"] == \"EMP5743\")\n",
    "    | (reportes[\"Codigo EMP\"] == \"EMP5745\")\n",
    "    | (reportes[\"Codigo EMP\"] == \"EMP5746\")\n",
    "    | (reportes[\"Codigo EMP\"] == \"EMP5747\")\n",
    "    | (reportes[\"Codigo EMP\"] == \"EMP5748\")\n",
    "    | (reportes[\"Codigo EMP\"] == \"EMP5749\")\n",
    "    | (reportes[\"Codigo EMP\"] == \"EMP5750\")\n",
    "    | (reportes[\"Codigo EMP\"] == \"EMP5751\")\n",
    "    | (reportes[\"Codigo EMP\"] == \"EMP5752\")\n",
    "    | (reportes[\"Codigo EMP\"] == \"EMP5753\")\n",
    "    | (reportes[\"Codigo EMP\"] == \"EMP5754\")\n",
    "    | (reportes[\"Codigo EMP\"] == \"EMP5756\")\n",
    "    | (reportes[\"Codigo EMP\"] == \"EMP5757\")\n",
    "    | (reportes[\"Codigo EMP\"] == \"EMP5758\")\n",
    "    | (reportes[\"Codigo EMP\"] == \"EMP5759\")\n",
    "    | (reportes[\"Codigo EMP\"] == \"EMP5760\")\n",
    "    | (reportes[\"Codigo EMP\"] == \"EMP5761\")\n",
    "    | (reportes[\"Codigo EMP\"] == \"EMP5762\")\n",
    "    | (reportes[\"Codigo EMP\"] == \"EMP5764\")\n",
    "    | (reportes[\"Codigo EMP\"] == \"EMP5765\")\n",
    "    | (reportes[\"Codigo EMP\"] == \"EMP5766\")\n",
    "    | (reportes[\"Codigo EMP\"] == \"EMP5767\")\n",
    "    | (reportes[\"Codigo EMP\"] == \"EMP5768\")\n",
    "    | (reportes[\"Codigo EMP\"] == \"EMP5769\")\n",
    "    | (reportes[\"Codigo EMP\"] == \"EMP5770\")\n",
    "    | (reportes[\"Codigo EMP\"] == \"EMP5771\")\n",
    "    | (reportes[\"Codigo EMP\"] == \"EMP5773\")\n",
    "    | (reportes[\"Codigo EMP\"] == \"EMP5774\")\n",
    "    | (reportes[\"Codigo EMP\"] == \"EMP9276\")\n",
    "    | (reportes[\"Codigo EMP\"] == \"EMP9362\")\n",
    "    | (reportes[\"Codigo EMP\"] == \"EMP5796\")\n",
    "    | (reportes[\"Codigo EMP\"] == \"EMP5797\")\n",
    "    | (reportes[\"Codigo EMP\"] == \"EMP5798\")\n",
    "    | (reportes[\"Codigo EMP\"] == \"EMP5799\")\n",
    "    | (reportes[\"Codigo EMP\"] == \"EMP5800\")\n",
    "    | (reportes[\"Codigo EMP\"] == \"EMP5801\")\n",
    "    | (reportes[\"Codigo EMP\"] == \"EMP5802\")\n",
    "    | (reportes[\"Codigo EMP\"] == \"EMP5803\")\n",
    "    | (reportes[\"Codigo EMP\"] == \"EMP5804\")\n",
    "    | (reportes[\"Codigo EMP\"] == \"EMP5805\")\n",
    "    | (reportes[\"Codigo EMP\"] == \"EMP5806\")\n",
    "    | (reportes[\"Codigo EMP\"] == \"EMP5807\")\n",
    "    | (reportes[\"Codigo EMP\"] == \"EMP5808\")\n",
    "    | (reportes[\"Codigo EMP\"] == \"EMP5809\")\n",
    "    | (reportes[\"Codigo EMP\"] == \"EMP5810\")\n",
    "    | (reportes[\"Codigo EMP\"] == \"EMP5812\")\n",
    "    | (reportes[\"Codigo EMP\"] == \"EMP9264\")\n",
    "    | (reportes[\"Codigo EMP\"] == \"EMP9265\")\n",
    "    | (reportes[\"Codigo EMP\"] == \"EMP9266\")\n",
    "    | (reportes[\"Codigo EMP\"] == \"EMP9267\")\n",
    "    | (reportes[\"Codigo EMP\"] == \"EMP9268\")\n",
    "    | (reportes[\"Codigo EMP\"] == \"EMP9269\")\n",
    "    | (reportes[\"Codigo EMP\"] == \"EMP9270\")\n",
    "    | (reportes[\"Codigo EMP\"] == \"EMP9271\")\n",
    "    | (reportes[\"Codigo EMP\"] == \"EMP9273\")\n",
    "    | (reportes[\"Codigo EMP\"] == \"EMP9274\")\n",
    "    | (reportes[\"Codigo EMP\"] == \"EMP9275\")\n",
    "    | (reportes[\"Codigo EMP\"] == \"EMP9263\")\n",
    "    | (reportes[\"Codigo EMP\"] == \"EMP6178\")\n",
    "    | (reportes[\"Codigo EMP\"] == \"EMP6179\")\n",
    "    | (reportes[\"Codigo EMP\"] == \"EMP6180\")\n",
    "    | (reportes[\"Codigo EMP\"] == \"EMP9445\")\n",
    "    | (reportes[\"Codigo EMP\"] == \"EMP9446\")\n",
    "    | (reportes[\"Codigo EMP\"] == \"EMP9448\")\n",
    "    | (reportes[\"Codigo EMP\"] == \"EMP9449\")\n",
    "    | (reportes[\"Codigo EMP\"] == \"EMP9450\")\n",
    "    | (reportes[\"Codigo EMP\"] == \"EMP9451\")\n",
    "    | (reportes[\"Codigo EMP\"] == \"EMP9462\")\n",
    "    | (reportes[\"Codigo EMP\"] == \"EMP9480\")\n",
    "    | (reportes[\"Codigo EMP\"] == \"EMP9867\")\n",
    "    | (reportes[\"Codigo EMP\"] == \"EMP9868\")\n",
    "    | (reportes[\"Codigo EMP\"] == \"EMP9869\")\n",
    "    | (reportes[\"Codigo EMP\"] == \"EMP9932\")\n",
    "    | (reportes[\"Codigo EMP\"] == \"EMP9933\")\n",
    "    | (reportes[\"Codigo EMP\"] == \"EMP9943\")\n",
    "    | (reportes[\"Codigo EMP\"] == \"EMP9944\")\n",
    "    | (reportes[\"Codigo EMP\"] == \"EMP9945\")\n",
    "    | (reportes[\"Codigo EMP\"] == \"EMP9964\")\n",
    "    | (reportes[\"Codigo EMP\"] == \"EMP9965\")\n",
    "    | (reportes[\"Codigo EMP\"] == \"EMP9596\")\n",
    "    | (reportes[\"Codigo EMP\"] == \"EMP9713\")\n",
    "    | (reportes[\"Codigo EMP\"] == \"EMP9724\")\n",
    "    | (reportes[\"Codigo EMP\"] == \"EMP9725\")\n",
    "    | (reportes[\"Codigo EMP\"] == \"EMP9726\")\n",
    "    | (reportes[\"Codigo EMP\"] == \"EMP9727\")\n",
    "    | (reportes[\"Codigo EMP\"] == \"EMP9728\")\n",
    "    | (reportes[\"Codigo EMP\"] == \"EMP9729\")\n",
    "    | (reportes[\"Codigo EMP\"] == \"EMP9730\")\n",
    "    | (reportes[\"Codigo EMP\"] == \"EMP9731\")\n",
    "    | (reportes[\"Codigo EMP\"] == \"EMP9732\")\n",
    "    | (reportes[\"Codigo EMP\"] == \"EMP9733\")\n",
    "    | (reportes[\"Codigo EMP\"] == \"EMP9738\")\n",
    "    | (reportes[\"Codigo EMP\"] == \"EMP9636\")\n",
    "    | (reportes[\"Codigo EMP\"] == \"EMP9640\")\n",
    "    | (reportes[\"Codigo EMP\"] == \"EMP9641\")\n",
    "    | (reportes[\"Codigo EMP\"] == \"EMP9642\")\n",
    "    | (reportes[\"Codigo EMP\"] == \"EMP9643\")\n",
    "    | (reportes[\"Codigo EMP\"] == \"EMP9644\")\n",
    "    | (reportes[\"Codigo EMP\"] == \"EMP6366\")\n",
    "    | (reportes[\"Codigo EMP\"] == \"EMP6425\")\n",
    "    | (reportes[\"Codigo EMP\"] == \"EMP6433\")\n",
    "    | (reportes[\"Codigo EMP\"] == \"EMP6445\")\n",
    "    | (reportes[\"Codigo EMP\"] == \"EMP6446\")\n",
    "    | (reportes[\"Codigo EMP\"] == \"EMP6450\")\n",
    "    | (reportes[\"Codigo EMP\"] == \"EMP6547\")\n",
    "    | (reportes[\"Codigo EMP\"] == \"EMP6625\")\n",
    "    | (reportes[\"Codigo EMP\"] == \"EMP6626\")\n",
    "    | (reportes[\"Codigo EMP\"] == \"EMP6648\")\n",
    "    | (reportes[\"Codigo EMP\"] == \"EMP6655\")\n",
    "    | (reportes[\"Codigo EMP\"] == \"EMP6656\")\n",
    "    | (reportes[\"Codigo EMP\"] == \"EMP6657\")\n",
    "    | (reportes[\"Codigo EMP\"] == \"EMP6658\")\n",
    "    | (reportes[\"Codigo EMP\"] == \"EMP6659\")\n",
    "    | (reportes[\"Codigo EMP\"] == \"EMP6780\")\n",
    "    | (reportes[\"Codigo EMP\"] == \"EMP6791\")\n",
    "    | (reportes[\"Codigo EMP\"] == \"EMP6897\")\n",
    "    | (reportes[\"Codigo EMP\"] == \"EMP6931\")\n",
    "    | (reportes[\"Codigo EMP\"] == \"EMP6941\")\n",
    "    | (reportes[\"Codigo EMP\"] == \"EMP6942\")\n",
    "    | (reportes[\"Codigo EMP\"] == \"EMP6968\")\n",
    "    | (reportes[\"Codigo EMP\"] == \"EMP6970\")\n",
    "    | (reportes[\"Codigo EMP\"] == \"EMP7074\")\n",
    "    | (reportes[\"Codigo EMP\"] == \"EMP7325\")\n",
    "    | (reportes[\"Codigo EMP\"] == \"EMP7342\")\n",
    "    | (reportes[\"Codigo EMP\"] == \"EMP7415\")\n",
    "    | (reportes[\"Codigo EMP\"] == \"EMP7425\")\n",
    "    | (reportes[\"Codigo EMP\"] == \"EMP7527\")\n",
    "    | (reportes[\"Codigo EMP\"] == \"EMP7529\")\n",
    "    | (reportes[\"Codigo EMP\"] == \"EMP7622\")\n",
    "    | (reportes[\"Codigo EMP\"] == \"EMP7628\")\n",
    "    | (reportes[\"Codigo EMP\"] == \"EMP7644\")\n",
    "    | (reportes[\"Codigo EMP\"] == \"EMP7645\")\n",
    "    | (reportes[\"Codigo EMP\"] == \"EMP7710\")\n",
    "    | (reportes[\"Codigo EMP\"] == \"EMP7711\")\n",
    "    | (reportes[\"Codigo EMP\"] == \"EMP7773\")\n",
    "    | (reportes[\"Codigo EMP\"] == \"EMP7774\")\n",
    "    | (reportes[\"Codigo EMP\"] == \"EMP7775\")\n",
    "    | (reportes[\"Codigo EMP\"] == \"EMP7790\")\n",
    "    | (reportes[\"Codigo EMP\"] == \"EMP7792\")\n",
    "    | (reportes[\"Codigo EMP\"] == \"EMP7874\")\n",
    "    | (reportes[\"Codigo EMP\"] == \"EMP7879\")\n",
    "    | (reportes[\"Corredor\"] == \"Mercer Corredores De Seguros Ltda.\")\n",
    "]\n",
    "Mercer.replace({\"Clínica\": Clinicas_metlife}, inplace=True)\n",
    "Mercer = Mercer[(Mercer[\"Empleador\"] == Mercer[\"Nombre Empresa\"])]\n",
    "Mercer.to_excel(\"F:/Reportes SF/MetLife/Mercer_Base.xlsx\", index=False)"
   ]
  },
  {
   "cell_type": "code",
   "execution_count": null,
   "metadata": {},
   "outputs": [],
   "source": [
    "soleO = reportes[(reportes[\"Campaña\"] == \"Sole Orienta\")]\n",
    "\n",
    "soleO = soleO[(soleO[\"Empleador\"] == soleO[\"Nombre Empresa\"])]\n",
    "soleO[\"Empleador\"] = (\n",
    "    soleO[\"Empleador\"].str.title().replace(\"Sole Orienta\", \"Probenefits S.A.\")\n",
    ")\n",
    "soleO[\"Nombre Empresa\"] = (\n",
    "    soleO[\"Nombre Empresa\"].str.title().replace(\"Sole Orienta\", \"Probenefits S.A.\")\n",
    ")\n",
    "soleO.to_excel(\"F:/Reportes SF/Sole Orienta/Sole_Orienta_Base.xlsx\", index=False)"
   ]
  },
  {
   "cell_type": "code",
   "execution_count": null,
   "metadata": {},
   "outputs": [],
   "source": [
    "nexo = reportes[(reportes[\"Campaña\"] == \"Nexo\")]\n",
    "\n",
    "nexo = nexo[(nexo[\"Empleador\"] == nexo[\"Nombre Empresa\"])]\n",
    "# nexo[\"Empleador\"] = nexo[\"Empleador\"].str.title().replace(\"Sole Orienta\", \"Probenefits S.A.\")\n",
    "# soleO[\"Nombre Empresa\"] = soleO[\"Nombre Empresa\"].str.title().replace(\"Sole Orienta\", \"Probenefits S.A.\")\n",
    "nexo.to_excel(\"F:/Reportes SF/Nexo/Nexo_Base.xlsx\", index=False)"
   ]
  },
  {
   "cell_type": "code",
   "execution_count": null,
   "metadata": {},
   "outputs": [],
   "source": [
    "# nuevos = \"F:/Reportes SF/Sole Orienta/Sole_Orienta_Based.xlsx\"\n",
    "# soleO = pd.read_excel(nuevos)\n",
    "\n",
    "\n",
    "soleO.to_excel(\"F:/Reportes SF/Sole Orienta/Sole_Orienta_Base.xlsx\", index=False)\n",
    "\n",
    "proBenefits = soleO[(soleO[\"Empleador\"] == \"Probenefit Corredores De Seguros Ltda.\")]\n",
    "proBenefits.to_excel(\"F:/Reportes SF/Sole Orienta/proBenefits_Base.xlsx\", index=False)\n",
    "\n",
    "technoServer = soleO[(soleO[\"Empleador\"] == \"Fundación TechnoServe Chile\")]\n",
    "technoServer.to_excel(\"F:/Reportes SF/Sole Orienta/technoServer_Base.xlsx\", index=False)\n",
    "\n",
    "rotteryKrauss = soleO[(soleO[\"Empleador\"] == \"Ópticas Rotter y Krauss Ltda.\")]\n",
    "rotteryKrauss.to_excel(\n",
    "    \"F:/Reportes SF/Sole Orienta/rotteryKrauss_Base.xlsx\", index=False\n",
    ")"
   ]
  },
  {
   "cell_type": "code",
   "execution_count": null,
   "metadata": {},
   "outputs": [],
   "source": [
    "Mercado_Libre = reportes[(reportes[\"Codigo EMP\"] == \"EMP5617\")]\n",
    "\n",
    "Mercado_Libre = Mercado_Libre[\n",
    "    (Mercado_Libre[\"Empleador\"] == Mercado_Libre[\"Nombre Empresa\"])\n",
    "]\n",
    "Mercado_Libre.to_excel(\n",
    "    \"F:/Reportes SF/Mercado Libre/Mercado_Libre_Base.xlsx\", index=False\n",
    ")"
   ]
  },
  {
   "cell_type": "code",
   "execution_count": null,
   "metadata": {},
   "outputs": [],
   "source": [
    "Ahumada = reportes[(reportes[\"Codigo EMP\"] == \"EMP6475\")]\n",
    "\n",
    "Ahumada = Ahumada[(Ahumada[\"Empleador\"] == Ahumada[\"Nombre Empresa\"])]\n",
    "Ahumada.to_excel(\"F:/Reportes SF/Farmacias Ahumada/Ahumada_Base.xlsx\", index=False)"
   ]
  },
  {
   "cell_type": "code",
   "execution_count": null,
   "metadata": {},
   "outputs": [],
   "source": [
    "Minera_Abra = reportes[\n",
    "    (reportes[\"Codigo EMP\"] == \"EMP7397\")\n",
    "    | (reportes[\"Codigo EMP\"] == \"EMP7795\")\n",
    "    | (reportes[\"Codigo EMP\"] == \"EMP7796\")\n",
    "    | (reportes[\"Campaña\"] == \"Minera El Abra\")\n",
    "]\n",
    "\n",
    "Minera_Abra = Minera_Abra[(Minera_Abra[\"Empleador\"] == Minera_Abra[\"Nombre Empresa\"])]\n",
    "Minera_Abra.to_excel(\"F:/Reportes SF/Minera El Abra/Abra_Base.xlsx\", index=False)"
   ]
  },
  {
   "cell_type": "code",
   "execution_count": null,
   "metadata": {},
   "outputs": [],
   "source": [
    "Agrosuper = reportes[(reportes[\"Holding\"] == \"Agrosuper\")]\n",
    "Agrosuper.replace({\"Clínica\": Clinicas_metlife}, inplace=True)\n",
    "Agrosuper = Agrosuper[(Agrosuper[\"Empleador\"] == Agrosuper[\"Nombre Empresa\"])]\n",
    "Agrosuper.to_excel(\"F:/Reportes SF/Metlife/Mercer_Agrosuper_Base.xlsx\", index=False)"
   ]
  },
  {
   "cell_type": "code",
   "execution_count": null,
   "metadata": {},
   "outputs": [],
   "source": [
    "Agrosuper2 = reportes[(reportes[\"Holding\"] == \"Agrosuper 2\")]\n",
    "Agrosuper2.replace({\"Clínica\": Clinicas_metlife}, inplace=True)\n",
    "# Agrosuper2 = Agrosuper2[(Agrosuper2[\"Empleador\"] == Agrosuper2[\"Nombre Empresa\"])]\n",
    "Agrosuper2.to_excel(\"F:/Reportes SF/Metlife/Mercer_Agrosuper2_Base.xlsx\", index=False)"
   ]
  },
  {
   "cell_type": "code",
   "execution_count": null,
   "metadata": {},
   "outputs": [],
   "source": [
    "Lipigas = reportes[(reportes[\"Codigo EMP\"] == \"EMP7310\")]\n",
    "\n",
    "Lipigas = Lipigas[(Lipigas[\"Empleador\"] == Lipigas[\"Nombre Empresa\"])]\n",
    "Lipigas.to_excel(\"F:/Reportes SF/Lipigas/Lipigas_Base.xlsx\", index=False)"
   ]
  },
  {
   "cell_type": "code",
   "execution_count": null,
   "metadata": {},
   "outputs": [],
   "source": [
    "Socofar = reportes[\n",
    "    (reportes[\"Codigo EMP\"] == \"EMP3780\")\n",
    "    | (reportes[\"Codigo EMP\"] == \"EMP6749\")\n",
    "    | (reportes[\"Codigo EMP\"] == \"EMP6750\")\n",
    "    | (reportes[\"Codigo EMP\"] == \"EMP6751\")\n",
    "    | (reportes[\"Codigo EMP\"] == \"EMP7405\")\n",
    "    | (reportes[\"Codigo EMP\"] == \"EMP7406\")\n",
    "    | (reportes[\"Codigo EMP\"] == \"EMP7407\")\n",
    "]\n",
    "\n",
    "\n",
    "Socofar = Socofar[(Socofar[\"Empleador\"] == Socofar[\"Nombre Empresa\"])]\n",
    "Socofar.to_excel(\"F:/Reportes SF/Socofar/Socofar_Base.xlsx\", index=False)\n",
    "\n",
    "Socofar1 = Socofar[(Socofar[\"Mes\"] == 1)]\n",
    "Socofar1.to_excel(\"F:/Reportes SF/Socofar/Socofar_Enero_Base.xlsx\", index=False)\n",
    "\n",
    "Socofar2 = Socofar[(Socofar[\"Mes\"] == 2)]\n",
    "Socofar2.to_excel(\"F:/Reportes SF/Socofar/Socofar_Febrero_Base.xlsx\", index=False)\n",
    "\n",
    "Socofar3 = Socofar[(Socofar[\"Mes\"] == 3)]\n",
    "Socofar3.to_excel(\"F:/Reportes SF/Socofar/Socofar_Marzo_Base.xlsx\", index=False)\n",
    "\n",
    "Socofar3 = Socofar[(Socofar[\"Mes\"] == 4)]\n",
    "Socofar3.to_excel(\"F:/Reportes SF/Socofar/Socofar_Abril_Base.xlsx\", index=False)\n",
    "\n",
    "Socofar3 = Socofar[(Socofar[\"Mes\"] == 5)]\n",
    "Socofar3.to_excel(\"F:/Reportes SF/Socofar/Socofar_Mayo_Base.xlsx\", index=False)\n",
    "\n",
    "Socofar3 = Socofar[(Socofar[\"Mes\"] == 6)]\n",
    "Socofar3.to_excel(\"F:/Reportes SF/Socofar/Socofar_Junio_Base.xlsx\", index=False)\n",
    "\n",
    "Socofar3 = Socofar[(Socofar[\"Mes\"] == 7)]\n",
    "Socofar3.to_excel(\"F:/Reportes SF/Socofar/Socofar_Julio_Base.xlsx\", index=False)\n",
    "\n",
    "Socofar3 = Socofar[(Socofar[\"Mes\"] == 8)]\n",
    "Socofar3.to_excel(\"F:/Reportes SF/Socofar/Socofar_Agosto_Base.xlsx\", index=False)\n",
    "\n",
    "Socofar3 = Socofar[(Socofar[\"Mes\"] == 9)]\n",
    "Socofar3.to_excel(\"F:/Reportes SF/Socofar/Socofar_Septiembre_Base.xlsx\", index=False)\n",
    "\n",
    "Socofar3 = Socofar[(Socofar[\"Mes\"] == 10)]\n",
    "Socofar3.to_excel(\"F:/Reportes SF/Socofar/Socofar_Octubre_Base.xlsx\", index=False)\n",
    "\n",
    "Socofar3 = Socofar[(Socofar[\"Mes\"] == 11)]\n",
    "Socofar3.to_excel(\"F:/Reportes SF/Socofar/Socofar_Noviembre_Base.xlsx\", index=False)"
   ]
  },
  {
   "cell_type": "code",
   "execution_count": null,
   "metadata": {},
   "outputs": [],
   "source": [
    "Kaufmann = reportes[\n",
    "    (reportes[\"Codigo EMP\"] == \"EMP4171\")\n",
    "    | (reportes[\"Codigo EMP\"] == \"EMP7308\")\n",
    "    | (reportes[\"Codigo EMP\"] == \"EMP7309\")\n",
    "    | (reportes[\"Campaña\"] == \"Kaufmann\")\n",
    "]\n",
    "\n",
    "\n",
    "Kaufmann = Kaufmann[(Kaufmann[\"Empleador\"] == Kaufmann[\"Nombre Empresa\"])]\n",
    "Kaufmann.to_excel(\"F:/Reportes SF/Kaufmann/Kaufmann_Base.xlsx\", index=False)"
   ]
  },
  {
   "cell_type": "code",
   "execution_count": null,
   "metadata": {},
   "outputs": [],
   "source": [
    "Tressp = reportes[\n",
    "    (reportes[\"Codigo EMP\"] == \"EMP6467\")\n",
    "    # | (reportes[\"Codigo EMP\"] == \"EMP6468\")\n",
    "    # | (reportes[\"Codigo EMP\"] == \"EMP7607\")\n",
    "]\n",
    "\n",
    "\n",
    "Tressp = Tressp[(Tressp[\"Empleador\"] == Tressp[\"Nombre Empresa\"])]\n",
    "Tressp.to_excel(\"F:/Reportes SF/3SP/3sp_Base.xlsx\", index=False)\n",
    "Tressp.shape"
   ]
  },
  {
   "attachments": {},
   "cell_type": "markdown",
   "metadata": {},
   "source": [
    "BCI\n"
   ]
  },
  {
   "cell_type": "code",
   "execution_count": null,
   "metadata": {},
   "outputs": [],
   "source": [
    "Bci = reportes[(reportes[\"Campaña\"] == \"BCI Seguros Colectivos\")]\n",
    "\n",
    "Bci = Bci[\n",
    "    # (Bci[\"Empleador\"] == Bci[\"Nombre Empresa\"]) &\n",
    "    (Bci[\"Codigo EMP\"] != \"EMP6254\")\n",
    "    | (Bci[\"Codigo EMP\"] != \"EMP6255\")\n",
    "    | (reportes[\"Holding\"] != \"Orbis\")\n",
    "]\n",
    "Bci = Bci[(Bci[\"Empleador\"] == \"BCI Seguros\")]\n",
    "\n",
    "Bci.to_excel(\"F:/Reportes SF/BCI/BCI_Base.xlsx\", index=False)\n",
    "\n",
    "Cenin = Bci[(reportes[\"Codigo EMP\"] == \"EMP6250\") | (reportes[\"Holding\"] == \"Cemin\")]\n",
    "Cenin = Cenin[(Cenin[\"Empleador\"] == \"BCI Seguros\")]\n",
    "Cenin.to_excel(\"F:/Reportes SF/BCI/Cenin_Base.xlsx\", index=False)\n",
    "\n",
    "Orbis = Bci[\n",
    "    (reportes[\"Codigo EMP\"] == \"EMP6254\")\n",
    "    | (reportes[\"Codigo EMP\"] == \"EMP6255\")\n",
    "    | (reportes[\"Holding\"] == \"Orbis\")\n",
    "]\n",
    "Orbis = Orbis[(Orbis[\"Empleador\"] == \"BCI Seguros\")]\n",
    "Orbis.to_excel(\"F:/Reportes SF/BCI/Orbis_Base.xlsx\", index=False)\n",
    "\n",
    "Embonor = Bci[(reportes[\"Holding\"] == \"Embonor\")]\n",
    "Embonor = Embonor[(Embonor[\"Empleador\"] == \"BCI Seguros\")]\n",
    "Embonor.to_excel(\"F:/Reportes SF/BCI/Embonor_Base.xlsx\", index=False)\n",
    "\n",
    "\n",
    "Saesa = Bci[(reportes[\"Holding\"] == \"Saesa\")]\n",
    "Saesa = Saesa[(Saesa[\"Empleador\"] == \"BCI Seguros\")]\n",
    "Saesa.to_excel(\"F:/Reportes SF/BCI/Saesa_Base.xlsx\", index=False)"
   ]
  },
  {
   "cell_type": "code",
   "execution_count": null,
   "metadata": {},
   "outputs": [],
   "source": [
    "bciIndividual = reportes[(reportes[\"Campaña\"] == \"BCI Seguros Individuales\")]\n",
    "bciIndividual = bciIndividual[(bciIndividual[\"Fecha\"] > \"2023-08-01\")]\n",
    "bciIndividual = bciIndividual[(bciIndividual[\"Empleador\"] == \"BCI Seguros\")]\n",
    "bciIndividual.to_excel(\"F:/Reportes SF/BCI/bciIndividual_Base.xlsx\", index=False)"
   ]
  },
  {
   "cell_type": "code",
   "execution_count": null,
   "metadata": {},
   "outputs": [],
   "source": [
    "bciColaborador = reportes[(reportes[\"Campaña\"] == \"BCI Seguros Colaboradores\")]\n",
    "# bciColaborador = bciColaborador[(bciColaborador[\"Fecha\"] > \"2023-08-01\")]\n",
    "bciColaborador = bciColaborador[(bciColaborador[\"Empleador\"] == \"BCI Seguros\")]\n",
    "bciColaborador.to_excel(\"F:/Reportes SF/BCI/bciColaborador_Base.xlsx\", index=False)"
   ]
  },
  {
   "cell_type": "code",
   "execution_count": null,
   "metadata": {},
   "outputs": [],
   "source": [
    "Colmena = reportes[(reportes[\"Campaña\"] == \"Colmena\")]\n",
    "clinicas_colmena = {\"Mis Primeros Pasos\": \"Deporte\"}\n",
    "Colmena.replace({\"Clínica\": clinicas_colmena}, inplace=True)\n",
    "\n",
    "\n",
    "Colmena = Colmena[(Colmena[\"Empleador\"] == Colmena[\"Nombre Empresa\"])]\n",
    "Colmena.to_excel(\"F:/Reportes SF/Colmena/Colmena_Base.xlsx\", index=False)"
   ]
  },
  {
   "cell_type": "code",
   "execution_count": null,
   "metadata": {},
   "outputs": [],
   "source": [
    "Pedro = reportes[(reportes[\"Campaña\"] == \"Pedro De Valdivia\")]\n",
    "\n",
    "\n",
    "Pedro = Pedro[(Pedro[\"Empleador\"] == Pedro[\"Nombre Empresa\"])]\n",
    "Pedro.to_excel(\"F:/Reportes SF/Pedro de Valdivia/Pedro_Base.xlsx\", index=False)"
   ]
  },
  {
   "cell_type": "code",
   "execution_count": null,
   "metadata": {},
   "outputs": [],
   "source": [
    "talo_bd = reportes[(reportes[\"Campaña\"] == \"Talo\")]\n",
    "\n",
    "\n",
    "talo_bd = talo_bd[(talo_bd[\"Empleador\"] == talo_bd[\"Nombre Empresa\"])]\n",
    "talo_bd.to_excel(\"F:/Reportes SF/Talo/Talo_Base.xlsx\", index=False)"
   ]
  },
  {
   "cell_type": "code",
   "execution_count": null,
   "metadata": {},
   "outputs": [],
   "source": [
    "Vidacel = reportes[(reportes[\"Campaña\"] == \"VidaCel\")]\n",
    "\n",
    "\n",
    "Vidacel = Vidacel[(Vidacel[\"Empleador\"] == Vidacel[\"Nombre Empresa\"])]\n",
    "Vidacel.to_excel(\"F:/Reportes SF/Vidacel/Vidacel_Base.xlsx\", index=False)\n",
    "\n",
    "VidacelColab = reportes[(reportes[\"Campaña\"] == \"VidaCel Colaboradores\")]\n",
    "\n",
    "VidacelColab = VidacelColab[\n",
    "    (VidacelColab[\"Empleador\"] == VidacelColab[\"Nombre Empresa\"])\n",
    "]\n",
    "VidacelColab.to_excel(\"F:/Reportes SF/Vidacel/VidacelColab_Base.xlsx\", index=False)"
   ]
  },
  {
   "cell_type": "code",
   "execution_count": null,
   "metadata": {},
   "outputs": [],
   "source": [
    "Wfs = reportes[(reportes[\"Campaña\"] == \"Holding Wfs Food Services\")]\n",
    "\n",
    "Wfs = Wfs[(Wfs[\"Empleador\"] == Wfs[\"Nombre Empresa\"])]\n",
    "Wfs.to_excel(\"F:/Reportes SF/Wfs/Wfs_Base.xlsx\", index=False)"
   ]
  },
  {
   "cell_type": "code",
   "execution_count": null,
   "metadata": {},
   "outputs": [],
   "source": [
    "Dermic = reportes[(reportes[\"Campaña\"] == \"Dermik\")]\n",
    "\n",
    "Dermic = Dermic[(Dermic[\"Empleador\"] == Dermic[\"Nombre Empresa\"])]\n",
    "Dermic.to_excel(\"F:/Reportes SF/Dermik/Dermic_Base.xlsx\", index=False)\n",
    "Dermic.shape"
   ]
  },
  {
   "cell_type": "code",
   "execution_count": null,
   "metadata": {},
   "outputs": [],
   "source": [
    "Instruvalve = reportes[(reportes[\"Campaña\"] == \"Instruvalve\")]\n",
    "\n",
    "Instruvalve = Instruvalve[(Instruvalve[\"Empleador\"] == Instruvalve[\"Nombre Empresa\"])]\n",
    "Instruvalve.to_excel(\"F:/Reportes SF/Instruvalve/Instruvalve_Base.xlsx\", index=False)"
   ]
  },
  {
   "cell_type": "code",
   "execution_count": null,
   "metadata": {},
   "outputs": [],
   "source": [
    "Thb = reportes[(reportes[\"Campaña\"] == \"THB Seguros\")]\n",
    "\n",
    "Thb = Thb[(Thb[\"Empleador\"] == Thb[\"Nombre Empresa\"])]\n",
    "Thb.to_excel(\"F:/Reportes SF/THB Seguros/Thb_Base.xlsx\", index=False)"
   ]
  },
  {
   "cell_type": "code",
   "execution_count": null,
   "metadata": {},
   "outputs": [],
   "source": [
    "Bice = reportes[(reportes[\"Campaña\"] == \"BICE Vida\")]\n",
    "\n",
    "Bice = Bice[(Bice[\"Empleador\"] == Bice[\"Nombre Empresa\"])]\n",
    "Bice.to_excel(\"F:/Reportes SF/Bice/Bice_Base.xlsx\", index=False)"
   ]
  },
  {
   "cell_type": "code",
   "execution_count": null,
   "metadata": {},
   "outputs": [],
   "source": [
    "Lockton = reportes[(reportes[\"Campaña\"] == \"Lockton\")]\n",
    "\n",
    "Lockton = Lockton[(Lockton[\"Empleador\"] == Lockton[\"Nombre Empresa\"])]\n",
    "\n",
    "# Lockton = Lockton[(Lockton[\"Fecha\"] > \"2023-09-01\") & ]\n",
    "LocktonA = Lockton[\n",
    "    (Lockton[\"Empleador\"] == \"Albermale Ltda.\") & (Lockton[\"Fecha\"] > \"2023-09-01\")\n",
    "]\n",
    "LocktonB = Lockton[(Lockton[\"Empleador\"] != \"Albermale Ltda.\")]\n",
    "Lockton = pd.concat([LocktonB, LocktonA], axis=0)\n",
    "\n",
    "Lockton.to_excel(\"F:/Reportes SF/Lockton/Lockton_Base.xlsx\", index=False)"
   ]
  },
  {
   "cell_type": "code",
   "execution_count": null,
   "metadata": {},
   "outputs": [],
   "source": [
    "Agencia = reportes[(reportes[\"Campaña\"] == \"MetLife Agencia\")]\n",
    "\n",
    "Agencia = Agencia[(Agencia[\"Empleador\"] == Agencia[\"Nombre Empresa\"])]\n",
    "Agencia = Agencia[(Agencia[\"Fecha_chilena\"] >= \"2023-09-01 00:01:08.902939\")]\n",
    "Agencia.to_excel(\"F:/Reportes SF/Agencia/Agencia_Base.xlsx\", index=False)"
   ]
  },
  {
   "cell_type": "code",
   "execution_count": null,
   "metadata": {},
   "outputs": [],
   "source": [
    "proChile = reportes[(reportes[\"Campaña\"] == \"ProChile\")]\n",
    "\n",
    "proChile = proChile[(proChile[\"Empleador\"] == proChile[\"Nombre Empresa\"])]\n",
    "# proChile = proChile[(proChile[\"Fecha_chilena\"] >= \"2023-05-01 00:01:08.902939\")]\n",
    "proChile = proChile[(proChile[\"Mes\"] == 3) & (proChile[\"Año\"] == 2024)]\n",
    "proChile.to_excel(\"F:/Reportes SF/proChile/proChile_Base.xlsx\", index=False)"
   ]
  },
  {
   "cell_type": "code",
   "execution_count": null,
   "metadata": {},
   "outputs": [],
   "source": [
    "southbridge = reportes[(reportes[\"Campaña\"] == \"Southbridge\")]\n",
    "\n",
    "southbridge = southbridge[(southbridge[\"Empleador\"] == southbridge[\"Nombre Empresa\"])]\n",
    "# Southbridge = Southbridge[(Southbridge[\"Fecha_chilena\"] >= \"2023-05-01 00:01:08.902939\")]\n",
    "southbridge.to_excel(\"F:/Reportes SF/Southbridge/Southbridge_Base.xlsx\", index=False)\n",
    "\n",
    "southbridgev = reportes[(reportes[\"Campaña\"] == \"Southbridge Plan Mujer\")]\n",
    "\n",
    "southbridgev = southbridgev[\n",
    "    (southbridgev[\"Empleador\"] == southbridgev[\"Nombre Empresa\"])\n",
    "]\n",
    "southbridgev = southbridgev[\n",
    "    (southbridgev[\"Fecha_chilena\"] >= \"2024-01-01 00:01:08.902939\")\n",
    "]\n",
    "southbridgev.to_excel(\"F:/Reportes SF/Southbridge/SouthbridgeM_Base.xlsx\", index=False)"
   ]
  },
  {
   "cell_type": "code",
   "execution_count": null,
   "metadata": {},
   "outputs": [],
   "source": [
    "Construmart = reportes[(reportes[\"Campaña\"] == \"Construmart\")]\n",
    "Construmart = Construmart[(Construmart[\"Fecha\"] > \"2023-02-01\")]\n",
    "\n",
    "Clinicas_Construmart = {\n",
    "    \"Pacientes Crónicos\": \"Telemedicina\",\n",
    "    \"Clínica Del Sueño\": \"Telemedicina\",\n",
    "}\n",
    "Construmart.replace({\"Clínica\": Clinicas_Construmart}, inplace=True)\n",
    "Construmart = Construmart[(Construmart[\"Empleador\"] == Construmart[\"Nombre Empresa\"])]\n",
    "Construmart[\"Agendamiento\"] = \"No\"\n",
    "# np.where(Construmart['Codigo Ficha'].str.contains('FSA') == True, 'Si', Construmart['agendamiento'])\n",
    "Construmart[\"Agendamiento\"] = np.where(\n",
    "    Construmart[\"Codigo Ficha\"].str.contains(\"FSA\") == True,\n",
    "    \"Si\",\n",
    "    Construmart[\"Agendamiento\"],\n",
    ")\n",
    "# Construmart['Codigo Ficha'].star\n",
    "# Construmart[\"agendamiento\"][Construmart['Codigo Ficha'].str.contains('FSA')]\n",
    "\n",
    "Construmart.to_excel(\"F:/Reportes SF/Construmart/Construmart_Base.xlsx\", index=False)"
   ]
  },
  {
   "cell_type": "code",
   "execution_count": null,
   "metadata": {},
   "outputs": [],
   "source": [
    "reportesMX = reportes[\n",
    "    [\n",
    "        \"Codigo Ficha\",\n",
    "        \"Rut\",\n",
    "        \"Nombre\",\n",
    "        \"Sexo\",\n",
    "        \"Campaña\",\n",
    "        \"Empleador\",\n",
    "        \"Fecha\",\n",
    "        \"Dia\",\n",
    "        \"Mes\",\n",
    "        \"Año\",\n",
    "        \"Meses\",\n",
    "        \"Canal\",\n",
    "        \"Clínica\",\n",
    "        \"Motivo de consulta\",\n",
    "        \"Nombre Empresa\",\n",
    "        \"Vigente\",\n",
    "        \"Pais\",\n",
    "    ]\n",
    "]\n",
    "Mexico = reportesMX[(reportesMX[\"Pais\"] == \"México\")]\n",
    "Mexico = Mexico.rename(columns={\"Rut\": \"CURP\"})"
   ]
  },
  {
   "attachments": {},
   "cell_type": "markdown",
   "metadata": {},
   "source": [
    "Mexico\n"
   ]
  },
  {
   "cell_type": "code",
   "execution_count": null,
   "metadata": {},
   "outputs": [],
   "source": [
    "Mexico = Mexico[(Mexico[\"Empleador\"] == Mexico[\"Nombre Empresa\"])]\n",
    "Mexico.to_excel(\"F:/Reportes SF/Mexico/Mexico_Base.xlsx\", index=False)"
   ]
  },
  {
   "cell_type": "code",
   "execution_count": null,
   "metadata": {},
   "outputs": [],
   "source": [
    "CareU = Mexico[(Mexico[\"Campaña\"] == \"Care U\")]\n",
    "\n",
    "CareU = CareU[(CareU[\"Empleador\"] == CareU[\"Nombre Empresa\"])]\n",
    "CareU.to_excel(\"F:/Reportes SF/Mexico/Care U/Care_Base.xlsx\", index=False)"
   ]
  },
  {
   "cell_type": "code",
   "execution_count": null,
   "metadata": {},
   "outputs": [],
   "source": [
    "Bbdo = Mexico[(Mexico[\"Campaña\"] == \"BBDO\")]\n",
    "\n",
    "Bbdo = Bbdo[(Bbdo[\"Empleador\"] == Bbdo[\"Nombre Empresa\"])]\n",
    "Bbdo.to_excel(\"F:/Reportes SF/Mexico/BBDO/BBDO_Base.xlsx\", index=False)"
   ]
  },
  {
   "cell_type": "code",
   "execution_count": null,
   "metadata": {},
   "outputs": [],
   "source": [
    "Riddell = Mexico[(Mexico[\"Campaña\"] == \"Riddell Sports\")]\n",
    "\n",
    "Riddell = Riddell[(Riddell[\"Empleador\"] == Riddell[\"Nombre Empresa\"])]\n",
    "Riddell.to_excel(\n",
    "    \"F:/Reportes SF/Mexico/Riddell Sports/Riddell Sports_Base.xlsx\", index=False\n",
    ")"
   ]
  },
  {
   "cell_type": "code",
   "execution_count": null,
   "metadata": {},
   "outputs": [],
   "source": [
    "Cuartel = Mexico[(Mexico[\"Campaña\"] == \"Cuartel General\")]\n",
    "\n",
    "Cuartel = Cuartel[(Cuartel[\"Empleador\"] == Cuartel[\"Nombre Empresa\"])]\n",
    "Cuartel.to_excel(\"F:/Reportes SF/Mexico/Cuartel General/Cuartel_Base.xlsx\", index=False)"
   ]
  },
  {
   "cell_type": "code",
   "execution_count": null,
   "metadata": {},
   "outputs": [],
   "source": [
    "Ducter = Mexico[(Mexico[\"Campaña\"] == \"Ducter\")]\n",
    "\n",
    "Ducter = Ducter[(Ducter[\"Empleador\"] == Ducter[\"Nombre Empresa\"])]\n",
    "Ducter.to_excel(\"F:/Reportes SF/Mexico/Ducter/Ducter_Base.xlsx\", index=False)"
   ]
  },
  {
   "cell_type": "code",
   "execution_count": null,
   "metadata": {},
   "outputs": [],
   "source": [
    "Efectivale = Mexico[(Mexico[\"Campaña\"] == \"Efectivale\")]\n",
    "\n",
    "Efectivale = Efectivale[(Efectivale[\"Empleador\"] == Efectivale[\"Nombre Empresa\"])]\n",
    "Efectivale.to_excel(\n",
    "    \"F:/Reportes SF/Mexico/Efectivale/Efectivale_Base.xlsx\", index=False\n",
    ")"
   ]
  },
  {
   "cell_type": "code",
   "execution_count": null,
   "metadata": {},
   "outputs": [],
   "source": [
    "Ambar = Mexico[(Mexico[\"Campaña\"] == \"Ambar\")]\n",
    "\n",
    "Ambar = Ambar[(Ambar[\"Empleador\"] == Ambar[\"Nombre Empresa\"])]\n",
    "Ambar.to_excel(\"F:/Reportes SF/Mexico/Ambar/Ambar_Base.xlsx\", index=False)"
   ]
  },
  {
   "cell_type": "code",
   "execution_count": null,
   "metadata": {},
   "outputs": [],
   "source": [
    "Charger = Mexico[(Mexico[\"Campaña\"] == \"Charger Logistics\")]\n",
    "\n",
    "Charger = Charger[(Charger[\"Empleador\"] == Charger[\"Nombre Empresa\"])]\n",
    "Charger.to_excel(\n",
    "    \"F:/Reportes SF/Mexico/Charger Logistics/Charger Logistics_Base.xlsx\", index=False\n",
    ")"
   ]
  },
  {
   "cell_type": "code",
   "execution_count": null,
   "metadata": {},
   "outputs": [],
   "source": [
    "Clinica = Mexico[(Mexico[\"Campaña\"] == \"Clínica Virtual\")]\n",
    "\n",
    "Clinica = Clinica[(Clinica[\"Empleador\"] == Clinica[\"Nombre Empresa\"])]\n",
    "Clinica.to_excel(\n",
    "    \"F:/Reportes SF/Mexico/Clinica Virtual/Clinica Virtual_Base.xlsx\", index=False\n",
    ")"
   ]
  },
  {
   "cell_type": "code",
   "execution_count": null,
   "metadata": {},
   "outputs": [],
   "source": [
    "Omg = Mexico[(Mexico[\"Campaña\"] == \"OMG\")]\n",
    "\n",
    "Omg = Omg[(Omg[\"Empleador\"] == Omg[\"Nombre Empresa\"])]\n",
    "Omg.to_excel(\"F:/Reportes SF/Mexico/OMG/OMG_Base.xlsx\", index=False)"
   ]
  },
  {
   "cell_type": "code",
   "execution_count": null,
   "metadata": {},
   "outputs": [],
   "source": [
    "Efisys = Mexico[(Mexico[\"Campaña\"] == \"Efisys\")]\n",
    "\n",
    "Efisys = Efisys[(Efisys[\"Empleador\"] == Efisys[\"Nombre Empresa\"])]\n",
    "Efisys.to_excel(\"F:/Reportes SF/Mexico/Efisys/Efisys_Base.xlsx\", index=False)"
   ]
  },
  {
   "cell_type": "code",
   "execution_count": null,
   "metadata": {},
   "outputs": [],
   "source": [
    "Fadermex = Mexico[(Mexico[\"Campaña\"] == \"Fadermex\")]\n",
    "\n",
    "Fadermex = Fadermex[(Fadermex[\"Empleador\"] == Fadermex[\"Nombre Empresa\"])]\n",
    "Fadermex.to_excel(\"F:/Reportes SF/Mexico/Fadermex/Fadermex_Base.xlsx\", index=False)"
   ]
  },
  {
   "cell_type": "markdown",
   "metadata": {},
   "source": []
  },
  {
   "cell_type": "code",
   "execution_count": null,
   "metadata": {},
   "outputs": [],
   "source": [
    "Farmacias = Mexico[(Mexico[\"Campaña\"] == \"Farmacias YZA\")]\n",
    "\n",
    "Farmacias = Farmacias[(Farmacias[\"Empleador\"] == Farmacias[\"Nombre Empresa\"])]\n",
    "Farmacias.to_excel(\n",
    "    \"F:/Reportes SF/Mexico/Farmacias YZA/Farmacias YZA_Base.xlsx\", index=False\n",
    ")"
   ]
  },
  {
   "cell_type": "code",
   "execution_count": null,
   "metadata": {},
   "outputs": [],
   "source": [
    "Geodis = Mexico[(Mexico[\"Campaña\"] == \"Geodis\")]\n",
    "\n",
    "Geodis = Geodis[(Geodis[\"Empleador\"] == Geodis[\"Nombre Empresa\"])]\n",
    "Geodis.to_excel(\"F:/Reportes SF/Mexico/Geodis/Geodis_Base.xlsx\", index=False)"
   ]
  },
  {
   "cell_type": "code",
   "execution_count": null,
   "metadata": {},
   "outputs": [],
   "source": [
    "Hidrosina = Mexico[(Mexico[\"Campaña\"] == \"Hidrosina\")]\n",
    "\n",
    "Hidrosina = Hidrosina[(Hidrosina[\"Empleador\"] == Hidrosina[\"Nombre Empresa\"])]\n",
    "Hidrosina.to_excel(\"F:/Reportes SF/Mexico/Hidrosina/Hidrosina_Base.xlsx\", index=False)"
   ]
  },
  {
   "cell_type": "code",
   "execution_count": null,
   "metadata": {},
   "outputs": [],
   "source": [
    "Icsi = Mexico[(Mexico[\"Campaña\"] == \"ICSI\")]\n",
    "\n",
    "Icsi = Icsi[(Icsi[\"Empleador\"] == Icsi[\"Nombre Empresa\"])]\n",
    "Icsi.to_excel(\"F:/Reportes SF/Mexico/ICSI/ICSI_Base.xlsx\", index=False)"
   ]
  },
  {
   "cell_type": "code",
   "execution_count": null,
   "metadata": {},
   "outputs": [],
   "source": [
    "Infra = Mexico[(Mexico[\"Campaña\"] == \"Infra\")]\n",
    "\n",
    "Infra = Infra[(Infra[\"Empleador\"] == Infra[\"Nombre Empresa\"])]\n",
    "Infra.to_excel(\"F:/Reportes SF/Mexico/Infra/Infra_Base.xlsx\", index=False)\n",
    "\n",
    "\n",
    "aldo = Mexico[(Mexico[\"Campaña\"] == \"Aldo Conti\")]\n",
    "\n",
    "aldo = aldo[(aldo[\"Empleador\"] == aldo[\"Nombre Empresa\"])]\n",
    "aldo.to_excel(\"F:/Reportes SF/Mexico/Aldo Conti/Aldo_Base.xlsx\", index=False)"
   ]
  },
  {
   "cell_type": "code",
   "execution_count": null,
   "metadata": {},
   "outputs": [],
   "source": [
    "Cursor = Mexico[(Mexico[\"Campaña\"] == \"Mi Cursor\")]\n",
    "\n",
    "Cursor = Cursor[(Cursor[\"Empleador\"] == Cursor[\"Nombre Empresa\"])]\n",
    "Cursor.to_excel(\"F:/Reportes SF/Mexico/Mi Cursor/Mi Cursor_Base.xlsx\", index=False)"
   ]
  },
  {
   "cell_type": "code",
   "execution_count": null,
   "metadata": {},
   "outputs": [],
   "source": [
    "Porter = Mexico[(Mexico[\"Campaña\"] == \"Porter Novelli\")]\n",
    "\n",
    "Porter = Porter[(Porter[\"Empleador\"] == Porter[\"Nombre Empresa\"])]\n",
    "Porter.to_excel(\n",
    "    \"F:/Reportes SF/Mexico/Porter Novelli/Porter Novelli_Base.xlsx\", index=False\n",
    ")"
   ]
  },
  {
   "cell_type": "code",
   "execution_count": null,
   "metadata": {},
   "outputs": [],
   "source": [
    "trans = Mexico[(Mexico[\"Campaña\"] == \"Transcontainer\")]\n",
    "\n",
    "trans = trans[(trans[\"Empleador\"] == trans[\"Nombre Empresa\"])]\n",
    "trans.to_excel(\n",
    "    \"F:/Reportes SF/Mexico/Transcontainer/Transcontainer_Base.xlsx\", index=False\n",
    ")"
   ]
  },
  {
   "cell_type": "code",
   "execution_count": null,
   "metadata": {},
   "outputs": [],
   "source": [
    "Productos = Mexico[(Mexico[\"Campaña\"] == \"Productos San Juan\")]\n",
    "\n",
    "Productos = Productos[(Productos[\"Empleador\"] == Productos[\"Nombre Empresa\"])]\n",
    "Productos.to_excel(\n",
    "    \"F:/Reportes SF/Mexico/Productos San Juan/Productos San Juan_Base.xlsx\", index=False\n",
    ")"
   ]
  },
  {
   "cell_type": "code",
   "execution_count": null,
   "metadata": {},
   "outputs": [],
   "source": [
    "Reckitt = Mexico[(Mexico[\"Campaña\"] == \"Reckitt Benckiser\")]\n",
    "\n",
    "Reckitt = Reckitt[(Reckitt[\"Empleador\"] == Reckitt[\"Nombre Empresa\"])]\n",
    "Reckitt.to_excel(\n",
    "    \"F:/Reportes SF/Mexico/Reckitt Benckiser/Reckitt Benckiser_Base.xlsx\", index=False\n",
    ")"
   ]
  },
  {
   "cell_type": "code",
   "execution_count": null,
   "metadata": {},
   "outputs": [],
   "source": [
    "Sintec = Mexico[(Mexico[\"Campaña\"] == \"Sintec\")]\n",
    "\n",
    "Sintec = Sintec[(Sintec[\"Empleador\"] == Sintec[\"Nombre Empresa\"])]\n",
    "Sintec.to_excel(\"F:/Reportes SF/Mexico/Sintec/Sintec_Base.xlsx\", index=False)"
   ]
  },
  {
   "cell_type": "code",
   "execution_count": null,
   "metadata": {},
   "outputs": [],
   "source": [
    "Ticsa = Mexico[(Mexico[\"Campaña\"] == \"Ticsa\")]\n",
    "\n",
    "Ticsa = Ticsa[(Ticsa[\"Empleador\"] == Ticsa[\"Nombre Empresa\"])]\n",
    "Ticsa.to_excel(\"F:/Reportes SF/Mexico/Ticsa/Ticsa_Base.xlsx\", index=False)"
   ]
  },
  {
   "cell_type": "code",
   "execution_count": null,
   "metadata": {},
   "outputs": [],
   "source": [
    "ddb = Mexico[(Mexico[\"Campaña\"] == \"DDB\")]\n",
    "\n",
    "ddb = ddb[(ddb[\"Empleador\"] == ddb[\"Nombre Empresa\"])]\n",
    "ddb.to_excel(\"F:/Reportes SF/Mexico/ddb/ddb_Base.xlsx\", index=False)"
   ]
  },
  {
   "cell_type": "code",
   "execution_count": null,
   "metadata": {},
   "outputs": [],
   "source": [
    "cyh = Mexico[(Mexico[\"Campaña\"] == \"Grupo C&H\")]\n",
    "\n",
    "cyh = cyh[(cyh[\"Empleador\"] == cyh[\"Nombre Empresa\"])]\n",
    "cyh.to_excel(\"F:/Reportes SF/Mexico/Grupo C&H/Grupo C&H_Base.xlsx\", index=False)"
   ]
  },
  {
   "cell_type": "code",
   "execution_count": null,
   "metadata": {},
   "outputs": [],
   "source": [
    "Metlife = reportes[\n",
    "    (reportes[\"Campaña\"] == \"MetLife\")\n",
    "    & (reportes[\"Empleador\"] == reportes[\"Nombre Empresa\"])\n",
    "]\n",
    "Metlife.to_excel(\"C:/Users/jmartinez/Documents/Metlife_derty.xlsx\", index=False)\n",
    "\n",
    "Security = reportes[\n",
    "    (reportes[\"Campaña\"] == \"Vida Security\")\n",
    "    & (reportes[\"Empleador\"] == reportes[\"Nombre Empresa\"])\n",
    "]\n",
    "Security.to_excel(\"C:/Users/jmartinez/Documents/Vida Security.xlsx\", index=False)\n",
    "\n",
    "# Reportes_con_empresas.Empleador_x.fillna(Reportes_con_empresas['Nombre Empresa'], inplace=True)\n",
    "reportes_francisca = Reportes_con_empresas\n",
    "reportes_francisca.Empleador_x.fillna(\"Nones\", inplace=True)\n",
    "reportes_francisca = reportes_francisca[reportes_francisca[\"Empleador_x\"] == \"Nones\"]\n",
    "archivo = \"SinEmpresas.xlsx\"\n",
    "archivo1 = \"Empresas.xlsx\"\n",
    "\n",
    "fecha = str(datetime.date.today())\n",
    "archivo_con_fecha = f\"{fecha}_{archivo}\"\n",
    "archivo_con_fecha = archivo_con_fecha.replace(\":\", \"_\")\n",
    "archivo_con_fecha = archivo_con_fecha.replace(\"-\", \"_\")\n",
    "archivo_con_fecha = archivo_con_fecha.replace(\" \", \"_\")\n",
    "# archivo_con_fecha = archivo_con_fecha.replace(\".\", \"_\")\n",
    "hasta = Path(\n",
    "    \"E:/Siempre/Usuarios/Francisca Rubio Yáñez/TI/Pacientes Sin Empresas/\"\n",
    ").joinpath(archivo_con_fecha)\n",
    "print(hasta)\n",
    "reportes_francisca.to_excel(hasta, index=False)"
   ]
  },
  {
   "cell_type": "code",
   "execution_count": null,
   "metadata": {},
   "outputs": [],
   "source": [
    "fecha = str(datetime.date.today())\n",
    "archivo_con_fecha = f\"{fecha}_{archivo1}\"\n",
    "archivo_con_fecha = archivo_con_fecha.replace(\":\", \"_\")\n",
    "archivo_con_fecha = archivo_con_fecha.replace(\"-\", \"_\")\n",
    "archivo_con_fecha = archivo_con_fecha.replace(\" \", \"_\")\n",
    "hasta = Path(\"E:/Siempre/Usuarios/Francisca Rubio Yáñez/TI/Empresas/\").joinpath(\n",
    "    archivo_con_fecha\n",
    ")\n",
    "Programas_pacientes.to_excel(hasta, index=False)\n",
    "\n",
    "hasta = Path(\"F:/Empresas SF/empresas/\").joinpath(archivo_con_fecha)\n",
    "Programas_pacientes.to_excel(hasta, index=False)"
   ]
  }
 ],
 "metadata": {
  "kernelspec": {
   "display_name": "salesforce",
   "language": "python",
   "name": "python3"
  },
  "language_info": {
   "codemirror_mode": {
    "name": "ipython",
    "version": 3
   },
   "file_extension": ".py",
   "mimetype": "text/x-python",
   "name": "python",
   "nbconvert_exporter": "python",
   "pygments_lexer": "ipython3",
   "version": "3.8.16"
  },
  "orig_nbformat": 4,
  "vscode": {
   "interpreter": {
    "hash": "7fbccfb583f385d5cd7c75cc6ade03c09354727271e9200f47ca4e7fedb5381e"
   }
  }
 },
 "nbformat": 4,
 "nbformat_minor": 2
}
