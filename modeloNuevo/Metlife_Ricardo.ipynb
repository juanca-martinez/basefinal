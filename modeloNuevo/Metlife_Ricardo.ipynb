{
 "cells": [
  {
   "cell_type": "code",
   "execution_count": 2,
   "metadata": {},
   "outputs": [],
   "source": [
    "from pathlib import Path\n",
    "import requests\n",
    "import pandas as pd\n",
    "import numpy as np\n",
    "from io import StringIO\n",
    "import shutil\n",
    "import datetime\n",
    "from datetime import datetime\n",
    "import re\n",
    "import json\n",
    "from pandas.api.types import is_numeric_dtype\n",
    "from simple_salesforce import Salesforce, format_soql, format_external_id\n",
    "from simple_salesforce.exceptions import SalesforceMalformedRequest\n",
    "import simpler_sf\n",
    "\n",
    "simpler_sf.simple_salesforce()\n",
    "with open(\"../login.json\", \"r\") as j:\n",
    "    misDatos = json.load(j)\n",
    "# para smart query\n",
    "\"\"\" sf = simple_salesforce.Salesforce(\n",
    "    username=misDatos[\"username\"],\n",
    "    password=misDatos[\"password\"],\n",
    "    security_token=misDatos[\"security_token\"],\n",
    ")\n",
    " \"\"\"\n",
    "# para lo demas\n",
    "sf = Salesforce(\n",
    "    username=misDatos[\"username\"],\n",
    "    password=misDatos[\"password\"],\n",
    "    security_token=misDatos[\"security_token\"],\n",
    ")\n",
    "# paramiko.util.log_to_file(\"paramiko.log\")\n",
    "regex = re.compile(r\"([A-Za-z0-9]+[.-_])*[A-Za-z0-9]+@[A-Za-z0-9-]+(\\.[A-Z|a-z]{2,})+\")"
   ]
  },
  {
   "cell_type": "code",
   "execution_count": 7,
   "metadata": {},
   "outputs": [
    {
     "name": "stderr",
     "output_type": "stream",
     "text": [
      "100%|██████████| 1/1 [02:05<00:00, 125.09s/it]\n"
     ]
    }
   ],
   "source": [
    "sql = \"select Id,Empresa__r.P_liza__c, Empresa__r.Name  from EmpresaContactoConvenios__c where Campa_a__c = 'MetLife'\"\n",
    "empresacontactoconvenio = sf.smart_query(sql)"
   ]
  },
  {
   "cell_type": "code",
   "execution_count": 4,
   "metadata": {},
   "outputs": [
    {
     "name": "stderr",
     "output_type": "stream",
     "text": [
      "100%|██████████| 1/1 [00:09<00:00,  9.15s/it]\n"
     ]
    }
   ],
   "source": [
    "query2 = \"select P_liza__c, Nombre_de_Empresa__c,Identificador__c, Rut_Empresa__c, Empresa_Padre__r.Name, Empresa__r.name,Holding__c, Plan__c, Pais__c, Activo__c, Id from Datos_Empresa__c \"\n",
    "empresas = sf.smart_query(query2)"
   ]
  },
  {
   "cell_type": "code",
   "execution_count": 8,
   "metadata": {},
   "outputs": [
    {
     "data": {
      "text/html": [
       "<div>\n",
       "<style scoped>\n",
       "    .dataframe tbody tr th:only-of-type {\n",
       "        vertical-align: middle;\n",
       "    }\n",
       "\n",
       "    .dataframe tbody tr th {\n",
       "        vertical-align: top;\n",
       "    }\n",
       "\n",
       "    .dataframe thead th {\n",
       "        text-align: right;\n",
       "    }\n",
       "</style>\n",
       "<table border=\"1\" class=\"dataframe\">\n",
       "  <thead>\n",
       "    <tr style=\"text-align: right;\">\n",
       "      <th></th>\n",
       "      <th>Id</th>\n",
       "      <th>Empresa__r.P_liza__c</th>\n",
       "      <th>Empresa__r.Name</th>\n",
       "    </tr>\n",
       "  </thead>\n",
       "  <tbody>\n",
       "    <tr>\n",
       "      <th>0</th>\n",
       "      <td>a40RN000001Day6YAC</td>\n",
       "      <td>340023542</td>\n",
       "      <td>Convenio 7343</td>\n",
       "    </tr>\n",
       "    <tr>\n",
       "      <th>1</th>\n",
       "      <td>a40RN000001EGhMYAW</td>\n",
       "      <td>340023542</td>\n",
       "      <td>Convenio 7343</td>\n",
       "    </tr>\n",
       "    <tr>\n",
       "      <th>2</th>\n",
       "      <td>a40RN000001ET0JYAW</td>\n",
       "      <td>340023542</td>\n",
       "      <td>Convenio 7343</td>\n",
       "    </tr>\n",
       "    <tr>\n",
       "      <th>3</th>\n",
       "      <td>a40RN000001EmvvYAC</td>\n",
       "      <td>340023542</td>\n",
       "      <td>Convenio 7343</td>\n",
       "    </tr>\n",
       "    <tr>\n",
       "      <th>4</th>\n",
       "      <td>a40RN000001EtaBYAS</td>\n",
       "      <td>340023542</td>\n",
       "      <td>Convenio 7343</td>\n",
       "    </tr>\n",
       "  </tbody>\n",
       "</table>\n",
       "</div>"
      ],
      "text/plain": [
       "                   Id Empresa__r.P_liza__c Empresa__r.Name\n",
       "0  a40RN000001Day6YAC            340023542   Convenio 7343\n",
       "1  a40RN000001EGhMYAW            340023542   Convenio 7343\n",
       "2  a40RN000001ET0JYAW            340023542   Convenio 7343\n",
       "3  a40RN000001EmvvYAC            340023542   Convenio 7343\n",
       "4  a40RN000001EtaBYAS            340023542   Convenio 7343"
      ]
     },
     "execution_count": 8,
     "metadata": {},
     "output_type": "execute_result"
    }
   ],
   "source": [
    "empresacontactoconvenio.head()"
   ]
  },
  {
   "cell_type": "code",
   "execution_count": 18,
   "metadata": {},
   "outputs": [],
   "source": [
    "df_resume = pd.pivot_table(empresacontactoconvenio,\n",
    "    index=('Empresa__r.P_liza__c','Empresa__r.Name'),\n",
    "    #columns='mes',\n",
    "    values='Id',\n",
    "    aggfunc='count'\n",
    ")"
   ]
  },
  {
   "cell_type": "code",
   "execution_count": 19,
   "metadata": {},
   "outputs": [],
   "source": [
    "df_resume.to_excel(\"F:/Empresas SF/reportes/metlife_ricardo.xlsx\", index=False)\n"
   ]
  },
  {
   "cell_type": "code",
   "execution_count": 20,
   "metadata": {},
   "outputs": [
    {
     "data": {
      "text/html": [
       "<div>\n",
       "<style scoped>\n",
       "    .dataframe tbody tr th:only-of-type {\n",
       "        vertical-align: middle;\n",
       "    }\n",
       "\n",
       "    .dataframe tbody tr th {\n",
       "        vertical-align: top;\n",
       "    }\n",
       "\n",
       "    .dataframe thead th {\n",
       "        text-align: right;\n",
       "    }\n",
       "</style>\n",
       "<table border=\"1\" class=\"dataframe\">\n",
       "  <thead>\n",
       "    <tr style=\"text-align: right;\">\n",
       "      <th></th>\n",
       "      <th></th>\n",
       "      <th>Id</th>\n",
       "    </tr>\n",
       "    <tr>\n",
       "      <th>Empresa__r.P_liza__c</th>\n",
       "      <th>Empresa__r.Name</th>\n",
       "      <th></th>\n",
       "    </tr>\n",
       "  </thead>\n",
       "  <tbody>\n",
       "    <tr>\n",
       "      <th>-</th>\n",
       "      <th>Convenio 7407</th>\n",
       "      <td>9</td>\n",
       "    </tr>\n",
       "    <tr>\n",
       "      <th>330000004</th>\n",
       "      <th>Convenio 5833</th>\n",
       "      <td>6053</td>\n",
       "    </tr>\n",
       "    <tr>\n",
       "      <th>340000508</th>\n",
       "      <th>Convenio 5053</th>\n",
       "      <td>904</td>\n",
       "    </tr>\n",
       "    <tr>\n",
       "      <th>340000577</th>\n",
       "      <th>Convenio 6992</th>\n",
       "      <td>1956</td>\n",
       "    </tr>\n",
       "    <tr>\n",
       "      <th>340000585</th>\n",
       "      <th>Convenio 5057</th>\n",
       "      <td>301</td>\n",
       "    </tr>\n",
       "    <tr>\n",
       "      <th>340000644</th>\n",
       "      <th>Convenio 6035</th>\n",
       "      <td>7304</td>\n",
       "    </tr>\n",
       "    <tr>\n",
       "      <th>340001374</th>\n",
       "      <th>Convenio 8361</th>\n",
       "      <td>740</td>\n",
       "    </tr>\n",
       "    <tr>\n",
       "      <th>340001375</th>\n",
       "      <th>Convenio 8362</th>\n",
       "      <td>27</td>\n",
       "    </tr>\n",
       "    <tr>\n",
       "      <th>340001376</th>\n",
       "      <th>Convenio 6794</th>\n",
       "      <td>1184</td>\n",
       "    </tr>\n",
       "  </tbody>\n",
       "</table>\n",
       "</div>"
      ],
      "text/plain": [
       "                                        Id\n",
       "Empresa__r.P_liza__c Empresa__r.Name      \n",
       "-                    Convenio 7407       9\n",
       "330000004            Convenio 5833    6053\n",
       "340000508            Convenio 5053     904\n",
       "340000577            Convenio 6992    1956\n",
       "340000585            Convenio 5057     301\n",
       "340000644            Convenio 6035    7304\n",
       "340001374            Convenio 8361     740\n",
       "340001375            Convenio 8362      27\n",
       "340001376            Convenio 6794    1184"
      ]
     },
     "execution_count": 20,
     "metadata": {},
     "output_type": "execute_result"
    }
   ],
   "source": [
    "df_resume.head(9)"
   ]
  },
  {
   "cell_type": "code",
   "execution_count": 21,
   "metadata": {},
   "outputs": [
    {
     "data": {
      "text/plain": [
       "(2862, 1)"
      ]
     },
     "execution_count": 21,
     "metadata": {},
     "output_type": "execute_result"
    }
   ],
   "source": [
    "df_resume.shape"
   ]
  }
 ],
 "metadata": {
  "kernelspec": {
   "display_name": "salesforce",
   "language": "python",
   "name": "python3"
  },
  "language_info": {
   "codemirror_mode": {
    "name": "ipython",
    "version": 3
   },
   "file_extension": ".py",
   "mimetype": "text/x-python",
   "name": "python",
   "nbconvert_exporter": "python",
   "pygments_lexer": "ipython3",
   "version": "3.8.16"
  }
 },
 "nbformat": 4,
 "nbformat_minor": 2
}
