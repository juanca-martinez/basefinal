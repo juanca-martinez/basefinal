{
 "cells": [
  {
   "cell_type": "code",
   "execution_count": 1,
   "metadata": {},
   "outputs": [],
   "source": [
    "from pathlib import Path\n",
    "import requests\n",
    "import pandas as pd\n",
    "import numpy as np\n",
    "from io import StringIO\n",
    "import shutil\n",
    "import datetime\n",
    "from datetime import datetime\n",
    "import re\n",
    "import json\n",
    "from pandas.api.types import is_numeric_dtype\n",
    "from simple_salesforce import Salesforce, format_soql, format_external_id\n",
    "from simple_salesforce.exceptions import SalesforceMalformedRequest\n",
    "import simpler_sf\n",
    "\n",
    "simpler_sf.simple_salesforce()"
   ]
  },
  {
   "cell_type": "code",
   "execution_count": 2,
   "metadata": {},
   "outputs": [],
   "source": [
    "with open(\"../login.json\", \"r\") as j:\n",
    "    misDatos = json.load(j)"
   ]
  },
  {
   "cell_type": "code",
   "execution_count": 3,
   "metadata": {},
   "outputs": [],
   "source": [
    "sf = Salesforce(\n",
    "    username=misDatos[\"username\"],\n",
    "    password=misDatos[\"password\"],\n",
    "    security_token=misDatos[\"security_token\"],\n",
    ")"
   ]
  },
  {
   "cell_type": "code",
   "execution_count": null,
   "metadata": {},
   "outputs": [],
   "source": [
    "\n",
    "    \"SELECT Id FROM HealthCloudGA__Program__c WHERE Nombre_Personalizado__c  '3° Básico Matemáticas' AND Paciente__c = '0018c00002anTmeAAE' LIMIT 1\"\n"
   ]
  },
  {
   "cell_type": "code",
   "execution_count": 12,
   "metadata": {},
   "outputs": [
    {
     "name": "stderr",
     "output_type": "stream",
     "text": [
      "100%|██████████| 1/1 [00:02<00:00,  2.42s/it]\n"
     ]
    }
   ],
   "source": [
    "nombrePersonalizado = \"3° Básico Matemáticas\"\n",
    "pacienteId = \"0018c00002anTmeAAE\"\n",
    "queryPrograma = (\n",
    "    \"SELECT Id FROM HealthCloudGA__Program__c WHERE Nombre_Personalizado__c  = '\"\n",
    "    + nombrePersonalizado\n",
    "    + \"' AND Paciente__c = '\"\n",
    "    + pacienteId\n",
    "    + \"' LIMIT 1\"\n",
    ")\n",
    "vllamadaEmpresa = sf.smart_query(queryPrograma)\n",
    "# vllamadaEmpresa.head()"
   ]
  },
  {
   "cell_type": "code",
   "execution_count": 13,
   "metadata": {},
   "outputs": [
    {
     "data": {
      "text/html": [
       "<div>\n",
       "<style scoped>\n",
       "    .dataframe tbody tr th:only-of-type {\n",
       "        vertical-align: middle;\n",
       "    }\n",
       "\n",
       "    .dataframe tbody tr th {\n",
       "        vertical-align: top;\n",
       "    }\n",
       "\n",
       "    .dataframe thead th {\n",
       "        text-align: right;\n",
       "    }\n",
       "</style>\n",
       "<table border=\"1\" class=\"dataframe\">\n",
       "  <thead>\n",
       "    <tr style=\"text-align: right;\">\n",
       "      <th></th>\n",
       "      <th>Id</th>\n",
       "    </tr>\n",
       "  </thead>\n",
       "  <tbody>\n",
       "  </tbody>\n",
       "</table>\n",
       "</div>"
      ],
      "text/plain": [
       "Empty DataFrame\n",
       "Columns: [Id]\n",
       "Index: []"
      ]
     },
     "execution_count": 13,
     "metadata": {},
     "output_type": "execute_result"
    }
   ],
   "source": [
    "vllamadaEmpresa.head()"
   ]
  },
  {
   "cell_type": "code",
   "execution_count": 5,
   "metadata": {},
   "outputs": [
    {
     "ename": "IndexError",
     "evalue": "index 0 is out of bounds for axis 0 with size 0",
     "output_type": "error",
     "traceback": [
      "\u001b[1;31m---------------------------------------------------------------------------\u001b[0m",
      "\u001b[1;31mIndexError\u001b[0m                                Traceback (most recent call last)",
      "Cell \u001b[1;32mIn[5], line 2\u001b[0m\n\u001b[0;32m      1\u001b[0m queryPrograma \u001b[38;5;241m=\u001b[39m (\n\u001b[1;32m----> 2\u001b[0m     \u001b[38;5;124m\"\u001b[39m\u001b[38;5;124mSELECT Id FROM case WHERE Program__c = \u001b[39m\u001b[38;5;124m'\u001b[39m\u001b[38;5;124m\"\u001b[39m \u001b[38;5;241m+\u001b[39m \u001b[43mvllamadaEmpresa\u001b[49m\u001b[43m[\u001b[49m\u001b[38;5;124;43m\"\u001b[39;49m\u001b[38;5;124;43mId\u001b[39;49m\u001b[38;5;124;43m\"\u001b[39;49m\u001b[43m]\u001b[49m\u001b[43m[\u001b[49m\u001b[38;5;241;43m0\u001b[39;49m\u001b[43m]\u001b[49m \u001b[38;5;241m+\u001b[39m \u001b[38;5;124m\"\u001b[39m\u001b[38;5;124m'\u001b[39m\u001b[38;5;124m\"\u001b[39m\n\u001b[0;32m      3\u001b[0m )\n\u001b[0;32m      4\u001b[0m vllamadaEmpresa \u001b[38;5;241m=\u001b[39m sf\u001b[38;5;241m.\u001b[39msmart_query(queryPrograma)\n\u001b[0;32m      5\u001b[0m vllamadaEmpresa\u001b[38;5;241m.\u001b[39mhead()\n",
      "File \u001b[1;32mc:\\Users\\jmartinez\\.conda\\envs\\salesforce\\lib\\site-packages\\pandas\\core\\series.py:978\u001b[0m, in \u001b[0;36mSeries.__getitem__\u001b[1;34m(self, key)\u001b[0m\n\u001b[0;32m    975\u001b[0m     key \u001b[38;5;241m=\u001b[39m unpack_1tuple(key)\n\u001b[0;32m    977\u001b[0m \u001b[38;5;28;01mif\u001b[39;00m is_integer(key) \u001b[38;5;129;01mand\u001b[39;00m \u001b[38;5;28mself\u001b[39m\u001b[38;5;241m.\u001b[39mindex\u001b[38;5;241m.\u001b[39m_should_fallback_to_positional:\n\u001b[1;32m--> 978\u001b[0m     \u001b[38;5;28;01mreturn\u001b[39;00m \u001b[38;5;28;43mself\u001b[39;49m\u001b[38;5;241;43m.\u001b[39;49m\u001b[43m_values\u001b[49m\u001b[43m[\u001b[49m\u001b[43mkey\u001b[49m\u001b[43m]\u001b[49m\n\u001b[0;32m    980\u001b[0m \u001b[38;5;28;01melif\u001b[39;00m key_is_scalar:\n\u001b[0;32m    981\u001b[0m     \u001b[38;5;28;01mreturn\u001b[39;00m \u001b[38;5;28mself\u001b[39m\u001b[38;5;241m.\u001b[39m_get_value(key)\n",
      "\u001b[1;31mIndexError\u001b[0m: index 0 is out of bounds for axis 0 with size 0"
     ]
    }
   ],
   "source": [
    "queryPrograma = (\n",
    "    \"SELECT Id FROM case WHERE Program__c = '\" + vllamadaEmpresa[\"Id\"][0] + \"'\"\n",
    ")\n",
    "vllamadaEmpresa = sf.smart_query(queryPrograma)\n",
    "vllamadaEmpresa.head()\n",
    "cntdCase = len(vllamadaEmpresa.index)\n",
    "# print (len(vllamadaEmpresa.index))"
   ]
  },
  {
   "cell_type": "code",
   "execution_count": 7,
   "metadata": {},
   "outputs": [
    {
     "name": "stdout",
     "output_type": "stream",
     "text": [
      "2\n"
     ]
    }
   ],
   "source": [
    "print(len(vllamadaEmpresa.index))"
   ]
  },
  {
   "cell_type": "code",
   "execution_count": 8,
   "metadata": {},
   "outputs": [
    {
     "data": {
      "text/html": [
       "<div>\n",
       "<style scoped>\n",
       "    .dataframe tbody tr th:only-of-type {\n",
       "        vertical-align: middle;\n",
       "    }\n",
       "\n",
       "    .dataframe tbody tr th {\n",
       "        vertical-align: top;\n",
       "    }\n",
       "\n",
       "    .dataframe thead th {\n",
       "        text-align: right;\n",
       "    }\n",
       "</style>\n",
       "<table border=\"1\" class=\"dataframe\">\n",
       "  <thead>\n",
       "    <tr style=\"text-align: right;\">\n",
       "      <th></th>\n",
       "      <th>Id</th>\n",
       "    </tr>\n",
       "  </thead>\n",
       "  <tbody>\n",
       "    <tr>\n",
       "      <th>0</th>\n",
       "      <td>500RN000005VKNlYAO</td>\n",
       "    </tr>\n",
       "    <tr>\n",
       "      <th>1</th>\n",
       "      <td>500RN000005VKNmYAO</td>\n",
       "    </tr>\n",
       "  </tbody>\n",
       "</table>\n",
       "</div>"
      ],
      "text/plain": [
       "                   Id\n",
       "0  500RN000005VKNlYAO\n",
       "1  500RN000005VKNmYAO"
      ]
     },
     "execution_count": 8,
     "metadata": {},
     "output_type": "execute_result"
    }
   ],
   "source": [
    "vllamadaEmpresa"
   ]
  },
  {
   "cell_type": "code",
   "execution_count": 9,
   "metadata": {},
   "outputs": [],
   "source": [
    "# idGoal2 = pd.DataFrame()\n",
    "def traerGoal(iD):\n",
    "    idGoalDF = pd.DataFrame()\n",
    "    # idGoalTotal = pd.DataFrame()\n",
    "    idCase = iD\n",
    "    queryGoal = (\n",
    "        \"SELECT Id FROM HealthCloudGA__CarePlanGoal__c WHERE Etapa__c = '\"\n",
    "        + idCase\n",
    "        + \"'\"\n",
    "    )\n",
    "    idGoalDF = sf.smart_query(queryGoal)\n",
    "    # print (len(idGoalDF.index))\n",
    "    # print (idGoalDF)\n",
    "    return idGoalDF"
   ]
  },
  {
   "cell_type": "code",
   "execution_count": 11,
   "metadata": {},
   "outputs": [
    {
     "name": "stderr",
     "output_type": "stream",
     "text": [
      "100%|██████████| 1/1 [00:02<00:00,  2.87s/it]\n",
      "100%|██████████| 1/1 [00:02<00:00,  2.58s/it]\n"
     ]
    }
   ],
   "source": [
    "idGoal2 = pd.DataFrame()  # Declare idGoal2 as a global variable\n",
    "derty = pd.DataFrame()\n",
    "\n",
    "# idGoal2 = vllamadaEmpresa[\"Id\"].apply(lambda y: traerGoal(y))\n",
    "for registros in range(cntdCase):\n",
    "    idGoal2 = traerGoal(vllamadaEmpresa[\"Id\"][registros])\n",
    "    derty = pd.concat([derty, idGoal2], axis=0)\n",
    "cntdGoal = len(derty.index)\n",
    "# derty.head(10)"
   ]
  },
  {
   "cell_type": "code",
   "execution_count": 12,
   "metadata": {},
   "outputs": [],
   "source": [
    "def traerActividad(iD):\n",
    "    idGoalDF = pd.DataFrame()\n",
    "    # idGoalTotal = pd.DataFrame()\n",
    "    idCase = iD\n",
    "    queryGoal = \"SELECT Id FROM Actividad_Programa__c WHERE Goal__c = '\" + idCase + \"'\"\n",
    "    idGoalDF = sf.smart_query(queryGoal)\n",
    "    # print (len(idGoalDF.index))\n",
    "    # print (idGoalDF)\n",
    "    return idGoalDF"
   ]
  },
  {
   "cell_type": "code",
   "execution_count": 13,
   "metadata": {},
   "outputs": [
    {
     "data": {
      "text/plain": [
       "'a0HRN0000013AVJ2A2'"
      ]
     },
     "execution_count": 13,
     "metadata": {},
     "output_type": "execute_result"
    }
   ],
   "source": [
    "derty.reset_index(drop=True, inplace=True)\n",
    "derty[\"Id\"][0]"
   ]
  },
  {
   "cell_type": "code",
   "execution_count": 14,
   "metadata": {},
   "outputs": [
    {
     "name": "stderr",
     "output_type": "stream",
     "text": [
      "100%|██████████| 1/1 [00:02<00:00,  2.24s/it]\n",
      "100%|██████████| 1/1 [00:02<00:00,  2.02s/it]\n",
      "100%|██████████| 1/1 [00:02<00:00,  2.95s/it]\n",
      "100%|██████████| 1/1 [00:02<00:00,  2.26s/it]\n",
      "100%|██████████| 1/1 [00:02<00:00,  2.25s/it]\n",
      "100%|██████████| 1/1 [00:08<00:00,  8.32s/it]\n",
      "100%|██████████| 1/1 [00:03<00:00,  3.22s/it]\n"
     ]
    },
    {
     "data": {
      "text/html": [
       "<div>\n",
       "<style scoped>\n",
       "    .dataframe tbody tr th:only-of-type {\n",
       "        vertical-align: middle;\n",
       "    }\n",
       "\n",
       "    .dataframe tbody tr th {\n",
       "        vertical-align: top;\n",
       "    }\n",
       "\n",
       "    .dataframe thead th {\n",
       "        text-align: right;\n",
       "    }\n",
       "</style>\n",
       "<table border=\"1\" class=\"dataframe\">\n",
       "  <thead>\n",
       "    <tr style=\"text-align: right;\">\n",
       "      <th></th>\n",
       "      <th>Id</th>\n",
       "    </tr>\n",
       "  </thead>\n",
       "  <tbody>\n",
       "    <tr>\n",
       "      <th>0</th>\n",
       "      <td>a43RN0000001EnJYAU</td>\n",
       "    </tr>\n",
       "    <tr>\n",
       "      <th>1</th>\n",
       "      <td>a43RN0000001EnKYAU</td>\n",
       "    </tr>\n",
       "    <tr>\n",
       "      <th>0</th>\n",
       "      <td>a43RN0000001EnLYAU</td>\n",
       "    </tr>\n",
       "    <tr>\n",
       "      <th>1</th>\n",
       "      <td>a43RN0000001EnMYAU</td>\n",
       "    </tr>\n",
       "    <tr>\n",
       "      <th>2</th>\n",
       "      <td>a43RN0000001EnNYAU</td>\n",
       "    </tr>\n",
       "    <tr>\n",
       "      <th>3</th>\n",
       "      <td>a43RN0000001EnOYAU</td>\n",
       "    </tr>\n",
       "    <tr>\n",
       "      <th>4</th>\n",
       "      <td>a43RN0000001EnPYAU</td>\n",
       "    </tr>\n",
       "    <tr>\n",
       "      <th>5</th>\n",
       "      <td>a43RN0000001EnQYAU</td>\n",
       "    </tr>\n",
       "    <tr>\n",
       "      <th>6</th>\n",
       "      <td>a43RN0000001EnRYAU</td>\n",
       "    </tr>\n",
       "    <tr>\n",
       "      <th>7</th>\n",
       "      <td>a43RN0000001EnSYAU</td>\n",
       "    </tr>\n",
       "  </tbody>\n",
       "</table>\n",
       "</div>"
      ],
      "text/plain": [
       "                   Id\n",
       "0  a43RN0000001EnJYAU\n",
       "1  a43RN0000001EnKYAU\n",
       "0  a43RN0000001EnLYAU\n",
       "1  a43RN0000001EnMYAU\n",
       "2  a43RN0000001EnNYAU\n",
       "3  a43RN0000001EnOYAU\n",
       "4  a43RN0000001EnPYAU\n",
       "5  a43RN0000001EnQYAU\n",
       "6  a43RN0000001EnRYAU\n",
       "7  a43RN0000001EnSYAU"
      ]
     },
     "execution_count": 14,
     "metadata": {},
     "output_type": "execute_result"
    }
   ],
   "source": [
    "dfActividad = pd.DataFrame()  # Declare idGoal2 as a global variable\n",
    "dertyActividad = pd.DataFrame()\n",
    "\n",
    "# idGoal2 = vllamadaEmpresa[\"Id\"].apply(lambda y: traerGoal(y))\n",
    "for registros in range(cntdGoal):\n",
    "    dfActividad = traerActividad(derty[\"Id\"][registros])\n",
    "    dertyActividad = pd.concat([dertyActividad, dfActividad], axis=0)\n",
    "# cntdGoal = len(derty.index)\n",
    "dertyActividad.head(10)"
   ]
  },
  {
   "cell_type": "code",
   "execution_count": 15,
   "metadata": {},
   "outputs": [
    {
     "data": {
      "text/html": [
       "<div>\n",
       "<style scoped>\n",
       "    .dataframe tbody tr th:only-of-type {\n",
       "        vertical-align: middle;\n",
       "    }\n",
       "\n",
       "    .dataframe tbody tr th {\n",
       "        vertical-align: top;\n",
       "    }\n",
       "\n",
       "    .dataframe thead th {\n",
       "        text-align: right;\n",
       "    }\n",
       "</style>\n",
       "<table border=\"1\" class=\"dataframe\">\n",
       "  <thead>\n",
       "    <tr style=\"text-align: right;\">\n",
       "      <th></th>\n",
       "      <th>Id</th>\n",
       "    </tr>\n",
       "  </thead>\n",
       "  <tbody>\n",
       "    <tr>\n",
       "      <th>0</th>\n",
       "      <td>a43RN0000001EnJYAU</td>\n",
       "    </tr>\n",
       "    <tr>\n",
       "      <th>1</th>\n",
       "      <td>a43RN0000001EnKYAU</td>\n",
       "    </tr>\n",
       "    <tr>\n",
       "      <th>2</th>\n",
       "      <td>a43RN0000001EnLYAU</td>\n",
       "    </tr>\n",
       "    <tr>\n",
       "      <th>3</th>\n",
       "      <td>a43RN0000001EnMYAU</td>\n",
       "    </tr>\n",
       "    <tr>\n",
       "      <th>4</th>\n",
       "      <td>a43RN0000001EnNYAU</td>\n",
       "    </tr>\n",
       "  </tbody>\n",
       "</table>\n",
       "</div>"
      ],
      "text/plain": [
       "                   Id\n",
       "0  a43RN0000001EnJYAU\n",
       "1  a43RN0000001EnKYAU\n",
       "2  a43RN0000001EnLYAU\n",
       "3  a43RN0000001EnMYAU\n",
       "4  a43RN0000001EnNYAU"
      ]
     },
     "execution_count": 15,
     "metadata": {},
     "output_type": "execute_result"
    }
   ],
   "source": [
    "dertyActividad.reset_index(drop=True, inplace=True)\n",
    "dertyActividad[\"Id\"][0]\n",
    "dertyActividad.head()"
   ]
  },
  {
   "cell_type": "code",
   "execution_count": 16,
   "metadata": {},
   "outputs": [],
   "source": [
    "def GoalCompleto(iD):\n",
    "    idGoalDF = pd.DataFrame()\n",
    "    # idGoalTotal = pd.DataFrame()\n",
    "    idCase = iD\n",
    "    queryGoal = \"SELECT FIELDS(ALL) FROM case WHERE Id = '\" + idCase + \"'\"\n",
    "    idGoalDF = sf.smart_query(queryGoal)\n",
    "    # print (len(idGoalDF.index))\n",
    "    # print (idGoalDF)\n",
    "    return idGoalDF"
   ]
  },
  {
   "cell_type": "code",
   "execution_count": 17,
   "metadata": {},
   "outputs": [
    {
     "name": "stderr",
     "output_type": "stream",
     "text": [
      "100%|██████████| 1/1 [00:03<00:00,  3.19s/it]\n",
      "100%|██████████| 1/1 [00:02<00:00,  2.66s/it]\n"
     ]
    }
   ],
   "source": [
    "goalDF = pd.DataFrame()\n",
    "goalTotalDF = pd.DataFrame()\n",
    "for registros in range(len(vllamadaEmpresa.index)):\n",
    "    goalDF = GoalCompleto(vllamadaEmpresa[\"Id\"][registros])\n",
    "    goalTotalDF = pd.concat([goalTotalDF, goalDF], axis=0)\n",
    "# cntdGoal = len(derty.index)"
   ]
  },
  {
   "cell_type": "code",
   "execution_count": 18,
   "metadata": {},
   "outputs": [
    {
     "data": {
      "text/plain": [
       "OrderedDict([('attributes',\n",
       "              OrderedDict([('type', 'Actividad_Programa__c'),\n",
       "                           ('url',\n",
       "                            '/services/data/v42.0/sobjects/Actividad_Programa__c/a43RN0000001EnOYAU')])),\n",
       "             ('Id', 'a43RN0000001EnOYAU'),\n",
       "             ('IsDeleted', False),\n",
       "             ('Name', 'A-0000000132'),\n",
       "             ('CreatedDate', '2024-01-23T19:33:45.000+0000'),\n",
       "             ('CreatedById', '0058c00000DSxZmAAL'),\n",
       "             ('LastModifiedDate', '2024-01-23T19:33:46.000+0000'),\n",
       "             ('LastModifiedById', '0058c00000DSxZmAAL'),\n",
       "             ('SystemModstamp', '2024-01-23T19:33:46.000+0000'),\n",
       "             ('LastActivityDate', None),\n",
       "             ('LastViewedDate', '2024-01-24T20:38:31.000+0000'),\n",
       "             ('LastReferencedDate', '2024-01-24T20:38:31.000+0000'),\n",
       "             ('Goal__c', 'a0HRN0000013AVK2A2'),\n",
       "             ('Archivo_o_imagen__c', None),\n",
       "             ('Calcular_puntos_flow__c', False),\n",
       "             ('Descripcion_Corta__c', 'La cantidad recomendada es:'),\n",
       "             ('Estado__c', 'No iniciada'),\n",
       "             ('Favorita__c', False),\n",
       "             ('Favorito_App__c', False),\n",
       "             ('Forma_de_ingesta__c', None),\n",
       "             ('Horario__c', None),\n",
       "             ('Id_Actividad_Concatenada_Template__c', 'a0LRN000001csrm2AA'),\n",
       "             ('Informacion_adicional__c', None),\n",
       "             ('Instrucciones__c', None),\n",
       "             ('Nombre__c', 'Lácteos'),\n",
       "             ('Puntos_de_la_Actividad__c', 5.0),\n",
       "             ('Repeticion_Tiempo__c', None),\n",
       "             ('Revisar_por_el_profesional__c', True),\n",
       "             ('Series__c', None),\n",
       "             ('Total_Task_Com_Template__c', 2.0),\n",
       "             ('Total_Task_Completion__c', None),\n",
       "             ('Id_Actividad_Concatenada_Enrolamiento__c', None),\n",
       "             ('Id_Actividad_Concatenada__c', None),\n",
       "             ('Actividad_Invisible__c', False),\n",
       "             ('Descripcion_Larga__c',\n",
       "              'Completa la cantidad de lácteos consumidas durante el día.\\n\\nEste paso es crucial para seguir tu progreso y ajustar tu plan según tus necesidades.'),\n",
       "             ('Mostrar_Si_Es_Un_Solo_Registro__c', False),\n",
       "             ('Nombre_Personalizado__c', 'Lácteos')])"
      ]
     },
     "execution_count": 18,
     "metadata": {},
     "output_type": "execute_result"
    }
   ],
   "source": [
    "contact = sf.Actividad_Programa__c.get(\"a43RN0000001EnOYAU\")\n",
    "contact"
   ]
  },
  {
   "cell_type": "code",
   "execution_count": 19,
   "metadata": {},
   "outputs": [
    {
     "data": {
      "text/plain": [
       "'2024-01-24T20:38:31.000+0000'"
      ]
     },
     "execution_count": 19,
     "metadata": {},
     "output_type": "execute_result"
    }
   ],
   "source": [
    "contact[\"LastReferencedDate\"]"
   ]
  }
 ],
 "metadata": {
  "kernelspec": {
   "display_name": "salesforce",
   "language": "python",
   "name": "python3"
  },
  "language_info": {
   "codemirror_mode": {
    "name": "ipython",
    "version": 3
   },
   "file_extension": ".py",
   "mimetype": "text/x-python",
   "name": "python",
   "nbconvert_exporter": "python",
   "pygments_lexer": "ipython3",
   "version": "3.8.16"
  }
 },
 "nbformat": 4,
 "nbformat_minor": 2
}
