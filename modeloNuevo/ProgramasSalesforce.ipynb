{
 "cells": [
  {
   "cell_type": "code",
   "execution_count": 126,
   "metadata": {},
   "outputs": [],
   "source": [
    "from pathlib import Path\n",
    "import requests\n",
    "import pandas as pd\n",
    "import numpy as np\n",
    "from io import StringIO\n",
    "import shutil\n",
    "import datetime\n",
    "from datetime import datetime\n",
    "import re\n",
    "import json\n",
    "from pandas.api.types import is_numeric_dtype\n",
    "from simple_salesforce import Salesforce, format_soql, format_external_id\n",
    "from simple_salesforce.exceptions import SalesforceMalformedRequest\n",
    "import simpler_sf\n",
    "\n",
    "simpler_sf.simple_salesforce()"
   ]
  },
  {
   "cell_type": "code",
   "execution_count": 127,
   "metadata": {},
   "outputs": [],
   "source": [
    "with open(\"../login.json\", \"r\") as j:\n",
    "    misDatos = json.load(j)"
   ]
  },
  {
   "cell_type": "code",
   "execution_count": 128,
   "metadata": {},
   "outputs": [],
   "source": [
    "sf = Salesforce(\n",
    "    username=misDatos[\"username\"],\n",
    "    password=misDatos[\"password\"],\n",
    "    security_token=misDatos[\"security_token\"],\n",
    ")"
   ]
  },
  {
   "cell_type": "code",
   "execution_count": 129,
   "metadata": {},
   "outputs": [
    {
     "name": "stderr",
     "output_type": "stream",
     "text": [
      "100%|██████████| 1/1 [00:03<00:00,  3.05s/it]\n"
     ]
    }
   ],
   "source": [
    "nombrePersonalizado = \"Programa Nutricional\"\n",
    "pacienteId = \"0018c00002anTmeAAE\"\n",
    "queryPrograma = \"SELECT Id FROM HealthCloudGA__Program__c WHERE Name = '\" + nombrePersonalizado + \"' AND Paciente__c = '\" + pacienteId + \"' LIMIT 1\" \n",
    "vllamadaEmpresa = sf.smart_query(queryPrograma)\n",
    "#vllamadaEmpresa.head()"
   ]
  },
  {
   "cell_type": "code",
   "execution_count": null,
   "metadata": {},
   "outputs": [],
   "source": []
  },
  {
   "cell_type": "code",
   "execution_count": 130,
   "metadata": {},
   "outputs": [
    {
     "name": "stderr",
     "output_type": "stream",
     "text": [
      "100%|██████████| 1/1 [00:02<00:00,  2.99s/it]\n"
     ]
    }
   ],
   "source": [
    "\n",
    "queryPrograma = \"SELECT Id FROM case WHERE Program__c = '\" + vllamadaEmpresa[\"Id\"][0] + \"'\"\n",
    "vllamadaEmpresa = sf.smart_query(queryPrograma)\n",
    "vllamadaEmpresa.head()\n",
    "cntdCase = len(vllamadaEmpresa.index)\n",
    "#print (len(vllamadaEmpresa.index))"
   ]
  },
  {
   "cell_type": "code",
   "execution_count": 131,
   "metadata": {},
   "outputs": [],
   "source": [
    "#idGoal2 = pd.DataFrame()\n",
    "def traerGoal(iD):\n",
    "    idGoalDF = pd.DataFrame()\n",
    "    #idGoalTotal = pd.DataFrame()\n",
    "    idCase = iD\n",
    "    queryGoal = \"SELECT Id FROM HealthCloudGA__CarePlanGoal__c WHERE Etapa__c = '\" + idCase + \"'\"\n",
    "    idGoalDF = sf.smart_query(queryGoal)\n",
    "    #print (len(idGoalDF.index))\n",
    "    #print (idGoalDF)\n",
    "    return idGoalDF"
   ]
  },
  {
   "cell_type": "code",
   "execution_count": 132,
   "metadata": {},
   "outputs": [
    {
     "name": "stderr",
     "output_type": "stream",
     "text": [
      "100%|██████████| 1/1 [00:07<00:00,  7.66s/it]\n",
      "100%|██████████| 1/1 [00:02<00:00,  2.52s/it]\n"
     ]
    }
   ],
   "source": [
    "idGoal2 = pd.DataFrame()  # Declare idGoal2 as a global variable\n",
    "derty = pd.DataFrame()\n",
    "\n",
    "#idGoal2 = vllamadaEmpresa[\"Id\"].apply(lambda y: traerGoal(y))\n",
    "for registros in range(cntdCase):\n",
    "    idGoal2= traerGoal(vllamadaEmpresa[\"Id\"][registros])\n",
    "    derty = pd.concat([derty, idGoal2], axis=0)\n",
    "cntdGoal = len(derty.index)\n",
    "#derty.head(10)"
   ]
  },
  {
   "cell_type": "code",
   "execution_count": 133,
   "metadata": {},
   "outputs": [],
   "source": [
    "def traerActividad(iD):\n",
    "    idGoalDF = pd.DataFrame()\n",
    "    #idGoalTotal = pd.DataFrame()\n",
    "    idCase = iD\n",
    "    queryGoal = \"SELECT Id FROM Actividad_Programa__c WHERE Goal__c = '\" + idCase + \"'\"\n",
    "    idGoalDF = sf.smart_query(queryGoal)\n",
    "    #print (len(idGoalDF.index))\n",
    "    #print (idGoalDF)\n",
    "    return idGoalDF"
   ]
  },
  {
   "cell_type": "code",
   "execution_count": 134,
   "metadata": {},
   "outputs": [
    {
     "data": {
      "text/plain": [
       "'a0HRN0000013AVJ2A2'"
      ]
     },
     "execution_count": 134,
     "metadata": {},
     "output_type": "execute_result"
    }
   ],
   "source": [
    "derty.reset_index(drop=True, inplace=True)\n",
    "derty[\"Id\"][0]"
   ]
  },
  {
   "cell_type": "code",
   "execution_count": 135,
   "metadata": {},
   "outputs": [
    {
     "name": "stderr",
     "output_type": "stream",
     "text": [
      "100%|██████████| 1/1 [00:08<00:00,  8.62s/it]\n",
      "100%|██████████| 1/1 [00:03<00:00,  3.19s/it]\n",
      "100%|██████████| 1/1 [00:02<00:00,  2.55s/it]\n",
      "100%|██████████| 1/1 [00:02<00:00,  2.41s/it]\n",
      "100%|██████████| 1/1 [00:02<00:00,  2.07s/it]\n",
      "100%|██████████| 1/1 [00:02<00:00,  2.51s/it]\n",
      "100%|██████████| 1/1 [00:02<00:00,  2.42s/it]\n"
     ]
    },
    {
     "data": {
      "text/html": [
       "<div>\n",
       "<style scoped>\n",
       "    .dataframe tbody tr th:only-of-type {\n",
       "        vertical-align: middle;\n",
       "    }\n",
       "\n",
       "    .dataframe tbody tr th {\n",
       "        vertical-align: top;\n",
       "    }\n",
       "\n",
       "    .dataframe thead th {\n",
       "        text-align: right;\n",
       "    }\n",
       "</style>\n",
       "<table border=\"1\" class=\"dataframe\">\n",
       "  <thead>\n",
       "    <tr style=\"text-align: right;\">\n",
       "      <th></th>\n",
       "      <th>Id</th>\n",
       "    </tr>\n",
       "  </thead>\n",
       "  <tbody>\n",
       "    <tr>\n",
       "      <th>0</th>\n",
       "      <td>a43RN0000001EnJYAU</td>\n",
       "    </tr>\n",
       "    <tr>\n",
       "      <th>1</th>\n",
       "      <td>a43RN0000001EnKYAU</td>\n",
       "    </tr>\n",
       "    <tr>\n",
       "      <th>0</th>\n",
       "      <td>a43RN0000001EnLYAU</td>\n",
       "    </tr>\n",
       "    <tr>\n",
       "      <th>1</th>\n",
       "      <td>a43RN0000001EnMYAU</td>\n",
       "    </tr>\n",
       "    <tr>\n",
       "      <th>2</th>\n",
       "      <td>a43RN0000001EnNYAU</td>\n",
       "    </tr>\n",
       "    <tr>\n",
       "      <th>3</th>\n",
       "      <td>a43RN0000001EnOYAU</td>\n",
       "    </tr>\n",
       "    <tr>\n",
       "      <th>4</th>\n",
       "      <td>a43RN0000001EnPYAU</td>\n",
       "    </tr>\n",
       "    <tr>\n",
       "      <th>5</th>\n",
       "      <td>a43RN0000001EnQYAU</td>\n",
       "    </tr>\n",
       "    <tr>\n",
       "      <th>6</th>\n",
       "      <td>a43RN0000001EnRYAU</td>\n",
       "    </tr>\n",
       "    <tr>\n",
       "      <th>7</th>\n",
       "      <td>a43RN0000001EnSYAU</td>\n",
       "    </tr>\n",
       "  </tbody>\n",
       "</table>\n",
       "</div>"
      ],
      "text/plain": [
       "                   Id\n",
       "0  a43RN0000001EnJYAU\n",
       "1  a43RN0000001EnKYAU\n",
       "0  a43RN0000001EnLYAU\n",
       "1  a43RN0000001EnMYAU\n",
       "2  a43RN0000001EnNYAU\n",
       "3  a43RN0000001EnOYAU\n",
       "4  a43RN0000001EnPYAU\n",
       "5  a43RN0000001EnQYAU\n",
       "6  a43RN0000001EnRYAU\n",
       "7  a43RN0000001EnSYAU"
      ]
     },
     "execution_count": 135,
     "metadata": {},
     "output_type": "execute_result"
    }
   ],
   "source": [
    "dfActividad = pd.DataFrame()  # Declare idGoal2 as a global variable\n",
    "dertyActividad = pd.DataFrame()\n",
    "\n",
    "#idGoal2 = vllamadaEmpresa[\"Id\"].apply(lambda y: traerGoal(y))\n",
    "for registros in range(cntdGoal):\n",
    "    dfActividad = traerActividad(derty[\"Id\"][registros])\n",
    "    dertyActividad = pd.concat([dertyActividad, dfActividad], axis=0)\n",
    "#cntdGoal = len(derty.index)\n",
    "dertyActividad.head(10)"
   ]
  },
  {
   "cell_type": "code",
   "execution_count": 136,
   "metadata": {},
   "outputs": [
    {
     "data": {
      "text/html": [
       "<div>\n",
       "<style scoped>\n",
       "    .dataframe tbody tr th:only-of-type {\n",
       "        vertical-align: middle;\n",
       "    }\n",
       "\n",
       "    .dataframe tbody tr th {\n",
       "        vertical-align: top;\n",
       "    }\n",
       "\n",
       "    .dataframe thead th {\n",
       "        text-align: right;\n",
       "    }\n",
       "</style>\n",
       "<table border=\"1\" class=\"dataframe\">\n",
       "  <thead>\n",
       "    <tr style=\"text-align: right;\">\n",
       "      <th></th>\n",
       "      <th>Id</th>\n",
       "    </tr>\n",
       "  </thead>\n",
       "  <tbody>\n",
       "    <tr>\n",
       "      <th>0</th>\n",
       "      <td>a43RN0000001EnJYAU</td>\n",
       "    </tr>\n",
       "    <tr>\n",
       "      <th>1</th>\n",
       "      <td>a43RN0000001EnKYAU</td>\n",
       "    </tr>\n",
       "    <tr>\n",
       "      <th>2</th>\n",
       "      <td>a43RN0000001EnLYAU</td>\n",
       "    </tr>\n",
       "    <tr>\n",
       "      <th>3</th>\n",
       "      <td>a43RN0000001EnMYAU</td>\n",
       "    </tr>\n",
       "    <tr>\n",
       "      <th>4</th>\n",
       "      <td>a43RN0000001EnNYAU</td>\n",
       "    </tr>\n",
       "  </tbody>\n",
       "</table>\n",
       "</div>"
      ],
      "text/plain": [
       "                   Id\n",
       "0  a43RN0000001EnJYAU\n",
       "1  a43RN0000001EnKYAU\n",
       "2  a43RN0000001EnLYAU\n",
       "3  a43RN0000001EnMYAU\n",
       "4  a43RN0000001EnNYAU"
      ]
     },
     "execution_count": 136,
     "metadata": {},
     "output_type": "execute_result"
    }
   ],
   "source": [
    "dertyActividad.reset_index(drop=True, inplace=True)\n",
    "dertyActividad[\"Id\"][0]\n",
    "dertyActividad.head()"
   ]
  },
  {
   "cell_type": "code",
   "execution_count": null,
   "metadata": {},
   "outputs": [],
   "source": []
  }
 ],
 "metadata": {
  "kernelspec": {
   "display_name": "salesforce",
   "language": "python",
   "name": "python3"
  },
  "language_info": {
   "codemirror_mode": {
    "name": "ipython",
    "version": 3
   },
   "file_extension": ".py",
   "mimetype": "text/x-python",
   "name": "python",
   "nbconvert_exporter": "python",
   "pygments_lexer": "ipython3",
   "version": "3.8.16"
  }
 },
 "nbformat": 4,
 "nbformat_minor": 2
}
