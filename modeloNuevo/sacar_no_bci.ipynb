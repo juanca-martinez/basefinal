{
 "cells": [
  {
   "cell_type": "code",
   "execution_count": 37,
   "metadata": {},
   "outputs": [],
   "source": [
    "from pathlib import Path\n",
    "import requests\n",
    "import pandas as pd\n",
    "import numpy as np\n",
    "from io import StringIO\n",
    "import shutil\n",
    "import datetime\n",
    "from datetime import datetime, date\n",
    "import os\n",
    "import errno\n",
    "import re\n",
    "import json\n",
    "from pandas.api.types import is_numeric_dtype\n",
    "from simple_salesforce import Salesforce, format_soql, format_external_id\n",
    "from simple_salesforce.exceptions import SalesforceMalformedRequest\n",
    "import simpler_sf\n",
    "from pathlib import Path\n",
    "\n",
    "simpler_sf.simple_salesforce()"
   ]
  },
  {
   "cell_type": "code",
   "execution_count": 38,
   "metadata": {},
   "outputs": [],
   "source": [
    "with open(\"../login.json\", \"r\") as j:\n",
    "    misDatos = json.load(j)"
   ]
  },
  {
   "cell_type": "code",
   "execution_count": 39,
   "metadata": {
    "notebookRunGroups": {
     "groupValue": "1"
    }
   },
   "outputs": [],
   "source": [
    "# para smart query\n",
    "\"\"\" sf = simple_salesforce.Salesforce(\n",
    "    username=misDatos[\"username\"],\n",
    "    password=misDatos[\"password\"],\n",
    "    security_token=misDatos[\"security_token\"],\n",
    ")\n",
    " \"\"\"\n",
    "# para lo demas\n",
    "sf = Salesforce(\n",
    "    username=misDatos[\"username\"],\n",
    "    password=misDatos[\"password\"],\n",
    "    security_token=misDatos[\"security_token\"],\n",
    ")\n",
    "# paramiko.util.log_to_file(\"paramiko.log\")\n",
    "# regex = re.compile(r\"([A-Za-z0-9]+[.-_])*[A-Za-z0-9]+@[A-Za-z0-9-]+(\\.[A-Z|a-z]{2,})+\")"
   ]
  },
  {
   "cell_type": "code",
   "execution_count": 48,
   "metadata": {
    "notebookRunGroups": {
     "groupValue": "2"
    }
   },
   "outputs": [],
   "source": [
    "\n",
    "cargasBci = (\"F:/Empresas SF/reportes/BCI.xlsx\")\n",
    "archivoBCI = pd.read_excel(cargasBci)"
   ]
  },
  {
   "cell_type": "code",
   "execution_count": 41,
   "metadata": {},
   "outputs": [
    {
     "name": "stderr",
     "output_type": "stream",
     "text": [
      "100%|██████████| 1/1 [01:54<00:00, 114.62s/it]\n"
     ]
    }
   ],
   "source": [
    "query2 = \"select Id,Paciente__r.IdentificationId__pc from EmpresaContactoConvenios__c where Campa_a__c <> 'BCI Seguros Colectivos' and Campa_a__c  <> 'BCI Contingencia' and Campa_a__c <> 'BCI Seguros Colaboradores' and Campa_a__c <> 'BCI Seguros Individuales'\"\n",
    "df2 = sf.smart_query(query2)"
   ]
  },
  {
   "cell_type": "code",
   "execution_count": 49,
   "metadata": {},
   "outputs": [
    {
     "name": "stderr",
     "output_type": "stream",
     "text": [
      "C:\\Users\\jmartinez\\AppData\\Local\\Temp\\ipykernel_11748\\3830561832.py:5: FutureWarning: The default value of regex will change from True to False in a future version. In addition, single character regular expressions will *not* be treated as literal strings when regex=True.\n",
      "  archivoBCI[\"rut\"] = archivoBCI[\"rut\"].str.replace(\".\", \"\")\n"
     ]
    }
   ],
   "source": [
    "archivoBCI[\"rut\"] = archivoBCI[\"rut1\"].astype(str)\n",
    "archivoBCI[\"rut\"] = archivoBCI[\"rut\"].str.replace(\"-\", \"\")\n",
    "archivoBCI[\"rut\"] = archivoBCI[\"rut\"].str.replace(\"–\", \"\")\n",
    "archivoBCI[\"rut\"] = archivoBCI[\"rut\"].astype(str)\n",
    "archivoBCI[\"rut\"] = archivoBCI[\"rut\"].str.replace(\".\", \"\")\n",
    "archivoBCI[\"rut\"] = archivoBCI[\"rut\"].str.replace(\" \", \"\")\n",
    "archivoBCI[\"rut\"] = archivoBCI[\"rut\"].str.upper()\n",
    "archivoBCI[\"rut\"] = archivoBCI[\"rut\"].str.strip()"
   ]
  },
  {
   "cell_type": "code",
   "execution_count": 50,
   "metadata": {},
   "outputs": [],
   "source": [
    "df2 = df2.rename(\n",
    "    columns={\n",
    "        \"Paciente__r.IdentificationId__pc\": \"rut\",\n",
    "        \"Id\":\"Id\",\n",
    "        \n",
    "    }\n",
    ")"
   ]
  },
  {
   "cell_type": "code",
   "execution_count": 51,
   "metadata": {},
   "outputs": [
    {
     "name": "stderr",
     "output_type": "stream",
     "text": [
      "C:\\Users\\jmartinez\\AppData\\Local\\Temp\\ipykernel_11748\\2389365936.py:5: FutureWarning: The default value of regex will change from True to False in a future version. In addition, single character regular expressions will *not* be treated as literal strings when regex=True.\n",
      "  df2[\"rut\"] = df2[\"rut\"].str.replace(\".\", \"\")\n"
     ]
    }
   ],
   "source": [
    "df2[\"rut\"] = df2[\"rut\"].astype(str)\n",
    "df2[\"rut\"] = df2[\"rut\"].str.replace(\"-\", \"\")\n",
    "df2[\"rut\"] = df2[\"rut\"].str.replace(\"–\", \"\")\n",
    "df2[\"rut\"] = df2[\"rut\"].astype(str)\n",
    "df2[\"rut\"] = df2[\"rut\"].str.replace(\".\", \"\")\n",
    "df2[\"rut\"] = df2[\"rut\"].str.replace(\" \", \"\")\n",
    "df2[\"rut\"] = df2[\"rut\"].str.upper()\n",
    "df2[\"rut\"] = df2[\"rut\"].str.strip()"
   ]
  },
  {
   "cell_type": "code",
   "execution_count": 52,
   "metadata": {},
   "outputs": [],
   "source": [
    "demases_empresas = pd.merge(\n",
    "    left=archivoBCI,\n",
    "    right=df2,\n",
    "    how=\"left\",\n",
    "    left_on=\"rut\",\n",
    "    right_on=\"rut\",\n",
    ")"
   ]
  },
  {
   "cell_type": "code",
   "execution_count": 53,
   "metadata": {},
   "outputs": [
    {
     "data": {
      "text/html": [
       "<div>\n",
       "<style scoped>\n",
       "    .dataframe tbody tr th:only-of-type {\n",
       "        vertical-align: middle;\n",
       "    }\n",
       "\n",
       "    .dataframe tbody tr th {\n",
       "        vertical-align: top;\n",
       "    }\n",
       "\n",
       "    .dataframe thead th {\n",
       "        text-align: right;\n",
       "    }\n",
       "</style>\n",
       "<table border=\"1\" class=\"dataframe\">\n",
       "  <thead>\n",
       "    <tr style=\"text-align: right;\">\n",
       "      <th></th>\n",
       "      <th>PÓLIZA</th>\n",
       "      <th>EMPLEADOR</th>\n",
       "      <th>NOMBRE_GRUPO</th>\n",
       "      <th>rut2</th>\n",
       "      <th>gbng</th>\n",
       "      <th>DV_ASEGURADO</th>\n",
       "      <th>rut1</th>\n",
       "      <th>NOMBRE DEL ASEGURADO</th>\n",
       "      <th>RELACIÓN</th>\n",
       "      <th>rut</th>\n",
       "      <th>Id</th>\n",
       "    </tr>\n",
       "  </thead>\n",
       "  <tbody>\n",
       "    <tr>\n",
       "      <th>0</th>\n",
       "      <td>139174</td>\n",
       "      <td>BCI SEGUROS GENERALES SA</td>\n",
       "      <td>BCI VIDA UF 1000</td>\n",
       "      <td>6041679.0</td>\n",
       "      <td>6450379</td>\n",
       "      <td>0</td>\n",
       "      <td>6450379-0</td>\n",
       "      <td>LILA DIAZ VASQUEZ</td>\n",
       "      <td>Esposa</td>\n",
       "      <td>64503790</td>\n",
       "      <td>NaN</td>\n",
       "    </tr>\n",
       "    <tr>\n",
       "      <th>1</th>\n",
       "      <td>139174</td>\n",
       "      <td>BCI SEGUROS GENERALES SA</td>\n",
       "      <td>BCI VIDA UF 1000</td>\n",
       "      <td>6041679.0</td>\n",
       "      <td>6041679</td>\n",
       "      <td>6</td>\n",
       "      <td>6041679-6</td>\n",
       "      <td>MARCOS EUGENIO CASTILLO MOLINA</td>\n",
       "      <td>Titular Masculino</td>\n",
       "      <td>60416796</td>\n",
       "      <td>NaN</td>\n",
       "    </tr>\n",
       "    <tr>\n",
       "      <th>2</th>\n",
       "      <td>139174</td>\n",
       "      <td>BCI SEGUROS GENERALES SA</td>\n",
       "      <td>BCI GENERALES 3000</td>\n",
       "      <td>7055269.0</td>\n",
       "      <td>7055269</td>\n",
       "      <td>8</td>\n",
       "      <td>7055269-8</td>\n",
       "      <td>ROBERTO JUAN HARAMBOURE GALAZ</td>\n",
       "      <td>Titular Masculino</td>\n",
       "      <td>70552698</td>\n",
       "      <td>NaN</td>\n",
       "    </tr>\n",
       "    <tr>\n",
       "      <th>3</th>\n",
       "      <td>139174</td>\n",
       "      <td>BCI SEGUROS GENERALES SA</td>\n",
       "      <td>BCI GENERALES 2000</td>\n",
       "      <td>8702571.0</td>\n",
       "      <td>9127571</td>\n",
       "      <td>6</td>\n",
       "      <td>9127571-6</td>\n",
       "      <td>ROSA PALACIOS MORENO</td>\n",
       "      <td>Esposa</td>\n",
       "      <td>91275716</td>\n",
       "      <td>NaN</td>\n",
       "    </tr>\n",
       "    <tr>\n",
       "      <th>4</th>\n",
       "      <td>139174</td>\n",
       "      <td>BCI SEGUROS GENERALES SA</td>\n",
       "      <td>BCI GENERALES 2000</td>\n",
       "      <td>8702571.0</td>\n",
       "      <td>8702571</td>\n",
       "      <td>3</td>\n",
       "      <td>8702571-3</td>\n",
       "      <td>GUILLERMO COFRE MAC NAMARA</td>\n",
       "      <td>Titular Masculino</td>\n",
       "      <td>87025713</td>\n",
       "      <td>NaN</td>\n",
       "    </tr>\n",
       "  </tbody>\n",
       "</table>\n",
       "</div>"
      ],
      "text/plain": [
       "   PÓLIZA                  EMPLEADOR        NOMBRE_GRUPO       rut2     gbng  \\\n",
       "0  139174  BCI SEGUROS GENERALES SA     BCI VIDA UF 1000  6041679.0  6450379   \n",
       "1  139174  BCI SEGUROS GENERALES SA     BCI VIDA UF 1000  6041679.0  6041679   \n",
       "2  139174  BCI SEGUROS GENERALES SA   BCI GENERALES 3000  7055269.0  7055269   \n",
       "3  139174  BCI SEGUROS GENERALES SA   BCI GENERALES 2000  8702571.0  9127571   \n",
       "4  139174  BCI SEGUROS GENERALES SA   BCI GENERALES 2000  8702571.0  8702571   \n",
       "\n",
       "  DV_ASEGURADO       rut1            NOMBRE DEL ASEGURADO           RELACIÓN  \\\n",
       "0            0  6450379-0               LILA DIAZ VASQUEZ             Esposa   \n",
       "1            6  6041679-6  MARCOS EUGENIO CASTILLO MOLINA  Titular Masculino   \n",
       "2            8  7055269-8   ROBERTO JUAN HARAMBOURE GALAZ  Titular Masculino   \n",
       "3            6  9127571-6            ROSA PALACIOS MORENO             Esposa   \n",
       "4            3  8702571-3      GUILLERMO COFRE MAC NAMARA  Titular Masculino   \n",
       "\n",
       "        rut   Id  \n",
       "0  64503790  NaN  \n",
       "1  60416796  NaN  \n",
       "2  70552698  NaN  \n",
       "3  91275716  NaN  \n",
       "4  87025713  NaN  "
      ]
     },
     "execution_count": 53,
     "metadata": {},
     "output_type": "execute_result"
    }
   ],
   "source": [
    "demases_empresas.head()"
   ]
  },
  {
   "cell_type": "code",
   "execution_count": 54,
   "metadata": {},
   "outputs": [],
   "source": [
    "demases_empresas.to_excel(\"F:/Empresas SF/reportes/demases.xlsx\", index=False)"
   ]
  }
 ],
 "metadata": {
  "kernelspec": {
   "display_name": "salesforce",
   "language": "python",
   "name": "python3"
  },
  "language_info": {
   "codemirror_mode": {
    "name": "ipython",
    "version": 3
   },
   "file_extension": ".py",
   "mimetype": "text/x-python",
   "name": "python",
   "nbconvert_exporter": "python",
   "pygments_lexer": "ipython3",
   "version": "3.8.16"
  }
 },
 "nbformat": 4,
 "nbformat_minor": 2
}
