{
 "cells": [
  {
   "cell_type": "code",
   "execution_count": 562,
   "metadata": {
    "notebookRunGroups": {
     "groupValue": "1"
    }
   },
   "outputs": [],
   "source": [
    "from pathlib import Path\n",
    "import requests\n",
    "import pandas as pd\n",
    "import numpy as np\n",
    "from io import StringIO\n",
    "import shutil\n",
    "import datetime\n",
    "from datetime import datetime,date\n",
    "import re\n",
    "import json\n",
    "from pandas.api.types import is_numeric_dtype\n",
    "\n",
    "# from simple_salesforce import Salesforce, format_soql, format_external_id\n",
    "# from simple_salesforce.exceptions import SalesforceMalformedRequest\n",
    "# import simpler_sf\n",
    "from sqlalchemy import create_engine\n",
    "#import pymysql\n",
    "\n",
    "# from mysql import connector\n",
    "\n",
    "\n",
    "# paramiko.util.log_to_file(\"paramiko.log\")\n",
    "regex = re.compile(r\"([A-Za-z0-9]+[.-_])*[A-Za-z0-9]+@[A-Za-z0-9-]+(\\.[A-Z|a-z]{2,})+\")"
   ]
  },
  {
   "cell_type": "code",
   "execution_count": 563,
   "metadata": {
    "notebookRunGroups": {
     "groupValue": "1"
    }
   },
   "outputs": [],
   "source": [
    "# usuario = 'siempreread'\n",
    "# contrasena = 'S13mpr3_Ch1l3'\n",
    "# url_servidor = '209.151.148.250'\n",
    "puerto = \"3306\"\n",
    "esquema = \"MetLife_A\"\n",
    "plugin_autenticacion = \"mysql_native_password\"\n",
    "\n",
    "usuario = \"care_consulta\"\n",
    "contrasena = \"CareAssistance!10\"\n",
    "url_servidor = \"10.0.10.22\"\n",
    "\n",
    "# Conexión a la base de datos\n",
    "\n",
    "c_conexion = \"mysql+mysqlconnector://{0}:{1}@{2}:{3}/{4}?auth_plugin={5}\"\n",
    "c_conexion = c_conexion.format(\n",
    "    usuario, contrasena, url_servidor, puerto, esquema, plugin_autenticacion\n",
    ")\n",
    "motor_mysql_mariadb = create_engine(c_conexion)\n",
    "\n",
    "#table.to_sql(name='rut_unico_tiempo',con=motor_mysql_mariadb,if_exists = 'append')\n",
    "\n",
    "\n",
    "# archivo de salida modificar segun archivo\n",
    "# archivo = 'C:/Users/jmartinez/Desktop/casos nuevos/clientes/1/casos_faltantes_segun_archivo.xlsx'"
   ]
  },
  {
   "cell_type": "code",
   "execution_count": 564,
   "metadata": {
    "notebookRunGroups": {
     "groupValue": "1"
    }
   },
   "outputs": [
    {
     "name": "stderr",
     "output_type": "stream",
     "text": [
      "C:\\Users\\jmartinez\\AppData\\Local\\Temp\\ipykernel_23396\\3399985333.py:10: FutureWarning: The default value of regex will change from True to False in a future version. In addition, single character regular expressions will *not* be treated as literal strings when regex=True.\n",
      "  rut_unicos[\"Rut_C\"] = rut_unicos[\"Rut_C\"].str.replace(\".\", \"\")\n",
      "C:\\Users\\jmartinez\\AppData\\Local\\Temp\\ipykernel_23396\\3399985333.py:19: FutureWarning: The default value of regex will change from True to False in a future version. In addition, single character regular expressions will *not* be treated as literal strings when regex=True.\n",
      "  rut_unicos[\"Rut_T\"] = rut_unicos[\"Rut_T\"].str.replace(\".\", \"\")\n",
      "C:\\Users\\jmartinez\\AppData\\Local\\Temp\\ipykernel_23396\\3399985333.py:25: FutureWarning: The default value of regex will change from True to False in a future version. In addition, single character regular expressions will *not* be treated as literal strings when regex=True.\n",
      "  rut_unicos[\"Nombre\"] = rut_unicos[\"Nombre\"].str.replace(\".\", \"\")\n"
     ]
    },
    {
     "data": {
      "text/plain": [
       "' rut_unicos.to_excel(\\n    \"F:/Empresas SF/reportes/rut_unicos_hasta_Marzo_2024.xlsx\", index=False\\n) '"
      ]
     },
     "execution_count": 564,
     "metadata": {},
     "output_type": "execute_result"
    }
   ],
   "source": [
    "# table.to_sql(name='prueba',con=motor_mysql_mariadb,if_exists = 'append')\n",
    "rut_unicos = pd.DataFrame()\n",
    "sql = \"SELECT * FROM MetLife_A.rut_unicos WHERE LEFT(Rut_T, 1) <> '0' \"\n",
    "rut_unicos = pd.read_sql_query(sql, con=motor_mysql_mariadb)\n",
    "\n",
    "rut_unicos[\"Rut_C\"] = rut_unicos[\"Rut_C\"].astype(str)\n",
    "rut_unicos[\"Rut_C\"] = rut_unicos[\"Rut_C\"].str.replace(\"-\", \"\")\n",
    "rut_unicos[\"Rut_C\"] = rut_unicos[\"Rut_C\"].str.replace(\"–\", \"\")\n",
    "rut_unicos[\"Rut_C\"] = rut_unicos[\"Rut_C\"].astype(str)\n",
    "rut_unicos[\"Rut_C\"] = rut_unicos[\"Rut_C\"].str.replace(\".\", \"\")\n",
    "rut_unicos[\"Rut_C\"] = rut_unicos[\"Rut_C\"].str.replace(\" \", \"\")\n",
    "rut_unicos[\"Rut_C\"] = rut_unicos[\"Rut_C\"].str.upper()\n",
    "rut_unicos[\"Rut_C\"] = rut_unicos[\"Rut_C\"].str.strip()\n",
    "\n",
    "rut_unicos[\"Rut_T\"] = rut_unicos[\"Rut_T\"].astype(str)\n",
    "rut_unicos[\"Rut_T\"] = rut_unicos[\"Rut_T\"].str.replace(\"-\", \"\")\n",
    "rut_unicos[\"Rut_T\"] = rut_unicos[\"Rut_T\"].str.replace(\"–\", \"\")\n",
    "rut_unicos[\"Rut_T\"] = rut_unicos[\"Rut_T\"].astype(str)\n",
    "rut_unicos[\"Rut_T\"] = rut_unicos[\"Rut_T\"].str.replace(\".\", \"\")\n",
    "rut_unicos[\"Rut_T\"] = rut_unicos[\"Rut_T\"].str.replace(\" \", \"\")\n",
    "rut_unicos[\"Rut_T\"] = rut_unicos[\"Rut_T\"].str.upper()\n",
    "rut_unicos[\"Rut_T\"] = rut_unicos[\"Rut_T\"].str.strip()\n",
    "\n",
    "rut_unicos[\"Nombre\"] = rut_unicos[\"Nombre\"].str.replace(\",\", \"\")\n",
    "rut_unicos[\"Nombre\"] = rut_unicos[\"Nombre\"].str.replace(\".\", \"\")\n",
    "rut_unicos[\"Nombre\"] = rut_unicos[\"Nombre\"].str.replace(\"-\", \"\")\n",
    "rut_unicos[\"Nombre\"] = rut_unicos[\"Nombre\"].str.replace(\"┐\", \"\")\n",
    "rut_unicos[\"Nombre\"] = rut_unicos[\"Nombre\"].str.replace(\"═\", \"\")\n",
    "rut_unicos[\"Nombre\"] = rut_unicos[\"Nombre\"].str.replace(\"╔\", \"\")\n",
    "rut_unicos[\"Nombre\"] = rut_unicos[\"Nombre\"].str.replace(\"┌\", \"\")\n",
    "rut_unicos[\"Nombre\"] = rut_unicos[\"Nombre\"].str.title()\n",
    "rut_unicos[\"Nombre\"] = rut_unicos[\"Nombre\"].str.strip()\n",
    "\n",
    "rut_unicos.shape\n",
    "\n",
    "\n",
    "\n",
    "\"\"\" rut_unicos.to_excel(\n",
    "    \"F:/Empresas SF/reportes/rut_unicos_hasta_Marzo_2024.xlsx\", index=False\n",
    ") \"\"\""
   ]
  },
  {
   "cell_type": "code",
   "execution_count": 565,
   "metadata": {
    "notebookRunGroups": {
     "groupValue": "1"
    }
   },
   "outputs": [
    {
     "data": {
      "text/plain": [
       "(5634959, 11)"
      ]
     },
     "execution_count": 565,
     "metadata": {},
     "output_type": "execute_result"
    }
   ],
   "source": [
    "rut_unico_tiempo_ = pd.DataFrame()\n",
    "sql = \"SELECT * FROM MetLife_A.rut_unico_tiempo_2 \"\n",
    "rut_unico_tiempo_ = pd.read_sql_query(sql, con=motor_mysql_mariadb)\n",
    "\n",
    "rut_unico_tiempo_.shape"
   ]
  },
  {
   "cell_type": "code",
   "execution_count": null,
   "metadata": {},
   "outputs": [],
   "source": [
    "def sacarultimo(y):\n",
    "    y = y[:-1]\n",
    "    return str(y)\n",
    "    "
   ]
  },
  {
   "cell_type": "code",
   "execution_count": null,
   "metadata": {},
   "outputs": [],
   "source": [
    "sftp = \"F:/2024/MetLife/metlife_analisis_todo.xlsx\"\n",
    "\n",
    "derty = pd.read_excel(sftp)\n",
    "\n",
    "rut_unico_tiempo_[\"rut_rut2\"] = rut_unico_tiempo_[\"rut_rut\"].apply(lambda y: sacarultimo(y))\n",
    "\n",
    "rut_unico_tiempo_[\"rut_rut2\"] = rut_unico_tiempo_[\"rut_rut2\"].astype(str)\n",
    "rut_unico_tiempo_[\"rut_rut2\"] = rut_unico_tiempo_[\"rut_rut2\"].str.upper()\n",
    "rut_unico_tiempo_[\"rut_rut2\"] = rut_unico_tiempo_[\"rut_rut2\"].str.replace(\"-\", \"\")\n",
    "rut_unico_tiempo_[\"rut_rut2\"] = rut_unico_tiempo_[\"rut_rut2\"].str.replace(\"–\", \"\")\n",
    "rut_unico_tiempo_[\"rut_rut2\"] = rut_unico_tiempo_[\"rut_rut2\"].astype(str)\n",
    "rut_unico_tiempo_[\"rut_rut2\"] = rut_unico_tiempo_[\"rut_rut2\"].str.replace(\".\", \"\")\n",
    "\n",
    "rut_unico_tiempo_[\"rut_rut2\"] = rut_unico_tiempo_[\"rut_rut2\"].str.strip()\n",
    "\n",
    "derty[\"rut1\"] = derty[\"rut1\"].astype(str)\n",
    "derty[\"rut1\"] = derty[\"rut1\"].str.upper()\n",
    "derty[\"rut1\"] = derty[\"rut1\"].str.replace(\"-\", \"\")\n",
    "derty[\"rut1\"] = derty[\"rut1\"].str.replace(\"–\", \"\")\n",
    "derty[\"rut1\"] = derty[\"rut1\"].astype(str)\n",
    "derty[\"rut1\"] = derty[\"rut1\"].str.replace(\".\", \"\")\n",
    "\n",
    "derty[\"rut1\"] = derty[\"rut1\"].str.strip()\n"
   ]
  },
  {
   "cell_type": "code",
   "execution_count": null,
   "metadata": {},
   "outputs": [],
   "source": [
    "rut_unicos2 = pd.merge(\n",
    "    left=derty,\n",
    "    right=rut_unico_tiempo_,\n",
    "    how=\"left\",\n",
    "    left_on=\"rut1\",\n",
    "    right_on=\"rut_rut2\",\n",
    ")\n"
   ]
  },
  {
   "cell_type": "code",
   "execution_count": null,
   "metadata": {},
   "outputs": [],
   "source": [
    "rut_unicos2.shape"
   ]
  },
  {
   "cell_type": "code",
   "execution_count": null,
   "metadata": {},
   "outputs": [],
   "source": [
    "rut_unicos2.head()"
   ]
  },
  {
   "cell_type": "code",
   "execution_count": null,
   "metadata": {},
   "outputs": [],
   "source": [
    "rut_unicos2 = rut_unicos2.drop_duplicates(\n",
    "    [\n",
    "        \"rut_rut2\",\"canal_rut\",\"fecha_rut\",\"poliza_rut\",\n",
    "    ],\n",
    "    keep=\"last\",\n",
    ")\n",
    "rut_unicos2[\"canal_rut\"] = rut_unicos2[\"canal_rut\"].astype(str)\n",
    "\n",
    "rut_unicos2[\"canal_rut\"] = rut_unicos2[\"canal_rut\"].str.replace(\"Q\", \"sftp\")\n",
    "rut_unicos2[\"canal_rut\"] = rut_unicos2[\"canal_rut\"].str.replace(\"correo2\", \"correo\")\n",
    "rut_unicos2[\"canal_rut\"] = rut_unicos2[\"canal_rut\"].str.replace(\"email\", \"correo\")\n"
   ]
  },
  {
   "cell_type": "code",
   "execution_count": null,
   "metadata": {},
   "outputs": [],
   "source": [
    "enero2023 = pd.DataFrame()\n",
    "enero2023 = rut_unicos2[(rut_unicos2[\"mes_rut\"] == \"1\") & (rut_unicos2[\"año_rut\"] == \"2023\")]\n",
    "enero2023W = rut_unicos2[(rut_unicos2[\"mes_rut\"] == \"1\") & (rut_unicos2[\"año_rut\"] == \"2023\") & (rut_unicos2[\"canal_rut\"] == \"web\") ]\n",
    "enero2023S = rut_unicos2[(rut_unicos2[\"mes_rut\"] == \"1\") & (rut_unicos2[\"año_rut\"] == \"2023\") & (rut_unicos2[\"canal_rut\"] == \"sftp\") ]\n",
    "enero2023C = rut_unicos2[(rut_unicos2[\"mes_rut\"] == \"1\") & (rut_unicos2[\"año_rut\"] == \"2023\") & (rut_unicos2[\"canal_rut\"] == \"correo\") ]\n",
    "\n",
    "febrero2023 = pd.DataFrame()\n",
    "febrero2023 = rut_unicos2[(rut_unicos2[\"mes_rut\"] == \"2\") & (rut_unicos2[\"año_rut\"] == \"2023\")]\n",
    "febrero2023W = rut_unicos2[(rut_unicos2[\"mes_rut\"] == \"2\") & (rut_unicos2[\"año_rut\"] == \"2023\") & (rut_unicos2[\"canal_rut\"] == \"web\") ]\n",
    "febrero2023S = rut_unicos2[(rut_unicos2[\"mes_rut\"] == \"2\") & (rut_unicos2[\"año_rut\"] == \"2023\") & (rut_unicos2[\"canal_rut\"] == \"sftp\") ]\n",
    "febrero2023C = rut_unicos2[(rut_unicos2[\"mes_rut\"] == \"2\") & (rut_unicos2[\"año_rut\"] == \"2023\") & (rut_unicos2[\"canal_rut\"] == \"correo\") ]\n",
    "\n",
    "marzo2023 = pd.DataFrame()\n",
    "marzo2023 = rut_unicos2[(rut_unicos2[\"mes_rut\"] == \"3\") & (rut_unicos2[\"año_rut\"] == \"2023\")]\n",
    "marzo2023W = rut_unicos2[(rut_unicos2[\"mes_rut\"] == \"3\") & (rut_unicos2[\"año_rut\"] == \"2023\") & (rut_unicos2[\"canal_rut\"] == \"web\") ]\n",
    "marzo2023S = rut_unicos2[(rut_unicos2[\"mes_rut\"] == \"3\") & (rut_unicos2[\"año_rut\"] == \"2023\") & (rut_unicos2[\"canal_rut\"] == \"sftp\") ]\n",
    "marzo2023C = rut_unicos2[(rut_unicos2[\"mes_rut\"] == \"3\") & (rut_unicos2[\"año_rut\"] == \"2023\") & (rut_unicos2[\"canal_rut\"] == \"correo\") ]\n",
    "\n",
    "\n",
    "abril2023 = pd.DataFrame()\n",
    "abril2023 = rut_unicos2[(rut_unicos2[\"mes_rut\"] == \"4\") & (rut_unicos2[\"año_rut\"] == \"2023\")]\n",
    "abril2023W = rut_unicos2[(rut_unicos2[\"mes_rut\"] == \"4\") & (rut_unicos2[\"año_rut\"] == \"2023\") & (rut_unicos2[\"canal_rut\"] == \"web\") ]\n",
    "abril2023S = rut_unicos2[(rut_unicos2[\"mes_rut\"] == \"4\") & (rut_unicos2[\"año_rut\"] == \"2023\") & (rut_unicos2[\"canal_rut\"] == \"sftp\") ]\n",
    "abril2023C = rut_unicos2[(rut_unicos2[\"mes_rut\"] == \"4\") & (rut_unicos2[\"año_rut\"] == \"2023\") & (rut_unicos2[\"canal_rut\"] == \"correo\") ]\n",
    "\n",
    "mayo2023 = pd.DataFrame()\n",
    "mayo2023 = rut_unicos2[(rut_unicos2[\"mes_rut\"] == \"5\") & (rut_unicos2[\"año_rut\"] == \"2023\")]\n",
    "mayo2023W = rut_unicos2[(rut_unicos2[\"mes_rut\"] == \"5\") & (rut_unicos2[\"año_rut\"] == \"2023\") & (rut_unicos2[\"canal_rut\"] == \"web\") ]\n",
    "mayo2023S = rut_unicos2[(rut_unicos2[\"mes_rut\"] == \"5\") & (rut_unicos2[\"año_rut\"] == \"2023\") & (rut_unicos2[\"canal_rut\"] == \"sftp\") ]\n",
    "mayo2023C = rut_unicos2[(rut_unicos2[\"mes_rut\"] == \"5\") & (rut_unicos2[\"año_rut\"] == \"2023\") & (rut_unicos2[\"canal_rut\"] == \"correo\") ]\n",
    "\n",
    "junio2023 = pd.DataFrame()\n",
    "junio2023 = rut_unicos2[(rut_unicos2[\"mes_rut\"] == \"6\") & (rut_unicos2[\"año_rut\"] == \"2023\")]\n",
    "junio2023W = rut_unicos2[(rut_unicos2[\"mes_rut\"] == \"6\") & (rut_unicos2[\"año_rut\"] == \"2023\") & (rut_unicos2[\"canal_rut\"] == \"web\") ]\n",
    "junio2023S = rut_unicos2[(rut_unicos2[\"mes_rut\"] == \"6\") & (rut_unicos2[\"año_rut\"] == \"2023\") & (rut_unicos2[\"canal_rut\"] == \"sftp\") ]\n",
    "junio2023C = rut_unicos2[(rut_unicos2[\"mes_rut\"] == \"6\") & (rut_unicos2[\"año_rut\"] == \"2023\") & (rut_unicos2[\"canal_rut\"] == \"correo\") ]\n",
    "\n",
    "julio2023 = pd.DataFrame()\n",
    "julio2023 = rut_unicos2[(rut_unicos2[\"mes_rut\"] == \"7\") & (rut_unicos2[\"año_rut\"] == \"2023\")]\n",
    "julio2023W = rut_unicos2[(rut_unicos2[\"mes_rut\"] == \"7\") & (rut_unicos2[\"año_rut\"] == \"2023\") & (rut_unicos2[\"canal_rut\"] == \"web\") ]\n",
    "julio2023S = rut_unicos2[(rut_unicos2[\"mes_rut\"] == \"7\") & (rut_unicos2[\"año_rut\"] == \"2023\") & (rut_unicos2[\"canal_rut\"] == \"sftp\") ]\n",
    "julio2023C = rut_unicos2[(rut_unicos2[\"mes_rut\"] == \"7\") & (rut_unicos2[\"año_rut\"] == \"2023\") & (rut_unicos2[\"canal_rut\"] == \"correo\") ]\n",
    "\n",
    "agosto2023 = pd.DataFrame()\n",
    "agosto2023 = rut_unicos2[(rut_unicos2[\"mes_rut\"] == \"8\") & (rut_unicos2[\"año_rut\"] == \"2023\")]\n",
    "agosto2023W = rut_unicos2[(rut_unicos2[\"mes_rut\"] == \"8\") & (rut_unicos2[\"año_rut\"] == \"2023\") & (rut_unicos2[\"canal_rut\"] == \"web\") ]\n",
    "agosto2023S = rut_unicos2[(rut_unicos2[\"mes_rut\"] == \"8\") & (rut_unicos2[\"año_rut\"] == \"2023\") & (rut_unicos2[\"canal_rut\"] == \"sftp\") ]\n",
    "agosto2023C = rut_unicos2[(rut_unicos2[\"mes_rut\"] == \"8\") & (rut_unicos2[\"año_rut\"] == \"2023\") & (rut_unicos2[\"canal_rut\"] == \"correo\") ]\n",
    "\n",
    "septiembre2023 = pd.DataFrame()\n",
    "septiembre2023 = rut_unicos2[(rut_unicos2[\"mes_rut\"] == \"9\") & (rut_unicos2[\"año_rut\"] == \"2023\")]\n",
    "septiembre2023W = rut_unicos2[(rut_unicos2[\"mes_rut\"] == \"9\") & (rut_unicos2[\"año_rut\"] == \"2023\") & (rut_unicos2[\"canal_rut\"] == \"web\") ]\n",
    "septiembre2023S = rut_unicos2[(rut_unicos2[\"mes_rut\"] == \"9\") & (rut_unicos2[\"año_rut\"] == \"2023\") & (rut_unicos2[\"canal_rut\"] == \"sftp\") ]\n",
    "septiembre2023C = rut_unicos2[(rut_unicos2[\"mes_rut\"] == \"9\") & (rut_unicos2[\"año_rut\"] == \"2023\") & (rut_unicos2[\"canal_rut\"] == \"correo\") ]\n",
    "\n",
    "octubre2023 = pd.DataFrame()\n",
    "octubre2023 = rut_unicos2[(rut_unicos2[\"mes_rut\"] == \"10\") & (rut_unicos2[\"año_rut\"] == \"2023\")]\n",
    "octubre2023W = rut_unicos2[(rut_unicos2[\"mes_rut\"] == \"10\") & (rut_unicos2[\"año_rut\"] == \"2023\") & (rut_unicos2[\"canal_rut\"] == \"web\") ]\n",
    "octubre2023S = rut_unicos2[(rut_unicos2[\"mes_rut\"] == \"10\") & (rut_unicos2[\"año_rut\"] == \"2023\") & (rut_unicos2[\"canal_rut\"] == \"sftp\") ]\n",
    "octubre2023C = rut_unicos2[(rut_unicos2[\"mes_rut\"] == \"10\") & (rut_unicos2[\"año_rut\"] == \"2023\") & (rut_unicos2[\"canal_rut\"] == \"correo\") ]\n",
    "\n",
    "noviembre2023 = pd.DataFrame()\n",
    "noviembre2023 = rut_unicos2[(rut_unicos2[\"mes_rut\"] == \"11\") & (rut_unicos2[\"año_rut\"] == \"2023\")]\n",
    "noviembre2023W = rut_unicos2[(rut_unicos2[\"mes_rut\"] == \"11\") & (rut_unicos2[\"año_rut\"] == \"2023\") & (rut_unicos2[\"canal_rut\"] == \"web\") ]\n",
    "noviembre2023S = rut_unicos2[(rut_unicos2[\"mes_rut\"] == \"11\") & (rut_unicos2[\"año_rut\"] == \"2023\") & (rut_unicos2[\"canal_rut\"] == \"sftp\") ]\n",
    "noviembre2023C = rut_unicos2[(rut_unicos2[\"mes_rut\"] == \"11\") & (rut_unicos2[\"año_rut\"] == \"2023\") & (rut_unicos2[\"canal_rut\"] == \"correo\") ]\n",
    "\n",
    "diciembre2023 = pd.DataFrame()\n",
    "diciembre2023 = rut_unicos2[(rut_unicos2[\"mes_rut\"] == \"12\") & (rut_unicos2[\"año_rut\"] == \"2023\")]\n",
    "diciembre2023W = rut_unicos2[(rut_unicos2[\"mes_rut\"] == \"12\") & (rut_unicos2[\"año_rut\"] == \"2023\") & (rut_unicos2[\"canal_rut\"] == \"web\") ]\n",
    "diciembre2023S = rut_unicos2[(rut_unicos2[\"mes_rut\"] == \"12\") & (rut_unicos2[\"año_rut\"] == \"2023\") & (rut_unicos2[\"canal_rut\"] == \"sftp\") ]\n",
    "diciembre2023C = rut_unicos2[(rut_unicos2[\"mes_rut\"] == \"12\") & (rut_unicos2[\"año_rut\"] == \"2023\") & (rut_unicos2[\"canal_rut\"] == \"correo\") ]\n",
    "\n",
    "\n",
    "enero2024 = pd.DataFrame()\n",
    "enero2024 = rut_unicos2[(rut_unicos2[\"mes_rut\"] == \"1\") & (rut_unicos2[\"año_rut\"] == \"2024\")]\n",
    "enero2024W = rut_unicos2[(rut_unicos2[\"mes_rut\"] == \"1\") & (rut_unicos2[\"año_rut\"] == \"2024\") & (rut_unicos2[\"canal_rut\"] == \"web\") ]\n",
    "enero2024S = rut_unicos2[(rut_unicos2[\"mes_rut\"] == \"1\") & (rut_unicos2[\"año_rut\"] == \"2024\") & (rut_unicos2[\"canal_rut\"] == \"sftp\") ]\n",
    "enero2024C = rut_unicos2[(rut_unicos2[\"mes_rut\"] == \"1\") & (rut_unicos2[\"año_rut\"] == \"2024\") & (rut_unicos2[\"canal_rut\"] == \"correo\") ]\n",
    "\n",
    "febrero2024 = pd.DataFrame()\n",
    "febrero2024 = rut_unicos2[(rut_unicos2[\"mes_rut\"] == \"2\") & (rut_unicos2[\"año_rut\"] == \"2024\")]\n",
    "febrero2024W = rut_unicos2[(rut_unicos2[\"mes_rut\"] == \"2\") & (rut_unicos2[\"año_rut\"] == \"2024\") & (rut_unicos2[\"canal_rut\"] == \"web\") ]\n",
    "febrero2024S = rut_unicos2[(rut_unicos2[\"mes_rut\"] == \"2\") & (rut_unicos2[\"año_rut\"] == \"2024\") & (rut_unicos2[\"canal_rut\"] == \"sftp\") ]\n",
    "febrero2024C = rut_unicos2[(rut_unicos2[\"mes_rut\"] == \"2\") & (rut_unicos2[\"año_rut\"] == \"2024\") & (rut_unicos2[\"canal_rut\"] == \"correo\") ]\n",
    "\n",
    "marzo2024 = pd.DataFrame()\n",
    "marzo2024 = rut_unicos2[(rut_unicos2[\"mes_rut\"] == \"3\") & (rut_unicos2[\"año_rut\"] == \"2024\")]\n",
    "marzo2024W = rut_unicos2[(rut_unicos2[\"mes_rut\"] == \"3\") & (rut_unicos2[\"año_rut\"] == \"2024\") & (rut_unicos2[\"canal_rut\"] == \"web\") ]\n",
    "marzo2024S = rut_unicos2[(rut_unicos2[\"mes_rut\"] == \"3\") & (rut_unicos2[\"año_rut\"] == \"2024\") & (rut_unicos2[\"canal_rut\"] == \"sftp\") ]\n",
    "marzo2024C = rut_unicos2[(rut_unicos2[\"mes_rut\"] == \"3\") & (rut_unicos2[\"año_rut\"] == \"2024\") & (rut_unicos2[\"canal_rut\"] == \"correo\") ]\n",
    "\n",
    "\n",
    "#Minera_Abra = Minera_Abra[(Minera_Abra[\"Empleador\"] == Minera_Abra[\"Nombre Empresa\"])]"
   ]
  },
  {
   "cell_type": "code",
   "execution_count": null,
   "metadata": {},
   "outputs": [],
   "source": [
    "enero = pd.DataFrame()\n",
    "enero = derty.copy()\n",
    "enero[\"Enero\"]  = enero[\"rut1\"].isin(enero2023[\"rut_rut2\"]).astype(str).replace(\"False\",\"\").replace(\"True\",\"X\")\n",
    "enero[\"Enero web\"]  = enero[\"rut1\"].isin(enero2023W[\"rut_rut2\"]).astype(str).replace(\"False\",\"\").replace(\"True\",\"X\")\n",
    "enero[\"Enero sftp\"]  = enero[\"rut1\"].isin(enero2023S[\"rut_rut2\"]).astype(str).replace(\"False\",\"\").replace(\"True\",\"X\")\n",
    "enero[\"Enero correo\"]  = enero[\"rut1\"].isin(enero2023C[\"rut_rut2\"]).astype(str).replace(\"False\",\"\").replace(\"True\",\"X\")\n",
    "\n",
    "enero[\"Febrero\"]  = enero[\"rut1\"].isin(febrero2023[\"rut_rut2\"]).astype(str).replace(\"False\",\"\").replace(\"True\",\"X\")\n",
    "enero[\"Febrero web\"]  = enero[\"rut1\"].isin(febrero2023W[\"rut_rut2\"]).astype(str).replace(\"False\",\"\").replace(\"True\",\"X\")\n",
    "enero[\"Febrero sftp\"]  = enero[\"rut1\"].isin(febrero2023S[\"rut_rut2\"]).astype(str).replace(\"False\",\"\").replace(\"True\",\"X\")\n",
    "enero[\"Febrero correo\"]  = enero[\"rut1\"].isin(febrero2023C[\"rut_rut2\"]).astype(str).replace(\"False\",\"\").replace(\"True\",\"X\")\n",
    "\n",
    "enero[\"Marzo\"]  = enero[\"rut1\"].isin(marzo2023[\"rut_rut2\"]).astype(str).replace(\"False\",\"\").replace(\"True\",\"X\")\n",
    "enero[\"Marzo web\"]  = enero[\"rut1\"].isin(marzo2023W[\"rut_rut2\"]).astype(str).replace(\"False\",\"\").replace(\"True\",\"X\")\n",
    "enero[\"Marzo sftp\"]  = enero[\"rut1\"].isin(marzo2023S[\"rut_rut2\"]).astype(str).replace(\"False\",\"\").replace(\"True\",\"X\")\n",
    "enero[\"Marzo correo\"]  = enero[\"rut1\"].isin(marzo2023C[\"rut_rut2\"]).astype(str).replace(\"False\",\"\").replace(\"True\",\"X\")\n",
    "\n",
    "enero[\"Abril\"]  = enero[\"rut1\"].isin(abril2023[\"rut_rut2\"]).astype(str).replace(\"False\",\"\").replace(\"True\",\"X\")\n",
    "enero[\"Abril web\"]  = enero[\"rut1\"].isin(abril2023W[\"rut_rut2\"]).astype(str).replace(\"False\",\"\").replace(\"True\",\"X\")\n",
    "enero[\"Abril sftp\"]  = enero[\"rut1\"].isin(abril2023S[\"rut_rut2\"]).astype(str).replace(\"False\",\"\").replace(\"True\",\"X\")\n",
    "enero[\"Abril correo\"]  = enero[\"rut1\"].isin(abril2023C[\"rut_rut2\"]).astype(str).replace(\"False\",\"\").replace(\"True\",\"X\")\n",
    "\n",
    "enero[\"Mayo\"]  = enero[\"rut1\"].isin(mayo2023[\"rut_rut2\"]).astype(str).replace(\"False\",\"\").replace(\"True\",\"X\")\n",
    "enero[\"Mayo web\"]  = enero[\"rut1\"].isin(mayo2023W[\"rut_rut2\"]).astype(str).replace(\"False\",\"\").replace(\"True\",\"X\")\n",
    "enero[\"Mayo sftp\"]  = enero[\"rut1\"].isin(mayo2023S[\"rut_rut2\"]).astype(str).replace(\"False\",\"\").replace(\"True\",\"X\")\n",
    "enero[\"Mayo correo\"]  = enero[\"rut1\"].isin(mayo2023C[\"rut_rut2\"]).astype(str).replace(\"False\",\"\").replace(\"True\",\"X\")\n",
    "\n",
    "enero[\"Junio\"]  = enero[\"rut1\"].isin(junio2023[\"rut_rut2\"]).astype(str).replace(\"False\",\"\").replace(\"True\",\"X\")\n",
    "enero[\"Junio web\"]  = enero[\"rut1\"].isin(junio2023W[\"rut_rut2\"]).astype(str).replace(\"False\",\"\").replace(\"True\",\"X\")\n",
    "enero[\"Junio sftp\"]  = enero[\"rut1\"].isin(junio2023S[\"rut_rut2\"]).astype(str).replace(\"False\",\"\").replace(\"True\",\"X\")\n",
    "enero[\"Junio correo\"]  = enero[\"rut1\"].isin(junio2023C[\"rut_rut2\"]).astype(str).replace(\"False\",\"\").replace(\"True\",\"X\")\n",
    "\n",
    "enero[\"Julio\"]  = enero[\"rut1\"].isin(julio2023[\"rut_rut2\"]).astype(str).replace(\"False\",\"\").replace(\"True\",\"X\")\n",
    "enero[\"Julio web\"]  = enero[\"rut1\"].isin(julio2023W[\"rut_rut2\"]).astype(str).replace(\"False\",\"\").replace(\"True\",\"X\")\n",
    "enero[\"Julio sftp\"]  = enero[\"rut1\"].isin(julio2023S[\"rut_rut2\"]).astype(str).replace(\"False\",\"\").replace(\"True\",\"X\")\n",
    "enero[\"Julio correo\"]  = enero[\"rut1\"].isin(julio2023C[\"rut_rut2\"]).astype(str).replace(\"False\",\"\").replace(\"True\",\"X\")\n",
    "\n",
    "enero[\"Agosto\"]  = enero[\"rut1\"].isin(agosto2023[\"rut_rut2\"]).astype(str).replace(\"False\",\"\").replace(\"True\",\"X\")\n",
    "enero[\"Agosto web\"]  = enero[\"rut1\"].isin(agosto2023W[\"rut_rut2\"]).astype(str).replace(\"False\",\"\").replace(\"True\",\"X\")\n",
    "enero[\"Agosto sftp\"]  = enero[\"rut1\"].isin(agosto2023S[\"rut_rut2\"]).astype(str).replace(\"False\",\"\").replace(\"True\",\"X\")\n",
    "enero[\"Agosto correo\"]  = enero[\"rut1\"].isin(agosto2023C[\"rut_rut2\"]).astype(str).replace(\"False\",\"\").replace(\"True\",\"X\")\n",
    "\n",
    "enero[\"Septiembre\"]  = enero[\"rut1\"].isin(septiembre2023[\"rut_rut2\"]).astype(str).replace(\"False\",\"\").replace(\"True\",\"X\")\n",
    "enero[\"Septiembre web\"]  = enero[\"rut1\"].isin(septiembre2023W[\"rut_rut2\"]).astype(str).replace(\"False\",\"\").replace(\"True\",\"X\")\n",
    "enero[\"Septiembre sftp\"]  = enero[\"rut1\"].isin(septiembre2023S[\"rut_rut2\"]).astype(str).replace(\"False\",\"\").replace(\"True\",\"X\")\n",
    "enero[\"Septiembre correo\"]  = enero[\"rut1\"].isin(septiembre2023C[\"rut_rut2\"]).astype(str).replace(\"False\",\"\").replace(\"True\",\"X\")\n",
    "\n",
    "enero[\"Octubre\"]  = enero[\"rut1\"].isin(octubre2023[\"rut_rut2\"]).astype(str).replace(\"False\",\"\").replace(\"True\",\"X\")\n",
    "enero[\"Octubre web\"]  = enero[\"rut1\"].isin(octubre2023W[\"rut_rut2\"]).astype(str).replace(\"False\",\"\").replace(\"True\",\"X\")\n",
    "enero[\"Octubre sftp\"]  = enero[\"rut1\"].isin(octubre2023S[\"rut_rut2\"]).astype(str).replace(\"False\",\"\").replace(\"True\",\"X\")\n",
    "enero[\"Octubre correo\"]  = enero[\"rut1\"].isin(octubre2023C[\"rut_rut2\"]).astype(str).replace(\"False\",\"\").replace(\"True\",\"X\")\n",
    "\n",
    "enero[\"Noviembre\"]  = enero[\"rut1\"].isin(noviembre2023[\"rut_rut2\"]).astype(str).replace(\"False\",\"\").replace(\"True\",\"X\")\n",
    "enero[\"Noviembre web\"]  = enero[\"rut1\"].isin(noviembre2023W[\"rut_rut2\"]).astype(str).replace(\"False\",\"\").replace(\"True\",\"X\")\n",
    "enero[\"Noviembre sftp\"]  = enero[\"rut1\"].isin(noviembre2023S[\"rut_rut2\"]).astype(str).replace(\"False\",\"\").replace(\"True\",\"X\")\n",
    "enero[\"Noviembre correo\"]  = enero[\"rut1\"].isin(noviembre2023C[\"rut_rut2\"]).astype(str).replace(\"False\",\"\").replace(\"True\",\"X\")\n",
    "\n",
    "enero[\"Diciembre\"]  = enero[\"rut1\"].isin(diciembre2023[\"rut_rut2\"]).astype(str).replace(\"False\",\"\").replace(\"True\",\"X\")\n",
    "enero[\"Diciembre web\"]  = enero[\"rut1\"].isin(diciembre2023W[\"rut_rut2\"]).astype(str).replace(\"False\",\"\").replace(\"True\",\"X\")\n",
    "enero[\"Diciembre sftp\"]  = enero[\"rut1\"].isin(diciembre2023S[\"rut_rut2\"]).astype(str).replace(\"False\",\"\").replace(\"True\",\"X\")\n",
    "enero[\"Diciembre correo\"]  = enero[\"rut1\"].isin(diciembre2023C[\"rut_rut2\"]).astype(str).replace(\"False\",\"\").replace(\"True\",\"X\")\n",
    "\n",
    "enero[\"Enero 2024\"]  = enero[\"rut1\"].isin(enero2024[\"rut_rut2\"]).astype(str).replace(\"False\",\"\").replace(\"True\",\"X\")\n",
    "enero[\"Enero 2024 web\"]  = enero[\"rut1\"].isin(enero2024W[\"rut_rut2\"]).astype(str).replace(\"False\",\"\").replace(\"True\",\"X\")\n",
    "enero[\"Enero 2024 sftp\"]  = enero[\"rut1\"].isin(enero2024S[\"rut_rut2\"]).astype(str).replace(\"False\",\"\").replace(\"True\",\"X\")\n",
    "enero[\"Enero 2024 correo\"]  = enero[\"rut1\"].isin(enero2024C[\"rut_rut2\"]).astype(str).replace(\"False\",\"\").replace(\"True\",\"X\")\n",
    "\n",
    "enero[\"Febrero 2024\"]  = enero[\"rut1\"].isin(febrero2024[\"rut_rut2\"]).astype(str).replace(\"False\",\"\").replace(\"True\",\"X\")\n",
    "enero[\"Febrero 2024 web\"]  = enero[\"rut1\"].isin(febrero2024W[\"rut_rut2\"]).astype(str).replace(\"False\",\"\").replace(\"True\",\"X\")\n",
    "enero[\"Febrero 2024 sftp\"]  = enero[\"rut1\"].isin(febrero2024S[\"rut_rut2\"]).astype(str).replace(\"False\",\"\").replace(\"True\",\"X\")\n",
    "enero[\"Febrero 2024 correo\"]  = enero[\"rut1\"].isin(febrero2024C[\"rut_rut2\"]).astype(str).replace(\"False\",\"\").replace(\"True\",\"X\")\n",
    "\n",
    "enero[\"Marzo 2024\"]  = enero[\"rut1\"].isin(marzo2024[\"rut_rut2\"]).astype(str).replace(\"False\",\"\").replace(\"True\",\"X\")\n",
    "enero[\"Marzo 2024 web\"]  = enero[\"rut1\"].isin(marzo2024W[\"rut_rut2\"]).astype(str).replace(\"False\",\"\").replace(\"True\",\"X\")\n",
    "enero[\"Marzo 2024 sftp\"]  = enero[\"rut1\"].isin(marzo2024S[\"rut_rut2\"]).astype(str).replace(\"False\",\"\").replace(\"True\",\"X\")\n",
    "enero[\"Marzo 2024 correo\"]  = enero[\"rut1\"].isin(marzo2024C[\"rut_rut2\"]).astype(str).replace(\"False\",\"\").replace(\"True\",\"X\")\n",
    "\n"
   ]
  },
  {
   "cell_type": "code",
   "execution_count": null,
   "metadata": {},
   "outputs": [],
   "source": [
    "enero.head()"
   ]
  },
  {
   "cell_type": "code",
   "execution_count": null,
   "metadata": {},
   "outputs": [],
   "source": [
    "enero.shape"
   ]
  },
  {
   "cell_type": "code",
   "execution_count": null,
   "metadata": {},
   "outputs": [],
   "source": [
    "enero.to_excel(\"F:/2024/MetLife/datos_metlife_fecha_canal.xlsx\", index=False)"
   ]
  },
  {
   "cell_type": "code",
   "execution_count": null,
   "metadata": {},
   "outputs": [],
   "source": [
    "enerob = enero[[\n",
    "    \"rut1\",\"VIGENTE 19.03.2023\",\"EN WEBSERVICE\",\"OBSERVACION\",\"Enero\",\"Febrero\",\"Marzo\",\"Abril\",\"Mayo\",\"Junio\",\"Julio\",\"Agosto\",\"Septiembre\",\"Octubre\",\"Noviembre\",\"Diciembre\",\"Enero 2024\",\"Febrero 2024\",\"Marzo 2024\"\n",
    "]]"
   ]
  },
  {
   "cell_type": "code",
   "execution_count": null,
   "metadata": {},
   "outputs": [],
   "source": [
    "enerob.head()"
   ]
  },
  {
   "cell_type": "code",
   "execution_count": null,
   "metadata": {},
   "outputs": [],
   "source": [
    "enerob.to_excel(\"F:/2024/MetLife/datos_metlife_fecha_mes.xlsx\", index=False)"
   ]
  },
  {
   "cell_type": "code",
   "execution_count": 561,
   "metadata": {},
   "outputs": [],
   "source": [
    "derty[\"esta\"] = derty[\"rut1\"].isin(rut_unicos2[\"rut_rut2\"])\n",
    "rut_unicos[\"rut_sin\"] = rut_unicos[\"Rut_T\"].apply(lambda y: sacarultimo(y))\n",
    "derty[\"unicos\"] = derty[\"rut1\"].isin(rut_unicos[\"rut_sin\"])\n",
    "derty.to_excel(\"F:/2024/MetLife/datos_metlife_esta.xlsx\", index=False)\n"
   ]
  },
  {
   "cell_type": "code",
   "execution_count": 566,
   "metadata": {
    "notebookRunGroups": {
     "groupValue": "1"
    }
   },
   "outputs": [],
   "source": [
    "def fechaValida(fecha):\n",
    "    if (len(str(fecha)) <= 9 ):\n",
    "        fecha = \"\"\n",
    "        \n",
    "    fecha = str(fecha)\n",
    "    fecha1 = str(fecha)\n",
    "    \n",
    "    #datetime.strptime(fecha, '%Y-%m-%d')\n",
    "    \n",
    "    try:\n",
    "        fecha = datetime.strptime(fecha, '%Y-%m-%d %H:%M:%S')\n",
    "        date_string = fecha1\n",
    "        #print(\"date_string =\", date_string)\n",
    "        #print(\"type of date_string =\", type(date_string))\n",
    "\n",
    "        date_object = datetime.strptime(date_string, \"%Y-%m-%d %H:%M:%S\")\n",
    "\n",
    "        #print(\"date_object =\", date_object)\n",
    "        #print(\"type of date_object =\", type(date_object))\n",
    "        return date_object\n",
    "    except ValueError:\n",
    "        return datetime.utcnow().strftime('%Y-%m-%d %H:%M:%S')"
   ]
  },
  {
   "cell_type": "code",
   "execution_count": 567,
   "metadata": {
    "notebookRunGroups": {
     "groupValue": "1"
    }
   },
   "outputs": [],
   "source": [
    "mes = 1\n",
    "año = \"2023\"\n",
    "fecha = año + \"-\" + str(mes) + \"-\" + \"01\"  \n",
    "mesesDic = {\n",
    "    1: \"Enero\",\n",
    "    2: \"Febrero\",\n",
    "    3: \"Marzo\",\n",
    "    4: \"Abril\",\n",
    "    5: \"Mayo\",\n",
    "    6: \"Junio\",\n",
    "    7: \"Julio\",\n",
    "    8: \"Agosto\",\n",
    "    9: \"Septiembre\",\n",
    "    10: \"Octubre\",\n",
    "    11: \"Noviembre\",\n",
    "    12: \"Diciembre\",\n",
    "}\n",
    "\n",
    "str(mesesDic[mes])\n",
    "\n",
    "\n",
    "\n",
    "sftp = \"F:/2024/MetLife/\" + str(mesesDic[mes]) + año + \"/Subir/sftp.xlsx\"\n",
    "\n",
    "\n",
    "# nuevos = \"F:/Empresas SF/reportes/carga.xlsx\"\n",
    "\n",
    "\n",
    "derty = pd.read_excel(sftp)"
   ]
  },
  {
   "cell_type": "code",
   "execution_count": 568,
   "metadata": {
    "notebookRunGroups": {
     "groupValue": "1"
    }
   },
   "outputs": [
    {
     "data": {
      "text/plain": [
       "(387665, 10)"
      ]
     },
     "execution_count": 568,
     "metadata": {},
     "output_type": "execute_result"
    }
   ],
   "source": [
    "derty.shape"
   ]
  },
  {
   "cell_type": "code",
   "execution_count": 569,
   "metadata": {
    "notebookRunGroups": {
     "groupValue": "1"
    }
   },
   "outputs": [],
   "source": [
    "metlife_sftp = pd.DataFrame()\n",
    "metlife_sftp = derty.copy()"
   ]
  },
  {
   "cell_type": "code",
   "execution_count": 570,
   "metadata": {
    "notebookRunGroups": {
     "groupValue": "1"
    }
   },
   "outputs": [
    {
     "name": "stderr",
     "output_type": "stream",
     "text": [
      "C:\\Users\\jmartinez\\AppData\\Local\\Temp\\ipykernel_23396\\3662042864.py:6: FutureWarning: The default value of regex will change from True to False in a future version. In addition, single character regular expressions will *not* be treated as literal strings when regex=True.\n",
      "  metlife_sftp[\"rut1\"] = metlife_sftp[\"rut1\"].str.replace(\".\", \"\")\n",
      "C:\\Users\\jmartinez\\AppData\\Local\\Temp\\ipykernel_23396\\3662042864.py:16: FutureWarning: The default value of regex will change from True to False in a future version. In addition, single character regular expressions will *not* be treated as literal strings when regex=True.\n",
      "  metlife_sftp[\"rut2\"] = metlife_sftp[\"rut2\"].str.replace(\".\", \"\")\n",
      "C:\\Users\\jmartinez\\AppData\\Local\\Temp\\ipykernel_23396\\3662042864.py:22: FutureWarning: The default value of regex will change from True to False in a future version. In addition, single character regular expressions will *not* be treated as literal strings when regex=True.\n",
      "  metlife_sftp[\"Nombre\"] = metlife_sftp[\"Nombre\"].str.replace(\".\", \"\")\n"
     ]
    },
    {
     "data": {
      "text/plain": [
       "(387665, 10)"
      ]
     },
     "execution_count": 570,
     "metadata": {},
     "output_type": "execute_result"
    }
   ],
   "source": [
    "\n",
    "\n",
    "metlife_sftp[\"rut1\"] = metlife_sftp[\"rut1\"].astype(str)\n",
    "#metlife_sftp[\"rut1\"] = metlife_sftp[\"rut1\"].apply(lambda y: siPrimerCero(y))\n",
    "metlife_sftp[\"rut1\"] = metlife_sftp[\"rut1\"].str.replace(\"-\", \"\")\n",
    "metlife_sftp[\"rut1\"] = metlife_sftp[\"rut1\"].str.replace(\"–\", \"\")\n",
    "metlife_sftp[\"rut1\"] = metlife_sftp[\"rut1\"].astype(str)\n",
    "metlife_sftp[\"rut1\"] = metlife_sftp[\"rut1\"].str.replace(\".\", \"\")\n",
    "metlife_sftp[\"rut1\"] = metlife_sftp[\"rut1\"].str.replace(\" \", \"\")\n",
    "metlife_sftp[\"rut1\"] = metlife_sftp[\"rut1\"].str.upper()\n",
    "metlife_sftp[\"rut1\"] = metlife_sftp[\"rut1\"].str.strip()\n",
    "\n",
    "metlife_sftp[\"rut2\"] = metlife_sftp[\"rut2\"].astype(str)\n",
    "#metlife_sftp[\"rut2\"] = metlife_sftp[\"rut2\"].apply(lambda y: siPrimerCero(y))\n",
    "metlife_sftp[\"rut2\"] = metlife_sftp[\"rut2\"].str.replace(\"-\", \"\")\n",
    "metlife_sftp[\"rut2\"] = metlife_sftp[\"rut2\"].str.replace(\"–\", \"\")\n",
    "metlife_sftp[\"rut2\"] = metlife_sftp[\"rut2\"].astype(str)\n",
    "metlife_sftp[\"rut2\"] = metlife_sftp[\"rut2\"].str.replace(\".\", \"\")\n",
    "metlife_sftp[\"rut2\"] = metlife_sftp[\"rut2\"].str.replace(\" \", \"\")\n",
    "metlife_sftp[\"rut2\"] = metlife_sftp[\"rut2\"].str.upper()\n",
    "metlife_sftp[\"rut2\"] = metlife_sftp[\"rut2\"].str.strip()\n",
    "\n",
    "metlife_sftp[\"Nombre\"] = metlife_sftp[\"Nombre\"].str.replace(\",\", \"\")\n",
    "metlife_sftp[\"Nombre\"] = metlife_sftp[\"Nombre\"].str.replace(\".\", \"\")\n",
    "metlife_sftp[\"Nombre\"] = metlife_sftp[\"Nombre\"].str.replace(\"-\", \"\")\n",
    "metlife_sftp[\"Nombre\"] = metlife_sftp[\"Nombre\"].str.replace(\"┐\", \"\")\n",
    "metlife_sftp[\"Nombre\"] = metlife_sftp[\"Nombre\"].str.replace(\"═\", \"\")\n",
    "metlife_sftp[\"Nombre\"] = metlife_sftp[\"Nombre\"].str.replace(\"╔\", \"\")\n",
    "metlife_sftp[\"Nombre\"] = metlife_sftp[\"Nombre\"].str.replace(\"┌\", \"\")\n",
    "metlife_sftp[\"Nombre\"] = metlife_sftp[\"Nombre\"].str.title()\n",
    "metlife_sftp[\"Nombre\"] = metlife_sftp[\"Nombre\"].str.strip()\n",
    "\n",
    "metlife_sftp[\"poliza\"] = metlife_sftp[\"poliza\"].astype(str)\n",
    "metlife_sftp[\"poliza\"] = metlife_sftp[\"poliza\"].str.strip()\n",
    "\n",
    "\n",
    "\n",
    "#*******************sacar primer cero\n",
    "metlife_sftp.shape"
   ]
  },
  {
   "cell_type": "code",
   "execution_count": 571,
   "metadata": {
    "notebookRunGroups": {
     "groupValue": "1"
    }
   },
   "outputs": [
    {
     "data": {
      "text/html": [
       "<div><div id=73c558e4-eee9-47c9-a0fa-97eb8e251b2c style=\"display:none; background-color:#9D6CFF; color:white; width:200px; height:30px; padding-left:5px; border-radius:4px; flex-direction:row; justify-content:space-around; align-items:center;\" onmouseover=\"this.style.backgroundColor='#BA9BF8'\" onmouseout=\"this.style.backgroundColor='#9D6CFF'\" onclick=\"window.commands?.execute('create-mitosheet-from-dataframe-output');\">See Full Dataframe in Mito</div> <script> if (window.commands?.hasCommand('create-mitosheet-from-dataframe-output')) document.getElementById('73c558e4-eee9-47c9-a0fa-97eb8e251b2c').style.display = 'flex' </script> <table border=\"1\" class=\"dataframe\">\n",
       "  <thead>\n",
       "    <tr style=\"text-align: right;\">\n",
       "      <th></th>\n",
       "      <th>poliza</th>\n",
       "      <th>RUTASEGURADO</th>\n",
       "      <th>DV</th>\n",
       "      <th>rut2</th>\n",
       "      <th>RUTBENEFICIARIO</th>\n",
       "      <th>RUTBENEFIARIO_DV</th>\n",
       "      <th>rut1</th>\n",
       "      <th>desde</th>\n",
       "      <th>hasta</th>\n",
       "      <th>Nombre</th>\n",
       "    </tr>\n",
       "  </thead>\n",
       "  <tbody>\n",
       "    <tr>\n",
       "      <th>0</th>\n",
       "      <td>340006458</td>\n",
       "      <td>12345</td>\n",
       "      <td>5</td>\n",
       "      <td>123455</td>\n",
       "      <td>12345</td>\n",
       "      <td>5</td>\n",
       "      <td>123455</td>\n",
       "      <td>2016-03-01</td>\n",
       "      <td>NaT</td>\n",
       "      <td>Puebla Abarca Nelson Hernan</td>\n",
       "    </tr>\n",
       "    <tr>\n",
       "      <th>1</th>\n",
       "      <td>340003358</td>\n",
       "      <td>93806</td>\n",
       "      <td>8</td>\n",
       "      <td>938068</td>\n",
       "      <td>93806</td>\n",
       "      <td>8</td>\n",
       "      <td>938068</td>\n",
       "      <td>2019-08-13</td>\n",
       "      <td>NaT</td>\n",
       "      <td>Martinez  Oscar Andres</td>\n",
       "    </tr>\n",
       "    <tr>\n",
       "      <th>2</th>\n",
       "      <td>340003358</td>\n",
       "      <td>95044</td>\n",
       "      <td>0</td>\n",
       "      <td>950440</td>\n",
       "      <td>95044</td>\n",
       "      <td>0</td>\n",
       "      <td>950440</td>\n",
       "      <td>2019-03-04</td>\n",
       "      <td>NaT</td>\n",
       "      <td>Gutierrez Rey Matias</td>\n",
       "    </tr>\n",
       "    <tr>\n",
       "      <th>3</th>\n",
       "      <td>340003358</td>\n",
       "      <td>99774</td>\n",
       "      <td>9</td>\n",
       "      <td>997749</td>\n",
       "      <td>99774</td>\n",
       "      <td>9</td>\n",
       "      <td>997749</td>\n",
       "      <td>2020-04-01</td>\n",
       "      <td>NaT</td>\n",
       "      <td>Herrera Mena Marco</td>\n",
       "    </tr>\n",
       "    <tr>\n",
       "      <th>4</th>\n",
       "      <td>340003358</td>\n",
       "      <td>100307</td>\n",
       "      <td>0</td>\n",
       "      <td>1003070</td>\n",
       "      <td>100307</td>\n",
       "      <td>0</td>\n",
       "      <td>1003070</td>\n",
       "      <td>2020-03-10</td>\n",
       "      <td>NaT</td>\n",
       "      <td>Alipanah Talaei Roshad</td>\n",
       "    </tr>\n",
       "  </tbody>\n",
       "</table></div>"
      ],
      "text/plain": [
       "      poliza  RUTASEGURADO DV     rut2  RUTBENEFICIARIO RUTBENEFIARIO_DV  \\\n",
       "0  340006458         12345  5   123455            12345                5   \n",
       "1  340003358         93806  8   938068            93806                8   \n",
       "2  340003358         95044  0   950440            95044                0   \n",
       "3  340003358         99774  9   997749            99774                9   \n",
       "4  340003358        100307  0  1003070           100307                0   \n",
       "\n",
       "      rut1      desde hasta                       Nombre  \n",
       "0   123455 2016-03-01   NaT  Puebla Abarca Nelson Hernan  \n",
       "1   938068 2019-08-13   NaT       Martinez  Oscar Andres  \n",
       "2   950440 2019-03-04   NaT         Gutierrez Rey Matias  \n",
       "3   997749 2020-04-01   NaT           Herrera Mena Marco  \n",
       "4  1003070 2020-03-10   NaT       Alipanah Talaei Roshad  "
      ]
     },
     "execution_count": 571,
     "metadata": {},
     "output_type": "execute_result"
    }
   ],
   "source": [
    "metlife_sftp.head()"
   ]
  },
  {
   "cell_type": "code",
   "execution_count": 572,
   "metadata": {
    "notebookRunGroups": {
     "groupValue": "1"
    }
   },
   "outputs": [],
   "source": [
    "def siPrimerCero(y):    \n",
    "    if len(y) <= 4:\n",
    "        y =  \"NONE\"\n",
    "    if y[0] == \"0\":\n",
    "        y = y[1:]\n",
    "    return str(y)\n",
    "    "
   ]
  },
  {
   "cell_type": "code",
   "execution_count": 573,
   "metadata": {
    "notebookRunGroups": {
     "groupValue": "1"
    }
   },
   "outputs": [
    {
     "data": {
      "text/plain": [
       "(360050, 11)"
      ]
     },
     "execution_count": 573,
     "metadata": {},
     "output_type": "execute_result"
    }
   ],
   "source": [
    "metlife_sftp[\"rut1\"] = metlife_sftp[\"rut1\"].apply(lambda y: siPrimerCero(y))\n",
    "metlife_sftp[\"rut2\"] = metlife_sftp[\"rut2\"].apply(lambda y: siPrimerCero(y))\n",
    "metlife_sftp = metlife_sftp[(metlife_sftp[\"rut1\"] != \"NONE\")]\n",
    "metlife_sftp = metlife_sftp[(metlife_sftp[\"rut2\"] != \"NONE\")]\n",
    "\n",
    "\n",
    "metlife_sftp[\"Titular\"] = np.where(metlife_sftp[\"rut1\"] == metlife_sftp[\"rut2\"],1,2 )\n",
    "metlife_sftp = metlife_sftp[(metlife_sftp[\"Titular\"] == 1)]\n",
    "metlife_sftp = metlife_sftp.drop_duplicates(\n",
    "    [\n",
    "        \"rut1\",\"poliza\",\n",
    "    ],\n",
    "    keep=\"last\",\n",
    ")\n",
    "\n",
    "metlife_sftp.shape"
   ]
  },
  {
   "cell_type": "code",
   "execution_count": 574,
   "metadata": {
    "notebookRunGroups": {
     "groupValue": "1"
    }
   },
   "outputs": [
    {
     "data": {
      "text/plain": [
       "(360050, 11)"
      ]
     },
     "execution_count": 574,
     "metadata": {},
     "output_type": "execute_result"
    }
   ],
   "source": [
    "metlife_sftp.shape"
   ]
  },
  {
   "cell_type": "code",
   "execution_count": 575,
   "metadata": {
    "notebookRunGroups": {
     "groupValue": "1"
    }
   },
   "outputs": [
    {
     "name": "stderr",
     "output_type": "stream",
     "text": [
      "C:\\Users\\jmartinez\\AppData\\Local\\Temp\\ipykernel_23396\\2005110109.py:14: FutureWarning: The default value of regex will change from True to False in a future version. In addition, single character regular expressions will *not* be treated as literal strings when regex=True.\n",
      "  metlife_correo[\"rut1\"] = metlife_correo[\"rut1\"].str.replace(\".\", \"\")\n",
      "C:\\Users\\jmartinez\\AppData\\Local\\Temp\\ipykernel_23396\\2005110109.py:24: FutureWarning: The default value of regex will change from True to False in a future version. In addition, single character regular expressions will *not* be treated as literal strings when regex=True.\n",
      "  metlife_correo[\"rut2\"] = metlife_correo[\"rut2\"].str.replace(\".\", \"\")\n",
      "C:\\Users\\jmartinez\\AppData\\Local\\Temp\\ipykernel_23396\\2005110109.py:30: FutureWarning: The default value of regex will change from True to False in a future version. In addition, single character regular expressions will *not* be treated as literal strings when regex=True.\n",
      "  metlife_correo[\"Nombre\"] = metlife_correo[\"Nombre\"].str.replace(\".\", \"\")\n"
     ]
    },
    {
     "data": {
      "text/plain": [
       "(13706, 6)"
      ]
     },
     "execution_count": 575,
     "metadata": {},
     "output_type": "execute_result"
    }
   ],
   "source": [
    "correo = \"F:/2024/MetLife/\" + str(mesesDic[mes]) + año + \"/Subir/correo.xlsx\"\n",
    "dertyc = pd.read_excel(correo)\n",
    "metlife_correo = dertyc.copy()\n",
    "\n",
    "# nuevos = \"F:/Empresas SF/reportes/carga.xlsx\"\n",
    "\n",
    "\n",
    "\n",
    "metlife_correo[\"rut1\"] = metlife_correo[\"rut1\"].astype(str)\n",
    "#metlife_sftp[\"rut1\"] = metlife_sftp[\"rut1\"].apply(lambda y: siPrimerCero(y))\n",
    "metlife_correo[\"rut1\"] = metlife_correo[\"rut1\"].str.replace(\"-\", \"\")\n",
    "metlife_correo[\"rut1\"] = metlife_correo[\"rut1\"].str.replace(\"–\", \"\")\n",
    "metlife_correo[\"rut1\"] = metlife_correo[\"rut1\"].astype(str)\n",
    "metlife_correo[\"rut1\"] = metlife_correo[\"rut1\"].str.replace(\".\", \"\")\n",
    "metlife_correo[\"rut1\"] = metlife_correo[\"rut1\"].str.replace(\" \", \"\")\n",
    "metlife_correo[\"rut1\"] = metlife_correo[\"rut1\"].str.upper()\n",
    "metlife_correo[\"rut1\"] = metlife_correo[\"rut1\"].str.strip()\n",
    "\n",
    "metlife_correo[\"rut2\"] = metlife_correo[\"rut2\"].astype(str)\n",
    "#metlife_sftp[\"rut2\"] = metlife_sftp[\"rut2\"].apply(lambda y: siPrimerCero(y))\n",
    "metlife_correo[\"rut2\"] = metlife_correo[\"rut2\"].str.replace(\"-\", \"\")\n",
    "metlife_correo[\"rut2\"] = metlife_correo[\"rut2\"].str.replace(\"–\", \"\")\n",
    "metlife_correo[\"rut2\"] = metlife_correo[\"rut2\"].astype(str)\n",
    "metlife_correo[\"rut2\"] = metlife_correo[\"rut2\"].str.replace(\".\", \"\")\n",
    "metlife_correo[\"rut2\"] = metlife_correo[\"rut2\"].str.replace(\" \", \"\")\n",
    "metlife_correo[\"rut2\"] = metlife_correo[\"rut2\"].str.upper()\n",
    "metlife_correo[\"rut2\"] = metlife_correo[\"rut2\"].str.strip()\n",
    "\n",
    "metlife_correo[\"Nombre\"] = metlife_correo[\"Nombre\"].str.replace(\",\", \"\")\n",
    "metlife_correo[\"Nombre\"] = metlife_correo[\"Nombre\"].str.replace(\".\", \"\")\n",
    "metlife_correo[\"Nombre\"] = metlife_correo[\"Nombre\"].str.replace(\"-\", \"\")\n",
    "metlife_correo[\"Nombre\"] = metlife_correo[\"Nombre\"].str.replace(\"┐\", \"\")\n",
    "metlife_correo[\"Nombre\"] = metlife_correo[\"Nombre\"].str.replace(\"═\", \"\")\n",
    "metlife_correo[\"Nombre\"] = metlife_correo[\"Nombre\"].str.replace(\"╔\", \"\")\n",
    "metlife_correo[\"Nombre\"] = metlife_correo[\"Nombre\"].str.replace(\"┌\", \"\")\n",
    "metlife_correo[\"Nombre\"] = metlife_correo[\"Nombre\"].str.title()\n",
    "metlife_correo[\"Nombre\"] = metlife_correo[\"Nombre\"].str.strip()\n",
    "\n",
    "metlife_correo[\"poliza\"] = metlife_correo[\"poliza\"].astype(str)\n",
    "metlife_correo[\"poliza\"] = metlife_correo[\"poliza\"].str.strip()\n",
    "\n",
    "\n",
    "\n",
    "\n",
    "#*******************sacar primer cero\n",
    "metlife_correo.shape\n",
    "#derty = pd.read_excel(sftp)"
   ]
  },
  {
   "cell_type": "code",
   "execution_count": 576,
   "metadata": {
    "notebookRunGroups": {
     "groupValue": "1"
    }
   },
   "outputs": [
    {
     "data": {
      "text/plain": [
       "(13700, 7)"
      ]
     },
     "execution_count": 576,
     "metadata": {},
     "output_type": "execute_result"
    }
   ],
   "source": [
    "metlife_correo[\"rut1\"] = metlife_correo[\"rut1\"].apply(lambda y: siPrimerCero(y))\n",
    "metlife_correo[\"rut2\"] = metlife_correo[\"rut2\"].apply(lambda y: siPrimerCero(y))\n",
    "metlife_correo = metlife_correo[(metlife_correo[\"rut1\"] != \"NONE\")]\n",
    "metlife_correo = metlife_correo[(metlife_correo[\"rut2\"] != \"NONE\")]\n",
    "\n",
    "metlife_correo[\"Titular\"] = np.where(metlife_correo[\"rut1\"] == metlife_correo[\"rut2\"],1,2 )\n",
    "metlife_correo = metlife_correo[(metlife_correo[\"Titular\"] == 1)]\n",
    "metlife_correo = metlife_correo.drop_duplicates(\n",
    "    [\n",
    "        \"rut1\",\"poliza\"\n",
    "    ],\n",
    "    keep=\"last\",\n",
    ")\n",
    "\n",
    "metlife_correo.shape"
   ]
  },
  {
   "cell_type": "code",
   "execution_count": null,
   "metadata": {},
   "outputs": [],
   "source": [
    "metlife_correo.shape"
   ]
  },
  {
   "cell_type": "code",
   "execution_count": 577,
   "metadata": {
    "notebookRunGroups": {
     "groupValue": "1"
    }
   },
   "outputs": [],
   "source": [
    "web = \"F:/2024/MetLife/\" + str(mesesDic[mes]) + año + \"/Subir/web.xlsx\"\n",
    "dertyd = pd.read_excel(web)\n"
   ]
  },
  {
   "cell_type": "code",
   "execution_count": 578,
   "metadata": {
    "notebookRunGroups": {
     "groupValue": "1"
    }
   },
   "outputs": [
    {
     "data": {
      "text/html": [
       "<div><div id=a48f29a2-7433-4f21-8e08-7c27de9aa571 style=\"display:none; background-color:#9D6CFF; color:white; width:200px; height:30px; padding-left:5px; border-radius:4px; flex-direction:row; justify-content:space-around; align-items:center;\" onmouseover=\"this.style.backgroundColor='#BA9BF8'\" onmouseout=\"this.style.backgroundColor='#9D6CFF'\" onclick=\"window.commands?.execute('create-mitosheet-from-dataframe-output');\">See Full Dataframe in Mito</div> <script> if (window.commands?.hasCommand('create-mitosheet-from-dataframe-output')) document.getElementById('a48f29a2-7433-4f21-8e08-7c27de9aa571').style.display = 'flex' </script> <table border=\"1\" class=\"dataframe\">\n",
       "  <thead>\n",
       "    <tr style=\"text-align: right;\">\n",
       "      <th></th>\n",
       "      <th>id</th>\n",
       "      <th>ciudad</th>\n",
       "      <th>codigo_carga</th>\n",
       "      <th>codigo_postal</th>\n",
       "      <th>comuna</th>\n",
       "      <th>convenio</th>\n",
       "      <th>convenio_plan</th>\n",
       "      <th>direccion</th>\n",
       "      <th>fecha_bloqueo</th>\n",
       "      <th>fecha_modificacion</th>\n",
       "      <th>...</th>\n",
       "      <th>Nombre</th>\n",
       "      <th>poliza</th>\n",
       "      <th>p_relacion</th>\n",
       "      <th>rut1</th>\n",
       "      <th>rut2</th>\n",
       "      <th>Titular carga</th>\n",
       "      <th>p_sexo</th>\n",
       "      <th>procesado</th>\n",
       "      <th>rut_empresa</th>\n",
       "      <th>version</th>\n",
       "    </tr>\n",
       "  </thead>\n",
       "  <tbody>\n",
       "    <tr>\n",
       "      <th>0</th>\n",
       "      <td>151862</td>\n",
       "      <td>NaN</td>\n",
       "      <td>0</td>\n",
       "      <td>NaN</td>\n",
       "      <td>NaN</td>\n",
       "      <td>77</td>\n",
       "      <td>SIN PLAN</td>\n",
       "      <td>NaN</td>\n",
       "      <td>0</td>\n",
       "      <td>2023-01-04</td>\n",
       "      <td>...</td>\n",
       "      <td>TAMARA CICYLIA PLAZA GUTIERREZ</td>\n",
       "      <td>340022759</td>\n",
       "      <td>1</td>\n",
       "      <td>195289484</td>\n",
       "      <td>195289484</td>\n",
       "      <td>si</td>\n",
       "      <td>2</td>\n",
       "      <td>0</td>\n",
       "      <td>651144221</td>\n",
       "      <td>1</td>\n",
       "    </tr>\n",
       "    <tr>\n",
       "      <th>1</th>\n",
       "      <td>151864</td>\n",
       "      <td>Chillan</td>\n",
       "      <td>0</td>\n",
       "      <td>NaN</td>\n",
       "      <td>Chillan</td>\n",
       "      <td>77</td>\n",
       "      <td>SIN PLAN</td>\n",
       "      <td>Villa Islas del Sur Pj Caulahue Casa 1362</td>\n",
       "      <td>0</td>\n",
       "      <td>2023-01-04</td>\n",
       "      <td>...</td>\n",
       "      <td>MILTON MARTINEZ VALENCIA</td>\n",
       "      <td>340013766</td>\n",
       "      <td>1</td>\n",
       "      <td>133772049</td>\n",
       "      <td>133772049</td>\n",
       "      <td>si</td>\n",
       "      <td>1</td>\n",
       "      <td>0</td>\n",
       "      <td>968026909</td>\n",
       "      <td>1</td>\n",
       "    </tr>\n",
       "    <tr>\n",
       "      <th>2</th>\n",
       "      <td>151869</td>\n",
       "      <td>NaN</td>\n",
       "      <td>0</td>\n",
       "      <td>NaN</td>\n",
       "      <td>NaN</td>\n",
       "      <td>77</td>\n",
       "      <td>SIN PLAN</td>\n",
       "      <td>NaN</td>\n",
       "      <td>0</td>\n",
       "      <td>2023-01-04</td>\n",
       "      <td>...</td>\n",
       "      <td>PAULINA ROBERTSON MENGE</td>\n",
       "      <td>340022737</td>\n",
       "      <td>1</td>\n",
       "      <td>127222975</td>\n",
       "      <td>127222975</td>\n",
       "      <td>si</td>\n",
       "      <td>2</td>\n",
       "      <td>0</td>\n",
       "      <td>651144221</td>\n",
       "      <td>1</td>\n",
       "    </tr>\n",
       "    <tr>\n",
       "      <th>3</th>\n",
       "      <td>151870</td>\n",
       "      <td>NaN</td>\n",
       "      <td>0</td>\n",
       "      <td>NaN</td>\n",
       "      <td>NaN</td>\n",
       "      <td>77</td>\n",
       "      <td>SIN PLAN</td>\n",
       "      <td>NaN</td>\n",
       "      <td>0</td>\n",
       "      <td>2023-01-04</td>\n",
       "      <td>...</td>\n",
       "      <td>EDUARDO ANDRES ALARCON CORTES</td>\n",
       "      <td>340022997</td>\n",
       "      <td>1</td>\n",
       "      <td>150136849</td>\n",
       "      <td>150136849</td>\n",
       "      <td>si</td>\n",
       "      <td>1</td>\n",
       "      <td>0</td>\n",
       "      <td>763558045</td>\n",
       "      <td>1</td>\n",
       "    </tr>\n",
       "    <tr>\n",
       "      <th>4</th>\n",
       "      <td>151871</td>\n",
       "      <td>NaN</td>\n",
       "      <td>0</td>\n",
       "      <td>NaN</td>\n",
       "      <td>NaN</td>\n",
       "      <td>77</td>\n",
       "      <td>SIN PLAN</td>\n",
       "      <td>NaN</td>\n",
       "      <td>0</td>\n",
       "      <td>2023-01-04</td>\n",
       "      <td>...</td>\n",
       "      <td>BORIS ALEXANDER MAUREIRA NEIRA</td>\n",
       "      <td>340023069</td>\n",
       "      <td>1</td>\n",
       "      <td>174968683</td>\n",
       "      <td>174968683</td>\n",
       "      <td>si</td>\n",
       "      <td>1</td>\n",
       "      <td>0</td>\n",
       "      <td>764476719</td>\n",
       "      <td>1</td>\n",
       "    </tr>\n",
       "    <tr>\n",
       "      <th>5</th>\n",
       "      <td>151872</td>\n",
       "      <td>NaN</td>\n",
       "      <td>0</td>\n",
       "      <td>NaN</td>\n",
       "      <td>NaN</td>\n",
       "      <td>77</td>\n",
       "      <td>SIN PLAN</td>\n",
       "      <td>NaN</td>\n",
       "      <td>0</td>\n",
       "      <td>2023-01-04</td>\n",
       "      <td>...</td>\n",
       "      <td>JAVIERA TERESA MADRIAGA RIVERA</td>\n",
       "      <td>340023148</td>\n",
       "      <td>1</td>\n",
       "      <td>197870648</td>\n",
       "      <td>197870648</td>\n",
       "      <td>si</td>\n",
       "      <td>2</td>\n",
       "      <td>0</td>\n",
       "      <td>775759844</td>\n",
       "      <td>1</td>\n",
       "    </tr>\n",
       "    <tr>\n",
       "      <th>6</th>\n",
       "      <td>151878</td>\n",
       "      <td>NaN</td>\n",
       "      <td>0</td>\n",
       "      <td>NaN</td>\n",
       "      <td>NaN</td>\n",
       "      <td>77</td>\n",
       "      <td>SIN PLAN</td>\n",
       "      <td>NaN</td>\n",
       "      <td>0</td>\n",
       "      <td>2023-01-04</td>\n",
       "      <td>...</td>\n",
       "      <td>ALBERT HERRERA SANHUEZA</td>\n",
       "      <td>340023083</td>\n",
       "      <td>1</td>\n",
       "      <td>152045492</td>\n",
       "      <td>152045492</td>\n",
       "      <td>si</td>\n",
       "      <td>1</td>\n",
       "      <td>0</td>\n",
       "      <td>995754703</td>\n",
       "      <td>1</td>\n",
       "    </tr>\n",
       "    <tr>\n",
       "      <th>7</th>\n",
       "      <td>151881</td>\n",
       "      <td>NaN</td>\n",
       "      <td>0</td>\n",
       "      <td>NaN</td>\n",
       "      <td>NaN</td>\n",
       "      <td>77</td>\n",
       "      <td>SIN PLAN</td>\n",
       "      <td>NaN</td>\n",
       "      <td>0</td>\n",
       "      <td>2023-01-04</td>\n",
       "      <td>...</td>\n",
       "      <td>LUZ MARIA LLANOS VENEGAS</td>\n",
       "      <td>340023228</td>\n",
       "      <td>1</td>\n",
       "      <td>17353857K</td>\n",
       "      <td>17353857K</td>\n",
       "      <td>si</td>\n",
       "      <td>1</td>\n",
       "      <td>0</td>\n",
       "      <td>885129005</td>\n",
       "      <td>1</td>\n",
       "    </tr>\n",
       "    <tr>\n",
       "      <th>8</th>\n",
       "      <td>151883</td>\n",
       "      <td>SANTIAGO</td>\n",
       "      <td>0</td>\n",
       "      <td>NaN</td>\n",
       "      <td>QUILICURA</td>\n",
       "      <td>77</td>\n",
       "      <td>SIN PLAN</td>\n",
       "      <td>PJE VOLCAN SAN PABLO 0388 SAN ENRIQUE</td>\n",
       "      <td>0</td>\n",
       "      <td>2023-01-04</td>\n",
       "      <td>...</td>\n",
       "      <td>FRANCESCA CELIS ALVEAL</td>\n",
       "      <td>340005243</td>\n",
       "      <td>1</td>\n",
       "      <td>16800656K</td>\n",
       "      <td>16800656K</td>\n",
       "      <td>si</td>\n",
       "      <td>2</td>\n",
       "      <td>0</td>\n",
       "      <td>760388734</td>\n",
       "      <td>1</td>\n",
       "    </tr>\n",
       "  </tbody>\n",
       "</table></div>"
      ],
      "text/plain": [
       "       id    ciudad  codigo_carga  codigo_postal     comuna  convenio  \\\n",
       "0  151862       NaN             0            NaN        NaN        77   \n",
       "1  151864   Chillan             0            NaN    Chillan        77   \n",
       "2  151869       NaN             0            NaN        NaN        77   \n",
       "3  151870       NaN             0            NaN        NaN        77   \n",
       "4  151871       NaN             0            NaN        NaN        77   \n",
       "5  151872       NaN             0            NaN        NaN        77   \n",
       "6  151878       NaN             0            NaN        NaN        77   \n",
       "7  151881       NaN             0            NaN        NaN        77   \n",
       "8  151883  SANTIAGO             0            NaN  QUILICURA        77   \n",
       "\n",
       "  convenio_plan                                  direccion  fecha_bloqueo  \\\n",
       "0      SIN PLAN                                        NaN              0   \n",
       "1      SIN PLAN  Villa Islas del Sur Pj Caulahue Casa 1362              0   \n",
       "2      SIN PLAN                                        NaN              0   \n",
       "3      SIN PLAN                                        NaN              0   \n",
       "4      SIN PLAN                                        NaN              0   \n",
       "5      SIN PLAN                                        NaN              0   \n",
       "6      SIN PLAN                                        NaN              0   \n",
       "7      SIN PLAN                                        NaN              0   \n",
       "8      SIN PLAN      PJE VOLCAN SAN PABLO 0388 SAN ENRIQUE              0   \n",
       "\n",
       "  fecha_modificacion  ...                          Nombre     poliza  \\\n",
       "0         2023-01-04  ...  TAMARA CICYLIA PLAZA GUTIERREZ  340022759   \n",
       "1         2023-01-04  ...        MILTON MARTINEZ VALENCIA  340013766   \n",
       "2         2023-01-04  ...         PAULINA ROBERTSON MENGE  340022737   \n",
       "3         2023-01-04  ...   EDUARDO ANDRES ALARCON CORTES  340022997   \n",
       "4         2023-01-04  ...  BORIS ALEXANDER MAUREIRA NEIRA  340023069   \n",
       "5         2023-01-04  ...  JAVIERA TERESA MADRIAGA RIVERA  340023148   \n",
       "6         2023-01-04  ...         ALBERT HERRERA SANHUEZA  340023083   \n",
       "7         2023-01-04  ...        LUZ MARIA LLANOS VENEGAS  340023228   \n",
       "8         2023-01-04  ...          FRANCESCA CELIS ALVEAL  340005243   \n",
       "\n",
       "   p_relacion       rut1       rut2 Titular carga p_sexo  procesado  \\\n",
       "0           1  195289484  195289484            si      2          0   \n",
       "1           1  133772049  133772049            si      1          0   \n",
       "2           1  127222975  127222975            si      2          0   \n",
       "3           1  150136849  150136849            si      1          0   \n",
       "4           1  174968683  174968683            si      1          0   \n",
       "5           1  197870648  197870648            si      2          0   \n",
       "6           1  152045492  152045492            si      1          0   \n",
       "7           1  17353857K  17353857K            si      1          0   \n",
       "8           1  16800656K  16800656K            si      2          0   \n",
       "\n",
       "   rut_empresa  version  \n",
       "0    651144221        1  \n",
       "1    968026909        1  \n",
       "2    651144221        1  \n",
       "3    763558045        1  \n",
       "4    764476719        1  \n",
       "5    775759844        1  \n",
       "6    995754703        1  \n",
       "7    885129005        1  \n",
       "8    760388734        1  \n",
       "\n",
       "[9 rows x 39 columns]"
      ]
     },
     "execution_count": 578,
     "metadata": {},
     "output_type": "execute_result"
    }
   ],
   "source": [
    "dertyd.head(9)"
   ]
  },
  {
   "cell_type": "code",
   "execution_count": 579,
   "metadata": {
    "notebookRunGroups": {
     "groupValue": "1"
    }
   },
   "outputs": [],
   "source": [
    "metlife_web = dertyd.copy()"
   ]
  },
  {
   "cell_type": "code",
   "execution_count": null,
   "metadata": {
    "notebookRunGroups": {
     "groupValue": ""
    }
   },
   "outputs": [],
   "source": [
    "metlife_web.head()\n",
    "metlife_web.shape"
   ]
  },
  {
   "cell_type": "code",
   "execution_count": 580,
   "metadata": {
    "notebookRunGroups": {
     "groupValue": "1"
    }
   },
   "outputs": [
    {
     "name": "stderr",
     "output_type": "stream",
     "text": [
      "C:\\Users\\jmartinez\\AppData\\Local\\Temp\\ipykernel_23396\\2932449918.py:10: FutureWarning: The default value of regex will change from True to False in a future version. In addition, single character regular expressions will *not* be treated as literal strings when regex=True.\n",
      "  metlife_web[\"rut1\"] = metlife_web[\"rut1\"].str.replace(\".\", \"\")\n",
      "C:\\Users\\jmartinez\\AppData\\Local\\Temp\\ipykernel_23396\\2932449918.py:20: FutureWarning: The default value of regex will change from True to False in a future version. In addition, single character regular expressions will *not* be treated as literal strings when regex=True.\n",
      "  metlife_web[\"rut2\"] = metlife_web[\"rut2\"].str.replace(\".\", \"\")\n",
      "C:\\Users\\jmartinez\\AppData\\Local\\Temp\\ipykernel_23396\\2932449918.py:26: FutureWarning: The default value of regex will change from True to False in a future version. In addition, single character regular expressions will *not* be treated as literal strings when regex=True.\n",
      "  metlife_web[\"Nombre\"] = metlife_web[\"Nombre\"].str.replace(\".\", \"\")\n"
     ]
    },
    {
     "data": {
      "text/plain": [
       "(4715, 40)"
      ]
     },
     "execution_count": 580,
     "metadata": {},
     "output_type": "execute_result"
    }
   ],
   "source": [
    "\n",
    "\n",
    "# nuevos = \"F:/Empresas SF/reportes/carga.xlsx\"\n",
    "\n",
    "\n",
    "\n",
    "metlife_web[\"rut1\"] = metlife_web[\"rut1\"].astype(str)\n",
    "#metlife_sftp[\"rut1\"] = metlife_sftp[\"rut1\"].apply(lambda y: siPrimerCero(y))\n",
    "metlife_web[\"rut1\"] = metlife_web[\"rut1\"].str.replace(\"-\", \"\")\n",
    "metlife_web[\"rut1\"] = metlife_web[\"rut1\"].str.replace(\"–\", \"\")\n",
    "metlife_web[\"rut1\"] = metlife_web[\"rut1\"].astype(str)\n",
    "metlife_web[\"rut1\"] = metlife_web[\"rut1\"].str.replace(\".\", \"\")\n",
    "metlife_web[\"rut1\"] = metlife_web[\"rut1\"].str.replace(\" \", \"\")\n",
    "metlife_web[\"rut1\"] = metlife_web[\"rut1\"].str.upper()\n",
    "metlife_web[\"rut1\"] = metlife_web[\"rut1\"].str.strip()\n",
    "\n",
    "metlife_web[\"rut2\"] = metlife_web[\"rut2\"].astype(str)\n",
    "#metlife_sftp[\"rut2\"] = metlife_sftp[\"rut2\"].apply(lambda y: siPrimerCero(y))\n",
    "metlife_web[\"rut2\"] = metlife_web[\"rut2\"].str.replace(\"-\", \"\")\n",
    "metlife_web[\"rut2\"] = metlife_web[\"rut2\"].str.replace(\"–\", \"\")\n",
    "metlife_web[\"rut2\"] = metlife_web[\"rut2\"].astype(str)\n",
    "metlife_web[\"rut2\"] = metlife_web[\"rut2\"].str.replace(\".\", \"\")\n",
    "metlife_web[\"rut2\"] = metlife_web[\"rut2\"].str.replace(\" \", \"\")\n",
    "metlife_web[\"rut2\"] = metlife_web[\"rut2\"].str.upper()\n",
    "metlife_web[\"rut2\"] = metlife_web[\"rut2\"].str.strip()\n",
    "\n",
    "metlife_web[\"Nombre\"] = metlife_web[\"Nombre\"].str.replace(\",\", \"\")\n",
    "metlife_web[\"Nombre\"] = metlife_web[\"Nombre\"].str.replace(\".\", \"\")\n",
    "metlife_web[\"Nombre\"] = metlife_web[\"Nombre\"].str.replace(\"-\", \"\")\n",
    "metlife_web[\"Nombre\"] = metlife_web[\"Nombre\"].str.replace(\"┐\", \"\")\n",
    "metlife_web[\"Nombre\"] = metlife_web[\"Nombre\"].str.replace(\"═\", \"\")\n",
    "metlife_web[\"Nombre\"] = metlife_web[\"Nombre\"].str.replace(\"╔\", \"\")\n",
    "metlife_web[\"Nombre\"] = metlife_web[\"Nombre\"].str.replace(\"┌\", \"\")\n",
    "metlife_web[\"Nombre\"] = metlife_web[\"Nombre\"].str.title()\n",
    "metlife_web[\"Nombre\"] = metlife_web[\"Nombre\"].str.strip()\n",
    "\n",
    "metlife_web[\"poliza\"] = metlife_web[\"poliza\"].astype(str)\n",
    "metlife_web[\"poliza\"] = metlife_web[\"poliza\"].str.strip()\n",
    "\n",
    "metlife_web[\"rut1\"] = metlife_web[\"rut1\"].apply(lambda y: siPrimerCero(y))\n",
    "metlife_web[\"rut2\"] = metlife_web[\"rut2\"].apply(lambda y: siPrimerCero(y))\n",
    "metlife_web = metlife_web[(metlife_web[\"rut1\"] != \"NONE\")]\n",
    "metlife_web = metlife_web[(metlife_web[\"rut2\"] != \"NONE\")]\n",
    "metlife_web.shape\n",
    "\n",
    "metlife_web[\"Titular\"] = np.where(metlife_web[\"rut1\"] == metlife_web[\"rut2\"],1,2 )\n",
    "metlife_web = metlife_web[(metlife_web[\"Titular\"] == 1)]\n",
    "\n",
    "metlife_web = metlife_web.drop_duplicates(\n",
    "    [\n",
    "        \"rut1\",\"poliza\"\n",
    "    ],\n",
    "    keep=\"last\",\n",
    ")\n",
    "\n",
    "\n",
    "#*******************sacar primer cero\n",
    "metlife_web.shape\n",
    "#derty = pd.read_excel(sftp)"
   ]
  },
  {
   "cell_type": "code",
   "execution_count": 581,
   "metadata": {
    "notebookRunGroups": {
     "groupValue": "1"
    }
   },
   "outputs": [
    {
     "name": "stderr",
     "output_type": "stream",
     "text": [
      "C:\\Users\\jmartinez\\AppData\\Local\\Temp\\ipykernel_23396\\3947619704.py:9: FutureWarning: The default value of regex will change from True to False in a future version. In addition, single character regular expressions will *not* be treated as literal strings when regex=True.\n",
      "  metlife_Q[\"rut1\"] = metlife_Q[\"rut1\"].str.replace(\".\", \"\")\n",
      "C:\\Users\\jmartinez\\AppData\\Local\\Temp\\ipykernel_23396\\3947619704.py:19: FutureWarning: The default value of regex will change from True to False in a future version. In addition, single character regular expressions will *not* be treated as literal strings when regex=True.\n",
      "  metlife_Q[\"rut2\"] = metlife_Q[\"rut2\"].str.replace(\".\", \"\")\n",
      "C:\\Users\\jmartinez\\AppData\\Local\\Temp\\ipykernel_23396\\3947619704.py:25: FutureWarning: The default value of regex will change from True to False in a future version. In addition, single character regular expressions will *not* be treated as literal strings when regex=True.\n",
      "  metlife_Q[\"Nombre\"] = metlife_Q[\"Nombre\"].str.replace(\".\", \"\")\n"
     ]
    },
    {
     "data": {
      "text/plain": [
       "(253166, 22)"
      ]
     },
     "execution_count": 581,
     "metadata": {},
     "output_type": "execute_result"
    }
   ],
   "source": [
    "webq = \"F:/2024/MetLife/\" + str(mesesDic[mes]) + año + \"/Subir/Q.xlsx\"\n",
    "metlife_Q = pd.read_excel(webq)\n",
    "\n",
    "metlife_Q[\"rut1\"] = metlife_Q[\"rut1\"].astype(str)\n",
    "#metlife_sftp[\"rut1\"] = metlife_sftp[\"rut1\"].apply(lambda y: siPrimerCero(y))\n",
    "metlife_Q[\"rut1\"] = metlife_Q[\"rut1\"].str.replace(\"-\", \"\")\n",
    "metlife_Q[\"rut1\"] = metlife_Q[\"rut1\"].str.replace(\"–\", \"\")\n",
    "metlife_Q[\"rut1\"] = metlife_Q[\"rut1\"].astype(str)\n",
    "metlife_Q[\"rut1\"] = metlife_Q[\"rut1\"].str.replace(\".\", \"\")\n",
    "metlife_Q[\"rut1\"] = metlife_Q[\"rut1\"].str.replace(\" \", \"\")\n",
    "metlife_Q[\"rut1\"] = metlife_Q[\"rut1\"].str.upper()\n",
    "metlife_Q[\"rut1\"] = metlife_Q[\"rut1\"].str.strip()\n",
    "\n",
    "metlife_Q[\"rut2\"] = metlife_Q[\"rut2\"].astype(str)\n",
    "#metlife_sftp[\"rut2\"] = metlife_sftp[\"rut2\"].apply(lambda y: siPrimerCero(y))\n",
    "metlife_Q[\"rut2\"] = metlife_Q[\"rut2\"].str.replace(\"-\", \"\")\n",
    "metlife_Q[\"rut2\"] = metlife_Q[\"rut2\"].str.replace(\"–\", \"\")\n",
    "metlife_Q[\"rut2\"] = metlife_Q[\"rut2\"].astype(str)\n",
    "metlife_Q[\"rut2\"] = metlife_Q[\"rut2\"].str.replace(\".\", \"\")\n",
    "metlife_Q[\"rut2\"] = metlife_Q[\"rut2\"].str.replace(\" \", \"\")\n",
    "metlife_Q[\"rut2\"] = metlife_Q[\"rut2\"].str.upper()\n",
    "metlife_Q[\"rut2\"] = metlife_Q[\"rut2\"].str.strip()\n",
    "\n",
    "metlife_Q[\"Nombre\"] = metlife_Q[\"Nombre\"].str.replace(\",\", \"\")\n",
    "metlife_Q[\"Nombre\"] = metlife_Q[\"Nombre\"].str.replace(\".\", \"\")\n",
    "metlife_Q[\"Nombre\"] = metlife_Q[\"Nombre\"].str.replace(\"-\", \"\")\n",
    "metlife_Q[\"Nombre\"] = metlife_Q[\"Nombre\"].str.replace(\"┐\", \"\")\n",
    "metlife_Q[\"Nombre\"] = metlife_Q[\"Nombre\"].str.replace(\"═\", \"\")\n",
    "metlife_Q[\"Nombre\"] = metlife_Q[\"Nombre\"].str.replace(\"╔\", \"\")\n",
    "metlife_Q[\"Nombre\"] = metlife_Q[\"Nombre\"].str.replace(\"┌\", \"\")\n",
    "metlife_Q[\"Nombre\"] = metlife_Q[\"Nombre\"].str.title()\n",
    "metlife_Q[\"Nombre\"] = metlife_Q[\"Nombre\"].str.strip()\n",
    "\n",
    "metlife_Q[\"poliza\"] = metlife_Q[\"poliza\"].astype(str)\n",
    "metlife_Q[\"poliza\"] = metlife_Q[\"poliza\"].str.strip()\n",
    "\n",
    "metlife_Q[\"rut1\"] = metlife_Q[\"rut1\"].apply(lambda y: siPrimerCero(y))\n",
    "metlife_Q[\"rut2\"] = metlife_Q[\"rut2\"].apply(lambda y: siPrimerCero(y))\n",
    "metlife_Q = metlife_Q[(metlife_Q[\"rut1\"] != \"NONE\")]\n",
    "metlife_Q = metlife_Q[(metlife_Q[\"rut2\"] != \"NONE\")]\n",
    "metlife_Q.shape\n",
    "\n",
    "metlife_Q[\"Titular\"] = np.where(metlife_Q[\"rut1\"] == metlife_Q[\"rut2\"],1,2 )\n",
    "metlife_Q = metlife_Q[(metlife_Q[\"Titular\"] == 1)]\n",
    "\n",
    "metlife_Q = metlife_Q.drop_duplicates(\n",
    "    [\n",
    "        \"rut1\",\"poliza\"\n",
    "    ],\n",
    "    keep=\"last\",\n",
    ")\n",
    "\n",
    "\n",
    "#*******************sacar primer cero\n",
    "metlife_Q.shape\n",
    "#derty = pd.read_excel(sftp)"
   ]
  },
  {
   "cell_type": "code",
   "execution_count": 582,
   "metadata": {
    "notebookRunGroups": {
     "groupValue": "1"
    }
   },
   "outputs": [
    {
     "name": "stderr",
     "output_type": "stream",
     "text": [
      "C:\\Users\\jmartinez\\AppData\\Local\\Temp\\ipykernel_23396\\1183246385.py:9: FutureWarning: Inferring datetime64[ns] from data containing strings is deprecated and will be removed in a future version. To retain the old behavior explicitly pass Series(data, dtype=datetime64[ns])\n",
      "  subir_correo[\"desde_rut\"] = metlife_correo[\"desde\"].apply(lambda y: fechaValida(y))\n"
     ]
    },
    {
     "data": {
      "text/html": [
       "<div><div id=822ad452-e4c9-4f8b-a719-002206dbe6de style=\"display:none; background-color:#9D6CFF; color:white; width:200px; height:30px; padding-left:5px; border-radius:4px; flex-direction:row; justify-content:space-around; align-items:center;\" onmouseover=\"this.style.backgroundColor='#BA9BF8'\" onmouseout=\"this.style.backgroundColor='#9D6CFF'\" onclick=\"window.commands?.execute('create-mitosheet-from-dataframe-output');\">See Full Dataframe in Mito</div> <script> if (window.commands?.hasCommand('create-mitosheet-from-dataframe-output')) document.getElementById('822ad452-e4c9-4f8b-a719-002206dbe6de').style.display = 'flex' </script> <table border=\"1\" class=\"dataframe\">\n",
       "  <thead>\n",
       "    <tr style=\"text-align: right;\">\n",
       "      <th></th>\n",
       "      <th>poliza_rut</th>\n",
       "      <th>rut_rut</th>\n",
       "      <th>nombre_rut</th>\n",
       "      <th>mes_rut</th>\n",
       "      <th>año_rut</th>\n",
       "      <th>Llave</th>\n",
       "      <th>desde_rut</th>\n",
       "      <th>hasta_rut</th>\n",
       "      <th>canal_rut</th>\n",
       "      <th>fecha_rut</th>\n",
       "    </tr>\n",
       "  </thead>\n",
       "  <tbody>\n",
       "    <tr>\n",
       "      <th>68</th>\n",
       "      <td>340023027</td>\n",
       "      <td>178055399</td>\n",
       "      <td>Carlos Humberto Araya Jofre</td>\n",
       "      <td>1</td>\n",
       "      <td>2023</td>\n",
       "      <td>34002302717805539912023</td>\n",
       "      <td>2024-03-26 12:30:58</td>\n",
       "      <td>2024-03-26 12:30:58</td>\n",
       "      <td>web</td>\n",
       "      <td>2023-01-01</td>\n",
       "    </tr>\n",
       "    <tr>\n",
       "      <th>119</th>\n",
       "      <td>340002436</td>\n",
       "      <td>186177908</td>\n",
       "      <td>Nicolas Cisternas Moreno</td>\n",
       "      <td>1</td>\n",
       "      <td>2023</td>\n",
       "      <td>34000243618617790812023</td>\n",
       "      <td>2024-03-26 12:30:58</td>\n",
       "      <td>2024-03-26 12:30:58</td>\n",
       "      <td>web</td>\n",
       "      <td>2023-01-01</td>\n",
       "    </tr>\n",
       "    <tr>\n",
       "      <th>126</th>\n",
       "      <td>340022737</td>\n",
       "      <td>105796234</td>\n",
       "      <td>Pamela Alejandr Tillemann Munoz</td>\n",
       "      <td>1</td>\n",
       "      <td>2023</td>\n",
       "      <td>34002273710579623412023</td>\n",
       "      <td>2024-03-26 12:30:58</td>\n",
       "      <td>2024-03-26 12:30:58</td>\n",
       "      <td>web</td>\n",
       "      <td>2023-01-01</td>\n",
       "    </tr>\n",
       "    <tr>\n",
       "      <th>131</th>\n",
       "      <td>340023173</td>\n",
       "      <td>168497261</td>\n",
       "      <td>Pablo Alberto Fredes Fredes</td>\n",
       "      <td>1</td>\n",
       "      <td>2023</td>\n",
       "      <td>34002317316849726112023</td>\n",
       "      <td>2024-03-26 12:30:58</td>\n",
       "      <td>2024-03-26 12:30:58</td>\n",
       "      <td>web</td>\n",
       "      <td>2023-01-01</td>\n",
       "    </tr>\n",
       "    <tr>\n",
       "      <th>132</th>\n",
       "      <td>340004285</td>\n",
       "      <td>108120045</td>\n",
       "      <td>Rodrigo Alejand Briones Urrutia</td>\n",
       "      <td>1</td>\n",
       "      <td>2023</td>\n",
       "      <td>34000428510812004512023</td>\n",
       "      <td>2024-03-26 12:30:58</td>\n",
       "      <td>2024-03-26 12:30:58</td>\n",
       "      <td>web</td>\n",
       "      <td>2023-01-01</td>\n",
       "    </tr>\n",
       "  </tbody>\n",
       "</table></div>"
      ],
      "text/plain": [
       "    poliza_rut    rut_rut                       nombre_rut mes_rut año_rut  \\\n",
       "68   340023027  178055399      Carlos Humberto Araya Jofre       1    2023   \n",
       "119  340002436  186177908         Nicolas Cisternas Moreno       1    2023   \n",
       "126  340022737  105796234  Pamela Alejandr Tillemann Munoz       1    2023   \n",
       "131  340023173  168497261      Pablo Alberto Fredes Fredes       1    2023   \n",
       "132  340004285  108120045  Rodrigo Alejand Briones Urrutia       1    2023   \n",
       "\n",
       "                       Llave            desde_rut            hasta_rut  \\\n",
       "68   34002302717805539912023  2024-03-26 12:30:58  2024-03-26 12:30:58   \n",
       "119  34000243618617790812023  2024-03-26 12:30:58  2024-03-26 12:30:58   \n",
       "126  34002273710579623412023  2024-03-26 12:30:58  2024-03-26 12:30:58   \n",
       "131  34002317316849726112023  2024-03-26 12:30:58  2024-03-26 12:30:58   \n",
       "132  34000428510812004512023  2024-03-26 12:30:58  2024-03-26 12:30:58   \n",
       "\n",
       "    canal_rut  fecha_rut  \n",
       "68        web 2023-01-01  \n",
       "119       web 2023-01-01  \n",
       "126       web 2023-01-01  \n",
       "131       web 2023-01-01  \n",
       "132       web 2023-01-01  "
      ]
     },
     "execution_count": 582,
     "metadata": {},
     "output_type": "execute_result"
    }
   ],
   "source": [
    "subir_correo = pd.DataFrame()\n",
    "subir_correo[\"poliza_rut\"] = metlife_correo[\"poliza\"]\n",
    "subir_correo[\"rut_rut\"] = metlife_correo[\"rut1\"]\n",
    "subir_correo[\"nombre_rut\"] = metlife_correo[\"Nombre\"]\n",
    "subir_correo[\"mes_rut\"] = str(mes)\n",
    "subir_correo[\"año_rut\"] = str(año)\n",
    "#subir_correo[\"fecha_rut\"] = metlife_correo[\"fecha\"].apply(lambda y: fechaValida(y))\n",
    "subir_correo[\"Llave\"] = metlife_correo[\"poliza\"] + metlife_correo[\"rut1\"] + str(mes) + str(año)\n",
    "subir_correo[\"desde_rut\"] = metlife_correo[\"desde\"].apply(lambda y: fechaValida(y))\n",
    "subir_correo[\"hasta_rut\"] = metlife_correo[\"hasta\"].apply(lambda y: fechaValida(y))\n",
    "subir_correo[\"canal_rut\"] = \"email\"\n",
    "\n",
    "subir_sql = pd.DataFrame()\n",
    "subir_sql[\"poliza_rut\"] = metlife_sftp[\"poliza\"]\n",
    "subir_sql[\"rut_rut\"] = metlife_sftp[\"rut1\"]\n",
    "subir_sql[\"nombre_rut\"] = metlife_sftp[\"Nombre\"]\n",
    "subir_sql[\"mes_rut\"] = str(mes)\n",
    "subir_sql[\"año_rut\"] = str(año)\n",
    "#subir_sql[\"fecha_rut\"] = metlife_sftp[\"fecha\"].apply(lambda y: fechaValida(y))\n",
    "subir_sql[\"Llave\"] = metlife_sftp[\"poliza\"] + metlife_sftp[\"rut1\"] + str(mes) + str(año)\n",
    "subir_sql[\"desde_rut\"] = metlife_sftp[\"desde\"].apply(lambda y: fechaValida(y))\n",
    "subir_sql[\"hasta_rut\"] = metlife_sftp[\"hasta\"].apply(lambda y: fechaValida(y)) \n",
    "subir_sql[\"canal_rut\"] = \"sftp\"\n",
    "\n",
    "subir_web = pd.DataFrame()\n",
    "subir_web[\"poliza_rut\"] = metlife_web[\"poliza\"]\n",
    "subir_web[\"rut_rut\"] = metlife_web[\"rut1\"]\n",
    "subir_web[\"nombre_rut\"] = metlife_web[\"Nombre\"]\n",
    "subir_web[\"mes_rut\"] = str(mes)\n",
    "subir_web[\"año_rut\"] = str(año)\n",
    "#subir_web[\"fecha_rut\"] = metlife_web[\"fecha\"].apply(lambda y: fechaValida(y))\n",
    "subir_web[\"Llave\"] = metlife_web[\"poliza\"] + metlife_web[\"rut1\"] + str(mes) + str(año)\n",
    "subir_web[\"desde_rut\"] = metlife_web[\"desde\"].apply(lambda y: fechaValida(y))\n",
    "subir_web[\"hasta_rut\"] = metlife_web[\"hasta\"].apply(lambda y: fechaValida(y))\n",
    "subir_web[\"canal_rut\"] = \"web\"\n",
    "\n",
    "subir_Q = pd.DataFrame()\n",
    "subir_Q[\"poliza_rut\"] = metlife_Q[\"poliza\"]\n",
    "subir_Q[\"rut_rut\"] = metlife_Q[\"rut1\"]\n",
    "subir_Q[\"nombre_rut\"] = metlife_Q[\"Nombre\"]\n",
    "subir_Q[\"mes_rut\"] = str(mes)\n",
    "subir_Q[\"año_rut\"] = str(año)\n",
    "#subir_Q[\"fecha_rut\"] = metlife_Q[\"fecha\"].apply(lambda y: fechaValida(y))\n",
    "subir_Q[\"Llave\"] = metlife_Q[\"poliza\"] + metlife_web[\"rut1\"] + str(mes) + str(año)\n",
    "subir_Q[\"desde_rut\"] = metlife_Q[\"desde\"].apply(lambda y: fechaValida(y))\n",
    "subir_Q[\"hasta_rut\"] = metlife_Q[\"hasta\"].apply(lambda y: fechaValida(y))\n",
    "subir_Q[\"canal_rut\"] = \"correo2\"\n",
    "\n",
    "mes_metlife = pd.DataFrame()\n",
    "mes_metlife = pd.concat(\n",
    "    [\n",
    "        subir_web,\n",
    "        subir_sql,\n",
    "        subir_correo,\n",
    "        subir_Q,\n",
    "        \n",
    "    ],\n",
    "    axis=0,\n",
    ")\n",
    "mes_metlife[\"fecha_rut\"] = pd.to_datetime(fecha, yearfirst=True)\n",
    "\n",
    "mes_metlife = mes_metlife.drop_duplicates(\n",
    "    [\n",
    "        \"rut_rut\",\"poliza_rut\",\n",
    "    ],\n",
    "    keep=\"last\",\n",
    ")\n",
    "mes_metlife.head()"
   ]
  },
  {
   "cell_type": "markdown",
   "metadata": {},
   "source": [
    "//////////////////////////////////////////////////////////////////////////\n",
    "\n",
    "NUMERO RUTS POR POLIZA\n",
    "****************************************************************"
   ]
  },
  {
   "cell_type": "code",
   "execution_count": 583,
   "metadata": {
    "notebookRunGroups": {
     "groupValue": "1"
    }
   },
   "outputs": [
    {
     "name": "stdout",
     "output_type": "stream",
     "text": [
      "1-2023 373140\n"
     ]
    }
   ],
   "source": [
    "mes_metlife.shape\n",
    "print ( str(mes) + \"-\" + str(año) + \" \" + str(mes_metlife.shape[0]))"
   ]
  },
  {
   "cell_type": "markdown",
   "metadata": {},
   "source": [
    "////////////////////////////////////////////////\n",
    "\n",
    "NUMERO RUT UNICOS\n",
    "------------------------------------------------------------------------------------------------"
   ]
  },
  {
   "cell_type": "code",
   "execution_count": 584,
   "metadata": {
    "notebookRunGroups": {
     "groupValue": "1"
    }
   },
   "outputs": [
    {
     "name": "stdout",
     "output_type": "stream",
     "text": [
      "1-2023 288356\n"
     ]
    }
   ],
   "source": [
    "mes_metlife2 = mes_metlife.drop_duplicates(\n",
    "    [\n",
    "        \"rut_rut\"\n",
    "    ],\n",
    "    keep=\"last\",\n",
    ")\n",
    "mes_metlife2.shape\n",
    "print (str(mes) + \"-\" + str(año) + \" \" + str(mes_metlife2.shape[0]))"
   ]
  },
  {
   "cell_type": "code",
   "execution_count": 585,
   "metadata": {
    "notebookRunGroups": {
     "groupValue": "1"
    }
   },
   "outputs": [
    {
     "data": {
      "text/plain": [
       "(257979, 10)"
      ]
     },
     "execution_count": 585,
     "metadata": {},
     "output_type": "execute_result"
    }
   ],
   "source": [
    "#subir_web[\"Llave\"]\n",
    "mes_metlife[\"esta\"] =  mes_metlife[\"Llave\"].isin(rut_unico_tiempo_[\"Llave\"])\n",
    "mes_metlife = mes_metlife[(mes_metlife[\"esta\"] == False)]\n",
    "\n",
    "mes_metlife = mes_metlife[\n",
    "    [\n",
    "        \"poliza_rut\",\n",
    "        \"rut_rut\",\n",
    "        \"nombre_rut\",\n",
    "        \"mes_rut\",\n",
    "        \"año_rut\",\n",
    "        \"fecha_rut\",\n",
    "        \"Llave\",\n",
    "        \"desde_rut\",\n",
    "        \"hasta_rut\",\n",
    "        \"canal_rut\"\n",
    "    ]\n",
    "]\n",
    "mes_metlife.shape"
   ]
  },
  {
   "cell_type": "code",
   "execution_count": 586,
   "metadata": {
    "notebookRunGroups": {
     "groupValue": "1"
    }
   },
   "outputs": [
    {
     "data": {
      "text/plain": [
       "257979"
      ]
     },
     "execution_count": 586,
     "metadata": {},
     "output_type": "execute_result"
    }
   ],
   "source": [
    "mes_metlife.to_sql(\n",
    "    name=\"rut_unico_tiempo_2\",\n",
    "    con=motor_mysql_mariadb,\n",
    "    if_exists=\"append\",\n",
    "    index=False,\n",
    "    chunksize=10000,\n",
    ")"
   ]
  },
  {
   "cell_type": "code",
   "execution_count": 587,
   "metadata": {
    "notebookRunGroups": {
     "groupValue": "1"
    }
   },
   "outputs": [
    {
     "data": {
      "text/plain": [
       "(288356, 4)"
      ]
     },
     "execution_count": 587,
     "metadata": {},
     "output_type": "execute_result"
    }
   ],
   "source": [
    "subir_unicos = pd.DataFrame()\n",
    "subir_unicos[\"Rut_T\"] = mes_metlife2[\"rut_rut\"]\n",
    "subir_unicos[\"Rut_C\"] = mes_metlife2[\"rut_rut\"]\n",
    "subir_unicos[\"Nombre\"] = mes_metlife2[\"nombre_rut\"]\n",
    "subir_unicos[\"Llave\"] = mes_metlife2[\"rut_rut\"] +  mes_metlife2[\"rut_rut\"]\n",
    "\n",
    "\n",
    "subir_unicos.shape"
   ]
  },
  {
   "cell_type": "code",
   "execution_count": 588,
   "metadata": {
    "notebookRunGroups": {
     "groupValue": "1"
    }
   },
   "outputs": [
    {
     "data": {
      "text/plain": [
       "9719"
      ]
     },
     "execution_count": 588,
     "metadata": {},
     "output_type": "execute_result"
    }
   ],
   "source": [
    "subir_unicos[\"esta\"] =  subir_unicos[\"Rut_T\"].isin(rut_unicos[\"Rut_T\"])\n",
    "subir_unicos = subir_unicos[(subir_unicos[\"esta\"] == False)]\n",
    "\n",
    "subir_unicos = subir_unicos[\n",
    "    [\n",
    "        \"Rut_T\",\n",
    "        \"Rut_C\",\n",
    "        \"Nombre\",\n",
    "        \"Llave\",\n",
    "    ]\n",
    "]\n",
    "subir_unicos.shape\n",
    "subir_unicos.to_sql(\n",
    "    name=\"rut_unicos\",\n",
    "    con=motor_mysql_mariadb,\n",
    "    if_exists=\"append\",\n",
    "    index=False,\n",
    "    chunksize=10000,\n",
    ")"
   ]
  },
  {
   "cell_type": "code",
   "execution_count": null,
   "metadata": {},
   "outputs": [],
   "source": [
    "\n",
    "\n",
    "\n",
    "rut_unicos[\"esta\"] =  rut_unicos[\"Rut_T\"].isin(mes_metlife2[\"rut_rut\"])\n",
    "rut_unicos = rut_unicos[(rut_unicos[\"esta\"] == False)]\n"
   ]
  },
  {
   "cell_type": "code",
   "execution_count": null,
   "metadata": {},
   "outputs": [],
   "source": [
    "rut_unicos.shape"
   ]
  },
  {
   "cell_type": "code",
   "execution_count": null,
   "metadata": {},
   "outputs": [],
   "source": [
    "rut_unicos.to_excel(\n",
    "    \"F:/Empresas SF/reportes/rut_unicos_No_Estan_SFTP_Agosto_2023.xlsx\", index=False\n",
    ")"
   ]
  },
  {
   "cell_type": "code",
   "execution_count": null,
   "metadata": {},
   "outputs": [],
   "source": [
    "sftp = \"F:/2024/MetLife/\" + str(mesesDic[mes]) + año + \"/Subir/poliza.xlsx\"\n",
    "poliza = pd.read_excel(sftp)"
   ]
  },
  {
   "cell_type": "code",
   "execution_count": null,
   "metadata": {},
   "outputs": [],
   "source": [
    "poliza.head()"
   ]
  },
  {
   "cell_type": "code",
   "execution_count": null,
   "metadata": {},
   "outputs": [],
   "source": [
    "rut_unico_tiempo_ = pd.DataFrame()\n",
    "sql = \"SELECT * FROM MetLife_A.rut_unico_tiempo \"\n",
    "rut_unico_tiempo_ = pd.read_sql_query(sql, con=motor_mysql_mariadb)\n",
    "\n",
    "rut_unico_tiempo_.shape"
   ]
  },
  {
   "cell_type": "code",
   "execution_count": null,
   "metadata": {},
   "outputs": [],
   "source": [
    "rut_unicos = pd.merge(\n",
    "    left=rut_unicos,\n",
    "    right=rut_unico_tiempo_,\n",
    "    how=\"left\",\n",
    "    left_on=\"Rut_T\",\n",
    "    right_on=\"rut_rut\",\n",
    ")\n",
    "\n",
    "#rutesi.to_excel(\"F:/Empresas SF/reportes/rutsyempresa.xlsx\", index=False)"
   ]
  },
  {
   "cell_type": "code",
   "execution_count": null,
   "metadata": {},
   "outputs": [],
   "source": [
    "rut_unicos.shape"
   ]
  },
  {
   "cell_type": "code",
   "execution_count": null,
   "metadata": {},
   "outputs": [],
   "source": [
    "rut_unicos.head()"
   ]
  },
  {
   "cell_type": "code",
   "execution_count": null,
   "metadata": {},
   "outputs": [],
   "source": [
    "rut_unicos = rut_unicos.drop_duplicates(\n",
    "    [\n",
    "        \"rut_rut\",\"poliza_rut\",\n",
    "    ],\n",
    "    keep=\"last\",\n",
    ")\n",
    "rut_unicos.shape"
   ]
  },
  {
   "cell_type": "code",
   "execution_count": null,
   "metadata": {},
   "outputs": [],
   "source": [
    "rut_unicos = pd.merge(\n",
    "    left=rut_unicos,\n",
    "    right=poliza,\n",
    "    how=\"left\",\n",
    "    left_on=\"poliza_rut\",\n",
    "    right_on=\"poliza\",\n",
    ")"
   ]
  },
  {
   "cell_type": "code",
   "execution_count": null,
   "metadata": {},
   "outputs": [],
   "source": [
    "rut_unicos.shape"
   ]
  },
  {
   "cell_type": "code",
   "execution_count": null,
   "metadata": {},
   "outputs": [],
   "source": [
    "rut_unicos.head()\n"
   ]
  },
  {
   "cell_type": "code",
   "execution_count": null,
   "metadata": {},
   "outputs": [],
   "source": [
    "rut_unicos.to_excel(\n",
    "    \"F:/Empresas SF/reportes/rut_unicos_No_Estan_SFTP_Agosto_2023_2.xlsx\", index=False\n",
    ")"
   ]
  }
 ],
 "metadata": {
  "kernelspec": {
   "display_name": "python11",
   "language": "python",
   "name": "python3"
  },
  "language_info": {
   "codemirror_mode": {
    "name": "ipython",
    "version": 3
   },
   "file_extension": ".py",
   "mimetype": "text/x-python",
   "name": "python",
   "nbconvert_exporter": "python",
   "pygments_lexer": "ipython3",
   "version": "3.9.12"
  }
 },
 "nbformat": 4,
 "nbformat_minor": 2
}
