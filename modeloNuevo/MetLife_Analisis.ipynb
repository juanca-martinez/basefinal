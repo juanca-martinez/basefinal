{
 "cells": [
  {
   "cell_type": "code",
   "execution_count": 1,
   "metadata": {
    "notebookRunGroups": {
     "groupValue": "1"
    }
   },
   "outputs": [],
   "source": [
    "from pathlib import Path\n",
    "import requests\n",
    "import pandas as pd\n",
    "import numpy as np\n",
    "from io import StringIO\n",
    "import shutil\n",
    "import datetime\n",
    "from datetime import datetime,date\n",
    "import re\n",
    "import json\n",
    "from pandas.api.types import is_numeric_dtype\n",
    "\n",
    "# from simple_salesforce import Salesforce, format_soql, format_external_id\n",
    "# from simple_salesforce.exceptions import SalesforceMalformedRequest\n",
    "# import simpler_sf\n",
    "from sqlalchemy import create_engine\n",
    "#import pymysql\n",
    "\n",
    "# from mysql import connector\n",
    "\n",
    "\n",
    "# paramiko.util.log_to_file(\"paramiko.log\")\n",
    "regex = re.compile(r\"([A-Za-z0-9]+[.-_])*[A-Za-z0-9]+@[A-Za-z0-9-]+(\\.[A-Z|a-z]{2,})+\")"
   ]
  },
  {
   "cell_type": "code",
   "execution_count": 2,
   "metadata": {
    "notebookRunGroups": {
     "groupValue": "1"
    }
   },
   "outputs": [],
   "source": [
    "# usuario = 'siempreread'\n",
    "# contrasena = 'S13mpr3_Ch1l3'\n",
    "# url_servidor = '209.151.148.250'\n",
    "puerto = \"3306\"\n",
    "esquema = \"MetLife_A\"\n",
    "plugin_autenticacion = \"mysql_native_password\"\n",
    "\n",
    "usuario = \"care_consulta\"\n",
    "contrasena = \"CareAssistance!10\"\n",
    "url_servidor = \"10.0.10.22\"\n",
    "\n",
    "# Conexión a la base de datos\n",
    "\n",
    "c_conexion = \"mysql+mysqlconnector://{0}:{1}@{2}:{3}/{4}?auth_plugin={5}\"\n",
    "c_conexion = c_conexion.format(\n",
    "    usuario, contrasena, url_servidor, puerto, esquema, plugin_autenticacion\n",
    ")\n",
    "motor_mysql_mariadb = create_engine(c_conexion)\n",
    "\n",
    "#table.to_sql(name='rut_unico_tiempo',con=motor_mysql_mariadb,if_exists = 'append')\n",
    "\n",
    "\n",
    "# archivo de salida modificar segun archivo\n",
    "# archivo = 'C:/Users/jmartinez/Desktop/casos nuevos/clientes/1/casos_faltantes_segun_archivo.xlsx'"
   ]
  },
  {
   "cell_type": "code",
   "execution_count": 3,
   "metadata": {
    "notebookRunGroups": {
     "groupValue": "1"
    }
   },
   "outputs": [
    {
     "name": "stderr",
     "output_type": "stream",
     "text": [
      "C:\\Users\\jmartinez\\AppData\\Local\\Temp\\ipykernel_16192\\386836739.py:10: FutureWarning: The default value of regex will change from True to False in a future version. In addition, single character regular expressions will *not* be treated as literal strings when regex=True.\n",
      "  rut_unicos[\"Rut_C\"] = rut_unicos[\"Rut_C\"].str.replace(\".\", \"\")\n",
      "C:\\Users\\jmartinez\\AppData\\Local\\Temp\\ipykernel_16192\\386836739.py:19: FutureWarning: The default value of regex will change from True to False in a future version. In addition, single character regular expressions will *not* be treated as literal strings when regex=True.\n",
      "  rut_unicos[\"Rut_T\"] = rut_unicos[\"Rut_T\"].str.replace(\".\", \"\")\n",
      "C:\\Users\\jmartinez\\AppData\\Local\\Temp\\ipykernel_16192\\386836739.py:25: FutureWarning: The default value of regex will change from True to False in a future version. In addition, single character regular expressions will *not* be treated as literal strings when regex=True.\n",
      "  rut_unicos[\"Nombre\"] = rut_unicos[\"Nombre\"].str.replace(\".\", \"\")\n"
     ]
    },
    {
     "data": {
      "text/plain": [
       "' rut_unicos.to_excel(\\n    \"F:/Empresas SF/reportes/rut_unicos_hasta_Marzo_2024.xlsx\", index=False\\n) '"
      ]
     },
     "execution_count": 3,
     "metadata": {},
     "output_type": "execute_result"
    }
   ],
   "source": [
    "# table.to_sql(name='prueba',con=motor_mysql_mariadb,if_exists = 'append')\n",
    "rut_unicos = pd.DataFrame()\n",
    "sql = \"SELECT * FROM MetLife_A.rut_unicos WHERE LEFT(Rut_T, 1) <> '0' \"\n",
    "rut_unicos = pd.read_sql_query(sql, con=motor_mysql_mariadb)\n",
    "\n",
    "rut_unicos[\"Rut_C\"] = rut_unicos[\"Rut_C\"].astype(str)\n",
    "rut_unicos[\"Rut_C\"] = rut_unicos[\"Rut_C\"].str.replace(\"-\", \"\")\n",
    "rut_unicos[\"Rut_C\"] = rut_unicos[\"Rut_C\"].str.replace(\"–\", \"\")\n",
    "rut_unicos[\"Rut_C\"] = rut_unicos[\"Rut_C\"].astype(str)\n",
    "rut_unicos[\"Rut_C\"] = rut_unicos[\"Rut_C\"].str.replace(\".\", \"\")\n",
    "rut_unicos[\"Rut_C\"] = rut_unicos[\"Rut_C\"].str.replace(\" \", \"\")\n",
    "rut_unicos[\"Rut_C\"] = rut_unicos[\"Rut_C\"].str.upper()\n",
    "rut_unicos[\"Rut_C\"] = rut_unicos[\"Rut_C\"].str.strip()\n",
    "\n",
    "rut_unicos[\"Rut_T\"] = rut_unicos[\"Rut_T\"].astype(str)\n",
    "rut_unicos[\"Rut_T\"] = rut_unicos[\"Rut_T\"].str.replace(\"-\", \"\")\n",
    "rut_unicos[\"Rut_T\"] = rut_unicos[\"Rut_T\"].str.replace(\"–\", \"\")\n",
    "rut_unicos[\"Rut_T\"] = rut_unicos[\"Rut_T\"].astype(str)\n",
    "rut_unicos[\"Rut_T\"] = rut_unicos[\"Rut_T\"].str.replace(\".\", \"\")\n",
    "rut_unicos[\"Rut_T\"] = rut_unicos[\"Rut_T\"].str.replace(\" \", \"\")\n",
    "rut_unicos[\"Rut_T\"] = rut_unicos[\"Rut_T\"].str.upper()\n",
    "rut_unicos[\"Rut_T\"] = rut_unicos[\"Rut_T\"].str.strip()\n",
    "\n",
    "rut_unicos[\"Nombre\"] = rut_unicos[\"Nombre\"].str.replace(\",\", \"\")\n",
    "rut_unicos[\"Nombre\"] = rut_unicos[\"Nombre\"].str.replace(\".\", \"\")\n",
    "rut_unicos[\"Nombre\"] = rut_unicos[\"Nombre\"].str.replace(\"-\", \"\")\n",
    "rut_unicos[\"Nombre\"] = rut_unicos[\"Nombre\"].str.replace(\"┐\", \"\")\n",
    "rut_unicos[\"Nombre\"] = rut_unicos[\"Nombre\"].str.replace(\"═\", \"\")\n",
    "rut_unicos[\"Nombre\"] = rut_unicos[\"Nombre\"].str.replace(\"╔\", \"\")\n",
    "rut_unicos[\"Nombre\"] = rut_unicos[\"Nombre\"].str.replace(\"┌\", \"\")\n",
    "rut_unicos[\"Nombre\"] = rut_unicos[\"Nombre\"].str.title()\n",
    "rut_unicos[\"Nombre\"] = rut_unicos[\"Nombre\"].str.strip()\n",
    "\n",
    "rut_unicos.shape\n",
    "\n",
    "\"\"\" rut_unicos.to_excel(\n",
    "    \"F:/Empresas SF/reportes/rut_unicos_hasta_Marzo_2024.xlsx\", index=False\n",
    ") \"\"\""
   ]
  },
  {
   "cell_type": "code",
   "execution_count": 4,
   "metadata": {
    "notebookRunGroups": {
     "groupValue": "1"
    }
   },
   "outputs": [
    {
     "data": {
      "text/plain": [
       "(7277009, 1)"
      ]
     },
     "execution_count": 4,
     "metadata": {},
     "output_type": "execute_result"
    }
   ],
   "source": [
    "rut_unico_tiempo_ = pd.DataFrame()\n",
    "sql = \"SELECT Llave FROM MetLife_A.rut_unico_tiempo \"\n",
    "rut_unico_tiempo_ = pd.read_sql_query(sql, con=motor_mysql_mariadb)\n",
    "\n",
    "rut_unico_tiempo_.shape"
   ]
  },
  {
   "cell_type": "code",
   "execution_count": 5,
   "metadata": {
    "notebookRunGroups": {
     "groupValue": "1"
    }
   },
   "outputs": [
    {
     "data": {
      "text/html": [
       "<div><div id=31bdf660-18a9-4642-8891-29357f5e3b3a style=\"display:none; background-color:#9D6CFF; color:white; width:200px; height:30px; padding-left:5px; border-radius:4px; flex-direction:row; justify-content:space-around; align-items:center;\" onmouseover=\"this.style.backgroundColor='#BA9BF8'\" onmouseout=\"this.style.backgroundColor='#9D6CFF'\" onclick=\"window.commands?.execute('create-mitosheet-from-dataframe-output');\">See Full Dataframe in Mito</div> <script> if (window.commands?.hasCommand('create-mitosheet-from-dataframe-output')) document.getElementById('31bdf660-18a9-4642-8891-29357f5e3b3a').style.display = 'flex' </script> <table border=\"1\" class=\"dataframe\">\n",
       "  <thead>\n",
       "    <tr style=\"text-align: right;\">\n",
       "      <th></th>\n",
       "      <th>Llave</th>\n",
       "    </tr>\n",
       "  </thead>\n",
       "  <tbody>\n",
       "    <tr>\n",
       "      <th>0</th>\n",
       "      <td>34002302717805539912023</td>\n",
       "    </tr>\n",
       "    <tr>\n",
       "      <th>1</th>\n",
       "      <td>34000243618617790812023</td>\n",
       "    </tr>\n",
       "    <tr>\n",
       "      <th>2</th>\n",
       "      <td>34002273710579623412023</td>\n",
       "    </tr>\n",
       "    <tr>\n",
       "      <th>3</th>\n",
       "      <td>34002317316849726112023</td>\n",
       "    </tr>\n",
       "    <tr>\n",
       "      <th>4</th>\n",
       "      <td>34000428510812004512023</td>\n",
       "    </tr>\n",
       "    <tr>\n",
       "      <th>5</th>\n",
       "      <td>3400230029816165112023</td>\n",
       "    </tr>\n",
       "    <tr>\n",
       "      <th>6</th>\n",
       "      <td>34002275520984896112023</td>\n",
       "    </tr>\n",
       "    <tr>\n",
       "      <th>7</th>\n",
       "      <td>34001998912596172K12023</td>\n",
       "    </tr>\n",
       "    <tr>\n",
       "      <th>8</th>\n",
       "      <td>34001207115907946512023</td>\n",
       "    </tr>\n",
       "  </tbody>\n",
       "</table></div>"
      ],
      "text/plain": [
       "                     Llave\n",
       "0  34002302717805539912023\n",
       "1  34000243618617790812023\n",
       "2  34002273710579623412023\n",
       "3  34002317316849726112023\n",
       "4  34000428510812004512023\n",
       "5   3400230029816165112023\n",
       "6  34002275520984896112023\n",
       "7  34001998912596172K12023\n",
       "8  34001207115907946512023"
      ]
     },
     "execution_count": 5,
     "metadata": {},
     "output_type": "execute_result"
    }
   ],
   "source": [
    "rut_unico_tiempo_.head(9)"
   ]
  },
  {
   "cell_type": "code",
   "execution_count": 6,
   "metadata": {
    "notebookRunGroups": {
     "groupValue": "1"
    }
   },
   "outputs": [],
   "source": [
    "def fechaValida(fecha):\n",
    "    if (len(str(fecha)) <= 9 ):\n",
    "        fecha = \"\"\n",
    "        \n",
    "    fecha = str(fecha)\n",
    "    fecha1 = str(fecha)\n",
    "    \n",
    "    #datetime.strptime(fecha, '%Y-%m-%d')\n",
    "    \n",
    "    try:\n",
    "        fecha = datetime.strptime(fecha, '%Y-%m-%d %H:%M:%S')\n",
    "        date_string = fecha1\n",
    "        #print(\"date_string =\", date_string)\n",
    "        #print(\"type of date_string =\", type(date_string))\n",
    "\n",
    "        date_object = datetime.strptime(date_string, \"%Y-%m-%d %H:%M:%S\")\n",
    "\n",
    "        #print(\"date_object =\", date_object)\n",
    "        #print(\"type of date_object =\", type(date_object))\n",
    "        return date_object\n",
    "    except ValueError:\n",
    "        return datetime.utcnow().strftime('%Y-%m-%d %H:%M:%S')"
   ]
  },
  {
   "cell_type": "code",
   "execution_count": 7,
   "metadata": {
    "notebookRunGroups": {
     "groupValue": "1"
    }
   },
   "outputs": [],
   "source": [
    "mes = 8\n",
    "año = \"2023\"\n",
    "fecha = año + \"-\" + str(mes) + \"-\" + \"01\"  \n",
    "mesesDic = {\n",
    "    1: \"Enero\",\n",
    "    2: \"Febrero\",\n",
    "    3: \"Marzo\",\n",
    "    4: \"Abril\",\n",
    "    5: \"Mayo\",\n",
    "    6: \"Junio\",\n",
    "    7: \"Julio\",\n",
    "    8: \"Agosto\",\n",
    "    9: \"Septiembre\",\n",
    "    10: \"Octubre\",\n",
    "    11: \"Noviembre\",\n",
    "    12: \"Diciembre\",\n",
    "}\n",
    "\n",
    "str(mesesDic[mes])\n",
    "\n",
    "\n",
    "\n",
    "sftp = \"F:/2024/MetLife/\" + str(mesesDic[mes]) + año + \"/Subir/sftp.xlsx\"\n",
    "\n",
    "\n",
    "# nuevos = \"F:/Empresas SF/reportes/carga.xlsx\"\n",
    "\n",
    "\n",
    "derty = pd.read_excel(sftp)"
   ]
  },
  {
   "cell_type": "code",
   "execution_count": 8,
   "metadata": {
    "notebookRunGroups": {
     "groupValue": "1"
    }
   },
   "outputs": [
    {
     "data": {
      "text/plain": [
       "(160371, 20)"
      ]
     },
     "execution_count": 8,
     "metadata": {},
     "output_type": "execute_result"
    }
   ],
   "source": [
    "derty.shape"
   ]
  },
  {
   "cell_type": "code",
   "execution_count": 9,
   "metadata": {
    "notebookRunGroups": {
     "groupValue": "1"
    }
   },
   "outputs": [],
   "source": [
    "metlife_sftp = pd.DataFrame()\n",
    "metlife_sftp = derty.copy()"
   ]
  },
  {
   "cell_type": "code",
   "execution_count": 10,
   "metadata": {
    "notebookRunGroups": {
     "groupValue": "1"
    }
   },
   "outputs": [
    {
     "name": "stderr",
     "output_type": "stream",
     "text": [
      "C:\\Users\\jmartinez\\AppData\\Local\\Temp\\ipykernel_16192\\3662042864.py:6: FutureWarning: The default value of regex will change from True to False in a future version. In addition, single character regular expressions will *not* be treated as literal strings when regex=True.\n",
      "  metlife_sftp[\"rut1\"] = metlife_sftp[\"rut1\"].str.replace(\".\", \"\")\n",
      "C:\\Users\\jmartinez\\AppData\\Local\\Temp\\ipykernel_16192\\3662042864.py:16: FutureWarning: The default value of regex will change from True to False in a future version. In addition, single character regular expressions will *not* be treated as literal strings when regex=True.\n",
      "  metlife_sftp[\"rut2\"] = metlife_sftp[\"rut2\"].str.replace(\".\", \"\")\n",
      "C:\\Users\\jmartinez\\AppData\\Local\\Temp\\ipykernel_16192\\3662042864.py:22: FutureWarning: The default value of regex will change from True to False in a future version. In addition, single character regular expressions will *not* be treated as literal strings when regex=True.\n",
      "  metlife_sftp[\"Nombre\"] = metlife_sftp[\"Nombre\"].str.replace(\".\", \"\")\n"
     ]
    },
    {
     "data": {
      "text/plain": [
       "(160371, 20)"
      ]
     },
     "execution_count": 10,
     "metadata": {},
     "output_type": "execute_result"
    }
   ],
   "source": [
    "\n",
    "\n",
    "metlife_sftp[\"rut1\"] = metlife_sftp[\"rut1\"].astype(str)\n",
    "#metlife_sftp[\"rut1\"] = metlife_sftp[\"rut1\"].apply(lambda y: siPrimerCero(y))\n",
    "metlife_sftp[\"rut1\"] = metlife_sftp[\"rut1\"].str.replace(\"-\", \"\")\n",
    "metlife_sftp[\"rut1\"] = metlife_sftp[\"rut1\"].str.replace(\"–\", \"\")\n",
    "metlife_sftp[\"rut1\"] = metlife_sftp[\"rut1\"].astype(str)\n",
    "metlife_sftp[\"rut1\"] = metlife_sftp[\"rut1\"].str.replace(\".\", \"\")\n",
    "metlife_sftp[\"rut1\"] = metlife_sftp[\"rut1\"].str.replace(\" \", \"\")\n",
    "metlife_sftp[\"rut1\"] = metlife_sftp[\"rut1\"].str.upper()\n",
    "metlife_sftp[\"rut1\"] = metlife_sftp[\"rut1\"].str.strip()\n",
    "\n",
    "metlife_sftp[\"rut2\"] = metlife_sftp[\"rut2\"].astype(str)\n",
    "#metlife_sftp[\"rut2\"] = metlife_sftp[\"rut2\"].apply(lambda y: siPrimerCero(y))\n",
    "metlife_sftp[\"rut2\"] = metlife_sftp[\"rut2\"].str.replace(\"-\", \"\")\n",
    "metlife_sftp[\"rut2\"] = metlife_sftp[\"rut2\"].str.replace(\"–\", \"\")\n",
    "metlife_sftp[\"rut2\"] = metlife_sftp[\"rut2\"].astype(str)\n",
    "metlife_sftp[\"rut2\"] = metlife_sftp[\"rut2\"].str.replace(\".\", \"\")\n",
    "metlife_sftp[\"rut2\"] = metlife_sftp[\"rut2\"].str.replace(\" \", \"\")\n",
    "metlife_sftp[\"rut2\"] = metlife_sftp[\"rut2\"].str.upper()\n",
    "metlife_sftp[\"rut2\"] = metlife_sftp[\"rut2\"].str.strip()\n",
    "\n",
    "metlife_sftp[\"Nombre\"] = metlife_sftp[\"Nombre\"].str.replace(\",\", \"\")\n",
    "metlife_sftp[\"Nombre\"] = metlife_sftp[\"Nombre\"].str.replace(\".\", \"\")\n",
    "metlife_sftp[\"Nombre\"] = metlife_sftp[\"Nombre\"].str.replace(\"-\", \"\")\n",
    "metlife_sftp[\"Nombre\"] = metlife_sftp[\"Nombre\"].str.replace(\"┐\", \"\")\n",
    "metlife_sftp[\"Nombre\"] = metlife_sftp[\"Nombre\"].str.replace(\"═\", \"\")\n",
    "metlife_sftp[\"Nombre\"] = metlife_sftp[\"Nombre\"].str.replace(\"╔\", \"\")\n",
    "metlife_sftp[\"Nombre\"] = metlife_sftp[\"Nombre\"].str.replace(\"┌\", \"\")\n",
    "metlife_sftp[\"Nombre\"] = metlife_sftp[\"Nombre\"].str.title()\n",
    "metlife_sftp[\"Nombre\"] = metlife_sftp[\"Nombre\"].str.strip()\n",
    "\n",
    "metlife_sftp[\"poliza\"] = metlife_sftp[\"poliza\"].astype(str)\n",
    "metlife_sftp[\"poliza\"] = metlife_sftp[\"poliza\"].str.strip()\n",
    "\n",
    "\n",
    "\n",
    "#*******************sacar primer cero\n",
    "metlife_sftp.shape"
   ]
  },
  {
   "cell_type": "code",
   "execution_count": 11,
   "metadata": {
    "notebookRunGroups": {
     "groupValue": "1"
    }
   },
   "outputs": [
    {
     "data": {
      "text/html": [
       "<div><div id=60a82733-4bac-48a1-892e-752a5d0889c2 style=\"display:none; background-color:#9D6CFF; color:white; width:200px; height:30px; padding-left:5px; border-radius:4px; flex-direction:row; justify-content:space-around; align-items:center;\" onmouseover=\"this.style.backgroundColor='#BA9BF8'\" onmouseout=\"this.style.backgroundColor='#9D6CFF'\" onclick=\"window.commands?.execute('create-mitosheet-from-dataframe-output');\">See Full Dataframe in Mito</div> <script> if (window.commands?.hasCommand('create-mitosheet-from-dataframe-output')) document.getElementById('60a82733-4bac-48a1-892e-752a5d0889c2').style.display = 'flex' </script> <table border=\"1\" class=\"dataframe\">\n",
       "  <thead>\n",
       "    <tr style=\"text-align: right;\">\n",
       "      <th></th>\n",
       "      <th>poliza</th>\n",
       "      <th>RUTASEGURADO</th>\n",
       "      <th>DV</th>\n",
       "      <th>rut1</th>\n",
       "      <th>RUTBENEFICIARIO</th>\n",
       "      <th>RUTBENEFIARIO_DV</th>\n",
       "      <th>rut2</th>\n",
       "      <th>fdgd</th>\n",
       "      <th>FNAC</th>\n",
       "      <th>SEXO</th>\n",
       "      <th>DIRECCION</th>\n",
       "      <th>COMUNA</th>\n",
       "      <th>CIUDAD</th>\n",
       "      <th>TELEFONO</th>\n",
       "      <th>RELACION</th>\n",
       "      <th>desde</th>\n",
       "      <th>hasta</th>\n",
       "      <th>Nombre</th>\n",
       "      <th>EMAIL</th>\n",
       "      <th>NROCELULAR</th>\n",
       "    </tr>\n",
       "  </thead>\n",
       "  <tbody>\n",
       "    <tr>\n",
       "      <th>0</th>\n",
       "      <td>340006458</td>\n",
       "      <td>12345</td>\n",
       "      <td>5</td>\n",
       "      <td>123455</td>\n",
       "      <td>12345</td>\n",
       "      <td>5</td>\n",
       "      <td>123455</td>\n",
       "      <td>1</td>\n",
       "      <td>29014</td>\n",
       "      <td>M</td>\n",
       "      <td>NaN</td>\n",
       "      <td>NaN</td>\n",
       "      <td>NaN</td>\n",
       "      <td>NaN</td>\n",
       "      <td>AS</td>\n",
       "      <td>2016-03-01</td>\n",
       "      <td>NaT</td>\n",
       "      <td>Puebla Abarca Nelson Hernan</td>\n",
       "      <td>NaN</td>\n",
       "      <td>NaN</td>\n",
       "    </tr>\n",
       "    <tr>\n",
       "      <th>1</th>\n",
       "      <td>340011238</td>\n",
       "      <td>1701221</td>\n",
       "      <td>5</td>\n",
       "      <td>17012215</td>\n",
       "      <td>1701221</td>\n",
       "      <td>5</td>\n",
       "      <td>17012215</td>\n",
       "      <td>1</td>\n",
       "      <td>12789</td>\n",
       "      <td>F</td>\n",
       "      <td>MONTENEGRO 189 DPTO103-B</td>\n",
       "      <td>ÑUÑOA</td>\n",
       "      <td>SANTIAGO</td>\n",
       "      <td>229811223</td>\n",
       "      <td>AS</td>\n",
       "      <td>2016-08-01</td>\n",
       "      <td>NaT</td>\n",
       "      <td>Castro Grimberg Ester</td>\n",
       "      <td>ester.castro1@gmail.com</td>\n",
       "      <td>NaN</td>\n",
       "    </tr>\n",
       "    <tr>\n",
       "      <th>2</th>\n",
       "      <td>340011238</td>\n",
       "      <td>2239787</td>\n",
       "      <td>7</td>\n",
       "      <td>22397877</td>\n",
       "      <td>2239787</td>\n",
       "      <td>7</td>\n",
       "      <td>22397877</td>\n",
       "      <td>1</td>\n",
       "      <td>10443</td>\n",
       "      <td>M</td>\n",
       "      <td>CONCEPCION 945  PB PATRONA DE CHILE</td>\n",
       "      <td>MAIPÚ</td>\n",
       "      <td>NaN</td>\n",
       "      <td>NaN</td>\n",
       "      <td>AS</td>\n",
       "      <td>2016-08-01</td>\n",
       "      <td>NaT</td>\n",
       "      <td>Salazar  Fernando</td>\n",
       "      <td>NaN</td>\n",
       "      <td>NaN</td>\n",
       "    </tr>\n",
       "    <tr>\n",
       "      <th>3</th>\n",
       "      <td>340011238</td>\n",
       "      <td>2266265</td>\n",
       "      <td>1</td>\n",
       "      <td>22662651</td>\n",
       "      <td>2266265</td>\n",
       "      <td>1</td>\n",
       "      <td>22662651</td>\n",
       "      <td>1</td>\n",
       "      <td>9339</td>\n",
       "      <td>F</td>\n",
       "      <td>NaN</td>\n",
       "      <td>NaN</td>\n",
       "      <td>NaN</td>\n",
       "      <td>NaN</td>\n",
       "      <td>AS</td>\n",
       "      <td>2016-08-01</td>\n",
       "      <td>NaT</td>\n",
       "      <td>Bonvallet Lohaus Berta</td>\n",
       "      <td>NaN</td>\n",
       "      <td>NaN</td>\n",
       "    </tr>\n",
       "    <tr>\n",
       "      <th>4</th>\n",
       "      <td>340011238</td>\n",
       "      <td>2626779</td>\n",
       "      <td>K</td>\n",
       "      <td>2626779K</td>\n",
       "      <td>2626779</td>\n",
       "      <td>K</td>\n",
       "      <td>2626779K</td>\n",
       "      <td>1</td>\n",
       "      <td>9663</td>\n",
       "      <td>M</td>\n",
       "      <td>A ESPINOZA 18  POBL M MONTT</td>\n",
       "      <td>PUERTO MONTT</td>\n",
       "      <td>NaN</td>\n",
       "      <td>65-255795 / 68717350</td>\n",
       "      <td>AS</td>\n",
       "      <td>2016-08-01</td>\n",
       "      <td>NaT</td>\n",
       "      <td>Oliva Rosas Hector</td>\n",
       "      <td>NaN</td>\n",
       "      <td>NaN</td>\n",
       "    </tr>\n",
       "  </tbody>\n",
       "</table></div>"
      ],
      "text/plain": [
       "      poliza  RUTASEGURADO DV      rut1  RUTBENEFICIARIO RUTBENEFIARIO_DV  \\\n",
       "0  340006458         12345  5    123455            12345                5   \n",
       "1  340011238       1701221  5  17012215          1701221                5   \n",
       "2  340011238       2239787  7  22397877          2239787                7   \n",
       "3  340011238       2266265  1  22662651          2266265                1   \n",
       "4  340011238       2626779  K  2626779K          2626779                K   \n",
       "\n",
       "       rut2  fdgd   FNAC SEXO                            DIRECCION  \\\n",
       "0    123455     1  29014    M                                  NaN   \n",
       "1  17012215     1  12789    F             MONTENEGRO 189 DPTO103-B   \n",
       "2  22397877     1  10443    M  CONCEPCION 945  PB PATRONA DE CHILE   \n",
       "3  22662651     1   9339    F                                  NaN   \n",
       "4  2626779K     1   9663    M          A ESPINOZA 18  POBL M MONTT   \n",
       "\n",
       "         COMUNA    CIUDAD              TELEFONO RELACION      desde hasta  \\\n",
       "0           NaN       NaN                   NaN       AS 2016-03-01   NaT   \n",
       "1         ÑUÑOA  SANTIAGO             229811223       AS 2016-08-01   NaT   \n",
       "2         MAIPÚ       NaN                   NaN       AS 2016-08-01   NaT   \n",
       "3           NaN       NaN                   NaN       AS 2016-08-01   NaT   \n",
       "4  PUERTO MONTT       NaN  65-255795 / 68717350       AS 2016-08-01   NaT   \n",
       "\n",
       "                        Nombre                    EMAIL NROCELULAR  \n",
       "0  Puebla Abarca Nelson Hernan                      NaN        NaN  \n",
       "1        Castro Grimberg Ester  ester.castro1@gmail.com        NaN  \n",
       "2            Salazar  Fernando                      NaN        NaN  \n",
       "3       Bonvallet Lohaus Berta                      NaN        NaN  \n",
       "4           Oliva Rosas Hector                      NaN        NaN  "
      ]
     },
     "execution_count": 11,
     "metadata": {},
     "output_type": "execute_result"
    }
   ],
   "source": [
    "metlife_sftp.head()"
   ]
  },
  {
   "cell_type": "code",
   "execution_count": 12,
   "metadata": {
    "notebookRunGroups": {
     "groupValue": "1"
    }
   },
   "outputs": [],
   "source": [
    "def siPrimerCero(y):    \n",
    "    if len(y) <= 4:\n",
    "        y =  \"NONE\"\n",
    "    if y[0] == \"0\":\n",
    "        y = y[1:]\n",
    "    return str(y)\n",
    "    "
   ]
  },
  {
   "cell_type": "code",
   "execution_count": 13,
   "metadata": {
    "notebookRunGroups": {
     "groupValue": "1"
    }
   },
   "outputs": [
    {
     "data": {
      "text/plain": [
       "(160371, 21)"
      ]
     },
     "execution_count": 13,
     "metadata": {},
     "output_type": "execute_result"
    }
   ],
   "source": [
    "metlife_sftp[\"rut1\"] = metlife_sftp[\"rut1\"].apply(lambda y: siPrimerCero(y))\n",
    "metlife_sftp[\"rut2\"] = metlife_sftp[\"rut2\"].apply(lambda y: siPrimerCero(y))\n",
    "metlife_sftp = metlife_sftp[(metlife_sftp[\"rut1\"] != \"NONE\")]\n",
    "metlife_sftp = metlife_sftp[(metlife_sftp[\"rut2\"] != \"NONE\")]\n",
    "\n",
    "\n",
    "metlife_sftp[\"Titular\"] = np.where(metlife_sftp[\"rut1\"] == metlife_sftp[\"rut2\"],1,2 )\n",
    "metlife_sftp = metlife_sftp[(metlife_sftp[\"Titular\"] == 1)]\n",
    "metlife_sftp = metlife_sftp.drop_duplicates(\n",
    "    [\n",
    "        \"rut1\",\"poliza\",\n",
    "    ],\n",
    "    keep=\"last\",\n",
    ")\n",
    "\n",
    "metlife_sftp.shape"
   ]
  },
  {
   "cell_type": "code",
   "execution_count": 14,
   "metadata": {
    "notebookRunGroups": {
     "groupValue": "1"
    }
   },
   "outputs": [
    {
     "name": "stderr",
     "output_type": "stream",
     "text": [
      "C:\\Users\\jmartinez\\AppData\\Local\\Temp\\ipykernel_16192\\2005110109.py:14: FutureWarning: The default value of regex will change from True to False in a future version. In addition, single character regular expressions will *not* be treated as literal strings when regex=True.\n",
      "  metlife_correo[\"rut1\"] = metlife_correo[\"rut1\"].str.replace(\".\", \"\")\n",
      "C:\\Users\\jmartinez\\AppData\\Local\\Temp\\ipykernel_16192\\2005110109.py:24: FutureWarning: The default value of regex will change from True to False in a future version. In addition, single character regular expressions will *not* be treated as literal strings when regex=True.\n",
      "  metlife_correo[\"rut2\"] = metlife_correo[\"rut2\"].str.replace(\".\", \"\")\n",
      "C:\\Users\\jmartinez\\AppData\\Local\\Temp\\ipykernel_16192\\2005110109.py:30: FutureWarning: The default value of regex will change from True to False in a future version. In addition, single character regular expressions will *not* be treated as literal strings when regex=True.\n",
      "  metlife_correo[\"Nombre\"] = metlife_correo[\"Nombre\"].str.replace(\".\", \"\")\n"
     ]
    },
    {
     "data": {
      "text/plain": [
       "(160371, 20)"
      ]
     },
     "execution_count": 14,
     "metadata": {},
     "output_type": "execute_result"
    }
   ],
   "source": [
    "correo = \"F:/2024/MetLife/\" + str(mesesDic[mes]) + año + \"/Subir/correo.xlsx\"\n",
    "dertyc = pd.read_excel(correo)\n",
    "metlife_correo = dertyc.copy()\n",
    "\n",
    "# nuevos = \"F:/Empresas SF/reportes/carga.xlsx\"\n",
    "\n",
    "\n",
    "\n",
    "metlife_correo[\"rut1\"] = metlife_correo[\"rut1\"].astype(str)\n",
    "#metlife_sftp[\"rut1\"] = metlife_sftp[\"rut1\"].apply(lambda y: siPrimerCero(y))\n",
    "metlife_correo[\"rut1\"] = metlife_correo[\"rut1\"].str.replace(\"-\", \"\")\n",
    "metlife_correo[\"rut1\"] = metlife_correo[\"rut1\"].str.replace(\"–\", \"\")\n",
    "metlife_correo[\"rut1\"] = metlife_correo[\"rut1\"].astype(str)\n",
    "metlife_correo[\"rut1\"] = metlife_correo[\"rut1\"].str.replace(\".\", \"\")\n",
    "metlife_correo[\"rut1\"] = metlife_correo[\"rut1\"].str.replace(\" \", \"\")\n",
    "metlife_correo[\"rut1\"] = metlife_correo[\"rut1\"].str.upper()\n",
    "metlife_correo[\"rut1\"] = metlife_correo[\"rut1\"].str.strip()\n",
    "\n",
    "metlife_correo[\"rut2\"] = metlife_correo[\"rut2\"].astype(str)\n",
    "#metlife_sftp[\"rut2\"] = metlife_sftp[\"rut2\"].apply(lambda y: siPrimerCero(y))\n",
    "metlife_correo[\"rut2\"] = metlife_correo[\"rut2\"].str.replace(\"-\", \"\")\n",
    "metlife_correo[\"rut2\"] = metlife_correo[\"rut2\"].str.replace(\"–\", \"\")\n",
    "metlife_correo[\"rut2\"] = metlife_correo[\"rut2\"].astype(str)\n",
    "metlife_correo[\"rut2\"] = metlife_correo[\"rut2\"].str.replace(\".\", \"\")\n",
    "metlife_correo[\"rut2\"] = metlife_correo[\"rut2\"].str.replace(\" \", \"\")\n",
    "metlife_correo[\"rut2\"] = metlife_correo[\"rut2\"].str.upper()\n",
    "metlife_correo[\"rut2\"] = metlife_correo[\"rut2\"].str.strip()\n",
    "\n",
    "metlife_correo[\"Nombre\"] = metlife_correo[\"Nombre\"].str.replace(\",\", \"\")\n",
    "metlife_correo[\"Nombre\"] = metlife_correo[\"Nombre\"].str.replace(\".\", \"\")\n",
    "metlife_correo[\"Nombre\"] = metlife_correo[\"Nombre\"].str.replace(\"-\", \"\")\n",
    "metlife_correo[\"Nombre\"] = metlife_correo[\"Nombre\"].str.replace(\"┐\", \"\")\n",
    "metlife_correo[\"Nombre\"] = metlife_correo[\"Nombre\"].str.replace(\"═\", \"\")\n",
    "metlife_correo[\"Nombre\"] = metlife_correo[\"Nombre\"].str.replace(\"╔\", \"\")\n",
    "metlife_correo[\"Nombre\"] = metlife_correo[\"Nombre\"].str.replace(\"┌\", \"\")\n",
    "metlife_correo[\"Nombre\"] = metlife_correo[\"Nombre\"].str.title()\n",
    "metlife_correo[\"Nombre\"] = metlife_correo[\"Nombre\"].str.strip()\n",
    "\n",
    "metlife_correo[\"poliza\"] = metlife_correo[\"poliza\"].astype(str)\n",
    "metlife_correo[\"poliza\"] = metlife_correo[\"poliza\"].str.strip()\n",
    "\n",
    "\n",
    "\n",
    "\n",
    "#*******************sacar primer cero\n",
    "metlife_correo.shape\n",
    "#derty = pd.read_excel(sftp)"
   ]
  },
  {
   "cell_type": "code",
   "execution_count": 15,
   "metadata": {
    "notebookRunGroups": {
     "groupValue": "1"
    }
   },
   "outputs": [
    {
     "data": {
      "text/plain": [
       "(160371, 21)"
      ]
     },
     "execution_count": 15,
     "metadata": {},
     "output_type": "execute_result"
    }
   ],
   "source": [
    "metlife_correo[\"rut1\"] = metlife_correo[\"rut1\"].apply(lambda y: siPrimerCero(y))\n",
    "metlife_correo[\"rut2\"] = metlife_correo[\"rut2\"].apply(lambda y: siPrimerCero(y))\n",
    "metlife_correo = metlife_correo[(metlife_correo[\"rut1\"] != \"NONE\")]\n",
    "metlife_correo = metlife_correo[(metlife_correo[\"rut2\"] != \"NONE\")]\n",
    "\n",
    "metlife_correo[\"Titular\"] = np.where(metlife_correo[\"rut1\"] == metlife_correo[\"rut2\"],1,2 )\n",
    "metlife_correo = metlife_correo[(metlife_correo[\"Titular\"] == 1)]\n",
    "metlife_correo = metlife_correo.drop_duplicates(\n",
    "    [\n",
    "        \"rut1\",\"poliza\"\n",
    "    ],\n",
    "    keep=\"last\",\n",
    ")\n",
    "\n",
    "metlife_correo.shape"
   ]
  },
  {
   "cell_type": "code",
   "execution_count": 16,
   "metadata": {
    "notebookRunGroups": {
     "groupValue": "1"
    }
   },
   "outputs": [],
   "source": [
    "web = \"F:/2024/MetLife/\" + str(mesesDic[mes]) + año + \"/Subir/web.xlsx\"\n",
    "dertyd = pd.read_excel(web)\n"
   ]
  },
  {
   "cell_type": "code",
   "execution_count": 17,
   "metadata": {
    "notebookRunGroups": {
     "groupValue": "1"
    }
   },
   "outputs": [
    {
     "data": {
      "text/html": [
       "<div><div id=b2b2a6d1-1f4f-43e6-8d23-a1155482314d style=\"display:none; background-color:#9D6CFF; color:white; width:200px; height:30px; padding-left:5px; border-radius:4px; flex-direction:row; justify-content:space-around; align-items:center;\" onmouseover=\"this.style.backgroundColor='#BA9BF8'\" onmouseout=\"this.style.backgroundColor='#9D6CFF'\" onclick=\"window.commands?.execute('create-mitosheet-from-dataframe-output');\">See Full Dataframe in Mito</div> <script> if (window.commands?.hasCommand('create-mitosheet-from-dataframe-output')) document.getElementById('b2b2a6d1-1f4f-43e6-8d23-a1155482314d').style.display = 'flex' </script> <table border=\"1\" class=\"dataframe\">\n",
       "  <thead>\n",
       "    <tr style=\"text-align: right;\">\n",
       "      <th></th>\n",
       "      <th>poliza</th>\n",
       "      <th>RUTASEGURADO</th>\n",
       "      <th>DV</th>\n",
       "      <th>rut1</th>\n",
       "      <th>RUTBENEFICIARIO</th>\n",
       "      <th>RUTBENEFIARIO_DV</th>\n",
       "      <th>rut2</th>\n",
       "      <th>fdgd</th>\n",
       "      <th>FNAC</th>\n",
       "      <th>SEXO</th>\n",
       "      <th>DIRECCION</th>\n",
       "      <th>COMUNA</th>\n",
       "      <th>CIUDAD</th>\n",
       "      <th>TELEFONO</th>\n",
       "      <th>RELACION</th>\n",
       "      <th>desde</th>\n",
       "      <th>hasta</th>\n",
       "      <th>Nombre</th>\n",
       "      <th>EMAIL</th>\n",
       "      <th>NROCELULAR</th>\n",
       "    </tr>\n",
       "  </thead>\n",
       "  <tbody>\n",
       "    <tr>\n",
       "      <th>0</th>\n",
       "      <td>340006458</td>\n",
       "      <td>12345</td>\n",
       "      <td>5</td>\n",
       "      <td>123455</td>\n",
       "      <td>12345</td>\n",
       "      <td>5</td>\n",
       "      <td>123455</td>\n",
       "      <td>1</td>\n",
       "      <td>29014</td>\n",
       "      <td>M</td>\n",
       "      <td>NaN</td>\n",
       "      <td>NaN</td>\n",
       "      <td>NaN</td>\n",
       "      <td>NaN</td>\n",
       "      <td>AS</td>\n",
       "      <td>2016-03-01</td>\n",
       "      <td>NaT</td>\n",
       "      <td>Puebla Abarca Nelson Hernan</td>\n",
       "      <td>NaN</td>\n",
       "      <td>NaN</td>\n",
       "    </tr>\n",
       "    <tr>\n",
       "      <th>1</th>\n",
       "      <td>340011238</td>\n",
       "      <td>1701221</td>\n",
       "      <td>5</td>\n",
       "      <td>17012215</td>\n",
       "      <td>1701221</td>\n",
       "      <td>5</td>\n",
       "      <td>17012215</td>\n",
       "      <td>1</td>\n",
       "      <td>12789</td>\n",
       "      <td>F</td>\n",
       "      <td>MONTENEGRO 189 DPTO103-B</td>\n",
       "      <td>ÑUÑOA</td>\n",
       "      <td>SANTIAGO</td>\n",
       "      <td>229811223</td>\n",
       "      <td>AS</td>\n",
       "      <td>2016-08-01</td>\n",
       "      <td>NaT</td>\n",
       "      <td>Castro Grimberg Ester</td>\n",
       "      <td>ester.castro1@gmail.com</td>\n",
       "      <td>NaN</td>\n",
       "    </tr>\n",
       "    <tr>\n",
       "      <th>2</th>\n",
       "      <td>340011238</td>\n",
       "      <td>2239787</td>\n",
       "      <td>7</td>\n",
       "      <td>22397877</td>\n",
       "      <td>2239787</td>\n",
       "      <td>7</td>\n",
       "      <td>22397877</td>\n",
       "      <td>1</td>\n",
       "      <td>10443</td>\n",
       "      <td>M</td>\n",
       "      <td>CONCEPCION 945  PB PATRONA DE CHILE</td>\n",
       "      <td>MAIPÚ</td>\n",
       "      <td>NaN</td>\n",
       "      <td>NaN</td>\n",
       "      <td>AS</td>\n",
       "      <td>2016-08-01</td>\n",
       "      <td>NaT</td>\n",
       "      <td>Salazar  Fernando</td>\n",
       "      <td>NaN</td>\n",
       "      <td>NaN</td>\n",
       "    </tr>\n",
       "    <tr>\n",
       "      <th>3</th>\n",
       "      <td>340011238</td>\n",
       "      <td>2266265</td>\n",
       "      <td>1</td>\n",
       "      <td>22662651</td>\n",
       "      <td>2266265</td>\n",
       "      <td>1</td>\n",
       "      <td>22662651</td>\n",
       "      <td>1</td>\n",
       "      <td>9339</td>\n",
       "      <td>F</td>\n",
       "      <td>NaN</td>\n",
       "      <td>NaN</td>\n",
       "      <td>NaN</td>\n",
       "      <td>NaN</td>\n",
       "      <td>AS</td>\n",
       "      <td>2016-08-01</td>\n",
       "      <td>NaT</td>\n",
       "      <td>Bonvallet Lohaus Berta</td>\n",
       "      <td>NaN</td>\n",
       "      <td>NaN</td>\n",
       "    </tr>\n",
       "    <tr>\n",
       "      <th>4</th>\n",
       "      <td>340011238</td>\n",
       "      <td>2626779</td>\n",
       "      <td>K</td>\n",
       "      <td>2626779K</td>\n",
       "      <td>2626779</td>\n",
       "      <td>K</td>\n",
       "      <td>2626779K</td>\n",
       "      <td>1</td>\n",
       "      <td>9663</td>\n",
       "      <td>M</td>\n",
       "      <td>A ESPINOZA 18  POBL M MONTT</td>\n",
       "      <td>PUERTO MONTT</td>\n",
       "      <td>NaN</td>\n",
       "      <td>65-255795 / 68717350</td>\n",
       "      <td>AS</td>\n",
       "      <td>2016-08-01</td>\n",
       "      <td>NaT</td>\n",
       "      <td>Oliva Rosas Hector</td>\n",
       "      <td>NaN</td>\n",
       "      <td>NaN</td>\n",
       "    </tr>\n",
       "    <tr>\n",
       "      <th>5</th>\n",
       "      <td>340022643</td>\n",
       "      <td>2693013</td>\n",
       "      <td>8</td>\n",
       "      <td>26930138</td>\n",
       "      <td>2693013</td>\n",
       "      <td>8</td>\n",
       "      <td>26930138</td>\n",
       "      <td>1</td>\n",
       "      <td>10612</td>\n",
       "      <td>M</td>\n",
       "      <td>ORTUZAR 1064</td>\n",
       "      <td>ÑUÑOA</td>\n",
       "      <td>NaN</td>\n",
       "      <td>NaN</td>\n",
       "      <td>AS</td>\n",
       "      <td>2022-09-01</td>\n",
       "      <td>NaT</td>\n",
       "      <td>Guzman Campos Mario</td>\n",
       "      <td>NaN</td>\n",
       "      <td>NaN</td>\n",
       "    </tr>\n",
       "    <tr>\n",
       "      <th>6</th>\n",
       "      <td>340011238</td>\n",
       "      <td>2710995</td>\n",
       "      <td>0</td>\n",
       "      <td>27109950</td>\n",
       "      <td>2710995</td>\n",
       "      <td>0</td>\n",
       "      <td>27109950</td>\n",
       "      <td>1</td>\n",
       "      <td>11982</td>\n",
       "      <td>F</td>\n",
       "      <td>PTO NATALES 6415  V BRASIL</td>\n",
       "      <td>LA GRANJA</td>\n",
       "      <td>NaN</td>\n",
       "      <td>225258332</td>\n",
       "      <td>AS</td>\n",
       "      <td>2016-08-01</td>\n",
       "      <td>NaT</td>\n",
       "      <td>Cardenas Elgueta Virginia</td>\n",
       "      <td>notiene@metlife.cl</td>\n",
       "      <td>NaN</td>\n",
       "    </tr>\n",
       "    <tr>\n",
       "      <th>7</th>\n",
       "      <td>340011238</td>\n",
       "      <td>2747250</td>\n",
       "      <td>8</td>\n",
       "      <td>27472508</td>\n",
       "      <td>2747250</td>\n",
       "      <td>8</td>\n",
       "      <td>27472508</td>\n",
       "      <td>1</td>\n",
       "      <td>11862</td>\n",
       "      <td>M</td>\n",
       "      <td>GOTEMBURGO 220  DPTO 191</td>\n",
       "      <td>LAS CONDES</td>\n",
       "      <td>NaN</td>\n",
       "      <td>2110783</td>\n",
       "      <td>AS</td>\n",
       "      <td>2016-08-01</td>\n",
       "      <td>NaT</td>\n",
       "      <td>Rodriguez Lacunza Alfonso</td>\n",
       "      <td>eliana.rodriguez@esmax.cl</td>\n",
       "      <td>NaN</td>\n",
       "    </tr>\n",
       "    <tr>\n",
       "      <th>8</th>\n",
       "      <td>340019776</td>\n",
       "      <td>2884455</td>\n",
       "      <td>7</td>\n",
       "      <td>28844557</td>\n",
       "      <td>2884455</td>\n",
       "      <td>7</td>\n",
       "      <td>28844557</td>\n",
       "      <td>1</td>\n",
       "      <td>13701</td>\n",
       "      <td>M</td>\n",
       "      <td>CURAMAVIDA 678</td>\n",
       "      <td>LAS CONDES</td>\n",
       "      <td>NaN</td>\n",
       "      <td>NaN</td>\n",
       "      <td>AS</td>\n",
       "      <td>2022-06-01</td>\n",
       "      <td>NaT</td>\n",
       "      <td>Von Appen Behrmann Wolf Hansalbe</td>\n",
       "      <td>WVONAPPEN@ULTRAMAR.CL</td>\n",
       "      <td>NaN</td>\n",
       "    </tr>\n",
       "  </tbody>\n",
       "</table></div>"
      ],
      "text/plain": [
       "      poliza  RUTASEGURADO DV      rut1  RUTBENEFICIARIO RUTBENEFIARIO_DV  \\\n",
       "0  340006458         12345  5    123455            12345                5   \n",
       "1  340011238       1701221  5  17012215          1701221                5   \n",
       "2  340011238       2239787  7  22397877          2239787                7   \n",
       "3  340011238       2266265  1  22662651          2266265                1   \n",
       "4  340011238       2626779  K  2626779K          2626779                K   \n",
       "5  340022643       2693013  8  26930138          2693013                8   \n",
       "6  340011238       2710995  0  27109950          2710995                0   \n",
       "7  340011238       2747250  8  27472508          2747250                8   \n",
       "8  340019776       2884455  7  28844557          2884455                7   \n",
       "\n",
       "       rut2  fdgd   FNAC SEXO                            DIRECCION  \\\n",
       "0    123455     1  29014    M                                  NaN   \n",
       "1  17012215     1  12789    F             MONTENEGRO 189 DPTO103-B   \n",
       "2  22397877     1  10443    M  CONCEPCION 945  PB PATRONA DE CHILE   \n",
       "3  22662651     1   9339    F                                  NaN   \n",
       "4  2626779K     1   9663    M          A ESPINOZA 18  POBL M MONTT   \n",
       "5  26930138     1  10612    M                         ORTUZAR 1064   \n",
       "6  27109950     1  11982    F           PTO NATALES 6415  V BRASIL   \n",
       "7  27472508     1  11862    M             GOTEMBURGO 220  DPTO 191   \n",
       "8  28844557     1  13701    M                       CURAMAVIDA 678   \n",
       "\n",
       "         COMUNA    CIUDAD              TELEFONO RELACION      desde hasta  \\\n",
       "0           NaN       NaN                   NaN       AS 2016-03-01   NaT   \n",
       "1         ÑUÑOA  SANTIAGO             229811223       AS 2016-08-01   NaT   \n",
       "2         MAIPÚ       NaN                   NaN       AS 2016-08-01   NaT   \n",
       "3           NaN       NaN                   NaN       AS 2016-08-01   NaT   \n",
       "4  PUERTO MONTT       NaN  65-255795 / 68717350       AS 2016-08-01   NaT   \n",
       "5         ÑUÑOA       NaN                   NaN       AS 2022-09-01   NaT   \n",
       "6     LA GRANJA       NaN             225258332       AS 2016-08-01   NaT   \n",
       "7    LAS CONDES       NaN               2110783       AS 2016-08-01   NaT   \n",
       "8    LAS CONDES       NaN                   NaN       AS 2022-06-01   NaT   \n",
       "\n",
       "                             Nombre                      EMAIL NROCELULAR  \n",
       "0       Puebla Abarca Nelson Hernan                        NaN        NaN  \n",
       "1             Castro Grimberg Ester    ester.castro1@gmail.com        NaN  \n",
       "2                 Salazar  Fernando                        NaN        NaN  \n",
       "3            Bonvallet Lohaus Berta                        NaN        NaN  \n",
       "4                Oliva Rosas Hector                        NaN        NaN  \n",
       "5               Guzman Campos Mario                        NaN        NaN  \n",
       "6         Cardenas Elgueta Virginia         notiene@metlife.cl        NaN  \n",
       "7         Rodriguez Lacunza Alfonso  eliana.rodriguez@esmax.cl        NaN  \n",
       "8  Von Appen Behrmann Wolf Hansalbe      WVONAPPEN@ULTRAMAR.CL        NaN  "
      ]
     },
     "execution_count": 17,
     "metadata": {},
     "output_type": "execute_result"
    }
   ],
   "source": [
    "dertyd.head(9)"
   ]
  },
  {
   "cell_type": "code",
   "execution_count": 18,
   "metadata": {
    "notebookRunGroups": {
     "groupValue": "1"
    }
   },
   "outputs": [],
   "source": [
    "metlife_web = dertyd.copy()"
   ]
  },
  {
   "cell_type": "code",
   "execution_count": 19,
   "metadata": {
    "notebookRunGroups": {
     "groupValue": "1"
    }
   },
   "outputs": [
    {
     "data": {
      "text/html": [
       "<div><div id=ed119b37-a751-439c-ac4d-92a2b0181add style=\"display:none; background-color:#9D6CFF; color:white; width:200px; height:30px; padding-left:5px; border-radius:4px; flex-direction:row; justify-content:space-around; align-items:center;\" onmouseover=\"this.style.backgroundColor='#BA9BF8'\" onmouseout=\"this.style.backgroundColor='#9D6CFF'\" onclick=\"window.commands?.execute('create-mitosheet-from-dataframe-output');\">See Full Dataframe in Mito</div> <script> if (window.commands?.hasCommand('create-mitosheet-from-dataframe-output')) document.getElementById('ed119b37-a751-439c-ac4d-92a2b0181add').style.display = 'flex' </script> <table border=\"1\" class=\"dataframe\">\n",
       "  <thead>\n",
       "    <tr style=\"text-align: right;\">\n",
       "      <th></th>\n",
       "      <th>poliza</th>\n",
       "      <th>RUTASEGURADO</th>\n",
       "      <th>DV</th>\n",
       "      <th>rut1</th>\n",
       "      <th>RUTBENEFICIARIO</th>\n",
       "      <th>RUTBENEFIARIO_DV</th>\n",
       "      <th>rut2</th>\n",
       "      <th>fdgd</th>\n",
       "      <th>FNAC</th>\n",
       "      <th>SEXO</th>\n",
       "      <th>DIRECCION</th>\n",
       "      <th>COMUNA</th>\n",
       "      <th>CIUDAD</th>\n",
       "      <th>TELEFONO</th>\n",
       "      <th>RELACION</th>\n",
       "      <th>desde</th>\n",
       "      <th>hasta</th>\n",
       "      <th>Nombre</th>\n",
       "      <th>EMAIL</th>\n",
       "      <th>NROCELULAR</th>\n",
       "    </tr>\n",
       "  </thead>\n",
       "  <tbody>\n",
       "    <tr>\n",
       "      <th>0</th>\n",
       "      <td>340006458</td>\n",
       "      <td>12345</td>\n",
       "      <td>5</td>\n",
       "      <td>123455</td>\n",
       "      <td>12345</td>\n",
       "      <td>5</td>\n",
       "      <td>123455</td>\n",
       "      <td>1</td>\n",
       "      <td>29014</td>\n",
       "      <td>M</td>\n",
       "      <td>NaN</td>\n",
       "      <td>NaN</td>\n",
       "      <td>NaN</td>\n",
       "      <td>NaN</td>\n",
       "      <td>AS</td>\n",
       "      <td>2016-03-01</td>\n",
       "      <td>NaT</td>\n",
       "      <td>Puebla Abarca Nelson Hernan</td>\n",
       "      <td>NaN</td>\n",
       "      <td>NaN</td>\n",
       "    </tr>\n",
       "    <tr>\n",
       "      <th>1</th>\n",
       "      <td>340011238</td>\n",
       "      <td>1701221</td>\n",
       "      <td>5</td>\n",
       "      <td>17012215</td>\n",
       "      <td>1701221</td>\n",
       "      <td>5</td>\n",
       "      <td>17012215</td>\n",
       "      <td>1</td>\n",
       "      <td>12789</td>\n",
       "      <td>F</td>\n",
       "      <td>MONTENEGRO 189 DPTO103-B</td>\n",
       "      <td>ÑUÑOA</td>\n",
       "      <td>SANTIAGO</td>\n",
       "      <td>229811223</td>\n",
       "      <td>AS</td>\n",
       "      <td>2016-08-01</td>\n",
       "      <td>NaT</td>\n",
       "      <td>Castro Grimberg Ester</td>\n",
       "      <td>ester.castro1@gmail.com</td>\n",
       "      <td>NaN</td>\n",
       "    </tr>\n",
       "    <tr>\n",
       "      <th>2</th>\n",
       "      <td>340011238</td>\n",
       "      <td>2239787</td>\n",
       "      <td>7</td>\n",
       "      <td>22397877</td>\n",
       "      <td>2239787</td>\n",
       "      <td>7</td>\n",
       "      <td>22397877</td>\n",
       "      <td>1</td>\n",
       "      <td>10443</td>\n",
       "      <td>M</td>\n",
       "      <td>CONCEPCION 945  PB PATRONA DE CHILE</td>\n",
       "      <td>MAIPÚ</td>\n",
       "      <td>NaN</td>\n",
       "      <td>NaN</td>\n",
       "      <td>AS</td>\n",
       "      <td>2016-08-01</td>\n",
       "      <td>NaT</td>\n",
       "      <td>Salazar  Fernando</td>\n",
       "      <td>NaN</td>\n",
       "      <td>NaN</td>\n",
       "    </tr>\n",
       "    <tr>\n",
       "      <th>3</th>\n",
       "      <td>340011238</td>\n",
       "      <td>2266265</td>\n",
       "      <td>1</td>\n",
       "      <td>22662651</td>\n",
       "      <td>2266265</td>\n",
       "      <td>1</td>\n",
       "      <td>22662651</td>\n",
       "      <td>1</td>\n",
       "      <td>9339</td>\n",
       "      <td>F</td>\n",
       "      <td>NaN</td>\n",
       "      <td>NaN</td>\n",
       "      <td>NaN</td>\n",
       "      <td>NaN</td>\n",
       "      <td>AS</td>\n",
       "      <td>2016-08-01</td>\n",
       "      <td>NaT</td>\n",
       "      <td>Bonvallet Lohaus Berta</td>\n",
       "      <td>NaN</td>\n",
       "      <td>NaN</td>\n",
       "    </tr>\n",
       "    <tr>\n",
       "      <th>4</th>\n",
       "      <td>340011238</td>\n",
       "      <td>2626779</td>\n",
       "      <td>K</td>\n",
       "      <td>2626779K</td>\n",
       "      <td>2626779</td>\n",
       "      <td>K</td>\n",
       "      <td>2626779K</td>\n",
       "      <td>1</td>\n",
       "      <td>9663</td>\n",
       "      <td>M</td>\n",
       "      <td>A ESPINOZA 18  POBL M MONTT</td>\n",
       "      <td>PUERTO MONTT</td>\n",
       "      <td>NaN</td>\n",
       "      <td>65-255795 / 68717350</td>\n",
       "      <td>AS</td>\n",
       "      <td>2016-08-01</td>\n",
       "      <td>NaT</td>\n",
       "      <td>Oliva Rosas Hector</td>\n",
       "      <td>NaN</td>\n",
       "      <td>NaN</td>\n",
       "    </tr>\n",
       "  </tbody>\n",
       "</table></div>"
      ],
      "text/plain": [
       "      poliza  RUTASEGURADO DV      rut1  RUTBENEFICIARIO RUTBENEFIARIO_DV  \\\n",
       "0  340006458         12345  5    123455            12345                5   \n",
       "1  340011238       1701221  5  17012215          1701221                5   \n",
       "2  340011238       2239787  7  22397877          2239787                7   \n",
       "3  340011238       2266265  1  22662651          2266265                1   \n",
       "4  340011238       2626779  K  2626779K          2626779                K   \n",
       "\n",
       "       rut2  fdgd   FNAC SEXO                            DIRECCION  \\\n",
       "0    123455     1  29014    M                                  NaN   \n",
       "1  17012215     1  12789    F             MONTENEGRO 189 DPTO103-B   \n",
       "2  22397877     1  10443    M  CONCEPCION 945  PB PATRONA DE CHILE   \n",
       "3  22662651     1   9339    F                                  NaN   \n",
       "4  2626779K     1   9663    M          A ESPINOZA 18  POBL M MONTT   \n",
       "\n",
       "         COMUNA    CIUDAD              TELEFONO RELACION      desde hasta  \\\n",
       "0           NaN       NaN                   NaN       AS 2016-03-01   NaT   \n",
       "1         ÑUÑOA  SANTIAGO             229811223       AS 2016-08-01   NaT   \n",
       "2         MAIPÚ       NaN                   NaN       AS 2016-08-01   NaT   \n",
       "3           NaN       NaN                   NaN       AS 2016-08-01   NaT   \n",
       "4  PUERTO MONTT       NaN  65-255795 / 68717350       AS 2016-08-01   NaT   \n",
       "\n",
       "                        Nombre                    EMAIL NROCELULAR  \n",
       "0  Puebla Abarca Nelson Hernan                      NaN        NaN  \n",
       "1        Castro Grimberg Ester  ester.castro1@gmail.com        NaN  \n",
       "2            Salazar  Fernando                      NaN        NaN  \n",
       "3       Bonvallet Lohaus Berta                      NaN        NaN  \n",
       "4           Oliva Rosas Hector                      NaN        NaN  "
      ]
     },
     "execution_count": 19,
     "metadata": {},
     "output_type": "execute_result"
    }
   ],
   "source": [
    "metlife_web.head()"
   ]
  },
  {
   "cell_type": "code",
   "execution_count": 20,
   "metadata": {
    "notebookRunGroups": {
     "groupValue": "1"
    }
   },
   "outputs": [
    {
     "name": "stderr",
     "output_type": "stream",
     "text": [
      "C:\\Users\\jmartinez\\AppData\\Local\\Temp\\ipykernel_16192\\2932449918.py:10: FutureWarning: The default value of regex will change from True to False in a future version. In addition, single character regular expressions will *not* be treated as literal strings when regex=True.\n",
      "  metlife_web[\"rut1\"] = metlife_web[\"rut1\"].str.replace(\".\", \"\")\n",
      "C:\\Users\\jmartinez\\AppData\\Local\\Temp\\ipykernel_16192\\2932449918.py:20: FutureWarning: The default value of regex will change from True to False in a future version. In addition, single character regular expressions will *not* be treated as literal strings when regex=True.\n",
      "  metlife_web[\"rut2\"] = metlife_web[\"rut2\"].str.replace(\".\", \"\")\n",
      "C:\\Users\\jmartinez\\AppData\\Local\\Temp\\ipykernel_16192\\2932449918.py:26: FutureWarning: The default value of regex will change from True to False in a future version. In addition, single character regular expressions will *not* be treated as literal strings when regex=True.\n",
      "  metlife_web[\"Nombre\"] = metlife_web[\"Nombre\"].str.replace(\".\", \"\")\n"
     ]
    },
    {
     "data": {
      "text/plain": [
       "(160371, 21)"
      ]
     },
     "execution_count": 20,
     "metadata": {},
     "output_type": "execute_result"
    }
   ],
   "source": [
    "\n",
    "\n",
    "# nuevos = \"F:/Empresas SF/reportes/carga.xlsx\"\n",
    "\n",
    "\n",
    "\n",
    "metlife_web[\"rut1\"] = metlife_web[\"rut1\"].astype(str)\n",
    "#metlife_sftp[\"rut1\"] = metlife_sftp[\"rut1\"].apply(lambda y: siPrimerCero(y))\n",
    "metlife_web[\"rut1\"] = metlife_web[\"rut1\"].str.replace(\"-\", \"\")\n",
    "metlife_web[\"rut1\"] = metlife_web[\"rut1\"].str.replace(\"–\", \"\")\n",
    "metlife_web[\"rut1\"] = metlife_web[\"rut1\"].astype(str)\n",
    "metlife_web[\"rut1\"] = metlife_web[\"rut1\"].str.replace(\".\", \"\")\n",
    "metlife_web[\"rut1\"] = metlife_web[\"rut1\"].str.replace(\" \", \"\")\n",
    "metlife_web[\"rut1\"] = metlife_web[\"rut1\"].str.upper()\n",
    "metlife_web[\"rut1\"] = metlife_web[\"rut1\"].str.strip()\n",
    "\n",
    "metlife_web[\"rut2\"] = metlife_web[\"rut2\"].astype(str)\n",
    "#metlife_sftp[\"rut2\"] = metlife_sftp[\"rut2\"].apply(lambda y: siPrimerCero(y))\n",
    "metlife_web[\"rut2\"] = metlife_web[\"rut2\"].str.replace(\"-\", \"\")\n",
    "metlife_web[\"rut2\"] = metlife_web[\"rut2\"].str.replace(\"–\", \"\")\n",
    "metlife_web[\"rut2\"] = metlife_web[\"rut2\"].astype(str)\n",
    "metlife_web[\"rut2\"] = metlife_web[\"rut2\"].str.replace(\".\", \"\")\n",
    "metlife_web[\"rut2\"] = metlife_web[\"rut2\"].str.replace(\" \", \"\")\n",
    "metlife_web[\"rut2\"] = metlife_web[\"rut2\"].str.upper()\n",
    "metlife_web[\"rut2\"] = metlife_web[\"rut2\"].str.strip()\n",
    "\n",
    "metlife_web[\"Nombre\"] = metlife_web[\"Nombre\"].str.replace(\",\", \"\")\n",
    "metlife_web[\"Nombre\"] = metlife_web[\"Nombre\"].str.replace(\".\", \"\")\n",
    "metlife_web[\"Nombre\"] = metlife_web[\"Nombre\"].str.replace(\"-\", \"\")\n",
    "metlife_web[\"Nombre\"] = metlife_web[\"Nombre\"].str.replace(\"┐\", \"\")\n",
    "metlife_web[\"Nombre\"] = metlife_web[\"Nombre\"].str.replace(\"═\", \"\")\n",
    "metlife_web[\"Nombre\"] = metlife_web[\"Nombre\"].str.replace(\"╔\", \"\")\n",
    "metlife_web[\"Nombre\"] = metlife_web[\"Nombre\"].str.replace(\"┌\", \"\")\n",
    "metlife_web[\"Nombre\"] = metlife_web[\"Nombre\"].str.title()\n",
    "metlife_web[\"Nombre\"] = metlife_web[\"Nombre\"].str.strip()\n",
    "\n",
    "metlife_web[\"poliza\"] = metlife_web[\"poliza\"].astype(str)\n",
    "metlife_web[\"poliza\"] = metlife_web[\"poliza\"].str.strip()\n",
    "\n",
    "metlife_web[\"rut1\"] = metlife_web[\"rut1\"].apply(lambda y: siPrimerCero(y))\n",
    "metlife_web[\"rut2\"] = metlife_web[\"rut2\"].apply(lambda y: siPrimerCero(y))\n",
    "metlife_web = metlife_web[(metlife_web[\"rut1\"] != \"NONE\")]\n",
    "metlife_web = metlife_web[(metlife_web[\"rut2\"] != \"NONE\")]\n",
    "metlife_web.shape\n",
    "\n",
    "metlife_web[\"Titular\"] = np.where(metlife_web[\"rut1\"] == metlife_web[\"rut2\"],1,2 )\n",
    "metlife_web = metlife_web[(metlife_web[\"Titular\"] == 1)]\n",
    "\n",
    "metlife_web = metlife_web.drop_duplicates(\n",
    "    [\n",
    "        \"rut1\",\"poliza\"\n",
    "    ],\n",
    "    keep=\"last\",\n",
    ")\n",
    "\n",
    "\n",
    "#*******************sacar primer cero\n",
    "metlife_web.shape\n",
    "#derty = pd.read_excel(sftp)"
   ]
  },
  {
   "cell_type": "code",
   "execution_count": 21,
   "metadata": {
    "notebookRunGroups": {
     "groupValue": "1"
    }
   },
   "outputs": [
    {
     "data": {
      "text/html": [
       "<div><div id=cdbb0eff-44e0-4b01-b26b-b6395d2b8841 style=\"display:none; background-color:#9D6CFF; color:white; width:200px; height:30px; padding-left:5px; border-radius:4px; flex-direction:row; justify-content:space-around; align-items:center;\" onmouseover=\"this.style.backgroundColor='#BA9BF8'\" onmouseout=\"this.style.backgroundColor='#9D6CFF'\" onclick=\"window.commands?.execute('create-mitosheet-from-dataframe-output');\">See Full Dataframe in Mito</div> <script> if (window.commands?.hasCommand('create-mitosheet-from-dataframe-output')) document.getElementById('cdbb0eff-44e0-4b01-b26b-b6395d2b8841').style.display = 'flex' </script> <table border=\"1\" class=\"dataframe\">\n",
       "  <thead>\n",
       "    <tr style=\"text-align: right;\">\n",
       "      <th></th>\n",
       "      <th>poliza_rut</th>\n",
       "      <th>rut_rut</th>\n",
       "      <th>nombre_rut</th>\n",
       "      <th>mes_rut</th>\n",
       "      <th>año_rut</th>\n",
       "      <th>Llave</th>\n",
       "      <th>desde_rut</th>\n",
       "      <th>hasta_rut</th>\n",
       "      <th>fecha_rut</th>\n",
       "    </tr>\n",
       "  </thead>\n",
       "  <tbody>\n",
       "    <tr>\n",
       "      <th>0</th>\n",
       "      <td>340006458</td>\n",
       "      <td>123455</td>\n",
       "      <td>Puebla Abarca Nelson Hernan</td>\n",
       "      <td>8</td>\n",
       "      <td>2023</td>\n",
       "      <td>34000645812345582023</td>\n",
       "      <td>2016-03-01</td>\n",
       "      <td>2024-03-19 13:12:49</td>\n",
       "      <td>2023-08-01</td>\n",
       "    </tr>\n",
       "    <tr>\n",
       "      <th>1</th>\n",
       "      <td>340011238</td>\n",
       "      <td>17012215</td>\n",
       "      <td>Castro Grimberg Ester</td>\n",
       "      <td>8</td>\n",
       "      <td>2023</td>\n",
       "      <td>3400112381701221582023</td>\n",
       "      <td>2016-08-01</td>\n",
       "      <td>2024-03-19 13:12:49</td>\n",
       "      <td>2023-08-01</td>\n",
       "    </tr>\n",
       "    <tr>\n",
       "      <th>2</th>\n",
       "      <td>340011238</td>\n",
       "      <td>22397877</td>\n",
       "      <td>Salazar  Fernando</td>\n",
       "      <td>8</td>\n",
       "      <td>2023</td>\n",
       "      <td>3400112382239787782023</td>\n",
       "      <td>2016-08-01</td>\n",
       "      <td>2024-03-19 13:12:49</td>\n",
       "      <td>2023-08-01</td>\n",
       "    </tr>\n",
       "    <tr>\n",
       "      <th>3</th>\n",
       "      <td>340011238</td>\n",
       "      <td>22662651</td>\n",
       "      <td>Bonvallet Lohaus Berta</td>\n",
       "      <td>8</td>\n",
       "      <td>2023</td>\n",
       "      <td>3400112382266265182023</td>\n",
       "      <td>2016-08-01</td>\n",
       "      <td>2024-03-19 13:12:49</td>\n",
       "      <td>2023-08-01</td>\n",
       "    </tr>\n",
       "    <tr>\n",
       "      <th>4</th>\n",
       "      <td>340011238</td>\n",
       "      <td>2626779K</td>\n",
       "      <td>Oliva Rosas Hector</td>\n",
       "      <td>8</td>\n",
       "      <td>2023</td>\n",
       "      <td>3400112382626779K82023</td>\n",
       "      <td>2016-08-01</td>\n",
       "      <td>2024-03-19 13:12:49</td>\n",
       "      <td>2023-08-01</td>\n",
       "    </tr>\n",
       "  </tbody>\n",
       "</table></div>"
      ],
      "text/plain": [
       "  poliza_rut   rut_rut                   nombre_rut mes_rut año_rut  \\\n",
       "0  340006458    123455  Puebla Abarca Nelson Hernan       8    2023   \n",
       "1  340011238  17012215        Castro Grimberg Ester       8    2023   \n",
       "2  340011238  22397877            Salazar  Fernando       8    2023   \n",
       "3  340011238  22662651       Bonvallet Lohaus Berta       8    2023   \n",
       "4  340011238  2626779K           Oliva Rosas Hector       8    2023   \n",
       "\n",
       "                    Llave  desde_rut            hasta_rut  fecha_rut  \n",
       "0    34000645812345582023 2016-03-01  2024-03-19 13:12:49 2023-08-01  \n",
       "1  3400112381701221582023 2016-08-01  2024-03-19 13:12:49 2023-08-01  \n",
       "2  3400112382239787782023 2016-08-01  2024-03-19 13:12:49 2023-08-01  \n",
       "3  3400112382266265182023 2016-08-01  2024-03-19 13:12:49 2023-08-01  \n",
       "4  3400112382626779K82023 2016-08-01  2024-03-19 13:12:49 2023-08-01  "
      ]
     },
     "execution_count": 21,
     "metadata": {},
     "output_type": "execute_result"
    }
   ],
   "source": [
    "subir_correo = pd.DataFrame()\n",
    "subir_correo[\"poliza_rut\"] = metlife_correo[\"poliza\"]\n",
    "subir_correo[\"rut_rut\"] = metlife_correo[\"rut1\"]\n",
    "subir_correo[\"nombre_rut\"] = metlife_correo[\"Nombre\"]\n",
    "subir_correo[\"mes_rut\"] = str(mes)\n",
    "subir_correo[\"año_rut\"] = str(año)\n",
    "#subir_correo[\"fecha_rut\"] = metlife_correo[\"fecha\"]\n",
    "subir_correo[\"Llave\"] = metlife_correo[\"poliza\"] + metlife_correo[\"rut1\"] + str(mes) + str(año)\n",
    "subir_correo[\"desde_rut\"] = metlife_correo[\"desde\"].apply(lambda y: fechaValida(y))\n",
    "subir_correo[\"hasta_rut\"] = metlife_correo[\"hasta\"].apply(lambda y: fechaValida(y))\n",
    "\n",
    "subir_sql = pd.DataFrame()\n",
    "subir_sql[\"poliza_rut\"] = metlife_sftp[\"poliza\"]\n",
    "subir_sql[\"rut_rut\"] = metlife_sftp[\"rut1\"]\n",
    "subir_sql[\"nombre_rut\"] = metlife_sftp[\"Nombre\"]\n",
    "subir_sql[\"mes_rut\"] = str(mes)\n",
    "subir_sql[\"año_rut\"] = str(año)\n",
    "#subir_sql[\"fecha_rut\"] = metlife_sftp[\"fecha\"]\n",
    "subir_sql[\"Llave\"] = metlife_sftp[\"poliza\"] + metlife_sftp[\"rut1\"] + str(mes) + str(año)\n",
    "subir_sql[\"desde_rut\"] = metlife_sftp[\"desde\"].apply(lambda y: fechaValida(y))\n",
    "subir_sql[\"hasta_rut\"] = metlife_sftp[\"hasta\"].apply(lambda y: fechaValida(y)) \n",
    "\n",
    "subir_web = pd.DataFrame()\n",
    "subir_web[\"poliza_rut\"] = metlife_web[\"poliza\"]\n",
    "subir_web[\"rut_rut\"] = metlife_web[\"rut1\"]\n",
    "subir_web[\"nombre_rut\"] = metlife_web[\"Nombre\"]\n",
    "subir_web[\"mes_rut\"] = str(mes)\n",
    "subir_web[\"año_rut\"] = str(año)\n",
    "#subir_web[\"fecha_rut\"] = metlife_web[\"fecha\"]\n",
    "subir_web[\"Llave\"] = metlife_web[\"poliza\"] + metlife_web[\"rut1\"] + str(mes) + str(año)\n",
    "subir_web[\"desde_rut\"] = metlife_web[\"desde\"].apply(lambda y: fechaValida(y))\n",
    "subir_web[\"hasta_rut\"] = metlife_web[\"hasta\"].apply(lambda y: fechaValida(y))\n",
    "\n",
    "mes_metlife = pd.DataFrame()\n",
    "mes_metlife = pd.concat(\n",
    "    [\n",
    "        subir_web,\n",
    "        subir_sql,\n",
    "        subir_correo,\n",
    "        \n",
    "    ],\n",
    "    axis=0,\n",
    ")\n",
    "mes_metlife[\"fecha_rut\"] = pd.to_datetime(fecha, yearfirst=True)\n",
    "\n",
    "mes_metlife = mes_metlife.drop_duplicates(\n",
    "    [\n",
    "        \"rut_rut\",\"poliza_rut\",\n",
    "    ],\n",
    "    keep=\"last\",\n",
    ")\n",
    "mes_metlife.head()"
   ]
  },
  {
   "cell_type": "markdown",
   "metadata": {},
   "source": [
    "//////////////////////////////////////////////////////////////////////////\n",
    "\n",
    "NUMERO RUTS POR POLIZA\n",
    "****************************************************************"
   ]
  },
  {
   "cell_type": "code",
   "execution_count": 22,
   "metadata": {
    "notebookRunGroups": {
     "groupValue": "1"
    }
   },
   "outputs": [
    {
     "name": "stdout",
     "output_type": "stream",
     "text": [
      "8-2023 160371\n"
     ]
    }
   ],
   "source": [
    "mes_metlife.shape\n",
    "print ( str(mes) + \"-\" + str(año) + \" \" + str(mes_metlife.shape[0]))"
   ]
  },
  {
   "cell_type": "markdown",
   "metadata": {},
   "source": [
    "////////////////////////////////////////////////\n",
    "\n",
    "NUMERO RUT UNICOS\n",
    "------------------------------------------------------------------------------------------------"
   ]
  },
  {
   "cell_type": "code",
   "execution_count": 23,
   "metadata": {
    "notebookRunGroups": {
     "groupValue": "1"
    }
   },
   "outputs": [
    {
     "name": "stdout",
     "output_type": "stream",
     "text": [
      "8-2023 160371\n"
     ]
    }
   ],
   "source": [
    "mes_metlife2 = mes_metlife.drop_duplicates(\n",
    "    [\n",
    "        \"rut_rut\"\n",
    "    ],\n",
    "    keep=\"last\",\n",
    ")\n",
    "mes_metlife2.shape\n",
    "print (str(mes) + \"-\" + str(año) + \" \" + str(mes_metlife2.shape[0]))"
   ]
  },
  {
   "cell_type": "code",
   "execution_count": 24,
   "metadata": {
    "notebookRunGroups": {
     "groupValue": "1"
    }
   },
   "outputs": [
    {
     "data": {
      "text/plain": [
       "(0, 8)"
      ]
     },
     "execution_count": 24,
     "metadata": {},
     "output_type": "execute_result"
    }
   ],
   "source": [
    "#subir_web[\"Llave\"]\n",
    "mes_metlife[\"esta\"] =  mes_metlife[\"Llave\"].isin(rut_unico_tiempo_[\"Llave\"])\n",
    "mes_metlife = mes_metlife[(mes_metlife[\"esta\"] == False)]\n",
    "\n",
    "mes_metlife = mes_metlife[\n",
    "    [\n",
    "        \"poliza_rut\",\n",
    "        \"rut_rut\",\n",
    "        \"nombre_rut\",\n",
    "        \"mes_rut\",\n",
    "        \"año_rut\",\n",
    "        \"Llave\",\n",
    "        \"desde_rut\",\n",
    "        \"hasta_rut\",\n",
    "    ]\n",
    "]\n",
    "mes_metlife.shape"
   ]
  },
  {
   "cell_type": "code",
   "execution_count": 25,
   "metadata": {
    "notebookRunGroups": {
     "groupValue": "1"
    }
   },
   "outputs": [
    {
     "data": {
      "text/plain": [
       "0"
      ]
     },
     "execution_count": 25,
     "metadata": {},
     "output_type": "execute_result"
    }
   ],
   "source": [
    "mes_metlife.to_sql(\n",
    "    name=\"rut_unico_tiempo\",\n",
    "    con=motor_mysql_mariadb,\n",
    "    if_exists=\"append\",\n",
    "    index=False,\n",
    "    chunksize=10000,\n",
    ")"
   ]
  },
  {
   "cell_type": "code",
   "execution_count": null,
   "metadata": {},
   "outputs": [],
   "source": []
  },
  {
   "cell_type": "code",
   "execution_count": 26,
   "metadata": {
    "notebookRunGroups": {
     "groupValue": "1"
    }
   },
   "outputs": [
    {
     "data": {
      "text/plain": [
       "(160371, 4)"
      ]
     },
     "execution_count": 26,
     "metadata": {},
     "output_type": "execute_result"
    }
   ],
   "source": [
    "subir_unicos = pd.DataFrame()\n",
    "subir_unicos[\"Rut_T\"] = mes_metlife2[\"rut_rut\"]\n",
    "subir_unicos[\"Rut_C\"] = mes_metlife2[\"rut_rut\"]\n",
    "subir_unicos[\"Nombre\"] = mes_metlife2[\"nombre_rut\"]\n",
    "subir_unicos[\"Llave\"] = mes_metlife2[\"rut_rut\"] +  mes_metlife2[\"rut_rut\"]\n",
    "\n",
    "\n",
    "subir_unicos.shape"
   ]
  },
  {
   "cell_type": "code",
   "execution_count": 27,
   "metadata": {
    "notebookRunGroups": {
     "groupValue": "1"
    }
   },
   "outputs": [
    {
     "data": {
      "text/plain": [
       "0"
      ]
     },
     "execution_count": 27,
     "metadata": {},
     "output_type": "execute_result"
    }
   ],
   "source": [
    "subir_unicos[\"esta\"] =  subir_unicos[\"Rut_T\"].isin(rut_unicos[\"Rut_T\"])\n",
    "subir_unicos = subir_unicos[(subir_unicos[\"esta\"] == False)]\n",
    "\n",
    "subir_unicos = subir_unicos[\n",
    "    [\n",
    "        \"Rut_T\",\n",
    "        \"Rut_C\",\n",
    "        \"Nombre\",\n",
    "        \"Llave\",\n",
    "    ]\n",
    "]\n",
    "subir_unicos.shape\n",
    "subir_unicos.to_sql(\n",
    "    name=\"rut_unicos\",\n",
    "    con=motor_mysql_mariadb,\n",
    "    if_exists=\"append\",\n",
    "    index=False,\n",
    "    chunksize=10000,\n",
    ")"
   ]
  },
  {
   "cell_type": "code",
   "execution_count": 28,
   "metadata": {},
   "outputs": [],
   "source": [
    "\n",
    "\n",
    "\n",
    "rut_unicos[\"esta\"] =  rut_unicos[\"Rut_T\"].isin(mes_metlife2[\"rut_rut\"])\n",
    "rut_unicos = rut_unicos[(rut_unicos[\"esta\"] == False)]\n"
   ]
  },
  {
   "cell_type": "code",
   "execution_count": 29,
   "metadata": {},
   "outputs": [
    {
     "data": {
      "text/plain": [
       "(323895, 6)"
      ]
     },
     "execution_count": 29,
     "metadata": {},
     "output_type": "execute_result"
    }
   ],
   "source": [
    "rut_unicos.shape"
   ]
  },
  {
   "cell_type": "code",
   "execution_count": 30,
   "metadata": {},
   "outputs": [],
   "source": [
    "rut_unicos.to_excel(\n",
    "    \"F:/Empresas SF/reportes/rut_unicos_No_Estan_SFTP_Agosto_2023.xlsx\", index=False\n",
    ")"
   ]
  },
  {
   "cell_type": "code",
   "execution_count": 31,
   "metadata": {},
   "outputs": [],
   "source": [
    "sftp = \"F:/2024/MetLife/\" + str(mesesDic[mes]) + año + \"/Subir/poliza.xlsx\"\n",
    "poliza = pd.read_excel(sftp)"
   ]
  },
  {
   "cell_type": "code",
   "execution_count": 32,
   "metadata": {},
   "outputs": [
    {
     "data": {
      "text/html": [
       "<div><div id=5a56b9a0-ba01-4753-8d75-a4ef60a53bd9 style=\"display:none; background-color:#9D6CFF; color:white; width:200px; height:30px; padding-left:5px; border-radius:4px; flex-direction:row; justify-content:space-around; align-items:center;\" onmouseover=\"this.style.backgroundColor='#BA9BF8'\" onmouseout=\"this.style.backgroundColor='#9D6CFF'\" onclick=\"window.commands?.execute('create-mitosheet-from-dataframe-output');\">See Full Dataframe in Mito</div> <script> if (window.commands?.hasCommand('create-mitosheet-from-dataframe-output')) document.getElementById('5a56b9a0-ba01-4753-8d75-a4ef60a53bd9').style.display = 'flex' </script> <table border=\"1\" class=\"dataframe\">\n",
       "  <thead>\n",
       "    <tr style=\"text-align: right;\">\n",
       "      <th></th>\n",
       "      <th>poliza</th>\n",
       "      <th>Nombre_de_Empresa__c</th>\n",
       "      <th>Identificador__c</th>\n",
       "      <th>Rut_Empresa__c</th>\n",
       "      <th>Empresa_Padre__r.Name</th>\n",
       "      <th>Holding__c</th>\n",
       "      <th>Plan__c</th>\n",
       "      <th>Pais__c</th>\n",
       "      <th>Activo__c</th>\n",
       "      <th>Id</th>\n",
       "      <th>LLave</th>\n",
       "      <th>dato</th>\n",
       "    </tr>\n",
       "  </thead>\n",
       "  <tbody>\n",
       "    <tr>\n",
       "      <th>0</th>\n",
       "      <td>340023542</td>\n",
       "      <td>Uber Rides Chile SPA</td>\n",
       "      <td>Uber Rides Chile SPA</td>\n",
       "      <td>-</td>\n",
       "      <td>MetLife</td>\n",
       "      <td>Uber</td>\n",
       "      <td>MetLife Orienta</td>\n",
       "      <td>Chile</td>\n",
       "      <td>True</td>\n",
       "      <td>a3yRN0000006sFLYAY</td>\n",
       "      <td>340023542</td>\n",
       "      <td>1</td>\n",
       "    </tr>\n",
       "    <tr>\n",
       "      <th>1</th>\n",
       "      <td>340023542</td>\n",
       "      <td>Uber Rides Chile SPA</td>\n",
       "      <td>Uber Rides Chile SPA</td>\n",
       "      <td>-</td>\n",
       "      <td>MetLife</td>\n",
       "      <td>Uber</td>\n",
       "      <td>MetLife Orienta</td>\n",
       "      <td>Chile</td>\n",
       "      <td>True</td>\n",
       "      <td>a3yRN0000006sFMYAY</td>\n",
       "      <td>340023542</td>\n",
       "      <td>1</td>\n",
       "    </tr>\n",
       "    <tr>\n",
       "      <th>2</th>\n",
       "      <td>340019779</td>\n",
       "      <td>Ultramar Agencia Maritima Ltda.</td>\n",
       "      <td>Ultramar Agencia Maritima Ltda.</td>\n",
       "      <td>-</td>\n",
       "      <td>MetLife</td>\n",
       "      <td>Ultramar - Agencias</td>\n",
       "      <td>MetLife Orienta</td>\n",
       "      <td>Chile</td>\n",
       "      <td>True</td>\n",
       "      <td>a3yRN0000006sFNYAY</td>\n",
       "      <td>340019779</td>\n",
       "      <td>1</td>\n",
       "    </tr>\n",
       "    <tr>\n",
       "      <th>3</th>\n",
       "      <td>340017378</td>\n",
       "      <td>Ultrapoly S.A.</td>\n",
       "      <td>Ultrapoly S.A.</td>\n",
       "      <td>-</td>\n",
       "      <td>MetLife</td>\n",
       "      <td>CTTA Codelco - El Teniente</td>\n",
       "      <td>MetLife Orienta</td>\n",
       "      <td>Chile</td>\n",
       "      <td>False</td>\n",
       "      <td>a3yRN0000006sFOYAY</td>\n",
       "      <td>340017378</td>\n",
       "      <td>1</td>\n",
       "    </tr>\n",
       "    <tr>\n",
       "      <th>4</th>\n",
       "      <td>340023511</td>\n",
       "      <td>Ultrapoly S.A.</td>\n",
       "      <td>Ultrapoly S.A.</td>\n",
       "      <td>-</td>\n",
       "      <td>MetLife</td>\n",
       "      <td>Agema EECC - DCH</td>\n",
       "      <td>MetLife Orienta</td>\n",
       "      <td>Chile</td>\n",
       "      <td>False</td>\n",
       "      <td>a3yRN0000006sFPYAY</td>\n",
       "      <td>340023511</td>\n",
       "      <td>1</td>\n",
       "    </tr>\n",
       "  </tbody>\n",
       "</table></div>"
      ],
      "text/plain": [
       "      poliza             Nombre_de_Empresa__c  \\\n",
       "0  340023542             Uber Rides Chile SPA   \n",
       "1  340023542             Uber Rides Chile SPA   \n",
       "2  340019779  Ultramar Agencia Maritima Ltda.   \n",
       "3  340017378                   Ultrapoly S.A.   \n",
       "4  340023511                   Ultrapoly S.A.   \n",
       "\n",
       "                  Identificador__c Rut_Empresa__c Empresa_Padre__r.Name  \\\n",
       "0             Uber Rides Chile SPA              -               MetLife   \n",
       "1             Uber Rides Chile SPA              -               MetLife   \n",
       "2  Ultramar Agencia Maritima Ltda.              -               MetLife   \n",
       "3                   Ultrapoly S.A.              -               MetLife   \n",
       "4                   Ultrapoly S.A.              -               MetLife   \n",
       "\n",
       "                   Holding__c          Plan__c Pais__c  Activo__c  \\\n",
       "0                        Uber  MetLife Orienta   Chile       True   \n",
       "1                        Uber  MetLife Orienta   Chile       True   \n",
       "2         Ultramar - Agencias  MetLife Orienta   Chile       True   \n",
       "3  CTTA Codelco - El Teniente  MetLife Orienta   Chile      False   \n",
       "4            Agema EECC - DCH  MetLife Orienta   Chile      False   \n",
       "\n",
       "                   Id      LLave  dato  \n",
       "0  a3yRN0000006sFLYAY  340023542     1  \n",
       "1  a3yRN0000006sFMYAY  340023542     1  \n",
       "2  a3yRN0000006sFNYAY  340019779     1  \n",
       "3  a3yRN0000006sFOYAY  340017378     1  \n",
       "4  a3yRN0000006sFPYAY  340023511     1  "
      ]
     },
     "execution_count": 32,
     "metadata": {},
     "output_type": "execute_result"
    }
   ],
   "source": [
    "poliza.head()"
   ]
  },
  {
   "cell_type": "code",
   "execution_count": 33,
   "metadata": {},
   "outputs": [
    {
     "data": {
      "text/plain": [
       "(7277009, 10)"
      ]
     },
     "execution_count": 33,
     "metadata": {},
     "output_type": "execute_result"
    }
   ],
   "source": [
    "rut_unico_tiempo_ = pd.DataFrame()\n",
    "sql = \"SELECT * FROM MetLife_A.rut_unico_tiempo \"\n",
    "rut_unico_tiempo_ = pd.read_sql_query(sql, con=motor_mysql_mariadb)\n",
    "\n",
    "rut_unico_tiempo_.shape"
   ]
  },
  {
   "cell_type": "code",
   "execution_count": 34,
   "metadata": {},
   "outputs": [],
   "source": [
    "rut_unicos = pd.merge(\n",
    "    left=rut_unicos,\n",
    "    right=rut_unico_tiempo_,\n",
    "    how=\"left\",\n",
    "    left_on=\"Rut_T\",\n",
    "    right_on=\"rut_rut\",\n",
    ")\n",
    "\n",
    "#rutesi.to_excel(\"F:/Empresas SF/reportes/rutsyempresa.xlsx\", index=False)"
   ]
  },
  {
   "cell_type": "code",
   "execution_count": 35,
   "metadata": {},
   "outputs": [
    {
     "data": {
      "text/plain": [
       "(3842268, 16)"
      ]
     },
     "execution_count": 35,
     "metadata": {},
     "output_type": "execute_result"
    }
   ],
   "source": [
    "rut_unicos.shape"
   ]
  },
  {
   "cell_type": "code",
   "execution_count": 36,
   "metadata": {},
   "outputs": [
    {
     "data": {
      "text/html": [
       "<div><div id=87c6f8cc-157e-4333-9a90-43d6b8d137d5 style=\"display:none; background-color:#9D6CFF; color:white; width:200px; height:30px; padding-left:5px; border-radius:4px; flex-direction:row; justify-content:space-around; align-items:center;\" onmouseover=\"this.style.backgroundColor='#BA9BF8'\" onmouseout=\"this.style.backgroundColor='#9D6CFF'\" onclick=\"window.commands?.execute('create-mitosheet-from-dataframe-output');\">See Full Dataframe in Mito</div> <script> if (window.commands?.hasCommand('create-mitosheet-from-dataframe-output')) document.getElementById('87c6f8cc-157e-4333-9a90-43d6b8d137d5').style.display = 'flex' </script> <table border=\"1\" class=\"dataframe\">\n",
       "  <thead>\n",
       "    <tr style=\"text-align: right;\">\n",
       "      <th></th>\n",
       "      <th>Id_x</th>\n",
       "      <th>Rut_T</th>\n",
       "      <th>Rut_C</th>\n",
       "      <th>Nombre</th>\n",
       "      <th>Llave_x</th>\n",
       "      <th>esta</th>\n",
       "      <th>Id_y</th>\n",
       "      <th>poliza_rut</th>\n",
       "      <th>rut_rut</th>\n",
       "      <th>nombre_rut</th>\n",
       "      <th>mes_rut</th>\n",
       "      <th>año_rut</th>\n",
       "      <th>fecha_rut</th>\n",
       "      <th>Llave_y</th>\n",
       "      <th>desde_rut</th>\n",
       "      <th>hasta_rut</th>\n",
       "    </tr>\n",
       "  </thead>\n",
       "  <tbody>\n",
       "    <tr>\n",
       "      <th>0</th>\n",
       "      <td>1</td>\n",
       "      <td>209848961</td>\n",
       "      <td>209848961</td>\n",
       "      <td>Martina Isidora Sanhueza Almendra</td>\n",
       "      <td>209848961209848961</td>\n",
       "      <td>False</td>\n",
       "      <td>7</td>\n",
       "      <td>340022755</td>\n",
       "      <td>209848961</td>\n",
       "      <td>Martina Isidora Sanhueza Almendra</td>\n",
       "      <td>1</td>\n",
       "      <td>2023</td>\n",
       "      <td>None</td>\n",
       "      <td>34002275520984896112023</td>\n",
       "      <td>1970-01-01</td>\n",
       "      <td>1970-01-01</td>\n",
       "    </tr>\n",
       "    <tr>\n",
       "      <th>1</th>\n",
       "      <td>2</td>\n",
       "      <td>159079465</td>\n",
       "      <td>159079465</td>\n",
       "      <td>Jose Gonzalez Espinoza</td>\n",
       "      <td>159079465159079465</td>\n",
       "      <td>False</td>\n",
       "      <td>9</td>\n",
       "      <td>340012071</td>\n",
       "      <td>159079465</td>\n",
       "      <td>Jose Gonzalez Espinoza</td>\n",
       "      <td>1</td>\n",
       "      <td>2023</td>\n",
       "      <td>None</td>\n",
       "      <td>34001207115907946512023</td>\n",
       "      <td>1970-01-01</td>\n",
       "      <td>1970-01-01</td>\n",
       "    </tr>\n",
       "    <tr>\n",
       "      <th>2</th>\n",
       "      <td>2</td>\n",
       "      <td>159079465</td>\n",
       "      <td>159079465</td>\n",
       "      <td>Jose Gonzalez Espinoza</td>\n",
       "      <td>159079465159079465</td>\n",
       "      <td>False</td>\n",
       "      <td>3535277</td>\n",
       "      <td>340012071</td>\n",
       "      <td>159079465</td>\n",
       "      <td>Jose Gonzalez Espinoza</td>\n",
       "      <td>9</td>\n",
       "      <td>2023</td>\n",
       "      <td>None</td>\n",
       "      <td>34001207115907946592023</td>\n",
       "      <td>2024-03-15</td>\n",
       "      <td>2024-03-15</td>\n",
       "    </tr>\n",
       "    <tr>\n",
       "      <th>3</th>\n",
       "      <td>2</td>\n",
       "      <td>159079465</td>\n",
       "      <td>159079465</td>\n",
       "      <td>Jose Gonzalez Espinoza</td>\n",
       "      <td>159079465159079465</td>\n",
       "      <td>False</td>\n",
       "      <td>4942957</td>\n",
       "      <td>340012071</td>\n",
       "      <td>159079465</td>\n",
       "      <td>Gonzalez Espinoza Jose Patricio</td>\n",
       "      <td>2</td>\n",
       "      <td>2024</td>\n",
       "      <td>None</td>\n",
       "      <td>34001207115907946522024</td>\n",
       "      <td>2024-03-15</td>\n",
       "      <td>2024-03-15</td>\n",
       "    </tr>\n",
       "    <tr>\n",
       "      <th>4</th>\n",
       "      <td>2</td>\n",
       "      <td>159079465</td>\n",
       "      <td>159079465</td>\n",
       "      <td>Jose Gonzalez Espinoza</td>\n",
       "      <td>159079465159079465</td>\n",
       "      <td>False</td>\n",
       "      <td>7122428</td>\n",
       "      <td>340012071</td>\n",
       "      <td>159079465</td>\n",
       "      <td>Gonzalez Espinoza Jose Patricio</td>\n",
       "      <td>1</td>\n",
       "      <td>2028</td>\n",
       "      <td>None</td>\n",
       "      <td>34001207115907946512028</td>\n",
       "      <td>2022-11-01</td>\n",
       "      <td>2024-03-18</td>\n",
       "    </tr>\n",
       "  </tbody>\n",
       "</table></div>"
      ],
      "text/plain": [
       "   Id_x      Rut_T      Rut_C                             Nombre  \\\n",
       "0     1  209848961  209848961  Martina Isidora Sanhueza Almendra   \n",
       "1     2  159079465  159079465             Jose Gonzalez Espinoza   \n",
       "2     2  159079465  159079465             Jose Gonzalez Espinoza   \n",
       "3     2  159079465  159079465             Jose Gonzalez Espinoza   \n",
       "4     2  159079465  159079465             Jose Gonzalez Espinoza   \n",
       "\n",
       "              Llave_x   esta     Id_y poliza_rut    rut_rut  \\\n",
       "0  209848961209848961  False        7  340022755  209848961   \n",
       "1  159079465159079465  False        9  340012071  159079465   \n",
       "2  159079465159079465  False  3535277  340012071  159079465   \n",
       "3  159079465159079465  False  4942957  340012071  159079465   \n",
       "4  159079465159079465  False  7122428  340012071  159079465   \n",
       "\n",
       "                          nombre_rut mes_rut año_rut fecha_rut  \\\n",
       "0  Martina Isidora Sanhueza Almendra       1    2023      None   \n",
       "1             Jose Gonzalez Espinoza       1    2023      None   \n",
       "2             Jose Gonzalez Espinoza       9    2023      None   \n",
       "3    Gonzalez Espinoza Jose Patricio       2    2024      None   \n",
       "4    Gonzalez Espinoza Jose Patricio       1    2028      None   \n",
       "\n",
       "                   Llave_y   desde_rut   hasta_rut  \n",
       "0  34002275520984896112023  1970-01-01  1970-01-01  \n",
       "1  34001207115907946512023  1970-01-01  1970-01-01  \n",
       "2  34001207115907946592023  2024-03-15  2024-03-15  \n",
       "3  34001207115907946522024  2024-03-15  2024-03-15  \n",
       "4  34001207115907946512028  2022-11-01  2024-03-18  "
      ]
     },
     "execution_count": 36,
     "metadata": {},
     "output_type": "execute_result"
    }
   ],
   "source": [
    "rut_unicos.head()"
   ]
  },
  {
   "cell_type": "code",
   "execution_count": 37,
   "metadata": {},
   "outputs": [
    {
     "data": {
      "text/plain": [
       "(427905, 16)"
      ]
     },
     "execution_count": 37,
     "metadata": {},
     "output_type": "execute_result"
    }
   ],
   "source": [
    "rut_unicos = rut_unicos.drop_duplicates(\n",
    "    [\n",
    "        \"rut_rut\",\"poliza_rut\",\n",
    "    ],\n",
    "    keep=\"last\",\n",
    ")\n",
    "rut_unicos.shape"
   ]
  },
  {
   "cell_type": "code",
   "execution_count": 38,
   "metadata": {},
   "outputs": [],
   "source": [
    "rut_unicos = pd.merge(\n",
    "    left=rut_unicos,\n",
    "    right=poliza,\n",
    "    how=\"left\",\n",
    "    left_on=\"poliza_rut\",\n",
    "    right_on=\"poliza\",\n",
    ")"
   ]
  },
  {
   "cell_type": "code",
   "execution_count": 39,
   "metadata": {},
   "outputs": [
    {
     "data": {
      "text/plain": [
       "(434505, 28)"
      ]
     },
     "execution_count": 39,
     "metadata": {},
     "output_type": "execute_result"
    }
   ],
   "source": [
    "rut_unicos.shape"
   ]
  },
  {
   "cell_type": "code",
   "execution_count": 40,
   "metadata": {},
   "outputs": [
    {
     "data": {
      "text/html": [
       "<div><div id=9637bbbd-d467-43ea-b8ae-22ceda0244f0 style=\"display:none; background-color:#9D6CFF; color:white; width:200px; height:30px; padding-left:5px; border-radius:4px; flex-direction:row; justify-content:space-around; align-items:center;\" onmouseover=\"this.style.backgroundColor='#BA9BF8'\" onmouseout=\"this.style.backgroundColor='#9D6CFF'\" onclick=\"window.commands?.execute('create-mitosheet-from-dataframe-output');\">See Full Dataframe in Mito</div> <script> if (window.commands?.hasCommand('create-mitosheet-from-dataframe-output')) document.getElementById('9637bbbd-d467-43ea-b8ae-22ceda0244f0').style.display = 'flex' </script> <table border=\"1\" class=\"dataframe\">\n",
       "  <thead>\n",
       "    <tr style=\"text-align: right;\">\n",
       "      <th></th>\n",
       "      <th>Id_x</th>\n",
       "      <th>Rut_T</th>\n",
       "      <th>Rut_C</th>\n",
       "      <th>Nombre</th>\n",
       "      <th>Llave_x</th>\n",
       "      <th>esta</th>\n",
       "      <th>Id_y</th>\n",
       "      <th>poliza_rut</th>\n",
       "      <th>rut_rut</th>\n",
       "      <th>nombre_rut</th>\n",
       "      <th>...</th>\n",
       "      <th>Identificador__c</th>\n",
       "      <th>Rut_Empresa__c</th>\n",
       "      <th>Empresa_Padre__r.Name</th>\n",
       "      <th>Holding__c</th>\n",
       "      <th>Plan__c</th>\n",
       "      <th>Pais__c</th>\n",
       "      <th>Activo__c</th>\n",
       "      <th>Id</th>\n",
       "      <th>LLave</th>\n",
       "      <th>dato</th>\n",
       "    </tr>\n",
       "  </thead>\n",
       "  <tbody>\n",
       "    <tr>\n",
       "      <th>0</th>\n",
       "      <td>1</td>\n",
       "      <td>209848961</td>\n",
       "      <td>209848961</td>\n",
       "      <td>Martina Isidora Sanhueza Almendra</td>\n",
       "      <td>209848961209848961</td>\n",
       "      <td>False</td>\n",
       "      <td>7</td>\n",
       "      <td>340022755</td>\n",
       "      <td>209848961</td>\n",
       "      <td>Martina Isidora Sanhueza Almendra</td>\n",
       "      <td>...</td>\n",
       "      <td>Walmart</td>\n",
       "      <td>-</td>\n",
       "      <td>MetLife</td>\n",
       "      <td>Walmart</td>\n",
       "      <td>MetLife Orienta</td>\n",
       "      <td>Chile</td>\n",
       "      <td>True</td>\n",
       "      <td>a3yRN0000006tkaYAA</td>\n",
       "      <td>340022755</td>\n",
       "      <td>1.0</td>\n",
       "    </tr>\n",
       "    <tr>\n",
       "      <th>1</th>\n",
       "      <td>2</td>\n",
       "      <td>159079465</td>\n",
       "      <td>159079465</td>\n",
       "      <td>Jose Gonzalez Espinoza</td>\n",
       "      <td>159079465159079465</td>\n",
       "      <td>False</td>\n",
       "      <td>7122428</td>\n",
       "      <td>340012071</td>\n",
       "      <td>159079465</td>\n",
       "      <td>Gonzalez Espinoza Jose Patricio</td>\n",
       "      <td>...</td>\n",
       "      <td>Brinks SPA</td>\n",
       "      <td>-</td>\n",
       "      <td>MetLife</td>\n",
       "      <td>Brinks</td>\n",
       "      <td>MetLife Orienta</td>\n",
       "      <td>Chile</td>\n",
       "      <td>True</td>\n",
       "      <td>a3yRN0000006t9GYAQ</td>\n",
       "      <td>340012071</td>\n",
       "      <td>1.0</td>\n",
       "    </tr>\n",
       "    <tr>\n",
       "      <th>2</th>\n",
       "      <td>3</td>\n",
       "      <td>156070432</td>\n",
       "      <td>156070432</td>\n",
       "      <td>Pablo Cesar Aguirre Rodriguez</td>\n",
       "      <td>156070432156070432</td>\n",
       "      <td>False</td>\n",
       "      <td>11</td>\n",
       "      <td>340022755</td>\n",
       "      <td>156070432</td>\n",
       "      <td>Pablo Cesar Aguirre Rodriguez</td>\n",
       "      <td>...</td>\n",
       "      <td>Walmart</td>\n",
       "      <td>-</td>\n",
       "      <td>MetLife</td>\n",
       "      <td>Walmart</td>\n",
       "      <td>MetLife Orienta</td>\n",
       "      <td>Chile</td>\n",
       "      <td>True</td>\n",
       "      <td>a3yRN0000006tkaYAA</td>\n",
       "      <td>340022755</td>\n",
       "      <td>1.0</td>\n",
       "    </tr>\n",
       "    <tr>\n",
       "      <th>3</th>\n",
       "      <td>5</td>\n",
       "      <td>155558571</td>\n",
       "      <td>155558571</td>\n",
       "      <td>Danilo Enrique Santis Barrera</td>\n",
       "      <td>155558571155558571</td>\n",
       "      <td>False</td>\n",
       "      <td>19</td>\n",
       "      <td>340003406</td>\n",
       "      <td>155558571</td>\n",
       "      <td>Danilo Enrique Santis Barrera</td>\n",
       "      <td>...</td>\n",
       "      <td>TB Tobaco</td>\n",
       "      <td>-</td>\n",
       "      <td>MetLife</td>\n",
       "      <td>TB Tobaco</td>\n",
       "      <td>MetLife Orienta</td>\n",
       "      <td>Chile</td>\n",
       "      <td>True</td>\n",
       "      <td>a3yRN0000006tnkYAA</td>\n",
       "      <td>340003406</td>\n",
       "      <td>1.0</td>\n",
       "    </tr>\n",
       "    <tr>\n",
       "      <th>4</th>\n",
       "      <td>6</td>\n",
       "      <td>193277365</td>\n",
       "      <td>193277365</td>\n",
       "      <td>Alejandro Jesus Alvarez Pacheco</td>\n",
       "      <td>193277365193277365</td>\n",
       "      <td>False</td>\n",
       "      <td>20</td>\n",
       "      <td>340003406</td>\n",
       "      <td>193277365</td>\n",
       "      <td>Alejandro Jesus Alvarez Pacheco</td>\n",
       "      <td>...</td>\n",
       "      <td>TB Tobaco</td>\n",
       "      <td>-</td>\n",
       "      <td>MetLife</td>\n",
       "      <td>TB Tobaco</td>\n",
       "      <td>MetLife Orienta</td>\n",
       "      <td>Chile</td>\n",
       "      <td>True</td>\n",
       "      <td>a3yRN0000006tnkYAA</td>\n",
       "      <td>340003406</td>\n",
       "      <td>1.0</td>\n",
       "    </tr>\n",
       "  </tbody>\n",
       "</table></div>"
      ],
      "text/plain": [
       "   Id_x      Rut_T      Rut_C                             Nombre  \\\n",
       "0     1  209848961  209848961  Martina Isidora Sanhueza Almendra   \n",
       "1     2  159079465  159079465             Jose Gonzalez Espinoza   \n",
       "2     3  156070432  156070432      Pablo Cesar Aguirre Rodriguez   \n",
       "3     5  155558571  155558571      Danilo Enrique Santis Barrera   \n",
       "4     6  193277365  193277365    Alejandro Jesus Alvarez Pacheco   \n",
       "\n",
       "              Llave_x   esta     Id_y poliza_rut    rut_rut  \\\n",
       "0  209848961209848961  False        7  340022755  209848961   \n",
       "1  159079465159079465  False  7122428  340012071  159079465   \n",
       "2  156070432156070432  False       11  340022755  156070432   \n",
       "3  155558571155558571  False       19  340003406  155558571   \n",
       "4  193277365193277365  False       20  340003406  193277365   \n",
       "\n",
       "                          nombre_rut  ... Identificador__c Rut_Empresa__c  \\\n",
       "0  Martina Isidora Sanhueza Almendra  ...          Walmart              -   \n",
       "1    Gonzalez Espinoza Jose Patricio  ...       Brinks SPA              -   \n",
       "2      Pablo Cesar Aguirre Rodriguez  ...          Walmart              -   \n",
       "3      Danilo Enrique Santis Barrera  ...        TB Tobaco              -   \n",
       "4    Alejandro Jesus Alvarez Pacheco  ...        TB Tobaco              -   \n",
       "\n",
       "  Empresa_Padre__r.Name Holding__c          Plan__c Pais__c Activo__c  \\\n",
       "0               MetLife    Walmart  MetLife Orienta   Chile      True   \n",
       "1               MetLife     Brinks  MetLife Orienta   Chile      True   \n",
       "2               MetLife    Walmart  MetLife Orienta   Chile      True   \n",
       "3               MetLife  TB Tobaco  MetLife Orienta   Chile      True   \n",
       "4               MetLife  TB Tobaco  MetLife Orienta   Chile      True   \n",
       "\n",
       "                   Id      LLave dato  \n",
       "0  a3yRN0000006tkaYAA  340022755  1.0  \n",
       "1  a3yRN0000006t9GYAQ  340012071  1.0  \n",
       "2  a3yRN0000006tkaYAA  340022755  1.0  \n",
       "3  a3yRN0000006tnkYAA  340003406  1.0  \n",
       "4  a3yRN0000006tnkYAA  340003406  1.0  \n",
       "\n",
       "[5 rows x 28 columns]"
      ]
     },
     "execution_count": 40,
     "metadata": {},
     "output_type": "execute_result"
    }
   ],
   "source": [
    "rut_unicos.head()\n"
   ]
  },
  {
   "cell_type": "code",
   "execution_count": 41,
   "metadata": {},
   "outputs": [],
   "source": [
    "rut_unicos.to_excel(\n",
    "    \"F:/Empresas SF/reportes/rut_unicos_No_Estan_SFTP_Agosto_2023_2.xlsx\", index=False\n",
    ")"
   ]
  }
 ],
 "metadata": {
  "kernelspec": {
   "display_name": "python11",
   "language": "python",
   "name": "python3"
  },
  "language_info": {
   "codemirror_mode": {
    "name": "ipython",
    "version": 3
   },
   "file_extension": ".py",
   "mimetype": "text/x-python",
   "name": "python",
   "nbconvert_exporter": "python",
   "pygments_lexer": "ipython3",
   "version": "3.9.12"
  }
 },
 "nbformat": 4,
 "nbformat_minor": 2
}
