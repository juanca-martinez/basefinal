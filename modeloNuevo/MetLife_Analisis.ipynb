{
 "cells": [
  {
   "cell_type": "code",
   "execution_count": null,
   "metadata": {
    "notebookRunGroups": {
     "groupValue": "1"
    }
   },
   "outputs": [],
   "source": [
    "from pathlib import Path\n",
    "import requests\n",
    "import pandas as pd\n",
    "import numpy as np\n",
    "from io import StringIO\n",
    "import shutil\n",
    "import datetime\n",
    "from datetime import datetime,date\n",
    "import re\n",
    "import json\n",
    "from pandas.api.types import is_numeric_dtype\n",
    "\n",
    "# from simple_salesforce import Salesforce, format_soql, format_external_id\n",
    "# from simple_salesforce.exceptions import SalesforceMalformedRequest\n",
    "# import simpler_sf\n",
    "from sqlalchemy import create_engine\n",
    "#import pymysql\n",
    "\n",
    "# from mysql import connector\n",
    "\n",
    "\n",
    "# paramiko.util.log_to_file(\"paramiko.log\")\n",
    "regex = re.compile(r\"([A-Za-z0-9]+[.-_])*[A-Za-z0-9]+@[A-Za-z0-9-]+(\\.[A-Z|a-z]{2,})+\")"
   ]
  },
  {
   "cell_type": "code",
   "execution_count": null,
   "metadata": {
    "notebookRunGroups": {
     "groupValue": "1"
    }
   },
   "outputs": [],
   "source": [
    "# usuario = 'siempreread'\n",
    "# contrasena = 'S13mpr3_Ch1l3'\n",
    "# url_servidor = '209.151.148.250'\n",
    "puerto = \"3306\"\n",
    "esquema = \"MetLife_A\"\n",
    "plugin_autenticacion = \"mysql_native_password\"\n",
    "\n",
    "usuario = \"care_consulta\"\n",
    "contrasena = \"CareAssistance!10\"\n",
    "url_servidor = \"10.0.10.22\"\n",
    "\n",
    "# Conexión a la base de datos\n",
    "\n",
    "c_conexion = \"mysql+mysqlconnector://{0}:{1}@{2}:{3}/{4}?auth_plugin={5}\"\n",
    "c_conexion = c_conexion.format(\n",
    "    usuario, contrasena, url_servidor, puerto, esquema, plugin_autenticacion\n",
    ")\n",
    "motor_mysql_mariadb = create_engine(c_conexion)\n",
    "\n",
    "#table.to_sql(name='rut_unico_tiempo',con=motor_mysql_mariadb,if_exists = 'append')\n",
    "\n",
    "\n",
    "# archivo de salida modificar segun archivo\n",
    "# archivo = 'C:/Users/jmartinez/Desktop/casos nuevos/clientes/1/casos_faltantes_segun_archivo.xlsx'"
   ]
  },
  {
   "cell_type": "code",
   "execution_count": null,
   "metadata": {
    "notebookRunGroups": {
     "groupValue": "1"
    }
   },
   "outputs": [],
   "source": [
    "# table.to_sql(name='prueba',con=motor_mysql_mariadb,if_exists = 'append')\n",
    "rut_unicos = pd.DataFrame()\n",
    "sql = \"SELECT * FROM MetLife_A.rut_unicos WHERE LEFT(Rut_T, 1) <> '0' \"\n",
    "rut_unicos = pd.read_sql_query(sql, con=motor_mysql_mariadb)\n",
    "\n",
    "rut_unicos[\"Rut_C\"] = rut_unicos[\"Rut_C\"].astype(str)\n",
    "rut_unicos[\"Rut_C\"] = rut_unicos[\"Rut_C\"].str.replace(\"-\", \"\")\n",
    "rut_unicos[\"Rut_C\"] = rut_unicos[\"Rut_C\"].str.replace(\"–\", \"\")\n",
    "rut_unicos[\"Rut_C\"] = rut_unicos[\"Rut_C\"].astype(str)\n",
    "rut_unicos[\"Rut_C\"] = rut_unicos[\"Rut_C\"].str.replace(\".\", \"\")\n",
    "rut_unicos[\"Rut_C\"] = rut_unicos[\"Rut_C\"].str.replace(\" \", \"\")\n",
    "rut_unicos[\"Rut_C\"] = rut_unicos[\"Rut_C\"].str.upper()\n",
    "rut_unicos[\"Rut_C\"] = rut_unicos[\"Rut_C\"].str.strip()\n",
    "\n",
    "rut_unicos[\"Rut_T\"] = rut_unicos[\"Rut_T\"].astype(str)\n",
    "rut_unicos[\"Rut_T\"] = rut_unicos[\"Rut_T\"].str.replace(\"-\", \"\")\n",
    "rut_unicos[\"Rut_T\"] = rut_unicos[\"Rut_T\"].str.replace(\"–\", \"\")\n",
    "rut_unicos[\"Rut_T\"] = rut_unicos[\"Rut_T\"].astype(str)\n",
    "rut_unicos[\"Rut_T\"] = rut_unicos[\"Rut_T\"].str.replace(\".\", \"\")\n",
    "rut_unicos[\"Rut_T\"] = rut_unicos[\"Rut_T\"].str.replace(\" \", \"\")\n",
    "rut_unicos[\"Rut_T\"] = rut_unicos[\"Rut_T\"].str.upper()\n",
    "rut_unicos[\"Rut_T\"] = rut_unicos[\"Rut_T\"].str.strip()\n",
    "\n",
    "rut_unicos[\"Nombre\"] = rut_unicos[\"Nombre\"].str.replace(\",\", \"\")\n",
    "rut_unicos[\"Nombre\"] = rut_unicos[\"Nombre\"].str.replace(\".\", \"\")\n",
    "rut_unicos[\"Nombre\"] = rut_unicos[\"Nombre\"].str.replace(\"-\", \"\")\n",
    "rut_unicos[\"Nombre\"] = rut_unicos[\"Nombre\"].str.replace(\"┐\", \"\")\n",
    "rut_unicos[\"Nombre\"] = rut_unicos[\"Nombre\"].str.replace(\"═\", \"\")\n",
    "rut_unicos[\"Nombre\"] = rut_unicos[\"Nombre\"].str.replace(\"╔\", \"\")\n",
    "rut_unicos[\"Nombre\"] = rut_unicos[\"Nombre\"].str.replace(\"┌\", \"\")\n",
    "rut_unicos[\"Nombre\"] = rut_unicos[\"Nombre\"].str.title()\n",
    "rut_unicos[\"Nombre\"] = rut_unicos[\"Nombre\"].str.strip()\n",
    "\n",
    "rut_unicos.shape"
   ]
  },
  {
   "cell_type": "code",
   "execution_count": 329,
   "metadata": {},
   "outputs": [
    {
     "data": {
      "text/plain": [
       "(6969229, 1)"
      ]
     },
     "execution_count": 329,
     "metadata": {},
     "output_type": "execute_result"
    }
   ],
   "source": [
    "rut_unico_tiempo_ = pd.DataFrame()\n",
    "sql = \"SELECT Llave FROM MetLife_A.rut_unico_tiempo \"\n",
    "rut_unico_tiempo_ = pd.read_sql_query(sql, con=motor_mysql_mariadb)\n",
    "\n",
    "rut_unico_tiempo_.shape"
   ]
  },
  {
   "cell_type": "code",
   "execution_count": null,
   "metadata": {},
   "outputs": [],
   "source": [
    "def fechaValida(fecha):\n",
    "    if (len(str(fecha)) <= 9 ):\n",
    "        fecha = \"\"\n",
    "        \n",
    "    fecha = str(fecha)\n",
    "    fecha1 = str(fecha)\n",
    "    \n",
    "    #datetime.strptime(fecha, '%Y-%m-%d')\n",
    "    \n",
    "    try:\n",
    "        fecha = datetime.strptime(fecha, '%Y-%m-%d %H:%M:%S')\n",
    "        date_string = fecha1\n",
    "        #print(\"date_string =\", date_string)\n",
    "        #print(\"type of date_string =\", type(date_string))\n",
    "\n",
    "        date_object = datetime.strptime(date_string, \"%Y-%m-%d %H:%M:%S\")\n",
    "\n",
    "        #print(\"date_object =\", date_object)\n",
    "        #print(\"type of date_object =\", type(date_object))\n",
    "        return date_object\n",
    "    except ValueError:\n",
    "        return datetime.utcnow().strftime('%Y-%m-%d %H:%M:%S')"
   ]
  },
  {
   "cell_type": "code",
   "execution_count": null,
   "metadata": {
    "notebookRunGroups": {
     "groupValue": "1"
    }
   },
   "outputs": [],
   "source": [
    "mes = 7\n",
    "año = \"2024\"\n",
    "fecha = año + \"-\" + str(mes) + \"-\" + \"01\"  \n",
    "mesesDic = {\n",
    "    1: \"Enero\",\n",
    "    2: \"Febrero\",\n",
    "    3: \"Marzo\",\n",
    "    4: \"Abril\",\n",
    "    5: \"Mayo\",\n",
    "    6: \"Junio\",\n",
    "    7: \"Julio\",\n",
    "    8: \"Agosto\",\n",
    "    9: \"Septiembre\",\n",
    "    10: \"Octubre\",\n",
    "    11: \"Noviembre\",\n",
    "    12: \"Diciembre\",\n",
    "}\n",
    "\n",
    "str(mesesDic[mes])\n",
    "\n",
    "\n",
    "\n",
    "sftp = \"F:/2024/MetLife/\" + str(mesesDic[mes]) + año + \"/Subir/sftp.xlsx\"\n",
    "\n",
    "\n",
    "# nuevos = \"F:/Empresas SF/reportes/carga.xlsx\"\n",
    "\n",
    "\n",
    "derty = pd.read_excel(sftp)"
   ]
  },
  {
   "cell_type": "code",
   "execution_count": null,
   "metadata": {},
   "outputs": [],
   "source": [
    "derty.shape"
   ]
  },
  {
   "cell_type": "code",
   "execution_count": null,
   "metadata": {},
   "outputs": [],
   "source": [
    "metlife_sftp = pd.DataFrame()\n",
    "metlife_sftp = derty.copy()"
   ]
  },
  {
   "cell_type": "code",
   "execution_count": null,
   "metadata": {},
   "outputs": [],
   "source": [
    "\n",
    "\n",
    "metlife_sftp[\"rut1\"] = metlife_sftp[\"rut1\"].astype(str)\n",
    "#metlife_sftp[\"rut1\"] = metlife_sftp[\"rut1\"].apply(lambda y: siPrimerCero(y))\n",
    "metlife_sftp[\"rut1\"] = metlife_sftp[\"rut1\"].str.replace(\"-\", \"\")\n",
    "metlife_sftp[\"rut1\"] = metlife_sftp[\"rut1\"].str.replace(\"–\", \"\")\n",
    "metlife_sftp[\"rut1\"] = metlife_sftp[\"rut1\"].astype(str)\n",
    "metlife_sftp[\"rut1\"] = metlife_sftp[\"rut1\"].str.replace(\".\", \"\")\n",
    "metlife_sftp[\"rut1\"] = metlife_sftp[\"rut1\"].str.replace(\" \", \"\")\n",
    "metlife_sftp[\"rut1\"] = metlife_sftp[\"rut1\"].str.upper()\n",
    "metlife_sftp[\"rut1\"] = metlife_sftp[\"rut1\"].str.strip()\n",
    "\n",
    "metlife_sftp[\"rut2\"] = metlife_sftp[\"rut2\"].astype(str)\n",
    "#metlife_sftp[\"rut2\"] = metlife_sftp[\"rut2\"].apply(lambda y: siPrimerCero(y))\n",
    "metlife_sftp[\"rut2\"] = metlife_sftp[\"rut2\"].str.replace(\"-\", \"\")\n",
    "metlife_sftp[\"rut2\"] = metlife_sftp[\"rut2\"].str.replace(\"–\", \"\")\n",
    "metlife_sftp[\"rut2\"] = metlife_sftp[\"rut2\"].astype(str)\n",
    "metlife_sftp[\"rut2\"] = metlife_sftp[\"rut2\"].str.replace(\".\", \"\")\n",
    "metlife_sftp[\"rut2\"] = metlife_sftp[\"rut2\"].str.replace(\" \", \"\")\n",
    "metlife_sftp[\"rut2\"] = metlife_sftp[\"rut2\"].str.upper()\n",
    "metlife_sftp[\"rut2\"] = metlife_sftp[\"rut2\"].str.strip()\n",
    "\n",
    "metlife_sftp[\"Nombre\"] = metlife_sftp[\"Nombre\"].str.replace(\",\", \"\")\n",
    "metlife_sftp[\"Nombre\"] = metlife_sftp[\"Nombre\"].str.replace(\".\", \"\")\n",
    "metlife_sftp[\"Nombre\"] = metlife_sftp[\"Nombre\"].str.replace(\"-\", \"\")\n",
    "metlife_sftp[\"Nombre\"] = metlife_sftp[\"Nombre\"].str.replace(\"┐\", \"\")\n",
    "metlife_sftp[\"Nombre\"] = metlife_sftp[\"Nombre\"].str.replace(\"═\", \"\")\n",
    "metlife_sftp[\"Nombre\"] = metlife_sftp[\"Nombre\"].str.replace(\"╔\", \"\")\n",
    "metlife_sftp[\"Nombre\"] = metlife_sftp[\"Nombre\"].str.replace(\"┌\", \"\")\n",
    "metlife_sftp[\"Nombre\"] = metlife_sftp[\"Nombre\"].str.title()\n",
    "metlife_sftp[\"Nombre\"] = metlife_sftp[\"Nombre\"].str.strip()\n",
    "\n",
    "metlife_sftp[\"poliza\"] = metlife_sftp[\"poliza\"].astype(str)\n",
    "metlife_sftp[\"poliza\"] = metlife_sftp[\"poliza\"].str.strip()\n",
    "\n",
    "\n",
    "\n",
    "#*******************sacar primer cero\n",
    "metlife_sftp.shape"
   ]
  },
  {
   "cell_type": "code",
   "execution_count": null,
   "metadata": {},
   "outputs": [],
   "source": [
    "metlife_sftp.head()"
   ]
  },
  {
   "cell_type": "code",
   "execution_count": null,
   "metadata": {},
   "outputs": [],
   "source": [
    "def siPrimerCero(y):    \n",
    "    if len(y) <= 4:\n",
    "        y =  \"NONE\"\n",
    "    if y[0] == \"0\":\n",
    "        y = y[1:]\n",
    "    return str(y)\n",
    "    "
   ]
  },
  {
   "cell_type": "code",
   "execution_count": null,
   "metadata": {},
   "outputs": [],
   "source": [
    "metlife_sftp[\"rut1\"] = metlife_sftp[\"rut1\"].apply(lambda y: siPrimerCero(y))\n",
    "metlife_sftp[\"rut2\"] = metlife_sftp[\"rut2\"].apply(lambda y: siPrimerCero(y))\n",
    "metlife_sftp = metlife_sftp[(metlife_sftp[\"rut1\"] != \"NONE\")]\n",
    "metlife_sftp = metlife_sftp[(metlife_sftp[\"rut2\"] != \"NONE\")]\n",
    "\n",
    "\n",
    "metlife_sftp[\"Titular\"] = np.where(metlife_sftp[\"rut1\"] == metlife_sftp[\"rut2\"],1,2 )\n",
    "metlife_sftp = metlife_sftp[(metlife_sftp[\"Titular\"] == 1)]\n",
    "metlife_sftp = metlife_sftp.drop_duplicates(\n",
    "    [\n",
    "        \"rut1\",\"poliza\",\n",
    "    ],\n",
    "    keep=\"last\",\n",
    ")\n",
    "\n",
    "metlife_sftp.shape"
   ]
  },
  {
   "cell_type": "code",
   "execution_count": null,
   "metadata": {},
   "outputs": [],
   "source": [
    "correo = \"F:/2024/MetLife/\" + str(mesesDic[mes]) + año + \"/Subir/correo.xlsx\"\n",
    "dertyc = pd.read_excel(correo)\n",
    "metlife_correo = dertyc.copy()\n",
    "\n",
    "# nuevos = \"F:/Empresas SF/reportes/carga.xlsx\"\n",
    "\n",
    "\n",
    "\n",
    "metlife_correo[\"rut1\"] = metlife_correo[\"rut1\"].astype(str)\n",
    "#metlife_sftp[\"rut1\"] = metlife_sftp[\"rut1\"].apply(lambda y: siPrimerCero(y))\n",
    "metlife_correo[\"rut1\"] = metlife_correo[\"rut1\"].str.replace(\"-\", \"\")\n",
    "metlife_correo[\"rut1\"] = metlife_correo[\"rut1\"].str.replace(\"–\", \"\")\n",
    "metlife_correo[\"rut1\"] = metlife_correo[\"rut1\"].astype(str)\n",
    "metlife_correo[\"rut1\"] = metlife_correo[\"rut1\"].str.replace(\".\", \"\")\n",
    "metlife_correo[\"rut1\"] = metlife_correo[\"rut1\"].str.replace(\" \", \"\")\n",
    "metlife_correo[\"rut1\"] = metlife_correo[\"rut1\"].str.upper()\n",
    "metlife_correo[\"rut1\"] = metlife_correo[\"rut1\"].str.strip()\n",
    "\n",
    "metlife_correo[\"rut2\"] = metlife_correo[\"rut2\"].astype(str)\n",
    "#metlife_sftp[\"rut2\"] = metlife_sftp[\"rut2\"].apply(lambda y: siPrimerCero(y))\n",
    "metlife_correo[\"rut2\"] = metlife_correo[\"rut2\"].str.replace(\"-\", \"\")\n",
    "metlife_correo[\"rut2\"] = metlife_correo[\"rut2\"].str.replace(\"–\", \"\")\n",
    "metlife_correo[\"rut2\"] = metlife_correo[\"rut2\"].astype(str)\n",
    "metlife_correo[\"rut2\"] = metlife_correo[\"rut2\"].str.replace(\".\", \"\")\n",
    "metlife_correo[\"rut2\"] = metlife_correo[\"rut2\"].str.replace(\" \", \"\")\n",
    "metlife_correo[\"rut2\"] = metlife_correo[\"rut2\"].str.upper()\n",
    "metlife_correo[\"rut2\"] = metlife_correo[\"rut2\"].str.strip()\n",
    "\n",
    "metlife_correo[\"Nombre\"] = metlife_correo[\"Nombre\"].str.replace(\",\", \"\")\n",
    "metlife_correo[\"Nombre\"] = metlife_correo[\"Nombre\"].str.replace(\".\", \"\")\n",
    "metlife_correo[\"Nombre\"] = metlife_correo[\"Nombre\"].str.replace(\"-\", \"\")\n",
    "metlife_correo[\"Nombre\"] = metlife_correo[\"Nombre\"].str.replace(\"┐\", \"\")\n",
    "metlife_correo[\"Nombre\"] = metlife_correo[\"Nombre\"].str.replace(\"═\", \"\")\n",
    "metlife_correo[\"Nombre\"] = metlife_correo[\"Nombre\"].str.replace(\"╔\", \"\")\n",
    "metlife_correo[\"Nombre\"] = metlife_correo[\"Nombre\"].str.replace(\"┌\", \"\")\n",
    "metlife_correo[\"Nombre\"] = metlife_correo[\"Nombre\"].str.title()\n",
    "metlife_correo[\"Nombre\"] = metlife_correo[\"Nombre\"].str.strip()\n",
    "\n",
    "metlife_correo[\"poliza\"] = metlife_correo[\"poliza\"].astype(str)\n",
    "metlife_correo[\"poliza\"] = metlife_correo[\"poliza\"].str.strip()\n",
    "\n",
    "\n",
    "\n",
    "\n",
    "#*******************sacar primer cero\n",
    "metlife_correo.shape\n",
    "#derty = pd.read_excel(sftp)"
   ]
  },
  {
   "cell_type": "code",
   "execution_count": null,
   "metadata": {},
   "outputs": [],
   "source": [
    "metlife_correo[\"rut1\"] = metlife_correo[\"rut1\"].apply(lambda y: siPrimerCero(y))\n",
    "metlife_correo[\"rut2\"] = metlife_correo[\"rut2\"].apply(lambda y: siPrimerCero(y))\n",
    "metlife_correo = metlife_correo[(metlife_correo[\"rut1\"] != \"NONE\")]\n",
    "metlife_correo = metlife_correo[(metlife_correo[\"rut2\"] != \"NONE\")]\n",
    "\n",
    "metlife_correo[\"Titular\"] = np.where(metlife_correo[\"rut1\"] == metlife_correo[\"rut2\"],1,2 )\n",
    "metlife_correo = metlife_correo[(metlife_correo[\"Titular\"] == 1)]\n",
    "metlife_correo = metlife_correo.drop_duplicates(\n",
    "    [\n",
    "        \"rut1\",\"poliza\"\n",
    "    ],\n",
    "    keep=\"last\",\n",
    ")\n",
    "\n",
    "metlife_correo.shape"
   ]
  },
  {
   "cell_type": "code",
   "execution_count": null,
   "metadata": {},
   "outputs": [],
   "source": [
    "web = \"F:/2024/MetLife/\" + str(mesesDic[mes]) + año + \"/Subir/web.xlsx\"\n",
    "dertyd = pd.read_excel(web)\n"
   ]
  },
  {
   "cell_type": "code",
   "execution_count": null,
   "metadata": {},
   "outputs": [],
   "source": [
    "dertyd.head(9)"
   ]
  },
  {
   "cell_type": "code",
   "execution_count": null,
   "metadata": {},
   "outputs": [],
   "source": [
    "metlife_web = dertyd.copy()"
   ]
  },
  {
   "cell_type": "code",
   "execution_count": null,
   "metadata": {},
   "outputs": [],
   "source": [
    "metlife_web.head()"
   ]
  },
  {
   "cell_type": "code",
   "execution_count": null,
   "metadata": {},
   "outputs": [],
   "source": [
    "\n",
    "\n",
    "# nuevos = \"F:/Empresas SF/reportes/carga.xlsx\"\n",
    "\n",
    "\n",
    "\n",
    "metlife_web[\"rut1\"] = metlife_web[\"rut1\"].astype(str)\n",
    "#metlife_sftp[\"rut1\"] = metlife_sftp[\"rut1\"].apply(lambda y: siPrimerCero(y))\n",
    "metlife_web[\"rut1\"] = metlife_web[\"rut1\"].str.replace(\"-\", \"\")\n",
    "metlife_web[\"rut1\"] = metlife_web[\"rut1\"].str.replace(\"–\", \"\")\n",
    "metlife_web[\"rut1\"] = metlife_web[\"rut1\"].astype(str)\n",
    "metlife_web[\"rut1\"] = metlife_web[\"rut1\"].str.replace(\".\", \"\")\n",
    "metlife_web[\"rut1\"] = metlife_web[\"rut1\"].str.replace(\" \", \"\")\n",
    "metlife_web[\"rut1\"] = metlife_web[\"rut1\"].str.upper()\n",
    "metlife_web[\"rut1\"] = metlife_web[\"rut1\"].str.strip()\n",
    "\n",
    "metlife_web[\"rut2\"] = metlife_web[\"rut2\"].astype(str)\n",
    "#metlife_sftp[\"rut2\"] = metlife_sftp[\"rut2\"].apply(lambda y: siPrimerCero(y))\n",
    "metlife_web[\"rut2\"] = metlife_web[\"rut2\"].str.replace(\"-\", \"\")\n",
    "metlife_web[\"rut2\"] = metlife_web[\"rut2\"].str.replace(\"–\", \"\")\n",
    "metlife_web[\"rut2\"] = metlife_web[\"rut2\"].astype(str)\n",
    "metlife_web[\"rut2\"] = metlife_web[\"rut2\"].str.replace(\".\", \"\")\n",
    "metlife_web[\"rut2\"] = metlife_web[\"rut2\"].str.replace(\" \", \"\")\n",
    "metlife_web[\"rut2\"] = metlife_web[\"rut2\"].str.upper()\n",
    "metlife_web[\"rut2\"] = metlife_web[\"rut2\"].str.strip()\n",
    "\n",
    "metlife_web[\"Nombre\"] = metlife_web[\"Nombre\"].str.replace(\",\", \"\")\n",
    "metlife_web[\"Nombre\"] = metlife_web[\"Nombre\"].str.replace(\".\", \"\")\n",
    "metlife_web[\"Nombre\"] = metlife_web[\"Nombre\"].str.replace(\"-\", \"\")\n",
    "metlife_web[\"Nombre\"] = metlife_web[\"Nombre\"].str.replace(\"┐\", \"\")\n",
    "metlife_web[\"Nombre\"] = metlife_web[\"Nombre\"].str.replace(\"═\", \"\")\n",
    "metlife_web[\"Nombre\"] = metlife_web[\"Nombre\"].str.replace(\"╔\", \"\")\n",
    "metlife_web[\"Nombre\"] = metlife_web[\"Nombre\"].str.replace(\"┌\", \"\")\n",
    "metlife_web[\"Nombre\"] = metlife_web[\"Nombre\"].str.title()\n",
    "metlife_web[\"Nombre\"] = metlife_web[\"Nombre\"].str.strip()\n",
    "\n",
    "metlife_web[\"poliza\"] = metlife_web[\"poliza\"].astype(str)\n",
    "metlife_web[\"poliza\"] = metlife_web[\"poliza\"].str.strip()\n",
    "\n",
    "metlife_web[\"rut1\"] = metlife_web[\"rut1\"].apply(lambda y: siPrimerCero(y))\n",
    "metlife_web[\"rut2\"] = metlife_web[\"rut2\"].apply(lambda y: siPrimerCero(y))\n",
    "metlife_web = metlife_web[(metlife_web[\"rut1\"] != \"NONE\")]\n",
    "metlife_web = metlife_web[(metlife_web[\"rut2\"] != \"NONE\")]\n",
    "metlife_web.shape\n",
    "\n",
    "metlife_web[\"Titular\"] = np.where(metlife_web[\"rut1\"] == metlife_web[\"rut2\"],1,2 )\n",
    "metlife_web = metlife_web[(metlife_web[\"Titular\"] == 1)]\n",
    "\n",
    "metlife_web = metlife_web.drop_duplicates(\n",
    "    [\n",
    "        \"rut1\",\"poliza\"\n",
    "    ],\n",
    "    keep=\"last\",\n",
    ")\n",
    "\n",
    "\n",
    "#*******************sacar primer cero\n",
    "metlife_web.shape\n",
    "#derty = pd.read_excel(sftp)"
   ]
  },
  {
   "cell_type": "code",
   "execution_count": 322,
   "metadata": {},
   "outputs": [
    {
     "data": {
      "text/html": [
       "<div><div id=35e3d0ca-65b4-4479-85dd-d1b0d53c36f5 style=\"display:none; background-color:#9D6CFF; color:white; width:200px; height:30px; padding-left:5px; border-radius:4px; flex-direction:row; justify-content:space-around; align-items:center;\" onmouseover=\"this.style.backgroundColor='#BA9BF8'\" onmouseout=\"this.style.backgroundColor='#9D6CFF'\" onclick=\"window.commands?.execute('create-mitosheet-from-dataframe-output');\">See Full Dataframe in Mito</div> <script> if (window.commands?.hasCommand('create-mitosheet-from-dataframe-output')) document.getElementById('35e3d0ca-65b4-4479-85dd-d1b0d53c36f5').style.display = 'flex' </script> <table border=\"1\" class=\"dataframe\">\n",
       "  <thead>\n",
       "    <tr style=\"text-align: right;\">\n",
       "      <th></th>\n",
       "      <th>poliza_rut</th>\n",
       "      <th>rut_rut</th>\n",
       "      <th>nombre_rut</th>\n",
       "      <th>mes_rut</th>\n",
       "      <th>año_rut</th>\n",
       "      <th>Llave</th>\n",
       "      <th>desde_rut</th>\n",
       "      <th>hasta_rut</th>\n",
       "      <th>fecha_rut</th>\n",
       "    </tr>\n",
       "  </thead>\n",
       "  <tbody>\n",
       "    <tr>\n",
       "      <th>80</th>\n",
       "      <td>340021397</td>\n",
       "      <td>44853787</td>\n",
       "      <td>Guzman Silva Patricio Alberto</td>\n",
       "      <td>7</td>\n",
       "      <td>2024</td>\n",
       "      <td>3400213974485378772024</td>\n",
       "      <td>2022-06-01</td>\n",
       "      <td>2024-03-18 13:41:19</td>\n",
       "      <td>2024-07-01</td>\n",
       "    </tr>\n",
       "    <tr>\n",
       "      <th>99</th>\n",
       "      <td>340014689</td>\n",
       "      <td>46605373</td>\n",
       "      <td>Carey Tagle Jaime</td>\n",
       "      <td>7</td>\n",
       "      <td>2024</td>\n",
       "      <td>3400146894660537372024</td>\n",
       "      <td>2018-06-01</td>\n",
       "      <td>2024-05-31 00:00:00</td>\n",
       "      <td>2024-07-01</td>\n",
       "    </tr>\n",
       "    <tr>\n",
       "      <th>136</th>\n",
       "      <td>340021397</td>\n",
       "      <td>48297455</td>\n",
       "      <td>Levy Arensburg Hernan Alberto</td>\n",
       "      <td>7</td>\n",
       "      <td>2024</td>\n",
       "      <td>3400213974829745572024</td>\n",
       "      <td>2022-06-01</td>\n",
       "      <td>2024-03-18 13:41:19</td>\n",
       "      <td>2024-07-01</td>\n",
       "    </tr>\n",
       "    <tr>\n",
       "      <th>137</th>\n",
       "      <td>340021982</td>\n",
       "      <td>48510299</td>\n",
       "      <td>Martinez Zuñiga Marta</td>\n",
       "      <td>7</td>\n",
       "      <td>2024</td>\n",
       "      <td>3400219824851029972024</td>\n",
       "      <td>2022-07-01</td>\n",
       "      <td>2024-03-18 13:41:19</td>\n",
       "      <td>2024-07-01</td>\n",
       "    </tr>\n",
       "    <tr>\n",
       "      <th>151</th>\n",
       "      <td>340009443</td>\n",
       "      <td>48910963</td>\n",
       "      <td>Moreno Vargas Alejo Adolfo</td>\n",
       "      <td>7</td>\n",
       "      <td>2024</td>\n",
       "      <td>3400094434891096372024</td>\n",
       "      <td>2017-06-01</td>\n",
       "      <td>2024-03-18 13:41:19</td>\n",
       "      <td>2024-07-01</td>\n",
       "    </tr>\n",
       "  </tbody>\n",
       "</table></div>"
      ],
      "text/plain": [
       "    poliza_rut   rut_rut                     nombre_rut mes_rut año_rut  \\\n",
       "80   340021397  44853787  Guzman Silva Patricio Alberto       7    2024   \n",
       "99   340014689  46605373              Carey Tagle Jaime       7    2024   \n",
       "136  340021397  48297455  Levy Arensburg Hernan Alberto       7    2024   \n",
       "137  340021982  48510299          Martinez Zuñiga Marta       7    2024   \n",
       "151  340009443  48910963     Moreno Vargas Alejo Adolfo       7    2024   \n",
       "\n",
       "                      Llave  desde_rut            hasta_rut  fecha_rut  \n",
       "80   3400213974485378772024 2022-06-01  2024-03-18 13:41:19 2024-07-01  \n",
       "99   3400146894660537372024 2018-06-01  2024-05-31 00:00:00 2024-07-01  \n",
       "136  3400213974829745572024 2022-06-01  2024-03-18 13:41:19 2024-07-01  \n",
       "137  3400219824851029972024 2022-07-01  2024-03-18 13:41:19 2024-07-01  \n",
       "151  3400094434891096372024 2017-06-01  2024-03-18 13:41:19 2024-07-01  "
      ]
     },
     "execution_count": 322,
     "metadata": {},
     "output_type": "execute_result"
    }
   ],
   "source": [
    "subir_correo = pd.DataFrame()\n",
    "subir_correo[\"poliza_rut\"] = metlife_correo[\"poliza\"]\n",
    "subir_correo[\"rut_rut\"] = metlife_correo[\"rut1\"]\n",
    "subir_correo[\"nombre_rut\"] = metlife_correo[\"Nombre\"]\n",
    "subir_correo[\"mes_rut\"] = str(mes)\n",
    "subir_correo[\"año_rut\"] = str(año)\n",
    "#subir_correo[\"fecha_rut\"] = metlife_correo[\"fecha\"]\n",
    "subir_correo[\"Llave\"] = metlife_correo[\"poliza\"] + metlife_correo[\"rut1\"] + str(mes) + str(año)\n",
    "subir_correo[\"desde_rut\"] = metlife_correo[\"desde\"].apply(lambda y: fechaValida(y))\n",
    "subir_correo[\"hasta_rut\"] = metlife_correo[\"hasta\"].apply(lambda y: fechaValida(y))\n",
    "\n",
    "subir_sql = pd.DataFrame()\n",
    "subir_sql[\"poliza_rut\"] = metlife_sftp[\"poliza\"]\n",
    "subir_sql[\"rut_rut\"] = metlife_sftp[\"rut1\"]\n",
    "subir_sql[\"nombre_rut\"] = metlife_sftp[\"Nombre\"]\n",
    "subir_sql[\"mes_rut\"] = str(mes)\n",
    "subir_sql[\"año_rut\"] = str(año)\n",
    "#subir_sql[\"fecha_rut\"] = metlife_sftp[\"fecha\"]\n",
    "subir_sql[\"Llave\"] = metlife_sftp[\"poliza\"] + metlife_sftp[\"rut1\"] + str(mes) + str(año)\n",
    "subir_sql[\"desde_rut\"] = metlife_sftp[\"desde\"].apply(lambda y: fechaValida(y))\n",
    "subir_sql[\"hasta_rut\"] = metlife_sftp[\"hasta\"].apply(lambda y: fechaValida(y)) \n",
    "\n",
    "subir_web = pd.DataFrame()\n",
    "subir_web[\"poliza_rut\"] = metlife_web[\"poliza\"]\n",
    "subir_web[\"rut_rut\"] = metlife_web[\"rut1\"]\n",
    "subir_web[\"nombre_rut\"] = metlife_web[\"Nombre\"]\n",
    "subir_web[\"mes_rut\"] = str(mes)\n",
    "subir_web[\"año_rut\"] = str(año)\n",
    "#subir_web[\"fecha_rut\"] = metlife_web[\"fecha\"]\n",
    "subir_web[\"Llave\"] = metlife_web[\"poliza\"] + metlife_web[\"rut1\"] + str(mes) + str(año)\n",
    "subir_web[\"desde_rut\"] = metlife_web[\"desde\"].apply(lambda y: fechaValida(y))\n",
    "subir_web[\"hasta_rut\"] = metlife_web[\"hasta\"].apply(lambda y: fechaValida(y))\n",
    "\n",
    "mes_metlife = pd.DataFrame()\n",
    "mes_metlife = pd.concat(\n",
    "    [\n",
    "        subir_web,\n",
    "        subir_sql,\n",
    "        subir_correo,\n",
    "        \n",
    "    ],\n",
    "    axis=0,\n",
    ")\n",
    "mes_metlife[\"fecha_rut\"] = pd.to_datetime(fecha, yearfirst=True)\n",
    "\n",
    "mes_metlife = mes_metlife.drop_duplicates(\n",
    "    [\n",
    "        \"rut_rut\",\"poliza_rut\",\n",
    "    ],\n",
    "    keep=\"last\",\n",
    ")\n",
    "mes_metlife.head()"
   ]
  },
  {
   "cell_type": "markdown",
   "metadata": {},
   "source": [
    "//////////////////////////////////////////////////////////////////////////\n",
    "\n",
    "NUMERO RUTS POR POLIZA\n",
    "****************************************************************"
   ]
  },
  {
   "cell_type": "code",
   "execution_count": 323,
   "metadata": {},
   "outputs": [
    {
     "name": "stdout",
     "output_type": "stream",
     "text": [
      "7-2024 355086\n"
     ]
    }
   ],
   "source": [
    "mes_metlife.shape\n",
    "print ( str(mes) + \"-\" + str(año) + \" \" + str(mes_metlife.shape[0]))"
   ]
  },
  {
   "cell_type": "markdown",
   "metadata": {},
   "source": [
    "////////////////////////////////////////////////\n",
    "\n",
    "NUMERO RUT UNICOS\n",
    "------------------------------------------------------------------------------------------------"
   ]
  },
  {
   "cell_type": "code",
   "execution_count": 324,
   "metadata": {},
   "outputs": [
    {
     "name": "stdout",
     "output_type": "stream",
     "text": [
      "7-2024 343225\n"
     ]
    }
   ],
   "source": [
    "mes_metlife2 = mes_metlife.drop_duplicates(\n",
    "    [\n",
    "        \"rut_rut\"\n",
    "    ],\n",
    "    keep=\"last\",\n",
    ")\n",
    "mes_metlife2.shape\n",
    "print (str(mes) + \"-\" + str(año) + \" \" + str(mes_metlife2.shape[0]))"
   ]
  },
  {
   "cell_type": "code",
   "execution_count": 325,
   "metadata": {},
   "outputs": [
    {
     "data": {
      "text/plain": [
       "(355086, 8)"
      ]
     },
     "execution_count": 325,
     "metadata": {},
     "output_type": "execute_result"
    }
   ],
   "source": [
    "#subir_web[\"Llave\"]\n",
    "mes_metlife[\"esta\"] =  mes_metlife[\"Llave\"].isin(rut_unico_tiempo_[\"Llave\"])\n",
    "mes_metlife = mes_metlife[(mes_metlife[\"esta\"] == False)]\n",
    "\n",
    "mes_metlife = mes_metlife[\n",
    "    [\n",
    "        \"poliza_rut\",\n",
    "        \"rut_rut\",\n",
    "        \"nombre_rut\",\n",
    "        \"mes_rut\",\n",
    "        \"año_rut\",\n",
    "        \"Llave\",\n",
    "        \"desde_rut\",\n",
    "        \"hasta_rut\",\n",
    "    ]\n",
    "]\n",
    "mes_metlife.shape"
   ]
  },
  {
   "cell_type": "code",
   "execution_count": 326,
   "metadata": {},
   "outputs": [
    {
     "data": {
      "text/plain": [
       "355086"
      ]
     },
     "execution_count": 326,
     "metadata": {},
     "output_type": "execute_result"
    }
   ],
   "source": [
    "mes_metlife.to_sql(\n",
    "    name=\"rut_unico_tiempo\",\n",
    "    con=motor_mysql_mariadb,\n",
    "    if_exists=\"append\",\n",
    "    index=False,\n",
    "    chunksize=10000,\n",
    ")"
   ]
  },
  {
   "cell_type": "code",
   "execution_count": null,
   "metadata": {},
   "outputs": [],
   "source": []
  },
  {
   "cell_type": "code",
   "execution_count": 327,
   "metadata": {},
   "outputs": [
    {
     "data": {
      "text/plain": [
       "(343225, 4)"
      ]
     },
     "execution_count": 327,
     "metadata": {},
     "output_type": "execute_result"
    }
   ],
   "source": [
    "subir_unicos = pd.DataFrame()\n",
    "subir_unicos[\"Rut_T\"] = mes_metlife2[\"rut_rut\"]\n",
    "subir_unicos[\"Rut_C\"] = mes_metlife2[\"rut_rut\"]\n",
    "subir_unicos[\"Nombre\"] = mes_metlife2[\"nombre_rut\"]\n",
    "subir_unicos[\"Llave\"] = mes_metlife2[\"rut_rut\"] +  mes_metlife2[\"rut_rut\"]\n",
    "\n",
    "\n",
    "subir_unicos.shape"
   ]
  },
  {
   "cell_type": "code",
   "execution_count": 328,
   "metadata": {},
   "outputs": [
    {
     "data": {
      "text/plain": [
       "0"
      ]
     },
     "execution_count": 328,
     "metadata": {},
     "output_type": "execute_result"
    }
   ],
   "source": [
    "subir_unicos[\"esta\"] =  subir_unicos[\"Rut_T\"].isin(rut_unicos[\"Rut_T\"])\n",
    "subir_unicos = subir_unicos[(subir_unicos[\"esta\"] == False)]\n",
    "\n",
    "subir_unicos = subir_unicos[\n",
    "    [\n",
    "        \"Rut_T\",\n",
    "        \"Rut_C\",\n",
    "        \"Nombre\",\n",
    "        \"Llave\",\n",
    "    ]\n",
    "]\n",
    "subir_unicos.shape\n",
    "subir_unicos.to_sql(\n",
    "    name=\"rut_unicos\",\n",
    "    con=motor_mysql_mariadb,\n",
    "    if_exists=\"append\",\n",
    "    index=False,\n",
    "    chunksize=10000,\n",
    ")"
   ]
  }
 ],
 "metadata": {
  "kernelspec": {
   "display_name": "python11",
   "language": "python",
   "name": "python3"
  },
  "language_info": {
   "codemirror_mode": {
    "name": "ipython",
    "version": 3
   },
   "file_extension": ".py",
   "mimetype": "text/x-python",
   "name": "python",
   "nbconvert_exporter": "python",
   "pygments_lexer": "ipython3",
   "version": "3.9.12"
  }
 },
 "nbformat": 4,
 "nbformat_minor": 2
}
