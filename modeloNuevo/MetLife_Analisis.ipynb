{
 "cells": [
  {
   "cell_type": "code",
   "execution_count": 293,
   "metadata": {
    "notebookRunGroups": {
     "groupValue": "1"
    }
   },
   "outputs": [],
   "source": [
    "from pathlib import Path\n",
    "import requests\n",
    "import pandas as pd\n",
    "import numpy as np\n",
    "from io import StringIO\n",
    "import shutil\n",
    "import datetime\n",
    "from datetime import datetime,date\n",
    "import re\n",
    "import json\n",
    "from pandas.api.types import is_numeric_dtype\n",
    "\n",
    "# from simple_salesforce import Salesforce, format_soql, format_external_id\n",
    "# from simple_salesforce.exceptions import SalesforceMalformedRequest\n",
    "# import simpler_sf\n",
    "from sqlalchemy import create_engine\n",
    "#import pymysql\n",
    "\n",
    "# from mysql import connector\n",
    "\n",
    "\n",
    "# paramiko.util.log_to_file(\"paramiko.log\")\n",
    "regex = re.compile(r\"([A-Za-z0-9]+[.-_])*[A-Za-z0-9]+@[A-Za-z0-9-]+(\\.[A-Z|a-z]{2,})+\")"
   ]
  },
  {
   "cell_type": "code",
   "execution_count": 294,
   "metadata": {
    "notebookRunGroups": {
     "groupValue": "1"
    }
   },
   "outputs": [],
   "source": [
    "# usuario = 'siempreread'\n",
    "# contrasena = 'S13mpr3_Ch1l3'\n",
    "# url_servidor = '209.151.148.250'\n",
    "puerto = \"3306\"\n",
    "esquema = \"MetLife_A\"\n",
    "plugin_autenticacion = \"mysql_native_password\"\n",
    "\n",
    "usuario = \"care_consulta\"\n",
    "contrasena = \"CareAssistance!10\"\n",
    "url_servidor = \"10.0.10.22\"\n",
    "\n",
    "# Conexión a la base de datos\n",
    "\n",
    "c_conexion = \"mysql+mysqlconnector://{0}:{1}@{2}:{3}/{4}?auth_plugin={5}\"\n",
    "c_conexion = c_conexion.format(\n",
    "    usuario, contrasena, url_servidor, puerto, esquema, plugin_autenticacion\n",
    ")\n",
    "motor_mysql_mariadb = create_engine(c_conexion)\n",
    "\n",
    "#table.to_sql(name='rut_unico_tiempo',con=motor_mysql_mariadb,if_exists = 'append')\n",
    "\n",
    "\n",
    "# archivo de salida modificar segun archivo\n",
    "# archivo = 'C:/Users/jmartinez/Desktop/casos nuevos/clientes/1/casos_faltantes_segun_archivo.xlsx'"
   ]
  },
  {
   "cell_type": "code",
   "execution_count": 295,
   "metadata": {
    "notebookRunGroups": {
     "groupValue": "1"
    }
   },
   "outputs": [
    {
     "name": "stderr",
     "output_type": "stream",
     "text": [
      "C:\\Users\\jmartinez\\AppData\\Local\\Temp\\ipykernel_23396\\386836739.py:10: FutureWarning: The default value of regex will change from True to False in a future version. In addition, single character regular expressions will *not* be treated as literal strings when regex=True.\n",
      "  rut_unicos[\"Rut_C\"] = rut_unicos[\"Rut_C\"].str.replace(\".\", \"\")\n",
      "C:\\Users\\jmartinez\\AppData\\Local\\Temp\\ipykernel_23396\\386836739.py:19: FutureWarning: The default value of regex will change from True to False in a future version. In addition, single character regular expressions will *not* be treated as literal strings when regex=True.\n",
      "  rut_unicos[\"Rut_T\"] = rut_unicos[\"Rut_T\"].str.replace(\".\", \"\")\n",
      "C:\\Users\\jmartinez\\AppData\\Local\\Temp\\ipykernel_23396\\386836739.py:25: FutureWarning: The default value of regex will change from True to False in a future version. In addition, single character regular expressions will *not* be treated as literal strings when regex=True.\n",
      "  rut_unicos[\"Nombre\"] = rut_unicos[\"Nombre\"].str.replace(\".\", \"\")\n"
     ]
    },
    {
     "data": {
      "text/plain": [
       "' rut_unicos.to_excel(\\n    \"F:/Empresas SF/reportes/rut_unicos_hasta_Marzo_2024.xlsx\", index=False\\n) '"
      ]
     },
     "execution_count": 295,
     "metadata": {},
     "output_type": "execute_result"
    }
   ],
   "source": [
    "# table.to_sql(name='prueba',con=motor_mysql_mariadb,if_exists = 'append')\n",
    "rut_unicos = pd.DataFrame()\n",
    "sql = \"SELECT * FROM MetLife_A.rut_unicos WHERE LEFT(Rut_T, 1) <> '0' \"\n",
    "rut_unicos = pd.read_sql_query(sql, con=motor_mysql_mariadb)\n",
    "\n",
    "rut_unicos[\"Rut_C\"] = rut_unicos[\"Rut_C\"].astype(str)\n",
    "rut_unicos[\"Rut_C\"] = rut_unicos[\"Rut_C\"].str.replace(\"-\", \"\")\n",
    "rut_unicos[\"Rut_C\"] = rut_unicos[\"Rut_C\"].str.replace(\"–\", \"\")\n",
    "rut_unicos[\"Rut_C\"] = rut_unicos[\"Rut_C\"].astype(str)\n",
    "rut_unicos[\"Rut_C\"] = rut_unicos[\"Rut_C\"].str.replace(\".\", \"\")\n",
    "rut_unicos[\"Rut_C\"] = rut_unicos[\"Rut_C\"].str.replace(\" \", \"\")\n",
    "rut_unicos[\"Rut_C\"] = rut_unicos[\"Rut_C\"].str.upper()\n",
    "rut_unicos[\"Rut_C\"] = rut_unicos[\"Rut_C\"].str.strip()\n",
    "\n",
    "rut_unicos[\"Rut_T\"] = rut_unicos[\"Rut_T\"].astype(str)\n",
    "rut_unicos[\"Rut_T\"] = rut_unicos[\"Rut_T\"].str.replace(\"-\", \"\")\n",
    "rut_unicos[\"Rut_T\"] = rut_unicos[\"Rut_T\"].str.replace(\"–\", \"\")\n",
    "rut_unicos[\"Rut_T\"] = rut_unicos[\"Rut_T\"].astype(str)\n",
    "rut_unicos[\"Rut_T\"] = rut_unicos[\"Rut_T\"].str.replace(\".\", \"\")\n",
    "rut_unicos[\"Rut_T\"] = rut_unicos[\"Rut_T\"].str.replace(\" \", \"\")\n",
    "rut_unicos[\"Rut_T\"] = rut_unicos[\"Rut_T\"].str.upper()\n",
    "rut_unicos[\"Rut_T\"] = rut_unicos[\"Rut_T\"].str.strip()\n",
    "\n",
    "rut_unicos[\"Nombre\"] = rut_unicos[\"Nombre\"].str.replace(\",\", \"\")\n",
    "rut_unicos[\"Nombre\"] = rut_unicos[\"Nombre\"].str.replace(\".\", \"\")\n",
    "rut_unicos[\"Nombre\"] = rut_unicos[\"Nombre\"].str.replace(\"-\", \"\")\n",
    "rut_unicos[\"Nombre\"] = rut_unicos[\"Nombre\"].str.replace(\"┐\", \"\")\n",
    "rut_unicos[\"Nombre\"] = rut_unicos[\"Nombre\"].str.replace(\"═\", \"\")\n",
    "rut_unicos[\"Nombre\"] = rut_unicos[\"Nombre\"].str.replace(\"╔\", \"\")\n",
    "rut_unicos[\"Nombre\"] = rut_unicos[\"Nombre\"].str.replace(\"┌\", \"\")\n",
    "rut_unicos[\"Nombre\"] = rut_unicos[\"Nombre\"].str.title()\n",
    "rut_unicos[\"Nombre\"] = rut_unicos[\"Nombre\"].str.strip()\n",
    "\n",
    "rut_unicos.shape\n",
    "\n",
    "\"\"\" rut_unicos.to_excel(\n",
    "    \"F:/Empresas SF/reportes/rut_unicos_hasta_Marzo_2024.xlsx\", index=False\n",
    ") \"\"\""
   ]
  },
  {
   "cell_type": "code",
   "execution_count": 296,
   "metadata": {
    "notebookRunGroups": {
     "groupValue": "1"
    }
   },
   "outputs": [
    {
     "data": {
      "text/plain": [
       "(3974948, 1)"
      ]
     },
     "execution_count": 296,
     "metadata": {},
     "output_type": "execute_result"
    }
   ],
   "source": [
    "rut_unico_tiempo_ = pd.DataFrame()\n",
    "sql = \"SELECT Llave FROM MetLife_A.rut_unico_tiempo_2 \"\n",
    "rut_unico_tiempo_ = pd.read_sql_query(sql, con=motor_mysql_mariadb)\n",
    "\n",
    "rut_unico_tiempo_.shape"
   ]
  },
  {
   "cell_type": "code",
   "execution_count": null,
   "metadata": {},
   "outputs": [],
   "source": [
    "\"\"\" def sacarultimo(y):\n",
    "    y = y[:-1]\n",
    "    return str(y)\n",
    "     \"\"\""
   ]
  },
  {
   "cell_type": "code",
   "execution_count": null,
   "metadata": {},
   "outputs": [],
   "source": [
    "\"\"\" sftp = \"F:/2024/MetLife/datos_metlife.xlsx\"\n",
    "\n",
    "derty = pd.read_excel(sftp)\n",
    "\n",
    "rut_unico_tiempo_[\"rut_rut2\"] = rut_unico_tiempo_[\"rut_rut\"].apply(lambda y: sacarultimo(y))\n",
    "\n",
    "rut_unico_tiempo_[\"rut_rut2\"] = rut_unico_tiempo_[\"rut_rut2\"].astype(str)\n",
    "rut_unico_tiempo_[\"rut_rut2\"] = rut_unico_tiempo_[\"rut_rut2\"].str.upper()\n",
    "rut_unico_tiempo_[\"rut_rut2\"] = rut_unico_tiempo_[\"rut_rut2\"].str.replace(\"-\", \"\")\n",
    "rut_unico_tiempo_[\"rut_rut2\"] = rut_unico_tiempo_[\"rut_rut2\"].str.replace(\"–\", \"\")\n",
    "rut_unico_tiempo_[\"rut_rut2\"] = rut_unico_tiempo_[\"rut_rut2\"].astype(str)\n",
    "rut_unico_tiempo_[\"rut_rut2\"] = rut_unico_tiempo_[\"rut_rut2\"].str.replace(\".\", \"\")\n",
    "\n",
    "rut_unico_tiempo_[\"rut_rut2\"] = rut_unico_tiempo_[\"rut_rut2\"].str.strip()\n",
    "\n",
    "derty[\"rut1\"] = derty[\"rut1\"].astype(str)\n",
    "derty[\"rut1\"] = derty[\"rut1\"].str.upper()\n",
    "derty[\"rut1\"] = derty[\"rut1\"].str.replace(\"-\", \"\")\n",
    "derty[\"rut1\"] = derty[\"rut1\"].str.replace(\"–\", \"\")\n",
    "derty[\"rut1\"] = derty[\"rut1\"].astype(str)\n",
    "derty[\"rut1\"] = derty[\"rut1\"].str.replace(\".\", \"\")\n",
    "\n",
    "derty[\"rut1\"] = derty[\"rut1\"].str.strip() \"\"\"\n"
   ]
  },
  {
   "cell_type": "code",
   "execution_count": null,
   "metadata": {},
   "outputs": [],
   "source": [
    "\"\"\" rut_unicos2 = pd.merge(\n",
    "    left=derty,\n",
    "    right=rut_unico_tiempo_,\n",
    "    how=\"left\",\n",
    "    left_on=\"rut1\",\n",
    "    right_on=\"rut_rut2\",\n",
    ")\n",
    " \"\"\""
   ]
  },
  {
   "cell_type": "code",
   "execution_count": null,
   "metadata": {},
   "outputs": [],
   "source": [
    "\"\"\" rut_unicos2.to_excel(\"F:/2024/MetLife/datos_metlife_confecha.xlsx\", index=False) \"\"\""
   ]
  },
  {
   "cell_type": "code",
   "execution_count": 297,
   "metadata": {
    "notebookRunGroups": {
     "groupValue": "1"
    }
   },
   "outputs": [],
   "source": [
    "def fechaValida(fecha):\n",
    "    if (len(str(fecha)) <= 9 ):\n",
    "        fecha = \"\"\n",
    "        \n",
    "    fecha = str(fecha)\n",
    "    fecha1 = str(fecha)\n",
    "    \n",
    "    #datetime.strptime(fecha, '%Y-%m-%d')\n",
    "    \n",
    "    try:\n",
    "        fecha = datetime.strptime(fecha, '%Y-%m-%d %H:%M:%S')\n",
    "        date_string = fecha1\n",
    "        #print(\"date_string =\", date_string)\n",
    "        #print(\"type of date_string =\", type(date_string))\n",
    "\n",
    "        date_object = datetime.strptime(date_string, \"%Y-%m-%d %H:%M:%S\")\n",
    "\n",
    "        #print(\"date_object =\", date_object)\n",
    "        #print(\"type of date_object =\", type(date_object))\n",
    "        return date_object\n",
    "    except ValueError:\n",
    "        return datetime.utcnow().strftime('%Y-%m-%d %H:%M:%S')"
   ]
  },
  {
   "cell_type": "code",
   "execution_count": 298,
   "metadata": {
    "notebookRunGroups": {
     "groupValue": "1"
    }
   },
   "outputs": [],
   "source": [
    "mes = 11\n",
    "año = \"2023\"\n",
    "fecha = año + \"-\" + str(mes) + \"-\" + \"01\"  \n",
    "mesesDic = {\n",
    "    1: \"Enero\",\n",
    "    2: \"Febrero\",\n",
    "    3: \"Marzo\",\n",
    "    4: \"Abril\",\n",
    "    5: \"Mayo\",\n",
    "    6: \"Junio\",\n",
    "    7: \"Julio\",\n",
    "    8: \"Agosto\",\n",
    "    9: \"Septiembre\",\n",
    "    10: \"Octubre\",\n",
    "    11: \"Noviembre\",\n",
    "    12: \"Diciembre\",\n",
    "}\n",
    "\n",
    "str(mesesDic[mes])\n",
    "\n",
    "\n",
    "\n",
    "sftp = \"F:/2024/MetLife/\" + str(mesesDic[mes]) + año + \"/Subir/sftp.xlsx\"\n",
    "\n",
    "\n",
    "# nuevos = \"F:/Empresas SF/reportes/carga.xlsx\"\n",
    "\n",
    "\n",
    "derty = pd.read_excel(sftp)"
   ]
  },
  {
   "cell_type": "code",
   "execution_count": 299,
   "metadata": {
    "notebookRunGroups": {
     "groupValue": "1"
    }
   },
   "outputs": [
    {
     "data": {
      "text/plain": [
       "(457751, 20)"
      ]
     },
     "execution_count": 299,
     "metadata": {},
     "output_type": "execute_result"
    }
   ],
   "source": [
    "derty.shape"
   ]
  },
  {
   "cell_type": "code",
   "execution_count": 300,
   "metadata": {
    "notebookRunGroups": {
     "groupValue": "1"
    }
   },
   "outputs": [],
   "source": [
    "metlife_sftp = pd.DataFrame()\n",
    "metlife_sftp = derty.copy()"
   ]
  },
  {
   "cell_type": "code",
   "execution_count": 301,
   "metadata": {
    "notebookRunGroups": {
     "groupValue": "1"
    }
   },
   "outputs": [
    {
     "name": "stderr",
     "output_type": "stream",
     "text": [
      "C:\\Users\\jmartinez\\AppData\\Local\\Temp\\ipykernel_23396\\3662042864.py:6: FutureWarning: The default value of regex will change from True to False in a future version. In addition, single character regular expressions will *not* be treated as literal strings when regex=True.\n",
      "  metlife_sftp[\"rut1\"] = metlife_sftp[\"rut1\"].str.replace(\".\", \"\")\n",
      "C:\\Users\\jmartinez\\AppData\\Local\\Temp\\ipykernel_23396\\3662042864.py:16: FutureWarning: The default value of regex will change from True to False in a future version. In addition, single character regular expressions will *not* be treated as literal strings when regex=True.\n",
      "  metlife_sftp[\"rut2\"] = metlife_sftp[\"rut2\"].str.replace(\".\", \"\")\n",
      "C:\\Users\\jmartinez\\AppData\\Local\\Temp\\ipykernel_23396\\3662042864.py:22: FutureWarning: The default value of regex will change from True to False in a future version. In addition, single character regular expressions will *not* be treated as literal strings when regex=True.\n",
      "  metlife_sftp[\"Nombre\"] = metlife_sftp[\"Nombre\"].str.replace(\".\", \"\")\n"
     ]
    },
    {
     "data": {
      "text/plain": [
       "(457751, 20)"
      ]
     },
     "execution_count": 301,
     "metadata": {},
     "output_type": "execute_result"
    }
   ],
   "source": [
    "\n",
    "\n",
    "metlife_sftp[\"rut1\"] = metlife_sftp[\"rut1\"].astype(str)\n",
    "#metlife_sftp[\"rut1\"] = metlife_sftp[\"rut1\"].apply(lambda y: siPrimerCero(y))\n",
    "metlife_sftp[\"rut1\"] = metlife_sftp[\"rut1\"].str.replace(\"-\", \"\")\n",
    "metlife_sftp[\"rut1\"] = metlife_sftp[\"rut1\"].str.replace(\"–\", \"\")\n",
    "metlife_sftp[\"rut1\"] = metlife_sftp[\"rut1\"].astype(str)\n",
    "metlife_sftp[\"rut1\"] = metlife_sftp[\"rut1\"].str.replace(\".\", \"\")\n",
    "metlife_sftp[\"rut1\"] = metlife_sftp[\"rut1\"].str.replace(\" \", \"\")\n",
    "metlife_sftp[\"rut1\"] = metlife_sftp[\"rut1\"].str.upper()\n",
    "metlife_sftp[\"rut1\"] = metlife_sftp[\"rut1\"].str.strip()\n",
    "\n",
    "metlife_sftp[\"rut2\"] = metlife_sftp[\"rut2\"].astype(str)\n",
    "#metlife_sftp[\"rut2\"] = metlife_sftp[\"rut2\"].apply(lambda y: siPrimerCero(y))\n",
    "metlife_sftp[\"rut2\"] = metlife_sftp[\"rut2\"].str.replace(\"-\", \"\")\n",
    "metlife_sftp[\"rut2\"] = metlife_sftp[\"rut2\"].str.replace(\"–\", \"\")\n",
    "metlife_sftp[\"rut2\"] = metlife_sftp[\"rut2\"].astype(str)\n",
    "metlife_sftp[\"rut2\"] = metlife_sftp[\"rut2\"].str.replace(\".\", \"\")\n",
    "metlife_sftp[\"rut2\"] = metlife_sftp[\"rut2\"].str.replace(\" \", \"\")\n",
    "metlife_sftp[\"rut2\"] = metlife_sftp[\"rut2\"].str.upper()\n",
    "metlife_sftp[\"rut2\"] = metlife_sftp[\"rut2\"].str.strip()\n",
    "\n",
    "metlife_sftp[\"Nombre\"] = metlife_sftp[\"Nombre\"].str.replace(\",\", \"\")\n",
    "metlife_sftp[\"Nombre\"] = metlife_sftp[\"Nombre\"].str.replace(\".\", \"\")\n",
    "metlife_sftp[\"Nombre\"] = metlife_sftp[\"Nombre\"].str.replace(\"-\", \"\")\n",
    "metlife_sftp[\"Nombre\"] = metlife_sftp[\"Nombre\"].str.replace(\"┐\", \"\")\n",
    "metlife_sftp[\"Nombre\"] = metlife_sftp[\"Nombre\"].str.replace(\"═\", \"\")\n",
    "metlife_sftp[\"Nombre\"] = metlife_sftp[\"Nombre\"].str.replace(\"╔\", \"\")\n",
    "metlife_sftp[\"Nombre\"] = metlife_sftp[\"Nombre\"].str.replace(\"┌\", \"\")\n",
    "metlife_sftp[\"Nombre\"] = metlife_sftp[\"Nombre\"].str.title()\n",
    "metlife_sftp[\"Nombre\"] = metlife_sftp[\"Nombre\"].str.strip()\n",
    "\n",
    "metlife_sftp[\"poliza\"] = metlife_sftp[\"poliza\"].astype(str)\n",
    "metlife_sftp[\"poliza\"] = metlife_sftp[\"poliza\"].str.strip()\n",
    "\n",
    "\n",
    "\n",
    "#*******************sacar primer cero\n",
    "metlife_sftp.shape"
   ]
  },
  {
   "cell_type": "code",
   "execution_count": 302,
   "metadata": {
    "notebookRunGroups": {
     "groupValue": "1"
    }
   },
   "outputs": [
    {
     "data": {
      "text/html": [
       "<div><div id=80f4f40e-14d3-405e-900b-bdb156bd091f style=\"display:none; background-color:#9D6CFF; color:white; width:200px; height:30px; padding-left:5px; border-radius:4px; flex-direction:row; justify-content:space-around; align-items:center;\" onmouseover=\"this.style.backgroundColor='#BA9BF8'\" onmouseout=\"this.style.backgroundColor='#9D6CFF'\" onclick=\"window.commands?.execute('create-mitosheet-from-dataframe-output');\">See Full Dataframe in Mito</div> <script> if (window.commands?.hasCommand('create-mitosheet-from-dataframe-output')) document.getElementById('80f4f40e-14d3-405e-900b-bdb156bd091f').style.display = 'flex' </script> <table border=\"1\" class=\"dataframe\">\n",
       "  <thead>\n",
       "    <tr style=\"text-align: right;\">\n",
       "      <th></th>\n",
       "      <th>poliza</th>\n",
       "      <th>RUTASEGURADO</th>\n",
       "      <th>DV</th>\n",
       "      <th>rut2</th>\n",
       "      <th>RUTBENEFICIARIO</th>\n",
       "      <th>RUTBENEFIARIO_DV</th>\n",
       "      <th>rut1</th>\n",
       "      <th>derty</th>\n",
       "      <th>FNAC</th>\n",
       "      <th>SEXO</th>\n",
       "      <th>DIRECCION</th>\n",
       "      <th>COMUNA</th>\n",
       "      <th>CIUDAD</th>\n",
       "      <th>TELEFONO</th>\n",
       "      <th>RELACION</th>\n",
       "      <th>desde</th>\n",
       "      <th>hasta</th>\n",
       "      <th>Nombre</th>\n",
       "      <th>EMAIL</th>\n",
       "      <th>NROCELULAR</th>\n",
       "    </tr>\n",
       "  </thead>\n",
       "  <tbody>\n",
       "    <tr>\n",
       "      <th>0</th>\n",
       "      <td>340006458</td>\n",
       "      <td>12345</td>\n",
       "      <td>5</td>\n",
       "      <td>123455</td>\n",
       "      <td>12345</td>\n",
       "      <td>5</td>\n",
       "      <td>123455</td>\n",
       "      <td>1</td>\n",
       "      <td>29014</td>\n",
       "      <td>M</td>\n",
       "      <td>NaN</td>\n",
       "      <td>NaN</td>\n",
       "      <td>NaN</td>\n",
       "      <td>NaN</td>\n",
       "      <td>AS</td>\n",
       "      <td>2016-03-01</td>\n",
       "      <td>NaT</td>\n",
       "      <td>Puebla Abarca Nelson Hernan</td>\n",
       "      <td>NaN</td>\n",
       "      <td>NaN</td>\n",
       "    </tr>\n",
       "    <tr>\n",
       "      <th>1</th>\n",
       "      <td>340020148</td>\n",
       "      <td>1039122</td>\n",
       "      <td>9</td>\n",
       "      <td>10391229</td>\n",
       "      <td>1039122</td>\n",
       "      <td>9</td>\n",
       "      <td>10391229</td>\n",
       "      <td>1</td>\n",
       "      <td>24632</td>\n",
       "      <td>M</td>\n",
       "      <td>NaN</td>\n",
       "      <td>NaN</td>\n",
       "      <td>NaN</td>\n",
       "      <td>974304350</td>\n",
       "      <td>AS</td>\n",
       "      <td>2021-10-28</td>\n",
       "      <td>NaT</td>\n",
       "      <td>Harbst Miranda Helmuth Andres</td>\n",
       "      <td>hharbst@raingenieros.cl</td>\n",
       "      <td>974304350</td>\n",
       "    </tr>\n",
       "    <tr>\n",
       "      <th>2</th>\n",
       "      <td>340006130</td>\n",
       "      <td>1543124</td>\n",
       "      <td>5</td>\n",
       "      <td>15431245</td>\n",
       "      <td>1543124</td>\n",
       "      <td>5</td>\n",
       "      <td>15431245</td>\n",
       "      <td>1</td>\n",
       "      <td>30685</td>\n",
       "      <td>F</td>\n",
       "      <td>NaN</td>\n",
       "      <td>NaN</td>\n",
       "      <td>NaN</td>\n",
       "      <td>987028346</td>\n",
       "      <td>AS</td>\n",
       "      <td>2023-10-01</td>\n",
       "      <td>NaT</td>\n",
       "      <td>Vargas Angulo Daniela</td>\n",
       "      <td>dvargas@alemana.cl</td>\n",
       "      <td>987028346</td>\n",
       "    </tr>\n",
       "    <tr>\n",
       "      <th>3</th>\n",
       "      <td>340011238</td>\n",
       "      <td>1701221</td>\n",
       "      <td>5</td>\n",
       "      <td>17012215</td>\n",
       "      <td>1701221</td>\n",
       "      <td>5</td>\n",
       "      <td>17012215</td>\n",
       "      <td>1</td>\n",
       "      <td>12789</td>\n",
       "      <td>F</td>\n",
       "      <td>MONTENEGRO 189 DPTO103-B</td>\n",
       "      <td>ÑUÑOA</td>\n",
       "      <td>SANTIAGO</td>\n",
       "      <td>229811223</td>\n",
       "      <td>AS</td>\n",
       "      <td>2016-08-01</td>\n",
       "      <td>NaT</td>\n",
       "      <td>Castro Grimberg Ester</td>\n",
       "      <td>ester.castro1@gmail.com</td>\n",
       "      <td>NaN</td>\n",
       "    </tr>\n",
       "    <tr>\n",
       "      <th>4</th>\n",
       "      <td>340011238</td>\n",
       "      <td>2239787</td>\n",
       "      <td>7</td>\n",
       "      <td>22397877</td>\n",
       "      <td>2239787</td>\n",
       "      <td>7</td>\n",
       "      <td>22397877</td>\n",
       "      <td>1</td>\n",
       "      <td>10443</td>\n",
       "      <td>M</td>\n",
       "      <td>CONCEPCION 945  PB PATRONA DE CHILE</td>\n",
       "      <td>MAIPÚ</td>\n",
       "      <td>NaN</td>\n",
       "      <td>NaN</td>\n",
       "      <td>AS</td>\n",
       "      <td>2016-08-01</td>\n",
       "      <td>NaT</td>\n",
       "      <td>Salazar  Fernando</td>\n",
       "      <td>NaN</td>\n",
       "      <td>NaN</td>\n",
       "    </tr>\n",
       "  </tbody>\n",
       "</table></div>"
      ],
      "text/plain": [
       "      poliza  RUTASEGURADO DV      rut2  RUTBENEFICIARIO RUTBENEFIARIO_DV  \\\n",
       "0  340006458         12345  5    123455            12345                5   \n",
       "1  340020148       1039122  9  10391229          1039122                9   \n",
       "2  340006130       1543124  5  15431245          1543124                5   \n",
       "3  340011238       1701221  5  17012215          1701221                5   \n",
       "4  340011238       2239787  7  22397877          2239787                7   \n",
       "\n",
       "       rut1  derty   FNAC SEXO                            DIRECCION COMUNA  \\\n",
       "0    123455      1  29014    M                                  NaN    NaN   \n",
       "1  10391229      1  24632    M                                  NaN    NaN   \n",
       "2  15431245      1  30685    F                                  NaN    NaN   \n",
       "3  17012215      1  12789    F             MONTENEGRO 189 DPTO103-B  ÑUÑOA   \n",
       "4  22397877      1  10443    M  CONCEPCION 945  PB PATRONA DE CHILE  MAIPÚ   \n",
       "\n",
       "     CIUDAD   TELEFONO RELACION      desde hasta  \\\n",
       "0       NaN        NaN       AS 2016-03-01   NaT   \n",
       "1       NaN  974304350       AS 2021-10-28   NaT   \n",
       "2       NaN  987028346       AS 2023-10-01   NaT   \n",
       "3  SANTIAGO  229811223       AS 2016-08-01   NaT   \n",
       "4       NaN        NaN       AS 2016-08-01   NaT   \n",
       "\n",
       "                          Nombre                    EMAIL NROCELULAR  \n",
       "0    Puebla Abarca Nelson Hernan                      NaN        NaN  \n",
       "1  Harbst Miranda Helmuth Andres  hharbst@raingenieros.cl  974304350  \n",
       "2          Vargas Angulo Daniela       dvargas@alemana.cl  987028346  \n",
       "3          Castro Grimberg Ester  ester.castro1@gmail.com        NaN  \n",
       "4              Salazar  Fernando                      NaN        NaN  "
      ]
     },
     "execution_count": 302,
     "metadata": {},
     "output_type": "execute_result"
    }
   ],
   "source": [
    "metlife_sftp.head()"
   ]
  },
  {
   "cell_type": "code",
   "execution_count": 303,
   "metadata": {
    "notebookRunGroups": {
     "groupValue": "1"
    }
   },
   "outputs": [],
   "source": [
    "def siPrimerCero(y):    \n",
    "    if len(y) <= 4:\n",
    "        y =  \"NONE\"\n",
    "    if y[0] == \"0\":\n",
    "        y = y[1:]\n",
    "    return str(y)\n",
    "    "
   ]
  },
  {
   "cell_type": "code",
   "execution_count": 304,
   "metadata": {
    "notebookRunGroups": {
     "groupValue": "1"
    }
   },
   "outputs": [
    {
     "data": {
      "text/plain": [
       "(425283, 21)"
      ]
     },
     "execution_count": 304,
     "metadata": {},
     "output_type": "execute_result"
    }
   ],
   "source": [
    "metlife_sftp[\"rut1\"] = metlife_sftp[\"rut1\"].apply(lambda y: siPrimerCero(y))\n",
    "metlife_sftp[\"rut2\"] = metlife_sftp[\"rut2\"].apply(lambda y: siPrimerCero(y))\n",
    "metlife_sftp = metlife_sftp[(metlife_sftp[\"rut1\"] != \"NONE\")]\n",
    "metlife_sftp = metlife_sftp[(metlife_sftp[\"rut2\"] != \"NONE\")]\n",
    "\n",
    "\n",
    "metlife_sftp[\"Titular\"] = np.where(metlife_sftp[\"rut1\"] == metlife_sftp[\"rut2\"],1,2 )\n",
    "metlife_sftp = metlife_sftp[(metlife_sftp[\"Titular\"] == 1)]\n",
    "metlife_sftp = metlife_sftp.drop_duplicates(\n",
    "    [\n",
    "        \"rut1\",\"poliza\",\n",
    "    ],\n",
    "    keep=\"last\",\n",
    ")\n",
    "\n",
    "metlife_sftp.shape"
   ]
  },
  {
   "cell_type": "code",
   "execution_count": 305,
   "metadata": {
    "notebookRunGroups": {
     "groupValue": "1"
    }
   },
   "outputs": [
    {
     "data": {
      "text/plain": [
       "(425283, 21)"
      ]
     },
     "execution_count": 305,
     "metadata": {},
     "output_type": "execute_result"
    }
   ],
   "source": [
    "metlife_sftp.shape"
   ]
  },
  {
   "cell_type": "code",
   "execution_count": 306,
   "metadata": {
    "notebookRunGroups": {
     "groupValue": "1"
    }
   },
   "outputs": [
    {
     "name": "stderr",
     "output_type": "stream",
     "text": [
      "C:\\Users\\jmartinez\\AppData\\Local\\Temp\\ipykernel_23396\\2005110109.py:14: FutureWarning: The default value of regex will change from True to False in a future version. In addition, single character regular expressions will *not* be treated as literal strings when regex=True.\n",
      "  metlife_correo[\"rut1\"] = metlife_correo[\"rut1\"].str.replace(\".\", \"\")\n",
      "C:\\Users\\jmartinez\\AppData\\Local\\Temp\\ipykernel_23396\\2005110109.py:24: FutureWarning: The default value of regex will change from True to False in a future version. In addition, single character regular expressions will *not* be treated as literal strings when regex=True.\n",
      "  metlife_correo[\"rut2\"] = metlife_correo[\"rut2\"].str.replace(\".\", \"\")\n",
      "C:\\Users\\jmartinez\\AppData\\Local\\Temp\\ipykernel_23396\\2005110109.py:30: FutureWarning: The default value of regex will change from True to False in a future version. In addition, single character regular expressions will *not* be treated as literal strings when regex=True.\n",
      "  metlife_correo[\"Nombre\"] = metlife_correo[\"Nombre\"].str.replace(\".\", \"\")\n"
     ]
    },
    {
     "data": {
      "text/plain": [
       "(972, 6)"
      ]
     },
     "execution_count": 306,
     "metadata": {},
     "output_type": "execute_result"
    }
   ],
   "source": [
    "correo = \"F:/2024/MetLife/\" + str(mesesDic[mes]) + año + \"/Subir/correo.xlsx\"\n",
    "dertyc = pd.read_excel(correo)\n",
    "metlife_correo = dertyc.copy()\n",
    "\n",
    "# nuevos = \"F:/Empresas SF/reportes/carga.xlsx\"\n",
    "\n",
    "\n",
    "\n",
    "metlife_correo[\"rut1\"] = metlife_correo[\"rut1\"].astype(str)\n",
    "#metlife_sftp[\"rut1\"] = metlife_sftp[\"rut1\"].apply(lambda y: siPrimerCero(y))\n",
    "metlife_correo[\"rut1\"] = metlife_correo[\"rut1\"].str.replace(\"-\", \"\")\n",
    "metlife_correo[\"rut1\"] = metlife_correo[\"rut1\"].str.replace(\"–\", \"\")\n",
    "metlife_correo[\"rut1\"] = metlife_correo[\"rut1\"].astype(str)\n",
    "metlife_correo[\"rut1\"] = metlife_correo[\"rut1\"].str.replace(\".\", \"\")\n",
    "metlife_correo[\"rut1\"] = metlife_correo[\"rut1\"].str.replace(\" \", \"\")\n",
    "metlife_correo[\"rut1\"] = metlife_correo[\"rut1\"].str.upper()\n",
    "metlife_correo[\"rut1\"] = metlife_correo[\"rut1\"].str.strip()\n",
    "\n",
    "metlife_correo[\"rut2\"] = metlife_correo[\"rut2\"].astype(str)\n",
    "#metlife_sftp[\"rut2\"] = metlife_sftp[\"rut2\"].apply(lambda y: siPrimerCero(y))\n",
    "metlife_correo[\"rut2\"] = metlife_correo[\"rut2\"].str.replace(\"-\", \"\")\n",
    "metlife_correo[\"rut2\"] = metlife_correo[\"rut2\"].str.replace(\"–\", \"\")\n",
    "metlife_correo[\"rut2\"] = metlife_correo[\"rut2\"].astype(str)\n",
    "metlife_correo[\"rut2\"] = metlife_correo[\"rut2\"].str.replace(\".\", \"\")\n",
    "metlife_correo[\"rut2\"] = metlife_correo[\"rut2\"].str.replace(\" \", \"\")\n",
    "metlife_correo[\"rut2\"] = metlife_correo[\"rut2\"].str.upper()\n",
    "metlife_correo[\"rut2\"] = metlife_correo[\"rut2\"].str.strip()\n",
    "\n",
    "metlife_correo[\"Nombre\"] = metlife_correo[\"Nombre\"].str.replace(\",\", \"\")\n",
    "metlife_correo[\"Nombre\"] = metlife_correo[\"Nombre\"].str.replace(\".\", \"\")\n",
    "metlife_correo[\"Nombre\"] = metlife_correo[\"Nombre\"].str.replace(\"-\", \"\")\n",
    "metlife_correo[\"Nombre\"] = metlife_correo[\"Nombre\"].str.replace(\"┐\", \"\")\n",
    "metlife_correo[\"Nombre\"] = metlife_correo[\"Nombre\"].str.replace(\"═\", \"\")\n",
    "metlife_correo[\"Nombre\"] = metlife_correo[\"Nombre\"].str.replace(\"╔\", \"\")\n",
    "metlife_correo[\"Nombre\"] = metlife_correo[\"Nombre\"].str.replace(\"┌\", \"\")\n",
    "metlife_correo[\"Nombre\"] = metlife_correo[\"Nombre\"].str.title()\n",
    "metlife_correo[\"Nombre\"] = metlife_correo[\"Nombre\"].str.strip()\n",
    "\n",
    "metlife_correo[\"poliza\"] = metlife_correo[\"poliza\"].astype(str)\n",
    "metlife_correo[\"poliza\"] = metlife_correo[\"poliza\"].str.strip()\n",
    "\n",
    "\n",
    "\n",
    "\n",
    "#*******************sacar primer cero\n",
    "metlife_correo.shape\n",
    "#derty = pd.read_excel(sftp)"
   ]
  },
  {
   "cell_type": "code",
   "execution_count": 307,
   "metadata": {
    "notebookRunGroups": {
     "groupValue": "1"
    }
   },
   "outputs": [
    {
     "data": {
      "text/plain": [
       "(560, 7)"
      ]
     },
     "execution_count": 307,
     "metadata": {},
     "output_type": "execute_result"
    }
   ],
   "source": [
    "metlife_correo[\"rut1\"] = metlife_correo[\"rut1\"].apply(lambda y: siPrimerCero(y))\n",
    "metlife_correo[\"rut2\"] = metlife_correo[\"rut2\"].apply(lambda y: siPrimerCero(y))\n",
    "metlife_correo = metlife_correo[(metlife_correo[\"rut1\"] != \"NONE\")]\n",
    "metlife_correo = metlife_correo[(metlife_correo[\"rut2\"] != \"NONE\")]\n",
    "\n",
    "metlife_correo[\"Titular\"] = np.where(metlife_correo[\"rut1\"] == metlife_correo[\"rut2\"],1,2 )\n",
    "metlife_correo = metlife_correo[(metlife_correo[\"Titular\"] == 1)]\n",
    "metlife_correo = metlife_correo.drop_duplicates(\n",
    "    [\n",
    "        \"rut1\",\"poliza\"\n",
    "    ],\n",
    "    keep=\"last\",\n",
    ")\n",
    "\n",
    "metlife_correo.shape"
   ]
  },
  {
   "cell_type": "code",
   "execution_count": 41,
   "metadata": {},
   "outputs": [
    {
     "data": {
      "text/plain": [
       "(4172, 7)"
      ]
     },
     "execution_count": 41,
     "metadata": {},
     "output_type": "execute_result"
    }
   ],
   "source": [
    "metlife_correo.shape"
   ]
  },
  {
   "cell_type": "code",
   "execution_count": 308,
   "metadata": {
    "notebookRunGroups": {
     "groupValue": "1"
    }
   },
   "outputs": [],
   "source": [
    "web = \"F:/2024/MetLife/\" + str(mesesDic[mes]) + año + \"/Subir/web.xlsx\"\n",
    "dertyd = pd.read_excel(web)\n"
   ]
  },
  {
   "cell_type": "code",
   "execution_count": 309,
   "metadata": {
    "notebookRunGroups": {
     "groupValue": "1"
    }
   },
   "outputs": [
    {
     "data": {
      "text/html": [
       "<div><div id=f7bf7839-e18a-4866-87db-465656cfc9bc style=\"display:none; background-color:#9D6CFF; color:white; width:200px; height:30px; padding-left:5px; border-radius:4px; flex-direction:row; justify-content:space-around; align-items:center;\" onmouseover=\"this.style.backgroundColor='#BA9BF8'\" onmouseout=\"this.style.backgroundColor='#9D6CFF'\" onclick=\"window.commands?.execute('create-mitosheet-from-dataframe-output');\">See Full Dataframe in Mito</div> <script> if (window.commands?.hasCommand('create-mitosheet-from-dataframe-output')) document.getElementById('f7bf7839-e18a-4866-87db-465656cfc9bc').style.display = 'flex' </script> <table border=\"1\" class=\"dataframe\">\n",
       "  <thead>\n",
       "    <tr style=\"text-align: right;\">\n",
       "      <th></th>\n",
       "      <th>id</th>\n",
       "      <th>ciudad</th>\n",
       "      <th>codigo_carga</th>\n",
       "      <th>codigo_postal</th>\n",
       "      <th>comuna</th>\n",
       "      <th>convenio</th>\n",
       "      <th>convenio_plan</th>\n",
       "      <th>direccion</th>\n",
       "      <th>fecha_bloqueo</th>\n",
       "      <th>fecha_modificacion</th>\n",
       "      <th>...</th>\n",
       "      <th>Nombre</th>\n",
       "      <th>poliza</th>\n",
       "      <th>p_relacion</th>\n",
       "      <th>rut1</th>\n",
       "      <th>rut2</th>\n",
       "      <th>ewsefsd</th>\n",
       "      <th>p_sexo</th>\n",
       "      <th>procesado</th>\n",
       "      <th>rut_empresa</th>\n",
       "      <th>version</th>\n",
       "    </tr>\n",
       "  </thead>\n",
       "  <tbody>\n",
       "    <tr>\n",
       "      <th>0</th>\n",
       "      <td>430639</td>\n",
       "      <td>NaN</td>\n",
       "      <td>0</td>\n",
       "      <td>NaN</td>\n",
       "      <td>NaN</td>\n",
       "      <td>77</td>\n",
       "      <td>SIN PLAN</td>\n",
       "      <td>NaN</td>\n",
       "      <td>0</td>\n",
       "      <td>2023-11-01</td>\n",
       "      <td>...</td>\n",
       "      <td>MAGDALENA GARCIA ALVAREZ</td>\n",
       "      <td>340015580</td>\n",
       "      <td>1</td>\n",
       "      <td>172664288</td>\n",
       "      <td>172664288</td>\n",
       "      <td>1</td>\n",
       "      <td>2</td>\n",
       "      <td>0</td>\n",
       "      <td>946250007</td>\n",
       "      <td>1</td>\n",
       "    </tr>\n",
       "    <tr>\n",
       "      <th>1</th>\n",
       "      <td>430640</td>\n",
       "      <td>NaN</td>\n",
       "      <td>0</td>\n",
       "      <td>NaN</td>\n",
       "      <td>NaN</td>\n",
       "      <td>77</td>\n",
       "      <td>SIN PLAN</td>\n",
       "      <td>LAS GOLONDRINAS 3B  LAS GOLONDRINAS</td>\n",
       "      <td>0</td>\n",
       "      <td>2023-11-01</td>\n",
       "      <td>...</td>\n",
       "      <td>TAMARA XIMENA ALVAREZ GARCIA</td>\n",
       "      <td>340023783</td>\n",
       "      <td>1</td>\n",
       "      <td>18701543K</td>\n",
       "      <td>18701543K</td>\n",
       "      <td>1</td>\n",
       "      <td>2</td>\n",
       "      <td>0</td>\n",
       "      <td>96709420K</td>\n",
       "      <td>1</td>\n",
       "    </tr>\n",
       "    <tr>\n",
       "      <th>2</th>\n",
       "      <td>430641</td>\n",
       "      <td>NaN</td>\n",
       "      <td>0</td>\n",
       "      <td>NaN</td>\n",
       "      <td>NaN</td>\n",
       "      <td>77</td>\n",
       "      <td>SIN PLAN</td>\n",
       "      <td>NaN</td>\n",
       "      <td>0</td>\n",
       "      <td>2023-11-01</td>\n",
       "      <td>...</td>\n",
       "      <td>CRECENCIA ESCOBAR CANCHANYA</td>\n",
       "      <td>340004079</td>\n",
       "      <td>1</td>\n",
       "      <td>223860826</td>\n",
       "      <td>223860826</td>\n",
       "      <td>1</td>\n",
       "      <td>2</td>\n",
       "      <td>0</td>\n",
       "      <td>761576216</td>\n",
       "      <td>1</td>\n",
       "    </tr>\n",
       "    <tr>\n",
       "      <th>3</th>\n",
       "      <td>430642</td>\n",
       "      <td>NaN</td>\n",
       "      <td>0</td>\n",
       "      <td>NaN</td>\n",
       "      <td>NaN</td>\n",
       "      <td>77</td>\n",
       "      <td>SIN PLAN</td>\n",
       "      <td>ARIOSTO 7275</td>\n",
       "      <td>0</td>\n",
       "      <td>2023-11-01</td>\n",
       "      <td>...</td>\n",
       "      <td>PAULINA CALFUCOY ALARCON</td>\n",
       "      <td>340010574</td>\n",
       "      <td>1</td>\n",
       "      <td>136670158</td>\n",
       "      <td>136670158</td>\n",
       "      <td>1</td>\n",
       "      <td>2</td>\n",
       "      <td>0</td>\n",
       "      <td>703601006</td>\n",
       "      <td>1</td>\n",
       "    </tr>\n",
       "    <tr>\n",
       "      <th>4</th>\n",
       "      <td>430643</td>\n",
       "      <td>NaN</td>\n",
       "      <td>0</td>\n",
       "      <td>NaN</td>\n",
       "      <td>NaN</td>\n",
       "      <td>77</td>\n",
       "      <td>SIN PLAN</td>\n",
       "      <td>NaN</td>\n",
       "      <td>0</td>\n",
       "      <td>2023-11-01</td>\n",
       "      <td>...</td>\n",
       "      <td>FELIPE PEREIRA DUARTE</td>\n",
       "      <td>340020375</td>\n",
       "      <td>1</td>\n",
       "      <td>157312375</td>\n",
       "      <td>157312375</td>\n",
       "      <td>1</td>\n",
       "      <td>1</td>\n",
       "      <td>0</td>\n",
       "      <td>612160007</td>\n",
       "      <td>1</td>\n",
       "    </tr>\n",
       "    <tr>\n",
       "      <th>5</th>\n",
       "      <td>430646</td>\n",
       "      <td>NaN</td>\n",
       "      <td>0</td>\n",
       "      <td>NaN</td>\n",
       "      <td>CALAMA</td>\n",
       "      <td>77</td>\n",
       "      <td>SIN PLAN</td>\n",
       "      <td>ALONSO DE ERCILLA 2524</td>\n",
       "      <td>0</td>\n",
       "      <td>2023-11-01</td>\n",
       "      <td>...</td>\n",
       "      <td>JOSE ABEL CHAMBI CAYO</td>\n",
       "      <td>340010596</td>\n",
       "      <td>1</td>\n",
       "      <td>146965229</td>\n",
       "      <td>146965229</td>\n",
       "      <td>1</td>\n",
       "      <td>1</td>\n",
       "      <td>0</td>\n",
       "      <td>762448491</td>\n",
       "      <td>1</td>\n",
       "    </tr>\n",
       "    <tr>\n",
       "      <th>6</th>\n",
       "      <td>430648</td>\n",
       "      <td>NaN</td>\n",
       "      <td>0</td>\n",
       "      <td>NaN</td>\n",
       "      <td>NaN</td>\n",
       "      <td>77</td>\n",
       "      <td>SIN PLAN</td>\n",
       "      <td>NaN</td>\n",
       "      <td>0</td>\n",
       "      <td>2023-11-01</td>\n",
       "      <td>...</td>\n",
       "      <td>NATALY ORTIZ VALDÉS</td>\n",
       "      <td>340013553</td>\n",
       "      <td>1</td>\n",
       "      <td>189260628</td>\n",
       "      <td>189260628</td>\n",
       "      <td>1</td>\n",
       "      <td>2</td>\n",
       "      <td>0</td>\n",
       "      <td>651458293</td>\n",
       "      <td>1</td>\n",
       "    </tr>\n",
       "    <tr>\n",
       "      <th>7</th>\n",
       "      <td>430649</td>\n",
       "      <td>NaN</td>\n",
       "      <td>0</td>\n",
       "      <td>NaN</td>\n",
       "      <td>NaN</td>\n",
       "      <td>77</td>\n",
       "      <td>SIN PLAN</td>\n",
       "      <td>LAS HERAS 1664  506</td>\n",
       "      <td>0</td>\n",
       "      <td>2023-11-01</td>\n",
       "      <td>...</td>\n",
       "      <td>PAULA ANDREA PARRA LAGOS</td>\n",
       "      <td>340023265</td>\n",
       "      <td>1</td>\n",
       "      <td>192941644</td>\n",
       "      <td>192941644</td>\n",
       "      <td>1</td>\n",
       "      <td>2</td>\n",
       "      <td>0</td>\n",
       "      <td>798724207</td>\n",
       "      <td>1</td>\n",
       "    </tr>\n",
       "    <tr>\n",
       "      <th>8</th>\n",
       "      <td>430650</td>\n",
       "      <td>NaN</td>\n",
       "      <td>0</td>\n",
       "      <td>NaN</td>\n",
       "      <td>NaN</td>\n",
       "      <td>77</td>\n",
       "      <td>SIN PLAN</td>\n",
       "      <td>NaN</td>\n",
       "      <td>0</td>\n",
       "      <td>2023-11-01</td>\n",
       "      <td>...</td>\n",
       "      <td>JIMENA ANGELICA FUENTES</td>\n",
       "      <td>340024130</td>\n",
       "      <td>1</td>\n",
       "      <td>100393166</td>\n",
       "      <td>100393166</td>\n",
       "      <td>1</td>\n",
       "      <td>2</td>\n",
       "      <td>0</td>\n",
       "      <td>931290002</td>\n",
       "      <td>1</td>\n",
       "    </tr>\n",
       "  </tbody>\n",
       "</table></div>"
      ],
      "text/plain": [
       "       id ciudad  codigo_carga  codigo_postal  comuna  convenio convenio_plan  \\\n",
       "0  430639    NaN             0            NaN     NaN        77      SIN PLAN   \n",
       "1  430640    NaN             0            NaN     NaN        77      SIN PLAN   \n",
       "2  430641    NaN             0            NaN     NaN        77      SIN PLAN   \n",
       "3  430642    NaN             0            NaN     NaN        77      SIN PLAN   \n",
       "4  430643    NaN             0            NaN     NaN        77      SIN PLAN   \n",
       "5  430646    NaN             0            NaN  CALAMA        77      SIN PLAN   \n",
       "6  430648    NaN             0            NaN     NaN        77      SIN PLAN   \n",
       "7  430649    NaN             0            NaN     NaN        77      SIN PLAN   \n",
       "8  430650    NaN             0            NaN     NaN        77      SIN PLAN   \n",
       "\n",
       "                             direccion  fecha_bloqueo fecha_modificacion  ...  \\\n",
       "0                                  NaN              0         2023-11-01  ...   \n",
       "1  LAS GOLONDRINAS 3B  LAS GOLONDRINAS              0         2023-11-01  ...   \n",
       "2                                  NaN              0         2023-11-01  ...   \n",
       "3                         ARIOSTO 7275              0         2023-11-01  ...   \n",
       "4                                  NaN              0         2023-11-01  ...   \n",
       "5               ALONSO DE ERCILLA 2524              0         2023-11-01  ...   \n",
       "6                                  NaN              0         2023-11-01  ...   \n",
       "7                  LAS HERAS 1664  506              0         2023-11-01  ...   \n",
       "8                                  NaN              0         2023-11-01  ...   \n",
       "\n",
       "                         Nombre     poliza p_relacion       rut1       rut2  \\\n",
       "0      MAGDALENA GARCIA ALVAREZ  340015580          1  172664288  172664288   \n",
       "1  TAMARA XIMENA ALVAREZ GARCIA  340023783          1  18701543K  18701543K   \n",
       "2   CRECENCIA ESCOBAR CANCHANYA  340004079          1  223860826  223860826   \n",
       "3      PAULINA CALFUCOY ALARCON  340010574          1  136670158  136670158   \n",
       "4         FELIPE PEREIRA DUARTE  340020375          1  157312375  157312375   \n",
       "5         JOSE ABEL CHAMBI CAYO  340010596          1  146965229  146965229   \n",
       "6           NATALY ORTIZ VALDÉS  340013553          1  189260628  189260628   \n",
       "7      PAULA ANDREA PARRA LAGOS  340023265          1  192941644  192941644   \n",
       "8     JIMENA ANGELICA FUENTES    340024130          1  100393166  100393166   \n",
       "\n",
       "   ewsefsd p_sexo procesado  rut_empresa  version  \n",
       "0        1      2         0    946250007        1  \n",
       "1        1      2         0    96709420K        1  \n",
       "2        1      2         0    761576216        1  \n",
       "3        1      2         0    703601006        1  \n",
       "4        1      1         0    612160007        1  \n",
       "5        1      1         0    762448491        1  \n",
       "6        1      2         0    651458293        1  \n",
       "7        1      2         0    798724207        1  \n",
       "8        1      2         0    931290002        1  \n",
       "\n",
       "[9 rows x 41 columns]"
      ]
     },
     "execution_count": 309,
     "metadata": {},
     "output_type": "execute_result"
    }
   ],
   "source": [
    "dertyd.head(9)"
   ]
  },
  {
   "cell_type": "code",
   "execution_count": 310,
   "metadata": {
    "notebookRunGroups": {
     "groupValue": "1"
    }
   },
   "outputs": [],
   "source": [
    "metlife_web = dertyd.copy()"
   ]
  },
  {
   "cell_type": "code",
   "execution_count": 40,
   "metadata": {
    "notebookRunGroups": {
     "groupValue": ""
    }
   },
   "outputs": [
    {
     "data": {
      "text/plain": [
       "(4715, 40)"
      ]
     },
     "execution_count": 40,
     "metadata": {},
     "output_type": "execute_result"
    }
   ],
   "source": [
    "metlife_web.head()\n",
    "metlife_web.shape"
   ]
  },
  {
   "cell_type": "code",
   "execution_count": 311,
   "metadata": {
    "notebookRunGroups": {
     "groupValue": "1"
    }
   },
   "outputs": [
    {
     "name": "stderr",
     "output_type": "stream",
     "text": [
      "C:\\Users\\jmartinez\\AppData\\Local\\Temp\\ipykernel_23396\\2932449918.py:10: FutureWarning: The default value of regex will change from True to False in a future version. In addition, single character regular expressions will *not* be treated as literal strings when regex=True.\n",
      "  metlife_web[\"rut1\"] = metlife_web[\"rut1\"].str.replace(\".\", \"\")\n",
      "C:\\Users\\jmartinez\\AppData\\Local\\Temp\\ipykernel_23396\\2932449918.py:20: FutureWarning: The default value of regex will change from True to False in a future version. In addition, single character regular expressions will *not* be treated as literal strings when regex=True.\n",
      "  metlife_web[\"rut2\"] = metlife_web[\"rut2\"].str.replace(\".\", \"\")\n",
      "C:\\Users\\jmartinez\\AppData\\Local\\Temp\\ipykernel_23396\\2932449918.py:26: FutureWarning: The default value of regex will change from True to False in a future version. In addition, single character regular expressions will *not* be treated as literal strings when regex=True.\n",
      "  metlife_web[\"Nombre\"] = metlife_web[\"Nombre\"].str.replace(\".\", \"\")\n"
     ]
    },
    {
     "data": {
      "text/plain": [
       "(10212, 42)"
      ]
     },
     "execution_count": 311,
     "metadata": {},
     "output_type": "execute_result"
    }
   ],
   "source": [
    "\n",
    "\n",
    "# nuevos = \"F:/Empresas SF/reportes/carga.xlsx\"\n",
    "\n",
    "\n",
    "\n",
    "metlife_web[\"rut1\"] = metlife_web[\"rut1\"].astype(str)\n",
    "#metlife_sftp[\"rut1\"] = metlife_sftp[\"rut1\"].apply(lambda y: siPrimerCero(y))\n",
    "metlife_web[\"rut1\"] = metlife_web[\"rut1\"].str.replace(\"-\", \"\")\n",
    "metlife_web[\"rut1\"] = metlife_web[\"rut1\"].str.replace(\"–\", \"\")\n",
    "metlife_web[\"rut1\"] = metlife_web[\"rut1\"].astype(str)\n",
    "metlife_web[\"rut1\"] = metlife_web[\"rut1\"].str.replace(\".\", \"\")\n",
    "metlife_web[\"rut1\"] = metlife_web[\"rut1\"].str.replace(\" \", \"\")\n",
    "metlife_web[\"rut1\"] = metlife_web[\"rut1\"].str.upper()\n",
    "metlife_web[\"rut1\"] = metlife_web[\"rut1\"].str.strip()\n",
    "\n",
    "metlife_web[\"rut2\"] = metlife_web[\"rut2\"].astype(str)\n",
    "#metlife_sftp[\"rut2\"] = metlife_sftp[\"rut2\"].apply(lambda y: siPrimerCero(y))\n",
    "metlife_web[\"rut2\"] = metlife_web[\"rut2\"].str.replace(\"-\", \"\")\n",
    "metlife_web[\"rut2\"] = metlife_web[\"rut2\"].str.replace(\"–\", \"\")\n",
    "metlife_web[\"rut2\"] = metlife_web[\"rut2\"].astype(str)\n",
    "metlife_web[\"rut2\"] = metlife_web[\"rut2\"].str.replace(\".\", \"\")\n",
    "metlife_web[\"rut2\"] = metlife_web[\"rut2\"].str.replace(\" \", \"\")\n",
    "metlife_web[\"rut2\"] = metlife_web[\"rut2\"].str.upper()\n",
    "metlife_web[\"rut2\"] = metlife_web[\"rut2\"].str.strip()\n",
    "\n",
    "metlife_web[\"Nombre\"] = metlife_web[\"Nombre\"].str.replace(\",\", \"\")\n",
    "metlife_web[\"Nombre\"] = metlife_web[\"Nombre\"].str.replace(\".\", \"\")\n",
    "metlife_web[\"Nombre\"] = metlife_web[\"Nombre\"].str.replace(\"-\", \"\")\n",
    "metlife_web[\"Nombre\"] = metlife_web[\"Nombre\"].str.replace(\"┐\", \"\")\n",
    "metlife_web[\"Nombre\"] = metlife_web[\"Nombre\"].str.replace(\"═\", \"\")\n",
    "metlife_web[\"Nombre\"] = metlife_web[\"Nombre\"].str.replace(\"╔\", \"\")\n",
    "metlife_web[\"Nombre\"] = metlife_web[\"Nombre\"].str.replace(\"┌\", \"\")\n",
    "metlife_web[\"Nombre\"] = metlife_web[\"Nombre\"].str.title()\n",
    "metlife_web[\"Nombre\"] = metlife_web[\"Nombre\"].str.strip()\n",
    "\n",
    "metlife_web[\"poliza\"] = metlife_web[\"poliza\"].astype(str)\n",
    "metlife_web[\"poliza\"] = metlife_web[\"poliza\"].str.strip()\n",
    "\n",
    "metlife_web[\"rut1\"] = metlife_web[\"rut1\"].apply(lambda y: siPrimerCero(y))\n",
    "metlife_web[\"rut2\"] = metlife_web[\"rut2\"].apply(lambda y: siPrimerCero(y))\n",
    "metlife_web = metlife_web[(metlife_web[\"rut1\"] != \"NONE\")]\n",
    "metlife_web = metlife_web[(metlife_web[\"rut2\"] != \"NONE\")]\n",
    "metlife_web.shape\n",
    "\n",
    "metlife_web[\"Titular\"] = np.where(metlife_web[\"rut1\"] == metlife_web[\"rut2\"],1,2 )\n",
    "metlife_web = metlife_web[(metlife_web[\"Titular\"] == 1)]\n",
    "\n",
    "metlife_web = metlife_web.drop_duplicates(\n",
    "    [\n",
    "        \"rut1\",\"poliza\"\n",
    "    ],\n",
    "    keep=\"last\",\n",
    ")\n",
    "\n",
    "\n",
    "#*******************sacar primer cero\n",
    "metlife_web.shape\n",
    "#derty = pd.read_excel(sftp)"
   ]
  },
  {
   "cell_type": "code",
   "execution_count": 312,
   "metadata": {
    "notebookRunGroups": {
     "groupValue": "1"
    }
   },
   "outputs": [
    {
     "name": "stderr",
     "output_type": "stream",
     "text": [
      "C:\\Users\\jmartinez\\AppData\\Local\\Temp\\ipykernel_23396\\3947619704.py:9: FutureWarning: The default value of regex will change from True to False in a future version. In addition, single character regular expressions will *not* be treated as literal strings when regex=True.\n",
      "  metlife_Q[\"rut1\"] = metlife_Q[\"rut1\"].str.replace(\".\", \"\")\n",
      "C:\\Users\\jmartinez\\AppData\\Local\\Temp\\ipykernel_23396\\3947619704.py:19: FutureWarning: The default value of regex will change from True to False in a future version. In addition, single character regular expressions will *not* be treated as literal strings when regex=True.\n",
      "  metlife_Q[\"rut2\"] = metlife_Q[\"rut2\"].str.replace(\".\", \"\")\n",
      "C:\\Users\\jmartinez\\AppData\\Local\\Temp\\ipykernel_23396\\3947619704.py:25: FutureWarning: The default value of regex will change from True to False in a future version. In addition, single character regular expressions will *not* be treated as literal strings when regex=True.\n",
      "  metlife_Q[\"Nombre\"] = metlife_Q[\"Nombre\"].str.replace(\".\", \"\")\n"
     ]
    },
    {
     "data": {
      "text/plain": [
       "(370135, 21)"
      ]
     },
     "execution_count": 312,
     "metadata": {},
     "output_type": "execute_result"
    }
   ],
   "source": [
    "webq = \"F:/2024/MetLife/\" + str(mesesDic[mes]) + año + \"/Subir/Q.xlsx\"\n",
    "metlife_Q = pd.read_excel(webq)\n",
    "\n",
    "metlife_Q[\"rut1\"] = metlife_Q[\"rut1\"].astype(str)\n",
    "#metlife_sftp[\"rut1\"] = metlife_sftp[\"rut1\"].apply(lambda y: siPrimerCero(y))\n",
    "metlife_Q[\"rut1\"] = metlife_Q[\"rut1\"].str.replace(\"-\", \"\")\n",
    "metlife_Q[\"rut1\"] = metlife_Q[\"rut1\"].str.replace(\"–\", \"\")\n",
    "metlife_Q[\"rut1\"] = metlife_Q[\"rut1\"].astype(str)\n",
    "metlife_Q[\"rut1\"] = metlife_Q[\"rut1\"].str.replace(\".\", \"\")\n",
    "metlife_Q[\"rut1\"] = metlife_Q[\"rut1\"].str.replace(\" \", \"\")\n",
    "metlife_Q[\"rut1\"] = metlife_Q[\"rut1\"].str.upper()\n",
    "metlife_Q[\"rut1\"] = metlife_Q[\"rut1\"].str.strip()\n",
    "\n",
    "metlife_Q[\"rut2\"] = metlife_Q[\"rut2\"].astype(str)\n",
    "#metlife_sftp[\"rut2\"] = metlife_sftp[\"rut2\"].apply(lambda y: siPrimerCero(y))\n",
    "metlife_Q[\"rut2\"] = metlife_Q[\"rut2\"].str.replace(\"-\", \"\")\n",
    "metlife_Q[\"rut2\"] = metlife_Q[\"rut2\"].str.replace(\"–\", \"\")\n",
    "metlife_Q[\"rut2\"] = metlife_Q[\"rut2\"].astype(str)\n",
    "metlife_Q[\"rut2\"] = metlife_Q[\"rut2\"].str.replace(\".\", \"\")\n",
    "metlife_Q[\"rut2\"] = metlife_Q[\"rut2\"].str.replace(\" \", \"\")\n",
    "metlife_Q[\"rut2\"] = metlife_Q[\"rut2\"].str.upper()\n",
    "metlife_Q[\"rut2\"] = metlife_Q[\"rut2\"].str.strip()\n",
    "\n",
    "metlife_Q[\"Nombre\"] = metlife_Q[\"Nombre\"].str.replace(\",\", \"\")\n",
    "metlife_Q[\"Nombre\"] = metlife_Q[\"Nombre\"].str.replace(\".\", \"\")\n",
    "metlife_Q[\"Nombre\"] = metlife_Q[\"Nombre\"].str.replace(\"-\", \"\")\n",
    "metlife_Q[\"Nombre\"] = metlife_Q[\"Nombre\"].str.replace(\"┐\", \"\")\n",
    "metlife_Q[\"Nombre\"] = metlife_Q[\"Nombre\"].str.replace(\"═\", \"\")\n",
    "metlife_Q[\"Nombre\"] = metlife_Q[\"Nombre\"].str.replace(\"╔\", \"\")\n",
    "metlife_Q[\"Nombre\"] = metlife_Q[\"Nombre\"].str.replace(\"┌\", \"\")\n",
    "metlife_Q[\"Nombre\"] = metlife_Q[\"Nombre\"].str.title()\n",
    "metlife_Q[\"Nombre\"] = metlife_Q[\"Nombre\"].str.strip()\n",
    "\n",
    "metlife_Q[\"poliza\"] = metlife_Q[\"poliza\"].astype(str)\n",
    "metlife_Q[\"poliza\"] = metlife_Q[\"poliza\"].str.strip()\n",
    "\n",
    "metlife_Q[\"rut1\"] = metlife_Q[\"rut1\"].apply(lambda y: siPrimerCero(y))\n",
    "metlife_Q[\"rut2\"] = metlife_Q[\"rut2\"].apply(lambda y: siPrimerCero(y))\n",
    "metlife_Q = metlife_Q[(metlife_Q[\"rut1\"] != \"NONE\")]\n",
    "metlife_Q = metlife_Q[(metlife_Q[\"rut2\"] != \"NONE\")]\n",
    "metlife_Q.shape\n",
    "\n",
    "metlife_Q[\"Titular\"] = np.where(metlife_Q[\"rut1\"] == metlife_Q[\"rut2\"],1,2 )\n",
    "metlife_Q = metlife_Q[(metlife_Q[\"Titular\"] == 1)]\n",
    "\n",
    "metlife_Q = metlife_Q.drop_duplicates(\n",
    "    [\n",
    "        \"rut1\",\"poliza\"\n",
    "    ],\n",
    "    keep=\"last\",\n",
    ")\n",
    "\n",
    "\n",
    "#*******************sacar primer cero\n",
    "metlife_Q.shape\n",
    "#derty = pd.read_excel(sftp)"
   ]
  },
  {
   "cell_type": "code",
   "execution_count": 313,
   "metadata": {
    "notebookRunGroups": {
     "groupValue": "1"
    }
   },
   "outputs": [
    {
     "name": "stderr",
     "output_type": "stream",
     "text": [
      "C:\\Users\\jmartinez\\AppData\\Local\\Temp\\ipykernel_23396\\1398062847.py:21: FutureWarning: Inferring datetime64[ns] from data containing strings is deprecated and will be removed in a future version. To retain the old behavior explicitly pass Series(data, dtype=datetime64[ns])\n",
      "  subir_sql[\"desde_rut\"] = metlife_sftp[\"desde\"].apply(lambda y: fechaValida(y))\n"
     ]
    },
    {
     "data": {
      "text/html": [
       "<div><div id=8d882dd3-0a7f-4b5f-8e27-c6c0de9b091f style=\"display:none; background-color:#9D6CFF; color:white; width:200px; height:30px; padding-left:5px; border-radius:4px; flex-direction:row; justify-content:space-around; align-items:center;\" onmouseover=\"this.style.backgroundColor='#BA9BF8'\" onmouseout=\"this.style.backgroundColor='#9D6CFF'\" onclick=\"window.commands?.execute('create-mitosheet-from-dataframe-output');\">See Full Dataframe in Mito</div> <script> if (window.commands?.hasCommand('create-mitosheet-from-dataframe-output')) document.getElementById('8d882dd3-0a7f-4b5f-8e27-c6c0de9b091f').style.display = 'flex' </script> <table border=\"1\" class=\"dataframe\">\n",
       "  <thead>\n",
       "    <tr style=\"text-align: right;\">\n",
       "      <th></th>\n",
       "      <th>poliza_rut</th>\n",
       "      <th>rut_rut</th>\n",
       "      <th>nombre_rut</th>\n",
       "      <th>mes_rut</th>\n",
       "      <th>año_rut</th>\n",
       "      <th>Llave</th>\n",
       "      <th>desde_rut</th>\n",
       "      <th>hasta_rut</th>\n",
       "      <th>canal_rut</th>\n",
       "      <th>fecha_rut</th>\n",
       "    </tr>\n",
       "  </thead>\n",
       "  <tbody>\n",
       "    <tr>\n",
       "      <th>37</th>\n",
       "      <td>340012071</td>\n",
       "      <td>26256598K</td>\n",
       "      <td>Carlos Julio Canache Pantoja</td>\n",
       "      <td>11</td>\n",
       "      <td>2023</td>\n",
       "      <td>34001207126256598K112023</td>\n",
       "      <td>2024-03-25 18:16:42</td>\n",
       "      <td>2024-03-25 18:16:42</td>\n",
       "      <td>web</td>\n",
       "      <td>2023-11-01</td>\n",
       "    </tr>\n",
       "    <tr>\n",
       "      <th>38</th>\n",
       "      <td>340014232</td>\n",
       "      <td>16017921K</td>\n",
       "      <td>Alejandra Reyes Maulen</td>\n",
       "      <td>11</td>\n",
       "      <td>2023</td>\n",
       "      <td>34001423216017921K112023</td>\n",
       "      <td>2024-03-25 18:16:42</td>\n",
       "      <td>2024-03-25 18:16:42</td>\n",
       "      <td>web</td>\n",
       "      <td>2023-11-01</td>\n",
       "    </tr>\n",
       "    <tr>\n",
       "      <th>118</th>\n",
       "      <td>340021528</td>\n",
       "      <td>125129846</td>\n",
       "      <td>Alfredo Alejand Solorza Rios</td>\n",
       "      <td>11</td>\n",
       "      <td>2023</td>\n",
       "      <td>340021528125129846112023</td>\n",
       "      <td>2024-03-25 18:16:42</td>\n",
       "      <td>2024-03-25 18:16:42</td>\n",
       "      <td>web</td>\n",
       "      <td>2023-11-01</td>\n",
       "    </tr>\n",
       "    <tr>\n",
       "      <th>129</th>\n",
       "      <td>340022880</td>\n",
       "      <td>166718899</td>\n",
       "      <td>Gino Alexander Duvinguelo Rojas</td>\n",
       "      <td>11</td>\n",
       "      <td>2023</td>\n",
       "      <td>340022880166718899112023</td>\n",
       "      <td>2024-03-25 18:16:42</td>\n",
       "      <td>2024-03-25 18:16:42</td>\n",
       "      <td>web</td>\n",
       "      <td>2023-11-01</td>\n",
       "    </tr>\n",
       "    <tr>\n",
       "      <th>165</th>\n",
       "      <td>340023804</td>\n",
       "      <td>189950683</td>\n",
       "      <td>Maria Sanchez Reyes</td>\n",
       "      <td>11</td>\n",
       "      <td>2023</td>\n",
       "      <td>340023804189950683112023</td>\n",
       "      <td>2024-03-25 18:16:42</td>\n",
       "      <td>2024-03-25 18:16:42</td>\n",
       "      <td>web</td>\n",
       "      <td>2023-11-01</td>\n",
       "    </tr>\n",
       "  </tbody>\n",
       "</table></div>"
      ],
      "text/plain": [
       "    poliza_rut    rut_rut                       nombre_rut mes_rut año_rut  \\\n",
       "37   340012071  26256598K     Carlos Julio Canache Pantoja      11    2023   \n",
       "38   340014232  16017921K           Alejandra Reyes Maulen      11    2023   \n",
       "118  340021528  125129846     Alfredo Alejand Solorza Rios      11    2023   \n",
       "129  340022880  166718899  Gino Alexander Duvinguelo Rojas      11    2023   \n",
       "165  340023804  189950683              Maria Sanchez Reyes      11    2023   \n",
       "\n",
       "                        Llave            desde_rut            hasta_rut  \\\n",
       "37   34001207126256598K112023  2024-03-25 18:16:42  2024-03-25 18:16:42   \n",
       "38   34001423216017921K112023  2024-03-25 18:16:42  2024-03-25 18:16:42   \n",
       "118  340021528125129846112023  2024-03-25 18:16:42  2024-03-25 18:16:42   \n",
       "129  340022880166718899112023  2024-03-25 18:16:42  2024-03-25 18:16:42   \n",
       "165  340023804189950683112023  2024-03-25 18:16:42  2024-03-25 18:16:42   \n",
       "\n",
       "    canal_rut  fecha_rut  \n",
       "37        web 2023-11-01  \n",
       "38        web 2023-11-01  \n",
       "118       web 2023-11-01  \n",
       "129       web 2023-11-01  \n",
       "165       web 2023-11-01  "
      ]
     },
     "execution_count": 313,
     "metadata": {},
     "output_type": "execute_result"
    }
   ],
   "source": [
    "subir_correo = pd.DataFrame()\n",
    "subir_correo[\"poliza_rut\"] = metlife_correo[\"poliza\"]\n",
    "subir_correo[\"rut_rut\"] = metlife_correo[\"rut1\"]\n",
    "subir_correo[\"nombre_rut\"] = metlife_correo[\"Nombre\"]\n",
    "subir_correo[\"mes_rut\"] = str(mes)\n",
    "subir_correo[\"año_rut\"] = str(año)\n",
    "#subir_correo[\"fecha_rut\"] = metlife_correo[\"fecha\"].apply(lambda y: fechaValida(y))\n",
    "subir_correo[\"Llave\"] = metlife_correo[\"poliza\"] + metlife_correo[\"rut1\"] + str(mes) + str(año)\n",
    "subir_correo[\"desde_rut\"] = metlife_correo[\"desde\"].apply(lambda y: fechaValida(y))\n",
    "subir_correo[\"hasta_rut\"] = metlife_correo[\"hasta\"].apply(lambda y: fechaValida(y))\n",
    "subir_correo[\"canal_rut\"] = \"email\"\n",
    "\n",
    "subir_sql = pd.DataFrame()\n",
    "subir_sql[\"poliza_rut\"] = metlife_sftp[\"poliza\"]\n",
    "subir_sql[\"rut_rut\"] = metlife_sftp[\"rut1\"]\n",
    "subir_sql[\"nombre_rut\"] = metlife_sftp[\"Nombre\"]\n",
    "subir_sql[\"mes_rut\"] = str(mes)\n",
    "subir_sql[\"año_rut\"] = str(año)\n",
    "#subir_sql[\"fecha_rut\"] = metlife_sftp[\"fecha\"].apply(lambda y: fechaValida(y))\n",
    "subir_sql[\"Llave\"] = metlife_sftp[\"poliza\"] + metlife_sftp[\"rut1\"] + str(mes) + str(año)\n",
    "subir_sql[\"desde_rut\"] = metlife_sftp[\"desde\"].apply(lambda y: fechaValida(y))\n",
    "subir_sql[\"hasta_rut\"] = metlife_sftp[\"hasta\"].apply(lambda y: fechaValida(y)) \n",
    "subir_sql[\"canal_rut\"] = \"sftp\"\n",
    "\n",
    "subir_web = pd.DataFrame()\n",
    "subir_web[\"poliza_rut\"] = metlife_web[\"poliza\"]\n",
    "subir_web[\"rut_rut\"] = metlife_web[\"rut1\"]\n",
    "subir_web[\"nombre_rut\"] = metlife_web[\"Nombre\"]\n",
    "subir_web[\"mes_rut\"] = str(mes)\n",
    "subir_web[\"año_rut\"] = str(año)\n",
    "#subir_web[\"fecha_rut\"] = metlife_web[\"fecha\"].apply(lambda y: fechaValida(y))\n",
    "subir_web[\"Llave\"] = metlife_web[\"poliza\"] + metlife_web[\"rut1\"] + str(mes) + str(año)\n",
    "subir_web[\"desde_rut\"] = metlife_web[\"desde\"].apply(lambda y: fechaValida(y))\n",
    "subir_web[\"hasta_rut\"] = metlife_web[\"hasta\"].apply(lambda y: fechaValida(y))\n",
    "subir_web[\"canal_rut\"] = \"web\"\n",
    "\n",
    "subir_Q = pd.DataFrame()\n",
    "subir_Q[\"poliza_rut\"] = metlife_Q[\"poliza\"]\n",
    "subir_Q[\"rut_rut\"] = metlife_Q[\"rut1\"]\n",
    "subir_Q[\"nombre_rut\"] = metlife_Q[\"Nombre\"]\n",
    "subir_Q[\"mes_rut\"] = str(mes)\n",
    "subir_Q[\"año_rut\"] = str(año)\n",
    "#subir_Q[\"fecha_rut\"] = metlife_Q[\"fecha\"].apply(lambda y: fechaValida(y))\n",
    "subir_Q[\"Llave\"] = metlife_Q[\"poliza\"] + metlife_web[\"rut1\"] + str(mes) + str(año)\n",
    "subir_Q[\"desde_rut\"] = metlife_Q[\"desde\"].apply(lambda y: fechaValida(y))\n",
    "subir_Q[\"hasta_rut\"] = metlife_Q[\"hasta\"].apply(lambda y: fechaValida(y))\n",
    "subir_Q[\"canal_rut\"] = \"Q\"\n",
    "\n",
    "mes_metlife = pd.DataFrame()\n",
    "mes_metlife = pd.concat(\n",
    "    [\n",
    "        subir_web,\n",
    "        subir_sql,\n",
    "        subir_correo,\n",
    "        subir_Q,\n",
    "        \n",
    "    ],\n",
    "    axis=0,\n",
    ")\n",
    "mes_metlife[\"fecha_rut\"] = pd.to_datetime(fecha, yearfirst=True)\n",
    "\n",
    "mes_metlife = mes_metlife.drop_duplicates(\n",
    "    [\n",
    "        \"rut_rut\",\"poliza_rut\",\n",
    "    ],\n",
    "    keep=\"last\",\n",
    ")\n",
    "mes_metlife.head()"
   ]
  },
  {
   "cell_type": "markdown",
   "metadata": {},
   "source": [
    "//////////////////////////////////////////////////////////////////////////\n",
    "\n",
    "NUMERO RUTS POR POLIZA\n",
    "****************************************************************"
   ]
  },
  {
   "cell_type": "code",
   "execution_count": 314,
   "metadata": {
    "notebookRunGroups": {
     "groupValue": "1"
    }
   },
   "outputs": [
    {
     "name": "stdout",
     "output_type": "stream",
     "text": [
      "11-2023 426490\n"
     ]
    }
   ],
   "source": [
    "mes_metlife.shape\n",
    "print ( str(mes) + \"-\" + str(año) + \" \" + str(mes_metlife.shape[0]))"
   ]
  },
  {
   "cell_type": "markdown",
   "metadata": {},
   "source": [
    "////////////////////////////////////////////////\n",
    "\n",
    "NUMERO RUT UNICOS\n",
    "------------------------------------------------------------------------------------------------"
   ]
  },
  {
   "cell_type": "code",
   "execution_count": 315,
   "metadata": {
    "notebookRunGroups": {
     "groupValue": "1"
    }
   },
   "outputs": [
    {
     "name": "stdout",
     "output_type": "stream",
     "text": [
      "11-2023 330655\n"
     ]
    }
   ],
   "source": [
    "mes_metlife2 = mes_metlife.drop_duplicates(\n",
    "    [\n",
    "        \"rut_rut\"\n",
    "    ],\n",
    "    keep=\"last\",\n",
    ")\n",
    "mes_metlife2.shape\n",
    "print (str(mes) + \"-\" + str(año) + \" \" + str(mes_metlife2.shape[0]))"
   ]
  },
  {
   "cell_type": "code",
   "execution_count": 316,
   "metadata": {
    "notebookRunGroups": {
     "groupValue": "1"
    }
   },
   "outputs": [
    {
     "data": {
      "text/plain": [
       "(426490, 10)"
      ]
     },
     "execution_count": 316,
     "metadata": {},
     "output_type": "execute_result"
    }
   ],
   "source": [
    "#subir_web[\"Llave\"]\n",
    "mes_metlife[\"esta\"] =  mes_metlife[\"Llave\"].isin(rut_unico_tiempo_[\"Llave\"])\n",
    "mes_metlife = mes_metlife[(mes_metlife[\"esta\"] == False)]\n",
    "\n",
    "mes_metlife = mes_metlife[\n",
    "    [\n",
    "        \"poliza_rut\",\n",
    "        \"rut_rut\",\n",
    "        \"nombre_rut\",\n",
    "        \"mes_rut\",\n",
    "        \"año_rut\",\n",
    "        \"fecha_rut\",\n",
    "        \"Llave\",\n",
    "        \"desde_rut\",\n",
    "        \"hasta_rut\",\n",
    "        \"canal_rut\"\n",
    "    ]\n",
    "]\n",
    "mes_metlife.shape"
   ]
  },
  {
   "cell_type": "code",
   "execution_count": 317,
   "metadata": {
    "notebookRunGroups": {
     "groupValue": "1"
    }
   },
   "outputs": [],
   "source": [
    "mes_metlife.to_sql(\n",
    "    name=\"rut_unico_tiempo_2\",\n",
    "    con=motor_mysql_mariadb,\n",
    "    if_exists=\"append\",\n",
    "    index=False,\n",
    "    chunksize=10000,\n",
    ")"
   ]
  },
  {
   "cell_type": "code",
   "execution_count": null,
   "metadata": {
    "notebookRunGroups": {
     "groupValue": "1"
    }
   },
   "outputs": [
    {
     "data": {
      "text/plain": [
       "(325963, 4)"
      ]
     },
     "execution_count": 291,
     "metadata": {},
     "output_type": "execute_result"
    }
   ],
   "source": [
    "subir_unicos = pd.DataFrame()\n",
    "subir_unicos[\"Rut_T\"] = mes_metlife2[\"rut_rut\"]\n",
    "subir_unicos[\"Rut_C\"] = mes_metlife2[\"rut_rut\"]\n",
    "subir_unicos[\"Nombre\"] = mes_metlife2[\"nombre_rut\"]\n",
    "subir_unicos[\"Llave\"] = mes_metlife2[\"rut_rut\"] +  mes_metlife2[\"rut_rut\"]\n",
    "\n",
    "\n",
    "subir_unicos.shape"
   ]
  },
  {
   "cell_type": "code",
   "execution_count": null,
   "metadata": {
    "notebookRunGroups": {
     "groupValue": "1"
    }
   },
   "outputs": [
    {
     "data": {
      "text/plain": [
       "0"
      ]
     },
     "execution_count": 292,
     "metadata": {},
     "output_type": "execute_result"
    }
   ],
   "source": [
    "subir_unicos[\"esta\"] =  subir_unicos[\"Rut_T\"].isin(rut_unicos[\"Rut_T\"])\n",
    "subir_unicos = subir_unicos[(subir_unicos[\"esta\"] == False)]\n",
    "\n",
    "subir_unicos = subir_unicos[\n",
    "    [\n",
    "        \"Rut_T\",\n",
    "        \"Rut_C\",\n",
    "        \"Nombre\",\n",
    "        \"Llave\",\n",
    "    ]\n",
    "]\n",
    "subir_unicos.shape\n",
    "subir_unicos.to_sql(\n",
    "    name=\"rut_unicos\",\n",
    "    con=motor_mysql_mariadb,\n",
    "    if_exists=\"append\",\n",
    "    index=False,\n",
    "    chunksize=10000,\n",
    ")"
   ]
  },
  {
   "cell_type": "code",
   "execution_count": null,
   "metadata": {},
   "outputs": [],
   "source": [
    "\n",
    "\n",
    "\n",
    "rut_unicos[\"esta\"] =  rut_unicos[\"Rut_T\"].isin(mes_metlife2[\"rut_rut\"])\n",
    "rut_unicos = rut_unicos[(rut_unicos[\"esta\"] == False)]\n"
   ]
  },
  {
   "cell_type": "code",
   "execution_count": null,
   "metadata": {},
   "outputs": [],
   "source": [
    "rut_unicos.shape"
   ]
  },
  {
   "cell_type": "code",
   "execution_count": null,
   "metadata": {},
   "outputs": [],
   "source": [
    "rut_unicos.to_excel(\n",
    "    \"F:/Empresas SF/reportes/rut_unicos_No_Estan_SFTP_Agosto_2023.xlsx\", index=False\n",
    ")"
   ]
  },
  {
   "cell_type": "code",
   "execution_count": null,
   "metadata": {},
   "outputs": [],
   "source": [
    "sftp = \"F:/2024/MetLife/\" + str(mesesDic[mes]) + año + \"/Subir/poliza.xlsx\"\n",
    "poliza = pd.read_excel(sftp)"
   ]
  },
  {
   "cell_type": "code",
   "execution_count": null,
   "metadata": {},
   "outputs": [],
   "source": [
    "poliza.head()"
   ]
  },
  {
   "cell_type": "code",
   "execution_count": null,
   "metadata": {},
   "outputs": [],
   "source": [
    "rut_unico_tiempo_ = pd.DataFrame()\n",
    "sql = \"SELECT * FROM MetLife_A.rut_unico_tiempo \"\n",
    "rut_unico_tiempo_ = pd.read_sql_query(sql, con=motor_mysql_mariadb)\n",
    "\n",
    "rut_unico_tiempo_.shape"
   ]
  },
  {
   "cell_type": "code",
   "execution_count": null,
   "metadata": {},
   "outputs": [],
   "source": [
    "rut_unicos = pd.merge(\n",
    "    left=rut_unicos,\n",
    "    right=rut_unico_tiempo_,\n",
    "    how=\"left\",\n",
    "    left_on=\"Rut_T\",\n",
    "    right_on=\"rut_rut\",\n",
    ")\n",
    "\n",
    "#rutesi.to_excel(\"F:/Empresas SF/reportes/rutsyempresa.xlsx\", index=False)"
   ]
  },
  {
   "cell_type": "code",
   "execution_count": null,
   "metadata": {},
   "outputs": [],
   "source": [
    "rut_unicos.shape"
   ]
  },
  {
   "cell_type": "code",
   "execution_count": null,
   "metadata": {},
   "outputs": [],
   "source": [
    "rut_unicos.head()"
   ]
  },
  {
   "cell_type": "code",
   "execution_count": null,
   "metadata": {},
   "outputs": [],
   "source": [
    "rut_unicos = rut_unicos.drop_duplicates(\n",
    "    [\n",
    "        \"rut_rut\",\"poliza_rut\",\n",
    "    ],\n",
    "    keep=\"last\",\n",
    ")\n",
    "rut_unicos.shape"
   ]
  },
  {
   "cell_type": "code",
   "execution_count": null,
   "metadata": {},
   "outputs": [],
   "source": [
    "rut_unicos = pd.merge(\n",
    "    left=rut_unicos,\n",
    "    right=poliza,\n",
    "    how=\"left\",\n",
    "    left_on=\"poliza_rut\",\n",
    "    right_on=\"poliza\",\n",
    ")"
   ]
  },
  {
   "cell_type": "code",
   "execution_count": null,
   "metadata": {},
   "outputs": [],
   "source": [
    "rut_unicos.shape"
   ]
  },
  {
   "cell_type": "code",
   "execution_count": null,
   "metadata": {},
   "outputs": [],
   "source": [
    "rut_unicos.head()\n"
   ]
  },
  {
   "cell_type": "code",
   "execution_count": null,
   "metadata": {},
   "outputs": [],
   "source": [
    "rut_unicos.to_excel(\n",
    "    \"F:/Empresas SF/reportes/rut_unicos_No_Estan_SFTP_Agosto_2023_2.xlsx\", index=False\n",
    ")"
   ]
  }
 ],
 "metadata": {
  "kernelspec": {
   "display_name": "python11",
   "language": "python",
   "name": "python3"
  },
  "language_info": {
   "codemirror_mode": {
    "name": "ipython",
    "version": 3
   },
   "file_extension": ".py",
   "mimetype": "text/x-python",
   "name": "python",
   "nbconvert_exporter": "python",
   "pygments_lexer": "ipython3",
   "version": "3.9.12"
  }
 },
 "nbformat": 4,
 "nbformat_minor": 2
}
