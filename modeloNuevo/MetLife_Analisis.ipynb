{
 "cells": [
  {
   "cell_type": "code",
   "execution_count": 413,
   "metadata": {
    "notebookRunGroups": {
     "groupValue": "1"
    }
   },
   "outputs": [],
   "source": [
    "from pathlib import Path\n",
    "import requests\n",
    "import pandas as pd\n",
    "import numpy as np\n",
    "from io import StringIO\n",
    "import shutil\n",
    "import datetime\n",
    "from datetime import datetime,date\n",
    "import re\n",
    "import json\n",
    "from pandas.api.types import is_numeric_dtype\n",
    "\n",
    "# from simple_salesforce import Salesforce, format_soql, format_external_id\n",
    "# from simple_salesforce.exceptions import SalesforceMalformedRequest\n",
    "# import simpler_sf\n",
    "from sqlalchemy import create_engine\n",
    "#import pymysql\n",
    "\n",
    "# from mysql import connector\n",
    "\n",
    "\n",
    "# paramiko.util.log_to_file(\"paramiko.log\")\n",
    "regex = re.compile(r\"([A-Za-z0-9]+[.-_])*[A-Za-z0-9]+@[A-Za-z0-9-]+(\\.[A-Z|a-z]{2,})+\")"
   ]
  },
  {
   "cell_type": "code",
   "execution_count": 414,
   "metadata": {
    "notebookRunGroups": {
     "groupValue": "1"
    }
   },
   "outputs": [],
   "source": [
    "# usuario = 'siempreread'\n",
    "# contrasena = 'S13mpr3_Ch1l3'\n",
    "# url_servidor = '209.151.148.250'\n",
    "puerto = \"3306\"\n",
    "esquema = \"MetLife_A\"\n",
    "plugin_autenticacion = \"mysql_native_password\"\n",
    "\n",
    "usuario = \"care_consulta\"\n",
    "contrasena = \"CareAssistance!10\"\n",
    "url_servidor = \"10.0.10.22\"\n",
    "\n",
    "# Conexión a la base de datos\n",
    "\n",
    "c_conexion = \"mysql+mysqlconnector://{0}:{1}@{2}:{3}/{4}?auth_plugin={5}\"\n",
    "c_conexion = c_conexion.format(\n",
    "    usuario, contrasena, url_servidor, puerto, esquema, plugin_autenticacion\n",
    ")\n",
    "motor_mysql_mariadb = create_engine(c_conexion)\n",
    "\n",
    "#table.to_sql(name='rut_unico_tiempo',con=motor_mysql_mariadb,if_exists = 'append')\n",
    "\n",
    "\n",
    "# archivo de salida modificar segun archivo\n",
    "# archivo = 'C:/Users/jmartinez/Desktop/casos nuevos/clientes/1/casos_faltantes_segun_archivo.xlsx'"
   ]
  },
  {
   "cell_type": "code",
   "execution_count": 415,
   "metadata": {
    "notebookRunGroups": {
     "groupValue": "1"
    }
   },
   "outputs": [
    {
     "name": "stderr",
     "output_type": "stream",
     "text": [
      "C:\\Users\\jmartinez\\AppData\\Local\\Temp\\ipykernel_23396\\386836739.py:10: FutureWarning: The default value of regex will change from True to False in a future version. In addition, single character regular expressions will *not* be treated as literal strings when regex=True.\n",
      "  rut_unicos[\"Rut_C\"] = rut_unicos[\"Rut_C\"].str.replace(\".\", \"\")\n",
      "C:\\Users\\jmartinez\\AppData\\Local\\Temp\\ipykernel_23396\\386836739.py:19: FutureWarning: The default value of regex will change from True to False in a future version. In addition, single character regular expressions will *not* be treated as literal strings when regex=True.\n",
      "  rut_unicos[\"Rut_T\"] = rut_unicos[\"Rut_T\"].str.replace(\".\", \"\")\n",
      "C:\\Users\\jmartinez\\AppData\\Local\\Temp\\ipykernel_23396\\386836739.py:25: FutureWarning: The default value of regex will change from True to False in a future version. In addition, single character regular expressions will *not* be treated as literal strings when regex=True.\n",
      "  rut_unicos[\"Nombre\"] = rut_unicos[\"Nombre\"].str.replace(\".\", \"\")\n"
     ]
    },
    {
     "data": {
      "text/plain": [
       "' rut_unicos.to_excel(\\n    \"F:/Empresas SF/reportes/rut_unicos_hasta_Marzo_2024.xlsx\", index=False\\n) '"
      ]
     },
     "execution_count": 415,
     "metadata": {},
     "output_type": "execute_result"
    }
   ],
   "source": [
    "# table.to_sql(name='prueba',con=motor_mysql_mariadb,if_exists = 'append')\n",
    "rut_unicos = pd.DataFrame()\n",
    "sql = \"SELECT * FROM MetLife_A.rut_unicos WHERE LEFT(Rut_T, 1) <> '0' \"\n",
    "rut_unicos = pd.read_sql_query(sql, con=motor_mysql_mariadb)\n",
    "\n",
    "rut_unicos[\"Rut_C\"] = rut_unicos[\"Rut_C\"].astype(str)\n",
    "rut_unicos[\"Rut_C\"] = rut_unicos[\"Rut_C\"].str.replace(\"-\", \"\")\n",
    "rut_unicos[\"Rut_C\"] = rut_unicos[\"Rut_C\"].str.replace(\"–\", \"\")\n",
    "rut_unicos[\"Rut_C\"] = rut_unicos[\"Rut_C\"].astype(str)\n",
    "rut_unicos[\"Rut_C\"] = rut_unicos[\"Rut_C\"].str.replace(\".\", \"\")\n",
    "rut_unicos[\"Rut_C\"] = rut_unicos[\"Rut_C\"].str.replace(\" \", \"\")\n",
    "rut_unicos[\"Rut_C\"] = rut_unicos[\"Rut_C\"].str.upper()\n",
    "rut_unicos[\"Rut_C\"] = rut_unicos[\"Rut_C\"].str.strip()\n",
    "\n",
    "rut_unicos[\"Rut_T\"] = rut_unicos[\"Rut_T\"].astype(str)\n",
    "rut_unicos[\"Rut_T\"] = rut_unicos[\"Rut_T\"].str.replace(\"-\", \"\")\n",
    "rut_unicos[\"Rut_T\"] = rut_unicos[\"Rut_T\"].str.replace(\"–\", \"\")\n",
    "rut_unicos[\"Rut_T\"] = rut_unicos[\"Rut_T\"].astype(str)\n",
    "rut_unicos[\"Rut_T\"] = rut_unicos[\"Rut_T\"].str.replace(\".\", \"\")\n",
    "rut_unicos[\"Rut_T\"] = rut_unicos[\"Rut_T\"].str.replace(\" \", \"\")\n",
    "rut_unicos[\"Rut_T\"] = rut_unicos[\"Rut_T\"].str.upper()\n",
    "rut_unicos[\"Rut_T\"] = rut_unicos[\"Rut_T\"].str.strip()\n",
    "\n",
    "rut_unicos[\"Nombre\"] = rut_unicos[\"Nombre\"].str.replace(\",\", \"\")\n",
    "rut_unicos[\"Nombre\"] = rut_unicos[\"Nombre\"].str.replace(\".\", \"\")\n",
    "rut_unicos[\"Nombre\"] = rut_unicos[\"Nombre\"].str.replace(\"-\", \"\")\n",
    "rut_unicos[\"Nombre\"] = rut_unicos[\"Nombre\"].str.replace(\"┐\", \"\")\n",
    "rut_unicos[\"Nombre\"] = rut_unicos[\"Nombre\"].str.replace(\"═\", \"\")\n",
    "rut_unicos[\"Nombre\"] = rut_unicos[\"Nombre\"].str.replace(\"╔\", \"\")\n",
    "rut_unicos[\"Nombre\"] = rut_unicos[\"Nombre\"].str.replace(\"┌\", \"\")\n",
    "rut_unicos[\"Nombre\"] = rut_unicos[\"Nombre\"].str.title()\n",
    "rut_unicos[\"Nombre\"] = rut_unicos[\"Nombre\"].str.strip()\n",
    "\n",
    "rut_unicos.shape\n",
    "\n",
    "\"\"\" rut_unicos.to_excel(\n",
    "    \"F:/Empresas SF/reportes/rut_unicos_hasta_Marzo_2024.xlsx\", index=False\n",
    ") \"\"\""
   ]
  },
  {
   "cell_type": "code",
   "execution_count": 416,
   "metadata": {
    "notebookRunGroups": {
     "groupValue": "1"
    }
   },
   "outputs": [
    {
     "data": {
      "text/plain": [
       "(5625168, 1)"
      ]
     },
     "execution_count": 416,
     "metadata": {},
     "output_type": "execute_result"
    }
   ],
   "source": [
    "rut_unico_tiempo_ = pd.DataFrame()\n",
    "sql = \"SELECT Llave FROM MetLife_A.rut_unico_tiempo_2 \"\n",
    "rut_unico_tiempo_ = pd.read_sql_query(sql, con=motor_mysql_mariadb)\n",
    "\n",
    "rut_unico_tiempo_.shape"
   ]
  },
  {
   "cell_type": "code",
   "execution_count": null,
   "metadata": {},
   "outputs": [],
   "source": [
    "\"\"\" def sacarultimo(y):\n",
    "    y = y[:-1]\n",
    "    return str(y)\n",
    "     \"\"\""
   ]
  },
  {
   "cell_type": "code",
   "execution_count": null,
   "metadata": {},
   "outputs": [],
   "source": [
    "\"\"\" sftp = \"F:/2024/MetLife/datos_metlife.xlsx\"\n",
    "\n",
    "derty = pd.read_excel(sftp)\n",
    "\n",
    "rut_unico_tiempo_[\"rut_rut2\"] = rut_unico_tiempo_[\"rut_rut\"].apply(lambda y: sacarultimo(y))\n",
    "\n",
    "rut_unico_tiempo_[\"rut_rut2\"] = rut_unico_tiempo_[\"rut_rut2\"].astype(str)\n",
    "rut_unico_tiempo_[\"rut_rut2\"] = rut_unico_tiempo_[\"rut_rut2\"].str.upper()\n",
    "rut_unico_tiempo_[\"rut_rut2\"] = rut_unico_tiempo_[\"rut_rut2\"].str.replace(\"-\", \"\")\n",
    "rut_unico_tiempo_[\"rut_rut2\"] = rut_unico_tiempo_[\"rut_rut2\"].str.replace(\"–\", \"\")\n",
    "rut_unico_tiempo_[\"rut_rut2\"] = rut_unico_tiempo_[\"rut_rut2\"].astype(str)\n",
    "rut_unico_tiempo_[\"rut_rut2\"] = rut_unico_tiempo_[\"rut_rut2\"].str.replace(\".\", \"\")\n",
    "\n",
    "rut_unico_tiempo_[\"rut_rut2\"] = rut_unico_tiempo_[\"rut_rut2\"].str.strip()\n",
    "\n",
    "derty[\"rut1\"] = derty[\"rut1\"].astype(str)\n",
    "derty[\"rut1\"] = derty[\"rut1\"].str.upper()\n",
    "derty[\"rut1\"] = derty[\"rut1\"].str.replace(\"-\", \"\")\n",
    "derty[\"rut1\"] = derty[\"rut1\"].str.replace(\"–\", \"\")\n",
    "derty[\"rut1\"] = derty[\"rut1\"].astype(str)\n",
    "derty[\"rut1\"] = derty[\"rut1\"].str.replace(\".\", \"\")\n",
    "\n",
    "derty[\"rut1\"] = derty[\"rut1\"].str.strip() \"\"\"\n"
   ]
  },
  {
   "cell_type": "code",
   "execution_count": null,
   "metadata": {},
   "outputs": [],
   "source": [
    "\"\"\" rut_unicos2 = pd.merge(\n",
    "    left=derty,\n",
    "    right=rut_unico_tiempo_,\n",
    "    how=\"left\",\n",
    "    left_on=\"rut1\",\n",
    "    right_on=\"rut_rut2\",\n",
    ")\n",
    " \"\"\""
   ]
  },
  {
   "cell_type": "code",
   "execution_count": null,
   "metadata": {},
   "outputs": [],
   "source": [
    "\"\"\" rut_unicos2.to_excel(\"F:/2024/MetLife/datos_metlife_confecha.xlsx\", index=False) \"\"\""
   ]
  },
  {
   "cell_type": "code",
   "execution_count": 417,
   "metadata": {
    "notebookRunGroups": {
     "groupValue": "1"
    }
   },
   "outputs": [],
   "source": [
    "def fechaValida(fecha):\n",
    "    if (len(str(fecha)) <= 9 ):\n",
    "        fecha = \"\"\n",
    "        \n",
    "    fecha = str(fecha)\n",
    "    fecha1 = str(fecha)\n",
    "    \n",
    "    #datetime.strptime(fecha, '%Y-%m-%d')\n",
    "    \n",
    "    try:\n",
    "        fecha = datetime.strptime(fecha, '%Y-%m-%d %H:%M:%S')\n",
    "        date_string = fecha1\n",
    "        #print(\"date_string =\", date_string)\n",
    "        #print(\"type of date_string =\", type(date_string))\n",
    "\n",
    "        date_object = datetime.strptime(date_string, \"%Y-%m-%d %H:%M:%S\")\n",
    "\n",
    "        #print(\"date_object =\", date_object)\n",
    "        #print(\"type of date_object =\", type(date_object))\n",
    "        return date_object\n",
    "    except ValueError:\n",
    "        return datetime.utcnow().strftime('%Y-%m-%d %H:%M:%S')"
   ]
  },
  {
   "cell_type": "code",
   "execution_count": 418,
   "metadata": {
    "notebookRunGroups": {
     "groupValue": "1"
    }
   },
   "outputs": [
    {
     "ename": "XLRDError",
     "evalue": "Can't find workbook in OLE2 compound document",
     "output_type": "error",
     "traceback": [
      "\u001b[1;31m---------------------------------------------------------------------------\u001b[0m",
      "\u001b[1;31mXLRDError\u001b[0m                                 Traceback (most recent call last)",
      "Cell \u001b[1;32mIn[418], line 29\u001b[0m\n\u001b[0;32m     23\u001b[0m sftp \u001b[38;5;241m=\u001b[39m \u001b[38;5;124m\"\u001b[39m\u001b[38;5;124mF:/2024/MetLife/\u001b[39m\u001b[38;5;124m\"\u001b[39m \u001b[38;5;241m+\u001b[39m \u001b[38;5;28mstr\u001b[39m(mesesDic[mes]) \u001b[38;5;241m+\u001b[39m año \u001b[38;5;241m+\u001b[39m \u001b[38;5;124m\"\u001b[39m\u001b[38;5;124m/Subir/sftp.xlsx\u001b[39m\u001b[38;5;124m\"\u001b[39m\n\u001b[0;32m     26\u001b[0m \u001b[38;5;66;03m# nuevos = \"F:/Empresas SF/reportes/carga.xlsx\"\u001b[39;00m\n\u001b[1;32m---> 29\u001b[0m derty \u001b[38;5;241m=\u001b[39m \u001b[43mpd\u001b[49m\u001b[38;5;241;43m.\u001b[39;49m\u001b[43mread_excel\u001b[49m\u001b[43m(\u001b[49m\u001b[43msftp\u001b[49m\u001b[43m)\u001b[49m\n",
      "File \u001b[1;32mc:\\ProgramData\\Anaconda3\\lib\\site-packages\\pandas\\util\\_decorators.py:311\u001b[0m, in \u001b[0;36mdeprecate_nonkeyword_arguments.<locals>.decorate.<locals>.wrapper\u001b[1;34m(*args, **kwargs)\u001b[0m\n\u001b[0;32m    305\u001b[0m \u001b[38;5;28;01mif\u001b[39;00m \u001b[38;5;28mlen\u001b[39m(args) \u001b[38;5;241m>\u001b[39m num_allow_args:\n\u001b[0;32m    306\u001b[0m     warnings\u001b[38;5;241m.\u001b[39mwarn(\n\u001b[0;32m    307\u001b[0m         msg\u001b[38;5;241m.\u001b[39mformat(arguments\u001b[38;5;241m=\u001b[39marguments),\n\u001b[0;32m    308\u001b[0m         \u001b[38;5;167;01mFutureWarning\u001b[39;00m,\n\u001b[0;32m    309\u001b[0m         stacklevel\u001b[38;5;241m=\u001b[39mstacklevel,\n\u001b[0;32m    310\u001b[0m     )\n\u001b[1;32m--> 311\u001b[0m \u001b[38;5;28;01mreturn\u001b[39;00m func(\u001b[38;5;241m*\u001b[39margs, \u001b[38;5;241m*\u001b[39m\u001b[38;5;241m*\u001b[39mkwargs)\n",
      "File \u001b[1;32mc:\\ProgramData\\Anaconda3\\lib\\site-packages\\pandas\\io\\excel\\_base.py:457\u001b[0m, in \u001b[0;36mread_excel\u001b[1;34m(io, sheet_name, header, names, index_col, usecols, squeeze, dtype, engine, converters, true_values, false_values, skiprows, nrows, na_values, keep_default_na, na_filter, verbose, parse_dates, date_parser, thousands, decimal, comment, skipfooter, convert_float, mangle_dupe_cols, storage_options)\u001b[0m\n\u001b[0;32m    455\u001b[0m \u001b[38;5;28;01mif\u001b[39;00m \u001b[38;5;129;01mnot\u001b[39;00m \u001b[38;5;28misinstance\u001b[39m(io, ExcelFile):\n\u001b[0;32m    456\u001b[0m     should_close \u001b[38;5;241m=\u001b[39m \u001b[38;5;28;01mTrue\u001b[39;00m\n\u001b[1;32m--> 457\u001b[0m     io \u001b[38;5;241m=\u001b[39m \u001b[43mExcelFile\u001b[49m\u001b[43m(\u001b[49m\u001b[43mio\u001b[49m\u001b[43m,\u001b[49m\u001b[43m \u001b[49m\u001b[43mstorage_options\u001b[49m\u001b[38;5;241;43m=\u001b[39;49m\u001b[43mstorage_options\u001b[49m\u001b[43m,\u001b[49m\u001b[43m \u001b[49m\u001b[43mengine\u001b[49m\u001b[38;5;241;43m=\u001b[39;49m\u001b[43mengine\u001b[49m\u001b[43m)\u001b[49m\n\u001b[0;32m    458\u001b[0m \u001b[38;5;28;01melif\u001b[39;00m engine \u001b[38;5;129;01mand\u001b[39;00m engine \u001b[38;5;241m!=\u001b[39m io\u001b[38;5;241m.\u001b[39mengine:\n\u001b[0;32m    459\u001b[0m     \u001b[38;5;28;01mraise\u001b[39;00m \u001b[38;5;167;01mValueError\u001b[39;00m(\n\u001b[0;32m    460\u001b[0m         \u001b[38;5;124m\"\u001b[39m\u001b[38;5;124mEngine should not be specified when passing \u001b[39m\u001b[38;5;124m\"\u001b[39m\n\u001b[0;32m    461\u001b[0m         \u001b[38;5;124m\"\u001b[39m\u001b[38;5;124man ExcelFile - ExcelFile already has the engine set\u001b[39m\u001b[38;5;124m\"\u001b[39m\n\u001b[0;32m    462\u001b[0m     )\n",
      "File \u001b[1;32mc:\\ProgramData\\Anaconda3\\lib\\site-packages\\pandas\\io\\excel\\_base.py:1419\u001b[0m, in \u001b[0;36mExcelFile.__init__\u001b[1;34m(self, path_or_buffer, engine, storage_options)\u001b[0m\n\u001b[0;32m   1416\u001b[0m \u001b[38;5;28mself\u001b[39m\u001b[38;5;241m.\u001b[39mengine \u001b[38;5;241m=\u001b[39m engine\n\u001b[0;32m   1417\u001b[0m \u001b[38;5;28mself\u001b[39m\u001b[38;5;241m.\u001b[39mstorage_options \u001b[38;5;241m=\u001b[39m storage_options\n\u001b[1;32m-> 1419\u001b[0m \u001b[38;5;28mself\u001b[39m\u001b[38;5;241m.\u001b[39m_reader \u001b[38;5;241m=\u001b[39m \u001b[38;5;28;43mself\u001b[39;49m\u001b[38;5;241;43m.\u001b[39;49m\u001b[43m_engines\u001b[49m\u001b[43m[\u001b[49m\u001b[43mengine\u001b[49m\u001b[43m]\u001b[49m\u001b[43m(\u001b[49m\u001b[38;5;28;43mself\u001b[39;49m\u001b[38;5;241;43m.\u001b[39;49m\u001b[43m_io\u001b[49m\u001b[43m,\u001b[49m\u001b[43m \u001b[49m\u001b[43mstorage_options\u001b[49m\u001b[38;5;241;43m=\u001b[39;49m\u001b[43mstorage_options\u001b[49m\u001b[43m)\u001b[49m\n",
      "File \u001b[1;32mc:\\ProgramData\\Anaconda3\\lib\\site-packages\\pandas\\io\\excel\\_xlrd.py:25\u001b[0m, in \u001b[0;36mXlrdReader.__init__\u001b[1;34m(self, filepath_or_buffer, storage_options)\u001b[0m\n\u001b[0;32m     23\u001b[0m err_msg \u001b[38;5;241m=\u001b[39m \u001b[38;5;124m\"\u001b[39m\u001b[38;5;124mInstall xlrd >= 1.0.0 for Excel support\u001b[39m\u001b[38;5;124m\"\u001b[39m\n\u001b[0;32m     24\u001b[0m import_optional_dependency(\u001b[38;5;124m\"\u001b[39m\u001b[38;5;124mxlrd\u001b[39m\u001b[38;5;124m\"\u001b[39m, extra\u001b[38;5;241m=\u001b[39merr_msg)\n\u001b[1;32m---> 25\u001b[0m \u001b[38;5;28;43msuper\u001b[39;49m\u001b[43m(\u001b[49m\u001b[43m)\u001b[49m\u001b[38;5;241;43m.\u001b[39;49m\u001b[38;5;21;43m__init__\u001b[39;49m\u001b[43m(\u001b[49m\u001b[43mfilepath_or_buffer\u001b[49m\u001b[43m,\u001b[49m\u001b[43m \u001b[49m\u001b[43mstorage_options\u001b[49m\u001b[38;5;241;43m=\u001b[39;49m\u001b[43mstorage_options\u001b[49m\u001b[43m)\u001b[49m\n",
      "File \u001b[1;32mc:\\ProgramData\\Anaconda3\\lib\\site-packages\\pandas\\io\\excel\\_base.py:518\u001b[0m, in \u001b[0;36mBaseExcelReader.__init__\u001b[1;34m(self, filepath_or_buffer, storage_options)\u001b[0m\n\u001b[0;32m    516\u001b[0m \u001b[38;5;28mself\u001b[39m\u001b[38;5;241m.\u001b[39mhandles\u001b[38;5;241m.\u001b[39mhandle\u001b[38;5;241m.\u001b[39mseek(\u001b[38;5;241m0\u001b[39m)\n\u001b[0;32m    517\u001b[0m \u001b[38;5;28;01mtry\u001b[39;00m:\n\u001b[1;32m--> 518\u001b[0m     \u001b[38;5;28mself\u001b[39m\u001b[38;5;241m.\u001b[39mbook \u001b[38;5;241m=\u001b[39m \u001b[38;5;28;43mself\u001b[39;49m\u001b[38;5;241;43m.\u001b[39;49m\u001b[43mload_workbook\u001b[49m\u001b[43m(\u001b[49m\u001b[38;5;28;43mself\u001b[39;49m\u001b[38;5;241;43m.\u001b[39;49m\u001b[43mhandles\u001b[49m\u001b[38;5;241;43m.\u001b[39;49m\u001b[43mhandle\u001b[49m\u001b[43m)\u001b[49m\n\u001b[0;32m    519\u001b[0m \u001b[38;5;28;01mexcept\u001b[39;00m \u001b[38;5;167;01mException\u001b[39;00m:\n\u001b[0;32m    520\u001b[0m     \u001b[38;5;28mself\u001b[39m\u001b[38;5;241m.\u001b[39mclose()\n",
      "File \u001b[1;32mc:\\ProgramData\\Anaconda3\\lib\\site-packages\\pandas\\io\\excel\\_xlrd.py:38\u001b[0m, in \u001b[0;36mXlrdReader.load_workbook\u001b[1;34m(self, filepath_or_buffer)\u001b[0m\n\u001b[0;32m     36\u001b[0m \u001b[38;5;28;01mif\u001b[39;00m \u001b[38;5;28mhasattr\u001b[39m(filepath_or_buffer, \u001b[38;5;124m\"\u001b[39m\u001b[38;5;124mread\u001b[39m\u001b[38;5;124m\"\u001b[39m):\n\u001b[0;32m     37\u001b[0m     data \u001b[38;5;241m=\u001b[39m filepath_or_buffer\u001b[38;5;241m.\u001b[39mread()\n\u001b[1;32m---> 38\u001b[0m     \u001b[38;5;28;01mreturn\u001b[39;00m \u001b[43mopen_workbook\u001b[49m\u001b[43m(\u001b[49m\u001b[43mfile_contents\u001b[49m\u001b[38;5;241;43m=\u001b[39;49m\u001b[43mdata\u001b[49m\u001b[43m)\u001b[49m\n\u001b[0;32m     39\u001b[0m \u001b[38;5;28;01melse\u001b[39;00m:\n\u001b[0;32m     40\u001b[0m     \u001b[38;5;28;01mreturn\u001b[39;00m open_workbook(filepath_or_buffer)\n",
      "File \u001b[1;32mc:\\ProgramData\\Anaconda3\\lib\\site-packages\\xlrd\\__init__.py:172\u001b[0m, in \u001b[0;36mopen_workbook\u001b[1;34m(filename, logfile, verbosity, use_mmap, file_contents, encoding_override, formatting_info, on_demand, ragged_rows, ignore_workbook_corruption)\u001b[0m\n\u001b[0;32m    169\u001b[0m \u001b[38;5;28;01mif\u001b[39;00m file_format \u001b[38;5;129;01mand\u001b[39;00m file_format \u001b[38;5;241m!=\u001b[39m \u001b[38;5;124m'\u001b[39m\u001b[38;5;124mxls\u001b[39m\u001b[38;5;124m'\u001b[39m:\n\u001b[0;32m    170\u001b[0m     \u001b[38;5;28;01mraise\u001b[39;00m XLRDError(FILE_FORMAT_DESCRIPTIONS[file_format]\u001b[38;5;241m+\u001b[39m\u001b[38;5;124m'\u001b[39m\u001b[38;5;124m; not supported\u001b[39m\u001b[38;5;124m'\u001b[39m)\n\u001b[1;32m--> 172\u001b[0m bk \u001b[38;5;241m=\u001b[39m \u001b[43mopen_workbook_xls\u001b[49m\u001b[43m(\u001b[49m\n\u001b[0;32m    173\u001b[0m \u001b[43m    \u001b[49m\u001b[43mfilename\u001b[49m\u001b[38;5;241;43m=\u001b[39;49m\u001b[43mfilename\u001b[49m\u001b[43m,\u001b[49m\n\u001b[0;32m    174\u001b[0m \u001b[43m    \u001b[49m\u001b[43mlogfile\u001b[49m\u001b[38;5;241;43m=\u001b[39;49m\u001b[43mlogfile\u001b[49m\u001b[43m,\u001b[49m\n\u001b[0;32m    175\u001b[0m \u001b[43m    \u001b[49m\u001b[43mverbosity\u001b[49m\u001b[38;5;241;43m=\u001b[39;49m\u001b[43mverbosity\u001b[49m\u001b[43m,\u001b[49m\n\u001b[0;32m    176\u001b[0m \u001b[43m    \u001b[49m\u001b[43muse_mmap\u001b[49m\u001b[38;5;241;43m=\u001b[39;49m\u001b[43muse_mmap\u001b[49m\u001b[43m,\u001b[49m\n\u001b[0;32m    177\u001b[0m \u001b[43m    \u001b[49m\u001b[43mfile_contents\u001b[49m\u001b[38;5;241;43m=\u001b[39;49m\u001b[43mfile_contents\u001b[49m\u001b[43m,\u001b[49m\n\u001b[0;32m    178\u001b[0m \u001b[43m    \u001b[49m\u001b[43mencoding_override\u001b[49m\u001b[38;5;241;43m=\u001b[39;49m\u001b[43mencoding_override\u001b[49m\u001b[43m,\u001b[49m\n\u001b[0;32m    179\u001b[0m \u001b[43m    \u001b[49m\u001b[43mformatting_info\u001b[49m\u001b[38;5;241;43m=\u001b[39;49m\u001b[43mformatting_info\u001b[49m\u001b[43m,\u001b[49m\n\u001b[0;32m    180\u001b[0m \u001b[43m    \u001b[49m\u001b[43mon_demand\u001b[49m\u001b[38;5;241;43m=\u001b[39;49m\u001b[43mon_demand\u001b[49m\u001b[43m,\u001b[49m\n\u001b[0;32m    181\u001b[0m \u001b[43m    \u001b[49m\u001b[43mragged_rows\u001b[49m\u001b[38;5;241;43m=\u001b[39;49m\u001b[43mragged_rows\u001b[49m\u001b[43m,\u001b[49m\n\u001b[0;32m    182\u001b[0m \u001b[43m    \u001b[49m\u001b[43mignore_workbook_corruption\u001b[49m\u001b[38;5;241;43m=\u001b[39;49m\u001b[43mignore_workbook_corruption\u001b[49m\u001b[43m,\u001b[49m\n\u001b[0;32m    183\u001b[0m \u001b[43m\u001b[49m\u001b[43m)\u001b[49m\n\u001b[0;32m    185\u001b[0m \u001b[38;5;28;01mreturn\u001b[39;00m bk\n",
      "File \u001b[1;32mc:\\ProgramData\\Anaconda3\\lib\\site-packages\\xlrd\\book.py:68\u001b[0m, in \u001b[0;36mopen_workbook_xls\u001b[1;34m(filename, logfile, verbosity, use_mmap, file_contents, encoding_override, formatting_info, on_demand, ragged_rows, ignore_workbook_corruption)\u001b[0m\n\u001b[0;32m     66\u001b[0m bk \u001b[38;5;241m=\u001b[39m Book()\n\u001b[0;32m     67\u001b[0m \u001b[38;5;28;01mtry\u001b[39;00m:\n\u001b[1;32m---> 68\u001b[0m     \u001b[43mbk\u001b[49m\u001b[38;5;241;43m.\u001b[39;49m\u001b[43mbiff2_8_load\u001b[49m\u001b[43m(\u001b[49m\n\u001b[0;32m     69\u001b[0m \u001b[43m        \u001b[49m\u001b[43mfilename\u001b[49m\u001b[38;5;241;43m=\u001b[39;49m\u001b[43mfilename\u001b[49m\u001b[43m,\u001b[49m\u001b[43m \u001b[49m\u001b[43mfile_contents\u001b[49m\u001b[38;5;241;43m=\u001b[39;49m\u001b[43mfile_contents\u001b[49m\u001b[43m,\u001b[49m\n\u001b[0;32m     70\u001b[0m \u001b[43m        \u001b[49m\u001b[43mlogfile\u001b[49m\u001b[38;5;241;43m=\u001b[39;49m\u001b[43mlogfile\u001b[49m\u001b[43m,\u001b[49m\u001b[43m \u001b[49m\u001b[43mverbosity\u001b[49m\u001b[38;5;241;43m=\u001b[39;49m\u001b[43mverbosity\u001b[49m\u001b[43m,\u001b[49m\u001b[43m \u001b[49m\u001b[43muse_mmap\u001b[49m\u001b[38;5;241;43m=\u001b[39;49m\u001b[43muse_mmap\u001b[49m\u001b[43m,\u001b[49m\n\u001b[0;32m     71\u001b[0m \u001b[43m        \u001b[49m\u001b[43mencoding_override\u001b[49m\u001b[38;5;241;43m=\u001b[39;49m\u001b[43mencoding_override\u001b[49m\u001b[43m,\u001b[49m\n\u001b[0;32m     72\u001b[0m \u001b[43m        \u001b[49m\u001b[43mformatting_info\u001b[49m\u001b[38;5;241;43m=\u001b[39;49m\u001b[43mformatting_info\u001b[49m\u001b[43m,\u001b[49m\n\u001b[0;32m     73\u001b[0m \u001b[43m        \u001b[49m\u001b[43mon_demand\u001b[49m\u001b[38;5;241;43m=\u001b[39;49m\u001b[43mon_demand\u001b[49m\u001b[43m,\u001b[49m\n\u001b[0;32m     74\u001b[0m \u001b[43m        \u001b[49m\u001b[43mragged_rows\u001b[49m\u001b[38;5;241;43m=\u001b[39;49m\u001b[43mragged_rows\u001b[49m\u001b[43m,\u001b[49m\n\u001b[0;32m     75\u001b[0m \u001b[43m        \u001b[49m\u001b[43mignore_workbook_corruption\u001b[49m\u001b[38;5;241;43m=\u001b[39;49m\u001b[43mignore_workbook_corruption\u001b[49m\n\u001b[0;32m     76\u001b[0m \u001b[43m    \u001b[49m\u001b[43m)\u001b[49m\n\u001b[0;32m     77\u001b[0m     t1 \u001b[38;5;241m=\u001b[39m perf_counter()\n\u001b[0;32m     78\u001b[0m     bk\u001b[38;5;241m.\u001b[39mload_time_stage_1 \u001b[38;5;241m=\u001b[39m t1 \u001b[38;5;241m-\u001b[39m t0\n",
      "File \u001b[1;32mc:\\ProgramData\\Anaconda3\\lib\\site-packages\\xlrd\\book.py:645\u001b[0m, in \u001b[0;36mBook.biff2_8_load\u001b[1;34m(self, filename, file_contents, logfile, verbosity, use_mmap, encoding_override, formatting_info, on_demand, ragged_rows, ignore_workbook_corruption)\u001b[0m\n\u001b[0;32m    643\u001b[0m         \u001b[38;5;28;01mbreak\u001b[39;00m\n\u001b[0;32m    644\u001b[0m \u001b[38;5;28;01melse\u001b[39;00m:\n\u001b[1;32m--> 645\u001b[0m     \u001b[38;5;28;01mraise\u001b[39;00m XLRDError(\u001b[38;5;124m\"\u001b[39m\u001b[38;5;124mCan\u001b[39m\u001b[38;5;124m'\u001b[39m\u001b[38;5;124mt find workbook in OLE2 compound document\u001b[39m\u001b[38;5;124m\"\u001b[39m)\n\u001b[0;32m    646\u001b[0m \u001b[38;5;28;01mdel\u001b[39;00m cd\n\u001b[0;32m    647\u001b[0m \u001b[38;5;28;01mif\u001b[39;00m \u001b[38;5;28mself\u001b[39m\u001b[38;5;241m.\u001b[39mmem \u001b[38;5;129;01mis\u001b[39;00m \u001b[38;5;129;01mnot\u001b[39;00m \u001b[38;5;28mself\u001b[39m\u001b[38;5;241m.\u001b[39mfilestr:\n",
      "\u001b[1;31mXLRDError\u001b[0m: Can't find workbook in OLE2 compound document"
     ]
    }
   ],
   "source": [
    "mes = 3\n",
    "año = \"2024\"\n",
    "fecha = año + \"-\" + str(mes) + \"-\" + \"01\"  \n",
    "mesesDic = {\n",
    "    1: \"Enero\",\n",
    "    2: \"Febrero\",\n",
    "    3: \"Marzo\",\n",
    "    4: \"Abril\",\n",
    "    5: \"Mayo\",\n",
    "    6: \"Junio\",\n",
    "    7: \"Julio\",\n",
    "    8: \"Agosto\",\n",
    "    9: \"Septiembre\",\n",
    "    10: \"Octubre\",\n",
    "    11: \"Noviembre\",\n",
    "    12: \"Diciembre\",\n",
    "}\n",
    "\n",
    "str(mesesDic[mes])\n",
    "\n",
    "\n",
    "\n",
    "sftp = \"F:/2024/MetLife/\" + str(mesesDic[mes]) + año + \"/Subir/sftp.xlsx\"\n",
    "\n",
    "\n",
    "# nuevos = \"F:/Empresas SF/reportes/carga.xlsx\"\n",
    "\n",
    "\n",
    "derty = pd.read_excel(sftp)"
   ]
  },
  {
   "cell_type": "code",
   "execution_count": null,
   "metadata": {
    "notebookRunGroups": {
     "groupValue": "1"
    }
   },
   "outputs": [
    {
     "data": {
      "text/plain": [
       "(307780, 24)"
      ]
     },
     "execution_count": 380,
     "metadata": {},
     "output_type": "execute_result"
    }
   ],
   "source": [
    "derty.shape"
   ]
  },
  {
   "cell_type": "code",
   "execution_count": null,
   "metadata": {
    "notebookRunGroups": {
     "groupValue": "1"
    }
   },
   "outputs": [],
   "source": [
    "metlife_sftp = pd.DataFrame()\n",
    "metlife_sftp = derty.copy()"
   ]
  },
  {
   "cell_type": "code",
   "execution_count": null,
   "metadata": {
    "notebookRunGroups": {
     "groupValue": "1"
    }
   },
   "outputs": [
    {
     "name": "stderr",
     "output_type": "stream",
     "text": [
      "C:\\Users\\jmartinez\\AppData\\Local\\Temp\\ipykernel_23396\\3662042864.py:6: FutureWarning: The default value of regex will change from True to False in a future version. In addition, single character regular expressions will *not* be treated as literal strings when regex=True.\n",
      "  metlife_sftp[\"rut1\"] = metlife_sftp[\"rut1\"].str.replace(\".\", \"\")\n",
      "C:\\Users\\jmartinez\\AppData\\Local\\Temp\\ipykernel_23396\\3662042864.py:16: FutureWarning: The default value of regex will change from True to False in a future version. In addition, single character regular expressions will *not* be treated as literal strings when regex=True.\n",
      "  metlife_sftp[\"rut2\"] = metlife_sftp[\"rut2\"].str.replace(\".\", \"\")\n",
      "C:\\Users\\jmartinez\\AppData\\Local\\Temp\\ipykernel_23396\\3662042864.py:22: FutureWarning: The default value of regex will change from True to False in a future version. In addition, single character regular expressions will *not* be treated as literal strings when regex=True.\n",
      "  metlife_sftp[\"Nombre\"] = metlife_sftp[\"Nombre\"].str.replace(\".\", \"\")\n"
     ]
    },
    {
     "data": {
      "text/plain": [
       "(307780, 24)"
      ]
     },
     "execution_count": 382,
     "metadata": {},
     "output_type": "execute_result"
    }
   ],
   "source": [
    "\n",
    "\n",
    "metlife_sftp[\"rut1\"] = metlife_sftp[\"rut1\"].astype(str)\n",
    "#metlife_sftp[\"rut1\"] = metlife_sftp[\"rut1\"].apply(lambda y: siPrimerCero(y))\n",
    "metlife_sftp[\"rut1\"] = metlife_sftp[\"rut1\"].str.replace(\"-\", \"\")\n",
    "metlife_sftp[\"rut1\"] = metlife_sftp[\"rut1\"].str.replace(\"–\", \"\")\n",
    "metlife_sftp[\"rut1\"] = metlife_sftp[\"rut1\"].astype(str)\n",
    "metlife_sftp[\"rut1\"] = metlife_sftp[\"rut1\"].str.replace(\".\", \"\")\n",
    "metlife_sftp[\"rut1\"] = metlife_sftp[\"rut1\"].str.replace(\" \", \"\")\n",
    "metlife_sftp[\"rut1\"] = metlife_sftp[\"rut1\"].str.upper()\n",
    "metlife_sftp[\"rut1\"] = metlife_sftp[\"rut1\"].str.strip()\n",
    "\n",
    "metlife_sftp[\"rut2\"] = metlife_sftp[\"rut2\"].astype(str)\n",
    "#metlife_sftp[\"rut2\"] = metlife_sftp[\"rut2\"].apply(lambda y: siPrimerCero(y))\n",
    "metlife_sftp[\"rut2\"] = metlife_sftp[\"rut2\"].str.replace(\"-\", \"\")\n",
    "metlife_sftp[\"rut2\"] = metlife_sftp[\"rut2\"].str.replace(\"–\", \"\")\n",
    "metlife_sftp[\"rut2\"] = metlife_sftp[\"rut2\"].astype(str)\n",
    "metlife_sftp[\"rut2\"] = metlife_sftp[\"rut2\"].str.replace(\".\", \"\")\n",
    "metlife_sftp[\"rut2\"] = metlife_sftp[\"rut2\"].str.replace(\" \", \"\")\n",
    "metlife_sftp[\"rut2\"] = metlife_sftp[\"rut2\"].str.upper()\n",
    "metlife_sftp[\"rut2\"] = metlife_sftp[\"rut2\"].str.strip()\n",
    "\n",
    "metlife_sftp[\"Nombre\"] = metlife_sftp[\"Nombre\"].str.replace(\",\", \"\")\n",
    "metlife_sftp[\"Nombre\"] = metlife_sftp[\"Nombre\"].str.replace(\".\", \"\")\n",
    "metlife_sftp[\"Nombre\"] = metlife_sftp[\"Nombre\"].str.replace(\"-\", \"\")\n",
    "metlife_sftp[\"Nombre\"] = metlife_sftp[\"Nombre\"].str.replace(\"┐\", \"\")\n",
    "metlife_sftp[\"Nombre\"] = metlife_sftp[\"Nombre\"].str.replace(\"═\", \"\")\n",
    "metlife_sftp[\"Nombre\"] = metlife_sftp[\"Nombre\"].str.replace(\"╔\", \"\")\n",
    "metlife_sftp[\"Nombre\"] = metlife_sftp[\"Nombre\"].str.replace(\"┌\", \"\")\n",
    "metlife_sftp[\"Nombre\"] = metlife_sftp[\"Nombre\"].str.title()\n",
    "metlife_sftp[\"Nombre\"] = metlife_sftp[\"Nombre\"].str.strip()\n",
    "\n",
    "metlife_sftp[\"poliza\"] = metlife_sftp[\"poliza\"].astype(str)\n",
    "metlife_sftp[\"poliza\"] = metlife_sftp[\"poliza\"].str.strip()\n",
    "\n",
    "\n",
    "\n",
    "#*******************sacar primer cero\n",
    "metlife_sftp.shape"
   ]
  },
  {
   "cell_type": "code",
   "execution_count": null,
   "metadata": {
    "notebookRunGroups": {
     "groupValue": "1"
    }
   },
   "outputs": [
    {
     "data": {
      "text/html": [
       "<div><div id=73fbdd9a-2fab-4a5e-8361-cd3067b73d6a style=\"display:none; background-color:#9D6CFF; color:white; width:200px; height:30px; padding-left:5px; border-radius:4px; flex-direction:row; justify-content:space-around; align-items:center;\" onmouseover=\"this.style.backgroundColor='#BA9BF8'\" onmouseout=\"this.style.backgroundColor='#9D6CFF'\" onclick=\"window.commands?.execute('create-mitosheet-from-dataframe-output');\">See Full Dataframe in Mito</div> <script> if (window.commands?.hasCommand('create-mitosheet-from-dataframe-output')) document.getElementById('73fbdd9a-2fab-4a5e-8361-cd3067b73d6a').style.display = 'flex' </script> <table border=\"1\" class=\"dataframe\">\n",
       "  <thead>\n",
       "    <tr style=\"text-align: right;\">\n",
       "      <th></th>\n",
       "      <th>poliza</th>\n",
       "      <th>rutE</th>\n",
       "      <th>empleador</th>\n",
       "      <th>rut2</th>\n",
       "      <th>RUTBENEFICIARIO</th>\n",
       "      <th>RUTBENEFIARIO_DV</th>\n",
       "      <th>rut1</th>\n",
       "      <th>sdad</th>\n",
       "      <th>nacimiento</th>\n",
       "      <th>sexo</th>\n",
       "      <th>...</th>\n",
       "      <th>RELACION</th>\n",
       "      <th>desde</th>\n",
       "      <th>dddd</th>\n",
       "      <th>Nombre</th>\n",
       "      <th>nombres</th>\n",
       "      <th>apellidos</th>\n",
       "      <th>NOMBRE TITULAR</th>\n",
       "      <th>email</th>\n",
       "      <th>celular</th>\n",
       "      <th>hasta</th>\n",
       "    </tr>\n",
       "  </thead>\n",
       "  <tbody>\n",
       "    <tr>\n",
       "      <th>0</th>\n",
       "      <td>340006458</td>\n",
       "      <td>5387461</td>\n",
       "      <td>4</td>\n",
       "      <td>53874614</td>\n",
       "      <td>5387461.0</td>\n",
       "      <td>4</td>\n",
       "      <td>53874614</td>\n",
       "      <td>1</td>\n",
       "      <td>19949.0</td>\n",
       "      <td>F</td>\n",
       "      <td>...</td>\n",
       "      <td>CO</td>\n",
       "      <td>2021-09-01</td>\n",
       "      <td>NaT</td>\n",
       "      <td>Fernandez  Ana</td>\n",
       "      <td>Ana</td>\n",
       "      <td>Fernandez</td>\n",
       "      <td>Hernandez Salazar Jorge</td>\n",
       "      <td>NaN</td>\n",
       "      <td>NaN</td>\n",
       "      <td>45535.0</td>\n",
       "    </tr>\n",
       "    <tr>\n",
       "      <th>1</th>\n",
       "      <td>340012327</td>\n",
       "      <td>9227659</td>\n",
       "      <td>7</td>\n",
       "      <td>92276597</td>\n",
       "      <td>9227659.0</td>\n",
       "      <td>7</td>\n",
       "      <td>92276597</td>\n",
       "      <td>1</td>\n",
       "      <td>24824.0</td>\n",
       "      <td>M</td>\n",
       "      <td>...</td>\n",
       "      <td>CO</td>\n",
       "      <td>2023-10-01</td>\n",
       "      <td>NaT</td>\n",
       "      <td>Sanhueza Avendaño Victor</td>\n",
       "      <td>Victor</td>\n",
       "      <td>Sanhueza Avendaño</td>\n",
       "      <td>Alarcon Bastias Benicia Del Carmen</td>\n",
       "      <td>beniciaalarcon@hotmail.com</td>\n",
       "      <td>976243960</td>\n",
       "      <td>45443.0</td>\n",
       "    </tr>\n",
       "    <tr>\n",
       "      <th>2</th>\n",
       "      <td>340002454</td>\n",
       "      <td>10257129</td>\n",
       "      <td>0</td>\n",
       "      <td>102571290</td>\n",
       "      <td>10257129.0</td>\n",
       "      <td>0</td>\n",
       "      <td>102571290</td>\n",
       "      <td>1</td>\n",
       "      <td>24820.0</td>\n",
       "      <td>M</td>\n",
       "      <td>...</td>\n",
       "      <td>CO</td>\n",
       "      <td>2021-08-01</td>\n",
       "      <td>NaT</td>\n",
       "      <td>Palma Haeble Maida</td>\n",
       "      <td>Maida</td>\n",
       "      <td>Palma Haeble</td>\n",
       "      <td>Poblete Romero Roberto Esteban</td>\n",
       "      <td>roberto.poblete@latam.com</td>\n",
       "      <td>988293037</td>\n",
       "      <td>45504.0</td>\n",
       "    </tr>\n",
       "    <tr>\n",
       "      <th>3</th>\n",
       "      <td>340023043</td>\n",
       "      <td>10876809</td>\n",
       "      <td>6</td>\n",
       "      <td>108768096</td>\n",
       "      <td>10876809.0</td>\n",
       "      <td>6</td>\n",
       "      <td>108768096</td>\n",
       "      <td>1</td>\n",
       "      <td>32971.0</td>\n",
       "      <td>F</td>\n",
       "      <td>...</td>\n",
       "      <td>CO</td>\n",
       "      <td>2023-01-01</td>\n",
       "      <td>NaT</td>\n",
       "      <td>Araya Tapia Yessenia</td>\n",
       "      <td>Yessenia</td>\n",
       "      <td>Araya Tapia</td>\n",
       "      <td>Lopez Cespedes Juan Fernando</td>\n",
       "      <td>JANPAO_25_@HOTMAIL.COM</td>\n",
       "      <td>950283639</td>\n",
       "      <td>45657.0</td>\n",
       "    </tr>\n",
       "    <tr>\n",
       "      <th>4</th>\n",
       "      <td>340001443</td>\n",
       "      <td>11347141</td>\n",
       "      <td>7</td>\n",
       "      <td>113471417</td>\n",
       "      <td>11347141.0</td>\n",
       "      <td>7</td>\n",
       "      <td>113471417</td>\n",
       "      <td>1</td>\n",
       "      <td>40675.0</td>\n",
       "      <td>F</td>\n",
       "      <td>...</td>\n",
       "      <td>HI</td>\n",
       "      <td>2023-11-01</td>\n",
       "      <td>NaT</td>\n",
       "      <td>Jaime Bozzo Paz</td>\n",
       "      <td>Paz</td>\n",
       "      <td>Jaime Bozzo</td>\n",
       "      <td>Jaime Toro Aldo Alfredo</td>\n",
       "      <td>aldojaimetoro51@gmail.com</td>\n",
       "      <td>956167532</td>\n",
       "      <td>45473.0</td>\n",
       "    </tr>\n",
       "  </tbody>\n",
       "</table></div>"
      ],
      "text/plain": [
       "      poliza      rutE empleador       rut2  RUTBENEFICIARIO RUTBENEFIARIO_DV  \\\n",
       "0  340006458   5387461         4   53874614        5387461.0                4   \n",
       "1  340012327   9227659         7   92276597        9227659.0                7   \n",
       "2  340002454  10257129         0  102571290       10257129.0                0   \n",
       "3  340023043  10876809         6  108768096       10876809.0                6   \n",
       "4  340001443  11347141         7  113471417       11347141.0                7   \n",
       "\n",
       "        rut1  sdad  nacimiento sexo  ... RELACION      desde dddd  \\\n",
       "0   53874614     1     19949.0    F  ...       CO 2021-09-01  NaT   \n",
       "1   92276597     1     24824.0    M  ...       CO 2023-10-01  NaT   \n",
       "2  102571290     1     24820.0    M  ...       CO 2021-08-01  NaT   \n",
       "3  108768096     1     32971.0    F  ...       CO 2023-01-01  NaT   \n",
       "4  113471417     1     40675.0    F  ...       HI 2023-11-01  NaT   \n",
       "\n",
       "                     Nombre   nombres          apellidos  \\\n",
       "0            Fernandez  Ana       Ana          Fernandez   \n",
       "1  Sanhueza Avendaño Victor    Victor  Sanhueza Avendaño   \n",
       "2        Palma Haeble Maida     Maida       Palma Haeble   \n",
       "3      Araya Tapia Yessenia  Yessenia        Araya Tapia   \n",
       "4           Jaime Bozzo Paz       Paz        Jaime Bozzo   \n",
       "\n",
       "                       NOMBRE TITULAR                       email    celular  \\\n",
       "0             Hernandez Salazar Jorge                         NaN        NaN   \n",
       "1  Alarcon Bastias Benicia Del Carmen  beniciaalarcon@hotmail.com  976243960   \n",
       "2      Poblete Romero Roberto Esteban   roberto.poblete@latam.com  988293037   \n",
       "3        Lopez Cespedes Juan Fernando      JANPAO_25_@HOTMAIL.COM  950283639   \n",
       "4             Jaime Toro Aldo Alfredo   aldojaimetoro51@gmail.com  956167532   \n",
       "\n",
       "     hasta  \n",
       "0  45535.0  \n",
       "1  45443.0  \n",
       "2  45504.0  \n",
       "3  45657.0  \n",
       "4  45473.0  \n",
       "\n",
       "[5 rows x 24 columns]"
      ]
     },
     "execution_count": 383,
     "metadata": {},
     "output_type": "execute_result"
    }
   ],
   "source": [
    "metlife_sftp.head()"
   ]
  },
  {
   "cell_type": "code",
   "execution_count": null,
   "metadata": {
    "notebookRunGroups": {
     "groupValue": "1"
    }
   },
   "outputs": [],
   "source": [
    "def siPrimerCero(y):    \n",
    "    if len(y) <= 4:\n",
    "        y =  \"NONE\"\n",
    "    if y[0] == \"0\":\n",
    "        y = y[1:]\n",
    "    return str(y)\n",
    "    "
   ]
  },
  {
   "cell_type": "code",
   "execution_count": null,
   "metadata": {
    "notebookRunGroups": {
     "groupValue": "1"
    }
   },
   "outputs": [
    {
     "data": {
      "text/plain": [
       "(307780, 25)"
      ]
     },
     "execution_count": 385,
     "metadata": {},
     "output_type": "execute_result"
    }
   ],
   "source": [
    "metlife_sftp[\"rut1\"] = metlife_sftp[\"rut1\"].apply(lambda y: siPrimerCero(y))\n",
    "metlife_sftp[\"rut2\"] = metlife_sftp[\"rut2\"].apply(lambda y: siPrimerCero(y))\n",
    "metlife_sftp = metlife_sftp[(metlife_sftp[\"rut1\"] != \"NONE\")]\n",
    "metlife_sftp = metlife_sftp[(metlife_sftp[\"rut2\"] != \"NONE\")]\n",
    "\n",
    "\n",
    "metlife_sftp[\"Titular\"] = np.where(metlife_sftp[\"rut1\"] == metlife_sftp[\"rut2\"],1,2 )\n",
    "metlife_sftp = metlife_sftp[(metlife_sftp[\"Titular\"] == 1)]\n",
    "metlife_sftp = metlife_sftp.drop_duplicates(\n",
    "    [\n",
    "        \"rut1\",\"poliza\",\n",
    "    ],\n",
    "    keep=\"last\",\n",
    ")\n",
    "\n",
    "metlife_sftp.shape"
   ]
  },
  {
   "cell_type": "code",
   "execution_count": null,
   "metadata": {
    "notebookRunGroups": {
     "groupValue": "1"
    }
   },
   "outputs": [
    {
     "data": {
      "text/plain": [
       "(307780, 25)"
      ]
     },
     "execution_count": 386,
     "metadata": {},
     "output_type": "execute_result"
    }
   ],
   "source": [
    "metlife_sftp.shape"
   ]
  },
  {
   "cell_type": "code",
   "execution_count": null,
   "metadata": {
    "notebookRunGroups": {
     "groupValue": "1"
    }
   },
   "outputs": [
    {
     "name": "stderr",
     "output_type": "stream",
     "text": [
      "C:\\Users\\jmartinez\\AppData\\Local\\Temp\\ipykernel_23396\\2005110109.py:14: FutureWarning: The default value of regex will change from True to False in a future version. In addition, single character regular expressions will *not* be treated as literal strings when regex=True.\n",
      "  metlife_correo[\"rut1\"] = metlife_correo[\"rut1\"].str.replace(\".\", \"\")\n",
      "C:\\Users\\jmartinez\\AppData\\Local\\Temp\\ipykernel_23396\\2005110109.py:24: FutureWarning: The default value of regex will change from True to False in a future version. In addition, single character regular expressions will *not* be treated as literal strings when regex=True.\n",
      "  metlife_correo[\"rut2\"] = metlife_correo[\"rut2\"].str.replace(\".\", \"\")\n",
      "C:\\Users\\jmartinez\\AppData\\Local\\Temp\\ipykernel_23396\\2005110109.py:30: FutureWarning: The default value of regex will change from True to False in a future version. In addition, single character regular expressions will *not* be treated as literal strings when regex=True.\n",
      "  metlife_correo[\"Nombre\"] = metlife_correo[\"Nombre\"].str.replace(\".\", \"\")\n"
     ]
    },
    {
     "data": {
      "text/plain": [
       "(75862, 19)"
      ]
     },
     "execution_count": 387,
     "metadata": {},
     "output_type": "execute_result"
    }
   ],
   "source": [
    "correo = \"F:/2024/MetLife/\" + str(mesesDic[mes]) + año + \"/Subir/correo.xlsx\"\n",
    "dertyc = pd.read_excel(correo)\n",
    "metlife_correo = dertyc.copy()\n",
    "\n",
    "# nuevos = \"F:/Empresas SF/reportes/carga.xlsx\"\n",
    "\n",
    "\n",
    "\n",
    "metlife_correo[\"rut1\"] = metlife_correo[\"rut1\"].astype(str)\n",
    "#metlife_sftp[\"rut1\"] = metlife_sftp[\"rut1\"].apply(lambda y: siPrimerCero(y))\n",
    "metlife_correo[\"rut1\"] = metlife_correo[\"rut1\"].str.replace(\"-\", \"\")\n",
    "metlife_correo[\"rut1\"] = metlife_correo[\"rut1\"].str.replace(\"–\", \"\")\n",
    "metlife_correo[\"rut1\"] = metlife_correo[\"rut1\"].astype(str)\n",
    "metlife_correo[\"rut1\"] = metlife_correo[\"rut1\"].str.replace(\".\", \"\")\n",
    "metlife_correo[\"rut1\"] = metlife_correo[\"rut1\"].str.replace(\" \", \"\")\n",
    "metlife_correo[\"rut1\"] = metlife_correo[\"rut1\"].str.upper()\n",
    "metlife_correo[\"rut1\"] = metlife_correo[\"rut1\"].str.strip()\n",
    "\n",
    "metlife_correo[\"rut2\"] = metlife_correo[\"rut2\"].astype(str)\n",
    "#metlife_sftp[\"rut2\"] = metlife_sftp[\"rut2\"].apply(lambda y: siPrimerCero(y))\n",
    "metlife_correo[\"rut2\"] = metlife_correo[\"rut2\"].str.replace(\"-\", \"\")\n",
    "metlife_correo[\"rut2\"] = metlife_correo[\"rut2\"].str.replace(\"–\", \"\")\n",
    "metlife_correo[\"rut2\"] = metlife_correo[\"rut2\"].astype(str)\n",
    "metlife_correo[\"rut2\"] = metlife_correo[\"rut2\"].str.replace(\".\", \"\")\n",
    "metlife_correo[\"rut2\"] = metlife_correo[\"rut2\"].str.replace(\" \", \"\")\n",
    "metlife_correo[\"rut2\"] = metlife_correo[\"rut2\"].str.upper()\n",
    "metlife_correo[\"rut2\"] = metlife_correo[\"rut2\"].str.strip()\n",
    "\n",
    "metlife_correo[\"Nombre\"] = metlife_correo[\"Nombre\"].str.replace(\",\", \"\")\n",
    "metlife_correo[\"Nombre\"] = metlife_correo[\"Nombre\"].str.replace(\".\", \"\")\n",
    "metlife_correo[\"Nombre\"] = metlife_correo[\"Nombre\"].str.replace(\"-\", \"\")\n",
    "metlife_correo[\"Nombre\"] = metlife_correo[\"Nombre\"].str.replace(\"┐\", \"\")\n",
    "metlife_correo[\"Nombre\"] = metlife_correo[\"Nombre\"].str.replace(\"═\", \"\")\n",
    "metlife_correo[\"Nombre\"] = metlife_correo[\"Nombre\"].str.replace(\"╔\", \"\")\n",
    "metlife_correo[\"Nombre\"] = metlife_correo[\"Nombre\"].str.replace(\"┌\", \"\")\n",
    "metlife_correo[\"Nombre\"] = metlife_correo[\"Nombre\"].str.title()\n",
    "metlife_correo[\"Nombre\"] = metlife_correo[\"Nombre\"].str.strip()\n",
    "\n",
    "metlife_correo[\"poliza\"] = metlife_correo[\"poliza\"].astype(str)\n",
    "metlife_correo[\"poliza\"] = metlife_correo[\"poliza\"].str.strip()\n",
    "\n",
    "\n",
    "\n",
    "\n",
    "#*******************sacar primer cero\n",
    "metlife_correo.shape\n",
    "#derty = pd.read_excel(sftp)"
   ]
  },
  {
   "cell_type": "code",
   "execution_count": null,
   "metadata": {
    "notebookRunGroups": {
     "groupValue": "1"
    }
   },
   "outputs": [
    {
     "data": {
      "text/plain": [
       "(51851, 20)"
      ]
     },
     "execution_count": 388,
     "metadata": {},
     "output_type": "execute_result"
    }
   ],
   "source": [
    "metlife_correo[\"rut1\"] = metlife_correo[\"rut1\"].apply(lambda y: siPrimerCero(y))\n",
    "metlife_correo[\"rut2\"] = metlife_correo[\"rut2\"].apply(lambda y: siPrimerCero(y))\n",
    "metlife_correo = metlife_correo[(metlife_correo[\"rut1\"] != \"NONE\")]\n",
    "metlife_correo = metlife_correo[(metlife_correo[\"rut2\"] != \"NONE\")]\n",
    "\n",
    "metlife_correo[\"Titular\"] = np.where(metlife_correo[\"rut1\"] == metlife_correo[\"rut2\"],1,2 )\n",
    "metlife_correo = metlife_correo[(metlife_correo[\"Titular\"] == 1)]\n",
    "metlife_correo = metlife_correo.drop_duplicates(\n",
    "    [\n",
    "        \"rut1\",\"poliza\"\n",
    "    ],\n",
    "    keep=\"last\",\n",
    ")\n",
    "\n",
    "metlife_correo.shape"
   ]
  },
  {
   "cell_type": "code",
   "execution_count": 41,
   "metadata": {},
   "outputs": [
    {
     "data": {
      "text/plain": [
       "(4172, 7)"
      ]
     },
     "execution_count": 41,
     "metadata": {},
     "output_type": "execute_result"
    }
   ],
   "source": [
    "metlife_correo.shape"
   ]
  },
  {
   "cell_type": "code",
   "execution_count": null,
   "metadata": {
    "notebookRunGroups": {
     "groupValue": "1"
    }
   },
   "outputs": [],
   "source": [
    "web = \"F:/2024/MetLife/\" + str(mesesDic[mes]) + año + \"/Subir/web.xlsx\"\n",
    "dertyd = pd.read_excel(web)\n"
   ]
  },
  {
   "cell_type": "code",
   "execution_count": null,
   "metadata": {
    "notebookRunGroups": {
     "groupValue": "1"
    }
   },
   "outputs": [
    {
     "data": {
      "text/html": [
       "<div><div id=46a3bbe2-92c5-444b-a3a8-2ab37c0eba24 style=\"display:none; background-color:#9D6CFF; color:white; width:200px; height:30px; padding-left:5px; border-radius:4px; flex-direction:row; justify-content:space-around; align-items:center;\" onmouseover=\"this.style.backgroundColor='#BA9BF8'\" onmouseout=\"this.style.backgroundColor='#9D6CFF'\" onclick=\"window.commands?.execute('create-mitosheet-from-dataframe-output');\">See Full Dataframe in Mito</div> <script> if (window.commands?.hasCommand('create-mitosheet-from-dataframe-output')) document.getElementById('46a3bbe2-92c5-444b-a3a8-2ab37c0eba24').style.display = 'flex' </script> <table border=\"1\" class=\"dataframe\">\n",
       "  <thead>\n",
       "    <tr style=\"text-align: right;\">\n",
       "      <th></th>\n",
       "      <th>id</th>\n",
       "      <th>ciudad</th>\n",
       "      <th>codigo_carga</th>\n",
       "      <th>codigo_postal</th>\n",
       "      <th>comuna</th>\n",
       "      <th>convenio</th>\n",
       "      <th>convenio_plan</th>\n",
       "      <th>direccion</th>\n",
       "      <th>fecha_bloqueo</th>\n",
       "      <th>fecha_modificacion</th>\n",
       "      <th>...</th>\n",
       "      <th>p_paterno</th>\n",
       "      <th>poliza</th>\n",
       "      <th>p_relacion</th>\n",
       "      <th>rut1</th>\n",
       "      <th>rut2</th>\n",
       "      <th>rsrrs</th>\n",
       "      <th>p_sexo</th>\n",
       "      <th>procesado</th>\n",
       "      <th>rut_empresa</th>\n",
       "      <th>version</th>\n",
       "    </tr>\n",
       "  </thead>\n",
       "  <tbody>\n",
       "    <tr>\n",
       "      <th>0</th>\n",
       "      <td>468344</td>\n",
       "      <td>NaN</td>\n",
       "      <td>0</td>\n",
       "      <td>NaN</td>\n",
       "      <td>NaN</td>\n",
       "      <td>77</td>\n",
       "      <td>SIN PLAN</td>\n",
       "      <td>NaN</td>\n",
       "      <td>0</td>\n",
       "      <td>2024-02-23</td>\n",
       "      <td>...</td>\n",
       "      <td>GONZALEZ</td>\n",
       "      <td>340019001</td>\n",
       "      <td>1</td>\n",
       "      <td>107208984</td>\n",
       "      <td>107208984</td>\n",
       "      <td>1</td>\n",
       "      <td>1</td>\n",
       "      <td>0</td>\n",
       "      <td>96557400K</td>\n",
       "      <td>1</td>\n",
       "    </tr>\n",
       "    <tr>\n",
       "      <th>1</th>\n",
       "      <td>468353</td>\n",
       "      <td>NaN</td>\n",
       "      <td>0</td>\n",
       "      <td>NaN</td>\n",
       "      <td>NaN</td>\n",
       "      <td>80</td>\n",
       "      <td>SIN PLAN</td>\n",
       "      <td>NaN</td>\n",
       "      <td>0</td>\n",
       "      <td>2024-02-26</td>\n",
       "      <td>...</td>\n",
       "      <td>BAZAES</td>\n",
       "      <td>340010579</td>\n",
       "      <td>1</td>\n",
       "      <td>176364688</td>\n",
       "      <td>176364688</td>\n",
       "      <td>1</td>\n",
       "      <td>1</td>\n",
       "      <td>0</td>\n",
       "      <td>966026405</td>\n",
       "      <td>1</td>\n",
       "    </tr>\n",
       "    <tr>\n",
       "      <th>2</th>\n",
       "      <td>468354</td>\n",
       "      <td>NaN</td>\n",
       "      <td>0</td>\n",
       "      <td>NaN</td>\n",
       "      <td>MARCHIHUE</td>\n",
       "      <td>80</td>\n",
       "      <td>SIN PLAN</td>\n",
       "      <td>PUNTA DE MARCHIGUE SN</td>\n",
       "      <td>0</td>\n",
       "      <td>2024-02-26</td>\n",
       "      <td>...</td>\n",
       "      <td>MADARIAGA</td>\n",
       "      <td>340012071</td>\n",
       "      <td>1</td>\n",
       "      <td>187235383</td>\n",
       "      <td>187235383</td>\n",
       "      <td>1</td>\n",
       "      <td>1</td>\n",
       "      <td>0</td>\n",
       "      <td>864318002</td>\n",
       "      <td>1</td>\n",
       "    </tr>\n",
       "    <tr>\n",
       "      <th>3</th>\n",
       "      <td>468358</td>\n",
       "      <td>NaN</td>\n",
       "      <td>0</td>\n",
       "      <td>NaN</td>\n",
       "      <td>RANCAGUA</td>\n",
       "      <td>77</td>\n",
       "      <td>SIN PLAN</td>\n",
       "      <td>SAN PEDRO 1855  VILLA DON MATEO 4</td>\n",
       "      <td>0</td>\n",
       "      <td>2024-02-26</td>\n",
       "      <td>...</td>\n",
       "      <td>CARVAJAL</td>\n",
       "      <td>340009432</td>\n",
       "      <td>1</td>\n",
       "      <td>202107265</td>\n",
       "      <td>202107265</td>\n",
       "      <td>1</td>\n",
       "      <td>1</td>\n",
       "      <td>0</td>\n",
       "      <td>709057006</td>\n",
       "      <td>1</td>\n",
       "    </tr>\n",
       "    <tr>\n",
       "      <th>4</th>\n",
       "      <td>468361</td>\n",
       "      <td>QUINTERO</td>\n",
       "      <td>0</td>\n",
       "      <td>NaN</td>\n",
       "      <td>QUINTERO</td>\n",
       "      <td>80</td>\n",
       "      <td>SIN PLAN</td>\n",
       "      <td>ARTURO PRAT 2168</td>\n",
       "      <td>0</td>\n",
       "      <td>2024-02-26</td>\n",
       "      <td>...</td>\n",
       "      <td>GONZALEZ</td>\n",
       "      <td>340010579</td>\n",
       "      <td>1</td>\n",
       "      <td>76233683</td>\n",
       "      <td>76233683</td>\n",
       "      <td>1</td>\n",
       "      <td>1</td>\n",
       "      <td>0</td>\n",
       "      <td>966026405</td>\n",
       "      <td>1</td>\n",
       "    </tr>\n",
       "    <tr>\n",
       "      <th>5</th>\n",
       "      <td>468366</td>\n",
       "      <td>NaN</td>\n",
       "      <td>0</td>\n",
       "      <td>NaN</td>\n",
       "      <td>NaN</td>\n",
       "      <td>80</td>\n",
       "      <td>SIN PLAN</td>\n",
       "      <td>NaN</td>\n",
       "      <td>0</td>\n",
       "      <td>2024-02-26</td>\n",
       "      <td>...</td>\n",
       "      <td>ALFARO</td>\n",
       "      <td>340012071</td>\n",
       "      <td>1</td>\n",
       "      <td>135337889</td>\n",
       "      <td>135337889</td>\n",
       "      <td>1</td>\n",
       "      <td>2</td>\n",
       "      <td>0</td>\n",
       "      <td>864318002</td>\n",
       "      <td>1</td>\n",
       "    </tr>\n",
       "    <tr>\n",
       "      <th>6</th>\n",
       "      <td>468370</td>\n",
       "      <td>NaN</td>\n",
       "      <td>0</td>\n",
       "      <td>NaN</td>\n",
       "      <td>PUCHUNCAVÍ</td>\n",
       "      <td>80</td>\n",
       "      <td>SIN PLAN</td>\n",
       "      <td>BELLO HORIZONTE 19  LAS VENTANAS</td>\n",
       "      <td>0</td>\n",
       "      <td>2024-02-26</td>\n",
       "      <td>...</td>\n",
       "      <td>ROMERO</td>\n",
       "      <td>340010579</td>\n",
       "      <td>1</td>\n",
       "      <td>78555874</td>\n",
       "      <td>78555874</td>\n",
       "      <td>1</td>\n",
       "      <td>1</td>\n",
       "      <td>0</td>\n",
       "      <td>966026405</td>\n",
       "      <td>1</td>\n",
       "    </tr>\n",
       "    <tr>\n",
       "      <th>7</th>\n",
       "      <td>468374</td>\n",
       "      <td>NaN</td>\n",
       "      <td>0</td>\n",
       "      <td>NaN</td>\n",
       "      <td>PROVIDENCIA</td>\n",
       "      <td>80</td>\n",
       "      <td>SIN PLAN</td>\n",
       "      <td>EL BOSQUE 1150</td>\n",
       "      <td>0</td>\n",
       "      <td>2024-02-26</td>\n",
       "      <td>...</td>\n",
       "      <td>LACALLE</td>\n",
       "      <td>340009363</td>\n",
       "      <td>1</td>\n",
       "      <td>105793936</td>\n",
       "      <td>105793936</td>\n",
       "      <td>1</td>\n",
       "      <td>2</td>\n",
       "      <td>0</td>\n",
       "      <td>970430008</td>\n",
       "      <td>1</td>\n",
       "    </tr>\n",
       "    <tr>\n",
       "      <th>8</th>\n",
       "      <td>468376</td>\n",
       "      <td>NaN</td>\n",
       "      <td>0</td>\n",
       "      <td>NaN</td>\n",
       "      <td>NaN</td>\n",
       "      <td>80</td>\n",
       "      <td>SIN PLAN</td>\n",
       "      <td>NaN</td>\n",
       "      <td>0</td>\n",
       "      <td>2024-02-26</td>\n",
       "      <td>...</td>\n",
       "      <td>VERA</td>\n",
       "      <td>340010579</td>\n",
       "      <td>1</td>\n",
       "      <td>64855883</td>\n",
       "      <td>64855883</td>\n",
       "      <td>1</td>\n",
       "      <td>1</td>\n",
       "      <td>0</td>\n",
       "      <td>966026405</td>\n",
       "      <td>1</td>\n",
       "    </tr>\n",
       "  </tbody>\n",
       "</table></div>"
      ],
      "text/plain": [
       "       id    ciudad  codigo_carga  codigo_postal       comuna  convenio  \\\n",
       "0  468344       NaN             0            NaN          NaN        77   \n",
       "1  468353       NaN             0            NaN          NaN        80   \n",
       "2  468354       NaN             0            NaN    MARCHIHUE        80   \n",
       "3  468358       NaN             0            NaN     RANCAGUA        77   \n",
       "4  468361  QUINTERO             0            NaN     QUINTERO        80   \n",
       "5  468366       NaN             0            NaN          NaN        80   \n",
       "6  468370       NaN             0            NaN   PUCHUNCAVÍ        80   \n",
       "7  468374       NaN             0            NaN  PROVIDENCIA        80   \n",
       "8  468376       NaN             0            NaN          NaN        80   \n",
       "\n",
       "  convenio_plan                          direccion  fecha_bloqueo  \\\n",
       "0      SIN PLAN                                NaN              0   \n",
       "1      SIN PLAN                                NaN              0   \n",
       "2      SIN PLAN              PUNTA DE MARCHIGUE SN              0   \n",
       "3      SIN PLAN  SAN PEDRO 1855  VILLA DON MATEO 4              0   \n",
       "4      SIN PLAN                   ARTURO PRAT 2168              0   \n",
       "5      SIN PLAN                                NaN              0   \n",
       "6      SIN PLAN   BELLO HORIZONTE 19  LAS VENTANAS              0   \n",
       "7      SIN PLAN                     EL BOSQUE 1150              0   \n",
       "8      SIN PLAN                                NaN              0   \n",
       "\n",
       "  fecha_modificacion  ...  p_paterno     poliza p_relacion       rut1  \\\n",
       "0         2024-02-23  ...   GONZALEZ  340019001          1  107208984   \n",
       "1         2024-02-26  ...     BAZAES  340010579          1  176364688   \n",
       "2         2024-02-26  ...  MADARIAGA  340012071          1  187235383   \n",
       "3         2024-02-26  ...   CARVAJAL  340009432          1  202107265   \n",
       "4         2024-02-26  ...   GONZALEZ  340010579          1   76233683   \n",
       "5         2024-02-26  ...     ALFARO  340012071          1  135337889   \n",
       "6         2024-02-26  ...     ROMERO  340010579          1   78555874   \n",
       "7         2024-02-26  ...    LACALLE  340009363          1  105793936   \n",
       "8         2024-02-26  ...       VERA  340010579          1   64855883   \n",
       "\n",
       "        rut2  rsrrs p_sexo procesado  rut_empresa  version  \n",
       "0  107208984      1      1         0    96557400K        1  \n",
       "1  176364688      1      1         0    966026405        1  \n",
       "2  187235383      1      1         0    864318002        1  \n",
       "3  202107265      1      1         0    709057006        1  \n",
       "4   76233683      1      1         0    966026405        1  \n",
       "5  135337889      1      2         0    864318002        1  \n",
       "6   78555874      1      1         0    966026405        1  \n",
       "7  105793936      1      2         0    970430008        1  \n",
       "8   64855883      1      1         0    966026405        1  \n",
       "\n",
       "[9 rows x 41 columns]"
      ]
     },
     "execution_count": 390,
     "metadata": {},
     "output_type": "execute_result"
    }
   ],
   "source": [
    "dertyd.head(9)"
   ]
  },
  {
   "cell_type": "code",
   "execution_count": null,
   "metadata": {
    "notebookRunGroups": {
     "groupValue": "1"
    }
   },
   "outputs": [],
   "source": [
    "metlife_web = dertyd.copy()"
   ]
  },
  {
   "cell_type": "code",
   "execution_count": 40,
   "metadata": {
    "notebookRunGroups": {
     "groupValue": ""
    }
   },
   "outputs": [
    {
     "data": {
      "text/plain": [
       "(4715, 40)"
      ]
     },
     "execution_count": 40,
     "metadata": {},
     "output_type": "execute_result"
    }
   ],
   "source": [
    "metlife_web.head()\n",
    "metlife_web.shape"
   ]
  },
  {
   "cell_type": "code",
   "execution_count": null,
   "metadata": {
    "notebookRunGroups": {
     "groupValue": "1"
    }
   },
   "outputs": [
    {
     "name": "stderr",
     "output_type": "stream",
     "text": [
      "C:\\Users\\jmartinez\\AppData\\Local\\Temp\\ipykernel_23396\\2932449918.py:10: FutureWarning: The default value of regex will change from True to False in a future version. In addition, single character regular expressions will *not* be treated as literal strings when regex=True.\n",
      "  metlife_web[\"rut1\"] = metlife_web[\"rut1\"].str.replace(\".\", \"\")\n",
      "C:\\Users\\jmartinez\\AppData\\Local\\Temp\\ipykernel_23396\\2932449918.py:20: FutureWarning: The default value of regex will change from True to False in a future version. In addition, single character regular expressions will *not* be treated as literal strings when regex=True.\n",
      "  metlife_web[\"rut2\"] = metlife_web[\"rut2\"].str.replace(\".\", \"\")\n",
      "C:\\Users\\jmartinez\\AppData\\Local\\Temp\\ipykernel_23396\\2932449918.py:26: FutureWarning: The default value of regex will change from True to False in a future version. In addition, single character regular expressions will *not* be treated as literal strings when regex=True.\n",
      "  metlife_web[\"Nombre\"] = metlife_web[\"Nombre\"].str.replace(\".\", \"\")\n"
     ]
    },
    {
     "data": {
      "text/plain": [
       "(17967, 42)"
      ]
     },
     "execution_count": 392,
     "metadata": {},
     "output_type": "execute_result"
    }
   ],
   "source": [
    "\n",
    "\n",
    "# nuevos = \"F:/Empresas SF/reportes/carga.xlsx\"\n",
    "\n",
    "\n",
    "\n",
    "metlife_web[\"rut1\"] = metlife_web[\"rut1\"].astype(str)\n",
    "#metlife_sftp[\"rut1\"] = metlife_sftp[\"rut1\"].apply(lambda y: siPrimerCero(y))\n",
    "metlife_web[\"rut1\"] = metlife_web[\"rut1\"].str.replace(\"-\", \"\")\n",
    "metlife_web[\"rut1\"] = metlife_web[\"rut1\"].str.replace(\"–\", \"\")\n",
    "metlife_web[\"rut1\"] = metlife_web[\"rut1\"].astype(str)\n",
    "metlife_web[\"rut1\"] = metlife_web[\"rut1\"].str.replace(\".\", \"\")\n",
    "metlife_web[\"rut1\"] = metlife_web[\"rut1\"].str.replace(\" \", \"\")\n",
    "metlife_web[\"rut1\"] = metlife_web[\"rut1\"].str.upper()\n",
    "metlife_web[\"rut1\"] = metlife_web[\"rut1\"].str.strip()\n",
    "\n",
    "metlife_web[\"rut2\"] = metlife_web[\"rut2\"].astype(str)\n",
    "#metlife_sftp[\"rut2\"] = metlife_sftp[\"rut2\"].apply(lambda y: siPrimerCero(y))\n",
    "metlife_web[\"rut2\"] = metlife_web[\"rut2\"].str.replace(\"-\", \"\")\n",
    "metlife_web[\"rut2\"] = metlife_web[\"rut2\"].str.replace(\"–\", \"\")\n",
    "metlife_web[\"rut2\"] = metlife_web[\"rut2\"].astype(str)\n",
    "metlife_web[\"rut2\"] = metlife_web[\"rut2\"].str.replace(\".\", \"\")\n",
    "metlife_web[\"rut2\"] = metlife_web[\"rut2\"].str.replace(\" \", \"\")\n",
    "metlife_web[\"rut2\"] = metlife_web[\"rut2\"].str.upper()\n",
    "metlife_web[\"rut2\"] = metlife_web[\"rut2\"].str.strip()\n",
    "\n",
    "metlife_web[\"Nombre\"] = metlife_web[\"Nombre\"].str.replace(\",\", \"\")\n",
    "metlife_web[\"Nombre\"] = metlife_web[\"Nombre\"].str.replace(\".\", \"\")\n",
    "metlife_web[\"Nombre\"] = metlife_web[\"Nombre\"].str.replace(\"-\", \"\")\n",
    "metlife_web[\"Nombre\"] = metlife_web[\"Nombre\"].str.replace(\"┐\", \"\")\n",
    "metlife_web[\"Nombre\"] = metlife_web[\"Nombre\"].str.replace(\"═\", \"\")\n",
    "metlife_web[\"Nombre\"] = metlife_web[\"Nombre\"].str.replace(\"╔\", \"\")\n",
    "metlife_web[\"Nombre\"] = metlife_web[\"Nombre\"].str.replace(\"┌\", \"\")\n",
    "metlife_web[\"Nombre\"] = metlife_web[\"Nombre\"].str.title()\n",
    "metlife_web[\"Nombre\"] = metlife_web[\"Nombre\"].str.strip()\n",
    "\n",
    "metlife_web[\"poliza\"] = metlife_web[\"poliza\"].astype(str)\n",
    "metlife_web[\"poliza\"] = metlife_web[\"poliza\"].str.strip()\n",
    "\n",
    "metlife_web[\"rut1\"] = metlife_web[\"rut1\"].apply(lambda y: siPrimerCero(y))\n",
    "metlife_web[\"rut2\"] = metlife_web[\"rut2\"].apply(lambda y: siPrimerCero(y))\n",
    "metlife_web = metlife_web[(metlife_web[\"rut1\"] != \"NONE\")]\n",
    "metlife_web = metlife_web[(metlife_web[\"rut2\"] != \"NONE\")]\n",
    "metlife_web.shape\n",
    "\n",
    "metlife_web[\"Titular\"] = np.where(metlife_web[\"rut1\"] == metlife_web[\"rut2\"],1,2 )\n",
    "metlife_web = metlife_web[(metlife_web[\"Titular\"] == 1)]\n",
    "\n",
    "metlife_web = metlife_web.drop_duplicates(\n",
    "    [\n",
    "        \"rut1\",\"poliza\"\n",
    "    ],\n",
    "    keep=\"last\",\n",
    ")\n",
    "\n",
    "\n",
    "#*******************sacar primer cero\n",
    "metlife_web.shape\n",
    "#derty = pd.read_excel(sftp)"
   ]
  },
  {
   "cell_type": "code",
   "execution_count": null,
   "metadata": {
    "notebookRunGroups": {
     "groupValue": "1"
    }
   },
   "outputs": [
    {
     "name": "stderr",
     "output_type": "stream",
     "text": [
      "C:\\Users\\jmartinez\\AppData\\Local\\Temp\\ipykernel_23396\\3947619704.py:9: FutureWarning: The default value of regex will change from True to False in a future version. In addition, single character regular expressions will *not* be treated as literal strings when regex=True.\n",
      "  metlife_Q[\"rut1\"] = metlife_Q[\"rut1\"].str.replace(\".\", \"\")\n",
      "C:\\Users\\jmartinez\\AppData\\Local\\Temp\\ipykernel_23396\\3947619704.py:19: FutureWarning: The default value of regex will change from True to False in a future version. In addition, single character regular expressions will *not* be treated as literal strings when regex=True.\n",
      "  metlife_Q[\"rut2\"] = metlife_Q[\"rut2\"].str.replace(\".\", \"\")\n",
      "C:\\Users\\jmartinez\\AppData\\Local\\Temp\\ipykernel_23396\\3947619704.py:25: FutureWarning: The default value of regex will change from True to False in a future version. In addition, single character regular expressions will *not* be treated as literal strings when regex=True.\n",
      "  metlife_Q[\"Nombre\"] = metlife_Q[\"Nombre\"].str.replace(\".\", \"\")\n"
     ]
    },
    {
     "data": {
      "text/plain": [
       "(387727, 22)"
      ]
     },
     "execution_count": 393,
     "metadata": {},
     "output_type": "execute_result"
    }
   ],
   "source": [
    "webq = \"F:/2024/MetLife/\" + str(mesesDic[mes]) + año + \"/Subir/Q.xlsx\"\n",
    "metlife_Q = pd.read_excel(webq)\n",
    "\n",
    "metlife_Q[\"rut1\"] = metlife_Q[\"rut1\"].astype(str)\n",
    "#metlife_sftp[\"rut1\"] = metlife_sftp[\"rut1\"].apply(lambda y: siPrimerCero(y))\n",
    "metlife_Q[\"rut1\"] = metlife_Q[\"rut1\"].str.replace(\"-\", \"\")\n",
    "metlife_Q[\"rut1\"] = metlife_Q[\"rut1\"].str.replace(\"–\", \"\")\n",
    "metlife_Q[\"rut1\"] = metlife_Q[\"rut1\"].astype(str)\n",
    "metlife_Q[\"rut1\"] = metlife_Q[\"rut1\"].str.replace(\".\", \"\")\n",
    "metlife_Q[\"rut1\"] = metlife_Q[\"rut1\"].str.replace(\" \", \"\")\n",
    "metlife_Q[\"rut1\"] = metlife_Q[\"rut1\"].str.upper()\n",
    "metlife_Q[\"rut1\"] = metlife_Q[\"rut1\"].str.strip()\n",
    "\n",
    "metlife_Q[\"rut2\"] = metlife_Q[\"rut2\"].astype(str)\n",
    "#metlife_sftp[\"rut2\"] = metlife_sftp[\"rut2\"].apply(lambda y: siPrimerCero(y))\n",
    "metlife_Q[\"rut2\"] = metlife_Q[\"rut2\"].str.replace(\"-\", \"\")\n",
    "metlife_Q[\"rut2\"] = metlife_Q[\"rut2\"].str.replace(\"–\", \"\")\n",
    "metlife_Q[\"rut2\"] = metlife_Q[\"rut2\"].astype(str)\n",
    "metlife_Q[\"rut2\"] = metlife_Q[\"rut2\"].str.replace(\".\", \"\")\n",
    "metlife_Q[\"rut2\"] = metlife_Q[\"rut2\"].str.replace(\" \", \"\")\n",
    "metlife_Q[\"rut2\"] = metlife_Q[\"rut2\"].str.upper()\n",
    "metlife_Q[\"rut2\"] = metlife_Q[\"rut2\"].str.strip()\n",
    "\n",
    "metlife_Q[\"Nombre\"] = metlife_Q[\"Nombre\"].str.replace(\",\", \"\")\n",
    "metlife_Q[\"Nombre\"] = metlife_Q[\"Nombre\"].str.replace(\".\", \"\")\n",
    "metlife_Q[\"Nombre\"] = metlife_Q[\"Nombre\"].str.replace(\"-\", \"\")\n",
    "metlife_Q[\"Nombre\"] = metlife_Q[\"Nombre\"].str.replace(\"┐\", \"\")\n",
    "metlife_Q[\"Nombre\"] = metlife_Q[\"Nombre\"].str.replace(\"═\", \"\")\n",
    "metlife_Q[\"Nombre\"] = metlife_Q[\"Nombre\"].str.replace(\"╔\", \"\")\n",
    "metlife_Q[\"Nombre\"] = metlife_Q[\"Nombre\"].str.replace(\"┌\", \"\")\n",
    "metlife_Q[\"Nombre\"] = metlife_Q[\"Nombre\"].str.title()\n",
    "metlife_Q[\"Nombre\"] = metlife_Q[\"Nombre\"].str.strip()\n",
    "\n",
    "metlife_Q[\"poliza\"] = metlife_Q[\"poliza\"].astype(str)\n",
    "metlife_Q[\"poliza\"] = metlife_Q[\"poliza\"].str.strip()\n",
    "\n",
    "metlife_Q[\"rut1\"] = metlife_Q[\"rut1\"].apply(lambda y: siPrimerCero(y))\n",
    "metlife_Q[\"rut2\"] = metlife_Q[\"rut2\"].apply(lambda y: siPrimerCero(y))\n",
    "metlife_Q = metlife_Q[(metlife_Q[\"rut1\"] != \"NONE\")]\n",
    "metlife_Q = metlife_Q[(metlife_Q[\"rut2\"] != \"NONE\")]\n",
    "metlife_Q.shape\n",
    "\n",
    "metlife_Q[\"Titular\"] = np.where(metlife_Q[\"rut1\"] == metlife_Q[\"rut2\"],1,2 )\n",
    "metlife_Q = metlife_Q[(metlife_Q[\"Titular\"] == 1)]\n",
    "\n",
    "metlife_Q = metlife_Q.drop_duplicates(\n",
    "    [\n",
    "        \"rut1\",\"poliza\"\n",
    "    ],\n",
    "    keep=\"last\",\n",
    ")\n",
    "\n",
    "\n",
    "#*******************sacar primer cero\n",
    "metlife_Q.shape\n",
    "#derty = pd.read_excel(sftp)"
   ]
  },
  {
   "cell_type": "code",
   "execution_count": null,
   "metadata": {
    "notebookRunGroups": {
     "groupValue": "1"
    }
   },
   "outputs": [
    {
     "data": {
      "text/html": [
       "<div><div id=6da4d030-01f8-4330-bbe0-295ca89a7251 style=\"display:none; background-color:#9D6CFF; color:white; width:200px; height:30px; padding-left:5px; border-radius:4px; flex-direction:row; justify-content:space-around; align-items:center;\" onmouseover=\"this.style.backgroundColor='#BA9BF8'\" onmouseout=\"this.style.backgroundColor='#9D6CFF'\" onclick=\"window.commands?.execute('create-mitosheet-from-dataframe-output');\">See Full Dataframe in Mito</div> <script> if (window.commands?.hasCommand('create-mitosheet-from-dataframe-output')) document.getElementById('6da4d030-01f8-4330-bbe0-295ca89a7251').style.display = 'flex' </script> <table border=\"1\" class=\"dataframe\">\n",
       "  <thead>\n",
       "    <tr style=\"text-align: right;\">\n",
       "      <th></th>\n",
       "      <th>poliza_rut</th>\n",
       "      <th>rut_rut</th>\n",
       "      <th>nombre_rut</th>\n",
       "      <th>mes_rut</th>\n",
       "      <th>año_rut</th>\n",
       "      <th>Llave</th>\n",
       "      <th>desde_rut</th>\n",
       "      <th>hasta_rut</th>\n",
       "      <th>canal_rut</th>\n",
       "      <th>fecha_rut</th>\n",
       "    </tr>\n",
       "  </thead>\n",
       "  <tbody>\n",
       "    <tr>\n",
       "      <th>3</th>\n",
       "      <td>340009432</td>\n",
       "      <td>202107265</td>\n",
       "      <td>Eliseo Adonis Carvajal Yañez</td>\n",
       "      <td>2</td>\n",
       "      <td>2024</td>\n",
       "      <td>34000943220210726522024</td>\n",
       "      <td>2024-03-25 18:38:15</td>\n",
       "      <td>2024-03-25 18:38:16</td>\n",
       "      <td>web</td>\n",
       "      <td>2024-02-01</td>\n",
       "    </tr>\n",
       "    <tr>\n",
       "      <th>48</th>\n",
       "      <td>340002976</td>\n",
       "      <td>174365075</td>\n",
       "      <td>Jorge Sepulveda Nievas</td>\n",
       "      <td>2</td>\n",
       "      <td>2024</td>\n",
       "      <td>34000297617436507522024</td>\n",
       "      <td>2024-03-25 18:38:15</td>\n",
       "      <td>2024-03-25 18:38:16</td>\n",
       "      <td>web</td>\n",
       "      <td>2024-02-01</td>\n",
       "    </tr>\n",
       "    <tr>\n",
       "      <th>192</th>\n",
       "      <td>340001935</td>\n",
       "      <td>174956472</td>\n",
       "      <td>Miguel Angel Mendez Lobos</td>\n",
       "      <td>2</td>\n",
       "      <td>2024</td>\n",
       "      <td>34000193517495647222024</td>\n",
       "      <td>2024-03-25 18:38:15</td>\n",
       "      <td>2024-03-25 18:38:16</td>\n",
       "      <td>web</td>\n",
       "      <td>2024-02-01</td>\n",
       "    </tr>\n",
       "    <tr>\n",
       "      <th>193</th>\n",
       "      <td>340001935</td>\n",
       "      <td>141282115</td>\n",
       "      <td>Rodrigo Andrés Cornejo Cornejo</td>\n",
       "      <td>2</td>\n",
       "      <td>2024</td>\n",
       "      <td>34000193514128211522024</td>\n",
       "      <td>2024-03-25 18:38:15</td>\n",
       "      <td>2024-03-25 18:38:16</td>\n",
       "      <td>web</td>\n",
       "      <td>2024-02-01</td>\n",
       "    </tr>\n",
       "    <tr>\n",
       "      <th>195</th>\n",
       "      <td>340001935</td>\n",
       "      <td>141772872</td>\n",
       "      <td>César Antonio Diaz Hervera</td>\n",
       "      <td>2</td>\n",
       "      <td>2024</td>\n",
       "      <td>34000193514177287222024</td>\n",
       "      <td>2024-03-25 18:38:15</td>\n",
       "      <td>2024-03-25 18:38:16</td>\n",
       "      <td>web</td>\n",
       "      <td>2024-02-01</td>\n",
       "    </tr>\n",
       "  </tbody>\n",
       "</table></div>"
      ],
      "text/plain": [
       "    poliza_rut    rut_rut                      nombre_rut mes_rut año_rut  \\\n",
       "3    340009432  202107265    Eliseo Adonis Carvajal Yañez       2    2024   \n",
       "48   340002976  174365075          Jorge Sepulveda Nievas       2    2024   \n",
       "192  340001935  174956472       Miguel Angel Mendez Lobos       2    2024   \n",
       "193  340001935  141282115  Rodrigo Andrés Cornejo Cornejo       2    2024   \n",
       "195  340001935  141772872      César Antonio Diaz Hervera       2    2024   \n",
       "\n",
       "                       Llave            desde_rut            hasta_rut  \\\n",
       "3    34000943220210726522024  2024-03-25 18:38:15  2024-03-25 18:38:16   \n",
       "48   34000297617436507522024  2024-03-25 18:38:15  2024-03-25 18:38:16   \n",
       "192  34000193517495647222024  2024-03-25 18:38:15  2024-03-25 18:38:16   \n",
       "193  34000193514128211522024  2024-03-25 18:38:15  2024-03-25 18:38:16   \n",
       "195  34000193514177287222024  2024-03-25 18:38:15  2024-03-25 18:38:16   \n",
       "\n",
       "    canal_rut  fecha_rut  \n",
       "3         web 2024-02-01  \n",
       "48        web 2024-02-01  \n",
       "192       web 2024-02-01  \n",
       "193       web 2024-02-01  \n",
       "195       web 2024-02-01  "
      ]
     },
     "execution_count": 394,
     "metadata": {},
     "output_type": "execute_result"
    }
   ],
   "source": [
    "subir_correo = pd.DataFrame()\n",
    "subir_correo[\"poliza_rut\"] = metlife_correo[\"poliza\"]\n",
    "subir_correo[\"rut_rut\"] = metlife_correo[\"rut1\"]\n",
    "subir_correo[\"nombre_rut\"] = metlife_correo[\"Nombre\"]\n",
    "subir_correo[\"mes_rut\"] = str(mes)\n",
    "subir_correo[\"año_rut\"] = str(año)\n",
    "#subir_correo[\"fecha_rut\"] = metlife_correo[\"fecha\"].apply(lambda y: fechaValida(y))\n",
    "subir_correo[\"Llave\"] = metlife_correo[\"poliza\"] + metlife_correo[\"rut1\"] + str(mes) + str(año)\n",
    "subir_correo[\"desde_rut\"] = metlife_correo[\"desde\"].apply(lambda y: fechaValida(y))\n",
    "subir_correo[\"hasta_rut\"] = metlife_correo[\"hasta\"].apply(lambda y: fechaValida(y))\n",
    "subir_correo[\"canal_rut\"] = \"email\"\n",
    "\n",
    "subir_sql = pd.DataFrame()\n",
    "subir_sql[\"poliza_rut\"] = metlife_sftp[\"poliza\"]\n",
    "subir_sql[\"rut_rut\"] = metlife_sftp[\"rut1\"]\n",
    "subir_sql[\"nombre_rut\"] = metlife_sftp[\"Nombre\"]\n",
    "subir_sql[\"mes_rut\"] = str(mes)\n",
    "subir_sql[\"año_rut\"] = str(año)\n",
    "#subir_sql[\"fecha_rut\"] = metlife_sftp[\"fecha\"].apply(lambda y: fechaValida(y))\n",
    "subir_sql[\"Llave\"] = metlife_sftp[\"poliza\"] + metlife_sftp[\"rut1\"] + str(mes) + str(año)\n",
    "subir_sql[\"desde_rut\"] = metlife_sftp[\"desde\"].apply(lambda y: fechaValida(y))\n",
    "subir_sql[\"hasta_rut\"] = metlife_sftp[\"hasta\"].apply(lambda y: fechaValida(y)) \n",
    "subir_sql[\"canal_rut\"] = \"sftp\"\n",
    "\n",
    "subir_web = pd.DataFrame()\n",
    "subir_web[\"poliza_rut\"] = metlife_web[\"poliza\"]\n",
    "subir_web[\"rut_rut\"] = metlife_web[\"rut1\"]\n",
    "subir_web[\"nombre_rut\"] = metlife_web[\"Nombre\"]\n",
    "subir_web[\"mes_rut\"] = str(mes)\n",
    "subir_web[\"año_rut\"] = str(año)\n",
    "#subir_web[\"fecha_rut\"] = metlife_web[\"fecha\"].apply(lambda y: fechaValida(y))\n",
    "subir_web[\"Llave\"] = metlife_web[\"poliza\"] + metlife_web[\"rut1\"] + str(mes) + str(año)\n",
    "subir_web[\"desde_rut\"] = metlife_web[\"desde\"].apply(lambda y: fechaValida(y))\n",
    "subir_web[\"hasta_rut\"] = metlife_web[\"hasta\"].apply(lambda y: fechaValida(y))\n",
    "subir_web[\"canal_rut\"] = \"web\"\n",
    "\n",
    "subir_Q = pd.DataFrame()\n",
    "subir_Q[\"poliza_rut\"] = metlife_Q[\"poliza\"]\n",
    "subir_Q[\"rut_rut\"] = metlife_Q[\"rut1\"]\n",
    "subir_Q[\"nombre_rut\"] = metlife_Q[\"Nombre\"]\n",
    "subir_Q[\"mes_rut\"] = str(mes)\n",
    "subir_Q[\"año_rut\"] = str(año)\n",
    "#subir_Q[\"fecha_rut\"] = metlife_Q[\"fecha\"].apply(lambda y: fechaValida(y))\n",
    "subir_Q[\"Llave\"] = metlife_Q[\"poliza\"] + metlife_web[\"rut1\"] + str(mes) + str(año)\n",
    "subir_Q[\"desde_rut\"] = metlife_Q[\"desde\"].apply(lambda y: fechaValida(y))\n",
    "subir_Q[\"hasta_rut\"] = metlife_Q[\"hasta\"].apply(lambda y: fechaValida(y))\n",
    "subir_Q[\"canal_rut\"] = \"Q\"\n",
    "\n",
    "mes_metlife = pd.DataFrame()\n",
    "mes_metlife = pd.concat(\n",
    "    [\n",
    "        subir_web,\n",
    "        subir_sql,\n",
    "        subir_correo,\n",
    "        subir_Q,\n",
    "        \n",
    "    ],\n",
    "    axis=0,\n",
    ")\n",
    "mes_metlife[\"fecha_rut\"] = pd.to_datetime(fecha, yearfirst=True)\n",
    "\n",
    "mes_metlife = mes_metlife.drop_duplicates(\n",
    "    [\n",
    "        \"rut_rut\",\"poliza_rut\",\n",
    "    ],\n",
    "    keep=\"last\",\n",
    ")\n",
    "mes_metlife.head()"
   ]
  },
  {
   "cell_type": "markdown",
   "metadata": {},
   "source": [
    "//////////////////////////////////////////////////////////////////////////\n",
    "\n",
    "NUMERO RUTS POR POLIZA\n",
    "****************************************************************"
   ]
  },
  {
   "cell_type": "code",
   "execution_count": null,
   "metadata": {
    "notebookRunGroups": {
     "groupValue": "1"
    }
   },
   "outputs": [
    {
     "name": "stdout",
     "output_type": "stream",
     "text": [
      "2-2024 396358\n"
     ]
    }
   ],
   "source": [
    "mes_metlife.shape\n",
    "print ( str(mes) + \"-\" + str(año) + \" \" + str(mes_metlife.shape[0]))"
   ]
  },
  {
   "cell_type": "markdown",
   "metadata": {},
   "source": [
    "////////////////////////////////////////////////\n",
    "\n",
    "NUMERO RUT UNICOS\n",
    "------------------------------------------------------------------------------------------------"
   ]
  },
  {
   "cell_type": "code",
   "execution_count": null,
   "metadata": {
    "notebookRunGroups": {
     "groupValue": "1"
    }
   },
   "outputs": [
    {
     "name": "stdout",
     "output_type": "stream",
     "text": [
      "2-2024 313010\n"
     ]
    }
   ],
   "source": [
    "mes_metlife2 = mes_metlife.drop_duplicates(\n",
    "    [\n",
    "        \"rut_rut\"\n",
    "    ],\n",
    "    keep=\"last\",\n",
    ")\n",
    "mes_metlife2.shape\n",
    "print (str(mes) + \"-\" + str(año) + \" \" + str(mes_metlife2.shape[0]))"
   ]
  },
  {
   "cell_type": "code",
   "execution_count": null,
   "metadata": {
    "notebookRunGroups": {
     "groupValue": "1"
    }
   },
   "outputs": [
    {
     "data": {
      "text/plain": [
       "(396358, 10)"
      ]
     },
     "execution_count": 397,
     "metadata": {},
     "output_type": "execute_result"
    }
   ],
   "source": [
    "#subir_web[\"Llave\"]\n",
    "mes_metlife[\"esta\"] =  mes_metlife[\"Llave\"].isin(rut_unico_tiempo_[\"Llave\"])\n",
    "mes_metlife = mes_metlife[(mes_metlife[\"esta\"] == False)]\n",
    "\n",
    "mes_metlife = mes_metlife[\n",
    "    [\n",
    "        \"poliza_rut\",\n",
    "        \"rut_rut\",\n",
    "        \"nombre_rut\",\n",
    "        \"mes_rut\",\n",
    "        \"año_rut\",\n",
    "        \"fecha_rut\",\n",
    "        \"Llave\",\n",
    "        \"desde_rut\",\n",
    "        \"hasta_rut\",\n",
    "        \"canal_rut\"\n",
    "    ]\n",
    "]\n",
    "mes_metlife.shape"
   ]
  },
  {
   "cell_type": "code",
   "execution_count": null,
   "metadata": {
    "notebookRunGroups": {
     "groupValue": "1"
    }
   },
   "outputs": [
    {
     "data": {
      "text/plain": [
       "396358"
      ]
     },
     "execution_count": 398,
     "metadata": {},
     "output_type": "execute_result"
    }
   ],
   "source": [
    "mes_metlife.to_sql(\n",
    "    name=\"rut_unico_tiempo_2\",\n",
    "    con=motor_mysql_mariadb,\n",
    "    if_exists=\"append\",\n",
    "    index=False,\n",
    "    chunksize=10000,\n",
    ")"
   ]
  },
  {
   "cell_type": "code",
   "execution_count": null,
   "metadata": {
    "notebookRunGroups": {
     "groupValue": "1"
    }
   },
   "outputs": [
    {
     "data": {
      "text/plain": [
       "(313010, 4)"
      ]
     },
     "execution_count": 399,
     "metadata": {},
     "output_type": "execute_result"
    }
   ],
   "source": [
    "subir_unicos = pd.DataFrame()\n",
    "subir_unicos[\"Rut_T\"] = mes_metlife2[\"rut_rut\"]\n",
    "subir_unicos[\"Rut_C\"] = mes_metlife2[\"rut_rut\"]\n",
    "subir_unicos[\"Nombre\"] = mes_metlife2[\"nombre_rut\"]\n",
    "subir_unicos[\"Llave\"] = mes_metlife2[\"rut_rut\"] +  mes_metlife2[\"rut_rut\"]\n",
    "\n",
    "\n",
    "subir_unicos.shape"
   ]
  },
  {
   "cell_type": "code",
   "execution_count": null,
   "metadata": {
    "notebookRunGroups": {
     "groupValue": "1"
    }
   },
   "outputs": [
    {
     "data": {
      "text/plain": [
       "0"
      ]
     },
     "execution_count": 400,
     "metadata": {},
     "output_type": "execute_result"
    }
   ],
   "source": [
    "subir_unicos[\"esta\"] =  subir_unicos[\"Rut_T\"].isin(rut_unicos[\"Rut_T\"])\n",
    "subir_unicos = subir_unicos[(subir_unicos[\"esta\"] == False)]\n",
    "\n",
    "subir_unicos = subir_unicos[\n",
    "    [\n",
    "        \"Rut_T\",\n",
    "        \"Rut_C\",\n",
    "        \"Nombre\",\n",
    "        \"Llave\",\n",
    "    ]\n",
    "]\n",
    "subir_unicos.shape\n",
    "subir_unicos.to_sql(\n",
    "    name=\"rut_unicos\",\n",
    "    con=motor_mysql_mariadb,\n",
    "    if_exists=\"append\",\n",
    "    index=False,\n",
    "    chunksize=10000,\n",
    ")"
   ]
  },
  {
   "cell_type": "code",
   "execution_count": null,
   "metadata": {},
   "outputs": [],
   "source": [
    "\n",
    "\n",
    "\n",
    "rut_unicos[\"esta\"] =  rut_unicos[\"Rut_T\"].isin(mes_metlife2[\"rut_rut\"])\n",
    "rut_unicos = rut_unicos[(rut_unicos[\"esta\"] == False)]\n"
   ]
  },
  {
   "cell_type": "code",
   "execution_count": null,
   "metadata": {},
   "outputs": [],
   "source": [
    "rut_unicos.shape"
   ]
  },
  {
   "cell_type": "code",
   "execution_count": null,
   "metadata": {},
   "outputs": [],
   "source": [
    "rut_unicos.to_excel(\n",
    "    \"F:/Empresas SF/reportes/rut_unicos_No_Estan_SFTP_Agosto_2023.xlsx\", index=False\n",
    ")"
   ]
  },
  {
   "cell_type": "code",
   "execution_count": null,
   "metadata": {},
   "outputs": [],
   "source": [
    "sftp = \"F:/2024/MetLife/\" + str(mesesDic[mes]) + año + \"/Subir/poliza.xlsx\"\n",
    "poliza = pd.read_excel(sftp)"
   ]
  },
  {
   "cell_type": "code",
   "execution_count": null,
   "metadata": {},
   "outputs": [],
   "source": [
    "poliza.head()"
   ]
  },
  {
   "cell_type": "code",
   "execution_count": null,
   "metadata": {},
   "outputs": [],
   "source": [
    "rut_unico_tiempo_ = pd.DataFrame()\n",
    "sql = \"SELECT * FROM MetLife_A.rut_unico_tiempo \"\n",
    "rut_unico_tiempo_ = pd.read_sql_query(sql, con=motor_mysql_mariadb)\n",
    "\n",
    "rut_unico_tiempo_.shape"
   ]
  },
  {
   "cell_type": "code",
   "execution_count": null,
   "metadata": {},
   "outputs": [],
   "source": [
    "rut_unicos = pd.merge(\n",
    "    left=rut_unicos,\n",
    "    right=rut_unico_tiempo_,\n",
    "    how=\"left\",\n",
    "    left_on=\"Rut_T\",\n",
    "    right_on=\"rut_rut\",\n",
    ")\n",
    "\n",
    "#rutesi.to_excel(\"F:/Empresas SF/reportes/rutsyempresa.xlsx\", index=False)"
   ]
  },
  {
   "cell_type": "code",
   "execution_count": null,
   "metadata": {},
   "outputs": [],
   "source": [
    "rut_unicos.shape"
   ]
  },
  {
   "cell_type": "code",
   "execution_count": null,
   "metadata": {},
   "outputs": [],
   "source": [
    "rut_unicos.head()"
   ]
  },
  {
   "cell_type": "code",
   "execution_count": null,
   "metadata": {},
   "outputs": [],
   "source": [
    "rut_unicos = rut_unicos.drop_duplicates(\n",
    "    [\n",
    "        \"rut_rut\",\"poliza_rut\",\n",
    "    ],\n",
    "    keep=\"last\",\n",
    ")\n",
    "rut_unicos.shape"
   ]
  },
  {
   "cell_type": "code",
   "execution_count": null,
   "metadata": {},
   "outputs": [],
   "source": [
    "rut_unicos = pd.merge(\n",
    "    left=rut_unicos,\n",
    "    right=poliza,\n",
    "    how=\"left\",\n",
    "    left_on=\"poliza_rut\",\n",
    "    right_on=\"poliza\",\n",
    ")"
   ]
  },
  {
   "cell_type": "code",
   "execution_count": null,
   "metadata": {},
   "outputs": [],
   "source": [
    "rut_unicos.shape"
   ]
  },
  {
   "cell_type": "code",
   "execution_count": null,
   "metadata": {},
   "outputs": [],
   "source": [
    "rut_unicos.head()\n"
   ]
  },
  {
   "cell_type": "code",
   "execution_count": null,
   "metadata": {},
   "outputs": [],
   "source": [
    "rut_unicos.to_excel(\n",
    "    \"F:/Empresas SF/reportes/rut_unicos_No_Estan_SFTP_Agosto_2023_2.xlsx\", index=False\n",
    ")"
   ]
  }
 ],
 "metadata": {
  "kernelspec": {
   "display_name": "python11",
   "language": "python",
   "name": "python3"
  },
  "language_info": {
   "codemirror_mode": {
    "name": "ipython",
    "version": 3
   },
   "file_extension": ".py",
   "mimetype": "text/x-python",
   "name": "python",
   "nbconvert_exporter": "python",
   "pygments_lexer": "ipython3",
   "version": "3.9.12"
  }
 },
 "nbformat": 4,
 "nbformat_minor": 2
}
