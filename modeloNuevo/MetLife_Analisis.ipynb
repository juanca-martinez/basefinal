{
 "cells": [
  {
   "cell_type": "code",
   "execution_count": 1,
   "metadata": {
    "notebookRunGroups": {
     "groupValue": "1"
    }
   },
   "outputs": [],
   "source": [
    "from pathlib import Path\n",
    "import requests\n",
    "import pandas as pd\n",
    "import numpy as np\n",
    "from io import StringIO\n",
    "import shutil\n",
    "import datetime\n",
    "from datetime import datetime,date\n",
    "import re\n",
    "import json\n",
    "from pandas.api.types import is_numeric_dtype\n",
    "\n",
    "# from simple_salesforce import Salesforce, format_soql, format_external_id\n",
    "# from simple_salesforce.exceptions import SalesforceMalformedRequest\n",
    "# import simpler_sf\n",
    "from sqlalchemy import create_engine\n",
    "#import pymysql\n",
    "\n",
    "# from mysql import connector\n",
    "\n",
    "\n",
    "# paramiko.util.log_to_file(\"paramiko.log\")\n",
    "regex = re.compile(r\"([A-Za-z0-9]+[.-_])*[A-Za-z0-9]+@[A-Za-z0-9-]+(\\.[A-Z|a-z]{2,})+\")"
   ]
  },
  {
   "cell_type": "code",
   "execution_count": 2,
   "metadata": {
    "notebookRunGroups": {
     "groupValue": "1"
    }
   },
   "outputs": [],
   "source": [
    "# usuario = 'siempreread'\n",
    "# contrasena = 'S13mpr3_Ch1l3'\n",
    "# url_servidor = '209.151.148.250'\n",
    "puerto = \"3306\"\n",
    "esquema = \"MetLife_A\"\n",
    "plugin_autenticacion = \"mysql_native_password\"\n",
    "\n",
    "usuario = \"care_consulta\"\n",
    "contrasena = \"CareAssistance!10\"\n",
    "url_servidor = \"10.0.10.22\"\n",
    "\n",
    "# Conexión a la base de datos\n",
    "\n",
    "c_conexion = \"mysql+mysqlconnector://{0}:{1}@{2}:{3}/{4}?auth_plugin={5}\"\n",
    "c_conexion = c_conexion.format(\n",
    "    usuario, contrasena, url_servidor, puerto, esquema, plugin_autenticacion\n",
    ")\n",
    "motor_mysql_mariadb = create_engine(c_conexion)\n",
    "\n",
    "#table.to_sql(name='rut_unico_tiempo',con=motor_mysql_mariadb,if_exists = 'append')\n",
    "\n",
    "\n",
    "# archivo de salida modificar segun archivo\n",
    "# archivo = 'C:/Users/jmartinez/Desktop/casos nuevos/clientes/1/casos_faltantes_segun_archivo.xlsx'"
   ]
  },
  {
   "cell_type": "code",
   "execution_count": 3,
   "metadata": {
    "notebookRunGroups": {
     "groupValue": "1"
    }
   },
   "outputs": [
    {
     "name": "stderr",
     "output_type": "stream",
     "text": [
      "C:\\Users\\jmartinez\\AppData\\Local\\Temp\\ipykernel_7976\\3399985333.py:10: FutureWarning: The default value of regex will change from True to False in a future version. In addition, single character regular expressions will *not* be treated as literal strings when regex=True.\n",
      "  rut_unicos[\"Rut_C\"] = rut_unicos[\"Rut_C\"].str.replace(\".\", \"\")\n",
      "C:\\Users\\jmartinez\\AppData\\Local\\Temp\\ipykernel_7976\\3399985333.py:19: FutureWarning: The default value of regex will change from True to False in a future version. In addition, single character regular expressions will *not* be treated as literal strings when regex=True.\n",
      "  rut_unicos[\"Rut_T\"] = rut_unicos[\"Rut_T\"].str.replace(\".\", \"\")\n",
      "C:\\Users\\jmartinez\\AppData\\Local\\Temp\\ipykernel_7976\\3399985333.py:25: FutureWarning: The default value of regex will change from True to False in a future version. In addition, single character regular expressions will *not* be treated as literal strings when regex=True.\n",
      "  rut_unicos[\"Nombre\"] = rut_unicos[\"Nombre\"].str.replace(\".\", \"\")\n"
     ]
    },
    {
     "data": {
      "text/plain": [
       "' rut_unicos.to_excel(\\n    \"F:/Empresas SF/reportes/rut_unicos_hasta_Marzo_2024.xlsx\", index=False\\n) '"
      ]
     },
     "execution_count": 3,
     "metadata": {},
     "output_type": "execute_result"
    }
   ],
   "source": [
    "# table.to_sql(name='prueba',con=motor_mysql_mariadb,if_exists = 'append')\n",
    "rut_unicos = pd.DataFrame()\n",
    "sql = \"SELECT * FROM MetLife_A.rut_unicos WHERE LEFT(Rut_T, 1) <> '0' \"\n",
    "rut_unicos = pd.read_sql_query(sql, con=motor_mysql_mariadb)\n",
    "\n",
    "rut_unicos[\"Rut_C\"] = rut_unicos[\"Rut_C\"].astype(str)\n",
    "rut_unicos[\"Rut_C\"] = rut_unicos[\"Rut_C\"].str.replace(\"-\", \"\")\n",
    "rut_unicos[\"Rut_C\"] = rut_unicos[\"Rut_C\"].str.replace(\"–\", \"\")\n",
    "rut_unicos[\"Rut_C\"] = rut_unicos[\"Rut_C\"].astype(str)\n",
    "rut_unicos[\"Rut_C\"] = rut_unicos[\"Rut_C\"].str.replace(\".\", \"\")\n",
    "rut_unicos[\"Rut_C\"] = rut_unicos[\"Rut_C\"].str.replace(\" \", \"\")\n",
    "rut_unicos[\"Rut_C\"] = rut_unicos[\"Rut_C\"].str.upper()\n",
    "rut_unicos[\"Rut_C\"] = rut_unicos[\"Rut_C\"].str.strip()\n",
    "\n",
    "rut_unicos[\"Rut_T\"] = rut_unicos[\"Rut_T\"].astype(str)\n",
    "rut_unicos[\"Rut_T\"] = rut_unicos[\"Rut_T\"].str.replace(\"-\", \"\")\n",
    "rut_unicos[\"Rut_T\"] = rut_unicos[\"Rut_T\"].str.replace(\"–\", \"\")\n",
    "rut_unicos[\"Rut_T\"] = rut_unicos[\"Rut_T\"].astype(str)\n",
    "rut_unicos[\"Rut_T\"] = rut_unicos[\"Rut_T\"].str.replace(\".\", \"\")\n",
    "rut_unicos[\"Rut_T\"] = rut_unicos[\"Rut_T\"].str.replace(\" \", \"\")\n",
    "rut_unicos[\"Rut_T\"] = rut_unicos[\"Rut_T\"].str.upper()\n",
    "rut_unicos[\"Rut_T\"] = rut_unicos[\"Rut_T\"].str.strip()\n",
    "\n",
    "rut_unicos[\"Nombre\"] = rut_unicos[\"Nombre\"].str.replace(\",\", \"\")\n",
    "rut_unicos[\"Nombre\"] = rut_unicos[\"Nombre\"].str.replace(\".\", \"\")\n",
    "rut_unicos[\"Nombre\"] = rut_unicos[\"Nombre\"].str.replace(\"-\", \"\")\n",
    "rut_unicos[\"Nombre\"] = rut_unicos[\"Nombre\"].str.replace(\"┐\", \"\")\n",
    "rut_unicos[\"Nombre\"] = rut_unicos[\"Nombre\"].str.replace(\"═\", \"\")\n",
    "rut_unicos[\"Nombre\"] = rut_unicos[\"Nombre\"].str.replace(\"╔\", \"\")\n",
    "rut_unicos[\"Nombre\"] = rut_unicos[\"Nombre\"].str.replace(\"┌\", \"\")\n",
    "rut_unicos[\"Nombre\"] = rut_unicos[\"Nombre\"].str.title()\n",
    "rut_unicos[\"Nombre\"] = rut_unicos[\"Nombre\"].str.strip()\n",
    "\n",
    "rut_unicos.shape\n",
    "\n",
    "\n",
    "\n",
    "\"\"\" rut_unicos.to_excel(\n",
    "    \"F:/Empresas SF/reportes/rut_unicos_hasta_Marzo_2024.xlsx\", index=False\n",
    ") \"\"\""
   ]
  },
  {
   "cell_type": "code",
   "execution_count": 4,
   "metadata": {
    "notebookRunGroups": {
     "groupValue": "1"
    }
   },
   "outputs": [
    {
     "data": {
      "text/plain": [
       "(6970121, 11)"
      ]
     },
     "execution_count": 4,
     "metadata": {},
     "output_type": "execute_result"
    }
   ],
   "source": [
    "rut_unico_tiempo_ = pd.DataFrame()\n",
    "sql = \"SELECT * FROM MetLife_A.rut_unico_tiempo_2 \"\n",
    "rut_unico_tiempo_ = pd.read_sql_query(sql, con=motor_mysql_mariadb)\n",
    "\n",
    "rut_unico_tiempo_.shape"
   ]
  },
  {
   "cell_type": "code",
   "execution_count": 49,
   "metadata": {},
   "outputs": [],
   "source": [
    "def sacarultimo(y):\n",
    "    y = y[:-1]\n",
    "    return str(y)\n",
    "    "
   ]
  },
  {
   "cell_type": "code",
   "execution_count": null,
   "metadata": {},
   "outputs": [],
   "source": [
    "sftp = \"F:/2024/MetLife/metlife_analisis_todo.xlsx\"\n",
    "\n",
    "derty = pd.read_excel(sftp)\n",
    "\n",
    "rut_unico_tiempo_[\"rut_rut2\"] = rut_unico_tiempo_[\"rut_rut\"].apply(lambda y: sacarultimo(y))\n",
    "\n",
    "rut_unico_tiempo_[\"rut_rut2\"] = rut_unico_tiempo_[\"rut_rut2\"].astype(str)\n",
    "rut_unico_tiempo_[\"rut_rut2\"] = rut_unico_tiempo_[\"rut_rut2\"].str.upper()\n",
    "rut_unico_tiempo_[\"rut_rut2\"] = rut_unico_tiempo_[\"rut_rut2\"].str.replace(\"-\", \"\")\n",
    "rut_unico_tiempo_[\"rut_rut2\"] = rut_unico_tiempo_[\"rut_rut2\"].str.replace(\"–\", \"\")\n",
    "rut_unico_tiempo_[\"rut_rut2\"] = rut_unico_tiempo_[\"rut_rut2\"].astype(str)\n",
    "rut_unico_tiempo_[\"rut_rut2\"] = rut_unico_tiempo_[\"rut_rut2\"].str.replace(\".\", \"\")\n",
    "\n",
    "rut_unico_tiempo_[\"rut_rut2\"] = rut_unico_tiempo_[\"rut_rut2\"].str.strip()\n",
    "\n",
    "derty[\"rut1\"] = derty[\"rut1\"].astype(str)\n",
    "derty[\"rut1\"] = derty[\"rut1\"].str.upper()\n",
    "derty[\"rut1\"] = derty[\"rut1\"].str.replace(\"-\", \"\")\n",
    "derty[\"rut1\"] = derty[\"rut1\"].str.replace(\"–\", \"\")\n",
    "derty[\"rut1\"] = derty[\"rut1\"].astype(str)\n",
    "derty[\"rut1\"] = derty[\"rut1\"].str.replace(\".\", \"\")\n",
    "\n",
    "derty[\"rut1\"] = derty[\"rut1\"].str.strip()\n"
   ]
  },
  {
   "cell_type": "code",
   "execution_count": null,
   "metadata": {},
   "outputs": [],
   "source": [
    "rut_unicos2 = pd.merge(\n",
    "    left=derty,\n",
    "    right=rut_unico_tiempo_,\n",
    "    how=\"left\",\n",
    "    left_on=\"rut1\",\n",
    "    right_on=\"rut_rut2\",\n",
    ")\n"
   ]
  },
  {
   "cell_type": "code",
   "execution_count": null,
   "metadata": {},
   "outputs": [],
   "source": [
    "rut_unicos2.shape"
   ]
  },
  {
   "cell_type": "code",
   "execution_count": null,
   "metadata": {},
   "outputs": [],
   "source": [
    "rut_unicos2.head()"
   ]
  },
  {
   "cell_type": "code",
   "execution_count": null,
   "metadata": {},
   "outputs": [],
   "source": [
    "rut_unicos2 = rut_unicos2.drop_duplicates(\n",
    "    [\n",
    "        \"rut_rut2\",\"canal_rut\",\"fecha_rut\",\"poliza_rut\",\n",
    "    ],\n",
    "    keep=\"last\",\n",
    ")\n",
    "rut_unicos2[\"canal_rut\"] = rut_unicos2[\"canal_rut\"].astype(str)\n",
    "\n",
    "rut_unicos2[\"canal_rut\"] = rut_unicos2[\"canal_rut\"].str.replace(\"Q\", \"sftp\")\n",
    "rut_unicos2[\"canal_rut\"] = rut_unicos2[\"canal_rut\"].str.replace(\"correo2\", \"correo\")\n",
    "rut_unicos2[\"canal_rut\"] = rut_unicos2[\"canal_rut\"].str.replace(\"email\", \"correo\")\n"
   ]
  },
  {
   "cell_type": "code",
   "execution_count": null,
   "metadata": {},
   "outputs": [],
   "source": [
    "enero2023 = pd.DataFrame()\n",
    "enero2023 = rut_unicos2[(rut_unicos2[\"mes_rut\"] == \"1\") & (rut_unicos2[\"año_rut\"] == \"2023\")]\n",
    "enero2023W = rut_unicos2[(rut_unicos2[\"mes_rut\"] == \"1\") & (rut_unicos2[\"año_rut\"] == \"2023\") & (rut_unicos2[\"canal_rut\"] == \"web\") ]\n",
    "enero2023S = rut_unicos2[(rut_unicos2[\"mes_rut\"] == \"1\") & (rut_unicos2[\"año_rut\"] == \"2023\") & (rut_unicos2[\"canal_rut\"] == \"sftp\") ]\n",
    "enero2023C = rut_unicos2[(rut_unicos2[\"mes_rut\"] == \"1\") & (rut_unicos2[\"año_rut\"] == \"2023\") & (rut_unicos2[\"canal_rut\"] == \"correo\") ]\n",
    "\n",
    "febrero2023 = pd.DataFrame()\n",
    "febrero2023 = rut_unicos2[(rut_unicos2[\"mes_rut\"] == \"2\") & (rut_unicos2[\"año_rut\"] == \"2023\")]\n",
    "febrero2023W = rut_unicos2[(rut_unicos2[\"mes_rut\"] == \"2\") & (rut_unicos2[\"año_rut\"] == \"2023\") & (rut_unicos2[\"canal_rut\"] == \"web\") ]\n",
    "febrero2023S = rut_unicos2[(rut_unicos2[\"mes_rut\"] == \"2\") & (rut_unicos2[\"año_rut\"] == \"2023\") & (rut_unicos2[\"canal_rut\"] == \"sftp\") ]\n",
    "febrero2023C = rut_unicos2[(rut_unicos2[\"mes_rut\"] == \"2\") & (rut_unicos2[\"año_rut\"] == \"2023\") & (rut_unicos2[\"canal_rut\"] == \"correo\") ]\n",
    "\n",
    "marzo2023 = pd.DataFrame()\n",
    "marzo2023 = rut_unicos2[(rut_unicos2[\"mes_rut\"] == \"3\") & (rut_unicos2[\"año_rut\"] == \"2023\")]\n",
    "marzo2023W = rut_unicos2[(rut_unicos2[\"mes_rut\"] == \"3\") & (rut_unicos2[\"año_rut\"] == \"2023\") & (rut_unicos2[\"canal_rut\"] == \"web\") ]\n",
    "marzo2023S = rut_unicos2[(rut_unicos2[\"mes_rut\"] == \"3\") & (rut_unicos2[\"año_rut\"] == \"2023\") & (rut_unicos2[\"canal_rut\"] == \"sftp\") ]\n",
    "marzo2023C = rut_unicos2[(rut_unicos2[\"mes_rut\"] == \"3\") & (rut_unicos2[\"año_rut\"] == \"2023\") & (rut_unicos2[\"canal_rut\"] == \"correo\") ]\n",
    "\n",
    "\n",
    "abril2023 = pd.DataFrame()\n",
    "abril2023 = rut_unicos2[(rut_unicos2[\"mes_rut\"] == \"4\") & (rut_unicos2[\"año_rut\"] == \"2023\")]\n",
    "abril2023W = rut_unicos2[(rut_unicos2[\"mes_rut\"] == \"4\") & (rut_unicos2[\"año_rut\"] == \"2023\") & (rut_unicos2[\"canal_rut\"] == \"web\") ]\n",
    "abril2023S = rut_unicos2[(rut_unicos2[\"mes_rut\"] == \"4\") & (rut_unicos2[\"año_rut\"] == \"2023\") & (rut_unicos2[\"canal_rut\"] == \"sftp\") ]\n",
    "abril2023C = rut_unicos2[(rut_unicos2[\"mes_rut\"] == \"4\") & (rut_unicos2[\"año_rut\"] == \"2023\") & (rut_unicos2[\"canal_rut\"] == \"correo\") ]\n",
    "\n",
    "mayo2023 = pd.DataFrame()\n",
    "mayo2023 = rut_unicos2[(rut_unicos2[\"mes_rut\"] == \"5\") & (rut_unicos2[\"año_rut\"] == \"2023\")]\n",
    "mayo2023W = rut_unicos2[(rut_unicos2[\"mes_rut\"] == \"5\") & (rut_unicos2[\"año_rut\"] == \"2023\") & (rut_unicos2[\"canal_rut\"] == \"web\") ]\n",
    "mayo2023S = rut_unicos2[(rut_unicos2[\"mes_rut\"] == \"5\") & (rut_unicos2[\"año_rut\"] == \"2023\") & (rut_unicos2[\"canal_rut\"] == \"sftp\") ]\n",
    "mayo2023C = rut_unicos2[(rut_unicos2[\"mes_rut\"] == \"5\") & (rut_unicos2[\"año_rut\"] == \"2023\") & (rut_unicos2[\"canal_rut\"] == \"correo\") ]\n",
    "\n",
    "junio2023 = pd.DataFrame()\n",
    "junio2023 = rut_unicos2[(rut_unicos2[\"mes_rut\"] == \"6\") & (rut_unicos2[\"año_rut\"] == \"2023\")]\n",
    "junio2023W = rut_unicos2[(rut_unicos2[\"mes_rut\"] == \"6\") & (rut_unicos2[\"año_rut\"] == \"2023\") & (rut_unicos2[\"canal_rut\"] == \"web\") ]\n",
    "junio2023S = rut_unicos2[(rut_unicos2[\"mes_rut\"] == \"6\") & (rut_unicos2[\"año_rut\"] == \"2023\") & (rut_unicos2[\"canal_rut\"] == \"sftp\") ]\n",
    "junio2023C = rut_unicos2[(rut_unicos2[\"mes_rut\"] == \"6\") & (rut_unicos2[\"año_rut\"] == \"2023\") & (rut_unicos2[\"canal_rut\"] == \"correo\") ]\n",
    "\n",
    "julio2023 = pd.DataFrame()\n",
    "julio2023 = rut_unicos2[(rut_unicos2[\"mes_rut\"] == \"7\") & (rut_unicos2[\"año_rut\"] == \"2023\")]\n",
    "julio2023W = rut_unicos2[(rut_unicos2[\"mes_rut\"] == \"7\") & (rut_unicos2[\"año_rut\"] == \"2023\") & (rut_unicos2[\"canal_rut\"] == \"web\") ]\n",
    "julio2023S = rut_unicos2[(rut_unicos2[\"mes_rut\"] == \"7\") & (rut_unicos2[\"año_rut\"] == \"2023\") & (rut_unicos2[\"canal_rut\"] == \"sftp\") ]\n",
    "julio2023C = rut_unicos2[(rut_unicos2[\"mes_rut\"] == \"7\") & (rut_unicos2[\"año_rut\"] == \"2023\") & (rut_unicos2[\"canal_rut\"] == \"correo\") ]\n",
    "\n",
    "agosto2023 = pd.DataFrame()\n",
    "agosto2023 = rut_unicos2[(rut_unicos2[\"mes_rut\"] == \"8\") & (rut_unicos2[\"año_rut\"] == \"2023\")]\n",
    "agosto2023W = rut_unicos2[(rut_unicos2[\"mes_rut\"] == \"8\") & (rut_unicos2[\"año_rut\"] == \"2023\") & (rut_unicos2[\"canal_rut\"] == \"web\") ]\n",
    "agosto2023S = rut_unicos2[(rut_unicos2[\"mes_rut\"] == \"8\") & (rut_unicos2[\"año_rut\"] == \"2023\") & (rut_unicos2[\"canal_rut\"] == \"sftp\") ]\n",
    "agosto2023C = rut_unicos2[(rut_unicos2[\"mes_rut\"] == \"8\") & (rut_unicos2[\"año_rut\"] == \"2023\") & (rut_unicos2[\"canal_rut\"] == \"correo\") ]\n",
    "\n",
    "septiembre2023 = pd.DataFrame()\n",
    "septiembre2023 = rut_unicos2[(rut_unicos2[\"mes_rut\"] == \"9\") & (rut_unicos2[\"año_rut\"] == \"2023\")]\n",
    "septiembre2023W = rut_unicos2[(rut_unicos2[\"mes_rut\"] == \"9\") & (rut_unicos2[\"año_rut\"] == \"2023\") & (rut_unicos2[\"canal_rut\"] == \"web\") ]\n",
    "septiembre2023S = rut_unicos2[(rut_unicos2[\"mes_rut\"] == \"9\") & (rut_unicos2[\"año_rut\"] == \"2023\") & (rut_unicos2[\"canal_rut\"] == \"sftp\") ]\n",
    "septiembre2023C = rut_unicos2[(rut_unicos2[\"mes_rut\"] == \"9\") & (rut_unicos2[\"año_rut\"] == \"2023\") & (rut_unicos2[\"canal_rut\"] == \"correo\") ]\n",
    "\n",
    "octubre2023 = pd.DataFrame()\n",
    "octubre2023 = rut_unicos2[(rut_unicos2[\"mes_rut\"] == \"10\") & (rut_unicos2[\"año_rut\"] == \"2023\")]\n",
    "octubre2023W = rut_unicos2[(rut_unicos2[\"mes_rut\"] == \"10\") & (rut_unicos2[\"año_rut\"] == \"2023\") & (rut_unicos2[\"canal_rut\"] == \"web\") ]\n",
    "octubre2023S = rut_unicos2[(rut_unicos2[\"mes_rut\"] == \"10\") & (rut_unicos2[\"año_rut\"] == \"2023\") & (rut_unicos2[\"canal_rut\"] == \"sftp\") ]\n",
    "octubre2023C = rut_unicos2[(rut_unicos2[\"mes_rut\"] == \"10\") & (rut_unicos2[\"año_rut\"] == \"2023\") & (rut_unicos2[\"canal_rut\"] == \"correo\") ]\n",
    "\n",
    "noviembre2023 = pd.DataFrame()\n",
    "noviembre2023 = rut_unicos2[(rut_unicos2[\"mes_rut\"] == \"11\") & (rut_unicos2[\"año_rut\"] == \"2023\")]\n",
    "noviembre2023W = rut_unicos2[(rut_unicos2[\"mes_rut\"] == \"11\") & (rut_unicos2[\"año_rut\"] == \"2023\") & (rut_unicos2[\"canal_rut\"] == \"web\") ]\n",
    "noviembre2023S = rut_unicos2[(rut_unicos2[\"mes_rut\"] == \"11\") & (rut_unicos2[\"año_rut\"] == \"2023\") & (rut_unicos2[\"canal_rut\"] == \"sftp\") ]\n",
    "noviembre2023C = rut_unicos2[(rut_unicos2[\"mes_rut\"] == \"11\") & (rut_unicos2[\"año_rut\"] == \"2023\") & (rut_unicos2[\"canal_rut\"] == \"correo\") ]\n",
    "\n",
    "diciembre2023 = pd.DataFrame()\n",
    "diciembre2023 = rut_unicos2[(rut_unicos2[\"mes_rut\"] == \"12\") & (rut_unicos2[\"año_rut\"] == \"2023\")]\n",
    "diciembre2023W = rut_unicos2[(rut_unicos2[\"mes_rut\"] == \"12\") & (rut_unicos2[\"año_rut\"] == \"2023\") & (rut_unicos2[\"canal_rut\"] == \"web\") ]\n",
    "diciembre2023S = rut_unicos2[(rut_unicos2[\"mes_rut\"] == \"12\") & (rut_unicos2[\"año_rut\"] == \"2023\") & (rut_unicos2[\"canal_rut\"] == \"sftp\") ]\n",
    "diciembre2023C = rut_unicos2[(rut_unicos2[\"mes_rut\"] == \"12\") & (rut_unicos2[\"año_rut\"] == \"2023\") & (rut_unicos2[\"canal_rut\"] == \"correo\") ]\n",
    "\n",
    "\n",
    "enero2024 = pd.DataFrame()\n",
    "enero2024 = rut_unicos2[(rut_unicos2[\"mes_rut\"] == \"1\") & (rut_unicos2[\"año_rut\"] == \"2024\")]\n",
    "enero2024W = rut_unicos2[(rut_unicos2[\"mes_rut\"] == \"1\") & (rut_unicos2[\"año_rut\"] == \"2024\") & (rut_unicos2[\"canal_rut\"] == \"web\") ]\n",
    "enero2024S = rut_unicos2[(rut_unicos2[\"mes_rut\"] == \"1\") & (rut_unicos2[\"año_rut\"] == \"2024\") & (rut_unicos2[\"canal_rut\"] == \"sftp\") ]\n",
    "enero2024C = rut_unicos2[(rut_unicos2[\"mes_rut\"] == \"1\") & (rut_unicos2[\"año_rut\"] == \"2024\") & (rut_unicos2[\"canal_rut\"] == \"correo\") ]\n",
    "\n",
    "febrero2024 = pd.DataFrame()\n",
    "febrero2024 = rut_unicos2[(rut_unicos2[\"mes_rut\"] == \"2\") & (rut_unicos2[\"año_rut\"] == \"2024\")]\n",
    "febrero2024W = rut_unicos2[(rut_unicos2[\"mes_rut\"] == \"2\") & (rut_unicos2[\"año_rut\"] == \"2024\") & (rut_unicos2[\"canal_rut\"] == \"web\") ]\n",
    "febrero2024S = rut_unicos2[(rut_unicos2[\"mes_rut\"] == \"2\") & (rut_unicos2[\"año_rut\"] == \"2024\") & (rut_unicos2[\"canal_rut\"] == \"sftp\") ]\n",
    "febrero2024C = rut_unicos2[(rut_unicos2[\"mes_rut\"] == \"2\") & (rut_unicos2[\"año_rut\"] == \"2024\") & (rut_unicos2[\"canal_rut\"] == \"correo\") ]\n",
    "\n",
    "marzo2024 = pd.DataFrame()\n",
    "marzo2024 = rut_unicos2[(rut_unicos2[\"mes_rut\"] == \"3\") & (rut_unicos2[\"año_rut\"] == \"2024\")]\n",
    "marzo2024W = rut_unicos2[(rut_unicos2[\"mes_rut\"] == \"3\") & (rut_unicos2[\"año_rut\"] == \"2024\") & (rut_unicos2[\"canal_rut\"] == \"web\") ]\n",
    "marzo2024S = rut_unicos2[(rut_unicos2[\"mes_rut\"] == \"3\") & (rut_unicos2[\"año_rut\"] == \"2024\") & (rut_unicos2[\"canal_rut\"] == \"sftp\") ]\n",
    "marzo2024C = rut_unicos2[(rut_unicos2[\"mes_rut\"] == \"3\") & (rut_unicos2[\"año_rut\"] == \"2024\") & (rut_unicos2[\"canal_rut\"] == \"correo\") ]\n",
    "\n",
    "abril2024 = pd.DataFrame()\n",
    "abril2024 = rut_unicos2[(rut_unicos2[\"mes_rut\"] == \"4\") & (rut_unicos2[\"año_rut\"] == \"2024\")]\n",
    "abril2024W = rut_unicos2[(rut_unicos2[\"mes_rut\"] == \"4\") & (rut_unicos2[\"año_rut\"] == \"2024\") & (rut_unicos2[\"canal_rut\"] == \"web\") ]\n",
    "abril2024S = rut_unicos2[(rut_unicos2[\"mes_rut\"] == \"4\") & (rut_unicos2[\"año_rut\"] == \"2024\") & (rut_unicos2[\"canal_rut\"] == \"sftp\") ]\n",
    "abril2024C = rut_unicos2[(rut_unicos2[\"mes_rut\"] == \"4\") & (rut_unicos2[\"año_rut\"] == \"2024\") & (rut_unicos2[\"canal_rut\"] == \"correo\") ]\n",
    "\n",
    "mayo2024 = pd.DataFrame()\n",
    "mayo2024 = rut_unicos2[(rut_unicos2[\"mes_rut\"] == \"4\") & (rut_unicos2[\"año_rut\"] == \"2024\")]\n",
    "mayo2024W = rut_unicos2[(rut_unicos2[\"mes_rut\"] == \"4\") & (rut_unicos2[\"año_rut\"] == \"2024\") & (rut_unicos2[\"canal_rut\"] == \"web\") ]\n",
    "mayo2024S = rut_unicos2[(rut_unicos2[\"mes_rut\"] == \"4\") & (rut_unicos2[\"año_rut\"] == \"2024\") & (rut_unicos2[\"canal_rut\"] == \"sftp\") ]\n",
    "mayo2024C = rut_unicos2[(rut_unicos2[\"mes_rut\"] == \"4\") & (rut_unicos2[\"año_rut\"] == \"2024\") & (rut_unicos2[\"canal_rut\"] == \"correo\") ]\n",
    "\n",
    "#Minera_Abra = Minera_Abra[(Minera_Abra[\"Empleador\"] == Minera_Abra[\"Nombre Empresa\"])]"
   ]
  },
  {
   "cell_type": "code",
   "execution_count": null,
   "metadata": {},
   "outputs": [],
   "source": [
    "enero = pd.DataFrame()\n",
    "enero = derty.copy()\n",
    "enero[\"Enero\"]  = enero[\"rut1\"].isin(enero2023[\"rut_rut2\"]).astype(str).replace(\"False\",\"\").replace(\"True\",\"X\")\n",
    "enero[\"Enero web\"]  = enero[\"rut1\"].isin(enero2023W[\"rut_rut2\"]).astype(str).replace(\"False\",\"\").replace(\"True\",\"X\")\n",
    "enero[\"Enero sftp\"]  = enero[\"rut1\"].isin(enero2023S[\"rut_rut2\"]).astype(str).replace(\"False\",\"\").replace(\"True\",\"X\")\n",
    "enero[\"Enero correo\"]  = enero[\"rut1\"].isin(enero2023C[\"rut_rut2\"]).astype(str).replace(\"False\",\"\").replace(\"True\",\"X\")\n",
    "\n",
    "enero[\"Febrero\"]  = enero[\"rut1\"].isin(febrero2023[\"rut_rut2\"]).astype(str).replace(\"False\",\"\").replace(\"True\",\"X\")\n",
    "enero[\"Febrero web\"]  = enero[\"rut1\"].isin(febrero2023W[\"rut_rut2\"]).astype(str).replace(\"False\",\"\").replace(\"True\",\"X\")\n",
    "enero[\"Febrero sftp\"]  = enero[\"rut1\"].isin(febrero2023S[\"rut_rut2\"]).astype(str).replace(\"False\",\"\").replace(\"True\",\"X\")\n",
    "enero[\"Febrero correo\"]  = enero[\"rut1\"].isin(febrero2023C[\"rut_rut2\"]).astype(str).replace(\"False\",\"\").replace(\"True\",\"X\")\n",
    "\n",
    "enero[\"Marzo\"]  = enero[\"rut1\"].isin(marzo2023[\"rut_rut2\"]).astype(str).replace(\"False\",\"\").replace(\"True\",\"X\")\n",
    "enero[\"Marzo web\"]  = enero[\"rut1\"].isin(marzo2023W[\"rut_rut2\"]).astype(str).replace(\"False\",\"\").replace(\"True\",\"X\")\n",
    "enero[\"Marzo sftp\"]  = enero[\"rut1\"].isin(marzo2023S[\"rut_rut2\"]).astype(str).replace(\"False\",\"\").replace(\"True\",\"X\")\n",
    "enero[\"Marzo correo\"]  = enero[\"rut1\"].isin(marzo2023C[\"rut_rut2\"]).astype(str).replace(\"False\",\"\").replace(\"True\",\"X\")\n",
    "\n",
    "enero[\"Abril\"]  = enero[\"rut1\"].isin(abril2023[\"rut_rut2\"]).astype(str).replace(\"False\",\"\").replace(\"True\",\"X\")\n",
    "enero[\"Abril web\"]  = enero[\"rut1\"].isin(abril2023W[\"rut_rut2\"]).astype(str).replace(\"False\",\"\").replace(\"True\",\"X\")\n",
    "enero[\"Abril sftp\"]  = enero[\"rut1\"].isin(abril2023S[\"rut_rut2\"]).astype(str).replace(\"False\",\"\").replace(\"True\",\"X\")\n",
    "enero[\"Abril correo\"]  = enero[\"rut1\"].isin(abril2023C[\"rut_rut2\"]).astype(str).replace(\"False\",\"\").replace(\"True\",\"X\")\n",
    "\n",
    "enero[\"Mayo\"]  = enero[\"rut1\"].isin(mayo2023[\"rut_rut2\"]).astype(str).replace(\"False\",\"\").replace(\"True\",\"X\")\n",
    "enero[\"Mayo web\"]  = enero[\"rut1\"].isin(mayo2023W[\"rut_rut2\"]).astype(str).replace(\"False\",\"\").replace(\"True\",\"X\")\n",
    "enero[\"Mayo sftp\"]  = enero[\"rut1\"].isin(mayo2023S[\"rut_rut2\"]).astype(str).replace(\"False\",\"\").replace(\"True\",\"X\")\n",
    "enero[\"Mayo correo\"]  = enero[\"rut1\"].isin(mayo2023C[\"rut_rut2\"]).astype(str).replace(\"False\",\"\").replace(\"True\",\"X\")\n",
    "\n",
    "enero[\"Junio\"]  = enero[\"rut1\"].isin(junio2023[\"rut_rut2\"]).astype(str).replace(\"False\",\"\").replace(\"True\",\"X\")\n",
    "enero[\"Junio web\"]  = enero[\"rut1\"].isin(junio2023W[\"rut_rut2\"]).astype(str).replace(\"False\",\"\").replace(\"True\",\"X\")\n",
    "enero[\"Junio sftp\"]  = enero[\"rut1\"].isin(junio2023S[\"rut_rut2\"]).astype(str).replace(\"False\",\"\").replace(\"True\",\"X\")\n",
    "enero[\"Junio correo\"]  = enero[\"rut1\"].isin(junio2023C[\"rut_rut2\"]).astype(str).replace(\"False\",\"\").replace(\"True\",\"X\")\n",
    "\n",
    "enero[\"Julio\"]  = enero[\"rut1\"].isin(julio2023[\"rut_rut2\"]).astype(str).replace(\"False\",\"\").replace(\"True\",\"X\")\n",
    "enero[\"Julio web\"]  = enero[\"rut1\"].isin(julio2023W[\"rut_rut2\"]).astype(str).replace(\"False\",\"\").replace(\"True\",\"X\")\n",
    "enero[\"Julio sftp\"]  = enero[\"rut1\"].isin(julio2023S[\"rut_rut2\"]).astype(str).replace(\"False\",\"\").replace(\"True\",\"X\")\n",
    "enero[\"Julio correo\"]  = enero[\"rut1\"].isin(julio2023C[\"rut_rut2\"]).astype(str).replace(\"False\",\"\").replace(\"True\",\"X\")\n",
    "\n",
    "enero[\"Agosto\"]  = enero[\"rut1\"].isin(agosto2023[\"rut_rut2\"]).astype(str).replace(\"False\",\"\").replace(\"True\",\"X\")\n",
    "enero[\"Agosto web\"]  = enero[\"rut1\"].isin(agosto2023W[\"rut_rut2\"]).astype(str).replace(\"False\",\"\").replace(\"True\",\"X\")\n",
    "enero[\"Agosto sftp\"]  = enero[\"rut1\"].isin(agosto2023S[\"rut_rut2\"]).astype(str).replace(\"False\",\"\").replace(\"True\",\"X\")\n",
    "enero[\"Agosto correo\"]  = enero[\"rut1\"].isin(agosto2023C[\"rut_rut2\"]).astype(str).replace(\"False\",\"\").replace(\"True\",\"X\")\n",
    "\n",
    "enero[\"Septiembre\"]  = enero[\"rut1\"].isin(septiembre2023[\"rut_rut2\"]).astype(str).replace(\"False\",\"\").replace(\"True\",\"X\")\n",
    "enero[\"Septiembre web\"]  = enero[\"rut1\"].isin(septiembre2023W[\"rut_rut2\"]).astype(str).replace(\"False\",\"\").replace(\"True\",\"X\")\n",
    "enero[\"Septiembre sftp\"]  = enero[\"rut1\"].isin(septiembre2023S[\"rut_rut2\"]).astype(str).replace(\"False\",\"\").replace(\"True\",\"X\")\n",
    "enero[\"Septiembre correo\"]  = enero[\"rut1\"].isin(septiembre2023C[\"rut_rut2\"]).astype(str).replace(\"False\",\"\").replace(\"True\",\"X\")\n",
    "\n",
    "enero[\"Octubre\"]  = enero[\"rut1\"].isin(octubre2023[\"rut_rut2\"]).astype(str).replace(\"False\",\"\").replace(\"True\",\"X\")\n",
    "enero[\"Octubre web\"]  = enero[\"rut1\"].isin(octubre2023W[\"rut_rut2\"]).astype(str).replace(\"False\",\"\").replace(\"True\",\"X\")\n",
    "enero[\"Octubre sftp\"]  = enero[\"rut1\"].isin(octubre2023S[\"rut_rut2\"]).astype(str).replace(\"False\",\"\").replace(\"True\",\"X\")\n",
    "enero[\"Octubre correo\"]  = enero[\"rut1\"].isin(octubre2023C[\"rut_rut2\"]).astype(str).replace(\"False\",\"\").replace(\"True\",\"X\")\n",
    "\n",
    "enero[\"Noviembre\"]  = enero[\"rut1\"].isin(noviembre2023[\"rut_rut2\"]).astype(str).replace(\"False\",\"\").replace(\"True\",\"X\")\n",
    "enero[\"Noviembre web\"]  = enero[\"rut1\"].isin(noviembre2023W[\"rut_rut2\"]).astype(str).replace(\"False\",\"\").replace(\"True\",\"X\")\n",
    "enero[\"Noviembre sftp\"]  = enero[\"rut1\"].isin(noviembre2023S[\"rut_rut2\"]).astype(str).replace(\"False\",\"\").replace(\"True\",\"X\")\n",
    "enero[\"Noviembre correo\"]  = enero[\"rut1\"].isin(noviembre2023C[\"rut_rut2\"]).astype(str).replace(\"False\",\"\").replace(\"True\",\"X\")\n",
    "\n",
    "enero[\"Diciembre\"]  = enero[\"rut1\"].isin(diciembre2023[\"rut_rut2\"]).astype(str).replace(\"False\",\"\").replace(\"True\",\"X\")\n",
    "enero[\"Diciembre web\"]  = enero[\"rut1\"].isin(diciembre2023W[\"rut_rut2\"]).astype(str).replace(\"False\",\"\").replace(\"True\",\"X\")\n",
    "enero[\"Diciembre sftp\"]  = enero[\"rut1\"].isin(diciembre2023S[\"rut_rut2\"]).astype(str).replace(\"False\",\"\").replace(\"True\",\"X\")\n",
    "enero[\"Diciembre correo\"]  = enero[\"rut1\"].isin(diciembre2023C[\"rut_rut2\"]).astype(str).replace(\"False\",\"\").replace(\"True\",\"X\")\n",
    "\n",
    "enero[\"Enero 2024\"]  = enero[\"rut1\"].isin(enero2024[\"rut_rut2\"]).astype(str).replace(\"False\",\"\").replace(\"True\",\"X\")\n",
    "enero[\"Enero 2024 web\"]  = enero[\"rut1\"].isin(enero2024W[\"rut_rut2\"]).astype(str).replace(\"False\",\"\").replace(\"True\",\"X\")\n",
    "enero[\"Enero 2024 sftp\"]  = enero[\"rut1\"].isin(enero2024S[\"rut_rut2\"]).astype(str).replace(\"False\",\"\").replace(\"True\",\"X\")\n",
    "enero[\"Enero 2024 correo\"]  = enero[\"rut1\"].isin(enero2024C[\"rut_rut2\"]).astype(str).replace(\"False\",\"\").replace(\"True\",\"X\")\n",
    "\n",
    "enero[\"Febrero 2024\"]  = enero[\"rut1\"].isin(febrero2024[\"rut_rut2\"]).astype(str).replace(\"False\",\"\").replace(\"True\",\"X\")\n",
    "enero[\"Febrero 2024 web\"]  = enero[\"rut1\"].isin(febrero2024W[\"rut_rut2\"]).astype(str).replace(\"False\",\"\").replace(\"True\",\"X\")\n",
    "enero[\"Febrero 2024 sftp\"]  = enero[\"rut1\"].isin(febrero2024S[\"rut_rut2\"]).astype(str).replace(\"False\",\"\").replace(\"True\",\"X\")\n",
    "enero[\"Febrero 2024 correo\"]  = enero[\"rut1\"].isin(febrero2024C[\"rut_rut2\"]).astype(str).replace(\"False\",\"\").replace(\"True\",\"X\")\n",
    "\n",
    "enero[\"Marzo 2024\"]  = enero[\"rut1\"].isin(marzo2024[\"rut_rut2\"]).astype(str).replace(\"False\",\"\").replace(\"True\",\"X\")\n",
    "enero[\"Marzo 2024 web\"]  = enero[\"rut1\"].isin(marzo2024W[\"rut_rut2\"]).astype(str).replace(\"False\",\"\").replace(\"True\",\"X\")\n",
    "enero[\"Marzo 2024 sftp\"]  = enero[\"rut1\"].isin(marzo2024S[\"rut_rut2\"]).astype(str).replace(\"False\",\"\").replace(\"True\",\"X\")\n",
    "enero[\"Marzo 2024 correo\"]  = enero[\"rut1\"].isin(marzo2024C[\"rut_rut2\"]).astype(str).replace(\"False\",\"\").replace(\"True\",\"X\")\n",
    "\n",
    "enero[\"Abril 2024\"]  = enero[\"rut1\"].isin(abril2024[\"rut_rut2\"]).astype(str).replace(\"False\",\"\").replace(\"True\",\"X\")\n",
    "enero[\"Abril 2024 web\"]  = enero[\"rut1\"].isin(abril2024W[\"rut_rut2\"]).astype(str).replace(\"False\",\"\").replace(\"True\",\"X\")\n",
    "enero[\"Abril 2024 sftp\"]  = enero[\"rut1\"].isin(abril2024S[\"rut_rut2\"]).astype(str).replace(\"False\",\"\").replace(\"True\",\"X\")\n",
    "enero[\"Abril 2024 correo\"]  = enero[\"rut1\"].isin(abril2024C[\"rut_rut2\"]).astype(str).replace(\"False\",\"\").replace(\"True\",\"X\")\n",
    "\n",
    "enero[\"Mayo 2024\"]  = enero[\"rut1\"].isin(mayo2024[\"rut_rut2\"]).astype(str).replace(\"False\",\"\").replace(\"True\",\"X\")\n",
    "enero[\"Mayo 2024 web\"]  = enero[\"rut1\"].isin(mayo2024W[\"rut_rut2\"]).astype(str).replace(\"False\",\"\").replace(\"True\",\"X\")\n",
    "enero[\"Mayo 2024 sftp\"]  = enero[\"rut1\"].isin(mayo2024S[\"rut_rut2\"]).astype(str).replace(\"False\",\"\").replace(\"True\",\"X\")\n",
    "enero[\"Mayo 2024 correo\"]  = enero[\"rut1\"].isin(mayo2024C[\"rut_rut2\"]).astype(str).replace(\"False\",\"\").replace(\"True\",\"X\")"
   ]
  },
  {
   "cell_type": "code",
   "execution_count": null,
   "metadata": {},
   "outputs": [],
   "source": [
    "enero.head()"
   ]
  },
  {
   "cell_type": "code",
   "execution_count": null,
   "metadata": {},
   "outputs": [],
   "source": [
    "enero.shape"
   ]
  },
  {
   "cell_type": "code",
   "execution_count": null,
   "metadata": {},
   "outputs": [],
   "source": [
    "enero.to_excel(\"F:/2024/MetLife/datos_metlife_fecha_canal.xlsx\", index=False)"
   ]
  },
  {
   "cell_type": "code",
   "execution_count": null,
   "metadata": {},
   "outputs": [],
   "source": [
    "enerob = enero[[\n",
    "    \"rut1\",\"VIGENTE 19.03.2023\",\"EN WEBSERVICE\",\"OBSERVACION\",\"Enero\",\"Febrero\",\"Marzo\",\"Abril\",\"Mayo\",\"Junio\",\"Julio\",\"Agosto\",\"Septiembre\",\"Octubre\",\"Noviembre\",\"Diciembre\",\"Enero 2024\",\"Febrero 2024\",\"Marzo 2024\"\n",
    "]]"
   ]
  },
  {
   "cell_type": "code",
   "execution_count": null,
   "metadata": {},
   "outputs": [],
   "source": [
    "enerob.head()"
   ]
  },
  {
   "cell_type": "code",
   "execution_count": null,
   "metadata": {},
   "outputs": [],
   "source": [
    "enerob.to_excel(\"F:/2024/MetLife/datos_metlife_fecha_mes.xlsx\", index=False)"
   ]
  },
  {
   "cell_type": "code",
   "execution_count": null,
   "metadata": {},
   "outputs": [],
   "source": [
    "derty[\"esta\"] = derty[\"rut1\"].isin(rut_unicos2[\"rut_rut2\"])\n",
    "rut_unicos[\"rut_sin\"] = rut_unicos[\"Rut_T\"].apply(lambda y: sacarultimo(y))\n",
    "derty[\"unicos\"] = derty[\"rut1\"].isin(rut_unicos[\"rut_sin\"])\n",
    "derty.to_excel(\"F:/2024/MetLife/datos_metlife_esta.xlsx\", index=False)\n"
   ]
  },
  {
   "cell_type": "code",
   "execution_count": 19,
   "metadata": {
    "notebookRunGroups": {
     "groupValue": "1"
    }
   },
   "outputs": [],
   "source": [
    "def fechaValida(fecha):\n",
    "    if (len(str(fecha)) <= 9 ):\n",
    "        fecha = \"\"\n",
    "        \n",
    "    fecha = str(fecha)\n",
    "    fecha1 = str(fecha)\n",
    "    \n",
    "    #datetime.strptime(fecha, '%Y-%m-%d')\n",
    "    \n",
    "    try:\n",
    "        fecha = datetime.strptime(fecha, '%Y-%m-%d %H:%M:%S')\n",
    "        date_string = fecha1\n",
    "        #print(\"date_string =\", date_string)\n",
    "        #print(\"type of date_string =\", type(date_string))\n",
    "\n",
    "        date_object = datetime.strptime(date_string, \"%Y-%m-%d %H:%M:%S\")\n",
    "\n",
    "        #print(\"date_object =\", date_object)\n",
    "        #print(\"type of date_object =\", type(date_object))\n",
    "        return date_object\n",
    "    except ValueError:\n",
    "        return datetime.utcnow().strftime('%Y-%m-%d %H:%M:%S')"
   ]
  },
  {
   "cell_type": "code",
   "execution_count": 20,
   "metadata": {
    "notebookRunGroups": {
     "groupValue": "1"
    }
   },
   "outputs": [],
   "source": [
    "mes = 5\n",
    "año = \"2024\"\n",
    "fecha = año + \"-\" + str(mes) + \"-\" + \"01\"  \n",
    "mesesDic = {\n",
    "    1: \"Enero\",\n",
    "    2: \"Febrero\",\n",
    "    3: \"Marzo\",\n",
    "    4: \"Abril\",\n",
    "    5: \"Mayo\",\n",
    "    6: \"Junio\",\n",
    "    7: \"Julio\",\n",
    "    8: \"Agosto\",\n",
    "    9: \"Septiembre\",\n",
    "    10: \"Octubre\",\n",
    "    11: \"Noviembre\",\n",
    "    12: \"Diciembre\",\n",
    "}\n",
    "\n",
    "str(mesesDic[mes])\n",
    "\n",
    "\n",
    "\n",
    "sftp = \"F:/2024/MetLife/\" + str(mesesDic[mes]) + año + \"/Subir/sftp.xlsx\"\n",
    "\n",
    "\n",
    "# nuevos = \"F:/Empresas SF/reportes/carga.xlsx\"\n",
    "\n",
    "\n",
    "derty = pd.read_excel(sftp)"
   ]
  },
  {
   "cell_type": "code",
   "execution_count": 21,
   "metadata": {
    "notebookRunGroups": {
     "groupValue": "1"
    }
   },
   "outputs": [
    {
     "data": {
      "text/plain": [
       "(454242, 23)"
      ]
     },
     "execution_count": 21,
     "metadata": {},
     "output_type": "execute_result"
    }
   ],
   "source": [
    "derty.shape"
   ]
  },
  {
   "cell_type": "code",
   "execution_count": 15,
   "metadata": {},
   "outputs": [
    {
     "data": {
      "text/html": [
       "<div><div id=aa0308f0-d30b-445c-a315-62c07c1a5bd9 style=\"display:none; background-color:#9D6CFF; color:white; width:200px; height:30px; padding-left:5px; border-radius:4px; flex-direction:row; justify-content:space-around; align-items:center;\" onmouseover=\"this.style.backgroundColor='#BA9BF8'\" onmouseout=\"this.style.backgroundColor='#9D6CFF'\" onclick=\"window.commands?.execute('create-mitosheet-from-dataframe-output');\">See Full Dataframe in Mito</div> <script> if (window.commands?.hasCommand('create-mitosheet-from-dataframe-output')) document.getElementById('aa0308f0-d30b-445c-a315-62c07c1a5bd9').style.display = 'flex' </script> <table border=\"1\" class=\"dataframe\">\n",
       "  <thead>\n",
       "    <tr style=\"text-align: right;\">\n",
       "      <th></th>\n",
       "      <th>poliza</th>\n",
       "      <th>RUTASEGURADO</th>\n",
       "      <th>DVASEGURADO</th>\n",
       "      <th>rut2</th>\n",
       "      <th>RUTBENEFICIARIO</th>\n",
       "      <th>DVBENEFICIARIO</th>\n",
       "      <th>Columna2</th>\n",
       "      <th>RUTBENEFIARIO_DV</th>\n",
       "      <th>FNAC</th>\n",
       "      <th>SEXO</th>\n",
       "      <th>...</th>\n",
       "      <th>CIUDAD</th>\n",
       "      <th>TELEFONO</th>\n",
       "      <th>RELACION</th>\n",
       "      <th>desde</th>\n",
       "      <th>hasta</th>\n",
       "      <th>Nombre</th>\n",
       "      <th>TITULAR</th>\n",
       "      <th>EMAIL</th>\n",
       "      <th>CELULAR</th>\n",
       "      <th>VIGENCIA_HASTA</th>\n",
       "    </tr>\n",
       "  </thead>\n",
       "  <tbody>\n",
       "    <tr>\n",
       "      <th>0</th>\n",
       "      <td>340023670</td>\n",
       "      <td>18434052</td>\n",
       "      <td>6</td>\n",
       "      <td>184340526</td>\n",
       "      <td>18434052</td>\n",
       "      <td>6</td>\n",
       "      <td>184340526</td>\n",
       "      <td>6</td>\n",
       "      <td>1993-11-14</td>\n",
       "      <td>M</td>\n",
       "      <td>...</td>\n",
       "      <td>NaN</td>\n",
       "      <td>NaN</td>\n",
       "      <td>AS</td>\n",
       "      <td>2023-01-01</td>\n",
       "      <td>NaN</td>\n",
       "      <td>Riquelme Arias Juan Alejandro</td>\n",
       "      <td>Riquelme Arias Juan Alejandro</td>\n",
       "      <td>NaN</td>\n",
       "      <td>NaN</td>\n",
       "      <td>2024-12-31</td>\n",
       "    </tr>\n",
       "    <tr>\n",
       "      <th>1</th>\n",
       "      <td>340022020</td>\n",
       "      <td>18066094</td>\n",
       "      <td>1</td>\n",
       "      <td>180660941</td>\n",
       "      <td>18066094</td>\n",
       "      <td>1</td>\n",
       "      <td>180660941</td>\n",
       "      <td>1</td>\n",
       "      <td>1992-09-08</td>\n",
       "      <td>F</td>\n",
       "      <td>...</td>\n",
       "      <td>SANTIAGO</td>\n",
       "      <td>NaN</td>\n",
       "      <td>AS</td>\n",
       "      <td>2022-08-01</td>\n",
       "      <td>NaN</td>\n",
       "      <td>Zepeda Hernandez Constanza Andrea</td>\n",
       "      <td>Zepeda Hernandez Constanza Andrea</td>\n",
       "      <td>CONSTANZA_ZEPEDA@LIVE.CL</td>\n",
       "      <td>9.799494e+08</td>\n",
       "      <td>2024-10-31</td>\n",
       "    </tr>\n",
       "    <tr>\n",
       "      <th>2</th>\n",
       "      <td>340002458</td>\n",
       "      <td>17085671</td>\n",
       "      <td>6</td>\n",
       "      <td>170856716</td>\n",
       "      <td>17085671</td>\n",
       "      <td>6</td>\n",
       "      <td>170856716</td>\n",
       "      <td>6</td>\n",
       "      <td>1989-02-16</td>\n",
       "      <td>M</td>\n",
       "      <td>...</td>\n",
       "      <td>SANTIAGO</td>\n",
       "      <td>NaN</td>\n",
       "      <td>AS</td>\n",
       "      <td>2023-09-01</td>\n",
       "      <td>NaN</td>\n",
       "      <td>Sandoval Salinas Jose Pablo</td>\n",
       "      <td>Sandoval Salinas Jose Pablo</td>\n",
       "      <td>jose.sandoval@latam.com</td>\n",
       "      <td>9.760937e+08</td>\n",
       "      <td>2024-07-31</td>\n",
       "    </tr>\n",
       "    <tr>\n",
       "      <th>3</th>\n",
       "      <td>340002973</td>\n",
       "      <td>18124682</td>\n",
       "      <td>0</td>\n",
       "      <td>181246820</td>\n",
       "      <td>22676875</td>\n",
       "      <td>0</td>\n",
       "      <td>226768750</td>\n",
       "      <td>0</td>\n",
       "      <td>2008-03-23</td>\n",
       "      <td>M</td>\n",
       "      <td>...</td>\n",
       "      <td>NaN</td>\n",
       "      <td>09</td>\n",
       "      <td>HI</td>\n",
       "      <td>2023-04-01</td>\n",
       "      <td>NaN</td>\n",
       "      <td>Farias Rodriguez Brandon</td>\n",
       "      <td>Rodriguez Castro Marta Esther</td>\n",
       "      <td>marta.rodriguez@global.komatsu</td>\n",
       "      <td>5.695456e+10</td>\n",
       "      <td>2024-08-31</td>\n",
       "    </tr>\n",
       "    <tr>\n",
       "      <th>4</th>\n",
       "      <td>340013428</td>\n",
       "      <td>13357241</td>\n",
       "      <td>4</td>\n",
       "      <td>133572414</td>\n",
       "      <td>13357241</td>\n",
       "      <td>4</td>\n",
       "      <td>133572414</td>\n",
       "      <td>4</td>\n",
       "      <td>1978-11-07</td>\n",
       "      <td>M</td>\n",
       "      <td>...</td>\n",
       "      <td>NaN</td>\n",
       "      <td>NaN</td>\n",
       "      <td>AS</td>\n",
       "      <td>2024-02-01</td>\n",
       "      <td>NaN</td>\n",
       "      <td>Jimenez Chavez Rodrigo</td>\n",
       "      <td>Jimenez Chavez Rodrigo</td>\n",
       "      <td>ro.jimenez711@gmail.com</td>\n",
       "      <td>9.978942e+08</td>\n",
       "      <td>2024-09-30</td>\n",
       "    </tr>\n",
       "  </tbody>\n",
       "</table></div>"
      ],
      "text/plain": [
       "      poliza  RUTASEGURADO DVASEGURADO       rut2  RUTBENEFICIARIO  \\\n",
       "0  340023670      18434052           6  184340526         18434052   \n",
       "1  340022020      18066094           1  180660941         18066094   \n",
       "2  340002458      17085671           6  170856716         17085671   \n",
       "3  340002973      18124682           0  181246820         22676875   \n",
       "4  340013428      13357241           4  133572414         13357241   \n",
       "\n",
       "  DVBENEFICIARIO   Columna2 RUTBENEFIARIO_DV       FNAC SEXO  ...    CIUDAD  \\\n",
       "0              6  184340526                6 1993-11-14    M  ...       NaN   \n",
       "1              1  180660941                1 1992-09-08    F  ...  SANTIAGO   \n",
       "2              6  170856716                6 1989-02-16    M  ...  SANTIAGO   \n",
       "3              0  226768750                0 2008-03-23    M  ...       NaN   \n",
       "4              4  133572414                4 1978-11-07    M  ...       NaN   \n",
       "\n",
       "  TELEFONO RELACION      desde hasta                             Nombre  \\\n",
       "0      NaN       AS 2023-01-01   NaN      Riquelme Arias Juan Alejandro   \n",
       "1      NaN       AS 2022-08-01   NaN  Zepeda Hernandez Constanza Andrea   \n",
       "2      NaN       AS 2023-09-01   NaN        Sandoval Salinas Jose Pablo   \n",
       "3       09       HI 2023-04-01   NaN           Farias Rodriguez Brandon   \n",
       "4      NaN       AS 2024-02-01   NaN             Jimenez Chavez Rodrigo   \n",
       "\n",
       "                             TITULAR                           EMAIL  \\\n",
       "0      Riquelme Arias Juan Alejandro                             NaN   \n",
       "1  Zepeda Hernandez Constanza Andrea        CONSTANZA_ZEPEDA@LIVE.CL   \n",
       "2        Sandoval Salinas Jose Pablo         jose.sandoval@latam.com   \n",
       "3      Rodriguez Castro Marta Esther  marta.rodriguez@global.komatsu   \n",
       "4             Jimenez Chavez Rodrigo         ro.jimenez711@gmail.com   \n",
       "\n",
       "        CELULAR VIGENCIA_HASTA  \n",
       "0           NaN     2024-12-31  \n",
       "1  9.799494e+08     2024-10-31  \n",
       "2  9.760937e+08     2024-07-31  \n",
       "3  5.695456e+10     2024-08-31  \n",
       "4  9.978942e+08     2024-09-30  \n",
       "\n",
       "[5 rows x 22 columns]"
      ]
     },
     "execution_count": 15,
     "metadata": {},
     "output_type": "execute_result"
    }
   ],
   "source": [
    "derty.head()"
   ]
  },
  {
   "cell_type": "code",
   "execution_count": 22,
   "metadata": {
    "notebookRunGroups": {
     "groupValue": "1"
    }
   },
   "outputs": [],
   "source": [
    "metlife_sftp = pd.DataFrame()\n",
    "metlife_sftp = derty.copy()"
   ]
  },
  {
   "cell_type": "code",
   "execution_count": 23,
   "metadata": {
    "notebookRunGroups": {
     "groupValue": "1"
    }
   },
   "outputs": [
    {
     "name": "stderr",
     "output_type": "stream",
     "text": [
      "C:\\Users\\jmartinez\\AppData\\Local\\Temp\\ipykernel_11804\\3662042864.py:6: FutureWarning: The default value of regex will change from True to False in a future version. In addition, single character regular expressions will *not* be treated as literal strings when regex=True.\n",
      "  metlife_sftp[\"rut1\"] = metlife_sftp[\"rut1\"].str.replace(\".\", \"\")\n",
      "C:\\Users\\jmartinez\\AppData\\Local\\Temp\\ipykernel_11804\\3662042864.py:16: FutureWarning: The default value of regex will change from True to False in a future version. In addition, single character regular expressions will *not* be treated as literal strings when regex=True.\n",
      "  metlife_sftp[\"rut2\"] = metlife_sftp[\"rut2\"].str.replace(\".\", \"\")\n",
      "C:\\Users\\jmartinez\\AppData\\Local\\Temp\\ipykernel_11804\\3662042864.py:22: FutureWarning: The default value of regex will change from True to False in a future version. In addition, single character regular expressions will *not* be treated as literal strings when regex=True.\n",
      "  metlife_sftp[\"Nombre\"] = metlife_sftp[\"Nombre\"].str.replace(\".\", \"\")\n"
     ]
    },
    {
     "data": {
      "text/plain": [
       "(454242, 23)"
      ]
     },
     "execution_count": 23,
     "metadata": {},
     "output_type": "execute_result"
    }
   ],
   "source": [
    "\n",
    "\n",
    "metlife_sftp[\"rut1\"] = metlife_sftp[\"rut1\"].astype(str)\n",
    "#metlife_sftp[\"rut1\"] = metlife_sftp[\"rut1\"].apply(lambda y: siPrimerCero(y))\n",
    "metlife_sftp[\"rut1\"] = metlife_sftp[\"rut1\"].str.replace(\"-\", \"\")\n",
    "metlife_sftp[\"rut1\"] = metlife_sftp[\"rut1\"].str.replace(\"–\", \"\")\n",
    "metlife_sftp[\"rut1\"] = metlife_sftp[\"rut1\"].astype(str)\n",
    "metlife_sftp[\"rut1\"] = metlife_sftp[\"rut1\"].str.replace(\".\", \"\")\n",
    "metlife_sftp[\"rut1\"] = metlife_sftp[\"rut1\"].str.replace(\" \", \"\")\n",
    "metlife_sftp[\"rut1\"] = metlife_sftp[\"rut1\"].str.upper()\n",
    "metlife_sftp[\"rut1\"] = metlife_sftp[\"rut1\"].str.strip()\n",
    "\n",
    "metlife_sftp[\"rut2\"] = metlife_sftp[\"rut2\"].astype(str)\n",
    "#metlife_sftp[\"rut2\"] = metlife_sftp[\"rut2\"].apply(lambda y: siPrimerCero(y))\n",
    "metlife_sftp[\"rut2\"] = metlife_sftp[\"rut2\"].str.replace(\"-\", \"\")\n",
    "metlife_sftp[\"rut2\"] = metlife_sftp[\"rut2\"].str.replace(\"–\", \"\")\n",
    "metlife_sftp[\"rut2\"] = metlife_sftp[\"rut2\"].astype(str)\n",
    "metlife_sftp[\"rut2\"] = metlife_sftp[\"rut2\"].str.replace(\".\", \"\")\n",
    "metlife_sftp[\"rut2\"] = metlife_sftp[\"rut2\"].str.replace(\" \", \"\")\n",
    "metlife_sftp[\"rut2\"] = metlife_sftp[\"rut2\"].str.upper()\n",
    "metlife_sftp[\"rut2\"] = metlife_sftp[\"rut2\"].str.strip()\n",
    "\n",
    "metlife_sftp[\"Nombre\"] = metlife_sftp[\"Nombre\"].str.replace(\",\", \"\")\n",
    "metlife_sftp[\"Nombre\"] = metlife_sftp[\"Nombre\"].str.replace(\".\", \"\")\n",
    "metlife_sftp[\"Nombre\"] = metlife_sftp[\"Nombre\"].str.replace(\"-\", \"\")\n",
    "metlife_sftp[\"Nombre\"] = metlife_sftp[\"Nombre\"].str.replace(\"┐\", \"\")\n",
    "metlife_sftp[\"Nombre\"] = metlife_sftp[\"Nombre\"].str.replace(\"═\", \"\")\n",
    "metlife_sftp[\"Nombre\"] = metlife_sftp[\"Nombre\"].str.replace(\"╔\", \"\")\n",
    "metlife_sftp[\"Nombre\"] = metlife_sftp[\"Nombre\"].str.replace(\"┌\", \"\")\n",
    "metlife_sftp[\"Nombre\"] = metlife_sftp[\"Nombre\"].str.title()\n",
    "metlife_sftp[\"Nombre\"] = metlife_sftp[\"Nombre\"].str.strip()\n",
    "\n",
    "metlife_sftp[\"poliza\"] = metlife_sftp[\"poliza\"].astype(str)\n",
    "metlife_sftp[\"poliza\"] = metlife_sftp[\"poliza\"].str.strip()\n",
    "\n",
    "\n",
    "\n",
    "#*******************sacar primer cero\n",
    "metlife_sftp.shape"
   ]
  },
  {
   "cell_type": "code",
   "execution_count": 24,
   "metadata": {
    "notebookRunGroups": {
     "groupValue": "1"
    }
   },
   "outputs": [
    {
     "data": {
      "text/html": [
       "<div><div id=aec458e9-eefa-4348-a2ab-ea3c5f0da6c3 style=\"display:none; background-color:#9D6CFF; color:white; width:200px; height:30px; padding-left:5px; border-radius:4px; flex-direction:row; justify-content:space-around; align-items:center;\" onmouseover=\"this.style.backgroundColor='#BA9BF8'\" onmouseout=\"this.style.backgroundColor='#9D6CFF'\" onclick=\"window.commands?.execute('create-mitosheet-from-dataframe-output');\">See Full Dataframe in Mito</div> <script> if (window.commands?.hasCommand('create-mitosheet-from-dataframe-output')) document.getElementById('aec458e9-eefa-4348-a2ab-ea3c5f0da6c3').style.display = 'flex' </script> <table border=\"1\" class=\"dataframe\">\n",
       "  <thead>\n",
       "    <tr style=\"text-align: right;\">\n",
       "      <th></th>\n",
       "      <th>poliza</th>\n",
       "      <th>RUTASEGURADO</th>\n",
       "      <th>DVASEGURADO</th>\n",
       "      <th>rut2</th>\n",
       "      <th>RUTBENEFICIARIO</th>\n",
       "      <th>DVBENEFICIARIO</th>\n",
       "      <th>rut1</th>\n",
       "      <th>RUTBENEFIARIO_DV</th>\n",
       "      <th>Columna1</th>\n",
       "      <th>FNAC</th>\n",
       "      <th>...</th>\n",
       "      <th>CIUDAD</th>\n",
       "      <th>TELEFONO</th>\n",
       "      <th>RELACION</th>\n",
       "      <th>desde</th>\n",
       "      <th>hastad</th>\n",
       "      <th>Nombre</th>\n",
       "      <th>TITULAR</th>\n",
       "      <th>EMAIL</th>\n",
       "      <th>CELULAR</th>\n",
       "      <th>hasta</th>\n",
       "    </tr>\n",
       "  </thead>\n",
       "  <tbody>\n",
       "    <tr>\n",
       "      <th>0</th>\n",
       "      <td>340023670</td>\n",
       "      <td>18434052</td>\n",
       "      <td>6</td>\n",
       "      <td>184340526</td>\n",
       "      <td>18434052</td>\n",
       "      <td>6</td>\n",
       "      <td>184340526</td>\n",
       "      <td>6</td>\n",
       "      <td>1</td>\n",
       "      <td>34287</td>\n",
       "      <td>...</td>\n",
       "      <td>NaN</td>\n",
       "      <td>NaN</td>\n",
       "      <td>AS</td>\n",
       "      <td>44927.0</td>\n",
       "      <td>NaN</td>\n",
       "      <td>Riquelme Arias Juan Alejandro</td>\n",
       "      <td>Riquelme Arias Juan Alejandro</td>\n",
       "      <td>NaN</td>\n",
       "      <td>NaN</td>\n",
       "      <td>45657.0</td>\n",
       "    </tr>\n",
       "    <tr>\n",
       "      <th>1</th>\n",
       "      <td>340022020</td>\n",
       "      <td>18066094</td>\n",
       "      <td>1</td>\n",
       "      <td>180660941</td>\n",
       "      <td>18066094</td>\n",
       "      <td>1</td>\n",
       "      <td>180660941</td>\n",
       "      <td>1</td>\n",
       "      <td>1</td>\n",
       "      <td>33855</td>\n",
       "      <td>...</td>\n",
       "      <td>SANTIAGO</td>\n",
       "      <td>NaN</td>\n",
       "      <td>AS</td>\n",
       "      <td>44774.0</td>\n",
       "      <td>NaN</td>\n",
       "      <td>Zepeda Hernandez Constanza Andrea</td>\n",
       "      <td>Zepeda Hernandez Constanza Andrea</td>\n",
       "      <td>CONSTANZA_ZEPEDA@LIVE.CL</td>\n",
       "      <td>979949391.0</td>\n",
       "      <td>45596.0</td>\n",
       "    </tr>\n",
       "    <tr>\n",
       "      <th>2</th>\n",
       "      <td>340002458</td>\n",
       "      <td>17085671</td>\n",
       "      <td>6</td>\n",
       "      <td>170856716</td>\n",
       "      <td>17085671</td>\n",
       "      <td>6</td>\n",
       "      <td>170856716</td>\n",
       "      <td>6</td>\n",
       "      <td>1</td>\n",
       "      <td>32555</td>\n",
       "      <td>...</td>\n",
       "      <td>SANTIAGO</td>\n",
       "      <td>NaN</td>\n",
       "      <td>AS</td>\n",
       "      <td>45170.0</td>\n",
       "      <td>NaN</td>\n",
       "      <td>Sandoval Salinas Jose Pablo</td>\n",
       "      <td>Sandoval Salinas Jose Pablo</td>\n",
       "      <td>jose.sandoval@latam.com</td>\n",
       "      <td>976093700.0</td>\n",
       "      <td>45504.0</td>\n",
       "    </tr>\n",
       "    <tr>\n",
       "      <th>3</th>\n",
       "      <td>340013428</td>\n",
       "      <td>13357241</td>\n",
       "      <td>4</td>\n",
       "      <td>133572414</td>\n",
       "      <td>13357241</td>\n",
       "      <td>4</td>\n",
       "      <td>133572414</td>\n",
       "      <td>4</td>\n",
       "      <td>1</td>\n",
       "      <td>28801</td>\n",
       "      <td>...</td>\n",
       "      <td>NaN</td>\n",
       "      <td>NaN</td>\n",
       "      <td>AS</td>\n",
       "      <td>45323.0</td>\n",
       "      <td>NaN</td>\n",
       "      <td>Jimenez Chavez Rodrigo</td>\n",
       "      <td>Jimenez Chavez Rodrigo</td>\n",
       "      <td>ro.jimenez711@gmail.com</td>\n",
       "      <td>997894170.0</td>\n",
       "      <td>45565.0</td>\n",
       "    </tr>\n",
       "    <tr>\n",
       "      <th>4</th>\n",
       "      <td>340022865</td>\n",
       "      <td>16097460</td>\n",
       "      <td>5</td>\n",
       "      <td>160974605</td>\n",
       "      <td>16097460</td>\n",
       "      <td>5</td>\n",
       "      <td>160974605</td>\n",
       "      <td>5</td>\n",
       "      <td>1</td>\n",
       "      <td>31247</td>\n",
       "      <td>...</td>\n",
       "      <td>NaN</td>\n",
       "      <td>NaN</td>\n",
       "      <td>AS</td>\n",
       "      <td>44896.0</td>\n",
       "      <td>NaN</td>\n",
       "      <td>Espinoza Orostica Maximiliano Ricardo</td>\n",
       "      <td>Espinoza Orostica Maximiliano Ricardo</td>\n",
       "      <td>THE.OROSTICA@GMAIL.COM</td>\n",
       "      <td>965970153.0</td>\n",
       "      <td>45626.0</td>\n",
       "    </tr>\n",
       "  </tbody>\n",
       "</table></div>"
      ],
      "text/plain": [
       "      poliza  RUTASEGURADO DVASEGURADO       rut2  RUTBENEFICIARIO  \\\n",
       "0  340023670      18434052           6  184340526         18434052   \n",
       "1  340022020      18066094           1  180660941         18066094   \n",
       "2  340002458      17085671           6  170856716         17085671   \n",
       "3  340013428      13357241           4  133572414         13357241   \n",
       "4  340022865      16097460           5  160974605         16097460   \n",
       "\n",
       "  DVBENEFICIARIO       rut1 RUTBENEFIARIO_DV  Columna1   FNAC  ...    CIUDAD  \\\n",
       "0              6  184340526                6         1  34287  ...       NaN   \n",
       "1              1  180660941                1         1  33855  ...  SANTIAGO   \n",
       "2              6  170856716                6         1  32555  ...  SANTIAGO   \n",
       "3              4  133572414                4         1  28801  ...       NaN   \n",
       "4              5  160974605                5         1  31247  ...       NaN   \n",
       "\n",
       "  TELEFONO RELACION    desde hastad                                 Nombre  \\\n",
       "0      NaN       AS  44927.0    NaN          Riquelme Arias Juan Alejandro   \n",
       "1      NaN       AS  44774.0    NaN      Zepeda Hernandez Constanza Andrea   \n",
       "2      NaN       AS  45170.0    NaN            Sandoval Salinas Jose Pablo   \n",
       "3      NaN       AS  45323.0    NaN                 Jimenez Chavez Rodrigo   \n",
       "4      NaN       AS  44896.0    NaN  Espinoza Orostica Maximiliano Ricardo   \n",
       "\n",
       "                                 TITULAR                     EMAIL  \\\n",
       "0          Riquelme Arias Juan Alejandro                       NaN   \n",
       "1      Zepeda Hernandez Constanza Andrea  CONSTANZA_ZEPEDA@LIVE.CL   \n",
       "2            Sandoval Salinas Jose Pablo   jose.sandoval@latam.com   \n",
       "3                 Jimenez Chavez Rodrigo   ro.jimenez711@gmail.com   \n",
       "4  Espinoza Orostica Maximiliano Ricardo    THE.OROSTICA@GMAIL.COM   \n",
       "\n",
       "       CELULAR    hasta  \n",
       "0          NaN  45657.0  \n",
       "1  979949391.0  45596.0  \n",
       "2  976093700.0  45504.0  \n",
       "3  997894170.0  45565.0  \n",
       "4  965970153.0  45626.0  \n",
       "\n",
       "[5 rows x 23 columns]"
      ]
     },
     "execution_count": 24,
     "metadata": {},
     "output_type": "execute_result"
    }
   ],
   "source": [
    "metlife_sftp.head()"
   ]
  },
  {
   "cell_type": "code",
   "execution_count": 25,
   "metadata": {
    "notebookRunGroups": {
     "groupValue": "1"
    }
   },
   "outputs": [],
   "source": [
    "def siPrimerCero(y):    \n",
    "    if len(y) <= 4:\n",
    "        y =  \"NONE\"\n",
    "    if y[0] == \"0\":\n",
    "        y = y[1:]\n",
    "    return str(y)\n",
    "    "
   ]
  },
  {
   "cell_type": "code",
   "execution_count": 26,
   "metadata": {
    "notebookRunGroups": {
     "groupValue": "1"
    }
   },
   "outputs": [
    {
     "data": {
      "text/plain": [
       "(419480, 24)"
      ]
     },
     "execution_count": 26,
     "metadata": {},
     "output_type": "execute_result"
    }
   ],
   "source": [
    "metlife_sftp[\"rut1\"] = metlife_sftp[\"rut1\"].apply(lambda y: siPrimerCero(y))\n",
    "metlife_sftp[\"rut2\"] = metlife_sftp[\"rut2\"].apply(lambda y: siPrimerCero(y))\n",
    "metlife_sftp = metlife_sftp[(metlife_sftp[\"rut1\"] != \"NONE\")]\n",
    "metlife_sftp = metlife_sftp[(metlife_sftp[\"rut2\"] != \"NONE\")]\n",
    "\n",
    "\n",
    "metlife_sftp[\"Titular\"] = np.where(metlife_sftp[\"rut1\"] == metlife_sftp[\"rut2\"],1,2 )\n",
    "metlife_sftp = metlife_sftp[(metlife_sftp[\"Titular\"] == 1)]\n",
    "metlife_sftp = metlife_sftp.drop_duplicates(\n",
    "    [\n",
    "        \"rut1\",\"poliza\",\n",
    "    ],\n",
    "    keep=\"last\",\n",
    ")\n",
    "\n",
    "metlife_sftp.shape"
   ]
  },
  {
   "cell_type": "code",
   "execution_count": 27,
   "metadata": {
    "notebookRunGroups": {
     "groupValue": "1"
    }
   },
   "outputs": [
    {
     "data": {
      "text/plain": [
       "(419480, 24)"
      ]
     },
     "execution_count": 27,
     "metadata": {},
     "output_type": "execute_result"
    }
   ],
   "source": [
    "metlife_sftp.shape"
   ]
  },
  {
   "cell_type": "code",
   "execution_count": 28,
   "metadata": {
    "notebookRunGroups": {
     "groupValue": "1"
    }
   },
   "outputs": [
    {
     "name": "stderr",
     "output_type": "stream",
     "text": [
      "C:\\Users\\jmartinez\\AppData\\Local\\Temp\\ipykernel_11804\\2005110109.py:14: FutureWarning: The default value of regex will change from True to False in a future version. In addition, single character regular expressions will *not* be treated as literal strings when regex=True.\n",
      "  metlife_correo[\"rut1\"] = metlife_correo[\"rut1\"].str.replace(\".\", \"\")\n",
      "C:\\Users\\jmartinez\\AppData\\Local\\Temp\\ipykernel_11804\\2005110109.py:24: FutureWarning: The default value of regex will change from True to False in a future version. In addition, single character regular expressions will *not* be treated as literal strings when regex=True.\n",
      "  metlife_correo[\"rut2\"] = metlife_correo[\"rut2\"].str.replace(\".\", \"\")\n",
      "C:\\Users\\jmartinez\\AppData\\Local\\Temp\\ipykernel_11804\\2005110109.py:30: FutureWarning: The default value of regex will change from True to False in a future version. In addition, single character regular expressions will *not* be treated as literal strings when regex=True.\n",
      "  metlife_correo[\"Nombre\"] = metlife_correo[\"Nombre\"].str.replace(\".\", \"\")\n"
     ]
    },
    {
     "data": {
      "text/plain": [
       "(24265, 8)"
      ]
     },
     "execution_count": 28,
     "metadata": {},
     "output_type": "execute_result"
    }
   ],
   "source": [
    "correo = \"F:/2024/MetLife/\" + str(mesesDic[mes]) + año + \"/Subir/correo.xlsx\"\n",
    "dertyc = pd.read_excel(correo)\n",
    "metlife_correo = dertyc.copy()\n",
    "\n",
    "# nuevos = \"F:/Empresas SF/reportes/carga.xlsx\"\n",
    "\n",
    "\n",
    "\n",
    "metlife_correo[\"rut1\"] = metlife_correo[\"rut1\"].astype(str)\n",
    "#metlife_sftp[\"rut1\"] = metlife_sftp[\"rut1\"].apply(lambda y: siPrimerCero(y))\n",
    "metlife_correo[\"rut1\"] = metlife_correo[\"rut1\"].str.replace(\"-\", \"\")\n",
    "metlife_correo[\"rut1\"] = metlife_correo[\"rut1\"].str.replace(\"–\", \"\")\n",
    "metlife_correo[\"rut1\"] = metlife_correo[\"rut1\"].astype(str)\n",
    "metlife_correo[\"rut1\"] = metlife_correo[\"rut1\"].str.replace(\".\", \"\")\n",
    "metlife_correo[\"rut1\"] = metlife_correo[\"rut1\"].str.replace(\" \", \"\")\n",
    "metlife_correo[\"rut1\"] = metlife_correo[\"rut1\"].str.upper()\n",
    "metlife_correo[\"rut1\"] = metlife_correo[\"rut1\"].str.strip()\n",
    "\n",
    "metlife_correo[\"rut2\"] = metlife_correo[\"rut2\"].astype(str)\n",
    "#metlife_sftp[\"rut2\"] = metlife_sftp[\"rut2\"].apply(lambda y: siPrimerCero(y))\n",
    "metlife_correo[\"rut2\"] = metlife_correo[\"rut2\"].str.replace(\"-\", \"\")\n",
    "metlife_correo[\"rut2\"] = metlife_correo[\"rut2\"].str.replace(\"–\", \"\")\n",
    "metlife_correo[\"rut2\"] = metlife_correo[\"rut2\"].astype(str)\n",
    "metlife_correo[\"rut2\"] = metlife_correo[\"rut2\"].str.replace(\".\", \"\")\n",
    "metlife_correo[\"rut2\"] = metlife_correo[\"rut2\"].str.replace(\" \", \"\")\n",
    "metlife_correo[\"rut2\"] = metlife_correo[\"rut2\"].str.upper()\n",
    "metlife_correo[\"rut2\"] = metlife_correo[\"rut2\"].str.strip()\n",
    "\n",
    "metlife_correo[\"Nombre\"] = metlife_correo[\"Nombre\"].str.replace(\",\", \"\")\n",
    "metlife_correo[\"Nombre\"] = metlife_correo[\"Nombre\"].str.replace(\".\", \"\")\n",
    "metlife_correo[\"Nombre\"] = metlife_correo[\"Nombre\"].str.replace(\"-\", \"\")\n",
    "metlife_correo[\"Nombre\"] = metlife_correo[\"Nombre\"].str.replace(\"┐\", \"\")\n",
    "metlife_correo[\"Nombre\"] = metlife_correo[\"Nombre\"].str.replace(\"═\", \"\")\n",
    "metlife_correo[\"Nombre\"] = metlife_correo[\"Nombre\"].str.replace(\"╔\", \"\")\n",
    "metlife_correo[\"Nombre\"] = metlife_correo[\"Nombre\"].str.replace(\"┌\", \"\")\n",
    "metlife_correo[\"Nombre\"] = metlife_correo[\"Nombre\"].str.title()\n",
    "metlife_correo[\"Nombre\"] = metlife_correo[\"Nombre\"].str.strip()\n",
    "\n",
    "metlife_correo[\"poliza\"] = metlife_correo[\"poliza\"].astype(str)\n",
    "metlife_correo[\"poliza\"] = metlife_correo[\"poliza\"].str.strip()\n",
    "\n",
    "\n",
    "\n",
    "\n",
    "#*******************sacar primer cero\n",
    "metlife_correo.shape\n",
    "#derty = pd.read_excel(sftp)"
   ]
  },
  {
   "cell_type": "code",
   "execution_count": 29,
   "metadata": {
    "notebookRunGroups": {
     "groupValue": "1"
    }
   },
   "outputs": [
    {
     "data": {
      "text/plain": [
       "(18330, 9)"
      ]
     },
     "execution_count": 29,
     "metadata": {},
     "output_type": "execute_result"
    }
   ],
   "source": [
    "metlife_correo[\"rut1\"] = metlife_correo[\"rut1\"].apply(lambda y: siPrimerCero(y))\n",
    "metlife_correo[\"rut2\"] = metlife_correo[\"rut2\"].apply(lambda y: siPrimerCero(y))\n",
    "metlife_correo = metlife_correo[(metlife_correo[\"rut1\"] != \"NONE\")]\n",
    "metlife_correo = metlife_correo[(metlife_correo[\"rut2\"] != \"NONE\")]\n",
    "\n",
    "metlife_correo[\"Titular\"] = np.where(metlife_correo[\"rut1\"] == metlife_correo[\"rut2\"],1,2 )\n",
    "metlife_correo = metlife_correo[(metlife_correo[\"Titular\"] == 1)]\n",
    "metlife_correo = metlife_correo.drop_duplicates(\n",
    "    [\n",
    "        \"rut1\",\"poliza\"\n",
    "    ],\n",
    "    keep=\"last\",\n",
    ")\n",
    "\n",
    "metlife_correo.shape"
   ]
  },
  {
   "cell_type": "code",
   "execution_count": null,
   "metadata": {},
   "outputs": [],
   "source": [
    "metlife_correo.shape"
   ]
  },
  {
   "cell_type": "code",
   "execution_count": 30,
   "metadata": {
    "notebookRunGroups": {
     "groupValue": "1"
    }
   },
   "outputs": [],
   "source": [
    "web = \"F:/2024/MetLife/\" + str(mesesDic[mes]) + año + \"/Subir/web.xlsx\"\n",
    "dertyd = pd.read_excel(web)\n"
   ]
  },
  {
   "cell_type": "code",
   "execution_count": 31,
   "metadata": {
    "notebookRunGroups": {
     "groupValue": "1"
    }
   },
   "outputs": [
    {
     "data": {
      "text/html": [
       "<div><div id=9be213b7-a44f-4a45-b7a2-935642c8dd48 style=\"display:none; background-color:#9D6CFF; color:white; width:200px; height:30px; padding-left:5px; border-radius:4px; flex-direction:row; justify-content:space-around; align-items:center;\" onmouseover=\"this.style.backgroundColor='#BA9BF8'\" onmouseout=\"this.style.backgroundColor='#9D6CFF'\" onclick=\"window.commands?.execute('create-mitosheet-from-dataframe-output');\">See Full Dataframe in Mito</div> <script> if (window.commands?.hasCommand('create-mitosheet-from-dataframe-output')) document.getElementById('9be213b7-a44f-4a45-b7a2-935642c8dd48').style.display = 'flex' </script> <table border=\"1\" class=\"dataframe\">\n",
       "  <thead>\n",
       "    <tr style=\"text-align: right;\">\n",
       "      <th></th>\n",
       "      <th>id</th>\n",
       "      <th>ciudad</th>\n",
       "      <th>codigo_carga</th>\n",
       "      <th>codigo_postal</th>\n",
       "      <th>comuna</th>\n",
       "      <th>convenio</th>\n",
       "      <th>convenio_plan</th>\n",
       "      <th>direccion</th>\n",
       "      <th>fecha_bloqueo</th>\n",
       "      <th>fecha_modificacion</th>\n",
       "      <th>...</th>\n",
       "      <th>p_paterno</th>\n",
       "      <th>Nombre</th>\n",
       "      <th>poliza</th>\n",
       "      <th>p_relacion</th>\n",
       "      <th>rut2</th>\n",
       "      <th>rut1</th>\n",
       "      <th>p_sexo</th>\n",
       "      <th>procesado</th>\n",
       "      <th>rut_empresa</th>\n",
       "      <th>version</th>\n",
       "    </tr>\n",
       "  </thead>\n",
       "  <tbody>\n",
       "    <tr>\n",
       "      <th>0</th>\n",
       "      <td>539505</td>\n",
       "      <td>NaN</td>\n",
       "      <td>0</td>\n",
       "      <td>NaN</td>\n",
       "      <td>MACHALÍ</td>\n",
       "      <td>77</td>\n",
       "      <td>SIN PLAN</td>\n",
       "      <td>AVENIDA  SAN  JUAN 202  CASA 12</td>\n",
       "      <td>0</td>\n",
       "      <td>2024-04-01</td>\n",
       "      <td>...</td>\n",
       "      <td>AGUERO</td>\n",
       "      <td>JOSE ROBERTO AGUERO QUINTUL</td>\n",
       "      <td>340023115</td>\n",
       "      <td>1</td>\n",
       "      <td>121185490</td>\n",
       "      <td>121185490</td>\n",
       "      <td>1</td>\n",
       "      <td>0</td>\n",
       "      <td>760503010</td>\n",
       "      <td>1</td>\n",
       "    </tr>\n",
       "    <tr>\n",
       "      <th>1</th>\n",
       "      <td>539507</td>\n",
       "      <td>NaN</td>\n",
       "      <td>0</td>\n",
       "      <td>NaN</td>\n",
       "      <td>NaN</td>\n",
       "      <td>77</td>\n",
       "      <td>SIN PLAN</td>\n",
       "      <td>NaN</td>\n",
       "      <td>0</td>\n",
       "      <td>2024-04-01</td>\n",
       "      <td>...</td>\n",
       "      <td>ZEPEDA</td>\n",
       "      <td>MARCELO OCTAVIO ZEPEDA CORTEZ</td>\n",
       "      <td>340019950</td>\n",
       "      <td>1</td>\n",
       "      <td>126199791</td>\n",
       "      <td>126199791</td>\n",
       "      <td>1</td>\n",
       "      <td>0</td>\n",
       "      <td>967555908</td>\n",
       "      <td>1</td>\n",
       "    </tr>\n",
       "    <tr>\n",
       "      <th>2</th>\n",
       "      <td>539508</td>\n",
       "      <td>NaN</td>\n",
       "      <td>0</td>\n",
       "      <td>NaN</td>\n",
       "      <td>RANCAGUA</td>\n",
       "      <td>77</td>\n",
       "      <td>SIN PLAN</td>\n",
       "      <td>ALAMEDA 439  BLOCK F DPTO  21</td>\n",
       "      <td>0</td>\n",
       "      <td>2024-04-01</td>\n",
       "      <td>...</td>\n",
       "      <td>MELLA</td>\n",
       "      <td>EDUARDO MELLA BERDU</td>\n",
       "      <td>340023068</td>\n",
       "      <td>1</td>\n",
       "      <td>126385048</td>\n",
       "      <td>126385048</td>\n",
       "      <td>1</td>\n",
       "      <td>0</td>\n",
       "      <td>969472805</td>\n",
       "      <td>1</td>\n",
       "    </tr>\n",
       "    <tr>\n",
       "      <th>3</th>\n",
       "      <td>539511</td>\n",
       "      <td>calama</td>\n",
       "      <td>0</td>\n",
       "      <td>NaN</td>\n",
       "      <td>calama</td>\n",
       "      <td>77</td>\n",
       "      <td>SIN PLAN</td>\n",
       "      <td>El Loa 2465</td>\n",
       "      <td>0</td>\n",
       "      <td>2024-04-01</td>\n",
       "      <td>...</td>\n",
       "      <td>AGUILERA</td>\n",
       "      <td>VERONICA ANDREA AGUILERA COLLAO</td>\n",
       "      <td>340023033</td>\n",
       "      <td>1</td>\n",
       "      <td>157700073</td>\n",
       "      <td>157700073</td>\n",
       "      <td>1</td>\n",
       "      <td>0</td>\n",
       "      <td>767505604</td>\n",
       "      <td>1</td>\n",
       "    </tr>\n",
       "    <tr>\n",
       "      <th>4</th>\n",
       "      <td>539515</td>\n",
       "      <td>NaN</td>\n",
       "      <td>0</td>\n",
       "      <td>NaN</td>\n",
       "      <td>NaN</td>\n",
       "      <td>77</td>\n",
       "      <td>SIN PLAN</td>\n",
       "      <td>NaN</td>\n",
       "      <td>0</td>\n",
       "      <td>2024-04-01</td>\n",
       "      <td>...</td>\n",
       "      <td>PUTNAM</td>\n",
       "      <td>CHRISTIAN PUTNAM VELANDO</td>\n",
       "      <td>340020275</td>\n",
       "      <td>1</td>\n",
       "      <td>219056893</td>\n",
       "      <td>219056893</td>\n",
       "      <td>1</td>\n",
       "      <td>0</td>\n",
       "      <td>651144221</td>\n",
       "      <td>1</td>\n",
       "    </tr>\n",
       "    <tr>\n",
       "      <th>5</th>\n",
       "      <td>539521</td>\n",
       "      <td>NaN</td>\n",
       "      <td>0</td>\n",
       "      <td>NaN</td>\n",
       "      <td>ESTACIONCENTRAL</td>\n",
       "      <td>77</td>\n",
       "      <td>SIN PLAN</td>\n",
       "      <td>LAS ACACIAS 65 102  BLOK 9 PISO 1</td>\n",
       "      <td>0</td>\n",
       "      <td>2024-04-01</td>\n",
       "      <td>...</td>\n",
       "      <td>POZO</td>\n",
       "      <td>LAURA CAROL POZO ARAYA</td>\n",
       "      <td>340022932</td>\n",
       "      <td>1</td>\n",
       "      <td>126340435</td>\n",
       "      <td>126340435</td>\n",
       "      <td>2</td>\n",
       "      <td>0</td>\n",
       "      <td>651144221</td>\n",
       "      <td>1</td>\n",
       "    </tr>\n",
       "    <tr>\n",
       "      <th>6</th>\n",
       "      <td>539522</td>\n",
       "      <td>NaN</td>\n",
       "      <td>0</td>\n",
       "      <td>NaN</td>\n",
       "      <td>NaN</td>\n",
       "      <td>77</td>\n",
       "      <td>SIN PLAN</td>\n",
       "      <td>NaN</td>\n",
       "      <td>0</td>\n",
       "      <td>2024-04-01</td>\n",
       "      <td>...</td>\n",
       "      <td>SOTO</td>\n",
       "      <td>JOAQUIN SOTO VARGAS</td>\n",
       "      <td>340002446</td>\n",
       "      <td>1</td>\n",
       "      <td>198921319</td>\n",
       "      <td>198921319</td>\n",
       "      <td>1</td>\n",
       "      <td>0</td>\n",
       "      <td>969512807</td>\n",
       "      <td>1</td>\n",
       "    </tr>\n",
       "    <tr>\n",
       "      <th>7</th>\n",
       "      <td>539523</td>\n",
       "      <td>CALAMA</td>\n",
       "      <td>0</td>\n",
       "      <td>NaN</td>\n",
       "      <td>CALAMA</td>\n",
       "      <td>77</td>\n",
       "      <td>SIN PLAN</td>\n",
       "      <td>FRI BONN 2747</td>\n",
       "      <td>0</td>\n",
       "      <td>2024-04-02</td>\n",
       "      <td>...</td>\n",
       "      <td>PERALTA</td>\n",
       "      <td>LUIS PERALTA CUEVAS</td>\n",
       "      <td>340002976</td>\n",
       "      <td>1</td>\n",
       "      <td>157410075</td>\n",
       "      <td>157410075</td>\n",
       "      <td>1</td>\n",
       "      <td>0</td>\n",
       "      <td>651144221</td>\n",
       "      <td>1</td>\n",
       "    </tr>\n",
       "    <tr>\n",
       "      <th>8</th>\n",
       "      <td>539526</td>\n",
       "      <td>NaN</td>\n",
       "      <td>0</td>\n",
       "      <td>NaN</td>\n",
       "      <td>MAIPÚ</td>\n",
       "      <td>77</td>\n",
       "      <td>SIN PLAN</td>\n",
       "      <td>JOSE MANUEL BORGOÑO 833  POBLACION</td>\n",
       "      <td>0</td>\n",
       "      <td>2024-04-02</td>\n",
       "      <td>...</td>\n",
       "      <td>CONTRERAS</td>\n",
       "      <td>JAVIER CONTRERAS DIAZ</td>\n",
       "      <td>340019001</td>\n",
       "      <td>1</td>\n",
       "      <td>94670667</td>\n",
       "      <td>94670667</td>\n",
       "      <td>1</td>\n",
       "      <td>0</td>\n",
       "      <td>96557400K</td>\n",
       "      <td>1</td>\n",
       "    </tr>\n",
       "  </tbody>\n",
       "</table></div>"
      ],
      "text/plain": [
       "       id  ciudad  codigo_carga  codigo_postal           comuna  convenio  \\\n",
       "0  539505     NaN             0            NaN          MACHALÍ        77   \n",
       "1  539507     NaN             0            NaN              NaN        77   \n",
       "2  539508     NaN             0            NaN         RANCAGUA        77   \n",
       "3  539511  calama             0            NaN           calama        77   \n",
       "4  539515     NaN             0            NaN              NaN        77   \n",
       "5  539521     NaN             0            NaN  ESTACIONCENTRAL        77   \n",
       "6  539522     NaN             0            NaN              NaN        77   \n",
       "7  539523  CALAMA             0            NaN           CALAMA        77   \n",
       "8  539526     NaN             0            NaN            MAIPÚ        77   \n",
       "\n",
       "  convenio_plan                           direccion  fecha_bloqueo  \\\n",
       "0      SIN PLAN     AVENIDA  SAN  JUAN 202  CASA 12              0   \n",
       "1      SIN PLAN                                 NaN              0   \n",
       "2      SIN PLAN       ALAMEDA 439  BLOCK F DPTO  21              0   \n",
       "3      SIN PLAN                        El Loa 2465               0   \n",
       "4      SIN PLAN                                 NaN              0   \n",
       "5      SIN PLAN   LAS ACACIAS 65 102  BLOK 9 PISO 1              0   \n",
       "6      SIN PLAN                                 NaN              0   \n",
       "7      SIN PLAN                       FRI BONN 2747              0   \n",
       "8      SIN PLAN  JOSE MANUEL BORGOÑO 833  POBLACION              0   \n",
       "\n",
       "  fecha_modificacion  ...  p_paterno                           Nombre  \\\n",
       "0         2024-04-01  ...     AGUERO      JOSE ROBERTO AGUERO QUINTUL   \n",
       "1         2024-04-01  ...     ZEPEDA    MARCELO OCTAVIO ZEPEDA CORTEZ   \n",
       "2         2024-04-01  ...      MELLA              EDUARDO MELLA BERDU   \n",
       "3         2024-04-01  ...   AGUILERA  VERONICA ANDREA AGUILERA COLLAO   \n",
       "4         2024-04-01  ...     PUTNAM         CHRISTIAN PUTNAM VELANDO   \n",
       "5         2024-04-01  ...       POZO           LAURA CAROL POZO ARAYA   \n",
       "6         2024-04-01  ...       SOTO              JOAQUIN SOTO VARGAS   \n",
       "7         2024-04-02  ...    PERALTA              LUIS PERALTA CUEVAS   \n",
       "8         2024-04-02  ...  CONTRERAS            JAVIER CONTRERAS DIAZ   \n",
       "\n",
       "      poliza  p_relacion       rut2       rut1 p_sexo procesado  rut_empresa  \\\n",
       "0  340023115           1  121185490  121185490      1         0    760503010   \n",
       "1  340019950           1  126199791  126199791      1         0    967555908   \n",
       "2  340023068           1  126385048  126385048      1         0    969472805   \n",
       "3  340023033           1  157700073  157700073      1         0    767505604   \n",
       "4  340020275           1  219056893  219056893      1         0    651144221   \n",
       "5  340022932           1  126340435  126340435      2         0    651144221   \n",
       "6  340002446           1  198921319  198921319      1         0    969512807   \n",
       "7  340002976           1  157410075  157410075      1         0    651144221   \n",
       "8  340019001           1   94670667   94670667      1         0    96557400K   \n",
       "\n",
       "   version  \n",
       "0        1  \n",
       "1        1  \n",
       "2        1  \n",
       "3        1  \n",
       "4        1  \n",
       "5        1  \n",
       "6        1  \n",
       "7        1  \n",
       "8        1  \n",
       "\n",
       "[9 rows x 40 columns]"
      ]
     },
     "execution_count": 31,
     "metadata": {},
     "output_type": "execute_result"
    }
   ],
   "source": [
    "dertyd.head(9)"
   ]
  },
  {
   "cell_type": "code",
   "execution_count": 32,
   "metadata": {
    "notebookRunGroups": {
     "groupValue": "1"
    }
   },
   "outputs": [],
   "source": [
    "metlife_web = dertyd.copy()"
   ]
  },
  {
   "cell_type": "code",
   "execution_count": null,
   "metadata": {
    "notebookRunGroups": {
     "groupValue": ""
    }
   },
   "outputs": [],
   "source": [
    "metlife_web.head()\n",
    "metlife_web.shape"
   ]
  },
  {
   "cell_type": "code",
   "execution_count": 33,
   "metadata": {
    "notebookRunGroups": {
     "groupValue": "1"
    }
   },
   "outputs": [
    {
     "name": "stderr",
     "output_type": "stream",
     "text": [
      "C:\\Users\\jmartinez\\AppData\\Local\\Temp\\ipykernel_11804\\2932449918.py:10: FutureWarning: The default value of regex will change from True to False in a future version. In addition, single character regular expressions will *not* be treated as literal strings when regex=True.\n",
      "  metlife_web[\"rut1\"] = metlife_web[\"rut1\"].str.replace(\".\", \"\")\n",
      "C:\\Users\\jmartinez\\AppData\\Local\\Temp\\ipykernel_11804\\2932449918.py:20: FutureWarning: The default value of regex will change from True to False in a future version. In addition, single character regular expressions will *not* be treated as literal strings when regex=True.\n",
      "  metlife_web[\"rut2\"] = metlife_web[\"rut2\"].str.replace(\".\", \"\")\n",
      "C:\\Users\\jmartinez\\AppData\\Local\\Temp\\ipykernel_11804\\2932449918.py:26: FutureWarning: The default value of regex will change from True to False in a future version. In addition, single character regular expressions will *not* be treated as literal strings when regex=True.\n",
      "  metlife_web[\"Nombre\"] = metlife_web[\"Nombre\"].str.replace(\".\", \"\")\n"
     ]
    },
    {
     "data": {
      "text/plain": [
       "(5350, 41)"
      ]
     },
     "execution_count": 33,
     "metadata": {},
     "output_type": "execute_result"
    }
   ],
   "source": [
    "\n",
    "\n",
    "# nuevos = \"F:/Empresas SF/reportes/carga.xlsx\"\n",
    "\n",
    "\n",
    "\n",
    "metlife_web[\"rut1\"] = metlife_web[\"rut1\"].astype(str)\n",
    "#metlife_sftp[\"rut1\"] = metlife_sftp[\"rut1\"].apply(lambda y: siPrimerCero(y))\n",
    "metlife_web[\"rut1\"] = metlife_web[\"rut1\"].str.replace(\"-\", \"\")\n",
    "metlife_web[\"rut1\"] = metlife_web[\"rut1\"].str.replace(\"–\", \"\")\n",
    "metlife_web[\"rut1\"] = metlife_web[\"rut1\"].astype(str)\n",
    "metlife_web[\"rut1\"] = metlife_web[\"rut1\"].str.replace(\".\", \"\")\n",
    "metlife_web[\"rut1\"] = metlife_web[\"rut1\"].str.replace(\" \", \"\")\n",
    "metlife_web[\"rut1\"] = metlife_web[\"rut1\"].str.upper()\n",
    "metlife_web[\"rut1\"] = metlife_web[\"rut1\"].str.strip()\n",
    "\n",
    "metlife_web[\"rut2\"] = metlife_web[\"rut2\"].astype(str)\n",
    "#metlife_sftp[\"rut2\"] = metlife_sftp[\"rut2\"].apply(lambda y: siPrimerCero(y))\n",
    "metlife_web[\"rut2\"] = metlife_web[\"rut2\"].str.replace(\"-\", \"\")\n",
    "metlife_web[\"rut2\"] = metlife_web[\"rut2\"].str.replace(\"–\", \"\")\n",
    "metlife_web[\"rut2\"] = metlife_web[\"rut2\"].astype(str)\n",
    "metlife_web[\"rut2\"] = metlife_web[\"rut2\"].str.replace(\".\", \"\")\n",
    "metlife_web[\"rut2\"] = metlife_web[\"rut2\"].str.replace(\" \", \"\")\n",
    "metlife_web[\"rut2\"] = metlife_web[\"rut2\"].str.upper()\n",
    "metlife_web[\"rut2\"] = metlife_web[\"rut2\"].str.strip()\n",
    "\n",
    "metlife_web[\"Nombre\"] = metlife_web[\"Nombre\"].str.replace(\",\", \"\")\n",
    "metlife_web[\"Nombre\"] = metlife_web[\"Nombre\"].str.replace(\".\", \"\")\n",
    "metlife_web[\"Nombre\"] = metlife_web[\"Nombre\"].str.replace(\"-\", \"\")\n",
    "metlife_web[\"Nombre\"] = metlife_web[\"Nombre\"].str.replace(\"┐\", \"\")\n",
    "metlife_web[\"Nombre\"] = metlife_web[\"Nombre\"].str.replace(\"═\", \"\")\n",
    "metlife_web[\"Nombre\"] = metlife_web[\"Nombre\"].str.replace(\"╔\", \"\")\n",
    "metlife_web[\"Nombre\"] = metlife_web[\"Nombre\"].str.replace(\"┌\", \"\")\n",
    "metlife_web[\"Nombre\"] = metlife_web[\"Nombre\"].str.title()\n",
    "metlife_web[\"Nombre\"] = metlife_web[\"Nombre\"].str.strip()\n",
    "\n",
    "metlife_web[\"poliza\"] = metlife_web[\"poliza\"].astype(str)\n",
    "metlife_web[\"poliza\"] = metlife_web[\"poliza\"].str.strip()\n",
    "\n",
    "metlife_web[\"rut1\"] = metlife_web[\"rut1\"].apply(lambda y: siPrimerCero(y))\n",
    "metlife_web[\"rut2\"] = metlife_web[\"rut2\"].apply(lambda y: siPrimerCero(y))\n",
    "metlife_web = metlife_web[(metlife_web[\"rut1\"] != \"NONE\")]\n",
    "metlife_web = metlife_web[(metlife_web[\"rut2\"] != \"NONE\")]\n",
    "metlife_web.shape\n",
    "\n",
    "metlife_web[\"Titular\"] = np.where(metlife_web[\"rut1\"] == metlife_web[\"rut2\"],1,2 )\n",
    "metlife_web = metlife_web[(metlife_web[\"Titular\"] == 1)]\n",
    "\n",
    "metlife_web = metlife_web.drop_duplicates(\n",
    "    [\n",
    "        \"rut1\",\"poliza\"\n",
    "    ],\n",
    "    keep=\"last\",\n",
    ")\n",
    "\n",
    "\n",
    "#*******************sacar primer cero\n",
    "metlife_web.shape\n",
    "#derty = pd.read_excel(sftp)"
   ]
  },
  {
   "cell_type": "code",
   "execution_count": 34,
   "metadata": {
    "notebookRunGroups": {
     "groupValue": "1"
    }
   },
   "outputs": [
    {
     "name": "stderr",
     "output_type": "stream",
     "text": [
      "C:\\Users\\jmartinez\\AppData\\Local\\Temp\\ipykernel_11804\\3947619704.py:9: FutureWarning: The default value of regex will change from True to False in a future version. In addition, single character regular expressions will *not* be treated as literal strings when regex=True.\n",
      "  metlife_Q[\"rut1\"] = metlife_Q[\"rut1\"].str.replace(\".\", \"\")\n",
      "C:\\Users\\jmartinez\\AppData\\Local\\Temp\\ipykernel_11804\\3947619704.py:19: FutureWarning: The default value of regex will change from True to False in a future version. In addition, single character regular expressions will *not* be treated as literal strings when regex=True.\n",
      "  metlife_Q[\"rut2\"] = metlife_Q[\"rut2\"].str.replace(\".\", \"\")\n",
      "C:\\Users\\jmartinez\\AppData\\Local\\Temp\\ipykernel_11804\\3947619704.py:25: FutureWarning: The default value of regex will change from True to False in a future version. In addition, single character regular expressions will *not* be treated as literal strings when regex=True.\n",
      "  metlife_Q[\"Nombre\"] = metlife_Q[\"Nombre\"].str.replace(\".\", \"\")\n"
     ]
    },
    {
     "data": {
      "text/plain": [
       "(322399, 20)"
      ]
     },
     "execution_count": 34,
     "metadata": {},
     "output_type": "execute_result"
    }
   ],
   "source": [
    "webq = \"F:/2024/MetLife/\" + str(mesesDic[mes]) + año + \"/Subir/Q.xlsx\"\n",
    "metlife_Q = pd.read_excel(webq)\n",
    "\n",
    "metlife_Q[\"rut1\"] = metlife_Q[\"rut1\"].astype(str)\n",
    "#metlife_sftp[\"rut1\"] = metlife_sftp[\"rut1\"].apply(lambda y: siPrimerCero(y))\n",
    "metlife_Q[\"rut1\"] = metlife_Q[\"rut1\"].str.replace(\"-\", \"\")\n",
    "metlife_Q[\"rut1\"] = metlife_Q[\"rut1\"].str.replace(\"–\", \"\")\n",
    "metlife_Q[\"rut1\"] = metlife_Q[\"rut1\"].astype(str)\n",
    "metlife_Q[\"rut1\"] = metlife_Q[\"rut1\"].str.replace(\".\", \"\")\n",
    "metlife_Q[\"rut1\"] = metlife_Q[\"rut1\"].str.replace(\" \", \"\")\n",
    "metlife_Q[\"rut1\"] = metlife_Q[\"rut1\"].str.upper()\n",
    "metlife_Q[\"rut1\"] = metlife_Q[\"rut1\"].str.strip()\n",
    "\n",
    "metlife_Q[\"rut2\"] = metlife_Q[\"rut2\"].astype(str)\n",
    "#metlife_sftp[\"rut2\"] = metlife_sftp[\"rut2\"].apply(lambda y: siPrimerCero(y))\n",
    "metlife_Q[\"rut2\"] = metlife_Q[\"rut2\"].str.replace(\"-\", \"\")\n",
    "metlife_Q[\"rut2\"] = metlife_Q[\"rut2\"].str.replace(\"–\", \"\")\n",
    "metlife_Q[\"rut2\"] = metlife_Q[\"rut2\"].astype(str)\n",
    "metlife_Q[\"rut2\"] = metlife_Q[\"rut2\"].str.replace(\".\", \"\")\n",
    "metlife_Q[\"rut2\"] = metlife_Q[\"rut2\"].str.replace(\" \", \"\")\n",
    "metlife_Q[\"rut2\"] = metlife_Q[\"rut2\"].str.upper()\n",
    "metlife_Q[\"rut2\"] = metlife_Q[\"rut2\"].str.strip()\n",
    "\n",
    "metlife_Q[\"Nombre\"] = metlife_Q[\"Nombre\"].str.replace(\",\", \"\")\n",
    "metlife_Q[\"Nombre\"] = metlife_Q[\"Nombre\"].str.replace(\".\", \"\")\n",
    "metlife_Q[\"Nombre\"] = metlife_Q[\"Nombre\"].str.replace(\"-\", \"\")\n",
    "metlife_Q[\"Nombre\"] = metlife_Q[\"Nombre\"].str.replace(\"┐\", \"\")\n",
    "metlife_Q[\"Nombre\"] = metlife_Q[\"Nombre\"].str.replace(\"═\", \"\")\n",
    "metlife_Q[\"Nombre\"] = metlife_Q[\"Nombre\"].str.replace(\"╔\", \"\")\n",
    "metlife_Q[\"Nombre\"] = metlife_Q[\"Nombre\"].str.replace(\"┌\", \"\")\n",
    "metlife_Q[\"Nombre\"] = metlife_Q[\"Nombre\"].str.title()\n",
    "metlife_Q[\"Nombre\"] = metlife_Q[\"Nombre\"].str.strip()\n",
    "\n",
    "metlife_Q[\"poliza\"] = metlife_Q[\"poliza\"].astype(str)\n",
    "metlife_Q[\"poliza\"] = metlife_Q[\"poliza\"].str.strip()\n",
    "\n",
    "metlife_Q[\"rut1\"] = metlife_Q[\"rut1\"].apply(lambda y: siPrimerCero(y))\n",
    "metlife_Q[\"rut2\"] = metlife_Q[\"rut2\"].apply(lambda y: siPrimerCero(y))\n",
    "metlife_Q = metlife_Q[(metlife_Q[\"rut1\"] != \"NONE\")]\n",
    "metlife_Q = metlife_Q[(metlife_Q[\"rut2\"] != \"NONE\")]\n",
    "metlife_Q.shape\n",
    "\n",
    "metlife_Q[\"Titular\"] = np.where(metlife_Q[\"rut1\"] == metlife_Q[\"rut2\"],1,2 )\n",
    "metlife_Q = metlife_Q[(metlife_Q[\"Titular\"] == 1)]\n",
    "\n",
    "metlife_Q = metlife_Q.drop_duplicates(\n",
    "    [\n",
    "        \"rut1\",\"poliza\"\n",
    "    ],\n",
    "    keep=\"last\",\n",
    ")\n",
    "\n",
    "\n",
    "#*******************sacar primer cero\n",
    "metlife_Q.shape\n",
    "#derty = pd.read_excel(sftp)"
   ]
  },
  {
   "cell_type": "code",
   "execution_count": 35,
   "metadata": {
    "notebookRunGroups": {
     "groupValue": "1"
    }
   },
   "outputs": [
    {
     "data": {
      "text/html": [
       "<div><div id=73109778-0186-4cb2-afb3-6372bde36d29 style=\"display:none; background-color:#9D6CFF; color:white; width:200px; height:30px; padding-left:5px; border-radius:4px; flex-direction:row; justify-content:space-around; align-items:center;\" onmouseover=\"this.style.backgroundColor='#BA9BF8'\" onmouseout=\"this.style.backgroundColor='#9D6CFF'\" onclick=\"window.commands?.execute('create-mitosheet-from-dataframe-output');\">See Full Dataframe in Mito</div> <script> if (window.commands?.hasCommand('create-mitosheet-from-dataframe-output')) document.getElementById('73109778-0186-4cb2-afb3-6372bde36d29').style.display = 'flex' </script> <table border=\"1\" class=\"dataframe\">\n",
       "  <thead>\n",
       "    <tr style=\"text-align: right;\">\n",
       "      <th></th>\n",
       "      <th>poliza_rut</th>\n",
       "      <th>rut_rut</th>\n",
       "      <th>nombre_rut</th>\n",
       "      <th>mes_rut</th>\n",
       "      <th>año_rut</th>\n",
       "      <th>Llave</th>\n",
       "      <th>desde_rut</th>\n",
       "      <th>hasta_rut</th>\n",
       "      <th>canal_rut</th>\n",
       "      <th>fecha_rut</th>\n",
       "    </tr>\n",
       "  </thead>\n",
       "  <tbody>\n",
       "    <tr>\n",
       "      <th>229</th>\n",
       "      <td>340018911</td>\n",
       "      <td>169280029</td>\n",
       "      <td>Kimberly Ninosk Nuñez Sepulveda</td>\n",
       "      <td>5</td>\n",
       "      <td>2024</td>\n",
       "      <td>34001891116928002952024</td>\n",
       "      <td>2024-04-24 13:23:25</td>\n",
       "      <td>2024-04-24 13:23:25</td>\n",
       "      <td>web</td>\n",
       "      <td>2024-05-01</td>\n",
       "    </tr>\n",
       "    <tr>\n",
       "      <th>233</th>\n",
       "      <td>340018911</td>\n",
       "      <td>192720737</td>\n",
       "      <td>Ana Valeska Olivares Secan</td>\n",
       "      <td>5</td>\n",
       "      <td>2024</td>\n",
       "      <td>34001891119272073752024</td>\n",
       "      <td>2024-04-24 13:23:25</td>\n",
       "      <td>2024-04-24 13:23:25</td>\n",
       "      <td>web</td>\n",
       "      <td>2024-05-01</td>\n",
       "    </tr>\n",
       "    <tr>\n",
       "      <th>234</th>\n",
       "      <td>340018911</td>\n",
       "      <td>89324882</td>\n",
       "      <td>Hugo Antonio Saavedra Araya</td>\n",
       "      <td>5</td>\n",
       "      <td>2024</td>\n",
       "      <td>3400189118932488252024</td>\n",
       "      <td>2024-04-24 13:23:25</td>\n",
       "      <td>2024-04-24 13:23:25</td>\n",
       "      <td>web</td>\n",
       "      <td>2024-05-01</td>\n",
       "    </tr>\n",
       "    <tr>\n",
       "      <th>242</th>\n",
       "      <td>340018911</td>\n",
       "      <td>169744572</td>\n",
       "      <td>Diego Ivan Alvarez Castillo</td>\n",
       "      <td>5</td>\n",
       "      <td>2024</td>\n",
       "      <td>34001891116974457252024</td>\n",
       "      <td>2024-04-24 13:23:25</td>\n",
       "      <td>2024-04-24 13:23:25</td>\n",
       "      <td>web</td>\n",
       "      <td>2024-05-01</td>\n",
       "    </tr>\n",
       "    <tr>\n",
       "      <th>246</th>\n",
       "      <td>340018911</td>\n",
       "      <td>196852662</td>\n",
       "      <td>Pablo Esteban Diaz Jamett</td>\n",
       "      <td>5</td>\n",
       "      <td>2024</td>\n",
       "      <td>34001891119685266252024</td>\n",
       "      <td>2024-04-24 13:23:25</td>\n",
       "      <td>2024-04-24 13:23:25</td>\n",
       "      <td>web</td>\n",
       "      <td>2024-05-01</td>\n",
       "    </tr>\n",
       "  </tbody>\n",
       "</table></div>"
      ],
      "text/plain": [
       "    poliza_rut    rut_rut                       nombre_rut mes_rut año_rut  \\\n",
       "229  340018911  169280029  Kimberly Ninosk Nuñez Sepulveda       5    2024   \n",
       "233  340018911  192720737       Ana Valeska Olivares Secan       5    2024   \n",
       "234  340018911   89324882      Hugo Antonio Saavedra Araya       5    2024   \n",
       "242  340018911  169744572      Diego Ivan Alvarez Castillo       5    2024   \n",
       "246  340018911  196852662        Pablo Esteban Diaz Jamett       5    2024   \n",
       "\n",
       "                       Llave            desde_rut            hasta_rut  \\\n",
       "229  34001891116928002952024  2024-04-24 13:23:25  2024-04-24 13:23:25   \n",
       "233  34001891119272073752024  2024-04-24 13:23:25  2024-04-24 13:23:25   \n",
       "234   3400189118932488252024  2024-04-24 13:23:25  2024-04-24 13:23:25   \n",
       "242  34001891116974457252024  2024-04-24 13:23:25  2024-04-24 13:23:25   \n",
       "246  34001891119685266252024  2024-04-24 13:23:25  2024-04-24 13:23:25   \n",
       "\n",
       "    canal_rut  fecha_rut  \n",
       "229       web 2024-05-01  \n",
       "233       web 2024-05-01  \n",
       "234       web 2024-05-01  \n",
       "242       web 2024-05-01  \n",
       "246       web 2024-05-01  "
      ]
     },
     "execution_count": 35,
     "metadata": {},
     "output_type": "execute_result"
    }
   ],
   "source": [
    "subir_correo = pd.DataFrame()\n",
    "subir_correo[\"poliza_rut\"] = metlife_correo[\"poliza\"]\n",
    "subir_correo[\"rut_rut\"] = metlife_correo[\"rut1\"]\n",
    "subir_correo[\"nombre_rut\"] = metlife_correo[\"Nombre\"]\n",
    "subir_correo[\"mes_rut\"] = str(mes)\n",
    "subir_correo[\"año_rut\"] = str(año)\n",
    "#subir_correo[\"fecha_rut\"] = metlife_correo[\"fecha\"].apply(lambda y: fechaValida(y))\n",
    "subir_correo[\"Llave\"] = metlife_correo[\"poliza\"] + metlife_correo[\"rut1\"] + str(mes) + str(año)\n",
    "subir_correo[\"desde_rut\"] = metlife_correo[\"desde\"].apply(lambda y: fechaValida(y))\n",
    "subir_correo[\"hasta_rut\"] = metlife_correo[\"hasta\"].apply(lambda y: fechaValida(y))\n",
    "subir_correo[\"canal_rut\"] = \"email\"\n",
    "\n",
    "subir_sql = pd.DataFrame()\n",
    "subir_sql[\"poliza_rut\"] = metlife_sftp[\"poliza\"]\n",
    "subir_sql[\"rut_rut\"] = metlife_sftp[\"rut1\"]\n",
    "subir_sql[\"nombre_rut\"] = metlife_sftp[\"Nombre\"]\n",
    "subir_sql[\"mes_rut\"] = str(mes)\n",
    "subir_sql[\"año_rut\"] = str(año)\n",
    "#subir_sql[\"fecha_rut\"] = metlife_sftp[\"fecha\"].apply(lambda y: fechaValida(y))\n",
    "subir_sql[\"Llave\"] = metlife_sftp[\"poliza\"] + metlife_sftp[\"rut1\"] + str(mes) + str(año)\n",
    "subir_sql[\"desde_rut\"] = metlife_sftp[\"desde\"].apply(lambda y: fechaValida(y))\n",
    "subir_sql[\"hasta_rut\"] = metlife_sftp[\"hasta\"].apply(lambda y: fechaValida(y)) \n",
    "subir_sql[\"canal_rut\"] = \"sftp\"\n",
    "\n",
    "subir_web = pd.DataFrame()\n",
    "subir_web[\"poliza_rut\"] = metlife_web[\"poliza\"]\n",
    "subir_web[\"rut_rut\"] = metlife_web[\"rut1\"]\n",
    "subir_web[\"nombre_rut\"] = metlife_web[\"Nombre\"]\n",
    "subir_web[\"mes_rut\"] = str(mes)\n",
    "subir_web[\"año_rut\"] = str(año)\n",
    "#subir_web[\"fecha_rut\"] = metlife_web[\"fecha\"].apply(lambda y: fechaValida(y))\n",
    "subir_web[\"Llave\"] = metlife_web[\"poliza\"] + metlife_web[\"rut1\"] + str(mes) + str(año)\n",
    "subir_web[\"desde_rut\"] = metlife_web[\"desde\"].apply(lambda y: fechaValida(y))\n",
    "subir_web[\"hasta_rut\"] = metlife_web[\"hasta\"].apply(lambda y: fechaValida(y))\n",
    "subir_web[\"canal_rut\"] = \"web\"\n",
    "\n",
    "subir_Q = pd.DataFrame()\n",
    "subir_Q[\"poliza_rut\"] = metlife_Q[\"poliza\"]\n",
    "subir_Q[\"rut_rut\"] = metlife_Q[\"rut1\"]\n",
    "subir_Q[\"nombre_rut\"] = metlife_Q[\"Nombre\"]\n",
    "subir_Q[\"mes_rut\"] = str(mes)\n",
    "subir_Q[\"año_rut\"] = str(año)\n",
    "#subir_Q[\"fecha_rut\"] = metlife_Q[\"fecha\"].apply(lambda y: fechaValida(y))\n",
    "subir_Q[\"Llave\"] = metlife_Q[\"poliza\"] + metlife_web[\"rut1\"] + str(mes) + str(año)\n",
    "subir_Q[\"desde_rut\"] = metlife_Q[\"desde\"].apply(lambda y: fechaValida(y))\n",
    "subir_Q[\"hasta_rut\"] = metlife_Q[\"hasta\"].apply(lambda y: fechaValida(y))\n",
    "subir_Q[\"canal_rut\"] = \"correo2\"\n",
    "\n",
    "mes_metlife = pd.DataFrame()\n",
    "mes_metlife = pd.concat(\n",
    "    [\n",
    "        subir_web,\n",
    "        subir_sql,\n",
    "        subir_correo,\n",
    "        subir_Q,\n",
    "        \n",
    "    ],\n",
    "    axis=0,\n",
    ")\n",
    "mes_metlife[\"fecha_rut\"] = pd.to_datetime(fecha, yearfirst=True)\n",
    "\n",
    "mes_metlife = mes_metlife.drop_duplicates(\n",
    "    [\n",
    "        \"rut_rut\",\"poliza_rut\",\n",
    "    ],\n",
    "    keep=\"last\",\n",
    ")\n",
    "mes_metlife.head()"
   ]
  },
  {
   "cell_type": "markdown",
   "metadata": {},
   "source": [
    "//////////////////////////////////////////////////////////////////////////\n",
    "\n",
    "NUMERO RUTS POR POLIZA\n",
    "****************************************************************"
   ]
  },
  {
   "cell_type": "code",
   "execution_count": 36,
   "metadata": {
    "notebookRunGroups": {
     "groupValue": "1"
    }
   },
   "outputs": [
    {
     "name": "stdout",
     "output_type": "stream",
     "text": [
      "5-2024 429897\n"
     ]
    }
   ],
   "source": [
    "mes_metlife.shape\n",
    "print ( str(mes) + \"-\" + str(año) + \" \" + str(mes_metlife.shape[0]))"
   ]
  },
  {
   "cell_type": "markdown",
   "metadata": {},
   "source": [
    "////////////////////////////////////////////////\n",
    "\n",
    "NUMERO RUT UNICOS\n",
    "------------------------------------------------------------------------------------------------"
   ]
  },
  {
   "cell_type": "code",
   "execution_count": 37,
   "metadata": {
    "notebookRunGroups": {
     "groupValue": "1"
    }
   },
   "outputs": [
    {
     "name": "stdout",
     "output_type": "stream",
     "text": [
      "5-2024 330510\n"
     ]
    }
   ],
   "source": [
    "mes_metlife2 = mes_metlife.drop_duplicates(\n",
    "    [\n",
    "        \"rut_rut\"\n",
    "    ],\n",
    "    keep=\"last\",\n",
    ")\n",
    "mes_metlife2.shape\n",
    "print (str(mes) + \"-\" + str(año) + \" \" + str(mes_metlife2.shape[0]))"
   ]
  },
  {
   "cell_type": "code",
   "execution_count": 38,
   "metadata": {
    "notebookRunGroups": {
     "groupValue": "1"
    }
   },
   "outputs": [
    {
     "data": {
      "text/plain": [
       "(429897, 10)"
      ]
     },
     "execution_count": 38,
     "metadata": {},
     "output_type": "execute_result"
    }
   ],
   "source": [
    "#subir_web[\"Llave\"]\n",
    "mes_metlife[\"esta\"] =  mes_metlife[\"Llave\"].isin(rut_unico_tiempo_[\"Llave\"])\n",
    "mes_metlife = mes_metlife[(mes_metlife[\"esta\"] == False)]\n",
    "\n",
    "mes_metlife = mes_metlife[\n",
    "    [\n",
    "        \"poliza_rut\",\n",
    "        \"rut_rut\",\n",
    "        \"nombre_rut\",\n",
    "        \"mes_rut\",\n",
    "        \"año_rut\",\n",
    "        \"fecha_rut\",\n",
    "        \"Llave\",\n",
    "        \"desde_rut\",\n",
    "        \"hasta_rut\",\n",
    "        \"canal_rut\"\n",
    "    ]\n",
    "]\n",
    "mes_metlife.shape"
   ]
  },
  {
   "cell_type": "code",
   "execution_count": 39,
   "metadata": {
    "notebookRunGroups": {
     "groupValue": "1"
    }
   },
   "outputs": [
    {
     "data": {
      "text/plain": [
       "429897"
      ]
     },
     "execution_count": 39,
     "metadata": {},
     "output_type": "execute_result"
    }
   ],
   "source": [
    "mes_metlife.to_sql(\n",
    "    name=\"rut_unico_tiempo_2\",\n",
    "    con=motor_mysql_mariadb,\n",
    "    if_exists=\"append\",\n",
    "    index=False,\n",
    "    chunksize=10000,\n",
    ")"
   ]
  },
  {
   "cell_type": "code",
   "execution_count": 40,
   "metadata": {
    "notebookRunGroups": {
     "groupValue": "1"
    }
   },
   "outputs": [
    {
     "data": {
      "text/plain": [
       "(330510, 4)"
      ]
     },
     "execution_count": 40,
     "metadata": {},
     "output_type": "execute_result"
    }
   ],
   "source": [
    "subir_unicos = pd.DataFrame()\n",
    "subir_unicos[\"Rut_T\"] = mes_metlife2[\"rut_rut\"]\n",
    "subir_unicos[\"Rut_C\"] = mes_metlife2[\"rut_rut\"]\n",
    "subir_unicos[\"Nombre\"] = mes_metlife2[\"nombre_rut\"]\n",
    "subir_unicos[\"Llave\"] = mes_metlife2[\"rut_rut\"] +  mes_metlife2[\"rut_rut\"]\n",
    "\n",
    "\n",
    "subir_unicos.shape"
   ]
  },
  {
   "cell_type": "code",
   "execution_count": 41,
   "metadata": {
    "notebookRunGroups": {
     "groupValue": "1"
    }
   },
   "outputs": [
    {
     "data": {
      "text/plain": [
       "7038"
      ]
     },
     "execution_count": 41,
     "metadata": {},
     "output_type": "execute_result"
    }
   ],
   "source": [
    "subir_unicos[\"esta\"] =  subir_unicos[\"Rut_T\"].isin(rut_unicos[\"Rut_T\"])\n",
    "subir_unicos = subir_unicos[(subir_unicos[\"esta\"] == False)]\n",
    "\n",
    "subir_unicos = subir_unicos[\n",
    "    [\n",
    "        \"Rut_T\",\n",
    "        \"Rut_C\",\n",
    "        \"Nombre\",\n",
    "        \"Llave\",\n",
    "    ]\n",
    "]\n",
    "subir_unicos.shape\n",
    "subir_unicos.to_sql(\n",
    "    name=\"rut_unicos\",\n",
    "    con=motor_mysql_mariadb,\n",
    "    if_exists=\"append\",\n",
    "    index=False,\n",
    "    chunksize=10000,\n",
    ")"
   ]
  },
  {
   "cell_type": "code",
   "execution_count": 45,
   "metadata": {},
   "outputs": [],
   "source": [
    "sftp = \"F:/2024/MetLife/metlife_analisis_mayo2024.xlsx\"\n",
    "resultado = pd.read_excel(sftp)"
   ]
  },
  {
   "cell_type": "code",
   "execution_count": 46,
   "metadata": {},
   "outputs": [
    {
     "data": {
      "text/plain": [
       "(322401, 19)"
      ]
     },
     "execution_count": 46,
     "metadata": {},
     "output_type": "execute_result"
    }
   ],
   "source": [
    "resultado.shape"
   ]
  },
  {
   "cell_type": "code",
   "execution_count": 44,
   "metadata": {},
   "outputs": [
    {
     "data": {
      "text/plain": [
       "(515659, 5)"
      ]
     },
     "execution_count": 44,
     "metadata": {},
     "output_type": "execute_result"
    }
   ],
   "source": [
    "rut_unicos.shape"
   ]
  },
  {
   "cell_type": "code",
   "execution_count": 47,
   "metadata": {},
   "outputs": [],
   "source": [
    "rut_unicos[\"esta\"] =  rut_unicos[\"Rut_T\"].isin(resultado[\"rut2\"])"
   ]
  },
  {
   "cell_type": "code",
   "execution_count": 10,
   "metadata": {},
   "outputs": [
    {
     "data": {
      "text/html": [
       "<div><div id=a06ab6af-5f67-4427-a64d-bccb3796e475 style=\"display:none; background-color:#9D6CFF; color:white; width:200px; height:30px; padding-left:5px; border-radius:4px; flex-direction:row; justify-content:space-around; align-items:center;\" onmouseover=\"this.style.backgroundColor='#BA9BF8'\" onmouseout=\"this.style.backgroundColor='#9D6CFF'\" onclick=\"window.commands?.execute('create-mitosheet-from-dataframe-output');\">See Full Dataframe in Mito</div> <script> if (window.commands?.hasCommand('create-mitosheet-from-dataframe-output')) document.getElementById('a06ab6af-5f67-4427-a64d-bccb3796e475').style.display = 'flex' </script> <table border=\"1\" class=\"dataframe\">\n",
       "  <thead>\n",
       "    <tr style=\"text-align: right;\">\n",
       "      <th></th>\n",
       "      <th>poliza</th>\n",
       "      <th>RUTASEGURADO</th>\n",
       "      <th>DVASEGURADO</th>\n",
       "      <th>rut2</th>\n",
       "      <th>RUTBENEFICIARIO</th>\n",
       "      <th>DVBENEFICIARIO</th>\n",
       "      <th>rut1</th>\n",
       "      <th>sdfsdfdsf</th>\n",
       "      <th>Unnamed: 8</th>\n",
       "      <th>RUTBENEFIARIO_DV</th>\n",
       "      <th>...</th>\n",
       "      <th>CIUDAD</th>\n",
       "      <th>TELEFONO</th>\n",
       "      <th>RELACION</th>\n",
       "      <th>desde</th>\n",
       "      <th>hasta</th>\n",
       "      <th>Nombre</th>\n",
       "      <th>TITULAR</th>\n",
       "      <th>EMAIL</th>\n",
       "      <th>CELULAR</th>\n",
       "      <th>VIGENCIA_HASTA</th>\n",
       "    </tr>\n",
       "  </thead>\n",
       "  <tbody>\n",
       "    <tr>\n",
       "      <th>0</th>\n",
       "      <td>340023670</td>\n",
       "      <td>18434052</td>\n",
       "      <td>6</td>\n",
       "      <td>184340526</td>\n",
       "      <td>18434052</td>\n",
       "      <td>6</td>\n",
       "      <td>184340526</td>\n",
       "      <td>1</td>\n",
       "      <td>184340526</td>\n",
       "      <td>6</td>\n",
       "      <td>...</td>\n",
       "      <td>NaN</td>\n",
       "      <td>NaN</td>\n",
       "      <td>AS</td>\n",
       "      <td>2023-01-01</td>\n",
       "      <td>NaT</td>\n",
       "      <td>Riquelme Arias Juan Alejandro</td>\n",
       "      <td>Riquelme Arias Juan Alejandro</td>\n",
       "      <td>NaN</td>\n",
       "      <td>NaN</td>\n",
       "      <td>45657.0</td>\n",
       "    </tr>\n",
       "    <tr>\n",
       "      <th>1</th>\n",
       "      <td>340022020</td>\n",
       "      <td>18066094</td>\n",
       "      <td>1</td>\n",
       "      <td>180660941</td>\n",
       "      <td>18066094</td>\n",
       "      <td>1</td>\n",
       "      <td>180660941</td>\n",
       "      <td>1</td>\n",
       "      <td>180660941</td>\n",
       "      <td>1</td>\n",
       "      <td>...</td>\n",
       "      <td>SANTIAGO</td>\n",
       "      <td>NaN</td>\n",
       "      <td>AS</td>\n",
       "      <td>2022-08-01</td>\n",
       "      <td>NaT</td>\n",
       "      <td>Zepeda Hernandez Constanza Andrea</td>\n",
       "      <td>Zepeda Hernandez Constanza Andrea</td>\n",
       "      <td>CONSTANZA_ZEPEDA@LIVE.CL</td>\n",
       "      <td>979949391</td>\n",
       "      <td>45596.0</td>\n",
       "    </tr>\n",
       "    <tr>\n",
       "      <th>2</th>\n",
       "      <td>340002458</td>\n",
       "      <td>17085671</td>\n",
       "      <td>6</td>\n",
       "      <td>170856716</td>\n",
       "      <td>17085671</td>\n",
       "      <td>6</td>\n",
       "      <td>170856716</td>\n",
       "      <td>1</td>\n",
       "      <td>170856716</td>\n",
       "      <td>6</td>\n",
       "      <td>...</td>\n",
       "      <td>SANTIAGO</td>\n",
       "      <td>NaN</td>\n",
       "      <td>AS</td>\n",
       "      <td>2023-09-01</td>\n",
       "      <td>NaT</td>\n",
       "      <td>Sandoval Salinas Jose Pablo</td>\n",
       "      <td>Sandoval Salinas Jose Pablo</td>\n",
       "      <td>jose.sandoval@latam.com</td>\n",
       "      <td>976093700</td>\n",
       "      <td>45504.0</td>\n",
       "    </tr>\n",
       "    <tr>\n",
       "      <th>3</th>\n",
       "      <td>340022865</td>\n",
       "      <td>16097460</td>\n",
       "      <td>5</td>\n",
       "      <td>160974605</td>\n",
       "      <td>16097460</td>\n",
       "      <td>5</td>\n",
       "      <td>160974605</td>\n",
       "      <td>1</td>\n",
       "      <td>160974605</td>\n",
       "      <td>5</td>\n",
       "      <td>...</td>\n",
       "      <td>NaN</td>\n",
       "      <td>NaN</td>\n",
       "      <td>AS</td>\n",
       "      <td>2022-12-01</td>\n",
       "      <td>NaT</td>\n",
       "      <td>Espinoza Orostica Maximiliano Ricardo</td>\n",
       "      <td>Espinoza Orostica Maximiliano Ricardo</td>\n",
       "      <td>THE.OROSTICA@GMAIL.COM</td>\n",
       "      <td>965970153</td>\n",
       "      <td>45626.0</td>\n",
       "    </tr>\n",
       "    <tr>\n",
       "      <th>4</th>\n",
       "      <td>340023194</td>\n",
       "      <td>8563527</td>\n",
       "      <td>1</td>\n",
       "      <td>85635271</td>\n",
       "      <td>8563527</td>\n",
       "      <td>1</td>\n",
       "      <td>85635271</td>\n",
       "      <td>1</td>\n",
       "      <td>85635271</td>\n",
       "      <td>1</td>\n",
       "      <td>...</td>\n",
       "      <td>NaN</td>\n",
       "      <td>56940214308</td>\n",
       "      <td>AS</td>\n",
       "      <td>2023-01-01</td>\n",
       "      <td>NaT</td>\n",
       "      <td>Perez Cifuentes Domingo Luis</td>\n",
       "      <td>Perez Cifuentes Domingo Luis</td>\n",
       "      <td>dperezxtreme@gmail.com</td>\n",
       "      <td>40214308</td>\n",
       "      <td>45657.0</td>\n",
       "    </tr>\n",
       "  </tbody>\n",
       "</table></div>"
      ],
      "text/plain": [
       "      poliza  RUTASEGURADO DVASEGURADO       rut2  RUTBENEFICIARIO  \\\n",
       "0  340023670      18434052           6  184340526         18434052   \n",
       "1  340022020      18066094           1  180660941         18066094   \n",
       "2  340002458      17085671           6  170856716         17085671   \n",
       "3  340022865      16097460           5  160974605         16097460   \n",
       "4  340023194       8563527           1   85635271          8563527   \n",
       "\n",
       "  DVBENEFICIARIO       rut1  sdfsdfdsf Unnamed: 8 RUTBENEFIARIO_DV  ...  \\\n",
       "0              6  184340526          1  184340526                6  ...   \n",
       "1              1  180660941          1  180660941                1  ...   \n",
       "2              6  170856716          1  170856716                6  ...   \n",
       "3              5  160974605          1  160974605                5  ...   \n",
       "4              1   85635271          1   85635271                1  ...   \n",
       "\n",
       "     CIUDAD     TELEFONO RELACION      desde hasta  \\\n",
       "0       NaN          NaN       AS 2023-01-01   NaT   \n",
       "1  SANTIAGO          NaN       AS 2022-08-01   NaT   \n",
       "2  SANTIAGO          NaN       AS 2023-09-01   NaT   \n",
       "3       NaN          NaN       AS 2022-12-01   NaT   \n",
       "4       NaN  56940214308       AS 2023-01-01   NaT   \n",
       "\n",
       "                                  Nombre  \\\n",
       "0          Riquelme Arias Juan Alejandro   \n",
       "1      Zepeda Hernandez Constanza Andrea   \n",
       "2            Sandoval Salinas Jose Pablo   \n",
       "3  Espinoza Orostica Maximiliano Ricardo   \n",
       "4           Perez Cifuentes Domingo Luis   \n",
       "\n",
       "                                 TITULAR                     EMAIL    CELULAR  \\\n",
       "0          Riquelme Arias Juan Alejandro                       NaN        NaN   \n",
       "1      Zepeda Hernandez Constanza Andrea  CONSTANZA_ZEPEDA@LIVE.CL  979949391   \n",
       "2            Sandoval Salinas Jose Pablo   jose.sandoval@latam.com  976093700   \n",
       "3  Espinoza Orostica Maximiliano Ricardo    THE.OROSTICA@GMAIL.COM  965970153   \n",
       "4           Perez Cifuentes Domingo Luis    dperezxtreme@gmail.com   40214308   \n",
       "\n",
       "  VIGENCIA_HASTA  \n",
       "0        45657.0  \n",
       "1        45596.0  \n",
       "2        45504.0  \n",
       "3        45626.0  \n",
       "4        45657.0  \n",
       "\n",
       "[5 rows x 24 columns]"
      ]
     },
     "execution_count": 10,
     "metadata": {},
     "output_type": "execute_result"
    }
   ],
   "source": [
    "resultado.head()"
   ]
  },
  {
   "cell_type": "code",
   "execution_count": 48,
   "metadata": {},
   "outputs": [
    {
     "data": {
      "text/html": [
       "<div><div id=c1516097-a38d-4a6a-80f5-988b32ba1fd6 style=\"display:none; background-color:#9D6CFF; color:white; width:200px; height:30px; padding-left:5px; border-radius:4px; flex-direction:row; justify-content:space-around; align-items:center;\" onmouseover=\"this.style.backgroundColor='#BA9BF8'\" onmouseout=\"this.style.backgroundColor='#9D6CFF'\" onclick=\"window.commands?.execute('create-mitosheet-from-dataframe-output');\">See Full Dataframe in Mito</div> <script> if (window.commands?.hasCommand('create-mitosheet-from-dataframe-output')) document.getElementById('c1516097-a38d-4a6a-80f5-988b32ba1fd6').style.display = 'flex' </script> <table border=\"1\" class=\"dataframe\">\n",
       "  <thead>\n",
       "    <tr style=\"text-align: right;\">\n",
       "      <th></th>\n",
       "      <th>Id</th>\n",
       "      <th>Rut_T</th>\n",
       "      <th>Rut_C</th>\n",
       "      <th>Nombre</th>\n",
       "      <th>Llave</th>\n",
       "      <th>esta</th>\n",
       "    </tr>\n",
       "  </thead>\n",
       "  <tbody>\n",
       "    <tr>\n",
       "      <th>0</th>\n",
       "      <td>1</td>\n",
       "      <td>209848961</td>\n",
       "      <td>209848961</td>\n",
       "      <td>Martina Isidora Sanhueza Almendra</td>\n",
       "      <td>209848961209848961</td>\n",
       "      <td>False</td>\n",
       "    </tr>\n",
       "    <tr>\n",
       "      <th>1</th>\n",
       "      <td>2</td>\n",
       "      <td>159079465</td>\n",
       "      <td>159079465</td>\n",
       "      <td>Jose Gonzalez Espinoza</td>\n",
       "      <td>159079465159079465</td>\n",
       "      <td>True</td>\n",
       "    </tr>\n",
       "    <tr>\n",
       "      <th>2</th>\n",
       "      <td>3</td>\n",
       "      <td>156070432</td>\n",
       "      <td>156070432</td>\n",
       "      <td>Pablo Cesar Aguirre Rodriguez</td>\n",
       "      <td>156070432156070432</td>\n",
       "      <td>False</td>\n",
       "    </tr>\n",
       "    <tr>\n",
       "      <th>3</th>\n",
       "      <td>4</td>\n",
       "      <td>153257450</td>\n",
       "      <td>153257450</td>\n",
       "      <td>Daniel Andre Valdes Jimenez</td>\n",
       "      <td>153257450153257450</td>\n",
       "      <td>False</td>\n",
       "    </tr>\n",
       "    <tr>\n",
       "      <th>4</th>\n",
       "      <td>5</td>\n",
       "      <td>155558571</td>\n",
       "      <td>155558571</td>\n",
       "      <td>Danilo Enrique Santis Barrera</td>\n",
       "      <td>155558571155558571</td>\n",
       "      <td>False</td>\n",
       "    </tr>\n",
       "  </tbody>\n",
       "</table></div>"
      ],
      "text/plain": [
       "   Id      Rut_T      Rut_C                             Nombre  \\\n",
       "0   1  209848961  209848961  Martina Isidora Sanhueza Almendra   \n",
       "1   2  159079465  159079465             Jose Gonzalez Espinoza   \n",
       "2   3  156070432  156070432      Pablo Cesar Aguirre Rodriguez   \n",
       "3   4  153257450  153257450        Daniel Andre Valdes Jimenez   \n",
       "4   5  155558571  155558571      Danilo Enrique Santis Barrera   \n",
       "\n",
       "                Llave   esta  \n",
       "0  209848961209848961  False  \n",
       "1  159079465159079465   True  \n",
       "2  156070432156070432  False  \n",
       "3  153257450153257450  False  \n",
       "4  155558571155558571  False  "
      ]
     },
     "execution_count": 48,
     "metadata": {},
     "output_type": "execute_result"
    }
   ],
   "source": [
    "rut_unicos.head()"
   ]
  },
  {
   "cell_type": "code",
   "execution_count": 50,
   "metadata": {},
   "outputs": [
    {
     "data": {
      "text/plain": [
       "(193260, 6)"
      ]
     },
     "execution_count": 50,
     "metadata": {},
     "output_type": "execute_result"
    }
   ],
   "source": [
    "#subir_unicos = subir_unicos[(subir_unicos[\"esta\"] == False)]\n",
    "rut_unico_tiempo_11 = rut_unicos[(rut_unicos[\"esta\"]==False)]\n",
    "#rut_unico_tiempo_11[\"rutsin\"] = rut_unico_tiempo_11[\"Rut_C\"].apply(lambda y: sacarultimo(y))\n",
    "#rut_unico_tiempo_11 = rut_unico_tiempo_11[(rut_unico_tiempo_11[\"rutsin\"]!=rut_unico_tiempo_11[\"Rut_C\"])]\n",
    "#rut_unico_tiempo_11[\"esta2\"] =  rut_unico_tiempo_11[\"rutsin\"].isin(rut_unico_tiempo_11[\"Rut_T\"])\n",
    "rut_unico_tiempo_11.shape"
   ]
  },
  {
   "cell_type": "code",
   "execution_count": 13,
   "metadata": {},
   "outputs": [
    {
     "name": "stderr",
     "output_type": "stream",
     "text": [
      "C:\\Users\\jmartinez\\AppData\\Local\\Temp\\ipykernel_6844\\105263036.py:2: SettingWithCopyWarning: \n",
      "A value is trying to be set on a copy of a slice from a DataFrame.\n",
      "Try using .loc[row_indexer,col_indexer] = value instead\n",
      "\n",
      "See the caveats in the documentation: https://pandas.pydata.org/pandas-docs/stable/user_guide/indexing.html#returning-a-view-versus-a-copy\n",
      "  rut_unico_tiempo_11[\"rutsin\"] = rut_unico_tiempo_11[\"Rut_C\"].apply(lambda y: sacarultimo(y))\n"
     ]
    }
   ],
   "source": [
    "rut_unico_tiempo_11 = rut_unicos[(rut_unicos[\"esta\"]==False)]\n",
    "#rut_unico_tiempo_11[\"rutsin\"] = rut_unico_tiempo_11[\"Rut_C\"].apply(lambda y: sacarultimo(y))\n",
    "#rut_unico_tiempo_11 = rut_unico_tiempo_11[(rut_unico_tiempo_11[\"rutsin\"]!=rut_unico_tiempo_11[\"Rut_C\"])]\n",
    "rut_unico_tiempo_11[\"esta2\"] =  rut_unico_tiempo_11[\"Rut_T\"].isin(rut_unico_tiempo_11[\"rutsin\"])\n",
    "rut_unico_tiempo_11 = rut_unico_tiempo_11[(rut_unico_tiempo_11[\"esta2\"]==False)]"
   ]
  },
  {
   "cell_type": "code",
   "execution_count": 32,
   "metadata": {},
   "outputs": [
    {
     "data": {
      "text/plain": [
       "(9528, 8)"
      ]
     },
     "execution_count": 32,
     "metadata": {},
     "output_type": "execute_result"
    }
   ],
   "source": [
    "rut_unico_tiempo_12.shape"
   ]
  },
  {
   "cell_type": "code",
   "execution_count": 31,
   "metadata": {},
   "outputs": [],
   "source": [
    "rut_unico_tiempo_12 = rut_unico_tiempo_11[(rut_unico_tiempo_11[\"esta2\"]==True)]"
   ]
  },
  {
   "cell_type": "code",
   "execution_count": 21,
   "metadata": {},
   "outputs": [
    {
     "name": "stderr",
     "output_type": "stream",
     "text": [
      "C:\\Users\\jmartinez\\AppData\\Local\\Temp\\ipykernel_6844\\1837957522.py:1: SettingWithCopyWarning: \n",
      "A value is trying to be set on a copy of a slice from a DataFrame.\n",
      "Try using .loc[row_indexer,col_indexer] = value instead\n",
      "\n",
      "See the caveats in the documentation: https://pandas.pydata.org/pandas-docs/stable/user_guide/indexing.html#returning-a-view-versus-a-copy\n",
      "  rut_unico_tiempo_11[\"rutsin\"] = rut_unicos[\"Rut_C\"].apply(lambda y: sacarultimo(y))\n",
      "C:\\Users\\jmartinez\\AppData\\Local\\Temp\\ipykernel_6844\\1837957522.py:3: SettingWithCopyWarning: \n",
      "A value is trying to be set on a copy of a slice from a DataFrame.\n",
      "Try using .loc[row_indexer,col_indexer] = value instead\n",
      "\n",
      "See the caveats in the documentation: https://pandas.pydata.org/pandas-docs/stable/user_guide/indexing.html#returning-a-view-versus-a-copy\n",
      "  rut_unico_tiempo_11[\"esta2\"] =  rut_unico_tiempo_11[\"Rut_T\"].isin(rut_unico_tiempo_11[\"rutsin\"])\n"
     ]
    }
   ],
   "source": [
    "rut_unico_tiempo_11[\"rutsin\"] = rut_unicos[\"Rut_C\"].apply(lambda y: sacarultimo(y))\n",
    "#rut_unico_tiempo_11 = rut_unico_tiempo_11[(rut_unico_tiempo_11[\"rutsin\"]!=rut_unico_tiempo_11[\"Rut_C\"])]\n",
    "rut_unico_tiempo_11[\"esta2\"] =  rut_unico_tiempo_11[\"Rut_T\"].isin(rut_unico_tiempo_11[\"rutsin\"])"
   ]
  },
  {
   "cell_type": "code",
   "execution_count": null,
   "metadata": {},
   "outputs": [],
   "source": [
    "rut_unico_tiempo_11.head()"
   ]
  },
  {
   "cell_type": "code",
   "execution_count": 23,
   "metadata": {},
   "outputs": [],
   "source": [
    "\n",
    "resultado.to_excel(\"F:/2024/MetLife/demases_poliza0.xlsx\", index=False)"
   ]
  },
  {
   "cell_type": "code",
   "execution_count": 13,
   "metadata": {},
   "outputs": [],
   "source": [
    "sftp = \"F:/2024/MetLife/demases.xlsx\"\n",
    "resultado = pd.read_excel(sftp)"
   ]
  },
  {
   "cell_type": "code",
   "execution_count": 17,
   "metadata": {},
   "outputs": [
    {
     "data": {
      "text/html": [
       "<div><div id=4786d8b6-71c0-479f-a297-4e39874bea52 style=\"display:none; background-color:#9D6CFF; color:white; width:200px; height:30px; padding-left:5px; border-radius:4px; flex-direction:row; justify-content:space-around; align-items:center;\" onmouseover=\"this.style.backgroundColor='#BA9BF8'\" onmouseout=\"this.style.backgroundColor='#9D6CFF'\" onclick=\"window.commands?.execute('create-mitosheet-from-dataframe-output');\">See Full Dataframe in Mito</div> <script> if (window.commands?.hasCommand('create-mitosheet-from-dataframe-output')) document.getElementById('4786d8b6-71c0-479f-a297-4e39874bea52').style.display = 'flex' </script> <table border=\"1\" class=\"dataframe\">\n",
       "  <thead>\n",
       "    <tr style=\"text-align: right;\">\n",
       "      <th></th>\n",
       "      <th>Rut_T</th>\n",
       "      <th>Rut_C</th>\n",
       "      <th>Nombre</th>\n",
       "      <th>Llave</th>\n",
       "      <th>esta</th>\n",
       "      <th>zxczx</th>\n",
       "    </tr>\n",
       "  </thead>\n",
       "  <tbody>\n",
       "    <tr>\n",
       "      <th>0</th>\n",
       "      <td>209848961</td>\n",
       "      <td>209848961</td>\n",
       "      <td>Martina Isidora Sanhueza Almendra</td>\n",
       "      <td>209848961209848961</td>\n",
       "      <td>False</td>\n",
       "      <td>NO</td>\n",
       "    </tr>\n",
       "    <tr>\n",
       "      <th>1</th>\n",
       "      <td>156070432</td>\n",
       "      <td>156070432</td>\n",
       "      <td>Pablo Cesar Aguirre Rodriguez</td>\n",
       "      <td>156070432156070432</td>\n",
       "      <td>False</td>\n",
       "      <td>NO</td>\n",
       "    </tr>\n",
       "    <tr>\n",
       "      <th>2</th>\n",
       "      <td>153257450</td>\n",
       "      <td>153257450</td>\n",
       "      <td>Daniel Andre Valdes Jimenez</td>\n",
       "      <td>153257450153257450</td>\n",
       "      <td>False</td>\n",
       "      <td>NO</td>\n",
       "    </tr>\n",
       "    <tr>\n",
       "      <th>3</th>\n",
       "      <td>155558571</td>\n",
       "      <td>155558571</td>\n",
       "      <td>Danilo Enrique Santis Barrera</td>\n",
       "      <td>155558571155558571</td>\n",
       "      <td>False</td>\n",
       "      <td>NO</td>\n",
       "    </tr>\n",
       "    <tr>\n",
       "      <th>4</th>\n",
       "      <td>193277365</td>\n",
       "      <td>193277365</td>\n",
       "      <td>Alejandro Jesus Alvarez Pacheco</td>\n",
       "      <td>193277365193277365</td>\n",
       "      <td>False</td>\n",
       "      <td>NO</td>\n",
       "    </tr>\n",
       "  </tbody>\n",
       "</table></div>"
      ],
      "text/plain": [
       "       Rut_T      Rut_C                             Nombre  \\\n",
       "0  209848961  209848961  Martina Isidora Sanhueza Almendra   \n",
       "1  156070432  156070432      Pablo Cesar Aguirre Rodriguez   \n",
       "2  153257450  153257450        Daniel Andre Valdes Jimenez   \n",
       "3  155558571  155558571      Danilo Enrique Santis Barrera   \n",
       "4  193277365  193277365    Alejandro Jesus Alvarez Pacheco   \n",
       "\n",
       "                Llave   esta zxczx  \n",
       "0  209848961209848961  False    NO  \n",
       "1  156070432156070432  False    NO  \n",
       "2  153257450153257450  False    NO  \n",
       "3  155558571155558571  False    NO  \n",
       "4  193277365193277365  False    NO  "
      ]
     },
     "execution_count": 17,
     "metadata": {},
     "output_type": "execute_result"
    }
   ],
   "source": [
    "resultado.head()"
   ]
  },
  {
   "cell_type": "code",
   "execution_count": 14,
   "metadata": {},
   "outputs": [
    {
     "data": {
      "text/html": [
       "<div><div id=c4d3640e-9b3e-42dc-97bc-842f9589ff19 style=\"display:none; background-color:#9D6CFF; color:white; width:200px; height:30px; padding-left:5px; border-radius:4px; flex-direction:row; justify-content:space-around; align-items:center;\" onmouseover=\"this.style.backgroundColor='#BA9BF8'\" onmouseout=\"this.style.backgroundColor='#9D6CFF'\" onclick=\"window.commands?.execute('create-mitosheet-from-dataframe-output');\">See Full Dataframe in Mito</div> <script> if (window.commands?.hasCommand('create-mitosheet-from-dataframe-output')) document.getElementById('c4d3640e-9b3e-42dc-97bc-842f9589ff19').style.display = 'flex' </script> <table border=\"1\" class=\"dataframe\">\n",
       "  <thead>\n",
       "    <tr style=\"text-align: right;\">\n",
       "      <th></th>\n",
       "      <th>Id</th>\n",
       "      <th>poliza_rut</th>\n",
       "      <th>rut_rut</th>\n",
       "      <th>nombre_rut</th>\n",
       "      <th>mes_rut</th>\n",
       "      <th>año_rut</th>\n",
       "      <th>fecha_rut</th>\n",
       "      <th>Llave</th>\n",
       "      <th>desde_rut</th>\n",
       "      <th>hasta_rut</th>\n",
       "      <th>canal_rut</th>\n",
       "    </tr>\n",
       "  </thead>\n",
       "  <tbody>\n",
       "    <tr>\n",
       "      <th>0</th>\n",
       "      <td>1</td>\n",
       "      <td>340023027</td>\n",
       "      <td>178055399</td>\n",
       "      <td>Carlos Humberto Araya Jofre</td>\n",
       "      <td>1</td>\n",
       "      <td>2023</td>\n",
       "      <td>2023-01-01</td>\n",
       "      <td>34002302717805539912023</td>\n",
       "      <td>2024-03-25</td>\n",
       "      <td>2024-03-25</td>\n",
       "      <td>web</td>\n",
       "    </tr>\n",
       "    <tr>\n",
       "      <th>1</th>\n",
       "      <td>2</td>\n",
       "      <td>340002436</td>\n",
       "      <td>186177908</td>\n",
       "      <td>Nicolas Cisternas Moreno</td>\n",
       "      <td>1</td>\n",
       "      <td>2023</td>\n",
       "      <td>2023-01-01</td>\n",
       "      <td>34000243618617790812023</td>\n",
       "      <td>2024-03-25</td>\n",
       "      <td>2024-03-25</td>\n",
       "      <td>web</td>\n",
       "    </tr>\n",
       "    <tr>\n",
       "      <th>2</th>\n",
       "      <td>3</td>\n",
       "      <td>340022737</td>\n",
       "      <td>105796234</td>\n",
       "      <td>Pamela Alejandr Tillemann Munoz</td>\n",
       "      <td>1</td>\n",
       "      <td>2023</td>\n",
       "      <td>2023-01-01</td>\n",
       "      <td>34002273710579623412023</td>\n",
       "      <td>2024-03-25</td>\n",
       "      <td>2024-03-25</td>\n",
       "      <td>web</td>\n",
       "    </tr>\n",
       "    <tr>\n",
       "      <th>3</th>\n",
       "      <td>4</td>\n",
       "      <td>340023173</td>\n",
       "      <td>168497261</td>\n",
       "      <td>Pablo Alberto Fredes Fredes</td>\n",
       "      <td>1</td>\n",
       "      <td>2023</td>\n",
       "      <td>2023-01-01</td>\n",
       "      <td>34002317316849726112023</td>\n",
       "      <td>2024-03-25</td>\n",
       "      <td>2024-03-25</td>\n",
       "      <td>web</td>\n",
       "    </tr>\n",
       "    <tr>\n",
       "      <th>4</th>\n",
       "      <td>5</td>\n",
       "      <td>340004285</td>\n",
       "      <td>108120045</td>\n",
       "      <td>Rodrigo Alejand Briones Urrutia</td>\n",
       "      <td>1</td>\n",
       "      <td>2023</td>\n",
       "      <td>2023-01-01</td>\n",
       "      <td>34000428510812004512023</td>\n",
       "      <td>2024-03-25</td>\n",
       "      <td>2024-03-25</td>\n",
       "      <td>web</td>\n",
       "    </tr>\n",
       "  </tbody>\n",
       "</table></div>"
      ],
      "text/plain": [
       "   Id poliza_rut    rut_rut                       nombre_rut mes_rut año_rut  \\\n",
       "0   1  340023027  178055399      Carlos Humberto Araya Jofre       1    2023   \n",
       "1   2  340002436  186177908         Nicolas Cisternas Moreno       1    2023   \n",
       "2   3  340022737  105796234  Pamela Alejandr Tillemann Munoz       1    2023   \n",
       "3   4  340023173  168497261      Pablo Alberto Fredes Fredes       1    2023   \n",
       "4   5  340004285  108120045  Rodrigo Alejand Briones Urrutia       1    2023   \n",
       "\n",
       "    fecha_rut                    Llave   desde_rut   hasta_rut canal_rut  \n",
       "0  2023-01-01  34002302717805539912023  2024-03-25  2024-03-25       web  \n",
       "1  2023-01-01  34000243618617790812023  2024-03-25  2024-03-25       web  \n",
       "2  2023-01-01  34002273710579623412023  2024-03-25  2024-03-25       web  \n",
       "3  2023-01-01  34002317316849726112023  2024-03-25  2024-03-25       web  \n",
       "4  2023-01-01  34000428510812004512023  2024-03-25  2024-03-25       web  "
      ]
     },
     "execution_count": 14,
     "metadata": {},
     "output_type": "execute_result"
    }
   ],
   "source": [
    "rut_unico_tiempo_.head()\n",
    "\n",
    "\n"
   ]
  },
  {
   "cell_type": "code",
   "execution_count": 16,
   "metadata": {},
   "outputs": [],
   "source": [
    "rut_unico_tiempo_2 = rut_unico_tiempo_[\n",
    "    [\n",
    "        \"rut_rut\",\"poliza_rut\"\n",
    "    ]\n",
    "]"
   ]
  },
  {
   "cell_type": "code",
   "execution_count": 18,
   "metadata": {},
   "outputs": [
    {
     "data": {
      "text/html": [
       "<div><div id=8ab0d6e0-580f-4c64-8e14-c7f08f6da40f style=\"display:none; background-color:#9D6CFF; color:white; width:200px; height:30px; padding-left:5px; border-radius:4px; flex-direction:row; justify-content:space-around; align-items:center;\" onmouseover=\"this.style.backgroundColor='#BA9BF8'\" onmouseout=\"this.style.backgroundColor='#9D6CFF'\" onclick=\"window.commands?.execute('create-mitosheet-from-dataframe-output');\">See Full Dataframe in Mito</div> <script> if (window.commands?.hasCommand('create-mitosheet-from-dataframe-output')) document.getElementById('8ab0d6e0-580f-4c64-8e14-c7f08f6da40f').style.display = 'flex' </script> <table border=\"1\" class=\"dataframe\">\n",
       "  <thead>\n",
       "    <tr style=\"text-align: right;\">\n",
       "      <th></th>\n",
       "      <th>rut_rut</th>\n",
       "      <th>poliza_rut</th>\n",
       "    </tr>\n",
       "  </thead>\n",
       "  <tbody>\n",
       "    <tr>\n",
       "      <th>0</th>\n",
       "      <td>178055399</td>\n",
       "      <td>340023027</td>\n",
       "    </tr>\n",
       "    <tr>\n",
       "      <th>1</th>\n",
       "      <td>186177908</td>\n",
       "      <td>340002436</td>\n",
       "    </tr>\n",
       "    <tr>\n",
       "      <th>2</th>\n",
       "      <td>105796234</td>\n",
       "      <td>340022737</td>\n",
       "    </tr>\n",
       "    <tr>\n",
       "      <th>3</th>\n",
       "      <td>168497261</td>\n",
       "      <td>340023173</td>\n",
       "    </tr>\n",
       "    <tr>\n",
       "      <th>4</th>\n",
       "      <td>108120045</td>\n",
       "      <td>340004285</td>\n",
       "    </tr>\n",
       "  </tbody>\n",
       "</table></div>"
      ],
      "text/plain": [
       "     rut_rut poliza_rut\n",
       "0  178055399  340023027\n",
       "1  186177908  340002436\n",
       "2  105796234  340022737\n",
       "3  168497261  340023173\n",
       "4  108120045  340004285"
      ]
     },
     "execution_count": 18,
     "metadata": {},
     "output_type": "execute_result"
    }
   ],
   "source": [
    "rut_unico_tiempo_2.head()\n"
   ]
  },
  {
   "cell_type": "code",
   "execution_count": 19,
   "metadata": {},
   "outputs": [],
   "source": [
    "resultado = pd.merge(\n",
    "    left=resultado,\n",
    "    right=rut_unico_tiempo_2,\n",
    "    how=\"left\",\n",
    "    left_on=\"Rut_T\",\n",
    "    right_on=\"rut_rut\",\n",
    ")"
   ]
  },
  {
   "cell_type": "code",
   "execution_count": 22,
   "metadata": {},
   "outputs": [
    {
     "data": {
      "text/plain": [
       "(207192, 8)"
      ]
     },
     "execution_count": 22,
     "metadata": {},
     "output_type": "execute_result"
    }
   ],
   "source": [
    "resultado.shape"
   ]
  },
  {
   "cell_type": "code",
   "execution_count": 21,
   "metadata": {},
   "outputs": [],
   "source": [
    "#resultado.\n",
    "resultado = resultado.drop_duplicates(\n",
    "    [\n",
    "        \"rut_rut\",\"poliza_rut\",\n",
    "    ],\n",
    "    keep=\"last\",\n",
    ")"
   ]
  }
 ],
 "metadata": {
  "kernelspec": {
   "display_name": "python11",
   "language": "python",
   "name": "python3"
  },
  "language_info": {
   "codemirror_mode": {
    "name": "ipython",
    "version": 3
   },
   "file_extension": ".py",
   "mimetype": "text/x-python",
   "name": "python",
   "nbconvert_exporter": "python",
   "pygments_lexer": "ipython3",
   "version": "2022.5.undefined"
  }
 },
 "nbformat": 4,
 "nbformat_minor": 2
}
