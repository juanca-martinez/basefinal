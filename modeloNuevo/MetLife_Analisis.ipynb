{
 "cells": [
  {
   "cell_type": "code",
   "execution_count": 6,
   "metadata": {
    "notebookRunGroups": {
     "groupValue": "1"
    }
   },
   "outputs": [],
   "source": [
    "from pathlib import Path\n",
    "import requests\n",
    "import pandas as pd\n",
    "import numpy as np\n",
    "from io import StringIO\n",
    "import shutil\n",
    "import datetime\n",
    "from datetime import datetime,date\n",
    "import re\n",
    "import json\n",
    "from pandas.api.types import is_numeric_dtype\n",
    "\n",
    "# from simple_salesforce import Salesforce, format_soql, format_external_id\n",
    "# from simple_salesforce.exceptions import SalesforceMalformedRequest\n",
    "# import simpler_sf\n",
    "from sqlalchemy import create_engine\n",
    "#import pymysql\n",
    "\n",
    "# from mysql import connector\n",
    "\n",
    "\n",
    "# paramiko.util.log_to_file(\"paramiko.log\")\n",
    "regex = re.compile(r\"([A-Za-z0-9]+[.-_])*[A-Za-z0-9]+@[A-Za-z0-9-]+(\\.[A-Z|a-z]{2,})+\")"
   ]
  },
  {
   "cell_type": "code",
   "execution_count": 7,
   "metadata": {
    "notebookRunGroups": {
     "groupValue": "1"
    }
   },
   "outputs": [],
   "source": [
    "# usuario = 'siempreread'\n",
    "# contrasena = 'S13mpr3_Ch1l3'\n",
    "# url_servidor = '209.151.148.250'\n",
    "puerto = \"3306\"\n",
    "esquema = \"MetLife_A\"\n",
    "plugin_autenticacion = \"mysql_native_password\"\n",
    "\n",
    "usuario = \"care_consulta\"\n",
    "contrasena = \"CareAssistance!10\"\n",
    "url_servidor = \"10.0.10.22\"\n",
    "\n",
    "# Conexión a la base de datos\n",
    "\n",
    "c_conexion = \"mysql+mysqlconnector://{0}:{1}@{2}:{3}/{4}?auth_plugin={5}\"\n",
    "c_conexion = c_conexion.format(\n",
    "    usuario, contrasena, url_servidor, puerto, esquema, plugin_autenticacion\n",
    ")\n",
    "motor_mysql_mariadb = create_engine(c_conexion)\n",
    "\n",
    "#table.to_sql(name='rut_unico_tiempo',con=motor_mysql_mariadb,if_exists = 'append')\n",
    "\n",
    "\n",
    "# archivo de salida modificar segun archivo\n",
    "# archivo = 'C:/Users/jmartinez/Desktop/casos nuevos/clientes/1/casos_faltantes_segun_archivo.xlsx'"
   ]
  },
  {
   "cell_type": "code",
   "execution_count": 8,
   "metadata": {
    "notebookRunGroups": {
     "groupValue": "1"
    }
   },
   "outputs": [
    {
     "name": "stderr",
     "output_type": "stream",
     "text": [
      "C:\\Users\\jmartinez\\AppData\\Local\\Temp\\ipykernel_20292\\3399985333.py:10: FutureWarning: The default value of regex will change from True to False in a future version. In addition, single character regular expressions will *not* be treated as literal strings when regex=True.\n",
      "  rut_unicos[\"Rut_C\"] = rut_unicos[\"Rut_C\"].str.replace(\".\", \"\")\n",
      "C:\\Users\\jmartinez\\AppData\\Local\\Temp\\ipykernel_20292\\3399985333.py:19: FutureWarning: The default value of regex will change from True to False in a future version. In addition, single character regular expressions will *not* be treated as literal strings when regex=True.\n",
      "  rut_unicos[\"Rut_T\"] = rut_unicos[\"Rut_T\"].str.replace(\".\", \"\")\n",
      "C:\\Users\\jmartinez\\AppData\\Local\\Temp\\ipykernel_20292\\3399985333.py:25: FutureWarning: The default value of regex will change from True to False in a future version. In addition, single character regular expressions will *not* be treated as literal strings when regex=True.\n",
      "  rut_unicos[\"Nombre\"] = rut_unicos[\"Nombre\"].str.replace(\".\", \"\")\n"
     ]
    },
    {
     "data": {
      "text/plain": [
       "' rut_unicos.to_excel(\\n    \"F:/Empresas SF/reportes/rut_unicos_hasta_Marzo_2024.xlsx\", index=False\\n) '"
      ]
     },
     "execution_count": 8,
     "metadata": {},
     "output_type": "execute_result"
    }
   ],
   "source": [
    "# table.to_sql(name='prueba',con=motor_mysql_mariadb,if_exists = 'append')\n",
    "rut_unicos = pd.DataFrame()\n",
    "sql = \"SELECT * FROM MetLife_A.rut_unicos WHERE LEFT(Rut_T, 1) <> '0' \"\n",
    "rut_unicos = pd.read_sql_query(sql, con=motor_mysql_mariadb)\n",
    "\n",
    "rut_unicos[\"Rut_C\"] = rut_unicos[\"Rut_C\"].astype(str)\n",
    "rut_unicos[\"Rut_C\"] = rut_unicos[\"Rut_C\"].str.replace(\"-\", \"\")\n",
    "rut_unicos[\"Rut_C\"] = rut_unicos[\"Rut_C\"].str.replace(\"–\", \"\")\n",
    "rut_unicos[\"Rut_C\"] = rut_unicos[\"Rut_C\"].astype(str)\n",
    "rut_unicos[\"Rut_C\"] = rut_unicos[\"Rut_C\"].str.replace(\".\", \"\")\n",
    "rut_unicos[\"Rut_C\"] = rut_unicos[\"Rut_C\"].str.replace(\" \", \"\")\n",
    "rut_unicos[\"Rut_C\"] = rut_unicos[\"Rut_C\"].str.upper()\n",
    "rut_unicos[\"Rut_C\"] = rut_unicos[\"Rut_C\"].str.strip()\n",
    "\n",
    "rut_unicos[\"Rut_T\"] = rut_unicos[\"Rut_T\"].astype(str)\n",
    "rut_unicos[\"Rut_T\"] = rut_unicos[\"Rut_T\"].str.replace(\"-\", \"\")\n",
    "rut_unicos[\"Rut_T\"] = rut_unicos[\"Rut_T\"].str.replace(\"–\", \"\")\n",
    "rut_unicos[\"Rut_T\"] = rut_unicos[\"Rut_T\"].astype(str)\n",
    "rut_unicos[\"Rut_T\"] = rut_unicos[\"Rut_T\"].str.replace(\".\", \"\")\n",
    "rut_unicos[\"Rut_T\"] = rut_unicos[\"Rut_T\"].str.replace(\" \", \"\")\n",
    "rut_unicos[\"Rut_T\"] = rut_unicos[\"Rut_T\"].str.upper()\n",
    "rut_unicos[\"Rut_T\"] = rut_unicos[\"Rut_T\"].str.strip()\n",
    "\n",
    "rut_unicos[\"Nombre\"] = rut_unicos[\"Nombre\"].str.replace(\",\", \"\")\n",
    "rut_unicos[\"Nombre\"] = rut_unicos[\"Nombre\"].str.replace(\".\", \"\")\n",
    "rut_unicos[\"Nombre\"] = rut_unicos[\"Nombre\"].str.replace(\"-\", \"\")\n",
    "rut_unicos[\"Nombre\"] = rut_unicos[\"Nombre\"].str.replace(\"┐\", \"\")\n",
    "rut_unicos[\"Nombre\"] = rut_unicos[\"Nombre\"].str.replace(\"═\", \"\")\n",
    "rut_unicos[\"Nombre\"] = rut_unicos[\"Nombre\"].str.replace(\"╔\", \"\")\n",
    "rut_unicos[\"Nombre\"] = rut_unicos[\"Nombre\"].str.replace(\"┌\", \"\")\n",
    "rut_unicos[\"Nombre\"] = rut_unicos[\"Nombre\"].str.title()\n",
    "rut_unicos[\"Nombre\"] = rut_unicos[\"Nombre\"].str.strip()\n",
    "\n",
    "rut_unicos.shape\n",
    "\n",
    "\n",
    "\n",
    "\"\"\" rut_unicos.to_excel(\n",
    "    \"F:/Empresas SF/reportes/rut_unicos_hasta_Marzo_2024.xlsx\", index=False\n",
    ") \"\"\""
   ]
  },
  {
   "cell_type": "code",
   "execution_count": 9,
   "metadata": {
    "notebookRunGroups": {
     "groupValue": "1"
    }
   },
   "outputs": [
    {
     "data": {
      "text/plain": [
       "(6540224, 11)"
      ]
     },
     "execution_count": 9,
     "metadata": {},
     "output_type": "execute_result"
    }
   ],
   "source": [
    "rut_unico_tiempo_ = pd.DataFrame()\n",
    "sql = \"SELECT * FROM MetLife_A.rut_unico_tiempo_2 \"\n",
    "rut_unico_tiempo_ = pd.read_sql_query(sql, con=motor_mysql_mariadb)\n",
    "\n",
    "rut_unico_tiempo_.shape"
   ]
  },
  {
   "cell_type": "code",
   "execution_count": 4,
   "metadata": {},
   "outputs": [],
   "source": [
    "def sacarultimo(y):\n",
    "    y = y[:-1]\n",
    "    return str(y)\n",
    "    "
   ]
  },
  {
   "cell_type": "code",
   "execution_count": null,
   "metadata": {},
   "outputs": [],
   "source": [
    "sftp = \"F:/2024/MetLife/metlife_analisis_todo.xlsx\"\n",
    "\n",
    "derty = pd.read_excel(sftp)\n",
    "\n",
    "rut_unico_tiempo_[\"rut_rut2\"] = rut_unico_tiempo_[\"rut_rut\"].apply(lambda y: sacarultimo(y))\n",
    "\n",
    "rut_unico_tiempo_[\"rut_rut2\"] = rut_unico_tiempo_[\"rut_rut2\"].astype(str)\n",
    "rut_unico_tiempo_[\"rut_rut2\"] = rut_unico_tiempo_[\"rut_rut2\"].str.upper()\n",
    "rut_unico_tiempo_[\"rut_rut2\"] = rut_unico_tiempo_[\"rut_rut2\"].str.replace(\"-\", \"\")\n",
    "rut_unico_tiempo_[\"rut_rut2\"] = rut_unico_tiempo_[\"rut_rut2\"].str.replace(\"–\", \"\")\n",
    "rut_unico_tiempo_[\"rut_rut2\"] = rut_unico_tiempo_[\"rut_rut2\"].astype(str)\n",
    "rut_unico_tiempo_[\"rut_rut2\"] = rut_unico_tiempo_[\"rut_rut2\"].str.replace(\".\", \"\")\n",
    "\n",
    "rut_unico_tiempo_[\"rut_rut2\"] = rut_unico_tiempo_[\"rut_rut2\"].str.strip()\n",
    "\n",
    "derty[\"rut1\"] = derty[\"rut1\"].astype(str)\n",
    "derty[\"rut1\"] = derty[\"rut1\"].str.upper()\n",
    "derty[\"rut1\"] = derty[\"rut1\"].str.replace(\"-\", \"\")\n",
    "derty[\"rut1\"] = derty[\"rut1\"].str.replace(\"–\", \"\")\n",
    "derty[\"rut1\"] = derty[\"rut1\"].astype(str)\n",
    "derty[\"rut1\"] = derty[\"rut1\"].str.replace(\".\", \"\")\n",
    "\n",
    "derty[\"rut1\"] = derty[\"rut1\"].str.strip()\n"
   ]
  },
  {
   "cell_type": "code",
   "execution_count": null,
   "metadata": {},
   "outputs": [],
   "source": [
    "rut_unicos2 = pd.merge(\n",
    "    left=derty,\n",
    "    right=rut_unico_tiempo_,\n",
    "    how=\"left\",\n",
    "    left_on=\"rut1\",\n",
    "    right_on=\"rut_rut2\",\n",
    ")\n"
   ]
  },
  {
   "cell_type": "code",
   "execution_count": null,
   "metadata": {},
   "outputs": [],
   "source": [
    "rut_unicos2.shape"
   ]
  },
  {
   "cell_type": "code",
   "execution_count": null,
   "metadata": {},
   "outputs": [],
   "source": [
    "rut_unicos2.head()"
   ]
  },
  {
   "cell_type": "code",
   "execution_count": null,
   "metadata": {},
   "outputs": [],
   "source": [
    "rut_unicos2 = rut_unicos2.drop_duplicates(\n",
    "    [\n",
    "        \"rut_rut2\",\"canal_rut\",\"fecha_rut\",\"poliza_rut\",\n",
    "    ],\n",
    "    keep=\"last\",\n",
    ")\n",
    "rut_unicos2[\"canal_rut\"] = rut_unicos2[\"canal_rut\"].astype(str)\n",
    "\n",
    "rut_unicos2[\"canal_rut\"] = rut_unicos2[\"canal_rut\"].str.replace(\"Q\", \"sftp\")\n",
    "rut_unicos2[\"canal_rut\"] = rut_unicos2[\"canal_rut\"].str.replace(\"correo2\", \"correo\")\n",
    "rut_unicos2[\"canal_rut\"] = rut_unicos2[\"canal_rut\"].str.replace(\"email\", \"correo\")\n"
   ]
  },
  {
   "cell_type": "code",
   "execution_count": null,
   "metadata": {},
   "outputs": [],
   "source": [
    "enero2023 = pd.DataFrame()\n",
    "enero2023 = rut_unicos2[(rut_unicos2[\"mes_rut\"] == \"1\") & (rut_unicos2[\"año_rut\"] == \"2023\")]\n",
    "enero2023W = rut_unicos2[(rut_unicos2[\"mes_rut\"] == \"1\") & (rut_unicos2[\"año_rut\"] == \"2023\") & (rut_unicos2[\"canal_rut\"] == \"web\") ]\n",
    "enero2023S = rut_unicos2[(rut_unicos2[\"mes_rut\"] == \"1\") & (rut_unicos2[\"año_rut\"] == \"2023\") & (rut_unicos2[\"canal_rut\"] == \"sftp\") ]\n",
    "enero2023C = rut_unicos2[(rut_unicos2[\"mes_rut\"] == \"1\") & (rut_unicos2[\"año_rut\"] == \"2023\") & (rut_unicos2[\"canal_rut\"] == \"correo\") ]\n",
    "\n",
    "febrero2023 = pd.DataFrame()\n",
    "febrero2023 = rut_unicos2[(rut_unicos2[\"mes_rut\"] == \"2\") & (rut_unicos2[\"año_rut\"] == \"2023\")]\n",
    "febrero2023W = rut_unicos2[(rut_unicos2[\"mes_rut\"] == \"2\") & (rut_unicos2[\"año_rut\"] == \"2023\") & (rut_unicos2[\"canal_rut\"] == \"web\") ]\n",
    "febrero2023S = rut_unicos2[(rut_unicos2[\"mes_rut\"] == \"2\") & (rut_unicos2[\"año_rut\"] == \"2023\") & (rut_unicos2[\"canal_rut\"] == \"sftp\") ]\n",
    "febrero2023C = rut_unicos2[(rut_unicos2[\"mes_rut\"] == \"2\") & (rut_unicos2[\"año_rut\"] == \"2023\") & (rut_unicos2[\"canal_rut\"] == \"correo\") ]\n",
    "\n",
    "marzo2023 = pd.DataFrame()\n",
    "marzo2023 = rut_unicos2[(rut_unicos2[\"mes_rut\"] == \"3\") & (rut_unicos2[\"año_rut\"] == \"2023\")]\n",
    "marzo2023W = rut_unicos2[(rut_unicos2[\"mes_rut\"] == \"3\") & (rut_unicos2[\"año_rut\"] == \"2023\") & (rut_unicos2[\"canal_rut\"] == \"web\") ]\n",
    "marzo2023S = rut_unicos2[(rut_unicos2[\"mes_rut\"] == \"3\") & (rut_unicos2[\"año_rut\"] == \"2023\") & (rut_unicos2[\"canal_rut\"] == \"sftp\") ]\n",
    "marzo2023C = rut_unicos2[(rut_unicos2[\"mes_rut\"] == \"3\") & (rut_unicos2[\"año_rut\"] == \"2023\") & (rut_unicos2[\"canal_rut\"] == \"correo\") ]\n",
    "\n",
    "\n",
    "abril2023 = pd.DataFrame()\n",
    "abril2023 = rut_unicos2[(rut_unicos2[\"mes_rut\"] == \"4\") & (rut_unicos2[\"año_rut\"] == \"2023\")]\n",
    "abril2023W = rut_unicos2[(rut_unicos2[\"mes_rut\"] == \"4\") & (rut_unicos2[\"año_rut\"] == \"2023\") & (rut_unicos2[\"canal_rut\"] == \"web\") ]\n",
    "abril2023S = rut_unicos2[(rut_unicos2[\"mes_rut\"] == \"4\") & (rut_unicos2[\"año_rut\"] == \"2023\") & (rut_unicos2[\"canal_rut\"] == \"sftp\") ]\n",
    "abril2023C = rut_unicos2[(rut_unicos2[\"mes_rut\"] == \"4\") & (rut_unicos2[\"año_rut\"] == \"2023\") & (rut_unicos2[\"canal_rut\"] == \"correo\") ]\n",
    "\n",
    "mayo2023 = pd.DataFrame()\n",
    "mayo2023 = rut_unicos2[(rut_unicos2[\"mes_rut\"] == \"5\") & (rut_unicos2[\"año_rut\"] == \"2023\")]\n",
    "mayo2023W = rut_unicos2[(rut_unicos2[\"mes_rut\"] == \"5\") & (rut_unicos2[\"año_rut\"] == \"2023\") & (rut_unicos2[\"canal_rut\"] == \"web\") ]\n",
    "mayo2023S = rut_unicos2[(rut_unicos2[\"mes_rut\"] == \"5\") & (rut_unicos2[\"año_rut\"] == \"2023\") & (rut_unicos2[\"canal_rut\"] == \"sftp\") ]\n",
    "mayo2023C = rut_unicos2[(rut_unicos2[\"mes_rut\"] == \"5\") & (rut_unicos2[\"año_rut\"] == \"2023\") & (rut_unicos2[\"canal_rut\"] == \"correo\") ]\n",
    "\n",
    "junio2023 = pd.DataFrame()\n",
    "junio2023 = rut_unicos2[(rut_unicos2[\"mes_rut\"] == \"6\") & (rut_unicos2[\"año_rut\"] == \"2023\")]\n",
    "junio2023W = rut_unicos2[(rut_unicos2[\"mes_rut\"] == \"6\") & (rut_unicos2[\"año_rut\"] == \"2023\") & (rut_unicos2[\"canal_rut\"] == \"web\") ]\n",
    "junio2023S = rut_unicos2[(rut_unicos2[\"mes_rut\"] == \"6\") & (rut_unicos2[\"año_rut\"] == \"2023\") & (rut_unicos2[\"canal_rut\"] == \"sftp\") ]\n",
    "junio2023C = rut_unicos2[(rut_unicos2[\"mes_rut\"] == \"6\") & (rut_unicos2[\"año_rut\"] == \"2023\") & (rut_unicos2[\"canal_rut\"] == \"correo\") ]\n",
    "\n",
    "julio2023 = pd.DataFrame()\n",
    "julio2023 = rut_unicos2[(rut_unicos2[\"mes_rut\"] == \"7\") & (rut_unicos2[\"año_rut\"] == \"2023\")]\n",
    "julio2023W = rut_unicos2[(rut_unicos2[\"mes_rut\"] == \"7\") & (rut_unicos2[\"año_rut\"] == \"2023\") & (rut_unicos2[\"canal_rut\"] == \"web\") ]\n",
    "julio2023S = rut_unicos2[(rut_unicos2[\"mes_rut\"] == \"7\") & (rut_unicos2[\"año_rut\"] == \"2023\") & (rut_unicos2[\"canal_rut\"] == \"sftp\") ]\n",
    "julio2023C = rut_unicos2[(rut_unicos2[\"mes_rut\"] == \"7\") & (rut_unicos2[\"año_rut\"] == \"2023\") & (rut_unicos2[\"canal_rut\"] == \"correo\") ]\n",
    "\n",
    "agosto2023 = pd.DataFrame()\n",
    "agosto2023 = rut_unicos2[(rut_unicos2[\"mes_rut\"] == \"8\") & (rut_unicos2[\"año_rut\"] == \"2023\")]\n",
    "agosto2023W = rut_unicos2[(rut_unicos2[\"mes_rut\"] == \"8\") & (rut_unicos2[\"año_rut\"] == \"2023\") & (rut_unicos2[\"canal_rut\"] == \"web\") ]\n",
    "agosto2023S = rut_unicos2[(rut_unicos2[\"mes_rut\"] == \"8\") & (rut_unicos2[\"año_rut\"] == \"2023\") & (rut_unicos2[\"canal_rut\"] == \"sftp\") ]\n",
    "agosto2023C = rut_unicos2[(rut_unicos2[\"mes_rut\"] == \"8\") & (rut_unicos2[\"año_rut\"] == \"2023\") & (rut_unicos2[\"canal_rut\"] == \"correo\") ]\n",
    "\n",
    "septiembre2023 = pd.DataFrame()\n",
    "septiembre2023 = rut_unicos2[(rut_unicos2[\"mes_rut\"] == \"9\") & (rut_unicos2[\"año_rut\"] == \"2023\")]\n",
    "septiembre2023W = rut_unicos2[(rut_unicos2[\"mes_rut\"] == \"9\") & (rut_unicos2[\"año_rut\"] == \"2023\") & (rut_unicos2[\"canal_rut\"] == \"web\") ]\n",
    "septiembre2023S = rut_unicos2[(rut_unicos2[\"mes_rut\"] == \"9\") & (rut_unicos2[\"año_rut\"] == \"2023\") & (rut_unicos2[\"canal_rut\"] == \"sftp\") ]\n",
    "septiembre2023C = rut_unicos2[(rut_unicos2[\"mes_rut\"] == \"9\") & (rut_unicos2[\"año_rut\"] == \"2023\") & (rut_unicos2[\"canal_rut\"] == \"correo\") ]\n",
    "\n",
    "octubre2023 = pd.DataFrame()\n",
    "octubre2023 = rut_unicos2[(rut_unicos2[\"mes_rut\"] == \"10\") & (rut_unicos2[\"año_rut\"] == \"2023\")]\n",
    "octubre2023W = rut_unicos2[(rut_unicos2[\"mes_rut\"] == \"10\") & (rut_unicos2[\"año_rut\"] == \"2023\") & (rut_unicos2[\"canal_rut\"] == \"web\") ]\n",
    "octubre2023S = rut_unicos2[(rut_unicos2[\"mes_rut\"] == \"10\") & (rut_unicos2[\"año_rut\"] == \"2023\") & (rut_unicos2[\"canal_rut\"] == \"sftp\") ]\n",
    "octubre2023C = rut_unicos2[(rut_unicos2[\"mes_rut\"] == \"10\") & (rut_unicos2[\"año_rut\"] == \"2023\") & (rut_unicos2[\"canal_rut\"] == \"correo\") ]\n",
    "\n",
    "noviembre2023 = pd.DataFrame()\n",
    "noviembre2023 = rut_unicos2[(rut_unicos2[\"mes_rut\"] == \"11\") & (rut_unicos2[\"año_rut\"] == \"2023\")]\n",
    "noviembre2023W = rut_unicos2[(rut_unicos2[\"mes_rut\"] == \"11\") & (rut_unicos2[\"año_rut\"] == \"2023\") & (rut_unicos2[\"canal_rut\"] == \"web\") ]\n",
    "noviembre2023S = rut_unicos2[(rut_unicos2[\"mes_rut\"] == \"11\") & (rut_unicos2[\"año_rut\"] == \"2023\") & (rut_unicos2[\"canal_rut\"] == \"sftp\") ]\n",
    "noviembre2023C = rut_unicos2[(rut_unicos2[\"mes_rut\"] == \"11\") & (rut_unicos2[\"año_rut\"] == \"2023\") & (rut_unicos2[\"canal_rut\"] == \"correo\") ]\n",
    "\n",
    "diciembre2023 = pd.DataFrame()\n",
    "diciembre2023 = rut_unicos2[(rut_unicos2[\"mes_rut\"] == \"12\") & (rut_unicos2[\"año_rut\"] == \"2023\")]\n",
    "diciembre2023W = rut_unicos2[(rut_unicos2[\"mes_rut\"] == \"12\") & (rut_unicos2[\"año_rut\"] == \"2023\") & (rut_unicos2[\"canal_rut\"] == \"web\") ]\n",
    "diciembre2023S = rut_unicos2[(rut_unicos2[\"mes_rut\"] == \"12\") & (rut_unicos2[\"año_rut\"] == \"2023\") & (rut_unicos2[\"canal_rut\"] == \"sftp\") ]\n",
    "diciembre2023C = rut_unicos2[(rut_unicos2[\"mes_rut\"] == \"12\") & (rut_unicos2[\"año_rut\"] == \"2023\") & (rut_unicos2[\"canal_rut\"] == \"correo\") ]\n",
    "\n",
    "\n",
    "enero2024 = pd.DataFrame()\n",
    "enero2024 = rut_unicos2[(rut_unicos2[\"mes_rut\"] == \"1\") & (rut_unicos2[\"año_rut\"] == \"2024\")]\n",
    "enero2024W = rut_unicos2[(rut_unicos2[\"mes_rut\"] == \"1\") & (rut_unicos2[\"año_rut\"] == \"2024\") & (rut_unicos2[\"canal_rut\"] == \"web\") ]\n",
    "enero2024S = rut_unicos2[(rut_unicos2[\"mes_rut\"] == \"1\") & (rut_unicos2[\"año_rut\"] == \"2024\") & (rut_unicos2[\"canal_rut\"] == \"sftp\") ]\n",
    "enero2024C = rut_unicos2[(rut_unicos2[\"mes_rut\"] == \"1\") & (rut_unicos2[\"año_rut\"] == \"2024\") & (rut_unicos2[\"canal_rut\"] == \"correo\") ]\n",
    "\n",
    "febrero2024 = pd.DataFrame()\n",
    "febrero2024 = rut_unicos2[(rut_unicos2[\"mes_rut\"] == \"2\") & (rut_unicos2[\"año_rut\"] == \"2024\")]\n",
    "febrero2024W = rut_unicos2[(rut_unicos2[\"mes_rut\"] == \"2\") & (rut_unicos2[\"año_rut\"] == \"2024\") & (rut_unicos2[\"canal_rut\"] == \"web\") ]\n",
    "febrero2024S = rut_unicos2[(rut_unicos2[\"mes_rut\"] == \"2\") & (rut_unicos2[\"año_rut\"] == \"2024\") & (rut_unicos2[\"canal_rut\"] == \"sftp\") ]\n",
    "febrero2024C = rut_unicos2[(rut_unicos2[\"mes_rut\"] == \"2\") & (rut_unicos2[\"año_rut\"] == \"2024\") & (rut_unicos2[\"canal_rut\"] == \"correo\") ]\n",
    "\n",
    "marzo2024 = pd.DataFrame()\n",
    "marzo2024 = rut_unicos2[(rut_unicos2[\"mes_rut\"] == \"3\") & (rut_unicos2[\"año_rut\"] == \"2024\")]\n",
    "marzo2024W = rut_unicos2[(rut_unicos2[\"mes_rut\"] == \"3\") & (rut_unicos2[\"año_rut\"] == \"2024\") & (rut_unicos2[\"canal_rut\"] == \"web\") ]\n",
    "marzo2024S = rut_unicos2[(rut_unicos2[\"mes_rut\"] == \"3\") & (rut_unicos2[\"año_rut\"] == \"2024\") & (rut_unicos2[\"canal_rut\"] == \"sftp\") ]\n",
    "marzo2024C = rut_unicos2[(rut_unicos2[\"mes_rut\"] == \"3\") & (rut_unicos2[\"año_rut\"] == \"2024\") & (rut_unicos2[\"canal_rut\"] == \"correo\") ]\n",
    "\n",
    "abril2024 = pd.DataFrame()\n",
    "abril2024 = rut_unicos2[(rut_unicos2[\"mes_rut\"] == \"4\") & (rut_unicos2[\"año_rut\"] == \"2024\")]\n",
    "abril2024W = rut_unicos2[(rut_unicos2[\"mes_rut\"] == \"4\") & (rut_unicos2[\"año_rut\"] == \"2024\") & (rut_unicos2[\"canal_rut\"] == \"web\") ]\n",
    "abril2024S = rut_unicos2[(rut_unicos2[\"mes_rut\"] == \"4\") & (rut_unicos2[\"año_rut\"] == \"2024\") & (rut_unicos2[\"canal_rut\"] == \"sftp\") ]\n",
    "abril2024C = rut_unicos2[(rut_unicos2[\"mes_rut\"] == \"4\") & (rut_unicos2[\"año_rut\"] == \"2024\") & (rut_unicos2[\"canal_rut\"] == \"correo\") ]\n",
    "\n",
    "mayo2024 = pd.DataFrame()\n",
    "mayo2024 = rut_unicos2[(rut_unicos2[\"mes_rut\"] == \"4\") & (rut_unicos2[\"año_rut\"] == \"2024\")]\n",
    "mayo2024W = rut_unicos2[(rut_unicos2[\"mes_rut\"] == \"4\") & (rut_unicos2[\"año_rut\"] == \"2024\") & (rut_unicos2[\"canal_rut\"] == \"web\") ]\n",
    "mayo2024S = rut_unicos2[(rut_unicos2[\"mes_rut\"] == \"4\") & (rut_unicos2[\"año_rut\"] == \"2024\") & (rut_unicos2[\"canal_rut\"] == \"sftp\") ]\n",
    "mayo2024C = rut_unicos2[(rut_unicos2[\"mes_rut\"] == \"4\") & (rut_unicos2[\"año_rut\"] == \"2024\") & (rut_unicos2[\"canal_rut\"] == \"correo\") ]\n",
    "\n",
    "#Minera_Abra = Minera_Abra[(Minera_Abra[\"Empleador\"] == Minera_Abra[\"Nombre Empresa\"])]"
   ]
  },
  {
   "cell_type": "code",
   "execution_count": null,
   "metadata": {},
   "outputs": [],
   "source": [
    "enero = pd.DataFrame()\n",
    "enero = derty.copy()\n",
    "enero[\"Enero\"]  = enero[\"rut1\"].isin(enero2023[\"rut_rut2\"]).astype(str).replace(\"False\",\"\").replace(\"True\",\"X\")\n",
    "enero[\"Enero web\"]  = enero[\"rut1\"].isin(enero2023W[\"rut_rut2\"]).astype(str).replace(\"False\",\"\").replace(\"True\",\"X\")\n",
    "enero[\"Enero sftp\"]  = enero[\"rut1\"].isin(enero2023S[\"rut_rut2\"]).astype(str).replace(\"False\",\"\").replace(\"True\",\"X\")\n",
    "enero[\"Enero correo\"]  = enero[\"rut1\"].isin(enero2023C[\"rut_rut2\"]).astype(str).replace(\"False\",\"\").replace(\"True\",\"X\")\n",
    "\n",
    "enero[\"Febrero\"]  = enero[\"rut1\"].isin(febrero2023[\"rut_rut2\"]).astype(str).replace(\"False\",\"\").replace(\"True\",\"X\")\n",
    "enero[\"Febrero web\"]  = enero[\"rut1\"].isin(febrero2023W[\"rut_rut2\"]).astype(str).replace(\"False\",\"\").replace(\"True\",\"X\")\n",
    "enero[\"Febrero sftp\"]  = enero[\"rut1\"].isin(febrero2023S[\"rut_rut2\"]).astype(str).replace(\"False\",\"\").replace(\"True\",\"X\")\n",
    "enero[\"Febrero correo\"]  = enero[\"rut1\"].isin(febrero2023C[\"rut_rut2\"]).astype(str).replace(\"False\",\"\").replace(\"True\",\"X\")\n",
    "\n",
    "enero[\"Marzo\"]  = enero[\"rut1\"].isin(marzo2023[\"rut_rut2\"]).astype(str).replace(\"False\",\"\").replace(\"True\",\"X\")\n",
    "enero[\"Marzo web\"]  = enero[\"rut1\"].isin(marzo2023W[\"rut_rut2\"]).astype(str).replace(\"False\",\"\").replace(\"True\",\"X\")\n",
    "enero[\"Marzo sftp\"]  = enero[\"rut1\"].isin(marzo2023S[\"rut_rut2\"]).astype(str).replace(\"False\",\"\").replace(\"True\",\"X\")\n",
    "enero[\"Marzo correo\"]  = enero[\"rut1\"].isin(marzo2023C[\"rut_rut2\"]).astype(str).replace(\"False\",\"\").replace(\"True\",\"X\")\n",
    "\n",
    "enero[\"Abril\"]  = enero[\"rut1\"].isin(abril2023[\"rut_rut2\"]).astype(str).replace(\"False\",\"\").replace(\"True\",\"X\")\n",
    "enero[\"Abril web\"]  = enero[\"rut1\"].isin(abril2023W[\"rut_rut2\"]).astype(str).replace(\"False\",\"\").replace(\"True\",\"X\")\n",
    "enero[\"Abril sftp\"]  = enero[\"rut1\"].isin(abril2023S[\"rut_rut2\"]).astype(str).replace(\"False\",\"\").replace(\"True\",\"X\")\n",
    "enero[\"Abril correo\"]  = enero[\"rut1\"].isin(abril2023C[\"rut_rut2\"]).astype(str).replace(\"False\",\"\").replace(\"True\",\"X\")\n",
    "\n",
    "enero[\"Mayo\"]  = enero[\"rut1\"].isin(mayo2023[\"rut_rut2\"]).astype(str).replace(\"False\",\"\").replace(\"True\",\"X\")\n",
    "enero[\"Mayo web\"]  = enero[\"rut1\"].isin(mayo2023W[\"rut_rut2\"]).astype(str).replace(\"False\",\"\").replace(\"True\",\"X\")\n",
    "enero[\"Mayo sftp\"]  = enero[\"rut1\"].isin(mayo2023S[\"rut_rut2\"]).astype(str).replace(\"False\",\"\").replace(\"True\",\"X\")\n",
    "enero[\"Mayo correo\"]  = enero[\"rut1\"].isin(mayo2023C[\"rut_rut2\"]).astype(str).replace(\"False\",\"\").replace(\"True\",\"X\")\n",
    "\n",
    "enero[\"Junio\"]  = enero[\"rut1\"].isin(junio2023[\"rut_rut2\"]).astype(str).replace(\"False\",\"\").replace(\"True\",\"X\")\n",
    "enero[\"Junio web\"]  = enero[\"rut1\"].isin(junio2023W[\"rut_rut2\"]).astype(str).replace(\"False\",\"\").replace(\"True\",\"X\")\n",
    "enero[\"Junio sftp\"]  = enero[\"rut1\"].isin(junio2023S[\"rut_rut2\"]).astype(str).replace(\"False\",\"\").replace(\"True\",\"X\")\n",
    "enero[\"Junio correo\"]  = enero[\"rut1\"].isin(junio2023C[\"rut_rut2\"]).astype(str).replace(\"False\",\"\").replace(\"True\",\"X\")\n",
    "\n",
    "enero[\"Julio\"]  = enero[\"rut1\"].isin(julio2023[\"rut_rut2\"]).astype(str).replace(\"False\",\"\").replace(\"True\",\"X\")\n",
    "enero[\"Julio web\"]  = enero[\"rut1\"].isin(julio2023W[\"rut_rut2\"]).astype(str).replace(\"False\",\"\").replace(\"True\",\"X\")\n",
    "enero[\"Julio sftp\"]  = enero[\"rut1\"].isin(julio2023S[\"rut_rut2\"]).astype(str).replace(\"False\",\"\").replace(\"True\",\"X\")\n",
    "enero[\"Julio correo\"]  = enero[\"rut1\"].isin(julio2023C[\"rut_rut2\"]).astype(str).replace(\"False\",\"\").replace(\"True\",\"X\")\n",
    "\n",
    "enero[\"Agosto\"]  = enero[\"rut1\"].isin(agosto2023[\"rut_rut2\"]).astype(str).replace(\"False\",\"\").replace(\"True\",\"X\")\n",
    "enero[\"Agosto web\"]  = enero[\"rut1\"].isin(agosto2023W[\"rut_rut2\"]).astype(str).replace(\"False\",\"\").replace(\"True\",\"X\")\n",
    "enero[\"Agosto sftp\"]  = enero[\"rut1\"].isin(agosto2023S[\"rut_rut2\"]).astype(str).replace(\"False\",\"\").replace(\"True\",\"X\")\n",
    "enero[\"Agosto correo\"]  = enero[\"rut1\"].isin(agosto2023C[\"rut_rut2\"]).astype(str).replace(\"False\",\"\").replace(\"True\",\"X\")\n",
    "\n",
    "enero[\"Septiembre\"]  = enero[\"rut1\"].isin(septiembre2023[\"rut_rut2\"]).astype(str).replace(\"False\",\"\").replace(\"True\",\"X\")\n",
    "enero[\"Septiembre web\"]  = enero[\"rut1\"].isin(septiembre2023W[\"rut_rut2\"]).astype(str).replace(\"False\",\"\").replace(\"True\",\"X\")\n",
    "enero[\"Septiembre sftp\"]  = enero[\"rut1\"].isin(septiembre2023S[\"rut_rut2\"]).astype(str).replace(\"False\",\"\").replace(\"True\",\"X\")\n",
    "enero[\"Septiembre correo\"]  = enero[\"rut1\"].isin(septiembre2023C[\"rut_rut2\"]).astype(str).replace(\"False\",\"\").replace(\"True\",\"X\")\n",
    "\n",
    "enero[\"Octubre\"]  = enero[\"rut1\"].isin(octubre2023[\"rut_rut2\"]).astype(str).replace(\"False\",\"\").replace(\"True\",\"X\")\n",
    "enero[\"Octubre web\"]  = enero[\"rut1\"].isin(octubre2023W[\"rut_rut2\"]).astype(str).replace(\"False\",\"\").replace(\"True\",\"X\")\n",
    "enero[\"Octubre sftp\"]  = enero[\"rut1\"].isin(octubre2023S[\"rut_rut2\"]).astype(str).replace(\"False\",\"\").replace(\"True\",\"X\")\n",
    "enero[\"Octubre correo\"]  = enero[\"rut1\"].isin(octubre2023C[\"rut_rut2\"]).astype(str).replace(\"False\",\"\").replace(\"True\",\"X\")\n",
    "\n",
    "enero[\"Noviembre\"]  = enero[\"rut1\"].isin(noviembre2023[\"rut_rut2\"]).astype(str).replace(\"False\",\"\").replace(\"True\",\"X\")\n",
    "enero[\"Noviembre web\"]  = enero[\"rut1\"].isin(noviembre2023W[\"rut_rut2\"]).astype(str).replace(\"False\",\"\").replace(\"True\",\"X\")\n",
    "enero[\"Noviembre sftp\"]  = enero[\"rut1\"].isin(noviembre2023S[\"rut_rut2\"]).astype(str).replace(\"False\",\"\").replace(\"True\",\"X\")\n",
    "enero[\"Noviembre correo\"]  = enero[\"rut1\"].isin(noviembre2023C[\"rut_rut2\"]).astype(str).replace(\"False\",\"\").replace(\"True\",\"X\")\n",
    "\n",
    "enero[\"Diciembre\"]  = enero[\"rut1\"].isin(diciembre2023[\"rut_rut2\"]).astype(str).replace(\"False\",\"\").replace(\"True\",\"X\")\n",
    "enero[\"Diciembre web\"]  = enero[\"rut1\"].isin(diciembre2023W[\"rut_rut2\"]).astype(str).replace(\"False\",\"\").replace(\"True\",\"X\")\n",
    "enero[\"Diciembre sftp\"]  = enero[\"rut1\"].isin(diciembre2023S[\"rut_rut2\"]).astype(str).replace(\"False\",\"\").replace(\"True\",\"X\")\n",
    "enero[\"Diciembre correo\"]  = enero[\"rut1\"].isin(diciembre2023C[\"rut_rut2\"]).astype(str).replace(\"False\",\"\").replace(\"True\",\"X\")\n",
    "\n",
    "enero[\"Enero 2024\"]  = enero[\"rut1\"].isin(enero2024[\"rut_rut2\"]).astype(str).replace(\"False\",\"\").replace(\"True\",\"X\")\n",
    "enero[\"Enero 2024 web\"]  = enero[\"rut1\"].isin(enero2024W[\"rut_rut2\"]).astype(str).replace(\"False\",\"\").replace(\"True\",\"X\")\n",
    "enero[\"Enero 2024 sftp\"]  = enero[\"rut1\"].isin(enero2024S[\"rut_rut2\"]).astype(str).replace(\"False\",\"\").replace(\"True\",\"X\")\n",
    "enero[\"Enero 2024 correo\"]  = enero[\"rut1\"].isin(enero2024C[\"rut_rut2\"]).astype(str).replace(\"False\",\"\").replace(\"True\",\"X\")\n",
    "\n",
    "enero[\"Febrero 2024\"]  = enero[\"rut1\"].isin(febrero2024[\"rut_rut2\"]).astype(str).replace(\"False\",\"\").replace(\"True\",\"X\")\n",
    "enero[\"Febrero 2024 web\"]  = enero[\"rut1\"].isin(febrero2024W[\"rut_rut2\"]).astype(str).replace(\"False\",\"\").replace(\"True\",\"X\")\n",
    "enero[\"Febrero 2024 sftp\"]  = enero[\"rut1\"].isin(febrero2024S[\"rut_rut2\"]).astype(str).replace(\"False\",\"\").replace(\"True\",\"X\")\n",
    "enero[\"Febrero 2024 correo\"]  = enero[\"rut1\"].isin(febrero2024C[\"rut_rut2\"]).astype(str).replace(\"False\",\"\").replace(\"True\",\"X\")\n",
    "\n",
    "enero[\"Marzo 2024\"]  = enero[\"rut1\"].isin(marzo2024[\"rut_rut2\"]).astype(str).replace(\"False\",\"\").replace(\"True\",\"X\")\n",
    "enero[\"Marzo 2024 web\"]  = enero[\"rut1\"].isin(marzo2024W[\"rut_rut2\"]).astype(str).replace(\"False\",\"\").replace(\"True\",\"X\")\n",
    "enero[\"Marzo 2024 sftp\"]  = enero[\"rut1\"].isin(marzo2024S[\"rut_rut2\"]).astype(str).replace(\"False\",\"\").replace(\"True\",\"X\")\n",
    "enero[\"Marzo 2024 correo\"]  = enero[\"rut1\"].isin(marzo2024C[\"rut_rut2\"]).astype(str).replace(\"False\",\"\").replace(\"True\",\"X\")\n",
    "\n",
    "enero[\"Abril 2024\"]  = enero[\"rut1\"].isin(abril2024[\"rut_rut2\"]).astype(str).replace(\"False\",\"\").replace(\"True\",\"X\")\n",
    "enero[\"Abril 2024 web\"]  = enero[\"rut1\"].isin(abril2024W[\"rut_rut2\"]).astype(str).replace(\"False\",\"\").replace(\"True\",\"X\")\n",
    "enero[\"Abril 2024 sftp\"]  = enero[\"rut1\"].isin(abril2024S[\"rut_rut2\"]).astype(str).replace(\"False\",\"\").replace(\"True\",\"X\")\n",
    "enero[\"Abril 2024 correo\"]  = enero[\"rut1\"].isin(abril2024C[\"rut_rut2\"]).astype(str).replace(\"False\",\"\").replace(\"True\",\"X\")\n",
    "\n",
    "enero[\"Mayo 2024\"]  = enero[\"rut1\"].isin(mayo2024[\"rut_rut2\"]).astype(str).replace(\"False\",\"\").replace(\"True\",\"X\")\n",
    "enero[\"Mayo 2024 web\"]  = enero[\"rut1\"].isin(mayo2024W[\"rut_rut2\"]).astype(str).replace(\"False\",\"\").replace(\"True\",\"X\")\n",
    "enero[\"Mayo 2024 sftp\"]  = enero[\"rut1\"].isin(mayo2024S[\"rut_rut2\"]).astype(str).replace(\"False\",\"\").replace(\"True\",\"X\")\n",
    "enero[\"Mayo 2024 correo\"]  = enero[\"rut1\"].isin(mayo2024C[\"rut_rut2\"]).astype(str).replace(\"False\",\"\").replace(\"True\",\"X\")"
   ]
  },
  {
   "cell_type": "code",
   "execution_count": null,
   "metadata": {},
   "outputs": [],
   "source": [
    "enero.head()"
   ]
  },
  {
   "cell_type": "code",
   "execution_count": null,
   "metadata": {},
   "outputs": [],
   "source": [
    "enero.shape"
   ]
  },
  {
   "cell_type": "code",
   "execution_count": null,
   "metadata": {},
   "outputs": [],
   "source": [
    "enero.to_excel(\"F:/2024/MetLife/datos_metlife_fecha_canal.xlsx\", index=False)"
   ]
  },
  {
   "cell_type": "code",
   "execution_count": null,
   "metadata": {},
   "outputs": [],
   "source": [
    "enerob = enero[[\n",
    "    \"rut1\",\"VIGENTE 19.03.2023\",\"EN WEBSERVICE\",\"OBSERVACION\",\"Enero\",\"Febrero\",\"Marzo\",\"Abril\",\"Mayo\",\"Junio\",\"Julio\",\"Agosto\",\"Septiembre\",\"Octubre\",\"Noviembre\",\"Diciembre\",\"Enero 2024\",\"Febrero 2024\",\"Marzo 2024\"\n",
    "]]"
   ]
  },
  {
   "cell_type": "code",
   "execution_count": null,
   "metadata": {},
   "outputs": [],
   "source": [
    "enerob.head()"
   ]
  },
  {
   "cell_type": "code",
   "execution_count": null,
   "metadata": {},
   "outputs": [],
   "source": [
    "enerob.to_excel(\"F:/2024/MetLife/datos_metlife_fecha_mes.xlsx\", index=False)"
   ]
  },
  {
   "cell_type": "code",
   "execution_count": null,
   "metadata": {},
   "outputs": [],
   "source": [
    "derty[\"esta\"] = derty[\"rut1\"].isin(rut_unicos2[\"rut_rut2\"])\n",
    "rut_unicos[\"rut_sin\"] = rut_unicos[\"Rut_T\"].apply(lambda y: sacarultimo(y))\n",
    "derty[\"unicos\"] = derty[\"rut1\"].isin(rut_unicos[\"rut_sin\"])\n",
    "derty.to_excel(\"F:/2024/MetLife/datos_metlife_esta.xlsx\", index=False)\n"
   ]
  },
  {
   "cell_type": "code",
   "execution_count": 10,
   "metadata": {
    "notebookRunGroups": {
     "groupValue": "1"
    }
   },
   "outputs": [],
   "source": [
    "def fechaValida(fecha):\n",
    "    if (len(str(fecha)) <= 9 ):\n",
    "        fecha = \"\"\n",
    "        \n",
    "    fecha = str(fecha)\n",
    "    fecha1 = str(fecha)\n",
    "    \n",
    "    #datetime.strptime(fecha, '%Y-%m-%d')\n",
    "    \n",
    "    try:\n",
    "        fecha = datetime.strptime(fecha, '%Y-%m-%d %H:%M:%S')\n",
    "        date_string = fecha1\n",
    "        #print(\"date_string =\", date_string)\n",
    "        #print(\"type of date_string =\", type(date_string))\n",
    "\n",
    "        date_object = datetime.strptime(date_string, \"%Y-%m-%d %H:%M:%S\")\n",
    "\n",
    "        #print(\"date_object =\", date_object)\n",
    "        #print(\"type of date_object =\", type(date_object))\n",
    "        return date_object\n",
    "    except ValueError:\n",
    "        return datetime.utcnow().strftime('%Y-%m-%d %H:%M:%S')"
   ]
  },
  {
   "cell_type": "code",
   "execution_count": 11,
   "metadata": {
    "notebookRunGroups": {
     "groupValue": "1"
    }
   },
   "outputs": [],
   "source": [
    "mes = 5\n",
    "año = \"2024\"\n",
    "fecha = año + \"-\" + str(mes) + \"-\" + \"01\"  \n",
    "mesesDic = {\n",
    "    1: \"Enero\",\n",
    "    2: \"Febrero\",\n",
    "    3: \"Marzo\",\n",
    "    4: \"Abril\",\n",
    "    5: \"Mayo\",\n",
    "    6: \"Junio\",\n",
    "    7: \"Julio\",\n",
    "    8: \"Agosto\",\n",
    "    9: \"Septiembre\",\n",
    "    10: \"Octubre\",\n",
    "    11: \"Noviembre\",\n",
    "    12: \"Diciembre\",\n",
    "}\n",
    "\n",
    "str(mesesDic[mes])\n",
    "\n",
    "\n",
    "\n",
    "sftp = \"F:/2024/MetLife/\" + str(mesesDic[mes]) + año + \"/Subir/sftp.xlsx\"\n",
    "\n",
    "\n",
    "# nuevos = \"F:/Empresas SF/reportes/carga.xlsx\"\n",
    "\n",
    "\n",
    "derty = pd.read_excel(sftp)"
   ]
  },
  {
   "cell_type": "code",
   "execution_count": null,
   "metadata": {
    "notebookRunGroups": {
     "groupValue": "1"
    }
   },
   "outputs": [],
   "source": [
    "derty.shape"
   ]
  },
  {
   "cell_type": "code",
   "execution_count": null,
   "metadata": {
    "notebookRunGroups": {
     "groupValue": "1"
    }
   },
   "outputs": [],
   "source": [
    "metlife_sftp = pd.DataFrame()\n",
    "metlife_sftp = derty.copy()"
   ]
  },
  {
   "cell_type": "code",
   "execution_count": null,
   "metadata": {
    "notebookRunGroups": {
     "groupValue": "1"
    }
   },
   "outputs": [],
   "source": [
    "\n",
    "\n",
    "metlife_sftp[\"rut1\"] = metlife_sftp[\"rut1\"].astype(str)\n",
    "#metlife_sftp[\"rut1\"] = metlife_sftp[\"rut1\"].apply(lambda y: siPrimerCero(y))\n",
    "metlife_sftp[\"rut1\"] = metlife_sftp[\"rut1\"].str.replace(\"-\", \"\")\n",
    "metlife_sftp[\"rut1\"] = metlife_sftp[\"rut1\"].str.replace(\"–\", \"\")\n",
    "metlife_sftp[\"rut1\"] = metlife_sftp[\"rut1\"].astype(str)\n",
    "metlife_sftp[\"rut1\"] = metlife_sftp[\"rut1\"].str.replace(\".\", \"\")\n",
    "metlife_sftp[\"rut1\"] = metlife_sftp[\"rut1\"].str.replace(\" \", \"\")\n",
    "metlife_sftp[\"rut1\"] = metlife_sftp[\"rut1\"].str.upper()\n",
    "metlife_sftp[\"rut1\"] = metlife_sftp[\"rut1\"].str.strip()\n",
    "\n",
    "metlife_sftp[\"rut2\"] = metlife_sftp[\"rut2\"].astype(str)\n",
    "#metlife_sftp[\"rut2\"] = metlife_sftp[\"rut2\"].apply(lambda y: siPrimerCero(y))\n",
    "metlife_sftp[\"rut2\"] = metlife_sftp[\"rut2\"].str.replace(\"-\", \"\")\n",
    "metlife_sftp[\"rut2\"] = metlife_sftp[\"rut2\"].str.replace(\"–\", \"\")\n",
    "metlife_sftp[\"rut2\"] = metlife_sftp[\"rut2\"].astype(str)\n",
    "metlife_sftp[\"rut2\"] = metlife_sftp[\"rut2\"].str.replace(\".\", \"\")\n",
    "metlife_sftp[\"rut2\"] = metlife_sftp[\"rut2\"].str.replace(\" \", \"\")\n",
    "metlife_sftp[\"rut2\"] = metlife_sftp[\"rut2\"].str.upper()\n",
    "metlife_sftp[\"rut2\"] = metlife_sftp[\"rut2\"].str.strip()\n",
    "\n",
    "metlife_sftp[\"Nombre\"] = metlife_sftp[\"Nombre\"].str.replace(\",\", \"\")\n",
    "metlife_sftp[\"Nombre\"] = metlife_sftp[\"Nombre\"].str.replace(\".\", \"\")\n",
    "metlife_sftp[\"Nombre\"] = metlife_sftp[\"Nombre\"].str.replace(\"-\", \"\")\n",
    "metlife_sftp[\"Nombre\"] = metlife_sftp[\"Nombre\"].str.replace(\"┐\", \"\")\n",
    "metlife_sftp[\"Nombre\"] = metlife_sftp[\"Nombre\"].str.replace(\"═\", \"\")\n",
    "metlife_sftp[\"Nombre\"] = metlife_sftp[\"Nombre\"].str.replace(\"╔\", \"\")\n",
    "metlife_sftp[\"Nombre\"] = metlife_sftp[\"Nombre\"].str.replace(\"┌\", \"\")\n",
    "metlife_sftp[\"Nombre\"] = metlife_sftp[\"Nombre\"].str.title()\n",
    "metlife_sftp[\"Nombre\"] = metlife_sftp[\"Nombre\"].str.strip()\n",
    "\n",
    "metlife_sftp[\"poliza\"] = metlife_sftp[\"poliza\"].astype(str)\n",
    "metlife_sftp[\"poliza\"] = metlife_sftp[\"poliza\"].str.strip()\n",
    "\n",
    "\n",
    "\n",
    "#*******************sacar primer cero\n",
    "metlife_sftp.shape"
   ]
  },
  {
   "cell_type": "code",
   "execution_count": null,
   "metadata": {
    "notebookRunGroups": {
     "groupValue": "1"
    }
   },
   "outputs": [],
   "source": [
    "metlife_sftp.head()"
   ]
  },
  {
   "cell_type": "code",
   "execution_count": null,
   "metadata": {
    "notebookRunGroups": {
     "groupValue": "1"
    }
   },
   "outputs": [],
   "source": [
    "def siPrimerCero(y):    \n",
    "    if len(y) <= 4:\n",
    "        y =  \"NONE\"\n",
    "    if y[0] == \"0\":\n",
    "        y = y[1:]\n",
    "    return str(y)\n",
    "    "
   ]
  },
  {
   "cell_type": "code",
   "execution_count": null,
   "metadata": {
    "notebookRunGroups": {
     "groupValue": "1"
    }
   },
   "outputs": [],
   "source": [
    "metlife_sftp[\"rut1\"] = metlife_sftp[\"rut1\"].apply(lambda y: siPrimerCero(y))\n",
    "metlife_sftp[\"rut2\"] = metlife_sftp[\"rut2\"].apply(lambda y: siPrimerCero(y))\n",
    "metlife_sftp = metlife_sftp[(metlife_sftp[\"rut1\"] != \"NONE\")]\n",
    "metlife_sftp = metlife_sftp[(metlife_sftp[\"rut2\"] != \"NONE\")]\n",
    "\n",
    "\n",
    "metlife_sftp[\"Titular\"] = np.where(metlife_sftp[\"rut1\"] == metlife_sftp[\"rut2\"],1,2 )\n",
    "metlife_sftp = metlife_sftp[(metlife_sftp[\"Titular\"] == 1)]\n",
    "metlife_sftp = metlife_sftp.drop_duplicates(\n",
    "    [\n",
    "        \"rut1\",\"poliza\",\n",
    "    ],\n",
    "    keep=\"last\",\n",
    ")\n",
    "\n",
    "metlife_sftp.shape"
   ]
  },
  {
   "cell_type": "code",
   "execution_count": null,
   "metadata": {
    "notebookRunGroups": {
     "groupValue": "1"
    }
   },
   "outputs": [],
   "source": [
    "metlife_sftp.shape"
   ]
  },
  {
   "cell_type": "code",
   "execution_count": null,
   "metadata": {
    "notebookRunGroups": {
     "groupValue": "1"
    }
   },
   "outputs": [],
   "source": [
    "correo = \"F:/2024/MetLife/\" + str(mesesDic[mes]) + año + \"/Subir/correo.xlsx\"\n",
    "dertyc = pd.read_excel(correo)\n",
    "metlife_correo = dertyc.copy()\n",
    "\n",
    "# nuevos = \"F:/Empresas SF/reportes/carga.xlsx\"\n",
    "\n",
    "\n",
    "\n",
    "metlife_correo[\"rut1\"] = metlife_correo[\"rut1\"].astype(str)\n",
    "#metlife_sftp[\"rut1\"] = metlife_sftp[\"rut1\"].apply(lambda y: siPrimerCero(y))\n",
    "metlife_correo[\"rut1\"] = metlife_correo[\"rut1\"].str.replace(\"-\", \"\")\n",
    "metlife_correo[\"rut1\"] = metlife_correo[\"rut1\"].str.replace(\"–\", \"\")\n",
    "metlife_correo[\"rut1\"] = metlife_correo[\"rut1\"].astype(str)\n",
    "metlife_correo[\"rut1\"] = metlife_correo[\"rut1\"].str.replace(\".\", \"\")\n",
    "metlife_correo[\"rut1\"] = metlife_correo[\"rut1\"].str.replace(\" \", \"\")\n",
    "metlife_correo[\"rut1\"] = metlife_correo[\"rut1\"].str.upper()\n",
    "metlife_correo[\"rut1\"] = metlife_correo[\"rut1\"].str.strip()\n",
    "\n",
    "metlife_correo[\"rut2\"] = metlife_correo[\"rut2\"].astype(str)\n",
    "#metlife_sftp[\"rut2\"] = metlife_sftp[\"rut2\"].apply(lambda y: siPrimerCero(y))\n",
    "metlife_correo[\"rut2\"] = metlife_correo[\"rut2\"].str.replace(\"-\", \"\")\n",
    "metlife_correo[\"rut2\"] = metlife_correo[\"rut2\"].str.replace(\"–\", \"\")\n",
    "metlife_correo[\"rut2\"] = metlife_correo[\"rut2\"].astype(str)\n",
    "metlife_correo[\"rut2\"] = metlife_correo[\"rut2\"].str.replace(\".\", \"\")\n",
    "metlife_correo[\"rut2\"] = metlife_correo[\"rut2\"].str.replace(\" \", \"\")\n",
    "metlife_correo[\"rut2\"] = metlife_correo[\"rut2\"].str.upper()\n",
    "metlife_correo[\"rut2\"] = metlife_correo[\"rut2\"].str.strip()\n",
    "\n",
    "metlife_correo[\"Nombre\"] = metlife_correo[\"Nombre\"].str.replace(\",\", \"\")\n",
    "metlife_correo[\"Nombre\"] = metlife_correo[\"Nombre\"].str.replace(\".\", \"\")\n",
    "metlife_correo[\"Nombre\"] = metlife_correo[\"Nombre\"].str.replace(\"-\", \"\")\n",
    "metlife_correo[\"Nombre\"] = metlife_correo[\"Nombre\"].str.replace(\"┐\", \"\")\n",
    "metlife_correo[\"Nombre\"] = metlife_correo[\"Nombre\"].str.replace(\"═\", \"\")\n",
    "metlife_correo[\"Nombre\"] = metlife_correo[\"Nombre\"].str.replace(\"╔\", \"\")\n",
    "metlife_correo[\"Nombre\"] = metlife_correo[\"Nombre\"].str.replace(\"┌\", \"\")\n",
    "metlife_correo[\"Nombre\"] = metlife_correo[\"Nombre\"].str.title()\n",
    "metlife_correo[\"Nombre\"] = metlife_correo[\"Nombre\"].str.strip()\n",
    "\n",
    "metlife_correo[\"poliza\"] = metlife_correo[\"poliza\"].astype(str)\n",
    "metlife_correo[\"poliza\"] = metlife_correo[\"poliza\"].str.strip()\n",
    "\n",
    "\n",
    "\n",
    "\n",
    "#*******************sacar primer cero\n",
    "metlife_correo.shape\n",
    "#derty = pd.read_excel(sftp)"
   ]
  },
  {
   "cell_type": "code",
   "execution_count": null,
   "metadata": {
    "notebookRunGroups": {
     "groupValue": "1"
    }
   },
   "outputs": [],
   "source": [
    "metlife_correo[\"rut1\"] = metlife_correo[\"rut1\"].apply(lambda y: siPrimerCero(y))\n",
    "metlife_correo[\"rut2\"] = metlife_correo[\"rut2\"].apply(lambda y: siPrimerCero(y))\n",
    "metlife_correo = metlife_correo[(metlife_correo[\"rut1\"] != \"NONE\")]\n",
    "metlife_correo = metlife_correo[(metlife_correo[\"rut2\"] != \"NONE\")]\n",
    "\n",
    "metlife_correo[\"Titular\"] = np.where(metlife_correo[\"rut1\"] == metlife_correo[\"rut2\"],1,2 )\n",
    "metlife_correo = metlife_correo[(metlife_correo[\"Titular\"] == 1)]\n",
    "metlife_correo = metlife_correo.drop_duplicates(\n",
    "    [\n",
    "        \"rut1\",\"poliza\"\n",
    "    ],\n",
    "    keep=\"last\",\n",
    ")\n",
    "\n",
    "metlife_correo.shape"
   ]
  },
  {
   "cell_type": "code",
   "execution_count": null,
   "metadata": {},
   "outputs": [],
   "source": [
    "metlife_correo.shape"
   ]
  },
  {
   "cell_type": "code",
   "execution_count": null,
   "metadata": {
    "notebookRunGroups": {
     "groupValue": "1"
    }
   },
   "outputs": [],
   "source": [
    "web = \"F:/2024/MetLife/\" + str(mesesDic[mes]) + año + \"/Subir/web.xlsx\"\n",
    "dertyd = pd.read_excel(web)\n"
   ]
  },
  {
   "cell_type": "code",
   "execution_count": null,
   "metadata": {
    "notebookRunGroups": {
     "groupValue": "1"
    }
   },
   "outputs": [],
   "source": [
    "dertyd.head(9)"
   ]
  },
  {
   "cell_type": "code",
   "execution_count": null,
   "metadata": {
    "notebookRunGroups": {
     "groupValue": "1"
    }
   },
   "outputs": [],
   "source": [
    "metlife_web = dertyd.copy()"
   ]
  },
  {
   "cell_type": "code",
   "execution_count": null,
   "metadata": {
    "notebookRunGroups": {
     "groupValue": ""
    }
   },
   "outputs": [],
   "source": [
    "metlife_web.head()\n",
    "metlife_web.shape"
   ]
  },
  {
   "cell_type": "code",
   "execution_count": null,
   "metadata": {
    "notebookRunGroups": {
     "groupValue": "1"
    }
   },
   "outputs": [],
   "source": [
    "\n",
    "\n",
    "# nuevos = \"F:/Empresas SF/reportes/carga.xlsx\"\n",
    "\n",
    "\n",
    "\n",
    "metlife_web[\"rut1\"] = metlife_web[\"rut1\"].astype(str)\n",
    "#metlife_sftp[\"rut1\"] = metlife_sftp[\"rut1\"].apply(lambda y: siPrimerCero(y))\n",
    "metlife_web[\"rut1\"] = metlife_web[\"rut1\"].str.replace(\"-\", \"\")\n",
    "metlife_web[\"rut1\"] = metlife_web[\"rut1\"].str.replace(\"–\", \"\")\n",
    "metlife_web[\"rut1\"] = metlife_web[\"rut1\"].astype(str)\n",
    "metlife_web[\"rut1\"] = metlife_web[\"rut1\"].str.replace(\".\", \"\")\n",
    "metlife_web[\"rut1\"] = metlife_web[\"rut1\"].str.replace(\" \", \"\")\n",
    "metlife_web[\"rut1\"] = metlife_web[\"rut1\"].str.upper()\n",
    "metlife_web[\"rut1\"] = metlife_web[\"rut1\"].str.strip()\n",
    "\n",
    "metlife_web[\"rut2\"] = metlife_web[\"rut2\"].astype(str)\n",
    "#metlife_sftp[\"rut2\"] = metlife_sftp[\"rut2\"].apply(lambda y: siPrimerCero(y))\n",
    "metlife_web[\"rut2\"] = metlife_web[\"rut2\"].str.replace(\"-\", \"\")\n",
    "metlife_web[\"rut2\"] = metlife_web[\"rut2\"].str.replace(\"–\", \"\")\n",
    "metlife_web[\"rut2\"] = metlife_web[\"rut2\"].astype(str)\n",
    "metlife_web[\"rut2\"] = metlife_web[\"rut2\"].str.replace(\".\", \"\")\n",
    "metlife_web[\"rut2\"] = metlife_web[\"rut2\"].str.replace(\" \", \"\")\n",
    "metlife_web[\"rut2\"] = metlife_web[\"rut2\"].str.upper()\n",
    "metlife_web[\"rut2\"] = metlife_web[\"rut2\"].str.strip()\n",
    "\n",
    "metlife_web[\"Nombre\"] = metlife_web[\"Nombre\"].str.replace(\",\", \"\")\n",
    "metlife_web[\"Nombre\"] = metlife_web[\"Nombre\"].str.replace(\".\", \"\")\n",
    "metlife_web[\"Nombre\"] = metlife_web[\"Nombre\"].str.replace(\"-\", \"\")\n",
    "metlife_web[\"Nombre\"] = metlife_web[\"Nombre\"].str.replace(\"┐\", \"\")\n",
    "metlife_web[\"Nombre\"] = metlife_web[\"Nombre\"].str.replace(\"═\", \"\")\n",
    "metlife_web[\"Nombre\"] = metlife_web[\"Nombre\"].str.replace(\"╔\", \"\")\n",
    "metlife_web[\"Nombre\"] = metlife_web[\"Nombre\"].str.replace(\"┌\", \"\")\n",
    "metlife_web[\"Nombre\"] = metlife_web[\"Nombre\"].str.title()\n",
    "metlife_web[\"Nombre\"] = metlife_web[\"Nombre\"].str.strip()\n",
    "\n",
    "metlife_web[\"poliza\"] = metlife_web[\"poliza\"].astype(str)\n",
    "metlife_web[\"poliza\"] = metlife_web[\"poliza\"].str.strip()\n",
    "\n",
    "metlife_web[\"rut1\"] = metlife_web[\"rut1\"].apply(lambda y: siPrimerCero(y))\n",
    "metlife_web[\"rut2\"] = metlife_web[\"rut2\"].apply(lambda y: siPrimerCero(y))\n",
    "metlife_web = metlife_web[(metlife_web[\"rut1\"] != \"NONE\")]\n",
    "metlife_web = metlife_web[(metlife_web[\"rut2\"] != \"NONE\")]\n",
    "metlife_web.shape\n",
    "\n",
    "metlife_web[\"Titular\"] = np.where(metlife_web[\"rut1\"] == metlife_web[\"rut2\"],1,2 )\n",
    "metlife_web = metlife_web[(metlife_web[\"Titular\"] == 1)]\n",
    "\n",
    "metlife_web = metlife_web.drop_duplicates(\n",
    "    [\n",
    "        \"rut1\",\"poliza\"\n",
    "    ],\n",
    "    keep=\"last\",\n",
    ")\n",
    "\n",
    "\n",
    "#*******************sacar primer cero\n",
    "metlife_web.shape\n",
    "#derty = pd.read_excel(sftp)"
   ]
  },
  {
   "cell_type": "code",
   "execution_count": null,
   "metadata": {
    "notebookRunGroups": {
     "groupValue": "1"
    }
   },
   "outputs": [],
   "source": [
    "webq = \"F:/2024/MetLife/\" + str(mesesDic[mes]) + año + \"/Subir/Q.xlsx\"\n",
    "metlife_Q = pd.read_excel(webq)\n",
    "\n",
    "metlife_Q[\"rut1\"] = metlife_Q[\"rut1\"].astype(str)\n",
    "#metlife_sftp[\"rut1\"] = metlife_sftp[\"rut1\"].apply(lambda y: siPrimerCero(y))\n",
    "metlife_Q[\"rut1\"] = metlife_Q[\"rut1\"].str.replace(\"-\", \"\")\n",
    "metlife_Q[\"rut1\"] = metlife_Q[\"rut1\"].str.replace(\"–\", \"\")\n",
    "metlife_Q[\"rut1\"] = metlife_Q[\"rut1\"].astype(str)\n",
    "metlife_Q[\"rut1\"] = metlife_Q[\"rut1\"].str.replace(\".\", \"\")\n",
    "metlife_Q[\"rut1\"] = metlife_Q[\"rut1\"].str.replace(\" \", \"\")\n",
    "metlife_Q[\"rut1\"] = metlife_Q[\"rut1\"].str.upper()\n",
    "metlife_Q[\"rut1\"] = metlife_Q[\"rut1\"].str.strip()\n",
    "\n",
    "metlife_Q[\"rut2\"] = metlife_Q[\"rut2\"].astype(str)\n",
    "#metlife_sftp[\"rut2\"] = metlife_sftp[\"rut2\"].apply(lambda y: siPrimerCero(y))\n",
    "metlife_Q[\"rut2\"] = metlife_Q[\"rut2\"].str.replace(\"-\", \"\")\n",
    "metlife_Q[\"rut2\"] = metlife_Q[\"rut2\"].str.replace(\"–\", \"\")\n",
    "metlife_Q[\"rut2\"] = metlife_Q[\"rut2\"].astype(str)\n",
    "metlife_Q[\"rut2\"] = metlife_Q[\"rut2\"].str.replace(\".\", \"\")\n",
    "metlife_Q[\"rut2\"] = metlife_Q[\"rut2\"].str.replace(\" \", \"\")\n",
    "metlife_Q[\"rut2\"] = metlife_Q[\"rut2\"].str.upper()\n",
    "metlife_Q[\"rut2\"] = metlife_Q[\"rut2\"].str.strip()\n",
    "\n",
    "metlife_Q[\"Nombre\"] = metlife_Q[\"Nombre\"].str.replace(\",\", \"\")\n",
    "metlife_Q[\"Nombre\"] = metlife_Q[\"Nombre\"].str.replace(\".\", \"\")\n",
    "metlife_Q[\"Nombre\"] = metlife_Q[\"Nombre\"].str.replace(\"-\", \"\")\n",
    "metlife_Q[\"Nombre\"] = metlife_Q[\"Nombre\"].str.replace(\"┐\", \"\")\n",
    "metlife_Q[\"Nombre\"] = metlife_Q[\"Nombre\"].str.replace(\"═\", \"\")\n",
    "metlife_Q[\"Nombre\"] = metlife_Q[\"Nombre\"].str.replace(\"╔\", \"\")\n",
    "metlife_Q[\"Nombre\"] = metlife_Q[\"Nombre\"].str.replace(\"┌\", \"\")\n",
    "metlife_Q[\"Nombre\"] = metlife_Q[\"Nombre\"].str.title()\n",
    "metlife_Q[\"Nombre\"] = metlife_Q[\"Nombre\"].str.strip()\n",
    "\n",
    "metlife_Q[\"poliza\"] = metlife_Q[\"poliza\"].astype(str)\n",
    "metlife_Q[\"poliza\"] = metlife_Q[\"poliza\"].str.strip()\n",
    "\n",
    "metlife_Q[\"rut1\"] = metlife_Q[\"rut1\"].apply(lambda y: siPrimerCero(y))\n",
    "metlife_Q[\"rut2\"] = metlife_Q[\"rut2\"].apply(lambda y: siPrimerCero(y))\n",
    "metlife_Q = metlife_Q[(metlife_Q[\"rut1\"] != \"NONE\")]\n",
    "metlife_Q = metlife_Q[(metlife_Q[\"rut2\"] != \"NONE\")]\n",
    "metlife_Q.shape\n",
    "\n",
    "metlife_Q[\"Titular\"] = np.where(metlife_Q[\"rut1\"] == metlife_Q[\"rut2\"],1,2 )\n",
    "metlife_Q = metlife_Q[(metlife_Q[\"Titular\"] == 1)]\n",
    "\n",
    "metlife_Q = metlife_Q.drop_duplicates(\n",
    "    [\n",
    "        \"rut1\",\"poliza\"\n",
    "    ],\n",
    "    keep=\"last\",\n",
    ")\n",
    "\n",
    "\n",
    "#*******************sacar primer cero\n",
    "metlife_Q.shape\n",
    "#derty = pd.read_excel(sftp)"
   ]
  },
  {
   "cell_type": "code",
   "execution_count": null,
   "metadata": {
    "notebookRunGroups": {
     "groupValue": "1"
    }
   },
   "outputs": [],
   "source": [
    "subir_correo = pd.DataFrame()\n",
    "subir_correo[\"poliza_rut\"] = metlife_correo[\"poliza\"]\n",
    "subir_correo[\"rut_rut\"] = metlife_correo[\"rut1\"]\n",
    "subir_correo[\"nombre_rut\"] = metlife_correo[\"Nombre\"]\n",
    "subir_correo[\"mes_rut\"] = str(mes)\n",
    "subir_correo[\"año_rut\"] = str(año)\n",
    "#subir_correo[\"fecha_rut\"] = metlife_correo[\"fecha\"].apply(lambda y: fechaValida(y))\n",
    "subir_correo[\"Llave\"] = metlife_correo[\"poliza\"] + metlife_correo[\"rut1\"] + str(mes) + str(año)\n",
    "subir_correo[\"desde_rut\"] = metlife_correo[\"desde\"].apply(lambda y: fechaValida(y))\n",
    "subir_correo[\"hasta_rut\"] = metlife_correo[\"hasta\"].apply(lambda y: fechaValida(y))\n",
    "subir_correo[\"canal_rut\"] = \"email\"\n",
    "\n",
    "subir_sql = pd.DataFrame()\n",
    "subir_sql[\"poliza_rut\"] = metlife_sftp[\"poliza\"]\n",
    "subir_sql[\"rut_rut\"] = metlife_sftp[\"rut1\"]\n",
    "subir_sql[\"nombre_rut\"] = metlife_sftp[\"Nombre\"]\n",
    "subir_sql[\"mes_rut\"] = str(mes)\n",
    "subir_sql[\"año_rut\"] = str(año)\n",
    "#subir_sql[\"fecha_rut\"] = metlife_sftp[\"fecha\"].apply(lambda y: fechaValida(y))\n",
    "subir_sql[\"Llave\"] = metlife_sftp[\"poliza\"] + metlife_sftp[\"rut1\"] + str(mes) + str(año)\n",
    "subir_sql[\"desde_rut\"] = metlife_sftp[\"desde\"].apply(lambda y: fechaValida(y))\n",
    "subir_sql[\"hasta_rut\"] = metlife_sftp[\"hasta\"].apply(lambda y: fechaValida(y)) \n",
    "subir_sql[\"canal_rut\"] = \"sftp\"\n",
    "\n",
    "subir_web = pd.DataFrame()\n",
    "subir_web[\"poliza_rut\"] = metlife_web[\"poliza\"]\n",
    "subir_web[\"rut_rut\"] = metlife_web[\"rut1\"]\n",
    "subir_web[\"nombre_rut\"] = metlife_web[\"Nombre\"]\n",
    "subir_web[\"mes_rut\"] = str(mes)\n",
    "subir_web[\"año_rut\"] = str(año)\n",
    "#subir_web[\"fecha_rut\"] = metlife_web[\"fecha\"].apply(lambda y: fechaValida(y))\n",
    "subir_web[\"Llave\"] = metlife_web[\"poliza\"] + metlife_web[\"rut1\"] + str(mes) + str(año)\n",
    "subir_web[\"desde_rut\"] = metlife_web[\"desde\"].apply(lambda y: fechaValida(y))\n",
    "subir_web[\"hasta_rut\"] = metlife_web[\"hasta\"].apply(lambda y: fechaValida(y))\n",
    "subir_web[\"canal_rut\"] = \"web\"\n",
    "\n",
    "subir_Q = pd.DataFrame()\n",
    "subir_Q[\"poliza_rut\"] = metlife_Q[\"poliza\"]\n",
    "subir_Q[\"rut_rut\"] = metlife_Q[\"rut1\"]\n",
    "subir_Q[\"nombre_rut\"] = metlife_Q[\"Nombre\"]\n",
    "subir_Q[\"mes_rut\"] = str(mes)\n",
    "subir_Q[\"año_rut\"] = str(año)\n",
    "#subir_Q[\"fecha_rut\"] = metlife_Q[\"fecha\"].apply(lambda y: fechaValida(y))\n",
    "subir_Q[\"Llave\"] = metlife_Q[\"poliza\"] + metlife_web[\"rut1\"] + str(mes) + str(año)\n",
    "subir_Q[\"desde_rut\"] = metlife_Q[\"desde\"].apply(lambda y: fechaValida(y))\n",
    "subir_Q[\"hasta_rut\"] = metlife_Q[\"hasta\"].apply(lambda y: fechaValida(y))\n",
    "subir_Q[\"canal_rut\"] = \"correo2\"\n",
    "\n",
    "mes_metlife = pd.DataFrame()\n",
    "mes_metlife = pd.concat(\n",
    "    [\n",
    "        subir_web,\n",
    "        subir_sql,\n",
    "        subir_correo,\n",
    "        subir_Q,\n",
    "        \n",
    "    ],\n",
    "    axis=0,\n",
    ")\n",
    "mes_metlife[\"fecha_rut\"] = pd.to_datetime(fecha, yearfirst=True)\n",
    "\n",
    "mes_metlife = mes_metlife.drop_duplicates(\n",
    "    [\n",
    "        \"rut_rut\",\"poliza_rut\",\n",
    "    ],\n",
    "    keep=\"last\",\n",
    ")\n",
    "mes_metlife.head()"
   ]
  },
  {
   "cell_type": "markdown",
   "metadata": {},
   "source": [
    "//////////////////////////////////////////////////////////////////////////\n",
    "\n",
    "NUMERO RUTS POR POLIZA\n",
    "****************************************************************"
   ]
  },
  {
   "cell_type": "code",
   "execution_count": null,
   "metadata": {
    "notebookRunGroups": {
     "groupValue": "1"
    }
   },
   "outputs": [],
   "source": [
    "mes_metlife.shape\n",
    "print ( str(mes) + \"-\" + str(año) + \" \" + str(mes_metlife.shape[0]))"
   ]
  },
  {
   "cell_type": "markdown",
   "metadata": {},
   "source": [
    "////////////////////////////////////////////////\n",
    "\n",
    "NUMERO RUT UNICOS\n",
    "------------------------------------------------------------------------------------------------"
   ]
  },
  {
   "cell_type": "code",
   "execution_count": null,
   "metadata": {
    "notebookRunGroups": {
     "groupValue": "1"
    }
   },
   "outputs": [],
   "source": [
    "mes_metlife2 = mes_metlife.drop_duplicates(\n",
    "    [\n",
    "        \"rut_rut\"\n",
    "    ],\n",
    "    keep=\"last\",\n",
    ")\n",
    "mes_metlife2.shape\n",
    "print (str(mes) + \"-\" + str(año) + \" \" + str(mes_metlife2.shape[0]))"
   ]
  },
  {
   "cell_type": "code",
   "execution_count": null,
   "metadata": {
    "notebookRunGroups": {
     "groupValue": "1"
    }
   },
   "outputs": [],
   "source": [
    "#subir_web[\"Llave\"]\n",
    "mes_metlife[\"esta\"] =  mes_metlife[\"Llave\"].isin(rut_unico_tiempo_[\"Llave\"])\n",
    "mes_metlife = mes_metlife[(mes_metlife[\"esta\"] == False)]\n",
    "\n",
    "mes_metlife = mes_metlife[\n",
    "    [\n",
    "        \"poliza_rut\",\n",
    "        \"rut_rut\",\n",
    "        \"nombre_rut\",\n",
    "        \"mes_rut\",\n",
    "        \"año_rut\",\n",
    "        \"fecha_rut\",\n",
    "        \"Llave\",\n",
    "        \"desde_rut\",\n",
    "        \"hasta_rut\",\n",
    "        \"canal_rut\"\n",
    "    ]\n",
    "]\n",
    "mes_metlife.shape"
   ]
  },
  {
   "cell_type": "code",
   "execution_count": null,
   "metadata": {
    "notebookRunGroups": {
     "groupValue": "1"
    }
   },
   "outputs": [],
   "source": [
    "mes_metlife.to_sql(\n",
    "    name=\"rut_unico_tiempo_2\",\n",
    "    con=motor_mysql_mariadb,\n",
    "    if_exists=\"append\",\n",
    "    index=False,\n",
    "    chunksize=10000,\n",
    ")"
   ]
  },
  {
   "cell_type": "code",
   "execution_count": null,
   "metadata": {
    "notebookRunGroups": {
     "groupValue": "1"
    }
   },
   "outputs": [],
   "source": [
    "subir_unicos = pd.DataFrame()\n",
    "subir_unicos[\"Rut_T\"] = mes_metlife2[\"rut_rut\"]\n",
    "subir_unicos[\"Rut_C\"] = mes_metlife2[\"rut_rut\"]\n",
    "subir_unicos[\"Nombre\"] = mes_metlife2[\"nombre_rut\"]\n",
    "subir_unicos[\"Llave\"] = mes_metlife2[\"rut_rut\"] +  mes_metlife2[\"rut_rut\"]\n",
    "\n",
    "\n",
    "subir_unicos.shape"
   ]
  },
  {
   "cell_type": "code",
   "execution_count": null,
   "metadata": {
    "notebookRunGroups": {
     "groupValue": "1"
    }
   },
   "outputs": [],
   "source": [
    "subir_unicos[\"esta\"] =  subir_unicos[\"Rut_T\"].isin(rut_unicos[\"Rut_T\"])\n",
    "subir_unicos = subir_unicos[(subir_unicos[\"esta\"] == False)]\n",
    "\n",
    "subir_unicos = subir_unicos[\n",
    "    [\n",
    "        \"Rut_T\",\n",
    "        \"Rut_C\",\n",
    "        \"Nombre\",\n",
    "        \"Llave\",\n",
    "    ]\n",
    "]\n",
    "subir_unicos.shape\n",
    "subir_unicos.to_sql(\n",
    "    name=\"rut_unicos\",\n",
    "    con=motor_mysql_mariadb,\n",
    "    if_exists=\"append\",\n",
    "    index=False,\n",
    "    chunksize=10000,\n",
    ")"
   ]
  },
  {
   "cell_type": "code",
   "execution_count": 5,
   "metadata": {},
   "outputs": [],
   "source": [
    "sftp = \"F:/2024/MetLife/metlife_analisis_abril2024.xlsx\"\n",
    "resultado = pd.read_excel(sftp)"
   ]
  },
  {
   "cell_type": "code",
   "execution_count": 6,
   "metadata": {},
   "outputs": [
    {
     "data": {
      "text/plain": [
       "(326270, 24)"
      ]
     },
     "execution_count": 6,
     "metadata": {},
     "output_type": "execute_result"
    }
   ],
   "source": [
    "resultado.shape"
   ]
  },
  {
   "cell_type": "code",
   "execution_count": 33,
   "metadata": {},
   "outputs": [
    {
     "data": {
      "text/plain": [
       "(508621, 6)"
      ]
     },
     "execution_count": 33,
     "metadata": {},
     "output_type": "execute_result"
    }
   ],
   "source": [
    "rut_unicos.shape"
   ]
  },
  {
   "cell_type": "code",
   "execution_count": 8,
   "metadata": {},
   "outputs": [],
   "source": [
    "rut_unicos[\"esta\"] =  rut_unicos[\"Rut_T\"].isin(resultado[\"rut2\"])"
   ]
  },
  {
   "cell_type": "code",
   "execution_count": 10,
   "metadata": {},
   "outputs": [
    {
     "data": {
      "text/html": [
       "<div><div id=a06ab6af-5f67-4427-a64d-bccb3796e475 style=\"display:none; background-color:#9D6CFF; color:white; width:200px; height:30px; padding-left:5px; border-radius:4px; flex-direction:row; justify-content:space-around; align-items:center;\" onmouseover=\"this.style.backgroundColor='#BA9BF8'\" onmouseout=\"this.style.backgroundColor='#9D6CFF'\" onclick=\"window.commands?.execute('create-mitosheet-from-dataframe-output');\">See Full Dataframe in Mito</div> <script> if (window.commands?.hasCommand('create-mitosheet-from-dataframe-output')) document.getElementById('a06ab6af-5f67-4427-a64d-bccb3796e475').style.display = 'flex' </script> <table border=\"1\" class=\"dataframe\">\n",
       "  <thead>\n",
       "    <tr style=\"text-align: right;\">\n",
       "      <th></th>\n",
       "      <th>poliza</th>\n",
       "      <th>RUTASEGURADO</th>\n",
       "      <th>DVASEGURADO</th>\n",
       "      <th>rut2</th>\n",
       "      <th>RUTBENEFICIARIO</th>\n",
       "      <th>DVBENEFICIARIO</th>\n",
       "      <th>rut1</th>\n",
       "      <th>sdfsdfdsf</th>\n",
       "      <th>Unnamed: 8</th>\n",
       "      <th>RUTBENEFIARIO_DV</th>\n",
       "      <th>...</th>\n",
       "      <th>CIUDAD</th>\n",
       "      <th>TELEFONO</th>\n",
       "      <th>RELACION</th>\n",
       "      <th>desde</th>\n",
       "      <th>hasta</th>\n",
       "      <th>Nombre</th>\n",
       "      <th>TITULAR</th>\n",
       "      <th>EMAIL</th>\n",
       "      <th>CELULAR</th>\n",
       "      <th>VIGENCIA_HASTA</th>\n",
       "    </tr>\n",
       "  </thead>\n",
       "  <tbody>\n",
       "    <tr>\n",
       "      <th>0</th>\n",
       "      <td>340023670</td>\n",
       "      <td>18434052</td>\n",
       "      <td>6</td>\n",
       "      <td>184340526</td>\n",
       "      <td>18434052</td>\n",
       "      <td>6</td>\n",
       "      <td>184340526</td>\n",
       "      <td>1</td>\n",
       "      <td>184340526</td>\n",
       "      <td>6</td>\n",
       "      <td>...</td>\n",
       "      <td>NaN</td>\n",
       "      <td>NaN</td>\n",
       "      <td>AS</td>\n",
       "      <td>2023-01-01</td>\n",
       "      <td>NaT</td>\n",
       "      <td>Riquelme Arias Juan Alejandro</td>\n",
       "      <td>Riquelme Arias Juan Alejandro</td>\n",
       "      <td>NaN</td>\n",
       "      <td>NaN</td>\n",
       "      <td>45657.0</td>\n",
       "    </tr>\n",
       "    <tr>\n",
       "      <th>1</th>\n",
       "      <td>340022020</td>\n",
       "      <td>18066094</td>\n",
       "      <td>1</td>\n",
       "      <td>180660941</td>\n",
       "      <td>18066094</td>\n",
       "      <td>1</td>\n",
       "      <td>180660941</td>\n",
       "      <td>1</td>\n",
       "      <td>180660941</td>\n",
       "      <td>1</td>\n",
       "      <td>...</td>\n",
       "      <td>SANTIAGO</td>\n",
       "      <td>NaN</td>\n",
       "      <td>AS</td>\n",
       "      <td>2022-08-01</td>\n",
       "      <td>NaT</td>\n",
       "      <td>Zepeda Hernandez Constanza Andrea</td>\n",
       "      <td>Zepeda Hernandez Constanza Andrea</td>\n",
       "      <td>CONSTANZA_ZEPEDA@LIVE.CL</td>\n",
       "      <td>979949391</td>\n",
       "      <td>45596.0</td>\n",
       "    </tr>\n",
       "    <tr>\n",
       "      <th>2</th>\n",
       "      <td>340002458</td>\n",
       "      <td>17085671</td>\n",
       "      <td>6</td>\n",
       "      <td>170856716</td>\n",
       "      <td>17085671</td>\n",
       "      <td>6</td>\n",
       "      <td>170856716</td>\n",
       "      <td>1</td>\n",
       "      <td>170856716</td>\n",
       "      <td>6</td>\n",
       "      <td>...</td>\n",
       "      <td>SANTIAGO</td>\n",
       "      <td>NaN</td>\n",
       "      <td>AS</td>\n",
       "      <td>2023-09-01</td>\n",
       "      <td>NaT</td>\n",
       "      <td>Sandoval Salinas Jose Pablo</td>\n",
       "      <td>Sandoval Salinas Jose Pablo</td>\n",
       "      <td>jose.sandoval@latam.com</td>\n",
       "      <td>976093700</td>\n",
       "      <td>45504.0</td>\n",
       "    </tr>\n",
       "    <tr>\n",
       "      <th>3</th>\n",
       "      <td>340022865</td>\n",
       "      <td>16097460</td>\n",
       "      <td>5</td>\n",
       "      <td>160974605</td>\n",
       "      <td>16097460</td>\n",
       "      <td>5</td>\n",
       "      <td>160974605</td>\n",
       "      <td>1</td>\n",
       "      <td>160974605</td>\n",
       "      <td>5</td>\n",
       "      <td>...</td>\n",
       "      <td>NaN</td>\n",
       "      <td>NaN</td>\n",
       "      <td>AS</td>\n",
       "      <td>2022-12-01</td>\n",
       "      <td>NaT</td>\n",
       "      <td>Espinoza Orostica Maximiliano Ricardo</td>\n",
       "      <td>Espinoza Orostica Maximiliano Ricardo</td>\n",
       "      <td>THE.OROSTICA@GMAIL.COM</td>\n",
       "      <td>965970153</td>\n",
       "      <td>45626.0</td>\n",
       "    </tr>\n",
       "    <tr>\n",
       "      <th>4</th>\n",
       "      <td>340023194</td>\n",
       "      <td>8563527</td>\n",
       "      <td>1</td>\n",
       "      <td>85635271</td>\n",
       "      <td>8563527</td>\n",
       "      <td>1</td>\n",
       "      <td>85635271</td>\n",
       "      <td>1</td>\n",
       "      <td>85635271</td>\n",
       "      <td>1</td>\n",
       "      <td>...</td>\n",
       "      <td>NaN</td>\n",
       "      <td>56940214308</td>\n",
       "      <td>AS</td>\n",
       "      <td>2023-01-01</td>\n",
       "      <td>NaT</td>\n",
       "      <td>Perez Cifuentes Domingo Luis</td>\n",
       "      <td>Perez Cifuentes Domingo Luis</td>\n",
       "      <td>dperezxtreme@gmail.com</td>\n",
       "      <td>40214308</td>\n",
       "      <td>45657.0</td>\n",
       "    </tr>\n",
       "  </tbody>\n",
       "</table></div>"
      ],
      "text/plain": [
       "      poliza  RUTASEGURADO DVASEGURADO       rut2  RUTBENEFICIARIO  \\\n",
       "0  340023670      18434052           6  184340526         18434052   \n",
       "1  340022020      18066094           1  180660941         18066094   \n",
       "2  340002458      17085671           6  170856716         17085671   \n",
       "3  340022865      16097460           5  160974605         16097460   \n",
       "4  340023194       8563527           1   85635271          8563527   \n",
       "\n",
       "  DVBENEFICIARIO       rut1  sdfsdfdsf Unnamed: 8 RUTBENEFIARIO_DV  ...  \\\n",
       "0              6  184340526          1  184340526                6  ...   \n",
       "1              1  180660941          1  180660941                1  ...   \n",
       "2              6  170856716          1  170856716                6  ...   \n",
       "3              5  160974605          1  160974605                5  ...   \n",
       "4              1   85635271          1   85635271                1  ...   \n",
       "\n",
       "     CIUDAD     TELEFONO RELACION      desde hasta  \\\n",
       "0       NaN          NaN       AS 2023-01-01   NaT   \n",
       "1  SANTIAGO          NaN       AS 2022-08-01   NaT   \n",
       "2  SANTIAGO          NaN       AS 2023-09-01   NaT   \n",
       "3       NaN          NaN       AS 2022-12-01   NaT   \n",
       "4       NaN  56940214308       AS 2023-01-01   NaT   \n",
       "\n",
       "                                  Nombre  \\\n",
       "0          Riquelme Arias Juan Alejandro   \n",
       "1      Zepeda Hernandez Constanza Andrea   \n",
       "2            Sandoval Salinas Jose Pablo   \n",
       "3  Espinoza Orostica Maximiliano Ricardo   \n",
       "4           Perez Cifuentes Domingo Luis   \n",
       "\n",
       "                                 TITULAR                     EMAIL    CELULAR  \\\n",
       "0          Riquelme Arias Juan Alejandro                       NaN        NaN   \n",
       "1      Zepeda Hernandez Constanza Andrea  CONSTANZA_ZEPEDA@LIVE.CL  979949391   \n",
       "2            Sandoval Salinas Jose Pablo   jose.sandoval@latam.com  976093700   \n",
       "3  Espinoza Orostica Maximiliano Ricardo    THE.OROSTICA@GMAIL.COM  965970153   \n",
       "4           Perez Cifuentes Domingo Luis    dperezxtreme@gmail.com   40214308   \n",
       "\n",
       "  VIGENCIA_HASTA  \n",
       "0        45657.0  \n",
       "1        45596.0  \n",
       "2        45504.0  \n",
       "3        45626.0  \n",
       "4        45657.0  \n",
       "\n",
       "[5 rows x 24 columns]"
      ]
     },
     "execution_count": 10,
     "metadata": {},
     "output_type": "execute_result"
    }
   ],
   "source": [
    "resultado.head()"
   ]
  },
  {
   "cell_type": "code",
   "execution_count": 34,
   "metadata": {},
   "outputs": [
    {
     "data": {
      "text/html": [
       "<div><div id=c1208e88-214d-4920-9662-f4054f1d2d47 style=\"display:none; background-color:#9D6CFF; color:white; width:200px; height:30px; padding-left:5px; border-radius:4px; flex-direction:row; justify-content:space-around; align-items:center;\" onmouseover=\"this.style.backgroundColor='#BA9BF8'\" onmouseout=\"this.style.backgroundColor='#9D6CFF'\" onclick=\"window.commands?.execute('create-mitosheet-from-dataframe-output');\">See Full Dataframe in Mito</div> <script> if (window.commands?.hasCommand('create-mitosheet-from-dataframe-output')) document.getElementById('c1208e88-214d-4920-9662-f4054f1d2d47').style.display = 'flex' </script> <table border=\"1\" class=\"dataframe\">\n",
       "  <thead>\n",
       "    <tr style=\"text-align: right;\">\n",
       "      <th></th>\n",
       "      <th>Id</th>\n",
       "      <th>Rut_T</th>\n",
       "      <th>Rut_C</th>\n",
       "      <th>Nombre</th>\n",
       "      <th>Llave</th>\n",
       "      <th>esta</th>\n",
       "    </tr>\n",
       "  </thead>\n",
       "  <tbody>\n",
       "    <tr>\n",
       "      <th>0</th>\n",
       "      <td>1</td>\n",
       "      <td>209848961</td>\n",
       "      <td>209848961</td>\n",
       "      <td>Martina Isidora Sanhueza Almendra</td>\n",
       "      <td>209848961209848961</td>\n",
       "      <td>False</td>\n",
       "    </tr>\n",
       "    <tr>\n",
       "      <th>1</th>\n",
       "      <td>2</td>\n",
       "      <td>159079465</td>\n",
       "      <td>159079465</td>\n",
       "      <td>Jose Gonzalez Espinoza</td>\n",
       "      <td>159079465159079465</td>\n",
       "      <td>True</td>\n",
       "    </tr>\n",
       "    <tr>\n",
       "      <th>2</th>\n",
       "      <td>3</td>\n",
       "      <td>156070432</td>\n",
       "      <td>156070432</td>\n",
       "      <td>Pablo Cesar Aguirre Rodriguez</td>\n",
       "      <td>156070432156070432</td>\n",
       "      <td>False</td>\n",
       "    </tr>\n",
       "    <tr>\n",
       "      <th>3</th>\n",
       "      <td>4</td>\n",
       "      <td>153257450</td>\n",
       "      <td>153257450</td>\n",
       "      <td>Daniel Andre Valdes Jimenez</td>\n",
       "      <td>153257450153257450</td>\n",
       "      <td>False</td>\n",
       "    </tr>\n",
       "    <tr>\n",
       "      <th>4</th>\n",
       "      <td>5</td>\n",
       "      <td>155558571</td>\n",
       "      <td>155558571</td>\n",
       "      <td>Danilo Enrique Santis Barrera</td>\n",
       "      <td>155558571155558571</td>\n",
       "      <td>False</td>\n",
       "    </tr>\n",
       "  </tbody>\n",
       "</table></div>"
      ],
      "text/plain": [
       "   Id      Rut_T      Rut_C                             Nombre  \\\n",
       "0   1  209848961  209848961  Martina Isidora Sanhueza Almendra   \n",
       "1   2  159079465  159079465             Jose Gonzalez Espinoza   \n",
       "2   3  156070432  156070432      Pablo Cesar Aguirre Rodriguez   \n",
       "3   4  153257450  153257450        Daniel Andre Valdes Jimenez   \n",
       "4   5  155558571  155558571      Danilo Enrique Santis Barrera   \n",
       "\n",
       "                Llave   esta  \n",
       "0  209848961209848961  False  \n",
       "1  159079465159079465   True  \n",
       "2  156070432156070432  False  \n",
       "3  153257450153257450  False  \n",
       "4  155558571155558571  False  "
      ]
     },
     "execution_count": 34,
     "metadata": {},
     "output_type": "execute_result"
    }
   ],
   "source": [
    "rut_unicos.head()"
   ]
  },
  {
   "cell_type": "code",
   "execution_count": 12,
   "metadata": {},
   "outputs": [
    {
     "name": "stderr",
     "output_type": "stream",
     "text": [
      "C:\\Users\\jmartinez\\AppData\\Local\\Temp\\ipykernel_6844\\1284359372.py:3: SettingWithCopyWarning: \n",
      "A value is trying to be set on a copy of a slice from a DataFrame.\n",
      "Try using .loc[row_indexer,col_indexer] = value instead\n",
      "\n",
      "See the caveats in the documentation: https://pandas.pydata.org/pandas-docs/stable/user_guide/indexing.html#returning-a-view-versus-a-copy\n",
      "  rut_unico_tiempo_11[\"rutsin\"] = rut_unico_tiempo_11[\"Rut_C\"].apply(lambda y: sacarultimo(y))\n"
     ]
    },
    {
     "data": {
      "text/plain": [
       "(182353, 8)"
      ]
     },
     "execution_count": 12,
     "metadata": {},
     "output_type": "execute_result"
    }
   ],
   "source": [
    "#subir_unicos = subir_unicos[(subir_unicos[\"esta\"] == False)]\n",
    "rut_unico_tiempo_11 = rut_unicos[(rut_unicos[\"esta\"]==False)]\n",
    "rut_unico_tiempo_11[\"rutsin\"] = rut_unico_tiempo_11[\"Rut_C\"].apply(lambda y: sacarultimo(y))\n",
    "#rut_unico_tiempo_11 = rut_unico_tiempo_11[(rut_unico_tiempo_11[\"rutsin\"]!=rut_unico_tiempo_11[\"Rut_C\"])]\n",
    "rut_unico_tiempo_11[\"esta2\"] =  rut_unico_tiempo_11[\"rutsin\"].isin(rut_unico_tiempo_11[\"Rut_T\"])\n",
    "rut_unico_tiempo_11.shape"
   ]
  },
  {
   "cell_type": "code",
   "execution_count": 13,
   "metadata": {},
   "outputs": [
    {
     "name": "stderr",
     "output_type": "stream",
     "text": [
      "C:\\Users\\jmartinez\\AppData\\Local\\Temp\\ipykernel_6844\\105263036.py:2: SettingWithCopyWarning: \n",
      "A value is trying to be set on a copy of a slice from a DataFrame.\n",
      "Try using .loc[row_indexer,col_indexer] = value instead\n",
      "\n",
      "See the caveats in the documentation: https://pandas.pydata.org/pandas-docs/stable/user_guide/indexing.html#returning-a-view-versus-a-copy\n",
      "  rut_unico_tiempo_11[\"rutsin\"] = rut_unico_tiempo_11[\"Rut_C\"].apply(lambda y: sacarultimo(y))\n"
     ]
    }
   ],
   "source": [
    "rut_unico_tiempo_11 = rut_unicos[(rut_unicos[\"esta\"]==False)]\n",
    "rut_unico_tiempo_11[\"rutsin\"] = rut_unico_tiempo_11[\"Rut_C\"].apply(lambda y: sacarultimo(y))\n",
    "#rut_unico_tiempo_11 = rut_unico_tiempo_11[(rut_unico_tiempo_11[\"rutsin\"]!=rut_unico_tiempo_11[\"Rut_C\"])]\n",
    "rut_unico_tiempo_11[\"esta2\"] =  rut_unico_tiempo_11[\"Rut_T\"].isin(rut_unico_tiempo_11[\"rutsin\"])\n",
    "rut_unico_tiempo_11 = rut_unico_tiempo_11[(rut_unico_tiempo_11[\"esta2\"]==False)]"
   ]
  },
  {
   "cell_type": "code",
   "execution_count": 32,
   "metadata": {},
   "outputs": [
    {
     "data": {
      "text/plain": [
       "(9528, 8)"
      ]
     },
     "execution_count": 32,
     "metadata": {},
     "output_type": "execute_result"
    }
   ],
   "source": [
    "rut_unico_tiempo_12.shape"
   ]
  },
  {
   "cell_type": "code",
   "execution_count": 31,
   "metadata": {},
   "outputs": [],
   "source": [
    "rut_unico_tiempo_12 = rut_unico_tiempo_11[(rut_unico_tiempo_11[\"esta2\"]==True)]"
   ]
  },
  {
   "cell_type": "code",
   "execution_count": 21,
   "metadata": {},
   "outputs": [
    {
     "name": "stderr",
     "output_type": "stream",
     "text": [
      "C:\\Users\\jmartinez\\AppData\\Local\\Temp\\ipykernel_6844\\1837957522.py:1: SettingWithCopyWarning: \n",
      "A value is trying to be set on a copy of a slice from a DataFrame.\n",
      "Try using .loc[row_indexer,col_indexer] = value instead\n",
      "\n",
      "See the caveats in the documentation: https://pandas.pydata.org/pandas-docs/stable/user_guide/indexing.html#returning-a-view-versus-a-copy\n",
      "  rut_unico_tiempo_11[\"rutsin\"] = rut_unicos[\"Rut_C\"].apply(lambda y: sacarultimo(y))\n",
      "C:\\Users\\jmartinez\\AppData\\Local\\Temp\\ipykernel_6844\\1837957522.py:3: SettingWithCopyWarning: \n",
      "A value is trying to be set on a copy of a slice from a DataFrame.\n",
      "Try using .loc[row_indexer,col_indexer] = value instead\n",
      "\n",
      "See the caveats in the documentation: https://pandas.pydata.org/pandas-docs/stable/user_guide/indexing.html#returning-a-view-versus-a-copy\n",
      "  rut_unico_tiempo_11[\"esta2\"] =  rut_unico_tiempo_11[\"Rut_T\"].isin(rut_unico_tiempo_11[\"rutsin\"])\n"
     ]
    }
   ],
   "source": [
    "rut_unico_tiempo_11[\"rutsin\"] = rut_unicos[\"Rut_C\"].apply(lambda y: sacarultimo(y))\n",
    "#rut_unico_tiempo_11 = rut_unico_tiempo_11[(rut_unico_tiempo_11[\"rutsin\"]!=rut_unico_tiempo_11[\"Rut_C\"])]\n",
    "rut_unico_tiempo_11[\"esta2\"] =  rut_unico_tiempo_11[\"Rut_T\"].isin(rut_unico_tiempo_11[\"rutsin\"])"
   ]
  },
  {
   "cell_type": "code",
   "execution_count": null,
   "metadata": {},
   "outputs": [],
   "source": [
    "rut_unico_tiempo_11.head()"
   ]
  },
  {
   "cell_type": "code",
   "execution_count": 35,
   "metadata": {},
   "outputs": [],
   "source": [
    "\n",
    "rut_unicos.to_excel(\"F:/2024/MetLife/metlife_analisis_abril2024_salida_Finff.xlsx\", index=False)"
   ]
  }
 ],
 "metadata": {
  "kernelspec": {
   "display_name": "python11",
   "language": "python",
   "name": "python3"
  },
  "language_info": {
   "codemirror_mode": {
    "name": "ipython",
    "version": 3
   },
   "file_extension": ".py",
   "mimetype": "text/x-python",
   "name": "python",
   "nbconvert_exporter": "python",
   "pygments_lexer": "ipython3",
   "version": "3.9.12"
  }
 },
 "nbformat": 4,
 "nbformat_minor": 2
}
