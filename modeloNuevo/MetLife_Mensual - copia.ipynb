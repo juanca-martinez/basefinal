{
 "cells": [
  {
   "cell_type": "code",
   "execution_count": null,
   "metadata": {
    "notebookRunGroups": {
     "groupValue": "1"
    }
   },
   "outputs": [],
   "source": [
    "from pathlib import Path\n",
    "import requests\n",
    "import pandas as pd\n",
    "import numpy as np\n",
    "from io import StringIO\n",
    "import shutil\n",
    "import datetime\n",
    "from datetime import datetime\n",
    "import re\n",
    "import json\n",
    "from pandas.api.types import is_numeric_dtype\n",
    "from simple_salesforce import Salesforce, format_soql, format_external_id\n",
    "from simple_salesforce.exceptions import SalesforceMalformedRequest\n",
    "import simpler_sf\n",
    "\n",
    "simpler_sf.simple_salesforce()\n",
    "with open(\"../login.json\", \"r\") as j:\n",
    "    misDatos = json.load(j)\n",
    "# para smart query\n",
    "\"\"\" sf = simple_salesforce.Salesforce(\n",
    "    username=misDatos[\"username\"],\n",
    "    password=misDatos[\"password\"],\n",
    "    security_token=misDatos[\"security_token\"],\n",
    ")\n",
    " \"\"\"\n",
    "# para lo demas\n",
    "sf = Salesforce(\n",
    "    username=misDatos[\"username\"],\n",
    "    password=misDatos[\"password\"],\n",
    "    security_token=misDatos[\"security_token\"],\n",
    ")\n",
    "# paramiko.util.log_to_file(\"paramiko.log\")\n",
    "regex = re.compile(r\"([A-Za-z0-9]+[.-_])*[A-Za-z0-9]+@[A-Za-z0-9-]+(\\.[A-Z|a-z]{2,})+\")"
   ]
  },
  {
   "cell_type": "code",
   "execution_count": null,
   "metadata": {},
   "outputs": [],
   "source": [
    "nuevos = \"C:/Users/jmartinez/Documents/final_metlife_base.xlsx\"\n",
    "Pacientes_Archivo2 = pd.read_excel(nuevos)\n",
    "Pacientes_Archivo = pd.DataFrame()\n",
    "Pacientes_Archivo.head(5)\n",
    "\n"
   ]
  },
  {
   "cell_type": "code",
   "execution_count": null,
   "metadata": {},
   "outputs": [],
   "source": [
    "Pacientes_Archivo = Pacientes_Archivo2"
   ]
  },
  {
   "cell_type": "code",
   "execution_count": null,
   "metadata": {},
   "outputs": [],
   "source": [
    "df3 = pd.DataFrame()\n",
    "Pacientes_Archivo.sort_values(\"Fecha_chilena\", inplace=True)\n",
    "Pacientes_Archivo.RUT_T.fillna(Pacientes_Archivo[\"Rut\"], inplace=True)\n",
    "\n",
    "Pacientes_Archivo_moviles = Pacientes_Archivo[(Pacientes_Archivo[\"Fecha\"] >= \"2023-02-01\") & (Pacientes_Archivo[\"Fecha\"] <= \"2024-01-31\")]\n",
    "Pacientes_Archivo_moviles[\"llave\"] = \"Enero\" + Pacientes_Archivo[\"Rut\"].astype(str)\n",
    "\n",
    "Pacientes_Archivo.head(5)\n",
    "Pacientes_Archivo[\"llave\"] = Pacientes_Archivo[\"Año\"].astype(str) + Pacientes_Archivo[\"Rut\"].astype(str)\n",
    "#Pacientes_Archivo[\"llaveEnero\"] = \"Enero\"+ Pacientes_Archivo[\"Rut_Titular_y\"].astype(str)\n",
    "\n",
    "Pacientes_Archivo[\"Familia_Mensual\"] = Pacientes_Archivo[\"Año\"].astype(str) + Pacientes_Archivo[\"Mes\"].astype(str) + Pacientes_Archivo[\"RUT_T\"].astype(str)\n",
    "Pacientes_Archivo[\"rut_Unico_Mensual\"] =  Pacientes_Archivo[\"Año\"].astype(str) + Pacientes_Archivo[\"Mes\"].astype(str) + Pacientes_Archivo[\"Rut\"].astype(str)\n",
    "Pacientes_Archivo[\"rut_Unico_Anual\"] =  Pacientes_Archivo[\"Año\"].astype(str) + Pacientes_Archivo[\"Rut\"].astype(str)\n",
    "Pacientes_Archivo[\"uso_titulares\"] = np.where(Pacientes_Archivo[\"RUT_T\"] == Pacientes_Archivo[\"Rut\"], 1, 0)\n",
    "Pacientes_Archivo[\"uso_titulares_Mes\"] = np.where(Pacientes_Archivo[\"RUT_T\"] == Pacientes_Archivo[\"Rut\"], Pacientes_Archivo[\"Rut\"].astype(str) + Pacientes_Archivo[\"Año\"].astype(str) + Pacientes_Archivo[\"Mes\"].astype(str) , \"NO\")\n",
    "Pacientes_Archivo[\"uso_titulares_Año\"] = np.where(Pacientes_Archivo[\"RUT_T\"] == Pacientes_Archivo[\"Rut\"], Pacientes_Archivo[\"Rut\"].astype(str) + Pacientes_Archivo[\"Año\"].astype(str) , 0)\n",
    "#Pacientes_Archivo[\"hora_Agenda\"] = Pacientes_Archivo.Fecha_chilena.hour\n",
    "#.astype(str)\n",
    "\n",
    "Pacientes_Archivo[\"uso_titulares_Mes\"] = Pacientes_Archivo[\"uso_titulares_Mes\"].astype(str)\n"
   ]
  },
  {
   "cell_type": "code",
   "execution_count": null,
   "metadata": {},
   "outputs": [],
   "source": [
    "df3 = Pacientes_Archivo_moviles[[ \"Index\",\"llave\"]]\n",
    "df3 = df3.drop_duplicates(\n",
    "    [\n",
    "        \"llave\",\n",
    "    ],\n",
    "    keep=\"first\",\n",
    ")\n",
    "df3[\"año_movil\"] = 1 \n",
    "df3[\"año_movil\"] = 1 \n",
    "df3 = df3[[ \"Index\",\"año_movil\"]]\n",
    "Pacientes_Archivo = pd.merge(\n",
    "    left=Pacientes_Archivo,\n",
    "    right=df3,\n",
    "    how=\"left\",\n",
    "    left_on=\"Index\",\n",
    "    right_on=\"Index\",\n",
    ")\n",
    "\n",
    "Pacientes_Archivo.año_movil.fillna(0, inplace=True)\n"
   ]
  },
  {
   "cell_type": "code",
   "execution_count": null,
   "metadata": {},
   "outputs": [],
   "source": [
    "#Pacientes_Archivo.head()"
   ]
  },
  {
   "cell_type": "code",
   "execution_count": null,
   "metadata": {},
   "outputs": [],
   "source": [
    "df3 = Pacientes_Archivo[[ \"Index\",\"llave\"]]\n",
    "df3 = df3.drop_duplicates(\n",
    "    [\n",
    "        \"llave\",\n",
    "    ],\n",
    "    keep=\"first\",\n",
    ")\n",
    "df3[\"año_movil_CalenDario\"] = 1 \n",
    "df3 = df3[[ \"Index\",\"año_movil_CalenDario\"]]\n",
    "Pacientes_Archivo = pd.merge(\n",
    "    left=Pacientes_Archivo,\n",
    "    right=df3,\n",
    "    how=\"left\",\n",
    "    left_on=\"Index\",\n",
    "    right_on=\"Index\",\n",
    ")\n",
    "\n",
    "Pacientes_Archivo.año_movil_CalenDario.fillna(0, inplace=True)\n"
   ]
  },
  {
   "cell_type": "code",
   "execution_count": null,
   "metadata": {},
   "outputs": [],
   "source": [
    "df3 = Pacientes_Archivo[[ \"Index\",\"Familia_Mensual\"]]\n",
    "df3 = df3.drop_duplicates(\n",
    "    [\n",
    "        \"Familia_Mensual\",\n",
    "    ],\n",
    "    keep=\"first\",\n",
    ")\n",
    "df3[\"Familia_unica_Mensual_CT\"] = 1 \n",
    "df3 = df3[[ \"Index\",\"Familia_unica_Mensual_CT\"]]\n",
    "Pacientes_Archivo = pd.merge(\n",
    "    left=Pacientes_Archivo,\n",
    "    right=df3,\n",
    "    how=\"left\",\n",
    "    left_on=\"Index\",\n",
    "    right_on=\"Index\",\n",
    ")\n",
    "\n",
    "Pacientes_Archivo.Familia_unica_Mensual_CT.fillna(0, inplace=True)\n",
    "df3.head()"
   ]
  },
  {
   "cell_type": "code",
   "execution_count": null,
   "metadata": {},
   "outputs": [],
   "source": [
    "#[\"rut Unico Mensual\"]\n",
    "df3 = Pacientes_Archivo[[ \"Index\",\"rut_Unico_Mensual\"]]\n",
    "df3 = df3.drop_duplicates(\n",
    "    [\n",
    "        \"rut_Unico_Mensual\",\n",
    "    ],\n",
    "    keep=\"first\",\n",
    ")\n",
    "df3[\"rut_Unico_Mensual_CT\"] = 1 \n",
    "df3 = df3[[ \"Index\",\"rut_Unico_Mensual_CT\"]]\n",
    "Pacientes_Archivo = pd.merge(\n",
    "    left=Pacientes_Archivo,\n",
    "    right=df3,\n",
    "    how=\"left\",\n",
    "    left_on=\"Index\",\n",
    "    right_on=\"Index\",\n",
    ")\n",
    "\n",
    "Pacientes_Archivo.rut_Unico_Mensual_CT.fillna(0, inplace=True)\n",
    "df3.head()"
   ]
  },
  {
   "cell_type": "code",
   "execution_count": null,
   "metadata": {},
   "outputs": [],
   "source": [
    "df3 = Pacientes_Archivo[[\"Index\",\"uso_titulares_Mes\"]]\n",
    "df3 = df3.drop_duplicates(\n",
    "    [\n",
    "        \"uso_titulares_Mes\",\n",
    "    ],\n",
    "    keep=\"first\",\n",
    ")\n",
    "df3[\"uso_titulares_Mensual_CT\"] = 1 \n",
    "df3 = df3[[ \"Index\",\"uso_titulares_Mensual_CT\"]]\n",
    "Pacientes_Archivo = pd.merge(\n",
    "    left=Pacientes_Archivo,\n",
    "    right=df3,\n",
    "    how=\"left\",\n",
    "    left_on=\"Index\",\n",
    "    right_on=\"Index\",\n",
    ")\n",
    "\n",
    "Pacientes_Archivo.uso_titulares_Mensual_CT.fillna(0, inplace=True)\n",
    "df3.head()"
   ]
  },
  {
   "cell_type": "code",
   "execution_count": null,
   "metadata": {},
   "outputs": [],
   "source": [
    "df3 = Pacientes_Archivo[[\"Index\",\"uso_titulares_Año\"]]\n",
    "df3 = df3.drop_duplicates(\n",
    "    [\n",
    "        \"uso_titulares_Año\",\n",
    "    ],\n",
    "    keep=\"first\",\n",
    ")\n",
    "df3[\"uso_titulares_unicoanual_CT\"] = 1 \n",
    "df3 = df3[[ \"Index\",\"uso_titulares_unicoanual_CT\"]]\n",
    "Pacientes_Archivo = pd.merge(\n",
    "    left=Pacientes_Archivo,\n",
    "    right=df3,\n",
    "    how=\"left\",\n",
    "    left_on=\"Index\",\n",
    "    right_on=\"Index\",\n",
    ")\n",
    "\n",
    "Pacientes_Archivo.uso_titulares_unicoanual_CT.fillna(0, inplace=True)\n",
    "df3.head()"
   ]
  },
  {
   "cell_type": "code",
   "execution_count": null,
   "metadata": {},
   "outputs": [],
   "source": [
    "derty =Pacientes_Archivo.groupby(\"Rut\").count()\n",
    "derty = derty[[\"Nombre\"]]\n",
    "Pacientes_Archivo = pd.merge(\n",
    "    left=Pacientes_Archivo,\n",
    "    right=derty,\n",
    "    how=\"left\",\n",
    "    left_on=\"Rut\",\n",
    "    right_on=\"Rut\",\n",
    ")"
   ]
  },
  {
   "cell_type": "code",
   "execution_count": null,
   "metadata": {},
   "outputs": [],
   "source": [
    "Pacientes_Archivo = Pacientes_Archivo.rename(\n",
    "    columns={\n",
    "        \"Nombre_x\": \"Nombre\",\n",
    "        \"Nombre_y\": \"Repeticiones\",\n",
    "        \n",
    "    }\n",
    ")"
   ]
  },
  {
   "cell_type": "code",
   "execution_count": null,
   "metadata": {},
   "outputs": [],
   "source": [
    "#derty.head(100)"
   ]
  },
  {
   "cell_type": "code",
   "execution_count": null,
   "metadata": {},
   "outputs": [],
   "source": [
    "\n",
    "\n",
    "#derty.head(100)"
   ]
  },
  {
   "cell_type": "code",
   "execution_count": null,
   "metadata": {},
   "outputs": [],
   "source": []
  },
  {
   "cell_type": "code",
   "execution_count": null,
   "metadata": {},
   "outputs": [],
   "source": [
    "Pacientes_Archivo.head()"
   ]
  },
  {
   "cell_type": "code",
   "execution_count": null,
   "metadata": {},
   "outputs": [],
   "source": [
    "#Pacientes_Archivo.head(5)\n"
   ]
  },
  {
   "cell_type": "code",
   "execution_count": null,
   "metadata": {},
   "outputs": [],
   "source": [
    "#from pivottablejs import pivot_ui"
   ]
  },
  {
   "cell_type": "code",
   "execution_count": null,
   "metadata": {},
   "outputs": [],
   "source": [
    "dertyuiop = Pacientes_Archivo.to_excel(\"C:/Users/jmartinez/Documents/reportes_2111.xlsx\", index=False)\n",
    "#brand_Group_DF  = sf.smart_query(dertyuiop)\n",
    "brand_Group_DF = brand_Group_DF[[\"AppointmentNumber\",\"CreatedDate\"]]\n"
   ]
  },
  {
   "cell_type": "code",
   "execution_count": null,
   "metadata": {},
   "outputs": [],
   "source": [
    "dertyuiop = \"SELECT Id, SchedStartTime, AppointmentNumber,CreatedDate from ServiceAppointment\"\n",
    "brand_Group_DF  = sf.smart_query(dertyuiop)\n",
    "#dertyuiop\n",
    "brand_Group_DF = brand_Group_DF[[\"AppointmentNumber\",\"CreatedDate\"]]\n",
    "#Pacientes_Archivo.to_excel(\"C:/Users/jmartinez/Documents/reportes_2111.xlsx\", index=False)\n",
    "#pivot_ui(Pacientes_Archivo)\n",
    "brand_Group_DF2 = pd.DataFrame()\n",
    "brand_Group_DF2[\"AppointmentNumber\"] = \"F\" + brand_Group_DF[\"AppointmentNumber\"]\n",
    "brand_Group_DF2[\"CreatedDate\"] = brand_Group_DF[\"CreatedDate\"]\n",
    "brand_Group_DF2.head()\n",
    "#CreatedDate\n",
    "#brand_Group_DF.head()\n"
   ]
  }
 ],
 "metadata": {
  "kernelspec": {
   "display_name": "salesforce",
   "language": "python",
   "name": "python3"
  },
  "language_info": {
   "codemirror_mode": {
    "name": "ipython",
    "version": 3
   },
   "file_extension": ".py",
   "mimetype": "text/x-python",
   "name": "python",
   "nbconvert_exporter": "python",
   "pygments_lexer": "ipython3",
   "version": "3.8.16"
  }
 },
 "nbformat": 4,
 "nbformat_minor": 2
}
