{
 "cells": [
  {
   "cell_type": "code",
   "execution_count": 1,
   "metadata": {},
   "outputs": [],
   "source": [
    "from pathlib import Path\n",
    "import requests\n",
    "import pandas as pd\n",
    "import numpy as np\n",
    "from io import StringIO\n",
    "import shutil\n",
    "import datetime\n",
    "from datetime import datetime\n",
    "import re\n",
    "import json\n",
    "from pandas.api.types import is_numeric_dtype\n",
    "from simple_salesforce import Salesforce, format_soql, format_external_id\n",
    "from simple_salesforce.exceptions import SalesforceMalformedRequest\n",
    "import simpler_sf\n",
    "\n",
    "simpler_sf.simple_salesforce()\n",
    "with open(\"../login.json\", \"r\") as j:\n",
    "    misDatos = json.load(j)\n",
    "# para smart query\n",
    "\"\"\" sf = simple_salesforce.Salesforce(\n",
    "    username=misDatos[\"username\"],\n",
    "    password=misDatos[\"password\"],\n",
    "    security_token=misDatos[\"security_token\"],\n",
    ")\n",
    " \"\"\"\n",
    "# para lo demas\n",
    "sf = Salesforce(\n",
    "    username=misDatos[\"username\"],\n",
    "    password=misDatos[\"password\"],\n",
    "    security_token=misDatos[\"security_token\"],\n",
    ")\n",
    "# paramiko.util.log_to_file(\"paramiko.log\")\n",
    "regex = re.compile(r\"([A-Za-z0-9]+[.-_])*[A-Za-z0-9]+@[A-Za-z0-9-]+(\\.[A-Z|a-z]{2,})+\")"
   ]
  },
  {
   "cell_type": "code",
   "execution_count": 2,
   "metadata": {},
   "outputs": [
    {
     "name": "stderr",
     "output_type": "stream",
     "text": [
      "  0%|          | 0/1 [00:00<?, ?it/s]"
     ]
    }
   ],
   "source": [
    "query_empresacontactoconvenio = (\n",
    "    \"select Id,Paciente__r.IdentificationId__pc, Empresa__r.P_liza__c, Relaci_n_Con_Asegurado__c,N_Documento_Titular__c,Empresa__r.Rut_Empresa__c,Empresa__c from EmpresaContactoConvenios__c \"\n",
    ")\n",
    "empresacontactoconvenio = sf.smart_query(query_empresacontactoconvenio)"
   ]
  },
  {
   "cell_type": "code",
   "execution_count": null,
   "metadata": {},
   "outputs": [],
   "source": [
    "rut_yidEmCoCo = pd.DataFrame()\n",
    "rut_yidEmCoCo[\"Id empreconcon\"] = empresacontactoconvenio[\"Id\"]\n",
    "rut_yidEmCoCo[\"rut\"] =  empresacontactoconvenio[\"Paciente__r.IdentificationId__pc\"]\n",
    "rut_yidEmCoCo[\"Relacion\"] = empresacontactoconvenio[\"Relaci_n_Con_Asegurado__c\"] \n",
    "rut_yidEmCoCo[\"rutT\"] = empresacontactoconvenio[\"N_Documento_Titular__c\"]\n",
    "rut_yidEmCoCo[\"poliza\"] = empresacontactoconvenio[\"Empresa__r.P_liza__c\"]\n",
    "rut_yidEmCoCo[\"rut_E\"] = empresacontactoconvenio[\"Empresa__r.Rut_Empresa__c\"]\n",
    "rut_yidEmCoCo[\"empresa\"] = empresacontactoconvenio[\"Empresa__c\"]\n",
    "rut_yidEmCoCo = rut_yidEmCoCo.drop_duplicates([\"rut\",\"rutT\",\"empresa\",\"Relacion\"], keep=\"last\")\n",
    "rut_yidEmCoCo.head()\n",
    "\n",
    "empresacontactoconvenio[\"RutEstaoNo\"] = empresacontactoconvenio[\"Id\"].isin(rut_yidEmCoCo[\"Id empreconcon\"])\n",
    "noestan = empresacontactoconvenio[(empresacontactoconvenio[\"RutEstaoNo\"] == False)]\n"
   ]
  },
  {
   "cell_type": "code",
   "execution_count": null,
   "metadata": {},
   "outputs": [],
   "source": [
    "noestan.to_excel(\"F:/Empresas SF/reportes/repetidos_general.xlsx\", index=False)"
   ]
  }
 ],
 "metadata": {
  "kernelspec": {
   "display_name": "salesforce",
   "language": "python",
   "name": "python3"
  },
  "language_info": {
   "codemirror_mode": {
    "name": "ipython",
    "version": 3
   },
   "file_extension": ".py",
   "mimetype": "text/x-python",
   "name": "python",
   "nbconvert_exporter": "python",
   "pygments_lexer": "ipython3",
   "version": "3.8.16"
  }
 },
 "nbformat": 4,
 "nbformat_minor": 2
}
