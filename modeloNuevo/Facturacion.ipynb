{
 "cells": [
  {
   "cell_type": "code",
   "execution_count": 49,
   "metadata": {
    "notebookRunGroups": {
     "groupValue": "1"
    }
   },
   "outputs": [],
   "source": [
    "from pathlib import Path\n",
    "import requests\n",
    "import pandas as pd\n",
    "import numpy as np\n",
    "from io import StringIO\n",
    "import shutil\n",
    "import datetime\n",
    "from datetime import datetime, date\n",
    "import os\n",
    "import errno\n",
    "import re\n",
    "import json\n",
    "from pandas.api.types import is_numeric_dtype\n",
    "from simple_salesforce import Salesforce, format_soql, format_external_id\n",
    "from simple_salesforce.exceptions import SalesforceMalformedRequest\n",
    "import simpler_sf\n",
    "from pathlib import Path\n",
    "\n",
    "simpler_sf.simple_salesforce()"
   ]
  },
  {
   "cell_type": "code",
   "execution_count": 50,
   "metadata": {
    "notebookRunGroups": {
     "groupValue": "1"
    }
   },
   "outputs": [],
   "source": [
    "with open(\"../login.json\", \"r\") as j:\n",
    "    misDatos = json.load(j)"
   ]
  },
  {
   "cell_type": "code",
   "execution_count": 51,
   "metadata": {
    "notebookRunGroups": {
     "groupValue": "1"
    }
   },
   "outputs": [],
   "source": [
    "# para smart query\n",
    "\"\"\" sf = simple_salesforce.Salesforce(\n",
    "    username=misDatos[\"username\"],\n",
    "    password=misDatos[\"password\"],\n",
    "    security_token=misDatos[\"security_token\"],\n",
    ")\n",
    " \"\"\"\n",
    "# para lo demas\n",
    "sf = Salesforce(\n",
    "    username=misDatos[\"username\"],\n",
    "    password=misDatos[\"password\"],\n",
    "    security_token=misDatos[\"security_token\"],\n",
    ")\n",
    "# paramiko.util.log_to_file(\"paramiko.log\")\n",
    "# regex = re.compile(r\"([A-Za-z0-9]+[.-_])*[A-Za-z0-9]+@[A-Za-z0-9-]+(\\.[A-Z|a-z]{2,})+\")"
   ]
  },
  {
   "cell_type": "code",
   "execution_count": 52,
   "metadata": {},
   "outputs": [],
   "source": [
    "hoy = date.today()\n",
    "mes = hoy.month\n",
    "ano = hoy.year\n",
    "\n",
    "\n",
    "mesesDic = {\n",
    "    1:'Enero',\n",
    "    2:'Febrero',\n",
    "    3:'Marzo',\n",
    "    4:'Abril',\n",
    "    5:'Mayo',\n",
    "    6:'Junio',\n",
    "    7:'Julio',\n",
    "    8:'Agosto',\n",
    "    9:'Septiembre',\n",
    "    10:'Octubre',\n",
    "    11:'Noviembre',\n",
    "    12:'Diciembre'\n",
    "}\n",
    "\n",
    "mesesDic[mes]\n",
    "\n",
    "def crear_carpeta(nombre_carpeta):\n",
    "    if not os.path.isdir(str(nombre_carpeta) + str(mesesDic[mes])):\n",
    "        print(\"No existe, se crea\")\n",
    "        os.mkdir(str(nombre_carpeta) + str(mesesDic[mes]))\n",
    "        nombre = str(nombre_carpeta) + str(mesesDic[mes]) + \"/\"\n",
    "        return nombre\n",
    "    else:\n",
    "        print(\"Existe\")\n",
    "        nombre = str(nombre_carpeta) + str(mesesDic[mes]) + \"/\"\n",
    "        return nombre"
   ]
  },
  {
   "cell_type": "code",
   "execution_count": 53,
   "metadata": {},
   "outputs": [
    {
     "name": "stdout",
     "output_type": "stream",
     "text": [
      "Existe\n",
      "E:/Siempre/04-Comercial/09-FACTURACION/Febrero/\n"
     ]
    }
   ],
   "source": [
    "\n",
    "#campaña = \"EY\"\n",
    "nombre_carpeta = \"E:/Siempre/04-Comercial/09-FACTURACION/\"\n",
    "archivoDireccion = str(crear_carpeta(nombre_carpeta))\n",
    "\n",
    "archivcarpeta_datos = \"E:/Siempre/04-Comercial/09-FACTURACION/Datos/\"\n",
    "#archivoDatos = str(crear_carpeta(archivcarpeta_datos))\n",
    "\n",
    "print(archivoDireccion)"
   ]
  },
  {
   "cell_type": "code",
   "execution_count": 54,
   "metadata": {},
   "outputs": [],
   "source": [
    "def traerCampañas(campaña):    \n",
    "    query_empresacontactoconvenio = \"select Id,Paciente__r.IdentificationId__pc, N_Documento_Titular__c,Paciente__r.FirstName, Paciente__r.LastName,Empresa__r.P_liza__c, Empresa__r.Rut_Empresa__c, Empresa__r.Identificador__c,Convenio_Activo__c,Relaci_n_Con_Asegurado__c from EmpresaContactoConvenios__c where Empresa__r.Campa_a__c = '\" + campaña +\"'\"\n",
    "    empresacontactoconvenio = sf.smart_query(query_empresacontactoconvenio)\n",
    "    empresacontactoconvenio = empresacontactoconvenio.rename(\n",
    "        columns={\n",
    "            \"Id\": \"Interno\",\n",
    "            \"Paciente__r.IdentificationId__pc\": \"Rut Beneficiario\",\n",
    "            \"Paciente__r.FirstName\": \"Nombres\",\n",
    "            \"Paciente__r.LastName\": \"Apellidos\",\n",
    "            \"N_Documento_Titular__c\":\"Rut Titular\",\n",
    "            \"Empresa__r.P_liza__c\":\"Poliza\",\n",
    "            \"Empresa__r.Identificador__c\":\"Empresa\",\n",
    "            \"Convenio_Activo__c\":\"Activo\",\n",
    "            \"Relaci_n_Con_Asegurado__c\":\"Relacion\",\n",
    "            \"Empresa__r.Rut_Empresa__c\":\"Rut Empresa\"\n",
    "            \n",
    "        }\n",
    "    )\n",
    "    \n",
    "    empresacontactoconvenio.drop(empresacontactoconvenio[(empresacontactoconvenio[\"Rut Beneficiario\"] == \"163820064\")].index, inplace=True)\n",
    "    empresacontactoconvenio.drop(empresacontactoconvenio[(empresacontactoconvenio[\"Rut Beneficiario\"] == \"153298939\")].index, inplace=True)\n",
    "    empresacontactoconvenio.drop(empresacontactoconvenio[(empresacontactoconvenio[\"Rut Beneficiario\"] == \"191710940\")].index, inplace=True)\n",
    "    empresacontactoconvenio.drop(empresacontactoconvenio[(empresacontactoconvenio[\"Rut Beneficiario\"] == \"182470082\")].index, inplace=True)\n",
    "    empresacontactoconvenio.drop(empresacontactoconvenio[(empresacontactoconvenio[\"Rut Beneficiario\"] == \"16277865\")].index, inplace=True)\n",
    "    empresacontactoconvenio.drop(empresacontactoconvenio[(empresacontactoconvenio[\"Rut Beneficiario\"] == \"16277865K\")].index, inplace=True)\n",
    "    empresacontactoconvenio.drop(empresacontactoconvenio[(empresacontactoconvenio[\"Rut Beneficiario\"] == \"HEGJ930928HMNRRL06\")].index, inplace=True)\n",
    "    empresacontactoconvenio.drop(empresacontactoconvenio[(empresacontactoconvenio[\"Rut Beneficiario\"] == \"16007258K\")].index, inplace=True)\n",
    "    empresacontactoconvenio.drop(empresacontactoconvenio[(empresacontactoconvenio[\"Rut Beneficiario\"] == \"86676540\")].index, inplace=True)\n",
    "    empresacontactoconvenio.drop(empresacontactoconvenio[(empresacontactoconvenio[\"Rut Beneficiario\"] == \"202201466\")].index, inplace=True)\n",
    "    empresacontactoconvenio.drop(empresacontactoconvenio[(empresacontactoconvenio[\"Rut Beneficiario\"] == \"105233469\")].index, inplace=True)\n",
    "    empresacontactoconvenio.drop(empresacontactoconvenio[(empresacontactoconvenio[\"Rut Beneficiario\"] == \"130949185\")].index, inplace=True)\n",
    "    empresacontactoconvenio.drop(empresacontactoconvenio[(empresacontactoconvenio[\"Rut Beneficiario\"] == \"255356798\")].index, inplace=True)\n",
    "    empresacontactoconvenio.drop(empresacontactoconvenio[(empresacontactoconvenio[\"Rut Beneficiario\"] == \"34005945\")].index, inplace=True)\n",
    "    empresacontactoconvenio.drop(empresacontactoconvenio[(empresacontactoconvenio[\"Rut Beneficiario\"] == \"185410072\")].index, inplace=True)\n",
    "    empresacontactoconvenio.drop(empresacontactoconvenio[(empresacontactoconvenio[\"Rut Beneficiario\"] == \"34954659\")].index, inplace=True)\n",
    "    empresacontactoconvenio.drop(empresacontactoconvenio[(empresacontactoconvenio[\"Rut Beneficiario\"] == \"166110890\")].index, inplace=True)\n",
    "    empresacontactoconvenio.drop(empresacontactoconvenio[(empresacontactoconvenio[\"Rut Beneficiario\"] == \"197415029\")].index, inplace=True)\n",
    "    empresacontactoconvenio.drop(empresacontactoconvenio[(empresacontactoconvenio[\"Rut Beneficiario\"] == \"254468134\")].index, inplace=True)\n",
    "    empresacontactoconvenio.drop(empresacontactoconvenio[(empresacontactoconvenio[\"Rut Beneficiario\"] == \"27591679K\")].index, inplace=True)\n",
    "        \n",
    "    #empresacontactoconvenio.head()\n",
    "    empresacontactoconvenio[\"Fecha\"] = mesesDic[mes]\n",
    "\n",
    "    empresacontactoconvenio[\"Campaña\"] = campaña\n",
    "    empresacontactoconvenio[\"LLave\"] = empresacontactoconvenio[\"Rut Titular\"] + empresacontactoconvenio[\"Rut Beneficiario\"]\n",
    "    \n",
    "    \n",
    "    VguardarArchivo = archivcarpeta_datos + campaña + \" \" + mesesDic[mes] + \" \" + str(ano) + \".xlsx\"\n",
    "    #empresacontactoconvenio.to_excel(VguardarArchivo, index=False)\n",
    "    derty = \"F:/Empresas SF/reportes/\" + campaña + \".xlsx\"\n",
    "    empresacontactoconvenio.to_excel(derty, index=False)\n",
    "    \n",
    "    return 1\n"
   ]
  },
  {
   "cell_type": "code",
   "execution_count": 55,
   "metadata": {},
   "outputs": [
    {
     "data": {
      "text/html": [
       "<div>\n",
       "<style scoped>\n",
       "    .dataframe tbody tr th:only-of-type {\n",
       "        vertical-align: middle;\n",
       "    }\n",
       "\n",
       "    .dataframe tbody tr th {\n",
       "        vertical-align: top;\n",
       "    }\n",
       "\n",
       "    .dataframe thead th {\n",
       "        text-align: right;\n",
       "    }\n",
       "</style>\n",
       "<table border=\"1\" class=\"dataframe\">\n",
       "  <thead>\n",
       "    <tr style=\"text-align: right;\">\n",
       "      <th></th>\n",
       "      <th>Campaña</th>\n",
       "    </tr>\n",
       "  </thead>\n",
       "  <tbody>\n",
       "    <tr>\n",
       "      <th>0</th>\n",
       "      <td>Vida Security</td>\n",
       "    </tr>\n",
       "  </tbody>\n",
       "</table>\n",
       "</div>"
      ],
      "text/plain": [
       "         Campaña\n",
       "0  Vida Security"
      ]
     },
     "execution_count": 55,
     "metadata": {},
     "output_type": "execute_result"
    }
   ],
   "source": [
    "listado_campañas = [\n",
    "    #\"Milan Fajanovic\",\n",
    "    #\"Socofar\",\n",
    "    #\"THB Seguros\",\n",
    "    #\"Lipigas\",\n",
    "    #\"Farmacias Ahumada\",\n",
    "    #\"EY\",\n",
    "    #\"Minera El Abra\",\n",
    "    #\"VidaCel\",\n",
    "    #\"Dermik\",\n",
    "    #\"Instruvalve\",\n",
    "    #\"Grupo Psg\",\n",
    "    #\"Pedro de Valdivia\",\n",
    "    #\"Pesco\",\n",
    "    #\"Talo\",\n",
    "    #\"BICE Vida\",\n",
    "    #\"Nexo\",\n",
    "    #\"Lockton\",\n",
    "    #\"Kaufmann\",\n",
    "    #\"Sole Orienta\",\n",
    "    #\"Farmacias Cruz Verde\",\n",
    "    #\"BCI Contingencia\",\n",
    "    #\"BCI Seguros Colectivos\",\n",
    "    #\"BCI Seguros Colaboradores\",\n",
    "    #\"BCI Seguros Individuales\",\n",
    "    #\"EY\",\n",
    "    \"Vida Security\",\n",
    "]\n",
    "# Crear dataframe a partir de una lista\n",
    "df_campañas = pd.DataFrame(listado_campañas, columns=[\"Campaña\"])\n",
    "df_campañas.head()"
   ]
  },
  {
   "cell_type": "code",
   "execution_count": 56,
   "metadata": {},
   "outputs": [
    {
     "name": "stderr",
     "output_type": "stream",
     "text": [
      "100%|██████████| 1/1 [00:11<00:00, 11.02s/it]\n"
     ]
    },
    {
     "data": {
      "text/plain": [
       "0    1\n",
       "Name: Campaña, dtype: int64"
      ]
     },
     "execution_count": 56,
     "metadata": {},
     "output_type": "execute_result"
    }
   ],
   "source": [
    "df_campañas[\"Campaña\"].apply(\n",
    "    lambda y: traerCampañas(y)\n",
    ")"
   ]
  }
 ],
 "metadata": {
  "kernelspec": {
   "display_name": "salesforce",
   "language": "python",
   "name": "python3"
  },
  "language_info": {
   "codemirror_mode": {
    "name": "ipython",
    "version": 3
   },
   "file_extension": ".py",
   "mimetype": "text/x-python",
   "name": "python",
   "nbconvert_exporter": "python",
   "pygments_lexer": "ipython3",
   "version": "3.8.16"
  }
 },
 "nbformat": 4,
 "nbformat_minor": 2
}
