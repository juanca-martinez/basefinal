{
 "cells": [
  {
   "cell_type": "code",
   "execution_count": null,
   "metadata": {},
   "outputs": [],
   "source": [
    "\n",
    "import requests\n",
    "import pandas as pd\n",
    "import numpy as np\n",
    "from io import StringIO\n",
    "from simple_salesforce import Salesforce\n",
    "\n",
    "sf = Salesforce(\n",
    "    username=\"jmartinez@careassistance.com\",\n",
    "    password=\"Jcmm0104\",\n",
    "    security_token=\"EwVPSL02qXM8XQ2pkUdA13aW\",\n",
    ")"
   ]
  },
  {
   "cell_type": "code",
   "execution_count": null,
   "metadata": {},
   "outputs": [],
   "source": [
    "# recuperar todos los pacientes ID\n",
    "results = sf.query_all(\n",
    "    \"\"\"\n",
    "   select Id, IdentificationId__pc,Name from Account \n",
    "    \"\"\"\n",
    ")\n",
    "Pacientes_SF = pd.DataFrame(results[\"records\"])\n",
    "\n",
    "Pacientes_SF = Pacientes_SF[[\"Id\", \"IdentificationId__pc\", \"Name\"]]\n",
    "Pacientes_SF.shape"
   ]
  },
  {
   "cell_type": "code",
   "execution_count": null,
   "metadata": {},
   "outputs": [
    {
     "data": {
      "text/plain": [
       "(7874, 9)"
      ]
     },
     "metadata": {},
     "output_type": "display_data"
    }
   ],
   "source": [
    "# Recuperar empresas ID de salesforce\n",
    "results = sf.query_all(\n",
    "    \"\"\"\n",
    "   select Id, name, Holding__c ,Pa_s_del_Paciente__c,Campa_a__c,AccountNumber,Id_Empresa__c,ParentId,Identification_Type__c,IdentificationId__pc, IsPersonAccount,poliza__c from account where ispersonaccount = false   \n",
    "   \"\"\"\n",
    ")\n",
    "Empresas_SF_HL = pd.DataFrame(results[\"records\"])\n",
    "Empresas_SF_HL = Empresas_SF_HL[\n",
    "    [\"Id\", \"Name\", \"IdentificationId__pc\", \"Identification_Type__c\", \"Holding__c\", \"Pa_s_del_Paciente__c\",'Campa_a__c','AccountNumber','Id_Empresa__c']\n",
    "]\n",
    "Empresas_SF_HL.shape"
   ]
  }
 ],
 "metadata": {
  "kernelspec": {
   "display_name": "salesforce",
   "language": "python",
   "name": "python3"
  },
  "language_info": {
   "name": "python",
   "version": "3.8.15"
  },
  "orig_nbformat": 4,
  "vscode": {
   "interpreter": {
    "hash": "7fbccfb583f385d5cd7c75cc6ade03c09354727271e9200f47ca4e7fedb5381e"
   }
  }
 },
 "nbformat": 4,
 "nbformat_minor": 2
}
