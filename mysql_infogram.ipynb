{
 "cells": [
  {
   "cell_type": "code",
   "execution_count": null,
   "metadata": {
    "notebookRunGroups": {
     "groupValue": "1"
    }
   },
   "outputs": [],
   "source": [
    "import pandas as pd\n",
    "import numpy as np\n",
    "from sqlalchemy import create_engine\n"
   ]
  },
  {
   "cell_type": "code",
   "execution_count": null,
   "metadata": {
    "notebookRunGroups": {
     "groupValue": "1"
    }
   },
   "outputs": [],
   "source": [
    "#usuario = 'siempreread'\n",
    "#contrasena = 'S13mpr3_Ch1l3'\n",
    "#url_servidor = '209.151.148.250'\n",
    "puerto = '3306'\n",
    "esquema = 'Test_infogram'\n",
    "plugin_autenticacion = 'mysql_native_password'\n",
    "\n",
    "usuario = 'care_consulta'\n",
    "contrasena = 'CareAssistance!10'\n",
    "url_servidor = '10.0.10.22'\n",
    "\n",
    "# Conexión a la base de datos\n",
    "\n",
    "c_conexion = 'mysql+mysqlconnector://{0}:{1}@{2}:{3}/{4}?auth_plugin={5}'\n",
    "c_conexion = c_conexion.format(usuario, contrasena, url_servidor, puerto,\n",
    "                               esquema, plugin_autenticacion)\n",
    "motor_mysql_mariadb = create_engine(c_conexion)\n",
    "\n",
    "\n",
    "#archivo de salida modificar segun archivo\n",
    "#archivo = 'C:/Users/jmartinez/Desktop/casos nuevos/clientes/1/casos_faltantes_segun_archivo.xlsx'"
   ]
  },
  {
   "cell_type": "code",
   "execution_count": null,
   "metadata": {},
   "outputs": [],
   "source": [
    "nuevos = \"F:/Reportes SF/Metlife/Metlife_Base.xlsx\"\n",
    "MetLife = pd.read_excel(nuevos)\n",
    "MetLife.head()"
   ]
  },
  {
   "cell_type": "code",
   "execution_count": null,
   "metadata": {},
   "outputs": [],
   "source": [
    "#MetLife.to_sql(name='Metlife General',con=motor_mysql_mariadb,if_exists = 'replace')\n",
    "\n",
    "\n",
    "# Crea un PeriodIndex a partir de la columna de fechas\n",
    "trimestres = pd.PeriodIndex(MetLife['Fecha'], freq='Q')\n",
    "\n",
    "\n",
    "# Agrega la columna de trimestres al DataFrame\n",
    "MetLife['Trimestre'] = trimestres\n",
    "MetLife['Un']=1"
   ]
  },
  {
   "cell_type": "code",
   "execution_count": null,
   "metadata": {},
   "outputs": [],
   "source": [
    "MetLife.head()\n",
    "salida = \"C:/Users/jmartinez/Documents/semestre.xlsx\"\n",
    "MetLife.to_excel(salida, index=False)"
   ]
  },
  {
   "cell_type": "code",
   "execution_count": null,
   "metadata": {},
   "outputs": [],
   "source": [
    "derty = MetLife.pivot_table(\n",
    "    index=\"Clínica\", columns=\"Trimestre\", values=\"Un\", aggfunc=np.sum\n",
    ")\n",
    "derty2 = MetLife.pivot_table(\n",
    "    index=\"Meses\", columns=\"Clínica\", values=\"Un\", aggfunc=sum\n",
    ")"
   ]
  },
  {
   "cell_type": "code",
   "execution_count": null,
   "metadata": {},
   "outputs": [],
   "source": [
    "derty55 = MetLife.pivot_table( index='Holding', columns=\"Año\",values=\"Un\",aggfunc=sum)\n",
    "#derty55.rename(columns={'Un': 'Cantidad De Uso'}, inplace=True)\n",
    "derty55.to_sql(name='MetLife555',con=motor_mysql_mariadb,if_exists = 'replace')"
   ]
  },
  {
   "cell_type": "code",
   "execution_count": null,
   "metadata": {},
   "outputs": [],
   "source": [
    "derty55.head()"
   ]
  },
  {
   "cell_type": "code",
   "execution_count": null,
   "metadata": {},
   "outputs": [],
   "source": [
    "derty3 = MetLife.pivot_table( index='Clínica', columns=\"Meses\",values=\"Un\",aggfunc=sum)\n",
    "derty3.rename(columns={'Un': 'Cantidad De Uso'}, inplace=True)\n",
    "derty3.to_sql(name='MetLife3',con=motor_mysql_mariadb,if_exists = 'replace')"
   ]
  },
  {
   "cell_type": "code",
   "execution_count": null,
   "metadata": {},
   "outputs": [],
   "source": [
    "derty5 = MetLife.pivot_table(\n",
    "    index=\"Meses\", values=\"Un\", aggfunc=sum\n",
    ")\n",
    "derty5.to_sql(name='MetLife6',con=motor_mysql_mariadb,if_exists = 'replace')\n"
   ]
  },
  {
   "cell_type": "code",
   "execution_count": null,
   "metadata": {},
   "outputs": [],
   "source": [
    "derty.to_sql(name='MetLife5',con=motor_mysql_mariadb,if_exists = 'replace')\n",
    "derty2.to_sql(name='MetLife66',con=motor_mysql_mariadb,if_exists = 'replace')\n"
   ]
  },
  {
   "cell_type": "code",
   "execution_count": null,
   "metadata": {},
   "outputs": [],
   "source": [
    "derty.head()"
   ]
  },
  {
   "cell_type": "code",
   "execution_count": null,
   "metadata": {},
   "outputs": [],
   "source": [
    "tabla_pivote = pd.pivot_table(MetLife, values='Rut', index='Clínica', columns='Trimestre', aggfunc='count')"
   ]
  },
  {
   "cell_type": "code",
   "execution_count": null,
   "metadata": {},
   "outputs": [],
   "source": [
    "tabla_pivote.head()"
   ]
  },
  {
   "cell_type": "code",
   "execution_count": null,
   "metadata": {},
   "outputs": [],
   "source": [
    "tabla_pivote.to_sql(name='MetLife99',con=motor_mysql_mariadb,if_exists = 'replace')"
   ]
  },
  {
   "attachments": {},
   "cell_type": "markdown",
   "metadata": {},
   "source": [
    "Sintec\n"
   ]
  },
  {
   "cell_type": "code",
   "execution_count": null,
   "metadata": {},
   "outputs": [],
   "source": [
    "nuevos = \"F:/Reportes SF/Mexico/Sintec/Sintec_Base.xlsx\"\n",
    "MetLife = pd.read_excel(nuevos)\n",
    "MetLife.head()"
   ]
  },
  {
   "cell_type": "code",
   "execution_count": 94,
   "metadata": {},
   "outputs": [
    {
     "data": {
      "text/plain": [
       "Index(['Codigo Ficha', 'Rut', 'Nombre', 'Sexo', 'Ocupacion', 'Cargo',\n",
       "       'Departamento', 'Campaña', 'Holding', 'Empleador', 'Poliza', 'Fecha',\n",
       "       'Fecha_chilena', 'Fecha_chilena2', 'Dia', 'Mes', 'Año', 'Meses',\n",
       "       'Canal', 'Clínica', 'Motivo de consulta', 'Nombre Empresa',\n",
       "       'Codigo EMP', 'Codigo A', 'Vigente', 'Corredor', 'Pais', 'cantidad'],\n",
       "      dtype='object')"
      ]
     },
     "execution_count": 94,
     "metadata": {},
     "output_type": "execute_result"
    }
   ],
   "source": [
    "df.columns"
   ]
  },
  {
   "cell_type": "code",
   "execution_count": 108,
   "metadata": {},
   "outputs": [
    {
     "name": "stdout",
     "output_type": "stream",
     "text": [
      "table\n",
      "Clínica  Clínica Del Sueño  Deporte  Nutrición  Orientación Médica  \\\n",
      "Meses                                                                \n",
      "Abril                  NaN      2.0        9.0                24.0   \n",
      "Marzo                  1.0      3.0        3.0                15.0   \n",
      "Mayo                   NaN      1.0       18.0                35.0   \n",
      "\n",
      "Clínica  Psicología  Telemedicina  \n",
      "Meses                              \n",
      "Abril          30.0          12.0  \n",
      "Marzo          13.0           2.0  \n",
      "Mayo           44.0          11.0  \n",
      "table2\n",
      "                    cantidad\n",
      "Clínica                     \n",
      "Clínica Del Sueño          1\n",
      "Deporte                    6\n",
      "Nutrición                 30\n",
      "Orientación Médica        74\n",
      "Psicología                87\n",
      "Telemedicina              25\n",
      "table3\n",
      "Meses               Abril  Marzo  Mayo\n",
      "Clínica                               \n",
      "Clínica Del Sueño       0      1     0\n",
      "Deporte                 2      3     1\n",
      "Nutrición               9      3    18\n",
      "Orientación Médica     24     15    35\n",
      "Psicología             30     13    44\n",
      "Telemedicina           12      2    11\n",
      "table4\n",
      "Clínica   Clínica Del Sueño  Deporte  Nutrición  Orientación Médica  \\\n",
      "cantidad                  1        6         30                  74   \n",
      "\n",
      "Clínica   Psicología  Telemedicina  \n",
      "cantidad          87            25  \n"
     ]
    }
   ],
   "source": [
    "# importing required libraries\n",
    "import pandas as pd\n",
    "import matplotlib.pyplot as plt\n",
    "\n",
    "# creating dataframe\n",
    "df = MetLife\n",
    "df[\"cantidad\"] = 1\n",
    "df = df.sort_values(['Fecha'])\n",
    "\n",
    "meses = df[\n",
    "    [\n",
    "        'Clínica','Meses','cantidad'\n",
    "    ]\n",
    "]\n",
    "meses = meses.sort_values(['Meses'])\n",
    "\n",
    "# creating pivot table\n",
    "table = pd.pivot_table(meses, index=[\"Meses\"],columns=['Clínica'], values='cantidad',aggfunc='count')\n",
    "table2 = pd.pivot_table(meses,index=[\"Clínica\"],values='cantidad',aggfunc=np.count_nonzero,fill_value=0)\n",
    "table4 = pd.pivot_table(meses,columns=[\"Clínica\"],values='cantidad',aggfunc=np.count_nonzero,fill_value=0)\n",
    "\n",
    "#table3 = pd.pivot_table(meses,index=['Clínica'],columns=['Meses'], values='cantidad',aggfunc=np.count_nonzero, margins=True, fill_value=0).pipe(lambda d: d.div(d['All'], axis='columns')).applymap('{:.0%}'.format)\n",
    "table3 = pd.pivot_table(meses,index=['Clínica'],columns=['Meses'], values='cantidad',fill_value=0,aggfunc=np.count_nonzero)\n",
    "# calculating percentage\n",
    "#table[\"% Income\"] = (table[\"Salary(in $)\"] / table[\"Salary(in $)\"].sum()) * 100\n",
    "\n",
    "# display table\n",
    "print('table')\n",
    "print(table)\n",
    "print('table2')\n",
    "print(table2)\n",
    "print ('table3')\n",
    "print (table3)\n",
    "print ('table4')\n",
    "print (table4)\n",
    "#table.to_sql(name=\"prueba\", con=motor_mysql_mariadb, if_exists=\"replace\")\n"
   ]
  },
  {
   "cell_type": "code",
   "execution_count": 107,
   "metadata": {},
   "outputs": [
    {
     "data": {
      "text/plain": [
       "1"
      ]
     },
     "execution_count": 107,
     "metadata": {},
     "output_type": "execute_result"
    }
   ],
   "source": [
    "table.to_sql(name='prueba',con=motor_mysql_mariadb,if_exists = 'replace')\n",
    "table2.to_sql(name='prueba2',con=motor_mysql_mariadb,if_exists = 'replace')\n",
    "table3.to_sql(name='prueba3',con=motor_mysql_mariadb,if_exists = 'replace')\n",
    "table4.to_sql(name='prueba4',con=motor_mysql_mariadb,if_exists = 'replace')"
   ]
  },
  {
   "cell_type": "code",
   "execution_count": null,
   "metadata": {},
   "outputs": [],
   "source": [
    "import pandas as pd\n",
    "import matplotlib.pyplot as plt\n",
    "\n",
    "# creating dataframe\n",
    "df = pd.DataFrame(\n",
    "    {\n",
    "        \"Name\": [\"John\", \"Emily\", \"Smith\", \"Joe\"],\n",
    "        \"Gender\": [\"Male\", \"Female\", \"Male\", \"Female\"],\n",
    "        \"Salary(in $)\": [20, 40, 35, 28],\n",
    "    }\n",
    ")\n",
    "\n",
    "print(\"Dataset\")\n",
    "print(df)\n",
    "print(\"-\" * 40)"
   ]
  },
  {
   "cell_type": "code",
   "execution_count": null,
   "metadata": {},
   "outputs": [],
   "source": [
    "table = pd.pivot_table(df, index=[\"Gender\", \"Name\"])\n",
    "table"
   ]
  }
 ],
 "metadata": {
  "kernelspec": {
   "display_name": "base",
   "language": "python",
   "name": "python3"
  },
  "language_info": {
   "codemirror_mode": {
    "name": "ipython",
    "version": 3
   },
   "file_extension": ".py",
   "mimetype": "text/x-python",
   "name": "python",
   "nbconvert_exporter": "python",
   "pygments_lexer": "ipython3",
   "version": "3.9.12"
  },
  "orig_nbformat": 4,
  "vscode": {
   "interpreter": {
    "hash": "ad2bdc8ecc057115af97d19610ffacc2b4e99fae6737bb82f5d7fb13d2f2c186"
   }
  }
 },
 "nbformat": 4,
 "nbformat_minor": 2
}
