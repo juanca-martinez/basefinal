{
 "cells": [
  {
   "cell_type": "code",
   "execution_count": 4,
   "metadata": {},
   "outputs": [],
   "source": [
    "import pandas as pd\n",
    "import numpy as np\n",
    "from sqlalchemy import create_engine\n"
   ]
  },
  {
   "cell_type": "code",
   "execution_count": 5,
   "metadata": {},
   "outputs": [],
   "source": [
    "#usuario = 'siempreread'\n",
    "#contrasena = 'S13mpr3_Ch1l3'\n",
    "#url_servidor = '209.151.148.250'\n",
    "puerto = '3306'\n",
    "esquema = 'Test_infogram'\n",
    "plugin_autenticacion = 'mysql_native_password'\n",
    "\n",
    "usuario = 'care_consulta'\n",
    "contrasena = 'CareAssistance!10'\n",
    "url_servidor = '10.0.10.22'\n",
    "\n",
    "# Conexión a la base de datos\n",
    "\n",
    "c_conexion = 'mysql+mysqlconnector://{0}:{1}@{2}:{3}/{4}?auth_plugin={5}'\n",
    "c_conexion = c_conexion.format(usuario, contrasena, url_servidor, puerto,\n",
    "                               esquema, plugin_autenticacion)\n",
    "motor_mysql_mariadb = create_engine(c_conexion)\n",
    "\n",
    "\n",
    "#archivo de salida modificar segun archivo\n",
    "#archivo = 'C:/Users/jmartinez/Desktop/casos nuevos/clientes/1/casos_faltantes_segun_archivo.xlsx'"
   ]
  },
  {
   "cell_type": "code",
   "execution_count": 6,
   "metadata": {},
   "outputs": [
    {
     "data": {
      "text/html": [
       "<div><div id=ef20d2c1-415b-4b17-b63a-806989d18443 style=\"display:none; background-color:#9D6CFF; color:white; width:200px; height:30px; padding-left:5px; border-radius:4px; flex-direction:row; justify-content:space-around; align-items:center;\" onmouseover=\"this.style.backgroundColor='#BA9BF8'\" onmouseout=\"this.style.backgroundColor='#9D6CFF'\" onclick=\"window.commands?.execute('create-mitosheet-from-dataframe-output');\">See Full Dataframe in Mito</div> <script> if (window.commands?.hasCommand('create-mitosheet-from-dataframe-output')) document.getElementById('ef20d2c1-415b-4b17-b63a-806989d18443').style.display = 'flex' </script> <table border=\"1\" class=\"dataframe\">\n",
       "  <thead>\n",
       "    <tr style=\"text-align: right;\">\n",
       "      <th></th>\n",
       "      <th>Codigo Ficha</th>\n",
       "      <th>Rut</th>\n",
       "      <th>Nombre</th>\n",
       "      <th>Sexo</th>\n",
       "      <th>Ocupacion</th>\n",
       "      <th>Cargo</th>\n",
       "      <th>Departamento</th>\n",
       "      <th>Campaña</th>\n",
       "      <th>Holding</th>\n",
       "      <th>Empleador</th>\n",
       "      <th>...</th>\n",
       "      <th>Meses</th>\n",
       "      <th>Canal</th>\n",
       "      <th>Clínica</th>\n",
       "      <th>Motivo de consulta</th>\n",
       "      <th>Nombre Empresa</th>\n",
       "      <th>Codigo EMP</th>\n",
       "      <th>Codigo A</th>\n",
       "      <th>Vigente</th>\n",
       "      <th>Corredor</th>\n",
       "      <th>Pais</th>\n",
       "    </tr>\n",
       "  </thead>\n",
       "  <tbody>\n",
       "    <tr>\n",
       "      <th>0</th>\n",
       "      <td>FFF-0009</td>\n",
       "      <td>174839182</td>\n",
       "      <td>Perez Cordova Catherine Fernanda</td>\n",
       "      <td>Mujer</td>\n",
       "      <td>NaN</td>\n",
       "      <td>Gerencia Enológica</td>\n",
       "      <td>Enología</td>\n",
       "      <td>MetLife</td>\n",
       "      <td>Concha Y Toro</td>\n",
       "      <td>Viña Concha Y Toro S.A.</td>\n",
       "      <td>...</td>\n",
       "      <td>Enero</td>\n",
       "      <td>Entrante - Llamada</td>\n",
       "      <td>Orientación Médica</td>\n",
       "      <td>0</td>\n",
       "      <td>Viña Concha Y Toro S.A.</td>\n",
       "      <td>EMP5685</td>\n",
       "      <td>A-0354</td>\n",
       "      <td>SI</td>\n",
       "      <td>Willis Towers Watson S.A. Corred. De Seg.</td>\n",
       "      <td>Chile</td>\n",
       "    </tr>\n",
       "    <tr>\n",
       "      <th>1</th>\n",
       "      <td>FFF-0010</td>\n",
       "      <td>150235456</td>\n",
       "      <td>Katherine Evelyn Yong Leyton</td>\n",
       "      <td>Mujer</td>\n",
       "      <td>NaN</td>\n",
       "      <td>NaN</td>\n",
       "      <td>NaN</td>\n",
       "      <td>MetLife</td>\n",
       "      <td>Rol General SMU</td>\n",
       "      <td>Rendic Hnos. S.A.</td>\n",
       "      <td>...</td>\n",
       "      <td>Enero</td>\n",
       "      <td>Entrante - Llamada</td>\n",
       "      <td>Orientación Médica</td>\n",
       "      <td>0</td>\n",
       "      <td>Rendic Hnos. S.A.</td>\n",
       "      <td>EMP5631</td>\n",
       "      <td>A-0313</td>\n",
       "      <td>SI</td>\n",
       "      <td>THB Chile Corredores De Seguros S.A.</td>\n",
       "      <td>Chile</td>\n",
       "    </tr>\n",
       "    <tr>\n",
       "      <th>2</th>\n",
       "      <td>FFF-0012</td>\n",
       "      <td>197272031</td>\n",
       "      <td>Rojo Collao Sebastian</td>\n",
       "      <td>Hombre</td>\n",
       "      <td>NaN</td>\n",
       "      <td>NaN</td>\n",
       "      <td>NaN</td>\n",
       "      <td>MetLife</td>\n",
       "      <td>Agrosuper</td>\n",
       "      <td>Agrícola Super Ltda.</td>\n",
       "      <td>...</td>\n",
       "      <td>Enero</td>\n",
       "      <td>Entrante - Chat Online</td>\n",
       "      <td>Orientación Médica</td>\n",
       "      <td>0</td>\n",
       "      <td>Agrícola Super Ltda.</td>\n",
       "      <td>EMP5805</td>\n",
       "      <td>A-0225</td>\n",
       "      <td>SI</td>\n",
       "      <td>Mercer Corredores De Seguros Ltda.</td>\n",
       "      <td>Chile</td>\n",
       "    </tr>\n",
       "    <tr>\n",
       "      <th>3</th>\n",
       "      <td>FFF-0014</td>\n",
       "      <td>153308950</td>\n",
       "      <td>David Aaron Diaz Garcia</td>\n",
       "      <td>Hombre</td>\n",
       "      <td>NaN</td>\n",
       "      <td>NaN</td>\n",
       "      <td>NaN</td>\n",
       "      <td>MetLife</td>\n",
       "      <td>ACHS</td>\n",
       "      <td>Asociación Chilena De Seguridad</td>\n",
       "      <td>...</td>\n",
       "      <td>Enero</td>\n",
       "      <td>Saliente - Llamada</td>\n",
       "      <td>Orientación Médica</td>\n",
       "      <td>0</td>\n",
       "      <td>Asociación Chilena De Seguridad</td>\n",
       "      <td>EMP5684</td>\n",
       "      <td>A-0352</td>\n",
       "      <td>SI</td>\n",
       "      <td>Willis Towers Watson S.A. Corred. De Seg.</td>\n",
       "      <td>Chile</td>\n",
       "    </tr>\n",
       "    <tr>\n",
       "      <th>4</th>\n",
       "      <td>FFF-0015</td>\n",
       "      <td>150210534</td>\n",
       "      <td>Angelica Lisett Cortes Chavarria</td>\n",
       "      <td>Mujer</td>\n",
       "      <td>NaN</td>\n",
       "      <td>NaN</td>\n",
       "      <td>NaN</td>\n",
       "      <td>MetLife</td>\n",
       "      <td>ACHS</td>\n",
       "      <td>Asociación Chilena De Seguridad</td>\n",
       "      <td>...</td>\n",
       "      <td>Enero</td>\n",
       "      <td>Entrante - Llamada</td>\n",
       "      <td>Orientación Médica</td>\n",
       "      <td>0</td>\n",
       "      <td>Asociación Chilena De Seguridad</td>\n",
       "      <td>EMP5684</td>\n",
       "      <td>A-0352</td>\n",
       "      <td>SI</td>\n",
       "      <td>Willis Towers Watson S.A. Corred. De Seg.</td>\n",
       "      <td>Chile</td>\n",
       "    </tr>\n",
       "  </tbody>\n",
       "</table></div>"
      ],
      "text/plain": [
       "  Codigo Ficha        Rut                            Nombre    Sexo Ocupacion  \\\n",
       "0     FFF-0009  174839182  Perez Cordova Catherine Fernanda   Mujer       NaN   \n",
       "1     FFF-0010  150235456      Katherine Evelyn Yong Leyton   Mujer       NaN   \n",
       "2     FFF-0012  197272031             Rojo Collao Sebastian  Hombre       NaN   \n",
       "3     FFF-0014  153308950           David Aaron Diaz Garcia  Hombre       NaN   \n",
       "4     FFF-0015  150210534  Angelica Lisett Cortes Chavarria   Mujer       NaN   \n",
       "\n",
       "                Cargo Departamento  Campaña          Holding  \\\n",
       "0  Gerencia Enológica     Enología  MetLife    Concha Y Toro   \n",
       "1                 NaN          NaN  MetLife  Rol General SMU   \n",
       "2                 NaN          NaN  MetLife        Agrosuper   \n",
       "3                 NaN          NaN  MetLife             ACHS   \n",
       "4                 NaN          NaN  MetLife             ACHS   \n",
       "\n",
       "                         Empleador  ...  Meses                   Canal  \\\n",
       "0          Viña Concha Y Toro S.A.  ...  Enero      Entrante - Llamada   \n",
       "1                Rendic Hnos. S.A.  ...  Enero      Entrante - Llamada   \n",
       "2             Agrícola Super Ltda.  ...  Enero  Entrante - Chat Online   \n",
       "3  Asociación Chilena De Seguridad  ...  Enero      Saliente - Llamada   \n",
       "4  Asociación Chilena De Seguridad  ...  Enero      Entrante - Llamada   \n",
       "\n",
       "              Clínica Motivo de consulta                   Nombre Empresa  \\\n",
       "0  Orientación Médica                  0          Viña Concha Y Toro S.A.   \n",
       "1  Orientación Médica                  0                Rendic Hnos. S.A.   \n",
       "2  Orientación Médica                  0             Agrícola Super Ltda.   \n",
       "3  Orientación Médica                  0  Asociación Chilena De Seguridad   \n",
       "4  Orientación Médica                  0  Asociación Chilena De Seguridad   \n",
       "\n",
       "   Codigo EMP  Codigo A Vigente                                   Corredor  \\\n",
       "0     EMP5685    A-0354      SI  Willis Towers Watson S.A. Corred. De Seg.   \n",
       "1     EMP5631    A-0313      SI       THB Chile Corredores De Seguros S.A.   \n",
       "2     EMP5805    A-0225      SI         Mercer Corredores De Seguros Ltda.   \n",
       "3     EMP5684    A-0352      SI  Willis Towers Watson S.A. Corred. De Seg.   \n",
       "4     EMP5684    A-0352      SI  Willis Towers Watson S.A. Corred. De Seg.   \n",
       "\n",
       "    Pais  \n",
       "0  Chile  \n",
       "1  Chile  \n",
       "2  Chile  \n",
       "3  Chile  \n",
       "4  Chile  \n",
       "\n",
       "[5 rows x 27 columns]"
      ]
     },
     "execution_count": 6,
     "metadata": {},
     "output_type": "execute_result"
    }
   ],
   "source": [
    "nuevos = \"F:/Reportes SF/Metlife/Metlife_Base.xlsx\"\n",
    "MetLife = pd.read_excel(nuevos)\n",
    "MetLife.head()"
   ]
  },
  {
   "cell_type": "code",
   "execution_count": 7,
   "metadata": {},
   "outputs": [],
   "source": [
    "#MetLife.to_sql(name='Metlife General',con=motor_mysql_mariadb,if_exists = 'replace')\n",
    "\n",
    "\n",
    "# Crea un PeriodIndex a partir de la columna de fechas\n",
    "trimestres = pd.PeriodIndex(MetLife['Fecha'], freq='Q')\n",
    "\n",
    "\n",
    "# Agrega la columna de trimestres al DataFrame\n",
    "MetLife['Trimestre'] = trimestres\n",
    "MetLife['Un']=1"
   ]
  },
  {
   "cell_type": "code",
   "execution_count": 8,
   "metadata": {},
   "outputs": [],
   "source": [
    "MetLife.head()\n",
    "salida = \"C:/Users/jmartinez/Documents/semestre.xlsx\"\n",
    "MetLife.to_excel(salida, index=False)"
   ]
  },
  {
   "cell_type": "code",
   "execution_count": 9,
   "metadata": {},
   "outputs": [],
   "source": [
    "derty = MetLife.pivot_table(\n",
    "    index=\"Clínica\", columns=\"Trimestre\", values=\"Un\", aggfunc=np.sum\n",
    ")\n",
    "derty2 = MetLife.pivot_table(\n",
    "    index=\"Meses\", columns=\"Clínica\", values=\"Un\", aggfunc=sum\n",
    ")"
   ]
  },
  {
   "cell_type": "code",
   "execution_count": 10,
   "metadata": {},
   "outputs": [
    {
     "data": {
      "text/plain": [
       "150"
      ]
     },
     "execution_count": 10,
     "metadata": {},
     "output_type": "execute_result"
    }
   ],
   "source": [
    "derty55 = MetLife.pivot_table( index='Holding', columns=\"Año\",values=\"Un\",aggfunc=sum)\n",
    "#derty55.rename(columns={'Un': 'Cantidad De Uso'}, inplace=True)\n",
    "derty55.to_sql(name='MetLife555',con=motor_mysql_mariadb,if_exists = 'replace')"
   ]
  },
  {
   "cell_type": "code",
   "execution_count": 11,
   "metadata": {},
   "outputs": [
    {
     "data": {
      "text/html": [
       "<div><div id=d8d4cff0-bf92-474e-ab3d-a411ce62407d style=\"display:none; background-color:#9D6CFF; color:white; width:200px; height:30px; padding-left:5px; border-radius:4px; flex-direction:row; justify-content:space-around; align-items:center;\" onmouseover=\"this.style.backgroundColor='#BA9BF8'\" onmouseout=\"this.style.backgroundColor='#9D6CFF'\" onclick=\"window.commands?.execute('create-mitosheet-from-dataframe-output');\">See Full Dataframe in Mito</div> <script> if (window.commands?.hasCommand('create-mitosheet-from-dataframe-output')) document.getElementById('d8d4cff0-bf92-474e-ab3d-a411ce62407d').style.display = 'flex' </script> <table border=\"1\" class=\"dataframe\">\n",
       "  <thead>\n",
       "    <tr style=\"text-align: right;\">\n",
       "      <th>Año</th>\n",
       "      <th>2022</th>\n",
       "      <th>2023</th>\n",
       "    </tr>\n",
       "    <tr>\n",
       "      <th>Holding</th>\n",
       "      <th></th>\n",
       "      <th></th>\n",
       "    </tr>\n",
       "  </thead>\n",
       "  <tbody>\n",
       "    <tr>\n",
       "      <th>ACHAP</th>\n",
       "      <td>41.0</td>\n",
       "      <td>30.0</td>\n",
       "    </tr>\n",
       "    <tr>\n",
       "      <th>ACHS</th>\n",
       "      <td>1146.0</td>\n",
       "      <td>1545.0</td>\n",
       "    </tr>\n",
       "    <tr>\n",
       "      <th>Agema EECC - DCH</th>\n",
       "      <td>15.0</td>\n",
       "      <td>NaN</td>\n",
       "    </tr>\n",
       "    <tr>\n",
       "      <th>Agema EECC - DET</th>\n",
       "      <td>46.0</td>\n",
       "      <td>135.0</td>\n",
       "    </tr>\n",
       "    <tr>\n",
       "      <th>Agema EECC - DGM</th>\n",
       "      <td>12.0</td>\n",
       "      <td>8.0</td>\n",
       "    </tr>\n",
       "  </tbody>\n",
       "</table></div>"
      ],
      "text/plain": [
       "Año                 2022    2023\n",
       "Holding                         \n",
       "ACHAP               41.0    30.0\n",
       "ACHS              1146.0  1545.0\n",
       "Agema EECC - DCH    15.0     NaN\n",
       "Agema EECC - DET    46.0   135.0\n",
       "Agema EECC - DGM    12.0     8.0"
      ]
     },
     "execution_count": 11,
     "metadata": {},
     "output_type": "execute_result"
    }
   ],
   "source": [
    "derty55.head()"
   ]
  },
  {
   "cell_type": "code",
   "execution_count": 12,
   "metadata": {},
   "outputs": [
    {
     "data": {
      "text/plain": [
       "9"
      ]
     },
     "execution_count": 12,
     "metadata": {},
     "output_type": "execute_result"
    }
   ],
   "source": [
    "derty3 = MetLife.pivot_table( index='Clínica', columns=\"Meses\",values=\"Un\",aggfunc=sum)\n",
    "derty3.rename(columns={'Un': 'Cantidad De Uso'}, inplace=True)\n",
    "derty3.to_sql(name='MetLife3',con=motor_mysql_mariadb,if_exists = 'replace')"
   ]
  },
  {
   "cell_type": "code",
   "execution_count": 13,
   "metadata": {},
   "outputs": [
    {
     "data": {
      "text/plain": [
       "7"
      ]
     },
     "execution_count": 13,
     "metadata": {},
     "output_type": "execute_result"
    }
   ],
   "source": [
    "derty5 = MetLife.pivot_table(\n",
    "    index=\"Meses\", values=\"Un\", aggfunc=sum\n",
    ")\n",
    "derty5.to_sql(name='MetLife6',con=motor_mysql_mariadb,if_exists = 'replace')\n"
   ]
  },
  {
   "cell_type": "code",
   "execution_count": 14,
   "metadata": {},
   "outputs": [
    {
     "data": {
      "text/plain": [
       "7"
      ]
     },
     "execution_count": 14,
     "metadata": {},
     "output_type": "execute_result"
    }
   ],
   "source": [
    "derty.to_sql(name='MetLife5',con=motor_mysql_mariadb,if_exists = 'replace')\n",
    "derty2.to_sql(name='MetLife66',con=motor_mysql_mariadb,if_exists = 'replace')\n"
   ]
  },
  {
   "cell_type": "code",
   "execution_count": 15,
   "metadata": {},
   "outputs": [
    {
     "data": {
      "text/html": [
       "<div><div id=34e67a42-699b-4364-a5b2-e7ece760a428 style=\"display:none; background-color:#9D6CFF; color:white; width:200px; height:30px; padding-left:5px; border-radius:4px; flex-direction:row; justify-content:space-around; align-items:center;\" onmouseover=\"this.style.backgroundColor='#BA9BF8'\" onmouseout=\"this.style.backgroundColor='#9D6CFF'\" onclick=\"window.commands?.execute('create-mitosheet-from-dataframe-output');\">See Full Dataframe in Mito</div> <script> if (window.commands?.hasCommand('create-mitosheet-from-dataframe-output')) document.getElementById('34e67a42-699b-4364-a5b2-e7ece760a428').style.display = 'flex' </script> <table border=\"1\" class=\"dataframe\">\n",
       "  <thead>\n",
       "    <tr style=\"text-align: right;\">\n",
       "      <th>Trimestre</th>\n",
       "      <th>2022Q4</th>\n",
       "      <th>2023Q1</th>\n",
       "      <th>2023Q2</th>\n",
       "    </tr>\n",
       "    <tr>\n",
       "      <th>Clínica</th>\n",
       "      <th></th>\n",
       "      <th></th>\n",
       "      <th></th>\n",
       "    </tr>\n",
       "  </thead>\n",
       "  <tbody>\n",
       "    <tr>\n",
       "      <th>Asesoría Psicológica en Salud Sexual</th>\n",
       "      <td>4.0</td>\n",
       "      <td>24.0</td>\n",
       "      <td>10.0</td>\n",
       "    </tr>\n",
       "    <tr>\n",
       "      <th>Clínica Del Sueño</th>\n",
       "      <td>305.0</td>\n",
       "      <td>449.0</td>\n",
       "      <td>318.0</td>\n",
       "    </tr>\n",
       "    <tr>\n",
       "      <th>Clínica de Orientación LGBT+</th>\n",
       "      <td>NaN</td>\n",
       "      <td>2.0</td>\n",
       "      <td>1.0</td>\n",
       "    </tr>\n",
       "    <tr>\n",
       "      <th>Deporte</th>\n",
       "      <td>1615.0</td>\n",
       "      <td>2086.0</td>\n",
       "      <td>1235.0</td>\n",
       "    </tr>\n",
       "    <tr>\n",
       "      <th>Nutrición</th>\n",
       "      <td>1956.0</td>\n",
       "      <td>3919.0</td>\n",
       "      <td>2645.0</td>\n",
       "    </tr>\n",
       "  </tbody>\n",
       "</table></div>"
      ],
      "text/plain": [
       "Trimestre                             2022Q4  2023Q1  2023Q2\n",
       "Clínica                                                     \n",
       "Asesoría Psicológica en Salud Sexual     4.0    24.0    10.0\n",
       "Clínica Del Sueño                      305.0   449.0   318.0\n",
       "Clínica de Orientación LGBT+             NaN     2.0     1.0\n",
       "Deporte                               1615.0  2086.0  1235.0\n",
       "Nutrición                             1956.0  3919.0  2645.0"
      ]
     },
     "execution_count": 15,
     "metadata": {},
     "output_type": "execute_result"
    }
   ],
   "source": [
    "derty.head()"
   ]
  },
  {
   "cell_type": "code",
   "execution_count": 16,
   "metadata": {},
   "outputs": [],
   "source": [
    "tabla_pivote = pd.pivot_table(MetLife, values='Rut', index='Clínica', columns='Trimestre', aggfunc='count')"
   ]
  },
  {
   "cell_type": "code",
   "execution_count": 17,
   "metadata": {},
   "outputs": [
    {
     "data": {
      "text/html": [
       "<div><div id=d2231334-3870-4d8f-81eb-d08b8520b70d style=\"display:none; background-color:#9D6CFF; color:white; width:200px; height:30px; padding-left:5px; border-radius:4px; flex-direction:row; justify-content:space-around; align-items:center;\" onmouseover=\"this.style.backgroundColor='#BA9BF8'\" onmouseout=\"this.style.backgroundColor='#9D6CFF'\" onclick=\"window.commands?.execute('create-mitosheet-from-dataframe-output');\">See Full Dataframe in Mito</div> <script> if (window.commands?.hasCommand('create-mitosheet-from-dataframe-output')) document.getElementById('d2231334-3870-4d8f-81eb-d08b8520b70d').style.display = 'flex' </script> <table border=\"1\" class=\"dataframe\">\n",
       "  <thead>\n",
       "    <tr style=\"text-align: right;\">\n",
       "      <th>Trimestre</th>\n",
       "      <th>2022Q4</th>\n",
       "      <th>2023Q1</th>\n",
       "      <th>2023Q2</th>\n",
       "    </tr>\n",
       "    <tr>\n",
       "      <th>Clínica</th>\n",
       "      <th></th>\n",
       "      <th></th>\n",
       "      <th></th>\n",
       "    </tr>\n",
       "  </thead>\n",
       "  <tbody>\n",
       "    <tr>\n",
       "      <th>Asesoría Psicológica en Salud Sexual</th>\n",
       "      <td>4.0</td>\n",
       "      <td>24.0</td>\n",
       "      <td>10.0</td>\n",
       "    </tr>\n",
       "    <tr>\n",
       "      <th>Clínica Del Sueño</th>\n",
       "      <td>305.0</td>\n",
       "      <td>449.0</td>\n",
       "      <td>318.0</td>\n",
       "    </tr>\n",
       "    <tr>\n",
       "      <th>Clínica de Orientación LGBT+</th>\n",
       "      <td>NaN</td>\n",
       "      <td>2.0</td>\n",
       "      <td>1.0</td>\n",
       "    </tr>\n",
       "    <tr>\n",
       "      <th>Deporte</th>\n",
       "      <td>1615.0</td>\n",
       "      <td>2086.0</td>\n",
       "      <td>1235.0</td>\n",
       "    </tr>\n",
       "    <tr>\n",
       "      <th>Nutrición</th>\n",
       "      <td>1956.0</td>\n",
       "      <td>3919.0</td>\n",
       "      <td>2645.0</td>\n",
       "    </tr>\n",
       "  </tbody>\n",
       "</table></div>"
      ],
      "text/plain": [
       "Trimestre                             2022Q4  2023Q1  2023Q2\n",
       "Clínica                                                     \n",
       "Asesoría Psicológica en Salud Sexual     4.0    24.0    10.0\n",
       "Clínica Del Sueño                      305.0   449.0   318.0\n",
       "Clínica de Orientación LGBT+             NaN     2.0     1.0\n",
       "Deporte                               1615.0  2086.0  1235.0\n",
       "Nutrición                             1956.0  3919.0  2645.0"
      ]
     },
     "execution_count": 17,
     "metadata": {},
     "output_type": "execute_result"
    }
   ],
   "source": [
    "tabla_pivote.head()"
   ]
  },
  {
   "cell_type": "code",
   "execution_count": 18,
   "metadata": {},
   "outputs": [
    {
     "data": {
      "text/plain": [
       "9"
      ]
     },
     "execution_count": 18,
     "metadata": {},
     "output_type": "execute_result"
    }
   ],
   "source": [
    "tabla_pivote.to_sql(name='MetLife99',con=motor_mysql_mariadb,if_exists = 'replace')"
   ]
  }
 ],
 "metadata": {
  "kernelspec": {
   "display_name": "base",
   "language": "python",
   "name": "python3"
  },
  "language_info": {
   "codemirror_mode": {
    "name": "ipython",
    "version": 3
   },
   "file_extension": ".py",
   "mimetype": "text/x-python",
   "name": "python",
   "nbconvert_exporter": "python",
   "pygments_lexer": "ipython3",
   "version": "3.9.12"
  },
  "orig_nbformat": 4,
  "vscode": {
   "interpreter": {
    "hash": "ad2bdc8ecc057115af97d19610ffacc2b4e99fae6737bb82f5d7fb13d2f2c186"
   }
  }
 },
 "nbformat": 4,
 "nbformat_minor": 2
}
