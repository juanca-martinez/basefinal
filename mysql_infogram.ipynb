{
 "cells": [
  {
   "cell_type": "code",
   "execution_count": 11,
   "metadata": {},
   "outputs": [],
   "source": [
    "import pandas as pd\n",
    "import numpy as np\n",
    "from sqlalchemy import create_engine\n"
   ]
  },
  {
   "cell_type": "code",
   "execution_count": 62,
   "metadata": {},
   "outputs": [],
   "source": [
    "#usuario = 'siempreread'\n",
    "#contrasena = 'S13mpr3_Ch1l3'\n",
    "#url_servidor = '209.151.148.250'\n",
    "puerto = '3306'\n",
    "esquema = 'Test_infogram'\n",
    "plugin_autenticacion = 'mysql_native_password'\n",
    "\n",
    "usuario = 'care_consulta'\n",
    "contrasena = 'CareAssistance!10'\n",
    "url_servidor = '10.0.10.22'\n",
    "\n",
    "# Conexión a la base de datos\n",
    "\n",
    "c_conexion = 'mysql+mysqlconnector://{0}:{1}@{2}:{3}/{4}?auth_plugin={5}'\n",
    "c_conexion = c_conexion.format(usuario, contrasena, url_servidor, puerto,\n",
    "                               esquema, plugin_autenticacion)\n",
    "motor_mysql_mariadb = create_engine(c_conexion)\n",
    "\n",
    "\n",
    "#archivo de salida modificar segun archivo\n",
    "#archivo = 'C:/Users/jmartinez/Desktop/casos nuevos/clientes/1/casos_faltantes_segun_archivo.xlsx'"
   ]
  },
  {
   "cell_type": "code",
   "execution_count": 41,
   "metadata": {},
   "outputs": [
    {
     "data": {
      "text/html": [
       "<div><div id=7083f0fb-efbe-4a56-aa4b-e8c9a5595382 style=\"display:none; background-color:#9D6CFF; color:white; width:200px; height:30px; padding-left:5px; border-radius:4px; flex-direction:row; justify-content:space-around; align-items:center;\" onmouseover=\"this.style.backgroundColor='#BA9BF8'\" onmouseout=\"this.style.backgroundColor='#9D6CFF'\" onclick=\"window.commands?.execute('create-mitosheet-from-dataframe-output');\">See Full Dataframe in Mito</div> <script> if (window.commands?.hasCommand('create-mitosheet-from-dataframe-output')) document.getElementById('7083f0fb-efbe-4a56-aa4b-e8c9a5595382').style.display = 'flex' </script> <table border=\"1\" class=\"dataframe\">\n",
       "  <thead>\n",
       "    <tr style=\"text-align: right;\">\n",
       "      <th></th>\n",
       "      <th>Codigo Ficha</th>\n",
       "      <th>Rut</th>\n",
       "      <th>Nombre</th>\n",
       "      <th>Sexo</th>\n",
       "      <th>Ocupacion</th>\n",
       "      <th>Cargo</th>\n",
       "      <th>Departamento</th>\n",
       "      <th>Campaña</th>\n",
       "      <th>Holding</th>\n",
       "      <th>Empleador</th>\n",
       "      <th>...</th>\n",
       "      <th>Meses</th>\n",
       "      <th>Canal</th>\n",
       "      <th>Clínica</th>\n",
       "      <th>Motivo de consulta</th>\n",
       "      <th>Nombre Empresa</th>\n",
       "      <th>Codigo EMP</th>\n",
       "      <th>Codigo A</th>\n",
       "      <th>Vigente</th>\n",
       "      <th>Corredor</th>\n",
       "      <th>Pais</th>\n",
       "    </tr>\n",
       "  </thead>\n",
       "  <tbody>\n",
       "    <tr>\n",
       "      <th>0</th>\n",
       "      <td>FFF-0088</td>\n",
       "      <td>164841448</td>\n",
       "      <td>Maria Sofia Eberl Muñoz</td>\n",
       "      <td>Mujer</td>\n",
       "      <td>NaN</td>\n",
       "      <td>NaN</td>\n",
       "      <td>NaN</td>\n",
       "      <td>MetLife</td>\n",
       "      <td>Sin Holding Asociado</td>\n",
       "      <td>Evaluaserve Chile S.A.</td>\n",
       "      <td>...</td>\n",
       "      <td>Enero</td>\n",
       "      <td>Entrante - Chat Online</td>\n",
       "      <td>Orientación Médica</td>\n",
       "      <td>0</td>\n",
       "      <td>Evaluaserve Chile S.A.</td>\n",
       "      <td>EMP5716</td>\n",
       "      <td>A-0341</td>\n",
       "      <td>NO</td>\n",
       "      <td>Valorcapital Corredores De Seguros SPA</td>\n",
       "      <td>Chile</td>\n",
       "    </tr>\n",
       "    <tr>\n",
       "      <th>1</th>\n",
       "      <td>FFF-0076</td>\n",
       "      <td>195034931</td>\n",
       "      <td>Cristian Alexis Droguett Araya</td>\n",
       "      <td>Hombre</td>\n",
       "      <td>NaN</td>\n",
       "      <td>NaN</td>\n",
       "      <td>NaN</td>\n",
       "      <td>MetLife</td>\n",
       "      <td>Sacyr</td>\n",
       "      <td>Sacyr Operación Y Servicios Saopse</td>\n",
       "      <td>...</td>\n",
       "      <td>Enero</td>\n",
       "      <td>Entrante - Chat Online</td>\n",
       "      <td>Orientación Médica</td>\n",
       "      <td>0</td>\n",
       "      <td>Sacyr Operación Y Servicios Saopse</td>\n",
       "      <td>EMP5897</td>\n",
       "      <td>A-0084</td>\n",
       "      <td>SI</td>\n",
       "      <td>Aon Risk Services (Chile) Corred. De Seg.</td>\n",
       "      <td>Chile</td>\n",
       "    </tr>\n",
       "    <tr>\n",
       "      <th>2</th>\n",
       "      <td>FFF-0037</td>\n",
       "      <td>184478412</td>\n",
       "      <td>Ana Belen Orellana Catalan</td>\n",
       "      <td>Mujer</td>\n",
       "      <td>NaN</td>\n",
       "      <td>NaN</td>\n",
       "      <td>NaN</td>\n",
       "      <td>MetLife</td>\n",
       "      <td>ACHS</td>\n",
       "      <td>Asociación Chilena De Seguridad</td>\n",
       "      <td>...</td>\n",
       "      <td>Enero</td>\n",
       "      <td>Saliente - Llamada</td>\n",
       "      <td>Orientación Médica</td>\n",
       "      <td>0</td>\n",
       "      <td>Asociación Chilena De Seguridad</td>\n",
       "      <td>EMP5684</td>\n",
       "      <td>A-0352</td>\n",
       "      <td>SI</td>\n",
       "      <td>Willis Towers Watson S.A. Corred. De Seg.</td>\n",
       "      <td>Chile</td>\n",
       "    </tr>\n",
       "    <tr>\n",
       "      <th>3</th>\n",
       "      <td>FFF-0038</td>\n",
       "      <td>150356237</td>\n",
       "      <td>Sergio Francisc De Casacuberta Gonzalez</td>\n",
       "      <td>Hombre</td>\n",
       "      <td>NaN</td>\n",
       "      <td>NaN</td>\n",
       "      <td>NaN</td>\n",
       "      <td>MetLife</td>\n",
       "      <td>ACHS</td>\n",
       "      <td>Asociación Chilena De Seguridad</td>\n",
       "      <td>...</td>\n",
       "      <td>Enero</td>\n",
       "      <td>Saliente - Llamada</td>\n",
       "      <td>Orientación Médica</td>\n",
       "      <td>0</td>\n",
       "      <td>Asociación Chilena De Seguridad</td>\n",
       "      <td>EMP5684</td>\n",
       "      <td>A-0352</td>\n",
       "      <td>SI</td>\n",
       "      <td>Willis Towers Watson S.A. Corred. De Seg.</td>\n",
       "      <td>Chile</td>\n",
       "    </tr>\n",
       "    <tr>\n",
       "      <th>4</th>\n",
       "      <td>FFF-0036</td>\n",
       "      <td>154370366</td>\n",
       "      <td>Manuel Alejandro Garrido Marquez</td>\n",
       "      <td>Hombre</td>\n",
       "      <td>NaN</td>\n",
       "      <td>NaN</td>\n",
       "      <td>NaN</td>\n",
       "      <td>MetLife</td>\n",
       "      <td>ACHS</td>\n",
       "      <td>Asociación Chilena De Seguridad</td>\n",
       "      <td>...</td>\n",
       "      <td>Enero</td>\n",
       "      <td>Saliente - Llamada</td>\n",
       "      <td>Orientación Médica</td>\n",
       "      <td>0</td>\n",
       "      <td>Asociación Chilena De Seguridad</td>\n",
       "      <td>EMP5684</td>\n",
       "      <td>A-0352</td>\n",
       "      <td>SI</td>\n",
       "      <td>Willis Towers Watson S.A. Corred. De Seg.</td>\n",
       "      <td>Chile</td>\n",
       "    </tr>\n",
       "  </tbody>\n",
       "</table></div>"
      ],
      "text/plain": [
       "  Codigo Ficha        Rut                                   Nombre    Sexo  \\\n",
       "0     FFF-0088  164841448                  Maria Sofia Eberl Muñoz   Mujer   \n",
       "1     FFF-0076  195034931           Cristian Alexis Droguett Araya  Hombre   \n",
       "2     FFF-0037  184478412               Ana Belen Orellana Catalan   Mujer   \n",
       "3     FFF-0038  150356237  Sergio Francisc De Casacuberta Gonzalez  Hombre   \n",
       "4     FFF-0036  154370366         Manuel Alejandro Garrido Marquez  Hombre   \n",
       "\n",
       "  Ocupacion Cargo Departamento  Campaña               Holding  \\\n",
       "0       NaN   NaN          NaN  MetLife  Sin Holding Asociado   \n",
       "1       NaN   NaN          NaN  MetLife                 Sacyr   \n",
       "2       NaN   NaN          NaN  MetLife                  ACHS   \n",
       "3       NaN   NaN          NaN  MetLife                  ACHS   \n",
       "4       NaN   NaN          NaN  MetLife                  ACHS   \n",
       "\n",
       "                            Empleador  ...  Meses                   Canal  \\\n",
       "0              Evaluaserve Chile S.A.  ...  Enero  Entrante - Chat Online   \n",
       "1  Sacyr Operación Y Servicios Saopse  ...  Enero  Entrante - Chat Online   \n",
       "2     Asociación Chilena De Seguridad  ...  Enero      Saliente - Llamada   \n",
       "3     Asociación Chilena De Seguridad  ...  Enero      Saliente - Llamada   \n",
       "4     Asociación Chilena De Seguridad  ...  Enero      Saliente - Llamada   \n",
       "\n",
       "              Clínica Motivo de consulta                      Nombre Empresa  \\\n",
       "0  Orientación Médica                  0              Evaluaserve Chile S.A.   \n",
       "1  Orientación Médica                  0  Sacyr Operación Y Servicios Saopse   \n",
       "2  Orientación Médica                  0     Asociación Chilena De Seguridad   \n",
       "3  Orientación Médica                  0     Asociación Chilena De Seguridad   \n",
       "4  Orientación Médica                  0     Asociación Chilena De Seguridad   \n",
       "\n",
       "   Codigo EMP  Codigo A Vigente                                   Corredor  \\\n",
       "0     EMP5716    A-0341      NO     Valorcapital Corredores De Seguros SPA   \n",
       "1     EMP5897    A-0084      SI  Aon Risk Services (Chile) Corred. De Seg.   \n",
       "2     EMP5684    A-0352      SI  Willis Towers Watson S.A. Corred. De Seg.   \n",
       "3     EMP5684    A-0352      SI  Willis Towers Watson S.A. Corred. De Seg.   \n",
       "4     EMP5684    A-0352      SI  Willis Towers Watson S.A. Corred. De Seg.   \n",
       "\n",
       "    Pais  \n",
       "0  Chile  \n",
       "1  Chile  \n",
       "2  Chile  \n",
       "3  Chile  \n",
       "4  Chile  \n",
       "\n",
       "[5 rows x 27 columns]"
      ]
     },
     "execution_count": 41,
     "metadata": {},
     "output_type": "execute_result"
    }
   ],
   "source": [
    "nuevos = \"F:/Reportes SF/Metlife/Metlife_Base.xlsx\"\n",
    "MetLife = pd.read_excel(nuevos)\n",
    "MetLife.head()"
   ]
  },
  {
   "cell_type": "code",
   "execution_count": 51,
   "metadata": {},
   "outputs": [],
   "source": [
    "#MetLife.to_sql(name='Metlife General',con=motor_mysql_mariadb,if_exists = 'replace')\n",
    "\n",
    "\n",
    "# Crea un PeriodIndex a partir de la columna de fechas\n",
    "trimestres = pd.PeriodIndex(MetLife['Fecha'], freq='Q')\n",
    "\n",
    "\n",
    "# Agrega la columna de trimestres al DataFrame\n",
    "MetLife['Trimestre'] = trimestres\n",
    "MetLife['Un']=1"
   ]
  },
  {
   "cell_type": "code",
   "execution_count": 36,
   "metadata": {},
   "outputs": [],
   "source": [
    "MetLife.head()\n",
    "salida = \"C:/Users/jmartinez/Documents/semestre.xlsx\"\n",
    "MetLife.to_excel(salida, index=False)"
   ]
  },
  {
   "cell_type": "code",
   "execution_count": 74,
   "metadata": {},
   "outputs": [],
   "source": [
    "derty = MetLife.pivot_table(\n",
    "    index=\"Clínica\", columns=\"Trimestre\", values=\"Un\", aggfunc=np.sum\n",
    ")\n",
    "derty2 = MetLife.pivot_table(\n",
    "    index=\"Meses\", columns=\"Clínica\", values=\"Un\", aggfunc=sum\n",
    ")"
   ]
  },
  {
   "cell_type": "code",
   "execution_count": 76,
   "metadata": {},
   "outputs": [
    {
     "data": {
      "text/plain": [
       "9"
      ]
     },
     "execution_count": 76,
     "metadata": {},
     "output_type": "execute_result"
    }
   ],
   "source": [
    "derty3 = MetLife.pivot_table( index='Clínica', columns=\"Meses\",values=\"Un\",aggfunc=sum)\n",
    "derty3.rename(columns={'Un': 'Cantidad De Uso'}, inplace=True)\n",
    "derty3.to_sql(name='MetLife3',con=motor_mysql_mariadb,if_exists = 'replace')"
   ]
  },
  {
   "cell_type": "code",
   "execution_count": 80,
   "metadata": {},
   "outputs": [
    {
     "data": {
      "text/plain": [
       "7"
      ]
     },
     "execution_count": 80,
     "metadata": {},
     "output_type": "execute_result"
    }
   ],
   "source": [
    "derty5 = MetLife.pivot_table(\n",
    "    index=\"Meses\", values=\"Un\", aggfunc=sum\n",
    ")\n",
    "derty5.to_sql(name='MetLife6',con=motor_mysql_mariadb,if_exists = 'replace')\n"
   ]
  },
  {
   "cell_type": "code",
   "execution_count": 82,
   "metadata": {},
   "outputs": [
    {
     "data": {
      "text/plain": [
       "7"
      ]
     },
     "execution_count": 82,
     "metadata": {},
     "output_type": "execute_result"
    }
   ],
   "source": [
    "derty.to_sql(name='MetLife5',con=motor_mysql_mariadb,if_exists = 'replace')\n",
    "derty2.to_sql(name='MetLife66',con=motor_mysql_mariadb,if_exists = 'replace')\n"
   ]
  },
  {
   "cell_type": "code",
   "execution_count": 71,
   "metadata": {},
   "outputs": [
    {
     "data": {
      "text/html": [
       "<div><div id=60a1d017-88e3-4101-b9db-71b711d6042f style=\"display:none; background-color:#9D6CFF; color:white; width:200px; height:30px; padding-left:5px; border-radius:4px; flex-direction:row; justify-content:space-around; align-items:center;\" onmouseover=\"this.style.backgroundColor='#BA9BF8'\" onmouseout=\"this.style.backgroundColor='#9D6CFF'\" onclick=\"window.commands?.execute('create-mitosheet-from-dataframe-output');\">See Full Dataframe in Mito</div> <script> if (window.commands?.hasCommand('create-mitosheet-from-dataframe-output')) document.getElementById('60a1d017-88e3-4101-b9db-71b711d6042f').style.display = 'flex' </script> <table border=\"1\" class=\"dataframe\">\n",
       "  <thead>\n",
       "    <tr style=\"text-align: right;\">\n",
       "      <th>Trimestre</th>\n",
       "      <th>2022Q4</th>\n",
       "      <th>2023Q1</th>\n",
       "      <th>2023Q2</th>\n",
       "    </tr>\n",
       "    <tr>\n",
       "      <th>Clínica</th>\n",
       "      <th></th>\n",
       "      <th></th>\n",
       "      <th></th>\n",
       "    </tr>\n",
       "  </thead>\n",
       "  <tbody>\n",
       "    <tr>\n",
       "      <th>Asesoría Psicológica en Salud Sexual</th>\n",
       "      <td>4.0</td>\n",
       "      <td>24.0</td>\n",
       "      <td>8.0</td>\n",
       "    </tr>\n",
       "    <tr>\n",
       "      <th>Clínica Del Sueño</th>\n",
       "      <td>305.0</td>\n",
       "      <td>448.0</td>\n",
       "      <td>213.0</td>\n",
       "    </tr>\n",
       "    <tr>\n",
       "      <th>Clínica de Orientación LGBT+</th>\n",
       "      <td>NaN</td>\n",
       "      <td>2.0</td>\n",
       "      <td>1.0</td>\n",
       "    </tr>\n",
       "    <tr>\n",
       "      <th>Deporte</th>\n",
       "      <td>1625.0</td>\n",
       "      <td>2096.0</td>\n",
       "      <td>943.0</td>\n",
       "    </tr>\n",
       "    <tr>\n",
       "      <th>Nutrición</th>\n",
       "      <td>1955.0</td>\n",
       "      <td>3910.0</td>\n",
       "      <td>1942.0</td>\n",
       "    </tr>\n",
       "  </tbody>\n",
       "</table></div>"
      ],
      "text/plain": [
       "Trimestre                             2022Q4  2023Q1  2023Q2\n",
       "Clínica                                                     \n",
       "Asesoría Psicológica en Salud Sexual     4.0    24.0     8.0\n",
       "Clínica Del Sueño                      305.0   448.0   213.0\n",
       "Clínica de Orientación LGBT+             NaN     2.0     1.0\n",
       "Deporte                               1625.0  2096.0   943.0\n",
       "Nutrición                             1955.0  3910.0  1942.0"
      ]
     },
     "execution_count": 71,
     "metadata": {},
     "output_type": "execute_result"
    }
   ],
   "source": [
    "derty.head()"
   ]
  },
  {
   "cell_type": "code",
   "execution_count": 89,
   "metadata": {},
   "outputs": [],
   "source": [
    "tabla_pivote = pd.pivot_table(MetLife, values='Rut', index='Clínica', columns='Trimestre', aggfunc='count')"
   ]
  },
  {
   "cell_type": "code",
   "execution_count": 90,
   "metadata": {},
   "outputs": [
    {
     "data": {
      "text/html": [
       "<div><div id=3ecfd5d2-d217-4365-bc41-b1edf855d660 style=\"display:none; background-color:#9D6CFF; color:white; width:200px; height:30px; padding-left:5px; border-radius:4px; flex-direction:row; justify-content:space-around; align-items:center;\" onmouseover=\"this.style.backgroundColor='#BA9BF8'\" onmouseout=\"this.style.backgroundColor='#9D6CFF'\" onclick=\"window.commands?.execute('create-mitosheet-from-dataframe-output');\">See Full Dataframe in Mito</div> <script> if (window.commands?.hasCommand('create-mitosheet-from-dataframe-output')) document.getElementById('3ecfd5d2-d217-4365-bc41-b1edf855d660').style.display = 'flex' </script> <table border=\"1\" class=\"dataframe\">\n",
       "  <thead>\n",
       "    <tr style=\"text-align: right;\">\n",
       "      <th>Trimestre</th>\n",
       "      <th>2022Q4</th>\n",
       "      <th>2023Q1</th>\n",
       "      <th>2023Q2</th>\n",
       "    </tr>\n",
       "    <tr>\n",
       "      <th>Clínica</th>\n",
       "      <th></th>\n",
       "      <th></th>\n",
       "      <th></th>\n",
       "    </tr>\n",
       "  </thead>\n",
       "  <tbody>\n",
       "    <tr>\n",
       "      <th>Asesoría Psicológica en Salud Sexual</th>\n",
       "      <td>4.0</td>\n",
       "      <td>24.0</td>\n",
       "      <td>8.0</td>\n",
       "    </tr>\n",
       "    <tr>\n",
       "      <th>Clínica Del Sueño</th>\n",
       "      <td>305.0</td>\n",
       "      <td>448.0</td>\n",
       "      <td>213.0</td>\n",
       "    </tr>\n",
       "    <tr>\n",
       "      <th>Clínica de Orientación LGBT+</th>\n",
       "      <td>NaN</td>\n",
       "      <td>2.0</td>\n",
       "      <td>1.0</td>\n",
       "    </tr>\n",
       "    <tr>\n",
       "      <th>Deporte</th>\n",
       "      <td>1625.0</td>\n",
       "      <td>2096.0</td>\n",
       "      <td>943.0</td>\n",
       "    </tr>\n",
       "    <tr>\n",
       "      <th>Nutrición</th>\n",
       "      <td>1955.0</td>\n",
       "      <td>3910.0</td>\n",
       "      <td>1942.0</td>\n",
       "    </tr>\n",
       "  </tbody>\n",
       "</table></div>"
      ],
      "text/plain": [
       "Trimestre                             2022Q4  2023Q1  2023Q2\n",
       "Clínica                                                     \n",
       "Asesoría Psicológica en Salud Sexual     4.0    24.0     8.0\n",
       "Clínica Del Sueño                      305.0   448.0   213.0\n",
       "Clínica de Orientación LGBT+             NaN     2.0     1.0\n",
       "Deporte                               1625.0  2096.0   943.0\n",
       "Nutrición                             1955.0  3910.0  1942.0"
      ]
     },
     "execution_count": 90,
     "metadata": {},
     "output_type": "execute_result"
    }
   ],
   "source": [
    "tabla_pivote.head()"
   ]
  },
  {
   "cell_type": "code",
   "execution_count": 92,
   "metadata": {},
   "outputs": [
    {
     "data": {
      "text/plain": [
       "9"
      ]
     },
     "execution_count": 92,
     "metadata": {},
     "output_type": "execute_result"
    }
   ],
   "source": [
    "tabla_pivote.to_sql(name='MetLife99',con=motor_mysql_mariadb,if_exists = 'replace')"
   ]
  }
 ],
 "metadata": {
  "kernelspec": {
   "display_name": "base",
   "language": "python",
   "name": "python3"
  },
  "language_info": {
   "codemirror_mode": {
    "name": "ipython",
    "version": 3
   },
   "file_extension": ".py",
   "mimetype": "text/x-python",
   "name": "python",
   "nbconvert_exporter": "python",
   "pygments_lexer": "ipython3",
   "version": "3.9.12"
  },
  "orig_nbformat": 4,
  "vscode": {
   "interpreter": {
    "hash": "ad2bdc8ecc057115af97d19610ffacc2b4e99fae6737bb82f5d7fb13d2f2c186"
   }
  }
 },
 "nbformat": 4,
 "nbformat_minor": 2
}
