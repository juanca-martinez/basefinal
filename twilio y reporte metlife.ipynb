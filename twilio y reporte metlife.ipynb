{
 "cells": [
  {
   "cell_type": "code",
   "execution_count": null,
   "metadata": {
    "notebookRunGroups": {
     "groupValue": "1"
    }
   },
   "outputs": [],
   "source": [
    "import pandas as pd\n",
    "#import matplotlib.pyplot as plt\n",
    "from twilio.rest import Client\n"
   ]
  },
  {
   "cell_type": "code",
   "execution_count": null,
   "metadata": {},
   "outputs": [],
   "source": [
    "# Your Account SID from twilio.com/console\n",
    "account_sid = \"ACf0932b13d7e256d9932d540a3cb25475\"\n",
    "# Your Auth Token from twilio.com/console\n",
    "auth_token  = \"cbf3b69af0f3f7974a09661239a55601\"\n",
    "\n",
    "client = Client(account_sid, auth_token)"
   ]
  },
  {
   "cell_type": "code",
   "execution_count": null,
   "metadata": {},
   "outputs": [],
   "source": [
    "# Download the helper library from https://www.twilio.com/docs/python/install\n",
    "#import os\n",
    "#from twilio.rest import Client\n",
    "\n",
    "\n",
    "# Find your Account SID and Auth Token at twilio.com/console\n",
    "# and set the environment variables. See http://twil.io/secure\n",
    "#account_sid = os.environ['TWILIO_ACCOUNT_SID']\n",
    "#auth_token = os.environ['TWILIO_AUTH_TOKEN']\n",
    "#client = Client(account_sid, auth_token)\n",
    "\n",
    "flex_flow = client.flex_api \\\n",
    "    .v1 \\\n",
    "    .flex_flow \\\n",
    "    .create(\n",
    "         integration_type='studio',\n",
    "         enabled=True,\n",
    "         integration_flow_sid='FWae188b2a49976a121ebf36033f6067d0',\n",
    "         contact_identity='+56948923989',\n",
    "         friendly_name='My New Flex Flow',\n",
    "         channel_type='whatsapp',\n",
    "         chat_service_sid='IS270d8e8ea5f44d33bef4954cbd01f666'\n",
    "     )\n",
    "\n",
    "print(flex_flow.sid)\n"
   ]
  },
  {
   "cell_type": "code",
   "execution_count": null,
   "metadata": {},
   "outputs": [],
   "source": [
    "message = client.messages.create(\n",
    "    to='+56966334605'\n",
    ")\n",
    "\n",
    "print(message.sid)"
   ]
  },
  {
   "cell_type": "code",
   "execution_count": null,
   "metadata": {},
   "outputs": [],
   "source": [
    "# Descargar registros de actividad de mensajes\n",
    "messages = client.calls.list()\n",
    "\n",
    "# Convertir los registros de actividad en un marco de datos de pandas\n",
    "messages_data = pd.DataFrame([msg.__dict__ for msg in messages])\n",
    "\n",
    "# Imprimir el marco de datos de pandas\n",
    "messages_data.head()"
   ]
  },
  {
   "cell_type": "code",
   "execution_count": null,
   "metadata": {},
   "outputs": [],
   "source": [
    "messages_data.to_excel(\"F:/SalesForce/Carga Empresas/JK.xlsx\",index=False)"
   ]
  },
  {
   "cell_type": "code",
   "execution_count": null,
   "metadata": {},
   "outputs": [],
   "source": [
    "for sms in client.messages.list():\n",
    "  print(sms.to)"
   ]
  }
 ],
 "metadata": {
  "kernelspec": {
   "display_name": "salesforce",
   "language": "python",
   "name": "python3"
  },
  "language_info": {
   "codemirror_mode": {
    "name": "ipython",
    "version": 3
   },
   "file_extension": ".py",
   "mimetype": "text/x-python",
   "name": "python",
   "nbconvert_exporter": "python",
   "pygments_lexer": "ipython3",
   "version": "3.11.3"
  },
  "orig_nbformat": 4
 },
 "nbformat": 4,
 "nbformat_minor": 2
}
