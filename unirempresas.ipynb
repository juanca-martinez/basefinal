{
 "cells": [
  {
   "cell_type": "code",
   "execution_count": null,
   "metadata": {},
   "outputs": [],
   "source": [
    "import encodings\n",
    "import pandas as pd\n",
    "import numpy as np\n",
    "from sqlalchemy import create_engine\n",
    "import openpyxl"
   ]
  },
  {
   "cell_type": "code",
   "execution_count": null,
   "metadata": {},
   "outputs": [],
   "source": [
    "\n",
    "archivo1 = 'C:/Users/jmartinez/Desktop/ver repetidas empresas/empresas2019_final.xlsx'  \n",
    "archivo2 = 'C:/Users/jmartinez/Desktop/ver repetidas empresas/empresas2020_final.xlsx'\n",
    "archivo3 = 'C:/Users/jmartinez/Desktop/ver repetidas empresas/empresas2021_final.xlsx'\n",
    "archivo4 = 'C:/Users/jmartinez/Desktop/ver repetidas empresas/empresas2022_final.xlsx'\n"
   ]
  },
  {
   "cell_type": "code",
   "execution_count": null,
   "metadata": {},
   "outputs": [],
   "source": [
    "df1 = pd.read_excel(archivo1)\n",
    "df2 = pd.read_excel(archivo2)\n",
    "df3 = pd.read_excel(archivo3)\n",
    "df4 = pd.read_excel(archivo4)"
   ]
  },
  {
   "cell_type": "code",
   "execution_count": null,
   "metadata": {},
   "outputs": [],
   "source": [
    "pd.concat([df1, df2, df3, df3], axis=1)"
   ]
  }
 ],
 "metadata": {
  "kernelspec": {
   "display_name": "Python 3.10.6 ('Mito')",
   "language": "python",
   "name": "python3"
  },
  "language_info": {
   "name": "python",
   "version": "3.10.6"
  },
  "orig_nbformat": 4,
  "vscode": {
   "interpreter": {
    "hash": "8ca7c6c0b372e79d1b046e97089bf0eca059102913bf5fbce589f25f1f28c438"
   }
  }
 },
 "nbformat": 4,
 "nbformat_minor": 2
}
