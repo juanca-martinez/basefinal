{
 "cells": [
  {
   "cell_type": "code",
   "execution_count": null,
   "metadata": {},
   "outputs": [],
   "source": [
    "import encodings\n",
    "import pandas as pd\n",
    "import numpy as np\n",
    "from sqlalchemy import create_engine\n",
    "import openpyxl"
   ]
  },
  {
   "cell_type": "code",
   "execution_count": null,
   "metadata": {},
   "outputs": [],
   "source": [
    "\n",
    "#archivo1 = 'C:/Users/jmartinez/Desktop/ultimo/Ultimo Ultimo/2019_final_chile.xlsx' \n",
    "archivo2 = 'C:/Users/jmartinez/Desktop/ultimo/Ultimo Ultimo/2020_final_chile.xlsx'\n",
    "archivo3 = 'C:/Users/jmartinez/Desktop/ultimo/Ultimo Ultimo/2021_final_chile.xlsx'\n",
    "archivo4 = 'C:/Users/jmartinez/Desktop/ultimo/Ultimo Ultimo/2022_final_chile.xlsx'              \n",
    "\n"
   ]
  },
  {
   "cell_type": "code",
   "execution_count": null,
   "metadata": {},
   "outputs": [],
   "source": [
    "#df1 = pd.read_excel(archivo1)\n",
    "df2 = pd.read_excel(archivo2)\n",
    "df3 = pd.read_excel(archivo3)\n",
    "df4 = pd.read_excel(archivo4)"
   ]
  },
  {
   "cell_type": "code",
   "execution_count": null,
   "metadata": {},
   "outputs": [],
   "source": [
    "derty = pd.concat([ df2, df3, df4], axis=0)"
   ]
  },
  {
   "cell_type": "code",
   "execution_count": null,
   "metadata": {},
   "outputs": [],
   "source": [
    "derty.head()\n"
   ]
  },
  {
   "cell_type": "code",
   "execution_count": null,
   "metadata": {},
   "outputs": [],
   "source": [
    "archivopfinal = 'C:/Users/jmartinez/Desktop/ultimo/Ultimo Ultimo/final_completo_chile.xlsx' \n",
    "derty.to_excel(archivopfinal,index=False)"
   ]
  }
 ],
 "metadata": {
  "kernelspec": {
   "display_name": "Python 3.10.6 ('Mito')",
   "language": "python",
   "name": "python3"
  },
  "language_info": {
   "codemirror_mode": {
    "name": "ipython",
    "version": 3
   },
   "file_extension": ".py",
   "mimetype": "text/x-python",
   "name": "python",
   "nbconvert_exporter": "python",
   "pygments_lexer": "ipython3",
   "version": "3.10.6"
  },
  "orig_nbformat": 4,
  "vscode": {
   "interpreter": {
    "hash": "8ca7c6c0b372e79d1b046e97089bf0eca059102913bf5fbce589f25f1f28c438"
   }
  }
 },
 "nbformat": 4,
 "nbformat_minor": 2
}
