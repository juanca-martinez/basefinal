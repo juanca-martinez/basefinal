{
 "cells": [
  {
   "cell_type": "code",
   "execution_count": 1,
   "metadata": {},
   "outputs": [],
   "source": [
    "import pandas as pd"
   ]
  },
  {
   "cell_type": "code",
   "execution_count": 4,
   "metadata": {},
   "outputs": [],
   "source": [
    "salida = (\"F:/SalesForce/Carga Empresas/salida.xlsx\")\n",
    "entrada = (\"F:/SalesForce/Carga Empresas/Pogramas Por Empresa.xlsx\")"
   ]
  },
  {
   "cell_type": "code",
   "execution_count": 35,
   "metadata": {},
   "outputs": [],
   "source": [
    "derty = pd.read_excel(entrada)\n",
    "#df = pd.read_excel(clinicas)\n",
    "total = pd.DataFrame(columns=['1', '2','3', '4','5', '6','7', '8','9', '10','11', '12'])"
   ]
  },
  {
   "cell_type": "code",
   "execution_count": 42,
   "metadata": {},
   "outputs": [
    {
     "name": "stdout",
     "output_type": "stream",
     "text": [
      "Account__c    0018c00002gi3JnAAI\n",
      "__Id          a1R8c000009FLMVEA4\n",
      "Name: 0, dtype: object\n"
     ]
    },
    {
     "ename": "ValueError",
     "evalue": "Must have equal len keys and value when setting with an iterable",
     "output_type": "error",
     "traceback": [
      "\u001b[1;31m---------------------------------------------------------------------------\u001b[0m",
      "\u001b[1;31mValueError\u001b[0m                                Traceback (most recent call last)",
      "Cell \u001b[1;32mIn[42], line 4\u001b[0m\n\u001b[0;32m      2\u001b[0m \u001b[39mfor\u001b[39;00m i \u001b[39min\u001b[39;00m \u001b[39mrange\u001b[39m(\u001b[39mlen\u001b[39m(derty)):\n\u001b[0;32m      3\u001b[0m     \u001b[39mprint\u001b[39m(derty\u001b[39m.\u001b[39miloc[i])\n\u001b[1;32m----> 4\u001b[0m     total\u001b[39m.\u001b[39mloc[a]\u001b[39m=\u001b[39m derty\u001b[39m.\u001b[39miloc[i][\u001b[39m'\u001b[39m\u001b[39mAccount__c\u001b[39m\u001b[39m'\u001b[39m],derty\u001b[39m.\u001b[39miloc[i][\u001b[39m'\u001b[39m\u001b[39m__Id\u001b[39m\u001b[39m'\u001b[39m],derty\u001b[39m.\u001b[39miloc[i\u001b[39m+\u001b[39m\u001b[39m1\u001b[39m][\u001b[39m'\u001b[39m\u001b[39m__Id\u001b[39m\u001b[39m'\u001b[39m]\n\u001b[0;32m      5\u001b[0m     a\u001b[39m=\u001b[39ma\u001b[39m+\u001b[39m\u001b[39m1\u001b[39m\n",
      "File \u001b[1;32mc:\\Users\\jmartinez\\.conda\\envs\\salesforce\\lib\\site-packages\\pandas\\core\\indexing.py:818\u001b[0m, in \u001b[0;36m_LocationIndexer.__setitem__\u001b[1;34m(self, key, value)\u001b[0m\n\u001b[0;32m    815\u001b[0m \u001b[39mself\u001b[39m\u001b[39m.\u001b[39m_has_valid_setitem_indexer(key)\n\u001b[0;32m    817\u001b[0m iloc \u001b[39m=\u001b[39m \u001b[39mself\u001b[39m \u001b[39mif\u001b[39;00m \u001b[39mself\u001b[39m\u001b[39m.\u001b[39mname \u001b[39m==\u001b[39m \u001b[39m\"\u001b[39m\u001b[39miloc\u001b[39m\u001b[39m\"\u001b[39m \u001b[39melse\u001b[39;00m \u001b[39mself\u001b[39m\u001b[39m.\u001b[39mobj\u001b[39m.\u001b[39miloc\n\u001b[1;32m--> 818\u001b[0m iloc\u001b[39m.\u001b[39;49m_setitem_with_indexer(indexer, value, \u001b[39mself\u001b[39;49m\u001b[39m.\u001b[39;49mname)\n",
      "File \u001b[1;32mc:\\Users\\jmartinez\\.conda\\envs\\salesforce\\lib\\site-packages\\pandas\\core\\indexing.py:1795\u001b[0m, in \u001b[0;36m_iLocIndexer._setitem_with_indexer\u001b[1;34m(self, indexer, value, name)\u001b[0m\n\u001b[0;32m   1792\u001b[0m \u001b[39m# align and set the values\u001b[39;00m\n\u001b[0;32m   1793\u001b[0m \u001b[39mif\u001b[39;00m take_split_path:\n\u001b[0;32m   1794\u001b[0m     \u001b[39m# We have to operate column-wise\u001b[39;00m\n\u001b[1;32m-> 1795\u001b[0m     \u001b[39mself\u001b[39;49m\u001b[39m.\u001b[39;49m_setitem_with_indexer_split_path(indexer, value, name)\n\u001b[0;32m   1796\u001b[0m \u001b[39melse\u001b[39;00m:\n\u001b[0;32m   1797\u001b[0m     \u001b[39mself\u001b[39m\u001b[39m.\u001b[39m_setitem_single_block(indexer, value, name)\n",
      "File \u001b[1;32mc:\\Users\\jmartinez\\.conda\\envs\\salesforce\\lib\\site-packages\\pandas\\core\\indexing.py:1879\u001b[0m, in \u001b[0;36m_iLocIndexer._setitem_with_indexer_split_path\u001b[1;34m(self, indexer, value, name)\u001b[0m\n\u001b[0;32m   1876\u001b[0m         \u001b[39mself\u001b[39m\u001b[39m.\u001b[39m_setitem_single_column(ilocs[\u001b[39m0\u001b[39m], value, pi)\n\u001b[0;32m   1878\u001b[0m     \u001b[39melse\u001b[39;00m:\n\u001b[1;32m-> 1879\u001b[0m         \u001b[39mraise\u001b[39;00m \u001b[39mValueError\u001b[39;00m(\n\u001b[0;32m   1880\u001b[0m             \u001b[39m\"\u001b[39m\u001b[39mMust have equal len keys and value \u001b[39m\u001b[39m\"\u001b[39m\n\u001b[0;32m   1881\u001b[0m             \u001b[39m\"\u001b[39m\u001b[39mwhen setting with an iterable\u001b[39m\u001b[39m\"\u001b[39m\n\u001b[0;32m   1882\u001b[0m         )\n\u001b[0;32m   1884\u001b[0m \u001b[39melse\u001b[39;00m:\n\u001b[0;32m   1885\u001b[0m \n\u001b[0;32m   1886\u001b[0m     \u001b[39m# scalar value\u001b[39;00m\n\u001b[0;32m   1887\u001b[0m     \u001b[39mfor\u001b[39;00m loc \u001b[39min\u001b[39;00m ilocs:\n",
      "\u001b[1;31mValueError\u001b[0m: Must have equal len keys and value when setting with an iterable"
     ]
    }
   ],
   "source": [
    "a=0\n",
    "for i in range(len(derty)):\n",
    "    print(derty.iloc[i])\n",
    "    total.loc[a]= derty.iloc[i]['Account__c'],derty.iloc[i]['__Id'],derty.iloc[i+1]['__Id']\n",
    "    a=a+1\n",
    "\n",
    "    "
   ]
  },
  {
   "cell_type": "code",
   "execution_count": 43,
   "metadata": {},
   "outputs": [
    {
     "data": {
      "text/html": [
       "<div>\n",
       "<style scoped>\n",
       "    .dataframe tbody tr th:only-of-type {\n",
       "        vertical-align: middle;\n",
       "    }\n",
       "\n",
       "    .dataframe tbody tr th {\n",
       "        vertical-align: top;\n",
       "    }\n",
       "\n",
       "    .dataframe thead th {\n",
       "        text-align: right;\n",
       "    }\n",
       "</style>\n",
       "<table border=\"1\" class=\"dataframe\">\n",
       "  <thead>\n",
       "    <tr style=\"text-align: right;\">\n",
       "      <th></th>\n",
       "      <th>1</th>\n",
       "      <th>2</th>\n",
       "      <th>3</th>\n",
       "      <th>4</th>\n",
       "      <th>5</th>\n",
       "      <th>6</th>\n",
       "      <th>7</th>\n",
       "      <th>8</th>\n",
       "      <th>9</th>\n",
       "      <th>10</th>\n",
       "      <th>11</th>\n",
       "      <th>12</th>\n",
       "    </tr>\n",
       "  </thead>\n",
       "  <tbody>\n",
       "    <tr>\n",
       "      <th>0</th>\n",
       "      <td>0018c00002gi3JnAAI</td>\n",
       "      <td>0018c00002gi3JnAAI</td>\n",
       "      <td>0018c00002gi3JnAAI</td>\n",
       "      <td>0018c00002gi3JnAAI</td>\n",
       "      <td>0018c00002gi3JnAAI</td>\n",
       "      <td>0018c00002gi3JnAAI</td>\n",
       "      <td>0018c00002gi3JnAAI</td>\n",
       "      <td>0018c00002gi3JnAAI</td>\n",
       "      <td>0018c00002gi3JnAAI</td>\n",
       "      <td>0018c00002gi3JnAAI</td>\n",
       "      <td>0018c00002gi3JnAAI</td>\n",
       "      <td>0018c00002gi3JnAAI</td>\n",
       "    </tr>\n",
       "    <tr>\n",
       "      <th>1</th>\n",
       "      <td>0018c00002gi3JnAAI</td>\n",
       "      <td>0018c00002gi3JnAAI</td>\n",
       "      <td>0018c00002gi3JnAAI</td>\n",
       "      <td>0018c00002gi3JnAAI</td>\n",
       "      <td>0018c00002gi3JnAAI</td>\n",
       "      <td>0018c00002gi3JnAAI</td>\n",
       "      <td>0018c00002gi3JnAAI</td>\n",
       "      <td>0018c00002gi3JnAAI</td>\n",
       "      <td>0018c00002gi3JnAAI</td>\n",
       "      <td>0018c00002gi3JnAAI</td>\n",
       "      <td>0018c00002gi3JnAAI</td>\n",
       "      <td>0018c00002gi3JnAAI</td>\n",
       "    </tr>\n",
       "    <tr>\n",
       "      <th>2</th>\n",
       "      <td>0018c00002gi3JnAAI</td>\n",
       "      <td>0018c00002gi3JnAAI</td>\n",
       "      <td>0018c00002gi3JnAAI</td>\n",
       "      <td>0018c00002gi3JnAAI</td>\n",
       "      <td>0018c00002gi3JnAAI</td>\n",
       "      <td>0018c00002gi3JnAAI</td>\n",
       "      <td>0018c00002gi3JnAAI</td>\n",
       "      <td>0018c00002gi3JnAAI</td>\n",
       "      <td>0018c00002gi3JnAAI</td>\n",
       "      <td>0018c00002gi3JnAAI</td>\n",
       "      <td>0018c00002gi3JnAAI</td>\n",
       "      <td>0018c00002gi3JnAAI</td>\n",
       "    </tr>\n",
       "    <tr>\n",
       "      <th>3</th>\n",
       "      <td>0018c00002gi3JnAAI</td>\n",
       "      <td>0018c00002gi3JnAAI</td>\n",
       "      <td>0018c00002gi3JnAAI</td>\n",
       "      <td>0018c00002gi3JnAAI</td>\n",
       "      <td>0018c00002gi3JnAAI</td>\n",
       "      <td>0018c00002gi3JnAAI</td>\n",
       "      <td>0018c00002gi3JnAAI</td>\n",
       "      <td>0018c00002gi3JnAAI</td>\n",
       "      <td>0018c00002gi3JnAAI</td>\n",
       "      <td>0018c00002gi3JnAAI</td>\n",
       "      <td>0018c00002gi3JnAAI</td>\n",
       "      <td>0018c00002gi3JnAAI</td>\n",
       "    </tr>\n",
       "    <tr>\n",
       "      <th>4</th>\n",
       "      <td>0018c00002gi3JnAAI</td>\n",
       "      <td>0018c00002gi3JnAAI</td>\n",
       "      <td>0018c00002gi3JnAAI</td>\n",
       "      <td>0018c00002gi3JnAAI</td>\n",
       "      <td>0018c00002gi3JnAAI</td>\n",
       "      <td>0018c00002gi3JnAAI</td>\n",
       "      <td>0018c00002gi3JnAAI</td>\n",
       "      <td>0018c00002gi3JnAAI</td>\n",
       "      <td>0018c00002gi3JnAAI</td>\n",
       "      <td>0018c00002gi3JnAAI</td>\n",
       "      <td>0018c00002gi3JnAAI</td>\n",
       "      <td>0018c00002gi3JnAAI</td>\n",
       "    </tr>\n",
       "  </tbody>\n",
       "</table>\n",
       "</div>"
      ],
      "text/plain": [
       "                    1                   2                   3  \\\n",
       "0  0018c00002gi3JnAAI  0018c00002gi3JnAAI  0018c00002gi3JnAAI   \n",
       "1  0018c00002gi3JnAAI  0018c00002gi3JnAAI  0018c00002gi3JnAAI   \n",
       "2  0018c00002gi3JnAAI  0018c00002gi3JnAAI  0018c00002gi3JnAAI   \n",
       "3  0018c00002gi3JnAAI  0018c00002gi3JnAAI  0018c00002gi3JnAAI   \n",
       "4  0018c00002gi3JnAAI  0018c00002gi3JnAAI  0018c00002gi3JnAAI   \n",
       "\n",
       "                    4                   5                   6  \\\n",
       "0  0018c00002gi3JnAAI  0018c00002gi3JnAAI  0018c00002gi3JnAAI   \n",
       "1  0018c00002gi3JnAAI  0018c00002gi3JnAAI  0018c00002gi3JnAAI   \n",
       "2  0018c00002gi3JnAAI  0018c00002gi3JnAAI  0018c00002gi3JnAAI   \n",
       "3  0018c00002gi3JnAAI  0018c00002gi3JnAAI  0018c00002gi3JnAAI   \n",
       "4  0018c00002gi3JnAAI  0018c00002gi3JnAAI  0018c00002gi3JnAAI   \n",
       "\n",
       "                    7                   8                   9  \\\n",
       "0  0018c00002gi3JnAAI  0018c00002gi3JnAAI  0018c00002gi3JnAAI   \n",
       "1  0018c00002gi3JnAAI  0018c00002gi3JnAAI  0018c00002gi3JnAAI   \n",
       "2  0018c00002gi3JnAAI  0018c00002gi3JnAAI  0018c00002gi3JnAAI   \n",
       "3  0018c00002gi3JnAAI  0018c00002gi3JnAAI  0018c00002gi3JnAAI   \n",
       "4  0018c00002gi3JnAAI  0018c00002gi3JnAAI  0018c00002gi3JnAAI   \n",
       "\n",
       "                   10                  11                  12  \n",
       "0  0018c00002gi3JnAAI  0018c00002gi3JnAAI  0018c00002gi3JnAAI  \n",
       "1  0018c00002gi3JnAAI  0018c00002gi3JnAAI  0018c00002gi3JnAAI  \n",
       "2  0018c00002gi3JnAAI  0018c00002gi3JnAAI  0018c00002gi3JnAAI  \n",
       "3  0018c00002gi3JnAAI  0018c00002gi3JnAAI  0018c00002gi3JnAAI  \n",
       "4  0018c00002gi3JnAAI  0018c00002gi3JnAAI  0018c00002gi3JnAAI  "
      ]
     },
     "execution_count": 43,
     "metadata": {},
     "output_type": "execute_result"
    }
   ],
   "source": [
    "total.head()"
   ]
  },
  {
   "cell_type": "code",
   "execution_count": null,
   "metadata": {},
   "outputs": [],
   "source": [
    "for k in range(len(df)):\n",
    "        print (derty.iloc[i])\n",
    "        print (df.iloc[k])\n",
    "        #total.iloc[0:a] = derty.iloc[i]\n",
    "\n",
    "        total.loc[a]=  [derty.iloc[i]['Id'],df.iloc[k]['Id']]\n",
    "        #total.append['uno']=  df.iloc[k]['Id']\n",
    "        #total[a]['dos'] = df.iloc[k]['Id']\n",
    "        #total.append(col[i] + col[i + 1])\n",
    "        a = a+1"
   ]
  },
  {
   "cell_type": "code",
   "execution_count": null,
   "metadata": {},
   "outputs": [],
   "source": [
    "[\n",
    "            derty.iloc[i][\"Account__c\"],\n",
    "            derty.iloc[i + 1][\"__Id\"],\n",
    "            derty.iloc[i + 2][\"__Id\"],\n",
    "            derty.iloc[i + 3][\"__Id\"],\n",
    "            derty.iloc[i + 4][\"__Id\"],\n",
    "            derty.iloc[i + 5][\"__Id\"],\n",
    "            derty.iloc[i + 6][\"__Id\"],\n",
    "            derty.iloc[i + 7][\"__Id\"],\n",
    "            derty.iloc[i + 8][\"__Id\"],\n",
    "            derty.iloc[i + 9][\"__Id\"],\n",
    "        ]"
   ]
  }
 ],
 "metadata": {
  "kernelspec": {
   "display_name": "salesforce",
   "language": "python",
   "name": "python3"
  },
  "language_info": {
   "codemirror_mode": {
    "name": "ipython",
    "version": 3
   },
   "file_extension": ".py",
   "mimetype": "text/x-python",
   "name": "python",
   "nbconvert_exporter": "python",
   "pygments_lexer": "ipython3",
   "version": "3.8.15"
  },
  "orig_nbformat": 4,
  "vscode": {
   "interpreter": {
    "hash": "7fbccfb583f385d5cd7c75cc6ade03c09354727271e9200f47ca4e7fedb5381e"
   }
  }
 },
 "nbformat": 4,
 "nbformat_minor": 2
}
