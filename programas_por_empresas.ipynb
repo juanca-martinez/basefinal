{
 "cells": [
  {
   "cell_type": "code",
   "execution_count": 1,
   "metadata": {},
   "outputs": [],
   "source": [
    "import pandas as pd"
   ]
  },
  {
   "cell_type": "code",
   "execution_count": 2,
   "metadata": {},
   "outputs": [],
   "source": [
    "salida = (\"F:/SalesForce/Carga Empresas/salida.xlsx\")\n",
    "entrada = (\"F:/SalesForce/Carga Empresas/Pogramas Por Empresa.xlsx\")"
   ]
  },
  {
   "cell_type": "code",
   "execution_count": 3,
   "metadata": {},
   "outputs": [],
   "source": [
    "derty = pd.read_excel(entrada)\n",
    "#df = pd.read_excel(clinicas)\n",
    "total = pd.DataFrame(columns=['1', '2','3', '4','5', '6','7', '8','9', '10','11', '12'])"
   ]
  },
  {
   "cell_type": "code",
   "execution_count": 4,
   "metadata": {},
   "outputs": [
    {
     "name": "stdout",
     "output_type": "stream",
     "text": [
      "Empresas Repetidas                                 1\n",
      "Account__c                        0018c00002gi3JnAAI\n",
      "Concatenar Empresas Repetidas    0018c00002gi3JnAAI1\n",
      "__Id                              a1R8c000009FLMVEA4\n",
      "Name: 0, dtype: object\n"
     ]
    },
    {
     "name": "stderr",
     "output_type": "stream",
     "text": [
      "\n",
      "KeyboardInterrupt\n",
      "\n"
     ]
    }
   ],
   "source": [
    "a=0\n",
    "for i in range(len(derty)):\n",
    "    print(derty.iloc[i])\n",
    "    total.loc[a]= derty.iloc[i]['Account__c'],derty.iloc[i]['__Id'],derty.iloc[i+1]['__Id']\n",
    "    a=a+1\n",
    "\n",
    "    "
   ]
  },
  {
   "cell_type": "code",
   "execution_count": null,
   "metadata": {},
   "outputs": [
    {
     "data": {
      "text/html": [
       "<div>\n",
       "<style scoped>\n",
       "    .dataframe tbody tr th:only-of-type {\n",
       "        vertical-align: middle;\n",
       "    }\n",
       "\n",
       "    .dataframe tbody tr th {\n",
       "        vertical-align: top;\n",
       "    }\n",
       "\n",
       "    .dataframe thead th {\n",
       "        text-align: right;\n",
       "    }\n",
       "</style>\n",
       "<table border=\"1\" class=\"dataframe\">\n",
       "  <thead>\n",
       "    <tr style=\"text-align: right;\">\n",
       "      <th></th>\n",
       "      <th>1</th>\n",
       "      <th>2</th>\n",
       "      <th>3</th>\n",
       "      <th>4</th>\n",
       "      <th>5</th>\n",
       "      <th>6</th>\n",
       "      <th>7</th>\n",
       "      <th>8</th>\n",
       "      <th>9</th>\n",
       "      <th>10</th>\n",
       "      <th>11</th>\n",
       "      <th>12</th>\n",
       "    </tr>\n",
       "  </thead>\n",
       "  <tbody>\n",
       "    <tr>\n",
       "      <th>0</th>\n",
       "      <td>0018c00002gi3JnAAI</td>\n",
       "      <td>0018c00002gi3JnAAI</td>\n",
       "      <td>0018c00002gi3JnAAI</td>\n",
       "      <td>0018c00002gi3JnAAI</td>\n",
       "      <td>0018c00002gi3JnAAI</td>\n",
       "      <td>0018c00002gi3JnAAI</td>\n",
       "      <td>0018c00002gi3JnAAI</td>\n",
       "      <td>0018c00002gi3JnAAI</td>\n",
       "      <td>0018c00002gi3JnAAI</td>\n",
       "      <td>0018c00002gi3JnAAI</td>\n",
       "      <td>0018c00002gi3JnAAI</td>\n",
       "      <td>0018c00002gi3JnAAI</td>\n",
       "    </tr>\n",
       "    <tr>\n",
       "      <th>1</th>\n",
       "      <td>0018c00002gi3JnAAI</td>\n",
       "      <td>0018c00002gi3JnAAI</td>\n",
       "      <td>0018c00002gi3JnAAI</td>\n",
       "      <td>0018c00002gi3JnAAI</td>\n",
       "      <td>0018c00002gi3JnAAI</td>\n",
       "      <td>0018c00002gi3JnAAI</td>\n",
       "      <td>0018c00002gi3JnAAI</td>\n",
       "      <td>0018c00002gi3JnAAI</td>\n",
       "      <td>0018c00002gi3JnAAI</td>\n",
       "      <td>0018c00002gi3JnAAI</td>\n",
       "      <td>0018c00002gi3JnAAI</td>\n",
       "      <td>0018c00002gi3JnAAI</td>\n",
       "    </tr>\n",
       "    <tr>\n",
       "      <th>2</th>\n",
       "      <td>0018c00002gi3JnAAI</td>\n",
       "      <td>0018c00002gi3JnAAI</td>\n",
       "      <td>0018c00002gi3JnAAI</td>\n",
       "      <td>0018c00002gi3JnAAI</td>\n",
       "      <td>0018c00002gi3JnAAI</td>\n",
       "      <td>0018c00002gi3JnAAI</td>\n",
       "      <td>0018c00002gi3JnAAI</td>\n",
       "      <td>0018c00002gi3JnAAI</td>\n",
       "      <td>0018c00002gi3JnAAI</td>\n",
       "      <td>0018c00002gi3JnAAI</td>\n",
       "      <td>0018c00002gi3JnAAI</td>\n",
       "      <td>0018c00002gi3JnAAI</td>\n",
       "    </tr>\n",
       "    <tr>\n",
       "      <th>3</th>\n",
       "      <td>0018c00002gi3JnAAI</td>\n",
       "      <td>0018c00002gi3JnAAI</td>\n",
       "      <td>0018c00002gi3JnAAI</td>\n",
       "      <td>0018c00002gi3JnAAI</td>\n",
       "      <td>0018c00002gi3JnAAI</td>\n",
       "      <td>0018c00002gi3JnAAI</td>\n",
       "      <td>0018c00002gi3JnAAI</td>\n",
       "      <td>0018c00002gi3JnAAI</td>\n",
       "      <td>0018c00002gi3JnAAI</td>\n",
       "      <td>0018c00002gi3JnAAI</td>\n",
       "      <td>0018c00002gi3JnAAI</td>\n",
       "      <td>0018c00002gi3JnAAI</td>\n",
       "    </tr>\n",
       "    <tr>\n",
       "      <th>4</th>\n",
       "      <td>0018c00002gi3JnAAI</td>\n",
       "      <td>0018c00002gi3JnAAI</td>\n",
       "      <td>0018c00002gi3JnAAI</td>\n",
       "      <td>0018c00002gi3JnAAI</td>\n",
       "      <td>0018c00002gi3JnAAI</td>\n",
       "      <td>0018c00002gi3JnAAI</td>\n",
       "      <td>0018c00002gi3JnAAI</td>\n",
       "      <td>0018c00002gi3JnAAI</td>\n",
       "      <td>0018c00002gi3JnAAI</td>\n",
       "      <td>0018c00002gi3JnAAI</td>\n",
       "      <td>0018c00002gi3JnAAI</td>\n",
       "      <td>0018c00002gi3JnAAI</td>\n",
       "    </tr>\n",
       "  </tbody>\n",
       "</table>\n",
       "</div>"
      ],
      "text/plain": [
       "                    1                   2                   3  \\\n",
       "0  0018c00002gi3JnAAI  0018c00002gi3JnAAI  0018c00002gi3JnAAI   \n",
       "1  0018c00002gi3JnAAI  0018c00002gi3JnAAI  0018c00002gi3JnAAI   \n",
       "2  0018c00002gi3JnAAI  0018c00002gi3JnAAI  0018c00002gi3JnAAI   \n",
       "3  0018c00002gi3JnAAI  0018c00002gi3JnAAI  0018c00002gi3JnAAI   \n",
       "4  0018c00002gi3JnAAI  0018c00002gi3JnAAI  0018c00002gi3JnAAI   \n",
       "\n",
       "                    4                   5                   6  \\\n",
       "0  0018c00002gi3JnAAI  0018c00002gi3JnAAI  0018c00002gi3JnAAI   \n",
       "1  0018c00002gi3JnAAI  0018c00002gi3JnAAI  0018c00002gi3JnAAI   \n",
       "2  0018c00002gi3JnAAI  0018c00002gi3JnAAI  0018c00002gi3JnAAI   \n",
       "3  0018c00002gi3JnAAI  0018c00002gi3JnAAI  0018c00002gi3JnAAI   \n",
       "4  0018c00002gi3JnAAI  0018c00002gi3JnAAI  0018c00002gi3JnAAI   \n",
       "\n",
       "                    7                   8                   9  \\\n",
       "0  0018c00002gi3JnAAI  0018c00002gi3JnAAI  0018c00002gi3JnAAI   \n",
       "1  0018c00002gi3JnAAI  0018c00002gi3JnAAI  0018c00002gi3JnAAI   \n",
       "2  0018c00002gi3JnAAI  0018c00002gi3JnAAI  0018c00002gi3JnAAI   \n",
       "3  0018c00002gi3JnAAI  0018c00002gi3JnAAI  0018c00002gi3JnAAI   \n",
       "4  0018c00002gi3JnAAI  0018c00002gi3JnAAI  0018c00002gi3JnAAI   \n",
       "\n",
       "                   10                  11                  12  \n",
       "0  0018c00002gi3JnAAI  0018c00002gi3JnAAI  0018c00002gi3JnAAI  \n",
       "1  0018c00002gi3JnAAI  0018c00002gi3JnAAI  0018c00002gi3JnAAI  \n",
       "2  0018c00002gi3JnAAI  0018c00002gi3JnAAI  0018c00002gi3JnAAI  \n",
       "3  0018c00002gi3JnAAI  0018c00002gi3JnAAI  0018c00002gi3JnAAI  \n",
       "4  0018c00002gi3JnAAI  0018c00002gi3JnAAI  0018c00002gi3JnAAI  "
      ]
     },
     "execution_count": 43,
     "metadata": {},
     "output_type": "execute_result"
    }
   ],
   "source": [
    "total.head()"
   ]
  },
  {
   "cell_type": "code",
   "execution_count": null,
   "metadata": {},
   "outputs": [],
   "source": [
    "for k in range(len(df)):\n",
    "        print (derty.iloc[i])\n",
    "        print (df.iloc[k])\n",
    "        #total.iloc[0:a] = derty.iloc[i]\n",
    "\n",
    "        total.loc[a]=  [derty.iloc[i]['Id'],df.iloc[k]['Id']]\n",
    "        #total.append['uno']=  df.iloc[k]['Id']\n",
    "        #total[a]['dos'] = df.iloc[k]['Id']\n",
    "        #total.append(col[i] + col[i + 1])\n",
    "        a = a+1"
   ]
  },
  {
   "cell_type": "code",
   "execution_count": null,
   "metadata": {},
   "outputs": [],
   "source": [
    "[\n",
    "            derty.iloc[i][\"Account__c\"],\n",
    "            derty.iloc[i + 1][\"__Id\"],\n",
    "            derty.iloc[i + 2][\"__Id\"],\n",
    "            derty.iloc[i + 3][\"__Id\"],\n",
    "            derty.iloc[i + 4][\"__Id\"],\n",
    "            derty.iloc[i + 5][\"__Id\"],\n",
    "            derty.iloc[i + 6][\"__Id\"],\n",
    "            derty.iloc[i + 7][\"__Id\"],\n",
    "            derty.iloc[i + 8][\"__Id\"],\n",
    "            derty.iloc[i + 9][\"__Id\"],\n",
    "        ]"
   ]
  }
 ],
 "metadata": {
  "kernelspec": {
   "display_name": "salesforce",
   "language": "python",
   "name": "python3"
  },
  "language_info": {
   "codemirror_mode": {
    "name": "ipython",
    "version": 3
   },
   "file_extension": ".py",
   "mimetype": "text/x-python",
   "name": "python",
   "nbconvert_exporter": "python",
   "pygments_lexer": "ipython3",
   "version": "3.8.15"
  },
  "orig_nbformat": 4,
  "vscode": {
   "interpreter": {
    "hash": "7fbccfb583f385d5cd7c75cc6ade03c09354727271e9200f47ca4e7fedb5381e"
   }
  }
 },
 "nbformat": 4,
 "nbformat_minor": 2
}
