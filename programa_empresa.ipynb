{
 "cells": [
  {
   "cell_type": "code",
   "execution_count": 1,
   "metadata": {
    "notebookRunGroups": {
     "groupValue": ""
    }
   },
   "outputs": [],
   "source": [
    "from pathlib import Path \n",
    "import requests\n",
    "import pandas as pd\n",
    "import numpy as np\n",
    "from io import StringIO\n",
    "from simple_salesforce import Salesforce\n",
    "import shutil\n",
    "import datetime"
   ]
  },
  {
   "cell_type": "code",
   "execution_count": 2,
   "metadata": {
    "notebookRunGroups": {
     "groupValue": ""
    }
   },
   "outputs": [],
   "source": [
    "sf = Salesforce(\n",
    "    username=\"jmartinez@careassistance.com\",\n",
    "    password=\"Jcmm0104\",\n",
    "    security_token=\"EwVPSL02qXM8XQ2pkUdA13aW\",\n",
    ")"
   ]
  },
  {
   "cell_type": "code",
   "execution_count": 3,
   "metadata": {
    "notebookRunGroups": {
     "groupValue": "1"
    }
   },
   "outputs": [
    {
     "data": {
      "text/plain": [
       "(7880, 6)"
      ]
     },
     "execution_count": 3,
     "metadata": {},
     "output_type": "execute_result"
    }
   ],
   "source": [
    "\n",
    "# Recuperar empresas ID de salesforce\n",
    "results = sf.query_all(\n",
    "    \"\"\"\n",
    "   select Id,Empresa__c, Empresa_Padre__c,  Name, Nombre_Empresa__c from Programas_por_Empresas__c\n",
    "    \"\"\"\n",
    ")\n",
    "programas_empresas = pd.DataFrame(results[\"records\"])\n",
    "programas_empresas = programas_empresas[\n",
    "    [\"Id\", \"Empresa__c\", \"Empresa_Padre__c\", \"Name\", \"Nombre_Empresa__c\", \"Empresa_Padre__c\"]\n",
    "]\n",
    "programas_empresas.shape"
   ]
  },
  {
   "cell_type": "code",
   "execution_count": 4,
   "metadata": {
    "notebookRunGroups": {
     "groupValue": "1"
    }
   },
   "outputs": [
    {
     "data": {
      "text/plain": [
       "(7875, 11)"
      ]
     },
     "execution_count": 4,
     "metadata": {},
     "output_type": "execute_result"
    }
   ],
   "source": [
    "# Recuperar empresas ID de salesforce\n",
    "results = sf.query_all(\n",
    "    \"\"\"\n",
    "   select Id, Name, IdentificationId__pc, Identification_Type__c,Holding__c ,Pa_s_del_Paciente__c,Campa_a__c,AccountNumber,Id_Empresa__c,poliza__c,Empleador__c  from account where ispersonaccount = false \n",
    "    \"\"\"\n",
    ")\n",
    "Empresas_SF = pd.DataFrame(results[\"records\"])\n",
    "Empresas_SF = Empresas_SF[\n",
    "    [\"Id\", \"Name\", \"IdentificationId__pc\", \"Identification_Type__c\", \"Holding__c\", \"Pa_s_del_Paciente__c\",'Campa_a__c','AccountNumber','Id_Empresa__c','Empleador__c','poliza__c']\n",
    "]\n",
    "Empresas_SF.shape"
   ]
  },
  {
   "cell_type": "code",
   "execution_count": 5,
   "metadata": {
    "notebookRunGroups": {
     "groupValue": "1"
    }
   },
   "outputs": [
    {
     "data": {
      "text/html": [
       "<div>\n",
       "<style scoped>\n",
       "    .dataframe tbody tr th:only-of-type {\n",
       "        vertical-align: middle;\n",
       "    }\n",
       "\n",
       "    .dataframe tbody tr th {\n",
       "        vertical-align: top;\n",
       "    }\n",
       "\n",
       "    .dataframe thead th {\n",
       "        text-align: right;\n",
       "    }\n",
       "</style>\n",
       "<table border=\"1\" class=\"dataframe\">\n",
       "  <thead>\n",
       "    <tr style=\"text-align: right;\">\n",
       "      <th></th>\n",
       "      <th>Id_x</th>\n",
       "      <th>Empresa__c</th>\n",
       "      <th>Empresa_Padre__c</th>\n",
       "      <th>Name_x</th>\n",
       "      <th>Nombre_Empresa__c</th>\n",
       "      <th>Empresa_Padre__c</th>\n",
       "      <th>Id_y</th>\n",
       "      <th>Name_y</th>\n",
       "      <th>IdentificationId__pc</th>\n",
       "      <th>Identification_Type__c</th>\n",
       "      <th>Holding__c</th>\n",
       "      <th>Pa_s_del_Paciente__c</th>\n",
       "      <th>Campa_a__c</th>\n",
       "      <th>AccountNumber</th>\n",
       "      <th>Id_Empresa__c</th>\n",
       "      <th>Empleador__c</th>\n",
       "      <th>poliza__c</th>\n",
       "    </tr>\n",
       "  </thead>\n",
       "  <tbody>\n",
       "    <tr>\n",
       "      <th>0</th>\n",
       "      <td>a1W8c000007vDN8EAM</td>\n",
       "      <td>0018c00002axQXrAAM</td>\n",
       "      <td>Metlife</td>\n",
       "      <td>A-0000</td>\n",
       "      <td>Metlife Holding Metlife Laboratorio Maver Ltda.</td>\n",
       "      <td>Metlife</td>\n",
       "      <td>0018c00002axQXrAAM</td>\n",
       "      <td>Metlife Holding Metlife Laboratorio Maver Ltda.</td>\n",
       "      <td>None</td>\n",
       "      <td>None</td>\n",
       "      <td>Holding Metlife</td>\n",
       "      <td>a1U8c000005dAtnEAE</td>\n",
       "      <td>Metlife</td>\n",
       "      <td>None</td>\n",
       "      <td>EMP5813</td>\n",
       "      <td>None</td>\n",
       "      <td>None</td>\n",
       "    </tr>\n",
       "    <tr>\n",
       "      <th>1</th>\n",
       "      <td>a1W8c000007vDN9EAM</td>\n",
       "      <td>0018c00002axQXsAAM</td>\n",
       "      <td>Metlife</td>\n",
       "      <td>A-0001</td>\n",
       "      <td>Metlife Holding Metlife Aguas Del Valle S.A.</td>\n",
       "      <td>Metlife</td>\n",
       "      <td>0018c00002axQXsAAM</td>\n",
       "      <td>Metlife Holding Metlife Aguas Del Valle S.A.</td>\n",
       "      <td>None</td>\n",
       "      <td>None</td>\n",
       "      <td>Holding Metlife</td>\n",
       "      <td>a1U8c000005dAtnEAE</td>\n",
       "      <td>Metlife</td>\n",
       "      <td>None</td>\n",
       "      <td>EMP5814</td>\n",
       "      <td>None</td>\n",
       "      <td>None</td>\n",
       "    </tr>\n",
       "    <tr>\n",
       "      <th>2</th>\n",
       "      <td>a1W8c000007vDNAEA2</td>\n",
       "      <td>0018c00002axQXtAAM</td>\n",
       "      <td>Metlife</td>\n",
       "      <td>A-0002</td>\n",
       "      <td>Metlife Holding Metlife Berliam Spa.</td>\n",
       "      <td>Metlife</td>\n",
       "      <td>0018c00002axQXtAAM</td>\n",
       "      <td>Metlife Holding Metlife Berliam Spa.</td>\n",
       "      <td>None</td>\n",
       "      <td>None</td>\n",
       "      <td>Holding Metlife</td>\n",
       "      <td>a1U8c000005dAtnEAE</td>\n",
       "      <td>Metlife</td>\n",
       "      <td>None</td>\n",
       "      <td>EMP5815</td>\n",
       "      <td>None</td>\n",
       "      <td>None</td>\n",
       "    </tr>\n",
       "    <tr>\n",
       "      <th>3</th>\n",
       "      <td>a1W8c000007vDNBEA2</td>\n",
       "      <td>0018c00002axQXuAAM</td>\n",
       "      <td>Metlife</td>\n",
       "      <td>A-0003</td>\n",
       "      <td>Metlife Holding Metlife Besalco Maquinarias S.A.</td>\n",
       "      <td>Metlife</td>\n",
       "      <td>0018c00002axQXuAAM</td>\n",
       "      <td>Metlife Holding Metlife Besalco Maquinarias S.A.</td>\n",
       "      <td>None</td>\n",
       "      <td>None</td>\n",
       "      <td>Holding Metlife</td>\n",
       "      <td>a1U8c000005dAtnEAE</td>\n",
       "      <td>Metlife</td>\n",
       "      <td>None</td>\n",
       "      <td>EMP5816</td>\n",
       "      <td>None</td>\n",
       "      <td>None</td>\n",
       "    </tr>\n",
       "    <tr>\n",
       "      <th>4</th>\n",
       "      <td>a1W8c000007vDNCEA2</td>\n",
       "      <td>0018c00002axQXvAAM</td>\n",
       "      <td>Metlife</td>\n",
       "      <td>A-0004</td>\n",
       "      <td>Metlife Holding Metlife Carlos Escarate Y Cia ...</td>\n",
       "      <td>Metlife</td>\n",
       "      <td>0018c00002axQXvAAM</td>\n",
       "      <td>Metlife Holding Metlife Carlos Escarate Y Cia ...</td>\n",
       "      <td>None</td>\n",
       "      <td>None</td>\n",
       "      <td>Holding Metlife</td>\n",
       "      <td>a1U8c000005dAtnEAE</td>\n",
       "      <td>Metlife</td>\n",
       "      <td>None</td>\n",
       "      <td>EMP5817</td>\n",
       "      <td>None</td>\n",
       "      <td>None</td>\n",
       "    </tr>\n",
       "  </tbody>\n",
       "</table>\n",
       "</div>"
      ],
      "text/plain": [
       "                 Id_x          Empresa__c Empresa_Padre__c  Name_x  \\\n",
       "0  a1W8c000007vDN8EAM  0018c00002axQXrAAM          Metlife  A-0000   \n",
       "1  a1W8c000007vDN9EAM  0018c00002axQXsAAM          Metlife  A-0001   \n",
       "2  a1W8c000007vDNAEA2  0018c00002axQXtAAM          Metlife  A-0002   \n",
       "3  a1W8c000007vDNBEA2  0018c00002axQXuAAM          Metlife  A-0003   \n",
       "4  a1W8c000007vDNCEA2  0018c00002axQXvAAM          Metlife  A-0004   \n",
       "\n",
       "                                   Nombre_Empresa__c Empresa_Padre__c  \\\n",
       "0    Metlife Holding Metlife Laboratorio Maver Ltda.          Metlife   \n",
       "1       Metlife Holding Metlife Aguas Del Valle S.A.          Metlife   \n",
       "2               Metlife Holding Metlife Berliam Spa.          Metlife   \n",
       "3   Metlife Holding Metlife Besalco Maquinarias S.A.          Metlife   \n",
       "4  Metlife Holding Metlife Carlos Escarate Y Cia ...          Metlife   \n",
       "\n",
       "                 Id_y                                             Name_y  \\\n",
       "0  0018c00002axQXrAAM    Metlife Holding Metlife Laboratorio Maver Ltda.   \n",
       "1  0018c00002axQXsAAM       Metlife Holding Metlife Aguas Del Valle S.A.   \n",
       "2  0018c00002axQXtAAM               Metlife Holding Metlife Berliam Spa.   \n",
       "3  0018c00002axQXuAAM   Metlife Holding Metlife Besalco Maquinarias S.A.   \n",
       "4  0018c00002axQXvAAM  Metlife Holding Metlife Carlos Escarate Y Cia ...   \n",
       "\n",
       "  IdentificationId__pc Identification_Type__c       Holding__c  \\\n",
       "0                 None                   None  Holding Metlife   \n",
       "1                 None                   None  Holding Metlife   \n",
       "2                 None                   None  Holding Metlife   \n",
       "3                 None                   None  Holding Metlife   \n",
       "4                 None                   None  Holding Metlife   \n",
       "\n",
       "  Pa_s_del_Paciente__c Campa_a__c AccountNumber Id_Empresa__c Empleador__c  \\\n",
       "0   a1U8c000005dAtnEAE    Metlife          None       EMP5813         None   \n",
       "1   a1U8c000005dAtnEAE    Metlife          None       EMP5814         None   \n",
       "2   a1U8c000005dAtnEAE    Metlife          None       EMP5815         None   \n",
       "3   a1U8c000005dAtnEAE    Metlife          None       EMP5816         None   \n",
       "4   a1U8c000005dAtnEAE    Metlife          None       EMP5817         None   \n",
       "\n",
       "  poliza__c  \n",
       "0      None  \n",
       "1      None  \n",
       "2      None  \n",
       "3      None  \n",
       "4      None  "
      ]
     },
     "execution_count": 5,
     "metadata": {},
     "output_type": "execute_result"
    }
   ],
   "source": [
    "Empresas_SF_grande = pd.merge(\n",
    "    left=programas_empresas,\n",
    "    right=Empresas_SF,\n",
    "    how=\"left\",\n",
    "    left_on=\"Empresa__c\",\n",
    "    right_on=\"Id\",\n",
    ")\n",
    "Empresas_SF_grande.head()"
   ]
  },
  {
   "cell_type": "code",
   "execution_count": 6,
   "metadata": {},
   "outputs": [
    {
     "data": {
      "text/plain": [
       "(1220144, 3)"
      ]
     },
     "execution_count": 6,
     "metadata": {},
     "output_type": "execute_result"
    }
   ],
   "source": [
    "results = sf.query_all(\n",
    "    \"\"\"\n",
    "   select Id,Paciente__c,Programas_por_Empresas__c from Paciente_Programas__c\n",
    "    \"\"\"\n",
    ")\n",
    "pacientes_programas = pd.DataFrame(results[\"records\"])\n",
    "pacientes_programas = pacientes_programas[\n",
    "    [\"Id\", \"Paciente__c\", \"Programas_por_Empresas__c\"]\n",
    "]\n",
    "pacientes_programas.shape"
   ]
  },
  {
   "cell_type": "code",
   "execution_count": 7,
   "metadata": {},
   "outputs": [
    {
     "data": {
      "text/plain": [
       "(1540195, 3)"
      ]
     },
     "execution_count": 7,
     "metadata": {},
     "output_type": "execute_result"
    }
   ],
   "source": [
    "# recuperar todos los pacientes ID\n",
    "results = sf.query_all(\n",
    "    \"\"\"\n",
    "   select Id, IdentificationId__pc,Name from Account \n",
    "    \"\"\"\n",
    ")\n",
    "Pacientes_SF = pd.DataFrame(results[\"records\"])\n",
    "\n",
    "Pacientes_SF = Pacientes_SF[[\"Id\", \"IdentificationId__pc\", \"Name\"]]\n",
    "Pacientes_SF.shape"
   ]
  },
  {
   "cell_type": "code",
   "execution_count": 8,
   "metadata": {},
   "outputs": [
    {
     "data": {
      "text/plain": [
       "(1220144, 6)"
      ]
     },
     "execution_count": 8,
     "metadata": {},
     "output_type": "execute_result"
    }
   ],
   "source": [
    "programaxempresa = pd.merge(\n",
    "    left=pacientes_programas,\n",
    "    right=Pacientes_SF,\n",
    "    how=\"left\",\n",
    "    left_on=\"Paciente__c\",\n",
    "    right_on=\"Id\",\n",
    ")\n",
    "programaxempresa.shape"
   ]
  },
  {
   "cell_type": "code",
   "execution_count": 9,
   "metadata": {},
   "outputs": [
    {
     "data": {
      "text/html": [
       "<div>\n",
       "<style scoped>\n",
       "    .dataframe tbody tr th:only-of-type {\n",
       "        vertical-align: middle;\n",
       "    }\n",
       "\n",
       "    .dataframe tbody tr th {\n",
       "        vertical-align: top;\n",
       "    }\n",
       "\n",
       "    .dataframe thead th {\n",
       "        text-align: right;\n",
       "    }\n",
       "</style>\n",
       "<table border=\"1\" class=\"dataframe\">\n",
       "  <thead>\n",
       "    <tr style=\"text-align: right;\">\n",
       "      <th></th>\n",
       "      <th>Id_x</th>\n",
       "      <th>Paciente__c</th>\n",
       "      <th>Programas_por_Empresas__c</th>\n",
       "      <th>Id_y</th>\n",
       "      <th>IdentificationId__pc</th>\n",
       "      <th>Name</th>\n",
       "    </tr>\n",
       "  </thead>\n",
       "  <tbody>\n",
       "    <tr>\n",
       "      <th>0</th>\n",
       "      <td>a1Y8c00000C5asnEAB</td>\n",
       "      <td>0018c00002amLbpAAE</td>\n",
       "      <td>a1W8c000007vDPvEAM</td>\n",
       "      <td>0018c00002amLbpAAE</td>\n",
       "      <td>224488556</td>\n",
       "      <td>Genesis Antonia Gutierrez Abarca</td>\n",
       "    </tr>\n",
       "    <tr>\n",
       "      <th>1</th>\n",
       "      <td>a1Y8c00000C5asoEAB</td>\n",
       "      <td>0018c00002amLbqAAE</td>\n",
       "      <td>a1W8c000007vDSpEAM</td>\n",
       "      <td>0018c00002amLbqAAE</td>\n",
       "      <td>113376066</td>\n",
       "      <td>Claudia Silva</td>\n",
       "    </tr>\n",
       "    <tr>\n",
       "      <th>2</th>\n",
       "      <td>a1Y8c00000C5aspEAB</td>\n",
       "      <td>0018c00002amLbrAAE</td>\n",
       "      <td>a1W8c000007vDSpEAM</td>\n",
       "      <td>0018c00002amLbrAAE</td>\n",
       "      <td>79476161</td>\n",
       "      <td>Maria Lorenza Garay</td>\n",
       "    </tr>\n",
       "    <tr>\n",
       "      <th>3</th>\n",
       "      <td>a1Y8c00000C5asqEAB</td>\n",
       "      <td>0018c00002amLbsAAE</td>\n",
       "      <td>a1W8c000007vDSpEAM</td>\n",
       "      <td>0018c00002amLbsAAE</td>\n",
       "      <td>181854227</td>\n",
       "      <td>Estolaza Vidal Jean Patrick Moises</td>\n",
       "    </tr>\n",
       "    <tr>\n",
       "      <th>4</th>\n",
       "      <td>a1Y8c00000C5asrEAB</td>\n",
       "      <td>0018c00002amLc2AAE</td>\n",
       "      <td>a1W8c000007vDSpEAM</td>\n",
       "      <td>0018c00002amLc2AAE</td>\n",
       "      <td>126899823</td>\n",
       "      <td>Rivas Correa Claudia</td>\n",
       "    </tr>\n",
       "  </tbody>\n",
       "</table>\n",
       "</div>"
      ],
      "text/plain": [
       "                 Id_x         Paciente__c Programas_por_Empresas__c  \\\n",
       "0  a1Y8c00000C5asnEAB  0018c00002amLbpAAE        a1W8c000007vDPvEAM   \n",
       "1  a1Y8c00000C5asoEAB  0018c00002amLbqAAE        a1W8c000007vDSpEAM   \n",
       "2  a1Y8c00000C5aspEAB  0018c00002amLbrAAE        a1W8c000007vDSpEAM   \n",
       "3  a1Y8c00000C5asqEAB  0018c00002amLbsAAE        a1W8c000007vDSpEAM   \n",
       "4  a1Y8c00000C5asrEAB  0018c00002amLc2AAE        a1W8c000007vDSpEAM   \n",
       "\n",
       "                 Id_y IdentificationId__pc                                Name  \n",
       "0  0018c00002amLbpAAE            224488556    Genesis Antonia Gutierrez Abarca  \n",
       "1  0018c00002amLbqAAE            113376066                       Claudia Silva  \n",
       "2  0018c00002amLbrAAE             79476161                 Maria Lorenza Garay  \n",
       "3  0018c00002amLbsAAE            181854227  Estolaza Vidal Jean Patrick Moises  \n",
       "4  0018c00002amLc2AAE            126899823                Rivas Correa Claudia  "
      ]
     },
     "execution_count": 9,
     "metadata": {},
     "output_type": "execute_result"
    }
   ],
   "source": [
    "programaxempresa.head()"
   ]
  },
  {
   "cell_type": "code",
   "execution_count": 11,
   "metadata": {},
   "outputs": [
    {
     "name": "stderr",
     "output_type": "stream",
     "text": [
      "C:\\Users\\jmartinez\\AppData\\Local\\Temp\\ipykernel_5092\\1838615774.py:2: FutureWarning: Inferring datetime64[ns] from data containing strings is deprecated and will be removed in a future version. To retain the old behavior explicitly pass Series(data, dtype=datetime64[ns])\n",
      "  Pacientes_Archivo = pd.read_excel(nuevos)\n"
     ]
    }
   ],
   "source": [
    "nuevos = (\"F:/Empresas SF/EY/activo.xlsx\")\n",
    "Pacientes_Archivo = pd.read_excel(nuevos)"
   ]
  },
  {
   "cell_type": "code",
   "execution_count": 12,
   "metadata": {},
   "outputs": [
    {
     "data": {
      "text/plain": [
       "(3036, 16)"
      ]
     },
     "execution_count": 12,
     "metadata": {},
     "output_type": "execute_result"
    }
   ],
   "source": [
    "archivoempresa = pd.merge(\n",
    "    left=Pacientes_Archivo,\n",
    "    right=programaxempresa,\n",
    "    how=\"left\",\n",
    "    left_on=\"rut1\",\n",
    "    right_on=\"IdentificationId__pc\",\n",
    ")\n",
    "archivoempresa.shape"
   ]
  },
  {
   "cell_type": "code",
   "execution_count": 13,
   "metadata": {},
   "outputs": [],
   "source": [
    "archivoempresa.to_excel(\n",
    "    \"F:/Empresas SF/EY/Pacientes_y_empresas_nuevas2.xlsx\", index=False\n",
    ")"
   ]
  },
  {
   "cell_type": "code",
   "execution_count": 14,
   "metadata": {},
   "outputs": [
    {
     "data": {
      "text/plain": [
       "(3036, 33)"
      ]
     },
     "execution_count": 14,
     "metadata": {},
     "output_type": "execute_result"
    }
   ],
   "source": [
    "archivoempresa_grande = pd.merge(\n",
    "    left=archivoempresa,\n",
    "    right=Empresas_SF_grande,\n",
    "    how=\"left\",\n",
    "    left_on=\"Programas_por_Empresas__c\",\n",
    "    right_on=\"Id_x\",\n",
    ")\n",
    "archivoempresa_grande.shape"
   ]
  },
  {
   "cell_type": "code",
   "execution_count": 15,
   "metadata": {},
   "outputs": [],
   "source": [
    "archivoempresa_grande.to_excel(\n",
    "    \"F:/Empresas SF/EY/Pacientes_y_empresas_nuevas_total.xlsx\", index=False\n",
    ")"
   ]
  },
  {
   "cell_type": "code",
   "execution_count": 16,
   "metadata": {},
   "outputs": [
    {
     "data": {
      "text/plain": [
       "(644, 16)"
      ]
     },
     "execution_count": 16,
     "metadata": {},
     "output_type": "execute_result"
    }
   ],
   "source": [
    "nuevos = (\"F:/Empresas SF/EY/inactivo.xlsx\")\n",
    "Pacientes_Archivo = pd.read_excel(nuevos)\n",
    "archivoempresa = pd.merge(\n",
    "    left=Pacientes_Archivo,\n",
    "    right=programaxempresa,\n",
    "    how=\"left\",\n",
    "    left_on=\"rut1\",\n",
    "    right_on=\"IdentificationId__pc\",\n",
    ")\n",
    "archivoempresa.shape"
   ]
  },
  {
   "cell_type": "code",
   "execution_count": 17,
   "metadata": {},
   "outputs": [
    {
     "data": {
      "text/plain": [
       "(644, 33)"
      ]
     },
     "execution_count": 17,
     "metadata": {},
     "output_type": "execute_result"
    }
   ],
   "source": [
    "archivoempresa_grande = pd.merge(\n",
    "    left=archivoempresa,\n",
    "    right=Empresas_SF_grande,\n",
    "    how=\"left\",\n",
    "    left_on=\"Programas_por_Empresas__c\",\n",
    "    right_on=\"Id_x\",\n",
    ")\n",
    "archivoempresa_grande.shape"
   ]
  },
  {
   "cell_type": "code",
   "execution_count": 18,
   "metadata": {},
   "outputs": [],
   "source": [
    "archivoempresa_grande.to_excel(\n",
    "    \"F:/Empresas SF/EY/Pacientes_y_empresas_nuevas_total_inactivo.xlsx\", index=False\n",
    ")"
   ]
  },
  {
   "cell_type": "code",
   "execution_count": null,
   "metadata": {},
   "outputs": [],
   "source": [
    "archivoempresa_grande = pd.merge(\n",
    "    left=archivoempresa_grande,\n",
    "    right=Pacientes_SF,\n",
    "    how=\"left\",\n",
    "    left_on=\"Programas_por_Empresas__c\",\n",
    "    right_on=\"Id_x\",\n",
    ")\n",
    "archivoempresa_grande.shape"
   ]
  }
 ],
 "metadata": {
  "kernelspec": {
   "display_name": "salesforce",
   "language": "python",
   "name": "python3"
  },
  "language_info": {
   "codemirror_mode": {
    "name": "ipython",
    "version": 3
   },
   "file_extension": ".py",
   "mimetype": "text/x-python",
   "name": "python",
   "nbconvert_exporter": "python",
   "pygments_lexer": "ipython3",
   "version": "3.8.15 (default, Nov 24 2022, 14:38:14) [MSC v.1916 64 bit (AMD64)]"
  },
  "orig_nbformat": 4,
  "vscode": {
   "interpreter": {
    "hash": "7fbccfb583f385d5cd7c75cc6ade03c09354727271e9200f47ca4e7fedb5381e"
   }
  }
 },
 "nbformat": 4,
 "nbformat_minor": 2
}
