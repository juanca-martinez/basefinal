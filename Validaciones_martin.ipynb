{
 "cells": [
  {
   "cell_type": "code",
   "execution_count": null,
   "metadata": {},
   "outputs": [],
   "source": [
    "import pandas as pd\n",
    "import numpy as np"
   ]
  },
  {
   "cell_type": "code",
   "execution_count": null,
   "metadata": {},
   "outputs": [],
   "source": [
    "pacientes_arriba1 = \"C:/Users/jmartinez/Desktop/validaciones/enviados/Pacientes1.xlsx\"\n",
    "pacientes_arriba2 = \"C:/Users/jmartinez/Desktop/validaciones/enviados/Pacientes2.xlsx\"\n",
    "pacientes_arriba3 = \"C:/Users/jmartinez/Desktop/validaciones/enviados/Pacientes3.xlsx\"\n",
    "pacientes_arriba4 = \"C:/Users/jmartinez/Desktop/validaciones/enviados/Pacientes4.xlsx\"\n",
    "pacientes_arriba5 = \"C:/Users/jmartinez/Desktop/validaciones/enviados/Pacientes4.xlsx\"\n",
    "\n",
    "\n",
    "\n",
    "pacientes_sf1 = pd.read_excel(pacientes_arriba1) \n",
    "pacientes_sf2 = pd.read_excel(pacientes_arriba2)\n",
    "pacientes_sf3 = pd.read_excel(pacientes_arriba3)\n",
    "pacientes_sf4 = pd.read_excel(pacientes_arriba4)\n",
    "\n"
   ]
  },
  {
   "cell_type": "code",
   "execution_count": null,
   "metadata": {},
   "outputs": [],
   "source": [
    "pacientes_sf1.shape"
   ]
  },
  {
   "cell_type": "code",
   "execution_count": null,
   "metadata": {},
   "outputs": [],
   "source": [
    "pacientes_sf2.shape"
   ]
  },
  {
   "cell_type": "code",
   "execution_count": null,
   "metadata": {},
   "outputs": [],
   "source": [
    "pacientes_sf3.shape"
   ]
  },
  {
   "cell_type": "code",
   "execution_count": null,
   "metadata": {},
   "outputs": [],
   "source": [
    "pacientes_sf4.shape"
   ]
  },
  {
   "cell_type": "code",
   "execution_count": null,
   "metadata": {},
   "outputs": [],
   "source": [
    "pacientes_uni = pd.concat([pacientes_sf1, pacientes_sf2], ignore_index=True, sort=False)\n"
   ]
  },
  {
   "cell_type": "code",
   "execution_count": null,
   "metadata": {},
   "outputs": [],
   "source": [
    "pacientes_uni2 = pd.concat([pacientes_sf4, pacientes_sf3], ignore_index=True, sort=False)"
   ]
  },
  {
   "cell_type": "code",
   "execution_count": null,
   "metadata": {},
   "outputs": [],
   "source": [
    "pacientes_arriba = pd.concat([pacientes_uni, pacientes_uni2], ignore_index=True, sort=False)"
   ]
  },
  {
   "cell_type": "code",
   "execution_count": null,
   "metadata": {},
   "outputs": [],
   "source": [
    "pacientes_arriba.shape"
   ]
  },
  {
   "cell_type": "code",
   "execution_count": null,
   "metadata": {},
   "outputs": [],
   "source": [
    "#pacientes_arriba.to_excel(\"C:/Users/jmartinez/Desktop/validaciones/enviados/final.xlsx\",index=False)"
   ]
  },
  {
   "cell_type": "code",
   "execution_count": null,
   "metadata": {},
   "outputs": [],
   "source": [
    "pacientes_arriba.rut = pacientes_arriba['rut'].astype(str)\n",
    "pacientes_arriba['rut'] = pacientes_arriba['rut'].str.replace('-','').str.lower().str.strip()\n",
    "pacientes_arriba['rut'].head()"
   ]
  },
  {
   "cell_type": "code",
   "execution_count": null,
   "metadata": {},
   "outputs": [],
   "source": [
    "dato_sf = \"C:/Users/jmartinez/Desktop/validaciones/pacientes.xlsx\"\n",
    "datos_sf = pd.read_excel(dato_sf)\n",
    "datos_sf.rut = datos_sf['rut'].astype(str)\n",
    "\n",
    "datos_sf['rut'].head()"
   ]
  },
  {
   "cell_type": "code",
   "execution_count": null,
   "metadata": {},
   "outputs": [],
   "source": [
    "datos_sf['rut'] = datos_sf['rut'].str.lower()\n",
    "datos_sf['rut'].head()"
   ]
  },
  {
   "cell_type": "code",
   "execution_count": null,
   "metadata": {},
   "outputs": [],
   "source": [
    "datos_sf['check_ruts'] = datos_sf['rut'].isin(pacientes_arriba['rut'])"
   ]
  },
  {
   "cell_type": "code",
   "execution_count": null,
   "metadata": {},
   "outputs": [],
   "source": [
    "datos_sf.to_excel(\"C:/Users/jmartinez/Desktop/validaciones/final.xlsx\",index=False)"
   ]
  },
  {
   "cell_type": "code",
   "execution_count": null,
   "metadata": {},
   "outputs": [],
   "source": [
    "pacientes_arriba['check_ruts'] = pacientes_arriba['rut'].isin(datos_sf['rut'])"
   ]
  },
  {
   "cell_type": "code",
   "execution_count": null,
   "metadata": {},
   "outputs": [],
   "source": [
    "pacientes_arriba.to_excel(\"C:/Users/jmartinez/Desktop/validaciones/conok.xlsx\",index=False)"
   ]
  }
 ],
 "metadata": {
  "kernelspec": {
   "display_name": "Mito",
   "language": "python",
   "name": "python3"
  },
  "language_info": {
   "codemirror_mode": {
    "name": "ipython",
    "version": 3
   },
   "file_extension": ".py",
   "mimetype": "text/x-python",
   "name": "python",
   "nbconvert_exporter": "python",
   "pygments_lexer": "ipython3",
   "version": "3.10.6 | packaged by conda-forge | (main, Oct  7 2022, 20:14:50) [MSC v.1916 64 bit (AMD64)]"
  },
  "orig_nbformat": 4,
  "vscode": {
   "interpreter": {
    "hash": "8ca7c6c0b372e79d1b046e97089bf0eca059102913bf5fbce589f25f1f28c438"
   }
  }
 },
 "nbformat": 4,
 "nbformat_minor": 2
}
