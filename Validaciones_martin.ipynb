{
 "cells": [
  {
   "cell_type": "code",
   "execution_count": 1,
   "metadata": {},
   "outputs": [],
   "source": [
    "import pandas as pd\n",
    "import numpy as np"
   ]
  },
  {
   "cell_type": "code",
   "execution_count": 2,
   "metadata": {},
   "outputs": [],
   "source": [
    "pacientes_arriba1 = \"C:/Users/jmartinez/Desktop/validaciones/enviados/Pacientes1.xlsx\"\n",
    "pacientes_arriba2 = \"C:/Users/jmartinez/Desktop/validaciones/enviados/Pacientes2.xlsx\"\n",
    "pacientes_arriba3 = \"C:/Users/jmartinez/Desktop/validaciones/enviados/Pacientes3.xlsx\"\n",
    "pacientes_arriba4 = \"C:/Users/jmartinez/Desktop/validaciones/enviados/Pacientes4.xlsx\"\n",
    "pacientes_arriba5 = \"C:/Users/jmartinez/Desktop/validaciones/enviados/Pacientes5.xlsx\"\n",
    "\n",
    "pacientes_sf1 = pd.read_excel(pacientes_arriba1) \n",
    "pacientes_sf2 = pd.read_excel(pacientes_arriba2)\n",
    "pacientes_sf3 = pd.read_excel(pacientes_arriba3)\n",
    "pacientes_sf4 = pd.read_excel(pacientes_arriba4)\n",
    "pacientes_sf5 = pd.read_excel(pacientes_arriba5)\n",
    "\n"
   ]
  },
  {
   "cell_type": "code",
   "execution_count": 3,
   "metadata": {},
   "outputs": [
    {
     "data": {
      "text/plain": [
       "(987, 35)"
      ]
     },
     "execution_count": 3,
     "metadata": {},
     "output_type": "execute_result"
    }
   ],
   "source": [
    "pacientes_sf1.shape"
   ]
  },
  {
   "cell_type": "code",
   "execution_count": 4,
   "metadata": {},
   "outputs": [
    {
     "data": {
      "text/plain": [
       "(13400, 37)"
      ]
     },
     "execution_count": 4,
     "metadata": {},
     "output_type": "execute_result"
    }
   ],
   "source": [
    "pacientes_sf2.shape"
   ]
  },
  {
   "cell_type": "code",
   "execution_count": 5,
   "metadata": {},
   "outputs": [
    {
     "data": {
      "text/plain": [
       "(209965, 34)"
      ]
     },
     "execution_count": 5,
     "metadata": {},
     "output_type": "execute_result"
    }
   ],
   "source": [
    "pacientes_sf3.shape"
   ]
  },
  {
   "cell_type": "code",
   "execution_count": 6,
   "metadata": {},
   "outputs": [
    {
     "data": {
      "text/plain": [
       "(630104, 28)"
      ]
     },
     "execution_count": 6,
     "metadata": {},
     "output_type": "execute_result"
    }
   ],
   "source": [
    "pacientes_sf4.shape"
   ]
  },
  {
   "cell_type": "code",
   "execution_count": 37,
   "metadata": {},
   "outputs": [],
   "source": [
    "pacientes_uni = pd.concat([pacientes_sf1, pacientes_sf2], ignore_index=True, sort=False)\n"
   ]
  },
  {
   "cell_type": "code",
   "execution_count": 36,
   "metadata": {},
   "outputs": [],
   "source": [
    "pacientes_uni2 = pd.concat([pacientes_sf4, pacientes_sf3], ignore_index=True, sort=False)"
   ]
  },
  {
   "cell_type": "code",
   "execution_count": 9,
   "metadata": {},
   "outputs": [],
   "source": [
    "pacientes_arriba = pd.concat([pacientes_uni, pacientes_uni2], ignore_index=True, sort=False)"
   ]
  },
  {
   "cell_type": "code",
   "execution_count": 10,
   "metadata": {},
   "outputs": [],
   "source": [
    "pacientes_nuestros = pd.concat([pacientes_arriba,pacientes_sf5],ignore_index=True,sort=False)"
   ]
  },
  {
   "cell_type": "code",
   "execution_count": 11,
   "metadata": {},
   "outputs": [],
   "source": [
    "#pacientes_arriba.to_excel(\"C:/Users/jmartinez/Desktop/validaciones/enviados/final.xlsx\",index=False)"
   ]
  },
  {
   "cell_type": "code",
   "execution_count": 12,
   "metadata": {},
   "outputs": [
    {
     "data": {
      "text/plain": [
       "0    173805004\n",
       "1    173805004\n",
       "2    153338949\n",
       "3    182474266\n",
       "4    177735213\n",
       "Name: rut, dtype: object"
      ]
     },
     "execution_count": 12,
     "metadata": {},
     "output_type": "execute_result"
    }
   ],
   "source": [
    "pacientes_nuestros.rut = pacientes_nuestros['rut'].astype(str)\n",
    "pacientes_nuestros['rut'] = pacientes_nuestros['rut'].str.replace('-','').str.lower().str.strip()\n",
    "pacientes_nuestros['rut'].head()"
   ]
  },
  {
   "cell_type": "code",
   "execution_count": 13,
   "metadata": {},
   "outputs": [
    {
     "data": {
      "text/plain": [
       "0    173805004\n",
       "1    153338949\n",
       "2    177735213\n",
       "3    169332924\n",
       "4    172957692\n",
       "Name: rut, dtype: object"
      ]
     },
     "execution_count": 13,
     "metadata": {},
     "output_type": "execute_result"
    }
   ],
   "source": [
    "dato_sf = \"C:/Users/jmartinez/Desktop/validaciones/pacientes2.xlsx\"\n",
    "datos_sf = pd.read_excel(dato_sf)\n",
    "datos_sf.rut = datos_sf['rut'].astype(str)\n",
    "datos_sf['rut'] = datos_sf['rut'].str.lower()\n",
    "\n",
    "datos_sf['rut'].head()"
   ]
  },
  {
   "cell_type": "code",
   "execution_count": 14,
   "metadata": {},
   "outputs": [],
   "source": [
    "datos_sf['check_ruts'] = datos_sf['rut'].isin(pacientes_nuestros['rut'])"
   ]
  },
  {
   "cell_type": "code",
   "execution_count": 15,
   "metadata": {},
   "outputs": [],
   "source": [
    "datos_sf.to_excel(\"C:/Users/jmartinez/Desktop/validaciones/final.xlsx\",index=False)"
   ]
  },
  {
   "cell_type": "code",
   "execution_count": 16,
   "metadata": {},
   "outputs": [],
   "source": [
    "pacientes_nuestros['check_ruts'] = pacientes_nuestros['rut'].isin(datos_sf['rut'])"
   ]
  },
  {
   "cell_type": "code",
   "execution_count": 17,
   "metadata": {},
   "outputs": [],
   "source": [
    "pacientes_nuestros.to_excel(\"C:/Users/jmartinez/Desktop/validaciones/subidos_conok.xlsx\",index=False)"
   ]
  },
  {
   "cell_type": "code",
   "execution_count": 18,
   "metadata": {},
   "outputs": [
    {
     "data": {
      "text/plain": [
       "(857715, 48)"
      ]
     },
     "execution_count": 18,
     "metadata": {},
     "output_type": "execute_result"
    }
   ],
   "source": [
    "pacientes_nuestros.shape"
   ]
  },
  {
   "cell_type": "code",
   "execution_count": 19,
   "metadata": {},
   "outputs": [
    {
     "data": {
      "text/plain": [
       "(794270, 34)"
      ]
     },
     "execution_count": 19,
     "metadata": {},
     "output_type": "execute_result"
    }
   ],
   "source": [
    "dato_sf = \"C:/Users/jmartinez/Desktop/validaciones/enviados/pacientes_nuevos4.xlsx\"\n",
    "pacientes_nuevos = pd.read_excel(dato_sf)\n",
    "pacientes_nuevos.shape"
   ]
  },
  {
   "cell_type": "code",
   "execution_count": 20,
   "metadata": {},
   "outputs": [
    {
     "data": {
      "text/plain": [
       "0     88174453\n",
       "1    176563249\n",
       "2    106399341\n",
       "3    179196611\n",
       "4     91489406\n",
       "Name: rut, dtype: object"
      ]
     },
     "execution_count": 20,
     "metadata": {},
     "output_type": "execute_result"
    }
   ],
   "source": [
    "pacientes_nuevos.rut = pacientes_nuevos['rut'].astype(str)\n",
    "pacientes_nuevos['rut'] = pacientes_nuevos['rut'].str.lower()\n",
    "pacientes_nuevos['chkeorut'] = pacientes_nuevos['rut'].isin(datos_sf['rut'])\n",
    "pacientes_nuevos['rut'].head()\n"
   ]
  },
  {
   "cell_type": "code",
   "execution_count": 21,
   "metadata": {},
   "outputs": [],
   "source": [
    "pacientes_nuevos.to_excel(\"C:/Users/jmartinez/Desktop/validaciones/nuevos_conok.xlsx\",index=False)"
   ]
  },
  {
   "cell_type": "code",
   "execution_count": 22,
   "metadata": {},
   "outputs": [],
   "source": [
    "si_verdad = pacientes_nuevos[(pacientes_nuevos['chkeorut']==False)]\n"
   ]
  },
  {
   "cell_type": "code",
   "execution_count": 23,
   "metadata": {},
   "outputs": [
    {
     "name": "stderr",
     "output_type": "stream",
     "text": [
      "C:\\Users\\jmartinez\\AppData\\Local\\Temp\\ipykernel_8580\\1740477804.py:1: SettingWithCopyWarning: \n",
      "A value is trying to be set on a copy of a slice from a DataFrame.\n",
      "Try using .loc[row_indexer,col_indexer] = value instead\n",
      "\n",
      "See the caveats in the documentation: https://pandas.pydata.org/pandas-docs/stable/user_guide/indexing.html#returning-a-view-versus-a-copy\n",
      "  si_verdad['LLave_Empresa'] = si_verdad['campana_paciente'].astype(str) + \" \" + si_verdad['holding'].astype(str) + \" \" + si_verdad['empleador'].astype(str)\n"
     ]
    }
   ],
   "source": [
    "si_verdad['LLave_Empresa'] = si_verdad['campana_paciente'].astype(str) + \" \" + si_verdad['holding'].astype(str) + \" \" + si_verdad['empleador'].astype(str)"
   ]
  },
  {
   "cell_type": "code",
   "execution_count": 24,
   "metadata": {},
   "outputs": [
    {
     "data": {
      "text/html": [
       "<div><div id=af3302c0-8e60-47a3-b939-0e6de309481b style=\"display:none; background-color:#9D6CFF; color:white; width:200px; height:30px; padding-left:5px; border-radius:4px; flex-direction:row; justify-content:space-around; align-items:center;\" onmouseover=\"this.style.backgroundColor='#BA9BF8'\" onmouseout=\"this.style.backgroundColor='#9D6CFF'\" onclick=\"window.commands?.execute('create-mitosheet-from-dataframe-output');\">See Full Dataframe in Mito</div> <script> if (window.commands?.hasCommand('create-mitosheet-from-dataframe-output')) document.getElementById('af3302c0-8e60-47a3-b939-0e6de309481b').style.display = 'flex' </script> <table border=\"1\" class=\"dataframe\">\n",
       "  <thead>\n",
       "    <tr style=\"text-align: right;\">\n",
       "      <th></th>\n",
       "      <th>id</th>\n",
       "      <th>deleted</th>\n",
       "      <th>salutation_name</th>\n",
       "      <th>first_name</th>\n",
       "      <th>last_name</th>\n",
       "      <th>description</th>\n",
       "      <th>address_street</th>\n",
       "      <th>address_city</th>\n",
       "      <th>address_state</th>\n",
       "      <th>address_country</th>\n",
       "      <th>...</th>\n",
       "      <th>turno</th>\n",
       "      <th>created_by_id</th>\n",
       "      <th>modified_by_id</th>\n",
       "      <th>assigned_user_id</th>\n",
       "      <th>horariopreferente</th>\n",
       "      <th>division</th>\n",
       "      <th>ubicacion</th>\n",
       "      <th>email</th>\n",
       "      <th>chkeorut</th>\n",
       "      <th>LLave_Empresa</th>\n",
       "    </tr>\n",
       "  </thead>\n",
       "  <tbody>\n",
       "    <tr>\n",
       "      <th>0</th>\n",
       "      <td>5f6ab5cc33d2d0c79</td>\n",
       "      <td>0</td>\n",
       "      <td>NaN</td>\n",
       "      <td>Janina</td>\n",
       "      <td>Rodriguez Arancibia</td>\n",
       "      <td>NaN</td>\n",
       "      <td>NaN</td>\n",
       "      <td>Santiago</td>\n",
       "      <td>Las Condes</td>\n",
       "      <td>Chile</td>\n",
       "      <td>...</td>\n",
       "      <td>NaN</td>\n",
       "      <td>system</td>\n",
       "      <td>5ffda3398e497e70b</td>\n",
       "      <td>NaN</td>\n",
       "      <td>NaN</td>\n",
       "      <td>NaN</td>\n",
       "      <td>NaN</td>\n",
       "      <td>NaN</td>\n",
       "      <td>False</td>\n",
       "      <td>Prueba Testing 4 Life Seguros De Vida S.A.</td>\n",
       "    </tr>\n",
       "    <tr>\n",
       "      <th>1</th>\n",
       "      <td>5d9f87c1cb076c044</td>\n",
       "      <td>0</td>\n",
       "      <td>Ms.</td>\n",
       "      <td>María Paulina</td>\n",
       "      <td>Guerrero Bonilla</td>\n",
       "      <td>NaN</td>\n",
       "      <td>Paso Del Roble 269</td>\n",
       "      <td>Santiago</td>\n",
       "      <td>La Florida</td>\n",
       "      <td>Chile</td>\n",
       "      <td>...</td>\n",
       "      <td>NaN</td>\n",
       "      <td>5d94ad31da3022bc2</td>\n",
       "      <td>system</td>\n",
       "      <td>5d94ad31da3022bc2</td>\n",
       "      <td>NaN</td>\n",
       "      <td>NaN</td>\n",
       "      <td>NaN</td>\n",
       "      <td>mguerrerob17@gmail.com</td>\n",
       "      <td>False</td>\n",
       "      <td>Metlife Holding Metlife Metlife</td>\n",
       "    </tr>\n",
       "    <tr>\n",
       "      <th>2</th>\n",
       "      <td>5da61e1528350b211</td>\n",
       "      <td>0</td>\n",
       "      <td>Mrs.</td>\n",
       "      <td>Zunilda</td>\n",
       "      <td>Silva</td>\n",
       "      <td>NaN</td>\n",
       "      <td>Portales 5488\\nLo Prado, Santiago</td>\n",
       "      <td>NaN</td>\n",
       "      <td>NaN</td>\n",
       "      <td>Chile</td>\n",
       "      <td>...</td>\n",
       "      <td>NaN</td>\n",
       "      <td>5d94ad31da3022bc2</td>\n",
       "      <td>1</td>\n",
       "      <td>5d94ad31da3022bc2</td>\n",
       "      <td>NaN</td>\n",
       "      <td>NaN</td>\n",
       "      <td>NaN</td>\n",
       "      <td>lauranicolepinilla@gmail.com</td>\n",
       "      <td>False</td>\n",
       "      <td>Metlife Holding Metlife Metlife</td>\n",
       "    </tr>\n",
       "    <tr>\n",
       "      <th>3</th>\n",
       "      <td>5da7841288a769174</td>\n",
       "      <td>0</td>\n",
       "      <td>Ms.</td>\n",
       "      <td>Alexandra</td>\n",
       "      <td>Rodriguez Norambuena</td>\n",
       "      <td>NaN</td>\n",
       "      <td>Conde Del Maule 4175</td>\n",
       "      <td>Estacion Central</td>\n",
       "      <td>NaN</td>\n",
       "      <td>Chile</td>\n",
       "      <td>...</td>\n",
       "      <td>NaN</td>\n",
       "      <td>5d921a0defd6b2274</td>\n",
       "      <td>system</td>\n",
       "      <td>5d921a0defd6b2274</td>\n",
       "      <td>NaN</td>\n",
       "      <td>NaN</td>\n",
       "      <td>NaN</td>\n",
       "      <td>alexandrarodn@hotmail.com</td>\n",
       "      <td>False</td>\n",
       "      <td>Colaboradores Care Assistance Care Assistance</td>\n",
       "    </tr>\n",
       "    <tr>\n",
       "      <th>4</th>\n",
       "      <td>5e4f97b7ead35f796</td>\n",
       "      <td>0</td>\n",
       "      <td>NaN</td>\n",
       "      <td>Mauricio</td>\n",
       "      <td>Eugenio Balbontin Oryan</td>\n",
       "      <td>NaN</td>\n",
       "      <td>NaN</td>\n",
       "      <td>Santiago</td>\n",
       "      <td>Lo Barnechea</td>\n",
       "      <td>Chile</td>\n",
       "      <td>...</td>\n",
       "      <td>NaN</td>\n",
       "      <td>system</td>\n",
       "      <td>5ffda3398e497e70b</td>\n",
       "      <td>NaN</td>\n",
       "      <td>NaN</td>\n",
       "      <td>NaN</td>\n",
       "      <td>NaN</td>\n",
       "      <td>macura@manquehue.net</td>\n",
       "      <td>False</td>\n",
       "      <td>Prueba Testing 4Life</td>\n",
       "    </tr>\n",
       "  </tbody>\n",
       "</table></div>"
      ],
      "text/plain": [
       "                  id  deleted salutation_name     first_name  \\\n",
       "0  5f6ab5cc33d2d0c79        0             NaN         Janina   \n",
       "1  5d9f87c1cb076c044        0             Ms.  María Paulina   \n",
       "2  5da61e1528350b211        0            Mrs.        Zunilda   \n",
       "3  5da7841288a769174        0             Ms.      Alexandra   \n",
       "4  5e4f97b7ead35f796        0             NaN       Mauricio   \n",
       "\n",
       "                 last_name description                     address_street  \\\n",
       "0      Rodriguez Arancibia         NaN                                NaN   \n",
       "1         Guerrero Bonilla         NaN                 Paso Del Roble 269   \n",
       "2                    Silva         NaN  Portales 5488\\nLo Prado, Santiago   \n",
       "3     Rodriguez Norambuena         NaN               Conde Del Maule 4175   \n",
       "4  Eugenio Balbontin Oryan         NaN                                NaN   \n",
       "\n",
       "       address_city address_state address_country  ... turno  \\\n",
       "0          Santiago    Las Condes           Chile  ...   NaN   \n",
       "1          Santiago    La Florida           Chile  ...   NaN   \n",
       "2               NaN           NaN           Chile  ...   NaN   \n",
       "3  Estacion Central           NaN           Chile  ...   NaN   \n",
       "4          Santiago  Lo Barnechea           Chile  ...   NaN   \n",
       "\n",
       "       created_by_id     modified_by_id   assigned_user_id horariopreferente  \\\n",
       "0             system  5ffda3398e497e70b                NaN               NaN   \n",
       "1  5d94ad31da3022bc2             system  5d94ad31da3022bc2               NaN   \n",
       "2  5d94ad31da3022bc2                  1  5d94ad31da3022bc2               NaN   \n",
       "3  5d921a0defd6b2274             system  5d921a0defd6b2274               NaN   \n",
       "4             system  5ffda3398e497e70b                NaN               NaN   \n",
       "\n",
       "  division ubicacion                         email chkeorut  \\\n",
       "0      NaN       NaN                           NaN    False   \n",
       "1      NaN       NaN        mguerrerob17@gmail.com    False   \n",
       "2      NaN       NaN  lauranicolepinilla@gmail.com    False   \n",
       "3      NaN       NaN     alexandrarodn@hotmail.com    False   \n",
       "4      NaN       NaN          macura@manquehue.net    False   \n",
       "\n",
       "                                   LLave_Empresa  \n",
       "0     Prueba Testing 4 Life Seguros De Vida S.A.  \n",
       "1                Metlife Holding Metlife Metlife  \n",
       "2                Metlife Holding Metlife Metlife  \n",
       "3  Colaboradores Care Assistance Care Assistance  \n",
       "4                           Prueba Testing 4Life  \n",
       "\n",
       "[5 rows x 36 columns]"
      ]
     },
     "execution_count": 24,
     "metadata": {},
     "output_type": "execute_result"
    }
   ],
   "source": [
    "si_verdad.head()"
   ]
  },
  {
   "cell_type": "code",
   "execution_count": 25,
   "metadata": {},
   "outputs": [
    {
     "data": {
      "text/plain": [
       "(792973, 36)"
      ]
     },
     "execution_count": 25,
     "metadata": {},
     "output_type": "execute_result"
    }
   ],
   "source": [
    "si_verdad.shape"
   ]
  },
  {
   "cell_type": "code",
   "execution_count": 26,
   "metadata": {},
   "outputs": [
    {
     "data": {
      "text/plain": [
       "(5616, 4)"
      ]
     },
     "execution_count": 26,
     "metadata": {},
     "output_type": "execute_result"
    }
   ],
   "source": [
    "dato_sf = \"C:/Users/jmartinez/Desktop/validaciones/enviados/empresas_nuevas.xlsx\"\n",
    "empresas_nuevas = pd.read_excel(dato_sf)\n",
    "empresas_nuevas.shape"
   ]
  },
  {
   "cell_type": "code",
   "execution_count": 27,
   "metadata": {},
   "outputs": [],
   "source": [
    "empresas_nuevas['llave'] = empresas_nuevas['CLIENTE'].astype(str) + \" \" + empresas_nuevas['Holding'].astype(str) + \" \" + empresas_nuevas['empresas'].astype(str)"
   ]
  },
  {
   "cell_type": "code",
   "execution_count": 28,
   "metadata": {},
   "outputs": [
    {
     "data": {
      "text/plain": [
       "(5616, 5)"
      ]
     },
     "execution_count": 28,
     "metadata": {},
     "output_type": "execute_result"
    }
   ],
   "source": [
    "empresas_nuevas.shape"
   ]
  },
  {
   "cell_type": "code",
   "execution_count": 31,
   "metadata": {},
   "outputs": [
    {
     "data": {
      "text/html": [
       "<div><div id=2025caa6-d7f3-4635-a4c3-1a24643c60a4 style=\"display:none; background-color:#9D6CFF; color:white; width:200px; height:30px; padding-left:5px; border-radius:4px; flex-direction:row; justify-content:space-around; align-items:center;\" onmouseover=\"this.style.backgroundColor='#BA9BF8'\" onmouseout=\"this.style.backgroundColor='#9D6CFF'\" onclick=\"window.commands?.execute('create-mitosheet-from-dataframe-output');\">See Full Dataframe in Mito</div> <script> if (window.commands?.hasCommand('create-mitosheet-from-dataframe-output')) document.getElementById('2025caa6-d7f3-4635-a4c3-1a24643c60a4').style.display = 'flex' </script> <table border=\"1\" class=\"dataframe\">\n",
       "  <thead>\n",
       "    <tr style=\"text-align: right;\">\n",
       "      <th></th>\n",
       "      <th>llave</th>\n",
       "      <th>Clave</th>\n",
       "    </tr>\n",
       "  </thead>\n",
       "  <tbody>\n",
       "    <tr>\n",
       "      <th>0</th>\n",
       "      <td>Contufuturo Holding Contufuturo A3Arq Spa.</td>\n",
       "      <td>EMP1</td>\n",
       "    </tr>\n",
       "    <tr>\n",
       "      <th>1</th>\n",
       "      <td>Contufuturo Holding Contufuturo A3D Chile S.A.</td>\n",
       "      <td>EMP2</td>\n",
       "    </tr>\n",
       "    <tr>\n",
       "      <th>2</th>\n",
       "      <td>Contufuturo Holding Contufuturo Abastecedora De Cristales Vmglass S.A.</td>\n",
       "      <td>EMP3</td>\n",
       "    </tr>\n",
       "    <tr>\n",
       "      <th>3</th>\n",
       "      <td>Contufuturo Holding Contufuturo Abastecedora De Supermercado S.A.</td>\n",
       "      <td>EMP4</td>\n",
       "    </tr>\n",
       "    <tr>\n",
       "      <th>4</th>\n",
       "      <td>Consalud Holding Consalud Acf Nitrato</td>\n",
       "      <td>EMP5</td>\n",
       "    </tr>\n",
       "  </tbody>\n",
       "</table></div>"
      ],
      "text/plain": [
       "                                               llave Clave\n",
       "0         Contufuturo Holding Contufuturo A3Arq Spa.  EMP1\n",
       "1     Contufuturo Holding Contufuturo A3D Chile S.A.  EMP2\n",
       "2  Contufuturo Holding Contufuturo Abastecedora D...  EMP3\n",
       "3  Contufuturo Holding Contufuturo Abastecedora D...  EMP4\n",
       "4              Consalud Holding Consalud Acf Nitrato  EMP5"
      ]
     },
     "execution_count": 31,
     "metadata": {},
     "output_type": "execute_result"
    }
   ],
   "source": [
    "empresas_nuevas2 = empresas_nuevas[['llave','Clave']]\n",
    "empresas_nuevas2.head()"
   ]
  }
 ],
 "metadata": {
  "kernelspec": {
   "display_name": "Mito",
   "language": "python",
   "name": "python3"
  },
  "language_info": {
   "codemirror_mode": {
    "name": "ipython",
    "version": 3
   },
   "file_extension": ".py",
   "mimetype": "text/x-python",
   "name": "python",
   "nbconvert_exporter": "python",
   "pygments_lexer": "ipython3",
   "version": "3.10.6"
  },
  "orig_nbformat": 4,
  "vscode": {
   "interpreter": {
    "hash": "8ca7c6c0b372e79d1b046e97089bf0eca059102913bf5fbce589f25f1f28c438"
   }
  }
 },
 "nbformat": 4,
 "nbformat_minor": 2
}
