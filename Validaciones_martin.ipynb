{
 "cells": [
  {
   "cell_type": "code",
   "execution_count": 30,
   "metadata": {},
   "outputs": [],
   "source": [
    "import pandas as pd\n",
    "import numpy as np"
   ]
  },
  {
   "cell_type": "code",
   "execution_count": 31,
   "metadata": {},
   "outputs": [],
   "source": [
    "pacientes_arriba1 = \"C:/Users/jmartinez/Desktop/validaciones/enviados/Pacientes1.xlsx\"\n",
    "pacientes_arriba2 = \"C:/Users/jmartinez/Desktop/validaciones/enviados/Pacientes2.xlsx\"\n",
    "pacientes_arriba3 = \"C:/Users/jmartinez/Desktop/validaciones/enviados/Pacientes3.xlsx\"\n",
    "pacientes_arriba4 = \"C:/Users/jmartinez/Desktop/validaciones/enviados/Pacientes4.xlsx\"\n",
    "\n",
    "pacientes_sf1 = pd.read_excel(pacientes_arriba1) \n",
    "pacientes_sf2 = pd.read_excel(pacientes_arriba2)\n",
    "pacientes_sf3 = pd.read_excel(pacientes_arriba3)\n",
    "pacientes_sf4 = pd.read_excel(pacientes_arriba4)\n",
    "\n"
   ]
  },
  {
   "cell_type": "code",
   "execution_count": 32,
   "metadata": {},
   "outputs": [
    {
     "data": {
      "text/plain": [
       "(987, 35)"
      ]
     },
     "execution_count": 32,
     "metadata": {},
     "output_type": "execute_result"
    }
   ],
   "source": [
    "pacientes_sf1.shape"
   ]
  },
  {
   "cell_type": "code",
   "execution_count": 33,
   "metadata": {},
   "outputs": [
    {
     "data": {
      "text/plain": [
       "(13400, 37)"
      ]
     },
     "execution_count": 33,
     "metadata": {},
     "output_type": "execute_result"
    }
   ],
   "source": [
    "pacientes_sf2.shape"
   ]
  },
  {
   "cell_type": "code",
   "execution_count": 34,
   "metadata": {},
   "outputs": [
    {
     "data": {
      "text/plain": [
       "(209965, 34)"
      ]
     },
     "execution_count": 34,
     "metadata": {},
     "output_type": "execute_result"
    }
   ],
   "source": [
    "pacientes_sf3.shape"
   ]
  },
  {
   "cell_type": "code",
   "execution_count": 35,
   "metadata": {},
   "outputs": [
    {
     "data": {
      "text/plain": [
       "(630104, 28)"
      ]
     },
     "execution_count": 35,
     "metadata": {},
     "output_type": "execute_result"
    }
   ],
   "source": [
    "pacientes_sf4.shape"
   ]
  },
  {
   "cell_type": "code",
   "execution_count": 36,
   "metadata": {},
   "outputs": [],
   "source": [
    "pacientes_uni = pd.concat([pacientes_sf1, pacientes_sf2], ignore_index=True, sort=False)\n"
   ]
  },
  {
   "cell_type": "code",
   "execution_count": 37,
   "metadata": {},
   "outputs": [],
   "source": [
    "pacientes_uni2 = pd.concat([pacientes_sf4, pacientes_sf3], ignore_index=True, sort=False)"
   ]
  },
  {
   "cell_type": "code",
   "execution_count": 38,
   "metadata": {},
   "outputs": [],
   "source": [
    "pacientes_arriba = pd.concat([pacientes_uni, pacientes_uni2], ignore_index=True, sort=False)"
   ]
  },
  {
   "cell_type": "code",
   "execution_count": 39,
   "metadata": {},
   "outputs": [
    {
     "data": {
      "text/plain": [
       "(854456, 45)"
      ]
     },
     "execution_count": 39,
     "metadata": {},
     "output_type": "execute_result"
    }
   ],
   "source": [
    "pacientes_arriba.shape"
   ]
  },
  {
   "cell_type": "code",
   "execution_count": 40,
   "metadata": {},
   "outputs": [],
   "source": [
    "#pacientes_arriba.to_excel(\"C:/Users/jmartinez/Desktop/validaciones/enviados/final.xlsx\",index=False)"
   ]
  },
  {
   "cell_type": "code",
   "execution_count": 55,
   "metadata": {},
   "outputs": [
    {
     "data": {
      "text/plain": [
       "0    173805004\n",
       "1    173805004\n",
       "2    153338949\n",
       "3    182474266\n",
       "4    177735213\n",
       "Name: rut, dtype: object"
      ]
     },
     "execution_count": 55,
     "metadata": {},
     "output_type": "execute_result"
    }
   ],
   "source": [
    "pacientes_arriba.rut = pacientes_arriba['rut'].astype(str)\n",
    "pacientes_arriba['rut'] = pacientes_arriba['rut'].str.replace('-','').str.lower().str.strip()\n",
    "pacientes_arriba['rut'].head()"
   ]
  },
  {
   "cell_type": "code",
   "execution_count": 56,
   "metadata": {},
   "outputs": [
    {
     "data": {
      "text/plain": [
       "0    173805004\n",
       "1    153338949\n",
       "2    177735213\n",
       "3    169332924\n",
       "4    172957692\n",
       "Name: rut, dtype: object"
      ]
     },
     "execution_count": 56,
     "metadata": {},
     "output_type": "execute_result"
    }
   ],
   "source": [
    "dato_sf = \"C:/Users/jmartinez/Desktop/validaciones/pacientes.xlsx\"\n",
    "datos_sf = pd.read_excel(dato_sf)\n",
    "datos_sf.rut = datos_sf['rut'].astype(str)\n",
    "\n",
    "datos_sf['rut'].head()"
   ]
  },
  {
   "cell_type": "code",
   "execution_count": 58,
   "metadata": {},
   "outputs": [
    {
     "data": {
      "text/plain": [
       "0    173805004\n",
       "1    153338949\n",
       "2    177735213\n",
       "3    169332924\n",
       "4    172957692\n",
       "Name: rut, dtype: object"
      ]
     },
     "execution_count": 58,
     "metadata": {},
     "output_type": "execute_result"
    }
   ],
   "source": [
    "datos_sf['rut'] = datos_sf['rut'].str.lower()\n",
    "datos_sf['rut'].head()"
   ]
  },
  {
   "cell_type": "code",
   "execution_count": 59,
   "metadata": {},
   "outputs": [],
   "source": [
    "datos_sf['check_ruts'] = datos_sf['rut'].isin(pacientes_arriba['rut'])"
   ]
  },
  {
   "cell_type": "code",
   "execution_count": 60,
   "metadata": {},
   "outputs": [],
   "source": [
    "datos_sf.to_excel(\"C:/Users/jmartinez/Desktop/validaciones/final.xlsx\",index=False)"
   ]
  },
  {
   "cell_type": "code",
   "execution_count": 61,
   "metadata": {},
   "outputs": [],
   "source": [
    "pacientes_arriba['check_ruts'] = pacientes_arriba['rut'].isin(datos_sf['rut'])"
   ]
  },
  {
   "cell_type": "code",
   "execution_count": 62,
   "metadata": {},
   "outputs": [],
   "source": [
    "pacientes_arriba.to_excel(\"C:/Users/jmartinez/Desktop/validaciones/conok.xlsx\",index=False)"
   ]
  }
 ],
 "metadata": {
  "kernelspec": {
   "display_name": "Mito",
   "language": "python",
   "name": "python3"
  },
  "language_info": {
   "codemirror_mode": {
    "name": "ipython",
    "version": 3
   },
   "file_extension": ".py",
   "mimetype": "text/x-python",
   "name": "python",
   "nbconvert_exporter": "python",
   "pygments_lexer": "ipython3",
   "version": "3.10.6"
  },
  "orig_nbformat": 4,
  "vscode": {
   "interpreter": {
    "hash": "8ca7c6c0b372e79d1b046e97089bf0eca059102913bf5fbce589f25f1f28c438"
   }
  }
 },
 "nbformat": 4,
 "nbformat_minor": 2
}
