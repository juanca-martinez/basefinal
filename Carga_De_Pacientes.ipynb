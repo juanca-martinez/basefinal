{
 "cells": [
  {
   "cell_type": "code",
   "execution_count": null,
   "metadata": {
    "notebookRunGroups": {
     "groupValue": "1"
    }
   },
   "outputs": [],
   "source": [
    "from pathlib import Path\n",
    "import requests\n",
    "import pandas as pd\n",
    "import numpy as np\n",
    "from io import StringIO\n",
    "import shutil\n",
    "import datetime\n",
    "from datetime import datetime\n",
    "import re\n",
    "import json\n",
    "from pandas.api.types import is_numeric_dtype\n",
    "from simple_salesforce import Salesforce, format_soql, format_external_id\n",
    "import simpler_sf\n",
    "\n",
    "simpler_sf.simple_salesforce()"
   ]
  },
  {
   "cell_type": "code",
   "execution_count": null,
   "metadata": {
    "notebookRunGroups": {
     "groupValue": "1"
    }
   },
   "outputs": [],
   "source": [
    "with open(\"login.json\", \"r\") as j:\n",
    "    misDatos = json.load(j)"
   ]
  },
  {
   "cell_type": "code",
   "execution_count": null,
   "metadata": {
    "notebookRunGroups": {
     "groupValue": "1"
    }
   },
   "outputs": [],
   "source": [
    "# para smart query\n",
    "\"\"\" sf = simple_salesforce.Salesforce(\n",
    "    username=misDatos[\"username\"],\n",
    "    password=misDatos[\"password\"],\n",
    "    security_token=misDatos[\"security_token\"],\n",
    ")\n",
    " \"\"\"\n",
    "# para lo demas\n",
    "sf = Salesforce(\n",
    "    username=misDatos[\"username\"],\n",
    "    password=misDatos[\"password\"],\n",
    "    security_token=misDatos[\"security_token\"],\n",
    ")\n",
    "# paramiko.util.log_to_file(\"paramiko.log\")\n",
    "regex = re.compile(r\"([A-Za-z0-9]+[.-_])*[A-Za-z0-9]+@[A-Za-z0-9-]+(\\.[A-Z|a-z]{2,})+\")"
   ]
  },
  {
   "cell_type": "markdown",
   "metadata": {},
   "source": [
    "Descarga de empresas en sistema\n"
   ]
  },
  {
   "cell_type": "code",
   "execution_count": null,
   "metadata": {
    "notebookRunGroups": {
     "groupValue": "1"
    }
   },
   "outputs": [],
   "source": [
    "llamadaEmpresaAntiguas = \"SELECT Id,Empresa__r.Id, Empresa__r.Name, Empresa__r.Holding__c, Empresa__r.Campa_a__c, Empresa__r.Id_Empresa__c, Empresa__r.Empleador__c, Empresa__r.poliza__c, Empresa__r.RUT_Empresa__c, Empresa__r.Corredor__c,Empresa__r.Padre_Empresa__c, Name FROM Programas_por_Empresas__c WHERE Empresa__r.Padre_Empresa__c = false\"\n",
    "vllamadaEmpresa = sf.smart_query(llamadaEmpresaAntiguas)\n",
    "vllamadaEmpresa.to_excel(\"F:/Empresas SF/reportes/empresas_Antiguas.xlsx\", index=False)\n",
    "vllamadaEmpresa.head()"
   ]
  },
  {
   "cell_type": "markdown",
   "metadata": {},
   "source": [
    "vllamadaEmpresa.shape\n"
   ]
  },
  {
   "cell_type": "code",
   "execution_count": null,
   "metadata": {
    "notebookRunGroups": {
     "groupValue": "1"
    }
   },
   "outputs": [],
   "source": [
    "# Recuperar empresas ID de salesforce desde Account\n",
    "results = sf.query_all(\n",
    "    \"\"\"\n",
    "  select Id, name, Holding__c ,Campa_a__c,Id_Empresa__c,Empleador__c,poliza__c,RUT_Empresa__c  from account where ispersonaccount = false  \n",
    "    \"\"\"\n",
    ")\n",
    "Empresas_SF = pd.DataFrame(results[\"records\"])\n",
    "Empresas_SF = Empresas_SF[\n",
    "    [\n",
    "        \"Id\",\n",
    "        \"Name\",\n",
    "        \"Holding__c\",\n",
    "        \"Campa_a__c\",\n",
    "        \"Id_Empresa__c\",\n",
    "        \"Empleador__c\",\n",
    "        \"poliza__c\",\n",
    "        \"RUT_Empresa__c\",\n",
    "    ]\n",
    "]\n",
    "Empresas_SF.shape"
   ]
  },
  {
   "cell_type": "code",
   "execution_count": null,
   "metadata": {
    "notebookRunGroups": {
     "groupValue": "1"
    }
   },
   "outputs": [],
   "source": [
    "# buscar empresas desde Programas_por_Empresas__c datos de empresas\n",
    "results = sf.query_all(\n",
    "    \"\"\"\n",
    "   select Id,Empresa__c, Empresa_Padre__c,Nombre_Empresa__c, Name  from Programas_por_Empresas__c \n",
    "    \"\"\"\n",
    ")\n",
    "Programas_por_empresa_SF = pd.DataFrame(results[\"records\"])\n",
    "\n",
    "Programas_por_empresa_SF = Programas_por_empresa_SF[\n",
    "    [\"Id\", \"Empresa__c\", \"Empresa_Padre__c\", \"Nombre_Empresa__c\", \"Name\"]\n",
    "]\n",
    "Programas_por_empresa_SF.shape"
   ]
  },
  {
   "cell_type": "code",
   "execution_count": null,
   "metadata": {
    "notebookRunGroups": {
     "groupValue": "1"
    }
   },
   "outputs": [],
   "source": [
    "# Union de Programas Empresa y empresas\n",
    "Programas_empresas = pd.merge(\n",
    "    left=Empresas_SF,\n",
    "    right=Programas_por_empresa_SF,\n",
    "    how=\"left\",\n",
    "    left_on=\"Id\",\n",
    "    right_on=\"Empresa__c\",\n",
    ")\n",
    "Programas_empresas = Programas_empresas.rename(\n",
    "    columns={\n",
    "        \"Id_x\": \"Id Account Empresa\",\n",
    "        \"Name_x\": \"Nombre Empresa\",\n",
    "        \"Holding__c\": \"Holding\",\n",
    "        \"Campa_a__c\": \"Campaña\",\n",
    "        \"Empleador__c\": \"Empleador\",\n",
    "        \"poliza__c\": \"Poliza\",\n",
    "        \"RUT_Empresa__c\": \"Rut Empresa\",\n",
    "        \"Id_y\": \"Programas_por_Empresas__c\",\n",
    "        \"Id_Empresa__c\": \"Codigo EMP\",\n",
    "        \"Name_y\": \"Codigo A\",\n",
    "    }\n",
    ")\n",
    "Programas_empresas = Programas_empresas[\n",
    "    [\n",
    "        \"Id Account Empresa\",\n",
    "        \"Nombre Empresa\",\n",
    "        \"Holding\",\n",
    "        \"Campaña\",\n",
    "        \"Empleador\",\n",
    "        \"Poliza\",\n",
    "        \"Rut Empresa\",\n",
    "        \"Programas_por_Empresas__c\",\n",
    "        \"Codigo EMP\",\n",
    "        \"Codigo A\",\n",
    "    ]\n",
    "]\n",
    "\n",
    "Programas_empresas.shape"
   ]
  },
  {
   "cell_type": "code",
   "execution_count": null,
   "metadata": {
    "notebookRunGroups": {
     "groupValue": "1"
    }
   },
   "outputs": [],
   "source": [
    "Programas_empresas.to_excel(\"F:/Empresas SF/reportes/empresas.xlsx\", index=False)"
   ]
  },
  {
   "cell_type": "code",
   "execution_count": null,
   "metadata": {
    "notebookRunGroups": {
     "groupValue": "1"
    }
   },
   "outputs": [],
   "source": [
    "query2 = \"select P_liza__c, Nombre_de_Empresa__c, Rut_Empresa__c, Empresa_Padre__r.Name, Empresa__r.name,Holding__c, Plan__c, Pais__c, Activo__c, Id from Datos_Empresa__c \"\n",
    "\n",
    "df2 = sf.smart_query(query2)\n",
    "df2[\"LLave\"] = df2[\"Rut_Empresa__c\"].str.upper().str.replace(\"-\", \"\") + df2[\"P_liza__c\"]\n",
    "df2[\"dato\"] = 1\n",
    "df2.to_excel(\"F:/Empresas SF/reportes/empresas_nuevas.xlsx\", index=False)\n",
    "df2.head()"
   ]
  },
  {
   "attachments": {},
   "cell_type": "markdown",
   "metadata": {},
   "source": [
    "fin empresas y comienzo de rescate de pacientes\n"
   ]
  },
  {
   "cell_type": "code",
   "execution_count": null,
   "metadata": {
    "notebookRunGroups": {
     "groupValue": "1"
    }
   },
   "outputs": [],
   "source": [
    "# CArga de PAcientes\n",
    "results = sf.query_all(\n",
    "    \"\"\"\n",
    "    select Id, IdentificationId__pc,Name, Identification_Type__c, Ocupaci_n__c,  PersonTitle ,PersonDepartment,HealthCloudGA__Gender__pc,Phone  from Account where ispersonaccount = True \n",
    "   \"\"\"\n",
    ")\n",
    "Pacientes_SF = pd.DataFrame(results[\"records\"])\n",
    "\n",
    "Pacientes_SF = Pacientes_SF[\n",
    "    [\n",
    "        \"Id\",\n",
    "        \"IdentificationId__pc\",\n",
    "        \"Name\",\n",
    "        \"Identification_Type__c\",\n",
    "        \"Ocupaci_n__c\",\n",
    "        \"PersonTitle\",\n",
    "        \"PersonDepartment\",\n",
    "        \"HealthCloudGA__Gender__pc\",\n",
    "        \"Phone\",\n",
    "    ]\n",
    "]\n",
    "Pacientes_SF = Pacientes_SF.rename(\n",
    "    columns={\n",
    "        \"Id\": \"Id Account Paciente\",\n",
    "        \"IdentificationId__pc\": \"Rut\",\n",
    "        \"Name\": \"Nombre\",\n",
    "        \"Ocupaci_n__c\": \"Ocupacion\",\n",
    "        \"PersonTitle\": \"Cargo\",\n",
    "        \"PersonDepartment\": \"Departamento\",\n",
    "        \"HealthCloudGA__Gender__pc\": \"Sexo\",\n",
    "        \"Phone\": \"Telefono\",\n",
    "        \"Identification_Type__c\": \"Tipo de Documento\",\n",
    "    }\n",
    ")\n",
    "Pacientes_SF.shape"
   ]
  },
  {
   "attachments": {},
   "cell_type": "markdown",
   "metadata": {},
   "source": [
    "Aca se comienzan a unir las relaciones de pacientes y empresas ya creadas.\n"
   ]
  },
  {
   "cell_type": "code",
   "execution_count": null,
   "metadata": {
    "notebookRunGroups": {
     "groupValue": "1"
    }
   },
   "outputs": [],
   "source": [
    "# buscar empresas desde Paciente_Programas__c relaciones de empresas con pacientes\n",
    "results = sf.query_all(\n",
    "    \"\"\"\n",
    "    select Id,Paciente__c, Programas_por_Empresas__c,padre__c from Paciente_Programas__c  \n",
    "    \"\"\"\n",
    ")\n",
    "Paciente_Programas_SF = pd.DataFrame(results[\"records\"])\n",
    "\n",
    "Paciente_Programas_SF = Paciente_Programas_SF[\n",
    "    [\"Id\", \"Paciente__c\", \"Programas_por_Empresas__c\", \"padre__c\"]\n",
    "]\n",
    "Paciente_Programas_SF = Paciente_Programas_SF.rename(\n",
    "    columns={\n",
    "        \"Id\": \"Id Pacientes_Programas__c\",\n",
    "        \"Paciente__c\": \"Id Account\",\n",
    "        \"Programas_por_Empresas__c\": \"Programas_por_Empresas__c\",\n",
    "        \"padre__c\": \"Nombre Campaña\",\n",
    "    }\n",
    ")\n",
    "Paciente_Programas_SF.shape"
   ]
  },
  {
   "cell_type": "code",
   "execution_count": null,
   "metadata": {
    "notebookRunGroups": {
     "groupValue": "1"
    }
   },
   "outputs": [],
   "source": [
    "# Union de Pacientes Programas y Programas por empresa\n",
    "empresas_unidas = pd.merge(\n",
    "    left=Paciente_Programas_SF,\n",
    "    right=Programas_empresas,\n",
    "    how=\"left\",\n",
    "    left_on=\"Programas_por_Empresas__c\",\n",
    "    right_on=\"Programas_por_Empresas__c\",\n",
    ")\n",
    "empresas_unidas.shape"
   ]
  },
  {
   "cell_type": "code",
   "execution_count": null,
   "metadata": {
    "notebookRunGroups": {
     "groupValue": "1"
    }
   },
   "outputs": [],
   "source": [
    "empresas_unidas.head()"
   ]
  },
  {
   "attachments": {},
   "cell_type": "markdown",
   "metadata": {},
   "source": [
    "Carga de Archivo carga\n"
   ]
  },
  {
   "cell_type": "code",
   "execution_count": null,
   "metadata": {
    "tags": []
   },
   "outputs": [],
   "source": [
    "nuevos = \"F:/Empresas SF/reportes/carga.xlsx\"\n",
    "campaña = \"Vida Security\"\n",
    "Pais = \"Chile\"\n",
    "# Pais = \"México\"\n",
    "\n",
    "Pacientes_Archivo = pd.read_excel(nuevos)\n",
    "# OJO se copia rut1 a rut le saca el guoion\n",
    "Pacientes_Archivo.head(10)"
   ]
  },
  {
   "cell_type": "code",
   "execution_count": null,
   "metadata": {},
   "outputs": [],
   "source": [
    "Pacientes_Archivo[\"rut\"] = Pacientes_Archivo[\"rut1\"].astype(str)\n",
    "Pacientes_Archivo[\"rut\"] = Pacientes_Archivo[\"rut\"].str.replace(\"-\", \"\")\n",
    "\n",
    "Pacientes_Archivo[\"rut\"] = Pacientes_Archivo[\"rut\"].str.replace(\"–\", \"\")\n",
    "Pacientes_Archivo[\"rut\"] = Pacientes_Archivo[\"rut\"].astype(str)\n",
    "Pacientes_Archivo[\"rut\"] = Pacientes_Archivo[\"rut\"].str.replace(\".\", \"\")\n",
    "Pacientes_Archivo[\"rut\"] = Pacientes_Archivo[\"rut\"].str.upper()\n",
    "Pacientes_Archivo[\"rut\"] = Pacientes_Archivo[\"rut\"].str.strip()\n",
    "Pacientes_Archivo.shape"
   ]
  },
  {
   "cell_type": "code",
   "execution_count": null,
   "metadata": {},
   "outputs": [],
   "source": [
    "Pacientes_Archivo.head()"
   ]
  },
  {
   "cell_type": "code",
   "execution_count": null,
   "metadata": {},
   "outputs": [],
   "source": [
    "Pacientes_Archivo[\"rutT\"] = Pacientes_Archivo[\"rut2\"].astype(str)\n",
    "Pacientes_Archivo[\"rutT\"] = Pacientes_Archivo[\"rutT\"].str.replace(\"-\", \"\")\n",
    "Pacientes_Archivo[\"rutT\"] = Pacientes_Archivo[\"rutT\"].str.replace(\"–\", \"\")\n",
    "Pacientes_Archivo[\"rutT\"] = Pacientes_Archivo[\"rutT\"].astype(str)\n",
    "Pacientes_Archivo[\"rutT\"] = Pacientes_Archivo[\"rutT\"].str.replace(\".\", \"\")\n",
    "Pacientes_Archivo[\"rutT\"] = Pacientes_Archivo[\"rutT\"].str.upper()\n",
    "Pacientes_Archivo[\"rutT\"] = Pacientes_Archivo[\"rutT\"].str.strip()\n",
    "Pacientes_Archivo.shape"
   ]
  },
  {
   "cell_type": "code",
   "execution_count": null,
   "metadata": {},
   "outputs": [],
   "source": [
    "Pacientes_Archivo.head()"
   ]
  },
  {
   "cell_type": "code",
   "execution_count": null,
   "metadata": {},
   "outputs": [],
   "source": [
    "def siPrimerCero(y):\n",
    "    if y == \"00\":\n",
    "        return \"Nones\"\n",
    "    if y[0] == \"0\":\n",
    "        y = y[1:]\n",
    "    return y"
   ]
  },
  {
   "cell_type": "code",
   "execution_count": null,
   "metadata": {},
   "outputs": [],
   "source": [
    "Pacientes_Archivo[\"rut\"] = Pacientes_Archivo[\"rut\"].apply(lambda y: siPrimerCero(y))\n",
    "Pacientes_Archivo[\"rutT\"] = Pacientes_Archivo[\"rutT\"].apply(lambda y: siPrimerCero(y))"
   ]
  },
  {
   "cell_type": "code",
   "execution_count": null,
   "metadata": {},
   "outputs": [],
   "source": [
    "Pacientes_Archivo.shape"
   ]
  },
  {
   "cell_type": "code",
   "execution_count": null,
   "metadata": {},
   "outputs": [],
   "source": [
    "Pacientes_Archivo.drop_duplicates(\n",
    "    [\n",
    "        \"rut\",\n",
    "        \"rutT\",\n",
    "        \"Poliza\",\n",
    "    ],\n",
    "    keep=\"last\",\n",
    ")\n",
    "Pacientes_Archivo.shape"
   ]
  },
  {
   "cell_type": "code",
   "execution_count": null,
   "metadata": {},
   "outputs": [],
   "source": [
    "if (\"nombres\" in Pacientes_Archivo.columns) == True:\n",
    "    Pacientes_Archivo[\"nombres\"] = Pacientes_Archivo[\"nombres\"].str.replace(\",\", \"\")\n",
    "    Pacientes_Archivo[\"nombres\"] = Pacientes_Archivo[\"nombres\"].str.replace(\".\", \"\")\n",
    "    Pacientes_Archivo[\"nombres\"] = Pacientes_Archivo[\"nombres\"].str.replace(\"-\", \"\")\n",
    "    Pacientes_Archivo[\"nombres\"] = Pacientes_Archivo[\"nombres\"].str.title()\n",
    "    Pacientes_Archivo[\"nombres\"] = Pacientes_Archivo[\"nombres\"].str.strip()\n",
    "    # Pacientes_Archivo[\"empresa\"] = Pacientes_Archivo[\"empresa\"].str.title()\n",
    "    Pacientes_Archivo[\"apellidos\"] = Pacientes_Archivo[\"apellidos\"].str.replace(\",\", \"\")\n",
    "    Pacientes_Archivo[\"apellidos\"] = Pacientes_Archivo[\"apellidos\"].str.replace(\".\", \"\")\n",
    "    Pacientes_Archivo[\"apellidos\"] = Pacientes_Archivo[\"apellidos\"].str.replace(\"-\", \"\")\n",
    "    Pacientes_Archivo[\"apellidos\"] = Pacientes_Archivo[\"apellidos\"].str.title()\n",
    "    Pacientes_Archivo[\"apellidos\"] = Pacientes_Archivo[\"apellidos\"].str.strip()\n",
    "\n",
    "Pacientes_SF[\"Rut\"] = Pacientes_SF[\"Rut\"].apply(lambda y: siPrimerCero(y))\n",
    "Pacientes_SF[\"Rut\"] = Pacientes_SF[\"Rut\"].astype(str)\n",
    "Pacientes_SF[\"Rut\"] = Pacientes_SF[\"Rut\"].str.upper()\n",
    "Pacientes_SF[\"Rut\"] = Pacientes_SF[\"Rut\"].str.replace(\"-\", \"\")\n",
    "Pacientes_SF[\"Rut\"] = Pacientes_SF[\"Rut\"].str.replace(\"–\", \"\")\n",
    "Pacientes_SF[\"Rut\"] = Pacientes_SF[\"Rut\"].astype(str)\n",
    "Pacientes_SF[\"Rut\"] = Pacientes_SF[\"Rut\"].str.replace(\".\", \"\")\n",
    "Pacientes_SF[\"Rut\"] = Pacientes_SF[\"Rut\"].str.strip()\n",
    "\n",
    "\n",
    "Pacientes_Archivo[\"RutEstaoNo\"] = Pacientes_Archivo[\"rut\"].isin(Pacientes_SF[\"Rut\"])"
   ]
  },
  {
   "attachments": {},
   "cell_type": "markdown",
   "metadata": {},
   "source": []
  },
  {
   "cell_type": "code",
   "execution_count": null,
   "metadata": {},
   "outputs": [],
   "source": [
    "# aca a los pacientes del archivo se les asigna sus datos en SF\n",
    "Pacientes_con_id = pd.merge(\n",
    "    left=Pacientes_Archivo,\n",
    "    right=Pacientes_SF,\n",
    "    how=\"left\",\n",
    "    left_on=\"rut\",\n",
    "    right_on=\"Rut\",\n",
    ")\n",
    "Pacientes_con_id.shape"
   ]
  },
  {
   "cell_type": "code",
   "execution_count": null,
   "metadata": {},
   "outputs": [],
   "source": [
    "Pacientes_con_id.head()"
   ]
  },
  {
   "cell_type": "code",
   "execution_count": null,
   "metadata": {},
   "outputs": [],
   "source": [
    "regex = re.compile(r\"([A-Za-z0-9]+[.-_])*[A-Za-z0-9]+@[A-Za-z0-9-]+(\\.[A-Z|a-z]{2,})+\")\n",
    "\n",
    "\n",
    "def isValid(email):\n",
    "    if re.fullmatch(regex, email):\n",
    "        return email\n",
    "    else:\n",
    "        return \"\""
   ]
  },
  {
   "cell_type": "code",
   "execution_count": null,
   "metadata": {},
   "outputs": [],
   "source": [
    "# Final_pacientes_y_empresa = Pacientes_con_ID\n",
    "Subir_pacientes = pd.DataFrame()\n",
    "Subir_pacientes[\"RutEstaoNo\"] = Pacientes_con_id[\"RutEstaoNo\"]\n",
    "# agrupar = empresasqfaltan[empresasqfaltan['si']==False]\n",
    "\n",
    "\n",
    "if (\"nombres\" in Pacientes_con_id.columns) == True:\n",
    "    Subir_pacientes[\"FirstName\"] = Pacientes_con_id[\"nombres\"]\n",
    "if (\"apellidos\" in Pacientes_con_id.columns) == True:\n",
    "    Subir_pacientes[\"LastName\"] = Pacientes_con_id[\"apellidos\"]\n",
    "if (\"rut\" in Pacientes_con_id.columns) == True:\n",
    "    Subir_pacientes[\"IdentificationId__pc\"] = (\n",
    "        Pacientes_con_id[\"rut\"].astype(str).str.upper()\n",
    "    )\n",
    "\"\"\" if (\"rutT\" in Pacientes_con_id.columns) == True:\n",
    "    Subir_pacientes[\"Titulares\"] = (\n",
    "        Pacientes_con_id[\"rut\"].astype(str).str.upper()\n",
    "    ) \"\"\"\n",
    "\n",
    "if (\"email\" in Pacientes_con_id.columns) == True:\n",
    "    # Pacientes_con_id[\"email\"] = Pacientes_con_id[\"email\"].astype(str).str.lower().replace(\"nan\",\"\")\n",
    "    Subir_pacientes[\"PersonEmail\"] = Pacientes_con_id[\"email\"].astype(str).str.lower()\n",
    "    Subir_pacientes[\"PersonEmail\"] = Subir_pacientes[\"PersonEmail\"].apply(\n",
    "        lambda y: isValid(y)\n",
    "    )\n",
    "    # Subir_pacientes[\"PersonEmail\"] = Subir_pacientes[\"PersonEmail\"].str.replace(\"no informado\", \"\")\n",
    "if (\"nacimiento\" in Pacientes_con_id.columns) == True:\n",
    "    Subir_pacientes[\"PersonBirthdate\"] = Pacientes_con_id[\"nacimiento\"]\n",
    "\n",
    "if (\"sexo\" in Pacientes_con_id.columns) == True:\n",
    "    Sexo = {\n",
    "        \"H\": \"Hombre\",\n",
    "        \"m\": \"Hombre\",\n",
    "        \"Masculino\": \"Hombre\",\n",
    "        \"Femenino\": \"Mujer\",\n",
    "        \"\": \"Prefiero no responder\",\n",
    "        \"HOMBRE\": \"Hombre\",\n",
    "        \"MUJER\": \"Mujer\",\n",
    "        \"F\": \"Mujer\",\n",
    "        \"O\": \"Prefiero no responder\",\n",
    "        \"Ambos\": \"Prefiero no responder\",\n",
    "        \"N\": \"Prefiero no responder\",\n",
    "        \"Otro\": \"Prefiero no responder\",\n",
    "        \"n\": \"Prefiero no responder\",\n",
    "        \"N\": \"Prefiero no responder\",\n",
    "        \"FEMENINO\": \"Mujer\",\n",
    "        \"f\": \"Mujer\",\n",
    "        \"MASCULINO\": \"Hombre\",\n",
    "        \"m\": \"Hombre\",\n",
    "        \"M \": \"Hombre\",\n",
    "        \"M\": \"Hombre\",\n",
    "        \"F \": \"Mujer\",\n",
    "        \"Varón\": \"Hombre\",\n",
    "        \"varon\": \"Hombre\",\n",
    "    }\n",
    "    Pacientes_con_id.replace({\"sexo\": Sexo}, inplace=True)\n",
    "    Subir_pacientes[\"HealthCloudGA__Gender__pc\"] = Pacientes_con_id[\"sexo\"]\n",
    "if (\"direccion\" in Pacientes_con_id.columns) == True:\n",
    "    Subir_pacientes[\"BillingStreet\"] = (\n",
    "        Pacientes_con_id[\"direccion\"].str.lower().replace(\"nan\", \"\")\n",
    "    )\n",
    "    # Subir_pacientes[\"BillingStreet\"] = Final_pacientes_y_empresa[\"direccion\"]\n",
    "if (\"comuna\" in Pacientes_con_id.columns) == True:\n",
    "    # Subir_pacientes[\"BillingState\"] = Final_pacientes_y_empresa[\"comuna\"]\n",
    "    Subir_pacientes[\"BillingState\"] = (\n",
    "        Pacientes_con_id[\"comuna\"].str.title().replace(\"NaN\", \"\")\n",
    "    )\n",
    "    # Subir_pacientes[\"BillingState\"] = Final_pacientes_y_empresa[\"comuna\"]\n",
    "if (\"ciudad\" in Pacientes_con_id.columns) == True:\n",
    "    # Subir_pacientes[\"BillingCity\"] = Final_pacientes_y_empresa[\"ciudad\"]\n",
    "    Subir_pacientes[\"BillingCity\"] = (\n",
    "        Pacientes_con_id[\"ciudad\"].str.title().replace(\"NaN\", \"\")\n",
    "    )\n",
    "\n",
    "if (\"cargo\" in Pacientes_con_id.columns) == True:\n",
    "    Subir_pacientes[\"PersonTitle\"] = Pacientes_con_id[\"cargo\"].str.title()\n",
    "\n",
    "if (\"division\" in Pacientes_con_id.columns) == True:\n",
    "    Subir_pacientes[\"PersonDepartment\"] = Pacientes_con_id[\"division\"].str.title()\n",
    "\n",
    "if (\"celular\" in Pacientes_con_id.columns) == True:\n",
    "    Subir_pacientes[\"Phone\"] = (\n",
    "        Pacientes_con_id[\"celular\"].apply(str).str.strip().replace(\"+\", \"\")\n",
    "    )\n",
    "    Subir_pacientes[\"Phone\"] = Subir_pacientes[\"Phone\"].str.replace(\"NaN\", \"\")\n",
    "    Subir_pacientes[\"Phone\"] = Subir_pacientes[\"Phone\"].str.replace(\"Nan\", \"\")\n",
    "    Subir_pacientes[\"Phone\"] = Subir_pacientes[\"Phone\"].str.replace(\"-\", \"\")\n",
    "    Subir_pacientes[\"Phone\"] = Subir_pacientes[\"Phone\"].str.replace(\"0\", \"\")\n",
    "    Subir_pacientes[\"Phone\"] = Subir_pacientes[\"Phone\"].str.replace(\"No Informado\", \"\")\n",
    "    Subir_pacientes[\"Phone\"] = Subir_pacientes[\"Phone\"].str.replace(\"_\", \"\")\n",
    "    Subir_pacientes[\"Phone\"] = Subir_pacientes[\"Phone\"].str.replace(\"/\", \"\")\n",
    "    Subir_pacientes[\"Phone\"] = Subir_pacientes[\"Phone\"].str.replace(\"+\", \"\")\n",
    "    Subir_pacientes[\"Phone\"] = Subir_pacientes[\"Phone\"].str.replace(\"nan\", \"\")\n",
    "    Subir_pacientes[\"Phone\"] = Subir_pacientes[\"Phone\"].str.replace(\"null\", \"\")\n",
    "    Subir_pacientes[\"Phone\"] = Subir_pacientes[\"Phone\"].str.replace(\"NULL\", \"\")\n",
    "\n",
    "\n",
    "Subir_pacientes[\"RecordTypeId\"] = \"0128c000002Byp4AAC\"\n",
    "Subir_pacientes[\"Cuenta_validada__c\"] = \"True\"\n",
    "\n",
    "\n",
    "if Pais == \"Chile\":\n",
    "    Subir_pacientes[\"BillingCountry\"] = \"Chile\"\n",
    "    Subir_pacientes[\"Identification_Type__c\"] = \"RUT\"\n",
    "    Subir_pacientes[\"Pa_s_del_Paciente__c\"] = \"a1U8c000005dAtnEAE\"\n",
    "else:\n",
    "    Subir_pacientes[\"BillingCountry\"] = \"México\"\n",
    "    Subir_pacientes[\"Identification_Type__c\"] = \"RUT\"\n",
    "    Subir_pacientes[\"Pa_s_del_Paciente__c\"] = \"a1U8c000005dAtsEAE\"\n",
    "\n",
    "\n",
    "Subir_pacientes = Subir_pacientes[Subir_pacientes[\"RutEstaoNo\"] == False]\n",
    "\n",
    "\n",
    "# Subir_pacientes.PersonEmail = Subir_pacientes.PersonEmail.fillna('')\n",
    "Subir_pacientes.to_excel(\"F:/Empresas SF/reportes/account.xlsx\", index=False)\n",
    "Subir_pacientes.head()"
   ]
  },
  {
   "cell_type": "code",
   "execution_count": 366,
   "metadata": {},
   "outputs": [],
   "source": [
    "def traerId(rut):\n",
    "    if len(rut) >= 8:\n",
    "        busquedaDatos = \"FIND {\" + rut + \"} RETURNING Account(Id,IdentificationId__pc)\"\n",
    "        derty = dict(sf.search(busquedaDatos))\n",
    "        if derty[\"searchRecords\"] != []:\n",
    "            if derty[\"searchRecords\"][0][\"attributes\"][\"type\"] == \"Account\":\n",
    "                jote = derty[\"searchRecords\"][0][\"Id\"]\n",
    "                dertyd = derty[\"searchRecords\"][0][\"IdentificationId__pc\"]\n",
    "                print(jote + \" \" + dertyd)\n",
    "                return jote\n",
    "            else:\n",
    "                print(\"no\")\n",
    "        else:\n",
    "            print(\"vacio\")\n",
    "    else:\n",
    "        return \"\"\n",
    "\n",
    "\n",
    "def agregarPaciente(listado):\n",
    "    vListado = listado.split(\",\")\n",
    "    derty = sf.Account.create(\n",
    "        {\n",
    "            \"FirstName\": vListado[0],\n",
    "            \"LastName\": vListado[1],\n",
    "            \"IdentificationId__pc\": vListado[2],\n",
    "            \"RecordTypeId\": vListado[3],\n",
    "            \"BillingCountry\": vListado[4],\n",
    "            \"Identification_Type__c\": vListado[5],\n",
    "            \"Pa_s_del_Paciente__c\": vListado[6],\n",
    "            \"Cuenta_validada__c\": True,\n",
    "            \"PersonEmail\": vListado[8],\n",
    "            \"PersonBirthdate\": vListado[9].,\n",
    "            \"HealthCloudGA__Gender__pc\": vListado[10],\n",
    "            \"Phone\": vListado[11],\n",
    "            \"BillingCity\": vListado[12],\n",
    "            \"BillingState\": vListado[13],\n",
    "            \"BillingStreet\": vListado[14],\n",
    "        }\n",
    "    )"
   ]
  },
  {
   "cell_type": "code",
   "execution_count": 367,
   "metadata": {},
   "outputs": [
    {
     "ename": "SalesforceMalformedRequest",
     "evalue": "Malformed request https://careassistance.my.salesforce.com/services/data/v42.0/sobjects/Account/. Response content: [{'message': 'No se puede eliminar el número de serie de instancia boolean del VALUE_STRING valor True o faltaría un campo obligatorio en la solicitud at [line:1, column:247]', 'errorCode': 'JSON_PARSER_ERROR'}]",
     "output_type": "error",
     "traceback": [
      "\u001b[1;31m---------------------------------------------------------------------------\u001b[0m",
      "\u001b[1;31mSalesforceMalformedRequest\u001b[0m                Traceback (most recent call last)",
      "Cell \u001b[1;32mIn[367], line 50\u001b[0m\n\u001b[0;32m     46\u001b[0m     Subir_pacientes[\u001b[38;5;124m\"\u001b[39m\u001b[38;5;124mdato_account\u001b[39m\u001b[38;5;124m\"\u001b[39m] \u001b[38;5;241m=\u001b[39m Subir_pacientes[\u001b[38;5;124m\"\u001b[39m\u001b[38;5;124mdato_account\u001b[39m\u001b[38;5;124m\"\u001b[39m] \u001b[38;5;241m+\u001b[39m \u001b[38;5;124m\"\u001b[39m\u001b[38;5;124m,\u001b[39m\u001b[38;5;124m\"\u001b[39m   \n\u001b[0;32m     48\u001b[0m \u001b[38;5;66;03m#Subir_pacientes[\"dato_account\"] =  Subir_pacientes[\"dato_account\"] =\u001b[39;00m\n\u001b[1;32m---> 50\u001b[0m Subir_pacientes[\u001b[38;5;124m\"\u001b[39m\u001b[38;5;124mId_creado\u001b[39m\u001b[38;5;124m\"\u001b[39m] \u001b[38;5;241m=\u001b[39m \u001b[43mSubir_pacientes\u001b[49m\u001b[43m[\u001b[49m\u001b[38;5;124;43m\"\u001b[39;49m\u001b[38;5;124;43mdato_account\u001b[39;49m\u001b[38;5;124;43m\"\u001b[39;49m\u001b[43m]\u001b[49m\u001b[38;5;241;43m.\u001b[39;49m\u001b[43mapply\u001b[49m\u001b[43m(\u001b[49m\n\u001b[0;32m     51\u001b[0m \u001b[43m    \u001b[49m\u001b[38;5;28;43;01mlambda\u001b[39;49;00m\u001b[43m \u001b[49m\u001b[43mx\u001b[49m\u001b[43m:\u001b[49m\u001b[43m \u001b[49m\u001b[43magregarPaciente\u001b[49m\u001b[43m(\u001b[49m\u001b[43mx\u001b[49m\u001b[43m)\u001b[49m\n\u001b[0;32m     52\u001b[0m \u001b[43m)\u001b[49m\n",
      "File \u001b[1;32mc:\\Users\\jmartinez\\.conda\\envs\\salesforce\\lib\\site-packages\\pandas\\core\\series.py:4771\u001b[0m, in \u001b[0;36mSeries.apply\u001b[1;34m(self, func, convert_dtype, args, **kwargs)\u001b[0m\n\u001b[0;32m   4661\u001b[0m \u001b[38;5;28;01mdef\u001b[39;00m \u001b[38;5;21mapply\u001b[39m(\n\u001b[0;32m   4662\u001b[0m     \u001b[38;5;28mself\u001b[39m,\n\u001b[0;32m   4663\u001b[0m     func: AggFuncType,\n\u001b[1;32m   (...)\u001b[0m\n\u001b[0;32m   4666\u001b[0m     \u001b[38;5;241m*\u001b[39m\u001b[38;5;241m*\u001b[39mkwargs,\n\u001b[0;32m   4667\u001b[0m ) \u001b[38;5;241m-\u001b[39m\u001b[38;5;241m>\u001b[39m DataFrame \u001b[38;5;241m|\u001b[39m Series:\n\u001b[0;32m   4668\u001b[0m \u001b[38;5;250m    \u001b[39m\u001b[38;5;124;03m\"\"\"\u001b[39;00m\n\u001b[0;32m   4669\u001b[0m \u001b[38;5;124;03m    Invoke function on values of Series.\u001b[39;00m\n\u001b[0;32m   4670\u001b[0m \n\u001b[1;32m   (...)\u001b[0m\n\u001b[0;32m   4769\u001b[0m \u001b[38;5;124;03m    dtype: float64\u001b[39;00m\n\u001b[0;32m   4770\u001b[0m \u001b[38;5;124;03m    \"\"\"\u001b[39;00m\n\u001b[1;32m-> 4771\u001b[0m     \u001b[38;5;28;01mreturn\u001b[39;00m \u001b[43mSeriesApply\u001b[49m\u001b[43m(\u001b[49m\u001b[38;5;28;43mself\u001b[39;49m\u001b[43m,\u001b[49m\u001b[43m \u001b[49m\u001b[43mfunc\u001b[49m\u001b[43m,\u001b[49m\u001b[43m \u001b[49m\u001b[43mconvert_dtype\u001b[49m\u001b[43m,\u001b[49m\u001b[43m \u001b[49m\u001b[43margs\u001b[49m\u001b[43m,\u001b[49m\u001b[43m \u001b[49m\u001b[43mkwargs\u001b[49m\u001b[43m)\u001b[49m\u001b[38;5;241;43m.\u001b[39;49m\u001b[43mapply\u001b[49m\u001b[43m(\u001b[49m\u001b[43m)\u001b[49m\n",
      "File \u001b[1;32mc:\\Users\\jmartinez\\.conda\\envs\\salesforce\\lib\\site-packages\\pandas\\core\\apply.py:1123\u001b[0m, in \u001b[0;36mSeriesApply.apply\u001b[1;34m(self)\u001b[0m\n\u001b[0;32m   1120\u001b[0m     \u001b[38;5;28;01mreturn\u001b[39;00m \u001b[38;5;28mself\u001b[39m\u001b[38;5;241m.\u001b[39mapply_str()\n\u001b[0;32m   1122\u001b[0m \u001b[38;5;66;03m# self.f is Callable\u001b[39;00m\n\u001b[1;32m-> 1123\u001b[0m \u001b[38;5;28;01mreturn\u001b[39;00m \u001b[38;5;28;43mself\u001b[39;49m\u001b[38;5;241;43m.\u001b[39;49m\u001b[43mapply_standard\u001b[49m\u001b[43m(\u001b[49m\u001b[43m)\u001b[49m\n",
      "File \u001b[1;32mc:\\Users\\jmartinez\\.conda\\envs\\salesforce\\lib\\site-packages\\pandas\\core\\apply.py:1174\u001b[0m, in \u001b[0;36mSeriesApply.apply_standard\u001b[1;34m(self)\u001b[0m\n\u001b[0;32m   1172\u001b[0m     \u001b[38;5;28;01melse\u001b[39;00m:\n\u001b[0;32m   1173\u001b[0m         values \u001b[38;5;241m=\u001b[39m obj\u001b[38;5;241m.\u001b[39mastype(\u001b[38;5;28mobject\u001b[39m)\u001b[38;5;241m.\u001b[39m_values\n\u001b[1;32m-> 1174\u001b[0m         mapped \u001b[38;5;241m=\u001b[39m \u001b[43mlib\u001b[49m\u001b[38;5;241;43m.\u001b[39;49m\u001b[43mmap_infer\u001b[49m\u001b[43m(\u001b[49m\n\u001b[0;32m   1175\u001b[0m \u001b[43m            \u001b[49m\u001b[43mvalues\u001b[49m\u001b[43m,\u001b[49m\n\u001b[0;32m   1176\u001b[0m \u001b[43m            \u001b[49m\u001b[43mf\u001b[49m\u001b[43m,\u001b[49m\n\u001b[0;32m   1177\u001b[0m \u001b[43m            \u001b[49m\u001b[43mconvert\u001b[49m\u001b[38;5;241;43m=\u001b[39;49m\u001b[38;5;28;43mself\u001b[39;49m\u001b[38;5;241;43m.\u001b[39;49m\u001b[43mconvert_dtype\u001b[49m\u001b[43m,\u001b[49m\n\u001b[0;32m   1178\u001b[0m \u001b[43m        \u001b[49m\u001b[43m)\u001b[49m\n\u001b[0;32m   1180\u001b[0m \u001b[38;5;28;01mif\u001b[39;00m \u001b[38;5;28mlen\u001b[39m(mapped) \u001b[38;5;129;01mand\u001b[39;00m \u001b[38;5;28misinstance\u001b[39m(mapped[\u001b[38;5;241m0\u001b[39m], ABCSeries):\n\u001b[0;32m   1181\u001b[0m     \u001b[38;5;66;03m# GH#43986 Need to do list(mapped) in order to get treated as nested\u001b[39;00m\n\u001b[0;32m   1182\u001b[0m     \u001b[38;5;66;03m#  See also GH#25959 regarding EA support\u001b[39;00m\n\u001b[0;32m   1183\u001b[0m     \u001b[38;5;28;01mreturn\u001b[39;00m obj\u001b[38;5;241m.\u001b[39m_constructor_expanddim(\u001b[38;5;28mlist\u001b[39m(mapped), index\u001b[38;5;241m=\u001b[39mobj\u001b[38;5;241m.\u001b[39mindex)\n",
      "File \u001b[1;32mc:\\Users\\jmartinez\\.conda\\envs\\salesforce\\lib\\site-packages\\pandas\\_libs\\lib.pyx:2924\u001b[0m, in \u001b[0;36mpandas._libs.lib.map_infer\u001b[1;34m()\u001b[0m\n",
      "Cell \u001b[1;32mIn[367], line 51\u001b[0m, in \u001b[0;36m<lambda>\u001b[1;34m(x)\u001b[0m\n\u001b[0;32m     46\u001b[0m     Subir_pacientes[\u001b[38;5;124m\"\u001b[39m\u001b[38;5;124mdato_account\u001b[39m\u001b[38;5;124m\"\u001b[39m] \u001b[38;5;241m=\u001b[39m Subir_pacientes[\u001b[38;5;124m\"\u001b[39m\u001b[38;5;124mdato_account\u001b[39m\u001b[38;5;124m\"\u001b[39m] \u001b[38;5;241m+\u001b[39m \u001b[38;5;124m\"\u001b[39m\u001b[38;5;124m,\u001b[39m\u001b[38;5;124m\"\u001b[39m   \n\u001b[0;32m     48\u001b[0m \u001b[38;5;66;03m#Subir_pacientes[\"dato_account\"] =  Subir_pacientes[\"dato_account\"] =\u001b[39;00m\n\u001b[0;32m     50\u001b[0m Subir_pacientes[\u001b[38;5;124m\"\u001b[39m\u001b[38;5;124mId_creado\u001b[39m\u001b[38;5;124m\"\u001b[39m] \u001b[38;5;241m=\u001b[39m Subir_pacientes[\u001b[38;5;124m\"\u001b[39m\u001b[38;5;124mdato_account\u001b[39m\u001b[38;5;124m\"\u001b[39m]\u001b[38;5;241m.\u001b[39mapply(\n\u001b[1;32m---> 51\u001b[0m     \u001b[38;5;28;01mlambda\u001b[39;00m x: \u001b[43magregarPaciente\u001b[49m\u001b[43m(\u001b[49m\u001b[43mx\u001b[49m\u001b[43m)\u001b[49m\n\u001b[0;32m     52\u001b[0m )\n",
      "Cell \u001b[1;32mIn[366], line 21\u001b[0m, in \u001b[0;36magregarPaciente\u001b[1;34m(listado)\u001b[0m\n\u001b[0;32m     19\u001b[0m \u001b[38;5;28;01mdef\u001b[39;00m \u001b[38;5;21magregarPaciente\u001b[39m(listado):\n\u001b[0;32m     20\u001b[0m     vListado \u001b[38;5;241m=\u001b[39m listado\u001b[38;5;241m.\u001b[39msplit(\u001b[38;5;124m\"\u001b[39m\u001b[38;5;124m,\u001b[39m\u001b[38;5;124m\"\u001b[39m)\n\u001b[1;32m---> 21\u001b[0m     derty \u001b[38;5;241m=\u001b[39m \u001b[43msf\u001b[49m\u001b[38;5;241;43m.\u001b[39;49m\u001b[43mAccount\u001b[49m\u001b[38;5;241;43m.\u001b[39;49m\u001b[43mcreate\u001b[49m\u001b[43m(\u001b[49m\n\u001b[0;32m     22\u001b[0m \u001b[43m        \u001b[49m\u001b[43m{\u001b[49m\n\u001b[0;32m     23\u001b[0m \u001b[43m            \u001b[49m\u001b[38;5;124;43m\"\u001b[39;49m\u001b[38;5;124;43mFirstName\u001b[39;49m\u001b[38;5;124;43m\"\u001b[39;49m\u001b[43m:\u001b[49m\u001b[43m \u001b[49m\u001b[43mvListado\u001b[49m\u001b[43m[\u001b[49m\u001b[38;5;241;43m0\u001b[39;49m\u001b[43m]\u001b[49m\u001b[43m,\u001b[49m\n\u001b[0;32m     24\u001b[0m \u001b[43m            \u001b[49m\u001b[38;5;124;43m\"\u001b[39;49m\u001b[38;5;124;43mLastName\u001b[39;49m\u001b[38;5;124;43m\"\u001b[39;49m\u001b[43m:\u001b[49m\u001b[43m \u001b[49m\u001b[43mvListado\u001b[49m\u001b[43m[\u001b[49m\u001b[38;5;241;43m1\u001b[39;49m\u001b[43m]\u001b[49m\u001b[43m,\u001b[49m\n\u001b[0;32m     25\u001b[0m \u001b[43m            \u001b[49m\u001b[38;5;124;43m\"\u001b[39;49m\u001b[38;5;124;43mIdentificationId__pc\u001b[39;49m\u001b[38;5;124;43m\"\u001b[39;49m\u001b[43m:\u001b[49m\u001b[43m \u001b[49m\u001b[43mvListado\u001b[49m\u001b[43m[\u001b[49m\u001b[38;5;241;43m2\u001b[39;49m\u001b[43m]\u001b[49m\u001b[43m,\u001b[49m\n\u001b[0;32m     26\u001b[0m \u001b[43m            \u001b[49m\u001b[38;5;124;43m\"\u001b[39;49m\u001b[38;5;124;43mRecordTypeId\u001b[39;49m\u001b[38;5;124;43m\"\u001b[39;49m\u001b[43m:\u001b[49m\u001b[43m \u001b[49m\u001b[43mvListado\u001b[49m\u001b[43m[\u001b[49m\u001b[38;5;241;43m3\u001b[39;49m\u001b[43m]\u001b[49m\u001b[43m,\u001b[49m\n\u001b[0;32m     27\u001b[0m \u001b[43m            \u001b[49m\u001b[38;5;124;43m\"\u001b[39;49m\u001b[38;5;124;43mBillingCountry\u001b[39;49m\u001b[38;5;124;43m\"\u001b[39;49m\u001b[43m:\u001b[49m\u001b[43m \u001b[49m\u001b[43mvListado\u001b[49m\u001b[43m[\u001b[49m\u001b[38;5;241;43m4\u001b[39;49m\u001b[43m]\u001b[49m\u001b[43m,\u001b[49m\n\u001b[0;32m     28\u001b[0m \u001b[43m            \u001b[49m\u001b[38;5;124;43m\"\u001b[39;49m\u001b[38;5;124;43mIdentification_Type__c\u001b[39;49m\u001b[38;5;124;43m\"\u001b[39;49m\u001b[43m:\u001b[49m\u001b[43m \u001b[49m\u001b[43mvListado\u001b[49m\u001b[43m[\u001b[49m\u001b[38;5;241;43m5\u001b[39;49m\u001b[43m]\u001b[49m\u001b[43m,\u001b[49m\n\u001b[0;32m     29\u001b[0m \u001b[43m            \u001b[49m\u001b[38;5;124;43m\"\u001b[39;49m\u001b[38;5;124;43mPa_s_del_Paciente__c\u001b[39;49m\u001b[38;5;124;43m\"\u001b[39;49m\u001b[43m:\u001b[49m\u001b[43m \u001b[49m\u001b[43mvListado\u001b[49m\u001b[43m[\u001b[49m\u001b[38;5;241;43m6\u001b[39;49m\u001b[43m]\u001b[49m\u001b[43m,\u001b[49m\n\u001b[0;32m     30\u001b[0m \u001b[43m            \u001b[49m\u001b[38;5;124;43m\"\u001b[39;49m\u001b[38;5;124;43mCuenta_validada__c\u001b[39;49m\u001b[38;5;124;43m\"\u001b[39;49m\u001b[43m:\u001b[49m\u001b[43m \u001b[49m\u001b[43mvListado\u001b[49m\u001b[43m[\u001b[49m\u001b[38;5;241;43m7\u001b[39;49m\u001b[43m]\u001b[49m\u001b[43m,\u001b[49m\n\u001b[0;32m     31\u001b[0m \u001b[43m            \u001b[49m\u001b[38;5;124;43m\"\u001b[39;49m\u001b[38;5;124;43mPersonEmail\u001b[39;49m\u001b[38;5;124;43m\"\u001b[39;49m\u001b[43m:\u001b[49m\u001b[43m \u001b[49m\u001b[43mvListado\u001b[49m\u001b[43m[\u001b[49m\u001b[38;5;241;43m8\u001b[39;49m\u001b[43m]\u001b[49m\u001b[43m,\u001b[49m\n\u001b[0;32m     32\u001b[0m \u001b[43m            \u001b[49m\u001b[38;5;124;43m\"\u001b[39;49m\u001b[38;5;124;43mPersonBirthdate\u001b[39;49m\u001b[38;5;124;43m\"\u001b[39;49m\u001b[43m:\u001b[49m\u001b[43m \u001b[49m\u001b[43mvListado\u001b[49m\u001b[43m[\u001b[49m\u001b[38;5;241;43m9\u001b[39;49m\u001b[43m]\u001b[49m\u001b[43m,\u001b[49m\n\u001b[0;32m     33\u001b[0m \u001b[43m            \u001b[49m\u001b[38;5;124;43m\"\u001b[39;49m\u001b[38;5;124;43mHealthCloudGA__Gender__pc\u001b[39;49m\u001b[38;5;124;43m\"\u001b[39;49m\u001b[43m:\u001b[49m\u001b[43m \u001b[49m\u001b[43mvListado\u001b[49m\u001b[43m[\u001b[49m\u001b[38;5;241;43m10\u001b[39;49m\u001b[43m]\u001b[49m\u001b[43m,\u001b[49m\n\u001b[0;32m     34\u001b[0m \u001b[43m            \u001b[49m\u001b[38;5;124;43m\"\u001b[39;49m\u001b[38;5;124;43mPhone\u001b[39;49m\u001b[38;5;124;43m\"\u001b[39;49m\u001b[43m:\u001b[49m\u001b[43m \u001b[49m\u001b[43mvListado\u001b[49m\u001b[43m[\u001b[49m\u001b[38;5;241;43m11\u001b[39;49m\u001b[43m]\u001b[49m\u001b[43m,\u001b[49m\n\u001b[0;32m     35\u001b[0m \u001b[43m            \u001b[49m\u001b[38;5;124;43m\"\u001b[39;49m\u001b[38;5;124;43mBillingCity\u001b[39;49m\u001b[38;5;124;43m\"\u001b[39;49m\u001b[43m:\u001b[49m\u001b[43m \u001b[49m\u001b[43mvListado\u001b[49m\u001b[43m[\u001b[49m\u001b[38;5;241;43m12\u001b[39;49m\u001b[43m]\u001b[49m\u001b[43m,\u001b[49m\n\u001b[0;32m     36\u001b[0m \u001b[43m            \u001b[49m\u001b[38;5;124;43m\"\u001b[39;49m\u001b[38;5;124;43mBillingState\u001b[39;49m\u001b[38;5;124;43m\"\u001b[39;49m\u001b[43m:\u001b[49m\u001b[43m \u001b[49m\u001b[43mvListado\u001b[49m\u001b[43m[\u001b[49m\u001b[38;5;241;43m13\u001b[39;49m\u001b[43m]\u001b[49m\u001b[43m,\u001b[49m\n\u001b[0;32m     37\u001b[0m \u001b[43m            \u001b[49m\u001b[38;5;124;43m\"\u001b[39;49m\u001b[38;5;124;43mBillingStreet\u001b[39;49m\u001b[38;5;124;43m\"\u001b[39;49m\u001b[43m:\u001b[49m\u001b[43m \u001b[49m\u001b[43mvListado\u001b[49m\u001b[43m[\u001b[49m\u001b[38;5;241;43m14\u001b[39;49m\u001b[43m]\u001b[49m\u001b[43m,\u001b[49m\n\u001b[0;32m     38\u001b[0m \u001b[43m        \u001b[49m\u001b[43m}\u001b[49m\n\u001b[0;32m     39\u001b[0m \u001b[43m    \u001b[49m\u001b[43m)\u001b[49m\n",
      "File \u001b[1;32mc:\\Users\\jmartinez\\.conda\\envs\\salesforce\\lib\\site-packages\\simple_salesforce\\api.py:776\u001b[0m, in \u001b[0;36mSFType.create\u001b[1;34m(self, data, headers)\u001b[0m\n\u001b[0;32m    765\u001b[0m \u001b[38;5;28;01mdef\u001b[39;00m \u001b[38;5;21mcreate\u001b[39m(\u001b[38;5;28mself\u001b[39m, data, headers\u001b[38;5;241m=\u001b[39m\u001b[38;5;28;01mNone\u001b[39;00m):\n\u001b[0;32m    766\u001b[0m \u001b[38;5;250m    \u001b[39m\u001b[38;5;124;03m\"\"\"Creates a new SObject using a POST to `.../{object_name}/`.\u001b[39;00m\n\u001b[0;32m    767\u001b[0m \n\u001b[0;32m    768\u001b[0m \u001b[38;5;124;03m    Returns a dict decoded from the JSON payload returned by Salesforce.\u001b[39;00m\n\u001b[1;32m   (...)\u001b[0m\n\u001b[0;32m    774\u001b[0m \u001b[38;5;124;03m    * headers -- a dict with additional request headers.\u001b[39;00m\n\u001b[0;32m    775\u001b[0m \u001b[38;5;124;03m    \"\"\"\u001b[39;00m\n\u001b[1;32m--> 776\u001b[0m     result \u001b[38;5;241m=\u001b[39m \u001b[38;5;28;43mself\u001b[39;49m\u001b[38;5;241;43m.\u001b[39;49m\u001b[43m_call_salesforce\u001b[49m\u001b[43m(\u001b[49m\n\u001b[0;32m    777\u001b[0m \u001b[43m        \u001b[49m\u001b[43mmethod\u001b[49m\u001b[38;5;241;43m=\u001b[39;49m\u001b[38;5;124;43m'\u001b[39;49m\u001b[38;5;124;43mPOST\u001b[39;49m\u001b[38;5;124;43m'\u001b[39;49m\u001b[43m,\u001b[49m\u001b[43m \u001b[49m\u001b[43murl\u001b[49m\u001b[38;5;241;43m=\u001b[39;49m\u001b[38;5;28;43mself\u001b[39;49m\u001b[38;5;241;43m.\u001b[39;49m\u001b[43mbase_url\u001b[49m\u001b[43m,\u001b[49m\n\u001b[0;32m    778\u001b[0m \u001b[43m        \u001b[49m\u001b[43mdata\u001b[49m\u001b[38;5;241;43m=\u001b[39;49m\u001b[43mjson\u001b[49m\u001b[38;5;241;43m.\u001b[39;49m\u001b[43mdumps\u001b[49m\u001b[43m(\u001b[49m\u001b[43mdata\u001b[49m\u001b[43m)\u001b[49m\u001b[43m,\u001b[49m\u001b[43m \u001b[49m\u001b[43mheaders\u001b[49m\u001b[38;5;241;43m=\u001b[39;49m\u001b[43mheaders\u001b[49m\n\u001b[0;32m    779\u001b[0m \u001b[43m    \u001b[49m\u001b[43m)\u001b[49m\n\u001b[0;32m    780\u001b[0m     \u001b[38;5;28;01mreturn\u001b[39;00m result\u001b[38;5;241m.\u001b[39mjson(object_pairs_hook\u001b[38;5;241m=\u001b[39mOrderedDict)\n",
      "File \u001b[1;32mc:\\Users\\jmartinez\\.conda\\envs\\salesforce\\lib\\site-packages\\simple_salesforce\\api.py:908\u001b[0m, in \u001b[0;36mSFType._call_salesforce\u001b[1;34m(self, method, url, **kwargs)\u001b[0m\n\u001b[0;32m    905\u001b[0m result \u001b[38;5;241m=\u001b[39m \u001b[38;5;28mself\u001b[39m\u001b[38;5;241m.\u001b[39msession\u001b[38;5;241m.\u001b[39mrequest(method, url, headers\u001b[38;5;241m=\u001b[39mheaders, \u001b[38;5;241m*\u001b[39m\u001b[38;5;241m*\u001b[39mkwargs)\n\u001b[0;32m    907\u001b[0m \u001b[38;5;28;01mif\u001b[39;00m result\u001b[38;5;241m.\u001b[39mstatus_code \u001b[38;5;241m>\u001b[39m\u001b[38;5;241m=\u001b[39m \u001b[38;5;241m300\u001b[39m:\n\u001b[1;32m--> 908\u001b[0m     \u001b[43mexception_handler\u001b[49m\u001b[43m(\u001b[49m\u001b[43mresult\u001b[49m\u001b[43m,\u001b[49m\u001b[43m \u001b[49m\u001b[38;5;28;43mself\u001b[39;49m\u001b[38;5;241;43m.\u001b[39;49m\u001b[43mname\u001b[49m\u001b[43m)\u001b[49m\n\u001b[0;32m    910\u001b[0m sforce_limit_info \u001b[38;5;241m=\u001b[39m result\u001b[38;5;241m.\u001b[39mheaders\u001b[38;5;241m.\u001b[39mget(\u001b[38;5;124m'\u001b[39m\u001b[38;5;124mSforce-Limit-Info\u001b[39m\u001b[38;5;124m'\u001b[39m)\n\u001b[0;32m    911\u001b[0m \u001b[38;5;28;01mif\u001b[39;00m sforce_limit_info:\n",
      "File \u001b[1;32mc:\\Users\\jmartinez\\.conda\\envs\\salesforce\\lib\\site-packages\\simple_salesforce\\util.py:68\u001b[0m, in \u001b[0;36mexception_handler\u001b[1;34m(result, name)\u001b[0m\n\u001b[0;32m     59\u001b[0m exc_map \u001b[38;5;241m=\u001b[39m {\n\u001b[0;32m     60\u001b[0m     \u001b[38;5;241m300\u001b[39m: SalesforceMoreThanOneRecord,\n\u001b[0;32m     61\u001b[0m     \u001b[38;5;241m400\u001b[39m: SalesforceMalformedRequest,\n\u001b[1;32m   (...)\u001b[0m\n\u001b[0;32m     64\u001b[0m     \u001b[38;5;241m404\u001b[39m: SalesforceResourceNotFound,\n\u001b[0;32m     65\u001b[0m }\n\u001b[0;32m     66\u001b[0m exc_cls \u001b[38;5;241m=\u001b[39m exc_map\u001b[38;5;241m.\u001b[39mget(result\u001b[38;5;241m.\u001b[39mstatus_code, SalesforceGeneralError)\n\u001b[1;32m---> 68\u001b[0m \u001b[38;5;28;01mraise\u001b[39;00m exc_cls(result\u001b[38;5;241m.\u001b[39murl, result\u001b[38;5;241m.\u001b[39mstatus_code, name, response_content)\n",
      "\u001b[1;31mSalesforceMalformedRequest\u001b[0m: Malformed request https://careassistance.my.salesforce.com/services/data/v42.0/sobjects/Account/. Response content: [{'message': 'No se puede eliminar el número de serie de instancia boolean del VALUE_STRING valor True o faltaría un campo obligatorio en la solicitud at [line:1, column:247]', 'errorCode': 'JSON_PARSER_ERROR'}]"
     ]
    }
   ],
   "source": [
    "Subir_pacientes[\"dato_account\"] = \"\"\n",
    "if (\"FirstName\" in Subir_pacientes.columns) == True:\n",
    "    Subir_pacientes[\"dato_account\"] = Subir_pacientes[\"dato_account\"] + Subir_pacientes[\"FirstName\"].astype(str)\n",
    "if (\"LastName\" in Subir_pacientes.columns) == True:\n",
    "    Subir_pacientes[\"dato_account\"] = Subir_pacientes[\"dato_account\"] + \",\" + Subir_pacientes[\"LastName\"].astype(str)\n",
    "if (\"IdentificationId__pc\" in Subir_pacientes.columns) == True:\n",
    "    Subir_pacientes[\"dato_account\"] = Subir_pacientes[\"dato_account\"] + \",\" + Subir_pacientes[\"IdentificationId__pc\"].astype(str)\n",
    "if (\"RecordTypeId\" in Subir_pacientes.columns) == True:\n",
    "    Subir_pacientes[\"dato_account\"] = Subir_pacientes[\"dato_account\"] + \",\" + Subir_pacientes[\"RecordTypeId\"].astype(str)\n",
    "if (\"BillingCountry\" in Subir_pacientes.columns) == True:\n",
    "    Subir_pacientes[\"dato_account\"] = Subir_pacientes[\"dato_account\"] + \",\" + Subir_pacientes[\"BillingCountry\"].astype(str)\n",
    "if (\"Identification_Type__c\" in Subir_pacientes.columns) == True:\n",
    "    Subir_pacientes[\"dato_account\"] = Subir_pacientes[\"dato_account\"] + \",\" + Subir_pacientes[\"Identification_Type__c\"].astype(str)\n",
    "if (\"Pa_s_del_Paciente__c\" in Subir_pacientes.columns) == True:\n",
    "    Subir_pacientes[\"dato_account\"] = Subir_pacientes[\"dato_account\"] + \",\" + Subir_pacientes[\"Pa_s_del_Paciente__c\"].astype(str)\n",
    "if (\"Cuenta_validada__c\" in Subir_pacientes.columns) == True:\n",
    "    Subir_pacientes[\"dato_account\"] = Subir_pacientes[\"dato_account\"] + \",\" + Subir_pacientes[\"Cuenta_validada__c\"].astype(str)\n",
    "\n",
    "if (\"PersonEmail\" in Subir_pacientes.columns) == True:\n",
    "    Subir_pacientes[\"dato_account\"] = Subir_pacientes[\"dato_account\"] + \",\" + Subir_pacientes[\"PersonEmail\"].astype(str)\n",
    "else:\n",
    "    Subir_pacientes[\"dato_account\"] = Subir_pacientes[\"dato_account\"] + \",\" \n",
    "if (\"PersonBirthdate\" in Subir_pacientes.columns) == True:\n",
    "    Subir_pacientes[\"dato_account\"] = Subir_pacientes[\"dato_account\"] + \",\" + Subir_pacientes[\"PersonBirthdate\"].astype(str)\n",
    "else:\n",
    "    Subir_pacientes[\"dato_account\"] = Subir_pacientes[\"dato_account\"] + \",\"      \n",
    "if (\"HealthCloudGA__Gender__pc\" in Subir_pacientes.columns) == True:\n",
    "    Subir_pacientes[\"dato_account\"] = Subir_pacientes[\"dato_account\"] + \",\" + Subir_pacientes[\"HealthCloudGA__Gender__pc\"].astype(str)\n",
    "else:\n",
    "    Subir_pacientes[\"dato_account\"] = Subir_pacientes[\"dato_account\"] + \",\"  \n",
    "if (\"Phone\" in Subir_pacientes.columns) == True:\n",
    "    Subir_pacientes[\"dato_account\"] = Subir_pacientes[\"dato_account\"] + \",\" + Subir_pacientes[\"Phone\"].astype(str)\n",
    "else:\n",
    "    Subir_pacientes[\"dato_account\"] = Subir_pacientes[\"dato_account\"] + \",\"   \n",
    "if (\"BillingCity\" in Subir_pacientes.columns) == True:\n",
    "    Subir_pacientes[\"dato_account\"] = Subir_pacientes[\"dato_account\"] + \",\" + Subir_pacientes[\"BillingCity\"].astype(str)\n",
    "else:\n",
    "    Subir_pacientes[\"dato_account\"] = Subir_pacientes[\"dato_account\"] + \",\"  \n",
    "if (\"BillingState\" in Subir_pacientes.columns) == True:\n",
    "    Subir_pacientes[\"dato_account\"] = Subir_pacientes[\"dato_account\"] + \",\" + Subir_pacientes[\"BillingState\"].astype(str)\n",
    "else:\n",
    "    Subir_pacientes[\"dato_account\"] = Subir_pacientes[\"dato_account\"] + \",\"  \n",
    "if (\"BillingStreet\" in Subir_pacientes.columns) == True:\n",
    "    Subir_pacientes[\"dato_account\"] = Subir_pacientes[\"dato_account\"] + \",\" + Subir_pacientes[\"BillingStreet\"].astype(str) \n",
    "else:\n",
    "    Subir_pacientes[\"dato_account\"] = Subir_pacientes[\"dato_account\"] + \",\"   \n",
    "\n",
    "#Subir_pacientes[\"dato_account\"] =  Subir_pacientes[\"dato_account\"] =\n",
    "\n",
    "Subir_pacientes[\"Id_creado\"] = Subir_pacientes[\"dato_account\"].apply(\n",
    "    lambda x: agregarPaciente(x)\n",
    ")\n",
    "\n"
   ]
  },
  {
   "cell_type": "code",
   "execution_count": null,
   "metadata": {},
   "outputs": [],
   "source": [
    "query2 = \"select P_liza__c, Nombre_de_Empresa__c, Rut_Empresa__c, Empresa_Padre__r.Name, Empresa__r.name,Holding__c, Plan__c, Pais__c, Activo__c, Id from Datos_Empresa__c \"\n",
    "\n",
    "df2 = sf.smart_query(query2)\n",
    "df2.to_excel(\"F:/Empresas SF/reportes/empresas_nuevas.xlsx\", index=False)\n",
    "df2.head()"
   ]
  },
  {
   "cell_type": "code",
   "execution_count": null,
   "metadata": {},
   "outputs": [],
   "source": [
    "Subir_pacientes[\"Id\"] = Subir_pacientes[\"IdentificationId__pc\"].apply(\n",
    "    lambda y: traerId(y)\n",
    ")"
   ]
  },
  {
   "cell_type": "code",
   "execution_count": null,
   "metadata": {},
   "outputs": [],
   "source": []
  },
  {
   "cell_type": "code",
   "execution_count": null,
   "metadata": {},
   "outputs": [],
   "source": [
    "Subir_pacientes.to_excel(\"F:/Empresas SF/reportes/111account.xlsx\", index=False)"
   ]
  },
  {
   "cell_type": "code",
   "execution_count": null,
   "metadata": {},
   "outputs": [],
   "source": [
    "\"\"\" Subir_pacientes[\"Id\"] = Subir_pacientes[\"IdentificationId__pc\"].apply(\n",
    "    lambda y: traerId(y)\n",
    ") \"\"\"\n",
    "Subir_pacientes[\"dato_account\"] = Subir_pacientes[\"FirstName\"] + \",\" + Subir_pacientes[\"IdentificationId__pc\"] + \",\" + Subir_pacientes[\"PersonEmail\"] + \",\" \n",
    "Subir_pacientes[\"dato_account\"] = Subir_pacientes[\"dato_account\"] + Subir_pacientes[\"PersonBirthdate\"] + \",\" + Subir_pacientes[\"HealthCloudGA__Gender__pc\"] + \",\" + Subir_pacientes[\"Cuenta_validada__c\"] + \",\" \n",
    "Subir_pacientes[\"dato_account\"] = Subir_pacientes[\"dato_account\"] + Subir_pacientes[\"Phone\"] + \",\" + Subir_pacientes[\"BillingCity\"] + \",\" + Subir_pacientes[\"BillingState\"] + \",\"\n",
    "Subir_pacientes[\"dato_account\"] = Subir_pacientes[\"dato_account\"] + Subir_pacientes[\"BillingStreet\"] + \",\" + Subir_pacientes[\"RecordTypeId\"] + \",\" + Subir_pacientes[\"Identification_Type__c\"] + \",\" +\n",
    "Subir_pacientes[\"dato_account\"] = Subir_pacientes[\"dato_account\"] + Subir_pacientes[\"BillingCountry\"] + \",\" + Subir_pacientes[\"Pa_s_del_Paciente__c\"] \n",
    "\n",
    "\n",
    "#sf.Contact.create({\"LastName\": \"Smith\", \"Email\": \"example@example.com\"})\n",
    "Subir_pacientes.head()"
   ]
  },
  {
   "cell_type": "code",
   "execution_count": null,
   "metadata": {},
   "outputs": [],
   "source": [
    "derty = Subir_pacientes[\"IdentificationId__pc\"]\n",
    "sf.Contact.create({\"IdentificationId__pc\": \"derty\", \"Email\": \"example@example.com\"})"
   ]
  },
  {
   "cell_type": "code",
   "execution_count": null,
   "metadata": {},
   "outputs": [],
   "source": [
    "Subir_pacientes.head()"
   ]
  },
  {
   "cell_type": "code",
   "execution_count": null,
   "metadata": {},
   "outputs": [],
   "source": [
    "Subir_pacientes.head()\n",
    "Subir_pacientes.to_excel(\"F:/Empresas SF/reportes/account__l.xlsx\", index=False)"
   ]
  },
  {
   "cell_type": "code",
   "execution_count": null,
   "metadata": {},
   "outputs": [],
   "source": [
    "\"\"\" if campaña != \"MetLife\":\n",
    "    pacientes_en_campaña = pd.merge(\n",
    "        left=campaña_seleccionada,\n",
    "        right=Pacientes_con_id,\n",
    "        how=\"left\",\n",
    "        left_on=\"Id Account\",\n",
    "        right_on=\"Id Account Paciente\",\n",
    "    )\n",
    "    pacientes_en_campaña[\"Paciente__c\"] = \"Id Pacientes\"\n",
    "    pacientes_en_campaña[\"Programas_por_Empresas__c\"] = \"Id Programas Por empresa\"\n",
    "    pacientes_en_campaña.to_excel(\n",
    "        \"F:/Empresas SF/reportes/campaña_empresa.xlsx\", index=False\n",
    "    )\n",
    "    campaña_en_pacientes = pd.merge(\n",
    "        left=Pacientes_con_id,\n",
    "        right=campaña_seleccionada,\n",
    "        how=\"left\",\n",
    "        left_on=\"Id Account Paciente\",\n",
    "        right_on=\"Id Account\",\n",
    "    )\n",
    "    campaña_en_pacientes.to_excel(\n",
    "        \"F:/Empresas SF/reportes/archivo_campaña.xlsx\", index=False\n",
    "    )\n",
    " \"\"\""
   ]
  },
  {
   "cell_type": "code",
   "execution_count": null,
   "metadata": {},
   "outputs": [],
   "source": [
    "\"\"\" if campaña != \"MetLife1\":\n",
    "    campaña_en_pacientes = pd.merge(\n",
    "        left=Pacientes_con_id,\n",
    "        right=campaña_seleccionada,\n",
    "        how=\"left\",\n",
    "        left_on=\"Id Account Paciente\",\n",
    "        right_on=\"Id Account\",\n",
    "    )\n",
    "    if (\"poliza\" in campaña_en_pacientes.columns) == True:\n",
    "        campaña_en_pacientes[\"poliza\"] = campaña_en_pacientes[\"poliza\"].astype(str)\n",
    "\n",
    "    campaña_en_pacientes = campaña_en_pacientes.rename(\n",
    "        columns={\"Programas_por_Empresas__c\": \"programas por empresa\"}\n",
    "    )\n",
    "    campaña_en_pacientes[\"Paciente__c\"] = campaña_en_pacientes[\"Id Account Paciente\"]\n",
    "    campaña_en_pacientes[\"Programas_por_Empresas__c\"] = campaña_en_pacientes[\n",
    "        \"programas por empresa\"\n",
    "    ]\n",
    "    campaña_en_pacientes.to_excel(\n",
    "        \"F:/Empresas SF/reportes/archivo_campaña2.xlsx\", index=False\n",
    "    ) \"\"\""
   ]
  },
  {
   "cell_type": "code",
   "execution_count": null,
   "metadata": {},
   "outputs": [],
   "source": [
    "# apprix_1 = Pacientes_SF.iloc[:790552,:]\n",
    "# apprix_2 = Pacientes_SF.iloc[790553:,:]\n",
    "# apprix_1.to_excel(\"F:/Empresas SF/reportes/Ruts1.xlsx\",index=False)\n",
    "# apprix_2.to_excel(\"F:/Empresas SF/reportes/Ruts2.xlsx\",index=False)"
   ]
  },
  {
   "cell_type": "code",
   "execution_count": null,
   "metadata": {},
   "outputs": [],
   "source": [
    "campaña_en_pacientes2 = pd.merge(\n",
    "    left=Pacientes_con_id,\n",
    "    right=campaña_seleccionada,\n",
    "    how=\"left\",\n",
    "    left_on=\"Id Account Paciente\",\n",
    "    right_on=\"Id Account\",\n",
    ")\n",
    "if (\"poliza\" in campaña_en_pacientes2.columns) == True:\n",
    "    campaña_en_pacientes2[\"poliza\"] = campaña_en_pacientes2[\"poliza\"].astype(str)\n",
    "\n",
    "campaña_en_pacientes2 = campaña_en_pacientes2.rename(\n",
    "    columns={\"Programas_por_Empresas__c\": \"programas por empresa\"}\n",
    ")\n",
    "campaña_en_pacientes2[\"Paciente__c\"] = campaña_en_pacientes2[\"Id Account Paciente\"]\n",
    "campaña_en_pacientes2[\"Programas_por_Empresas__c\"] = campaña_en_pacientes2[\n",
    "    \"programas por empresa\"\n",
    "]\n",
    "\n",
    "\n",
    "\"\"\" campaña_en_pacientes2 = campaña_en_pacientes2[\n",
    "    (campaña_en_pacientes2[\"Programas_por_Empresas__c\"] == \"\")] \"\"\"\n",
    "campaña_en_pacientes2[\"Esta\"] = campaña_en_pacientes2[\"programas por empresa\"].isnull()\n",
    "campaña_en_pacientes2 = campaña_en_pacientes2[campaña_en_pacientes2[\"Esta\"]]\n",
    "campaña_en_pacientes2.to_excel(\n",
    "    \"F:/Empresas SF/reportes/archivo_campaña3.xlsx\", index=False\n",
    ")"
   ]
  },
  {
   "cell_type": "code",
   "execution_count": null,
   "metadata": {},
   "outputs": [],
   "source": [
    "campaña_en_pacientes2[\"rut\"].shape"
   ]
  },
  {
   "cell_type": "code",
   "execution_count": null,
   "metadata": {},
   "outputs": [],
   "source": [
    "# nuevosrutes = \"F:/Empresas SF/reportes/rut.xlsx\"\n",
    "# campaña = \"BCI Seguros Colectivos\"\n",
    "# Pais = \"Chile\"\n",
    "# Pais = \"México\"\n",
    "\n",
    "# rutes = pd.read_excel(nuevosrutes)\n",
    "rutes = pd.DataFrame(columns=[\"rut\"])\n",
    "rutes[\"rut\"] = Pacientes_Archivo[\"rut\"]\n",
    "rutes[\"rutT\"] = Pacientes_Archivo[\"rut2\"]\n",
    "rutes[\"Contratante\"] = Pacientes_Archivo[\"Contratante\"]\n",
    "# rutes[\"poliza\"] = Pacientes_Archivo[\"poliza\"]\n",
    "rutes.head()"
   ]
  },
  {
   "cell_type": "code",
   "execution_count": null,
   "metadata": {},
   "outputs": [],
   "source": [
    "rutes[\"rut\"] = rutes[\"rut\"].astype(str)\n",
    "rutes[\"rut\"] = rutes[\"rut\"].str.replace(\".\", \"\")\n",
    "rutes[\"rut\"] = rutes[\"rut\"].str.replace(\"-\", \"\")\n",
    "# aca se trabaja con el nuevo rut desde rut1 ojooooooo\n",
    "rutes[\"rut\"] = rutes[\"rut\"].str.upper()\n",
    "rutes[\"rut\"] = rutes[\"rut\"].str.strip()\n",
    "\n",
    "rutes[\"rutT\"] = rutes[\"rutT\"].astype(str)\n",
    "rutes[\"rutT\"] = rutes[\"rutT\"].str.replace(\".\", \"\")\n",
    "rutes[\"rutT\"] = rutes[\"rutT\"].str.replace(\"-\", \"\")\n",
    "# aca se trabaja con el nuevo rut desde rut1 ojooooooo\n",
    "rutes[\"rutT\"] = rutes[\"rutT\"].str.upper()\n",
    "rutes[\"rutT\"] = rutes[\"rutT\"].str.strip()\n",
    "\n",
    "\"\"\" rutes[\"poliza\"] = rutes[\"poliza\"].astype(str)\n",
    "rutes[\"poliza\"] = rutes[\"poliza\"].str.replace(\".\", \"\")\n",
    "rutes[\"poliza\"] = rutes[\"poliza\"].str.replace(\"-\", \"\")\n",
    "# aca se trabaja con el nuevo rut desde rut1 ojooooooo\n",
    "rutes[\"poliza\"] = rutes[\"poliza\"].str.strip() \"\"\"\n",
    "\n",
    "\n",
    "rutes.head()"
   ]
  },
  {
   "cell_type": "code",
   "execution_count": null,
   "metadata": {},
   "outputs": [],
   "source": [
    "# derty = rutes.to_numpy().transpose().tolist()\n",
    "\n",
    "\n",
    "Pacientes_SF2 = Pacientes_SF[[\"Rut\", \"Id Account Paciente\"]]"
   ]
  },
  {
   "cell_type": "code",
   "execution_count": null,
   "metadata": {},
   "outputs": [],
   "source": [
    "rutesi = pd.merge(\n",
    "    left=rutes,\n",
    "    right=Pacientes_SF2,\n",
    "    how=\"left\",\n",
    "    left_on=\"rut\",\n",
    "    right_on=\"Rut\",\n",
    ")\n",
    "rutesi.shape\n",
    "rutesi.to_excel(\"F:/Empresas SF/reportes/rutsyempresa.xlsx\", index=False)"
   ]
  },
  {
   "cell_type": "code",
   "execution_count": null,
   "metadata": {},
   "outputs": [],
   "source": [
    "rutesi.head()"
   ]
  },
  {
   "cell_type": "code",
   "execution_count": null,
   "metadata": {},
   "outputs": [],
   "source": [
    "rutesi_antg = pd.merge(\n",
    "    left=rutesi,\n",
    "    right=empresas_unidas,\n",
    "    how=\"left\",\n",
    "    left_on=\"Id Account Paciente\",\n",
    "    right_on=\"Id Account\",\n",
    ")"
   ]
  },
  {
   "cell_type": "code",
   "execution_count": null,
   "metadata": {},
   "outputs": [],
   "source": [
    "rutesi_antg.head()"
   ]
  },
  {
   "cell_type": "code",
   "execution_count": null,
   "metadata": {},
   "outputs": [],
   "source": [
    "# rutesi_antg .to_excel(\"F:/Empresas SF/reportes/ruts_empresas_antiguos.xlsx\", index=False)"
   ]
  },
  {
   "cell_type": "code",
   "execution_count": null,
   "metadata": {},
   "outputs": [],
   "source": [
    "import json\n",
    "import pandas as pd\n",
    "from simple_salesforce import Salesforce, format_soql, format_external_id\n",
    "from json import loads, dumps\n",
    "import simpler_sf\n",
    "\n",
    "simpler_sf.simple_salesforce()"
   ]
  },
  {
   "cell_type": "code",
   "execution_count": null,
   "metadata": {},
   "outputs": [],
   "source": [
    "with open(\"login.json\", \"r\") as j:\n",
    "    misDatos = json.load(j)\n",
    "sf = Salesforce(\n",
    "    username=misDatos[\"username\"],\n",
    "    password=misDatos[\"password\"],\n",
    "    security_token=misDatos[\"security_token\"],\n",
    ")"
   ]
  },
  {
   "cell_type": "code",
   "execution_count": null,
   "metadata": {},
   "outputs": [],
   "source": [
    "\"\"\" query = \"select Id, Account.Name, RutContact__c from AccountContactRelation \"\n",
    "\n",
    "df1 = sf.smart_query(query) \"\"\""
   ]
  },
  {
   "cell_type": "code",
   "execution_count": null,
   "metadata": {},
   "outputs": [],
   "source": [
    "# nuevosrutes = \"F:/Empresas SF/reportes/rut.xlsx\"\n",
    "# campaña = \"BCI Seguros Colectivos\"\n",
    "# Pais = \"Chile\"\n",
    "# Pais = \"México\"\n",
    "\n",
    "# rutes = pd.read_excel(nuevosrutes)\n",
    "# rutes = Subir_pacientes[\"rut\"]"
   ]
  },
  {
   "cell_type": "code",
   "execution_count": null,
   "metadata": {},
   "outputs": [],
   "source": [
    "\"\"\" df1.head() \"\"\""
   ]
  },
  {
   "cell_type": "code",
   "execution_count": null,
   "metadata": {},
   "outputs": [],
   "source": [
    "\"\"\" df1[\"rut\"] = df1[\"RutContact__c\"].astype(str)\n",
    "df1[\"rut\"] = df1[\"rut\"].str.replace(\".\", \"\")\n",
    "df1[\"rut\"] = df1[\"rut\"].str.replace(\n",
    "    \"-\", \"\"\n",
    ")  # aca se trabaja con el nuevo rut desde rut1 ojooooooo\n",
    "df1[\"rut\"] = df1[\"rut\"].str.upper()\n",
    "df1[\"rut\"] = df1[\"rut\"].str.strip()\n",
    "df1.head() \"\"\""
   ]
  },
  {
   "cell_type": "code",
   "execution_count": null,
   "metadata": {},
   "outputs": [],
   "source": [
    "\"\"\" rutes.head() \"\"\""
   ]
  },
  {
   "cell_type": "code",
   "execution_count": null,
   "metadata": {},
   "outputs": [],
   "source": [
    "\"\"\" rutesi = pd.merge(\n",
    "    left=rutes,\n",
    "    right=df1,\n",
    "    how=\"left\",\n",
    "    left_on=\"rut\",\n",
    "    right_on=\"rut\",\n",
    ") \"\"\""
   ]
  },
  {
   "cell_type": "code",
   "execution_count": null,
   "metadata": {},
   "outputs": [],
   "source": [
    "\"\"\" rutesi.to_excel(\"F:/Empresas SF/reportes/rutesnuevos_accountcontactrelation.xlsx\", index=False) \"\"\""
   ]
  },
  {
   "cell_type": "code",
   "execution_count": null,
   "metadata": {},
   "outputs": [],
   "source": [
    "\"\"\" df2[\"P_liza__c\"] = df2[\"P_liza__c\"].astype(str)\n",
    "df2[\"P_liza__c\"] = df2[\"P_liza__c\"].str.replace(\".\", \"\")\n",
    "df2[\"P_liza__c\"] = df2[\"P_liza__c\"].str.replace(\"-\", \"\")\n",
    "# aca se trabaja con el nuevo rut desde rut1 ojooooooo\n",
    "df2[\"P_liza__c\"] = df2[\"P_liza__c\"].str.upper()\n",
    "df2[\"P_liza__c\"] = df2[\"P_liza__c\"].str.strip() \"\"\""
   ]
  },
  {
   "cell_type": "code",
   "execution_count": null,
   "metadata": {},
   "outputs": [],
   "source": [
    "modelo_nuevo = pd.merge(\n",
    "    left=rutesi,\n",
    "    right=df2,\n",
    "    how=\"left\",\n",
    "    left_on=\"poliza\",\n",
    "    right_on=\"P_liza__c\",\n",
    ")\n",
    "modelo_nuevo.to_excel(\"F:/Empresas SF/reportes/modelo_nuevo.xlsx\", index=False)"
   ]
  },
  {
   "cell_type": "code",
   "execution_count": null,
   "metadata": {},
   "outputs": [],
   "source": [
    "modelo = pd.DataFrame()\n",
    "modelo = modelo_nuevo[[\"rutT\", \"Id Account Paciente\", \"Id\"]]"
   ]
  },
  {
   "cell_type": "code",
   "execution_count": null,
   "metadata": {},
   "outputs": [],
   "source": [
    "modelo.head()"
   ]
  }
 ],
 "metadata": {
  "kernelspec": {
   "display_name": "salesforce",
   "language": "python",
   "name": "python3"
  },
  "language_info": {
   "codemirror_mode": {
    "name": "ipython",
    "version": 3
   },
   "file_extension": ".py",
   "mimetype": "text/x-python",
   "name": "python",
   "nbconvert_exporter": "python",
   "pygments_lexer": "ipython3",
   "version": "3.8.16"
  },
  "orig_nbformat": 4,
  "vscode": {
   "interpreter": {
    "hash": "7fbccfb583f385d5cd7c75cc6ade03c09354727271e9200f47ca4e7fedb5381e"
   }
  }
 },
 "nbformat": 4,
 "nbformat_minor": 2
}
