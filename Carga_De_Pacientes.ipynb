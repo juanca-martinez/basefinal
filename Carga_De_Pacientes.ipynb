{
 "cells": [
  {
   "cell_type": "code",
   "execution_count": 424,
   "metadata": {
    "notebookRunGroups": {
     "groupValue": "1"
    }
   },
   "outputs": [],
   "source": [
    "from pathlib import Path\n",
    "import requests\n",
    "import pandas as pd\n",
    "import numpy as np\n",
    "from io import StringIO\n",
    "import shutil\n",
    "import datetime\n",
    "from datetime import datetime\n",
    "import re\n",
    "import json\n",
    "from pandas.api.types import is_numeric_dtype\n",
    "from simple_salesforce import Salesforce, format_soql, format_external_id\n",
    "from simple_salesforce.exceptions import SalesforceMalformedRequest\n",
    "import simpler_sf\n",
    "\n",
    "simpler_sf.simple_salesforce()"
   ]
  },
  {
   "cell_type": "code",
   "execution_count": 425,
   "metadata": {
    "notebookRunGroups": {
     "groupValue": "1"
    }
   },
   "outputs": [],
   "source": [
    "with open(\"login.json\", \"r\") as j:\n",
    "    misDatos = json.load(j)"
   ]
  },
  {
   "cell_type": "code",
   "execution_count": 426,
   "metadata": {
    "notebookRunGroups": {
     "groupValue": "1"
    }
   },
   "outputs": [],
   "source": [
    "# para smart query\n",
    "\"\"\" sf = simple_salesforce.Salesforce(\n",
    "    username=misDatos[\"username\"],\n",
    "    password=misDatos[\"password\"],\n",
    "    security_token=misDatos[\"security_token\"],\n",
    ")\n",
    " \"\"\"\n",
    "# para lo demas\n",
    "sf = Salesforce(\n",
    "    username=misDatos[\"username\"],\n",
    "    password=misDatos[\"password\"],\n",
    "    security_token=misDatos[\"security_token\"],\n",
    ")\n",
    "# paramiko.util.log_to_file(\"paramiko.log\")\n",
    "regex = re.compile(r\"([A-Za-z0-9]+[.-_])*[A-Za-z0-9]+@[A-Za-z0-9-]+(\\.[A-Z|a-z]{2,})+\")"
   ]
  },
  {
   "cell_type": "markdown",
   "metadata": {},
   "source": [
    "Descarga de empresas en sistema\n"
   ]
  },
  {
   "cell_type": "code",
   "execution_count": 427,
   "metadata": {
    "notebookRunGroups": {
     "groupValue": "1"
    }
   },
   "outputs": [
    {
     "name": "stderr",
     "output_type": "stream",
     "text": [
      "100%|██████████| 1/1 [00:10<00:00, 10.51s/it]\n"
     ]
    },
    {
     "data": {
      "text/html": [
       "<div>\n",
       "<style scoped>\n",
       "    .dataframe tbody tr th:only-of-type {\n",
       "        vertical-align: middle;\n",
       "    }\n",
       "\n",
       "    .dataframe tbody tr th {\n",
       "        vertical-align: top;\n",
       "    }\n",
       "\n",
       "    .dataframe thead th {\n",
       "        text-align: right;\n",
       "    }\n",
       "</style>\n",
       "<table border=\"1\" class=\"dataframe\">\n",
       "  <thead>\n",
       "    <tr style=\"text-align: right;\">\n",
       "      <th></th>\n",
       "      <th>Id</th>\n",
       "      <th>Empresa__r.Id</th>\n",
       "      <th>Empresa__r.Name</th>\n",
       "      <th>Empresa__r.Holding__c</th>\n",
       "      <th>Empresa__r.Campa_a__c</th>\n",
       "      <th>Empresa__r.Id_Empresa__c</th>\n",
       "      <th>Empresa__r.Empleador__c</th>\n",
       "      <th>Empresa__r.poliza__c</th>\n",
       "      <th>Empresa__r.RUT_Empresa__c</th>\n",
       "      <th>Empresa__r.Corredor__c</th>\n",
       "      <th>Empresa__r.Padre_Empresa__c</th>\n",
       "      <th>Name</th>\n",
       "    </tr>\n",
       "  </thead>\n",
       "  <tbody>\n",
       "    <tr>\n",
       "      <th>0</th>\n",
       "      <td>a1W8c000007c5aIEAQ</td>\n",
       "      <td>0018c00002k9KwBAAU</td>\n",
       "      <td>Aldo Conti MX</td>\n",
       "      <td>-</td>\n",
       "      <td>Aldo Conti</td>\n",
       "      <td>EMP10376</td>\n",
       "      <td>Aldo Conti MX</td>\n",
       "      <td>-</td>\n",
       "      <td>-</td>\n",
       "      <td>-</td>\n",
       "      <td>False</td>\n",
       "      <td>A-9930</td>\n",
       "    </tr>\n",
       "    <tr>\n",
       "      <th>1</th>\n",
       "      <td>a1W8c000007c669EAA</td>\n",
       "      <td>0018c00002k9yOCAAY</td>\n",
       "      <td>Caja de Compensación de Asignación Familiar de...</td>\n",
       "      <td>Itaú</td>\n",
       "      <td>Vida Security</td>\n",
       "      <td>EMP10377</td>\n",
       "      <td>Caja de Compensación de Asignación Familiar de...</td>\n",
       "      <td>283144</td>\n",
       "      <td>81826800-9</td>\n",
       "      <td>-</td>\n",
       "      <td>False</td>\n",
       "      <td>A-9931</td>\n",
       "    </tr>\n",
       "    <tr>\n",
       "      <th>2</th>\n",
       "      <td>a1W8c000007c66AEAQ</td>\n",
       "      <td>0018c00002k9yODAAY</td>\n",
       "      <td>Itaú Corpbanca</td>\n",
       "      <td>Itaú</td>\n",
       "      <td>Vida Security</td>\n",
       "      <td>EMP10378</td>\n",
       "      <td>Itaú Corpbanca</td>\n",
       "      <td>283147</td>\n",
       "      <td>97023000-9</td>\n",
       "      <td>-</td>\n",
       "      <td>False</td>\n",
       "      <td>A-9932</td>\n",
       "    </tr>\n",
       "    <tr>\n",
       "      <th>3</th>\n",
       "      <td>a1W8c000007c66BEAQ</td>\n",
       "      <td>0018c00002k9yOEAAY</td>\n",
       "      <td>Itaú Corpbanca</td>\n",
       "      <td>Itaú - sin servicio</td>\n",
       "      <td>Vida Security</td>\n",
       "      <td>EMP10379</td>\n",
       "      <td>Itaú Corpbanca</td>\n",
       "      <td>283148</td>\n",
       "      <td>-</td>\n",
       "      <td>-</td>\n",
       "      <td>False</td>\n",
       "      <td>A-9933</td>\n",
       "    </tr>\n",
       "    <tr>\n",
       "      <th>4</th>\n",
       "      <td>a1W8c000007c66CEAQ</td>\n",
       "      <td>0018c00002k9yOFAAY</td>\n",
       "      <td>Itaú Corpbanca</td>\n",
       "      <td>Itaú</td>\n",
       "      <td>Vida Security</td>\n",
       "      <td>EMP10380</td>\n",
       "      <td>Itaú Corpbanca</td>\n",
       "      <td>283149</td>\n",
       "      <td>-</td>\n",
       "      <td>-</td>\n",
       "      <td>False</td>\n",
       "      <td>A-9934</td>\n",
       "    </tr>\n",
       "  </tbody>\n",
       "</table>\n",
       "</div>"
      ],
      "text/plain": [
       "                   Id       Empresa__r.Id  \\\n",
       "0  a1W8c000007c5aIEAQ  0018c00002k9KwBAAU   \n",
       "1  a1W8c000007c669EAA  0018c00002k9yOCAAY   \n",
       "2  a1W8c000007c66AEAQ  0018c00002k9yODAAY   \n",
       "3  a1W8c000007c66BEAQ  0018c00002k9yOEAAY   \n",
       "4  a1W8c000007c66CEAQ  0018c00002k9yOFAAY   \n",
       "\n",
       "                                     Empresa__r.Name Empresa__r.Holding__c  \\\n",
       "0                                      Aldo Conti MX                     -   \n",
       "1  Caja de Compensación de Asignación Familiar de...                  Itaú   \n",
       "2                                     Itaú Corpbanca                  Itaú   \n",
       "3                                     Itaú Corpbanca   Itaú - sin servicio   \n",
       "4                                     Itaú Corpbanca                  Itaú   \n",
       "\n",
       "  Empresa__r.Campa_a__c Empresa__r.Id_Empresa__c  \\\n",
       "0            Aldo Conti                 EMP10376   \n",
       "1         Vida Security                 EMP10377   \n",
       "2         Vida Security                 EMP10378   \n",
       "3         Vida Security                 EMP10379   \n",
       "4         Vida Security                 EMP10380   \n",
       "\n",
       "                             Empresa__r.Empleador__c Empresa__r.poliza__c  \\\n",
       "0                                      Aldo Conti MX                    -   \n",
       "1  Caja de Compensación de Asignación Familiar de...               283144   \n",
       "2                                     Itaú Corpbanca               283147   \n",
       "3                                     Itaú Corpbanca               283148   \n",
       "4                                     Itaú Corpbanca               283149   \n",
       "\n",
       "  Empresa__r.RUT_Empresa__c Empresa__r.Corredor__c  \\\n",
       "0                         -                      -   \n",
       "1                81826800-9                      -   \n",
       "2                97023000-9                      -   \n",
       "3                         -                      -   \n",
       "4                         -                      -   \n",
       "\n",
       "  Empresa__r.Padre_Empresa__c    Name  \n",
       "0                       False  A-9930  \n",
       "1                       False  A-9931  \n",
       "2                       False  A-9932  \n",
       "3                       False  A-9933  \n",
       "4                       False  A-9934  "
      ]
     },
     "execution_count": 427,
     "metadata": {},
     "output_type": "execute_result"
    }
   ],
   "source": [
    "llamadaEmpresaAntiguas = \"SELECT Id,Empresa__r.Id, Empresa__r.Name, Empresa__r.Holding__c, Empresa__r.Campa_a__c, Empresa__r.Id_Empresa__c, Empresa__r.Empleador__c, Empresa__r.poliza__c, Empresa__r.RUT_Empresa__c, Empresa__r.Corredor__c,Empresa__r.Padre_Empresa__c, Name FROM Programas_por_Empresas__c WHERE Empresa__r.Padre_Empresa__c = false\"\n",
    "vllamadaEmpresa = sf.smart_query(llamadaEmpresaAntiguas)\n",
    "vllamadaEmpresa.to_excel(\"F:/Empresas SF/reportes/empresas_Antiguas.xlsx\", index=False)\n",
    "vllamadaEmpresa.head()"
   ]
  },
  {
   "cell_type": "markdown",
   "metadata": {},
   "source": [
    "vllamadaEmpresa.shape\n"
   ]
  },
  {
   "cell_type": "code",
   "execution_count": 428,
   "metadata": {
    "notebookRunGroups": {
     "groupValue": "1"
    }
   },
   "outputs": [
    {
     "data": {
      "text/plain": [
       "(8285, 8)"
      ]
     },
     "execution_count": 428,
     "metadata": {},
     "output_type": "execute_result"
    }
   ],
   "source": [
    "# Recuperar empresas ID de salesforce desde Account\n",
    "results = sf.query_all(\n",
    "    \"\"\"\n",
    "  SELECT Id, name, Holding__c ,Campa_a__c,Id_Empresa__c,Empleador__c,poliza__c,RUT_Empresa__c  FROM account where ispersonaccount = false  AND Nueva_Estructura__c = False\n",
    "    \"\"\"\n",
    ")\n",
    "Empresas_SF = pd.DataFrame(results[\"records\"])\n",
    "Empresas_SF = Empresas_SF[\n",
    "    [\n",
    "        \"Id\",\n",
    "        \"Name\",\n",
    "        \"Holding__c\",\n",
    "        \"Campa_a__c\",\n",
    "        \"Id_Empresa__c\",\n",
    "        \"Empleador__c\",\n",
    "        \"poliza__c\",\n",
    "        \"RUT_Empresa__c\",\n",
    "    ]\n",
    "]\n",
    "Empresas_SF.shape"
   ]
  },
  {
   "cell_type": "code",
   "execution_count": 429,
   "metadata": {
    "notebookRunGroups": {
     "groupValue": "1"
    }
   },
   "outputs": [
    {
     "data": {
      "text/plain": [
       "(7913, 5)"
      ]
     },
     "execution_count": 429,
     "metadata": {},
     "output_type": "execute_result"
    }
   ],
   "source": [
    "# buscar empresas desde Programas_por_Empresas__c datos de empresas\n",
    "results = sf.query_all(\n",
    "    \"\"\"\n",
    "   select Id,Empresa__c, Empresa_Padre__c,Nombre_Empresa__c, Name  from Programas_por_Empresas__c \n",
    "    \"\"\"\n",
    ")\n",
    "Programas_por_empresa_SF = pd.DataFrame(results[\"records\"])\n",
    "\n",
    "Programas_por_empresa_SF = Programas_por_empresa_SF[\n",
    "    [\"Id\", \"Empresa__c\", \"Empresa_Padre__c\", \"Nombre_Empresa__c\", \"Name\"]\n",
    "]\n",
    "Programas_por_empresa_SF.shape"
   ]
  },
  {
   "cell_type": "code",
   "execution_count": 430,
   "metadata": {
    "notebookRunGroups": {
     "groupValue": "1"
    }
   },
   "outputs": [
    {
     "data": {
      "text/plain": [
       "(8291, 10)"
      ]
     },
     "execution_count": 430,
     "metadata": {},
     "output_type": "execute_result"
    }
   ],
   "source": [
    "# Union de Programas Empresa y empresas\n",
    "Programas_empresas = pd.merge(\n",
    "    left=Empresas_SF,\n",
    "    right=Programas_por_empresa_SF,\n",
    "    how=\"left\",\n",
    "    left_on=\"Id\",\n",
    "    right_on=\"Empresa__c\",\n",
    ")\n",
    "Programas_empresas = Programas_empresas.rename(\n",
    "    columns={\n",
    "        \"Id_x\": \"Id Account Empresa\",\n",
    "        \"Name_x\": \"Nombre Empresa\",\n",
    "        \"Holding__c\": \"Holding\",\n",
    "        \"Campa_a__c\": \"Campaña\",\n",
    "        \"Empleador__c\": \"Empleador\",\n",
    "        \"poliza__c\": \"Poliza\",\n",
    "        \"RUT_Empresa__c\": \"Rut Empresa\",\n",
    "        \"Id_y\": \"Programas_por_Empresas__c\",\n",
    "        \"Id_Empresa__c\": \"Codigo EMP\",\n",
    "        \"Name_y\": \"Codigo A\",\n",
    "    }\n",
    ")\n",
    "Programas_empresas = Programas_empresas[\n",
    "    [\n",
    "        \"Id Account Empresa\",\n",
    "        \"Nombre Empresa\",\n",
    "        \"Holding\",\n",
    "        \"Campaña\",\n",
    "        \"Empleador\",\n",
    "        \"Poliza\",\n",
    "        \"Rut Empresa\",\n",
    "        \"Programas_por_Empresas__c\",\n",
    "        \"Codigo EMP\",\n",
    "        \"Codigo A\",\n",
    "    ]\n",
    "]\n",
    "\n",
    "Programas_empresas.shape"
   ]
  },
  {
   "cell_type": "code",
   "execution_count": 431,
   "metadata": {
    "notebookRunGroups": {
     "groupValue": "1"
    }
   },
   "outputs": [],
   "source": [
    "Programas_empresas.to_excel(\"F:/Empresas SF/reportes/empresas.xlsx\", index=False)"
   ]
  },
  {
   "cell_type": "code",
   "execution_count": 432,
   "metadata": {
    "notebookRunGroups": {
     "groupValue": "1"
    }
   },
   "outputs": [
    {
     "name": "stderr",
     "output_type": "stream",
     "text": [
      "100%|██████████| 1/1 [00:10<00:00, 10.15s/it]\n"
     ]
    },
    {
     "data": {
      "text/html": [
       "<div>\n",
       "<style scoped>\n",
       "    .dataframe tbody tr th:only-of-type {\n",
       "        vertical-align: middle;\n",
       "    }\n",
       "\n",
       "    .dataframe tbody tr th {\n",
       "        vertical-align: top;\n",
       "    }\n",
       "\n",
       "    .dataframe thead th {\n",
       "        text-align: right;\n",
       "    }\n",
       "</style>\n",
       "<table border=\"1\" class=\"dataframe\">\n",
       "  <thead>\n",
       "    <tr style=\"text-align: right;\">\n",
       "      <th></th>\n",
       "      <th>P_liza__c</th>\n",
       "      <th>Nombre_de_Empresa__c</th>\n",
       "      <th>Identificador__c</th>\n",
       "      <th>Rut_Empresa__c</th>\n",
       "      <th>Empresa_Padre__r.Name</th>\n",
       "      <th>Holding__c</th>\n",
       "      <th>Plan__c</th>\n",
       "      <th>Pais__c</th>\n",
       "      <th>Activo__c</th>\n",
       "      <th>Id</th>\n",
       "      <th>LLave</th>\n",
       "      <th>dato</th>\n",
       "    </tr>\n",
       "  </thead>\n",
       "  <tbody>\n",
       "    <tr>\n",
       "      <th>0</th>\n",
       "      <td>Sin Póliza Asociada</td>\n",
       "      <td>Colaboradores Care Assistance Chile SPA</td>\n",
       "      <td>Colaboradores Care Assistance Chile SPA</td>\n",
       "      <td>775173998</td>\n",
       "      <td>Colaboradores</td>\n",
       "      <td>Siempre Chile SPA</td>\n",
       "      <td>Plan Gold</td>\n",
       "      <td>Chile</td>\n",
       "      <td>False</td>\n",
       "      <td>a3yRN0000006mmjYAA</td>\n",
       "      <td>775173998Sin Póliza Asociada</td>\n",
       "      <td>1</td>\n",
       "    </tr>\n",
       "    <tr>\n",
       "      <th>1</th>\n",
       "      <td>-</td>\n",
       "      <td>Apunto Servicios De Alimentacion</td>\n",
       "      <td>Apunto Servicios De Alimentacion</td>\n",
       "      <td>-</td>\n",
       "      <td>Consalud</td>\n",
       "      <td>Holding Consalud</td>\n",
       "      <td>-</td>\n",
       "      <td>Chile</td>\n",
       "      <td>False</td>\n",
       "      <td>a3yRN0000006rG9YAI</td>\n",
       "      <td>-</td>\n",
       "      <td>1</td>\n",
       "    </tr>\n",
       "    <tr>\n",
       "      <th>2</th>\n",
       "      <td>-</td>\n",
       "      <td>2M Inmobiliaria Spa.</td>\n",
       "      <td>2M Inmobiliaria Spa.</td>\n",
       "      <td>-</td>\n",
       "      <td>THB Seguros COVID</td>\n",
       "      <td>Solo Titulares</td>\n",
       "      <td>-</td>\n",
       "      <td>Chile</td>\n",
       "      <td>True</td>\n",
       "      <td>a3yRN0000006rGAYAY</td>\n",
       "      <td>-</td>\n",
       "      <td>1</td>\n",
       "    </tr>\n",
       "    <tr>\n",
       "      <th>3</th>\n",
       "      <td>-</td>\n",
       "      <td>360 Gms Capacitacion Spa.</td>\n",
       "      <td>360 Gms Capacitacion Spa.</td>\n",
       "      <td>-</td>\n",
       "      <td>THB Seguros COVID</td>\n",
       "      <td>Solo Titulares</td>\n",
       "      <td>-</td>\n",
       "      <td>Chile</td>\n",
       "      <td>True</td>\n",
       "      <td>a3yRN0000006rGBYAY</td>\n",
       "      <td>-</td>\n",
       "      <td>1</td>\n",
       "    </tr>\n",
       "    <tr>\n",
       "      <th>4</th>\n",
       "      <td>-</td>\n",
       "      <td>361 Gms Capacitacion Spa.</td>\n",
       "      <td>361 Gms Capacitacion Spa.</td>\n",
       "      <td>-</td>\n",
       "      <td>THB Seguros COVID</td>\n",
       "      <td>Solo Titulares</td>\n",
       "      <td>-</td>\n",
       "      <td>Chile</td>\n",
       "      <td>True</td>\n",
       "      <td>a3yRN0000006rGCYAY</td>\n",
       "      <td>-</td>\n",
       "      <td>1</td>\n",
       "    </tr>\n",
       "  </tbody>\n",
       "</table>\n",
       "</div>"
      ],
      "text/plain": [
       "             P_liza__c                     Nombre_de_Empresa__c  \\\n",
       "0  Sin Póliza Asociada  Colaboradores Care Assistance Chile SPA   \n",
       "1                    -         Apunto Servicios De Alimentacion   \n",
       "2                    -                     2M Inmobiliaria Spa.   \n",
       "3                    -                360 Gms Capacitacion Spa.   \n",
       "4                    -                361 Gms Capacitacion Spa.   \n",
       "\n",
       "                          Identificador__c Rut_Empresa__c  \\\n",
       "0  Colaboradores Care Assistance Chile SPA      775173998   \n",
       "1         Apunto Servicios De Alimentacion              -   \n",
       "2                     2M Inmobiliaria Spa.              -   \n",
       "3                360 Gms Capacitacion Spa.              -   \n",
       "4                361 Gms Capacitacion Spa.              -   \n",
       "\n",
       "  Empresa_Padre__r.Name         Holding__c    Plan__c Pais__c  Activo__c  \\\n",
       "0         Colaboradores  Siempre Chile SPA  Plan Gold   Chile      False   \n",
       "1              Consalud   Holding Consalud          -   Chile      False   \n",
       "2     THB Seguros COVID     Solo Titulares          -   Chile       True   \n",
       "3     THB Seguros COVID     Solo Titulares          -   Chile       True   \n",
       "4     THB Seguros COVID     Solo Titulares          -   Chile       True   \n",
       "\n",
       "                   Id                         LLave  dato  \n",
       "0  a3yRN0000006mmjYAA  775173998Sin Póliza Asociada     1  \n",
       "1  a3yRN0000006rG9YAI                             -     1  \n",
       "2  a3yRN0000006rGAYAY                             -     1  \n",
       "3  a3yRN0000006rGBYAY                             -     1  \n",
       "4  a3yRN0000006rGCYAY                             -     1  "
      ]
     },
     "execution_count": 432,
     "metadata": {},
     "output_type": "execute_result"
    }
   ],
   "source": [
    "query2 = \"select P_liza__c, Nombre_de_Empresa__c,Identificador__c, Rut_Empresa__c, Empresa_Padre__r.Name, Empresa__r.name,Holding__c, Plan__c, Pais__c, Activo__c, Id from Datos_Empresa__c \"\n",
    "\n",
    "df2 = sf.smart_query(query2)\n",
    "df2[\"LLave\"] = df2[\"Rut_Empresa__c\"].str.upper().str.replace(\"-\", \"\") + df2[\"P_liza__c\"]\n",
    "df2[\"dato\"] = 1\n",
    "df2.to_excel(\"F:/Empresas SF/reportes/empresas_nuevas.xlsx\", index=False)\n",
    "df2.head()"
   ]
  },
  {
   "attachments": {},
   "cell_type": "markdown",
   "metadata": {},
   "source": [
    "fin empresas y comienzo de rescate de pacientes\n"
   ]
  },
  {
   "cell_type": "code",
   "execution_count": 433,
   "metadata": {
    "notebookRunGroups": {
     "groupValue": "1"
    }
   },
   "outputs": [
    {
     "data": {
      "text/plain": [
       "(1950135, 10)"
      ]
     },
     "execution_count": 433,
     "metadata": {},
     "output_type": "execute_result"
    }
   ],
   "source": [
    "# CArga de PAcientes\n",
    "results = sf.query_all(\n",
    "    \"\"\"\n",
    "    select Id, IdentificationId__pc,Name, Identification_Type__c, Ocupaci_n__c,  PersonTitle ,PersonDepartment,HealthCloudGA__Gender__pc,Phone,PersonContactId  from Account where ispersonaccount = True \n",
    "   \"\"\"\n",
    ")\n",
    "Pacientes_SF = pd.DataFrame(results[\"records\"])\n",
    "\n",
    "Pacientes_SF = Pacientes_SF[\n",
    "    [\n",
    "        \"Id\",\n",
    "        \"IdentificationId__pc\",\n",
    "        \"Name\",\n",
    "        \"Identification_Type__c\",\n",
    "        \"Ocupaci_n__c\",\n",
    "        \"PersonTitle\",\n",
    "        \"PersonDepartment\",\n",
    "        \"HealthCloudGA__Gender__pc\",\n",
    "        \"Phone\",\n",
    "        \"PersonContactId\",\n",
    "    ]\n",
    "]\n",
    "Pacientes_SF = Pacientes_SF.rename(\n",
    "    columns={\n",
    "        \"Id\": \"Id Account Paciente\",\n",
    "        \"IdentificationId__pc\": \"Rut\",\n",
    "        \"Name\": \"Nombre\",\n",
    "        \"Ocupaci_n__c\": \"Ocupacion\",\n",
    "        \"PersonTitle\": \"Cargo\",\n",
    "        \"PersonDepartment\": \"Departamento\",\n",
    "        \"HealthCloudGA__Gender__pc\": \"Sexo\",\n",
    "        \"Phone\": \"Telefono\",\n",
    "        \"Identification_Type__c\": \"Tipo de Documento\",\n",
    "        \"PersonContactId\": \"Id Contacto\",\n",
    "    }\n",
    ")\n",
    "Pacientes_SF.shape"
   ]
  },
  {
   "cell_type": "code",
   "execution_count": 434,
   "metadata": {
    "notebookRunGroups": {
     "groupValue": "1"
    }
   },
   "outputs": [],
   "source": [
    "def siPrimerCero(y):\n",
    "    if len(y) <= 4:\n",
    "        return \"NONE\"\n",
    "    if y[0] == \"0\":\n",
    "        y = y[1:]\n",
    "    return y"
   ]
  },
  {
   "cell_type": "code",
   "execution_count": 435,
   "metadata": {
    "notebookRunGroups": {
     "groupValue": "1"
    }
   },
   "outputs": [
    {
     "name": "stderr",
     "output_type": "stream",
     "text": [
      "C:\\Users\\jmartinez\\AppData\\Local\\Temp\\ipykernel_15596\\928634061.py:6: FutureWarning: The default value of regex will change from True to False in a future version. In addition, single character regular expressions will *not* be treated as literal strings when regex=True.\n",
      "  Pacientes_SF[\"Rut\"] = Pacientes_SF[\"Rut\"].str.replace(\".\", \"\")\n"
     ]
    }
   ],
   "source": [
    "Pacientes_SF[\"Rut\"] = Pacientes_SF[\"Rut\"].astype(str)\n",
    "Pacientes_SF[\"Rut\"] = Pacientes_SF[\"Rut\"].str.upper()\n",
    "Pacientes_SF[\"Rut\"] = Pacientes_SF[\"Rut\"].str.replace(\"-\", \"\")\n",
    "Pacientes_SF[\"Rut\"] = Pacientes_SF[\"Rut\"].str.replace(\"–\", \"\")\n",
    "Pacientes_SF[\"Rut\"] = Pacientes_SF[\"Rut\"].astype(str)\n",
    "Pacientes_SF[\"Rut\"] = Pacientes_SF[\"Rut\"].str.replace(\".\", \"\")\n",
    "Pacientes_SF[\"Rut\"] = Pacientes_SF[\"Rut\"].apply(lambda y: siPrimerCero(y))\n",
    "Pacientes_SF[\"Rut\"] = Pacientes_SF[\"Rut\"].str.strip()"
   ]
  },
  {
   "cell_type": "code",
   "execution_count": 436,
   "metadata": {
    "notebookRunGroups": {
     "groupValue": "1"
    }
   },
   "outputs": [],
   "source": [
    "Pacientes_Nones1 = Pacientes_SF[(Pacientes_SF[\"Rut\"] == \"NONE\")]\n",
    "Pacientes_SF = Pacientes_SF[(Pacientes_SF[\"Rut\"] != \"NONE\")]\n",
    "Pacientes_Nones1.to_excel(\"F:/Empresas SF/reportes/NONE1.xlsx\", index=False)"
   ]
  },
  {
   "attachments": {},
   "cell_type": "markdown",
   "metadata": {},
   "source": [
    "Aca se comienzan a unir las relaciones de pacientes y empresas ya creadas.\n"
   ]
  },
  {
   "cell_type": "markdown",
   "metadata": {
    "notebookRunGroups": {
     "groupValue": "1"
    }
   },
   "source": [
    "# buscar empresas desde Paciente_Programas\\_\\_c relaciones de empresas con pacientes\n",
    "\n",
    "results = sf.query_all(\n",
    "\"\"\"\n",
    "select Id,Paciente**c, Programas_por_Empresas**c,padre**c from Paciente_Programas**c  \n",
    " \"\"\"\n",
    ")\n",
    "Paciente_Programas_SF = pd.DataFrame(results[\"records\"])\n",
    "\n",
    "Paciente_Programas_SF = Paciente_Programas_SF[\n",
    "[\"Id\", \"Paciente__c\", \"Programas_por_Empresas__c\", \"padre__c\"]\n",
    "]\n",
    "Paciente_Programas_SF = Paciente_Programas_SF.rename(\n",
    "columns={\n",
    "\"Id\": \"Id Pacientes_Programas**c\",\n",
    "\"Paciente**c\": \"Id Account\",\n",
    "\"Programas_por_Empresas**c\": \"Programas_por_Empresas**c\",\n",
    "\"padre\\_\\_c\": \"Nombre Campaña\",\n",
    "}\n",
    ")\n",
    "Paciente_Programas_SF.shape\n"
   ]
  },
  {
   "cell_type": "markdown",
   "metadata": {
    "notebookRunGroups": {
     "groupValue": "1"
    }
   },
   "source": [
    "# Union de Pacientes Programas y Programas por empresa\n",
    "\n",
    "empresas_unidas = pd.merge(\n",
    "left=Paciente_Programas_SF,\n",
    "right=Programas_empresas,\n",
    "how=\"left\",\n",
    "left_on=\"Programas_por_Empresas**c\",\n",
    "right_on=\"Programas_por_Empresas**c\",\n",
    ")\n",
    "empresas_unidas.shape\n"
   ]
  },
  {
   "attachments": {},
   "cell_type": "markdown",
   "metadata": {},
   "source": [
    "Carga de Archivo carga\n"
   ]
  },
  {
   "cell_type": "code",
   "execution_count": 437,
   "metadata": {
    "notebookRunGroups": {
     "groupValue": "2"
    }
   },
   "outputs": [
    {
     "data": {
      "text/html": [
       "<div>\n",
       "<style scoped>\n",
       "    .dataframe tbody tr th:only-of-type {\n",
       "        vertical-align: middle;\n",
       "    }\n",
       "\n",
       "    .dataframe tbody tr th {\n",
       "        vertical-align: top;\n",
       "    }\n",
       "\n",
       "    .dataframe thead th {\n",
       "        text-align: right;\n",
       "    }\n",
       "</style>\n",
       "<table border=\"1\" class=\"dataframe\">\n",
       "  <thead>\n",
       "    <tr style=\"text-align: right;\">\n",
       "      <th></th>\n",
       "      <th>poliza</th>\n",
       "      <th>empleador</th>\n",
       "      <th>rutE</th>\n",
       "      <th>RUTASEGURADO</th>\n",
       "      <th>DV</th>\n",
       "      <th>rut1</th>\n",
       "      <th>RUTBENEFICIARIO</th>\n",
       "      <th>RUTBENEFIARIO_DV</th>\n",
       "      <th>rut2</th>\n",
       "      <th>nacimiento</th>\n",
       "      <th>...</th>\n",
       "      <th>direccion</th>\n",
       "      <th>comuna</th>\n",
       "      <th>ciudad</th>\n",
       "      <th>TELEFONO</th>\n",
       "      <th>RELACION</th>\n",
       "      <th>NOMBRE</th>\n",
       "      <th>nombres</th>\n",
       "      <th>apellidos</th>\n",
       "      <th>email</th>\n",
       "      <th>celular</th>\n",
       "    </tr>\n",
       "  </thead>\n",
       "  <tbody>\n",
       "    <tr>\n",
       "      <th>0</th>\n",
       "      <td>340022755</td>\n",
       "      <td>340022755</td>\n",
       "      <td>340022755</td>\n",
       "      <td>13092210</td>\n",
       "      <td>4</td>\n",
       "      <td>13092210-4</td>\n",
       "      <td>22692809</td>\n",
       "      <td>K</td>\n",
       "      <td>22692809-K</td>\n",
       "      <td>2017-04-10 00:00:00</td>\n",
       "      <td>...</td>\n",
       "      <td>PJE ANDALUCIA 1929  VILLA ESPAÑA</td>\n",
       "      <td>LA PINTANA</td>\n",
       "      <td>NaN</td>\n",
       "      <td>NaN</td>\n",
       "      <td>HI</td>\n",
       "      <td>Riquelme Thomann Mia</td>\n",
       "      <td>Riquelme Thomann</td>\n",
       "      <td>Mia</td>\n",
       "      <td>PAOLATHOMANN8@GMAIL.COM</td>\n",
       "      <td>950546189</td>\n",
       "    </tr>\n",
       "    <tr>\n",
       "      <th>1</th>\n",
       "      <td>340024040</td>\n",
       "      <td>340024040</td>\n",
       "      <td>340024040</td>\n",
       "      <td>13334327</td>\n",
       "      <td>K</td>\n",
       "      <td>13334327-K</td>\n",
       "      <td>22692817</td>\n",
       "      <td>0</td>\n",
       "      <td>22692817-0</td>\n",
       "      <td>2008-04-10 00:00:00</td>\n",
       "      <td>...</td>\n",
       "      <td>NaN</td>\n",
       "      <td>NaN</td>\n",
       "      <td>NaN</td>\n",
       "      <td>98850452</td>\n",
       "      <td>HI</td>\n",
       "      <td>Ortiz Matta Fernanda</td>\n",
       "      <td>Ortiz Matta</td>\n",
       "      <td>Fernanda</td>\n",
       "      <td>maria.matta@ebco.cl</td>\n",
       "      <td>998850452</td>\n",
       "    </tr>\n",
       "    <tr>\n",
       "      <th>2</th>\n",
       "      <td>340000577</td>\n",
       "      <td>340000577</td>\n",
       "      <td>340000577</td>\n",
       "      <td>14439078</td>\n",
       "      <td>4</td>\n",
       "      <td>14439078-4</td>\n",
       "      <td>22692862</td>\n",
       "      <td>6</td>\n",
       "      <td>22692862-6</td>\n",
       "      <td>2008-04-08 00:00:00</td>\n",
       "      <td>...</td>\n",
       "      <td>NaN</td>\n",
       "      <td>NaN</td>\n",
       "      <td>NaN</td>\n",
       "      <td>954623510</td>\n",
       "      <td>HI</td>\n",
       "      <td>Pinto Tapia Benjamin</td>\n",
       "      <td>Pinto Tapia</td>\n",
       "      <td>Benjamin</td>\n",
       "      <td>andreamanosalva2425@gmail.com</td>\n",
       "      <td>NaN</td>\n",
       "    </tr>\n",
       "    <tr>\n",
       "      <th>3</th>\n",
       "      <td>340000577</td>\n",
       "      <td>340000577</td>\n",
       "      <td>340000577</td>\n",
       "      <td>14439078</td>\n",
       "      <td>4</td>\n",
       "      <td>14439078-4</td>\n",
       "      <td>22692893</td>\n",
       "      <td>6</td>\n",
       "      <td>22692893-6</td>\n",
       "      <td>2008-04-08 00:00:00</td>\n",
       "      <td>...</td>\n",
       "      <td>NaN</td>\n",
       "      <td>NaN</td>\n",
       "      <td>NaN</td>\n",
       "      <td>954623510</td>\n",
       "      <td>HI</td>\n",
       "      <td>Pinto Tapia Martin</td>\n",
       "      <td>Pinto Tapia</td>\n",
       "      <td>Martin</td>\n",
       "      <td>andreamanosalva2425@gmail.com</td>\n",
       "      <td>NaN</td>\n",
       "    </tr>\n",
       "    <tr>\n",
       "      <th>4</th>\n",
       "      <td>340003856</td>\n",
       "      <td>340003856</td>\n",
       "      <td>340003856</td>\n",
       "      <td>15024929</td>\n",
       "      <td>5</td>\n",
       "      <td>15024929-5</td>\n",
       "      <td>22692894</td>\n",
       "      <td>4</td>\n",
       "      <td>22692894-4</td>\n",
       "      <td>2008-04-03 00:00:00</td>\n",
       "      <td>...</td>\n",
       "      <td>PACIFICO 1814</td>\n",
       "      <td>ANTOFAGASTA</td>\n",
       "      <td></td>\n",
       "      <td>962859315</td>\n",
       "      <td>HI</td>\n",
       "      <td>Luna Fredes Francisco</td>\n",
       "      <td>Luna Fredes</td>\n",
       "      <td>Francisco</td>\n",
       "      <td>fredesnataly3@gmail.com</td>\n",
       "      <td>926009449</td>\n",
       "    </tr>\n",
       "  </tbody>\n",
       "</table>\n",
       "<p>5 rows × 21 columns</p>\n",
       "</div>"
      ],
      "text/plain": [
       "      poliza  empleador       rutE  RUTASEGURADO DV        rut1  \\\n",
       "0  340022755  340022755  340022755      13092210  4  13092210-4   \n",
       "1  340024040  340024040  340024040      13334327  K  13334327-K   \n",
       "2  340000577  340000577  340000577      14439078  4  14439078-4   \n",
       "3  340000577  340000577  340000577      14439078  4  14439078-4   \n",
       "4  340003856  340003856  340003856      15024929  5  15024929-5   \n",
       "\n",
       "   RUTBENEFICIARIO RUTBENEFIARIO_DV        rut2           nacimiento  ...  \\\n",
       "0         22692809                K  22692809-K  2017-04-10 00:00:00  ...   \n",
       "1         22692817                0  22692817-0  2008-04-10 00:00:00  ...   \n",
       "2         22692862                6  22692862-6  2008-04-08 00:00:00  ...   \n",
       "3         22692893                6  22692893-6  2008-04-08 00:00:00  ...   \n",
       "4         22692894                4  22692894-4  2008-04-03 00:00:00  ...   \n",
       "\n",
       "                          direccion                     comuna  \\\n",
       "0  PJE ANDALUCIA 1929  VILLA ESPAÑA                 LA PINTANA   \n",
       "1                               NaN                        NaN   \n",
       "2                               NaN                        NaN   \n",
       "3                               NaN                        NaN   \n",
       "4               PACIFICO 1814        ANTOFAGASTA                 \n",
       "\n",
       "                      ciudad   TELEFONO RELACION                 NOMBRE  \\\n",
       "0                        NaN        NaN       HI   Riquelme Thomann Mia   \n",
       "1                        NaN   98850452       HI   Ortiz Matta Fernanda   \n",
       "2                        NaN  954623510       HI   Pinto Tapia Benjamin   \n",
       "3                        NaN  954623510       HI     Pinto Tapia Martin   \n",
       "4                             962859315       HI  Luna Fredes Francisco   \n",
       "\n",
       "            nombres  apellidos                          email    celular  \n",
       "0  Riquelme Thomann        Mia        PAOLATHOMANN8@GMAIL.COM  950546189  \n",
       "1       Ortiz Matta   Fernanda            maria.matta@ebco.cl  998850452  \n",
       "2       Pinto Tapia   Benjamin  andreamanosalva2425@gmail.com        NaN  \n",
       "3       Pinto Tapia     Martin  andreamanosalva2425@gmail.com        NaN  \n",
       "4       Luna Fredes  Francisco        fredesnataly3@gmail.com  926009449  \n",
       "\n",
       "[5 rows x 21 columns]"
      ]
     },
     "execution_count": 437,
     "metadata": {},
     "output_type": "execute_result"
    }
   ],
   "source": [
    "nuevos = \"F:/Empresas SF/reportes/carga.xlsx\"\n",
    "campaña = \"MetLife\"\n",
    "Pais = \"Chile\"\n",
    "baseFinal = True\n",
    "#Pais = \"México\"\n",
    "\n",
    "Pacientes_Archivo = pd.read_excel(nuevos)\n",
    "# OJO se copia rut1 a rut le saca el guoion\n",
    "Pacientes_Archivo.head(5)"
   ]
  },
  {
   "cell_type": "code",
   "execution_count": 438,
   "metadata": {
    "notebookRunGroups": {
     "groupValue": "2"
    }
   },
   "outputs": [
    {
     "data": {
      "text/plain": [
       "(267672, 21)"
      ]
     },
     "execution_count": 438,
     "metadata": {},
     "output_type": "execute_result"
    }
   ],
   "source": [
    "Pacientes_Archivo.shape"
   ]
  },
  {
   "cell_type": "code",
   "execution_count": 439,
   "metadata": {
    "notebookRunGroups": {
     "groupValue": "2"
    }
   },
   "outputs": [],
   "source": [
    "Pacientes_IDrut = Pacientes_SF[\n",
    "    [\n",
    "        \"Rut\",\n",
    "        \"Id Account Paciente\",\n",
    "        \"Id Contacto\",\n",
    "    ]\n",
    "]"
   ]
  },
  {
   "cell_type": "code",
   "execution_count": 440,
   "metadata": {
    "notebookRunGroups": {
     "groupValue": "2"
    }
   },
   "outputs": [
    {
     "name": "stderr",
     "output_type": "stream",
     "text": [
      "C:\\Users\\jmartinez\\AppData\\Local\\Temp\\ipykernel_15596\\1490231206.py:5: FutureWarning: The default value of regex will change from True to False in a future version. In addition, single character regular expressions will *not* be treated as literal strings when regex=True.\n",
      "  Pacientes_Archivo[\"rut\"] = Pacientes_Archivo[\"rut\"].str.replace(\".\", \"\")\n",
      "C:\\Users\\jmartinez\\AppData\\Local\\Temp\\ipykernel_15596\\1490231206.py:14: FutureWarning: The default value of regex will change from True to False in a future version. In addition, single character regular expressions will *not* be treated as literal strings when regex=True.\n",
      "  Pacientes_Archivo[\"poliza\"] = Pacientes_Archivo[\"poliza\"].str.replace(\".\", \"\")\n",
      "C:\\Users\\jmartinez\\AppData\\Local\\Temp\\ipykernel_15596\\1490231206.py:24: FutureWarning: The default value of regex will change from True to False in a future version. In addition, single character regular expressions will *not* be treated as literal strings when regex=True.\n",
      "  Pacientes_Archivo[\"rutE\"] = Pacientes_Archivo[\"rutE\"].str.replace(\".\", \"\")\n"
     ]
    },
    {
     "data": {
      "text/plain": [
       "(267672, 22)"
      ]
     },
     "execution_count": 440,
     "metadata": {},
     "output_type": "execute_result"
    }
   ],
   "source": [
    "Pacientes_Archivo[\"rut\"] = Pacientes_Archivo[\"rut1\"].astype(str)\n",
    "Pacientes_Archivo[\"rut\"] = Pacientes_Archivo[\"rut\"].str.replace(\"-\", \"\")\n",
    "Pacientes_Archivo[\"rut\"] = Pacientes_Archivo[\"rut\"].str.replace(\"–\", \"\")\n",
    "Pacientes_Archivo[\"rut\"] = Pacientes_Archivo[\"rut\"].astype(str)\n",
    "Pacientes_Archivo[\"rut\"] = Pacientes_Archivo[\"rut\"].str.replace(\".\", \"\")\n",
    "Pacientes_Archivo[\"rut\"] = Pacientes_Archivo[\"rut\"].str.replace(\" \", \"\")\n",
    "Pacientes_Archivo[\"rut\"] = Pacientes_Archivo[\"rut\"].str.upper()\n",
    "Pacientes_Archivo[\"rut\"] = Pacientes_Archivo[\"rut\"].str.strip()\n",
    "\n",
    "Pacientes_Archivo[\"poliza\"] = Pacientes_Archivo[\"poliza\"].astype(str)\n",
    "Pacientes_Archivo[\"poliza\"] = Pacientes_Archivo[\"poliza\"].str.replace(\"-\", \"\")\n",
    "Pacientes_Archivo[\"poliza\"] = Pacientes_Archivo[\"poliza\"].str.replace(\"–\", \"\")\n",
    "Pacientes_Archivo[\"poliza\"] = Pacientes_Archivo[\"poliza\"].astype(str)\n",
    "Pacientes_Archivo[\"poliza\"] = Pacientes_Archivo[\"poliza\"].str.replace(\".\", \"\")\n",
    "Pacientes_Archivo[\"poliza\"] = Pacientes_Archivo[\"poliza\"].str.replace(\" \", \"\")\n",
    "Pacientes_Archivo[\"poliza\"] = Pacientes_Archivo[\"poliza\"].str.upper()\n",
    "Pacientes_Archivo[\"poliza\"] = Pacientes_Archivo[\"poliza\"].str.strip()\n",
    "Pacientes_Archivo.shape\n",
    "\n",
    "Pacientes_Archivo[\"rutE\"] = Pacientes_Archivo[\"rutE\"].astype(str)\n",
    "Pacientes_Archivo[\"rutE\"] = Pacientes_Archivo[\"rutE\"].str.upper()\n",
    "Pacientes_Archivo[\"rutE\"] = Pacientes_Archivo[\"rutE\"].str.replace(\"-\", \"\")\n",
    "Pacientes_Archivo[\"rutE\"] = Pacientes_Archivo[\"rutE\"].str.replace(\"–\", \"\")\n",
    "Pacientes_Archivo[\"rutE\"] = Pacientes_Archivo[\"rutE\"].str.replace(\".\", \"\")\n",
    "Pacientes_Archivo[\"rutE\"] = Pacientes_Archivo[\"rutE\"].str.strip()\n",
    "Pacientes_Archivo.shape"
   ]
  },
  {
   "cell_type": "code",
   "execution_count": 441,
   "metadata": {
    "notebookRunGroups": {
     "groupValue": "2"
    }
   },
   "outputs": [
    {
     "name": "stderr",
     "output_type": "stream",
     "text": [
      "C:\\Users\\jmartinez\\AppData\\Local\\Temp\\ipykernel_15596\\2296516763.py:5: FutureWarning: The default value of regex will change from True to False in a future version. In addition, single character regular expressions will *not* be treated as literal strings when regex=True.\n",
      "  Pacientes_Archivo[\"rutT\"] = Pacientes_Archivo[\"rutT\"].str.replace(\".\", \"\")\n"
     ]
    },
    {
     "data": {
      "text/plain": [
       "(267672, 23)"
      ]
     },
     "execution_count": 441,
     "metadata": {},
     "output_type": "execute_result"
    }
   ],
   "source": [
    "Pacientes_Archivo[\"rutT\"] = Pacientes_Archivo[\"rut2\"].astype(str)\n",
    "Pacientes_Archivo[\"rutT\"] = Pacientes_Archivo[\"rutT\"].str.replace(\"-\", \"\")\n",
    "Pacientes_Archivo[\"rutT\"] = Pacientes_Archivo[\"rutT\"].str.replace(\"–\", \"\")\n",
    "Pacientes_Archivo[\"rutT\"] = Pacientes_Archivo[\"rutT\"].astype(str)\n",
    "Pacientes_Archivo[\"rutT\"] = Pacientes_Archivo[\"rutT\"].str.replace(\".\", \"\")\n",
    "Pacientes_Archivo[\"rut\"] = Pacientes_Archivo[\"rut\"].str.replace(\" \", \"\")\n",
    "Pacientes_Archivo[\"rutT\"] = Pacientes_Archivo[\"rutT\"].str.upper()\n",
    "Pacientes_Archivo[\"rutT\"] = Pacientes_Archivo[\"rutT\"].str.strip()\n",
    "Pacientes_Archivo.shape"
   ]
  },
  {
   "cell_type": "code",
   "execution_count": 442,
   "metadata": {
    "notebookRunGroups": {
     "groupValue": "2"
    }
   },
   "outputs": [
    {
     "name": "stderr",
     "output_type": "stream",
     "text": [
      "C:\\Users\\jmartinez\\AppData\\Local\\Temp\\ipykernel_15596\\3410721566.py:3: FutureWarning: The default value of regex will change from True to False in a future version. In addition, single character regular expressions will *not* be treated as literal strings when regex=True.\n",
      "  Pacientes_Archivo[\"nombres\"] = Pacientes_Archivo[\"nombres\"].str.replace(\".\", \"\")\n",
      "C:\\Users\\jmartinez\\AppData\\Local\\Temp\\ipykernel_15596\\3410721566.py:13: FutureWarning: The default value of regex will change from True to False in a future version. In addition, single character regular expressions will *not* be treated as literal strings when regex=True.\n",
      "  Pacientes_Archivo[\"apellidos\"] = Pacientes_Archivo[\"apellidos\"].str.replace(\".\", \"\")\n"
     ]
    }
   ],
   "source": [
    "if (\"nombres\" in Pacientes_Archivo.columns) == True:\n",
    "    Pacientes_Archivo[\"nombres\"] = Pacientes_Archivo[\"nombres\"].str.replace(\",\", \"\")\n",
    "    Pacientes_Archivo[\"nombres\"] = Pacientes_Archivo[\"nombres\"].str.replace(\".\", \"\")\n",
    "    Pacientes_Archivo[\"nombres\"] = Pacientes_Archivo[\"nombres\"].str.replace(\"-\", \"\")\n",
    "    Pacientes_Archivo[\"nombres\"] = Pacientes_Archivo[\"nombres\"].str.replace(\"┐\", \"\")\n",
    "    Pacientes_Archivo[\"nombres\"] = Pacientes_Archivo[\"nombres\"].str.replace(\"═\", \"\")\n",
    "    Pacientes_Archivo[\"nombres\"] = Pacientes_Archivo[\"nombres\"].str.replace(\"╔\", \"\")\n",
    "    Pacientes_Archivo[\"nombres\"] = Pacientes_Archivo[\"nombres\"].str.replace(\"┌\", \"\")\n",
    "    Pacientes_Archivo[\"nombres\"] = Pacientes_Archivo[\"nombres\"].str.title()\n",
    "    Pacientes_Archivo[\"nombres\"] = Pacientes_Archivo[\"nombres\"].str.strip()\n",
    "    # Pacientes_Archivo[\"empresa\"] = Pacientes_Archivo[\"empresa\"].str.title()\n",
    "    Pacientes_Archivo[\"apellidos\"] = Pacientes_Archivo[\"apellidos\"].str.replace(\",\", \"\")\n",
    "    Pacientes_Archivo[\"apellidos\"] = Pacientes_Archivo[\"apellidos\"].str.replace(\".\", \"\")\n",
    "    Pacientes_Archivo[\"apellidos\"] = Pacientes_Archivo[\"apellidos\"].str.replace(\"-\", \"\")\n",
    "    Pacientes_Archivo[\"apellidos\"] = Pacientes_Archivo[\"apellidos\"].str.replace(\"┐\", \"\")\n",
    "    Pacientes_Archivo[\"apellidos\"] = Pacientes_Archivo[\"apellidos\"].str.replace(\"═\", \"\")\n",
    "    Pacientes_Archivo[\"apellidos\"] = Pacientes_Archivo[\"apellidos\"].str.replace(\"╔\", \"\")\n",
    "    Pacientes_Archivo[\"apellidos\"] = Pacientes_Archivo[\"apellidos\"].str.replace(\"┌\", \"\")\n",
    "    Pacientes_Archivo[\"apellidos\"] = Pacientes_Archivo[\"apellidos\"].str.title()\n",
    "    Pacientes_Archivo[\"apellidos\"] = Pacientes_Archivo[\"apellidos\"].str.strip()"
   ]
  },
  {
   "cell_type": "code",
   "execution_count": 443,
   "metadata": {
    "notebookRunGroups": {
     "groupValue": "2"
    }
   },
   "outputs": [
    {
     "data": {
      "text/html": [
       "<div>\n",
       "<style scoped>\n",
       "    .dataframe tbody tr th:only-of-type {\n",
       "        vertical-align: middle;\n",
       "    }\n",
       "\n",
       "    .dataframe tbody tr th {\n",
       "        vertical-align: top;\n",
       "    }\n",
       "\n",
       "    .dataframe thead th {\n",
       "        text-align: right;\n",
       "    }\n",
       "</style>\n",
       "<table border=\"1\" class=\"dataframe\">\n",
       "  <thead>\n",
       "    <tr style=\"text-align: right;\">\n",
       "      <th></th>\n",
       "      <th>poliza</th>\n",
       "      <th>empleador</th>\n",
       "      <th>rutE</th>\n",
       "      <th>RUTASEGURADO</th>\n",
       "      <th>DV</th>\n",
       "      <th>rut1</th>\n",
       "      <th>RUTBENEFICIARIO</th>\n",
       "      <th>RUTBENEFIARIO_DV</th>\n",
       "      <th>rut2</th>\n",
       "      <th>nacimiento</th>\n",
       "      <th>...</th>\n",
       "      <th>ciudad</th>\n",
       "      <th>TELEFONO</th>\n",
       "      <th>RELACION</th>\n",
       "      <th>NOMBRE</th>\n",
       "      <th>nombres</th>\n",
       "      <th>apellidos</th>\n",
       "      <th>email</th>\n",
       "      <th>celular</th>\n",
       "      <th>rut</th>\n",
       "      <th>rutT</th>\n",
       "    </tr>\n",
       "  </thead>\n",
       "  <tbody>\n",
       "    <tr>\n",
       "      <th>0</th>\n",
       "      <td>340022755</td>\n",
       "      <td>340022755</td>\n",
       "      <td>340022755</td>\n",
       "      <td>13092210</td>\n",
       "      <td>4</td>\n",
       "      <td>13092210-4</td>\n",
       "      <td>22692809</td>\n",
       "      <td>K</td>\n",
       "      <td>22692809-K</td>\n",
       "      <td>2017-04-10 00:00:00</td>\n",
       "      <td>...</td>\n",
       "      <td>NaN</td>\n",
       "      <td>NaN</td>\n",
       "      <td>HI</td>\n",
       "      <td>Riquelme Thomann Mia</td>\n",
       "      <td>Riquelme Thomann</td>\n",
       "      <td>Mia</td>\n",
       "      <td>PAOLATHOMANN8@GMAIL.COM</td>\n",
       "      <td>950546189</td>\n",
       "      <td>130922104</td>\n",
       "      <td>22692809K</td>\n",
       "    </tr>\n",
       "    <tr>\n",
       "      <th>1</th>\n",
       "      <td>340024040</td>\n",
       "      <td>340024040</td>\n",
       "      <td>340024040</td>\n",
       "      <td>13334327</td>\n",
       "      <td>K</td>\n",
       "      <td>13334327-K</td>\n",
       "      <td>22692817</td>\n",
       "      <td>0</td>\n",
       "      <td>22692817-0</td>\n",
       "      <td>2008-04-10 00:00:00</td>\n",
       "      <td>...</td>\n",
       "      <td>NaN</td>\n",
       "      <td>98850452</td>\n",
       "      <td>HI</td>\n",
       "      <td>Ortiz Matta Fernanda</td>\n",
       "      <td>Ortiz Matta</td>\n",
       "      <td>Fernanda</td>\n",
       "      <td>maria.matta@ebco.cl</td>\n",
       "      <td>998850452</td>\n",
       "      <td>13334327K</td>\n",
       "      <td>226928170</td>\n",
       "    </tr>\n",
       "    <tr>\n",
       "      <th>2</th>\n",
       "      <td>340000577</td>\n",
       "      <td>340000577</td>\n",
       "      <td>340000577</td>\n",
       "      <td>14439078</td>\n",
       "      <td>4</td>\n",
       "      <td>14439078-4</td>\n",
       "      <td>22692862</td>\n",
       "      <td>6</td>\n",
       "      <td>22692862-6</td>\n",
       "      <td>2008-04-08 00:00:00</td>\n",
       "      <td>...</td>\n",
       "      <td>NaN</td>\n",
       "      <td>954623510</td>\n",
       "      <td>HI</td>\n",
       "      <td>Pinto Tapia Benjamin</td>\n",
       "      <td>Pinto Tapia</td>\n",
       "      <td>Benjamin</td>\n",
       "      <td>andreamanosalva2425@gmail.com</td>\n",
       "      <td>NaN</td>\n",
       "      <td>144390784</td>\n",
       "      <td>226928626</td>\n",
       "    </tr>\n",
       "    <tr>\n",
       "      <th>3</th>\n",
       "      <td>340000577</td>\n",
       "      <td>340000577</td>\n",
       "      <td>340000577</td>\n",
       "      <td>14439078</td>\n",
       "      <td>4</td>\n",
       "      <td>14439078-4</td>\n",
       "      <td>22692893</td>\n",
       "      <td>6</td>\n",
       "      <td>22692893-6</td>\n",
       "      <td>2008-04-08 00:00:00</td>\n",
       "      <td>...</td>\n",
       "      <td>NaN</td>\n",
       "      <td>954623510</td>\n",
       "      <td>HI</td>\n",
       "      <td>Pinto Tapia Martin</td>\n",
       "      <td>Pinto Tapia</td>\n",
       "      <td>Martin</td>\n",
       "      <td>andreamanosalva2425@gmail.com</td>\n",
       "      <td>NaN</td>\n",
       "      <td>144390784</td>\n",
       "      <td>226928936</td>\n",
       "    </tr>\n",
       "    <tr>\n",
       "      <th>4</th>\n",
       "      <td>340003856</td>\n",
       "      <td>340003856</td>\n",
       "      <td>340003856</td>\n",
       "      <td>15024929</td>\n",
       "      <td>5</td>\n",
       "      <td>15024929-5</td>\n",
       "      <td>22692894</td>\n",
       "      <td>4</td>\n",
       "      <td>22692894-4</td>\n",
       "      <td>2008-04-03 00:00:00</td>\n",
       "      <td>...</td>\n",
       "      <td></td>\n",
       "      <td>962859315</td>\n",
       "      <td>HI</td>\n",
       "      <td>Luna Fredes Francisco</td>\n",
       "      <td>Luna Fredes</td>\n",
       "      <td>Francisco</td>\n",
       "      <td>fredesnataly3@gmail.com</td>\n",
       "      <td>926009449</td>\n",
       "      <td>150249295</td>\n",
       "      <td>226928944</td>\n",
       "    </tr>\n",
       "    <tr>\n",
       "      <th>...</th>\n",
       "      <td>...</td>\n",
       "      <td>...</td>\n",
       "      <td>...</td>\n",
       "      <td>...</td>\n",
       "      <td>...</td>\n",
       "      <td>...</td>\n",
       "      <td>...</td>\n",
       "      <td>...</td>\n",
       "      <td>...</td>\n",
       "      <td>...</td>\n",
       "      <td>...</td>\n",
       "      <td>...</td>\n",
       "      <td>...</td>\n",
       "      <td>...</td>\n",
       "      <td>...</td>\n",
       "      <td>...</td>\n",
       "      <td>...</td>\n",
       "      <td>...</td>\n",
       "      <td>...</td>\n",
       "      <td>...</td>\n",
       "      <td>...</td>\n",
       "    </tr>\n",
       "    <tr>\n",
       "      <th>267667</th>\n",
       "      <td>340023174</td>\n",
       "      <td>340023174</td>\n",
       "      <td>340023174</td>\n",
       "      <td>9999917</td>\n",
       "      <td>9</td>\n",
       "      <td>9999917-9</td>\n",
       "      <td>9999917</td>\n",
       "      <td>9</td>\n",
       "      <td>9999917-9</td>\n",
       "      <td>1965-11-28 00:00:00</td>\n",
       "      <td>...</td>\n",
       "      <td>NaN</td>\n",
       "      <td>NaN</td>\n",
       "      <td>AS</td>\n",
       "      <td>Urbina Lozano Alejandro</td>\n",
       "      <td>Urbina Lozano</td>\n",
       "      <td>Alejandro</td>\n",
       "      <td>aaurbinalozano@gmail.com</td>\n",
       "      <td>NaN</td>\n",
       "      <td>99999179</td>\n",
       "      <td>99999179</td>\n",
       "    </tr>\n",
       "    <tr>\n",
       "      <th>267668</th>\n",
       "      <td>340007852</td>\n",
       "      <td>340007852</td>\n",
       "      <td>340007852</td>\n",
       "      <td>9999921</td>\n",
       "      <td>7</td>\n",
       "      <td>9999921-7</td>\n",
       "      <td>9999921</td>\n",
       "      <td>7</td>\n",
       "      <td>9999921-7</td>\n",
       "      <td>1966-05-31 00:00:00</td>\n",
       "      <td>...</td>\n",
       "      <td>NaN</td>\n",
       "      <td>9-9699077</td>\n",
       "      <td>AS</td>\n",
       "      <td>Saez Espinoza Osvaldo Domingo</td>\n",
       "      <td>Saez Espinoza</td>\n",
       "      <td>Osvaldo Domingo</td>\n",
       "      <td>osaeze@bancochile.cl</td>\n",
       "      <td>999699077</td>\n",
       "      <td>99999217</td>\n",
       "      <td>99999217</td>\n",
       "    </tr>\n",
       "    <tr>\n",
       "      <th>267669</th>\n",
       "      <td>340007888</td>\n",
       "      <td>340007888</td>\n",
       "      <td>340007888</td>\n",
       "      <td>9999921</td>\n",
       "      <td>7</td>\n",
       "      <td>9999921-7</td>\n",
       "      <td>9999921</td>\n",
       "      <td>7</td>\n",
       "      <td>9999921-7</td>\n",
       "      <td>1966-05-31 00:00:00</td>\n",
       "      <td>...</td>\n",
       "      <td>NaN</td>\n",
       "      <td>9-9699077</td>\n",
       "      <td>AS</td>\n",
       "      <td>Saez Espinoza Osvaldo Domingo</td>\n",
       "      <td>Saez Espinoza</td>\n",
       "      <td>Osvaldo Domingo</td>\n",
       "      <td>osaeze@bancochile.cl</td>\n",
       "      <td>999699077</td>\n",
       "      <td>99999217</td>\n",
       "      <td>99999217</td>\n",
       "    </tr>\n",
       "    <tr>\n",
       "      <th>267670</th>\n",
       "      <td>340007856</td>\n",
       "      <td>340007856</td>\n",
       "      <td>340007856</td>\n",
       "      <td>9999921</td>\n",
       "      <td>7</td>\n",
       "      <td>9999921-7</td>\n",
       "      <td>9999921</td>\n",
       "      <td>7</td>\n",
       "      <td>9999921-7</td>\n",
       "      <td>1966-05-31 00:00:00</td>\n",
       "      <td>...</td>\n",
       "      <td>NaN</td>\n",
       "      <td>9-9699077</td>\n",
       "      <td>AS</td>\n",
       "      <td>Saez Espinoza Osvaldo Domingo</td>\n",
       "      <td>Saez Espinoza</td>\n",
       "      <td>Osvaldo Domingo</td>\n",
       "      <td>osaeze@bancochile.cl</td>\n",
       "      <td>999699077</td>\n",
       "      <td>99999217</td>\n",
       "      <td>99999217</td>\n",
       "    </tr>\n",
       "    <tr>\n",
       "      <th>267671</th>\n",
       "      <td>330000004</td>\n",
       "      <td>330000004</td>\n",
       "      <td>330000004</td>\n",
       "      <td>10172185</td>\n",
       "      <td>K</td>\n",
       "      <td>10172185-K</td>\n",
       "      <td>99999999</td>\n",
       "      <td>9</td>\n",
       "      <td>99999999-9</td>\n",
       "      <td>2008-02-26 00:00:00</td>\n",
       "      <td>...</td>\n",
       "      <td>NaN</td>\n",
       "      <td>995403414</td>\n",
       "      <td>HI</td>\n",
       "      <td>Borquez Melo Vicente</td>\n",
       "      <td>Borquez Melo</td>\n",
       "      <td>Vicente</td>\n",
       "      <td>mmelo@achs.cl</td>\n",
       "      <td>995403414</td>\n",
       "      <td>10172185K</td>\n",
       "      <td>999999999</td>\n",
       "    </tr>\n",
       "  </tbody>\n",
       "</table>\n",
       "<p>267672 rows × 23 columns</p>\n",
       "</div>"
      ],
      "text/plain": [
       "           poliza  empleador       rutE  RUTASEGURADO DV        rut1  \\\n",
       "0       340022755  340022755  340022755      13092210  4  13092210-4   \n",
       "1       340024040  340024040  340024040      13334327  K  13334327-K   \n",
       "2       340000577  340000577  340000577      14439078  4  14439078-4   \n",
       "3       340000577  340000577  340000577      14439078  4  14439078-4   \n",
       "4       340003856  340003856  340003856      15024929  5  15024929-5   \n",
       "...           ...        ...        ...           ... ..         ...   \n",
       "267667  340023174  340023174  340023174       9999917  9   9999917-9   \n",
       "267668  340007852  340007852  340007852       9999921  7   9999921-7   \n",
       "267669  340007888  340007888  340007888       9999921  7   9999921-7   \n",
       "267670  340007856  340007856  340007856       9999921  7   9999921-7   \n",
       "267671  330000004  330000004  330000004      10172185  K  10172185-K   \n",
       "\n",
       "        RUTBENEFICIARIO RUTBENEFIARIO_DV        rut2           nacimiento  \\\n",
       "0              22692809                K  22692809-K  2017-04-10 00:00:00   \n",
       "1              22692817                0  22692817-0  2008-04-10 00:00:00   \n",
       "2              22692862                6  22692862-6  2008-04-08 00:00:00   \n",
       "3              22692893                6  22692893-6  2008-04-08 00:00:00   \n",
       "4              22692894                4  22692894-4  2008-04-03 00:00:00   \n",
       "...                 ...              ...         ...                  ...   \n",
       "267667          9999917                9   9999917-9  1965-11-28 00:00:00   \n",
       "267668          9999921                7   9999921-7  1966-05-31 00:00:00   \n",
       "267669          9999921                7   9999921-7  1966-05-31 00:00:00   \n",
       "267670          9999921                7   9999921-7  1966-05-31 00:00:00   \n",
       "267671         99999999                9  99999999-9  2008-02-26 00:00:00   \n",
       "\n",
       "        ...                     ciudad   TELEFONO RELACION  \\\n",
       "0       ...                        NaN        NaN       HI   \n",
       "1       ...                        NaN   98850452       HI   \n",
       "2       ...                        NaN  954623510       HI   \n",
       "3       ...                        NaN  954623510       HI   \n",
       "4       ...                             962859315       HI   \n",
       "...     ...                        ...        ...      ...   \n",
       "267667  ...                        NaN        NaN       AS   \n",
       "267668  ...                        NaN  9-9699077       AS   \n",
       "267669  ...                        NaN  9-9699077       AS   \n",
       "267670  ...                        NaN  9-9699077       AS   \n",
       "267671  ...                        NaN  995403414       HI   \n",
       "\n",
       "                               NOMBRE           nombres        apellidos  \\\n",
       "0                Riquelme Thomann Mia  Riquelme Thomann              Mia   \n",
       "1                Ortiz Matta Fernanda       Ortiz Matta         Fernanda   \n",
       "2                Pinto Tapia Benjamin       Pinto Tapia         Benjamin   \n",
       "3                  Pinto Tapia Martin       Pinto Tapia           Martin   \n",
       "4               Luna Fredes Francisco       Luna Fredes        Francisco   \n",
       "...                               ...               ...              ...   \n",
       "267667        Urbina Lozano Alejandro     Urbina Lozano        Alejandro   \n",
       "267668  Saez Espinoza Osvaldo Domingo     Saez Espinoza  Osvaldo Domingo   \n",
       "267669  Saez Espinoza Osvaldo Domingo     Saez Espinoza  Osvaldo Domingo   \n",
       "267670  Saez Espinoza Osvaldo Domingo     Saez Espinoza  Osvaldo Domingo   \n",
       "267671           Borquez Melo Vicente      Borquez Melo          Vicente   \n",
       "\n",
       "                                email    celular        rut       rutT  \n",
       "0             PAOLATHOMANN8@GMAIL.COM  950546189  130922104  22692809K  \n",
       "1                 maria.matta@ebco.cl  998850452  13334327K  226928170  \n",
       "2       andreamanosalva2425@gmail.com        NaN  144390784  226928626  \n",
       "3       andreamanosalva2425@gmail.com        NaN  144390784  226928936  \n",
       "4             fredesnataly3@gmail.com  926009449  150249295  226928944  \n",
       "...                               ...        ...        ...        ...  \n",
       "267667       aaurbinalozano@gmail.com        NaN   99999179   99999179  \n",
       "267668           osaeze@bancochile.cl  999699077   99999217   99999217  \n",
       "267669           osaeze@bancochile.cl  999699077   99999217   99999217  \n",
       "267670           osaeze@bancochile.cl  999699077   99999217   99999217  \n",
       "267671                  mmelo@achs.cl  995403414  10172185K  999999999  \n",
       "\n",
       "[267672 rows x 23 columns]"
      ]
     },
     "execution_count": 443,
     "metadata": {},
     "output_type": "execute_result"
    }
   ],
   "source": [
    "Pacientes_Archivo[\"rut\"] = Pacientes_Archivo[\"rut\"].apply(lambda y: siPrimerCero(y))\n",
    "Pacientes_Archivo[\"rutT\"] = Pacientes_Archivo[\"rutT\"].apply(lambda y: siPrimerCero(y))\n",
    "#Pacientes_Archivo\n",
    "\n",
    "# Pacientes_Nones = Pacientes_Archivo[(Pacientes_Archivo[\"rut\"] == \"NONE\") | (Pacientes_Archivo[\"rutT\"] == \"NONE\")]\n",
    "# Pacientes_Archivo = Pacientes_Archivo[(Pacientes_Archivo[\"rut\"] != \"NONE\") | (Pacientes_Archivo[\"rutT\"] != \"NONE\")]"
   ]
  },
  {
   "cell_type": "code",
   "execution_count": 382,
   "metadata": {},
   "outputs": [],
   "source": [
    "# Pacientes_Archivo.to_excel(\"F:/Empresas SF/reportes/Pacientes_Archivo22.xlsx\", index=False)"
   ]
  },
  {
   "cell_type": "code",
   "execution_count": 444,
   "metadata": {
    "notebookRunGroups": {
     "groupValue": "2"
    }
   },
   "outputs": [],
   "source": [
    "Pacientes_Archivo = Pacientes_Archivo[(Pacientes_Archivo[\"rut\"] != \"NONE\")]\n",
    "Pacientes_Archivo = Pacientes_Archivo[(Pacientes_Archivo[\"rutT\"] != \"NONE\")]\n",
    "# | (Pacientes_Archivo[\"rutT\"] != \"NONE\")\n"
   ]
  },
  {
   "cell_type": "code",
   "execution_count": 384,
   "metadata": {},
   "outputs": [],
   "source": [
    "Pacientes_Archivo[\"Llave\"] = Pacientes_Archivo[\"rutT\"] + Pacientes_Archivo[\"rut\"]\n",
    "Pacientes_Archivo[\"PolizaLlave\"] = Pacientes_Archivo[\"poliza\"] +  Pacientes_Archivo[\"rutT\"] + Pacientes_Archivo[\"rut\"]\n",
    "\n",
    "#Pacientes_Archivo.to_excel(\"F:/Empresas SF/reportes/eliminar2.xlsx\", index=False)"
   ]
  },
  {
   "cell_type": "markdown",
   "metadata": {},
   "source": [
    "PAcientes Programas\n"
   ]
  },
  {
   "cell_type": "code",
   "execution_count": 385,
   "metadata": {
    "notebookRunGroups": {
     "groupValue": ""
    }
   },
   "outputs": [
    {
     "data": {
      "text/plain": [
       "' query_pacientePrograma = (\\n    \"SELECT Paciente__c,Programas_por_Empresas__r.Empresa__c,Paciente__r.IdentificationId__pc,Id from Paciente_Programas__c where padre__c =  \\'\"\\n    + campaña\\n    + \"\\'\"\\n)\\npacientePrograma = sf.smart_query(query_pacientePrograma)\\npacientePrograma.head()\\npacientePrograma = pacientePrograma.rename(\\n    columns={\\n        \"Id\": \"Id Paciente Programas\",\\n        \"Paciente__r.IdentificationId__pc\": \"Rut\",\\n        \"Programas_por_Empresas__r.Empresa__c\": \"Id Account Empleador\",\\n        \"Paciente__c\": \"Id Account Paciente\",\\n    }\\n)\\npacientePrograma.head()\\npacientePrograma[\"Rut\"] = pacientePrograma[\"Rut\"].astype(str)\\npacientePrograma[\"Rut\"] = pacientePrograma[\"Rut\"].str.replace(\"-\", \"\")\\npacientePrograma[\"Rut\"] = pacientePrograma[\"Rut\"].str.replace(\"–\", \"\")\\npacientePrograma[\"Rut\"] = pacientePrograma[\"Rut\"].astype(str)\\npacientePrograma[\"Rut\"] = pacientePrograma[\"Rut\"].str.replace(\".\", \"\")\\npacientePrograma[\"Rut\"] = pacientePrograma[\"Rut\"].str.upper()\\npacientePrograma[\"Rut\"] = pacientePrograma[\"Rut\"].str.strip()\\npacientePrograma.shape\\nPacientesProgramas_PacientesSF = pd.merge(\\n    left=pacientePrograma,\\n    right=Pacientes_IDrut,\\n    how=\"left\",\\n    left_on=\"Id Account Paciente\",\\n    right_on=\"Id Account Paciente\",\\n)\\n\\nPacientesProgramas_PacientesSF.head() '"
      ]
     },
     "execution_count": 385,
     "metadata": {},
     "output_type": "execute_result"
    }
   ],
   "source": [
    "\"\"\" query_pacientePrograma = (\n",
    "    \"SELECT Paciente__c,Programas_por_Empresas__r.Empresa__c,Paciente__r.IdentificationId__pc,Id from Paciente_Programas__c where padre__c =  '\"\n",
    "    + campaña\n",
    "    + \"'\"\n",
    ")\n",
    "pacientePrograma = sf.smart_query(query_pacientePrograma)\n",
    "pacientePrograma.head()\n",
    "pacientePrograma = pacientePrograma.rename(\n",
    "    columns={\n",
    "        \"Id\": \"Id Paciente Programas\",\n",
    "        \"Paciente__r.IdentificationId__pc\": \"Rut\",\n",
    "        \"Programas_por_Empresas__r.Empresa__c\": \"Id Account Empleador\",\n",
    "        \"Paciente__c\": \"Id Account Paciente\",\n",
    "    }\n",
    ")\n",
    "pacientePrograma.head()\n",
    "pacientePrograma[\"Rut\"] = pacientePrograma[\"Rut\"].astype(str)\n",
    "pacientePrograma[\"Rut\"] = pacientePrograma[\"Rut\"].str.replace(\"-\", \"\")\n",
    "pacientePrograma[\"Rut\"] = pacientePrograma[\"Rut\"].str.replace(\"–\", \"\")\n",
    "pacientePrograma[\"Rut\"] = pacientePrograma[\"Rut\"].astype(str)\n",
    "pacientePrograma[\"Rut\"] = pacientePrograma[\"Rut\"].str.replace(\".\", \"\")\n",
    "pacientePrograma[\"Rut\"] = pacientePrograma[\"Rut\"].str.upper()\n",
    "pacientePrograma[\"Rut\"] = pacientePrograma[\"Rut\"].str.strip()\n",
    "pacientePrograma.shape\n",
    "PacientesProgramas_PacientesSF = pd.merge(\n",
    "    left=pacientePrograma,\n",
    "    right=Pacientes_IDrut,\n",
    "    how=\"left\",\n",
    "    left_on=\"Id Account Paciente\",\n",
    "    right_on=\"Id Account Paciente\",\n",
    ")\n",
    "\n",
    "PacientesProgramas_PacientesSF.head() \"\"\""
   ]
  },
  {
   "cell_type": "markdown",
   "metadata": {},
   "source": [
    "account contact relation\n"
   ]
  },
  {
   "cell_type": "code",
   "execution_count": 386,
   "metadata": {
    "notebookRunGroups": {
     "groupValue": ""
    }
   },
   "outputs": [
    {
     "data": {
      "text/plain": [
       "' query_accountContact = (\\n    \"select Id,ContactId, AccountId, RutContact__c ,Contact.AccountId from AccountContactRelation where Account.Campa_a__c = \\'\"\\n    + campaña\\n    + \"\\'\"\\n)\\naccountContactRelation = sf.smart_query(query_accountContact)\\naccountContactRelation.head()\\naccountContactRelation = accountContactRelation.rename(\\n    columns={\\n        \"Id\": \"Id AccountContactRelation\",\\n        \"ContactId\": \"Id Contact Paciente\",\\n        \"AccountId\": \"Id Account Empresa\",\\n        \"RutContact__c\": \"Rut\",\\n        \"Contact.AccountId\": \"Id Account Paciente\",\\n    }\\n)\\naccountContactRelation.head()\\naccountContactRelation[\"Rut\"] = accountContactRelation[\"Rut\"].astype(str)\\naccountContactRelation[\"Rut\"] = accountContactRelation[\"Rut\"].str.replace(\"-\", \"\")\\naccountContactRelation[\"Rut\"] = accountContactRelation[\"Rut\"].str.replace(\"–\", \"\")\\naccountContactRelation[\"Rut\"] = accountContactRelation[\"Rut\"].astype(str)\\naccountContactRelation[\"Rut\"] = accountContactRelation[\"Rut\"].str.replace(\".\", \"\")\\naccountContactRelation[\"Rut\"] = accountContactRelation[\"Rut\"].str.upper()\\naccountContactRelation[\"Rut\"] = accountContactRelation[\"Rut\"].str.strip()\\naccountContactRelation.shape\\nAccountContact_PacientesSF = pd.merge(\\n    left=accountContactRelation,\\n    right=Pacientes_IDrut,\\n    how=\"left\",\\n    left_on=\"Id Account Paciente\",\\n    right_on=\"Id Account Paciente\",\\n)\\nAccountContact_PacientesSF.head() '"
      ]
     },
     "execution_count": 386,
     "metadata": {},
     "output_type": "execute_result"
    }
   ],
   "source": [
    "\"\"\" query_accountContact = (\n",
    "    \"select Id,ContactId, AccountId, RutContact__c ,Contact.AccountId from AccountContactRelation where Account.Campa_a__c = '\"\n",
    "    + campaña\n",
    "    + \"'\"\n",
    ")\n",
    "accountContactRelation = sf.smart_query(query_accountContact)\n",
    "accountContactRelation.head()\n",
    "accountContactRelation = accountContactRelation.rename(\n",
    "    columns={\n",
    "        \"Id\": \"Id AccountContactRelation\",\n",
    "        \"ContactId\": \"Id Contact Paciente\",\n",
    "        \"AccountId\": \"Id Account Empresa\",\n",
    "        \"RutContact__c\": \"Rut\",\n",
    "        \"Contact.AccountId\": \"Id Account Paciente\",\n",
    "    }\n",
    ")\n",
    "accountContactRelation.head()\n",
    "accountContactRelation[\"Rut\"] = accountContactRelation[\"Rut\"].astype(str)\n",
    "accountContactRelation[\"Rut\"] = accountContactRelation[\"Rut\"].str.replace(\"-\", \"\")\n",
    "accountContactRelation[\"Rut\"] = accountContactRelation[\"Rut\"].str.replace(\"–\", \"\")\n",
    "accountContactRelation[\"Rut\"] = accountContactRelation[\"Rut\"].astype(str)\n",
    "accountContactRelation[\"Rut\"] = accountContactRelation[\"Rut\"].str.replace(\".\", \"\")\n",
    "accountContactRelation[\"Rut\"] = accountContactRelation[\"Rut\"].str.upper()\n",
    "accountContactRelation[\"Rut\"] = accountContactRelation[\"Rut\"].str.strip()\n",
    "accountContactRelation.shape\n",
    "AccountContact_PacientesSF = pd.merge(\n",
    "    left=accountContactRelation,\n",
    "    right=Pacientes_IDrut,\n",
    "    how=\"left\",\n",
    "    left_on=\"Id Account Paciente\",\n",
    "    right_on=\"Id Account Paciente\",\n",
    ")\n",
    "AccountContact_PacientesSF.head() \"\"\""
   ]
  },
  {
   "cell_type": "markdown",
   "metadata": {},
   "source": [
    "empresa contacto convenio\n"
   ]
  },
  {
   "cell_type": "code",
   "execution_count": 445,
   "metadata": {
    "notebookRunGroups": {
     "groupValue": "2"
    }
   },
   "outputs": [
    {
     "name": "stderr",
     "output_type": "stream",
     "text": [
      "100%|██████████| 1/1 [02:27<00:00, 147.40s/it]\n"
     ]
    },
    {
     "data": {
      "text/html": [
       "<div>\n",
       "<style scoped>\n",
       "    .dataframe tbody tr th:only-of-type {\n",
       "        vertical-align: middle;\n",
       "    }\n",
       "\n",
       "    .dataframe tbody tr th {\n",
       "        vertical-align: top;\n",
       "    }\n",
       "\n",
       "    .dataframe thead th {\n",
       "        text-align: right;\n",
       "    }\n",
       "</style>\n",
       "<table border=\"1\" class=\"dataframe\">\n",
       "  <thead>\n",
       "    <tr style=\"text-align: right;\">\n",
       "      <th></th>\n",
       "      <th>Id</th>\n",
       "      <th>Paciente__r.IdentificationId__pc</th>\n",
       "      <th>Empresa__r.P_liza__c</th>\n",
       "      <th>Empresa__r.Rut_Empresa__c</th>\n",
       "      <th>Empresa__c</th>\n",
       "      <th>Paciente__c</th>\n",
       "      <th>N_Documento_Titular__c</th>\n",
       "    </tr>\n",
       "  </thead>\n",
       "  <tbody>\n",
       "    <tr>\n",
       "      <th>0</th>\n",
       "      <td>a40RN000000q575YAA</td>\n",
       "      <td>199175742</td>\n",
       "      <td>340023542</td>\n",
       "      <td>-</td>\n",
       "      <td>a3yRN0000006sFLYAY</td>\n",
       "      <td>0018c00002bJkewAAC</td>\n",
       "      <td>199175742</td>\n",
       "    </tr>\n",
       "    <tr>\n",
       "      <th>1</th>\n",
       "      <td>a40RN000000q8BDYAY</td>\n",
       "      <td>15638903K</td>\n",
       "      <td>340023542</td>\n",
       "      <td>-</td>\n",
       "      <td>a3yRN0000006sFLYAY</td>\n",
       "      <td>0018c00002b043oAAA</td>\n",
       "      <td>15638903K</td>\n",
       "    </tr>\n",
       "    <tr>\n",
       "      <th>2</th>\n",
       "      <td>a40RN000000qC04YAE</td>\n",
       "      <td>184271516</td>\n",
       "      <td>340023542</td>\n",
       "      <td>-</td>\n",
       "      <td>a3yRN0000006sFLYAY</td>\n",
       "      <td>0018c00002b049FAAQ</td>\n",
       "      <td>176591048</td>\n",
       "    </tr>\n",
       "    <tr>\n",
       "      <th>3</th>\n",
       "      <td>a40RN000000qFbOYAU</td>\n",
       "      <td>272172277</td>\n",
       "      <td>340023542</td>\n",
       "      <td>-</td>\n",
       "      <td>a3yRN0000006sFLYAY</td>\n",
       "      <td>0018c00002oNqQxAAK</td>\n",
       "      <td>272172277</td>\n",
       "    </tr>\n",
       "    <tr>\n",
       "      <th>4</th>\n",
       "      <td>a40RN000000qGwJYAU</td>\n",
       "      <td>197504749</td>\n",
       "      <td>340023542</td>\n",
       "      <td>-</td>\n",
       "      <td>a3yRN0000006sFLYAY</td>\n",
       "      <td>0018c00002cXFvaAAG</td>\n",
       "      <td>197504749</td>\n",
       "    </tr>\n",
       "  </tbody>\n",
       "</table>\n",
       "</div>"
      ],
      "text/plain": [
       "                   Id Paciente__r.IdentificationId__pc Empresa__r.P_liza__c  \\\n",
       "0  a40RN000000q575YAA                        199175742            340023542   \n",
       "1  a40RN000000q8BDYAY                        15638903K            340023542   \n",
       "2  a40RN000000qC04YAE                        184271516            340023542   \n",
       "3  a40RN000000qFbOYAU                        272172277            340023542   \n",
       "4  a40RN000000qGwJYAU                        197504749            340023542   \n",
       "\n",
       "  Empresa__r.Rut_Empresa__c          Empresa__c         Paciente__c  \\\n",
       "0                         -  a3yRN0000006sFLYAY  0018c00002bJkewAAC   \n",
       "1                         -  a3yRN0000006sFLYAY  0018c00002b043oAAA   \n",
       "2                         -  a3yRN0000006sFLYAY  0018c00002b049FAAQ   \n",
       "3                         -  a3yRN0000006sFLYAY  0018c00002oNqQxAAK   \n",
       "4                         -  a3yRN0000006sFLYAY  0018c00002cXFvaAAG   \n",
       "\n",
       "  N_Documento_Titular__c  \n",
       "0              199175742  \n",
       "1              15638903K  \n",
       "2              176591048  \n",
       "3              272172277  \n",
       "4              197504749  "
      ]
     },
     "execution_count": 445,
     "metadata": {},
     "output_type": "execute_result"
    }
   ],
   "source": [
    "query_empresacontactoconvenio = (\n",
    "    \"select Id,Paciente__r.IdentificationId__pc, Empresa__r.P_liza__c,Empresa__r.Rut_Empresa__c, Empresa__c, Paciente__c,N_Documento_Titular__c from EmpresaContactoConvenios__c where Empresa__r.Campa_a__c = '\"\n",
    "    + campaña\n",
    "    + \"'\"\n",
    ")\n",
    "empresacontactoconvenio = sf.smart_query(query_empresacontactoconvenio)\n",
    "empresacontactoconvenio.head()"
   ]
  },
  {
   "cell_type": "code",
   "execution_count": 446,
   "metadata": {
    "notebookRunGroups": {
     "groupValue": "2"
    }
   },
   "outputs": [
    {
     "data": {
      "text/html": [
       "<div>\n",
       "<style scoped>\n",
       "    .dataframe tbody tr th:only-of-type {\n",
       "        vertical-align: middle;\n",
       "    }\n",
       "\n",
       "    .dataframe tbody tr th {\n",
       "        vertical-align: top;\n",
       "    }\n",
       "\n",
       "    .dataframe thead th {\n",
       "        text-align: right;\n",
       "    }\n",
       "</style>\n",
       "<table border=\"1\" class=\"dataframe\">\n",
       "  <thead>\n",
       "    <tr style=\"text-align: right;\">\n",
       "      <th></th>\n",
       "      <th>Id EmpresaContactoConvenio</th>\n",
       "      <th>Rut</th>\n",
       "      <th>Poliza</th>\n",
       "      <th>Rut Empresa</th>\n",
       "      <th>Id Convenio Empresa</th>\n",
       "      <th>Id Account Paciente</th>\n",
       "      <th>Rut Titular</th>\n",
       "    </tr>\n",
       "  </thead>\n",
       "  <tbody>\n",
       "    <tr>\n",
       "      <th>0</th>\n",
       "      <td>a40RN000000q575YAA</td>\n",
       "      <td>199175742</td>\n",
       "      <td>340023542</td>\n",
       "      <td>-</td>\n",
       "      <td>a3yRN0000006sFLYAY</td>\n",
       "      <td>0018c00002bJkewAAC</td>\n",
       "      <td>199175742</td>\n",
       "    </tr>\n",
       "    <tr>\n",
       "      <th>1</th>\n",
       "      <td>a40RN000000q8BDYAY</td>\n",
       "      <td>15638903K</td>\n",
       "      <td>340023542</td>\n",
       "      <td>-</td>\n",
       "      <td>a3yRN0000006sFLYAY</td>\n",
       "      <td>0018c00002b043oAAA</td>\n",
       "      <td>15638903K</td>\n",
       "    </tr>\n",
       "    <tr>\n",
       "      <th>2</th>\n",
       "      <td>a40RN000000qC04YAE</td>\n",
       "      <td>184271516</td>\n",
       "      <td>340023542</td>\n",
       "      <td>-</td>\n",
       "      <td>a3yRN0000006sFLYAY</td>\n",
       "      <td>0018c00002b049FAAQ</td>\n",
       "      <td>176591048</td>\n",
       "    </tr>\n",
       "    <tr>\n",
       "      <th>3</th>\n",
       "      <td>a40RN000000qFbOYAU</td>\n",
       "      <td>272172277</td>\n",
       "      <td>340023542</td>\n",
       "      <td>-</td>\n",
       "      <td>a3yRN0000006sFLYAY</td>\n",
       "      <td>0018c00002oNqQxAAK</td>\n",
       "      <td>272172277</td>\n",
       "    </tr>\n",
       "    <tr>\n",
       "      <th>4</th>\n",
       "      <td>a40RN000000qGwJYAU</td>\n",
       "      <td>197504749</td>\n",
       "      <td>340023542</td>\n",
       "      <td>-</td>\n",
       "      <td>a3yRN0000006sFLYAY</td>\n",
       "      <td>0018c00002cXFvaAAG</td>\n",
       "      <td>197504749</td>\n",
       "    </tr>\n",
       "  </tbody>\n",
       "</table>\n",
       "</div>"
      ],
      "text/plain": [
       "  Id EmpresaContactoConvenio        Rut     Poliza Rut Empresa  \\\n",
       "0         a40RN000000q575YAA  199175742  340023542           -   \n",
       "1         a40RN000000q8BDYAY  15638903K  340023542           -   \n",
       "2         a40RN000000qC04YAE  184271516  340023542           -   \n",
       "3         a40RN000000qFbOYAU  272172277  340023542           -   \n",
       "4         a40RN000000qGwJYAU  197504749  340023542           -   \n",
       "\n",
       "  Id Convenio Empresa Id Account Paciente Rut Titular  \n",
       "0  a3yRN0000006sFLYAY  0018c00002bJkewAAC   199175742  \n",
       "1  a3yRN0000006sFLYAY  0018c00002b043oAAA   15638903K  \n",
       "2  a3yRN0000006sFLYAY  0018c00002b049FAAQ   176591048  \n",
       "3  a3yRN0000006sFLYAY  0018c00002oNqQxAAK   272172277  \n",
       "4  a3yRN0000006sFLYAY  0018c00002cXFvaAAG   197504749  "
      ]
     },
     "execution_count": 446,
     "metadata": {},
     "output_type": "execute_result"
    }
   ],
   "source": [
    "empresacontactoconvenio = empresacontactoconvenio.rename(\n",
    "    columns={\n",
    "        \"Id\": \"Id EmpresaContactoConvenio\",\n",
    "        \"Paciente__r.IdentificationId__pc\": \"Rut\",\n",
    "        \"Empresa__c\": \"Id Convenio Empresa\",\n",
    "        \"Paciente__c\": \"Id Account Paciente\",\n",
    "        \"N_Documento_Titular__c\": \"Rut Titular\",\n",
    "        \"Empresa__r.P_liza__c\":\"Poliza\",\n",
    "        \"Empresa__r.Rut_Empresa__c\":\"Rut Empresa\",\n",
    "    }\n",
    ")\n",
    "empresacontactoconvenio.head()"
   ]
  },
  {
   "cell_type": "code",
   "execution_count": 447,
   "metadata": {
    "notebookRunGroups": {
     "groupValue": "2"
    }
   },
   "outputs": [
    {
     "name": "stderr",
     "output_type": "stream",
     "text": [
      "C:\\Users\\jmartinez\\AppData\\Local\\Temp\\ipykernel_15596\\3330564967.py:5: FutureWarning: The default value of regex will change from True to False in a future version. In addition, single character regular expressions will *not* be treated as literal strings when regex=True.\n",
      "  empresacontactoconvenio[\"Rut\"] = empresacontactoconvenio[\"Rut\"].str.replace(\".\", \"\")\n",
      "C:\\Users\\jmartinez\\AppData\\Local\\Temp\\ipykernel_15596\\3330564967.py:14: FutureWarning: The default value of regex will change from True to False in a future version. In addition, single character regular expressions will *not* be treated as literal strings when regex=True.\n",
      "  empresacontactoconvenio[\"Rut Empresa\"] = empresacontactoconvenio[\"Rut Empresa\"].str.replace(\".\", \"\")\n",
      "C:\\Users\\jmartinez\\AppData\\Local\\Temp\\ipykernel_15596\\3330564967.py:23: FutureWarning: The default value of regex will change from True to False in a future version. In addition, single character regular expressions will *not* be treated as literal strings when regex=True.\n",
      "  empresacontactoconvenio[\"Poliza\"] = empresacontactoconvenio[\"Poliza\"].str.replace(\".\", \"\")\n"
     ]
    },
    {
     "data": {
      "text/plain": [
       "(867522, 7)"
      ]
     },
     "execution_count": 447,
     "metadata": {},
     "output_type": "execute_result"
    }
   ],
   "source": [
    "empresacontactoconvenio[\"Rut\"] = empresacontactoconvenio[\"Rut\"].astype(str)\n",
    "empresacontactoconvenio[\"Rut\"] = empresacontactoconvenio[\"Rut\"].str.replace(\"-\", \"\")\n",
    "empresacontactoconvenio[\"Rut\"] = empresacontactoconvenio[\"Rut\"].str.replace(\"–\", \"\")\n",
    "empresacontactoconvenio[\"Rut\"] = empresacontactoconvenio[\"Rut\"].astype(str)\n",
    "empresacontactoconvenio[\"Rut\"] = empresacontactoconvenio[\"Rut\"].str.replace(\".\", \"\")\n",
    "empresacontactoconvenio[\"Rut\"] = empresacontactoconvenio[\"Rut\"].str.replace(\" \", \"\")\n",
    "empresacontactoconvenio[\"Rut\"] = empresacontactoconvenio[\"Rut\"].str.upper()\n",
    "empresacontactoconvenio[\"Rut\"] = empresacontactoconvenio[\"Rut\"].str.strip()\n",
    "\n",
    "empresacontactoconvenio[\"Rut Empresa\"] = empresacontactoconvenio[\"Rut Empresa\"].astype(str)\n",
    "empresacontactoconvenio[\"Rut Empresa\"] = empresacontactoconvenio[\"Rut Empresa\"].str.replace(\"-\", \"\")\n",
    "empresacontactoconvenio[\"Rut Empresa\"] = empresacontactoconvenio[\"Rut Empresa\"].str.replace(\"–\", \"\")\n",
    "empresacontactoconvenio[\"Rut Empresa\"] = empresacontactoconvenio[\"Rut Empresa\"].astype(str)\n",
    "empresacontactoconvenio[\"Rut Empresa\"] = empresacontactoconvenio[\"Rut Empresa\"].str.replace(\".\", \"\")\n",
    "empresacontactoconvenio[\"Rut Empresa\"] = empresacontactoconvenio[\"Rut Empresa\"].str.replace(\" \", \"\")\n",
    "empresacontactoconvenio[\"Rut Empresa\"] = empresacontactoconvenio[\"Rut Empresa\"].str.upper()\n",
    "empresacontactoconvenio[\"Rut Empresa\"] = empresacontactoconvenio[\"Rut Empresa\"].str.strip()\n",
    "\n",
    "empresacontactoconvenio[\"Poliza\"] = empresacontactoconvenio[\"Poliza\"].astype(str)\n",
    "empresacontactoconvenio[\"Poliza\"] = empresacontactoconvenio[\"Poliza\"].str.replace(\"-\", \"\")\n",
    "empresacontactoconvenio[\"Poliza\"] = empresacontactoconvenio[\"Poliza\"].str.replace(\"–\", \"\")\n",
    "empresacontactoconvenio[\"Poliza\"] = empresacontactoconvenio[\"Poliza\"].astype(str)\n",
    "empresacontactoconvenio[\"Poliza\"] = empresacontactoconvenio[\"Poliza\"].str.replace(\".\", \"\")\n",
    "empresacontactoconvenio[\"Poliza\"] = empresacontactoconvenio[\"Poliza\"].str.replace(\" \", \"\")\n",
    "empresacontactoconvenio[\"Poliza\"] = empresacontactoconvenio[\"Poliza\"].str.upper()\n",
    "empresacontactoconvenio[\"Poliza\"] = empresacontactoconvenio[\"Poliza\"].str.strip()\n",
    "\n",
    "\n",
    "empresacontactoconvenio.shape"
   ]
  },
  {
   "cell_type": "code",
   "execution_count": 448,
   "metadata": {
    "notebookRunGroups": {
     "groupValue": "2"
    }
   },
   "outputs": [
    {
     "data": {
      "text/html": [
       "<div>\n",
       "<style scoped>\n",
       "    .dataframe tbody tr th:only-of-type {\n",
       "        vertical-align: middle;\n",
       "    }\n",
       "\n",
       "    .dataframe tbody tr th {\n",
       "        vertical-align: top;\n",
       "    }\n",
       "\n",
       "    .dataframe thead th {\n",
       "        text-align: right;\n",
       "    }\n",
       "</style>\n",
       "<table border=\"1\" class=\"dataframe\">\n",
       "  <thead>\n",
       "    <tr style=\"text-align: right;\">\n",
       "      <th></th>\n",
       "      <th>Id EmpresaContactoConvenio</th>\n",
       "      <th>Rut_x</th>\n",
       "      <th>Poliza</th>\n",
       "      <th>Rut Empresa</th>\n",
       "      <th>Id Convenio Empresa</th>\n",
       "      <th>Id Account Paciente</th>\n",
       "      <th>Rut Titular</th>\n",
       "      <th>Rut_y</th>\n",
       "      <th>Id Contacto</th>\n",
       "    </tr>\n",
       "  </thead>\n",
       "  <tbody>\n",
       "    <tr>\n",
       "      <th>0</th>\n",
       "      <td>a40RN000000q575YAA</td>\n",
       "      <td>199175742</td>\n",
       "      <td>340023542</td>\n",
       "      <td></td>\n",
       "      <td>a3yRN0000006sFLYAY</td>\n",
       "      <td>0018c00002bJkewAAC</td>\n",
       "      <td>199175742</td>\n",
       "      <td>199175742</td>\n",
       "      <td>0038c000035v8MPAAY</td>\n",
       "    </tr>\n",
       "    <tr>\n",
       "      <th>1</th>\n",
       "      <td>a40RN000000q8BDYAY</td>\n",
       "      <td>15638903K</td>\n",
       "      <td>340023542</td>\n",
       "      <td></td>\n",
       "      <td>a3yRN0000006sFLYAY</td>\n",
       "      <td>0018c00002b043oAAA</td>\n",
       "      <td>15638903K</td>\n",
       "      <td>15638903K</td>\n",
       "      <td>0038c000035sDzdAAE</td>\n",
       "    </tr>\n",
       "    <tr>\n",
       "      <th>2</th>\n",
       "      <td>a40RN000000qC04YAE</td>\n",
       "      <td>184271516</td>\n",
       "      <td>340023542</td>\n",
       "      <td></td>\n",
       "      <td>a3yRN0000006sFLYAY</td>\n",
       "      <td>0018c00002b049FAAQ</td>\n",
       "      <td>176591048</td>\n",
       "      <td>184271516</td>\n",
       "      <td>0038c000035sE4qAAE</td>\n",
       "    </tr>\n",
       "    <tr>\n",
       "      <th>3</th>\n",
       "      <td>a40RN000000qFbOYAU</td>\n",
       "      <td>272172277</td>\n",
       "      <td>340023542</td>\n",
       "      <td></td>\n",
       "      <td>a3yRN0000006sFLYAY</td>\n",
       "      <td>0018c00002oNqQxAAK</td>\n",
       "      <td>272172277</td>\n",
       "      <td>272172277</td>\n",
       "      <td>0038c00003KEDi8AAH</td>\n",
       "    </tr>\n",
       "    <tr>\n",
       "      <th>4</th>\n",
       "      <td>a40RN000000qGwJYAU</td>\n",
       "      <td>197504749</td>\n",
       "      <td>340023542</td>\n",
       "      <td></td>\n",
       "      <td>a3yRN0000006sFLYAY</td>\n",
       "      <td>0018c00002cXFvaAAG</td>\n",
       "      <td>197504749</td>\n",
       "      <td>197504749</td>\n",
       "      <td>0038c000036lOhDAAU</td>\n",
       "    </tr>\n",
       "  </tbody>\n",
       "</table>\n",
       "</div>"
      ],
      "text/plain": [
       "  Id EmpresaContactoConvenio      Rut_x     Poliza Rut Empresa  \\\n",
       "0         a40RN000000q575YAA  199175742  340023542               \n",
       "1         a40RN000000q8BDYAY  15638903K  340023542               \n",
       "2         a40RN000000qC04YAE  184271516  340023542               \n",
       "3         a40RN000000qFbOYAU  272172277  340023542               \n",
       "4         a40RN000000qGwJYAU  197504749  340023542               \n",
       "\n",
       "  Id Convenio Empresa Id Account Paciente Rut Titular      Rut_y  \\\n",
       "0  a3yRN0000006sFLYAY  0018c00002bJkewAAC   199175742  199175742   \n",
       "1  a3yRN0000006sFLYAY  0018c00002b043oAAA   15638903K  15638903K   \n",
       "2  a3yRN0000006sFLYAY  0018c00002b049FAAQ   176591048  184271516   \n",
       "3  a3yRN0000006sFLYAY  0018c00002oNqQxAAK   272172277  272172277   \n",
       "4  a3yRN0000006sFLYAY  0018c00002cXFvaAAG   197504749  197504749   \n",
       "\n",
       "          Id Contacto  \n",
       "0  0038c000035v8MPAAY  \n",
       "1  0038c000035sDzdAAE  \n",
       "2  0038c000035sE4qAAE  \n",
       "3  0038c00003KEDi8AAH  \n",
       "4  0038c000036lOhDAAU  "
      ]
     },
     "execution_count": 448,
     "metadata": {},
     "output_type": "execute_result"
    }
   ],
   "source": [
    "empresacontactoconvenio_PacientesSF = pd.merge(\n",
    "    left=empresacontactoconvenio,\n",
    "    right=Pacientes_IDrut,\n",
    "    how=\"left\",\n",
    "    left_on=\"Id Account Paciente\",\n",
    "    right_on=\"Id Account Paciente\",\n",
    ")\n",
    "empresacontactoconvenio_PacientesSF.head()"
   ]
  },
  {
   "cell_type": "code",
   "execution_count": 391,
   "metadata": {},
   "outputs": [
    {
     "data": {
      "text/plain": [
       "' if(campaña!=\"MetLife\"):\\n    pacientePrograma.to_excel(\"F:/Empresas SF/reportes/paciente_programas.xlsx\", index=False) '"
      ]
     },
     "execution_count": 391,
     "metadata": {},
     "output_type": "execute_result"
    }
   ],
   "source": [
    "\"\"\" if(campaña!=\"MetLife\"):\n",
    "    pacientePrograma.to_excel(\"F:/Empresas SF/reportes/paciente_programas.xlsx\", index=False) \"\"\""
   ]
  },
  {
   "cell_type": "markdown",
   "metadata": {},
   "source": [
    "Rescatamos todos los ruts Id con su empresa desde la campaña\n"
   ]
  },
  {
   "cell_type": "code",
   "execution_count": 449,
   "metadata": {
    "notebookRunGroups": {
     "groupValue": "2"
    }
   },
   "outputs": [],
   "source": [
    "#Pacientes_Archivo.head()"
   ]
  },
  {
   "cell_type": "markdown",
   "metadata": {},
   "source": [
    "Pacientes_con_id.to_excel(\"F:/Empresas SF/reportes/id.xlsx\", index=False)\n"
   ]
  },
  {
   "cell_type": "markdown",
   "metadata": {},
   "source": [
    "Pacientes_Archivo.drop_duplicates(\n",
    "[\n",
    "\"rut\",\n",
    "\"rutT\",\n",
    "\"LLaveEmpresa\",\n",
    "\"LLAveRut\",\n",
    "],\n",
    "keep=\"last\",\n",
    ")\n",
    "Pacientes_Archivo.shape\n"
   ]
  },
  {
   "cell_type": "code",
   "execution_count": 450,
   "metadata": {
    "notebookRunGroups": {
     "groupValue": "2"
    }
   },
   "outputs": [
    {
     "name": "stdout",
     "output_type": "stream",
     "text": [
      "MetLife\n"
     ]
    }
   ],
   "source": [
    "print(campaña)"
   ]
  },
  {
   "cell_type": "code",
   "execution_count": 451,
   "metadata": {
    "notebookRunGroups": {
     "groupValue": "2"
    }
   },
   "outputs": [],
   "source": [
    "Pacientes_Archivo[\"RutEstaoNo\"] = Pacientes_Archivo[\"rut\"].isin(Pacientes_SF[\"Rut\"])"
   ]
  },
  {
   "attachments": {},
   "cell_type": "markdown",
   "metadata": {},
   "source": []
  },
  {
   "cell_type": "code",
   "execution_count": 395,
   "metadata": {},
   "outputs": [],
   "source": [
    "# Pacientes_Archivo.to_excel(\"F:/Empresas SF/reportes/Pacientes_Archivo.xlsx\", index=False)"
   ]
  },
  {
   "cell_type": "code",
   "execution_count": 452,
   "metadata": {
    "notebookRunGroups": {
     "groupValue": "2"
    }
   },
   "outputs": [
    {
     "data": {
      "text/plain": [
       "(266922, 34)"
      ]
     },
     "execution_count": 452,
     "metadata": {},
     "output_type": "execute_result"
    }
   ],
   "source": [
    "# aca a los pacientes del archivo se les asigna sus datos en SF\n",
    "Pacientes_con_id = pd.merge(\n",
    "    left=Pacientes_Archivo,\n",
    "    right=Pacientes_SF,\n",
    "    how=\"left\",\n",
    "    left_on=\"rut\",\n",
    "    right_on=\"Rut\",\n",
    ")\n",
    "# Pacientes_con_id.to_excel(\"F:/Empresas SF/reportes/Pacientes_con_id.xlsx\", index=False)\n",
    "Pacientes_con_id.shape"
   ]
  },
  {
   "cell_type": "code",
   "execution_count": 453,
   "metadata": {
    "notebookRunGroups": {
     "groupValue": "2"
    }
   },
   "outputs": [],
   "source": [
    "#Pacientes_con_id.head()\n",
    "#Pacientes_con_id.to_excel(\"F:/Empresas SF/reportes/id.xlsx\", index=False)"
   ]
  },
  {
   "cell_type": "code",
   "execution_count": 454,
   "metadata": {
    "notebookRunGroups": {
     "groupValue": "2"
    }
   },
   "outputs": [],
   "source": [
    "regex = re.compile(r\"([A-Za-z0-9]+[.-_])*[A-Za-z0-9]+@[A-Za-z0-9-]+(\\.[A-Z|a-z]{2,})+\")\n",
    "\n",
    "\n",
    "def isValid(email):\n",
    "    if re.fullmatch(regex, email):\n",
    "        return email\n",
    "    else:\n",
    "        return \"\"\n",
    "\n",
    "\n",
    "def fechaValida(fecha):\n",
    "    if (len(str(fecha)) <= 9 ):\n",
    "        fecha = \"\"\n",
    "        \n",
    "    fecha = str(fecha)\n",
    "    fecha1 = str(fecha)\n",
    "    \n",
    "    #datetime.strptime(fecha, '%Y-%m-%d')\n",
    "    \n",
    "    try:\n",
    "        fecha = datetime.strptime(fecha, '%Y-%m-%d %H:%M:%S')\n",
    "        date_string = fecha1\n",
    "        print(\"date_string =\", date_string)\n",
    "        print(\"type of date_string =\", type(date_string))\n",
    "\n",
    "        date_object = datetime.strptime(date_string, \"%Y-%m-%d %H:%M:%S\")\n",
    "\n",
    "        print(\"date_object =\", date_object)\n",
    "        print(\"type of date_object =\", type(date_object))\n",
    "        return date_object\n",
    "    except ValueError:\n",
    "        return datetime.utcnow().strftime('%Y-%m-%d %H:%M:%S')\n",
    "    "
   ]
  },
  {
   "cell_type": "code",
   "execution_count": 455,
   "metadata": {
    "notebookRunGroups": {
     "groupValue": "2"
    }
   },
   "outputs": [],
   "source": [
    "noestan = pd.DataFrame()\n",
    "if (\"nacimiento\" in noestan.columns) == True:  \n",
    "    Pacientes_con_id[\"dertyuiop\"] = Pacientes_con_id[\"nacimiento\"]\n",
    "    Pacientes_con_id[\"derty\"] = Pacientes_con_id[\"nacimiento\"].apply(lambda y: fechaValida(y))\n",
    "    Pacientes_con_id.head()\n",
    "noestan = Pacientes_con_id[(Pacientes_con_id[\"RutEstaoNo\"] == False)]"
   ]
  },
  {
   "cell_type": "code",
   "execution_count": 456,
   "metadata": {
    "notebookRunGroups": {
     "groupValue": "2"
    }
   },
   "outputs": [
    {
     "data": {
      "text/html": [
       "<div>\n",
       "<style scoped>\n",
       "    .dataframe tbody tr th:only-of-type {\n",
       "        vertical-align: middle;\n",
       "    }\n",
       "\n",
       "    .dataframe tbody tr th {\n",
       "        vertical-align: top;\n",
       "    }\n",
       "\n",
       "    .dataframe thead th {\n",
       "        text-align: right;\n",
       "    }\n",
       "</style>\n",
       "<table border=\"1\" class=\"dataframe\">\n",
       "  <thead>\n",
       "    <tr style=\"text-align: right;\">\n",
       "      <th></th>\n",
       "      <th>poliza</th>\n",
       "      <th>empleador</th>\n",
       "      <th>rutE</th>\n",
       "      <th>RUTASEGURADO</th>\n",
       "      <th>DV</th>\n",
       "      <th>rut1</th>\n",
       "      <th>RUTBENEFICIARIO</th>\n",
       "      <th>RUTBENEFIARIO_DV</th>\n",
       "      <th>rut2</th>\n",
       "      <th>nacimiento</th>\n",
       "      <th>...</th>\n",
       "      <th>Id Account Paciente</th>\n",
       "      <th>Rut</th>\n",
       "      <th>Nombre</th>\n",
       "      <th>Tipo de Documento</th>\n",
       "      <th>Ocupacion</th>\n",
       "      <th>Cargo</th>\n",
       "      <th>Departamento</th>\n",
       "      <th>Sexo</th>\n",
       "      <th>Telefono</th>\n",
       "      <th>Id Contacto</th>\n",
       "    </tr>\n",
       "  </thead>\n",
       "  <tbody>\n",
       "    <tr>\n",
       "      <th>214167</th>\n",
       "      <td>340023210</td>\n",
       "      <td>340023210</td>\n",
       "      <td>340023210</td>\n",
       "      <td>7121844</td>\n",
       "      <td>9</td>\n",
       "      <td>7121844-9</td>\n",
       "      <td>7121844</td>\n",
       "      <td>9</td>\n",
       "      <td>7121844-9</td>\n",
       "      <td>5196-02-25 00:00:00</td>\n",
       "      <td>...</td>\n",
       "      <td>NaN</td>\n",
       "      <td>NaN</td>\n",
       "      <td>NaN</td>\n",
       "      <td>NaN</td>\n",
       "      <td>NaN</td>\n",
       "      <td>NaN</td>\n",
       "      <td>NaN</td>\n",
       "      <td>NaN</td>\n",
       "      <td>NaN</td>\n",
       "      <td>NaN</td>\n",
       "    </tr>\n",
       "  </tbody>\n",
       "</table>\n",
       "<p>1 rows × 34 columns</p>\n",
       "</div>"
      ],
      "text/plain": [
       "           poliza  empleador       rutE  RUTASEGURADO DV       rut1  \\\n",
       "214167  340023210  340023210  340023210       7121844  9  7121844-9   \n",
       "\n",
       "        RUTBENEFICIARIO RUTBENEFIARIO_DV       rut2           nacimiento  ...  \\\n",
       "214167          7121844                9  7121844-9  5196-02-25 00:00:00  ...   \n",
       "\n",
       "       Id Account Paciente  Rut Nombre Tipo de Documento Ocupacion Cargo  \\\n",
       "214167                 NaN  NaN    NaN               NaN       NaN   NaN   \n",
       "\n",
       "       Departamento Sexo Telefono Id Contacto  \n",
       "214167          NaN  NaN      NaN         NaN  \n",
       "\n",
       "[1 rows x 34 columns]"
      ]
     },
     "execution_count": 456,
     "metadata": {},
     "output_type": "execute_result"
    }
   ],
   "source": [
    "#noestan.to_excel(\"F:/Empresas SF/reportes/noestan.xlsx\", index=False)\n",
    "noestan.head()"
   ]
  },
  {
   "cell_type": "code",
   "execution_count": 457,
   "metadata": {
    "notebookRunGroups": {
     "groupValue": "2"
    }
   },
   "outputs": [
    {
     "name": "stdout",
     "output_type": "stream",
     "text": [
      "date_string = 5196-02-25 00:00:00\n",
      "type of date_string = <class 'str'>\n",
      "date_object = 5196-02-25 00:00:00\n",
      "type of date_object = <class 'datetime.datetime'>\n",
      "date_string = 5196-02-25 00:00:00\n",
      "type of date_string = <class 'str'>\n",
      "date_object = 5196-02-25 00:00:00\n",
      "type of date_object = <class 'datetime.datetime'>\n"
     ]
    },
    {
     "name": "stderr",
     "output_type": "stream",
     "text": [
      "C:\\Users\\jmartinez\\AppData\\Local\\Temp\\ipykernel_15596\\4157849396.py:23: SettingWithCopyWarning: \n",
      "A value is trying to be set on a copy of a slice from a DataFrame.\n",
      "Try using .loc[row_indexer,col_indexer] = value instead\n",
      "\n",
      "See the caveats in the documentation: https://pandas.pydata.org/pandas-docs/stable/user_guide/indexing.html#returning-a-view-versus-a-copy\n",
      "  noestan[\"PersonEmail\"] = noestan[\"email\"].apply(\n",
      "C:\\Users\\jmartinez\\AppData\\Local\\Temp\\ipykernel_15596\\4157849396.py:66: SettingWithCopyWarning: \n",
      "A value is trying to be set on a copy of a slice from a DataFrame.\n",
      "Try using .loc[row_indexer,col_indexer] = value instead\n",
      "\n",
      "See the caveats in the documentation: https://pandas.pydata.org/pandas-docs/stable/user_guide/indexing.html#returning-a-view-versus-a-copy\n",
      "  noestan.replace({\"sexo\": Sexo}, inplace=True)\n",
      "C:\\Users\\jmartinez\\AppData\\Local\\Temp\\ipykernel_15596\\4157849396.py:96: FutureWarning: The default value of regex will change from True to False in a future version. In addition, single character regular expressions will *not* be treated as literal strings when regex=True.\n",
      "  Subir_pacientes[\"Phone\"] = Subir_pacientes[\"Phone\"].str.replace(\".\", \"\")\n",
      "C:\\Users\\jmartinez\\AppData\\Local\\Temp\\ipykernel_15596\\4157849396.py:103: FutureWarning: The default value of regex will change from True to False in a future version. In addition, single character regular expressions will *not* be treated as literal strings when regex=True.\n",
      "  Subir_pacientes[\"Phone\"] = Subir_pacientes[\"Phone\"].str.replace(\"+\", \"\")\n"
     ]
    },
    {
     "data": {
      "text/html": [
       "<div>\n",
       "<style scoped>\n",
       "    .dataframe tbody tr th:only-of-type {\n",
       "        vertical-align: middle;\n",
       "    }\n",
       "\n",
       "    .dataframe tbody tr th {\n",
       "        vertical-align: top;\n",
       "    }\n",
       "\n",
       "    .dataframe thead th {\n",
       "        text-align: right;\n",
       "    }\n",
       "</style>\n",
       "<table border=\"1\" class=\"dataframe\">\n",
       "  <thead>\n",
       "    <tr style=\"text-align: right;\">\n",
       "      <th></th>\n",
       "      <th>rut1</th>\n",
       "      <th>rut2</th>\n",
       "      <th>FirstName</th>\n",
       "      <th>LastName</th>\n",
       "      <th>IdentificationId__pc</th>\n",
       "      <th>PersonEmail</th>\n",
       "      <th>Email_Seteado__c</th>\n",
       "      <th>PersonBirthdate</th>\n",
       "      <th>derty</th>\n",
       "      <th>HealthCloudGA__Gender__pc</th>\n",
       "      <th>BillingStreet</th>\n",
       "      <th>BillingState</th>\n",
       "      <th>BillingCity</th>\n",
       "      <th>Phone</th>\n",
       "      <th>RecordTypeId</th>\n",
       "      <th>Cuenta_validada__c</th>\n",
       "      <th>BillingCountry</th>\n",
       "      <th>Identification_Type__c</th>\n",
       "      <th>Pa_s_del_Paciente__c</th>\n",
       "    </tr>\n",
       "  </thead>\n",
       "  <tbody>\n",
       "    <tr>\n",
       "      <th>214167</th>\n",
       "      <td>71218449</td>\n",
       "      <td>71218449</td>\n",
       "      <td>Silva Scavia</td>\n",
       "      <td>Alejandro Antonio</td>\n",
       "      <td>71218449</td>\n",
       "      <td>asilvasca@gmail.com</td>\n",
       "      <td>True</td>\n",
       "      <td>5196-02-25 00:00:00</td>\n",
       "      <td>5196-02-25 00:00:00</td>\n",
       "      <td>Hombre</td>\n",
       "      <td>NaN</td>\n",
       "      <td>NaN</td>\n",
       "      <td>NaN</td>\n",
       "      <td></td>\n",
       "      <td>0128c000002Byp4AAC</td>\n",
       "      <td>True</td>\n",
       "      <td>Chile</td>\n",
       "      <td>RUT</td>\n",
       "      <td>a1U8c000005dAtnEAE</td>\n",
       "    </tr>\n",
       "  </tbody>\n",
       "</table>\n",
       "</div>"
      ],
      "text/plain": [
       "            rut1      rut2     FirstName           LastName  \\\n",
       "214167  71218449  71218449  Silva Scavia  Alejandro Antonio   \n",
       "\n",
       "       IdentificationId__pc          PersonEmail Email_Seteado__c  \\\n",
       "214167             71218449  asilvasca@gmail.com             True   \n",
       "\n",
       "            PersonBirthdate                derty HealthCloudGA__Gender__pc  \\\n",
       "214167  5196-02-25 00:00:00  5196-02-25 00:00:00                    Hombre   \n",
       "\n",
       "       BillingStreet BillingState BillingCity Phone        RecordTypeId  \\\n",
       "214167           NaN          NaN         NaN        0128c000002Byp4AAC   \n",
       "\n",
       "       Cuenta_validada__c BillingCountry Identification_Type__c  \\\n",
       "214167               True          Chile                    RUT   \n",
       "\n",
       "       Pa_s_del_Paciente__c  \n",
       "214167   a1U8c000005dAtnEAE  "
      ]
     },
     "execution_count": 457,
     "metadata": {},
     "output_type": "execute_result"
    }
   ],
   "source": [
    "\n",
    "\n",
    "# Final_pacientes_y_empresa = Pacientes_con_ID\n",
    "Subir_pacientes = pd.DataFrame()\n",
    "# Subir_pacientes[\"Email_Seteado__c\"] = \"\"\n",
    "#Subir_pacientes[\"RutEstaoNo\"] = Pacientes_con_id[\"RutEstaoNo\"]\n",
    "\n",
    "# agrupar = empresasqfaltan[empresasqfaltan['si']==False]\n",
    "Subir_pacientes[\"rut1\"] = noestan[\"rut\"]\n",
    "Subir_pacientes[\"rut2\"] = noestan[\"rutT\"]\n",
    "\n",
    "if (\"nombres\" in noestan.columns) == True:\n",
    "    Subir_pacientes[\"FirstName\"] = noestan[\"nombres\"]\n",
    "if (\"apellidos\" in noestan.columns) == True:\n",
    "    Subir_pacientes[\"LastName\"] = noestan[\"apellidos\"]\n",
    "if (\"rut\" in noestan.columns) == True:\n",
    "    Subir_pacientes[\"IdentificationId__pc\"] = (\n",
    "        noestan[\"rut\"].astype(str).str.upper()\n",
    "    )\n",
    "\n",
    "\n",
    "if (\"email\" in noestan.columns) == True:\n",
    "    # Pacientes_con_id[\"email\"] = Pacientes_con_id[\"email\"].astype(str).str.lower().replace(\"nan\",\"\")\n",
    "    Subir_pacientes[\"PersonEmail\"] = noestan[\"email\"].astype(str).str.lower()\n",
    "    noestan[\"PersonEmail\"] = noestan[\"email\"].apply(\n",
    "        lambda y: isValid(y)\n",
    "    )\n",
    "    Subir_pacientes[\"Email_Seteado__c\"] = np.where(\n",
    "        Subir_pacientes[\"PersonEmail\"] != \"\", \"True\", \"False\"\n",
    "    )\n",
    "\n",
    "    # Subir_pacientes[\"PersonEmail\"] = Subir_pacientes[\"PersonEmail\"].str.replace(\"no informado\", \"\")\n",
    "#if (\"nacimiento\" in Pacientes_con_id.columns) == True:    \n",
    "#    Subir_pacientes[\"PersonBirthdate\"] = pd.to_datetime(Pacientes_con_id[\"nacimiento\"].astype(str), format=\"%Y-%m-%d\")  \n",
    "if (\"nacimiento\" in noestan.columns) == True:    \n",
    "    #try:\n",
    "    Subir_pacientes[\"PersonBirthdate\"] = noestan[\"nacimiento\"].apply(lambda y: fechaValida(y))\n",
    "    Subir_pacientes[\"derty\"] = noestan[\"nacimiento\"].apply(lambda y: fechaValida(y))\n",
    "    #except ValueError:\n",
    "        #Subir_pacientes[\"PersonBirthdate\"] = pd.to_datetime(\"1900-01-01\", format=\"%Y-%m-%d\")\n",
    " \n",
    "if (\"sexo\" in noestan.columns) == True:\n",
    "    Sexo = {\n",
    "        \"H\": \"Hombre\",\n",
    "        \"m\": \"Hombre\",\n",
    "        \"Masculino\": \"Hombre\",\n",
    "        \"Femenino\": \"Mujer\",\n",
    "        \"\": \"Prefiero no responder\",\n",
    "        \"HOMBRE\": \"Hombre\",\n",
    "        \"MUJER\": \"Mujer\",\n",
    "        \"F\": \"Mujer\",\n",
    "        \"O\": \"Prefiero no responder\",\n",
    "        \"Ambos\": \"Prefiero no responder\",\n",
    "        \"N\": \"Prefiero no responder\",\n",
    "        \"Otro\": \"Prefiero no responder\",\n",
    "        \"n\": \"Prefiero no responder\",\n",
    "        \"N\": \"Prefiero no responder\",\n",
    "        \"FEMENINO\": \"Mujer\",\n",
    "        \"f\": \"Mujer\",\n",
    "        \"MASCULINO\": \"Hombre\",\n",
    "        \"m\": \"Hombre\",\n",
    "        \"M \": \"Hombre\",\n",
    "        \"M\": \"Hombre\",\n",
    "        \"F \": \"Mujer\",\n",
    "        \"Varón\": \"Hombre\",\n",
    "        \"varon\": \"Hombre\",\n",
    "    }\n",
    "    noestan.replace({\"sexo\": Sexo}, inplace=True)\n",
    "    Subir_pacientes[\"HealthCloudGA__Gender__pc\"] = noestan[\"sexo\"]\n",
    "if (\"direccion\" in noestan.columns) == True:\n",
    "    Subir_pacientes[\"BillingStreet\"] = (\n",
    "        noestan[\"direccion\"].str.lower().replace(\"nan\", \"\")\n",
    "    )\n",
    "    # Subir_pacientes[\"BillingStreet\"] = Final_pacientes_y_empresa[\"direccion\"]\n",
    "if (\"comuna\" in noestan.columns) == True:\n",
    "    # Subir_pacientes[\"BillingState\"] = Final_pacientes_y_empresa[\"comuna\"]\n",
    "    Subir_pacientes[\"BillingState\"] = (\n",
    "        noestan[\"comuna\"].str.title().replace(\"NaN\", \"\")\n",
    "    )\n",
    "    # Subir_pacientes[\"BillingState\"] = Final_pacientes_y_empresa[\"comuna\"]\n",
    "if (\"ciudad\" in noestan.columns) == True:\n",
    "    # Subir_pacientes[\"BillingCity\"] = Final_pacientes_y_empresa[\"ciudad\"]\n",
    "    Subir_pacientes[\"BillingCity\"] = (\n",
    "        noestan[\"ciudad\"].str.title().replace(\"NaN\", \"\")\n",
    "    )\n",
    "\n",
    "if (\"cargo\" in Pacientes_con_id.columns) == True:\n",
    "    Subir_pacientes[\"PersonTitle\"] = noestan[\"cargo\"].str.title()\n",
    "\n",
    "if (\"division\" in noestan.columns) == True:\n",
    "    Subir_pacientes[\"PersonDepartment\"] = noestan[\"division\"].str.title()\n",
    "\n",
    "if (\"celular\" in noestan.columns) == True:\n",
    "    Subir_pacientes[\"Phone\"] = (\n",
    "        noestan[\"celular\"].apply(str).str.strip().replace(\"+\", \"\")\n",
    "    )\n",
    "    Subir_pacientes[\"Phone\"] = Subir_pacientes[\"Phone\"].str.replace(\"NaN\", \"\")\n",
    "    Subir_pacientes[\"Phone\"] = Subir_pacientes[\"Phone\"].str.replace(\".\", \"\")\n",
    "    Subir_pacientes[\"Phone\"] = Subir_pacientes[\"Phone\"].str.replace(\"Nan\", \"\")\n",
    "    Subir_pacientes[\"Phone\"] = Subir_pacientes[\"Phone\"].str.replace(\"-\", \"\")\n",
    "    Subir_pacientes[\"Phone\"] = Subir_pacientes[\"Phone\"].str.replace(\"0\", \"\")\n",
    "    Subir_pacientes[\"Phone\"] = Subir_pacientes[\"Phone\"].str.replace(\"No Informado\", \"\")\n",
    "    Subir_pacientes[\"Phone\"] = Subir_pacientes[\"Phone\"].str.replace(\"_\", \"\")\n",
    "    Subir_pacientes[\"Phone\"] = Subir_pacientes[\"Phone\"].str.replace(\"/\", \"\")\n",
    "    Subir_pacientes[\"Phone\"] = Subir_pacientes[\"Phone\"].str.replace(\"+\", \"\")\n",
    "    Subir_pacientes[\"Phone\"] = Subir_pacientes[\"Phone\"].str.replace(\"nan\", \"\")\n",
    "    Subir_pacientes[\"Phone\"] = Subir_pacientes[\"Phone\"].str.replace(\"null\", \"\")\n",
    "    Subir_pacientes[\"Phone\"] = Subir_pacientes[\"Phone\"].str.replace(\"NULL\", \"\")\n",
    "\n",
    "\n",
    "Subir_pacientes[\"RecordTypeId\"] = \"0128c000002Byp4AAC\"\n",
    "Subir_pacientes[\"Cuenta_validada__c\"] = \"True\"\n",
    "\n",
    "\n",
    "if Pais == \"Chile\":\n",
    "    Subir_pacientes[\"BillingCountry\"] = \"Chile\"\n",
    "    Subir_pacientes[\"Identification_Type__c\"] = \"RUT\"\n",
    "    Subir_pacientes[\"Pa_s_del_Paciente__c\"] = \"a1U8c000005dAtnEAE\"\n",
    "else:\n",
    "    Subir_pacientes[\"BillingCountry\"] = \"México\"\n",
    "    Subir_pacientes[\"Identification_Type__c\"] = \"RUT\"\n",
    "    Subir_pacientes[\"Pa_s_del_Paciente__c\"] = \"a1U8c000005dAtsEAE\"\n",
    "\n",
    "#Subir_pacientes_Que_no_Estan = Subir_pacientes\n",
    "#Subir_pacientes_Estan = Subir_pacientes[Subir_pacientes[\"RutEstaoNo\"] == True]\n",
    "#Subir_pacientes = Subir_pacientes[Subir_pacientes[\"RutEstaoNo\"] == False]\n",
    "\n",
    "#Subir_pacientes[\"PersonBirthdate\"] = Subir_pacientes[\"PersonBirthdate\"].str.replace(\"0001-01-01 00:00:00\", \"\")\n",
    "\n",
    "# Subir_pacientes.PersonEmail = Subir_pacientes.PersonEmail.fillna('')\n",
    "Subir_pacientes = Subir_pacientes.drop_duplicates(\n",
    "    [\n",
    "        \"IdentificationId__pc\",\n",
    "    ],\n",
    "    keep=\"last\",\n",
    ")\n",
    "\"\"\" Subir_pacientes.to_excel(\n",
    "    \"F:/Empresas SF/reportes/Pacientes_Que_No_Estaban.xlsx\", index=False\n",
    ") \"\"\"\n",
    "Subir_pacientes.head()"
   ]
  },
  {
   "cell_type": "code",
   "execution_count": 458,
   "metadata": {
    "notebookRunGroups": {
     "groupValue": "2"
    }
   },
   "outputs": [
    {
     "data": {
      "text/plain": [
       "(1, 19)"
      ]
     },
     "execution_count": 458,
     "metadata": {},
     "output_type": "execute_result"
    }
   ],
   "source": [
    "Subir_pacientes.shape"
   ]
  },
  {
   "cell_type": "code",
   "execution_count": 459,
   "metadata": {
    "notebookRunGroups": {
     "groupValue": "2"
    }
   },
   "outputs": [],
   "source": [
    "def traerId(rut):\n",
    "    if len(rut) >= 8:\n",
    "        busquedaDatos = \"FIND {\" + rut + \"} RETURNING Account(Id,IdentificationId__pc where IdentificationId__pc = '\" + rut + \"')\"\n",
    "        derty = dict(sf.search(busquedaDatos))\n",
    "        if derty[\"searchRecords\"] != []:\n",
    "            if derty[\"searchRecords\"][0][\"attributes\"][\"type\"] == \"Account\":\n",
    "                jote = derty[\"searchRecords\"][0][\"Id\"]\n",
    "                dertyd = derty[\"searchRecords\"][0][\"IdentificationId__pc\"]\n",
    "                print(jote + \" \" + dertyd)\n",
    "                return jote\n",
    "            else:\n",
    "                print(\"no\")\n",
    "        else:\n",
    "            print(\"vacio\")\n",
    "    else:\n",
    "        return \"None\"\n",
    "\n",
    "\n",
    "def traerContact(ide):\n",
    "    ide = str(ide)\n",
    "    if len(ide) >= 12:\n",
    "        idcontact = sf.Account.get(ide)\n",
    "        return idcontact[\"PersonContactId\"]\n",
    "    else:\n",
    "        return \"NONES\"\n",
    "\n",
    "\n",
    "def agregarPaciente(listado):\n",
    "    vListado = listado.split(\",\")\n",
    "    \n",
    "    derty = None\n",
    "    #vListado[9] = datetime.strptime(vListado[9], \"%Y-%m-%d %H:%M:%S\")\n",
    "        \n",
    "        \n",
    "    if (vListado[9] == \"\"):                               \n",
    "        try:\n",
    "            derty = dict(\n",
    "                sf.Account.create(\n",
    "                    # derty = sf.Account.create(\n",
    "                    {\n",
    "                        \"FirstName\": vListado[0],\n",
    "                        \"LastName\": vListado[1],\n",
    "                        \"IdentificationId__pc\": vListado[2],\n",
    "                        \"RecordTypeId\": vListado[3],\n",
    "                        \"BillingCountry\": vListado[4],\n",
    "                        \"Identification_Type__c\": vListado[5],\n",
    "                        \"Pa_s_del_Paciente__c\": vListado[6],\n",
    "                        \"Cuenta_validada__c\": True,\n",
    "                        \"PersonEmail\": vListado[8],  \n",
    "                                          \n",
    "                        \"HealthCloudGA__Gender__pc\": vListado[10],\n",
    "                        \"Phone\": vListado[11],\n",
    "                        \"BillingCity\": vListado[12],\n",
    "                        \"BillingState\": vListado[13],\n",
    "                        \"BillingStreet\": vListado[14],\n",
    "                        \"Email_Seteado__c\": bool(vListado[15]),\n",
    "                    }\n",
    "                )\n",
    "            )\n",
    "            # return derty[\"id\"]\n",
    "        except SalesforceMalformedRequest as e:\n",
    "            print(f\"Malformed request error: {e}\")\n",
    "            error = {e}\n",
    "\n",
    "        if derty is not None:\n",
    "            return derty[\"id\"]\n",
    "        else:\n",
    "            traerId(vListado[2])\n",
    "    else:\n",
    "        try:\n",
    "            derty = dict(\n",
    "                sf.Account.create(\n",
    "                    # derty = sf.Account.create(\n",
    "                    {\n",
    "                        \"FirstName\": vListado[0],\n",
    "                        \"LastName\": vListado[1],\n",
    "                        \"IdentificationId__pc\": vListado[2],\n",
    "                        \"RecordTypeId\": vListado[3],\n",
    "                        \"BillingCountry\": vListado[4],\n",
    "                        \"Identification_Type__c\": vListado[5],\n",
    "                        \"Pa_s_del_Paciente__c\": vListado[6],\n",
    "                        \"Cuenta_validada__c\": True,\n",
    "                        \"PersonEmail\": vListado[8],\n",
    "                        \"PersonBirthdate\": vListado[9] ,\n",
    "                        #\"PersonBirthdate\":datetime.strptime(vListado[9], \"%Y-%m-%d %H:%M:%S\").formatGMT('yyyy-MM-dd\\'T\\'HH:mm:ss.SSS\\'Z\\'' + '\"'),\n",
    "                        \"HealthCloudGA__Gender__pc\": vListado[10],\n",
    "                        \"Phone\": vListado[11],\n",
    "                        \"BillingCity\": vListado[12],\n",
    "                        \"BillingState\": vListado[13],\n",
    "                        \"BillingStreet\": vListado[14],\n",
    "                        \"Email_Seteado__c\": bool(vListado[15]),\n",
    "                    }\n",
    "                )\n",
    "            )\n",
    "            # return derty[\"id\"]\n",
    "        except SalesforceMalformedRequest as e:\n",
    "            print(f\"Malformed request error: {e}\")\n",
    "            error = {e}\n",
    "\n",
    "        if derty is not None:\n",
    "            return derty[\"id\"]\n",
    "        else:\n",
    "            traerId(vListado[2])\n",
    "   "
   ]
  },
  {
   "cell_type": "code",
   "execution_count": 460,
   "metadata": {
    "notebookRunGroups": {
     "groupValue": "2"
    }
   },
   "outputs": [
    {
     "data": {
      "text/html": [
       "<div>\n",
       "<style scoped>\n",
       "    .dataframe tbody tr th:only-of-type {\n",
       "        vertical-align: middle;\n",
       "    }\n",
       "\n",
       "    .dataframe tbody tr th {\n",
       "        vertical-align: top;\n",
       "    }\n",
       "\n",
       "    .dataframe thead th {\n",
       "        text-align: right;\n",
       "    }\n",
       "</style>\n",
       "<table border=\"1\" class=\"dataframe\">\n",
       "  <thead>\n",
       "    <tr style=\"text-align: right;\">\n",
       "      <th></th>\n",
       "      <th>rut1</th>\n",
       "      <th>rut2</th>\n",
       "      <th>FirstName</th>\n",
       "      <th>LastName</th>\n",
       "      <th>IdentificationId__pc</th>\n",
       "      <th>PersonEmail</th>\n",
       "      <th>Email_Seteado__c</th>\n",
       "      <th>PersonBirthdate</th>\n",
       "      <th>derty</th>\n",
       "      <th>HealthCloudGA__Gender__pc</th>\n",
       "      <th>BillingStreet</th>\n",
       "      <th>BillingState</th>\n",
       "      <th>BillingCity</th>\n",
       "      <th>Phone</th>\n",
       "      <th>RecordTypeId</th>\n",
       "      <th>Cuenta_validada__c</th>\n",
       "      <th>BillingCountry</th>\n",
       "      <th>Identification_Type__c</th>\n",
       "      <th>Pa_s_del_Paciente__c</th>\n",
       "    </tr>\n",
       "  </thead>\n",
       "  <tbody>\n",
       "    <tr>\n",
       "      <th>214167</th>\n",
       "      <td>71218449</td>\n",
       "      <td>71218449</td>\n",
       "      <td>Silva Scavia</td>\n",
       "      <td>Alejandro Antonio</td>\n",
       "      <td>71218449</td>\n",
       "      <td>asilvasca@gmail.com</td>\n",
       "      <td>True</td>\n",
       "      <td>5196-02-25 00:00:00</td>\n",
       "      <td>5196-02-25 00:00:00</td>\n",
       "      <td>Hombre</td>\n",
       "      <td>NaN</td>\n",
       "      <td>NaN</td>\n",
       "      <td>NaN</td>\n",
       "      <td></td>\n",
       "      <td>0128c000002Byp4AAC</td>\n",
       "      <td>True</td>\n",
       "      <td>Chile</td>\n",
       "      <td>RUT</td>\n",
       "      <td>a1U8c000005dAtnEAE</td>\n",
       "    </tr>\n",
       "  </tbody>\n",
       "</table>\n",
       "</div>"
      ],
      "text/plain": [
       "            rut1      rut2     FirstName           LastName  \\\n",
       "214167  71218449  71218449  Silva Scavia  Alejandro Antonio   \n",
       "\n",
       "       IdentificationId__pc          PersonEmail Email_Seteado__c  \\\n",
       "214167             71218449  asilvasca@gmail.com             True   \n",
       "\n",
       "            PersonBirthdate                derty HealthCloudGA__Gender__pc  \\\n",
       "214167  5196-02-25 00:00:00  5196-02-25 00:00:00                    Hombre   \n",
       "\n",
       "       BillingStreet BillingState BillingCity Phone        RecordTypeId  \\\n",
       "214167           NaN          NaN         NaN        0128c000002Byp4AAC   \n",
       "\n",
       "       Cuenta_validada__c BillingCountry Identification_Type__c  \\\n",
       "214167               True          Chile                    RUT   \n",
       "\n",
       "       Pa_s_del_Paciente__c  \n",
       "214167   a1U8c000005dAtnEAE  "
      ]
     },
     "execution_count": 460,
     "metadata": {},
     "output_type": "execute_result"
    }
   ],
   "source": [
    "Subir_pacientes.head()"
   ]
  },
  {
   "cell_type": "code",
   "execution_count": 461,
   "metadata": {
    "notebookRunGroups": {
     "groupValue": "2"
    }
   },
   "outputs": [
    {
     "data": {
      "text/plain": [
       "(1, 19)"
      ]
     },
     "execution_count": 461,
     "metadata": {},
     "output_type": "execute_result"
    }
   ],
   "source": [
    "Subir_pacientes = Subir_pacientes.drop_duplicates(\n",
    "    [\n",
    "        \"IdentificationId__pc\",\n",
    "    ],\n",
    "    keep=\"last\",\n",
    ")\n",
    "\n",
    "\n",
    "Subir_pacientes.shape"
   ]
  },
  {
   "cell_type": "code",
   "execution_count": 462,
   "metadata": {
    "notebookRunGroups": {
     "groupValue": "2"
    }
   },
   "outputs": [
    {
     "data": {
      "text/plain": [
       "' Subir_pacientes[\"Id\"] = Subir_pacientes[\"Id\"].astype(str)\\nSubir_pacientes = Subir_pacientes[Subir_pacientes[\"Id\"].str.len() <= 12]\\n# Subir_pacientes[\"numero\"] = Subir_pacientes[\"Id\"].str.len()\\nSubir_pacientes.shape '"
      ]
     },
     "execution_count": 462,
     "metadata": {},
     "output_type": "execute_result"
    }
   ],
   "source": [
    "\"\"\" Subir_pacientes[\"Id\"] = Subir_pacientes[\"Id\"].astype(str)\n",
    "Subir_pacientes = Subir_pacientes[Subir_pacientes[\"Id\"].str.len() <= 12]\n",
    "# Subir_pacientes[\"numero\"] = Subir_pacientes[\"Id\"].str.len()\n",
    "Subir_pacientes.shape \"\"\""
   ]
  },
  {
   "cell_type": "markdown",
   "metadata": {},
   "source": [
    "ACA SE CREAN LOS PACIENTES Q NO ESTAN"
   ]
  },
  {
   "cell_type": "code",
   "execution_count": 463,
   "metadata": {
    "notebookRunGroups": {
     "groupValue": "2"
    }
   },
   "outputs": [
    {
     "name": "stdout",
     "output_type": "stream",
     "text": [
      "Malformed request error: Malformed request https://careassistance.my.salesforce.com/services/data/v42.0/sobjects/Account/. Response content: [{'message': 'Fecha de nacimiento: fecha no válida: Sun Feb 25 00:00:00 GMT 5196', 'errorCode': 'FIELD_INTEGRITY_EXCEPTION', 'fields': ['PersonBirthdate']}]\n",
      "vacio\n"
     ]
    }
   ],
   "source": [
    "Subir_pacientes[\"dato_account\"] = \"\"\n",
    "if (\"FirstName\" in Subir_pacientes.columns) == True:\n",
    "    Subir_pacientes[\"dato_account\"] = Subir_pacientes[\"dato_account\"] + Subir_pacientes[\n",
    "        \"FirstName\"\n",
    "    ].astype(str)\n",
    "if (\"LastName\" in Subir_pacientes.columns) == True:\n",
    "    Subir_pacientes[\"dato_account\"] = (\n",
    "        Subir_pacientes[\"dato_account\"] + \",\" + Subir_pacientes[\"LastName\"].astype(str)\n",
    "    )\n",
    "if (\"IdentificationId__pc\" in Subir_pacientes.columns) == True:\n",
    "    Subir_pacientes[\"dato_account\"] = (\n",
    "        Subir_pacientes[\"dato_account\"]\n",
    "        + \",\"\n",
    "        + Subir_pacientes[\"IdentificationId__pc\"].astype(str)\n",
    "    )\n",
    "if (\"RecordTypeId\" in Subir_pacientes.columns) == True:\n",
    "    Subir_pacientes[\"dato_account\"] = (\n",
    "        Subir_pacientes[\"dato_account\"]\n",
    "        + \",\"\n",
    "        + Subir_pacientes[\"RecordTypeId\"].astype(str)\n",
    "    )\n",
    "if (\"BillingCountry\" in Subir_pacientes.columns) == True:\n",
    "    Subir_pacientes[\"dato_account\"] = (\n",
    "        Subir_pacientes[\"dato_account\"]\n",
    "        + \",\"\n",
    "        + Subir_pacientes[\"BillingCountry\"].astype(str)\n",
    "    )\n",
    "if (\"Identification_Type__c\" in Subir_pacientes.columns) == True:\n",
    "    Subir_pacientes[\"dato_account\"] = (\n",
    "        Subir_pacientes[\"dato_account\"]\n",
    "        + \",\"\n",
    "        + Subir_pacientes[\"Identification_Type__c\"].astype(str)\n",
    "    )\n",
    "if (\"Pa_s_del_Paciente__c\" in Subir_pacientes.columns) == True:\n",
    "    Subir_pacientes[\"dato_account\"] = (\n",
    "        Subir_pacientes[\"dato_account\"]\n",
    "        + \",\"\n",
    "        + Subir_pacientes[\"Pa_s_del_Paciente__c\"].astype(str)\n",
    "    )\n",
    "if (\"Cuenta_validada__c\" in Subir_pacientes.columns) == True:\n",
    "    Subir_pacientes[\"dato_account\"] = (\n",
    "        Subir_pacientes[\"dato_account\"]\n",
    "        + \",\"\n",
    "        + Subir_pacientes[\"Cuenta_validada__c\"].astype(str)\n",
    "    )\n",
    "\n",
    "if (\"PersonEmail\" in Subir_pacientes.columns) == True:\n",
    "    Subir_pacientes[\"dato_account\"] = (\n",
    "        Subir_pacientes[\"dato_account\"]\n",
    "        + \",\"\n",
    "        + Subir_pacientes[\"PersonEmail\"].astype(str)\n",
    "    )\n",
    "else:\n",
    "    Subir_pacientes[\"dato_account\"] = Subir_pacientes[\"dato_account\"] + \",\"\n",
    "\n",
    "if (\"PersonBirthdate\" in Subir_pacientes.columns) == True:\n",
    "    Subir_pacientes[\"dato_account\"] = (Subir_pacientes[\"dato_account\"] + \",\" + Subir_pacientes[\"PersonBirthdate\"].apply(lambda x: x.isoformat() + \"Z\"))\n",
    "else:\n",
    "    Subir_pacientes[\"dato_account\"] = Subir_pacientes[\"dato_account\"] + \",\"\n",
    "if (\"HealthCloudGA__Gender__pc\" in Subir_pacientes.columns) == True:\n",
    "    Subir_pacientes[\"dato_account\"] = (\n",
    "        Subir_pacientes[\"dato_account\"]\n",
    "        + \",\"\n",
    "        + Subir_pacientes[\"HealthCloudGA__Gender__pc\"].astype(str)\n",
    "    )\n",
    "else:\n",
    "    Subir_pacientes[\"dato_account\"] = Subir_pacientes[\"dato_account\"] + \",\"\n",
    "if (\"Phone\" in Subir_pacientes.columns) == True:\n",
    "    Subir_pacientes[\"dato_account\"] = (\n",
    "        Subir_pacientes[\"dato_account\"] + \",\" + Subir_pacientes[\"Phone\"].astype(str)\n",
    "    )\n",
    "else:\n",
    "    Subir_pacientes[\"dato_account\"] = Subir_pacientes[\"dato_account\"] + \",\"\n",
    "if (\"BillingCity\" in Subir_pacientes.columns) == True:\n",
    "    Subir_pacientes[\"dato_account\"] = (\n",
    "        Subir_pacientes[\"dato_account\"]\n",
    "        + \",\"\n",
    "        + Subir_pacientes[\"BillingCity\"].astype(str)\n",
    "    )\n",
    "else:\n",
    "    Subir_pacientes[\"dato_account\"] = Subir_pacientes[\"dato_account\"] + \",\"\n",
    "if (\"BillingState\" in Subir_pacientes.columns) == True:\n",
    "    Subir_pacientes[\"dato_account\"] = (\n",
    "        Subir_pacientes[\"dato_account\"]\n",
    "        + \",\"\n",
    "        + Subir_pacientes[\"BillingState\"].astype(str)\n",
    "    )\n",
    "else:\n",
    "    Subir_pacientes[\"dato_account\"] = Subir_pacientes[\"dato_account\"] + \",\"\n",
    "if (\"BillingStreet\" in Subir_pacientes.columns) == True:\n",
    "    Subir_pacientes[\"dato_account\"] = (\n",
    "        Subir_pacientes[\"dato_account\"]\n",
    "        + \",\"\n",
    "        + Subir_pacientes[\"BillingStreet\"].astype(str)\n",
    "    )\n",
    "else:\n",
    "    Subir_pacientes[\"dato_account\"] = Subir_pacientes[\"dato_account\"] + \",\"\n",
    "if (\"PersonEmail\" in Subir_pacientes.columns) == True:\n",
    "    Subir_pacientes[\"dato_account\"] = (\n",
    "        Subir_pacientes[\"dato_account\"]\n",
    "        + \",\"\n",
    "        + Subir_pacientes[\"Email_Seteado__c\"].astype(str)\n",
    "    )\n",
    "else:\n",
    "    Subir_pacientes[\"dato_account\"] = Subir_pacientes[\"dato_account\"] + \",\"\n",
    "\n",
    "# Subir_pacientes[\"dato_account\"] =  Subir_pacientes[\"dato_account\"] =\n",
    "\n",
    "Subir_pacientes[\"Id_creado\"] = Subir_pacientes[\"dato_account\"].apply(\n",
    "    lambda x: agregarPaciente(x)\n",
    ")\n"
   ]
  },
  {
   "cell_type": "code",
   "execution_count": 408,
   "metadata": {},
   "outputs": [
    {
     "data": {
      "text/plain": [
       "' Subir_pacientes[\"Id\"] = Subir_pacientes[\"IdentificationId__pc\"].apply(\\n    lambda y: traerId(y)\\n) '"
      ]
     },
     "execution_count": 408,
     "metadata": {},
     "output_type": "execute_result"
    }
   ],
   "source": [
    "\"\"\" Subir_pacientes[\"Id\"] = Subir_pacientes[\"IdentificationId__pc\"].apply(\n",
    "    lambda y: traerId(y)\n",
    ") \"\"\"\n",
    "#Subir_pacientes[\"Id_creado\"]"
   ]
  },
  {
   "cell_type": "code",
   "execution_count": 464,
   "metadata": {
    "notebookRunGroups": {
     "groupValue": "2"
    }
   },
   "outputs": [
    {
     "name": "stderr",
     "output_type": "stream",
     "text": [
      "100%|██████████| 1/1 [00:09<00:00,  9.11s/it]\n"
     ]
    },
    {
     "data": {
      "text/html": [
       "<div>\n",
       "<style scoped>\n",
       "    .dataframe tbody tr th:only-of-type {\n",
       "        vertical-align: middle;\n",
       "    }\n",
       "\n",
       "    .dataframe tbody tr th {\n",
       "        vertical-align: top;\n",
       "    }\n",
       "\n",
       "    .dataframe thead th {\n",
       "        text-align: right;\n",
       "    }\n",
       "</style>\n",
       "<table border=\"1\" class=\"dataframe\">\n",
       "  <thead>\n",
       "    <tr style=\"text-align: right;\">\n",
       "      <th></th>\n",
       "      <th>P_liza__c</th>\n",
       "      <th>Nombre_de_Empresa__c</th>\n",
       "      <th>Identificador__c</th>\n",
       "      <th>Rut_Empresa__c</th>\n",
       "      <th>Empresa_Padre__r.Name</th>\n",
       "      <th>Holding__c</th>\n",
       "      <th>Plan__c</th>\n",
       "      <th>Pais__c</th>\n",
       "      <th>Activo__c</th>\n",
       "      <th>Id</th>\n",
       "      <th>LLave</th>\n",
       "      <th>dato</th>\n",
       "    </tr>\n",
       "  </thead>\n",
       "  <tbody>\n",
       "    <tr>\n",
       "      <th>0</th>\n",
       "      <td>340023542</td>\n",
       "      <td>Uber Rides Chile SPA</td>\n",
       "      <td>Uber Rides Chile SPA</td>\n",
       "      <td>-</td>\n",
       "      <td>MetLife</td>\n",
       "      <td>Uber</td>\n",
       "      <td>MetLife Orienta</td>\n",
       "      <td>Chile</td>\n",
       "      <td>True</td>\n",
       "      <td>a3yRN0000006sFLYAY</td>\n",
       "      <td>340023542</td>\n",
       "      <td>1</td>\n",
       "    </tr>\n",
       "    <tr>\n",
       "      <th>1</th>\n",
       "      <td>340023542</td>\n",
       "      <td>Uber Rides Chile SPA</td>\n",
       "      <td>Uber Rides Chile SPA</td>\n",
       "      <td>-</td>\n",
       "      <td>MetLife</td>\n",
       "      <td>Uber</td>\n",
       "      <td>MetLife Orienta</td>\n",
       "      <td>Chile</td>\n",
       "      <td>True</td>\n",
       "      <td>a3yRN0000006sFMYAY</td>\n",
       "      <td>340023542</td>\n",
       "      <td>1</td>\n",
       "    </tr>\n",
       "    <tr>\n",
       "      <th>2</th>\n",
       "      <td>340019779</td>\n",
       "      <td>Ultramar Agencia Maritima Ltda.</td>\n",
       "      <td>Ultramar Agencia Maritima Ltda.</td>\n",
       "      <td>-</td>\n",
       "      <td>MetLife</td>\n",
       "      <td>Ultramar - Agencias</td>\n",
       "      <td>MetLife Orienta</td>\n",
       "      <td>Chile</td>\n",
       "      <td>True</td>\n",
       "      <td>a3yRN0000006sFNYAY</td>\n",
       "      <td>340019779</td>\n",
       "      <td>1</td>\n",
       "    </tr>\n",
       "    <tr>\n",
       "      <th>3</th>\n",
       "      <td>340017378</td>\n",
       "      <td>Ultrapoly S.A.</td>\n",
       "      <td>Ultrapoly S.A.</td>\n",
       "      <td>-</td>\n",
       "      <td>MetLife</td>\n",
       "      <td>CTTA Codelco - El Teniente</td>\n",
       "      <td>MetLife Orienta</td>\n",
       "      <td>Chile</td>\n",
       "      <td>False</td>\n",
       "      <td>a3yRN0000006sFOYAY</td>\n",
       "      <td>340017378</td>\n",
       "      <td>1</td>\n",
       "    </tr>\n",
       "    <tr>\n",
       "      <th>4</th>\n",
       "      <td>340023511</td>\n",
       "      <td>Ultrapoly S.A.</td>\n",
       "      <td>Ultrapoly S.A.</td>\n",
       "      <td>-</td>\n",
       "      <td>MetLife</td>\n",
       "      <td>Agema EECC - DCH</td>\n",
       "      <td>MetLife Orienta</td>\n",
       "      <td>Chile</td>\n",
       "      <td>False</td>\n",
       "      <td>a3yRN0000006sFPYAY</td>\n",
       "      <td>340023511</td>\n",
       "      <td>1</td>\n",
       "    </tr>\n",
       "  </tbody>\n",
       "</table>\n",
       "</div>"
      ],
      "text/plain": [
       "   P_liza__c             Nombre_de_Empresa__c  \\\n",
       "0  340023542             Uber Rides Chile SPA   \n",
       "1  340023542             Uber Rides Chile SPA   \n",
       "2  340019779  Ultramar Agencia Maritima Ltda.   \n",
       "3  340017378                   Ultrapoly S.A.   \n",
       "4  340023511                   Ultrapoly S.A.   \n",
       "\n",
       "                  Identificador__c Rut_Empresa__c Empresa_Padre__r.Name  \\\n",
       "0             Uber Rides Chile SPA              -               MetLife   \n",
       "1             Uber Rides Chile SPA              -               MetLife   \n",
       "2  Ultramar Agencia Maritima Ltda.              -               MetLife   \n",
       "3                   Ultrapoly S.A.              -               MetLife   \n",
       "4                   Ultrapoly S.A.              -               MetLife   \n",
       "\n",
       "                   Holding__c          Plan__c Pais__c  Activo__c  \\\n",
       "0                        Uber  MetLife Orienta   Chile       True   \n",
       "1                        Uber  MetLife Orienta   Chile       True   \n",
       "2         Ultramar - Agencias  MetLife Orienta   Chile       True   \n",
       "3  CTTA Codelco - El Teniente  MetLife Orienta   Chile      False   \n",
       "4            Agema EECC - DCH  MetLife Orienta   Chile      False   \n",
       "\n",
       "                   Id      LLave  dato  \n",
       "0  a3yRN0000006sFLYAY  340023542     1  \n",
       "1  a3yRN0000006sFMYAY  340023542     1  \n",
       "2  a3yRN0000006sFNYAY  340019779     1  \n",
       "3  a3yRN0000006sFOYAY  340017378     1  \n",
       "4  a3yRN0000006sFPYAY  340023511     1  "
      ]
     },
     "execution_count": 464,
     "metadata": {},
     "output_type": "execute_result"
    }
   ],
   "source": [
    "query2 = \"select P_liza__c, Nombre_de_Empresa__c,Identificador__c, Rut_Empresa__c, Empresa_Padre__r.Name, Empresa__r.name,Holding__c, Plan__c, Pais__c, Activo__c, Id from Datos_Empresa__c WHERE Empresa_Padre__r.Name = '\" + campaña + \"'\"\n",
    "\n",
    "df2 = sf.smart_query(query2)\n",
    "df2[\"LLave\"] = df2[\"Rut_Empresa__c\"].str.upper().str.replace(\"-\", \"\") + df2[\"P_liza__c\"]\n",
    "\n",
    "df2[\"dato\"] = 1\n",
    "df2.to_excel(\"F:/Empresas SF/reportes/empresas_asociadas.xlsx\", index=False)\n",
    "df2.head()"
   ]
  },
  {
   "cell_type": "code",
   "execution_count": 465,
   "metadata": {
    "notebookRunGroups": {
     "groupValue": "2"
    }
   },
   "outputs": [
    {
     "data": {
      "text/plain": [
       "(1, 21)"
      ]
     },
     "execution_count": 465,
     "metadata": {},
     "output_type": "execute_result"
    }
   ],
   "source": [
    "#RELACION EMPRESA PACIENMTES ---- EMPRESACONTACTOCONVENIOS\n",
    "\n",
    "\n",
    "sinId = pd.DataFrame()\n",
    "Subir_pacientes[\"Id_creado\"] = Subir_pacientes[\"Id_creado\"].astype(str)\n",
    "sinId = Subir_pacientes[Subir_pacientes[\"Id_creado\"].astype(str).str.len() < 12]\n",
    "Subir_pacientes = Subir_pacientes[Subir_pacientes[\"Id_creado\"].astype(str).str.len() >= 12]\n",
    "sinId.shape"
   ]
  },
  {
   "cell_type": "code",
   "execution_count": 466,
   "metadata": {
    "notebookRunGroups": {
     "groupValue": "2"
    }
   },
   "outputs": [
    {
     "data": {
      "text/html": [
       "<div>\n",
       "<style scoped>\n",
       "    .dataframe tbody tr th:only-of-type {\n",
       "        vertical-align: middle;\n",
       "    }\n",
       "\n",
       "    .dataframe tbody tr th {\n",
       "        vertical-align: top;\n",
       "    }\n",
       "\n",
       "    .dataframe thead th {\n",
       "        text-align: right;\n",
       "    }\n",
       "</style>\n",
       "<table border=\"1\" class=\"dataframe\">\n",
       "  <thead>\n",
       "    <tr style=\"text-align: right;\">\n",
       "      <th></th>\n",
       "      <th>rut1</th>\n",
       "      <th>rut2</th>\n",
       "      <th>FirstName</th>\n",
       "      <th>LastName</th>\n",
       "      <th>IdentificationId__pc</th>\n",
       "      <th>PersonEmail</th>\n",
       "      <th>Email_Seteado__c</th>\n",
       "      <th>PersonBirthdate</th>\n",
       "      <th>derty</th>\n",
       "      <th>HealthCloudGA__Gender__pc</th>\n",
       "      <th>...</th>\n",
       "      <th>BillingState</th>\n",
       "      <th>BillingCity</th>\n",
       "      <th>Phone</th>\n",
       "      <th>RecordTypeId</th>\n",
       "      <th>Cuenta_validada__c</th>\n",
       "      <th>BillingCountry</th>\n",
       "      <th>Identification_Type__c</th>\n",
       "      <th>Pa_s_del_Paciente__c</th>\n",
       "      <th>dato_account</th>\n",
       "      <th>Id_creado</th>\n",
       "    </tr>\n",
       "  </thead>\n",
       "  <tbody>\n",
       "    <tr>\n",
       "      <th>214167</th>\n",
       "      <td>71218449</td>\n",
       "      <td>71218449</td>\n",
       "      <td>Silva Scavia</td>\n",
       "      <td>Alejandro Antonio</td>\n",
       "      <td>71218449</td>\n",
       "      <td>asilvasca@gmail.com</td>\n",
       "      <td>True</td>\n",
       "      <td>5196-02-25 00:00:00</td>\n",
       "      <td>5196-02-25 00:00:00</td>\n",
       "      <td>Hombre</td>\n",
       "      <td>...</td>\n",
       "      <td>NaN</td>\n",
       "      <td>NaN</td>\n",
       "      <td></td>\n",
       "      <td>0128c000002Byp4AAC</td>\n",
       "      <td>True</td>\n",
       "      <td>Chile</td>\n",
       "      <td>RUT</td>\n",
       "      <td>a1U8c000005dAtnEAE</td>\n",
       "      <td>Silva Scavia,Alejandro Antonio,71218449,0128c0...</td>\n",
       "      <td>None</td>\n",
       "    </tr>\n",
       "  </tbody>\n",
       "</table>\n",
       "<p>1 rows × 21 columns</p>\n",
       "</div>"
      ],
      "text/plain": [
       "            rut1      rut2     FirstName           LastName  \\\n",
       "214167  71218449  71218449  Silva Scavia  Alejandro Antonio   \n",
       "\n",
       "       IdentificationId__pc          PersonEmail Email_Seteado__c  \\\n",
       "214167             71218449  asilvasca@gmail.com             True   \n",
       "\n",
       "            PersonBirthdate                derty HealthCloudGA__Gender__pc  \\\n",
       "214167  5196-02-25 00:00:00  5196-02-25 00:00:00                    Hombre   \n",
       "\n",
       "        ... BillingState BillingCity Phone        RecordTypeId  \\\n",
       "214167  ...          NaN         NaN        0128c000002Byp4AAC   \n",
       "\n",
       "       Cuenta_validada__c BillingCountry Identification_Type__c  \\\n",
       "214167               True          Chile                    RUT   \n",
       "\n",
       "       Pa_s_del_Paciente__c  \\\n",
       "214167   a1U8c000005dAtnEAE   \n",
       "\n",
       "                                             dato_account Id_creado  \n",
       "214167  Silva Scavia,Alejandro Antonio,71218449,0128c0...      None  \n",
       "\n",
       "[1 rows x 21 columns]"
      ]
     },
     "execution_count": 466,
     "metadata": {},
     "output_type": "execute_result"
    }
   ],
   "source": [
    "sinId.head()"
   ]
  },
  {
   "cell_type": "code",
   "execution_count": 467,
   "metadata": {
    "notebookRunGroups": {
     "groupValue": "2"
    }
   },
   "outputs": [
    {
     "name": "stdout",
     "output_type": "stream",
     "text": [
      "vacio\n"
     ]
    },
    {
     "data": {
      "text/plain": [
       "(1, 21)"
      ]
     },
     "execution_count": 467,
     "metadata": {},
     "output_type": "execute_result"
    }
   ],
   "source": [
    "sinId[\"Id_creado\"] = sinId[\"rut1\"].apply(lambda y: traerId(y))\n",
    "\n",
    "Subir_pacientes = pd.concat([Subir_pacientes, sinId], axis=0)\n",
    "Subir_pacientes.shape"
   ]
  },
  {
   "cell_type": "code",
   "execution_count": 468,
   "metadata": {
    "notebookRunGroups": {
     "groupValue": "2"
    }
   },
   "outputs": [
    {
     "data": {
      "text/plain": [
       "' Subir_pacientes.to_excel(\\n    \"F:/Empresas SF/reportes/dertyuiop.xlsx\", index=False\\n)\\nSubir_pacientes.head() '"
      ]
     },
     "execution_count": 468,
     "metadata": {},
     "output_type": "execute_result"
    }
   ],
   "source": [
    "\"\"\" Subir_pacientes.to_excel(\n",
    "    \"F:/Empresas SF/reportes/dertyuiop.xlsx\", index=False\n",
    ")\n",
    "Subir_pacientes.head() \"\"\""
   ]
  },
  {
   "cell_type": "code",
   "execution_count": 469,
   "metadata": {
    "notebookRunGroups": {
     "groupValue": "2"
    }
   },
   "outputs": [],
   "source": [
    "Subir_pacientes = Subir_pacientes[\n",
    "    [\n",
    "        \"rut1\",\n",
    "        \"rut2\",\n",
    "        \"Id_creado\",\n",
    "        \n",
    "    ]\n",
    "]\n",
    "\n",
    "\n",
    "\n"
   ]
  },
  {
   "cell_type": "code",
   "execution_count": 470,
   "metadata": {
    "notebookRunGroups": {
     "groupValue": "2"
    }
   },
   "outputs": [
    {
     "data": {
      "text/plain": [
       "(1, 3)"
      ]
     },
     "execution_count": 470,
     "metadata": {},
     "output_type": "execute_result"
    }
   ],
   "source": [
    "Subir_pacientes.shape"
   ]
  },
  {
   "cell_type": "code",
   "execution_count": 471,
   "metadata": {
    "notebookRunGroups": {
     "groupValue": "2"
    }
   },
   "outputs": [],
   "source": [
    "Pacientes_con_id[\"Id_creado\"] = Pacientes_con_id[\"Id Account Paciente\"]"
   ]
  },
  {
   "cell_type": "code",
   "execution_count": 472,
   "metadata": {
    "notebookRunGroups": {
     "groupValue": "2"
    }
   },
   "outputs": [
    {
     "data": {
      "text/plain": [
       "(266922, 35)"
      ]
     },
     "execution_count": 472,
     "metadata": {},
     "output_type": "execute_result"
    }
   ],
   "source": [
    "Pacientes_con_id.shape"
   ]
  },
  {
   "cell_type": "code",
   "execution_count": 473,
   "metadata": {
    "notebookRunGroups": {
     "groupValue": "2"
    }
   },
   "outputs": [
    {
     "data": {
      "text/plain": [
       "(266922, 7)"
      ]
     },
     "execution_count": 473,
     "metadata": {},
     "output_type": "execute_result"
    }
   ],
   "source": [
    "\n",
    "#noestan[\"Id Account Paciente\"] = np.where(Subir_pacientes[\"IdentificationId__pc\"] == noestan[\"rut\"],Subir_pacientes[\"Id_creado\"] + \"SI\",\"NO\")\n",
    "todos_con_Id = pd.merge(\n",
    "    left=Pacientes_con_id,\n",
    "    right=Subir_pacientes,\n",
    "    how=\"left\",\n",
    "    left_on=\"rut\",\n",
    "    right_on=\"rut1\",\n",
    ")\n",
    "\n",
    "todos_con_Id = todos_con_Id[\n",
    "    [\n",
    "        \"poliza\",\n",
    "        \"empleador\",\n",
    "        \"rutE\",\n",
    "        \"rut\",\n",
    "        \"rutT\",\n",
    "        \"Id_creado_x\",\n",
    "        \"Id_creado_y\",\n",
    "    ]\n",
    "]\n",
    "\n",
    "todos_con_Id.shape\n"
   ]
  },
  {
   "cell_type": "code",
   "execution_count": 420,
   "metadata": {},
   "outputs": [
    {
     "data": {
      "text/html": [
       "<div>\n",
       "<style scoped>\n",
       "    .dataframe tbody tr th:only-of-type {\n",
       "        vertical-align: middle;\n",
       "    }\n",
       "\n",
       "    .dataframe tbody tr th {\n",
       "        vertical-align: top;\n",
       "    }\n",
       "\n",
       "    .dataframe thead th {\n",
       "        text-align: right;\n",
       "    }\n",
       "</style>\n",
       "<table border=\"1\" class=\"dataframe\">\n",
       "  <thead>\n",
       "    <tr style=\"text-align: right;\">\n",
       "      <th></th>\n",
       "      <th>poliza</th>\n",
       "      <th>empleador</th>\n",
       "      <th>rutE</th>\n",
       "      <th>rut</th>\n",
       "      <th>rutT</th>\n",
       "      <th>Id_creado_x</th>\n",
       "      <th>Id_creado_y</th>\n",
       "    </tr>\n",
       "  </thead>\n",
       "  <tbody>\n",
       "    <tr>\n",
       "      <th>0</th>\n",
       "      <td>340022755</td>\n",
       "      <td>340022755</td>\n",
       "      <td>340022755</td>\n",
       "      <td>130922104</td>\n",
       "      <td>22692809K</td>\n",
       "      <td>0018c00002jWMvEAAW</td>\n",
       "      <td>NaN</td>\n",
       "    </tr>\n",
       "    <tr>\n",
       "      <th>1</th>\n",
       "      <td>340024040</td>\n",
       "      <td>340024040</td>\n",
       "      <td>340024040</td>\n",
       "      <td>13334327K</td>\n",
       "      <td>226928170</td>\n",
       "      <td>001RN000001vaR9YAI</td>\n",
       "      <td>NaN</td>\n",
       "    </tr>\n",
       "    <tr>\n",
       "      <th>2</th>\n",
       "      <td>340000577</td>\n",
       "      <td>340000577</td>\n",
       "      <td>340000577</td>\n",
       "      <td>144390784</td>\n",
       "      <td>226928626</td>\n",
       "      <td>0018c00002ayVSrAAM</td>\n",
       "      <td>NaN</td>\n",
       "    </tr>\n",
       "    <tr>\n",
       "      <th>3</th>\n",
       "      <td>340000577</td>\n",
       "      <td>340000577</td>\n",
       "      <td>340000577</td>\n",
       "      <td>144390784</td>\n",
       "      <td>226928936</td>\n",
       "      <td>0018c00002ayVSrAAM</td>\n",
       "      <td>NaN</td>\n",
       "    </tr>\n",
       "    <tr>\n",
       "      <th>4</th>\n",
       "      <td>340003856</td>\n",
       "      <td>340003856</td>\n",
       "      <td>340003856</td>\n",
       "      <td>150249295</td>\n",
       "      <td>226928944</td>\n",
       "      <td>0018c00002azj1wAAA</td>\n",
       "      <td>NaN</td>\n",
       "    </tr>\n",
       "  </tbody>\n",
       "</table>\n",
       "</div>"
      ],
      "text/plain": [
       "      poliza  empleador       rutE        rut       rutT         Id_creado_x  \\\n",
       "0  340022755  340022755  340022755  130922104  22692809K  0018c00002jWMvEAAW   \n",
       "1  340024040  340024040  340024040  13334327K  226928170  001RN000001vaR9YAI   \n",
       "2  340000577  340000577  340000577  144390784  226928626  0018c00002ayVSrAAM   \n",
       "3  340000577  340000577  340000577  144390784  226928936  0018c00002ayVSrAAM   \n",
       "4  340003856  340003856  340003856  150249295  226928944  0018c00002azj1wAAA   \n",
       "\n",
       "  Id_creado_y  \n",
       "0         NaN  \n",
       "1         NaN  \n",
       "2         NaN  \n",
       "3         NaN  \n",
       "4         NaN  "
      ]
     },
     "execution_count": 420,
     "metadata": {},
     "output_type": "execute_result"
    }
   ],
   "source": [
    "todos_con_Id.head()"
   ]
  },
  {
   "cell_type": "code",
   "execution_count": 474,
   "metadata": {
    "notebookRunGroups": {
     "groupValue": "2"
    }
   },
   "outputs": [],
   "source": [
    "todos_con_Id.Id_creado_x.fillna(todos_con_Id[\"Id_creado_y\"], inplace=True)\n",
    "todos_con_Id.Id_creado_x.fillna(\"FARSO\", inplace=True)\n",
    "todos_con_Id = todos_con_Id[todos_con_Id[\"Id_creado_x\"] != \"FARSO\"]\n",
    "todos_con_Id2 = todos_con_Id[todos_con_Id[\"Id_creado_x\"] == \"FARSO\"]\n",
    "todos_con_Id2[\"Id_creado_x\"] = todos_con_Id2[\"rut\"].apply(lambda y: traerId(y))\n",
    "todos_con_Id = pd.concat([todos_con_Id, todos_con_Id2], axis=0)"
   ]
  },
  {
   "cell_type": "code",
   "execution_count": 475,
   "metadata": {
    "notebookRunGroups": {
     "groupValue": "2"
    }
   },
   "outputs": [
    {
     "data": {
      "text/plain": [
       "' todos_con_Id.to_excel(\\n    \"F:/Empresas SF/reportes/todos_con_Id.xlsx\", index=False\\n) '"
      ]
     },
     "execution_count": 475,
     "metadata": {},
     "output_type": "execute_result"
    }
   ],
   "source": [
    "\"\"\" todos_con_Id.to_excel(\n",
    "    \"F:/Empresas SF/reportes/todos_con_Id.xlsx\", index=False\n",
    ") \"\"\"\n"
   ]
  },
  {
   "cell_type": "code",
   "execution_count": 477,
   "metadata": {
    "notebookRunGroups": {
     "groupValue": "2"
    }
   },
   "outputs": [],
   "source": [
    "if campaña == \"Southbridge Plan Mujer\":\n",
    "    VempresaConvenio = \"a3yRN0000006sVTYAY\"\n",
    "elif campaña == \"Southbridge\":\n",
    "    \n",
    "    VempresaConvenio = \"a3yRN0000006sqYYAQ\"\n",
    "elif campaña == \"Construmart\":\n",
    "    \n",
    "    VempresaConvenio = \"a3yRN0000006rlZYAQ\"\n",
    "elif campaña == \"EY\":\n",
    "    \n",
    "    VempresaConvenio = \"a3yRN0000006rsTYAQ\"\n",
    "elif campaña == \"Colmena\":\n",
    "\n",
    "    VempresaConvenio = \"a3yRN0000006rf5YAA\"\n",
    "elif campaña == \"Pedro De Valdivia\":\n",
    "    \n",
    "    VempresaConvenio = \"a3yRN0000006sVzYAI\"\n",
    "elif campaña == \"Forum\":\n",
    "    \n",
    "    VempresaConvenio = \"a3yRN0000006s3SYAQ\"\n",
    "elif campaña == \"Cruz Verde\":\n",
    "    \n",
    "    VempresaConvenio = \"a3yRN0000006rsqYAA\"\n",
    "elif campaña == \"Milan Fajanovic\":\n",
    "    \n",
    "    VempresaConvenio = \"a3yRN0000006sR4YAI\"\n",
    "elif campaña == \"ProChile\":\n",
    "    \n",
    "    VempresaConvenio = \"a3yRN0000006rpsYAA\"\n",
    "elif campaña == \"Farmacias Ahumada\":\n",
    "    \n",
    "    VempresaConvenio = \"a3yRN0000006rspYAA\"\n",
    "elif campaña == \"Minera El Abra\":\n",
    "    \n",
    "    VempresaConvenio = \"a3yRN0000006snOYAQ\"\n",
    "elif campaña == \"Instruvalve\":\n",
    "    \n",
    "    VempresaConvenio = \"a3yRN0000006s9DYAQ\"\n",
    "elif campaña == \"VidaCel\":\n",
    "    \n",
    "    VempresaConvenio = \"a3yRN0000006suzYAA\"\n",
    "elif campaña == \"Care Assistance Colaboradores\":\n",
    "    \n",
    "    VempresaConvenio = \"a3yRN0000006reXYA\"\n",
    "elif campaña == \"Nexo\":\n",
    "    \n",
    "    VempresaConvenio = \"a3yRN0000006sORYAY\"\n",
    "elif campaña == \"Talo\":\n",
    "    \n",
    "    VempresaConvenio = \"a3yRN0000006t10YAA\"\n",
    "else:\n",
    "    \n",
    "    VempresaConvenio = \"Buscarv\"\n"
   ]
  },
  {
   "cell_type": "code",
   "execution_count": 480,
   "metadata": {
    "notebookRunGroups": {
     "groupValue": ""
    }
   },
   "outputs": [],
   "source": [
    "\n",
    "\n",
    "\n",
    "\n",
    "if(campaña == \"MetLife\" or campaña == \"BCI Seguros Colectivos\"):\n",
    "    empresacontactoconvenio_PacientesSF[\"llave\"] = empresacontactoconvenio_PacientesSF[\"Poliza\"] + empresacontactoconvenio_PacientesSF[\"Rut Titular\"] + empresacontactoconvenio_PacientesSF[\"Rut_y\"]\n",
    "    todos_con_Id[\"llave\"] = todos_con_Id[\"poliza\"] + todos_con_Id[\"rutT\"] + todos_con_Id[\"rut\"]\n",
    "    \n",
    "elif(campaña == \"Vida Security\"):\n",
    "    empresacontactoconvenio_PacientesSF[\"llave\"] = empresacontactoconvenio_PacientesSF[\"Poliza\"] +empresacontactoconvenio_PacientesSF[\"Rut Empresa\"] + empresacontactoconvenio_PacientesSF[\"Rut Titular\"] + empresacontactoconvenio_PacientesSF[\"Rut_y\"]\n",
    "    todos_con_Id[\"llave\"] = todos_con_Id[\"poliza\"] + todos_con_Id[\"rutE\"] + todos_con_Id[\"rutT\"] + todos_con_Id[\"rut\"]\n",
    "else:\n",
    "    empresacontactoconvenio_PacientesSF[\"llave\"] = empresacontactoconvenio_PacientesSF[\"Rut Titular\"] + empresacontactoconvenio_PacientesSF[\"Rut_y\"]\n",
    "    todos_con_Id[\"llave\"] = todos_con_Id[\"rutT\"] + todos_con_Id[\"rut\"]    \n",
    "    \n",
    "\n",
    "todos_con_Id[\"esta\"] = todos_con_Id[\"llave\"].isin(empresacontactoconvenio_PacientesSF[\"llave\"])\n",
    "empresacontactoconvenio_PacientesSF[\"Noesta\"] = empresacontactoconvenio_PacientesSF[\"llave\"].isin(todos_con_Id[\"llave\"])\n",
    "\n",
    "\n",
    "diccionario = df2[\n",
    "    [\n",
    "        \"P_liza__c\",\n",
    "        \"Id\",        \n",
    "    ]\n",
    "]\n",
    "diccionario = diccionario.drop_duplicates(\n",
    "    [\n",
    "        \"P_liza__c\",\n",
    "        \"Id\",        \n",
    "    ],\n",
    "    keep=\"last\",\n",
    ")\n",
    "diccionario = diccionario.to_dict(orient='records')\n",
    "\n",
    "\n",
    "todos_con_Id[\"N_Documento_Titular__c\"] = todos_con_Id[\"rutT\"]\n",
    "todos_con_Id[\"Paciente__c\"] = todos_con_Id[\"Id_creado_x\"]\n",
    "todos_con_Id[\"Empresa__c\"] = VempresaConvenio\n",
    "\n",
    "if (VempresaConvenio == \"Buscarv\"):\n",
    "    todos_con_Id.replace({\"poliza\": diccionario}, inplace=True)\n",
    "\n",
    "todos_con_Id.to_excel(\n",
    "    \"F:/Empresas SF/reportes/todos con.xlsx\", index=False\n",
    ")\n",
    "empresacontactoconvenio_PacientesSF.to_excel(\n",
    "    \"F:/Empresas SF/reportes/empresacontacto.xlsx\", index=False\n",
    ")"
   ]
  },
  {
   "cell_type": "code",
   "execution_count": null,
   "metadata": {},
   "outputs": [],
   "source": [
    "diccionario"
   ]
  },
  {
   "cell_type": "markdown",
   "metadata": {},
   "source": [
    "Cuadrar eliminar pacientes q no estan en el listado\n",
    "//-----------------------------------------------------------//\n"
   ]
  },
  {
   "cell_type": "code",
   "execution_count": null,
   "metadata": {},
   "outputs": [],
   "source": [
    "empresacontactoconvenio_PacientesSF.drop(empresacontactoconvenio_PacientesSF[(empresacontactoconvenio_PacientesSF[\"Rut_y\"] == \"163820064\")].index, inplace=True)\n",
    "empresacontactoconvenio_PacientesSF.drop(empresacontactoconvenio_PacientesSF[(empresacontactoconvenio_PacientesSF[\"Rut_y\"] == \"153298939\")].index, inplace=True)\n",
    "empresacontactoconvenio_PacientesSF.drop(empresacontactoconvenio_PacientesSF[(empresacontactoconvenio_PacientesSF[\"Rut_y\"] == \"191710940\")].index, inplace=True)\n",
    "empresacontactoconvenio_PacientesSF.drop(empresacontactoconvenio_PacientesSF[(empresacontactoconvenio_PacientesSF[\"Rut_y\"] == \"182470082\")].index, inplace=True)\n",
    "empresacontactoconvenio_PacientesSF.drop(empresacontactoconvenio_PacientesSF[(empresacontactoconvenio_PacientesSF[\"Rut_y\"] == \"16277865\")].index, inplace=True)\n",
    "empresacontactoconvenio_PacientesSF.drop(empresacontactoconvenio_PacientesSF[(empresacontactoconvenio_PacientesSF[\"Rut_y\"] == \"16277865K\")].index, inplace=True)\n",
    "empresacontactoconvenio_PacientesSF.drop(empresacontactoconvenio_PacientesSF[(empresacontactoconvenio_PacientesSF[\"Rut_y\"] == \"HEGJ930928HMNRRL06\")].index, inplace=True)\n",
    "empresacontactoconvenio_PacientesSF.drop(empresacontactoconvenio_PacientesSF[(empresacontactoconvenio_PacientesSF[\"Rut_y\"] == \"16007258K\")].index, inplace=True)\n",
    "empresacontactoconvenio_PacientesSF.drop(empresacontactoconvenio_PacientesSF[(empresacontactoconvenio_PacientesSF[\"Rut_y\"] == \"86676540\")].index, inplace=True)\n",
    "empresacontactoconvenio_PacientesSF.drop(empresacontactoconvenio_PacientesSF[(empresacontactoconvenio_PacientesSF[\"Rut_y\"] == \"202201466\")].index, inplace=True)\n",
    "empresacontactoconvenio_PacientesSF.drop(empresacontactoconvenio_PacientesSF[(empresacontactoconvenio_PacientesSF[\"Rut_y\"] == \"105233469\")].index, inplace=True)\n",
    "empresacontactoconvenio_PacientesSF.drop(empresacontactoconvenio_PacientesSF[(empresacontactoconvenio_PacientesSF[\"Rut_y\"] == \"130949185\")].index, inplace=True)\n",
    "empresacontactoconvenio_PacientesSF.drop(empresacontactoconvenio_PacientesSF[(empresacontactoconvenio_PacientesSF[\"Rut_y\"] == \"255356798\")].index, inplace=True)\n",
    "empresacontactoconvenio_PacientesSF.drop(empresacontactoconvenio_PacientesSF[(empresacontactoconvenio_PacientesSF[\"Rut_y\"] == \"34005945\")].index, inplace=True)\n",
    "empresacontactoconvenio_PacientesSF.drop(empresacontactoconvenio_PacientesSF[(empresacontactoconvenio_PacientesSF[\"Rut_y\"] == \"185410072\")].index, inplace=True)\n",
    "empresacontactoconvenio_PacientesSF.drop(empresacontactoconvenio_PacientesSF[(empresacontactoconvenio_PacientesSF[\"Rut_y\"] == \"197415029\")].index, inplace=True)\n",
    "empresacontactoconvenio_PacientesSF.drop(empresacontactoconvenio_PacientesSF[(empresacontactoconvenio_PacientesSF[\"Rut_y\"] == \"254468134\")].index, inplace=True)\n",
    "\n",
    "\n",
    "\n",
    "empresacontactoconvenio_PacientesSF.head()"
   ]
  },
  {
   "cell_type": "code",
   "execution_count": null,
   "metadata": {},
   "outputs": [],
   "source": [
    "empresacontactoconvenio_PacientesSF.to_excel(\n",
    "    \"F:/Empresas SF/reportes/SFpacientes.xlsx\", index=False)"
   ]
  },
  {
   "cell_type": "code",
   "execution_count": null,
   "metadata": {},
   "outputs": [],
   "source": [
    "contactd = sf.Account.get(\"0018c00002lUyo0AAC\")\n",
    "contactd[\"PersonContactId\"]"
   ]
  },
  {
   "cell_type": "code",
   "execution_count": null,
   "metadata": {},
   "outputs": [],
   "source": [
    "# contactd[\"PersonContactId\"]\n",
    "print(datetime.now())"
   ]
  },
  {
   "cell_type": "code",
   "execution_count": null,
   "metadata": {},
   "outputs": [],
   "source": [
    "Subir_pacientes.to_excel(\"F:/Empresas SF/reportes/tod  es.xlsx\", index=False)"
   ]
  },
  {
   "cell_type": "markdown",
   "metadata": {},
   "source": [
    "query2 = \"select P_liza**c, Nombre_de_Empresa**c, Rut_Empresa**c, Empresa_Padre**r.Name, Empresa**r.name,Holding**c, Plan**c, Pais**c, Activo**c, Id from Datos_Empresa**c \"\n",
    "\n",
    "df2 = sf.smart_query(query2)\n",
    "df2.to_excel(\"F:/Empresas SF/reportes/empresas_nuevas.xlsx\", index=False)\n",
    "df2.head()\n"
   ]
  },
  {
   "cell_type": "markdown",
   "metadata": {},
   "source": [
    "Subir_pacientes.to_excel(\"F:/Empresas SF/reportes/111account.xlsx\", index=False)\n"
   ]
  },
  {
   "cell_type": "markdown",
   "metadata": {},
   "source": [
    "derty = Subir_pacientes[\"IdentificationId__pc\"]\n",
    "sf.Contact.create({\"IdentificationId\\_\\_pc\": \"derty\", \"Email\": \"example@example.com\"})\n"
   ]
  },
  {
   "cell_type": "markdown",
   "metadata": {},
   "source": [
    "Subir_pacientes.head()\n"
   ]
  },
  {
   "cell_type": "markdown",
   "metadata": {},
   "source": [
    "Subir_pacientes.head()\n",
    "Subir_pacientes.to_excel(\"F:/Empresas SF/reportes/account\\_\\_l.xlsx\", index=False)\n"
   ]
  },
  {
   "cell_type": "code",
   "execution_count": null,
   "metadata": {},
   "outputs": [],
   "source": [
    "\"\"\" if campaña != \"MetLife\":\n",
    "    pacientes_en_campaña = pd.merge(\n",
    "        left=campaña_seleccionada,\n",
    "        right=Pacientes_con_id,\n",
    "        how=\"left\",\n",
    "        left_on=\"Id Account\",\n",
    "        right_on=\"Id Account Paciente\",\n",
    "    )\n",
    "    pacientes_en_campaña[\"Paciente__c\"] = \"Id Pacientes\"\n",
    "    pacientes_en_campaña[\"Programas_por_Empresas__c\"] = \"Id Programas Por empresa\"\n",
    "    pacientes_en_campaña.to_excel(\n",
    "        \"F:/Empresas SF/reportes/campaña_empresa.xlsx\", index=False\n",
    "    )\n",
    "    campaña_en_pacientes = pd.merge(\n",
    "        left=Pacientes_con_id,\n",
    "        right=campaña_seleccionada,\n",
    "        how=\"left\",\n",
    "        left_on=\"Id Account Paciente\",\n",
    "        right_on=\"Id Account\",\n",
    "    )\n",
    "    campaña_en_pacientes.to_excel(\n",
    "        \"F:/Empresas SF/reportes/archivo_campaña.xlsx\", index=False\n",
    "    )\n",
    " \"\"\""
   ]
  },
  {
   "cell_type": "code",
   "execution_count": null,
   "metadata": {},
   "outputs": [],
   "source": [
    "\"\"\" if campaña != \"MetLife1\":\n",
    "    campaña_en_pacientes = pd.merge(\n",
    "        left=Pacientes_con_id,\n",
    "        right=campaña_seleccionada,\n",
    "        how=\"left\",\n",
    "        left_on=\"Id Account Paciente\",\n",
    "        right_on=\"Id Account\",\n",
    "    )\n",
    "    if (\"poliza\" in campaña_en_pacientes.columns) == True:\n",
    "        campaña_en_pacientes[\"poliza\"] = campaña_en_pacientes[\"poliza\"].astype(str)\n",
    "\n",
    "    campaña_en_pacientes = campaña_en_pacientes.rename(\n",
    "        columns={\"Programas_por_Empresas__c\": \"programas por empresa\"}\n",
    "    )\n",
    "    campaña_en_pacientes[\"Paciente__c\"] = campaña_en_pacientes[\"Id Account Paciente\"]\n",
    "    campaña_en_pacientes[\"Programas_por_Empresas__c\"] = campaña_en_pacientes[\n",
    "        \"programas por empresa\"\n",
    "    ]\n",
    "    campaña_en_pacientes.to_excel(\n",
    "        \"F:/Empresas SF/reportes/archivo_campaña2.xlsx\", index=False\n",
    "    ) \"\"\""
   ]
  },
  {
   "cell_type": "code",
   "execution_count": null,
   "metadata": {},
   "outputs": [],
   "source": [
    "# apprix_1 = Pacientes_SF.iloc[:790552,:]\n",
    "# apprix_2 = Pacientes_SF.iloc[790553:,:]\n",
    "# apprix_1.to_excel(\"F:/Empresas SF/reportes/Ruts1.xlsx\",index=False)\n",
    "# apprix_2.to_excel(\"F:/Empresas SF/reportes/Ruts2.xlsx\",index=False)"
   ]
  },
  {
   "cell_type": "code",
   "execution_count": null,
   "metadata": {},
   "outputs": [],
   "source": [
    "campaña_en_pacientes2 = pd.merge(\n",
    "    left=Pacientes_con_id,\n",
    "    right=campaña_seleccionada,\n",
    "    how=\"left\",\n",
    "    left_on=\"Id Account Paciente\",\n",
    "    right_on=\"Id Account\",\n",
    ")\n",
    "if (\"poliza\" in campaña_en_pacientes2.columns) == True:\n",
    "    campaña_en_pacientes2[\"poliza\"] = campaña_en_pacientes2[\"poliza\"].astype(str)\n",
    "\n",
    "campaña_en_pacientes2 = campaña_en_pacientes2.rename(\n",
    "    columns={\"Programas_por_Empresas__c\": \"programas por empresa\"}\n",
    ")\n",
    "campaña_en_pacientes2[\"Paciente__c\"] = campaña_en_pacientes2[\"Id Account Paciente\"]\n",
    "campaña_en_pacientes2[\"Programas_por_Empresas__c\"] = campaña_en_pacientes2[\n",
    "    \"programas por empresa\"\n",
    "]\n",
    "\n",
    "\n",
    "\"\"\" campaña_en_pacientes2 = campaña_en_pacientes2[\n",
    "    (campaña_en_pacientes2[\"Programas_por_Empresas__c\"] == \"\")] \"\"\"\n",
    "campaña_en_pacientes2[\"Esta\"] = campaña_en_pacientes2[\"programas por empresa\"].isnull()\n",
    "campaña_en_pacientes2 = campaña_en_pacientes2[campaña_en_pacientes2[\"Esta\"]]\n",
    "campaña_en_pacientes2.to_excel(\n",
    "    \"F:/Empresas SF/reportes/archivo_campaña3.xlsx\", index=False\n",
    ")"
   ]
  },
  {
   "cell_type": "code",
   "execution_count": null,
   "metadata": {},
   "outputs": [],
   "source": [
    "campaña_en_pacientes2[\"rut\"].shape"
   ]
  },
  {
   "cell_type": "code",
   "execution_count": null,
   "metadata": {},
   "outputs": [],
   "source": [
    "# nuevosrutes = \"F:/Empresas SF/reportes/rut.xlsx\"\n",
    "# campaña = \"BCI Seguros Colectivos\"\n",
    "# Pais = \"Chile\"\n",
    "# Pais = \"México\"\n",
    "\n",
    "# rutes = pd.read_excel(nuevosrutes)\n",
    "rutes = pd.DataFrame(columns=[\"rut\"])\n",
    "rutes[\"rut\"] = Pacientes_Archivo[\"rut\"]\n",
    "rutes[\"rutT\"] = Pacientes_Archivo[\"rut2\"]\n",
    "rutes[\"Contratante\"] = Pacientes_Archivo[\"Contratante\"]\n",
    "# rutes[\"poliza\"] = Pacientes_Archivo[\"poliza\"]\n",
    "rutes.head()"
   ]
  },
  {
   "cell_type": "code",
   "execution_count": null,
   "metadata": {},
   "outputs": [],
   "source": [
    "rutes[\"rut\"] = rutes[\"rut\"].astype(str)\n",
    "rutes[\"rut\"] = rutes[\"rut\"].str.replace(\".\", \"\")\n",
    "rutes[\"rut\"] = rutes[\"rut\"].str.replace(\"-\", \"\")\n",
    "# aca se trabaja con el nuevo rut desde rut1 ojooooooo\n",
    "rutes[\"rut\"] = rutes[\"rut\"].str.upper()\n",
    "rutes[\"rut\"] = rutes[\"rut\"].str.strip()\n",
    "\n",
    "rutes[\"rutT\"] = rutes[\"rutT\"].astype(str)\n",
    "rutes[\"rutT\"] = rutes[\"rutT\"].str.replace(\".\", \"\")\n",
    "rutes[\"rutT\"] = rutes[\"rutT\"].str.replace(\"-\", \"\")\n",
    "# aca se trabaja con el nuevo rut desde rut1 ojooooooo\n",
    "rutes[\"rutT\"] = rutes[\"rutT\"].str.upper()\n",
    "rutes[\"rutT\"] = rutes[\"rutT\"].str.strip()\n",
    "\n",
    "\"\"\" rutes[\"poliza\"] = rutes[\"poliza\"].astype(str)\n",
    "rutes[\"poliza\"] = rutes[\"poliza\"].str.replace(\".\", \"\")\n",
    "rutes[\"poliza\"] = rutes[\"poliza\"].str.replace(\"-\", \"\")\n",
    "# aca se trabaja con el nuevo rut desde rut1 ojooooooo\n",
    "rutes[\"poliza\"] = rutes[\"poliza\"].str.strip() \"\"\"\n",
    "\n",
    "\n",
    "rutes.head()"
   ]
  },
  {
   "cell_type": "code",
   "execution_count": null,
   "metadata": {},
   "outputs": [],
   "source": [
    "# derty = rutes.to_numpy().transpose().tolist()\n",
    "\n",
    "\n",
    "Pacientes_SF2 = Pacientes_SF[[\"Rut\", \"Id Account Paciente\"]]"
   ]
  },
  {
   "cell_type": "code",
   "execution_count": null,
   "metadata": {},
   "outputs": [],
   "source": [
    "rutesi = pd.merge(\n",
    "    left=rutes,\n",
    "    right=Pacientes_SF2,\n",
    "    how=\"left\",\n",
    "    left_on=\"rut\",\n",
    "    right_on=\"Rut\",\n",
    ")\n",
    "rutesi.shape\n",
    "rutesi.to_excel(\"F:/Empresas SF/reportes/rutsyempresa.xlsx\", index=False)"
   ]
  },
  {
   "cell_type": "code",
   "execution_count": null,
   "metadata": {},
   "outputs": [],
   "source": [
    "rutesi.head()"
   ]
  },
  {
   "cell_type": "code",
   "execution_count": null,
   "metadata": {},
   "outputs": [],
   "source": [
    "rutesi_antg = pd.merge(\n",
    "    left=rutesi,\n",
    "    right=empresas_unidas,\n",
    "    how=\"left\",\n",
    "    left_on=\"Id Account Paciente\",\n",
    "    right_on=\"Id Account\",\n",
    ")"
   ]
  },
  {
   "cell_type": "code",
   "execution_count": null,
   "metadata": {},
   "outputs": [],
   "source": [
    "rutesi_antg.head()"
   ]
  },
  {
   "cell_type": "code",
   "execution_count": null,
   "metadata": {},
   "outputs": [],
   "source": [
    "# rutesi_antg .to_excel(\"F:/Empresas SF/reportes/ruts_empresas_antiguos.xlsx\", index=False)"
   ]
  },
  {
   "cell_type": "code",
   "execution_count": null,
   "metadata": {},
   "outputs": [],
   "source": [
    "import json\n",
    "import pandas as pd\n",
    "from simple_salesforce import Salesforce, format_soql, format_external_id\n",
    "from json import loads, dumps\n",
    "import simpler_sf\n",
    "\n",
    "simpler_sf.simple_salesforce()"
   ]
  },
  {
   "cell_type": "code",
   "execution_count": null,
   "metadata": {},
   "outputs": [],
   "source": [
    "with open(\"login.json\", \"r\") as j:\n",
    "    misDatos = json.load(j)\n",
    "sf = Salesforce(\n",
    "    username=misDatos[\"username\"],\n",
    "    password=misDatos[\"password\"],\n",
    "    security_token=misDatos[\"security_token\"],\n",
    ")"
   ]
  },
  {
   "cell_type": "code",
   "execution_count": null,
   "metadata": {},
   "outputs": [],
   "source": [
    "\"\"\" query = \"select Id, Account.Name, RutContact__c from AccountContactRelation \"\n",
    "\n",
    "df1 = sf.smart_query(query) \"\"\""
   ]
  },
  {
   "cell_type": "code",
   "execution_count": null,
   "metadata": {},
   "outputs": [],
   "source": [
    "# nuevosrutes = \"F:/Empresas SF/reportes/rut.xlsx\"\n",
    "# campaña = \"BCI Seguros Colectivos\"\n",
    "# Pais = \"Chile\"\n",
    "# Pais = \"México\"\n",
    "\n",
    "# rutes = pd.read_excel(nuevosrutes)\n",
    "# rutes = Subir_pacientes[\"rut\"]"
   ]
  },
  {
   "cell_type": "code",
   "execution_count": null,
   "metadata": {},
   "outputs": [],
   "source": [
    "\"\"\" df1.head() \"\"\""
   ]
  },
  {
   "cell_type": "code",
   "execution_count": null,
   "metadata": {},
   "outputs": [],
   "source": [
    "\"\"\" df1[\"rut\"] = df1[\"RutContact__c\"].astype(str)\n",
    "df1[\"rut\"] = df1[\"rut\"].str.replace(\".\", \"\")\n",
    "df1[\"rut\"] = df1[\"rut\"].str.replace(\n",
    "    \"-\", \"\"\n",
    ")  # aca se trabaja con el nuevo rut desde rut1 ojooooooo\n",
    "df1[\"rut\"] = df1[\"rut\"].str.upper()\n",
    "df1[\"rut\"] = df1[\"rut\"].str.strip()\n",
    "df1.head() \"\"\""
   ]
  },
  {
   "cell_type": "code",
   "execution_count": null,
   "metadata": {},
   "outputs": [],
   "source": [
    "\"\"\" rutes.head() \"\"\""
   ]
  },
  {
   "cell_type": "code",
   "execution_count": null,
   "metadata": {},
   "outputs": [],
   "source": [
    "\"\"\" rutesi = pd.merge(\n",
    "    left=rutes,\n",
    "    right=df1,\n",
    "    how=\"left\",\n",
    "    left_on=\"rut\",\n",
    "    right_on=\"rut\",\n",
    ") \"\"\""
   ]
  },
  {
   "cell_type": "code",
   "execution_count": null,
   "metadata": {},
   "outputs": [],
   "source": [
    "\"\"\" rutesi.to_excel(\"F:/Empresas SF/reportes/rutesnuevos_accountcontactrelation.xlsx\", index=False) \"\"\""
   ]
  },
  {
   "cell_type": "code",
   "execution_count": null,
   "metadata": {},
   "outputs": [],
   "source": [
    "\"\"\" df2[\"P_liza__c\"] = df2[\"P_liza__c\"].astype(str)\n",
    "df2[\"P_liza__c\"] = df2[\"P_liza__c\"].str.replace(\".\", \"\")\n",
    "df2[\"P_liza__c\"] = df2[\"P_liza__c\"].str.replace(\"-\", \"\")\n",
    "# aca se trabaja con el nuevo rut desde rut1 ojooooooo\n",
    "df2[\"P_liza__c\"] = df2[\"P_liza__c\"].str.upper()\n",
    "df2[\"P_liza__c\"] = df2[\"P_liza__c\"].str.strip() \"\"\""
   ]
  },
  {
   "cell_type": "code",
   "execution_count": null,
   "metadata": {},
   "outputs": [],
   "source": [
    "modelo_nuevo = pd.merge(\n",
    "    left=rutesi,\n",
    "    right=df2,\n",
    "    how=\"left\",\n",
    "    left_on=\"poliza\",\n",
    "    right_on=\"P_liza__c\",\n",
    ")\n",
    "modelo_nuevo.to_excel(\"F:/Empresas SF/reportes/modelo_nuevo.xlsx\", index=False)"
   ]
  },
  {
   "cell_type": "code",
   "execution_count": null,
   "metadata": {},
   "outputs": [],
   "source": [
    "modelo = pd.DataFrame()\n",
    "modelo = modelo_nuevo[[\"rutT\", \"Id Account Paciente\", \"Id\"]]"
   ]
  },
  {
   "cell_type": "code",
   "execution_count": null,
   "metadata": {},
   "outputs": [],
   "source": [
    "modelo.head()"
   ]
  }
 ],
 "metadata": {
  "kernelspec": {
   "display_name": "salesforce",
   "language": "python",
   "name": "python3"
  },
  "language_info": {
   "codemirror_mode": {
    "name": "ipython",
    "version": 3
   },
   "file_extension": ".py",
   "mimetype": "text/x-python",
   "name": "python",
   "nbconvert_exporter": "python",
   "pygments_lexer": "ipython3",
   "version": "3.8.16"
  },
  "orig_nbformat": 4,
  "vscode": {
   "interpreter": {
    "hash": "7fbccfb583f385d5cd7c75cc6ade03c09354727271e9200f47ca4e7fedb5381e"
   }
  }
 },
 "nbformat": 4,
 "nbformat_minor": 2
}
