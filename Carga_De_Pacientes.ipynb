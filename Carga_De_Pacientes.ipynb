{
 "cells": [
  {
   "cell_type": "code",
   "execution_count": 11,
   "metadata": {
    "notebookRunGroups": {
     "groupValue": "1"
    }
   },
   "outputs": [],
   "source": [
    "from pathlib import Path\n",
    "import requests\n",
    "import pandas as pd\n",
    "import numpy as np\n",
    "from io import StringIO\n",
    "import shutil\n",
    "import datetime\n",
    "from datetime import datetime\n",
    "import re\n",
    "import json\n",
    "from pandas.api.types import is_numeric_dtype\n",
    "from simple_salesforce import Salesforce, format_soql, format_external_id\n",
    "import simpler_sf\n",
    "\n",
    "simpler_sf.simple_salesforce()"
   ]
  },
  {
   "cell_type": "code",
   "execution_count": 12,
   "metadata": {
    "notebookRunGroups": {
     "groupValue": "1"
    }
   },
   "outputs": [],
   "source": [
    "with open(\"login.json\", \"r\") as j:\n",
    "    misDatos = json.load(j)"
   ]
  },
  {
   "cell_type": "code",
   "execution_count": 13,
   "metadata": {
    "notebookRunGroups": {
     "groupValue": "1"
    }
   },
   "outputs": [],
   "source": [
    "# para smart query\n",
    "\"\"\" sf = simple_salesforce.Salesforce(\n",
    "    username=misDatos[\"username\"],\n",
    "    password=misDatos[\"password\"],\n",
    "    security_token=misDatos[\"security_token\"],\n",
    ")\n",
    " \"\"\"\n",
    "# para lo demas\n",
    "sf = Salesforce(\n",
    "    username=misDatos[\"username\"],\n",
    "    password=misDatos[\"password\"],\n",
    "    security_token=misDatos[\"security_token\"],\n",
    ")\n",
    "# paramiko.util.log_to_file(\"paramiko.log\")\n",
    "regex = re.compile(r\"([A-Za-z0-9]+[.-_])*[A-Za-z0-9]+@[A-Za-z0-9-]+(\\.[A-Z|a-z]{2,})+\")"
   ]
  },
  {
   "cell_type": "markdown",
   "metadata": {},
   "source": [
    "Descarga de empresas en sistema\n"
   ]
  },
  {
   "cell_type": "code",
   "execution_count": 14,
   "metadata": {
    "notebookRunGroups": {
     "groupValue": "1"
    }
   },
   "outputs": [
    {
     "name": "stderr",
     "output_type": "stream",
     "text": [
      "100%|██████████| 1/1 [00:11<00:00, 11.35s/it]\n"
     ]
    },
    {
     "data": {
      "text/html": [
       "<div>\n",
       "<style scoped>\n",
       "    .dataframe tbody tr th:only-of-type {\n",
       "        vertical-align: middle;\n",
       "    }\n",
       "\n",
       "    .dataframe tbody tr th {\n",
       "        vertical-align: top;\n",
       "    }\n",
       "\n",
       "    .dataframe thead th {\n",
       "        text-align: right;\n",
       "    }\n",
       "</style>\n",
       "<table border=\"1\" class=\"dataframe\">\n",
       "  <thead>\n",
       "    <tr style=\"text-align: right;\">\n",
       "      <th></th>\n",
       "      <th>Id</th>\n",
       "      <th>Empresa__r.Id</th>\n",
       "      <th>Empresa__r.Name</th>\n",
       "      <th>Empresa__r.Holding__c</th>\n",
       "      <th>Empresa__r.Campa_a__c</th>\n",
       "      <th>Empresa__r.Id_Empresa__c</th>\n",
       "      <th>Empresa__r.Empleador__c</th>\n",
       "      <th>Empresa__r.poliza__c</th>\n",
       "      <th>Empresa__r.RUT_Empresa__c</th>\n",
       "      <th>Empresa__r.Corredor__c</th>\n",
       "      <th>Empresa__r.Padre_Empresa__c</th>\n",
       "      <th>Name</th>\n",
       "    </tr>\n",
       "  </thead>\n",
       "  <tbody>\n",
       "    <tr>\n",
       "      <th>0</th>\n",
       "      <td>a1W8c000007c5aIEAQ</td>\n",
       "      <td>0018c00002k9KwBAAU</td>\n",
       "      <td>Aldo Conti MX</td>\n",
       "      <td>-</td>\n",
       "      <td>Aldo Conti</td>\n",
       "      <td>EMP10376</td>\n",
       "      <td>Aldo Conti MX</td>\n",
       "      <td>-</td>\n",
       "      <td>-</td>\n",
       "      <td>-</td>\n",
       "      <td>False</td>\n",
       "      <td>A-9930</td>\n",
       "    </tr>\n",
       "    <tr>\n",
       "      <th>1</th>\n",
       "      <td>a1W8c000007c669EAA</td>\n",
       "      <td>0018c00002k9yOCAAY</td>\n",
       "      <td>Caja de Compensación de Asignación Familiar de...</td>\n",
       "      <td>Itaú</td>\n",
       "      <td>Vida Security</td>\n",
       "      <td>EMP10377</td>\n",
       "      <td>Caja de Compensación de Asignación Familiar de...</td>\n",
       "      <td>283144</td>\n",
       "      <td>81826800-9</td>\n",
       "      <td>-</td>\n",
       "      <td>False</td>\n",
       "      <td>A-9931</td>\n",
       "    </tr>\n",
       "    <tr>\n",
       "      <th>2</th>\n",
       "      <td>a1W8c000007c66AEAQ</td>\n",
       "      <td>0018c00002k9yODAAY</td>\n",
       "      <td>Itaú Corpbanca</td>\n",
       "      <td>Itaú</td>\n",
       "      <td>Vida Security</td>\n",
       "      <td>EMP10378</td>\n",
       "      <td>Itaú Corpbanca</td>\n",
       "      <td>283147</td>\n",
       "      <td>97023000-9</td>\n",
       "      <td>-</td>\n",
       "      <td>False</td>\n",
       "      <td>A-9932</td>\n",
       "    </tr>\n",
       "    <tr>\n",
       "      <th>3</th>\n",
       "      <td>a1W8c000007c66BEAQ</td>\n",
       "      <td>0018c00002k9yOEAAY</td>\n",
       "      <td>Itaú Corpbanca</td>\n",
       "      <td>Itaú - sin servicio</td>\n",
       "      <td>Vida Security</td>\n",
       "      <td>EMP10379</td>\n",
       "      <td>Itaú Corpbanca</td>\n",
       "      <td>283148</td>\n",
       "      <td>-</td>\n",
       "      <td>-</td>\n",
       "      <td>False</td>\n",
       "      <td>A-9933</td>\n",
       "    </tr>\n",
       "    <tr>\n",
       "      <th>4</th>\n",
       "      <td>a1W8c000007c66CEAQ</td>\n",
       "      <td>0018c00002k9yOFAAY</td>\n",
       "      <td>Itaú Corpbanca</td>\n",
       "      <td>Itaú</td>\n",
       "      <td>Vida Security</td>\n",
       "      <td>EMP10380</td>\n",
       "      <td>Itaú Corpbanca</td>\n",
       "      <td>283149</td>\n",
       "      <td>-</td>\n",
       "      <td>-</td>\n",
       "      <td>False</td>\n",
       "      <td>A-9934</td>\n",
       "    </tr>\n",
       "  </tbody>\n",
       "</table>\n",
       "</div>"
      ],
      "text/plain": [
       "                   Id       Empresa__r.Id  \\\n",
       "0  a1W8c000007c5aIEAQ  0018c00002k9KwBAAU   \n",
       "1  a1W8c000007c669EAA  0018c00002k9yOCAAY   \n",
       "2  a1W8c000007c66AEAQ  0018c00002k9yODAAY   \n",
       "3  a1W8c000007c66BEAQ  0018c00002k9yOEAAY   \n",
       "4  a1W8c000007c66CEAQ  0018c00002k9yOFAAY   \n",
       "\n",
       "                                     Empresa__r.Name Empresa__r.Holding__c  \\\n",
       "0                                      Aldo Conti MX                     -   \n",
       "1  Caja de Compensación de Asignación Familiar de...                  Itaú   \n",
       "2                                     Itaú Corpbanca                  Itaú   \n",
       "3                                     Itaú Corpbanca   Itaú - sin servicio   \n",
       "4                                     Itaú Corpbanca                  Itaú   \n",
       "\n",
       "  Empresa__r.Campa_a__c Empresa__r.Id_Empresa__c  \\\n",
       "0            Aldo Conti                 EMP10376   \n",
       "1         Vida Security                 EMP10377   \n",
       "2         Vida Security                 EMP10378   \n",
       "3         Vida Security                 EMP10379   \n",
       "4         Vida Security                 EMP10380   \n",
       "\n",
       "                             Empresa__r.Empleador__c Empresa__r.poliza__c  \\\n",
       "0                                      Aldo Conti MX                    -   \n",
       "1  Caja de Compensación de Asignación Familiar de...               283144   \n",
       "2                                     Itaú Corpbanca               283147   \n",
       "3                                     Itaú Corpbanca               283148   \n",
       "4                                     Itaú Corpbanca               283149   \n",
       "\n",
       "  Empresa__r.RUT_Empresa__c Empresa__r.Corredor__c  \\\n",
       "0                         -                      -   \n",
       "1                81826800-9                      -   \n",
       "2                97023000-9                      -   \n",
       "3                         -                      -   \n",
       "4                         -                      -   \n",
       "\n",
       "  Empresa__r.Padre_Empresa__c    Name  \n",
       "0                       False  A-9930  \n",
       "1                       False  A-9931  \n",
       "2                       False  A-9932  \n",
       "3                       False  A-9933  \n",
       "4                       False  A-9934  "
      ]
     },
     "execution_count": 14,
     "metadata": {},
     "output_type": "execute_result"
    }
   ],
   "source": [
    "llamadaEmpresaAntiguas = \"SELECT Id,Empresa__r.Id, Empresa__r.Name, Empresa__r.Holding__c, Empresa__r.Campa_a__c, Empresa__r.Id_Empresa__c, Empresa__r.Empleador__c, Empresa__r.poliza__c, Empresa__r.RUT_Empresa__c, Empresa__r.Corredor__c,Empresa__r.Padre_Empresa__c, Name FROM Programas_por_Empresas__c WHERE Empresa__r.Padre_Empresa__c = false\"\n",
    "vllamadaEmpresa = sf.smart_query(llamadaEmpresaAntiguas)\n",
    "vllamadaEmpresa.to_excel(\"F:/Empresas SF/reportes/empresas_Antiguas.xlsx\", index=False)\n",
    "vllamadaEmpresa.head()"
   ]
  },
  {
   "cell_type": "markdown",
   "metadata": {},
   "source": [
    "vllamadaEmpresa.shape\n"
   ]
  },
  {
   "cell_type": "code",
   "execution_count": 15,
   "metadata": {
    "notebookRunGroups": {
     "groupValue": "1"
    }
   },
   "outputs": [
    {
     "data": {
      "text/plain": [
       "(8232, 8)"
      ]
     },
     "execution_count": 15,
     "metadata": {},
     "output_type": "execute_result"
    }
   ],
   "source": [
    "# Recuperar empresas ID de salesforce desde Account\n",
    "results = sf.query_all(\n",
    "    \"\"\"\n",
    "  SELECT Id, name, Holding__c ,Campa_a__c,Id_Empresa__c,Empleador__c,poliza__c,RUT_Empresa__c  FROM account where ispersonaccount = false  AND Nueva_Estructura__c = False\n",
    "    \"\"\"\n",
    ")\n",
    "Empresas_SF = pd.DataFrame(results[\"records\"])\n",
    "Empresas_SF = Empresas_SF[\n",
    "    [\n",
    "        \"Id\",\n",
    "        \"Name\",\n",
    "        \"Holding__c\",\n",
    "        \"Campa_a__c\",\n",
    "        \"Id_Empresa__c\",\n",
    "        \"Empleador__c\",\n",
    "        \"poliza__c\",\n",
    "        \"RUT_Empresa__c\",\n",
    "    ]\n",
    "]\n",
    "Empresas_SF.shape"
   ]
  },
  {
   "cell_type": "code",
   "execution_count": 16,
   "metadata": {
    "notebookRunGroups": {
     "groupValue": "1"
    }
   },
   "outputs": [
    {
     "data": {
      "text/plain": [
       "(7912, 5)"
      ]
     },
     "execution_count": 16,
     "metadata": {},
     "output_type": "execute_result"
    }
   ],
   "source": [
    "# buscar empresas desde Programas_por_Empresas__c datos de empresas\n",
    "results = sf.query_all(\n",
    "    \"\"\"\n",
    "   select Id,Empresa__c, Empresa_Padre__c,Nombre_Empresa__c, Name  from Programas_por_Empresas__c \n",
    "    \"\"\"\n",
    ")\n",
    "Programas_por_empresa_SF = pd.DataFrame(results[\"records\"])\n",
    "\n",
    "Programas_por_empresa_SF = Programas_por_empresa_SF[\n",
    "    [\"Id\", \"Empresa__c\", \"Empresa_Padre__c\", \"Nombre_Empresa__c\", \"Name\"]\n",
    "]\n",
    "Programas_por_empresa_SF.shape"
   ]
  },
  {
   "cell_type": "code",
   "execution_count": 17,
   "metadata": {
    "notebookRunGroups": {
     "groupValue": "1"
    }
   },
   "outputs": [
    {
     "data": {
      "text/plain": [
       "(8238, 10)"
      ]
     },
     "execution_count": 17,
     "metadata": {},
     "output_type": "execute_result"
    }
   ],
   "source": [
    "# Union de Programas Empresa y empresas\n",
    "Programas_empresas = pd.merge(\n",
    "    left=Empresas_SF,\n",
    "    right=Programas_por_empresa_SF,\n",
    "    how=\"left\",\n",
    "    left_on=\"Id\",\n",
    "    right_on=\"Empresa__c\",\n",
    ")\n",
    "Programas_empresas = Programas_empresas.rename(\n",
    "    columns={\n",
    "        \"Id_x\": \"Id Account Empresa\",\n",
    "        \"Name_x\": \"Nombre Empresa\",\n",
    "        \"Holding__c\": \"Holding\",\n",
    "        \"Campa_a__c\": \"Campaña\",\n",
    "        \"Empleador__c\": \"Empleador\",\n",
    "        \"poliza__c\": \"Poliza\",\n",
    "        \"RUT_Empresa__c\": \"Rut Empresa\",\n",
    "        \"Id_y\": \"Programas_por_Empresas__c\",\n",
    "        \"Id_Empresa__c\": \"Codigo EMP\",\n",
    "        \"Name_y\": \"Codigo A\",\n",
    "    }\n",
    ")\n",
    "Programas_empresas = Programas_empresas[\n",
    "    [\n",
    "        \"Id Account Empresa\",\n",
    "        \"Nombre Empresa\",\n",
    "        \"Holding\",\n",
    "        \"Campaña\",\n",
    "        \"Empleador\",\n",
    "        \"Poliza\",\n",
    "        \"Rut Empresa\",\n",
    "        \"Programas_por_Empresas__c\",\n",
    "        \"Codigo EMP\",\n",
    "        \"Codigo A\",\n",
    "    ]\n",
    "]\n",
    "\n",
    "Programas_empresas.shape"
   ]
  },
  {
   "cell_type": "code",
   "execution_count": 18,
   "metadata": {
    "notebookRunGroups": {
     "groupValue": "1"
    }
   },
   "outputs": [],
   "source": [
    "Programas_empresas.to_excel(\"F:/Empresas SF/reportes/empresas.xlsx\", index=False)"
   ]
  },
  {
   "cell_type": "code",
   "execution_count": 19,
   "metadata": {
    "notebookRunGroups": {
     "groupValue": "1"
    }
   },
   "outputs": [
    {
     "name": "stderr",
     "output_type": "stream",
     "text": [
      "100%|██████████| 1/1 [00:11<00:00, 11.00s/it]\n"
     ]
    },
    {
     "data": {
      "text/html": [
       "<div>\n",
       "<style scoped>\n",
       "    .dataframe tbody tr th:only-of-type {\n",
       "        vertical-align: middle;\n",
       "    }\n",
       "\n",
       "    .dataframe tbody tr th {\n",
       "        vertical-align: top;\n",
       "    }\n",
       "\n",
       "    .dataframe thead th {\n",
       "        text-align: right;\n",
       "    }\n",
       "</style>\n",
       "<table border=\"1\" class=\"dataframe\">\n",
       "  <thead>\n",
       "    <tr style=\"text-align: right;\">\n",
       "      <th></th>\n",
       "      <th>P_liza__c</th>\n",
       "      <th>Nombre_de_Empresa__c</th>\n",
       "      <th>Rut_Empresa__c</th>\n",
       "      <th>Empresa_Padre__r.Name</th>\n",
       "      <th>Holding__c</th>\n",
       "      <th>Plan__c</th>\n",
       "      <th>Pais__c</th>\n",
       "      <th>Activo__c</th>\n",
       "      <th>Id</th>\n",
       "      <th>LLave</th>\n",
       "      <th>dato</th>\n",
       "    </tr>\n",
       "  </thead>\n",
       "  <tbody>\n",
       "    <tr>\n",
       "      <th>0</th>\n",
       "      <td>Sin Póliza Asociada</td>\n",
       "      <td>Colaboradores Care Assistance Chile SPA</td>\n",
       "      <td>775173998</td>\n",
       "      <td>Colaboradores</td>\n",
       "      <td>Siempre Chile SPA</td>\n",
       "      <td>Plan Gold</td>\n",
       "      <td>Chile</td>\n",
       "      <td>True</td>\n",
       "      <td>a3yRN0000006mmjYAA</td>\n",
       "      <td>775173998Sin Póliza Asociada</td>\n",
       "      <td>1</td>\n",
       "    </tr>\n",
       "    <tr>\n",
       "      <th>1</th>\n",
       "      <td>-</td>\n",
       "      <td>Apunto Servicios De Alimentacion</td>\n",
       "      <td>-</td>\n",
       "      <td>Consalud</td>\n",
       "      <td>Holding Consalud</td>\n",
       "      <td>-</td>\n",
       "      <td>Chile</td>\n",
       "      <td>False</td>\n",
       "      <td>a3yRN0000006rG9YAI</td>\n",
       "      <td>-</td>\n",
       "      <td>1</td>\n",
       "    </tr>\n",
       "    <tr>\n",
       "      <th>2</th>\n",
       "      <td>-</td>\n",
       "      <td>2M Inmobiliaria Spa.</td>\n",
       "      <td>-</td>\n",
       "      <td>THB Seguros COVID</td>\n",
       "      <td>Solo Titulares</td>\n",
       "      <td>-</td>\n",
       "      <td>Chile</td>\n",
       "      <td>True</td>\n",
       "      <td>a3yRN0000006rGAYAY</td>\n",
       "      <td>-</td>\n",
       "      <td>1</td>\n",
       "    </tr>\n",
       "    <tr>\n",
       "      <th>3</th>\n",
       "      <td>-</td>\n",
       "      <td>360 Gms Capacitacion Spa.</td>\n",
       "      <td>-</td>\n",
       "      <td>THB Seguros COVID</td>\n",
       "      <td>Solo Titulares</td>\n",
       "      <td>-</td>\n",
       "      <td>Chile</td>\n",
       "      <td>True</td>\n",
       "      <td>a3yRN0000006rGBYAY</td>\n",
       "      <td>-</td>\n",
       "      <td>1</td>\n",
       "    </tr>\n",
       "    <tr>\n",
       "      <th>4</th>\n",
       "      <td>-</td>\n",
       "      <td>361 Gms Capacitacion Spa.</td>\n",
       "      <td>-</td>\n",
       "      <td>THB Seguros COVID</td>\n",
       "      <td>Solo Titulares</td>\n",
       "      <td>-</td>\n",
       "      <td>Chile</td>\n",
       "      <td>True</td>\n",
       "      <td>a3yRN0000006rGCYAY</td>\n",
       "      <td>-</td>\n",
       "      <td>1</td>\n",
       "    </tr>\n",
       "  </tbody>\n",
       "</table>\n",
       "</div>"
      ],
      "text/plain": [
       "             P_liza__c                     Nombre_de_Empresa__c  \\\n",
       "0  Sin Póliza Asociada  Colaboradores Care Assistance Chile SPA   \n",
       "1                    -         Apunto Servicios De Alimentacion   \n",
       "2                    -                     2M Inmobiliaria Spa.   \n",
       "3                    -                360 Gms Capacitacion Spa.   \n",
       "4                    -                361 Gms Capacitacion Spa.   \n",
       "\n",
       "  Rut_Empresa__c Empresa_Padre__r.Name         Holding__c    Plan__c Pais__c  \\\n",
       "0      775173998         Colaboradores  Siempre Chile SPA  Plan Gold   Chile   \n",
       "1              -              Consalud   Holding Consalud          -   Chile   \n",
       "2              -     THB Seguros COVID     Solo Titulares          -   Chile   \n",
       "3              -     THB Seguros COVID     Solo Titulares          -   Chile   \n",
       "4              -     THB Seguros COVID     Solo Titulares          -   Chile   \n",
       "\n",
       "   Activo__c                  Id                         LLave  dato  \n",
       "0       True  a3yRN0000006mmjYAA  775173998Sin Póliza Asociada     1  \n",
       "1      False  a3yRN0000006rG9YAI                             -     1  \n",
       "2       True  a3yRN0000006rGAYAY                             -     1  \n",
       "3       True  a3yRN0000006rGBYAY                             -     1  \n",
       "4       True  a3yRN0000006rGCYAY                             -     1  "
      ]
     },
     "execution_count": 19,
     "metadata": {},
     "output_type": "execute_result"
    }
   ],
   "source": [
    "query2 = \"select P_liza__c, Nombre_de_Empresa__c, Rut_Empresa__c, Empresa_Padre__r.Name, Empresa__r.name,Holding__c, Plan__c, Pais__c, Activo__c, Id from Datos_Empresa__c \"\n",
    "\n",
    "df2 = sf.smart_query(query2)\n",
    "df2[\"LLave\"] = df2[\"Rut_Empresa__c\"].str.upper().str.replace(\"-\", \"\") + df2[\"P_liza__c\"]\n",
    "df2[\"dato\"] = 1\n",
    "df2.to_excel(\"F:/Empresas SF/reportes/empresas_nuevas.xlsx\", index=False)\n",
    "df2.head()"
   ]
  },
  {
   "attachments": {},
   "cell_type": "markdown",
   "metadata": {},
   "source": [
    "fin empresas y comienzo de rescate de pacientes\n"
   ]
  },
  {
   "cell_type": "code",
   "execution_count": 20,
   "metadata": {
    "notebookRunGroups": {
     "groupValue": "1"
    }
   },
   "outputs": [
    {
     "data": {
      "text/plain": [
       "(1921018, 10)"
      ]
     },
     "execution_count": 20,
     "metadata": {},
     "output_type": "execute_result"
    }
   ],
   "source": [
    "# CArga de PAcientes\n",
    "results = sf.query_all(\n",
    "    \"\"\"\n",
    "    select Id, IdentificationId__pc,Name, Identification_Type__c, Ocupaci_n__c,  PersonTitle ,PersonDepartment,HealthCloudGA__Gender__pc,Phone,PersonContactId  from Account where ispersonaccount = True \n",
    "   \"\"\"\n",
    ")\n",
    "Pacientes_SF = pd.DataFrame(results[\"records\"])\n",
    "\n",
    "Pacientes_SF = Pacientes_SF[\n",
    "    [\n",
    "        \"Id\",\n",
    "        \"IdentificationId__pc\",\n",
    "        \"Name\",\n",
    "        \"Identification_Type__c\",\n",
    "        \"Ocupaci_n__c\",\n",
    "        \"PersonTitle\",\n",
    "        \"PersonDepartment\",\n",
    "        \"HealthCloudGA__Gender__pc\",\n",
    "        \"Phone\",\n",
    "        \"PersonContactId\",\n",
    "    ]\n",
    "]\n",
    "Pacientes_SF = Pacientes_SF.rename(\n",
    "    columns={\n",
    "        \"Id\": \"Id Account Paciente\",\n",
    "        \"IdentificationId__pc\": \"Rut\",\n",
    "        \"Name\": \"Nombre\",\n",
    "        \"Ocupaci_n__c\": \"Ocupacion\",\n",
    "        \"PersonTitle\": \"Cargo\",\n",
    "        \"PersonDepartment\": \"Departamento\",\n",
    "        \"HealthCloudGA__Gender__pc\": \"Sexo\",\n",
    "        \"Phone\": \"Telefono\",\n",
    "        \"Identification_Type__c\": \"Tipo de Documento\",\n",
    "        \"PersonContactId\":\"Id Contacto\"\n",
    "    }\n",
    ")\n",
    "\n",
    "\n",
    "\n",
    "Pacientes_SF.shape"
   ]
  },
  {
   "cell_type": "code",
   "execution_count": 21,
   "metadata": {
    "notebookRunGroups": {
     "groupValue": "1"
    }
   },
   "outputs": [],
   "source": [
    "def siPrimerCero(y):\n",
    "    if len(y) <= 7:\n",
    "        return \"NONE\"\n",
    "    \n",
    "    if y[0] == \"0\":\n",
    "        y = y[1:]\n",
    "        \n",
    "    return y"
   ]
  },
  {
   "cell_type": "code",
   "execution_count": 22,
   "metadata": {
    "notebookRunGroups": {
     "groupValue": "1"
    }
   },
   "outputs": [
    {
     "name": "stderr",
     "output_type": "stream",
     "text": [
      "C:\\Users\\jmartinez\\AppData\\Local\\Temp\\ipykernel_11580\\1098969947.py:7: FutureWarning: The default value of regex will change from True to False in a future version. In addition, single character regular expressions will *not* be treated as literal strings when regex=True.\n",
      "  Pacientes_SF[\"Rut\"] = Pacientes_SF[\"Rut\"].str.replace(\".\", \"\")\n"
     ]
    }
   ],
   "source": [
    "Pacientes_SF[\"Rut\"] = Pacientes_SF[\"Rut\"].apply(lambda y: siPrimerCero(y))\n",
    "Pacientes_SF[\"Rut\"] = Pacientes_SF[\"Rut\"].astype(str)\n",
    "Pacientes_SF[\"Rut\"] = Pacientes_SF[\"Rut\"].str.upper()\n",
    "Pacientes_SF[\"Rut\"] = Pacientes_SF[\"Rut\"].str.replace(\"-\", \"\")\n",
    "Pacientes_SF[\"Rut\"] = Pacientes_SF[\"Rut\"].str.replace(\"–\", \"\")\n",
    "Pacientes_SF[\"Rut\"] = Pacientes_SF[\"Rut\"].astype(str)\n",
    "Pacientes_SF[\"Rut\"] = Pacientes_SF[\"Rut\"].str.replace(\".\", \"\")\n",
    "Pacientes_SF[\"Rut\"] = Pacientes_SF[\"Rut\"].str.strip()"
   ]
  },
  {
   "attachments": {},
   "cell_type": "markdown",
   "metadata": {},
   "source": [
    "Aca se comienzan a unir las relaciones de pacientes y empresas ya creadas.\n"
   ]
  },
  {
   "cell_type": "markdown",
   "metadata": {
    "notebookRunGroups": {
     "groupValue": "1"
    }
   },
   "source": [
    "# buscar empresas desde Paciente_Programas__c relaciones de empresas con pacientes\n",
    "results = sf.query_all(\n",
    "    \"\"\"\n",
    "    select Id,Paciente__c, Programas_por_Empresas__c,padre__c from Paciente_Programas__c  \n",
    "    \"\"\"\n",
    ")\n",
    "Paciente_Programas_SF = pd.DataFrame(results[\"records\"])\n",
    "\n",
    "Paciente_Programas_SF = Paciente_Programas_SF[\n",
    "    [\"Id\", \"Paciente__c\", \"Programas_por_Empresas__c\", \"padre__c\"]\n",
    "]\n",
    "Paciente_Programas_SF = Paciente_Programas_SF.rename(\n",
    "    columns={\n",
    "        \"Id\": \"Id Pacientes_Programas__c\",\n",
    "        \"Paciente__c\": \"Id Account\",\n",
    "        \"Programas_por_Empresas__c\": \"Programas_por_Empresas__c\",\n",
    "        \"padre__c\": \"Nombre Campaña\",\n",
    "    }\n",
    ")\n",
    "Paciente_Programas_SF.shape"
   ]
  },
  {
   "cell_type": "markdown",
   "metadata": {
    "notebookRunGroups": {
     "groupValue": "1"
    }
   },
   "source": [
    "# Union de Pacientes Programas y Programas por empresa\n",
    "empresas_unidas = pd.merge(\n",
    "    left=Paciente_Programas_SF,\n",
    "    right=Programas_empresas,\n",
    "    how=\"left\",\n",
    "    left_on=\"Programas_por_Empresas__c\",\n",
    "    right_on=\"Programas_por_Empresas__c\",\n",
    ")\n",
    "empresas_unidas.shape"
   ]
  },
  {
   "attachments": {},
   "cell_type": "markdown",
   "metadata": {},
   "source": [
    "Carga de Archivo carga\n"
   ]
  },
  {
   "cell_type": "code",
   "execution_count": 23,
   "metadata": {
    "notebookRunGroups": {
     "groupValue": "2"
    }
   },
   "outputs": [
    {
     "data": {
      "text/html": [
       "<div>\n",
       "<style scoped>\n",
       "    .dataframe tbody tr th:only-of-type {\n",
       "        vertical-align: middle;\n",
       "    }\n",
       "\n",
       "    .dataframe tbody tr th {\n",
       "        vertical-align: top;\n",
       "    }\n",
       "\n",
       "    .dataframe thead th {\n",
       "        text-align: right;\n",
       "    }\n",
       "</style>\n",
       "<table border=\"1\" class=\"dataframe\">\n",
       "  <thead>\n",
       "    <tr style=\"text-align: right;\">\n",
       "      <th></th>\n",
       "      <th>rut2</th>\n",
       "      <th>DV Titular</th>\n",
       "      <th>rut1</th>\n",
       "      <th>DV B.</th>\n",
       "      <th>Tipo Carga</th>\n",
       "      <th>nombres</th>\n",
       "      <th>Apellido P.</th>\n",
       "      <th>Apellido M.</th>\n",
       "      <th>apellidos</th>\n",
       "      <th>Relación</th>\n",
       "      <th>sexo</th>\n",
       "      <th>nacimiento</th>\n",
       "    </tr>\n",
       "  </thead>\n",
       "  <tbody>\n",
       "    <tr>\n",
       "      <th>0</th>\n",
       "      <td>15028744-8</td>\n",
       "      <td>8</td>\n",
       "      <td>15028744-8</td>\n",
       "      <td>8</td>\n",
       "      <td>AFILIADO</td>\n",
       "      <td>DALIBORR</td>\n",
       "      <td>CHAVEZ</td>\n",
       "      <td>OSSANDON</td>\n",
       "      <td>CHAVEZ OSSANDON</td>\n",
       "      <td>COTIZANTE</td>\n",
       "      <td>M</td>\n",
       "      <td>1985-08-25</td>\n",
       "    </tr>\n",
       "    <tr>\n",
       "      <th>1</th>\n",
       "      <td>3884613-2</td>\n",
       "      <td>2</td>\n",
       "      <td>3884613-2</td>\n",
       "      <td>2</td>\n",
       "      <td>AFILIADO</td>\n",
       "      <td>ELIANA</td>\n",
       "      <td>AENISHANSLIN</td>\n",
       "      <td>PAVEZ</td>\n",
       "      <td>NaN</td>\n",
       "      <td>COTIZANTE</td>\n",
       "      <td>F</td>\n",
       "      <td>1937-12-23</td>\n",
       "    </tr>\n",
       "    <tr>\n",
       "      <th>2</th>\n",
       "      <td>8254856-4</td>\n",
       "      <td>4</td>\n",
       "      <td>8254856-4</td>\n",
       "      <td>4</td>\n",
       "      <td>AFILIADO</td>\n",
       "      <td>LISSETTE</td>\n",
       "      <td>PAREDES</td>\n",
       "      <td>LUNA</td>\n",
       "      <td>NaN</td>\n",
       "      <td>COTIZANTE</td>\n",
       "      <td>F</td>\n",
       "      <td>1962-06-13</td>\n",
       "    </tr>\n",
       "    <tr>\n",
       "      <th>3</th>\n",
       "      <td>2638598-9</td>\n",
       "      <td>9</td>\n",
       "      <td>2638598-9</td>\n",
       "      <td>9</td>\n",
       "      <td>AFILIADO</td>\n",
       "      <td>CARLOS</td>\n",
       "      <td>BOETSCH</td>\n",
       "      <td>FORNES</td>\n",
       "      <td>NaN</td>\n",
       "      <td>COTIZANTE</td>\n",
       "      <td>M</td>\n",
       "      <td>1933-10-17</td>\n",
       "    </tr>\n",
       "    <tr>\n",
       "      <th>4</th>\n",
       "      <td>2638598-9</td>\n",
       "      <td>9</td>\n",
       "      <td>4351475-K</td>\n",
       "      <td>K</td>\n",
       "      <td>CARGA</td>\n",
       "      <td>LUCIA MARINA</td>\n",
       "      <td>RILEY</td>\n",
       "      <td>GOMEZ</td>\n",
       "      <td>NaN</td>\n",
       "      <td>CONYUGE</td>\n",
       "      <td>F</td>\n",
       "      <td>1941-07-13</td>\n",
       "    </tr>\n",
       "  </tbody>\n",
       "</table>\n",
       "</div>"
      ],
      "text/plain": [
       "         rut2 DV Titular        rut1 DV B. Tipo Carga       nombres  \\\n",
       "0  15028744-8          8  15028744-8     8   AFILIADO      DALIBORR   \n",
       "1   3884613-2          2   3884613-2     2   AFILIADO        ELIANA   \n",
       "2   8254856-4          4   8254856-4     4   AFILIADO     LISSETTE    \n",
       "3   2638598-9          9   2638598-9     9   AFILIADO        CARLOS   \n",
       "4   2638598-9          9   4351475-K     K      CARGA  LUCIA MARINA   \n",
       "\n",
       "    Apellido P. Apellido M.        apellidos   Relación sexo nacimiento  \n",
       "0        CHAVEZ    OSSANDON  CHAVEZ OSSANDON  COTIZANTE    M 1985-08-25  \n",
       "1  AENISHANSLIN       PAVEZ              NaN  COTIZANTE    F 1937-12-23  \n",
       "2       PAREDES        LUNA              NaN  COTIZANTE    F 1962-06-13  \n",
       "3       BOETSCH      FORNES              NaN  COTIZANTE    M 1933-10-17  \n",
       "4         RILEY       GOMEZ              NaN    CONYUGE    F 1941-07-13  "
      ]
     },
     "execution_count": 23,
     "metadata": {},
     "output_type": "execute_result"
    }
   ],
   "source": [
    "nuevos = \"F:/Empresas SF/reportes/carga.xlsx\"\n",
    "campaña = \"Colmena\"\n",
    "Pais = \"Chile\"\n",
    "# Pais = \"México\"\n",
    "\n",
    "Pacientes_Archivo = pd.read_excel(nuevos)\n",
    "# OJO se copia rut1 a rut le saca el guoion\n",
    "Pacientes_Archivo.head(5)"
   ]
  },
  {
   "cell_type": "code",
   "execution_count": 24,
   "metadata": {
    "notebookRunGroups": {
     "groupValue": "2"
    }
   },
   "outputs": [
    {
     "name": "stderr",
     "output_type": "stream",
     "text": [
      "C:\\Users\\jmartinez\\AppData\\Local\\Temp\\ipykernel_11580\\3487171931.py:5: FutureWarning: The default value of regex will change from True to False in a future version. In addition, single character regular expressions will *not* be treated as literal strings when regex=True.\n",
      "  Pacientes_Archivo[\"rut\"] = Pacientes_Archivo[\"rut\"].str.replace(\".\", \"\")\n"
     ]
    },
    {
     "data": {
      "text/plain": [
       "(733, 13)"
      ]
     },
     "execution_count": 24,
     "metadata": {},
     "output_type": "execute_result"
    }
   ],
   "source": [
    "Pacientes_Archivo[\"rut\"] = Pacientes_Archivo[\"rut1\"].astype(str)\n",
    "Pacientes_Archivo[\"rut\"] = Pacientes_Archivo[\"rut\"].str.replace(\"-\", \"\")\n",
    "Pacientes_Archivo[\"rut\"] = Pacientes_Archivo[\"rut\"].str.replace(\"–\", \"\")\n",
    "Pacientes_Archivo[\"rut\"] = Pacientes_Archivo[\"rut\"].astype(str)\n",
    "Pacientes_Archivo[\"rut\"] = Pacientes_Archivo[\"rut\"].str.replace(\".\", \"\")\n",
    "Pacientes_Archivo[\"rut\"] = Pacientes_Archivo[\"rut\"].str.upper()\n",
    "Pacientes_Archivo[\"rut\"] = Pacientes_Archivo[\"rut\"].str.strip()\n",
    "Pacientes_Archivo.shape"
   ]
  },
  {
   "cell_type": "code",
   "execution_count": 25,
   "metadata": {
    "notebookRunGroups": {
     "groupValue": "2"
    }
   },
   "outputs": [
    {
     "name": "stderr",
     "output_type": "stream",
     "text": [
      "C:\\Users\\jmartinez\\AppData\\Local\\Temp\\ipykernel_11580\\980738941.py:5: FutureWarning: The default value of regex will change from True to False in a future version. In addition, single character regular expressions will *not* be treated as literal strings when regex=True.\n",
      "  Pacientes_Archivo[\"rutT\"] = Pacientes_Archivo[\"rutT\"].str.replace(\".\", \"\")\n"
     ]
    },
    {
     "data": {
      "text/plain": [
       "(733, 14)"
      ]
     },
     "execution_count": 25,
     "metadata": {},
     "output_type": "execute_result"
    }
   ],
   "source": [
    "Pacientes_Archivo[\"rutT\"] = Pacientes_Archivo[\"rut2\"].astype(str)\n",
    "Pacientes_Archivo[\"rutT\"] = Pacientes_Archivo[\"rutT\"].str.replace(\"-\", \"\")\n",
    "Pacientes_Archivo[\"rutT\"] = Pacientes_Archivo[\"rutT\"].str.replace(\"–\", \"\")\n",
    "Pacientes_Archivo[\"rutT\"] = Pacientes_Archivo[\"rutT\"].astype(str)\n",
    "Pacientes_Archivo[\"rutT\"] = Pacientes_Archivo[\"rutT\"].str.replace(\".\", \"\")\n",
    "Pacientes_Archivo[\"rutT\"] = Pacientes_Archivo[\"rutT\"].str.upper()\n",
    "Pacientes_Archivo[\"rutT\"] = Pacientes_Archivo[\"rutT\"].str.strip()\n",
    "Pacientes_Archivo.shape"
   ]
  },
  {
   "cell_type": "code",
   "execution_count": 26,
   "metadata": {
    "notebookRunGroups": {
     "groupValue": "2"
    }
   },
   "outputs": [
    {
     "name": "stderr",
     "output_type": "stream",
     "text": [
      "C:\\Users\\jmartinez\\AppData\\Local\\Temp\\ipykernel_11580\\3035579401.py:3: FutureWarning: The default value of regex will change from True to False in a future version. In addition, single character regular expressions will *not* be treated as literal strings when regex=True.\n",
      "  Pacientes_Archivo[\"nombres\"] = Pacientes_Archivo[\"nombres\"].str.replace(\".\", \"\")\n",
      "C:\\Users\\jmartinez\\AppData\\Local\\Temp\\ipykernel_11580\\3035579401.py:9: FutureWarning: The default value of regex will change from True to False in a future version. In addition, single character regular expressions will *not* be treated as literal strings when regex=True.\n",
      "  Pacientes_Archivo[\"apellidos\"] = Pacientes_Archivo[\"apellidos\"].str.replace(\".\", \"\")\n"
     ]
    }
   ],
   "source": [
    "if (\"nombres\" in Pacientes_Archivo.columns) == True:\n",
    "    Pacientes_Archivo[\"nombres\"] = Pacientes_Archivo[\"nombres\"].str.replace(\",\", \"\")\n",
    "    Pacientes_Archivo[\"nombres\"] = Pacientes_Archivo[\"nombres\"].str.replace(\".\", \"\")\n",
    "    Pacientes_Archivo[\"nombres\"] = Pacientes_Archivo[\"nombres\"].str.replace(\"-\", \"\")\n",
    "    Pacientes_Archivo[\"nombres\"] = Pacientes_Archivo[\"nombres\"].str.title()\n",
    "    Pacientes_Archivo[\"nombres\"] = Pacientes_Archivo[\"nombres\"].str.strip()\n",
    "    # Pacientes_Archivo[\"empresa\"] = Pacientes_Archivo[\"empresa\"].str.title()\n",
    "    Pacientes_Archivo[\"apellidos\"] = Pacientes_Archivo[\"apellidos\"].str.replace(\",\", \"\")\n",
    "    Pacientes_Archivo[\"apellidos\"] = Pacientes_Archivo[\"apellidos\"].str.replace(\".\", \"\")\n",
    "    Pacientes_Archivo[\"apellidos\"] = Pacientes_Archivo[\"apellidos\"].str.replace(\"-\", \"\")\n",
    "    Pacientes_Archivo[\"apellidos\"] = Pacientes_Archivo[\"apellidos\"].str.title()\n",
    "    Pacientes_Archivo[\"apellidos\"] = Pacientes_Archivo[\"apellidos\"].str.strip()\n",
    "\n"
   ]
  },
  {
   "cell_type": "code",
   "execution_count": 27,
   "metadata": {
    "notebookRunGroups": {
     "groupValue": "2"
    }
   },
   "outputs": [],
   "source": [
    "Pacientes_Archivo[\"rut\"] = Pacientes_Archivo[\"rut\"].apply(lambda y: siPrimerCero(y))\n",
    "Pacientes_Archivo[\"rutT\"] = Pacientes_Archivo[\"rutT\"].apply(lambda y: siPrimerCero(y))\n",
    "Pacientes_Archivo\n",
    "\n",
    "Pacientes_Nones = Pacientes_Archivo[(Pacientes_Archivo[\"rut\"] == \"NONE\") | (Pacientes_Archivo[\"rutT\"] == \"NONE\")]\n",
    "Pacientes_Archivo = Pacientes_Archivo[(Pacientes_Archivo[\"rut\"] != \"NONE\") | (Pacientes_Archivo[\"rutT\"] != \"NONE\")]"
   ]
  },
  {
   "cell_type": "code",
   "execution_count": 28,
   "metadata": {
    "notebookRunGroups": {
     "groupValue": "2"
    }
   },
   "outputs": [
    {
     "name": "stderr",
     "output_type": "stream",
     "text": [
      "100%|██████████| 1/1 [00:04<00:00,  4.90s/it]\n"
     ]
    },
    {
     "data": {
      "text/html": [
       "<div>\n",
       "<style scoped>\n",
       "    .dataframe tbody tr th:only-of-type {\n",
       "        vertical-align: middle;\n",
       "    }\n",
       "\n",
       "    .dataframe tbody tr th {\n",
       "        vertical-align: top;\n",
       "    }\n",
       "\n",
       "    .dataframe thead th {\n",
       "        text-align: right;\n",
       "    }\n",
       "</style>\n",
       "<table border=\"1\" class=\"dataframe\">\n",
       "  <thead>\n",
       "    <tr style=\"text-align: right;\">\n",
       "      <th></th>\n",
       "      <th>Paciente__c</th>\n",
       "      <th>Programas_por_Empresas__r.Empresa__c</th>\n",
       "    </tr>\n",
       "  </thead>\n",
       "  <tbody>\n",
       "    <tr>\n",
       "      <th>0</th>\n",
       "      <td>0018c00002amOpnAAE</td>\n",
       "      <td>0018c00002cXclQAAS</td>\n",
       "    </tr>\n",
       "    <tr>\n",
       "      <th>1</th>\n",
       "      <td>0018c00002amOpsAAE</td>\n",
       "      <td>0018c00002cXclQAAS</td>\n",
       "    </tr>\n",
       "    <tr>\n",
       "      <th>2</th>\n",
       "      <td>0018c00002amOqCAAU</td>\n",
       "      <td>0018c00002cXclQAAS</td>\n",
       "    </tr>\n",
       "    <tr>\n",
       "      <th>3</th>\n",
       "      <td>0018c00002amOqSAAU</td>\n",
       "      <td>0018c00002cXclQAAS</td>\n",
       "    </tr>\n",
       "    <tr>\n",
       "      <th>4</th>\n",
       "      <td>0018c00002amOqTAAU</td>\n",
       "      <td>0018c00002cXclQAAS</td>\n",
       "    </tr>\n",
       "  </tbody>\n",
       "</table>\n",
       "</div>"
      ],
      "text/plain": [
       "          Paciente__c Programas_por_Empresas__r.Empresa__c\n",
       "0  0018c00002amOpnAAE                   0018c00002cXclQAAS\n",
       "1  0018c00002amOpsAAE                   0018c00002cXclQAAS\n",
       "2  0018c00002amOqCAAU                   0018c00002cXclQAAS\n",
       "3  0018c00002amOqSAAU                   0018c00002cXclQAAS\n",
       "4  0018c00002amOqTAAU                   0018c00002cXclQAAS"
      ]
     },
     "execution_count": 28,
     "metadata": {},
     "output_type": "execute_result"
    }
   ],
   "source": [
    "\n",
    "query_pacientePrograma = \"SELECT id,Paciente__c,Programas_por_Empresas__r.Empresa__c from Paciente_Programas__c where padre__c =  '\" + campaña +\"'\"\n",
    "pacientePrograma = sf.smart_query(query_pacientePrograma)\n",
    "pacientePrograma.head()"
   ]
  },
  {
   "cell_type": "code",
   "execution_count": 29,
   "metadata": {},
   "outputs": [
    {
     "name": "stderr",
     "output_type": "stream",
     "text": [
      "100%|██████████| 1/1 [00:02<00:00,  2.81s/it]\n"
     ]
    },
    {
     "data": {
      "text/html": [
       "<div>\n",
       "<style scoped>\n",
       "    .dataframe tbody tr th:only-of-type {\n",
       "        vertical-align: middle;\n",
       "    }\n",
       "\n",
       "    .dataframe tbody tr th {\n",
       "        vertical-align: top;\n",
       "    }\n",
       "\n",
       "    .dataframe thead th {\n",
       "        text-align: right;\n",
       "    }\n",
       "</style>\n",
       "<table border=\"1\" class=\"dataframe\">\n",
       "  <thead>\n",
       "    <tr style=\"text-align: right;\">\n",
       "      <th></th>\n",
       "      <th>Paciente__c</th>\n",
       "      <th>Programas_por_Empresas__r.Empresa__c</th>\n",
       "    </tr>\n",
       "  </thead>\n",
       "  <tbody>\n",
       "    <tr>\n",
       "      <th>0</th>\n",
       "      <td>0018c00002amOpnAAE</td>\n",
       "      <td>0018c00002cXclQAAS</td>\n",
       "    </tr>\n",
       "    <tr>\n",
       "      <th>1</th>\n",
       "      <td>0018c00002amOpsAAE</td>\n",
       "      <td>0018c00002cXclQAAS</td>\n",
       "    </tr>\n",
       "    <tr>\n",
       "      <th>2</th>\n",
       "      <td>0018c00002amOqCAAU</td>\n",
       "      <td>0018c00002cXclQAAS</td>\n",
       "    </tr>\n",
       "    <tr>\n",
       "      <th>3</th>\n",
       "      <td>0018c00002amOqSAAU</td>\n",
       "      <td>0018c00002cXclQAAS</td>\n",
       "    </tr>\n",
       "    <tr>\n",
       "      <th>4</th>\n",
       "      <td>0018c00002amOqTAAU</td>\n",
       "      <td>0018c00002cXclQAAS</td>\n",
       "    </tr>\n",
       "  </tbody>\n",
       "</table>\n",
       "</div>"
      ],
      "text/plain": [
       "          Paciente__c Programas_por_Empresas__r.Empresa__c\n",
       "0  0018c00002amOpnAAE                   0018c00002cXclQAAS\n",
       "1  0018c00002amOpsAAE                   0018c00002cXclQAAS\n",
       "2  0018c00002amOqCAAU                   0018c00002cXclQAAS\n",
       "3  0018c00002amOqSAAU                   0018c00002cXclQAAS\n",
       "4  0018c00002amOqTAAU                   0018c00002cXclQAAS"
      ]
     },
     "execution_count": 29,
     "metadata": {},
     "output_type": "execute_result"
    }
   ],
   "source": [
    "\n",
    "query_accountContact = \"SELECT id,Paciente__c,Programas_por_Empresas__r.Empresa__c from Paciente_Programas__c where padre__c =  '\" + campaña +\"'\"\n",
    "accountContactRelation = sf.smart_query(query_accountContact)\n",
    "accountContactRelation.head()"
   ]
  },
  {
   "cell_type": "code",
   "execution_count": 30,
   "metadata": {},
   "outputs": [
    {
     "data": {
      "text/plain": [
       "' if(campaña!=\"MetLife\"):\\n    pacientePrograma.to_excel(\"F:/Empresas SF/reportes/paciente_programas.xlsx\", index=False) '"
      ]
     },
     "execution_count": 30,
     "metadata": {},
     "output_type": "execute_result"
    }
   ],
   "source": [
    "\"\"\" if(campaña!=\"MetLife\"):\n",
    "    pacientePrograma.to_excel(\"F:/Empresas SF/reportes/paciente_programas.xlsx\", index=False) \"\"\""
   ]
  },
  {
   "cell_type": "markdown",
   "metadata": {},
   "source": [
    "Rescatamos todos los ruts Id con su empresa desde la campaña"
   ]
  },
  {
   "cell_type": "code",
   "execution_count": 31,
   "metadata": {},
   "outputs": [
    {
     "data": {
      "text/plain": [
       "(1368, 2)"
      ]
     },
     "execution_count": 31,
     "metadata": {},
     "output_type": "execute_result"
    }
   ],
   "source": [
    "pacientePrograma.shape"
   ]
  },
  {
   "cell_type": "code",
   "execution_count": 32,
   "metadata": {
    "notebookRunGroups": {
     "groupValue": "2"
    }
   },
   "outputs": [
    {
     "name": "stderr",
     "output_type": "stream",
     "text": [
      "C:\\Users\\jmartinez\\AppData\\Local\\Temp\\ipykernel_11580\\4153785291.py:28: FutureWarning: The default value of regex will change from True to False in a future version. In addition, single character regular expressions will *not* be treated as literal strings when regex=True.\n",
      "  Pacientes_prog_rut[\"Rut\"] = Pacientes_prog_rut[\"Rut\"].str.replace(\".\", \"\")\n"
     ]
    },
    {
     "data": {
      "text/plain": [
       "(1368, 5)"
      ]
     },
     "execution_count": 32,
     "metadata": {},
     "output_type": "execute_result"
    }
   ],
   "source": [
    "Pacientes_IDrut = Pacientes_SF[\n",
    "    [\n",
    "        \"Rut\",\n",
    "        \"Id Account Paciente\",        \n",
    "        \"Id Contacto\",\n",
    "    ]\n",
    "]\n",
    "\n",
    "pacien_prog_selec = pacientePrograma[\n",
    "    [\n",
    "        \"Paciente__c\",\n",
    "        \"Programas_por_Empresas__r.Empresa__c\"\n",
    "    ]\n",
    "]\n",
    "\n",
    "Pacientes_prog_rut = pd.merge(\n",
    "    left=pacien_prog_selec,\n",
    "    right=Pacientes_IDrut,\n",
    "    how=\"left\",\n",
    "    left_on=\"Paciente__c\",\n",
    "    right_on=\"Id Account Paciente\",\n",
    ")\n",
    "\n",
    "Pacientes_prog_rut[\"Rut\"] = Pacientes_prog_rut[\"Rut\"].astype(str)\n",
    "Pacientes_prog_rut[\"Rut\"] = Pacientes_prog_rut[\"Rut\"].str.replace(\"-\", \"\")\n",
    "Pacientes_prog_rut[\"Rut\"] = Pacientes_prog_rut[\"Rut\"].str.replace(\"–\", \"\")\n",
    "Pacientes_prog_rut[\"Rut\"] = Pacientes_prog_rut[\"Rut\"].astype(str)\n",
    "Pacientes_prog_rut[\"Rut\"] = Pacientes_prog_rut[\"Rut\"].str.replace(\".\", \"\")\n",
    "Pacientes_prog_rut[\"Rut\"] = Pacientes_prog_rut[\"Rut\"].str.upper()\n",
    "Pacientes_prog_rut[\"Rut\"] = Pacientes_prog_rut[\"Rut\"].str.strip()\n",
    "\n",
    "\n",
    "Pacientes_prog_rut.shape\n"
   ]
  },
  {
   "cell_type": "code",
   "execution_count": 33,
   "metadata": {},
   "outputs": [],
   "source": [
    "Pacientes_archivos_conId = pd.merge(\n",
    "    left=Pacientes_Archivo,\n",
    "    right=Pacientes_IDrut,\n",
    "    how=\"left\",\n",
    "    left_on=\"rut\",\n",
    "    right_on=\"Rut\",\n",
    ")"
   ]
  },
  {
   "cell_type": "code",
   "execution_count": 34,
   "metadata": {},
   "outputs": [
    {
     "data": {
      "text/html": [
       "<div>\n",
       "<style scoped>\n",
       "    .dataframe tbody tr th:only-of-type {\n",
       "        vertical-align: middle;\n",
       "    }\n",
       "\n",
       "    .dataframe tbody tr th {\n",
       "        vertical-align: top;\n",
       "    }\n",
       "\n",
       "    .dataframe thead th {\n",
       "        text-align: right;\n",
       "    }\n",
       "</style>\n",
       "<table border=\"1\" class=\"dataframe\">\n",
       "  <thead>\n",
       "    <tr style=\"text-align: right;\">\n",
       "      <th></th>\n",
       "      <th>rut2</th>\n",
       "      <th>DV Titular</th>\n",
       "      <th>rut1</th>\n",
       "      <th>DV B.</th>\n",
       "      <th>Tipo Carga</th>\n",
       "      <th>nombres</th>\n",
       "      <th>Apellido P.</th>\n",
       "      <th>Apellido M.</th>\n",
       "      <th>apellidos</th>\n",
       "      <th>Relación</th>\n",
       "      <th>sexo</th>\n",
       "      <th>nacimiento</th>\n",
       "      <th>rut</th>\n",
       "      <th>rutT</th>\n",
       "      <th>Rut</th>\n",
       "      <th>Id Account Paciente</th>\n",
       "      <th>Id Contacto</th>\n",
       "    </tr>\n",
       "  </thead>\n",
       "  <tbody>\n",
       "    <tr>\n",
       "      <th>0</th>\n",
       "      <td>15028744-8</td>\n",
       "      <td>8</td>\n",
       "      <td>15028744-8</td>\n",
       "      <td>8</td>\n",
       "      <td>AFILIADO</td>\n",
       "      <td>Daliborr</td>\n",
       "      <td>CHAVEZ</td>\n",
       "      <td>OSSANDON</td>\n",
       "      <td>Chavez Ossandon</td>\n",
       "      <td>COTIZANTE</td>\n",
       "      <td>M</td>\n",
       "      <td>1985-08-25</td>\n",
       "      <td>150287448</td>\n",
       "      <td>150287448</td>\n",
       "      <td>150287448</td>\n",
       "      <td>0018c00002cVB0qAAG</td>\n",
       "      <td>0038c000036jJS0AAM</td>\n",
       "    </tr>\n",
       "    <tr>\n",
       "      <th>1</th>\n",
       "      <td>3884613-2</td>\n",
       "      <td>2</td>\n",
       "      <td>3884613-2</td>\n",
       "      <td>2</td>\n",
       "      <td>AFILIADO</td>\n",
       "      <td>Eliana</td>\n",
       "      <td>AENISHANSLIN</td>\n",
       "      <td>PAVEZ</td>\n",
       "      <td>NaN</td>\n",
       "      <td>COTIZANTE</td>\n",
       "      <td>F</td>\n",
       "      <td>1937-12-23</td>\n",
       "      <td>38846132</td>\n",
       "      <td>38846132</td>\n",
       "      <td>38846132</td>\n",
       "      <td>001RN000001hzfgYAA</td>\n",
       "      <td>003RN000003O3CrYAK</td>\n",
       "    </tr>\n",
       "    <tr>\n",
       "      <th>2</th>\n",
       "      <td>8254856-4</td>\n",
       "      <td>4</td>\n",
       "      <td>8254856-4</td>\n",
       "      <td>4</td>\n",
       "      <td>AFILIADO</td>\n",
       "      <td>Lissette</td>\n",
       "      <td>PAREDES</td>\n",
       "      <td>LUNA</td>\n",
       "      <td>NaN</td>\n",
       "      <td>COTIZANTE</td>\n",
       "      <td>F</td>\n",
       "      <td>1962-06-13</td>\n",
       "      <td>82548564</td>\n",
       "      <td>82548564</td>\n",
       "      <td>82548564</td>\n",
       "      <td>001RN000002b983YAA</td>\n",
       "      <td>003RN000005k36UYAQ</td>\n",
       "    </tr>\n",
       "    <tr>\n",
       "      <th>3</th>\n",
       "      <td>2638598-9</td>\n",
       "      <td>9</td>\n",
       "      <td>2638598-9</td>\n",
       "      <td>9</td>\n",
       "      <td>AFILIADO</td>\n",
       "      <td>Carlos</td>\n",
       "      <td>BOETSCH</td>\n",
       "      <td>FORNES</td>\n",
       "      <td>NaN</td>\n",
       "      <td>COTIZANTE</td>\n",
       "      <td>M</td>\n",
       "      <td>1933-10-17</td>\n",
       "      <td>26385989</td>\n",
       "      <td>26385989</td>\n",
       "      <td>26385989</td>\n",
       "      <td>0018c00002mVtIhAAK</td>\n",
       "      <td>0038c00003Jlg8HAAR</td>\n",
       "    </tr>\n",
       "    <tr>\n",
       "      <th>4</th>\n",
       "      <td>2638598-9</td>\n",
       "      <td>9</td>\n",
       "      <td>4351475-K</td>\n",
       "      <td>K</td>\n",
       "      <td>CARGA</td>\n",
       "      <td>Lucia Marina</td>\n",
       "      <td>RILEY</td>\n",
       "      <td>GOMEZ</td>\n",
       "      <td>NaN</td>\n",
       "      <td>CONYUGE</td>\n",
       "      <td>F</td>\n",
       "      <td>1941-07-13</td>\n",
       "      <td>4351475K</td>\n",
       "      <td>26385989</td>\n",
       "      <td>4351475K</td>\n",
       "      <td>0018c00002mVtIiAAK</td>\n",
       "      <td>0038c00003Jlg8IAAR</td>\n",
       "    </tr>\n",
       "  </tbody>\n",
       "</table>\n",
       "</div>"
      ],
      "text/plain": [
       "         rut2 DV Titular        rut1 DV B. Tipo Carga       nombres  \\\n",
       "0  15028744-8          8  15028744-8     8   AFILIADO      Daliborr   \n",
       "1   3884613-2          2   3884613-2     2   AFILIADO        Eliana   \n",
       "2   8254856-4          4   8254856-4     4   AFILIADO      Lissette   \n",
       "3   2638598-9          9   2638598-9     9   AFILIADO        Carlos   \n",
       "4   2638598-9          9   4351475-K     K      CARGA  Lucia Marina   \n",
       "\n",
       "    Apellido P. Apellido M.        apellidos   Relación sexo nacimiento  \\\n",
       "0        CHAVEZ    OSSANDON  Chavez Ossandon  COTIZANTE    M 1985-08-25   \n",
       "1  AENISHANSLIN       PAVEZ              NaN  COTIZANTE    F 1937-12-23   \n",
       "2       PAREDES        LUNA              NaN  COTIZANTE    F 1962-06-13   \n",
       "3       BOETSCH      FORNES              NaN  COTIZANTE    M 1933-10-17   \n",
       "4         RILEY       GOMEZ              NaN    CONYUGE    F 1941-07-13   \n",
       "\n",
       "         rut       rutT        Rut Id Account Paciente         Id Contacto  \n",
       "0  150287448  150287448  150287448  0018c00002cVB0qAAG  0038c000036jJS0AAM  \n",
       "1   38846132   38846132   38846132  001RN000001hzfgYAA  003RN000003O3CrYAK  \n",
       "2   82548564   82548564   82548564  001RN000002b983YAA  003RN000005k36UYAQ  \n",
       "3   26385989   26385989   26385989  0018c00002mVtIhAAK  0038c00003Jlg8HAAR  \n",
       "4   4351475K   26385989   4351475K  0018c00002mVtIiAAK  0038c00003Jlg8IAAR  "
      ]
     },
     "execution_count": 34,
     "metadata": {},
     "output_type": "execute_result"
    }
   ],
   "source": [
    "Pacientes_archivos_conId.to_excel(\"F:/Empresas SF/reportes/paciente_conId.xlsx\", index=False)\n",
    "Pacientes_archivos_conId.head()"
   ]
  },
  {
   "cell_type": "code",
   "execution_count": 35,
   "metadata": {
    "notebookRunGroups": {
     "groupValue": "2"
    }
   },
   "outputs": [
    {
     "data": {
      "text/html": [
       "<div>\n",
       "<style scoped>\n",
       "    .dataframe tbody tr th:only-of-type {\n",
       "        vertical-align: middle;\n",
       "    }\n",
       "\n",
       "    .dataframe tbody tr th {\n",
       "        vertical-align: top;\n",
       "    }\n",
       "\n",
       "    .dataframe thead th {\n",
       "        text-align: right;\n",
       "    }\n",
       "</style>\n",
       "<table border=\"1\" class=\"dataframe\">\n",
       "  <thead>\n",
       "    <tr style=\"text-align: right;\">\n",
       "      <th></th>\n",
       "      <th>Paciente__c</th>\n",
       "      <th>Programas_por_Empresas__r.Empresa__c</th>\n",
       "      <th>Rut</th>\n",
       "      <th>Id Account Paciente</th>\n",
       "      <th>Id Contacto</th>\n",
       "    </tr>\n",
       "  </thead>\n",
       "  <tbody>\n",
       "    <tr>\n",
       "      <th>0</th>\n",
       "      <td>0018c00002amOpnAAE</td>\n",
       "      <td>0018c00002cXclQAAS</td>\n",
       "      <td>170261348</td>\n",
       "      <td>0018c00002amOpnAAE</td>\n",
       "      <td>0038c000035CYVvAAO</td>\n",
       "    </tr>\n",
       "    <tr>\n",
       "      <th>1</th>\n",
       "      <td>0018c00002amOpsAAE</td>\n",
       "      <td>0018c00002cXclQAAS</td>\n",
       "      <td>187987741</td>\n",
       "      <td>0018c00002amOpsAAE</td>\n",
       "      <td>0038c000035CYW0AAO</td>\n",
       "    </tr>\n",
       "    <tr>\n",
       "      <th>2</th>\n",
       "      <td>0018c00002amOqCAAU</td>\n",
       "      <td>0018c00002cXclQAAS</td>\n",
       "      <td>134714816</td>\n",
       "      <td>0018c00002amOqCAAU</td>\n",
       "      <td>0038c000035CYWKAA4</td>\n",
       "    </tr>\n",
       "    <tr>\n",
       "      <th>3</th>\n",
       "      <td>0018c00002amOqSAAU</td>\n",
       "      <td>0018c00002cXclQAAS</td>\n",
       "      <td>47670691</td>\n",
       "      <td>0018c00002amOqSAAU</td>\n",
       "      <td>0038c000035CYWaAAO</td>\n",
       "    </tr>\n",
       "    <tr>\n",
       "      <th>4</th>\n",
       "      <td>0018c00002amOqTAAU</td>\n",
       "      <td>0018c00002cXclQAAS</td>\n",
       "      <td>260420356</td>\n",
       "      <td>0018c00002amOqTAAU</td>\n",
       "      <td>0038c000035CYWbAAO</td>\n",
       "    </tr>\n",
       "  </tbody>\n",
       "</table>\n",
       "</div>"
      ],
      "text/plain": [
       "          Paciente__c Programas_por_Empresas__r.Empresa__c        Rut  \\\n",
       "0  0018c00002amOpnAAE                   0018c00002cXclQAAS  170261348   \n",
       "1  0018c00002amOpsAAE                   0018c00002cXclQAAS  187987741   \n",
       "2  0018c00002amOqCAAU                   0018c00002cXclQAAS  134714816   \n",
       "3  0018c00002amOqSAAU                   0018c00002cXclQAAS   47670691   \n",
       "4  0018c00002amOqTAAU                   0018c00002cXclQAAS  260420356   \n",
       "\n",
       "  Id Account Paciente         Id Contacto  \n",
       "0  0018c00002amOpnAAE  0038c000035CYVvAAO  \n",
       "1  0018c00002amOpsAAE  0038c000035CYW0AAO  \n",
       "2  0018c00002amOqCAAU  0038c000035CYWKAA4  \n",
       "3  0018c00002amOqSAAU  0038c000035CYWaAAO  \n",
       "4  0018c00002amOqTAAU  0038c000035CYWbAAO  "
      ]
     },
     "execution_count": 35,
     "metadata": {},
     "output_type": "execute_result"
    }
   ],
   "source": [
    "Pacientes_prog_rut.head()"
   ]
  },
  {
   "cell_type": "code",
   "execution_count": 36,
   "metadata": {
    "notebookRunGroups": {
     "groupValue": "2"
    }
   },
   "outputs": [
    {
     "data": {
      "text/html": [
       "<div>\n",
       "<style scoped>\n",
       "    .dataframe tbody tr th:only-of-type {\n",
       "        vertical-align: middle;\n",
       "    }\n",
       "\n",
       "    .dataframe tbody tr th {\n",
       "        vertical-align: top;\n",
       "    }\n",
       "\n",
       "    .dataframe thead th {\n",
       "        text-align: right;\n",
       "    }\n",
       "</style>\n",
       "<table border=\"1\" class=\"dataframe\">\n",
       "  <thead>\n",
       "    <tr style=\"text-align: right;\">\n",
       "      <th></th>\n",
       "      <th>rut2</th>\n",
       "      <th>DV Titular</th>\n",
       "      <th>rut1</th>\n",
       "      <th>DV B.</th>\n",
       "      <th>Tipo Carga</th>\n",
       "      <th>nombres</th>\n",
       "      <th>Apellido P.</th>\n",
       "      <th>Apellido M.</th>\n",
       "      <th>apellidos</th>\n",
       "      <th>Relación</th>\n",
       "      <th>sexo</th>\n",
       "      <th>nacimiento</th>\n",
       "      <th>rut</th>\n",
       "      <th>rutT</th>\n",
       "    </tr>\n",
       "  </thead>\n",
       "  <tbody>\n",
       "    <tr>\n",
       "      <th>0</th>\n",
       "      <td>15028744-8</td>\n",
       "      <td>8</td>\n",
       "      <td>15028744-8</td>\n",
       "      <td>8</td>\n",
       "      <td>AFILIADO</td>\n",
       "      <td>Daliborr</td>\n",
       "      <td>CHAVEZ</td>\n",
       "      <td>OSSANDON</td>\n",
       "      <td>Chavez Ossandon</td>\n",
       "      <td>COTIZANTE</td>\n",
       "      <td>M</td>\n",
       "      <td>1985-08-25</td>\n",
       "      <td>150287448</td>\n",
       "      <td>150287448</td>\n",
       "    </tr>\n",
       "    <tr>\n",
       "      <th>1</th>\n",
       "      <td>3884613-2</td>\n",
       "      <td>2</td>\n",
       "      <td>3884613-2</td>\n",
       "      <td>2</td>\n",
       "      <td>AFILIADO</td>\n",
       "      <td>Eliana</td>\n",
       "      <td>AENISHANSLIN</td>\n",
       "      <td>PAVEZ</td>\n",
       "      <td>NaN</td>\n",
       "      <td>COTIZANTE</td>\n",
       "      <td>F</td>\n",
       "      <td>1937-12-23</td>\n",
       "      <td>38846132</td>\n",
       "      <td>38846132</td>\n",
       "    </tr>\n",
       "    <tr>\n",
       "      <th>2</th>\n",
       "      <td>8254856-4</td>\n",
       "      <td>4</td>\n",
       "      <td>8254856-4</td>\n",
       "      <td>4</td>\n",
       "      <td>AFILIADO</td>\n",
       "      <td>Lissette</td>\n",
       "      <td>PAREDES</td>\n",
       "      <td>LUNA</td>\n",
       "      <td>NaN</td>\n",
       "      <td>COTIZANTE</td>\n",
       "      <td>F</td>\n",
       "      <td>1962-06-13</td>\n",
       "      <td>82548564</td>\n",
       "      <td>82548564</td>\n",
       "    </tr>\n",
       "    <tr>\n",
       "      <th>3</th>\n",
       "      <td>2638598-9</td>\n",
       "      <td>9</td>\n",
       "      <td>2638598-9</td>\n",
       "      <td>9</td>\n",
       "      <td>AFILIADO</td>\n",
       "      <td>Carlos</td>\n",
       "      <td>BOETSCH</td>\n",
       "      <td>FORNES</td>\n",
       "      <td>NaN</td>\n",
       "      <td>COTIZANTE</td>\n",
       "      <td>M</td>\n",
       "      <td>1933-10-17</td>\n",
       "      <td>26385989</td>\n",
       "      <td>26385989</td>\n",
       "    </tr>\n",
       "    <tr>\n",
       "      <th>4</th>\n",
       "      <td>2638598-9</td>\n",
       "      <td>9</td>\n",
       "      <td>4351475-K</td>\n",
       "      <td>K</td>\n",
       "      <td>CARGA</td>\n",
       "      <td>Lucia Marina</td>\n",
       "      <td>RILEY</td>\n",
       "      <td>GOMEZ</td>\n",
       "      <td>NaN</td>\n",
       "      <td>CONYUGE</td>\n",
       "      <td>F</td>\n",
       "      <td>1941-07-13</td>\n",
       "      <td>4351475K</td>\n",
       "      <td>26385989</td>\n",
       "    </tr>\n",
       "  </tbody>\n",
       "</table>\n",
       "</div>"
      ],
      "text/plain": [
       "         rut2 DV Titular        rut1 DV B. Tipo Carga       nombres  \\\n",
       "0  15028744-8          8  15028744-8     8   AFILIADO      Daliborr   \n",
       "1   3884613-2          2   3884613-2     2   AFILIADO        Eliana   \n",
       "2   8254856-4          4   8254856-4     4   AFILIADO      Lissette   \n",
       "3   2638598-9          9   2638598-9     9   AFILIADO        Carlos   \n",
       "4   2638598-9          9   4351475-K     K      CARGA  Lucia Marina   \n",
       "\n",
       "    Apellido P. Apellido M.        apellidos   Relación sexo nacimiento  \\\n",
       "0        CHAVEZ    OSSANDON  Chavez Ossandon  COTIZANTE    M 1985-08-25   \n",
       "1  AENISHANSLIN       PAVEZ              NaN  COTIZANTE    F 1937-12-23   \n",
       "2       PAREDES        LUNA              NaN  COTIZANTE    F 1962-06-13   \n",
       "3       BOETSCH      FORNES              NaN  COTIZANTE    M 1933-10-17   \n",
       "4         RILEY       GOMEZ              NaN    CONYUGE    F 1941-07-13   \n",
       "\n",
       "         rut       rutT  \n",
       "0  150287448  150287448  \n",
       "1   38846132   38846132  \n",
       "2   82548564   82548564  \n",
       "3   26385989   26385989  \n",
       "4   4351475K   26385989  "
      ]
     },
     "execution_count": 36,
     "metadata": {},
     "output_type": "execute_result"
    }
   ],
   "source": [
    "Pacientes_Archivo.head()"
   ]
  },
  {
   "cell_type": "markdown",
   "metadata": {},
   "source": [
    "aca rescatamos todos los rut que estan en el archivo, y unimos con las empresas que tienen"
   ]
  },
  {
   "cell_type": "code",
   "execution_count": 37,
   "metadata": {
    "notebookRunGroups": {
     "groupValue": "2"
    }
   },
   "outputs": [
    {
     "data": {
      "text/plain": [
       "(733, 19)"
      ]
     },
     "execution_count": 37,
     "metadata": {},
     "output_type": "execute_result"
    }
   ],
   "source": [
    "PacientesConEmpresas = pd.merge(\n",
    "    left=Pacientes_Archivo,\n",
    "    right=Pacientes_prog_rut,\n",
    "    how=\"left\",\n",
    "    left_on=\"rut\",\n",
    "    right_on=\"Rut\",\n",
    ")\n",
    "PacientesConEmpresas.shape"
   ]
  },
  {
   "cell_type": "code",
   "execution_count": 38,
   "metadata": {
    "notebookRunGroups": {
     "groupValue": "2"
    }
   },
   "outputs": [
    {
     "data": {
      "text/html": [
       "<div>\n",
       "<style scoped>\n",
       "    .dataframe tbody tr th:only-of-type {\n",
       "        vertical-align: middle;\n",
       "    }\n",
       "\n",
       "    .dataframe tbody tr th {\n",
       "        vertical-align: top;\n",
       "    }\n",
       "\n",
       "    .dataframe thead th {\n",
       "        text-align: right;\n",
       "    }\n",
       "</style>\n",
       "<table border=\"1\" class=\"dataframe\">\n",
       "  <thead>\n",
       "    <tr style=\"text-align: right;\">\n",
       "      <th></th>\n",
       "      <th>rut2</th>\n",
       "      <th>DV Titular</th>\n",
       "      <th>rut1</th>\n",
       "      <th>DV B.</th>\n",
       "      <th>Tipo Carga</th>\n",
       "      <th>nombres</th>\n",
       "      <th>Apellido P.</th>\n",
       "      <th>Apellido M.</th>\n",
       "      <th>apellidos</th>\n",
       "      <th>Relación</th>\n",
       "      <th>sexo</th>\n",
       "      <th>nacimiento</th>\n",
       "      <th>rut</th>\n",
       "      <th>rutT</th>\n",
       "      <th>Paciente__c</th>\n",
       "      <th>Programas_por_Empresas__r.Empresa__c</th>\n",
       "      <th>Rut</th>\n",
       "      <th>Id Account Paciente</th>\n",
       "      <th>Id Contacto</th>\n",
       "    </tr>\n",
       "  </thead>\n",
       "  <tbody>\n",
       "    <tr>\n",
       "      <th>0</th>\n",
       "      <td>15028744-8</td>\n",
       "      <td>8</td>\n",
       "      <td>15028744-8</td>\n",
       "      <td>8</td>\n",
       "      <td>AFILIADO</td>\n",
       "      <td>Daliborr</td>\n",
       "      <td>CHAVEZ</td>\n",
       "      <td>OSSANDON</td>\n",
       "      <td>Chavez Ossandon</td>\n",
       "      <td>COTIZANTE</td>\n",
       "      <td>M</td>\n",
       "      <td>1985-08-25</td>\n",
       "      <td>150287448</td>\n",
       "      <td>150287448</td>\n",
       "      <td>0018c00002cVB0qAAG</td>\n",
       "      <td>0018c00002cXclQAAS</td>\n",
       "      <td>150287448</td>\n",
       "      <td>0018c00002cVB0qAAG</td>\n",
       "      <td>0038c000036jJS0AAM</td>\n",
       "    </tr>\n",
       "    <tr>\n",
       "      <th>1</th>\n",
       "      <td>3884613-2</td>\n",
       "      <td>2</td>\n",
       "      <td>3884613-2</td>\n",
       "      <td>2</td>\n",
       "      <td>AFILIADO</td>\n",
       "      <td>Eliana</td>\n",
       "      <td>AENISHANSLIN</td>\n",
       "      <td>PAVEZ</td>\n",
       "      <td>NaN</td>\n",
       "      <td>COTIZANTE</td>\n",
       "      <td>F</td>\n",
       "      <td>1937-12-23</td>\n",
       "      <td>38846132</td>\n",
       "      <td>38846132</td>\n",
       "      <td>001RN000001hzfgYAA</td>\n",
       "      <td>0018c00002cXclQAAS</td>\n",
       "      <td>38846132</td>\n",
       "      <td>001RN000001hzfgYAA</td>\n",
       "      <td>003RN000003O3CrYAK</td>\n",
       "    </tr>\n",
       "    <tr>\n",
       "      <th>2</th>\n",
       "      <td>8254856-4</td>\n",
       "      <td>4</td>\n",
       "      <td>8254856-4</td>\n",
       "      <td>4</td>\n",
       "      <td>AFILIADO</td>\n",
       "      <td>Lissette</td>\n",
       "      <td>PAREDES</td>\n",
       "      <td>LUNA</td>\n",
       "      <td>NaN</td>\n",
       "      <td>COTIZANTE</td>\n",
       "      <td>F</td>\n",
       "      <td>1962-06-13</td>\n",
       "      <td>82548564</td>\n",
       "      <td>82548564</td>\n",
       "      <td>001RN000002b983YAA</td>\n",
       "      <td>0018c00002cXclQAAS</td>\n",
       "      <td>82548564</td>\n",
       "      <td>001RN000002b983YAA</td>\n",
       "      <td>003RN000005k36UYAQ</td>\n",
       "    </tr>\n",
       "    <tr>\n",
       "      <th>3</th>\n",
       "      <td>2638598-9</td>\n",
       "      <td>9</td>\n",
       "      <td>2638598-9</td>\n",
       "      <td>9</td>\n",
       "      <td>AFILIADO</td>\n",
       "      <td>Carlos</td>\n",
       "      <td>BOETSCH</td>\n",
       "      <td>FORNES</td>\n",
       "      <td>NaN</td>\n",
       "      <td>COTIZANTE</td>\n",
       "      <td>M</td>\n",
       "      <td>1933-10-17</td>\n",
       "      <td>26385989</td>\n",
       "      <td>26385989</td>\n",
       "      <td>0018c00002mVtIhAAK</td>\n",
       "      <td>0018c00002cXclQAAS</td>\n",
       "      <td>26385989</td>\n",
       "      <td>0018c00002mVtIhAAK</td>\n",
       "      <td>0038c00003Jlg8HAAR</td>\n",
       "    </tr>\n",
       "    <tr>\n",
       "      <th>4</th>\n",
       "      <td>2638598-9</td>\n",
       "      <td>9</td>\n",
       "      <td>4351475-K</td>\n",
       "      <td>K</td>\n",
       "      <td>CARGA</td>\n",
       "      <td>Lucia Marina</td>\n",
       "      <td>RILEY</td>\n",
       "      <td>GOMEZ</td>\n",
       "      <td>NaN</td>\n",
       "      <td>CONYUGE</td>\n",
       "      <td>F</td>\n",
       "      <td>1941-07-13</td>\n",
       "      <td>4351475K</td>\n",
       "      <td>26385989</td>\n",
       "      <td>0018c00002mVtIiAAK</td>\n",
       "      <td>0018c00002cXclQAAS</td>\n",
       "      <td>4351475K</td>\n",
       "      <td>0018c00002mVtIiAAK</td>\n",
       "      <td>0038c00003Jlg8IAAR</td>\n",
       "    </tr>\n",
       "  </tbody>\n",
       "</table>\n",
       "</div>"
      ],
      "text/plain": [
       "         rut2 DV Titular        rut1 DV B. Tipo Carga       nombres  \\\n",
       "0  15028744-8          8  15028744-8     8   AFILIADO      Daliborr   \n",
       "1   3884613-2          2   3884613-2     2   AFILIADO        Eliana   \n",
       "2   8254856-4          4   8254856-4     4   AFILIADO      Lissette   \n",
       "3   2638598-9          9   2638598-9     9   AFILIADO        Carlos   \n",
       "4   2638598-9          9   4351475-K     K      CARGA  Lucia Marina   \n",
       "\n",
       "    Apellido P. Apellido M.        apellidos   Relación sexo nacimiento  \\\n",
       "0        CHAVEZ    OSSANDON  Chavez Ossandon  COTIZANTE    M 1985-08-25   \n",
       "1  AENISHANSLIN       PAVEZ              NaN  COTIZANTE    F 1937-12-23   \n",
       "2       PAREDES        LUNA              NaN  COTIZANTE    F 1962-06-13   \n",
       "3       BOETSCH      FORNES              NaN  COTIZANTE    M 1933-10-17   \n",
       "4         RILEY       GOMEZ              NaN    CONYUGE    F 1941-07-13   \n",
       "\n",
       "         rut       rutT         Paciente__c  \\\n",
       "0  150287448  150287448  0018c00002cVB0qAAG   \n",
       "1   38846132   38846132  001RN000001hzfgYAA   \n",
       "2   82548564   82548564  001RN000002b983YAA   \n",
       "3   26385989   26385989  0018c00002mVtIhAAK   \n",
       "4   4351475K   26385989  0018c00002mVtIiAAK   \n",
       "\n",
       "  Programas_por_Empresas__r.Empresa__c        Rut Id Account Paciente  \\\n",
       "0                   0018c00002cXclQAAS  150287448  0018c00002cVB0qAAG   \n",
       "1                   0018c00002cXclQAAS   38846132  001RN000001hzfgYAA   \n",
       "2                   0018c00002cXclQAAS   82548564  001RN000002b983YAA   \n",
       "3                   0018c00002cXclQAAS   26385989  0018c00002mVtIhAAK   \n",
       "4                   0018c00002cXclQAAS   4351475K  0018c00002mVtIiAAK   \n",
       "\n",
       "          Id Contacto  \n",
       "0  0038c000036jJS0AAM  \n",
       "1  003RN000003O3CrYAK  \n",
       "2  003RN000005k36UYAQ  \n",
       "3  0038c00003Jlg8HAAR  \n",
       "4  0038c00003Jlg8IAAR  "
      ]
     },
     "execution_count": 38,
     "metadata": {},
     "output_type": "execute_result"
    }
   ],
   "source": [
    "PacientesConEmpresas.head()"
   ]
  },
  {
   "cell_type": "code",
   "execution_count": 39,
   "metadata": {},
   "outputs": [],
   "source": [
    "PacientesConEmpresas.to_excel(\"F:/Empresas SF/reportes/pacientesqueestan.xlsx\", index=False)\n"
   ]
  },
  {
   "cell_type": "markdown",
   "metadata": {},
   "source": [
    "Pacientes_con_id.to_excel(\"F:/Empresas SF/reportes/id.xlsx\", index=False)"
   ]
  },
  {
   "cell_type": "markdown",
   "metadata": {},
   "source": [
    "Pacientes_Archivo.drop_duplicates(\n",
    "    [\n",
    "        \"rut\",\n",
    "        \"rutT\",\n",
    "        \"LLaveEmpresa\",\n",
    "        \"LLAveRut\",\n",
    "    ],\n",
    "    keep=\"last\",\n",
    ")\n",
    "Pacientes_Archivo.shape"
   ]
  },
  {
   "cell_type": "code",
   "execution_count": 40,
   "metadata": {
    "notebookRunGroups": {
     "groupValue": "2"
    }
   },
   "outputs": [],
   "source": [
    "Pacientes_Archivo[\"RutEstaoNo\"] = Pacientes_Archivo[\"rut\"].isin(Pacientes_SF[\"Rut\"])"
   ]
  },
  {
   "attachments": {},
   "cell_type": "markdown",
   "metadata": {},
   "source": []
  },
  {
   "cell_type": "code",
   "execution_count": 41,
   "metadata": {
    "notebookRunGroups": {
     "groupValue": "2"
    }
   },
   "outputs": [
    {
     "data": {
      "text/plain": [
       "(733, 25)"
      ]
     },
     "execution_count": 41,
     "metadata": {},
     "output_type": "execute_result"
    }
   ],
   "source": [
    "# aca a los pacientes del archivo se les asigna sus datos en SF\n",
    "Pacientes_con_id = pd.merge(\n",
    "    left=Pacientes_Archivo,\n",
    "    right=Pacientes_SF,\n",
    "    how=\"left\",\n",
    "    left_on=\"rut\",\n",
    "    right_on=\"Rut\",\n",
    ")\n",
    "Pacientes_con_id.shape"
   ]
  },
  {
   "cell_type": "code",
   "execution_count": 42,
   "metadata": {
    "notebookRunGroups": {
     "groupValue": "2"
    }
   },
   "outputs": [
    {
     "data": {
      "text/html": [
       "<div>\n",
       "<style scoped>\n",
       "    .dataframe tbody tr th:only-of-type {\n",
       "        vertical-align: middle;\n",
       "    }\n",
       "\n",
       "    .dataframe tbody tr th {\n",
       "        vertical-align: top;\n",
       "    }\n",
       "\n",
       "    .dataframe thead th {\n",
       "        text-align: right;\n",
       "    }\n",
       "</style>\n",
       "<table border=\"1\" class=\"dataframe\">\n",
       "  <thead>\n",
       "    <tr style=\"text-align: right;\">\n",
       "      <th></th>\n",
       "      <th>rut2</th>\n",
       "      <th>DV Titular</th>\n",
       "      <th>rut1</th>\n",
       "      <th>DV B.</th>\n",
       "      <th>Tipo Carga</th>\n",
       "      <th>nombres</th>\n",
       "      <th>Apellido P.</th>\n",
       "      <th>Apellido M.</th>\n",
       "      <th>apellidos</th>\n",
       "      <th>Relación</th>\n",
       "      <th>...</th>\n",
       "      <th>Id Account Paciente</th>\n",
       "      <th>Rut</th>\n",
       "      <th>Nombre</th>\n",
       "      <th>Tipo de Documento</th>\n",
       "      <th>Ocupacion</th>\n",
       "      <th>Cargo</th>\n",
       "      <th>Departamento</th>\n",
       "      <th>Sexo</th>\n",
       "      <th>Telefono</th>\n",
       "      <th>Id Contacto</th>\n",
       "    </tr>\n",
       "  </thead>\n",
       "  <tbody>\n",
       "    <tr>\n",
       "      <th>0</th>\n",
       "      <td>15028744-8</td>\n",
       "      <td>8</td>\n",
       "      <td>15028744-8</td>\n",
       "      <td>8</td>\n",
       "      <td>AFILIADO</td>\n",
       "      <td>Daliborr</td>\n",
       "      <td>CHAVEZ</td>\n",
       "      <td>OSSANDON</td>\n",
       "      <td>Chavez Ossandon</td>\n",
       "      <td>COTIZANTE</td>\n",
       "      <td>...</td>\n",
       "      <td>0018c00002cVB0qAAG</td>\n",
       "      <td>150287448</td>\n",
       "      <td>Chavez Ossandon Daliborr Fernando</td>\n",
       "      <td>RUT</td>\n",
       "      <td>None</td>\n",
       "      <td>None</td>\n",
       "      <td>None</td>\n",
       "      <td>Hombre</td>\n",
       "      <td>None</td>\n",
       "      <td>0038c000036jJS0AAM</td>\n",
       "    </tr>\n",
       "    <tr>\n",
       "      <th>1</th>\n",
       "      <td>3884613-2</td>\n",
       "      <td>2</td>\n",
       "      <td>3884613-2</td>\n",
       "      <td>2</td>\n",
       "      <td>AFILIADO</td>\n",
       "      <td>Eliana</td>\n",
       "      <td>AENISHANSLIN</td>\n",
       "      <td>PAVEZ</td>\n",
       "      <td>NaN</td>\n",
       "      <td>COTIZANTE</td>\n",
       "      <td>...</td>\n",
       "      <td>001RN000001hzfgYAA</td>\n",
       "      <td>38846132</td>\n",
       "      <td>Eliana Aenishanslin Pavez</td>\n",
       "      <td>RUT</td>\n",
       "      <td>None</td>\n",
       "      <td>None</td>\n",
       "      <td>None</td>\n",
       "      <td>Mujer</td>\n",
       "      <td>None</td>\n",
       "      <td>003RN000003O3CrYAK</td>\n",
       "    </tr>\n",
       "    <tr>\n",
       "      <th>2</th>\n",
       "      <td>8254856-4</td>\n",
       "      <td>4</td>\n",
       "      <td>8254856-4</td>\n",
       "      <td>4</td>\n",
       "      <td>AFILIADO</td>\n",
       "      <td>Lissette</td>\n",
       "      <td>PAREDES</td>\n",
       "      <td>LUNA</td>\n",
       "      <td>NaN</td>\n",
       "      <td>COTIZANTE</td>\n",
       "      <td>...</td>\n",
       "      <td>001RN000002b983YAA</td>\n",
       "      <td>82548564</td>\n",
       "      <td>Lissette Paredes Luna</td>\n",
       "      <td>RUT</td>\n",
       "      <td>None</td>\n",
       "      <td>None</td>\n",
       "      <td>None</td>\n",
       "      <td>Mujer</td>\n",
       "      <td>None</td>\n",
       "      <td>003RN000005k36UYAQ</td>\n",
       "    </tr>\n",
       "    <tr>\n",
       "      <th>3</th>\n",
       "      <td>2638598-9</td>\n",
       "      <td>9</td>\n",
       "      <td>2638598-9</td>\n",
       "      <td>9</td>\n",
       "      <td>AFILIADO</td>\n",
       "      <td>Carlos</td>\n",
       "      <td>BOETSCH</td>\n",
       "      <td>FORNES</td>\n",
       "      <td>NaN</td>\n",
       "      <td>COTIZANTE</td>\n",
       "      <td>...</td>\n",
       "      <td>0018c00002mVtIhAAK</td>\n",
       "      <td>26385989</td>\n",
       "      <td>Carlos Boetsch Fornes</td>\n",
       "      <td>RUT</td>\n",
       "      <td>None</td>\n",
       "      <td>None</td>\n",
       "      <td>None</td>\n",
       "      <td>Hombre</td>\n",
       "      <td>None</td>\n",
       "      <td>0038c00003Jlg8HAAR</td>\n",
       "    </tr>\n",
       "    <tr>\n",
       "      <th>4</th>\n",
       "      <td>2638598-9</td>\n",
       "      <td>9</td>\n",
       "      <td>4351475-K</td>\n",
       "      <td>K</td>\n",
       "      <td>CARGA</td>\n",
       "      <td>Lucia Marina</td>\n",
       "      <td>RILEY</td>\n",
       "      <td>GOMEZ</td>\n",
       "      <td>NaN</td>\n",
       "      <td>CONYUGE</td>\n",
       "      <td>...</td>\n",
       "      <td>0018c00002mVtIiAAK</td>\n",
       "      <td>4351475K</td>\n",
       "      <td>Lucia Marina Riley Gomez</td>\n",
       "      <td>RUT</td>\n",
       "      <td>None</td>\n",
       "      <td>None</td>\n",
       "      <td>None</td>\n",
       "      <td>Mujer</td>\n",
       "      <td>None</td>\n",
       "      <td>0038c00003Jlg8IAAR</td>\n",
       "    </tr>\n",
       "  </tbody>\n",
       "</table>\n",
       "<p>5 rows × 25 columns</p>\n",
       "</div>"
      ],
      "text/plain": [
       "         rut2 DV Titular        rut1 DV B. Tipo Carga       nombres  \\\n",
       "0  15028744-8          8  15028744-8     8   AFILIADO      Daliborr   \n",
       "1   3884613-2          2   3884613-2     2   AFILIADO        Eliana   \n",
       "2   8254856-4          4   8254856-4     4   AFILIADO      Lissette   \n",
       "3   2638598-9          9   2638598-9     9   AFILIADO        Carlos   \n",
       "4   2638598-9          9   4351475-K     K      CARGA  Lucia Marina   \n",
       "\n",
       "    Apellido P. Apellido M.        apellidos   Relación  ...  \\\n",
       "0        CHAVEZ    OSSANDON  Chavez Ossandon  COTIZANTE  ...   \n",
       "1  AENISHANSLIN       PAVEZ              NaN  COTIZANTE  ...   \n",
       "2       PAREDES        LUNA              NaN  COTIZANTE  ...   \n",
       "3       BOETSCH      FORNES              NaN  COTIZANTE  ...   \n",
       "4         RILEY       GOMEZ              NaN    CONYUGE  ...   \n",
       "\n",
       "  Id Account Paciente        Rut                             Nombre  \\\n",
       "0  0018c00002cVB0qAAG  150287448  Chavez Ossandon Daliborr Fernando   \n",
       "1  001RN000001hzfgYAA   38846132          Eliana Aenishanslin Pavez   \n",
       "2  001RN000002b983YAA   82548564              Lissette Paredes Luna   \n",
       "3  0018c00002mVtIhAAK   26385989              Carlos Boetsch Fornes   \n",
       "4  0018c00002mVtIiAAK   4351475K           Lucia Marina Riley Gomez   \n",
       "\n",
       "  Tipo de Documento  Ocupacion Cargo Departamento    Sexo Telefono  \\\n",
       "0               RUT       None  None         None  Hombre     None   \n",
       "1               RUT       None  None         None   Mujer     None   \n",
       "2               RUT       None  None         None   Mujer     None   \n",
       "3               RUT       None  None         None  Hombre     None   \n",
       "4               RUT       None  None         None   Mujer     None   \n",
       "\n",
       "          Id Contacto  \n",
       "0  0038c000036jJS0AAM  \n",
       "1  003RN000003O3CrYAK  \n",
       "2  003RN000005k36UYAQ  \n",
       "3  0038c00003Jlg8HAAR  \n",
       "4  0038c00003Jlg8IAAR  \n",
       "\n",
       "[5 rows x 25 columns]"
      ]
     },
     "execution_count": 42,
     "metadata": {},
     "output_type": "execute_result"
    }
   ],
   "source": [
    "Pacientes_con_id.head()"
   ]
  },
  {
   "cell_type": "code",
   "execution_count": 43,
   "metadata": {
    "notebookRunGroups": {
     "groupValue": "2"
    }
   },
   "outputs": [],
   "source": [
    "regex = re.compile(r\"([A-Za-z0-9]+[.-_])*[A-Za-z0-9]+@[A-Za-z0-9-]+(\\.[A-Z|a-z]{2,})+\")\n",
    "\n",
    "\n",
    "def isValid(email):\n",
    "    if re.fullmatch(regex, email):        \n",
    "        return email        \n",
    "    else:        \n",
    "        return \"\"\n",
    "    \n",
    "\n"
   ]
  },
  {
   "cell_type": "code",
   "execution_count": 44,
   "metadata": {
    "notebookRunGroups": {
     "groupValue": "2"
    }
   },
   "outputs": [
    {
     "data": {
      "text/html": [
       "<div>\n",
       "<style scoped>\n",
       "    .dataframe tbody tr th:only-of-type {\n",
       "        vertical-align: middle;\n",
       "    }\n",
       "\n",
       "    .dataframe tbody tr th {\n",
       "        vertical-align: top;\n",
       "    }\n",
       "\n",
       "    .dataframe thead th {\n",
       "        text-align: right;\n",
       "    }\n",
       "</style>\n",
       "<table border=\"1\" class=\"dataframe\">\n",
       "  <thead>\n",
       "    <tr style=\"text-align: right;\">\n",
       "      <th></th>\n",
       "      <th>RutEstaoNo</th>\n",
       "      <th>FirstName</th>\n",
       "      <th>LastName</th>\n",
       "      <th>IdentificationId__pc</th>\n",
       "      <th>PersonBirthdate</th>\n",
       "      <th>HealthCloudGA__Gender__pc</th>\n",
       "      <th>RecordTypeId</th>\n",
       "      <th>Cuenta_validada__c</th>\n",
       "      <th>BillingCountry</th>\n",
       "      <th>Identification_Type__c</th>\n",
       "      <th>Pa_s_del_Paciente__c</th>\n",
       "    </tr>\n",
       "  </thead>\n",
       "  <tbody>\n",
       "    <tr>\n",
       "      <th>46</th>\n",
       "      <td>False</td>\n",
       "      <td>Patricia</td>\n",
       "      <td>NaN</td>\n",
       "      <td>168810377</td>\n",
       "      <td>1988-03-16</td>\n",
       "      <td>Mujer</td>\n",
       "      <td>0128c000002Byp4AAC</td>\n",
       "      <td>True</td>\n",
       "      <td>Chile</td>\n",
       "      <td>RUT</td>\n",
       "      <td>a1U8c000005dAtnEAE</td>\n",
       "    </tr>\n",
       "    <tr>\n",
       "      <th>177</th>\n",
       "      <td>False</td>\n",
       "      <td>Despina</td>\n",
       "      <td>NaN</td>\n",
       "      <td>61486682</td>\n",
       "      <td>1948-04-10</td>\n",
       "      <td>Mujer</td>\n",
       "      <td>0128c000002Byp4AAC</td>\n",
       "      <td>True</td>\n",
       "      <td>Chile</td>\n",
       "      <td>RUT</td>\n",
       "      <td>a1U8c000005dAtnEAE</td>\n",
       "    </tr>\n",
       "    <tr>\n",
       "      <th>178</th>\n",
       "      <td>False</td>\n",
       "      <td>Virginia</td>\n",
       "      <td>NaN</td>\n",
       "      <td>72590295</td>\n",
       "      <td>1958-09-24</td>\n",
       "      <td>Mujer</td>\n",
       "      <td>0128c000002Byp4AAC</td>\n",
       "      <td>True</td>\n",
       "      <td>Chile</td>\n",
       "      <td>RUT</td>\n",
       "      <td>a1U8c000005dAtnEAE</td>\n",
       "    </tr>\n",
       "    <tr>\n",
       "      <th>179</th>\n",
       "      <td>False</td>\n",
       "      <td>Julio Adrian</td>\n",
       "      <td>NaN</td>\n",
       "      <td>146552625</td>\n",
       "      <td>1992-04-25</td>\n",
       "      <td>Hombre</td>\n",
       "      <td>0128c000002Byp4AAC</td>\n",
       "      <td>True</td>\n",
       "      <td>Chile</td>\n",
       "      <td>RUT</td>\n",
       "      <td>a1U8c000005dAtnEAE</td>\n",
       "    </tr>\n",
       "    <tr>\n",
       "      <th>180</th>\n",
       "      <td>False</td>\n",
       "      <td>Priscilla</td>\n",
       "      <td>NaN</td>\n",
       "      <td>156205362</td>\n",
       "      <td>1983-10-27</td>\n",
       "      <td>Mujer</td>\n",
       "      <td>0128c000002Byp4AAC</td>\n",
       "      <td>True</td>\n",
       "      <td>Chile</td>\n",
       "      <td>RUT</td>\n",
       "      <td>a1U8c000005dAtnEAE</td>\n",
       "    </tr>\n",
       "  </tbody>\n",
       "</table>\n",
       "</div>"
      ],
      "text/plain": [
       "     RutEstaoNo     FirstName LastName IdentificationId__pc PersonBirthdate  \\\n",
       "46        False      Patricia      NaN            168810377      1988-03-16   \n",
       "177       False       Despina      NaN             61486682      1948-04-10   \n",
       "178       False      Virginia      NaN             72590295      1958-09-24   \n",
       "179       False  Julio Adrian      NaN            146552625      1992-04-25   \n",
       "180       False     Priscilla      NaN            156205362      1983-10-27   \n",
       "\n",
       "    HealthCloudGA__Gender__pc        RecordTypeId Cuenta_validada__c  \\\n",
       "46                      Mujer  0128c000002Byp4AAC               True   \n",
       "177                     Mujer  0128c000002Byp4AAC               True   \n",
       "178                     Mujer  0128c000002Byp4AAC               True   \n",
       "179                    Hombre  0128c000002Byp4AAC               True   \n",
       "180                     Mujer  0128c000002Byp4AAC               True   \n",
       "\n",
       "    BillingCountry Identification_Type__c Pa_s_del_Paciente__c  \n",
       "46           Chile                    RUT   a1U8c000005dAtnEAE  \n",
       "177          Chile                    RUT   a1U8c000005dAtnEAE  \n",
       "178          Chile                    RUT   a1U8c000005dAtnEAE  \n",
       "179          Chile                    RUT   a1U8c000005dAtnEAE  \n",
       "180          Chile                    RUT   a1U8c000005dAtnEAE  "
      ]
     },
     "execution_count": 44,
     "metadata": {},
     "output_type": "execute_result"
    }
   ],
   "source": [
    "# Final_pacientes_y_empresa = Pacientes_con_ID\n",
    "Subir_pacientes = pd.DataFrame()\n",
    "#Subir_pacientes[\"Email_Seteado__c\"] = \"\"\n",
    "Subir_pacientes[\"RutEstaoNo\"] = Pacientes_con_id[\"RutEstaoNo\"]\n",
    "# agrupar = empresasqfaltan[empresasqfaltan['si']==False]\n",
    "\n",
    "\n",
    "if (\"nombres\" in Pacientes_con_id.columns) == True:\n",
    "    Subir_pacientes[\"FirstName\"] = Pacientes_con_id[\"nombres\"]\n",
    "if (\"apellidos\" in Pacientes_con_id.columns) == True:\n",
    "    Subir_pacientes[\"LastName\"] = Pacientes_con_id[\"apellidos\"]\n",
    "if (\"rut\" in Pacientes_con_id.columns) == True:\n",
    "    Subir_pacientes[\"IdentificationId__pc\"] = (\n",
    "        Pacientes_con_id[\"rut\"].astype(str).str.upper()\n",
    "    )\n",
    "\n",
    "\n",
    "if (\"email\" in Pacientes_con_id.columns) == True:\n",
    "    # Pacientes_con_id[\"email\"] = Pacientes_con_id[\"email\"].astype(str).str.lower().replace(\"nan\",\"\")\n",
    "    Subir_pacientes[\"PersonEmail\"] = Pacientes_con_id[\"email\"].astype(str).str.lower()\n",
    "    Subir_pacientes[\"PersonEmail\"] = Subir_pacientes[\"PersonEmail\"].apply(\n",
    "        lambda y: isValid(y)\n",
    "    )\n",
    "    Subir_pacientes[\"Email_Seteado__c\"] = np.where(\n",
    "        Subir_pacientes[\"PersonEmail\"] != \"\", \"True\", \"False\"\n",
    "    )\n",
    "\n",
    "    # Subir_pacientes[\"PersonEmail\"] = Subir_pacientes[\"PersonEmail\"].str.replace(\"no informado\", \"\")\n",
    "if (\"nacimiento\" in Pacientes_con_id.columns) == True:\n",
    "    Subir_pacientes[\"PersonBirthdate\"] = Pacientes_con_id[\"nacimiento\"]\n",
    "\n",
    "if (\"sexo\" in Pacientes_con_id.columns) == True:\n",
    "    Sexo = {\n",
    "        \"H\": \"Hombre\",\n",
    "        \"m\": \"Hombre\",\n",
    "        \"Masculino\": \"Hombre\",\n",
    "        \"Femenino\": \"Mujer\",\n",
    "        \"\": \"Prefiero no responder\",\n",
    "        \"HOMBRE\": \"Hombre\",\n",
    "        \"MUJER\": \"Mujer\",\n",
    "        \"F\": \"Mujer\",\n",
    "        \"O\": \"Prefiero no responder\",\n",
    "        \"Ambos\": \"Prefiero no responder\",\n",
    "        \"N\": \"Prefiero no responder\",\n",
    "        \"Otro\": \"Prefiero no responder\",\n",
    "        \"n\": \"Prefiero no responder\",\n",
    "        \"N\": \"Prefiero no responder\",\n",
    "        \"FEMENINO\": \"Mujer\",\n",
    "        \"f\": \"Mujer\",\n",
    "        \"MASCULINO\": \"Hombre\",\n",
    "        \"m\": \"Hombre\",\n",
    "        \"M \": \"Hombre\",\n",
    "        \"M\": \"Hombre\",\n",
    "        \"F \": \"Mujer\",\n",
    "        \"Varón\": \"Hombre\",\n",
    "        \"varon\": \"Hombre\",\n",
    "    }\n",
    "    Pacientes_con_id.replace({\"sexo\": Sexo}, inplace=True)\n",
    "    Subir_pacientes[\"HealthCloudGA__Gender__pc\"] = Pacientes_con_id[\"sexo\"]\n",
    "if (\"direccion\" in Pacientes_con_id.columns) == True:\n",
    "    Subir_pacientes[\"BillingStreet\"] = (\n",
    "        Pacientes_con_id[\"direccion\"].str.lower().replace(\"nan\", \"\")\n",
    "    )\n",
    "    # Subir_pacientes[\"BillingStreet\"] = Final_pacientes_y_empresa[\"direccion\"]\n",
    "if (\"comuna\" in Pacientes_con_id.columns) == True:\n",
    "    # Subir_pacientes[\"BillingState\"] = Final_pacientes_y_empresa[\"comuna\"]\n",
    "    Subir_pacientes[\"BillingState\"] = (\n",
    "        Pacientes_con_id[\"comuna\"].str.title().replace(\"NaN\", \"\")\n",
    "    )\n",
    "    # Subir_pacientes[\"BillingState\"] = Final_pacientes_y_empresa[\"comuna\"]\n",
    "if (\"ciudad\" in Pacientes_con_id.columns) == True:\n",
    "    # Subir_pacientes[\"BillingCity\"] = Final_pacientes_y_empresa[\"ciudad\"]\n",
    "    Subir_pacientes[\"BillingCity\"] = (\n",
    "        Pacientes_con_id[\"ciudad\"].str.title().replace(\"NaN\", \"\")\n",
    "    )\n",
    "\n",
    "if (\"cargo\" in Pacientes_con_id.columns) == True:\n",
    "    Subir_pacientes[\"PersonTitle\"] = Pacientes_con_id[\"cargo\"].str.title()\n",
    "\n",
    "if (\"division\" in Pacientes_con_id.columns) == True:\n",
    "    Subir_pacientes[\"PersonDepartment\"] = Pacientes_con_id[\"division\"].str.title()\n",
    "\n",
    "if (\"celular\" in Pacientes_con_id.columns) == True:\n",
    "    Subir_pacientes[\"Phone\"] = (\n",
    "        Pacientes_con_id[\"celular\"].apply(str).str.strip().replace(\"+\", \"\")\n",
    "    )\n",
    "    Subir_pacientes[\"Phone\"] = Subir_pacientes[\"Phone\"].str.replace(\"NaN\", \"\")\n",
    "    Subir_pacientes[\"Phone\"] = Subir_pacientes[\"Phone\"].str.replace(\"Nan\", \"\")\n",
    "    Subir_pacientes[\"Phone\"] = Subir_pacientes[\"Phone\"].str.replace(\"-\", \"\")\n",
    "    Subir_pacientes[\"Phone\"] = Subir_pacientes[\"Phone\"].str.replace(\"0\", \"\")\n",
    "    Subir_pacientes[\"Phone\"] = Subir_pacientes[\"Phone\"].str.replace(\"No Informado\", \"\")\n",
    "    Subir_pacientes[\"Phone\"] = Subir_pacientes[\"Phone\"].str.replace(\"_\", \"\")\n",
    "    Subir_pacientes[\"Phone\"] = Subir_pacientes[\"Phone\"].str.replace(\"/\", \"\")\n",
    "    Subir_pacientes[\"Phone\"] = Subir_pacientes[\"Phone\"].str.replace(\"+\", \"\")\n",
    "    Subir_pacientes[\"Phone\"] = Subir_pacientes[\"Phone\"].str.replace(\"nan\", \"\")\n",
    "    Subir_pacientes[\"Phone\"] = Subir_pacientes[\"Phone\"].str.replace(\"null\", \"\")\n",
    "    Subir_pacientes[\"Phone\"] = Subir_pacientes[\"Phone\"].str.replace(\"NULL\", \"\")\n",
    "\n",
    "\n",
    "Subir_pacientes[\"RecordTypeId\"] = \"0128c000002Byp4AAC\"\n",
    "Subir_pacientes[\"Cuenta_validada__c\"] = \"True\"\n",
    "\n",
    "\n",
    "if Pais == \"Chile\":\n",
    "    Subir_pacientes[\"BillingCountry\"] = \"Chile\"\n",
    "    Subir_pacientes[\"Identification_Type__c\"] = \"RUT\"\n",
    "    Subir_pacientes[\"Pa_s_del_Paciente__c\"] = \"a1U8c000005dAtnEAE\"\n",
    "else:\n",
    "    Subir_pacientes[\"BillingCountry\"] = \"México\"\n",
    "    Subir_pacientes[\"Identification_Type__c\"] = \"RUT\"\n",
    "    Subir_pacientes[\"Pa_s_del_Paciente__c\"] = \"a1U8c000005dAtsEAE\"\n",
    "\n",
    "\n",
    "Subir_pacientes = Subir_pacientes[Subir_pacientes[\"RutEstaoNo\"] == False]\n",
    "\n",
    "\n",
    "# Subir_pacientes.PersonEmail = Subir_pacientes.PersonEmail.fillna('')\n",
    "Subir_pacientes.to_excel(\"F:/Empresas SF/reportes/account.xlsx\", index=False)\n",
    "Subir_pacientes.head()"
   ]
  },
  {
   "cell_type": "code",
   "execution_count": 45,
   "metadata": {
    "notebookRunGroups": {
     "groupValue": "2"
    }
   },
   "outputs": [],
   "source": [
    "def traerId(rut):\n",
    "    if len(rut) >= 8:\n",
    "        busquedaDatos = \"FIND {\" + rut + \"} RETURNING Account(Id,IdentificationId__pc)\"\n",
    "        derty = dict(sf.search(busquedaDatos))\n",
    "        if derty[\"searchRecords\"] != []:\n",
    "            if derty[\"searchRecords\"][0][\"attributes\"][\"type\"] == \"Account\":\n",
    "                jote = derty[\"searchRecords\"][0][\"Id\"]\n",
    "                dertyd = derty[\"searchRecords\"][0][\"IdentificationId__pc\"]\n",
    "                print(jote + \" \" + dertyd)\n",
    "                return jote\n",
    "            else:\n",
    "                print(\"no\")\n",
    "        else:\n",
    "            print(\"vacio\")\n",
    "    else:\n",
    "        return \"\"\n",
    "\n",
    "\n",
    "def agregarPaciente(listado):\n",
    "    vListado = listado.split(\",\")\n",
    "    derty = dict(\n",
    "        sf.Account.create(\n",
    "            # derty = sf.Account.create(\n",
    "            {\n",
    "                \"FirstName\": vListado[0],\n",
    "                \"LastName\": vListado[1],\n",
    "                \"IdentificationId__pc\": vListado[2],\n",
    "                \"RecordTypeId\": vListado[3],\n",
    "                \"BillingCountry\": vListado[4],\n",
    "                \"Identification_Type__c\": vListado[5],\n",
    "                \"Pa_s_del_Paciente__c\": vListado[6],\n",
    "                \"Cuenta_validada__c\": True,\n",
    "                \"PersonEmail\": vListado[8],\n",
    "                # \"PersonBirthdate\": datetime.strptime(vListado[9],'%Y-%m-%d %H:%M:%S' ),\n",
    "                \"HealthCloudGA__Gender__pc\": vListado[9],\n",
    "                \"Phone\": vListado[10],\n",
    "                \"BillingCity\": vListado[11],\n",
    "                \"BillingState\": vListado[12],\n",
    "                \"BillingStreet\": vListado[13],\n",
    "                \"Email_Seteado__c\": bool(vListado[14]),\n",
    "            }\n",
    "        )\n",
    "    )\n",
    "    return derty[\"id\"]"
   ]
  },
  {
   "cell_type": "code",
   "execution_count": 46,
   "metadata": {
    "notebookRunGroups": {
     "groupValue": "2"
    }
   },
   "outputs": [
    {
     "data": {
      "text/html": [
       "<div>\n",
       "<style scoped>\n",
       "    .dataframe tbody tr th:only-of-type {\n",
       "        vertical-align: middle;\n",
       "    }\n",
       "\n",
       "    .dataframe tbody tr th {\n",
       "        vertical-align: top;\n",
       "    }\n",
       "\n",
       "    .dataframe thead th {\n",
       "        text-align: right;\n",
       "    }\n",
       "</style>\n",
       "<table border=\"1\" class=\"dataframe\">\n",
       "  <thead>\n",
       "    <tr style=\"text-align: right;\">\n",
       "      <th></th>\n",
       "      <th>RutEstaoNo</th>\n",
       "      <th>FirstName</th>\n",
       "      <th>LastName</th>\n",
       "      <th>IdentificationId__pc</th>\n",
       "      <th>PersonBirthdate</th>\n",
       "      <th>HealthCloudGA__Gender__pc</th>\n",
       "      <th>RecordTypeId</th>\n",
       "      <th>Cuenta_validada__c</th>\n",
       "      <th>BillingCountry</th>\n",
       "      <th>Identification_Type__c</th>\n",
       "      <th>Pa_s_del_Paciente__c</th>\n",
       "    </tr>\n",
       "  </thead>\n",
       "  <tbody>\n",
       "    <tr>\n",
       "      <th>46</th>\n",
       "      <td>False</td>\n",
       "      <td>Patricia</td>\n",
       "      <td>NaN</td>\n",
       "      <td>168810377</td>\n",
       "      <td>1988-03-16</td>\n",
       "      <td>Mujer</td>\n",
       "      <td>0128c000002Byp4AAC</td>\n",
       "      <td>True</td>\n",
       "      <td>Chile</td>\n",
       "      <td>RUT</td>\n",
       "      <td>a1U8c000005dAtnEAE</td>\n",
       "    </tr>\n",
       "    <tr>\n",
       "      <th>177</th>\n",
       "      <td>False</td>\n",
       "      <td>Despina</td>\n",
       "      <td>NaN</td>\n",
       "      <td>61486682</td>\n",
       "      <td>1948-04-10</td>\n",
       "      <td>Mujer</td>\n",
       "      <td>0128c000002Byp4AAC</td>\n",
       "      <td>True</td>\n",
       "      <td>Chile</td>\n",
       "      <td>RUT</td>\n",
       "      <td>a1U8c000005dAtnEAE</td>\n",
       "    </tr>\n",
       "    <tr>\n",
       "      <th>178</th>\n",
       "      <td>False</td>\n",
       "      <td>Virginia</td>\n",
       "      <td>NaN</td>\n",
       "      <td>72590295</td>\n",
       "      <td>1958-09-24</td>\n",
       "      <td>Mujer</td>\n",
       "      <td>0128c000002Byp4AAC</td>\n",
       "      <td>True</td>\n",
       "      <td>Chile</td>\n",
       "      <td>RUT</td>\n",
       "      <td>a1U8c000005dAtnEAE</td>\n",
       "    </tr>\n",
       "    <tr>\n",
       "      <th>179</th>\n",
       "      <td>False</td>\n",
       "      <td>Julio Adrian</td>\n",
       "      <td>NaN</td>\n",
       "      <td>146552625</td>\n",
       "      <td>1992-04-25</td>\n",
       "      <td>Hombre</td>\n",
       "      <td>0128c000002Byp4AAC</td>\n",
       "      <td>True</td>\n",
       "      <td>Chile</td>\n",
       "      <td>RUT</td>\n",
       "      <td>a1U8c000005dAtnEAE</td>\n",
       "    </tr>\n",
       "    <tr>\n",
       "      <th>180</th>\n",
       "      <td>False</td>\n",
       "      <td>Priscilla</td>\n",
       "      <td>NaN</td>\n",
       "      <td>156205362</td>\n",
       "      <td>1983-10-27</td>\n",
       "      <td>Mujer</td>\n",
       "      <td>0128c000002Byp4AAC</td>\n",
       "      <td>True</td>\n",
       "      <td>Chile</td>\n",
       "      <td>RUT</td>\n",
       "      <td>a1U8c000005dAtnEAE</td>\n",
       "    </tr>\n",
       "  </tbody>\n",
       "</table>\n",
       "</div>"
      ],
      "text/plain": [
       "     RutEstaoNo     FirstName LastName IdentificationId__pc PersonBirthdate  \\\n",
       "46        False      Patricia      NaN            168810377      1988-03-16   \n",
       "177       False       Despina      NaN             61486682      1948-04-10   \n",
       "178       False      Virginia      NaN             72590295      1958-09-24   \n",
       "179       False  Julio Adrian      NaN            146552625      1992-04-25   \n",
       "180       False     Priscilla      NaN            156205362      1983-10-27   \n",
       "\n",
       "    HealthCloudGA__Gender__pc        RecordTypeId Cuenta_validada__c  \\\n",
       "46                      Mujer  0128c000002Byp4AAC               True   \n",
       "177                     Mujer  0128c000002Byp4AAC               True   \n",
       "178                     Mujer  0128c000002Byp4AAC               True   \n",
       "179                    Hombre  0128c000002Byp4AAC               True   \n",
       "180                     Mujer  0128c000002Byp4AAC               True   \n",
       "\n",
       "    BillingCountry Identification_Type__c Pa_s_del_Paciente__c  \n",
       "46           Chile                    RUT   a1U8c000005dAtnEAE  \n",
       "177          Chile                    RUT   a1U8c000005dAtnEAE  \n",
       "178          Chile                    RUT   a1U8c000005dAtnEAE  \n",
       "179          Chile                    RUT   a1U8c000005dAtnEAE  \n",
       "180          Chile                    RUT   a1U8c000005dAtnEAE  "
      ]
     },
     "execution_count": 46,
     "metadata": {},
     "output_type": "execute_result"
    }
   ],
   "source": [
    "Subir_pacientes.head()"
   ]
  },
  {
   "cell_type": "code",
   "execution_count": 47,
   "metadata": {
    "notebookRunGroups": {
     "groupValue": "2"
    }
   },
   "outputs": [
    {
     "name": "stdout",
     "output_type": "stream",
     "text": [
      "vacio\n",
      "vacio\n",
      "vacio\n",
      "vacio\n",
      "vacio\n",
      "vacio\n",
      "vacio\n",
      "vacio\n",
      "vacio\n",
      "vacio\n",
      "vacio\n",
      "vacio\n",
      "vacio\n"
     ]
    },
    {
     "data": {
      "text/plain": [
       "(13, 12)"
      ]
     },
     "execution_count": 47,
     "metadata": {},
     "output_type": "execute_result"
    }
   ],
   "source": [
    "Subir_pacientes[\"Id\"] = Subir_pacientes[\"IdentificationId__pc\"].apply(\n",
    "    lambda y: traerId(y)\n",
    ")\n",
    "Subir_pacientes.drop_duplicates(\n",
    "    [\n",
    "        \"IdentificationId__pc\",\n",
    "        \n",
    "    ],\n",
    "    keep=\"last\",\n",
    ")\n",
    "Subir_pacientes.shape"
   ]
  },
  {
   "cell_type": "code",
   "execution_count": 48,
   "metadata": {
    "notebookRunGroups": {
     "groupValue": "2"
    }
   },
   "outputs": [],
   "source": [
    "Subir_pacientes[\"dato_account\"] = \"\"\n",
    "if (\"FirstName\" in Subir_pacientes.columns) == True:\n",
    "    Subir_pacientes[\"dato_account\"] = Subir_pacientes[\"dato_account\"] + Subir_pacientes[\"FirstName\"].astype(str)\n",
    "if (\"LastName\" in Subir_pacientes.columns) == True:\n",
    "    Subir_pacientes[\"dato_account\"] = Subir_pacientes[\"dato_account\"] + \",\" + Subir_pacientes[\"LastName\"].astype(str)\n",
    "if (\"IdentificationId__pc\" in Subir_pacientes.columns) == True:\n",
    "    Subir_pacientes[\"dato_account\"] = Subir_pacientes[\"dato_account\"] + \",\" + Subir_pacientes[\"IdentificationId__pc\"].astype(str)\n",
    "if (\"RecordTypeId\" in Subir_pacientes.columns) == True:\n",
    "    Subir_pacientes[\"dato_account\"] = Subir_pacientes[\"dato_account\"] + \",\" + Subir_pacientes[\"RecordTypeId\"].astype(str)\n",
    "if (\"BillingCountry\" in Subir_pacientes.columns) == True:\n",
    "    Subir_pacientes[\"dato_account\"] = Subir_pacientes[\"dato_account\"] + \",\" + Subir_pacientes[\"BillingCountry\"].astype(str)\n",
    "if (\"Identification_Type__c\" in Subir_pacientes.columns) == True:\n",
    "    Subir_pacientes[\"dato_account\"] = Subir_pacientes[\"dato_account\"] + \",\" + Subir_pacientes[\"Identification_Type__c\"].astype(str)\n",
    "if (\"Pa_s_del_Paciente__c\" in Subir_pacientes.columns) == True:\n",
    "    Subir_pacientes[\"dato_account\"] = Subir_pacientes[\"dato_account\"] + \",\" + Subir_pacientes[\"Pa_s_del_Paciente__c\"].astype(str)\n",
    "if (\"Cuenta_validada__c\" in Subir_pacientes.columns) == True:\n",
    "    Subir_pacientes[\"dato_account\"] = Subir_pacientes[\"dato_account\"] + \",\" + Subir_pacientes[\"Cuenta_validada__c\"].astype(str)\n",
    "\n",
    "if (\"PersonEmail\" in Subir_pacientes.columns) == True:\n",
    "    Subir_pacientes[\"dato_account\"] = Subir_pacientes[\"dato_account\"] + \",\" + Subir_pacientes[\"PersonEmail\"].astype(str)\n",
    "else:\n",
    "    Subir_pacientes[\"dato_account\"] = Subir_pacientes[\"dato_account\"] + \",\" \n",
    "    \n",
    "\"\"\" if (\"PersonBirthdate\" in Subir_pacientes.columns) == True:\n",
    "    Subir_pacientes[\"dato_account\"] = Subir_pacientes[\"dato_account\"] + \",\" + Subir_pacientes[\"PersonBirthdate\"].astype(str)\n",
    "else:\n",
    "    Subir_pacientes[\"dato_account\"] = Subir_pacientes[\"dato_account\"] + \",\"  \"\"\"     \n",
    "if (\"HealthCloudGA__Gender__pc\" in Subir_pacientes.columns) == True:\n",
    "    Subir_pacientes[\"dato_account\"] = Subir_pacientes[\"dato_account\"] + \",\" + Subir_pacientes[\"HealthCloudGA__Gender__pc\"].astype(str)\n",
    "else:\n",
    "    Subir_pacientes[\"dato_account\"] = Subir_pacientes[\"dato_account\"] + \",\"  \n",
    "if (\"Phone\" in Subir_pacientes.columns) == True:\n",
    "    Subir_pacientes[\"dato_account\"] = Subir_pacientes[\"dato_account\"] + \",\" + Subir_pacientes[\"Phone\"].astype(str)\n",
    "else:\n",
    "    Subir_pacientes[\"dato_account\"] = Subir_pacientes[\"dato_account\"] + \",\"   \n",
    "if (\"BillingCity\" in Subir_pacientes.columns) == True:\n",
    "    Subir_pacientes[\"dato_account\"] = Subir_pacientes[\"dato_account\"] + \",\" + Subir_pacientes[\"BillingCity\"].astype(str)\n",
    "else:\n",
    "    Subir_pacientes[\"dato_account\"] = Subir_pacientes[\"dato_account\"] + \",\"  \n",
    "if (\"BillingState\" in Subir_pacientes.columns) == True:\n",
    "    Subir_pacientes[\"dato_account\"] = Subir_pacientes[\"dato_account\"] + \",\" + Subir_pacientes[\"BillingState\"].astype(str)\n",
    "else:\n",
    "    Subir_pacientes[\"dato_account\"] = Subir_pacientes[\"dato_account\"] + \",\"  \n",
    "if (\"BillingStreet\" in Subir_pacientes.columns) == True:\n",
    "    Subir_pacientes[\"dato_account\"] = Subir_pacientes[\"dato_account\"] + \",\" + Subir_pacientes[\"BillingStreet\"].astype(str) \n",
    "else:\n",
    "    Subir_pacientes[\"dato_account\"] = Subir_pacientes[\"dato_account\"] + \",\" \n",
    "if (\"PersonEmail\" in Subir_pacientes.columns) == True:\n",
    "    Subir_pacientes[\"dato_account\"] = Subir_pacientes[\"dato_account\"] + \",\" + Subir_pacientes[\"Email_Seteado__c\"].astype(str)\n",
    "else:\n",
    "    Subir_pacientes[\"dato_account\"] = Subir_pacientes[\"dato_account\"] + \",\"  \n",
    "\n",
    "#Subir_pacientes[\"dato_account\"] =  Subir_pacientes[\"dato_account\"] =\n",
    "\n",
    "Subir_pacientes[\"Id_creado\"] = Subir_pacientes[\"dato_account\"].apply(\n",
    "    lambda x: agregarPaciente(x)\n",
    ")\n",
    "\n"
   ]
  },
  {
   "cell_type": "code",
   "execution_count": null,
   "metadata": {},
   "outputs": [],
   "source": []
  },
  {
   "cell_type": "markdown",
   "metadata": {},
   "source": [
    "query2 = \"select P_liza__c, Nombre_de_Empresa__c, Rut_Empresa__c, Empresa_Padre__r.Name, Empresa__r.name,Holding__c, Plan__c, Pais__c, Activo__c, Id from Datos_Empresa__c \"\n",
    "\n",
    "df2 = sf.smart_query(query2)\n",
    "df2.to_excel(\"F:/Empresas SF/reportes/empresas_nuevas.xlsx\", index=False)\n",
    "df2.head()"
   ]
  },
  {
   "cell_type": "markdown",
   "metadata": {},
   "source": [
    "Subir_pacientes.to_excel(\"F:/Empresas SF/reportes/111account.xlsx\", index=False)"
   ]
  },
  {
   "cell_type": "markdown",
   "metadata": {},
   "source": [
    "derty = Subir_pacientes[\"IdentificationId__pc\"]\n",
    "sf.Contact.create({\"IdentificationId__pc\": \"derty\", \"Email\": \"example@example.com\"})"
   ]
  },
  {
   "cell_type": "markdown",
   "metadata": {},
   "source": [
    "Subir_pacientes.head()"
   ]
  },
  {
   "cell_type": "markdown",
   "metadata": {},
   "source": [
    "Subir_pacientes.head()\n",
    "Subir_pacientes.to_excel(\"F:/Empresas SF/reportes/account__l.xlsx\", index=False)"
   ]
  },
  {
   "cell_type": "code",
   "execution_count": 49,
   "metadata": {},
   "outputs": [
    {
     "data": {
      "text/plain": [
       "' if campaña != \"MetLife\":\\n    pacientes_en_campaña = pd.merge(\\n        left=campaña_seleccionada,\\n        right=Pacientes_con_id,\\n        how=\"left\",\\n        left_on=\"Id Account\",\\n        right_on=\"Id Account Paciente\",\\n    )\\n    pacientes_en_campaña[\"Paciente__c\"] = \"Id Pacientes\"\\n    pacientes_en_campaña[\"Programas_por_Empresas__c\"] = \"Id Programas Por empresa\"\\n    pacientes_en_campaña.to_excel(\\n        \"F:/Empresas SF/reportes/campaña_empresa.xlsx\", index=False\\n    )\\n    campaña_en_pacientes = pd.merge(\\n        left=Pacientes_con_id,\\n        right=campaña_seleccionada,\\n        how=\"left\",\\n        left_on=\"Id Account Paciente\",\\n        right_on=\"Id Account\",\\n    )\\n    campaña_en_pacientes.to_excel(\\n        \"F:/Empresas SF/reportes/archivo_campaña.xlsx\", index=False\\n    )\\n '"
      ]
     },
     "execution_count": 49,
     "metadata": {},
     "output_type": "execute_result"
    }
   ],
   "source": [
    "\"\"\" if campaña != \"MetLife\":\n",
    "    pacientes_en_campaña = pd.merge(\n",
    "        left=campaña_seleccionada,\n",
    "        right=Pacientes_con_id,\n",
    "        how=\"left\",\n",
    "        left_on=\"Id Account\",\n",
    "        right_on=\"Id Account Paciente\",\n",
    "    )\n",
    "    pacientes_en_campaña[\"Paciente__c\"] = \"Id Pacientes\"\n",
    "    pacientes_en_campaña[\"Programas_por_Empresas__c\"] = \"Id Programas Por empresa\"\n",
    "    pacientes_en_campaña.to_excel(\n",
    "        \"F:/Empresas SF/reportes/campaña_empresa.xlsx\", index=False\n",
    "    )\n",
    "    campaña_en_pacientes = pd.merge(\n",
    "        left=Pacientes_con_id,\n",
    "        right=campaña_seleccionada,\n",
    "        how=\"left\",\n",
    "        left_on=\"Id Account Paciente\",\n",
    "        right_on=\"Id Account\",\n",
    "    )\n",
    "    campaña_en_pacientes.to_excel(\n",
    "        \"F:/Empresas SF/reportes/archivo_campaña.xlsx\", index=False\n",
    "    )\n",
    " \"\"\""
   ]
  },
  {
   "cell_type": "code",
   "execution_count": 50,
   "metadata": {},
   "outputs": [
    {
     "data": {
      "text/plain": [
       "' if campaña != \"MetLife1\":\\n    campaña_en_pacientes = pd.merge(\\n        left=Pacientes_con_id,\\n        right=campaña_seleccionada,\\n        how=\"left\",\\n        left_on=\"Id Account Paciente\",\\n        right_on=\"Id Account\",\\n    )\\n    if (\"poliza\" in campaña_en_pacientes.columns) == True:\\n        campaña_en_pacientes[\"poliza\"] = campaña_en_pacientes[\"poliza\"].astype(str)\\n\\n    campaña_en_pacientes = campaña_en_pacientes.rename(\\n        columns={\"Programas_por_Empresas__c\": \"programas por empresa\"}\\n    )\\n    campaña_en_pacientes[\"Paciente__c\"] = campaña_en_pacientes[\"Id Account Paciente\"]\\n    campaña_en_pacientes[\"Programas_por_Empresas__c\"] = campaña_en_pacientes[\\n        \"programas por empresa\"\\n    ]\\n    campaña_en_pacientes.to_excel(\\n        \"F:/Empresas SF/reportes/archivo_campaña2.xlsx\", index=False\\n    ) '"
      ]
     },
     "execution_count": 50,
     "metadata": {},
     "output_type": "execute_result"
    }
   ],
   "source": [
    "\"\"\" if campaña != \"MetLife1\":\n",
    "    campaña_en_pacientes = pd.merge(\n",
    "        left=Pacientes_con_id,\n",
    "        right=campaña_seleccionada,\n",
    "        how=\"left\",\n",
    "        left_on=\"Id Account Paciente\",\n",
    "        right_on=\"Id Account\",\n",
    "    )\n",
    "    if (\"poliza\" in campaña_en_pacientes.columns) == True:\n",
    "        campaña_en_pacientes[\"poliza\"] = campaña_en_pacientes[\"poliza\"].astype(str)\n",
    "\n",
    "    campaña_en_pacientes = campaña_en_pacientes.rename(\n",
    "        columns={\"Programas_por_Empresas__c\": \"programas por empresa\"}\n",
    "    )\n",
    "    campaña_en_pacientes[\"Paciente__c\"] = campaña_en_pacientes[\"Id Account Paciente\"]\n",
    "    campaña_en_pacientes[\"Programas_por_Empresas__c\"] = campaña_en_pacientes[\n",
    "        \"programas por empresa\"\n",
    "    ]\n",
    "    campaña_en_pacientes.to_excel(\n",
    "        \"F:/Empresas SF/reportes/archivo_campaña2.xlsx\", index=False\n",
    "    ) \"\"\""
   ]
  },
  {
   "cell_type": "code",
   "execution_count": 51,
   "metadata": {},
   "outputs": [],
   "source": [
    "# apprix_1 = Pacientes_SF.iloc[:790552,:]\n",
    "# apprix_2 = Pacientes_SF.iloc[790553:,:]\n",
    "# apprix_1.to_excel(\"F:/Empresas SF/reportes/Ruts1.xlsx\",index=False)\n",
    "# apprix_2.to_excel(\"F:/Empresas SF/reportes/Ruts2.xlsx\",index=False)"
   ]
  },
  {
   "cell_type": "code",
   "execution_count": 52,
   "metadata": {},
   "outputs": [
    {
     "ename": "NameError",
     "evalue": "name 'campaña_seleccionada' is not defined",
     "output_type": "error",
     "traceback": [
      "\u001b[1;31m---------------------------------------------------------------------------\u001b[0m",
      "\u001b[1;31mNameError\u001b[0m                                 Traceback (most recent call last)",
      "Cell \u001b[1;32mIn[52], line 3\u001b[0m\n\u001b[0;32m      1\u001b[0m campaña_en_pacientes2 \u001b[38;5;241m=\u001b[39m pd\u001b[38;5;241m.\u001b[39mmerge(\n\u001b[0;32m      2\u001b[0m     left\u001b[38;5;241m=\u001b[39mPacientes_con_id,\n\u001b[1;32m----> 3\u001b[0m     right\u001b[38;5;241m=\u001b[39m\u001b[43mcampaña_seleccionada\u001b[49m,\n\u001b[0;32m      4\u001b[0m     how\u001b[38;5;241m=\u001b[39m\u001b[38;5;124m\"\u001b[39m\u001b[38;5;124mleft\u001b[39m\u001b[38;5;124m\"\u001b[39m,\n\u001b[0;32m      5\u001b[0m     left_on\u001b[38;5;241m=\u001b[39m\u001b[38;5;124m\"\u001b[39m\u001b[38;5;124mId Account Paciente\u001b[39m\u001b[38;5;124m\"\u001b[39m,\n\u001b[0;32m      6\u001b[0m     right_on\u001b[38;5;241m=\u001b[39m\u001b[38;5;124m\"\u001b[39m\u001b[38;5;124mId Account\u001b[39m\u001b[38;5;124m\"\u001b[39m,\n\u001b[0;32m      7\u001b[0m )\n\u001b[0;32m      8\u001b[0m \u001b[38;5;28;01mif\u001b[39;00m (\u001b[38;5;124m\"\u001b[39m\u001b[38;5;124mpoliza\u001b[39m\u001b[38;5;124m\"\u001b[39m \u001b[38;5;129;01min\u001b[39;00m campaña_en_pacientes2\u001b[38;5;241m.\u001b[39mcolumns) \u001b[38;5;241m==\u001b[39m \u001b[38;5;28;01mTrue\u001b[39;00m:\n\u001b[0;32m      9\u001b[0m     campaña_en_pacientes2[\u001b[38;5;124m\"\u001b[39m\u001b[38;5;124mpoliza\u001b[39m\u001b[38;5;124m\"\u001b[39m] \u001b[38;5;241m=\u001b[39m campaña_en_pacientes2[\u001b[38;5;124m\"\u001b[39m\u001b[38;5;124mpoliza\u001b[39m\u001b[38;5;124m\"\u001b[39m]\u001b[38;5;241m.\u001b[39mastype(\u001b[38;5;28mstr\u001b[39m)\n",
      "\u001b[1;31mNameError\u001b[0m: name 'campaña_seleccionada' is not defined"
     ]
    }
   ],
   "source": [
    "campaña_en_pacientes2 = pd.merge(\n",
    "    left=Pacientes_con_id,\n",
    "    right=campaña_seleccionada,\n",
    "    how=\"left\",\n",
    "    left_on=\"Id Account Paciente\",\n",
    "    right_on=\"Id Account\",\n",
    ")\n",
    "if (\"poliza\" in campaña_en_pacientes2.columns) == True:\n",
    "    campaña_en_pacientes2[\"poliza\"] = campaña_en_pacientes2[\"poliza\"].astype(str)\n",
    "\n",
    "campaña_en_pacientes2 = campaña_en_pacientes2.rename(\n",
    "    columns={\"Programas_por_Empresas__c\": \"programas por empresa\"}\n",
    ")\n",
    "campaña_en_pacientes2[\"Paciente__c\"] = campaña_en_pacientes2[\"Id Account Paciente\"]\n",
    "campaña_en_pacientes2[\"Programas_por_Empresas__c\"] = campaña_en_pacientes2[\n",
    "    \"programas por empresa\"\n",
    "]\n",
    "\n",
    "\n",
    "\"\"\" campaña_en_pacientes2 = campaña_en_pacientes2[\n",
    "    (campaña_en_pacientes2[\"Programas_por_Empresas__c\"] == \"\")] \"\"\"\n",
    "campaña_en_pacientes2[\"Esta\"] = campaña_en_pacientes2[\"programas por empresa\"].isnull()\n",
    "campaña_en_pacientes2 = campaña_en_pacientes2[campaña_en_pacientes2[\"Esta\"]]\n",
    "campaña_en_pacientes2.to_excel(\n",
    "    \"F:/Empresas SF/reportes/archivo_campaña3.xlsx\", index=False\n",
    ")"
   ]
  },
  {
   "cell_type": "code",
   "execution_count": null,
   "metadata": {},
   "outputs": [],
   "source": [
    "campaña_en_pacientes2[\"rut\"].shape"
   ]
  },
  {
   "cell_type": "code",
   "execution_count": null,
   "metadata": {},
   "outputs": [],
   "source": [
    "# nuevosrutes = \"F:/Empresas SF/reportes/rut.xlsx\"\n",
    "# campaña = \"BCI Seguros Colectivos\"\n",
    "# Pais = \"Chile\"\n",
    "# Pais = \"México\"\n",
    "\n",
    "# rutes = pd.read_excel(nuevosrutes)\n",
    "rutes = pd.DataFrame(columns=[\"rut\"])\n",
    "rutes[\"rut\"] = Pacientes_Archivo[\"rut\"]\n",
    "rutes[\"rutT\"] = Pacientes_Archivo[\"rut2\"]\n",
    "rutes[\"Contratante\"] = Pacientes_Archivo[\"Contratante\"]\n",
    "# rutes[\"poliza\"] = Pacientes_Archivo[\"poliza\"]\n",
    "rutes.head()"
   ]
  },
  {
   "cell_type": "code",
   "execution_count": null,
   "metadata": {},
   "outputs": [],
   "source": [
    "rutes[\"rut\"] = rutes[\"rut\"].astype(str)\n",
    "rutes[\"rut\"] = rutes[\"rut\"].str.replace(\".\", \"\")\n",
    "rutes[\"rut\"] = rutes[\"rut\"].str.replace(\"-\", \"\")\n",
    "# aca se trabaja con el nuevo rut desde rut1 ojooooooo\n",
    "rutes[\"rut\"] = rutes[\"rut\"].str.upper()\n",
    "rutes[\"rut\"] = rutes[\"rut\"].str.strip()\n",
    "\n",
    "rutes[\"rutT\"] = rutes[\"rutT\"].astype(str)\n",
    "rutes[\"rutT\"] = rutes[\"rutT\"].str.replace(\".\", \"\")\n",
    "rutes[\"rutT\"] = rutes[\"rutT\"].str.replace(\"-\", \"\")\n",
    "# aca se trabaja con el nuevo rut desde rut1 ojooooooo\n",
    "rutes[\"rutT\"] = rutes[\"rutT\"].str.upper()\n",
    "rutes[\"rutT\"] = rutes[\"rutT\"].str.strip()\n",
    "\n",
    "\"\"\" rutes[\"poliza\"] = rutes[\"poliza\"].astype(str)\n",
    "rutes[\"poliza\"] = rutes[\"poliza\"].str.replace(\".\", \"\")\n",
    "rutes[\"poliza\"] = rutes[\"poliza\"].str.replace(\"-\", \"\")\n",
    "# aca se trabaja con el nuevo rut desde rut1 ojooooooo\n",
    "rutes[\"poliza\"] = rutes[\"poliza\"].str.strip() \"\"\"\n",
    "\n",
    "\n",
    "rutes.head()"
   ]
  },
  {
   "cell_type": "code",
   "execution_count": null,
   "metadata": {},
   "outputs": [],
   "source": [
    "# derty = rutes.to_numpy().transpose().tolist()\n",
    "\n",
    "\n",
    "Pacientes_SF2 = Pacientes_SF[[\"Rut\", \"Id Account Paciente\"]]"
   ]
  },
  {
   "cell_type": "code",
   "execution_count": null,
   "metadata": {},
   "outputs": [],
   "source": [
    "rutesi = pd.merge(\n",
    "    left=rutes,\n",
    "    right=Pacientes_SF2,\n",
    "    how=\"left\",\n",
    "    left_on=\"rut\",\n",
    "    right_on=\"Rut\",\n",
    ")\n",
    "rutesi.shape\n",
    "rutesi.to_excel(\"F:/Empresas SF/reportes/rutsyempresa.xlsx\", index=False)"
   ]
  },
  {
   "cell_type": "code",
   "execution_count": null,
   "metadata": {},
   "outputs": [],
   "source": [
    "rutesi.head()"
   ]
  },
  {
   "cell_type": "code",
   "execution_count": null,
   "metadata": {},
   "outputs": [],
   "source": [
    "rutesi_antg = pd.merge(\n",
    "    left=rutesi,\n",
    "    right=empresas_unidas,\n",
    "    how=\"left\",\n",
    "    left_on=\"Id Account Paciente\",\n",
    "    right_on=\"Id Account\",\n",
    ")"
   ]
  },
  {
   "cell_type": "code",
   "execution_count": null,
   "metadata": {},
   "outputs": [],
   "source": [
    "rutesi_antg.head()"
   ]
  },
  {
   "cell_type": "code",
   "execution_count": null,
   "metadata": {},
   "outputs": [],
   "source": [
    "# rutesi_antg .to_excel(\"F:/Empresas SF/reportes/ruts_empresas_antiguos.xlsx\", index=False)"
   ]
  },
  {
   "cell_type": "code",
   "execution_count": null,
   "metadata": {},
   "outputs": [],
   "source": [
    "import json\n",
    "import pandas as pd\n",
    "from simple_salesforce import Salesforce, format_soql, format_external_id\n",
    "from json import loads, dumps\n",
    "import simpler_sf\n",
    "\n",
    "simpler_sf.simple_salesforce()"
   ]
  },
  {
   "cell_type": "code",
   "execution_count": null,
   "metadata": {},
   "outputs": [],
   "source": [
    "with open(\"login.json\", \"r\") as j:\n",
    "    misDatos = json.load(j)\n",
    "sf = Salesforce(\n",
    "    username=misDatos[\"username\"],\n",
    "    password=misDatos[\"password\"],\n",
    "    security_token=misDatos[\"security_token\"],\n",
    ")"
   ]
  },
  {
   "cell_type": "code",
   "execution_count": null,
   "metadata": {},
   "outputs": [],
   "source": [
    "\"\"\" query = \"select Id, Account.Name, RutContact__c from AccountContactRelation \"\n",
    "\n",
    "df1 = sf.smart_query(query) \"\"\""
   ]
  },
  {
   "cell_type": "code",
   "execution_count": null,
   "metadata": {},
   "outputs": [],
   "source": [
    "# nuevosrutes = \"F:/Empresas SF/reportes/rut.xlsx\"\n",
    "# campaña = \"BCI Seguros Colectivos\"\n",
    "# Pais = \"Chile\"\n",
    "# Pais = \"México\"\n",
    "\n",
    "# rutes = pd.read_excel(nuevosrutes)\n",
    "# rutes = Subir_pacientes[\"rut\"]"
   ]
  },
  {
   "cell_type": "code",
   "execution_count": null,
   "metadata": {},
   "outputs": [],
   "source": [
    "\"\"\" df1.head() \"\"\""
   ]
  },
  {
   "cell_type": "code",
   "execution_count": null,
   "metadata": {},
   "outputs": [],
   "source": [
    "\"\"\" df1[\"rut\"] = df1[\"RutContact__c\"].astype(str)\n",
    "df1[\"rut\"] = df1[\"rut\"].str.replace(\".\", \"\")\n",
    "df1[\"rut\"] = df1[\"rut\"].str.replace(\n",
    "    \"-\", \"\"\n",
    ")  # aca se trabaja con el nuevo rut desde rut1 ojooooooo\n",
    "df1[\"rut\"] = df1[\"rut\"].str.upper()\n",
    "df1[\"rut\"] = df1[\"rut\"].str.strip()\n",
    "df1.head() \"\"\""
   ]
  },
  {
   "cell_type": "code",
   "execution_count": null,
   "metadata": {},
   "outputs": [],
   "source": [
    "\"\"\" rutes.head() \"\"\""
   ]
  },
  {
   "cell_type": "code",
   "execution_count": null,
   "metadata": {},
   "outputs": [],
   "source": [
    "\"\"\" rutesi = pd.merge(\n",
    "    left=rutes,\n",
    "    right=df1,\n",
    "    how=\"left\",\n",
    "    left_on=\"rut\",\n",
    "    right_on=\"rut\",\n",
    ") \"\"\""
   ]
  },
  {
   "cell_type": "code",
   "execution_count": null,
   "metadata": {},
   "outputs": [],
   "source": [
    "\"\"\" rutesi.to_excel(\"F:/Empresas SF/reportes/rutesnuevos_accountcontactrelation.xlsx\", index=False) \"\"\""
   ]
  },
  {
   "cell_type": "code",
   "execution_count": null,
   "metadata": {},
   "outputs": [],
   "source": [
    "\"\"\" df2[\"P_liza__c\"] = df2[\"P_liza__c\"].astype(str)\n",
    "df2[\"P_liza__c\"] = df2[\"P_liza__c\"].str.replace(\".\", \"\")\n",
    "df2[\"P_liza__c\"] = df2[\"P_liza__c\"].str.replace(\"-\", \"\")\n",
    "# aca se trabaja con el nuevo rut desde rut1 ojooooooo\n",
    "df2[\"P_liza__c\"] = df2[\"P_liza__c\"].str.upper()\n",
    "df2[\"P_liza__c\"] = df2[\"P_liza__c\"].str.strip() \"\"\""
   ]
  },
  {
   "cell_type": "code",
   "execution_count": null,
   "metadata": {},
   "outputs": [],
   "source": [
    "modelo_nuevo = pd.merge(\n",
    "    left=rutesi,\n",
    "    right=df2,\n",
    "    how=\"left\",\n",
    "    left_on=\"poliza\",\n",
    "    right_on=\"P_liza__c\",\n",
    ")\n",
    "modelo_nuevo.to_excel(\"F:/Empresas SF/reportes/modelo_nuevo.xlsx\", index=False)"
   ]
  },
  {
   "cell_type": "code",
   "execution_count": null,
   "metadata": {},
   "outputs": [],
   "source": [
    "modelo = pd.DataFrame()\n",
    "modelo = modelo_nuevo[[\"rutT\", \"Id Account Paciente\", \"Id\"]]"
   ]
  },
  {
   "cell_type": "code",
   "execution_count": null,
   "metadata": {},
   "outputs": [],
   "source": [
    "modelo.head()"
   ]
  }
 ],
 "metadata": {
  "kernelspec": {
   "display_name": "salesforce",
   "language": "python",
   "name": "python3"
  },
  "language_info": {
   "codemirror_mode": {
    "name": "ipython",
    "version": 3
   },
   "file_extension": ".py",
   "mimetype": "text/x-python",
   "name": "python",
   "nbconvert_exporter": "python",
   "pygments_lexer": "ipython3",
   "version": "3.8.16"
  },
  "orig_nbformat": 4,
  "vscode": {
   "interpreter": {
    "hash": "7fbccfb583f385d5cd7c75cc6ade03c09354727271e9200f47ca4e7fedb5381e"
   }
  }
 },
 "nbformat": 4,
 "nbformat_minor": 2
}
