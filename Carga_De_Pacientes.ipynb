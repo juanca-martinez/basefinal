{
 "cells": [
  {
   "cell_type": "code",
   "execution_count": null,
   "metadata": {
    "notebookRunGroups": {
     "groupValue": "1"
    }
   },
   "outputs": [],
   "source": [
    "from pathlib import Path\n",
    "import requests\n",
    "import pandas as pd\n",
    "import numpy as np\n",
    "from io import StringIO\n",
    "import shutil\n",
    "import datetime\n",
    "from datetime import datetime\n",
    "import re\n",
    "import json\n",
    "from pandas.api.types import is_numeric_dtype\n",
    "from simple_salesforce import Salesforce, format_soql, format_external_id\n",
    "from simple_salesforce.exceptions import SalesforceMalformedRequest\n",
    "import simpler_sf\n",
    "\n",
    "simpler_sf.simple_salesforce()"
   ]
  },
  {
   "cell_type": "code",
   "execution_count": null,
   "metadata": {
    "notebookRunGroups": {
     "groupValue": "1"
    }
   },
   "outputs": [],
   "source": [
    "with open(\"login.json\", \"r\") as j:\n",
    "    misDatos = json.load(j)"
   ]
  },
  {
   "cell_type": "code",
   "execution_count": null,
   "metadata": {
    "notebookRunGroups": {
     "groupValue": "1"
    }
   },
   "outputs": [],
   "source": [
    "# para smart query\n",
    "\"\"\" sf = simple_salesforce.Salesforce(\n",
    "    username=misDatos[\"username\"],\n",
    "    password=misDatos[\"password\"],\n",
    "    security_token=misDatos[\"security_token\"],\n",
    ")\n",
    " \"\"\"\n",
    "# para lo demas\n",
    "sf = Salesforce(\n",
    "    username=misDatos[\"username\"],\n",
    "    password=misDatos[\"password\"],\n",
    "    security_token=misDatos[\"security_token\"],\n",
    ")\n",
    "# paramiko.util.log_to_file(\"paramiko.log\")\n",
    "regex = re.compile(r\"([A-Za-z0-9]+[.-_])*[A-Za-z0-9]+@[A-Za-z0-9-]+(\\.[A-Z|a-z]{2,})+\")"
   ]
  },
  {
   "cell_type": "markdown",
   "metadata": {},
   "source": [
    "Descarga de empresas en sistema\n"
   ]
  },
  {
   "cell_type": "code",
   "execution_count": null,
   "metadata": {
    "notebookRunGroups": {
     "groupValue": "1"
    }
   },
   "outputs": [],
   "source": [
    "\"\"\" llamadaEmpresaAntiguas = \"SELECT Id,Empresa__r.Id, Empresa__r.Name, Empresa__r.Holding__c, Empresa__r.Campa_a__c, Empresa__r.Id_Empresa__c, Empresa__r.Empleador__c, Empresa__r.poliza__c, Empresa__r.RUT_Empresa__c, Empresa__r.Corredor__c,Empresa__r.Padre_Empresa__c, Name FROM Programas_por_Empresas__c WHERE Empresa__r.Padre_Empresa__c = false\"\n",
    "vllamadaEmpresa = sf.smart_query(llamadaEmpresaAntiguas)\n",
    "vllamadaEmpresa.to_excel(\"F:/Empresas SF/reportes/empresas_Antiguas.xlsx\", index=False)\n",
    "vllamadaEmpresa.head() \"\"\""
   ]
  },
  {
   "cell_type": "markdown",
   "metadata": {},
   "source": [
    "vllamadaEmpresa.shape\n"
   ]
  },
  {
   "cell_type": "code",
   "execution_count": null,
   "metadata": {
    "notebookRunGroups": {
     "groupValue": "1"
    }
   },
   "outputs": [],
   "source": [
    "# Recuperar empresas ID de salesforce desde Account\n",
    "results = sf.query_all(\n",
    "    \"\"\"\n",
    "  SELECT Id, name, Holding__c ,Campa_a__c,Id_Empresa__c,Empleador__c,poliza__c,RUT_Empresa__c  FROM account where ispersonaccount = false  AND Nueva_Estructura__c = False\n",
    "    \"\"\"\n",
    ")\n",
    "Empresas_SF = pd.DataFrame(results[\"records\"])\n",
    "Empresas_SF = Empresas_SF[\n",
    "    [\n",
    "        \"Id\",\n",
    "        \"Name\",\n",
    "        \"Holding__c\",\n",
    "        \"Campa_a__c\",\n",
    "        \"Id_Empresa__c\",\n",
    "        \"Empleador__c\",\n",
    "        \"poliza__c\",\n",
    "        \"RUT_Empresa__c\",\n",
    "    ]\n",
    "]\n",
    "Empresas_SF.shape"
   ]
  },
  {
   "cell_type": "code",
   "execution_count": null,
   "metadata": {
    "notebookRunGroups": {
     "groupValue": "1"
    }
   },
   "outputs": [],
   "source": [
    "# buscar empresas desde Programas_por_Empresas__c datos de empresas\n",
    "results = sf.query_all(\n",
    "    \"\"\"\n",
    "   select Id,Empresa__c, Empresa_Padre__c,Nombre_Empresa__c, Name  from Programas_por_Empresas__c \n",
    "    \"\"\"\n",
    ")\n",
    "Programas_por_empresa_SF = pd.DataFrame(results[\"records\"])\n",
    "\n",
    "Programas_por_empresa_SF = Programas_por_empresa_SF[\n",
    "    [\"Id\", \"Empresa__c\", \"Empresa_Padre__c\", \"Nombre_Empresa__c\", \"Name\"]\n",
    "]\n",
    "Programas_por_empresa_SF.shape"
   ]
  },
  {
   "cell_type": "code",
   "execution_count": null,
   "metadata": {
    "notebookRunGroups": {
     "groupValue": "1"
    }
   },
   "outputs": [],
   "source": [
    "# Union de Programas Empresa y empresas\n",
    "Programas_empresas = pd.merge(\n",
    "    left=Empresas_SF,\n",
    "    right=Programas_por_empresa_SF,\n",
    "    how=\"left\",\n",
    "    left_on=\"Id\",\n",
    "    right_on=\"Empresa__c\",\n",
    ")\n",
    "Programas_empresas = Programas_empresas.rename(\n",
    "    columns={\n",
    "        \"Id_x\": \"Id Account Empresa\",\n",
    "        \"Name_x\": \"Nombre Empresa\",\n",
    "        \"Holding__c\": \"Holding\",\n",
    "        \"Campa_a__c\": \"Campaña\",\n",
    "        \"Empleador__c\": \"Empleador\",\n",
    "        \"poliza__c\": \"Poliza\",\n",
    "        \"RUT_Empresa__c\": \"Rut Empresa\",\n",
    "        \"Id_y\": \"Programas_por_Empresas__c\",\n",
    "        \"Id_Empresa__c\": \"Codigo EMP\",\n",
    "        \"Name_y\": \"Codigo A\",\n",
    "    }\n",
    ")\n",
    "Programas_empresas = Programas_empresas[\n",
    "    [\n",
    "        \"Id Account Empresa\",\n",
    "        \"Nombre Empresa\",\n",
    "        \"Holding\",\n",
    "        \"Campaña\",\n",
    "        \"Empleador\",\n",
    "        \"Poliza\",\n",
    "        \"Rut Empresa\",\n",
    "        \"Programas_por_Empresas__c\",\n",
    "        \"Codigo EMP\",\n",
    "        \"Codigo A\",\n",
    "    ]\n",
    "]\n",
    "\n",
    "Programas_empresas.shape"
   ]
  },
  {
   "cell_type": "code",
   "execution_count": null,
   "metadata": {
    "notebookRunGroups": {
     "groupValue": "1"
    }
   },
   "outputs": [],
   "source": [
    "Programas_empresas.to_excel(\"F:/Empresas SF/reportes/empresas.xlsx\", index=False)"
   ]
  },
  {
   "cell_type": "code",
   "execution_count": null,
   "metadata": {
    "notebookRunGroups": {
     "groupValue": "1"
    }
   },
   "outputs": [],
   "source": [
    "query2 = \"select P_liza__c, Nombre_de_Empresa__c,Identificador__c, Rut_Empresa__c, Empresa_Padre__r.Name, Empresa__r.name,Holding__c, Plan__c, Pais__c, Activo__c, Id from Datos_Empresa__c \"\n",
    "\n",
    "df2 = sf.smart_query(query2)\n",
    "df2[\"LLave\"] = df2[\"Rut_Empresa__c\"].str.upper().str.replace(\"-\", \"\") + df2[\"P_liza__c\"]\n",
    "df2[\"dato\"] = 1\n",
    "df2.to_excel(\"F:/Empresas SF/reportes/empresas_nuevas.xlsx\", index=False)\n",
    "df2.head()"
   ]
  },
  {
   "attachments": {},
   "cell_type": "markdown",
   "metadata": {},
   "source": [
    "fin empresas y comienzo de rescate de pacientes\n"
   ]
  },
  {
   "cell_type": "code",
   "execution_count": 168,
   "metadata": {
    "notebookRunGroups": {
     "groupValue": "1"
    }
   },
   "outputs": [
    {
     "data": {
      "text/plain": [
       "(1974602, 10)"
      ]
     },
     "execution_count": 168,
     "metadata": {},
     "output_type": "execute_result"
    }
   ],
   "source": [
    "# CArga de PAcientes\n",
    "results = sf.query_all(\n",
    "    \"\"\"\n",
    "    select Id, IdentificationId__pc,Name, Identification_Type__c, Ocupaci_n__c,  PersonTitle ,PersonDepartment,HealthCloudGA__Gender__pc,Phone,PersonContactId  from Account where ispersonaccount = True \n",
    "   \"\"\"\n",
    ")\n",
    "Pacientes_SF = pd.DataFrame(results[\"records\"])\n",
    "\n",
    "Pacientes_SF = Pacientes_SF[\n",
    "    [\n",
    "        \"Id\",\n",
    "        \"IdentificationId__pc\",\n",
    "        \"Name\",\n",
    "        \"Identification_Type__c\",\n",
    "        \"Ocupaci_n__c\",\n",
    "        \"PersonTitle\",\n",
    "        \"PersonDepartment\",\n",
    "        \"HealthCloudGA__Gender__pc\",\n",
    "        \"Phone\",\n",
    "        \"PersonContactId\",\n",
    "    ]\n",
    "]\n",
    "Pacientes_SF = Pacientes_SF.rename(\n",
    "    columns={\n",
    "        \"Id\": \"Id Account Paciente\",\n",
    "        \"IdentificationId__pc\": \"Rut\",\n",
    "        \"Name\": \"Nombre\",\n",
    "        \"Ocupaci_n__c\": \"Ocupacion\",\n",
    "        \"PersonTitle\": \"Cargo\",\n",
    "        \"PersonDepartment\": \"Departamento\",\n",
    "        \"HealthCloudGA__Gender__pc\": \"Sexo\",\n",
    "        \"Phone\": \"Telefono\",\n",
    "        \"Identification_Type__c\": \"Tipo de Documento\",\n",
    "        \"PersonContactId\": \"Id Contacto\",\n",
    "    }\n",
    ")\n",
    "Pacientes_SF.shape"
   ]
  },
  {
   "cell_type": "code",
   "execution_count": 169,
   "metadata": {
    "notebookRunGroups": {
     "groupValue": "1"
    }
   },
   "outputs": [],
   "source": [
    "def siPrimerCero(y):\n",
    "    if len(y) <= 4:\n",
    "        return \"NONE\"\n",
    "    if y[0] == \"0\":\n",
    "        y = y[1:]\n",
    "    return y"
   ]
  },
  {
   "cell_type": "code",
   "execution_count": 170,
   "metadata": {
    "notebookRunGroups": {
     "groupValue": "1"
    }
   },
   "outputs": [
    {
     "name": "stderr",
     "output_type": "stream",
     "text": [
      "C:\\Users\\jmartinez\\AppData\\Local\\Temp\\ipykernel_8492\\928634061.py:6: FutureWarning: The default value of regex will change from True to False in a future version. In addition, single character regular expressions will *not* be treated as literal strings when regex=True.\n",
      "  Pacientes_SF[\"Rut\"] = Pacientes_SF[\"Rut\"].str.replace(\".\", \"\")\n"
     ]
    }
   ],
   "source": [
    "Pacientes_SF[\"Rut\"] = Pacientes_SF[\"Rut\"].astype(str)\n",
    "Pacientes_SF[\"Rut\"] = Pacientes_SF[\"Rut\"].str.upper()\n",
    "Pacientes_SF[\"Rut\"] = Pacientes_SF[\"Rut\"].str.replace(\"-\", \"\")\n",
    "Pacientes_SF[\"Rut\"] = Pacientes_SF[\"Rut\"].str.replace(\"–\", \"\")\n",
    "Pacientes_SF[\"Rut\"] = Pacientes_SF[\"Rut\"].astype(str)\n",
    "Pacientes_SF[\"Rut\"] = Pacientes_SF[\"Rut\"].str.replace(\".\", \"\")\n",
    "Pacientes_SF[\"Rut\"] = Pacientes_SF[\"Rut\"].apply(lambda y: siPrimerCero(y))\n",
    "Pacientes_SF[\"Rut\"] = Pacientes_SF[\"Rut\"].str.strip()"
   ]
  },
  {
   "cell_type": "code",
   "execution_count": 171,
   "metadata": {
    "notebookRunGroups": {
     "groupValue": "1"
    }
   },
   "outputs": [],
   "source": [
    "Pacientes_Nones1 = Pacientes_SF[(Pacientes_SF[\"Rut\"] == \"NONE\")]\n",
    "Pacientes_SF = Pacientes_SF[(Pacientes_SF[\"Rut\"] != \"NONE\")]\n",
    "Pacientes_Nones1.to_excel(\"F:/Empresas SF/reportes/NONE1.xlsx\", index=False)"
   ]
  },
  {
   "attachments": {},
   "cell_type": "markdown",
   "metadata": {},
   "source": [
    "Aca se comienzan a unir las relaciones de pacientes y empresas ya creadas.\n"
   ]
  },
  {
   "cell_type": "markdown",
   "metadata": {
    "notebookRunGroups": {
     "groupValue": "1"
    }
   },
   "source": [
    "# buscar empresas desde Paciente_Programas\\_\\_c relaciones de empresas con pacientes\n",
    "\n",
    "results = sf.query_all(\n",
    "\"\"\"\n",
    "select Id,Paciente**c, Programas_por_Empresas**c,padre**c from Paciente_Programas**c  \n",
    " \"\"\"\n",
    ")\n",
    "Paciente_Programas_SF = pd.DataFrame(results[\"records\"])\n",
    "\n",
    "Paciente_Programas_SF = Paciente_Programas_SF[\n",
    "[\"Id\", \"Paciente__c\", \"Programas_por_Empresas__c\", \"padre__c\"]\n",
    "]\n",
    "Paciente_Programas_SF = Paciente_Programas_SF.rename(\n",
    "columns={\n",
    "\"Id\": \"Id Pacientes_Programas**c\",\n",
    "\"Paciente**c\": \"Id Account\",\n",
    "\"Programas_por_Empresas**c\": \"Programas_por_Empresas**c\",\n",
    "\"padre\\_\\_c\": \"Nombre Campaña\",\n",
    "}\n",
    ")\n",
    "Paciente_Programas_SF.shape\n"
   ]
  },
  {
   "cell_type": "markdown",
   "metadata": {
    "notebookRunGroups": {
     "groupValue": "1"
    }
   },
   "source": [
    "# Union de Pacientes Programas y Programas por empresa\n",
    "\n",
    "empresas_unidas = pd.merge(\n",
    "left=Paciente_Programas_SF,\n",
    "right=Programas_empresas,\n",
    "how=\"left\",\n",
    "left_on=\"Programas_por_Empresas**c\",\n",
    "right_on=\"Programas_por_Empresas**c\",\n",
    ")\n",
    "empresas_unidas.shape\n"
   ]
  },
  {
   "attachments": {},
   "cell_type": "markdown",
   "metadata": {},
   "source": [
    "Carga de Archivo carga\n"
   ]
  },
  {
   "cell_type": "code",
   "execution_count": 172,
   "metadata": {
    "notebookRunGroups": {
     "groupValue": "2"
    }
   },
   "outputs": [
    {
     "data": {
      "text/html": [
       "<div>\n",
       "<style scoped>\n",
       "    .dataframe tbody tr th:only-of-type {\n",
       "        vertical-align: middle;\n",
       "    }\n",
       "\n",
       "    .dataframe tbody tr th {\n",
       "        vertical-align: top;\n",
       "    }\n",
       "\n",
       "    .dataframe thead th {\n",
       "        text-align: right;\n",
       "    }\n",
       "</style>\n",
       "<table border=\"1\" class=\"dataframe\">\n",
       "  <thead>\n",
       "    <tr style=\"text-align: right;\">\n",
       "      <th></th>\n",
       "      <th>poliza</th>\n",
       "      <th>Rut Contratante</th>\n",
       "      <th>Dv Contratante</th>\n",
       "      <th>rutEc</th>\n",
       "      <th>Nombre Contratante</th>\n",
       "      <th>Rut Filial</th>\n",
       "      <th>Dv Filial</th>\n",
       "      <th>rutE</th>\n",
       "      <th>empleador</th>\n",
       "      <th>Rut Titular</th>\n",
       "      <th>...</th>\n",
       "      <th>Dv Asegurado</th>\n",
       "      <th>rut1</th>\n",
       "      <th>Parentesco</th>\n",
       "      <th>nombres</th>\n",
       "      <th>apellidos</th>\n",
       "      <th>nacimiento</th>\n",
       "      <th>sexo</th>\n",
       "      <th>Inicio Vigencia</th>\n",
       "      <th>Termino Vigencia</th>\n",
       "      <th>email</th>\n",
       "    </tr>\n",
       "  </thead>\n",
       "  <tbody>\n",
       "    <tr>\n",
       "      <th>0</th>\n",
       "      <td>282234</td>\n",
       "      <td>93270000</td>\n",
       "      <td>K</td>\n",
       "      <td>93270000-K</td>\n",
       "      <td>UNISYS SUDAMERICANA CORPORATION</td>\n",
       "      <td>93270000</td>\n",
       "      <td>K</td>\n",
       "      <td>93270000-K</td>\n",
       "      <td>UNISYS SUDAMERICANA CORPORATION</td>\n",
       "      <td>10256982</td>\n",
       "      <td>...</td>\n",
       "      <td>2</td>\n",
       "      <td>10256982-2</td>\n",
       "      <td>TITULAR</td>\n",
       "      <td>ALFONSO ANTONIO</td>\n",
       "      <td>LÓPEZ CAMPOS</td>\n",
       "      <td>1968-08-14</td>\n",
       "      <td>M</td>\n",
       "      <td>45108</td>\n",
       "      <td>45473</td>\n",
       "      <td>ALOPEZ_CAMPOS@HOTMAIL.COM</td>\n",
       "    </tr>\n",
       "    <tr>\n",
       "      <th>1</th>\n",
       "      <td>282234</td>\n",
       "      <td>93270000</td>\n",
       "      <td>K</td>\n",
       "      <td>93270000-K</td>\n",
       "      <td>UNISYS SUDAMERICANA CORPORATION</td>\n",
       "      <td>93270000</td>\n",
       "      <td>K</td>\n",
       "      <td>93270000-K</td>\n",
       "      <td>UNISYS SUDAMERICANA CORPORATION</td>\n",
       "      <td>10256982</td>\n",
       "      <td>...</td>\n",
       "      <td>6</td>\n",
       "      <td>11264950-6</td>\n",
       "      <td>CÓNYUGE</td>\n",
       "      <td>LAURENTINA</td>\n",
       "      <td>URREJOLA VALDES</td>\n",
       "      <td>1968-08-27</td>\n",
       "      <td>F</td>\n",
       "      <td>45108</td>\n",
       "      <td>45473</td>\n",
       "      <td>NaN</td>\n",
       "    </tr>\n",
       "    <tr>\n",
       "      <th>2</th>\n",
       "      <td>282234</td>\n",
       "      <td>93270000</td>\n",
       "      <td>K</td>\n",
       "      <td>93270000-K</td>\n",
       "      <td>UNISYS SUDAMERICANA CORPORATION</td>\n",
       "      <td>93270000</td>\n",
       "      <td>K</td>\n",
       "      <td>93270000-K</td>\n",
       "      <td>UNISYS SUDAMERICANA CORPORATION</td>\n",
       "      <td>10403640</td>\n",
       "      <td>...</td>\n",
       "      <td>6</td>\n",
       "      <td>10403640-6</td>\n",
       "      <td>TITULAR</td>\n",
       "      <td>STUVER EDUARDO</td>\n",
       "      <td>CAÑETE LATAPIAT</td>\n",
       "      <td>1966-09-30</td>\n",
       "      <td>M</td>\n",
       "      <td>45108</td>\n",
       "      <td>45473</td>\n",
       "      <td>STUVER.CANETE@CL.UNISYS.COM</td>\n",
       "    </tr>\n",
       "    <tr>\n",
       "      <th>3</th>\n",
       "      <td>282234</td>\n",
       "      <td>93270000</td>\n",
       "      <td>K</td>\n",
       "      <td>93270000-K</td>\n",
       "      <td>UNISYS SUDAMERICANA CORPORATION</td>\n",
       "      <td>93270000</td>\n",
       "      <td>K</td>\n",
       "      <td>93270000-K</td>\n",
       "      <td>UNISYS SUDAMERICANA CORPORATION</td>\n",
       "      <td>10403640</td>\n",
       "      <td>...</td>\n",
       "      <td>0</td>\n",
       "      <td>22193547-0</td>\n",
       "      <td>HIJO</td>\n",
       "      <td>NICOLAS STUVER</td>\n",
       "      <td>CAÑETE ARRE</td>\n",
       "      <td>2006-08-21</td>\n",
       "      <td>M</td>\n",
       "      <td>45108</td>\n",
       "      <td>45473</td>\n",
       "      <td>NaN</td>\n",
       "    </tr>\n",
       "    <tr>\n",
       "      <th>4</th>\n",
       "      <td>282234</td>\n",
       "      <td>93270000</td>\n",
       "      <td>K</td>\n",
       "      <td>93270000-K</td>\n",
       "      <td>UNISYS SUDAMERICANA CORPORATION</td>\n",
       "      <td>93270000</td>\n",
       "      <td>K</td>\n",
       "      <td>93270000-K</td>\n",
       "      <td>UNISYS SUDAMERICANA CORPORATION</td>\n",
       "      <td>10403640</td>\n",
       "      <td>...</td>\n",
       "      <td>2</td>\n",
       "      <td>20857699-2</td>\n",
       "      <td>HIJO</td>\n",
       "      <td>ANTONIA PAZ</td>\n",
       "      <td>CAÑETE ARRE</td>\n",
       "      <td>2021-10-10</td>\n",
       "      <td>F</td>\n",
       "      <td>45108</td>\n",
       "      <td>45473</td>\n",
       "      <td>NaN</td>\n",
       "    </tr>\n",
       "  </tbody>\n",
       "</table>\n",
       "<p>5 rows × 23 columns</p>\n",
       "</div>"
      ],
      "text/plain": [
       "   poliza  Rut Contratante Dv Contratante       rutEc  \\\n",
       "0  282234         93270000              K  93270000-K   \n",
       "1  282234         93270000              K  93270000-K   \n",
       "2  282234         93270000              K  93270000-K   \n",
       "3  282234         93270000              K  93270000-K   \n",
       "4  282234         93270000              K  93270000-K   \n",
       "\n",
       "                Nombre Contratante  Rut Filial Dv Filial        rutE  \\\n",
       "0  UNISYS SUDAMERICANA CORPORATION    93270000         K  93270000-K   \n",
       "1  UNISYS SUDAMERICANA CORPORATION    93270000         K  93270000-K   \n",
       "2  UNISYS SUDAMERICANA CORPORATION    93270000         K  93270000-K   \n",
       "3  UNISYS SUDAMERICANA CORPORATION    93270000         K  93270000-K   \n",
       "4  UNISYS SUDAMERICANA CORPORATION    93270000         K  93270000-K   \n",
       "\n",
       "                         empleador  Rut Titular  ... Dv Asegurado        rut1  \\\n",
       "0  UNISYS SUDAMERICANA CORPORATION     10256982  ...            2  10256982-2   \n",
       "1  UNISYS SUDAMERICANA CORPORATION     10256982  ...            6  11264950-6   \n",
       "2  UNISYS SUDAMERICANA CORPORATION     10403640  ...            6  10403640-6   \n",
       "3  UNISYS SUDAMERICANA CORPORATION     10403640  ...            0  22193547-0   \n",
       "4  UNISYS SUDAMERICANA CORPORATION     10403640  ...            2  20857699-2   \n",
       "\n",
       "   Parentesco          nombres        apellidos nacimiento sexo  \\\n",
       "0     TITULAR  ALFONSO ANTONIO     LÓPEZ CAMPOS 1968-08-14    M   \n",
       "1     CÓNYUGE       LAURENTINA  URREJOLA VALDES 1968-08-27    F   \n",
       "2     TITULAR   STUVER EDUARDO  CAÑETE LATAPIAT 1966-09-30    M   \n",
       "3        HIJO   NICOLAS STUVER      CAÑETE ARRE 2006-08-21    M   \n",
       "4        HIJO      ANTONIA PAZ      CAÑETE ARRE 2021-10-10    F   \n",
       "\n",
       "  Inicio Vigencia Termino Vigencia                        email  \n",
       "0           45108            45473    ALOPEZ_CAMPOS@HOTMAIL.COM  \n",
       "1           45108            45473                          NaN  \n",
       "2           45108            45473  STUVER.CANETE@CL.UNISYS.COM  \n",
       "3           45108            45473                          NaN  \n",
       "4           45108            45473                          NaN  \n",
       "\n",
       "[5 rows x 23 columns]"
      ]
     },
     "execution_count": 172,
     "metadata": {},
     "output_type": "execute_result"
    }
   ],
   "source": [
    "#nuevos = \"F:/Empresas SF/reportes/SFTP.xlsx\"\n",
    "#nuevos = \"F:/Cargas Base Datos CRM/MetLife/General (Servidor Interno)/CUADRATURA/Meses/Metlife 040324.xlsx\"\n",
    "nuevos = \"F:/Empresas SF/reportes/carga.xlsx\"\n",
    "campaña = \"Vida Security\"\n",
    "Pais = \"Chile\"\n",
    "baseFinal = True\n",
    "#Pais = \"México\"\n",
    "\n",
    "Pacientes_Archivo = pd.read_excel(nuevos)\n",
    "# OJO se copia rut1 a rut le saca el guoion\n",
    "Pacientes_Archivo.head(5)"
   ]
  },
  {
   "cell_type": "code",
   "execution_count": 173,
   "metadata": {
    "notebookRunGroups": {
     "groupValue": "2"
    }
   },
   "outputs": [
    {
     "data": {
      "text/plain": [
       "(682, 23)"
      ]
     },
     "execution_count": 173,
     "metadata": {},
     "output_type": "execute_result"
    }
   ],
   "source": [
    "Pacientes_Archivo.shape"
   ]
  },
  {
   "cell_type": "code",
   "execution_count": 174,
   "metadata": {
    "notebookRunGroups": {
     "groupValue": "2"
    }
   },
   "outputs": [],
   "source": [
    "Pacientes_IDrut = Pacientes_SF[\n",
    "    [\n",
    "        \"Rut\",\n",
    "        \"Id Account Paciente\",\n",
    "        #\"Id Contacto\",\n",
    "    ]\n",
    "]"
   ]
  },
  {
   "cell_type": "code",
   "execution_count": 175,
   "metadata": {
    "notebookRunGroups": {
     "groupValue": "2"
    }
   },
   "outputs": [
    {
     "name": "stderr",
     "output_type": "stream",
     "text": [
      "C:\\Users\\jmartinez\\AppData\\Local\\Temp\\ipykernel_8492\\1490231206.py:5: FutureWarning: The default value of regex will change from True to False in a future version. In addition, single character regular expressions will *not* be treated as literal strings when regex=True.\n",
      "  Pacientes_Archivo[\"rut\"] = Pacientes_Archivo[\"rut\"].str.replace(\".\", \"\")\n",
      "C:\\Users\\jmartinez\\AppData\\Local\\Temp\\ipykernel_8492\\1490231206.py:14: FutureWarning: The default value of regex will change from True to False in a future version. In addition, single character regular expressions will *not* be treated as literal strings when regex=True.\n",
      "  Pacientes_Archivo[\"poliza\"] = Pacientes_Archivo[\"poliza\"].str.replace(\".\", \"\")\n",
      "C:\\Users\\jmartinez\\AppData\\Local\\Temp\\ipykernel_8492\\1490231206.py:24: FutureWarning: The default value of regex will change from True to False in a future version. In addition, single character regular expressions will *not* be treated as literal strings when regex=True.\n",
      "  Pacientes_Archivo[\"rutE\"] = Pacientes_Archivo[\"rutE\"].str.replace(\".\", \"\")\n"
     ]
    },
    {
     "data": {
      "text/plain": [
       "(682, 24)"
      ]
     },
     "execution_count": 175,
     "metadata": {},
     "output_type": "execute_result"
    }
   ],
   "source": [
    "Pacientes_Archivo[\"rut\"] = Pacientes_Archivo[\"rut1\"].astype(str)\n",
    "Pacientes_Archivo[\"rut\"] = Pacientes_Archivo[\"rut\"].str.replace(\"-\", \"\")\n",
    "Pacientes_Archivo[\"rut\"] = Pacientes_Archivo[\"rut\"].str.replace(\"–\", \"\")\n",
    "Pacientes_Archivo[\"rut\"] = Pacientes_Archivo[\"rut\"].astype(str)\n",
    "Pacientes_Archivo[\"rut\"] = Pacientes_Archivo[\"rut\"].str.replace(\".\", \"\")\n",
    "Pacientes_Archivo[\"rut\"] = Pacientes_Archivo[\"rut\"].str.replace(\" \", \"\")\n",
    "Pacientes_Archivo[\"rut\"] = Pacientes_Archivo[\"rut\"].str.upper()\n",
    "Pacientes_Archivo[\"rut\"] = Pacientes_Archivo[\"rut\"].str.strip()\n",
    "\n",
    "Pacientes_Archivo[\"poliza\"] = Pacientes_Archivo[\"poliza\"].astype(str)\n",
    "Pacientes_Archivo[\"poliza\"] = Pacientes_Archivo[\"poliza\"].str.replace(\"-\", \"\")\n",
    "Pacientes_Archivo[\"poliza\"] = Pacientes_Archivo[\"poliza\"].str.replace(\"–\", \"\")\n",
    "Pacientes_Archivo[\"poliza\"] = Pacientes_Archivo[\"poliza\"].astype(str)\n",
    "Pacientes_Archivo[\"poliza\"] = Pacientes_Archivo[\"poliza\"].str.replace(\".\", \"\")\n",
    "Pacientes_Archivo[\"poliza\"] = Pacientes_Archivo[\"poliza\"].str.replace(\" \", \"\")\n",
    "Pacientes_Archivo[\"poliza\"] = Pacientes_Archivo[\"poliza\"].str.upper()\n",
    "Pacientes_Archivo[\"poliza\"] = Pacientes_Archivo[\"poliza\"].str.strip()\n",
    "Pacientes_Archivo.shape\n",
    "\n",
    "Pacientes_Archivo[\"rutE\"] = Pacientes_Archivo[\"rutE\"].astype(str)\n",
    "Pacientes_Archivo[\"rutE\"] = Pacientes_Archivo[\"rutE\"].str.upper()\n",
    "Pacientes_Archivo[\"rutE\"] = Pacientes_Archivo[\"rutE\"].str.replace(\"-\", \"\")\n",
    "Pacientes_Archivo[\"rutE\"] = Pacientes_Archivo[\"rutE\"].str.replace(\"–\", \"\")\n",
    "Pacientes_Archivo[\"rutE\"] = Pacientes_Archivo[\"rutE\"].str.replace(\".\", \"\")\n",
    "Pacientes_Archivo[\"rutE\"] = Pacientes_Archivo[\"rutE\"].str.strip()\n",
    "Pacientes_Archivo.shape"
   ]
  },
  {
   "cell_type": "code",
   "execution_count": 176,
   "metadata": {
    "notebookRunGroups": {
     "groupValue": "2"
    }
   },
   "outputs": [
    {
     "name": "stderr",
     "output_type": "stream",
     "text": [
      "C:\\Users\\jmartinez\\AppData\\Local\\Temp\\ipykernel_8492\\2296516763.py:5: FutureWarning: The default value of regex will change from True to False in a future version. In addition, single character regular expressions will *not* be treated as literal strings when regex=True.\n",
      "  Pacientes_Archivo[\"rutT\"] = Pacientes_Archivo[\"rutT\"].str.replace(\".\", \"\")\n"
     ]
    },
    {
     "data": {
      "text/plain": [
       "(682, 25)"
      ]
     },
     "execution_count": 176,
     "metadata": {},
     "output_type": "execute_result"
    }
   ],
   "source": [
    "Pacientes_Archivo[\"rutT\"] = Pacientes_Archivo[\"rut2\"].astype(str)\n",
    "Pacientes_Archivo[\"rutT\"] = Pacientes_Archivo[\"rutT\"].str.replace(\"-\", \"\")\n",
    "Pacientes_Archivo[\"rutT\"] = Pacientes_Archivo[\"rutT\"].str.replace(\"–\", \"\")\n",
    "Pacientes_Archivo[\"rutT\"] = Pacientes_Archivo[\"rutT\"].astype(str)\n",
    "Pacientes_Archivo[\"rutT\"] = Pacientes_Archivo[\"rutT\"].str.replace(\".\", \"\")\n",
    "Pacientes_Archivo[\"rut\"] = Pacientes_Archivo[\"rut\"].str.replace(\" \", \"\")\n",
    "Pacientes_Archivo[\"rutT\"] = Pacientes_Archivo[\"rutT\"].str.upper()\n",
    "Pacientes_Archivo[\"rutT\"] = Pacientes_Archivo[\"rutT\"].str.strip()\n",
    "Pacientes_Archivo.shape"
   ]
  },
  {
   "cell_type": "code",
   "execution_count": 177,
   "metadata": {
    "notebookRunGroups": {
     "groupValue": "2"
    }
   },
   "outputs": [
    {
     "name": "stderr",
     "output_type": "stream",
     "text": [
      "C:\\Users\\jmartinez\\AppData\\Local\\Temp\\ipykernel_8492\\3410721566.py:3: FutureWarning: The default value of regex will change from True to False in a future version. In addition, single character regular expressions will *not* be treated as literal strings when regex=True.\n",
      "  Pacientes_Archivo[\"nombres\"] = Pacientes_Archivo[\"nombres\"].str.replace(\".\", \"\")\n",
      "C:\\Users\\jmartinez\\AppData\\Local\\Temp\\ipykernel_8492\\3410721566.py:13: FutureWarning: The default value of regex will change from True to False in a future version. In addition, single character regular expressions will *not* be treated as literal strings when regex=True.\n",
      "  Pacientes_Archivo[\"apellidos\"] = Pacientes_Archivo[\"apellidos\"].str.replace(\".\", \"\")\n"
     ]
    }
   ],
   "source": [
    "if (\"nombres\" in Pacientes_Archivo.columns) == True:\n",
    "    Pacientes_Archivo[\"nombres\"] = Pacientes_Archivo[\"nombres\"].str.replace(\",\", \"\")\n",
    "    Pacientes_Archivo[\"nombres\"] = Pacientes_Archivo[\"nombres\"].str.replace(\".\", \"\")\n",
    "    Pacientes_Archivo[\"nombres\"] = Pacientes_Archivo[\"nombres\"].str.replace(\"-\", \"\")\n",
    "    Pacientes_Archivo[\"nombres\"] = Pacientes_Archivo[\"nombres\"].str.replace(\"┐\", \"\")\n",
    "    Pacientes_Archivo[\"nombres\"] = Pacientes_Archivo[\"nombres\"].str.replace(\"═\", \"\")\n",
    "    Pacientes_Archivo[\"nombres\"] = Pacientes_Archivo[\"nombres\"].str.replace(\"╔\", \"\")\n",
    "    Pacientes_Archivo[\"nombres\"] = Pacientes_Archivo[\"nombres\"].str.replace(\"┌\", \"\")\n",
    "    Pacientes_Archivo[\"nombres\"] = Pacientes_Archivo[\"nombres\"].str.title()\n",
    "    Pacientes_Archivo[\"nombres\"] = Pacientes_Archivo[\"nombres\"].str.strip()\n",
    "    # Pacientes_Archivo[\"empresa\"] = Pacientes_Archivo[\"empresa\"].str.title()\n",
    "    Pacientes_Archivo[\"apellidos\"] = Pacientes_Archivo[\"apellidos\"].str.replace(\",\", \"\")\n",
    "    Pacientes_Archivo[\"apellidos\"] = Pacientes_Archivo[\"apellidos\"].str.replace(\".\", \"\")\n",
    "    Pacientes_Archivo[\"apellidos\"] = Pacientes_Archivo[\"apellidos\"].str.replace(\"-\", \"\")\n",
    "    Pacientes_Archivo[\"apellidos\"] = Pacientes_Archivo[\"apellidos\"].str.replace(\"┐\", \"\")\n",
    "    Pacientes_Archivo[\"apellidos\"] = Pacientes_Archivo[\"apellidos\"].str.replace(\"═\", \"\")\n",
    "    Pacientes_Archivo[\"apellidos\"] = Pacientes_Archivo[\"apellidos\"].str.replace(\"╔\", \"\")\n",
    "    Pacientes_Archivo[\"apellidos\"] = Pacientes_Archivo[\"apellidos\"].str.replace(\"┌\", \"\")\n",
    "    Pacientes_Archivo[\"apellidos\"] = Pacientes_Archivo[\"apellidos\"].str.title()\n",
    "    Pacientes_Archivo[\"apellidos\"] = Pacientes_Archivo[\"apellidos\"].str.strip()"
   ]
  },
  {
   "cell_type": "code",
   "execution_count": 178,
   "metadata": {
    "notebookRunGroups": {
     "groupValue": "2"
    }
   },
   "outputs": [],
   "source": [
    "Pacientes_Archivo[\"rut\"] = Pacientes_Archivo[\"rut\"].apply(lambda y: siPrimerCero(y))\n",
    "Pacientes_Archivo[\"rutT\"] = Pacientes_Archivo[\"rutT\"].apply(lambda y: siPrimerCero(y))\n",
    "#Pacientes_Archivo\n",
    "\n",
    "# Pacientes_Nones = Pacientes_Archivo[(Pacientes_Archivo[\"rut\"] == \"NONE\") | (Pacientes_Archivo[\"rutT\"] == \"NONE\")]\n",
    "# Pacientes_Archivo = Pacientes_Archivo[(Pacientes_Archivo[\"rut\"] != \"NONE\") | (Pacientes_Archivo[\"rutT\"] != \"NONE\")]"
   ]
  },
  {
   "cell_type": "code",
   "execution_count": null,
   "metadata": {},
   "outputs": [],
   "source": [
    "# Pacientes_Archivo.to_excel(\"F:/Empresas SF/reportes/Pacientes_Archivo22.xlsx\", index=False)"
   ]
  },
  {
   "cell_type": "code",
   "execution_count": 179,
   "metadata": {
    "notebookRunGroups": {
     "groupValue": "2"
    }
   },
   "outputs": [],
   "source": [
    "Pacientes_Archivo = Pacientes_Archivo[(Pacientes_Archivo[\"rut\"] != \"NONE\")]\n",
    "Pacientes_Archivo = Pacientes_Archivo[(Pacientes_Archivo[\"rutT\"] != \"NONE\")]\n",
    "# | (Pacientes_Archivo[\"rutT\"] != \"NONE\")\n"
   ]
  },
  {
   "cell_type": "code",
   "execution_count": null,
   "metadata": {},
   "outputs": [],
   "source": [
    "Pacientes_Archivo[\"Llave\"] = Pacientes_Archivo[\"rutT\"] + Pacientes_Archivo[\"rut\"]\n",
    "Pacientes_Archivo[\"PolizaLlave\"] = Pacientes_Archivo[\"poliza\"] +  Pacientes_Archivo[\"rutT\"] + Pacientes_Archivo[\"rut\"]\n",
    "\n",
    "#Pacientes_Archivo.to_excel(\"F:/Empresas SF/reportes/eliminar2.xlsx\", index=False)"
   ]
  },
  {
   "cell_type": "markdown",
   "metadata": {},
   "source": [
    "PAcientes Programas\n"
   ]
  },
  {
   "cell_type": "code",
   "execution_count": null,
   "metadata": {
    "notebookRunGroups": {
     "groupValue": ""
    }
   },
   "outputs": [],
   "source": [
    "\"\"\" query_pacientePrograma = (\n",
    "    \"SELECT Paciente__c,Programas_por_Empresas__r.Empresa__c,Paciente__r.IdentificationId__pc,Id from Paciente_Programas__c where padre__c =  '\"\n",
    "    + campaña\n",
    "    + \"'\"\n",
    ")\n",
    "pacientePrograma = sf.smart_query(query_pacientePrograma)\n",
    "pacientePrograma.head()\n",
    "pacientePrograma = pacientePrograma.rename(\n",
    "    columns={\n",
    "        \"Id\": \"Id Paciente Programas\",\n",
    "        \"Paciente__r.IdentificationId__pc\": \"Rut\",\n",
    "        \"Programas_por_Empresas__r.Empresa__c\": \"Id Account Empleador\",\n",
    "        \"Paciente__c\": \"Id Account Paciente\",\n",
    "    }\n",
    ")\n",
    "pacientePrograma.head()\n",
    "pacientePrograma[\"Rut\"] = pacientePrograma[\"Rut\"].astype(str)\n",
    "pacientePrograma[\"Rut\"] = pacientePrograma[\"Rut\"].str.replace(\"-\", \"\")\n",
    "pacientePrograma[\"Rut\"] = pacientePrograma[\"Rut\"].str.replace(\"–\", \"\")\n",
    "pacientePrograma[\"Rut\"] = pacientePrograma[\"Rut\"].astype(str)\n",
    "pacientePrograma[\"Rut\"] = pacientePrograma[\"Rut\"].str.replace(\".\", \"\")\n",
    "pacientePrograma[\"Rut\"] = pacientePrograma[\"Rut\"].str.upper()\n",
    "pacientePrograma[\"Rut\"] = pacientePrograma[\"Rut\"].str.strip()\n",
    "pacientePrograma.shape\n",
    "PacientesProgramas_PacientesSF = pd.merge(\n",
    "    left=pacientePrograma,\n",
    "    right=Pacientes_IDrut,\n",
    "    how=\"left\",\n",
    "    left_on=\"Id Account Paciente\",\n",
    "    right_on=\"Id Account Paciente\",\n",
    ")\n",
    "\n",
    "PacientesProgramas_PacientesSF.head() \"\"\""
   ]
  },
  {
   "cell_type": "markdown",
   "metadata": {},
   "source": [
    "account contact relation\n"
   ]
  },
  {
   "cell_type": "code",
   "execution_count": null,
   "metadata": {
    "notebookRunGroups": {
     "groupValue": ""
    }
   },
   "outputs": [],
   "source": [
    "\"\"\" query_accountContact = (\n",
    "    \"select Id,ContactId, AccountId, RutContact__c ,Contact.AccountId from AccountContactRelation where Account.Campa_a__c = '\"\n",
    "    + campaña\n",
    "    + \"'\"\n",
    ")\n",
    "accountContactRelation = sf.smart_query(query_accountContact)\n",
    "accountContactRelation.head()\n",
    "accountContactRelation = accountContactRelation.rename(\n",
    "    columns={\n",
    "        \"Id\": \"Id AccountContactRelation\",\n",
    "        \"ContactId\": \"Id Contact Paciente\",\n",
    "        \"AccountId\": \"Id Account Empresa\",\n",
    "        \"RutContact__c\": \"Rut\",\n",
    "        \"Contact.AccountId\": \"Id Account Paciente\",\n",
    "    }\n",
    ")\n",
    "accountContactRelation.head()\n",
    "accountContactRelation[\"Rut\"] = accountContactRelation[\"Rut\"].astype(str)\n",
    "accountContactRelation[\"Rut\"] = accountContactRelation[\"Rut\"].str.replace(\"-\", \"\")\n",
    "accountContactRelation[\"Rut\"] = accountContactRelation[\"Rut\"].str.replace(\"–\", \"\")\n",
    "accountContactRelation[\"Rut\"] = accountContactRelation[\"Rut\"].astype(str)\n",
    "accountContactRelation[\"Rut\"] = accountContactRelation[\"Rut\"].str.replace(\".\", \"\")\n",
    "accountContactRelation[\"Rut\"] = accountContactRelation[\"Rut\"].str.upper()\n",
    "accountContactRelation[\"Rut\"] = accountContactRelation[\"Rut\"].str.strip()\n",
    "accountContactRelation.shape\n",
    "AccountContact_PacientesSF = pd.merge(\n",
    "    left=accountContactRelation,\n",
    "    right=Pacientes_IDrut,\n",
    "    how=\"left\",\n",
    "    left_on=\"Id Account Paciente\",\n",
    "    right_on=\"Id Account Paciente\",\n",
    ")\n",
    "AccountContact_PacientesSF.head() \"\"\""
   ]
  },
  {
   "cell_type": "markdown",
   "metadata": {},
   "source": [
    "empresa contacto convenio\n"
   ]
  },
  {
   "cell_type": "code",
   "execution_count": 180,
   "metadata": {
    "notebookRunGroups": {
     "groupValue": "2"
    }
   },
   "outputs": [
    {
     "name": "stderr",
     "output_type": "stream",
     "text": [
      "100%|██████████| 1/1 [00:12<00:00, 13.00s/it]\n"
     ]
    },
    {
     "data": {
      "text/html": [
       "<div>\n",
       "<style scoped>\n",
       "    .dataframe tbody tr th:only-of-type {\n",
       "        vertical-align: middle;\n",
       "    }\n",
       "\n",
       "    .dataframe tbody tr th {\n",
       "        vertical-align: top;\n",
       "    }\n",
       "\n",
       "    .dataframe thead th {\n",
       "        text-align: right;\n",
       "    }\n",
       "</style>\n",
       "<table border=\"1\" class=\"dataframe\">\n",
       "  <thead>\n",
       "    <tr style=\"text-align: right;\">\n",
       "      <th></th>\n",
       "      <th>Id</th>\n",
       "      <th>Paciente__r.IdentificationId__pc</th>\n",
       "      <th>Empresa__r.P_liza__c</th>\n",
       "      <th>Empresa__r.Rut_Empresa__c</th>\n",
       "      <th>Empresa__c</th>\n",
       "      <th>Paciente__c</th>\n",
       "      <th>N_Documento_Titular__c</th>\n",
       "      <th>Relaci_n_Con_Asegurado__c</th>\n",
       "      <th>Identificador__c</th>\n",
       "    </tr>\n",
       "  </thead>\n",
       "  <tbody>\n",
       "    <tr>\n",
       "      <th>0</th>\n",
       "      <td>a40RN0000017pWfYAI</td>\n",
       "      <td>140569860</td>\n",
       "      <td>281988</td>\n",
       "      <td>92805000-9</td>\n",
       "      <td>a3yRN0000006rGdYAI</td>\n",
       "      <td>0018c00002bK50NAAS</td>\n",
       "      <td>140569860</td>\n",
       "      <td>Titular</td>\n",
       "      <td>ABB S.A.</td>\n",
       "    </tr>\n",
       "    <tr>\n",
       "      <th>1</th>\n",
       "      <td>a40RN0000018bTQYAY</td>\n",
       "      <td>249097608</td>\n",
       "      <td>281988</td>\n",
       "      <td>92805000-9</td>\n",
       "      <td>a3yRN0000006rGdYAI</td>\n",
       "      <td>0018c00002bJhZhAAK</td>\n",
       "      <td>130203264</td>\n",
       "      <td>Carga</td>\n",
       "      <td>ABB S.A.</td>\n",
       "    </tr>\n",
       "    <tr>\n",
       "      <th>2</th>\n",
       "      <td>a40RN0000018bTRYAY</td>\n",
       "      <td>224585195</td>\n",
       "      <td>281988</td>\n",
       "      <td>92805000-9</td>\n",
       "      <td>a3yRN0000006rGdYAI</td>\n",
       "      <td>0018c00002bIKr0AAG</td>\n",
       "      <td>130203264</td>\n",
       "      <td>Carga</td>\n",
       "      <td>ABB S.A.</td>\n",
       "    </tr>\n",
       "    <tr>\n",
       "      <th>3</th>\n",
       "      <td>a40RN0000018bTSYAY</td>\n",
       "      <td>130490034</td>\n",
       "      <td>281988</td>\n",
       "      <td>92805000-9</td>\n",
       "      <td>a3yRN0000006rGdYAI</td>\n",
       "      <td>0018c00002bK1vhAAC</td>\n",
       "      <td>130490034</td>\n",
       "      <td>Titular</td>\n",
       "      <td>ABB S.A.</td>\n",
       "    </tr>\n",
       "    <tr>\n",
       "      <th>4</th>\n",
       "      <td>a40RN0000018bTTYAY</td>\n",
       "      <td>21700456K</td>\n",
       "      <td>281988</td>\n",
       "      <td>92805000-9</td>\n",
       "      <td>a3yRN0000006rGdYAI</td>\n",
       "      <td>0018c00002bJkGzAAK</td>\n",
       "      <td>130490034</td>\n",
       "      <td>Carga</td>\n",
       "      <td>ABB S.A.</td>\n",
       "    </tr>\n",
       "  </tbody>\n",
       "</table>\n",
       "</div>"
      ],
      "text/plain": [
       "                   Id Paciente__r.IdentificationId__pc Empresa__r.P_liza__c  \\\n",
       "0  a40RN0000017pWfYAI                        140569860               281988   \n",
       "1  a40RN0000018bTQYAY                        249097608               281988   \n",
       "2  a40RN0000018bTRYAY                        224585195               281988   \n",
       "3  a40RN0000018bTSYAY                        130490034               281988   \n",
       "4  a40RN0000018bTTYAY                        21700456K               281988   \n",
       "\n",
       "  Empresa__r.Rut_Empresa__c          Empresa__c         Paciente__c  \\\n",
       "0                92805000-9  a3yRN0000006rGdYAI  0018c00002bK50NAAS   \n",
       "1                92805000-9  a3yRN0000006rGdYAI  0018c00002bJhZhAAK   \n",
       "2                92805000-9  a3yRN0000006rGdYAI  0018c00002bIKr0AAG   \n",
       "3                92805000-9  a3yRN0000006rGdYAI  0018c00002bK1vhAAC   \n",
       "4                92805000-9  a3yRN0000006rGdYAI  0018c00002bJkGzAAK   \n",
       "\n",
       "  N_Documento_Titular__c Relaci_n_Con_Asegurado__c Identificador__c  \n",
       "0              140569860                   Titular         ABB S.A.  \n",
       "1              130203264                     Carga         ABB S.A.  \n",
       "2              130203264                     Carga         ABB S.A.  \n",
       "3              130490034                   Titular         ABB S.A.  \n",
       "4              130490034                     Carga         ABB S.A.  "
      ]
     },
     "execution_count": 180,
     "metadata": {},
     "output_type": "execute_result"
    }
   ],
   "source": [
    "query_empresacontactoconvenio = (\n",
    "    \"select Id,Paciente__r.IdentificationId__pc, Empresa__r.P_liza__c,Empresa__r.Rut_Empresa__c, Empresa__c, Paciente__c,N_Documento_Titular__c, Relaci_n_Con_Asegurado__c, Identificador__c from EmpresaContactoConvenios__c where Empresa__r.Campa_a__c = '\"\n",
    "    + campaña\n",
    "    + \"'\"\n",
    ")\n",
    "empresacontactoconvenio = sf.smart_query(query_empresacontactoconvenio)\n",
    "empresacontactoconvenio.head()"
   ]
  },
  {
   "cell_type": "code",
   "execution_count": 181,
   "metadata": {
    "notebookRunGroups": {
     "groupValue": "2"
    }
   },
   "outputs": [
    {
     "data": {
      "text/html": [
       "<div>\n",
       "<style scoped>\n",
       "    .dataframe tbody tr th:only-of-type {\n",
       "        vertical-align: middle;\n",
       "    }\n",
       "\n",
       "    .dataframe tbody tr th {\n",
       "        vertical-align: top;\n",
       "    }\n",
       "\n",
       "    .dataframe thead th {\n",
       "        text-align: right;\n",
       "    }\n",
       "</style>\n",
       "<table border=\"1\" class=\"dataframe\">\n",
       "  <thead>\n",
       "    <tr style=\"text-align: right;\">\n",
       "      <th></th>\n",
       "      <th>Id EmpresaContactoConvenio</th>\n",
       "      <th>Rut</th>\n",
       "      <th>Poliza</th>\n",
       "      <th>Rut Empresa</th>\n",
       "      <th>Id Convenio Empresa</th>\n",
       "      <th>Id Account Paciente</th>\n",
       "      <th>Rut Titular</th>\n",
       "      <th>Relación</th>\n",
       "      <th>Nombre Empresa</th>\n",
       "    </tr>\n",
       "  </thead>\n",
       "  <tbody>\n",
       "    <tr>\n",
       "      <th>0</th>\n",
       "      <td>a40RN0000017pWfYAI</td>\n",
       "      <td>140569860</td>\n",
       "      <td>281988</td>\n",
       "      <td>92805000-9</td>\n",
       "      <td>a3yRN0000006rGdYAI</td>\n",
       "      <td>0018c00002bK50NAAS</td>\n",
       "      <td>140569860</td>\n",
       "      <td>Titular</td>\n",
       "      <td>ABB S.A.</td>\n",
       "    </tr>\n",
       "    <tr>\n",
       "      <th>1</th>\n",
       "      <td>a40RN0000018bTQYAY</td>\n",
       "      <td>249097608</td>\n",
       "      <td>281988</td>\n",
       "      <td>92805000-9</td>\n",
       "      <td>a3yRN0000006rGdYAI</td>\n",
       "      <td>0018c00002bJhZhAAK</td>\n",
       "      <td>130203264</td>\n",
       "      <td>Carga</td>\n",
       "      <td>ABB S.A.</td>\n",
       "    </tr>\n",
       "    <tr>\n",
       "      <th>2</th>\n",
       "      <td>a40RN0000018bTRYAY</td>\n",
       "      <td>224585195</td>\n",
       "      <td>281988</td>\n",
       "      <td>92805000-9</td>\n",
       "      <td>a3yRN0000006rGdYAI</td>\n",
       "      <td>0018c00002bIKr0AAG</td>\n",
       "      <td>130203264</td>\n",
       "      <td>Carga</td>\n",
       "      <td>ABB S.A.</td>\n",
       "    </tr>\n",
       "    <tr>\n",
       "      <th>3</th>\n",
       "      <td>a40RN0000018bTSYAY</td>\n",
       "      <td>130490034</td>\n",
       "      <td>281988</td>\n",
       "      <td>92805000-9</td>\n",
       "      <td>a3yRN0000006rGdYAI</td>\n",
       "      <td>0018c00002bK1vhAAC</td>\n",
       "      <td>130490034</td>\n",
       "      <td>Titular</td>\n",
       "      <td>ABB S.A.</td>\n",
       "    </tr>\n",
       "    <tr>\n",
       "      <th>4</th>\n",
       "      <td>a40RN0000018bTTYAY</td>\n",
       "      <td>21700456K</td>\n",
       "      <td>281988</td>\n",
       "      <td>92805000-9</td>\n",
       "      <td>a3yRN0000006rGdYAI</td>\n",
       "      <td>0018c00002bJkGzAAK</td>\n",
       "      <td>130490034</td>\n",
       "      <td>Carga</td>\n",
       "      <td>ABB S.A.</td>\n",
       "    </tr>\n",
       "  </tbody>\n",
       "</table>\n",
       "</div>"
      ],
      "text/plain": [
       "  Id EmpresaContactoConvenio        Rut  Poliza Rut Empresa  \\\n",
       "0         a40RN0000017pWfYAI  140569860  281988  92805000-9   \n",
       "1         a40RN0000018bTQYAY  249097608  281988  92805000-9   \n",
       "2         a40RN0000018bTRYAY  224585195  281988  92805000-9   \n",
       "3         a40RN0000018bTSYAY  130490034  281988  92805000-9   \n",
       "4         a40RN0000018bTTYAY  21700456K  281988  92805000-9   \n",
       "\n",
       "  Id Convenio Empresa Id Account Paciente Rut Titular Relación Nombre Empresa  \n",
       "0  a3yRN0000006rGdYAI  0018c00002bK50NAAS   140569860  Titular       ABB S.A.  \n",
       "1  a3yRN0000006rGdYAI  0018c00002bJhZhAAK   130203264    Carga       ABB S.A.  \n",
       "2  a3yRN0000006rGdYAI  0018c00002bIKr0AAG   130203264    Carga       ABB S.A.  \n",
       "3  a3yRN0000006rGdYAI  0018c00002bK1vhAAC   130490034  Titular       ABB S.A.  \n",
       "4  a3yRN0000006rGdYAI  0018c00002bJkGzAAK   130490034    Carga       ABB S.A.  "
      ]
     },
     "execution_count": 181,
     "metadata": {},
     "output_type": "execute_result"
    }
   ],
   "source": [
    "empresacontactoconvenio = empresacontactoconvenio.rename(\n",
    "    columns={\n",
    "        \"Id\": \"Id EmpresaContactoConvenio\",\n",
    "        \"Paciente__r.IdentificationId__pc\": \"Rut\",\n",
    "        \"Empresa__c\": \"Id Convenio Empresa\",\n",
    "        \"Paciente__c\": \"Id Account Paciente\",\n",
    "        \"N_Documento_Titular__c\": \"Rut Titular\",\n",
    "        \"Empresa__r.P_liza__c\":\"Poliza\",\n",
    "        \"Empresa__r.Rut_Empresa__c\":\"Rut Empresa\",\n",
    "        \"Relaci_n_Con_Asegurado__c\":\"Relación\",\n",
    "        \"Identificador__c\":\"Nombre Empresa\",\n",
    "        \"Campa_a__c\":\"Campaña\",\n",
    "    }\n",
    ")\n",
    "empresacontactoconvenio.head()"
   ]
  },
  {
   "cell_type": "code",
   "execution_count": 182,
   "metadata": {
    "notebookRunGroups": {
     "groupValue": "2"
    }
   },
   "outputs": [
    {
     "name": "stderr",
     "output_type": "stream",
     "text": [
      "C:\\Users\\jmartinez\\AppData\\Local\\Temp\\ipykernel_8492\\3330564967.py:5: FutureWarning: The default value of regex will change from True to False in a future version. In addition, single character regular expressions will *not* be treated as literal strings when regex=True.\n",
      "  empresacontactoconvenio[\"Rut\"] = empresacontactoconvenio[\"Rut\"].str.replace(\".\", \"\")\n",
      "C:\\Users\\jmartinez\\AppData\\Local\\Temp\\ipykernel_8492\\3330564967.py:14: FutureWarning: The default value of regex will change from True to False in a future version. In addition, single character regular expressions will *not* be treated as literal strings when regex=True.\n",
      "  empresacontactoconvenio[\"Rut Empresa\"] = empresacontactoconvenio[\"Rut Empresa\"].str.replace(\".\", \"\")\n",
      "C:\\Users\\jmartinez\\AppData\\Local\\Temp\\ipykernel_8492\\3330564967.py:23: FutureWarning: The default value of regex will change from True to False in a future version. In addition, single character regular expressions will *not* be treated as literal strings when regex=True.\n",
      "  empresacontactoconvenio[\"Poliza\"] = empresacontactoconvenio[\"Poliza\"].str.replace(\".\", \"\")\n"
     ]
    },
    {
     "data": {
      "text/plain": [
       "(16137, 9)"
      ]
     },
     "execution_count": 182,
     "metadata": {},
     "output_type": "execute_result"
    }
   ],
   "source": [
    "empresacontactoconvenio[\"Rut\"] = empresacontactoconvenio[\"Rut\"].astype(str)\n",
    "empresacontactoconvenio[\"Rut\"] = empresacontactoconvenio[\"Rut\"].str.replace(\"-\", \"\")\n",
    "empresacontactoconvenio[\"Rut\"] = empresacontactoconvenio[\"Rut\"].str.replace(\"–\", \"\")\n",
    "empresacontactoconvenio[\"Rut\"] = empresacontactoconvenio[\"Rut\"].astype(str)\n",
    "empresacontactoconvenio[\"Rut\"] = empresacontactoconvenio[\"Rut\"].str.replace(\".\", \"\")\n",
    "empresacontactoconvenio[\"Rut\"] = empresacontactoconvenio[\"Rut\"].str.replace(\" \", \"\")\n",
    "empresacontactoconvenio[\"Rut\"] = empresacontactoconvenio[\"Rut\"].str.upper()\n",
    "empresacontactoconvenio[\"Rut\"] = empresacontactoconvenio[\"Rut\"].str.strip()\n",
    "\n",
    "empresacontactoconvenio[\"Rut Empresa\"] = empresacontactoconvenio[\"Rut Empresa\"].astype(str)\n",
    "empresacontactoconvenio[\"Rut Empresa\"] = empresacontactoconvenio[\"Rut Empresa\"].str.replace(\"-\", \"\")\n",
    "empresacontactoconvenio[\"Rut Empresa\"] = empresacontactoconvenio[\"Rut Empresa\"].str.replace(\"–\", \"\")\n",
    "empresacontactoconvenio[\"Rut Empresa\"] = empresacontactoconvenio[\"Rut Empresa\"].astype(str)\n",
    "empresacontactoconvenio[\"Rut Empresa\"] = empresacontactoconvenio[\"Rut Empresa\"].str.replace(\".\", \"\")\n",
    "empresacontactoconvenio[\"Rut Empresa\"] = empresacontactoconvenio[\"Rut Empresa\"].str.replace(\" \", \"\")\n",
    "empresacontactoconvenio[\"Rut Empresa\"] = empresacontactoconvenio[\"Rut Empresa\"].str.upper()\n",
    "empresacontactoconvenio[\"Rut Empresa\"] = empresacontactoconvenio[\"Rut Empresa\"].str.strip()\n",
    "\n",
    "empresacontactoconvenio[\"Poliza\"] = empresacontactoconvenio[\"Poliza\"].astype(str)\n",
    "empresacontactoconvenio[\"Poliza\"] = empresacontactoconvenio[\"Poliza\"].str.replace(\"-\", \"\")\n",
    "empresacontactoconvenio[\"Poliza\"] = empresacontactoconvenio[\"Poliza\"].str.replace(\"–\", \"\")\n",
    "empresacontactoconvenio[\"Poliza\"] = empresacontactoconvenio[\"Poliza\"].astype(str)\n",
    "empresacontactoconvenio[\"Poliza\"] = empresacontactoconvenio[\"Poliza\"].str.replace(\".\", \"\")\n",
    "empresacontactoconvenio[\"Poliza\"] = empresacontactoconvenio[\"Poliza\"].str.replace(\" \", \"\")\n",
    "empresacontactoconvenio[\"Poliza\"] = empresacontactoconvenio[\"Poliza\"].str.upper()\n",
    "empresacontactoconvenio[\"Poliza\"] = empresacontactoconvenio[\"Poliza\"].str.strip()\n",
    "\n",
    "\n",
    "empresacontactoconvenio.shape"
   ]
  },
  {
   "cell_type": "code",
   "execution_count": 183,
   "metadata": {
    "notebookRunGroups": {
     "groupValue": "2"
    }
   },
   "outputs": [
    {
     "data": {
      "text/html": [
       "<div>\n",
       "<style scoped>\n",
       "    .dataframe tbody tr th:only-of-type {\n",
       "        vertical-align: middle;\n",
       "    }\n",
       "\n",
       "    .dataframe tbody tr th {\n",
       "        vertical-align: top;\n",
       "    }\n",
       "\n",
       "    .dataframe thead th {\n",
       "        text-align: right;\n",
       "    }\n",
       "</style>\n",
       "<table border=\"1\" class=\"dataframe\">\n",
       "  <thead>\n",
       "    <tr style=\"text-align: right;\">\n",
       "      <th></th>\n",
       "      <th>Id EmpresaContactoConvenio</th>\n",
       "      <th>Rut_x</th>\n",
       "      <th>Poliza</th>\n",
       "      <th>Rut Empresa</th>\n",
       "      <th>Id Convenio Empresa</th>\n",
       "      <th>Id Account Paciente</th>\n",
       "      <th>Rut Titular</th>\n",
       "      <th>Relación</th>\n",
       "      <th>Nombre Empresa</th>\n",
       "      <th>Rut_y</th>\n",
       "    </tr>\n",
       "  </thead>\n",
       "  <tbody>\n",
       "    <tr>\n",
       "      <th>0</th>\n",
       "      <td>a40RN0000017pWfYAI</td>\n",
       "      <td>140569860</td>\n",
       "      <td>281988</td>\n",
       "      <td>928050009</td>\n",
       "      <td>a3yRN0000006rGdYAI</td>\n",
       "      <td>0018c00002bK50NAAS</td>\n",
       "      <td>140569860</td>\n",
       "      <td>Titular</td>\n",
       "      <td>ABB S.A.</td>\n",
       "      <td>140569860</td>\n",
       "    </tr>\n",
       "    <tr>\n",
       "      <th>1</th>\n",
       "      <td>a40RN0000018bTQYAY</td>\n",
       "      <td>249097608</td>\n",
       "      <td>281988</td>\n",
       "      <td>928050009</td>\n",
       "      <td>a3yRN0000006rGdYAI</td>\n",
       "      <td>0018c00002bJhZhAAK</td>\n",
       "      <td>130203264</td>\n",
       "      <td>Carga</td>\n",
       "      <td>ABB S.A.</td>\n",
       "      <td>249097608</td>\n",
       "    </tr>\n",
       "    <tr>\n",
       "      <th>2</th>\n",
       "      <td>a40RN0000018bTRYAY</td>\n",
       "      <td>224585195</td>\n",
       "      <td>281988</td>\n",
       "      <td>928050009</td>\n",
       "      <td>a3yRN0000006rGdYAI</td>\n",
       "      <td>0018c00002bIKr0AAG</td>\n",
       "      <td>130203264</td>\n",
       "      <td>Carga</td>\n",
       "      <td>ABB S.A.</td>\n",
       "      <td>224585195</td>\n",
       "    </tr>\n",
       "    <tr>\n",
       "      <th>3</th>\n",
       "      <td>a40RN0000018bTSYAY</td>\n",
       "      <td>130490034</td>\n",
       "      <td>281988</td>\n",
       "      <td>928050009</td>\n",
       "      <td>a3yRN0000006rGdYAI</td>\n",
       "      <td>0018c00002bK1vhAAC</td>\n",
       "      <td>130490034</td>\n",
       "      <td>Titular</td>\n",
       "      <td>ABB S.A.</td>\n",
       "      <td>130490034</td>\n",
       "    </tr>\n",
       "    <tr>\n",
       "      <th>4</th>\n",
       "      <td>a40RN0000018bTTYAY</td>\n",
       "      <td>21700456K</td>\n",
       "      <td>281988</td>\n",
       "      <td>928050009</td>\n",
       "      <td>a3yRN0000006rGdYAI</td>\n",
       "      <td>0018c00002bJkGzAAK</td>\n",
       "      <td>130490034</td>\n",
       "      <td>Carga</td>\n",
       "      <td>ABB S.A.</td>\n",
       "      <td>21700456K</td>\n",
       "    </tr>\n",
       "  </tbody>\n",
       "</table>\n",
       "</div>"
      ],
      "text/plain": [
       "  Id EmpresaContactoConvenio      Rut_x  Poliza Rut Empresa  \\\n",
       "0         a40RN0000017pWfYAI  140569860  281988   928050009   \n",
       "1         a40RN0000018bTQYAY  249097608  281988   928050009   \n",
       "2         a40RN0000018bTRYAY  224585195  281988   928050009   \n",
       "3         a40RN0000018bTSYAY  130490034  281988   928050009   \n",
       "4         a40RN0000018bTTYAY  21700456K  281988   928050009   \n",
       "\n",
       "  Id Convenio Empresa Id Account Paciente Rut Titular Relación Nombre Empresa  \\\n",
       "0  a3yRN0000006rGdYAI  0018c00002bK50NAAS   140569860  Titular       ABB S.A.   \n",
       "1  a3yRN0000006rGdYAI  0018c00002bJhZhAAK   130203264    Carga       ABB S.A.   \n",
       "2  a3yRN0000006rGdYAI  0018c00002bIKr0AAG   130203264    Carga       ABB S.A.   \n",
       "3  a3yRN0000006rGdYAI  0018c00002bK1vhAAC   130490034  Titular       ABB S.A.   \n",
       "4  a3yRN0000006rGdYAI  0018c00002bJkGzAAK   130490034    Carga       ABB S.A.   \n",
       "\n",
       "       Rut_y  \n",
       "0  140569860  \n",
       "1  249097608  \n",
       "2  224585195  \n",
       "3  130490034  \n",
       "4  21700456K  "
      ]
     },
     "execution_count": 183,
     "metadata": {},
     "output_type": "execute_result"
    }
   ],
   "source": [
    "empresacontactoconvenio_PacientesSF = pd.merge(\n",
    "    left=empresacontactoconvenio,\n",
    "    right=Pacientes_IDrut,\n",
    "    how=\"left\",\n",
    "    left_on=\"Id Account Paciente\",\n",
    "    right_on=\"Id Account Paciente\",\n",
    ")\n",
    "empresacontactoconvenio_PacientesSF.head()"
   ]
  },
  {
   "cell_type": "code",
   "execution_count": null,
   "metadata": {},
   "outputs": [],
   "source": [
    "\"\"\" if(campaña!=\"MetLife\"):\n",
    "    pacientePrograma.to_excel(\"F:/Empresas SF/reportes/paciente_programas.xlsx\", index=False) \"\"\""
   ]
  },
  {
   "cell_type": "markdown",
   "metadata": {},
   "source": [
    "Rescatamos todos los ruts Id con su empresa desde la campaña\n"
   ]
  },
  {
   "cell_type": "code",
   "execution_count": 184,
   "metadata": {
    "notebookRunGroups": {
     "groupValue": "2"
    }
   },
   "outputs": [],
   "source": [
    "#Pacientes_Archivo.head()"
   ]
  },
  {
   "cell_type": "markdown",
   "metadata": {},
   "source": [
    "Pacientes_con_id.to_excel(\"F:/Empresas SF/reportes/id.xlsx\", index=False)\n"
   ]
  },
  {
   "cell_type": "markdown",
   "metadata": {},
   "source": [
    "Pacientes_Archivo.drop_duplicates(\n",
    "[\n",
    "\"rut\",\n",
    "\"rutT\",\n",
    "\"LLaveEmpresa\",\n",
    "\"LLAveRut\",\n",
    "],\n",
    "keep=\"last\",\n",
    ")\n",
    "Pacientes_Archivo.shape\n"
   ]
  },
  {
   "cell_type": "code",
   "execution_count": 185,
   "metadata": {
    "notebookRunGroups": {
     "groupValue": "2"
    }
   },
   "outputs": [
    {
     "name": "stdout",
     "output_type": "stream",
     "text": [
      "Vida Security\n"
     ]
    }
   ],
   "source": [
    "print(campaña)"
   ]
  },
  {
   "cell_type": "code",
   "execution_count": 186,
   "metadata": {
    "notebookRunGroups": {
     "groupValue": "2"
    }
   },
   "outputs": [],
   "source": [
    "Pacientes_Archivo[\"RutEstaoNo\"] = Pacientes_Archivo[\"rut\"].isin(Pacientes_SF[\"Rut\"])"
   ]
  },
  {
   "attachments": {},
   "cell_type": "markdown",
   "metadata": {},
   "source": []
  },
  {
   "cell_type": "code",
   "execution_count": null,
   "metadata": {},
   "outputs": [],
   "source": [
    "# Pacientes_Archivo.to_excel(\"F:/Empresas SF/reportes/Pacientes_Archivo.xlsx\", index=False)"
   ]
  },
  {
   "cell_type": "code",
   "execution_count": 187,
   "metadata": {
    "notebookRunGroups": {
     "groupValue": "2"
    }
   },
   "outputs": [
    {
     "data": {
      "text/plain": [
       "(682, 36)"
      ]
     },
     "execution_count": 187,
     "metadata": {},
     "output_type": "execute_result"
    }
   ],
   "source": [
    "# aca a los pacientes del archivo se les asigna sus datos en SF\n",
    "Pacientes_con_id = pd.merge(\n",
    "    left=Pacientes_Archivo,\n",
    "    right=Pacientes_SF,\n",
    "    how=\"left\",\n",
    "    left_on=\"rut\",\n",
    "    right_on=\"Rut\",\n",
    ")\n",
    "# Pacientes_con_id.to_excel(\"F:/Empresas SF/reportes/Pacientes_con_id.xlsx\", index=False)\n",
    "Pacientes_con_id.shape"
   ]
  },
  {
   "cell_type": "code",
   "execution_count": 188,
   "metadata": {
    "notebookRunGroups": {
     "groupValue": "2"
    }
   },
   "outputs": [],
   "source": [
    "#Pacientes_con_id.head()\n",
    "#Pacientes_con_id.to_excel(\"F:/Empresas SF/reportes/id.xlsx\", index=False)"
   ]
  },
  {
   "cell_type": "code",
   "execution_count": 189,
   "metadata": {
    "notebookRunGroups": {
     "groupValue": "2"
    }
   },
   "outputs": [],
   "source": [
    "regex = re.compile(r\"([A-Za-z0-9]+[.-_])*[A-Za-z0-9]+@[A-Za-z0-9-]+(\\.[A-Z|a-z]{2,})+\")\n",
    "\n",
    "\n",
    "def isValid(email):\n",
    "    if re.fullmatch(regex, email):\n",
    "        return email\n",
    "    else:\n",
    "        return \"\"\n",
    "\n",
    "\n",
    "def fechaValida(fecha):\n",
    "    if (len(str(fecha)) <= 9 ):\n",
    "        fecha = \"\"\n",
    "        \n",
    "    fecha = str(fecha)\n",
    "    fecha1 = str(fecha)\n",
    "    \n",
    "    #datetime.strptime(fecha, '%Y-%m-%d')\n",
    "    \n",
    "    try:\n",
    "        fecha = datetime.strptime(fecha, '%Y-%m-%d %H:%M:%S')\n",
    "        date_string = fecha1\n",
    "        print(\"date_string =\", date_string)\n",
    "        print(\"type of date_string =\", type(date_string))\n",
    "\n",
    "        date_object = datetime.strptime(date_string, \"%Y-%m-%d %H:%M:%S\")\n",
    "\n",
    "        print(\"date_object =\", date_object)\n",
    "        print(\"type of date_object =\", type(date_object))\n",
    "        return date_object\n",
    "    except ValueError:\n",
    "        return datetime.utcnow().strftime('%Y-%m-%d %H:%M:%S')\n",
    "    "
   ]
  },
  {
   "cell_type": "code",
   "execution_count": 190,
   "metadata": {
    "notebookRunGroups": {
     "groupValue": "2"
    }
   },
   "outputs": [],
   "source": [
    "noestan = pd.DataFrame()\n",
    "if (\"nacimiento\" in noestan.columns) == True:  \n",
    "    Pacientes_con_id[\"dertyuiop\"] = Pacientes_con_id[\"nacimiento\"]\n",
    "    Pacientes_con_id[\"derty\"] = Pacientes_con_id[\"nacimiento\"].apply(lambda y: fechaValida(y))\n",
    "    Pacientes_con_id.head()\n",
    "noestan = Pacientes_con_id[(Pacientes_con_id[\"RutEstaoNo\"] == False)]"
   ]
  },
  {
   "cell_type": "code",
   "execution_count": 191,
   "metadata": {
    "notebookRunGroups": {
     "groupValue": "2"
    }
   },
   "outputs": [
    {
     "data": {
      "text/html": [
       "<div>\n",
       "<style scoped>\n",
       "    .dataframe tbody tr th:only-of-type {\n",
       "        vertical-align: middle;\n",
       "    }\n",
       "\n",
       "    .dataframe tbody tr th {\n",
       "        vertical-align: top;\n",
       "    }\n",
       "\n",
       "    .dataframe thead th {\n",
       "        text-align: right;\n",
       "    }\n",
       "</style>\n",
       "<table border=\"1\" class=\"dataframe\">\n",
       "  <thead>\n",
       "    <tr style=\"text-align: right;\">\n",
       "      <th></th>\n",
       "      <th>poliza</th>\n",
       "      <th>Rut Contratante</th>\n",
       "      <th>Dv Contratante</th>\n",
       "      <th>rutEc</th>\n",
       "      <th>Nombre Contratante</th>\n",
       "      <th>Rut Filial</th>\n",
       "      <th>Dv Filial</th>\n",
       "      <th>rutE</th>\n",
       "      <th>empleador</th>\n",
       "      <th>Rut Titular</th>\n",
       "      <th>...</th>\n",
       "      <th>Id Account Paciente</th>\n",
       "      <th>Rut</th>\n",
       "      <th>Nombre</th>\n",
       "      <th>Tipo de Documento</th>\n",
       "      <th>Ocupacion</th>\n",
       "      <th>Cargo</th>\n",
       "      <th>Departamento</th>\n",
       "      <th>Sexo</th>\n",
       "      <th>Telefono</th>\n",
       "      <th>Id Contacto</th>\n",
       "    </tr>\n",
       "  </thead>\n",
       "  <tbody>\n",
       "    <tr>\n",
       "      <th>55</th>\n",
       "      <td>282234</td>\n",
       "      <td>93270000</td>\n",
       "      <td>K</td>\n",
       "      <td>93270000-K</td>\n",
       "      <td>UNISYS SUDAMERICANA CORPORATION</td>\n",
       "      <td>93270000</td>\n",
       "      <td>K</td>\n",
       "      <td>93270000K</td>\n",
       "      <td>UNISYS SUDAMERICANA CORPORATION</td>\n",
       "      <td>17922738</td>\n",
       "      <td>...</td>\n",
       "      <td>NaN</td>\n",
       "      <td>NaN</td>\n",
       "      <td>NaN</td>\n",
       "      <td>NaN</td>\n",
       "      <td>NaN</td>\n",
       "      <td>NaN</td>\n",
       "      <td>NaN</td>\n",
       "      <td>NaN</td>\n",
       "      <td>NaN</td>\n",
       "      <td>NaN</td>\n",
       "    </tr>\n",
       "    <tr>\n",
       "      <th>173</th>\n",
       "      <td>282507</td>\n",
       "      <td>99288000</td>\n",
       "      <td>7</td>\n",
       "      <td>99288000-7</td>\n",
       "      <td>SOUTHBRIDGE COMPANIA DE SEGUROS GENERALES S.A.</td>\n",
       "      <td>76842252</td>\n",
       "      <td>4</td>\n",
       "      <td>768422524</td>\n",
       "      <td>SBI SERVICIOS SPA</td>\n",
       "      <td>14184348</td>\n",
       "      <td>...</td>\n",
       "      <td>NaN</td>\n",
       "      <td>NaN</td>\n",
       "      <td>NaN</td>\n",
       "      <td>NaN</td>\n",
       "      <td>NaN</td>\n",
       "      <td>NaN</td>\n",
       "      <td>NaN</td>\n",
       "      <td>NaN</td>\n",
       "      <td>NaN</td>\n",
       "      <td>NaN</td>\n",
       "    </tr>\n",
       "    <tr>\n",
       "      <th>193</th>\n",
       "      <td>282507</td>\n",
       "      <td>99288000</td>\n",
       "      <td>7</td>\n",
       "      <td>99288000-7</td>\n",
       "      <td>SOUTHBRIDGE COMPANIA DE SEGUROS GENERALES S.A.</td>\n",
       "      <td>99288000</td>\n",
       "      <td>7</td>\n",
       "      <td>992880007</td>\n",
       "      <td>SOUTHBRIDGE COMPANIA DE SEGUROS GENERALES S.A.</td>\n",
       "      <td>15330017</td>\n",
       "      <td>...</td>\n",
       "      <td>NaN</td>\n",
       "      <td>NaN</td>\n",
       "      <td>NaN</td>\n",
       "      <td>NaN</td>\n",
       "      <td>NaN</td>\n",
       "      <td>NaN</td>\n",
       "      <td>NaN</td>\n",
       "      <td>NaN</td>\n",
       "      <td>NaN</td>\n",
       "      <td>NaN</td>\n",
       "    </tr>\n",
       "    <tr>\n",
       "      <th>240</th>\n",
       "      <td>282507</td>\n",
       "      <td>99288000</td>\n",
       "      <td>7</td>\n",
       "      <td>99288000-7</td>\n",
       "      <td>SOUTHBRIDGE COMPANIA DE SEGUROS GENERALES S.A.</td>\n",
       "      <td>76842252</td>\n",
       "      <td>4</td>\n",
       "      <td>768422524</td>\n",
       "      <td>SBI SERVICIOS SPA</td>\n",
       "      <td>16179826</td>\n",
       "      <td>...</td>\n",
       "      <td>NaN</td>\n",
       "      <td>NaN</td>\n",
       "      <td>NaN</td>\n",
       "      <td>NaN</td>\n",
       "      <td>NaN</td>\n",
       "      <td>NaN</td>\n",
       "      <td>NaN</td>\n",
       "      <td>NaN</td>\n",
       "      <td>NaN</td>\n",
       "      <td>NaN</td>\n",
       "    </tr>\n",
       "    <tr>\n",
       "      <th>241</th>\n",
       "      <td>282507</td>\n",
       "      <td>99288000</td>\n",
       "      <td>7</td>\n",
       "      <td>99288000-7</td>\n",
       "      <td>SOUTHBRIDGE COMPANIA DE SEGUROS GENERALES S.A.</td>\n",
       "      <td>76842252</td>\n",
       "      <td>4</td>\n",
       "      <td>768422524</td>\n",
       "      <td>SBI SERVICIOS SPA</td>\n",
       "      <td>16179826</td>\n",
       "      <td>...</td>\n",
       "      <td>NaN</td>\n",
       "      <td>NaN</td>\n",
       "      <td>NaN</td>\n",
       "      <td>NaN</td>\n",
       "      <td>NaN</td>\n",
       "      <td>NaN</td>\n",
       "      <td>NaN</td>\n",
       "      <td>NaN</td>\n",
       "      <td>NaN</td>\n",
       "      <td>NaN</td>\n",
       "    </tr>\n",
       "  </tbody>\n",
       "</table>\n",
       "<p>5 rows × 36 columns</p>\n",
       "</div>"
      ],
      "text/plain": [
       "     poliza  Rut Contratante Dv Contratante       rutEc  \\\n",
       "55   282234         93270000              K  93270000-K   \n",
       "173  282507         99288000              7  99288000-7   \n",
       "193  282507         99288000              7  99288000-7   \n",
       "240  282507         99288000              7  99288000-7   \n",
       "241  282507         99288000              7  99288000-7   \n",
       "\n",
       "                                  Nombre Contratante  Rut Filial Dv Filial  \\\n",
       "55                   UNISYS SUDAMERICANA CORPORATION    93270000         K   \n",
       "173  SOUTHBRIDGE COMPANIA DE SEGUROS GENERALES S.A.     76842252         4   \n",
       "193  SOUTHBRIDGE COMPANIA DE SEGUROS GENERALES S.A.     99288000         7   \n",
       "240  SOUTHBRIDGE COMPANIA DE SEGUROS GENERALES S.A.     76842252         4   \n",
       "241  SOUTHBRIDGE COMPANIA DE SEGUROS GENERALES S.A.     76842252         4   \n",
       "\n",
       "          rutE                                        empleador  Rut Titular  \\\n",
       "55   93270000K                  UNISYS SUDAMERICANA CORPORATION     17922738   \n",
       "173  768422524                                SBI SERVICIOS SPA     14184348   \n",
       "193  992880007  SOUTHBRIDGE COMPANIA DE SEGUROS GENERALES S.A.      15330017   \n",
       "240  768422524                                SBI SERVICIOS SPA     16179826   \n",
       "241  768422524                                SBI SERVICIOS SPA     16179826   \n",
       "\n",
       "     ... Id Account Paciente  Rut  Nombre Tipo de Documento Ocupacion Cargo  \\\n",
       "55   ...                 NaN  NaN     NaN               NaN       NaN   NaN   \n",
       "173  ...                 NaN  NaN     NaN               NaN       NaN   NaN   \n",
       "193  ...                 NaN  NaN     NaN               NaN       NaN   NaN   \n",
       "240  ...                 NaN  NaN     NaN               NaN       NaN   NaN   \n",
       "241  ...                 NaN  NaN     NaN               NaN       NaN   NaN   \n",
       "\n",
       "    Departamento Sexo Telefono Id Contacto  \n",
       "55           NaN  NaN      NaN         NaN  \n",
       "173          NaN  NaN      NaN         NaN  \n",
       "193          NaN  NaN      NaN         NaN  \n",
       "240          NaN  NaN      NaN         NaN  \n",
       "241          NaN  NaN      NaN         NaN  \n",
       "\n",
       "[5 rows x 36 columns]"
      ]
     },
     "execution_count": 191,
     "metadata": {},
     "output_type": "execute_result"
    }
   ],
   "source": [
    "#noestan.to_excel(\"F:/Empresas SF/reportes/noestan.xlsx\", index=False)\n",
    "noestan.head()"
   ]
  },
  {
   "cell_type": "code",
   "execution_count": 192,
   "metadata": {
    "notebookRunGroups": {
     "groupValue": "2"
    }
   },
   "outputs": [
    {
     "name": "stdout",
     "output_type": "stream",
     "text": [
      "date_string = 2002-05-29 00:00:00\n",
      "type of date_string = <class 'str'>\n",
      "date_object = 2002-05-29 00:00:00\n",
      "type of date_object = <class 'datetime.datetime'>\n",
      "date_string = 2006-06-30 00:00:00\n",
      "type of date_string = <class 'str'>\n",
      "date_object = 2006-06-30 00:00:00\n",
      "type of date_object = <class 'datetime.datetime'>\n",
      "date_string = 2023-11-25 00:00:00\n",
      "type of date_string = <class 'str'>\n",
      "date_object = 2023-11-25 00:00:00\n",
      "type of date_object = <class 'datetime.datetime'>\n",
      "date_string = 1986-01-15 00:00:00\n",
      "type of date_string = <class 'str'>\n",
      "date_object = 1986-01-15 00:00:00\n",
      "type of date_object = <class 'datetime.datetime'>\n",
      "date_string = 1989-10-24 00:00:00\n",
      "type of date_string = <class 'str'>\n",
      "date_object = 1989-10-24 00:00:00\n",
      "type of date_object = <class 'datetime.datetime'>\n",
      "date_string = 2022-11-11 00:00:00\n",
      "type of date_string = <class 'str'>\n",
      "date_object = 2022-11-11 00:00:00\n",
      "type of date_object = <class 'datetime.datetime'>\n",
      "date_string = 1994-03-19 00:00:00\n",
      "type of date_string = <class 'str'>\n",
      "date_object = 1994-03-19 00:00:00\n",
      "type of date_object = <class 'datetime.datetime'>\n",
      "date_string = 1992-12-09 00:00:00\n",
      "type of date_string = <class 'str'>\n",
      "date_object = 1992-12-09 00:00:00\n",
      "type of date_object = <class 'datetime.datetime'>\n",
      "date_string = 1998-01-27 00:00:00\n",
      "type of date_string = <class 'str'>\n",
      "date_object = 1998-01-27 00:00:00\n",
      "type of date_object = <class 'datetime.datetime'>\n",
      "date_string = 1991-12-15 00:00:00\n",
      "type of date_string = <class 'str'>\n",
      "date_object = 1991-12-15 00:00:00\n",
      "type of date_object = <class 'datetime.datetime'>\n",
      "date_string = 1974-03-04 00:00:00\n",
      "type of date_string = <class 'str'>\n",
      "date_object = 1974-03-04 00:00:00\n",
      "type of date_object = <class 'datetime.datetime'>\n",
      "date_string = 1973-09-20 00:00:00\n",
      "type of date_string = <class 'str'>\n",
      "date_object = 1973-09-20 00:00:00\n",
      "type of date_object = <class 'datetime.datetime'>\n",
      "date_string = 2006-12-16 00:00:00\n",
      "type of date_string = <class 'str'>\n",
      "date_object = 2006-12-16 00:00:00\n",
      "type of date_object = <class 'datetime.datetime'>\n",
      "date_string = 2023-11-28 00:00:00\n",
      "type of date_string = <class 'str'>\n",
      "date_object = 2023-11-28 00:00:00\n",
      "type of date_object = <class 'datetime.datetime'>\n",
      "date_string = 2005-03-09 00:00:00\n",
      "type of date_string = <class 'str'>\n",
      "date_object = 2005-03-09 00:00:00\n",
      "type of date_object = <class 'datetime.datetime'>\n",
      "date_string = 2024-01-16 00:00:00\n",
      "type of date_string = <class 'str'>\n",
      "date_object = 2024-01-16 00:00:00\n",
      "type of date_object = <class 'datetime.datetime'>\n",
      "date_string = 1988-09-07 00:00:00\n",
      "type of date_string = <class 'str'>\n",
      "date_object = 1988-09-07 00:00:00\n",
      "type of date_object = <class 'datetime.datetime'>\n",
      "date_string = 1994-10-20 00:00:00\n",
      "type of date_string = <class 'str'>\n",
      "date_object = 1994-10-20 00:00:00\n",
      "type of date_object = <class 'datetime.datetime'>\n",
      "date_string = 1993-10-18 00:00:00\n",
      "type of date_string = <class 'str'>\n",
      "date_object = 1993-10-18 00:00:00\n",
      "type of date_object = <class 'datetime.datetime'>\n",
      "date_string = 1963-06-14 00:00:00\n",
      "type of date_string = <class 'str'>\n",
      "date_object = 1963-06-14 00:00:00\n",
      "type of date_object = <class 'datetime.datetime'>\n",
      "date_string = 1980-08-29 00:00:00\n",
      "type of date_string = <class 'str'>\n",
      "date_object = 1980-08-29 00:00:00\n",
      "type of date_object = <class 'datetime.datetime'>\n",
      "date_string = 2002-05-29 00:00:00\n",
      "type of date_string = <class 'str'>\n",
      "date_object = 2002-05-29 00:00:00\n",
      "type of date_object = <class 'datetime.datetime'>\n",
      "date_string = 2006-06-30 00:00:00\n",
      "type of date_string = <class 'str'>\n",
      "date_object = 2006-06-30 00:00:00\n",
      "type of date_object = <class 'datetime.datetime'>\n",
      "date_string = 2023-11-25 00:00:00\n",
      "type of date_string = <class 'str'>\n",
      "date_object = 2023-11-25 00:00:00\n",
      "type of date_object = <class 'datetime.datetime'>\n",
      "date_string = 1986-01-15 00:00:00\n",
      "type of date_string = <class 'str'>\n",
      "date_object = 1986-01-15 00:00:00\n",
      "type of date_object = <class 'datetime.datetime'>\n",
      "date_string = 1989-10-24 00:00:00\n",
      "type of date_string = <class 'str'>\n",
      "date_object = 1989-10-24 00:00:00\n",
      "type of date_object = <class 'datetime.datetime'>\n",
      "date_string = 2022-11-11 00:00:00\n",
      "type of date_string = <class 'str'>\n",
      "date_object = 2022-11-11 00:00:00\n",
      "type of date_object = <class 'datetime.datetime'>\n",
      "date_string = 1994-03-19 00:00:00\n",
      "type of date_string = <class 'str'>\n",
      "date_object = 1994-03-19 00:00:00\n",
      "type of date_object = <class 'datetime.datetime'>\n",
      "date_string = 1992-12-09 00:00:00\n",
      "type of date_string = <class 'str'>\n",
      "date_object = 1992-12-09 00:00:00\n",
      "type of date_object = <class 'datetime.datetime'>\n",
      "date_string = 1998-01-27 00:00:00\n",
      "type of date_string = <class 'str'>\n",
      "date_object = 1998-01-27 00:00:00\n",
      "type of date_object = <class 'datetime.datetime'>\n",
      "date_string = 1991-12-15 00:00:00\n",
      "type of date_string = <class 'str'>\n",
      "date_object = 1991-12-15 00:00:00\n",
      "type of date_object = <class 'datetime.datetime'>\n",
      "date_string = 1974-03-04 00:00:00\n",
      "type of date_string = <class 'str'>\n",
      "date_object = 1974-03-04 00:00:00\n",
      "type of date_object = <class 'datetime.datetime'>\n",
      "date_string = 1973-09-20 00:00:00\n",
      "type of date_string = <class 'str'>\n",
      "date_object = 1973-09-20 00:00:00\n",
      "type of date_object = <class 'datetime.datetime'>\n",
      "date_string = 2006-12-16 00:00:00\n",
      "type of date_string = <class 'str'>\n",
      "date_object = 2006-12-16 00:00:00\n",
      "type of date_object = <class 'datetime.datetime'>\n",
      "date_string = 2023-11-28 00:00:00\n",
      "type of date_string = <class 'str'>\n",
      "date_object = 2023-11-28 00:00:00\n",
      "type of date_object = <class 'datetime.datetime'>\n",
      "date_string = 2005-03-09 00:00:00\n",
      "type of date_string = <class 'str'>\n",
      "date_object = 2005-03-09 00:00:00\n",
      "type of date_object = <class 'datetime.datetime'>\n",
      "date_string = 2024-01-16 00:00:00\n",
      "type of date_string = <class 'str'>\n",
      "date_object = 2024-01-16 00:00:00\n",
      "type of date_object = <class 'datetime.datetime'>\n",
      "date_string = 1988-09-07 00:00:00\n",
      "type of date_string = <class 'str'>\n",
      "date_object = 1988-09-07 00:00:00\n",
      "type of date_object = <class 'datetime.datetime'>\n",
      "date_string = 1994-10-20 00:00:00\n",
      "type of date_string = <class 'str'>\n",
      "date_object = 1994-10-20 00:00:00\n",
      "type of date_object = <class 'datetime.datetime'>\n",
      "date_string = 1993-10-18 00:00:00\n",
      "type of date_string = <class 'str'>\n",
      "date_object = 1993-10-18 00:00:00\n",
      "type of date_object = <class 'datetime.datetime'>\n",
      "date_string = 1963-06-14 00:00:00\n",
      "type of date_string = <class 'str'>\n",
      "date_object = 1963-06-14 00:00:00\n",
      "type of date_object = <class 'datetime.datetime'>\n",
      "date_string = 1980-08-29 00:00:00\n",
      "type of date_string = <class 'str'>\n",
      "date_object = 1980-08-29 00:00:00\n",
      "type of date_object = <class 'datetime.datetime'>\n"
     ]
    },
    {
     "name": "stderr",
     "output_type": "stream",
     "text": [
      "C:\\Users\\jmartinez\\AppData\\Local\\Temp\\ipykernel_8492\\2697898823.py:66: SettingWithCopyWarning: \n",
      "A value is trying to be set on a copy of a slice from a DataFrame.\n",
      "Try using .loc[row_indexer,col_indexer] = value instead\n",
      "\n",
      "See the caveats in the documentation: https://pandas.pydata.org/pandas-docs/stable/user_guide/indexing.html#returning-a-view-versus-a-copy\n",
      "  noestan.replace({\"sexo\": Sexo}, inplace=True)\n"
     ]
    },
    {
     "data": {
      "text/html": [
       "<div>\n",
       "<style scoped>\n",
       "    .dataframe tbody tr th:only-of-type {\n",
       "        vertical-align: middle;\n",
       "    }\n",
       "\n",
       "    .dataframe tbody tr th {\n",
       "        vertical-align: top;\n",
       "    }\n",
       "\n",
       "    .dataframe thead th {\n",
       "        text-align: right;\n",
       "    }\n",
       "</style>\n",
       "<table border=\"1\" class=\"dataframe\">\n",
       "  <thead>\n",
       "    <tr style=\"text-align: right;\">\n",
       "      <th></th>\n",
       "      <th>rut1</th>\n",
       "      <th>rut2</th>\n",
       "      <th>FirstName</th>\n",
       "      <th>LastName</th>\n",
       "      <th>IdentificationId__pc</th>\n",
       "      <th>PersonEmail</th>\n",
       "      <th>Email_Seteado__c</th>\n",
       "      <th>PersonBirthdate</th>\n",
       "      <th>derty</th>\n",
       "      <th>HealthCloudGA__Gender__pc</th>\n",
       "      <th>RecordTypeId</th>\n",
       "      <th>Cuenta_validada__c</th>\n",
       "      <th>BillingCountry</th>\n",
       "      <th>Identification_Type__c</th>\n",
       "      <th>Pa_s_del_Paciente__c</th>\n",
       "    </tr>\n",
       "  </thead>\n",
       "  <tbody>\n",
       "    <tr>\n",
       "      <th>55</th>\n",
       "      <td>210361766</td>\n",
       "      <td>17922738K</td>\n",
       "      <td>Renata Valentina</td>\n",
       "      <td>Henriquez Meza</td>\n",
       "      <td>210361766</td>\n",
       "      <td></td>\n",
       "      <td>False</td>\n",
       "      <td>2002-05-29</td>\n",
       "      <td>2002-05-29</td>\n",
       "      <td>Mujer</td>\n",
       "      <td>0128c000002Byp4AAC</td>\n",
       "      <td>True</td>\n",
       "      <td>Chile</td>\n",
       "      <td>RUT</td>\n",
       "      <td>a1U8c000005dAtnEAE</td>\n",
       "    </tr>\n",
       "    <tr>\n",
       "      <th>173</th>\n",
       "      <td>221508246</td>\n",
       "      <td>141843486</td>\n",
       "      <td>Renato Gabriel</td>\n",
       "      <td>Cuevas Romero</td>\n",
       "      <td>221508246</td>\n",
       "      <td></td>\n",
       "      <td>False</td>\n",
       "      <td>2006-06-30</td>\n",
       "      <td>2006-06-30</td>\n",
       "      <td>Hombre</td>\n",
       "      <td>0128c000002Byp4AAC</td>\n",
       "      <td>True</td>\n",
       "      <td>Chile</td>\n",
       "      <td>RUT</td>\n",
       "      <td>a1U8c000005dAtnEAE</td>\n",
       "    </tr>\n",
       "    <tr>\n",
       "      <th>193</th>\n",
       "      <td>282977710</td>\n",
       "      <td>153300178</td>\n",
       "      <td>Ema Constanza</td>\n",
       "      <td>Araya Candia</td>\n",
       "      <td>282977710</td>\n",
       "      <td></td>\n",
       "      <td>False</td>\n",
       "      <td>2023-11-25</td>\n",
       "      <td>2023-11-25</td>\n",
       "      <td>Mujer</td>\n",
       "      <td>0128c000002Byp4AAC</td>\n",
       "      <td>True</td>\n",
       "      <td>Chile</td>\n",
       "      <td>RUT</td>\n",
       "      <td>a1U8c000005dAtnEAE</td>\n",
       "    </tr>\n",
       "    <tr>\n",
       "      <th>240</th>\n",
       "      <td>161798266</td>\n",
       "      <td>161798266</td>\n",
       "      <td>Francisco Javier</td>\n",
       "      <td>Pizarro Mena</td>\n",
       "      <td>161798266</td>\n",
       "      <td>francisco.pizarro@gmail.com</td>\n",
       "      <td>True</td>\n",
       "      <td>1986-01-15</td>\n",
       "      <td>1986-01-15</td>\n",
       "      <td>Hombre</td>\n",
       "      <td>0128c000002Byp4AAC</td>\n",
       "      <td>True</td>\n",
       "      <td>Chile</td>\n",
       "      <td>RUT</td>\n",
       "      <td>a1U8c000005dAtnEAE</td>\n",
       "    </tr>\n",
       "    <tr>\n",
       "      <th>241</th>\n",
       "      <td>171667364</td>\n",
       "      <td>161798266</td>\n",
       "      <td>Maria Gabriela</td>\n",
       "      <td>Zuñiga Rojas</td>\n",
       "      <td>171667364</td>\n",
       "      <td></td>\n",
       "      <td>False</td>\n",
       "      <td>1989-10-24</td>\n",
       "      <td>1989-10-24</td>\n",
       "      <td>Mujer</td>\n",
       "      <td>0128c000002Byp4AAC</td>\n",
       "      <td>True</td>\n",
       "      <td>Chile</td>\n",
       "      <td>RUT</td>\n",
       "      <td>a1U8c000005dAtnEAE</td>\n",
       "    </tr>\n",
       "  </tbody>\n",
       "</table>\n",
       "</div>"
      ],
      "text/plain": [
       "          rut1       rut2         FirstName        LastName  \\\n",
       "55   210361766  17922738K  Renata Valentina  Henriquez Meza   \n",
       "173  221508246  141843486    Renato Gabriel   Cuevas Romero   \n",
       "193  282977710  153300178     Ema Constanza    Araya Candia   \n",
       "240  161798266  161798266  Francisco Javier    Pizarro Mena   \n",
       "241  171667364  161798266    Maria Gabriela    Zuñiga Rojas   \n",
       "\n",
       "    IdentificationId__pc                  PersonEmail Email_Seteado__c  \\\n",
       "55             210361766                                         False   \n",
       "173            221508246                                         False   \n",
       "193            282977710                                         False   \n",
       "240            161798266  francisco.pizarro@gmail.com             True   \n",
       "241            171667364                                         False   \n",
       "\n",
       "    PersonBirthdate      derty HealthCloudGA__Gender__pc        RecordTypeId  \\\n",
       "55       2002-05-29 2002-05-29                     Mujer  0128c000002Byp4AAC   \n",
       "173      2006-06-30 2006-06-30                    Hombre  0128c000002Byp4AAC   \n",
       "193      2023-11-25 2023-11-25                     Mujer  0128c000002Byp4AAC   \n",
       "240      1986-01-15 1986-01-15                    Hombre  0128c000002Byp4AAC   \n",
       "241      1989-10-24 1989-10-24                     Mujer  0128c000002Byp4AAC   \n",
       "\n",
       "    Cuenta_validada__c BillingCountry Identification_Type__c  \\\n",
       "55                True          Chile                    RUT   \n",
       "173               True          Chile                    RUT   \n",
       "193               True          Chile                    RUT   \n",
       "240               True          Chile                    RUT   \n",
       "241               True          Chile                    RUT   \n",
       "\n",
       "    Pa_s_del_Paciente__c  \n",
       "55    a1U8c000005dAtnEAE  \n",
       "173   a1U8c000005dAtnEAE  \n",
       "193   a1U8c000005dAtnEAE  \n",
       "240   a1U8c000005dAtnEAE  \n",
       "241   a1U8c000005dAtnEAE  "
      ]
     },
     "execution_count": 192,
     "metadata": {},
     "output_type": "execute_result"
    }
   ],
   "source": [
    "\n",
    "\n",
    "# Final_pacientes_y_empresa = Pacientes_con_ID\n",
    "Subir_pacientes = pd.DataFrame()\n",
    "# Subir_pacientes[\"Email_Seteado__c\"] = \"\"\n",
    "#Subir_pacientes[\"RutEstaoNo\"] = Pacientes_con_id[\"RutEstaoNo\"]\n",
    "\n",
    "# agrupar = empresasqfaltan[empresasqfaltan['si']==False]\n",
    "Subir_pacientes[\"rut1\"] = noestan[\"rut\"]\n",
    "Subir_pacientes[\"rut2\"] = noestan[\"rutT\"]\n",
    "\n",
    "if (\"nombres\" in noestan.columns) == True:\n",
    "    Subir_pacientes[\"FirstName\"] = noestan[\"nombres\"]\n",
    "if (\"apellidos\" in noestan.columns) == True:\n",
    "    Subir_pacientes[\"LastName\"] = noestan[\"apellidos\"]\n",
    "if (\"rut\" in noestan.columns) == True:\n",
    "    Subir_pacientes[\"IdentificationId__pc\"] = (\n",
    "        noestan[\"rut\"].astype(str).str.upper()\n",
    "    )\n",
    "\n",
    "\n",
    "if (\"email\" in noestan.columns) == True:\n",
    "    # Pacientes_con_id[\"email\"] = Pacientes_con_id[\"email\"].astype(str).str.lower().replace(\"nan\",\"\")\n",
    "    Subir_pacientes[\"PersonEmail\"] = noestan[\"email\"].astype(str).str.lower()\n",
    "    Subir_pacientes[\"PersonEmail\"] = Subir_pacientes[\"PersonEmail\"].apply(\n",
    "        lambda y: isValid(y)\n",
    "    )\n",
    "    Subir_pacientes[\"Email_Seteado__c\"] = np.where(\n",
    "        Subir_pacientes[\"PersonEmail\"] != \"\", \"True\", \"False\"\n",
    "    )\n",
    "\n",
    "    # Subir_pacientes[\"PersonEmail\"] = Subir_pacientes[\"PersonEmail\"].str.replace(\"no informado\", \"\")\n",
    "#if (\"nacimiento\" in Pacientes_con_id.columns) == True:    \n",
    "#    Subir_pacientes[\"PersonBirthdate\"] = pd.to_datetime(Pacientes_con_id[\"nacimiento\"].astype(str), format=\"%Y-%m-%d\")  \n",
    "if (\"nacimiento\" in noestan.columns) == True:    \n",
    "    #try:\n",
    "    Subir_pacientes[\"PersonBirthdate\"] = noestan[\"nacimiento\"].apply(lambda y: fechaValida(y))\n",
    "    Subir_pacientes[\"derty\"] = noestan[\"nacimiento\"].apply(lambda y: fechaValida(y))\n",
    "    #except ValueError:\n",
    "        #Subir_pacientes[\"PersonBirthdate\"] = pd.to_datetime(\"1900-01-01\", format=\"%Y-%m-%d\")\n",
    " \n",
    "if (\"sexo\" in noestan.columns) == True:\n",
    "    Sexo = {\n",
    "        \"H\": \"Hombre\",\n",
    "        \"m\": \"Hombre\",\n",
    "        \"Masculino\": \"Hombre\",\n",
    "        \"Femenino\": \"Mujer\",\n",
    "        \"\": \"Prefiero no responder\",\n",
    "        \"HOMBRE\": \"Hombre\",\n",
    "        \"MUJER\": \"Mujer\",\n",
    "        \"F\": \"Mujer\",\n",
    "        \"O\": \"Prefiero no responder\",\n",
    "        \"Ambos\": \"Prefiero no responder\",\n",
    "        \"N\": \"Prefiero no responder\",\n",
    "        \"Otro\": \"Prefiero no responder\",\n",
    "        \"n\": \"Prefiero no responder\",\n",
    "        \"N\": \"Prefiero no responder\",\n",
    "        \"FEMENINO\": \"Mujer\",\n",
    "        \"f\": \"Mujer\",\n",
    "        \"MASCULINO\": \"Hombre\",\n",
    "        \"m\": \"Hombre\",\n",
    "        \"M \": \"Hombre\",\n",
    "        \"M\": \"Hombre\",\n",
    "        \"F \": \"Mujer\",\n",
    "        \"Varón\": \"Hombre\",\n",
    "        \"varon\": \"Hombre\",\n",
    "    }\n",
    "    noestan.replace({\"sexo\": Sexo}, inplace=True)\n",
    "    Subir_pacientes[\"HealthCloudGA__Gender__pc\"] = noestan[\"sexo\"]\n",
    "if (\"direccion\" in noestan.columns) == True:\n",
    "    Subir_pacientes[\"BillingStreet\"] = (\n",
    "        noestan[\"direccion\"].str.lower().replace(\"nan\", \"\")\n",
    "    )\n",
    "    # Subir_pacientes[\"BillingStreet\"] = Final_pacientes_y_empresa[\"direccion\"]\n",
    "if (\"comuna\" in noestan.columns) == True:\n",
    "    # Subir_pacientes[\"BillingState\"] = Final_pacientes_y_empresa[\"comuna\"]\n",
    "    Subir_pacientes[\"BillingState\"] = (\n",
    "        noestan[\"comuna\"].str.title().replace(\"NaN\", \"\")\n",
    "    )\n",
    "    # Subir_pacientes[\"BillingState\"] = Final_pacientes_y_empresa[\"comuna\"]\n",
    "if (\"ciudad\" in noestan.columns) == True:\n",
    "    # Subir_pacientes[\"BillingCity\"] = Final_pacientes_y_empresa[\"ciudad\"]\n",
    "    Subir_pacientes[\"BillingCity\"] = (\n",
    "        noestan[\"ciudad\"].str.title().replace(\"NaN\", \"\")\n",
    "    )\n",
    "\n",
    "if (\"cargo\" in Pacientes_con_id.columns) == True:\n",
    "    Subir_pacientes[\"PersonTitle\"] = noestan[\"cargo\"].str.title()\n",
    "\n",
    "if (\"division\" in noestan.columns) == True:\n",
    "    Subir_pacientes[\"PersonDepartment\"] = noestan[\"division\"].str.title()\n",
    "\n",
    "if (\"celular\" in noestan.columns) == True:\n",
    "    Subir_pacientes[\"Phone\"] = (\n",
    "        noestan[\"celular\"].astype(str).str.strip().replace(\"+\", \"\")\n",
    "        \n",
    "    )\n",
    "    Subir_pacientes[\"Phone\"] = Subir_pacientes[\"Phone\"].str.replace(\"NaN\", \"\")\n",
    "    Subir_pacientes[\"Phone\"] = Subir_pacientes[\"Phone\"].str.replace(\".\", \"\")\n",
    "    Subir_pacientes[\"Phone\"] = Subir_pacientes[\"Phone\"].str.replace(\"Nan\", \"\")\n",
    "    Subir_pacientes[\"Phone\"] = Subir_pacientes[\"Phone\"].str.replace(\"-\", \"\")\n",
    "    Subir_pacientes[\"Phone\"] = Subir_pacientes[\"Phone\"].str.replace(\"0\", \"\")\n",
    "    Subir_pacientes[\"Phone\"] = Subir_pacientes[\"Phone\"].str.replace(\"No Informado\", \"\")\n",
    "    Subir_pacientes[\"Phone\"] = Subir_pacientes[\"Phone\"].str.replace(\"_\", \"\")\n",
    "    Subir_pacientes[\"Phone\"] = Subir_pacientes[\"Phone\"].str.replace(\"/\", \"\")\n",
    "    Subir_pacientes[\"Phone\"] = Subir_pacientes[\"Phone\"].str.replace(\"+\", \"\")\n",
    "    Subir_pacientes[\"Phone\"] = Subir_pacientes[\"Phone\"].str.replace(\"nan\", \"\")\n",
    "    Subir_pacientes[\"Phone\"] = Subir_pacientes[\"Phone\"].str.replace(\"null\", \"\")\n",
    "    Subir_pacientes[\"Phone\"] = Subir_pacientes[\"Phone\"].str.replace(\"NULL\", \"\")\n",
    "\n",
    "\n",
    "Subir_pacientes[\"RecordTypeId\"] = \"0128c000002Byp4AAC\"\n",
    "Subir_pacientes[\"Cuenta_validada__c\"] = \"True\"\n",
    "\n",
    "\n",
    "if Pais == \"Chile\":\n",
    "    Subir_pacientes[\"BillingCountry\"] = \"Chile\"\n",
    "    Subir_pacientes[\"Identification_Type__c\"] = \"RUT\"\n",
    "    Subir_pacientes[\"Pa_s_del_Paciente__c\"] = \"a1U8c000005dAtnEAE\"\n",
    "else:\n",
    "    Subir_pacientes[\"BillingCountry\"] = \"México\"\n",
    "    Subir_pacientes[\"Identification_Type__c\"] = \"RUT\"\n",
    "    Subir_pacientes[\"Pa_s_del_Paciente__c\"] = \"a1U8c000005dAtsEAE\"\n",
    "\n",
    "#Subir_pacientes_Que_no_Estan = Subir_pacientes\n",
    "#Subir_pacientes_Estan = Subir_pacientes[Subir_pacientes[\"RutEstaoNo\"] == True]\n",
    "#Subir_pacientes = Subir_pacientes[Subir_pacientes[\"RutEstaoNo\"] == False]\n",
    "\n",
    "#Subir_pacientes[\"PersonBirthdate\"] = Subir_pacientes[\"PersonBirthdate\"].str.replace(\"0001-01-01 00:00:00\", \"\")\n",
    "\n",
    "# Subir_pacientes.PersonEmail = Subir_pacientes.PersonEmail.fillna('')\n",
    "Subir_pacientes = Subir_pacientes.drop_duplicates(\n",
    "    [\n",
    "        \"IdentificationId__pc\",\n",
    "    ],\n",
    "    keep=\"last\",\n",
    ")\n",
    "Subir_pacientes.to_excel(\n",
    "    \"F:/Empresas SF/reportes/Pacientes_Que_No_Estaban.xlsx\", index=False\n",
    ")\n",
    "Subir_pacientes.head()"
   ]
  },
  {
   "cell_type": "code",
   "execution_count": 193,
   "metadata": {
    "notebookRunGroups": {
     "groupValue": "2"
    }
   },
   "outputs": [
    {
     "data": {
      "text/plain": [
       "(21, 15)"
      ]
     },
     "execution_count": 193,
     "metadata": {},
     "output_type": "execute_result"
    }
   ],
   "source": [
    "Subir_pacientes.shape"
   ]
  },
  {
   "cell_type": "code",
   "execution_count": 194,
   "metadata": {
    "notebookRunGroups": {
     "groupValue": "2"
    }
   },
   "outputs": [],
   "source": [
    "def traerId(rut):\n",
    "    if len(rut) >= 8:\n",
    "        busquedaDatos = \"FIND {\" + rut + \"} RETURNING Account(Id,IdentificationId__pc where IdentificationId__pc = '\" + rut + \"')\"\n",
    "        derty = dict(sf.search(busquedaDatos))\n",
    "        if derty[\"searchRecords\"] != []:\n",
    "            if derty[\"searchRecords\"][0][\"attributes\"][\"type\"] == \"Account\":\n",
    "                jote = derty[\"searchRecords\"][0][\"Id\"]\n",
    "                dertyd = derty[\"searchRecords\"][0][\"IdentificationId__pc\"]\n",
    "                print(jote + \" \" + dertyd)\n",
    "                return jote\n",
    "            else:\n",
    "                print(\"no\")\n",
    "        else:\n",
    "            print(\"vacio\")\n",
    "    else:\n",
    "        return \"None\"\n",
    "\n",
    "\n",
    "def traerContact(ide):\n",
    "    ide = str(ide)\n",
    "    if len(ide) >= 12:\n",
    "        idcontact = sf.Account.get(ide)\n",
    "        return idcontact[\"PersonContactId\"]\n",
    "    else:\n",
    "        return \"NONES\"\n",
    "\n",
    "\n",
    "def agregarPaciente(listado):\n",
    "    vListado = listado.split(\",\")\n",
    "    \n",
    "    derty = None\n",
    "    #vListado[9] = datetime.strptime(vListado[9], \"%Y-%m-%d %H:%M:%S\")\n",
    "        \n",
    "        \n",
    "    if (vListado[9] == \"\"):                               \n",
    "        try:\n",
    "            derty = dict(\n",
    "                sf.Account.create(\n",
    "                    # derty = sf.Account.create(\n",
    "                    {\n",
    "                        \"FirstName\": vListado[0],\n",
    "                        \"LastName\": vListado[1],\n",
    "                        \"IdentificationId__pc\": vListado[2],\n",
    "                        \"RecordTypeId\": vListado[3],\n",
    "                        \"BillingCountry\": vListado[4],\n",
    "                        \"Identification_Type__c\": vListado[5],\n",
    "                        \"Pa_s_del_Paciente__c\": vListado[6],\n",
    "                        \"Cuenta_validada__c\": True,\n",
    "                        \"PersonEmail\": vListado[8],  \n",
    "                                          \n",
    "                        \"HealthCloudGA__Gender__pc\": vListado[10],\n",
    "                        \"Phone\": vListado[11],\n",
    "                        \"BillingCity\": vListado[12],\n",
    "                        \"BillingState\": vListado[13],\n",
    "                        \"BillingStreet\": vListado[14],\n",
    "                        \"Email_Seteado__c\": bool(vListado[15]),\n",
    "                    }\n",
    "                )\n",
    "            )\n",
    "            # return derty[\"id\"]\n",
    "        except SalesforceMalformedRequest as e:\n",
    "            print(f\"Malformed request error: {e}\")\n",
    "            error = {e}\n",
    "\n",
    "        if derty is not None:\n",
    "            return derty[\"id\"]\n",
    "        else:\n",
    "            traerId(vListado[2])\n",
    "    else:\n",
    "        try:\n",
    "            derty = dict(\n",
    "                sf.Account.create(\n",
    "                    # derty = sf.Account.create(\n",
    "                    {\n",
    "                        \"FirstName\": vListado[0],\n",
    "                        \"LastName\": vListado[1],\n",
    "                        \"IdentificationId__pc\": vListado[2],\n",
    "                        \"RecordTypeId\": vListado[3],\n",
    "                        \"BillingCountry\": vListado[4],\n",
    "                        \"Identification_Type__c\": vListado[5],\n",
    "                        \"Pa_s_del_Paciente__c\": vListado[6],\n",
    "                        \"Cuenta_validada__c\": True,\n",
    "                        \"PersonEmail\": vListado[8],\n",
    "                        \"PersonBirthdate\": vListado[9] ,\n",
    "                        #\"PersonBirthdate\":datetime.strptime(vListado[9], \"%Y-%m-%d %H:%M:%S\").formatGMT('yyyy-MM-dd\\'T\\'HH:mm:ss.SSS\\'Z\\'' + '\"'),\n",
    "                        \"HealthCloudGA__Gender__pc\": vListado[10],\n",
    "                        \"Phone\": vListado[11],\n",
    "                        \"BillingCity\": vListado[12],\n",
    "                        \"BillingState\": vListado[13],\n",
    "                        \"BillingStreet\": vListado[14],\n",
    "                        \"Email_Seteado__c\": bool(vListado[15]),\n",
    "                    }\n",
    "                )\n",
    "            )\n",
    "            # return derty[\"id\"]\n",
    "        except SalesforceMalformedRequest as e:\n",
    "            print(f\"Malformed request error: {e}\")\n",
    "            error = {e}\n",
    "\n",
    "        if derty is not None:\n",
    "            return derty[\"id\"]\n",
    "        else:\n",
    "            traerId(vListado[2])\n",
    "   "
   ]
  },
  {
   "cell_type": "code",
   "execution_count": 195,
   "metadata": {
    "notebookRunGroups": {
     "groupValue": "2"
    }
   },
   "outputs": [
    {
     "data": {
      "text/html": [
       "<div>\n",
       "<style scoped>\n",
       "    .dataframe tbody tr th:only-of-type {\n",
       "        vertical-align: middle;\n",
       "    }\n",
       "\n",
       "    .dataframe tbody tr th {\n",
       "        vertical-align: top;\n",
       "    }\n",
       "\n",
       "    .dataframe thead th {\n",
       "        text-align: right;\n",
       "    }\n",
       "</style>\n",
       "<table border=\"1\" class=\"dataframe\">\n",
       "  <thead>\n",
       "    <tr style=\"text-align: right;\">\n",
       "      <th></th>\n",
       "      <th>rut1</th>\n",
       "      <th>rut2</th>\n",
       "      <th>FirstName</th>\n",
       "      <th>LastName</th>\n",
       "      <th>IdentificationId__pc</th>\n",
       "      <th>PersonEmail</th>\n",
       "      <th>Email_Seteado__c</th>\n",
       "      <th>PersonBirthdate</th>\n",
       "      <th>derty</th>\n",
       "      <th>HealthCloudGA__Gender__pc</th>\n",
       "      <th>RecordTypeId</th>\n",
       "      <th>Cuenta_validada__c</th>\n",
       "      <th>BillingCountry</th>\n",
       "      <th>Identification_Type__c</th>\n",
       "      <th>Pa_s_del_Paciente__c</th>\n",
       "    </tr>\n",
       "  </thead>\n",
       "  <tbody>\n",
       "    <tr>\n",
       "      <th>55</th>\n",
       "      <td>210361766</td>\n",
       "      <td>17922738K</td>\n",
       "      <td>Renata Valentina</td>\n",
       "      <td>Henriquez Meza</td>\n",
       "      <td>210361766</td>\n",
       "      <td></td>\n",
       "      <td>False</td>\n",
       "      <td>2002-05-29</td>\n",
       "      <td>2002-05-29</td>\n",
       "      <td>Mujer</td>\n",
       "      <td>0128c000002Byp4AAC</td>\n",
       "      <td>True</td>\n",
       "      <td>Chile</td>\n",
       "      <td>RUT</td>\n",
       "      <td>a1U8c000005dAtnEAE</td>\n",
       "    </tr>\n",
       "    <tr>\n",
       "      <th>173</th>\n",
       "      <td>221508246</td>\n",
       "      <td>141843486</td>\n",
       "      <td>Renato Gabriel</td>\n",
       "      <td>Cuevas Romero</td>\n",
       "      <td>221508246</td>\n",
       "      <td></td>\n",
       "      <td>False</td>\n",
       "      <td>2006-06-30</td>\n",
       "      <td>2006-06-30</td>\n",
       "      <td>Hombre</td>\n",
       "      <td>0128c000002Byp4AAC</td>\n",
       "      <td>True</td>\n",
       "      <td>Chile</td>\n",
       "      <td>RUT</td>\n",
       "      <td>a1U8c000005dAtnEAE</td>\n",
       "    </tr>\n",
       "    <tr>\n",
       "      <th>193</th>\n",
       "      <td>282977710</td>\n",
       "      <td>153300178</td>\n",
       "      <td>Ema Constanza</td>\n",
       "      <td>Araya Candia</td>\n",
       "      <td>282977710</td>\n",
       "      <td></td>\n",
       "      <td>False</td>\n",
       "      <td>2023-11-25</td>\n",
       "      <td>2023-11-25</td>\n",
       "      <td>Mujer</td>\n",
       "      <td>0128c000002Byp4AAC</td>\n",
       "      <td>True</td>\n",
       "      <td>Chile</td>\n",
       "      <td>RUT</td>\n",
       "      <td>a1U8c000005dAtnEAE</td>\n",
       "    </tr>\n",
       "    <tr>\n",
       "      <th>240</th>\n",
       "      <td>161798266</td>\n",
       "      <td>161798266</td>\n",
       "      <td>Francisco Javier</td>\n",
       "      <td>Pizarro Mena</td>\n",
       "      <td>161798266</td>\n",
       "      <td>francisco.pizarro@gmail.com</td>\n",
       "      <td>True</td>\n",
       "      <td>1986-01-15</td>\n",
       "      <td>1986-01-15</td>\n",
       "      <td>Hombre</td>\n",
       "      <td>0128c000002Byp4AAC</td>\n",
       "      <td>True</td>\n",
       "      <td>Chile</td>\n",
       "      <td>RUT</td>\n",
       "      <td>a1U8c000005dAtnEAE</td>\n",
       "    </tr>\n",
       "    <tr>\n",
       "      <th>241</th>\n",
       "      <td>171667364</td>\n",
       "      <td>161798266</td>\n",
       "      <td>Maria Gabriela</td>\n",
       "      <td>Zuñiga Rojas</td>\n",
       "      <td>171667364</td>\n",
       "      <td></td>\n",
       "      <td>False</td>\n",
       "      <td>1989-10-24</td>\n",
       "      <td>1989-10-24</td>\n",
       "      <td>Mujer</td>\n",
       "      <td>0128c000002Byp4AAC</td>\n",
       "      <td>True</td>\n",
       "      <td>Chile</td>\n",
       "      <td>RUT</td>\n",
       "      <td>a1U8c000005dAtnEAE</td>\n",
       "    </tr>\n",
       "  </tbody>\n",
       "</table>\n",
       "</div>"
      ],
      "text/plain": [
       "          rut1       rut2         FirstName        LastName  \\\n",
       "55   210361766  17922738K  Renata Valentina  Henriquez Meza   \n",
       "173  221508246  141843486    Renato Gabriel   Cuevas Romero   \n",
       "193  282977710  153300178     Ema Constanza    Araya Candia   \n",
       "240  161798266  161798266  Francisco Javier    Pizarro Mena   \n",
       "241  171667364  161798266    Maria Gabriela    Zuñiga Rojas   \n",
       "\n",
       "    IdentificationId__pc                  PersonEmail Email_Seteado__c  \\\n",
       "55             210361766                                         False   \n",
       "173            221508246                                         False   \n",
       "193            282977710                                         False   \n",
       "240            161798266  francisco.pizarro@gmail.com             True   \n",
       "241            171667364                                         False   \n",
       "\n",
       "    PersonBirthdate      derty HealthCloudGA__Gender__pc        RecordTypeId  \\\n",
       "55       2002-05-29 2002-05-29                     Mujer  0128c000002Byp4AAC   \n",
       "173      2006-06-30 2006-06-30                    Hombre  0128c000002Byp4AAC   \n",
       "193      2023-11-25 2023-11-25                     Mujer  0128c000002Byp4AAC   \n",
       "240      1986-01-15 1986-01-15                    Hombre  0128c000002Byp4AAC   \n",
       "241      1989-10-24 1989-10-24                     Mujer  0128c000002Byp4AAC   \n",
       "\n",
       "    Cuenta_validada__c BillingCountry Identification_Type__c  \\\n",
       "55                True          Chile                    RUT   \n",
       "173               True          Chile                    RUT   \n",
       "193               True          Chile                    RUT   \n",
       "240               True          Chile                    RUT   \n",
       "241               True          Chile                    RUT   \n",
       "\n",
       "    Pa_s_del_Paciente__c  \n",
       "55    a1U8c000005dAtnEAE  \n",
       "173   a1U8c000005dAtnEAE  \n",
       "193   a1U8c000005dAtnEAE  \n",
       "240   a1U8c000005dAtnEAE  \n",
       "241   a1U8c000005dAtnEAE  "
      ]
     },
     "execution_count": 195,
     "metadata": {},
     "output_type": "execute_result"
    }
   ],
   "source": [
    "Subir_pacientes.head()"
   ]
  },
  {
   "cell_type": "code",
   "execution_count": 196,
   "metadata": {
    "notebookRunGroups": {
     "groupValue": "2"
    }
   },
   "outputs": [
    {
     "data": {
      "text/plain": [
       "(21, 15)"
      ]
     },
     "execution_count": 196,
     "metadata": {},
     "output_type": "execute_result"
    }
   ],
   "source": [
    "Subir_pacientes = Subir_pacientes.drop_duplicates(\n",
    "    [\n",
    "        \"IdentificationId__pc\",\n",
    "    ],\n",
    "    keep=\"last\",\n",
    ")\n",
    "\n",
    "\n",
    "Subir_pacientes.shape"
   ]
  },
  {
   "cell_type": "code",
   "execution_count": null,
   "metadata": {},
   "outputs": [],
   "source": [
    "\"\"\" Subir_pacientes.to_excel(\n",
    "    \"F:/Empresas SF/reportes/Pacientes_Que_No_Estaban.xlsx\", index=False\n",
    ") \"\"\""
   ]
  },
  {
   "cell_type": "code",
   "execution_count": 197,
   "metadata": {
    "notebookRunGroups": {
     "groupValue": "2"
    }
   },
   "outputs": [
    {
     "data": {
      "text/plain": [
       "' Subir_pacientes[\"Id\"] = Subir_pacientes[\"Id\"].astype(str)\\nSubir_pacientes = Subir_pacientes[Subir_pacientes[\"Id\"].str.len() <= 12]\\n# Subir_pacientes[\"numero\"] = Subir_pacientes[\"Id\"].str.len()\\nSubir_pacientes.shape '"
      ]
     },
     "execution_count": 197,
     "metadata": {},
     "output_type": "execute_result"
    }
   ],
   "source": [
    "\"\"\" Subir_pacientes[\"Id\"] = Subir_pacientes[\"Id\"].astype(str)\n",
    "Subir_pacientes = Subir_pacientes[Subir_pacientes[\"Id\"].str.len() <= 12]\n",
    "# Subir_pacientes[\"numero\"] = Subir_pacientes[\"Id\"].str.len()\n",
    "Subir_pacientes.shape \"\"\""
   ]
  },
  {
   "cell_type": "markdown",
   "metadata": {},
   "source": [
    "ACA SE CREAN LOS PACIENTES Q NO ESTAN"
   ]
  },
  {
   "cell_type": "code",
   "execution_count": 198,
   "metadata": {
    "notebookRunGroups": {
     "groupValue": "2"
    }
   },
   "outputs": [],
   "source": [
    "Subir_pacientes[\"dato_account\"] = \"\"\n",
    "if (\"FirstName\" in Subir_pacientes.columns) == True:\n",
    "    Subir_pacientes[\"dato_account\"] = Subir_pacientes[\"dato_account\"] + Subir_pacientes[\n",
    "        \"FirstName\"\n",
    "    ].astype(str)\n",
    "if (\"LastName\" in Subir_pacientes.columns) == True:\n",
    "    Subir_pacientes[\"dato_account\"] = (\n",
    "        Subir_pacientes[\"dato_account\"] + \",\" + Subir_pacientes[\"LastName\"].astype(str)\n",
    "    )\n",
    "if (\"IdentificationId__pc\" in Subir_pacientes.columns) == True:\n",
    "    Subir_pacientes[\"dato_account\"] = (\n",
    "        Subir_pacientes[\"dato_account\"]\n",
    "        + \",\"\n",
    "        + Subir_pacientes[\"IdentificationId__pc\"].astype(str)\n",
    "    )\n",
    "if (\"RecordTypeId\" in Subir_pacientes.columns) == True:\n",
    "    Subir_pacientes[\"dato_account\"] = (\n",
    "        Subir_pacientes[\"dato_account\"]\n",
    "        + \",\"\n",
    "        + Subir_pacientes[\"RecordTypeId\"].astype(str)\n",
    "    )\n",
    "if (\"BillingCountry\" in Subir_pacientes.columns) == True:\n",
    "    Subir_pacientes[\"dato_account\"] = (\n",
    "        Subir_pacientes[\"dato_account\"]\n",
    "        + \",\"\n",
    "        + Subir_pacientes[\"BillingCountry\"].astype(str)\n",
    "    )\n",
    "if (\"Identification_Type__c\" in Subir_pacientes.columns) == True:\n",
    "    Subir_pacientes[\"dato_account\"] = (\n",
    "        Subir_pacientes[\"dato_account\"]\n",
    "        + \",\"\n",
    "        + Subir_pacientes[\"Identification_Type__c\"].astype(str)\n",
    "    )\n",
    "if (\"Pa_s_del_Paciente__c\" in Subir_pacientes.columns) == True:\n",
    "    Subir_pacientes[\"dato_account\"] = (\n",
    "        Subir_pacientes[\"dato_account\"]\n",
    "        + \",\"\n",
    "        + Subir_pacientes[\"Pa_s_del_Paciente__c\"].astype(str)\n",
    "    )\n",
    "if (\"Cuenta_validada__c\" in Subir_pacientes.columns) == True:\n",
    "    Subir_pacientes[\"dato_account\"] = (\n",
    "        Subir_pacientes[\"dato_account\"]\n",
    "        + \",\"\n",
    "        + Subir_pacientes[\"Cuenta_validada__c\"].astype(str)\n",
    "    )\n",
    "\n",
    "if (\"PersonEmail\" in Subir_pacientes.columns) == True:\n",
    "    Subir_pacientes[\"dato_account\"] = (\n",
    "        Subir_pacientes[\"dato_account\"]\n",
    "        + \",\"\n",
    "        + Subir_pacientes[\"PersonEmail\"].astype(str)\n",
    "    )\n",
    "else:\n",
    "    Subir_pacientes[\"dato_account\"] = Subir_pacientes[\"dato_account\"] + \",\"\n",
    "\n",
    "if (\"PersonBirthdate\" in Subir_pacientes.columns) == True:\n",
    "    Subir_pacientes[\"dato_account\"] = (Subir_pacientes[\"dato_account\"] + \",\" + Subir_pacientes[\"PersonBirthdate\"].apply(lambda x: x.isoformat() + \"Z\"))\n",
    "else:\n",
    "    Subir_pacientes[\"dato_account\"] = Subir_pacientes[\"dato_account\"] + \",\"\n",
    "if (\"HealthCloudGA__Gender__pc\" in Subir_pacientes.columns) == True:\n",
    "    Subir_pacientes[\"dato_account\"] = (\n",
    "        Subir_pacientes[\"dato_account\"]\n",
    "        + \",\"\n",
    "        + Subir_pacientes[\"HealthCloudGA__Gender__pc\"].astype(str)\n",
    "    )\n",
    "else:\n",
    "    Subir_pacientes[\"dato_account\"] = Subir_pacientes[\"dato_account\"] + \",\"\n",
    "if (\"Phone\" in Subir_pacientes.columns) == True:\n",
    "    Subir_pacientes[\"dato_account\"] = (\n",
    "        Subir_pacientes[\"dato_account\"] + \",\" + Subir_pacientes[\"Phone\"].astype(str)\n",
    "    )\n",
    "else:\n",
    "    Subir_pacientes[\"dato_account\"] = Subir_pacientes[\"dato_account\"] + \",\"\n",
    "if (\"BillingCity\" in Subir_pacientes.columns) == True:\n",
    "    Subir_pacientes[\"dato_account\"] = (\n",
    "        Subir_pacientes[\"dato_account\"]\n",
    "        + \",\"\n",
    "        + Subir_pacientes[\"BillingCity\"].astype(str)\n",
    "    )\n",
    "else:\n",
    "    Subir_pacientes[\"dato_account\"] = Subir_pacientes[\"dato_account\"] + \",\"\n",
    "if (\"BillingState\" in Subir_pacientes.columns) == True:\n",
    "    Subir_pacientes[\"dato_account\"] = (\n",
    "        Subir_pacientes[\"dato_account\"]\n",
    "        + \",\"\n",
    "        + Subir_pacientes[\"BillingState\"].astype(str)\n",
    "    )\n",
    "else:\n",
    "    Subir_pacientes[\"dato_account\"] = Subir_pacientes[\"dato_account\"] + \",\"\n",
    "if (\"BillingStreet\" in Subir_pacientes.columns) == True:\n",
    "    Subir_pacientes[\"dato_account\"] = (\n",
    "        Subir_pacientes[\"dato_account\"]\n",
    "        + \",\"\n",
    "        + Subir_pacientes[\"BillingStreet\"].astype(str)\n",
    "    )\n",
    "else:\n",
    "    Subir_pacientes[\"dato_account\"] = Subir_pacientes[\"dato_account\"] + \",\"\n",
    "if (\"PersonEmail\" in Subir_pacientes.columns) == True:\n",
    "    Subir_pacientes[\"dato_account\"] = (\n",
    "        Subir_pacientes[\"dato_account\"]\n",
    "        + \",\"\n",
    "        + Subir_pacientes[\"Email_Seteado__c\"].astype(str)\n",
    "    )\n",
    "else:\n",
    "    Subir_pacientes[\"dato_account\"] = Subir_pacientes[\"dato_account\"] + \",\"\n",
    "\n",
    "# Subir_pacientes[\"dato_account\"] =  Subir_pacientes[\"dato_account\"] =\n",
    "\n",
    "Subir_pacientes[\"Id_creado\"] = Subir_pacientes[\"dato_account\"].apply(\n",
    "    lambda x: agregarPaciente(x)\n",
    ")\n"
   ]
  },
  {
   "cell_type": "code",
   "execution_count": null,
   "metadata": {},
   "outputs": [],
   "source": [
    "\"\"\" Subir_pacientes[\"Id\"] = Subir_pacientes[\"IdentificationId__pc\"].apply(\n",
    "    lambda y: traerId(y)\n",
    ") \"\"\"\n",
    "#Subir_pacientes[\"Id_creado\"]"
   ]
  },
  {
   "cell_type": "code",
   "execution_count": 199,
   "metadata": {
    "notebookRunGroups": {
     "groupValue": "2"
    }
   },
   "outputs": [
    {
     "name": "stderr",
     "output_type": "stream",
     "text": [
      "100%|██████████| 1/1 [00:05<00:00,  5.05s/it]\n"
     ]
    },
    {
     "data": {
      "text/plain": [
       "(252, 12)"
      ]
     },
     "execution_count": 199,
     "metadata": {},
     "output_type": "execute_result"
    }
   ],
   "source": [
    "query2 = \"select P_liza__c, Nombre_de_Empresa__c,Identificador__c, Rut_Empresa__c, Empresa_Padre__r.Name, Empresa__r.name,Holding__c, Plan__c, Pais__c, Activo__c, Id from Datos_Empresa__c WHERE Empresa_Padre__r.Name = '\" + campaña + \"' order by CreatedDate\"\n",
    "\n",
    "df2 = sf.smart_query(query2)\n",
    "df2[\"LLave\"] = df2[\"Rut_Empresa__c\"].str.upper().str.replace(\"-\", \"\") + df2[\"P_liza__c\"]\n",
    "\n",
    "df2[\"dato\"] = 1\n",
    "df2.to_excel(\"F:/Empresas SF/reportes/empresas_asociadas.xlsx\", index=False)\n",
    "df2.head()\n",
    "df2.shape"
   ]
  },
  {
   "cell_type": "code",
   "execution_count": 200,
   "metadata": {
    "notebookRunGroups": {
     "groupValue": "2"
    }
   },
   "outputs": [
    {
     "data": {
      "text/plain": [
       "(0, 17)"
      ]
     },
     "execution_count": 200,
     "metadata": {},
     "output_type": "execute_result"
    }
   ],
   "source": [
    "#RELACION EMPRESA PACIENMTES ---- EMPRESACONTACTOCONVENIOS\n",
    "\n",
    "\n",
    "sinId = pd.DataFrame()\n",
    "Subir_pacientes[\"Id_creado\"] = Subir_pacientes[\"Id_creado\"].astype(str)\n",
    "sinId = Subir_pacientes[Subir_pacientes[\"Id_creado\"].astype(str).str.len() < 12]\n",
    "Subir_pacientes = Subir_pacientes[Subir_pacientes[\"Id_creado\"].astype(str).str.len() >= 12]\n",
    "sinId.shape"
   ]
  },
  {
   "cell_type": "code",
   "execution_count": 201,
   "metadata": {
    "notebookRunGroups": {
     "groupValue": "2"
    }
   },
   "outputs": [
    {
     "data": {
      "text/html": [
       "<div>\n",
       "<style scoped>\n",
       "    .dataframe tbody tr th:only-of-type {\n",
       "        vertical-align: middle;\n",
       "    }\n",
       "\n",
       "    .dataframe tbody tr th {\n",
       "        vertical-align: top;\n",
       "    }\n",
       "\n",
       "    .dataframe thead th {\n",
       "        text-align: right;\n",
       "    }\n",
       "</style>\n",
       "<table border=\"1\" class=\"dataframe\">\n",
       "  <thead>\n",
       "    <tr style=\"text-align: right;\">\n",
       "      <th></th>\n",
       "      <th>rut1</th>\n",
       "      <th>rut2</th>\n",
       "      <th>FirstName</th>\n",
       "      <th>LastName</th>\n",
       "      <th>IdentificationId__pc</th>\n",
       "      <th>PersonEmail</th>\n",
       "      <th>Email_Seteado__c</th>\n",
       "      <th>PersonBirthdate</th>\n",
       "      <th>derty</th>\n",
       "      <th>HealthCloudGA__Gender__pc</th>\n",
       "      <th>RecordTypeId</th>\n",
       "      <th>Cuenta_validada__c</th>\n",
       "      <th>BillingCountry</th>\n",
       "      <th>Identification_Type__c</th>\n",
       "      <th>Pa_s_del_Paciente__c</th>\n",
       "      <th>dato_account</th>\n",
       "      <th>Id_creado</th>\n",
       "    </tr>\n",
       "  </thead>\n",
       "  <tbody>\n",
       "  </tbody>\n",
       "</table>\n",
       "</div>"
      ],
      "text/plain": [
       "Empty DataFrame\n",
       "Columns: [rut1, rut2, FirstName, LastName, IdentificationId__pc, PersonEmail, Email_Seteado__c, PersonBirthdate, derty, HealthCloudGA__Gender__pc, RecordTypeId, Cuenta_validada__c, BillingCountry, Identification_Type__c, Pa_s_del_Paciente__c, dato_account, Id_creado]\n",
       "Index: []"
      ]
     },
     "execution_count": 201,
     "metadata": {},
     "output_type": "execute_result"
    }
   ],
   "source": [
    "sinId.head()"
   ]
  },
  {
   "cell_type": "code",
   "execution_count": 202,
   "metadata": {
    "notebookRunGroups": {
     "groupValue": "2"
    }
   },
   "outputs": [
    {
     "data": {
      "text/plain": [
       "(21, 17)"
      ]
     },
     "execution_count": 202,
     "metadata": {},
     "output_type": "execute_result"
    }
   ],
   "source": [
    "sinId[\"Id_creado\"] = sinId[\"rut1\"].apply(lambda y: traerId(y))\n",
    "\n",
    "Subir_pacientes = pd.concat([Subir_pacientes, sinId], axis=0)\n",
    "Subir_pacientes.shape"
   ]
  },
  {
   "cell_type": "code",
   "execution_count": 203,
   "metadata": {
    "notebookRunGroups": {
     "groupValue": "2"
    }
   },
   "outputs": [
    {
     "data": {
      "text/plain": [
       "' Subir_pacientes.to_excel(\\n    \"F:/Empresas SF/reportes/dertyuiop.xlsx\", index=False\\n)\\nSubir_pacientes.head() '"
      ]
     },
     "execution_count": 203,
     "metadata": {},
     "output_type": "execute_result"
    }
   ],
   "source": [
    "\"\"\" Subir_pacientes.to_excel(\n",
    "    \"F:/Empresas SF/reportes/dertyuiop.xlsx\", index=False\n",
    ")\n",
    "Subir_pacientes.head() \"\"\""
   ]
  },
  {
   "cell_type": "code",
   "execution_count": 204,
   "metadata": {
    "notebookRunGroups": {
     "groupValue": "2"
    }
   },
   "outputs": [],
   "source": [
    "Subir_pacientes = Subir_pacientes[\n",
    "    [\n",
    "        \"rut1\",\n",
    "        \"rut2\",\n",
    "        \"Id_creado\",\n",
    "        \n",
    "    ]\n",
    "]\n",
    "\n",
    "\n",
    "\n"
   ]
  },
  {
   "cell_type": "code",
   "execution_count": 205,
   "metadata": {
    "notebookRunGroups": {
     "groupValue": "2"
    }
   },
   "outputs": [
    {
     "data": {
      "text/plain": [
       "(21, 3)"
      ]
     },
     "execution_count": 205,
     "metadata": {},
     "output_type": "execute_result"
    }
   ],
   "source": [
    "Subir_pacientes.shape"
   ]
  },
  {
   "cell_type": "code",
   "execution_count": 206,
   "metadata": {
    "notebookRunGroups": {
     "groupValue": "2"
    }
   },
   "outputs": [],
   "source": [
    "Pacientes_con_id[\"Id_creado\"] = Pacientes_con_id[\"Id Account Paciente\"]"
   ]
  },
  {
   "cell_type": "code",
   "execution_count": 207,
   "metadata": {
    "notebookRunGroups": {
     "groupValue": "2"
    }
   },
   "outputs": [
    {
     "data": {
      "text/plain": [
       "(682, 37)"
      ]
     },
     "execution_count": 207,
     "metadata": {},
     "output_type": "execute_result"
    }
   ],
   "source": [
    "Pacientes_con_id.shape"
   ]
  },
  {
   "cell_type": "code",
   "execution_count": 208,
   "metadata": {
    "notebookRunGroups": {
     "groupValue": "2"
    }
   },
   "outputs": [
    {
     "data": {
      "text/plain": [
       "(682, 6)"
      ]
     },
     "execution_count": 208,
     "metadata": {},
     "output_type": "execute_result"
    }
   ],
   "source": [
    "\n",
    "#noestan[\"Id Account Paciente\"] = np.where(Subir_pacientes[\"IdentificationId__pc\"] == noestan[\"rut\"],Subir_pacientes[\"Id_creado\"] + \"SI\",\"NO\")\n",
    "todos_con_Id = pd.merge(\n",
    "    left=Pacientes_con_id,\n",
    "    right=Subir_pacientes,\n",
    "    how=\"left\",\n",
    "    left_on=\"rut\",\n",
    "    right_on=\"rut1\",\n",
    ")\n",
    "\n",
    "todos_con_Id = todos_con_Id[\n",
    "    [\n",
    "        \"poliza\",\n",
    "        #\"empleador\",\n",
    "        \"rutE\",\n",
    "        \"rut\",\n",
    "        \"rutT\",\n",
    "        \"Id_creado_x\",\n",
    "        \"Id_creado_y\",\n",
    "    ]\n",
    "]\n",
    "\n",
    "todos_con_Id.shape\n"
   ]
  },
  {
   "cell_type": "code",
   "execution_count": 209,
   "metadata": {
    "notebookRunGroups": {
     "groupValue": "2"
    }
   },
   "outputs": [
    {
     "data": {
      "text/html": [
       "<div>\n",
       "<style scoped>\n",
       "    .dataframe tbody tr th:only-of-type {\n",
       "        vertical-align: middle;\n",
       "    }\n",
       "\n",
       "    .dataframe tbody tr th {\n",
       "        vertical-align: top;\n",
       "    }\n",
       "\n",
       "    .dataframe thead th {\n",
       "        text-align: right;\n",
       "    }\n",
       "</style>\n",
       "<table border=\"1\" class=\"dataframe\">\n",
       "  <thead>\n",
       "    <tr style=\"text-align: right;\">\n",
       "      <th></th>\n",
       "      <th>poliza</th>\n",
       "      <th>rutE</th>\n",
       "      <th>rut</th>\n",
       "      <th>rutT</th>\n",
       "      <th>Id_creado_x</th>\n",
       "      <th>Id_creado_y</th>\n",
       "    </tr>\n",
       "  </thead>\n",
       "  <tbody>\n",
       "    <tr>\n",
       "      <th>0</th>\n",
       "      <td>282234</td>\n",
       "      <td>93270000K</td>\n",
       "      <td>102569822</td>\n",
       "      <td>102569822</td>\n",
       "      <td>0018c00002f3MxbAAE</td>\n",
       "      <td>NaN</td>\n",
       "    </tr>\n",
       "    <tr>\n",
       "      <th>1</th>\n",
       "      <td>282234</td>\n",
       "      <td>93270000K</td>\n",
       "      <td>112649506</td>\n",
       "      <td>102569822</td>\n",
       "      <td>0018c00002f3MxcAAE</td>\n",
       "      <td>NaN</td>\n",
       "    </tr>\n",
       "    <tr>\n",
       "      <th>2</th>\n",
       "      <td>282234</td>\n",
       "      <td>93270000K</td>\n",
       "      <td>104036406</td>\n",
       "      <td>104036406</td>\n",
       "      <td>0018c00002bI10vAAC</td>\n",
       "      <td>NaN</td>\n",
       "    </tr>\n",
       "    <tr>\n",
       "      <th>3</th>\n",
       "      <td>282234</td>\n",
       "      <td>93270000K</td>\n",
       "      <td>221935470</td>\n",
       "      <td>104036406</td>\n",
       "      <td>0018c00002bKFvGAAW</td>\n",
       "      <td>NaN</td>\n",
       "    </tr>\n",
       "    <tr>\n",
       "      <th>4</th>\n",
       "      <td>282234</td>\n",
       "      <td>93270000K</td>\n",
       "      <td>208576992</td>\n",
       "      <td>104036406</td>\n",
       "      <td>0018c00002bJr92AAC</td>\n",
       "      <td>NaN</td>\n",
       "    </tr>\n",
       "  </tbody>\n",
       "</table>\n",
       "</div>"
      ],
      "text/plain": [
       "   poliza       rutE        rut       rutT         Id_creado_x Id_creado_y\n",
       "0  282234  93270000K  102569822  102569822  0018c00002f3MxbAAE         NaN\n",
       "1  282234  93270000K  112649506  102569822  0018c00002f3MxcAAE         NaN\n",
       "2  282234  93270000K  104036406  104036406  0018c00002bI10vAAC         NaN\n",
       "3  282234  93270000K  221935470  104036406  0018c00002bKFvGAAW         NaN\n",
       "4  282234  93270000K  208576992  104036406  0018c00002bJr92AAC         NaN"
      ]
     },
     "execution_count": 209,
     "metadata": {},
     "output_type": "execute_result"
    }
   ],
   "source": [
    "todos_con_Id.head()"
   ]
  },
  {
   "cell_type": "code",
   "execution_count": 210,
   "metadata": {
    "notebookRunGroups": {
     "groupValue": "2"
    }
   },
   "outputs": [],
   "source": [
    "todos_con_Id.Id_creado_x.fillna(todos_con_Id[\"Id_creado_y\"], inplace=True)\n",
    "todos_con_Id.Id_creado_x.fillna(\"FARSO\", inplace=True)\n",
    "todos_con_Id = todos_con_Id[todos_con_Id[\"Id_creado_x\"] != \"FARSO\"]\n",
    "todos_con_Id2 = todos_con_Id[todos_con_Id[\"Id_creado_x\"] == \"FARSO\"]\n",
    "todos_con_Id2[\"Id_creado_x\"] = todos_con_Id2[\"rut\"].apply(lambda y: traerId(y))\n",
    "todos_con_Id = pd.concat([todos_con_Id, todos_con_Id2], axis=0)"
   ]
  },
  {
   "cell_type": "code",
   "execution_count": 211,
   "metadata": {
    "notebookRunGroups": {
     "groupValue": "2"
    }
   },
   "outputs": [
    {
     "data": {
      "text/html": [
       "<div>\n",
       "<style scoped>\n",
       "    .dataframe tbody tr th:only-of-type {\n",
       "        vertical-align: middle;\n",
       "    }\n",
       "\n",
       "    .dataframe tbody tr th {\n",
       "        vertical-align: top;\n",
       "    }\n",
       "\n",
       "    .dataframe thead th {\n",
       "        text-align: right;\n",
       "    }\n",
       "</style>\n",
       "<table border=\"1\" class=\"dataframe\">\n",
       "  <thead>\n",
       "    <tr style=\"text-align: right;\">\n",
       "      <th></th>\n",
       "      <th>poliza</th>\n",
       "      <th>rutE</th>\n",
       "      <th>rut</th>\n",
       "      <th>rutT</th>\n",
       "      <th>Id_creado_x</th>\n",
       "      <th>Id_creado_y</th>\n",
       "    </tr>\n",
       "  </thead>\n",
       "  <tbody>\n",
       "    <tr>\n",
       "      <th>0</th>\n",
       "      <td>282234</td>\n",
       "      <td>93270000K</td>\n",
       "      <td>102569822</td>\n",
       "      <td>102569822</td>\n",
       "      <td>0018c00002f3MxbAAE</td>\n",
       "      <td>NaN</td>\n",
       "    </tr>\n",
       "    <tr>\n",
       "      <th>1</th>\n",
       "      <td>282234</td>\n",
       "      <td>93270000K</td>\n",
       "      <td>112649506</td>\n",
       "      <td>102569822</td>\n",
       "      <td>0018c00002f3MxcAAE</td>\n",
       "      <td>NaN</td>\n",
       "    </tr>\n",
       "    <tr>\n",
       "      <th>2</th>\n",
       "      <td>282234</td>\n",
       "      <td>93270000K</td>\n",
       "      <td>104036406</td>\n",
       "      <td>104036406</td>\n",
       "      <td>0018c00002bI10vAAC</td>\n",
       "      <td>NaN</td>\n",
       "    </tr>\n",
       "    <tr>\n",
       "      <th>3</th>\n",
       "      <td>282234</td>\n",
       "      <td>93270000K</td>\n",
       "      <td>221935470</td>\n",
       "      <td>104036406</td>\n",
       "      <td>0018c00002bKFvGAAW</td>\n",
       "      <td>NaN</td>\n",
       "    </tr>\n",
       "    <tr>\n",
       "      <th>4</th>\n",
       "      <td>282234</td>\n",
       "      <td>93270000K</td>\n",
       "      <td>208576992</td>\n",
       "      <td>104036406</td>\n",
       "      <td>0018c00002bJr92AAC</td>\n",
       "      <td>NaN</td>\n",
       "    </tr>\n",
       "  </tbody>\n",
       "</table>\n",
       "</div>"
      ],
      "text/plain": [
       "   poliza       rutE        rut       rutT         Id_creado_x Id_creado_y\n",
       "0  282234  93270000K  102569822  102569822  0018c00002f3MxbAAE         NaN\n",
       "1  282234  93270000K  112649506  102569822  0018c00002f3MxcAAE         NaN\n",
       "2  282234  93270000K  104036406  104036406  0018c00002bI10vAAC         NaN\n",
       "3  282234  93270000K  221935470  104036406  0018c00002bKFvGAAW         NaN\n",
       "4  282234  93270000K  208576992  104036406  0018c00002bJr92AAC         NaN"
      ]
     },
     "execution_count": 211,
     "metadata": {},
     "output_type": "execute_result"
    }
   ],
   "source": [
    "todos_con_Id.head()"
   ]
  },
  {
   "cell_type": "code",
   "execution_count": 212,
   "metadata": {
    "notebookRunGroups": {
     "groupValue": "2"
    }
   },
   "outputs": [
    {
     "data": {
      "text/plain": [
       "' todos_con_Id.to_excel(\\n    \"F:/Empresas SF/reportes/todos_con_Id.xlsx\", index=False\\n) '"
      ]
     },
     "execution_count": 212,
     "metadata": {},
     "output_type": "execute_result"
    }
   ],
   "source": [
    "\"\"\" todos_con_Id.to_excel(\n",
    "    \"F:/Empresas SF/reportes/todos_con_Id.xlsx\", index=False\n",
    ") \"\"\"\n"
   ]
  },
  {
   "cell_type": "code",
   "execution_count": 213,
   "metadata": {
    "notebookRunGroups": {
     "groupValue": "2"
    }
   },
   "outputs": [],
   "source": [
    "if campaña == \"Southbridge Plan Mujer\":\n",
    "    VempresaConvenio = \"a3yRN0000006sVTYAY\"\n",
    "elif campaña == \"Southbridge\":\n",
    "    \n",
    "    VempresaConvenio = \"a3yRN0000006sqYYAQ\"\n",
    "elif campaña == \"Construmart\":\n",
    "    \n",
    "    VempresaConvenio = \"a3yRN0000006rlZYAQ\"\n",
    "elif campaña == \"EY\":\n",
    "    \n",
    "    VempresaConvenio = \"a3yRN0000006rsTYAQ\"\n",
    "elif campaña == \"Colmena\":\n",
    "\n",
    "    VempresaConvenio = \"a3yRN0000006rf5YAA\"\n",
    "elif campaña == \"Pedro De Valdivia\":\n",
    "    \n",
    "    VempresaConvenio = \"a3yRN0000006sVzYAI\"\n",
    "elif campaña == \"Forum\":\n",
    "    \n",
    "    VempresaConvenio = \"a3yRN0000006s3SYAQ\"\n",
    "elif campaña == \"Cruz Verde\":\n",
    "    \n",
    "    VempresaConvenio = \"a3yRN0000006rsqYAA\"\n",
    "elif campaña == \"Milan Fajanovic\":\n",
    "    \n",
    "    VempresaConvenio = \"a3yRN0000006sR4YAI\"\n",
    "elif campaña == \"ProChile\":\n",
    "    \n",
    "    VempresaConvenio = \"a3yRN0000006rpsYAA\"\n",
    "elif campaña == \"Farmacias Ahumada\":\n",
    "    \n",
    "    VempresaConvenio = \"a3yRN0000006rspYAA\"\n",
    "elif campaña == \"Minera El Abra\":\n",
    "    \n",
    "    VempresaConvenio = \"a3yRN0000006snOYAQ\"\n",
    "elif campaña == \"Instruvalve\":\n",
    "    \n",
    "    VempresaConvenio = \"a3yRN0000006s9DYAQ\"\n",
    "elif campaña == \"VidaCel\":\n",
    "    \n",
    "    VempresaConvenio = \"a3yRN0000006suzYAA\"\n",
    "elif campaña == \"Care Assistance Colaboradores\":\n",
    "    \n",
    "    VempresaConvenio = \"a3yRN0000006reXYA\"\n",
    "elif campaña == \"Nexo\":\n",
    "    \n",
    "    VempresaConvenio = \"a3yRN0000006sORYAY\"\n",
    "elif campaña == \"Talo\":\n",
    "    \n",
    "    VempresaConvenio = \"a3yRN0000006t10YAA\"\n",
    "elif campaña == \"MetLife Rentas Vitalicias\":\n",
    "    \n",
    "    VempresaConvenio = \"a3yRN0000006tWiYAI\"\n",
    "else:\n",
    "    \n",
    "    VempresaConvenio = \"Buscarv\"\n"
   ]
  },
  {
   "cell_type": "code",
   "execution_count": 214,
   "metadata": {
    "notebookRunGroups": {
     "groupValue": "2"
    }
   },
   "outputs": [],
   "source": [
    "if(campaña == \"MetLife\" or campaña == \"BCI Seguros Colectivos\"):\n",
    "    empresacontactoconvenio_PacientesSF[\"llave\"] = empresacontactoconvenio_PacientesSF[\"Poliza\"] + empresacontactoconvenio_PacientesSF[\"Rut Titular\"] + empresacontactoconvenio_PacientesSF[\"Rut_x\"]\n",
    "    todos_con_Id[\"llave\"] = todos_con_Id[\"poliza\"] + todos_con_Id[\"rutT\"] + todos_con_Id[\"rut\"]\n",
    "    \n",
    "elif(campaña == \"Vida Security\"):\n",
    "    empresacontactoconvenio_PacientesSF[\"llave\"] = empresacontactoconvenio_PacientesSF[\"Poliza\"] +empresacontactoconvenio_PacientesSF[\"Rut Empresa\"] + empresacontactoconvenio_PacientesSF[\"Rut Titular\"] + empresacontactoconvenio_PacientesSF[\"Rut_x\"]\n",
    "    todos_con_Id[\"llave\"] = todos_con_Id[\"poliza\"] + todos_con_Id[\"rutE\"] + todos_con_Id[\"rutT\"] + todos_con_Id[\"rut\"]\n",
    "else:\n",
    "    empresacontactoconvenio_PacientesSF[\"llave\"] = empresacontactoconvenio_PacientesSF[\"Rut Titular\"] + empresacontactoconvenio_PacientesSF[\"Rut_x\"]\n",
    "    todos_con_Id[\"llave\"] = todos_con_Id[\"rutT\"] + todos_con_Id[\"rut\"]    \n",
    "    \n",
    "\n",
    "todos_con_Id[\"esta\"] = todos_con_Id[\"llave\"].isin(empresacontactoconvenio_PacientesSF[\"llave\"])\n",
    "empresacontactoconvenio_PacientesSF[\"Noesta\"] = empresacontactoconvenio_PacientesSF[\"llave\"].isin(todos_con_Id[\"llave\"])\n",
    "\n",
    "\n",
    "diccionario = df2[\n",
    "    [\n",
    "        \"P_liza__c\",\n",
    "        \"Id\",        \n",
    "    ]\n",
    "]\n",
    "diccionario = diccionario.drop_duplicates(\n",
    "    [\n",
    "        \"P_liza__c\",\n",
    "        \"Id\",        \n",
    "    ],\n",
    "    keep=\"last\",\n",
    ")\n",
    "diccionario = diccionario.drop_duplicates(\n",
    "    [\n",
    "        \"P_liza__c\",        \n",
    "    ],\n",
    "    keep=\"last\",\n",
    ")\n",
    "\n",
    "diccionario = diccionario.set_index(\"P_liza__c\").T.to_dict(orient=\"list\")\n",
    "\n",
    "diccionario2 = df2[\n",
    "    [\n",
    "        \"P_liza__c\",\n",
    "        \"Activo__c\",        \n",
    "    ]\n",
    "]\n",
    "diccionario2 = diccionario2.drop_duplicates(\n",
    "    [\n",
    "        \"P_liza__c\",        \n",
    "    ],\n",
    "    keep=\"last\",\n",
    ")\n",
    "\n",
    "diccionario2 = diccionario2.set_index(\"P_liza__c\").T.to_dict(orient=\"list\")\n",
    "\n",
    "\n",
    "todos_con_Id[\"N_Documento_Titular__c\"] = todos_con_Id[\"rutT\"]\n",
    "todos_con_Id[\"Paciente__c\"] = todos_con_Id[\"Id_creado_x\"]\n",
    "todos_con_Id[\"Empresa__c\"] = VempresaConvenio\n",
    "todos_con_Id[\"EmpActiva\"] = \"revisar\"\n",
    "\n",
    "\n",
    "todos_con_Id = todos_con_Id[\n",
    "    [\n",
    "        \"poliza\",\n",
    "        \"rutE\",\n",
    "        \"rut\",\n",
    "        \"rutT\",\n",
    "        \"Paciente__c\",\n",
    "        \"N_Documento_Titular__c\",\n",
    "        \"Empresa__c\",\n",
    "        \"esta\",\n",
    "        \"EmpActiva\",\n",
    "    ]\n",
    "]\n",
    "\n",
    "\n",
    "if (VempresaConvenio == \"Buscarv\"):\n",
    "    todos_con_Id[\"poliza2\"] = todos_con_Id[\"poliza\"] \n",
    "    todos_con_Id.replace({\"poliza2\": diccionario}, inplace=True)    \n",
    "    todos_con_Id[\"Empresa__c\"] = np.where(todos_con_Id[\"poliza2\"].str.len() >= 15, todos_con_Id[\"poliza2\"], todos_con_Id[\"Empresa__c\"])\n",
    "    todos_con_Id[\"EmpActiva\"] = todos_con_Id[\"poliza\"] \n",
    "    todos_con_Id.replace({\"EmpActiva\": diccionario2}, inplace=True)\n",
    "    \n",
    "todos_con_Id = todos_con_Id[\n",
    "    [\n",
    "        \"poliza\",        \n",
    "        \"rutE\",\n",
    "        \"rut\",\n",
    "        \"rutT\",\n",
    "        \"Paciente__c\",\n",
    "        \"N_Documento_Titular__c\",\n",
    "        \"Empresa__c\",\n",
    "        \"esta\",\n",
    "        \"EmpActiva\",\n",
    "    ]\n",
    "]\n"
   ]
  },
  {
   "cell_type": "code",
   "execution_count": null,
   "metadata": {
    "notebookRunGroups": {
     "groupValue": ""
    }
   },
   "outputs": [],
   "source": [
    "todos_con_Id.head(50)"
   ]
  },
  {
   "cell_type": "code",
   "execution_count": 215,
   "metadata": {
    "notebookRunGroups": {
     "groupValue": "2"
    }
   },
   "outputs": [],
   "source": [
    "\n",
    "todos_con_Id = todos_con_Id[todos_con_Id[\"esta\"] == False]\n",
    "\n",
    "\n",
    "todos_con_Id.to_excel(\n",
    "    \"F:/Empresas SF/reportes/todos con.xlsx\", index=False\n",
    ")"
   ]
  },
  {
   "cell_type": "code",
   "execution_count": 216,
   "metadata": {
    "notebookRunGroups": {
     "groupValue": ""
    }
   },
   "outputs": [],
   "source": [
    "\n",
    "empresacontactoconvenio_PacientesSF.to_excel(\n",
    "    \"F:/Empresas SF/reportes/empresacontacto.xlsx\", index=False\n",
    ")"
   ]
  },
  {
   "cell_type": "markdown",
   "metadata": {},
   "source": [
    "Cuadrar eliminar pacientes q no estan en el listado\n",
    "//-----------------------------------------------------------//\n"
   ]
  },
  {
   "cell_type": "code",
   "execution_count": null,
   "metadata": {},
   "outputs": [],
   "source": [
    "empresacontactoconvenio_PacientesSF.drop(empresacontactoconvenio_PacientesSF[(empresacontactoconvenio_PacientesSF[\"Rut_y\"] == \"163820064\")].index, inplace=True)\n",
    "empresacontactoconvenio_PacientesSF.drop(empresacontactoconvenio_PacientesSF[(empresacontactoconvenio_PacientesSF[\"Rut_y\"] == \"153298939\")].index, inplace=True)\n",
    "empresacontactoconvenio_PacientesSF.drop(empresacontactoconvenio_PacientesSF[(empresacontactoconvenio_PacientesSF[\"Rut_y\"] == \"191710940\")].index, inplace=True)\n",
    "empresacontactoconvenio_PacientesSF.drop(empresacontactoconvenio_PacientesSF[(empresacontactoconvenio_PacientesSF[\"Rut_y\"] == \"182470082\")].index, inplace=True)\n",
    "empresacontactoconvenio_PacientesSF.drop(empresacontactoconvenio_PacientesSF[(empresacontactoconvenio_PacientesSF[\"Rut_y\"] == \"16277865\")].index, inplace=True)\n",
    "empresacontactoconvenio_PacientesSF.drop(empresacontactoconvenio_PacientesSF[(empresacontactoconvenio_PacientesSF[\"Rut_y\"] == \"16277865K\")].index, inplace=True)\n",
    "empresacontactoconvenio_PacientesSF.drop(empresacontactoconvenio_PacientesSF[(empresacontactoconvenio_PacientesSF[\"Rut_y\"] == \"HEGJ930928HMNRRL06\")].index, inplace=True)\n",
    "empresacontactoconvenio_PacientesSF.drop(empresacontactoconvenio_PacientesSF[(empresacontactoconvenio_PacientesSF[\"Rut_y\"] == \"16007258K\")].index, inplace=True)\n",
    "empresacontactoconvenio_PacientesSF.drop(empresacontactoconvenio_PacientesSF[(empresacontactoconvenio_PacientesSF[\"Rut_y\"] == \"86676540\")].index, inplace=True)\n",
    "empresacontactoconvenio_PacientesSF.drop(empresacontactoconvenio_PacientesSF[(empresacontactoconvenio_PacientesSF[\"Rut_y\"] == \"202201466\")].index, inplace=True)\n",
    "empresacontactoconvenio_PacientesSF.drop(empresacontactoconvenio_PacientesSF[(empresacontactoconvenio_PacientesSF[\"Rut_y\"] == \"105233469\")].index, inplace=True)\n",
    "empresacontactoconvenio_PacientesSF.drop(empresacontactoconvenio_PacientesSF[(empresacontactoconvenio_PacientesSF[\"Rut_y\"] == \"130949185\")].index, inplace=True)\n",
    "empresacontactoconvenio_PacientesSF.drop(empresacontactoconvenio_PacientesSF[(empresacontactoconvenio_PacientesSF[\"Rut_y\"] == \"255356798\")].index, inplace=True)\n",
    "empresacontactoconvenio_PacientesSF.drop(empresacontactoconvenio_PacientesSF[(empresacontactoconvenio_PacientesSF[\"Rut_y\"] == \"34005945\")].index, inplace=True)\n",
    "empresacontactoconvenio_PacientesSF.drop(empresacontactoconvenio_PacientesSF[(empresacontactoconvenio_PacientesSF[\"Rut_y\"] == \"185410072\")].index, inplace=True)\n",
    "empresacontactoconvenio_PacientesSF.drop(empresacontactoconvenio_PacientesSF[(empresacontactoconvenio_PacientesSF[\"Rut_y\"] == \"197415029\")].index, inplace=True)\n",
    "empresacontactoconvenio_PacientesSF.drop(empresacontactoconvenio_PacientesSF[(empresacontactoconvenio_PacientesSF[\"Rut_y\"] == \"254468134\")].index, inplace=True)\n",
    "\n",
    "\n",
    "\n",
    "empresacontactoconvenio_PacientesSF.head()"
   ]
  },
  {
   "cell_type": "code",
   "execution_count": null,
   "metadata": {},
   "outputs": [],
   "source": [
    "empresacontactoconvenio_PacientesSF.to_excel(\n",
    "    \"F:/Empresas SF/reportes/SFpacientes.xlsx\", index=False)"
   ]
  },
  {
   "cell_type": "code",
   "execution_count": null,
   "metadata": {},
   "outputs": [],
   "source": [
    "contactd = sf.Account.get(\"0018c00002lUyo0AAC\")\n",
    "contactd[\"PersonContactId\"]"
   ]
  },
  {
   "cell_type": "code",
   "execution_count": null,
   "metadata": {},
   "outputs": [],
   "source": [
    "# contactd[\"PersonContactId\"]\n",
    "print(datetime.now())"
   ]
  },
  {
   "cell_type": "code",
   "execution_count": null,
   "metadata": {},
   "outputs": [],
   "source": [
    "Subir_pacientes.to_excel(\"F:/Empresas SF/reportes/tod  es.xlsx\", index=False)"
   ]
  },
  {
   "cell_type": "markdown",
   "metadata": {},
   "source": [
    "query2 = \"select P_liza**c, Nombre_de_Empresa**c, Rut_Empresa**c, Empresa_Padre**r.Name, Empresa**r.name,Holding**c, Plan**c, Pais**c, Activo**c, Id from Datos_Empresa**c \"\n",
    "\n",
    "df2 = sf.smart_query(query2)\n",
    "df2.to_excel(\"F:/Empresas SF/reportes/empresas_nuevas.xlsx\", index=False)\n",
    "df2.head()\n"
   ]
  },
  {
   "cell_type": "markdown",
   "metadata": {},
   "source": [
    "Subir_pacientes.to_excel(\"F:/Empresas SF/reportes/111account.xlsx\", index=False)\n"
   ]
  },
  {
   "cell_type": "markdown",
   "metadata": {},
   "source": [
    "derty = Subir_pacientes[\"IdentificationId__pc\"]\n",
    "sf.Contact.create({\"IdentificationId\\_\\_pc\": \"derty\", \"Email\": \"example@example.com\"})\n"
   ]
  },
  {
   "cell_type": "markdown",
   "metadata": {},
   "source": [
    "Subir_pacientes.head()\n"
   ]
  },
  {
   "cell_type": "markdown",
   "metadata": {},
   "source": [
    "Subir_pacientes.head()\n",
    "Subir_pacientes.to_excel(\"F:/Empresas SF/reportes/account\\_\\_l.xlsx\", index=False)\n"
   ]
  },
  {
   "cell_type": "code",
   "execution_count": null,
   "metadata": {},
   "outputs": [],
   "source": [
    "\"\"\" if campaña != \"MetLife\":\n",
    "    pacientes_en_campaña = pd.merge(\n",
    "        left=campaña_seleccionada,\n",
    "        right=Pacientes_con_id,\n",
    "        how=\"left\",\n",
    "        left_on=\"Id Account\",\n",
    "        right_on=\"Id Account Paciente\",\n",
    "    )\n",
    "    pacientes_en_campaña[\"Paciente__c\"] = \"Id Pacientes\"\n",
    "    pacientes_en_campaña[\"Programas_por_Empresas__c\"] = \"Id Programas Por empresa\"\n",
    "    pacientes_en_campaña.to_excel(\n",
    "        \"F:/Empresas SF/reportes/campaña_empresa.xlsx\", index=False\n",
    "    )\n",
    "    campaña_en_pacientes = pd.merge(\n",
    "        left=Pacientes_con_id,\n",
    "        right=campaña_seleccionada,\n",
    "        how=\"left\",\n",
    "        left_on=\"Id Account Paciente\",\n",
    "        right_on=\"Id Account\",\n",
    "    )\n",
    "    campaña_en_pacientes.to_excel(\n",
    "        \"F:/Empresas SF/reportes/archivo_campaña.xlsx\", index=False\n",
    "    )\n",
    " \"\"\""
   ]
  },
  {
   "cell_type": "code",
   "execution_count": null,
   "metadata": {},
   "outputs": [],
   "source": [
    "\"\"\" if campaña != \"MetLife1\":\n",
    "    campaña_en_pacientes = pd.merge(\n",
    "        left=Pacientes_con_id,\n",
    "        right=campaña_seleccionada,\n",
    "        how=\"left\",\n",
    "        left_on=\"Id Account Paciente\",\n",
    "        right_on=\"Id Account\",\n",
    "    )\n",
    "    if (\"poliza\" in campaña_en_pacientes.columns) == True:\n",
    "        campaña_en_pacientes[\"poliza\"] = campaña_en_pacientes[\"poliza\"].astype(str)\n",
    "\n",
    "    campaña_en_pacientes = campaña_en_pacientes.rename(\n",
    "        columns={\"Programas_por_Empresas__c\": \"programas por empresa\"}\n",
    "    )\n",
    "    campaña_en_pacientes[\"Paciente__c\"] = campaña_en_pacientes[\"Id Account Paciente\"]\n",
    "    campaña_en_pacientes[\"Programas_por_Empresas__c\"] = campaña_en_pacientes[\n",
    "        \"programas por empresa\"\n",
    "    ]\n",
    "    campaña_en_pacientes.to_excel(\n",
    "        \"F:/Empresas SF/reportes/archivo_campaña2.xlsx\", index=False\n",
    "    ) \"\"\""
   ]
  },
  {
   "cell_type": "code",
   "execution_count": null,
   "metadata": {},
   "outputs": [],
   "source": [
    "# apprix_1 = Pacientes_SF.iloc[:790552,:]\n",
    "# apprix_2 = Pacientes_SF.iloc[790553:,:]\n",
    "# apprix_1.to_excel(\"F:/Empresas SF/reportes/Ruts1.xlsx\",index=False)\n",
    "# apprix_2.to_excel(\"F:/Empresas SF/reportes/Ruts2.xlsx\",index=False)"
   ]
  },
  {
   "cell_type": "code",
   "execution_count": null,
   "metadata": {},
   "outputs": [],
   "source": [
    "campaña_en_pacientes2 = pd.merge(\n",
    "    left=Pacientes_con_id,\n",
    "    right=campaña_seleccionada,\n",
    "    how=\"left\",\n",
    "    left_on=\"Id Account Paciente\",\n",
    "    right_on=\"Id Account\",\n",
    ")\n",
    "if (\"poliza\" in campaña_en_pacientes2.columns) == True:\n",
    "    campaña_en_pacientes2[\"poliza\"] = campaña_en_pacientes2[\"poliza\"].astype(str)\n",
    "\n",
    "campaña_en_pacientes2 = campaña_en_pacientes2.rename(\n",
    "    columns={\"Programas_por_Empresas__c\": \"programas por empresa\"}\n",
    ")\n",
    "campaña_en_pacientes2[\"Paciente__c\"] = campaña_en_pacientes2[\"Id Account Paciente\"]\n",
    "campaña_en_pacientes2[\"Programas_por_Empresas__c\"] = campaña_en_pacientes2[\n",
    "    \"programas por empresa\"\n",
    "]\n",
    "\n",
    "\n",
    "\"\"\" campaña_en_pacientes2 = campaña_en_pacientes2[\n",
    "    (campaña_en_pacientes2[\"Programas_por_Empresas__c\"] == \"\")] \"\"\"\n",
    "campaña_en_pacientes2[\"Esta\"] = campaña_en_pacientes2[\"programas por empresa\"].isnull()\n",
    "campaña_en_pacientes2 = campaña_en_pacientes2[campaña_en_pacientes2[\"Esta\"]]\n",
    "campaña_en_pacientes2.to_excel(\n",
    "    \"F:/Empresas SF/reportes/archivo_campaña3.xlsx\", index=False\n",
    ")"
   ]
  },
  {
   "cell_type": "code",
   "execution_count": null,
   "metadata": {},
   "outputs": [],
   "source": [
    "campaña_en_pacientes2[\"rut\"].shape"
   ]
  },
  {
   "cell_type": "code",
   "execution_count": null,
   "metadata": {},
   "outputs": [],
   "source": [
    "# nuevosrutes = \"F:/Empresas SF/reportes/rut.xlsx\"\n",
    "# campaña = \"BCI Seguros Colectivos\"\n",
    "# Pais = \"Chile\"\n",
    "# Pais = \"México\"\n",
    "\n",
    "# rutes = pd.read_excel(nuevosrutes)\n",
    "rutes = pd.DataFrame(columns=[\"rut\"])\n",
    "rutes[\"rut\"] = Pacientes_Archivo[\"rut\"]\n",
    "rutes[\"rutT\"] = Pacientes_Archivo[\"rut2\"]\n",
    "rutes[\"Contratante\"] = Pacientes_Archivo[\"Contratante\"]\n",
    "# rutes[\"poliza\"] = Pacientes_Archivo[\"poliza\"]\n",
    "rutes.head()"
   ]
  },
  {
   "cell_type": "code",
   "execution_count": null,
   "metadata": {},
   "outputs": [],
   "source": [
    "rutes[\"rut\"] = rutes[\"rut\"].astype(str)\n",
    "rutes[\"rut\"] = rutes[\"rut\"].str.replace(\".\", \"\")\n",
    "rutes[\"rut\"] = rutes[\"rut\"].str.replace(\"-\", \"\")\n",
    "# aca se trabaja con el nuevo rut desde rut1 ojooooooo\n",
    "rutes[\"rut\"] = rutes[\"rut\"].str.upper()\n",
    "rutes[\"rut\"] = rutes[\"rut\"].str.strip()\n",
    "\n",
    "rutes[\"rutT\"] = rutes[\"rutT\"].astype(str)\n",
    "rutes[\"rutT\"] = rutes[\"rutT\"].str.replace(\".\", \"\")\n",
    "rutes[\"rutT\"] = rutes[\"rutT\"].str.replace(\"-\", \"\")\n",
    "# aca se trabaja con el nuevo rut desde rut1 ojooooooo\n",
    "rutes[\"rutT\"] = rutes[\"rutT\"].str.upper()\n",
    "rutes[\"rutT\"] = rutes[\"rutT\"].str.strip()\n",
    "\n",
    "\"\"\" rutes[\"poliza\"] = rutes[\"poliza\"].astype(str)\n",
    "rutes[\"poliza\"] = rutes[\"poliza\"].str.replace(\".\", \"\")\n",
    "rutes[\"poliza\"] = rutes[\"poliza\"].str.replace(\"-\", \"\")\n",
    "# aca se trabaja con el nuevo rut desde rut1 ojooooooo\n",
    "rutes[\"poliza\"] = rutes[\"poliza\"].str.strip() \"\"\"\n",
    "\n",
    "\n",
    "rutes.head()"
   ]
  },
  {
   "cell_type": "code",
   "execution_count": null,
   "metadata": {},
   "outputs": [],
   "source": [
    "# derty = rutes.to_numpy().transpose().tolist()\n",
    "\n",
    "\n",
    "Pacientes_SF2 = Pacientes_SF[[\"Rut\", \"Id Account Paciente\"]]"
   ]
  },
  {
   "cell_type": "code",
   "execution_count": null,
   "metadata": {},
   "outputs": [],
   "source": [
    "rutesi = pd.merge(\n",
    "    left=rutes,\n",
    "    right=Pacientes_SF2,\n",
    "    how=\"left\",\n",
    "    left_on=\"rut\",\n",
    "    right_on=\"Rut\",\n",
    ")\n",
    "rutesi.shape\n",
    "rutesi.to_excel(\"F:/Empresas SF/reportes/rutsyempresa.xlsx\", index=False)"
   ]
  },
  {
   "cell_type": "code",
   "execution_count": null,
   "metadata": {},
   "outputs": [],
   "source": [
    "rutesi.head()"
   ]
  },
  {
   "cell_type": "code",
   "execution_count": null,
   "metadata": {},
   "outputs": [],
   "source": [
    "rutesi_antg = pd.merge(\n",
    "    left=rutesi,\n",
    "    right=empresas_unidas,\n",
    "    how=\"left\",\n",
    "    left_on=\"Id Account Paciente\",\n",
    "    right_on=\"Id Account\",\n",
    ")"
   ]
  },
  {
   "cell_type": "code",
   "execution_count": null,
   "metadata": {},
   "outputs": [],
   "source": [
    "rutesi_antg.head()"
   ]
  },
  {
   "cell_type": "code",
   "execution_count": null,
   "metadata": {},
   "outputs": [],
   "source": [
    "# rutesi_antg .to_excel(\"F:/Empresas SF/reportes/ruts_empresas_antiguos.xlsx\", index=False)"
   ]
  },
  {
   "cell_type": "code",
   "execution_count": null,
   "metadata": {},
   "outputs": [],
   "source": [
    "import json\n",
    "import pandas as pd\n",
    "from simple_salesforce import Salesforce, format_soql, format_external_id\n",
    "from json import loads, dumps\n",
    "import simpler_sf\n",
    "\n",
    "simpler_sf.simple_salesforce()"
   ]
  },
  {
   "cell_type": "code",
   "execution_count": null,
   "metadata": {},
   "outputs": [],
   "source": [
    "with open(\"login.json\", \"r\") as j:\n",
    "    misDatos = json.load(j)\n",
    "sf = Salesforce(\n",
    "    username=misDatos[\"username\"],\n",
    "    password=misDatos[\"password\"],\n",
    "    security_token=misDatos[\"security_token\"],\n",
    ")"
   ]
  },
  {
   "cell_type": "code",
   "execution_count": null,
   "metadata": {},
   "outputs": [],
   "source": [
    "\"\"\" query = \"select Id, Account.Name, RutContact__c from AccountContactRelation \"\n",
    "\n",
    "df1 = sf.smart_query(query) \"\"\""
   ]
  },
  {
   "cell_type": "code",
   "execution_count": null,
   "metadata": {},
   "outputs": [],
   "source": [
    "# nuevosrutes = \"F:/Empresas SF/reportes/rut.xlsx\"\n",
    "# campaña = \"BCI Seguros Colectivos\"\n",
    "# Pais = \"Chile\"\n",
    "# Pais = \"México\"\n",
    "\n",
    "# rutes = pd.read_excel(nuevosrutes)\n",
    "# rutes = Subir_pacientes[\"rut\"]"
   ]
  },
  {
   "cell_type": "code",
   "execution_count": null,
   "metadata": {},
   "outputs": [],
   "source": [
    "\"\"\" df1.head() \"\"\""
   ]
  },
  {
   "cell_type": "code",
   "execution_count": null,
   "metadata": {},
   "outputs": [],
   "source": [
    "\"\"\" df1[\"rut\"] = df1[\"RutContact__c\"].astype(str)\n",
    "df1[\"rut\"] = df1[\"rut\"].str.replace(\".\", \"\")\n",
    "df1[\"rut\"] = df1[\"rut\"].str.replace(\n",
    "    \"-\", \"\"\n",
    ")  # aca se trabaja con el nuevo rut desde rut1 ojooooooo\n",
    "df1[\"rut\"] = df1[\"rut\"].str.upper()\n",
    "df1[\"rut\"] = df1[\"rut\"].str.strip()\n",
    "df1.head() \"\"\""
   ]
  },
  {
   "cell_type": "code",
   "execution_count": null,
   "metadata": {},
   "outputs": [],
   "source": [
    "\"\"\" rutes.head() \"\"\""
   ]
  },
  {
   "cell_type": "code",
   "execution_count": null,
   "metadata": {},
   "outputs": [],
   "source": [
    "\"\"\" rutesi = pd.merge(\n",
    "    left=rutes,\n",
    "    right=df1,\n",
    "    how=\"left\",\n",
    "    left_on=\"rut\",\n",
    "    right_on=\"rut\",\n",
    ") \"\"\""
   ]
  },
  {
   "cell_type": "code",
   "execution_count": null,
   "metadata": {},
   "outputs": [],
   "source": [
    "\"\"\" rutesi.to_excel(\"F:/Empresas SF/reportes/rutesnuevos_accountcontactrelation.xlsx\", index=False) \"\"\""
   ]
  },
  {
   "cell_type": "code",
   "execution_count": null,
   "metadata": {},
   "outputs": [],
   "source": [
    "\"\"\" df2[\"P_liza__c\"] = df2[\"P_liza__c\"].astype(str)\n",
    "df2[\"P_liza__c\"] = df2[\"P_liza__c\"].str.replace(\".\", \"\")\n",
    "df2[\"P_liza__c\"] = df2[\"P_liza__c\"].str.replace(\"-\", \"\")\n",
    "# aca se trabaja con el nuevo rut desde rut1 ojooooooo\n",
    "df2[\"P_liza__c\"] = df2[\"P_liza__c\"].str.upper()\n",
    "df2[\"P_liza__c\"] = df2[\"P_liza__c\"].str.strip() \"\"\""
   ]
  },
  {
   "cell_type": "code",
   "execution_count": null,
   "metadata": {},
   "outputs": [],
   "source": [
    "modelo_nuevo = pd.merge(\n",
    "    left=rutesi,\n",
    "    right=df2,\n",
    "    how=\"left\",\n",
    "    left_on=\"poliza\",\n",
    "    right_on=\"P_liza__c\",\n",
    ")\n",
    "modelo_nuevo.to_excel(\"F:/Empresas SF/reportes/modelo_nuevo.xlsx\", index=False)"
   ]
  },
  {
   "cell_type": "code",
   "execution_count": null,
   "metadata": {},
   "outputs": [],
   "source": [
    "modelo = pd.DataFrame()\n",
    "modelo = modelo_nuevo[[\"rutT\", \"Id Account Paciente\", \"Id\"]]"
   ]
  },
  {
   "cell_type": "code",
   "execution_count": null,
   "metadata": {},
   "outputs": [],
   "source": [
    "modelo.head()"
   ]
  }
 ],
 "metadata": {
  "kernelspec": {
   "display_name": "salesforce",
   "language": "python",
   "name": "python3"
  },
  "language_info": {
   "codemirror_mode": {
    "name": "ipython",
    "version": 3
   },
   "file_extension": ".py",
   "mimetype": "text/x-python",
   "name": "python",
   "nbconvert_exporter": "python",
   "pygments_lexer": "ipython3",
   "version": "3.8.16"
  },
  "orig_nbformat": 4,
  "vscode": {
   "interpreter": {
    "hash": "7fbccfb583f385d5cd7c75cc6ade03c09354727271e9200f47ca4e7fedb5381e"
   }
  }
 },
 "nbformat": 4,
 "nbformat_minor": 2
}
