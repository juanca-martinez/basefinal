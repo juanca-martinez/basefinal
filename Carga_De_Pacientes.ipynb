{
 "cells": [
  {
   "cell_type": "code",
   "execution_count": null,
   "metadata": {
    "notebookRunGroups": {
     "groupValue": "1"
    }
   },
   "outputs": [],
   "source": [
    "from pathlib import Path\n",
    "import requests\n",
    "import pandas as pd\n",
    "import numpy as np\n",
    "from io import StringIO\n",
    "import shutil\n",
    "import datetime\n",
    "from datetime import datetime\n",
    "import re\n",
    "import json\n",
    "from pandas.api.types import is_numeric_dtype\n",
    "from simple_salesforce import Salesforce, format_soql, format_external_id\n",
    "import simpler_sf\n",
    "\n",
    "simpler_sf.simple_salesforce()"
   ]
  },
  {
   "cell_type": "code",
   "execution_count": null,
   "metadata": {
    "notebookRunGroups": {
     "groupValue": "1"
    }
   },
   "outputs": [],
   "source": [
    "with open(\"login.json\", \"r\") as j:\n",
    "    misDatos = json.load(j)"
   ]
  },
  {
   "cell_type": "code",
   "execution_count": null,
   "metadata": {
    "notebookRunGroups": {
     "groupValue": "1"
    }
   },
   "outputs": [],
   "source": [
    "# para smart query\n",
    "\"\"\" sf = simple_salesforce.Salesforce(\n",
    "    username=misDatos[\"username\"],\n",
    "    password=misDatos[\"password\"],\n",
    "    security_token=misDatos[\"security_token\"],\n",
    ")\n",
    " \"\"\"\n",
    "# para lo demas\n",
    "sf = Salesforce(\n",
    "    username=misDatos[\"username\"],\n",
    "    password=misDatos[\"password\"],\n",
    "    security_token=misDatos[\"security_token\"],\n",
    ")\n",
    "# paramiko.util.log_to_file(\"paramiko.log\")\n",
    "regex = re.compile(r\"([A-Za-z0-9]+[.-_])*[A-Za-z0-9]+@[A-Za-z0-9-]+(\\.[A-Z|a-z]{2,})+\")"
   ]
  },
  {
   "cell_type": "markdown",
   "metadata": {},
   "source": [
    "Descarga de empresas en sistema\n"
   ]
  },
  {
   "cell_type": "code",
   "execution_count": null,
   "metadata": {
    "notebookRunGroups": {
     "groupValue": "1"
    }
   },
   "outputs": [],
   "source": [
    "llamadaEmpresaAntiguas = \"SELECT Id,Empresa__r.Id, Empresa__r.Name, Empresa__r.Holding__c, Empresa__r.Campa_a__c, Empresa__r.Id_Empresa__c, Empresa__r.Empleador__c, Empresa__r.poliza__c, Empresa__r.RUT_Empresa__c, Empresa__r.Corredor__c,Empresa__r.Padre_Empresa__c, Name FROM Programas_por_Empresas__c WHERE Empresa__r.Padre_Empresa__c = false\"\n",
    "vllamadaEmpresa = sf.smart_query(llamadaEmpresaAntiguas)\n",
    "vllamadaEmpresa.to_excel(\"F:/Empresas SF/reportes/empresas_Antiguas.xlsx\", index=False)\n",
    "vllamadaEmpresa.head()"
   ]
  },
  {
   "cell_type": "markdown",
   "metadata": {},
   "source": [
    "vllamadaEmpresa.shape\n"
   ]
  },
  {
   "cell_type": "code",
   "execution_count": null,
   "metadata": {
    "notebookRunGroups": {
     "groupValue": "1"
    }
   },
   "outputs": [],
   "source": [
    "# Recuperar empresas ID de salesforce desde Account\n",
    "results = sf.query_all(\n",
    "    \"\"\"\n",
    "  SELECT Id, name, Holding__c ,Campa_a__c,Id_Empresa__c,Empleador__c,poliza__c,RUT_Empresa__c  FROM account where ispersonaccount = false  AND Nueva_Estructura__c = False\n",
    "    \"\"\"\n",
    ")\n",
    "Empresas_SF = pd.DataFrame(results[\"records\"])\n",
    "Empresas_SF = Empresas_SF[\n",
    "    [\n",
    "        \"Id\",\n",
    "        \"Name\",\n",
    "        \"Holding__c\",\n",
    "        \"Campa_a__c\",\n",
    "        \"Id_Empresa__c\",\n",
    "        \"Empleador__c\",\n",
    "        \"poliza__c\",\n",
    "        \"RUT_Empresa__c\",\n",
    "    ]\n",
    "]\n",
    "Empresas_SF.shape"
   ]
  },
  {
   "cell_type": "code",
   "execution_count": null,
   "metadata": {
    "notebookRunGroups": {
     "groupValue": "1"
    }
   },
   "outputs": [],
   "source": [
    "# buscar empresas desde Programas_por_Empresas__c datos de empresas\n",
    "results = sf.query_all(\n",
    "    \"\"\"\n",
    "   select Id,Empresa__c, Empresa_Padre__c,Nombre_Empresa__c, Name  from Programas_por_Empresas__c \n",
    "    \"\"\"\n",
    ")\n",
    "Programas_por_empresa_SF = pd.DataFrame(results[\"records\"])\n",
    "\n",
    "Programas_por_empresa_SF = Programas_por_empresa_SF[\n",
    "    [\"Id\", \"Empresa__c\", \"Empresa_Padre__c\", \"Nombre_Empresa__c\", \"Name\"]\n",
    "]\n",
    "Programas_por_empresa_SF.shape"
   ]
  },
  {
   "cell_type": "code",
   "execution_count": null,
   "metadata": {
    "notebookRunGroups": {
     "groupValue": "1"
    }
   },
   "outputs": [],
   "source": [
    "# Union de Programas Empresa y empresas\n",
    "Programas_empresas = pd.merge(\n",
    "    left=Empresas_SF,\n",
    "    right=Programas_por_empresa_SF,\n",
    "    how=\"left\",\n",
    "    left_on=\"Id\",\n",
    "    right_on=\"Empresa__c\",\n",
    ")\n",
    "Programas_empresas = Programas_empresas.rename(\n",
    "    columns={\n",
    "        \"Id_x\": \"Id Account Empresa\",\n",
    "        \"Name_x\": \"Nombre Empresa\",\n",
    "        \"Holding__c\": \"Holding\",\n",
    "        \"Campa_a__c\": \"Campaña\",\n",
    "        \"Empleador__c\": \"Empleador\",\n",
    "        \"poliza__c\": \"Poliza\",\n",
    "        \"RUT_Empresa__c\": \"Rut Empresa\",\n",
    "        \"Id_y\": \"Programas_por_Empresas__c\",\n",
    "        \"Id_Empresa__c\": \"Codigo EMP\",\n",
    "        \"Name_y\": \"Codigo A\",\n",
    "    }\n",
    ")\n",
    "Programas_empresas = Programas_empresas[\n",
    "    [\n",
    "        \"Id Account Empresa\",\n",
    "        \"Nombre Empresa\",\n",
    "        \"Holding\",\n",
    "        \"Campaña\",\n",
    "        \"Empleador\",\n",
    "        \"Poliza\",\n",
    "        \"Rut Empresa\",\n",
    "        \"Programas_por_Empresas__c\",\n",
    "        \"Codigo EMP\",\n",
    "        \"Codigo A\",\n",
    "    ]\n",
    "]\n",
    "\n",
    "Programas_empresas.shape"
   ]
  },
  {
   "cell_type": "code",
   "execution_count": null,
   "metadata": {
    "notebookRunGroups": {
     "groupValue": "1"
    }
   },
   "outputs": [],
   "source": [
    "Programas_empresas.to_excel(\"F:/Empresas SF/reportes/empresas.xlsx\", index=False)"
   ]
  },
  {
   "cell_type": "code",
   "execution_count": null,
   "metadata": {
    "notebookRunGroups": {
     "groupValue": "1"
    }
   },
   "outputs": [],
   "source": [
    "query2 = \"select P_liza__c, Nombre_de_Empresa__c,Identificador__c, Rut_Empresa__c, Empresa_Padre__r.Name, Empresa__r.name,Holding__c, Plan__c, Pais__c, Activo__c, Id from Datos_Empresa__c \"\n",
    "\n",
    "df2 = sf.smart_query(query2)\n",
    "df2[\"LLave\"] = df2[\"Rut_Empresa__c\"].str.upper().str.replace(\"-\", \"\") + df2[\"P_liza__c\"]\n",
    "df2[\"dato\"] = 1\n",
    "df2.to_excel(\"F:/Empresas SF/reportes/empresas_nuevas.xlsx\", index=False)\n",
    "df2.head()"
   ]
  },
  {
   "attachments": {},
   "cell_type": "markdown",
   "metadata": {},
   "source": [
    "fin empresas y comienzo de rescate de pacientes\n"
   ]
  },
  {
   "cell_type": "code",
   "execution_count": null,
   "metadata": {
    "notebookRunGroups": {
     "groupValue": "1"
    }
   },
   "outputs": [],
   "source": [
    "# CArga de PAcientes\n",
    "results = sf.query_all(\n",
    "    \"\"\"\n",
    "    select Id, IdentificationId__pc,Name, Identification_Type__c, Ocupaci_n__c,  PersonTitle ,PersonDepartment,HealthCloudGA__Gender__pc,Phone,PersonContactId  from Account where ispersonaccount = True \n",
    "   \"\"\"\n",
    ")\n",
    "Pacientes_SF = pd.DataFrame(results[\"records\"])\n",
    "\n",
    "Pacientes_SF = Pacientes_SF[\n",
    "    [\n",
    "        \"Id\",\n",
    "        \"IdentificationId__pc\",\n",
    "        \"Name\",\n",
    "        \"Identification_Type__c\",\n",
    "        \"Ocupaci_n__c\",\n",
    "        \"PersonTitle\",\n",
    "        \"PersonDepartment\",\n",
    "        \"HealthCloudGA__Gender__pc\",\n",
    "        \"Phone\",\n",
    "        \"PersonContactId\",\n",
    "    ]\n",
    "]\n",
    "Pacientes_SF = Pacientes_SF.rename(\n",
    "    columns={\n",
    "        \"Id\": \"Id Account Paciente\",\n",
    "        \"IdentificationId__pc\": \"Rut\",\n",
    "        \"Name\": \"Nombre\",\n",
    "        \"Ocupaci_n__c\": \"Ocupacion\",\n",
    "        \"PersonTitle\": \"Cargo\",\n",
    "        \"PersonDepartment\": \"Departamento\",\n",
    "        \"HealthCloudGA__Gender__pc\": \"Sexo\",\n",
    "        \"Phone\": \"Telefono\",\n",
    "        \"Identification_Type__c\": \"Tipo de Documento\",\n",
    "        \"PersonContactId\":\"Id Contacto\"\n",
    "    }\n",
    ")\n",
    "\n",
    "\n",
    "\n",
    "Pacientes_SF.shape"
   ]
  },
  {
   "cell_type": "code",
   "execution_count": null,
   "metadata": {
    "notebookRunGroups": {
     "groupValue": "1"
    }
   },
   "outputs": [],
   "source": [
    "def siPrimerCero(y):\n",
    "    if len(y) <= 7:\n",
    "        return \"NONE\"\n",
    "    \n",
    "    if y[0] == \"0\":\n",
    "        y = y[1:]\n",
    "        \n",
    "    return y"
   ]
  },
  {
   "cell_type": "code",
   "execution_count": null,
   "metadata": {
    "notebookRunGroups": {
     "groupValue": "1"
    }
   },
   "outputs": [],
   "source": [
    "\n",
    "Pacientes_SF[\"Rut\"] = Pacientes_SF[\"Rut\"].astype(str)\n",
    "Pacientes_SF[\"Rut\"] = Pacientes_SF[\"Rut\"].str.upper()\n",
    "Pacientes_SF[\"Rut\"] = Pacientes_SF[\"Rut\"].str.replace(\"-\", \"\")\n",
    "Pacientes_SF[\"Rut\"] = Pacientes_SF[\"Rut\"].str.replace(\"–\", \"\")\n",
    "Pacientes_SF[\"Rut\"] = Pacientes_SF[\"Rut\"].astype(str)\n",
    "Pacientes_SF[\"Rut\"] = Pacientes_SF[\"Rut\"].str.replace(\".\", \"\")\n",
    "Pacientes_SF[\"Rut\"] = Pacientes_SF[\"Rut\"].apply(lambda y: siPrimerCero(y))\n",
    "Pacientes_SF[\"Rut\"] = Pacientes_SF[\"Rut\"].str.strip()"
   ]
  },
  {
   "cell_type": "code",
   "execution_count": null,
   "metadata": {
    "notebookRunGroups": {
     "groupValue": "1"
    }
   },
   "outputs": [],
   "source": [
    "Pacientes_Nones1 = Pacientes_SF[(Pacientes_SF[\"Rut\"] == \"NONE\") ]\n",
    "Pacientes_SF = Pacientes_SF[(Pacientes_SF[\"Rut\"] != \"NONE\") ]\n",
    "Pacientes_Nones1.to_excel(\"F:/Empresas SF/reportes/NONE1.xlsx\", index=False) "
   ]
  },
  {
   "attachments": {},
   "cell_type": "markdown",
   "metadata": {},
   "source": [
    "Aca se comienzan a unir las relaciones de pacientes y empresas ya creadas.\n"
   ]
  },
  {
   "cell_type": "markdown",
   "metadata": {
    "notebookRunGroups": {
     "groupValue": "1"
    }
   },
   "source": [
    "# buscar empresas desde Paciente_Programas__c relaciones de empresas con pacientes\n",
    "results = sf.query_all(\n",
    "    \"\"\"\n",
    "    select Id,Paciente__c, Programas_por_Empresas__c,padre__c from Paciente_Programas__c  \n",
    "    \"\"\"\n",
    ")\n",
    "Paciente_Programas_SF = pd.DataFrame(results[\"records\"])\n",
    "\n",
    "Paciente_Programas_SF = Paciente_Programas_SF[\n",
    "    [\"Id\", \"Paciente__c\", \"Programas_por_Empresas__c\", \"padre__c\"]\n",
    "]\n",
    "Paciente_Programas_SF = Paciente_Programas_SF.rename(\n",
    "    columns={\n",
    "        \"Id\": \"Id Pacientes_Programas__c\",\n",
    "        \"Paciente__c\": \"Id Account\",\n",
    "        \"Programas_por_Empresas__c\": \"Programas_por_Empresas__c\",\n",
    "        \"padre__c\": \"Nombre Campaña\",\n",
    "    }\n",
    ")\n",
    "Paciente_Programas_SF.shape"
   ]
  },
  {
   "cell_type": "markdown",
   "metadata": {
    "notebookRunGroups": {
     "groupValue": "1"
    }
   },
   "source": [
    "# Union de Pacientes Programas y Programas por empresa\n",
    "empresas_unidas = pd.merge(\n",
    "    left=Paciente_Programas_SF,\n",
    "    right=Programas_empresas,\n",
    "    how=\"left\",\n",
    "    left_on=\"Programas_por_Empresas__c\",\n",
    "    right_on=\"Programas_por_Empresas__c\",\n",
    ")\n",
    "empresas_unidas.shape"
   ]
  },
  {
   "attachments": {},
   "cell_type": "markdown",
   "metadata": {},
   "source": [
    "Carga de Archivo carga\n"
   ]
  },
  {
   "cell_type": "code",
   "execution_count": 547,
   "metadata": {
    "notebookRunGroups": {
     "groupValue": "2"
    }
   },
   "outputs": [
    {
     "data": {
      "text/html": [
       "<div>\n",
       "<style scoped>\n",
       "    .dataframe tbody tr th:only-of-type {\n",
       "        vertical-align: middle;\n",
       "    }\n",
       "\n",
       "    .dataframe tbody tr th {\n",
       "        vertical-align: top;\n",
       "    }\n",
       "\n",
       "    .dataframe thead th {\n",
       "        text-align: right;\n",
       "    }\n",
       "</style>\n",
       "<table border=\"1\" class=\"dataframe\">\n",
       "  <thead>\n",
       "    <tr style=\"text-align: right;\">\n",
       "      <th></th>\n",
       "      <th>poliza</th>\n",
       "      <th>Empresa</th>\n",
       "      <th>Rut Titular</th>\n",
       "      <th>Dv Titular</th>\n",
       "      <th>rut2</th>\n",
       "      <th>Rut Asegurado</th>\n",
       "      <th>Dv</th>\n",
       "      <th>rut1</th>\n",
       "      <th>sexo</th>\n",
       "      <th>Parentesco</th>\n",
       "      <th>Descripcion</th>\n",
       "      <th>nombres</th>\n",
       "      <th>apellidos</th>\n",
       "      <th>nacimiento</th>\n",
       "      <th>Edad</th>\n",
       "      <th>email</th>\n",
       "      <th>direccion</th>\n",
       "      <th>comuna</th>\n",
       "      <th>Isapre</th>\n",
       "      <th>celular</th>\n",
       "    </tr>\n",
       "  </thead>\n",
       "  <tbody>\n",
       "    <tr>\n",
       "      <th>0</th>\n",
       "      <td>Estacion Central</td>\n",
       "      <td>Preuniversitario Pedro de Valdivia</td>\n",
       "      <td>13691919</td>\n",
       "      <td>9</td>\n",
       "      <td>13691919-9</td>\n",
       "      <td>13691919</td>\n",
       "      <td>9</td>\n",
       "      <td>13691919-9</td>\n",
       "      <td>M</td>\n",
       "      <td>Socio</td>\n",
       "      <td>NaN</td>\n",
       "      <td>Christian Marcelo</td>\n",
       "      <td>Aliaga Silva</td>\n",
       "      <td>1979-03-04 00:00:00</td>\n",
       "      <td>42.0</td>\n",
       "      <td>caliaga@pedrodevaldivia.cl</td>\n",
       "      <td>Los Quillayes 14B Parcela 19</td>\n",
       "      <td>Curacaví</td>\n",
       "      <td>Fonasa</td>\n",
       "      <td>973321761</td>\n",
       "    </tr>\n",
       "    <tr>\n",
       "      <th>1</th>\n",
       "      <td>Estacion Central</td>\n",
       "      <td>Preuniversitario Pedro de Valdivia</td>\n",
       "      <td>13691919</td>\n",
       "      <td>9</td>\n",
       "      <td>13691919-9</td>\n",
       "      <td>16921189</td>\n",
       "      <td>2</td>\n",
       "      <td>16921189-2</td>\n",
       "      <td>F</td>\n",
       "      <td>Pareja</td>\n",
       "      <td>NaN</td>\n",
       "      <td>María Jesús</td>\n",
       "      <td>San Martín García</td>\n",
       "      <td>1988-04-27 00:00:00</td>\n",
       "      <td>32.0</td>\n",
       "      <td>ma.jeshu@gmail.com</td>\n",
       "      <td>Los Quillayes 14B Parcela 19</td>\n",
       "      <td>Curacaví</td>\n",
       "      <td>Fonasa</td>\n",
       "      <td>954103470</td>\n",
       "    </tr>\n",
       "    <tr>\n",
       "      <th>2</th>\n",
       "      <td>Estacion Central</td>\n",
       "      <td>Preuniversitario Pedro de Valdivia</td>\n",
       "      <td>13691919</td>\n",
       "      <td>9</td>\n",
       "      <td>13691919-9</td>\n",
       "      <td>25367792</td>\n",
       "      <td>9</td>\n",
       "      <td>25367792-9</td>\n",
       "      <td>M</td>\n",
       "      <td>Hijo</td>\n",
       "      <td>NaN</td>\n",
       "      <td>Crescente Jesús</td>\n",
       "      <td>Aliaga San Martín</td>\n",
       "      <td>2016-05-04 00:00:00</td>\n",
       "      <td>4.0</td>\n",
       "      <td>ma.jeshu@gmail.com</td>\n",
       "      <td>Los Quillayes 14B Parcela 19</td>\n",
       "      <td>Curacaví</td>\n",
       "      <td>Fonasa</td>\n",
       "      <td>954103470</td>\n",
       "    </tr>\n",
       "    <tr>\n",
       "      <th>3</th>\n",
       "      <td>Providencia</td>\n",
       "      <td>Preuniversitario Pedro de Valdivia</td>\n",
       "      <td>11841448</td>\n",
       "      <td>9</td>\n",
       "      <td>11841448-9</td>\n",
       "      <td>11841448</td>\n",
       "      <td>9</td>\n",
       "      <td>11841448-9</td>\n",
       "      <td>F</td>\n",
       "      <td>Socio</td>\n",
       "      <td>NaN</td>\n",
       "      <td>Viviana Jazmin</td>\n",
       "      <td>Molina Romo</td>\n",
       "      <td>1971-07-30 00:00:00</td>\n",
       "      <td>49.0</td>\n",
       "      <td>vmolina@pedrodevaldivia.cl</td>\n",
       "      <td>Psje. 2 casa 1371</td>\n",
       "      <td>Qta. Normal</td>\n",
       "      <td>Banmedica</td>\n",
       "      <td>998112645</td>\n",
       "    </tr>\n",
       "    <tr>\n",
       "      <th>4</th>\n",
       "      <td>Providencia</td>\n",
       "      <td>Preuniversitario Pedro de Valdivia</td>\n",
       "      <td>11841448</td>\n",
       "      <td>9</td>\n",
       "      <td>11841448-9</td>\n",
       "      <td>23292872</td>\n",
       "      <td>7</td>\n",
       "      <td>23292872-7</td>\n",
       "      <td>F</td>\n",
       "      <td>Hija</td>\n",
       "      <td>NaN</td>\n",
       "      <td>Isidora</td>\n",
       "      <td>Marchant Molina</td>\n",
       "      <td>2010-04-07 00:00:00</td>\n",
       "      <td>11.0</td>\n",
       "      <td>vmolina@pedrodevaldivia.cl</td>\n",
       "      <td>Psje. 2 casa 1371</td>\n",
       "      <td>Qta. Normal</td>\n",
       "      <td>Banmedica</td>\n",
       "      <td>998112645</td>\n",
       "    </tr>\n",
       "  </tbody>\n",
       "</table>\n",
       "</div>"
      ],
      "text/plain": [
       "             poliza                             Empresa  Rut Titular  \\\n",
       "0  Estacion Central  Preuniversitario Pedro de Valdivia     13691919   \n",
       "1  Estacion Central  Preuniversitario Pedro de Valdivia     13691919   \n",
       "2  Estacion Central  Preuniversitario Pedro de Valdivia     13691919   \n",
       "3       Providencia  Preuniversitario Pedro de Valdivia     11841448   \n",
       "4       Providencia  Preuniversitario Pedro de Valdivia     11841448   \n",
       "\n",
       "  Dv Titular        rut2  Rut Asegurado Dv        rut1 sexo Parentesco  \\\n",
       "0          9  13691919-9       13691919  9  13691919-9    M      Socio   \n",
       "1          9  13691919-9       16921189  2  16921189-2    F     Pareja   \n",
       "2          9  13691919-9       25367792  9  25367792-9    M       Hijo   \n",
       "3          9  11841448-9       11841448  9  11841448-9    F      Socio   \n",
       "4          9  11841448-9       23292872  7  23292872-7    F       Hija   \n",
       "\n",
       "   Descripcion            nombres          apellidos           nacimiento  \\\n",
       "0          NaN  Christian Marcelo       Aliaga Silva  1979-03-04 00:00:00   \n",
       "1          NaN        María Jesús  San Martín García  1988-04-27 00:00:00   \n",
       "2          NaN    Crescente Jesús  Aliaga San Martín  2016-05-04 00:00:00   \n",
       "3          NaN     Viviana Jazmin        Molina Romo  1971-07-30 00:00:00   \n",
       "4          NaN            Isidora    Marchant Molina  2010-04-07 00:00:00   \n",
       "\n",
       "   Edad                       email                     direccion  \\\n",
       "0  42.0  caliaga@pedrodevaldivia.cl  Los Quillayes 14B Parcela 19   \n",
       "1  32.0          ma.jeshu@gmail.com  Los Quillayes 14B Parcela 19   \n",
       "2   4.0          ma.jeshu@gmail.com  Los Quillayes 14B Parcela 19   \n",
       "3  49.0  vmolina@pedrodevaldivia.cl             Psje. 2 casa 1371   \n",
       "4  11.0  vmolina@pedrodevaldivia.cl             Psje. 2 casa 1371   \n",
       "\n",
       "        comuna     Isapre    celular  \n",
       "0     Curacaví     Fonasa  973321761  \n",
       "1     Curacaví     Fonasa  954103470  \n",
       "2     Curacaví     Fonasa  954103470  \n",
       "3  Qta. Normal  Banmedica  998112645  \n",
       "4  Qta. Normal  Banmedica  998112645  "
      ]
     },
     "execution_count": 547,
     "metadata": {},
     "output_type": "execute_result"
    }
   ],
   "source": [
    "nuevos = \"F:/Empresas SF/reportes/carga.xlsx\"\n",
    "campaña = \"Pedro de Valdivia\"\n",
    "Pais = \"Chile\"\n",
    "# Pais = \"México\"\n",
    "\n",
    "Pacientes_Archivo = pd.read_excel(nuevos)\n",
    "# OJO se copia rut1 a rut le saca el guoion\n",
    "Pacientes_Archivo.head(5)"
   ]
  },
  {
   "cell_type": "code",
   "execution_count": 548,
   "metadata": {
    "notebookRunGroups": {
     "groupValue": "2"
    }
   },
   "outputs": [
    {
     "data": {
      "text/plain": [
       "(176, 20)"
      ]
     },
     "execution_count": 548,
     "metadata": {},
     "output_type": "execute_result"
    }
   ],
   "source": [
    "Pacientes_Archivo.shape"
   ]
  },
  {
   "cell_type": "code",
   "execution_count": 549,
   "metadata": {
    "notebookRunGroups": {
     "groupValue": "2"
    }
   },
   "outputs": [],
   "source": [
    "Pacientes_IDrut = Pacientes_SF[\n",
    "    [\n",
    "        \"Rut\",\n",
    "        \"Id Account Paciente\",        \n",
    "        \"Id Contacto\",\n",
    "    ]\n",
    "]"
   ]
  },
  {
   "cell_type": "code",
   "execution_count": 550,
   "metadata": {
    "notebookRunGroups": {
     "groupValue": "2"
    }
   },
   "outputs": [
    {
     "name": "stderr",
     "output_type": "stream",
     "text": [
      "C:\\Users\\jmartinez\\AppData\\Local\\Temp\\ipykernel_24540\\1919731435.py:5: FutureWarning: The default value of regex will change from True to False in a future version. In addition, single character regular expressions will *not* be treated as literal strings when regex=True.\n",
      "  Pacientes_Archivo[\"rut\"] = Pacientes_Archivo[\"rut\"].str.replace(\".\", \"\")\n"
     ]
    },
    {
     "data": {
      "text/plain": [
       "(176, 21)"
      ]
     },
     "execution_count": 550,
     "metadata": {},
     "output_type": "execute_result"
    }
   ],
   "source": [
    "Pacientes_Archivo[\"rut\"] = Pacientes_Archivo[\"rut1\"].astype(str)\n",
    "Pacientes_Archivo[\"rut\"] = Pacientes_Archivo[\"rut\"].str.replace(\"-\", \"\")\n",
    "Pacientes_Archivo[\"rut\"] = Pacientes_Archivo[\"rut\"].str.replace(\"–\", \"\")\n",
    "Pacientes_Archivo[\"rut\"] = Pacientes_Archivo[\"rut\"].astype(str)\n",
    "Pacientes_Archivo[\"rut\"] = Pacientes_Archivo[\"rut\"].str.replace(\".\", \"\")\n",
    "Pacientes_Archivo[\"rut\"] = Pacientes_Archivo[\"rut\"].str.upper()\n",
    "Pacientes_Archivo[\"rut\"] = Pacientes_Archivo[\"rut\"].str.strip()\n",
    "\n",
    "Pacientes_Archivo[\"poliza\"] = Pacientes_Archivo[\"poliza\"].astype(str)\n",
    "Pacientes_Archivo[\"poliza\"] = Pacientes_Archivo[\"poliza\"].str.upper()\n",
    "Pacientes_Archivo[\"poliza\"] = Pacientes_Archivo[\"poliza\"].str.strip()\n",
    "Pacientes_Archivo.shape"
   ]
  },
  {
   "cell_type": "code",
   "execution_count": 551,
   "metadata": {
    "notebookRunGroups": {
     "groupValue": "2"
    }
   },
   "outputs": [
    {
     "name": "stderr",
     "output_type": "stream",
     "text": [
      "C:\\Users\\jmartinez\\AppData\\Local\\Temp\\ipykernel_24540\\980738941.py:5: FutureWarning: The default value of regex will change from True to False in a future version. In addition, single character regular expressions will *not* be treated as literal strings when regex=True.\n",
      "  Pacientes_Archivo[\"rutT\"] = Pacientes_Archivo[\"rutT\"].str.replace(\".\", \"\")\n"
     ]
    },
    {
     "data": {
      "text/plain": [
       "(176, 22)"
      ]
     },
     "execution_count": 551,
     "metadata": {},
     "output_type": "execute_result"
    }
   ],
   "source": [
    "Pacientes_Archivo[\"rutT\"] = Pacientes_Archivo[\"rut2\"].astype(str)\n",
    "Pacientes_Archivo[\"rutT\"] = Pacientes_Archivo[\"rutT\"].str.replace(\"-\", \"\")\n",
    "Pacientes_Archivo[\"rutT\"] = Pacientes_Archivo[\"rutT\"].str.replace(\"–\", \"\")\n",
    "Pacientes_Archivo[\"rutT\"] = Pacientes_Archivo[\"rutT\"].astype(str)\n",
    "Pacientes_Archivo[\"rutT\"] = Pacientes_Archivo[\"rutT\"].str.replace(\".\", \"\")\n",
    "Pacientes_Archivo[\"rutT\"] = Pacientes_Archivo[\"rutT\"].str.upper()\n",
    "Pacientes_Archivo[\"rutT\"] = Pacientes_Archivo[\"rutT\"].str.strip()\n",
    "Pacientes_Archivo.shape"
   ]
  },
  {
   "cell_type": "code",
   "execution_count": 552,
   "metadata": {
    "notebookRunGroups": {
     "groupValue": "2"
    }
   },
   "outputs": [
    {
     "name": "stderr",
     "output_type": "stream",
     "text": [
      "C:\\Users\\jmartinez\\AppData\\Local\\Temp\\ipykernel_24540\\3035579401.py:3: FutureWarning: The default value of regex will change from True to False in a future version. In addition, single character regular expressions will *not* be treated as literal strings when regex=True.\n",
      "  Pacientes_Archivo[\"nombres\"] = Pacientes_Archivo[\"nombres\"].str.replace(\".\", \"\")\n",
      "C:\\Users\\jmartinez\\AppData\\Local\\Temp\\ipykernel_24540\\3035579401.py:9: FutureWarning: The default value of regex will change from True to False in a future version. In addition, single character regular expressions will *not* be treated as literal strings when regex=True.\n",
      "  Pacientes_Archivo[\"apellidos\"] = Pacientes_Archivo[\"apellidos\"].str.replace(\".\", \"\")\n"
     ]
    }
   ],
   "source": [
    "if (\"nombres\" in Pacientes_Archivo.columns) == True:\n",
    "    Pacientes_Archivo[\"nombres\"] = Pacientes_Archivo[\"nombres\"].str.replace(\",\", \"\")\n",
    "    Pacientes_Archivo[\"nombres\"] = Pacientes_Archivo[\"nombres\"].str.replace(\".\", \"\")\n",
    "    Pacientes_Archivo[\"nombres\"] = Pacientes_Archivo[\"nombres\"].str.replace(\"-\", \"\")\n",
    "    Pacientes_Archivo[\"nombres\"] = Pacientes_Archivo[\"nombres\"].str.title()\n",
    "    Pacientes_Archivo[\"nombres\"] = Pacientes_Archivo[\"nombres\"].str.strip()\n",
    "    # Pacientes_Archivo[\"empresa\"] = Pacientes_Archivo[\"empresa\"].str.title()\n",
    "    Pacientes_Archivo[\"apellidos\"] = Pacientes_Archivo[\"apellidos\"].str.replace(\",\", \"\")\n",
    "    Pacientes_Archivo[\"apellidos\"] = Pacientes_Archivo[\"apellidos\"].str.replace(\".\", \"\")\n",
    "    Pacientes_Archivo[\"apellidos\"] = Pacientes_Archivo[\"apellidos\"].str.replace(\"-\", \"\")\n",
    "    Pacientes_Archivo[\"apellidos\"] = Pacientes_Archivo[\"apellidos\"].str.title()\n",
    "    Pacientes_Archivo[\"apellidos\"] = Pacientes_Archivo[\"apellidos\"].str.strip()\n",
    "\n"
   ]
  },
  {
   "cell_type": "code",
   "execution_count": 553,
   "metadata": {
    "notebookRunGroups": {
     "groupValue": "2"
    }
   },
   "outputs": [
    {
     "data": {
      "text/html": [
       "<div>\n",
       "<style scoped>\n",
       "    .dataframe tbody tr th:only-of-type {\n",
       "        vertical-align: middle;\n",
       "    }\n",
       "\n",
       "    .dataframe tbody tr th {\n",
       "        vertical-align: top;\n",
       "    }\n",
       "\n",
       "    .dataframe thead th {\n",
       "        text-align: right;\n",
       "    }\n",
       "</style>\n",
       "<table border=\"1\" class=\"dataframe\">\n",
       "  <thead>\n",
       "    <tr style=\"text-align: right;\">\n",
       "      <th></th>\n",
       "      <th>poliza</th>\n",
       "      <th>Empresa</th>\n",
       "      <th>Rut Titular</th>\n",
       "      <th>Dv Titular</th>\n",
       "      <th>rut2</th>\n",
       "      <th>Rut Asegurado</th>\n",
       "      <th>Dv</th>\n",
       "      <th>rut1</th>\n",
       "      <th>sexo</th>\n",
       "      <th>Parentesco</th>\n",
       "      <th>...</th>\n",
       "      <th>apellidos</th>\n",
       "      <th>nacimiento</th>\n",
       "      <th>Edad</th>\n",
       "      <th>email</th>\n",
       "      <th>direccion</th>\n",
       "      <th>comuna</th>\n",
       "      <th>Isapre</th>\n",
       "      <th>celular</th>\n",
       "      <th>rut</th>\n",
       "      <th>rutT</th>\n",
       "    </tr>\n",
       "  </thead>\n",
       "  <tbody>\n",
       "    <tr>\n",
       "      <th>0</th>\n",
       "      <td>ESTACION CENTRAL</td>\n",
       "      <td>Preuniversitario Pedro de Valdivia</td>\n",
       "      <td>13691919</td>\n",
       "      <td>9</td>\n",
       "      <td>13691919-9</td>\n",
       "      <td>13691919</td>\n",
       "      <td>9</td>\n",
       "      <td>13691919-9</td>\n",
       "      <td>M</td>\n",
       "      <td>Socio</td>\n",
       "      <td>...</td>\n",
       "      <td>Aliaga Silva</td>\n",
       "      <td>1979-03-04 00:00:00</td>\n",
       "      <td>42.0</td>\n",
       "      <td>caliaga@pedrodevaldivia.cl</td>\n",
       "      <td>Los Quillayes 14B Parcela 19</td>\n",
       "      <td>Curacaví</td>\n",
       "      <td>Fonasa</td>\n",
       "      <td>973321761</td>\n",
       "      <td>136919199</td>\n",
       "      <td>136919199</td>\n",
       "    </tr>\n",
       "    <tr>\n",
       "      <th>1</th>\n",
       "      <td>ESTACION CENTRAL</td>\n",
       "      <td>Preuniversitario Pedro de Valdivia</td>\n",
       "      <td>13691919</td>\n",
       "      <td>9</td>\n",
       "      <td>13691919-9</td>\n",
       "      <td>16921189</td>\n",
       "      <td>2</td>\n",
       "      <td>16921189-2</td>\n",
       "      <td>F</td>\n",
       "      <td>Pareja</td>\n",
       "      <td>...</td>\n",
       "      <td>San Martín García</td>\n",
       "      <td>1988-04-27 00:00:00</td>\n",
       "      <td>32.0</td>\n",
       "      <td>ma.jeshu@gmail.com</td>\n",
       "      <td>Los Quillayes 14B Parcela 19</td>\n",
       "      <td>Curacaví</td>\n",
       "      <td>Fonasa</td>\n",
       "      <td>954103470</td>\n",
       "      <td>169211892</td>\n",
       "      <td>136919199</td>\n",
       "    </tr>\n",
       "    <tr>\n",
       "      <th>2</th>\n",
       "      <td>ESTACION CENTRAL</td>\n",
       "      <td>Preuniversitario Pedro de Valdivia</td>\n",
       "      <td>13691919</td>\n",
       "      <td>9</td>\n",
       "      <td>13691919-9</td>\n",
       "      <td>25367792</td>\n",
       "      <td>9</td>\n",
       "      <td>25367792-9</td>\n",
       "      <td>M</td>\n",
       "      <td>Hijo</td>\n",
       "      <td>...</td>\n",
       "      <td>Aliaga San Martín</td>\n",
       "      <td>2016-05-04 00:00:00</td>\n",
       "      <td>4.0</td>\n",
       "      <td>ma.jeshu@gmail.com</td>\n",
       "      <td>Los Quillayes 14B Parcela 19</td>\n",
       "      <td>Curacaví</td>\n",
       "      <td>Fonasa</td>\n",
       "      <td>954103470</td>\n",
       "      <td>253677929</td>\n",
       "      <td>136919199</td>\n",
       "    </tr>\n",
       "    <tr>\n",
       "      <th>3</th>\n",
       "      <td>PROVIDENCIA</td>\n",
       "      <td>Preuniversitario Pedro de Valdivia</td>\n",
       "      <td>11841448</td>\n",
       "      <td>9</td>\n",
       "      <td>11841448-9</td>\n",
       "      <td>11841448</td>\n",
       "      <td>9</td>\n",
       "      <td>11841448-9</td>\n",
       "      <td>F</td>\n",
       "      <td>Socio</td>\n",
       "      <td>...</td>\n",
       "      <td>Molina Romo</td>\n",
       "      <td>1971-07-30 00:00:00</td>\n",
       "      <td>49.0</td>\n",
       "      <td>vmolina@pedrodevaldivia.cl</td>\n",
       "      <td>Psje. 2 casa 1371</td>\n",
       "      <td>Qta. Normal</td>\n",
       "      <td>Banmedica</td>\n",
       "      <td>998112645</td>\n",
       "      <td>118414489</td>\n",
       "      <td>118414489</td>\n",
       "    </tr>\n",
       "    <tr>\n",
       "      <th>4</th>\n",
       "      <td>PROVIDENCIA</td>\n",
       "      <td>Preuniversitario Pedro de Valdivia</td>\n",
       "      <td>11841448</td>\n",
       "      <td>9</td>\n",
       "      <td>11841448-9</td>\n",
       "      <td>23292872</td>\n",
       "      <td>7</td>\n",
       "      <td>23292872-7</td>\n",
       "      <td>F</td>\n",
       "      <td>Hija</td>\n",
       "      <td>...</td>\n",
       "      <td>Marchant Molina</td>\n",
       "      <td>2010-04-07 00:00:00</td>\n",
       "      <td>11.0</td>\n",
       "      <td>vmolina@pedrodevaldivia.cl</td>\n",
       "      <td>Psje. 2 casa 1371</td>\n",
       "      <td>Qta. Normal</td>\n",
       "      <td>Banmedica</td>\n",
       "      <td>998112645</td>\n",
       "      <td>232928727</td>\n",
       "      <td>118414489</td>\n",
       "    </tr>\n",
       "    <tr>\n",
       "      <th>...</th>\n",
       "      <td>...</td>\n",
       "      <td>...</td>\n",
       "      <td>...</td>\n",
       "      <td>...</td>\n",
       "      <td>...</td>\n",
       "      <td>...</td>\n",
       "      <td>...</td>\n",
       "      <td>...</td>\n",
       "      <td>...</td>\n",
       "      <td>...</td>\n",
       "      <td>...</td>\n",
       "      <td>...</td>\n",
       "      <td>...</td>\n",
       "      <td>...</td>\n",
       "      <td>...</td>\n",
       "      <td>...</td>\n",
       "      <td>...</td>\n",
       "      <td>...</td>\n",
       "      <td>...</td>\n",
       "      <td>...</td>\n",
       "      <td>...</td>\n",
       "    </tr>\n",
       "    <tr>\n",
       "      <th>171</th>\n",
       "      <td>TALCA</td>\n",
       "      <td>Preuniversitario Pedro de Valdivia</td>\n",
       "      <td>12790876</td>\n",
       "      <td>1</td>\n",
       "      <td>12790876-1</td>\n",
       "      <td>19536136</td>\n",
       "      <td>1</td>\n",
       "      <td>19536136-1</td>\n",
       "      <td>M</td>\n",
       "      <td>Hijo</td>\n",
       "      <td>...</td>\n",
       "      <td>Betrán Gómez</td>\n",
       "      <td>1997-06-04 00:00:00</td>\n",
       "      <td>23.0</td>\n",
       "      <td>egomez.jaque1922@gmail.com</td>\n",
       "      <td>RÍO TIGUIRIRICA 1904</td>\n",
       "      <td>MAULE</td>\n",
       "      <td>FONASA</td>\n",
       "      <td>990849628</td>\n",
       "      <td>195361361</td>\n",
       "      <td>127908761</td>\n",
       "    </tr>\n",
       "    <tr>\n",
       "      <th>172</th>\n",
       "      <td>TALCA</td>\n",
       "      <td>Preuniversitario Pedro de Valdivia</td>\n",
       "      <td>12790876</td>\n",
       "      <td>1</td>\n",
       "      <td>12790876-1</td>\n",
       "      <td>20519910</td>\n",
       "      <td>1</td>\n",
       "      <td>20519910-1</td>\n",
       "      <td>M</td>\n",
       "      <td>Hijo</td>\n",
       "      <td>...</td>\n",
       "      <td>Betrán Gómez</td>\n",
       "      <td>2000-12-13 00:00:00</td>\n",
       "      <td>20.0</td>\n",
       "      <td>belgom343@gmail.com</td>\n",
       "      <td>RÍO TIGUIRIRICA 1905</td>\n",
       "      <td>MAULE</td>\n",
       "      <td>FONASA</td>\n",
       "      <td>990849628</td>\n",
       "      <td>205199101</td>\n",
       "      <td>127908761</td>\n",
       "    </tr>\n",
       "    <tr>\n",
       "      <th>173</th>\n",
       "      <td>TALCA</td>\n",
       "      <td>Preuniversitario Pedro de Valdivia</td>\n",
       "      <td>12790876</td>\n",
       "      <td>1</td>\n",
       "      <td>12790876-1</td>\n",
       "      <td>22426994</td>\n",
       "      <td>3</td>\n",
       "      <td>22426994-3</td>\n",
       "      <td>M</td>\n",
       "      <td>Hijo</td>\n",
       "      <td>...</td>\n",
       "      <td>Betrán Gómez</td>\n",
       "      <td>2007-06-07 00:00:00</td>\n",
       "      <td>13.0</td>\n",
       "      <td>egomez.jaque1922@gmail.com</td>\n",
       "      <td>RÍO TIGUIRIRICA 1906</td>\n",
       "      <td>MAULE</td>\n",
       "      <td>FONASA</td>\n",
       "      <td>990849628</td>\n",
       "      <td>224269943</td>\n",
       "      <td>127908761</td>\n",
       "    </tr>\n",
       "    <tr>\n",
       "      <th>174</th>\n",
       "      <td>ADM AGUSTINAS</td>\n",
       "      <td>Preuniversitario Pedro de Valdivia</td>\n",
       "      <td>12886678</td>\n",
       "      <td>7</td>\n",
       "      <td>12886678-7</td>\n",
       "      <td>12886678</td>\n",
       "      <td>7</td>\n",
       "      <td>12886678-7</td>\n",
       "      <td>F</td>\n",
       "      <td>SOCIA</td>\n",
       "      <td>...</td>\n",
       "      <td>Rodriguez Soto</td>\n",
       "      <td>NaN</td>\n",
       "      <td>NaN</td>\n",
       "      <td>krodriguez@pedrodevaldivia.cl</td>\n",
       "      <td>san eugenio 1065 depto 51 F</td>\n",
       "      <td>Ñuñoa</td>\n",
       "      <td>Fonasa</td>\n",
       "      <td>944944501</td>\n",
       "      <td>128866787</td>\n",
       "      <td>128866787</td>\n",
       "    </tr>\n",
       "    <tr>\n",
       "      <th>175</th>\n",
       "      <td>ADM AGUSTINAS</td>\n",
       "      <td>Preuniversitario Pedro de Valdivia</td>\n",
       "      <td>12886678</td>\n",
       "      <td>7</td>\n",
       "      <td>12886678-7</td>\n",
       "      <td>24795492</td>\n",
       "      <td>9</td>\n",
       "      <td>24795492-9</td>\n",
       "      <td>F</td>\n",
       "      <td>HIJA</td>\n",
       "      <td>...</td>\n",
       "      <td>Rodriguez</td>\n",
       "      <td>2014-11-10 00:00:00</td>\n",
       "      <td>8.0</td>\n",
       "      <td>krodriguez@pedrodevaldivia.cl</td>\n",
       "      <td>san eugenio 1065 depto 51 F</td>\n",
       "      <td>Ñuñoa</td>\n",
       "      <td>Fonasa</td>\n",
       "      <td>944944501</td>\n",
       "      <td>247954929</td>\n",
       "      <td>128866787</td>\n",
       "    </tr>\n",
       "  </tbody>\n",
       "</table>\n",
       "<p>176 rows × 22 columns</p>\n",
       "</div>"
      ],
      "text/plain": [
       "               poliza                             Empresa  Rut Titular  \\\n",
       "0    ESTACION CENTRAL  Preuniversitario Pedro de Valdivia     13691919   \n",
       "1    ESTACION CENTRAL  Preuniversitario Pedro de Valdivia     13691919   \n",
       "2    ESTACION CENTRAL  Preuniversitario Pedro de Valdivia     13691919   \n",
       "3         PROVIDENCIA  Preuniversitario Pedro de Valdivia     11841448   \n",
       "4         PROVIDENCIA  Preuniversitario Pedro de Valdivia     11841448   \n",
       "..                ...                                 ...          ...   \n",
       "171             TALCA  Preuniversitario Pedro de Valdivia     12790876   \n",
       "172             TALCA  Preuniversitario Pedro de Valdivia     12790876   \n",
       "173             TALCA  Preuniversitario Pedro de Valdivia     12790876   \n",
       "174     ADM AGUSTINAS  Preuniversitario Pedro de Valdivia     12886678   \n",
       "175     ADM AGUSTINAS  Preuniversitario Pedro de Valdivia     12886678   \n",
       "\n",
       "    Dv Titular        rut2  Rut Asegurado Dv        rut1 sexo Parentesco  ...  \\\n",
       "0            9  13691919-9       13691919  9  13691919-9    M      Socio  ...   \n",
       "1            9  13691919-9       16921189  2  16921189-2    F     Pareja  ...   \n",
       "2            9  13691919-9       25367792  9  25367792-9    M       Hijo  ...   \n",
       "3            9  11841448-9       11841448  9  11841448-9    F      Socio  ...   \n",
       "4            9  11841448-9       23292872  7  23292872-7    F       Hija  ...   \n",
       "..         ...         ...            ... ..         ...  ...        ...  ...   \n",
       "171          1  12790876-1       19536136  1  19536136-1    M       Hijo  ...   \n",
       "172          1  12790876-1       20519910  1  20519910-1    M       Hijo  ...   \n",
       "173          1  12790876-1       22426994  3  22426994-3    M       Hijo  ...   \n",
       "174          7  12886678-7       12886678  7  12886678-7    F      SOCIA  ...   \n",
       "175          7  12886678-7       24795492  9  24795492-9    F       HIJA  ...   \n",
       "\n",
       "             apellidos           nacimiento  Edad  \\\n",
       "0         Aliaga Silva  1979-03-04 00:00:00  42.0   \n",
       "1    San Martín García  1988-04-27 00:00:00  32.0   \n",
       "2    Aliaga San Martín  2016-05-04 00:00:00   4.0   \n",
       "3          Molina Romo  1971-07-30 00:00:00  49.0   \n",
       "4      Marchant Molina  2010-04-07 00:00:00  11.0   \n",
       "..                 ...                  ...   ...   \n",
       "171       Betrán Gómez  1997-06-04 00:00:00  23.0   \n",
       "172       Betrán Gómez  2000-12-13 00:00:00  20.0   \n",
       "173       Betrán Gómez  2007-06-07 00:00:00  13.0   \n",
       "174     Rodriguez Soto                  NaN   NaN   \n",
       "175          Rodriguez  2014-11-10 00:00:00   8.0   \n",
       "\n",
       "                             email                     direccion       comuna  \\\n",
       "0       caliaga@pedrodevaldivia.cl  Los Quillayes 14B Parcela 19     Curacaví   \n",
       "1               ma.jeshu@gmail.com  Los Quillayes 14B Parcela 19     Curacaví   \n",
       "2               ma.jeshu@gmail.com  Los Quillayes 14B Parcela 19     Curacaví   \n",
       "3       vmolina@pedrodevaldivia.cl             Psje. 2 casa 1371  Qta. Normal   \n",
       "4       vmolina@pedrodevaldivia.cl             Psje. 2 casa 1371  Qta. Normal   \n",
       "..                             ...                           ...          ...   \n",
       "171     egomez.jaque1922@gmail.com          RÍO TIGUIRIRICA 1904        MAULE   \n",
       "172           belgom343@gmail.com           RÍO TIGUIRIRICA 1905        MAULE   \n",
       "173     egomez.jaque1922@gmail.com          RÍO TIGUIRIRICA 1906        MAULE   \n",
       "174  krodriguez@pedrodevaldivia.cl   san eugenio 1065 depto 51 F        Ñuñoa   \n",
       "175  krodriguez@pedrodevaldivia.cl   san eugenio 1065 depto 51 F        Ñuñoa   \n",
       "\n",
       "        Isapre    celular        rut       rutT  \n",
       "0       Fonasa  973321761  136919199  136919199  \n",
       "1       Fonasa  954103470  169211892  136919199  \n",
       "2       Fonasa  954103470  253677929  136919199  \n",
       "3    Banmedica  998112645  118414489  118414489  \n",
       "4    Banmedica  998112645  232928727  118414489  \n",
       "..         ...        ...        ...        ...  \n",
       "171     FONASA  990849628  195361361  127908761  \n",
       "172     FONASA  990849628  205199101  127908761  \n",
       "173     FONASA  990849628  224269943  127908761  \n",
       "174     Fonasa  944944501  128866787  128866787  \n",
       "175     Fonasa  944944501  247954929  128866787  \n",
       "\n",
       "[176 rows x 22 columns]"
      ]
     },
     "execution_count": 553,
     "metadata": {},
     "output_type": "execute_result"
    }
   ],
   "source": [
    "Pacientes_Archivo[\"rut\"] = Pacientes_Archivo[\"rut\"].apply(lambda y: siPrimerCero(y))\n",
    "Pacientes_Archivo[\"rutT\"] = Pacientes_Archivo[\"rutT\"].apply(lambda y: siPrimerCero(y))\n",
    "Pacientes_Archivo\n",
    "\n",
    "#Pacientes_Nones = Pacientes_Archivo[(Pacientes_Archivo[\"rut\"] == \"NONE\") | (Pacientes_Archivo[\"rutT\"] == \"NONE\")]\n",
    "#Pacientes_Archivo = Pacientes_Archivo[(Pacientes_Archivo[\"rut\"] != \"NONE\") | (Pacientes_Archivo[\"rutT\"] != \"NONE\")]"
   ]
  },
  {
   "cell_type": "code",
   "execution_count": null,
   "metadata": {},
   "outputs": [],
   "source": [
    "#Pacientes_Archivo.to_excel(\"F:/Empresas SF/reportes/Pacientes_Archivo22.xlsx\", index=False) "
   ]
  },
  {
   "cell_type": "code",
   "execution_count": 554,
   "metadata": {
    "notebookRunGroups": {
     "groupValue": "2"
    }
   },
   "outputs": [],
   "source": [
    "Pacientes_Archivo = Pacientes_Archivo[(Pacientes_Archivo[\"rut\"] != \"NONE\") ]\n",
    "Pacientes_Archivo = Pacientes_Archivo[(Pacientes_Archivo[\"rutT\"] != \"NONE\") ]\n",
    "#| (Pacientes_Archivo[\"rutT\"] != \"NONE\")"
   ]
  },
  {
   "cell_type": "markdown",
   "metadata": {},
   "source": [
    "PAcientes Programas"
   ]
  },
  {
   "cell_type": "code",
   "execution_count": 555,
   "metadata": {
    "notebookRunGroups": {
     "groupValue": "2"
    }
   },
   "outputs": [
    {
     "name": "stderr",
     "output_type": "stream",
     "text": [
      "100%|██████████| 1/1 [00:08<00:00,  8.77s/it]\n"
     ]
    },
    {
     "data": {
      "text/html": [
       "<div>\n",
       "<style scoped>\n",
       "    .dataframe tbody tr th:only-of-type {\n",
       "        vertical-align: middle;\n",
       "    }\n",
       "\n",
       "    .dataframe tbody tr th {\n",
       "        vertical-align: top;\n",
       "    }\n",
       "\n",
       "    .dataframe thead th {\n",
       "        text-align: right;\n",
       "    }\n",
       "</style>\n",
       "<table border=\"1\" class=\"dataframe\">\n",
       "  <thead>\n",
       "    <tr style=\"text-align: right;\">\n",
       "      <th></th>\n",
       "      <th>Paciente__c</th>\n",
       "      <th>Programas_por_Empresas__r.Empresa__c</th>\n",
       "      <th>Paciente__r.IdentificationId__pc</th>\n",
       "      <th>Id</th>\n",
       "    </tr>\n",
       "  </thead>\n",
       "  <tbody>\n",
       "    <tr>\n",
       "      <th>0</th>\n",
       "      <td>0018c00002amVJ7AAM</td>\n",
       "      <td>0018c00002cXJTsAAO</td>\n",
       "      <td>124606519</td>\n",
       "      <td>a1Y8c00000C6VqlEAF</td>\n",
       "    </tr>\n",
       "    <tr>\n",
       "      <th>1</th>\n",
       "      <td>0018c00002eWlLxAAK</td>\n",
       "      <td>0018c00002cXJTsAAO</td>\n",
       "      <td>17963113K</td>\n",
       "      <td>a1Y8c00000CyU3IEAV</td>\n",
       "    </tr>\n",
       "    <tr>\n",
       "      <th>2</th>\n",
       "      <td>0018c00002mTvA5AAK</td>\n",
       "      <td>0018c00002cXJTsAAO</td>\n",
       "      <td>245010710</td>\n",
       "      <td>a1Y8c00000CyU3JEAV</td>\n",
       "    </tr>\n",
       "    <tr>\n",
       "      <th>3</th>\n",
       "      <td>0018c00002mTvA6AAK</td>\n",
       "      <td>0018c00002cXJTsAAO</td>\n",
       "      <td>278974642</td>\n",
       "      <td>a1Y8c00000CyU3KEAV</td>\n",
       "    </tr>\n",
       "    <tr>\n",
       "      <th>4</th>\n",
       "      <td>0018c00002mTvA7AAK</td>\n",
       "      <td>0018c00002cXJTsAAO</td>\n",
       "      <td>111991103</td>\n",
       "      <td>a1Y8c00000CyU3LEAV</td>\n",
       "    </tr>\n",
       "  </tbody>\n",
       "</table>\n",
       "</div>"
      ],
      "text/plain": [
       "          Paciente__c Programas_por_Empresas__r.Empresa__c  \\\n",
       "0  0018c00002amVJ7AAM                   0018c00002cXJTsAAO   \n",
       "1  0018c00002eWlLxAAK                   0018c00002cXJTsAAO   \n",
       "2  0018c00002mTvA5AAK                   0018c00002cXJTsAAO   \n",
       "3  0018c00002mTvA6AAK                   0018c00002cXJTsAAO   \n",
       "4  0018c00002mTvA7AAK                   0018c00002cXJTsAAO   \n",
       "\n",
       "  Paciente__r.IdentificationId__pc                  Id  \n",
       "0                        124606519  a1Y8c00000C6VqlEAF  \n",
       "1                        17963113K  a1Y8c00000CyU3IEAV  \n",
       "2                        245010710  a1Y8c00000CyU3JEAV  \n",
       "3                        278974642  a1Y8c00000CyU3KEAV  \n",
       "4                        111991103  a1Y8c00000CyU3LEAV  "
      ]
     },
     "execution_count": 555,
     "metadata": {},
     "output_type": "execute_result"
    }
   ],
   "source": [
    "\n",
    "\n",
    "\n",
    "query_pacientePrograma = \"SELECT Paciente__c,Programas_por_Empresas__r.Empresa__c,Paciente__r.IdentificationId__pc,Id from Paciente_Programas__c where padre__c =  '\" + campaña +\"'\"\n",
    "pacientePrograma = sf.smart_query(query_pacientePrograma)\n",
    "pacientePrograma.head()"
   ]
  },
  {
   "cell_type": "code",
   "execution_count": 556,
   "metadata": {
    "notebookRunGroups": {
     "groupValue": "2"
    }
   },
   "outputs": [
    {
     "data": {
      "text/html": [
       "<div>\n",
       "<style scoped>\n",
       "    .dataframe tbody tr th:only-of-type {\n",
       "        vertical-align: middle;\n",
       "    }\n",
       "\n",
       "    .dataframe tbody tr th {\n",
       "        vertical-align: top;\n",
       "    }\n",
       "\n",
       "    .dataframe thead th {\n",
       "        text-align: right;\n",
       "    }\n",
       "</style>\n",
       "<table border=\"1\" class=\"dataframe\">\n",
       "  <thead>\n",
       "    <tr style=\"text-align: right;\">\n",
       "      <th></th>\n",
       "      <th>Id Account Paciente</th>\n",
       "      <th>Id Account Empleador</th>\n",
       "      <th>Rut</th>\n",
       "      <th>Id Paciente Programas</th>\n",
       "    </tr>\n",
       "  </thead>\n",
       "  <tbody>\n",
       "    <tr>\n",
       "      <th>0</th>\n",
       "      <td>0018c00002amVJ7AAM</td>\n",
       "      <td>0018c00002cXJTsAAO</td>\n",
       "      <td>124606519</td>\n",
       "      <td>a1Y8c00000C6VqlEAF</td>\n",
       "    </tr>\n",
       "    <tr>\n",
       "      <th>1</th>\n",
       "      <td>0018c00002eWlLxAAK</td>\n",
       "      <td>0018c00002cXJTsAAO</td>\n",
       "      <td>17963113K</td>\n",
       "      <td>a1Y8c00000CyU3IEAV</td>\n",
       "    </tr>\n",
       "    <tr>\n",
       "      <th>2</th>\n",
       "      <td>0018c00002mTvA5AAK</td>\n",
       "      <td>0018c00002cXJTsAAO</td>\n",
       "      <td>245010710</td>\n",
       "      <td>a1Y8c00000CyU3JEAV</td>\n",
       "    </tr>\n",
       "    <tr>\n",
       "      <th>3</th>\n",
       "      <td>0018c00002mTvA6AAK</td>\n",
       "      <td>0018c00002cXJTsAAO</td>\n",
       "      <td>278974642</td>\n",
       "      <td>a1Y8c00000CyU3KEAV</td>\n",
       "    </tr>\n",
       "    <tr>\n",
       "      <th>4</th>\n",
       "      <td>0018c00002mTvA7AAK</td>\n",
       "      <td>0018c00002cXJTsAAO</td>\n",
       "      <td>111991103</td>\n",
       "      <td>a1Y8c00000CyU3LEAV</td>\n",
       "    </tr>\n",
       "  </tbody>\n",
       "</table>\n",
       "</div>"
      ],
      "text/plain": [
       "  Id Account Paciente Id Account Empleador        Rut Id Paciente Programas\n",
       "0  0018c00002amVJ7AAM   0018c00002cXJTsAAO  124606519    a1Y8c00000C6VqlEAF\n",
       "1  0018c00002eWlLxAAK   0018c00002cXJTsAAO  17963113K    a1Y8c00000CyU3IEAV\n",
       "2  0018c00002mTvA5AAK   0018c00002cXJTsAAO  245010710    a1Y8c00000CyU3JEAV\n",
       "3  0018c00002mTvA6AAK   0018c00002cXJTsAAO  278974642    a1Y8c00000CyU3KEAV\n",
       "4  0018c00002mTvA7AAK   0018c00002cXJTsAAO  111991103    a1Y8c00000CyU3LEAV"
      ]
     },
     "execution_count": 556,
     "metadata": {},
     "output_type": "execute_result"
    }
   ],
   "source": [
    "pacientePrograma = pacientePrograma.rename(\n",
    "    columns={\n",
    "        \"Id\": \"Id Paciente Programas\",\n",
    "        \"Paciente__r.IdentificationId__pc\": \"Rut\",\n",
    "        \"Programas_por_Empresas__r.Empresa__c\": \"Id Account Empleador\",\n",
    "        \"Paciente__c\": \"Id Account Paciente\",\n",
    "    }\n",
    ")\n",
    "pacientePrograma.head()"
   ]
  },
  {
   "cell_type": "code",
   "execution_count": 557,
   "metadata": {
    "notebookRunGroups": {
     "groupValue": "2"
    }
   },
   "outputs": [
    {
     "name": "stderr",
     "output_type": "stream",
     "text": [
      "C:\\Users\\jmartinez\\AppData\\Local\\Temp\\ipykernel_24540\\3172767859.py:5: FutureWarning: The default value of regex will change from True to False in a future version. In addition, single character regular expressions will *not* be treated as literal strings when regex=True.\n",
      "  pacientePrograma[\"Rut\"] = pacientePrograma[\"Rut\"].str.replace(\".\", \"\")\n"
     ]
    },
    {
     "data": {
      "text/plain": [
       "(294, 4)"
      ]
     },
     "execution_count": 557,
     "metadata": {},
     "output_type": "execute_result"
    }
   ],
   "source": [
    "pacientePrograma[\"Rut\"] = pacientePrograma[\"Rut\"].astype(str)\n",
    "pacientePrograma[\"Rut\"] = pacientePrograma[\"Rut\"].str.replace(\"-\", \"\")\n",
    "pacientePrograma[\"Rut\"] = pacientePrograma[\"Rut\"].str.replace(\"–\", \"\")\n",
    "pacientePrograma[\"Rut\"] = pacientePrograma[\"Rut\"].astype(str)\n",
    "pacientePrograma[\"Rut\"] = pacientePrograma[\"Rut\"].str.replace(\".\", \"\")\n",
    "pacientePrograma[\"Rut\"] = pacientePrograma[\"Rut\"].str.upper()\n",
    "pacientePrograma[\"Rut\"] = pacientePrograma[\"Rut\"].str.strip()\n",
    "pacientePrograma.shape"
   ]
  },
  {
   "cell_type": "code",
   "execution_count": 558,
   "metadata": {
    "notebookRunGroups": {
     "groupValue": "2"
    }
   },
   "outputs": [
    {
     "data": {
      "text/html": [
       "<div>\n",
       "<style scoped>\n",
       "    .dataframe tbody tr th:only-of-type {\n",
       "        vertical-align: middle;\n",
       "    }\n",
       "\n",
       "    .dataframe tbody tr th {\n",
       "        vertical-align: top;\n",
       "    }\n",
       "\n",
       "    .dataframe thead th {\n",
       "        text-align: right;\n",
       "    }\n",
       "</style>\n",
       "<table border=\"1\" class=\"dataframe\">\n",
       "  <thead>\n",
       "    <tr style=\"text-align: right;\">\n",
       "      <th></th>\n",
       "      <th>Id Account Paciente</th>\n",
       "      <th>Id Account Empleador</th>\n",
       "      <th>Rut_x</th>\n",
       "      <th>Id Paciente Programas</th>\n",
       "      <th>Rut_y</th>\n",
       "      <th>Id Contacto</th>\n",
       "    </tr>\n",
       "  </thead>\n",
       "  <tbody>\n",
       "    <tr>\n",
       "      <th>0</th>\n",
       "      <td>0018c00002amVJ7AAM</td>\n",
       "      <td>0018c00002cXJTsAAO</td>\n",
       "      <td>124606519</td>\n",
       "      <td>a1Y8c00000C6VqlEAF</td>\n",
       "      <td>124606519</td>\n",
       "      <td>0038c000035CezMAAS</td>\n",
       "    </tr>\n",
       "    <tr>\n",
       "      <th>1</th>\n",
       "      <td>0018c00002eWlLxAAK</td>\n",
       "      <td>0018c00002cXJTsAAO</td>\n",
       "      <td>17963113K</td>\n",
       "      <td>a1Y8c00000CyU3IEAV</td>\n",
       "      <td>17963113K</td>\n",
       "      <td>0038c000039F8GCAA0</td>\n",
       "    </tr>\n",
       "    <tr>\n",
       "      <th>2</th>\n",
       "      <td>0018c00002mTvA5AAK</td>\n",
       "      <td>0018c00002cXJTsAAO</td>\n",
       "      <td>245010710</td>\n",
       "      <td>a1Y8c00000CyU3JEAV</td>\n",
       "      <td>245010710</td>\n",
       "      <td>0038c00003IcpRaAAJ</td>\n",
       "    </tr>\n",
       "    <tr>\n",
       "      <th>3</th>\n",
       "      <td>0018c00002mTvA6AAK</td>\n",
       "      <td>0018c00002cXJTsAAO</td>\n",
       "      <td>278974642</td>\n",
       "      <td>a1Y8c00000CyU3KEAV</td>\n",
       "      <td>278974642</td>\n",
       "      <td>0038c00003IcpRbAAJ</td>\n",
       "    </tr>\n",
       "    <tr>\n",
       "      <th>4</th>\n",
       "      <td>0018c00002mTvA7AAK</td>\n",
       "      <td>0018c00002cXJTsAAO</td>\n",
       "      <td>111991103</td>\n",
       "      <td>a1Y8c00000CyU3LEAV</td>\n",
       "      <td>111991103</td>\n",
       "      <td>0038c00003IcpRcAAJ</td>\n",
       "    </tr>\n",
       "  </tbody>\n",
       "</table>\n",
       "</div>"
      ],
      "text/plain": [
       "  Id Account Paciente Id Account Empleador      Rut_x Id Paciente Programas  \\\n",
       "0  0018c00002amVJ7AAM   0018c00002cXJTsAAO  124606519    a1Y8c00000C6VqlEAF   \n",
       "1  0018c00002eWlLxAAK   0018c00002cXJTsAAO  17963113K    a1Y8c00000CyU3IEAV   \n",
       "2  0018c00002mTvA5AAK   0018c00002cXJTsAAO  245010710    a1Y8c00000CyU3JEAV   \n",
       "3  0018c00002mTvA6AAK   0018c00002cXJTsAAO  278974642    a1Y8c00000CyU3KEAV   \n",
       "4  0018c00002mTvA7AAK   0018c00002cXJTsAAO  111991103    a1Y8c00000CyU3LEAV   \n",
       "\n",
       "       Rut_y         Id Contacto  \n",
       "0  124606519  0038c000035CezMAAS  \n",
       "1  17963113K  0038c000039F8GCAA0  \n",
       "2  245010710  0038c00003IcpRaAAJ  \n",
       "3  278974642  0038c00003IcpRbAAJ  \n",
       "4  111991103  0038c00003IcpRcAAJ  "
      ]
     },
     "execution_count": 558,
     "metadata": {},
     "output_type": "execute_result"
    }
   ],
   "source": [
    "\n",
    "PacientesProgramas_PacientesSF = pd.merge(\n",
    "    left=pacientePrograma,\n",
    "    right=Pacientes_IDrut,\n",
    "    how=\"left\",\n",
    "    left_on=\"Id Account Paciente\",\n",
    "    right_on=\"Id Account Paciente\",\n",
    ")\n",
    "\n",
    "PacientesProgramas_PacientesSF.head()"
   ]
  },
  {
   "cell_type": "markdown",
   "metadata": {},
   "source": [
    "account contact relation"
   ]
  },
  {
   "cell_type": "code",
   "execution_count": 559,
   "metadata": {
    "notebookRunGroups": {
     "groupValue": "2"
    }
   },
   "outputs": [
    {
     "name": "stderr",
     "output_type": "stream",
     "text": [
      "  0%|          | 0/1 [00:00<?, ?it/s]"
     ]
    }
   ],
   "source": [
    "\n",
    "query_accountContact = \"select Id,ContactId, AccountId, RutContact__c ,Contact.AccountId from AccountContactRelation where Account.Campa_a__c = '\" + campaña +\"'\"\n",
    "accountContactRelation = sf.smart_query(query_accountContact)\n",
    "accountContactRelation.head()"
   ]
  },
  {
   "cell_type": "code",
   "execution_count": null,
   "metadata": {
    "notebookRunGroups": {
     "groupValue": "2"
    }
   },
   "outputs": [
    {
     "data": {
      "text/html": [
       "<div>\n",
       "<style scoped>\n",
       "    .dataframe tbody tr th:only-of-type {\n",
       "        vertical-align: middle;\n",
       "    }\n",
       "\n",
       "    .dataframe tbody tr th {\n",
       "        vertical-align: top;\n",
       "    }\n",
       "\n",
       "    .dataframe thead th {\n",
       "        text-align: right;\n",
       "    }\n",
       "</style>\n",
       "<table border=\"1\" class=\"dataframe\">\n",
       "  <thead>\n",
       "    <tr style=\"text-align: right;\">\n",
       "      <th></th>\n",
       "      <th>Id AccountContactRelation</th>\n",
       "      <th>Id Contact Paciente</th>\n",
       "      <th>Id Account Empresa</th>\n",
       "      <th>Rut</th>\n",
       "      <th>Id Account Paciente</th>\n",
       "    </tr>\n",
       "  </thead>\n",
       "  <tbody>\n",
       "    <tr>\n",
       "      <th>0</th>\n",
       "      <td>07k8c00000S8to7AAB</td>\n",
       "      <td>0038c000035CYVvAAO</td>\n",
       "      <td>0018c00002cXclQAAS</td>\n",
       "      <td>170261348</td>\n",
       "      <td>0018c00002amOpnAAE</td>\n",
       "    </tr>\n",
       "    <tr>\n",
       "      <th>1</th>\n",
       "      <td>07k8c00000S8to8AAB</td>\n",
       "      <td>0038c000035CYW0AAO</td>\n",
       "      <td>0018c00002cXclQAAS</td>\n",
       "      <td>187987741</td>\n",
       "      <td>0018c00002amOpsAAE</td>\n",
       "    </tr>\n",
       "    <tr>\n",
       "      <th>2</th>\n",
       "      <td>07k8c00000S8to9AAB</td>\n",
       "      <td>0038c000035CYWKAA4</td>\n",
       "      <td>0018c00002cXclQAAS</td>\n",
       "      <td>134714816</td>\n",
       "      <td>0018c00002amOqCAAU</td>\n",
       "    </tr>\n",
       "    <tr>\n",
       "      <th>3</th>\n",
       "      <td>07k8c00000S8toAAAR</td>\n",
       "      <td>0038c000035CYWaAAO</td>\n",
       "      <td>0018c00002cXclQAAS</td>\n",
       "      <td>47670691</td>\n",
       "      <td>0018c00002amOqSAAU</td>\n",
       "    </tr>\n",
       "    <tr>\n",
       "      <th>4</th>\n",
       "      <td>07k8c00000S8toBAAR</td>\n",
       "      <td>0038c000035CYWbAAO</td>\n",
       "      <td>0018c00002cXclQAAS</td>\n",
       "      <td>260420356</td>\n",
       "      <td>0018c00002amOqTAAU</td>\n",
       "    </tr>\n",
       "  </tbody>\n",
       "</table>\n",
       "</div>"
      ],
      "text/plain": [
       "  Id AccountContactRelation Id Contact Paciente  Id Account Empresa  \\\n",
       "0        07k8c00000S8to7AAB  0038c000035CYVvAAO  0018c00002cXclQAAS   \n",
       "1        07k8c00000S8to8AAB  0038c000035CYW0AAO  0018c00002cXclQAAS   \n",
       "2        07k8c00000S8to9AAB  0038c000035CYWKAA4  0018c00002cXclQAAS   \n",
       "3        07k8c00000S8toAAAR  0038c000035CYWaAAO  0018c00002cXclQAAS   \n",
       "4        07k8c00000S8toBAAR  0038c000035CYWbAAO  0018c00002cXclQAAS   \n",
       "\n",
       "         Rut Id Account Paciente  \n",
       "0  170261348  0018c00002amOpnAAE  \n",
       "1  187987741  0018c00002amOpsAAE  \n",
       "2  134714816  0018c00002amOqCAAU  \n",
       "3   47670691  0018c00002amOqSAAU  \n",
       "4  260420356  0018c00002amOqTAAU  "
      ]
     },
     "execution_count": 523,
     "metadata": {},
     "output_type": "execute_result"
    }
   ],
   "source": [
    "accountContactRelation = accountContactRelation.rename(\n",
    "    columns={\n",
    "        \"Id\": \"Id AccountContactRelation\",\n",
    "        \"ContactId\": \"Id Contact Paciente\",\n",
    "        \"AccountId\": \"Id Account Empresa\",\n",
    "        \"RutContact__c\": \"Rut\",\n",
    "        \"Contact.AccountId\":\"Id Account Paciente\"\n",
    "    }\n",
    ")\n",
    "accountContactRelation.head()"
   ]
  },
  {
   "cell_type": "code",
   "execution_count": null,
   "metadata": {
    "notebookRunGroups": {
     "groupValue": "2"
    }
   },
   "outputs": [
    {
     "name": "stderr",
     "output_type": "stream",
     "text": [
      "C:\\Users\\jmartinez\\AppData\\Local\\Temp\\ipykernel_24540\\2268980097.py:5: FutureWarning: The default value of regex will change from True to False in a future version. In addition, single character regular expressions will *not* be treated as literal strings when regex=True.\n",
      "  accountContactRelation[\"Rut\"] = accountContactRelation[\"Rut\"].str.replace(\".\", \"\")\n"
     ]
    },
    {
     "data": {
      "text/plain": [
       "(1377, 5)"
      ]
     },
     "execution_count": 524,
     "metadata": {},
     "output_type": "execute_result"
    }
   ],
   "source": [
    "accountContactRelation[\"Rut\"] = accountContactRelation[\"Rut\"].astype(str)\n",
    "accountContactRelation[\"Rut\"] = accountContactRelation[\"Rut\"].str.replace(\"-\", \"\")\n",
    "accountContactRelation[\"Rut\"] = accountContactRelation[\"Rut\"].str.replace(\"–\", \"\")\n",
    "accountContactRelation[\"Rut\"] = accountContactRelation[\"Rut\"].astype(str)\n",
    "accountContactRelation[\"Rut\"] = accountContactRelation[\"Rut\"].str.replace(\".\", \"\")\n",
    "accountContactRelation[\"Rut\"] = accountContactRelation[\"Rut\"].str.upper()\n",
    "accountContactRelation[\"Rut\"] = accountContactRelation[\"Rut\"].str.strip()\n",
    "accountContactRelation.shape"
   ]
  },
  {
   "cell_type": "code",
   "execution_count": null,
   "metadata": {
    "notebookRunGroups": {
     "groupValue": "2"
    }
   },
   "outputs": [
    {
     "data": {
      "text/html": [
       "<div>\n",
       "<style scoped>\n",
       "    .dataframe tbody tr th:only-of-type {\n",
       "        vertical-align: middle;\n",
       "    }\n",
       "\n",
       "    .dataframe tbody tr th {\n",
       "        vertical-align: top;\n",
       "    }\n",
       "\n",
       "    .dataframe thead th {\n",
       "        text-align: right;\n",
       "    }\n",
       "</style>\n",
       "<table border=\"1\" class=\"dataframe\">\n",
       "  <thead>\n",
       "    <tr style=\"text-align: right;\">\n",
       "      <th></th>\n",
       "      <th>Id AccountContactRelation</th>\n",
       "      <th>Id Contact Paciente</th>\n",
       "      <th>Id Account Empresa</th>\n",
       "      <th>Rut_x</th>\n",
       "      <th>Id Account Paciente</th>\n",
       "      <th>Rut_y</th>\n",
       "      <th>Id Contacto</th>\n",
       "    </tr>\n",
       "  </thead>\n",
       "  <tbody>\n",
       "    <tr>\n",
       "      <th>0</th>\n",
       "      <td>07k8c00000S8to7AAB</td>\n",
       "      <td>0038c000035CYVvAAO</td>\n",
       "      <td>0018c00002cXclQAAS</td>\n",
       "      <td>170261348</td>\n",
       "      <td>0018c00002amOpnAAE</td>\n",
       "      <td>170261348</td>\n",
       "      <td>0038c000035CYVvAAO</td>\n",
       "    </tr>\n",
       "    <tr>\n",
       "      <th>1</th>\n",
       "      <td>07k8c00000S8to8AAB</td>\n",
       "      <td>0038c000035CYW0AAO</td>\n",
       "      <td>0018c00002cXclQAAS</td>\n",
       "      <td>187987741</td>\n",
       "      <td>0018c00002amOpsAAE</td>\n",
       "      <td>187987741</td>\n",
       "      <td>0038c000035CYW0AAO</td>\n",
       "    </tr>\n",
       "    <tr>\n",
       "      <th>2</th>\n",
       "      <td>07k8c00000S8to9AAB</td>\n",
       "      <td>0038c000035CYWKAA4</td>\n",
       "      <td>0018c00002cXclQAAS</td>\n",
       "      <td>134714816</td>\n",
       "      <td>0018c00002amOqCAAU</td>\n",
       "      <td>134714816</td>\n",
       "      <td>0038c000035CYWKAA4</td>\n",
       "    </tr>\n",
       "    <tr>\n",
       "      <th>3</th>\n",
       "      <td>07k8c00000S8toAAAR</td>\n",
       "      <td>0038c000035CYWaAAO</td>\n",
       "      <td>0018c00002cXclQAAS</td>\n",
       "      <td>47670691</td>\n",
       "      <td>0018c00002amOqSAAU</td>\n",
       "      <td>47670691</td>\n",
       "      <td>0038c000035CYWaAAO</td>\n",
       "    </tr>\n",
       "    <tr>\n",
       "      <th>4</th>\n",
       "      <td>07k8c00000S8toBAAR</td>\n",
       "      <td>0038c000035CYWbAAO</td>\n",
       "      <td>0018c00002cXclQAAS</td>\n",
       "      <td>260420356</td>\n",
       "      <td>0018c00002amOqTAAU</td>\n",
       "      <td>260420356</td>\n",
       "      <td>0038c000035CYWbAAO</td>\n",
       "    </tr>\n",
       "  </tbody>\n",
       "</table>\n",
       "</div>"
      ],
      "text/plain": [
       "  Id AccountContactRelation Id Contact Paciente  Id Account Empresa  \\\n",
       "0        07k8c00000S8to7AAB  0038c000035CYVvAAO  0018c00002cXclQAAS   \n",
       "1        07k8c00000S8to8AAB  0038c000035CYW0AAO  0018c00002cXclQAAS   \n",
       "2        07k8c00000S8to9AAB  0038c000035CYWKAA4  0018c00002cXclQAAS   \n",
       "3        07k8c00000S8toAAAR  0038c000035CYWaAAO  0018c00002cXclQAAS   \n",
       "4        07k8c00000S8toBAAR  0038c000035CYWbAAO  0018c00002cXclQAAS   \n",
       "\n",
       "       Rut_x Id Account Paciente      Rut_y         Id Contacto  \n",
       "0  170261348  0018c00002amOpnAAE  170261348  0038c000035CYVvAAO  \n",
       "1  187987741  0018c00002amOpsAAE  187987741  0038c000035CYW0AAO  \n",
       "2  134714816  0018c00002amOqCAAU  134714816  0038c000035CYWKAA4  \n",
       "3   47670691  0018c00002amOqSAAU   47670691  0038c000035CYWaAAO  \n",
       "4  260420356  0018c00002amOqTAAU  260420356  0038c000035CYWbAAO  "
      ]
     },
     "execution_count": 525,
     "metadata": {},
     "output_type": "execute_result"
    }
   ],
   "source": [
    "AccountContact_PacientesSF = pd.merge(\n",
    "    left=accountContactRelation,\n",
    "    right=Pacientes_IDrut,\n",
    "    how=\"left\",\n",
    "    left_on=\"Id Account Paciente\",\n",
    "    right_on=\"Id Account Paciente\",\n",
    ")\n",
    "AccountContact_PacientesSF.head()\n"
   ]
  },
  {
   "cell_type": "markdown",
   "metadata": {},
   "source": [
    "empresa contacto convenio"
   ]
  },
  {
   "cell_type": "code",
   "execution_count": null,
   "metadata": {
    "notebookRunGroups": {
     "groupValue": "2"
    }
   },
   "outputs": [
    {
     "name": "stderr",
     "output_type": "stream",
     "text": [
      "100%|██████████| 1/1 [00:02<00:00,  2.37s/it]\n"
     ]
    },
    {
     "data": {
      "text/html": [
       "<div>\n",
       "<style scoped>\n",
       "    .dataframe tbody tr th:only-of-type {\n",
       "        vertical-align: middle;\n",
       "    }\n",
       "\n",
       "    .dataframe tbody tr th {\n",
       "        vertical-align: top;\n",
       "    }\n",
       "\n",
       "    .dataframe thead th {\n",
       "        text-align: right;\n",
       "    }\n",
       "</style>\n",
       "<table border=\"1\" class=\"dataframe\">\n",
       "  <thead>\n",
       "    <tr style=\"text-align: right;\">\n",
       "      <th></th>\n",
       "      <th>N_Documento_Titular__c</th>\n",
       "      <th>Paciente__c</th>\n",
       "      <th>Paciente__r.IdentificationId__pc</th>\n",
       "      <th>Empresa__c</th>\n",
       "      <th>Id</th>\n",
       "    </tr>\n",
       "  </thead>\n",
       "  <tbody>\n",
       "  </tbody>\n",
       "</table>\n",
       "</div>"
      ],
      "text/plain": [
       "Empty DataFrame\n",
       "Columns: [N_Documento_Titular__c, Paciente__c, Paciente__r.IdentificationId__pc, Empresa__c, Id]\n",
       "Index: []"
      ]
     },
     "execution_count": 526,
     "metadata": {},
     "output_type": "execute_result"
    }
   ],
   "source": [
    "query_empresacontactoconvenio = \"select Id,Paciente__r.IdentificationId__pc,  Empresa__c, Paciente__c,N_Documento_Titular__c from EmpresaContactoConvenios__c where Empresa__r.Campa_a__c = '\" + campaña +\"'\"\n",
    "empresacontactoconvenio = sf.smart_query(query_empresacontactoconvenio)\n",
    "empresacontactoconvenio.head()"
   ]
  },
  {
   "cell_type": "code",
   "execution_count": null,
   "metadata": {
    "notebookRunGroups": {
     "groupValue": "2"
    }
   },
   "outputs": [
    {
     "data": {
      "text/html": [
       "<div>\n",
       "<style scoped>\n",
       "    .dataframe tbody tr th:only-of-type {\n",
       "        vertical-align: middle;\n",
       "    }\n",
       "\n",
       "    .dataframe tbody tr th {\n",
       "        vertical-align: top;\n",
       "    }\n",
       "\n",
       "    .dataframe thead th {\n",
       "        text-align: right;\n",
       "    }\n",
       "</style>\n",
       "<table border=\"1\" class=\"dataframe\">\n",
       "  <thead>\n",
       "    <tr style=\"text-align: right;\">\n",
       "      <th></th>\n",
       "      <th>Rut Titular</th>\n",
       "      <th>Id Account Paciente</th>\n",
       "      <th>Rut</th>\n",
       "      <th>Id Convenio Empresa</th>\n",
       "      <th>Id EmpresaContactoConvenio</th>\n",
       "    </tr>\n",
       "  </thead>\n",
       "  <tbody>\n",
       "  </tbody>\n",
       "</table>\n",
       "</div>"
      ],
      "text/plain": [
       "Empty DataFrame\n",
       "Columns: [Rut Titular, Id Account Paciente, Rut, Id Convenio Empresa, Id EmpresaContactoConvenio]\n",
       "Index: []"
      ]
     },
     "execution_count": 527,
     "metadata": {},
     "output_type": "execute_result"
    }
   ],
   "source": [
    "empresacontactoconvenio = empresacontactoconvenio.rename(\n",
    "    columns={\n",
    "        \"Id\": \"Id EmpresaContactoConvenio\",\n",
    "        \"Paciente__r.IdentificationId__pc\": \"Rut\",\n",
    "        \"Empresa__c\": \"Id Convenio Empresa\",\n",
    "        \"Paciente__c\": \"Id Account Paciente\",\n",
    "        \"N_Documento_Titular__c\":\"Rut Titular\"\n",
    "    }\n",
    ")\n",
    "empresacontactoconvenio.head()"
   ]
  },
  {
   "cell_type": "code",
   "execution_count": null,
   "metadata": {
    "notebookRunGroups": {
     "groupValue": "2"
    }
   },
   "outputs": [
    {
     "name": "stderr",
     "output_type": "stream",
     "text": [
      "C:\\Users\\jmartinez\\AppData\\Local\\Temp\\ipykernel_24540\\2534521553.py:5: FutureWarning: The default value of regex will change from True to False in a future version. In addition, single character regular expressions will *not* be treated as literal strings when regex=True.\n",
      "  empresacontactoconvenio[\"Rut\"] = empresacontactoconvenio[\"Rut\"].str.replace(\".\", \"\")\n"
     ]
    },
    {
     "data": {
      "text/plain": [
       "(0, 5)"
      ]
     },
     "execution_count": 528,
     "metadata": {},
     "output_type": "execute_result"
    }
   ],
   "source": [
    "empresacontactoconvenio[\"Rut\"] = empresacontactoconvenio[\"Rut\"].astype(str)\n",
    "empresacontactoconvenio[\"Rut\"] = empresacontactoconvenio[\"Rut\"].str.replace(\"-\", \"\")\n",
    "empresacontactoconvenio[\"Rut\"] = empresacontactoconvenio[\"Rut\"].str.replace(\"–\", \"\")\n",
    "empresacontactoconvenio[\"Rut\"] = empresacontactoconvenio[\"Rut\"].astype(str)\n",
    "empresacontactoconvenio[\"Rut\"] = empresacontactoconvenio[\"Rut\"].str.replace(\".\", \"\")\n",
    "empresacontactoconvenio[\"Rut\"] = empresacontactoconvenio[\"Rut\"].str.upper()\n",
    "empresacontactoconvenio[\"Rut\"] = empresacontactoconvenio[\"Rut\"].str.strip()\n",
    "empresacontactoconvenio.shape"
   ]
  },
  {
   "cell_type": "code",
   "execution_count": null,
   "metadata": {
    "notebookRunGroups": {
     "groupValue": "2"
    }
   },
   "outputs": [
    {
     "data": {
      "text/html": [
       "<div>\n",
       "<style scoped>\n",
       "    .dataframe tbody tr th:only-of-type {\n",
       "        vertical-align: middle;\n",
       "    }\n",
       "\n",
       "    .dataframe tbody tr th {\n",
       "        vertical-align: top;\n",
       "    }\n",
       "\n",
       "    .dataframe thead th {\n",
       "        text-align: right;\n",
       "    }\n",
       "</style>\n",
       "<table border=\"1\" class=\"dataframe\">\n",
       "  <thead>\n",
       "    <tr style=\"text-align: right;\">\n",
       "      <th></th>\n",
       "      <th>Rut Titular</th>\n",
       "      <th>Rut_x</th>\n",
       "      <th>Id Convenio Empresa</th>\n",
       "      <th>Id EmpresaContactoConvenio</th>\n",
       "      <th>Rut_y</th>\n",
       "      <th>Id Account Paciente</th>\n",
       "      <th>Id Contacto</th>\n",
       "    </tr>\n",
       "  </thead>\n",
       "  <tbody>\n",
       "  </tbody>\n",
       "</table>\n",
       "</div>"
      ],
      "text/plain": [
       "Empty DataFrame\n",
       "Columns: [Rut Titular, Rut_x, Id Convenio Empresa, Id EmpresaContactoConvenio, Rut_y, Id Account Paciente, Id Contacto]\n",
       "Index: []"
      ]
     },
     "execution_count": 529,
     "metadata": {},
     "output_type": "execute_result"
    }
   ],
   "source": [
    "empresacontactoconvenio_PacientesSF = pd.merge(\n",
    "    left=empresacontactoconvenio,\n",
    "    right=Pacientes_IDrut,\n",
    "    how=\"left\",\n",
    "    left_on=\"Id Account Paciente\",\n",
    "    right_on=\"Id Account Paciente\",\n",
    ")\n",
    "empresacontactoconvenio_PacientesSF.head()"
   ]
  },
  {
   "cell_type": "code",
   "execution_count": null,
   "metadata": {},
   "outputs": [],
   "source": [
    "\"\"\" if(campaña!=\"MetLife\"):\n",
    "    pacientePrograma.to_excel(\"F:/Empresas SF/reportes/paciente_programas.xlsx\", index=False) \"\"\""
   ]
  },
  {
   "cell_type": "markdown",
   "metadata": {},
   "source": [
    "Rescatamos todos los ruts Id con su empresa desde la campaña"
   ]
  },
  {
   "cell_type": "code",
   "execution_count": null,
   "metadata": {
    "notebookRunGroups": {
     "groupValue": "2"
    }
   },
   "outputs": [
    {
     "data": {
      "text/html": [
       "<div>\n",
       "<style scoped>\n",
       "    .dataframe tbody tr th:only-of-type {\n",
       "        vertical-align: middle;\n",
       "    }\n",
       "\n",
       "    .dataframe tbody tr th {\n",
       "        vertical-align: top;\n",
       "    }\n",
       "\n",
       "    .dataframe thead th {\n",
       "        text-align: right;\n",
       "    }\n",
       "</style>\n",
       "<table border=\"1\" class=\"dataframe\">\n",
       "  <thead>\n",
       "    <tr style=\"text-align: right;\">\n",
       "      <th></th>\n",
       "      <th>rut2</th>\n",
       "      <th>DV Titular</th>\n",
       "      <th>rut1</th>\n",
       "      <th>DV B.</th>\n",
       "      <th>Tipo Carga</th>\n",
       "      <th>nombres</th>\n",
       "      <th>Apellido P.</th>\n",
       "      <th>Apellido M.</th>\n",
       "      <th>apellidos</th>\n",
       "      <th>Relación</th>\n",
       "      <th>sexo</th>\n",
       "      <th>nacimiento</th>\n",
       "      <th>poliza</th>\n",
       "      <th>rut</th>\n",
       "      <th>rutT</th>\n",
       "    </tr>\n",
       "  </thead>\n",
       "  <tbody>\n",
       "    <tr>\n",
       "      <th>0</th>\n",
       "      <td>15028744-8</td>\n",
       "      <td>8</td>\n",
       "      <td>15028744-8</td>\n",
       "      <td>8</td>\n",
       "      <td>AFILIADO</td>\n",
       "      <td>Daliborr</td>\n",
       "      <td>CHAVEZ</td>\n",
       "      <td>OSSANDON</td>\n",
       "      <td>Chavez Ossandon</td>\n",
       "      <td>COTIZANTE</td>\n",
       "      <td>M</td>\n",
       "      <td>1985-08-25</td>\n",
       "      <td>1</td>\n",
       "      <td>150287448</td>\n",
       "      <td>150287448</td>\n",
       "    </tr>\n",
       "    <tr>\n",
       "      <th>1</th>\n",
       "      <td>3884613-2</td>\n",
       "      <td>2</td>\n",
       "      <td>3884613-2</td>\n",
       "      <td>2</td>\n",
       "      <td>AFILIADO</td>\n",
       "      <td>Eliana</td>\n",
       "      <td>AENISHANSLIN</td>\n",
       "      <td>PAVEZ</td>\n",
       "      <td>Aenishanslin Pavez</td>\n",
       "      <td>COTIZANTE</td>\n",
       "      <td>F</td>\n",
       "      <td>1937-12-23</td>\n",
       "      <td>1</td>\n",
       "      <td>38846132</td>\n",
       "      <td>38846132</td>\n",
       "    </tr>\n",
       "    <tr>\n",
       "      <th>2</th>\n",
       "      <td>8254856-4</td>\n",
       "      <td>4</td>\n",
       "      <td>8254856-4</td>\n",
       "      <td>4</td>\n",
       "      <td>AFILIADO</td>\n",
       "      <td>Lissette</td>\n",
       "      <td>PAREDES</td>\n",
       "      <td>LUNA</td>\n",
       "      <td>Paredes Luna</td>\n",
       "      <td>COTIZANTE</td>\n",
       "      <td>F</td>\n",
       "      <td>1962-06-13</td>\n",
       "      <td>1</td>\n",
       "      <td>82548564</td>\n",
       "      <td>82548564</td>\n",
       "    </tr>\n",
       "    <tr>\n",
       "      <th>3</th>\n",
       "      <td>2638598-9</td>\n",
       "      <td>9</td>\n",
       "      <td>2638598-9</td>\n",
       "      <td>9</td>\n",
       "      <td>AFILIADO</td>\n",
       "      <td>Carlos</td>\n",
       "      <td>BOETSCH</td>\n",
       "      <td>FORNES</td>\n",
       "      <td>Boetsch Fornes</td>\n",
       "      <td>COTIZANTE</td>\n",
       "      <td>M</td>\n",
       "      <td>1933-10-17</td>\n",
       "      <td>1</td>\n",
       "      <td>26385989</td>\n",
       "      <td>26385989</td>\n",
       "    </tr>\n",
       "    <tr>\n",
       "      <th>4</th>\n",
       "      <td>2638598-9</td>\n",
       "      <td>9</td>\n",
       "      <td>4351475-K</td>\n",
       "      <td>K</td>\n",
       "      <td>CARGA</td>\n",
       "      <td>Lucia Marina</td>\n",
       "      <td>RILEY</td>\n",
       "      <td>GOMEZ</td>\n",
       "      <td>Riley Gomez</td>\n",
       "      <td>CONYUGE</td>\n",
       "      <td>F</td>\n",
       "      <td>1941-07-13</td>\n",
       "      <td>1</td>\n",
       "      <td>4351475K</td>\n",
       "      <td>26385989</td>\n",
       "    </tr>\n",
       "  </tbody>\n",
       "</table>\n",
       "</div>"
      ],
      "text/plain": [
       "         rut2 DV Titular        rut1 DV B. Tipo Carga       nombres  \\\n",
       "0  15028744-8          8  15028744-8     8   AFILIADO      Daliborr   \n",
       "1   3884613-2          2   3884613-2     2   AFILIADO        Eliana   \n",
       "2   8254856-4          4   8254856-4     4   AFILIADO      Lissette   \n",
       "3   2638598-9          9   2638598-9     9   AFILIADO        Carlos   \n",
       "4   2638598-9          9   4351475-K     K      CARGA  Lucia Marina   \n",
       "\n",
       "    Apellido P. Apellido M.           apellidos   Relación sexo nacimiento  \\\n",
       "0        CHAVEZ    OSSANDON     Chavez Ossandon  COTIZANTE    M 1985-08-25   \n",
       "1  AENISHANSLIN       PAVEZ  Aenishanslin Pavez  COTIZANTE    F 1937-12-23   \n",
       "2       PAREDES        LUNA        Paredes Luna  COTIZANTE    F 1962-06-13   \n",
       "3       BOETSCH      FORNES      Boetsch Fornes  COTIZANTE    M 1933-10-17   \n",
       "4         RILEY       GOMEZ         Riley Gomez    CONYUGE    F 1941-07-13   \n",
       "\n",
       "  poliza        rut       rutT  \n",
       "0      1  150287448  150287448  \n",
       "1      1   38846132   38846132  \n",
       "2      1   82548564   82548564  \n",
       "3      1   26385989   26385989  \n",
       "4      1   4351475K   26385989  "
      ]
     },
     "execution_count": 530,
     "metadata": {},
     "output_type": "execute_result"
    }
   ],
   "source": [
    "Pacientes_Archivo.head()"
   ]
  },
  {
   "cell_type": "markdown",
   "metadata": {},
   "source": [
    "Pacientes_con_id.to_excel(\"F:/Empresas SF/reportes/id.xlsx\", index=False)"
   ]
  },
  {
   "cell_type": "markdown",
   "metadata": {},
   "source": [
    "Pacientes_Archivo.drop_duplicates(\n",
    "    [\n",
    "        \"rut\",\n",
    "        \"rutT\",\n",
    "        \"LLaveEmpresa\",\n",
    "        \"LLAveRut\",\n",
    "    ],\n",
    "    keep=\"last\",\n",
    ")\n",
    "Pacientes_Archivo.shape"
   ]
  },
  {
   "cell_type": "code",
   "execution_count": null,
   "metadata": {
    "notebookRunGroups": {
     "groupValue": "2"
    }
   },
   "outputs": [
    {
     "name": "stdout",
     "output_type": "stream",
     "text": [
      "Colmena\n"
     ]
    }
   ],
   "source": [
    "print(campaña)"
   ]
  },
  {
   "cell_type": "code",
   "execution_count": null,
   "metadata": {
    "notebookRunGroups": {
     "groupValue": "2"
    }
   },
   "outputs": [],
   "source": [
    "Pacientes_Archivo[\"RutEstaoNo\"] = Pacientes_Archivo[\"rut\"].isin(Pacientes_SF[\"Rut\"])"
   ]
  },
  {
   "attachments": {},
   "cell_type": "markdown",
   "metadata": {},
   "source": []
  },
  {
   "cell_type": "code",
   "execution_count": null,
   "metadata": {},
   "outputs": [],
   "source": [
    "#Pacientes_Archivo.to_excel(\"F:/Empresas SF/reportes/Pacientes_Archivo.xlsx\", index=False)"
   ]
  },
  {
   "cell_type": "code",
   "execution_count": null,
   "metadata": {
    "notebookRunGroups": {
     "groupValue": "2"
    }
   },
   "outputs": [
    {
     "data": {
      "text/plain": [
       "(733, 26)"
      ]
     },
     "execution_count": 533,
     "metadata": {},
     "output_type": "execute_result"
    }
   ],
   "source": [
    "# aca a los pacientes del archivo se les asigna sus datos en SF\n",
    "Pacientes_con_id = pd.merge(\n",
    "    left=Pacientes_Archivo,\n",
    "    right=Pacientes_SF,\n",
    "    how=\"left\",\n",
    "    left_on=\"rut\",\n",
    "    right_on=\"Rut\",\n",
    ")\n",
    "#Pacientes_con_id.to_excel(\"F:/Empresas SF/reportes/Pacientes_con_id.xlsx\", index=False)\n",
    "Pacientes_con_id.shape"
   ]
  },
  {
   "cell_type": "code",
   "execution_count": null,
   "metadata": {
    "notebookRunGroups": {
     "groupValue": "2"
    }
   },
   "outputs": [
    {
     "data": {
      "text/html": [
       "<div>\n",
       "<style scoped>\n",
       "    .dataframe tbody tr th:only-of-type {\n",
       "        vertical-align: middle;\n",
       "    }\n",
       "\n",
       "    .dataframe tbody tr th {\n",
       "        vertical-align: top;\n",
       "    }\n",
       "\n",
       "    .dataframe thead th {\n",
       "        text-align: right;\n",
       "    }\n",
       "</style>\n",
       "<table border=\"1\" class=\"dataframe\">\n",
       "  <thead>\n",
       "    <tr style=\"text-align: right;\">\n",
       "      <th></th>\n",
       "      <th>rut2</th>\n",
       "      <th>DV Titular</th>\n",
       "      <th>rut1</th>\n",
       "      <th>DV B.</th>\n",
       "      <th>Tipo Carga</th>\n",
       "      <th>nombres</th>\n",
       "      <th>Apellido P.</th>\n",
       "      <th>Apellido M.</th>\n",
       "      <th>apellidos</th>\n",
       "      <th>Relación</th>\n",
       "      <th>...</th>\n",
       "      <th>Id Account Paciente</th>\n",
       "      <th>Rut</th>\n",
       "      <th>Nombre</th>\n",
       "      <th>Tipo de Documento</th>\n",
       "      <th>Ocupacion</th>\n",
       "      <th>Cargo</th>\n",
       "      <th>Departamento</th>\n",
       "      <th>Sexo</th>\n",
       "      <th>Telefono</th>\n",
       "      <th>Id Contacto</th>\n",
       "    </tr>\n",
       "  </thead>\n",
       "  <tbody>\n",
       "    <tr>\n",
       "      <th>0</th>\n",
       "      <td>15028744-8</td>\n",
       "      <td>8</td>\n",
       "      <td>15028744-8</td>\n",
       "      <td>8</td>\n",
       "      <td>AFILIADO</td>\n",
       "      <td>Daliborr</td>\n",
       "      <td>CHAVEZ</td>\n",
       "      <td>OSSANDON</td>\n",
       "      <td>Chavez Ossandon</td>\n",
       "      <td>COTIZANTE</td>\n",
       "      <td>...</td>\n",
       "      <td>0018c00002cVB0qAAG</td>\n",
       "      <td>150287448</td>\n",
       "      <td>Chavez Ossandon Daliborr Fernando</td>\n",
       "      <td>RUT</td>\n",
       "      <td>None</td>\n",
       "      <td>None</td>\n",
       "      <td>None</td>\n",
       "      <td>Hombre</td>\n",
       "      <td>None</td>\n",
       "      <td>0038c000036jJS0AAM</td>\n",
       "    </tr>\n",
       "    <tr>\n",
       "      <th>1</th>\n",
       "      <td>3884613-2</td>\n",
       "      <td>2</td>\n",
       "      <td>3884613-2</td>\n",
       "      <td>2</td>\n",
       "      <td>AFILIADO</td>\n",
       "      <td>Eliana</td>\n",
       "      <td>AENISHANSLIN</td>\n",
       "      <td>PAVEZ</td>\n",
       "      <td>Aenishanslin Pavez</td>\n",
       "      <td>COTIZANTE</td>\n",
       "      <td>...</td>\n",
       "      <td>001RN000001hzfgYAA</td>\n",
       "      <td>38846132</td>\n",
       "      <td>Eliana Aenishanslin Pavez</td>\n",
       "      <td>RUT</td>\n",
       "      <td>None</td>\n",
       "      <td>None</td>\n",
       "      <td>None</td>\n",
       "      <td>Mujer</td>\n",
       "      <td>None</td>\n",
       "      <td>003RN000003O3CrYAK</td>\n",
       "    </tr>\n",
       "    <tr>\n",
       "      <th>2</th>\n",
       "      <td>8254856-4</td>\n",
       "      <td>4</td>\n",
       "      <td>8254856-4</td>\n",
       "      <td>4</td>\n",
       "      <td>AFILIADO</td>\n",
       "      <td>Lissette</td>\n",
       "      <td>PAREDES</td>\n",
       "      <td>LUNA</td>\n",
       "      <td>Paredes Luna</td>\n",
       "      <td>COTIZANTE</td>\n",
       "      <td>...</td>\n",
       "      <td>001RN000002b983YAA</td>\n",
       "      <td>82548564</td>\n",
       "      <td>Lissette Paredes Luna</td>\n",
       "      <td>RUT</td>\n",
       "      <td>None</td>\n",
       "      <td>None</td>\n",
       "      <td>None</td>\n",
       "      <td>Mujer</td>\n",
       "      <td>None</td>\n",
       "      <td>003RN000005k36UYAQ</td>\n",
       "    </tr>\n",
       "    <tr>\n",
       "      <th>3</th>\n",
       "      <td>2638598-9</td>\n",
       "      <td>9</td>\n",
       "      <td>2638598-9</td>\n",
       "      <td>9</td>\n",
       "      <td>AFILIADO</td>\n",
       "      <td>Carlos</td>\n",
       "      <td>BOETSCH</td>\n",
       "      <td>FORNES</td>\n",
       "      <td>Boetsch Fornes</td>\n",
       "      <td>COTIZANTE</td>\n",
       "      <td>...</td>\n",
       "      <td>0018c00002mVtIhAAK</td>\n",
       "      <td>26385989</td>\n",
       "      <td>Carlos Boetsch Fornes</td>\n",
       "      <td>RUT</td>\n",
       "      <td>None</td>\n",
       "      <td>None</td>\n",
       "      <td>None</td>\n",
       "      <td>Hombre</td>\n",
       "      <td>None</td>\n",
       "      <td>0038c00003Jlg8HAAR</td>\n",
       "    </tr>\n",
       "    <tr>\n",
       "      <th>4</th>\n",
       "      <td>2638598-9</td>\n",
       "      <td>9</td>\n",
       "      <td>4351475-K</td>\n",
       "      <td>K</td>\n",
       "      <td>CARGA</td>\n",
       "      <td>Lucia Marina</td>\n",
       "      <td>RILEY</td>\n",
       "      <td>GOMEZ</td>\n",
       "      <td>Riley Gomez</td>\n",
       "      <td>CONYUGE</td>\n",
       "      <td>...</td>\n",
       "      <td>0018c00002mVtIiAAK</td>\n",
       "      <td>4351475K</td>\n",
       "      <td>Lucia Marina Riley Gomez</td>\n",
       "      <td>RUT</td>\n",
       "      <td>None</td>\n",
       "      <td>None</td>\n",
       "      <td>None</td>\n",
       "      <td>Mujer</td>\n",
       "      <td>None</td>\n",
       "      <td>0038c00003Jlg8IAAR</td>\n",
       "    </tr>\n",
       "  </tbody>\n",
       "</table>\n",
       "<p>5 rows × 26 columns</p>\n",
       "</div>"
      ],
      "text/plain": [
       "         rut2 DV Titular        rut1 DV B. Tipo Carga       nombres  \\\n",
       "0  15028744-8          8  15028744-8     8   AFILIADO      Daliborr   \n",
       "1   3884613-2          2   3884613-2     2   AFILIADO        Eliana   \n",
       "2   8254856-4          4   8254856-4     4   AFILIADO      Lissette   \n",
       "3   2638598-9          9   2638598-9     9   AFILIADO        Carlos   \n",
       "4   2638598-9          9   4351475-K     K      CARGA  Lucia Marina   \n",
       "\n",
       "    Apellido P. Apellido M.           apellidos   Relación  ...  \\\n",
       "0        CHAVEZ    OSSANDON     Chavez Ossandon  COTIZANTE  ...   \n",
       "1  AENISHANSLIN       PAVEZ  Aenishanslin Pavez  COTIZANTE  ...   \n",
       "2       PAREDES        LUNA        Paredes Luna  COTIZANTE  ...   \n",
       "3       BOETSCH      FORNES      Boetsch Fornes  COTIZANTE  ...   \n",
       "4         RILEY       GOMEZ         Riley Gomez    CONYUGE  ...   \n",
       "\n",
       "  Id Account Paciente        Rut                             Nombre  \\\n",
       "0  0018c00002cVB0qAAG  150287448  Chavez Ossandon Daliborr Fernando   \n",
       "1  001RN000001hzfgYAA   38846132          Eliana Aenishanslin Pavez   \n",
       "2  001RN000002b983YAA   82548564              Lissette Paredes Luna   \n",
       "3  0018c00002mVtIhAAK   26385989              Carlos Boetsch Fornes   \n",
       "4  0018c00002mVtIiAAK   4351475K           Lucia Marina Riley Gomez   \n",
       "\n",
       "  Tipo de Documento Ocupacion  Cargo Departamento    Sexo Telefono  \\\n",
       "0               RUT      None   None         None  Hombre     None   \n",
       "1               RUT      None   None         None   Mujer     None   \n",
       "2               RUT      None   None         None   Mujer     None   \n",
       "3               RUT      None   None         None  Hombre     None   \n",
       "4               RUT      None   None         None   Mujer     None   \n",
       "\n",
       "          Id Contacto  \n",
       "0  0038c000036jJS0AAM  \n",
       "1  003RN000003O3CrYAK  \n",
       "2  003RN000005k36UYAQ  \n",
       "3  0038c00003Jlg8HAAR  \n",
       "4  0038c00003Jlg8IAAR  \n",
       "\n",
       "[5 rows x 26 columns]"
      ]
     },
     "execution_count": 534,
     "metadata": {},
     "output_type": "execute_result"
    }
   ],
   "source": [
    "Pacientes_con_id.head()"
   ]
  },
  {
   "cell_type": "code",
   "execution_count": null,
   "metadata": {},
   "outputs": [],
   "source": [
    "#Pacientes_con_id.to_excel(\"F:/Empresas SF/reportes/id.xlsx\", index=False)"
   ]
  },
  {
   "cell_type": "code",
   "execution_count": null,
   "metadata": {
    "notebookRunGroups": {
     "groupValue": "2"
    }
   },
   "outputs": [],
   "source": [
    "regex = re.compile(r\"([A-Za-z0-9]+[.-_])*[A-Za-z0-9]+@[A-Za-z0-9-]+(\\.[A-Z|a-z]{2,})+\")\n",
    "\n",
    "\n",
    "def isValid(email):\n",
    "    if re.fullmatch(regex, email):        \n",
    "        return email        \n",
    "    else:        \n",
    "        return \"\"\n",
    "    \n",
    "\n"
   ]
  },
  {
   "cell_type": "code",
   "execution_count": null,
   "metadata": {
    "notebookRunGroups": {
     "groupValue": "2"
    }
   },
   "outputs": [
    {
     "data": {
      "text/html": [
       "<div>\n",
       "<style scoped>\n",
       "    .dataframe tbody tr th:only-of-type {\n",
       "        vertical-align: middle;\n",
       "    }\n",
       "\n",
       "    .dataframe tbody tr th {\n",
       "        vertical-align: top;\n",
       "    }\n",
       "\n",
       "    .dataframe thead th {\n",
       "        text-align: right;\n",
       "    }\n",
       "</style>\n",
       "<table border=\"1\" class=\"dataframe\">\n",
       "  <thead>\n",
       "    <tr style=\"text-align: right;\">\n",
       "      <th></th>\n",
       "      <th>RutEstaoNo</th>\n",
       "      <th>FirstName</th>\n",
       "      <th>LastName</th>\n",
       "      <th>IdentificationId__pc</th>\n",
       "      <th>PersonBirthdate</th>\n",
       "      <th>HealthCloudGA__Gender__pc</th>\n",
       "      <th>RecordTypeId</th>\n",
       "      <th>Cuenta_validada__c</th>\n",
       "      <th>BillingCountry</th>\n",
       "      <th>Identification_Type__c</th>\n",
       "      <th>Pa_s_del_Paciente__c</th>\n",
       "    </tr>\n",
       "  </thead>\n",
       "  <tbody>\n",
       "  </tbody>\n",
       "</table>\n",
       "</div>"
      ],
      "text/plain": [
       "Empty DataFrame\n",
       "Columns: [RutEstaoNo, FirstName, LastName, IdentificationId__pc, PersonBirthdate, HealthCloudGA__Gender__pc, RecordTypeId, Cuenta_validada__c, BillingCountry, Identification_Type__c, Pa_s_del_Paciente__c]\n",
       "Index: []"
      ]
     },
     "execution_count": 536,
     "metadata": {},
     "output_type": "execute_result"
    }
   ],
   "source": [
    "# Final_pacientes_y_empresa = Pacientes_con_ID\n",
    "Subir_pacientes = pd.DataFrame()\n",
    "#Subir_pacientes[\"Email_Seteado__c\"] = \"\"\n",
    "Subir_pacientes[\"RutEstaoNo\"] = Pacientes_con_id[\"RutEstaoNo\"]\n",
    "# agrupar = empresasqfaltan[empresasqfaltan['si']==False]\n",
    "\n",
    "\n",
    "if (\"nombres\" in Pacientes_con_id.columns) == True:\n",
    "    Subir_pacientes[\"FirstName\"] = Pacientes_con_id[\"nombres\"]\n",
    "if (\"apellidos\" in Pacientes_con_id.columns) == True:\n",
    "    Subir_pacientes[\"LastName\"] = Pacientes_con_id[\"apellidos\"]\n",
    "if (\"rut\" in Pacientes_con_id.columns) == True:\n",
    "    Subir_pacientes[\"IdentificationId__pc\"] = (\n",
    "        Pacientes_con_id[\"rut\"].astype(str).str.upper()\n",
    "    )\n",
    "\n",
    "\n",
    "if (\"email\" in Pacientes_con_id.columns) == True:\n",
    "    # Pacientes_con_id[\"email\"] = Pacientes_con_id[\"email\"].astype(str).str.lower().replace(\"nan\",\"\")\n",
    "    Subir_pacientes[\"PersonEmail\"] = Pacientes_con_id[\"email\"].astype(str).str.lower()\n",
    "    Subir_pacientes[\"PersonEmail\"] = Subir_pacientes[\"PersonEmail\"].apply(\n",
    "        lambda y: isValid(y)\n",
    "    )\n",
    "    Subir_pacientes[\"Email_Seteado__c\"] = np.where(\n",
    "        Subir_pacientes[\"PersonEmail\"] != \"\", \"True\", \"False\"\n",
    "    )\n",
    "\n",
    "    # Subir_pacientes[\"PersonEmail\"] = Subir_pacientes[\"PersonEmail\"].str.replace(\"no informado\", \"\")\n",
    "if (\"nacimiento\" in Pacientes_con_id.columns) == True:\n",
    "    Subir_pacientes[\"PersonBirthdate\"] = pd.to_datetime(Pacientes_con_id[\"nacimiento\"],format=\"%Y-%m-%d\")\n",
    "\n",
    "if (\"sexo\" in Pacientes_con_id.columns) == True:\n",
    "    Sexo = {\n",
    "        \"H\": \"Hombre\",\n",
    "        \"m\": \"Hombre\",\n",
    "        \"Masculino\": \"Hombre\",\n",
    "        \"Femenino\": \"Mujer\",\n",
    "        \"\": \"Prefiero no responder\",\n",
    "        \"HOMBRE\": \"Hombre\",\n",
    "        \"MUJER\": \"Mujer\",\n",
    "        \"F\": \"Mujer\",\n",
    "        \"O\": \"Prefiero no responder\",\n",
    "        \"Ambos\": \"Prefiero no responder\",\n",
    "        \"N\": \"Prefiero no responder\",\n",
    "        \"Otro\": \"Prefiero no responder\",\n",
    "        \"n\": \"Prefiero no responder\",\n",
    "        \"N\": \"Prefiero no responder\",\n",
    "        \"FEMENINO\": \"Mujer\",\n",
    "        \"f\": \"Mujer\",\n",
    "        \"MASCULINO\": \"Hombre\",\n",
    "        \"m\": \"Hombre\",\n",
    "        \"M \": \"Hombre\",\n",
    "        \"M\": \"Hombre\",\n",
    "        \"F \": \"Mujer\",\n",
    "        \"Varón\": \"Hombre\",\n",
    "        \"varon\": \"Hombre\",\n",
    "    }\n",
    "    Pacientes_con_id.replace({\"sexo\": Sexo}, inplace=True)\n",
    "    Subir_pacientes[\"HealthCloudGA__Gender__pc\"] = Pacientes_con_id[\"sexo\"]\n",
    "if (\"direccion\" in Pacientes_con_id.columns) == True:\n",
    "    Subir_pacientes[\"BillingStreet\"] = (\n",
    "        Pacientes_con_id[\"direccion\"].str.lower().replace(\"nan\", \"\")\n",
    "    )\n",
    "    # Subir_pacientes[\"BillingStreet\"] = Final_pacientes_y_empresa[\"direccion\"]\n",
    "if (\"comuna\" in Pacientes_con_id.columns) == True:\n",
    "    # Subir_pacientes[\"BillingState\"] = Final_pacientes_y_empresa[\"comuna\"]\n",
    "    Subir_pacientes[\"BillingState\"] = (\n",
    "        Pacientes_con_id[\"comuna\"].str.title().replace(\"NaN\", \"\")\n",
    "    )\n",
    "    # Subir_pacientes[\"BillingState\"] = Final_pacientes_y_empresa[\"comuna\"]\n",
    "if (\"ciudad\" in Pacientes_con_id.columns) == True:\n",
    "    # Subir_pacientes[\"BillingCity\"] = Final_pacientes_y_empresa[\"ciudad\"]\n",
    "    Subir_pacientes[\"BillingCity\"] = (\n",
    "        Pacientes_con_id[\"ciudad\"].str.title().replace(\"NaN\", \"\")\n",
    "    )\n",
    "\n",
    "if (\"cargo\" in Pacientes_con_id.columns) == True:\n",
    "    Subir_pacientes[\"PersonTitle\"] = Pacientes_con_id[\"cargo\"].str.title()\n",
    "\n",
    "if (\"division\" in Pacientes_con_id.columns) == True:\n",
    "    Subir_pacientes[\"PersonDepartment\"] = Pacientes_con_id[\"division\"].str.title()\n",
    "\n",
    "if (\"celular\" in Pacientes_con_id.columns) == True:\n",
    "    Subir_pacientes[\"Phone\"] = (\n",
    "        Pacientes_con_id[\"celular\"].apply(str).str.strip().replace(\"+\", \"\")\n",
    "    )\n",
    "    Subir_pacientes[\"Phone\"] = Subir_pacientes[\"Phone\"].str.replace(\"NaN\", \"\")\n",
    "    Subir_pacientes[\"Phone\"] = Subir_pacientes[\"Phone\"].str.replace(\".\", \"\")\n",
    "    Subir_pacientes[\"Phone\"] = Subir_pacientes[\"Phone\"].str.replace(\"Nan\", \"\")\n",
    "    Subir_pacientes[\"Phone\"] = Subir_pacientes[\"Phone\"].str.replace(\"-\", \"\")\n",
    "    Subir_pacientes[\"Phone\"] = Subir_pacientes[\"Phone\"].str.replace(\"0\", \"\")\n",
    "    Subir_pacientes[\"Phone\"] = Subir_pacientes[\"Phone\"].str.replace(\"No Informado\", \"\")\n",
    "    Subir_pacientes[\"Phone\"] = Subir_pacientes[\"Phone\"].str.replace(\"_\", \"\")\n",
    "    Subir_pacientes[\"Phone\"] = Subir_pacientes[\"Phone\"].str.replace(\"/\", \"\")\n",
    "    Subir_pacientes[\"Phone\"] = Subir_pacientes[\"Phone\"].str.replace(\"+\", \"\")\n",
    "    Subir_pacientes[\"Phone\"] = Subir_pacientes[\"Phone\"].str.replace(\"nan\", \"\")\n",
    "    Subir_pacientes[\"Phone\"] = Subir_pacientes[\"Phone\"].str.replace(\"null\", \"\")\n",
    "    Subir_pacientes[\"Phone\"] = Subir_pacientes[\"Phone\"].str.replace(\"NULL\", \"\")\n",
    "\n",
    "\n",
    "Subir_pacientes[\"RecordTypeId\"] = \"0128c000002Byp4AAC\"\n",
    "Subir_pacientes[\"Cuenta_validada__c\"] = \"True\"\n",
    "\n",
    "\n",
    "if Pais == \"Chile\":\n",
    "    Subir_pacientes[\"BillingCountry\"] = \"Chile\"\n",
    "    Subir_pacientes[\"Identification_Type__c\"] = \"RUT\"\n",
    "    Subir_pacientes[\"Pa_s_del_Paciente__c\"] = \"a1U8c000005dAtnEAE\"\n",
    "else:\n",
    "    Subir_pacientes[\"BillingCountry\"] = \"México\"\n",
    "    Subir_pacientes[\"Identification_Type__c\"] = \"RUT\"\n",
    "    Subir_pacientes[\"Pa_s_del_Paciente__c\"] = \"a1U8c000005dAtsEAE\"\n",
    "    \n",
    "Subir_pacientes_Que_no_Estan =Subir_pacientes\n",
    "Subir_pacientes_Estan = Subir_pacientes[Subir_pacientes[\"RutEstaoNo\"] == True]\n",
    "Subir_pacientes = Subir_pacientes[Subir_pacientes[\"RutEstaoNo\"] == False]\n",
    "\n",
    "\n",
    "\n",
    "# Subir_pacientes.PersonEmail = Subir_pacientes.PersonEmail.fillna('')\n",
    "Subir_pacientes.to_excel(\"F:/Empresas SF/reportes/Pacientes_Que_No_Estaban.xlsx\", index=False)\n",
    "Subir_pacientes.head()"
   ]
  },
  {
   "cell_type": "code",
   "execution_count": null,
   "metadata": {
    "notebookRunGroups": {
     "groupValue": "2"
    }
   },
   "outputs": [],
   "source": [
    "def traerId(rut):\n",
    "    if len(rut) >= 8:\n",
    "        busquedaDatos = \"FIND {\" + rut + \"} RETURNING Account(Id,IdentificationId__pc)\"\n",
    "        derty = dict(sf.search(busquedaDatos))\n",
    "        if derty[\"searchRecords\"] != []:\n",
    "            if derty[\"searchRecords\"][0][\"attributes\"][\"type\"] == \"Account\":\n",
    "                jote = derty[\"searchRecords\"][0][\"Id\"]\n",
    "                dertyd = derty[\"searchRecords\"][0][\"IdentificationId__pc\"]\n",
    "                print(jote + \" \" + dertyd)\n",
    "                return jote\n",
    "            else:\n",
    "                print(\"no\")\n",
    "        else:\n",
    "            print(\"vacio\")\n",
    "    else:\n",
    "        return \"None\"\n",
    "    \n",
    "def traerContact(ide):\n",
    "    if(len(ide)>=12):\n",
    "        idcontact = sf.Account.get(ide)\n",
    "        return idcontact[\"PersonContactId\"]\n",
    "    else:\n",
    "        return \"NONES\"\n",
    "    \n",
    "\n",
    "def agregarPaciente(listado):\n",
    "    vListado = listado.split(\",\")\n",
    "    derty = dict(\n",
    "        sf.Account.create(\n",
    "            # derty = sf.Account.create(\n",
    "            {\n",
    "                \"FirstName\": vListado[0],\n",
    "                \"LastName\": vListado[1],\n",
    "                \"IdentificationId__pc\": vListado[2],\n",
    "                \"RecordTypeId\": vListado[3],\n",
    "                \"BillingCountry\": vListado[4],\n",
    "                \"Identification_Type__c\": vListado[5],\n",
    "                \"Pa_s_del_Paciente__c\": vListado[6],\n",
    "                \"Cuenta_validada__c\": True,\n",
    "                \"PersonEmail\": vListado[8],\n",
    "                \"PersonBirthdate\": pd.to_datetime(vListado[9]).isoformat() + 'Z',\n",
    "                \"HealthCloudGA__Gender__pc\": vListado[10],\n",
    "                \"Phone\": vListado[11],\n",
    "                \"BillingCity\": vListado[12],\n",
    "                \"BillingState\": vListado[13],\n",
    "                \"BillingStreet\": vListado[14],\n",
    "                \"Email_Seteado__c\": bool(vListado[15]),\n",
    "            }\n",
    "        )\n",
    "    )\n",
    "    return derty[\"id\"]"
   ]
  },
  {
   "cell_type": "code",
   "execution_count": null,
   "metadata": {
    "notebookRunGroups": {
     "groupValue": "2"
    }
   },
   "outputs": [
    {
     "data": {
      "text/html": [
       "<div>\n",
       "<style scoped>\n",
       "    .dataframe tbody tr th:only-of-type {\n",
       "        vertical-align: middle;\n",
       "    }\n",
       "\n",
       "    .dataframe tbody tr th {\n",
       "        vertical-align: top;\n",
       "    }\n",
       "\n",
       "    .dataframe thead th {\n",
       "        text-align: right;\n",
       "    }\n",
       "</style>\n",
       "<table border=\"1\" class=\"dataframe\">\n",
       "  <thead>\n",
       "    <tr style=\"text-align: right;\">\n",
       "      <th></th>\n",
       "      <th>RutEstaoNo</th>\n",
       "      <th>FirstName</th>\n",
       "      <th>LastName</th>\n",
       "      <th>IdentificationId__pc</th>\n",
       "      <th>PersonBirthdate</th>\n",
       "      <th>HealthCloudGA__Gender__pc</th>\n",
       "      <th>RecordTypeId</th>\n",
       "      <th>Cuenta_validada__c</th>\n",
       "      <th>BillingCountry</th>\n",
       "      <th>Identification_Type__c</th>\n",
       "      <th>Pa_s_del_Paciente__c</th>\n",
       "    </tr>\n",
       "  </thead>\n",
       "  <tbody>\n",
       "  </tbody>\n",
       "</table>\n",
       "</div>"
      ],
      "text/plain": [
       "Empty DataFrame\n",
       "Columns: [RutEstaoNo, FirstName, LastName, IdentificationId__pc, PersonBirthdate, HealthCloudGA__Gender__pc, RecordTypeId, Cuenta_validada__c, BillingCountry, Identification_Type__c, Pa_s_del_Paciente__c]\n",
       "Index: []"
      ]
     },
     "execution_count": 538,
     "metadata": {},
     "output_type": "execute_result"
    }
   ],
   "source": [
    "Subir_pacientes.head()"
   ]
  },
  {
   "cell_type": "code",
   "execution_count": null,
   "metadata": {
    "notebookRunGroups": {
     "groupValue": "2"
    }
   },
   "outputs": [
    {
     "data": {
      "text/plain": [
       "(0, 12)"
      ]
     },
     "execution_count": 539,
     "metadata": {},
     "output_type": "execute_result"
    }
   ],
   "source": [
    "\n",
    "Subir_pacientes.drop_duplicates(\n",
    "    [\n",
    "        \"IdentificationId__pc\",\n",
    "        \n",
    "    ],\n",
    "    keep=\"last\",\n",
    ")\n",
    "\n",
    "Subir_pacientes[\"Id\"] = Subir_pacientes[\"IdentificationId__pc\"].apply(\n",
    "    lambda y: traerId(y)\n",
    ")\n",
    "\n",
    "Subir_pacientes.shape"
   ]
  },
  {
   "cell_type": "code",
   "execution_count": null,
   "metadata": {
    "notebookRunGroups": {
     "groupValue": "2"
    }
   },
   "outputs": [],
   "source": [
    "Subir_pacientes = Subir_pacientes[Subir_pacientes[\"Id\"].str.len() == 15]"
   ]
  },
  {
   "cell_type": "code",
   "execution_count": null,
   "metadata": {},
   "outputs": [],
   "source": [
    "#Subir_pacientes[\"dato_account\"].head()"
   ]
  },
  {
   "cell_type": "code",
   "execution_count": null,
   "metadata": {},
   "outputs": [],
   "source": [
    "#Subir_pacientes.to_excel(\"F:/Empresas SF/reportes/Todesffff.xlsx\", index=False)\n"
   ]
  },
  {
   "cell_type": "code",
   "execution_count": null,
   "metadata": {
    "notebookRunGroups": {
     "groupValue": "2"
    }
   },
   "outputs": [
    {
     "data": {
      "text/plain": [
       "' Subir_pacientes[\"Contact_creado\"] = Subir_pacientes[\"dato_account\"].apply(\\n    lambda x: agregarPaciente(x)\\n) '"
      ]
     },
     "execution_count": 541,
     "metadata": {},
     "output_type": "execute_result"
    }
   ],
   "source": [
    "Subir_pacientes[\"dato_account\"] = \"\"\n",
    "if (\"FirstName\" in Subir_pacientes.columns) == True:\n",
    "    Subir_pacientes[\"dato_account\"] = Subir_pacientes[\"dato_account\"] + Subir_pacientes[\"FirstName\"].astype(str)\n",
    "if (\"LastName\" in Subir_pacientes.columns) == True:\n",
    "    Subir_pacientes[\"dato_account\"] = Subir_pacientes[\"dato_account\"] + \",\" + Subir_pacientes[\"LastName\"].astype(str)\n",
    "if (\"IdentificationId__pc\" in Subir_pacientes.columns) == True:\n",
    "    Subir_pacientes[\"dato_account\"] = Subir_pacientes[\"dato_account\"] + \",\" + Subir_pacientes[\"IdentificationId__pc\"].astype(str)\n",
    "if (\"RecordTypeId\" in Subir_pacientes.columns) == True:\n",
    "    Subir_pacientes[\"dato_account\"] = Subir_pacientes[\"dato_account\"] + \",\" + Subir_pacientes[\"RecordTypeId\"].astype(str)\n",
    "if (\"BillingCountry\" in Subir_pacientes.columns) == True:\n",
    "    Subir_pacientes[\"dato_account\"] = Subir_pacientes[\"dato_account\"] + \",\" + Subir_pacientes[\"BillingCountry\"].astype(str)\n",
    "if (\"Identification_Type__c\" in Subir_pacientes.columns) == True:\n",
    "    Subir_pacientes[\"dato_account\"] = Subir_pacientes[\"dato_account\"] + \",\" + Subir_pacientes[\"Identification_Type__c\"].astype(str)\n",
    "if (\"Pa_s_del_Paciente__c\" in Subir_pacientes.columns) == True:\n",
    "    Subir_pacientes[\"dato_account\"] = Subir_pacientes[\"dato_account\"] + \",\" + Subir_pacientes[\"Pa_s_del_Paciente__c\"].astype(str)\n",
    "if (\"Cuenta_validada__c\" in Subir_pacientes.columns) == True:\n",
    "    Subir_pacientes[\"dato_account\"] = Subir_pacientes[\"dato_account\"] + \",\" + Subir_pacientes[\"Cuenta_validada__c\"].astype(str)\n",
    "\n",
    "if (\"PersonEmail\" in Subir_pacientes.columns) == True:\n",
    "    Subir_pacientes[\"dato_account\"] = Subir_pacientes[\"dato_account\"] + \",\" + Subir_pacientes[\"PersonEmail\"].astype(str)\n",
    "else:\n",
    "    Subir_pacientes[\"dato_account\"] = Subir_pacientes[\"dato_account\"] + \",\" \n",
    "    \n",
    "if (\"PersonBirthdate\" in Subir_pacientes.columns) == True:\n",
    "    Subir_pacientes[\"dato_account\"] = Subir_pacientes[\"dato_account\"] + \",\" + Subir_pacientes[\"PersonBirthdate\"].astype(str) + \" 00:00:00\"\n",
    "else:\n",
    "    Subir_pacientes[\"dato_account\"] = Subir_pacientes[\"dato_account\"] + \",\"      \n",
    "if (\"HealthCloudGA__Gender__pc\" in Subir_pacientes.columns) == True:\n",
    "    Subir_pacientes[\"dato_account\"] = Subir_pacientes[\"dato_account\"] + \",\" + Subir_pacientes[\"HealthCloudGA__Gender__pc\"].astype(str)\n",
    "else:\n",
    "    Subir_pacientes[\"dato_account\"] = Subir_pacientes[\"dato_account\"] + \",\"  \n",
    "if (\"Phone\" in Subir_pacientes.columns) == True:\n",
    "    Subir_pacientes[\"dato_account\"] = Subir_pacientes[\"dato_account\"] + \",\" + Subir_pacientes[\"Phone\"].astype(str)\n",
    "else:\n",
    "    Subir_pacientes[\"dato_account\"] = Subir_pacientes[\"dato_account\"] + \",\"   \n",
    "if (\"BillingCity\" in Subir_pacientes.columns) == True:\n",
    "    Subir_pacientes[\"dato_account\"] = Subir_pacientes[\"dato_account\"] + \",\" + Subir_pacientes[\"BillingCity\"].astype(str)\n",
    "else:\n",
    "    Subir_pacientes[\"dato_account\"] = Subir_pacientes[\"dato_account\"] + \",\"  \n",
    "if (\"BillingState\" in Subir_pacientes.columns) == True:\n",
    "    Subir_pacientes[\"dato_account\"] = Subir_pacientes[\"dato_account\"] + \",\" + Subir_pacientes[\"BillingState\"].astype(str)\n",
    "else:\n",
    "    Subir_pacientes[\"dato_account\"] = Subir_pacientes[\"dato_account\"] + \",\"  \n",
    "if (\"BillingStreet\" in Subir_pacientes.columns) == True:\n",
    "    Subir_pacientes[\"dato_account\"] = Subir_pacientes[\"dato_account\"] + \",\" + Subir_pacientes[\"BillingStreet\"].astype(str) \n",
    "else:\n",
    "    Subir_pacientes[\"dato_account\"] = Subir_pacientes[\"dato_account\"] + \",\" \n",
    "if (\"PersonEmail\" in Subir_pacientes.columns) == True:\n",
    "    Subir_pacientes[\"dato_account\"] = Subir_pacientes[\"dato_account\"] + \",\" + Subir_pacientes[\"Email_Seteado__c\"].astype(str)\n",
    "else:\n",
    "    Subir_pacientes[\"dato_account\"] = Subir_pacientes[\"dato_account\"] + \",\"  \n",
    "\n",
    "#Subir_pacientes[\"dato_account\"] =  Subir_pacientes[\"dato_account\"] =\n",
    "\n",
    "Subir_pacientes[\"Id_creado\"] = Subir_pacientes[\"dato_account\"].apply(\n",
    "    lambda x: agregarPaciente(x)\n",
    ")\n",
    "\"\"\" Subir_pacientes[\"Contact_creado\"] = Subir_pacientes[\"dato_account\"].apply(\n",
    "    lambda x: agregarPaciente(x)\n",
    ") \"\"\"\n",
    "\n"
   ]
  },
  {
   "cell_type": "code",
   "execution_count": null,
   "metadata": {},
   "outputs": [
    {
     "name": "stderr",
     "output_type": "stream",
     "text": [
      "C:\\Users\\jmartinez\\AppData\\Local\\Temp\\ipykernel_24540\\717638050.py:61: SettingWithCopyWarning: \n",
      "A value is trying to be set on a copy of a slice from a DataFrame.\n",
      "Try using .loc[row_indexer,col_indexer] = value instead\n",
      "\n",
      "See the caveats in the documentation: https://pandas.pydata.org/pandas-docs/stable/user_guide/indexing.html#returning-a-view-versus-a-copy\n",
      "  Subir_programas_empresa[\"Paciente__c\"] = Subir_programas_empresa[\"Id Account Paciente\"]\n",
      "C:\\Users\\jmartinez\\AppData\\Local\\Temp\\ipykernel_24540\\717638050.py:62: SettingWithCopyWarning: \n",
      "A value is trying to be set on a copy of a slice from a DataFrame.\n",
      "Try using .loc[row_indexer,col_indexer] = value instead\n",
      "\n",
      "See the caveats in the documentation: https://pandas.pydata.org/pandas-docs/stable/user_guide/indexing.html#returning-a-view-versus-a-copy\n",
      "  Subir_programas_empresa[\"Programas_por_Empresas__c\"] = VpacientePrograma\n",
      "C:\\Users\\jmartinez\\AppData\\Local\\Temp\\ipykernel_24540\\717638050.py:82: SettingWithCopyWarning: \n",
      "A value is trying to be set on a copy of a slice from a DataFrame.\n",
      "Try using .loc[row_indexer,col_indexer] = value instead\n",
      "\n",
      "See the caveats in the documentation: https://pandas.pydata.org/pandas-docs/stable/user_guide/indexing.html#returning-a-view-versus-a-copy\n",
      "  Subir_AccountContact[\"ContactId\"] = Subir_AccountContact[\"Id Contacto\"]\n",
      "C:\\Users\\jmartinez\\AppData\\Local\\Temp\\ipykernel_24540\\717638050.py:83: SettingWithCopyWarning: \n",
      "A value is trying to be set on a copy of a slice from a DataFrame.\n",
      "Try using .loc[row_indexer,col_indexer] = value instead\n",
      "\n",
      "See the caveats in the documentation: https://pandas.pydata.org/pandas-docs/stable/user_guide/indexing.html#returning-a-view-versus-a-copy\n",
      "  Subir_AccountContact[\"AccountId\"] = VempresaaAccount\n"
     ]
    }
   ],
   "source": [
    "Pacientes_con_id_no = Pacientes_con_id[Pacientes_con_id[\"RutEstaoNo\"] == False]\n",
    "Pacientes_con_id_no[\"Id Account Paciente\"] = Pacientes_con_id_no[\"rut\"].apply(\n",
    "    lambda y: traerId(y)\n",
    ")\n",
    "Pacientes_con_id_no[\"Id Contacto\"] = Pacientes_con_id_no[\"Id Account Paciente\"].apply(\n",
    "    lambda y: traerContact(y)\n",
    ")\n",
    "Pacientes_con_id_no.to_excel(\n",
    "    \"F:/Empresas SF/reportes/Pacientes_con_id_no.xlsx\", index=False\n",
    ")\n",
    "\n",
    "Pacientes_con_id_si = Pacientes_con_id[Pacientes_con_id[\"RutEstaoNo\"] == True]\n",
    "Pacientes_con_id_si.to_excel(\n",
    "    \"F:/Empresas SF/reportes/Pacientes_con_id_si.xlsx\", index=False\n",
    ")\n",
    "\n",
    "Pacientes_con_id_final = pd.concat(\n",
    "    [\n",
    "        Pacientes_con_id_si,\n",
    "        Pacientes_con_id_no,\n",
    "    ],\n",
    "    axis=0,\n",
    ")\n",
    "\n",
    "Pacientes_con_id_final.to_excel(\n",
    "    \"F:/Empresas SF/reportes/Pacientes_con_id_final.xlsx\", index=False\n",
    ")\n",
    "\n",
    "if campaña == \"Southbridge Plan Mujer\":\n",
    "    VpacientePrograma = \"a1WRN0000007YwD2AU\"\n",
    "    VempresaaAccount = \"001RN000003rwVaYAI\"\n",
    "    VempresaConvenio = \"a3yRN0000006sVTYAY\"\n",
    "elif campaña == \"Southbridge\":\n",
    "    VpacientePrograma = \"a1W8c0000083pM9EAI\"\n",
    "    VempresaaAccount = \"0018c00002f3Ev2AAE\"\n",
    "    VempresaConvenio = \"a3yRN0000006sqYYAQ\"\n",
    "elif campaña == \"Construmart\":\n",
    "    VpacientePrograma = \"a1W8c0000083q9TEAQ\"\n",
    "    VempresaaAccount = \"0018c00002ghJgBAAU\"\n",
    "    VempresaConvenio = \"a3yRN0000006rlZYAQ\"\n",
    "elif campaña == \"EY\":\n",
    "    VpacientePrograma = \"a1W8c0000083laZEAQ\"\n",
    "    VempresaaAccount = \"0018c00002eTboVAAS\"\n",
    "    VempresaConvenio = \"a3yRN0000006rsTYAQ\"\n",
    "elif campaña == \"Colmena\":\n",
    "    VpacientePrograma = \"a1W8c0000083j8rEAA\"\n",
    "    VempresaaAccount = \"0018c00002cXclQAAS\"\n",
    "    VempresaConvenio = \"a3yRN0000006rf5YAA\" \n",
    "elif campaña == \"Pedro De Valdivia\":\n",
    "    VpacientePrograma = \"a1W8c0000083iWiEAI\"\n",
    "    VempresaaAccount = \"0018c00002cXJTsAAO\"\n",
    "    VempresaConvenio = \"a3yRN0000006sVzYAI\" \n",
    "else:\n",
    "    VpacientePrograma = \"Buscarv\"\n",
    "    VempresaaAccount = \"Buscarv\"\n",
    "    VempresaConvenio = \"Buscarv\"\n",
    "\n",
    "\n",
    "Pacientes_con_id_final[\"esonoes\"] = Pacientes_con_id_final[\"rut\"].isin(\n",
    "    PacientesProgramas_PacientesSF[\"Rut_y\"]\n",
    ")\n",
    "Subir_programas_empresa = Pacientes_con_id_final[\n",
    "    Pacientes_con_id_final[\"esonoes\"] == False\n",
    "]\n",
    "Subir_programas_empresa[\"Paciente__c\"] = Subir_programas_empresa[\"Id Account Paciente\"]\n",
    "Subir_programas_empresa[\"Programas_por_Empresas__c\"] = VpacientePrograma\n",
    "Subir_programas_empresa = Subir_programas_empresa[\n",
    "    [\n",
    "        # \"empresa\",\n",
    "        \"poliza\",\n",
    "        \"Paciente__c\",\n",
    "        \"Programas_por_Empresas__c\",\n",
    "    ]\n",
    "]\n",
    "Subir_programas_empresa.to_excel(\n",
    "    \"F:/Empresas SF/reportes/programas_empresa.xlsx\", index=False\n",
    ")\n",
    "\n",
    "\n",
    "Pacientes_con_id_final[\"esonoes1\"] = Pacientes_con_id_final[\"rut\"].isin(\n",
    "    AccountContact_PacientesSF[\"Rut_y\"]\n",
    ")\n",
    "Subir_AccountContact = Pacientes_con_id_final[\n",
    "    Pacientes_con_id_final[\"esonoes1\"] == False\n",
    "]\n",
    "Subir_AccountContact[\"ContactId\"] = Subir_AccountContact[\"Id Contacto\"]\n",
    "Subir_AccountContact[\"AccountId\"] = VempresaaAccount\n",
    "\n",
    "Subir_AccountContact = Subir_AccountContact[\n",
    "    [\n",
    "        # \"empresa\",\n",
    "        \"poliza\",\n",
    "        \"ContactId\",\n",
    "        \"AccountId\",\n",
    "    ]\n",
    "]\n",
    "Subir_AccountContact.to_excel(\n",
    "    \"F:/Empresas SF/reportes/account_Contact.xlsx\", index=False\n",
    ")\n",
    "\n",
    "\n",
    "Pacientes_con_id_final[\"esonoes2\"] = Pacientes_con_id_final[\"rut\"].isin(\n",
    "    empresacontactoconvenio_PacientesSF[\"Rut_y\"]\n",
    ")\n",
    "Subir_empresacontactoconvenio = Pacientes_con_id_final[\n",
    "    Pacientes_con_id_final[\"esonoes2\"] == False\n",
    "]\n",
    "Subir_empresacontactoconvenio[\"Paciente__c\"] = Subir_empresacontactoconvenio[\n",
    "    \"Id Account Paciente\"\n",
    "]\n",
    "Subir_empresacontactoconvenio[\"N_Documento_Titular__c\"] = Subir_empresacontactoconvenio[\n",
    "    \"rutT\"\n",
    "]\n",
    "Subir_empresacontactoconvenio[\"Empresa__c\"] = VempresaConvenio\n",
    "\n",
    "Subir_empresacontactoconvenio = Subir_empresacontactoconvenio[\n",
    "    [\n",
    "        # \"empresa\",\n",
    "        \"poliza\",\n",
    "        \"Paciente__c\",\n",
    "        \"N_Documento_Titular__c\",\n",
    "        \"Empresa__c\",\n",
    "    ]\n",
    "]\n",
    "Subir_empresacontactoconvenio.to_excel(\n",
    "    \"F:/Empresas SF/reportes/empresacontactoconvenio.xlsx\", index=False\n",
    ")"
   ]
  },
  {
   "cell_type": "code",
   "execution_count": null,
   "metadata": {},
   "outputs": [],
   "source": [
    "Pacientes_con_id_no.head()"
   ]
  },
  {
   "cell_type": "code",
   "execution_count": null,
   "metadata": {},
   "outputs": [],
   "source": [
    "contactd = sf.Account.get('0018c00002lUyo0AAC')\n",
    "contactd[\"PersonContactId\"]\n"
   ]
  },
  {
   "cell_type": "code",
   "execution_count": null,
   "metadata": {},
   "outputs": [],
   "source": [
    "#contactd[\"PersonContactId\"]\n",
    "print (datetime.now())"
   ]
  },
  {
   "cell_type": "code",
   "execution_count": null,
   "metadata": {},
   "outputs": [],
   "source": [
    "Subir_pacientes.to_excel(\"F:/Empresas SF/reportes/todes.xlsx\", index=False)"
   ]
  },
  {
   "cell_type": "markdown",
   "metadata": {},
   "source": [
    "query2 = \"select P_liza__c, Nombre_de_Empresa__c, Rut_Empresa__c, Empresa_Padre__r.Name, Empresa__r.name,Holding__c, Plan__c, Pais__c, Activo__c, Id from Datos_Empresa__c \"\n",
    "\n",
    "df2 = sf.smart_query(query2)\n",
    "df2.to_excel(\"F:/Empresas SF/reportes/empresas_nuevas.xlsx\", index=False)\n",
    "df2.head()"
   ]
  },
  {
   "cell_type": "markdown",
   "metadata": {},
   "source": [
    "Subir_pacientes.to_excel(\"F:/Empresas SF/reportes/111account.xlsx\", index=False)"
   ]
  },
  {
   "cell_type": "markdown",
   "metadata": {},
   "source": [
    "derty = Subir_pacientes[\"IdentificationId__pc\"]\n",
    "sf.Contact.create({\"IdentificationId__pc\": \"derty\", \"Email\": \"example@example.com\"})"
   ]
  },
  {
   "cell_type": "markdown",
   "metadata": {},
   "source": [
    "Subir_pacientes.head()"
   ]
  },
  {
   "cell_type": "markdown",
   "metadata": {},
   "source": [
    "Subir_pacientes.head()\n",
    "Subir_pacientes.to_excel(\"F:/Empresas SF/reportes/account__l.xlsx\", index=False)"
   ]
  },
  {
   "cell_type": "code",
   "execution_count": null,
   "metadata": {},
   "outputs": [],
   "source": [
    "\"\"\" if campaña != \"MetLife\":\n",
    "    pacientes_en_campaña = pd.merge(\n",
    "        left=campaña_seleccionada,\n",
    "        right=Pacientes_con_id,\n",
    "        how=\"left\",\n",
    "        left_on=\"Id Account\",\n",
    "        right_on=\"Id Account Paciente\",\n",
    "    )\n",
    "    pacientes_en_campaña[\"Paciente__c\"] = \"Id Pacientes\"\n",
    "    pacientes_en_campaña[\"Programas_por_Empresas__c\"] = \"Id Programas Por empresa\"\n",
    "    pacientes_en_campaña.to_excel(\n",
    "        \"F:/Empresas SF/reportes/campaña_empresa.xlsx\", index=False\n",
    "    )\n",
    "    campaña_en_pacientes = pd.merge(\n",
    "        left=Pacientes_con_id,\n",
    "        right=campaña_seleccionada,\n",
    "        how=\"left\",\n",
    "        left_on=\"Id Account Paciente\",\n",
    "        right_on=\"Id Account\",\n",
    "    )\n",
    "    campaña_en_pacientes.to_excel(\n",
    "        \"F:/Empresas SF/reportes/archivo_campaña.xlsx\", index=False\n",
    "    )\n",
    " \"\"\""
   ]
  },
  {
   "cell_type": "code",
   "execution_count": null,
   "metadata": {},
   "outputs": [],
   "source": [
    "\"\"\" if campaña != \"MetLife1\":\n",
    "    campaña_en_pacientes = pd.merge(\n",
    "        left=Pacientes_con_id,\n",
    "        right=campaña_seleccionada,\n",
    "        how=\"left\",\n",
    "        left_on=\"Id Account Paciente\",\n",
    "        right_on=\"Id Account\",\n",
    "    )\n",
    "    if (\"poliza\" in campaña_en_pacientes.columns) == True:\n",
    "        campaña_en_pacientes[\"poliza\"] = campaña_en_pacientes[\"poliza\"].astype(str)\n",
    "\n",
    "    campaña_en_pacientes = campaña_en_pacientes.rename(\n",
    "        columns={\"Programas_por_Empresas__c\": \"programas por empresa\"}\n",
    "    )\n",
    "    campaña_en_pacientes[\"Paciente__c\"] = campaña_en_pacientes[\"Id Account Paciente\"]\n",
    "    campaña_en_pacientes[\"Programas_por_Empresas__c\"] = campaña_en_pacientes[\n",
    "        \"programas por empresa\"\n",
    "    ]\n",
    "    campaña_en_pacientes.to_excel(\n",
    "        \"F:/Empresas SF/reportes/archivo_campaña2.xlsx\", index=False\n",
    "    ) \"\"\""
   ]
  },
  {
   "cell_type": "code",
   "execution_count": null,
   "metadata": {},
   "outputs": [],
   "source": [
    "# apprix_1 = Pacientes_SF.iloc[:790552,:]\n",
    "# apprix_2 = Pacientes_SF.iloc[790553:,:]\n",
    "# apprix_1.to_excel(\"F:/Empresas SF/reportes/Ruts1.xlsx\",index=False)\n",
    "# apprix_2.to_excel(\"F:/Empresas SF/reportes/Ruts2.xlsx\",index=False)"
   ]
  },
  {
   "cell_type": "code",
   "execution_count": null,
   "metadata": {},
   "outputs": [],
   "source": [
    "campaña_en_pacientes2 = pd.merge(\n",
    "    left=Pacientes_con_id,\n",
    "    right=campaña_seleccionada,\n",
    "    how=\"left\",\n",
    "    left_on=\"Id Account Paciente\",\n",
    "    right_on=\"Id Account\",\n",
    ")\n",
    "if (\"poliza\" in campaña_en_pacientes2.columns) == True:\n",
    "    campaña_en_pacientes2[\"poliza\"] = campaña_en_pacientes2[\"poliza\"].astype(str)\n",
    "\n",
    "campaña_en_pacientes2 = campaña_en_pacientes2.rename(\n",
    "    columns={\"Programas_por_Empresas__c\": \"programas por empresa\"}\n",
    ")\n",
    "campaña_en_pacientes2[\"Paciente__c\"] = campaña_en_pacientes2[\"Id Account Paciente\"]\n",
    "campaña_en_pacientes2[\"Programas_por_Empresas__c\"] = campaña_en_pacientes2[\n",
    "    \"programas por empresa\"\n",
    "]\n",
    "\n",
    "\n",
    "\"\"\" campaña_en_pacientes2 = campaña_en_pacientes2[\n",
    "    (campaña_en_pacientes2[\"Programas_por_Empresas__c\"] == \"\")] \"\"\"\n",
    "campaña_en_pacientes2[\"Esta\"] = campaña_en_pacientes2[\"programas por empresa\"].isnull()\n",
    "campaña_en_pacientes2 = campaña_en_pacientes2[campaña_en_pacientes2[\"Esta\"]]\n",
    "campaña_en_pacientes2.to_excel(\n",
    "    \"F:/Empresas SF/reportes/archivo_campaña3.xlsx\", index=False\n",
    ")"
   ]
  },
  {
   "cell_type": "code",
   "execution_count": null,
   "metadata": {},
   "outputs": [],
   "source": [
    "campaña_en_pacientes2[\"rut\"].shape"
   ]
  },
  {
   "cell_type": "code",
   "execution_count": null,
   "metadata": {},
   "outputs": [],
   "source": [
    "# nuevosrutes = \"F:/Empresas SF/reportes/rut.xlsx\"\n",
    "# campaña = \"BCI Seguros Colectivos\"\n",
    "# Pais = \"Chile\"\n",
    "# Pais = \"México\"\n",
    "\n",
    "# rutes = pd.read_excel(nuevosrutes)\n",
    "rutes = pd.DataFrame(columns=[\"rut\"])\n",
    "rutes[\"rut\"] = Pacientes_Archivo[\"rut\"]\n",
    "rutes[\"rutT\"] = Pacientes_Archivo[\"rut2\"]\n",
    "rutes[\"Contratante\"] = Pacientes_Archivo[\"Contratante\"]\n",
    "# rutes[\"poliza\"] = Pacientes_Archivo[\"poliza\"]\n",
    "rutes.head()"
   ]
  },
  {
   "cell_type": "code",
   "execution_count": null,
   "metadata": {},
   "outputs": [],
   "source": [
    "rutes[\"rut\"] = rutes[\"rut\"].astype(str)\n",
    "rutes[\"rut\"] = rutes[\"rut\"].str.replace(\".\", \"\")\n",
    "rutes[\"rut\"] = rutes[\"rut\"].str.replace(\"-\", \"\")\n",
    "# aca se trabaja con el nuevo rut desde rut1 ojooooooo\n",
    "rutes[\"rut\"] = rutes[\"rut\"].str.upper()\n",
    "rutes[\"rut\"] = rutes[\"rut\"].str.strip()\n",
    "\n",
    "rutes[\"rutT\"] = rutes[\"rutT\"].astype(str)\n",
    "rutes[\"rutT\"] = rutes[\"rutT\"].str.replace(\".\", \"\")\n",
    "rutes[\"rutT\"] = rutes[\"rutT\"].str.replace(\"-\", \"\")\n",
    "# aca se trabaja con el nuevo rut desde rut1 ojooooooo\n",
    "rutes[\"rutT\"] = rutes[\"rutT\"].str.upper()\n",
    "rutes[\"rutT\"] = rutes[\"rutT\"].str.strip()\n",
    "\n",
    "\"\"\" rutes[\"poliza\"] = rutes[\"poliza\"].astype(str)\n",
    "rutes[\"poliza\"] = rutes[\"poliza\"].str.replace(\".\", \"\")\n",
    "rutes[\"poliza\"] = rutes[\"poliza\"].str.replace(\"-\", \"\")\n",
    "# aca se trabaja con el nuevo rut desde rut1 ojooooooo\n",
    "rutes[\"poliza\"] = rutes[\"poliza\"].str.strip() \"\"\"\n",
    "\n",
    "\n",
    "rutes.head()"
   ]
  },
  {
   "cell_type": "code",
   "execution_count": null,
   "metadata": {},
   "outputs": [],
   "source": [
    "# derty = rutes.to_numpy().transpose().tolist()\n",
    "\n",
    "\n",
    "Pacientes_SF2 = Pacientes_SF[[\"Rut\", \"Id Account Paciente\"]]"
   ]
  },
  {
   "cell_type": "code",
   "execution_count": null,
   "metadata": {},
   "outputs": [],
   "source": [
    "rutesi = pd.merge(\n",
    "    left=rutes,\n",
    "    right=Pacientes_SF2,\n",
    "    how=\"left\",\n",
    "    left_on=\"rut\",\n",
    "    right_on=\"Rut\",\n",
    ")\n",
    "rutesi.shape\n",
    "rutesi.to_excel(\"F:/Empresas SF/reportes/rutsyempresa.xlsx\", index=False)"
   ]
  },
  {
   "cell_type": "code",
   "execution_count": null,
   "metadata": {},
   "outputs": [],
   "source": [
    "rutesi.head()"
   ]
  },
  {
   "cell_type": "code",
   "execution_count": null,
   "metadata": {},
   "outputs": [],
   "source": [
    "rutesi_antg = pd.merge(\n",
    "    left=rutesi,\n",
    "    right=empresas_unidas,\n",
    "    how=\"left\",\n",
    "    left_on=\"Id Account Paciente\",\n",
    "    right_on=\"Id Account\",\n",
    ")"
   ]
  },
  {
   "cell_type": "code",
   "execution_count": null,
   "metadata": {},
   "outputs": [],
   "source": [
    "rutesi_antg.head()"
   ]
  },
  {
   "cell_type": "code",
   "execution_count": null,
   "metadata": {},
   "outputs": [],
   "source": [
    "# rutesi_antg .to_excel(\"F:/Empresas SF/reportes/ruts_empresas_antiguos.xlsx\", index=False)"
   ]
  },
  {
   "cell_type": "code",
   "execution_count": null,
   "metadata": {},
   "outputs": [],
   "source": [
    "import json\n",
    "import pandas as pd\n",
    "from simple_salesforce import Salesforce, format_soql, format_external_id\n",
    "from json import loads, dumps\n",
    "import simpler_sf\n",
    "\n",
    "simpler_sf.simple_salesforce()"
   ]
  },
  {
   "cell_type": "code",
   "execution_count": null,
   "metadata": {},
   "outputs": [],
   "source": [
    "with open(\"login.json\", \"r\") as j:\n",
    "    misDatos = json.load(j)\n",
    "sf = Salesforce(\n",
    "    username=misDatos[\"username\"],\n",
    "    password=misDatos[\"password\"],\n",
    "    security_token=misDatos[\"security_token\"],\n",
    ")"
   ]
  },
  {
   "cell_type": "code",
   "execution_count": null,
   "metadata": {},
   "outputs": [],
   "source": [
    "\"\"\" query = \"select Id, Account.Name, RutContact__c from AccountContactRelation \"\n",
    "\n",
    "df1 = sf.smart_query(query) \"\"\""
   ]
  },
  {
   "cell_type": "code",
   "execution_count": null,
   "metadata": {},
   "outputs": [],
   "source": [
    "# nuevosrutes = \"F:/Empresas SF/reportes/rut.xlsx\"\n",
    "# campaña = \"BCI Seguros Colectivos\"\n",
    "# Pais = \"Chile\"\n",
    "# Pais = \"México\"\n",
    "\n",
    "# rutes = pd.read_excel(nuevosrutes)\n",
    "# rutes = Subir_pacientes[\"rut\"]"
   ]
  },
  {
   "cell_type": "code",
   "execution_count": null,
   "metadata": {},
   "outputs": [],
   "source": [
    "\"\"\" df1.head() \"\"\""
   ]
  },
  {
   "cell_type": "code",
   "execution_count": null,
   "metadata": {},
   "outputs": [],
   "source": [
    "\"\"\" df1[\"rut\"] = df1[\"RutContact__c\"].astype(str)\n",
    "df1[\"rut\"] = df1[\"rut\"].str.replace(\".\", \"\")\n",
    "df1[\"rut\"] = df1[\"rut\"].str.replace(\n",
    "    \"-\", \"\"\n",
    ")  # aca se trabaja con el nuevo rut desde rut1 ojooooooo\n",
    "df1[\"rut\"] = df1[\"rut\"].str.upper()\n",
    "df1[\"rut\"] = df1[\"rut\"].str.strip()\n",
    "df1.head() \"\"\""
   ]
  },
  {
   "cell_type": "code",
   "execution_count": null,
   "metadata": {},
   "outputs": [],
   "source": [
    "\"\"\" rutes.head() \"\"\""
   ]
  },
  {
   "cell_type": "code",
   "execution_count": null,
   "metadata": {},
   "outputs": [],
   "source": [
    "\"\"\" rutesi = pd.merge(\n",
    "    left=rutes,\n",
    "    right=df1,\n",
    "    how=\"left\",\n",
    "    left_on=\"rut\",\n",
    "    right_on=\"rut\",\n",
    ") \"\"\""
   ]
  },
  {
   "cell_type": "code",
   "execution_count": null,
   "metadata": {},
   "outputs": [],
   "source": [
    "\"\"\" rutesi.to_excel(\"F:/Empresas SF/reportes/rutesnuevos_accountcontactrelation.xlsx\", index=False) \"\"\""
   ]
  },
  {
   "cell_type": "code",
   "execution_count": null,
   "metadata": {},
   "outputs": [],
   "source": [
    "\"\"\" df2[\"P_liza__c\"] = df2[\"P_liza__c\"].astype(str)\n",
    "df2[\"P_liza__c\"] = df2[\"P_liza__c\"].str.replace(\".\", \"\")\n",
    "df2[\"P_liza__c\"] = df2[\"P_liza__c\"].str.replace(\"-\", \"\")\n",
    "# aca se trabaja con el nuevo rut desde rut1 ojooooooo\n",
    "df2[\"P_liza__c\"] = df2[\"P_liza__c\"].str.upper()\n",
    "df2[\"P_liza__c\"] = df2[\"P_liza__c\"].str.strip() \"\"\""
   ]
  },
  {
   "cell_type": "code",
   "execution_count": null,
   "metadata": {},
   "outputs": [],
   "source": [
    "modelo_nuevo = pd.merge(\n",
    "    left=rutesi,\n",
    "    right=df2,\n",
    "    how=\"left\",\n",
    "    left_on=\"poliza\",\n",
    "    right_on=\"P_liza__c\",\n",
    ")\n",
    "modelo_nuevo.to_excel(\"F:/Empresas SF/reportes/modelo_nuevo.xlsx\", index=False)"
   ]
  },
  {
   "cell_type": "code",
   "execution_count": null,
   "metadata": {},
   "outputs": [],
   "source": [
    "modelo = pd.DataFrame()\n",
    "modelo = modelo_nuevo[[\"rutT\", \"Id Account Paciente\", \"Id\"]]"
   ]
  },
  {
   "cell_type": "code",
   "execution_count": null,
   "metadata": {},
   "outputs": [],
   "source": [
    "modelo.head()"
   ]
  }
 ],
 "metadata": {
  "kernelspec": {
   "display_name": "salesforce",
   "language": "python",
   "name": "python3"
  },
  "language_info": {
   "codemirror_mode": {
    "name": "ipython",
    "version": 3
   },
   "file_extension": ".py",
   "mimetype": "text/x-python",
   "name": "python",
   "nbconvert_exporter": "python",
   "pygments_lexer": "ipython3",
   "version": "3.8.16"
  },
  "orig_nbformat": 4,
  "vscode": {
   "interpreter": {
    "hash": "7fbccfb583f385d5cd7c75cc6ade03c09354727271e9200f47ca4e7fedb5381e"
   }
  }
 },
 "nbformat": 4,
 "nbformat_minor": 2
}
