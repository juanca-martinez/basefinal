{
 "cells": [
  {
   "cell_type": "code",
   "execution_count": 465,
   "metadata": {
    "notebookRunGroups": {
     "groupValue": "1"
    }
   },
   "outputs": [],
   "source": [
    "from pathlib import Path\n",
    "import requests\n",
    "import pandas as pd\n",
    "import numpy as np\n",
    "from io import StringIO\n",
    "import shutil\n",
    "import datetime\n",
    "from datetime import datetime\n",
    "import re\n",
    "import json\n",
    "from pandas.api.types import is_numeric_dtype\n",
    "from simple_salesforce import Salesforce, format_soql, format_external_id\n",
    "import simpler_sf\n",
    "\n",
    "simpler_sf.simple_salesforce()"
   ]
  },
  {
   "cell_type": "code",
   "execution_count": 466,
   "metadata": {
    "notebookRunGroups": {
     "groupValue": "1"
    }
   },
   "outputs": [],
   "source": [
    "with open(\"login.json\", \"r\") as j:\n",
    "    misDatos = json.load(j)"
   ]
  },
  {
   "cell_type": "code",
   "execution_count": 467,
   "metadata": {
    "notebookRunGroups": {
     "groupValue": "1"
    }
   },
   "outputs": [],
   "source": [
    "# para smart query\n",
    "\"\"\" sf = simple_salesforce.Salesforce(\n",
    "    username=misDatos[\"username\"],\n",
    "    password=misDatos[\"password\"],\n",
    "    security_token=misDatos[\"security_token\"],\n",
    ")\n",
    " \"\"\"\n",
    "# para lo demas\n",
    "sf = Salesforce(\n",
    "    username=misDatos[\"username\"],\n",
    "    password=misDatos[\"password\"],\n",
    "    security_token=misDatos[\"security_token\"],\n",
    ")\n",
    "# paramiko.util.log_to_file(\"paramiko.log\")\n",
    "regex = re.compile(r\"([A-Za-z0-9]+[.-_])*[A-Za-z0-9]+@[A-Za-z0-9-]+(\\.[A-Z|a-z]{2,})+\")"
   ]
  },
  {
   "cell_type": "markdown",
   "metadata": {},
   "source": [
    "Descarga de empresas en sistema\n"
   ]
  },
  {
   "cell_type": "code",
   "execution_count": 468,
   "metadata": {
    "notebookRunGroups": {
     "groupValue": "1"
    }
   },
   "outputs": [
    {
     "name": "stderr",
     "output_type": "stream",
     "text": [
      "100%|██████████| 1/1 [00:12<00:00, 12.01s/it]\n"
     ]
    },
    {
     "data": {
      "text/html": [
       "<div>\n",
       "<style scoped>\n",
       "    .dataframe tbody tr th:only-of-type {\n",
       "        vertical-align: middle;\n",
       "    }\n",
       "\n",
       "    .dataframe tbody tr th {\n",
       "        vertical-align: top;\n",
       "    }\n",
       "\n",
       "    .dataframe thead th {\n",
       "        text-align: right;\n",
       "    }\n",
       "</style>\n",
       "<table border=\"1\" class=\"dataframe\">\n",
       "  <thead>\n",
       "    <tr style=\"text-align: right;\">\n",
       "      <th></th>\n",
       "      <th>Id</th>\n",
       "      <th>Empresa__r.Id</th>\n",
       "      <th>Empresa__r.Name</th>\n",
       "      <th>Empresa__r.Holding__c</th>\n",
       "      <th>Empresa__r.Campa_a__c</th>\n",
       "      <th>Empresa__r.Id_Empresa__c</th>\n",
       "      <th>Empresa__r.Empleador__c</th>\n",
       "      <th>Empresa__r.poliza__c</th>\n",
       "      <th>Empresa__r.RUT_Empresa__c</th>\n",
       "      <th>Empresa__r.Corredor__c</th>\n",
       "      <th>Empresa__r.Padre_Empresa__c</th>\n",
       "      <th>Name</th>\n",
       "    </tr>\n",
       "  </thead>\n",
       "  <tbody>\n",
       "    <tr>\n",
       "      <th>0</th>\n",
       "      <td>a1W8c000007c5aIEAQ</td>\n",
       "      <td>0018c00002k9KwBAAU</td>\n",
       "      <td>Aldo Conti MX</td>\n",
       "      <td>-</td>\n",
       "      <td>Aldo Conti</td>\n",
       "      <td>EMP10376</td>\n",
       "      <td>Aldo Conti MX</td>\n",
       "      <td>-</td>\n",
       "      <td>-</td>\n",
       "      <td>-</td>\n",
       "      <td>False</td>\n",
       "      <td>A-9930</td>\n",
       "    </tr>\n",
       "    <tr>\n",
       "      <th>1</th>\n",
       "      <td>a1W8c000007c669EAA</td>\n",
       "      <td>0018c00002k9yOCAAY</td>\n",
       "      <td>Caja de Compensación de Asignación Familiar de...</td>\n",
       "      <td>Itaú</td>\n",
       "      <td>Vida Security</td>\n",
       "      <td>EMP10377</td>\n",
       "      <td>Caja de Compensación de Asignación Familiar de...</td>\n",
       "      <td>283144</td>\n",
       "      <td>81826800-9</td>\n",
       "      <td>-</td>\n",
       "      <td>False</td>\n",
       "      <td>A-9931</td>\n",
       "    </tr>\n",
       "    <tr>\n",
       "      <th>2</th>\n",
       "      <td>a1W8c000007c66AEAQ</td>\n",
       "      <td>0018c00002k9yODAAY</td>\n",
       "      <td>Itaú Corpbanca</td>\n",
       "      <td>Itaú</td>\n",
       "      <td>Vida Security</td>\n",
       "      <td>EMP10378</td>\n",
       "      <td>Itaú Corpbanca</td>\n",
       "      <td>283147</td>\n",
       "      <td>97023000-9</td>\n",
       "      <td>-</td>\n",
       "      <td>False</td>\n",
       "      <td>A-9932</td>\n",
       "    </tr>\n",
       "    <tr>\n",
       "      <th>3</th>\n",
       "      <td>a1W8c000007c66BEAQ</td>\n",
       "      <td>0018c00002k9yOEAAY</td>\n",
       "      <td>Itaú Corpbanca</td>\n",
       "      <td>Itaú - sin servicio</td>\n",
       "      <td>Vida Security</td>\n",
       "      <td>EMP10379</td>\n",
       "      <td>Itaú Corpbanca</td>\n",
       "      <td>283148</td>\n",
       "      <td>-</td>\n",
       "      <td>-</td>\n",
       "      <td>False</td>\n",
       "      <td>A-9933</td>\n",
       "    </tr>\n",
       "    <tr>\n",
       "      <th>4</th>\n",
       "      <td>a1W8c000007c66CEAQ</td>\n",
       "      <td>0018c00002k9yOFAAY</td>\n",
       "      <td>Itaú Corpbanca</td>\n",
       "      <td>Itaú</td>\n",
       "      <td>Vida Security</td>\n",
       "      <td>EMP10380</td>\n",
       "      <td>Itaú Corpbanca</td>\n",
       "      <td>283149</td>\n",
       "      <td>-</td>\n",
       "      <td>-</td>\n",
       "      <td>False</td>\n",
       "      <td>A-9934</td>\n",
       "    </tr>\n",
       "  </tbody>\n",
       "</table>\n",
       "</div>"
      ],
      "text/plain": [
       "                   Id       Empresa__r.Id  \\\n",
       "0  a1W8c000007c5aIEAQ  0018c00002k9KwBAAU   \n",
       "1  a1W8c000007c669EAA  0018c00002k9yOCAAY   \n",
       "2  a1W8c000007c66AEAQ  0018c00002k9yODAAY   \n",
       "3  a1W8c000007c66BEAQ  0018c00002k9yOEAAY   \n",
       "4  a1W8c000007c66CEAQ  0018c00002k9yOFAAY   \n",
       "\n",
       "                                     Empresa__r.Name Empresa__r.Holding__c  \\\n",
       "0                                      Aldo Conti MX                     -   \n",
       "1  Caja de Compensación de Asignación Familiar de...                  Itaú   \n",
       "2                                     Itaú Corpbanca                  Itaú   \n",
       "3                                     Itaú Corpbanca   Itaú - sin servicio   \n",
       "4                                     Itaú Corpbanca                  Itaú   \n",
       "\n",
       "  Empresa__r.Campa_a__c Empresa__r.Id_Empresa__c  \\\n",
       "0            Aldo Conti                 EMP10376   \n",
       "1         Vida Security                 EMP10377   \n",
       "2         Vida Security                 EMP10378   \n",
       "3         Vida Security                 EMP10379   \n",
       "4         Vida Security                 EMP10380   \n",
       "\n",
       "                             Empresa__r.Empleador__c Empresa__r.poliza__c  \\\n",
       "0                                      Aldo Conti MX                    -   \n",
       "1  Caja de Compensación de Asignación Familiar de...               283144   \n",
       "2                                     Itaú Corpbanca               283147   \n",
       "3                                     Itaú Corpbanca               283148   \n",
       "4                                     Itaú Corpbanca               283149   \n",
       "\n",
       "  Empresa__r.RUT_Empresa__c Empresa__r.Corredor__c  \\\n",
       "0                         -                      -   \n",
       "1                81826800-9                      -   \n",
       "2                97023000-9                      -   \n",
       "3                         -                      -   \n",
       "4                         -                      -   \n",
       "\n",
       "  Empresa__r.Padre_Empresa__c    Name  \n",
       "0                       False  A-9930  \n",
       "1                       False  A-9931  \n",
       "2                       False  A-9932  \n",
       "3                       False  A-9933  \n",
       "4                       False  A-9934  "
      ]
     },
     "execution_count": 468,
     "metadata": {},
     "output_type": "execute_result"
    }
   ],
   "source": [
    "llamadaEmpresaAntiguas = \"SELECT Id,Empresa__r.Id, Empresa__r.Name, Empresa__r.Holding__c, Empresa__r.Campa_a__c, Empresa__r.Id_Empresa__c, Empresa__r.Empleador__c, Empresa__r.poliza__c, Empresa__r.RUT_Empresa__c, Empresa__r.Corredor__c,Empresa__r.Padre_Empresa__c, Name FROM Programas_por_Empresas__c WHERE Empresa__r.Padre_Empresa__c = false\"\n",
    "vllamadaEmpresa = sf.smart_query(llamadaEmpresaAntiguas)\n",
    "vllamadaEmpresa.to_excel(\"F:/Empresas SF/reportes/empresas_Antiguas.xlsx\", index=False)\n",
    "vllamadaEmpresa.head()"
   ]
  },
  {
   "cell_type": "markdown",
   "metadata": {},
   "source": [
    "vllamadaEmpresa.shape\n"
   ]
  },
  {
   "cell_type": "code",
   "execution_count": 469,
   "metadata": {
    "notebookRunGroups": {
     "groupValue": "1"
    }
   },
   "outputs": [
    {
     "data": {
      "text/plain": [
       "(8232, 8)"
      ]
     },
     "execution_count": 469,
     "metadata": {},
     "output_type": "execute_result"
    }
   ],
   "source": [
    "# Recuperar empresas ID de salesforce desde Account\n",
    "results = sf.query_all(\n",
    "    \"\"\"\n",
    "  SELECT Id, name, Holding__c ,Campa_a__c,Id_Empresa__c,Empleador__c,poliza__c,RUT_Empresa__c  FROM account where ispersonaccount = false  AND Nueva_Estructura__c = False\n",
    "    \"\"\"\n",
    ")\n",
    "Empresas_SF = pd.DataFrame(results[\"records\"])\n",
    "Empresas_SF = Empresas_SF[\n",
    "    [\n",
    "        \"Id\",\n",
    "        \"Name\",\n",
    "        \"Holding__c\",\n",
    "        \"Campa_a__c\",\n",
    "        \"Id_Empresa__c\",\n",
    "        \"Empleador__c\",\n",
    "        \"poliza__c\",\n",
    "        \"RUT_Empresa__c\",\n",
    "    ]\n",
    "]\n",
    "Empresas_SF.shape"
   ]
  },
  {
   "cell_type": "code",
   "execution_count": 470,
   "metadata": {
    "notebookRunGroups": {
     "groupValue": "1"
    }
   },
   "outputs": [
    {
     "data": {
      "text/plain": [
       "(7912, 5)"
      ]
     },
     "execution_count": 470,
     "metadata": {},
     "output_type": "execute_result"
    }
   ],
   "source": [
    "# buscar empresas desde Programas_por_Empresas__c datos de empresas\n",
    "results = sf.query_all(\n",
    "    \"\"\"\n",
    "   select Id,Empresa__c, Empresa_Padre__c,Nombre_Empresa__c, Name  from Programas_por_Empresas__c \n",
    "    \"\"\"\n",
    ")\n",
    "Programas_por_empresa_SF = pd.DataFrame(results[\"records\"])\n",
    "\n",
    "Programas_por_empresa_SF = Programas_por_empresa_SF[\n",
    "    [\"Id\", \"Empresa__c\", \"Empresa_Padre__c\", \"Nombre_Empresa__c\", \"Name\"]\n",
    "]\n",
    "Programas_por_empresa_SF.shape"
   ]
  },
  {
   "cell_type": "code",
   "execution_count": 471,
   "metadata": {
    "notebookRunGroups": {
     "groupValue": "1"
    }
   },
   "outputs": [
    {
     "data": {
      "text/plain": [
       "(8238, 10)"
      ]
     },
     "execution_count": 471,
     "metadata": {},
     "output_type": "execute_result"
    }
   ],
   "source": [
    "# Union de Programas Empresa y empresas\n",
    "Programas_empresas = pd.merge(\n",
    "    left=Empresas_SF,\n",
    "    right=Programas_por_empresa_SF,\n",
    "    how=\"left\",\n",
    "    left_on=\"Id\",\n",
    "    right_on=\"Empresa__c\",\n",
    ")\n",
    "Programas_empresas = Programas_empresas.rename(\n",
    "    columns={\n",
    "        \"Id_x\": \"Id Account Empresa\",\n",
    "        \"Name_x\": \"Nombre Empresa\",\n",
    "        \"Holding__c\": \"Holding\",\n",
    "        \"Campa_a__c\": \"Campaña\",\n",
    "        \"Empleador__c\": \"Empleador\",\n",
    "        \"poliza__c\": \"Poliza\",\n",
    "        \"RUT_Empresa__c\": \"Rut Empresa\",\n",
    "        \"Id_y\": \"Programas_por_Empresas__c\",\n",
    "        \"Id_Empresa__c\": \"Codigo EMP\",\n",
    "        \"Name_y\": \"Codigo A\",\n",
    "    }\n",
    ")\n",
    "Programas_empresas = Programas_empresas[\n",
    "    [\n",
    "        \"Id Account Empresa\",\n",
    "        \"Nombre Empresa\",\n",
    "        \"Holding\",\n",
    "        \"Campaña\",\n",
    "        \"Empleador\",\n",
    "        \"Poliza\",\n",
    "        \"Rut Empresa\",\n",
    "        \"Programas_por_Empresas__c\",\n",
    "        \"Codigo EMP\",\n",
    "        \"Codigo A\",\n",
    "    ]\n",
    "]\n",
    "\n",
    "Programas_empresas.shape"
   ]
  },
  {
   "cell_type": "code",
   "execution_count": 472,
   "metadata": {
    "notebookRunGroups": {
     "groupValue": "1"
    }
   },
   "outputs": [],
   "source": [
    "Programas_empresas.to_excel(\"F:/Empresas SF/reportes/empresas.xlsx\", index=False)"
   ]
  },
  {
   "cell_type": "code",
   "execution_count": 473,
   "metadata": {
    "notebookRunGroups": {
     "groupValue": "1"
    }
   },
   "outputs": [
    {
     "name": "stderr",
     "output_type": "stream",
     "text": [
      "100%|██████████| 1/1 [00:09<00:00,  9.33s/it]\n"
     ]
    },
    {
     "data": {
      "text/html": [
       "<div>\n",
       "<style scoped>\n",
       "    .dataframe tbody tr th:only-of-type {\n",
       "        vertical-align: middle;\n",
       "    }\n",
       "\n",
       "    .dataframe tbody tr th {\n",
       "        vertical-align: top;\n",
       "    }\n",
       "\n",
       "    .dataframe thead th {\n",
       "        text-align: right;\n",
       "    }\n",
       "</style>\n",
       "<table border=\"1\" class=\"dataframe\">\n",
       "  <thead>\n",
       "    <tr style=\"text-align: right;\">\n",
       "      <th></th>\n",
       "      <th>P_liza__c</th>\n",
       "      <th>Nombre_de_Empresa__c</th>\n",
       "      <th>Rut_Empresa__c</th>\n",
       "      <th>Empresa_Padre__r.Name</th>\n",
       "      <th>Holding__c</th>\n",
       "      <th>Plan__c</th>\n",
       "      <th>Pais__c</th>\n",
       "      <th>Activo__c</th>\n",
       "      <th>Id</th>\n",
       "      <th>LLave</th>\n",
       "      <th>dato</th>\n",
       "    </tr>\n",
       "  </thead>\n",
       "  <tbody>\n",
       "    <tr>\n",
       "      <th>0</th>\n",
       "      <td>Sin Póliza Asociada</td>\n",
       "      <td>Colaboradores Care Assistance Chile SPA</td>\n",
       "      <td>775173998</td>\n",
       "      <td>Colaboradores</td>\n",
       "      <td>Siempre Chile SPA</td>\n",
       "      <td>Plan Gold</td>\n",
       "      <td>Chile</td>\n",
       "      <td>True</td>\n",
       "      <td>a3yRN0000006mmjYAA</td>\n",
       "      <td>775173998Sin Póliza Asociada</td>\n",
       "      <td>1</td>\n",
       "    </tr>\n",
       "    <tr>\n",
       "      <th>1</th>\n",
       "      <td>-</td>\n",
       "      <td>Apunto Servicios De Alimentacion</td>\n",
       "      <td>-</td>\n",
       "      <td>Consalud</td>\n",
       "      <td>Holding Consalud</td>\n",
       "      <td>-</td>\n",
       "      <td>Chile</td>\n",
       "      <td>False</td>\n",
       "      <td>a3yRN0000006rG9YAI</td>\n",
       "      <td>-</td>\n",
       "      <td>1</td>\n",
       "    </tr>\n",
       "    <tr>\n",
       "      <th>2</th>\n",
       "      <td>-</td>\n",
       "      <td>2M Inmobiliaria Spa.</td>\n",
       "      <td>-</td>\n",
       "      <td>THB Seguros COVID</td>\n",
       "      <td>Solo Titulares</td>\n",
       "      <td>-</td>\n",
       "      <td>Chile</td>\n",
       "      <td>True</td>\n",
       "      <td>a3yRN0000006rGAYAY</td>\n",
       "      <td>-</td>\n",
       "      <td>1</td>\n",
       "    </tr>\n",
       "    <tr>\n",
       "      <th>3</th>\n",
       "      <td>-</td>\n",
       "      <td>360 Gms Capacitacion Spa.</td>\n",
       "      <td>-</td>\n",
       "      <td>THB Seguros COVID</td>\n",
       "      <td>Solo Titulares</td>\n",
       "      <td>-</td>\n",
       "      <td>Chile</td>\n",
       "      <td>True</td>\n",
       "      <td>a3yRN0000006rGBYAY</td>\n",
       "      <td>-</td>\n",
       "      <td>1</td>\n",
       "    </tr>\n",
       "    <tr>\n",
       "      <th>4</th>\n",
       "      <td>-</td>\n",
       "      <td>361 Gms Capacitacion Spa.</td>\n",
       "      <td>-</td>\n",
       "      <td>THB Seguros COVID</td>\n",
       "      <td>Solo Titulares</td>\n",
       "      <td>-</td>\n",
       "      <td>Chile</td>\n",
       "      <td>True</td>\n",
       "      <td>a3yRN0000006rGCYAY</td>\n",
       "      <td>-</td>\n",
       "      <td>1</td>\n",
       "    </tr>\n",
       "  </tbody>\n",
       "</table>\n",
       "</div>"
      ],
      "text/plain": [
       "             P_liza__c                     Nombre_de_Empresa__c  \\\n",
       "0  Sin Póliza Asociada  Colaboradores Care Assistance Chile SPA   \n",
       "1                    -         Apunto Servicios De Alimentacion   \n",
       "2                    -                     2M Inmobiliaria Spa.   \n",
       "3                    -                360 Gms Capacitacion Spa.   \n",
       "4                    -                361 Gms Capacitacion Spa.   \n",
       "\n",
       "  Rut_Empresa__c Empresa_Padre__r.Name         Holding__c    Plan__c Pais__c  \\\n",
       "0      775173998         Colaboradores  Siempre Chile SPA  Plan Gold   Chile   \n",
       "1              -              Consalud   Holding Consalud          -   Chile   \n",
       "2              -     THB Seguros COVID     Solo Titulares          -   Chile   \n",
       "3              -     THB Seguros COVID     Solo Titulares          -   Chile   \n",
       "4              -     THB Seguros COVID     Solo Titulares          -   Chile   \n",
       "\n",
       "   Activo__c                  Id                         LLave  dato  \n",
       "0       True  a3yRN0000006mmjYAA  775173998Sin Póliza Asociada     1  \n",
       "1      False  a3yRN0000006rG9YAI                             -     1  \n",
       "2       True  a3yRN0000006rGAYAY                             -     1  \n",
       "3       True  a3yRN0000006rGBYAY                             -     1  \n",
       "4       True  a3yRN0000006rGCYAY                             -     1  "
      ]
     },
     "execution_count": 473,
     "metadata": {},
     "output_type": "execute_result"
    }
   ],
   "source": [
    "query2 = \"select P_liza__c, Nombre_de_Empresa__c, Rut_Empresa__c, Empresa_Padre__r.Name, Empresa__r.name,Holding__c, Plan__c, Pais__c, Activo__c, Id from Datos_Empresa__c \"\n",
    "\n",
    "df2 = sf.smart_query(query2)\n",
    "df2[\"LLave\"] = df2[\"Rut_Empresa__c\"].str.upper().str.replace(\"-\", \"\") + df2[\"P_liza__c\"]\n",
    "df2[\"dato\"] = 1\n",
    "df2.to_excel(\"F:/Empresas SF/reportes/empresas_nuevas.xlsx\", index=False)\n",
    "df2.head()"
   ]
  },
  {
   "attachments": {},
   "cell_type": "markdown",
   "metadata": {},
   "source": [
    "fin empresas y comienzo de rescate de pacientes\n"
   ]
  },
  {
   "cell_type": "code",
   "execution_count": 474,
   "metadata": {
    "notebookRunGroups": {
     "groupValue": "1"
    }
   },
   "outputs": [
    {
     "data": {
      "text/plain": [
       "(1921697, 10)"
      ]
     },
     "execution_count": 474,
     "metadata": {},
     "output_type": "execute_result"
    }
   ],
   "source": [
    "# CArga de PAcientes\n",
    "results = sf.query_all(\n",
    "    \"\"\"\n",
    "    select Id, IdentificationId__pc,Name, Identification_Type__c, Ocupaci_n__c,  PersonTitle ,PersonDepartment,HealthCloudGA__Gender__pc,Phone,PersonContactId  from Account where ispersonaccount = True \n",
    "   \"\"\"\n",
    ")\n",
    "Pacientes_SF = pd.DataFrame(results[\"records\"])\n",
    "\n",
    "Pacientes_SF = Pacientes_SF[\n",
    "    [\n",
    "        \"Id\",\n",
    "        \"IdentificationId__pc\",\n",
    "        \"Name\",\n",
    "        \"Identification_Type__c\",\n",
    "        \"Ocupaci_n__c\",\n",
    "        \"PersonTitle\",\n",
    "        \"PersonDepartment\",\n",
    "        \"HealthCloudGA__Gender__pc\",\n",
    "        \"Phone\",\n",
    "        \"PersonContactId\",\n",
    "    ]\n",
    "]\n",
    "Pacientes_SF = Pacientes_SF.rename(\n",
    "    columns={\n",
    "        \"Id\": \"Id Account Paciente\",\n",
    "        \"IdentificationId__pc\": \"Rut\",\n",
    "        \"Name\": \"Nombre\",\n",
    "        \"Ocupaci_n__c\": \"Ocupacion\",\n",
    "        \"PersonTitle\": \"Cargo\",\n",
    "        \"PersonDepartment\": \"Departamento\",\n",
    "        \"HealthCloudGA__Gender__pc\": \"Sexo\",\n",
    "        \"Phone\": \"Telefono\",\n",
    "        \"Identification_Type__c\": \"Tipo de Documento\",\n",
    "        \"PersonContactId\":\"Id Contacto\"\n",
    "    }\n",
    ")\n",
    "\n",
    "\n",
    "\n",
    "Pacientes_SF.shape"
   ]
  },
  {
   "cell_type": "code",
   "execution_count": 475,
   "metadata": {
    "notebookRunGroups": {
     "groupValue": "1"
    }
   },
   "outputs": [],
   "source": [
    "def siPrimerCero(y):\n",
    "    if len(y) <= 7:\n",
    "        return \"NONE\"\n",
    "    \n",
    "    if y[0] == \"0\":\n",
    "        y = y[1:]\n",
    "        \n",
    "    return y"
   ]
  },
  {
   "cell_type": "code",
   "execution_count": 476,
   "metadata": {
    "notebookRunGroups": {
     "groupValue": "1"
    }
   },
   "outputs": [
    {
     "name": "stderr",
     "output_type": "stream",
     "text": [
      "C:\\Users\\jmartinez\\AppData\\Local\\Temp\\ipykernel_17012\\4185583920.py:6: FutureWarning: The default value of regex will change from True to False in a future version. In addition, single character regular expressions will *not* be treated as literal strings when regex=True.\n",
      "  Pacientes_SF[\"Rut\"] = Pacientes_SF[\"Rut\"].str.replace(\".\", \"\")\n"
     ]
    }
   ],
   "source": [
    "\n",
    "Pacientes_SF[\"Rut\"] = Pacientes_SF[\"Rut\"].astype(str)\n",
    "Pacientes_SF[\"Rut\"] = Pacientes_SF[\"Rut\"].str.upper()\n",
    "Pacientes_SF[\"Rut\"] = Pacientes_SF[\"Rut\"].str.replace(\"-\", \"\")\n",
    "Pacientes_SF[\"Rut\"] = Pacientes_SF[\"Rut\"].str.replace(\"–\", \"\")\n",
    "Pacientes_SF[\"Rut\"] = Pacientes_SF[\"Rut\"].astype(str)\n",
    "Pacientes_SF[\"Rut\"] = Pacientes_SF[\"Rut\"].str.replace(\".\", \"\")\n",
    "Pacientes_SF[\"Rut\"] = Pacientes_SF[\"Rut\"].apply(lambda y: siPrimerCero(y))\n",
    "Pacientes_SF[\"Rut\"] = Pacientes_SF[\"Rut\"].str.strip()"
   ]
  },
  {
   "cell_type": "code",
   "execution_count": 477,
   "metadata": {
    "notebookRunGroups": {
     "groupValue": "1"
    }
   },
   "outputs": [],
   "source": [
    "Pacientes_Nones1 = Pacientes_SF[(Pacientes_SF[\"Rut\"] == \"NONE\") | (Pacientes_Archivo[\"rutT\"] == \"NONE\")]\n",
    "Pacientes_SF = Pacientes_SF[(Pacientes_SF[\"Rut\"] != \"NONE\") ]\n",
    "Pacientes_Nones1.to_excel(\"F:/Empresas SF/reportes/NONE1.xlsx\", index=False) "
   ]
  },
  {
   "attachments": {},
   "cell_type": "markdown",
   "metadata": {},
   "source": [
    "Aca se comienzan a unir las relaciones de pacientes y empresas ya creadas.\n"
   ]
  },
  {
   "cell_type": "markdown",
   "metadata": {
    "notebookRunGroups": {
     "groupValue": "1"
    }
   },
   "source": [
    "# buscar empresas desde Paciente_Programas__c relaciones de empresas con pacientes\n",
    "results = sf.query_all(\n",
    "    \"\"\"\n",
    "    select Id,Paciente__c, Programas_por_Empresas__c,padre__c from Paciente_Programas__c  \n",
    "    \"\"\"\n",
    ")\n",
    "Paciente_Programas_SF = pd.DataFrame(results[\"records\"])\n",
    "\n",
    "Paciente_Programas_SF = Paciente_Programas_SF[\n",
    "    [\"Id\", \"Paciente__c\", \"Programas_por_Empresas__c\", \"padre__c\"]\n",
    "]\n",
    "Paciente_Programas_SF = Paciente_Programas_SF.rename(\n",
    "    columns={\n",
    "        \"Id\": \"Id Pacientes_Programas__c\",\n",
    "        \"Paciente__c\": \"Id Account\",\n",
    "        \"Programas_por_Empresas__c\": \"Programas_por_Empresas__c\",\n",
    "        \"padre__c\": \"Nombre Campaña\",\n",
    "    }\n",
    ")\n",
    "Paciente_Programas_SF.shape"
   ]
  },
  {
   "cell_type": "markdown",
   "metadata": {
    "notebookRunGroups": {
     "groupValue": "1"
    }
   },
   "source": [
    "# Union de Pacientes Programas y Programas por empresa\n",
    "empresas_unidas = pd.merge(\n",
    "    left=Paciente_Programas_SF,\n",
    "    right=Programas_empresas,\n",
    "    how=\"left\",\n",
    "    left_on=\"Programas_por_Empresas__c\",\n",
    "    right_on=\"Programas_por_Empresas__c\",\n",
    ")\n",
    "empresas_unidas.shape"
   ]
  },
  {
   "attachments": {},
   "cell_type": "markdown",
   "metadata": {},
   "source": [
    "Carga de Archivo carga\n"
   ]
  },
  {
   "cell_type": "code",
   "execution_count": 882,
   "metadata": {
    "notebookRunGroups": {
     "groupValue": "2"
    }
   },
   "outputs": [
    {
     "data": {
      "text/html": [
       "<div>\n",
       "<style scoped>\n",
       "    .dataframe tbody tr th:only-of-type {\n",
       "        vertical-align: middle;\n",
       "    }\n",
       "\n",
       "    .dataframe tbody tr th {\n",
       "        vertical-align: top;\n",
       "    }\n",
       "\n",
       "    .dataframe thead th {\n",
       "        text-align: right;\n",
       "    }\n",
       "</style>\n",
       "<table border=\"1\" class=\"dataframe\">\n",
       "  <thead>\n",
       "    <tr style=\"text-align: right;\">\n",
       "      <th></th>\n",
       "      <th>rut1</th>\n",
       "      <th>Columna3</th>\n",
       "      <th>nombres</th>\n",
       "      <th>apellidos</th>\n",
       "      <th>Relacion_con_Titular</th>\n",
       "      <th>rut2</th>\n",
       "      <th>Columna2</th>\n",
       "      <th>Activo</th>\n",
       "      <th>Empleador</th>\n",
       "      <th>TipoBeneficiario</th>\n",
       "      <th>Campaña Paciente</th>\n",
       "      <th>Columna1</th>\n",
       "      <th>Columna12</th>\n",
       "    </tr>\n",
       "  </thead>\n",
       "  <tbody>\n",
       "    <tr>\n",
       "      <th>0</th>\n",
       "      <td>10107575-3</td>\n",
       "      <td>101075753</td>\n",
       "      <td>Isabel Irene</td>\n",
       "      <td>Yañez Maldonado</td>\n",
       "      <td>Titular</td>\n",
       "      <td>10107575-3</td>\n",
       "      <td>101075753</td>\n",
       "      <td>1</td>\n",
       "      <td>Milab</td>\n",
       "      <td>Titular</td>\n",
       "      <td>Socofar</td>\n",
       "      <td>101075753101075753</td>\n",
       "      <td>NaN</td>\n",
       "    </tr>\n",
       "    <tr>\n",
       "      <th>1</th>\n",
       "      <td>10125826-2</td>\n",
       "      <td>101258262</td>\n",
       "      <td>Sandra  Del Carmen</td>\n",
       "      <td>Vasquez Araya</td>\n",
       "      <td>Titular</td>\n",
       "      <td>10125826-2</td>\n",
       "      <td>101258262</td>\n",
       "      <td>1</td>\n",
       "      <td>Milab</td>\n",
       "      <td>Titular</td>\n",
       "      <td>Socofar</td>\n",
       "      <td>101258262101258262</td>\n",
       "      <td>NaN</td>\n",
       "    </tr>\n",
       "    <tr>\n",
       "      <th>2</th>\n",
       "      <td>10154137-1</td>\n",
       "      <td>101541371</td>\n",
       "      <td>Cecilia Jacqueline</td>\n",
       "      <td>Roco Araya</td>\n",
       "      <td>Titular</td>\n",
       "      <td>10154137-1</td>\n",
       "      <td>101541371</td>\n",
       "      <td>1</td>\n",
       "      <td>Milab</td>\n",
       "      <td>Titular</td>\n",
       "      <td>Socofar</td>\n",
       "      <td>101541371101541371</td>\n",
       "      <td>NaN</td>\n",
       "    </tr>\n",
       "    <tr>\n",
       "      <th>3</th>\n",
       "      <td>10170287-1</td>\n",
       "      <td>101702871</td>\n",
       "      <td>Juan Hernan</td>\n",
       "      <td>Acevedo Serrano</td>\n",
       "      <td>Titular</td>\n",
       "      <td>10170287-1</td>\n",
       "      <td>101702871</td>\n",
       "      <td>1</td>\n",
       "      <td>Milab</td>\n",
       "      <td>Titular</td>\n",
       "      <td>Socofar</td>\n",
       "      <td>101702871101702871</td>\n",
       "      <td>NaN</td>\n",
       "    </tr>\n",
       "    <tr>\n",
       "      <th>4</th>\n",
       "      <td>10220383-6</td>\n",
       "      <td>102203836</td>\n",
       "      <td>Leonel</td>\n",
       "      <td>Anriquez Perez</td>\n",
       "      <td>Titular</td>\n",
       "      <td>10220383-6</td>\n",
       "      <td>102203836</td>\n",
       "      <td>1</td>\n",
       "      <td>Milab</td>\n",
       "      <td>Titular</td>\n",
       "      <td>Socofar</td>\n",
       "      <td>102203836102203836</td>\n",
       "      <td>NaN</td>\n",
       "    </tr>\n",
       "  </tbody>\n",
       "</table>\n",
       "</div>"
      ],
      "text/plain": [
       "         rut1   Columna3             nombres        apellidos  \\\n",
       "0  10107575-3  101075753        Isabel Irene  Yañez Maldonado   \n",
       "1  10125826-2  101258262  Sandra  Del Carmen    Vasquez Araya   \n",
       "2  10154137-1  101541371  Cecilia Jacqueline       Roco Araya   \n",
       "3  10170287-1  101702871         Juan Hernan  Acevedo Serrano   \n",
       "4  10220383-6  102203836              Leonel   Anriquez Perez   \n",
       "\n",
       "  Relacion_con_Titular        rut2   Columna2  Activo Empleador  \\\n",
       "0              Titular  10107575-3  101075753       1     Milab   \n",
       "1              Titular  10125826-2  101258262       1     Milab   \n",
       "2              Titular  10154137-1  101541371       1     Milab   \n",
       "3              Titular  10170287-1  101702871       1     Milab   \n",
       "4              Titular  10220383-6  102203836       1     Milab   \n",
       "\n",
       "  TipoBeneficiario Campaña Paciente            Columna1  Columna12  \n",
       "0          Titular          Socofar  101075753101075753        NaN  \n",
       "1          Titular          Socofar  101258262101258262        NaN  \n",
       "2          Titular          Socofar  101541371101541371        NaN  \n",
       "3          Titular          Socofar  101702871101702871        NaN  \n",
       "4          Titular          Socofar  102203836102203836        NaN  "
      ]
     },
     "execution_count": 882,
     "metadata": {},
     "output_type": "execute_result"
    }
   ],
   "source": [
    "nuevos = \"F:/Empresas SF/reportes/carga.xlsx\"\n",
    "campaña = \"Socofar\"\n",
    "Pais = \"Chile\"\n",
    "# Pais = \"México\"\n",
    "\n",
    "Pacientes_Archivo = pd.read_excel(nuevos)\n",
    "# OJO se copia rut1 a rut le saca el guoion\n",
    "Pacientes_Archivo.head(5)"
   ]
  },
  {
   "cell_type": "code",
   "execution_count": 883,
   "metadata": {
    "notebookRunGroups": {
     "groupValue": "2"
    }
   },
   "outputs": [
    {
     "data": {
      "text/plain": [
       "(318, 13)"
      ]
     },
     "execution_count": 883,
     "metadata": {},
     "output_type": "execute_result"
    }
   ],
   "source": [
    "Pacientes_Archivo.shape"
   ]
  },
  {
   "cell_type": "code",
   "execution_count": 884,
   "metadata": {
    "notebookRunGroups": {
     "groupValue": "2"
    }
   },
   "outputs": [],
   "source": [
    "Pacientes_IDrut = Pacientes_SF[\n",
    "    [\n",
    "        \"Rut\",\n",
    "        \"Id Account Paciente\",        \n",
    "        \"Id Contacto\",\n",
    "    ]\n",
    "]"
   ]
  },
  {
   "cell_type": "code",
   "execution_count": 885,
   "metadata": {
    "notebookRunGroups": {
     "groupValue": "2"
    }
   },
   "outputs": [
    {
     "name": "stderr",
     "output_type": "stream",
     "text": [
      "C:\\Users\\jmartinez\\AppData\\Local\\Temp\\ipykernel_17012\\3487171931.py:5: FutureWarning: The default value of regex will change from True to False in a future version. In addition, single character regular expressions will *not* be treated as literal strings when regex=True.\n",
      "  Pacientes_Archivo[\"rut\"] = Pacientes_Archivo[\"rut\"].str.replace(\".\", \"\")\n"
     ]
    },
    {
     "data": {
      "text/plain": [
       "(318, 14)"
      ]
     },
     "execution_count": 885,
     "metadata": {},
     "output_type": "execute_result"
    }
   ],
   "source": [
    "Pacientes_Archivo[\"rut\"] = Pacientes_Archivo[\"rut1\"].astype(str)\n",
    "Pacientes_Archivo[\"rut\"] = Pacientes_Archivo[\"rut\"].str.replace(\"-\", \"\")\n",
    "Pacientes_Archivo[\"rut\"] = Pacientes_Archivo[\"rut\"].str.replace(\"–\", \"\")\n",
    "Pacientes_Archivo[\"rut\"] = Pacientes_Archivo[\"rut\"].astype(str)\n",
    "Pacientes_Archivo[\"rut\"] = Pacientes_Archivo[\"rut\"].str.replace(\".\", \"\")\n",
    "Pacientes_Archivo[\"rut\"] = Pacientes_Archivo[\"rut\"].str.upper()\n",
    "Pacientes_Archivo[\"rut\"] = Pacientes_Archivo[\"rut\"].str.strip()\n",
    "Pacientes_Archivo.shape"
   ]
  },
  {
   "cell_type": "code",
   "execution_count": 886,
   "metadata": {
    "notebookRunGroups": {
     "groupValue": "2"
    }
   },
   "outputs": [
    {
     "name": "stderr",
     "output_type": "stream",
     "text": [
      "C:\\Users\\jmartinez\\AppData\\Local\\Temp\\ipykernel_17012\\980738941.py:5: FutureWarning: The default value of regex will change from True to False in a future version. In addition, single character regular expressions will *not* be treated as literal strings when regex=True.\n",
      "  Pacientes_Archivo[\"rutT\"] = Pacientes_Archivo[\"rutT\"].str.replace(\".\", \"\")\n"
     ]
    },
    {
     "data": {
      "text/plain": [
       "(318, 15)"
      ]
     },
     "execution_count": 886,
     "metadata": {},
     "output_type": "execute_result"
    }
   ],
   "source": [
    "Pacientes_Archivo[\"rutT\"] = Pacientes_Archivo[\"rut2\"].astype(str)\n",
    "Pacientes_Archivo[\"rutT\"] = Pacientes_Archivo[\"rutT\"].str.replace(\"-\", \"\")\n",
    "Pacientes_Archivo[\"rutT\"] = Pacientes_Archivo[\"rutT\"].str.replace(\"–\", \"\")\n",
    "Pacientes_Archivo[\"rutT\"] = Pacientes_Archivo[\"rutT\"].astype(str)\n",
    "Pacientes_Archivo[\"rutT\"] = Pacientes_Archivo[\"rutT\"].str.replace(\".\", \"\")\n",
    "Pacientes_Archivo[\"rutT\"] = Pacientes_Archivo[\"rutT\"].str.upper()\n",
    "Pacientes_Archivo[\"rutT\"] = Pacientes_Archivo[\"rutT\"].str.strip()\n",
    "Pacientes_Archivo.shape"
   ]
  },
  {
   "cell_type": "code",
   "execution_count": 887,
   "metadata": {
    "notebookRunGroups": {
     "groupValue": "2"
    }
   },
   "outputs": [
    {
     "name": "stderr",
     "output_type": "stream",
     "text": [
      "C:\\Users\\jmartinez\\AppData\\Local\\Temp\\ipykernel_17012\\3035579401.py:3: FutureWarning: The default value of regex will change from True to False in a future version. In addition, single character regular expressions will *not* be treated as literal strings when regex=True.\n",
      "  Pacientes_Archivo[\"nombres\"] = Pacientes_Archivo[\"nombres\"].str.replace(\".\", \"\")\n",
      "C:\\Users\\jmartinez\\AppData\\Local\\Temp\\ipykernel_17012\\3035579401.py:9: FutureWarning: The default value of regex will change from True to False in a future version. In addition, single character regular expressions will *not* be treated as literal strings when regex=True.\n",
      "  Pacientes_Archivo[\"apellidos\"] = Pacientes_Archivo[\"apellidos\"].str.replace(\".\", \"\")\n"
     ]
    }
   ],
   "source": [
    "if (\"nombres\" in Pacientes_Archivo.columns) == True:\n",
    "    Pacientes_Archivo[\"nombres\"] = Pacientes_Archivo[\"nombres\"].str.replace(\",\", \"\")\n",
    "    Pacientes_Archivo[\"nombres\"] = Pacientes_Archivo[\"nombres\"].str.replace(\".\", \"\")\n",
    "    Pacientes_Archivo[\"nombres\"] = Pacientes_Archivo[\"nombres\"].str.replace(\"-\", \"\")\n",
    "    Pacientes_Archivo[\"nombres\"] = Pacientes_Archivo[\"nombres\"].str.title()\n",
    "    Pacientes_Archivo[\"nombres\"] = Pacientes_Archivo[\"nombres\"].str.strip()\n",
    "    # Pacientes_Archivo[\"empresa\"] = Pacientes_Archivo[\"empresa\"].str.title()\n",
    "    Pacientes_Archivo[\"apellidos\"] = Pacientes_Archivo[\"apellidos\"].str.replace(\",\", \"\")\n",
    "    Pacientes_Archivo[\"apellidos\"] = Pacientes_Archivo[\"apellidos\"].str.replace(\".\", \"\")\n",
    "    Pacientes_Archivo[\"apellidos\"] = Pacientes_Archivo[\"apellidos\"].str.replace(\"-\", \"\")\n",
    "    Pacientes_Archivo[\"apellidos\"] = Pacientes_Archivo[\"apellidos\"].str.title()\n",
    "    Pacientes_Archivo[\"apellidos\"] = Pacientes_Archivo[\"apellidos\"].str.strip()\n",
    "\n"
   ]
  },
  {
   "cell_type": "code",
   "execution_count": 888,
   "metadata": {
    "notebookRunGroups": {
     "groupValue": "2"
    }
   },
   "outputs": [],
   "source": [
    "Pacientes_Archivo[\"rut\"] = Pacientes_Archivo[\"rut\"].apply(lambda y: siPrimerCero(y))\n",
    "Pacientes_Archivo[\"rutT\"] = Pacientes_Archivo[\"rutT\"].apply(lambda y: siPrimerCero(y))\n",
    "Pacientes_Archivo\n",
    "\n",
    "Pacientes_Nones = Pacientes_Archivo[(Pacientes_Archivo[\"rut\"] == \"NONE\") | (Pacientes_Archivo[\"rutT\"] == \"NONE\")]\n",
    "Pacientes_Archivo = Pacientes_Archivo[(Pacientes_Archivo[\"rut\"] != \"NONE\") | (Pacientes_Archivo[\"rutT\"] != \"NONE\")]"
   ]
  },
  {
   "cell_type": "markdown",
   "metadata": {},
   "source": [
    "PAcientes Programas"
   ]
  },
  {
   "cell_type": "code",
   "execution_count": 889,
   "metadata": {
    "notebookRunGroups": {
     "groupValue": "2"
    }
   },
   "outputs": [
    {
     "name": "stderr",
     "output_type": "stream",
     "text": [
      "  0%|          | 0/1 [00:00<?, ?it/s]"
     ]
    },
    {
     "name": "stderr",
     "output_type": "stream",
     "text": [
      "100%|██████████| 1/1 [00:09<00:00,  9.85s/it]\n"
     ]
    },
    {
     "data": {
      "text/html": [
       "<div>\n",
       "<style scoped>\n",
       "    .dataframe tbody tr th:only-of-type {\n",
       "        vertical-align: middle;\n",
       "    }\n",
       "\n",
       "    .dataframe tbody tr th {\n",
       "        vertical-align: top;\n",
       "    }\n",
       "\n",
       "    .dataframe thead th {\n",
       "        text-align: right;\n",
       "    }\n",
       "</style>\n",
       "<table border=\"1\" class=\"dataframe\">\n",
       "  <thead>\n",
       "    <tr style=\"text-align: right;\">\n",
       "      <th></th>\n",
       "      <th>Paciente__c</th>\n",
       "      <th>Programas_por_Empresas__r.Empresa__c</th>\n",
       "      <th>Paciente__r.IdentificationId__pc</th>\n",
       "      <th>Id</th>\n",
       "    </tr>\n",
       "  </thead>\n",
       "  <tbody>\n",
       "    <tr>\n",
       "      <th>0</th>\n",
       "      <td>0018c00002amR8oAAE</td>\n",
       "      <td>0018c00002cXJTzAAO</td>\n",
       "      <td>188205321</td>\n",
       "      <td>a1Y8c00000C6VgWEAV</td>\n",
       "    </tr>\n",
       "    <tr>\n",
       "      <th>1</th>\n",
       "      <td>0018c00002amQoMAAU</td>\n",
       "      <td>0018c00002cXJTzAAO</td>\n",
       "      <td>167505341</td>\n",
       "      <td>a1Y8c00000C6VgXEAV</td>\n",
       "    </tr>\n",
       "    <tr>\n",
       "      <th>2</th>\n",
       "      <td>0018c00002amQoNAAU</td>\n",
       "      <td>0018c00002cXJTzAAO</td>\n",
       "      <td>202071910</td>\n",
       "      <td>a1Y8c00000C6VgYEAV</td>\n",
       "    </tr>\n",
       "    <tr>\n",
       "      <th>3</th>\n",
       "      <td>0018c00002amQoQAAU</td>\n",
       "      <td>0018c00002cXJTzAAO</td>\n",
       "      <td>138355500</td>\n",
       "      <td>a1Y8c00000C6VgZEAV</td>\n",
       "    </tr>\n",
       "    <tr>\n",
       "      <th>4</th>\n",
       "      <td>0018c00002amQozAAE</td>\n",
       "      <td>0018c00002cXJTzAAO</td>\n",
       "      <td>16546771K</td>\n",
       "      <td>a1Y8c00000C6VgbEAF</td>\n",
       "    </tr>\n",
       "  </tbody>\n",
       "</table>\n",
       "</div>"
      ],
      "text/plain": [
       "          Paciente__c Programas_por_Empresas__r.Empresa__c  \\\n",
       "0  0018c00002amR8oAAE                   0018c00002cXJTzAAO   \n",
       "1  0018c00002amQoMAAU                   0018c00002cXJTzAAO   \n",
       "2  0018c00002amQoNAAU                   0018c00002cXJTzAAO   \n",
       "3  0018c00002amQoQAAU                   0018c00002cXJTzAAO   \n",
       "4  0018c00002amQozAAE                   0018c00002cXJTzAAO   \n",
       "\n",
       "  Paciente__r.IdentificationId__pc                  Id  \n",
       "0                        188205321  a1Y8c00000C6VgWEAV  \n",
       "1                        167505341  a1Y8c00000C6VgXEAV  \n",
       "2                        202071910  a1Y8c00000C6VgYEAV  \n",
       "3                        138355500  a1Y8c00000C6VgZEAV  \n",
       "4                        16546771K  a1Y8c00000C6VgbEAF  "
      ]
     },
     "execution_count": 889,
     "metadata": {},
     "output_type": "execute_result"
    }
   ],
   "source": [
    "\n",
    "\n",
    "\n",
    "query_pacientePrograma = \"SELECT Paciente__c,Programas_por_Empresas__r.Empresa__c,Paciente__r.IdentificationId__pc,Id from Paciente_Programas__c where padre__c =  '\" + campaña +\"'\"\n",
    "\n",
    "\n",
    "\n",
    "\n",
    "\n",
    "\n",
    "pacientePrograma = sf.smart_query(query_pacientePrograma)\n",
    "pacientePrograma.head()"
   ]
  },
  {
   "cell_type": "code",
   "execution_count": 890,
   "metadata": {
    "notebookRunGroups": {
     "groupValue": "2"
    }
   },
   "outputs": [
    {
     "data": {
      "text/html": [
       "<div>\n",
       "<style scoped>\n",
       "    .dataframe tbody tr th:only-of-type {\n",
       "        vertical-align: middle;\n",
       "    }\n",
       "\n",
       "    .dataframe tbody tr th {\n",
       "        vertical-align: top;\n",
       "    }\n",
       "\n",
       "    .dataframe thead th {\n",
       "        text-align: right;\n",
       "    }\n",
       "</style>\n",
       "<table border=\"1\" class=\"dataframe\">\n",
       "  <thead>\n",
       "    <tr style=\"text-align: right;\">\n",
       "      <th></th>\n",
       "      <th>Id Account Paciente</th>\n",
       "      <th>Id Account Empleador</th>\n",
       "      <th>Rut</th>\n",
       "      <th>Id Paciente Programas</th>\n",
       "    </tr>\n",
       "  </thead>\n",
       "  <tbody>\n",
       "    <tr>\n",
       "      <th>0</th>\n",
       "      <td>0018c00002amR8oAAE</td>\n",
       "      <td>0018c00002cXJTzAAO</td>\n",
       "      <td>188205321</td>\n",
       "      <td>a1Y8c00000C6VgWEAV</td>\n",
       "    </tr>\n",
       "    <tr>\n",
       "      <th>1</th>\n",
       "      <td>0018c00002amQoMAAU</td>\n",
       "      <td>0018c00002cXJTzAAO</td>\n",
       "      <td>167505341</td>\n",
       "      <td>a1Y8c00000C6VgXEAV</td>\n",
       "    </tr>\n",
       "    <tr>\n",
       "      <th>2</th>\n",
       "      <td>0018c00002amQoNAAU</td>\n",
       "      <td>0018c00002cXJTzAAO</td>\n",
       "      <td>202071910</td>\n",
       "      <td>a1Y8c00000C6VgYEAV</td>\n",
       "    </tr>\n",
       "    <tr>\n",
       "      <th>3</th>\n",
       "      <td>0018c00002amQoQAAU</td>\n",
       "      <td>0018c00002cXJTzAAO</td>\n",
       "      <td>138355500</td>\n",
       "      <td>a1Y8c00000C6VgZEAV</td>\n",
       "    </tr>\n",
       "    <tr>\n",
       "      <th>4</th>\n",
       "      <td>0018c00002amQozAAE</td>\n",
       "      <td>0018c00002cXJTzAAO</td>\n",
       "      <td>16546771K</td>\n",
       "      <td>a1Y8c00000C6VgbEAF</td>\n",
       "    </tr>\n",
       "  </tbody>\n",
       "</table>\n",
       "</div>"
      ],
      "text/plain": [
       "  Id Account Paciente Id Account Empleador        Rut Id Paciente Programas\n",
       "0  0018c00002amR8oAAE   0018c00002cXJTzAAO  188205321    a1Y8c00000C6VgWEAV\n",
       "1  0018c00002amQoMAAU   0018c00002cXJTzAAO  167505341    a1Y8c00000C6VgXEAV\n",
       "2  0018c00002amQoNAAU   0018c00002cXJTzAAO  202071910    a1Y8c00000C6VgYEAV\n",
       "3  0018c00002amQoQAAU   0018c00002cXJTzAAO  138355500    a1Y8c00000C6VgZEAV\n",
       "4  0018c00002amQozAAE   0018c00002cXJTzAAO  16546771K    a1Y8c00000C6VgbEAF"
      ]
     },
     "execution_count": 890,
     "metadata": {},
     "output_type": "execute_result"
    }
   ],
   "source": [
    "pacientePrograma = pacientePrograma.rename(\n",
    "    columns={\n",
    "        \"Id\": \"Id Paciente Programas\",\n",
    "        \"Paciente__r.IdentificationId__pc\": \"Rut\",\n",
    "        \"Programas_por_Empresas__r.Empresa__c\": \"Id Account Empleador\",\n",
    "        \"Paciente__c\": \"Id Account Paciente\",\n",
    "    }\n",
    ")\n",
    "pacientePrograma.head()"
   ]
  },
  {
   "cell_type": "code",
   "execution_count": 891,
   "metadata": {
    "notebookRunGroups": {
     "groupValue": "2"
    }
   },
   "outputs": [
    {
     "name": "stderr",
     "output_type": "stream",
     "text": [
      "C:\\Users\\jmartinez\\AppData\\Local\\Temp\\ipykernel_17012\\3172767859.py:5: FutureWarning: The default value of regex will change from True to False in a future version. In addition, single character regular expressions will *not* be treated as literal strings when regex=True.\n",
      "  pacientePrograma[\"Rut\"] = pacientePrograma[\"Rut\"].str.replace(\".\", \"\")\n"
     ]
    },
    {
     "data": {
      "text/plain": [
       "(5910, 4)"
      ]
     },
     "execution_count": 891,
     "metadata": {},
     "output_type": "execute_result"
    }
   ],
   "source": [
    "pacientePrograma[\"Rut\"] = pacientePrograma[\"Rut\"].astype(str)\n",
    "pacientePrograma[\"Rut\"] = pacientePrograma[\"Rut\"].str.replace(\"-\", \"\")\n",
    "pacientePrograma[\"Rut\"] = pacientePrograma[\"Rut\"].str.replace(\"–\", \"\")\n",
    "pacientePrograma[\"Rut\"] = pacientePrograma[\"Rut\"].astype(str)\n",
    "pacientePrograma[\"Rut\"] = pacientePrograma[\"Rut\"].str.replace(\".\", \"\")\n",
    "pacientePrograma[\"Rut\"] = pacientePrograma[\"Rut\"].str.upper()\n",
    "pacientePrograma[\"Rut\"] = pacientePrograma[\"Rut\"].str.strip()\n",
    "pacientePrograma.shape"
   ]
  },
  {
   "cell_type": "code",
   "execution_count": 892,
   "metadata": {
    "notebookRunGroups": {
     "groupValue": "2"
    }
   },
   "outputs": [
    {
     "data": {
      "text/html": [
       "<div>\n",
       "<style scoped>\n",
       "    .dataframe tbody tr th:only-of-type {\n",
       "        vertical-align: middle;\n",
       "    }\n",
       "\n",
       "    .dataframe tbody tr th {\n",
       "        vertical-align: top;\n",
       "    }\n",
       "\n",
       "    .dataframe thead th {\n",
       "        text-align: right;\n",
       "    }\n",
       "</style>\n",
       "<table border=\"1\" class=\"dataframe\">\n",
       "  <thead>\n",
       "    <tr style=\"text-align: right;\">\n",
       "      <th></th>\n",
       "      <th>Id Account Paciente</th>\n",
       "      <th>Id Account Empleador</th>\n",
       "      <th>Rut_x</th>\n",
       "      <th>Id Paciente Programas</th>\n",
       "      <th>Rut_y</th>\n",
       "      <th>Id Contacto</th>\n",
       "    </tr>\n",
       "  </thead>\n",
       "  <tbody>\n",
       "    <tr>\n",
       "      <th>0</th>\n",
       "      <td>0018c00002amR8oAAE</td>\n",
       "      <td>0018c00002cXJTzAAO</td>\n",
       "      <td>188205321</td>\n",
       "      <td>a1Y8c00000C6VgWEAV</td>\n",
       "      <td>188205321</td>\n",
       "      <td>0038c000035CaorAAC</td>\n",
       "    </tr>\n",
       "    <tr>\n",
       "      <th>1</th>\n",
       "      <td>0018c00002amQoMAAU</td>\n",
       "      <td>0018c00002cXJTzAAO</td>\n",
       "      <td>167505341</td>\n",
       "      <td>a1Y8c00000C6VgXEAV</td>\n",
       "      <td>167505341</td>\n",
       "      <td>0038c000035CaUUAA0</td>\n",
       "    </tr>\n",
       "    <tr>\n",
       "      <th>2</th>\n",
       "      <td>0018c00002amQoNAAU</td>\n",
       "      <td>0018c00002cXJTzAAO</td>\n",
       "      <td>202071910</td>\n",
       "      <td>a1Y8c00000C6VgYEAV</td>\n",
       "      <td>202071910</td>\n",
       "      <td>0038c000035CaUVAA0</td>\n",
       "    </tr>\n",
       "    <tr>\n",
       "      <th>3</th>\n",
       "      <td>0018c00002amQoQAAU</td>\n",
       "      <td>0018c00002cXJTzAAO</td>\n",
       "      <td>138355500</td>\n",
       "      <td>a1Y8c00000C6VgZEAV</td>\n",
       "      <td>138355500</td>\n",
       "      <td>0038c000035CaUYAA0</td>\n",
       "    </tr>\n",
       "    <tr>\n",
       "      <th>4</th>\n",
       "      <td>0018c00002amQozAAE</td>\n",
       "      <td>0018c00002cXJTzAAO</td>\n",
       "      <td>16546771K</td>\n",
       "      <td>a1Y8c00000C6VgbEAF</td>\n",
       "      <td>16546771K</td>\n",
       "      <td>0038c000035CaV7AAK</td>\n",
       "    </tr>\n",
       "  </tbody>\n",
       "</table>\n",
       "</div>"
      ],
      "text/plain": [
       "  Id Account Paciente Id Account Empleador      Rut_x Id Paciente Programas  \\\n",
       "0  0018c00002amR8oAAE   0018c00002cXJTzAAO  188205321    a1Y8c00000C6VgWEAV   \n",
       "1  0018c00002amQoMAAU   0018c00002cXJTzAAO  167505341    a1Y8c00000C6VgXEAV   \n",
       "2  0018c00002amQoNAAU   0018c00002cXJTzAAO  202071910    a1Y8c00000C6VgYEAV   \n",
       "3  0018c00002amQoQAAU   0018c00002cXJTzAAO  138355500    a1Y8c00000C6VgZEAV   \n",
       "4  0018c00002amQozAAE   0018c00002cXJTzAAO  16546771K    a1Y8c00000C6VgbEAF   \n",
       "\n",
       "       Rut_y         Id Contacto  \n",
       "0  188205321  0038c000035CaorAAC  \n",
       "1  167505341  0038c000035CaUUAA0  \n",
       "2  202071910  0038c000035CaUVAA0  \n",
       "3  138355500  0038c000035CaUYAA0  \n",
       "4  16546771K  0038c000035CaV7AAK  "
      ]
     },
     "execution_count": 892,
     "metadata": {},
     "output_type": "execute_result"
    }
   ],
   "source": [
    "\n",
    "PacientesProgramas_PacientesSF = pd.merge(\n",
    "    left=pacientePrograma,\n",
    "    right=Pacientes_IDrut,\n",
    "    how=\"left\",\n",
    "    left_on=\"Id Account Paciente\",\n",
    "    right_on=\"Id Account Paciente\",\n",
    ")\n",
    "\n",
    "PacientesProgramas_PacientesSF.head()"
   ]
  },
  {
   "cell_type": "markdown",
   "metadata": {},
   "source": [
    "account contact relation"
   ]
  },
  {
   "cell_type": "code",
   "execution_count": 893,
   "metadata": {
    "notebookRunGroups": {
     "groupValue": "2"
    }
   },
   "outputs": [
    {
     "name": "stderr",
     "output_type": "stream",
     "text": [
      "100%|██████████| 1/1 [00:09<00:00,  9.80s/it]\n"
     ]
    },
    {
     "data": {
      "text/html": [
       "<div>\n",
       "<style scoped>\n",
       "    .dataframe tbody tr th:only-of-type {\n",
       "        vertical-align: middle;\n",
       "    }\n",
       "\n",
       "    .dataframe tbody tr th {\n",
       "        vertical-align: top;\n",
       "    }\n",
       "\n",
       "    .dataframe thead th {\n",
       "        text-align: right;\n",
       "    }\n",
       "</style>\n",
       "<table border=\"1\" class=\"dataframe\">\n",
       "  <thead>\n",
       "    <tr style=\"text-align: right;\">\n",
       "      <th></th>\n",
       "      <th>Id</th>\n",
       "      <th>ContactId</th>\n",
       "      <th>AccountId</th>\n",
       "      <th>RutContact__c</th>\n",
       "      <th>Contact.AccountId</th>\n",
       "    </tr>\n",
       "  </thead>\n",
       "  <tbody>\n",
       "    <tr>\n",
       "      <th>0</th>\n",
       "      <td>07k8c00000S8wb6AAB</td>\n",
       "      <td>0038c000035CaorAAC</td>\n",
       "      <td>0018c00002cXJTzAAO</td>\n",
       "      <td>188205321</td>\n",
       "      <td>0018c00002amR8oAAE</td>\n",
       "    </tr>\n",
       "    <tr>\n",
       "      <th>1</th>\n",
       "      <td>07k8c00000S8wb7AAB</td>\n",
       "      <td>0038c000035CaUUAA0</td>\n",
       "      <td>0018c00002cXJTzAAO</td>\n",
       "      <td>167505341</td>\n",
       "      <td>0018c00002amQoMAAU</td>\n",
       "    </tr>\n",
       "    <tr>\n",
       "      <th>2</th>\n",
       "      <td>07k8c00000S8wb8AAB</td>\n",
       "      <td>0038c000035CaUVAA0</td>\n",
       "      <td>0018c00002cXJTzAAO</td>\n",
       "      <td>202071910</td>\n",
       "      <td>0018c00002amQoNAAU</td>\n",
       "    </tr>\n",
       "    <tr>\n",
       "      <th>3</th>\n",
       "      <td>07k8c00000S8wb9AAB</td>\n",
       "      <td>0038c000035CaUYAA0</td>\n",
       "      <td>0018c00002cXJTzAAO</td>\n",
       "      <td>138355500</td>\n",
       "      <td>0018c00002amQoQAAU</td>\n",
       "    </tr>\n",
       "    <tr>\n",
       "      <th>4</th>\n",
       "      <td>07k8c00000S8wbAAAR</td>\n",
       "      <td>0038c000035CajkAAC</td>\n",
       "      <td>0018c00002cXJTzAAO</td>\n",
       "      <td>169340668</td>\n",
       "      <td>0018c00002amR3gAAE</td>\n",
       "    </tr>\n",
       "  </tbody>\n",
       "</table>\n",
       "</div>"
      ],
      "text/plain": [
       "                   Id           ContactId           AccountId RutContact__c  \\\n",
       "0  07k8c00000S8wb6AAB  0038c000035CaorAAC  0018c00002cXJTzAAO     188205321   \n",
       "1  07k8c00000S8wb7AAB  0038c000035CaUUAA0  0018c00002cXJTzAAO     167505341   \n",
       "2  07k8c00000S8wb8AAB  0038c000035CaUVAA0  0018c00002cXJTzAAO     202071910   \n",
       "3  07k8c00000S8wb9AAB  0038c000035CaUYAA0  0018c00002cXJTzAAO     138355500   \n",
       "4  07k8c00000S8wbAAAR  0038c000035CajkAAC  0018c00002cXJTzAAO     169340668   \n",
       "\n",
       "    Contact.AccountId  \n",
       "0  0018c00002amR8oAAE  \n",
       "1  0018c00002amQoMAAU  \n",
       "2  0018c00002amQoNAAU  \n",
       "3  0018c00002amQoQAAU  \n",
       "4  0018c00002amR3gAAE  "
      ]
     },
     "execution_count": 893,
     "metadata": {},
     "output_type": "execute_result"
    }
   ],
   "source": [
    "\n",
    "query_accountContact = \"select Id,ContactId, AccountId, RutContact__c ,Contact.AccountId from AccountContactRelation where Account.Campa_a__c = '\" + campaña +\"'\"\n",
    "accountContactRelation = sf.smart_query(query_accountContact)\n",
    "accountContactRelation.head()"
   ]
  },
  {
   "cell_type": "code",
   "execution_count": 894,
   "metadata": {
    "notebookRunGroups": {
     "groupValue": "2"
    }
   },
   "outputs": [
    {
     "data": {
      "text/html": [
       "<div>\n",
       "<style scoped>\n",
       "    .dataframe tbody tr th:only-of-type {\n",
       "        vertical-align: middle;\n",
       "    }\n",
       "\n",
       "    .dataframe tbody tr th {\n",
       "        vertical-align: top;\n",
       "    }\n",
       "\n",
       "    .dataframe thead th {\n",
       "        text-align: right;\n",
       "    }\n",
       "</style>\n",
       "<table border=\"1\" class=\"dataframe\">\n",
       "  <thead>\n",
       "    <tr style=\"text-align: right;\">\n",
       "      <th></th>\n",
       "      <th>Id AccountContactRelation</th>\n",
       "      <th>Id Contact Paciente</th>\n",
       "      <th>Id Account Empresa</th>\n",
       "      <th>Rut</th>\n",
       "      <th>Id Account Paciente</th>\n",
       "    </tr>\n",
       "  </thead>\n",
       "  <tbody>\n",
       "    <tr>\n",
       "      <th>0</th>\n",
       "      <td>07k8c00000S8wb6AAB</td>\n",
       "      <td>0038c000035CaorAAC</td>\n",
       "      <td>0018c00002cXJTzAAO</td>\n",
       "      <td>188205321</td>\n",
       "      <td>0018c00002amR8oAAE</td>\n",
       "    </tr>\n",
       "    <tr>\n",
       "      <th>1</th>\n",
       "      <td>07k8c00000S8wb7AAB</td>\n",
       "      <td>0038c000035CaUUAA0</td>\n",
       "      <td>0018c00002cXJTzAAO</td>\n",
       "      <td>167505341</td>\n",
       "      <td>0018c00002amQoMAAU</td>\n",
       "    </tr>\n",
       "    <tr>\n",
       "      <th>2</th>\n",
       "      <td>07k8c00000S8wb8AAB</td>\n",
       "      <td>0038c000035CaUVAA0</td>\n",
       "      <td>0018c00002cXJTzAAO</td>\n",
       "      <td>202071910</td>\n",
       "      <td>0018c00002amQoNAAU</td>\n",
       "    </tr>\n",
       "    <tr>\n",
       "      <th>3</th>\n",
       "      <td>07k8c00000S8wb9AAB</td>\n",
       "      <td>0038c000035CaUYAA0</td>\n",
       "      <td>0018c00002cXJTzAAO</td>\n",
       "      <td>138355500</td>\n",
       "      <td>0018c00002amQoQAAU</td>\n",
       "    </tr>\n",
       "    <tr>\n",
       "      <th>4</th>\n",
       "      <td>07k8c00000S8wbAAAR</td>\n",
       "      <td>0038c000035CajkAAC</td>\n",
       "      <td>0018c00002cXJTzAAO</td>\n",
       "      <td>169340668</td>\n",
       "      <td>0018c00002amR3gAAE</td>\n",
       "    </tr>\n",
       "  </tbody>\n",
       "</table>\n",
       "</div>"
      ],
      "text/plain": [
       "  Id AccountContactRelation Id Contact Paciente  Id Account Empresa  \\\n",
       "0        07k8c00000S8wb6AAB  0038c000035CaorAAC  0018c00002cXJTzAAO   \n",
       "1        07k8c00000S8wb7AAB  0038c000035CaUUAA0  0018c00002cXJTzAAO   \n",
       "2        07k8c00000S8wb8AAB  0038c000035CaUVAA0  0018c00002cXJTzAAO   \n",
       "3        07k8c00000S8wb9AAB  0038c000035CaUYAA0  0018c00002cXJTzAAO   \n",
       "4        07k8c00000S8wbAAAR  0038c000035CajkAAC  0018c00002cXJTzAAO   \n",
       "\n",
       "         Rut Id Account Paciente  \n",
       "0  188205321  0018c00002amR8oAAE  \n",
       "1  167505341  0018c00002amQoMAAU  \n",
       "2  202071910  0018c00002amQoNAAU  \n",
       "3  138355500  0018c00002amQoQAAU  \n",
       "4  169340668  0018c00002amR3gAAE  "
      ]
     },
     "execution_count": 894,
     "metadata": {},
     "output_type": "execute_result"
    }
   ],
   "source": [
    "accountContactRelation = accountContactRelation.rename(\n",
    "    columns={\n",
    "        \"Id\": \"Id AccountContactRelation\",\n",
    "        \"ContactId\": \"Id Contact Paciente\",\n",
    "        \"AccountId\": \"Id Account Empresa\",\n",
    "        \"RutContact__c\": \"Rut\",\n",
    "        \"Contact.AccountId\":\"Id Account Paciente\"\n",
    "    }\n",
    ")\n",
    "accountContactRelation.head()"
   ]
  },
  {
   "cell_type": "code",
   "execution_count": 895,
   "metadata": {
    "notebookRunGroups": {
     "groupValue": "2"
    }
   },
   "outputs": [
    {
     "name": "stderr",
     "output_type": "stream",
     "text": [
      "C:\\Users\\jmartinez\\AppData\\Local\\Temp\\ipykernel_17012\\2268980097.py:5: FutureWarning: The default value of regex will change from True to False in a future version. In addition, single character regular expressions will *not* be treated as literal strings when regex=True.\n",
      "  accountContactRelation[\"Rut\"] = accountContactRelation[\"Rut\"].str.replace(\".\", \"\")\n"
     ]
    },
    {
     "data": {
      "text/plain": [
       "(5769, 5)"
      ]
     },
     "execution_count": 895,
     "metadata": {},
     "output_type": "execute_result"
    }
   ],
   "source": [
    "accountContactRelation[\"Rut\"] = accountContactRelation[\"Rut\"].astype(str)\n",
    "accountContactRelation[\"Rut\"] = accountContactRelation[\"Rut\"].str.replace(\"-\", \"\")\n",
    "accountContactRelation[\"Rut\"] = accountContactRelation[\"Rut\"].str.replace(\"–\", \"\")\n",
    "accountContactRelation[\"Rut\"] = accountContactRelation[\"Rut\"].astype(str)\n",
    "accountContactRelation[\"Rut\"] = accountContactRelation[\"Rut\"].str.replace(\".\", \"\")\n",
    "accountContactRelation[\"Rut\"] = accountContactRelation[\"Rut\"].str.upper()\n",
    "accountContactRelation[\"Rut\"] = accountContactRelation[\"Rut\"].str.strip()\n",
    "accountContactRelation.shape"
   ]
  },
  {
   "cell_type": "code",
   "execution_count": 896,
   "metadata": {
    "notebookRunGroups": {
     "groupValue": "2"
    }
   },
   "outputs": [
    {
     "data": {
      "text/html": [
       "<div>\n",
       "<style scoped>\n",
       "    .dataframe tbody tr th:only-of-type {\n",
       "        vertical-align: middle;\n",
       "    }\n",
       "\n",
       "    .dataframe tbody tr th {\n",
       "        vertical-align: top;\n",
       "    }\n",
       "\n",
       "    .dataframe thead th {\n",
       "        text-align: right;\n",
       "    }\n",
       "</style>\n",
       "<table border=\"1\" class=\"dataframe\">\n",
       "  <thead>\n",
       "    <tr style=\"text-align: right;\">\n",
       "      <th></th>\n",
       "      <th>Id AccountContactRelation</th>\n",
       "      <th>Id Contact Paciente</th>\n",
       "      <th>Id Account Empresa</th>\n",
       "      <th>Rut_x</th>\n",
       "      <th>Id Account Paciente</th>\n",
       "      <th>Rut_y</th>\n",
       "      <th>Id Contacto</th>\n",
       "    </tr>\n",
       "  </thead>\n",
       "  <tbody>\n",
       "    <tr>\n",
       "      <th>0</th>\n",
       "      <td>07k8c00000S8wb6AAB</td>\n",
       "      <td>0038c000035CaorAAC</td>\n",
       "      <td>0018c00002cXJTzAAO</td>\n",
       "      <td>188205321</td>\n",
       "      <td>0018c00002amR8oAAE</td>\n",
       "      <td>188205321</td>\n",
       "      <td>0038c000035CaorAAC</td>\n",
       "    </tr>\n",
       "    <tr>\n",
       "      <th>1</th>\n",
       "      <td>07k8c00000S8wb7AAB</td>\n",
       "      <td>0038c000035CaUUAA0</td>\n",
       "      <td>0018c00002cXJTzAAO</td>\n",
       "      <td>167505341</td>\n",
       "      <td>0018c00002amQoMAAU</td>\n",
       "      <td>167505341</td>\n",
       "      <td>0038c000035CaUUAA0</td>\n",
       "    </tr>\n",
       "    <tr>\n",
       "      <th>2</th>\n",
       "      <td>07k8c00000S8wb8AAB</td>\n",
       "      <td>0038c000035CaUVAA0</td>\n",
       "      <td>0018c00002cXJTzAAO</td>\n",
       "      <td>202071910</td>\n",
       "      <td>0018c00002amQoNAAU</td>\n",
       "      <td>202071910</td>\n",
       "      <td>0038c000035CaUVAA0</td>\n",
       "    </tr>\n",
       "    <tr>\n",
       "      <th>3</th>\n",
       "      <td>07k8c00000S8wb9AAB</td>\n",
       "      <td>0038c000035CaUYAA0</td>\n",
       "      <td>0018c00002cXJTzAAO</td>\n",
       "      <td>138355500</td>\n",
       "      <td>0018c00002amQoQAAU</td>\n",
       "      <td>138355500</td>\n",
       "      <td>0038c000035CaUYAA0</td>\n",
       "    </tr>\n",
       "    <tr>\n",
       "      <th>4</th>\n",
       "      <td>07k8c00000S8wbAAAR</td>\n",
       "      <td>0038c000035CajkAAC</td>\n",
       "      <td>0018c00002cXJTzAAO</td>\n",
       "      <td>169340668</td>\n",
       "      <td>0018c00002amR3gAAE</td>\n",
       "      <td>169340668</td>\n",
       "      <td>0038c000035CajkAAC</td>\n",
       "    </tr>\n",
       "  </tbody>\n",
       "</table>\n",
       "</div>"
      ],
      "text/plain": [
       "  Id AccountContactRelation Id Contact Paciente  Id Account Empresa  \\\n",
       "0        07k8c00000S8wb6AAB  0038c000035CaorAAC  0018c00002cXJTzAAO   \n",
       "1        07k8c00000S8wb7AAB  0038c000035CaUUAA0  0018c00002cXJTzAAO   \n",
       "2        07k8c00000S8wb8AAB  0038c000035CaUVAA0  0018c00002cXJTzAAO   \n",
       "3        07k8c00000S8wb9AAB  0038c000035CaUYAA0  0018c00002cXJTzAAO   \n",
       "4        07k8c00000S8wbAAAR  0038c000035CajkAAC  0018c00002cXJTzAAO   \n",
       "\n",
       "       Rut_x Id Account Paciente      Rut_y         Id Contacto  \n",
       "0  188205321  0018c00002amR8oAAE  188205321  0038c000035CaorAAC  \n",
       "1  167505341  0018c00002amQoMAAU  167505341  0038c000035CaUUAA0  \n",
       "2  202071910  0018c00002amQoNAAU  202071910  0038c000035CaUVAA0  \n",
       "3  138355500  0018c00002amQoQAAU  138355500  0038c000035CaUYAA0  \n",
       "4  169340668  0018c00002amR3gAAE  169340668  0038c000035CajkAAC  "
      ]
     },
     "execution_count": 896,
     "metadata": {},
     "output_type": "execute_result"
    }
   ],
   "source": [
    "AccountContact_PacientesSF = pd.merge(\n",
    "    left=accountContactRelation,\n",
    "    right=Pacientes_IDrut,\n",
    "    how=\"left\",\n",
    "    left_on=\"Id Account Paciente\",\n",
    "    right_on=\"Id Account Paciente\",\n",
    ")\n",
    "AccountContact_PacientesSF.head()\n"
   ]
  },
  {
   "cell_type": "markdown",
   "metadata": {},
   "source": [
    "empresa contacto convenio"
   ]
  },
  {
   "cell_type": "code",
   "execution_count": 897,
   "metadata": {
    "notebookRunGroups": {
     "groupValue": "2"
    }
   },
   "outputs": [
    {
     "name": "stderr",
     "output_type": "stream",
     "text": [
      "100%|██████████| 1/1 [00:07<00:00,  7.69s/it]\n"
     ]
    },
    {
     "data": {
      "text/html": [
       "<div>\n",
       "<style scoped>\n",
       "    .dataframe tbody tr th:only-of-type {\n",
       "        vertical-align: middle;\n",
       "    }\n",
       "\n",
       "    .dataframe tbody tr th {\n",
       "        vertical-align: top;\n",
       "    }\n",
       "\n",
       "    .dataframe thead th {\n",
       "        text-align: right;\n",
       "    }\n",
       "</style>\n",
       "<table border=\"1\" class=\"dataframe\">\n",
       "  <thead>\n",
       "    <tr style=\"text-align: right;\">\n",
       "      <th></th>\n",
       "      <th>Id</th>\n",
       "      <th>Paciente__r.IdentificationId__pc</th>\n",
       "      <th>Empresa__c</th>\n",
       "      <th>Paciente__c</th>\n",
       "      <th>N_Documento_Titular__c</th>\n",
       "    </tr>\n",
       "  </thead>\n",
       "  <tbody>\n",
       "    <tr>\n",
       "      <th>0</th>\n",
       "      <td>a40RN000000vbE9YAI</td>\n",
       "      <td>164997480</td>\n",
       "      <td>a3yRN0000006s9NYAQ</td>\n",
       "      <td>0018c00002gl0sLAAQ</td>\n",
       "      <td>164997480</td>\n",
       "    </tr>\n",
       "    <tr>\n",
       "      <th>1</th>\n",
       "      <td>a40RN000000vbEAYAY</td>\n",
       "      <td>107751114</td>\n",
       "      <td>a3yRN0000006s9NYAQ</td>\n",
       "      <td>0018c00002gjnR6AAI</td>\n",
       "      <td>107751114</td>\n",
       "    </tr>\n",
       "    <tr>\n",
       "      <th>2</th>\n",
       "      <td>a40RN000000vbEBYAY</td>\n",
       "      <td>81386129</td>\n",
       "      <td>a3yRN0000006s9NYAQ</td>\n",
       "      <td>0018c00002egrK0AAI</td>\n",
       "      <td>81386129</td>\n",
       "    </tr>\n",
       "    <tr>\n",
       "      <th>3</th>\n",
       "      <td>a40RN000000vbECYAY</td>\n",
       "      <td>165752643</td>\n",
       "      <td>a3yRN0000006s9NYAQ</td>\n",
       "      <td>0018c00002egrJTAAY</td>\n",
       "      <td>165752643</td>\n",
       "    </tr>\n",
       "    <tr>\n",
       "      <th>4</th>\n",
       "      <td>a40RN000000vbEDYAY</td>\n",
       "      <td>164878635</td>\n",
       "      <td>a3yRN0000006s9NYAQ</td>\n",
       "      <td>0018c00002egrKcAAI</td>\n",
       "      <td>164878635</td>\n",
       "    </tr>\n",
       "  </tbody>\n",
       "</table>\n",
       "</div>"
      ],
      "text/plain": [
       "                   Id Paciente__r.IdentificationId__pc          Empresa__c  \\\n",
       "0  a40RN000000vbE9YAI                        164997480  a3yRN0000006s9NYAQ   \n",
       "1  a40RN000000vbEAYAY                        107751114  a3yRN0000006s9NYAQ   \n",
       "2  a40RN000000vbEBYAY                         81386129  a3yRN0000006s9NYAQ   \n",
       "3  a40RN000000vbECYAY                        165752643  a3yRN0000006s9NYAQ   \n",
       "4  a40RN000000vbEDYAY                        164878635  a3yRN0000006s9NYAQ   \n",
       "\n",
       "          Paciente__c N_Documento_Titular__c  \n",
       "0  0018c00002gl0sLAAQ              164997480  \n",
       "1  0018c00002gjnR6AAI              107751114  \n",
       "2  0018c00002egrK0AAI               81386129  \n",
       "3  0018c00002egrJTAAY              165752643  \n",
       "4  0018c00002egrKcAAI              164878635  "
      ]
     },
     "execution_count": 897,
     "metadata": {},
     "output_type": "execute_result"
    }
   ],
   "source": [
    "query_empresacontactoconvenio = \"select Id,Paciente__r.IdentificationId__pc,  Empresa__c, Paciente__c,N_Documento_Titular__c from EmpresaContactoConvenios__c where Empresa__r.Campa_a__c = '\" + campaña +\"'\"\n",
    "empresacontactoconvenio = sf.smart_query(query_empresacontactoconvenio)\n",
    "empresacontactoconvenio.head()"
   ]
  },
  {
   "cell_type": "code",
   "execution_count": 898,
   "metadata": {
    "notebookRunGroups": {
     "groupValue": "2"
    }
   },
   "outputs": [
    {
     "data": {
      "text/html": [
       "<div>\n",
       "<style scoped>\n",
       "    .dataframe tbody tr th:only-of-type {\n",
       "        vertical-align: middle;\n",
       "    }\n",
       "\n",
       "    .dataframe tbody tr th {\n",
       "        vertical-align: top;\n",
       "    }\n",
       "\n",
       "    .dataframe thead th {\n",
       "        text-align: right;\n",
       "    }\n",
       "</style>\n",
       "<table border=\"1\" class=\"dataframe\">\n",
       "  <thead>\n",
       "    <tr style=\"text-align: right;\">\n",
       "      <th></th>\n",
       "      <th>Id EmpresaContactoConvenio</th>\n",
       "      <th>Rut</th>\n",
       "      <th>Id Convenio Empresa</th>\n",
       "      <th>Id Account Paciente</th>\n",
       "      <th>Rut Titular</th>\n",
       "    </tr>\n",
       "  </thead>\n",
       "  <tbody>\n",
       "    <tr>\n",
       "      <th>0</th>\n",
       "      <td>a40RN000000vbE9YAI</td>\n",
       "      <td>164997480</td>\n",
       "      <td>a3yRN0000006s9NYAQ</td>\n",
       "      <td>0018c00002gl0sLAAQ</td>\n",
       "      <td>164997480</td>\n",
       "    </tr>\n",
       "    <tr>\n",
       "      <th>1</th>\n",
       "      <td>a40RN000000vbEAYAY</td>\n",
       "      <td>107751114</td>\n",
       "      <td>a3yRN0000006s9NYAQ</td>\n",
       "      <td>0018c00002gjnR6AAI</td>\n",
       "      <td>107751114</td>\n",
       "    </tr>\n",
       "    <tr>\n",
       "      <th>2</th>\n",
       "      <td>a40RN000000vbEBYAY</td>\n",
       "      <td>81386129</td>\n",
       "      <td>a3yRN0000006s9NYAQ</td>\n",
       "      <td>0018c00002egrK0AAI</td>\n",
       "      <td>81386129</td>\n",
       "    </tr>\n",
       "    <tr>\n",
       "      <th>3</th>\n",
       "      <td>a40RN000000vbECYAY</td>\n",
       "      <td>165752643</td>\n",
       "      <td>a3yRN0000006s9NYAQ</td>\n",
       "      <td>0018c00002egrJTAAY</td>\n",
       "      <td>165752643</td>\n",
       "    </tr>\n",
       "    <tr>\n",
       "      <th>4</th>\n",
       "      <td>a40RN000000vbEDYAY</td>\n",
       "      <td>164878635</td>\n",
       "      <td>a3yRN0000006s9NYAQ</td>\n",
       "      <td>0018c00002egrKcAAI</td>\n",
       "      <td>164878635</td>\n",
       "    </tr>\n",
       "  </tbody>\n",
       "</table>\n",
       "</div>"
      ],
      "text/plain": [
       "  Id EmpresaContactoConvenio        Rut Id Convenio Empresa  \\\n",
       "0         a40RN000000vbE9YAI  164997480  a3yRN0000006s9NYAQ   \n",
       "1         a40RN000000vbEAYAY  107751114  a3yRN0000006s9NYAQ   \n",
       "2         a40RN000000vbEBYAY   81386129  a3yRN0000006s9NYAQ   \n",
       "3         a40RN000000vbECYAY  165752643  a3yRN0000006s9NYAQ   \n",
       "4         a40RN000000vbEDYAY  164878635  a3yRN0000006s9NYAQ   \n",
       "\n",
       "  Id Account Paciente Rut Titular  \n",
       "0  0018c00002gl0sLAAQ   164997480  \n",
       "1  0018c00002gjnR6AAI   107751114  \n",
       "2  0018c00002egrK0AAI    81386129  \n",
       "3  0018c00002egrJTAAY   165752643  \n",
       "4  0018c00002egrKcAAI   164878635  "
      ]
     },
     "execution_count": 898,
     "metadata": {},
     "output_type": "execute_result"
    }
   ],
   "source": [
    "empresacontactoconvenio = empresacontactoconvenio.rename(\n",
    "    columns={\n",
    "        \"Id\": \"Id EmpresaContactoConvenio\",\n",
    "        \"Paciente__r.IdentificationId__pc\": \"Rut\",\n",
    "        \"Empresa__c\": \"Id Convenio Empresa\",\n",
    "        \"Paciente__c\": \"Id Account Paciente\",\n",
    "        \"N_Documento_Titular__c\":\"Rut Titular\"\n",
    "    }\n",
    ")\n",
    "empresacontactoconvenio.head()"
   ]
  },
  {
   "cell_type": "code",
   "execution_count": 899,
   "metadata": {
    "notebookRunGroups": {
     "groupValue": "2"
    }
   },
   "outputs": [
    {
     "name": "stderr",
     "output_type": "stream",
     "text": [
      "C:\\Users\\jmartinez\\AppData\\Local\\Temp\\ipykernel_17012\\2534521553.py:5: FutureWarning: The default value of regex will change from True to False in a future version. In addition, single character regular expressions will *not* be treated as literal strings when regex=True.\n",
      "  empresacontactoconvenio[\"Rut\"] = empresacontactoconvenio[\"Rut\"].str.replace(\".\", \"\")\n"
     ]
    },
    {
     "data": {
      "text/plain": [
       "(168, 5)"
      ]
     },
     "execution_count": 899,
     "metadata": {},
     "output_type": "execute_result"
    }
   ],
   "source": [
    "empresacontactoconvenio[\"Rut\"] = empresacontactoconvenio[\"Rut\"].astype(str)\n",
    "empresacontactoconvenio[\"Rut\"] = empresacontactoconvenio[\"Rut\"].str.replace(\"-\", \"\")\n",
    "empresacontactoconvenio[\"Rut\"] = empresacontactoconvenio[\"Rut\"].str.replace(\"–\", \"\")\n",
    "empresacontactoconvenio[\"Rut\"] = empresacontactoconvenio[\"Rut\"].astype(str)\n",
    "empresacontactoconvenio[\"Rut\"] = empresacontactoconvenio[\"Rut\"].str.replace(\".\", \"\")\n",
    "empresacontactoconvenio[\"Rut\"] = empresacontactoconvenio[\"Rut\"].str.upper()\n",
    "empresacontactoconvenio[\"Rut\"] = empresacontactoconvenio[\"Rut\"].str.strip()\n",
    "empresacontactoconvenio.shape"
   ]
  },
  {
   "cell_type": "code",
   "execution_count": 900,
   "metadata": {
    "notebookRunGroups": {
     "groupValue": "2"
    }
   },
   "outputs": [
    {
     "data": {
      "text/html": [
       "<div>\n",
       "<style scoped>\n",
       "    .dataframe tbody tr th:only-of-type {\n",
       "        vertical-align: middle;\n",
       "    }\n",
       "\n",
       "    .dataframe tbody tr th {\n",
       "        vertical-align: top;\n",
       "    }\n",
       "\n",
       "    .dataframe thead th {\n",
       "        text-align: right;\n",
       "    }\n",
       "</style>\n",
       "<table border=\"1\" class=\"dataframe\">\n",
       "  <thead>\n",
       "    <tr style=\"text-align: right;\">\n",
       "      <th></th>\n",
       "      <th>Id EmpresaContactoConvenio</th>\n",
       "      <th>Rut_x</th>\n",
       "      <th>Id Convenio Empresa</th>\n",
       "      <th>Id Account Paciente</th>\n",
       "      <th>Rut Titular</th>\n",
       "      <th>Rut_y</th>\n",
       "      <th>Id Contacto</th>\n",
       "    </tr>\n",
       "  </thead>\n",
       "  <tbody>\n",
       "    <tr>\n",
       "      <th>0</th>\n",
       "      <td>a40RN000000vbE9YAI</td>\n",
       "      <td>164997480</td>\n",
       "      <td>a3yRN0000006s9NYAQ</td>\n",
       "      <td>0018c00002gl0sLAAQ</td>\n",
       "      <td>164997480</td>\n",
       "      <td>164997480</td>\n",
       "      <td>0038c00003D9Gr3AAF</td>\n",
       "    </tr>\n",
       "    <tr>\n",
       "      <th>1</th>\n",
       "      <td>a40RN000000vbEAYAY</td>\n",
       "      <td>107751114</td>\n",
       "      <td>a3yRN0000006s9NYAQ</td>\n",
       "      <td>0018c00002gjnR6AAI</td>\n",
       "      <td>107751114</td>\n",
       "      <td>107751114</td>\n",
       "      <td>0038c00003C7Bk1AAF</td>\n",
       "    </tr>\n",
       "    <tr>\n",
       "      <th>2</th>\n",
       "      <td>a40RN000000vbEBYAY</td>\n",
       "      <td>81386129</td>\n",
       "      <td>a3yRN0000006s9NYAQ</td>\n",
       "      <td>0018c00002egrK0AAI</td>\n",
       "      <td>81386129</td>\n",
       "      <td>81386129</td>\n",
       "      <td>0038c000039GqHKAA0</td>\n",
       "    </tr>\n",
       "    <tr>\n",
       "      <th>3</th>\n",
       "      <td>a40RN000000vbECYAY</td>\n",
       "      <td>165752643</td>\n",
       "      <td>a3yRN0000006s9NYAQ</td>\n",
       "      <td>0018c00002egrJTAAY</td>\n",
       "      <td>165752643</td>\n",
       "      <td>165752643</td>\n",
       "      <td>0038c000039GqGnAAK</td>\n",
       "    </tr>\n",
       "    <tr>\n",
       "      <th>4</th>\n",
       "      <td>a40RN000000vbEDYAY</td>\n",
       "      <td>164878635</td>\n",
       "      <td>a3yRN0000006s9NYAQ</td>\n",
       "      <td>0018c00002egrKcAAI</td>\n",
       "      <td>164878635</td>\n",
       "      <td>164878635</td>\n",
       "      <td>0038c000039GqHwAAK</td>\n",
       "    </tr>\n",
       "  </tbody>\n",
       "</table>\n",
       "</div>"
      ],
      "text/plain": [
       "  Id EmpresaContactoConvenio      Rut_x Id Convenio Empresa  \\\n",
       "0         a40RN000000vbE9YAI  164997480  a3yRN0000006s9NYAQ   \n",
       "1         a40RN000000vbEAYAY  107751114  a3yRN0000006s9NYAQ   \n",
       "2         a40RN000000vbEBYAY   81386129  a3yRN0000006s9NYAQ   \n",
       "3         a40RN000000vbECYAY  165752643  a3yRN0000006s9NYAQ   \n",
       "4         a40RN000000vbEDYAY  164878635  a3yRN0000006s9NYAQ   \n",
       "\n",
       "  Id Account Paciente Rut Titular      Rut_y         Id Contacto  \n",
       "0  0018c00002gl0sLAAQ   164997480  164997480  0038c00003D9Gr3AAF  \n",
       "1  0018c00002gjnR6AAI   107751114  107751114  0038c00003C7Bk1AAF  \n",
       "2  0018c00002egrK0AAI    81386129   81386129  0038c000039GqHKAA0  \n",
       "3  0018c00002egrJTAAY   165752643  165752643  0038c000039GqGnAAK  \n",
       "4  0018c00002egrKcAAI   164878635  164878635  0038c000039GqHwAAK  "
      ]
     },
     "execution_count": 900,
     "metadata": {},
     "output_type": "execute_result"
    }
   ],
   "source": [
    "empresacontactoconvenio_PacientesSF = pd.merge(\n",
    "    left=empresacontactoconvenio,\n",
    "    right=Pacientes_IDrut,\n",
    "    how=\"left\",\n",
    "    left_on=\"Id Account Paciente\",\n",
    "    right_on=\"Id Account Paciente\",\n",
    ")\n",
    "empresacontactoconvenio_PacientesSF.head()"
   ]
  },
  {
   "cell_type": "code",
   "execution_count": 901,
   "metadata": {},
   "outputs": [
    {
     "data": {
      "text/plain": [
       "' if(campaña!=\"MetLife\"):\\n    pacientePrograma.to_excel(\"F:/Empresas SF/reportes/paciente_programas.xlsx\", index=False) '"
      ]
     },
     "execution_count": 901,
     "metadata": {},
     "output_type": "execute_result"
    }
   ],
   "source": [
    "\"\"\" if(campaña!=\"MetLife\"):\n",
    "    pacientePrograma.to_excel(\"F:/Empresas SF/reportes/paciente_programas.xlsx\", index=False) \"\"\""
   ]
  },
  {
   "cell_type": "markdown",
   "metadata": {},
   "source": [
    "Rescatamos todos los ruts Id con su empresa desde la campaña"
   ]
  },
  {
   "cell_type": "code",
   "execution_count": 902,
   "metadata": {
    "notebookRunGroups": {
     "groupValue": "2"
    }
   },
   "outputs": [
    {
     "data": {
      "text/html": [
       "<div>\n",
       "<style scoped>\n",
       "    .dataframe tbody tr th:only-of-type {\n",
       "        vertical-align: middle;\n",
       "    }\n",
       "\n",
       "    .dataframe tbody tr th {\n",
       "        vertical-align: top;\n",
       "    }\n",
       "\n",
       "    .dataframe thead th {\n",
       "        text-align: right;\n",
       "    }\n",
       "</style>\n",
       "<table border=\"1\" class=\"dataframe\">\n",
       "  <thead>\n",
       "    <tr style=\"text-align: right;\">\n",
       "      <th></th>\n",
       "      <th>rut1</th>\n",
       "      <th>Columna3</th>\n",
       "      <th>nombres</th>\n",
       "      <th>apellidos</th>\n",
       "      <th>Relacion_con_Titular</th>\n",
       "      <th>rut2</th>\n",
       "      <th>Columna2</th>\n",
       "      <th>Activo</th>\n",
       "      <th>Empleador</th>\n",
       "      <th>TipoBeneficiario</th>\n",
       "      <th>Campaña Paciente</th>\n",
       "      <th>Columna1</th>\n",
       "      <th>Columna12</th>\n",
       "      <th>rut</th>\n",
       "      <th>rutT</th>\n",
       "    </tr>\n",
       "  </thead>\n",
       "  <tbody>\n",
       "    <tr>\n",
       "      <th>0</th>\n",
       "      <td>10107575-3</td>\n",
       "      <td>101075753</td>\n",
       "      <td>Isabel Irene</td>\n",
       "      <td>Yañez Maldonado</td>\n",
       "      <td>Titular</td>\n",
       "      <td>10107575-3</td>\n",
       "      <td>101075753</td>\n",
       "      <td>1</td>\n",
       "      <td>Milab</td>\n",
       "      <td>Titular</td>\n",
       "      <td>Socofar</td>\n",
       "      <td>101075753101075753</td>\n",
       "      <td>NaN</td>\n",
       "      <td>101075753</td>\n",
       "      <td>101075753</td>\n",
       "    </tr>\n",
       "    <tr>\n",
       "      <th>1</th>\n",
       "      <td>10125826-2</td>\n",
       "      <td>101258262</td>\n",
       "      <td>Sandra  Del Carmen</td>\n",
       "      <td>Vasquez Araya</td>\n",
       "      <td>Titular</td>\n",
       "      <td>10125826-2</td>\n",
       "      <td>101258262</td>\n",
       "      <td>1</td>\n",
       "      <td>Milab</td>\n",
       "      <td>Titular</td>\n",
       "      <td>Socofar</td>\n",
       "      <td>101258262101258262</td>\n",
       "      <td>NaN</td>\n",
       "      <td>101258262</td>\n",
       "      <td>101258262</td>\n",
       "    </tr>\n",
       "    <tr>\n",
       "      <th>2</th>\n",
       "      <td>10154137-1</td>\n",
       "      <td>101541371</td>\n",
       "      <td>Cecilia Jacqueline</td>\n",
       "      <td>Roco Araya</td>\n",
       "      <td>Titular</td>\n",
       "      <td>10154137-1</td>\n",
       "      <td>101541371</td>\n",
       "      <td>1</td>\n",
       "      <td>Milab</td>\n",
       "      <td>Titular</td>\n",
       "      <td>Socofar</td>\n",
       "      <td>101541371101541371</td>\n",
       "      <td>NaN</td>\n",
       "      <td>101541371</td>\n",
       "      <td>101541371</td>\n",
       "    </tr>\n",
       "    <tr>\n",
       "      <th>3</th>\n",
       "      <td>10170287-1</td>\n",
       "      <td>101702871</td>\n",
       "      <td>Juan Hernan</td>\n",
       "      <td>Acevedo Serrano</td>\n",
       "      <td>Titular</td>\n",
       "      <td>10170287-1</td>\n",
       "      <td>101702871</td>\n",
       "      <td>1</td>\n",
       "      <td>Milab</td>\n",
       "      <td>Titular</td>\n",
       "      <td>Socofar</td>\n",
       "      <td>101702871101702871</td>\n",
       "      <td>NaN</td>\n",
       "      <td>101702871</td>\n",
       "      <td>101702871</td>\n",
       "    </tr>\n",
       "    <tr>\n",
       "      <th>4</th>\n",
       "      <td>10220383-6</td>\n",
       "      <td>102203836</td>\n",
       "      <td>Leonel</td>\n",
       "      <td>Anriquez Perez</td>\n",
       "      <td>Titular</td>\n",
       "      <td>10220383-6</td>\n",
       "      <td>102203836</td>\n",
       "      <td>1</td>\n",
       "      <td>Milab</td>\n",
       "      <td>Titular</td>\n",
       "      <td>Socofar</td>\n",
       "      <td>102203836102203836</td>\n",
       "      <td>NaN</td>\n",
       "      <td>102203836</td>\n",
       "      <td>102203836</td>\n",
       "    </tr>\n",
       "  </tbody>\n",
       "</table>\n",
       "</div>"
      ],
      "text/plain": [
       "         rut1   Columna3             nombres        apellidos  \\\n",
       "0  10107575-3  101075753        Isabel Irene  Yañez Maldonado   \n",
       "1  10125826-2  101258262  Sandra  Del Carmen    Vasquez Araya   \n",
       "2  10154137-1  101541371  Cecilia Jacqueline       Roco Araya   \n",
       "3  10170287-1  101702871         Juan Hernan  Acevedo Serrano   \n",
       "4  10220383-6  102203836              Leonel   Anriquez Perez   \n",
       "\n",
       "  Relacion_con_Titular        rut2   Columna2  Activo Empleador  \\\n",
       "0              Titular  10107575-3  101075753       1     Milab   \n",
       "1              Titular  10125826-2  101258262       1     Milab   \n",
       "2              Titular  10154137-1  101541371       1     Milab   \n",
       "3              Titular  10170287-1  101702871       1     Milab   \n",
       "4              Titular  10220383-6  102203836       1     Milab   \n",
       "\n",
       "  TipoBeneficiario Campaña Paciente            Columna1  Columna12        rut  \\\n",
       "0          Titular          Socofar  101075753101075753        NaN  101075753   \n",
       "1          Titular          Socofar  101258262101258262        NaN  101258262   \n",
       "2          Titular          Socofar  101541371101541371        NaN  101541371   \n",
       "3          Titular          Socofar  101702871101702871        NaN  101702871   \n",
       "4          Titular          Socofar  102203836102203836        NaN  102203836   \n",
       "\n",
       "        rutT  \n",
       "0  101075753  \n",
       "1  101258262  \n",
       "2  101541371  \n",
       "3  101702871  \n",
       "4  102203836  "
      ]
     },
     "execution_count": 902,
     "metadata": {},
     "output_type": "execute_result"
    }
   ],
   "source": [
    "Pacientes_Archivo.head()"
   ]
  },
  {
   "cell_type": "markdown",
   "metadata": {},
   "source": [
    "Pacientes_con_id.to_excel(\"F:/Empresas SF/reportes/id.xlsx\", index=False)"
   ]
  },
  {
   "cell_type": "markdown",
   "metadata": {},
   "source": [
    "Pacientes_Archivo.drop_duplicates(\n",
    "    [\n",
    "        \"rut\",\n",
    "        \"rutT\",\n",
    "        \"LLaveEmpresa\",\n",
    "        \"LLAveRut\",\n",
    "    ],\n",
    "    keep=\"last\",\n",
    ")\n",
    "Pacientes_Archivo.shape"
   ]
  },
  {
   "cell_type": "code",
   "execution_count": 903,
   "metadata": {},
   "outputs": [
    {
     "name": "stdout",
     "output_type": "stream",
     "text": [
      "Socofar\n"
     ]
    }
   ],
   "source": [
    "print(campaña)"
   ]
  },
  {
   "cell_type": "code",
   "execution_count": 904,
   "metadata": {
    "notebookRunGroups": {
     "groupValue": "2"
    }
   },
   "outputs": [],
   "source": [
    "Pacientes_Archivo[\"RutEstaoNo\"] = Pacientes_Archivo[\"rut\"].isin(Pacientes_SF[\"Rut\"])"
   ]
  },
  {
   "attachments": {},
   "cell_type": "markdown",
   "metadata": {},
   "source": []
  },
  {
   "cell_type": "code",
   "execution_count": 905,
   "metadata": {},
   "outputs": [],
   "source": [
    "#Pacientes_Archivo.to_excel(\"F:/Empresas SF/reportes/Pacientes_Archivo.xlsx\", index=False)"
   ]
  },
  {
   "cell_type": "code",
   "execution_count": 906,
   "metadata": {
    "notebookRunGroups": {
     "groupValue": "2"
    }
   },
   "outputs": [
    {
     "data": {
      "text/plain": [
       "(318, 26)"
      ]
     },
     "execution_count": 906,
     "metadata": {},
     "output_type": "execute_result"
    }
   ],
   "source": [
    "# aca a los pacientes del archivo se les asigna sus datos en SF\n",
    "Pacientes_con_id = pd.merge(\n",
    "    left=Pacientes_Archivo,\n",
    "    right=Pacientes_SF,\n",
    "    how=\"left\",\n",
    "    left_on=\"rut\",\n",
    "    right_on=\"Rut\",\n",
    ")\n",
    "#Pacientes_con_id.to_excel(\"F:/Empresas SF/reportes/Pacientes_con_id.xlsx\", index=False)\n",
    "Pacientes_con_id.shape"
   ]
  },
  {
   "cell_type": "code",
   "execution_count": 907,
   "metadata": {
    "notebookRunGroups": {
     "groupValue": "2"
    }
   },
   "outputs": [
    {
     "data": {
      "text/html": [
       "<div>\n",
       "<style scoped>\n",
       "    .dataframe tbody tr th:only-of-type {\n",
       "        vertical-align: middle;\n",
       "    }\n",
       "\n",
       "    .dataframe tbody tr th {\n",
       "        vertical-align: top;\n",
       "    }\n",
       "\n",
       "    .dataframe thead th {\n",
       "        text-align: right;\n",
       "    }\n",
       "</style>\n",
       "<table border=\"1\" class=\"dataframe\">\n",
       "  <thead>\n",
       "    <tr style=\"text-align: right;\">\n",
       "      <th></th>\n",
       "      <th>rut1</th>\n",
       "      <th>Columna3</th>\n",
       "      <th>nombres</th>\n",
       "      <th>apellidos</th>\n",
       "      <th>Relacion_con_Titular</th>\n",
       "      <th>rut2</th>\n",
       "      <th>Columna2</th>\n",
       "      <th>Activo</th>\n",
       "      <th>Empleador</th>\n",
       "      <th>TipoBeneficiario</th>\n",
       "      <th>...</th>\n",
       "      <th>Id Account Paciente</th>\n",
       "      <th>Rut</th>\n",
       "      <th>Nombre</th>\n",
       "      <th>Tipo de Documento</th>\n",
       "      <th>Ocupacion</th>\n",
       "      <th>Cargo</th>\n",
       "      <th>Departamento</th>\n",
       "      <th>Sexo</th>\n",
       "      <th>Telefono</th>\n",
       "      <th>Id Contacto</th>\n",
       "    </tr>\n",
       "  </thead>\n",
       "  <tbody>\n",
       "    <tr>\n",
       "      <th>0</th>\n",
       "      <td>10107575-3</td>\n",
       "      <td>101075753</td>\n",
       "      <td>Isabel Irene</td>\n",
       "      <td>Yañez Maldonado</td>\n",
       "      <td>Titular</td>\n",
       "      <td>10107575-3</td>\n",
       "      <td>101075753</td>\n",
       "      <td>1</td>\n",
       "      <td>Milab</td>\n",
       "      <td>Titular</td>\n",
       "      <td>...</td>\n",
       "      <td>0018c00002egqvNAAQ</td>\n",
       "      <td>101075753</td>\n",
       "      <td>Isabel Irene Yañez Maldonado</td>\n",
       "      <td>RUT</td>\n",
       "      <td>None</td>\n",
       "      <td>None</td>\n",
       "      <td>None</td>\n",
       "      <td>Mujer</td>\n",
       "      <td>None</td>\n",
       "      <td>0038c000039GpsdAAC</td>\n",
       "    </tr>\n",
       "    <tr>\n",
       "      <th>1</th>\n",
       "      <td>10125826-2</td>\n",
       "      <td>101258262</td>\n",
       "      <td>Sandra  Del Carmen</td>\n",
       "      <td>Vasquez Araya</td>\n",
       "      <td>Titular</td>\n",
       "      <td>10125826-2</td>\n",
       "      <td>101258262</td>\n",
       "      <td>1</td>\n",
       "      <td>Milab</td>\n",
       "      <td>Titular</td>\n",
       "      <td>...</td>\n",
       "      <td>0018c00002egqveAAA</td>\n",
       "      <td>101258262</td>\n",
       "      <td>Sandra  Del Carmen Vasquez Araya</td>\n",
       "      <td>RUT</td>\n",
       "      <td>None</td>\n",
       "      <td>None</td>\n",
       "      <td>None</td>\n",
       "      <td>Mujer</td>\n",
       "      <td>None</td>\n",
       "      <td>0038c000039GpsuAAC</td>\n",
       "    </tr>\n",
       "    <tr>\n",
       "      <th>2</th>\n",
       "      <td>10154137-1</td>\n",
       "      <td>101541371</td>\n",
       "      <td>Cecilia Jacqueline</td>\n",
       "      <td>Roco Araya</td>\n",
       "      <td>Titular</td>\n",
       "      <td>10154137-1</td>\n",
       "      <td>101541371</td>\n",
       "      <td>1</td>\n",
       "      <td>Milab</td>\n",
       "      <td>Titular</td>\n",
       "      <td>...</td>\n",
       "      <td>0018c00002egqwPAAQ</td>\n",
       "      <td>101541371</td>\n",
       "      <td>Cecilia Jacqueline Roco Araya</td>\n",
       "      <td>RUT</td>\n",
       "      <td>None</td>\n",
       "      <td>None</td>\n",
       "      <td>None</td>\n",
       "      <td>Mujer</td>\n",
       "      <td>None</td>\n",
       "      <td>0038c000039GptfAAC</td>\n",
       "    </tr>\n",
       "    <tr>\n",
       "      <th>3</th>\n",
       "      <td>10170287-1</td>\n",
       "      <td>101702871</td>\n",
       "      <td>Juan Hernan</td>\n",
       "      <td>Acevedo Serrano</td>\n",
       "      <td>Titular</td>\n",
       "      <td>10170287-1</td>\n",
       "      <td>101702871</td>\n",
       "      <td>1</td>\n",
       "      <td>Milab</td>\n",
       "      <td>Titular</td>\n",
       "      <td>...</td>\n",
       "      <td>0018c00002egr6SAAQ</td>\n",
       "      <td>101702871</td>\n",
       "      <td>Juan Hernan Acevedo Serrano</td>\n",
       "      <td>RUT</td>\n",
       "      <td>None</td>\n",
       "      <td>None</td>\n",
       "      <td>None</td>\n",
       "      <td>Hombre</td>\n",
       "      <td>None</td>\n",
       "      <td>0038c000039Gq3nAAC</td>\n",
       "    </tr>\n",
       "    <tr>\n",
       "      <th>4</th>\n",
       "      <td>10220383-6</td>\n",
       "      <td>102203836</td>\n",
       "      <td>Leonel</td>\n",
       "      <td>Anriquez Perez</td>\n",
       "      <td>Titular</td>\n",
       "      <td>10220383-6</td>\n",
       "      <td>102203836</td>\n",
       "      <td>1</td>\n",
       "      <td>Milab</td>\n",
       "      <td>Titular</td>\n",
       "      <td>...</td>\n",
       "      <td>0018c00002egr6NAAQ</td>\n",
       "      <td>102203836</td>\n",
       "      <td>Leonel Anriquez Perez</td>\n",
       "      <td>RUT</td>\n",
       "      <td>None</td>\n",
       "      <td>None</td>\n",
       "      <td>None</td>\n",
       "      <td>Hombre</td>\n",
       "      <td>None</td>\n",
       "      <td>0038c000039Gq3iAAC</td>\n",
       "    </tr>\n",
       "  </tbody>\n",
       "</table>\n",
       "<p>5 rows × 26 columns</p>\n",
       "</div>"
      ],
      "text/plain": [
       "         rut1   Columna3             nombres        apellidos  \\\n",
       "0  10107575-3  101075753        Isabel Irene  Yañez Maldonado   \n",
       "1  10125826-2  101258262  Sandra  Del Carmen    Vasquez Araya   \n",
       "2  10154137-1  101541371  Cecilia Jacqueline       Roco Araya   \n",
       "3  10170287-1  101702871         Juan Hernan  Acevedo Serrano   \n",
       "4  10220383-6  102203836              Leonel   Anriquez Perez   \n",
       "\n",
       "  Relacion_con_Titular        rut2   Columna2  Activo Empleador  \\\n",
       "0              Titular  10107575-3  101075753       1     Milab   \n",
       "1              Titular  10125826-2  101258262       1     Milab   \n",
       "2              Titular  10154137-1  101541371       1     Milab   \n",
       "3              Titular  10170287-1  101702871       1     Milab   \n",
       "4              Titular  10220383-6  102203836       1     Milab   \n",
       "\n",
       "  TipoBeneficiario  ... Id Account Paciente        Rut  \\\n",
       "0          Titular  ...  0018c00002egqvNAAQ  101075753   \n",
       "1          Titular  ...  0018c00002egqveAAA  101258262   \n",
       "2          Titular  ...  0018c00002egqwPAAQ  101541371   \n",
       "3          Titular  ...  0018c00002egr6SAAQ  101702871   \n",
       "4          Titular  ...  0018c00002egr6NAAQ  102203836   \n",
       "\n",
       "                             Nombre Tipo de Documento Ocupacion  Cargo  \\\n",
       "0      Isabel Irene Yañez Maldonado               RUT      None   None   \n",
       "1  Sandra  Del Carmen Vasquez Araya               RUT      None   None   \n",
       "2     Cecilia Jacqueline Roco Araya               RUT      None   None   \n",
       "3       Juan Hernan Acevedo Serrano               RUT      None   None   \n",
       "4             Leonel Anriquez Perez               RUT      None   None   \n",
       "\n",
       "  Departamento    Sexo Telefono         Id Contacto  \n",
       "0         None   Mujer     None  0038c000039GpsdAAC  \n",
       "1         None   Mujer     None  0038c000039GpsuAAC  \n",
       "2         None   Mujer     None  0038c000039GptfAAC  \n",
       "3         None  Hombre     None  0038c000039Gq3nAAC  \n",
       "4         None  Hombre     None  0038c000039Gq3iAAC  \n",
       "\n",
       "[5 rows x 26 columns]"
      ]
     },
     "execution_count": 907,
     "metadata": {},
     "output_type": "execute_result"
    }
   ],
   "source": [
    "Pacientes_con_id.head()"
   ]
  },
  {
   "cell_type": "code",
   "execution_count": 908,
   "metadata": {
    "notebookRunGroups": {
     "groupValue": "2"
    }
   },
   "outputs": [],
   "source": [
    "regex = re.compile(r\"([A-Za-z0-9]+[.-_])*[A-Za-z0-9]+@[A-Za-z0-9-]+(\\.[A-Z|a-z]{2,})+\")\n",
    "\n",
    "\n",
    "def isValid(email):\n",
    "    if re.fullmatch(regex, email):        \n",
    "        return email        \n",
    "    else:        \n",
    "        return \"\"\n",
    "    \n",
    "\n"
   ]
  },
  {
   "cell_type": "code",
   "execution_count": 909,
   "metadata": {
    "notebookRunGroups": {
     "groupValue": "2"
    }
   },
   "outputs": [
    {
     "data": {
      "text/html": [
       "<div>\n",
       "<style scoped>\n",
       "    .dataframe tbody tr th:only-of-type {\n",
       "        vertical-align: middle;\n",
       "    }\n",
       "\n",
       "    .dataframe tbody tr th {\n",
       "        vertical-align: top;\n",
       "    }\n",
       "\n",
       "    .dataframe thead th {\n",
       "        text-align: right;\n",
       "    }\n",
       "</style>\n",
       "<table border=\"1\" class=\"dataframe\">\n",
       "  <thead>\n",
       "    <tr style=\"text-align: right;\">\n",
       "      <th></th>\n",
       "      <th>RutEstaoNo</th>\n",
       "      <th>FirstName</th>\n",
       "      <th>LastName</th>\n",
       "      <th>IdentificationId__pc</th>\n",
       "      <th>RecordTypeId</th>\n",
       "      <th>Cuenta_validada__c</th>\n",
       "      <th>BillingCountry</th>\n",
       "      <th>Identification_Type__c</th>\n",
       "      <th>Pa_s_del_Paciente__c</th>\n",
       "    </tr>\n",
       "  </thead>\n",
       "  <tbody>\n",
       "  </tbody>\n",
       "</table>\n",
       "</div>"
      ],
      "text/plain": [
       "Empty DataFrame\n",
       "Columns: [RutEstaoNo, FirstName, LastName, IdentificationId__pc, RecordTypeId, Cuenta_validada__c, BillingCountry, Identification_Type__c, Pa_s_del_Paciente__c]\n",
       "Index: []"
      ]
     },
     "execution_count": 909,
     "metadata": {},
     "output_type": "execute_result"
    }
   ],
   "source": [
    "# Final_pacientes_y_empresa = Pacientes_con_ID\n",
    "Subir_pacientes = pd.DataFrame()\n",
    "#Subir_pacientes[\"Email_Seteado__c\"] = \"\"\n",
    "Subir_pacientes[\"RutEstaoNo\"] = Pacientes_con_id[\"RutEstaoNo\"]\n",
    "# agrupar = empresasqfaltan[empresasqfaltan['si']==False]\n",
    "\n",
    "\n",
    "if (\"nombres\" in Pacientes_con_id.columns) == True:\n",
    "    Subir_pacientes[\"FirstName\"] = Pacientes_con_id[\"nombres\"]\n",
    "if (\"apellidos\" in Pacientes_con_id.columns) == True:\n",
    "    Subir_pacientes[\"LastName\"] = Pacientes_con_id[\"apellidos\"]\n",
    "if (\"rut\" in Pacientes_con_id.columns) == True:\n",
    "    Subir_pacientes[\"IdentificationId__pc\"] = (\n",
    "        Pacientes_con_id[\"rut\"].astype(str).str.upper()\n",
    "    )\n",
    "\n",
    "\n",
    "if (\"email\" in Pacientes_con_id.columns) == True:\n",
    "    # Pacientes_con_id[\"email\"] = Pacientes_con_id[\"email\"].astype(str).str.lower().replace(\"nan\",\"\")\n",
    "    Subir_pacientes[\"PersonEmail\"] = Pacientes_con_id[\"email\"].astype(str).str.lower()\n",
    "    Subir_pacientes[\"PersonEmail\"] = Subir_pacientes[\"PersonEmail\"].apply(\n",
    "        lambda y: isValid(y)\n",
    "    )\n",
    "    Subir_pacientes[\"Email_Seteado__c\"] = np.where(\n",
    "        Subir_pacientes[\"PersonEmail\"] != \"\", \"True\", \"False\"\n",
    "    )\n",
    "\n",
    "    # Subir_pacientes[\"PersonEmail\"] = Subir_pacientes[\"PersonEmail\"].str.replace(\"no informado\", \"\")\n",
    "if (\"nacimiento\" in Pacientes_con_id.columns) == True:\n",
    "    Subir_pacientes[\"PersonBirthdate\"] = pd.to_datetime(Pacientes_con_id[\"nacimiento\"],format=\"%Y-%m-%d\")\n",
    "\n",
    "if (\"sexo\" in Pacientes_con_id.columns) == True:\n",
    "    Sexo = {\n",
    "        \"H\": \"Hombre\",\n",
    "        \"m\": \"Hombre\",\n",
    "        \"Masculino\": \"Hombre\",\n",
    "        \"Femenino\": \"Mujer\",\n",
    "        \"\": \"Prefiero no responder\",\n",
    "        \"HOMBRE\": \"Hombre\",\n",
    "        \"MUJER\": \"Mujer\",\n",
    "        \"F\": \"Mujer\",\n",
    "        \"O\": \"Prefiero no responder\",\n",
    "        \"Ambos\": \"Prefiero no responder\",\n",
    "        \"N\": \"Prefiero no responder\",\n",
    "        \"Otro\": \"Prefiero no responder\",\n",
    "        \"n\": \"Prefiero no responder\",\n",
    "        \"N\": \"Prefiero no responder\",\n",
    "        \"FEMENINO\": \"Mujer\",\n",
    "        \"f\": \"Mujer\",\n",
    "        \"MASCULINO\": \"Hombre\",\n",
    "        \"m\": \"Hombre\",\n",
    "        \"M \": \"Hombre\",\n",
    "        \"M\": \"Hombre\",\n",
    "        \"F \": \"Mujer\",\n",
    "        \"Varón\": \"Hombre\",\n",
    "        \"varon\": \"Hombre\",\n",
    "    }\n",
    "    Pacientes_con_id.replace({\"sexo\": Sexo}, inplace=True)\n",
    "    Subir_pacientes[\"HealthCloudGA__Gender__pc\"] = Pacientes_con_id[\"sexo\"]\n",
    "if (\"direccion\" in Pacientes_con_id.columns) == True:\n",
    "    Subir_pacientes[\"BillingStreet\"] = (\n",
    "        Pacientes_con_id[\"direccion\"].str.lower().replace(\"nan\", \"\")\n",
    "    )\n",
    "    # Subir_pacientes[\"BillingStreet\"] = Final_pacientes_y_empresa[\"direccion\"]\n",
    "if (\"comuna\" in Pacientes_con_id.columns) == True:\n",
    "    # Subir_pacientes[\"BillingState\"] = Final_pacientes_y_empresa[\"comuna\"]\n",
    "    Subir_pacientes[\"BillingState\"] = (\n",
    "        Pacientes_con_id[\"comuna\"].str.title().replace(\"NaN\", \"\")\n",
    "    )\n",
    "    # Subir_pacientes[\"BillingState\"] = Final_pacientes_y_empresa[\"comuna\"]\n",
    "if (\"ciudad\" in Pacientes_con_id.columns) == True:\n",
    "    # Subir_pacientes[\"BillingCity\"] = Final_pacientes_y_empresa[\"ciudad\"]\n",
    "    Subir_pacientes[\"BillingCity\"] = (\n",
    "        Pacientes_con_id[\"ciudad\"].str.title().replace(\"NaN\", \"\")\n",
    "    )\n",
    "\n",
    "if (\"cargo\" in Pacientes_con_id.columns) == True:\n",
    "    Subir_pacientes[\"PersonTitle\"] = Pacientes_con_id[\"cargo\"].str.title()\n",
    "\n",
    "if (\"division\" in Pacientes_con_id.columns) == True:\n",
    "    Subir_pacientes[\"PersonDepartment\"] = Pacientes_con_id[\"division\"].str.title()\n",
    "\n",
    "if (\"celular\" in Pacientes_con_id.columns) == True:\n",
    "    Subir_pacientes[\"Phone\"] = (\n",
    "        Pacientes_con_id[\"celular\"].apply(str).str.strip().replace(\"+\", \"\")\n",
    "    )\n",
    "    Subir_pacientes[\"Phone\"] = Subir_pacientes[\"Phone\"].str.replace(\"NaN\", \"\")\n",
    "    Subir_pacientes[\"Phone\"] = Subir_pacientes[\"Phone\"].str.replace(\".\", \"\")\n",
    "    Subir_pacientes[\"Phone\"] = Subir_pacientes[\"Phone\"].str.replace(\"Nan\", \"\")\n",
    "    Subir_pacientes[\"Phone\"] = Subir_pacientes[\"Phone\"].str.replace(\"-\", \"\")\n",
    "    Subir_pacientes[\"Phone\"] = Subir_pacientes[\"Phone\"].str.replace(\"0\", \"\")\n",
    "    Subir_pacientes[\"Phone\"] = Subir_pacientes[\"Phone\"].str.replace(\"No Informado\", \"\")\n",
    "    Subir_pacientes[\"Phone\"] = Subir_pacientes[\"Phone\"].str.replace(\"_\", \"\")\n",
    "    Subir_pacientes[\"Phone\"] = Subir_pacientes[\"Phone\"].str.replace(\"/\", \"\")\n",
    "    Subir_pacientes[\"Phone\"] = Subir_pacientes[\"Phone\"].str.replace(\"+\", \"\")\n",
    "    Subir_pacientes[\"Phone\"] = Subir_pacientes[\"Phone\"].str.replace(\"nan\", \"\")\n",
    "    Subir_pacientes[\"Phone\"] = Subir_pacientes[\"Phone\"].str.replace(\"null\", \"\")\n",
    "    Subir_pacientes[\"Phone\"] = Subir_pacientes[\"Phone\"].str.replace(\"NULL\", \"\")\n",
    "\n",
    "\n",
    "Subir_pacientes[\"RecordTypeId\"] = \"0128c000002Byp4AAC\"\n",
    "Subir_pacientes[\"Cuenta_validada__c\"] = \"True\"\n",
    "\n",
    "\n",
    "if Pais == \"Chile\":\n",
    "    Subir_pacientes[\"BillingCountry\"] = \"Chile\"\n",
    "    Subir_pacientes[\"Identification_Type__c\"] = \"RUT\"\n",
    "    Subir_pacientes[\"Pa_s_del_Paciente__c\"] = \"a1U8c000005dAtnEAE\"\n",
    "else:\n",
    "    Subir_pacientes[\"BillingCountry\"] = \"México\"\n",
    "    Subir_pacientes[\"Identification_Type__c\"] = \"RUT\"\n",
    "    Subir_pacientes[\"Pa_s_del_Paciente__c\"] = \"a1U8c000005dAtsEAE\"\n",
    "    \n",
    "Subir_pacientes_Que_no_Estan =Subir_pacientes\n",
    "Subir_pacientes_Estan = Subir_pacientes[Subir_pacientes[\"RutEstaoNo\"] == True]\n",
    "Subir_pacientes = Subir_pacientes[Subir_pacientes[\"RutEstaoNo\"] == False]\n",
    "\n",
    "\n",
    "\n",
    "# Subir_pacientes.PersonEmail = Subir_pacientes.PersonEmail.fillna('')\n",
    "Subir_pacientes.to_excel(\"F:/Empresas SF/reportes/Pacientes_Que_No_Estaban.xlsx\", index=False)\n",
    "Subir_pacientes.head()"
   ]
  },
  {
   "cell_type": "code",
   "execution_count": 910,
   "metadata": {
    "notebookRunGroups": {
     "groupValue": "2"
    }
   },
   "outputs": [],
   "source": [
    "def traerId(rut):\n",
    "    if len(rut) >= 8:\n",
    "        busquedaDatos = \"FIND {\" + rut + \"} RETURNING Account(Id,IdentificationId__pc)\"\n",
    "        derty = dict(sf.search(busquedaDatos))\n",
    "        if derty[\"searchRecords\"] != []:\n",
    "            if derty[\"searchRecords\"][0][\"attributes\"][\"type\"] == \"Account\":\n",
    "                jote = derty[\"searchRecords\"][0][\"Id\"]\n",
    "                dertyd = derty[\"searchRecords\"][0][\"IdentificationId__pc\"]\n",
    "                print(jote + \" \" + dertyd)\n",
    "                return jote\n",
    "            else:\n",
    "                print(\"no\")\n",
    "        else:\n",
    "            print(\"vacio\")\n",
    "    else:\n",
    "        return \"None\"\n",
    "    \n",
    "def traerContact(ide):\n",
    "    idcontact = sf.Account.get(ide)\n",
    "    return idcontact[\"PersonContactId\"]\n",
    "\n",
    "    \n",
    "\n",
    "def agregarPaciente(listado):\n",
    "    vListado = listado.split(\",\")\n",
    "    derty = dict(\n",
    "        sf.Account.create(\n",
    "            # derty = sf.Account.create(\n",
    "            {\n",
    "                \"FirstName\": vListado[0],\n",
    "                \"LastName\": vListado[1],\n",
    "                \"IdentificationId__pc\": vListado[2],\n",
    "                \"RecordTypeId\": vListado[3],\n",
    "                \"BillingCountry\": vListado[4],\n",
    "                \"Identification_Type__c\": vListado[5],\n",
    "                \"Pa_s_del_Paciente__c\": vListado[6],\n",
    "                \"Cuenta_validada__c\": True,\n",
    "                \"PersonEmail\": vListado[8],\n",
    "                \"PersonBirthdate\": pd.to_datetime(vListado[9]).isoformat() + 'Z',\n",
    "                \"HealthCloudGA__Gender__pc\": vListado[10],\n",
    "                \"Phone\": vListado[11],\n",
    "                \"BillingCity\": vListado[12],\n",
    "                \"BillingState\": vListado[13],\n",
    "                \"BillingStreet\": vListado[14],\n",
    "                \"Email_Seteado__c\": bool(vListado[15]),\n",
    "            }\n",
    "        )\n",
    "    )\n",
    "    return derty[\"id\"]"
   ]
  },
  {
   "cell_type": "code",
   "execution_count": 911,
   "metadata": {
    "notebookRunGroups": {
     "groupValue": "2"
    }
   },
   "outputs": [
    {
     "data": {
      "text/html": [
       "<div>\n",
       "<style scoped>\n",
       "    .dataframe tbody tr th:only-of-type {\n",
       "        vertical-align: middle;\n",
       "    }\n",
       "\n",
       "    .dataframe tbody tr th {\n",
       "        vertical-align: top;\n",
       "    }\n",
       "\n",
       "    .dataframe thead th {\n",
       "        text-align: right;\n",
       "    }\n",
       "</style>\n",
       "<table border=\"1\" class=\"dataframe\">\n",
       "  <thead>\n",
       "    <tr style=\"text-align: right;\">\n",
       "      <th></th>\n",
       "      <th>RutEstaoNo</th>\n",
       "      <th>FirstName</th>\n",
       "      <th>LastName</th>\n",
       "      <th>IdentificationId__pc</th>\n",
       "      <th>RecordTypeId</th>\n",
       "      <th>Cuenta_validada__c</th>\n",
       "      <th>BillingCountry</th>\n",
       "      <th>Identification_Type__c</th>\n",
       "      <th>Pa_s_del_Paciente__c</th>\n",
       "    </tr>\n",
       "  </thead>\n",
       "  <tbody>\n",
       "  </tbody>\n",
       "</table>\n",
       "</div>"
      ],
      "text/plain": [
       "Empty DataFrame\n",
       "Columns: [RutEstaoNo, FirstName, LastName, IdentificationId__pc, RecordTypeId, Cuenta_validada__c, BillingCountry, Identification_Type__c, Pa_s_del_Paciente__c]\n",
       "Index: []"
      ]
     },
     "execution_count": 911,
     "metadata": {},
     "output_type": "execute_result"
    }
   ],
   "source": [
    "Subir_pacientes.head()"
   ]
  },
  {
   "cell_type": "code",
   "execution_count": 912,
   "metadata": {
    "notebookRunGroups": {
     "groupValue": "2"
    }
   },
   "outputs": [
    {
     "data": {
      "text/plain": [
       "(0, 10)"
      ]
     },
     "execution_count": 912,
     "metadata": {},
     "output_type": "execute_result"
    }
   ],
   "source": [
    "\n",
    "Subir_pacientes.drop_duplicates(\n",
    "    [\n",
    "        \"IdentificationId__pc\",\n",
    "        \n",
    "    ],\n",
    "    keep=\"last\",\n",
    ")\n",
    "\n",
    "Subir_pacientes[\"Id\"] = Subir_pacientes[\"IdentificationId__pc\"].apply(\n",
    "    lambda y: traerId(y)\n",
    ")\n",
    "\n",
    "Subir_pacientes.shape"
   ]
  },
  {
   "cell_type": "code",
   "execution_count": 913,
   "metadata": {
    "notebookRunGroups": {
     "groupValue": "2"
    }
   },
   "outputs": [],
   "source": [
    "Subir_pacientes = Subir_pacientes[Subir_pacientes[\"Id\"].str.len() != 15]"
   ]
  },
  {
   "cell_type": "code",
   "execution_count": 914,
   "metadata": {},
   "outputs": [],
   "source": [
    "#Subir_pacientes[\"dato_account\"].head()"
   ]
  },
  {
   "cell_type": "code",
   "execution_count": 915,
   "metadata": {},
   "outputs": [],
   "source": [
    "#Subir_pacientes.to_excel(\"F:/Empresas SF/reportes/Todesffff.xlsx\", index=False)\n"
   ]
  },
  {
   "cell_type": "code",
   "execution_count": 916,
   "metadata": {
    "notebookRunGroups": {
     "groupValue": "2"
    }
   },
   "outputs": [
    {
     "data": {
      "text/plain": [
       "' Subir_pacientes[\"Contact_creado\"] = Subir_pacientes[\"dato_account\"].apply(\\n    lambda x: agregarPaciente(x)\\n) '"
      ]
     },
     "execution_count": 916,
     "metadata": {},
     "output_type": "execute_result"
    }
   ],
   "source": [
    "Subir_pacientes[\"dato_account\"] = \"\"\n",
    "if (\"FirstName\" in Subir_pacientes.columns) == True:\n",
    "    Subir_pacientes[\"dato_account\"] = Subir_pacientes[\"dato_account\"] + Subir_pacientes[\"FirstName\"].astype(str)\n",
    "if (\"LastName\" in Subir_pacientes.columns) == True:\n",
    "    Subir_pacientes[\"dato_account\"] = Subir_pacientes[\"dato_account\"] + \",\" + Subir_pacientes[\"LastName\"].astype(str)\n",
    "if (\"IdentificationId__pc\" in Subir_pacientes.columns) == True:\n",
    "    Subir_pacientes[\"dato_account\"] = Subir_pacientes[\"dato_account\"] + \",\" + Subir_pacientes[\"IdentificationId__pc\"].astype(str)\n",
    "if (\"RecordTypeId\" in Subir_pacientes.columns) == True:\n",
    "    Subir_pacientes[\"dato_account\"] = Subir_pacientes[\"dato_account\"] + \",\" + Subir_pacientes[\"RecordTypeId\"].astype(str)\n",
    "if (\"BillingCountry\" in Subir_pacientes.columns) == True:\n",
    "    Subir_pacientes[\"dato_account\"] = Subir_pacientes[\"dato_account\"] + \",\" + Subir_pacientes[\"BillingCountry\"].astype(str)\n",
    "if (\"Identification_Type__c\" in Subir_pacientes.columns) == True:\n",
    "    Subir_pacientes[\"dato_account\"] = Subir_pacientes[\"dato_account\"] + \",\" + Subir_pacientes[\"Identification_Type__c\"].astype(str)\n",
    "if (\"Pa_s_del_Paciente__c\" in Subir_pacientes.columns) == True:\n",
    "    Subir_pacientes[\"dato_account\"] = Subir_pacientes[\"dato_account\"] + \",\" + Subir_pacientes[\"Pa_s_del_Paciente__c\"].astype(str)\n",
    "if (\"Cuenta_validada__c\" in Subir_pacientes.columns) == True:\n",
    "    Subir_pacientes[\"dato_account\"] = Subir_pacientes[\"dato_account\"] + \",\" + Subir_pacientes[\"Cuenta_validada__c\"].astype(str)\n",
    "\n",
    "if (\"PersonEmail\" in Subir_pacientes.columns) == True:\n",
    "    Subir_pacientes[\"dato_account\"] = Subir_pacientes[\"dato_account\"] + \",\" + Subir_pacientes[\"PersonEmail\"].astype(str)\n",
    "else:\n",
    "    Subir_pacientes[\"dato_account\"] = Subir_pacientes[\"dato_account\"] + \",\" \n",
    "    \n",
    "if (\"PersonBirthdate\" in Subir_pacientes.columns) == True:\n",
    "    Subir_pacientes[\"dato_account\"] = Subir_pacientes[\"dato_account\"] + \",\" + Subir_pacientes[\"PersonBirthdate\"].astype(str) + \" 00:00:00\"\n",
    "else:\n",
    "    Subir_pacientes[\"dato_account\"] = Subir_pacientes[\"dato_account\"] + \",\"      \n",
    "if (\"HealthCloudGA__Gender__pc\" in Subir_pacientes.columns) == True:\n",
    "    Subir_pacientes[\"dato_account\"] = Subir_pacientes[\"dato_account\"] + \",\" + Subir_pacientes[\"HealthCloudGA__Gender__pc\"].astype(str)\n",
    "else:\n",
    "    Subir_pacientes[\"dato_account\"] = Subir_pacientes[\"dato_account\"] + \",\"  \n",
    "if (\"Phone\" in Subir_pacientes.columns) == True:\n",
    "    Subir_pacientes[\"dato_account\"] = Subir_pacientes[\"dato_account\"] + \",\" + Subir_pacientes[\"Phone\"].astype(str)\n",
    "else:\n",
    "    Subir_pacientes[\"dato_account\"] = Subir_pacientes[\"dato_account\"] + \",\"   \n",
    "if (\"BillingCity\" in Subir_pacientes.columns) == True:\n",
    "    Subir_pacientes[\"dato_account\"] = Subir_pacientes[\"dato_account\"] + \",\" + Subir_pacientes[\"BillingCity\"].astype(str)\n",
    "else:\n",
    "    Subir_pacientes[\"dato_account\"] = Subir_pacientes[\"dato_account\"] + \",\"  \n",
    "if (\"BillingState\" in Subir_pacientes.columns) == True:\n",
    "    Subir_pacientes[\"dato_account\"] = Subir_pacientes[\"dato_account\"] + \",\" + Subir_pacientes[\"BillingState\"].astype(str)\n",
    "else:\n",
    "    Subir_pacientes[\"dato_account\"] = Subir_pacientes[\"dato_account\"] + \",\"  \n",
    "if (\"BillingStreet\" in Subir_pacientes.columns) == True:\n",
    "    Subir_pacientes[\"dato_account\"] = Subir_pacientes[\"dato_account\"] + \",\" + Subir_pacientes[\"BillingStreet\"].astype(str) \n",
    "else:\n",
    "    Subir_pacientes[\"dato_account\"] = Subir_pacientes[\"dato_account\"] + \",\" \n",
    "if (\"PersonEmail\" in Subir_pacientes.columns) == True:\n",
    "    Subir_pacientes[\"dato_account\"] = Subir_pacientes[\"dato_account\"] + \",\" + Subir_pacientes[\"Email_Seteado__c\"].astype(str)\n",
    "else:\n",
    "    Subir_pacientes[\"dato_account\"] = Subir_pacientes[\"dato_account\"] + \",\"  \n",
    "\n",
    "#Subir_pacientes[\"dato_account\"] =  Subir_pacientes[\"dato_account\"] =\n",
    "\n",
    "Subir_pacientes[\"Id_creado\"] = Subir_pacientes[\"dato_account\"].apply(\n",
    "    lambda x: agregarPaciente(x)\n",
    ")\n",
    "\"\"\" Subir_pacientes[\"Contact_creado\"] = Subir_pacientes[\"dato_account\"].apply(\n",
    "    lambda x: agregarPaciente(x)\n",
    ") \"\"\"\n",
    "\n"
   ]
  },
  {
   "cell_type": "code",
   "execution_count": 917,
   "metadata": {},
   "outputs": [
    {
     "name": "stderr",
     "output_type": "stream",
     "text": [
      "C:\\Users\\jmartinez\\AppData\\Local\\Temp\\ipykernel_17012\\480693555.py:50: SettingWithCopyWarning: \n",
      "A value is trying to be set on a copy of a slice from a DataFrame.\n",
      "Try using .loc[row_indexer,col_indexer] = value instead\n",
      "\n",
      "See the caveats in the documentation: https://pandas.pydata.org/pandas-docs/stable/user_guide/indexing.html#returning-a-view-versus-a-copy\n",
      "  Subir_programas_empresa[\"Paciente__c\"] = Subir_programas_empresa[\"Id Account Paciente\"]\n",
      "C:\\Users\\jmartinez\\AppData\\Local\\Temp\\ipykernel_17012\\480693555.py:51: SettingWithCopyWarning: \n",
      "A value is trying to be set on a copy of a slice from a DataFrame.\n",
      "Try using .loc[row_indexer,col_indexer] = value instead\n",
      "\n",
      "See the caveats in the documentation: https://pandas.pydata.org/pandas-docs/stable/user_guide/indexing.html#returning-a-view-versus-a-copy\n",
      "  Subir_programas_empresa[\"Programas_por_Empresas__c\"] = VpacientePrograma\n",
      "C:\\Users\\jmartinez\\AppData\\Local\\Temp\\ipykernel_17012\\480693555.py:71: SettingWithCopyWarning: \n",
      "A value is trying to be set on a copy of a slice from a DataFrame.\n",
      "Try using .loc[row_indexer,col_indexer] = value instead\n",
      "\n",
      "See the caveats in the documentation: https://pandas.pydata.org/pandas-docs/stable/user_guide/indexing.html#returning-a-view-versus-a-copy\n",
      "  Subir_AccountContact[\"ContactId\"] = Subir_AccountContact[\"Id Contacto\"]\n",
      "C:\\Users\\jmartinez\\AppData\\Local\\Temp\\ipykernel_17012\\480693555.py:72: SettingWithCopyWarning: \n",
      "A value is trying to be set on a copy of a slice from a DataFrame.\n",
      "Try using .loc[row_indexer,col_indexer] = value instead\n",
      "\n",
      "See the caveats in the documentation: https://pandas.pydata.org/pandas-docs/stable/user_guide/indexing.html#returning-a-view-versus-a-copy\n",
      "  Subir_AccountContact[\"AccountId\"] = VempresaaAccount\n"
     ]
    }
   ],
   "source": [
    "Pacientes_con_id_no = Pacientes_con_id[Pacientes_con_id[\"RutEstaoNo\"] == False]\n",
    "Pacientes_con_id_no[\"Id Account Paciente\"] = Pacientes_con_id_no[\"rut\"].apply(\n",
    "    lambda y: traerId(y)\n",
    ")\n",
    "Pacientes_con_id_no[\"Id Contacto\"] = Pacientes_con_id_no[\"Id Account Paciente\"].apply(\n",
    "    lambda y: traerContact(y)\n",
    ")\n",
    "Pacientes_con_id_no.to_excel(\n",
    "    \"F:/Empresas SF/reportes/Pacientes_con_id_no.xlsx\", index=False\n",
    ")\n",
    "\n",
    "Pacientes_con_id_si = Pacientes_con_id[Pacientes_con_id[\"RutEstaoNo\"] == True]\n",
    "Pacientes_con_id_si.to_excel(\n",
    "    \"F:/Empresas SF/reportes/Pacientes_con_id_si.xlsx\", index=False\n",
    ")\n",
    "\n",
    "Pacientes_con_id_final = pd.concat(\n",
    "    [\n",
    "        Pacientes_con_id_si,\n",
    "        Pacientes_con_id_no,\n",
    "    ],\n",
    "    axis=0,\n",
    ")\n",
    "\n",
    "Pacientes_con_id_final.to_excel(\n",
    "    \"F:/Empresas SF/reportes/Pacientes_con_id_final.xlsx\", index=False\n",
    ")\n",
    "\n",
    "if campaña == \"Southbridge Plan Mujer\":\n",
    "    VpacientePrograma = \"a1WRN0000007YwD2AU\"\n",
    "    VempresaaAccount = \"001RN000003rwVaYAI\"\n",
    "    VempresaConvenio = \"a3yRN0000006sVTYAY\"\n",
    "if campaña == \"Southbridge\":\n",
    "    VpacientePrograma = \"a1W8c0000083pM9EAI\"\n",
    "    VempresaaAccount = \"0018c00002f3Ev2AAE\"\n",
    "    VempresaConvenio = \"a3yRN0000006sqYYAQ\"\n",
    "\n",
    "else:\n",
    "    VpacientePrograma = \"Buscarv\"\n",
    "    VempresaaAccount = \"Buscarv\"\n",
    "    VempresaConvenio = \"Buscarv\"\n",
    "\n",
    "\n",
    "Pacientes_con_id_final[\"esonoes\"] = Pacientes_con_id_final[\"rut\"].isin(\n",
    "    PacientesProgramas_PacientesSF[\"Rut_y\"]\n",
    ")\n",
    "Subir_programas_empresa = Pacientes_con_id_final[\n",
    "    Pacientes_con_id_final[\"esonoes\"] == False\n",
    "]\n",
    "Subir_programas_empresa[\"Paciente__c\"] = Subir_programas_empresa[\"Id Account Paciente\"]\n",
    "Subir_programas_empresa[\"Programas_por_Empresas__c\"] = VpacientePrograma\n",
    "Subir_programas_empresa = Subir_programas_empresa[\n",
    "    [\n",
    "        # \"empresa\",\n",
    "        # \"poliza\",\n",
    "        \"Paciente__c\",\n",
    "        \"Programas_por_Empresas__c\",\n",
    "    ]\n",
    "]\n",
    "Subir_programas_empresa.to_excel(\n",
    "    \"F:/Empresas SF/reportes/programas_empresa.xlsx\", index=False\n",
    ")\n",
    "\n",
    "\n",
    "Pacientes_con_id_final[\"esonoes1\"] = Pacientes_con_id_final[\"rut\"].isin(\n",
    "    AccountContact_PacientesSF[\"Rut_y\"]\n",
    ")\n",
    "Subir_AccountContact = Pacientes_con_id_final[\n",
    "    Pacientes_con_id_final[\"esonoes1\"] == False\n",
    "]\n",
    "Subir_AccountContact[\"ContactId\"] = Subir_AccountContact[\"Id Contacto\"]\n",
    "Subir_AccountContact[\"AccountId\"] = VempresaaAccount\n",
    "\n",
    "Subir_AccountContact = Subir_AccountContact[\n",
    "    [\n",
    "        # \"empresa\",\n",
    "        # \"poliza\",\n",
    "        \"ContactId\",\n",
    "        \"AccountId\",\n",
    "    ]\n",
    "]\n",
    "Subir_AccountContact.to_excel(\n",
    "    \"F:/Empresas SF/reportes/account_Contact.xlsx\", index=False\n",
    ")\n",
    "\n",
    "\n",
    "Pacientes_con_id_final[\"esonoes2\"] = Pacientes_con_id_final[\"rut\"].isin(\n",
    "    empresacontactoconvenio_PacientesSF[\"Rut_y\"]\n",
    ")\n",
    "Subir_empresacontactoconvenio = Pacientes_con_id_final[\n",
    "    Pacientes_con_id_final[\"esonoes2\"] == False\n",
    "]\n",
    "Subir_empresacontactoconvenio[\"Paciente__c\"] = Subir_empresacontactoconvenio[\n",
    "    \"Id Account Paciente\"\n",
    "]\n",
    "Subir_empresacontactoconvenio[\"N_Documento_Titular__c\"] = Subir_empresacontactoconvenio[\n",
    "    \"rutT\"\n",
    "]\n",
    "Subir_empresacontactoconvenio[\"Empresa__c\"] = VempresaConvenio\n",
    "\n",
    "Subir_empresacontactoconvenio = Subir_empresacontactoconvenio[\n",
    "    [\n",
    "        # \"empresa\",\n",
    "        # \"poliza\",\n",
    "        \"Paciente__c\",\n",
    "        \"N_Documento_Titular__c\",\n",
    "        \"Empresa__c\",\n",
    "    ]\n",
    "]\n",
    "Subir_empresacontactoconvenio.to_excel(\n",
    "    \"F:/Empresas SF/reportes/empresacontactoconvenio.xlsx\", index=False\n",
    ")"
   ]
  },
  {
   "cell_type": "code",
   "execution_count": null,
   "metadata": {},
   "outputs": [],
   "source": []
  },
  {
   "cell_type": "code",
   "execution_count": 918,
   "metadata": {},
   "outputs": [
    {
     "data": {
      "text/plain": [
       "'0038c00003HhmVJAAZ'"
      ]
     },
     "execution_count": 918,
     "metadata": {},
     "output_type": "execute_result"
    }
   ],
   "source": [
    "contactd = sf.Account.get('0018c00002lUyo0AAC')\n",
    "contactd[\"PersonContactId\"]\n"
   ]
  },
  {
   "cell_type": "code",
   "execution_count": 919,
   "metadata": {},
   "outputs": [
    {
     "name": "stdout",
     "output_type": "stream",
     "text": [
      "2024-01-16 17:11:06.368027\n"
     ]
    }
   ],
   "source": [
    "#contactd[\"PersonContactId\"]\n",
    "print (datetime.now())"
   ]
  },
  {
   "cell_type": "code",
   "execution_count": 920,
   "metadata": {},
   "outputs": [],
   "source": [
    "Subir_pacientes.to_excel(\"F:/Empresas SF/reportes/todes.xlsx\", index=False)"
   ]
  },
  {
   "cell_type": "markdown",
   "metadata": {},
   "source": [
    "query2 = \"select P_liza__c, Nombre_de_Empresa__c, Rut_Empresa__c, Empresa_Padre__r.Name, Empresa__r.name,Holding__c, Plan__c, Pais__c, Activo__c, Id from Datos_Empresa__c \"\n",
    "\n",
    "df2 = sf.smart_query(query2)\n",
    "df2.to_excel(\"F:/Empresas SF/reportes/empresas_nuevas.xlsx\", index=False)\n",
    "df2.head()"
   ]
  },
  {
   "cell_type": "markdown",
   "metadata": {},
   "source": [
    "Subir_pacientes.to_excel(\"F:/Empresas SF/reportes/111account.xlsx\", index=False)"
   ]
  },
  {
   "cell_type": "markdown",
   "metadata": {},
   "source": [
    "derty = Subir_pacientes[\"IdentificationId__pc\"]\n",
    "sf.Contact.create({\"IdentificationId__pc\": \"derty\", \"Email\": \"example@example.com\"})"
   ]
  },
  {
   "cell_type": "markdown",
   "metadata": {},
   "source": [
    "Subir_pacientes.head()"
   ]
  },
  {
   "cell_type": "markdown",
   "metadata": {},
   "source": [
    "Subir_pacientes.head()\n",
    "Subir_pacientes.to_excel(\"F:/Empresas SF/reportes/account__l.xlsx\", index=False)"
   ]
  },
  {
   "cell_type": "code",
   "execution_count": 921,
   "metadata": {},
   "outputs": [
    {
     "data": {
      "text/plain": [
       "' if campaña != \"MetLife\":\\n    pacientes_en_campaña = pd.merge(\\n        left=campaña_seleccionada,\\n        right=Pacientes_con_id,\\n        how=\"left\",\\n        left_on=\"Id Account\",\\n        right_on=\"Id Account Paciente\",\\n    )\\n    pacientes_en_campaña[\"Paciente__c\"] = \"Id Pacientes\"\\n    pacientes_en_campaña[\"Programas_por_Empresas__c\"] = \"Id Programas Por empresa\"\\n    pacientes_en_campaña.to_excel(\\n        \"F:/Empresas SF/reportes/campaña_empresa.xlsx\", index=False\\n    )\\n    campaña_en_pacientes = pd.merge(\\n        left=Pacientes_con_id,\\n        right=campaña_seleccionada,\\n        how=\"left\",\\n        left_on=\"Id Account Paciente\",\\n        right_on=\"Id Account\",\\n    )\\n    campaña_en_pacientes.to_excel(\\n        \"F:/Empresas SF/reportes/archivo_campaña.xlsx\", index=False\\n    )\\n '"
      ]
     },
     "execution_count": 921,
     "metadata": {},
     "output_type": "execute_result"
    }
   ],
   "source": [
    "\"\"\" if campaña != \"MetLife\":\n",
    "    pacientes_en_campaña = pd.merge(\n",
    "        left=campaña_seleccionada,\n",
    "        right=Pacientes_con_id,\n",
    "        how=\"left\",\n",
    "        left_on=\"Id Account\",\n",
    "        right_on=\"Id Account Paciente\",\n",
    "    )\n",
    "    pacientes_en_campaña[\"Paciente__c\"] = \"Id Pacientes\"\n",
    "    pacientes_en_campaña[\"Programas_por_Empresas__c\"] = \"Id Programas Por empresa\"\n",
    "    pacientes_en_campaña.to_excel(\n",
    "        \"F:/Empresas SF/reportes/campaña_empresa.xlsx\", index=False\n",
    "    )\n",
    "    campaña_en_pacientes = pd.merge(\n",
    "        left=Pacientes_con_id,\n",
    "        right=campaña_seleccionada,\n",
    "        how=\"left\",\n",
    "        left_on=\"Id Account Paciente\",\n",
    "        right_on=\"Id Account\",\n",
    "    )\n",
    "    campaña_en_pacientes.to_excel(\n",
    "        \"F:/Empresas SF/reportes/archivo_campaña.xlsx\", index=False\n",
    "    )\n",
    " \"\"\""
   ]
  },
  {
   "cell_type": "code",
   "execution_count": 922,
   "metadata": {},
   "outputs": [
    {
     "data": {
      "text/plain": [
       "' if campaña != \"MetLife1\":\\n    campaña_en_pacientes = pd.merge(\\n        left=Pacientes_con_id,\\n        right=campaña_seleccionada,\\n        how=\"left\",\\n        left_on=\"Id Account Paciente\",\\n        right_on=\"Id Account\",\\n    )\\n    if (\"poliza\" in campaña_en_pacientes.columns) == True:\\n        campaña_en_pacientes[\"poliza\"] = campaña_en_pacientes[\"poliza\"].astype(str)\\n\\n    campaña_en_pacientes = campaña_en_pacientes.rename(\\n        columns={\"Programas_por_Empresas__c\": \"programas por empresa\"}\\n    )\\n    campaña_en_pacientes[\"Paciente__c\"] = campaña_en_pacientes[\"Id Account Paciente\"]\\n    campaña_en_pacientes[\"Programas_por_Empresas__c\"] = campaña_en_pacientes[\\n        \"programas por empresa\"\\n    ]\\n    campaña_en_pacientes.to_excel(\\n        \"F:/Empresas SF/reportes/archivo_campaña2.xlsx\", index=False\\n    ) '"
      ]
     },
     "execution_count": 922,
     "metadata": {},
     "output_type": "execute_result"
    }
   ],
   "source": [
    "\"\"\" if campaña != \"MetLife1\":\n",
    "    campaña_en_pacientes = pd.merge(\n",
    "        left=Pacientes_con_id,\n",
    "        right=campaña_seleccionada,\n",
    "        how=\"left\",\n",
    "        left_on=\"Id Account Paciente\",\n",
    "        right_on=\"Id Account\",\n",
    "    )\n",
    "    if (\"poliza\" in campaña_en_pacientes.columns) == True:\n",
    "        campaña_en_pacientes[\"poliza\"] = campaña_en_pacientes[\"poliza\"].astype(str)\n",
    "\n",
    "    campaña_en_pacientes = campaña_en_pacientes.rename(\n",
    "        columns={\"Programas_por_Empresas__c\": \"programas por empresa\"}\n",
    "    )\n",
    "    campaña_en_pacientes[\"Paciente__c\"] = campaña_en_pacientes[\"Id Account Paciente\"]\n",
    "    campaña_en_pacientes[\"Programas_por_Empresas__c\"] = campaña_en_pacientes[\n",
    "        \"programas por empresa\"\n",
    "    ]\n",
    "    campaña_en_pacientes.to_excel(\n",
    "        \"F:/Empresas SF/reportes/archivo_campaña2.xlsx\", index=False\n",
    "    ) \"\"\""
   ]
  },
  {
   "cell_type": "code",
   "execution_count": 923,
   "metadata": {},
   "outputs": [],
   "source": [
    "# apprix_1 = Pacientes_SF.iloc[:790552,:]\n",
    "# apprix_2 = Pacientes_SF.iloc[790553:,:]\n",
    "# apprix_1.to_excel(\"F:/Empresas SF/reportes/Ruts1.xlsx\",index=False)\n",
    "# apprix_2.to_excel(\"F:/Empresas SF/reportes/Ruts2.xlsx\",index=False)"
   ]
  },
  {
   "cell_type": "code",
   "execution_count": 924,
   "metadata": {},
   "outputs": [
    {
     "ename": "NameError",
     "evalue": "name 'campaña_seleccionada' is not defined",
     "output_type": "error",
     "traceback": [
      "\u001b[1;31m---------------------------------------------------------------------------\u001b[0m",
      "\u001b[1;31mNameError\u001b[0m                                 Traceback (most recent call last)",
      "Cell \u001b[1;32mIn[924], line 3\u001b[0m\n\u001b[0;32m      1\u001b[0m campaña_en_pacientes2 \u001b[38;5;241m=\u001b[39m pd\u001b[38;5;241m.\u001b[39mmerge(\n\u001b[0;32m      2\u001b[0m     left\u001b[38;5;241m=\u001b[39mPacientes_con_id,\n\u001b[1;32m----> 3\u001b[0m     right\u001b[38;5;241m=\u001b[39m\u001b[43mcampaña_seleccionada\u001b[49m,\n\u001b[0;32m      4\u001b[0m     how\u001b[38;5;241m=\u001b[39m\u001b[38;5;124m\"\u001b[39m\u001b[38;5;124mleft\u001b[39m\u001b[38;5;124m\"\u001b[39m,\n\u001b[0;32m      5\u001b[0m     left_on\u001b[38;5;241m=\u001b[39m\u001b[38;5;124m\"\u001b[39m\u001b[38;5;124mId Account Paciente\u001b[39m\u001b[38;5;124m\"\u001b[39m,\n\u001b[0;32m      6\u001b[0m     right_on\u001b[38;5;241m=\u001b[39m\u001b[38;5;124m\"\u001b[39m\u001b[38;5;124mId Account\u001b[39m\u001b[38;5;124m\"\u001b[39m,\n\u001b[0;32m      7\u001b[0m )\n\u001b[0;32m      8\u001b[0m \u001b[38;5;28;01mif\u001b[39;00m (\u001b[38;5;124m\"\u001b[39m\u001b[38;5;124mpoliza\u001b[39m\u001b[38;5;124m\"\u001b[39m \u001b[38;5;129;01min\u001b[39;00m campaña_en_pacientes2\u001b[38;5;241m.\u001b[39mcolumns) \u001b[38;5;241m==\u001b[39m \u001b[38;5;28;01mTrue\u001b[39;00m:\n\u001b[0;32m      9\u001b[0m     campaña_en_pacientes2[\u001b[38;5;124m\"\u001b[39m\u001b[38;5;124mpoliza\u001b[39m\u001b[38;5;124m\"\u001b[39m] \u001b[38;5;241m=\u001b[39m campaña_en_pacientes2[\u001b[38;5;124m\"\u001b[39m\u001b[38;5;124mpoliza\u001b[39m\u001b[38;5;124m\"\u001b[39m]\u001b[38;5;241m.\u001b[39mastype(\u001b[38;5;28mstr\u001b[39m)\n",
      "\u001b[1;31mNameError\u001b[0m: name 'campaña_seleccionada' is not defined"
     ]
    }
   ],
   "source": [
    "campaña_en_pacientes2 = pd.merge(\n",
    "    left=Pacientes_con_id,\n",
    "    right=campaña_seleccionada,\n",
    "    how=\"left\",\n",
    "    left_on=\"Id Account Paciente\",\n",
    "    right_on=\"Id Account\",\n",
    ")\n",
    "if (\"poliza\" in campaña_en_pacientes2.columns) == True:\n",
    "    campaña_en_pacientes2[\"poliza\"] = campaña_en_pacientes2[\"poliza\"].astype(str)\n",
    "\n",
    "campaña_en_pacientes2 = campaña_en_pacientes2.rename(\n",
    "    columns={\"Programas_por_Empresas__c\": \"programas por empresa\"}\n",
    ")\n",
    "campaña_en_pacientes2[\"Paciente__c\"] = campaña_en_pacientes2[\"Id Account Paciente\"]\n",
    "campaña_en_pacientes2[\"Programas_por_Empresas__c\"] = campaña_en_pacientes2[\n",
    "    \"programas por empresa\"\n",
    "]\n",
    "\n",
    "\n",
    "\"\"\" campaña_en_pacientes2 = campaña_en_pacientes2[\n",
    "    (campaña_en_pacientes2[\"Programas_por_Empresas__c\"] == \"\")] \"\"\"\n",
    "campaña_en_pacientes2[\"Esta\"] = campaña_en_pacientes2[\"programas por empresa\"].isnull()\n",
    "campaña_en_pacientes2 = campaña_en_pacientes2[campaña_en_pacientes2[\"Esta\"]]\n",
    "campaña_en_pacientes2.to_excel(\n",
    "    \"F:/Empresas SF/reportes/archivo_campaña3.xlsx\", index=False\n",
    ")"
   ]
  },
  {
   "cell_type": "code",
   "execution_count": null,
   "metadata": {},
   "outputs": [],
   "source": [
    "campaña_en_pacientes2[\"rut\"].shape"
   ]
  },
  {
   "cell_type": "code",
   "execution_count": null,
   "metadata": {},
   "outputs": [],
   "source": [
    "# nuevosrutes = \"F:/Empresas SF/reportes/rut.xlsx\"\n",
    "# campaña = \"BCI Seguros Colectivos\"\n",
    "# Pais = \"Chile\"\n",
    "# Pais = \"México\"\n",
    "\n",
    "# rutes = pd.read_excel(nuevosrutes)\n",
    "rutes = pd.DataFrame(columns=[\"rut\"])\n",
    "rutes[\"rut\"] = Pacientes_Archivo[\"rut\"]\n",
    "rutes[\"rutT\"] = Pacientes_Archivo[\"rut2\"]\n",
    "rutes[\"Contratante\"] = Pacientes_Archivo[\"Contratante\"]\n",
    "# rutes[\"poliza\"] = Pacientes_Archivo[\"poliza\"]\n",
    "rutes.head()"
   ]
  },
  {
   "cell_type": "code",
   "execution_count": null,
   "metadata": {},
   "outputs": [],
   "source": [
    "rutes[\"rut\"] = rutes[\"rut\"].astype(str)\n",
    "rutes[\"rut\"] = rutes[\"rut\"].str.replace(\".\", \"\")\n",
    "rutes[\"rut\"] = rutes[\"rut\"].str.replace(\"-\", \"\")\n",
    "# aca se trabaja con el nuevo rut desde rut1 ojooooooo\n",
    "rutes[\"rut\"] = rutes[\"rut\"].str.upper()\n",
    "rutes[\"rut\"] = rutes[\"rut\"].str.strip()\n",
    "\n",
    "rutes[\"rutT\"] = rutes[\"rutT\"].astype(str)\n",
    "rutes[\"rutT\"] = rutes[\"rutT\"].str.replace(\".\", \"\")\n",
    "rutes[\"rutT\"] = rutes[\"rutT\"].str.replace(\"-\", \"\")\n",
    "# aca se trabaja con el nuevo rut desde rut1 ojooooooo\n",
    "rutes[\"rutT\"] = rutes[\"rutT\"].str.upper()\n",
    "rutes[\"rutT\"] = rutes[\"rutT\"].str.strip()\n",
    "\n",
    "\"\"\" rutes[\"poliza\"] = rutes[\"poliza\"].astype(str)\n",
    "rutes[\"poliza\"] = rutes[\"poliza\"].str.replace(\".\", \"\")\n",
    "rutes[\"poliza\"] = rutes[\"poliza\"].str.replace(\"-\", \"\")\n",
    "# aca se trabaja con el nuevo rut desde rut1 ojooooooo\n",
    "rutes[\"poliza\"] = rutes[\"poliza\"].str.strip() \"\"\"\n",
    "\n",
    "\n",
    "rutes.head()"
   ]
  },
  {
   "cell_type": "code",
   "execution_count": null,
   "metadata": {},
   "outputs": [],
   "source": [
    "# derty = rutes.to_numpy().transpose().tolist()\n",
    "\n",
    "\n",
    "Pacientes_SF2 = Pacientes_SF[[\"Rut\", \"Id Account Paciente\"]]"
   ]
  },
  {
   "cell_type": "code",
   "execution_count": null,
   "metadata": {},
   "outputs": [],
   "source": [
    "rutesi = pd.merge(\n",
    "    left=rutes,\n",
    "    right=Pacientes_SF2,\n",
    "    how=\"left\",\n",
    "    left_on=\"rut\",\n",
    "    right_on=\"Rut\",\n",
    ")\n",
    "rutesi.shape\n",
    "rutesi.to_excel(\"F:/Empresas SF/reportes/rutsyempresa.xlsx\", index=False)"
   ]
  },
  {
   "cell_type": "code",
   "execution_count": null,
   "metadata": {},
   "outputs": [],
   "source": [
    "rutesi.head()"
   ]
  },
  {
   "cell_type": "code",
   "execution_count": null,
   "metadata": {},
   "outputs": [],
   "source": [
    "rutesi_antg = pd.merge(\n",
    "    left=rutesi,\n",
    "    right=empresas_unidas,\n",
    "    how=\"left\",\n",
    "    left_on=\"Id Account Paciente\",\n",
    "    right_on=\"Id Account\",\n",
    ")"
   ]
  },
  {
   "cell_type": "code",
   "execution_count": null,
   "metadata": {},
   "outputs": [],
   "source": [
    "rutesi_antg.head()"
   ]
  },
  {
   "cell_type": "code",
   "execution_count": null,
   "metadata": {},
   "outputs": [],
   "source": [
    "# rutesi_antg .to_excel(\"F:/Empresas SF/reportes/ruts_empresas_antiguos.xlsx\", index=False)"
   ]
  },
  {
   "cell_type": "code",
   "execution_count": null,
   "metadata": {},
   "outputs": [],
   "source": [
    "import json\n",
    "import pandas as pd\n",
    "from simple_salesforce import Salesforce, format_soql, format_external_id\n",
    "from json import loads, dumps\n",
    "import simpler_sf\n",
    "\n",
    "simpler_sf.simple_salesforce()"
   ]
  },
  {
   "cell_type": "code",
   "execution_count": null,
   "metadata": {},
   "outputs": [],
   "source": [
    "with open(\"login.json\", \"r\") as j:\n",
    "    misDatos = json.load(j)\n",
    "sf = Salesforce(\n",
    "    username=misDatos[\"username\"],\n",
    "    password=misDatos[\"password\"],\n",
    "    security_token=misDatos[\"security_token\"],\n",
    ")"
   ]
  },
  {
   "cell_type": "code",
   "execution_count": null,
   "metadata": {},
   "outputs": [],
   "source": [
    "\"\"\" query = \"select Id, Account.Name, RutContact__c from AccountContactRelation \"\n",
    "\n",
    "df1 = sf.smart_query(query) \"\"\""
   ]
  },
  {
   "cell_type": "code",
   "execution_count": null,
   "metadata": {},
   "outputs": [],
   "source": [
    "# nuevosrutes = \"F:/Empresas SF/reportes/rut.xlsx\"\n",
    "# campaña = \"BCI Seguros Colectivos\"\n",
    "# Pais = \"Chile\"\n",
    "# Pais = \"México\"\n",
    "\n",
    "# rutes = pd.read_excel(nuevosrutes)\n",
    "# rutes = Subir_pacientes[\"rut\"]"
   ]
  },
  {
   "cell_type": "code",
   "execution_count": null,
   "metadata": {},
   "outputs": [],
   "source": [
    "\"\"\" df1.head() \"\"\""
   ]
  },
  {
   "cell_type": "code",
   "execution_count": null,
   "metadata": {},
   "outputs": [],
   "source": [
    "\"\"\" df1[\"rut\"] = df1[\"RutContact__c\"].astype(str)\n",
    "df1[\"rut\"] = df1[\"rut\"].str.replace(\".\", \"\")\n",
    "df1[\"rut\"] = df1[\"rut\"].str.replace(\n",
    "    \"-\", \"\"\n",
    ")  # aca se trabaja con el nuevo rut desde rut1 ojooooooo\n",
    "df1[\"rut\"] = df1[\"rut\"].str.upper()\n",
    "df1[\"rut\"] = df1[\"rut\"].str.strip()\n",
    "df1.head() \"\"\""
   ]
  },
  {
   "cell_type": "code",
   "execution_count": null,
   "metadata": {},
   "outputs": [],
   "source": [
    "\"\"\" rutes.head() \"\"\""
   ]
  },
  {
   "cell_type": "code",
   "execution_count": null,
   "metadata": {},
   "outputs": [],
   "source": [
    "\"\"\" rutesi = pd.merge(\n",
    "    left=rutes,\n",
    "    right=df1,\n",
    "    how=\"left\",\n",
    "    left_on=\"rut\",\n",
    "    right_on=\"rut\",\n",
    ") \"\"\""
   ]
  },
  {
   "cell_type": "code",
   "execution_count": null,
   "metadata": {},
   "outputs": [],
   "source": [
    "\"\"\" rutesi.to_excel(\"F:/Empresas SF/reportes/rutesnuevos_accountcontactrelation.xlsx\", index=False) \"\"\""
   ]
  },
  {
   "cell_type": "code",
   "execution_count": null,
   "metadata": {},
   "outputs": [],
   "source": [
    "\"\"\" df2[\"P_liza__c\"] = df2[\"P_liza__c\"].astype(str)\n",
    "df2[\"P_liza__c\"] = df2[\"P_liza__c\"].str.replace(\".\", \"\")\n",
    "df2[\"P_liza__c\"] = df2[\"P_liza__c\"].str.replace(\"-\", \"\")\n",
    "# aca se trabaja con el nuevo rut desde rut1 ojooooooo\n",
    "df2[\"P_liza__c\"] = df2[\"P_liza__c\"].str.upper()\n",
    "df2[\"P_liza__c\"] = df2[\"P_liza__c\"].str.strip() \"\"\""
   ]
  },
  {
   "cell_type": "code",
   "execution_count": null,
   "metadata": {},
   "outputs": [],
   "source": [
    "modelo_nuevo = pd.merge(\n",
    "    left=rutesi,\n",
    "    right=df2,\n",
    "    how=\"left\",\n",
    "    left_on=\"poliza\",\n",
    "    right_on=\"P_liza__c\",\n",
    ")\n",
    "modelo_nuevo.to_excel(\"F:/Empresas SF/reportes/modelo_nuevo.xlsx\", index=False)"
   ]
  },
  {
   "cell_type": "code",
   "execution_count": null,
   "metadata": {},
   "outputs": [],
   "source": [
    "modelo = pd.DataFrame()\n",
    "modelo = modelo_nuevo[[\"rutT\", \"Id Account Paciente\", \"Id\"]]"
   ]
  },
  {
   "cell_type": "code",
   "execution_count": null,
   "metadata": {},
   "outputs": [],
   "source": [
    "modelo.head()"
   ]
  }
 ],
 "metadata": {
  "kernelspec": {
   "display_name": "salesforce",
   "language": "python",
   "name": "python3"
  },
  "language_info": {
   "codemirror_mode": {
    "name": "ipython",
    "version": 3
   },
   "file_extension": ".py",
   "mimetype": "text/x-python",
   "name": "python",
   "nbconvert_exporter": "python",
   "pygments_lexer": "ipython3",
   "version": "3.8.16"
  },
  "orig_nbformat": 4,
  "vscode": {
   "interpreter": {
    "hash": "7fbccfb583f385d5cd7c75cc6ade03c09354727271e9200f47ca4e7fedb5381e"
   }
  }
 },
 "nbformat": 4,
 "nbformat_minor": 2
}
