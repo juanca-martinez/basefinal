{
 "cells": [
  {
   "cell_type": "code",
   "execution_count": null,
   "metadata": {
    "notebookRunGroups": {
     "groupValue": "1"
    }
   },
   "outputs": [],
   "source": [
    "from pathlib import Path\n",
    "import requests\n",
    "import pandas as pd\n",
    "import numpy as np\n",
    "from io import StringIO\n",
    "import shutil\n",
    "import datetime\n",
    "from datetime import datetime\n",
    "import re\n",
    "import json\n",
    "from pandas.api.types import is_numeric_dtype\n",
    "from simple_salesforce import Salesforce, format_soql, format_external_id\n",
    "from simple_salesforce.exceptions import SalesforceMalformedRequest\n",
    "import simpler_sf\n",
    "\n",
    "simpler_sf.simple_salesforce()"
   ]
  },
  {
   "cell_type": "code",
   "execution_count": null,
   "metadata": {
    "notebookRunGroups": {
     "groupValue": "1"
    }
   },
   "outputs": [],
   "source": [
    "with open(\"login.json\", \"r\") as j:\n",
    "    misDatos = json.load(j)"
   ]
  },
  {
   "cell_type": "code",
   "execution_count": null,
   "metadata": {
    "notebookRunGroups": {
     "groupValue": "1"
    }
   },
   "outputs": [],
   "source": [
    "# para smart query\n",
    "\"\"\" sf = simple_salesforce.Salesforce(\n",
    "    username=misDatos[\"username\"],\n",
    "    password=misDatos[\"password\"],\n",
    "    security_token=misDatos[\"security_token\"],\n",
    ")\n",
    " \"\"\"\n",
    "# para lo demas\n",
    "sf = Salesforce(\n",
    "    username=misDatos[\"username\"],\n",
    "    password=misDatos[\"password\"],\n",
    "    security_token=misDatos[\"security_token\"],\n",
    ")\n",
    "# paramiko.util.log_to_file(\"paramiko.log\")\n",
    "regex = re.compile(r\"([A-Za-z0-9]+[.-_])*[A-Za-z0-9]+@[A-Za-z0-9-]+(\\.[A-Z|a-z]{2,})+\")"
   ]
  },
  {
   "cell_type": "markdown",
   "metadata": {},
   "source": [
    "Descarga de empresas en sistema\n"
   ]
  },
  {
   "cell_type": "code",
   "execution_count": null,
   "metadata": {
    "notebookRunGroups": {
     "groupValue": "1"
    }
   },
   "outputs": [],
   "source": [
    "llamadaEmpresaAntiguas = \"SELECT Id,Empresa__r.Id, Empresa__r.Name, Empresa__r.Holding__c, Empresa__r.Campa_a__c, Empresa__r.Id_Empresa__c, Empresa__r.Empleador__c, Empresa__r.poliza__c, Empresa__r.RUT_Empresa__c, Empresa__r.Corredor__c,Empresa__r.Padre_Empresa__c, Name FROM Programas_por_Empresas__c WHERE Empresa__r.Padre_Empresa__c = false\"\n",
    "vllamadaEmpresa = sf.smart_query(llamadaEmpresaAntiguas)\n",
    "vllamadaEmpresa.to_excel(\"F:/Empresas SF/reportes/empresas_Antiguas.xlsx\", index=False)\n",
    "vllamadaEmpresa.head()"
   ]
  },
  {
   "cell_type": "markdown",
   "metadata": {},
   "source": [
    "vllamadaEmpresa.shape\n"
   ]
  },
  {
   "cell_type": "code",
   "execution_count": null,
   "metadata": {
    "notebookRunGroups": {
     "groupValue": "1"
    }
   },
   "outputs": [],
   "source": [
    "# Recuperar empresas ID de salesforce desde Account\n",
    "results = sf.query_all(\n",
    "    \"\"\"\n",
    "  SELECT Id, name, Holding__c ,Campa_a__c,Id_Empresa__c,Empleador__c,poliza__c,RUT_Empresa__c  FROM account where ispersonaccount = false  AND Nueva_Estructura__c = False\n",
    "    \"\"\"\n",
    ")\n",
    "Empresas_SF = pd.DataFrame(results[\"records\"])\n",
    "Empresas_SF = Empresas_SF[\n",
    "    [\n",
    "        \"Id\",\n",
    "        \"Name\",\n",
    "        \"Holding__c\",\n",
    "        \"Campa_a__c\",\n",
    "        \"Id_Empresa__c\",\n",
    "        \"Empleador__c\",\n",
    "        \"poliza__c\",\n",
    "        \"RUT_Empresa__c\",\n",
    "    ]\n",
    "]\n",
    "Empresas_SF.shape"
   ]
  },
  {
   "cell_type": "code",
   "execution_count": null,
   "metadata": {
    "notebookRunGroups": {
     "groupValue": "1"
    }
   },
   "outputs": [],
   "source": [
    "# buscar empresas desde Programas_por_Empresas__c datos de empresas\n",
    "results = sf.query_all(\n",
    "    \"\"\"\n",
    "   select Id,Empresa__c, Empresa_Padre__c,Nombre_Empresa__c, Name  from Programas_por_Empresas__c \n",
    "    \"\"\"\n",
    ")\n",
    "Programas_por_empresa_SF = pd.DataFrame(results[\"records\"])\n",
    "\n",
    "Programas_por_empresa_SF = Programas_por_empresa_SF[\n",
    "    [\"Id\", \"Empresa__c\", \"Empresa_Padre__c\", \"Nombre_Empresa__c\", \"Name\"]\n",
    "]\n",
    "Programas_por_empresa_SF.shape"
   ]
  },
  {
   "cell_type": "code",
   "execution_count": null,
   "metadata": {
    "notebookRunGroups": {
     "groupValue": "1"
    }
   },
   "outputs": [],
   "source": [
    "# Union de Programas Empresa y empresas\n",
    "Programas_empresas = pd.merge(\n",
    "    left=Empresas_SF,\n",
    "    right=Programas_por_empresa_SF,\n",
    "    how=\"left\",\n",
    "    left_on=\"Id\",\n",
    "    right_on=\"Empresa__c\",\n",
    ")\n",
    "Programas_empresas = Programas_empresas.rename(\n",
    "    columns={\n",
    "        \"Id_x\": \"Id Account Empresa\",\n",
    "        \"Name_x\": \"Nombre Empresa\",\n",
    "        \"Holding__c\": \"Holding\",\n",
    "        \"Campa_a__c\": \"Campaña\",\n",
    "        \"Empleador__c\": \"Empleador\",\n",
    "        \"poliza__c\": \"Poliza\",\n",
    "        \"RUT_Empresa__c\": \"Rut Empresa\",\n",
    "        \"Id_y\": \"Programas_por_Empresas__c\",\n",
    "        \"Id_Empresa__c\": \"Codigo EMP\",\n",
    "        \"Name_y\": \"Codigo A\",\n",
    "    }\n",
    ")\n",
    "Programas_empresas = Programas_empresas[\n",
    "    [\n",
    "        \"Id Account Empresa\",\n",
    "        \"Nombre Empresa\",\n",
    "        \"Holding\",\n",
    "        \"Campaña\",\n",
    "        \"Empleador\",\n",
    "        \"Poliza\",\n",
    "        \"Rut Empresa\",\n",
    "        \"Programas_por_Empresas__c\",\n",
    "        \"Codigo EMP\",\n",
    "        \"Codigo A\",\n",
    "    ]\n",
    "]\n",
    "\n",
    "Programas_empresas.shape"
   ]
  },
  {
   "cell_type": "code",
   "execution_count": null,
   "metadata": {
    "notebookRunGroups": {
     "groupValue": "1"
    }
   },
   "outputs": [],
   "source": [
    "Programas_empresas.to_excel(\"F:/Empresas SF/reportes/empresas.xlsx\", index=False)"
   ]
  },
  {
   "cell_type": "code",
   "execution_count": null,
   "metadata": {
    "notebookRunGroups": {
     "groupValue": "1"
    }
   },
   "outputs": [],
   "source": [
    "query2 = \"select P_liza__c, Nombre_de_Empresa__c,Identificador__c, Rut_Empresa__c, Empresa_Padre__r.Name, Empresa__r.name,Holding__c, Plan__c, Pais__c, Activo__c, Id from Datos_Empresa__c \"\n",
    "\n",
    "df2 = sf.smart_query(query2)\n",
    "df2[\"LLave\"] = df2[\"Rut_Empresa__c\"].str.upper().str.replace(\"-\", \"\") + df2[\"P_liza__c\"]\n",
    "df2[\"dato\"] = 1\n",
    "df2.to_excel(\"F:/Empresas SF/reportes/empresas_nuevas.xlsx\", index=False)\n",
    "df2.head()"
   ]
  },
  {
   "attachments": {},
   "cell_type": "markdown",
   "metadata": {},
   "source": [
    "fin empresas y comienzo de rescate de pacientes\n"
   ]
  },
  {
   "cell_type": "code",
   "execution_count": null,
   "metadata": {
    "notebookRunGroups": {
     "groupValue": "1"
    }
   },
   "outputs": [],
   "source": [
    "# CArga de PAcientes\n",
    "results = sf.query_all(\n",
    "    \"\"\"\n",
    "    select Id, IdentificationId__pc,Name, Identification_Type__c, Ocupaci_n__c,  PersonTitle ,PersonDepartment,HealthCloudGA__Gender__pc,Phone,PersonContactId  from Account where ispersonaccount = True \n",
    "   \"\"\"\n",
    ")\n",
    "Pacientes_SF = pd.DataFrame(results[\"records\"])\n",
    "\n",
    "Pacientes_SF = Pacientes_SF[\n",
    "    [\n",
    "        \"Id\",\n",
    "        \"IdentificationId__pc\",\n",
    "        \"Name\",\n",
    "        \"Identification_Type__c\",\n",
    "        \"Ocupaci_n__c\",\n",
    "        \"PersonTitle\",\n",
    "        \"PersonDepartment\",\n",
    "        \"HealthCloudGA__Gender__pc\",\n",
    "        \"Phone\",\n",
    "        \"PersonContactId\",\n",
    "    ]\n",
    "]\n",
    "Pacientes_SF = Pacientes_SF.rename(\n",
    "    columns={\n",
    "        \"Id\": \"Id Account Paciente\",\n",
    "        \"IdentificationId__pc\": \"Rut\",\n",
    "        \"Name\": \"Nombre\",\n",
    "        \"Ocupaci_n__c\": \"Ocupacion\",\n",
    "        \"PersonTitle\": \"Cargo\",\n",
    "        \"PersonDepartment\": \"Departamento\",\n",
    "        \"HealthCloudGA__Gender__pc\": \"Sexo\",\n",
    "        \"Phone\": \"Telefono\",\n",
    "        \"Identification_Type__c\": \"Tipo de Documento\",\n",
    "        \"PersonContactId\": \"Id Contacto\",\n",
    "    }\n",
    ")\n",
    "Pacientes_SF.shape"
   ]
  },
  {
   "cell_type": "code",
   "execution_count": null,
   "metadata": {
    "notebookRunGroups": {
     "groupValue": "1"
    }
   },
   "outputs": [],
   "source": [
    "def siPrimerCero(y):\n",
    "    if len(y) <= 7:\n",
    "        return \"NONE\"\n",
    "    if y[0] == \"0\":\n",
    "        y = y[1:]\n",
    "    return y"
   ]
  },
  {
   "cell_type": "code",
   "execution_count": null,
   "metadata": {
    "notebookRunGroups": {
     "groupValue": "1"
    }
   },
   "outputs": [],
   "source": [
    "Pacientes_SF[\"Rut\"] = Pacientes_SF[\"Rut\"].astype(str)\n",
    "Pacientes_SF[\"Rut\"] = Pacientes_SF[\"Rut\"].str.upper()\n",
    "Pacientes_SF[\"Rut\"] = Pacientes_SF[\"Rut\"].str.replace(\"-\", \"\")\n",
    "Pacientes_SF[\"Rut\"] = Pacientes_SF[\"Rut\"].str.replace(\"–\", \"\")\n",
    "Pacientes_SF[\"Rut\"] = Pacientes_SF[\"Rut\"].astype(str)\n",
    "Pacientes_SF[\"Rut\"] = Pacientes_SF[\"Rut\"].str.replace(\".\", \"\")\n",
    "Pacientes_SF[\"Rut\"] = Pacientes_SF[\"Rut\"].apply(lambda y: siPrimerCero(y))\n",
    "Pacientes_SF[\"Rut\"] = Pacientes_SF[\"Rut\"].str.strip()"
   ]
  },
  {
   "cell_type": "code",
   "execution_count": null,
   "metadata": {
    "notebookRunGroups": {
     "groupValue": "1"
    }
   },
   "outputs": [],
   "source": [
    "Pacientes_Nones1 = Pacientes_SF[(Pacientes_SF[\"Rut\"] == \"NONE\")]\n",
    "Pacientes_SF = Pacientes_SF[(Pacientes_SF[\"Rut\"] != \"NONE\")]\n",
    "Pacientes_Nones1.to_excel(\"F:/Empresas SF/reportes/NONE1.xlsx\", index=False)"
   ]
  },
  {
   "attachments": {},
   "cell_type": "markdown",
   "metadata": {},
   "source": [
    "Aca se comienzan a unir las relaciones de pacientes y empresas ya creadas.\n"
   ]
  },
  {
   "cell_type": "markdown",
   "metadata": {
    "notebookRunGroups": {
     "groupValue": "1"
    }
   },
   "source": [
    "# buscar empresas desde Paciente_Programas\\_\\_c relaciones de empresas con pacientes\n",
    "\n",
    "results = sf.query_all(\n",
    "\"\"\"\n",
    "select Id,Paciente**c, Programas_por_Empresas**c,padre**c from Paciente_Programas**c  \n",
    " \"\"\"\n",
    ")\n",
    "Paciente_Programas_SF = pd.DataFrame(results[\"records\"])\n",
    "\n",
    "Paciente_Programas_SF = Paciente_Programas_SF[\n",
    "[\"Id\", \"Paciente__c\", \"Programas_por_Empresas__c\", \"padre__c\"]\n",
    "]\n",
    "Paciente_Programas_SF = Paciente_Programas_SF.rename(\n",
    "columns={\n",
    "\"Id\": \"Id Pacientes_Programas**c\",\n",
    "\"Paciente**c\": \"Id Account\",\n",
    "\"Programas_por_Empresas**c\": \"Programas_por_Empresas**c\",\n",
    "\"padre\\_\\_c\": \"Nombre Campaña\",\n",
    "}\n",
    ")\n",
    "Paciente_Programas_SF.shape\n"
   ]
  },
  {
   "cell_type": "markdown",
   "metadata": {
    "notebookRunGroups": {
     "groupValue": "1"
    }
   },
   "source": [
    "# Union de Pacientes Programas y Programas por empresa\n",
    "\n",
    "empresas_unidas = pd.merge(\n",
    "left=Paciente_Programas_SF,\n",
    "right=Programas_empresas,\n",
    "how=\"left\",\n",
    "left_on=\"Programas_por_Empresas**c\",\n",
    "right_on=\"Programas_por_Empresas**c\",\n",
    ")\n",
    "empresas_unidas.shape\n"
   ]
  },
  {
   "attachments": {},
   "cell_type": "markdown",
   "metadata": {},
   "source": [
    "Carga de Archivo carga\n"
   ]
  },
  {
   "cell_type": "code",
   "execution_count": 431,
   "metadata": {
    "notebookRunGroups": {
     "groupValue": "2"
    }
   },
   "outputs": [
    {
     "data": {
      "text/html": [
       "<div>\n",
       "<style scoped>\n",
       "    .dataframe tbody tr th:only-of-type {\n",
       "        vertical-align: middle;\n",
       "    }\n",
       "\n",
       "    .dataframe tbody tr th {\n",
       "        vertical-align: top;\n",
       "    }\n",
       "\n",
       "    .dataframe thead th {\n",
       "        text-align: right;\n",
       "    }\n",
       "</style>\n",
       "<table border=\"1\" class=\"dataframe\">\n",
       "  <thead>\n",
       "    <tr style=\"text-align: right;\">\n",
       "      <th></th>\n",
       "      <th>poliza</th>\n",
       "      <th>rut2</th>\n",
       "      <th>rut1</th>\n",
       "      <th>sexo</th>\n",
       "      <th>ParentesCONYUGE</th>\n",
       "      <th>nombres</th>\n",
       "      <th>apellidos</th>\n",
       "      <th>nacimiento</th>\n",
       "      <th>email</th>\n",
       "      <th>rutE</th>\n",
       "      <th>empleador</th>\n",
       "      <th>Llave</th>\n",
       "    </tr>\n",
       "  </thead>\n",
       "  <tbody>\n",
       "    <tr>\n",
       "      <th>0</th>\n",
       "      <td>Construmart</td>\n",
       "      <td>17758460-6</td>\n",
       "      <td>17758460-6</td>\n",
       "      <td>M</td>\n",
       "      <td>TITULAR</td>\n",
       "      <td>Bruno Andres</td>\n",
       "      <td>Muñoz Tapia</td>\n",
       "      <td>1990-12-27</td>\n",
       "      <td>BRUNO.MT@OUTLOOK.COM</td>\n",
       "      <td>Titular</td>\n",
       "      <td>0</td>\n",
       "      <td>177584606177584606</td>\n",
       "    </tr>\n",
       "    <tr>\n",
       "      <th>1</th>\n",
       "      <td>Construmart</td>\n",
       "      <td>15319845-4</td>\n",
       "      <td>15319845-4</td>\n",
       "      <td>M</td>\n",
       "      <td>Titular</td>\n",
       "      <td>Cristian Alberto</td>\n",
       "      <td>Jimenez Chavez</td>\n",
       "      <td>NaT</td>\n",
       "      <td>CRISTIANJIMENEZ1978@GMAIL.COM</td>\n",
       "      <td>Titular</td>\n",
       "      <td>1</td>\n",
       "      <td>153198454153198454</td>\n",
       "    </tr>\n",
       "    <tr>\n",
       "      <th>2</th>\n",
       "      <td>Construmart</td>\n",
       "      <td>27081007-1</td>\n",
       "      <td>27081007-1</td>\n",
       "      <td>F</td>\n",
       "      <td>Titular</td>\n",
       "      <td>Dagmar Josefina</td>\n",
       "      <td>Rocca .</td>\n",
       "      <td>NaT</td>\n",
       "      <td>DAGMARROCCA2023@GMAIL.COM</td>\n",
       "      <td>Titular</td>\n",
       "      <td>1</td>\n",
       "      <td>270810071270810071</td>\n",
       "    </tr>\n",
       "    <tr>\n",
       "      <th>3</th>\n",
       "      <td>Construmart</td>\n",
       "      <td>20670038-6</td>\n",
       "      <td>20670038-6</td>\n",
       "      <td>M</td>\n",
       "      <td>Titular</td>\n",
       "      <td>Diego Andres</td>\n",
       "      <td>Lazcano De La Fuente</td>\n",
       "      <td>NaT</td>\n",
       "      <td>DLAZCANO105@GMAIL.COM</td>\n",
       "      <td>Titular</td>\n",
       "      <td>1</td>\n",
       "      <td>206700386206700386</td>\n",
       "    </tr>\n",
       "    <tr>\n",
       "      <th>4</th>\n",
       "      <td>Construmart</td>\n",
       "      <td>11929874-1</td>\n",
       "      <td>11929874-1</td>\n",
       "      <td>M</td>\n",
       "      <td>TITULAR</td>\n",
       "      <td>Eduardo Alex</td>\n",
       "      <td>Alfaro Diaz</td>\n",
       "      <td>1971-10-04</td>\n",
       "      <td>NaN</td>\n",
       "      <td>Titular</td>\n",
       "      <td>0</td>\n",
       "      <td>119298741119298741</td>\n",
       "    </tr>\n",
       "  </tbody>\n",
       "</table>\n",
       "</div>"
      ],
      "text/plain": [
       "        poliza        rut2        rut1 sexo ParentesCONYUGE           nombres  \\\n",
       "0  Construmart  17758460-6  17758460-6    M         TITULAR      Bruno Andres   \n",
       "1  Construmart  15319845-4  15319845-4    M         Titular  Cristian Alberto   \n",
       "2  Construmart  27081007-1  27081007-1    F         Titular   Dagmar Josefina   \n",
       "3  Construmart  20670038-6  20670038-6    M         Titular      Diego Andres   \n",
       "4  Construmart  11929874-1  11929874-1    M         TITULAR      Eduardo Alex   \n",
       "\n",
       "              apellidos nacimiento                          email     rutE  \\\n",
       "0           Muñoz Tapia 1990-12-27           BRUNO.MT@OUTLOOK.COM  Titular   \n",
       "1        Jimenez Chavez        NaT  CRISTIANJIMENEZ1978@GMAIL.COM  Titular   \n",
       "2               Rocca .        NaT      DAGMARROCCA2023@GMAIL.COM  Titular   \n",
       "3  Lazcano De La Fuente        NaT          DLAZCANO105@GMAIL.COM  Titular   \n",
       "4           Alfaro Diaz 1971-10-04                            NaN  Titular   \n",
       "\n",
       "   empleador               Llave  \n",
       "0          0  177584606177584606  \n",
       "1          1  153198454153198454  \n",
       "2          1  270810071270810071  \n",
       "3          1  206700386206700386  \n",
       "4          0  119298741119298741  "
      ]
     },
     "execution_count": 431,
     "metadata": {},
     "output_type": "execute_result"
    }
   ],
   "source": [
    "nuevos = \"F:/Empresas SF/reportes/carga.xlsx\"\n",
    "campaña = \"Construmart\"\n",
    "Pais = \"Chile\"\n",
    "# Pais = \"México\"\n",
    "\n",
    "Pacientes_Archivo = pd.read_excel(nuevos)\n",
    "# OJO se copia rut1 a rut le saca el guoion\n",
    "Pacientes_Archivo.head(5)"
   ]
  },
  {
   "cell_type": "code",
   "execution_count": 432,
   "metadata": {
    "notebookRunGroups": {
     "groupValue": "2"
    }
   },
   "outputs": [
    {
     "data": {
      "text/plain": [
       "(173, 12)"
      ]
     },
     "execution_count": 432,
     "metadata": {},
     "output_type": "execute_result"
    }
   ],
   "source": [
    "Pacientes_Archivo.shape"
   ]
  },
  {
   "cell_type": "code",
   "execution_count": 433,
   "metadata": {
    "notebookRunGroups": {
     "groupValue": "2"
    }
   },
   "outputs": [],
   "source": [
    "Pacientes_IDrut = Pacientes_SF[\n",
    "    [\n",
    "        \"Rut\",\n",
    "        \"Id Account Paciente\",\n",
    "        \"Id Contacto\",\n",
    "    ]\n",
    "]"
   ]
  },
  {
   "cell_type": "code",
   "execution_count": 434,
   "metadata": {
    "notebookRunGroups": {
     "groupValue": "2"
    }
   },
   "outputs": [
    {
     "name": "stderr",
     "output_type": "stream",
     "text": [
      "C:\\Users\\jmartinez\\AppData\\Local\\Temp\\ipykernel_2104\\2565835100.py:5: FutureWarning: The default value of regex will change from True to False in a future version. In addition, single character regular expressions will *not* be treated as literal strings when regex=True.\n",
      "  Pacientes_Archivo[\"rut\"] = Pacientes_Archivo[\"rut\"].str.replace(\".\", \"\")\n",
      "C:\\Users\\jmartinez\\AppData\\Local\\Temp\\ipykernel_2104\\2565835100.py:19: FutureWarning: The default value of regex will change from True to False in a future version. In addition, single character regular expressions will *not* be treated as literal strings when regex=True.\n",
      "  Pacientes_Archivo[\"rutE\"] = Pacientes_Archivo[\"rutE\"].str.replace(\".\", \"\")\n"
     ]
    },
    {
     "data": {
      "text/plain": [
       "(173, 13)"
      ]
     },
     "execution_count": 434,
     "metadata": {},
     "output_type": "execute_result"
    }
   ],
   "source": [
    "Pacientes_Archivo[\"rut\"] = Pacientes_Archivo[\"rut1\"].astype(str)\n",
    "Pacientes_Archivo[\"rut\"] = Pacientes_Archivo[\"rut\"].str.replace(\"-\", \"\")\n",
    "Pacientes_Archivo[\"rut\"] = Pacientes_Archivo[\"rut\"].str.replace(\"–\", \"\")\n",
    "Pacientes_Archivo[\"rut\"] = Pacientes_Archivo[\"rut\"].astype(str)\n",
    "Pacientes_Archivo[\"rut\"] = Pacientes_Archivo[\"rut\"].str.replace(\".\", \"\")\n",
    "Pacientes_Archivo[\"rut\"] = Pacientes_Archivo[\"rut\"].str.replace(\" \", \"\")\n",
    "Pacientes_Archivo[\"rut\"] = Pacientes_Archivo[\"rut\"].str.upper()\n",
    "Pacientes_Archivo[\"rut\"] = Pacientes_Archivo[\"rut\"].str.strip()\n",
    "\n",
    "Pacientes_Archivo[\"poliza\"] = Pacientes_Archivo[\"poliza\"].astype(str)\n",
    "Pacientes_Archivo[\"poliza\"] = Pacientes_Archivo[\"poliza\"].str.upper()\n",
    "Pacientes_Archivo[\"poliza\"] = Pacientes_Archivo[\"poliza\"].str.strip()\n",
    "Pacientes_Archivo.shape\n",
    "\n",
    "Pacientes_Archivo[\"rutE\"] = Pacientes_Archivo[\"rutE\"].astype(str)\n",
    "Pacientes_Archivo[\"rutE\"] = Pacientes_Archivo[\"rutE\"].str.upper()\n",
    "Pacientes_Archivo[\"rutE\"] = Pacientes_Archivo[\"rutE\"].str.replace(\"-\", \"\")\n",
    "Pacientes_Archivo[\"rutE\"] = Pacientes_Archivo[\"rutE\"].str.replace(\"–\", \"\")\n",
    "Pacientes_Archivo[\"rutE\"] = Pacientes_Archivo[\"rutE\"].str.replace(\".\", \"\")\n",
    "Pacientes_Archivo[\"rutE\"] = Pacientes_Archivo[\"rutE\"].str.strip()\n",
    "Pacientes_Archivo.shape"
   ]
  },
  {
   "cell_type": "code",
   "execution_count": 435,
   "metadata": {
    "notebookRunGroups": {
     "groupValue": "2"
    }
   },
   "outputs": [
    {
     "name": "stderr",
     "output_type": "stream",
     "text": [
      "C:\\Users\\jmartinez\\AppData\\Local\\Temp\\ipykernel_2104\\2296516763.py:5: FutureWarning: The default value of regex will change from True to False in a future version. In addition, single character regular expressions will *not* be treated as literal strings when regex=True.\n",
      "  Pacientes_Archivo[\"rutT\"] = Pacientes_Archivo[\"rutT\"].str.replace(\".\", \"\")\n"
     ]
    },
    {
     "data": {
      "text/plain": [
       "(173, 14)"
      ]
     },
     "execution_count": 435,
     "metadata": {},
     "output_type": "execute_result"
    }
   ],
   "source": [
    "Pacientes_Archivo[\"rutT\"] = Pacientes_Archivo[\"rut2\"].astype(str)\n",
    "Pacientes_Archivo[\"rutT\"] = Pacientes_Archivo[\"rutT\"].str.replace(\"-\", \"\")\n",
    "Pacientes_Archivo[\"rutT\"] = Pacientes_Archivo[\"rutT\"].str.replace(\"–\", \"\")\n",
    "Pacientes_Archivo[\"rutT\"] = Pacientes_Archivo[\"rutT\"].astype(str)\n",
    "Pacientes_Archivo[\"rutT\"] = Pacientes_Archivo[\"rutT\"].str.replace(\".\", \"\")\n",
    "Pacientes_Archivo[\"rut\"] = Pacientes_Archivo[\"rut\"].str.replace(\" \", \"\")\n",
    "Pacientes_Archivo[\"rutT\"] = Pacientes_Archivo[\"rutT\"].str.upper()\n",
    "Pacientes_Archivo[\"rutT\"] = Pacientes_Archivo[\"rutT\"].str.strip()\n",
    "Pacientes_Archivo.shape"
   ]
  },
  {
   "cell_type": "code",
   "execution_count": 436,
   "metadata": {
    "notebookRunGroups": {
     "groupValue": "2"
    }
   },
   "outputs": [
    {
     "name": "stderr",
     "output_type": "stream",
     "text": [
      "C:\\Users\\jmartinez\\AppData\\Local\\Temp\\ipykernel_2104\\1579381385.py:3: FutureWarning: The default value of regex will change from True to False in a future version. In addition, single character regular expressions will *not* be treated as literal strings when regex=True.\n",
      "  Pacientes_Archivo[\"nombres\"] = Pacientes_Archivo[\"nombres\"].str.replace(\".\", \"\")\n",
      "C:\\Users\\jmartinez\\AppData\\Local\\Temp\\ipykernel_2104\\1579381385.py:9: FutureWarning: The default value of regex will change from True to False in a future version. In addition, single character regular expressions will *not* be treated as literal strings when regex=True.\n",
      "  Pacientes_Archivo[\"apellidos\"] = Pacientes_Archivo[\"apellidos\"].str.replace(\".\", \"\")\n"
     ]
    }
   ],
   "source": [
    "if (\"nombres\" in Pacientes_Archivo.columns) == True:\n",
    "    Pacientes_Archivo[\"nombres\"] = Pacientes_Archivo[\"nombres\"].str.replace(\",\", \"\")\n",
    "    Pacientes_Archivo[\"nombres\"] = Pacientes_Archivo[\"nombres\"].str.replace(\".\", \"\")\n",
    "    Pacientes_Archivo[\"nombres\"] = Pacientes_Archivo[\"nombres\"].str.replace(\"-\", \"\")\n",
    "    Pacientes_Archivo[\"nombres\"] = Pacientes_Archivo[\"nombres\"].str.title()\n",
    "    Pacientes_Archivo[\"nombres\"] = Pacientes_Archivo[\"nombres\"].str.strip()\n",
    "    # Pacientes_Archivo[\"empresa\"] = Pacientes_Archivo[\"empresa\"].str.title()\n",
    "    Pacientes_Archivo[\"apellidos\"] = Pacientes_Archivo[\"apellidos\"].str.replace(\",\", \"\")\n",
    "    Pacientes_Archivo[\"apellidos\"] = Pacientes_Archivo[\"apellidos\"].str.replace(\".\", \"\")\n",
    "    Pacientes_Archivo[\"apellidos\"] = Pacientes_Archivo[\"apellidos\"].str.replace(\"-\", \"\")\n",
    "    Pacientes_Archivo[\"apellidos\"] = Pacientes_Archivo[\"apellidos\"].str.title()\n",
    "    Pacientes_Archivo[\"apellidos\"] = Pacientes_Archivo[\"apellidos\"].str.strip()"
   ]
  },
  {
   "cell_type": "code",
   "execution_count": 437,
   "metadata": {
    "notebookRunGroups": {
     "groupValue": "2"
    }
   },
   "outputs": [
    {
     "data": {
      "text/html": [
       "<div>\n",
       "<style scoped>\n",
       "    .dataframe tbody tr th:only-of-type {\n",
       "        vertical-align: middle;\n",
       "    }\n",
       "\n",
       "    .dataframe tbody tr th {\n",
       "        vertical-align: top;\n",
       "    }\n",
       "\n",
       "    .dataframe thead th {\n",
       "        text-align: right;\n",
       "    }\n",
       "</style>\n",
       "<table border=\"1\" class=\"dataframe\">\n",
       "  <thead>\n",
       "    <tr style=\"text-align: right;\">\n",
       "      <th></th>\n",
       "      <th>poliza</th>\n",
       "      <th>rut2</th>\n",
       "      <th>rut1</th>\n",
       "      <th>sexo</th>\n",
       "      <th>ParentesCONYUGE</th>\n",
       "      <th>nombres</th>\n",
       "      <th>apellidos</th>\n",
       "      <th>nacimiento</th>\n",
       "      <th>email</th>\n",
       "      <th>rutE</th>\n",
       "      <th>empleador</th>\n",
       "      <th>Llave</th>\n",
       "      <th>rut</th>\n",
       "      <th>rutT</th>\n",
       "    </tr>\n",
       "  </thead>\n",
       "  <tbody>\n",
       "    <tr>\n",
       "      <th>0</th>\n",
       "      <td>CONSTRUMART</td>\n",
       "      <td>17758460-6</td>\n",
       "      <td>17758460-6</td>\n",
       "      <td>M</td>\n",
       "      <td>TITULAR</td>\n",
       "      <td>Bruno Andres</td>\n",
       "      <td>Muñoz Tapia</td>\n",
       "      <td>1990-12-27</td>\n",
       "      <td>BRUNO.MT@OUTLOOK.COM</td>\n",
       "      <td>TITULAR</td>\n",
       "      <td>0</td>\n",
       "      <td>177584606177584606</td>\n",
       "      <td>177584606</td>\n",
       "      <td>177584606</td>\n",
       "    </tr>\n",
       "    <tr>\n",
       "      <th>1</th>\n",
       "      <td>CONSTRUMART</td>\n",
       "      <td>15319845-4</td>\n",
       "      <td>15319845-4</td>\n",
       "      <td>M</td>\n",
       "      <td>Titular</td>\n",
       "      <td>Cristian Alberto</td>\n",
       "      <td>Jimenez Chavez</td>\n",
       "      <td>NaT</td>\n",
       "      <td>CRISTIANJIMENEZ1978@GMAIL.COM</td>\n",
       "      <td>TITULAR</td>\n",
       "      <td>1</td>\n",
       "      <td>153198454153198454</td>\n",
       "      <td>153198454</td>\n",
       "      <td>153198454</td>\n",
       "    </tr>\n",
       "    <tr>\n",
       "      <th>2</th>\n",
       "      <td>CONSTRUMART</td>\n",
       "      <td>27081007-1</td>\n",
       "      <td>27081007-1</td>\n",
       "      <td>F</td>\n",
       "      <td>Titular</td>\n",
       "      <td>Dagmar Josefina</td>\n",
       "      <td>Rocca</td>\n",
       "      <td>NaT</td>\n",
       "      <td>DAGMARROCCA2023@GMAIL.COM</td>\n",
       "      <td>TITULAR</td>\n",
       "      <td>1</td>\n",
       "      <td>270810071270810071</td>\n",
       "      <td>270810071</td>\n",
       "      <td>270810071</td>\n",
       "    </tr>\n",
       "    <tr>\n",
       "      <th>3</th>\n",
       "      <td>CONSTRUMART</td>\n",
       "      <td>20670038-6</td>\n",
       "      <td>20670038-6</td>\n",
       "      <td>M</td>\n",
       "      <td>Titular</td>\n",
       "      <td>Diego Andres</td>\n",
       "      <td>Lazcano De La Fuente</td>\n",
       "      <td>NaT</td>\n",
       "      <td>DLAZCANO105@GMAIL.COM</td>\n",
       "      <td>TITULAR</td>\n",
       "      <td>1</td>\n",
       "      <td>206700386206700386</td>\n",
       "      <td>206700386</td>\n",
       "      <td>206700386</td>\n",
       "    </tr>\n",
       "    <tr>\n",
       "      <th>4</th>\n",
       "      <td>CONSTRUMART</td>\n",
       "      <td>11929874-1</td>\n",
       "      <td>11929874-1</td>\n",
       "      <td>M</td>\n",
       "      <td>TITULAR</td>\n",
       "      <td>Eduardo Alex</td>\n",
       "      <td>Alfaro Diaz</td>\n",
       "      <td>1971-10-04</td>\n",
       "      <td>NaN</td>\n",
       "      <td>TITULAR</td>\n",
       "      <td>0</td>\n",
       "      <td>119298741119298741</td>\n",
       "      <td>119298741</td>\n",
       "      <td>119298741</td>\n",
       "    </tr>\n",
       "    <tr>\n",
       "      <th>...</th>\n",
       "      <td>...</td>\n",
       "      <td>...</td>\n",
       "      <td>...</td>\n",
       "      <td>...</td>\n",
       "      <td>...</td>\n",
       "      <td>...</td>\n",
       "      <td>...</td>\n",
       "      <td>...</td>\n",
       "      <td>...</td>\n",
       "      <td>...</td>\n",
       "      <td>...</td>\n",
       "      <td>...</td>\n",
       "      <td>...</td>\n",
       "      <td>...</td>\n",
       "    </tr>\n",
       "    <tr>\n",
       "      <th>168</th>\n",
       "      <td>CONSTRUMART</td>\n",
       "      <td>19289620-7</td>\n",
       "      <td>19289620-7</td>\n",
       "      <td>f</td>\n",
       "      <td>TITULAR</td>\n",
       "      <td>Michelle Constanza</td>\n",
       "      <td>Cabañas Soto</td>\n",
       "      <td>NaT</td>\n",
       "      <td>constanzacabanass@gmail.com</td>\n",
       "      <td>TITULAR</td>\n",
       "      <td>1</td>\n",
       "      <td>192896207192896207</td>\n",
       "      <td>192896207</td>\n",
       "      <td>192896207</td>\n",
       "    </tr>\n",
       "    <tr>\n",
       "      <th>169</th>\n",
       "      <td>CONSTRUMART</td>\n",
       "      <td>22884798-4</td>\n",
       "      <td>22884798-4</td>\n",
       "      <td>M</td>\n",
       "      <td>TITULAR</td>\n",
       "      <td>Carlos</td>\n",
       "      <td>Cruz Vega</td>\n",
       "      <td>NaT</td>\n",
       "      <td>Carlos200013leo@gmail.com</td>\n",
       "      <td>TITULAR</td>\n",
       "      <td>1</td>\n",
       "      <td>228847984228847984</td>\n",
       "      <td>228847984</td>\n",
       "      <td>228847984</td>\n",
       "    </tr>\n",
       "    <tr>\n",
       "      <th>170</th>\n",
       "      <td>CONSTRUMART</td>\n",
       "      <td>20882698-0</td>\n",
       "      <td>20882698-0</td>\n",
       "      <td>f</td>\n",
       "      <td>TITULAR</td>\n",
       "      <td>Valentina Alejandra</td>\n",
       "      <td>Villalón Ferrada</td>\n",
       "      <td>NaT</td>\n",
       "      <td>valentina.villalon2001@gmail.com</td>\n",
       "      <td>TITULAR</td>\n",
       "      <td>1</td>\n",
       "      <td>208826980208826980</td>\n",
       "      <td>208826980</td>\n",
       "      <td>208826980</td>\n",
       "    </tr>\n",
       "    <tr>\n",
       "      <th>171</th>\n",
       "      <td>CONSTRUMART</td>\n",
       "      <td>19501148-6</td>\n",
       "      <td>19501148-6</td>\n",
       "      <td>f</td>\n",
       "      <td>TITULAR</td>\n",
       "      <td>Allison Belén</td>\n",
       "      <td>Pacheco Acosta</td>\n",
       "      <td>NaT</td>\n",
       "      <td>allison.vitalia@gmail.com</td>\n",
       "      <td>TITULAR</td>\n",
       "      <td>1</td>\n",
       "      <td>195011486195011486</td>\n",
       "      <td>195011486</td>\n",
       "      <td>195011486</td>\n",
       "    </tr>\n",
       "    <tr>\n",
       "      <th>172</th>\n",
       "      <td>CONSTRUMART</td>\n",
       "      <td>16212903-1</td>\n",
       "      <td>16212903-1</td>\n",
       "      <td>M</td>\n",
       "      <td>TITULAR</td>\n",
       "      <td>José Alfredo</td>\n",
       "      <td>Flores Carreño</td>\n",
       "      <td>NaT</td>\n",
       "      <td>jose.flores.c@alumnos.ipleones.cl</td>\n",
       "      <td>TITULAR</td>\n",
       "      <td>1</td>\n",
       "      <td>162129031162129031</td>\n",
       "      <td>162129031</td>\n",
       "      <td>162129031</td>\n",
       "    </tr>\n",
       "  </tbody>\n",
       "</table>\n",
       "<p>173 rows × 14 columns</p>\n",
       "</div>"
      ],
      "text/plain": [
       "          poliza        rut2        rut1 sexo ParentesCONYUGE  \\\n",
       "0    CONSTRUMART  17758460-6  17758460-6    M         TITULAR   \n",
       "1    CONSTRUMART  15319845-4  15319845-4    M         Titular   \n",
       "2    CONSTRUMART  27081007-1  27081007-1    F         Titular   \n",
       "3    CONSTRUMART  20670038-6  20670038-6    M         Titular   \n",
       "4    CONSTRUMART  11929874-1  11929874-1    M         TITULAR   \n",
       "..           ...         ...         ...  ...             ...   \n",
       "168  CONSTRUMART  19289620-7  19289620-7    f         TITULAR   \n",
       "169  CONSTRUMART  22884798-4  22884798-4    M         TITULAR   \n",
       "170  CONSTRUMART  20882698-0  20882698-0    f         TITULAR   \n",
       "171  CONSTRUMART  19501148-6  19501148-6    f         TITULAR   \n",
       "172  CONSTRUMART  16212903-1  16212903-1    M         TITULAR   \n",
       "\n",
       "                 nombres             apellidos nacimiento  \\\n",
       "0           Bruno Andres           Muñoz Tapia 1990-12-27   \n",
       "1       Cristian Alberto        Jimenez Chavez        NaT   \n",
       "2        Dagmar Josefina                 Rocca        NaT   \n",
       "3           Diego Andres  Lazcano De La Fuente        NaT   \n",
       "4           Eduardo Alex           Alfaro Diaz 1971-10-04   \n",
       "..                   ...                   ...        ...   \n",
       "168   Michelle Constanza          Cabañas Soto        NaT   \n",
       "169               Carlos             Cruz Vega        NaT   \n",
       "170  Valentina Alejandra      Villalón Ferrada        NaT   \n",
       "171        Allison Belén        Pacheco Acosta        NaT   \n",
       "172         José Alfredo        Flores Carreño        NaT   \n",
       "\n",
       "                                 email     rutE  empleador  \\\n",
       "0                 BRUNO.MT@OUTLOOK.COM  TITULAR          0   \n",
       "1        CRISTIANJIMENEZ1978@GMAIL.COM  TITULAR          1   \n",
       "2            DAGMARROCCA2023@GMAIL.COM  TITULAR          1   \n",
       "3                DLAZCANO105@GMAIL.COM  TITULAR          1   \n",
       "4                                  NaN  TITULAR          0   \n",
       "..                                 ...      ...        ...   \n",
       "168        constanzacabanass@gmail.com  TITULAR          1   \n",
       "169          Carlos200013leo@gmail.com  TITULAR          1   \n",
       "170   valentina.villalon2001@gmail.com  TITULAR          1   \n",
       "171          allison.vitalia@gmail.com  TITULAR          1   \n",
       "172  jose.flores.c@alumnos.ipleones.cl  TITULAR          1   \n",
       "\n",
       "                  Llave        rut       rutT  \n",
       "0    177584606177584606  177584606  177584606  \n",
       "1    153198454153198454  153198454  153198454  \n",
       "2    270810071270810071  270810071  270810071  \n",
       "3    206700386206700386  206700386  206700386  \n",
       "4    119298741119298741  119298741  119298741  \n",
       "..                  ...        ...        ...  \n",
       "168  192896207192896207  192896207  192896207  \n",
       "169  228847984228847984  228847984  228847984  \n",
       "170  208826980208826980  208826980  208826980  \n",
       "171  195011486195011486  195011486  195011486  \n",
       "172  162129031162129031  162129031  162129031  \n",
       "\n",
       "[173 rows x 14 columns]"
      ]
     },
     "execution_count": 437,
     "metadata": {},
     "output_type": "execute_result"
    }
   ],
   "source": [
    "Pacientes_Archivo[\"rut\"] = Pacientes_Archivo[\"rut\"].apply(lambda y: siPrimerCero(y))\n",
    "Pacientes_Archivo[\"rutT\"] = Pacientes_Archivo[\"rutT\"].apply(lambda y: siPrimerCero(y))\n",
    "Pacientes_Archivo\n",
    "\n",
    "# Pacientes_Nones = Pacientes_Archivo[(Pacientes_Archivo[\"rut\"] == \"NONE\") | (Pacientes_Archivo[\"rutT\"] == \"NONE\")]\n",
    "# Pacientes_Archivo = Pacientes_Archivo[(Pacientes_Archivo[\"rut\"] != \"NONE\") | (Pacientes_Archivo[\"rutT\"] != \"NONE\")]"
   ]
  },
  {
   "cell_type": "code",
   "execution_count": null,
   "metadata": {},
   "outputs": [],
   "source": [
    "# Pacientes_Archivo.to_excel(\"F:/Empresas SF/reportes/Pacientes_Archivo22.xlsx\", index=False)"
   ]
  },
  {
   "cell_type": "code",
   "execution_count": 438,
   "metadata": {
    "notebookRunGroups": {
     "groupValue": "2"
    }
   },
   "outputs": [],
   "source": [
    "Pacientes_Archivo = Pacientes_Archivo[(Pacientes_Archivo[\"rut\"] != \"NONE\")]\n",
    "Pacientes_Archivo = Pacientes_Archivo[(Pacientes_Archivo[\"rutT\"] != \"NONE\")]\n",
    "# | (Pacientes_Archivo[\"rutT\"] != \"NONE\")\n"
   ]
  },
  {
   "cell_type": "markdown",
   "metadata": {},
   "source": [
    "PAcientes Programas\n"
   ]
  },
  {
   "cell_type": "code",
   "execution_count": 439,
   "metadata": {
    "notebookRunGroups": {
     "groupValue": "2"
    }
   },
   "outputs": [
    {
     "name": "stderr",
     "output_type": "stream",
     "text": [
      "  0%|          | 0/1 [00:00<?, ?it/s]\n"
     ]
    },
    {
     "ename": "SalesforceMalformedRequest",
     "evalue": "Malformed request https://careassistance.my.salesforce.com/services/async/42.0/job. Response content: {'exceptionCode': 'InvalidSessionId', 'exceptionMessage': 'Invalid session id'}",
     "output_type": "error",
     "traceback": [
      "\u001b[1;31m---------------------------------------------------------------------------\u001b[0m",
      "\u001b[1;31mSalesforceMalformedRequest\u001b[0m                Traceback (most recent call last)",
      "Cell \u001b[1;32mIn[439], line 6\u001b[0m\n\u001b[0;32m      1\u001b[0m query_pacientePrograma \u001b[38;5;241m=\u001b[39m (\n\u001b[0;32m      2\u001b[0m     \u001b[38;5;124m\"\u001b[39m\u001b[38;5;124mSELECT Paciente__c,Programas_por_Empresas__r.Empresa__c,Paciente__r.IdentificationId__pc,Id from Paciente_Programas__c where padre__c =  \u001b[39m\u001b[38;5;124m'\u001b[39m\u001b[38;5;124m\"\u001b[39m\n\u001b[0;32m      3\u001b[0m     \u001b[38;5;241m+\u001b[39m campaña\n\u001b[0;32m      4\u001b[0m     \u001b[38;5;241m+\u001b[39m \u001b[38;5;124m\"\u001b[39m\u001b[38;5;124m'\u001b[39m\u001b[38;5;124m\"\u001b[39m\n\u001b[0;32m      5\u001b[0m )\n\u001b[1;32m----> 6\u001b[0m pacientePrograma \u001b[38;5;241m=\u001b[39m \u001b[43msf\u001b[49m\u001b[38;5;241;43m.\u001b[39;49m\u001b[43msmart_query\u001b[49m\u001b[43m(\u001b[49m\u001b[43mquery_pacientePrograma\u001b[49m\u001b[43m)\u001b[49m\n\u001b[0;32m      7\u001b[0m pacientePrograma\u001b[38;5;241m.\u001b[39mhead()\n",
      "File \u001b[1;32mc:\\Users\\jmartinez\\.conda\\envs\\salesforce\\lib\\site-packages\\simpler_sf\\_simpler_sf.py:162\u001b[0m, in \u001b[0;36m_smart_query\u001b[1;34m(self, query, show_progress, filter_field, filter_values, not_in)\u001b[0m\n\u001b[0;32m    160\u001b[0m dfs \u001b[38;5;241m=\u001b[39m []\n\u001b[0;32m    161\u001b[0m \u001b[38;5;28;01mfor\u001b[39;00m sub_query \u001b[38;5;129;01min\u001b[39;00m tqdm(sub_queries):\n\u001b[1;32m--> 162\u001b[0m     results \u001b[38;5;241m=\u001b[39m _unnest_query_output(\u001b[38;5;28;43mobject\u001b[39;49m\u001b[38;5;241;43m.\u001b[39;49m\u001b[43mquery\u001b[49m\u001b[43m(\u001b[49m\u001b[43msub_query\u001b[49m\u001b[43m)\u001b[49m)    \n\u001b[0;32m    163\u001b[0m     partial_df \u001b[38;5;241m=\u001b[39m pd\u001b[38;5;241m.\u001b[39mDataFrame(results)\n\u001b[0;32m    164\u001b[0m     dfs\u001b[38;5;241m.\u001b[39mappend(partial_df)\n",
      "File \u001b[1;32mc:\\Users\\jmartinez\\.conda\\envs\\salesforce\\lib\\site-packages\\simple_salesforce\\bulk.py:297\u001b[0m, in \u001b[0;36mSFBulkType.query\u001b[1;34m(self, data, lazy_operation)\u001b[0m\n\u001b[0;32m    295\u001b[0m \u001b[38;5;28;01mdef\u001b[39;00m \u001b[38;5;21mquery\u001b[39m(\u001b[38;5;28mself\u001b[39m, data, lazy_operation\u001b[38;5;241m=\u001b[39m\u001b[38;5;28;01mFalse\u001b[39;00m):\n\u001b[0;32m    296\u001b[0m \u001b[38;5;250m    \u001b[39m\u001b[38;5;124;03m\"\"\" bulk query \"\"\"\u001b[39;00m\n\u001b[1;32m--> 297\u001b[0m     results \u001b[38;5;241m=\u001b[39m \u001b[38;5;28;43mself\u001b[39;49m\u001b[38;5;241;43m.\u001b[39;49m\u001b[43m_bulk_operation\u001b[49m\u001b[43m(\u001b[49m\u001b[43moperation\u001b[49m\u001b[38;5;241;43m=\u001b[39;49m\u001b[38;5;124;43m'\u001b[39;49m\u001b[38;5;124;43mquery\u001b[39;49m\u001b[38;5;124;43m'\u001b[39;49m\u001b[43m,\u001b[49m\u001b[43m \u001b[49m\u001b[43mdata\u001b[49m\u001b[38;5;241;43m=\u001b[39;49m\u001b[43mdata\u001b[49m\u001b[43m)\u001b[49m\n\u001b[0;32m    299\u001b[0m     \u001b[38;5;28;01mif\u001b[39;00m lazy_operation:\n\u001b[0;32m    300\u001b[0m         \u001b[38;5;28;01mreturn\u001b[39;00m results\n",
      "File \u001b[1;32mc:\\Users\\jmartinez\\.conda\\envs\\salesforce\\lib\\site-packages\\simple_salesforce\\bulk.py:234\u001b[0m, in \u001b[0;36mSFBulkType._bulk_operation\u001b[1;34m(self, operation, data, use_serial, external_id_field, batch_size, wait)\u001b[0m\n\u001b[0;32m    231\u001b[0m         \u001b[38;5;28mself\u001b[39m\u001b[38;5;241m.\u001b[39m_close_job(job_id\u001b[38;5;241m=\u001b[39mjob[\u001b[38;5;124m'\u001b[39m\u001b[38;5;124mid\u001b[39m\u001b[38;5;124m'\u001b[39m])\n\u001b[0;32m    233\u001b[0m \u001b[38;5;28;01melif\u001b[39;00m operation \u001b[38;5;129;01min\u001b[39;00m (\u001b[38;5;124m'\u001b[39m\u001b[38;5;124mquery\u001b[39m\u001b[38;5;124m'\u001b[39m, \u001b[38;5;124m'\u001b[39m\u001b[38;5;124mqueryAll\u001b[39m\u001b[38;5;124m'\u001b[39m):\n\u001b[1;32m--> 234\u001b[0m     job \u001b[38;5;241m=\u001b[39m \u001b[38;5;28;43mself\u001b[39;49m\u001b[38;5;241;43m.\u001b[39;49m\u001b[43m_create_job\u001b[49m\u001b[43m(\u001b[49m\u001b[43moperation\u001b[49m\u001b[38;5;241;43m=\u001b[39;49m\u001b[43moperation\u001b[49m\u001b[43m,\u001b[49m\n\u001b[0;32m    235\u001b[0m \u001b[43m                           \u001b[49m\u001b[43muse_serial\u001b[49m\u001b[38;5;241;43m=\u001b[39;49m\u001b[43muse_serial\u001b[49m\u001b[43m,\u001b[49m\n\u001b[0;32m    236\u001b[0m \u001b[43m                           \u001b[49m\u001b[43mexternal_id_field\u001b[49m\u001b[38;5;241;43m=\u001b[39;49m\u001b[43mexternal_id_field\u001b[49m\u001b[43m)\u001b[49m\n\u001b[0;32m    238\u001b[0m     batch \u001b[38;5;241m=\u001b[39m \u001b[38;5;28mself\u001b[39m\u001b[38;5;241m.\u001b[39m_add_batch(job_id\u001b[38;5;241m=\u001b[39mjob[\u001b[38;5;124m'\u001b[39m\u001b[38;5;124mid\u001b[39m\u001b[38;5;124m'\u001b[39m], data\u001b[38;5;241m=\u001b[39mdata,\n\u001b[0;32m    239\u001b[0m                             operation\u001b[38;5;241m=\u001b[39moperation)\n\u001b[0;32m    241\u001b[0m     \u001b[38;5;28mself\u001b[39m\u001b[38;5;241m.\u001b[39m_close_job(job_id\u001b[38;5;241m=\u001b[39mjob[\u001b[38;5;124m'\u001b[39m\u001b[38;5;124mid\u001b[39m\u001b[38;5;124m'\u001b[39m])\n",
      "File \u001b[1;32mc:\\Users\\jmartinez\\.conda\\envs\\salesforce\\lib\\site-packages\\simple_salesforce\\bulk.py:102\u001b[0m, in \u001b[0;36mSFBulkType._create_job\u001b[1;34m(self, operation, use_serial, external_id_field)\u001b[0m\n\u001b[0;32m     98\u001b[0m     payload[\u001b[38;5;124m'\u001b[39m\u001b[38;5;124mexternalIdFieldName\u001b[39m\u001b[38;5;124m'\u001b[39m] \u001b[38;5;241m=\u001b[39m external_id_field\n\u001b[0;32m    100\u001b[0m url \u001b[38;5;241m=\u001b[39m \u001b[38;5;124m\"\u001b[39m\u001b[38;5;132;01m{}\u001b[39;00m\u001b[38;5;132;01m{}\u001b[39;00m\u001b[38;5;124m\"\u001b[39m\u001b[38;5;241m.\u001b[39mformat(\u001b[38;5;28mself\u001b[39m\u001b[38;5;241m.\u001b[39mbulk_url, \u001b[38;5;124m'\u001b[39m\u001b[38;5;124mjob\u001b[39m\u001b[38;5;124m'\u001b[39m)\n\u001b[1;32m--> 102\u001b[0m result \u001b[38;5;241m=\u001b[39m \u001b[43mcall_salesforce\u001b[49m\u001b[43m(\u001b[49m\u001b[43murl\u001b[49m\u001b[38;5;241;43m=\u001b[39;49m\u001b[43murl\u001b[49m\u001b[43m,\u001b[49m\u001b[43m \u001b[49m\u001b[43mmethod\u001b[49m\u001b[38;5;241;43m=\u001b[39;49m\u001b[38;5;124;43m'\u001b[39;49m\u001b[38;5;124;43mPOST\u001b[39;49m\u001b[38;5;124;43m'\u001b[39;49m\u001b[43m,\u001b[49m\u001b[43m \u001b[49m\u001b[43msession\u001b[49m\u001b[38;5;241;43m=\u001b[39;49m\u001b[38;5;28;43mself\u001b[39;49m\u001b[38;5;241;43m.\u001b[39;49m\u001b[43msession\u001b[49m\u001b[43m,\u001b[49m\n\u001b[0;32m    103\u001b[0m \u001b[43m                         \u001b[49m\u001b[43mheaders\u001b[49m\u001b[38;5;241;43m=\u001b[39;49m\u001b[38;5;28;43mself\u001b[39;49m\u001b[38;5;241;43m.\u001b[39;49m\u001b[43mheaders\u001b[49m\u001b[43m,\u001b[49m\n\u001b[0;32m    104\u001b[0m \u001b[43m                         \u001b[49m\u001b[43mdata\u001b[49m\u001b[38;5;241;43m=\u001b[39;49m\u001b[43mjson\u001b[49m\u001b[38;5;241;43m.\u001b[39;49m\u001b[43mdumps\u001b[49m\u001b[43m(\u001b[49m\u001b[43mpayload\u001b[49m\u001b[43m,\u001b[49m\u001b[43m \u001b[49m\u001b[43mallow_nan\u001b[49m\u001b[38;5;241;43m=\u001b[39;49m\u001b[38;5;28;43;01mFalse\u001b[39;49;00m\u001b[43m)\u001b[49m\u001b[43m)\u001b[49m\n\u001b[0;32m    105\u001b[0m \u001b[38;5;28;01mreturn\u001b[39;00m result\u001b[38;5;241m.\u001b[39mjson(object_pairs_hook\u001b[38;5;241m=\u001b[39mOrderedDict)\n",
      "File \u001b[1;32mc:\\Users\\jmartinez\\.conda\\envs\\salesforce\\lib\\site-packages\\simple_salesforce\\util.py:82\u001b[0m, in \u001b[0;36mcall_salesforce\u001b[1;34m(url, method, session, headers, **kwargs)\u001b[0m\n\u001b[0;32m     79\u001b[0m result \u001b[38;5;241m=\u001b[39m session\u001b[38;5;241m.\u001b[39mrequest(method, url, headers\u001b[38;5;241m=\u001b[39mheaders, \u001b[38;5;241m*\u001b[39m\u001b[38;5;241m*\u001b[39mkwargs)\n\u001b[0;32m     81\u001b[0m \u001b[38;5;28;01mif\u001b[39;00m result\u001b[38;5;241m.\u001b[39mstatus_code \u001b[38;5;241m>\u001b[39m\u001b[38;5;241m=\u001b[39m \u001b[38;5;241m300\u001b[39m:\n\u001b[1;32m---> 82\u001b[0m     \u001b[43mexception_handler\u001b[49m\u001b[43m(\u001b[49m\u001b[43mresult\u001b[49m\u001b[43m)\u001b[49m\n\u001b[0;32m     84\u001b[0m \u001b[38;5;28;01mreturn\u001b[39;00m result\n",
      "File \u001b[1;32mc:\\Users\\jmartinez\\.conda\\envs\\salesforce\\lib\\site-packages\\simple_salesforce\\util.py:68\u001b[0m, in \u001b[0;36mexception_handler\u001b[1;34m(result, name)\u001b[0m\n\u001b[0;32m     59\u001b[0m exc_map \u001b[38;5;241m=\u001b[39m {\n\u001b[0;32m     60\u001b[0m     \u001b[38;5;241m300\u001b[39m: SalesforceMoreThanOneRecord,\n\u001b[0;32m     61\u001b[0m     \u001b[38;5;241m400\u001b[39m: SalesforceMalformedRequest,\n\u001b[1;32m   (...)\u001b[0m\n\u001b[0;32m     64\u001b[0m     \u001b[38;5;241m404\u001b[39m: SalesforceResourceNotFound,\n\u001b[0;32m     65\u001b[0m }\n\u001b[0;32m     66\u001b[0m exc_cls \u001b[38;5;241m=\u001b[39m exc_map\u001b[38;5;241m.\u001b[39mget(result\u001b[38;5;241m.\u001b[39mstatus_code, SalesforceGeneralError)\n\u001b[1;32m---> 68\u001b[0m \u001b[38;5;28;01mraise\u001b[39;00m exc_cls(result\u001b[38;5;241m.\u001b[39murl, result\u001b[38;5;241m.\u001b[39mstatus_code, name, response_content)\n",
      "\u001b[1;31mSalesforceMalformedRequest\u001b[0m: Malformed request https://careassistance.my.salesforce.com/services/async/42.0/job. Response content: {'exceptionCode': 'InvalidSessionId', 'exceptionMessage': 'Invalid session id'}"
     ]
    }
   ],
   "source": [
    "query_pacientePrograma = (\n",
    "    \"SELECT Paciente__c,Programas_por_Empresas__r.Empresa__c,Paciente__r.IdentificationId__pc,Id from Paciente_Programas__c where padre__c =  '\"\n",
    "    + campaña\n",
    "    + \"'\"\n",
    ")\n",
    "pacientePrograma = sf.smart_query(query_pacientePrograma)\n",
    "pacientePrograma.head()"
   ]
  },
  {
   "cell_type": "code",
   "execution_count": null,
   "metadata": {
    "notebookRunGroups": {
     "groupValue": "2"
    }
   },
   "outputs": [],
   "source": [
    "pacientePrograma = pacientePrograma.rename(\n",
    "    columns={\n",
    "        \"Id\": \"Id Paciente Programas\",\n",
    "        \"Paciente__r.IdentificationId__pc\": \"Rut\",\n",
    "        \"Programas_por_Empresas__r.Empresa__c\": \"Id Account Empleador\",\n",
    "        \"Paciente__c\": \"Id Account Paciente\",\n",
    "    }\n",
    ")\n",
    "pacientePrograma.head()"
   ]
  },
  {
   "cell_type": "code",
   "execution_count": null,
   "metadata": {
    "notebookRunGroups": {
     "groupValue": "2"
    }
   },
   "outputs": [],
   "source": [
    "pacientePrograma[\"Rut\"] = pacientePrograma[\"Rut\"].astype(str)\n",
    "pacientePrograma[\"Rut\"] = pacientePrograma[\"Rut\"].str.replace(\"-\", \"\")\n",
    "pacientePrograma[\"Rut\"] = pacientePrograma[\"Rut\"].str.replace(\"–\", \"\")\n",
    "pacientePrograma[\"Rut\"] = pacientePrograma[\"Rut\"].astype(str)\n",
    "pacientePrograma[\"Rut\"] = pacientePrograma[\"Rut\"].str.replace(\".\", \"\")\n",
    "pacientePrograma[\"Rut\"] = pacientePrograma[\"Rut\"].str.upper()\n",
    "pacientePrograma[\"Rut\"] = pacientePrograma[\"Rut\"].str.strip()\n",
    "pacientePrograma.shape"
   ]
  },
  {
   "cell_type": "code",
   "execution_count": null,
   "metadata": {
    "notebookRunGroups": {
     "groupValue": "2"
    }
   },
   "outputs": [],
   "source": [
    "PacientesProgramas_PacientesSF = pd.merge(\n",
    "    left=pacientePrograma,\n",
    "    right=Pacientes_IDrut,\n",
    "    how=\"left\",\n",
    "    left_on=\"Id Account Paciente\",\n",
    "    right_on=\"Id Account Paciente\",\n",
    ")\n",
    "\n",
    "PacientesProgramas_PacientesSF.head()"
   ]
  },
  {
   "cell_type": "markdown",
   "metadata": {},
   "source": [
    "account contact relation\n"
   ]
  },
  {
   "cell_type": "code",
   "execution_count": null,
   "metadata": {
    "notebookRunGroups": {
     "groupValue": "2"
    }
   },
   "outputs": [],
   "source": [
    "query_accountContact = (\n",
    "    \"select Id,ContactId, AccountId, RutContact__c ,Contact.AccountId from AccountContactRelation where Account.Campa_a__c = '\"\n",
    "    + campaña\n",
    "    + \"'\"\n",
    ")\n",
    "accountContactRelation = sf.smart_query(query_accountContact)\n",
    "accountContactRelation.head()"
   ]
  },
  {
   "cell_type": "code",
   "execution_count": null,
   "metadata": {
    "notebookRunGroups": {
     "groupValue": "2"
    }
   },
   "outputs": [],
   "source": [
    "accountContactRelation = accountContactRelation.rename(\n",
    "    columns={\n",
    "        \"Id\": \"Id AccountContactRelation\",\n",
    "        \"ContactId\": \"Id Contact Paciente\",\n",
    "        \"AccountId\": \"Id Account Empresa\",\n",
    "        \"RutContact__c\": \"Rut\",\n",
    "        \"Contact.AccountId\": \"Id Account Paciente\",\n",
    "    }\n",
    ")\n",
    "accountContactRelation.head()"
   ]
  },
  {
   "cell_type": "code",
   "execution_count": null,
   "metadata": {
    "notebookRunGroups": {
     "groupValue": "2"
    }
   },
   "outputs": [],
   "source": [
    "accountContactRelation[\"Rut\"] = accountContactRelation[\"Rut\"].astype(str)\n",
    "accountContactRelation[\"Rut\"] = accountContactRelation[\"Rut\"].str.replace(\"-\", \"\")\n",
    "accountContactRelation[\"Rut\"] = accountContactRelation[\"Rut\"].str.replace(\"–\", \"\")\n",
    "accountContactRelation[\"Rut\"] = accountContactRelation[\"Rut\"].astype(str)\n",
    "accountContactRelation[\"Rut\"] = accountContactRelation[\"Rut\"].str.replace(\".\", \"\")\n",
    "accountContactRelation[\"Rut\"] = accountContactRelation[\"Rut\"].str.upper()\n",
    "accountContactRelation[\"Rut\"] = accountContactRelation[\"Rut\"].str.strip()\n",
    "accountContactRelation.shape"
   ]
  },
  {
   "cell_type": "code",
   "execution_count": null,
   "metadata": {
    "notebookRunGroups": {
     "groupValue": "2"
    }
   },
   "outputs": [],
   "source": [
    "AccountContact_PacientesSF = pd.merge(\n",
    "    left=accountContactRelation,\n",
    "    right=Pacientes_IDrut,\n",
    "    how=\"left\",\n",
    "    left_on=\"Id Account Paciente\",\n",
    "    right_on=\"Id Account Paciente\",\n",
    ")\n",
    "AccountContact_PacientesSF.head()"
   ]
  },
  {
   "cell_type": "markdown",
   "metadata": {},
   "source": [
    "empresa contacto convenio\n"
   ]
  },
  {
   "cell_type": "code",
   "execution_count": null,
   "metadata": {
    "notebookRunGroups": {
     "groupValue": "2"
    }
   },
   "outputs": [],
   "source": [
    "query_empresacontactoconvenio = (\n",
    "    \"select Id,Paciente__r.IdentificationId__pc,  Empresa__c, Paciente__c,N_Documento_Titular__c from EmpresaContactoConvenios__c where Empresa__r.Campa_a__c = '\"\n",
    "    + campaña\n",
    "    + \"'\"\n",
    ")\n",
    "empresacontactoconvenio = sf.smart_query(query_empresacontactoconvenio)\n",
    "empresacontactoconvenio.head()"
   ]
  },
  {
   "cell_type": "code",
   "execution_count": null,
   "metadata": {
    "notebookRunGroups": {
     "groupValue": "2"
    }
   },
   "outputs": [],
   "source": [
    "empresacontactoconvenio = empresacontactoconvenio.rename(\n",
    "    columns={\n",
    "        \"Id\": \"Id EmpresaContactoConvenio\",\n",
    "        \"Paciente__r.IdentificationId__pc\": \"Rut\",\n",
    "        \"Empresa__c\": \"Id Convenio Empresa\",\n",
    "        \"Paciente__c\": \"Id Account Paciente\",\n",
    "        \"N_Documento_Titular__c\": \"Rut Titular\",\n",
    "    }\n",
    ")\n",
    "empresacontactoconvenio.head()"
   ]
  },
  {
   "cell_type": "code",
   "execution_count": null,
   "metadata": {
    "notebookRunGroups": {
     "groupValue": "2"
    }
   },
   "outputs": [],
   "source": [
    "empresacontactoconvenio[\"Rut\"] = empresacontactoconvenio[\"Rut\"].astype(str)\n",
    "empresacontactoconvenio[\"Rut\"] = empresacontactoconvenio[\"Rut\"].str.replace(\"-\", \"\")\n",
    "empresacontactoconvenio[\"Rut\"] = empresacontactoconvenio[\"Rut\"].str.replace(\"–\", \"\")\n",
    "empresacontactoconvenio[\"Rut\"] = empresacontactoconvenio[\"Rut\"].astype(str)\n",
    "empresacontactoconvenio[\"Rut\"] = empresacontactoconvenio[\"Rut\"].str.replace(\".\", \"\")\n",
    "empresacontactoconvenio[\"Rut\"] = empresacontactoconvenio[\"Rut\"].str.replace(\" \", \"\")\n",
    "empresacontactoconvenio[\"Rut\"] = empresacontactoconvenio[\"Rut\"].str.upper()\n",
    "empresacontactoconvenio[\"Rut\"] = empresacontactoconvenio[\"Rut\"].str.strip()\n",
    "empresacontactoconvenio.shape"
   ]
  },
  {
   "cell_type": "code",
   "execution_count": null,
   "metadata": {
    "notebookRunGroups": {
     "groupValue": "2"
    }
   },
   "outputs": [],
   "source": [
    "empresacontactoconvenio_PacientesSF = pd.merge(\n",
    "    left=empresacontactoconvenio,\n",
    "    right=Pacientes_IDrut,\n",
    "    how=\"left\",\n",
    "    left_on=\"Id Account Paciente\",\n",
    "    right_on=\"Id Account Paciente\",\n",
    ")\n",
    "empresacontactoconvenio_PacientesSF.head()"
   ]
  },
  {
   "cell_type": "code",
   "execution_count": null,
   "metadata": {},
   "outputs": [],
   "source": [
    "\"\"\" if(campaña!=\"MetLife\"):\n",
    "    pacientePrograma.to_excel(\"F:/Empresas SF/reportes/paciente_programas.xlsx\", index=False) \"\"\""
   ]
  },
  {
   "cell_type": "markdown",
   "metadata": {},
   "source": [
    "Rescatamos todos los ruts Id con su empresa desde la campaña\n"
   ]
  },
  {
   "cell_type": "code",
   "execution_count": null,
   "metadata": {
    "notebookRunGroups": {
     "groupValue": "2"
    }
   },
   "outputs": [],
   "source": [
    "Pacientes_Archivo.head()"
   ]
  },
  {
   "cell_type": "markdown",
   "metadata": {},
   "source": [
    "Pacientes_con_id.to_excel(\"F:/Empresas SF/reportes/id.xlsx\", index=False)\n"
   ]
  },
  {
   "cell_type": "markdown",
   "metadata": {},
   "source": [
    "Pacientes_Archivo.drop_duplicates(\n",
    "[\n",
    "\"rut\",\n",
    "\"rutT\",\n",
    "\"LLaveEmpresa\",\n",
    "\"LLAveRut\",\n",
    "],\n",
    "keep=\"last\",\n",
    ")\n",
    "Pacientes_Archivo.shape\n"
   ]
  },
  {
   "cell_type": "code",
   "execution_count": null,
   "metadata": {
    "notebookRunGroups": {
     "groupValue": "2"
    }
   },
   "outputs": [],
   "source": [
    "print(campaña)"
   ]
  },
  {
   "cell_type": "code",
   "execution_count": null,
   "metadata": {
    "notebookRunGroups": {
     "groupValue": "2"
    }
   },
   "outputs": [],
   "source": [
    "Pacientes_Archivo[\"RutEstaoNo\"] = Pacientes_Archivo[\"rut\"].isin(Pacientes_SF[\"Rut\"])"
   ]
  },
  {
   "attachments": {},
   "cell_type": "markdown",
   "metadata": {},
   "source": []
  },
  {
   "cell_type": "code",
   "execution_count": null,
   "metadata": {},
   "outputs": [],
   "source": [
    "# Pacientes_Archivo.to_excel(\"F:/Empresas SF/reportes/Pacientes_Archivo.xlsx\", index=False)"
   ]
  },
  {
   "cell_type": "code",
   "execution_count": null,
   "metadata": {
    "notebookRunGroups": {
     "groupValue": "2"
    }
   },
   "outputs": [],
   "source": [
    "# aca a los pacientes del archivo se les asigna sus datos en SF\n",
    "Pacientes_con_id = pd.merge(\n",
    "    left=Pacientes_Archivo,\n",
    "    right=Pacientes_SF,\n",
    "    how=\"left\",\n",
    "    left_on=\"rut\",\n",
    "    right_on=\"Rut\",\n",
    ")\n",
    "# Pacientes_con_id.to_excel(\"F:/Empresas SF/reportes/Pacientes_con_id.xlsx\", index=False)\n",
    "Pacientes_con_id.shape"
   ]
  },
  {
   "cell_type": "code",
   "execution_count": null,
   "metadata": {
    "notebookRunGroups": {
     "groupValue": "2"
    }
   },
   "outputs": [],
   "source": [
    "Pacientes_con_id.head()"
   ]
  },
  {
   "cell_type": "code",
   "execution_count": null,
   "metadata": {},
   "outputs": [],
   "source": [
    "# Pacientes_con_id.to_excel(\"F:/Empresas SF/reportes/id.xlsx\", index=False)"
   ]
  },
  {
   "cell_type": "code",
   "execution_count": null,
   "metadata": {
    "notebookRunGroups": {
     "groupValue": "2"
    }
   },
   "outputs": [],
   "source": [
    "regex = re.compile(r\"([A-Za-z0-9]+[.-_])*[A-Za-z0-9]+@[A-Za-z0-9-]+(\\.[A-Z|a-z]{2,})+\")\n",
    "\n",
    "\n",
    "def isValid(email):\n",
    "    if re.fullmatch(regex, email):\n",
    "        return email\n",
    "    else:\n",
    "        return \"\"\n",
    "\n",
    "\n",
    "def fechaValida(fecha):\n",
    "    fecha = str(fecha)\n",
    "    fecha1 = str(fecha)\n",
    "    \n",
    "    #datetime.strptime(fecha, '%Y-%m-%d')\n",
    "    \n",
    "    try:\n",
    "        fecha = datetime.strptime(fecha, '%Y-%m-%d %H:%M:%S')\n",
    "        date_string = fecha1\n",
    "        print(\"date_string =\", date_string)\n",
    "        print(\"type of date_string =\", type(date_string))\n",
    "\n",
    "        date_object = datetime.strptime(date_string, \"%Y-%m-%d %H:%M:%S\")\n",
    "\n",
    "        print(\"date_object =\", date_object)\n",
    "        print(\"type of date_object =\", type(date_object))\n",
    "        return fecha\n",
    "    except ValueError:\n",
    "        return \"\"\n",
    "    "
   ]
  },
  {
   "cell_type": "code",
   "execution_count": null,
   "metadata": {},
   "outputs": [],
   "source": [
    "Pacientes_con_id[\"dertyuiop\"] = Pacientes_con_id[\"nacimiento\"]\n",
    "Pacientes_con_id[\"derty\"] = Pacientes_con_id[\"nacimiento\"].apply(lambda y: fechaValida(y))\n",
    "Pacientes_con_id.head()"
   ]
  },
  {
   "cell_type": "code",
   "execution_count": null,
   "metadata": {
    "notebookRunGroups": {
     "groupValue": "2"
    }
   },
   "outputs": [],
   "source": [
    "\n",
    "\n",
    "# Final_pacientes_y_empresa = Pacientes_con_ID\n",
    "Subir_pacientes = pd.DataFrame()\n",
    "# Subir_pacientes[\"Email_Seteado__c\"] = \"\"\n",
    "Subir_pacientes[\"RutEstaoNo\"] = Pacientes_con_id[\"RutEstaoNo\"]\n",
    "# agrupar = empresasqfaltan[empresasqfaltan['si']==False]\n",
    "\n",
    "\n",
    "if (\"nombres\" in Pacientes_con_id.columns) == True:\n",
    "    Subir_pacientes[\"FirstName\"] = Pacientes_con_id[\"nombres\"]\n",
    "if (\"apellidos\" in Pacientes_con_id.columns) == True:\n",
    "    Subir_pacientes[\"LastName\"] = Pacientes_con_id[\"apellidos\"]\n",
    "if (\"rut\" in Pacientes_con_id.columns) == True:\n",
    "    Subir_pacientes[\"IdentificationId__pc\"] = (\n",
    "        Pacientes_con_id[\"rut\"].astype(str).str.upper()\n",
    "    )\n",
    "\n",
    "\n",
    "if (\"email\" in Pacientes_con_id.columns) == True:\n",
    "    # Pacientes_con_id[\"email\"] = Pacientes_con_id[\"email\"].astype(str).str.lower().replace(\"nan\",\"\")\n",
    "    Subir_pacientes[\"PersonEmail\"] = Pacientes_con_id[\"email\"].astype(str).str.lower()\n",
    "    Subir_pacientes[\"PersonEmail\"] = Subir_pacientes[\"PersonEmail\"].apply(\n",
    "        lambda y: isValid(y)\n",
    "    )\n",
    "    Subir_pacientes[\"Email_Seteado__c\"] = np.where(\n",
    "        Subir_pacientes[\"PersonEmail\"] != \"\", \"True\", \"False\"\n",
    "    )\n",
    "\n",
    "    # Subir_pacientes[\"PersonEmail\"] = Subir_pacientes[\"PersonEmail\"].str.replace(\"no informado\", \"\")\n",
    "#if (\"nacimiento\" in Pacientes_con_id.columns) == True:    \n",
    "#    Subir_pacientes[\"PersonBirthdate\"] = pd.to_datetime(Pacientes_con_id[\"nacimiento\"].astype(str), format=\"%Y-%m-%d\")  \n",
    "if (\"nacimiento\" in Pacientes_con_id.columns) == True:    \n",
    "    #try:\n",
    "    Subir_pacientes[\"PersonBirthdate\"] = Pacientes_con_id[\"nacimiento\"].apply(lambda y: fechaValida(y))\n",
    "    #except ValueError:\n",
    "        #Subir_pacientes[\"PersonBirthdate\"] = pd.to_datetime(\"1900-01-01\", format=\"%Y-%m-%d\")\n",
    " \n",
    "if (\"sexo\" in Pacientes_con_id.columns) == True:\n",
    "    Sexo = {\n",
    "        \"H\": \"Hombre\",\n",
    "        \"m\": \"Hombre\",\n",
    "        \"Masculino\": \"Hombre\",\n",
    "        \"Femenino\": \"Mujer\",\n",
    "        \"\": \"Prefiero no responder\",\n",
    "        \"HOMBRE\": \"Hombre\",\n",
    "        \"MUJER\": \"Mujer\",\n",
    "        \"F\": \"Mujer\",\n",
    "        \"O\": \"Prefiero no responder\",\n",
    "        \"Ambos\": \"Prefiero no responder\",\n",
    "        \"N\": \"Prefiero no responder\",\n",
    "        \"Otro\": \"Prefiero no responder\",\n",
    "        \"n\": \"Prefiero no responder\",\n",
    "        \"N\": \"Prefiero no responder\",\n",
    "        \"FEMENINO\": \"Mujer\",\n",
    "        \"f\": \"Mujer\",\n",
    "        \"MASCULINO\": \"Hombre\",\n",
    "        \"m\": \"Hombre\",\n",
    "        \"M \": \"Hombre\",\n",
    "        \"M\": \"Hombre\",\n",
    "        \"F \": \"Mujer\",\n",
    "        \"Varón\": \"Hombre\",\n",
    "        \"varon\": \"Hombre\",\n",
    "    }\n",
    "    Pacientes_con_id.replace({\"sexo\": Sexo}, inplace=True)\n",
    "    Subir_pacientes[\"HealthCloudGA__Gender__pc\"] = Pacientes_con_id[\"sexo\"]\n",
    "if (\"direccion\" in Pacientes_con_id.columns) == True:\n",
    "    Subir_pacientes[\"BillingStreet\"] = (\n",
    "        Pacientes_con_id[\"direccion\"].str.lower().replace(\"nan\", \"\")\n",
    "    )\n",
    "    # Subir_pacientes[\"BillingStreet\"] = Final_pacientes_y_empresa[\"direccion\"]\n",
    "if (\"comuna\" in Pacientes_con_id.columns) == True:\n",
    "    # Subir_pacientes[\"BillingState\"] = Final_pacientes_y_empresa[\"comuna\"]\n",
    "    Subir_pacientes[\"BillingState\"] = (\n",
    "        Pacientes_con_id[\"comuna\"].str.title().replace(\"NaN\", \"\")\n",
    "    )\n",
    "    # Subir_pacientes[\"BillingState\"] = Final_pacientes_y_empresa[\"comuna\"]\n",
    "if (\"ciudad\" in Pacientes_con_id.columns) == True:\n",
    "    # Subir_pacientes[\"BillingCity\"] = Final_pacientes_y_empresa[\"ciudad\"]\n",
    "    Subir_pacientes[\"BillingCity\"] = (\n",
    "        Pacientes_con_id[\"ciudad\"].str.title().replace(\"NaN\", \"\")\n",
    "    )\n",
    "\n",
    "if (\"cargo\" in Pacientes_con_id.columns) == True:\n",
    "    Subir_pacientes[\"PersonTitle\"] = Pacientes_con_id[\"cargo\"].str.title()\n",
    "\n",
    "if (\"division\" in Pacientes_con_id.columns) == True:\n",
    "    Subir_pacientes[\"PersonDepartment\"] = Pacientes_con_id[\"division\"].str.title()\n",
    "\n",
    "if (\"celular\" in Pacientes_con_id.columns) == True:\n",
    "    Subir_pacientes[\"Phone\"] = (\n",
    "        Pacientes_con_id[\"celular\"].apply(str).str.strip().replace(\"+\", \"\")\n",
    "    )\n",
    "    Subir_pacientes[\"Phone\"] = Subir_pacientes[\"Phone\"].str.replace(\"NaN\", \"\")\n",
    "    Subir_pacientes[\"Phone\"] = Subir_pacientes[\"Phone\"].str.replace(\".\", \"\")\n",
    "    Subir_pacientes[\"Phone\"] = Subir_pacientes[\"Phone\"].str.replace(\"Nan\", \"\")\n",
    "    Subir_pacientes[\"Phone\"] = Subir_pacientes[\"Phone\"].str.replace(\"-\", \"\")\n",
    "    Subir_pacientes[\"Phone\"] = Subir_pacientes[\"Phone\"].str.replace(\"0\", \"\")\n",
    "    Subir_pacientes[\"Phone\"] = Subir_pacientes[\"Phone\"].str.replace(\"No Informado\", \"\")\n",
    "    Subir_pacientes[\"Phone\"] = Subir_pacientes[\"Phone\"].str.replace(\"_\", \"\")\n",
    "    Subir_pacientes[\"Phone\"] = Subir_pacientes[\"Phone\"].str.replace(\"/\", \"\")\n",
    "    Subir_pacientes[\"Phone\"] = Subir_pacientes[\"Phone\"].str.replace(\"+\", \"\")\n",
    "    Subir_pacientes[\"Phone\"] = Subir_pacientes[\"Phone\"].str.replace(\"nan\", \"\")\n",
    "    Subir_pacientes[\"Phone\"] = Subir_pacientes[\"Phone\"].str.replace(\"null\", \"\")\n",
    "    Subir_pacientes[\"Phone\"] = Subir_pacientes[\"Phone\"].str.replace(\"NULL\", \"\")\n",
    "\n",
    "\n",
    "Subir_pacientes[\"RecordTypeId\"] = \"0128c000002Byp4AAC\"\n",
    "Subir_pacientes[\"Cuenta_validada__c\"] = \"True\"\n",
    "\n",
    "\n",
    "if Pais == \"Chile\":\n",
    "    Subir_pacientes[\"BillingCountry\"] = \"Chile\"\n",
    "    Subir_pacientes[\"Identification_Type__c\"] = \"RUT\"\n",
    "    Subir_pacientes[\"Pa_s_del_Paciente__c\"] = \"a1U8c000005dAtnEAE\"\n",
    "else:\n",
    "    Subir_pacientes[\"BillingCountry\"] = \"México\"\n",
    "    Subir_pacientes[\"Identification_Type__c\"] = \"RUT\"\n",
    "    Subir_pacientes[\"Pa_s_del_Paciente__c\"] = \"a1U8c000005dAtsEAE\"\n",
    "\n",
    "Subir_pacientes_Que_no_Estan = Subir_pacientes\n",
    "Subir_pacientes_Estan = Subir_pacientes[Subir_pacientes[\"RutEstaoNo\"] == True]\n",
    "Subir_pacientes = Subir_pacientes[Subir_pacientes[\"RutEstaoNo\"] == False]\n",
    "\n",
    "\n",
    "# Subir_pacientes.PersonEmail = Subir_pacientes.PersonEmail.fillna('')\n",
    "Subir_pacientes.to_excel(\n",
    "    \"F:/Empresas SF/reportes/Pacientes_Que_No_Estaban.xlsx\", index=False\n",
    ")\n",
    "Subir_pacientes.head()"
   ]
  },
  {
   "cell_type": "code",
   "execution_count": null,
   "metadata": {
    "notebookRunGroups": {
     "groupValue": "2"
    }
   },
   "outputs": [],
   "source": [
    "Subir_pacientes.shape"
   ]
  },
  {
   "cell_type": "code",
   "execution_count": null,
   "metadata": {
    "notebookRunGroups": {
     "groupValue": "2"
    }
   },
   "outputs": [],
   "source": [
    "def traerId(rut):\n",
    "    if len(rut) >= 8:\n",
    "        busquedaDatos = \"FIND {\" + rut + \"} RETURNING Account(Id,IdentificationId__pc)\"\n",
    "        derty = dict(sf.search(busquedaDatos))\n",
    "        if derty[\"searchRecords\"] != []:\n",
    "            if derty[\"searchRecords\"][0][\"attributes\"][\"type\"] == \"Account\":\n",
    "                jote = derty[\"searchRecords\"][0][\"Id\"]\n",
    "                dertyd = derty[\"searchRecords\"][0][\"IdentificationId__pc\"]\n",
    "                print(jote + \" \" + dertyd)\n",
    "                return jote\n",
    "            else:\n",
    "                print(\"no\")\n",
    "        else:\n",
    "            print(\"vacio\")\n",
    "    else:\n",
    "        return \"None\"\n",
    "\n",
    "\n",
    "def traerContact(ide):\n",
    "    ide = str(ide)\n",
    "    if len(ide) >= 12:\n",
    "        idcontact = sf.Account.get(ide)\n",
    "        return idcontact[\"PersonContactId\"]\n",
    "    else:\n",
    "        return \"NONES\"\n",
    "\n",
    "\n",
    "def agregarPaciente(listado):\n",
    "    vListado = listado.split(\",\")\n",
    "    \n",
    "    derty = None\n",
    "    \n",
    "        \n",
    "        \n",
    "    if (vListado[9] == \"\"):                               \n",
    "        try:\n",
    "            derty = dict(\n",
    "                sf.Account.create(\n",
    "                    # derty = sf.Account.create(\n",
    "                    {\n",
    "                        \"FirstName\": vListado[0],\n",
    "                        \"LastName\": vListado[1],\n",
    "                        \"IdentificationId__pc\": vListado[2],\n",
    "                        \"RecordTypeId\": vListado[3],\n",
    "                        \"BillingCountry\": vListado[4],\n",
    "                        \"Identification_Type__c\": vListado[5],\n",
    "                        \"Pa_s_del_Paciente__c\": vListado[6],\n",
    "                        \"Cuenta_validada__c\": True,\n",
    "                        \"PersonEmail\": vListado[8],  \n",
    "                                          \n",
    "                        \"HealthCloudGA__Gender__pc\": vListado[10],\n",
    "                        \"Phone\": vListado[11],\n",
    "                        \"BillingCity\": vListado[12],\n",
    "                        \"BillingState\": vListado[13],\n",
    "                        \"BillingStreet\": vListado[14],\n",
    "                        \"Email_Seteado__c\": bool(vListado[15]),\n",
    "                    }\n",
    "                )\n",
    "            )\n",
    "            # return derty[\"id\"]\n",
    "        except SalesforceMalformedRequest as e:\n",
    "            print(f\"Malformed request error: {e}\")\n",
    "            error = {e}\n",
    "\n",
    "        if derty is not None:\n",
    "            return derty[\"id\"]\n",
    "        else:\n",
    "            traerId(vListado[2])\n",
    "    else:\n",
    "        try:\n",
    "            derty = dict(\n",
    "                sf.Account.create(\n",
    "                    # derty = sf.Account.create(\n",
    "                    {\n",
    "                        \"FirstName\": vListado[0],\n",
    "                        \"LastName\": vListado[1],\n",
    "                        \"IdentificationId__pc\": vListado[2],\n",
    "                        \"RecordTypeId\": vListado[3],\n",
    "                        \"BillingCountry\": vListado[4],\n",
    "                        \"Identification_Type__c\": vListado[5],\n",
    "                        \"Pa_s_del_Paciente__c\": vListado[6],\n",
    "                        \"Cuenta_validada__c\": True,\n",
    "                        \"PersonEmail\": vListado[8],\n",
    "                        \"PersonBirthdate\": vListado[9],\n",
    "                        \"HealthCloudGA__Gender__pc\": vListado[10],\n",
    "                        \"Phone\": vListado[11],\n",
    "                        \"BillingCity\": vListado[12],\n",
    "                        \"BillingState\": vListado[13],\n",
    "                        \"BillingStreet\": vListado[14],\n",
    "                        \"Email_Seteado__c\": bool(vListado[15]),\n",
    "                    }\n",
    "                )\n",
    "            )\n",
    "            # return derty[\"id\"]\n",
    "        except SalesforceMalformedRequest as e:\n",
    "            print(f\"Malformed request error: {e}\")\n",
    "            error = {e}\n",
    "\n",
    "        if derty is not None:\n",
    "            return derty[\"id\"]\n",
    "        else:\n",
    "            traerId(vListado[2])\n",
    "    # Verify that the Contact was created successfully\n",
    "    # created_contact = sf.Contact.get(sf_res['id'])\n",
    "    # print(created_contact)\n",
    "\n",
    "\n",
    "\"\"\" sf_res =None\n",
    "try:\n",
    "    # Create the new Contact record in Salesforce\n",
    "    sf_res = sf.Contact.create(new_contact)\n",
    "except SalesforceMalformedRequest as e:\n",
    "    if 'duplicateResut' in e[0]:\n",
    "        print(f\"Malformed request error: {e}\")\n",
    "        # Handle the error here as needed\n",
    "        #Bypass SF Email duplicate rule by removing the email to create a SF Lead\n",
    "        del new_contact['Email']\n",
    "        sf_res = sf.Contact.create(new_contact)\n",
    "\n",
    "\n",
    "if sf_res is not None:\n",
    "    # Verify that the Contact was created successfully\n",
    "    created_contact = sf.Contact.get(sf_res['id'])\n",
    "    print(created_contact) \"\"\""
   ]
  },
  {
   "cell_type": "code",
   "execution_count": null,
   "metadata": {
    "notebookRunGroups": {
     "groupValue": "2"
    }
   },
   "outputs": [],
   "source": [
    "Subir_pacientes.head()"
   ]
  },
  {
   "cell_type": "code",
   "execution_count": null,
   "metadata": {
    "notebookRunGroups": {
     "groupValue": "2"
    }
   },
   "outputs": [],
   "source": [
    "Subir_pacientes.drop_duplicates(\n",
    "    [\n",
    "        \"IdentificationId__pc\",\n",
    "    ],\n",
    "    keep=\"last\",\n",
    ")\n",
    "\n",
    "Subir_pacientes[\"Id\"] = Subir_pacientes[\"IdentificationId__pc\"].apply(\n",
    "    lambda y: traerId(y)\n",
    ")\n",
    "\n",
    "Subir_pacientes.shape"
   ]
  },
  {
   "cell_type": "code",
   "execution_count": null,
   "metadata": {
    "notebookRunGroups": {
     "groupValue": "2"
    }
   },
   "outputs": [],
   "source": [
    "Subir_pacientes[\"Id\"] = Subir_pacientes[\"Id\"].astype(str)\n",
    "Subir_pacientes = Subir_pacientes[Subir_pacientes[\"Id\"].str.len() <= 12]\n",
    "# Subir_pacientes[\"numero\"] = Subir_pacientes[\"Id\"].str.len()\n",
    "Subir_pacientes.shape"
   ]
  },
  {
   "cell_type": "code",
   "execution_count": null,
   "metadata": {},
   "outputs": [],
   "source": [
    "#Subir_pacientes[\"dato_account\"].head()"
   ]
  },
  {
   "cell_type": "code",
   "execution_count": null,
   "metadata": {},
   "outputs": [],
   "source": [
    "Subir_pacientes.to_excel(\"F:/Empresas SF/reportes/Todesffff.xlsx\", index=False)"
   ]
  },
  {
   "cell_type": "code",
   "execution_count": null,
   "metadata": {
    "notebookRunGroups": {
     "groupValue": "2"
    }
   },
   "outputs": [],
   "source": [
    "Subir_pacientes[\"dato_account\"] = \"\"\n",
    "if (\"FirstName\" in Subir_pacientes.columns) == True:\n",
    "    Subir_pacientes[\"dato_account\"] = Subir_pacientes[\"dato_account\"] + Subir_pacientes[\n",
    "        \"FirstName\"\n",
    "    ].astype(str)\n",
    "if (\"LastName\" in Subir_pacientes.columns) == True:\n",
    "    Subir_pacientes[\"dato_account\"] = (\n",
    "        Subir_pacientes[\"dato_account\"] + \",\" + Subir_pacientes[\"LastName\"].astype(str)\n",
    "    )\n",
    "if (\"IdentificationId__pc\" in Subir_pacientes.columns) == True:\n",
    "    Subir_pacientes[\"dato_account\"] = (\n",
    "        Subir_pacientes[\"dato_account\"]\n",
    "        + \",\"\n",
    "        + Subir_pacientes[\"IdentificationId__pc\"].astype(str)\n",
    "    )\n",
    "if (\"RecordTypeId\" in Subir_pacientes.columns) == True:\n",
    "    Subir_pacientes[\"dato_account\"] = (\n",
    "        Subir_pacientes[\"dato_account\"]\n",
    "        + \",\"\n",
    "        + Subir_pacientes[\"RecordTypeId\"].astype(str)\n",
    "    )\n",
    "if (\"BillingCountry\" in Subir_pacientes.columns) == True:\n",
    "    Subir_pacientes[\"dato_account\"] = (\n",
    "        Subir_pacientes[\"dato_account\"]\n",
    "        + \",\"\n",
    "        + Subir_pacientes[\"BillingCountry\"].astype(str)\n",
    "    )\n",
    "if (\"Identification_Type__c\" in Subir_pacientes.columns) == True:\n",
    "    Subir_pacientes[\"dato_account\"] = (\n",
    "        Subir_pacientes[\"dato_account\"]\n",
    "        + \",\"\n",
    "        + Subir_pacientes[\"Identification_Type__c\"].astype(str)\n",
    "    )\n",
    "if (\"Pa_s_del_Paciente__c\" in Subir_pacientes.columns) == True:\n",
    "    Subir_pacientes[\"dato_account\"] = (\n",
    "        Subir_pacientes[\"dato_account\"]\n",
    "        + \",\"\n",
    "        + Subir_pacientes[\"Pa_s_del_Paciente__c\"].astype(str)\n",
    "    )\n",
    "if (\"Cuenta_validada__c\" in Subir_pacientes.columns) == True:\n",
    "    Subir_pacientes[\"dato_account\"] = (\n",
    "        Subir_pacientes[\"dato_account\"]\n",
    "        + \",\"\n",
    "        + Subir_pacientes[\"Cuenta_validada__c\"].astype(str)\n",
    "    )\n",
    "\n",
    "if (\"PersonEmail\" in Subir_pacientes.columns) == True:\n",
    "    Subir_pacientes[\"dato_account\"] = (\n",
    "        Subir_pacientes[\"dato_account\"]\n",
    "        + \",\"\n",
    "        + Subir_pacientes[\"PersonEmail\"].astype(str)\n",
    "    )\n",
    "else:\n",
    "    Subir_pacientes[\"dato_account\"] = Subir_pacientes[\"dato_account\"] + \",\"\n",
    "\n",
    "if (\"PersonBirthdate\" in Subir_pacientes.columns) == True:\n",
    "    #if Subir_pacientes[\"dato_account\"] != \"\":\n",
    "        #fecha = pd.to_datetime(Subir_pacientes[\"PersonBirthdate\"].astype(str) + \" 00:00:00\").isoformat() + \"Z\" \n",
    "        #fecha = pd.to_datetime(Subir_pacientes[\"PersonBirthdate\"].astype(str) + \" 00:00:00\")                       \n",
    "        Subir_pacientes[\"dato_account\"] = (Subir_pacientes[\"dato_account\"] + \",\" + Subir_pacientes[\"PersonBirthdate\"].astype(str)\n",
    "            \n",
    "        )\n",
    "else:\n",
    "    Subir_pacientes[\"dato_account\"] = Subir_pacientes[\"dato_account\"] + \",\"\n",
    "if (\"HealthCloudGA__Gender__pc\" in Subir_pacientes.columns) == True:\n",
    "    Subir_pacientes[\"dato_account\"] = (\n",
    "        Subir_pacientes[\"dato_account\"]\n",
    "        + \",\"\n",
    "        + Subir_pacientes[\"HealthCloudGA__Gender__pc\"].astype(str)\n",
    "    )\n",
    "else:\n",
    "    Subir_pacientes[\"dato_account\"] = Subir_pacientes[\"dato_account\"] + \",\"\n",
    "if (\"Phone\" in Subir_pacientes.columns) == True:\n",
    "    Subir_pacientes[\"dato_account\"] = (\n",
    "        Subir_pacientes[\"dato_account\"] + \",\" + Subir_pacientes[\"Phone\"].astype(str)\n",
    "    )\n",
    "else:\n",
    "    Subir_pacientes[\"dato_account\"] = Subir_pacientes[\"dato_account\"] + \",\"\n",
    "if (\"BillingCity\" in Subir_pacientes.columns) == True:\n",
    "    Subir_pacientes[\"dato_account\"] = (\n",
    "        Subir_pacientes[\"dato_account\"]\n",
    "        + \",\"\n",
    "        + Subir_pacientes[\"BillingCity\"].astype(str)\n",
    "    )\n",
    "else:\n",
    "    Subir_pacientes[\"dato_account\"] = Subir_pacientes[\"dato_account\"] + \",\"\n",
    "if (\"BillingState\" in Subir_pacientes.columns) == True:\n",
    "    Subir_pacientes[\"dato_account\"] = (\n",
    "        Subir_pacientes[\"dato_account\"]\n",
    "        + \",\"\n",
    "        + Subir_pacientes[\"BillingState\"].astype(str)\n",
    "    )\n",
    "else:\n",
    "    Subir_pacientes[\"dato_account\"] = Subir_pacientes[\"dato_account\"] + \",\"\n",
    "if (\"BillingStreet\" in Subir_pacientes.columns) == True:\n",
    "    Subir_pacientes[\"dato_account\"] = (\n",
    "        Subir_pacientes[\"dato_account\"]\n",
    "        + \",\"\n",
    "        + Subir_pacientes[\"BillingStreet\"].astype(str)\n",
    "    )\n",
    "else:\n",
    "    Subir_pacientes[\"dato_account\"] = Subir_pacientes[\"dato_account\"] + \",\"\n",
    "if (\"PersonEmail\" in Subir_pacientes.columns) == True:\n",
    "    Subir_pacientes[\"dato_account\"] = (\n",
    "        Subir_pacientes[\"dato_account\"]\n",
    "        + \",\"\n",
    "        + Subir_pacientes[\"Email_Seteado__c\"].astype(str)\n",
    "    )\n",
    "else:\n",
    "    Subir_pacientes[\"dato_account\"] = Subir_pacientes[\"dato_account\"] + \",\"\n",
    "\n",
    "# Subir_pacientes[\"dato_account\"] =  Subir_pacientes[\"dato_account\"] =\n",
    "\n",
    "Subir_pacientes[\"Id_creado\"] = Subir_pacientes[\"dato_account\"].apply(\n",
    "    lambda x: agregarPaciente(x)\n",
    ")\n",
    "\"\"\" Subir_pacientes[\"Contact_creado\"] = Subir_pacientes[\"dato_account\"].apply(\n",
    "    lambda x: agregarPaciente(x)\n",
    ") \"\"\""
   ]
  },
  {
   "cell_type": "code",
   "execution_count": null,
   "metadata": {
    "notebookRunGroups": {
     "groupValue": "2"
    }
   },
   "outputs": [],
   "source": [
    "query2 = \"select P_liza__c, Nombre_de_Empresa__c,Identificador__c, Rut_Empresa__c, Empresa_Padre__r.Name, Empresa__r.name,Holding__c, Plan__c, Pais__c, Activo__c, Id from Datos_Empresa__c WHERE Empresa_Padre__r.Name = '\" + campaña + \"'\"\n",
    "\n",
    "df2 = sf.smart_query(query2)\n",
    "df2[\"LLave\"] = df2[\"Rut_Empresa__c\"].str.upper().str.replace(\"-\", \"\") + df2[\"P_liza__c\"]\n",
    "df2[\"dato\"] = 1\n",
    "df2.to_excel(\"F:/Empresas SF/reportes/empresas_asociadas.xlsx\", index=False)\n",
    "df2.head()"
   ]
  },
  {
   "cell_type": "code",
   "execution_count": 430,
   "metadata": {},
   "outputs": [
    {
     "name": "stdout",
     "output_type": "stream",
     "text": [
      "001RN0000061krpYAA 123482158\n",
      "001RN0000061lj1YAA 123774566\n",
      "001RN0000061UWvYAM 126572557\n",
      "001RN0000061r5FYAQ 128420398\n",
      "001RN0000061mqQYAQ 131393067\n",
      "001RN0000061emSYAQ 132177082\n",
      "001RN0000061r6rYAA 132930325\n",
      "001RN0000061dn7YAA 133058613\n",
      "001RN0000061ffIYAQ 139144503\n",
      "001RN0000061r6sYAA 141120743\n",
      "001RN0000061jR9YAI 141706667\n",
      "001RN0000061r8TYAQ 142118556\n",
      "001RN0000061ZpwYAE 144128273\n",
      "001RN0000061n3HYAQ 144693019\n",
      "001RN0000061hSYYAY 14505320K\n",
      "001RN0000061rA5YAI 145569796\n",
      "001RN0000061g3WYAQ 147471416\n",
      "001RN0000061lRKYAY 150566185\n",
      "001RN0000061rBhYAI 150756723\n",
      "001RN0000061boWYAQ 151391265\n",
      "001RN0000061rDJYAY 151736920\n",
      "001RN0000061mKBYAY 151864309\n",
      "001RN0000061ppvYAA 152414390\n",
      "001RN0000061ffJYAQ 156352438\n",
      "001RN0000061jMHYAY 157005189\n",
      "001RN0000061k0aYAA 157016318\n",
      "001RN0000061LmyYAE 15786789K\n",
      "001RN0000061f5mYAA 158759837\n",
      "001RN0000061cuLYAQ 15996597K\n",
      "001RN0000061mryYAA 16045041K\n",
      "001RN0000061odgYAA 160638370\n",
      "001RN0000061fvMYAQ 162163116\n",
      "001RN0000061XEnYAM 163276097\n",
      "001RN0000061eMdYAI 163616629\n",
      "001RN0000061cb1YAA 166879140\n",
      "001RN0000061cW5YAI 168321317\n",
      "001RN0000061dgfYAA 170100352\n",
      "001RN0000061rEvYAI 170172221\n",
      "001RN0000061nZXYAY 172125603\n",
      "001RN0000061dGtYAI 173731515\n",
      "001RN0000061qdtYAA 173838905\n",
      "001RN0000061iZrYAI 17495593K\n",
      "001RN0000061kS3YAI 175347534\n",
      "001RN0000061rGXYAY 176050969\n",
      "001RN0000061rI9YAI 178063529\n",
      "001RN0000061d5XYAQ 180103155\n",
      "001RN0000061hDzYAI 180912118\n",
      "001RN0000061rLNYAY 181301406\n",
      "001RN0000061kN9YAI 181310030\n",
      "001RN0000061HHyYAM 181394897\n",
      "001RN0000061f4DYAQ 183216864\n",
      "001RN0000061m3zYAA 183552732\n",
      "001RN0000061esuYAA 184692023\n",
      "001RN0000061kDTYAY 185802159\n",
      "001RN0000061pY7YAI 187318009\n",
      "001RN0000061eWKYAY 188037909\n",
      "001RN0000061rQDYAY 188100694\n",
      "001RN0000061imoYAA 190449866\n",
      "001RN0000061rQEYAY 19415609K\n",
      "001RN0000061f7TYAQ 196346228\n",
      "001RN0000061rRpYAI 196701834\n",
      "001RN0000061qnWYAQ 197278935\n",
      "001RN0000061rTRYAY 197463465\n",
      "001RN0000061rV3YAI 198402974\n",
      "001RN0000061qHHYAY 20061724K\n",
      "001RN0000061qqkYAA 204097305\n",
      "001RN0000061cKtYAI 205043764\n",
      "001RN0000061q7aYAA 205682082\n",
      "001RN0000061rYHYAY 205960953\n",
      "001RN0000061i6qYAA 210386483\n",
      "001RN0000061rZtYAI 211858664\n",
      "001RN0000061fZ3YAI 214971240\n",
      "001RN0000061hxDYAQ 218748937\n",
      "001RN0000061m40YAA 21891196K\n",
      "001RN0000061rgLYAQ 253380411\n",
      "001RN0000061rhxYAA 261571749\n",
      "001RN0000061eBhYAI 264964911\n",
      "001RN0000061rjZYAQ 267930910\n",
      "001RN0000061besYAA 270839975\n",
      "001RN0000061eMeYAI 272157405\n",
      "001RN0000061iOyYAI 276229567\n",
      "001RN0000061jRBYAY 219938888\n",
      "001RN0000061t0bYAA 220568318\n",
      "001RN0000061iegYAA 260277855\n",
      "001RN0000061diFYAQ 219477279\n",
      "001RN0000061nL3YAI 231465634\n",
      "001RN0000061jkUYAQ 218279937\n",
      "001RN0000061sKhYAI 260332805\n",
      "001RN0000061t3pYAA 220651037\n",
      "001RN0000061id9YAA 219109695\n",
      "001RN0000061sxNYAQ 219833059\n",
      "001RN0000061jRAYAY 219751028\n",
      "001RN0000061hdsYAA 218524001\n",
      "001RN0000061eEgYAI 21818068K\n",
      "001RN0000061mFGYAY 219180152\n",
      "001RN0000061sqvYAA 216615433\n",
      "001RN0000061nksYAA 218049974\n",
      "001RN0000061sZDYAY 220517993\n",
      "001RN0000061pxvYAA 221212436\n",
      "001RN0000061lRSYAY 220425081\n",
      "001RN0000061ssXYAQ 218507514\n",
      "001RN0000061haaYAA 228705659\n",
      "001RN0000061syzYAA 220449173\n",
      "001RN0000061fDqYAI 219293488\n",
      "001RN0000061nHoYAI 217806054\n",
      "001RN0000061Tz1YAE 22041342K\n",
      "001RN0000061rhzYAA 218352340\n",
      "001RN0000061se2YAA 221302745\n",
      "001RN0000061sxOYAQ 276879855\n",
      "001RN0000061EVPYA2 218797695\n",
      "001RN0000061t2DYAQ 220626415\n",
      "001RN0000061f4HYAQ 216844270\n",
      "001RN0000061lUWYAY 219020651\n",
      "001RN0000061qHIYAY 217391121\n",
      "001RN0000061spJYAQ 216359739\n",
      "001RN0000061dLvYAI 219174667\n",
      "001RN0000061hsMYAQ 217179033\n",
      "001RN0000061r3eYAA 219457456\n",
      "001RN0000061rWhYAI 218957714\n",
      "001RN0000061f4GYAQ 214978113\n",
      "001RN0000061su9YAA 218884121\n",
      "001RN0000061fk2YAA 20251510K\n",
      "001RN0000061rWgYAI 204447489\n",
      "001RN0000061snhYAA 192896207\n",
      "001RN0000061qCQYAY 228847984\n",
      "001RN0000061lUVYAY 208826980\n",
      "001RN0000061lMXYAY 162129031\n"
     ]
    },
    {
     "name": "stderr",
     "output_type": "stream",
     "text": [
      "C:\\Users\\jmartinez\\AppData\\Local\\Temp\\ipykernel_2104\\3576538418.py:2: SettingWithCopyWarning: \n",
      "A value is trying to be set on a copy of a slice from a DataFrame.\n",
      "Try using .loc[row_indexer,col_indexer] = value instead\n",
      "\n",
      "See the caveats in the documentation: https://pandas.pydata.org/pandas-docs/stable/user_guide/indexing.html#returning-a-view-versus-a-copy\n",
      "  Pacientes_con_id_no[\"Id Account Paciente\"] = Pacientes_con_id_no[\"rut\"].apply(\n",
      "C:\\Users\\jmartinez\\AppData\\Local\\Temp\\ipykernel_2104\\3576538418.py:5: SettingWithCopyWarning: \n",
      "A value is trying to be set on a copy of a slice from a DataFrame.\n",
      "Try using .loc[row_indexer,col_indexer] = value instead\n",
      "\n",
      "See the caveats in the documentation: https://pandas.pydata.org/pandas-docs/stable/user_guide/indexing.html#returning-a-view-versus-a-copy\n",
      "  Pacientes_con_id_no[\"Id Contacto\"] = Pacientes_con_id_no[\"Id Account Paciente\"].apply(\n",
      "C:\\Users\\jmartinez\\AppData\\Local\\Temp\\ipykernel_2104\\3576538418.py:105: SettingWithCopyWarning: \n",
      "A value is trying to be set on a copy of a slice from a DataFrame.\n",
      "Try using .loc[row_indexer,col_indexer] = value instead\n",
      "\n",
      "See the caveats in the documentation: https://pandas.pydata.org/pandas-docs/stable/user_guide/indexing.html#returning-a-view-versus-a-copy\n",
      "  Subir_programas_empresa[\"Paciente__c\"] = Subir_programas_empresa[\"Id Account Paciente\"]\n",
      "C:\\Users\\jmartinez\\AppData\\Local\\Temp\\ipykernel_2104\\3576538418.py:106: SettingWithCopyWarning: \n",
      "A value is trying to be set on a copy of a slice from a DataFrame.\n",
      "Try using .loc[row_indexer,col_indexer] = value instead\n",
      "\n",
      "See the caveats in the documentation: https://pandas.pydata.org/pandas-docs/stable/user_guide/indexing.html#returning-a-view-versus-a-copy\n",
      "  Subir_programas_empresa[\"Programas_por_Empresas__c\"] = VpacientePrograma\n",
      "C:\\Users\\jmartinez\\AppData\\Local\\Temp\\ipykernel_2104\\3576538418.py:126: SettingWithCopyWarning: \n",
      "A value is trying to be set on a copy of a slice from a DataFrame.\n",
      "Try using .loc[row_indexer,col_indexer] = value instead\n",
      "\n",
      "See the caveats in the documentation: https://pandas.pydata.org/pandas-docs/stable/user_guide/indexing.html#returning-a-view-versus-a-copy\n",
      "  Subir_AccountContact[\"ContactId\"] = Subir_AccountContact[\"Id Contacto\"]\n",
      "C:\\Users\\jmartinez\\AppData\\Local\\Temp\\ipykernel_2104\\3576538418.py:127: SettingWithCopyWarning: \n",
      "A value is trying to be set on a copy of a slice from a DataFrame.\n",
      "Try using .loc[row_indexer,col_indexer] = value instead\n",
      "\n",
      "See the caveats in the documentation: https://pandas.pydata.org/pandas-docs/stable/user_guide/indexing.html#returning-a-view-versus-a-copy\n",
      "  Subir_AccountContact[\"AccountId\"] = VempresaaAccount\n",
      "C:\\Users\\jmartinez\\AppData\\Local\\Temp\\ipykernel_2104\\3576538418.py:150: SettingWithCopyWarning: \n",
      "A value is trying to be set on a copy of a slice from a DataFrame.\n",
      "Try using .loc[row_indexer,col_indexer] = value instead\n",
      "\n",
      "See the caveats in the documentation: https://pandas.pydata.org/pandas-docs/stable/user_guide/indexing.html#returning-a-view-versus-a-copy\n",
      "  Subir_empresacontactoconvenio[\"Paciente__c\"] = Subir_empresacontactoconvenio[\n",
      "C:\\Users\\jmartinez\\AppData\\Local\\Temp\\ipykernel_2104\\3576538418.py:153: SettingWithCopyWarning: \n",
      "A value is trying to be set on a copy of a slice from a DataFrame.\n",
      "Try using .loc[row_indexer,col_indexer] = value instead\n",
      "\n",
      "See the caveats in the documentation: https://pandas.pydata.org/pandas-docs/stable/user_guide/indexing.html#returning-a-view-versus-a-copy\n",
      "  Subir_empresacontactoconvenio[\"N_Documento_Titular__c\"] = Subir_empresacontactoconvenio[\n",
      "C:\\Users\\jmartinez\\AppData\\Local\\Temp\\ipykernel_2104\\3576538418.py:156: SettingWithCopyWarning: \n",
      "A value is trying to be set on a copy of a slice from a DataFrame.\n",
      "Try using .loc[row_indexer,col_indexer] = value instead\n",
      "\n",
      "See the caveats in the documentation: https://pandas.pydata.org/pandas-docs/stable/user_guide/indexing.html#returning-a-view-versus-a-copy\n",
      "  Subir_empresacontactoconvenio[\"Empresa__c\"] = VempresaConvenio\n"
     ]
    }
   ],
   "source": [
    "Pacientes_con_id_no = Pacientes_con_id[Pacientes_con_id[\"RutEstaoNo\"] == False]\n",
    "Pacientes_con_id_no[\"Id Account Paciente\"] = Pacientes_con_id_no[\"rut\"].apply(\n",
    "    lambda y: traerId(y)\n",
    ")\n",
    "Pacientes_con_id_no[\"Id Contacto\"] = Pacientes_con_id_no[\"Id Account Paciente\"].apply(\n",
    "    lambda y: traerContact(y)\n",
    ")\n",
    "Pacientes_con_id_no.to_excel(\n",
    "    \"F:/Empresas SF/reportes/Pacientes_con_id_no.xlsx\", index=False\n",
    ")\n",
    "\n",
    "Pacientes_con_id_si = Pacientes_con_id[Pacientes_con_id[\"RutEstaoNo\"] == True]\n",
    "Pacientes_con_id_si.to_excel(\n",
    "    \"F:/Empresas SF/reportes/Pacientes_con_id_si.xlsx\", index=False\n",
    ")\n",
    "\n",
    "Pacientes_con_id_final = pd.concat(\n",
    "    [\n",
    "        Pacientes_con_id_si,\n",
    "        Pacientes_con_id_no,\n",
    "    ],\n",
    "    axis=0,\n",
    ")\n",
    "\n",
    "Pacientes_con_id_final.to_excel(\n",
    "    \"F:/Empresas SF/reportes/Pacientes_con_id_final.xlsx\", index=False\n",
    ")\n",
    "\n",
    "if campaña == \"Southbridge Plan Mujer\":\n",
    "    VpacientePrograma = \"a1WRN0000007YwD2AU\"\n",
    "    VempresaaAccount = \"001RN000003rwVaYAI\"\n",
    "    VempresaConvenio = \"a3yRN0000006sVTYAY\"\n",
    "elif campaña == \"Southbridge\":\n",
    "    VpacientePrograma = \"a1W8c0000083pM9EAI\"\n",
    "    VempresaaAccount = \"0018c00002f3Ev2AAE\"\n",
    "    VempresaConvenio = \"a3yRN0000006sqYYAQ\"\n",
    "elif campaña == \"Construmart\":\n",
    "    VpacientePrograma = \"a1W8c0000083q9TEAQ\"\n",
    "    VempresaaAccount = \"0018c00002ghJgBAAU\"\n",
    "    VempresaConvenio = \"a3yRN0000006rlZYAQ\"\n",
    "elif campaña == \"EY\":\n",
    "    VpacientePrograma = \"a1W8c0000083laZEAQ\"\n",
    "    VempresaaAccount = \"0018c00002eTboVAAS\"\n",
    "    VempresaConvenio = \"a3yRN0000006rsTYAQ\"\n",
    "elif campaña == \"Colmena\":\n",
    "    VpacientePrograma = \"a1W8c0000083j8rEAA\"\n",
    "    VempresaaAccount = \"0018c00002cXclQAAS\"\n",
    "    VempresaConvenio = \"a3yRN0000006rf5YAA\"\n",
    "elif campaña == \"Pedro De Valdivia\":\n",
    "    VpacientePrograma = \"a1W8c0000083iWiEAI\"\n",
    "    VempresaaAccount = \"0018c00002cXJTsAAO\"\n",
    "    VempresaConvenio = \"a3yRN0000006sVzYAI\"\n",
    "elif campaña == \"Forum\":\n",
    "    VpacientePrograma = \"a1W8c0000083iWiEAI\"\n",
    "    VempresaaAccount = \"0018c00002cXJTsAAO\"\n",
    "    VempresaConvenio = \"a3yRN0000006s3SYAQ\"\n",
    "elif campaña == \"Cruz Verde\":\n",
    "    VpacientePrograma = \"a1W8c0000083iWiEAI\"\n",
    "    VempresaaAccount = \"0018c00002cXJTsAAO\"\n",
    "    VempresaConvenio = \"a3yRN0000006rsqYAA\"\n",
    "elif campaña == \"Milan Fajanovic\":\n",
    "    VpacientePrograma = \"a1W8c0000083iWiEAI\"\n",
    "    VempresaaAccount = \"0018c00002cXJTsAAO\"\n",
    "    VempresaConvenio = \"a3yRN0000006sR4YAI\"\n",
    "elif campaña == \"ProChile\":\n",
    "    VpacientePrograma = \"a1W8c0000083iWiEAI\"\n",
    "    VempresaaAccount = \"0018c00002cXJTsAAO\"\n",
    "    VempresaConvenio = \"a3yRN0000006rpsYAA\"\n",
    "elif campaña == \"Farmacias Ahumada\":\n",
    "    VpacientePrograma = \"a1W8c0000083iWiEAI\"\n",
    "    VempresaaAccount = \"0018c00002cXJTsAAO\"\n",
    "    VempresaConvenio = \"a3yRN0000006rspYAA\"\n",
    "elif campaña == \"Minera El Abra\":\n",
    "    VpacientePrograma = \"a1W8c0000083iWiEAI\"\n",
    "    VempresaaAccount = \"0018c00002cXJTsAAO\"\n",
    "    VempresaConvenio = \"a3yRN0000006snOYAQ\"\n",
    "elif campaña == \"Instruvalve\":\n",
    "    VpacientePrograma = \"a1W8c0000083iWiEAI\"\n",
    "    VempresaaAccount = \"0018c00002cXJTsAAO\"\n",
    "    VempresaConvenio = \"a3yRN0000006s9DYAQ\"\n",
    "elif campaña == \"VidaCel\":\n",
    "    VpacientePrograma = \"a1W8c0000083iWiEAI\"\n",
    "    VempresaaAccount = \"0018c00002cXJTsAAO\"\n",
    "    VempresaConvenio = \"a3yRN0000006suzYAA\"\n",
    "elif campaña == \"Care Assistance Colaboradores\":\n",
    "    VpacientePrograma = \"a1W8c0000083iWiEAI\"\n",
    "    VempresaaAccount = \"0018c00002cXJTsAAO\"\n",
    "    VempresaConvenio = \"a3yRN0000006reXYA\"\n",
    "elif campaña == \"Nexo\":\n",
    "    VpacientePrograma = \"a1W8c0000083iWiEAI\"\n",
    "    VempresaaAccount = \"0018c00002cXJTsAAO\"\n",
    "    VempresaConvenio = \"a3yRN0000006sORYAY\"\n",
    "else:\n",
    "    VpacientePrograma = \"Buscarv\"\n",
    "    VempresaaAccount = \"Buscarv\"\n",
    "    VempresaConvenio = \"Buscarv\"\n",
    "\n",
    "\n",
    "Pacientes_con_id_final[\"esonoes\"] = Pacientes_con_id_final[\"rut\"].isin(\n",
    "    PacientesProgramas_PacientesSF[\"Rut_y\"]\n",
    ")\n",
    "Subir_programas_empresa = Pacientes_con_id_final[\n",
    "    Pacientes_con_id_final[\"esonoes\"] == False\n",
    "]\n",
    "Subir_programas_empresa[\"Paciente__c\"] = Subir_programas_empresa[\"Id Account Paciente\"]\n",
    "Subir_programas_empresa[\"Programas_por_Empresas__c\"] = VpacientePrograma\n",
    "Subir_programas_empresa = Subir_programas_empresa[\n",
    "    [\n",
    "        # \"empresa\",\n",
    "        \"poliza\",\n",
    "        \"Paciente__c\",\n",
    "        \"Programas_por_Empresas__c\",\n",
    "    ]\n",
    "]\n",
    "Subir_programas_empresa.to_excel(\n",
    "    \"F:/Empresas SF/reportes/programas_empresa.xlsx\", index=False\n",
    ")\n",
    "\n",
    "\n",
    "Pacientes_con_id_final[\"esonoes1\"] = Pacientes_con_id_final[\"rut\"].isin(\n",
    "    AccountContact_PacientesSF[\"Rut_y\"]\n",
    ")\n",
    "Subir_AccountContact = Pacientes_con_id_final[\n",
    "    Pacientes_con_id_final[\"esonoes1\"] == False\n",
    "]\n",
    "Subir_AccountContact[\"ContactId\"] = Subir_AccountContact[\"Id Contacto\"]\n",
    "Subir_AccountContact[\"AccountId\"] = VempresaaAccount\n",
    "\n",
    "Subir_AccountContact = Subir_AccountContact[\n",
    "    [\n",
    "        # \"empresa\",\n",
    "        \"poliza\",\n",
    "        \"ContactId\",\n",
    "        \"AccountId\",\n",
    "    ]\n",
    "]\n",
    "Subir_AccountContact.to_excel(\n",
    "    \"F:/Empresas SF/reportes/account_Contact.xlsx\", index=False\n",
    ")\n",
    "\n",
    "empresacontactoconvenio_PacientesSF[\"llave\"] = empresacontactoconvenio_PacientesSF[\"Rut Titular\"] + empresacontactoconvenio_PacientesSF[\"Rut_y\"]\n",
    "Pacientes_con_id_final[\"llaveA\"] = Pacientes_con_id_final[\"rutT\"] + Pacientes_con_id_final[\"rut\"]\n",
    "\n",
    "Pacientes_con_id_final[\"esonoes2\"] = Pacientes_con_id_final[\"llaveA\"].isin(\n",
    "    empresacontactoconvenio_PacientesSF[\"llave\"]\n",
    ")\n",
    "Subir_empresacontactoconvenio = Pacientes_con_id_final[\n",
    "    Pacientes_con_id_final[\"esonoes2\"] == False\n",
    "]\n",
    "Subir_empresacontactoconvenio[\"Paciente__c\"] = Subir_empresacontactoconvenio[\n",
    "    \"Id Account Paciente\"\n",
    "]\n",
    "Subir_empresacontactoconvenio[\"N_Documento_Titular__c\"] = Subir_empresacontactoconvenio[\n",
    "    \"rutT\"\n",
    "]\n",
    "Subir_empresacontactoconvenio[\"Empresa__c\"] = VempresaConvenio\n",
    "\n",
    "Subir_empresacontactoconvenio = Subir_empresacontactoconvenio[\n",
    "    [\n",
    "        \"empleador\",\n",
    "        \"rutE\",\n",
    "        \"poliza\",\n",
    "        \"Paciente__c\",\n",
    "        \"N_Documento_Titular__c\",\n",
    "        \"Empresa__c\",\n",
    "    ]\n",
    "]\n",
    "Subir_empresacontactoconvenio.to_excel(\n",
    "    \"F:/Empresas SF/reportes/empresacontactoconvenio.xlsx\", index=False)\n",
    "Pacientes_con_id_final.to_excel(\n",
    "    \"F:/Empresas SF/reportes/Pacientes_con_id_final2.xlsx\", index=False\n",
    ")\n"
   ]
  },
  {
   "cell_type": "code",
   "execution_count": null,
   "metadata": {},
   "outputs": [],
   "source": [
    "empresacontactoconvenio_PacientesSF.to_excel(\n",
    "    \"F:/Empresas SF/reportes/SFpacientes.xlsx\", index=False)"
   ]
  },
  {
   "cell_type": "code",
   "execution_count": null,
   "metadata": {},
   "outputs": [],
   "source": [
    "contactd = sf.Account.get(\"0018c00002lUyo0AAC\")\n",
    "contactd[\"PersonContactId\"]"
   ]
  },
  {
   "cell_type": "code",
   "execution_count": null,
   "metadata": {},
   "outputs": [],
   "source": [
    "# contactd[\"PersonContactId\"]\n",
    "print(datetime.now())"
   ]
  },
  {
   "cell_type": "code",
   "execution_count": null,
   "metadata": {},
   "outputs": [],
   "source": [
    "Subir_pacientes.to_excel(\"F:/Empresas SF/reportes/todes.xlsx\", index=False)"
   ]
  },
  {
   "cell_type": "markdown",
   "metadata": {},
   "source": [
    "query2 = \"select P_liza**c, Nombre_de_Empresa**c, Rut_Empresa**c, Empresa_Padre**r.Name, Empresa**r.name,Holding**c, Plan**c, Pais**c, Activo**c, Id from Datos_Empresa**c \"\n",
    "\n",
    "df2 = sf.smart_query(query2)\n",
    "df2.to_excel(\"F:/Empresas SF/reportes/empresas_nuevas.xlsx\", index=False)\n",
    "df2.head()\n"
   ]
  },
  {
   "cell_type": "markdown",
   "metadata": {},
   "source": [
    "Subir_pacientes.to_excel(\"F:/Empresas SF/reportes/111account.xlsx\", index=False)\n"
   ]
  },
  {
   "cell_type": "markdown",
   "metadata": {},
   "source": [
    "derty = Subir_pacientes[\"IdentificationId__pc\"]\n",
    "sf.Contact.create({\"IdentificationId\\_\\_pc\": \"derty\", \"Email\": \"example@example.com\"})\n"
   ]
  },
  {
   "cell_type": "markdown",
   "metadata": {},
   "source": [
    "Subir_pacientes.head()\n"
   ]
  },
  {
   "cell_type": "markdown",
   "metadata": {},
   "source": [
    "Subir_pacientes.head()\n",
    "Subir_pacientes.to_excel(\"F:/Empresas SF/reportes/account\\_\\_l.xlsx\", index=False)\n"
   ]
  },
  {
   "cell_type": "code",
   "execution_count": null,
   "metadata": {},
   "outputs": [],
   "source": [
    "\"\"\" if campaña != \"MetLife\":\n",
    "    pacientes_en_campaña = pd.merge(\n",
    "        left=campaña_seleccionada,\n",
    "        right=Pacientes_con_id,\n",
    "        how=\"left\",\n",
    "        left_on=\"Id Account\",\n",
    "        right_on=\"Id Account Paciente\",\n",
    "    )\n",
    "    pacientes_en_campaña[\"Paciente__c\"] = \"Id Pacientes\"\n",
    "    pacientes_en_campaña[\"Programas_por_Empresas__c\"] = \"Id Programas Por empresa\"\n",
    "    pacientes_en_campaña.to_excel(\n",
    "        \"F:/Empresas SF/reportes/campaña_empresa.xlsx\", index=False\n",
    "    )\n",
    "    campaña_en_pacientes = pd.merge(\n",
    "        left=Pacientes_con_id,\n",
    "        right=campaña_seleccionada,\n",
    "        how=\"left\",\n",
    "        left_on=\"Id Account Paciente\",\n",
    "        right_on=\"Id Account\",\n",
    "    )\n",
    "    campaña_en_pacientes.to_excel(\n",
    "        \"F:/Empresas SF/reportes/archivo_campaña.xlsx\", index=False\n",
    "    )\n",
    " \"\"\""
   ]
  },
  {
   "cell_type": "code",
   "execution_count": null,
   "metadata": {},
   "outputs": [],
   "source": [
    "\"\"\" if campaña != \"MetLife1\":\n",
    "    campaña_en_pacientes = pd.merge(\n",
    "        left=Pacientes_con_id,\n",
    "        right=campaña_seleccionada,\n",
    "        how=\"left\",\n",
    "        left_on=\"Id Account Paciente\",\n",
    "        right_on=\"Id Account\",\n",
    "    )\n",
    "    if (\"poliza\" in campaña_en_pacientes.columns) == True:\n",
    "        campaña_en_pacientes[\"poliza\"] = campaña_en_pacientes[\"poliza\"].astype(str)\n",
    "\n",
    "    campaña_en_pacientes = campaña_en_pacientes.rename(\n",
    "        columns={\"Programas_por_Empresas__c\": \"programas por empresa\"}\n",
    "    )\n",
    "    campaña_en_pacientes[\"Paciente__c\"] = campaña_en_pacientes[\"Id Account Paciente\"]\n",
    "    campaña_en_pacientes[\"Programas_por_Empresas__c\"] = campaña_en_pacientes[\n",
    "        \"programas por empresa\"\n",
    "    ]\n",
    "    campaña_en_pacientes.to_excel(\n",
    "        \"F:/Empresas SF/reportes/archivo_campaña2.xlsx\", index=False\n",
    "    ) \"\"\""
   ]
  },
  {
   "cell_type": "code",
   "execution_count": null,
   "metadata": {},
   "outputs": [],
   "source": [
    "# apprix_1 = Pacientes_SF.iloc[:790552,:]\n",
    "# apprix_2 = Pacientes_SF.iloc[790553:,:]\n",
    "# apprix_1.to_excel(\"F:/Empresas SF/reportes/Ruts1.xlsx\",index=False)\n",
    "# apprix_2.to_excel(\"F:/Empresas SF/reportes/Ruts2.xlsx\",index=False)"
   ]
  },
  {
   "cell_type": "code",
   "execution_count": null,
   "metadata": {},
   "outputs": [],
   "source": [
    "campaña_en_pacientes2 = pd.merge(\n",
    "    left=Pacientes_con_id,\n",
    "    right=campaña_seleccionada,\n",
    "    how=\"left\",\n",
    "    left_on=\"Id Account Paciente\",\n",
    "    right_on=\"Id Account\",\n",
    ")\n",
    "if (\"poliza\" in campaña_en_pacientes2.columns) == True:\n",
    "    campaña_en_pacientes2[\"poliza\"] = campaña_en_pacientes2[\"poliza\"].astype(str)\n",
    "\n",
    "campaña_en_pacientes2 = campaña_en_pacientes2.rename(\n",
    "    columns={\"Programas_por_Empresas__c\": \"programas por empresa\"}\n",
    ")\n",
    "campaña_en_pacientes2[\"Paciente__c\"] = campaña_en_pacientes2[\"Id Account Paciente\"]\n",
    "campaña_en_pacientes2[\"Programas_por_Empresas__c\"] = campaña_en_pacientes2[\n",
    "    \"programas por empresa\"\n",
    "]\n",
    "\n",
    "\n",
    "\"\"\" campaña_en_pacientes2 = campaña_en_pacientes2[\n",
    "    (campaña_en_pacientes2[\"Programas_por_Empresas__c\"] == \"\")] \"\"\"\n",
    "campaña_en_pacientes2[\"Esta\"] = campaña_en_pacientes2[\"programas por empresa\"].isnull()\n",
    "campaña_en_pacientes2 = campaña_en_pacientes2[campaña_en_pacientes2[\"Esta\"]]\n",
    "campaña_en_pacientes2.to_excel(\n",
    "    \"F:/Empresas SF/reportes/archivo_campaña3.xlsx\", index=False\n",
    ")"
   ]
  },
  {
   "cell_type": "code",
   "execution_count": null,
   "metadata": {},
   "outputs": [],
   "source": [
    "campaña_en_pacientes2[\"rut\"].shape"
   ]
  },
  {
   "cell_type": "code",
   "execution_count": null,
   "metadata": {},
   "outputs": [],
   "source": [
    "# nuevosrutes = \"F:/Empresas SF/reportes/rut.xlsx\"\n",
    "# campaña = \"BCI Seguros Colectivos\"\n",
    "# Pais = \"Chile\"\n",
    "# Pais = \"México\"\n",
    "\n",
    "# rutes = pd.read_excel(nuevosrutes)\n",
    "rutes = pd.DataFrame(columns=[\"rut\"])\n",
    "rutes[\"rut\"] = Pacientes_Archivo[\"rut\"]\n",
    "rutes[\"rutT\"] = Pacientes_Archivo[\"rut2\"]\n",
    "rutes[\"Contratante\"] = Pacientes_Archivo[\"Contratante\"]\n",
    "# rutes[\"poliza\"] = Pacientes_Archivo[\"poliza\"]\n",
    "rutes.head()"
   ]
  },
  {
   "cell_type": "code",
   "execution_count": null,
   "metadata": {},
   "outputs": [],
   "source": [
    "rutes[\"rut\"] = rutes[\"rut\"].astype(str)\n",
    "rutes[\"rut\"] = rutes[\"rut\"].str.replace(\".\", \"\")\n",
    "rutes[\"rut\"] = rutes[\"rut\"].str.replace(\"-\", \"\")\n",
    "# aca se trabaja con el nuevo rut desde rut1 ojooooooo\n",
    "rutes[\"rut\"] = rutes[\"rut\"].str.upper()\n",
    "rutes[\"rut\"] = rutes[\"rut\"].str.strip()\n",
    "\n",
    "rutes[\"rutT\"] = rutes[\"rutT\"].astype(str)\n",
    "rutes[\"rutT\"] = rutes[\"rutT\"].str.replace(\".\", \"\")\n",
    "rutes[\"rutT\"] = rutes[\"rutT\"].str.replace(\"-\", \"\")\n",
    "# aca se trabaja con el nuevo rut desde rut1 ojooooooo\n",
    "rutes[\"rutT\"] = rutes[\"rutT\"].str.upper()\n",
    "rutes[\"rutT\"] = rutes[\"rutT\"].str.strip()\n",
    "\n",
    "\"\"\" rutes[\"poliza\"] = rutes[\"poliza\"].astype(str)\n",
    "rutes[\"poliza\"] = rutes[\"poliza\"].str.replace(\".\", \"\")\n",
    "rutes[\"poliza\"] = rutes[\"poliza\"].str.replace(\"-\", \"\")\n",
    "# aca se trabaja con el nuevo rut desde rut1 ojooooooo\n",
    "rutes[\"poliza\"] = rutes[\"poliza\"].str.strip() \"\"\"\n",
    "\n",
    "\n",
    "rutes.head()"
   ]
  },
  {
   "cell_type": "code",
   "execution_count": null,
   "metadata": {},
   "outputs": [],
   "source": [
    "# derty = rutes.to_numpy().transpose().tolist()\n",
    "\n",
    "\n",
    "Pacientes_SF2 = Pacientes_SF[[\"Rut\", \"Id Account Paciente\"]]"
   ]
  },
  {
   "cell_type": "code",
   "execution_count": null,
   "metadata": {},
   "outputs": [],
   "source": [
    "rutesi = pd.merge(\n",
    "    left=rutes,\n",
    "    right=Pacientes_SF2,\n",
    "    how=\"left\",\n",
    "    left_on=\"rut\",\n",
    "    right_on=\"Rut\",\n",
    ")\n",
    "rutesi.shape\n",
    "rutesi.to_excel(\"F:/Empresas SF/reportes/rutsyempresa.xlsx\", index=False)"
   ]
  },
  {
   "cell_type": "code",
   "execution_count": null,
   "metadata": {},
   "outputs": [],
   "source": [
    "rutesi.head()"
   ]
  },
  {
   "cell_type": "code",
   "execution_count": null,
   "metadata": {},
   "outputs": [],
   "source": [
    "rutesi_antg = pd.merge(\n",
    "    left=rutesi,\n",
    "    right=empresas_unidas,\n",
    "    how=\"left\",\n",
    "    left_on=\"Id Account Paciente\",\n",
    "    right_on=\"Id Account\",\n",
    ")"
   ]
  },
  {
   "cell_type": "code",
   "execution_count": null,
   "metadata": {},
   "outputs": [],
   "source": [
    "rutesi_antg.head()"
   ]
  },
  {
   "cell_type": "code",
   "execution_count": null,
   "metadata": {},
   "outputs": [],
   "source": [
    "# rutesi_antg .to_excel(\"F:/Empresas SF/reportes/ruts_empresas_antiguos.xlsx\", index=False)"
   ]
  },
  {
   "cell_type": "code",
   "execution_count": null,
   "metadata": {},
   "outputs": [],
   "source": [
    "import json\n",
    "import pandas as pd\n",
    "from simple_salesforce import Salesforce, format_soql, format_external_id\n",
    "from json import loads, dumps\n",
    "import simpler_sf\n",
    "\n",
    "simpler_sf.simple_salesforce()"
   ]
  },
  {
   "cell_type": "code",
   "execution_count": null,
   "metadata": {},
   "outputs": [],
   "source": [
    "with open(\"login.json\", \"r\") as j:\n",
    "    misDatos = json.load(j)\n",
    "sf = Salesforce(\n",
    "    username=misDatos[\"username\"],\n",
    "    password=misDatos[\"password\"],\n",
    "    security_token=misDatos[\"security_token\"],\n",
    ")"
   ]
  },
  {
   "cell_type": "code",
   "execution_count": null,
   "metadata": {},
   "outputs": [],
   "source": [
    "\"\"\" query = \"select Id, Account.Name, RutContact__c from AccountContactRelation \"\n",
    "\n",
    "df1 = sf.smart_query(query) \"\"\""
   ]
  },
  {
   "cell_type": "code",
   "execution_count": null,
   "metadata": {},
   "outputs": [],
   "source": [
    "# nuevosrutes = \"F:/Empresas SF/reportes/rut.xlsx\"\n",
    "# campaña = \"BCI Seguros Colectivos\"\n",
    "# Pais = \"Chile\"\n",
    "# Pais = \"México\"\n",
    "\n",
    "# rutes = pd.read_excel(nuevosrutes)\n",
    "# rutes = Subir_pacientes[\"rut\"]"
   ]
  },
  {
   "cell_type": "code",
   "execution_count": null,
   "metadata": {},
   "outputs": [],
   "source": [
    "\"\"\" df1.head() \"\"\""
   ]
  },
  {
   "cell_type": "code",
   "execution_count": null,
   "metadata": {},
   "outputs": [],
   "source": [
    "\"\"\" df1[\"rut\"] = df1[\"RutContact__c\"].astype(str)\n",
    "df1[\"rut\"] = df1[\"rut\"].str.replace(\".\", \"\")\n",
    "df1[\"rut\"] = df1[\"rut\"].str.replace(\n",
    "    \"-\", \"\"\n",
    ")  # aca se trabaja con el nuevo rut desde rut1 ojooooooo\n",
    "df1[\"rut\"] = df1[\"rut\"].str.upper()\n",
    "df1[\"rut\"] = df1[\"rut\"].str.strip()\n",
    "df1.head() \"\"\""
   ]
  },
  {
   "cell_type": "code",
   "execution_count": null,
   "metadata": {},
   "outputs": [],
   "source": [
    "\"\"\" rutes.head() \"\"\""
   ]
  },
  {
   "cell_type": "code",
   "execution_count": null,
   "metadata": {},
   "outputs": [],
   "source": [
    "\"\"\" rutesi = pd.merge(\n",
    "    left=rutes,\n",
    "    right=df1,\n",
    "    how=\"left\",\n",
    "    left_on=\"rut\",\n",
    "    right_on=\"rut\",\n",
    ") \"\"\""
   ]
  },
  {
   "cell_type": "code",
   "execution_count": null,
   "metadata": {},
   "outputs": [],
   "source": [
    "\"\"\" rutesi.to_excel(\"F:/Empresas SF/reportes/rutesnuevos_accountcontactrelation.xlsx\", index=False) \"\"\""
   ]
  },
  {
   "cell_type": "code",
   "execution_count": null,
   "metadata": {},
   "outputs": [],
   "source": [
    "\"\"\" df2[\"P_liza__c\"] = df2[\"P_liza__c\"].astype(str)\n",
    "df2[\"P_liza__c\"] = df2[\"P_liza__c\"].str.replace(\".\", \"\")\n",
    "df2[\"P_liza__c\"] = df2[\"P_liza__c\"].str.replace(\"-\", \"\")\n",
    "# aca se trabaja con el nuevo rut desde rut1 ojooooooo\n",
    "df2[\"P_liza__c\"] = df2[\"P_liza__c\"].str.upper()\n",
    "df2[\"P_liza__c\"] = df2[\"P_liza__c\"].str.strip() \"\"\""
   ]
  },
  {
   "cell_type": "code",
   "execution_count": null,
   "metadata": {},
   "outputs": [],
   "source": [
    "modelo_nuevo = pd.merge(\n",
    "    left=rutesi,\n",
    "    right=df2,\n",
    "    how=\"left\",\n",
    "    left_on=\"poliza\",\n",
    "    right_on=\"P_liza__c\",\n",
    ")\n",
    "modelo_nuevo.to_excel(\"F:/Empresas SF/reportes/modelo_nuevo.xlsx\", index=False)"
   ]
  },
  {
   "cell_type": "code",
   "execution_count": null,
   "metadata": {},
   "outputs": [],
   "source": [
    "modelo = pd.DataFrame()\n",
    "modelo = modelo_nuevo[[\"rutT\", \"Id Account Paciente\", \"Id\"]]"
   ]
  },
  {
   "cell_type": "code",
   "execution_count": null,
   "metadata": {},
   "outputs": [],
   "source": [
    "modelo.head()"
   ]
  }
 ],
 "metadata": {
  "kernelspec": {
   "display_name": "salesforce",
   "language": "python",
   "name": "python3"
  },
  "language_info": {
   "codemirror_mode": {
    "name": "ipython",
    "version": 3
   },
   "file_extension": ".py",
   "mimetype": "text/x-python",
   "name": "python",
   "nbconvert_exporter": "python",
   "pygments_lexer": "ipython3",
   "version": "3.8.16"
  },
  "orig_nbformat": 4,
  "vscode": {
   "interpreter": {
    "hash": "7fbccfb583f385d5cd7c75cc6ade03c09354727271e9200f47ca4e7fedb5381e"
   }
  }
 },
 "nbformat": 4,
 "nbformat_minor": 2
}
