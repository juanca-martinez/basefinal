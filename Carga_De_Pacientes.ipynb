{
 "cells": [
  {
   "cell_type": "code",
   "execution_count": 1,
   "metadata": {
    "notebookRunGroups": {
     "groupValue": "1"
    }
   },
   "outputs": [],
   "source": [
    "from pathlib import Path\n",
    "import requests\n",
    "import pandas as pd\n",
    "import numpy as np\n",
    "from io import StringIO\n",
    "import shutil\n",
    "import datetime\n",
    "from datetime import datetime\n",
    "import re\n",
    "import json\n",
    "from pandas.api.types import is_numeric_dtype\n",
    "from simple_salesforce import Salesforce, format_soql, format_external_id\n",
    "from simple_salesforce.exceptions import SalesforceMalformedRequest\n",
    "import simpler_sf\n",
    "\n",
    "simpler_sf.simple_salesforce()"
   ]
  },
  {
   "cell_type": "code",
   "execution_count": 2,
   "metadata": {
    "notebookRunGroups": {
     "groupValue": "1"
    }
   },
   "outputs": [],
   "source": [
    "with open(\"login.json\", \"r\") as j:\n",
    "    misDatos = json.load(j)"
   ]
  },
  {
   "cell_type": "code",
   "execution_count": 3,
   "metadata": {
    "notebookRunGroups": {
     "groupValue": "1"
    }
   },
   "outputs": [],
   "source": [
    "# para smart query\n",
    "\"\"\" sf = simple_salesforce.Salesforce(\n",
    "    username=misDatos[\"username\"],\n",
    "    password=misDatos[\"password\"],\n",
    "    security_token=misDatos[\"security_token\"],\n",
    ")\n",
    " \"\"\"\n",
    "# para lo demas\n",
    "sf = Salesforce(\n",
    "    username=misDatos[\"username\"],\n",
    "    password=misDatos[\"password\"],\n",
    "    security_token=misDatos[\"security_token\"],\n",
    ")\n",
    "# paramiko.util.log_to_file(\"paramiko.log\")\n",
    "regex = re.compile(r\"([A-Za-z0-9]+[.-_])*[A-Za-z0-9]+@[A-Za-z0-9-]+(\\.[A-Z|a-z]{2,})+\")"
   ]
  },
  {
   "cell_type": "markdown",
   "metadata": {},
   "source": [
    "Descarga de empresas en sistema\n"
   ]
  },
  {
   "cell_type": "code",
   "execution_count": 4,
   "metadata": {
    "notebookRunGroups": {
     "groupValue": "1"
    }
   },
   "outputs": [
    {
     "data": {
      "text/plain": [
       "' llamadaEmpresaAntiguas = \"SELECT Id,Empresa__r.Id, Empresa__r.Name, Empresa__r.Holding__c, Empresa__r.Campa_a__c, Empresa__r.Id_Empresa__c, Empresa__r.Empleador__c, Empresa__r.poliza__c, Empresa__r.RUT_Empresa__c, Empresa__r.Corredor__c,Empresa__r.Padre_Empresa__c, Name FROM Programas_por_Empresas__c WHERE Empresa__r.Padre_Empresa__c = false\"\\nvllamadaEmpresa = sf.smart_query(llamadaEmpresaAntiguas)\\nvllamadaEmpresa.to_excel(\"F:/Empresas SF/reportes/empresas_Antiguas.xlsx\", index=False)\\nvllamadaEmpresa.head() '"
      ]
     },
     "execution_count": 4,
     "metadata": {},
     "output_type": "execute_result"
    }
   ],
   "source": [
    "\"\"\" llamadaEmpresaAntiguas = \"SELECT Id,Empresa__r.Id, Empresa__r.Name, Empresa__r.Holding__c, Empresa__r.Campa_a__c, Empresa__r.Id_Empresa__c, Empresa__r.Empleador__c, Empresa__r.poliza__c, Empresa__r.RUT_Empresa__c, Empresa__r.Corredor__c,Empresa__r.Padre_Empresa__c, Name FROM Programas_por_Empresas__c WHERE Empresa__r.Padre_Empresa__c = false\"\n",
    "vllamadaEmpresa = sf.smart_query(llamadaEmpresaAntiguas)\n",
    "vllamadaEmpresa.to_excel(\"F:/Empresas SF/reportes/empresas_Antiguas.xlsx\", index=False)\n",
    "vllamadaEmpresa.head() \"\"\""
   ]
  },
  {
   "cell_type": "markdown",
   "metadata": {},
   "source": [
    "vllamadaEmpresa.shape\n"
   ]
  },
  {
   "cell_type": "code",
   "execution_count": 5,
   "metadata": {
    "notebookRunGroups": {
     "groupValue": "1"
    }
   },
   "outputs": [
    {
     "data": {
      "text/plain": [
       "')\\nEmpresas_SF = pd.DataFrame(results[\"records\"])\\nEmpresas_SF = Empresas_SF[\\n    [\\n        \"Id\",\\n        \"Name\",\\n        \"Holding__c\",\\n        \"Campa_a__c\",\\n        \"Id_Empresa__c\",\\n        \"Empleador__c\",\\n        \"poliza__c\",\\n        \"RUT_Empresa__c\",\\n    ]\\n]\\nEmpresas_SF.shape '"
      ]
     },
     "execution_count": 5,
     "metadata": {},
     "output_type": "execute_result"
    }
   ],
   "source": [
    "# Recuperar empresas ID de salesforce desde Account\n",
    "\"\"\" results = sf.query_all(\"\"\"\n",
    "    #\"\"\"\n",
    "  #SELECT Id, name, Holding__c ,Campa_a__c,Id_Empresa__c,Empleador__c,poliza__c,RUT_Empresa__c  FROM account where ispersonaccount = false  AND Nueva_Estructura__c = False\n",
    "    #\"\"\"\n",
    "\"\"\")\n",
    "Empresas_SF = pd.DataFrame(results[\"records\"])\n",
    "Empresas_SF = Empresas_SF[\n",
    "    [\n",
    "        \"Id\",\n",
    "        \"Name\",\n",
    "        \"Holding__c\",\n",
    "        \"Campa_a__c\",\n",
    "        \"Id_Empresa__c\",\n",
    "        \"Empleador__c\",\n",
    "        \"poliza__c\",\n",
    "        \"RUT_Empresa__c\",\n",
    "    ]\n",
    "]\n",
    "Empresas_SF.shape \"\"\""
   ]
  },
  {
   "cell_type": "code",
   "execution_count": 6,
   "metadata": {
    "notebookRunGroups": {
     "groupValue": "1"
    }
   },
   "outputs": [],
   "source": [
    "# buscar empresas desde Programas_por_Empresas__c datos de empresas\n",
    "#results = sf.query_all(\n",
    "#    \"\"\"\n",
    "#   select Id,Empresa__c, Empresa_Padre__c,Nombre_Empresa__c, Name  from Programas_por_Empresas__c \n",
    "#    \"\"\"\n",
    "#)\n",
    "#Programas_por_empresa_SF = pd.DataFrame(results[\"records\"])\n",
    "\n",
    "#Programas_por_empresa_SF = Programas_por_empresa_SF[\n",
    "#    [\"Id\", \"Empresa__c\", \"Empresa_Padre__c\", \"Nombre_Empresa__c\", \"Name\"]\n",
    "#]\n",
    "#Programas_por_empresa_SF.shape"
   ]
  },
  {
   "cell_type": "code",
   "execution_count": 7,
   "metadata": {
    "notebookRunGroups": {
     "groupValue": "1"
    }
   },
   "outputs": [
    {
     "data": {
      "text/plain": [
       "' Programas_empresas = pd.merge(\\n    left=Empresas_SF,\\n    right=Programas_por_empresa_SF,\\n    how=\"left\",\\n    left_on=\"Id\",\\n    right_on=\"Empresa__c\",\\n)\\nProgramas_empresas = Programas_empresas.rename(\\n    columns={\\n        \"Id_x\": \"Id Account Empresa\",\\n        \"Name_x\": \"Nombre Empresa\",\\n        \"Holding__c\": \"Holding\",\\n        \"Campa_a__c\": \"Campaña\",\\n        \"Empleador__c\": \"Empleador\",\\n        \"poliza__c\": \"Poliza\",\\n        \"RUT_Empresa__c\": \"Rut Empresa\",\\n        \"Id_y\": \"Programas_por_Empresas__c\",\\n        \"Id_Empresa__c\": \"Codigo EMP\",\\n        \"Name_y\": \"Codigo A\",\\n    }\\n)\\nProgramas_empresas = Programas_empresas[\\n    [\\n        \"Id Account Empresa\",\\n        \"Nombre Empresa\",\\n        \"Holding\",\\n        \"Campaña\",\\n        \"Empleador\",\\n        \"Poliza\",\\n        \"Rut Empresa\",\\n        \"Programas_por_Empresas__c\",\\n        \"Codigo EMP\",\\n        \"Codigo A\",\\n    ]\\n]\\n\\nProgramas_empresas.shape '"
      ]
     },
     "execution_count": 7,
     "metadata": {},
     "output_type": "execute_result"
    }
   ],
   "source": [
    "# Union de Programas Empresa y empresas\n",
    "\"\"\" Programas_empresas = pd.merge(\n",
    "    left=Empresas_SF,\n",
    "    right=Programas_por_empresa_SF,\n",
    "    how=\"left\",\n",
    "    left_on=\"Id\",\n",
    "    right_on=\"Empresa__c\",\n",
    ")\n",
    "Programas_empresas = Programas_empresas.rename(\n",
    "    columns={\n",
    "        \"Id_x\": \"Id Account Empresa\",\n",
    "        \"Name_x\": \"Nombre Empresa\",\n",
    "        \"Holding__c\": \"Holding\",\n",
    "        \"Campa_a__c\": \"Campaña\",\n",
    "        \"Empleador__c\": \"Empleador\",\n",
    "        \"poliza__c\": \"Poliza\",\n",
    "        \"RUT_Empresa__c\": \"Rut Empresa\",\n",
    "        \"Id_y\": \"Programas_por_Empresas__c\",\n",
    "        \"Id_Empresa__c\": \"Codigo EMP\",\n",
    "        \"Name_y\": \"Codigo A\",\n",
    "    }\n",
    ")\n",
    "Programas_empresas = Programas_empresas[\n",
    "    [\n",
    "        \"Id Account Empresa\",\n",
    "        \"Nombre Empresa\",\n",
    "        \"Holding\",\n",
    "        \"Campaña\",\n",
    "        \"Empleador\",\n",
    "        \"Poliza\",\n",
    "        \"Rut Empresa\",\n",
    "        \"Programas_por_Empresas__c\",\n",
    "        \"Codigo EMP\",\n",
    "        \"Codigo A\",\n",
    "    ]\n",
    "]\n",
    "\n",
    "Programas_empresas.shape \"\"\""
   ]
  },
  {
   "cell_type": "code",
   "execution_count": 8,
   "metadata": {
    "notebookRunGroups": {
     "groupValue": "1"
    }
   },
   "outputs": [],
   "source": [
    "#Programas_empresas.to_excel(\"F:/Empresas SF/reportes/empresas.xlsx\", index=False)"
   ]
  },
  {
   "cell_type": "code",
   "execution_count": 9,
   "metadata": {
    "notebookRunGroups": {
     "groupValue": "1"
    }
   },
   "outputs": [
    {
     "name": "stderr",
     "output_type": "stream",
     "text": [
      "  0%|          | 0/1 [00:00<?, ?it/s]"
     ]
    },
    {
     "name": "stderr",
     "output_type": "stream",
     "text": [
      "100%|██████████| 1/1 [00:07<00:00,  7.69s/it]\n"
     ]
    },
    {
     "data": {
      "text/html": [
       "<div>\n",
       "<style scoped>\n",
       "    .dataframe tbody tr th:only-of-type {\n",
       "        vertical-align: middle;\n",
       "    }\n",
       "\n",
       "    .dataframe tbody tr th {\n",
       "        vertical-align: top;\n",
       "    }\n",
       "\n",
       "    .dataframe thead th {\n",
       "        text-align: right;\n",
       "    }\n",
       "</style>\n",
       "<table border=\"1\" class=\"dataframe\">\n",
       "  <thead>\n",
       "    <tr style=\"text-align: right;\">\n",
       "      <th></th>\n",
       "      <th>P_liza__c</th>\n",
       "      <th>Nombre_de_Empresa__c</th>\n",
       "      <th>Identificador__c</th>\n",
       "      <th>Rut_Empresa__c</th>\n",
       "      <th>Empresa_Padre__r.Name</th>\n",
       "      <th>Holding__c</th>\n",
       "      <th>Plan__c</th>\n",
       "      <th>Pais__c</th>\n",
       "      <th>Activo__c</th>\n",
       "      <th>Id</th>\n",
       "      <th>LLave</th>\n",
       "      <th>dato</th>\n",
       "    </tr>\n",
       "  </thead>\n",
       "  <tbody>\n",
       "    <tr>\n",
       "      <th>0</th>\n",
       "      <td>Sin Póliza Asociada</td>\n",
       "      <td>Colaboradores Care Assistance Chile SPA</td>\n",
       "      <td>Colaboradores Care Assistance Chile SPA</td>\n",
       "      <td>775173998</td>\n",
       "      <td>Colaboradores</td>\n",
       "      <td>Siempre Chile SPA</td>\n",
       "      <td>Plan Gold</td>\n",
       "      <td>Chile</td>\n",
       "      <td>False</td>\n",
       "      <td>a3yRN0000006mmjYAA</td>\n",
       "      <td>775173998Sin Póliza Asociada</td>\n",
       "      <td>1</td>\n",
       "    </tr>\n",
       "    <tr>\n",
       "      <th>1</th>\n",
       "      <td>-</td>\n",
       "      <td>Apunto Servicios De Alimentacion</td>\n",
       "      <td>Apunto Servicios De Alimentacion</td>\n",
       "      <td>-</td>\n",
       "      <td>Consalud</td>\n",
       "      <td>Holding Consalud</td>\n",
       "      <td>-</td>\n",
       "      <td>Chile</td>\n",
       "      <td>False</td>\n",
       "      <td>a3yRN0000006rG9YAI</td>\n",
       "      <td>-</td>\n",
       "      <td>1</td>\n",
       "    </tr>\n",
       "    <tr>\n",
       "      <th>2</th>\n",
       "      <td>-</td>\n",
       "      <td>2M Inmobiliaria Spa.</td>\n",
       "      <td>2M Inmobiliaria Spa.</td>\n",
       "      <td>-</td>\n",
       "      <td>THB Seguros COVID</td>\n",
       "      <td>Solo Titulares</td>\n",
       "      <td>-</td>\n",
       "      <td>Chile</td>\n",
       "      <td>True</td>\n",
       "      <td>a3yRN0000006rGAYAY</td>\n",
       "      <td>-</td>\n",
       "      <td>1</td>\n",
       "    </tr>\n",
       "    <tr>\n",
       "      <th>3</th>\n",
       "      <td>-</td>\n",
       "      <td>360 Gms Capacitacion Spa.</td>\n",
       "      <td>360 Gms Capacitacion Spa.</td>\n",
       "      <td>-</td>\n",
       "      <td>THB Seguros COVID</td>\n",
       "      <td>Solo Titulares</td>\n",
       "      <td>-</td>\n",
       "      <td>Chile</td>\n",
       "      <td>True</td>\n",
       "      <td>a3yRN0000006rGBYAY</td>\n",
       "      <td>-</td>\n",
       "      <td>1</td>\n",
       "    </tr>\n",
       "    <tr>\n",
       "      <th>4</th>\n",
       "      <td>-</td>\n",
       "      <td>361 Gms Capacitacion Spa.</td>\n",
       "      <td>361 Gms Capacitacion Spa.</td>\n",
       "      <td>-</td>\n",
       "      <td>THB Seguros COVID</td>\n",
       "      <td>Solo Titulares</td>\n",
       "      <td>-</td>\n",
       "      <td>Chile</td>\n",
       "      <td>True</td>\n",
       "      <td>a3yRN0000006rGCYAY</td>\n",
       "      <td>-</td>\n",
       "      <td>1</td>\n",
       "    </tr>\n",
       "  </tbody>\n",
       "</table>\n",
       "</div>"
      ],
      "text/plain": [
       "             P_liza__c                     Nombre_de_Empresa__c  \\\n",
       "0  Sin Póliza Asociada  Colaboradores Care Assistance Chile SPA   \n",
       "1                    -         Apunto Servicios De Alimentacion   \n",
       "2                    -                     2M Inmobiliaria Spa.   \n",
       "3                    -                360 Gms Capacitacion Spa.   \n",
       "4                    -                361 Gms Capacitacion Spa.   \n",
       "\n",
       "                          Identificador__c Rut_Empresa__c  \\\n",
       "0  Colaboradores Care Assistance Chile SPA      775173998   \n",
       "1         Apunto Servicios De Alimentacion              -   \n",
       "2                     2M Inmobiliaria Spa.              -   \n",
       "3                360 Gms Capacitacion Spa.              -   \n",
       "4                361 Gms Capacitacion Spa.              -   \n",
       "\n",
       "  Empresa_Padre__r.Name         Holding__c    Plan__c Pais__c  Activo__c  \\\n",
       "0         Colaboradores  Siempre Chile SPA  Plan Gold   Chile      False   \n",
       "1              Consalud   Holding Consalud          -   Chile      False   \n",
       "2     THB Seguros COVID     Solo Titulares          -   Chile       True   \n",
       "3     THB Seguros COVID     Solo Titulares          -   Chile       True   \n",
       "4     THB Seguros COVID     Solo Titulares          -   Chile       True   \n",
       "\n",
       "                   Id                         LLave  dato  \n",
       "0  a3yRN0000006mmjYAA  775173998Sin Póliza Asociada     1  \n",
       "1  a3yRN0000006rG9YAI                             -     1  \n",
       "2  a3yRN0000006rGAYAY                             -     1  \n",
       "3  a3yRN0000006rGBYAY                             -     1  \n",
       "4  a3yRN0000006rGCYAY                             -     1  "
      ]
     },
     "execution_count": 9,
     "metadata": {},
     "output_type": "execute_result"
    }
   ],
   "source": [
    "query2 = \"select P_liza__c, Nombre_de_Empresa__c,Identificador__c, Rut_Empresa__c, Empresa_Padre__r.Name, Empresa__r.name,Holding__c, Plan__c, Pais__c, Activo__c, Id from Datos_Empresa__c \"\n",
    "\n",
    "df2 = sf.smart_query(query2)\n",
    "df2[\"LLave\"] = df2[\"Rut_Empresa__c\"].str.upper().str.replace(\"-\", \"\") + df2[\"P_liza__c\"]\n",
    "df2[\"dato\"] = 1\n",
    "df2.to_excel(\"F:/Empresas SF/reportes/empresas_nuevas.xlsx\", index=False)\n",
    "df2.head()"
   ]
  },
  {
   "attachments": {},
   "cell_type": "markdown",
   "metadata": {},
   "source": [
    "fin empresas y comienzo de rescate de pacientes\n"
   ]
  },
  {
   "cell_type": "code",
   "execution_count": 10,
   "metadata": {
    "notebookRunGroups": {
     "groupValue": "1"
    }
   },
   "outputs": [
    {
     "data": {
      "text/plain": [
       "(2001448, 10)"
      ]
     },
     "execution_count": 10,
     "metadata": {},
     "output_type": "execute_result"
    }
   ],
   "source": [
    "# CArga de PAcientes\n",
    "results = sf.query_all(\n",
    "    \"\"\"\n",
    "    select Id, IdentificationId__pc,Name, Identification_Type__c, Ocupaci_n__c,  PersonTitle ,PersonDepartment,HealthCloudGA__Gender__pc,Phone,PersonContactId  from Account where ispersonaccount = True \n",
    "   \"\"\"\n",
    ")\n",
    "Pacientes_SF = pd.DataFrame(results[\"records\"])\n",
    "\n",
    "Pacientes_SF = Pacientes_SF[\n",
    "    [\n",
    "        \"Id\",\n",
    "        \"IdentificationId__pc\",\n",
    "        \"Name\",\n",
    "        \"Identification_Type__c\",\n",
    "        \"Ocupaci_n__c\",\n",
    "        \"PersonTitle\",\n",
    "        \"PersonDepartment\",\n",
    "        \"HealthCloudGA__Gender__pc\",\n",
    "        \"Phone\",\n",
    "        \"PersonContactId\",\n",
    "    ]\n",
    "]\n",
    "Pacientes_SF = Pacientes_SF.rename(\n",
    "    columns={\n",
    "        \"Id\": \"Id Account Paciente\",\n",
    "        \"IdentificationId__pc\": \"Rut\",\n",
    "        \"Name\": \"Nombre\",\n",
    "        \"Ocupaci_n__c\": \"Ocupacion\",\n",
    "        \"PersonTitle\": \"Cargo\",\n",
    "        \"PersonDepartment\": \"Departamento\",\n",
    "        \"HealthCloudGA__Gender__pc\": \"Sexo\",\n",
    "        \"Phone\": \"Telefono\",\n",
    "        \"Identification_Type__c\": \"Tipo de Documento\",\n",
    "        \"PersonContactId\": \"Id Contacto\",\n",
    "    }\n",
    ")\n",
    "Pacientes_SF.shape"
   ]
  },
  {
   "cell_type": "code",
   "execution_count": 11,
   "metadata": {
    "notebookRunGroups": {
     "groupValue": "1"
    }
   },
   "outputs": [],
   "source": [
    "def siPrimerCero(y,campana):\n",
    "    if campana != \"ProChile\":    \n",
    "        if len(y) <= 4:\n",
    "            return \"NONE\"\n",
    "        if y[0] == \"0\":\n",
    "            y = y[1:]\n",
    "        #return y\n",
    "    return y"
   ]
  },
  {
   "cell_type": "code",
   "execution_count": 12,
   "metadata": {
    "notebookRunGroups": {
     "groupValue": "1"
    }
   },
   "outputs": [
    {
     "name": "stderr",
     "output_type": "stream",
     "text": [
      "C:\\Users\\jmartinez\\AppData\\Local\\Temp\\ipykernel_16168\\933068120.py:6: FutureWarning: The default value of regex will change from True to False in a future version. In addition, single character regular expressions will *not* be treated as literal strings when regex=True.\n",
      "  Pacientes_SF[\"Rut\"] = Pacientes_SF[\"Rut\"].str.replace(\".\", \"\")\n"
     ]
    }
   ],
   "source": [
    "Pacientes_SF[\"Rut\"] = Pacientes_SF[\"Rut\"].astype(str)\n",
    "Pacientes_SF[\"Rut\"] = Pacientes_SF[\"Rut\"].str.upper()\n",
    "Pacientes_SF[\"Rut\"] = Pacientes_SF[\"Rut\"].str.replace(\"-\", \"\")\n",
    "Pacientes_SF[\"Rut\"] = Pacientes_SF[\"Rut\"].str.replace(\"–\", \"\")\n",
    "Pacientes_SF[\"Rut\"] = Pacientes_SF[\"Rut\"].astype(str)\n",
    "Pacientes_SF[\"Rut\"] = Pacientes_SF[\"Rut\"].str.replace(\".\", \"\")\n",
    "Pacientes_SF[\"Rut\"] = Pacientes_SF[\"Rut\"].apply(lambda y: siPrimerCero(y,\"0\"))\n",
    "Pacientes_SF[\"Rut\"] = Pacientes_SF[\"Rut\"].str.strip()"
   ]
  },
  {
   "cell_type": "code",
   "execution_count": 13,
   "metadata": {
    "notebookRunGroups": {
     "groupValue": "1"
    }
   },
   "outputs": [],
   "source": [
    "Pacientes_Nones1 = Pacientes_SF[(Pacientes_SF[\"Rut\"] == \"NONE\")]\n",
    "Pacientes_SF = Pacientes_SF[(Pacientes_SF[\"Rut\"] != \"NONE\")]\n",
    "Pacientes_Nones1.to_excel(\"F:/Empresas SF/reportes/NONE1.xlsx\", index=False)"
   ]
  },
  {
   "attachments": {},
   "cell_type": "markdown",
   "metadata": {},
   "source": [
    "Aca se comienzan a unir las relaciones de pacientes y empresas ya creadas.\n"
   ]
  },
  {
   "cell_type": "markdown",
   "metadata": {
    "notebookRunGroups": {
     "groupValue": "1"
    }
   },
   "source": [
    "# buscar empresas desde Paciente_Programas\\_\\_c relaciones de empresas con pacientes\n",
    "\n",
    "results = sf.query_all(\n",
    "\"\"\"\n",
    "select Id,Paciente**c, Programas_por_Empresas**c,padre**c from Paciente_Programas**c  \n",
    " \"\"\"\n",
    ")\n",
    "Paciente_Programas_SF = pd.DataFrame(results[\"records\"])\n",
    "\n",
    "Paciente_Programas_SF = Paciente_Programas_SF[\n",
    "[\"Id\", \"Paciente__c\", \"Programas_por_Empresas__c\", \"padre__c\"]\n",
    "]\n",
    "Paciente_Programas_SF = Paciente_Programas_SF.rename(\n",
    "columns={\n",
    "\"Id\": \"Id Pacientes_Programas**c\",\n",
    "\"Paciente**c\": \"Id Account\",\n",
    "\"Programas_por_Empresas**c\": \"Programas_por_Empresas**c\",\n",
    "\"padre\\_\\_c\": \"Nombre Campaña\",\n",
    "}\n",
    ")\n",
    "Paciente_Programas_SF.shape\n"
   ]
  },
  {
   "cell_type": "markdown",
   "metadata": {
    "notebookRunGroups": {
     "groupValue": "1"
    }
   },
   "source": [
    "# Union de Pacientes Programas y Programas por empresa\n",
    "\n",
    "empresas_unidas = pd.merge(\n",
    "left=Paciente_Programas_SF,\n",
    "right=Programas_empresas,\n",
    "how=\"left\",\n",
    "left_on=\"Programas_por_Empresas**c\",\n",
    "right_on=\"Programas_por_Empresas**c\",\n",
    ")\n",
    "empresas_unidas.shape\n"
   ]
  },
  {
   "attachments": {},
   "cell_type": "markdown",
   "metadata": {},
   "source": [
    "Carga de Archivo carga\n"
   ]
  },
  {
   "cell_type": "code",
   "execution_count": 33,
   "metadata": {
    "notebookRunGroups": {
     "groupValue": "2"
    }
   },
   "outputs": [
    {
     "data": {
      "text/html": [
       "<div>\n",
       "<style scoped>\n",
       "    .dataframe tbody tr th:only-of-type {\n",
       "        vertical-align: middle;\n",
       "    }\n",
       "\n",
       "    .dataframe tbody tr th {\n",
       "        vertical-align: top;\n",
       "    }\n",
       "\n",
       "    .dataframe thead th {\n",
       "        text-align: right;\n",
       "    }\n",
       "</style>\n",
       "<table border=\"1\" class=\"dataframe\">\n",
       "  <thead>\n",
       "    <tr style=\"text-align: right;\">\n",
       "      <th></th>\n",
       "      <th>poliza</th>\n",
       "      <th>rutE</th>\n",
       "      <th>empleador</th>\n",
       "      <th>nombres</th>\n",
       "      <th>PATERNO</th>\n",
       "      <th>MATERNO</th>\n",
       "      <th>apellidos</th>\n",
       "      <th>RUTASEGURADO</th>\n",
       "      <th>RUTASEGURADODV</th>\n",
       "      <th>rut1</th>\n",
       "      <th>...</th>\n",
       "      <th>direccion</th>\n",
       "      <th>comuna</th>\n",
       "      <th>ciudad</th>\n",
       "      <th>celular</th>\n",
       "      <th>email</th>\n",
       "      <th>nacimiento</th>\n",
       "      <th>sexo</th>\n",
       "      <th>VIGENCIA</th>\n",
       "      <th>VIGENCIADESDE</th>\n",
       "      <th>VIGENCIAHASTA</th>\n",
       "    </tr>\n",
       "  </thead>\n",
       "  <tbody>\n",
       "    <tr>\n",
       "      <th>0</th>\n",
       "      <td>123240000001</td>\n",
       "      <td>B</td>\n",
       "      <td>MetLife Joven Premium</td>\n",
       "      <td>GERVACIO AARON</td>\n",
       "      <td>RODRIGUEZ</td>\n",
       "      <td>PEÑA</td>\n",
       "      <td>RODRIGUEZ PEÑA</td>\n",
       "      <td>19333177</td>\n",
       "      <td>7</td>\n",
       "      <td>19333177-7</td>\n",
       "      <td>...</td>\n",
       "      <td>Valle Trancura 1235</td>\n",
       "      <td>CONCEPCION</td>\n",
       "      <td>CONCEPCION</td>\n",
       "      <td>57658381.0</td>\n",
       "      <td>rodriguezgervacio@gmail.com</td>\n",
       "      <td>1996-05-01</td>\n",
       "      <td>M</td>\n",
       "      <td>VIGENTE</td>\n",
       "      <td>2024-01-04</td>\n",
       "      <td>2025-01-04</td>\n",
       "    </tr>\n",
       "    <tr>\n",
       "      <th>1</th>\n",
       "      <td>123240000001</td>\n",
       "      <td>B</td>\n",
       "      <td>MetLife Joven Premium</td>\n",
       "      <td>CATALINA ANDREA</td>\n",
       "      <td>MANRÍQUEZ</td>\n",
       "      <td>NÚÑEZ</td>\n",
       "      <td>MANRÍQUEZ NÚÑEZ</td>\n",
       "      <td>20197475</td>\n",
       "      <td>5</td>\n",
       "      <td>20197475-5</td>\n",
       "      <td>...</td>\n",
       "      <td>Valle Trancura 1235</td>\n",
       "      <td>CONCEPCION</td>\n",
       "      <td>CONCEPCION</td>\n",
       "      <td>975171632.0</td>\n",
       "      <td>cata.manriquezn@gmail.com</td>\n",
       "      <td>2000-04-07</td>\n",
       "      <td>F</td>\n",
       "      <td>VIGENTE</td>\n",
       "      <td>2024-01-04</td>\n",
       "      <td>2025-01-04</td>\n",
       "    </tr>\n",
       "    <tr>\n",
       "      <th>2</th>\n",
       "      <td>123240000002</td>\n",
       "      <td>B</td>\n",
       "      <td>MetLife Joven Premium</td>\n",
       "      <td>MAURICIO JAIME</td>\n",
       "      <td>HIDALGO</td>\n",
       "      <td>VELASQUEZ</td>\n",
       "      <td>HIDALGO VELASQUEZ</td>\n",
       "      <td>15441551</td>\n",
       "      <td>3</td>\n",
       "      <td>15441551-3</td>\n",
       "      <td>...</td>\n",
       "      <td>Camino Al Volcan/ Las Viscachas 05879 Cod 3/ C-9</td>\n",
       "      <td>PUENTE ALTO</td>\n",
       "      <td>SANTIAGO</td>\n",
       "      <td>89019246.0</td>\n",
       "      <td>mauricio.hidalgo.v@gmail.com</td>\n",
       "      <td>1982-09-14</td>\n",
       "      <td>M</td>\n",
       "      <td>VIGENTE</td>\n",
       "      <td>2024-01-04</td>\n",
       "      <td>2025-01-04</td>\n",
       "    </tr>\n",
       "    <tr>\n",
       "      <th>3</th>\n",
       "      <td>123240000003</td>\n",
       "      <td>B</td>\n",
       "      <td>MetLife Joven</td>\n",
       "      <td>MARCIA ISABEL</td>\n",
       "      <td>SOTO</td>\n",
       "      <td>ANTILEF</td>\n",
       "      <td>SOTO ANTILEF</td>\n",
       "      <td>18848699</td>\n",
       "      <td>1</td>\n",
       "      <td>18848699-1</td>\n",
       "      <td>...</td>\n",
       "      <td>MARZOtinez De Rosas 0362</td>\n",
       "      <td>LONCOCHE</td>\n",
       "      <td>LONCOCHE</td>\n",
       "      <td>84557671.0</td>\n",
       "      <td>flga.msoto@gmail.com</td>\n",
       "      <td>1994-09-23</td>\n",
       "      <td>F</td>\n",
       "      <td>VIGENTE</td>\n",
       "      <td>2024-01-04</td>\n",
       "      <td>2025-01-04</td>\n",
       "    </tr>\n",
       "    <tr>\n",
       "      <th>4</th>\n",
       "      <td>123240000004</td>\n",
       "      <td>B</td>\n",
       "      <td>MetLife Joven</td>\n",
       "      <td>MARIA JOSE</td>\n",
       "      <td>SALINAS</td>\n",
       "      <td>CAMPUSANO</td>\n",
       "      <td>SALINAS CAMPUSANO</td>\n",
       "      <td>16557810</td>\n",
       "      <td>4</td>\n",
       "      <td>16557810-4</td>\n",
       "      <td>...</td>\n",
       "      <td>Psj El Tulipero 3690</td>\n",
       "      <td>MACUL</td>\n",
       "      <td>SANTIAGO</td>\n",
       "      <td>8888081.0</td>\n",
       "      <td>salinasc.majo@gmail.com</td>\n",
       "      <td>1987-07-09</td>\n",
       "      <td>F</td>\n",
       "      <td>VIGENTE</td>\n",
       "      <td>2024-01-04</td>\n",
       "      <td>2025-01-04</td>\n",
       "    </tr>\n",
       "  </tbody>\n",
       "</table>\n",
       "<p>5 rows × 21 columns</p>\n",
       "</div>"
      ],
      "text/plain": [
       "         poliza rutE              empleador          nombres    PATERNO  \\\n",
       "0  123240000001    B  MetLife Joven Premium   GERVACIO AARON  RODRIGUEZ   \n",
       "1  123240000001    B  MetLife Joven Premium  CATALINA ANDREA  MANRÍQUEZ   \n",
       "2  123240000002    B  MetLife Joven Premium   MAURICIO JAIME    HIDALGO   \n",
       "3  123240000003    B          MetLife Joven    MARCIA ISABEL       SOTO   \n",
       "4  123240000004    B          MetLife Joven       MARIA JOSE    SALINAS   \n",
       "\n",
       "     MATERNO          apellidos  RUTASEGURADO RUTASEGURADODV        rut1  ...  \\\n",
       "0       PEÑA     RODRIGUEZ PEÑA      19333177              7  19333177-7  ...   \n",
       "1      NÚÑEZ    MANRÍQUEZ NÚÑEZ      20197475              5  20197475-5  ...   \n",
       "2  VELASQUEZ  HIDALGO VELASQUEZ      15441551              3  15441551-3  ...   \n",
       "3    ANTILEF       SOTO ANTILEF      18848699              1  18848699-1  ...   \n",
       "4  CAMPUSANO  SALINAS CAMPUSANO      16557810              4  16557810-4  ...   \n",
       "\n",
       "                                          direccion       comuna      ciudad  \\\n",
       "0                               Valle Trancura 1235   CONCEPCION  CONCEPCION   \n",
       "1                               Valle Trancura 1235   CONCEPCION  CONCEPCION   \n",
       "2  Camino Al Volcan/ Las Viscachas 05879 Cod 3/ C-9  PUENTE ALTO    SANTIAGO   \n",
       "3                          MARZOtinez De Rosas 0362     LONCOCHE    LONCOCHE   \n",
       "4                              Psj El Tulipero 3690        MACUL    SANTIAGO   \n",
       "\n",
       "       celular                         email nacimiento sexo VIGENCIA  \\\n",
       "0   57658381.0   rodriguezgervacio@gmail.com 1996-05-01    M  VIGENTE   \n",
       "1  975171632.0     cata.manriquezn@gmail.com 2000-04-07    F  VIGENTE   \n",
       "2   89019246.0  mauricio.hidalgo.v@gmail.com 1982-09-14    M  VIGENTE   \n",
       "3   84557671.0          flga.msoto@gmail.com 1994-09-23    F  VIGENTE   \n",
       "4    8888081.0       salinasc.majo@gmail.com 1987-07-09    F  VIGENTE   \n",
       "\n",
       "  VIGENCIADESDE VIGENCIAHASTA  \n",
       "0    2024-01-04    2025-01-04  \n",
       "1    2024-01-04    2025-01-04  \n",
       "2    2024-01-04    2025-01-04  \n",
       "3    2024-01-04    2025-01-04  \n",
       "4    2024-01-04    2025-01-04  \n",
       "\n",
       "[5 rows x 21 columns]"
      ]
     },
     "execution_count": 33,
     "metadata": {},
     "output_type": "execute_result"
    }
   ],
   "source": [
    "#nuevos = \"F:/Empresas SF/reportes/SFTP.xlsx\"\n",
    "#nuevos = \"F:/Cargas Base Datos CRM/MetLife/General (Servidor Interno)/CUADRATURA/Meses/Metlife 040324.xlsx\"\n",
    "nuevos = \"F:/Empresas SF/reportes/carga.xlsx\"\n",
    "campaña = \"MetLife Agencia\"\n",
    "Pais = \"Chile\"\n",
    "baseFinal = True\n",
    "#Pais = \"México\"\n",
    "\n",
    "Pacientes_Archivo = pd.read_excel(nuevos)\n",
    "# OJO se copia rut1 a rut le saca el guoion\n",
    "Pacientes_Archivo.head(5)"
   ]
  },
  {
   "cell_type": "code",
   "execution_count": 34,
   "metadata": {
    "notebookRunGroups": {
     "groupValue": "2"
    }
   },
   "outputs": [
    {
     "data": {
      "text/plain": [
       "(698, 21)"
      ]
     },
     "execution_count": 34,
     "metadata": {},
     "output_type": "execute_result"
    }
   ],
   "source": [
    "Pacientes_Archivo.shape"
   ]
  },
  {
   "cell_type": "code",
   "execution_count": 35,
   "metadata": {
    "notebookRunGroups": {
     "groupValue": "2"
    }
   },
   "outputs": [],
   "source": [
    "Pacientes_IDrut = Pacientes_SF[\n",
    "    [\n",
    "        \"Rut\",\n",
    "        \"Id Account Paciente\",\n",
    "        #\"Id Contacto\",\n",
    "    ]\n",
    "]"
   ]
  },
  {
   "cell_type": "code",
   "execution_count": 36,
   "metadata": {
    "notebookRunGroups": {
     "groupValue": "2"
    }
   },
   "outputs": [
    {
     "name": "stderr",
     "output_type": "stream",
     "text": [
      "C:\\Users\\jmartinez\\AppData\\Local\\Temp\\ipykernel_19472\\1490231206.py:5: FutureWarning: The default value of regex will change from True to False in a future version. In addition, single character regular expressions will *not* be treated as literal strings when regex=True.\n",
      "  Pacientes_Archivo[\"rut\"] = Pacientes_Archivo[\"rut\"].str.replace(\".\", \"\")\n",
      "C:\\Users\\jmartinez\\AppData\\Local\\Temp\\ipykernel_19472\\1490231206.py:14: FutureWarning: The default value of regex will change from True to False in a future version. In addition, single character regular expressions will *not* be treated as literal strings when regex=True.\n",
      "  Pacientes_Archivo[\"poliza\"] = Pacientes_Archivo[\"poliza\"].str.replace(\".\", \"\")\n",
      "C:\\Users\\jmartinez\\AppData\\Local\\Temp\\ipykernel_19472\\1490231206.py:24: FutureWarning: The default value of regex will change from True to False in a future version. In addition, single character regular expressions will *not* be treated as literal strings when regex=True.\n",
      "  Pacientes_Archivo[\"rutE\"] = Pacientes_Archivo[\"rutE\"].str.replace(\".\", \"\")\n"
     ]
    },
    {
     "data": {
      "text/plain": [
       "(698, 22)"
      ]
     },
     "execution_count": 36,
     "metadata": {},
     "output_type": "execute_result"
    }
   ],
   "source": [
    "Pacientes_Archivo[\"rut\"] = Pacientes_Archivo[\"rut1\"].astype(str)\n",
    "Pacientes_Archivo[\"rut\"] = Pacientes_Archivo[\"rut\"].str.replace(\"-\", \"\")\n",
    "Pacientes_Archivo[\"rut\"] = Pacientes_Archivo[\"rut\"].str.replace(\"–\", \"\")\n",
    "Pacientes_Archivo[\"rut\"] = Pacientes_Archivo[\"rut\"].astype(str)\n",
    "Pacientes_Archivo[\"rut\"] = Pacientes_Archivo[\"rut\"].str.replace(\".\", \"\")\n",
    "Pacientes_Archivo[\"rut\"] = Pacientes_Archivo[\"rut\"].str.replace(\" \", \"\")\n",
    "Pacientes_Archivo[\"rut\"] = Pacientes_Archivo[\"rut\"].str.upper()\n",
    "Pacientes_Archivo[\"rut\"] = Pacientes_Archivo[\"rut\"].str.strip()\n",
    "\n",
    "Pacientes_Archivo[\"poliza\"] = Pacientes_Archivo[\"poliza\"].astype(str)\n",
    "Pacientes_Archivo[\"poliza\"] = Pacientes_Archivo[\"poliza\"].str.replace(\"-\", \"\")\n",
    "Pacientes_Archivo[\"poliza\"] = Pacientes_Archivo[\"poliza\"].str.replace(\"–\", \"\")\n",
    "Pacientes_Archivo[\"poliza\"] = Pacientes_Archivo[\"poliza\"].astype(str)\n",
    "Pacientes_Archivo[\"poliza\"] = Pacientes_Archivo[\"poliza\"].str.replace(\".\", \"\")\n",
    "Pacientes_Archivo[\"poliza\"] = Pacientes_Archivo[\"poliza\"].str.replace(\" \", \"\")\n",
    "Pacientes_Archivo[\"poliza\"] = Pacientes_Archivo[\"poliza\"].str.upper()\n",
    "Pacientes_Archivo[\"poliza\"] = Pacientes_Archivo[\"poliza\"].str.strip()\n",
    "Pacientes_Archivo.shape\n",
    "\n",
    "Pacientes_Archivo[\"rutE\"] = Pacientes_Archivo[\"rutE\"].astype(str)\n",
    "Pacientes_Archivo[\"rutE\"] = Pacientes_Archivo[\"rutE\"].str.upper()\n",
    "Pacientes_Archivo[\"rutE\"] = Pacientes_Archivo[\"rutE\"].str.replace(\"-\", \"\")\n",
    "Pacientes_Archivo[\"rutE\"] = Pacientes_Archivo[\"rutE\"].str.replace(\"–\", \"\")\n",
    "Pacientes_Archivo[\"rutE\"] = Pacientes_Archivo[\"rutE\"].str.replace(\".\", \"\")\n",
    "Pacientes_Archivo[\"rutE\"] = Pacientes_Archivo[\"rutE\"].str.strip()\n",
    "Pacientes_Archivo.shape"
   ]
  },
  {
   "cell_type": "code",
   "execution_count": 37,
   "metadata": {
    "notebookRunGroups": {
     "groupValue": "2"
    }
   },
   "outputs": [
    {
     "name": "stderr",
     "output_type": "stream",
     "text": [
      "C:\\Users\\jmartinez\\AppData\\Local\\Temp\\ipykernel_19472\\2296516763.py:5: FutureWarning: The default value of regex will change from True to False in a future version. In addition, single character regular expressions will *not* be treated as literal strings when regex=True.\n",
      "  Pacientes_Archivo[\"rutT\"] = Pacientes_Archivo[\"rutT\"].str.replace(\".\", \"\")\n"
     ]
    },
    {
     "data": {
      "text/plain": [
       "(698, 23)"
      ]
     },
     "execution_count": 37,
     "metadata": {},
     "output_type": "execute_result"
    }
   ],
   "source": [
    "Pacientes_Archivo[\"rutT\"] = Pacientes_Archivo[\"rut2\"].astype(str)\n",
    "Pacientes_Archivo[\"rutT\"] = Pacientes_Archivo[\"rutT\"].str.replace(\"-\", \"\")\n",
    "Pacientes_Archivo[\"rutT\"] = Pacientes_Archivo[\"rutT\"].str.replace(\"–\", \"\")\n",
    "Pacientes_Archivo[\"rutT\"] = Pacientes_Archivo[\"rutT\"].astype(str)\n",
    "Pacientes_Archivo[\"rutT\"] = Pacientes_Archivo[\"rutT\"].str.replace(\".\", \"\")\n",
    "Pacientes_Archivo[\"rut\"] = Pacientes_Archivo[\"rut\"].str.replace(\" \", \"\")\n",
    "Pacientes_Archivo[\"rutT\"] = Pacientes_Archivo[\"rutT\"].str.upper()\n",
    "Pacientes_Archivo[\"rutT\"] = Pacientes_Archivo[\"rutT\"].str.strip()\n",
    "Pacientes_Archivo.shape"
   ]
  },
  {
   "cell_type": "code",
   "execution_count": 38,
   "metadata": {
    "notebookRunGroups": {
     "groupValue": "2"
    }
   },
   "outputs": [
    {
     "name": "stderr",
     "output_type": "stream",
     "text": [
      "C:\\Users\\jmartinez\\AppData\\Local\\Temp\\ipykernel_19472\\3410721566.py:3: FutureWarning: The default value of regex will change from True to False in a future version. In addition, single character regular expressions will *not* be treated as literal strings when regex=True.\n",
      "  Pacientes_Archivo[\"nombres\"] = Pacientes_Archivo[\"nombres\"].str.replace(\".\", \"\")\n",
      "C:\\Users\\jmartinez\\AppData\\Local\\Temp\\ipykernel_19472\\3410721566.py:13: FutureWarning: The default value of regex will change from True to False in a future version. In addition, single character regular expressions will *not* be treated as literal strings when regex=True.\n",
      "  Pacientes_Archivo[\"apellidos\"] = Pacientes_Archivo[\"apellidos\"].str.replace(\".\", \"\")\n"
     ]
    }
   ],
   "source": [
    "if (\"nombres\" in Pacientes_Archivo.columns) == True:\n",
    "    Pacientes_Archivo[\"nombres\"] = Pacientes_Archivo[\"nombres\"].str.replace(\",\", \"\")\n",
    "    Pacientes_Archivo[\"nombres\"] = Pacientes_Archivo[\"nombres\"].str.replace(\".\", \"\")\n",
    "    Pacientes_Archivo[\"nombres\"] = Pacientes_Archivo[\"nombres\"].str.replace(\"-\", \"\")\n",
    "    Pacientes_Archivo[\"nombres\"] = Pacientes_Archivo[\"nombres\"].str.replace(\"┐\", \"\")\n",
    "    Pacientes_Archivo[\"nombres\"] = Pacientes_Archivo[\"nombres\"].str.replace(\"═\", \"\")\n",
    "    Pacientes_Archivo[\"nombres\"] = Pacientes_Archivo[\"nombres\"].str.replace(\"╔\", \"\")\n",
    "    Pacientes_Archivo[\"nombres\"] = Pacientes_Archivo[\"nombres\"].str.replace(\"┌\", \"\")\n",
    "    Pacientes_Archivo[\"nombres\"] = Pacientes_Archivo[\"nombres\"].str.title()\n",
    "    Pacientes_Archivo[\"nombres\"] = Pacientes_Archivo[\"nombres\"].str.strip()\n",
    "    # Pacientes_Archivo[\"empresa\"] = Pacientes_Archivo[\"empresa\"].str.title()\n",
    "    Pacientes_Archivo[\"apellidos\"] = Pacientes_Archivo[\"apellidos\"].str.replace(\",\", \"\")\n",
    "    Pacientes_Archivo[\"apellidos\"] = Pacientes_Archivo[\"apellidos\"].str.replace(\".\", \"\")\n",
    "    Pacientes_Archivo[\"apellidos\"] = Pacientes_Archivo[\"apellidos\"].str.replace(\"-\", \"\")\n",
    "    Pacientes_Archivo[\"apellidos\"] = Pacientes_Archivo[\"apellidos\"].str.replace(\"┐\", \"\")\n",
    "    Pacientes_Archivo[\"apellidos\"] = Pacientes_Archivo[\"apellidos\"].str.replace(\"═\", \"\")\n",
    "    Pacientes_Archivo[\"apellidos\"] = Pacientes_Archivo[\"apellidos\"].str.replace(\"╔\", \"\")\n",
    "    Pacientes_Archivo[\"apellidos\"] = Pacientes_Archivo[\"apellidos\"].str.replace(\"┌\", \"\")\n",
    "    Pacientes_Archivo[\"apellidos\"] = Pacientes_Archivo[\"apellidos\"].str.title()\n",
    "    Pacientes_Archivo[\"apellidos\"] = Pacientes_Archivo[\"apellidos\"].str.strip()"
   ]
  },
  {
   "cell_type": "code",
   "execution_count": 39,
   "metadata": {
    "notebookRunGroups": {
     "groupValue": "2"
    }
   },
   "outputs": [],
   "source": [
    "Pacientes_Archivo[\"rut\"] = Pacientes_Archivo[\"rut\"].apply(lambda y: siPrimerCero(y,campaña))\n",
    "Pacientes_Archivo[\"rutT\"] = Pacientes_Archivo[\"rutT\"].apply(lambda y: siPrimerCero(y,campaña))\n",
    "#Pacientes_Archivo\n",
    "\n",
    "# Pacientes_Nones = Pacientes_Archivo[(Pacientes_Archivo[\"rut\"] == \"NONE\") | (Pacientes_Archivo[\"rutT\"] == \"NONE\")]\n",
    "# Pacientes_Archivo = Pacientes_Archivo[(Pacientes_Archivo[\"rut\"] != \"NONE\") | (Pacientes_Archivo[\"rutT\"] != \"NONE\")]"
   ]
  },
  {
   "cell_type": "code",
   "execution_count": null,
   "metadata": {},
   "outputs": [],
   "source": [
    "# Pacientes_Archivo.to_excel(\"F:/Empresas SF/reportes/Pacientes_Archivo22.xlsx\", index=False)"
   ]
  },
  {
   "cell_type": "code",
   "execution_count": 40,
   "metadata": {
    "notebookRunGroups": {
     "groupValue": "2"
    }
   },
   "outputs": [],
   "source": [
    "Pacientes_Archivo = Pacientes_Archivo[(Pacientes_Archivo[\"rut\"] != \"NONE\")]\n",
    "Pacientes_Archivo = Pacientes_Archivo[(Pacientes_Archivo[\"rutT\"] != \"NONE\")]\n",
    "# | (Pacientes_Archivo[\"rutT\"] != \"NONE\")\n"
   ]
  },
  {
   "cell_type": "code",
   "execution_count": null,
   "metadata": {},
   "outputs": [],
   "source": [
    "Pacientes_Archivo[\"Llave\"] = Pacientes_Archivo[\"rutT\"] + Pacientes_Archivo[\"rut\"]\n",
    "Pacientes_Archivo[\"PolizaLlave\"] = Pacientes_Archivo[\"poliza\"] +  Pacientes_Archivo[\"rutT\"] + Pacientes_Archivo[\"rut\"]\n",
    "\n",
    "#Pacientes_Archivo.to_excel(\"F:/Empresas SF/reportes/eliminar2.xlsx\", index=False)"
   ]
  },
  {
   "cell_type": "markdown",
   "metadata": {},
   "source": [
    "PAcientes Programas\n"
   ]
  },
  {
   "cell_type": "code",
   "execution_count": null,
   "metadata": {
    "notebookRunGroups": {
     "groupValue": ""
    }
   },
   "outputs": [],
   "source": [
    "\"\"\" query_pacientePrograma = (\n",
    "    \"SELECT Paciente__c,Programas_por_Empresas__r.Empresa__c,Paciente__r.IdentificationId__pc,Id from Paciente_Programas__c where padre__c =  '\"\n",
    "    + campaña\n",
    "    + \"'\"\n",
    ")\n",
    "pacientePrograma = sf.smart_query(query_pacientePrograma)\n",
    "pacientePrograma.head()\n",
    "pacientePrograma = pacientePrograma.rename(\n",
    "    columns={\n",
    "        \"Id\": \"Id Paciente Programas\",\n",
    "        \"Paciente__r.IdentificationId__pc\": \"Rut\",\n",
    "        \"Programas_por_Empresas__r.Empresa__c\": \"Id Account Empleador\",\n",
    "        \"Paciente__c\": \"Id Account Paciente\",\n",
    "    }\n",
    ")\n",
    "pacientePrograma.head()\n",
    "pacientePrograma[\"Rut\"] = pacientePrograma[\"Rut\"].astype(str)\n",
    "pacientePrograma[\"Rut\"] = pacientePrograma[\"Rut\"].str.replace(\"-\", \"\")\n",
    "pacientePrograma[\"Rut\"] = pacientePrograma[\"Rut\"].str.replace(\"–\", \"\")\n",
    "pacientePrograma[\"Rut\"] = pacientePrograma[\"Rut\"].astype(str)\n",
    "pacientePrograma[\"Rut\"] = pacientePrograma[\"Rut\"].str.replace(\".\", \"\")\n",
    "pacientePrograma[\"Rut\"] = pacientePrograma[\"Rut\"].str.upper()\n",
    "pacientePrograma[\"Rut\"] = pacientePrograma[\"Rut\"].str.strip()\n",
    "pacientePrograma.shape\n",
    "PacientesProgramas_PacientesSF = pd.merge(\n",
    "    left=pacientePrograma,\n",
    "    right=Pacientes_IDrut,\n",
    "    how=\"left\",\n",
    "    left_on=\"Id Account Paciente\",\n",
    "    right_on=\"Id Account Paciente\",\n",
    ")\n",
    "\n",
    "PacientesProgramas_PacientesSF.head() \"\"\""
   ]
  },
  {
   "cell_type": "markdown",
   "metadata": {},
   "source": [
    "account contact relation\n"
   ]
  },
  {
   "cell_type": "code",
   "execution_count": null,
   "metadata": {
    "notebookRunGroups": {
     "groupValue": ""
    }
   },
   "outputs": [],
   "source": [
    "\"\"\" query_accountContact = (\n",
    "    \"select Id,ContactId, AccountId, RutContact__c ,Contact.AccountId from AccountContactRelation where Account.Campa_a__c = '\"\n",
    "    + campaña\n",
    "    + \"'\"\n",
    ")\n",
    "accountContactRelation = sf.smart_query(query_accountContact)\n",
    "accountContactRelation.head()\n",
    "accountContactRelation = accountContactRelation.rename(\n",
    "    columns={\n",
    "        \"Id\": \"Id AccountContactRelation\",\n",
    "        \"ContactId\": \"Id Contact Paciente\",\n",
    "        \"AccountId\": \"Id Account Empresa\",\n",
    "        \"RutContact__c\": \"Rut\",\n",
    "        \"Contact.AccountId\": \"Id Account Paciente\",\n",
    "    }\n",
    ")\n",
    "accountContactRelation.head()\n",
    "accountContactRelation[\"Rut\"] = accountContactRelation[\"Rut\"].astype(str)\n",
    "accountContactRelation[\"Rut\"] = accountContactRelation[\"Rut\"].str.replace(\"-\", \"\")\n",
    "accountContactRelation[\"Rut\"] = accountContactRelation[\"Rut\"].str.replace(\"–\", \"\")\n",
    "accountContactRelation[\"Rut\"] = accountContactRelation[\"Rut\"].astype(str)\n",
    "accountContactRelation[\"Rut\"] = accountContactRelation[\"Rut\"].str.replace(\".\", \"\")\n",
    "accountContactRelation[\"Rut\"] = accountContactRelation[\"Rut\"].str.upper()\n",
    "accountContactRelation[\"Rut\"] = accountContactRelation[\"Rut\"].str.strip()\n",
    "accountContactRelation.shape\n",
    "AccountContact_PacientesSF = pd.merge(\n",
    "    left=accountContactRelation,\n",
    "    right=Pacientes_IDrut,\n",
    "    how=\"left\",\n",
    "    left_on=\"Id Account Paciente\",\n",
    "    right_on=\"Id Account Paciente\",\n",
    ")\n",
    "AccountContact_PacientesSF.head() \"\"\""
   ]
  },
  {
   "cell_type": "markdown",
   "metadata": {},
   "source": [
    "empresa contacto convenio\n"
   ]
  },
  {
   "cell_type": "code",
   "execution_count": 41,
   "metadata": {
    "notebookRunGroups": {
     "groupValue": "2"
    }
   },
   "outputs": [
    {
     "name": "stderr",
     "output_type": "stream",
     "text": [
      "100%|██████████| 1/1 [00:05<00:00,  5.75s/it]\n"
     ]
    },
    {
     "data": {
      "text/html": [
       "<div>\n",
       "<style scoped>\n",
       "    .dataframe tbody tr th:only-of-type {\n",
       "        vertical-align: middle;\n",
       "    }\n",
       "\n",
       "    .dataframe tbody tr th {\n",
       "        vertical-align: top;\n",
       "    }\n",
       "\n",
       "    .dataframe thead th {\n",
       "        text-align: right;\n",
       "    }\n",
       "</style>\n",
       "<table border=\"1\" class=\"dataframe\">\n",
       "  <thead>\n",
       "    <tr style=\"text-align: right;\">\n",
       "      <th></th>\n",
       "      <th>Id</th>\n",
       "      <th>Paciente__r.IdentificationId__pc</th>\n",
       "      <th>Empresa__r.P_liza__c</th>\n",
       "      <th>Empresa__r.Rut_Empresa__c</th>\n",
       "      <th>Empresa__c</th>\n",
       "      <th>Paciente__c</th>\n",
       "      <th>N_Documento_Titular__c</th>\n",
       "      <th>Relaci_n_Con_Asegurado__c</th>\n",
       "      <th>Identificador__c</th>\n",
       "    </tr>\n",
       "  </thead>\n",
       "  <tbody>\n",
       "    <tr>\n",
       "      <th>0</th>\n",
       "      <td>a40RN0000019a6vYAA</td>\n",
       "      <td>132416842</td>\n",
       "      <td>-</td>\n",
       "      <td>-</td>\n",
       "      <td>a3yRN0000006tT9YAI</td>\n",
       "      <td>001RN000000qos9YAA</td>\n",
       "      <td>132416842</td>\n",
       "      <td>Titular</td>\n",
       "      <td>MetLife A.</td>\n",
       "    </tr>\n",
       "    <tr>\n",
       "      <th>1</th>\n",
       "      <td>a40RN0000019ex8YAA</td>\n",
       "      <td>257966194</td>\n",
       "      <td>-</td>\n",
       "      <td>-</td>\n",
       "      <td>a3yRN0000006tT9YAI</td>\n",
       "      <td>001RN0000069HW1YAM</td>\n",
       "      <td>257966194</td>\n",
       "      <td>Titular</td>\n",
       "      <td>MetLife A.</td>\n",
       "    </tr>\n",
       "    <tr>\n",
       "      <th>2</th>\n",
       "      <td>a40RN000001BqCPYA0</td>\n",
       "      <td>13996330K</td>\n",
       "      <td>-</td>\n",
       "      <td>-</td>\n",
       "      <td>a3yRN0000006tT9YAI</td>\n",
       "      <td>001RN000000qp6kYAA</td>\n",
       "      <td>13996330K</td>\n",
       "      <td>Titular</td>\n",
       "      <td>MetLife A.</td>\n",
       "    </tr>\n",
       "    <tr>\n",
       "      <th>3</th>\n",
       "      <td>a40RN000001Fc4PYAS</td>\n",
       "      <td>187659965</td>\n",
       "      <td>-</td>\n",
       "      <td>-</td>\n",
       "      <td>a3yRN0000006tT9YAI</td>\n",
       "      <td>001RN000000qohnYAA</td>\n",
       "      <td>187659965</td>\n",
       "      <td>Titular</td>\n",
       "      <td>MetLife A.</td>\n",
       "    </tr>\n",
       "    <tr>\n",
       "      <th>4</th>\n",
       "      <td>a40RN000001Fc61YAC</td>\n",
       "      <td>187658012</td>\n",
       "      <td>-</td>\n",
       "      <td>-</td>\n",
       "      <td>a3yRN0000006tT9YAI</td>\n",
       "      <td>001RN000006vHqKYAU</td>\n",
       "      <td>187659965</td>\n",
       "      <td>Carga</td>\n",
       "      <td>MetLife A.</td>\n",
       "    </tr>\n",
       "  </tbody>\n",
       "</table>\n",
       "</div>"
      ],
      "text/plain": [
       "                   Id Paciente__r.IdentificationId__pc Empresa__r.P_liza__c  \\\n",
       "0  a40RN0000019a6vYAA                        132416842                    -   \n",
       "1  a40RN0000019ex8YAA                        257966194                    -   \n",
       "2  a40RN000001BqCPYA0                        13996330K                    -   \n",
       "3  a40RN000001Fc4PYAS                        187659965                    -   \n",
       "4  a40RN000001Fc61YAC                        187658012                    -   \n",
       "\n",
       "  Empresa__r.Rut_Empresa__c          Empresa__c         Paciente__c  \\\n",
       "0                         -  a3yRN0000006tT9YAI  001RN000000qos9YAA   \n",
       "1                         -  a3yRN0000006tT9YAI  001RN0000069HW1YAM   \n",
       "2                         -  a3yRN0000006tT9YAI  001RN000000qp6kYAA   \n",
       "3                         -  a3yRN0000006tT9YAI  001RN000000qohnYAA   \n",
       "4                         -  a3yRN0000006tT9YAI  001RN000006vHqKYAU   \n",
       "\n",
       "  N_Documento_Titular__c Relaci_n_Con_Asegurado__c Identificador__c  \n",
       "0              132416842                   Titular       MetLife A.  \n",
       "1              257966194                   Titular       MetLife A.  \n",
       "2              13996330K                   Titular       MetLife A.  \n",
       "3              187659965                   Titular       MetLife A.  \n",
       "4              187659965                     Carga       MetLife A.  "
      ]
     },
     "execution_count": 41,
     "metadata": {},
     "output_type": "execute_result"
    }
   ],
   "source": [
    "query_empresacontactoconvenio = (\n",
    "    \"select Id,Paciente__r.IdentificationId__pc, Empresa__r.P_liza__c,Empresa__r.Rut_Empresa__c, Empresa__c, Paciente__c,N_Documento_Titular__c, Relaci_n_Con_Asegurado__c, Identificador__c from EmpresaContactoConvenios__c where Empresa__r.Campa_a__c = '\"\n",
    "    + campaña\n",
    "    + \"'\"\n",
    ")\n",
    "empresacontactoconvenio = sf.smart_query(query_empresacontactoconvenio)\n",
    "empresacontactoconvenio.head()"
   ]
  },
  {
   "cell_type": "code",
   "execution_count": 42,
   "metadata": {
    "notebookRunGroups": {
     "groupValue": "2"
    }
   },
   "outputs": [
    {
     "data": {
      "text/html": [
       "<div>\n",
       "<style scoped>\n",
       "    .dataframe tbody tr th:only-of-type {\n",
       "        vertical-align: middle;\n",
       "    }\n",
       "\n",
       "    .dataframe tbody tr th {\n",
       "        vertical-align: top;\n",
       "    }\n",
       "\n",
       "    .dataframe thead th {\n",
       "        text-align: right;\n",
       "    }\n",
       "</style>\n",
       "<table border=\"1\" class=\"dataframe\">\n",
       "  <thead>\n",
       "    <tr style=\"text-align: right;\">\n",
       "      <th></th>\n",
       "      <th>Id EmpresaContactoConvenio</th>\n",
       "      <th>Rut</th>\n",
       "      <th>Poliza</th>\n",
       "      <th>Rut Empresa</th>\n",
       "      <th>Id Convenio Empresa</th>\n",
       "      <th>Id Account Paciente</th>\n",
       "      <th>Rut Titular</th>\n",
       "      <th>Relación</th>\n",
       "      <th>Nombre Empresa</th>\n",
       "    </tr>\n",
       "  </thead>\n",
       "  <tbody>\n",
       "    <tr>\n",
       "      <th>0</th>\n",
       "      <td>a40RN0000019a6vYAA</td>\n",
       "      <td>132416842</td>\n",
       "      <td>-</td>\n",
       "      <td>-</td>\n",
       "      <td>a3yRN0000006tT9YAI</td>\n",
       "      <td>001RN000000qos9YAA</td>\n",
       "      <td>132416842</td>\n",
       "      <td>Titular</td>\n",
       "      <td>MetLife A.</td>\n",
       "    </tr>\n",
       "    <tr>\n",
       "      <th>1</th>\n",
       "      <td>a40RN0000019ex8YAA</td>\n",
       "      <td>257966194</td>\n",
       "      <td>-</td>\n",
       "      <td>-</td>\n",
       "      <td>a3yRN0000006tT9YAI</td>\n",
       "      <td>001RN0000069HW1YAM</td>\n",
       "      <td>257966194</td>\n",
       "      <td>Titular</td>\n",
       "      <td>MetLife A.</td>\n",
       "    </tr>\n",
       "    <tr>\n",
       "      <th>2</th>\n",
       "      <td>a40RN000001BqCPYA0</td>\n",
       "      <td>13996330K</td>\n",
       "      <td>-</td>\n",
       "      <td>-</td>\n",
       "      <td>a3yRN0000006tT9YAI</td>\n",
       "      <td>001RN000000qp6kYAA</td>\n",
       "      <td>13996330K</td>\n",
       "      <td>Titular</td>\n",
       "      <td>MetLife A.</td>\n",
       "    </tr>\n",
       "    <tr>\n",
       "      <th>3</th>\n",
       "      <td>a40RN000001Fc4PYAS</td>\n",
       "      <td>187659965</td>\n",
       "      <td>-</td>\n",
       "      <td>-</td>\n",
       "      <td>a3yRN0000006tT9YAI</td>\n",
       "      <td>001RN000000qohnYAA</td>\n",
       "      <td>187659965</td>\n",
       "      <td>Titular</td>\n",
       "      <td>MetLife A.</td>\n",
       "    </tr>\n",
       "    <tr>\n",
       "      <th>4</th>\n",
       "      <td>a40RN000001Fc61YAC</td>\n",
       "      <td>187658012</td>\n",
       "      <td>-</td>\n",
       "      <td>-</td>\n",
       "      <td>a3yRN0000006tT9YAI</td>\n",
       "      <td>001RN000006vHqKYAU</td>\n",
       "      <td>187659965</td>\n",
       "      <td>Carga</td>\n",
       "      <td>MetLife A.</td>\n",
       "    </tr>\n",
       "  </tbody>\n",
       "</table>\n",
       "</div>"
      ],
      "text/plain": [
       "  Id EmpresaContactoConvenio        Rut Poliza Rut Empresa  \\\n",
       "0         a40RN0000019a6vYAA  132416842      -           -   \n",
       "1         a40RN0000019ex8YAA  257966194      -           -   \n",
       "2         a40RN000001BqCPYA0  13996330K      -           -   \n",
       "3         a40RN000001Fc4PYAS  187659965      -           -   \n",
       "4         a40RN000001Fc61YAC  187658012      -           -   \n",
       "\n",
       "  Id Convenio Empresa Id Account Paciente Rut Titular Relación Nombre Empresa  \n",
       "0  a3yRN0000006tT9YAI  001RN000000qos9YAA   132416842  Titular     MetLife A.  \n",
       "1  a3yRN0000006tT9YAI  001RN0000069HW1YAM   257966194  Titular     MetLife A.  \n",
       "2  a3yRN0000006tT9YAI  001RN000000qp6kYAA   13996330K  Titular     MetLife A.  \n",
       "3  a3yRN0000006tT9YAI  001RN000000qohnYAA   187659965  Titular     MetLife A.  \n",
       "4  a3yRN0000006tT9YAI  001RN000006vHqKYAU   187659965    Carga     MetLife A.  "
      ]
     },
     "execution_count": 42,
     "metadata": {},
     "output_type": "execute_result"
    }
   ],
   "source": [
    "empresacontactoconvenio = empresacontactoconvenio.rename(\n",
    "    columns={\n",
    "        \"Id\": \"Id EmpresaContactoConvenio\",\n",
    "        \"Paciente__r.IdentificationId__pc\": \"Rut\",\n",
    "        \"Empresa__c\": \"Id Convenio Empresa\",\n",
    "        \"Paciente__c\": \"Id Account Paciente\",\n",
    "        \"N_Documento_Titular__c\": \"Rut Titular\",\n",
    "        \"Empresa__r.P_liza__c\":\"Poliza\",\n",
    "        \"Empresa__r.Rut_Empresa__c\":\"Rut Empresa\",\n",
    "        \"Relaci_n_Con_Asegurado__c\":\"Relación\",\n",
    "        \"Identificador__c\":\"Nombre Empresa\",\n",
    "        \"Campa_a__c\":\"Campaña\",\n",
    "    }\n",
    ")\n",
    "empresacontactoconvenio.head()"
   ]
  },
  {
   "cell_type": "code",
   "execution_count": 43,
   "metadata": {
    "notebookRunGroups": {
     "groupValue": "2"
    }
   },
   "outputs": [
    {
     "name": "stderr",
     "output_type": "stream",
     "text": [
      "C:\\Users\\jmartinez\\AppData\\Local\\Temp\\ipykernel_19472\\3330564967.py:5: FutureWarning: The default value of regex will change from True to False in a future version. In addition, single character regular expressions will *not* be treated as literal strings when regex=True.\n",
      "  empresacontactoconvenio[\"Rut\"] = empresacontactoconvenio[\"Rut\"].str.replace(\".\", \"\")\n",
      "C:\\Users\\jmartinez\\AppData\\Local\\Temp\\ipykernel_19472\\3330564967.py:14: FutureWarning: The default value of regex will change from True to False in a future version. In addition, single character regular expressions will *not* be treated as literal strings when regex=True.\n",
      "  empresacontactoconvenio[\"Rut Empresa\"] = empresacontactoconvenio[\"Rut Empresa\"].str.replace(\".\", \"\")\n",
      "C:\\Users\\jmartinez\\AppData\\Local\\Temp\\ipykernel_19472\\3330564967.py:23: FutureWarning: The default value of regex will change from True to False in a future version. In addition, single character regular expressions will *not* be treated as literal strings when regex=True.\n",
      "  empresacontactoconvenio[\"Poliza\"] = empresacontactoconvenio[\"Poliza\"].str.replace(\".\", \"\")\n"
     ]
    },
    {
     "data": {
      "text/plain": [
       "(793, 9)"
      ]
     },
     "execution_count": 43,
     "metadata": {},
     "output_type": "execute_result"
    }
   ],
   "source": [
    "empresacontactoconvenio[\"Rut\"] = empresacontactoconvenio[\"Rut\"].astype(str)\n",
    "empresacontactoconvenio[\"Rut\"] = empresacontactoconvenio[\"Rut\"].str.replace(\"-\", \"\")\n",
    "empresacontactoconvenio[\"Rut\"] = empresacontactoconvenio[\"Rut\"].str.replace(\"–\", \"\")\n",
    "empresacontactoconvenio[\"Rut\"] = empresacontactoconvenio[\"Rut\"].astype(str)\n",
    "empresacontactoconvenio[\"Rut\"] = empresacontactoconvenio[\"Rut\"].str.replace(\".\", \"\")\n",
    "empresacontactoconvenio[\"Rut\"] = empresacontactoconvenio[\"Rut\"].str.replace(\" \", \"\")\n",
    "empresacontactoconvenio[\"Rut\"] = empresacontactoconvenio[\"Rut\"].str.upper()\n",
    "empresacontactoconvenio[\"Rut\"] = empresacontactoconvenio[\"Rut\"].str.strip()\n",
    "\n",
    "empresacontactoconvenio[\"Rut Empresa\"] = empresacontactoconvenio[\"Rut Empresa\"].astype(str)\n",
    "empresacontactoconvenio[\"Rut Empresa\"] = empresacontactoconvenio[\"Rut Empresa\"].str.replace(\"-\", \"\")\n",
    "empresacontactoconvenio[\"Rut Empresa\"] = empresacontactoconvenio[\"Rut Empresa\"].str.replace(\"–\", \"\")\n",
    "empresacontactoconvenio[\"Rut Empresa\"] = empresacontactoconvenio[\"Rut Empresa\"].astype(str)\n",
    "empresacontactoconvenio[\"Rut Empresa\"] = empresacontactoconvenio[\"Rut Empresa\"].str.replace(\".\", \"\")\n",
    "empresacontactoconvenio[\"Rut Empresa\"] = empresacontactoconvenio[\"Rut Empresa\"].str.replace(\" \", \"\")\n",
    "empresacontactoconvenio[\"Rut Empresa\"] = empresacontactoconvenio[\"Rut Empresa\"].str.upper()\n",
    "empresacontactoconvenio[\"Rut Empresa\"] = empresacontactoconvenio[\"Rut Empresa\"].str.strip()\n",
    "\n",
    "empresacontactoconvenio[\"Poliza\"] = empresacontactoconvenio[\"Poliza\"].astype(str)\n",
    "empresacontactoconvenio[\"Poliza\"] = empresacontactoconvenio[\"Poliza\"].str.replace(\"-\", \"\")\n",
    "empresacontactoconvenio[\"Poliza\"] = empresacontactoconvenio[\"Poliza\"].str.replace(\"–\", \"\")\n",
    "empresacontactoconvenio[\"Poliza\"] = empresacontactoconvenio[\"Poliza\"].astype(str)\n",
    "empresacontactoconvenio[\"Poliza\"] = empresacontactoconvenio[\"Poliza\"].str.replace(\".\", \"\")\n",
    "empresacontactoconvenio[\"Poliza\"] = empresacontactoconvenio[\"Poliza\"].str.replace(\" \", \"\")\n",
    "empresacontactoconvenio[\"Poliza\"] = empresacontactoconvenio[\"Poliza\"].str.upper()\n",
    "empresacontactoconvenio[\"Poliza\"] = empresacontactoconvenio[\"Poliza\"].str.strip()\n",
    "\n",
    "\n",
    "empresacontactoconvenio.shape"
   ]
  },
  {
   "cell_type": "code",
   "execution_count": 44,
   "metadata": {
    "notebookRunGroups": {
     "groupValue": "2"
    }
   },
   "outputs": [
    {
     "data": {
      "text/html": [
       "<div>\n",
       "<style scoped>\n",
       "    .dataframe tbody tr th:only-of-type {\n",
       "        vertical-align: middle;\n",
       "    }\n",
       "\n",
       "    .dataframe tbody tr th {\n",
       "        vertical-align: top;\n",
       "    }\n",
       "\n",
       "    .dataframe thead th {\n",
       "        text-align: right;\n",
       "    }\n",
       "</style>\n",
       "<table border=\"1\" class=\"dataframe\">\n",
       "  <thead>\n",
       "    <tr style=\"text-align: right;\">\n",
       "      <th></th>\n",
       "      <th>Id EmpresaContactoConvenio</th>\n",
       "      <th>Rut_x</th>\n",
       "      <th>Poliza</th>\n",
       "      <th>Rut Empresa</th>\n",
       "      <th>Id Convenio Empresa</th>\n",
       "      <th>Id Account Paciente</th>\n",
       "      <th>Rut Titular</th>\n",
       "      <th>Relación</th>\n",
       "      <th>Nombre Empresa</th>\n",
       "      <th>Rut_y</th>\n",
       "    </tr>\n",
       "  </thead>\n",
       "  <tbody>\n",
       "    <tr>\n",
       "      <th>0</th>\n",
       "      <td>a40RN0000019a6vYAA</td>\n",
       "      <td>132416842</td>\n",
       "      <td></td>\n",
       "      <td></td>\n",
       "      <td>a3yRN0000006tT9YAI</td>\n",
       "      <td>001RN000000qos9YAA</td>\n",
       "      <td>132416842</td>\n",
       "      <td>Titular</td>\n",
       "      <td>MetLife A.</td>\n",
       "      <td>132416842</td>\n",
       "    </tr>\n",
       "    <tr>\n",
       "      <th>1</th>\n",
       "      <td>a40RN0000019ex8YAA</td>\n",
       "      <td>257966194</td>\n",
       "      <td></td>\n",
       "      <td></td>\n",
       "      <td>a3yRN0000006tT9YAI</td>\n",
       "      <td>001RN0000069HW1YAM</td>\n",
       "      <td>257966194</td>\n",
       "      <td>Titular</td>\n",
       "      <td>MetLife A.</td>\n",
       "      <td>257966194</td>\n",
       "    </tr>\n",
       "    <tr>\n",
       "      <th>2</th>\n",
       "      <td>a40RN000001BqCPYA0</td>\n",
       "      <td>13996330K</td>\n",
       "      <td></td>\n",
       "      <td></td>\n",
       "      <td>a3yRN0000006tT9YAI</td>\n",
       "      <td>001RN000000qp6kYAA</td>\n",
       "      <td>13996330K</td>\n",
       "      <td>Titular</td>\n",
       "      <td>MetLife A.</td>\n",
       "      <td>13996330K</td>\n",
       "    </tr>\n",
       "    <tr>\n",
       "      <th>3</th>\n",
       "      <td>a40RN000001Fc4PYAS</td>\n",
       "      <td>187659965</td>\n",
       "      <td></td>\n",
       "      <td></td>\n",
       "      <td>a3yRN0000006tT9YAI</td>\n",
       "      <td>001RN000000qohnYAA</td>\n",
       "      <td>187659965</td>\n",
       "      <td>Titular</td>\n",
       "      <td>MetLife A.</td>\n",
       "      <td>187659965</td>\n",
       "    </tr>\n",
       "    <tr>\n",
       "      <th>4</th>\n",
       "      <td>a40RN000001Fc61YAC</td>\n",
       "      <td>187658012</td>\n",
       "      <td></td>\n",
       "      <td></td>\n",
       "      <td>a3yRN0000006tT9YAI</td>\n",
       "      <td>001RN000006vHqKYAU</td>\n",
       "      <td>187659965</td>\n",
       "      <td>Carga</td>\n",
       "      <td>MetLife A.</td>\n",
       "      <td>187658012</td>\n",
       "    </tr>\n",
       "  </tbody>\n",
       "</table>\n",
       "</div>"
      ],
      "text/plain": [
       "  Id EmpresaContactoConvenio      Rut_x Poliza Rut Empresa  \\\n",
       "0         a40RN0000019a6vYAA  132416842                      \n",
       "1         a40RN0000019ex8YAA  257966194                      \n",
       "2         a40RN000001BqCPYA0  13996330K                      \n",
       "3         a40RN000001Fc4PYAS  187659965                      \n",
       "4         a40RN000001Fc61YAC  187658012                      \n",
       "\n",
       "  Id Convenio Empresa Id Account Paciente Rut Titular Relación Nombre Empresa  \\\n",
       "0  a3yRN0000006tT9YAI  001RN000000qos9YAA   132416842  Titular     MetLife A.   \n",
       "1  a3yRN0000006tT9YAI  001RN0000069HW1YAM   257966194  Titular     MetLife A.   \n",
       "2  a3yRN0000006tT9YAI  001RN000000qp6kYAA   13996330K  Titular     MetLife A.   \n",
       "3  a3yRN0000006tT9YAI  001RN000000qohnYAA   187659965  Titular     MetLife A.   \n",
       "4  a3yRN0000006tT9YAI  001RN000006vHqKYAU   187659965    Carga     MetLife A.   \n",
       "\n",
       "       Rut_y  \n",
       "0  132416842  \n",
       "1  257966194  \n",
       "2  13996330K  \n",
       "3  187659965  \n",
       "4  187658012  "
      ]
     },
     "execution_count": 44,
     "metadata": {},
     "output_type": "execute_result"
    }
   ],
   "source": [
    "empresacontactoconvenio_PacientesSF = pd.merge(\n",
    "    left=empresacontactoconvenio,\n",
    "    right=Pacientes_IDrut,\n",
    "    how=\"left\",\n",
    "    left_on=\"Id Account Paciente\",\n",
    "    right_on=\"Id Account Paciente\",\n",
    ")\n",
    "empresacontactoconvenio_PacientesSF.head()"
   ]
  },
  {
   "cell_type": "code",
   "execution_count": null,
   "metadata": {},
   "outputs": [],
   "source": [
    "\"\"\" if(campaña!=\"MetLife\"):\n",
    "    pacientePrograma.to_excel(\"F:/Empresas SF/reportes/paciente_programas.xlsx\", index=False) \"\"\""
   ]
  },
  {
   "cell_type": "markdown",
   "metadata": {},
   "source": [
    "Rescatamos todos los ruts Id con su empresa desde la campaña\n"
   ]
  },
  {
   "cell_type": "code",
   "execution_count": 45,
   "metadata": {
    "notebookRunGroups": {
     "groupValue": "2"
    }
   },
   "outputs": [],
   "source": [
    "#Pacientes_Archivo.head()"
   ]
  },
  {
   "cell_type": "markdown",
   "metadata": {},
   "source": [
    "Pacientes_con_id.to_excel(\"F:/Empresas SF/reportes/id.xlsx\", index=False)\n"
   ]
  },
  {
   "cell_type": "markdown",
   "metadata": {},
   "source": [
    "Pacientes_Archivo.drop_duplicates(\n",
    "[\n",
    "\"rut\",\n",
    "\"rutT\",\n",
    "\"LLaveEmpresa\",\n",
    "\"LLAveRut\",\n",
    "],\n",
    "keep=\"last\",\n",
    ")\n",
    "Pacientes_Archivo.shape\n"
   ]
  },
  {
   "cell_type": "code",
   "execution_count": 46,
   "metadata": {
    "notebookRunGroups": {
     "groupValue": "2"
    }
   },
   "outputs": [
    {
     "name": "stdout",
     "output_type": "stream",
     "text": [
      "MetLife Agencia\n"
     ]
    }
   ],
   "source": [
    "print(campaña)"
   ]
  },
  {
   "cell_type": "code",
   "execution_count": 47,
   "metadata": {
    "notebookRunGroups": {
     "groupValue": "2"
    }
   },
   "outputs": [],
   "source": [
    "Pacientes_Archivo[\"RutEstaoNo\"] = Pacientes_Archivo[\"rut\"].isin(Pacientes_SF[\"Rut\"])"
   ]
  },
  {
   "attachments": {},
   "cell_type": "markdown",
   "metadata": {},
   "source": []
  },
  {
   "cell_type": "code",
   "execution_count": null,
   "metadata": {},
   "outputs": [],
   "source": [
    "# Pacientes_Archivo.to_excel(\"F:/Empresas SF/reportes/Pacientes_Archivo.xlsx\", index=False)"
   ]
  },
  {
   "cell_type": "code",
   "execution_count": 48,
   "metadata": {
    "notebookRunGroups": {
     "groupValue": "2"
    }
   },
   "outputs": [
    {
     "data": {
      "text/plain": [
       "(698, 34)"
      ]
     },
     "execution_count": 48,
     "metadata": {},
     "output_type": "execute_result"
    }
   ],
   "source": [
    "# aca a los pacientes del archivo se les asigna sus datos en SF\n",
    "Pacientes_con_id = pd.merge(\n",
    "    left=Pacientes_Archivo,\n",
    "    right=Pacientes_SF,\n",
    "    how=\"left\",\n",
    "    left_on=\"rut\",\n",
    "    right_on=\"Rut\",\n",
    ")\n",
    "# Pacientes_con_id.to_excel(\"F:/Empresas SF/reportes/Pacientes_con_id.xlsx\", index=False)\n",
    "Pacientes_con_id.shape"
   ]
  },
  {
   "cell_type": "code",
   "execution_count": 49,
   "metadata": {
    "notebookRunGroups": {
     "groupValue": "2"
    }
   },
   "outputs": [],
   "source": [
    "#Pacientes_con_id.head()\n",
    "#Pacientes_con_id.to_excel(\"F:/Empresas SF/reportes/id.xlsx\", index=False)"
   ]
  },
  {
   "cell_type": "code",
   "execution_count": 50,
   "metadata": {
    "notebookRunGroups": {
     "groupValue": "2"
    }
   },
   "outputs": [],
   "source": [
    "regex = re.compile(r\"([A-Za-z0-9]+[.-_])*[A-Za-z0-9]+@[A-Za-z0-9-]+(\\.[A-Z|a-z]{2,})+\")\n",
    "\n",
    "\n",
    "def isValid(email):\n",
    "    if re.fullmatch(regex, email):\n",
    "        return email\n",
    "    else:\n",
    "        return \"\"\n",
    "\n",
    "\n",
    "def fechaValida(fecha):\n",
    "    if (len(str(fecha)) <= 9 ):\n",
    "        fecha = \"\"\n",
    "        \n",
    "    fecha = str(fecha)\n",
    "    fecha1 = str(fecha)\n",
    "    \n",
    "    #datetime.strptime(fecha, '%Y-%m-%d')\n",
    "    \n",
    "    try:\n",
    "        fecha = datetime.strptime(fecha, '%Y-%m-%d %H:%M:%S')\n",
    "        date_string = fecha1\n",
    "        print(\"date_string =\", date_string)\n",
    "        print(\"type of date_string =\", type(date_string))\n",
    "\n",
    "        date_object = datetime.strptime(date_string, \"%Y-%m-%d %H:%M:%S\")\n",
    "\n",
    "        print(\"date_object =\", date_object)\n",
    "        print(\"type of date_object =\", type(date_object))\n",
    "        return date_object\n",
    "    except ValueError:\n",
    "        return datetime.utcnow().strftime('%Y-%m-%d %H:%M:%S')\n",
    "    "
   ]
  },
  {
   "cell_type": "code",
   "execution_count": 51,
   "metadata": {
    "notebookRunGroups": {
     "groupValue": "2"
    }
   },
   "outputs": [],
   "source": [
    "noestan = pd.DataFrame()\n",
    "if (\"nacimiento\" in noestan.columns) == True:  \n",
    "    Pacientes_con_id[\"dertyuiop\"] = Pacientes_con_id[\"nacimiento\"]\n",
    "    Pacientes_con_id[\"derty\"] = Pacientes_con_id[\"nacimiento\"].apply(lambda y: fechaValida(y))\n",
    "    Pacientes_con_id.head()\n",
    "noestan = Pacientes_con_id[(Pacientes_con_id[\"RutEstaoNo\"] == False)]"
   ]
  },
  {
   "cell_type": "code",
   "execution_count": 52,
   "metadata": {
    "notebookRunGroups": {
     "groupValue": "2"
    }
   },
   "outputs": [
    {
     "data": {
      "text/html": [
       "<div>\n",
       "<style scoped>\n",
       "    .dataframe tbody tr th:only-of-type {\n",
       "        vertical-align: middle;\n",
       "    }\n",
       "\n",
       "    .dataframe tbody tr th {\n",
       "        vertical-align: top;\n",
       "    }\n",
       "\n",
       "    .dataframe thead th {\n",
       "        text-align: right;\n",
       "    }\n",
       "</style>\n",
       "<table border=\"1\" class=\"dataframe\">\n",
       "  <thead>\n",
       "    <tr style=\"text-align: right;\">\n",
       "      <th></th>\n",
       "      <th>poliza</th>\n",
       "      <th>rutE</th>\n",
       "      <th>empleador</th>\n",
       "      <th>nombres</th>\n",
       "      <th>PATERNO</th>\n",
       "      <th>MATERNO</th>\n",
       "      <th>apellidos</th>\n",
       "      <th>RUTASEGURADO</th>\n",
       "      <th>RUTASEGURADODV</th>\n",
       "      <th>rut1</th>\n",
       "      <th>...</th>\n",
       "      <th>Id Account Paciente</th>\n",
       "      <th>Rut</th>\n",
       "      <th>Nombre</th>\n",
       "      <th>Tipo de Documento</th>\n",
       "      <th>Ocupacion</th>\n",
       "      <th>Cargo</th>\n",
       "      <th>Departamento</th>\n",
       "      <th>Sexo</th>\n",
       "      <th>Telefono</th>\n",
       "      <th>Id Contacto</th>\n",
       "    </tr>\n",
       "  </thead>\n",
       "  <tbody>\n",
       "    <tr>\n",
       "      <th>626</th>\n",
       "      <td>123240000585</td>\n",
       "      <td>B</td>\n",
       "      <td>MetLife Joven</td>\n",
       "      <td>Ignacia Fernanda</td>\n",
       "      <td>MANSILLA</td>\n",
       "      <td>PINTO</td>\n",
       "      <td>Mansilla Pinto</td>\n",
       "      <td>18324203</td>\n",
       "      <td>2</td>\n",
       "      <td>18324203-2</td>\n",
       "      <td>...</td>\n",
       "      <td>NaN</td>\n",
       "      <td>NaN</td>\n",
       "      <td>NaN</td>\n",
       "      <td>NaN</td>\n",
       "      <td>NaN</td>\n",
       "      <td>NaN</td>\n",
       "      <td>NaN</td>\n",
       "      <td>NaN</td>\n",
       "      <td>NaN</td>\n",
       "      <td>NaN</td>\n",
       "    </tr>\n",
       "    <tr>\n",
       "      <th>627</th>\n",
       "      <td>123240000586</td>\n",
       "      <td>B</td>\n",
       "      <td>MetLife Joven</td>\n",
       "      <td>Diego Mario</td>\n",
       "      <td>BOTTO</td>\n",
       "      <td>GONZALEZ</td>\n",
       "      <td>Botto Gonzalez</td>\n",
       "      <td>19437943</td>\n",
       "      <td>9</td>\n",
       "      <td>19437943-9</td>\n",
       "      <td>...</td>\n",
       "      <td>NaN</td>\n",
       "      <td>NaN</td>\n",
       "      <td>NaN</td>\n",
       "      <td>NaN</td>\n",
       "      <td>NaN</td>\n",
       "      <td>NaN</td>\n",
       "      <td>NaN</td>\n",
       "      <td>NaN</td>\n",
       "      <td>NaN</td>\n",
       "      <td>NaN</td>\n",
       "    </tr>\n",
       "    <tr>\n",
       "      <th>628</th>\n",
       "      <td>123240000587</td>\n",
       "      <td>B</td>\n",
       "      <td>MetLife Joven</td>\n",
       "      <td>Rodrigo</td>\n",
       "      <td>ORTIZ</td>\n",
       "      <td>CHAPARRO</td>\n",
       "      <td>Ortiz Chaparro</td>\n",
       "      <td>19293897</td>\n",
       "      <td>K</td>\n",
       "      <td>19293897-K</td>\n",
       "      <td>...</td>\n",
       "      <td>NaN</td>\n",
       "      <td>NaN</td>\n",
       "      <td>NaN</td>\n",
       "      <td>NaN</td>\n",
       "      <td>NaN</td>\n",
       "      <td>NaN</td>\n",
       "      <td>NaN</td>\n",
       "      <td>NaN</td>\n",
       "      <td>NaN</td>\n",
       "      <td>NaN</td>\n",
       "    </tr>\n",
       "    <tr>\n",
       "      <th>630</th>\n",
       "      <td>123240000589</td>\n",
       "      <td>B</td>\n",
       "      <td>MetLife Joven +</td>\n",
       "      <td>Paulina Belén</td>\n",
       "      <td>SOTO</td>\n",
       "      <td>LARA</td>\n",
       "      <td>Soto Lara</td>\n",
       "      <td>19782876</td>\n",
       "      <td>5</td>\n",
       "      <td>19782876-5</td>\n",
       "      <td>...</td>\n",
       "      <td>NaN</td>\n",
       "      <td>NaN</td>\n",
       "      <td>NaN</td>\n",
       "      <td>NaN</td>\n",
       "      <td>NaN</td>\n",
       "      <td>NaN</td>\n",
       "      <td>NaN</td>\n",
       "      <td>NaN</td>\n",
       "      <td>NaN</td>\n",
       "      <td>NaN</td>\n",
       "    </tr>\n",
       "    <tr>\n",
       "      <th>631</th>\n",
       "      <td>123240000590</td>\n",
       "      <td>B</td>\n",
       "      <td>MetLife Joven +</td>\n",
       "      <td>Erica</td>\n",
       "      <td>ALIAGA</td>\n",
       "      <td>MIRANDA</td>\n",
       "      <td>Aliaga Miranda</td>\n",
       "      <td>11277562</td>\n",
       "      <td>5</td>\n",
       "      <td>11277562-5</td>\n",
       "      <td>...</td>\n",
       "      <td>NaN</td>\n",
       "      <td>NaN</td>\n",
       "      <td>NaN</td>\n",
       "      <td>NaN</td>\n",
       "      <td>NaN</td>\n",
       "      <td>NaN</td>\n",
       "      <td>NaN</td>\n",
       "      <td>NaN</td>\n",
       "      <td>NaN</td>\n",
       "      <td>NaN</td>\n",
       "    </tr>\n",
       "  </tbody>\n",
       "</table>\n",
       "<p>5 rows × 34 columns</p>\n",
       "</div>"
      ],
      "text/plain": [
       "           poliza rutE        empleador           nombres   PATERNO   MATERNO  \\\n",
       "626  123240000585    B    MetLife Joven  Ignacia Fernanda  MANSILLA     PINTO   \n",
       "627  123240000586    B    MetLife Joven       Diego Mario     BOTTO  GONZALEZ   \n",
       "628  123240000587    B    MetLife Joven           Rodrigo     ORTIZ  CHAPARRO   \n",
       "630  123240000589    B  MetLife Joven +     Paulina Belén      SOTO      LARA   \n",
       "631  123240000590    B  MetLife Joven +             Erica    ALIAGA   MIRANDA   \n",
       "\n",
       "          apellidos  RUTASEGURADO RUTASEGURADODV        rut1  ...  \\\n",
       "626  Mansilla Pinto      18324203              2  18324203-2  ...   \n",
       "627  Botto Gonzalez      19437943              9  19437943-9  ...   \n",
       "628  Ortiz Chaparro      19293897              K  19293897-K  ...   \n",
       "630       Soto Lara      19782876              5  19782876-5  ...   \n",
       "631  Aliaga Miranda      11277562              5  11277562-5  ...   \n",
       "\n",
       "    Id Account Paciente  Rut Nombre Tipo de Documento  Ocupacion Cargo  \\\n",
       "626                 NaN  NaN    NaN               NaN        NaN   NaN   \n",
       "627                 NaN  NaN    NaN               NaN        NaN   NaN   \n",
       "628                 NaN  NaN    NaN               NaN        NaN   NaN   \n",
       "630                 NaN  NaN    NaN               NaN        NaN   NaN   \n",
       "631                 NaN  NaN    NaN               NaN        NaN   NaN   \n",
       "\n",
       "    Departamento Sexo Telefono Id Contacto  \n",
       "626          NaN  NaN      NaN         NaN  \n",
       "627          NaN  NaN      NaN         NaN  \n",
       "628          NaN  NaN      NaN         NaN  \n",
       "630          NaN  NaN      NaN         NaN  \n",
       "631          NaN  NaN      NaN         NaN  \n",
       "\n",
       "[5 rows x 34 columns]"
      ]
     },
     "execution_count": 52,
     "metadata": {},
     "output_type": "execute_result"
    }
   ],
   "source": [
    "#noestan.to_excel(\"F:/Empresas SF/reportes/noestan.xlsx\", index=False)\n",
    "noestan.head()"
   ]
  },
  {
   "cell_type": "code",
   "execution_count": 53,
   "metadata": {
    "notebookRunGroups": {
     "groupValue": "2"
    }
   },
   "outputs": [
    {
     "name": "stdout",
     "output_type": "stream",
     "text": [
      "date_string = 1991-12-30 00:00:00\n",
      "type of date_string = <class 'str'>\n",
      "date_object = 1991-12-30 00:00:00\n",
      "type of date_object = <class 'datetime.datetime'>\n",
      "date_string = 1996-05-20 00:00:00\n",
      "type of date_string = <class 'str'>\n",
      "date_object = 1996-05-20 00:00:00\n",
      "type of date_object = <class 'datetime.datetime'>\n",
      "date_string = 1995-12-15 00:00:00\n",
      "type of date_string = <class 'str'>\n",
      "date_object = 1995-12-15 00:00:00\n",
      "type of date_object = <class 'datetime.datetime'>\n",
      "date_string = 1997-09-16 00:00:00\n",
      "type of date_string = <class 'str'>\n",
      "date_object = 1997-09-16 00:00:00\n",
      "type of date_object = <class 'datetime.datetime'>\n",
      "date_string = 1968-07-07 00:00:00\n",
      "type of date_string = <class 'str'>\n",
      "date_object = 1968-07-07 00:00:00\n",
      "type of date_object = <class 'datetime.datetime'>\n",
      "date_string = 1997-10-02 00:00:00\n",
      "type of date_string = <class 'str'>\n",
      "date_object = 1997-10-02 00:00:00\n",
      "type of date_object = <class 'datetime.datetime'>\n",
      "date_string = 1987-12-27 00:00:00\n",
      "type of date_string = <class 'str'>\n",
      "date_object = 1987-12-27 00:00:00\n",
      "type of date_object = <class 'datetime.datetime'>\n",
      "date_string = 1991-11-30 00:00:00\n",
      "type of date_string = <class 'str'>\n",
      "date_object = 1991-11-30 00:00:00\n",
      "type of date_object = <class 'datetime.datetime'>\n",
      "date_string = 1996-09-12 00:00:00\n",
      "type of date_string = <class 'str'>\n",
      "date_object = 1996-09-12 00:00:00\n",
      "type of date_object = <class 'datetime.datetime'>\n",
      "date_string = 1995-01-17 00:00:00\n",
      "type of date_string = <class 'str'>\n",
      "date_object = 1995-01-17 00:00:00\n",
      "type of date_object = <class 'datetime.datetime'>\n",
      "date_string = 1978-02-03 00:00:00\n",
      "type of date_string = <class 'str'>\n",
      "date_object = 1978-02-03 00:00:00\n",
      "type of date_object = <class 'datetime.datetime'>\n",
      "date_string = 1987-02-28 00:00:00\n",
      "type of date_string = <class 'str'>\n",
      "date_object = 1987-02-28 00:00:00\n",
      "type of date_object = <class 'datetime.datetime'>\n",
      "date_string = 1984-08-24 00:00:00\n",
      "type of date_string = <class 'str'>\n",
      "date_object = 1984-08-24 00:00:00\n",
      "type of date_object = <class 'datetime.datetime'>\n",
      "date_string = 1987-09-23 00:00:00\n",
      "type of date_string = <class 'str'>\n",
      "date_object = 1987-09-23 00:00:00\n",
      "type of date_object = <class 'datetime.datetime'>\n",
      "date_string = 1978-10-27 00:00:00\n",
      "type of date_string = <class 'str'>\n",
      "date_object = 1978-10-27 00:00:00\n",
      "type of date_object = <class 'datetime.datetime'>\n",
      "date_string = 1980-02-12 00:00:00\n",
      "type of date_string = <class 'str'>\n",
      "date_object = 1980-02-12 00:00:00\n",
      "type of date_object = <class 'datetime.datetime'>\n",
      "date_string = 1987-08-02 00:00:00\n",
      "type of date_string = <class 'str'>\n",
      "date_object = 1987-08-02 00:00:00\n",
      "type of date_object = <class 'datetime.datetime'>\n",
      "date_string = 1999-07-07 00:00:00\n",
      "type of date_string = <class 'str'>\n",
      "date_object = 1999-07-07 00:00:00\n",
      "type of date_object = <class 'datetime.datetime'>\n",
      "date_string = 1978-05-08 00:00:00\n",
      "type of date_string = <class 'str'>\n",
      "date_object = 1978-05-08 00:00:00\n",
      "type of date_object = <class 'datetime.datetime'>\n",
      "date_string = 1983-01-05 00:00:00\n",
      "type of date_string = <class 'str'>\n",
      "date_object = 1983-01-05 00:00:00\n",
      "type of date_object = <class 'datetime.datetime'>\n",
      "date_string = 1979-11-11 00:00:00\n",
      "type of date_string = <class 'str'>\n",
      "date_object = 1979-11-11 00:00:00\n",
      "type of date_object = <class 'datetime.datetime'>\n",
      "date_string = 1995-11-27 00:00:00\n",
      "type of date_string = <class 'str'>\n",
      "date_object = 1995-11-27 00:00:00\n",
      "type of date_object = <class 'datetime.datetime'>\n",
      "date_string = 1997-07-19 00:00:00\n",
      "type of date_string = <class 'str'>\n",
      "date_object = 1997-07-19 00:00:00\n",
      "type of date_object = <class 'datetime.datetime'>\n",
      "date_string = 1983-06-30 00:00:00\n",
      "type of date_string = <class 'str'>\n",
      "date_object = 1983-06-30 00:00:00\n",
      "type of date_object = <class 'datetime.datetime'>\n",
      "date_string = 1986-01-03 00:00:00\n",
      "type of date_string = <class 'str'>\n",
      "date_object = 1986-01-03 00:00:00\n",
      "type of date_object = <class 'datetime.datetime'>\n",
      "date_string = 1985-08-11 00:00:00\n",
      "type of date_string = <class 'str'>\n",
      "date_object = 1985-08-11 00:00:00\n",
      "type of date_object = <class 'datetime.datetime'>\n",
      "date_string = 2021-05-24 00:00:00\n",
      "type of date_string = <class 'str'>\n",
      "date_object = 2021-05-24 00:00:00\n",
      "type of date_object = <class 'datetime.datetime'>\n",
      "date_string = 2008-09-20 00:00:00\n",
      "type of date_string = <class 'str'>\n",
      "date_object = 2008-09-20 00:00:00\n",
      "type of date_object = <class 'datetime.datetime'>\n",
      "date_string = 2009-12-21 00:00:00\n",
      "type of date_string = <class 'str'>\n",
      "date_object = 2009-12-21 00:00:00\n",
      "type of date_object = <class 'datetime.datetime'>\n",
      "date_string = 1968-02-20 00:00:00\n",
      "type of date_string = <class 'str'>\n",
      "date_object = 1968-02-20 00:00:00\n",
      "type of date_object = <class 'datetime.datetime'>\n",
      "date_string = 1988-02-18 00:00:00\n",
      "type of date_string = <class 'str'>\n",
      "date_object = 1988-02-18 00:00:00\n",
      "type of date_object = <class 'datetime.datetime'>\n",
      "date_string = 1995-05-15 00:00:00\n",
      "type of date_string = <class 'str'>\n",
      "date_object = 1995-05-15 00:00:00\n",
      "type of date_object = <class 'datetime.datetime'>\n",
      "date_string = 1964-01-16 00:00:00\n",
      "type of date_string = <class 'str'>\n",
      "date_object = 1964-01-16 00:00:00\n",
      "type of date_object = <class 'datetime.datetime'>\n",
      "date_string = 1993-02-12 00:00:00\n",
      "type of date_string = <class 'str'>\n",
      "date_object = 1993-02-12 00:00:00\n",
      "type of date_object = <class 'datetime.datetime'>\n",
      "date_string = 1986-04-06 00:00:00\n",
      "type of date_string = <class 'str'>\n",
      "date_object = 1986-04-06 00:00:00\n",
      "type of date_object = <class 'datetime.datetime'>\n",
      "date_string = 1996-06-05 00:00:00\n",
      "type of date_string = <class 'str'>\n",
      "date_object = 1996-06-05 00:00:00\n",
      "type of date_object = <class 'datetime.datetime'>\n",
      "date_string = 1986-04-11 00:00:00\n",
      "type of date_string = <class 'str'>\n",
      "date_object = 1986-04-11 00:00:00\n",
      "type of date_object = <class 'datetime.datetime'>\n",
      "date_string = 1984-01-12 00:00:00\n",
      "type of date_string = <class 'str'>\n",
      "date_object = 1984-01-12 00:00:00\n",
      "type of date_object = <class 'datetime.datetime'>\n",
      "date_string = 1996-08-23 00:00:00\n",
      "type of date_string = <class 'str'>\n",
      "date_object = 1996-08-23 00:00:00\n",
      "type of date_object = <class 'datetime.datetime'>\n",
      "date_string = 1982-06-04 00:00:00\n",
      "type of date_string = <class 'str'>\n",
      "date_object = 1982-06-04 00:00:00\n",
      "type of date_object = <class 'datetime.datetime'>\n",
      "date_string = 1972-03-09 00:00:00\n",
      "type of date_string = <class 'str'>\n",
      "date_object = 1972-03-09 00:00:00\n",
      "type of date_object = <class 'datetime.datetime'>\n",
      "date_string = 1993-04-27 00:00:00\n",
      "type of date_string = <class 'str'>\n",
      "date_object = 1993-04-27 00:00:00\n",
      "type of date_object = <class 'datetime.datetime'>\n",
      "date_string = 1988-11-03 00:00:00\n",
      "type of date_string = <class 'str'>\n",
      "date_object = 1988-11-03 00:00:00\n",
      "type of date_object = <class 'datetime.datetime'>\n",
      "date_string = 1998-07-21 00:00:00\n",
      "type of date_string = <class 'str'>\n",
      "date_object = 1998-07-21 00:00:00\n",
      "type of date_object = <class 'datetime.datetime'>\n",
      "date_string = 1985-03-07 00:00:00\n",
      "type of date_string = <class 'str'>\n",
      "date_object = 1985-03-07 00:00:00\n",
      "type of date_object = <class 'datetime.datetime'>\n",
      "date_string = 1986-06-12 00:00:00\n",
      "type of date_string = <class 'str'>\n",
      "date_object = 1986-06-12 00:00:00\n",
      "type of date_object = <class 'datetime.datetime'>\n",
      "date_string = 1992-03-04 00:00:00\n",
      "type of date_string = <class 'str'>\n",
      "date_object = 1992-03-04 00:00:00\n",
      "type of date_object = <class 'datetime.datetime'>\n",
      "date_string = 1978-04-01 00:00:00\n",
      "type of date_string = <class 'str'>\n",
      "date_object = 1978-04-01 00:00:00\n",
      "type of date_object = <class 'datetime.datetime'>\n",
      "date_string = 1986-02-20 00:00:00\n",
      "type of date_string = <class 'str'>\n",
      "date_object = 1986-02-20 00:00:00\n",
      "type of date_object = <class 'datetime.datetime'>\n",
      "date_string = 1986-11-06 00:00:00\n",
      "type of date_string = <class 'str'>\n",
      "date_object = 1986-11-06 00:00:00\n",
      "type of date_object = <class 'datetime.datetime'>\n",
      "date_string = 1992-09-25 00:00:00\n",
      "type of date_string = <class 'str'>\n",
      "date_object = 1992-09-25 00:00:00\n",
      "type of date_object = <class 'datetime.datetime'>\n",
      "date_string = 1988-03-18 00:00:00\n",
      "type of date_string = <class 'str'>\n",
      "date_object = 1988-03-18 00:00:00\n",
      "type of date_object = <class 'datetime.datetime'>\n",
      "date_string = 1996-11-21 00:00:00\n",
      "type of date_string = <class 'str'>\n",
      "date_object = 1996-11-21 00:00:00\n",
      "type of date_object = <class 'datetime.datetime'>\n",
      "date_string = 1997-07-21 00:00:00\n",
      "type of date_string = <class 'str'>\n",
      "date_object = 1997-07-21 00:00:00\n",
      "type of date_object = <class 'datetime.datetime'>\n",
      "date_string = 1992-04-07 00:00:00\n",
      "type of date_string = <class 'str'>\n",
      "date_object = 1992-04-07 00:00:00\n",
      "type of date_object = <class 'datetime.datetime'>\n",
      "date_string = 1982-08-01 00:00:00\n",
      "type of date_string = <class 'str'>\n",
      "date_object = 1982-08-01 00:00:00\n",
      "type of date_object = <class 'datetime.datetime'>\n",
      "date_string = 1983-02-11 00:00:00\n",
      "type of date_string = <class 'str'>\n",
      "date_object = 1983-02-11 00:00:00\n",
      "type of date_object = <class 'datetime.datetime'>\n",
      "date_string = 1978-02-04 00:00:00\n",
      "type of date_string = <class 'str'>\n",
      "date_object = 1978-02-04 00:00:00\n",
      "type of date_object = <class 'datetime.datetime'>\n",
      "date_string = 1993-03-17 00:00:00\n",
      "type of date_string = <class 'str'>\n",
      "date_object = 1993-03-17 00:00:00\n",
      "type of date_object = <class 'datetime.datetime'>\n",
      "date_string = 1991-12-30 00:00:00\n",
      "type of date_string = <class 'str'>\n",
      "date_object = 1991-12-30 00:00:00\n",
      "type of date_object = <class 'datetime.datetime'>\n",
      "date_string = 1996-05-20 00:00:00\n",
      "type of date_string = <class 'str'>\n",
      "date_object = 1996-05-20 00:00:00\n",
      "type of date_object = <class 'datetime.datetime'>\n",
      "date_string = 1995-12-15 00:00:00\n",
      "type of date_string = <class 'str'>\n",
      "date_object = 1995-12-15 00:00:00\n",
      "type of date_object = <class 'datetime.datetime'>\n",
      "date_string = 1997-09-16 00:00:00\n",
      "type of date_string = <class 'str'>\n",
      "date_object = 1997-09-16 00:00:00\n",
      "type of date_object = <class 'datetime.datetime'>\n",
      "date_string = 1968-07-07 00:00:00\n",
      "type of date_string = <class 'str'>\n",
      "date_object = 1968-07-07 00:00:00\n",
      "type of date_object = <class 'datetime.datetime'>\n",
      "date_string = 1997-10-02 00:00:00\n",
      "type of date_string = <class 'str'>\n",
      "date_object = 1997-10-02 00:00:00\n",
      "type of date_object = <class 'datetime.datetime'>\n",
      "date_string = 1987-12-27 00:00:00\n",
      "type of date_string = <class 'str'>\n",
      "date_object = 1987-12-27 00:00:00\n",
      "type of date_object = <class 'datetime.datetime'>\n",
      "date_string = 1991-11-30 00:00:00\n",
      "type of date_string = <class 'str'>\n",
      "date_object = 1991-11-30 00:00:00\n",
      "type of date_object = <class 'datetime.datetime'>\n",
      "date_string = 1996-09-12 00:00:00\n",
      "type of date_string = <class 'str'>\n",
      "date_object = 1996-09-12 00:00:00\n",
      "type of date_object = <class 'datetime.datetime'>\n",
      "date_string = 1995-01-17 00:00:00\n",
      "type of date_string = <class 'str'>\n",
      "date_object = 1995-01-17 00:00:00\n",
      "type of date_object = <class 'datetime.datetime'>\n",
      "date_string = 1978-02-03 00:00:00\n",
      "type of date_string = <class 'str'>\n",
      "date_object = 1978-02-03 00:00:00\n",
      "type of date_object = <class 'datetime.datetime'>\n",
      "date_string = 1987-02-28 00:00:00\n",
      "type of date_string = <class 'str'>\n",
      "date_object = 1987-02-28 00:00:00\n",
      "type of date_object = <class 'datetime.datetime'>\n",
      "date_string = 1984-08-24 00:00:00\n",
      "type of date_string = <class 'str'>\n",
      "date_object = 1984-08-24 00:00:00\n",
      "type of date_object = <class 'datetime.datetime'>\n",
      "date_string = 1987-09-23 00:00:00\n",
      "type of date_string = <class 'str'>\n",
      "date_object = 1987-09-23 00:00:00\n",
      "type of date_object = <class 'datetime.datetime'>\n",
      "date_string = 1978-10-27 00:00:00\n",
      "type of date_string = <class 'str'>\n",
      "date_object = 1978-10-27 00:00:00\n",
      "type of date_object = <class 'datetime.datetime'>\n",
      "date_string = 1980-02-12 00:00:00\n",
      "type of date_string = <class 'str'>\n",
      "date_object = 1980-02-12 00:00:00\n",
      "type of date_object = <class 'datetime.datetime'>\n",
      "date_string = 1987-08-02 00:00:00\n",
      "type of date_string = <class 'str'>\n",
      "date_object = 1987-08-02 00:00:00\n",
      "type of date_object = <class 'datetime.datetime'>\n",
      "date_string = 1999-07-07 00:00:00\n",
      "type of date_string = <class 'str'>\n",
      "date_object = 1999-07-07 00:00:00\n",
      "type of date_object = <class 'datetime.datetime'>\n",
      "date_string = 1978-05-08 00:00:00\n",
      "type of date_string = <class 'str'>\n",
      "date_object = 1978-05-08 00:00:00\n",
      "type of date_object = <class 'datetime.datetime'>\n",
      "date_string = 1983-01-05 00:00:00\n",
      "type of date_string = <class 'str'>\n",
      "date_object = 1983-01-05 00:00:00\n",
      "type of date_object = <class 'datetime.datetime'>\n",
      "date_string = 1979-11-11 00:00:00\n",
      "type of date_string = <class 'str'>\n",
      "date_object = 1979-11-11 00:00:00\n",
      "type of date_object = <class 'datetime.datetime'>\n",
      "date_string = 1995-11-27 00:00:00\n",
      "type of date_string = <class 'str'>\n",
      "date_object = 1995-11-27 00:00:00\n",
      "type of date_object = <class 'datetime.datetime'>\n",
      "date_string = 1997-07-19 00:00:00\n",
      "type of date_string = <class 'str'>\n",
      "date_object = 1997-07-19 00:00:00\n",
      "type of date_object = <class 'datetime.datetime'>\n",
      "date_string = 1983-06-30 00:00:00\n",
      "type of date_string = <class 'str'>\n",
      "date_object = 1983-06-30 00:00:00\n",
      "type of date_object = <class 'datetime.datetime'>\n",
      "date_string = 1986-01-03 00:00:00\n",
      "type of date_string = <class 'str'>\n",
      "date_object = 1986-01-03 00:00:00\n",
      "type of date_object = <class 'datetime.datetime'>\n",
      "date_string = 1985-08-11 00:00:00\n",
      "type of date_string = <class 'str'>\n",
      "date_object = 1985-08-11 00:00:00\n",
      "type of date_object = <class 'datetime.datetime'>\n",
      "date_string = 2021-05-24 00:00:00\n",
      "type of date_string = <class 'str'>\n",
      "date_object = 2021-05-24 00:00:00\n",
      "type of date_object = <class 'datetime.datetime'>\n",
      "date_string = 2008-09-20 00:00:00\n",
      "type of date_string = <class 'str'>\n",
      "date_object = 2008-09-20 00:00:00\n",
      "type of date_object = <class 'datetime.datetime'>\n",
      "date_string = 2009-12-21 00:00:00\n",
      "type of date_string = <class 'str'>\n",
      "date_object = 2009-12-21 00:00:00\n",
      "type of date_object = <class 'datetime.datetime'>\n",
      "date_string = 1968-02-20 00:00:00\n",
      "type of date_string = <class 'str'>\n",
      "date_object = 1968-02-20 00:00:00\n",
      "type of date_object = <class 'datetime.datetime'>\n",
      "date_string = 1988-02-18 00:00:00\n",
      "type of date_string = <class 'str'>\n",
      "date_object = 1988-02-18 00:00:00\n",
      "type of date_object = <class 'datetime.datetime'>\n",
      "date_string = 1995-05-15 00:00:00\n",
      "type of date_string = <class 'str'>\n",
      "date_object = 1995-05-15 00:00:00\n",
      "type of date_object = <class 'datetime.datetime'>\n",
      "date_string = 1964-01-16 00:00:00\n",
      "type of date_string = <class 'str'>\n",
      "date_object = 1964-01-16 00:00:00\n",
      "type of date_object = <class 'datetime.datetime'>\n",
      "date_string = 1993-02-12 00:00:00\n",
      "type of date_string = <class 'str'>\n",
      "date_object = 1993-02-12 00:00:00\n",
      "type of date_object = <class 'datetime.datetime'>\n",
      "date_string = 1986-04-06 00:00:00\n",
      "type of date_string = <class 'str'>\n",
      "date_object = 1986-04-06 00:00:00\n",
      "type of date_object = <class 'datetime.datetime'>\n",
      "date_string = 1996-06-05 00:00:00\n",
      "type of date_string = <class 'str'>\n",
      "date_object = 1996-06-05 00:00:00\n",
      "type of date_object = <class 'datetime.datetime'>\n",
      "date_string = 1986-04-11 00:00:00\n",
      "type of date_string = <class 'str'>\n",
      "date_object = 1986-04-11 00:00:00\n",
      "type of date_object = <class 'datetime.datetime'>\n",
      "date_string = 1984-01-12 00:00:00\n",
      "type of date_string = <class 'str'>\n",
      "date_object = 1984-01-12 00:00:00\n",
      "type of date_object = <class 'datetime.datetime'>\n",
      "date_string = 1996-08-23 00:00:00\n",
      "type of date_string = <class 'str'>\n",
      "date_object = 1996-08-23 00:00:00\n",
      "type of date_object = <class 'datetime.datetime'>\n",
      "date_string = 1982-06-04 00:00:00\n",
      "type of date_string = <class 'str'>\n",
      "date_object = 1982-06-04 00:00:00\n",
      "type of date_object = <class 'datetime.datetime'>\n",
      "date_string = 1972-03-09 00:00:00\n",
      "type of date_string = <class 'str'>\n",
      "date_object = 1972-03-09 00:00:00\n",
      "type of date_object = <class 'datetime.datetime'>\n",
      "date_string = 1993-04-27 00:00:00\n",
      "type of date_string = <class 'str'>\n",
      "date_object = 1993-04-27 00:00:00\n",
      "type of date_object = <class 'datetime.datetime'>\n",
      "date_string = 1988-11-03 00:00:00\n",
      "type of date_string = <class 'str'>\n",
      "date_object = 1988-11-03 00:00:00\n",
      "type of date_object = <class 'datetime.datetime'>\n",
      "date_string = 1998-07-21 00:00:00\n",
      "type of date_string = <class 'str'>\n",
      "date_object = 1998-07-21 00:00:00\n",
      "type of date_object = <class 'datetime.datetime'>\n",
      "date_string = 1985-03-07 00:00:00\n",
      "type of date_string = <class 'str'>\n",
      "date_object = 1985-03-07 00:00:00\n",
      "type of date_object = <class 'datetime.datetime'>\n",
      "date_string = 1986-06-12 00:00:00\n",
      "type of date_string = <class 'str'>\n",
      "date_object = 1986-06-12 00:00:00\n",
      "type of date_object = <class 'datetime.datetime'>\n",
      "date_string = 1992-03-04 00:00:00\n",
      "type of date_string = <class 'str'>\n",
      "date_object = 1992-03-04 00:00:00\n",
      "type of date_object = <class 'datetime.datetime'>\n",
      "date_string = 1978-04-01 00:00:00\n",
      "type of date_string = <class 'str'>\n",
      "date_object = 1978-04-01 00:00:00\n",
      "type of date_object = <class 'datetime.datetime'>\n",
      "date_string = 1986-02-20 00:00:00\n",
      "type of date_string = <class 'str'>\n",
      "date_object = 1986-02-20 00:00:00\n",
      "type of date_object = <class 'datetime.datetime'>\n",
      "date_string = 1986-11-06 00:00:00\n",
      "type of date_string = <class 'str'>\n",
      "date_object = 1986-11-06 00:00:00\n",
      "type of date_object = <class 'datetime.datetime'>\n",
      "date_string = 1992-09-25 00:00:00\n",
      "type of date_string = <class 'str'>\n",
      "date_object = 1992-09-25 00:00:00\n",
      "type of date_object = <class 'datetime.datetime'>\n",
      "date_string = 1988-03-18 00:00:00\n",
      "type of date_string = <class 'str'>\n",
      "date_object = 1988-03-18 00:00:00\n",
      "type of date_object = <class 'datetime.datetime'>\n",
      "date_string = 1996-11-21 00:00:00\n",
      "type of date_string = <class 'str'>\n",
      "date_object = 1996-11-21 00:00:00\n",
      "type of date_object = <class 'datetime.datetime'>\n",
      "date_string = 1997-07-21 00:00:00\n",
      "type of date_string = <class 'str'>\n",
      "date_object = 1997-07-21 00:00:00\n",
      "type of date_object = <class 'datetime.datetime'>\n",
      "date_string = 1992-04-07 00:00:00\n",
      "type of date_string = <class 'str'>\n",
      "date_object = 1992-04-07 00:00:00\n",
      "type of date_object = <class 'datetime.datetime'>\n",
      "date_string = 1982-08-01 00:00:00\n",
      "type of date_string = <class 'str'>\n",
      "date_object = 1982-08-01 00:00:00\n",
      "type of date_object = <class 'datetime.datetime'>\n",
      "date_string = 1983-02-11 00:00:00\n",
      "type of date_string = <class 'str'>\n",
      "date_object = 1983-02-11 00:00:00\n",
      "type of date_object = <class 'datetime.datetime'>\n",
      "date_string = 1978-02-04 00:00:00\n",
      "type of date_string = <class 'str'>\n",
      "date_object = 1978-02-04 00:00:00\n",
      "type of date_object = <class 'datetime.datetime'>\n",
      "date_string = 1993-03-17 00:00:00\n",
      "type of date_string = <class 'str'>\n",
      "date_object = 1993-03-17 00:00:00\n",
      "type of date_object = <class 'datetime.datetime'>\n"
     ]
    },
    {
     "name": "stderr",
     "output_type": "stream",
     "text": [
      "C:\\Users\\jmartinez\\AppData\\Local\\Temp\\ipykernel_19472\\2697898823.py:66: SettingWithCopyWarning: \n",
      "A value is trying to be set on a copy of a slice from a DataFrame.\n",
      "Try using .loc[row_indexer,col_indexer] = value instead\n",
      "\n",
      "See the caveats in the documentation: https://pandas.pydata.org/pandas-docs/stable/user_guide/indexing.html#returning-a-view-versus-a-copy\n",
      "  noestan.replace({\"sexo\": Sexo}, inplace=True)\n",
      "C:\\Users\\jmartinez\\AppData\\Local\\Temp\\ipykernel_19472\\2697898823.py:97: FutureWarning: The default value of regex will change from True to False in a future version. In addition, single character regular expressions will *not* be treated as literal strings when regex=True.\n",
      "  Subir_pacientes[\"Phone\"] = Subir_pacientes[\"Phone\"].str.replace(\".\", \"\")\n",
      "C:\\Users\\jmartinez\\AppData\\Local\\Temp\\ipykernel_19472\\2697898823.py:104: FutureWarning: The default value of regex will change from True to False in a future version. In addition, single character regular expressions will *not* be treated as literal strings when regex=True.\n",
      "  Subir_pacientes[\"Phone\"] = Subir_pacientes[\"Phone\"].str.replace(\"+\", \"\")\n"
     ]
    },
    {
     "data": {
      "text/html": [
       "<div>\n",
       "<style scoped>\n",
       "    .dataframe tbody tr th:only-of-type {\n",
       "        vertical-align: middle;\n",
       "    }\n",
       "\n",
       "    .dataframe tbody tr th {\n",
       "        vertical-align: top;\n",
       "    }\n",
       "\n",
       "    .dataframe thead th {\n",
       "        text-align: right;\n",
       "    }\n",
       "</style>\n",
       "<table border=\"1\" class=\"dataframe\">\n",
       "  <thead>\n",
       "    <tr style=\"text-align: right;\">\n",
       "      <th></th>\n",
       "      <th>rut1</th>\n",
       "      <th>rut2</th>\n",
       "      <th>FirstName</th>\n",
       "      <th>LastName</th>\n",
       "      <th>IdentificationId__pc</th>\n",
       "      <th>PersonEmail</th>\n",
       "      <th>Email_Seteado__c</th>\n",
       "      <th>PersonBirthdate</th>\n",
       "      <th>derty</th>\n",
       "      <th>HealthCloudGA__Gender__pc</th>\n",
       "      <th>BillingStreet</th>\n",
       "      <th>BillingState</th>\n",
       "      <th>BillingCity</th>\n",
       "      <th>Phone</th>\n",
       "      <th>RecordTypeId</th>\n",
       "      <th>Cuenta_validada__c</th>\n",
       "      <th>BillingCountry</th>\n",
       "      <th>Identification_Type__c</th>\n",
       "      <th>Pa_s_del_Paciente__c</th>\n",
       "    </tr>\n",
       "  </thead>\n",
       "  <tbody>\n",
       "    <tr>\n",
       "      <th>626</th>\n",
       "      <td>183242032</td>\n",
       "      <td>183242032</td>\n",
       "      <td>Ignacia Fernanda</td>\n",
       "      <td>Mansilla Pinto</td>\n",
       "      <td>183242032</td>\n",
       "      <td>ignacia.mansillap@gmail.com</td>\n",
       "      <td>True</td>\n",
       "      <td>1991-12-30</td>\n",
       "      <td>1991-12-30</td>\n",
       "      <td>Mujer</td>\n",
       "      <td>volcan corcovado 5586</td>\n",
       "      <td>Puerto Montt</td>\n",
       "      <td>Puerto Montt</td>\n",
       "      <td>6617915</td>\n",
       "      <td>0128c000002Byp4AAC</td>\n",
       "      <td>True</td>\n",
       "      <td>Chile</td>\n",
       "      <td>RUT</td>\n",
       "      <td>a1U8c000005dAtnEAE</td>\n",
       "    </tr>\n",
       "    <tr>\n",
       "      <th>627</th>\n",
       "      <td>194379439</td>\n",
       "      <td>194379439</td>\n",
       "      <td>Diego Mario</td>\n",
       "      <td>Botto Gonzalez</td>\n",
       "      <td>194379439</td>\n",
       "      <td>diegobotto.gon@gmail.com</td>\n",
       "      <td>True</td>\n",
       "      <td>1996-05-20</td>\n",
       "      <td>1996-05-20</td>\n",
       "      <td>Hombre</td>\n",
       "      <td>camino el cerrillo 2375, casa 72. linderos</td>\n",
       "      <td>Buin</td>\n",
       "      <td>Santiago</td>\n",
       "      <td>5799718</td>\n",
       "      <td>0128c000002Byp4AAC</td>\n",
       "      <td>True</td>\n",
       "      <td>Chile</td>\n",
       "      <td>RUT</td>\n",
       "      <td>a1U8c000005dAtnEAE</td>\n",
       "    </tr>\n",
       "    <tr>\n",
       "      <th>628</th>\n",
       "      <td>19293897K</td>\n",
       "      <td>19293897K</td>\n",
       "      <td>Rodrigo</td>\n",
       "      <td>Ortiz Chaparro</td>\n",
       "      <td>19293897K</td>\n",
       "      <td>rodrigo.ortiz.chaparro@gmail.com</td>\n",
       "      <td>True</td>\n",
       "      <td>1995-12-15</td>\n",
       "      <td>1995-12-15</td>\n",
       "      <td>Hombre</td>\n",
       "      <td>diagonal paraguay 406 dp 1207</td>\n",
       "      <td>Santiago</td>\n",
       "      <td>Santiago</td>\n",
       "      <td>72133997</td>\n",
       "      <td>0128c000002Byp4AAC</td>\n",
       "      <td>True</td>\n",
       "      <td>Chile</td>\n",
       "      <td>RUT</td>\n",
       "      <td>a1U8c000005dAtnEAE</td>\n",
       "    </tr>\n",
       "    <tr>\n",
       "      <th>630</th>\n",
       "      <td>197828765</td>\n",
       "      <td>197828765</td>\n",
       "      <td>Paulina Belén</td>\n",
       "      <td>Soto Lara</td>\n",
       "      <td>197828765</td>\n",
       "      <td>paulina.sotolara@gmail.com</td>\n",
       "      <td>True</td>\n",
       "      <td>1997-09-16</td>\n",
       "      <td>1997-09-16</td>\n",
       "      <td>Mujer</td>\n",
       "      <td>av el parrón 0677 condominio don arturo depto 102</td>\n",
       "      <td>La Cisterna</td>\n",
       "      <td>Santiago</td>\n",
       "      <td>66676533</td>\n",
       "      <td>0128c000002Byp4AAC</td>\n",
       "      <td>True</td>\n",
       "      <td>Chile</td>\n",
       "      <td>RUT</td>\n",
       "      <td>a1U8c000005dAtnEAE</td>\n",
       "    </tr>\n",
       "    <tr>\n",
       "      <th>631</th>\n",
       "      <td>112775625</td>\n",
       "      <td>112775625</td>\n",
       "      <td>Erica</td>\n",
       "      <td>Aliaga Miranda</td>\n",
       "      <td>112775625</td>\n",
       "      <td>erikaaliaga69@gmail.com</td>\n",
       "      <td>True</td>\n",
       "      <td>1968-07-07</td>\n",
       "      <td>1968-07-07</td>\n",
       "      <td>Mujer</td>\n",
       "      <td>camino del amanecer 1915</td>\n",
       "      <td>Concepcion</td>\n",
       "      <td>Concepcion</td>\n",
       "      <td>9967716</td>\n",
       "      <td>0128c000002Byp4AAC</td>\n",
       "      <td>True</td>\n",
       "      <td>Chile</td>\n",
       "      <td>RUT</td>\n",
       "      <td>a1U8c000005dAtnEAE</td>\n",
       "    </tr>\n",
       "  </tbody>\n",
       "</table>\n",
       "</div>"
      ],
      "text/plain": [
       "          rut1       rut2         FirstName        LastName  \\\n",
       "626  183242032  183242032  Ignacia Fernanda  Mansilla Pinto   \n",
       "627  194379439  194379439       Diego Mario  Botto Gonzalez   \n",
       "628  19293897K  19293897K           Rodrigo  Ortiz Chaparro   \n",
       "630  197828765  197828765     Paulina Belén       Soto Lara   \n",
       "631  112775625  112775625             Erica  Aliaga Miranda   \n",
       "\n",
       "    IdentificationId__pc                       PersonEmail Email_Seteado__c  \\\n",
       "626            183242032       ignacia.mansillap@gmail.com             True   \n",
       "627            194379439          diegobotto.gon@gmail.com             True   \n",
       "628            19293897K  rodrigo.ortiz.chaparro@gmail.com             True   \n",
       "630            197828765        paulina.sotolara@gmail.com             True   \n",
       "631            112775625           erikaaliaga69@gmail.com             True   \n",
       "\n",
       "    PersonBirthdate      derty HealthCloudGA__Gender__pc  \\\n",
       "626      1991-12-30 1991-12-30                     Mujer   \n",
       "627      1996-05-20 1996-05-20                    Hombre   \n",
       "628      1995-12-15 1995-12-15                    Hombre   \n",
       "630      1997-09-16 1997-09-16                     Mujer   \n",
       "631      1968-07-07 1968-07-07                     Mujer   \n",
       "\n",
       "                                         BillingStreet  BillingState  \\\n",
       "626                              volcan corcovado 5586  Puerto Montt   \n",
       "627         camino el cerrillo 2375, casa 72. linderos          Buin   \n",
       "628                      diagonal paraguay 406 dp 1207      Santiago   \n",
       "630  av el parrón 0677 condominio don arturo depto 102   La Cisterna   \n",
       "631                           camino del amanecer 1915    Concepcion   \n",
       "\n",
       "      BillingCity     Phone        RecordTypeId Cuenta_validada__c  \\\n",
       "626  Puerto Montt   6617915  0128c000002Byp4AAC               True   \n",
       "627      Santiago   5799718  0128c000002Byp4AAC               True   \n",
       "628      Santiago  72133997  0128c000002Byp4AAC               True   \n",
       "630      Santiago  66676533  0128c000002Byp4AAC               True   \n",
       "631    Concepcion   9967716  0128c000002Byp4AAC               True   \n",
       "\n",
       "    BillingCountry Identification_Type__c Pa_s_del_Paciente__c  \n",
       "626          Chile                    RUT   a1U8c000005dAtnEAE  \n",
       "627          Chile                    RUT   a1U8c000005dAtnEAE  \n",
       "628          Chile                    RUT   a1U8c000005dAtnEAE  \n",
       "630          Chile                    RUT   a1U8c000005dAtnEAE  \n",
       "631          Chile                    RUT   a1U8c000005dAtnEAE  "
      ]
     },
     "execution_count": 53,
     "metadata": {},
     "output_type": "execute_result"
    }
   ],
   "source": [
    "\n",
    "\n",
    "# Final_pacientes_y_empresa = Pacientes_con_ID\n",
    "Subir_pacientes = pd.DataFrame()\n",
    "# Subir_pacientes[\"Email_Seteado__c\"] = \"\"\n",
    "#Subir_pacientes[\"RutEstaoNo\"] = Pacientes_con_id[\"RutEstaoNo\"]\n",
    "\n",
    "# agrupar = empresasqfaltan[empresasqfaltan['si']==False]\n",
    "Subir_pacientes[\"rut1\"] = noestan[\"rut\"]\n",
    "Subir_pacientes[\"rut2\"] = noestan[\"rutT\"]\n",
    "\n",
    "if (\"nombres\" in noestan.columns) == True:\n",
    "    Subir_pacientes[\"FirstName\"] = noestan[\"nombres\"]\n",
    "if (\"apellidos\" in noestan.columns) == True:\n",
    "    Subir_pacientes[\"LastName\"] = noestan[\"apellidos\"]\n",
    "if (\"rut\" in noestan.columns) == True:\n",
    "    Subir_pacientes[\"IdentificationId__pc\"] = (\n",
    "        noestan[\"rut\"].astype(str).str.upper()\n",
    "    )\n",
    "\n",
    "\n",
    "if (\"email\" in noestan.columns) == True:\n",
    "    # Pacientes_con_id[\"email\"] = Pacientes_con_id[\"email\"].astype(str).str.lower().replace(\"nan\",\"\")\n",
    "    Subir_pacientes[\"PersonEmail\"] = noestan[\"email\"].astype(str).str.lower()\n",
    "    Subir_pacientes[\"PersonEmail\"] = Subir_pacientes[\"PersonEmail\"].apply(\n",
    "        lambda y: isValid(y)\n",
    "    )\n",
    "    Subir_pacientes[\"Email_Seteado__c\"] = np.where(\n",
    "        Subir_pacientes[\"PersonEmail\"] != \"\", \"True\", \"False\"\n",
    "    )\n",
    "\n",
    "    # Subir_pacientes[\"PersonEmail\"] = Subir_pacientes[\"PersonEmail\"].str.replace(\"no informado\", \"\")\n",
    "#if (\"nacimiento\" in Pacientes_con_id.columns) == True:    \n",
    "#    Subir_pacientes[\"PersonBirthdate\"] = pd.to_datetime(Pacientes_con_id[\"nacimiento\"].astype(str), format=\"%Y-%m-%d\")  \n",
    "if (\"nacimiento\" in noestan.columns) == True:    \n",
    "    #try:\n",
    "    Subir_pacientes[\"PersonBirthdate\"] = noestan[\"nacimiento\"].apply(lambda y: fechaValida(y))\n",
    "    Subir_pacientes[\"derty\"] = noestan[\"nacimiento\"].apply(lambda y: fechaValida(y))\n",
    "    #except ValueError:\n",
    "        #Subir_pacientes[\"PersonBirthdate\"] = pd.to_datetime(\"1900-01-01\", format=\"%Y-%m-%d\")\n",
    " \n",
    "if (\"sexo\" in noestan.columns) == True:\n",
    "    Sexo = {\n",
    "        \"H\": \"Hombre\",\n",
    "        \"m\": \"Hombre\",\n",
    "        \"Masculino\": \"Hombre\",\n",
    "        \"Femenino\": \"Mujer\",\n",
    "        \"\": \"Prefiero no responder\",\n",
    "        \"HOMBRE\": \"Hombre\",\n",
    "        \"MUJER\": \"Mujer\",\n",
    "        \"F\": \"Mujer\",\n",
    "        \"O\": \"Prefiero no responder\",\n",
    "        \"Ambos\": \"Prefiero no responder\",\n",
    "        \"N\": \"Prefiero no responder\",\n",
    "        \"Otro\": \"Prefiero no responder\",\n",
    "        \"n\": \"Prefiero no responder\",\n",
    "        \"N\": \"Prefiero no responder\",\n",
    "        \"FEMENINO\": \"Mujer\",\n",
    "        \"f\": \"Mujer\",\n",
    "        \"MASCULINO\": \"Hombre\",\n",
    "        \"m\": \"Hombre\",\n",
    "        \"M \": \"Hombre\",\n",
    "        \"M\": \"Hombre\",\n",
    "        \"F \": \"Mujer\",\n",
    "        \"Varón\": \"Hombre\",\n",
    "        \"varon\": \"Hombre\",\n",
    "    }\n",
    "    noestan.replace({\"sexo\": Sexo}, inplace=True)\n",
    "    Subir_pacientes[\"HealthCloudGA__Gender__pc\"] = noestan[\"sexo\"]\n",
    "if (\"direccion\" in noestan.columns) == True:\n",
    "    Subir_pacientes[\"BillingStreet\"] = (\n",
    "        noestan[\"direccion\"].str.lower().replace(\"nan\", \"\")\n",
    "    )\n",
    "    # Subir_pacientes[\"BillingStreet\"] = Final_pacientes_y_empresa[\"direccion\"]\n",
    "if (\"comuna\" in noestan.columns) == True:\n",
    "    # Subir_pacientes[\"BillingState\"] = Final_pacientes_y_empresa[\"comuna\"]\n",
    "    Subir_pacientes[\"BillingState\"] = (\n",
    "        noestan[\"comuna\"].str.title().replace(\"NaN\", \"\")\n",
    "    )\n",
    "    # Subir_pacientes[\"BillingState\"] = Final_pacientes_y_empresa[\"comuna\"]\n",
    "if (\"ciudad\" in noestan.columns) == True:\n",
    "    # Subir_pacientes[\"BillingCity\"] = Final_pacientes_y_empresa[\"ciudad\"]\n",
    "    Subir_pacientes[\"BillingCity\"] = (\n",
    "        noestan[\"ciudad\"].str.title().replace(\"NaN\", \"\")\n",
    "    )\n",
    "\n",
    "if (\"cargo\" in Pacientes_con_id.columns) == True:\n",
    "    Subir_pacientes[\"PersonTitle\"] = noestan[\"cargo\"].str.title()\n",
    "\n",
    "if (\"division\" in noestan.columns) == True:\n",
    "    Subir_pacientes[\"PersonDepartment\"] = noestan[\"division\"].str.title()\n",
    "\n",
    "if (\"celular\" in noestan.columns) == True:\n",
    "    Subir_pacientes[\"Phone\"] = (\n",
    "        noestan[\"celular\"].astype(str).str.strip().replace(\"+\", \"\")\n",
    "        \n",
    "    )\n",
    "    Subir_pacientes[\"Phone\"] = Subir_pacientes[\"Phone\"].str.replace(\"NaN\", \"\")\n",
    "    Subir_pacientes[\"Phone\"] = Subir_pacientes[\"Phone\"].str.replace(\".\", \"\")\n",
    "    Subir_pacientes[\"Phone\"] = Subir_pacientes[\"Phone\"].str.replace(\"Nan\", \"\")\n",
    "    Subir_pacientes[\"Phone\"] = Subir_pacientes[\"Phone\"].str.replace(\"-\", \"\")\n",
    "    Subir_pacientes[\"Phone\"] = Subir_pacientes[\"Phone\"].str.replace(\"0\", \"\")\n",
    "    Subir_pacientes[\"Phone\"] = Subir_pacientes[\"Phone\"].str.replace(\"No Informado\", \"\")\n",
    "    Subir_pacientes[\"Phone\"] = Subir_pacientes[\"Phone\"].str.replace(\"_\", \"\")\n",
    "    Subir_pacientes[\"Phone\"] = Subir_pacientes[\"Phone\"].str.replace(\"/\", \"\")\n",
    "    Subir_pacientes[\"Phone\"] = Subir_pacientes[\"Phone\"].str.replace(\"+\", \"\")\n",
    "    Subir_pacientes[\"Phone\"] = Subir_pacientes[\"Phone\"].str.replace(\"nan\", \"\")\n",
    "    Subir_pacientes[\"Phone\"] = Subir_pacientes[\"Phone\"].str.replace(\"null\", \"\")\n",
    "    Subir_pacientes[\"Phone\"] = Subir_pacientes[\"Phone\"].str.replace(\"NULL\", \"\")\n",
    "\n",
    "\n",
    "Subir_pacientes[\"RecordTypeId\"] = \"0128c000002Byp4AAC\"\n",
    "Subir_pacientes[\"Cuenta_validada__c\"] = \"True\"\n",
    "\n",
    "\n",
    "if Pais == \"Chile\":\n",
    "    Subir_pacientes[\"BillingCountry\"] = \"Chile\"\n",
    "    Subir_pacientes[\"Identification_Type__c\"] = \"RUT\"\n",
    "    Subir_pacientes[\"Pa_s_del_Paciente__c\"] = \"a1U8c000005dAtnEAE\"\n",
    "else:\n",
    "    Subir_pacientes[\"BillingCountry\"] = \"México\"\n",
    "    Subir_pacientes[\"Identification_Type__c\"] = \"RUT\"\n",
    "    Subir_pacientes[\"Pa_s_del_Paciente__c\"] = \"a1U8c000005dAtsEAE\"\n",
    "\n",
    "#Subir_pacientes_Que_no_Estan = Subir_pacientes\n",
    "#Subir_pacientes_Estan = Subir_pacientes[Subir_pacientes[\"RutEstaoNo\"] == True]\n",
    "#Subir_pacientes = Subir_pacientes[Subir_pacientes[\"RutEstaoNo\"] == False]\n",
    "\n",
    "#Subir_pacientes[\"PersonBirthdate\"] = Subir_pacientes[\"PersonBirthdate\"].str.replace(\"0001-01-01 00:00:00\", \"\")\n",
    "\n",
    "# Subir_pacientes.PersonEmail = Subir_pacientes.PersonEmail.fillna('')\n",
    "Subir_pacientes = Subir_pacientes.drop_duplicates(\n",
    "    [\n",
    "        \"IdentificationId__pc\",\n",
    "    ],\n",
    "    keep=\"last\",\n",
    ")\n",
    "Subir_pacientes.to_excel(\n",
    "    \"F:/Empresas SF/reportes/Pacientes_Que_No_Estaban.xlsx\", index=False\n",
    ")\n",
    "Subir_pacientes.head()"
   ]
  },
  {
   "cell_type": "code",
   "execution_count": 54,
   "metadata": {
    "notebookRunGroups": {
     "groupValue": "2"
    }
   },
   "outputs": [
    {
     "data": {
      "text/plain": [
       "(59, 19)"
      ]
     },
     "execution_count": 54,
     "metadata": {},
     "output_type": "execute_result"
    }
   ],
   "source": [
    "Subir_pacientes.shape"
   ]
  },
  {
   "cell_type": "code",
   "execution_count": 55,
   "metadata": {
    "notebookRunGroups": {
     "groupValue": "2"
    }
   },
   "outputs": [],
   "source": [
    "def traerId(rut):\n",
    "    if len(rut) >= 8:\n",
    "        busquedaDatos = \"FIND {\" + rut + \"} RETURNING Account(Id,IdentificationId__pc where IdentificationId__pc = '\" + rut + \"')\"\n",
    "        derty = dict(sf.search(busquedaDatos))\n",
    "        if derty[\"searchRecords\"] != []:\n",
    "            if derty[\"searchRecords\"][0][\"attributes\"][\"type\"] == \"Account\":\n",
    "                jote = derty[\"searchRecords\"][0][\"Id\"]\n",
    "                dertyd = derty[\"searchRecords\"][0][\"IdentificationId__pc\"]\n",
    "                print(jote + \" \" + dertyd)\n",
    "                return jote\n",
    "            else:\n",
    "                print(\"no\")\n",
    "        else:\n",
    "            print(\"vacio\")\n",
    "    else:\n",
    "        return \"None\"\n",
    "\n",
    "\n",
    "def traerContact(ide):\n",
    "    ide = str(ide)\n",
    "    if len(ide) >= 12:\n",
    "        idcontact = sf.Account.get(ide)\n",
    "        return idcontact[\"PersonContactId\"]\n",
    "    else:\n",
    "        return \"NONES\"\n",
    "\n",
    "\n",
    "def agregarPaciente(listado):\n",
    "    vListado = listado.split(\",\")\n",
    "    \n",
    "    derty = None\n",
    "    #vListado[9] = datetime.strptime(vListado[9], \"%Y-%m-%d %H:%M:%S\")\n",
    "        \n",
    "        \n",
    "    if (vListado[9] == \"\"):                               \n",
    "        try:\n",
    "            derty = dict(\n",
    "                sf.Account.create(\n",
    "                    # derty = sf.Account.create(\n",
    "                    {\n",
    "                        \"FirstName\": vListado[0],\n",
    "                        \"LastName\": vListado[1],\n",
    "                        \"IdentificationId__pc\": vListado[2],\n",
    "                        \"RecordTypeId\": vListado[3],\n",
    "                        \"BillingCountry\": vListado[4],\n",
    "                        \"Identification_Type__c\": vListado[5],\n",
    "                        \"Pa_s_del_Paciente__c\": vListado[6],\n",
    "                        \"Cuenta_validada__c\": True,\n",
    "                        \"PersonEmail\": vListado[8],  \n",
    "                                          \n",
    "                        \"HealthCloudGA__Gender__pc\": vListado[10],\n",
    "                        \"Phone\": vListado[11],\n",
    "                        \"BillingCity\": vListado[12],\n",
    "                        \"BillingState\": vListado[13],\n",
    "                        \"BillingStreet\": vListado[14],\n",
    "                        \"Email_Seteado__c\": bool(vListado[15]),\n",
    "                    }\n",
    "                )\n",
    "            )\n",
    "            # return derty[\"id\"]\n",
    "        except SalesforceMalformedRequest as e:\n",
    "            print(f\"Malformed request error: {e}\")\n",
    "            error = {e}\n",
    "\n",
    "        if derty is not None:\n",
    "            return derty[\"id\"]\n",
    "        else:\n",
    "            traerId(vListado[2])\n",
    "    else:\n",
    "        try:\n",
    "            derty = dict(\n",
    "                sf.Account.create(\n",
    "                    # derty = sf.Account.create(\n",
    "                    {\n",
    "                        \"FirstName\": vListado[0],\n",
    "                        \"LastName\": vListado[1],\n",
    "                        \"IdentificationId__pc\": vListado[2],\n",
    "                        \"RecordTypeId\": vListado[3],\n",
    "                        \"BillingCountry\": vListado[4],\n",
    "                        \"Identification_Type__c\": vListado[5],\n",
    "                        \"Pa_s_del_Paciente__c\": vListado[6],\n",
    "                        \"Cuenta_validada__c\": True,\n",
    "                        \"PersonEmail\": vListado[8],\n",
    "                        \"PersonBirthdate\": vListado[9] ,\n",
    "                        #\"PersonBirthdate\":datetime.strptime(vListado[9], \"%Y-%m-%d %H:%M:%S\").formatGMT('yyyy-MM-dd\\'T\\'HH:mm:ss.SSS\\'Z\\'' + '\"'),\n",
    "                        \"HealthCloudGA__Gender__pc\": vListado[10],\n",
    "                        \"Phone\": vListado[11],\n",
    "                        \"BillingCity\": vListado[12],\n",
    "                        \"BillingState\": vListado[13],\n",
    "                        \"BillingStreet\": vListado[14],\n",
    "                        \"Email_Seteado__c\": bool(vListado[15]),\n",
    "                    }\n",
    "                )\n",
    "            )\n",
    "            # return derty[\"id\"]\n",
    "        except SalesforceMalformedRequest as e:\n",
    "            print(f\"Malformed request error: {e}\")\n",
    "            error = {e}\n",
    "\n",
    "        if derty is not None:\n",
    "            return derty[\"id\"]\n",
    "        else:\n",
    "            traerId(vListado[2])\n",
    "   "
   ]
  },
  {
   "cell_type": "code",
   "execution_count": 56,
   "metadata": {
    "notebookRunGroups": {
     "groupValue": "2"
    }
   },
   "outputs": [
    {
     "data": {
      "text/html": [
       "<div>\n",
       "<style scoped>\n",
       "    .dataframe tbody tr th:only-of-type {\n",
       "        vertical-align: middle;\n",
       "    }\n",
       "\n",
       "    .dataframe tbody tr th {\n",
       "        vertical-align: top;\n",
       "    }\n",
       "\n",
       "    .dataframe thead th {\n",
       "        text-align: right;\n",
       "    }\n",
       "</style>\n",
       "<table border=\"1\" class=\"dataframe\">\n",
       "  <thead>\n",
       "    <tr style=\"text-align: right;\">\n",
       "      <th></th>\n",
       "      <th>rut1</th>\n",
       "      <th>rut2</th>\n",
       "      <th>FirstName</th>\n",
       "      <th>LastName</th>\n",
       "      <th>IdentificationId__pc</th>\n",
       "      <th>PersonEmail</th>\n",
       "      <th>Email_Seteado__c</th>\n",
       "      <th>PersonBirthdate</th>\n",
       "      <th>derty</th>\n",
       "      <th>HealthCloudGA__Gender__pc</th>\n",
       "      <th>BillingStreet</th>\n",
       "      <th>BillingState</th>\n",
       "      <th>BillingCity</th>\n",
       "      <th>Phone</th>\n",
       "      <th>RecordTypeId</th>\n",
       "      <th>Cuenta_validada__c</th>\n",
       "      <th>BillingCountry</th>\n",
       "      <th>Identification_Type__c</th>\n",
       "      <th>Pa_s_del_Paciente__c</th>\n",
       "    </tr>\n",
       "  </thead>\n",
       "  <tbody>\n",
       "    <tr>\n",
       "      <th>626</th>\n",
       "      <td>183242032</td>\n",
       "      <td>183242032</td>\n",
       "      <td>Ignacia Fernanda</td>\n",
       "      <td>Mansilla Pinto</td>\n",
       "      <td>183242032</td>\n",
       "      <td>ignacia.mansillap@gmail.com</td>\n",
       "      <td>True</td>\n",
       "      <td>1991-12-30</td>\n",
       "      <td>1991-12-30</td>\n",
       "      <td>Mujer</td>\n",
       "      <td>volcan corcovado 5586</td>\n",
       "      <td>Puerto Montt</td>\n",
       "      <td>Puerto Montt</td>\n",
       "      <td>6617915</td>\n",
       "      <td>0128c000002Byp4AAC</td>\n",
       "      <td>True</td>\n",
       "      <td>Chile</td>\n",
       "      <td>RUT</td>\n",
       "      <td>a1U8c000005dAtnEAE</td>\n",
       "    </tr>\n",
       "    <tr>\n",
       "      <th>627</th>\n",
       "      <td>194379439</td>\n",
       "      <td>194379439</td>\n",
       "      <td>Diego Mario</td>\n",
       "      <td>Botto Gonzalez</td>\n",
       "      <td>194379439</td>\n",
       "      <td>diegobotto.gon@gmail.com</td>\n",
       "      <td>True</td>\n",
       "      <td>1996-05-20</td>\n",
       "      <td>1996-05-20</td>\n",
       "      <td>Hombre</td>\n",
       "      <td>camino el cerrillo 2375, casa 72. linderos</td>\n",
       "      <td>Buin</td>\n",
       "      <td>Santiago</td>\n",
       "      <td>5799718</td>\n",
       "      <td>0128c000002Byp4AAC</td>\n",
       "      <td>True</td>\n",
       "      <td>Chile</td>\n",
       "      <td>RUT</td>\n",
       "      <td>a1U8c000005dAtnEAE</td>\n",
       "    </tr>\n",
       "    <tr>\n",
       "      <th>628</th>\n",
       "      <td>19293897K</td>\n",
       "      <td>19293897K</td>\n",
       "      <td>Rodrigo</td>\n",
       "      <td>Ortiz Chaparro</td>\n",
       "      <td>19293897K</td>\n",
       "      <td>rodrigo.ortiz.chaparro@gmail.com</td>\n",
       "      <td>True</td>\n",
       "      <td>1995-12-15</td>\n",
       "      <td>1995-12-15</td>\n",
       "      <td>Hombre</td>\n",
       "      <td>diagonal paraguay 406 dp 1207</td>\n",
       "      <td>Santiago</td>\n",
       "      <td>Santiago</td>\n",
       "      <td>72133997</td>\n",
       "      <td>0128c000002Byp4AAC</td>\n",
       "      <td>True</td>\n",
       "      <td>Chile</td>\n",
       "      <td>RUT</td>\n",
       "      <td>a1U8c000005dAtnEAE</td>\n",
       "    </tr>\n",
       "    <tr>\n",
       "      <th>630</th>\n",
       "      <td>197828765</td>\n",
       "      <td>197828765</td>\n",
       "      <td>Paulina Belén</td>\n",
       "      <td>Soto Lara</td>\n",
       "      <td>197828765</td>\n",
       "      <td>paulina.sotolara@gmail.com</td>\n",
       "      <td>True</td>\n",
       "      <td>1997-09-16</td>\n",
       "      <td>1997-09-16</td>\n",
       "      <td>Mujer</td>\n",
       "      <td>av el parrón 0677 condominio don arturo depto 102</td>\n",
       "      <td>La Cisterna</td>\n",
       "      <td>Santiago</td>\n",
       "      <td>66676533</td>\n",
       "      <td>0128c000002Byp4AAC</td>\n",
       "      <td>True</td>\n",
       "      <td>Chile</td>\n",
       "      <td>RUT</td>\n",
       "      <td>a1U8c000005dAtnEAE</td>\n",
       "    </tr>\n",
       "    <tr>\n",
       "      <th>631</th>\n",
       "      <td>112775625</td>\n",
       "      <td>112775625</td>\n",
       "      <td>Erica</td>\n",
       "      <td>Aliaga Miranda</td>\n",
       "      <td>112775625</td>\n",
       "      <td>erikaaliaga69@gmail.com</td>\n",
       "      <td>True</td>\n",
       "      <td>1968-07-07</td>\n",
       "      <td>1968-07-07</td>\n",
       "      <td>Mujer</td>\n",
       "      <td>camino del amanecer 1915</td>\n",
       "      <td>Concepcion</td>\n",
       "      <td>Concepcion</td>\n",
       "      <td>9967716</td>\n",
       "      <td>0128c000002Byp4AAC</td>\n",
       "      <td>True</td>\n",
       "      <td>Chile</td>\n",
       "      <td>RUT</td>\n",
       "      <td>a1U8c000005dAtnEAE</td>\n",
       "    </tr>\n",
       "  </tbody>\n",
       "</table>\n",
       "</div>"
      ],
      "text/plain": [
       "          rut1       rut2         FirstName        LastName  \\\n",
       "626  183242032  183242032  Ignacia Fernanda  Mansilla Pinto   \n",
       "627  194379439  194379439       Diego Mario  Botto Gonzalez   \n",
       "628  19293897K  19293897K           Rodrigo  Ortiz Chaparro   \n",
       "630  197828765  197828765     Paulina Belén       Soto Lara   \n",
       "631  112775625  112775625             Erica  Aliaga Miranda   \n",
       "\n",
       "    IdentificationId__pc                       PersonEmail Email_Seteado__c  \\\n",
       "626            183242032       ignacia.mansillap@gmail.com             True   \n",
       "627            194379439          diegobotto.gon@gmail.com             True   \n",
       "628            19293897K  rodrigo.ortiz.chaparro@gmail.com             True   \n",
       "630            197828765        paulina.sotolara@gmail.com             True   \n",
       "631            112775625           erikaaliaga69@gmail.com             True   \n",
       "\n",
       "    PersonBirthdate      derty HealthCloudGA__Gender__pc  \\\n",
       "626      1991-12-30 1991-12-30                     Mujer   \n",
       "627      1996-05-20 1996-05-20                    Hombre   \n",
       "628      1995-12-15 1995-12-15                    Hombre   \n",
       "630      1997-09-16 1997-09-16                     Mujer   \n",
       "631      1968-07-07 1968-07-07                     Mujer   \n",
       "\n",
       "                                         BillingStreet  BillingState  \\\n",
       "626                              volcan corcovado 5586  Puerto Montt   \n",
       "627         camino el cerrillo 2375, casa 72. linderos          Buin   \n",
       "628                      diagonal paraguay 406 dp 1207      Santiago   \n",
       "630  av el parrón 0677 condominio don arturo depto 102   La Cisterna   \n",
       "631                           camino del amanecer 1915    Concepcion   \n",
       "\n",
       "      BillingCity     Phone        RecordTypeId Cuenta_validada__c  \\\n",
       "626  Puerto Montt   6617915  0128c000002Byp4AAC               True   \n",
       "627      Santiago   5799718  0128c000002Byp4AAC               True   \n",
       "628      Santiago  72133997  0128c000002Byp4AAC               True   \n",
       "630      Santiago  66676533  0128c000002Byp4AAC               True   \n",
       "631    Concepcion   9967716  0128c000002Byp4AAC               True   \n",
       "\n",
       "    BillingCountry Identification_Type__c Pa_s_del_Paciente__c  \n",
       "626          Chile                    RUT   a1U8c000005dAtnEAE  \n",
       "627          Chile                    RUT   a1U8c000005dAtnEAE  \n",
       "628          Chile                    RUT   a1U8c000005dAtnEAE  \n",
       "630          Chile                    RUT   a1U8c000005dAtnEAE  \n",
       "631          Chile                    RUT   a1U8c000005dAtnEAE  "
      ]
     },
     "execution_count": 56,
     "metadata": {},
     "output_type": "execute_result"
    }
   ],
   "source": [
    "Subir_pacientes.head()"
   ]
  },
  {
   "cell_type": "code",
   "execution_count": 57,
   "metadata": {
    "notebookRunGroups": {
     "groupValue": "2"
    }
   },
   "outputs": [
    {
     "data": {
      "text/plain": [
       "(59, 19)"
      ]
     },
     "execution_count": 57,
     "metadata": {},
     "output_type": "execute_result"
    }
   ],
   "source": [
    "Subir_pacientes = Subir_pacientes.drop_duplicates(\n",
    "    [\n",
    "        \"IdentificationId__pc\",\n",
    "    ],\n",
    "    keep=\"last\",\n",
    ")\n",
    "\n",
    "\n",
    "Subir_pacientes.shape"
   ]
  },
  {
   "cell_type": "code",
   "execution_count": null,
   "metadata": {},
   "outputs": [],
   "source": [
    "\"\"\" Subir_pacientes.to_excel(\n",
    "    \"F:/Empresas SF/reportes/Pacientes_Que_No_Estaban.xlsx\", index=False\n",
    ") \"\"\""
   ]
  },
  {
   "cell_type": "code",
   "execution_count": 58,
   "metadata": {
    "notebookRunGroups": {
     "groupValue": "2"
    }
   },
   "outputs": [
    {
     "data": {
      "text/plain": [
       "' Subir_pacientes[\"Id\"] = Subir_pacientes[\"Id\"].astype(str)\\nSubir_pacientes = Subir_pacientes[Subir_pacientes[\"Id\"].str.len() <= 12]\\n# Subir_pacientes[\"numero\"] = Subir_pacientes[\"Id\"].str.len()\\nSubir_pacientes.shape '"
      ]
     },
     "execution_count": 58,
     "metadata": {},
     "output_type": "execute_result"
    }
   ],
   "source": [
    "\"\"\" Subir_pacientes[\"Id\"] = Subir_pacientes[\"Id\"].astype(str)\n",
    "Subir_pacientes = Subir_pacientes[Subir_pacientes[\"Id\"].str.len() <= 12]\n",
    "# Subir_pacientes[\"numero\"] = Subir_pacientes[\"Id\"].str.len()\n",
    "Subir_pacientes.shape \"\"\""
   ]
  },
  {
   "cell_type": "markdown",
   "metadata": {},
   "source": [
    "ACA SE CREAN LOS PACIENTES Q NO ESTAN"
   ]
  },
  {
   "cell_type": "code",
   "execution_count": 59,
   "metadata": {
    "notebookRunGroups": {
     "groupValue": "2"
    }
   },
   "outputs": [],
   "source": [
    "Subir_pacientes[\"dato_account\"] = \"\"\n",
    "if (\"FirstName\" in Subir_pacientes.columns) == True:\n",
    "    Subir_pacientes[\"dato_account\"] = Subir_pacientes[\"dato_account\"] + Subir_pacientes[\n",
    "        \"FirstName\"\n",
    "    ].astype(str)\n",
    "if (\"LastName\" in Subir_pacientes.columns) == True:\n",
    "    Subir_pacientes[\"dato_account\"] = (\n",
    "        Subir_pacientes[\"dato_account\"] + \",\" + Subir_pacientes[\"LastName\"].astype(str)\n",
    "    )\n",
    "if (\"IdentificationId__pc\" in Subir_pacientes.columns) == True:\n",
    "    Subir_pacientes[\"dato_account\"] = (\n",
    "        Subir_pacientes[\"dato_account\"]\n",
    "        + \",\"\n",
    "        + Subir_pacientes[\"IdentificationId__pc\"].astype(str)\n",
    "    )\n",
    "if (\"RecordTypeId\" in Subir_pacientes.columns) == True:\n",
    "    Subir_pacientes[\"dato_account\"] = (\n",
    "        Subir_pacientes[\"dato_account\"]\n",
    "        + \",\"\n",
    "        + Subir_pacientes[\"RecordTypeId\"].astype(str)\n",
    "    )\n",
    "if (\"BillingCountry\" in Subir_pacientes.columns) == True:\n",
    "    Subir_pacientes[\"dato_account\"] = (\n",
    "        Subir_pacientes[\"dato_account\"]\n",
    "        + \",\"\n",
    "        + Subir_pacientes[\"BillingCountry\"].astype(str)\n",
    "    )\n",
    "if (\"Identification_Type__c\" in Subir_pacientes.columns) == True:\n",
    "    Subir_pacientes[\"dato_account\"] = (\n",
    "        Subir_pacientes[\"dato_account\"]\n",
    "        + \",\"\n",
    "        + Subir_pacientes[\"Identification_Type__c\"].astype(str)\n",
    "    )\n",
    "if (\"Pa_s_del_Paciente__c\" in Subir_pacientes.columns) == True:\n",
    "    Subir_pacientes[\"dato_account\"] = (\n",
    "        Subir_pacientes[\"dato_account\"]\n",
    "        + \",\"\n",
    "        + Subir_pacientes[\"Pa_s_del_Paciente__c\"].astype(str)\n",
    "    )\n",
    "if (\"Cuenta_validada__c\" in Subir_pacientes.columns) == True:\n",
    "    Subir_pacientes[\"dato_account\"] = (\n",
    "        Subir_pacientes[\"dato_account\"]\n",
    "        + \",\"\n",
    "        + Subir_pacientes[\"Cuenta_validada__c\"].astype(str)\n",
    "    )\n",
    "\n",
    "if (\"PersonEmail\" in Subir_pacientes.columns) == True:\n",
    "    Subir_pacientes[\"dato_account\"] = (\n",
    "        Subir_pacientes[\"dato_account\"]\n",
    "        + \",\"\n",
    "        + Subir_pacientes[\"PersonEmail\"].astype(str)\n",
    "    )\n",
    "else:\n",
    "    Subir_pacientes[\"dato_account\"] = Subir_pacientes[\"dato_account\"] + \",\"\n",
    "\n",
    "if (\"PersonBirthdate\" in Subir_pacientes.columns) == True:\n",
    "    Subir_pacientes[\"dato_account\"] = (Subir_pacientes[\"dato_account\"] + \",\" + Subir_pacientes[\"PersonBirthdate\"].apply(lambda x: x.isoformat() + \"Z\"))\n",
    "else:\n",
    "    Subir_pacientes[\"dato_account\"] = Subir_pacientes[\"dato_account\"] + \",\"\n",
    "if (\"HealthCloudGA__Gender__pc\" in Subir_pacientes.columns) == True:\n",
    "    Subir_pacientes[\"dato_account\"] = (\n",
    "        Subir_pacientes[\"dato_account\"]\n",
    "        + \",\"\n",
    "        + Subir_pacientes[\"HealthCloudGA__Gender__pc\"].astype(str)\n",
    "    )\n",
    "else:\n",
    "    Subir_pacientes[\"dato_account\"] = Subir_pacientes[\"dato_account\"] + \",\"\n",
    "if (\"Phone\" in Subir_pacientes.columns) == True:\n",
    "    Subir_pacientes[\"dato_account\"] = (\n",
    "        Subir_pacientes[\"dato_account\"] + \",\" + Subir_pacientes[\"Phone\"].astype(str)\n",
    "    )\n",
    "else:\n",
    "    Subir_pacientes[\"dato_account\"] = Subir_pacientes[\"dato_account\"] + \",\"\n",
    "if (\"BillingCity\" in Subir_pacientes.columns) == True:\n",
    "    Subir_pacientes[\"dato_account\"] = (\n",
    "        Subir_pacientes[\"dato_account\"]\n",
    "        + \",\"\n",
    "        + Subir_pacientes[\"BillingCity\"].astype(str)\n",
    "    )\n",
    "else:\n",
    "    Subir_pacientes[\"dato_account\"] = Subir_pacientes[\"dato_account\"] + \",\"\n",
    "if (\"BillingState\" in Subir_pacientes.columns) == True:\n",
    "    Subir_pacientes[\"dato_account\"] = (\n",
    "        Subir_pacientes[\"dato_account\"]\n",
    "        + \",\"\n",
    "        + Subir_pacientes[\"BillingState\"].astype(str)\n",
    "    )\n",
    "else:\n",
    "    Subir_pacientes[\"dato_account\"] = Subir_pacientes[\"dato_account\"] + \",\"\n",
    "if (\"BillingStreet\" in Subir_pacientes.columns) == True:\n",
    "    Subir_pacientes[\"dato_account\"] = (\n",
    "        Subir_pacientes[\"dato_account\"]\n",
    "        + \",\"\n",
    "        + Subir_pacientes[\"BillingStreet\"].astype(str)\n",
    "    )\n",
    "else:\n",
    "    Subir_pacientes[\"dato_account\"] = Subir_pacientes[\"dato_account\"] + \",\"\n",
    "if (\"PersonEmail\" in Subir_pacientes.columns) == True:\n",
    "    Subir_pacientes[\"dato_account\"] = (\n",
    "        Subir_pacientes[\"dato_account\"]\n",
    "        + \",\"\n",
    "        + Subir_pacientes[\"Email_Seteado__c\"].astype(str)\n",
    "    )\n",
    "else:\n",
    "    Subir_pacientes[\"dato_account\"] = Subir_pacientes[\"dato_account\"] + \",\"\n",
    "\n",
    "# Subir_pacientes[\"dato_account\"] =  Subir_pacientes[\"dato_account\"] =\n",
    "\n",
    "Subir_pacientes[\"Id_creado\"] = Subir_pacientes[\"dato_account\"].apply(\n",
    "    lambda x: agregarPaciente(x)\n",
    ")\n"
   ]
  },
  {
   "cell_type": "code",
   "execution_count": null,
   "metadata": {},
   "outputs": [],
   "source": [
    "\"\"\" Subir_pacientes[\"Id\"] = Subir_pacientes[\"IdentificationId__pc\"].apply(\n",
    "    lambda y: traerId(y)\n",
    ") \"\"\"\n",
    "#Subir_pacientes[\"Id_creado\"]"
   ]
  },
  {
   "cell_type": "code",
   "execution_count": 60,
   "metadata": {
    "notebookRunGroups": {
     "groupValue": "2"
    }
   },
   "outputs": [
    {
     "name": "stderr",
     "output_type": "stream",
     "text": [
      "100%|██████████| 1/1 [00:04<00:00,  4.66s/it]\n"
     ]
    },
    {
     "data": {
      "text/plain": [
       "(2, 12)"
      ]
     },
     "execution_count": 60,
     "metadata": {},
     "output_type": "execute_result"
    }
   ],
   "source": [
    "query2 = \"select P_liza__c, Nombre_de_Empresa__c,Identificador__c, Rut_Empresa__c, Empresa_Padre__r.Name, Empresa__r.name,Holding__c, Plan__c, Pais__c, Activo__c, Id from Datos_Empresa__c WHERE Empresa_Padre__r.Name = '\" + campaña + \"' order by CreatedDate\"\n",
    "\n",
    "df2 = sf.smart_query(query2)\n",
    "df2[\"LLave\"] = df2[\"Rut_Empresa__c\"].str.upper().str.replace(\"-\", \"\") + df2[\"P_liza__c\"]\n",
    "\n",
    "df2[\"dato\"] = 1\n",
    "df2.to_excel(\"F:/Empresas SF/reportes/empresas_asociadas.xlsx\", index=False)\n",
    "df2.head()\n",
    "df2.shape"
   ]
  },
  {
   "cell_type": "code",
   "execution_count": 61,
   "metadata": {
    "notebookRunGroups": {
     "groupValue": "2"
    }
   },
   "outputs": [
    {
     "data": {
      "text/plain": [
       "(0, 21)"
      ]
     },
     "execution_count": 61,
     "metadata": {},
     "output_type": "execute_result"
    }
   ],
   "source": [
    "#RELACION EMPRESA PACIENMTES ---- EMPRESACONTACTOCONVENIOS\n",
    "\n",
    "\n",
    "sinId = pd.DataFrame()\n",
    "Subir_pacientes[\"Id_creado\"] = Subir_pacientes[\"Id_creado\"].astype(str)\n",
    "sinId = Subir_pacientes[Subir_pacientes[\"Id_creado\"].astype(str).str.len() < 12]\n",
    "Subir_pacientes = Subir_pacientes[Subir_pacientes[\"Id_creado\"].astype(str).str.len() >= 12]\n",
    "sinId.shape"
   ]
  },
  {
   "cell_type": "code",
   "execution_count": 62,
   "metadata": {
    "notebookRunGroups": {
     "groupValue": "2"
    }
   },
   "outputs": [
    {
     "data": {
      "text/html": [
       "<div>\n",
       "<style scoped>\n",
       "    .dataframe tbody tr th:only-of-type {\n",
       "        vertical-align: middle;\n",
       "    }\n",
       "\n",
       "    .dataframe tbody tr th {\n",
       "        vertical-align: top;\n",
       "    }\n",
       "\n",
       "    .dataframe thead th {\n",
       "        text-align: right;\n",
       "    }\n",
       "</style>\n",
       "<table border=\"1\" class=\"dataframe\">\n",
       "  <thead>\n",
       "    <tr style=\"text-align: right;\">\n",
       "      <th></th>\n",
       "      <th>rut1</th>\n",
       "      <th>rut2</th>\n",
       "      <th>FirstName</th>\n",
       "      <th>LastName</th>\n",
       "      <th>IdentificationId__pc</th>\n",
       "      <th>PersonEmail</th>\n",
       "      <th>Email_Seteado__c</th>\n",
       "      <th>PersonBirthdate</th>\n",
       "      <th>derty</th>\n",
       "      <th>HealthCloudGA__Gender__pc</th>\n",
       "      <th>...</th>\n",
       "      <th>BillingState</th>\n",
       "      <th>BillingCity</th>\n",
       "      <th>Phone</th>\n",
       "      <th>RecordTypeId</th>\n",
       "      <th>Cuenta_validada__c</th>\n",
       "      <th>BillingCountry</th>\n",
       "      <th>Identification_Type__c</th>\n",
       "      <th>Pa_s_del_Paciente__c</th>\n",
       "      <th>dato_account</th>\n",
       "      <th>Id_creado</th>\n",
       "    </tr>\n",
       "  </thead>\n",
       "  <tbody>\n",
       "  </tbody>\n",
       "</table>\n",
       "<p>0 rows × 21 columns</p>\n",
       "</div>"
      ],
      "text/plain": [
       "Empty DataFrame\n",
       "Columns: [rut1, rut2, FirstName, LastName, IdentificationId__pc, PersonEmail, Email_Seteado__c, PersonBirthdate, derty, HealthCloudGA__Gender__pc, BillingStreet, BillingState, BillingCity, Phone, RecordTypeId, Cuenta_validada__c, BillingCountry, Identification_Type__c, Pa_s_del_Paciente__c, dato_account, Id_creado]\n",
       "Index: []\n",
       "\n",
       "[0 rows x 21 columns]"
      ]
     },
     "execution_count": 62,
     "metadata": {},
     "output_type": "execute_result"
    }
   ],
   "source": [
    "sinId.head()"
   ]
  },
  {
   "cell_type": "code",
   "execution_count": 63,
   "metadata": {
    "notebookRunGroups": {
     "groupValue": "2"
    }
   },
   "outputs": [
    {
     "data": {
      "text/plain": [
       "(59, 21)"
      ]
     },
     "execution_count": 63,
     "metadata": {},
     "output_type": "execute_result"
    }
   ],
   "source": [
    "sinId[\"Id_creado\"] = sinId[\"rut1\"].apply(lambda y: traerId(y))\n",
    "\n",
    "Subir_pacientes = pd.concat([Subir_pacientes, sinId], axis=0)\n",
    "Subir_pacientes.shape"
   ]
  },
  {
   "cell_type": "code",
   "execution_count": 64,
   "metadata": {
    "notebookRunGroups": {
     "groupValue": "2"
    }
   },
   "outputs": [
    {
     "data": {
      "text/plain": [
       "' Subir_pacientes.to_excel(\\n    \"F:/Empresas SF/reportes/dertyuiop.xlsx\", index=False\\n)\\nSubir_pacientes.head() '"
      ]
     },
     "execution_count": 64,
     "metadata": {},
     "output_type": "execute_result"
    }
   ],
   "source": [
    "\"\"\" Subir_pacientes.to_excel(\n",
    "    \"F:/Empresas SF/reportes/dertyuiop.xlsx\", index=False\n",
    ")\n",
    "Subir_pacientes.head() \"\"\""
   ]
  },
  {
   "cell_type": "code",
   "execution_count": 65,
   "metadata": {
    "notebookRunGroups": {
     "groupValue": "2"
    }
   },
   "outputs": [],
   "source": [
    "Subir_pacientes = Subir_pacientes[\n",
    "    [\n",
    "        \"rut1\",\n",
    "        \"rut2\",\n",
    "        \"Id_creado\",\n",
    "        \n",
    "    ]\n",
    "]\n",
    "\n",
    "\n",
    "\n"
   ]
  },
  {
   "cell_type": "code",
   "execution_count": 66,
   "metadata": {
    "notebookRunGroups": {
     "groupValue": "2"
    }
   },
   "outputs": [
    {
     "data": {
      "text/plain": [
       "(59, 3)"
      ]
     },
     "execution_count": 66,
     "metadata": {},
     "output_type": "execute_result"
    }
   ],
   "source": [
    "Subir_pacientes.shape"
   ]
  },
  {
   "cell_type": "code",
   "execution_count": 67,
   "metadata": {
    "notebookRunGroups": {
     "groupValue": "2"
    }
   },
   "outputs": [],
   "source": [
    "Pacientes_con_id[\"Id_creado\"] = Pacientes_con_id[\"Id Account Paciente\"]"
   ]
  },
  {
   "cell_type": "code",
   "execution_count": 68,
   "metadata": {
    "notebookRunGroups": {
     "groupValue": "2"
    }
   },
   "outputs": [
    {
     "data": {
      "text/plain": [
       "(698, 35)"
      ]
     },
     "execution_count": 68,
     "metadata": {},
     "output_type": "execute_result"
    }
   ],
   "source": [
    "Pacientes_con_id.shape"
   ]
  },
  {
   "cell_type": "code",
   "execution_count": 69,
   "metadata": {
    "notebookRunGroups": {
     "groupValue": "2"
    }
   },
   "outputs": [
    {
     "data": {
      "text/plain": [
       "(698, 6)"
      ]
     },
     "execution_count": 69,
     "metadata": {},
     "output_type": "execute_result"
    }
   ],
   "source": [
    "\n",
    "#noestan[\"Id Account Paciente\"] = np.where(Subir_pacientes[\"IdentificationId__pc\"] == noestan[\"rut\"],Subir_pacientes[\"Id_creado\"] + \"SI\",\"NO\")\n",
    "todos_con_Id = pd.merge(\n",
    "    left=Pacientes_con_id,\n",
    "    right=Subir_pacientes,\n",
    "    how=\"left\",\n",
    "    left_on=\"rut\",\n",
    "    right_on=\"rut1\",\n",
    ")\n",
    "\n",
    "todos_con_Id = todos_con_Id[\n",
    "    [\n",
    "        \"poliza\",\n",
    "        #\"empleador\",\n",
    "        \"rutE\",\n",
    "        \"rut\",\n",
    "        \"rutT\",\n",
    "        \"Id_creado_x\",\n",
    "        \"Id_creado_y\",\n",
    "    ]\n",
    "]\n",
    "\n",
    "todos_con_Id.shape\n"
   ]
  },
  {
   "cell_type": "code",
   "execution_count": 70,
   "metadata": {
    "notebookRunGroups": {
     "groupValue": "2"
    }
   },
   "outputs": [
    {
     "data": {
      "text/html": [
       "<div>\n",
       "<style scoped>\n",
       "    .dataframe tbody tr th:only-of-type {\n",
       "        vertical-align: middle;\n",
       "    }\n",
       "\n",
       "    .dataframe tbody tr th {\n",
       "        vertical-align: top;\n",
       "    }\n",
       "\n",
       "    .dataframe thead th {\n",
       "        text-align: right;\n",
       "    }\n",
       "</style>\n",
       "<table border=\"1\" class=\"dataframe\">\n",
       "  <thead>\n",
       "    <tr style=\"text-align: right;\">\n",
       "      <th></th>\n",
       "      <th>poliza</th>\n",
       "      <th>rutE</th>\n",
       "      <th>rut</th>\n",
       "      <th>rutT</th>\n",
       "      <th>Id_creado_x</th>\n",
       "      <th>Id_creado_y</th>\n",
       "    </tr>\n",
       "  </thead>\n",
       "  <tbody>\n",
       "    <tr>\n",
       "      <th>0</th>\n",
       "      <td>123240000001</td>\n",
       "      <td>B</td>\n",
       "      <td>193331777</td>\n",
       "      <td>193331777</td>\n",
       "      <td>001RN000006kbAtYAI</td>\n",
       "      <td>NaN</td>\n",
       "    </tr>\n",
       "    <tr>\n",
       "      <th>1</th>\n",
       "      <td>123240000001</td>\n",
       "      <td>B</td>\n",
       "      <td>201974755</td>\n",
       "      <td>201974755</td>\n",
       "      <td>001RN000006kW9XYAU</td>\n",
       "      <td>NaN</td>\n",
       "    </tr>\n",
       "    <tr>\n",
       "      <th>2</th>\n",
       "      <td>123240000002</td>\n",
       "      <td>B</td>\n",
       "      <td>154415513</td>\n",
       "      <td>154415513</td>\n",
       "      <td>001RN000006kcdDYAQ</td>\n",
       "      <td>NaN</td>\n",
       "    </tr>\n",
       "    <tr>\n",
       "      <th>3</th>\n",
       "      <td>123240000003</td>\n",
       "      <td>B</td>\n",
       "      <td>188486991</td>\n",
       "      <td>188486991</td>\n",
       "      <td>001RN000006kcwbYAA</td>\n",
       "      <td>NaN</td>\n",
       "    </tr>\n",
       "    <tr>\n",
       "      <th>4</th>\n",
       "      <td>123240000004</td>\n",
       "      <td>B</td>\n",
       "      <td>165578104</td>\n",
       "      <td>165578104</td>\n",
       "      <td>001RN000006kdpLYAQ</td>\n",
       "      <td>NaN</td>\n",
       "    </tr>\n",
       "  </tbody>\n",
       "</table>\n",
       "</div>"
      ],
      "text/plain": [
       "         poliza rutE        rut       rutT         Id_creado_x Id_creado_y\n",
       "0  123240000001    B  193331777  193331777  001RN000006kbAtYAI         NaN\n",
       "1  123240000001    B  201974755  201974755  001RN000006kW9XYAU         NaN\n",
       "2  123240000002    B  154415513  154415513  001RN000006kcdDYAQ         NaN\n",
       "3  123240000003    B  188486991  188486991  001RN000006kcwbYAA         NaN\n",
       "4  123240000004    B  165578104  165578104  001RN000006kdpLYAQ         NaN"
      ]
     },
     "execution_count": 70,
     "metadata": {},
     "output_type": "execute_result"
    }
   ],
   "source": [
    "todos_con_Id.head()"
   ]
  },
  {
   "cell_type": "code",
   "execution_count": 71,
   "metadata": {
    "notebookRunGroups": {
     "groupValue": "2"
    }
   },
   "outputs": [],
   "source": [
    "todos_con_Id.Id_creado_x.fillna(todos_con_Id[\"Id_creado_y\"], inplace=True)\n",
    "todos_con_Id.Id_creado_x.fillna(\"FARSO\", inplace=True)\n",
    "todos_con_Id = todos_con_Id[todos_con_Id[\"Id_creado_x\"] != \"FARSO\"]\n",
    "todos_con_Id2 = todos_con_Id[todos_con_Id[\"Id_creado_x\"] == \"FARSO\"]\n",
    "todos_con_Id2[\"Id_creado_x\"] = todos_con_Id2[\"rut\"].apply(lambda y: traerId(y))\n",
    "todos_con_Id = pd.concat([todos_con_Id, todos_con_Id2], axis=0)"
   ]
  },
  {
   "cell_type": "code",
   "execution_count": 72,
   "metadata": {
    "notebookRunGroups": {
     "groupValue": "2"
    }
   },
   "outputs": [
    {
     "data": {
      "text/html": [
       "<div>\n",
       "<style scoped>\n",
       "    .dataframe tbody tr th:only-of-type {\n",
       "        vertical-align: middle;\n",
       "    }\n",
       "\n",
       "    .dataframe tbody tr th {\n",
       "        vertical-align: top;\n",
       "    }\n",
       "\n",
       "    .dataframe thead th {\n",
       "        text-align: right;\n",
       "    }\n",
       "</style>\n",
       "<table border=\"1\" class=\"dataframe\">\n",
       "  <thead>\n",
       "    <tr style=\"text-align: right;\">\n",
       "      <th></th>\n",
       "      <th>poliza</th>\n",
       "      <th>rutE</th>\n",
       "      <th>rut</th>\n",
       "      <th>rutT</th>\n",
       "      <th>Id_creado_x</th>\n",
       "      <th>Id_creado_y</th>\n",
       "    </tr>\n",
       "  </thead>\n",
       "  <tbody>\n",
       "    <tr>\n",
       "      <th>0</th>\n",
       "      <td>123240000001</td>\n",
       "      <td>B</td>\n",
       "      <td>193331777</td>\n",
       "      <td>193331777</td>\n",
       "      <td>001RN000006kbAtYAI</td>\n",
       "      <td>NaN</td>\n",
       "    </tr>\n",
       "    <tr>\n",
       "      <th>1</th>\n",
       "      <td>123240000001</td>\n",
       "      <td>B</td>\n",
       "      <td>201974755</td>\n",
       "      <td>201974755</td>\n",
       "      <td>001RN000006kW9XYAU</td>\n",
       "      <td>NaN</td>\n",
       "    </tr>\n",
       "    <tr>\n",
       "      <th>2</th>\n",
       "      <td>123240000002</td>\n",
       "      <td>B</td>\n",
       "      <td>154415513</td>\n",
       "      <td>154415513</td>\n",
       "      <td>001RN000006kcdDYAQ</td>\n",
       "      <td>NaN</td>\n",
       "    </tr>\n",
       "    <tr>\n",
       "      <th>3</th>\n",
       "      <td>123240000003</td>\n",
       "      <td>B</td>\n",
       "      <td>188486991</td>\n",
       "      <td>188486991</td>\n",
       "      <td>001RN000006kcwbYAA</td>\n",
       "      <td>NaN</td>\n",
       "    </tr>\n",
       "    <tr>\n",
       "      <th>4</th>\n",
       "      <td>123240000004</td>\n",
       "      <td>B</td>\n",
       "      <td>165578104</td>\n",
       "      <td>165578104</td>\n",
       "      <td>001RN000006kdpLYAQ</td>\n",
       "      <td>NaN</td>\n",
       "    </tr>\n",
       "  </tbody>\n",
       "</table>\n",
       "</div>"
      ],
      "text/plain": [
       "         poliza rutE        rut       rutT         Id_creado_x Id_creado_y\n",
       "0  123240000001    B  193331777  193331777  001RN000006kbAtYAI         NaN\n",
       "1  123240000001    B  201974755  201974755  001RN000006kW9XYAU         NaN\n",
       "2  123240000002    B  154415513  154415513  001RN000006kcdDYAQ         NaN\n",
       "3  123240000003    B  188486991  188486991  001RN000006kcwbYAA         NaN\n",
       "4  123240000004    B  165578104  165578104  001RN000006kdpLYAQ         NaN"
      ]
     },
     "execution_count": 72,
     "metadata": {},
     "output_type": "execute_result"
    }
   ],
   "source": [
    "todos_con_Id.head()"
   ]
  },
  {
   "cell_type": "code",
   "execution_count": 73,
   "metadata": {
    "notebookRunGroups": {
     "groupValue": "2"
    }
   },
   "outputs": [
    {
     "data": {
      "text/plain": [
       "' todos_con_Id.to_excel(\\n    \"F:/Empresas SF/reportes/todos_con_Id.xlsx\", index=False\\n) '"
      ]
     },
     "execution_count": 73,
     "metadata": {},
     "output_type": "execute_result"
    }
   ],
   "source": [
    "\"\"\" todos_con_Id.to_excel(\n",
    "    \"F:/Empresas SF/reportes/todos_con_Id.xlsx\", index=False\n",
    ") \"\"\"\n"
   ]
  },
  {
   "cell_type": "code",
   "execution_count": 74,
   "metadata": {
    "notebookRunGroups": {
     "groupValue": "2"
    }
   },
   "outputs": [],
   "source": [
    "if campaña == \"Southbridge Plan Mujer\":\n",
    "    VempresaConvenio = \"a3yRN0000006sVTYAY\"\n",
    "elif campaña == \"Southbridge\":\n",
    "    \n",
    "    VempresaConvenio = \"a3yRN0000006sqYYAQ\"\n",
    "elif campaña == \"Construmart\":\n",
    "    \n",
    "    VempresaConvenio = \"a3yRN0000006rlZYAQ\"\n",
    "elif campaña == \"EY\":\n",
    "    \n",
    "    VempresaConvenio = \"a3yRN0000006rsTYAQ\"\n",
    "elif campaña == \"Colmena\":\n",
    "\n",
    "    VempresaConvenio = \"a3yRN0000006rf5YAA\"\n",
    "elif campaña == \"Pedro De Valdivia\":\n",
    "    \n",
    "    VempresaConvenio = \"a3yRN0000006sVzYAI\"\n",
    "elif campaña == \"Forum\":\n",
    "    \n",
    "    VempresaConvenio = \"a3yRN0000006s3SYAQ\"\n",
    "elif campaña == \"Farmacias Cruz Verde\":\n",
    "    \n",
    "    VempresaConvenio = \"a3yRN0000006rsqYAA\"\n",
    "elif campaña == \"Milan Fajanovic\":\n",
    "    \n",
    "    VempresaConvenio = \"a3yRN0000006sR4YAI\"\n",
    "elif campaña == \"ProChile\":\n",
    "    \n",
    "    VempresaConvenio = \"a3yRN0000006rpsYAA\"\n",
    "elif campaña == \"Farmacias Ahumada\":\n",
    "    \n",
    "    VempresaConvenio = \"a3yRN0000006rspYAA\"\n",
    "elif campaña == \"Minera El Abra\":\n",
    "    \n",
    "    VempresaConvenio = \"a3yRN0000006snOYAQ\"\n",
    "elif campaña == \"Instruvalve\":\n",
    "    \n",
    "    VempresaConvenio = \"a3yRN0000006s9DYAQ\"\n",
    "elif campaña == \"VidaCel\":\n",
    "    \n",
    "    VempresaConvenio = \"a3yRN0000006suzYAA\"\n",
    "elif campaña == \"Care Assistance Colaboradores\":\n",
    "    \n",
    "    VempresaConvenio = \"a3yRN0000006reXYA\"\n",
    "elif campaña == \"Nexo\":\n",
    "    \n",
    "    VempresaConvenio = \"a3yRN0000006sORYAY\"\n",
    "elif campaña == \"Talo\":\n",
    "    \n",
    "    VempresaConvenio = \"a3yRN0000006t10YAA\"\n",
    "elif campaña == \"MetLife Rentas Vitalicias\":\n",
    "    \n",
    "    VempresaConvenio = \"a3yRN0000006tWiYAI\"\n",
    "elif campaña == \"Cortesía MetLife Orienta\":\n",
    "    \n",
    "    VempresaConvenio = \"a3yRN0000008OLJYA2\"\n",
    "else:\n",
    "    VempresaConvenio = \"Buscarv\"\n"
   ]
  },
  {
   "cell_type": "code",
   "execution_count": 75,
   "metadata": {
    "notebookRunGroups": {
     "groupValue": "2"
    }
   },
   "outputs": [],
   "source": [
    "if(campaña == \"MetLife\" or campaña == \"BCI Seguros Colectivos\"):\n",
    "    empresacontactoconvenio_PacientesSF[\"llave\"] = empresacontactoconvenio_PacientesSF[\"Poliza\"] + empresacontactoconvenio_PacientesSF[\"Rut Titular\"] + empresacontactoconvenio_PacientesSF[\"Rut_x\"]\n",
    "    todos_con_Id[\"llave\"] = todos_con_Id[\"poliza\"] + todos_con_Id[\"rutT\"] + todos_con_Id[\"rut\"]\n",
    "    \n",
    "elif(campaña == \"Vida Security\"):\n",
    "    empresacontactoconvenio_PacientesSF[\"llave\"] = empresacontactoconvenio_PacientesSF[\"Poliza\"] +empresacontactoconvenio_PacientesSF[\"Rut Empresa\"] + empresacontactoconvenio_PacientesSF[\"Rut Titular\"] + empresacontactoconvenio_PacientesSF[\"Rut_x\"]\n",
    "    todos_con_Id[\"llave\"] = todos_con_Id[\"poliza\"] + todos_con_Id[\"rutE\"] + todos_con_Id[\"rutT\"] + todos_con_Id[\"rut\"]\n",
    "else:\n",
    "    empresacontactoconvenio_PacientesSF[\"llave\"] = empresacontactoconvenio_PacientesSF[\"Rut Titular\"] + empresacontactoconvenio_PacientesSF[\"Rut_x\"]\n",
    "    todos_con_Id[\"llave\"] = todos_con_Id[\"rutT\"] + todos_con_Id[\"rut\"]    \n",
    "    \n",
    "\n",
    "todos_con_Id[\"esta\"] = todos_con_Id[\"llave\"].isin(empresacontactoconvenio_PacientesSF[\"llave\"])\n",
    "empresacontactoconvenio_PacientesSF[\"Noesta\"] = empresacontactoconvenio_PacientesSF[\"llave\"].isin(todos_con_Id[\"llave\"])\n",
    "\n",
    "\n",
    "diccionario = df2[\n",
    "    [\n",
    "        \"P_liza__c\",\n",
    "        \"Id\",        \n",
    "    ]\n",
    "]\n",
    "diccionario = diccionario.drop_duplicates(\n",
    "    [\n",
    "        \"P_liza__c\",\n",
    "        \"Id\",        \n",
    "    ],\n",
    "    keep=\"last\",\n",
    ")\n",
    "diccionario = diccionario.drop_duplicates(\n",
    "    [\n",
    "        \"P_liza__c\",        \n",
    "    ],\n",
    "    keep=\"last\",\n",
    ")\n",
    "\n",
    "diccionario = diccionario.set_index(\"P_liza__c\").T.to_dict(orient=\"list\")\n",
    "\n",
    "diccionario2 = df2[\n",
    "    [\n",
    "        \"P_liza__c\",\n",
    "        \"Activo__c\",        \n",
    "    ]\n",
    "]\n",
    "diccionario2 = diccionario2.drop_duplicates(\n",
    "    [\n",
    "        \"P_liza__c\",        \n",
    "    ],\n",
    "    keep=\"last\",\n",
    ")\n",
    "\n",
    "diccionario2 = diccionario2.set_index(\"P_liza__c\").T.to_dict(orient=\"list\")\n",
    "\n",
    "\n",
    "todos_con_Id[\"N_Documento_Titular__c\"] = todos_con_Id[\"rutT\"]\n",
    "todos_con_Id[\"Paciente__c\"] = todos_con_Id[\"Id_creado_x\"]\n",
    "todos_con_Id[\"Empresa__c\"] = VempresaConvenio\n",
    "todos_con_Id[\"EmpActiva\"] = \"revisar\"\n",
    "\n",
    "\n",
    "todos_con_Id = todos_con_Id[\n",
    "    [\n",
    "        \"poliza\",\n",
    "        \"rutE\",\n",
    "        \"rut\",\n",
    "        \"rutT\",\n",
    "        \"Paciente__c\",\n",
    "        \"N_Documento_Titular__c\",\n",
    "        \"Empresa__c\",\n",
    "        \"esta\",\n",
    "        \"EmpActiva\",\n",
    "    ]\n",
    "]\n",
    "\n",
    "\n",
    "if (VempresaConvenio == \"Buscarv\"):\n",
    "    todos_con_Id[\"poliza2\"] = todos_con_Id[\"poliza\"] \n",
    "    todos_con_Id.replace({\"poliza2\": diccionario}, inplace=True)    \n",
    "    todos_con_Id[\"Empresa__c\"] = np.where(todos_con_Id[\"poliza2\"].str.len() >= 15, todos_con_Id[\"poliza2\"], todos_con_Id[\"Empresa__c\"])\n",
    "    todos_con_Id[\"EmpActiva\"] = todos_con_Id[\"poliza\"] \n",
    "    todos_con_Id.replace({\"EmpActiva\": diccionario2}, inplace=True)\n",
    "    \n",
    "todos_con_Id = todos_con_Id[\n",
    "    [\n",
    "        \"poliza\",        \n",
    "        \"rutE\",\n",
    "        \"rut\",\n",
    "        \"rutT\",\n",
    "        \"Paciente__c\",\n",
    "        \"N_Documento_Titular__c\",\n",
    "        \"Empresa__c\",\n",
    "        \"esta\",\n",
    "        \"EmpActiva\",\n",
    "    ]\n",
    "]\n"
   ]
  },
  {
   "cell_type": "code",
   "execution_count": null,
   "metadata": {
    "notebookRunGroups": {
     "groupValue": ""
    }
   },
   "outputs": [],
   "source": [
    "todos_con_Id.head(50)"
   ]
  },
  {
   "cell_type": "code",
   "execution_count": 76,
   "metadata": {
    "notebookRunGroups": {
     "groupValue": "2"
    }
   },
   "outputs": [],
   "source": [
    "\n",
    "todos_con_Id = todos_con_Id[todos_con_Id[\"esta\"] == False]\n",
    "\n",
    "\n",
    "todos_con_Id.to_excel(\n",
    "    \"F:/Empresas SF/reportes/todos con.xlsx\", index=False\n",
    ")"
   ]
  },
  {
   "cell_type": "code",
   "execution_count": 77,
   "metadata": {
    "notebookRunGroups": {
     "groupValue": "2"
    }
   },
   "outputs": [],
   "source": [
    "\n",
    "empresacontactoconvenio_PacientesSF.to_excel(\n",
    "    \"F:/Empresas SF/reportes/empresacontacto.xlsx\", index=False\n",
    ")"
   ]
  },
  {
   "cell_type": "markdown",
   "metadata": {},
   "source": [
    "Cuadrar eliminar pacientes q no estan en el listado\n",
    "//-----------------------------------------------------------//\n"
   ]
  },
  {
   "cell_type": "code",
   "execution_count": null,
   "metadata": {},
   "outputs": [],
   "source": [
    "empresacontactoconvenio_PacientesSF.drop(empresacontactoconvenio_PacientesSF[(empresacontactoconvenio_PacientesSF[\"Rut_y\"] == \"163820064\")].index, inplace=True)\n",
    "empresacontactoconvenio_PacientesSF.drop(empresacontactoconvenio_PacientesSF[(empresacontactoconvenio_PacientesSF[\"Rut_y\"] == \"153298939\")].index, inplace=True)\n",
    "empresacontactoconvenio_PacientesSF.drop(empresacontactoconvenio_PacientesSF[(empresacontactoconvenio_PacientesSF[\"Rut_y\"] == \"191710940\")].index, inplace=True)\n",
    "empresacontactoconvenio_PacientesSF.drop(empresacontactoconvenio_PacientesSF[(empresacontactoconvenio_PacientesSF[\"Rut_y\"] == \"182470082\")].index, inplace=True)\n",
    "empresacontactoconvenio_PacientesSF.drop(empresacontactoconvenio_PacientesSF[(empresacontactoconvenio_PacientesSF[\"Rut_y\"] == \"16277865\")].index, inplace=True)\n",
    "empresacontactoconvenio_PacientesSF.drop(empresacontactoconvenio_PacientesSF[(empresacontactoconvenio_PacientesSF[\"Rut_y\"] == \"16277865K\")].index, inplace=True)\n",
    "empresacontactoconvenio_PacientesSF.drop(empresacontactoconvenio_PacientesSF[(empresacontactoconvenio_PacientesSF[\"Rut_y\"] == \"HEGJ930928HMNRRL06\")].index, inplace=True)\n",
    "empresacontactoconvenio_PacientesSF.drop(empresacontactoconvenio_PacientesSF[(empresacontactoconvenio_PacientesSF[\"Rut_y\"] == \"16007258K\")].index, inplace=True)\n",
    "empresacontactoconvenio_PacientesSF.drop(empresacontactoconvenio_PacientesSF[(empresacontactoconvenio_PacientesSF[\"Rut_y\"] == \"86676540\")].index, inplace=True)\n",
    "empresacontactoconvenio_PacientesSF.drop(empresacontactoconvenio_PacientesSF[(empresacontactoconvenio_PacientesSF[\"Rut_y\"] == \"202201466\")].index, inplace=True)\n",
    "empresacontactoconvenio_PacientesSF.drop(empresacontactoconvenio_PacientesSF[(empresacontactoconvenio_PacientesSF[\"Rut_y\"] == \"105233469\")].index, inplace=True)\n",
    "empresacontactoconvenio_PacientesSF.drop(empresacontactoconvenio_PacientesSF[(empresacontactoconvenio_PacientesSF[\"Rut_y\"] == \"130949185\")].index, inplace=True)\n",
    "empresacontactoconvenio_PacientesSF.drop(empresacontactoconvenio_PacientesSF[(empresacontactoconvenio_PacientesSF[\"Rut_y\"] == \"255356798\")].index, inplace=True)\n",
    "empresacontactoconvenio_PacientesSF.drop(empresacontactoconvenio_PacientesSF[(empresacontactoconvenio_PacientesSF[\"Rut_y\"] == \"34005945\")].index, inplace=True)\n",
    "empresacontactoconvenio_PacientesSF.drop(empresacontactoconvenio_PacientesSF[(empresacontactoconvenio_PacientesSF[\"Rut_y\"] == \"185410072\")].index, inplace=True)\n",
    "empresacontactoconvenio_PacientesSF.drop(empresacontactoconvenio_PacientesSF[(empresacontactoconvenio_PacientesSF[\"Rut_y\"] == \"197415029\")].index, inplace=True)\n",
    "empresacontactoconvenio_PacientesSF.drop(empresacontactoconvenio_PacientesSF[(empresacontactoconvenio_PacientesSF[\"Rut_y\"] == \"254468134\")].index, inplace=True)\n",
    "\n",
    "\n",
    "\n",
    "empresacontactoconvenio_PacientesSF.head()"
   ]
  },
  {
   "cell_type": "code",
   "execution_count": null,
   "metadata": {},
   "outputs": [],
   "source": [
    "empresacontactoconvenio_PacientesSF.to_excel(\n",
    "    \"F:/Empresas SF/reportes/SFpacientes.xlsx\", index=False)"
   ]
  },
  {
   "cell_type": "code",
   "execution_count": null,
   "metadata": {},
   "outputs": [],
   "source": [
    "contactd = sf.Account.get(\"0018c00002lUyo0AAC\")\n",
    "contactd[\"PersonContactId\"]"
   ]
  },
  {
   "cell_type": "code",
   "execution_count": null,
   "metadata": {},
   "outputs": [],
   "source": [
    "# contactd[\"PersonContactId\"]\n",
    "print(datetime.now())"
   ]
  },
  {
   "cell_type": "code",
   "execution_count": null,
   "metadata": {},
   "outputs": [],
   "source": [
    "Subir_pacientes.to_excel(\"F:/Empresas SF/reportes/tod  es.xlsx\", index=False)"
   ]
  },
  {
   "cell_type": "markdown",
   "metadata": {},
   "source": [
    "query2 = \"select P_liza**c, Nombre_de_Empresa**c, Rut_Empresa**c, Empresa_Padre**r.Name, Empresa**r.name,Holding**c, Plan**c, Pais**c, Activo**c, Id from Datos_Empresa**c \"\n",
    "\n",
    "df2 = sf.smart_query(query2)\n",
    "df2.to_excel(\"F:/Empresas SF/reportes/empresas_nuevas.xlsx\", index=False)\n",
    "df2.head()\n"
   ]
  },
  {
   "cell_type": "markdown",
   "metadata": {},
   "source": [
    "Subir_pacientes.to_excel(\"F:/Empresas SF/reportes/111account.xlsx\", index=False)\n"
   ]
  },
  {
   "cell_type": "markdown",
   "metadata": {},
   "source": [
    "derty = Subir_pacientes[\"IdentificationId__pc\"]\n",
    "sf.Contact.create({\"IdentificationId\\_\\_pc\": \"derty\", \"Email\": \"example@example.com\"})\n"
   ]
  },
  {
   "cell_type": "markdown",
   "metadata": {},
   "source": [
    "Subir_pacientes.head()\n"
   ]
  },
  {
   "cell_type": "markdown",
   "metadata": {},
   "source": [
    "Subir_pacientes.head()\n",
    "Subir_pacientes.to_excel(\"F:/Empresas SF/reportes/account\\_\\_l.xlsx\", index=False)\n"
   ]
  },
  {
   "cell_type": "code",
   "execution_count": null,
   "metadata": {},
   "outputs": [],
   "source": [
    "\"\"\" if campaña != \"MetLife\":\n",
    "    pacientes_en_campaña = pd.merge(\n",
    "        left=campaña_seleccionada,\n",
    "        right=Pacientes_con_id,\n",
    "        how=\"left\",\n",
    "        left_on=\"Id Account\",\n",
    "        right_on=\"Id Account Paciente\",\n",
    "    )\n",
    "    pacientes_en_campaña[\"Paciente__c\"] = \"Id Pacientes\"\n",
    "    pacientes_en_campaña[\"Programas_por_Empresas__c\"] = \"Id Programas Por empresa\"\n",
    "    pacientes_en_campaña.to_excel(\n",
    "        \"F:/Empresas SF/reportes/campaña_empresa.xlsx\", index=False\n",
    "    )\n",
    "    campaña_en_pacientes = pd.merge(\n",
    "        left=Pacientes_con_id,\n",
    "        right=campaña_seleccionada,\n",
    "        how=\"left\",\n",
    "        left_on=\"Id Account Paciente\",\n",
    "        right_on=\"Id Account\",\n",
    "    )\n",
    "    campaña_en_pacientes.to_excel(\n",
    "        \"F:/Empresas SF/reportes/archivo_campaña.xlsx\", index=False\n",
    "    )\n",
    " \"\"\""
   ]
  },
  {
   "cell_type": "code",
   "execution_count": null,
   "metadata": {},
   "outputs": [],
   "source": [
    "\"\"\" if campaña != \"MetLife1\":\n",
    "    campaña_en_pacientes = pd.merge(\n",
    "        left=Pacientes_con_id,\n",
    "        right=campaña_seleccionada,\n",
    "        how=\"left\",\n",
    "        left_on=\"Id Account Paciente\",\n",
    "        right_on=\"Id Account\",\n",
    "    )\n",
    "    if (\"poliza\" in campaña_en_pacientes.columns) == True:\n",
    "        campaña_en_pacientes[\"poliza\"] = campaña_en_pacientes[\"poliza\"].astype(str)\n",
    "\n",
    "    campaña_en_pacientes = campaña_en_pacientes.rename(\n",
    "        columns={\"Programas_por_Empresas__c\": \"programas por empresa\"}\n",
    "    )\n",
    "    campaña_en_pacientes[\"Paciente__c\"] = campaña_en_pacientes[\"Id Account Paciente\"]\n",
    "    campaña_en_pacientes[\"Programas_por_Empresas__c\"] = campaña_en_pacientes[\n",
    "        \"programas por empresa\"\n",
    "    ]\n",
    "    campaña_en_pacientes.to_excel(\n",
    "        \"F:/Empresas SF/reportes/archivo_campaña2.xlsx\", index=False\n",
    "    ) \"\"\""
   ]
  },
  {
   "cell_type": "code",
   "execution_count": null,
   "metadata": {},
   "outputs": [],
   "source": [
    "# apprix_1 = Pacientes_SF.iloc[:790552,:]\n",
    "# apprix_2 = Pacientes_SF.iloc[790553:,:]\n",
    "# apprix_1.to_excel(\"F:/Empresas SF/reportes/Ruts1.xlsx\",index=False)\n",
    "# apprix_2.to_excel(\"F:/Empresas SF/reportes/Ruts2.xlsx\",index=False)"
   ]
  },
  {
   "cell_type": "code",
   "execution_count": null,
   "metadata": {},
   "outputs": [],
   "source": [
    "campaña_en_pacientes2 = pd.merge(\n",
    "    left=Pacientes_con_id,\n",
    "    right=campaña_seleccionada,\n",
    "    how=\"left\",\n",
    "    left_on=\"Id Account Paciente\",\n",
    "    right_on=\"Id Account\",\n",
    ")\n",
    "if (\"poliza\" in campaña_en_pacientes2.columns) == True:\n",
    "    campaña_en_pacientes2[\"poliza\"] = campaña_en_pacientes2[\"poliza\"].astype(str)\n",
    "\n",
    "campaña_en_pacientes2 = campaña_en_pacientes2.rename(\n",
    "    columns={\"Programas_por_Empresas__c\": \"programas por empresa\"}\n",
    ")\n",
    "campaña_en_pacientes2[\"Paciente__c\"] = campaña_en_pacientes2[\"Id Account Paciente\"]\n",
    "campaña_en_pacientes2[\"Programas_por_Empresas__c\"] = campaña_en_pacientes2[\n",
    "    \"programas por empresa\"\n",
    "]\n",
    "\n",
    "\n",
    "\"\"\" campaña_en_pacientes2 = campaña_en_pacientes2[\n",
    "    (campaña_en_pacientes2[\"Programas_por_Empresas__c\"] == \"\")] \"\"\"\n",
    "campaña_en_pacientes2[\"Esta\"] = campaña_en_pacientes2[\"programas por empresa\"].isnull()\n",
    "campaña_en_pacientes2 = campaña_en_pacientes2[campaña_en_pacientes2[\"Esta\"]]\n",
    "campaña_en_pacientes2.to_excel(\n",
    "    \"F:/Empresas SF/reportes/archivo_campaña3.xlsx\", index=False\n",
    ")"
   ]
  },
  {
   "cell_type": "code",
   "execution_count": null,
   "metadata": {},
   "outputs": [],
   "source": [
    "campaña_en_pacientes2[\"rut\"].shape"
   ]
  },
  {
   "cell_type": "code",
   "execution_count": null,
   "metadata": {},
   "outputs": [],
   "source": [
    "# nuevosrutes = \"F:/Empresas SF/reportes/rut.xlsx\"\n",
    "# campaña = \"BCI Seguros Colectivos\"\n",
    "# Pais = \"Chile\"\n",
    "# Pais = \"México\"\n",
    "\n",
    "# rutes = pd.read_excel(nuevosrutes)\n",
    "rutes = pd.DataFrame(columns=[\"rut\"])\n",
    "rutes[\"rut\"] = Pacientes_Archivo[\"rut\"]\n",
    "rutes[\"rutT\"] = Pacientes_Archivo[\"rut2\"]\n",
    "rutes[\"Contratante\"] = Pacientes_Archivo[\"Contratante\"]\n",
    "# rutes[\"poliza\"] = Pacientes_Archivo[\"poliza\"]\n",
    "rutes.head()"
   ]
  },
  {
   "cell_type": "code",
   "execution_count": null,
   "metadata": {},
   "outputs": [],
   "source": [
    "rutes[\"rut\"] = rutes[\"rut\"].astype(str)\n",
    "rutes[\"rut\"] = rutes[\"rut\"].str.replace(\".\", \"\")\n",
    "rutes[\"rut\"] = rutes[\"rut\"].str.replace(\"-\", \"\")\n",
    "# aca se trabaja con el nuevo rut desde rut1 ojooooooo\n",
    "rutes[\"rut\"] = rutes[\"rut\"].str.upper()\n",
    "rutes[\"rut\"] = rutes[\"rut\"].str.strip()\n",
    "\n",
    "rutes[\"rutT\"] = rutes[\"rutT\"].astype(str)\n",
    "rutes[\"rutT\"] = rutes[\"rutT\"].str.replace(\".\", \"\")\n",
    "rutes[\"rutT\"] = rutes[\"rutT\"].str.replace(\"-\", \"\")\n",
    "# aca se trabaja con el nuevo rut desde rut1 ojooooooo\n",
    "rutes[\"rutT\"] = rutes[\"rutT\"].str.upper()\n",
    "rutes[\"rutT\"] = rutes[\"rutT\"].str.strip()\n",
    "\n",
    "\"\"\" rutes[\"poliza\"] = rutes[\"poliza\"].astype(str)\n",
    "rutes[\"poliza\"] = rutes[\"poliza\"].str.replace(\".\", \"\")\n",
    "rutes[\"poliza\"] = rutes[\"poliza\"].str.replace(\"-\", \"\")\n",
    "# aca se trabaja con el nuevo rut desde rut1 ojooooooo\n",
    "rutes[\"poliza\"] = rutes[\"poliza\"].str.strip() \"\"\"\n",
    "\n",
    "\n",
    "rutes.head()"
   ]
  },
  {
   "cell_type": "code",
   "execution_count": null,
   "metadata": {},
   "outputs": [],
   "source": [
    "# derty = rutes.to_numpy().transpose().tolist()\n",
    "\n",
    "\n",
    "Pacientes_SF2 = Pacientes_SF[[\"Rut\", \"Id Account Paciente\"]]"
   ]
  },
  {
   "cell_type": "code",
   "execution_count": null,
   "metadata": {},
   "outputs": [],
   "source": [
    "rutesi = pd.merge(\n",
    "    left=rutes,\n",
    "    right=Pacientes_SF2,\n",
    "    how=\"left\",\n",
    "    left_on=\"rut\",\n",
    "    right_on=\"Rut\",\n",
    ")\n",
    "rutesi.shape\n",
    "rutesi.to_excel(\"F:/Empresas SF/reportes/rutsyempresa.xlsx\", index=False)"
   ]
  },
  {
   "cell_type": "code",
   "execution_count": null,
   "metadata": {},
   "outputs": [],
   "source": [
    "rutesi.head()"
   ]
  },
  {
   "cell_type": "code",
   "execution_count": null,
   "metadata": {},
   "outputs": [],
   "source": [
    "rutesi_antg = pd.merge(\n",
    "    left=rutesi,\n",
    "    right=empresas_unidas,\n",
    "    how=\"left\",\n",
    "    left_on=\"Id Account Paciente\",\n",
    "    right_on=\"Id Account\",\n",
    ")"
   ]
  },
  {
   "cell_type": "code",
   "execution_count": null,
   "metadata": {},
   "outputs": [],
   "source": [
    "rutesi_antg.head()"
   ]
  },
  {
   "cell_type": "code",
   "execution_count": null,
   "metadata": {},
   "outputs": [],
   "source": [
    "# rutesi_antg .to_excel(\"F:/Empresas SF/reportes/ruts_empresas_antiguos.xlsx\", index=False)"
   ]
  },
  {
   "cell_type": "code",
   "execution_count": null,
   "metadata": {},
   "outputs": [],
   "source": [
    "import json\n",
    "import pandas as pd\n",
    "from simple_salesforce import Salesforce, format_soql, format_external_id\n",
    "from json import loads, dumps\n",
    "import simpler_sf\n",
    "\n",
    "simpler_sf.simple_salesforce()"
   ]
  },
  {
   "cell_type": "code",
   "execution_count": null,
   "metadata": {},
   "outputs": [],
   "source": [
    "with open(\"login.json\", \"r\") as j:\n",
    "    misDatos = json.load(j)\n",
    "sf = Salesforce(\n",
    "    username=misDatos[\"username\"],\n",
    "    password=misDatos[\"password\"],\n",
    "    security_token=misDatos[\"security_token\"],\n",
    ")"
   ]
  },
  {
   "cell_type": "code",
   "execution_count": null,
   "metadata": {},
   "outputs": [],
   "source": [
    "\"\"\" query = \"select Id, Account.Name, RutContact__c from AccountContactRelation \"\n",
    "\n",
    "df1 = sf.smart_query(query) \"\"\""
   ]
  },
  {
   "cell_type": "code",
   "execution_count": null,
   "metadata": {},
   "outputs": [],
   "source": [
    "# nuevosrutes = \"F:/Empresas SF/reportes/rut.xlsx\"\n",
    "# campaña = \"BCI Seguros Colectivos\"\n",
    "# Pais = \"Chile\"\n",
    "# Pais = \"México\"\n",
    "\n",
    "# rutes = pd.read_excel(nuevosrutes)\n",
    "# rutes = Subir_pacientes[\"rut\"]"
   ]
  },
  {
   "cell_type": "code",
   "execution_count": null,
   "metadata": {},
   "outputs": [],
   "source": [
    "\"\"\" df1.head() \"\"\""
   ]
  },
  {
   "cell_type": "code",
   "execution_count": null,
   "metadata": {},
   "outputs": [],
   "source": [
    "\"\"\" df1[\"rut\"] = df1[\"RutContact__c\"].astype(str)\n",
    "df1[\"rut\"] = df1[\"rut\"].str.replace(\".\", \"\")\n",
    "df1[\"rut\"] = df1[\"rut\"].str.replace(\n",
    "    \"-\", \"\"\n",
    ")  # aca se trabaja con el nuevo rut desde rut1 ojooooooo\n",
    "df1[\"rut\"] = df1[\"rut\"].str.upper()\n",
    "df1[\"rut\"] = df1[\"rut\"].str.strip()\n",
    "df1.head() \"\"\""
   ]
  },
  {
   "cell_type": "code",
   "execution_count": null,
   "metadata": {},
   "outputs": [],
   "source": [
    "\"\"\" rutes.head() \"\"\""
   ]
  },
  {
   "cell_type": "code",
   "execution_count": null,
   "metadata": {},
   "outputs": [],
   "source": [
    "\"\"\" rutesi = pd.merge(\n",
    "    left=rutes,\n",
    "    right=df1,\n",
    "    how=\"left\",\n",
    "    left_on=\"rut\",\n",
    "    right_on=\"rut\",\n",
    ") \"\"\""
   ]
  },
  {
   "cell_type": "code",
   "execution_count": null,
   "metadata": {},
   "outputs": [],
   "source": [
    "\"\"\" rutesi.to_excel(\"F:/Empresas SF/reportes/rutesnuevos_accountcontactrelation.xlsx\", index=False) \"\"\""
   ]
  },
  {
   "cell_type": "code",
   "execution_count": null,
   "metadata": {},
   "outputs": [],
   "source": [
    "\"\"\" df2[\"P_liza__c\"] = df2[\"P_liza__c\"].astype(str)\n",
    "df2[\"P_liza__c\"] = df2[\"P_liza__c\"].str.replace(\".\", \"\")\n",
    "df2[\"P_liza__c\"] = df2[\"P_liza__c\"].str.replace(\"-\", \"\")\n",
    "# aca se trabaja con el nuevo rut desde rut1 ojooooooo\n",
    "df2[\"P_liza__c\"] = df2[\"P_liza__c\"].str.upper()\n",
    "df2[\"P_liza__c\"] = df2[\"P_liza__c\"].str.strip() \"\"\""
   ]
  },
  {
   "cell_type": "code",
   "execution_count": null,
   "metadata": {},
   "outputs": [],
   "source": [
    "modelo_nuevo = pd.merge(\n",
    "    left=rutesi,\n",
    "    right=df2,\n",
    "    how=\"left\",\n",
    "    left_on=\"poliza\",\n",
    "    right_on=\"P_liza__c\",\n",
    ")\n",
    "modelo_nuevo.to_excel(\"F:/Empresas SF/reportes/modelo_nuevo.xlsx\", index=False)"
   ]
  },
  {
   "cell_type": "code",
   "execution_count": null,
   "metadata": {},
   "outputs": [],
   "source": [
    "modelo = pd.DataFrame()\n",
    "modelo = modelo_nuevo[[\"rutT\", \"Id Account Paciente\", \"Id\"]]"
   ]
  },
  {
   "cell_type": "code",
   "execution_count": null,
   "metadata": {},
   "outputs": [],
   "source": [
    "modelo.head()"
   ]
  }
 ],
 "metadata": {
  "kernelspec": {
   "display_name": "salesforce",
   "language": "python",
   "name": "python3"
  },
  "language_info": {
   "codemirror_mode": {
    "name": "ipython",
    "version": 3
   },
   "file_extension": ".py",
   "mimetype": "text/x-python",
   "name": "python",
   "nbconvert_exporter": "python",
   "pygments_lexer": "ipython3",
   "version": "3.8.16"
  },
  "orig_nbformat": 4,
  "vscode": {
   "interpreter": {
    "hash": "7fbccfb583f385d5cd7c75cc6ade03c09354727271e9200f47ca4e7fedb5381e"
   }
  }
 },
 "nbformat": 4,
 "nbformat_minor": 2
}
