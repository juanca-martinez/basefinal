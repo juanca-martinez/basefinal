{
 "cells": [
  {
   "cell_type": "code",
   "execution_count": null,
   "metadata": {
    "notebookRunGroups": {
     "groupValue": "1"
    }
   },
   "outputs": [],
   "source": [
    "from pathlib import Path \n",
    "import requests\n",
    "import pandas as pd\n",
    "import numpy as np\n",
    "from io import StringIO\n",
    "from simple_salesforce import Salesforce,api\n",
    "import shutil\n",
    "import datetime\n",
    "from datetime import date\n",
    "\n",
    "\n",
    "sf = Salesforce(\n",
    "    username=\"jmartinez@careassistance.com\",\n",
    "    password=\"Jcmm010483\",\n",
    "    security_token=\"nc20DsgxOHWVR9OHZ78s7TRp\",\n",
    ")"
   ]
  },
  {
   "cell_type": "code",
   "execution_count": 28,
   "metadata": {
    "notebookRunGroups": {
     "groupValue": "1"
    }
   },
   "outputs": [
    {
     "data": {
      "text/plain": [
       "(6756, 7)"
      ]
     },
     "execution_count": 28,
     "metadata": {},
     "output_type": "execute_result"
    }
   ],
   "source": [
    "# Recuperar empresas ID de salesforce desde Account\n",
    "results = sf.query_all(\n",
    "    \"\"\"\n",
    "  select Id, name, Holding__c ,Campa_a__c,Id_Empresa__c,Empleador__c,poliza__c  from account where ispersonaccount = false \n",
    "    \"\"\"\n",
    ")\n",
    "Empresas_SF = pd.DataFrame(results[\"records\"])\n",
    "Empresas_SF = Empresas_SF[\n",
    "    [\n",
    "        \"Id\",\n",
    "        \"Name\",\n",
    "        \"Holding__c\",\n",
    "        \"Campa_a__c\",\n",
    "        \"Id_Empresa__c\",\n",
    "        \"Empleador__c\",\n",
    "        \"poliza__c\",\n",
    "    ]\n",
    "]\n",
    "Empresas_SF.shape"
   ]
  },
  {
   "cell_type": "code",
   "execution_count": 29,
   "metadata": {
    "notebookRunGroups": {
     "groupValue": "1"
    }
   },
   "outputs": [
    {
     "data": {
      "text/plain": [
       "(6745, 5)"
      ]
     },
     "execution_count": 29,
     "metadata": {},
     "output_type": "execute_result"
    }
   ],
   "source": [
    "# buscar empresas desde Programas_por_Empresas__c datos de empresas\n",
    "results = sf.query_all(\n",
    "    \"\"\"\n",
    "   select Id,Empresa__c, Empresa_Padre__c,Nombre_Empresa__c, Name  from Programas_por_Empresas__c \n",
    "    \"\"\"\n",
    ")\n",
    "Programas_por_empresa_SF = pd.DataFrame(results[\"records\"])\n",
    "\n",
    "Programas_por_empresa_SF = Programas_por_empresa_SF[\n",
    "    [\"Id\", \"Empresa__c\", \"Empresa_Padre__c\", \"Nombre_Empresa__c\", \"Name\"]\n",
    "]\n",
    "Programas_por_empresa_SF.shape"
   ]
  },
  {
   "cell_type": "code",
   "execution_count": null,
   "metadata": {},
   "outputs": [],
   "source": []
  },
  {
   "cell_type": "code",
   "execution_count": 30,
   "metadata": {
    "notebookRunGroups": {
     "groupValue": "1"
    }
   },
   "outputs": [
    {
     "data": {
      "text/plain": [
       "(6762, 9)"
      ]
     },
     "execution_count": 30,
     "metadata": {},
     "output_type": "execute_result"
    }
   ],
   "source": [
    "#Union de Programas Empresa y empresas\n",
    "Programas_empresas = pd.merge(\n",
    "    left=Empresas_SF,\n",
    "    right=Programas_por_empresa_SF,\n",
    "    how=\"left\",\n",
    "    left_on=\"Id\",\n",
    "    right_on=\"Empresa__c\",\n",
    ")\n",
    "Programas_empresas = Programas_empresas.rename(\n",
    "    columns={\n",
    "        \"Id_x\": \"Id Account Empresa\",\n",
    "        \"Name_x\": \"Nombre Empresa\",\n",
    "        \"Holding__c\": \"Holding\",\n",
    "        \"Campa_a__c\": \"Campaña\",\n",
    "        \"Empleador__c\": \"Empleador\",\n",
    "        \"poliza__c\": \"Poliza\",\n",
    "        \"Id_y\": \"Programas_por_Empresas__c\",\n",
    "        \"Id_Empresa__c\": \"Codigo EMP\",\n",
    "        \"Name_y\": \"Codigo A\",\n",
    "    }\n",
    ")\n",
    "Programas_empresas = Programas_empresas[\n",
    "    [\n",
    "        \"Id Account Empresa\",\n",
    "        \"Nombre Empresa\",\n",
    "        \"Holding\",\n",
    "        \"Campaña\",\n",
    "        \"Empleador\",\n",
    "        \"Poliza\",\n",
    "        \"Programas_por_Empresas__c\",\n",
    "        \"Codigo EMP\",\n",
    "        \"Codigo A\"\n",
    "    ]\n",
    "]\n",
    "\n",
    "Programas_empresas.shape"
   ]
  },
  {
   "cell_type": "markdown",
   "metadata": {},
   "source": [
    "fin empresas y comienzo de rescate de pacientes\n"
   ]
  },
  {
   "cell_type": "code",
   "execution_count": 31,
   "metadata": {
    "notebookRunGroups": {
     "groupValue": "1"
    }
   },
   "outputs": [
    {
     "data": {
      "text/plain": [
       "(1599620, 9)"
      ]
     },
     "execution_count": 31,
     "metadata": {},
     "output_type": "execute_result"
    }
   ],
   "source": [
    "#CArga de PAcientes\n",
    "results = sf.query_all(\n",
    "    \"\"\"\n",
    "    select Id, IdentificationId__pc,Name, Identification_Type__c, Ocupaci_n__c,  PersonTitle ,PersonDepartment,HealthCloudGA__Gender__pc,Phone  from Account where ispersonaccount = True\n",
    "   \"\"\"\n",
    ")\n",
    "Pacientes_SF = pd.DataFrame(results[\"records\"])\n",
    "\n",
    "Pacientes_SF = Pacientes_SF[\n",
    "    [\n",
    "        \"Id\",\n",
    "        \"IdentificationId__pc\",\n",
    "        \"Name\",\n",
    "        \"Identification_Type__c\",\n",
    "        \"Ocupaci_n__c\",\n",
    "        \"PersonTitle\",\n",
    "        \"PersonDepartment\",\n",
    "        \"HealthCloudGA__Gender__pc\",\n",
    "        'Phone'\n",
    "        \n",
    "    ]\n",
    "]\n",
    "Pacientes_SF = Pacientes_SF.rename(\n",
    "    columns={\n",
    "        \"Id\": \"Id Account Paciente\",\n",
    "        \"IdentificationId__pc\": \"Rut\",\n",
    "        \"Name\": \"Nombre\",\n",
    "        \"Ocupaci_n__c\": \"Ocupacion\",\n",
    "        \"PersonTitle\": \"Cargo\",\n",
    "        \"PersonDepartment\": \"Departamento\",\n",
    "        \"HealthCloudGA__Gender__pc\": \"Sexo\",\n",
    "        \"Phone\": \"Telefono\",\n",
    "        \"Identification_Type__c\": \"Tipo de Documento\",\n",
    "    }\n",
    ")\n",
    "Pacientes_SF.shape"
   ]
  },
  {
   "cell_type": "markdown",
   "metadata": {},
   "source": [
    "Aca se comienzan a unir las relaciones de pacientes y empresas ya creadas."
   ]
  },
  {
   "cell_type": "code",
   "execution_count": 32,
   "metadata": {
    "notebookRunGroups": {
     "groupValue": "1"
    }
   },
   "outputs": [
    {
     "data": {
      "text/plain": [
       "(1161367, 4)"
      ]
     },
     "execution_count": 32,
     "metadata": {},
     "output_type": "execute_result"
    }
   ],
   "source": [
    "#buscar empresas desde Paciente_Programas__c relaciones de empresas con pacientes\n",
    "results = sf.query_all(\n",
    "    \"\"\"\n",
    "    select Id,Paciente__c, Programas_por_Empresas__c,padre__c from Paciente_Programas__c  \n",
    "    \"\"\"\n",
    ")\n",
    "Paciente_Programas_SF = pd.DataFrame(results[\"records\"])\n",
    "\n",
    "Paciente_Programas_SF = Paciente_Programas_SF[\n",
    "    [\"Id\", \"Paciente__c\", \"Programas_por_Empresas__c\", \"padre__c\"]\n",
    "]\n",
    "Paciente_Programas_SF = Paciente_Programas_SF.rename(\n",
    "    columns={\n",
    "        \"Id\": \"Id Pacientes_Programas__c\",\n",
    "        \"Paciente__c\": \"Id Account\",\n",
    "        \"Programas_por_Empresas__c\": \"Programas_por_Empresas__c\",\n",
    "        \"padre__c\": \"Nombre Campaña\"        \n",
    "    }\n",
    ")\n",
    "Paciente_Programas_SF.shape"
   ]
  },
  {
   "cell_type": "code",
   "execution_count": 33,
   "metadata": {
    "notebookRunGroups": {
     "groupValue": "1"
    }
   },
   "outputs": [
    {
     "data": {
      "text/plain": [
       "(1161367, 12)"
      ]
     },
     "execution_count": 33,
     "metadata": {},
     "output_type": "execute_result"
    }
   ],
   "source": [
    "#Union de Pacientes Programas y Programas por empresa\n",
    "empresas_unidas = pd.merge(\n",
    "    left=Paciente_Programas_SF,\n",
    "    right=Programas_empresas,\n",
    "    how=\"left\",\n",
    "    left_on=\"Programas_por_Empresas__c\",\n",
    "    right_on=\"Programas_por_Empresas__c\", \n",
    ")\n",
    "empresas_unidas.shape"
   ]
  },
  {
   "cell_type": "code",
   "execution_count": 35,
   "metadata": {
    "notebookRunGroups": {
     "groupValue": "1"
    }
   },
   "outputs": [],
   "source": [
    "Programas_empresas.to_excel(\"F:/Empresas SF/reportes/empresas.xlsx\",index=False)"
   ]
  },
  {
   "cell_type": "code",
   "execution_count": null,
   "metadata": {
    "notebookRunGroups": {
     "groupValue": "1"
    }
   },
   "outputs": [],
   "source": [
    "empresas_unidas.head()"
   ]
  },
  {
   "cell_type": "code",
   "execution_count": null,
   "metadata": {},
   "outputs": [],
   "source": [
    "#pacientes_empresas22 = pd.merge(\n",
    "    #left=Pacientes_SF,\n",
    "    #right=empresas_unidas,\n",
    "    #how=\"left\",\n",
    "    #left_on=\"Id Account Paciente\",\n",
    "    #right_on=\"Id Account\", \n",
    "#)\n",
    "#pacientes_empresas22 = pacientes_empresas22.drop_duplicates(['Rut'], keep='last')\n",
    "#pacientes_empresas22 = pacientes_empresas22[\n",
    "    #[\"Rut\", \"Nombre\", \"Nombre Campaña\", \"Nombre Empresa\"]\n",
    "#]\n"
   ]
  },
  {
   "cell_type": "code",
   "execution_count": null,
   "metadata": {},
   "outputs": [],
   "source": [
    "#pacientes_empresas22.shape"
   ]
  },
  {
   "cell_type": "code",
   "execution_count": null,
   "metadata": {},
   "outputs": [],
   "source": [
    "#apprix_1 = pacientes_empresas22.iloc[:848826,:]\n",
    "\n",
    "#apprix_1.to_excel(\"F:/Empresas SF/reportes/Ruts_habilitados1.xlsx\",index=False)\n"
   ]
  },
  {
   "cell_type": "code",
   "execution_count": null,
   "metadata": {},
   "outputs": [],
   "source": [
    "#apprix_2 = pacientes_empresas22.iloc[848827:,:]#\n",
    "#apprix_2.to_excel(\"F:/Empresas SF/reportes/Ruts_habilitados2.xlsx\",index=False)"
   ]
  },
  {
   "cell_type": "code",
   "execution_count": null,
   "metadata": {},
   "outputs": [],
   "source": [
    "#pacientes_empresas22.head()"
   ]
  },
  {
   "attachments": {},
   "cell_type": "markdown",
   "metadata": {},
   "source": [
    "Carga de Archivo carga"
   ]
  },
  {
   "cell_type": "code",
   "execution_count": 42,
   "metadata": {},
   "outputs": [
    {
     "data": {
      "text/html": [
       "<div>\n",
       "<style scoped>\n",
       "    .dataframe tbody tr th:only-of-type {\n",
       "        vertical-align: middle;\n",
       "    }\n",
       "\n",
       "    .dataframe tbody tr th {\n",
       "        vertical-align: top;\n",
       "    }\n",
       "\n",
       "    .dataframe thead th {\n",
       "        text-align: right;\n",
       "    }\n",
       "</style>\n",
       "<table border=\"1\" class=\"dataframe\">\n",
       "  <thead>\n",
       "    <tr style=\"text-align: right;\">\n",
       "      <th></th>\n",
       "      <th>rut1</th>\n",
       "      <th>nombres</th>\n",
       "      <th>apellidos</th>\n",
       "      <th>Relacion_con_Titular</th>\n",
       "      <th>Rut_Titular</th>\n",
       "      <th>Activo</th>\n",
       "      <th>Empleador</th>\n",
       "      <th>TipoBeneficiario</th>\n",
       "      <th>Campaña Paciente</th>\n",
       "      <th>rut</th>\n",
       "    </tr>\n",
       "  </thead>\n",
       "  <tbody>\n",
       "    <tr>\n",
       "      <th>0</th>\n",
       "      <td>17707016-5</td>\n",
       "      <td>Allison Sandy</td>\n",
       "      <td>Altamirano Perez</td>\n",
       "      <td>Titular</td>\n",
       "      <td>17707016-5</td>\n",
       "      <td>0</td>\n",
       "      <td>Vidacel</td>\n",
       "      <td>Titular</td>\n",
       "      <td>VidaCel Colaboradores</td>\n",
       "      <td>177070165</td>\n",
       "    </tr>\n",
       "    <tr>\n",
       "      <th>1</th>\n",
       "      <td>15451799-5</td>\n",
       "      <td>Melissa Angela</td>\n",
       "      <td>Altamirano Perez</td>\n",
       "      <td>Titular</td>\n",
       "      <td>15451799-5</td>\n",
       "      <td>1</td>\n",
       "      <td>Vidacel</td>\n",
       "      <td>Titular</td>\n",
       "      <td>VidaCel Colaboradores</td>\n",
       "      <td>154517995</td>\n",
       "    </tr>\n",
       "    <tr>\n",
       "      <th>2</th>\n",
       "      <td>10866247-6</td>\n",
       "      <td>Claudia Cristina</td>\n",
       "      <td>Alvarez Navia</td>\n",
       "      <td>Titular</td>\n",
       "      <td>10866247-6</td>\n",
       "      <td>1</td>\n",
       "      <td>Vidacel</td>\n",
       "      <td>Titular</td>\n",
       "      <td>VidaCel Colaboradores</td>\n",
       "      <td>108662476</td>\n",
       "    </tr>\n",
       "    <tr>\n",
       "      <th>3</th>\n",
       "      <td>16940533-6</td>\n",
       "      <td>Isidora Sofia</td>\n",
       "      <td>Angellotti Martinez</td>\n",
       "      <td>Titular</td>\n",
       "      <td>16940533-6</td>\n",
       "      <td>1</td>\n",
       "      <td>Vidacel</td>\n",
       "      <td>Titular</td>\n",
       "      <td>VidaCel Colaboradores</td>\n",
       "      <td>169405336</td>\n",
       "    </tr>\n",
       "    <tr>\n",
       "      <th>4</th>\n",
       "      <td>7045762-8</td>\n",
       "      <td>Paola Carla</td>\n",
       "      <td>Bacigalupo Jimenez</td>\n",
       "      <td>Titular</td>\n",
       "      <td>7045762-8</td>\n",
       "      <td>1</td>\n",
       "      <td>Vidacel</td>\n",
       "      <td>Titular</td>\n",
       "      <td>VidaCel Colaboradores</td>\n",
       "      <td>70457628</td>\n",
       "    </tr>\n",
       "  </tbody>\n",
       "</table>\n",
       "</div>"
      ],
      "text/plain": [
       "         rut1           nombres            apellidos Relacion_con_Titular  \\\n",
       "0  17707016-5     Allison Sandy     Altamirano Perez              Titular   \n",
       "1  15451799-5    Melissa Angela     Altamirano Perez              Titular   \n",
       "2  10866247-6  Claudia Cristina        Alvarez Navia              Titular   \n",
       "3  16940533-6     Isidora Sofia  Angellotti Martinez              Titular   \n",
       "4   7045762-8       Paola Carla   Bacigalupo Jimenez              Titular   \n",
       "\n",
       "  Rut_Titular  Activo Empleador TipoBeneficiario       Campaña Paciente  \\\n",
       "0  17707016-5       0   Vidacel          Titular  VidaCel Colaboradores   \n",
       "1  15451799-5       1   Vidacel          Titular  VidaCel Colaboradores   \n",
       "2  10866247-6       1   Vidacel          Titular  VidaCel Colaboradores   \n",
       "3  16940533-6       1   Vidacel          Titular  VidaCel Colaboradores   \n",
       "4   7045762-8       1   Vidacel          Titular  VidaCel Colaboradores   \n",
       "\n",
       "         rut  \n",
       "0  177070165  \n",
       "1  154517995  \n",
       "2  108662476  \n",
       "3  169405336  \n",
       "4   70457628  "
      ]
     },
     "execution_count": 42,
     "metadata": {},
     "output_type": "execute_result"
    }
   ],
   "source": [
    "nuevos = \"F:/Empresas SF/reportes/carga.xlsx\"\n",
    "campaña = \"VidaCel Colaboradores\"\n",
    "Pais = \"Chile\"\n",
    "#Pais = \"México\"\n",
    "\n",
    "Pacientes_Archivo = pd.read_excel(nuevos)\n",
    "# OJO se copia rut1 a rut le saca el guoion\n",
    "Pacientes_Archivo[\"rut\"] = Pacientes_Archivo[\"rut1\"].astype(str)\n",
    "Pacientes_Archivo[\"rut\"] = Pacientes_Archivo[\"rut\"].str.replace(\"-\", \"\")\n",
    "\n",
    "Pacientes_Archivo.head()"
   ]
  },
  {
   "cell_type": "code",
   "execution_count": 43,
   "metadata": {},
   "outputs": [
    {
     "name": "stderr",
     "output_type": "stream",
     "text": [
      "C:\\Users\\jmartinez\\AppData\\Local\\Temp\\ipykernel_3600\\485331713.py:2: FutureWarning: The default value of regex will change from True to False in a future version. In addition, single character regular expressions will *not* be treated as literal strings when regex=True.\n",
      "  Pacientes_Archivo[\"rut\"] = Pacientes_Archivo[\"rut\"].str.replace(\".\", \"\")\n"
     ]
    },
    {
     "data": {
      "text/html": [
       "<div>\n",
       "<style scoped>\n",
       "    .dataframe tbody tr th:only-of-type {\n",
       "        vertical-align: middle;\n",
       "    }\n",
       "\n",
       "    .dataframe tbody tr th {\n",
       "        vertical-align: top;\n",
       "    }\n",
       "\n",
       "    .dataframe thead th {\n",
       "        text-align: right;\n",
       "    }\n",
       "</style>\n",
       "<table border=\"1\" class=\"dataframe\">\n",
       "  <thead>\n",
       "    <tr style=\"text-align: right;\">\n",
       "      <th></th>\n",
       "      <th>rut1</th>\n",
       "      <th>nombres</th>\n",
       "      <th>apellidos</th>\n",
       "      <th>Relacion_con_Titular</th>\n",
       "      <th>Rut_Titular</th>\n",
       "      <th>Activo</th>\n",
       "      <th>Empleador</th>\n",
       "      <th>TipoBeneficiario</th>\n",
       "      <th>Campaña Paciente</th>\n",
       "      <th>rut</th>\n",
       "    </tr>\n",
       "  </thead>\n",
       "  <tbody>\n",
       "    <tr>\n",
       "      <th>0</th>\n",
       "      <td>17707016-5</td>\n",
       "      <td>Allison Sandy</td>\n",
       "      <td>Altamirano Perez</td>\n",
       "      <td>Titular</td>\n",
       "      <td>17707016-5</td>\n",
       "      <td>0</td>\n",
       "      <td>Vidacel</td>\n",
       "      <td>Titular</td>\n",
       "      <td>VidaCel Colaboradores</td>\n",
       "      <td>177070165</td>\n",
       "    </tr>\n",
       "    <tr>\n",
       "      <th>1</th>\n",
       "      <td>15451799-5</td>\n",
       "      <td>Melissa Angela</td>\n",
       "      <td>Altamirano Perez</td>\n",
       "      <td>Titular</td>\n",
       "      <td>15451799-5</td>\n",
       "      <td>1</td>\n",
       "      <td>Vidacel</td>\n",
       "      <td>Titular</td>\n",
       "      <td>VidaCel Colaboradores</td>\n",
       "      <td>154517995</td>\n",
       "    </tr>\n",
       "    <tr>\n",
       "      <th>2</th>\n",
       "      <td>10866247-6</td>\n",
       "      <td>Claudia Cristina</td>\n",
       "      <td>Alvarez Navia</td>\n",
       "      <td>Titular</td>\n",
       "      <td>10866247-6</td>\n",
       "      <td>1</td>\n",
       "      <td>Vidacel</td>\n",
       "      <td>Titular</td>\n",
       "      <td>VidaCel Colaboradores</td>\n",
       "      <td>108662476</td>\n",
       "    </tr>\n",
       "    <tr>\n",
       "      <th>3</th>\n",
       "      <td>16940533-6</td>\n",
       "      <td>Isidora Sofia</td>\n",
       "      <td>Angellotti Martinez</td>\n",
       "      <td>Titular</td>\n",
       "      <td>16940533-6</td>\n",
       "      <td>1</td>\n",
       "      <td>Vidacel</td>\n",
       "      <td>Titular</td>\n",
       "      <td>VidaCel Colaboradores</td>\n",
       "      <td>169405336</td>\n",
       "    </tr>\n",
       "    <tr>\n",
       "      <th>4</th>\n",
       "      <td>7045762-8</td>\n",
       "      <td>Paola Carla</td>\n",
       "      <td>Bacigalupo Jimenez</td>\n",
       "      <td>Titular</td>\n",
       "      <td>7045762-8</td>\n",
       "      <td>1</td>\n",
       "      <td>Vidacel</td>\n",
       "      <td>Titular</td>\n",
       "      <td>VidaCel Colaboradores</td>\n",
       "      <td>70457628</td>\n",
       "    </tr>\n",
       "  </tbody>\n",
       "</table>\n",
       "</div>"
      ],
      "text/plain": [
       "         rut1           nombres            apellidos Relacion_con_Titular  \\\n",
       "0  17707016-5     Allison Sandy     Altamirano Perez              Titular   \n",
       "1  15451799-5    Melissa Angela     Altamirano Perez              Titular   \n",
       "2  10866247-6  Claudia Cristina        Alvarez Navia              Titular   \n",
       "3  16940533-6     Isidora Sofia  Angellotti Martinez              Titular   \n",
       "4   7045762-8       Paola Carla   Bacigalupo Jimenez              Titular   \n",
       "\n",
       "  Rut_Titular  Activo Empleador TipoBeneficiario       Campaña Paciente  \\\n",
       "0  17707016-5       0   Vidacel          Titular  VidaCel Colaboradores   \n",
       "1  15451799-5       1   Vidacel          Titular  VidaCel Colaboradores   \n",
       "2  10866247-6       1   Vidacel          Titular  VidaCel Colaboradores   \n",
       "3  16940533-6       1   Vidacel          Titular  VidaCel Colaboradores   \n",
       "4   7045762-8       1   Vidacel          Titular  VidaCel Colaboradores   \n",
       "\n",
       "         rut  \n",
       "0  177070165  \n",
       "1  154517995  \n",
       "2  108662476  \n",
       "3  169405336  \n",
       "4   70457628  "
      ]
     },
     "execution_count": 43,
     "metadata": {},
     "output_type": "execute_result"
    }
   ],
   "source": [
    "Pacientes_Archivo[\"rut\"] = Pacientes_Archivo[\"rut\"].astype(str)\n",
    "Pacientes_Archivo[\"rut\"] = Pacientes_Archivo[\"rut\"].str.replace(\".\", \"\")\n",
    "\n",
    "# aca se trabaja con el nuevo rut desde rut1 ojooooooo\n",
    "Pacientes_Archivo[\"rut\"] = Pacientes_Archivo[\"rut\"].str.upper()\n",
    "\n",
    "Pacientes_Archivo[\"rut\"] = Pacientes_Archivo[\"rut\"].str.strip()\n",
    "Pacientes_Archivo.head() "
   ]
  },
  {
   "cell_type": "code",
   "execution_count": 44,
   "metadata": {},
   "outputs": [
    {
     "name": "stderr",
     "output_type": "stream",
     "text": [
      "C:\\Users\\jmartinez\\AppData\\Local\\Temp\\ipykernel_3600\\2118328728.py:2: FutureWarning: The default value of regex will change from True to False in a future version. In addition, single character regular expressions will *not* be treated as literal strings when regex=True.\n",
      "  Pacientes_Archivo[\"nombres\"] = Pacientes_Archivo[\"nombres\"].str.replace(\".\", \"\")\n",
      "C:\\Users\\jmartinez\\AppData\\Local\\Temp\\ipykernel_3600\\2118328728.py:8: FutureWarning: The default value of regex will change from True to False in a future version. In addition, single character regular expressions will *not* be treated as literal strings when regex=True.\n",
      "  Pacientes_Archivo[\"apellidos\"] = Pacientes_Archivo[\"apellidos\"].str.replace(\".\", \"\")\n"
     ]
    }
   ],
   "source": [
    "Pacientes_Archivo[\"nombres\"] = Pacientes_Archivo[\"nombres\"].str.replace(\",\", \"\")\n",
    "Pacientes_Archivo[\"nombres\"] = Pacientes_Archivo[\"nombres\"].str.replace(\".\", \"\")\n",
    "Pacientes_Archivo[\"nombres\"] = Pacientes_Archivo[\"nombres\"].str.replace(\"-\", \"\")\n",
    "Pacientes_Archivo[\"nombres\"] = Pacientes_Archivo[\"nombres\"].str.title()\n",
    "Pacientes_Archivo[\"nombres\"] = Pacientes_Archivo[\"nombres\"].str.strip()\n",
    "#Pacientes_Archivo[\"empresa\"] = Pacientes_Archivo[\"empresa\"].str.title()\n",
    "Pacientes_Archivo[\"apellidos\"] = Pacientes_Archivo[\"apellidos\"].str.replace(\",\", \"\")\n",
    "Pacientes_Archivo[\"apellidos\"] = Pacientes_Archivo[\"apellidos\"].str.replace(\".\", \"\")\n",
    "Pacientes_Archivo[\"apellidos\"] = Pacientes_Archivo[\"apellidos\"].str.replace(\"-\", \"\")\n",
    "Pacientes_Archivo[\"apellidos\"] = Pacientes_Archivo[\"apellidos\"].str.title()\n",
    "Pacientes_Archivo[\"apellidos\"] = Pacientes_Archivo[\"apellidos\"].str.strip()\n",
    "\n",
    "Pacientes_SF[\"Rut\"] = Pacientes_SF[\"Rut\"].astype(str)\n",
    "Pacientes_SF[\"Rut\"] = Pacientes_SF[\"Rut\"].str.strip()\n",
    "Pacientes_SF[\"Rut\"] = Pacientes_SF[\"Rut\"].str.upper()\n",
    "Pacientes_SF[\"Rut\"] = Pacientes_SF[\"Rut\"].str.replace(\n",
    "    \"-\", \"\"\n",
    ")\n",
    "\n",
    "\n",
    "Pacientes_Archivo[\"RutEstaoNo\"] = Pacientes_Archivo[\"rut\"].isin(\n",
    "    Pacientes_SF[\"Rut\"])"
   ]
  },
  {
   "cell_type": "markdown",
   "metadata": {},
   "source": []
  },
  {
   "cell_type": "code",
   "execution_count": 45,
   "metadata": {},
   "outputs": [
    {
     "data": {
      "text/plain": [
       "(139, 20)"
      ]
     },
     "execution_count": 45,
     "metadata": {},
     "output_type": "execute_result"
    }
   ],
   "source": [
    "#aca a los pacientes del archivo se les asigna sus datos en SF\n",
    "Pacientes_con_id = pd.merge(\n",
    "    left=Pacientes_Archivo,\n",
    "    right=Pacientes_SF,\n",
    "    how=\"left\",\n",
    "    left_on=\"rut\",\n",
    "    right_on=\"Rut\",\n",
    ")\n",
    "Pacientes_con_id.shape"
   ]
  },
  {
   "cell_type": "code",
   "execution_count": 46,
   "metadata": {},
   "outputs": [
    {
     "data": {
      "text/html": [
       "<div>\n",
       "<style scoped>\n",
       "    .dataframe tbody tr th:only-of-type {\n",
       "        vertical-align: middle;\n",
       "    }\n",
       "\n",
       "    .dataframe tbody tr th {\n",
       "        vertical-align: top;\n",
       "    }\n",
       "\n",
       "    .dataframe thead th {\n",
       "        text-align: right;\n",
       "    }\n",
       "</style>\n",
       "<table border=\"1\" class=\"dataframe\">\n",
       "  <thead>\n",
       "    <tr style=\"text-align: right;\">\n",
       "      <th></th>\n",
       "      <th>rut1</th>\n",
       "      <th>nombres</th>\n",
       "      <th>apellidos</th>\n",
       "      <th>Relacion_con_Titular</th>\n",
       "      <th>Rut_Titular</th>\n",
       "      <th>Activo</th>\n",
       "      <th>Empleador</th>\n",
       "      <th>TipoBeneficiario</th>\n",
       "      <th>Campaña Paciente</th>\n",
       "      <th>rut</th>\n",
       "      <th>RutEstaoNo</th>\n",
       "      <th>Id Account Paciente</th>\n",
       "      <th>Rut</th>\n",
       "      <th>Nombre</th>\n",
       "      <th>Tipo de Documento</th>\n",
       "      <th>Ocupacion</th>\n",
       "      <th>Cargo</th>\n",
       "      <th>Departamento</th>\n",
       "      <th>Sexo</th>\n",
       "      <th>Telefono</th>\n",
       "    </tr>\n",
       "  </thead>\n",
       "  <tbody>\n",
       "    <tr>\n",
       "      <th>0</th>\n",
       "      <td>17707016-5</td>\n",
       "      <td>Allison Sandy</td>\n",
       "      <td>Altamirano Perez</td>\n",
       "      <td>Titular</td>\n",
       "      <td>17707016-5</td>\n",
       "      <td>0</td>\n",
       "      <td>Vidacel</td>\n",
       "      <td>Titular</td>\n",
       "      <td>VidaCel Colaboradores</td>\n",
       "      <td>177070165</td>\n",
       "      <td>True</td>\n",
       "      <td>0018c00002egmVNAAY</td>\n",
       "      <td>177070165</td>\n",
       "      <td>Allison Sandy Altamirano Perez</td>\n",
       "      <td>RUT</td>\n",
       "      <td>None</td>\n",
       "      <td>None</td>\n",
       "      <td>None</td>\n",
       "      <td>Mujer</td>\n",
       "      <td>None</td>\n",
       "    </tr>\n",
       "    <tr>\n",
       "      <th>1</th>\n",
       "      <td>15451799-5</td>\n",
       "      <td>Melissa Angela</td>\n",
       "      <td>Altamirano Perez</td>\n",
       "      <td>Titular</td>\n",
       "      <td>15451799-5</td>\n",
       "      <td>1</td>\n",
       "      <td>Vidacel</td>\n",
       "      <td>Titular</td>\n",
       "      <td>VidaCel Colaboradores</td>\n",
       "      <td>154517995</td>\n",
       "      <td>True</td>\n",
       "      <td>0018c00002eUDL6AAO</td>\n",
       "      <td>154517995</td>\n",
       "      <td>Melissa Altamirano Perez</td>\n",
       "      <td>RUT</td>\n",
       "      <td>None</td>\n",
       "      <td>None</td>\n",
       "      <td>None</td>\n",
       "      <td>Mujer</td>\n",
       "      <td>None</td>\n",
       "    </tr>\n",
       "    <tr>\n",
       "      <th>2</th>\n",
       "      <td>10866247-6</td>\n",
       "      <td>Claudia Cristina</td>\n",
       "      <td>Alvarez Navia</td>\n",
       "      <td>Titular</td>\n",
       "      <td>10866247-6</td>\n",
       "      <td>1</td>\n",
       "      <td>Vidacel</td>\n",
       "      <td>Titular</td>\n",
       "      <td>VidaCel Colaboradores</td>\n",
       "      <td>108662476</td>\n",
       "      <td>True</td>\n",
       "      <td>0018c00002egmVOAAY</td>\n",
       "      <td>108662476</td>\n",
       "      <td>Claudia Cristina Alvarez Navia</td>\n",
       "      <td>RUT</td>\n",
       "      <td>None</td>\n",
       "      <td>None</td>\n",
       "      <td>None</td>\n",
       "      <td>Mujer</td>\n",
       "      <td>None</td>\n",
       "    </tr>\n",
       "    <tr>\n",
       "      <th>3</th>\n",
       "      <td>16940533-6</td>\n",
       "      <td>Isidora Sofia</td>\n",
       "      <td>Angellotti Martinez</td>\n",
       "      <td>Titular</td>\n",
       "      <td>16940533-6</td>\n",
       "      <td>1</td>\n",
       "      <td>Vidacel</td>\n",
       "      <td>Titular</td>\n",
       "      <td>VidaCel Colaboradores</td>\n",
       "      <td>169405336</td>\n",
       "      <td>True</td>\n",
       "      <td>0018c00002egmVPAAY</td>\n",
       "      <td>169405336</td>\n",
       "      <td>Isidora Sofia Angellotti Martinez</td>\n",
       "      <td>RUT</td>\n",
       "      <td>None</td>\n",
       "      <td>None</td>\n",
       "      <td>None</td>\n",
       "      <td>Mujer</td>\n",
       "      <td>None</td>\n",
       "    </tr>\n",
       "    <tr>\n",
       "      <th>4</th>\n",
       "      <td>7045762-8</td>\n",
       "      <td>Paola Carla</td>\n",
       "      <td>Bacigalupo Jimenez</td>\n",
       "      <td>Titular</td>\n",
       "      <td>7045762-8</td>\n",
       "      <td>1</td>\n",
       "      <td>Vidacel</td>\n",
       "      <td>Titular</td>\n",
       "      <td>VidaCel Colaboradores</td>\n",
       "      <td>70457628</td>\n",
       "      <td>True</td>\n",
       "      <td>0018c00002eVHdjAAG</td>\n",
       "      <td>70457628</td>\n",
       "      <td>Paola Bacigalupo Jimenez</td>\n",
       "      <td>RUT</td>\n",
       "      <td>None</td>\n",
       "      <td>None</td>\n",
       "      <td>None</td>\n",
       "      <td>Mujer</td>\n",
       "      <td>None</td>\n",
       "    </tr>\n",
       "  </tbody>\n",
       "</table>\n",
       "</div>"
      ],
      "text/plain": [
       "         rut1           nombres            apellidos Relacion_con_Titular  \\\n",
       "0  17707016-5     Allison Sandy     Altamirano Perez              Titular   \n",
       "1  15451799-5    Melissa Angela     Altamirano Perez              Titular   \n",
       "2  10866247-6  Claudia Cristina        Alvarez Navia              Titular   \n",
       "3  16940533-6     Isidora Sofia  Angellotti Martinez              Titular   \n",
       "4   7045762-8       Paola Carla   Bacigalupo Jimenez              Titular   \n",
       "\n",
       "  Rut_Titular  Activo Empleador TipoBeneficiario       Campaña Paciente  \\\n",
       "0  17707016-5       0   Vidacel          Titular  VidaCel Colaboradores   \n",
       "1  15451799-5       1   Vidacel          Titular  VidaCel Colaboradores   \n",
       "2  10866247-6       1   Vidacel          Titular  VidaCel Colaboradores   \n",
       "3  16940533-6       1   Vidacel          Titular  VidaCel Colaboradores   \n",
       "4   7045762-8       1   Vidacel          Titular  VidaCel Colaboradores   \n",
       "\n",
       "         rut  RutEstaoNo Id Account Paciente        Rut  \\\n",
       "0  177070165        True  0018c00002egmVNAAY  177070165   \n",
       "1  154517995        True  0018c00002eUDL6AAO  154517995   \n",
       "2  108662476        True  0018c00002egmVOAAY  108662476   \n",
       "3  169405336        True  0018c00002egmVPAAY  169405336   \n",
       "4   70457628        True  0018c00002eVHdjAAG   70457628   \n",
       "\n",
       "                              Nombre Tipo de Documento Ocupacion Cargo  \\\n",
       "0     Allison Sandy Altamirano Perez               RUT      None  None   \n",
       "1           Melissa Altamirano Perez               RUT      None  None   \n",
       "2     Claudia Cristina Alvarez Navia               RUT      None  None   \n",
       "3  Isidora Sofia Angellotti Martinez               RUT      None  None   \n",
       "4           Paola Bacigalupo Jimenez               RUT      None  None   \n",
       "\n",
       "  Departamento   Sexo Telefono  \n",
       "0         None  Mujer     None  \n",
       "1         None  Mujer     None  \n",
       "2         None  Mujer     None  \n",
       "3         None  Mujer     None  \n",
       "4         None  Mujer     None  "
      ]
     },
     "execution_count": 46,
     "metadata": {},
     "output_type": "execute_result"
    }
   ],
   "source": [
    "Pacientes_con_id.head()"
   ]
  },
  {
   "cell_type": "code",
   "execution_count": 48,
   "metadata": {},
   "outputs": [
    {
     "data": {
      "text/html": [
       "<div>\n",
       "<style scoped>\n",
       "    .dataframe tbody tr th:only-of-type {\n",
       "        vertical-align: middle;\n",
       "    }\n",
       "\n",
       "    .dataframe tbody tr th {\n",
       "        vertical-align: top;\n",
       "    }\n",
       "\n",
       "    .dataframe thead th {\n",
       "        text-align: right;\n",
       "    }\n",
       "</style>\n",
       "<table border=\"1\" class=\"dataframe\">\n",
       "  <thead>\n",
       "    <tr style=\"text-align: right;\">\n",
       "      <th></th>\n",
       "      <th>RutEstaoNo</th>\n",
       "      <th>FirstName</th>\n",
       "      <th>LastName</th>\n",
       "      <th>IdentificationId__pc</th>\n",
       "      <th>RecordTypeId</th>\n",
       "      <th>BillingCountry</th>\n",
       "      <th>Identification_Type__c</th>\n",
       "      <th>Pa_s_del_Paciente__c</th>\n",
       "    </tr>\n",
       "  </thead>\n",
       "  <tbody>\n",
       "  </tbody>\n",
       "</table>\n",
       "</div>"
      ],
      "text/plain": [
       "Empty DataFrame\n",
       "Columns: [RutEstaoNo, FirstName, LastName, IdentificationId__pc, RecordTypeId, BillingCountry, Identification_Type__c, Pa_s_del_Paciente__c]\n",
       "Index: []"
      ]
     },
     "execution_count": 48,
     "metadata": {},
     "output_type": "execute_result"
    }
   ],
   "source": [
    "# Final_pacientes_y_empresa = Pacientes_con_ID\n",
    "Subir_pacientes = pd.DataFrame()\n",
    "Subir_pacientes[\"RutEstaoNo\"] = Pacientes_con_id[\"RutEstaoNo\"]\n",
    "# agrupar = empresasqfaltan[empresasqfaltan['si']==False]\n",
    "\n",
    "\n",
    "if (\"nombres\" in Pacientes_con_id.columns) == True:\n",
    "    Subir_pacientes[\"FirstName\"] = Pacientes_con_id[\"nombres\"]\n",
    "if (\"apellidos\" in Pacientes_con_id.columns) == True:\n",
    "    Subir_pacientes[\"LastName\"] = Pacientes_con_id[\"apellidos\"]\n",
    "if (\"rut\" in Pacientes_con_id.columns) == True:\n",
    "    Subir_pacientes[\"IdentificationId__pc\"] = Pacientes_con_id[\"rut\"]\n",
    "    Subir_pacientes.head(20)\n",
    "if (\"email\" in Pacientes_con_id.columns) == True:\n",
    "    # Pacientes_con_id[\"email\"] = Pacientes_con_id[\"email\"].astype(str).str.lower().replace(\"nan\",\"\")\n",
    "    Subir_pacientes[\"PersonEmail\"] = (\n",
    "        Pacientes_con_id[\"email\"].astype(str).str.lower().replace(\"nan\", \"\")\n",
    "    )\n",
    "if (\"nacimiento\" in Pacientes_con_id.columns) == True:\n",
    "    Subir_pacientes[\"PersonBirthdate\"] = Pacientes_con_id[\"nacimiento\"]\n",
    "if (\"sexo\" in Pacientes_con_id.columns) == True:\n",
    "    Sexo = {\n",
    "        \"M\": \"Hombre\",\n",
    "        \"m\": \"Hombre\",\n",
    "        \"Masculino\": \"Hombre\",\n",
    "        \"Femenino\": \"Mujer\",\n",
    "        \"\": \"Prefiero no responder\",\n",
    "        \"HOMBRE\": \"Hombre\",\n",
    "        \"MUJER\": \"Mujer\",\n",
    "        \"F\": \"Mujer\",\n",
    "        \"O\": \"O\",\n",
    "        \"Ambos\": \"Prefiero no responder\",\n",
    "        \"N\": \"Prefiero no responder\",\n",
    "        \"Otro\": \"Prefiero no responder\",\n",
    "        \"n\": \"Prefiero no responder\",\n",
    "        \"N\": \"Prefiero no responder\",\n",
    "        \"FEMENINO\": \"Mujer\",\n",
    "        \"f\": \"Mujer\",\n",
    "        \"MASCULINO\": \"Hombre\",\n",
    "        \"m\": \"Hombre\",\n",
    "        \"M \": \"Hombre\",\n",
    "        \"F \": \"Mujer\",\n",
    "        'Varón':'Hombre'      \n",
    "        \n",
    "    }\n",
    "    Pacientes_con_id.replace({\"sexo\": Sexo}, inplace=True)\n",
    "    Subir_pacientes[\"HealthCloudGA__Gender__pc\"] = Pacientes_con_id[\"sexo\"]\n",
    "if (\"direccion\" in Pacientes_con_id.columns) == True:\n",
    "    Subir_pacientes[\"BillingStreet\"] = (\n",
    "        Pacientes_con_id[\"direccion\"].str.title().replace(\"NaN\", \"\")\n",
    "    )\n",
    "    # Subir_pacientes[\"BillingStreet\"] = Final_pacientes_y_empresa[\"direccion\"]\n",
    "if (\"comuna\" in Pacientes_con_id.columns) == True:\n",
    "    # Subir_pacientes[\"BillingState\"] = Final_pacientes_y_empresa[\"comuna\"]\n",
    "    Subir_pacientes[\"BillingState\"] = (\n",
    "        Pacientes_con_id[\"comuna\"].str.title().replace(\"NaN\", \"\")\n",
    "    )\n",
    "    # Subir_pacientes[\"BillingState\"] = Final_pacientes_y_empresa[\"comuna\"]\n",
    "if (\"ciudad\" in Pacientes_con_id.columns) == True:\n",
    "    # Subir_pacientes[\"BillingCity\"] = Final_pacientes_y_empresa[\"ciudad\"]\n",
    "    Subir_pacientes[\"BillingCity\"] = (\n",
    "        Pacientes_con_id[\"ciudad\"].str.title().replace(\"NaN\", \"\")\n",
    "    )\n",
    "\n",
    "if (\"cargo\" in Pacientes_con_id.columns) == True:\n",
    "    Subir_pacientes[\"PersonTitle\"] = Pacientes_con_id[\"cargo\"].str.title()\n",
    "\n",
    "if (\"division\" in Pacientes_con_id.columns) == True:\n",
    "    Subir_pacientes[\"PersonDepartment\"] = Pacientes_con_id[\"division\"].str.title()\n",
    "\n",
    "if (\"celular\" in Pacientes_con_id.columns) == True:\n",
    "    Subir_pacientes[\"Phone\"] = Pacientes_con_id[\"celular\"]\n",
    "\n",
    "Subir_pacientes[\"RecordTypeId\"] = \"0128c000002Byp4AAC\"\n",
    "\n",
    "\n",
    "\n",
    "\n",
    "if Pais == 'Chile':        \n",
    "    Subir_pacientes[\"BillingCountry\"] = \"Chile\"\n",
    "    Subir_pacientes[\"Identification_Type__c\"] = \"RUT\"\n",
    "    Subir_pacientes['Pa_s_del_Paciente__c'] = 'a1U8c000005dAtnEAE'\n",
    "else:    \n",
    "    Subir_pacientes[\"BillingCountry\"] = \"México\"\n",
    "    Subir_pacientes[\"Identification_Type__c\"] = \"CURP\"\n",
    "    Subir_pacientes['Pa_s_del_Paciente__c'] = 'a1U8c000005dAtsEAE'\n",
    "\n",
    "\n",
    "Subir_pacientes = Subir_pacientes[Subir_pacientes[\"RutEstaoNo\"] == False]\n",
    "\n",
    "\n",
    "# Subir_pacientes.PersonEmail = Subir_pacientes.PersonEmail.fillna('')\n",
    "Subir_pacientes.to_excel(\"F:/Empresas SF/reportes/account.xlsx\", index=False)\n",
    "Subir_pacientes.head()"
   ]
  },
  {
   "cell_type": "code",
   "execution_count": 49,
   "metadata": {},
   "outputs": [],
   "source": [
    "    \n",
    "clinica_virtual = pd.DataFrame()    \n",
    "clinica_virtual['rut'] = Pacientes_con_id[\"rut1\"].str.upper().str.strip()\n",
    "clinica_virtual['firstName'] = Pacientes_con_id['nombres'].str.title().str.strip()\n",
    "clinica_virtual['lastName'] = Pacientes_con_id['apellidos'].str.title().str.strip()\n",
    "clinica_virtual['accountId'] = campaña\n",
    "\n",
    "\n",
    "\n",
    "Codigos_Clinica_Virtual = {\n",
    "'BCI':'1',\n",
    "'Farmacias Ahumada':'2',\n",
    "'MetLife':'3',\n",
    "'Vida Security':'4',\n",
    "'Willis':'5',\n",
    "'Entel':'6',\n",
    "'Testing':'7',\n",
    "'3SP':'8',\n",
    "'HomeCare':'9',\n",
    "'Pedro de Valdivia':'10',\n",
    "'Colaboradores':'11',\n",
    "'MineraAbra':'12',\n",
    "'CMPC':'13',\n",
    "'Lipigas':'14',\n",
    "'Asismed':'15',\n",
    "'Siempre Perú':'16',\n",
    "'Farmacias Cruz Verde':'17',\n",
    "'WFS Food Services':'18',\n",
    "'VidaCel':'19',\n",
    "'Dermik':'20',\n",
    "'EY':'21',\n",
    "'IND':'22',\n",
    "'Sindicato Walmart':'23',\n",
    "'Instruvalve':'24',\n",
    "'VidaCel Colaboradores':'25',\n",
    "'Socofar':'26',\n",
    "'Milan Fajanovic':'27',\n",
    "'THBseguros':'28',\n",
    "'Pesco':'29',\n",
    "'Burgos - Consorcio':'30',\n",
    "'COFAMA-SILENTIUM':'31',\n",
    "'KAUFMANN':'32',\n",
    "'QuePlan':'33',\n",
    "'Zurich':'34',\n",
    "'Colaboradores Siempre Chile':'35',\n",
    "'Talo':'36',\n",
    "'Transvip':'37',\n",
    "'Vida Security Colaboradores':'38',\n",
    "'FORUS':'39',\n",
    "'SURA':'40',\n",
    "'Southbrige':'41',\n",
    "'Construmart':'42',\n",
    "'BICE Vida':'43'\n",
    "\n",
    "}\n",
    "\n",
    "clinica_virtual.replace({\"accountId\": Codigos_Clinica_Virtual}, inplace=True)\n",
    "clinica_virtual.to_excel(\"F:/Empresas SF/reportes/Clinica_Virtual.xlsx\", index=False)"
   ]
  },
  {
   "cell_type": "code",
   "execution_count": 50,
   "metadata": {},
   "outputs": [
    {
     "data": {
      "text/html": [
       "<div>\n",
       "<style scoped>\n",
       "    .dataframe tbody tr th:only-of-type {\n",
       "        vertical-align: middle;\n",
       "    }\n",
       "\n",
       "    .dataframe tbody tr th {\n",
       "        vertical-align: top;\n",
       "    }\n",
       "\n",
       "    .dataframe thead th {\n",
       "        text-align: right;\n",
       "    }\n",
       "</style>\n",
       "<table border=\"1\" class=\"dataframe\">\n",
       "  <thead>\n",
       "    <tr style=\"text-align: right;\">\n",
       "      <th></th>\n",
       "      <th>Id Pacientes_Programas__c</th>\n",
       "      <th>Id Account</th>\n",
       "      <th>Programas_por_Empresas__c</th>\n",
       "      <th>Nombre Campaña</th>\n",
       "      <th>Id Account Empresa</th>\n",
       "      <th>Nombre Empresa</th>\n",
       "      <th>Holding</th>\n",
       "      <th>Campaña</th>\n",
       "      <th>Empleador</th>\n",
       "      <th>Poliza</th>\n",
       "      <th>Codigo EMP</th>\n",
       "      <th>Codigo A</th>\n",
       "    </tr>\n",
       "  </thead>\n",
       "  <tbody>\n",
       "    <tr>\n",
       "      <th>160536</th>\n",
       "      <td>a1Y8c00000C6VtrEAF</td>\n",
       "      <td>0018c00002amQ2QAAU</td>\n",
       "      <td>a1W8c0000083ilIEAQ</td>\n",
       "      <td>VidaCel Colaboradores</td>\n",
       "      <td>0018c00002cXJfJAAW</td>\n",
       "      <td>Colaboradores VidaCel S.A.</td>\n",
       "      <td>Sin Holding Asociado</td>\n",
       "      <td>VidaCel Colaboradores</td>\n",
       "      <td>Colaboradores VidaCel S.A.</td>\n",
       "      <td>Sin Póliza Asociada</td>\n",
       "      <td>EMP6995</td>\n",
       "      <td>A-1626</td>\n",
       "    </tr>\n",
       "    <tr>\n",
       "      <th>160537</th>\n",
       "      <td>a1Y8c00000C6VtsEAF</td>\n",
       "      <td>0018c00002amQonAAE</td>\n",
       "      <td>a1W8c0000083ilIEAQ</td>\n",
       "      <td>VidaCel Colaboradores</td>\n",
       "      <td>0018c00002cXJfJAAW</td>\n",
       "      <td>Colaboradores VidaCel S.A.</td>\n",
       "      <td>Sin Holding Asociado</td>\n",
       "      <td>VidaCel Colaboradores</td>\n",
       "      <td>Colaboradores VidaCel S.A.</td>\n",
       "      <td>Sin Póliza Asociada</td>\n",
       "      <td>EMP6995</td>\n",
       "      <td>A-1626</td>\n",
       "    </tr>\n",
       "    <tr>\n",
       "      <th>160538</th>\n",
       "      <td>a1Y8c00000C6VtuEAF</td>\n",
       "      <td>0018c00002amRGlAAM</td>\n",
       "      <td>a1W8c0000083ilIEAQ</td>\n",
       "      <td>VidaCel Colaboradores</td>\n",
       "      <td>0018c00002cXJfJAAW</td>\n",
       "      <td>Colaboradores VidaCel S.A.</td>\n",
       "      <td>Sin Holding Asociado</td>\n",
       "      <td>VidaCel Colaboradores</td>\n",
       "      <td>Colaboradores VidaCel S.A.</td>\n",
       "      <td>Sin Póliza Asociada</td>\n",
       "      <td>EMP6995</td>\n",
       "      <td>A-1626</td>\n",
       "    </tr>\n",
       "  </tbody>\n",
       "</table>\n",
       "</div>"
      ],
      "text/plain": [
       "       Id Pacientes_Programas__c          Id Account  \\\n",
       "160536        a1Y8c00000C6VtrEAF  0018c00002amQ2QAAU   \n",
       "160537        a1Y8c00000C6VtsEAF  0018c00002amQonAAE   \n",
       "160538        a1Y8c00000C6VtuEAF  0018c00002amRGlAAM   \n",
       "\n",
       "       Programas_por_Empresas__c         Nombre Campaña  Id Account Empresa  \\\n",
       "160536        a1W8c0000083ilIEAQ  VidaCel Colaboradores  0018c00002cXJfJAAW   \n",
       "160537        a1W8c0000083ilIEAQ  VidaCel Colaboradores  0018c00002cXJfJAAW   \n",
       "160538        a1W8c0000083ilIEAQ  VidaCel Colaboradores  0018c00002cXJfJAAW   \n",
       "\n",
       "                    Nombre Empresa               Holding  \\\n",
       "160536  Colaboradores VidaCel S.A.  Sin Holding Asociado   \n",
       "160537  Colaboradores VidaCel S.A.  Sin Holding Asociado   \n",
       "160538  Colaboradores VidaCel S.A.  Sin Holding Asociado   \n",
       "\n",
       "                      Campaña                   Empleador  \\\n",
       "160536  VidaCel Colaboradores  Colaboradores VidaCel S.A.   \n",
       "160537  VidaCel Colaboradores  Colaboradores VidaCel S.A.   \n",
       "160538  VidaCel Colaboradores  Colaboradores VidaCel S.A.   \n",
       "\n",
       "                     Poliza Codigo EMP Codigo A  \n",
       "160536  Sin Póliza Asociada    EMP6995   A-1626  \n",
       "160537  Sin Póliza Asociada    EMP6995   A-1626  \n",
       "160538  Sin Póliza Asociada    EMP6995   A-1626  "
      ]
     },
     "execution_count": 50,
     "metadata": {},
     "output_type": "execute_result"
    }
   ],
   "source": [
    "campaña_seleccionada = empresas_unidas[empresas_unidas[\"Campaña\"] == campaña]\n",
    "campaña_seleccionada.head()\n"
   ]
  },
  {
   "cell_type": "code",
   "execution_count": 51,
   "metadata": {},
   "outputs": [
    {
     "data": {
      "text/plain": [
       "(3, 12)"
      ]
     },
     "execution_count": 51,
     "metadata": {},
     "output_type": "execute_result"
    }
   ],
   "source": [
    "campaña_seleccionada.shape"
   ]
  },
  {
   "cell_type": "code",
   "execution_count": 52,
   "metadata": {},
   "outputs": [],
   "source": [
    "if campaña != \"MetLife\":\n",
    "    pacientes_en_campaña = pd.merge(\n",
    "        left=campaña_seleccionada,\n",
    "        right=Pacientes_con_id,\n",
    "        how=\"left\",\n",
    "        left_on=\"Id Account\",\n",
    "        right_on=\"Id Account Paciente\",\n",
    "    )\n",
    "    pacientes_en_campaña[\"Paciente__c\"] = \"Id Pacientes\"\n",
    "    pacientes_en_campaña[\"Programas_por_Empresas__c\"] = \"Id Programas Por empresa\"\n",
    "    pacientes_en_campaña.to_excel(\n",
    "        \"F:/Empresas SF/reportes/campaña_empresa.xlsx\", index=False\n",
    "    )\n",
    "    campaña_en_pacientes = pd.merge(\n",
    "        left=Pacientes_con_id,\n",
    "        right=campaña_seleccionada,\n",
    "        how=\"left\",\n",
    "        left_on=\"Id Account Paciente\",\n",
    "        right_on=\"Id Account\",\n",
    "    )\n",
    "    campaña_en_pacientes.to_excel(\n",
    "        \"F:/Empresas SF/reportes/archivo_campaña.xlsx\", index=False\n",
    "    )"
   ]
  },
  {
   "cell_type": "code",
   "execution_count": null,
   "metadata": {},
   "outputs": [],
   "source": []
  },
  {
   "cell_type": "code",
   "execution_count": 53,
   "metadata": {},
   "outputs": [],
   "source": [
    "\n",
    "#apprix_1 = Pacientes_SF.iloc[:790552,:]\n",
    "#apprix_2 = Pacientes_SF.iloc[790553:,:]\n",
    "#apprix_1.to_excel(\"F:/Empresas SF/reportes/Ruts1.xlsx\",index=False)\n",
    "#apprix_2.to_excel(\"F:/Empresas SF/reportes/Ruts2.xlsx\",index=False)\n"
   ]
  }
 ],
 "metadata": {
  "kernelspec": {
   "display_name": "salesforce",
   "language": "python",
   "name": "python3"
  },
  "language_info": {
   "codemirror_mode": {
    "name": "ipython",
    "version": 3
   },
   "file_extension": ".py",
   "mimetype": "text/x-python",
   "name": "python",
   "nbconvert_exporter": "python",
   "pygments_lexer": "ipython3",
   "version": "3.8.16"
  },
  "orig_nbformat": 4,
  "vscode": {
   "interpreter": {
    "hash": "7fbccfb583f385d5cd7c75cc6ade03c09354727271e9200f47ca4e7fedb5381e"
   }
  }
 },
 "nbformat": 4,
 "nbformat_minor": 2
}
