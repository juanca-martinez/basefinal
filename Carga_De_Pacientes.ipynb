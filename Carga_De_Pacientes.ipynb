{
 "cells": [
  {
   "cell_type": "code",
   "execution_count": null,
   "metadata": {
    "notebookRunGroups": {
     "groupValue": "1"
    }
   },
   "outputs": [],
   "source": [
    "from pathlib import Path\n",
    "import requests\n",
    "import pandas as pd\n",
    "import numpy as np\n",
    "from io import StringIO\n",
    "import shutil\n",
    "import datetime\n",
    "from datetime import datetime\n",
    "import re\n",
    "import json\n",
    "from pandas.api.types import is_numeric_dtype\n",
    "from simple_salesforce import Salesforce, format_soql, format_external_id\n",
    "from simple_salesforce.exceptions import SalesforceMalformedRequest\n",
    "import simpler_sf\n",
    "\n",
    "simpler_sf.simple_salesforce()"
   ]
  },
  {
   "cell_type": "code",
   "execution_count": null,
   "metadata": {
    "notebookRunGroups": {
     "groupValue": "1"
    }
   },
   "outputs": [],
   "source": [
    "with open(\"login.json\", \"r\") as j:\n",
    "    misDatos = json.load(j)"
   ]
  },
  {
   "cell_type": "code",
   "execution_count": null,
   "metadata": {
    "notebookRunGroups": {
     "groupValue": "1"
    }
   },
   "outputs": [],
   "source": [
    "# para smart query\n",
    "\"\"\" sf = simple_salesforce.Salesforce(\n",
    "    username=misDatos[\"username\"],\n",
    "    password=misDatos[\"password\"],\n",
    "    security_token=misDatos[\"security_token\"],\n",
    ")\n",
    " \"\"\"\n",
    "# para lo demas\n",
    "sf = Salesforce(\n",
    "    username=misDatos[\"username\"],\n",
    "    password=misDatos[\"password\"],\n",
    "    security_token=misDatos[\"security_token\"],\n",
    ")\n",
    "# paramiko.util.log_to_file(\"paramiko.log\")\n",
    "regex = re.compile(r\"([A-Za-z0-9]+[.-_])*[A-Za-z0-9]+@[A-Za-z0-9-]+(\\.[A-Z|a-z]{2,})+\")"
   ]
  },
  {
   "cell_type": "markdown",
   "metadata": {},
   "source": [
    "Descarga de empresas en sistema\n"
   ]
  },
  {
   "cell_type": "code",
   "execution_count": null,
   "metadata": {
    "notebookRunGroups": {
     "groupValue": "1"
    }
   },
   "outputs": [],
   "source": [
    "llamadaEmpresaAntiguas = \"SELECT Id,Empresa__r.Id, Empresa__r.Name, Empresa__r.Holding__c, Empresa__r.Campa_a__c, Empresa__r.Id_Empresa__c, Empresa__r.Empleador__c, Empresa__r.poliza__c, Empresa__r.RUT_Empresa__c, Empresa__r.Corredor__c,Empresa__r.Padre_Empresa__c, Name FROM Programas_por_Empresas__c WHERE Empresa__r.Padre_Empresa__c = false\"\n",
    "vllamadaEmpresa = sf.smart_query(llamadaEmpresaAntiguas)\n",
    "vllamadaEmpresa.to_excel(\"F:/Empresas SF/reportes/empresas_Antiguas.xlsx\", index=False)\n",
    "vllamadaEmpresa.head()"
   ]
  },
  {
   "cell_type": "markdown",
   "metadata": {},
   "source": [
    "vllamadaEmpresa.shape\n"
   ]
  },
  {
   "cell_type": "code",
   "execution_count": null,
   "metadata": {
    "notebookRunGroups": {
     "groupValue": "1"
    }
   },
   "outputs": [],
   "source": [
    "# Recuperar empresas ID de salesforce desde Account\n",
    "results = sf.query_all(\n",
    "    \"\"\"\n",
    "  SELECT Id, name, Holding__c ,Campa_a__c,Id_Empresa__c,Empleador__c,poliza__c,RUT_Empresa__c  FROM account where ispersonaccount = false  AND Nueva_Estructura__c = False\n",
    "    \"\"\"\n",
    ")\n",
    "Empresas_SF = pd.DataFrame(results[\"records\"])\n",
    "Empresas_SF = Empresas_SF[\n",
    "    [\n",
    "        \"Id\",\n",
    "        \"Name\",\n",
    "        \"Holding__c\",\n",
    "        \"Campa_a__c\",\n",
    "        \"Id_Empresa__c\",\n",
    "        \"Empleador__c\",\n",
    "        \"poliza__c\",\n",
    "        \"RUT_Empresa__c\",\n",
    "    ]\n",
    "]\n",
    "Empresas_SF.shape"
   ]
  },
  {
   "cell_type": "code",
   "execution_count": null,
   "metadata": {
    "notebookRunGroups": {
     "groupValue": "1"
    }
   },
   "outputs": [],
   "source": [
    "# buscar empresas desde Programas_por_Empresas__c datos de empresas\n",
    "results = sf.query_all(\n",
    "    \"\"\"\n",
    "   select Id,Empresa__c, Empresa_Padre__c,Nombre_Empresa__c, Name  from Programas_por_Empresas__c \n",
    "    \"\"\"\n",
    ")\n",
    "Programas_por_empresa_SF = pd.DataFrame(results[\"records\"])\n",
    "\n",
    "Programas_por_empresa_SF = Programas_por_empresa_SF[\n",
    "    [\"Id\", \"Empresa__c\", \"Empresa_Padre__c\", \"Nombre_Empresa__c\", \"Name\"]\n",
    "]\n",
    "Programas_por_empresa_SF.shape"
   ]
  },
  {
   "cell_type": "code",
   "execution_count": null,
   "metadata": {
    "notebookRunGroups": {
     "groupValue": "1"
    }
   },
   "outputs": [],
   "source": [
    "# Union de Programas Empresa y empresas\n",
    "Programas_empresas = pd.merge(\n",
    "    left=Empresas_SF,\n",
    "    right=Programas_por_empresa_SF,\n",
    "    how=\"left\",\n",
    "    left_on=\"Id\",\n",
    "    right_on=\"Empresa__c\",\n",
    ")\n",
    "Programas_empresas = Programas_empresas.rename(\n",
    "    columns={\n",
    "        \"Id_x\": \"Id Account Empresa\",\n",
    "        \"Name_x\": \"Nombre Empresa\",\n",
    "        \"Holding__c\": \"Holding\",\n",
    "        \"Campa_a__c\": \"Campaña\",\n",
    "        \"Empleador__c\": \"Empleador\",\n",
    "        \"poliza__c\": \"Poliza\",\n",
    "        \"RUT_Empresa__c\": \"Rut Empresa\",\n",
    "        \"Id_y\": \"Programas_por_Empresas__c\",\n",
    "        \"Id_Empresa__c\": \"Codigo EMP\",\n",
    "        \"Name_y\": \"Codigo A\",\n",
    "    }\n",
    ")\n",
    "Programas_empresas = Programas_empresas[\n",
    "    [\n",
    "        \"Id Account Empresa\",\n",
    "        \"Nombre Empresa\",\n",
    "        \"Holding\",\n",
    "        \"Campaña\",\n",
    "        \"Empleador\",\n",
    "        \"Poliza\",\n",
    "        \"Rut Empresa\",\n",
    "        \"Programas_por_Empresas__c\",\n",
    "        \"Codigo EMP\",\n",
    "        \"Codigo A\",\n",
    "    ]\n",
    "]\n",
    "\n",
    "Programas_empresas.shape"
   ]
  },
  {
   "cell_type": "code",
   "execution_count": null,
   "metadata": {
    "notebookRunGroups": {
     "groupValue": "1"
    }
   },
   "outputs": [],
   "source": [
    "Programas_empresas.to_excel(\"F:/Empresas SF/reportes/empresas.xlsx\", index=False)"
   ]
  },
  {
   "cell_type": "code",
   "execution_count": null,
   "metadata": {
    "notebookRunGroups": {
     "groupValue": "1"
    }
   },
   "outputs": [],
   "source": [
    "query2 = \"select P_liza__c, Nombre_de_Empresa__c,Identificador__c, Rut_Empresa__c, Empresa_Padre__r.Name, Empresa__r.name,Holding__c, Plan__c, Pais__c, Activo__c, Id from Datos_Empresa__c \"\n",
    "\n",
    "df2 = sf.smart_query(query2)\n",
    "df2[\"LLave\"] = df2[\"Rut_Empresa__c\"].str.upper().str.replace(\"-\", \"\") + df2[\"P_liza__c\"]\n",
    "df2[\"dato\"] = 1\n",
    "df2.to_excel(\"F:/Empresas SF/reportes/empresas_nuevas.xlsx\", index=False)\n",
    "df2.head()"
   ]
  },
  {
   "attachments": {},
   "cell_type": "markdown",
   "metadata": {},
   "source": [
    "fin empresas y comienzo de rescate de pacientes\n"
   ]
  },
  {
   "cell_type": "code",
   "execution_count": null,
   "metadata": {
    "notebookRunGroups": {
     "groupValue": "1"
    }
   },
   "outputs": [],
   "source": [
    "# CArga de PAcientes\n",
    "results = sf.query_all(\n",
    "    \"\"\"\n",
    "    select Id, IdentificationId__pc,Name, Identification_Type__c, Ocupaci_n__c,  PersonTitle ,PersonDepartment,HealthCloudGA__Gender__pc,Phone,PersonContactId  from Account where ispersonaccount = True \n",
    "   \"\"\"\n",
    ")\n",
    "Pacientes_SF = pd.DataFrame(results[\"records\"])\n",
    "\n",
    "Pacientes_SF = Pacientes_SF[\n",
    "    [\n",
    "        \"Id\",\n",
    "        \"IdentificationId__pc\",\n",
    "        \"Name\",\n",
    "        \"Identification_Type__c\",\n",
    "        \"Ocupaci_n__c\",\n",
    "        \"PersonTitle\",\n",
    "        \"PersonDepartment\",\n",
    "        \"HealthCloudGA__Gender__pc\",\n",
    "        \"Phone\",\n",
    "        \"PersonContactId\",\n",
    "    ]\n",
    "]\n",
    "Pacientes_SF = Pacientes_SF.rename(\n",
    "    columns={\n",
    "        \"Id\": \"Id Account Paciente\",\n",
    "        \"IdentificationId__pc\": \"Rut\",\n",
    "        \"Name\": \"Nombre\",\n",
    "        \"Ocupaci_n__c\": \"Ocupacion\",\n",
    "        \"PersonTitle\": \"Cargo\",\n",
    "        \"PersonDepartment\": \"Departamento\",\n",
    "        \"HealthCloudGA__Gender__pc\": \"Sexo\",\n",
    "        \"Phone\": \"Telefono\",\n",
    "        \"Identification_Type__c\": \"Tipo de Documento\",\n",
    "        \"PersonContactId\": \"Id Contacto\",\n",
    "    }\n",
    ")\n",
    "Pacientes_SF.shape"
   ]
  },
  {
   "cell_type": "code",
   "execution_count": null,
   "metadata": {
    "notebookRunGroups": {
     "groupValue": "1"
    }
   },
   "outputs": [],
   "source": [
    "def siPrimerCero(y):\n",
    "    if len(y) <= 4:\n",
    "        return \"NONE\"\n",
    "    if y[0] == \"0\":\n",
    "        y = y[1:]\n",
    "    return y"
   ]
  },
  {
   "cell_type": "code",
   "execution_count": null,
   "metadata": {
    "notebookRunGroups": {
     "groupValue": "1"
    }
   },
   "outputs": [],
   "source": [
    "Pacientes_SF[\"Rut\"] = Pacientes_SF[\"Rut\"].astype(str)\n",
    "Pacientes_SF[\"Rut\"] = Pacientes_SF[\"Rut\"].str.upper()\n",
    "Pacientes_SF[\"Rut\"] = Pacientes_SF[\"Rut\"].str.replace(\"-\", \"\")\n",
    "Pacientes_SF[\"Rut\"] = Pacientes_SF[\"Rut\"].str.replace(\"–\", \"\")\n",
    "Pacientes_SF[\"Rut\"] = Pacientes_SF[\"Rut\"].astype(str)\n",
    "Pacientes_SF[\"Rut\"] = Pacientes_SF[\"Rut\"].str.replace(\".\", \"\")\n",
    "Pacientes_SF[\"Rut\"] = Pacientes_SF[\"Rut\"].apply(lambda y: siPrimerCero(y))\n",
    "Pacientes_SF[\"Rut\"] = Pacientes_SF[\"Rut\"].str.strip()"
   ]
  },
  {
   "cell_type": "code",
   "execution_count": null,
   "metadata": {
    "notebookRunGroups": {
     "groupValue": "1"
    }
   },
   "outputs": [],
   "source": [
    "Pacientes_Nones1 = Pacientes_SF[(Pacientes_SF[\"Rut\"] == \"NONE\")]\n",
    "Pacientes_SF = Pacientes_SF[(Pacientes_SF[\"Rut\"] != \"NONE\")]\n",
    "Pacientes_Nones1.to_excel(\"F:/Empresas SF/reportes/NONE1.xlsx\", index=False)"
   ]
  },
  {
   "attachments": {},
   "cell_type": "markdown",
   "metadata": {},
   "source": [
    "Aca se comienzan a unir las relaciones de pacientes y empresas ya creadas.\n"
   ]
  },
  {
   "cell_type": "markdown",
   "metadata": {
    "notebookRunGroups": {
     "groupValue": "1"
    }
   },
   "source": [
    "# buscar empresas desde Paciente_Programas\\_\\_c relaciones de empresas con pacientes\n",
    "\n",
    "results = sf.query_all(\n",
    "\"\"\"\n",
    "select Id,Paciente**c, Programas_por_Empresas**c,padre**c from Paciente_Programas**c  \n",
    " \"\"\"\n",
    ")\n",
    "Paciente_Programas_SF = pd.DataFrame(results[\"records\"])\n",
    "\n",
    "Paciente_Programas_SF = Paciente_Programas_SF[\n",
    "[\"Id\", \"Paciente__c\", \"Programas_por_Empresas__c\", \"padre__c\"]\n",
    "]\n",
    "Paciente_Programas_SF = Paciente_Programas_SF.rename(\n",
    "columns={\n",
    "\"Id\": \"Id Pacientes_Programas**c\",\n",
    "\"Paciente**c\": \"Id Account\",\n",
    "\"Programas_por_Empresas**c\": \"Programas_por_Empresas**c\",\n",
    "\"padre\\_\\_c\": \"Nombre Campaña\",\n",
    "}\n",
    ")\n",
    "Paciente_Programas_SF.shape\n"
   ]
  },
  {
   "cell_type": "markdown",
   "metadata": {
    "notebookRunGroups": {
     "groupValue": "1"
    }
   },
   "source": [
    "# Union de Pacientes Programas y Programas por empresa\n",
    "\n",
    "empresas_unidas = pd.merge(\n",
    "left=Paciente_Programas_SF,\n",
    "right=Programas_empresas,\n",
    "how=\"left\",\n",
    "left_on=\"Programas_por_Empresas**c\",\n",
    "right_on=\"Programas_por_Empresas**c\",\n",
    ")\n",
    "empresas_unidas.shape\n"
   ]
  },
  {
   "attachments": {},
   "cell_type": "markdown",
   "metadata": {},
   "source": [
    "Carga de Archivo carga\n"
   ]
  },
  {
   "cell_type": "code",
   "execution_count": null,
   "metadata": {
    "notebookRunGroups": {
     "groupValue": "2"
    }
   },
   "outputs": [],
   "source": [
    "nuevos = \"F:/Empresas SF/reportes/carga.xlsx\"\n",
    "campaña = \"Socofar\"\n",
    "Pais = \"Chile\"\n",
    "baseFinal = True\n",
    "#Pais = \"México\"\n",
    "\n",
    "Pacientes_Archivo = pd.read_excel(nuevos)\n",
    "# OJO se copia rut1 a rut le saca el guoion\n",
    "Pacientes_Archivo.head(5)"
   ]
  },
  {
   "cell_type": "code",
   "execution_count": null,
   "metadata": {
    "notebookRunGroups": {
     "groupValue": "2"
    }
   },
   "outputs": [],
   "source": [
    "Pacientes_Archivo.shape"
   ]
  },
  {
   "cell_type": "code",
   "execution_count": null,
   "metadata": {
    "notebookRunGroups": {
     "groupValue": "2"
    }
   },
   "outputs": [],
   "source": [
    "Pacientes_IDrut = Pacientes_SF[\n",
    "    [\n",
    "        \"Rut\",\n",
    "        \"Id Account Paciente\",\n",
    "        #\"Id Contacto\",\n",
    "    ]\n",
    "]"
   ]
  },
  {
   "cell_type": "code",
   "execution_count": null,
   "metadata": {
    "notebookRunGroups": {
     "groupValue": "2"
    }
   },
   "outputs": [],
   "source": [
    "Pacientes_Archivo[\"rut\"] = Pacientes_Archivo[\"rut1\"].astype(str)\n",
    "Pacientes_Archivo[\"rut\"] = Pacientes_Archivo[\"rut\"].str.replace(\"-\", \"\")\n",
    "Pacientes_Archivo[\"rut\"] = Pacientes_Archivo[\"rut\"].str.replace(\"–\", \"\")\n",
    "Pacientes_Archivo[\"rut\"] = Pacientes_Archivo[\"rut\"].astype(str)\n",
    "Pacientes_Archivo[\"rut\"] = Pacientes_Archivo[\"rut\"].str.replace(\".\", \"\")\n",
    "Pacientes_Archivo[\"rut\"] = Pacientes_Archivo[\"rut\"].str.replace(\" \", \"\")\n",
    "Pacientes_Archivo[\"rut\"] = Pacientes_Archivo[\"rut\"].str.upper()\n",
    "Pacientes_Archivo[\"rut\"] = Pacientes_Archivo[\"rut\"].str.strip()\n",
    "\n",
    "Pacientes_Archivo[\"poliza\"] = Pacientes_Archivo[\"poliza\"].astype(str)\n",
    "Pacientes_Archivo[\"poliza\"] = Pacientes_Archivo[\"poliza\"].str.replace(\"-\", \"\")\n",
    "Pacientes_Archivo[\"poliza\"] = Pacientes_Archivo[\"poliza\"].str.replace(\"–\", \"\")\n",
    "Pacientes_Archivo[\"poliza\"] = Pacientes_Archivo[\"poliza\"].astype(str)\n",
    "Pacientes_Archivo[\"poliza\"] = Pacientes_Archivo[\"poliza\"].str.replace(\".\", \"\")\n",
    "Pacientes_Archivo[\"poliza\"] = Pacientes_Archivo[\"poliza\"].str.replace(\" \", \"\")\n",
    "Pacientes_Archivo[\"poliza\"] = Pacientes_Archivo[\"poliza\"].str.upper()\n",
    "Pacientes_Archivo[\"poliza\"] = Pacientes_Archivo[\"poliza\"].str.strip()\n",
    "Pacientes_Archivo.shape\n",
    "\n",
    "Pacientes_Archivo[\"rutE\"] = Pacientes_Archivo[\"rutE\"].astype(str)\n",
    "Pacientes_Archivo[\"rutE\"] = Pacientes_Archivo[\"rutE\"].str.upper()\n",
    "Pacientes_Archivo[\"rutE\"] = Pacientes_Archivo[\"rutE\"].str.replace(\"-\", \"\")\n",
    "Pacientes_Archivo[\"rutE\"] = Pacientes_Archivo[\"rutE\"].str.replace(\"–\", \"\")\n",
    "Pacientes_Archivo[\"rutE\"] = Pacientes_Archivo[\"rutE\"].str.replace(\".\", \"\")\n",
    "Pacientes_Archivo[\"rutE\"] = Pacientes_Archivo[\"rutE\"].str.strip()\n",
    "Pacientes_Archivo.shape"
   ]
  },
  {
   "cell_type": "code",
   "execution_count": null,
   "metadata": {
    "notebookRunGroups": {
     "groupValue": "2"
    }
   },
   "outputs": [],
   "source": [
    "Pacientes_Archivo[\"rutT\"] = Pacientes_Archivo[\"rut2\"].astype(str)\n",
    "Pacientes_Archivo[\"rutT\"] = Pacientes_Archivo[\"rutT\"].str.replace(\"-\", \"\")\n",
    "Pacientes_Archivo[\"rutT\"] = Pacientes_Archivo[\"rutT\"].str.replace(\"–\", \"\")\n",
    "Pacientes_Archivo[\"rutT\"] = Pacientes_Archivo[\"rutT\"].astype(str)\n",
    "Pacientes_Archivo[\"rutT\"] = Pacientes_Archivo[\"rutT\"].str.replace(\".\", \"\")\n",
    "Pacientes_Archivo[\"rut\"] = Pacientes_Archivo[\"rut\"].str.replace(\" \", \"\")\n",
    "Pacientes_Archivo[\"rutT\"] = Pacientes_Archivo[\"rutT\"].str.upper()\n",
    "Pacientes_Archivo[\"rutT\"] = Pacientes_Archivo[\"rutT\"].str.strip()\n",
    "Pacientes_Archivo.shape"
   ]
  },
  {
   "cell_type": "code",
   "execution_count": null,
   "metadata": {
    "notebookRunGroups": {
     "groupValue": "2"
    }
   },
   "outputs": [],
   "source": [
    "if (\"nombres\" in Pacientes_Archivo.columns) == True:\n",
    "    Pacientes_Archivo[\"nombres\"] = Pacientes_Archivo[\"nombres\"].str.replace(\",\", \"\")\n",
    "    Pacientes_Archivo[\"nombres\"] = Pacientes_Archivo[\"nombres\"].str.replace(\".\", \"\")\n",
    "    Pacientes_Archivo[\"nombres\"] = Pacientes_Archivo[\"nombres\"].str.replace(\"-\", \"\")\n",
    "    Pacientes_Archivo[\"nombres\"] = Pacientes_Archivo[\"nombres\"].str.replace(\"┐\", \"\")\n",
    "    Pacientes_Archivo[\"nombres\"] = Pacientes_Archivo[\"nombres\"].str.replace(\"═\", \"\")\n",
    "    Pacientes_Archivo[\"nombres\"] = Pacientes_Archivo[\"nombres\"].str.replace(\"╔\", \"\")\n",
    "    Pacientes_Archivo[\"nombres\"] = Pacientes_Archivo[\"nombres\"].str.replace(\"┌\", \"\")\n",
    "    Pacientes_Archivo[\"nombres\"] = Pacientes_Archivo[\"nombres\"].str.title()\n",
    "    Pacientes_Archivo[\"nombres\"] = Pacientes_Archivo[\"nombres\"].str.strip()\n",
    "    # Pacientes_Archivo[\"empresa\"] = Pacientes_Archivo[\"empresa\"].str.title()\n",
    "    Pacientes_Archivo[\"apellidos\"] = Pacientes_Archivo[\"apellidos\"].str.replace(\",\", \"\")\n",
    "    Pacientes_Archivo[\"apellidos\"] = Pacientes_Archivo[\"apellidos\"].str.replace(\".\", \"\")\n",
    "    Pacientes_Archivo[\"apellidos\"] = Pacientes_Archivo[\"apellidos\"].str.replace(\"-\", \"\")\n",
    "    Pacientes_Archivo[\"apellidos\"] = Pacientes_Archivo[\"apellidos\"].str.replace(\"┐\", \"\")\n",
    "    Pacientes_Archivo[\"apellidos\"] = Pacientes_Archivo[\"apellidos\"].str.replace(\"═\", \"\")\n",
    "    Pacientes_Archivo[\"apellidos\"] = Pacientes_Archivo[\"apellidos\"].str.replace(\"╔\", \"\")\n",
    "    Pacientes_Archivo[\"apellidos\"] = Pacientes_Archivo[\"apellidos\"].str.replace(\"┌\", \"\")\n",
    "    Pacientes_Archivo[\"apellidos\"] = Pacientes_Archivo[\"apellidos\"].str.title()\n",
    "    Pacientes_Archivo[\"apellidos\"] = Pacientes_Archivo[\"apellidos\"].str.strip()"
   ]
  },
  {
   "cell_type": "code",
   "execution_count": null,
   "metadata": {
    "notebookRunGroups": {
     "groupValue": "2"
    }
   },
   "outputs": [],
   "source": [
    "Pacientes_Archivo[\"rut\"] = Pacientes_Archivo[\"rut\"].apply(lambda y: siPrimerCero(y))\n",
    "Pacientes_Archivo[\"rutT\"] = Pacientes_Archivo[\"rutT\"].apply(lambda y: siPrimerCero(y))\n",
    "#Pacientes_Archivo\n",
    "\n",
    "# Pacientes_Nones = Pacientes_Archivo[(Pacientes_Archivo[\"rut\"] == \"NONE\") | (Pacientes_Archivo[\"rutT\"] == \"NONE\")]\n",
    "# Pacientes_Archivo = Pacientes_Archivo[(Pacientes_Archivo[\"rut\"] != \"NONE\") | (Pacientes_Archivo[\"rutT\"] != \"NONE\")]"
   ]
  },
  {
   "cell_type": "code",
   "execution_count": null,
   "metadata": {},
   "outputs": [],
   "source": [
    "# Pacientes_Archivo.to_excel(\"F:/Empresas SF/reportes/Pacientes_Archivo22.xlsx\", index=False)"
   ]
  },
  {
   "cell_type": "code",
   "execution_count": null,
   "metadata": {
    "notebookRunGroups": {
     "groupValue": "2"
    }
   },
   "outputs": [],
   "source": [
    "Pacientes_Archivo = Pacientes_Archivo[(Pacientes_Archivo[\"rut\"] != \"NONE\")]\n",
    "Pacientes_Archivo = Pacientes_Archivo[(Pacientes_Archivo[\"rutT\"] != \"NONE\")]\n",
    "# | (Pacientes_Archivo[\"rutT\"] != \"NONE\")\n"
   ]
  },
  {
   "cell_type": "code",
   "execution_count": null,
   "metadata": {},
   "outputs": [],
   "source": [
    "Pacientes_Archivo[\"Llave\"] = Pacientes_Archivo[\"rutT\"] + Pacientes_Archivo[\"rut\"]\n",
    "Pacientes_Archivo[\"PolizaLlave\"] = Pacientes_Archivo[\"poliza\"] +  Pacientes_Archivo[\"rutT\"] + Pacientes_Archivo[\"rut\"]\n",
    "\n",
    "#Pacientes_Archivo.to_excel(\"F:/Empresas SF/reportes/eliminar2.xlsx\", index=False)"
   ]
  },
  {
   "cell_type": "markdown",
   "metadata": {},
   "source": [
    "PAcientes Programas\n"
   ]
  },
  {
   "cell_type": "code",
   "execution_count": null,
   "metadata": {
    "notebookRunGroups": {
     "groupValue": ""
    }
   },
   "outputs": [],
   "source": [
    "\"\"\" query_pacientePrograma = (\n",
    "    \"SELECT Paciente__c,Programas_por_Empresas__r.Empresa__c,Paciente__r.IdentificationId__pc,Id from Paciente_Programas__c where padre__c =  '\"\n",
    "    + campaña\n",
    "    + \"'\"\n",
    ")\n",
    "pacientePrograma = sf.smart_query(query_pacientePrograma)\n",
    "pacientePrograma.head()\n",
    "pacientePrograma = pacientePrograma.rename(\n",
    "    columns={\n",
    "        \"Id\": \"Id Paciente Programas\",\n",
    "        \"Paciente__r.IdentificationId__pc\": \"Rut\",\n",
    "        \"Programas_por_Empresas__r.Empresa__c\": \"Id Account Empleador\",\n",
    "        \"Paciente__c\": \"Id Account Paciente\",\n",
    "    }\n",
    ")\n",
    "pacientePrograma.head()\n",
    "pacientePrograma[\"Rut\"] = pacientePrograma[\"Rut\"].astype(str)\n",
    "pacientePrograma[\"Rut\"] = pacientePrograma[\"Rut\"].str.replace(\"-\", \"\")\n",
    "pacientePrograma[\"Rut\"] = pacientePrograma[\"Rut\"].str.replace(\"–\", \"\")\n",
    "pacientePrograma[\"Rut\"] = pacientePrograma[\"Rut\"].astype(str)\n",
    "pacientePrograma[\"Rut\"] = pacientePrograma[\"Rut\"].str.replace(\".\", \"\")\n",
    "pacientePrograma[\"Rut\"] = pacientePrograma[\"Rut\"].str.upper()\n",
    "pacientePrograma[\"Rut\"] = pacientePrograma[\"Rut\"].str.strip()\n",
    "pacientePrograma.shape\n",
    "PacientesProgramas_PacientesSF = pd.merge(\n",
    "    left=pacientePrograma,\n",
    "    right=Pacientes_IDrut,\n",
    "    how=\"left\",\n",
    "    left_on=\"Id Account Paciente\",\n",
    "    right_on=\"Id Account Paciente\",\n",
    ")\n",
    "\n",
    "PacientesProgramas_PacientesSF.head() \"\"\""
   ]
  },
  {
   "cell_type": "markdown",
   "metadata": {},
   "source": [
    "account contact relation\n"
   ]
  },
  {
   "cell_type": "code",
   "execution_count": null,
   "metadata": {
    "notebookRunGroups": {
     "groupValue": ""
    }
   },
   "outputs": [],
   "source": [
    "\"\"\" query_accountContact = (\n",
    "    \"select Id,ContactId, AccountId, RutContact__c ,Contact.AccountId from AccountContactRelation where Account.Campa_a__c = '\"\n",
    "    + campaña\n",
    "    + \"'\"\n",
    ")\n",
    "accountContactRelation = sf.smart_query(query_accountContact)\n",
    "accountContactRelation.head()\n",
    "accountContactRelation = accountContactRelation.rename(\n",
    "    columns={\n",
    "        \"Id\": \"Id AccountContactRelation\",\n",
    "        \"ContactId\": \"Id Contact Paciente\",\n",
    "        \"AccountId\": \"Id Account Empresa\",\n",
    "        \"RutContact__c\": \"Rut\",\n",
    "        \"Contact.AccountId\": \"Id Account Paciente\",\n",
    "    }\n",
    ")\n",
    "accountContactRelation.head()\n",
    "accountContactRelation[\"Rut\"] = accountContactRelation[\"Rut\"].astype(str)\n",
    "accountContactRelation[\"Rut\"] = accountContactRelation[\"Rut\"].str.replace(\"-\", \"\")\n",
    "accountContactRelation[\"Rut\"] = accountContactRelation[\"Rut\"].str.replace(\"–\", \"\")\n",
    "accountContactRelation[\"Rut\"] = accountContactRelation[\"Rut\"].astype(str)\n",
    "accountContactRelation[\"Rut\"] = accountContactRelation[\"Rut\"].str.replace(\".\", \"\")\n",
    "accountContactRelation[\"Rut\"] = accountContactRelation[\"Rut\"].str.upper()\n",
    "accountContactRelation[\"Rut\"] = accountContactRelation[\"Rut\"].str.strip()\n",
    "accountContactRelation.shape\n",
    "AccountContact_PacientesSF = pd.merge(\n",
    "    left=accountContactRelation,\n",
    "    right=Pacientes_IDrut,\n",
    "    how=\"left\",\n",
    "    left_on=\"Id Account Paciente\",\n",
    "    right_on=\"Id Account Paciente\",\n",
    ")\n",
    "AccountContact_PacientesSF.head() \"\"\""
   ]
  },
  {
   "cell_type": "markdown",
   "metadata": {},
   "source": [
    "empresa contacto convenio\n"
   ]
  },
  {
   "cell_type": "code",
   "execution_count": null,
   "metadata": {
    "notebookRunGroups": {
     "groupValue": "2"
    }
   },
   "outputs": [],
   "source": [
    "query_empresacontactoconvenio = (\n",
    "    \"select Id,Paciente__r.IdentificationId__pc, Empresa__r.P_liza__c,Empresa__r.Rut_Empresa__c, Empresa__c, Paciente__c,N_Documento_Titular__c, Relaci_n_Con_Asegurado__c, Identificador__c from EmpresaContactoConvenios__c where Empresa__r.Campa_a__c = '\"\n",
    "    + campaña\n",
    "    + \"'\"\n",
    ")\n",
    "empresacontactoconvenio = sf.smart_query(query_empresacontactoconvenio)\n",
    "empresacontactoconvenio.head()"
   ]
  },
  {
   "cell_type": "code",
   "execution_count": null,
   "metadata": {
    "notebookRunGroups": {
     "groupValue": "2"
    }
   },
   "outputs": [],
   "source": [
    "empresacontactoconvenio = empresacontactoconvenio.rename(\n",
    "    columns={\n",
    "        \"Id\": \"Id EmpresaContactoConvenio\",\n",
    "        \"Paciente__r.IdentificationId__pc\": \"Rut\",\n",
    "        \"Empresa__c\": \"Id Convenio Empresa\",\n",
    "        \"Paciente__c\": \"Id Account Paciente\",\n",
    "        \"N_Documento_Titular__c\": \"Rut Titular\",\n",
    "        \"Empresa__r.P_liza__c\":\"Poliza\",\n",
    "        \"Empresa__r.Rut_Empresa__c\":\"Rut Empresa\",\n",
    "        \"Relaci_n_Con_Asegurado__c\":\"Relación\",\n",
    "        \"Identificador__c\":\"Nombre Empresa\",\n",
    "        \"Campa_a__c\":\"Campaña\",\n",
    "    }\n",
    ")\n",
    "empresacontactoconvenio.head()"
   ]
  },
  {
   "cell_type": "code",
   "execution_count": null,
   "metadata": {
    "notebookRunGroups": {
     "groupValue": "2"
    }
   },
   "outputs": [],
   "source": [
    "empresacontactoconvenio[\"Rut\"] = empresacontactoconvenio[\"Rut\"].astype(str)\n",
    "empresacontactoconvenio[\"Rut\"] = empresacontactoconvenio[\"Rut\"].str.replace(\"-\", \"\")\n",
    "empresacontactoconvenio[\"Rut\"] = empresacontactoconvenio[\"Rut\"].str.replace(\"–\", \"\")\n",
    "empresacontactoconvenio[\"Rut\"] = empresacontactoconvenio[\"Rut\"].astype(str)\n",
    "empresacontactoconvenio[\"Rut\"] = empresacontactoconvenio[\"Rut\"].str.replace(\".\", \"\")\n",
    "empresacontactoconvenio[\"Rut\"] = empresacontactoconvenio[\"Rut\"].str.replace(\" \", \"\")\n",
    "empresacontactoconvenio[\"Rut\"] = empresacontactoconvenio[\"Rut\"].str.upper()\n",
    "empresacontactoconvenio[\"Rut\"] = empresacontactoconvenio[\"Rut\"].str.strip()\n",
    "\n",
    "empresacontactoconvenio[\"Rut Empresa\"] = empresacontactoconvenio[\"Rut Empresa\"].astype(str)\n",
    "empresacontactoconvenio[\"Rut Empresa\"] = empresacontactoconvenio[\"Rut Empresa\"].str.replace(\"-\", \"\")\n",
    "empresacontactoconvenio[\"Rut Empresa\"] = empresacontactoconvenio[\"Rut Empresa\"].str.replace(\"–\", \"\")\n",
    "empresacontactoconvenio[\"Rut Empresa\"] = empresacontactoconvenio[\"Rut Empresa\"].astype(str)\n",
    "empresacontactoconvenio[\"Rut Empresa\"] = empresacontactoconvenio[\"Rut Empresa\"].str.replace(\".\", \"\")\n",
    "empresacontactoconvenio[\"Rut Empresa\"] = empresacontactoconvenio[\"Rut Empresa\"].str.replace(\" \", \"\")\n",
    "empresacontactoconvenio[\"Rut Empresa\"] = empresacontactoconvenio[\"Rut Empresa\"].str.upper()\n",
    "empresacontactoconvenio[\"Rut Empresa\"] = empresacontactoconvenio[\"Rut Empresa\"].str.strip()\n",
    "\n",
    "empresacontactoconvenio[\"Poliza\"] = empresacontactoconvenio[\"Poliza\"].astype(str)\n",
    "empresacontactoconvenio[\"Poliza\"] = empresacontactoconvenio[\"Poliza\"].str.replace(\"-\", \"\")\n",
    "empresacontactoconvenio[\"Poliza\"] = empresacontactoconvenio[\"Poliza\"].str.replace(\"–\", \"\")\n",
    "empresacontactoconvenio[\"Poliza\"] = empresacontactoconvenio[\"Poliza\"].astype(str)\n",
    "empresacontactoconvenio[\"Poliza\"] = empresacontactoconvenio[\"Poliza\"].str.replace(\".\", \"\")\n",
    "empresacontactoconvenio[\"Poliza\"] = empresacontactoconvenio[\"Poliza\"].str.replace(\" \", \"\")\n",
    "empresacontactoconvenio[\"Poliza\"] = empresacontactoconvenio[\"Poliza\"].str.upper()\n",
    "empresacontactoconvenio[\"Poliza\"] = empresacontactoconvenio[\"Poliza\"].str.strip()\n",
    "\n",
    "\n",
    "empresacontactoconvenio.shape"
   ]
  },
  {
   "cell_type": "code",
   "execution_count": null,
   "metadata": {
    "notebookRunGroups": {
     "groupValue": "2"
    }
   },
   "outputs": [],
   "source": [
    "empresacontactoconvenio_PacientesSF = pd.merge(\n",
    "    left=empresacontactoconvenio,\n",
    "    right=Pacientes_IDrut,\n",
    "    how=\"left\",\n",
    "    left_on=\"Id Account Paciente\",\n",
    "    right_on=\"Id Account Paciente\",\n",
    ")\n",
    "empresacontactoconvenio_PacientesSF.head()"
   ]
  },
  {
   "cell_type": "code",
   "execution_count": null,
   "metadata": {},
   "outputs": [],
   "source": [
    "\"\"\" if(campaña!=\"MetLife\"):\n",
    "    pacientePrograma.to_excel(\"F:/Empresas SF/reportes/paciente_programas.xlsx\", index=False) \"\"\""
   ]
  },
  {
   "cell_type": "markdown",
   "metadata": {},
   "source": [
    "Rescatamos todos los ruts Id con su empresa desde la campaña\n"
   ]
  },
  {
   "cell_type": "code",
   "execution_count": null,
   "metadata": {
    "notebookRunGroups": {
     "groupValue": "2"
    }
   },
   "outputs": [],
   "source": [
    "#Pacientes_Archivo.head()"
   ]
  },
  {
   "cell_type": "markdown",
   "metadata": {},
   "source": [
    "Pacientes_con_id.to_excel(\"F:/Empresas SF/reportes/id.xlsx\", index=False)\n"
   ]
  },
  {
   "cell_type": "markdown",
   "metadata": {},
   "source": [
    "Pacientes_Archivo.drop_duplicates(\n",
    "[\n",
    "\"rut\",\n",
    "\"rutT\",\n",
    "\"LLaveEmpresa\",\n",
    "\"LLAveRut\",\n",
    "],\n",
    "keep=\"last\",\n",
    ")\n",
    "Pacientes_Archivo.shape\n"
   ]
  },
  {
   "cell_type": "code",
   "execution_count": null,
   "metadata": {
    "notebookRunGroups": {
     "groupValue": "2"
    }
   },
   "outputs": [],
   "source": [
    "print(campaña)"
   ]
  },
  {
   "cell_type": "code",
   "execution_count": null,
   "metadata": {
    "notebookRunGroups": {
     "groupValue": "2"
    }
   },
   "outputs": [],
   "source": [
    "Pacientes_Archivo[\"RutEstaoNo\"] = Pacientes_Archivo[\"rut\"].isin(Pacientes_SF[\"Rut\"])"
   ]
  },
  {
   "attachments": {},
   "cell_type": "markdown",
   "metadata": {},
   "source": []
  },
  {
   "cell_type": "code",
   "execution_count": null,
   "metadata": {},
   "outputs": [],
   "source": [
    "# Pacientes_Archivo.to_excel(\"F:/Empresas SF/reportes/Pacientes_Archivo.xlsx\", index=False)"
   ]
  },
  {
   "cell_type": "code",
   "execution_count": null,
   "metadata": {
    "notebookRunGroups": {
     "groupValue": "2"
    }
   },
   "outputs": [],
   "source": [
    "# aca a los pacientes del archivo se les asigna sus datos en SF\n",
    "Pacientes_con_id = pd.merge(\n",
    "    left=Pacientes_Archivo,\n",
    "    right=Pacientes_SF,\n",
    "    how=\"left\",\n",
    "    left_on=\"rut\",\n",
    "    right_on=\"Rut\",\n",
    ")\n",
    "# Pacientes_con_id.to_excel(\"F:/Empresas SF/reportes/Pacientes_con_id.xlsx\", index=False)\n",
    "Pacientes_con_id.shape"
   ]
  },
  {
   "cell_type": "code",
   "execution_count": null,
   "metadata": {
    "notebookRunGroups": {
     "groupValue": "2"
    }
   },
   "outputs": [],
   "source": [
    "#Pacientes_con_id.head()\n",
    "#Pacientes_con_id.to_excel(\"F:/Empresas SF/reportes/id.xlsx\", index=False)"
   ]
  },
  {
   "cell_type": "code",
   "execution_count": null,
   "metadata": {
    "notebookRunGroups": {
     "groupValue": "2"
    }
   },
   "outputs": [],
   "source": [
    "regex = re.compile(r\"([A-Za-z0-9]+[.-_])*[A-Za-z0-9]+@[A-Za-z0-9-]+(\\.[A-Z|a-z]{2,})+\")\n",
    "\n",
    "\n",
    "def isValid(email):\n",
    "    if re.fullmatch(regex, email):\n",
    "        return email\n",
    "    else:\n",
    "        return \"\"\n",
    "\n",
    "\n",
    "def fechaValida(fecha):\n",
    "    if (len(str(fecha)) <= 9 ):\n",
    "        fecha = \"\"\n",
    "        \n",
    "    fecha = str(fecha)\n",
    "    fecha1 = str(fecha)\n",
    "    \n",
    "    #datetime.strptime(fecha, '%Y-%m-%d')\n",
    "    \n",
    "    try:\n",
    "        fecha = datetime.strptime(fecha, '%Y-%m-%d %H:%M:%S')\n",
    "        date_string = fecha1\n",
    "        print(\"date_string =\", date_string)\n",
    "        print(\"type of date_string =\", type(date_string))\n",
    "\n",
    "        date_object = datetime.strptime(date_string, \"%Y-%m-%d %H:%M:%S\")\n",
    "\n",
    "        print(\"date_object =\", date_object)\n",
    "        print(\"type of date_object =\", type(date_object))\n",
    "        return date_object\n",
    "    except ValueError:\n",
    "        return datetime.utcnow().strftime('%Y-%m-%d %H:%M:%S')\n",
    "    "
   ]
  },
  {
   "cell_type": "code",
   "execution_count": null,
   "metadata": {
    "notebookRunGroups": {
     "groupValue": "2"
    }
   },
   "outputs": [],
   "source": [
    "noestan = pd.DataFrame()\n",
    "if (\"nacimiento\" in noestan.columns) == True:  \n",
    "    Pacientes_con_id[\"dertyuiop\"] = Pacientes_con_id[\"nacimiento\"]\n",
    "    Pacientes_con_id[\"derty\"] = Pacientes_con_id[\"nacimiento\"].apply(lambda y: fechaValida(y))\n",
    "    Pacientes_con_id.head()\n",
    "noestan = Pacientes_con_id[(Pacientes_con_id[\"RutEstaoNo\"] == False)]"
   ]
  },
  {
   "cell_type": "code",
   "execution_count": null,
   "metadata": {
    "notebookRunGroups": {
     "groupValue": "2"
    }
   },
   "outputs": [],
   "source": [
    "#noestan.to_excel(\"F:/Empresas SF/reportes/noestan.xlsx\", index=False)\n",
    "noestan.head()"
   ]
  },
  {
   "cell_type": "code",
   "execution_count": null,
   "metadata": {
    "notebookRunGroups": {
     "groupValue": "2"
    }
   },
   "outputs": [],
   "source": [
    "\n",
    "\n",
    "# Final_pacientes_y_empresa = Pacientes_con_ID\n",
    "Subir_pacientes = pd.DataFrame()\n",
    "# Subir_pacientes[\"Email_Seteado__c\"] = \"\"\n",
    "#Subir_pacientes[\"RutEstaoNo\"] = Pacientes_con_id[\"RutEstaoNo\"]\n",
    "\n",
    "# agrupar = empresasqfaltan[empresasqfaltan['si']==False]\n",
    "Subir_pacientes[\"rut1\"] = noestan[\"rut\"]\n",
    "Subir_pacientes[\"rut2\"] = noestan[\"rutT\"]\n",
    "\n",
    "if (\"nombres\" in noestan.columns) == True:\n",
    "    Subir_pacientes[\"FirstName\"] = noestan[\"nombres\"]\n",
    "if (\"apellidos\" in noestan.columns) == True:\n",
    "    Subir_pacientes[\"LastName\"] = noestan[\"apellidos\"]\n",
    "if (\"rut\" in noestan.columns) == True:\n",
    "    Subir_pacientes[\"IdentificationId__pc\"] = (\n",
    "        noestan[\"rut\"].astype(str).str.upper()\n",
    "    )\n",
    "\n",
    "\n",
    "if (\"email\" in noestan.columns) == True:\n",
    "    # Pacientes_con_id[\"email\"] = Pacientes_con_id[\"email\"].astype(str).str.lower().replace(\"nan\",\"\")\n",
    "    Subir_pacientes[\"PersonEmail\"] = noestan[\"email\"].astype(str).str.lower()\n",
    "    Subir_pacientes[\"PersonEmail\"] = Subir_pacientes[\"PersonEmail\"].apply(\n",
    "        lambda y: isValid(y)\n",
    "    )\n",
    "    Subir_pacientes[\"Email_Seteado__c\"] = np.where(\n",
    "        Subir_pacientes[\"PersonEmail\"] != \"\", \"True\", \"False\"\n",
    "    )\n",
    "\n",
    "    # Subir_pacientes[\"PersonEmail\"] = Subir_pacientes[\"PersonEmail\"].str.replace(\"no informado\", \"\")\n",
    "#if (\"nacimiento\" in Pacientes_con_id.columns) == True:    \n",
    "#    Subir_pacientes[\"PersonBirthdate\"] = pd.to_datetime(Pacientes_con_id[\"nacimiento\"].astype(str), format=\"%Y-%m-%d\")  \n",
    "if (\"nacimiento\" in noestan.columns) == True:    \n",
    "    #try:\n",
    "    Subir_pacientes[\"PersonBirthdate\"] = noestan[\"nacimiento\"].apply(lambda y: fechaValida(y))\n",
    "    Subir_pacientes[\"derty\"] = noestan[\"nacimiento\"].apply(lambda y: fechaValida(y))\n",
    "    #except ValueError:\n",
    "        #Subir_pacientes[\"PersonBirthdate\"] = pd.to_datetime(\"1900-01-01\", format=\"%Y-%m-%d\")\n",
    " \n",
    "if (\"sexo\" in noestan.columns) == True:\n",
    "    Sexo = {\n",
    "        \"H\": \"Hombre\",\n",
    "        \"m\": \"Hombre\",\n",
    "        \"Masculino\": \"Hombre\",\n",
    "        \"Femenino\": \"Mujer\",\n",
    "        \"\": \"Prefiero no responder\",\n",
    "        \"HOMBRE\": \"Hombre\",\n",
    "        \"MUJER\": \"Mujer\",\n",
    "        \"F\": \"Mujer\",\n",
    "        \"O\": \"Prefiero no responder\",\n",
    "        \"Ambos\": \"Prefiero no responder\",\n",
    "        \"N\": \"Prefiero no responder\",\n",
    "        \"Otro\": \"Prefiero no responder\",\n",
    "        \"n\": \"Prefiero no responder\",\n",
    "        \"N\": \"Prefiero no responder\",\n",
    "        \"FEMENINO\": \"Mujer\",\n",
    "        \"f\": \"Mujer\",\n",
    "        \"MASCULINO\": \"Hombre\",\n",
    "        \"m\": \"Hombre\",\n",
    "        \"M \": \"Hombre\",\n",
    "        \"M\": \"Hombre\",\n",
    "        \"F \": \"Mujer\",\n",
    "        \"Varón\": \"Hombre\",\n",
    "        \"varon\": \"Hombre\",\n",
    "    }\n",
    "    noestan.replace({\"sexo\": Sexo}, inplace=True)\n",
    "    Subir_pacientes[\"HealthCloudGA__Gender__pc\"] = noestan[\"sexo\"]\n",
    "if (\"direccion\" in noestan.columns) == True:\n",
    "    Subir_pacientes[\"BillingStreet\"] = (\n",
    "        noestan[\"direccion\"].str.lower().replace(\"nan\", \"\")\n",
    "    )\n",
    "    # Subir_pacientes[\"BillingStreet\"] = Final_pacientes_y_empresa[\"direccion\"]\n",
    "if (\"comuna\" in noestan.columns) == True:\n",
    "    # Subir_pacientes[\"BillingState\"] = Final_pacientes_y_empresa[\"comuna\"]\n",
    "    Subir_pacientes[\"BillingState\"] = (\n",
    "        noestan[\"comuna\"].str.title().replace(\"NaN\", \"\")\n",
    "    )\n",
    "    # Subir_pacientes[\"BillingState\"] = Final_pacientes_y_empresa[\"comuna\"]\n",
    "if (\"ciudad\" in noestan.columns) == True:\n",
    "    # Subir_pacientes[\"BillingCity\"] = Final_pacientes_y_empresa[\"ciudad\"]\n",
    "    Subir_pacientes[\"BillingCity\"] = (\n",
    "        noestan[\"ciudad\"].str.title().replace(\"NaN\", \"\")\n",
    "    )\n",
    "\n",
    "if (\"cargo\" in Pacientes_con_id.columns) == True:\n",
    "    Subir_pacientes[\"PersonTitle\"] = noestan[\"cargo\"].str.title()\n",
    "\n",
    "if (\"division\" in noestan.columns) == True:\n",
    "    Subir_pacientes[\"PersonDepartment\"] = noestan[\"division\"].str.title()\n",
    "\n",
    "if (\"celular\" in noestan.columns) == True:\n",
    "    Subir_pacientes[\"Phone\"] = (\n",
    "        noestan[\"celular\"].apply(str).str.strip().replace(\"+\", \"\")\n",
    "    )\n",
    "    Subir_pacientes[\"Phone\"] = Subir_pacientes[\"Phone\"].str.replace(\"NaN\", \"\")\n",
    "    Subir_pacientes[\"Phone\"] = Subir_pacientes[\"Phone\"].str.replace(\".\", \"\")\n",
    "    Subir_pacientes[\"Phone\"] = Subir_pacientes[\"Phone\"].str.replace(\"Nan\", \"\")\n",
    "    Subir_pacientes[\"Phone\"] = Subir_pacientes[\"Phone\"].str.replace(\"-\", \"\")\n",
    "    Subir_pacientes[\"Phone\"] = Subir_pacientes[\"Phone\"].str.replace(\"0\", \"\")\n",
    "    Subir_pacientes[\"Phone\"] = Subir_pacientes[\"Phone\"].str.replace(\"No Informado\", \"\")\n",
    "    Subir_pacientes[\"Phone\"] = Subir_pacientes[\"Phone\"].str.replace(\"_\", \"\")\n",
    "    Subir_pacientes[\"Phone\"] = Subir_pacientes[\"Phone\"].str.replace(\"/\", \"\")\n",
    "    Subir_pacientes[\"Phone\"] = Subir_pacientes[\"Phone\"].str.replace(\"+\", \"\")\n",
    "    Subir_pacientes[\"Phone\"] = Subir_pacientes[\"Phone\"].str.replace(\"nan\", \"\")\n",
    "    Subir_pacientes[\"Phone\"] = Subir_pacientes[\"Phone\"].str.replace(\"null\", \"\")\n",
    "    Subir_pacientes[\"Phone\"] = Subir_pacientes[\"Phone\"].str.replace(\"NULL\", \"\")\n",
    "\n",
    "\n",
    "Subir_pacientes[\"RecordTypeId\"] = \"0128c000002Byp4AAC\"\n",
    "Subir_pacientes[\"Cuenta_validada__c\"] = \"True\"\n",
    "\n",
    "\n",
    "if Pais == \"Chile\":\n",
    "    Subir_pacientes[\"BillingCountry\"] = \"Chile\"\n",
    "    Subir_pacientes[\"Identification_Type__c\"] = \"RUT\"\n",
    "    Subir_pacientes[\"Pa_s_del_Paciente__c\"] = \"a1U8c000005dAtnEAE\"\n",
    "else:\n",
    "    Subir_pacientes[\"BillingCountry\"] = \"México\"\n",
    "    Subir_pacientes[\"Identification_Type__c\"] = \"RUT\"\n",
    "    Subir_pacientes[\"Pa_s_del_Paciente__c\"] = \"a1U8c000005dAtsEAE\"\n",
    "\n",
    "#Subir_pacientes_Que_no_Estan = Subir_pacientes\n",
    "#Subir_pacientes_Estan = Subir_pacientes[Subir_pacientes[\"RutEstaoNo\"] == True]\n",
    "#Subir_pacientes = Subir_pacientes[Subir_pacientes[\"RutEstaoNo\"] == False]\n",
    "\n",
    "#Subir_pacientes[\"PersonBirthdate\"] = Subir_pacientes[\"PersonBirthdate\"].str.replace(\"0001-01-01 00:00:00\", \"\")\n",
    "\n",
    "# Subir_pacientes.PersonEmail = Subir_pacientes.PersonEmail.fillna('')\n",
    "Subir_pacientes = Subir_pacientes.drop_duplicates(\n",
    "    [\n",
    "        \"IdentificationId__pc\",\n",
    "    ],\n",
    "    keep=\"last\",\n",
    ")\n",
    "\"\"\" Subir_pacientes.to_excel(\n",
    "    \"F:/Empresas SF/reportes/Pacientes_Que_No_Estaban.xlsx\", index=False\n",
    ") \"\"\"\n",
    "Subir_pacientes.head()"
   ]
  },
  {
   "cell_type": "code",
   "execution_count": null,
   "metadata": {
    "notebookRunGroups": {
     "groupValue": "2"
    }
   },
   "outputs": [],
   "source": [
    "Subir_pacientes.shape"
   ]
  },
  {
   "cell_type": "code",
   "execution_count": null,
   "metadata": {
    "notebookRunGroups": {
     "groupValue": "2"
    }
   },
   "outputs": [],
   "source": [
    "def traerId(rut):\n",
    "    if len(rut) >= 8:\n",
    "        busquedaDatos = \"FIND {\" + rut + \"} RETURNING Account(Id,IdentificationId__pc where IdentificationId__pc = '\" + rut + \"')\"\n",
    "        derty = dict(sf.search(busquedaDatos))\n",
    "        if derty[\"searchRecords\"] != []:\n",
    "            if derty[\"searchRecords\"][0][\"attributes\"][\"type\"] == \"Account\":\n",
    "                jote = derty[\"searchRecords\"][0][\"Id\"]\n",
    "                dertyd = derty[\"searchRecords\"][0][\"IdentificationId__pc\"]\n",
    "                print(jote + \" \" + dertyd)\n",
    "                return jote\n",
    "            else:\n",
    "                print(\"no\")\n",
    "        else:\n",
    "            print(\"vacio\")\n",
    "    else:\n",
    "        return \"None\"\n",
    "\n",
    "\n",
    "def traerContact(ide):\n",
    "    ide = str(ide)\n",
    "    if len(ide) >= 12:\n",
    "        idcontact = sf.Account.get(ide)\n",
    "        return idcontact[\"PersonContactId\"]\n",
    "    else:\n",
    "        return \"NONES\"\n",
    "\n",
    "\n",
    "def agregarPaciente(listado):\n",
    "    vListado = listado.split(\",\")\n",
    "    \n",
    "    derty = None\n",
    "    #vListado[9] = datetime.strptime(vListado[9], \"%Y-%m-%d %H:%M:%S\")\n",
    "        \n",
    "        \n",
    "    if (vListado[9] == \"\"):                               \n",
    "        try:\n",
    "            derty = dict(\n",
    "                sf.Account.create(\n",
    "                    # derty = sf.Account.create(\n",
    "                    {\n",
    "                        \"FirstName\": vListado[0],\n",
    "                        \"LastName\": vListado[1],\n",
    "                        \"IdentificationId__pc\": vListado[2],\n",
    "                        \"RecordTypeId\": vListado[3],\n",
    "                        \"BillingCountry\": vListado[4],\n",
    "                        \"Identification_Type__c\": vListado[5],\n",
    "                        \"Pa_s_del_Paciente__c\": vListado[6],\n",
    "                        \"Cuenta_validada__c\": True,\n",
    "                        \"PersonEmail\": vListado[8],  \n",
    "                                          \n",
    "                        \"HealthCloudGA__Gender__pc\": vListado[10],\n",
    "                        \"Phone\": vListado[11],\n",
    "                        \"BillingCity\": vListado[12],\n",
    "                        \"BillingState\": vListado[13],\n",
    "                        \"BillingStreet\": vListado[14],\n",
    "                        \"Email_Seteado__c\": bool(vListado[15]),\n",
    "                    }\n",
    "                )\n",
    "            )\n",
    "            # return derty[\"id\"]\n",
    "        except SalesforceMalformedRequest as e:\n",
    "            print(f\"Malformed request error: {e}\")\n",
    "            error = {e}\n",
    "\n",
    "        if derty is not None:\n",
    "            return derty[\"id\"]\n",
    "        else:\n",
    "            traerId(vListado[2])\n",
    "    else:\n",
    "        try:\n",
    "            derty = dict(\n",
    "                sf.Account.create(\n",
    "                    # derty = sf.Account.create(\n",
    "                    {\n",
    "                        \"FirstName\": vListado[0],\n",
    "                        \"LastName\": vListado[1],\n",
    "                        \"IdentificationId__pc\": vListado[2],\n",
    "                        \"RecordTypeId\": vListado[3],\n",
    "                        \"BillingCountry\": vListado[4],\n",
    "                        \"Identification_Type__c\": vListado[5],\n",
    "                        \"Pa_s_del_Paciente__c\": vListado[6],\n",
    "                        \"Cuenta_validada__c\": True,\n",
    "                        \"PersonEmail\": vListado[8],\n",
    "                        \"PersonBirthdate\": vListado[9] ,\n",
    "                        #\"PersonBirthdate\":datetime.strptime(vListado[9], \"%Y-%m-%d %H:%M:%S\").formatGMT('yyyy-MM-dd\\'T\\'HH:mm:ss.SSS\\'Z\\'' + '\"'),\n",
    "                        \"HealthCloudGA__Gender__pc\": vListado[10],\n",
    "                        \"Phone\": vListado[11],\n",
    "                        \"BillingCity\": vListado[12],\n",
    "                        \"BillingState\": vListado[13],\n",
    "                        \"BillingStreet\": vListado[14],\n",
    "                        \"Email_Seteado__c\": bool(vListado[15]),\n",
    "                    }\n",
    "                )\n",
    "            )\n",
    "            # return derty[\"id\"]\n",
    "        except SalesforceMalformedRequest as e:\n",
    "            print(f\"Malformed request error: {e}\")\n",
    "            error = {e}\n",
    "\n",
    "        if derty is not None:\n",
    "            return derty[\"id\"]\n",
    "        else:\n",
    "            traerId(vListado[2])\n",
    "   "
   ]
  },
  {
   "cell_type": "code",
   "execution_count": null,
   "metadata": {
    "notebookRunGroups": {
     "groupValue": "2"
    }
   },
   "outputs": [],
   "source": [
    "Subir_pacientes.head()"
   ]
  },
  {
   "cell_type": "code",
   "execution_count": null,
   "metadata": {
    "notebookRunGroups": {
     "groupValue": "2"
    }
   },
   "outputs": [],
   "source": [
    "Subir_pacientes = Subir_pacientes.drop_duplicates(\n",
    "    [\n",
    "        \"IdentificationId__pc\",\n",
    "    ],\n",
    "    keep=\"last\",\n",
    ")\n",
    "\n",
    "\n",
    "Subir_pacientes.shape"
   ]
  },
  {
   "cell_type": "code",
   "execution_count": null,
   "metadata": {
    "notebookRunGroups": {
     "groupValue": "2"
    }
   },
   "outputs": [],
   "source": [
    "\"\"\" Subir_pacientes[\"Id\"] = Subir_pacientes[\"Id\"].astype(str)\n",
    "Subir_pacientes = Subir_pacientes[Subir_pacientes[\"Id\"].str.len() <= 12]\n",
    "# Subir_pacientes[\"numero\"] = Subir_pacientes[\"Id\"].str.len()\n",
    "Subir_pacientes.shape \"\"\""
   ]
  },
  {
   "cell_type": "markdown",
   "metadata": {},
   "source": [
    "ACA SE CREAN LOS PACIENTES Q NO ESTAN"
   ]
  },
  {
   "cell_type": "code",
   "execution_count": null,
   "metadata": {
    "notebookRunGroups": {
     "groupValue": "2"
    }
   },
   "outputs": [],
   "source": [
    "Subir_pacientes[\"dato_account\"] = \"\"\n",
    "if (\"FirstName\" in Subir_pacientes.columns) == True:\n",
    "    Subir_pacientes[\"dato_account\"] = Subir_pacientes[\"dato_account\"] + Subir_pacientes[\n",
    "        \"FirstName\"\n",
    "    ].astype(str)\n",
    "if (\"LastName\" in Subir_pacientes.columns) == True:\n",
    "    Subir_pacientes[\"dato_account\"] = (\n",
    "        Subir_pacientes[\"dato_account\"] + \",\" + Subir_pacientes[\"LastName\"].astype(str)\n",
    "    )\n",
    "if (\"IdentificationId__pc\" in Subir_pacientes.columns) == True:\n",
    "    Subir_pacientes[\"dato_account\"] = (\n",
    "        Subir_pacientes[\"dato_account\"]\n",
    "        + \",\"\n",
    "        + Subir_pacientes[\"IdentificationId__pc\"].astype(str)\n",
    "    )\n",
    "if (\"RecordTypeId\" in Subir_pacientes.columns) == True:\n",
    "    Subir_pacientes[\"dato_account\"] = (\n",
    "        Subir_pacientes[\"dato_account\"]\n",
    "        + \",\"\n",
    "        + Subir_pacientes[\"RecordTypeId\"].astype(str)\n",
    "    )\n",
    "if (\"BillingCountry\" in Subir_pacientes.columns) == True:\n",
    "    Subir_pacientes[\"dato_account\"] = (\n",
    "        Subir_pacientes[\"dato_account\"]\n",
    "        + \",\"\n",
    "        + Subir_pacientes[\"BillingCountry\"].astype(str)\n",
    "    )\n",
    "if (\"Identification_Type__c\" in Subir_pacientes.columns) == True:\n",
    "    Subir_pacientes[\"dato_account\"] = (\n",
    "        Subir_pacientes[\"dato_account\"]\n",
    "        + \",\"\n",
    "        + Subir_pacientes[\"Identification_Type__c\"].astype(str)\n",
    "    )\n",
    "if (\"Pa_s_del_Paciente__c\" in Subir_pacientes.columns) == True:\n",
    "    Subir_pacientes[\"dato_account\"] = (\n",
    "        Subir_pacientes[\"dato_account\"]\n",
    "        + \",\"\n",
    "        + Subir_pacientes[\"Pa_s_del_Paciente__c\"].astype(str)\n",
    "    )\n",
    "if (\"Cuenta_validada__c\" in Subir_pacientes.columns) == True:\n",
    "    Subir_pacientes[\"dato_account\"] = (\n",
    "        Subir_pacientes[\"dato_account\"]\n",
    "        + \",\"\n",
    "        + Subir_pacientes[\"Cuenta_validada__c\"].astype(str)\n",
    "    )\n",
    "\n",
    "if (\"PersonEmail\" in Subir_pacientes.columns) == True:\n",
    "    Subir_pacientes[\"dato_account\"] = (\n",
    "        Subir_pacientes[\"dato_account\"]\n",
    "        + \",\"\n",
    "        + Subir_pacientes[\"PersonEmail\"].astype(str)\n",
    "    )\n",
    "else:\n",
    "    Subir_pacientes[\"dato_account\"] = Subir_pacientes[\"dato_account\"] + \",\"\n",
    "\n",
    "if (\"PersonBirthdate\" in Subir_pacientes.columns) == True:\n",
    "    Subir_pacientes[\"dato_account\"] = (Subir_pacientes[\"dato_account\"] + \",\" + Subir_pacientes[\"PersonBirthdate\"].apply(lambda x: x.isoformat() + \"Z\"))\n",
    "else:\n",
    "    Subir_pacientes[\"dato_account\"] = Subir_pacientes[\"dato_account\"] + \",\"\n",
    "if (\"HealthCloudGA__Gender__pc\" in Subir_pacientes.columns) == True:\n",
    "    Subir_pacientes[\"dato_account\"] = (\n",
    "        Subir_pacientes[\"dato_account\"]\n",
    "        + \",\"\n",
    "        + Subir_pacientes[\"HealthCloudGA__Gender__pc\"].astype(str)\n",
    "    )\n",
    "else:\n",
    "    Subir_pacientes[\"dato_account\"] = Subir_pacientes[\"dato_account\"] + \",\"\n",
    "if (\"Phone\" in Subir_pacientes.columns) == True:\n",
    "    Subir_pacientes[\"dato_account\"] = (\n",
    "        Subir_pacientes[\"dato_account\"] + \",\" + Subir_pacientes[\"Phone\"].astype(str)\n",
    "    )\n",
    "else:\n",
    "    Subir_pacientes[\"dato_account\"] = Subir_pacientes[\"dato_account\"] + \",\"\n",
    "if (\"BillingCity\" in Subir_pacientes.columns) == True:\n",
    "    Subir_pacientes[\"dato_account\"] = (\n",
    "        Subir_pacientes[\"dato_account\"]\n",
    "        + \",\"\n",
    "        + Subir_pacientes[\"BillingCity\"].astype(str)\n",
    "    )\n",
    "else:\n",
    "    Subir_pacientes[\"dato_account\"] = Subir_pacientes[\"dato_account\"] + \",\"\n",
    "if (\"BillingState\" in Subir_pacientes.columns) == True:\n",
    "    Subir_pacientes[\"dato_account\"] = (\n",
    "        Subir_pacientes[\"dato_account\"]\n",
    "        + \",\"\n",
    "        + Subir_pacientes[\"BillingState\"].astype(str)\n",
    "    )\n",
    "else:\n",
    "    Subir_pacientes[\"dato_account\"] = Subir_pacientes[\"dato_account\"] + \",\"\n",
    "if (\"BillingStreet\" in Subir_pacientes.columns) == True:\n",
    "    Subir_pacientes[\"dato_account\"] = (\n",
    "        Subir_pacientes[\"dato_account\"]\n",
    "        + \",\"\n",
    "        + Subir_pacientes[\"BillingStreet\"].astype(str)\n",
    "    )\n",
    "else:\n",
    "    Subir_pacientes[\"dato_account\"] = Subir_pacientes[\"dato_account\"] + \",\"\n",
    "if (\"PersonEmail\" in Subir_pacientes.columns) == True:\n",
    "    Subir_pacientes[\"dato_account\"] = (\n",
    "        Subir_pacientes[\"dato_account\"]\n",
    "        + \",\"\n",
    "        + Subir_pacientes[\"Email_Seteado__c\"].astype(str)\n",
    "    )\n",
    "else:\n",
    "    Subir_pacientes[\"dato_account\"] = Subir_pacientes[\"dato_account\"] + \",\"\n",
    "\n",
    "# Subir_pacientes[\"dato_account\"] =  Subir_pacientes[\"dato_account\"] =\n",
    "\n",
    "Subir_pacientes[\"Id_creado\"] = Subir_pacientes[\"dato_account\"].apply(\n",
    "    lambda x: agregarPaciente(x)\n",
    ")\n"
   ]
  },
  {
   "cell_type": "code",
   "execution_count": null,
   "metadata": {},
   "outputs": [],
   "source": [
    "\"\"\" Subir_pacientes[\"Id\"] = Subir_pacientes[\"IdentificationId__pc\"].apply(\n",
    "    lambda y: traerId(y)\n",
    ") \"\"\"\n",
    "#Subir_pacientes[\"Id_creado\"]"
   ]
  },
  {
   "cell_type": "code",
   "execution_count": null,
   "metadata": {
    "notebookRunGroups": {
     "groupValue": "2"
    }
   },
   "outputs": [],
   "source": [
    "query2 = \"select P_liza__c, Nombre_de_Empresa__c,Identificador__c, Rut_Empresa__c, Empresa_Padre__r.Name, Empresa__r.name,Holding__c, Plan__c, Pais__c, Activo__c, Id from Datos_Empresa__c WHERE Empresa_Padre__r.Name = '\" + campaña + \"' order by CreatedDate\"\n",
    "\n",
    "df2 = sf.smart_query(query2)\n",
    "df2[\"LLave\"] = df2[\"Rut_Empresa__c\"].str.upper().str.replace(\"-\", \"\") + df2[\"P_liza__c\"]\n",
    "\n",
    "df2[\"dato\"] = 1\n",
    "df2.to_excel(\"F:/Empresas SF/reportes/empresas_asociadas.xlsx\", index=False)\n",
    "df2.head()\n",
    "df2.shape"
   ]
  },
  {
   "cell_type": "code",
   "execution_count": null,
   "metadata": {
    "notebookRunGroups": {
     "groupValue": "2"
    }
   },
   "outputs": [],
   "source": [
    "#RELACION EMPRESA PACIENMTES ---- EMPRESACONTACTOCONVENIOS\n",
    "\n",
    "\n",
    "sinId = pd.DataFrame()\n",
    "Subir_pacientes[\"Id_creado\"] = Subir_pacientes[\"Id_creado\"].astype(str)\n",
    "sinId = Subir_pacientes[Subir_pacientes[\"Id_creado\"].astype(str).str.len() < 12]\n",
    "Subir_pacientes = Subir_pacientes[Subir_pacientes[\"Id_creado\"].astype(str).str.len() >= 12]\n",
    "sinId.shape"
   ]
  },
  {
   "cell_type": "code",
   "execution_count": null,
   "metadata": {
    "notebookRunGroups": {
     "groupValue": "2"
    }
   },
   "outputs": [],
   "source": [
    "sinId.head()"
   ]
  },
  {
   "cell_type": "code",
   "execution_count": null,
   "metadata": {
    "notebookRunGroups": {
     "groupValue": "2"
    }
   },
   "outputs": [],
   "source": [
    "sinId[\"Id_creado\"] = sinId[\"rut1\"].apply(lambda y: traerId(y))\n",
    "\n",
    "Subir_pacientes = pd.concat([Subir_pacientes, sinId], axis=0)\n",
    "Subir_pacientes.shape"
   ]
  },
  {
   "cell_type": "code",
   "execution_count": null,
   "metadata": {
    "notebookRunGroups": {
     "groupValue": "2"
    }
   },
   "outputs": [],
   "source": [
    "\"\"\" Subir_pacientes.to_excel(\n",
    "    \"F:/Empresas SF/reportes/dertyuiop.xlsx\", index=False\n",
    ")\n",
    "Subir_pacientes.head() \"\"\""
   ]
  },
  {
   "cell_type": "code",
   "execution_count": null,
   "metadata": {
    "notebookRunGroups": {
     "groupValue": "2"
    }
   },
   "outputs": [],
   "source": [
    "Subir_pacientes = Subir_pacientes[\n",
    "    [\n",
    "        \"rut1\",\n",
    "        \"rut2\",\n",
    "        \"Id_creado\",\n",
    "        \n",
    "    ]\n",
    "]\n",
    "\n",
    "\n",
    "\n"
   ]
  },
  {
   "cell_type": "code",
   "execution_count": null,
   "metadata": {
    "notebookRunGroups": {
     "groupValue": "2"
    }
   },
   "outputs": [],
   "source": [
    "Subir_pacientes.shape"
   ]
  },
  {
   "cell_type": "code",
   "execution_count": null,
   "metadata": {
    "notebookRunGroups": {
     "groupValue": "2"
    }
   },
   "outputs": [],
   "source": [
    "Pacientes_con_id[\"Id_creado\"] = Pacientes_con_id[\"Id Account Paciente\"]"
   ]
  },
  {
   "cell_type": "code",
   "execution_count": null,
   "metadata": {
    "notebookRunGroups": {
     "groupValue": "2"
    }
   },
   "outputs": [],
   "source": [
    "Pacientes_con_id.shape"
   ]
  },
  {
   "cell_type": "code",
   "execution_count": null,
   "metadata": {
    "notebookRunGroups": {
     "groupValue": "2"
    }
   },
   "outputs": [],
   "source": [
    "\n",
    "#noestan[\"Id Account Paciente\"] = np.where(Subir_pacientes[\"IdentificationId__pc\"] == noestan[\"rut\"],Subir_pacientes[\"Id_creado\"] + \"SI\",\"NO\")\n",
    "todos_con_Id = pd.merge(\n",
    "    left=Pacientes_con_id,\n",
    "    right=Subir_pacientes,\n",
    "    how=\"left\",\n",
    "    left_on=\"rut\",\n",
    "    right_on=\"rut1\",\n",
    ")\n",
    "\n",
    "todos_con_Id = todos_con_Id[\n",
    "    [\n",
    "        \"poliza\",\n",
    "        #\"empleador\",\n",
    "        \"rutE\",\n",
    "        \"rut\",\n",
    "        \"rutT\",\n",
    "        \"Id_creado_x\",\n",
    "        \"Id_creado_y\",\n",
    "    ]\n",
    "]\n",
    "\n",
    "todos_con_Id.shape\n"
   ]
  },
  {
   "cell_type": "code",
   "execution_count": null,
   "metadata": {
    "notebookRunGroups": {
     "groupValue": "2"
    }
   },
   "outputs": [],
   "source": [
    "todos_con_Id.head()"
   ]
  },
  {
   "cell_type": "code",
   "execution_count": null,
   "metadata": {
    "notebookRunGroups": {
     "groupValue": "2"
    }
   },
   "outputs": [],
   "source": [
    "todos_con_Id.Id_creado_x.fillna(todos_con_Id[\"Id_creado_y\"], inplace=True)\n",
    "todos_con_Id.Id_creado_x.fillna(\"FARSO\", inplace=True)\n",
    "todos_con_Id = todos_con_Id[todos_con_Id[\"Id_creado_x\"] != \"FARSO\"]\n",
    "todos_con_Id2 = todos_con_Id[todos_con_Id[\"Id_creado_x\"] == \"FARSO\"]\n",
    "todos_con_Id2[\"Id_creado_x\"] = todos_con_Id2[\"rut\"].apply(lambda y: traerId(y))\n",
    "todos_con_Id = pd.concat([todos_con_Id, todos_con_Id2], axis=0)"
   ]
  },
  {
   "cell_type": "code",
   "execution_count": null,
   "metadata": {},
   "outputs": [],
   "source": [
    "todos_con_Id.head()"
   ]
  },
  {
   "cell_type": "code",
   "execution_count": null,
   "metadata": {
    "notebookRunGroups": {
     "groupValue": "2"
    }
   },
   "outputs": [],
   "source": [
    "\"\"\" todos_con_Id.to_excel(\n",
    "    \"F:/Empresas SF/reportes/todos_con_Id.xlsx\", index=False\n",
    ") \"\"\"\n"
   ]
  },
  {
   "cell_type": "code",
   "execution_count": null,
   "metadata": {
    "notebookRunGroups": {
     "groupValue": "2"
    }
   },
   "outputs": [],
   "source": [
    "if campaña == \"Southbridge Plan Mujer\":\n",
    "    VempresaConvenio = \"a3yRN0000006sVTYAY\"\n",
    "elif campaña == \"Southbridge\":\n",
    "    \n",
    "    VempresaConvenio = \"a3yRN0000006sqYYAQ\"\n",
    "elif campaña == \"Construmart\":\n",
    "    \n",
    "    VempresaConvenio = \"a3yRN0000006rlZYAQ\"\n",
    "elif campaña == \"EY\":\n",
    "    \n",
    "    VempresaConvenio = \"a3yRN0000006rsTYAQ\"\n",
    "elif campaña == \"Colmena\":\n",
    "\n",
    "    VempresaConvenio = \"a3yRN0000006rf5YAA\"\n",
    "elif campaña == \"Pedro De Valdivia\":\n",
    "    \n",
    "    VempresaConvenio = \"a3yRN0000006sVzYAI\"\n",
    "elif campaña == \"Forum\":\n",
    "    \n",
    "    VempresaConvenio = \"a3yRN0000006s3SYAQ\"\n",
    "elif campaña == \"Cruz Verde\":\n",
    "    \n",
    "    VempresaConvenio = \"a3yRN0000006rsqYAA\"\n",
    "elif campaña == \"Milan Fajanovic\":\n",
    "    \n",
    "    VempresaConvenio = \"a3yRN0000006sR4YAI\"\n",
    "elif campaña == \"ProChile\":\n",
    "    \n",
    "    VempresaConvenio = \"a3yRN0000006rpsYAA\"\n",
    "elif campaña == \"Farmacias Ahumada\":\n",
    "    \n",
    "    VempresaConvenio = \"a3yRN0000006rspYAA\"\n",
    "elif campaña == \"Minera El Abra\":\n",
    "    \n",
    "    VempresaConvenio = \"a3yRN0000006snOYAQ\"\n",
    "elif campaña == \"Instruvalve\":\n",
    "    \n",
    "    VempresaConvenio = \"a3yRN0000006s9DYAQ\"\n",
    "elif campaña == \"VidaCel\":\n",
    "    \n",
    "    VempresaConvenio = \"a3yRN0000006suzYAA\"\n",
    "elif campaña == \"Care Assistance Colaboradores\":\n",
    "    \n",
    "    VempresaConvenio = \"a3yRN0000006reXYA\"\n",
    "elif campaña == \"Nexo\":\n",
    "    \n",
    "    VempresaConvenio = \"a3yRN0000006sORYAY\"\n",
    "elif campaña == \"Talo\":\n",
    "    \n",
    "    VempresaConvenio = \"a3yRN0000006t10YAA\"\n",
    "else:\n",
    "    \n",
    "    VempresaConvenio = \"Buscarv\"\n"
   ]
  },
  {
   "cell_type": "code",
   "execution_count": 1090,
   "metadata": {
    "notebookRunGroups": {
     "groupValue": "2"
    }
   },
   "outputs": [
    {
     "data": {
      "text/plain": [
       "' todos_con_Id = todos_con_Id[\\n    [\\n        \"poliza\",        \\n        \"rutE\",\\n        \"rut\",\\n        \"rutT\",\\n        \"Paciente__c\",\\n        \"N_Documento_Titular__c\",\\n        \"Empresa__c\",\\n        \"esta\",\\n        \"EmpActiva\",\\n    ]\\n] '"
      ]
     },
     "execution_count": 1090,
     "metadata": {},
     "output_type": "execute_result"
    }
   ],
   "source": [
    "if(campaña == \"MetLife\" or campaña == \"BCI Seguros Colectivos\"):\n",
    "    empresacontactoconvenio_PacientesSF[\"llave\"] = empresacontactoconvenio_PacientesSF[\"Poliza\"] + empresacontactoconvenio_PacientesSF[\"Rut Titular\"] + empresacontactoconvenio_PacientesSF[\"Rut_x\"]\n",
    "    todos_con_Id[\"llave\"] = todos_con_Id[\"poliza\"] + todos_con_Id[\"rutT\"] + todos_con_Id[\"rut\"]\n",
    "    \n",
    "elif(campaña == \"Vida Security\"):\n",
    "    empresacontactoconvenio_PacientesSF[\"llave\"] = empresacontactoconvenio_PacientesSF[\"Poliza\"] +empresacontactoconvenio_PacientesSF[\"Rut Empresa\"] + empresacontactoconvenio_PacientesSF[\"Rut Titular\"] + empresacontactoconvenio_PacientesSF[\"Rut_x\"]\n",
    "    todos_con_Id[\"llave\"] = todos_con_Id[\"poliza\"] + todos_con_Id[\"rutE\"] + todos_con_Id[\"rutT\"] + todos_con_Id[\"rut\"]\n",
    "else:\n",
    "    empresacontactoconvenio_PacientesSF[\"llave\"] = empresacontactoconvenio_PacientesSF[\"Rut Titular\"] + empresacontactoconvenio_PacientesSF[\"Rut_x\"]\n",
    "    todos_con_Id[\"llave\"] = todos_con_Id[\"rutT\"] + todos_con_Id[\"rut\"]    \n",
    "    \n",
    "\n",
    "todos_con_Id[\"esta\"] = todos_con_Id[\"llave\"].isin(empresacontactoconvenio_PacientesSF[\"llave\"])\n",
    "empresacontactoconvenio_PacientesSF[\"Noesta\"] = empresacontactoconvenio_PacientesSF[\"llave\"].isin(todos_con_Id[\"llave\"])\n",
    "\n",
    "\n",
    "diccionario = df2[\n",
    "    [\n",
    "        \"P_liza__c\",\n",
    "        \"Id\",        \n",
    "    ]\n",
    "]\n",
    "diccionario = diccionario.drop_duplicates(\n",
    "    [\n",
    "        \"P_liza__c\",\n",
    "        \"Id\",        \n",
    "    ],\n",
    "    keep=\"last\",\n",
    ")\n",
    "diccionario = diccionario.drop_duplicates(\n",
    "    [\n",
    "        \"P_liza__c\",        \n",
    "    ],\n",
    "    keep=\"last\",\n",
    ")\n",
    "\n",
    "diccionario = diccionario.set_index(\"P_liza__c\").T.to_dict(orient=\"list\")\n",
    "\n",
    "diccionario2 = df2[\n",
    "    [\n",
    "        \"P_liza__c\",\n",
    "        \"Activo__c\",        \n",
    "    ]\n",
    "]\n",
    "diccionario2 = diccionario2.drop_duplicates(\n",
    "    [\n",
    "        \"P_liza__c\",        \n",
    "    ],\n",
    "    keep=\"last\",\n",
    ")\n",
    "\n",
    "diccionario2 = diccionario2.set_index(\"P_liza__c\").T.to_dict(orient=\"list\")\n",
    "\n",
    "\n",
    "todos_con_Id[\"N_Documento_Titular__c\"] = todos_con_Id[\"rutT\"]\n",
    "todos_con_Id[\"Paciente__c\"] = todos_con_Id[\"Id_creado_x\"]\n",
    "todos_con_Id[\"Empresa__c\"] = VempresaConvenio\n",
    "todos_con_Id[\"EmpActiva\"] = \"revisar\"\n",
    "\n",
    "\n",
    "todos_con_Id = todos_con_Id[\n",
    "    [\n",
    "        \"poliza\",\n",
    "        \"rutE\",\n",
    "        \"rut\",\n",
    "        \"rutT\",\n",
    "        \"Paciente__c\",\n",
    "        \"N_Documento_Titular__c\",\n",
    "        \"Empresa__c\",\n",
    "        \"esta\",\n",
    "        \"EmpActiva\",\n",
    "    ]\n",
    "]\n",
    "\n",
    "\n",
    "if (VempresaConvenio == \"Buscarv\"):\n",
    "    todos_con_Id[\"poliza2\"] = todos_con_Id[\"poliza\"] \n",
    "    todos_con_Id.replace({\"poliza2\": diccionario}, inplace=True)    \n",
    "    todos_con_Id[\"Empresa__c\"] = np.where(todos_con_Id[\"poliza2\"].str.len() >= 15, todos_con_Id[\"poliza2\"], todos_con_Id[\"Empresa__c\"])\n",
    "    todos_con_Id[\"EmpActiva\"] = todos_con_Id[\"poliza\"] \n",
    "    todos_con_Id.replace({\"EmpActiva\": diccionario2}, inplace=True)\n",
    "    \n",
    "todos_con_Id = todos_con_Id[\n",
    "    [\n",
    "        \"poliza\",        \n",
    "        \"rutE\",\n",
    "        \"rut\",\n",
    "        \"rutT\",\n",
    "        \"Paciente__c\",\n",
    "        \"N_Documento_Titular__c\",\n",
    "        \"Empresa__c\",\n",
    "        \"esta\",\n",
    "        \"EmpActiva\",\n",
    "    ]\n",
    "]\n"
   ]
  },
  {
   "cell_type": "code",
   "execution_count": 1091,
   "metadata": {
    "notebookRunGroups": {
     "groupValue": "2"
    }
   },
   "outputs": [
    {
     "data": {
      "text/html": [
       "<div>\n",
       "<style scoped>\n",
       "    .dataframe tbody tr th:only-of-type {\n",
       "        vertical-align: middle;\n",
       "    }\n",
       "\n",
       "    .dataframe tbody tr th {\n",
       "        vertical-align: top;\n",
       "    }\n",
       "\n",
       "    .dataframe thead th {\n",
       "        text-align: right;\n",
       "    }\n",
       "</style>\n",
       "<table border=\"1\" class=\"dataframe\">\n",
       "  <thead>\n",
       "    <tr style=\"text-align: right;\">\n",
       "      <th></th>\n",
       "      <th>poliza</th>\n",
       "      <th>rutE</th>\n",
       "      <th>rut</th>\n",
       "      <th>rutT</th>\n",
       "      <th>Id_creado_x</th>\n",
       "      <th>Id_creado_y</th>\n",
       "      <th>llave</th>\n",
       "      <th>esta</th>\n",
       "      <th>N_Documento_Titular__c</th>\n",
       "      <th>Paciente__c</th>\n",
       "      <th>Empresa__c</th>\n",
       "      <th>EmpActiva</th>\n",
       "      <th>poliza2</th>\n",
       "    </tr>\n",
       "  </thead>\n",
       "  <tbody>\n",
       "    <tr>\n",
       "      <th>0</th>\n",
       "      <td>CL90</td>\n",
       "      <td>160</td>\n",
       "      <td>145681316</td>\n",
       "      <td>145681316</td>\n",
       "      <td>0018c00002jW5AHAA0</td>\n",
       "      <td>NaN</td>\n",
       "      <td>145681316145681316</td>\n",
       "      <td>True</td>\n",
       "      <td>145681316</td>\n",
       "      <td>0018c00002jW5AHAA0</td>\n",
       "      <td>Buscarv</td>\n",
       "      <td>CL90</td>\n",
       "      <td>CL90</td>\n",
       "    </tr>\n",
       "    <tr>\n",
       "      <th>1</th>\n",
       "      <td>CL90</td>\n",
       "      <td>3588</td>\n",
       "      <td>180831150</td>\n",
       "      <td>180831150</td>\n",
       "      <td>001RN00000131nyYAA</td>\n",
       "      <td>NaN</td>\n",
       "      <td>180831150180831150</td>\n",
       "      <td>True</td>\n",
       "      <td>180831150</td>\n",
       "      <td>001RN00000131nyYAA</td>\n",
       "      <td>Buscarv</td>\n",
       "      <td>CL90</td>\n",
       "      <td>CL90</td>\n",
       "    </tr>\n",
       "    <tr>\n",
       "      <th>2</th>\n",
       "      <td>CL90</td>\n",
       "      <td>1027</td>\n",
       "      <td>199292943</td>\n",
       "      <td>199292943</td>\n",
       "      <td>001RN00000131nbYAA</td>\n",
       "      <td>NaN</td>\n",
       "      <td>199292943199292943</td>\n",
       "      <td>True</td>\n",
       "      <td>199292943</td>\n",
       "      <td>001RN00000131nbYAA</td>\n",
       "      <td>Buscarv</td>\n",
       "      <td>CL90</td>\n",
       "      <td>CL90</td>\n",
       "    </tr>\n",
       "    <tr>\n",
       "      <th>3</th>\n",
       "      <td>CL90</td>\n",
       "      <td>163</td>\n",
       "      <td>190341798</td>\n",
       "      <td>190341798</td>\n",
       "      <td>001RN00000131noYAA</td>\n",
       "      <td>NaN</td>\n",
       "      <td>190341798190341798</td>\n",
       "      <td>True</td>\n",
       "      <td>190341798</td>\n",
       "      <td>001RN00000131noYAA</td>\n",
       "      <td>Buscarv</td>\n",
       "      <td>CL90</td>\n",
       "      <td>CL90</td>\n",
       "    </tr>\n",
       "    <tr>\n",
       "      <th>4</th>\n",
       "      <td>CL90</td>\n",
       "      <td>5895</td>\n",
       "      <td>173160879</td>\n",
       "      <td>173160879</td>\n",
       "      <td>001RN00000131nsYAA</td>\n",
       "      <td>NaN</td>\n",
       "      <td>173160879173160879</td>\n",
       "      <td>True</td>\n",
       "      <td>173160879</td>\n",
       "      <td>001RN00000131nsYAA</td>\n",
       "      <td>Buscarv</td>\n",
       "      <td>CL90</td>\n",
       "      <td>CL90</td>\n",
       "    </tr>\n",
       "    <tr>\n",
       "      <th>5</th>\n",
       "      <td>CL90</td>\n",
       "      <td>5586</td>\n",
       "      <td>161779296</td>\n",
       "      <td>161779296</td>\n",
       "      <td>001RN00000131nAYAQ</td>\n",
       "      <td>NaN</td>\n",
       "      <td>161779296161779296</td>\n",
       "      <td>True</td>\n",
       "      <td>161779296</td>\n",
       "      <td>001RN00000131nAYAQ</td>\n",
       "      <td>Buscarv</td>\n",
       "      <td>CL90</td>\n",
       "      <td>CL90</td>\n",
       "    </tr>\n",
       "    <tr>\n",
       "      <th>6</th>\n",
       "      <td>CL90</td>\n",
       "      <td>444</td>\n",
       "      <td>277254514</td>\n",
       "      <td>277254514</td>\n",
       "      <td>001RN00000131ntYAA</td>\n",
       "      <td>NaN</td>\n",
       "      <td>277254514277254514</td>\n",
       "      <td>True</td>\n",
       "      <td>277254514</td>\n",
       "      <td>001RN00000131ntYAA</td>\n",
       "      <td>Buscarv</td>\n",
       "      <td>CL90</td>\n",
       "      <td>CL90</td>\n",
       "    </tr>\n",
       "    <tr>\n",
       "      <th>7</th>\n",
       "      <td>CL90</td>\n",
       "      <td>720</td>\n",
       "      <td>209318628</td>\n",
       "      <td>209318628</td>\n",
       "      <td>001RN00000131nMYAQ</td>\n",
       "      <td>NaN</td>\n",
       "      <td>209318628209318628</td>\n",
       "      <td>True</td>\n",
       "      <td>209318628</td>\n",
       "      <td>001RN00000131nMYAQ</td>\n",
       "      <td>Buscarv</td>\n",
       "      <td>CL90</td>\n",
       "      <td>CL90</td>\n",
       "    </tr>\n",
       "    <tr>\n",
       "      <th>8</th>\n",
       "      <td>CL90</td>\n",
       "      <td>978</td>\n",
       "      <td>113490128</td>\n",
       "      <td>113490128</td>\n",
       "      <td>001RN00000135FrYAI</td>\n",
       "      <td>NaN</td>\n",
       "      <td>113490128113490128</td>\n",
       "      <td>True</td>\n",
       "      <td>113490128</td>\n",
       "      <td>001RN00000135FrYAI</td>\n",
       "      <td>Buscarv</td>\n",
       "      <td>CL90</td>\n",
       "      <td>CL90</td>\n",
       "    </tr>\n",
       "    <tr>\n",
       "      <th>9</th>\n",
       "      <td>CL90</td>\n",
       "      <td>4988</td>\n",
       "      <td>192040655</td>\n",
       "      <td>192040655</td>\n",
       "      <td>0018c00002egq7yAAA</td>\n",
       "      <td>NaN</td>\n",
       "      <td>192040655192040655</td>\n",
       "      <td>True</td>\n",
       "      <td>192040655</td>\n",
       "      <td>0018c00002egq7yAAA</td>\n",
       "      <td>Buscarv</td>\n",
       "      <td>CL90</td>\n",
       "      <td>CL90</td>\n",
       "    </tr>\n",
       "    <tr>\n",
       "      <th>10</th>\n",
       "      <td>CL90</td>\n",
       "      <td>3367</td>\n",
       "      <td>116259524</td>\n",
       "      <td>116259524</td>\n",
       "      <td>0018c00002egpkuAAA</td>\n",
       "      <td>NaN</td>\n",
       "      <td>116259524116259524</td>\n",
       "      <td>True</td>\n",
       "      <td>116259524</td>\n",
       "      <td>0018c00002egpkuAAA</td>\n",
       "      <td>Buscarv</td>\n",
       "      <td>CL90</td>\n",
       "      <td>CL90</td>\n",
       "    </tr>\n",
       "    <tr>\n",
       "      <th>11</th>\n",
       "      <td>CL90</td>\n",
       "      <td>3253</td>\n",
       "      <td>136659065</td>\n",
       "      <td>136659065</td>\n",
       "      <td>0018c00002eVhZyAAK</td>\n",
       "      <td>NaN</td>\n",
       "      <td>136659065136659065</td>\n",
       "      <td>True</td>\n",
       "      <td>136659065</td>\n",
       "      <td>0018c00002eVhZyAAK</td>\n",
       "      <td>Buscarv</td>\n",
       "      <td>CL90</td>\n",
       "      <td>CL90</td>\n",
       "    </tr>\n",
       "    <tr>\n",
       "      <th>12</th>\n",
       "      <td>CL90</td>\n",
       "      <td>171</td>\n",
       "      <td>131911998</td>\n",
       "      <td>131911998</td>\n",
       "      <td>001RN00000135GAYAY</td>\n",
       "      <td>NaN</td>\n",
       "      <td>131911998131911998</td>\n",
       "      <td>True</td>\n",
       "      <td>131911998</td>\n",
       "      <td>001RN00000135GAYAY</td>\n",
       "      <td>Buscarv</td>\n",
       "      <td>CL90</td>\n",
       "      <td>CL90</td>\n",
       "    </tr>\n",
       "    <tr>\n",
       "      <th>13</th>\n",
       "      <td>CL90</td>\n",
       "      <td>455</td>\n",
       "      <td>15934701K</td>\n",
       "      <td>15934701K</td>\n",
       "      <td>0018c00002egr1CAAQ</td>\n",
       "      <td>NaN</td>\n",
       "      <td>15934701K15934701K</td>\n",
       "      <td>False</td>\n",
       "      <td>15934701K</td>\n",
       "      <td>0018c00002egr1CAAQ</td>\n",
       "      <td>Buscarv</td>\n",
       "      <td>CL90</td>\n",
       "      <td>CL90</td>\n",
       "    </tr>\n",
       "    <tr>\n",
       "      <th>14</th>\n",
       "      <td>CL90</td>\n",
       "      <td>5220</td>\n",
       "      <td>134958367</td>\n",
       "      <td>134958367</td>\n",
       "      <td>001RN00000135GRYAY</td>\n",
       "      <td>NaN</td>\n",
       "      <td>134958367134958367</td>\n",
       "      <td>True</td>\n",
       "      <td>134958367</td>\n",
       "      <td>001RN00000135GRYAY</td>\n",
       "      <td>Buscarv</td>\n",
       "      <td>CL90</td>\n",
       "      <td>CL90</td>\n",
       "    </tr>\n",
       "    <tr>\n",
       "      <th>15</th>\n",
       "      <td>CL90</td>\n",
       "      <td>6426</td>\n",
       "      <td>94609615</td>\n",
       "      <td>94609615</td>\n",
       "      <td>0018c00002egpjNAAQ</td>\n",
       "      <td>NaN</td>\n",
       "      <td>9460961594609615</td>\n",
       "      <td>True</td>\n",
       "      <td>94609615</td>\n",
       "      <td>0018c00002egpjNAAQ</td>\n",
       "      <td>Buscarv</td>\n",
       "      <td>CL90</td>\n",
       "      <td>CL90</td>\n",
       "    </tr>\n",
       "    <tr>\n",
       "      <th>16</th>\n",
       "      <td>CL90</td>\n",
       "      <td>863</td>\n",
       "      <td>120069233</td>\n",
       "      <td>120069233</td>\n",
       "      <td>001RN00000131o8YAA</td>\n",
       "      <td>NaN</td>\n",
       "      <td>120069233120069233</td>\n",
       "      <td>True</td>\n",
       "      <td>120069233</td>\n",
       "      <td>001RN00000131o8YAA</td>\n",
       "      <td>Buscarv</td>\n",
       "      <td>CL90</td>\n",
       "      <td>CL90</td>\n",
       "    </tr>\n",
       "    <tr>\n",
       "      <th>17</th>\n",
       "      <td>CL90</td>\n",
       "      <td>15203</td>\n",
       "      <td>183668900</td>\n",
       "      <td>183668900</td>\n",
       "      <td>001RN00000135NXYAY</td>\n",
       "      <td>NaN</td>\n",
       "      <td>183668900183668900</td>\n",
       "      <td>True</td>\n",
       "      <td>183668900</td>\n",
       "      <td>001RN00000135NXYAY</td>\n",
       "      <td>Buscarv</td>\n",
       "      <td>CL90</td>\n",
       "      <td>CL90</td>\n",
       "    </tr>\n",
       "    <tr>\n",
       "      <th>18</th>\n",
       "      <td>CL90</td>\n",
       "      <td>4290</td>\n",
       "      <td>166075831</td>\n",
       "      <td>166075831</td>\n",
       "      <td>001RN00000135H4YAI</td>\n",
       "      <td>NaN</td>\n",
       "      <td>166075831166075831</td>\n",
       "      <td>True</td>\n",
       "      <td>166075831</td>\n",
       "      <td>001RN00000135H4YAI</td>\n",
       "      <td>Buscarv</td>\n",
       "      <td>CL90</td>\n",
       "      <td>CL90</td>\n",
       "    </tr>\n",
       "    <tr>\n",
       "      <th>19</th>\n",
       "      <td>CL90</td>\n",
       "      <td>1190</td>\n",
       "      <td>113158220</td>\n",
       "      <td>113158220</td>\n",
       "      <td>001RN00000135FqYAI</td>\n",
       "      <td>NaN</td>\n",
       "      <td>113158220113158220</td>\n",
       "      <td>True</td>\n",
       "      <td>113158220</td>\n",
       "      <td>001RN00000135FqYAI</td>\n",
       "      <td>Buscarv</td>\n",
       "      <td>CL90</td>\n",
       "      <td>CL90</td>\n",
       "    </tr>\n",
       "    <tr>\n",
       "      <th>20</th>\n",
       "      <td>CL90</td>\n",
       "      <td>15</td>\n",
       "      <td>189574061</td>\n",
       "      <td>189574061</td>\n",
       "      <td>0018c00002eUaIiAAK</td>\n",
       "      <td>NaN</td>\n",
       "      <td>189574061189574061</td>\n",
       "      <td>False</td>\n",
       "      <td>189574061</td>\n",
       "      <td>0018c00002eUaIiAAK</td>\n",
       "      <td>Buscarv</td>\n",
       "      <td>CL90</td>\n",
       "      <td>CL90</td>\n",
       "    </tr>\n",
       "    <tr>\n",
       "      <th>21</th>\n",
       "      <td>CL90</td>\n",
       "      <td>0</td>\n",
       "      <td>15242826K</td>\n",
       "      <td>15242826K</td>\n",
       "      <td>001RN00000135NvYAI</td>\n",
       "      <td>NaN</td>\n",
       "      <td>15242826K15242826K</td>\n",
       "      <td>True</td>\n",
       "      <td>15242826K</td>\n",
       "      <td>001RN00000135NvYAI</td>\n",
       "      <td>Buscarv</td>\n",
       "      <td>CL90</td>\n",
       "      <td>CL90</td>\n",
       "    </tr>\n",
       "    <tr>\n",
       "      <th>22</th>\n",
       "      <td>CL90</td>\n",
       "      <td>7763</td>\n",
       "      <td>168965095</td>\n",
       "      <td>168965095</td>\n",
       "      <td>001RN00000135H8YAI</td>\n",
       "      <td>NaN</td>\n",
       "      <td>168965095168965095</td>\n",
       "      <td>True</td>\n",
       "      <td>168965095</td>\n",
       "      <td>001RN00000135H8YAI</td>\n",
       "      <td>Buscarv</td>\n",
       "      <td>CL90</td>\n",
       "      <td>CL90</td>\n",
       "    </tr>\n",
       "    <tr>\n",
       "      <th>23</th>\n",
       "      <td>CL90</td>\n",
       "      <td>102</td>\n",
       "      <td>153445133</td>\n",
       "      <td>153445133</td>\n",
       "      <td>001RN00000135GpYAI</td>\n",
       "      <td>NaN</td>\n",
       "      <td>153445133153445133</td>\n",
       "      <td>True</td>\n",
       "      <td>153445133</td>\n",
       "      <td>001RN00000135GpYAI</td>\n",
       "      <td>Buscarv</td>\n",
       "      <td>CL90</td>\n",
       "      <td>CL90</td>\n",
       "    </tr>\n",
       "    <tr>\n",
       "      <th>24</th>\n",
       "      <td>CL90</td>\n",
       "      <td>324</td>\n",
       "      <td>179867494</td>\n",
       "      <td>179867494</td>\n",
       "      <td>001RN00000131n5YAA</td>\n",
       "      <td>NaN</td>\n",
       "      <td>179867494179867494</td>\n",
       "      <td>True</td>\n",
       "      <td>179867494</td>\n",
       "      <td>001RN00000131n5YAA</td>\n",
       "      <td>Buscarv</td>\n",
       "      <td>CL90</td>\n",
       "      <td>CL90</td>\n",
       "    </tr>\n",
       "    <tr>\n",
       "      <th>25</th>\n",
       "      <td>CL90</td>\n",
       "      <td>2776</td>\n",
       "      <td>177156582</td>\n",
       "      <td>177156582</td>\n",
       "      <td>0018c00002bHlNeAAK</td>\n",
       "      <td>NaN</td>\n",
       "      <td>177156582177156582</td>\n",
       "      <td>True</td>\n",
       "      <td>177156582</td>\n",
       "      <td>0018c00002bHlNeAAK</td>\n",
       "      <td>Buscarv</td>\n",
       "      <td>CL90</td>\n",
       "      <td>CL90</td>\n",
       "    </tr>\n",
       "    <tr>\n",
       "      <th>26</th>\n",
       "      <td>CL90</td>\n",
       "      <td>4831</td>\n",
       "      <td>184589273</td>\n",
       "      <td>184589273</td>\n",
       "      <td>001RN00000131o9YAA</td>\n",
       "      <td>NaN</td>\n",
       "      <td>184589273184589273</td>\n",
       "      <td>True</td>\n",
       "      <td>184589273</td>\n",
       "      <td>001RN00000131o9YAA</td>\n",
       "      <td>Buscarv</td>\n",
       "      <td>CL90</td>\n",
       "      <td>CL90</td>\n",
       "    </tr>\n",
       "    <tr>\n",
       "      <th>27</th>\n",
       "      <td>CL90</td>\n",
       "      <td>7280</td>\n",
       "      <td>181240156</td>\n",
       "      <td>181240156</td>\n",
       "      <td>001RN00000135NWYAY</td>\n",
       "      <td>NaN</td>\n",
       "      <td>181240156181240156</td>\n",
       "      <td>True</td>\n",
       "      <td>181240156</td>\n",
       "      <td>001RN00000135NWYAY</td>\n",
       "      <td>Buscarv</td>\n",
       "      <td>CL90</td>\n",
       "      <td>CL90</td>\n",
       "    </tr>\n",
       "    <tr>\n",
       "      <th>28</th>\n",
       "      <td>CL90</td>\n",
       "      <td>276</td>\n",
       "      <td>150720230</td>\n",
       "      <td>150720230</td>\n",
       "      <td>0018c00002egpt3AAA</td>\n",
       "      <td>NaN</td>\n",
       "      <td>150720230150720230</td>\n",
       "      <td>True</td>\n",
       "      <td>150720230</td>\n",
       "      <td>0018c00002egpt3AAA</td>\n",
       "      <td>Buscarv</td>\n",
       "      <td>CL90</td>\n",
       "      <td>CL90</td>\n",
       "    </tr>\n",
       "    <tr>\n",
       "      <th>29</th>\n",
       "      <td>CL90</td>\n",
       "      <td>2890</td>\n",
       "      <td>98801111</td>\n",
       "      <td>98801111</td>\n",
       "      <td>0018c00002egpjgAAA</td>\n",
       "      <td>NaN</td>\n",
       "      <td>9880111198801111</td>\n",
       "      <td>True</td>\n",
       "      <td>98801111</td>\n",
       "      <td>0018c00002egpjgAAA</td>\n",
       "      <td>Buscarv</td>\n",
       "      <td>CL90</td>\n",
       "      <td>CL90</td>\n",
       "    </tr>\n",
       "    <tr>\n",
       "      <th>30</th>\n",
       "      <td>CL90</td>\n",
       "      <td>1880</td>\n",
       "      <td>134372168</td>\n",
       "      <td>134372168</td>\n",
       "      <td>001RN00000135GJYAY</td>\n",
       "      <td>NaN</td>\n",
       "      <td>134372168134372168</td>\n",
       "      <td>True</td>\n",
       "      <td>134372168</td>\n",
       "      <td>001RN00000135GJYAY</td>\n",
       "      <td>Buscarv</td>\n",
       "      <td>CL90</td>\n",
       "      <td>CL90</td>\n",
       "    </tr>\n",
       "    <tr>\n",
       "      <th>31</th>\n",
       "      <td>CL90</td>\n",
       "      <td>1477</td>\n",
       "      <td>133896988</td>\n",
       "      <td>133896988</td>\n",
       "      <td>001RN00000135GFYAY</td>\n",
       "      <td>NaN</td>\n",
       "      <td>133896988133896988</td>\n",
       "      <td>True</td>\n",
       "      <td>133896988</td>\n",
       "      <td>001RN00000135GFYAY</td>\n",
       "      <td>Buscarv</td>\n",
       "      <td>CL90</td>\n",
       "      <td>CL90</td>\n",
       "    </tr>\n",
       "    <tr>\n",
       "      <th>32</th>\n",
       "      <td>CL90</td>\n",
       "      <td>2339</td>\n",
       "      <td>146107788</td>\n",
       "      <td>146107788</td>\n",
       "      <td>001RN000006LIOmYAO</td>\n",
       "      <td>NaN</td>\n",
       "      <td>146107788146107788</td>\n",
       "      <td>False</td>\n",
       "      <td>146107788</td>\n",
       "      <td>001RN000006LIOmYAO</td>\n",
       "      <td>Buscarv</td>\n",
       "      <td>CL90</td>\n",
       "      <td>CL90</td>\n",
       "    </tr>\n",
       "    <tr>\n",
       "      <th>33</th>\n",
       "      <td>CL90</td>\n",
       "      <td>10021</td>\n",
       "      <td>126785283</td>\n",
       "      <td>126785283</td>\n",
       "      <td>0018c00002egprNAAQ</td>\n",
       "      <td>NaN</td>\n",
       "      <td>126785283126785283</td>\n",
       "      <td>True</td>\n",
       "      <td>126785283</td>\n",
       "      <td>0018c00002egprNAAQ</td>\n",
       "      <td>Buscarv</td>\n",
       "      <td>CL90</td>\n",
       "      <td>CL90</td>\n",
       "    </tr>\n",
       "    <tr>\n",
       "      <th>34</th>\n",
       "      <td>CL90</td>\n",
       "      <td>2000</td>\n",
       "      <td>189139500</td>\n",
       "      <td>189139500</td>\n",
       "      <td>0018c00002egq7uAAA</td>\n",
       "      <td>NaN</td>\n",
       "      <td>189139500189139500</td>\n",
       "      <td>True</td>\n",
       "      <td>189139500</td>\n",
       "      <td>0018c00002egq7uAAA</td>\n",
       "      <td>Buscarv</td>\n",
       "      <td>CL90</td>\n",
       "      <td>CL90</td>\n",
       "    </tr>\n",
       "    <tr>\n",
       "      <th>35</th>\n",
       "      <td>CL90</td>\n",
       "      <td>7533</td>\n",
       "      <td>128907807</td>\n",
       "      <td>128907807</td>\n",
       "      <td>001RN00000135G6YAI</td>\n",
       "      <td>NaN</td>\n",
       "      <td>128907807128907807</td>\n",
       "      <td>True</td>\n",
       "      <td>128907807</td>\n",
       "      <td>001RN00000135G6YAI</td>\n",
       "      <td>Buscarv</td>\n",
       "      <td>CL90</td>\n",
       "      <td>CL90</td>\n",
       "    </tr>\n",
       "    <tr>\n",
       "      <th>36</th>\n",
       "      <td>CL90</td>\n",
       "      <td>1667</td>\n",
       "      <td>160414359</td>\n",
       "      <td>160414359</td>\n",
       "      <td>0018c00002eUHM9AAO</td>\n",
       "      <td>NaN</td>\n",
       "      <td>160414359160414359</td>\n",
       "      <td>False</td>\n",
       "      <td>160414359</td>\n",
       "      <td>0018c00002eUHM9AAO</td>\n",
       "      <td>Buscarv</td>\n",
       "      <td>CL90</td>\n",
       "      <td>CL90</td>\n",
       "    </tr>\n",
       "    <tr>\n",
       "      <th>37</th>\n",
       "      <td>CL90</td>\n",
       "      <td>18532</td>\n",
       "      <td>176972491</td>\n",
       "      <td>176972491</td>\n",
       "      <td>001RN00000131nGYAQ</td>\n",
       "      <td>NaN</td>\n",
       "      <td>176972491176972491</td>\n",
       "      <td>True</td>\n",
       "      <td>176972491</td>\n",
       "      <td>001RN00000131nGYAQ</td>\n",
       "      <td>Buscarv</td>\n",
       "      <td>CL90</td>\n",
       "      <td>CL90</td>\n",
       "    </tr>\n",
       "    <tr>\n",
       "      <th>38</th>\n",
       "      <td>CL90</td>\n",
       "      <td>7190</td>\n",
       "      <td>134590009</td>\n",
       "      <td>134590009</td>\n",
       "      <td>0018c00002egps8AAA</td>\n",
       "      <td>NaN</td>\n",
       "      <td>134590009134590009</td>\n",
       "      <td>True</td>\n",
       "      <td>134590009</td>\n",
       "      <td>0018c00002egps8AAA</td>\n",
       "      <td>Buscarv</td>\n",
       "      <td>CL90</td>\n",
       "      <td>CL90</td>\n",
       "    </tr>\n",
       "    <tr>\n",
       "      <th>39</th>\n",
       "      <td>CL90</td>\n",
       "      <td>4326</td>\n",
       "      <td>15340982K</td>\n",
       "      <td>15340982K</td>\n",
       "      <td>001RN00000135GoYAI</td>\n",
       "      <td>NaN</td>\n",
       "      <td>15340982K15340982K</td>\n",
       "      <td>True</td>\n",
       "      <td>15340982K</td>\n",
       "      <td>001RN00000135GoYAI</td>\n",
       "      <td>Buscarv</td>\n",
       "      <td>CL90</td>\n",
       "      <td>CL90</td>\n",
       "    </tr>\n",
       "    <tr>\n",
       "      <th>40</th>\n",
       "      <td>CL90</td>\n",
       "      <td>2307</td>\n",
       "      <td>219578393</td>\n",
       "      <td>219578393</td>\n",
       "      <td>001RN00000135NkYAI</td>\n",
       "      <td>NaN</td>\n",
       "      <td>219578393219578393</td>\n",
       "      <td>True</td>\n",
       "      <td>219578393</td>\n",
       "      <td>001RN00000135NkYAI</td>\n",
       "      <td>Buscarv</td>\n",
       "      <td>CL90</td>\n",
       "      <td>CL90</td>\n",
       "    </tr>\n",
       "    <tr>\n",
       "      <th>41</th>\n",
       "      <td>CL90</td>\n",
       "      <td>1277</td>\n",
       "      <td>134983205</td>\n",
       "      <td>134983205</td>\n",
       "      <td>001RN00000135GSYAY</td>\n",
       "      <td>NaN</td>\n",
       "      <td>134983205134983205</td>\n",
       "      <td>True</td>\n",
       "      <td>134983205</td>\n",
       "      <td>001RN00000135GSYAY</td>\n",
       "      <td>Buscarv</td>\n",
       "      <td>CL90</td>\n",
       "      <td>CL90</td>\n",
       "    </tr>\n",
       "    <tr>\n",
       "      <th>42</th>\n",
       "      <td>CL90</td>\n",
       "      <td>4244</td>\n",
       "      <td>16741088K</td>\n",
       "      <td>16741088K</td>\n",
       "      <td>001RN00000135H6YAI</td>\n",
       "      <td>NaN</td>\n",
       "      <td>16741088K16741088K</td>\n",
       "      <td>True</td>\n",
       "      <td>16741088K</td>\n",
       "      <td>001RN00000135H6YAI</td>\n",
       "      <td>Buscarv</td>\n",
       "      <td>CL90</td>\n",
       "      <td>CL90</td>\n",
       "    </tr>\n",
       "    <tr>\n",
       "      <th>43</th>\n",
       "      <td>CL90</td>\n",
       "      <td>1218</td>\n",
       "      <td>191376544</td>\n",
       "      <td>191376544</td>\n",
       "      <td>0018c00002egq7xAAA</td>\n",
       "      <td>NaN</td>\n",
       "      <td>191376544191376544</td>\n",
       "      <td>True</td>\n",
       "      <td>191376544</td>\n",
       "      <td>0018c00002egq7xAAA</td>\n",
       "      <td>Buscarv</td>\n",
       "      <td>CL90</td>\n",
       "      <td>CL90</td>\n",
       "    </tr>\n",
       "    <tr>\n",
       "      <th>44</th>\n",
       "      <td>CL90</td>\n",
       "      <td>5925</td>\n",
       "      <td>246761388</td>\n",
       "      <td>246761388</td>\n",
       "      <td>0018c00002egq8PAAQ</td>\n",
       "      <td>NaN</td>\n",
       "      <td>246761388246761388</td>\n",
       "      <td>True</td>\n",
       "      <td>246761388</td>\n",
       "      <td>0018c00002egq8PAAQ</td>\n",
       "      <td>Buscarv</td>\n",
       "      <td>CL90</td>\n",
       "      <td>CL90</td>\n",
       "    </tr>\n",
       "    <tr>\n",
       "      <th>45</th>\n",
       "      <td>CL90</td>\n",
       "      <td>3600</td>\n",
       "      <td>164009912</td>\n",
       "      <td>164009912</td>\n",
       "      <td>001RN00000135H2YAI</td>\n",
       "      <td>NaN</td>\n",
       "      <td>164009912164009912</td>\n",
       "      <td>True</td>\n",
       "      <td>164009912</td>\n",
       "      <td>001RN00000135H2YAI</td>\n",
       "      <td>Buscarv</td>\n",
       "      <td>CL90</td>\n",
       "      <td>CL90</td>\n",
       "    </tr>\n",
       "    <tr>\n",
       "      <th>46</th>\n",
       "      <td>CL90</td>\n",
       "      <td>1578</td>\n",
       "      <td>163562855</td>\n",
       "      <td>163562855</td>\n",
       "      <td>001RN00000135NyYAI</td>\n",
       "      <td>NaN</td>\n",
       "      <td>163562855163562855</td>\n",
       "      <td>True</td>\n",
       "      <td>163562855</td>\n",
       "      <td>001RN00000135NyYAI</td>\n",
       "      <td>Buscarv</td>\n",
       "      <td>CL90</td>\n",
       "      <td>CL90</td>\n",
       "    </tr>\n",
       "    <tr>\n",
       "      <th>47</th>\n",
       "      <td>CL90</td>\n",
       "      <td>200</td>\n",
       "      <td>101600912</td>\n",
       "      <td>101600912</td>\n",
       "      <td>001RN00000135FjYAI</td>\n",
       "      <td>NaN</td>\n",
       "      <td>101600912101600912</td>\n",
       "      <td>True</td>\n",
       "      <td>101600912</td>\n",
       "      <td>001RN00000135FjYAI</td>\n",
       "      <td>Buscarv</td>\n",
       "      <td>CL90</td>\n",
       "      <td>CL90</td>\n",
       "    </tr>\n",
       "    <tr>\n",
       "      <th>48</th>\n",
       "      <td>CL90</td>\n",
       "      <td>383</td>\n",
       "      <td>157905619</td>\n",
       "      <td>157905619</td>\n",
       "      <td>0018c00002egptaAAA</td>\n",
       "      <td>NaN</td>\n",
       "      <td>157905619157905619</td>\n",
       "      <td>True</td>\n",
       "      <td>157905619</td>\n",
       "      <td>0018c00002egptaAAA</td>\n",
       "      <td>Buscarv</td>\n",
       "      <td>CL90</td>\n",
       "      <td>CL90</td>\n",
       "    </tr>\n",
       "    <tr>\n",
       "      <th>49</th>\n",
       "      <td>CL90</td>\n",
       "      <td>1985</td>\n",
       "      <td>180848487</td>\n",
       "      <td>180848487</td>\n",
       "      <td>001RN00000135NVYAY</td>\n",
       "      <td>NaN</td>\n",
       "      <td>180848487180848487</td>\n",
       "      <td>True</td>\n",
       "      <td>180848487</td>\n",
       "      <td>001RN00000135NVYAY</td>\n",
       "      <td>Buscarv</td>\n",
       "      <td>CL90</td>\n",
       "      <td>CL90</td>\n",
       "    </tr>\n",
       "  </tbody>\n",
       "</table>\n",
       "</div>"
      ],
      "text/plain": [
       "   poliza   rutE        rut       rutT         Id_creado_x Id_creado_y  \\\n",
       "0    CL90    160  145681316  145681316  0018c00002jW5AHAA0         NaN   \n",
       "1    CL90   3588  180831150  180831150  001RN00000131nyYAA         NaN   \n",
       "2    CL90   1027  199292943  199292943  001RN00000131nbYAA         NaN   \n",
       "3    CL90    163  190341798  190341798  001RN00000131noYAA         NaN   \n",
       "4    CL90   5895  173160879  173160879  001RN00000131nsYAA         NaN   \n",
       "5    CL90   5586  161779296  161779296  001RN00000131nAYAQ         NaN   \n",
       "6    CL90    444  277254514  277254514  001RN00000131ntYAA         NaN   \n",
       "7    CL90    720  209318628  209318628  001RN00000131nMYAQ         NaN   \n",
       "8    CL90    978  113490128  113490128  001RN00000135FrYAI         NaN   \n",
       "9    CL90   4988  192040655  192040655  0018c00002egq7yAAA         NaN   \n",
       "10   CL90   3367  116259524  116259524  0018c00002egpkuAAA         NaN   \n",
       "11   CL90   3253  136659065  136659065  0018c00002eVhZyAAK         NaN   \n",
       "12   CL90    171  131911998  131911998  001RN00000135GAYAY         NaN   \n",
       "13   CL90    455  15934701K  15934701K  0018c00002egr1CAAQ         NaN   \n",
       "14   CL90   5220  134958367  134958367  001RN00000135GRYAY         NaN   \n",
       "15   CL90   6426   94609615   94609615  0018c00002egpjNAAQ         NaN   \n",
       "16   CL90    863  120069233  120069233  001RN00000131o8YAA         NaN   \n",
       "17   CL90  15203  183668900  183668900  001RN00000135NXYAY         NaN   \n",
       "18   CL90   4290  166075831  166075831  001RN00000135H4YAI         NaN   \n",
       "19   CL90   1190  113158220  113158220  001RN00000135FqYAI         NaN   \n",
       "20   CL90     15  189574061  189574061  0018c00002eUaIiAAK         NaN   \n",
       "21   CL90      0  15242826K  15242826K  001RN00000135NvYAI         NaN   \n",
       "22   CL90   7763  168965095  168965095  001RN00000135H8YAI         NaN   \n",
       "23   CL90    102  153445133  153445133  001RN00000135GpYAI         NaN   \n",
       "24   CL90    324  179867494  179867494  001RN00000131n5YAA         NaN   \n",
       "25   CL90   2776  177156582  177156582  0018c00002bHlNeAAK         NaN   \n",
       "26   CL90   4831  184589273  184589273  001RN00000131o9YAA         NaN   \n",
       "27   CL90   7280  181240156  181240156  001RN00000135NWYAY         NaN   \n",
       "28   CL90    276  150720230  150720230  0018c00002egpt3AAA         NaN   \n",
       "29   CL90   2890   98801111   98801111  0018c00002egpjgAAA         NaN   \n",
       "30   CL90   1880  134372168  134372168  001RN00000135GJYAY         NaN   \n",
       "31   CL90   1477  133896988  133896988  001RN00000135GFYAY         NaN   \n",
       "32   CL90   2339  146107788  146107788  001RN000006LIOmYAO         NaN   \n",
       "33   CL90  10021  126785283  126785283  0018c00002egprNAAQ         NaN   \n",
       "34   CL90   2000  189139500  189139500  0018c00002egq7uAAA         NaN   \n",
       "35   CL90   7533  128907807  128907807  001RN00000135G6YAI         NaN   \n",
       "36   CL90   1667  160414359  160414359  0018c00002eUHM9AAO         NaN   \n",
       "37   CL90  18532  176972491  176972491  001RN00000131nGYAQ         NaN   \n",
       "38   CL90   7190  134590009  134590009  0018c00002egps8AAA         NaN   \n",
       "39   CL90   4326  15340982K  15340982K  001RN00000135GoYAI         NaN   \n",
       "40   CL90   2307  219578393  219578393  001RN00000135NkYAI         NaN   \n",
       "41   CL90   1277  134983205  134983205  001RN00000135GSYAY         NaN   \n",
       "42   CL90   4244  16741088K  16741088K  001RN00000135H6YAI         NaN   \n",
       "43   CL90   1218  191376544  191376544  0018c00002egq7xAAA         NaN   \n",
       "44   CL90   5925  246761388  246761388  0018c00002egq8PAAQ         NaN   \n",
       "45   CL90   3600  164009912  164009912  001RN00000135H2YAI         NaN   \n",
       "46   CL90   1578  163562855  163562855  001RN00000135NyYAI         NaN   \n",
       "47   CL90    200  101600912  101600912  001RN00000135FjYAI         NaN   \n",
       "48   CL90    383  157905619  157905619  0018c00002egptaAAA         NaN   \n",
       "49   CL90   1985  180848487  180848487  001RN00000135NVYAY         NaN   \n",
       "\n",
       "                 llave   esta N_Documento_Titular__c         Paciente__c  \\\n",
       "0   145681316145681316   True              145681316  0018c00002jW5AHAA0   \n",
       "1   180831150180831150   True              180831150  001RN00000131nyYAA   \n",
       "2   199292943199292943   True              199292943  001RN00000131nbYAA   \n",
       "3   190341798190341798   True              190341798  001RN00000131noYAA   \n",
       "4   173160879173160879   True              173160879  001RN00000131nsYAA   \n",
       "5   161779296161779296   True              161779296  001RN00000131nAYAQ   \n",
       "6   277254514277254514   True              277254514  001RN00000131ntYAA   \n",
       "7   209318628209318628   True              209318628  001RN00000131nMYAQ   \n",
       "8   113490128113490128   True              113490128  001RN00000135FrYAI   \n",
       "9   192040655192040655   True              192040655  0018c00002egq7yAAA   \n",
       "10  116259524116259524   True              116259524  0018c00002egpkuAAA   \n",
       "11  136659065136659065   True              136659065  0018c00002eVhZyAAK   \n",
       "12  131911998131911998   True              131911998  001RN00000135GAYAY   \n",
       "13  15934701K15934701K  False              15934701K  0018c00002egr1CAAQ   \n",
       "14  134958367134958367   True              134958367  001RN00000135GRYAY   \n",
       "15    9460961594609615   True               94609615  0018c00002egpjNAAQ   \n",
       "16  120069233120069233   True              120069233  001RN00000131o8YAA   \n",
       "17  183668900183668900   True              183668900  001RN00000135NXYAY   \n",
       "18  166075831166075831   True              166075831  001RN00000135H4YAI   \n",
       "19  113158220113158220   True              113158220  001RN00000135FqYAI   \n",
       "20  189574061189574061  False              189574061  0018c00002eUaIiAAK   \n",
       "21  15242826K15242826K   True              15242826K  001RN00000135NvYAI   \n",
       "22  168965095168965095   True              168965095  001RN00000135H8YAI   \n",
       "23  153445133153445133   True              153445133  001RN00000135GpYAI   \n",
       "24  179867494179867494   True              179867494  001RN00000131n5YAA   \n",
       "25  177156582177156582   True              177156582  0018c00002bHlNeAAK   \n",
       "26  184589273184589273   True              184589273  001RN00000131o9YAA   \n",
       "27  181240156181240156   True              181240156  001RN00000135NWYAY   \n",
       "28  150720230150720230   True              150720230  0018c00002egpt3AAA   \n",
       "29    9880111198801111   True               98801111  0018c00002egpjgAAA   \n",
       "30  134372168134372168   True              134372168  001RN00000135GJYAY   \n",
       "31  133896988133896988   True              133896988  001RN00000135GFYAY   \n",
       "32  146107788146107788  False              146107788  001RN000006LIOmYAO   \n",
       "33  126785283126785283   True              126785283  0018c00002egprNAAQ   \n",
       "34  189139500189139500   True              189139500  0018c00002egq7uAAA   \n",
       "35  128907807128907807   True              128907807  001RN00000135G6YAI   \n",
       "36  160414359160414359  False              160414359  0018c00002eUHM9AAO   \n",
       "37  176972491176972491   True              176972491  001RN00000131nGYAQ   \n",
       "38  134590009134590009   True              134590009  0018c00002egps8AAA   \n",
       "39  15340982K15340982K   True              15340982K  001RN00000135GoYAI   \n",
       "40  219578393219578393   True              219578393  001RN00000135NkYAI   \n",
       "41  134983205134983205   True              134983205  001RN00000135GSYAY   \n",
       "42  16741088K16741088K   True              16741088K  001RN00000135H6YAI   \n",
       "43  191376544191376544   True              191376544  0018c00002egq7xAAA   \n",
       "44  246761388246761388   True              246761388  0018c00002egq8PAAQ   \n",
       "45  164009912164009912   True              164009912  001RN00000135H2YAI   \n",
       "46  163562855163562855   True              163562855  001RN00000135NyYAI   \n",
       "47  101600912101600912   True              101600912  001RN00000135FjYAI   \n",
       "48  157905619157905619   True              157905619  0018c00002egptaAAA   \n",
       "49  180848487180848487   True              180848487  001RN00000135NVYAY   \n",
       "\n",
       "   Empresa__c EmpActiva poliza2  \n",
       "0     Buscarv      CL90    CL90  \n",
       "1     Buscarv      CL90    CL90  \n",
       "2     Buscarv      CL90    CL90  \n",
       "3     Buscarv      CL90    CL90  \n",
       "4     Buscarv      CL90    CL90  \n",
       "5     Buscarv      CL90    CL90  \n",
       "6     Buscarv      CL90    CL90  \n",
       "7     Buscarv      CL90    CL90  \n",
       "8     Buscarv      CL90    CL90  \n",
       "9     Buscarv      CL90    CL90  \n",
       "10    Buscarv      CL90    CL90  \n",
       "11    Buscarv      CL90    CL90  \n",
       "12    Buscarv      CL90    CL90  \n",
       "13    Buscarv      CL90    CL90  \n",
       "14    Buscarv      CL90    CL90  \n",
       "15    Buscarv      CL90    CL90  \n",
       "16    Buscarv      CL90    CL90  \n",
       "17    Buscarv      CL90    CL90  \n",
       "18    Buscarv      CL90    CL90  \n",
       "19    Buscarv      CL90    CL90  \n",
       "20    Buscarv      CL90    CL90  \n",
       "21    Buscarv      CL90    CL90  \n",
       "22    Buscarv      CL90    CL90  \n",
       "23    Buscarv      CL90    CL90  \n",
       "24    Buscarv      CL90    CL90  \n",
       "25    Buscarv      CL90    CL90  \n",
       "26    Buscarv      CL90    CL90  \n",
       "27    Buscarv      CL90    CL90  \n",
       "28    Buscarv      CL90    CL90  \n",
       "29    Buscarv      CL90    CL90  \n",
       "30    Buscarv      CL90    CL90  \n",
       "31    Buscarv      CL90    CL90  \n",
       "32    Buscarv      CL90    CL90  \n",
       "33    Buscarv      CL90    CL90  \n",
       "34    Buscarv      CL90    CL90  \n",
       "35    Buscarv      CL90    CL90  \n",
       "36    Buscarv      CL90    CL90  \n",
       "37    Buscarv      CL90    CL90  \n",
       "38    Buscarv      CL90    CL90  \n",
       "39    Buscarv      CL90    CL90  \n",
       "40    Buscarv      CL90    CL90  \n",
       "41    Buscarv      CL90    CL90  \n",
       "42    Buscarv      CL90    CL90  \n",
       "43    Buscarv      CL90    CL90  \n",
       "44    Buscarv      CL90    CL90  \n",
       "45    Buscarv      CL90    CL90  \n",
       "46    Buscarv      CL90    CL90  \n",
       "47    Buscarv      CL90    CL90  \n",
       "48    Buscarv      CL90    CL90  \n",
       "49    Buscarv      CL90    CL90  "
      ]
     },
     "execution_count": 1091,
     "metadata": {},
     "output_type": "execute_result"
    }
   ],
   "source": [
    "todos_con_Id.head(50)"
   ]
  },
  {
   "cell_type": "code",
   "execution_count": 1092,
   "metadata": {
    "notebookRunGroups": {
     "groupValue": "2"
    }
   },
   "outputs": [],
   "source": [
    "todos_con_Id.to_excel(\n",
    "    \"F:/Empresas SF/reportes/todos con.xlsx\", index=False\n",
    ")"
   ]
  },
  {
   "cell_type": "code",
   "execution_count": 1093,
   "metadata": {
    "notebookRunGroups": {
     "groupValue": ""
    }
   },
   "outputs": [],
   "source": [
    "\n",
    "empresacontactoconvenio_PacientesSF.to_excel(\n",
    "    \"F:/Empresas SF/reportes/empresacontacto.xlsx\", index=False\n",
    ")"
   ]
  },
  {
   "cell_type": "markdown",
   "metadata": {},
   "source": [
    "Cuadrar eliminar pacientes q no estan en el listado\n",
    "//-----------------------------------------------------------//\n"
   ]
  },
  {
   "cell_type": "code",
   "execution_count": null,
   "metadata": {},
   "outputs": [],
   "source": [
    "empresacontactoconvenio_PacientesSF.drop(empresacontactoconvenio_PacientesSF[(empresacontactoconvenio_PacientesSF[\"Rut_y\"] == \"163820064\")].index, inplace=True)\n",
    "empresacontactoconvenio_PacientesSF.drop(empresacontactoconvenio_PacientesSF[(empresacontactoconvenio_PacientesSF[\"Rut_y\"] == \"153298939\")].index, inplace=True)\n",
    "empresacontactoconvenio_PacientesSF.drop(empresacontactoconvenio_PacientesSF[(empresacontactoconvenio_PacientesSF[\"Rut_y\"] == \"191710940\")].index, inplace=True)\n",
    "empresacontactoconvenio_PacientesSF.drop(empresacontactoconvenio_PacientesSF[(empresacontactoconvenio_PacientesSF[\"Rut_y\"] == \"182470082\")].index, inplace=True)\n",
    "empresacontactoconvenio_PacientesSF.drop(empresacontactoconvenio_PacientesSF[(empresacontactoconvenio_PacientesSF[\"Rut_y\"] == \"16277865\")].index, inplace=True)\n",
    "empresacontactoconvenio_PacientesSF.drop(empresacontactoconvenio_PacientesSF[(empresacontactoconvenio_PacientesSF[\"Rut_y\"] == \"16277865K\")].index, inplace=True)\n",
    "empresacontactoconvenio_PacientesSF.drop(empresacontactoconvenio_PacientesSF[(empresacontactoconvenio_PacientesSF[\"Rut_y\"] == \"HEGJ930928HMNRRL06\")].index, inplace=True)\n",
    "empresacontactoconvenio_PacientesSF.drop(empresacontactoconvenio_PacientesSF[(empresacontactoconvenio_PacientesSF[\"Rut_y\"] == \"16007258K\")].index, inplace=True)\n",
    "empresacontactoconvenio_PacientesSF.drop(empresacontactoconvenio_PacientesSF[(empresacontactoconvenio_PacientesSF[\"Rut_y\"] == \"86676540\")].index, inplace=True)\n",
    "empresacontactoconvenio_PacientesSF.drop(empresacontactoconvenio_PacientesSF[(empresacontactoconvenio_PacientesSF[\"Rut_y\"] == \"202201466\")].index, inplace=True)\n",
    "empresacontactoconvenio_PacientesSF.drop(empresacontactoconvenio_PacientesSF[(empresacontactoconvenio_PacientesSF[\"Rut_y\"] == \"105233469\")].index, inplace=True)\n",
    "empresacontactoconvenio_PacientesSF.drop(empresacontactoconvenio_PacientesSF[(empresacontactoconvenio_PacientesSF[\"Rut_y\"] == \"130949185\")].index, inplace=True)\n",
    "empresacontactoconvenio_PacientesSF.drop(empresacontactoconvenio_PacientesSF[(empresacontactoconvenio_PacientesSF[\"Rut_y\"] == \"255356798\")].index, inplace=True)\n",
    "empresacontactoconvenio_PacientesSF.drop(empresacontactoconvenio_PacientesSF[(empresacontactoconvenio_PacientesSF[\"Rut_y\"] == \"34005945\")].index, inplace=True)\n",
    "empresacontactoconvenio_PacientesSF.drop(empresacontactoconvenio_PacientesSF[(empresacontactoconvenio_PacientesSF[\"Rut_y\"] == \"185410072\")].index, inplace=True)\n",
    "empresacontactoconvenio_PacientesSF.drop(empresacontactoconvenio_PacientesSF[(empresacontactoconvenio_PacientesSF[\"Rut_y\"] == \"197415029\")].index, inplace=True)\n",
    "empresacontactoconvenio_PacientesSF.drop(empresacontactoconvenio_PacientesSF[(empresacontactoconvenio_PacientesSF[\"Rut_y\"] == \"254468134\")].index, inplace=True)\n",
    "\n",
    "\n",
    "\n",
    "empresacontactoconvenio_PacientesSF.head()"
   ]
  },
  {
   "cell_type": "code",
   "execution_count": null,
   "metadata": {},
   "outputs": [],
   "source": [
    "empresacontactoconvenio_PacientesSF.to_excel(\n",
    "    \"F:/Empresas SF/reportes/SFpacientes.xlsx\", index=False)"
   ]
  },
  {
   "cell_type": "code",
   "execution_count": null,
   "metadata": {},
   "outputs": [],
   "source": [
    "contactd = sf.Account.get(\"0018c00002lUyo0AAC\")\n",
    "contactd[\"PersonContactId\"]"
   ]
  },
  {
   "cell_type": "code",
   "execution_count": null,
   "metadata": {},
   "outputs": [],
   "source": [
    "# contactd[\"PersonContactId\"]\n",
    "print(datetime.now())"
   ]
  },
  {
   "cell_type": "code",
   "execution_count": null,
   "metadata": {},
   "outputs": [],
   "source": [
    "Subir_pacientes.to_excel(\"F:/Empresas SF/reportes/tod  es.xlsx\", index=False)"
   ]
  },
  {
   "cell_type": "markdown",
   "metadata": {},
   "source": [
    "query2 = \"select P_liza**c, Nombre_de_Empresa**c, Rut_Empresa**c, Empresa_Padre**r.Name, Empresa**r.name,Holding**c, Plan**c, Pais**c, Activo**c, Id from Datos_Empresa**c \"\n",
    "\n",
    "df2 = sf.smart_query(query2)\n",
    "df2.to_excel(\"F:/Empresas SF/reportes/empresas_nuevas.xlsx\", index=False)\n",
    "df2.head()\n"
   ]
  },
  {
   "cell_type": "markdown",
   "metadata": {},
   "source": [
    "Subir_pacientes.to_excel(\"F:/Empresas SF/reportes/111account.xlsx\", index=False)\n"
   ]
  },
  {
   "cell_type": "markdown",
   "metadata": {},
   "source": [
    "derty = Subir_pacientes[\"IdentificationId__pc\"]\n",
    "sf.Contact.create({\"IdentificationId\\_\\_pc\": \"derty\", \"Email\": \"example@example.com\"})\n"
   ]
  },
  {
   "cell_type": "markdown",
   "metadata": {},
   "source": [
    "Subir_pacientes.head()\n"
   ]
  },
  {
   "cell_type": "markdown",
   "metadata": {},
   "source": [
    "Subir_pacientes.head()\n",
    "Subir_pacientes.to_excel(\"F:/Empresas SF/reportes/account\\_\\_l.xlsx\", index=False)\n"
   ]
  },
  {
   "cell_type": "code",
   "execution_count": null,
   "metadata": {},
   "outputs": [],
   "source": [
    "\"\"\" if campaña != \"MetLife\":\n",
    "    pacientes_en_campaña = pd.merge(\n",
    "        left=campaña_seleccionada,\n",
    "        right=Pacientes_con_id,\n",
    "        how=\"left\",\n",
    "        left_on=\"Id Account\",\n",
    "        right_on=\"Id Account Paciente\",\n",
    "    )\n",
    "    pacientes_en_campaña[\"Paciente__c\"] = \"Id Pacientes\"\n",
    "    pacientes_en_campaña[\"Programas_por_Empresas__c\"] = \"Id Programas Por empresa\"\n",
    "    pacientes_en_campaña.to_excel(\n",
    "        \"F:/Empresas SF/reportes/campaña_empresa.xlsx\", index=False\n",
    "    )\n",
    "    campaña_en_pacientes = pd.merge(\n",
    "        left=Pacientes_con_id,\n",
    "        right=campaña_seleccionada,\n",
    "        how=\"left\",\n",
    "        left_on=\"Id Account Paciente\",\n",
    "        right_on=\"Id Account\",\n",
    "    )\n",
    "    campaña_en_pacientes.to_excel(\n",
    "        \"F:/Empresas SF/reportes/archivo_campaña.xlsx\", index=False\n",
    "    )\n",
    " \"\"\""
   ]
  },
  {
   "cell_type": "code",
   "execution_count": null,
   "metadata": {},
   "outputs": [],
   "source": [
    "\"\"\" if campaña != \"MetLife1\":\n",
    "    campaña_en_pacientes = pd.merge(\n",
    "        left=Pacientes_con_id,\n",
    "        right=campaña_seleccionada,\n",
    "        how=\"left\",\n",
    "        left_on=\"Id Account Paciente\",\n",
    "        right_on=\"Id Account\",\n",
    "    )\n",
    "    if (\"poliza\" in campaña_en_pacientes.columns) == True:\n",
    "        campaña_en_pacientes[\"poliza\"] = campaña_en_pacientes[\"poliza\"].astype(str)\n",
    "\n",
    "    campaña_en_pacientes = campaña_en_pacientes.rename(\n",
    "        columns={\"Programas_por_Empresas__c\": \"programas por empresa\"}\n",
    "    )\n",
    "    campaña_en_pacientes[\"Paciente__c\"] = campaña_en_pacientes[\"Id Account Paciente\"]\n",
    "    campaña_en_pacientes[\"Programas_por_Empresas__c\"] = campaña_en_pacientes[\n",
    "        \"programas por empresa\"\n",
    "    ]\n",
    "    campaña_en_pacientes.to_excel(\n",
    "        \"F:/Empresas SF/reportes/archivo_campaña2.xlsx\", index=False\n",
    "    ) \"\"\""
   ]
  },
  {
   "cell_type": "code",
   "execution_count": null,
   "metadata": {},
   "outputs": [],
   "source": [
    "# apprix_1 = Pacientes_SF.iloc[:790552,:]\n",
    "# apprix_2 = Pacientes_SF.iloc[790553:,:]\n",
    "# apprix_1.to_excel(\"F:/Empresas SF/reportes/Ruts1.xlsx\",index=False)\n",
    "# apprix_2.to_excel(\"F:/Empresas SF/reportes/Ruts2.xlsx\",index=False)"
   ]
  },
  {
   "cell_type": "code",
   "execution_count": null,
   "metadata": {},
   "outputs": [],
   "source": [
    "campaña_en_pacientes2 = pd.merge(\n",
    "    left=Pacientes_con_id,\n",
    "    right=campaña_seleccionada,\n",
    "    how=\"left\",\n",
    "    left_on=\"Id Account Paciente\",\n",
    "    right_on=\"Id Account\",\n",
    ")\n",
    "if (\"poliza\" in campaña_en_pacientes2.columns) == True:\n",
    "    campaña_en_pacientes2[\"poliza\"] = campaña_en_pacientes2[\"poliza\"].astype(str)\n",
    "\n",
    "campaña_en_pacientes2 = campaña_en_pacientes2.rename(\n",
    "    columns={\"Programas_por_Empresas__c\": \"programas por empresa\"}\n",
    ")\n",
    "campaña_en_pacientes2[\"Paciente__c\"] = campaña_en_pacientes2[\"Id Account Paciente\"]\n",
    "campaña_en_pacientes2[\"Programas_por_Empresas__c\"] = campaña_en_pacientes2[\n",
    "    \"programas por empresa\"\n",
    "]\n",
    "\n",
    "\n",
    "\"\"\" campaña_en_pacientes2 = campaña_en_pacientes2[\n",
    "    (campaña_en_pacientes2[\"Programas_por_Empresas__c\"] == \"\")] \"\"\"\n",
    "campaña_en_pacientes2[\"Esta\"] = campaña_en_pacientes2[\"programas por empresa\"].isnull()\n",
    "campaña_en_pacientes2 = campaña_en_pacientes2[campaña_en_pacientes2[\"Esta\"]]\n",
    "campaña_en_pacientes2.to_excel(\n",
    "    \"F:/Empresas SF/reportes/archivo_campaña3.xlsx\", index=False\n",
    ")"
   ]
  },
  {
   "cell_type": "code",
   "execution_count": null,
   "metadata": {},
   "outputs": [],
   "source": [
    "campaña_en_pacientes2[\"rut\"].shape"
   ]
  },
  {
   "cell_type": "code",
   "execution_count": null,
   "metadata": {},
   "outputs": [],
   "source": [
    "# nuevosrutes = \"F:/Empresas SF/reportes/rut.xlsx\"\n",
    "# campaña = \"BCI Seguros Colectivos\"\n",
    "# Pais = \"Chile\"\n",
    "# Pais = \"México\"\n",
    "\n",
    "# rutes = pd.read_excel(nuevosrutes)\n",
    "rutes = pd.DataFrame(columns=[\"rut\"])\n",
    "rutes[\"rut\"] = Pacientes_Archivo[\"rut\"]\n",
    "rutes[\"rutT\"] = Pacientes_Archivo[\"rut2\"]\n",
    "rutes[\"Contratante\"] = Pacientes_Archivo[\"Contratante\"]\n",
    "# rutes[\"poliza\"] = Pacientes_Archivo[\"poliza\"]\n",
    "rutes.head()"
   ]
  },
  {
   "cell_type": "code",
   "execution_count": null,
   "metadata": {},
   "outputs": [],
   "source": [
    "rutes[\"rut\"] = rutes[\"rut\"].astype(str)\n",
    "rutes[\"rut\"] = rutes[\"rut\"].str.replace(\".\", \"\")\n",
    "rutes[\"rut\"] = rutes[\"rut\"].str.replace(\"-\", \"\")\n",
    "# aca se trabaja con el nuevo rut desde rut1 ojooooooo\n",
    "rutes[\"rut\"] = rutes[\"rut\"].str.upper()\n",
    "rutes[\"rut\"] = rutes[\"rut\"].str.strip()\n",
    "\n",
    "rutes[\"rutT\"] = rutes[\"rutT\"].astype(str)\n",
    "rutes[\"rutT\"] = rutes[\"rutT\"].str.replace(\".\", \"\")\n",
    "rutes[\"rutT\"] = rutes[\"rutT\"].str.replace(\"-\", \"\")\n",
    "# aca se trabaja con el nuevo rut desde rut1 ojooooooo\n",
    "rutes[\"rutT\"] = rutes[\"rutT\"].str.upper()\n",
    "rutes[\"rutT\"] = rutes[\"rutT\"].str.strip()\n",
    "\n",
    "\"\"\" rutes[\"poliza\"] = rutes[\"poliza\"].astype(str)\n",
    "rutes[\"poliza\"] = rutes[\"poliza\"].str.replace(\".\", \"\")\n",
    "rutes[\"poliza\"] = rutes[\"poliza\"].str.replace(\"-\", \"\")\n",
    "# aca se trabaja con el nuevo rut desde rut1 ojooooooo\n",
    "rutes[\"poliza\"] = rutes[\"poliza\"].str.strip() \"\"\"\n",
    "\n",
    "\n",
    "rutes.head()"
   ]
  },
  {
   "cell_type": "code",
   "execution_count": null,
   "metadata": {},
   "outputs": [],
   "source": [
    "# derty = rutes.to_numpy().transpose().tolist()\n",
    "\n",
    "\n",
    "Pacientes_SF2 = Pacientes_SF[[\"Rut\", \"Id Account Paciente\"]]"
   ]
  },
  {
   "cell_type": "code",
   "execution_count": null,
   "metadata": {},
   "outputs": [],
   "source": [
    "rutesi = pd.merge(\n",
    "    left=rutes,\n",
    "    right=Pacientes_SF2,\n",
    "    how=\"left\",\n",
    "    left_on=\"rut\",\n",
    "    right_on=\"Rut\",\n",
    ")\n",
    "rutesi.shape\n",
    "rutesi.to_excel(\"F:/Empresas SF/reportes/rutsyempresa.xlsx\", index=False)"
   ]
  },
  {
   "cell_type": "code",
   "execution_count": null,
   "metadata": {},
   "outputs": [],
   "source": [
    "rutesi.head()"
   ]
  },
  {
   "cell_type": "code",
   "execution_count": null,
   "metadata": {},
   "outputs": [],
   "source": [
    "rutesi_antg = pd.merge(\n",
    "    left=rutesi,\n",
    "    right=empresas_unidas,\n",
    "    how=\"left\",\n",
    "    left_on=\"Id Account Paciente\",\n",
    "    right_on=\"Id Account\",\n",
    ")"
   ]
  },
  {
   "cell_type": "code",
   "execution_count": null,
   "metadata": {},
   "outputs": [],
   "source": [
    "rutesi_antg.head()"
   ]
  },
  {
   "cell_type": "code",
   "execution_count": null,
   "metadata": {},
   "outputs": [],
   "source": [
    "# rutesi_antg .to_excel(\"F:/Empresas SF/reportes/ruts_empresas_antiguos.xlsx\", index=False)"
   ]
  },
  {
   "cell_type": "code",
   "execution_count": null,
   "metadata": {},
   "outputs": [],
   "source": [
    "import json\n",
    "import pandas as pd\n",
    "from simple_salesforce import Salesforce, format_soql, format_external_id\n",
    "from json import loads, dumps\n",
    "import simpler_sf\n",
    "\n",
    "simpler_sf.simple_salesforce()"
   ]
  },
  {
   "cell_type": "code",
   "execution_count": null,
   "metadata": {},
   "outputs": [],
   "source": [
    "with open(\"login.json\", \"r\") as j:\n",
    "    misDatos = json.load(j)\n",
    "sf = Salesforce(\n",
    "    username=misDatos[\"username\"],\n",
    "    password=misDatos[\"password\"],\n",
    "    security_token=misDatos[\"security_token\"],\n",
    ")"
   ]
  },
  {
   "cell_type": "code",
   "execution_count": null,
   "metadata": {},
   "outputs": [],
   "source": [
    "\"\"\" query = \"select Id, Account.Name, RutContact__c from AccountContactRelation \"\n",
    "\n",
    "df1 = sf.smart_query(query) \"\"\""
   ]
  },
  {
   "cell_type": "code",
   "execution_count": null,
   "metadata": {},
   "outputs": [],
   "source": [
    "# nuevosrutes = \"F:/Empresas SF/reportes/rut.xlsx\"\n",
    "# campaña = \"BCI Seguros Colectivos\"\n",
    "# Pais = \"Chile\"\n",
    "# Pais = \"México\"\n",
    "\n",
    "# rutes = pd.read_excel(nuevosrutes)\n",
    "# rutes = Subir_pacientes[\"rut\"]"
   ]
  },
  {
   "cell_type": "code",
   "execution_count": null,
   "metadata": {},
   "outputs": [],
   "source": [
    "\"\"\" df1.head() \"\"\""
   ]
  },
  {
   "cell_type": "code",
   "execution_count": null,
   "metadata": {},
   "outputs": [],
   "source": [
    "\"\"\" df1[\"rut\"] = df1[\"RutContact__c\"].astype(str)\n",
    "df1[\"rut\"] = df1[\"rut\"].str.replace(\".\", \"\")\n",
    "df1[\"rut\"] = df1[\"rut\"].str.replace(\n",
    "    \"-\", \"\"\n",
    ")  # aca se trabaja con el nuevo rut desde rut1 ojooooooo\n",
    "df1[\"rut\"] = df1[\"rut\"].str.upper()\n",
    "df1[\"rut\"] = df1[\"rut\"].str.strip()\n",
    "df1.head() \"\"\""
   ]
  },
  {
   "cell_type": "code",
   "execution_count": null,
   "metadata": {},
   "outputs": [],
   "source": [
    "\"\"\" rutes.head() \"\"\""
   ]
  },
  {
   "cell_type": "code",
   "execution_count": null,
   "metadata": {},
   "outputs": [],
   "source": [
    "\"\"\" rutesi = pd.merge(\n",
    "    left=rutes,\n",
    "    right=df1,\n",
    "    how=\"left\",\n",
    "    left_on=\"rut\",\n",
    "    right_on=\"rut\",\n",
    ") \"\"\""
   ]
  },
  {
   "cell_type": "code",
   "execution_count": null,
   "metadata": {},
   "outputs": [],
   "source": [
    "\"\"\" rutesi.to_excel(\"F:/Empresas SF/reportes/rutesnuevos_accountcontactrelation.xlsx\", index=False) \"\"\""
   ]
  },
  {
   "cell_type": "code",
   "execution_count": null,
   "metadata": {},
   "outputs": [],
   "source": [
    "\"\"\" df2[\"P_liza__c\"] = df2[\"P_liza__c\"].astype(str)\n",
    "df2[\"P_liza__c\"] = df2[\"P_liza__c\"].str.replace(\".\", \"\")\n",
    "df2[\"P_liza__c\"] = df2[\"P_liza__c\"].str.replace(\"-\", \"\")\n",
    "# aca se trabaja con el nuevo rut desde rut1 ojooooooo\n",
    "df2[\"P_liza__c\"] = df2[\"P_liza__c\"].str.upper()\n",
    "df2[\"P_liza__c\"] = df2[\"P_liza__c\"].str.strip() \"\"\""
   ]
  },
  {
   "cell_type": "code",
   "execution_count": null,
   "metadata": {},
   "outputs": [],
   "source": [
    "modelo_nuevo = pd.merge(\n",
    "    left=rutesi,\n",
    "    right=df2,\n",
    "    how=\"left\",\n",
    "    left_on=\"poliza\",\n",
    "    right_on=\"P_liza__c\",\n",
    ")\n",
    "modelo_nuevo.to_excel(\"F:/Empresas SF/reportes/modelo_nuevo.xlsx\", index=False)"
   ]
  },
  {
   "cell_type": "code",
   "execution_count": null,
   "metadata": {},
   "outputs": [],
   "source": [
    "modelo = pd.DataFrame()\n",
    "modelo = modelo_nuevo[[\"rutT\", \"Id Account Paciente\", \"Id\"]]"
   ]
  },
  {
   "cell_type": "code",
   "execution_count": null,
   "metadata": {},
   "outputs": [],
   "source": [
    "modelo.head()"
   ]
  }
 ],
 "metadata": {
  "kernelspec": {
   "display_name": "salesforce",
   "language": "python",
   "name": "python3"
  },
  "language_info": {
   "codemirror_mode": {
    "name": "ipython",
    "version": 3
   },
   "file_extension": ".py",
   "mimetype": "text/x-python",
   "name": "python",
   "nbconvert_exporter": "python",
   "pygments_lexer": "ipython3",
   "version": "3.8.16"
  },
  "orig_nbformat": 4,
  "vscode": {
   "interpreter": {
    "hash": "7fbccfb583f385d5cd7c75cc6ade03c09354727271e9200f47ca4e7fedb5381e"
   }
  }
 },
 "nbformat": 4,
 "nbformat_minor": 2
}
