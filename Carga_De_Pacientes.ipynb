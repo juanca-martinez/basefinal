{
 "cells": [
  {
   "cell_type": "code",
   "execution_count": 163,
   "metadata": {
    "notebookRunGroups": {
     "groupValue": "1"
    }
   },
   "outputs": [],
   "source": [
    "from pathlib import Path\n",
    "import requests\n",
    "import pandas as pd\n",
    "import numpy as np\n",
    "from io import StringIO\n",
    "import shutil\n",
    "import datetime\n",
    "from datetime import datetime\n",
    "import re\n",
    "import json\n",
    "from pandas.api.types import is_numeric_dtype\n",
    "from simple_salesforce import Salesforce, format_soql, format_external_id\n",
    "from simple_salesforce.exceptions import SalesforceMalformedRequest\n",
    "import simpler_sf\n",
    "\n",
    "simpler_sf.simple_salesforce()"
   ]
  },
  {
   "cell_type": "code",
   "execution_count": 164,
   "metadata": {
    "notebookRunGroups": {
     "groupValue": "1"
    }
   },
   "outputs": [],
   "source": [
    "with open(\"login.json\", \"r\") as j:\n",
    "    misDatos = json.load(j)"
   ]
  },
  {
   "cell_type": "code",
   "execution_count": 165,
   "metadata": {
    "notebookRunGroups": {
     "groupValue": "1"
    }
   },
   "outputs": [],
   "source": [
    "# para smart query\n",
    "\"\"\" sf = simple_salesforce.Salesforce(\n",
    "    username=misDatos[\"username\"],\n",
    "    password=misDatos[\"password\"],\n",
    "    security_token=misDatos[\"security_token\"],\n",
    ")\n",
    " \"\"\"\n",
    "# para lo demas\n",
    "sf = Salesforce(\n",
    "    username=misDatos[\"username\"],\n",
    "    password=misDatos[\"password\"],\n",
    "    security_token=misDatos[\"security_token\"],\n",
    ")\n",
    "# paramiko.util.log_to_file(\"paramiko.log\")\n",
    "regex = re.compile(r\"([A-Za-z0-9]+[.-_])*[A-Za-z0-9]+@[A-Za-z0-9-]+(\\.[A-Z|a-z]{2,})+\")"
   ]
  },
  {
   "cell_type": "markdown",
   "metadata": {},
   "source": [
    "Descarga de empresas en sistema\n"
   ]
  },
  {
   "cell_type": "code",
   "execution_count": 166,
   "metadata": {
    "notebookRunGroups": {
     "groupValue": "1"
    }
   },
   "outputs": [
    {
     "data": {
      "text/plain": [
       "' llamadaEmpresaAntiguas = \"SELECT Id,Empresa__r.Id, Empresa__r.Name, Empresa__r.Holding__c, Empresa__r.Campa_a__c, Empresa__r.Id_Empresa__c, Empresa__r.Empleador__c, Empresa__r.poliza__c, Empresa__r.RUT_Empresa__c, Empresa__r.Corredor__c,Empresa__r.Padre_Empresa__c, Name FROM Programas_por_Empresas__c WHERE Empresa__r.Padre_Empresa__c = false\"\\nvllamadaEmpresa = sf.smart_query(llamadaEmpresaAntiguas)\\nvllamadaEmpresa.to_excel(\"F:/Empresas SF/reportes/empresas_Antiguas.xlsx\", index=False)\\nvllamadaEmpresa.head() '"
      ]
     },
     "execution_count": 166,
     "metadata": {},
     "output_type": "execute_result"
    }
   ],
   "source": [
    "\"\"\" llamadaEmpresaAntiguas = \"SELECT Id,Empresa__r.Id, Empresa__r.Name, Empresa__r.Holding__c, Empresa__r.Campa_a__c, Empresa__r.Id_Empresa__c, Empresa__r.Empleador__c, Empresa__r.poliza__c, Empresa__r.RUT_Empresa__c, Empresa__r.Corredor__c,Empresa__r.Padre_Empresa__c, Name FROM Programas_por_Empresas__c WHERE Empresa__r.Padre_Empresa__c = false\"\n",
    "vllamadaEmpresa = sf.smart_query(llamadaEmpresaAntiguas)\n",
    "vllamadaEmpresa.to_excel(\"F:/Empresas SF/reportes/empresas_Antiguas.xlsx\", index=False)\n",
    "vllamadaEmpresa.head() \"\"\""
   ]
  },
  {
   "cell_type": "markdown",
   "metadata": {},
   "source": [
    "vllamadaEmpresa.shape\n"
   ]
  },
  {
   "cell_type": "code",
   "execution_count": 167,
   "metadata": {
    "notebookRunGroups": {
     "groupValue": "1"
    }
   },
   "outputs": [
    {
     "data": {
      "text/plain": [
       "')\\nEmpresas_SF = pd.DataFrame(results[\"records\"])\\nEmpresas_SF = Empresas_SF[\\n    [\\n        \"Id\",\\n        \"Name\",\\n        \"Holding__c\",\\n        \"Campa_a__c\",\\n        \"Id_Empresa__c\",\\n        \"Empleador__c\",\\n        \"poliza__c\",\\n        \"RUT_Empresa__c\",\\n    ]\\n]\\nEmpresas_SF.shape '"
      ]
     },
     "execution_count": 167,
     "metadata": {},
     "output_type": "execute_result"
    }
   ],
   "source": [
    "# Recuperar empresas ID de salesforce desde Account\n",
    "\"\"\" results = sf.query_all(\"\"\"\n",
    "# \"\"\"\n",
    "# SELECT Id, name, Holding__c ,Campa_a__c,Id_Empresa__c,Empleador__c,poliza__c,RUT_Empresa__c  FROM account where ispersonaccount = false  AND Nueva_Estructura__c = False\n",
    "# \"\"\"\n",
    "\"\"\")\n",
    "Empresas_SF = pd.DataFrame(results[\"records\"])\n",
    "Empresas_SF = Empresas_SF[\n",
    "    [\n",
    "        \"Id\",\n",
    "        \"Name\",\n",
    "        \"Holding__c\",\n",
    "        \"Campa_a__c\",\n",
    "        \"Id_Empresa__c\",\n",
    "        \"Empleador__c\",\n",
    "        \"poliza__c\",\n",
    "        \"RUT_Empresa__c\",\n",
    "    ]\n",
    "]\n",
    "Empresas_SF.shape \"\"\""
   ]
  },
  {
   "cell_type": "code",
   "execution_count": 168,
   "metadata": {
    "notebookRunGroups": {
     "groupValue": "1"
    }
   },
   "outputs": [],
   "source": [
    "# buscar empresas desde Programas_por_Empresas__c datos de empresas\n",
    "# results = sf.query_all(\n",
    "#    \"\"\"\n",
    "#   select Id,Empresa__c, Empresa_Padre__c,Nombre_Empresa__c, Name  from Programas_por_Empresas__c\n",
    "#    \"\"\"\n",
    "# )\n",
    "# Programas_por_empresa_SF = pd.DataFrame(results[\"records\"])\n",
    "\n",
    "# Programas_por_empresa_SF = Programas_por_empresa_SF[\n",
    "#    [\"Id\", \"Empresa__c\", \"Empresa_Padre__c\", \"Nombre_Empresa__c\", \"Name\"]\n",
    "# ]\n",
    "# Programas_por_empresa_SF.shape"
   ]
  },
  {
   "cell_type": "code",
   "execution_count": 169,
   "metadata": {
    "notebookRunGroups": {
     "groupValue": "1"
    }
   },
   "outputs": [
    {
     "data": {
      "text/plain": [
       "' Programas_empresas = pd.merge(\\n    left=Empresas_SF,\\n    right=Programas_por_empresa_SF,\\n    how=\"left\",\\n    left_on=\"Id\",\\n    right_on=\"Empresa__c\",\\n)\\nProgramas_empresas = Programas_empresas.rename(\\n    columns={\\n        \"Id_x\": \"Id Account Empresa\",\\n        \"Name_x\": \"Nombre Empresa\",\\n        \"Holding__c\": \"Holding\",\\n        \"Campa_a__c\": \"Campaña\",\\n        \"Empleador__c\": \"Empleador\",\\n        \"poliza__c\": \"Poliza\",\\n        \"RUT_Empresa__c\": \"Rut Empresa\",\\n        \"Id_y\": \"Programas_por_Empresas__c\",\\n        \"Id_Empresa__c\": \"Codigo EMP\",\\n        \"Name_y\": \"Codigo A\",\\n    }\\n)\\nProgramas_empresas = Programas_empresas[\\n    [\\n        \"Id Account Empresa\",\\n        \"Nombre Empresa\",\\n        \"Holding\",\\n        \"Campaña\",\\n        \"Empleador\",\\n        \"Poliza\",\\n        \"Rut Empresa\",\\n        \"Programas_por_Empresas__c\",\\n        \"Codigo EMP\",\\n        \"Codigo A\",\\n    ]\\n]\\n\\nProgramas_empresas.shape '"
      ]
     },
     "execution_count": 169,
     "metadata": {},
     "output_type": "execute_result"
    }
   ],
   "source": [
    "# Union de Programas Empresa y empresas\n",
    "\"\"\" Programas_empresas = pd.merge(\n",
    "    left=Empresas_SF,\n",
    "    right=Programas_por_empresa_SF,\n",
    "    how=\"left\",\n",
    "    left_on=\"Id\",\n",
    "    right_on=\"Empresa__c\",\n",
    ")\n",
    "Programas_empresas = Programas_empresas.rename(\n",
    "    columns={\n",
    "        \"Id_x\": \"Id Account Empresa\",\n",
    "        \"Name_x\": \"Nombre Empresa\",\n",
    "        \"Holding__c\": \"Holding\",\n",
    "        \"Campa_a__c\": \"Campaña\",\n",
    "        \"Empleador__c\": \"Empleador\",\n",
    "        \"poliza__c\": \"Poliza\",\n",
    "        \"RUT_Empresa__c\": \"Rut Empresa\",\n",
    "        \"Id_y\": \"Programas_por_Empresas__c\",\n",
    "        \"Id_Empresa__c\": \"Codigo EMP\",\n",
    "        \"Name_y\": \"Codigo A\",\n",
    "    }\n",
    ")\n",
    "Programas_empresas = Programas_empresas[\n",
    "    [\n",
    "        \"Id Account Empresa\",\n",
    "        \"Nombre Empresa\",\n",
    "        \"Holding\",\n",
    "        \"Campaña\",\n",
    "        \"Empleador\",\n",
    "        \"Poliza\",\n",
    "        \"Rut Empresa\",\n",
    "        \"Programas_por_Empresas__c\",\n",
    "        \"Codigo EMP\",\n",
    "        \"Codigo A\",\n",
    "    ]\n",
    "]\n",
    "\n",
    "Programas_empresas.shape \"\"\""
   ]
  },
  {
   "cell_type": "code",
   "execution_count": 170,
   "metadata": {
    "notebookRunGroups": {
     "groupValue": "1"
    }
   },
   "outputs": [],
   "source": [
    "# Programas_empresas.to_excel(\"F:/Empresas SF/reportes/empresas.xlsx\", index=False)"
   ]
  },
  {
   "cell_type": "code",
   "execution_count": 171,
   "metadata": {
    "notebookRunGroups": {
     "groupValue": "1"
    }
   },
   "outputs": [
    {
     "name": "stderr",
     "output_type": "stream",
     "text": [
      "100%|██████████| 1/1 [00:09<00:00,  9.98s/it]\n"
     ]
    },
    {
     "data": {
      "text/html": [
       "<div>\n",
       "<style scoped>\n",
       "    .dataframe tbody tr th:only-of-type {\n",
       "        vertical-align: middle;\n",
       "    }\n",
       "\n",
       "    .dataframe tbody tr th {\n",
       "        vertical-align: top;\n",
       "    }\n",
       "\n",
       "    .dataframe thead th {\n",
       "        text-align: right;\n",
       "    }\n",
       "</style>\n",
       "<table border=\"1\" class=\"dataframe\">\n",
       "  <thead>\n",
       "    <tr style=\"text-align: right;\">\n",
       "      <th></th>\n",
       "      <th>P_liza__c</th>\n",
       "      <th>Nombre_de_Empresa__c</th>\n",
       "      <th>Identificador__c</th>\n",
       "      <th>Rut_Empresa__c</th>\n",
       "      <th>Empresa_Padre__r.Name</th>\n",
       "      <th>Holding__c</th>\n",
       "      <th>Plan__c</th>\n",
       "      <th>Pais__c</th>\n",
       "      <th>Activo__c</th>\n",
       "      <th>Id</th>\n",
       "      <th>LLave</th>\n",
       "      <th>dato</th>\n",
       "    </tr>\n",
       "  </thead>\n",
       "  <tbody>\n",
       "    <tr>\n",
       "      <th>0</th>\n",
       "      <td>Sin Póliza Asociada</td>\n",
       "      <td>Colaboradores Care Assistance Chile SPA</td>\n",
       "      <td>Colaboradores Care Assistance Chile SPA</td>\n",
       "      <td>775173998</td>\n",
       "      <td>Colaboradores</td>\n",
       "      <td>Siempre Chile SPA</td>\n",
       "      <td>Plan Gold</td>\n",
       "      <td>Chile</td>\n",
       "      <td>False</td>\n",
       "      <td>a3yRN0000006mmjYAA</td>\n",
       "      <td>775173998Sin Póliza Asociada</td>\n",
       "      <td>1</td>\n",
       "    </tr>\n",
       "    <tr>\n",
       "      <th>1</th>\n",
       "      <td>-</td>\n",
       "      <td>Apunto Servicios De Alimentacion</td>\n",
       "      <td>Apunto Servicios De Alimentacion</td>\n",
       "      <td>-</td>\n",
       "      <td>Consalud</td>\n",
       "      <td>Holding Consalud</td>\n",
       "      <td>-</td>\n",
       "      <td>Chile</td>\n",
       "      <td>False</td>\n",
       "      <td>a3yRN0000006rG9YAI</td>\n",
       "      <td>-</td>\n",
       "      <td>1</td>\n",
       "    </tr>\n",
       "    <tr>\n",
       "      <th>2</th>\n",
       "      <td>-</td>\n",
       "      <td>2M Inmobiliaria Spa.</td>\n",
       "      <td>2M Inmobiliaria Spa.</td>\n",
       "      <td>-</td>\n",
       "      <td>THB Seguros COVID</td>\n",
       "      <td>Solo Titulares</td>\n",
       "      <td>-</td>\n",
       "      <td>Chile</td>\n",
       "      <td>True</td>\n",
       "      <td>a3yRN0000006rGAYAY</td>\n",
       "      <td>-</td>\n",
       "      <td>1</td>\n",
       "    </tr>\n",
       "    <tr>\n",
       "      <th>3</th>\n",
       "      <td>-</td>\n",
       "      <td>360 Gms Capacitacion Spa.</td>\n",
       "      <td>360 Gms Capacitacion Spa.</td>\n",
       "      <td>-</td>\n",
       "      <td>THB Seguros COVID</td>\n",
       "      <td>Solo Titulares</td>\n",
       "      <td>-</td>\n",
       "      <td>Chile</td>\n",
       "      <td>True</td>\n",
       "      <td>a3yRN0000006rGBYAY</td>\n",
       "      <td>-</td>\n",
       "      <td>1</td>\n",
       "    </tr>\n",
       "    <tr>\n",
       "      <th>4</th>\n",
       "      <td>-</td>\n",
       "      <td>361 Gms Capacitacion Spa.</td>\n",
       "      <td>361 Gms Capacitacion Spa.</td>\n",
       "      <td>-</td>\n",
       "      <td>THB Seguros COVID</td>\n",
       "      <td>Solo Titulares</td>\n",
       "      <td>-</td>\n",
       "      <td>Chile</td>\n",
       "      <td>True</td>\n",
       "      <td>a3yRN0000006rGCYAY</td>\n",
       "      <td>-</td>\n",
       "      <td>1</td>\n",
       "    </tr>\n",
       "  </tbody>\n",
       "</table>\n",
       "</div>"
      ],
      "text/plain": [
       "             P_liza__c                     Nombre_de_Empresa__c  \\\n",
       "0  Sin Póliza Asociada  Colaboradores Care Assistance Chile SPA   \n",
       "1                    -         Apunto Servicios De Alimentacion   \n",
       "2                    -                     2M Inmobiliaria Spa.   \n",
       "3                    -                360 Gms Capacitacion Spa.   \n",
       "4                    -                361 Gms Capacitacion Spa.   \n",
       "\n",
       "                          Identificador__c Rut_Empresa__c  \\\n",
       "0  Colaboradores Care Assistance Chile SPA      775173998   \n",
       "1         Apunto Servicios De Alimentacion              -   \n",
       "2                     2M Inmobiliaria Spa.              -   \n",
       "3                360 Gms Capacitacion Spa.              -   \n",
       "4                361 Gms Capacitacion Spa.              -   \n",
       "\n",
       "  Empresa_Padre__r.Name         Holding__c    Plan__c Pais__c  Activo__c  \\\n",
       "0         Colaboradores  Siempre Chile SPA  Plan Gold   Chile      False   \n",
       "1              Consalud   Holding Consalud          -   Chile      False   \n",
       "2     THB Seguros COVID     Solo Titulares          -   Chile       True   \n",
       "3     THB Seguros COVID     Solo Titulares          -   Chile       True   \n",
       "4     THB Seguros COVID     Solo Titulares          -   Chile       True   \n",
       "\n",
       "                   Id                         LLave  dato  \n",
       "0  a3yRN0000006mmjYAA  775173998Sin Póliza Asociada     1  \n",
       "1  a3yRN0000006rG9YAI                             -     1  \n",
       "2  a3yRN0000006rGAYAY                             -     1  \n",
       "3  a3yRN0000006rGBYAY                             -     1  \n",
       "4  a3yRN0000006rGCYAY                             -     1  "
      ]
     },
     "execution_count": 171,
     "metadata": {},
     "output_type": "execute_result"
    }
   ],
   "source": [
    "query2 = \"select P_liza__c, Nombre_de_Empresa__c,Identificador__c, Rut_Empresa__c, Empresa_Padre__r.Name, Empresa__r.name,Holding__c, Plan__c, Pais__c, Activo__c, Id from Datos_Empresa__c \"\n",
    "\n",
    "df2 = sf.smart_query(query2)\n",
    "df2[\"LLave\"] = df2[\"Rut_Empresa__c\"].str.upper().str.replace(\"-\", \"\") + df2[\"P_liza__c\"]\n",
    "df2[\"dato\"] = 1\n",
    "df2.to_excel(\"F:/Empresas SF/reportes/empresas_nuevas.xlsx\", index=False)\n",
    "df2.head()"
   ]
  },
  {
   "attachments": {},
   "cell_type": "markdown",
   "metadata": {},
   "source": [
    "fin empresas y comienzo de rescate de pacientes\n"
   ]
  },
  {
   "cell_type": "code",
   "execution_count": 172,
   "metadata": {
    "notebookRunGroups": {
     "groupValue": "1"
    }
   },
   "outputs": [
    {
     "name": "stderr",
     "output_type": "stream",
     "text": [
      "100%|██████████| 1/1 [04:51<00:00, 291.87s/it]\n"
     ]
    },
    {
     "data": {
      "text/plain": [
       "(2013701, 10)"
      ]
     },
     "execution_count": 172,
     "metadata": {},
     "output_type": "execute_result"
    }
   ],
   "source": [
    "# CArga de PAcientes\n",
    "results = \"select Id, IdentificationId__pc,Name, Identification_Type__c, Ocupaci_n__c,  PersonTitle ,PersonDepartment,HealthCloudGA__Gender__pc,Phone,PersonContactId  from Account where ispersonaccount = True\"\n",
    "\n",
    "Pacientes_SF = sf.smart_query(results)\n",
    "\n",
    "\n",
    "Pacientes_SF = Pacientes_SF[\n",
    "    [\n",
    "        \"Id\",\n",
    "        \"IdentificationId__pc\",\n",
    "        \"Name\",\n",
    "        \"Identification_Type__c\",\n",
    "        \"Ocupaci_n__c\",\n",
    "        \"PersonTitle\",\n",
    "        \"PersonDepartment\",\n",
    "        \"HealthCloudGA__Gender__pc\",\n",
    "        \"Phone\",\n",
    "        \"PersonContactId\",\n",
    "    ]\n",
    "]\n",
    "Pacientes_SF = Pacientes_SF.rename(\n",
    "    columns={\n",
    "        \"Id\": \"Id Account Paciente\",\n",
    "        \"IdentificationId__pc\": \"Rut\",\n",
    "        \"Name\": \"Nombre\",\n",
    "        \"PersonTitle\": \"Cargo\",\n",
    "        \"PersonDepartment\": \"Departamento\",\n",
    "        \"HealthCloudGA__Gender__pc\": \"Sexo\",\n",
    "        \"Phone\": \"Telefono\",\n",
    "        \"Identification_Type__c\": \"Tipo de Documento\",\n",
    "        \"PersonContactId\": \"Id Contacto\",\n",
    "    }\n",
    ")\n",
    "Pacientes_SF.shape"
   ]
  },
  {
   "cell_type": "code",
   "execution_count": 173,
   "metadata": {
    "notebookRunGroups": {
     "groupValue": "1"
    }
   },
   "outputs": [],
   "source": [
    "def siPrimerCero(y, campana):\n",
    "    if campana != \"ProChile\":\n",
    "        if len(y) <= 4:\n",
    "            return \"NONE\"\n",
    "        if y[0] == \"0\":\n",
    "            y = y[1:]\n",
    "        # return y\n",
    "    return y"
   ]
  },
  {
   "cell_type": "code",
   "execution_count": 174,
   "metadata": {
    "notebookRunGroups": {
     "groupValue": "1"
    }
   },
   "outputs": [
    {
     "name": "stderr",
     "output_type": "stream",
     "text": [
      "C:\\Users\\jmartinez\\AppData\\Local\\Temp\\ipykernel_18168\\1898835356.py:6: FutureWarning: The default value of regex will change from True to False in a future version. In addition, single character regular expressions will *not* be treated as literal strings when regex=True.\n",
      "  Pacientes_SF[\"Rut\"] = Pacientes_SF[\"Rut\"].str.replace(\".\", \"\")\n"
     ]
    }
   ],
   "source": [
    "Pacientes_SF[\"Rut\"] = Pacientes_SF[\"Rut\"].astype(str)\n",
    "Pacientes_SF[\"Rut\"] = Pacientes_SF[\"Rut\"].str.upper()\n",
    "Pacientes_SF[\"Rut\"] = Pacientes_SF[\"Rut\"].str.replace(\"-\", \"\")\n",
    "Pacientes_SF[\"Rut\"] = Pacientes_SF[\"Rut\"].str.replace(\"–\", \"\")\n",
    "Pacientes_SF[\"Rut\"] = Pacientes_SF[\"Rut\"].astype(str)\n",
    "Pacientes_SF[\"Rut\"] = Pacientes_SF[\"Rut\"].str.replace(\".\", \"\")\n",
    "Pacientes_SF[\"Rut\"] = Pacientes_SF[\"Rut\"].apply(lambda y: siPrimerCero(y, \"0\"))\n",
    "Pacientes_SF[\"Rut\"] = Pacientes_SF[\"Rut\"].str.strip()"
   ]
  },
  {
   "cell_type": "code",
   "execution_count": 175,
   "metadata": {
    "notebookRunGroups": {
     "groupValue": "1"
    }
   },
   "outputs": [],
   "source": [
    "Pacientes_Nones1 = Pacientes_SF[(Pacientes_SF[\"Rut\"] == \"NONE\")]\n",
    "Pacientes_SF = Pacientes_SF[(Pacientes_SF[\"Rut\"] != \"NONE\")]\n",
    "Pacientes_Nones1.to_excel(\"F:/Empresas SF/reportes/NONE1.xlsx\", index=False)"
   ]
  },
  {
   "attachments": {},
   "cell_type": "markdown",
   "metadata": {},
   "source": [
    "Aca se comienzan a unir las relaciones de pacientes y empresas ya creadas.\n"
   ]
  },
  {
   "cell_type": "markdown",
   "metadata": {
    "notebookRunGroups": {
     "groupValue": "1"
    }
   },
   "source": [
    "# buscar empresas desde Paciente_Programas\\_\\_c relaciones de empresas con pacientes\n",
    "\n",
    "results = sf.query_all(\n",
    "\"\"\"\n",
    "select Id,Paciente**c, Programas_por_Empresas**c,padre**c from Paciente_Programas**c  \n",
    " \"\"\"\n",
    ")\n",
    "Paciente_Programas_SF = pd.DataFrame(results[\"records\"])\n",
    "\n",
    "Paciente_Programas_SF = Paciente_Programas_SF[\n",
    "[\"Id\", \"Paciente__c\", \"Programas_por_Empresas__c\", \"padre__c\"]\n",
    "]\n",
    "Paciente_Programas_SF = Paciente_Programas_SF.rename(\n",
    "columns={\n",
    "\"Id\": \"Id Pacientes_Programas**c\",\n",
    "\"Paciente**c\": \"Id Account\",\n",
    "\"Programas_por_Empresas**c\": \"Programas_por_Empresas**c\",\n",
    "\"padre\\_\\_c\": \"Nombre Campaña\",\n",
    "}\n",
    ")\n",
    "Paciente_Programas_SF.shape\n"
   ]
  },
  {
   "cell_type": "markdown",
   "metadata": {
    "notebookRunGroups": {
     "groupValue": "1"
    }
   },
   "source": [
    "# Union de Pacientes Programas y Programas por empresa\n",
    "\n",
    "empresas_unidas = pd.merge(\n",
    "left=Paciente_Programas_SF,\n",
    "right=Programas_empresas,\n",
    "how=\"left\",\n",
    "left_on=\"Programas_por_Empresas**c\",\n",
    "right_on=\"Programas_por_Empresas**c\",\n",
    ")\n",
    "empresas_unidas.shape\n"
   ]
  },
  {
   "attachments": {},
   "cell_type": "markdown",
   "metadata": {},
   "source": [
    "Carga de Archivo carga\n"
   ]
  },
  {
   "cell_type": "code",
   "execution_count": 220,
   "metadata": {
    "notebookRunGroups": {
     "groupValue": "2"
    }
   },
   "outputs": [
    {
     "data": {
      "text/html": [
       "<div>\n",
       "<style scoped>\n",
       "    .dataframe tbody tr th:only-of-type {\n",
       "        vertical-align: middle;\n",
       "    }\n",
       "\n",
       "    .dataframe tbody tr th {\n",
       "        vertical-align: top;\n",
       "    }\n",
       "\n",
       "    .dataframe thead th {\n",
       "        text-align: right;\n",
       "    }\n",
       "</style>\n",
       "<table border=\"1\" class=\"dataframe\">\n",
       "  <thead>\n",
       "    <tr style=\"text-align: right;\">\n",
       "      <th></th>\n",
       "      <th>poliza</th>\n",
       "      <th>rutE</th>\n",
       "      <th>empleador</th>\n",
       "      <th>RUTASEGURADO</th>\n",
       "      <th>DV</th>\n",
       "      <th>rut2</th>\n",
       "      <th>CARGA</th>\n",
       "      <th>RUTBENEFICIARIO</th>\n",
       "      <th>RUTBENEFIARIO_DV</th>\n",
       "      <th>rut1</th>\n",
       "      <th>...</th>\n",
       "      <th>BANCO</th>\n",
       "      <th>NOMBREBANCO</th>\n",
       "      <th>NUMEROCUENTACORRIENTE</th>\n",
       "      <th>CAPITALASEGFALLECIMIENTO</th>\n",
       "      <th>CAPITALASEGMUERTEACC_AP</th>\n",
       "      <th>celular</th>\n",
       "      <th>IDBENEFICIARIO</th>\n",
       "      <th>POLGR</th>\n",
       "      <th>NUMEROASEGURADO</th>\n",
       "      <th>NUMEROCARGA</th>\n",
       "    </tr>\n",
       "  </thead>\n",
       "  <tbody>\n",
       "    <tr>\n",
       "      <th>0</th>\n",
       "      <td>340024970</td>\n",
       "      <td>1</td>\n",
       "      <td>Metlife Chile Seguros De Vida S.A.</td>\n",
       "      <td>6024115</td>\n",
       "      <td>5</td>\n",
       "      <td>60241155</td>\n",
       "      <td>0</td>\n",
       "      <td>6024115</td>\n",
       "      <td>5</td>\n",
       "      <td>60241155</td>\n",
       "      <td>...</td>\n",
       "      <td>0</td>\n",
       "      <td>NaN</td>\n",
       "      <td>NaN</td>\n",
       "      <td>0</td>\n",
       "      <td>50</td>\n",
       "      <td>NaN</td>\n",
       "      <td>84458928</td>\n",
       "      <td>0340024970G0001</td>\n",
       "      <td>1298</td>\n",
       "      <td>0</td>\n",
       "    </tr>\n",
       "    <tr>\n",
       "      <th>1</th>\n",
       "      <td>340024970</td>\n",
       "      <td>1</td>\n",
       "      <td>Metlife Chile Seguros De Vida S.A.</td>\n",
       "      <td>6024115</td>\n",
       "      <td>5</td>\n",
       "      <td>60241155</td>\n",
       "      <td>3</td>\n",
       "      <td>20286445</td>\n",
       "      <td>7</td>\n",
       "      <td>202864457</td>\n",
       "      <td>...</td>\n",
       "      <td>0</td>\n",
       "      <td>NaN</td>\n",
       "      <td>NaN</td>\n",
       "      <td>0</td>\n",
       "      <td>0</td>\n",
       "      <td>NaN</td>\n",
       "      <td>84458930</td>\n",
       "      <td>0340024970G0001</td>\n",
       "      <td>1298</td>\n",
       "      <td>2</td>\n",
       "    </tr>\n",
       "    <tr>\n",
       "      <th>2</th>\n",
       "      <td>340024970</td>\n",
       "      <td>1</td>\n",
       "      <td>Metlife Chile Seguros De Vida S.A.</td>\n",
       "      <td>6024115</td>\n",
       "      <td>5</td>\n",
       "      <td>60241155</td>\n",
       "      <td>4</td>\n",
       "      <td>21665935</td>\n",
       "      <td>K</td>\n",
       "      <td>21665935K</td>\n",
       "      <td>...</td>\n",
       "      <td>0</td>\n",
       "      <td>NaN</td>\n",
       "      <td>NaN</td>\n",
       "      <td>0</td>\n",
       "      <td>0</td>\n",
       "      <td>NaN</td>\n",
       "      <td>84458929</td>\n",
       "      <td>0340024970G0001</td>\n",
       "      <td>1298</td>\n",
       "      <td>1</td>\n",
       "    </tr>\n",
       "    <tr>\n",
       "      <th>3</th>\n",
       "      <td>340024970</td>\n",
       "      <td>1</td>\n",
       "      <td>Metlife Chile Seguros De Vida S.A.</td>\n",
       "      <td>6044802</td>\n",
       "      <td>7</td>\n",
       "      <td>60448027</td>\n",
       "      <td>0</td>\n",
       "      <td>6044802</td>\n",
       "      <td>7</td>\n",
       "      <td>60448027</td>\n",
       "      <td>...</td>\n",
       "      <td>0</td>\n",
       "      <td>NaN</td>\n",
       "      <td>NaN</td>\n",
       "      <td>0</td>\n",
       "      <td>50</td>\n",
       "      <td>991293151</td>\n",
       "      <td>84458931</td>\n",
       "      <td>0340024970G0001</td>\n",
       "      <td>1299</td>\n",
       "      <td>0</td>\n",
       "    </tr>\n",
       "    <tr>\n",
       "      <th>4</th>\n",
       "      <td>340024970</td>\n",
       "      <td>1</td>\n",
       "      <td>Metlife Chile Seguros De Vida S.A.</td>\n",
       "      <td>6062275</td>\n",
       "      <td>2</td>\n",
       "      <td>60622752</td>\n",
       "      <td>0</td>\n",
       "      <td>6062275</td>\n",
       "      <td>2</td>\n",
       "      <td>60622752</td>\n",
       "      <td>...</td>\n",
       "      <td>0</td>\n",
       "      <td>NaN</td>\n",
       "      <td>NaN</td>\n",
       "      <td>0</td>\n",
       "      <td>50</td>\n",
       "      <td>NaN</td>\n",
       "      <td>84458932</td>\n",
       "      <td>0340024970G0001</td>\n",
       "      <td>1300</td>\n",
       "      <td>0</td>\n",
       "    </tr>\n",
       "  </tbody>\n",
       "</table>\n",
       "<p>5 rows × 47 columns</p>\n",
       "</div>"
      ],
      "text/plain": [
       "      poliza  rutE                           empleador  RUTASEGURADO DV  \\\n",
       "0  340024970     1  Metlife Chile Seguros De Vida S.A.       6024115  5   \n",
       "1  340024970     1  Metlife Chile Seguros De Vida S.A.       6024115  5   \n",
       "2  340024970     1  Metlife Chile Seguros De Vida S.A.       6024115  5   \n",
       "3  340024970     1  Metlife Chile Seguros De Vida S.A.       6044802  7   \n",
       "4  340024970     1  Metlife Chile Seguros De Vida S.A.       6062275  2   \n",
       "\n",
       "       rut2  CARGA  RUTBENEFICIARIO RUTBENEFIARIO_DV       rut1  ... BANCO  \\\n",
       "0  60241155      0          6024115                5   60241155  ...     0   \n",
       "1  60241155      3         20286445                7  202864457  ...     0   \n",
       "2  60241155      4         21665935                K  21665935K  ...     0   \n",
       "3  60448027      0          6044802                7   60448027  ...     0   \n",
       "4  60622752      0          6062275                2   60622752  ...     0   \n",
       "\n",
       "  NOMBREBANCO NUMEROCUENTACORRIENTE CAPITALASEGFALLECIMIENTO  \\\n",
       "0         NaN                   NaN                        0   \n",
       "1         NaN                   NaN                        0   \n",
       "2         NaN                   NaN                        0   \n",
       "3         NaN                   NaN                        0   \n",
       "4         NaN                   NaN                        0   \n",
       "\n",
       "  CAPITALASEGMUERTEACC_AP    celular IDBENEFICIARIO            POLGR  \\\n",
       "0                      50        NaN       84458928  0340024970G0001   \n",
       "1                       0        NaN       84458930  0340024970G0001   \n",
       "2                       0        NaN       84458929  0340024970G0001   \n",
       "3                      50  991293151       84458931  0340024970G0001   \n",
       "4                      50        NaN       84458932  0340024970G0001   \n",
       "\n",
       "  NUMEROASEGURADO  NUMEROCARGA  \n",
       "0            1298            0  \n",
       "1            1298            2  \n",
       "2            1298            1  \n",
       "3            1299            0  \n",
       "4            1300            0  \n",
       "\n",
       "[5 rows x 47 columns]"
      ]
     },
     "execution_count": 220,
     "metadata": {},
     "output_type": "execute_result"
    }
   ],
   "source": [
    "# nuevos = \"F:/Empresas SF/reportes/SFTP.xlsx\"\n",
    "# nuevos = \"F:/Cargas Base Datos CRM/MetLife/General (Servidor Interno)/CUADRATURA/Meses/Metlife 040324.xlsx\"\n",
    "nuevos = \"F:/Empresas SF/reportes/carga.xlsx\"\n",
    "campaña = \"MetLife\"\n",
    "Pais = \"Chile\"\n",
    "baseFinal = True\n",
    "#Pais = \"México\"\n",
    "\n",
    "Pacientes_Archivo = pd.read_excel(nuevos)\n",
    "# OJO se copia rut1 a rut le saca el guoion\n",
    "Pacientes_Archivo.head(5)"
   ]
  },
  {
   "cell_type": "code",
   "execution_count": 221,
   "metadata": {
    "notebookRunGroups": {
     "groupValue": "2"
    }
   },
   "outputs": [
    {
     "data": {
      "text/plain": [
       "(3111, 47)"
      ]
     },
     "execution_count": 221,
     "metadata": {},
     "output_type": "execute_result"
    }
   ],
   "source": [
    "Pacientes_Archivo.shape"
   ]
  },
  {
   "cell_type": "code",
   "execution_count": 222,
   "metadata": {
    "notebookRunGroups": {
     "groupValue": "2"
    }
   },
   "outputs": [],
   "source": [
    "Pacientes_IDrut = Pacientes_SF[\n",
    "    [\n",
    "        \"Rut\",\n",
    "        \"Id Account Paciente\",\n",
    "        # \"Id Contacto\",\n",
    "    ]\n",
    "]"
   ]
  },
  {
   "cell_type": "code",
   "execution_count": 223,
   "metadata": {
    "notebookRunGroups": {
     "groupValue": "2"
    }
   },
   "outputs": [
    {
     "name": "stderr",
     "output_type": "stream",
     "text": [
      "C:\\Users\\jmartinez\\AppData\\Local\\Temp\\ipykernel_18168\\1490231206.py:5: FutureWarning: The default value of regex will change from True to False in a future version. In addition, single character regular expressions will *not* be treated as literal strings when regex=True.\n",
      "  Pacientes_Archivo[\"rut\"] = Pacientes_Archivo[\"rut\"].str.replace(\".\", \"\")\n",
      "C:\\Users\\jmartinez\\AppData\\Local\\Temp\\ipykernel_18168\\1490231206.py:14: FutureWarning: The default value of regex will change from True to False in a future version. In addition, single character regular expressions will *not* be treated as literal strings when regex=True.\n",
      "  Pacientes_Archivo[\"poliza\"] = Pacientes_Archivo[\"poliza\"].str.replace(\".\", \"\")\n",
      "C:\\Users\\jmartinez\\AppData\\Local\\Temp\\ipykernel_18168\\1490231206.py:24: FutureWarning: The default value of regex will change from True to False in a future version. In addition, single character regular expressions will *not* be treated as literal strings when regex=True.\n",
      "  Pacientes_Archivo[\"rutE\"] = Pacientes_Archivo[\"rutE\"].str.replace(\".\", \"\")\n"
     ]
    },
    {
     "data": {
      "text/plain": [
       "(3111, 48)"
      ]
     },
     "execution_count": 223,
     "metadata": {},
     "output_type": "execute_result"
    }
   ],
   "source": [
    "Pacientes_Archivo[\"rut\"] = Pacientes_Archivo[\"rut1\"].astype(str)\n",
    "Pacientes_Archivo[\"rut\"] = Pacientes_Archivo[\"rut\"].str.replace(\"-\", \"\")\n",
    "Pacientes_Archivo[\"rut\"] = Pacientes_Archivo[\"rut\"].str.replace(\"–\", \"\")\n",
    "Pacientes_Archivo[\"rut\"] = Pacientes_Archivo[\"rut\"].astype(str)\n",
    "Pacientes_Archivo[\"rut\"] = Pacientes_Archivo[\"rut\"].str.replace(\".\", \"\")\n",
    "Pacientes_Archivo[\"rut\"] = Pacientes_Archivo[\"rut\"].str.replace(\" \", \"\")\n",
    "Pacientes_Archivo[\"rut\"] = Pacientes_Archivo[\"rut\"].str.upper()\n",
    "Pacientes_Archivo[\"rut\"] = Pacientes_Archivo[\"rut\"].str.strip()\n",
    "\n",
    "Pacientes_Archivo[\"poliza\"] = Pacientes_Archivo[\"poliza\"].astype(str)\n",
    "Pacientes_Archivo[\"poliza\"] = Pacientes_Archivo[\"poliza\"].str.replace(\"-\", \"\")\n",
    "Pacientes_Archivo[\"poliza\"] = Pacientes_Archivo[\"poliza\"].str.replace(\"–\", \"\")\n",
    "Pacientes_Archivo[\"poliza\"] = Pacientes_Archivo[\"poliza\"].astype(str)\n",
    "Pacientes_Archivo[\"poliza\"] = Pacientes_Archivo[\"poliza\"].str.replace(\".\", \"\")\n",
    "Pacientes_Archivo[\"poliza\"] = Pacientes_Archivo[\"poliza\"].str.replace(\" \", \"\")\n",
    "Pacientes_Archivo[\"poliza\"] = Pacientes_Archivo[\"poliza\"].str.upper()\n",
    "Pacientes_Archivo[\"poliza\"] = Pacientes_Archivo[\"poliza\"].str.strip()\n",
    "Pacientes_Archivo.shape\n",
    "\n",
    "Pacientes_Archivo[\"rutE\"] = Pacientes_Archivo[\"rutE\"].astype(str)\n",
    "Pacientes_Archivo[\"rutE\"] = Pacientes_Archivo[\"rutE\"].str.upper()\n",
    "Pacientes_Archivo[\"rutE\"] = Pacientes_Archivo[\"rutE\"].str.replace(\"-\", \"\")\n",
    "Pacientes_Archivo[\"rutE\"] = Pacientes_Archivo[\"rutE\"].str.replace(\"–\", \"\")\n",
    "Pacientes_Archivo[\"rutE\"] = Pacientes_Archivo[\"rutE\"].str.replace(\".\", \"\")\n",
    "Pacientes_Archivo[\"rutE\"] = Pacientes_Archivo[\"rutE\"].str.strip()\n",
    "Pacientes_Archivo.shape"
   ]
  },
  {
   "cell_type": "code",
   "execution_count": 224,
   "metadata": {
    "notebookRunGroups": {
     "groupValue": "2"
    }
   },
   "outputs": [
    {
     "name": "stderr",
     "output_type": "stream",
     "text": [
      "C:\\Users\\jmartinez\\AppData\\Local\\Temp\\ipykernel_18168\\2296516763.py:5: FutureWarning: The default value of regex will change from True to False in a future version. In addition, single character regular expressions will *not* be treated as literal strings when regex=True.\n",
      "  Pacientes_Archivo[\"rutT\"] = Pacientes_Archivo[\"rutT\"].str.replace(\".\", \"\")\n"
     ]
    },
    {
     "data": {
      "text/plain": [
       "(3111, 49)"
      ]
     },
     "execution_count": 224,
     "metadata": {},
     "output_type": "execute_result"
    }
   ],
   "source": [
    "Pacientes_Archivo[\"rutT\"] = Pacientes_Archivo[\"rut2\"].astype(str)\n",
    "Pacientes_Archivo[\"rutT\"] = Pacientes_Archivo[\"rutT\"].str.replace(\"-\", \"\")\n",
    "Pacientes_Archivo[\"rutT\"] = Pacientes_Archivo[\"rutT\"].str.replace(\"–\", \"\")\n",
    "Pacientes_Archivo[\"rutT\"] = Pacientes_Archivo[\"rutT\"].astype(str)\n",
    "Pacientes_Archivo[\"rutT\"] = Pacientes_Archivo[\"rutT\"].str.replace(\".\", \"\")\n",
    "Pacientes_Archivo[\"rut\"] = Pacientes_Archivo[\"rut\"].str.replace(\" \", \"\")\n",
    "Pacientes_Archivo[\"rutT\"] = Pacientes_Archivo[\"rutT\"].str.upper()\n",
    "Pacientes_Archivo[\"rutT\"] = Pacientes_Archivo[\"rutT\"].str.strip()\n",
    "Pacientes_Archivo.shape"
   ]
  },
  {
   "cell_type": "code",
   "execution_count": 225,
   "metadata": {
    "notebookRunGroups": {
     "groupValue": "2"
    }
   },
   "outputs": [
    {
     "name": "stderr",
     "output_type": "stream",
     "text": [
      "C:\\Users\\jmartinez\\AppData\\Local\\Temp\\ipykernel_18168\\3410721566.py:3: FutureWarning: The default value of regex will change from True to False in a future version. In addition, single character regular expressions will *not* be treated as literal strings when regex=True.\n",
      "  Pacientes_Archivo[\"nombres\"] = Pacientes_Archivo[\"nombres\"].str.replace(\".\", \"\")\n",
      "C:\\Users\\jmartinez\\AppData\\Local\\Temp\\ipykernel_18168\\3410721566.py:13: FutureWarning: The default value of regex will change from True to False in a future version. In addition, single character regular expressions will *not* be treated as literal strings when regex=True.\n",
      "  Pacientes_Archivo[\"apellidos\"] = Pacientes_Archivo[\"apellidos\"].str.replace(\".\", \"\")\n"
     ]
    }
   ],
   "source": [
    "if (\"nombres\" in Pacientes_Archivo.columns) == True:\n",
    "    Pacientes_Archivo[\"nombres\"] = Pacientes_Archivo[\"nombres\"].str.replace(\",\", \"\")\n",
    "    Pacientes_Archivo[\"nombres\"] = Pacientes_Archivo[\"nombres\"].str.replace(\".\", \"\")\n",
    "    Pacientes_Archivo[\"nombres\"] = Pacientes_Archivo[\"nombres\"].str.replace(\"-\", \"\")\n",
    "    Pacientes_Archivo[\"nombres\"] = Pacientes_Archivo[\"nombres\"].str.replace(\"┐\", \"\")\n",
    "    Pacientes_Archivo[\"nombres\"] = Pacientes_Archivo[\"nombres\"].str.replace(\"═\", \"\")\n",
    "    Pacientes_Archivo[\"nombres\"] = Pacientes_Archivo[\"nombres\"].str.replace(\"╔\", \"\")\n",
    "    Pacientes_Archivo[\"nombres\"] = Pacientes_Archivo[\"nombres\"].str.replace(\"┌\", \"\")\n",
    "    Pacientes_Archivo[\"nombres\"] = Pacientes_Archivo[\"nombres\"].str.title()\n",
    "    Pacientes_Archivo[\"nombres\"] = Pacientes_Archivo[\"nombres\"].str.strip()\n",
    "    # Pacientes_Archivo[\"empresa\"] = Pacientes_Archivo[\"empresa\"].str.title()\n",
    "    Pacientes_Archivo[\"apellidos\"] = Pacientes_Archivo[\"apellidos\"].str.replace(\",\", \"\")\n",
    "    Pacientes_Archivo[\"apellidos\"] = Pacientes_Archivo[\"apellidos\"].str.replace(\".\", \"\")\n",
    "    Pacientes_Archivo[\"apellidos\"] = Pacientes_Archivo[\"apellidos\"].str.replace(\"-\", \"\")\n",
    "    Pacientes_Archivo[\"apellidos\"] = Pacientes_Archivo[\"apellidos\"].str.replace(\"┐\", \"\")\n",
    "    Pacientes_Archivo[\"apellidos\"] = Pacientes_Archivo[\"apellidos\"].str.replace(\"═\", \"\")\n",
    "    Pacientes_Archivo[\"apellidos\"] = Pacientes_Archivo[\"apellidos\"].str.replace(\"╔\", \"\")\n",
    "    Pacientes_Archivo[\"apellidos\"] = Pacientes_Archivo[\"apellidos\"].str.replace(\"┌\", \"\")\n",
    "    Pacientes_Archivo[\"apellidos\"] = Pacientes_Archivo[\"apellidos\"].str.title()\n",
    "    Pacientes_Archivo[\"apellidos\"] = Pacientes_Archivo[\"apellidos\"].str.strip()"
   ]
  },
  {
   "cell_type": "code",
   "execution_count": 226,
   "metadata": {
    "notebookRunGroups": {
     "groupValue": "2"
    }
   },
   "outputs": [],
   "source": [
    "Pacientes_Archivo[\"rut\"] = Pacientes_Archivo[\"rut\"].apply(\n",
    "    lambda y: siPrimerCero(y, campaña)\n",
    ")\n",
    "Pacientes_Archivo[\"rutT\"] = Pacientes_Archivo[\"rutT\"].apply(\n",
    "    lambda y: siPrimerCero(y, campaña)\n",
    ")\n",
    "# Pacientes_Archivo\n",
    "\n",
    "# Pacientes_Nones = Pacientes_Archivo[(Pacientes_Archivo[\"rut\"] == \"NONE\") | (Pacientes_Archivo[\"rutT\"] == \"NONE\")]\n",
    "# Pacientes_Archivo = Pacientes_Archivo[(Pacientes_Archivo[\"rut\"] != \"NONE\") | (Pacientes_Archivo[\"rutT\"] != \"NONE\")]"
   ]
  },
  {
   "cell_type": "code",
   "execution_count": null,
   "metadata": {},
   "outputs": [],
   "source": [
    "# Pacientes_Archivo.to_excel(\"F:/Empresas SF/reportes/Pacientes_Archivo22.xlsx\", index=False)"
   ]
  },
  {
   "cell_type": "code",
   "execution_count": 227,
   "metadata": {
    "notebookRunGroups": {
     "groupValue": "2"
    }
   },
   "outputs": [],
   "source": [
    "Pacientes_Archivo = Pacientes_Archivo[(Pacientes_Archivo[\"rut\"] != \"NONE\")]\n",
    "Pacientes_Archivo = Pacientes_Archivo[(Pacientes_Archivo[\"rutT\"] != \"NONE\")]\n",
    "# | (Pacientes_Archivo[\"rutT\"] != \"NONE\")"
   ]
  },
  {
   "cell_type": "code",
   "execution_count": null,
   "metadata": {},
   "outputs": [],
   "source": [
    "Pacientes_Archivo[\"Llave\"] = Pacientes_Archivo[\"rutT\"] + Pacientes_Archivo[\"rut\"]\n",
    "Pacientes_Archivo[\"PolizaLlave\"] = (\n",
    "    Pacientes_Archivo[\"poliza\"] + Pacientes_Archivo[\"rutT\"] + Pacientes_Archivo[\"rut\"]\n",
    ")\n",
    "\n",
    "# Pacientes_Archivo.to_excel(\"F:/Empresas SF/reportes/eliminar2.xlsx\", index=False)"
   ]
  },
  {
   "cell_type": "markdown",
   "metadata": {},
   "source": [
    "PAcientes Programas\n"
   ]
  },
  {
   "cell_type": "code",
   "execution_count": null,
   "metadata": {
    "notebookRunGroups": {
     "groupValue": ""
    }
   },
   "outputs": [],
   "source": [
    "\"\"\" query_pacientePrograma = (\n",
    "    \"SELECT Paciente__c,Programas_por_Empresas__r.Empresa__c,Paciente__r.IdentificationId__pc,Id from Paciente_Programas__c where padre__c =  '\"\n",
    "    + campaña\n",
    "    + \"'\"\n",
    ")\n",
    "pacientePrograma = sf.smart_query(query_pacientePrograma)\n",
    "pacientePrograma.head()\n",
    "pacientePrograma = pacientePrograma.rename(\n",
    "    columns={\n",
    "        \"Id\": \"Id Paciente Programas\",\n",
    "        \"Paciente__r.IdentificationId__pc\": \"Rut\",\n",
    "        \"Programas_por_Empresas__r.Empresa__c\": \"Id Account Empleador\",\n",
    "        \"Paciente__c\": \"Id Account Paciente\",\n",
    "    }\n",
    ")\n",
    "pacientePrograma.head()\n",
    "pacientePrograma[\"Rut\"] = pacientePrograma[\"Rut\"].astype(str)\n",
    "pacientePrograma[\"Rut\"] = pacientePrograma[\"Rut\"].str.replace(\"-\", \"\")\n",
    "pacientePrograma[\"Rut\"] = pacientePrograma[\"Rut\"].str.replace(\"–\", \"\")\n",
    "pacientePrograma[\"Rut\"] = pacientePrograma[\"Rut\"].astype(str)\n",
    "pacientePrograma[\"Rut\"] = pacientePrograma[\"Rut\"].str.replace(\".\", \"\")\n",
    "pacientePrograma[\"Rut\"] = pacientePrograma[\"Rut\"].str.upper()\n",
    "pacientePrograma[\"Rut\"] = pacientePrograma[\"Rut\"].str.strip()\n",
    "pacientePrograma.shape\n",
    "PacientesProgramas_PacientesSF = pd.merge(\n",
    "    left=pacientePrograma,\n",
    "    right=Pacientes_IDrut,\n",
    "    how=\"left\",\n",
    "    left_on=\"Id Account Paciente\",\n",
    "    right_on=\"Id Account Paciente\",\n",
    ")\n",
    "\n",
    "PacientesProgramas_PacientesSF.head() \"\"\""
   ]
  },
  {
   "cell_type": "markdown",
   "metadata": {},
   "source": [
    "account contact relation\n"
   ]
  },
  {
   "cell_type": "code",
   "execution_count": null,
   "metadata": {
    "notebookRunGroups": {
     "groupValue": ""
    }
   },
   "outputs": [],
   "source": [
    "\"\"\" query_accountContact = (\n",
    "    \"select Id,ContactId, AccountId, RutContact__c ,Contact.AccountId from AccountContactRelation where Account.Campa_a__c = '\"\n",
    "    + campaña\n",
    "    + \"'\"\n",
    ")\n",
    "accountContactRelation = sf.smart_query(query_accountContact)\n",
    "accountContactRelation.head()\n",
    "accountContactRelation = accountContactRelation.rename(\n",
    "    columns={\n",
    "        \"Id\": \"Id AccountContactRelation\",\n",
    "        \"ContactId\": \"Id Contact Paciente\",\n",
    "        \"AccountId\": \"Id Account Empresa\",\n",
    "        \"RutContact__c\": \"Rut\",\n",
    "        \"Contact.AccountId\": \"Id Account Paciente\",\n",
    "    }\n",
    ")\n",
    "accountContactRelation.head()\n",
    "accountContactRelation[\"Rut\"] = accountContactRelation[\"Rut\"].astype(str)\n",
    "accountContactRelation[\"Rut\"] = accountContactRelation[\"Rut\"].str.replace(\"-\", \"\")\n",
    "accountContactRelation[\"Rut\"] = accountContactRelation[\"Rut\"].str.replace(\"–\", \"\")\n",
    "accountContactRelation[\"Rut\"] = accountContactRelation[\"Rut\"].astype(str)\n",
    "accountContactRelation[\"Rut\"] = accountContactRelation[\"Rut\"].str.replace(\".\", \"\")\n",
    "accountContactRelation[\"Rut\"] = accountContactRelation[\"Rut\"].str.upper()\n",
    "accountContactRelation[\"Rut\"] = accountContactRelation[\"Rut\"].str.strip()\n",
    "accountContactRelation.shape\n",
    "AccountContact_PacientesSF = pd.merge(\n",
    "    left=accountContactRelation,\n",
    "    right=Pacientes_IDrut,\n",
    "    how=\"left\",\n",
    "    left_on=\"Id Account Paciente\",\n",
    "    right_on=\"Id Account Paciente\",\n",
    ")\n",
    "AccountContact_PacientesSF.head() \"\"\""
   ]
  },
  {
   "cell_type": "markdown",
   "metadata": {},
   "source": [
    "empresa contacto convenio\n"
   ]
  },
  {
   "cell_type": "code",
   "execution_count": 228,
   "metadata": {
    "notebookRunGroups": {
     "groupValue": "2"
    }
   },
   "outputs": [
    {
     "name": "stderr",
     "output_type": "stream",
     "text": [
      "  0%|          | 0/1 [00:00<?, ?it/s]"
     ]
    }
   ],
   "source": [
    "query_empresacontactoconvenio = (\n",
    "    \"select Id,Paciente__r.IdentificationId__pc, Empresa__r.P_liza__c,Empresa__r.Rut_Empresa__c, Empresa__c, Paciente__c,N_Documento_Titular__c, Relaci_n_Con_Asegurado__c, Identificador__c from EmpresaContactoConvenios__c where Empresa__r.Campa_a__c = '\"\n",
    "    + campaña\n",
    "    + \"'\"\n",
    ")\n",
    "empresacontactoconvenio = sf.smart_query(query_empresacontactoconvenio)\n",
    "empresacontactoconvenio.head()"
   ]
  },
  {
   "cell_type": "code",
   "execution_count": null,
   "metadata": {
    "notebookRunGroups": {
     "groupValue": "2"
    }
   },
   "outputs": [
    {
     "data": {
      "text/html": [
       "<div>\n",
       "<style scoped>\n",
       "    .dataframe tbody tr th:only-of-type {\n",
       "        vertical-align: middle;\n",
       "    }\n",
       "\n",
       "    .dataframe tbody tr th {\n",
       "        vertical-align: top;\n",
       "    }\n",
       "\n",
       "    .dataframe thead th {\n",
       "        text-align: right;\n",
       "    }\n",
       "</style>\n",
       "<table border=\"1\" class=\"dataframe\">\n",
       "  <thead>\n",
       "    <tr style=\"text-align: right;\">\n",
       "      <th></th>\n",
       "      <th>Id EmpresaContactoConvenio</th>\n",
       "      <th>Rut</th>\n",
       "      <th>Poliza</th>\n",
       "      <th>Rut Empresa</th>\n",
       "      <th>Id Convenio Empresa</th>\n",
       "      <th>Id Account Paciente</th>\n",
       "      <th>Rut Titular</th>\n",
       "      <th>Relación</th>\n",
       "      <th>Nombre Empresa</th>\n",
       "    </tr>\n",
       "  </thead>\n",
       "  <tbody>\n",
       "    <tr>\n",
       "      <th>0</th>\n",
       "      <td>a40RN000001BeG5YAK</td>\n",
       "      <td>194062923</td>\n",
       "      <td>-</td>\n",
       "      <td>-</td>\n",
       "      <td>a3yRN0000009psvYAA</td>\n",
       "      <td>001RN000002bBiMYAU</td>\n",
       "      <td>194062923</td>\n",
       "      <td>Titular</td>\n",
       "      <td>MetLife Producto Joven</td>\n",
       "    </tr>\n",
       "    <tr>\n",
       "      <th>1</th>\n",
       "      <td>a40RN000001BeG6YAK</td>\n",
       "      <td>223341136</td>\n",
       "      <td>-</td>\n",
       "      <td>-</td>\n",
       "      <td>a3yRN0000009psvYAA</td>\n",
       "      <td>0018c00002eitPfAAI</td>\n",
       "      <td>223341136</td>\n",
       "      <td>Titular</td>\n",
       "      <td>MetLife Producto Joven</td>\n",
       "    </tr>\n",
       "    <tr>\n",
       "      <th>2</th>\n",
       "      <td>a40RN000001BeG7YAK</td>\n",
       "      <td>138511316</td>\n",
       "      <td>-</td>\n",
       "      <td>-</td>\n",
       "      <td>a3yRN0000009psvYAA</td>\n",
       "      <td>0018c00002axdAyAAI</td>\n",
       "      <td>138511316</td>\n",
       "      <td>Titular</td>\n",
       "      <td>MetLife Producto Joven</td>\n",
       "    </tr>\n",
       "    <tr>\n",
       "      <th>3</th>\n",
       "      <td>a40RN000001BeG8YAK</td>\n",
       "      <td>247591877</td>\n",
       "      <td>-</td>\n",
       "      <td>-</td>\n",
       "      <td>a3yRN0000009psvYAA</td>\n",
       "      <td>0018c00002axUN8AAM</td>\n",
       "      <td>247591877</td>\n",
       "      <td>Titular</td>\n",
       "      <td>MetLife Producto Joven</td>\n",
       "    </tr>\n",
       "    <tr>\n",
       "      <th>4</th>\n",
       "      <td>a40RN000001BeG9YAK</td>\n",
       "      <td>257366944</td>\n",
       "      <td>-</td>\n",
       "      <td>-</td>\n",
       "      <td>a3yRN0000009psvYAA</td>\n",
       "      <td>0018c00002axUYNAA2</td>\n",
       "      <td>257366944</td>\n",
       "      <td>Titular</td>\n",
       "      <td>MetLife Producto Joven</td>\n",
       "    </tr>\n",
       "  </tbody>\n",
       "</table>\n",
       "</div>"
      ],
      "text/plain": [
       "  Id EmpresaContactoConvenio        Rut Poliza Rut Empresa  \\\n",
       "0         a40RN000001BeG5YAK  194062923      -           -   \n",
       "1         a40RN000001BeG6YAK  223341136      -           -   \n",
       "2         a40RN000001BeG7YAK  138511316      -           -   \n",
       "3         a40RN000001BeG8YAK  247591877      -           -   \n",
       "4         a40RN000001BeG9YAK  257366944      -           -   \n",
       "\n",
       "  Id Convenio Empresa Id Account Paciente Rut Titular Relación  \\\n",
       "0  a3yRN0000009psvYAA  001RN000002bBiMYAU   194062923  Titular   \n",
       "1  a3yRN0000009psvYAA  0018c00002eitPfAAI   223341136  Titular   \n",
       "2  a3yRN0000009psvYAA  0018c00002axdAyAAI   138511316  Titular   \n",
       "3  a3yRN0000009psvYAA  0018c00002axUN8AAM   247591877  Titular   \n",
       "4  a3yRN0000009psvYAA  0018c00002axUYNAA2   257366944  Titular   \n",
       "\n",
       "           Nombre Empresa  \n",
       "0  MetLife Producto Joven  \n",
       "1  MetLife Producto Joven  \n",
       "2  MetLife Producto Joven  \n",
       "3  MetLife Producto Joven  \n",
       "4  MetLife Producto Joven  "
      ]
     },
     "execution_count": 185,
     "metadata": {},
     "output_type": "execute_result"
    }
   ],
   "source": [
    "empresacontactoconvenio = empresacontactoconvenio.rename(\n",
    "    columns={\n",
    "        \"Id\": \"Id EmpresaContactoConvenio\",\n",
    "        \"Paciente__r.IdentificationId__pc\": \"Rut\",\n",
    "        \"Empresa__c\": \"Id Convenio Empresa\",\n",
    "        \"Paciente__c\": \"Id Account Paciente\",\n",
    "        \"N_Documento_Titular__c\": \"Rut Titular\",\n",
    "        \"Empresa__r.P_liza__c\": \"Poliza\",\n",
    "        \"Empresa__r.Rut_Empresa__c\": \"Rut Empresa\",\n",
    "        \"Relaci_n_Con_Asegurado__c\": \"Relación\",\n",
    "        \"Identificador__c\": \"Nombre Empresa\",\n",
    "        \"Campa_a__c\": \"Campaña\",\n",
    "    }\n",
    ")\n",
    "empresacontactoconvenio.head()"
   ]
  },
  {
   "cell_type": "code",
   "execution_count": null,
   "metadata": {
    "notebookRunGroups": {
     "groupValue": "2"
    }
   },
   "outputs": [
    {
     "name": "stderr",
     "output_type": "stream",
     "text": [
      "C:\\Users\\jmartinez\\AppData\\Local\\Temp\\ipykernel_18168\\4135217215.py:5: FutureWarning: The default value of regex will change from True to False in a future version. In addition, single character regular expressions will *not* be treated as literal strings when regex=True.\n",
      "  empresacontactoconvenio[\"Rut\"] = empresacontactoconvenio[\"Rut\"].str.replace(\".\", \"\")\n",
      "C:\\Users\\jmartinez\\AppData\\Local\\Temp\\ipykernel_18168\\4135217215.py:22: FutureWarning: The default value of regex will change from True to False in a future version. In addition, single character regular expressions will *not* be treated as literal strings when regex=True.\n",
      "  empresacontactoconvenio[\"Rut Empresa\"] = empresacontactoconvenio[\n",
      "C:\\Users\\jmartinez\\AppData\\Local\\Temp\\ipykernel_18168\\4135217215.py:43: FutureWarning: The default value of regex will change from True to False in a future version. In addition, single character regular expressions will *not* be treated as literal strings when regex=True.\n",
      "  empresacontactoconvenio[\"Poliza\"] = empresacontactoconvenio[\"Poliza\"].str.replace(\n"
     ]
    },
    {
     "data": {
      "text/plain": [
       "(858, 9)"
      ]
     },
     "execution_count": 186,
     "metadata": {},
     "output_type": "execute_result"
    }
   ],
   "source": [
    "empresacontactoconvenio[\"Rut\"] = empresacontactoconvenio[\"Rut\"].astype(str)\n",
    "empresacontactoconvenio[\"Rut\"] = empresacontactoconvenio[\"Rut\"].str.replace(\"-\", \"\")\n",
    "empresacontactoconvenio[\"Rut\"] = empresacontactoconvenio[\"Rut\"].str.replace(\"–\", \"\")\n",
    "empresacontactoconvenio[\"Rut\"] = empresacontactoconvenio[\"Rut\"].astype(str)\n",
    "empresacontactoconvenio[\"Rut\"] = empresacontactoconvenio[\"Rut\"].str.replace(\".\", \"\")\n",
    "empresacontactoconvenio[\"Rut\"] = empresacontactoconvenio[\"Rut\"].str.replace(\" \", \"\")\n",
    "empresacontactoconvenio[\"Rut\"] = empresacontactoconvenio[\"Rut\"].str.upper()\n",
    "empresacontactoconvenio[\"Rut\"] = empresacontactoconvenio[\"Rut\"].str.strip()\n",
    "\n",
    "empresacontactoconvenio[\"Rut Empresa\"] = empresacontactoconvenio[\"Rut Empresa\"].astype(\n",
    "    str\n",
    ")\n",
    "empresacontactoconvenio[\"Rut Empresa\"] = empresacontactoconvenio[\n",
    "    \"Rut Empresa\"\n",
    "].str.replace(\"-\", \"\")\n",
    "empresacontactoconvenio[\"Rut Empresa\"] = empresacontactoconvenio[\n",
    "    \"Rut Empresa\"\n",
    "].str.replace(\"–\", \"\")\n",
    "empresacontactoconvenio[\"Rut Empresa\"] = empresacontactoconvenio[\"Rut Empresa\"].astype(\n",
    "    str\n",
    ")\n",
    "empresacontactoconvenio[\"Rut Empresa\"] = empresacontactoconvenio[\n",
    "    \"Rut Empresa\"\n",
    "].str.replace(\".\", \"\")\n",
    "empresacontactoconvenio[\"Rut Empresa\"] = empresacontactoconvenio[\n",
    "    \"Rut Empresa\"\n",
    "].str.replace(\" \", \"\")\n",
    "empresacontactoconvenio[\"Rut Empresa\"] = empresacontactoconvenio[\n",
    "    \"Rut Empresa\"\n",
    "].str.upper()\n",
    "empresacontactoconvenio[\"Rut Empresa\"] = empresacontactoconvenio[\n",
    "    \"Rut Empresa\"\n",
    "].str.strip()\n",
    "\n",
    "empresacontactoconvenio[\"Poliza\"] = empresacontactoconvenio[\"Poliza\"].astype(str)\n",
    "empresacontactoconvenio[\"Poliza\"] = empresacontactoconvenio[\"Poliza\"].str.replace(\n",
    "    \"-\", \"\"\n",
    ")\n",
    "empresacontactoconvenio[\"Poliza\"] = empresacontactoconvenio[\"Poliza\"].str.replace(\n",
    "    \"–\", \"\"\n",
    ")\n",
    "empresacontactoconvenio[\"Poliza\"] = empresacontactoconvenio[\"Poliza\"].astype(str)\n",
    "empresacontactoconvenio[\"Poliza\"] = empresacontactoconvenio[\"Poliza\"].str.replace(\n",
    "    \".\", \"\"\n",
    ")\n",
    "empresacontactoconvenio[\"Poliza\"] = empresacontactoconvenio[\"Poliza\"].str.replace(\n",
    "    \" \", \"\"\n",
    ")\n",
    "empresacontactoconvenio[\"Poliza\"] = empresacontactoconvenio[\"Poliza\"].str.upper()\n",
    "empresacontactoconvenio[\"Poliza\"] = empresacontactoconvenio[\"Poliza\"].str.strip()\n",
    "\n",
    "\n",
    "empresacontactoconvenio.shape"
   ]
  },
  {
   "cell_type": "code",
   "execution_count": null,
   "metadata": {
    "notebookRunGroups": {
     "groupValue": "2"
    }
   },
   "outputs": [
    {
     "data": {
      "text/html": [
       "<div>\n",
       "<style scoped>\n",
       "    .dataframe tbody tr th:only-of-type {\n",
       "        vertical-align: middle;\n",
       "    }\n",
       "\n",
       "    .dataframe tbody tr th {\n",
       "        vertical-align: top;\n",
       "    }\n",
       "\n",
       "    .dataframe thead th {\n",
       "        text-align: right;\n",
       "    }\n",
       "</style>\n",
       "<table border=\"1\" class=\"dataframe\">\n",
       "  <thead>\n",
       "    <tr style=\"text-align: right;\">\n",
       "      <th></th>\n",
       "      <th>Id EmpresaContactoConvenio</th>\n",
       "      <th>Rut_x</th>\n",
       "      <th>Poliza</th>\n",
       "      <th>Rut Empresa</th>\n",
       "      <th>Id Convenio Empresa</th>\n",
       "      <th>Id Account Paciente</th>\n",
       "      <th>Rut Titular</th>\n",
       "      <th>Relación</th>\n",
       "      <th>Nombre Empresa</th>\n",
       "      <th>Rut_y</th>\n",
       "    </tr>\n",
       "  </thead>\n",
       "  <tbody>\n",
       "    <tr>\n",
       "      <th>0</th>\n",
       "      <td>a40RN000001BeG5YAK</td>\n",
       "      <td>194062923</td>\n",
       "      <td></td>\n",
       "      <td></td>\n",
       "      <td>a3yRN0000009psvYAA</td>\n",
       "      <td>001RN000002bBiMYAU</td>\n",
       "      <td>194062923</td>\n",
       "      <td>Titular</td>\n",
       "      <td>MetLife Producto Joven</td>\n",
       "      <td>194062923</td>\n",
       "    </tr>\n",
       "    <tr>\n",
       "      <th>1</th>\n",
       "      <td>a40RN000001BeG6YAK</td>\n",
       "      <td>223341136</td>\n",
       "      <td></td>\n",
       "      <td></td>\n",
       "      <td>a3yRN0000009psvYAA</td>\n",
       "      <td>0018c00002eitPfAAI</td>\n",
       "      <td>223341136</td>\n",
       "      <td>Titular</td>\n",
       "      <td>MetLife Producto Joven</td>\n",
       "      <td>223341136</td>\n",
       "    </tr>\n",
       "    <tr>\n",
       "      <th>2</th>\n",
       "      <td>a40RN000001BeG7YAK</td>\n",
       "      <td>138511316</td>\n",
       "      <td></td>\n",
       "      <td></td>\n",
       "      <td>a3yRN0000009psvYAA</td>\n",
       "      <td>0018c00002axdAyAAI</td>\n",
       "      <td>138511316</td>\n",
       "      <td>Titular</td>\n",
       "      <td>MetLife Producto Joven</td>\n",
       "      <td>138511316</td>\n",
       "    </tr>\n",
       "    <tr>\n",
       "      <th>3</th>\n",
       "      <td>a40RN000001BeG8YAK</td>\n",
       "      <td>247591877</td>\n",
       "      <td></td>\n",
       "      <td></td>\n",
       "      <td>a3yRN0000009psvYAA</td>\n",
       "      <td>0018c00002axUN8AAM</td>\n",
       "      <td>247591877</td>\n",
       "      <td>Titular</td>\n",
       "      <td>MetLife Producto Joven</td>\n",
       "      <td>247591877</td>\n",
       "    </tr>\n",
       "    <tr>\n",
       "      <th>4</th>\n",
       "      <td>a40RN000001BeG9YAK</td>\n",
       "      <td>257366944</td>\n",
       "      <td></td>\n",
       "      <td></td>\n",
       "      <td>a3yRN0000009psvYAA</td>\n",
       "      <td>0018c00002axUYNAA2</td>\n",
       "      <td>257366944</td>\n",
       "      <td>Titular</td>\n",
       "      <td>MetLife Producto Joven</td>\n",
       "      <td>257366944</td>\n",
       "    </tr>\n",
       "  </tbody>\n",
       "</table>\n",
       "</div>"
      ],
      "text/plain": [
       "  Id EmpresaContactoConvenio      Rut_x Poliza Rut Empresa  \\\n",
       "0         a40RN000001BeG5YAK  194062923                      \n",
       "1         a40RN000001BeG6YAK  223341136                      \n",
       "2         a40RN000001BeG7YAK  138511316                      \n",
       "3         a40RN000001BeG8YAK  247591877                      \n",
       "4         a40RN000001BeG9YAK  257366944                      \n",
       "\n",
       "  Id Convenio Empresa Id Account Paciente Rut Titular Relación  \\\n",
       "0  a3yRN0000009psvYAA  001RN000002bBiMYAU   194062923  Titular   \n",
       "1  a3yRN0000009psvYAA  0018c00002eitPfAAI   223341136  Titular   \n",
       "2  a3yRN0000009psvYAA  0018c00002axdAyAAI   138511316  Titular   \n",
       "3  a3yRN0000009psvYAA  0018c00002axUN8AAM   247591877  Titular   \n",
       "4  a3yRN0000009psvYAA  0018c00002axUYNAA2   257366944  Titular   \n",
       "\n",
       "           Nombre Empresa      Rut_y  \n",
       "0  MetLife Producto Joven  194062923  \n",
       "1  MetLife Producto Joven  223341136  \n",
       "2  MetLife Producto Joven  138511316  \n",
       "3  MetLife Producto Joven  247591877  \n",
       "4  MetLife Producto Joven  257366944  "
      ]
     },
     "execution_count": 187,
     "metadata": {},
     "output_type": "execute_result"
    }
   ],
   "source": [
    "empresacontactoconvenio_PacientesSF = pd.merge(\n",
    "    left=empresacontactoconvenio,\n",
    "    right=Pacientes_IDrut,\n",
    "    how=\"left\",\n",
    "    left_on=\"Id Account Paciente\",\n",
    "    right_on=\"Id Account Paciente\",\n",
    ")\n",
    "empresacontactoconvenio_PacientesSF.head()"
   ]
  },
  {
   "cell_type": "code",
   "execution_count": null,
   "metadata": {},
   "outputs": [],
   "source": [
    "\"\"\" if(campaña!=\"MetLife\"):\n",
    "    pacientePrograma.to_excel(\"F:/Empresas SF/reportes/paciente_programas.xlsx\", index=False) \"\"\""
   ]
  },
  {
   "cell_type": "markdown",
   "metadata": {},
   "source": [
    "Rescatamos todos los ruts Id con su empresa desde la campaña\n"
   ]
  },
  {
   "cell_type": "code",
   "execution_count": null,
   "metadata": {
    "notebookRunGroups": {
     "groupValue": "2"
    }
   },
   "outputs": [],
   "source": [
    "# Pacientes_Archivo.head()"
   ]
  },
  {
   "cell_type": "markdown",
   "metadata": {},
   "source": [
    "Pacientes_con_id.to_excel(\"F:/Empresas SF/reportes/id.xlsx\", index=False)\n"
   ]
  },
  {
   "cell_type": "markdown",
   "metadata": {},
   "source": [
    "Pacientes_Archivo.drop_duplicates(\n",
    "[\n",
    "\"rut\",\n",
    "\"rutT\",\n",
    "\"LLaveEmpresa\",\n",
    "\"LLAveRut\",\n",
    "],\n",
    "keep=\"last\",\n",
    ")\n",
    "Pacientes_Archivo.shape\n"
   ]
  },
  {
   "cell_type": "code",
   "execution_count": null,
   "metadata": {
    "notebookRunGroups": {
     "groupValue": "2"
    }
   },
   "outputs": [
    {
     "name": "stdout",
     "output_type": "stream",
     "text": [
      "MetLife Producto Joven\n"
     ]
    }
   ],
   "source": [
    "print(campaña)"
   ]
  },
  {
   "cell_type": "code",
   "execution_count": null,
   "metadata": {
    "notebookRunGroups": {
     "groupValue": "2"
    }
   },
   "outputs": [],
   "source": [
    "Pacientes_Archivo[\"RutEstaoNo\"] = Pacientes_Archivo[\"rut\"].isin(Pacientes_SF[\"Rut\"])"
   ]
  },
  {
   "attachments": {},
   "cell_type": "markdown",
   "metadata": {},
   "source": []
  },
  {
   "cell_type": "code",
   "execution_count": null,
   "metadata": {},
   "outputs": [],
   "source": [
    "# Pacientes_Archivo.to_excel(\"F:/Empresas SF/reportes/Pacientes_Archivo.xlsx\", index=False)"
   ]
  },
  {
   "cell_type": "code",
   "execution_count": null,
   "metadata": {
    "notebookRunGroups": {
     "groupValue": "2"
    }
   },
   "outputs": [
    {
     "data": {
      "text/plain": [
       "(948, 34)"
      ]
     },
     "execution_count": 191,
     "metadata": {},
     "output_type": "execute_result"
    }
   ],
   "source": [
    "# aca a los pacientes del archivo se les asigna sus datos en SF\n",
    "Pacientes_con_id = pd.merge(\n",
    "    left=Pacientes_Archivo,\n",
    "    right=Pacientes_SF,\n",
    "    how=\"left\",\n",
    "    left_on=\"rut\",\n",
    "    right_on=\"Rut\",\n",
    ")\n",
    "# Pacientes_con_id.to_excel(\"F:/Empresas SF/reportes/Pacientes_con_id.xlsx\", index=False)\n",
    "Pacientes_con_id.shape"
   ]
  },
  {
   "cell_type": "code",
   "execution_count": null,
   "metadata": {
    "notebookRunGroups": {
     "groupValue": "2"
    }
   },
   "outputs": [],
   "source": [
    "# Pacientes_con_id.head()\n",
    "# Pacientes_con_id.to_excel(\"F:/Empresas SF/reportes/id.xlsx\", index=False)"
   ]
  },
  {
   "cell_type": "code",
   "execution_count": null,
   "metadata": {
    "notebookRunGroups": {
     "groupValue": "2"
    }
   },
   "outputs": [],
   "source": [
    "regex = re.compile(r\"([A-Za-z0-9]+[.-_])*[A-Za-z0-9]+@[A-Za-z0-9-]+(\\.[A-Z|a-z]{2,})+\")\n",
    "\n",
    "\n",
    "def isValid(email):\n",
    "    if re.fullmatch(regex, email):\n",
    "        return email\n",
    "    else:\n",
    "        return \"\"\n",
    "\n",
    "\n",
    "def fechaValida(fecha):\n",
    "    if len(str(fecha)) <= 9:\n",
    "        fecha = \"\"\n",
    "\n",
    "    fecha = str(fecha)\n",
    "    fecha1 = str(fecha)\n",
    "\n",
    "    # datetime.strptime(fecha, '%Y-%m-%d')\n",
    "\n",
    "    try:\n",
    "        fecha = datetime.strptime(fecha, \"%Y-%m-%d %H:%M:%S\")\n",
    "        date_string = fecha1\n",
    "        print(\"date_string =\", date_string)\n",
    "        print(\"type of date_string =\", type(date_string))\n",
    "\n",
    "        date_object = datetime.strptime(date_string, \"%Y-%m-%d %H:%M:%S\")\n",
    "\n",
    "        print(\"date_object =\", date_object)\n",
    "        print(\"type of date_object =\", type(date_object))\n",
    "        return date_object\n",
    "    except ValueError:\n",
    "        return datetime.utcnow().strftime(\"%Y-%m-%d %H:%M:%S\")"
   ]
  },
  {
   "cell_type": "code",
   "execution_count": null,
   "metadata": {
    "notebookRunGroups": {
     "groupValue": "2"
    }
   },
   "outputs": [],
   "source": [
    "noestan = pd.DataFrame()\n",
    "if (\"nacimiento\" in noestan.columns) == True:\n",
    "    Pacientes_con_id[\"dertyuiop\"] = Pacientes_con_id[\"nacimiento\"]\n",
    "    Pacientes_con_id[\"derty\"] = Pacientes_con_id[\"nacimiento\"].apply(\n",
    "        lambda y: fechaValida(y)\n",
    "    )\n",
    "    Pacientes_con_id.head()\n",
    "noestan = Pacientes_con_id[(Pacientes_con_id[\"RutEstaoNo\"] == False)]"
   ]
  },
  {
   "cell_type": "code",
   "execution_count": null,
   "metadata": {
    "notebookRunGroups": {
     "groupValue": "2"
    }
   },
   "outputs": [
    {
     "data": {
      "text/html": [
       "<div>\n",
       "<style scoped>\n",
       "    .dataframe tbody tr th:only-of-type {\n",
       "        vertical-align: middle;\n",
       "    }\n",
       "\n",
       "    .dataframe tbody tr th {\n",
       "        vertical-align: top;\n",
       "    }\n",
       "\n",
       "    .dataframe thead th {\n",
       "        text-align: right;\n",
       "    }\n",
       "</style>\n",
       "<table border=\"1\" class=\"dataframe\">\n",
       "  <thead>\n",
       "    <tr style=\"text-align: right;\">\n",
       "      <th></th>\n",
       "      <th>poliza</th>\n",
       "      <th>rutE</th>\n",
       "      <th>empleador</th>\n",
       "      <th>nombres</th>\n",
       "      <th>PATERNO</th>\n",
       "      <th>MATERNO</th>\n",
       "      <th>apellidos</th>\n",
       "      <th>RUTASEGURADO</th>\n",
       "      <th>RUTASEGURADODV</th>\n",
       "      <th>rut2</th>\n",
       "      <th>...</th>\n",
       "      <th>Id Account Paciente</th>\n",
       "      <th>Rut</th>\n",
       "      <th>Nombre</th>\n",
       "      <th>Tipo de Documento</th>\n",
       "      <th>Ocupaci_n__c</th>\n",
       "      <th>Cargo</th>\n",
       "      <th>Departamento</th>\n",
       "      <th>Sexo</th>\n",
       "      <th>Telefono</th>\n",
       "      <th>Id Contacto</th>\n",
       "    </tr>\n",
       "  </thead>\n",
       "  <tbody>\n",
       "    <tr>\n",
       "      <th>851</th>\n",
       "      <td>123240000799</td>\n",
       "      <td>B</td>\n",
       "      <td>MetLife Joven +</td>\n",
       "      <td>Jordan Lee</td>\n",
       "      <td>SANTANDER</td>\n",
       "      <td>TORRES</td>\n",
       "      <td>Santander Torres</td>\n",
       "      <td>16260287</td>\n",
       "      <td>K</td>\n",
       "      <td>16260287K</td>\n",
       "      <td>...</td>\n",
       "      <td>NaN</td>\n",
       "      <td>NaN</td>\n",
       "      <td>NaN</td>\n",
       "      <td>NaN</td>\n",
       "      <td>NaN</td>\n",
       "      <td>NaN</td>\n",
       "      <td>NaN</td>\n",
       "      <td>NaN</td>\n",
       "      <td>NaN</td>\n",
       "      <td>NaN</td>\n",
       "    </tr>\n",
       "    <tr>\n",
       "      <th>852</th>\n",
       "      <td>123240000800</td>\n",
       "      <td>B</td>\n",
       "      <td>MetLife Joven</td>\n",
       "      <td>Siria Marisol</td>\n",
       "      <td>SANCHEZ</td>\n",
       "      <td>CIFUENTES</td>\n",
       "      <td>Sanchez Cifuentes</td>\n",
       "      <td>14613408</td>\n",
       "      <td>4</td>\n",
       "      <td>146134084</td>\n",
       "      <td>...</td>\n",
       "      <td>NaN</td>\n",
       "      <td>NaN</td>\n",
       "      <td>NaN</td>\n",
       "      <td>NaN</td>\n",
       "      <td>NaN</td>\n",
       "      <td>NaN</td>\n",
       "      <td>NaN</td>\n",
       "      <td>NaN</td>\n",
       "      <td>NaN</td>\n",
       "      <td>NaN</td>\n",
       "    </tr>\n",
       "    <tr>\n",
       "      <th>853</th>\n",
       "      <td>123240000800</td>\n",
       "      <td>B</td>\n",
       "      <td>MetLife Joven</td>\n",
       "      <td>Catalina Antonia</td>\n",
       "      <td>CARREÑO</td>\n",
       "      <td>SANCHEZ</td>\n",
       "      <td>Carreño Sanchez</td>\n",
       "      <td>22963412</td>\n",
       "      <td>7</td>\n",
       "      <td>229634127</td>\n",
       "      <td>...</td>\n",
       "      <td>NaN</td>\n",
       "      <td>NaN</td>\n",
       "      <td>NaN</td>\n",
       "      <td>NaN</td>\n",
       "      <td>NaN</td>\n",
       "      <td>NaN</td>\n",
       "      <td>NaN</td>\n",
       "      <td>NaN</td>\n",
       "      <td>NaN</td>\n",
       "      <td>NaN</td>\n",
       "    </tr>\n",
       "    <tr>\n",
       "      <th>854</th>\n",
       "      <td>123240000800</td>\n",
       "      <td>B</td>\n",
       "      <td>MetLife Joven</td>\n",
       "      <td>Martin Antonio</td>\n",
       "      <td>CARREÑO</td>\n",
       "      <td>SANCHEZ</td>\n",
       "      <td>Carreño Sanchez</td>\n",
       "      <td>21593927</td>\n",
       "      <td>8</td>\n",
       "      <td>215939278</td>\n",
       "      <td>...</td>\n",
       "      <td>NaN</td>\n",
       "      <td>NaN</td>\n",
       "      <td>NaN</td>\n",
       "      <td>NaN</td>\n",
       "      <td>NaN</td>\n",
       "      <td>NaN</td>\n",
       "      <td>NaN</td>\n",
       "      <td>NaN</td>\n",
       "      <td>NaN</td>\n",
       "      <td>NaN</td>\n",
       "    </tr>\n",
       "    <tr>\n",
       "      <th>855</th>\n",
       "      <td>123240000801</td>\n",
       "      <td>B</td>\n",
       "      <td>MetLife Joven</td>\n",
       "      <td>Fernanda Albertina</td>\n",
       "      <td>BARRALES</td>\n",
       "      <td>CARCAMO</td>\n",
       "      <td>Barrales Carcamo</td>\n",
       "      <td>17223860</td>\n",
       "      <td>2</td>\n",
       "      <td>172238602</td>\n",
       "      <td>...</td>\n",
       "      <td>NaN</td>\n",
       "      <td>NaN</td>\n",
       "      <td>NaN</td>\n",
       "      <td>NaN</td>\n",
       "      <td>NaN</td>\n",
       "      <td>NaN</td>\n",
       "      <td>NaN</td>\n",
       "      <td>NaN</td>\n",
       "      <td>NaN</td>\n",
       "      <td>NaN</td>\n",
       "    </tr>\n",
       "  </tbody>\n",
       "</table>\n",
       "<p>5 rows × 34 columns</p>\n",
       "</div>"
      ],
      "text/plain": [
       "           poliza rutE        empleador             nombres    PATERNO  \\\n",
       "851  123240000799    B  MetLife Joven +          Jordan Lee  SANTANDER   \n",
       "852  123240000800    B    MetLife Joven       Siria Marisol    SANCHEZ   \n",
       "853  123240000800    B    MetLife Joven    Catalina Antonia    CARREÑO   \n",
       "854  123240000800    B    MetLife Joven      Martin Antonio    CARREÑO   \n",
       "855  123240000801    B    MetLife Joven  Fernanda Albertina   BARRALES   \n",
       "\n",
       "       MATERNO          apellidos  RUTASEGURADO RUTASEGURADODV       rut2  \\\n",
       "851     TORRES   Santander Torres      16260287              K  16260287K   \n",
       "852  CIFUENTES  Sanchez Cifuentes      14613408              4  146134084   \n",
       "853    SANCHEZ    Carreño Sanchez      22963412              7  229634127   \n",
       "854    SANCHEZ    Carreño Sanchez      21593927              8  215939278   \n",
       "855    CARCAMO   Barrales Carcamo      17223860              2  172238602   \n",
       "\n",
       "     ... Id Account Paciente  Rut Nombre Tipo de Documento  Ocupaci_n__c  \\\n",
       "851  ...                 NaN  NaN    NaN               NaN           NaN   \n",
       "852  ...                 NaN  NaN    NaN               NaN           NaN   \n",
       "853  ...                 NaN  NaN    NaN               NaN           NaN   \n",
       "854  ...                 NaN  NaN    NaN               NaN           NaN   \n",
       "855  ...                 NaN  NaN    NaN               NaN           NaN   \n",
       "\n",
       "    Cargo Departamento Sexo Telefono Id Contacto  \n",
       "851   NaN          NaN  NaN      NaN         NaN  \n",
       "852   NaN          NaN  NaN      NaN         NaN  \n",
       "853   NaN          NaN  NaN      NaN         NaN  \n",
       "854   NaN          NaN  NaN      NaN         NaN  \n",
       "855   NaN          NaN  NaN      NaN         NaN  \n",
       "\n",
       "[5 rows x 34 columns]"
      ]
     },
     "execution_count": 195,
     "metadata": {},
     "output_type": "execute_result"
    }
   ],
   "source": [
    "# noestan.to_excel(\"F:/Empresas SF/reportes/noestan.xlsx\", index=False)\n",
    "noestan.head()"
   ]
  },
  {
   "cell_type": "code",
   "execution_count": null,
   "metadata": {
    "notebookRunGroups": {
     "groupValue": "2"
    }
   },
   "outputs": [
    {
     "name": "stdout",
     "output_type": "stream",
     "text": [
      "date_string = 1986-08-19 00:00:00\n",
      "type of date_string = <class 'str'>\n",
      "date_object = 1986-08-19 00:00:00\n",
      "type of date_object = <class 'datetime.datetime'>\n",
      "date_string = 1981-10-31 00:00:00\n",
      "type of date_string = <class 'str'>\n",
      "date_object = 1981-10-31 00:00:00\n",
      "type of date_object = <class 'datetime.datetime'>\n",
      "date_string = 2009-03-06 00:00:00\n",
      "type of date_string = <class 'str'>\n",
      "date_object = 2009-03-06 00:00:00\n",
      "type of date_object = <class 'datetime.datetime'>\n",
      "date_string = 2004-06-07 00:00:00\n",
      "type of date_string = <class 'str'>\n",
      "date_object = 2004-06-07 00:00:00\n",
      "type of date_object = <class 'datetime.datetime'>\n",
      "date_string = 1989-10-19 00:00:00\n",
      "type of date_string = <class 'str'>\n",
      "date_object = 1989-10-19 00:00:00\n",
      "type of date_object = <class 'datetime.datetime'>\n",
      "date_string = 1984-03-21 00:00:00\n",
      "type of date_string = <class 'str'>\n",
      "date_object = 1984-03-21 00:00:00\n",
      "type of date_object = <class 'datetime.datetime'>\n",
      "date_string = 1992-05-22 00:00:00\n",
      "type of date_string = <class 'str'>\n",
      "date_object = 1992-05-22 00:00:00\n",
      "type of date_object = <class 'datetime.datetime'>\n",
      "date_string = 1987-05-19 00:00:00\n",
      "type of date_string = <class 'str'>\n",
      "date_object = 1987-05-19 00:00:00\n",
      "type of date_object = <class 'datetime.datetime'>\n",
      "date_string = 1995-01-20 00:00:00\n",
      "type of date_string = <class 'str'>\n",
      "date_object = 1995-01-20 00:00:00\n",
      "type of date_object = <class 'datetime.datetime'>\n",
      "date_string = 1994-06-07 00:00:00\n",
      "type of date_string = <class 'str'>\n",
      "date_object = 1994-06-07 00:00:00\n",
      "type of date_object = <class 'datetime.datetime'>\n",
      "date_string = 1990-11-12 00:00:00\n",
      "type of date_string = <class 'str'>\n",
      "date_object = 1990-11-12 00:00:00\n",
      "type of date_object = <class 'datetime.datetime'>\n",
      "date_string = 1990-03-04 00:00:00\n",
      "type of date_string = <class 'str'>\n",
      "date_object = 1990-03-04 00:00:00\n",
      "type of date_object = <class 'datetime.datetime'>\n",
      "date_string = 1999-01-26 00:00:00\n",
      "type of date_string = <class 'str'>\n",
      "date_object = 1999-01-26 00:00:00\n",
      "type of date_object = <class 'datetime.datetime'>\n",
      "date_string = 1996-02-19 00:00:00\n",
      "type of date_string = <class 'str'>\n",
      "date_object = 1996-02-19 00:00:00\n",
      "type of date_object = <class 'datetime.datetime'>\n",
      "date_string = 1979-09-09 00:00:00\n",
      "type of date_string = <class 'str'>\n",
      "date_object = 1979-09-09 00:00:00\n",
      "type of date_object = <class 'datetime.datetime'>\n",
      "date_string = 2003-12-19 00:00:00\n",
      "type of date_string = <class 'str'>\n",
      "date_object = 2003-12-19 00:00:00\n",
      "type of date_object = <class 'datetime.datetime'>\n",
      "date_string = 1977-08-23 00:00:00\n",
      "type of date_string = <class 'str'>\n",
      "date_object = 1977-08-23 00:00:00\n",
      "type of date_object = <class 'datetime.datetime'>\n",
      "date_string = 1986-10-27 00:00:00\n",
      "type of date_string = <class 'str'>\n",
      "date_object = 1986-10-27 00:00:00\n",
      "type of date_object = <class 'datetime.datetime'>\n",
      "date_string = 1989-09-20 00:00:00\n",
      "type of date_string = <class 'str'>\n",
      "date_object = 1989-09-20 00:00:00\n",
      "type of date_object = <class 'datetime.datetime'>\n",
      "date_string = 1991-02-25 00:00:00\n",
      "type of date_string = <class 'str'>\n",
      "date_object = 1991-02-25 00:00:00\n",
      "type of date_object = <class 'datetime.datetime'>\n",
      "date_string = 1978-06-14 00:00:00\n",
      "type of date_string = <class 'str'>\n",
      "date_object = 1978-06-14 00:00:00\n",
      "type of date_object = <class 'datetime.datetime'>\n",
      "date_string = 1998-09-22 00:00:00\n",
      "type of date_string = <class 'str'>\n",
      "date_object = 1998-09-22 00:00:00\n",
      "type of date_object = <class 'datetime.datetime'>\n",
      "date_string = 1981-09-03 00:00:00\n",
      "type of date_string = <class 'str'>\n",
      "date_object = 1981-09-03 00:00:00\n",
      "type of date_object = <class 'datetime.datetime'>\n",
      "date_string = 1985-05-03 00:00:00\n",
      "type of date_string = <class 'str'>\n",
      "date_object = 1985-05-03 00:00:00\n",
      "type of date_object = <class 'datetime.datetime'>\n",
      "date_string = 1996-06-05 00:00:00\n",
      "type of date_string = <class 'str'>\n",
      "date_object = 1996-06-05 00:00:00\n",
      "type of date_object = <class 'datetime.datetime'>\n",
      "date_string = 2000-03-20 00:00:00\n",
      "type of date_string = <class 'str'>\n",
      "date_object = 2000-03-20 00:00:00\n",
      "type of date_object = <class 'datetime.datetime'>\n",
      "date_string = 1996-07-22 00:00:00\n",
      "type of date_string = <class 'str'>\n",
      "date_object = 1996-07-22 00:00:00\n",
      "type of date_object = <class 'datetime.datetime'>\n",
      "date_string = 2017-11-22 00:00:00\n",
      "type of date_string = <class 'str'>\n",
      "date_object = 2017-11-22 00:00:00\n",
      "type of date_object = <class 'datetime.datetime'>\n",
      "date_string = 2022-01-19 00:00:00\n",
      "type of date_string = <class 'str'>\n",
      "date_object = 2022-01-19 00:00:00\n",
      "type of date_object = <class 'datetime.datetime'>\n",
      "date_string = 1980-01-07 00:00:00\n",
      "type of date_string = <class 'str'>\n",
      "date_object = 1980-01-07 00:00:00\n",
      "type of date_object = <class 'datetime.datetime'>\n",
      "date_string = 1980-01-29 00:00:00\n",
      "type of date_string = <class 'str'>\n",
      "date_object = 1980-01-29 00:00:00\n",
      "type of date_object = <class 'datetime.datetime'>\n",
      "date_string = 1978-06-06 00:00:00\n",
      "type of date_string = <class 'str'>\n",
      "date_object = 1978-06-06 00:00:00\n",
      "type of date_object = <class 'datetime.datetime'>\n",
      "date_string = 1977-10-18 00:00:00\n",
      "type of date_string = <class 'str'>\n",
      "date_object = 1977-10-18 00:00:00\n",
      "type of date_object = <class 'datetime.datetime'>\n",
      "date_string = 1986-02-11 00:00:00\n",
      "type of date_string = <class 'str'>\n",
      "date_object = 1986-02-11 00:00:00\n",
      "type of date_object = <class 'datetime.datetime'>\n",
      "date_string = 1992-01-14 00:00:00\n",
      "type of date_string = <class 'str'>\n",
      "date_object = 1992-01-14 00:00:00\n",
      "type of date_object = <class 'datetime.datetime'>\n",
      "date_string = 1996-03-25 00:00:00\n",
      "type of date_string = <class 'str'>\n",
      "date_object = 1996-03-25 00:00:00\n",
      "type of date_object = <class 'datetime.datetime'>\n",
      "date_string = 1993-02-20 00:00:00\n",
      "type of date_string = <class 'str'>\n",
      "date_object = 1993-02-20 00:00:00\n",
      "type of date_object = <class 'datetime.datetime'>\n",
      "date_string = 1985-10-07 00:00:00\n",
      "type of date_string = <class 'str'>\n",
      "date_object = 1985-10-07 00:00:00\n",
      "type of date_object = <class 'datetime.datetime'>\n",
      "date_string = 1988-11-03 00:00:00\n",
      "type of date_string = <class 'str'>\n",
      "date_object = 1988-11-03 00:00:00\n",
      "type of date_object = <class 'datetime.datetime'>\n",
      "date_string = 1977-04-25 00:00:00\n",
      "type of date_string = <class 'str'>\n",
      "date_object = 1977-04-25 00:00:00\n",
      "type of date_object = <class 'datetime.datetime'>\n",
      "date_string = 1982-12-11 00:00:00\n",
      "type of date_string = <class 'str'>\n",
      "date_object = 1982-12-11 00:00:00\n",
      "type of date_object = <class 'datetime.datetime'>\n",
      "date_string = 2005-03-02 00:00:00\n",
      "type of date_string = <class 'str'>\n",
      "date_object = 2005-03-02 00:00:00\n",
      "type of date_object = <class 'datetime.datetime'>\n",
      "date_string = 1995-10-04 00:00:00\n",
      "type of date_string = <class 'str'>\n",
      "date_object = 1995-10-04 00:00:00\n",
      "type of date_object = <class 'datetime.datetime'>\n",
      "date_string = 1996-12-16 00:00:00\n",
      "type of date_string = <class 'str'>\n",
      "date_object = 1996-12-16 00:00:00\n",
      "type of date_object = <class 'datetime.datetime'>\n",
      "date_string = 1985-05-08 00:00:00\n",
      "type of date_string = <class 'str'>\n",
      "date_object = 1985-05-08 00:00:00\n",
      "type of date_object = <class 'datetime.datetime'>\n",
      "date_string = 1984-10-16 00:00:00\n",
      "type of date_string = <class 'str'>\n",
      "date_object = 1984-10-16 00:00:00\n",
      "type of date_object = <class 'datetime.datetime'>\n",
      "date_string = 1990-04-28 00:00:00\n",
      "type of date_string = <class 'str'>\n",
      "date_object = 1990-04-28 00:00:00\n",
      "type of date_object = <class 'datetime.datetime'>\n",
      "date_string = 1986-12-21 00:00:00\n",
      "type of date_string = <class 'str'>\n",
      "date_object = 1986-12-21 00:00:00\n",
      "type of date_object = <class 'datetime.datetime'>\n",
      "date_string = 1981-01-29 00:00:00\n",
      "type of date_string = <class 'str'>\n",
      "date_object = 1981-01-29 00:00:00\n",
      "type of date_object = <class 'datetime.datetime'>\n",
      "date_string = 1999-04-05 00:00:00\n",
      "type of date_string = <class 'str'>\n",
      "date_object = 1999-04-05 00:00:00\n",
      "type of date_object = <class 'datetime.datetime'>\n",
      "date_string = 2003-03-24 00:00:00\n",
      "type of date_string = <class 'str'>\n",
      "date_object = 2003-03-24 00:00:00\n",
      "type of date_object = <class 'datetime.datetime'>\n",
      "date_string = 1964-01-16 00:00:00\n",
      "type of date_string = <class 'str'>\n",
      "date_object = 1964-01-16 00:00:00\n",
      "type of date_object = <class 'datetime.datetime'>\n",
      "date_string = 1989-06-28 00:00:00\n",
      "type of date_string = <class 'str'>\n",
      "date_object = 1989-06-28 00:00:00\n",
      "type of date_object = <class 'datetime.datetime'>\n",
      "date_string = 1986-10-17 00:00:00\n",
      "type of date_string = <class 'str'>\n",
      "date_object = 1986-10-17 00:00:00\n",
      "type of date_object = <class 'datetime.datetime'>\n",
      "date_string = 1978-03-09 00:00:00\n",
      "type of date_string = <class 'str'>\n",
      "date_object = 1978-03-09 00:00:00\n",
      "type of date_object = <class 'datetime.datetime'>\n",
      "date_string = 1993-10-05 00:00:00\n",
      "type of date_string = <class 'str'>\n",
      "date_object = 1993-10-05 00:00:00\n",
      "type of date_object = <class 'datetime.datetime'>\n",
      "date_string = 1978-09-12 00:00:00\n",
      "type of date_string = <class 'str'>\n",
      "date_object = 1978-09-12 00:00:00\n",
      "type of date_object = <class 'datetime.datetime'>\n",
      "date_string = 1985-03-16 00:00:00\n",
      "type of date_string = <class 'str'>\n",
      "date_object = 1985-03-16 00:00:00\n",
      "type of date_object = <class 'datetime.datetime'>\n",
      "date_string = 1972-03-06 00:00:00\n",
      "type of date_string = <class 'str'>\n",
      "date_object = 1972-03-06 00:00:00\n",
      "type of date_object = <class 'datetime.datetime'>\n",
      "date_string = 1998-03-13 00:00:00\n",
      "type of date_string = <class 'str'>\n",
      "date_object = 1998-03-13 00:00:00\n",
      "type of date_object = <class 'datetime.datetime'>\n",
      "date_string = 1973-07-04 00:00:00\n",
      "type of date_string = <class 'str'>\n",
      "date_object = 1973-07-04 00:00:00\n",
      "type of date_object = <class 'datetime.datetime'>\n",
      "date_string = 1993-01-14 00:00:00\n",
      "type of date_string = <class 'str'>\n",
      "date_object = 1993-01-14 00:00:00\n",
      "type of date_object = <class 'datetime.datetime'>\n",
      "date_string = 1997-03-19 00:00:00\n",
      "type of date_string = <class 'str'>\n",
      "date_object = 1997-03-19 00:00:00\n",
      "type of date_object = <class 'datetime.datetime'>\n",
      "date_string = 1991-05-10 00:00:00\n",
      "type of date_string = <class 'str'>\n",
      "date_object = 1991-05-10 00:00:00\n",
      "type of date_object = <class 'datetime.datetime'>\n",
      "date_string = 1990-10-30 00:00:00\n",
      "type of date_string = <class 'str'>\n",
      "date_object = 1990-10-30 00:00:00\n",
      "type of date_object = <class 'datetime.datetime'>\n",
      "date_string = 1995-09-20 00:00:00\n",
      "type of date_string = <class 'str'>\n",
      "date_object = 1995-09-20 00:00:00\n",
      "type of date_object = <class 'datetime.datetime'>\n",
      "date_string = 1986-02-22 00:00:00\n",
      "type of date_string = <class 'str'>\n",
      "date_object = 1986-02-22 00:00:00\n",
      "type of date_object = <class 'datetime.datetime'>\n",
      "date_string = 1985-12-08 00:00:00\n",
      "type of date_string = <class 'str'>\n",
      "date_object = 1985-12-08 00:00:00\n",
      "type of date_object = <class 'datetime.datetime'>\n",
      "date_string = 1989-07-06 00:00:00\n",
      "type of date_string = <class 'str'>\n",
      "date_object = 1989-07-06 00:00:00\n",
      "type of date_object = <class 'datetime.datetime'>\n",
      "date_string = 1979-03-22 00:00:00\n",
      "type of date_string = <class 'str'>\n",
      "date_object = 1979-03-22 00:00:00\n",
      "type of date_object = <class 'datetime.datetime'>\n",
      "date_string = 1996-09-12 00:00:00\n",
      "type of date_string = <class 'str'>\n",
      "date_object = 1996-09-12 00:00:00\n",
      "type of date_object = <class 'datetime.datetime'>\n",
      "date_string = 1988-10-11 00:00:00\n",
      "type of date_string = <class 'str'>\n",
      "date_object = 1988-10-11 00:00:00\n",
      "type of date_object = <class 'datetime.datetime'>\n",
      "date_string = 1989-04-12 00:00:00\n",
      "type of date_string = <class 'str'>\n",
      "date_object = 1989-04-12 00:00:00\n",
      "type of date_object = <class 'datetime.datetime'>\n",
      "date_string = 1996-06-12 00:00:00\n",
      "type of date_string = <class 'str'>\n",
      "date_object = 1996-06-12 00:00:00\n",
      "type of date_object = <class 'datetime.datetime'>\n",
      "date_string = 1985-07-11 00:00:00\n",
      "type of date_string = <class 'str'>\n",
      "date_object = 1985-07-11 00:00:00\n",
      "type of date_object = <class 'datetime.datetime'>\n",
      "date_string = 1988-05-21 00:00:00\n",
      "type of date_string = <class 'str'>\n",
      "date_object = 1988-05-21 00:00:00\n",
      "type of date_object = <class 'datetime.datetime'>\n",
      "date_string = 1986-08-19 00:00:00\n",
      "type of date_string = <class 'str'>\n",
      "date_object = 1986-08-19 00:00:00\n",
      "type of date_object = <class 'datetime.datetime'>\n",
      "date_string = 1981-10-31 00:00:00\n",
      "type of date_string = <class 'str'>\n",
      "date_object = 1981-10-31 00:00:00\n",
      "type of date_object = <class 'datetime.datetime'>\n",
      "date_string = 2009-03-06 00:00:00\n",
      "type of date_string = <class 'str'>\n",
      "date_object = 2009-03-06 00:00:00\n",
      "type of date_object = <class 'datetime.datetime'>\n",
      "date_string = 2004-06-07 00:00:00\n",
      "type of date_string = <class 'str'>\n",
      "date_object = 2004-06-07 00:00:00\n",
      "type of date_object = <class 'datetime.datetime'>\n",
      "date_string = 1989-10-19 00:00:00\n",
      "type of date_string = <class 'str'>\n",
      "date_object = 1989-10-19 00:00:00\n",
      "type of date_object = <class 'datetime.datetime'>\n",
      "date_string = 1984-03-21 00:00:00\n",
      "type of date_string = <class 'str'>\n",
      "date_object = 1984-03-21 00:00:00\n",
      "type of date_object = <class 'datetime.datetime'>\n",
      "date_string = 1992-05-22 00:00:00\n",
      "type of date_string = <class 'str'>\n",
      "date_object = 1992-05-22 00:00:00\n",
      "type of date_object = <class 'datetime.datetime'>\n",
      "date_string = 1987-05-19 00:00:00\n",
      "type of date_string = <class 'str'>\n",
      "date_object = 1987-05-19 00:00:00\n",
      "type of date_object = <class 'datetime.datetime'>\n",
      "date_string = 1995-01-20 00:00:00\n",
      "type of date_string = <class 'str'>\n",
      "date_object = 1995-01-20 00:00:00\n",
      "type of date_object = <class 'datetime.datetime'>\n",
      "date_string = 1994-06-07 00:00:00\n",
      "type of date_string = <class 'str'>\n",
      "date_object = 1994-06-07 00:00:00\n",
      "type of date_object = <class 'datetime.datetime'>\n",
      "date_string = 1990-11-12 00:00:00\n",
      "type of date_string = <class 'str'>\n",
      "date_object = 1990-11-12 00:00:00\n",
      "type of date_object = <class 'datetime.datetime'>\n",
      "date_string = 1990-03-04 00:00:00\n",
      "type of date_string = <class 'str'>\n",
      "date_object = 1990-03-04 00:00:00\n",
      "type of date_object = <class 'datetime.datetime'>\n",
      "date_string = 1999-01-26 00:00:00\n",
      "type of date_string = <class 'str'>\n",
      "date_object = 1999-01-26 00:00:00\n",
      "type of date_object = <class 'datetime.datetime'>\n",
      "date_string = 1996-02-19 00:00:00\n",
      "type of date_string = <class 'str'>\n",
      "date_object = 1996-02-19 00:00:00\n",
      "type of date_object = <class 'datetime.datetime'>\n",
      "date_string = 1979-09-09 00:00:00\n",
      "type of date_string = <class 'str'>\n",
      "date_object = 1979-09-09 00:00:00\n",
      "type of date_object = <class 'datetime.datetime'>\n",
      "date_string = 2003-12-19 00:00:00\n",
      "type of date_string = <class 'str'>\n",
      "date_object = 2003-12-19 00:00:00\n",
      "type of date_object = <class 'datetime.datetime'>\n",
      "date_string = 1977-08-23 00:00:00\n",
      "type of date_string = <class 'str'>\n",
      "date_object = 1977-08-23 00:00:00\n",
      "type of date_object = <class 'datetime.datetime'>\n",
      "date_string = 1986-10-27 00:00:00\n",
      "type of date_string = <class 'str'>\n",
      "date_object = 1986-10-27 00:00:00\n",
      "type of date_object = <class 'datetime.datetime'>\n",
      "date_string = 1989-09-20 00:00:00\n",
      "type of date_string = <class 'str'>\n",
      "date_object = 1989-09-20 00:00:00\n",
      "type of date_object = <class 'datetime.datetime'>\n",
      "date_string = 1991-02-25 00:00:00\n",
      "type of date_string = <class 'str'>\n",
      "date_object = 1991-02-25 00:00:00\n",
      "type of date_object = <class 'datetime.datetime'>\n",
      "date_string = 1978-06-14 00:00:00\n",
      "type of date_string = <class 'str'>\n",
      "date_object = 1978-06-14 00:00:00\n",
      "type of date_object = <class 'datetime.datetime'>\n",
      "date_string = 1998-09-22 00:00:00\n",
      "type of date_string = <class 'str'>\n",
      "date_object = 1998-09-22 00:00:00\n",
      "type of date_object = <class 'datetime.datetime'>\n",
      "date_string = 1981-09-03 00:00:00\n",
      "type of date_string = <class 'str'>\n",
      "date_object = 1981-09-03 00:00:00\n",
      "type of date_object = <class 'datetime.datetime'>\n",
      "date_string = 1985-05-03 00:00:00\n",
      "type of date_string = <class 'str'>\n",
      "date_object = 1985-05-03 00:00:00\n",
      "type of date_object = <class 'datetime.datetime'>\n",
      "date_string = 1996-06-05 00:00:00\n",
      "type of date_string = <class 'str'>\n",
      "date_object = 1996-06-05 00:00:00\n",
      "type of date_object = <class 'datetime.datetime'>\n",
      "date_string = 2000-03-20 00:00:00\n",
      "type of date_string = <class 'str'>\n",
      "date_object = 2000-03-20 00:00:00\n",
      "type of date_object = <class 'datetime.datetime'>\n",
      "date_string = 1996-07-22 00:00:00\n",
      "type of date_string = <class 'str'>\n",
      "date_object = 1996-07-22 00:00:00\n",
      "type of date_object = <class 'datetime.datetime'>\n",
      "date_string = 2017-11-22 00:00:00\n",
      "type of date_string = <class 'str'>\n",
      "date_object = 2017-11-22 00:00:00\n",
      "type of date_object = <class 'datetime.datetime'>\n",
      "date_string = 2022-01-19 00:00:00\n",
      "type of date_string = <class 'str'>\n",
      "date_object = 2022-01-19 00:00:00\n",
      "type of date_object = <class 'datetime.datetime'>\n",
      "date_string = 1980-01-07 00:00:00\n",
      "type of date_string = <class 'str'>\n",
      "date_object = 1980-01-07 00:00:00\n",
      "type of date_object = <class 'datetime.datetime'>\n",
      "date_string = 1980-01-29 00:00:00\n",
      "type of date_string = <class 'str'>\n",
      "date_object = 1980-01-29 00:00:00\n",
      "type of date_object = <class 'datetime.datetime'>\n",
      "date_string = 1978-06-06 00:00:00\n",
      "type of date_string = <class 'str'>\n",
      "date_object = 1978-06-06 00:00:00\n",
      "type of date_object = <class 'datetime.datetime'>\n",
      "date_string = 1977-10-18 00:00:00\n",
      "type of date_string = <class 'str'>\n",
      "date_object = 1977-10-18 00:00:00\n",
      "type of date_object = <class 'datetime.datetime'>\n",
      "date_string = 1986-02-11 00:00:00\n",
      "type of date_string = <class 'str'>\n",
      "date_object = 1986-02-11 00:00:00\n",
      "type of date_object = <class 'datetime.datetime'>\n",
      "date_string = 1992-01-14 00:00:00\n",
      "type of date_string = <class 'str'>\n",
      "date_object = 1992-01-14 00:00:00\n",
      "type of date_object = <class 'datetime.datetime'>\n",
      "date_string = 1996-03-25 00:00:00\n",
      "type of date_string = <class 'str'>\n",
      "date_object = 1996-03-25 00:00:00\n",
      "type of date_object = <class 'datetime.datetime'>\n",
      "date_string = 1993-02-20 00:00:00\n",
      "type of date_string = <class 'str'>\n",
      "date_object = 1993-02-20 00:00:00\n",
      "type of date_object = <class 'datetime.datetime'>\n",
      "date_string = 1985-10-07 00:00:00\n",
      "type of date_string = <class 'str'>\n",
      "date_object = 1985-10-07 00:00:00\n",
      "type of date_object = <class 'datetime.datetime'>\n",
      "date_string = 1988-11-03 00:00:00\n",
      "type of date_string = <class 'str'>\n",
      "date_object = 1988-11-03 00:00:00\n",
      "type of date_object = <class 'datetime.datetime'>\n",
      "date_string = 1977-04-25 00:00:00\n",
      "type of date_string = <class 'str'>\n",
      "date_object = 1977-04-25 00:00:00\n",
      "type of date_object = <class 'datetime.datetime'>\n",
      "date_string = 1982-12-11 00:00:00\n",
      "type of date_string = <class 'str'>\n",
      "date_object = 1982-12-11 00:00:00\n",
      "type of date_object = <class 'datetime.datetime'>\n",
      "date_string = 2005-03-02 00:00:00\n",
      "type of date_string = <class 'str'>\n",
      "date_object = 2005-03-02 00:00:00\n",
      "type of date_object = <class 'datetime.datetime'>\n",
      "date_string = 1995-10-04 00:00:00\n",
      "type of date_string = <class 'str'>\n",
      "date_object = 1995-10-04 00:00:00\n",
      "type of date_object = <class 'datetime.datetime'>\n",
      "date_string = 1996-12-16 00:00:00\n",
      "type of date_string = <class 'str'>\n",
      "date_object = 1996-12-16 00:00:00\n",
      "type of date_object = <class 'datetime.datetime'>\n",
      "date_string = 1985-05-08 00:00:00\n",
      "type of date_string = <class 'str'>\n",
      "date_object = 1985-05-08 00:00:00\n",
      "type of date_object = <class 'datetime.datetime'>\n",
      "date_string = 1984-10-16 00:00:00\n",
      "type of date_string = <class 'str'>\n",
      "date_object = 1984-10-16 00:00:00\n",
      "type of date_object = <class 'datetime.datetime'>\n",
      "date_string = 1990-04-28 00:00:00\n",
      "type of date_string = <class 'str'>\n",
      "date_object = 1990-04-28 00:00:00\n",
      "type of date_object = <class 'datetime.datetime'>\n",
      "date_string = 1986-12-21 00:00:00\n",
      "type of date_string = <class 'str'>\n",
      "date_object = 1986-12-21 00:00:00\n",
      "type of date_object = <class 'datetime.datetime'>\n",
      "date_string = 1981-01-29 00:00:00\n",
      "type of date_string = <class 'str'>\n",
      "date_object = 1981-01-29 00:00:00\n",
      "type of date_object = <class 'datetime.datetime'>\n",
      "date_string = 1999-04-05 00:00:00\n",
      "type of date_string = <class 'str'>\n",
      "date_object = 1999-04-05 00:00:00\n",
      "type of date_object = <class 'datetime.datetime'>\n",
      "date_string = 2003-03-24 00:00:00\n",
      "type of date_string = <class 'str'>\n",
      "date_object = 2003-03-24 00:00:00\n",
      "type of date_object = <class 'datetime.datetime'>\n",
      "date_string = 1964-01-16 00:00:00\n",
      "type of date_string = <class 'str'>\n",
      "date_object = 1964-01-16 00:00:00\n",
      "type of date_object = <class 'datetime.datetime'>\n",
      "date_string = 1989-06-28 00:00:00\n",
      "type of date_string = <class 'str'>\n",
      "date_object = 1989-06-28 00:00:00\n",
      "type of date_object = <class 'datetime.datetime'>\n",
      "date_string = 1986-10-17 00:00:00\n",
      "type of date_string = <class 'str'>\n",
      "date_object = 1986-10-17 00:00:00\n",
      "type of date_object = <class 'datetime.datetime'>\n",
      "date_string = 1978-03-09 00:00:00\n",
      "type of date_string = <class 'str'>\n",
      "date_object = 1978-03-09 00:00:00\n",
      "type of date_object = <class 'datetime.datetime'>\n",
      "date_string = 1993-10-05 00:00:00\n",
      "type of date_string = <class 'str'>\n",
      "date_object = 1993-10-05 00:00:00\n",
      "type of date_object = <class 'datetime.datetime'>\n",
      "date_string = 1978-09-12 00:00:00\n",
      "type of date_string = <class 'str'>\n",
      "date_object = 1978-09-12 00:00:00\n",
      "type of date_object = <class 'datetime.datetime'>\n",
      "date_string = 1985-03-16 00:00:00\n",
      "type of date_string = <class 'str'>\n",
      "date_object = 1985-03-16 00:00:00\n",
      "type of date_object = <class 'datetime.datetime'>\n",
      "date_string = 1972-03-06 00:00:00\n",
      "type of date_string = <class 'str'>\n",
      "date_object = 1972-03-06 00:00:00\n",
      "type of date_object = <class 'datetime.datetime'>\n",
      "date_string = 1998-03-13 00:00:00\n",
      "type of date_string = <class 'str'>\n",
      "date_object = 1998-03-13 00:00:00\n",
      "type of date_object = <class 'datetime.datetime'>\n",
      "date_string = 1973-07-04 00:00:00\n",
      "type of date_string = <class 'str'>\n",
      "date_object = 1973-07-04 00:00:00\n",
      "type of date_object = <class 'datetime.datetime'>\n",
      "date_string = 1993-01-14 00:00:00\n",
      "type of date_string = <class 'str'>\n",
      "date_object = 1993-01-14 00:00:00\n",
      "type of date_object = <class 'datetime.datetime'>\n",
      "date_string = 1997-03-19 00:00:00\n",
      "type of date_string = <class 'str'>\n",
      "date_object = 1997-03-19 00:00:00\n",
      "type of date_object = <class 'datetime.datetime'>\n",
      "date_string = 1991-05-10 00:00:00\n",
      "type of date_string = <class 'str'>\n",
      "date_object = 1991-05-10 00:00:00\n",
      "type of date_object = <class 'datetime.datetime'>\n",
      "date_string = 1990-10-30 00:00:00\n",
      "type of date_string = <class 'str'>\n",
      "date_object = 1990-10-30 00:00:00\n",
      "type of date_object = <class 'datetime.datetime'>\n",
      "date_string = 1995-09-20 00:00:00\n",
      "type of date_string = <class 'str'>\n",
      "date_object = 1995-09-20 00:00:00\n",
      "type of date_object = <class 'datetime.datetime'>\n",
      "date_string = 1986-02-22 00:00:00\n",
      "type of date_string = <class 'str'>\n",
      "date_object = 1986-02-22 00:00:00\n",
      "type of date_object = <class 'datetime.datetime'>\n",
      "date_string = 1985-12-08 00:00:00\n",
      "type of date_string = <class 'str'>\n",
      "date_object = 1985-12-08 00:00:00\n",
      "type of date_object = <class 'datetime.datetime'>\n",
      "date_string = 1989-07-06 00:00:00\n",
      "type of date_string = <class 'str'>\n",
      "date_object = 1989-07-06 00:00:00\n",
      "type of date_object = <class 'datetime.datetime'>\n",
      "date_string = 1979-03-22 00:00:00\n",
      "type of date_string = <class 'str'>\n",
      "date_object = 1979-03-22 00:00:00\n",
      "type of date_object = <class 'datetime.datetime'>\n",
      "date_string = 1996-09-12 00:00:00\n",
      "type of date_string = <class 'str'>\n",
      "date_object = 1996-09-12 00:00:00\n",
      "type of date_object = <class 'datetime.datetime'>\n",
      "date_string = 1988-10-11 00:00:00\n",
      "type of date_string = <class 'str'>\n",
      "date_object = 1988-10-11 00:00:00\n",
      "type of date_object = <class 'datetime.datetime'>\n",
      "date_string = 1989-04-12 00:00:00\n",
      "type of date_string = <class 'str'>\n",
      "date_object = 1989-04-12 00:00:00\n",
      "type of date_object = <class 'datetime.datetime'>\n",
      "date_string = 1996-06-12 00:00:00\n",
      "type of date_string = <class 'str'>\n",
      "date_object = 1996-06-12 00:00:00\n",
      "type of date_object = <class 'datetime.datetime'>\n",
      "date_string = 1985-07-11 00:00:00\n",
      "type of date_string = <class 'str'>\n",
      "date_object = 1985-07-11 00:00:00\n",
      "type of date_object = <class 'datetime.datetime'>\n",
      "date_string = 1988-05-21 00:00:00\n",
      "type of date_string = <class 'str'>\n",
      "date_object = 1988-05-21 00:00:00\n",
      "type of date_object = <class 'datetime.datetime'>\n"
     ]
    },
    {
     "name": "stderr",
     "output_type": "stream",
     "text": [
      "C:\\Users\\jmartinez\\AppData\\Local\\Temp\\ipykernel_18168\\3142011781.py:66: SettingWithCopyWarning: \n",
      "A value is trying to be set on a copy of a slice from a DataFrame.\n",
      "Try using .loc[row_indexer,col_indexer] = value instead\n",
      "\n",
      "See the caveats in the documentation: https://pandas.pydata.org/pandas-docs/stable/user_guide/indexing.html#returning-a-view-versus-a-copy\n",
      "  noestan.replace({\"sexo\": Sexo}, inplace=True)\n",
      "C:\\Users\\jmartinez\\AppData\\Local\\Temp\\ipykernel_18168\\3142011781.py:92: FutureWarning: The default value of regex will change from True to False in a future version. In addition, single character regular expressions will *not* be treated as literal strings when regex=True.\n",
      "  Subir_pacientes[\"Phone\"] = Subir_pacientes[\"Phone\"].str.replace(\".\", \"\")\n",
      "C:\\Users\\jmartinez\\AppData\\Local\\Temp\\ipykernel_18168\\3142011781.py:99: FutureWarning: The default value of regex will change from True to False in a future version. In addition, single character regular expressions will *not* be treated as literal strings when regex=True.\n",
      "  Subir_pacientes[\"Phone\"] = Subir_pacientes[\"Phone\"].str.replace(\"+\", \"\")\n"
     ]
    },
    {
     "data": {
      "text/html": [
       "<div>\n",
       "<style scoped>\n",
       "    .dataframe tbody tr th:only-of-type {\n",
       "        vertical-align: middle;\n",
       "    }\n",
       "\n",
       "    .dataframe tbody tr th {\n",
       "        vertical-align: top;\n",
       "    }\n",
       "\n",
       "    .dataframe thead th {\n",
       "        text-align: right;\n",
       "    }\n",
       "</style>\n",
       "<table border=\"1\" class=\"dataframe\">\n",
       "  <thead>\n",
       "    <tr style=\"text-align: right;\">\n",
       "      <th></th>\n",
       "      <th>rut1</th>\n",
       "      <th>rut2</th>\n",
       "      <th>FirstName</th>\n",
       "      <th>LastName</th>\n",
       "      <th>IdentificationId__pc</th>\n",
       "      <th>PersonEmail</th>\n",
       "      <th>Email_Seteado__c</th>\n",
       "      <th>PersonBirthdate</th>\n",
       "      <th>derty</th>\n",
       "      <th>HealthCloudGA__Gender__pc</th>\n",
       "      <th>BillingStreet</th>\n",
       "      <th>BillingState</th>\n",
       "      <th>BillingCity</th>\n",
       "      <th>Phone</th>\n",
       "      <th>RecordTypeId</th>\n",
       "      <th>Cuenta_validada__c</th>\n",
       "      <th>BillingCountry</th>\n",
       "      <th>Identification_Type__c</th>\n",
       "      <th>Pa_s_del_Paciente__c</th>\n",
       "    </tr>\n",
       "  </thead>\n",
       "  <tbody>\n",
       "    <tr>\n",
       "      <th>851</th>\n",
       "      <td>16260287K</td>\n",
       "      <td>16260287K</td>\n",
       "      <td>Jordan Lee</td>\n",
       "      <td>Santander Torres</td>\n",
       "      <td>16260287K</td>\n",
       "      <td>jordan.santander@gmail.com</td>\n",
       "      <td>True</td>\n",
       "      <td>1986-08-19</td>\n",
       "      <td>1986-08-19</td>\n",
       "      <td>Hombre</td>\n",
       "      <td>manuel montt 2650</td>\n",
       "      <td>Calama</td>\n",
       "      <td>Calama</td>\n",
       "      <td>423775</td>\n",
       "      <td>0128c000002Byp4AAC</td>\n",
       "      <td>True</td>\n",
       "      <td>Chile</td>\n",
       "      <td>RUT</td>\n",
       "      <td>a1U8c000005dAtnEAE</td>\n",
       "    </tr>\n",
       "    <tr>\n",
       "      <th>852</th>\n",
       "      <td>146134084</td>\n",
       "      <td>146134084</td>\n",
       "      <td>Siria Marisol</td>\n",
       "      <td>Sanchez Cifuentes</td>\n",
       "      <td>146134084</td>\n",
       "      <td>siriasanchez25@gmail.com</td>\n",
       "      <td>True</td>\n",
       "      <td>1981-10-31</td>\n",
       "      <td>1981-10-31</td>\n",
       "      <td>Mujer</td>\n",
       "      <td>av. quilin 5662, dpto. 605 c</td>\n",
       "      <td>Penalolen</td>\n",
       "      <td>Santiago</td>\n",
       "      <td>97446875</td>\n",
       "      <td>0128c000002Byp4AAC</td>\n",
       "      <td>True</td>\n",
       "      <td>Chile</td>\n",
       "      <td>RUT</td>\n",
       "      <td>a1U8c000005dAtnEAE</td>\n",
       "    </tr>\n",
       "    <tr>\n",
       "      <th>853</th>\n",
       "      <td>229634127</td>\n",
       "      <td>229634127</td>\n",
       "      <td>Catalina Antonia</td>\n",
       "      <td>Carreño Sanchez</td>\n",
       "      <td>229634127</td>\n",
       "      <td></td>\n",
       "      <td>False</td>\n",
       "      <td>2009-03-06</td>\n",
       "      <td>2009-03-06</td>\n",
       "      <td>Mujer</td>\n",
       "      <td>av. quilin 5662, dpto. 605, torre c</td>\n",
       "      <td>Penalolen</td>\n",
       "      <td>Santiago</td>\n",
       "      <td>77262168</td>\n",
       "      <td>0128c000002Byp4AAC</td>\n",
       "      <td>True</td>\n",
       "      <td>Chile</td>\n",
       "      <td>RUT</td>\n",
       "      <td>a1U8c000005dAtnEAE</td>\n",
       "    </tr>\n",
       "    <tr>\n",
       "      <th>854</th>\n",
       "      <td>215939278</td>\n",
       "      <td>215939278</td>\n",
       "      <td>Martin Antonio</td>\n",
       "      <td>Carreño Sanchez</td>\n",
       "      <td>215939278</td>\n",
       "      <td></td>\n",
       "      <td>False</td>\n",
       "      <td>2004-06-07</td>\n",
       "      <td>2004-06-07</td>\n",
       "      <td>Hombre</td>\n",
       "      <td>av. quilin 5662, dpto. 605, torre c</td>\n",
       "      <td>Penalolen</td>\n",
       "      <td>Santiago</td>\n",
       "      <td>58115343</td>\n",
       "      <td>0128c000002Byp4AAC</td>\n",
       "      <td>True</td>\n",
       "      <td>Chile</td>\n",
       "      <td>RUT</td>\n",
       "      <td>a1U8c000005dAtnEAE</td>\n",
       "    </tr>\n",
       "    <tr>\n",
       "      <th>855</th>\n",
       "      <td>172238602</td>\n",
       "      <td>172238602</td>\n",
       "      <td>Fernanda Albertina</td>\n",
       "      <td>Barrales Carcamo</td>\n",
       "      <td>172238602</td>\n",
       "      <td>ferbarralesc@gmail.com</td>\n",
       "      <td>True</td>\n",
       "      <td>1989-10-19</td>\n",
       "      <td>1989-10-19</td>\n",
       "      <td>Mujer</td>\n",
       "      <td>parcela 17 las peñas  talcamavida hualqui</td>\n",
       "      <td>Hualqui</td>\n",
       "      <td>Concepcion</td>\n",
       "      <td>76566564</td>\n",
       "      <td>0128c000002Byp4AAC</td>\n",
       "      <td>True</td>\n",
       "      <td>Chile</td>\n",
       "      <td>RUT</td>\n",
       "      <td>a1U8c000005dAtnEAE</td>\n",
       "    </tr>\n",
       "  </tbody>\n",
       "</table>\n",
       "</div>"
      ],
      "text/plain": [
       "          rut1       rut2           FirstName           LastName  \\\n",
       "851  16260287K  16260287K          Jordan Lee   Santander Torres   \n",
       "852  146134084  146134084       Siria Marisol  Sanchez Cifuentes   \n",
       "853  229634127  229634127    Catalina Antonia    Carreño Sanchez   \n",
       "854  215939278  215939278      Martin Antonio    Carreño Sanchez   \n",
       "855  172238602  172238602  Fernanda Albertina   Barrales Carcamo   \n",
       "\n",
       "    IdentificationId__pc                 PersonEmail Email_Seteado__c  \\\n",
       "851            16260287K  jordan.santander@gmail.com             True   \n",
       "852            146134084    siriasanchez25@gmail.com             True   \n",
       "853            229634127                                        False   \n",
       "854            215939278                                        False   \n",
       "855            172238602      ferbarralesc@gmail.com             True   \n",
       "\n",
       "    PersonBirthdate      derty HealthCloudGA__Gender__pc  \\\n",
       "851      1986-08-19 1986-08-19                    Hombre   \n",
       "852      1981-10-31 1981-10-31                     Mujer   \n",
       "853      2009-03-06 2009-03-06                     Mujer   \n",
       "854      2004-06-07 2004-06-07                    Hombre   \n",
       "855      1989-10-19 1989-10-19                     Mujer   \n",
       "\n",
       "                                 BillingStreet BillingState BillingCity  \\\n",
       "851                          manuel montt 2650       Calama      Calama   \n",
       "852               av. quilin 5662, dpto. 605 c    Penalolen    Santiago   \n",
       "853        av. quilin 5662, dpto. 605, torre c    Penalolen    Santiago   \n",
       "854        av. quilin 5662, dpto. 605, torre c    Penalolen    Santiago   \n",
       "855  parcela 17 las peñas  talcamavida hualqui      Hualqui  Concepcion   \n",
       "\n",
       "        Phone        RecordTypeId Cuenta_validada__c BillingCountry  \\\n",
       "851    423775  0128c000002Byp4AAC               True          Chile   \n",
       "852  97446875  0128c000002Byp4AAC               True          Chile   \n",
       "853  77262168  0128c000002Byp4AAC               True          Chile   \n",
       "854  58115343  0128c000002Byp4AAC               True          Chile   \n",
       "855  76566564  0128c000002Byp4AAC               True          Chile   \n",
       "\n",
       "    Identification_Type__c Pa_s_del_Paciente__c  \n",
       "851                    RUT   a1U8c000005dAtnEAE  \n",
       "852                    RUT   a1U8c000005dAtnEAE  \n",
       "853                    RUT   a1U8c000005dAtnEAE  \n",
       "854                    RUT   a1U8c000005dAtnEAE  \n",
       "855                    RUT   a1U8c000005dAtnEAE  "
      ]
     },
     "execution_count": 196,
     "metadata": {},
     "output_type": "execute_result"
    }
   ],
   "source": [
    "# Final_pacientes_y_empresa = Pacientes_con_ID\n",
    "Subir_pacientes = pd.DataFrame()\n",
    "# Subir_pacientes[\"Email_Seteado__c\"] = \"\"\n",
    "# Subir_pacientes[\"RutEstaoNo\"] = Pacientes_con_id[\"RutEstaoNo\"]\n",
    "\n",
    "# agrupar = empresasqfaltan[empresasqfaltan['si']==False]\n",
    "Subir_pacientes[\"rut1\"] = noestan[\"rut\"]\n",
    "Subir_pacientes[\"rut2\"] = noestan[\"rutT\"]\n",
    "\n",
    "if (\"nombres\" in noestan.columns) == True:\n",
    "    Subir_pacientes[\"FirstName\"] = noestan[\"nombres\"]\n",
    "if (\"apellidos\" in noestan.columns) == True:\n",
    "    Subir_pacientes[\"LastName\"] = noestan[\"apellidos\"]\n",
    "if (\"rut\" in noestan.columns) == True:\n",
    "    Subir_pacientes[\"IdentificationId__pc\"] = noestan[\"rut\"].astype(str).str.upper()\n",
    "\n",
    "\n",
    "if (\"email\" in noestan.columns) == True:\n",
    "    # Pacientes_con_id[\"email\"] = Pacientes_con_id[\"email\"].astype(str).str.lower().replace(\"nan\",\"\")\n",
    "    Subir_pacientes[\"PersonEmail\"] = noestan[\"email\"].astype(str).str.lower()\n",
    "    Subir_pacientes[\"PersonEmail\"] = Subir_pacientes[\"PersonEmail\"].apply(\n",
    "        lambda y: isValid(y)\n",
    "    )\n",
    "    Subir_pacientes[\"Email_Seteado__c\"] = np.where(\n",
    "        Subir_pacientes[\"PersonEmail\"] != \"\", \"True\", \"False\"\n",
    "    )\n",
    "\n",
    "    # Subir_pacientes[\"PersonEmail\"] = Subir_pacientes[\"PersonEmail\"].str.replace(\"no informado\", \"\")\n",
    "# if (\"nacimiento\" in Pacientes_con_id.columns) == True:\n",
    "#    Subir_pacientes[\"PersonBirthdate\"] = pd.to_datetime(Pacientes_con_id[\"nacimiento\"].astype(str), format=\"%Y-%m-%d\")\n",
    "if (\"nacimiento\" in noestan.columns) == True:\n",
    "    # try:\n",
    "    Subir_pacientes[\"PersonBirthdate\"] = noestan[\"nacimiento\"].apply(\n",
    "        lambda y: fechaValida(y)\n",
    "    )\n",
    "    Subir_pacientes[\"derty\"] = noestan[\"nacimiento\"].apply(lambda y: fechaValida(y))\n",
    "    # except ValueError:\n",
    "    # Subir_pacientes[\"PersonBirthdate\"] = pd.to_datetime(\"1900-01-01\", format=\"%Y-%m-%d\")\n",
    "\n",
    "if (\"sexo\" in noestan.columns) == True:\n",
    "    Sexo = {\n",
    "        \"H\": \"Hombre\",\n",
    "        \"m\": \"Hombre\",\n",
    "        \"Masculino\": \"Hombre\",\n",
    "        \"Femenino\": \"Mujer\",\n",
    "        \"\": \"Prefiero no responder\",\n",
    "        \"HOMBRE\": \"Hombre\",\n",
    "        \"MUJER\": \"Mujer\",\n",
    "        \"F\": \"Mujer\",\n",
    "        \"O\": \"Prefiero no responder\",\n",
    "        \"Ambos\": \"Prefiero no responder\",\n",
    "        \"N\": \"Prefiero no responder\",\n",
    "        \"Otro\": \"Prefiero no responder\",\n",
    "        \"n\": \"Prefiero no responder\",\n",
    "        \"N\": \"Prefiero no responder\",\n",
    "        \"FEMENINO\": \"Mujer\",\n",
    "        \"f\": \"Mujer\",\n",
    "        \"MASCULINO\": \"Hombre\",\n",
    "        \"m\": \"Hombre\",\n",
    "        \"M \": \"Hombre\",\n",
    "        \"M\": \"Hombre\",\n",
    "        \"F \": \"Mujer\",\n",
    "        \"Varón\": \"Hombre\",\n",
    "        \"varon\": \"Hombre\",\n",
    "    }\n",
    "    noestan.replace({\"sexo\": Sexo}, inplace=True)\n",
    "    Subir_pacientes[\"HealthCloudGA__Gender__pc\"] = noestan[\"sexo\"]\n",
    "if (\"direccion\" in noestan.columns) == True:\n",
    "    Subir_pacientes[\"BillingStreet\"] = (\n",
    "        noestan[\"direccion\"].str.lower().replace(\"nan\", \"\")\n",
    "    )\n",
    "    # Subir_pacientes[\"BillingStreet\"] = Final_pacientes_y_empresa[\"direccion\"]\n",
    "if (\"comuna\" in noestan.columns) == True:\n",
    "    # Subir_pacientes[\"BillingState\"] = Final_pacientes_y_empresa[\"comuna\"]\n",
    "    Subir_pacientes[\"BillingState\"] = noestan[\"comuna\"].str.title().replace(\"NaN\", \"\")\n",
    "    # Subir_pacientes[\"BillingState\"] = Final_pacientes_y_empresa[\"comuna\"]\n",
    "if (\"ciudad\" in noestan.columns) == True:\n",
    "    # Subir_pacientes[\"BillingCity\"] = Final_pacientes_y_empresa[\"ciudad\"]\n",
    "    Subir_pacientes[\"BillingCity\"] = noestan[\"ciudad\"].str.title().replace(\"NaN\", \"\")\n",
    "\n",
    "if (\"cargo\" in Pacientes_con_id.columns) == True:\n",
    "    Subir_pacientes[\"PersonTitle\"] = noestan[\"cargo\"].str.title()\n",
    "\n",
    "if (\"division\" in noestan.columns) == True:\n",
    "    Subir_pacientes[\"PersonDepartment\"] = noestan[\"division\"].str.title()\n",
    "\n",
    "if (\"celular\" in noestan.columns) == True:\n",
    "    Subir_pacientes[\"Phone\"] = (\n",
    "        noestan[\"celular\"].astype(str).str.strip().replace(\"+\", \"\")\n",
    "    )\n",
    "    Subir_pacientes[\"Phone\"] = Subir_pacientes[\"Phone\"].str.replace(\"NaN\", \"\")\n",
    "    Subir_pacientes[\"Phone\"] = Subir_pacientes[\"Phone\"].str.replace(\".\", \"\")\n",
    "    Subir_pacientes[\"Phone\"] = Subir_pacientes[\"Phone\"].str.replace(\"Nan\", \"\")\n",
    "    Subir_pacientes[\"Phone\"] = Subir_pacientes[\"Phone\"].str.replace(\"-\", \"\")\n",
    "    Subir_pacientes[\"Phone\"] = Subir_pacientes[\"Phone\"].str.replace(\"0\", \"\")\n",
    "    Subir_pacientes[\"Phone\"] = Subir_pacientes[\"Phone\"].str.replace(\"No Informado\", \"\")\n",
    "    Subir_pacientes[\"Phone\"] = Subir_pacientes[\"Phone\"].str.replace(\"_\", \"\")\n",
    "    Subir_pacientes[\"Phone\"] = Subir_pacientes[\"Phone\"].str.replace(\"/\", \"\")\n",
    "    Subir_pacientes[\"Phone\"] = Subir_pacientes[\"Phone\"].str.replace(\"+\", \"\")\n",
    "    Subir_pacientes[\"Phone\"] = Subir_pacientes[\"Phone\"].str.replace(\"nan\", \"\")\n",
    "    Subir_pacientes[\"Phone\"] = Subir_pacientes[\"Phone\"].str.replace(\"null\", \"\")\n",
    "    Subir_pacientes[\"Phone\"] = Subir_pacientes[\"Phone\"].str.replace(\"NULL\", \"\")\n",
    "\n",
    "\n",
    "Subir_pacientes[\"RecordTypeId\"] = \"0128c000002Byp4AAC\"\n",
    "Subir_pacientes[\"Cuenta_validada__c\"] = \"True\"\n",
    "\n",
    "\n",
    "if Pais == \"Chile\":\n",
    "    Subir_pacientes[\"BillingCountry\"] = \"Chile\"\n",
    "    Subir_pacientes[\"Identification_Type__c\"] = \"RUT\"\n",
    "    Subir_pacientes[\"Pa_s_del_Paciente__c\"] = \"a1U8c000005dAtnEAE\"\n",
    "else:\n",
    "    Subir_pacientes[\"BillingCountry\"] = \"México\"\n",
    "    Subir_pacientes[\"Identification_Type__c\"] = \"RUT\"\n",
    "    Subir_pacientes[\"Pa_s_del_Paciente__c\"] = \"a1U8c000005dAtsEAE\"\n",
    "\n",
    "# Subir_pacientes_Que_no_Estan = Subir_pacientes\n",
    "# Subir_pacientes_Estan = Subir_pacientes[Subir_pacientes[\"RutEstaoNo\"] == True]\n",
    "# Subir_pacientes = Subir_pacientes[Subir_pacientes[\"RutEstaoNo\"] == False]\n",
    "\n",
    "# Subir_pacientes[\"PersonBirthdate\"] = Subir_pacientes[\"PersonBirthdate\"].str.replace(\"0001-01-01 00:00:00\", \"\")\n",
    "\n",
    "# Subir_pacientes.PersonEmail = Subir_pacientes.PersonEmail.fillna('')\n",
    "Subir_pacientes = Subir_pacientes.drop_duplicates(\n",
    "    [\n",
    "        \"IdentificationId__pc\",\n",
    "    ],\n",
    "    keep=\"last\",\n",
    ")\n",
    "Subir_pacientes.to_excel(\n",
    "    \"F:/Empresas SF/reportes/Pacientes_Que_No_Estaban.xlsx\", index=False\n",
    ")\n",
    "Subir_pacientes.head()"
   ]
  },
  {
   "cell_type": "code",
   "execution_count": null,
   "metadata": {
    "notebookRunGroups": {
     "groupValue": "2"
    }
   },
   "outputs": [
    {
     "data": {
      "text/plain": [
       "(76, 19)"
      ]
     },
     "execution_count": 197,
     "metadata": {},
     "output_type": "execute_result"
    }
   ],
   "source": [
    "Subir_pacientes.shape"
   ]
  },
  {
   "cell_type": "code",
   "execution_count": null,
   "metadata": {
    "notebookRunGroups": {
     "groupValue": "2"
    }
   },
   "outputs": [],
   "source": [
    "def traerId(rut):\n",
    "    if len(rut) >= 8:\n",
    "        busquedaDatos = (\n",
    "            \"FIND {\"\n",
    "            + rut\n",
    "            + \"} RETURNING Account(Id,IdentificationId__pc where IdentificationId__pc = '\"\n",
    "            + rut\n",
    "            + \"')\"\n",
    "        )\n",
    "        derty = dict(sf.search(busquedaDatos))\n",
    "        if derty[\"searchRecords\"] != []:\n",
    "            if derty[\"searchRecords\"][0][\"attributes\"][\"type\"] == \"Account\":\n",
    "                jote = derty[\"searchRecords\"][0][\"Id\"]\n",
    "                dertyd = derty[\"searchRecords\"][0][\"IdentificationId__pc\"]\n",
    "                print(jote + \" \" + dertyd)\n",
    "                return jote\n",
    "            else:\n",
    "                print(\"no\")\n",
    "        else:\n",
    "            print(\"vacio\")\n",
    "    else:\n",
    "        return \"None\"\n",
    "\n",
    "\n",
    "def traerContact(ide):\n",
    "    ide = str(ide)\n",
    "    if len(ide) >= 12:\n",
    "        idcontact = sf.Account.get(ide)\n",
    "        return idcontact[\"PersonContactId\"]\n",
    "    else:\n",
    "        return \"NONES\"\n",
    "\n",
    "\n",
    "def agregarPaciente(listado):\n",
    "    vListado = listado.split(\",\")\n",
    "\n",
    "    derty = None\n",
    "    # vListado[9] = datetime.strptime(vListado[9], \"%Y-%m-%d %H:%M:%S\")\n",
    "\n",
    "    if vListado[9] == \"\":\n",
    "        try:\n",
    "            derty = dict(\n",
    "                sf.Account.create(\n",
    "                    # derty = sf.Account.create(\n",
    "                    {\n",
    "                        \"FirstName\": vListado[0],\n",
    "                        \"LastName\": vListado[1],\n",
    "                        \"IdentificationId__pc\": vListado[2],\n",
    "                        \"RecordTypeId\": vListado[3],\n",
    "                        \"BillingCountry\": vListado[4],\n",
    "                        \"Identification_Type__c\": vListado[5],\n",
    "                        \"Pa_s_del_Paciente__c\": vListado[6],\n",
    "                        \"Cuenta_validada__c\": True,\n",
    "                        \"PersonEmail\": vListado[8],\n",
    "                        \"HealthCloudGA__Gender__pc\": vListado[10],\n",
    "                        \"Phone\": vListado[11],\n",
    "                        \"BillingCity\": vListado[12],\n",
    "                        \"BillingState\": vListado[13],\n",
    "                        \"BillingStreet\": vListado[14],\n",
    "                        \"Email_Seteado__c\": bool(vListado[15]),\n",
    "                    }\n",
    "                )\n",
    "            )\n",
    "            # return derty[\"id\"]\n",
    "        except SalesforceMalformedRequest as e:\n",
    "            print(f\"Malformed request error: {e}\")\n",
    "            error = {e}\n",
    "\n",
    "        if derty is not None:\n",
    "            return derty[\"id\"]\n",
    "        else:\n",
    "            traerId(vListado[2])\n",
    "    else:\n",
    "        try:\n",
    "            derty = dict(\n",
    "                sf.Account.create(\n",
    "                    # derty = sf.Account.create(\n",
    "                    {\n",
    "                        \"FirstName\": vListado[0],\n",
    "                        \"LastName\": vListado[1],\n",
    "                        \"IdentificationId__pc\": vListado[2],\n",
    "                        \"RecordTypeId\": vListado[3],\n",
    "                        \"BillingCountry\": vListado[4],\n",
    "                        \"Identification_Type__c\": vListado[5],\n",
    "                        \"Pa_s_del_Paciente__c\": vListado[6],\n",
    "                        \"Cuenta_validada__c\": True,\n",
    "                        \"PersonEmail\": vListado[8],\n",
    "                        \"PersonBirthdate\": vListado[9],\n",
    "                        # \"PersonBirthdate\":datetime.strptime(vListado[9], \"%Y-%m-%d %H:%M:%S\").formatGMT('yyyy-MM-dd\\'T\\'HH:mm:ss.SSS\\'Z\\'' + '\"'),\n",
    "                        \"HealthCloudGA__Gender__pc\": vListado[10],\n",
    "                        \"Phone\": vListado[11],\n",
    "                        \"BillingCity\": vListado[12],\n",
    "                        \"BillingState\": vListado[13],\n",
    "                        \"BillingStreet\": vListado[14],\n",
    "                        \"Email_Seteado__c\": bool(vListado[15]),\n",
    "                    }\n",
    "                )\n",
    "            )\n",
    "            # return derty[\"id\"]\n",
    "        except SalesforceMalformedRequest as e:\n",
    "            print(f\"Malformed request error: {e}\")\n",
    "            error = {e}\n",
    "\n",
    "        if derty is not None:\n",
    "            return derty[\"id\"]\n",
    "        else:\n",
    "            traerId(vListado[2])"
   ]
  },
  {
   "cell_type": "code",
   "execution_count": null,
   "metadata": {
    "notebookRunGroups": {
     "groupValue": "2"
    }
   },
   "outputs": [
    {
     "data": {
      "text/html": [
       "<div>\n",
       "<style scoped>\n",
       "    .dataframe tbody tr th:only-of-type {\n",
       "        vertical-align: middle;\n",
       "    }\n",
       "\n",
       "    .dataframe tbody tr th {\n",
       "        vertical-align: top;\n",
       "    }\n",
       "\n",
       "    .dataframe thead th {\n",
       "        text-align: right;\n",
       "    }\n",
       "</style>\n",
       "<table border=\"1\" class=\"dataframe\">\n",
       "  <thead>\n",
       "    <tr style=\"text-align: right;\">\n",
       "      <th></th>\n",
       "      <th>rut1</th>\n",
       "      <th>rut2</th>\n",
       "      <th>FirstName</th>\n",
       "      <th>LastName</th>\n",
       "      <th>IdentificationId__pc</th>\n",
       "      <th>PersonEmail</th>\n",
       "      <th>Email_Seteado__c</th>\n",
       "      <th>PersonBirthdate</th>\n",
       "      <th>derty</th>\n",
       "      <th>HealthCloudGA__Gender__pc</th>\n",
       "      <th>BillingStreet</th>\n",
       "      <th>BillingState</th>\n",
       "      <th>BillingCity</th>\n",
       "      <th>Phone</th>\n",
       "      <th>RecordTypeId</th>\n",
       "      <th>Cuenta_validada__c</th>\n",
       "      <th>BillingCountry</th>\n",
       "      <th>Identification_Type__c</th>\n",
       "      <th>Pa_s_del_Paciente__c</th>\n",
       "    </tr>\n",
       "  </thead>\n",
       "  <tbody>\n",
       "    <tr>\n",
       "      <th>851</th>\n",
       "      <td>16260287K</td>\n",
       "      <td>16260287K</td>\n",
       "      <td>Jordan Lee</td>\n",
       "      <td>Santander Torres</td>\n",
       "      <td>16260287K</td>\n",
       "      <td>jordan.santander@gmail.com</td>\n",
       "      <td>True</td>\n",
       "      <td>1986-08-19</td>\n",
       "      <td>1986-08-19</td>\n",
       "      <td>Hombre</td>\n",
       "      <td>manuel montt 2650</td>\n",
       "      <td>Calama</td>\n",
       "      <td>Calama</td>\n",
       "      <td>423775</td>\n",
       "      <td>0128c000002Byp4AAC</td>\n",
       "      <td>True</td>\n",
       "      <td>Chile</td>\n",
       "      <td>RUT</td>\n",
       "      <td>a1U8c000005dAtnEAE</td>\n",
       "    </tr>\n",
       "    <tr>\n",
       "      <th>852</th>\n",
       "      <td>146134084</td>\n",
       "      <td>146134084</td>\n",
       "      <td>Siria Marisol</td>\n",
       "      <td>Sanchez Cifuentes</td>\n",
       "      <td>146134084</td>\n",
       "      <td>siriasanchez25@gmail.com</td>\n",
       "      <td>True</td>\n",
       "      <td>1981-10-31</td>\n",
       "      <td>1981-10-31</td>\n",
       "      <td>Mujer</td>\n",
       "      <td>av. quilin 5662, dpto. 605 c</td>\n",
       "      <td>Penalolen</td>\n",
       "      <td>Santiago</td>\n",
       "      <td>97446875</td>\n",
       "      <td>0128c000002Byp4AAC</td>\n",
       "      <td>True</td>\n",
       "      <td>Chile</td>\n",
       "      <td>RUT</td>\n",
       "      <td>a1U8c000005dAtnEAE</td>\n",
       "    </tr>\n",
       "    <tr>\n",
       "      <th>853</th>\n",
       "      <td>229634127</td>\n",
       "      <td>229634127</td>\n",
       "      <td>Catalina Antonia</td>\n",
       "      <td>Carreño Sanchez</td>\n",
       "      <td>229634127</td>\n",
       "      <td></td>\n",
       "      <td>False</td>\n",
       "      <td>2009-03-06</td>\n",
       "      <td>2009-03-06</td>\n",
       "      <td>Mujer</td>\n",
       "      <td>av. quilin 5662, dpto. 605, torre c</td>\n",
       "      <td>Penalolen</td>\n",
       "      <td>Santiago</td>\n",
       "      <td>77262168</td>\n",
       "      <td>0128c000002Byp4AAC</td>\n",
       "      <td>True</td>\n",
       "      <td>Chile</td>\n",
       "      <td>RUT</td>\n",
       "      <td>a1U8c000005dAtnEAE</td>\n",
       "    </tr>\n",
       "    <tr>\n",
       "      <th>854</th>\n",
       "      <td>215939278</td>\n",
       "      <td>215939278</td>\n",
       "      <td>Martin Antonio</td>\n",
       "      <td>Carreño Sanchez</td>\n",
       "      <td>215939278</td>\n",
       "      <td></td>\n",
       "      <td>False</td>\n",
       "      <td>2004-06-07</td>\n",
       "      <td>2004-06-07</td>\n",
       "      <td>Hombre</td>\n",
       "      <td>av. quilin 5662, dpto. 605, torre c</td>\n",
       "      <td>Penalolen</td>\n",
       "      <td>Santiago</td>\n",
       "      <td>58115343</td>\n",
       "      <td>0128c000002Byp4AAC</td>\n",
       "      <td>True</td>\n",
       "      <td>Chile</td>\n",
       "      <td>RUT</td>\n",
       "      <td>a1U8c000005dAtnEAE</td>\n",
       "    </tr>\n",
       "    <tr>\n",
       "      <th>855</th>\n",
       "      <td>172238602</td>\n",
       "      <td>172238602</td>\n",
       "      <td>Fernanda Albertina</td>\n",
       "      <td>Barrales Carcamo</td>\n",
       "      <td>172238602</td>\n",
       "      <td>ferbarralesc@gmail.com</td>\n",
       "      <td>True</td>\n",
       "      <td>1989-10-19</td>\n",
       "      <td>1989-10-19</td>\n",
       "      <td>Mujer</td>\n",
       "      <td>parcela 17 las peñas  talcamavida hualqui</td>\n",
       "      <td>Hualqui</td>\n",
       "      <td>Concepcion</td>\n",
       "      <td>76566564</td>\n",
       "      <td>0128c000002Byp4AAC</td>\n",
       "      <td>True</td>\n",
       "      <td>Chile</td>\n",
       "      <td>RUT</td>\n",
       "      <td>a1U8c000005dAtnEAE</td>\n",
       "    </tr>\n",
       "  </tbody>\n",
       "</table>\n",
       "</div>"
      ],
      "text/plain": [
       "          rut1       rut2           FirstName           LastName  \\\n",
       "851  16260287K  16260287K          Jordan Lee   Santander Torres   \n",
       "852  146134084  146134084       Siria Marisol  Sanchez Cifuentes   \n",
       "853  229634127  229634127    Catalina Antonia    Carreño Sanchez   \n",
       "854  215939278  215939278      Martin Antonio    Carreño Sanchez   \n",
       "855  172238602  172238602  Fernanda Albertina   Barrales Carcamo   \n",
       "\n",
       "    IdentificationId__pc                 PersonEmail Email_Seteado__c  \\\n",
       "851            16260287K  jordan.santander@gmail.com             True   \n",
       "852            146134084    siriasanchez25@gmail.com             True   \n",
       "853            229634127                                        False   \n",
       "854            215939278                                        False   \n",
       "855            172238602      ferbarralesc@gmail.com             True   \n",
       "\n",
       "    PersonBirthdate      derty HealthCloudGA__Gender__pc  \\\n",
       "851      1986-08-19 1986-08-19                    Hombre   \n",
       "852      1981-10-31 1981-10-31                     Mujer   \n",
       "853      2009-03-06 2009-03-06                     Mujer   \n",
       "854      2004-06-07 2004-06-07                    Hombre   \n",
       "855      1989-10-19 1989-10-19                     Mujer   \n",
       "\n",
       "                                 BillingStreet BillingState BillingCity  \\\n",
       "851                          manuel montt 2650       Calama      Calama   \n",
       "852               av. quilin 5662, dpto. 605 c    Penalolen    Santiago   \n",
       "853        av. quilin 5662, dpto. 605, torre c    Penalolen    Santiago   \n",
       "854        av. quilin 5662, dpto. 605, torre c    Penalolen    Santiago   \n",
       "855  parcela 17 las peñas  talcamavida hualqui      Hualqui  Concepcion   \n",
       "\n",
       "        Phone        RecordTypeId Cuenta_validada__c BillingCountry  \\\n",
       "851    423775  0128c000002Byp4AAC               True          Chile   \n",
       "852  97446875  0128c000002Byp4AAC               True          Chile   \n",
       "853  77262168  0128c000002Byp4AAC               True          Chile   \n",
       "854  58115343  0128c000002Byp4AAC               True          Chile   \n",
       "855  76566564  0128c000002Byp4AAC               True          Chile   \n",
       "\n",
       "    Identification_Type__c Pa_s_del_Paciente__c  \n",
       "851                    RUT   a1U8c000005dAtnEAE  \n",
       "852                    RUT   a1U8c000005dAtnEAE  \n",
       "853                    RUT   a1U8c000005dAtnEAE  \n",
       "854                    RUT   a1U8c000005dAtnEAE  \n",
       "855                    RUT   a1U8c000005dAtnEAE  "
      ]
     },
     "execution_count": 199,
     "metadata": {},
     "output_type": "execute_result"
    }
   ],
   "source": [
    "Subir_pacientes.head()"
   ]
  },
  {
   "cell_type": "code",
   "execution_count": null,
   "metadata": {
    "notebookRunGroups": {
     "groupValue": "2"
    }
   },
   "outputs": [
    {
     "data": {
      "text/plain": [
       "(76, 19)"
      ]
     },
     "execution_count": 200,
     "metadata": {},
     "output_type": "execute_result"
    }
   ],
   "source": [
    "Subir_pacientes = Subir_pacientes.drop_duplicates(\n",
    "    [\n",
    "        \"IdentificationId__pc\",\n",
    "    ],\n",
    "    keep=\"last\",\n",
    ")\n",
    "\n",
    "\n",
    "Subir_pacientes.shape"
   ]
  },
  {
   "cell_type": "code",
   "execution_count": null,
   "metadata": {},
   "outputs": [],
   "source": [
    "\"\"\" Subir_pacientes.to_excel(\n",
    "    \"F:/Empresas SF/reportes/Pacientes_Que_No_Estaban.xlsx\", index=False\n",
    ") \"\"\""
   ]
  },
  {
   "cell_type": "code",
   "execution_count": null,
   "metadata": {
    "notebookRunGroups": {
     "groupValue": "2"
    }
   },
   "outputs": [
    {
     "data": {
      "text/plain": [
       "' Subir_pacientes[\"Id\"] = Subir_pacientes[\"Id\"].astype(str)\\nSubir_pacientes = Subir_pacientes[Subir_pacientes[\"Id\"].str.len() <= 12]\\n# Subir_pacientes[\"numero\"] = Subir_pacientes[\"Id\"].str.len()\\nSubir_pacientes.shape '"
      ]
     },
     "execution_count": 201,
     "metadata": {},
     "output_type": "execute_result"
    }
   ],
   "source": [
    "\"\"\" Subir_pacientes[\"Id\"] = Subir_pacientes[\"Id\"].astype(str)\n",
    "Subir_pacientes = Subir_pacientes[Subir_pacientes[\"Id\"].str.len() <= 12]\n",
    "# Subir_pacientes[\"numero\"] = Subir_pacientes[\"Id\"].str.len()\n",
    "Subir_pacientes.shape \"\"\""
   ]
  },
  {
   "cell_type": "markdown",
   "metadata": {},
   "source": [
    "ACA SE CREAN LOS PACIENTES Q NO ESTAN\n"
   ]
  },
  {
   "cell_type": "code",
   "execution_count": null,
   "metadata": {
    "notebookRunGroups": {
     "groupValue": "2"
    }
   },
   "outputs": [],
   "source": [
    "\"\"\" if (Subir_pacientes.shape[0] >= 500):\n",
    "    Subir_pacientes = Subir_pacientes.drop(columns=[\"rut1\",\"rut2\", \"derty\"])\n",
    "    #brand_Account[\"Brand_Groups__c\"] = brandGroup\n",
    "    fake_dict = Subir_pacientes.to_dict('records')\n",
    "    sf.bulk.Account.insert(fake_dict, batch_size=10000, use_serial=True)\n",
    "else: \"\"\"\n",
    "\n",
    "Subir_pacientes[\"dato_account\"] = \"\"\n",
    "\n",
    "if (\"FirstName\" in Subir_pacientes.columns) == True:\n",
    "    Subir_pacientes[\"dato_account\"] = Subir_pacientes[\"dato_account\"] + Subir_pacientes[\n",
    "        \"FirstName\"\n",
    "    ].astype(str)\n",
    "\n",
    "if (\"LastName\" in Subir_pacientes.columns) == True:\n",
    "    Subir_pacientes[\"dato_account\"] = (\n",
    "        Subir_pacientes[\"dato_account\"] + \",\" + Subir_pacientes[\"LastName\"].astype(str)\n",
    "    )\n",
    "\n",
    "if (\"IdentificationId__pc\" in Subir_pacientes.columns) == True:\n",
    "    Subir_pacientes[\"dato_account\"] = (\n",
    "        Subir_pacientes[\"dato_account\"]\n",
    "        + \",\"\n",
    "        + Subir_pacientes[\"IdentificationId__pc\"].astype(str)\n",
    "    )\n",
    "\n",
    "if (\"RecordTypeId\" in Subir_pacientes.columns) == True:\n",
    "    Subir_pacientes[\"dato_account\"] = (\n",
    "        Subir_pacientes[\"dato_account\"]\n",
    "        + \",\"\n",
    "        + Subir_pacientes[\"RecordTypeId\"].astype(str)\n",
    "    )\n",
    "\n",
    "if (\"BillingCountry\" in Subir_pacientes.columns) == True:\n",
    "    Subir_pacientes[\"dato_account\"] = (\n",
    "        Subir_pacientes[\"dato_account\"]\n",
    "        + \",\"\n",
    "        + Subir_pacientes[\"BillingCountry\"].astype(str)\n",
    "    )\n",
    "\n",
    "if (\"Identification_Type__c\" in Subir_pacientes.columns) == True:\n",
    "    Subir_pacientes[\"dato_account\"] = (\n",
    "        Subir_pacientes[\"dato_account\"]\n",
    "        + \",\"\n",
    "        + Subir_pacientes[\"Identification_Type__c\"].astype(str)\n",
    "    )\n",
    "\n",
    "if (\"Pa_s_del_Paciente__c\" in Subir_pacientes.columns) == True:\n",
    "    Subir_pacientes[\"dato_account\"] = (\n",
    "        Subir_pacientes[\"dato_account\"]\n",
    "        + \",\"\n",
    "        + Subir_pacientes[\"Pa_s_del_Paciente__c\"].astype(str)\n",
    "    )\n",
    "\n",
    "if (\"Cuenta_validada__c\" in Subir_pacientes.columns) == True:\n",
    "    Subir_pacientes[\"dato_account\"] = (\n",
    "        Subir_pacientes[\"dato_account\"]\n",
    "        + \",\"\n",
    "        + Subir_pacientes[\"Cuenta_validada__c\"].astype(str)\n",
    "    )\n",
    "\n",
    "\n",
    "if (\"PersonEmail\" in Subir_pacientes.columns) == True:\n",
    "    Subir_pacientes[\"dato_account\"] = (\n",
    "        Subir_pacientes[\"dato_account\"]\n",
    "        + \",\"\n",
    "        + Subir_pacientes[\"PersonEmail\"].astype(str)\n",
    "    )\n",
    "\n",
    "else:\n",
    "    Subir_pacientes[\"dato_account\"] = Subir_pacientes[\"dato_account\"] + \",\"\n",
    "\n",
    "\n",
    "if (\"PersonBirthdate\" in Subir_pacientes.columns) == True:\n",
    "    Subir_pacientes[\"dato_account\"] = (\n",
    "        Subir_pacientes[\"dato_account\"]\n",
    "        + \",\"\n",
    "        + Subir_pacientes[\"PersonBirthdate\"].apply(lambda x: x.isoformat() + \"Z\")\n",
    "    )\n",
    "\n",
    "else:\n",
    "    Subir_pacientes[\"dato_account\"] = Subir_pacientes[\"dato_account\"] + \",\"\n",
    "\n",
    "if (\"HealthCloudGA__Gender__pc\" in Subir_pacientes.columns) == True:\n",
    "    Subir_pacientes[\"dato_account\"] = (\n",
    "        Subir_pacientes[\"dato_account\"]\n",
    "        + \",\"\n",
    "        + Subir_pacientes[\"HealthCloudGA__Gender__pc\"].astype(str)\n",
    "    )\n",
    "\n",
    "else:\n",
    "    Subir_pacientes[\"dato_account\"] = Subir_pacientes[\"dato_account\"] + \",\"\n",
    "\n",
    "if (\"Phone\" in Subir_pacientes.columns) == True:\n",
    "    Subir_pacientes[\"dato_account\"] = (\n",
    "        Subir_pacientes[\"dato_account\"] + \",\" + Subir_pacientes[\"Phone\"].astype(str)\n",
    "    )\n",
    "\n",
    "else:\n",
    "    Subir_pacientes[\"dato_account\"] = Subir_pacientes[\"dato_account\"] + \",\"\n",
    "\n",
    "if (\"BillingCity\" in Subir_pacientes.columns) == True:\n",
    "    Subir_pacientes[\"dato_account\"] = (\n",
    "        Subir_pacientes[\"dato_account\"]\n",
    "        + \",\"\n",
    "        + Subir_pacientes[\"BillingCity\"].astype(str)\n",
    "    )\n",
    "\n",
    "else:\n",
    "    Subir_pacientes[\"dato_account\"] = Subir_pacientes[\"dato_account\"] + \",\"\n",
    "\n",
    "if (\"BillingState\" in Subir_pacientes.columns) == True:\n",
    "    Subir_pacientes[\"dato_account\"] = (\n",
    "        Subir_pacientes[\"dato_account\"]\n",
    "        + \",\"\n",
    "        + Subir_pacientes[\"BillingState\"].astype(str)\n",
    "    )\n",
    "\n",
    "else:\n",
    "    Subir_pacientes[\"dato_account\"] = Subir_pacientes[\"dato_account\"] + \",\"\n",
    "\n",
    "if (\"BillingStreet\" in Subir_pacientes.columns) == True:\n",
    "    Subir_pacientes[\"dato_account\"] = (\n",
    "        Subir_pacientes[\"dato_account\"]\n",
    "        + \",\"\n",
    "        + Subir_pacientes[\"BillingStreet\"].astype(str)\n",
    "    )\n",
    "\n",
    "else:\n",
    "    Subir_pacientes[\"dato_account\"] = Subir_pacientes[\"dato_account\"] + \",\"\n",
    "\n",
    "if (\"PersonEmail\" in Subir_pacientes.columns) == True:\n",
    "    Subir_pacientes[\"dato_account\"] = (\n",
    "        Subir_pacientes[\"dato_account\"]\n",
    "        + \",\"\n",
    "        + Subir_pacientes[\"Email_Seteado__c\"].astype(str)\n",
    "    )\n",
    "\n",
    "else:\n",
    "    Subir_pacientes[\"dato_account\"] = Subir_pacientes[\"dato_account\"] + \",\"\n",
    "\n",
    "# Subir_pacientes[\"dato_account\"] =  Subir_pacientes[\"dato_account\"] =\n",
    "\n",
    "\n",
    "Subir_pacientes[\"Id_creado\"] = Subir_pacientes[\"dato_account\"].apply(\n",
    "    lambda x: agregarPaciente(x)\n",
    ")"
   ]
  },
  {
   "cell_type": "code",
   "execution_count": null,
   "metadata": {},
   "outputs": [],
   "source": [
    "\"\"\" Subir_pacientes[\"Id\"] = Subir_pacientes[\"IdentificationId__pc\"].apply(\n",
    "    lambda y: traerId(y)\n",
    ") \"\"\"\n",
    "\n",
    "# Subir_pacientes[\"Id_creado\"]"
   ]
  },
  {
   "cell_type": "code",
   "execution_count": null,
   "metadata": {
    "notebookRunGroups": {
     "groupValue": "2"
    }
   },
   "outputs": [
    {
     "name": "stderr",
     "output_type": "stream",
     "text": [
      "100%|██████████| 1/1 [00:02<00:00,  2.72s/it]\n"
     ]
    },
    {
     "data": {
      "text/plain": [
       "(1, 12)"
      ]
     },
     "execution_count": 203,
     "metadata": {},
     "output_type": "execute_result"
    }
   ],
   "source": [
    "query2 = (\n",
    "    \"select P_liza__c, Nombre_de_Empresa__c,Identificador__c, Rut_Empresa__c, Empresa_Padre__r.Name, Empresa__r.name,Holding__c, Plan__c, Pais__c, Activo__c, Id from Datos_Empresa__c WHERE Empresa_Padre__r.Name = '\"\n",
    "    + campaña\n",
    "    + \"' order by CreatedDate\"\n",
    ")\n",
    "\n",
    "df2 = sf.smart_query(query2)\n",
    "df2[\"LLave\"] = df2[\"Rut_Empresa__c\"].str.upper().str.replace(\"-\", \"\") + df2[\"P_liza__c\"]\n",
    "\n",
    "df2[\"dato\"] = 1\n",
    "df2.to_excel(\"F:/Empresas SF/reportes/empresas_asociadas.xlsx\", index=False)\n",
    "df2.head()\n",
    "df2.shape"
   ]
  },
  {
   "cell_type": "code",
   "execution_count": null,
   "metadata": {
    "notebookRunGroups": {
     "groupValue": "2"
    }
   },
   "outputs": [
    {
     "data": {
      "text/plain": [
       "(0, 21)"
      ]
     },
     "execution_count": 204,
     "metadata": {},
     "output_type": "execute_result"
    }
   ],
   "source": [
    "# RELACION EMPRESA PACIENMTES ---- EMPRESACONTACTOCONVENIOS\n",
    "\n",
    "\n",
    "sinId = pd.DataFrame()\n",
    "Subir_pacientes[\"Id_creado\"] = Subir_pacientes[\"Id_creado\"].astype(str)\n",
    "sinId = Subir_pacientes[Subir_pacientes[\"Id_creado\"].astype(str).str.len() < 12]\n",
    "Subir_pacientes = Subir_pacientes[\n",
    "    Subir_pacientes[\"Id_creado\"].astype(str).str.len() >= 12\n",
    "]\n",
    "sinId.shape"
   ]
  },
  {
   "cell_type": "code",
   "execution_count": null,
   "metadata": {
    "notebookRunGroups": {
     "groupValue": "2"
    }
   },
   "outputs": [
    {
     "data": {
      "text/html": [
       "<div>\n",
       "<style scoped>\n",
       "    .dataframe tbody tr th:only-of-type {\n",
       "        vertical-align: middle;\n",
       "    }\n",
       "\n",
       "    .dataframe tbody tr th {\n",
       "        vertical-align: top;\n",
       "    }\n",
       "\n",
       "    .dataframe thead th {\n",
       "        text-align: right;\n",
       "    }\n",
       "</style>\n",
       "<table border=\"1\" class=\"dataframe\">\n",
       "  <thead>\n",
       "    <tr style=\"text-align: right;\">\n",
       "      <th></th>\n",
       "      <th>rut1</th>\n",
       "      <th>rut2</th>\n",
       "      <th>FirstName</th>\n",
       "      <th>LastName</th>\n",
       "      <th>IdentificationId__pc</th>\n",
       "      <th>PersonEmail</th>\n",
       "      <th>Email_Seteado__c</th>\n",
       "      <th>PersonBirthdate</th>\n",
       "      <th>derty</th>\n",
       "      <th>HealthCloudGA__Gender__pc</th>\n",
       "      <th>...</th>\n",
       "      <th>BillingState</th>\n",
       "      <th>BillingCity</th>\n",
       "      <th>Phone</th>\n",
       "      <th>RecordTypeId</th>\n",
       "      <th>Cuenta_validada__c</th>\n",
       "      <th>BillingCountry</th>\n",
       "      <th>Identification_Type__c</th>\n",
       "      <th>Pa_s_del_Paciente__c</th>\n",
       "      <th>dato_account</th>\n",
       "      <th>Id_creado</th>\n",
       "    </tr>\n",
       "  </thead>\n",
       "  <tbody>\n",
       "  </tbody>\n",
       "</table>\n",
       "<p>0 rows × 21 columns</p>\n",
       "</div>"
      ],
      "text/plain": [
       "Empty DataFrame\n",
       "Columns: [rut1, rut2, FirstName, LastName, IdentificationId__pc, PersonEmail, Email_Seteado__c, PersonBirthdate, derty, HealthCloudGA__Gender__pc, BillingStreet, BillingState, BillingCity, Phone, RecordTypeId, Cuenta_validada__c, BillingCountry, Identification_Type__c, Pa_s_del_Paciente__c, dato_account, Id_creado]\n",
       "Index: []\n",
       "\n",
       "[0 rows x 21 columns]"
      ]
     },
     "execution_count": 205,
     "metadata": {},
     "output_type": "execute_result"
    }
   ],
   "source": [
    "sinId.head()"
   ]
  },
  {
   "cell_type": "code",
   "execution_count": null,
   "metadata": {
    "notebookRunGroups": {
     "groupValue": "2"
    }
   },
   "outputs": [
    {
     "data": {
      "text/plain": [
       "(76, 21)"
      ]
     },
     "execution_count": 206,
     "metadata": {},
     "output_type": "execute_result"
    }
   ],
   "source": [
    "sinId[\"Id_creado\"] = sinId[\"rut1\"].apply(lambda y: traerId(y))\n",
    "\n",
    "Subir_pacientes = pd.concat([Subir_pacientes, sinId], axis=0)\n",
    "Subir_pacientes.shape"
   ]
  },
  {
   "cell_type": "code",
   "execution_count": null,
   "metadata": {
    "notebookRunGroups": {
     "groupValue": "2"
    }
   },
   "outputs": [
    {
     "data": {
      "text/plain": [
       "' Subir_pacientes.to_excel(\\n    \"F:/Empresas SF/reportes/dertyuiop.xlsx\", index=False\\n)\\nSubir_pacientes.head() '"
      ]
     },
     "execution_count": 207,
     "metadata": {},
     "output_type": "execute_result"
    }
   ],
   "source": [
    "\"\"\" Subir_pacientes.to_excel(\n",
    "    \"F:/Empresas SF/reportes/dertyuiop.xlsx\", index=False\n",
    ")\n",
    "Subir_pacientes.head() \"\"\""
   ]
  },
  {
   "cell_type": "code",
   "execution_count": null,
   "metadata": {
    "notebookRunGroups": {
     "groupValue": "2"
    }
   },
   "outputs": [],
   "source": [
    "Subir_pacientes = Subir_pacientes[\n",
    "    [\n",
    "        \"rut1\",\n",
    "        \"rut2\",\n",
    "        \"Id_creado\",\n",
    "    ]\n",
    "]"
   ]
  },
  {
   "cell_type": "code",
   "execution_count": null,
   "metadata": {
    "notebookRunGroups": {
     "groupValue": "2"
    }
   },
   "outputs": [
    {
     "data": {
      "text/plain": [
       "(76, 3)"
      ]
     },
     "execution_count": 209,
     "metadata": {},
     "output_type": "execute_result"
    }
   ],
   "source": [
    "Subir_pacientes.shape"
   ]
  },
  {
   "cell_type": "code",
   "execution_count": null,
   "metadata": {
    "notebookRunGroups": {
     "groupValue": "2"
    }
   },
   "outputs": [],
   "source": [
    "Pacientes_con_id[\"Id_creado\"] = Pacientes_con_id[\"Id Account Paciente\"]"
   ]
  },
  {
   "cell_type": "code",
   "execution_count": null,
   "metadata": {
    "notebookRunGroups": {
     "groupValue": "2"
    }
   },
   "outputs": [
    {
     "data": {
      "text/plain": [
       "(948, 35)"
      ]
     },
     "execution_count": 211,
     "metadata": {},
     "output_type": "execute_result"
    }
   ],
   "source": [
    "Pacientes_con_id.shape"
   ]
  },
  {
   "cell_type": "code",
   "execution_count": null,
   "metadata": {
    "notebookRunGroups": {
     "groupValue": "2"
    }
   },
   "outputs": [
    {
     "data": {
      "text/plain": [
       "(948, 6)"
      ]
     },
     "execution_count": 212,
     "metadata": {},
     "output_type": "execute_result"
    }
   ],
   "source": [
    "# noestan[\"Id Account Paciente\"] = np.where(Subir_pacientes[\"IdentificationId__pc\"] == noestan[\"rut\"],Subir_pacientes[\"Id_creado\"] + \"SI\",\"NO\")\n",
    "todos_con_Id = pd.merge(\n",
    "    left=Pacientes_con_id,\n",
    "    right=Subir_pacientes,\n",
    "    how=\"left\",\n",
    "    left_on=\"rut\",\n",
    "    right_on=\"rut1\",\n",
    ")\n",
    "\n",
    "todos_con_Id = todos_con_Id[\n",
    "    [\n",
    "        \"poliza\",\n",
    "        # \"empleador\",\n",
    "        \"rutE\",\n",
    "        \"rut\",\n",
    "        \"rutT\",\n",
    "        \"Id_creado_x\",\n",
    "        \"Id_creado_y\",\n",
    "    ]\n",
    "]\n",
    "\n",
    "todos_con_Id.shape"
   ]
  },
  {
   "cell_type": "code",
   "execution_count": null,
   "metadata": {
    "notebookRunGroups": {
     "groupValue": "2"
    }
   },
   "outputs": [
    {
     "data": {
      "text/html": [
       "<div>\n",
       "<style scoped>\n",
       "    .dataframe tbody tr th:only-of-type {\n",
       "        vertical-align: middle;\n",
       "    }\n",
       "\n",
       "    .dataframe tbody tr th {\n",
       "        vertical-align: top;\n",
       "    }\n",
       "\n",
       "    .dataframe thead th {\n",
       "        text-align: right;\n",
       "    }\n",
       "</style>\n",
       "<table border=\"1\" class=\"dataframe\">\n",
       "  <thead>\n",
       "    <tr style=\"text-align: right;\">\n",
       "      <th></th>\n",
       "      <th>poliza</th>\n",
       "      <th>rutE</th>\n",
       "      <th>rut</th>\n",
       "      <th>rutT</th>\n",
       "      <th>Id_creado_x</th>\n",
       "      <th>Id_creado_y</th>\n",
       "    </tr>\n",
       "  </thead>\n",
       "  <tbody>\n",
       "    <tr>\n",
       "      <th>0</th>\n",
       "      <td>123240000001</td>\n",
       "      <td>B</td>\n",
       "      <td>193331777</td>\n",
       "      <td>193331777</td>\n",
       "      <td>001RN000006kbAtYAI</td>\n",
       "      <td>NaN</td>\n",
       "    </tr>\n",
       "    <tr>\n",
       "      <th>1</th>\n",
       "      <td>123240000001</td>\n",
       "      <td>B</td>\n",
       "      <td>201974755</td>\n",
       "      <td>201974755</td>\n",
       "      <td>001RN000006kW9XYAU</td>\n",
       "      <td>NaN</td>\n",
       "    </tr>\n",
       "    <tr>\n",
       "      <th>2</th>\n",
       "      <td>123240000003</td>\n",
       "      <td>B</td>\n",
       "      <td>188486991</td>\n",
       "      <td>188486991</td>\n",
       "      <td>001RN000006kcwbYAA</td>\n",
       "      <td>NaN</td>\n",
       "    </tr>\n",
       "    <tr>\n",
       "      <th>3</th>\n",
       "      <td>123240000004</td>\n",
       "      <td>B</td>\n",
       "      <td>165578104</td>\n",
       "      <td>165578104</td>\n",
       "      <td>001RN000006kdpLYAQ</td>\n",
       "      <td>NaN</td>\n",
       "    </tr>\n",
       "    <tr>\n",
       "      <th>4</th>\n",
       "      <td>123240000005</td>\n",
       "      <td>B</td>\n",
       "      <td>154576517</td>\n",
       "      <td>154576517</td>\n",
       "      <td>001RN000006kdXbYAI</td>\n",
       "      <td>NaN</td>\n",
       "    </tr>\n",
       "  </tbody>\n",
       "</table>\n",
       "</div>"
      ],
      "text/plain": [
       "         poliza rutE        rut       rutT         Id_creado_x Id_creado_y\n",
       "0  123240000001    B  193331777  193331777  001RN000006kbAtYAI         NaN\n",
       "1  123240000001    B  201974755  201974755  001RN000006kW9XYAU         NaN\n",
       "2  123240000003    B  188486991  188486991  001RN000006kcwbYAA         NaN\n",
       "3  123240000004    B  165578104  165578104  001RN000006kdpLYAQ         NaN\n",
       "4  123240000005    B  154576517  154576517  001RN000006kdXbYAI         NaN"
      ]
     },
     "execution_count": 213,
     "metadata": {},
     "output_type": "execute_result"
    }
   ],
   "source": [
    "todos_con_Id.head()"
   ]
  },
  {
   "cell_type": "code",
   "execution_count": null,
   "metadata": {
    "notebookRunGroups": {
     "groupValue": "2"
    }
   },
   "outputs": [],
   "source": [
    "todos_con_Id.Id_creado_x.fillna(todos_con_Id[\"Id_creado_y\"], inplace=True)\n",
    "todos_con_Id.Id_creado_x.fillna(\"FARSO\", inplace=True)\n",
    "todos_con_Id = todos_con_Id[todos_con_Id[\"Id_creado_x\"] != \"FARSO\"]\n",
    "todos_con_Id2 = todos_con_Id[todos_con_Id[\"Id_creado_x\"] == \"FARSO\"]\n",
    "todos_con_Id2[\"Id_creado_x\"] = todos_con_Id2[\"rut\"].apply(lambda y: traerId(y))\n",
    "todos_con_Id = pd.concat([todos_con_Id, todos_con_Id2], axis=0)"
   ]
  },
  {
   "cell_type": "code",
   "execution_count": null,
   "metadata": {
    "notebookRunGroups": {
     "groupValue": "2"
    }
   },
   "outputs": [
    {
     "data": {
      "text/html": [
       "<div>\n",
       "<style scoped>\n",
       "    .dataframe tbody tr th:only-of-type {\n",
       "        vertical-align: middle;\n",
       "    }\n",
       "\n",
       "    .dataframe tbody tr th {\n",
       "        vertical-align: top;\n",
       "    }\n",
       "\n",
       "    .dataframe thead th {\n",
       "        text-align: right;\n",
       "    }\n",
       "</style>\n",
       "<table border=\"1\" class=\"dataframe\">\n",
       "  <thead>\n",
       "    <tr style=\"text-align: right;\">\n",
       "      <th></th>\n",
       "      <th>poliza</th>\n",
       "      <th>rutE</th>\n",
       "      <th>rut</th>\n",
       "      <th>rutT</th>\n",
       "      <th>Id_creado_x</th>\n",
       "      <th>Id_creado_y</th>\n",
       "    </tr>\n",
       "  </thead>\n",
       "  <tbody>\n",
       "    <tr>\n",
       "      <th>0</th>\n",
       "      <td>123240000001</td>\n",
       "      <td>B</td>\n",
       "      <td>193331777</td>\n",
       "      <td>193331777</td>\n",
       "      <td>001RN000006kbAtYAI</td>\n",
       "      <td>NaN</td>\n",
       "    </tr>\n",
       "    <tr>\n",
       "      <th>1</th>\n",
       "      <td>123240000001</td>\n",
       "      <td>B</td>\n",
       "      <td>201974755</td>\n",
       "      <td>201974755</td>\n",
       "      <td>001RN000006kW9XYAU</td>\n",
       "      <td>NaN</td>\n",
       "    </tr>\n",
       "    <tr>\n",
       "      <th>2</th>\n",
       "      <td>123240000003</td>\n",
       "      <td>B</td>\n",
       "      <td>188486991</td>\n",
       "      <td>188486991</td>\n",
       "      <td>001RN000006kcwbYAA</td>\n",
       "      <td>NaN</td>\n",
       "    </tr>\n",
       "    <tr>\n",
       "      <th>3</th>\n",
       "      <td>123240000004</td>\n",
       "      <td>B</td>\n",
       "      <td>165578104</td>\n",
       "      <td>165578104</td>\n",
       "      <td>001RN000006kdpLYAQ</td>\n",
       "      <td>NaN</td>\n",
       "    </tr>\n",
       "    <tr>\n",
       "      <th>4</th>\n",
       "      <td>123240000005</td>\n",
       "      <td>B</td>\n",
       "      <td>154576517</td>\n",
       "      <td>154576517</td>\n",
       "      <td>001RN000006kdXbYAI</td>\n",
       "      <td>NaN</td>\n",
       "    </tr>\n",
       "  </tbody>\n",
       "</table>\n",
       "</div>"
      ],
      "text/plain": [
       "         poliza rutE        rut       rutT         Id_creado_x Id_creado_y\n",
       "0  123240000001    B  193331777  193331777  001RN000006kbAtYAI         NaN\n",
       "1  123240000001    B  201974755  201974755  001RN000006kW9XYAU         NaN\n",
       "2  123240000003    B  188486991  188486991  001RN000006kcwbYAA         NaN\n",
       "3  123240000004    B  165578104  165578104  001RN000006kdpLYAQ         NaN\n",
       "4  123240000005    B  154576517  154576517  001RN000006kdXbYAI         NaN"
      ]
     },
     "execution_count": 215,
     "metadata": {},
     "output_type": "execute_result"
    }
   ],
   "source": [
    "todos_con_Id.head()"
   ]
  },
  {
   "cell_type": "code",
   "execution_count": null,
   "metadata": {
    "notebookRunGroups": {
     "groupValue": "2"
    }
   },
   "outputs": [
    {
     "data": {
      "text/plain": [
       "' todos_con_Id.to_excel(\\n    \"F:/Empresas SF/reportes/todos_con_Id.xlsx\", index=False\\n) '"
      ]
     },
     "execution_count": 216,
     "metadata": {},
     "output_type": "execute_result"
    }
   ],
   "source": [
    "\"\"\" todos_con_Id.to_excel(\n",
    "    \"F:/Empresas SF/reportes/todos_con_Id.xlsx\", index=False\n",
    ") \"\"\""
   ]
  },
  {
   "cell_type": "code",
   "execution_count": null,
   "metadata": {
    "notebookRunGroups": {
     "groupValue": "2"
    }
   },
   "outputs": [
    {
     "data": {
      "text/plain": [
       "' elif campaña == \"MetLife Rentas Vitalicias\":\\n    #todos_con_Id = np.where(todos_con_Id[\"poliza\"]== \"falabella\",\"a3yRN000000F8TVYA0\", \"a3yRN0000006tWiYAI\")\\n    VempresaConvenio = \"a3yRN000000F8TVYA0\"\\n     '"
      ]
     },
     "execution_count": 217,
     "metadata": {},
     "output_type": "execute_result"
    }
   ],
   "source": [
    "if campaña == \"Southbridge Plan Mujer\":\n",
    "    VempresaConvenio = \"a3yRN0000006sVTYAY\"\n",
    "elif campaña == \"Southbridge\":\n",
    "\n",
    "    VempresaConvenio = \"a3yRN0000006sqYYAQ\"\n",
    "elif campaña == \"Construmart\":\n",
    "\n",
    "    VempresaConvenio = \"a3yRN0000006rlZYAQ\"\n",
    "elif campaña == \"EY\":\n",
    "\n",
    "    VempresaConvenio = \"a3yRN0000006rsTYAQ\"\n",
    "elif campaña == \"Colmena\":\n",
    "\n",
    "    VempresaConvenio = \"a3yRN0000006rf5YAA\"\n",
    "elif campaña == \"Pedro De Valdivia\":\n",
    "\n",
    "    VempresaConvenio = \"a3yRN0000006sVzYAI\"\n",
    "elif campaña == \"Forum\":\n",
    "\n",
    "    VempresaConvenio = \"a3yRN0000006s3SYAQ\"\n",
    "elif campaña == \"Farmacias Cruz Verde\":\n",
    "\n",
    "    VempresaConvenio = \"a3yRN0000006rsqYAA\"\n",
    "elif campaña == \"Milan Fajanovic\":\n",
    "\n",
    "    VempresaConvenio = \"a3yRN0000006sR4YAI\"\n",
    "elif campaña == \"ProChile\":\n",
    "\n",
    "    VempresaConvenio = \"a3yRN0000006rpsYAA\"\n",
    "elif campaña == \"Farmacias Ahumada\":\n",
    "\n",
    "    VempresaConvenio = \"a3yRN0000006rspYAA\"\n",
    "elif campaña == \"Minera El Abra\":\n",
    "\n",
    "    VempresaConvenio = \"a3yRN0000006snOYAQ\"\n",
    "elif campaña == \"Instruvalve\":\n",
    "\n",
    "    VempresaConvenio = \"a3yRN0000006s9DYAQ\"\n",
    "elif campaña == \"VidaCel\":\n",
    "\n",
    "    VempresaConvenio = \"a3yRN0000006suzYAA\"\n",
    "elif campaña == \"Care Assistance Colaboradores\":\n",
    "\n",
    "    VempresaConvenio = \"a3yRN0000006reXYA\"\n",
    "elif campaña == \"Nexo\":\n",
    "\n",
    "    VempresaConvenio = \"a3yRN0000006sORYAY\"\n",
    "elif campaña == \"Talo\":\n",
    "\n",
    "    VempresaConvenio = \"a3yRN0000006t10YAA\"\n",
    "elif campaña == \"Cortesía MetLife Orienta\":\n",
    "\n",
    "    VempresaConvenio = \"a3yRN0000008OLJYA2\" \n",
    "elif campaña == \"MetLife Vida Individual\": \n",
    "\n",
    "    VempresaConvenio = \"a3yRN000000GTUHYA4\"\n",
    "elif campaña == \"MetLife Rentas Vitalicias Falabella\": \n",
    "\n",
    "    VempresaConvenio = \"a3yRN000000F8TVYA0\"\n",
    "elif campaña == \"MetLife Rentas Vitalicias\": \n",
    "\n",
    "    VempresaConvenio = \"a3yRN0000006tWiYAI\"   \"MetLife Agencia\"\n",
    "elif campaña == \"MetLife Agencia\": \n",
    "\n",
    "    VempresaConvenio = \"a3yRN0000006tT9YAI\"\n",
    "elif campaña == \"MetLife Producto Joven\": \n",
    "\n",
    "    VempresaConvenio = \"a3yRN0000009psvYAA\"\n",
    "elif campaña == \"OMG\": \n",
    "\n",
    "    VempresaConvenio = \"a3yRN0000006sP5YAI\"\n",
    "else:\n",
    "    VempresaConvenio = \"Buscarv\"\n",
    "\"\"\" elif campaña == \"MetLife Rentas Vitalicias\":\n",
    "    #todos_con_Id = np.where(todos_con_Id[\"poliza\"]== \"falabella\",\"a3yRN000000F8TVYA0\", \"a3yRN0000006tWiYAI\")\n",
    "    VempresaConvenio = \"a3yRN000000F8TVYA0\"\n",
    "     \"\"\""
   ]
  },
  {
   "cell_type": "code",
   "execution_count": null,
   "metadata": {},
   "outputs": [],
   "source": [
    "print(VempresaConvenio)"
   ]
  },
  {
   "cell_type": "code",
   "execution_count": null,
   "metadata": {},
   "outputs": [],
   "source": [
    "todos_con_Id.head()"
   ]
  },
  {
   "cell_type": "code",
   "execution_count": null,
   "metadata": {
    "notebookRunGroups": {
     "groupValue": "2"
    }
   },
   "outputs": [],
   "source": [
    "if campaña == \"MetLife\" or campaña == \"BCI Seguros Colectivos\":\n",
    "    empresacontactoconvenio_PacientesSF[\"llave\"] = (\n",
    "        empresacontactoconvenio_PacientesSF[\"Poliza\"]\n",
    "        + empresacontactoconvenio_PacientesSF[\"Rut Titular\"]\n",
    "        + empresacontactoconvenio_PacientesSF[\"Rut_x\"]\n",
    "    )\n",
    "    todos_con_Id[\"llave\"] = (\n",
    "        todos_con_Id[\"poliza\"] + todos_con_Id[\"rutT\"] + todos_con_Id[\"rut\"]\n",
    "    )\n",
    "\n",
    "elif campaña == \"Vida Security\":\n",
    "    empresacontactoconvenio_PacientesSF[\"llave\"] = (\n",
    "        empresacontactoconvenio_PacientesSF[\"Poliza\"]\n",
    "        + empresacontactoconvenio_PacientesSF[\"Rut Empresa\"]\n",
    "        + empresacontactoconvenio_PacientesSF[\"Rut Titular\"]\n",
    "        + empresacontactoconvenio_PacientesSF[\"Rut_x\"]\n",
    "    )\n",
    "    todos_con_Id[\"llave\"] = (\n",
    "        todos_con_Id[\"poliza\"]\n",
    "        + todos_con_Id[\"rutE\"]\n",
    "        + todos_con_Id[\"rutT\"]\n",
    "        + todos_con_Id[\"rut\"]\n",
    "    )\n",
    "elif campaña == \"MetLife Rentas Vitalicias\":\n",
    "\n",
    "    empresacontactoconvenio_PacientesSF[\"llave\"] = (\n",
    "        empresacontactoconvenio_PacientesSF[\"Rut Titular\"]\n",
    "        + empresacontactoconvenio_PacientesSF[\"Rut_x\"]\n",
    "    )\n",
    "    todos_con_Id[\"llave\"] = todos_con_Id[\"rutT\"] + todos_con_Id[\"rut\"]\n",
    "else:\n",
    "    empresacontactoconvenio_PacientesSF[\"llave\"] = (\n",
    "        empresacontactoconvenio_PacientesSF[\"Rut Titular\"]\n",
    "        + empresacontactoconvenio_PacientesSF[\"Rut_x\"]\n",
    "    )\n",
    "    todos_con_Id[\"llave\"] = todos_con_Id[\"rutT\"] + todos_con_Id[\"rut\"]\n",
    "\n",
    "\n",
    "todos_con_Id[\"esta\"] = todos_con_Id[\"llave\"].isin(\n",
    "    empresacontactoconvenio_PacientesSF[\"llave\"]\n",
    ")\n",
    "empresacontactoconvenio_PacientesSF[\"Noesta\"] = empresacontactoconvenio_PacientesSF[\n",
    "    \"llave\"\n",
    "].isin(todos_con_Id[\"llave\"])\n",
    "\n",
    "\n",
    "diccionario = df2[\n",
    "    [\n",
    "        \"P_liza__c\",\n",
    "        \"Id\",\n",
    "    ]\n",
    "]\n",
    "diccionario = diccionario.drop_duplicates(\n",
    "    [\n",
    "        \"P_liza__c\",\n",
    "        \"Id\",\n",
    "    ],\n",
    "    keep=\"last\",\n",
    ")\n",
    "diccionario = diccionario.drop_duplicates(\n",
    "    [\n",
    "        \"P_liza__c\",\n",
    "    ],\n",
    "    keep=\"last\",\n",
    ")\n",
    "\n",
    "diccionario = diccionario.set_index(\"P_liza__c\").T.to_dict(orient=\"list\")\n",
    "\n",
    "diccionario2 = df2[\n",
    "    [\n",
    "        \"P_liza__c\",\n",
    "        \"Activo__c\",\n",
    "    ]\n",
    "]\n",
    "diccionario2 = diccionario2.drop_duplicates(\n",
    "    [\n",
    "        \"P_liza__c\",\n",
    "    ],\n",
    "    keep=\"last\",\n",
    ")\n",
    "\n",
    "diccionario2 = diccionario2.set_index(\"P_liza__c\").T.to_dict(orient=\"list\")\n",
    "\n",
    "\n",
    "todos_con_Id[\"N_Documento_Titular__c\"] = todos_con_Id[\"rutT\"]\n",
    "todos_con_Id[\"Paciente__c\"] = todos_con_Id[\"Id_creado_x\"]\n",
    "todos_con_Id[\"Empresa__c\"] = VempresaConvenio\n",
    "todos_con_Id[\"EmpActiva\"] = \"revisar\"\n",
    "\n",
    "\n",
    "todos_con_Id = todos_con_Id[\n",
    "    [\n",
    "        \"poliza\",\n",
    "        \"rutE\",\n",
    "        \"rut\",\n",
    "        \"rutT\",\n",
    "        \"Paciente__c\",\n",
    "        \"N_Documento_Titular__c\",\n",
    "        \"Empresa__c\",\n",
    "        \"esta\",\n",
    "        \"EmpActiva\",\n",
    "    ]\n",
    "]\n",
    "\n",
    "\n",
    "if VempresaConvenio == \"Buscarv\":\n",
    "    todos_con_Id[\"poliza2\"] = todos_con_Id[\"poliza\"]\n",
    "    todos_con_Id.replace({\"poliza2\": diccionario}, inplace=True)\n",
    "    todos_con_Id[\"Empresa__c\"] = np.where(\n",
    "        todos_con_Id[\"poliza2\"].str.len() >= 15,\n",
    "        todos_con_Id[\"poliza2\"],\n",
    "        todos_con_Id[\"Empresa__c\"],\n",
    "    )\n",
    "    todos_con_Id[\"EmpActiva\"] = todos_con_Id[\"poliza\"]\n",
    "    todos_con_Id.replace({\"EmpActiva\": diccionario2}, inplace=True)\n",
    "\n",
    "todos_con_Id = todos_con_Id[\n",
    "    [\n",
    "        \"poliza\",\n",
    "        \"rutE\",\n",
    "        \"rut\",\n",
    "        \"rutT\",\n",
    "        \"Paciente__c\",\n",
    "        \"N_Documento_Titular__c\",\n",
    "        \"Empresa__c\",\n",
    "        \"esta\",\n",
    "        \"EmpActiva\",\n",
    "    ]\n",
    "]"
   ]
  },
  {
   "cell_type": "code",
   "execution_count": null,
   "metadata": {
    "notebookRunGroups": {
     "groupValue": ""
    }
   },
   "outputs": [],
   "source": [
    "todos_con_Id.head(50)"
   ]
  },
  {
   "cell_type": "code",
   "execution_count": null,
   "metadata": {
    "notebookRunGroups": {
     "groupValue": "2"
    }
   },
   "outputs": [],
   "source": [
    "todos_con_Id = todos_con_Id[todos_con_Id[\"esta\"] == False]\n",
    "\n",
    "\n",
    "todos_con_Id.to_excel(\"F:/Empresas SF/reportes/todos con.xlsx\", index=False)"
   ]
  },
  {
   "cell_type": "code",
   "execution_count": null,
   "metadata": {
    "notebookRunGroups": {
     "groupValue": ""
    }
   },
   "outputs": [],
   "source": [
    "empresacontactoconvenio_PacientesSF.to_excel(\n",
    "    \"F:/Empresas SF/reportes/empresacontacto.xlsx\", index=False\n",
    ")"
   ]
  },
  {
   "cell_type": "markdown",
   "metadata": {},
   "source": [
    "Cuadrar eliminar pacientes q no estan en el listado\n",
    "//-----------------------------------------------------------//\n"
   ]
  },
  {
   "cell_type": "code",
   "execution_count": null,
   "metadata": {},
   "outputs": [],
   "source": [
    "empresacontactoconvenio_PacientesSF.drop(\n",
    "    empresacontactoconvenio_PacientesSF[\n",
    "        (empresacontactoconvenio_PacientesSF[\"Rut_y\"] == \"163820064\")\n",
    "    ].index,\n",
    "    inplace=True,\n",
    ")\n",
    "empresacontactoconvenio_PacientesSF.drop(\n",
    "    empresacontactoconvenio_PacientesSF[\n",
    "        (empresacontactoconvenio_PacientesSF[\"Rut_y\"] == \"153298939\")\n",
    "    ].index,\n",
    "    inplace=True,\n",
    ")\n",
    "empresacontactoconvenio_PacientesSF.drop(\n",
    "    empresacontactoconvenio_PacientesSF[\n",
    "        (empresacontactoconvenio_PacientesSF[\"Rut_y\"] == \"191710940\")\n",
    "    ].index,\n",
    "    inplace=True,\n",
    ")\n",
    "empresacontactoconvenio_PacientesSF.drop(\n",
    "    empresacontactoconvenio_PacientesSF[\n",
    "        (empresacontactoconvenio_PacientesSF[\"Rut_y\"] == \"182470082\")\n",
    "    ].index,\n",
    "    inplace=True,\n",
    ")\n",
    "empresacontactoconvenio_PacientesSF.drop(\n",
    "    empresacontactoconvenio_PacientesSF[\n",
    "        (empresacontactoconvenio_PacientesSF[\"Rut_y\"] == \"16277865\")\n",
    "    ].index,\n",
    "    inplace=True,\n",
    ")\n",
    "empresacontactoconvenio_PacientesSF.drop(\n",
    "    empresacontactoconvenio_PacientesSF[\n",
    "        (empresacontactoconvenio_PacientesSF[\"Rut_y\"] == \"16277865K\")\n",
    "    ].index,\n",
    "    inplace=True,\n",
    ")\n",
    "empresacontactoconvenio_PacientesSF.drop(\n",
    "    empresacontactoconvenio_PacientesSF[\n",
    "        (empresacontactoconvenio_PacientesSF[\"Rut_y\"] == \"HEGJ930928HMNRRL06\")\n",
    "    ].index,\n",
    "    inplace=True,\n",
    ")\n",
    "empresacontactoconvenio_PacientesSF.drop(\n",
    "    empresacontactoconvenio_PacientesSF[\n",
    "        (empresacontactoconvenio_PacientesSF[\"Rut_y\"] == \"16007258K\")\n",
    "    ].index,\n",
    "    inplace=True,\n",
    ")\n",
    "empresacontactoconvenio_PacientesSF.drop(\n",
    "    empresacontactoconvenio_PacientesSF[\n",
    "        (empresacontactoconvenio_PacientesSF[\"Rut_y\"] == \"86676540\")\n",
    "    ].index,\n",
    "    inplace=True,\n",
    ")\n",
    "empresacontactoconvenio_PacientesSF.drop(\n",
    "    empresacontactoconvenio_PacientesSF[\n",
    "        (empresacontactoconvenio_PacientesSF[\"Rut_y\"] == \"202201466\")\n",
    "    ].index,\n",
    "    inplace=True,\n",
    ")\n",
    "empresacontactoconvenio_PacientesSF.drop(\n",
    "    empresacontactoconvenio_PacientesSF[\n",
    "        (empresacontactoconvenio_PacientesSF[\"Rut_y\"] == \"105233469\")\n",
    "    ].index,\n",
    "    inplace=True,\n",
    ")\n",
    "empresacontactoconvenio_PacientesSF.drop(\n",
    "    empresacontactoconvenio_PacientesSF[\n",
    "        (empresacontactoconvenio_PacientesSF[\"Rut_y\"] == \"130949185\")\n",
    "    ].index,\n",
    "    inplace=True,\n",
    ")\n",
    "empresacontactoconvenio_PacientesSF.drop(\n",
    "    empresacontactoconvenio_PacientesSF[\n",
    "        (empresacontactoconvenio_PacientesSF[\"Rut_y\"] == \"255356798\")\n",
    "    ].index,\n",
    "    inplace=True,\n",
    ")\n",
    "empresacontactoconvenio_PacientesSF.drop(\n",
    "    empresacontactoconvenio_PacientesSF[\n",
    "        (empresacontactoconvenio_PacientesSF[\"Rut_y\"] == \"34005945\")\n",
    "    ].index,\n",
    "    inplace=True,\n",
    ")\n",
    "empresacontactoconvenio_PacientesSF.drop(\n",
    "    empresacontactoconvenio_PacientesSF[\n",
    "        (empresacontactoconvenio_PacientesSF[\"Rut_y\"] == \"185410072\")\n",
    "    ].index,\n",
    "    inplace=True,\n",
    ")\n",
    "empresacontactoconvenio_PacientesSF.drop(\n",
    "    empresacontactoconvenio_PacientesSF[\n",
    "        (empresacontactoconvenio_PacientesSF[\"Rut_y\"] == \"197415029\")\n",
    "    ].index,\n",
    "    inplace=True,\n",
    ")\n",
    "empresacontactoconvenio_PacientesSF.drop(\n",
    "    empresacontactoconvenio_PacientesSF[\n",
    "        (empresacontactoconvenio_PacientesSF[\"Rut_y\"] == \"254468134\")\n",
    "    ].index,\n",
    "    inplace=True,\n",
    ")\n",
    "\n",
    "\n",
    "empresacontactoconvenio_PacientesSF.head()"
   ]
  },
  {
   "cell_type": "code",
   "execution_count": null,
   "metadata": {},
   "outputs": [],
   "source": [
    "empresacontactoconvenio_PacientesSF.to_excel(\n",
    "    \"F:/Empresas SF/reportes/SFpacientes.xlsx\", index=False\n",
    ")"
   ]
  },
  {
   "cell_type": "code",
   "execution_count": null,
   "metadata": {},
   "outputs": [],
   "source": [
    "contactd = sf.Account.get(\"0018c00002lUyo0AAC\")\n",
    "contactd[\"PersonContactId\"]"
   ]
  },
  {
   "cell_type": "code",
   "execution_count": null,
   "metadata": {},
   "outputs": [],
   "source": [
    "# contactd[\"PersonContactId\"]\n",
    "print(datetime.now())"
   ]
  },
  {
   "cell_type": "code",
   "execution_count": null,
   "metadata": {},
   "outputs": [],
   "source": [
    "Subir_pacientes.to_excel(\"F:/Empresas SF/reportes/tod  es.xlsx\", index=False)"
   ]
  },
  {
   "cell_type": "markdown",
   "metadata": {},
   "source": [
    "query2 = \"select P_liza**c, Nombre_de_Empresa**c, Rut_Empresa**c, Empresa_Padre**r.Name, Empresa**r.name,Holding**c, Plan**c, Pais**c, Activo**c, Id from Datos_Empresa**c \"\n",
    "\n",
    "df2 = sf.smart_query(query2)\n",
    "df2.to_excel(\"F:/Empresas SF/reportes/empresas_nuevas.xlsx\", index=False)\n",
    "df2.head()\n"
   ]
  },
  {
   "cell_type": "markdown",
   "metadata": {},
   "source": [
    "Subir_pacientes.to_excel(\"F:/Empresas SF/reportes/111account.xlsx\", index=False)\n"
   ]
  },
  {
   "cell_type": "markdown",
   "metadata": {},
   "source": [
    "derty = Subir_pacientes[\"IdentificationId__pc\"]\n",
    "sf.Contact.create({\"IdentificationId\\_\\_pc\": \"derty\", \"Email\": \"example@example.com\"})\n"
   ]
  },
  {
   "cell_type": "markdown",
   "metadata": {},
   "source": [
    "Subir_pacientes.head()\n"
   ]
  },
  {
   "cell_type": "markdown",
   "metadata": {},
   "source": [
    "Subir_pacientes.head()\n",
    "Subir_pacientes.to_excel(\"F:/Empresas SF/reportes/account\\_\\_l.xlsx\", index=False)\n"
   ]
  },
  {
   "cell_type": "code",
   "execution_count": null,
   "metadata": {},
   "outputs": [],
   "source": [
    "\"\"\" if campaña != \"MetLife\":\n",
    "    pacientes_en_campaña = pd.merge(\n",
    "        left=campaña_seleccionada,\n",
    "        right=Pacientes_con_id,\n",
    "        how=\"left\",\n",
    "        left_on=\"Id Account\",\n",
    "        right_on=\"Id Account Paciente\",\n",
    "    )\n",
    "    pacientes_en_campaña[\"Paciente__c\"] = \"Id Pacientes\"\n",
    "    pacientes_en_campaña[\"Programas_por_Empresas__c\"] = \"Id Programas Por empresa\"\n",
    "    pacientes_en_campaña.to_excel(\n",
    "        \"F:/Empresas SF/reportes/campaña_empresa.xlsx\", index=False\n",
    "    )\n",
    "    campaña_en_pacientes = pd.merge(\n",
    "        left=Pacientes_con_id,\n",
    "        right=campaña_seleccionada,\n",
    "        how=\"left\",\n",
    "        left_on=\"Id Account Paciente\",\n",
    "        right_on=\"Id Account\",\n",
    "    )\n",
    "    campaña_en_pacientes.to_excel(\n",
    "        \"F:/Empresas SF/reportes/archivo_campaña.xlsx\", index=False\n",
    "    )\n",
    " \"\"\""
   ]
  },
  {
   "cell_type": "code",
   "execution_count": null,
   "metadata": {},
   "outputs": [],
   "source": [
    "\"\"\" if campaña != \"MetLife1\":\n",
    "    campaña_en_pacientes = pd.merge(\n",
    "        left=Pacientes_con_id,\n",
    "        right=campaña_seleccionada,\n",
    "        how=\"left\",\n",
    "        left_on=\"Id Account Paciente\",\n",
    "        right_on=\"Id Account\",\n",
    "    )\n",
    "    if (\"poliza\" in campaña_en_pacientes.columns) == True:\n",
    "        campaña_en_pacientes[\"poliza\"] = campaña_en_pacientes[\"poliza\"].astype(str)\n",
    "\n",
    "    campaña_en_pacientes = campaña_en_pacientes.rename(\n",
    "        columns={\"Programas_por_Empresas__c\": \"programas por empresa\"}\n",
    "    )\n",
    "    campaña_en_pacientes[\"Paciente__c\"] = campaña_en_pacientes[\"Id Account Paciente\"]\n",
    "    campaña_en_pacientes[\"Programas_por_Empresas__c\"] = campaña_en_pacientes[\n",
    "        \"programas por empresa\"\n",
    "    ]\n",
    "    campaña_en_pacientes.to_excel(\n",
    "        \"F:/Empresas SF/reportes/archivo_campaña2.xlsx\", index=False\n",
    "    ) \"\"\""
   ]
  },
  {
   "cell_type": "code",
   "execution_count": null,
   "metadata": {},
   "outputs": [],
   "source": [
    "# apprix_1 = Pacientes_SF.iloc[:790552,:]\n",
    "# apprix_2 = Pacientes_SF.iloc[790553:,:]\n",
    "# apprix_1.to_excel(\"F:/Empresas SF/reportes/Ruts1.xlsx\",index=False)\n",
    "# apprix_2.to_excel(\"F:/Empresas SF/reportes/Ruts2.xlsx\",index=False)"
   ]
  },
  {
   "cell_type": "code",
   "execution_count": null,
   "metadata": {},
   "outputs": [],
   "source": [
    "campaña_en_pacientes2 = pd.merge(\n",
    "    left=Pacientes_con_id,\n",
    "    right=campaña_seleccionada,\n",
    "    how=\"left\",\n",
    "    left_on=\"Id Account Paciente\",\n",
    "    right_on=\"Id Account\",\n",
    ")\n",
    "if (\"poliza\" in campaña_en_pacientes2.columns) == True:\n",
    "    campaña_en_pacientes2[\"poliza\"] = campaña_en_pacientes2[\"poliza\"].astype(str)\n",
    "\n",
    "campaña_en_pacientes2 = campaña_en_pacientes2.rename(\n",
    "    columns={\"Programas_por_Empresas__c\": \"programas por empresa\"}\n",
    ")\n",
    "campaña_en_pacientes2[\"Paciente__c\"] = campaña_en_pacientes2[\"Id Account Paciente\"]\n",
    "campaña_en_pacientes2[\"Programas_por_Empresas__c\"] = campaña_en_pacientes2[\n",
    "    \"programas por empresa\"\n",
    "]\n",
    "\n",
    "\n",
    "\"\"\" campaña_en_pacientes2 = campaña_en_pacientes2[\n",
    "    (campaña_en_pacientes2[\"Programas_por_Empresas__c\"] == \"\")] \"\"\"\n",
    "campaña_en_pacientes2[\"Esta\"] = campaña_en_pacientes2[\"programas por empresa\"].isnull()\n",
    "campaña_en_pacientes2 = campaña_en_pacientes2[campaña_en_pacientes2[\"Esta\"]]\n",
    "campaña_en_pacientes2.to_excel(\n",
    "    \"F:/Empresas SF/reportes/archivo_campaña3.xlsx\", index=False\n",
    ")"
   ]
  },
  {
   "cell_type": "code",
   "execution_count": null,
   "metadata": {},
   "outputs": [],
   "source": [
    "campaña_en_pacientes2[\"rut\"].shape"
   ]
  },
  {
   "cell_type": "code",
   "execution_count": null,
   "metadata": {},
   "outputs": [],
   "source": [
    "# nuevosrutes = \"F:/Empresas SF/reportes/rut.xlsx\"\n",
    "# campaña = \"BCI Seguros Colectivos\"\n",
    "# Pais = \"Chile\"\n",
    "# Pais = \"México\"\n",
    "\n",
    "# rutes = pd.read_excel(nuevosrutes)\n",
    "rutes = pd.DataFrame(columns=[\"rut\"])\n",
    "rutes[\"rut\"] = Pacientes_Archivo[\"rut\"]\n",
    "rutes[\"rutT\"] = Pacientes_Archivo[\"rut2\"]\n",
    "rutes[\"Contratante\"] = Pacientes_Archivo[\"Contratante\"]\n",
    "# rutes[\"poliza\"] = Pacientes_Archivo[\"poliza\"]\n",
    "rutes.head()"
   ]
  },
  {
   "cell_type": "code",
   "execution_count": null,
   "metadata": {},
   "outputs": [],
   "source": [
    "rutes[\"rut\"] = rutes[\"rut\"].astype(str)\n",
    "rutes[\"rut\"] = rutes[\"rut\"].str.replace(\".\", \"\")\n",
    "rutes[\"rut\"] = rutes[\"rut\"].str.replace(\"-\", \"\")\n",
    "# aca se trabaja con el nuevo rut desde rut1 ojooooooo\n",
    "rutes[\"rut\"] = rutes[\"rut\"].str.upper()\n",
    "rutes[\"rut\"] = rutes[\"rut\"].str.strip()\n",
    "\n",
    "rutes[\"rutT\"] = rutes[\"rutT\"].astype(str)\n",
    "rutes[\"rutT\"] = rutes[\"rutT\"].str.replace(\".\", \"\")\n",
    "rutes[\"rutT\"] = rutes[\"rutT\"].str.replace(\"-\", \"\")\n",
    "# aca se trabaja con el nuevo rut desde rut1 ojooooooo\n",
    "rutes[\"rutT\"] = rutes[\"rutT\"].str.upper()\n",
    "rutes[\"rutT\"] = rutes[\"rutT\"].str.strip()\n",
    "\n",
    "\"\"\" rutes[\"poliza\"] = rutes[\"poliza\"].astype(str)\n",
    "rutes[\"poliza\"] = rutes[\"poliza\"].str.replace(\".\", \"\")\n",
    "rutes[\"poliza\"] = rutes[\"poliza\"].str.replace(\"-\", \"\")\n",
    "# aca se trabaja con el nuevo rut desde rut1 ojooooooo\n",
    "rutes[\"poliza\"] = rutes[\"poliza\"].str.strip() \"\"\"\n",
    "\n",
    "\n",
    "rutes.head()"
   ]
  },
  {
   "cell_type": "code",
   "execution_count": null,
   "metadata": {},
   "outputs": [],
   "source": [
    "# derty = rutes.to_numpy().transpose().tolist()\n",
    "\n",
    "\n",
    "Pacientes_SF2 = Pacientes_SF[[\"Rut\", \"Id Account Paciente\"]]"
   ]
  },
  {
   "cell_type": "code",
   "execution_count": null,
   "metadata": {},
   "outputs": [],
   "source": [
    "rutesi = pd.merge(\n",
    "    left=rutes,\n",
    "    right=Pacientes_SF2,\n",
    "    how=\"left\",\n",
    "    left_on=\"rut\",\n",
    "    right_on=\"Rut\",\n",
    ")\n",
    "rutesi.shape\n",
    "rutesi.to_excel(\"F:/Empresas SF/reportes/rutsyempresa.xlsx\", index=False)"
   ]
  },
  {
   "cell_type": "code",
   "execution_count": null,
   "metadata": {},
   "outputs": [],
   "source": [
    "rutesi.head()"
   ]
  },
  {
   "cell_type": "code",
   "execution_count": null,
   "metadata": {},
   "outputs": [],
   "source": [
    "rutesi_antg = pd.merge(\n",
    "    left=rutesi,\n",
    "    right=empresas_unidas,\n",
    "    how=\"left\",\n",
    "    left_on=\"Id Account Paciente\",\n",
    "    right_on=\"Id Account\",\n",
    ")"
   ]
  },
  {
   "cell_type": "code",
   "execution_count": null,
   "metadata": {},
   "outputs": [],
   "source": [
    "rutesi_antg.head()"
   ]
  },
  {
   "cell_type": "code",
   "execution_count": null,
   "metadata": {},
   "outputs": [],
   "source": [
    "# rutesi_antg .to_excel(\"F:/Empresas SF/reportes/ruts_empresas_antiguos.xlsx\", index=False)"
   ]
  },
  {
   "cell_type": "code",
   "execution_count": null,
   "metadata": {},
   "outputs": [],
   "source": [
    "import json\n",
    "import pandas as pd\n",
    "from simple_salesforce import Salesforce, format_soql, format_external_id\n",
    "from json import loads, dumps\n",
    "import simpler_sf\n",
    "\n",
    "simpler_sf.simple_salesforce()"
   ]
  },
  {
   "cell_type": "code",
   "execution_count": null,
   "metadata": {},
   "outputs": [],
   "source": [
    "with open(\"login.json\", \"r\") as j:\n",
    "    misDatos = json.load(j)\n",
    "sf = Salesforce(\n",
    "    username=misDatos[\"username\"],\n",
    "    password=misDatos[\"password\"],\n",
    "    security_token=misDatos[\"security_token\"],\n",
    ")"
   ]
  },
  {
   "cell_type": "code",
   "execution_count": null,
   "metadata": {},
   "outputs": [],
   "source": [
    "\"\"\" query = \"select Id, Account.Name, RutContact__c from AccountContactRelation \"\n",
    "\n",
    "df1 = sf.smart_query(query) \"\"\""
   ]
  },
  {
   "cell_type": "code",
   "execution_count": null,
   "metadata": {},
   "outputs": [],
   "source": [
    "# nuevosrutes = \"F:/Empresas SF/reportes/rut.xlsx\"\n",
    "# campaña = \"BCI Seguros Colectivos\"\n",
    "# Pais = \"Chile\"\n",
    "# Pais = \"México\"\n",
    "\n",
    "# rutes = pd.read_excel(nuevosrutes)\n",
    "# rutes = Subir_pacientes[\"rut\"]"
   ]
  },
  {
   "cell_type": "code",
   "execution_count": null,
   "metadata": {},
   "outputs": [],
   "source": [
    "\"\"\" df1.head() \"\"\""
   ]
  },
  {
   "cell_type": "code",
   "execution_count": null,
   "metadata": {},
   "outputs": [],
   "source": [
    "\"\"\" df1[\"rut\"] = df1[\"RutContact__c\"].astype(str)\n",
    "df1[\"rut\"] = df1[\"rut\"].str.replace(\".\", \"\")\n",
    "df1[\"rut\"] = df1[\"rut\"].str.replace(\n",
    "    \"-\", \"\"\n",
    ")  # aca se trabaja con el nuevo rut desde rut1 ojooooooo\n",
    "df1[\"rut\"] = df1[\"rut\"].str.upper()\n",
    "df1[\"rut\"] = df1[\"rut\"].str.strip()\n",
    "df1.head() \"\"\""
   ]
  },
  {
   "cell_type": "code",
   "execution_count": null,
   "metadata": {},
   "outputs": [],
   "source": [
    "\"\"\" rutes.head() \"\"\""
   ]
  },
  {
   "cell_type": "code",
   "execution_count": null,
   "metadata": {},
   "outputs": [],
   "source": [
    "\"\"\" rutesi = pd.merge(\n",
    "    left=rutes,\n",
    "    right=df1,\n",
    "    how=\"left\",\n",
    "    left_on=\"rut\",\n",
    "    right_on=\"rut\",\n",
    ") \"\"\""
   ]
  },
  {
   "cell_type": "code",
   "execution_count": null,
   "metadata": {},
   "outputs": [],
   "source": [
    "\"\"\" rutesi.to_excel(\"F:/Empresas SF/reportes/rutesnuevos_accountcontactrelation.xlsx\", index=False) \"\"\""
   ]
  },
  {
   "cell_type": "code",
   "execution_count": null,
   "metadata": {},
   "outputs": [],
   "source": [
    "\"\"\" df2[\"P_liza__c\"] = df2[\"P_liza__c\"].astype(str)\n",
    "df2[\"P_liza__c\"] = df2[\"P_liza__c\"].str.replace(\".\", \"\")\n",
    "df2[\"P_liza__c\"] = df2[\"P_liza__c\"].str.replace(\"-\", \"\")\n",
    "# aca se trabaja con el nuevo rut desde rut1 ojooooooo\n",
    "df2[\"P_liza__c\"] = df2[\"P_liza__c\"].str.upper()\n",
    "df2[\"P_liza__c\"] = df2[\"P_liza__c\"].str.strip() \"\"\""
   ]
  },
  {
   "cell_type": "code",
   "execution_count": null,
   "metadata": {},
   "outputs": [],
   "source": [
    "modelo_nuevo = pd.merge(\n",
    "    left=rutesi,\n",
    "    right=df2,\n",
    "    how=\"left\",\n",
    "    left_on=\"poliza\",\n",
    "    right_on=\"P_liza__c\",\n",
    ")\n",
    "modelo_nuevo.to_excel(\"F:/Empresas SF/reportes/modelo_nuevo.xlsx\", index=False)"
   ]
  },
  {
   "cell_type": "code",
   "execution_count": null,
   "metadata": {},
   "outputs": [],
   "source": [
    "modelo = pd.DataFrame()\n",
    "modelo = modelo_nuevo[[\"rutT\", \"Id Account Paciente\", \"Id\"]]"
   ]
  },
  {
   "cell_type": "code",
   "execution_count": null,
   "metadata": {},
   "outputs": [],
   "source": [
    "modelo.head()"
   ]
  }
 ],
 "metadata": {
  "kernelspec": {
   "display_name": "salesforce",
   "language": "python",
   "name": "python3"
  },
  "language_info": {
   "codemirror_mode": {
    "name": "ipython",
    "version": 3
   },
   "file_extension": ".py",
   "mimetype": "text/x-python",
   "name": "python",
   "nbconvert_exporter": "python",
   "pygments_lexer": "ipython3",
   "version": "3.8.16"
  },
  "orig_nbformat": 4,
  "vscode": {
   "interpreter": {
    "hash": "7fbccfb583f385d5cd7c75cc6ade03c09354727271e9200f47ca4e7fedb5381e"
   }
  }
 },
 "nbformat": 4,
 "nbformat_minor": 2
}
