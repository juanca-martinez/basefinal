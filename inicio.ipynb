{
 "cells": [
  {
   "cell_type": "code",
   "execution_count": 119,
   "metadata": {},
   "outputs": [],
   "source": [
    "import encodings\n",
    "import pandas as pd\n",
    "import numpy as np\n",
    "from sqlalchemy import create_engine\n",
    "import openpyxl"
   ]
  },
  {
   "cell_type": "code",
   "execution_count": 120,
   "metadata": {},
   "outputs": [],
   "source": [
    "#ususaarios de base de datos local\n",
    "#usuario = 'care_consulta'\n",
    "#contrasena = 'CareAssistance!10'\n",
    "#url_servidor = '10.0.10.22'\n",
    "#puerto = '3306'\n",
    "#esquema = 'EspoCRM2'\n",
    "#plugin_autenticacion = 'mysql_native_password'\n",
    "#usuarios de base de datos Simtastic ##########################################\n",
    "\n",
    "usuario = 'siempreread'\n",
    "contrasena = 'S13mpr3_Ch1l3'\n",
    "url_servidor = '209.151.148.250'\n",
    "puerto = '3306'\n",
    "esquema = 'EspoCRM2'\n",
    "plugin_autenticacion = 'mysql_native_password'\n",
    "\n",
    "# Conexión a la base de datos\n",
    "\n",
    "c_conexion = 'mysql+mysqlconnector://{0}:{1}@{2}:{3}/{4}?auth_plugin={5}'\n",
    "c_conexion = c_conexion.format(usuario, contrasena, url_servidor, puerto,\n",
    "                               esquema, plugin_autenticacion)\n",
    "motor_mysql_mariadb = create_engine(c_conexion)"
   ]
  },
  {
   "cell_type": "code",
   "execution_count": 121,
   "metadata": {},
   "outputs": [],
   "source": [
    "#sql = 'select *, month(created_at) as mes, year(created_at) as ano from contact where year(created_at) = 2022 and CHAR_LENGTH(rut_asegurado) > 6 AND CHAR_LENGTH(rut) > 6 and month(created_at) = 9 '\n",
    "#dataframe desde consulta SQL ######   and month(created_at) = 6\n",
    "#data20 = pd.read_sql_query(sql, motor_mysql_mariadb)\n",
    "\n",
    "#tabla de emails\n",
    "#listado_email = 'SELECT t1.id,t3.lower as email FROM contact t1 left JOIN entity_email_address t2 ON t1.id = t2.entity_id left JOIN email_address t3 ON t2.email_address_id = t3.id where year(t1.created_at) = 2022 and CHAR_LENGTH(t1.rut_asegurado) > 6 AND CHAR_LENGTH(t1.rut) > 6 and month(t1.created_at) = 9'\n",
    "#emails = pd.read_sql_query(listado_email, motor_mysql_mariadb)\n",
    "\n",
    "#archivo de salida modificar segun archivo\n",
    "#archivo = 'C:/Users/jmartinez/Desktop/base de datos/filas cero/emailses.xlsx'\n",
    "\n",
    "#tabla de emprezas\n",
    "sql = 'select id,campana_paciente,holding,empleador,convenio from contact where year(created_at) = 2022 and month(created_at) = 5 order by campana_paciente, holding '\n",
    "empresas = pd.read_sql_query(sql,motor_mysql_mariadb)\n",
    "\n",
    "archivoini = 'C:/Users/jmartinez/Desktop/base de datos/empresas/empresas.xlsx'\n",
    "archivoini2 = 'C:/Users/jmartinez/Desktop/base de datos/empresas/empresas2.xlsx'\n",
    "archivofin = 'C:/Users/jmartinez/Desktop/base de datos/empresas/semifinal/empresas.xlsx'"
   ]
  },
  {
   "cell_type": "code",
   "execution_count": null,
   "metadata": {},
   "outputs": [],
   "source": [
    "#empresas.to_excel(archivoini,index=False)\n",
    "#empresas.head(20)"
   ]
  },
  {
   "cell_type": "code",
   "execution_count": null,
   "metadata": {},
   "outputs": [],
   "source": [
    "def cambiarSa(x):      \n",
    "    #subcadena = 'Sa' #la subcadena que queremos\n",
    "    #if subcadena in x and x.index(subcadena) != 0:\n",
    "    if x[len(x)-2:] == 'Sa':\n",
    "        x = x.replace('Sa','S.A.')\n",
    "    return x\n"
   ]
  },
  {
   "cell_type": "code",
   "execution_count": null,
   "metadata": {},
   "outputs": [],
   "source": [
    "empresas.head(20)"
   ]
  },
  {
   "cell_type": "code",
   "execution_count": null,
   "metadata": {},
   "outputs": [],
   "source": [
    "#ingresar empresas segun campaña\n",
    "empresas.empleador.fillna(empresas.campana_paciente + ' empresas', inplace=True)\n",
    "\n",
    "#saca acentos\n",
    "empresas.replace(r\"^ +| +$\",r\"\",regex=True)\n",
    "#saca espacios\n",
    "empresas['empleador'] = empresas['empleador'].str.strip()\n",
    "#los deja en mayuscula\n",
    "empresas['empleador'] = empresas['empleador'].str.upper()\n",
    "#los deja con la primera letra con mayuscula y el resto minuscula en todas las palabras\n",
    "empresas['empleador'] = empresas['empleador'].str.replace('S A','S.A.')\n",
    "empresas['empleador'] = empresas['empleador'].str.replace('SA.','S.A.')\n",
    "empresas['empleador'] = empresas['empleador'].str.replace('S.A','S.A')\n",
    "empresas['empleador'] = empresas['empleador'].str.replace('LTDA','Ltda.')\n",
    "\n",
    "empresas['empleador'] = empresas['empleador'].str.title()\n",
    "empresas['empleador'] = empresas['empleador'].str.replace('Spa','Spa.')\n",
    "empresas['empleador'] = empresas['empleador'].str.replace('Ltda..','Ltda.')\n",
    "empresas['empleador'] = empresas['empleador'].str.replace('Siempre Chile','Care Assistance')\n",
    "empresas['empleador'] = empresas['empleador'].str.replace('Colaboradores Empresas','Care Assistance')\n",
    "empresas['empleador'] = empresas['empleador'].str.replace('Clalemana','Clinica Alemana')\n",
    "empresas['empleador'] = empresas['empleador'].str.replace('Bancodechile','Banco de Chile')\n",
    "empresas['empleador'] = empresas['empleador'].str.replace('Conchaytoro','Concha y Toro')\n",
    "empresas['empleador'] = empresas['empleador'].str.replace('Prueba Empresas','Testing De Ejecutivos')\n",
    "empresas.head(20)"
   ]
  },
  {
   "cell_type": "code",
   "execution_count": null,
   "metadata": {},
   "outputs": [],
   "source": [
    "empresas['empleador'] = empresas['empleador'].apply(lambda x: cambiarSa(x))\n",
    "empresas.head(20)"
   ]
  },
  {
   "cell_type": "code",
   "execution_count": null,
   "metadata": {},
   "outputs": [],
   "source": [
    "empresas.to_excel(archivoini2,index=False)\n",
    "empresas.head(20)"
   ]
  }
 ],
 "metadata": {
  "kernelspec": {
   "display_name": "Python 3.10.6 ('Mito')",
   "language": "python",
   "name": "python3"
  },
  "language_info": {
   "codemirror_mode": {
    "name": "ipython",
    "version": 3
   },
   "file_extension": ".py",
   "mimetype": "text/x-python",
   "name": "python",
   "nbconvert_exporter": "python",
   "pygments_lexer": "ipython3",
   "version": "3.10.6"
  },
  "orig_nbformat": 4,
  "vscode": {
   "interpreter": {
    "hash": "8ca7c6c0b372e79d1b046e97089bf0eca059102913bf5fbce589f25f1f28c438"
   }
  }
 },
 "nbformat": 4,
 "nbformat_minor": 2
}
