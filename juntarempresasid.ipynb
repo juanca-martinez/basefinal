{
 "cells": [
  {
   "cell_type": "code",
   "execution_count": null,
   "metadata": {},
   "outputs": [],
   "source": [
    "import encodings\n",
    "import pandas as pd\n",
    "import numpy as np\n",
    "from sqlalchemy import create_engine\n",
    "import openpyxl"
   ]
  },
  {
   "cell_type": "code",
   "execution_count": null,
   "metadata": {},
   "outputs": [],
   "source": [
    "ar2019 = 'C:/Users/jmartinez/Desktop/base de datos/filas cero/finales/2019.xlsx'\n",
    "ar2020 = 'C:/Users/jmartinez/Desktop/base de datos/filas cero/finales/2020.xlsx'\n",
    "ar2021 = 'C:/Users/jmartinez/Desktop/base de datos/filas cero/finales/2021.xlsx'\n",
    "ar2022 = 'C:/Users/jmartinez/Desktop/base de datos/filas cero/finales/2022.xlsx'\n",
    "\n",
    "em2019 = 'C:/Users/jmartinez/Desktop/base de datos/empresas/semifinal/empresas2019'\n",
    "em2020 = 'C:/Users/jmartinez/Desktop/base de datos/empresas/semifinal/empresas2020'\n",
    "em2021 = 'C:/Users/jmartinez/Desktop/base de datos/empresas/semifinal/empresas2021'\n",
    "em2022 = 'C:/Users/jmartinez/Desktop/base de datos/empresas/semifinal/empresas2022'\n",
    "\n",
    "arf2019 = 'C:/Users/jmartinez/Desktop/base de datos/empresas/semifinal/final/2019.xlsx'\n",
    "arf2020 = 'C:/Users/jmartinez/Desktop/base de datos/empresas/semifinal/final/2020.xlsx'\n",
    "arf2021 = 'C:/Users/jmartinez/Desktop/base de datos/empresas/semifinal/final/2021.xlsx'\n",
    "arf2022 = 'C:/Users/jmartinez/Desktop/base de datos/empresas/semifinal/final/2022.xlsx'"
   ]
  },
  {
   "cell_type": "code",
   "execution_count": null,
   "metadata": {},
   "outputs": [],
   "source": [
    "leer2019 = pd.read_excel(ar2019)\n",
    "leer2020 = pd.read_excel(ar2020)\n",
    "leer2021 = pd.read_excel(ar2021)\n",
    "leer2022 = pd.read_excel(ar2022)\n",
    "\n",
    "leerem2019 = pd.read_excel(em2019)\n",
    "leerem2020 = pd.read_excel(em2020)\n",
    "leerem2021 = pd.read_excel(em2021)\n",
    "leerem2022 = pd.read_excel(em2022)"
   ]
  },
  {
   "cell_type": "code",
   "execution_count": null,
   "metadata": {},
   "outputs": [],
   "source": [
    "data2019 = pd.merge(left=leer2019,right=leerem2019, how='left', left_on='id', right_on='id')\n",
    "data2020 = pd.merge(left=leer2020,right=leerem2020, how='left', left_on='id', right_on='id')\n",
    "data2021 = pd.merge(left=leer2021,right=leerem2021, how='left', left_on='id', right_on='id')\n",
    "data2022 = pd.merge(left=leer2022,right=leerem2022, how='left', left_on='id', right_on='id')"
   ]
  },
  {
   "cell_type": "code",
   "execution_count": null,
   "metadata": {},
   "outputs": [],
   "source": [
    "data2019.to_excel(arf2019,index=False)\n",
    "data2020.to_excel(arf2020,index=False)\n",
    "data2021.to_excel(arf2021,index=False)\n",
    "data2022.to_excel(arf2022,index=False)"
   ]
  }
 ],
 "metadata": {
  "kernelspec": {
   "display_name": "Python 3.10.6 ('Mito')",
   "language": "python",
   "name": "python3"
  },
  "language_info": {
   "name": "python",
   "version": "3.10.6"
  },
  "orig_nbformat": 4,
  "vscode": {
   "interpreter": {
    "hash": "8ca7c6c0b372e79d1b046e97089bf0eca059102913bf5fbce589f25f1f28c438"
   }
  }
 },
 "nbformat": 4,
 "nbformat_minor": 2
}
