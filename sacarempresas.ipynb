{
 "cells": [
  {
   "cell_type": "code",
   "execution_count": 72,
   "metadata": {},
   "outputs": [],
   "source": [
    "import encodings\n",
    "import pandas as pd\n",
    "import numpy as np\n",
    "from sqlalchemy import create_engine\n",
    "import openpyxl"
   ]
  },
  {
   "cell_type": "code",
   "execution_count": 73,
   "metadata": {},
   "outputs": [
    {
     "data": {
      "text/html": [
       "<div><div id=865047d0-756a-46f6-aff3-eb423ee8bf73 style=\"display:none; background-color:#9D6CFF; color:white; width:200px; height:30px; padding-left:5px; border-radius:4px; flex-direction:row; justify-content:space-around; align-items:center;\" onmouseover=\"this.style.backgroundColor='#BA9BF8'\" onmouseout=\"this.style.backgroundColor='#9D6CFF'\" onclick=\"window.commands?.execute('create-mitosheet-from-dataframe-output');\">See Full Dataframe in Mito</div> <script> if (window.commands?.hasCommand('create-mitosheet-from-dataframe-output')) document.getElementById('865047d0-756a-46f6-aff3-eb423ee8bf73').style.display = 'flex' </script> <table border=\"1\" class=\"dataframe\">\n",
       "  <thead>\n",
       "    <tr style=\"text-align: right;\">\n",
       "      <th></th>\n",
       "      <th>empresas</th>\n",
       "      <th>campana</th>\n",
       "      <th>holding</th>\n",
       "    </tr>\n",
       "  </thead>\n",
       "  <tbody>\n",
       "    <tr>\n",
       "      <th>0</th>\n",
       "      <td>Laboratorio Maver Ltda</td>\n",
       "      <td>MetLife</td>\n",
       "      <td>Orienta</td>\n",
       "    </tr>\n",
       "    <tr>\n",
       "      <th>1</th>\n",
       "      <td>Aguas Del Valle S.A.</td>\n",
       "      <td>MetLife</td>\n",
       "      <td>Orienta</td>\n",
       "    </tr>\n",
       "    <tr>\n",
       "      <th>2</th>\n",
       "      <td>Berliam Spa</td>\n",
       "      <td>MetLife</td>\n",
       "      <td>Orienta</td>\n",
       "    </tr>\n",
       "    <tr>\n",
       "      <th>3</th>\n",
       "      <td>Besalco Maquinarias S.A.</td>\n",
       "      <td>MetLife</td>\n",
       "      <td>Orienta</td>\n",
       "    </tr>\n",
       "    <tr>\n",
       "      <th>4</th>\n",
       "      <td>Carlos Escarate Y Cia Ltda.</td>\n",
       "      <td>MetLife</td>\n",
       "      <td>Orienta</td>\n",
       "    </tr>\n",
       "  </tbody>\n",
       "</table></div>"
      ],
      "text/plain": [
       "                      empresas  campana  holding\n",
       "0       Laboratorio Maver Ltda  MetLife  Orienta\n",
       "1         Aguas Del Valle S.A.  MetLife  Orienta\n",
       "2                  Berliam Spa  MetLife  Orienta\n",
       "3     Besalco Maquinarias S.A.  MetLife  Orienta\n",
       "4  Carlos Escarate Y Cia Ltda.  MetLife  Orienta"
      ]
     },
     "execution_count": 73,
     "metadata": {},
     "output_type": "execute_result"
    }
   ],
   "source": [
    "\n",
    "archivo1 = 'C:/Users/jmartinez/Downloads/empresas martin.xlsx'\n",
    "emmartin = pd.read_excel(archivo1)\n",
    "emmartin.head()"
   ]
  },
  {
   "cell_type": "code",
   "execution_count": 74,
   "metadata": {},
   "outputs": [],
   "source": [
    "archivo2 = 'C:/Users/jmartinez/Desktop/base de datos/empresas/semifinal/final/2022.xlsx'\n",
    "em2022 = pd.read_excel(archivo2)\n",
    "em2022.head()"
   ]
  },
  {
   "cell_type": "code",
   "execution_count": null,
   "metadata": {},
   "outputs": [],
   "source": [
    "def cambiarSa(x):      \n",
    "    #subcadena = 'Sa' #la subcadena que queremos\n",
    "    #if subcadena in x and x.index(subcadena) != 0:\n",
    "    if x[len(x)-2:] == 'Sa':\n",
    "        x = x.replace('Sa','S.A.')\n",
    "    if x[len(x)-2:] == 'S.':\n",
    "        x = x.replace('S.','S.A.')\n",
    "    if x[len(x)-3:] == 'S A':\n",
    "        x = x.replace('S A','S.A.')\n",
    "    if x[len(x)-3:] == 'SA.':\n",
    "        x = x.replace('SA.','S.A.')\n",
    "    if x[len(x)-3:] == 'S.A':\n",
    "        x = x.replace('S.A','S.A.') \n",
    "    if x[len(x)-4:] == 'S. A': \n",
    "        x = x.replace('S. A','S.A.') \n",
    "    return x"
   ]
  },
  {
   "cell_type": "code",
   "execution_count": null,
   "metadata": {},
   "outputs": [],
   "source": [
    "emmartin['empresas'] = emmartin['empresas'].str.upper()\n",
    "em2022['empleador'] = em2022['empleador'].str.upper()\n",
    "emmartin['empresas'] = emmartin['empresas'].str.replace('Á','A')\n",
    "emmartin['empresas'] = emmartin['empresas'].str.replace('É','E')\n",
    "emmartin['empresas'] = emmartin['empresas'].str.replace('Í','I')\n",
    "emmartin['empresas'] = emmartin['empresas'].str.replace('Ó','O')\n",
    "emmartin['empresas'] = emmartin['empresas'].str.replace('Ú','U')\n",
    "emmartin['empresas'] = emmartin['empresas'].apply(lambda x: cambiarSa(x))\n",
    "#emmartin['empresas'] = emmartin['empresas'].str.replace('LTDA.','LTDA.')\n",
    "emmartin['empresas'] = emmartin['empresas'].str.replace('SPA','SPA.')\n",
    "emmartin['empresas'] = emmartin['empresas'].str.replace('LIMITADA','LTDA.')\n",
    "emmartin['empresas'] = emmartin['empresas'].str.replace('LTDA','LTDA.')\n",
    "emmartin['empresas'] = emmartin['empresas'].str.replace('PARQUE  ARAUCO S.A.','PARQUE ARAUCO S.A.')\n",
    "emmartin['empresas'] = emmartin['empresas'].str.replace('GOODYEAR  DE CHILE S.A.I.C.','GOODYEAR DE CHILE S.A.I.C.')\n",
    "\n",
    "emmartin['empresas'] = emmartin['empresas'].str.replace('SPA..','SPA.')\n",
    "emmartin['empresas'] = emmartin['empresas'].str.replace('LTDA..','LTDA.')\n",
    "\n",
    "\n",
    "emmartin['chek'] = emmartin.empresas.isin(em2022.empleador)\n"
   ]
  },
  {
   "cell_type": "code",
   "execution_count": null,
   "metadata": {},
   "outputs": [],
   "source": [
    "ar2022 = 'C:/Users/jmartinez/Desktop/ultimo/martin.xlsx'\n",
    "emmartin.head(9)\n",
    "emmartin.to_excel(ar2022,index=False)"
   ]
  }
 ],
 "metadata": {
  "kernelspec": {
   "display_name": "Python 3.10.6 ('Mito')",
   "language": "python",
   "name": "python3"
  },
  "language_info": {
   "codemirror_mode": {
    "name": "ipython",
    "version": 3
   },
   "file_extension": ".py",
   "mimetype": "text/x-python",
   "name": "python",
   "nbconvert_exporter": "python",
   "pygments_lexer": "ipython3",
   "version": "3.10.6"
  },
  "orig_nbformat": 4,
  "vscode": {
   "interpreter": {
    "hash": "8ca7c6c0b372e79d1b046e97089bf0eca059102913bf5fbce589f25f1f28c438"
   }
  }
 },
 "nbformat": 4,
 "nbformat_minor": 2
}
