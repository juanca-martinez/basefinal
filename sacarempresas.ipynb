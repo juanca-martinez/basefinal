{
 "cells": [
  {
   "cell_type": "code",
   "execution_count": 33,
   "metadata": {},
   "outputs": [],
   "source": [
    "import encodings\n",
    "import pandas as pd\n",
    "import numpy as np\n",
    "from sqlalchemy import create_engine\n",
    "import openpyxl"
   ]
  },
  {
   "cell_type": "code",
   "execution_count": 34,
   "metadata": {},
   "outputs": [],
   "source": [
    "#archivo2 = 'C:/Users/jmartinez/Desktop/base de datos/empresas/semifinal/final/2022.xlsx'\n",
    "#em2022 = pd.read_excel(archivo2)\n",
    "#em2022.head()"
   ]
  },
  {
   "cell_type": "code",
   "execution_count": 35,
   "metadata": {},
   "outputs": [
    {
     "data": {
      "text/html": [
       "<div><div id=8637211b-5184-495c-8447-9aac00abcc29 style=\"display:none; background-color:#9D6CFF; color:white; width:200px; height:30px; padding-left:5px; border-radius:4px; flex-direction:row; justify-content:space-around; align-items:center;\" onmouseover=\"this.style.backgroundColor='#BA9BF8'\" onmouseout=\"this.style.backgroundColor='#9D6CFF'\" onclick=\"window.commands?.execute('create-mitosheet-from-dataframe-output');\">See Full Dataframe in Mito</div> <script> if (window.commands?.hasCommand('create-mitosheet-from-dataframe-output')) document.getElementById('8637211b-5184-495c-8447-9aac00abcc29').style.display = 'flex' </script> <table border=\"1\" class=\"dataframe\">\n",
       "  <thead>\n",
       "    <tr style=\"text-align: right;\">\n",
       "      <th></th>\n",
       "      <th>NOMBRE</th>\n",
       "      <th>APELLIDO</th>\n",
       "      <th>CARGO</th>\n",
       "      <th>empresas</th>\n",
       "      <th>CORREO</th>\n",
       "    </tr>\n",
       "  </thead>\n",
       "  <tbody>\n",
       "    <tr>\n",
       "      <th>0</th>\n",
       "      <td>Marcela</td>\n",
       "      <td>Hein</td>\n",
       "      <td>Total Rewards Manager</td>\n",
       "      <td>3M</td>\n",
       "      <td>mhein@mmm.com</td>\n",
       "    </tr>\n",
       "    <tr>\n",
       "      <th>1</th>\n",
       "      <td>Osvaldo</td>\n",
       "      <td>Acuña</td>\n",
       "      <td>GERENTE PERSONAS</td>\n",
       "      <td>Abastible S.A.</td>\n",
       "      <td>osvaldo.acuna@abastible.cl</td>\n",
       "    </tr>\n",
       "    <tr>\n",
       "      <th>2</th>\n",
       "      <td>Paulina</td>\n",
       "      <td>Toro</td>\n",
       "      <td>Subgerente Compensaciones</td>\n",
       "      <td>Abastible S.A.</td>\n",
       "      <td>paulina.toro@abastible.cl</td>\n",
       "    </tr>\n",
       "    <tr>\n",
       "      <th>3</th>\n",
       "      <td>FABIO</td>\n",
       "      <td>ALFIERI ARAUJO</td>\n",
       "      <td>SR Compensation Manager</td>\n",
       "      <td>ABB</td>\n",
       "      <td>FABIO.ARAUJO@BR.ABB.COM</td>\n",
       "    </tr>\n",
       "    <tr>\n",
       "      <th>4</th>\n",
       "      <td>Natalia</td>\n",
       "      <td>Sandoval</td>\n",
       "      <td>C&amp;B</td>\n",
       "      <td>Abbott</td>\n",
       "      <td>natalia.sandoval@abbott.com</td>\n",
       "    </tr>\n",
       "  </tbody>\n",
       "</table></div>"
      ],
      "text/plain": [
       "    NOMBRE        APELLIDO                      CARGO        empresas  \\\n",
       "0  Marcela            Hein      Total Rewards Manager              3M   \n",
       "1  Osvaldo           Acuña          GERENTE PERSONAS   Abastible S.A.   \n",
       "2  Paulina            Toro  Subgerente Compensaciones  Abastible S.A.   \n",
       "3    FABIO  ALFIERI ARAUJO    SR Compensation Manager             ABB   \n",
       "4  Natalia        Sandoval                        C&B          Abbott   \n",
       "\n",
       "                        CORREO  \n",
       "0                mhein@mmm.com  \n",
       "1   osvaldo.acuna@abastible.cl  \n",
       "2    paulina.toro@abastible.cl  \n",
       "3      FABIO.ARAUJO@BR.ABB.COM  \n",
       "4  natalia.sandoval@abbott.com  "
      ]
     },
     "execution_count": 35,
     "metadata": {},
     "output_type": "execute_result"
    }
   ],
   "source": [
    "\n",
    "archivo1 = 'C:/Users/jmartinez/Downloads/derty.xlsx'\n",
    "emmartin = pd.read_excel(archivo1)\n",
    "emmartin.head()"
   ]
  },
  {
   "cell_type": "code",
   "execution_count": 36,
   "metadata": {},
   "outputs": [],
   "source": [
    "def cambiarSa(x):\n",
    "    if x[len(x)-2:] == 'SA':\n",
    "        x = x.replace('SA','S.A.')\n",
    "    if x[len(x)-2:] == 'Sa':\n",
    "        x = x.replace('Sa','S.A.')\n",
    "    if x[len(x)-2:] == 'S.':\n",
    "        x = x.replace('S.','S.A.')\n",
    "    if x[len(x)-3:] == 'S A':\n",
    "        x = x.replace('S A','S.A.')\n",
    "    if x[len(x)-3:] == 'SA.':\n",
    "        x = x.replace('SA.','S.A.')\n",
    "    if x[len(x)-3:] == 'S.A':\n",
    "        x = x.replace('S.A','S.A.') \n",
    "    if x[len(x)-4:] == 'S. A': \n",
    "        x = x.replace('S. A','S.A.') \n",
    "    if x[len(x)-5:] == 'S. A.':\n",
    "        x = x.replace('S. A.','S.A.')\n",
    "    if x[len(x)-6:] == 'S.P.A.':\n",
    "        x = x.replace('S.P.A.','Spa.')\n",
    "    if x[len(x)-5:] == 'S.A.,':\n",
    "        x = x.replace('S.A.,','Sa.')\n",
    "    return x\n",
    "\n",
    "def cambiarIn(y):\n",
    "    if y[0:4] == 'Soc ':\n",
    "        y = y.replace('Soc ','Soc. ')\n",
    "    if y[0:5] == 'Serv ':\n",
    "        y = y.replace('Serv ','Serv. ')\n",
    "    if y[0:5] == 'Asoc ':\n",
    "        y = y.replace('Asoc ','Asoc. ')\n",
    "    return y"
   ]
  },
  {
   "cell_type": "code",
   "execution_count": 37,
   "metadata": {},
   "outputs": [
    {
     "name": "stderr",
     "output_type": "stream",
     "text": [
      "C:\\Users\\jmartinez\\AppData\\Local\\Temp\\ipykernel_14328\\1009691891.py:21: FutureWarning: The default value of regex will change from True to False in a future version.\n",
      "  emmartin['empresas'] = emmartin['empresas'].str.replace('S.P.A.','Spa.')\n",
      "C:\\Users\\jmartinez\\AppData\\Local\\Temp\\ipykernel_14328\\1009691891.py:22: FutureWarning: The default value of regex will change from True to False in a future version.\n",
      "  emmartin['empresas'] = emmartin['empresas'].str.replace('Parque  Arauco S.A.','Parque Arauco S.A.')\n",
      "C:\\Users\\jmartinez\\AppData\\Local\\Temp\\ipykernel_14328\\1009691891.py:23: FutureWarning: The default value of regex will change from True to False in a future version.\n",
      "  emmartin['empresas'] = emmartin['empresas'].str.replace('Goodyear  De Chile S.A.I.C.','Goodyear De Chile S.A.I.C.')\n",
      "C:\\Users\\jmartinez\\AppData\\Local\\Temp\\ipykernel_14328\\1009691891.py:29: FutureWarning: The default value of regex will change from True to False in a future version.\n",
      "  emmartin['empresas'] = emmartin['empresas'].str.replace('Banco Security .','Banco Security')\n",
      "C:\\Users\\jmartinez\\AppData\\Local\\Temp\\ipykernel_14328\\1009691891.py:31: FutureWarning: The default value of regex will change from True to False in a future version.\n",
      "  emmartin['empresas'] = emmartin['empresas'].str.replace('Spa..','Spa.')\n",
      "C:\\Users\\jmartinez\\AppData\\Local\\Temp\\ipykernel_14328\\1009691891.py:32: FutureWarning: The default value of regex will change from True to False in a future version.\n",
      "  emmartin['empresas'] = emmartin['empresas'].str.replace('Ltda..','Ltda.')\n",
      "C:\\Users\\jmartinez\\AppData\\Local\\Temp\\ipykernel_14328\\1009691891.py:33: FutureWarning: The default value of regex will change from True to False in a future version.\n",
      "  emmartin['empresas'] = emmartin['empresas'].str.replace('Ltda..','Ltda.')\n",
      "C:\\Users\\jmartinez\\AppData\\Local\\Temp\\ipykernel_14328\\1009691891.py:35: FutureWarning: The default value of regex will change from True to False in a future version.\n",
      "  emmartin['empresas'] = emmartin['empresas'].str.replace('Trafigura Chile Ltda.ental','Trafigura Chile Ltda. Dental')\n",
      "C:\\Users\\jmartinez\\AppData\\Local\\Temp\\ipykernel_14328\\1009691891.py:36: FutureWarning: The default value of regex will change from True to False in a future version.\n",
      "  emmartin['empresas'] = emmartin['empresas'].str.replace('Volvo Chile  Spa.','Volvo Chile Spa.')\n"
     ]
    }
   ],
   "source": [
    "emmartin['empresas'].str.strip()\n",
    "emmartin['empresas'] = emmartin['empresas'].str.title()\n",
    "#em2022['empleador'] = em2022['empleador'].str.upper()\n",
    "emmartin['empresas'] = emmartin['empresas'].str.replace('Á','A')\n",
    "emmartin['empresas'] = emmartin['empresas'].str.replace('É','E')\n",
    "emmartin['empresas'] = emmartin['empresas'].str.replace('Í','I')\n",
    "emmartin['empresas'] = emmartin['empresas'].str.replace('Ó','O')\n",
    "emmartin['empresas'] = emmartin['empresas'].str.replace('Ú','U')\n",
    "emmartin['empresas'] = emmartin['empresas'].str.replace('á','a')\n",
    "emmartin['empresas'] = emmartin['empresas'].str.replace('é','e')\n",
    "emmartin['empresas'] = emmartin['empresas'].str.replace('í','i')\n",
    "emmartin['empresas'] = emmartin['empresas'].str.replace('ó','o')\n",
    "emmartin['empresas'] = emmartin['empresas'].str.replace('ú','u')\n",
    "#emmartin['empresas'] = emmartin['empresas'].apply(lambda x: cambiarSa(x))\n",
    "#emmartin['empresas'] = emmartin['empresas'].apply(lambda y: cambiarIn(y))\n",
    "\n",
    "#emmartin['empresas'] = emmartin['empresas'].str.replace('LTDA.','LTDA.')\n",
    "emmartin['empresas'] = emmartin['empresas'].str.replace('Spa','Spa.')\n",
    "emmartin['empresas'] = emmartin['empresas'].str.replace('Limitada','Ltda.')\n",
    "emmartin['empresas'] = emmartin['empresas'].str.replace('Ltda','Ltda.')\n",
    "emmartin['empresas'] = emmartin['empresas'].str.replace('S.P.A.','Spa.')\n",
    "emmartin['empresas'] = emmartin['empresas'].str.replace('Parque  Arauco S.A.','Parque Arauco S.A.')\n",
    "emmartin['empresas'] = emmartin['empresas'].str.replace('Goodyear  De Chile S.A.I.C.','Goodyear De Chile S.A.I.C.')\n",
    "emmartin['empresas'] = emmartin['empresas'].str.replace('Clalemana','Clinica Alemana')\n",
    "emmartin['empresas'] = emmartin['empresas'].str.replace('Bancochile','Banco de Chile')\n",
    "emmartin['empresas'] = emmartin['empresas'].str.replace('Bancoestado','Banco Estado')\n",
    "emmartin['empresas'] = emmartin['empresas'].str.replace('Conchaytoro','Concha y Toro')\n",
    "emmartin['empresas'] = emmartin['empresas'].str.replace('Concha y Toro','Concha y Toro')\n",
    "emmartin['empresas'] = emmartin['empresas'].str.replace('Banco Security .','Banco Security')\n",
    "\n",
    "emmartin['empresas'] = emmartin['empresas'].str.replace('Spa..','Spa.')\n",
    "emmartin['empresas'] = emmartin['empresas'].str.replace('Ltda..','Ltda.')\n",
    "emmartin['empresas'] = emmartin['empresas'].str.replace('Ltda..','Ltda.')\n",
    "emmartin['empresas'] = emmartin['empresas'].str.replace('Saeza','Saesa')\n",
    "emmartin['empresas'] = emmartin['empresas'].str.replace('Trafigura Chile Ltda.ental','Trafigura Chile Ltda. Dental')\n",
    "emmartin['empresas'] = emmartin['empresas'].str.replace('Volvo Chile  Spa.','Volvo Chile Spa.')\n",
    "\n",
    "emmartin['empresas'] = emmartin['empresas'].str.strip()\n",
    "#emmartin['empresas'] = emmartin['empresas'].apply(lambda x: cambiarSa(x))\n",
    "#emmartin['empresas'] = emmartin['empresas'].apply(lambda y: cambiarIn(y))\n",
    "\n",
    "\n",
    "\n",
    "#emmartin['chek'] = emmartin.empresas.isin(em2022.empleador)\n"
   ]
  },
  {
   "cell_type": "code",
   "execution_count": 38,
   "metadata": {},
   "outputs": [],
   "source": [
    "emmartin['empresas'] = emmartin['empresas'].apply(str)\n",
    "emmartin['empresas'] = emmartin['empresas'].apply(lambda x: cambiarSa(x))\n",
    "emmartin['empresas'] = emmartin['empresas'].apply(lambda y: cambiarIn(y))"
   ]
  },
  {
   "cell_type": "code",
   "execution_count": 39,
   "metadata": {},
   "outputs": [],
   "source": [
    "#derty = emmartin.groupby(by = ['empresas']).value_counts()\n",
    "#derty.head()"
   ]
  },
  {
   "cell_type": "code",
   "execution_count": 40,
   "metadata": {},
   "outputs": [],
   "source": [
    "ar2022 = 'C:/Users/jmartinez/Desktop/pamela/empresa_pamela.xlsx'\n",
    "emmartin.head(9)\n",
    "derty.to_excel(ar2022,index=True)"
   ]
  }
 ],
 "metadata": {
  "kernelspec": {
   "display_name": "Python 3.10.6 ('Mito')",
   "language": "python",
   "name": "python3"
  },
  "language_info": {
   "codemirror_mode": {
    "name": "ipython",
    "version": 3
   },
   "file_extension": ".py",
   "mimetype": "text/x-python",
   "name": "python",
   "nbconvert_exporter": "python",
   "pygments_lexer": "ipython3",
   "version": "3.10.6"
  },
  "orig_nbformat": 4,
  "vscode": {
   "interpreter": {
    "hash": "8ca7c6c0b372e79d1b046e97089bf0eca059102913bf5fbce589f25f1f28c438"
   }
  }
 },
 "nbformat": 4,
 "nbformat_minor": 2
}
