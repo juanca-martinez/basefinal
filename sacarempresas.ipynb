{
 "cells": [
  {
   "cell_type": "code",
   "execution_count": null,
   "metadata": {},
   "outputs": [],
   "source": [
    "import encodings\n",
    "import pandas as pd\n",
    "import numpy as np\n",
    "from sqlalchemy import create_engine\n",
    "import openpyxl"
   ]
  },
  {
   "cell_type": "code",
   "execution_count": null,
   "metadata": {},
   "outputs": [],
   "source": [
    "#ususaarios de base de datos local\n",
    "\n",
    "usuario = 'care_consulta'\n",
    "contrasena = 'CareAssistance!10'\n",
    "url_servidor = '10.0.10.22'\n",
    "#puerto = '3306'\n",
    "#esquema = 'EspoCRM2'\n",
    "#plugin_autenticacion = 'mysql_native_password'\n",
    "\n",
    "#usuarios de base de datos Simtastic ##########################################\n",
    "\n",
    "#usuario = 'siempreread'\n",
    "#contrasena = 'S13mpr3_Ch1l3'\n",
    "#url_servidor = '209.151.148.250'\n",
    "puerto = '3306'\n",
    "esquema = 'EspoCRM2'\n",
    "plugin_autenticacion = 'mysql_native_password'\n",
    "\n",
    "# Conexión a la base de datos\n",
    "\n",
    "c_conexion = 'mysql+mysqlconnector://{0}:{1}@{2}:{3}/{4}?auth_plugin={5}'\n",
    "c_conexion = c_conexion.format(usuario, contrasena, url_servidor, puerto,\n",
    "                               esquema, plugin_autenticacion)\n",
    "motor_mysql_mariadb = create_engine(c_conexion)\n"
   ]
  },
  {
   "cell_type": "code",
   "execution_count": null,
   "metadata": {},
   "outputs": [],
   "source": [
    "ar2019 = 'C:/Users/jmartinez/Desktop/baseclientes/programas.xlsx'\n",
    "leer2019 = pd.read_excel(ar2019,sheet_name='METLIFE')\n",
    "leer2019.head()"
   ]
  },
  {
   "cell_type": "code",
   "execution_count": null,
   "metadata": {},
   "outputs": [],
   "source": [
    "\n",
    "leer2019['derty'] = leer2019['EMPRESA RELACIONADA'].str.upper()\n",
    "\n",
    "leer2019.head()"
   ]
  },
  {
   "cell_type": "code",
   "execution_count": null,
   "metadata": {},
   "outputs": [],
   "source": [
    "dfempresas = leer2019['EMPRESA RELACIONADA'].str.upper()\n",
    "dfempresas.head()"
   ]
  }
 ],
 "metadata": {
  "kernelspec": {
   "display_name": "Python 3.10.6 ('Mito')",
   "language": "python",
   "name": "python3"
  },
  "language_info": {
   "codemirror_mode": {
    "name": "ipython",
    "version": 3
   },
   "file_extension": ".py",
   "mimetype": "text/x-python",
   "name": "python",
   "nbconvert_exporter": "python",
   "pygments_lexer": "ipython3",
   "version": "3.10.6"
  },
  "orig_nbformat": 4,
  "vscode": {
   "interpreter": {
    "hash": "8ca7c6c0b372e79d1b046e97089bf0eca059102913bf5fbce589f25f1f28c438"
   }
  }
 },
 "nbformat": 4,
 "nbformat_minor": 2
}
