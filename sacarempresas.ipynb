{
 "cells": [
  {
   "cell_type": "code",
   "execution_count": null,
   "metadata": {},
   "outputs": [],
   "source": [
    "import encodings\n",
    "import pandas as pd\n",
    "import numpy as np\n",
    "from sqlalchemy import create_engine\n",
    "import openpyxl"
   ]
  },
  {
   "cell_type": "code",
   "execution_count": null,
   "metadata": {},
   "outputs": [],
   "source": [
    "#archivo2 = 'C:/Users/jmartinez/Desktop/base de datos/empresas/semifinal/final/2022.xlsx'\n",
    "#em2022 = pd.read_excel(archivo2)\n",
    "#em2022.head()"
   ]
  },
  {
   "cell_type": "code",
   "execution_count": null,
   "metadata": {},
   "outputs": [],
   "source": [
    "\n",
    "archivo1 = 'C:/Users/jmartinez/Downloads/derty.xlsx'\n",
    "emmartin = pd.read_excel(archivo1)\n",
    "emmartin.head()"
   ]
  },
  {
   "cell_type": "code",
   "execution_count": null,
   "metadata": {},
   "outputs": [],
   "source": [
    "def cambiarSa(x):\n",
    "    if x[len(x)-2:] == 'SA':\n",
    "        x = x.replace('SA','S.A.')\n",
    "    if x[len(x)-2:] == 'Sa':\n",
    "        x = x.replace('Sa','S.A.')\n",
    "    if x[len(x)-2:] == 'S.':\n",
    "        x = x.replace('S.','S.A.')\n",
    "    if x[len(x)-3:] == 'S A':\n",
    "        x = x.replace('S A','S.A.')\n",
    "    if x[len(x)-3:] == 'SA.':\n",
    "        x = x.replace('SA.','S.A.')\n",
    "    if x[len(x)-3:] == 'S.A':\n",
    "        x = x.replace('S.A','S.A.') \n",
    "    if x[len(x)-4:] == 'S. A': \n",
    "        x = x.replace('S. A','S.A.') \n",
    "    if x[len(x)-5:] == 'S. A.':\n",
    "        x = x.replace('S. A.','S.A.')\n",
    "    if x[len(x)-6:] == 'S.P.A.':\n",
    "        x = x.replace('S.P.A.','Spa.')\n",
    "    if x[len(x)-5:] == 'S.A.,':\n",
    "        x = x.replace('S.A.,','Sa.')\n",
    "    return x\n",
    "\n",
    "def cambiarIn(y):\n",
    "    if y[0:4] == 'Soc ':\n",
    "        y = y.replace('Soc ','Soc. ')\n",
    "    if y[0:5] == 'Serv ':\n",
    "        y = y.replace('Serv ','Serv. ')\n",
    "    if y[0:5] == 'Asoc ':\n",
    "        y = y.replace('Asoc ','Asoc. ')\n",
    "    return y\n",
    "    \n",
    "def versiesta(n):\n",
    "    emmartin['aja'] = emmartin['empresas'].str.contains(n,case=False)\n",
    "    return n"
   ]
  },
  {
   "cell_type": "code",
   "execution_count": null,
   "metadata": {},
   "outputs": [],
   "source": [
    "emmartin['empresas'].str.strip()\n",
    "emmartin['empresas'] = emmartin['empresas'].str.title()\n",
    "#em2022['empleador'] = em2022['empleador'].str.upper()\n",
    "emmartin['empresas'] = emmartin['empresas'].str.replace('Á','A')\n",
    "emmartin['empresas'] = emmartin['empresas'].str.replace('É','E')\n",
    "emmartin['empresas'] = emmartin['empresas'].str.replace('Í','I')\n",
    "emmartin['empresas'] = emmartin['empresas'].str.replace('Ó','O')\n",
    "emmartin['empresas'] = emmartin['empresas'].str.replace('Ú','U')\n",
    "emmartin['empresas'] = emmartin['empresas'].str.replace('á','a')\n",
    "emmartin['empresas'] = emmartin['empresas'].str.replace('é','e')\n",
    "emmartin['empresas'] = emmartin['empresas'].str.replace('í','i')\n",
    "emmartin['empresas'] = emmartin['empresas'].str.replace('ó','o')\n",
    "emmartin['empresas'] = emmartin['empresas'].str.replace('ú','u')\n",
    "#emmartin['empresas'] = emmartin['empresas'].apply(lambda x: cambiarSa(x))\n",
    "#emmartin['empresas'] = emmartin['empresas'].apply(lambda y: cambiarIn(y))\n",
    "\n",
    "#emmartin['empresas'] = emmartin['empresas'].str.replace('LTDA.','LTDA.')\n",
    "emmartin['empresas'] = emmartin['empresas'].str.replace('Spa','Spa.')\n",
    "emmartin['empresas'] = emmartin['empresas'].str.replace('Limitada','Ltda.')\n",
    "emmartin['empresas'] = emmartin['empresas'].str.replace('Ltda','Ltda.')\n",
    "emmartin['empresas'] = emmartin['empresas'].str.replace('S.P.A.','Spa.')\n",
    "emmartin['empresas'] = emmartin['empresas'].str.replace('Parque  Arauco S.A.','Parque Arauco S.A.')\n",
    "emmartin['empresas'] = emmartin['empresas'].str.replace('Goodyear  De Chile S.A.I.C.','Goodyear De Chile S.A.I.C.')\n",
    "emmartin['empresas'] = emmartin['empresas'].str.replace('Clalemana','Clinica Alemana')\n",
    "emmartin['empresas'] = emmartin['empresas'].str.replace('Bancochile','Banco de Chile')\n",
    "emmartin['empresas'] = emmartin['empresas'].str.replace('Bancoestado','Banco Estado')\n",
    "emmartin['empresas'] = emmartin['empresas'].str.replace('Conchaytoro','Concha y Toro')\n",
    "emmartin['empresas'] = emmartin['empresas'].str.replace('Concha y Toro','Concha y Toro')\n",
    "emmartin['empresas'] = emmartin['empresas'].str.replace('Banco Security .','Banco Security')\n",
    "\n",
    "emmartin['empresas'] = emmartin['empresas'].str.replace('Spa..','Spa.',regex=True)\n",
    "emmartin['empresas'] = emmartin['empresas'].str.replace('Ltda..','Ltda.')\n",
    "emmartin['empresas'] = emmartin['empresas'].str.replace('Ltda..','Ltda.')\n",
    "emmartin['empresas'] = emmartin['empresas'].str.replace('Saeza','Saesa')\n",
    "emmartin['empresas'] = emmartin['empresas'].str.replace('Trafigura Chile Ltda.ental','Trafigura Chile Ltda. Dental')\n",
    "emmartin['empresas'] = emmartin['empresas'].str.replace('Volvo Chile  Spa.','Volvo Chile Spa.')\n",
    "\n",
    "emmartin['empresas'] = emmartin['empresas'].str.strip()\n",
    "#emmartin['empresas'] = emmartin['empresas'].apply(lambda x: cambiarSa(x))\n",
    "#emmartin['empresas'] = emmartin['empresas'].apply(lambda y: cambiarIn(y))\n",
    "\n",
    "\n",
    "\n",
    "#emmartin['chek'] = emmartin.empresas.isin(em2022.empleador)\n"
   ]
  },
  {
   "cell_type": "code",
   "execution_count": null,
   "metadata": {},
   "outputs": [],
   "source": [
    "emmartin['empresas'] = emmartin['empresas'].apply(str)\n",
    "emmartin['empresas'] = emmartin['empresas'].apply(lambda x: cambiarSa(x))\n",
    "emmartin['empresas'] = emmartin['empresas'].apply(lambda y: cambiarIn(y))\n",
    "emmartin['empresas'] = emmartin['empresas'].apply(lambda n: versiesta(n))"
   ]
  },
  {
   "cell_type": "code",
   "execution_count": null,
   "metadata": {},
   "outputs": [],
   "source": [
    "#derty = emmartin.groupby(by = ['empresas']).value_counts()\n",
    "#derty.head()"
   ]
  },
  {
   "cell_type": "code",
   "execution_count": null,
   "metadata": {},
   "outputs": [],
   "source": [
    "ar2022 = 'C:/Users/jmartinez/Desktop/pamela/empresa_pamela.xlsx'\n",
    "emmartin.head(9)\n",
    "emmartin.to_excel(ar2022,index=False)"
   ]
  },
  {
   "cell_type": "code",
   "execution_count": null,
   "metadata": {},
   "outputs": [],
   "source": [
    "emmartin['empresas'] = emmartin['empresas'].str.replace('Spa..','Spa.',regex=True)"
   ]
  },
  {
   "cell_type": "code",
   "execution_count": null,
   "metadata": {},
   "outputs": [],
   "source": [
    "emmartin['empresas'] = emmartin['empresas'].apply(lambda n: versiesta(n))"
   ]
  },
  {
   "cell_type": "code",
   "execution_count": null,
   "metadata": {},
   "outputs": [],
   "source": [
    "emmartin.head(9)"
   ]
  }
 ],
 "metadata": {
  "kernelspec": {
   "display_name": "Python 3.10.6 ('Mito')",
   "language": "python",
   "name": "python3"
  },
  "language_info": {
   "codemirror_mode": {
    "name": "ipython",
    "version": 3
   },
   "file_extension": ".py",
   "mimetype": "text/x-python",
   "name": "python",
   "nbconvert_exporter": "python",
   "pygments_lexer": "ipython3",
   "version": "3.10.6"
  },
  "orig_nbformat": 4,
  "vscode": {
   "interpreter": {
    "hash": "8ca7c6c0b372e79d1b046e97089bf0eca059102913bf5fbce589f25f1f28c438"
   }
  }
 },
 "nbformat": 4,
 "nbformat_minor": 2
}
