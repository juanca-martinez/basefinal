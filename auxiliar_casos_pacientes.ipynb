{
 "cells": [
  {
   "cell_type": "code",
   "execution_count": null,
   "metadata": {},
   "outputs": [],
   "source": []
  },
  {
   "cell_type": "code",
   "execution_count": null,
   "metadata": {},
   "outputs": [],
   "source": [
    "#archivo sacado segun pacientes\n",
    "\n",
    "datosem = pd.merge(left=data20,right=listado_faltantes,how='left',left_on='id',right_on='contact_id')\n",
    "llave3 = datosem.value_counts(['LLave'],sort=True).to_frame()\n",
    "datosem = pd.merge(left=datosem,right=llave3, how='left', left_on='LLave', right_on='LLave')\n",
    "datoseme = 'C:/Users/jmartinez/Desktop/casos nuevos/clientes/1/pacientes_con_casosA.xlsx'\n",
    "datosem.to_excel(datoseme,index=False)\n",
    "datosem = datosem.drop_duplicates(subset = ['LLave'], keep='last')\n",
    "datoseme = 'C:/Users/jmartinez/Desktop/casos nuevos/clientes/1/pacientes_con_casosB.xlsx'\n",
    "datosem.to_excel(datoseme,index=False)\n",
    "\n",
    "\n",
    "\n"
   ]
  }
 ],
 "metadata": {
  "kernelspec": {
   "display_name": "Python 3.10.6 ('Mito')",
   "language": "python",
   "name": "python3"
  },
  "language_info": {
   "name": "python",
   "version": "3.10.6"
  },
  "orig_nbformat": 4,
  "vscode": {
   "interpreter": {
    "hash": "8ca7c6c0b372e79d1b046e97089bf0eca059102913bf5fbce589f25f1f28c438"
   }
  }
 },
 "nbformat": 4,
 "nbformat_minor": 2
}
