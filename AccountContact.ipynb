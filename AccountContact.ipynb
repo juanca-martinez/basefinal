{
 "cells": [
  {
   "cell_type": "code",
   "execution_count": 1,
   "metadata": {},
   "outputs": [],
   "source": [
    "from pathlib import Path\n",
    "import requests\n",
    "import pandas as pd\n",
    "import numpy as np\n",
    "from io import StringIO\n",
    "from simple_salesforce import Salesforce\n",
    "import shutil\n",
    "import datetime\n",
    "from datetime import date\n",
    "import json\n",
    "import re\n",
    "\n",
    "\n",
    "with open(\"login.json\", \"r\") as j:\n",
    "    misDatos = json.load(j)\n",
    "#para smart query\n",
    "\"\"\" sf = simple_salesforce.Salesforce(\n",
    "    username=misDatos[\"username\"],\n",
    "    password=misDatos[\"password\"],\n",
    "    security_token=misDatos[\"security_token\"],\n",
    ")\n",
    " \"\"\"\n",
    "#para lo demas\n",
    "sf = Salesforce(\n",
    "    username=misDatos[\"username\"],\n",
    "    password=misDatos[\"password\"],\n",
    "    security_token=misDatos[\"security_token\"],\n",
    ")\n",
    "# paramiko.util.log_to_file(\"paramiko.log\")\n",
    "regex = re.compile(r\"([A-Za-z0-9]+[.-_])*[A-Za-z0-9]+@[A-Za-z0-9-]+(\\.[A-Z|a-z]{2,})+\")"
   ]
  },
  {
   "cell_type": "code",
   "execution_count": 2,
   "metadata": {},
   "outputs": [
    {
     "data": {
      "text/plain": [
       "(1867262, 2)"
      ]
     },
     "execution_count": 2,
     "metadata": {},
     "output_type": "execute_result"
    }
   ],
   "source": [
    "results = sf.query_all(\n",
    "    \"\"\"\n",
    "    select Id, IdentificationId__pc from Account where ispersonaccount = True\n",
    "   \"\"\"\n",
    ")\n",
    "Pacientes_SF = pd.DataFrame(results[\"records\"])\n",
    "\n",
    "Pacientes_SF = Pacientes_SF[\n",
    "    [\n",
    "        \"Id\",\n",
    "        \"IdentificationId__pc\",\n",
    "    ]\n",
    "]\n",
    "Pacientes_SF = Pacientes_SF.rename(\n",
    "    columns={\n",
    "        \"Id\": \"Id Account Paciente\",\n",
    "        \"IdentificationId__pc\": \"Rut\",\n",
    "    }\n",
    ")\n",
    "Pacientes_SF.shape\n",
    "\n"
   ]
  },
  {
   "cell_type": "code",
   "execution_count": 3,
   "metadata": {},
   "outputs": [
    {
     "data": {
      "text/plain": [
       "(1867262, 2)"
      ]
     },
     "execution_count": 3,
     "metadata": {},
     "output_type": "execute_result"
    }
   ],
   "source": [
    "results = sf.query_all(\n",
    "    \"\"\"\n",
    "    select id,IdentificationId__c from Contact \n",
    "   \"\"\"\n",
    ")\n",
    "Pacientes_SF2 = pd.DataFrame(results[\"records\"])\n",
    "\n",
    "Pacientes_SF2 = Pacientes_SF2[\n",
    "    [\n",
    "        \"Id\",\n",
    "        \"IdentificationId__c\",\n",
    "    ]\n",
    "]\n",
    "Pacientes_SF2 = Pacientes_SF2.rename(\n",
    "    columns={\n",
    "        \"Id\": \"Id Contact Paciente\",\n",
    "        \"IdentificationId__c\": \"Rut\",\n",
    "    }\n",
    ")\n",
    "Pacientes_SF2.shape"
   ]
  },
  {
   "cell_type": "code",
   "execution_count": 4,
   "metadata": {},
   "outputs": [
    {
     "data": {
      "text/plain": [
       "(1867262, 3)"
      ]
     },
     "execution_count": 4,
     "metadata": {},
     "output_type": "execute_result"
    }
   ],
   "source": [
    "Pacientes_SF2 = pd.merge(\n",
    "    left=Pacientes_SF,\n",
    "    right=Pacientes_SF2,\n",
    "    how=\"left\",\n",
    "    left_on=\"Rut\",\n",
    "    right_on=\"Rut\",\n",
    ")\n",
    "Pacientes_SF2.shape"
   ]
  },
  {
   "cell_type": "code",
   "execution_count": 5,
   "metadata": {},
   "outputs": [
    {
     "data": {
      "text/html": [
       "<div>\n",
       "<style scoped>\n",
       "    .dataframe tbody tr th:only-of-type {\n",
       "        vertical-align: middle;\n",
       "    }\n",
       "\n",
       "    .dataframe tbody tr th {\n",
       "        vertical-align: top;\n",
       "    }\n",
       "\n",
       "    .dataframe thead th {\n",
       "        text-align: right;\n",
       "    }\n",
       "</style>\n",
       "<table border=\"1\" class=\"dataframe\">\n",
       "  <thead>\n",
       "    <tr style=\"text-align: right;\">\n",
       "      <th></th>\n",
       "      <th>Id Account Paciente</th>\n",
       "      <th>Rut</th>\n",
       "      <th>Id Contact Paciente</th>\n",
       "    </tr>\n",
       "  </thead>\n",
       "  <tbody>\n",
       "    <tr>\n",
       "      <th>0</th>\n",
       "      <td>0018c00002amLTMAA2</td>\n",
       "      <td>173805004</td>\n",
       "      <td>0038c000035CV93AAG</td>\n",
       "    </tr>\n",
       "    <tr>\n",
       "      <th>1</th>\n",
       "      <td>0018c00002amLUGAA2</td>\n",
       "      <td>153338949</td>\n",
       "      <td>0038c000035CV94AAG</td>\n",
       "    </tr>\n",
       "    <tr>\n",
       "      <th>2</th>\n",
       "      <td>0018c00002amLUHAA2</td>\n",
       "      <td>177735213</td>\n",
       "      <td>0038c000035CV95AAG</td>\n",
       "    </tr>\n",
       "    <tr>\n",
       "      <th>3</th>\n",
       "      <td>0018c00002amLUIAA2</td>\n",
       "      <td>169332924</td>\n",
       "      <td>0038c000035CV9zAAG</td>\n",
       "    </tr>\n",
       "    <tr>\n",
       "      <th>4</th>\n",
       "      <td>0018c00002amLUJAA2</td>\n",
       "      <td>172957692</td>\n",
       "      <td>0038c000035CVA0AAO</td>\n",
       "    </tr>\n",
       "  </tbody>\n",
       "</table>\n",
       "</div>"
      ],
      "text/plain": [
       "  Id Account Paciente        Rut Id Contact Paciente\n",
       "0  0018c00002amLTMAA2  173805004  0038c000035CV93AAG\n",
       "1  0018c00002amLUGAA2  153338949  0038c000035CV94AAG\n",
       "2  0018c00002amLUHAA2  177735213  0038c000035CV95AAG\n",
       "3  0018c00002amLUIAA2  169332924  0038c000035CV9zAAG\n",
       "4  0018c00002amLUJAA2  172957692  0038c000035CVA0AAO"
      ]
     },
     "execution_count": 5,
     "metadata": {},
     "output_type": "execute_result"
    }
   ],
   "source": [
    "Pacientes_SF2.head()"
   ]
  },
  {
   "cell_type": "code",
   "execution_count": 6,
   "metadata": {},
   "outputs": [
    {
     "data": {
      "text/plain": [
       "(1318763, 2)"
      ]
     },
     "execution_count": 6,
     "metadata": {},
     "output_type": "execute_result"
    }
   ],
   "source": [
    "results = sf.query_all(\n",
    "    \"\"\"\n",
    "    select id,Paciente__c,Programas_por_Empresas__c from Paciente_Programas__c where Programas_por_Empresas__r.Empresa__r.Estado__c <> 'Dado De Baja - Sin Servicio' \n",
    "   \"\"\"\n",
    ")\n",
    "Paciente_Programa = pd.DataFrame(results[\"records\"])\n",
    "\n",
    "Paciente_Programa = Paciente_Programa[\n",
    "    [\n",
    "        \"Paciente__c\",\n",
    "        \"Programas_por_Empresas__c\",\n",
    "    ]\n",
    "]\n",
    "Paciente_Programa = Paciente_Programa.rename(\n",
    "    columns={\n",
    "        \"Paciente__c\": \"Id paciente account\",\n",
    "        \"Programas_por_Empresas__c\": \"Programas por empresa\",\n",
    "    }\n",
    ")\n",
    "Paciente_Programa.shape"
   ]
  },
  {
   "cell_type": "code",
   "execution_count": 7,
   "metadata": {},
   "outputs": [
    {
     "data": {
      "text/html": [
       "<div>\n",
       "<style scoped>\n",
       "    .dataframe tbody tr th:only-of-type {\n",
       "        vertical-align: middle;\n",
       "    }\n",
       "\n",
       "    .dataframe tbody tr th {\n",
       "        vertical-align: top;\n",
       "    }\n",
       "\n",
       "    .dataframe thead th {\n",
       "        text-align: right;\n",
       "    }\n",
       "</style>\n",
       "<table border=\"1\" class=\"dataframe\">\n",
       "  <thead>\n",
       "    <tr style=\"text-align: right;\">\n",
       "      <th></th>\n",
       "      <th>Id paciente account</th>\n",
       "      <th>Programas por empresa</th>\n",
       "    </tr>\n",
       "  </thead>\n",
       "  <tbody>\n",
       "    <tr>\n",
       "      <th>0</th>\n",
       "      <td>0018c00002bKcB9AAK</td>\n",
       "      <td>a1W8c000007vDN8EAM</td>\n",
       "    </tr>\n",
       "    <tr>\n",
       "      <th>1</th>\n",
       "      <td>0018c00002bKcBAAA0</td>\n",
       "      <td>a1W8c000007vDN8EAM</td>\n",
       "    </tr>\n",
       "    <tr>\n",
       "      <th>2</th>\n",
       "      <td>0018c00002bKcBaAAK</td>\n",
       "      <td>a1W8c000007vDN8EAM</td>\n",
       "    </tr>\n",
       "    <tr>\n",
       "      <th>3</th>\n",
       "      <td>0018c00002bKcBBAA0</td>\n",
       "      <td>a1W8c000007vDN8EAM</td>\n",
       "    </tr>\n",
       "    <tr>\n",
       "      <th>4</th>\n",
       "      <td>0018c00002bKcBbAAK</td>\n",
       "      <td>a1W8c000007vDN8EAM</td>\n",
       "    </tr>\n",
       "  </tbody>\n",
       "</table>\n",
       "</div>"
      ],
      "text/plain": [
       "  Id paciente account Programas por empresa\n",
       "0  0018c00002bKcB9AAK    a1W8c000007vDN8EAM\n",
       "1  0018c00002bKcBAAA0    a1W8c000007vDN8EAM\n",
       "2  0018c00002bKcBaAAK    a1W8c000007vDN8EAM\n",
       "3  0018c00002bKcBBAA0    a1W8c000007vDN8EAM\n",
       "4  0018c00002bKcBbAAK    a1W8c000007vDN8EAM"
      ]
     },
     "execution_count": 7,
     "metadata": {},
     "output_type": "execute_result"
    }
   ],
   "source": [
    "Paciente_Programa.head()"
   ]
  },
  {
   "cell_type": "code",
   "execution_count": 8,
   "metadata": {},
   "outputs": [
    {
     "data": {
      "text/plain": [
       "(7629, 2)"
      ]
     },
     "execution_count": 8,
     "metadata": {},
     "output_type": "execute_result"
    }
   ],
   "source": [
    "results = sf.query_all(\n",
    "    \"\"\"\n",
    "    select Id,Empresa__c from Programas_por_Empresas__c  \n",
    "   \"\"\"\n",
    ")\n",
    "empresas = pd.DataFrame(results[\"records\"])\n",
    "\n",
    "empresas = empresas[\n",
    "    [\n",
    "        \"Id\",\n",
    "        \"Empresa__c\",\n",
    "    ]\n",
    "]\n",
    "empresas = empresas.rename(\n",
    "    columns={\n",
    "        \"Id\": \"Programas_por_Empresas__c\",\n",
    "        \"Empresa__c\": \"Id Account Empresa\",\n",
    "    }\n",
    ")\n",
    "empresas.shape\n",
    "\n",
    "\n",
    "\n"
   ]
  },
  {
   "cell_type": "code",
   "execution_count": 9,
   "metadata": {},
   "outputs": [
    {
     "data": {
      "text/plain": [
       "(7629, 2)"
      ]
     },
     "execution_count": 9,
     "metadata": {},
     "output_type": "execute_result"
    }
   ],
   "source": [
    "empresas.shape"
   ]
  },
  {
   "cell_type": "code",
   "execution_count": 10,
   "metadata": {},
   "outputs": [
    {
     "data": {
      "text/plain": [
       "(1318763, 4)"
      ]
     },
     "execution_count": 10,
     "metadata": {},
     "output_type": "execute_result"
    }
   ],
   "source": [
    "Paciente_Programa = pd.merge(\n",
    "    left=Paciente_Programa,\n",
    "    right=empresas,\n",
    "    how=\"left\",\n",
    "    left_on=\"Programas por empresa\",\n",
    "    right_on=\"Programas_por_Empresas__c\",\n",
    ")\n",
    "Paciente_Programa.shape"
   ]
  },
  {
   "cell_type": "code",
   "execution_count": 11,
   "metadata": {},
   "outputs": [
    {
     "data": {
      "text/html": [
       "<div>\n",
       "<style scoped>\n",
       "    .dataframe tbody tr th:only-of-type {\n",
       "        vertical-align: middle;\n",
       "    }\n",
       "\n",
       "    .dataframe tbody tr th {\n",
       "        vertical-align: top;\n",
       "    }\n",
       "\n",
       "    .dataframe thead th {\n",
       "        text-align: right;\n",
       "    }\n",
       "</style>\n",
       "<table border=\"1\" class=\"dataframe\">\n",
       "  <thead>\n",
       "    <tr style=\"text-align: right;\">\n",
       "      <th></th>\n",
       "      <th>Id paciente account</th>\n",
       "      <th>Programas por empresa</th>\n",
       "      <th>Programas_por_Empresas__c</th>\n",
       "      <th>Id Account Empresa</th>\n",
       "    </tr>\n",
       "  </thead>\n",
       "  <tbody>\n",
       "    <tr>\n",
       "      <th>0</th>\n",
       "      <td>0018c00002bKcB9AAK</td>\n",
       "      <td>a1W8c000007vDN8EAM</td>\n",
       "      <td>a1W8c000007vDN8EAM</td>\n",
       "      <td>0018c00002axQXrAAM</td>\n",
       "    </tr>\n",
       "    <tr>\n",
       "      <th>1</th>\n",
       "      <td>0018c00002bKcBAAA0</td>\n",
       "      <td>a1W8c000007vDN8EAM</td>\n",
       "      <td>a1W8c000007vDN8EAM</td>\n",
       "      <td>0018c00002axQXrAAM</td>\n",
       "    </tr>\n",
       "    <tr>\n",
       "      <th>2</th>\n",
       "      <td>0018c00002bKcBaAAK</td>\n",
       "      <td>a1W8c000007vDN8EAM</td>\n",
       "      <td>a1W8c000007vDN8EAM</td>\n",
       "      <td>0018c00002axQXrAAM</td>\n",
       "    </tr>\n",
       "    <tr>\n",
       "      <th>3</th>\n",
       "      <td>0018c00002bKcBBAA0</td>\n",
       "      <td>a1W8c000007vDN8EAM</td>\n",
       "      <td>a1W8c000007vDN8EAM</td>\n",
       "      <td>0018c00002axQXrAAM</td>\n",
       "    </tr>\n",
       "    <tr>\n",
       "      <th>4</th>\n",
       "      <td>0018c00002bKcBbAAK</td>\n",
       "      <td>a1W8c000007vDN8EAM</td>\n",
       "      <td>a1W8c000007vDN8EAM</td>\n",
       "      <td>0018c00002axQXrAAM</td>\n",
       "    </tr>\n",
       "  </tbody>\n",
       "</table>\n",
       "</div>"
      ],
      "text/plain": [
       "  Id paciente account Programas por empresa Programas_por_Empresas__c  \\\n",
       "0  0018c00002bKcB9AAK    a1W8c000007vDN8EAM        a1W8c000007vDN8EAM   \n",
       "1  0018c00002bKcBAAA0    a1W8c000007vDN8EAM        a1W8c000007vDN8EAM   \n",
       "2  0018c00002bKcBaAAK    a1W8c000007vDN8EAM        a1W8c000007vDN8EAM   \n",
       "3  0018c00002bKcBBAA0    a1W8c000007vDN8EAM        a1W8c000007vDN8EAM   \n",
       "4  0018c00002bKcBbAAK    a1W8c000007vDN8EAM        a1W8c000007vDN8EAM   \n",
       "\n",
       "   Id Account Empresa  \n",
       "0  0018c00002axQXrAAM  \n",
       "1  0018c00002axQXrAAM  \n",
       "2  0018c00002axQXrAAM  \n",
       "3  0018c00002axQXrAAM  \n",
       "4  0018c00002axQXrAAM  "
      ]
     },
     "execution_count": 11,
     "metadata": {},
     "output_type": "execute_result"
    }
   ],
   "source": [
    "Paciente_Programa.head()"
   ]
  },
  {
   "cell_type": "code",
   "execution_count": 12,
   "metadata": {},
   "outputs": [],
   "source": [
    "results = sf.query_all(\n",
    "    \"\"\"\n",
    "    select AccountId, ContactId from AccountContactRelation \n",
    "   \"\"\"\n",
    ")\n",
    "accountcontact = pd.DataFrame(results[\"records\"])\n",
    "\n",
    "accountcontact = accountcontact[\n",
    "    [\n",
    "        \"AccountId\",\n",
    "        \"ContactId\",\n",
    "    ]\n",
    "]\n",
    "accountcontact = accountcontact.rename(\n",
    "    columns={\n",
    "        \"AccountId\": \"Id account\",\n",
    "        \"ContactId\": \"id contacto\",\n",
    "    }\n",
    ")\n",
    "accountcontact.shape"
   ]
  },
  {
   "cell_type": "code",
   "execution_count": null,
   "metadata": {},
   "outputs": [],
   "source": [
    "accountcontact['LLave'] = accountcontact['id contacto'] + accountcontact['Id account'] \n",
    "accountcontact.head()"
   ]
  },
  {
   "cell_type": "code",
   "execution_count": null,
   "metadata": {},
   "outputs": [],
   "source": [
    "accountcontact.shape"
   ]
  },
  {
   "cell_type": "code",
   "execution_count": null,
   "metadata": {},
   "outputs": [],
   "source": [
    "Paciente_Programa.head()"
   ]
  },
  {
   "cell_type": "code",
   "execution_count": null,
   "metadata": {},
   "outputs": [],
   "source": [
    "Paciente_Programa.shape"
   ]
  },
  {
   "cell_type": "code",
   "execution_count": null,
   "metadata": {},
   "outputs": [],
   "source": [
    "Pacientes_SF2.head()"
   ]
  },
  {
   "cell_type": "code",
   "execution_count": null,
   "metadata": {},
   "outputs": [],
   "source": [
    "Pacientes_SF2.shape"
   ]
  },
  {
   "cell_type": "code",
   "execution_count": null,
   "metadata": {},
   "outputs": [],
   "source": [
    "programa_paciente = pd.merge(\n",
    "    left=Paciente_Programa,\n",
    "    right=Pacientes_SF2,\n",
    "    how=\"left\",\n",
    "    left_on=\"Id paciente account\",\n",
    "    right_on=\"Id Account Paciente\",\n",
    ")\n",
    "programa_paciente.shape"
   ]
  },
  {
   "cell_type": "code",
   "execution_count": null,
   "metadata": {},
   "outputs": [],
   "source": [
    "programa_paciente.head()"
   ]
  },
  {
   "cell_type": "code",
   "execution_count": null,
   "metadata": {},
   "outputs": [],
   "source": [
    "programa_paciente.shape"
   ]
  },
  {
   "cell_type": "code",
   "execution_count": null,
   "metadata": {},
   "outputs": [],
   "source": [
    "programa_paciente = programa_paciente[\n",
    "    [\n",
    "        \"Id Contact Paciente\",\n",
    "        \"Id Account Empresa\",\n",
    "    ]\n",
    "]\n",
    "programa_paciente['LLave'] = programa_paciente['Id Contact Paciente'] + programa_paciente['Id Account Empresa']\n",
    "programa_paciente = programa_paciente.rename(\n",
    "    columns={\n",
    "        \"Id Contact Paciente\": \"ContactId\",\n",
    "        \"Id Account Empresa\": \"AccountId\",\n",
    "    }\n",
    ")\n",
    "programa_paciente.head()"
   ]
  },
  {
   "cell_type": "markdown",
   "metadata": {},
   "source": []
  },
  {
   "cell_type": "code",
   "execution_count": null,
   "metadata": {},
   "outputs": [],
   "source": [
    "programa_paciente.shape"
   ]
  },
  {
   "cell_type": "code",
   "execution_count": null,
   "metadata": {},
   "outputs": [],
   "source": [
    "programa_paciente[\"RutEstaoNo\"] = programa_paciente[\"LLave\"].isin(accountcontact['LLave'])\n",
    "programa_paciente.shape"
   ]
  },
  {
   "cell_type": "code",
   "execution_count": null,
   "metadata": {},
   "outputs": [],
   "source": [
    "programa_paciente.head()\n"
   ]
  },
  {
   "cell_type": "code",
   "execution_count": null,
   "metadata": {},
   "outputs": [],
   "source": [
    "programa_paciente1 = programa_paciente[programa_paciente[\"RutEstaoNo\"] == False] "
   ]
  },
  {
   "cell_type": "markdown",
   "metadata": {},
   "source": []
  },
  {
   "cell_type": "code",
   "execution_count": null,
   "metadata": {},
   "outputs": [],
   "source": [
    "accountcontact[\"RutEstaoNo\"] = accountcontact[\"LLave\"].isin(programa_paciente['LLave'])\n",
    "accountcontact1 = accountcontact[accountcontact[\"RutEstaoNo\"] == False]\n",
    "accountcontact1.head()\n"
   ]
  },
  {
   "cell_type": "code",
   "execution_count": null,
   "metadata": {},
   "outputs": [],
   "source": [
    "accountcontact.shape"
   ]
  },
  {
   "cell_type": "code",
   "execution_count": null,
   "metadata": {},
   "outputs": [],
   "source": [
    "programa_paciente1 = programa_paciente1.drop_duplicates(['LLave'], keep='last')\n",
    "programa_paciente1.shape"
   ]
  },
  {
   "cell_type": "code",
   "execution_count": null,
   "metadata": {},
   "outputs": [],
   "source": [
    "programa_paciente1.to_excel(\"F:/Empresas SF/reportes/accountcontact.xlsx\", index=False)\n",
    "#accountcontact1.to_excel(\"F:/Empresas SF/reportes/accountcontact1.xlsx\", index=False)"
   ]
  }
 ],
 "metadata": {
  "kernelspec": {
   "display_name": "salesforce",
   "language": "python",
   "name": "python3"
  },
  "language_info": {
   "codemirror_mode": {
    "name": "ipython",
    "version": 3
   },
   "file_extension": ".py",
   "mimetype": "text/x-python",
   "name": "python",
   "nbconvert_exporter": "python",
   "pygments_lexer": "ipython3",
   "version": "3.8.16"
  },
  "orig_nbformat": 4
 },
 "nbformat": 4,
 "nbformat_minor": 2
}
