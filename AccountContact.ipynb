{
 "cells": [
  {
   "cell_type": "code",
   "execution_count": 1,
   "metadata": {},
   "outputs": [],
   "source": [
    "from pathlib import Path\n",
    "import requests\n",
    "import pandas as pd\n",
    "import numpy as np\n",
    "from io import StringIO\n",
    "from simple_salesforce import Salesforce\n",
    "import shutil\n",
    "import datetime\n",
    "from datetime import date\n",
    "\n",
    "\n",
    "sf = Salesforce(\n",
    "    username=\"jmartinez@careassistance.com\",\n",
    "    password=\"Jcmm01041983*\",\n",
    "    security_token=\"dxbNevVOmgmoQS4Zllh3DpNDj\",\n",
    ")"
   ]
  },
  {
   "cell_type": "code",
   "execution_count": 2,
   "metadata": {},
   "outputs": [
    {
     "ename": "KeyboardInterrupt",
     "evalue": "",
     "output_type": "error",
     "traceback": [
      "\u001b[1;31m---------------------------------------------------------------------------\u001b[0m",
      "\u001b[1;31mTypeError\u001b[0m                                 Traceback (most recent call last)",
      "File \u001b[1;32mc:\\Users\\jmartinez\\.conda\\envs\\salesforce\\lib\\site-packages\\urllib3\\connectionpool.py:377\u001b[0m, in \u001b[0;36mHTTPConnectionPool._make_request\u001b[1;34m(self, conn, method, url, timeout, chunked, **httplib_request_kw)\u001b[0m\n\u001b[0;32m    376\u001b[0m \u001b[39mtry\u001b[39;00m:  \u001b[39m# Python 2.7, use buffering of HTTP responses\u001b[39;00m\n\u001b[1;32m--> 377\u001b[0m     httplib_response \u001b[39m=\u001b[39m conn\u001b[39m.\u001b[39;49mgetresponse(buffering\u001b[39m=\u001b[39;49m\u001b[39mTrue\u001b[39;49;00m)\n\u001b[0;32m    378\u001b[0m \u001b[39mexcept\u001b[39;00m \u001b[39mTypeError\u001b[39;00m:  \u001b[39m# Python 3\u001b[39;00m\n",
      "\u001b[1;31mTypeError\u001b[0m: getresponse() got an unexpected keyword argument 'buffering'",
      "\nDuring handling of the above exception, another exception occurred:\n",
      "\u001b[1;31mKeyboardInterrupt\u001b[0m                         Traceback (most recent call last)",
      "\u001b[1;32mc:\\Users\\jmartinez\\Desktop\\basefinal\\AccountContact.ipynb Celda 2\u001b[0m line \u001b[0;36m1\n\u001b[1;32m----> <a href='vscode-notebook-cell:/c%3A/Users/jmartinez/Desktop/basefinal/AccountContact.ipynb#W1sZmlsZQ%3D%3D?line=0'>1</a>\u001b[0m results \u001b[39m=\u001b[39m sf\u001b[39m.\u001b[39;49mquery_all(\n\u001b[0;32m      <a href='vscode-notebook-cell:/c%3A/Users/jmartinez/Desktop/basefinal/AccountContact.ipynb#W1sZmlsZQ%3D%3D?line=1'>2</a>\u001b[0m \u001b[39m    \u001b[39;49m\u001b[39m\"\"\"\u001b[39;49;00m\n\u001b[0;32m      <a href='vscode-notebook-cell:/c%3A/Users/jmartinez/Desktop/basefinal/AccountContact.ipynb#W1sZmlsZQ%3D%3D?line=2'>3</a>\u001b[0m \u001b[39m    select Id, IdentificationId__pc from Account where ispersonaccount = True\u001b[39;49;00m\n\u001b[0;32m      <a href='vscode-notebook-cell:/c%3A/Users/jmartinez/Desktop/basefinal/AccountContact.ipynb#W1sZmlsZQ%3D%3D?line=3'>4</a>\u001b[0m \u001b[39m   \"\"\"\u001b[39;49;00m\n\u001b[0;32m      <a href='vscode-notebook-cell:/c%3A/Users/jmartinez/Desktop/basefinal/AccountContact.ipynb#W1sZmlsZQ%3D%3D?line=4'>5</a>\u001b[0m )\n\u001b[0;32m      <a href='vscode-notebook-cell:/c%3A/Users/jmartinez/Desktop/basefinal/AccountContact.ipynb#W1sZmlsZQ%3D%3D?line=5'>6</a>\u001b[0m Pacientes_SF \u001b[39m=\u001b[39m pd\u001b[39m.\u001b[39mDataFrame(results[\u001b[39m\"\u001b[39m\u001b[39mrecords\u001b[39m\u001b[39m\"\u001b[39m])\n\u001b[0;32m      <a href='vscode-notebook-cell:/c%3A/Users/jmartinez/Desktop/basefinal/AccountContact.ipynb#W1sZmlsZQ%3D%3D?line=7'>8</a>\u001b[0m Pacientes_SF \u001b[39m=\u001b[39m Pacientes_SF[\n\u001b[0;32m      <a href='vscode-notebook-cell:/c%3A/Users/jmartinez/Desktop/basefinal/AccountContact.ipynb#W1sZmlsZQ%3D%3D?line=8'>9</a>\u001b[0m     [\n\u001b[0;32m     <a href='vscode-notebook-cell:/c%3A/Users/jmartinez/Desktop/basefinal/AccountContact.ipynb#W1sZmlsZQ%3D%3D?line=9'>10</a>\u001b[0m         \u001b[39m\"\u001b[39m\u001b[39mId\u001b[39m\u001b[39m\"\u001b[39m,\n\u001b[0;32m     <a href='vscode-notebook-cell:/c%3A/Users/jmartinez/Desktop/basefinal/AccountContact.ipynb#W1sZmlsZQ%3D%3D?line=10'>11</a>\u001b[0m         \u001b[39m\"\u001b[39m\u001b[39mIdentificationId__pc\u001b[39m\u001b[39m\"\u001b[39m,\n\u001b[0;32m     <a href='vscode-notebook-cell:/c%3A/Users/jmartinez/Desktop/basefinal/AccountContact.ipynb#W1sZmlsZQ%3D%3D?line=11'>12</a>\u001b[0m     ]\n\u001b[0;32m     <a href='vscode-notebook-cell:/c%3A/Users/jmartinez/Desktop/basefinal/AccountContact.ipynb#W1sZmlsZQ%3D%3D?line=12'>13</a>\u001b[0m ]\n",
      "File \u001b[1;32mc:\\Users\\jmartinez\\.conda\\envs\\salesforce\\lib\\site-packages\\simple_salesforce\\api.py:467\u001b[0m, in \u001b[0;36mSalesforce.query_all\u001b[1;34m(self, query, include_deleted, **kwargs)\u001b[0m\n\u001b[0;32m    449\u001b[0m \u001b[39m\u001b[39m\u001b[39m\"\"\"Returns the full set of results for the `query`. This is a\u001b[39;00m\n\u001b[0;32m    450\u001b[0m \u001b[39mconvenience\u001b[39;00m\n\u001b[0;32m    451\u001b[0m \u001b[39mwrapper around `query(...)` and `query_more(...)`.\u001b[39;00m\n\u001b[1;32m   (...)\u001b[0m\n\u001b[0;32m    462\u001b[0m \u001b[39m* include_deleted -- True if the query should include deleted records.\u001b[39;00m\n\u001b[0;32m    463\u001b[0m \u001b[39m\"\"\"\u001b[39;00m\n\u001b[0;32m    465\u001b[0m records \u001b[39m=\u001b[39m \u001b[39mself\u001b[39m\u001b[39m.\u001b[39mquery_all_iter(query, include_deleted\u001b[39m=\u001b[39minclude_deleted,\n\u001b[0;32m    466\u001b[0m                               \u001b[39m*\u001b[39m\u001b[39m*\u001b[39mkwargs)\n\u001b[1;32m--> 467\u001b[0m all_records \u001b[39m=\u001b[39m \u001b[39mlist\u001b[39;49m(records)\n\u001b[0;32m    468\u001b[0m \u001b[39mreturn\u001b[39;00m {\n\u001b[0;32m    469\u001b[0m     \u001b[39m'\u001b[39m\u001b[39mrecords\u001b[39m\u001b[39m'\u001b[39m: all_records,\n\u001b[0;32m    470\u001b[0m     \u001b[39m'\u001b[39m\u001b[39mtotalSize\u001b[39m\u001b[39m'\u001b[39m: \u001b[39mlen\u001b[39m(all_records),\n\u001b[0;32m    471\u001b[0m     \u001b[39m'\u001b[39m\u001b[39mdone\u001b[39m\u001b[39m'\u001b[39m: \u001b[39mTrue\u001b[39;00m,\n\u001b[0;32m    472\u001b[0m }\n",
      "File \u001b[1;32mc:\\Users\\jmartinez\\.conda\\envs\\salesforce\\lib\\site-packages\\simple_salesforce\\api.py:443\u001b[0m, in \u001b[0;36mSalesforce.query_all_iter\u001b[1;34m(self, query, include_deleted, **kwargs)\u001b[0m\n\u001b[0;32m    441\u001b[0m \u001b[39m# fetch next batch if we're not done else break out of loop\u001b[39;00m\n\u001b[0;32m    442\u001b[0m \u001b[39mif\u001b[39;00m \u001b[39mnot\u001b[39;00m result[\u001b[39m'\u001b[39m\u001b[39mdone\u001b[39m\u001b[39m'\u001b[39m]:\n\u001b[1;32m--> 443\u001b[0m     result \u001b[39m=\u001b[39m \u001b[39mself\u001b[39;49m\u001b[39m.\u001b[39;49mquery_more(result[\u001b[39m'\u001b[39;49m\u001b[39mnextRecordsUrl\u001b[39;49m\u001b[39m'\u001b[39;49m],\n\u001b[0;32m    444\u001b[0m                              identifier_is_url\u001b[39m=\u001b[39;49m\u001b[39mTrue\u001b[39;49;00m)\n\u001b[0;32m    445\u001b[0m \u001b[39melse\u001b[39;00m:\n\u001b[0;32m    446\u001b[0m     \u001b[39mreturn\u001b[39;00m\n",
      "File \u001b[1;32mc:\\Users\\jmartinez\\.conda\\envs\\salesforce\\lib\\site-packages\\simple_salesforce\\api.py:413\u001b[0m, in \u001b[0;36mSalesforce.query_more\u001b[1;34m(self, next_records_identifier, identifier_is_url, include_deleted, **kwargs)\u001b[0m\n\u001b[0;32m    410\u001b[0m     url \u001b[39m=\u001b[39m \u001b[39mself\u001b[39m\u001b[39m.\u001b[39mbase_url \u001b[39m+\u001b[39m \u001b[39m'\u001b[39m\u001b[39m{query_endpoint}\u001b[39;00m\u001b[39m/\u001b[39m\u001b[39m{next_record_id}\u001b[39;00m\u001b[39m'\u001b[39m\n\u001b[0;32m    411\u001b[0m     url \u001b[39m=\u001b[39m url\u001b[39m.\u001b[39mformat(query_endpoint\u001b[39m=\u001b[39mendpoint,\n\u001b[0;32m    412\u001b[0m                      next_record_id\u001b[39m=\u001b[39mnext_records_identifier)\n\u001b[1;32m--> 413\u001b[0m result \u001b[39m=\u001b[39m \u001b[39mself\u001b[39;49m\u001b[39m.\u001b[39;49m_call_salesforce(\u001b[39m'\u001b[39;49m\u001b[39mGET\u001b[39;49m\u001b[39m'\u001b[39;49m, url, name\u001b[39m=\u001b[39;49m\u001b[39m'\u001b[39;49m\u001b[39mquery_more\u001b[39;49m\u001b[39m'\u001b[39;49m, \u001b[39m*\u001b[39;49m\u001b[39m*\u001b[39;49mkwargs)\n\u001b[0;32m    415\u001b[0m \u001b[39mreturn\u001b[39;00m result\u001b[39m.\u001b[39mjson(object_pairs_hook\u001b[39m=\u001b[39mOrderedDict)\n",
      "File \u001b[1;32mc:\\Users\\jmartinez\\.conda\\envs\\salesforce\\lib\\site-packages\\simple_salesforce\\api.py:537\u001b[0m, in \u001b[0;36mSalesforce._call_salesforce\u001b[1;34m(self, method, url, name, **kwargs)\u001b[0m\n\u001b[0;32m    534\u001b[0m additional_headers \u001b[39m=\u001b[39m kwargs\u001b[39m.\u001b[39mpop(\u001b[39m'\u001b[39m\u001b[39mheaders\u001b[39m\u001b[39m'\u001b[39m, \u001b[39mdict\u001b[39m())\n\u001b[0;32m    535\u001b[0m headers\u001b[39m.\u001b[39mupdate(additional_headers)\n\u001b[1;32m--> 537\u001b[0m result \u001b[39m=\u001b[39m \u001b[39mself\u001b[39;49m\u001b[39m.\u001b[39;49msession\u001b[39m.\u001b[39;49mrequest(\n\u001b[0;32m    538\u001b[0m     method, url, headers\u001b[39m=\u001b[39;49mheaders, \u001b[39m*\u001b[39;49m\u001b[39m*\u001b[39;49mkwargs)\n\u001b[0;32m    540\u001b[0m \u001b[39mif\u001b[39;00m result\u001b[39m.\u001b[39mstatus_code \u001b[39m>\u001b[39m\u001b[39m=\u001b[39m \u001b[39m300\u001b[39m:\n\u001b[0;32m    541\u001b[0m     exception_handler(result, name\u001b[39m=\u001b[39mname)\n",
      "File \u001b[1;32mc:\\Users\\jmartinez\\.conda\\envs\\salesforce\\lib\\site-packages\\requests\\sessions.py:589\u001b[0m, in \u001b[0;36mSession.request\u001b[1;34m(self, method, url, params, data, headers, cookies, files, auth, timeout, allow_redirects, proxies, hooks, stream, verify, cert, json)\u001b[0m\n\u001b[0;32m    584\u001b[0m send_kwargs \u001b[39m=\u001b[39m {\n\u001b[0;32m    585\u001b[0m     \u001b[39m\"\u001b[39m\u001b[39mtimeout\u001b[39m\u001b[39m\"\u001b[39m: timeout,\n\u001b[0;32m    586\u001b[0m     \u001b[39m\"\u001b[39m\u001b[39mallow_redirects\u001b[39m\u001b[39m\"\u001b[39m: allow_redirects,\n\u001b[0;32m    587\u001b[0m }\n\u001b[0;32m    588\u001b[0m send_kwargs\u001b[39m.\u001b[39mupdate(settings)\n\u001b[1;32m--> 589\u001b[0m resp \u001b[39m=\u001b[39m \u001b[39mself\u001b[39;49m\u001b[39m.\u001b[39;49msend(prep, \u001b[39m*\u001b[39;49m\u001b[39m*\u001b[39;49msend_kwargs)\n\u001b[0;32m    591\u001b[0m \u001b[39mreturn\u001b[39;00m resp\n",
      "File \u001b[1;32mc:\\Users\\jmartinez\\.conda\\envs\\salesforce\\lib\\site-packages\\requests\\sessions.py:703\u001b[0m, in \u001b[0;36mSession.send\u001b[1;34m(self, request, **kwargs)\u001b[0m\n\u001b[0;32m    700\u001b[0m start \u001b[39m=\u001b[39m preferred_clock()\n\u001b[0;32m    702\u001b[0m \u001b[39m# Send the request\u001b[39;00m\n\u001b[1;32m--> 703\u001b[0m r \u001b[39m=\u001b[39m adapter\u001b[39m.\u001b[39;49msend(request, \u001b[39m*\u001b[39;49m\u001b[39m*\u001b[39;49mkwargs)\n\u001b[0;32m    705\u001b[0m \u001b[39m# Total elapsed time of the request (approximately)\u001b[39;00m\n\u001b[0;32m    706\u001b[0m elapsed \u001b[39m=\u001b[39m preferred_clock() \u001b[39m-\u001b[39m start\n",
      "File \u001b[1;32mc:\\Users\\jmartinez\\.conda\\envs\\salesforce\\lib\\site-packages\\requests\\adapters.py:486\u001b[0m, in \u001b[0;36mHTTPAdapter.send\u001b[1;34m(self, request, stream, timeout, verify, cert, proxies)\u001b[0m\n\u001b[0;32m    483\u001b[0m     timeout \u001b[39m=\u001b[39m TimeoutSauce(connect\u001b[39m=\u001b[39mtimeout, read\u001b[39m=\u001b[39mtimeout)\n\u001b[0;32m    485\u001b[0m \u001b[39mtry\u001b[39;00m:\n\u001b[1;32m--> 486\u001b[0m     resp \u001b[39m=\u001b[39m conn\u001b[39m.\u001b[39;49murlopen(\n\u001b[0;32m    487\u001b[0m         method\u001b[39m=\u001b[39;49mrequest\u001b[39m.\u001b[39;49mmethod,\n\u001b[0;32m    488\u001b[0m         url\u001b[39m=\u001b[39;49murl,\n\u001b[0;32m    489\u001b[0m         body\u001b[39m=\u001b[39;49mrequest\u001b[39m.\u001b[39;49mbody,\n\u001b[0;32m    490\u001b[0m         headers\u001b[39m=\u001b[39;49mrequest\u001b[39m.\u001b[39;49mheaders,\n\u001b[0;32m    491\u001b[0m         redirect\u001b[39m=\u001b[39;49m\u001b[39mFalse\u001b[39;49;00m,\n\u001b[0;32m    492\u001b[0m         assert_same_host\u001b[39m=\u001b[39;49m\u001b[39mFalse\u001b[39;49;00m,\n\u001b[0;32m    493\u001b[0m         preload_content\u001b[39m=\u001b[39;49m\u001b[39mFalse\u001b[39;49;00m,\n\u001b[0;32m    494\u001b[0m         decode_content\u001b[39m=\u001b[39;49m\u001b[39mFalse\u001b[39;49;00m,\n\u001b[0;32m    495\u001b[0m         retries\u001b[39m=\u001b[39;49m\u001b[39mself\u001b[39;49m\u001b[39m.\u001b[39;49mmax_retries,\n\u001b[0;32m    496\u001b[0m         timeout\u001b[39m=\u001b[39;49mtimeout,\n\u001b[0;32m    497\u001b[0m         chunked\u001b[39m=\u001b[39;49mchunked,\n\u001b[0;32m    498\u001b[0m     )\n\u001b[0;32m    500\u001b[0m \u001b[39mexcept\u001b[39;00m (ProtocolError, \u001b[39mOSError\u001b[39;00m) \u001b[39mas\u001b[39;00m err:\n\u001b[0;32m    501\u001b[0m     \u001b[39mraise\u001b[39;00m \u001b[39mConnectionError\u001b[39;00m(err, request\u001b[39m=\u001b[39mrequest)\n",
      "File \u001b[1;32mc:\\Users\\jmartinez\\.conda\\envs\\salesforce\\lib\\site-packages\\urllib3\\connectionpool.py:597\u001b[0m, in \u001b[0;36mHTTPConnectionPool.urlopen\u001b[1;34m(self, method, url, body, headers, retries, redirect, assert_same_host, timeout, pool_timeout, release_conn, chunked, body_pos, **response_kw)\u001b[0m\n\u001b[0;32m    594\u001b[0m     \u001b[39mself\u001b[39m\u001b[39m.\u001b[39m_prepare_proxy(conn)\n\u001b[0;32m    596\u001b[0m \u001b[39m# Make the request on the httplib connection object.\u001b[39;00m\n\u001b[1;32m--> 597\u001b[0m httplib_response \u001b[39m=\u001b[39m \u001b[39mself\u001b[39;49m\u001b[39m.\u001b[39;49m_make_request(conn, method, url,\n\u001b[0;32m    598\u001b[0m                                       timeout\u001b[39m=\u001b[39;49mtimeout_obj,\n\u001b[0;32m    599\u001b[0m                                       body\u001b[39m=\u001b[39;49mbody, headers\u001b[39m=\u001b[39;49mheaders,\n\u001b[0;32m    600\u001b[0m                                       chunked\u001b[39m=\u001b[39;49mchunked)\n\u001b[0;32m    602\u001b[0m \u001b[39m# If we're going to release the connection in ``finally:``, then\u001b[39;00m\n\u001b[0;32m    603\u001b[0m \u001b[39m# the response doesn't need to know about the connection. Otherwise\u001b[39;00m\n\u001b[0;32m    604\u001b[0m \u001b[39m# it will also try to release it and we'll have a double-release\u001b[39;00m\n\u001b[0;32m    605\u001b[0m \u001b[39m# mess.\u001b[39;00m\n\u001b[0;32m    606\u001b[0m response_conn \u001b[39m=\u001b[39m conn \u001b[39mif\u001b[39;00m \u001b[39mnot\u001b[39;00m release_conn \u001b[39melse\u001b[39;00m \u001b[39mNone\u001b[39;00m\n",
      "File \u001b[1;32mc:\\Users\\jmartinez\\.conda\\envs\\salesforce\\lib\\site-packages\\urllib3\\connectionpool.py:380\u001b[0m, in \u001b[0;36mHTTPConnectionPool._make_request\u001b[1;34m(self, conn, method, url, timeout, chunked, **httplib_request_kw)\u001b[0m\n\u001b[0;32m    378\u001b[0m \u001b[39mexcept\u001b[39;00m \u001b[39mTypeError\u001b[39;00m:  \u001b[39m# Python 3\u001b[39;00m\n\u001b[0;32m    379\u001b[0m     \u001b[39mtry\u001b[39;00m:\n\u001b[1;32m--> 380\u001b[0m         httplib_response \u001b[39m=\u001b[39m conn\u001b[39m.\u001b[39;49mgetresponse()\n\u001b[0;32m    381\u001b[0m     \u001b[39mexcept\u001b[39;00m \u001b[39mException\u001b[39;00m \u001b[39mas\u001b[39;00m e:\n\u001b[0;32m    382\u001b[0m         \u001b[39m# Remove the TypeError from the exception chain in Python 3;\u001b[39;00m\n\u001b[0;32m    383\u001b[0m         \u001b[39m# otherwise it looks like a programming error was the cause.\u001b[39;00m\n\u001b[0;32m    384\u001b[0m         six\u001b[39m.\u001b[39mraise_from(e, \u001b[39mNone\u001b[39;00m)\n",
      "File \u001b[1;32mc:\\Users\\jmartinez\\.conda\\envs\\salesforce\\lib\\http\\client.py:1348\u001b[0m, in \u001b[0;36mHTTPConnection.getresponse\u001b[1;34m(self)\u001b[0m\n\u001b[0;32m   1346\u001b[0m \u001b[39mtry\u001b[39;00m:\n\u001b[0;32m   1347\u001b[0m     \u001b[39mtry\u001b[39;00m:\n\u001b[1;32m-> 1348\u001b[0m         response\u001b[39m.\u001b[39;49mbegin()\n\u001b[0;32m   1349\u001b[0m     \u001b[39mexcept\u001b[39;00m \u001b[39mConnectionError\u001b[39;00m:\n\u001b[0;32m   1350\u001b[0m         \u001b[39mself\u001b[39m\u001b[39m.\u001b[39mclose()\n",
      "File \u001b[1;32mc:\\Users\\jmartinez\\.conda\\envs\\salesforce\\lib\\http\\client.py:316\u001b[0m, in \u001b[0;36mHTTPResponse.begin\u001b[1;34m(self)\u001b[0m\n\u001b[0;32m    314\u001b[0m \u001b[39m# read until we get a non-100 response\u001b[39;00m\n\u001b[0;32m    315\u001b[0m \u001b[39mwhile\u001b[39;00m \u001b[39mTrue\u001b[39;00m:\n\u001b[1;32m--> 316\u001b[0m     version, status, reason \u001b[39m=\u001b[39m \u001b[39mself\u001b[39;49m\u001b[39m.\u001b[39;49m_read_status()\n\u001b[0;32m    317\u001b[0m     \u001b[39mif\u001b[39;00m status \u001b[39m!=\u001b[39m CONTINUE:\n\u001b[0;32m    318\u001b[0m         \u001b[39mbreak\u001b[39;00m\n",
      "File \u001b[1;32mc:\\Users\\jmartinez\\.conda\\envs\\salesforce\\lib\\http\\client.py:277\u001b[0m, in \u001b[0;36mHTTPResponse._read_status\u001b[1;34m(self)\u001b[0m\n\u001b[0;32m    276\u001b[0m \u001b[39mdef\u001b[39;00m \u001b[39m_read_status\u001b[39m(\u001b[39mself\u001b[39m):\n\u001b[1;32m--> 277\u001b[0m     line \u001b[39m=\u001b[39m \u001b[39mstr\u001b[39m(\u001b[39mself\u001b[39;49m\u001b[39m.\u001b[39;49mfp\u001b[39m.\u001b[39;49mreadline(_MAXLINE \u001b[39m+\u001b[39;49m \u001b[39m1\u001b[39;49m), \u001b[39m\"\u001b[39m\u001b[39miso-8859-1\u001b[39m\u001b[39m\"\u001b[39m)\n\u001b[0;32m    278\u001b[0m     \u001b[39mif\u001b[39;00m \u001b[39mlen\u001b[39m(line) \u001b[39m>\u001b[39m _MAXLINE:\n\u001b[0;32m    279\u001b[0m         \u001b[39mraise\u001b[39;00m LineTooLong(\u001b[39m\"\u001b[39m\u001b[39mstatus line\u001b[39m\u001b[39m\"\u001b[39m)\n",
      "File \u001b[1;32mc:\\Users\\jmartinez\\.conda\\envs\\salesforce\\lib\\socket.py:669\u001b[0m, in \u001b[0;36mSocketIO.readinto\u001b[1;34m(self, b)\u001b[0m\n\u001b[0;32m    667\u001b[0m \u001b[39mwhile\u001b[39;00m \u001b[39mTrue\u001b[39;00m:\n\u001b[0;32m    668\u001b[0m     \u001b[39mtry\u001b[39;00m:\n\u001b[1;32m--> 669\u001b[0m         \u001b[39mreturn\u001b[39;00m \u001b[39mself\u001b[39;49m\u001b[39m.\u001b[39;49m_sock\u001b[39m.\u001b[39;49mrecv_into(b)\n\u001b[0;32m    670\u001b[0m     \u001b[39mexcept\u001b[39;00m timeout:\n\u001b[0;32m    671\u001b[0m         \u001b[39mself\u001b[39m\u001b[39m.\u001b[39m_timeout_occurred \u001b[39m=\u001b[39m \u001b[39mTrue\u001b[39;00m\n",
      "File \u001b[1;32mc:\\Users\\jmartinez\\.conda\\envs\\salesforce\\lib\\ssl.py:1241\u001b[0m, in \u001b[0;36mSSLSocket.recv_into\u001b[1;34m(self, buffer, nbytes, flags)\u001b[0m\n\u001b[0;32m   1237\u001b[0m     \u001b[39mif\u001b[39;00m flags \u001b[39m!=\u001b[39m \u001b[39m0\u001b[39m:\n\u001b[0;32m   1238\u001b[0m         \u001b[39mraise\u001b[39;00m \u001b[39mValueError\u001b[39;00m(\n\u001b[0;32m   1239\u001b[0m           \u001b[39m\"\u001b[39m\u001b[39mnon-zero flags not allowed in calls to recv_into() on \u001b[39m\u001b[39m%s\u001b[39;00m\u001b[39m\"\u001b[39m \u001b[39m%\u001b[39m\n\u001b[0;32m   1240\u001b[0m           \u001b[39mself\u001b[39m\u001b[39m.\u001b[39m\u001b[39m__class__\u001b[39m)\n\u001b[1;32m-> 1241\u001b[0m     \u001b[39mreturn\u001b[39;00m \u001b[39mself\u001b[39;49m\u001b[39m.\u001b[39;49mread(nbytes, buffer)\n\u001b[0;32m   1242\u001b[0m \u001b[39melse\u001b[39;00m:\n\u001b[0;32m   1243\u001b[0m     \u001b[39mreturn\u001b[39;00m \u001b[39msuper\u001b[39m()\u001b[39m.\u001b[39mrecv_into(buffer, nbytes, flags)\n",
      "File \u001b[1;32mc:\\Users\\jmartinez\\.conda\\envs\\salesforce\\lib\\ssl.py:1099\u001b[0m, in \u001b[0;36mSSLSocket.read\u001b[1;34m(self, len, buffer)\u001b[0m\n\u001b[0;32m   1097\u001b[0m \u001b[39mtry\u001b[39;00m:\n\u001b[0;32m   1098\u001b[0m     \u001b[39mif\u001b[39;00m buffer \u001b[39mis\u001b[39;00m \u001b[39mnot\u001b[39;00m \u001b[39mNone\u001b[39;00m:\n\u001b[1;32m-> 1099\u001b[0m         \u001b[39mreturn\u001b[39;00m \u001b[39mself\u001b[39;49m\u001b[39m.\u001b[39;49m_sslobj\u001b[39m.\u001b[39;49mread(\u001b[39mlen\u001b[39;49m, buffer)\n\u001b[0;32m   1100\u001b[0m     \u001b[39melse\u001b[39;00m:\n\u001b[0;32m   1101\u001b[0m         \u001b[39mreturn\u001b[39;00m \u001b[39mself\u001b[39m\u001b[39m.\u001b[39m_sslobj\u001b[39m.\u001b[39mread(\u001b[39mlen\u001b[39m)\n",
      "\u001b[1;31mKeyboardInterrupt\u001b[0m: "
     ]
    }
   ],
   "source": [
    "results = sf.query_all(\n",
    "    \"\"\"\n",
    "    select Id, IdentificationId__pc from Account where ispersonaccount = True\n",
    "   \"\"\"\n",
    ")\n",
    "Pacientes_SF = pd.DataFrame(results[\"records\"])\n",
    "\n",
    "Pacientes_SF = Pacientes_SF[\n",
    "    [\n",
    "        \"Id\",\n",
    "        \"IdentificationId__pc\",\n",
    "    ]\n",
    "]\n",
    "Pacientes_SF = Pacientes_SF.rename(\n",
    "    columns={\n",
    "        \"Id\": \"Id Account Paciente\",\n",
    "        \"IdentificationId__pc\": \"Rut\",\n",
    "    }\n",
    ")\n",
    "Pacientes_SF.shape\n",
    "\n"
   ]
  },
  {
   "cell_type": "code",
   "execution_count": null,
   "metadata": {},
   "outputs": [
    {
     "data": {
      "text/plain": [
       "(1812958, 2)"
      ]
     },
     "execution_count": 3,
     "metadata": {},
     "output_type": "execute_result"
    }
   ],
   "source": [
    "results = sf.query_all(\n",
    "    \"\"\"\n",
    "    select id,IdentificationId__c from Contact \n",
    "   \"\"\"\n",
    ")\n",
    "Pacientes_SF2 = pd.DataFrame(results[\"records\"])\n",
    "\n",
    "Pacientes_SF2 = Pacientes_SF2[\n",
    "    [\n",
    "        \"Id\",\n",
    "        \"IdentificationId__c\",\n",
    "    ]\n",
    "]\n",
    "Pacientes_SF2 = Pacientes_SF2.rename(\n",
    "    columns={\n",
    "        \"Id\": \"Id Contact Paciente\",\n",
    "        \"IdentificationId__c\": \"Rut\",\n",
    "    }\n",
    ")\n",
    "Pacientes_SF2.shape"
   ]
  },
  {
   "cell_type": "code",
   "execution_count": null,
   "metadata": {},
   "outputs": [
    {
     "data": {
      "text/plain": [
       "(1812957, 3)"
      ]
     },
     "execution_count": 4,
     "metadata": {},
     "output_type": "execute_result"
    }
   ],
   "source": [
    "Pacientes_SF2 = pd.merge(\n",
    "    left=Pacientes_SF,\n",
    "    right=Pacientes_SF2,\n",
    "    how=\"left\",\n",
    "    left_on=\"Rut\",\n",
    "    right_on=\"Rut\",\n",
    ")\n",
    "Pacientes_SF2.shape"
   ]
  },
  {
   "cell_type": "code",
   "execution_count": null,
   "metadata": {},
   "outputs": [
    {
     "data": {
      "text/html": [
       "<div>\n",
       "<style scoped>\n",
       "    .dataframe tbody tr th:only-of-type {\n",
       "        vertical-align: middle;\n",
       "    }\n",
       "\n",
       "    .dataframe tbody tr th {\n",
       "        vertical-align: top;\n",
       "    }\n",
       "\n",
       "    .dataframe thead th {\n",
       "        text-align: right;\n",
       "    }\n",
       "</style>\n",
       "<table border=\"1\" class=\"dataframe\">\n",
       "  <thead>\n",
       "    <tr style=\"text-align: right;\">\n",
       "      <th></th>\n",
       "      <th>Id Account Paciente</th>\n",
       "      <th>Rut</th>\n",
       "      <th>Id Contact Paciente</th>\n",
       "    </tr>\n",
       "  </thead>\n",
       "  <tbody>\n",
       "    <tr>\n",
       "      <th>0</th>\n",
       "      <td>0018c00002amLTMAA2</td>\n",
       "      <td>173805004</td>\n",
       "      <td>0038c000035CV93AAG</td>\n",
       "    </tr>\n",
       "    <tr>\n",
       "      <th>1</th>\n",
       "      <td>0018c00002amLUGAA2</td>\n",
       "      <td>153338949</td>\n",
       "      <td>0038c000035CV94AAG</td>\n",
       "    </tr>\n",
       "    <tr>\n",
       "      <th>2</th>\n",
       "      <td>0018c00002amLUHAA2</td>\n",
       "      <td>177735213</td>\n",
       "      <td>0038c000035CV95AAG</td>\n",
       "    </tr>\n",
       "    <tr>\n",
       "      <th>3</th>\n",
       "      <td>0018c00002amLUIAA2</td>\n",
       "      <td>169332924</td>\n",
       "      <td>0038c000035CV9zAAG</td>\n",
       "    </tr>\n",
       "    <tr>\n",
       "      <th>4</th>\n",
       "      <td>0018c00002amLUJAA2</td>\n",
       "      <td>172957692</td>\n",
       "      <td>0038c000035CVA0AAO</td>\n",
       "    </tr>\n",
       "  </tbody>\n",
       "</table>\n",
       "</div>"
      ],
      "text/plain": [
       "  Id Account Paciente        Rut Id Contact Paciente\n",
       "0  0018c00002amLTMAA2  173805004  0038c000035CV93AAG\n",
       "1  0018c00002amLUGAA2  153338949  0038c000035CV94AAG\n",
       "2  0018c00002amLUHAA2  177735213  0038c000035CV95AAG\n",
       "3  0018c00002amLUIAA2  169332924  0038c000035CV9zAAG\n",
       "4  0018c00002amLUJAA2  172957692  0038c000035CVA0AAO"
      ]
     },
     "execution_count": 5,
     "metadata": {},
     "output_type": "execute_result"
    }
   ],
   "source": [
    "Pacientes_SF2.head()"
   ]
  },
  {
   "cell_type": "code",
   "execution_count": null,
   "metadata": {},
   "outputs": [
    {
     "data": {
      "text/plain": [
       "(1426364, 2)"
      ]
     },
     "execution_count": 6,
     "metadata": {},
     "output_type": "execute_result"
    }
   ],
   "source": [
    "results = sf.query_all(\n",
    "    \"\"\"\n",
    "    select id,Paciente__c,Programas_por_Empresas__c from Paciente_Programas__c \n",
    "   \"\"\"\n",
    ")\n",
    "Paciente_Programa = pd.DataFrame(results[\"records\"])\n",
    "\n",
    "Paciente_Programa = Paciente_Programa[\n",
    "    [\n",
    "        \"Paciente__c\",\n",
    "        \"Programas_por_Empresas__c\",\n",
    "    ]\n",
    "]\n",
    "Paciente_Programa = Paciente_Programa.rename(\n",
    "    columns={\n",
    "        \"Paciente__c\": \"Id paciente account\",\n",
    "        \"Programas_por_Empresas__c\": \"Programas por empresa\",\n",
    "    }\n",
    ")\n",
    "Paciente_Programa.shape"
   ]
  },
  {
   "cell_type": "code",
   "execution_count": null,
   "metadata": {},
   "outputs": [
    {
     "data": {
      "text/plain": [
       "(7310, 2)"
      ]
     },
     "execution_count": 7,
     "metadata": {},
     "output_type": "execute_result"
    }
   ],
   "source": [
    "results = sf.query_all(\n",
    "    \"\"\"\n",
    "    select Id,Empresa__c from Programas_por_Empresas__c  \n",
    "   \"\"\"\n",
    ")\n",
    "empresas = pd.DataFrame(results[\"records\"])\n",
    "\n",
    "empresas = empresas[\n",
    "    [\n",
    "        \"Id\",\n",
    "        \"Empresa__c\",\n",
    "    ]\n",
    "]\n",
    "empresas = empresas.rename(\n",
    "    columns={\n",
    "        \"Id\": \"Programas_por_Empresas__c\",\n",
    "        \"Empresa__c\": \"Id Account Empresa\",\n",
    "    }\n",
    ")\n",
    "empresas.shape\n",
    "\n",
    "\n"
   ]
  },
  {
   "cell_type": "code",
   "execution_count": null,
   "metadata": {},
   "outputs": [
    {
     "data": {
      "text/plain": [
       "(7310, 2)"
      ]
     },
     "execution_count": 8,
     "metadata": {},
     "output_type": "execute_result"
    }
   ],
   "source": [
    "empresas.shape"
   ]
  },
  {
   "cell_type": "code",
   "execution_count": null,
   "metadata": {},
   "outputs": [
    {
     "data": {
      "text/plain": [
       "(1426364, 4)"
      ]
     },
     "execution_count": 9,
     "metadata": {},
     "output_type": "execute_result"
    }
   ],
   "source": [
    "Paciente_Programa = pd.merge(\n",
    "    left=Paciente_Programa,\n",
    "    right=empresas,\n",
    "    how=\"left\",\n",
    "    left_on=\"Programas por empresa\",\n",
    "    right_on=\"Programas_por_Empresas__c\",\n",
    ")\n",
    "Paciente_Programa.shape"
   ]
  },
  {
   "cell_type": "code",
   "execution_count": null,
   "metadata": {},
   "outputs": [
    {
     "data": {
      "text/html": [
       "<div>\n",
       "<style scoped>\n",
       "    .dataframe tbody tr th:only-of-type {\n",
       "        vertical-align: middle;\n",
       "    }\n",
       "\n",
       "    .dataframe tbody tr th {\n",
       "        vertical-align: top;\n",
       "    }\n",
       "\n",
       "    .dataframe thead th {\n",
       "        text-align: right;\n",
       "    }\n",
       "</style>\n",
       "<table border=\"1\" class=\"dataframe\">\n",
       "  <thead>\n",
       "    <tr style=\"text-align: right;\">\n",
       "      <th></th>\n",
       "      <th>Id paciente account</th>\n",
       "      <th>Programas por empresa</th>\n",
       "      <th>Programas_por_Empresas__c</th>\n",
       "      <th>Id Account Empresa</th>\n",
       "    </tr>\n",
       "  </thead>\n",
       "  <tbody>\n",
       "    <tr>\n",
       "      <th>0</th>\n",
       "      <td>0018c00002amLbpAAE</td>\n",
       "      <td>a1W8c000007vDPvEAM</td>\n",
       "      <td>a1W8c000007vDPvEAM</td>\n",
       "      <td>0018c00002axQaeAAE</td>\n",
       "    </tr>\n",
       "    <tr>\n",
       "      <th>1</th>\n",
       "      <td>0018c00002amLbqAAE</td>\n",
       "      <td>a1W8c000007vDSpEAM</td>\n",
       "      <td>a1W8c000007vDSpEAM</td>\n",
       "      <td>0018c00002axQecAAE</td>\n",
       "    </tr>\n",
       "    <tr>\n",
       "      <th>2</th>\n",
       "      <td>0018c00002amLbrAAE</td>\n",
       "      <td>a1W8c000007vDSpEAM</td>\n",
       "      <td>a1W8c000007vDSpEAM</td>\n",
       "      <td>0018c00002axQecAAE</td>\n",
       "    </tr>\n",
       "    <tr>\n",
       "      <th>3</th>\n",
       "      <td>0018c00002amLbsAAE</td>\n",
       "      <td>a1W8c000007vDSpEAM</td>\n",
       "      <td>a1W8c000007vDSpEAM</td>\n",
       "      <td>0018c00002axQecAAE</td>\n",
       "    </tr>\n",
       "    <tr>\n",
       "      <th>4</th>\n",
       "      <td>0018c00002amLc2AAE</td>\n",
       "      <td>a1W8c000007vDSpEAM</td>\n",
       "      <td>a1W8c000007vDSpEAM</td>\n",
       "      <td>0018c00002axQecAAE</td>\n",
       "    </tr>\n",
       "  </tbody>\n",
       "</table>\n",
       "</div>"
      ],
      "text/plain": [
       "  Id paciente account Programas por empresa Programas_por_Empresas__c  \\\n",
       "0  0018c00002amLbpAAE    a1W8c000007vDPvEAM        a1W8c000007vDPvEAM   \n",
       "1  0018c00002amLbqAAE    a1W8c000007vDSpEAM        a1W8c000007vDSpEAM   \n",
       "2  0018c00002amLbrAAE    a1W8c000007vDSpEAM        a1W8c000007vDSpEAM   \n",
       "3  0018c00002amLbsAAE    a1W8c000007vDSpEAM        a1W8c000007vDSpEAM   \n",
       "4  0018c00002amLc2AAE    a1W8c000007vDSpEAM        a1W8c000007vDSpEAM   \n",
       "\n",
       "   Id Account Empresa  \n",
       "0  0018c00002axQaeAAE  \n",
       "1  0018c00002axQecAAE  \n",
       "2  0018c00002axQecAAE  \n",
       "3  0018c00002axQecAAE  \n",
       "4  0018c00002axQecAAE  "
      ]
     },
     "execution_count": 10,
     "metadata": {},
     "output_type": "execute_result"
    }
   ],
   "source": [
    "Paciente_Programa.head()"
   ]
  },
  {
   "cell_type": "code",
   "execution_count": null,
   "metadata": {},
   "outputs": [
    {
     "data": {
      "text/plain": [
       "(1563536, 2)"
      ]
     },
     "execution_count": 11,
     "metadata": {},
     "output_type": "execute_result"
    }
   ],
   "source": [
    "results = sf.query_all(\n",
    "    \"\"\"\n",
    "    select AccountId, ContactId from AccountContactRelation \n",
    "   \"\"\"\n",
    ")\n",
    "accountcontact = pd.DataFrame(results[\"records\"])\n",
    "\n",
    "accountcontact = accountcontact[\n",
    "    [\n",
    "        \"AccountId\",\n",
    "        \"ContactId\",\n",
    "    ]\n",
    "]\n",
    "accountcontact = accountcontact.rename(\n",
    "    columns={\n",
    "        \"AccountId\": \"Id account\",\n",
    "        \"ContactId\": \"id contacto\",\n",
    "    }\n",
    ")\n",
    "accountcontact.shape"
   ]
  },
  {
   "cell_type": "code",
   "execution_count": null,
   "metadata": {},
   "outputs": [
    {
     "data": {
      "text/html": [
       "<div>\n",
       "<style scoped>\n",
       "    .dataframe tbody tr th:only-of-type {\n",
       "        vertical-align: middle;\n",
       "    }\n",
       "\n",
       "    .dataframe tbody tr th {\n",
       "        vertical-align: top;\n",
       "    }\n",
       "\n",
       "    .dataframe thead th {\n",
       "        text-align: right;\n",
       "    }\n",
       "</style>\n",
       "<table border=\"1\" class=\"dataframe\">\n",
       "  <thead>\n",
       "    <tr style=\"text-align: right;\">\n",
       "      <th></th>\n",
       "      <th>Id account</th>\n",
       "      <th>id contacto</th>\n",
       "      <th>LLave</th>\n",
       "    </tr>\n",
       "  </thead>\n",
       "  <tbody>\n",
       "    <tr>\n",
       "      <th>0</th>\n",
       "      <td>0018c00002axQdlAAE</td>\n",
       "      <td>0038c000036jelbAAA</td>\n",
       "      <td>0038c000036jelbAAA0018c00002axQdlAAE</td>\n",
       "    </tr>\n",
       "    <tr>\n",
       "      <th>1</th>\n",
       "      <td>0018c00002axQdlAAE</td>\n",
       "      <td>0038c000035CWLYAA4</td>\n",
       "      <td>0038c000035CWLYAA40018c00002axQdlAAE</td>\n",
       "    </tr>\n",
       "    <tr>\n",
       "      <th>2</th>\n",
       "      <td>0018c00002axQdlAAE</td>\n",
       "      <td>0038c000035CaxiAAC</td>\n",
       "      <td>0038c000035CaxiAAC0018c00002axQdlAAE</td>\n",
       "    </tr>\n",
       "    <tr>\n",
       "      <th>3</th>\n",
       "      <td>0018c00002axQdlAAE</td>\n",
       "      <td>0038c000036jelcAAA</td>\n",
       "      <td>0038c000036jelcAAA0018c00002axQdlAAE</td>\n",
       "    </tr>\n",
       "    <tr>\n",
       "      <th>4</th>\n",
       "      <td>0018c00002axQa5AAE</td>\n",
       "      <td>0038c000036jLDoAAM</td>\n",
       "      <td>0038c000036jLDoAAM0018c00002axQa5AAE</td>\n",
       "    </tr>\n",
       "  </tbody>\n",
       "</table>\n",
       "</div>"
      ],
      "text/plain": [
       "           Id account         id contacto  \\\n",
       "0  0018c00002axQdlAAE  0038c000036jelbAAA   \n",
       "1  0018c00002axQdlAAE  0038c000035CWLYAA4   \n",
       "2  0018c00002axQdlAAE  0038c000035CaxiAAC   \n",
       "3  0018c00002axQdlAAE  0038c000036jelcAAA   \n",
       "4  0018c00002axQa5AAE  0038c000036jLDoAAM   \n",
       "\n",
       "                                  LLave  \n",
       "0  0038c000036jelbAAA0018c00002axQdlAAE  \n",
       "1  0038c000035CWLYAA40018c00002axQdlAAE  \n",
       "2  0038c000035CaxiAAC0018c00002axQdlAAE  \n",
       "3  0038c000036jelcAAA0018c00002axQdlAAE  \n",
       "4  0038c000036jLDoAAM0018c00002axQa5AAE  "
      ]
     },
     "execution_count": 12,
     "metadata": {},
     "output_type": "execute_result"
    }
   ],
   "source": [
    "accountcontact['LLave'] = accountcontact['id contacto'] + accountcontact['Id account'] \n",
    "accountcontact.head()"
   ]
  },
  {
   "cell_type": "code",
   "execution_count": null,
   "metadata": {},
   "outputs": [
    {
     "data": {
      "text/plain": [
       "(1563536, 3)"
      ]
     },
     "execution_count": 13,
     "metadata": {},
     "output_type": "execute_result"
    }
   ],
   "source": [
    "accountcontact.shape"
   ]
  },
  {
   "cell_type": "code",
   "execution_count": null,
   "metadata": {},
   "outputs": [
    {
     "data": {
      "text/html": [
       "<div>\n",
       "<style scoped>\n",
       "    .dataframe tbody tr th:only-of-type {\n",
       "        vertical-align: middle;\n",
       "    }\n",
       "\n",
       "    .dataframe tbody tr th {\n",
       "        vertical-align: top;\n",
       "    }\n",
       "\n",
       "    .dataframe thead th {\n",
       "        text-align: right;\n",
       "    }\n",
       "</style>\n",
       "<table border=\"1\" class=\"dataframe\">\n",
       "  <thead>\n",
       "    <tr style=\"text-align: right;\">\n",
       "      <th></th>\n",
       "      <th>Id paciente account</th>\n",
       "      <th>Programas por empresa</th>\n",
       "      <th>Programas_por_Empresas__c</th>\n",
       "      <th>Id Account Empresa</th>\n",
       "    </tr>\n",
       "  </thead>\n",
       "  <tbody>\n",
       "    <tr>\n",
       "      <th>0</th>\n",
       "      <td>0018c00002amLbpAAE</td>\n",
       "      <td>a1W8c000007vDPvEAM</td>\n",
       "      <td>a1W8c000007vDPvEAM</td>\n",
       "      <td>0018c00002axQaeAAE</td>\n",
       "    </tr>\n",
       "    <tr>\n",
       "      <th>1</th>\n",
       "      <td>0018c00002amLbqAAE</td>\n",
       "      <td>a1W8c000007vDSpEAM</td>\n",
       "      <td>a1W8c000007vDSpEAM</td>\n",
       "      <td>0018c00002axQecAAE</td>\n",
       "    </tr>\n",
       "    <tr>\n",
       "      <th>2</th>\n",
       "      <td>0018c00002amLbrAAE</td>\n",
       "      <td>a1W8c000007vDSpEAM</td>\n",
       "      <td>a1W8c000007vDSpEAM</td>\n",
       "      <td>0018c00002axQecAAE</td>\n",
       "    </tr>\n",
       "    <tr>\n",
       "      <th>3</th>\n",
       "      <td>0018c00002amLbsAAE</td>\n",
       "      <td>a1W8c000007vDSpEAM</td>\n",
       "      <td>a1W8c000007vDSpEAM</td>\n",
       "      <td>0018c00002axQecAAE</td>\n",
       "    </tr>\n",
       "    <tr>\n",
       "      <th>4</th>\n",
       "      <td>0018c00002amLc2AAE</td>\n",
       "      <td>a1W8c000007vDSpEAM</td>\n",
       "      <td>a1W8c000007vDSpEAM</td>\n",
       "      <td>0018c00002axQecAAE</td>\n",
       "    </tr>\n",
       "  </tbody>\n",
       "</table>\n",
       "</div>"
      ],
      "text/plain": [
       "  Id paciente account Programas por empresa Programas_por_Empresas__c  \\\n",
       "0  0018c00002amLbpAAE    a1W8c000007vDPvEAM        a1W8c000007vDPvEAM   \n",
       "1  0018c00002amLbqAAE    a1W8c000007vDSpEAM        a1W8c000007vDSpEAM   \n",
       "2  0018c00002amLbrAAE    a1W8c000007vDSpEAM        a1W8c000007vDSpEAM   \n",
       "3  0018c00002amLbsAAE    a1W8c000007vDSpEAM        a1W8c000007vDSpEAM   \n",
       "4  0018c00002amLc2AAE    a1W8c000007vDSpEAM        a1W8c000007vDSpEAM   \n",
       "\n",
       "   Id Account Empresa  \n",
       "0  0018c00002axQaeAAE  \n",
       "1  0018c00002axQecAAE  \n",
       "2  0018c00002axQecAAE  \n",
       "3  0018c00002axQecAAE  \n",
       "4  0018c00002axQecAAE  "
      ]
     },
     "execution_count": 14,
     "metadata": {},
     "output_type": "execute_result"
    }
   ],
   "source": [
    "Paciente_Programa.head()"
   ]
  },
  {
   "cell_type": "code",
   "execution_count": null,
   "metadata": {},
   "outputs": [
    {
     "data": {
      "text/plain": [
       "(1426364, 4)"
      ]
     },
     "execution_count": 15,
     "metadata": {},
     "output_type": "execute_result"
    }
   ],
   "source": [
    "Paciente_Programa.shape"
   ]
  },
  {
   "cell_type": "code",
   "execution_count": null,
   "metadata": {},
   "outputs": [
    {
     "data": {
      "text/html": [
       "<div>\n",
       "<style scoped>\n",
       "    .dataframe tbody tr th:only-of-type {\n",
       "        vertical-align: middle;\n",
       "    }\n",
       "\n",
       "    .dataframe tbody tr th {\n",
       "        vertical-align: top;\n",
       "    }\n",
       "\n",
       "    .dataframe thead th {\n",
       "        text-align: right;\n",
       "    }\n",
       "</style>\n",
       "<table border=\"1\" class=\"dataframe\">\n",
       "  <thead>\n",
       "    <tr style=\"text-align: right;\">\n",
       "      <th></th>\n",
       "      <th>Id Account Paciente</th>\n",
       "      <th>Rut</th>\n",
       "      <th>Id Contact Paciente</th>\n",
       "    </tr>\n",
       "  </thead>\n",
       "  <tbody>\n",
       "    <tr>\n",
       "      <th>0</th>\n",
       "      <td>0018c00002amLTMAA2</td>\n",
       "      <td>173805004</td>\n",
       "      <td>0038c000035CV93AAG</td>\n",
       "    </tr>\n",
       "    <tr>\n",
       "      <th>1</th>\n",
       "      <td>0018c00002amLUGAA2</td>\n",
       "      <td>153338949</td>\n",
       "      <td>0038c000035CV94AAG</td>\n",
       "    </tr>\n",
       "    <tr>\n",
       "      <th>2</th>\n",
       "      <td>0018c00002amLUHAA2</td>\n",
       "      <td>177735213</td>\n",
       "      <td>0038c000035CV95AAG</td>\n",
       "    </tr>\n",
       "    <tr>\n",
       "      <th>3</th>\n",
       "      <td>0018c00002amLUIAA2</td>\n",
       "      <td>169332924</td>\n",
       "      <td>0038c000035CV9zAAG</td>\n",
       "    </tr>\n",
       "    <tr>\n",
       "      <th>4</th>\n",
       "      <td>0018c00002amLUJAA2</td>\n",
       "      <td>172957692</td>\n",
       "      <td>0038c000035CVA0AAO</td>\n",
       "    </tr>\n",
       "  </tbody>\n",
       "</table>\n",
       "</div>"
      ],
      "text/plain": [
       "  Id Account Paciente        Rut Id Contact Paciente\n",
       "0  0018c00002amLTMAA2  173805004  0038c000035CV93AAG\n",
       "1  0018c00002amLUGAA2  153338949  0038c000035CV94AAG\n",
       "2  0018c00002amLUHAA2  177735213  0038c000035CV95AAG\n",
       "3  0018c00002amLUIAA2  169332924  0038c000035CV9zAAG\n",
       "4  0018c00002amLUJAA2  172957692  0038c000035CVA0AAO"
      ]
     },
     "execution_count": 16,
     "metadata": {},
     "output_type": "execute_result"
    }
   ],
   "source": [
    "Pacientes_SF2.head()"
   ]
  },
  {
   "cell_type": "code",
   "execution_count": null,
   "metadata": {},
   "outputs": [
    {
     "data": {
      "text/plain": [
       "(1812957, 3)"
      ]
     },
     "execution_count": 17,
     "metadata": {},
     "output_type": "execute_result"
    }
   ],
   "source": [
    "Pacientes_SF2.shape"
   ]
  },
  {
   "cell_type": "code",
   "execution_count": null,
   "metadata": {},
   "outputs": [
    {
     "data": {
      "text/plain": [
       "(1426364, 7)"
      ]
     },
     "execution_count": 18,
     "metadata": {},
     "output_type": "execute_result"
    }
   ],
   "source": [
    "programa_paciente = pd.merge(\n",
    "    left=Paciente_Programa,\n",
    "    right=Pacientes_SF2,\n",
    "    how=\"left\",\n",
    "    left_on=\"Id paciente account\",\n",
    "    right_on=\"Id Account Paciente\",\n",
    ")\n",
    "programa_paciente.shape"
   ]
  },
  {
   "cell_type": "code",
   "execution_count": null,
   "metadata": {},
   "outputs": [
    {
     "data": {
      "text/html": [
       "<div>\n",
       "<style scoped>\n",
       "    .dataframe tbody tr th:only-of-type {\n",
       "        vertical-align: middle;\n",
       "    }\n",
       "\n",
       "    .dataframe tbody tr th {\n",
       "        vertical-align: top;\n",
       "    }\n",
       "\n",
       "    .dataframe thead th {\n",
       "        text-align: right;\n",
       "    }\n",
       "</style>\n",
       "<table border=\"1\" class=\"dataframe\">\n",
       "  <thead>\n",
       "    <tr style=\"text-align: right;\">\n",
       "      <th></th>\n",
       "      <th>Id paciente account</th>\n",
       "      <th>Programas por empresa</th>\n",
       "      <th>Programas_por_Empresas__c</th>\n",
       "      <th>Id Account Empresa</th>\n",
       "      <th>Id Account Paciente</th>\n",
       "      <th>Rut</th>\n",
       "      <th>Id Contact Paciente</th>\n",
       "    </tr>\n",
       "  </thead>\n",
       "  <tbody>\n",
       "    <tr>\n",
       "      <th>0</th>\n",
       "      <td>0018c00002amLbpAAE</td>\n",
       "      <td>a1W8c000007vDPvEAM</td>\n",
       "      <td>a1W8c000007vDPvEAM</td>\n",
       "      <td>0018c00002axQaeAAE</td>\n",
       "      <td>0018c00002amLbpAAE</td>\n",
       "      <td>224488556</td>\n",
       "      <td>0038c000035CVHVAA4</td>\n",
       "    </tr>\n",
       "    <tr>\n",
       "      <th>1</th>\n",
       "      <td>0018c00002amLbqAAE</td>\n",
       "      <td>a1W8c000007vDSpEAM</td>\n",
       "      <td>a1W8c000007vDSpEAM</td>\n",
       "      <td>0018c00002axQecAAE</td>\n",
       "      <td>0018c00002amLbqAAE</td>\n",
       "      <td>113376066</td>\n",
       "      <td>0038c000035CVHWAA4</td>\n",
       "    </tr>\n",
       "    <tr>\n",
       "      <th>2</th>\n",
       "      <td>0018c00002amLbrAAE</td>\n",
       "      <td>a1W8c000007vDSpEAM</td>\n",
       "      <td>a1W8c000007vDSpEAM</td>\n",
       "      <td>0018c00002axQecAAE</td>\n",
       "      <td>0018c00002amLbrAAE</td>\n",
       "      <td>79476161</td>\n",
       "      <td>0038c000035CVHXAA4</td>\n",
       "    </tr>\n",
       "    <tr>\n",
       "      <th>3</th>\n",
       "      <td>0018c00002amLbsAAE</td>\n",
       "      <td>a1W8c000007vDSpEAM</td>\n",
       "      <td>a1W8c000007vDSpEAM</td>\n",
       "      <td>0018c00002axQecAAE</td>\n",
       "      <td>0018c00002amLbsAAE</td>\n",
       "      <td>181854227</td>\n",
       "      <td>0038c000035CVHYAA4</td>\n",
       "    </tr>\n",
       "    <tr>\n",
       "      <th>4</th>\n",
       "      <td>0018c00002amLc2AAE</td>\n",
       "      <td>a1W8c000007vDSpEAM</td>\n",
       "      <td>a1W8c000007vDSpEAM</td>\n",
       "      <td>0018c00002axQecAAE</td>\n",
       "      <td>0018c00002amLc2AAE</td>\n",
       "      <td>126899823</td>\n",
       "      <td>0038c000035CVHnAAO</td>\n",
       "    </tr>\n",
       "  </tbody>\n",
       "</table>\n",
       "</div>"
      ],
      "text/plain": [
       "  Id paciente account Programas por empresa Programas_por_Empresas__c  \\\n",
       "0  0018c00002amLbpAAE    a1W8c000007vDPvEAM        a1W8c000007vDPvEAM   \n",
       "1  0018c00002amLbqAAE    a1W8c000007vDSpEAM        a1W8c000007vDSpEAM   \n",
       "2  0018c00002amLbrAAE    a1W8c000007vDSpEAM        a1W8c000007vDSpEAM   \n",
       "3  0018c00002amLbsAAE    a1W8c000007vDSpEAM        a1W8c000007vDSpEAM   \n",
       "4  0018c00002amLc2AAE    a1W8c000007vDSpEAM        a1W8c000007vDSpEAM   \n",
       "\n",
       "   Id Account Empresa Id Account Paciente        Rut Id Contact Paciente  \n",
       "0  0018c00002axQaeAAE  0018c00002amLbpAAE  224488556  0038c000035CVHVAA4  \n",
       "1  0018c00002axQecAAE  0018c00002amLbqAAE  113376066  0038c000035CVHWAA4  \n",
       "2  0018c00002axQecAAE  0018c00002amLbrAAE   79476161  0038c000035CVHXAA4  \n",
       "3  0018c00002axQecAAE  0018c00002amLbsAAE  181854227  0038c000035CVHYAA4  \n",
       "4  0018c00002axQecAAE  0018c00002amLc2AAE  126899823  0038c000035CVHnAAO  "
      ]
     },
     "execution_count": 19,
     "metadata": {},
     "output_type": "execute_result"
    }
   ],
   "source": [
    "programa_paciente.head()"
   ]
  },
  {
   "cell_type": "code",
   "execution_count": null,
   "metadata": {},
   "outputs": [
    {
     "data": {
      "text/plain": [
       "(1426364, 7)"
      ]
     },
     "execution_count": 20,
     "metadata": {},
     "output_type": "execute_result"
    }
   ],
   "source": [
    "programa_paciente.shape"
   ]
  },
  {
   "cell_type": "code",
   "execution_count": null,
   "metadata": {},
   "outputs": [
    {
     "data": {
      "text/html": [
       "<div>\n",
       "<style scoped>\n",
       "    .dataframe tbody tr th:only-of-type {\n",
       "        vertical-align: middle;\n",
       "    }\n",
       "\n",
       "    .dataframe tbody tr th {\n",
       "        vertical-align: top;\n",
       "    }\n",
       "\n",
       "    .dataframe thead th {\n",
       "        text-align: right;\n",
       "    }\n",
       "</style>\n",
       "<table border=\"1\" class=\"dataframe\">\n",
       "  <thead>\n",
       "    <tr style=\"text-align: right;\">\n",
       "      <th></th>\n",
       "      <th>ContactId</th>\n",
       "      <th>AccountId</th>\n",
       "      <th>LLave</th>\n",
       "    </tr>\n",
       "  </thead>\n",
       "  <tbody>\n",
       "    <tr>\n",
       "      <th>0</th>\n",
       "      <td>0038c000035CVHVAA4</td>\n",
       "      <td>0018c00002axQaeAAE</td>\n",
       "      <td>0038c000035CVHVAA40018c00002axQaeAAE</td>\n",
       "    </tr>\n",
       "    <tr>\n",
       "      <th>1</th>\n",
       "      <td>0038c000035CVHWAA4</td>\n",
       "      <td>0018c00002axQecAAE</td>\n",
       "      <td>0038c000035CVHWAA40018c00002axQecAAE</td>\n",
       "    </tr>\n",
       "    <tr>\n",
       "      <th>2</th>\n",
       "      <td>0038c000035CVHXAA4</td>\n",
       "      <td>0018c00002axQecAAE</td>\n",
       "      <td>0038c000035CVHXAA40018c00002axQecAAE</td>\n",
       "    </tr>\n",
       "    <tr>\n",
       "      <th>3</th>\n",
       "      <td>0038c000035CVHYAA4</td>\n",
       "      <td>0018c00002axQecAAE</td>\n",
       "      <td>0038c000035CVHYAA40018c00002axQecAAE</td>\n",
       "    </tr>\n",
       "    <tr>\n",
       "      <th>4</th>\n",
       "      <td>0038c000035CVHnAAO</td>\n",
       "      <td>0018c00002axQecAAE</td>\n",
       "      <td>0038c000035CVHnAAO0018c00002axQecAAE</td>\n",
       "    </tr>\n",
       "  </tbody>\n",
       "</table>\n",
       "</div>"
      ],
      "text/plain": [
       "            ContactId           AccountId  \\\n",
       "0  0038c000035CVHVAA4  0018c00002axQaeAAE   \n",
       "1  0038c000035CVHWAA4  0018c00002axQecAAE   \n",
       "2  0038c000035CVHXAA4  0018c00002axQecAAE   \n",
       "3  0038c000035CVHYAA4  0018c00002axQecAAE   \n",
       "4  0038c000035CVHnAAO  0018c00002axQecAAE   \n",
       "\n",
       "                                  LLave  \n",
       "0  0038c000035CVHVAA40018c00002axQaeAAE  \n",
       "1  0038c000035CVHWAA40018c00002axQecAAE  \n",
       "2  0038c000035CVHXAA40018c00002axQecAAE  \n",
       "3  0038c000035CVHYAA40018c00002axQecAAE  \n",
       "4  0038c000035CVHnAAO0018c00002axQecAAE  "
      ]
     },
     "execution_count": 21,
     "metadata": {},
     "output_type": "execute_result"
    }
   ],
   "source": [
    "programa_paciente = programa_paciente[\n",
    "    [\n",
    "        \"Id Contact Paciente\",\n",
    "        \"Id Account Empresa\",\n",
    "    ]\n",
    "]\n",
    "programa_paciente['LLave'] = programa_paciente['Id Contact Paciente'] + programa_paciente['Id Account Empresa']\n",
    "programa_paciente = programa_paciente.rename(\n",
    "    columns={\n",
    "        \"Id Contact Paciente\": \"ContactId\",\n",
    "        \"Id Account Empresa\": \"AccountId\",\n",
    "    }\n",
    ")\n",
    "programa_paciente.head()"
   ]
  },
  {
   "cell_type": "code",
   "execution_count": null,
   "metadata": {},
   "outputs": [
    {
     "data": {
      "text/plain": [
       "(1426364, 3)"
      ]
     },
     "execution_count": 22,
     "metadata": {},
     "output_type": "execute_result"
    }
   ],
   "source": [
    "programa_paciente.shape"
   ]
  },
  {
   "cell_type": "code",
   "execution_count": null,
   "metadata": {},
   "outputs": [
    {
     "data": {
      "text/plain": [
       "(1426364, 4)"
      ]
     },
     "execution_count": 23,
     "metadata": {},
     "output_type": "execute_result"
    }
   ],
   "source": [
    "programa_paciente[\"RutEstaoNo\"] = programa_paciente[\"LLave\"].isin(accountcontact['LLave'])\n",
    "programa_paciente.shape"
   ]
  },
  {
   "cell_type": "code",
   "execution_count": null,
   "metadata": {},
   "outputs": [
    {
     "data": {
      "text/html": [
       "<div>\n",
       "<style scoped>\n",
       "    .dataframe tbody tr th:only-of-type {\n",
       "        vertical-align: middle;\n",
       "    }\n",
       "\n",
       "    .dataframe tbody tr th {\n",
       "        vertical-align: top;\n",
       "    }\n",
       "\n",
       "    .dataframe thead th {\n",
       "        text-align: right;\n",
       "    }\n",
       "</style>\n",
       "<table border=\"1\" class=\"dataframe\">\n",
       "  <thead>\n",
       "    <tr style=\"text-align: right;\">\n",
       "      <th></th>\n",
       "      <th>ContactId</th>\n",
       "      <th>AccountId</th>\n",
       "      <th>LLave</th>\n",
       "      <th>RutEstaoNo</th>\n",
       "    </tr>\n",
       "  </thead>\n",
       "  <tbody>\n",
       "    <tr>\n",
       "      <th>0</th>\n",
       "      <td>0038c000035CVHVAA4</td>\n",
       "      <td>0018c00002axQaeAAE</td>\n",
       "      <td>0038c000035CVHVAA40018c00002axQaeAAE</td>\n",
       "      <td>True</td>\n",
       "    </tr>\n",
       "    <tr>\n",
       "      <th>1</th>\n",
       "      <td>0038c000035CVHWAA4</td>\n",
       "      <td>0018c00002axQecAAE</td>\n",
       "      <td>0038c000035CVHWAA40018c00002axQecAAE</td>\n",
       "      <td>True</td>\n",
       "    </tr>\n",
       "    <tr>\n",
       "      <th>2</th>\n",
       "      <td>0038c000035CVHXAA4</td>\n",
       "      <td>0018c00002axQecAAE</td>\n",
       "      <td>0038c000035CVHXAA40018c00002axQecAAE</td>\n",
       "      <td>True</td>\n",
       "    </tr>\n",
       "    <tr>\n",
       "      <th>3</th>\n",
       "      <td>0038c000035CVHYAA4</td>\n",
       "      <td>0018c00002axQecAAE</td>\n",
       "      <td>0038c000035CVHYAA40018c00002axQecAAE</td>\n",
       "      <td>True</td>\n",
       "    </tr>\n",
       "    <tr>\n",
       "      <th>4</th>\n",
       "      <td>0038c000035CVHnAAO</td>\n",
       "      <td>0018c00002axQecAAE</td>\n",
       "      <td>0038c000035CVHnAAO0018c00002axQecAAE</td>\n",
       "      <td>True</td>\n",
       "    </tr>\n",
       "  </tbody>\n",
       "</table>\n",
       "</div>"
      ],
      "text/plain": [
       "            ContactId           AccountId  \\\n",
       "0  0038c000035CVHVAA4  0018c00002axQaeAAE   \n",
       "1  0038c000035CVHWAA4  0018c00002axQecAAE   \n",
       "2  0038c000035CVHXAA4  0018c00002axQecAAE   \n",
       "3  0038c000035CVHYAA4  0018c00002axQecAAE   \n",
       "4  0038c000035CVHnAAO  0018c00002axQecAAE   \n",
       "\n",
       "                                  LLave  RutEstaoNo  \n",
       "0  0038c000035CVHVAA40018c00002axQaeAAE        True  \n",
       "1  0038c000035CVHWAA40018c00002axQecAAE        True  \n",
       "2  0038c000035CVHXAA40018c00002axQecAAE        True  \n",
       "3  0038c000035CVHYAA40018c00002axQecAAE        True  \n",
       "4  0038c000035CVHnAAO0018c00002axQecAAE        True  "
      ]
     },
     "execution_count": 24,
     "metadata": {},
     "output_type": "execute_result"
    }
   ],
   "source": [
    "programa_paciente.head()\n"
   ]
  },
  {
   "cell_type": "code",
   "execution_count": null,
   "metadata": {},
   "outputs": [],
   "source": [
    "programa_paciente1 = programa_paciente[programa_paciente[\"RutEstaoNo\"] == False] "
   ]
  },
  {
   "cell_type": "markdown",
   "metadata": {},
   "source": []
  },
  {
   "cell_type": "code",
   "execution_count": null,
   "metadata": {},
   "outputs": [
    {
     "data": {
      "text/html": [
       "<div>\n",
       "<style scoped>\n",
       "    .dataframe tbody tr th:only-of-type {\n",
       "        vertical-align: middle;\n",
       "    }\n",
       "\n",
       "    .dataframe tbody tr th {\n",
       "        vertical-align: top;\n",
       "    }\n",
       "\n",
       "    .dataframe thead th {\n",
       "        text-align: right;\n",
       "    }\n",
       "</style>\n",
       "<table border=\"1\" class=\"dataframe\">\n",
       "  <thead>\n",
       "    <tr style=\"text-align: right;\">\n",
       "      <th></th>\n",
       "      <th>Id account</th>\n",
       "      <th>id contacto</th>\n",
       "      <th>LLave</th>\n",
       "      <th>RutEstaoNo</th>\n",
       "    </tr>\n",
       "  </thead>\n",
       "  <tbody>\n",
       "    <tr>\n",
       "      <th>23</th>\n",
       "      <td>0018c00002axQa5AAE</td>\n",
       "      <td>0038c000036jMBzAAM</td>\n",
       "      <td>0038c000036jMBzAAM0018c00002axQa5AAE</td>\n",
       "      <td>False</td>\n",
       "    </tr>\n",
       "    <tr>\n",
       "      <th>58</th>\n",
       "      <td>0018c00002axQdeAAE</td>\n",
       "      <td>0038c000036jPGcAAM</td>\n",
       "      <td>0038c000036jPGcAAM0018c00002axQdeAAE</td>\n",
       "      <td>False</td>\n",
       "    </tr>\n",
       "    <tr>\n",
       "      <th>149</th>\n",
       "      <td>0018c00002axQdcAAE</td>\n",
       "      <td>0038c000036izTKAAY</td>\n",
       "      <td>0038c000036izTKAAY0018c00002axQdcAAE</td>\n",
       "      <td>False</td>\n",
       "    </tr>\n",
       "    <tr>\n",
       "      <th>201</th>\n",
       "      <td>0018c00002axQdcAAE</td>\n",
       "      <td>0038c000036izU9AAI</td>\n",
       "      <td>0038c000036izU9AAI0018c00002axQdcAAE</td>\n",
       "      <td>False</td>\n",
       "    </tr>\n",
       "    <tr>\n",
       "      <th>538</th>\n",
       "      <td>0018c00002axQdcAAE</td>\n",
       "      <td>0038c000036izlMAAQ</td>\n",
       "      <td>0038c000036izlMAAQ0018c00002axQdcAAE</td>\n",
       "      <td>False</td>\n",
       "    </tr>\n",
       "  </tbody>\n",
       "</table>\n",
       "</div>"
      ],
      "text/plain": [
       "             Id account         id contacto  \\\n",
       "23   0018c00002axQa5AAE  0038c000036jMBzAAM   \n",
       "58   0018c00002axQdeAAE  0038c000036jPGcAAM   \n",
       "149  0018c00002axQdcAAE  0038c000036izTKAAY   \n",
       "201  0018c00002axQdcAAE  0038c000036izU9AAI   \n",
       "538  0018c00002axQdcAAE  0038c000036izlMAAQ   \n",
       "\n",
       "                                    LLave  RutEstaoNo  \n",
       "23   0038c000036jMBzAAM0018c00002axQa5AAE       False  \n",
       "58   0038c000036jPGcAAM0018c00002axQdeAAE       False  \n",
       "149  0038c000036izTKAAY0018c00002axQdcAAE       False  \n",
       "201  0038c000036izU9AAI0018c00002axQdcAAE       False  \n",
       "538  0038c000036izlMAAQ0018c00002axQdcAAE       False  "
      ]
     },
     "execution_count": 26,
     "metadata": {},
     "output_type": "execute_result"
    }
   ],
   "source": [
    "accountcontact[\"RutEstaoNo\"] = accountcontact[\"LLave\"].isin(programa_paciente['LLave'])\n",
    "accountcontact1 = accountcontact[accountcontact[\"RutEstaoNo\"] == False]\n",
    "accountcontact1.head()\n"
   ]
  },
  {
   "cell_type": "code",
   "execution_count": null,
   "metadata": {},
   "outputs": [
    {
     "data": {
      "text/plain": [
       "(1563536, 4)"
      ]
     },
     "execution_count": 27,
     "metadata": {},
     "output_type": "execute_result"
    }
   ],
   "source": [
    "accountcontact.shape"
   ]
  },
  {
   "cell_type": "code",
   "execution_count": null,
   "metadata": {},
   "outputs": [
    {
     "data": {
      "text/plain": [
       "(1078, 4)"
      ]
     },
     "execution_count": 28,
     "metadata": {},
     "output_type": "execute_result"
    }
   ],
   "source": [
    "programa_paciente1.shape"
   ]
  },
  {
   "cell_type": "code",
   "execution_count": null,
   "metadata": {},
   "outputs": [],
   "source": [
    "programa_paciente1.to_excel(\"F:/Empresas SF/reportes/accountcontact.xlsx\", index=False)\n",
    "accountcontact1.to_excel(\"F:/Empresas SF/reportes/accountcontact1.xlsx\", index=False)"
   ]
  }
 ],
 "metadata": {
  "kernelspec": {
   "display_name": "salesforce",
   "language": "python",
   "name": "python3"
  },
  "language_info": {
   "codemirror_mode": {
    "name": "ipython",
    "version": 3
   },
   "file_extension": ".py",
   "mimetype": "text/x-python",
   "name": "python",
   "nbconvert_exporter": "python",
   "pygments_lexer": "ipython3",
   "version": "3.8.16"
  },
  "orig_nbformat": 4
 },
 "nbformat": 4,
 "nbformat_minor": 2
}
