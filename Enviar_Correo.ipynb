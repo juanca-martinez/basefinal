{
 "cells": [
  {
   "cell_type": "code",
   "execution_count": 31,
   "metadata": {
    "notebookRunGroups": {
     "groupValue": "1"
    }
   },
   "outputs": [],
   "source": [
    "import smtplib\n",
    "from email.mime.multipart import MIMEMultipart\n",
    "from email.mime.text import MIMEText\n",
    "from email.mime.base import MIMEBase\n",
    "from email import encoders\n",
    "import win32com.client\n",
    "from datetime import datetime\n",
    "import os\n",
    "import shutil\n",
    "import time"
   ]
  },
  {
   "attachments": {},
   "cell_type": "markdown",
   "metadata": {},
   "source": [
    "funcion envio de email\n"
   ]
  },
  {
   "cell_type": "code",
   "execution_count": 2,
   "metadata": {},
   "outputs": [
    {
     "name": "stdout",
     "output_type": "stream",
     "text": [
      "The bold text is \u001b[1mPython is\u001b[0m\n"
     ]
    }
   ],
   "source": [
    "print(\"The bold text is\",'\\033[1m' + 'Python is' + '\\033[0m')"
   ]
  },
  {
   "cell_type": "code",
   "execution_count": 32,
   "metadata": {
    "notebookRunGroups": {
     "groupValue": "1"
    }
   },
   "outputs": [],
   "source": [
    "def envio_de_email(\n",
    "    remitente,\n",
    "    destinatarios,\n",
    "    concopia,\n",
    "    asunto,\n",
    "    nombre_reporte,\n",
    "    ruta_adjunto,\n",
    "    nombre_adjunto,\n",
    "    \n",
    "):\n",
    "    #asunto = 'Prototipo Reporte'\n",
    "    #A continuacion se adjunta Link con los datos Procesados\\nhttps://infogram.com/metlife-1h7j4dvxy3pe94n \n",
    "    cuerpo = (\n",
    "        \"Estimados, buen día.\\nAdjunto reporte semanal \"\n",
    "        + nombre_reporte\n",
    "        + \" actualizado.\\n\\n\\n Saludos.\\n\\nJuan Carlos Martínez\\nCare Assistance\\n\"\n",
    "    )\n",
    "    destinatarios2 = destinatarios + concopia\n",
    "    # Creamos el objeto mensaje\n",
    "    mensaje = MIMEMultipart()\n",
    "    # Establecemos los atributos del mensaje\n",
    "    mensaje[\"From\"] = remitente\n",
    "    mensaje[\"To\"] = \", \".join(destinatarios)\n",
    "    mensaje[\"CC\"] = \", \".join(concopia)\n",
    "    mensaje[\"Subject\"] = asunto\n",
    "    # Agregamos el cuerpo del mensaje como objeto MIME de tipo texto\n",
    "    mensaje.attach(MIMEText(cuerpo, \"plain\"))\n",
    "    # Abrimos el archivo que vamos a adjuntar\n",
    "    archivo_adjunto = open(ruta_adjunto, \"rb\")\n",
    "\n",
    "    # Creamos un objeto MIME base\n",
    "    adjunto_MIME = MIMEBase(\"application\", \"octet-stream\")\n",
    "    # Y le cargamos el archivo adjunto\n",
    "    adjunto_MIME.set_payload((archivo_adjunto).read())\n",
    "    # Codificamos el objeto en BASE64\n",
    "    encoders.encode_base64(adjunto_MIME)\n",
    "    # Agregamos una cabecera al objeto\n",
    "    adjunto_MIME.add_header(\n",
    "        \"Content-Disposition\", \"attachment; filename= %s\" % nombre_adjunto\n",
    "    )\n",
    "    # Y finalmente lo agregamos al mensaje\n",
    "    mensaje.attach(adjunto_MIME)\n",
    "    # Creamos la conexión con el servidor\n",
    "    sesion_smtp = smtplib.SMTP(\"smtp.office365.com\", 587)\n",
    "    # Ciframos la conexión\n",
    "    sesion_smtp.starttls()\n",
    "    # Iniciamos sesión en el servidor\n",
    "    sesion_smtp.login(\"jmartinez@careassistance.com\", \"Jcmm010483\")\n",
    "    # Convertimos el objeto mensaje a texto\n",
    "    texto = mensaje.as_string()\n",
    "\n",
    "    # Enviamos el mensaje\n",
    "    sesion_smtp.sendmail(remitente, destinatarios2, texto)\n",
    "\n",
    "    # Cerramos la conexión\n",
    "    sesion_smtp.quit()\n",
    "    time.sleep(2)\n",
    "   "
   ]
  },
  {
   "attachments": {},
   "cell_type": "markdown",
   "metadata": {},
   "source": [
    "funcion de actualizar archivo\n"
   ]
  },
  {
   "cell_type": "code",
   "execution_count": 33,
   "metadata": {
    "notebookRunGroups": {
     "groupValue": "1"
    }
   },
   "outputs": [],
   "source": [
    "def actualizar(nombre_archivo):\n",
    "    #File.Quit() \n",
    "    # Opening Excel software using the win32com\n",
    "    File = win32com.client.Dispatch(\"Excel.Application\")\n",
    "    # Optional line to show the Excel software\n",
    "    File.Visible = 1\n",
    "    # Opening your workbook\n",
    "    Workbook = File.Workbooks.open(nombre_archivo)\n",
    "    Workbook.RefreshAll()\n",
    "    # Refeshing all the shests\n",
    "    # Saving the Workbook\n",
    "    Workbook.Save()\n",
    "    # Closing the Excel File\n",
    "    File.Quit()\n",
    "    "
   ]
  },
  {
   "attachments": {},
   "cell_type": "markdown",
   "metadata": {},
   "source": [
    "Funcion crear carpeta\n"
   ]
  },
  {
   "cell_type": "code",
   "execution_count": 34,
   "metadata": {
    "notebookRunGroups": {
     "groupValue": "1"
    }
   },
   "outputs": [],
   "source": [
    "date = datetime.now()\n",
    "dia = date.strftime(\"%d-%m-%Y\")\n",
    "\n",
    "\n",
    "####### Comprobacion de carpeta ########\n",
    "\n",
    "\n",
    "def crear_carpeta(nombre_carpeta):\n",
    "    if not os.path.isdir(str(nombre_carpeta) + str(dia)):\n",
    "        print(\"No existe, se crea\")\n",
    "        os.mkdir(str(nombre_carpeta) + str(dia))\n",
    "        nombre = str(nombre_carpeta) + str(dia) + \"/\"\n",
    "        return nombre"
   ]
  },
  {
   "cell_type": "code",
   "execution_count": 6,
   "metadata": {},
   "outputs": [
    {
     "name": "stdout",
     "output_type": "stream",
     "text": [
      "No existe, se crea\n"
     ]
    }
   ],
   "source": [
    "nombre_reporte = \"MetLife General\"\n",
    "nombre_carpeta = \"F:/Reportes SF/MetLife/\"\n",
    "nombre_archivo_final = nombre_carpeta + str(dia) + \"/\" + nombre_reporte + \".xlsx\"\n",
    "Archivo_origen = nombre_carpeta + \"Datos/\" + nombre_reporte + \".xlsx\"\n",
    "crear_carpeta(nombre_carpeta)\n",
    "actualizar(Archivo_origen)\n",
    "Asunto = \"Detalle de Uso \" + nombre_reporte + \" - \" + str(dia)\n",
    "shutil.copy2(Archivo_origen, nombre_archivo_final, follow_symlinks=True)\n",
    "\n",
    "envio_de_email(\n",
    "    remitente=\"jmartinez@careassistance.com\",\n",
    "    destinatarios=[\"jmartinez@careassistance.com\"],\n",
    "    concopia=[\n",
    "        \"cvillanueva@careassistance.com\",\n",
    "        # \"pcerda@careassistance.com\",\n",
    "        #\"frubio@careassistance.com\",\n",
    "        #\"dnunez@careassistance.com\",        \n",
    "        #\"lhernandez@careassistance.com\",\n",
    "\n",
    "       \n",
    "    ],\n",
    "    asunto=Asunto,\n",
    "    nombre_reporte=str(nombre_reporte),\n",
    "    ruta_adjunto=nombre_archivo_final,\n",
    "    nombre_adjunto=nombre_reporte + \".xlsx\",\n",
    ")"
   ]
  },
  {
   "attachments": {},
   "cell_type": "markdown",
   "metadata": {},
   "source": [
    "3SP\n"
   ]
  },
  {
   "cell_type": "code",
   "execution_count": 7,
   "metadata": {},
   "outputs": [
    {
     "name": "stdout",
     "output_type": "stream",
     "text": [
      "No existe, se crea\n"
     ]
    }
   ],
   "source": [
    "nombre_reporte = \"Sura\"\n",
    "nombre_carpeta = \"F:/Reportes SF/Sura/\"\n",
    "nombre_archivo_final = nombre_carpeta + str(dia) + \"/\" + nombre_reporte + \".xlsx\"\n",
    "Archivo_origen = nombre_carpeta + \"Datos/\" + nombre_reporte + \".xlsx\"\n",
    "crear_carpeta(nombre_carpeta)\n",
    "actualizar(Archivo_origen)\n",
    "Asunto = \"Detalle de Uso \" + nombre_reporte + \" - \" + str(dia)\n",
    "shutil.copy2(Archivo_origen, nombre_archivo_final, follow_symlinks=True)\n",
    "\n",
    "envio_de_email(\n",
    "    remitente=\"jmartinez@careassistance.com\",\n",
    "    destinatarios=[\n",
    "        \"jmartinez@careassistance.com\",\n",
    "        \"cvillanueva@careassistance.com\",\n",
    "        \"jcm.matus@gmail.com\",\n",
    "        \"jota.kamm@gmail.com\",\n",
    "    ],\n",
    "    concopia=[\"jcm.matus@gmail.com\", \"cvillanueva@careassistance.com\"],\n",
    "    asunto=Asunto,\n",
    "    nombre_reporte=str(nombre_reporte),\n",
    "    ruta_adjunto=nombre_archivo_final,\n",
    "    nombre_adjunto=nombre_reporte + \".xlsx\",\n",
    ")"
   ]
  },
  {
   "attachments": {},
   "cell_type": "markdown",
   "metadata": {},
   "source": [
    "Sura"
   ]
  },
  {
   "cell_type": "code",
   "execution_count": 8,
   "metadata": {},
   "outputs": [],
   "source": [
    "nombre_reporte = \"Sura\"\n",
    "nombre_carpeta = \"F:/Reportes SF/Sura/\"\n",
    "nombre_archivo_final = nombre_carpeta + str(dia) + \"/\" + nombre_reporte + \".xlsx\"\n",
    "Archivo_origen = nombre_carpeta + \"Datos/\" + nombre_reporte + \".xlsx\"\n",
    "crear_carpeta(nombre_carpeta)\n",
    "actualizar(Archivo_origen)\n",
    "Asunto = \"Detalle de Uso \" + nombre_reporte + \" - \" + str(dia)\n",
    "shutil.copy2(Archivo_origen, nombre_archivo_final, follow_symlinks=True)\n",
    "\n",
    "envio_de_email(\n",
    "    remitente=\"jmartinez@careassistance.com\",\n",
    "    destinatarios=[\n",
    "        \n",
    "        \"pferreira@careassistance.com\",\n",
    "    ],\n",
    "    concopia=[\n",
    "        \"dnunez@careassistance.com\",\n",
    "        \"dgarcia@careassistance.com\",\n",
    "        \"pcerda@careassistance.com\",\n",
    "        \"frubio@careassistance.com\",\n",
    "    ],\n",
    "    asunto=Asunto,\n",
    "    nombre_reporte=str(nombre_reporte),\n",
    "    ruta_adjunto=nombre_archivo_final,\n",
    "    nombre_adjunto=nombre_reporte + \".xlsx\",\n",
    ")"
   ]
  },
  {
   "attachments": {},
   "cell_type": "markdown",
   "metadata": {},
   "source": [
    "Vida Security Group"
   ]
  },
  {
   "cell_type": "code",
   "execution_count": 9,
   "metadata": {},
   "outputs": [
    {
     "name": "stdout",
     "output_type": "stream",
     "text": [
      "No existe, se crea\n"
     ]
    }
   ],
   "source": [
    "nombre_reporte = \"Vida Security - General\"\n",
    "nombre_carpeta = \"F:/Reportes SF/Vida Security/\"\n",
    "nombre_archivo_final = nombre_carpeta + str(dia) + \"/\" + nombre_reporte + \".xlsx\"\n",
    "Archivo_origen = nombre_carpeta + \"Datos/\" + nombre_reporte + \".xlsx\"\n",
    "crear_carpeta(nombre_carpeta)\n",
    "actualizar(Archivo_origen)\n",
    "Asunto = \"Detalle de Uso \" + nombre_reporte + \" - \" + str(dia)\n",
    "shutil.copy2(Archivo_origen, nombre_archivo_final, follow_symlinks=True)\n",
    "\n",
    "envio_de_email(\n",
    "    remitente=\"jmartinez@careassistance.com\",\n",
    "    destinatarios=[\n",
    "        \"camilo.cortes@security.cl\",\n",
    "        \"pedro.vega@security.cl\",\n",
    "        \"carolina.staforelli@security.cl\",\n",
    "        \"mariaconsuelo.ugalde@security.cl\",\n",
    "        \"francia.vidal@security.cl\",\n",
    "        \"marialaura.perez@security.cl\",\n",
    "        \"francisco.hoyl@security.cl\",\n",
    "        \"alejandra.catena@security.cl\",\n",
    "        \"silvia.riquelme@security.cl\",\n",
    "        \"paulina.galaz@security.cl\",\n",
    "        \"cristina.alarcon@security.cl\",\n",
    "    ],\n",
    "    concopia=[\n",
    "        \"dnunez@careassistance.com\",\n",
    "        \"dgarcia@careassistance.com\",\n",
    "        \"pcerda@careassistance.com\",\n",
    "        \"frubio@careassistance.com\",\n",
    "    ],\n",
    "    asunto=Asunto,\n",
    "    nombre_reporte=str(nombre_reporte),\n",
    "    ruta_adjunto=nombre_archivo_final,\n",
    "    nombre_adjunto=nombre_reporte + \".xlsx\",\n",
    ")"
   ]
  },
  {
   "cell_type": "code",
   "execution_count": 10,
   "metadata": {},
   "outputs": [],
   "source": [
    "nombre_reporte = \"Vida Security - BHP\"\n",
    "nombre_carpeta = \"F:/Reportes SF/Vida Security/\"\n",
    "nombre_archivo_final = nombre_carpeta + str(dia) + \"/\" + nombre_reporte + \".xlsx\"\n",
    "Archivo_origen = nombre_carpeta + \"Datos/\" + nombre_reporte + \".xlsx\"\n",
    "crear_carpeta(nombre_carpeta)\n",
    "actualizar(Archivo_origen)\n",
    "Asunto = \"Detalle de Uso \" + nombre_reporte + \" - \" + str(dia)\n",
    "shutil.copy2(Archivo_origen, nombre_archivo_final, follow_symlinks=True)\n",
    "\n",
    "envio_de_email(\n",
    "    remitente=\"jmartinez@careassistance.com\",\n",
    "    destinatarios=[\n",
    "        \"mariaconsuelo.ugalde@security.cl\",\n",
    "    ],\n",
    "    concopia=[\n",
    "        \"dnunez@careassistance.com\",\n",
    "        \"dgarcia@careassistance.com\",\n",
    "        \"pcerda@careassistance.com\",\n",
    "        \"frubio@careassistance.com\",\n",
    "    ],\n",
    "    asunto=Asunto,\n",
    "    nombre_reporte=str(nombre_reporte),\n",
    "    ruta_adjunto=nombre_archivo_final,\n",
    "    nombre_adjunto=nombre_reporte + \".xlsx\",\n",
    ")"
   ]
  },
  {
   "cell_type": "code",
   "execution_count": 11,
   "metadata": {},
   "outputs": [],
   "source": [
    "nombre_reporte = \"Vida Security - SQM\"\n",
    "nombre_carpeta = \"F:/Reportes SF/Vida Security/\"\n",
    "nombre_archivo_final = nombre_carpeta + str(dia) + \"/\" + nombre_reporte + \".xlsx\"\n",
    "Archivo_origen = nombre_carpeta + \"Datos/\" + nombre_reporte + \".xlsx\"\n",
    "crear_carpeta(nombre_carpeta)\n",
    "actualizar(Archivo_origen)\n",
    "Asunto = \"Detalle de Uso \" + nombre_reporte + \" - \" + str(dia)\n",
    "shutil.copy2(Archivo_origen, nombre_archivo_final, follow_symlinks=True)\n",
    "\n",
    "envio_de_email(\n",
    "    remitente=\"jmartinez@careassistance.com\",\n",
    "    destinatarios=[\n",
    "        \"francia.vidal@security.cl\",\n",
    "    ],\n",
    "    concopia=[\n",
    "        \"dnunez@careassistance.com\",\n",
    "        \"dgarcia@careassistance.com\",\n",
    "        \"pcerda@careassistance.com\",\n",
    "        \"frubio@careassistance.com\",\n",
    "    ],\n",
    "    asunto=Asunto,\n",
    "    nombre_reporte=str(nombre_reporte),\n",
    "    ruta_adjunto=nombre_archivo_final,\n",
    "    nombre_adjunto=nombre_reporte + \".xlsx\",\n",
    ")"
   ]
  },
  {
   "cell_type": "code",
   "execution_count": 12,
   "metadata": {},
   "outputs": [],
   "source": [
    "nombre_reporte = \"Vida Security - Ferronor\"\n",
    "nombre_carpeta = \"F:/Reportes SF/Vida Security/\"\n",
    "nombre_archivo_final = nombre_carpeta + str(dia) + \"/\" + nombre_reporte + \".xlsx\"\n",
    "Archivo_origen = nombre_carpeta + \"Datos/\" + nombre_reporte + \".xlsx\"\n",
    "crear_carpeta(nombre_carpeta)\n",
    "actualizar(Archivo_origen)\n",
    "Asunto = \"Detalle de Uso \" + nombre_reporte + \" - \" + str(dia)\n",
    "shutil.copy2(Archivo_origen, nombre_archivo_final, follow_symlinks=True)\n",
    "\n",
    "envio_de_email(\n",
    "    remitente=\"jmartinez@careassistance.com\",\n",
    "    destinatarios=[\n",
    "        \"marialaura.perez@security.cl\",\n",
    "    ],\n",
    "    concopia=[\n",
    "        \"dnunez@careassistance.com\",\n",
    "        \"dgarcia@careassistance.com\",\n",
    "        \"pcerda@careassistance.com\",\n",
    "        \"frubio@careassistance.com\",\n",
    "    ],\n",
    "    asunto=Asunto,\n",
    "    nombre_reporte=str(nombre_reporte),\n",
    "    ruta_adjunto=nombre_archivo_final,\n",
    "    nombre_adjunto=nombre_reporte + \".xlsx\",\n",
    ")"
   ]
  },
  {
   "cell_type": "code",
   "execution_count": 13,
   "metadata": {},
   "outputs": [],
   "source": [
    "nombre_reporte = \"Vida Security - Itau\"\n",
    "nombre_carpeta = \"F:/Reportes SF/Vida Security/\"\n",
    "nombre_archivo_final = nombre_carpeta + str(dia) + \"/\" + nombre_reporte + \".xlsx\"\n",
    "Archivo_origen = nombre_carpeta + \"Datos/\" + nombre_reporte + \".xlsx\"\n",
    "crear_carpeta(nombre_carpeta)\n",
    "actualizar(Archivo_origen)\n",
    "Asunto = \"Detalle de Uso \" + nombre_reporte + \" - \" + str(dia)\n",
    "shutil.copy2(Archivo_origen, nombre_archivo_final, follow_symlinks=True)\n",
    "\n",
    "envio_de_email(\n",
    "    remitente=\"jmartinez@careassistance.com\",\n",
    "    destinatarios=[\n",
    "        \"mllanten@volvek.cl\",\n",
    "        \"marialaura.perez@security.cl\",\n",
    "        \"jmesias@volvek.cl\",\n",
    "    ],\n",
    "    concopia=[\n",
    "        \"dnunez@careassistance.com\",\n",
    "        \"dgarcia@careassistance.com\",\n",
    "        \"pcerda@careassistance.com\",\n",
    "        \"frubio@careassistance.com\",\n",
    "    ],\n",
    "    asunto=Asunto,\n",
    "    nombre_reporte=str(nombre_reporte),\n",
    "    ruta_adjunto=nombre_archivo_final,\n",
    "    nombre_adjunto=nombre_reporte + \".xlsx\",\n",
    ")"
   ]
  },
  {
   "attachments": {},
   "cell_type": "markdown",
   "metadata": {},
   "source": [
    "Pedro de Valdivia\n"
   ]
  },
  {
   "cell_type": "code",
   "execution_count": 14,
   "metadata": {},
   "outputs": [
    {
     "name": "stdout",
     "output_type": "stream",
     "text": [
      "No existe, se crea\n"
     ]
    }
   ],
   "source": [
    "nombre_reporte = \"Pedro de Valdivia\"\n",
    "nombre_carpeta = \"F:/Reportes SF/Pedro de Valdivia/\"\n",
    "nombre_archivo_final = nombre_carpeta + str(dia) + \"/\" + nombre_reporte + \".xlsx\"\n",
    "Archivo_origen = nombre_carpeta + \"Datos/\" + nombre_reporte + \".xlsx\"\n",
    "crear_carpeta(nombre_carpeta)\n",
    "actualizar(Archivo_origen)\n",
    "Asunto = \"Detalle de Uso \" + nombre_reporte + \" - \" + str(dia)\n",
    "shutil.copy2(Archivo_origen, nombre_archivo_final, follow_symlinks=True)\n",
    "\n",
    "envio_de_email(\n",
    "    remitente=\"jmartinez@careassistance.com\",\n",
    "    destinatarios=[\"mulsen@pedrodevaldivia.cl\"],\n",
    "    concopia=[\n",
    "        \"rtapia@careassistance.com\",\n",
    "        \"dgarcia@careassistance.com\",\n",
    "        \"dnunez@careassistance.com\",\n",
    "        \"pcerda@careassistance.com\",\n",
    "        \"frubio@careassistance.com\",\n",
    "    ],\n",
    "    asunto=Asunto,\n",
    "    nombre_reporte = str(nombre_reporte),\n",
    "    ruta_adjunto=nombre_archivo_final,\n",
    "    nombre_adjunto=nombre_reporte + \".xlsx\",\n",
    ")\n"
   ]
  },
  {
   "attachments": {},
   "cell_type": "markdown",
   "metadata": {},
   "source": [
    "Grupo PSG"
   ]
  },
  {
   "cell_type": "code",
   "execution_count": 15,
   "metadata": {},
   "outputs": [
    {
     "name": "stdout",
     "output_type": "stream",
     "text": [
      "No existe, se crea\n"
     ]
    }
   ],
   "source": [
    "nombre_reporte = \"Grupo PSG\"\n",
    "nombre_carpeta = \"F:/Reportes SF/Grupo PSG/\"\n",
    "nombre_archivo_final = nombre_carpeta + str(dia) + \"/\" + nombre_reporte + \".xlsx\"\n",
    "Archivo_origen = nombre_carpeta + \"Datos/\" + nombre_reporte + \".xlsx\"\n",
    "crear_carpeta(nombre_carpeta)\n",
    "actualizar(Archivo_origen)\n",
    "Asunto = \"Detalle de Uso \" + nombre_reporte + \" - \" + str(dia)\n",
    "shutil.copy2(Archivo_origen, nombre_archivo_final, follow_symlinks=True)\n",
    "\n",
    "envio_de_email(\n",
    "    remitente=\"jmartinez@careassistance.com\",\n",
    "    destinatarios=[\"ionate@grupopsg.cl\"],\n",
    "    concopia=[\n",
    "        \"pferreira@careassistance.com\",\n",
    "        \"dgarcia@careassistance.com\",\n",
    "        \"dnunez@careassistance.com\",\n",
    "        \"pcerda@careassistance.com\",\n",
    "        \"frubio@careassistance.com\",\n",
    "    ],\n",
    "    asunto=Asunto,\n",
    "    nombre_reporte = str(nombre_reporte),\n",
    "    ruta_adjunto=nombre_archivo_final,\n",
    "    nombre_adjunto=nombre_reporte + \".xlsx\",\n",
    ")\n"
   ]
  },
  {
   "attachments": {},
   "cell_type": "markdown",
   "metadata": {},
   "source": [
    "Minera el Abra\n"
   ]
  },
  {
   "cell_type": "code",
   "execution_count": 16,
   "metadata": {},
   "outputs": [
    {
     "name": "stdout",
     "output_type": "stream",
     "text": [
      "No existe, se crea\n"
     ]
    }
   ],
   "source": [
    "nombre_reporte = \"Minera El Abra\"\n",
    "nombre_carpeta = \"F:/Reportes SF/Minera El Abra/\"\n",
    "nombre_archivo_final = nombre_carpeta + str(dia) + \"/\" + nombre_reporte + \".xlsx\"\n",
    "Archivo_origen = nombre_carpeta + \"Datos/\" + nombre_reporte + \".xlsx\"\n",
    "crear_carpeta(nombre_carpeta)\n",
    "actualizar(Archivo_origen)\n",
    "Asunto = \"Detalle de Uso \" + nombre_reporte + \" - \" + str(dia)\n",
    "shutil.copy2(Archivo_origen, nombre_archivo_final, follow_symlinks=True)\n",
    "\n",
    "envio_de_email(\n",
    "    remitente=\"jmartinez@careassistance.com\",\n",
    "    destinatarios=[\"jpacheco1@fmi.com\"],\n",
    "    concopia=[\n",
    "        \"rtapia@careassistance.com\",\n",
    "        \"dgarcia@careassistance.com\",\n",
    "        \"dnunez@careassistance.com\",\n",
    "        \"pcerda@careassistance.com\",\n",
    "        \"frubio@careassistance.com\",\n",
    "    ],\n",
    "    asunto=Asunto,\n",
    "    nombre_reporte = str(nombre_reporte),\n",
    "    ruta_adjunto=nombre_archivo_final,\n",
    "    nombre_adjunto=nombre_reporte + \".xlsx\",\n",
    ")\n"
   ]
  },
  {
   "attachments": {},
   "cell_type": "markdown",
   "metadata": {},
   "source": [
    "wom"
   ]
  },
  {
   "cell_type": "code",
   "execution_count": 17,
   "metadata": {},
   "outputs": [
    {
     "name": "stdout",
     "output_type": "stream",
     "text": [
      "No existe, se crea\n"
     ]
    }
   ],
   "source": [
    "nombre_reporte = \"MetLife - Wom\"\n",
    "nombre_carpeta = \"F:/Reportes SF/Wom/\"\n",
    "nombre_archivo_final = nombre_carpeta + str(dia) + \"/\" + nombre_reporte + \".xlsx\"\n",
    "Archivo_origen = nombre_carpeta + \"Datos/\" + nombre_reporte + \".xlsx\"\n",
    "crear_carpeta(nombre_carpeta)\n",
    "actualizar(Archivo_origen)\n",
    "Asunto = \"Detalle de Uso \" + nombre_reporte + \" - \" + str(dia)\n",
    "shutil.copy2(Archivo_origen, nombre_archivo_final, follow_symlinks=True)\n",
    "\n",
    "envio_de_email(\n",
    "    remitente=\"jmartinez@careassistance.com\",\n",
    "    destinatarios=[\"rtapia@careassistance.com\"],\n",
    "    concopia=[\n",
    "        \"dgarcia@careassistance.com\",\n",
    "        \"dnunez@careassistance.com\",\n",
    "        \"pcerda@careassistance.com\",\n",
    "        \"frubio@careassistance.com\",\n",
    "    ],\n",
    "    asunto=Asunto,\n",
    "    nombre_reporte = str(nombre_reporte),\n",
    "    ruta_adjunto=nombre_archivo_final,\n",
    "    nombre_adjunto=nombre_reporte + \".xlsx\",\n",
    ")"
   ]
  },
  {
   "attachments": {},
   "cell_type": "markdown",
   "metadata": {},
   "source": [
    "Lipigas\n"
   ]
  },
  {
   "cell_type": "code",
   "execution_count": 18,
   "metadata": {},
   "outputs": [
    {
     "name": "stdout",
     "output_type": "stream",
     "text": [
      "No existe, se crea\n"
     ]
    }
   ],
   "source": [
    "nombre_reporte = \"Empresas Lipigas\"\n",
    "nombre_carpeta = \"F:/Reportes SF/Lipigas/\"\n",
    "nombre_archivo_final = nombre_carpeta + str(dia) + \"/\" + nombre_reporte + \".xlsx\"\n",
    "Archivo_origen = nombre_carpeta + \"Datos/\" + nombre_reporte + \".xlsx\"\n",
    "crear_carpeta(nombre_carpeta)\n",
    "actualizar(Archivo_origen)\n",
    "Asunto = \"Detalle de Uso \" + nombre_reporte + \" - \" + str(dia)\n",
    "shutil.copy2(Archivo_origen, nombre_archivo_final, follow_symlinks=True)\n",
    "\n",
    "envio_de_email(\n",
    "    remitente=\"jmartinez@careassistance.com\",\n",
    "    destinatarios=[\"xlotina@lipigas.cl\", \"mvera@lipigas.cl\", \"frojass@lipigas.cl\"],\n",
    "    concopia=[\n",
    "        \"rtapia@careassistance.com\",\n",
    "        \"dgarcia@careassistance.com\",\n",
    "        \"dnunez@careassistance.com\",\n",
    "        \"pcerda@careassistance.com\",\n",
    "        \"frubio@careassistance.com\",\n",
    "    ],\n",
    "    asunto=Asunto,\n",
    "    nombre_reporte=str(nombre_reporte),\n",
    "    ruta_adjunto=nombre_archivo_final,\n",
    "    nombre_adjunto=nombre_reporte + \".xlsx\",\n",
    ")"
   ]
  },
  {
   "attachments": {},
   "cell_type": "markdown",
   "metadata": {},
   "source": [
    "Colmena\n"
   ]
  },
  {
   "cell_type": "code",
   "execution_count": 19,
   "metadata": {},
   "outputs": [
    {
     "name": "stdout",
     "output_type": "stream",
     "text": [
      "No existe, se crea\n"
     ]
    }
   ],
   "source": [
    "nombre_reporte = \"Colmena\"\n",
    "nombre_carpeta = \"F:/Reportes SF/Colmena/\"\n",
    "nombre_archivo_final = nombre_carpeta + str(dia) + \"/\" + nombre_reporte + \".xlsx\"\n",
    "Archivo_origen = nombre_carpeta + \"Datos/\" + nombre_reporte + \".xlsx\"\n",
    "crear_carpeta(nombre_carpeta)\n",
    "actualizar(Archivo_origen)\n",
    "Asunto = \"Detalle de Uso \" + nombre_reporte + \" - \" + str(dia)\n",
    "shutil.copy2(Archivo_origen, nombre_archivo_final, follow_symlinks=True)\n",
    "\n",
    "envio_de_email(\n",
    "    remitente=\"jmartinez@careassistance.com\",\n",
    "    destinatarios=[\"bhenriquez@colmena.cl\", \"jmvivanco@colmena.cl\"],\n",
    "    concopia=[\n",
    "        \"kinesiologia@siemprechile.cl\",\n",
    "        \"frodriguez@siemprechile.cl\",\n",
    "        \"dnunez@careassistance.com\",\n",
    "        \"pcerda@careassistance.com\",\n",
    "        \"frubio@careassistance.com\",\n",
    "    ],\n",
    "    asunto=Asunto,\n",
    "    nombre_reporte = str(nombre_reporte),\n",
    "    ruta_adjunto=nombre_archivo_final,\n",
    "    nombre_adjunto=nombre_reporte + \".xlsx\",\n",
    ")"
   ]
  },
  {
   "attachments": {},
   "cell_type": "markdown",
   "metadata": {},
   "source": [
    "Cruz Verde\n"
   ]
  },
  {
   "cell_type": "code",
   "execution_count": 20,
   "metadata": {},
   "outputs": [
    {
     "name": "stdout",
     "output_type": "stream",
     "text": [
      "No existe, se crea\n"
     ]
    }
   ],
   "source": [
    "nombre_reporte = \"Farmacias Cruz Verde\"\n",
    "nombre_carpeta = \"F:/Reportes SF/Cruz Verde/\"\n",
    "nombre_archivo_final = nombre_carpeta + str(dia) + \"/\" + nombre_reporte + \".xlsx\"\n",
    "Archivo_origen = nombre_carpeta + \"Datos/\" + nombre_reporte + \".xlsx\"\n",
    "crear_carpeta(nombre_carpeta)\n",
    "actualizar(Archivo_origen)\n",
    "Asunto = \"Detalle de Uso \" + nombre_reporte + \" - \" + str(dia)\n",
    "shutil.copy2(Archivo_origen, nombre_archivo_final, follow_symlinks=True)\n",
    "\n",
    "envio_de_email(\n",
    "    remitente=\"jmartinez@careassistance.com\",\n",
    "    destinatarios=[\"claudia.ferrada@cruzverde.cl\",\"oarancibia@cruzverde.cl\"],\n",
    "    concopia=[\n",
    "        \"rtapia@careassistance.com\",\n",
    "        \"dgarcia@careassistance.com\",\n",
    "        \"dnunez@careassistance.com\",\n",
    "        \"pcerda@careassistance.com\",\n",
    "        \"frubio@careassistance.com\",\n",
    "    ],\n",
    "    \n",
    "    asunto=Asunto,\n",
    "    nombre_reporte = str(nombre_reporte),\n",
    "    ruta_adjunto=nombre_archivo_final,\n",
    "    nombre_adjunto=nombre_reporte + \".xlsx\",\n",
    ")"
   ]
  },
  {
   "attachments": {},
   "cell_type": "markdown",
   "metadata": {},
   "source": [
    "THB Seguros"
   ]
  },
  {
   "cell_type": "code",
   "execution_count": 21,
   "metadata": {},
   "outputs": [
    {
     "name": "stdout",
     "output_type": "stream",
     "text": [
      "No existe, se crea\n"
     ]
    }
   ],
   "source": [
    "nombre_reporte = \"THB Seguros\"\n",
    "nombre_carpeta = \"F:/Reportes SF/THB Seguros/\"\n",
    "nombre_archivo_final = nombre_carpeta + str(dia) + \"/\" + nombre_reporte + \".xlsx\"\n",
    "Archivo_origen = nombre_carpeta + \"Datos/\" + nombre_reporte + \".xlsx\"\n",
    "crear_carpeta(nombre_carpeta)\n",
    "actualizar(Archivo_origen)\n",
    "Asunto = \"Detalle de Uso \" + nombre_reporte + \" - \" + str(dia)\n",
    "shutil.copy2(Archivo_origen, nombre_archivo_final, follow_symlinks=True)\n",
    "\n",
    "envio_de_email(\n",
    "    remitente=\"jmartinez@careassistance.com\",\n",
    "    destinatarios=[\n",
    "        \"agualda@thbseguros.cl\",\n",
    "        \"jbravo@thbseguros.cl\",\n",
    "        \"nwittig@thbseguros.cl\",\n",
    "    ],\n",
    "    concopia=[\n",
    "        \"rtapia@careassistance.com\",\n",
    "        \"dgarcia@careassistance.com\",\n",
    "        \"dnunez@careassistance.com\",\n",
    "        \"pcerda@careassistance.com\",\n",
    "        \"frubio@careassistance.com\",\n",
    "    ],\n",
    "    asunto=Asunto,\n",
    "    nombre_reporte = str(nombre_reporte),\n",
    "    ruta_adjunto=nombre_archivo_final,\n",
    "    nombre_adjunto=nombre_reporte + \".xlsx\",\n",
    ")"
   ]
  },
  {
   "attachments": {},
   "cell_type": "markdown",
   "metadata": {},
   "source": [
    "VidaCel"
   ]
  },
  {
   "cell_type": "code",
   "execution_count": 27,
   "metadata": {},
   "outputs": [],
   "source": [
    "nombre_reporte = \"VidaCel\"\n",
    "nombre_carpeta = \"F:/Reportes SF/VidaCel/\"\n",
    "nombre_archivo_final = nombre_carpeta + str(dia) + \"/\" + nombre_reporte + \".xlsx\"\n",
    "Archivo_origen = nombre_carpeta + \"Datos/\" + nombre_reporte + \".xlsx\"\n",
    "crear_carpeta(nombre_carpeta)\n",
    "actualizar(Archivo_origen)\n",
    "Asunto = \"Detalle de Uso \" + nombre_reporte + \" - \" + str(dia)\n",
    "shutil.copy2(Archivo_origen, nombre_archivo_final, follow_symlinks=True)\n",
    "\n",
    "envio_de_email(\n",
    "    remitente=\"jmartinez@careassistance.com\",\n",
    "    destinatarios=[\n",
    "        \"ahoffa@vidacel.cl\",\n",
    "        \"mmerino@vidacel.cl\",\n",
    "        \"mgarcia@vidacel.cl\" \n",
    "    ],\n",
    "    concopia=[\n",
    "        \"rtapia@careassistance.com\",\n",
    "        \"dgarcia@careassistance.com\",\n",
    "        \"dnunez@careassistance.com\",\n",
    "        \"pcerda@careassistance.com\",\n",
    "        \"frubio@careassistance.com\",\n",
    "    ],\n",
    "    asunto=Asunto,\n",
    "    nombre_reporte = str(nombre_reporte),\n",
    "    ruta_adjunto=nombre_archivo_final,\n",
    "    nombre_adjunto=nombre_reporte + \".xlsx\",\n",
    ")"
   ]
  },
  {
   "cell_type": "code",
   "execution_count": 28,
   "metadata": {},
   "outputs": [],
   "source": [
    "nombre_reporte = \"VidaCel Colaboradores\"\n",
    "nombre_carpeta = \"F:/Reportes SF/VidaCel/\"\n",
    "nombre_archivo_final = nombre_carpeta + str(dia) + \"/\" + nombre_reporte + \".xlsx\"\n",
    "Archivo_origen = nombre_carpeta + \"Datos/\" + nombre_reporte + \".xlsx\"\n",
    "crear_carpeta(nombre_carpeta)\n",
    "actualizar(Archivo_origen)\n",
    "Asunto = \"Detalle de Uso \" + nombre_reporte + \" - \" + str(dia)\n",
    "shutil.copy2(Archivo_origen, nombre_archivo_final, follow_symlinks=True)\n",
    "\n",
    "envio_de_email(\n",
    "    remitente=\"jmartinez@careassistance.com\",\n",
    "    destinatarios=[\"mespinoza@vidacel.cl\", \"ahoffa@vidacel.cl\"],\n",
    "    concopia=[\n",
    "        \"rtapia@careassistance.com\",\n",
    "        \"dgarcia@careassistance.com\",\n",
    "        \"dnunez@careassistance.com\",\n",
    "        \"pcerda@careassistance.com\",\n",
    "        \"frubio@careassistance.com\",\n",
    "    ],\n",
    "    asunto=Asunto,\n",
    "    nombre_reporte=str(nombre_reporte),\n",
    "    ruta_adjunto=nombre_archivo_final,\n",
    "    nombre_adjunto=nombre_reporte + \".xlsx\",\n",
    ")"
   ]
  },
  {
   "attachments": {},
   "cell_type": "markdown",
   "metadata": {},
   "source": [
    "Socofar"
   ]
  },
  {
   "cell_type": "code",
   "execution_count": 29,
   "metadata": {},
   "outputs": [
    {
     "name": "stdout",
     "output_type": "stream",
     "text": [
      "No existe, se crea\n"
     ]
    }
   ],
   "source": [
    "nombre_reporte = \"Socofar\"\n",
    "nombre_carpeta = \"F:/Reportes SF/Socofar/\"\n",
    "nombre_archivo_final = nombre_carpeta + str(dia) + \"/\" + nombre_reporte + \".xlsx\"\n",
    "Archivo_origen = nombre_carpeta + \"Datos/\" + nombre_reporte + \".xlsx\"\n",
    "crear_carpeta(nombre_carpeta)\n",
    "actualizar(Archivo_origen)\n",
    "Asunto = \"Detalle de Uso \" + nombre_reporte + \" - \" + str(dia)\n",
    "shutil.copy2(Archivo_origen, nombre_archivo_final, follow_symlinks=True)\n",
    "\n",
    "envio_de_email(\n",
    "    remitente=\"jmartinez@careassistance.com\",\n",
    "    destinatarios=[\"maria.bravo@femsasalud.com\",'belen.bravo@femsasalud.com'],\n",
    "    concopia=[\n",
    "        \"rtapia@careassistance.com\",\n",
    "        \"dgarcia@careassistance.com\",\n",
    "        \"dnunez@careassistance.com\",\n",
    "        \"pcerda@careassistance.com\",\n",
    "        \"frubio@careassistance.com\",\n",
    "    ],\n",
    "    asunto=Asunto,\n",
    "    nombre_reporte = str(nombre_reporte),\n",
    "    ruta_adjunto=nombre_archivo_final,\n",
    "    nombre_adjunto=nombre_reporte + \".xlsx\",\n",
    ")"
   ]
  },
  {
   "cell_type": "code",
   "execution_count": 30,
   "metadata": {},
   "outputs": [
    {
     "ename": "KeyboardInterrupt",
     "evalue": "",
     "output_type": "error",
     "traceback": [
      "\u001b[1;31m---------------------------------------------------------------------------\u001b[0m",
      "\u001b[1;31mKeyboardInterrupt\u001b[0m                         Traceback (most recent call last)",
      "\u001b[1;32mc:\\Users\\jmartinez\\Desktop\\basefinal\\Enviar_Correo.ipynb Celda 41\u001b[0m in \u001b[0;36m6\n\u001b[0;32m      <a href='vscode-notebook-cell:/c%3A/Users/jmartinez/Desktop/basefinal/Enviar_Correo.ipynb#X53sZmlsZQ%3D%3D?line=3'>4</a>\u001b[0m Archivo_origen \u001b[39m=\u001b[39m nombre_carpeta \u001b[39m+\u001b[39m \u001b[39m\"\u001b[39m\u001b[39mDatos/\u001b[39m\u001b[39m\"\u001b[39m \u001b[39m+\u001b[39m nombre_reporte \u001b[39m+\u001b[39m \u001b[39m\"\u001b[39m\u001b[39m.xlsx\u001b[39m\u001b[39m\"\u001b[39m\n\u001b[0;32m      <a href='vscode-notebook-cell:/c%3A/Users/jmartinez/Desktop/basefinal/Enviar_Correo.ipynb#X53sZmlsZQ%3D%3D?line=4'>5</a>\u001b[0m crear_carpeta(nombre_carpeta)\n\u001b[1;32m----> <a href='vscode-notebook-cell:/c%3A/Users/jmartinez/Desktop/basefinal/Enviar_Correo.ipynb#X53sZmlsZQ%3D%3D?line=5'>6</a>\u001b[0m actualizar(Archivo_origen)\n\u001b[0;32m      <a href='vscode-notebook-cell:/c%3A/Users/jmartinez/Desktop/basefinal/Enviar_Correo.ipynb#X53sZmlsZQ%3D%3D?line=6'>7</a>\u001b[0m Asunto \u001b[39m=\u001b[39m \u001b[39m\"\u001b[39m\u001b[39mDetalle de Uso \u001b[39m\u001b[39m\"\u001b[39m \u001b[39m+\u001b[39m nombre_reporte \u001b[39m+\u001b[39m \u001b[39m\"\u001b[39m\u001b[39m - \u001b[39m\u001b[39m\"\u001b[39m \u001b[39m+\u001b[39m \u001b[39mstr\u001b[39m(dia)\n\u001b[0;32m      <a href='vscode-notebook-cell:/c%3A/Users/jmartinez/Desktop/basefinal/Enviar_Correo.ipynb#X53sZmlsZQ%3D%3D?line=7'>8</a>\u001b[0m shutil\u001b[39m.\u001b[39mcopy2(Archivo_origen, nombre_archivo_final, follow_symlinks\u001b[39m=\u001b[39m\u001b[39mTrue\u001b[39;00m)\n",
      "\u001b[1;32mc:\\Users\\jmartinez\\Desktop\\basefinal\\Enviar_Correo.ipynb Celda 41\u001b[0m in \u001b[0;36m9\n\u001b[0;32m      <a href='vscode-notebook-cell:/c%3A/Users/jmartinez/Desktop/basefinal/Enviar_Correo.ipynb#X53sZmlsZQ%3D%3D?line=6'>7</a>\u001b[0m \u001b[39m# Opening your workbook\u001b[39;00m\n\u001b[0;32m      <a href='vscode-notebook-cell:/c%3A/Users/jmartinez/Desktop/basefinal/Enviar_Correo.ipynb#X53sZmlsZQ%3D%3D?line=7'>8</a>\u001b[0m Workbook \u001b[39m=\u001b[39m File\u001b[39m.\u001b[39mWorkbooks\u001b[39m.\u001b[39mopen(nombre_archivo)\n\u001b[1;32m----> <a href='vscode-notebook-cell:/c%3A/Users/jmartinez/Desktop/basefinal/Enviar_Correo.ipynb#X53sZmlsZQ%3D%3D?line=8'>9</a>\u001b[0m Workbook\u001b[39m.\u001b[39;49mRefreshAll()\n\u001b[0;32m     <a href='vscode-notebook-cell:/c%3A/Users/jmartinez/Desktop/basefinal/Enviar_Correo.ipynb#X53sZmlsZQ%3D%3D?line=9'>10</a>\u001b[0m \u001b[39m# Refeshing all the shests\u001b[39;00m\n\u001b[0;32m     <a href='vscode-notebook-cell:/c%3A/Users/jmartinez/Desktop/basefinal/Enviar_Correo.ipynb#X53sZmlsZQ%3D%3D?line=10'>11</a>\u001b[0m \u001b[39m# Saving the Workbook\u001b[39;00m\n\u001b[0;32m     <a href='vscode-notebook-cell:/c%3A/Users/jmartinez/Desktop/basefinal/Enviar_Correo.ipynb#X53sZmlsZQ%3D%3D?line=11'>12</a>\u001b[0m Workbook\u001b[39m.\u001b[39mSave()\n",
      "File \u001b[1;32m<COMObject <unknown>>:2\u001b[0m, in \u001b[0;36mRefreshAll\u001b[1;34m(self)\u001b[0m\n",
      "\u001b[1;31mKeyboardInterrupt\u001b[0m: "
     ]
    }
   ],
   "source": [
    "nombre_reporte = \"Socofar - Febrero\"\n",
    "nombre_carpeta = \"F:/Reportes SF/Socofar/\"\n",
    "nombre_archivo_final = nombre_carpeta + str(dia) + \"/\" + nombre_reporte + \".xlsx\"\n",
    "Archivo_origen = nombre_carpeta + \"Datos/\" + nombre_reporte + \".xlsx\"\n",
    "crear_carpeta(nombre_carpeta)\n",
    "actualizar(Archivo_origen)\n",
    "Asunto = \"Detalle de Uso \" + nombre_reporte + \" - \" + str(dia)\n",
    "shutil.copy2(Archivo_origen, nombre_archivo_final, follow_symlinks=True)\n",
    "\n",
    "envio_de_email(\n",
    "    remitente=\"jmartinez@careassistance.com\",\n",
    "    destinatarios=[\"maria.bravo@femsasalud.com\", \"belen.bravo@femsasalud.com\"],\n",
    "    concopia=[\n",
    "        \"rtapia@careassistance.com\",\n",
    "        \"dgarcia@careassistance.com\",\n",
    "        \"dnunez@careassistance.com\",\n",
    "        \"pcerda@careassistance.com\",\n",
    "        \"frubio@careassistance.com\",\n",
    "    ],\n",
    "    asunto=Asunto,\n",
    "    nombre_reporte=str(nombre_reporte),\n",
    "    ruta_adjunto=nombre_archivo_final,\n",
    "    nombre_adjunto=nombre_reporte + \".xlsx\",\n",
    ")"
   ]
  },
  {
   "attachments": {},
   "cell_type": "markdown",
   "metadata": {},
   "source": [
    "Milan Fajanovic"
   ]
  },
  {
   "cell_type": "code",
   "execution_count": 35,
   "metadata": {},
   "outputs": [
    {
     "name": "stdout",
     "output_type": "stream",
     "text": [
      "No existe, se crea\n"
     ]
    }
   ],
   "source": [
    "nombre_reporte = \"Milan Fajanovic\"\n",
    "nombre_carpeta = \"F:/Reportes SF/Milan Fajanovic/\"\n",
    "nombre_archivo_final = nombre_carpeta + str(dia) + \"/\" + nombre_reporte + \".xlsx\"\n",
    "Archivo_origen = nombre_carpeta + \"Datos/\" + nombre_reporte + \".xlsx\"\n",
    "crear_carpeta(nombre_carpeta)\n",
    "actualizar(Archivo_origen)\n",
    "Asunto = \"Detalle de Uso \" + nombre_reporte + \" - \" + str(dia)\n",
    "shutil.copy2(Archivo_origen, nombre_archivo_final, follow_symlinks=True)\n",
    "\n",
    "envio_de_email(\n",
    "    remitente=\"jmartinez@careassistance.com\",\n",
    "    destinatarios=[\"c.valenzuela@mfabjanovic.cl\"],\n",
    "    concopia=[\n",
    "        \"dgarcia@careassistance.com\",\n",
    "        \"dnunez@careassistance.com\",\n",
    "        \"pcerda@careassistance.com\",\n",
    "        \"frubio@careassistance.com\",\n",
    "    ],\n",
    "    asunto=Asunto,\n",
    "    nombre_reporte = str(nombre_reporte),\n",
    "    ruta_adjunto=nombre_archivo_final,\n",
    "    nombre_adjunto=nombre_reporte + \".xlsx\",\n",
    ")"
   ]
  },
  {
   "attachments": {},
   "cell_type": "markdown",
   "metadata": {},
   "source": [
    "Kaufmann"
   ]
  },
  {
   "cell_type": "code",
   "execution_count": 36,
   "metadata": {},
   "outputs": [
    {
     "name": "stdout",
     "output_type": "stream",
     "text": [
      "No existe, se crea\n"
     ]
    }
   ],
   "source": [
    "nombre_reporte = \"Kaufmann\"\n",
    "nombre_carpeta = \"F:/Reportes SF/Kaufmann/\"\n",
    "nombre_archivo_final = nombre_carpeta + str(dia) + \"/\" + nombre_reporte + \".xlsx\"\n",
    "Archivo_origen = nombre_carpeta + \"Datos/\" + nombre_reporte + \".xlsx\"\n",
    "crear_carpeta(nombre_carpeta)\n",
    "actualizar(Archivo_origen)\n",
    "Asunto = \"Detalle de Uso \" + nombre_reporte + \" - \" + str(dia)\n",
    "shutil.copy2(Archivo_origen, nombre_archivo_final, follow_symlinks=True)\n",
    "\n",
    "envio_de_email(\n",
    "    remitente=\"jmartinez@careassistance.com\",\n",
    "    destinatarios=[\"srivas@kaufmann.cl\", \"catalina.tobar@kaufmann.cl\"],\n",
    "    concopia=[\n",
    "        \"rtapia@careassistance.com\",\n",
    "        \"dgarcia@careassistance.com\",\n",
    "        \"dnunez@careassistance.com\",\n",
    "        \"pcerda@careassistance.com\",\n",
    "        \"frubio@careassistance.com\",\n",
    "    ],\n",
    "    asunto=Asunto,\n",
    "    nombre_reporte = str(nombre_reporte),\n",
    "    ruta_adjunto=nombre_archivo_final,\n",
    "    nombre_adjunto=nombre_reporte + \".xlsx\",\n",
    ")"
   ]
  },
  {
   "attachments": {},
   "cell_type": "markdown",
   "metadata": {},
   "source": [
    "Pesco"
   ]
  },
  {
   "cell_type": "code",
   "execution_count": 37,
   "metadata": {},
   "outputs": [
    {
     "name": "stdout",
     "output_type": "stream",
     "text": [
      "No existe, se crea\n"
     ]
    }
   ],
   "source": [
    "nombre_reporte = \"Pesco\"\n",
    "nombre_carpeta = \"F:/Reportes SF/Pesco/\"\n",
    "nombre_archivo_final = nombre_carpeta + str(dia) + \"/\" + nombre_reporte + \".xlsx\"\n",
    "Archivo_origen = nombre_carpeta + \"Datos/\" + nombre_reporte + \".xlsx\"\n",
    "crear_carpeta(nombre_carpeta)\n",
    "actualizar(Archivo_origen)\n",
    "Asunto = \"Detalle de Uso \" + nombre_reporte + \" - \" + str(dia)\n",
    "shutil.copy2(Archivo_origen, nombre_archivo_final, follow_symlinks=True)\n",
    "\n",
    "envio_de_email(\n",
    "    remitente=\"jmartinez@careassistance.com\",\n",
    "    destinatarios=[\"savendano@pesco.cl\",'dcontreras@pesco.cl'],\n",
    "    concopia=[\n",
    "        \"pferreira@careassistance.com\",\n",
    "        \"dgarcia@careassistance.com\",\n",
    "        \"dnunez@careassistance.com\",\n",
    "        \"pcerda@careassistance.com\",\n",
    "        \"frubio@careassistance.com\",\n",
    "    ],\n",
    "    asunto=Asunto,\n",
    "    nombre_reporte = str(nombre_reporte),\n",
    "    ruta_adjunto=nombre_archivo_final,\n",
    "    nombre_adjunto=nombre_reporte + \".xlsx\",\n",
    ")"
   ]
  },
  {
   "attachments": {},
   "cell_type": "markdown",
   "metadata": {},
   "source": [
    "DERMIC\n"
   ]
  },
  {
   "cell_type": "code",
   "execution_count": 38,
   "metadata": {},
   "outputs": [
    {
     "name": "stdout",
     "output_type": "stream",
     "text": [
      "No existe, se crea\n"
     ]
    }
   ],
   "source": [
    "nombre_reporte = \"Dermik\"\n",
    "nombre_carpeta = \"F:/Reportes SF/Dermik/\"\n",
    "nombre_archivo_final = nombre_carpeta + str(dia) + \"/\" + nombre_reporte + \".xlsx\"\n",
    "Archivo_origen = nombre_carpeta + \"Datos/\" + nombre_reporte + \".xlsx\"\n",
    "crear_carpeta(nombre_carpeta)\n",
    "actualizar(Archivo_origen)\n",
    "Asunto = \"Detalle de Uso \" + nombre_reporte + \" - \" + str(dia)\n",
    "shutil.copy2(Archivo_origen, nombre_archivo_final, follow_symlinks=True)\n",
    "\n",
    "envio_de_email(\n",
    "    remitente=\"jmartinez@careassistance.com\",\n",
    "    destinatarios=[\"daniela.solis@dermik.cl\", \"karla.montero@dermik.cl\"],\n",
    "    concopia=[\n",
    "        \"rtapia@careassistance.com\",\n",
    "        \"dgarcia@careassistance.com\",\n",
    "        \"dnunez@careassistance.com\",\n",
    "        \"pcerda@careassistance.com\",\n",
    "        \"frubio@careassistance.com\",\n",
    "    ],\n",
    "    asunto=Asunto,\n",
    "    nombre_reporte = str(nombre_reporte),\n",
    "    ruta_adjunto=nombre_archivo_final,\n",
    "    nombre_adjunto=nombre_reporte + \".xlsx\",\n",
    ")"
   ]
  },
  {
   "attachments": {},
   "cell_type": "markdown",
   "metadata": {},
   "source": [
    "EY\n"
   ]
  },
  {
   "cell_type": "code",
   "execution_count": 39,
   "metadata": {},
   "outputs": [
    {
     "name": "stdout",
     "output_type": "stream",
     "text": [
      "No existe, se crea\n"
     ]
    }
   ],
   "source": [
    "nombre_reporte = \"EY\"\n",
    "nombre_carpeta = \"F:/Reportes SF/EY/\"\n",
    "nombre_archivo_final = nombre_carpeta + str(dia) + \"/\" + nombre_reporte + \".xlsx\"\n",
    "Archivo_origen = nombre_carpeta + \"Datos/\" + nombre_reporte + \".xlsx\"\n",
    "crear_carpeta(nombre_carpeta)\n",
    "actualizar(Archivo_origen)\n",
    "Asunto = \"Detalle de Uso \" + nombre_reporte + \" - \" + str(dia)\n",
    "shutil.copy2(Archivo_origen, nombre_archivo_final, follow_symlinks=True)\n",
    "\n",
    "envio_de_email(\n",
    "    remitente=\"jmartinez@careassistance.com\",\n",
    "    # destinatarios= [\"jmartinez@careassistance\"],\n",
    "    destinatarios=[\"sebastian.barrera2@cl.ey.com\", \"marcela.farias@cl.ey.com\"],\n",
    "    # concopia = [\"jmartinez@careassistance.com\"],\n",
    "    concopia=[\n",
    "        \"rtapia@careassistance.com\",\n",
    "        \"dgarcia@careassistance.com\",\n",
    "        \"dnunez@careassistance.com\",\n",
    "        \"pcerda@careassistance.com\",\n",
    "        \"frubio@careassistance.com\",\n",
    "    ],\n",
    "    asunto=Asunto,\n",
    "    nombre_reporte=str(nombre_reporte),\n",
    "    ruta_adjunto=nombre_archivo_final,\n",
    "    nombre_adjunto=nombre_reporte + \".xlsx\",\n",
    ")"
   ]
  },
  {
   "attachments": {},
   "cell_type": "markdown",
   "metadata": {},
   "source": [
    "Farmacias Ahumada\n"
   ]
  },
  {
   "cell_type": "code",
   "execution_count": 40,
   "metadata": {},
   "outputs": [
    {
     "name": "stdout",
     "output_type": "stream",
     "text": [
      "No existe, se crea\n"
     ]
    }
   ],
   "source": [
    "nombre_reporte = \"Farmacias Ahumada\"\n",
    "nombre_carpeta = \"F:/Reportes SF/Farmacias Ahumada/\"\n",
    "nombre_archivo_final = nombre_carpeta + str(dia) + \"/\" + nombre_reporte + \".xlsx\"\n",
    "Archivo_origen = nombre_carpeta + \"Datos/\" + nombre_reporte + \".xlsx\"\n",
    "crear_carpeta(nombre_carpeta)\n",
    "actualizar(Archivo_origen)\n",
    "Asunto = \"Detalle de Uso \" + nombre_reporte + \" - \" + str(dia)\n",
    "shutil.copy2(Archivo_origen, nombre_archivo_final, follow_symlinks=True)\n",
    "\n",
    "envio_de_email(\n",
    "    remitente=\"jmartinez@careassistance.com\",\n",
    "    destinatarios=[\"mpmunoz@ahumada.cl\", \"jluna@ahumada.cl\"],\n",
    "    concopia=[\n",
    "        \"pferreira@careassistance.com\",\n",
    "        \"dgarcia@careassistance.com\",\n",
    "        \"dnunez@careassistance.com\",\n",
    "        \"pcerda@careassistance.com\",\n",
    "        \"frubio@careassistance.com\",\n",
    "    ],\n",
    "    asunto=Asunto,\n",
    "    nombre_reporte = str(nombre_reporte),\n",
    "    ruta_adjunto=nombre_archivo_final,\n",
    "    nombre_adjunto=nombre_reporte + \".xlsx\",\n",
    ")"
   ]
  },
  {
   "cell_type": "code",
   "execution_count": 41,
   "metadata": {},
   "outputs": [
    {
     "name": "stdout",
     "output_type": "stream",
     "text": [
      "No existe, se crea\n"
     ]
    }
   ],
   "source": [
    "nombre_reporte = \"Construmart\"\n",
    "nombre_carpeta = \"F:/Reportes SF/Construmart/\"\n",
    "nombre_archivo_final = nombre_carpeta + str(dia) + \"/\" + nombre_reporte + \".xlsx\"\n",
    "Archivo_origen = nombre_carpeta + \"Datos/\" + nombre_reporte + \".xlsx\"\n",
    "crear_carpeta(nombre_carpeta)\n",
    "actualizar(Archivo_origen)\n",
    "Asunto = \"Detalle de Uso \" + nombre_reporte + \" - \" + str(dia)\n",
    "shutil.copy2(Archivo_origen, nombre_archivo_final, follow_symlinks=True)\n",
    "\n",
    "envio_de_email(\n",
    "    remitente=\"jmartinez@careassistance.com\",\n",
    "    destinatarios=[\n",
    "        \"jmoralesa@construmart.cl\",\n",
    "        \"dparra@construmart.cl\",\n",
    "        \"abermudez@construmart.cl\",\n",
    "    ],\n",
    "    concopia=[\n",
    "        \"dnunez@careassistance.com\",\n",
    "        \"dgarcia@careassistance.com\",\n",
    "        \"pcerda@careassistance.com\",\n",
    "        \"frubio@careassistance.com\",\n",
    "    ],\n",
    "    asunto=Asunto,\n",
    "    nombre_reporte=str(nombre_reporte),\n",
    "    ruta_adjunto=nombre_archivo_final,\n",
    "    nombre_adjunto=nombre_reporte + \".xlsx\",\n",
    ")"
   ]
  },
  {
   "attachments": {},
   "cell_type": "markdown",
   "metadata": {},
   "source": [
    "Forus\n"
   ]
  },
  {
   "cell_type": "code",
   "execution_count": 42,
   "metadata": {},
   "outputs": [
    {
     "name": "stdout",
     "output_type": "stream",
     "text": [
      "No existe, se crea\n"
     ]
    }
   ],
   "source": [
    "nombre_reporte = \"Forus\"\n",
    "nombre_carpeta = \"F:/Reportes SF/Forus/\"\n",
    "nombre_archivo_final = nombre_carpeta + str(dia) + \"/\" + nombre_reporte + \".xlsx\"\n",
    "Archivo_origen = nombre_carpeta + \"Datos/\" + nombre_reporte + \".xlsx\"\n",
    "crear_carpeta(nombre_carpeta)\n",
    "actualizar(Archivo_origen)\n",
    "Asunto = \"Detalle de Uso \" + nombre_reporte + \" - \" + str(dia)\n",
    "shutil.copy2(Archivo_origen, nombre_archivo_final, follow_symlinks=True)\n",
    "\n",
    "envio_de_email(\n",
    "    remitente=\"jmartinez@careassistance.com\",\n",
    "    destinatarios=['mbeiza@forus.cl'],\n",
    "    concopia=[\n",
    "        \"rtapia@careassistance.com\",\n",
    "        \"dgarcia@careassistance.com\",\n",
    "        \"dnunez@careassistance.com\",\n",
    "        \"pcerda@careassistance.com\",\n",
    "        \"frubio@careassistance.com\",\n",
    "    ],\n",
    "    asunto=Asunto,\n",
    "    nombre_reporte = str(nombre_reporte),\n",
    "    ruta_adjunto=nombre_archivo_final,\n",
    "    nombre_adjunto=nombre_reporte + \".xlsx\",\n",
    ")"
   ]
  },
  {
   "attachments": {},
   "cell_type": "markdown",
   "metadata": {},
   "source": [
    "Instruvalve\n"
   ]
  },
  {
   "cell_type": "code",
   "execution_count": 43,
   "metadata": {},
   "outputs": [
    {
     "name": "stdout",
     "output_type": "stream",
     "text": [
      "No existe, se crea\n"
     ]
    }
   ],
   "source": [
    "nombre_reporte = \"Instruvalve\"\n",
    "nombre_carpeta = \"F:/Reportes SF/Instruvalve/\"\n",
    "nombre_archivo_final = nombre_carpeta + str(dia) + \"/\" + nombre_reporte + \".xlsx\"\n",
    "Archivo_origen = nombre_carpeta + \"Datos/\" + nombre_reporte + \".xlsx\"\n",
    "crear_carpeta(nombre_carpeta)\n",
    "actualizar(Archivo_origen)\n",
    "Asunto = \"Detalle de Uso \" + nombre_reporte + \" - \" + str(dia)\n",
    "shutil.copy2(Archivo_origen, nombre_archivo_final, follow_symlinks=True)\n",
    "\n",
    "envio_de_email(\n",
    "    remitente=\"jmartinez@careassistance.com\",\n",
    "    destinatarios=[\"leonardo.cabrera@instruvalve.cl\", \"maria.soto@instruvalve.cl\"],\n",
    "    concopia=[\n",
    "        \"rtapia@careassistance.com\",\n",
    "        \"dgarcia@careassistance.com\",\n",
    "        \"dnunez@careassistance.com\",\n",
    "        \"pcerda@careassistance.com\",\n",
    "        \"frubio@careassistance.com\",\n",
    "    ],\n",
    "    asunto=Asunto,\n",
    "    nombre_reporte = str(nombre_reporte),\n",
    "    ruta_adjunto=nombre_archivo_final,\n",
    "    nombre_adjunto=nombre_reporte + \".xlsx\",\n",
    ")"
   ]
  },
  {
   "attachments": {},
   "cell_type": "markdown",
   "metadata": {},
   "source": [
    "Zurich\n"
   ]
  },
  {
   "cell_type": "code",
   "execution_count": 44,
   "metadata": {},
   "outputs": [
    {
     "name": "stdout",
     "output_type": "stream",
     "text": [
      "No existe, se crea\n"
     ]
    }
   ],
   "source": [
    "nombre_reporte = \"Zurich General\"\n",
    "nombre_carpeta = \"F:/Reportes SF/Zurich/\"\n",
    "nombre_archivo_final = nombre_carpeta + str(dia) + \"/\" + nombre_reporte + \".xlsx\"\n",
    "Archivo_origen = nombre_carpeta + \"Datos/\" + nombre_reporte + \".xlsx\"\n",
    "crear_carpeta(nombre_carpeta)\n",
    "actualizar(Archivo_origen)\n",
    "Asunto = \"Detalle de Uso \" + nombre_reporte + \" - \" + str(dia)\n",
    "shutil.copy2(Archivo_origen, nombre_archivo_final, follow_symlinks=True)\n",
    "\n",
    "envio_de_email(\n",
    "    remitente=\"jmartinez@careassistance.com\",\n",
    "    destinatarios=[\n",
    "        \"clara.angelica.munoz@zurich.com\",\n",
    "        \"claudia.ivonne.zapata@zurich.com\",\n",
    "        \"maria.moreno.poblete@zurich.com\",\n",
    "        \"nadia.pino@zurich.com\",\n",
    "    ],\n",
    "    concopia=[\n",
    "        \"pferreira@careassistance.com\",\n",
    "        \"dgarcia@careassistance.com\",\n",
    "        \"dnunez@careassistance.com\",\n",
    "        \"pcerda@careassistance.com\",\n",
    "        \"frubio@careassistance.com\",\n",
    "    ],\n",
    "    asunto=Asunto,\n",
    "    nombre_reporte = str(nombre_reporte),\n",
    "    ruta_adjunto=nombre_archivo_final,\n",
    "    nombre_adjunto=nombre_reporte + \".xlsx\",\n",
    ")"
   ]
  },
  {
   "cell_type": "code",
   "execution_count": 45,
   "metadata": {},
   "outputs": [],
   "source": [
    "nombre_reporte = \"Zurich - AMSA\"\n",
    "nombre_carpeta = \"F:/Reportes SF/Zurich/\"\n",
    "nombre_archivo_final = nombre_carpeta + str(dia) + \"/\" + nombre_reporte + \".xlsx\"\n",
    "Archivo_origen = nombre_carpeta + \"Datos/\" + nombre_reporte + \".xlsx\"\n",
    "crear_carpeta(nombre_carpeta)\n",
    "actualizar(Archivo_origen)\n",
    "Asunto = \"Detalle de Uso \" + nombre_reporte + \" - \" + str(dia)\n",
    "shutil.copy2(Archivo_origen, nombre_archivo_final, follow_symlinks=True)\n",
    "\n",
    "envio_de_email(\n",
    "    remitente=\"jmartinez@careassistance.com\",\n",
    "    destinatarios=[\n",
    "        \"clara.angelica.munoz@zurich.com\",\n",
    "        \"claudia.ivonne.zapata@zurich.com\",\n",
    "        \"maria.moreno.poblete@zurich.com\",\n",
    "        \"nadia.pino@zurich.com\",\n",
    "    ],\n",
    "    concopia=[\n",
    "        \"pferreira@careassistance.com\",\n",
    "        \"dgarcia@careassistance.com\",\n",
    "        \"dnunez@careassistance.com\",\n",
    "        \"pcerda@careassistance.com\",\n",
    "        \"frubio@careassistance.com\",\n",
    "    ],\n",
    "    asunto=Asunto,\n",
    "    nombre_reporte = str(nombre_reporte),\n",
    "    ruta_adjunto=nombre_archivo_final,\n",
    "    nombre_adjunto=nombre_reporte + \".xlsx\",\n",
    ")"
   ]
  },
  {
   "cell_type": "code",
   "execution_count": 46,
   "metadata": {},
   "outputs": [],
   "source": [
    "nombre_reporte = \"Zurich - Bechtel\"\n",
    "nombre_carpeta = \"F:/Reportes SF/Zurich/\"\n",
    "nombre_archivo_final = nombre_carpeta + str(dia) + \"/\" + nombre_reporte + \".xlsx\"\n",
    "Archivo_origen = nombre_carpeta + \"Datos/\" + nombre_reporte + \".xlsx\"\n",
    "crear_carpeta(nombre_carpeta)\n",
    "actualizar(Archivo_origen)\n",
    "Asunto = \"Detalle de Uso \" + nombre_reporte + \" - \" + str(dia)\n",
    "shutil.copy2(Archivo_origen, nombre_archivo_final, follow_symlinks=True)\n",
    "\n",
    "envio_de_email(\n",
    "    remitente=\"jmartinez@careassistance.com\",\n",
    "    destinatarios=[\n",
    "        \"maria.moreno.poblete@zurich.com\",\n",
    "        \"jeannette.lillo@zurich\",\n",
    "        \"p.goldschmidt@zurich.com\",\n",
    "        \"nadia.pino@zurich.com\",\n",
    "    ],\n",
    "    concopia=[\n",
    "        \"pferreira@careassistance.com\",\n",
    "        \"dgarcia@careassistance.com\",\n",
    "        \"dnunez@careassistance.com\",\n",
    "        \"pcerda@careassistance.com\",\n",
    "        \"frubio@careassistance.com\",\n",
    "    ],\n",
    "    asunto=Asunto,\n",
    "    nombre_reporte = str(nombre_reporte),\n",
    "    ruta_adjunto=nombre_archivo_final,\n",
    "    nombre_adjunto=nombre_reporte + \".xlsx\",\n",
    ")"
   ]
  },
  {
   "attachments": {},
   "cell_type": "markdown",
   "metadata": {},
   "source": [
    "BCI\n"
   ]
  },
  {
   "cell_type": "code",
   "execution_count": 47,
   "metadata": {},
   "outputs": [
    {
     "name": "stdout",
     "output_type": "stream",
     "text": [
      "No existe, se crea\n"
     ]
    }
   ],
   "source": [
    "nombre_reporte = \"BCI - General\"\n",
    "nombre_carpeta = \"F:/Reportes SF/BCI/\"\n",
    "nombre_archivo_final = nombre_carpeta + str(dia) + \"/\" + nombre_reporte + \".xlsx\"\n",
    "Archivo_origen = nombre_carpeta + \"Datos/\" + nombre_reporte + \".xlsx\"\n",
    "crear_carpeta(nombre_carpeta)\n",
    "actualizar(Archivo_origen)\n",
    "Asunto = \"Detalle de Uso \" + nombre_reporte + \" - \" + str(dia)\n",
    "shutil.copy2(Archivo_origen, nombre_archivo_final, follow_symlinks=True)\n",
    "\n",
    "envio_de_email(\n",
    "    remitente=\"jmartinez@careassistance.com\",\n",
    "    destinatarios=[\"andrea.concha@bciseguros.com\", \"mauricio.munoz@bciseguros.com\"],\n",
    "    concopia=[\n",
    "        \"rtapia@careassistance.com\",\n",
    "        \"dgarcia@careassistance.com\",\n",
    "        \"dnunez@careassistance.com\",\n",
    "        \"pcerda@careassistance.com\",\n",
    "        \"frubio@careassistance.com\",\n",
    "    ],\n",
    "    asunto=Asunto,\n",
    "    nombre_reporte = str(nombre_reporte),\n",
    "    ruta_adjunto=nombre_archivo_final,\n",
    "    nombre_adjunto=nombre_reporte + \".xlsx\",\n",
    ")"
   ]
  },
  {
   "cell_type": "code",
   "execution_count": 48,
   "metadata": {},
   "outputs": [],
   "source": [
    "nombre_reporte = \"Bci - Cemin\"\n",
    "nombre_carpeta = \"F:/Reportes SF/BCI/\"\n",
    "nombre_archivo_final = nombre_carpeta + str(dia) + \"/\" + nombre_reporte + \".xlsx\"\n",
    "Archivo_origen = nombre_carpeta + \"Datos/\" + nombre_reporte + \".xlsx\"\n",
    "crear_carpeta(nombre_carpeta)\n",
    "actualizar(Archivo_origen)\n",
    "Asunto = \"Detalle de Uso \" + nombre_reporte + \" - \" + str(dia)\n",
    "shutil.copy2(Archivo_origen, nombre_archivo_final, follow_symlinks=True)\n",
    "\n",
    "envio_de_email(\n",
    "    remitente=\"jmartinez@careassistance.com\",\n",
    "    destinatarios=[\"jeannette.rojas@3sp.cl\"],\n",
    "    concopia=[\n",
    "        \"rtapia@careassistance.com\",\n",
    "        \"dgarcia@careassistance.com\",\n",
    "        \"dnunez@careassistance.com\",\n",
    "        \"pcerda@careassistance.com\",\n",
    "        \"frubio@careassistance.com\",\n",
    "    ],\n",
    "    asunto=Asunto,\n",
    "    nombre_reporte = str(nombre_reporte),\n",
    "    ruta_adjunto=nombre_archivo_final,\n",
    "    nombre_adjunto=nombre_reporte + \".xlsx\",\n",
    ")"
   ]
  },
  {
   "cell_type": "code",
   "execution_count": 49,
   "metadata": {},
   "outputs": [],
   "source": [
    "nombre_reporte = \"Bci - Orbis\"\n",
    "nombre_carpeta = \"F:/Reportes SF/BCI/\"\n",
    "nombre_archivo_final = nombre_carpeta + str(dia) + \"/\" + nombre_reporte + \".xlsx\"\n",
    "Archivo_origen = nombre_carpeta + \"Datos/\" + nombre_reporte + \".xlsx\"\n",
    "crear_carpeta(nombre_carpeta)\n",
    "actualizar(Archivo_origen)\n",
    "Asunto = \"Detalle de Uso \" + nombre_reporte + \" - \" + str(dia)\n",
    "shutil.copy2(Archivo_origen, nombre_archivo_final, follow_symlinks=True)\n",
    "\n",
    "envio_de_email(\n",
    "    remitente=\"jmartinez@careassistance.com\",\n",
    "    destinatarios=[\"jmartinez@careassistance.com\"],\n",
    "    concopia=[\"jmartinez@careassistance.com\"],\n",
    "    # destinatarios=[\"kestrada@cotizatuseguro.cl\", \"denisse.urtubia@bciseguros.com\"],\n",
    "    # concopia=[         \"rtapia@careassistance.com\",        \"dgarcia@careassistance.com\",        \"dnunez@careassistance.com\",        \"pcerda@careassistance.com\",        \"frubio@careassistance.com\",    ],\n",
    "    asunto=Asunto,\n",
    "    nombre_reporte=str(nombre_reporte),\n",
    "    ruta_adjunto=nombre_archivo_final,\n",
    "    nombre_adjunto=nombre_reporte + \".xlsx\",\n",
    ")"
   ]
  },
  {
   "cell_type": "code",
   "execution_count": 50,
   "metadata": {},
   "outputs": [],
   "source": [
    "nombre_reporte = \"Bci - Saesa\"\n",
    "nombre_carpeta = \"F:/Reportes SF/BCI/\"\n",
    "nombre_archivo_final = nombre_carpeta + str(dia) + \"/\" + nombre_reporte + \".xlsx\"\n",
    "Archivo_origen = nombre_carpeta + \"Datos/\" + nombre_reporte + \".xlsx\"\n",
    "crear_carpeta(nombre_carpeta)\n",
    "actualizar(Archivo_origen)\n",
    "Asunto = \"Detalle de Uso \" + nombre_reporte + \" - \" + str(dia)\n",
    "shutil.copy2(Archivo_origen, nombre_archivo_final, follow_symlinks=True)\n",
    "\n",
    "envio_de_email(\n",
    "    remitente=\"jmartinez@careassistance.com\",\n",
    "    destinatarios=[\"denisse.urtubia@bciseguros.com\"],\n",
    "    concopia=[\n",
    "        \"rtapia@careassistance.com\",\n",
    "        \"dgarcia@careassistance.com\",\n",
    "        \"dnunez@careassistance.com\",\n",
    "        \"pcerda@careassistance.com\",\n",
    "        \"frubio@careassistance.com\",\n",
    "    ],\n",
    "    asunto=Asunto,\n",
    "    nombre_reporte = str(nombre_reporte),\n",
    "    ruta_adjunto=nombre_archivo_final,\n",
    "    nombre_adjunto=nombre_reporte + \".xlsx\",\n",
    ")"
   ]
  },
  {
   "cell_type": "code",
   "execution_count": 51,
   "metadata": {},
   "outputs": [],
   "source": [
    "nombre_reporte = \"Bci - Embonor\"\n",
    "nombre_carpeta = \"F:/Reportes SF/BCI/\"\n",
    "nombre_archivo_final = nombre_carpeta + str(dia) + \"/\" + nombre_reporte + \".xlsx\"\n",
    "Archivo_origen = nombre_carpeta + \"Datos/\" + nombre_reporte + \".xlsx\"\n",
    "crear_carpeta(nombre_carpeta)\n",
    "actualizar(Archivo_origen)\n",
    "Asunto = \"Detalle de Uso \" + nombre_reporte + \" - \" + str(dia)\n",
    "shutil.copy2(Archivo_origen, nombre_archivo_final, follow_symlinks=True)\n",
    "\n",
    "envio_de_email(\n",
    "    remitente=\"jmartinez@careassistance.com\",\n",
    "    destinatarios=[\"denisse.urtubia@bciseguros.com\"],\n",
    "    concopia=[\n",
    "        \"rtapia@careassistance.com\",\n",
    "        \"dgarcia@careassistance.com\",\n",
    "        \"dnunez@careassistance.com\",\n",
    "        \"pcerda@careassistance.com\",\n",
    "        \"frubio@careassistance.com\",\n",
    "    ],\n",
    "    asunto=Asunto,\n",
    "    nombre_reporte = str(nombre_reporte),\n",
    "    ruta_adjunto=nombre_archivo_final,\n",
    "    nombre_adjunto=nombre_reporte + \".xlsx\",\n",
    ")"
   ]
  },
  {
   "attachments": {},
   "cell_type": "markdown",
   "metadata": {},
   "source": [
    "Metlife\n"
   ]
  },
  {
   "cell_type": "code",
   "execution_count": 52,
   "metadata": {},
   "outputs": [],
   "source": [
    "nombre_reporte = \"MetLife General\"\n",
    "nombre_carpeta = \"F:/Reportes SF/MetLife/\"\n",
    "nombre_archivo_final = nombre_carpeta + str(dia) + \"/\" + nombre_reporte + \".xlsx\"\n",
    "Archivo_origen = nombre_carpeta + \"Datos/\" + nombre_reporte + \".xlsx\"\n",
    "crear_carpeta(nombre_carpeta)\n",
    "actualizar(Archivo_origen)\n",
    "Asunto = \"Detalle de Uso \" + nombre_reporte + \" - \" + str(dia)\n",
    "shutil.copy2(Archivo_origen, nombre_archivo_final, follow_symlinks=True)\n",
    "\n",
    "envio_de_email(\n",
    "    remitente=\"jmartinez@careassistance.com\",\n",
    "    destinatarios=[\n",
    "        \"gabriela.moreau@metlife.cl\",\n",
    "        \"rodrigo.vega@metlife.cl\",\n",
    "        \"francisco.ugarte@metlife.cl\",\n",
    "    ],\n",
    "    concopia=[\n",
    "        \"rtapia@careassistance.com\",\n",
    "        \"lhernandez@careassistance.com\",\n",
    "        \"dgarcia@careassistance.com\",\n",
    "        \"dnunez@careassistance.com\",\n",
    "        \"pcerda@careassistance.com\",\n",
    "        \"frubio@careassistance.com\",\n",
    "    ],\n",
    "    asunto=Asunto,\n",
    "    nombre_reporte = str(nombre_reporte),\n",
    "    ruta_adjunto=nombre_archivo_final,\n",
    "    nombre_adjunto=nombre_reporte + \".xlsx\",\n",
    ")"
   ]
  },
  {
   "cell_type": "code",
   "execution_count": 53,
   "metadata": {},
   "outputs": [],
   "source": [
    "nombre_reporte = \"MetLife - Conosur\"\n",
    "nombre_carpeta = \"F:/Reportes SF/MetLife/\"\n",
    "nombre_archivo_final = nombre_carpeta + str(dia) + \"/\" + nombre_reporte + \".xlsx\"\n",
    "Archivo_origen = nombre_carpeta + \"Datos/\" + nombre_reporte + \".xlsx\"\n",
    "crear_carpeta(nombre_carpeta)\n",
    "actualizar(Archivo_origen)\n",
    "Asunto = \"Detalle de Uso \" + nombre_reporte + \" - \" + str(dia)\n",
    "shutil.copy2(Archivo_origen, nombre_archivo_final, follow_symlinks=True)\n",
    "\n",
    "envio_de_email(\n",
    "    remitente=\"jmartinez@careassistance.com\",\n",
    "    destinatarios=[\n",
    "        \"leslie.huenchunao@conosurseguros.cl\",\n",
    "        \"claudia.vega@conosurseguros.cl\",\n",
    "        \"nathalia.polanco@conosurseguros.cl\",\n",
    "        \"jpalmav@metlife.cl\",\n",
    "        \"carolina.camus@conosurseguros.cl\",\n",
    "        \"mariapaz.gonzalez@conosurseguros.cl\",\n",
    "        \"jessica.alarcon@conosurseguros.cl\",\n",
    "    ],\n",
    "    concopia=[\n",
    "        \"rtapia@careassistance.com\",\n",
    "        \"dgarcia@careassistance.com\",\n",
    "        \"dnunez@careassistance.com\",\n",
    "        \"pcerda@careassistance.com\",\n",
    "        \"frubio@careassistance.com\",\n",
    "    ],\n",
    "    asunto=Asunto,\n",
    "    nombre_reporte = str(nombre_reporte),\n",
    "    ruta_adjunto=nombre_archivo_final,\n",
    "    nombre_adjunto=nombre_reporte + \".xlsx\",\n",
    ")"
   ]
  },
  {
   "cell_type": "code",
   "execution_count": 54,
   "metadata": {},
   "outputs": [],
   "source": [
    "nombre_reporte = \"MetLife - Burgos\"\n",
    "nombre_carpeta = \"F:/Reportes SF/MetLife/\"\n",
    "nombre_archivo_final = nombre_carpeta + str(dia) + \"/\" + nombre_reporte + \".xlsx\"\n",
    "Archivo_origen = nombre_carpeta + \"Datos/\" + nombre_reporte + \".xlsx\"\n",
    "crear_carpeta(nombre_carpeta)\n",
    "actualizar(Archivo_origen)\n",
    "Asunto = \"Detalle de Uso \" + nombre_reporte + \" - \" + str(dia)\n",
    "shutil.copy2(Archivo_origen, nombre_archivo_final, follow_symlinks=True)\n",
    "\n",
    "envio_de_email(\n",
    "    remitente=\"jmartinez@careassistance.com\",\n",
    "    destinatarios=[\"felipe.paris@burgoscorredores.cl\", \"jeburgos@burgoscorredores.cl\"],\n",
    "    concopia=[\n",
    "        \"rtapia@careassistance.com\",\n",
    "        \"dgarcia@careassistance.com\",\n",
    "        \"dnunez@careassistance.com\",\n",
    "        \"pcerda@careassistance.com\",\n",
    "        \"frubio@careassistance.com\",\n",
    "    ],\n",
    "    asunto=Asunto,\n",
    "    nombre_reporte = str(nombre_reporte),\n",
    "    ruta_adjunto=nombre_archivo_final,\n",
    "    nombre_adjunto=nombre_reporte + \".xlsx\",\n",
    ")"
   ]
  },
  {
   "cell_type": "code",
   "execution_count": 55,
   "metadata": {},
   "outputs": [],
   "source": [
    "nombre_reporte = \"MetLife - Willis Towers Watson\"\n",
    "nombre_carpeta = \"F:/Reportes SF/MetLife/\"\n",
    "nombre_archivo_final = nombre_carpeta + str(dia) + \"/\" + nombre_reporte + \".xlsx\"\n",
    "Archivo_origen = nombre_carpeta + \"Datos/\" + nombre_reporte + \".xlsx\"\n",
    "crear_carpeta(nombre_carpeta)\n",
    "actualizar(Archivo_origen)\n",
    "Asunto = \"Detalle de Uso \" + nombre_reporte + \" - \" + str(dia)\n",
    "shutil.copy2(Archivo_origen, nombre_archivo_final, follow_symlinks=True)\n",
    "\n",
    "envio_de_email(\n",
    "    remitente=\"jmartinez@careassistance.com\",\n",
    "    destinatarios=[\n",
    "        \"jpalmav@metlife.cl\",\n",
    "        \"andrea.vidal@Willistowerswatson.com\",\n",
    "        \"rodrigo.molina@willistowerswatson.com\",\n",
    "        \"maria.diaz@willistowerswatson.com\",\n",
    "        \"claudio.araneda@willistowerswatson.com\",\n",
    "        \"trinidad.covarrubias@willistowerswatson.com\",\n",
    "        \"francisco.bravo@willistowerswatson.com\",\n",
    "        \"francisco.ugarte@metlife.cl\",\n",
    "        \"jose.fuenzalida@willistowerswatson.com\",\n",
    "        \"carla.perez@willistowerswatson.com\",\n",
    "        \"miguel.cifuentes@willistowerswatson.com\",\n",
    "        \"giovanna.labbe@willistowerswatson.com\",\n",
    "        \"fabian.aravena@willistowerswatson.com\",\n",
    "    ],\n",
    "    concopia=[\n",
    "        \"rtapia@careassistance.com\",\n",
    "        \"dgarcia@careassistance.com\",\n",
    "        \"dnunez@careassistance.com\",\n",
    "        \"pcerda@careassistance.com\",\n",
    "        \"frubio@careassistance.com\",\n",
    "    ],\n",
    "    asunto=Asunto,\n",
    "    nombre_reporte = str(nombre_reporte),\n",
    "    ruta_adjunto=nombre_archivo_final,\n",
    "    nombre_adjunto=nombre_reporte + \".xlsx\",\n",
    ")"
   ]
  },
  {
   "cell_type": "code",
   "execution_count": 56,
   "metadata": {},
   "outputs": [],
   "source": [
    "nombre_reporte = \"MetLife - Aon\"\n",
    "nombre_carpeta = \"F:/Reportes SF/MetLife/\"\n",
    "nombre_archivo_final = nombre_carpeta + str(dia) + \"/\" + nombre_reporte + \".xlsx\"\n",
    "Archivo_origen = nombre_carpeta + \"Datos/\" + nombre_reporte + \".xlsx\"\n",
    "crear_carpeta(nombre_carpeta)\n",
    "actualizar(Archivo_origen)\n",
    "Asunto = \"Detalle de Uso \" + nombre_reporte + \" - \" + str(dia)\n",
    "shutil.copy2(Archivo_origen, nombre_archivo_final, follow_symlinks=True)\n",
    "\n",
    "envio_de_email(\n",
    "    remitente=\"jmartinez@careassistance.com\",\n",
    "    destinatarios=[\n",
    "        \"josefina.stradiotto@metlife.cl\",\n",
    "        \"javiera.faundez@aon.com\",\n",
    "        \"jocelyn.azocar@aon.com\",\n",
    "        \"marcia.alegria@aon.com\",\n",
    "        \"nathalia.munoz@aon.com\",\n",
    "    ],\n",
    "    concopia=[\n",
    "        \"rtapia@careassistance.com\",\n",
    "        \"dgarcia@careassistance.com\",\n",
    "        \"dnunez@careassistance.com\",\n",
    "        \"pcerda@careassistance.com\",\n",
    "        \"frubio@careassistance.com\",\n",
    "    ],\n",
    "    asunto=Asunto,\n",
    "    nombre_reporte = str(nombre_reporte),\n",
    "    ruta_adjunto=nombre_archivo_final,\n",
    "    nombre_adjunto=nombre_reporte + \".xlsx\",\n",
    ")"
   ]
  },
  {
   "cell_type": "code",
   "execution_count": 57,
   "metadata": {},
   "outputs": [],
   "source": [
    "nombre_reporte = \"MetLife - Aramark\"\n",
    "nombre_carpeta = \"F:/Reportes SF/MetLife/\"\n",
    "nombre_archivo_final = nombre_carpeta + str(dia) + \"/\" + nombre_reporte + \".xlsx\"\n",
    "Archivo_origen = nombre_carpeta + \"Datos/\" + nombre_reporte + \".xlsx\"\n",
    "crear_carpeta(nombre_carpeta)\n",
    "actualizar(Archivo_origen)\n",
    "Asunto = \"Detalle de Uso \" + nombre_reporte + \" - \" + str(dia)\n",
    "shutil.copy2(Archivo_origen, nombre_archivo_final, follow_symlinks=True)\n",
    "\n",
    "envio_de_email(\n",
    "    remitente=\"jmartinez@careassistance.com\",\n",
    "    destinatarios=[\"blanlot-geovanna@aramark.cl\"],\n",
    "    concopia=[\n",
    "        \"dgarcia@careassistance.com\",\n",
    "        \"dnunez@careassistance.com\",\n",
    "        \"pcerda@careassistance.com\",\n",
    "        \"frubio@careassistance.com\",\n",
    "    ],\n",
    "    asunto=Asunto,\n",
    "    nombre_reporte=str(nombre_reporte),\n",
    "    ruta_adjunto=nombre_archivo_final,\n",
    "    nombre_adjunto=nombre_reporte + \".xlsx\",\n",
    ")"
   ]
  },
  {
   "cell_type": "code",
   "execution_count": 58,
   "metadata": {},
   "outputs": [],
   "source": [
    "nombre_reporte = \"MetLife - Benefits\"\n",
    "nombre_carpeta = \"F:/Reportes SF/MetLife/\"\n",
    "nombre_archivo_final = nombre_carpeta + str(dia) + \"/\" + nombre_reporte + \".xlsx\"\n",
    "Archivo_origen = nombre_carpeta + \"Datos/\" + nombre_reporte + \".xlsx\"\n",
    "crear_carpeta(nombre_carpeta)\n",
    "actualizar(Archivo_origen)\n",
    "Asunto = \"Detalle de Uso \" + nombre_reporte + \" - \" + str(dia)\n",
    "shutil.copy2(Archivo_origen, nombre_archivo_final, follow_symlinks=True)\n",
    "\n",
    "envio_de_email(\n",
    "    remitente=\"jmartinez@careassistance.com\",\n",
    "    destinatarios=[\n",
    "        \"ccepeda@metlife.cl\",\n",
    "        \"jorge.melo@benefits.cl\",\n",
    "        \"mchacon@benefits.cl\",\n",
    "        \"fvargas@benefits.cl\",\n",
    "    ],\n",
    "    concopia=[\n",
    "        \"rtapia@careassistance.com\",\n",
    "        \"dgarcia@careassistance.com\",\n",
    "        \"dnunez@careassistance.com\",\n",
    "        \"pcerda@careassistance.com\",\n",
    "        \"frubio@careassistance.com\",\n",
    "    ],\n",
    "    # destinatarios=[        \"jmartinez@careassistance.com\",   ],\n",
    "    # concopia=[  \"jmartinez@careassistance.com\",],\n",
    "    asunto=Asunto,\n",
    "    nombre_reporte=str(nombre_reporte),\n",
    "    ruta_adjunto=nombre_archivo_final,\n",
    "    nombre_adjunto=nombre_reporte + \".xlsx\",\n",
    ")"
   ]
  },
  {
   "cell_type": "code",
   "execution_count": 59,
   "metadata": {},
   "outputs": [],
   "source": [
    "nombre_reporte = \"MetLife - Mercer\"\n",
    "nombre_carpeta = \"F:/Reportes SF/MetLife/\"\n",
    "nombre_archivo_final = nombre_carpeta + str(dia) + \"/\" + nombre_reporte + \".xlsx\"\n",
    "Archivo_origen = nombre_carpeta + \"Datos/\" + nombre_reporte + \".xlsx\"\n",
    "crear_carpeta(nombre_carpeta)\n",
    "actualizar(Archivo_origen)\n",
    "Asunto = \"Detalle de Uso \" + nombre_reporte + \" - \" + str(dia)\n",
    "shutil.copy2(Archivo_origen, nombre_archivo_final, follow_symlinks=True)\n",
    "\n",
    "envio_de_email(\n",
    "    remitente=\"jmartinez@careassistance.com\",\n",
    "    destinatarios=[\n",
    "        \"liliana.flores@mercermarshbeneficios.com\",\n",
    "        \"alejandra.guajardo@mercermarshbeneficios.com\",\n",
    "        \"jpalmav@metlife.cl\",\n",
    "        \"ohonorato@metlife.cl\",\n",
    "        \"rodrigo.cerda@mercermarshbeneficios.com\",\n",
    "    ],\n",
    "    concopia=[\n",
    "        \"rtapia@careassistance.com\",\n",
    "        \"dgarcia@careassistance.com\",\n",
    "        \"dnunez@careassistance.com\",\n",
    "        \"pcerda@careassistance.com\",\n",
    "        \"frubio@careassistance.com\",\n",
    "    ],\n",
    "    asunto=Asunto,\n",
    "    nombre_reporte=str(nombre_reporte),\n",
    "    ruta_adjunto=nombre_archivo_final,\n",
    "    nombre_adjunto=nombre_reporte + \".xlsx\",\n",
    ")"
   ]
  },
  {
   "cell_type": "code",
   "execution_count": 60,
   "metadata": {},
   "outputs": [],
   "source": [
    "nombre_reporte = \"MetLife - Mercer Agrosuper\"\n",
    "nombre_carpeta = \"F:/Reportes SF/MetLife/\"\n",
    "nombre_archivo_final = nombre_carpeta + str(dia) + \"/\" + nombre_reporte + \".xlsx\"\n",
    "Archivo_origen = nombre_carpeta + \"Datos/\" + nombre_reporte + \".xlsx\"\n",
    "crear_carpeta(nombre_carpeta)\n",
    "actualizar(Archivo_origen)\n",
    "Asunto = \"Detalle de Uso \" + nombre_reporte + \" - \" + str(dia)\n",
    "shutil.copy2(Archivo_origen, nombre_archivo_final, follow_symlinks=True)\n",
    "\n",
    "envio_de_email(\n",
    "    remitente=\"jmartinez@careassistance.com\",\n",
    "    destinatarios=[\n",
    "        \"sebastian.cuevas@mercermarshbeneficios.com\",\n",
    "    ],\n",
    "    concopia=[\n",
    "        \"rtapia@careassistance.com\",\n",
    "        \"dgarcia@careassistance.com\",\n",
    "        \"dnunez@careassistance.com\",\n",
    "        \"pcerda@careassistance.com\",\n",
    "        \"frubio@careassistance.com\",\n",
    "    ],\n",
    "    asunto=Asunto,\n",
    "    nombre_reporte = str(nombre_reporte),\n",
    "    ruta_adjunto=nombre_archivo_final,\n",
    "    nombre_adjunto=nombre_reporte + \".xlsx\",\n",
    ")\n"
   ]
  },
  {
   "cell_type": "code",
   "execution_count": 61,
   "metadata": {},
   "outputs": [],
   "source": [
    "nombre_reporte = \"MetLife - Interno\"\n",
    "nombre_carpeta = \"F:/Reportes SF/MetLife/\"\n",
    "nombre_archivo_final = nombre_carpeta + str(dia) + \"/\" + nombre_reporte + \".xlsx\"\n",
    "Archivo_origen = nombre_carpeta + \"Datos/\" + nombre_reporte + \".xlsx\"\n",
    "crear_carpeta(nombre_carpeta)\n",
    "actualizar(Archivo_origen)\n",
    "Asunto = \"Detalle de Uso \" + nombre_reporte + \" - \" + str(dia)\n",
    "shutil.copy2(Archivo_origen, nombre_archivo_final, follow_symlinks=True)\n",
    "\n",
    "envio_de_email(\n",
    "    remitente=\"jmartinez@careassistance.com\",\n",
    "    destinatarios=[\n",
    "        \"constanza.a.bertin@metlife.cl\",\n",
    "        \"josefina.martin@metlife.cl\",\n",
    "        \"bsanmartin@metlife.cl\",\n",
    "    ],\n",
    "    concopia=[\n",
    "        \"rtapia@careassistance.com\",\n",
    "        \"dgarcia@careassistance.com\",\n",
    "        \"dnunez@careassistance.com\",\n",
    "        \"pcerda@careassistance.com\",\n",
    "        \"frubio@careassistance.com\",\n",
    "    ],\n",
    "    asunto=Asunto,\n",
    "    nombre_reporte = str(nombre_reporte),\n",
    "    ruta_adjunto=nombre_archivo_final,\n",
    "    nombre_adjunto=nombre_reporte + \".xlsx\",\n",
    ")"
   ]
  },
  {
   "cell_type": "code",
   "execution_count": 62,
   "metadata": {},
   "outputs": [],
   "source": [
    "nombre_reporte = \"MetLife - Lorena Contreras\"\n",
    "nombre_carpeta = \"F:/Reportes SF/MetLife/\"\n",
    "nombre_archivo_final = nombre_carpeta + str(dia) + \"/\" + nombre_reporte + \".xlsx\"\n",
    "Archivo_origen = nombre_carpeta + \"Datos/\" + nombre_reporte + \".xlsx\"\n",
    "crear_carpeta(nombre_carpeta)\n",
    "actualizar(Archivo_origen)\n",
    "Asunto = \"Detalle de Uso \" + nombre_reporte + \" - \" + str(dia)\n",
    "shutil.copy2(Archivo_origen, nombre_archivo_final, follow_symlinks=True)\n",
    "\n",
    "envio_de_email(\n",
    "    remitente=\"jmartinez@careassistance.com\",\n",
    "    destinatarios=[\"lorecontru@gmail.com\"],\n",
    "    concopia=[\n",
    "        \"rtapia@careassistance.com\",\n",
    "        \"dgarcia@careassistance.com\",\n",
    "        \"dnunez@careassistance.com\",\n",
    "        \"pcerda@careassistance.com\",\n",
    "        \"frubio@careassistance.com\",\n",
    "    ],\n",
    "    asunto=Asunto,\n",
    "    nombre_reporte = str(nombre_reporte),\n",
    "    ruta_adjunto=nombre_archivo_final,\n",
    "    nombre_adjunto=nombre_reporte + \".xlsx\",\n",
    ")"
   ]
  },
  {
   "cell_type": "code",
   "execution_count": 63,
   "metadata": {},
   "outputs": [],
   "source": [
    "nombre_reporte = \"MetLife - Security\"\n",
    "nombre_carpeta = \"F:/Reportes SF/MetLife/\"\n",
    "nombre_archivo_final = nombre_carpeta + str(dia) + \"/\" + nombre_reporte + \".xlsx\"\n",
    "Archivo_origen = nombre_carpeta + \"Datos/\" + nombre_reporte + \".xlsx\"\n",
    "crear_carpeta(nombre_carpeta)\n",
    "actualizar(Archivo_origen)\n",
    "Asunto = \"Detalle de Uso \" + nombre_reporte + \" - \" + str(dia)\n",
    "shutil.copy2(Archivo_origen, nombre_archivo_final, follow_symlinks=True)\n",
    "\n",
    "envio_de_email(\n",
    "    remitente=\"jmartinez@careassistance.com\",\n",
    "    destinatarios=[\n",
    "        \"jpalmav@metlife.cl\",\n",
    "        \"marisol.guerrero@security.cl\",\n",
    "        \"mariadelosangeles.silva@security.cl\",\n",
    "        \"alejandra.castros@security.cl\",\n",
    "        \"ivan.isamit@security.cl\",\n",
    "        \"patricio.morales@security.cl\",\n",
    "    ],\n",
    "    concopia=[\n",
    "        \"rtapia@careassistance.com\",\n",
    "        \"dgarcia@careassistance.com\",\n",
    "        \"dnunez@careassistance.com\",\n",
    "        \"pcerda@careassistance.com\",\n",
    "        \"frubio@careassistance.com\",\n",
    "    ],\n",
    "    asunto=Asunto,\n",
    "    nombre_reporte=str(nombre_reporte),\n",
    "    ruta_adjunto=nombre_archivo_final,\n",
    "    nombre_adjunto=nombre_reporte + \".xlsx\",\n",
    ")"
   ]
  },
  {
   "cell_type": "code",
   "execution_count": 64,
   "metadata": {},
   "outputs": [],
   "source": [
    "nombre_reporte = \"MetLife - THB\"\n",
    "nombre_carpeta = \"F:/Reportes SF/MetLife/\"\n",
    "nombre_archivo_final = nombre_carpeta + str(dia) + \"/\" + nombre_reporte + \".xlsx\"\n",
    "Archivo_origen = nombre_carpeta + \"Datos/\" + nombre_reporte + \".xlsx\"\n",
    "crear_carpeta(nombre_carpeta)\n",
    "actualizar(Archivo_origen)\n",
    "Asunto = \"Detalle de Uso \" + nombre_reporte + \" - \" + str(dia)\n",
    "shutil.copy2(Archivo_origen, nombre_archivo_final, follow_symlinks=True)\n",
    "\n",
    "envio_de_email(\n",
    "    remitente=\"jmartinez@careassistance.com\",\n",
    "    destinatarios=[\n",
    "        \"jbravo@thbseguros.cl\",\n",
    "        \"ccepeda@metlife.cl\",\n",
    "        \"amorales@thbseguros.cl\",\n",
    "        \"agualda@thbseguros.cl\",\n",
    "    ],\n",
    "    concopia=[\n",
    "        \"rtapia@careassistance.com\",\n",
    "        \"dgarcia@careassistance.com\",\n",
    "        \"dnunez@careassistance.com\",\n",
    "        \"pcerda@careassistance.com\",\n",
    "        \"frubio@careassistance.com\",\n",
    "    ],\n",
    "    asunto=Asunto,\n",
    "    nombre_reporte = str(nombre_reporte),\n",
    "    ruta_adjunto=nombre_archivo_final,\n",
    "    nombre_adjunto=nombre_reporte + \".xlsx\",\n",
    ")"
   ]
  },
  {
   "cell_type": "code",
   "execution_count": 65,
   "metadata": {},
   "outputs": [],
   "source": [
    "nombre_reporte = \"MetLife - Veritas\"\n",
    "nombre_carpeta = \"F:/Reportes SF/MetLife/\"\n",
    "nombre_archivo_final = nombre_carpeta + str(dia) + \"/\" + nombre_reporte + \".xlsx\"\n",
    "Archivo_origen = nombre_carpeta + \"Datos/\" + nombre_reporte + \".xlsx\"\n",
    "crear_carpeta(nombre_carpeta)\n",
    "actualizar(Archivo_origen)\n",
    "Asunto = \"Detalle de Uso \" + nombre_reporte + \" - \" + str(dia)\n",
    "shutil.copy2(Archivo_origen, nombre_archivo_final, follow_symlinks=True)\n",
    "\n",
    "envio_de_email(\n",
    "    remitente=\"jmartinez@careassistance.com\",\n",
    "    destinatarios=[\n",
    "        \"oespinoza@veritas.cl\",\n",
    "        \"ohonorato@metlife.cl\",\n",
    "        \"jpalmav@metlife.cl\",\n",
    "    ],\n",
    "    concopia=[\n",
    "        \"rtapia@careassistance.com\",\n",
    "        \"dgarcia@careassistance.com\",\n",
    "        \"dnunez@careassistance.com\",\n",
    "        \"pcerda@careassistance.com\",\n",
    "        \"frubio@careassistance.com\",\n",
    "    ],\n",
    "    asunto=Asunto,\n",
    "    nombre_reporte = str(nombre_reporte),\n",
    "    ruta_adjunto=nombre_archivo_final,\n",
    "    nombre_adjunto=nombre_reporte + \".xlsx\",\n",
    ")"
   ]
  },
  {
   "cell_type": "code",
   "execution_count": 66,
   "metadata": {},
   "outputs": [],
   "source": [
    "nombre_reporte = \"Metlife - Ultramar\"\n",
    "nombre_carpeta = \"F:/Reportes SF/MetLife/\"\n",
    "nombre_archivo_final = nombre_carpeta + str(dia) + \"/\" + nombre_reporte + \".xlsx\"\n",
    "Archivo_origen = nombre_carpeta + \"Datos/\" + nombre_reporte + \".xlsx\"\n",
    "crear_carpeta(nombre_carpeta)\n",
    "actualizar(Archivo_origen)\n",
    "Asunto = \"Detalle de Uso \" + nombre_reporte + \" - \" + str(dia)\n",
    "shutil.copy2(Archivo_origen, nombre_archivo_final, follow_symlinks=True)\n",
    "\n",
    "envio_de_email(\n",
    "    remitente=\"jmartinez@careassistance.com\",\n",
    "    destinatarios=[\"rtapia@careassistance.com\"],\n",
    "    concopia=[\n",
    "        \"dgarcia@careassistance.com\",\n",
    "        \"dnunez@careassistance.com\",\n",
    "        \"pcerda@careassistance.com\",\n",
    "        \"frubio@careassistance.com\",\n",
    "    ],\n",
    "    asunto=Asunto,\n",
    "    nombre_reporte=str(nombre_reporte),\n",
    "    ruta_adjunto=nombre_archivo_final,\n",
    "    nombre_adjunto=nombre_reporte + \".xlsx\",\n",
    ")"
   ]
  }
 ],
 "metadata": {
  "kernelspec": {
   "display_name": "Python 3",
   "language": "python",
   "name": "python3"
  },
  "language_info": {
   "codemirror_mode": {
    "name": "ipython",
    "version": 3
   },
   "file_extension": ".py",
   "mimetype": "text/x-python",
   "name": "python",
   "nbconvert_exporter": "python",
   "pygments_lexer": "ipython3",
   "version": "3.10.8"
  },
  "orig_nbformat": 4,
  "vscode": {
   "interpreter": {
    "hash": "a4c0672c92e7bf4f58b7029fe981849933df28de4314420b2cba9072c49cf0a9"
   }
  }
 },
 "nbformat": 4,
 "nbformat_minor": 2
}
