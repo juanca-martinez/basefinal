{
 "cells": [
  {
   "cell_type": "code",
   "execution_count": 1,
   "metadata": {},
   "outputs": [],
   "source": [
    "import smtplib\n",
    "from email.mime.multipart import MIMEMultipart\n",
    "from email.mime.text import MIMEText\n",
    "from email.mime.base import MIMEBase\n",
    "from email import encoders\n",
    "import win32com.client\n"
   ]
  },
  {
   "cell_type": "code",
   "execution_count": 9,
   "metadata": {},
   "outputs": [],
   "source": [
    "def envio_de_email(\n",
    "    remitente, destinatarios, asunto, cuerpo, ruta_adjunto, nombre_adjunto\n",
    "):\n",
    "    # Creamos el objeto mensaje\n",
    "    mensaje = MIMEMultipart()\n",
    "    # Establecemos los atributos del mensaje\n",
    "    mensaje[\"From\"] = remitente\n",
    "    mensaje[\"To\"] = \", \".join(destinatarios)\n",
    "    mensaje[\"Subject\"] = asunto\n",
    "    # Agregamos el cuerpo del mensaje como objeto MIME de tipo texto\n",
    "    mensaje.attach(MIMEText(cuerpo, \"plain\"))\n",
    "    # Abrimos el archivo que vamos a adjuntar\n",
    "    archivo_adjunto = open(ruta_adjunto, \"rb\")\n",
    "\n",
    "    # Creamos un objeto MIME base\n",
    "    adjunto_MIME = MIMEBase(\"application\", \"octet-stream\")\n",
    "    # Y le cargamos el archivo adjunto\n",
    "    adjunto_MIME.set_payload((archivo_adjunto).read())\n",
    "    # Codificamos el objeto en BASE64\n",
    "    encoders.encode_base64(adjunto_MIME)\n",
    "    # Agregamos una cabecera al objeto\n",
    "    adjunto_MIME.add_header(\n",
    "        \"Content-Disposition\", \"attachment; filename= %s\" % nombre_adjunto\n",
    "    )\n",
    "    # Y finalmente lo agregamos al mensaje\n",
    "    mensaje.attach(adjunto_MIME)\n",
    "    # Creamos la conexión con el servidor\n",
    "    sesion_smtp = smtplib.SMTP(\"smtp.office365.com\", 587)\n",
    "    # Ciframos la conexión\n",
    "    sesion_smtp.starttls()\n",
    "    # Iniciamos sesión en el servidor\n",
    "    sesion_smtp.login(\"jmartinez@careassistance.com\", \"Jcmm010483\")\n",
    "    # Convertimos el objeto mensaje a texto\n",
    "    texto = mensaje.as_string()\n",
    "    # Enviamos el mensaje\n",
    "    sesion_smtp.sendmail(remitente, destinatarios, texto)\n",
    "    # Cerramos la conexión\n",
    "    sesion_smtp.quit()"
   ]
  },
  {
   "cell_type": "code",
   "execution_count": 9,
   "metadata": {},
   "outputs": [],
   "source": [
    "\n",
    "# Opening Excel software using the win32com\n",
    "File = win32com.client.Dispatch(\"Excel.Application\")\n",
    "  \n",
    "# Optional line to show the Excel software\n",
    "File.Visible = 1\n",
    "  \n",
    "# Opening your workbook\n",
    "Workbook = File.Workbooks.open('F:/Reportes SF/Lipigas/03-02-2023/Lipigas.xlsx')\n",
    "for i in range(3):\n",
    "    Workbook.RefreshAll()\n",
    "# Refeshing all the shests\n",
    "\n",
    "#Workbook.RefreshAll()\n",
    "#Workbook.RefreshAll()\n",
    "  \n",
    "# Saving the Workbook\n",
    "Workbook.Save()\n",
    "  \n",
    "# Closing the Excel File\n",
    "File.Quit()"
   ]
  },
  {
   "cell_type": "code",
   "execution_count": 10,
   "metadata": {},
   "outputs": [],
   "source": [
    "envio_de_email(\n",
    "remitente = 'jmartinez@careassistance.com',\n",
    "destinatarios = ['jcm.matus@gmail.com'],\n",
    "asunto = 'Correo de Prueba Lipigas',\n",
    "cuerpo = 'Buenas tardes Este es un correo de prueba para el envio del reporte de Lipigas',\n",
    "ruta_adjunto = 'F:/Reportes SF/Lipigas/03-02-2023/Lipigas.xlsx',\n",
    "nombre_adjunto = 'Lipigas.xlsx',\n",
    "\n",
    ")"
   ]
  }
 ],
 "metadata": {
  "kernelspec": {
   "display_name": "Python 3",
   "language": "python",
   "name": "python3"
  },
  "language_info": {
   "codemirror_mode": {
    "name": "ipython",
    "version": 3
   },
   "file_extension": ".py",
   "mimetype": "text/x-python",
   "name": "python",
   "nbconvert_exporter": "python",
   "pygments_lexer": "ipython3",
   "version": "3.10.8"
  },
  "orig_nbformat": 4,
  "vscode": {
   "interpreter": {
    "hash": "a4c0672c92e7bf4f58b7029fe981849933df28de4314420b2cba9072c49cf0a9"
   }
  }
 },
 "nbformat": 4,
 "nbformat_minor": 2
}
