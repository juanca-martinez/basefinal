{
 "cells": [
  {
   "cell_type": "code",
   "execution_count": 2,
   "metadata": {
    "notebookRunGroups": {
     "groupValue": "1"
    }
   },
   "outputs": [],
   "source": [
    "import smtplib\n",
    "from email.mime.multipart import MIMEMultipart\n",
    "from email.mime.text import MIMEText\n",
    "from email.mime.base import MIMEBase\n",
    "from email import encoders\n",
    "import win32com.client\n",
    "from datetime import datetime\n",
    "import os\n",
    "import shutil\n",
    "import time"
   ]
  },
  {
   "attachments": {},
   "cell_type": "markdown",
   "metadata": {},
   "source": [
    "funcion envio de email\n"
   ]
  },
  {
   "cell_type": "code",
   "execution_count": 3,
   "metadata": {
    "notebookRunGroups": {
     "groupValue": "1"
    }
   },
   "outputs": [],
   "source": [
    "def envio_de_email(\n",
    "    remitente,\n",
    "    destinatarios,\n",
    "    concopia,\n",
    "    asunto,\n",
    "    nombre_reporte,\n",
    "    ruta_adjunto,\n",
    "    nombre_adjunto,\n",
    "):\n",
    "\n",
    "    cuerpo = (\n",
    "        \"Estimados, buen día.\\nAdjunto reporte semanal \"\n",
    "        + nombre_reporte\n",
    "        + \" actualizado.\\n\\n https://infogram.com/testing-banco-estado-1h7j4dvxywrnv4n?live \\n Saludos.\\n\\nJuan Carlos Martínez\\nCare Assistance\\n\"\n",
    "    )\n",
    "    destinatarios2 = destinatarios + concopia\n",
    "    # Creamos el objeto mensaje\n",
    "    mensaje = MIMEMultipart()\n",
    "    # Establecemos los atributos del mensaje\n",
    "    mensaje[\"From\"] = remitente\n",
    "    mensaje[\"To\"] = \", \".join(destinatarios)\n",
    "    mensaje[\"CC\"] = \", \".join(concopia)\n",
    "    mensaje[\"Subject\"] = asunto\n",
    "    # Agregamos el cuerpo del mensaje como objeto MIME de tipo texto\n",
    "    mensaje.attach(MIMEText(cuerpo, \"plain\"))\n",
    "    # Abrimos el archivo que vamos a adjuntar\n",
    "    archivo_adjunto = open(ruta_adjunto, \"rb\")\n",
    "\n",
    "    # Creamos un objeto MIME base\n",
    "    adjunto_MIME = MIMEBase(\"application\", \"octet-stream\")\n",
    "    # Y le cargamos el archivo adjunto\n",
    "    adjunto_MIME.set_payload((archivo_adjunto).read())\n",
    "    # Codificamos el objeto en BASE64\n",
    "    encoders.encode_base64(adjunto_MIME)\n",
    "    # Agregamos una cabecera al objeto\n",
    "    adjunto_MIME.add_header(\n",
    "        \"Content-Disposition\", \"attachment; filename= %s\" % nombre_adjunto\n",
    "    )\n",
    "    # Y finalmente lo agregamos al mensaje\n",
    "    mensaje.attach(adjunto_MIME)\n",
    "    # Creamos la conexión con el servidor\n",
    "    sesion_smtp = smtplib.SMTP(\"smtp.office365.com\", 587)\n",
    "    # Ciframos la conexión\n",
    "    sesion_smtp.starttls()\n",
    "    # Iniciamos sesión en el servidor\n",
    "    sesion_smtp.login(\"jmartinez@careassistance.com\", \"Jcmm010483\")\n",
    "    # Convertimos el objeto mensaje a texto\n",
    "    texto = mensaje.as_string()\n",
    "\n",
    "    # Enviamos el mensaje\n",
    "    sesion_smtp.sendmail(remitente, destinatarios2, texto)\n",
    "\n",
    "    # Cerramos la conexión\n",
    "    sesion_smtp.quit()\n",
    "    time.sleep(2)"
   ]
  },
  {
   "attachments": {},
   "cell_type": "markdown",
   "metadata": {},
   "source": [
    "funcion de actualizar archivo\n"
   ]
  },
  {
   "cell_type": "code",
   "execution_count": 4,
   "metadata": {
    "notebookRunGroups": {
     "groupValue": "1"
    }
   },
   "outputs": [],
   "source": [
    "def actualizar(nombre_archivo):\n",
    "    # Opening Excel software using the win32com\n",
    "    File = win32com.client.Dispatch(\"Excel.Application\")\n",
    "    # Optional line to show the Excel software\n",
    "    File.Visible = 1\n",
    "    # Opening your workbook\n",
    "    Workbook = File.Workbooks.open(nombre_archivo)\n",
    "    Workbook.RefreshAll()\n",
    "    # Refeshing all the shests\n",
    "    # Saving the Workbook\n",
    "    Workbook.Save()\n",
    "    # Closing the Excel File\n",
    "    File.Quit()"
   ]
  },
  {
   "attachments": {},
   "cell_type": "markdown",
   "metadata": {},
   "source": [
    "Funcion crear carpeta\n"
   ]
  },
  {
   "cell_type": "code",
   "execution_count": 5,
   "metadata": {
    "notebookRunGroups": {
     "groupValue": "1"
    }
   },
   "outputs": [],
   "source": [
    "date = datetime.now()\n",
    "dia = date.strftime(\"%d-%m-%Y\")\n",
    "\n",
    "\n",
    "####### Comprobacion de carpeta ########\n",
    "\n",
    "\n",
    "def crear_carpeta(nombre_carpeta):\n",
    "    if not os.path.isdir(str(nombre_carpeta) + str(dia)):\n",
    "        print(\"No existe, se crea\")\n",
    "        os.mkdir(str(nombre_carpeta) + str(dia))\n",
    "        nombre = str(nombre_carpeta) + str(dia) + \"/\"\n",
    "        return nombre"
   ]
  },
  {
   "cell_type": "code",
   "execution_count": 6,
   "metadata": {},
   "outputs": [],
   "source": [
    "nombre_reporte = \"3sp\"\n",
    "nombre_carpeta = \"F:/Reportes SF/3sp/\"\n",
    "nombre_archivo_final = nombre_carpeta + str(dia) + \"/\" + nombre_reporte + \".xlsx\"\n",
    "Archivo_origen = nombre_carpeta + \"Datos/\" + nombre_reporte + \".xlsx\"\n",
    "crear_carpeta(nombre_carpeta)\n",
    "actualizar(Archivo_origen)\n",
    "Asunto = \"Detalle de Uso \" + nombre_reporte + \" - \" + str(dia)\n",
    "shutil.copy2(Archivo_origen, nombre_archivo_final, follow_symlinks=True)\n",
    "\n",
    "envio_de_email(\n",
    "    remitente=\"jmartinez@careassistance.com\",\n",
    "    destinatarios=[\"jmartinez@careassistance.com\"],\n",
    "    concopia=[\n",
    "        'dgarcia@careassistance.com'\n",
    "    ],\n",
    "    asunto=Asunto,\n",
    "    nombre_reporte = str(nombre_reporte),\n",
    "    ruta_adjunto=nombre_archivo_final,\n",
    "    nombre_adjunto=nombre_reporte + \".xlsx\",\n",
    ")"
   ]
  },
  {
   "attachments": {},
   "cell_type": "markdown",
   "metadata": {},
   "source": [
    "3SP\n"
   ]
  },
  {
   "cell_type": "code",
   "execution_count": 6,
   "metadata": {},
   "outputs": [],
   "source": [
    "nombre_reporte = \"3sp\"\n",
    "nombre_carpeta = \"F:/Reportes SF/3sp/\"\n",
    "nombre_archivo_final = nombre_carpeta + str(dia) + \"/\" + nombre_reporte + \".xlsx\"\n",
    "Archivo_origen = nombre_carpeta + \"Datos/\" + nombre_reporte + \".xlsx\"\n",
    "crear_carpeta(nombre_carpeta)\n",
    "actualizar(Archivo_origen)\n",
    "Asunto = \"Detalle de Uso \" + nombre_reporte + \" - \" + str(dia)\n",
    "shutil.copy2(Archivo_origen, nombre_archivo_final, follow_symlinks=True)\n",
    "\n",
    "envio_de_email(\n",
    "    remitente=\"jmartinez@careassistance.com\",\n",
    "    destinatarios=[\"jmartinez@careassistance.com\"],\n",
    "    concopia=[\n",
    "        'jcm.matus@gmail.com','cvillanueva@careassistance.com'\n",
    "    ],\n",
    "    asunto=Asunto,\n",
    "    nombre_reporte = str(nombre_reporte),\n",
    "    ruta_adjunto=nombre_archivo_final,\n",
    "    nombre_adjunto=nombre_reporte + \".xlsx\",\n",
    ")"
   ]
  },
  {
   "attachments": {},
   "cell_type": "markdown",
   "metadata": {},
   "source": [
    "Vida Security Group"
   ]
  },
  {
   "cell_type": "code",
   "execution_count": 7,
   "metadata": {},
   "outputs": [
    {
     "name": "stdout",
     "output_type": "stream",
     "text": [
      "No existe, se crea\n"
     ]
    }
   ],
   "source": [
    "nombre_reporte = \"Vida Security - General\"\n",
    "nombre_carpeta = \"F:/Reportes SF/Vida Security/\"\n",
    "nombre_archivo_final = nombre_carpeta + str(dia) + \"/\" + nombre_reporte + \".xlsx\"\n",
    "Archivo_origen = nombre_carpeta + \"Datos/\" + nombre_reporte + \".xlsx\"\n",
    "crear_carpeta(nombre_carpeta)\n",
    "actualizar(Archivo_origen)\n",
    "Asunto = \"Detalle de Uso \" + nombre_reporte + \" - \" + str(dia)\n",
    "shutil.copy2(Archivo_origen, nombre_archivo_final, follow_symlinks=True)\n",
    "\n",
    "envio_de_email(\n",
    "    remitente=\"jmartinez@careassistance.com\",\n",
    "    destinatarios=[\n",
    "        \"dnunez@careassistance.com\",\n",
    "    ],\n",
    "    concopia=[\n",
    "        \"dgarcia@careassistance.com\",\n",
    "        \"pcerda@careassistance.com\",\n",
    "        \"frubio@careassistance.com\",\n",
    "    ],\n",
    "    asunto=Asunto,\n",
    "    nombre_reporte = str(nombre_reporte),\n",
    "    ruta_adjunto=nombre_archivo_final,\n",
    "    nombre_adjunto=nombre_reporte + \".xlsx\",\n",
    ")"
   ]
  },
  {
   "cell_type": "code",
   "execution_count": 8,
   "metadata": {},
   "outputs": [],
   "source": [
    "nombre_reporte = \"Vida Security - BHP\"\n",
    "nombre_carpeta = \"F:/Reportes SF/Vida Security/\"\n",
    "nombre_archivo_final = nombre_carpeta + str(dia) + \"/\" + nombre_reporte + \".xlsx\"\n",
    "Archivo_origen = nombre_carpeta + \"Datos/\" + nombre_reporte + \".xlsx\"\n",
    "crear_carpeta(nombre_carpeta)\n",
    "actualizar(Archivo_origen)\n",
    "Asunto = \"Detalle de Uso \" + nombre_reporte + \" - \" + str(dia)\n",
    "shutil.copy2(Archivo_origen, nombre_archivo_final, follow_symlinks=True)\n",
    "\n",
    "envio_de_email(\n",
    "    remitente=\"jmartinez@careassistance.com\",\n",
    "    destinatarios=[\n",
    "        \"dnunez@careassistance.com\",\n",
    "    ],\n",
    "    concopia=[\n",
    "        \"dgarcia@careassistance.com\",\n",
    "        \"pcerda@careassistance.com\",\n",
    "        \"frubio@careassistance.com\",\n",
    "    ],\n",
    "    asunto=Asunto,\n",
    "    nombre_reporte = str(nombre_reporte),\n",
    "    ruta_adjunto=nombre_archivo_final,\n",
    "    nombre_adjunto=nombre_reporte + \".xlsx\",\n",
    ")"
   ]
  },
  {
   "cell_type": "code",
   "execution_count": 9,
   "metadata": {},
   "outputs": [],
   "source": [
    "nombre_reporte = \"Vida Security - SQM\"\n",
    "nombre_carpeta = \"F:/Reportes SF/Vida Security/\"\n",
    "nombre_archivo_final = nombre_carpeta + str(dia) + \"/\" + nombre_reporte + \".xlsx\"\n",
    "Archivo_origen = nombre_carpeta + \"Datos/\" + nombre_reporte + \".xlsx\"\n",
    "crear_carpeta(nombre_carpeta)\n",
    "actualizar(Archivo_origen)\n",
    "Asunto = \"Detalle de Uso \" + nombre_reporte + \" - \" + str(dia)\n",
    "shutil.copy2(Archivo_origen, nombre_archivo_final, follow_symlinks=True)\n",
    "\n",
    "envio_de_email(\n",
    "    remitente=\"jmartinez@careassistance.com\",\n",
    "    destinatarios=[\n",
    "        \"dnunez@careassistance.com\",\n",
    "    ],\n",
    "    concopia=[\n",
    "        \"dgarcia@careassistance.com\",\n",
    "        \"pcerda@careassistance.com\",\n",
    "        \"frubio@careassistance.com\",\n",
    "    ],\n",
    "    asunto=Asunto,\n",
    "    nombre_reporte = str(nombre_reporte),\n",
    "    ruta_adjunto=nombre_archivo_final,\n",
    "    nombre_adjunto=nombre_reporte + \".xlsx\",\n",
    ")"
   ]
  },
  {
   "cell_type": "code",
   "execution_count": 10,
   "metadata": {},
   "outputs": [],
   "source": [
    "nombre_reporte = \"Vida Security - Mercer\"\n",
    "nombre_carpeta = \"F:/Reportes SF/Vida Security/\"\n",
    "nombre_archivo_final = nombre_carpeta + str(dia) + \"/\" + nombre_reporte + \".xlsx\"\n",
    "Archivo_origen = nombre_carpeta + \"Datos/\" + nombre_reporte + \".xlsx\"\n",
    "crear_carpeta(nombre_carpeta)\n",
    "actualizar(Archivo_origen)\n",
    "Asunto = \"Detalle de Uso \" + nombre_reporte + \" - \" + str(dia)\n",
    "shutil.copy2(Archivo_origen, nombre_archivo_final, follow_symlinks=True)\n",
    "\n",
    "envio_de_email(\n",
    "    remitente=\"jmartinez@careassistance.com\",\n",
    "    destinatarios=[\n",
    "        \"dnunez@careassistance.com\",\n",
    "    ],\n",
    "    concopia=[\n",
    "        \"dgarcia@careassistance.com\",\n",
    "        \"pcerda@careassistance.com\",\n",
    "        \"frubio@careassistance.com\",\n",
    "    ],\n",
    "    asunto=Asunto,\n",
    "    nombre_reporte = str(nombre_reporte),\n",
    "    ruta_adjunto=nombre_archivo_final,\n",
    "    nombre_adjunto=nombre_reporte + \".xlsx\",\n",
    ")"
   ]
  },
  {
   "attachments": {},
   "cell_type": "markdown",
   "metadata": {},
   "source": [
    "Pedro de Valdivia\n"
   ]
  },
  {
   "cell_type": "code",
   "execution_count": 11,
   "metadata": {},
   "outputs": [
    {
     "name": "stdout",
     "output_type": "stream",
     "text": [
      "No existe, se crea\n"
     ]
    }
   ],
   "source": [
    "nombre_reporte = \"Pedro de Valdivia\"\n",
    "nombre_carpeta = \"F:/Reportes SF/Pedro de Valdivia/\"\n",
    "nombre_archivo_final = nombre_carpeta + str(dia) + \"/\" + nombre_reporte + \".xlsx\"\n",
    "Archivo_origen = nombre_carpeta + \"Datos/\" + nombre_reporte + \".xlsx\"\n",
    "crear_carpeta(nombre_carpeta)\n",
    "actualizar(Archivo_origen)\n",
    "Asunto = \"Detalle de Uso \" + nombre_reporte + \" - \" + str(dia)\n",
    "shutil.copy2(Archivo_origen, nombre_archivo_final, follow_symlinks=True)\n",
    "\n",
    "envio_de_email(\n",
    "    remitente=\"jmartinez@careassistance.com\",\n",
    "    destinatarios=[\"mulsen@pedrodevaldivia.cl\"],\n",
    "    concopia=[\n",
    "        \"rtapia@careassistance.com\",\n",
    "        \"dgarcia@careassistance.com\",\n",
    "        \"dnunez@careassistance.com\",\n",
    "        \"pcerda@careassistance.com\",\n",
    "        \"frubio@careassistance.com\",\n",
    "    ],\n",
    "    asunto=Asunto,\n",
    "    nombre_reporte = str(nombre_reporte),\n",
    "    ruta_adjunto=nombre_archivo_final,\n",
    "    nombre_adjunto=nombre_reporte + \".xlsx\",\n",
    ")\n"
   ]
  },
  {
   "attachments": {},
   "cell_type": "markdown",
   "metadata": {},
   "source": [
    "Minera el Abra\n"
   ]
  },
  {
   "cell_type": "code",
   "execution_count": 12,
   "metadata": {},
   "outputs": [
    {
     "name": "stdout",
     "output_type": "stream",
     "text": [
      "No existe, se crea\n"
     ]
    }
   ],
   "source": [
    "\n",
    "\n",
    "nombre_reporte = \"Minera El Abra\"\n",
    "nombre_carpeta = \"F:/Reportes SF/Minera El Abra/\"\n",
    "nombre_archivo_final = nombre_carpeta + str(dia) + \"/\" + nombre_reporte + \".xlsx\"\n",
    "Archivo_origen = nombre_carpeta + \"Datos/\" + nombre_reporte + \".xlsx\"\n",
    "crear_carpeta(nombre_carpeta)\n",
    "actualizar(Archivo_origen)\n",
    "Asunto = \"Detalle de Uso \" + nombre_reporte + \" - \" + str(dia)\n",
    "shutil.copy2(Archivo_origen, nombre_archivo_final, follow_symlinks=True)\n",
    "\n",
    "envio_de_email(\n",
    "    remitente=\"jmartinez@careassistance.com\",\n",
    "    destinatarios=[\"jpacheco1@fmi.com\"],\n",
    "    concopia=[\n",
    "        \"rtapia@careassistance.com\",\n",
    "        \"dgarcia@careassistance.com\",\n",
    "        \"dnunez@careassistance.com\",\n",
    "        \"pcerda@careassistance.com\",\n",
    "        \"frubio@careassistance.com\",\n",
    "    ],\n",
    "    asunto=Asunto,\n",
    "    nombre_reporte = str(nombre_reporte),\n",
    "    ruta_adjunto=nombre_archivo_final,\n",
    "    nombre_adjunto=nombre_reporte + \".xlsx\",\n",
    ")\n"
   ]
  },
  {
   "attachments": {},
   "cell_type": "markdown",
   "metadata": {},
   "source": [
    "wom"
   ]
  },
  {
   "cell_type": "code",
   "execution_count": 13,
   "metadata": {},
   "outputs": [
    {
     "name": "stdout",
     "output_type": "stream",
     "text": [
      "No existe, se crea\n"
     ]
    }
   ],
   "source": [
    "nombre_reporte = \"MetLife - Wom\"\n",
    "nombre_carpeta = \"F:/Reportes SF/Wom/\"\n",
    "nombre_archivo_final = nombre_carpeta + str(dia) + \"/\" + nombre_reporte + \".xlsx\"\n",
    "Archivo_origen = nombre_carpeta + \"Datos/\" + nombre_reporte + \".xlsx\"\n",
    "crear_carpeta(nombre_carpeta)\n",
    "actualizar(Archivo_origen)\n",
    "Asunto = \"Detalle de Uso \" + nombre_reporte + \" - \" + str(dia)\n",
    "shutil.copy2(Archivo_origen, nombre_archivo_final, follow_symlinks=True)\n",
    "\n",
    "envio_de_email(\n",
    "    remitente=\"jmartinez@careassistance.com\",\n",
    "    destinatarios=[\"rtapia@careassistance.com\"],\n",
    "    concopia=[\n",
    "        \"dgarcia@careassistance.com\",\n",
    "        \"dnunez@careassistance.com\",\n",
    "        \"pcerda@careassistance.com\",\n",
    "        \"frubio@careassistance.com\",\n",
    "    ],\n",
    "    asunto=Asunto,\n",
    "    nombre_reporte = str(nombre_reporte),\n",
    "    ruta_adjunto=nombre_archivo_final,\n",
    "    nombre_adjunto=nombre_reporte + \".xlsx\",\n",
    ")"
   ]
  },
  {
   "attachments": {},
   "cell_type": "markdown",
   "metadata": {},
   "source": [
    "Lipigas\n"
   ]
  },
  {
   "cell_type": "code",
   "execution_count": 14,
   "metadata": {},
   "outputs": [
    {
     "name": "stdout",
     "output_type": "stream",
     "text": [
      "No existe, se crea\n"
     ]
    }
   ],
   "source": [
    "nombre_reporte = \"Empresas Lipigas\"\n",
    "nombre_carpeta = \"F:/Reportes SF/Lipigas/\"\n",
    "nombre_archivo_final = nombre_carpeta + str(dia) + \"/\" + nombre_reporte + \".xlsx\"\n",
    "Archivo_origen = nombre_carpeta + \"Datos/\" + nombre_reporte + \".xlsx\"\n",
    "crear_carpeta(nombre_carpeta)\n",
    "actualizar(Archivo_origen)\n",
    "Asunto = \"Detalle de Uso \" + nombre_reporte + \" - \" + str(dia)\n",
    "shutil.copy2(Archivo_origen, nombre_archivo_final, follow_symlinks=True)\n",
    "\n",
    "envio_de_email(\n",
    "    remitente=\"jmartinez@careassistance.com\",\n",
    "    destinatarios=[\"xlotina@lipigas.cl\", \"mvera@lipigas.cl\", \"frojass@lipigas.cl\"],\n",
    "    concopia=[\n",
    "        \"rtapia@careassistance.com\",\n",
    "        \"dgarcia@careassistance.com\",\n",
    "        \"dnunez@careassistance.com\",\n",
    "        \"pcerda@careassistance.com\",\n",
    "        \"frubio@careassistance.com\",\n",
    "    ],\n",
    "    asunto=Asunto,\n",
    "    nombre_reporte=str(nombre_reporte),\n",
    "    ruta_adjunto=nombre_archivo_final,\n",
    "    nombre_adjunto=nombre_reporte + \".xlsx\",\n",
    ")"
   ]
  },
  {
   "attachments": {},
   "cell_type": "markdown",
   "metadata": {},
   "source": [
    "Colmena\n"
   ]
  },
  {
   "cell_type": "code",
   "execution_count": 15,
   "metadata": {},
   "outputs": [
    {
     "name": "stdout",
     "output_type": "stream",
     "text": [
      "No existe, se crea\n"
     ]
    }
   ],
   "source": [
    "nombre_reporte = \"Colmena\"\n",
    "nombre_carpeta = \"F:/Reportes SF/Colmena/\"\n",
    "nombre_archivo_final = nombre_carpeta + str(dia) + \"/\" + nombre_reporte + \".xlsx\"\n",
    "Archivo_origen = nombre_carpeta + \"Datos/\" + nombre_reporte + \".xlsx\"\n",
    "crear_carpeta(nombre_carpeta)\n",
    "actualizar(Archivo_origen)\n",
    "Asunto = \"Detalle de Uso \" + nombre_reporte + \" - \" + str(dia)\n",
    "shutil.copy2(Archivo_origen, nombre_archivo_final, follow_symlinks=True)\n",
    "\n",
    "envio_de_email(\n",
    "    remitente=\"jmartinez@careassistance.com\",\n",
    "    destinatarios=[\"bhenriquez@colmena.cl\", \"jmvivanco@colmena.cl\"],\n",
    "    concopia=[\n",
    "        \"rtapia@careassistance.com\",\n",
    "        \"dgarcia@careassistance.com\",\n",
    "        \"dnunez@careassistance.com\",\n",
    "        \"pcerda@careassistance.com\",\n",
    "        \"frubio@careassistance.com\",\n",
    "    ],\n",
    "    asunto=Asunto,\n",
    "    nombre_reporte = str(nombre_reporte),\n",
    "    ruta_adjunto=nombre_archivo_final,\n",
    "    nombre_adjunto=nombre_reporte + \".xlsx\",\n",
    ")"
   ]
  },
  {
   "attachments": {},
   "cell_type": "markdown",
   "metadata": {},
   "source": [
    "Cruz Verde\n"
   ]
  },
  {
   "cell_type": "code",
   "execution_count": 16,
   "metadata": {},
   "outputs": [
    {
     "name": "stdout",
     "output_type": "stream",
     "text": [
      "No existe, se crea\n"
     ]
    }
   ],
   "source": [
    "nombre_reporte = \"Farmacias Cruz Verde\"\n",
    "nombre_carpeta = \"F:/Reportes SF/Cruz Verde/\"\n",
    "nombre_archivo_final = nombre_carpeta + str(dia) + \"/\" + nombre_reporte + \".xlsx\"\n",
    "Archivo_origen = nombre_carpeta + \"Datos/\" + nombre_reporte + \".xlsx\"\n",
    "crear_carpeta(nombre_carpeta)\n",
    "actualizar(Archivo_origen)\n",
    "Asunto = \"Detalle de Uso \" + nombre_reporte + \" - \" + str(dia)\n",
    "shutil.copy2(Archivo_origen, nombre_archivo_final, follow_symlinks=True)\n",
    "\n",
    "envio_de_email(\n",
    "    remitente=\"jmartinez@careassistance.com\",\n",
    "    destinatarios=[\"claudia.ferrada@cruzverde.cl\",\"oarancibia@cruzverde.cl\"],\n",
    "    concopia=[\n",
    "        \"rtapia@careassistance.com\",\n",
    "        \"dgarcia@careassistance.com\",\n",
    "        \"dnunez@careassistance.com\",\n",
    "        \"pcerda@careassistance.com\",\n",
    "        \"frubio@careassistance.com\",\n",
    "    ],\n",
    "    \n",
    "    asunto=Asunto,\n",
    "    nombre_reporte = str(nombre_reporte),\n",
    "    ruta_adjunto=nombre_archivo_final,\n",
    "    nombre_adjunto=nombre_reporte + \".xlsx\",\n",
    ")"
   ]
  },
  {
   "attachments": {},
   "cell_type": "markdown",
   "metadata": {},
   "source": [
    "THB Seguros"
   ]
  },
  {
   "cell_type": "code",
   "execution_count": 17,
   "metadata": {},
   "outputs": [
    {
     "name": "stdout",
     "output_type": "stream",
     "text": [
      "No existe, se crea\n"
     ]
    }
   ],
   "source": [
    "nombre_reporte = \"THB Seguros\"\n",
    "nombre_carpeta = \"F:/Reportes SF/THB Seguros/\"\n",
    "nombre_archivo_final = nombre_carpeta + str(dia) + \"/\" + nombre_reporte + \".xlsx\"\n",
    "Archivo_origen = nombre_carpeta + \"Datos/\" + nombre_reporte + \".xlsx\"\n",
    "crear_carpeta(nombre_carpeta)\n",
    "actualizar(Archivo_origen)\n",
    "Asunto = \"Detalle de Uso \" + nombre_reporte + \" - \" + str(dia)\n",
    "shutil.copy2(Archivo_origen, nombre_archivo_final, follow_symlinks=True)\n",
    "\n",
    "envio_de_email(\n",
    "    remitente=\"jmartinez@careassistance.com\",\n",
    "    destinatarios=[\n",
    "        \"agualda@thbseguros.cl\",\n",
    "        \"jbravo@thbseguros.cl\",\n",
    "        \"nwittig@thbseguros.cl\",\n",
    "    ],\n",
    "    concopia=[\n",
    "        \"rtapia@careassistance.com\",\n",
    "        \"dgarcia@careassistance.com\",\n",
    "        \"dnunez@careassistance.com\",\n",
    "        \"pcerda@careassistance.com\",\n",
    "        \"frubio@careassistance.com\",\n",
    "    ],\n",
    "    asunto=Asunto,\n",
    "    nombre_reporte = str(nombre_reporte),\n",
    "    ruta_adjunto=nombre_archivo_final,\n",
    "    nombre_adjunto=nombre_reporte + \".xlsx\",\n",
    ")"
   ]
  },
  {
   "attachments": {},
   "cell_type": "markdown",
   "metadata": {},
   "source": [
    "VidaCel"
   ]
  },
  {
   "cell_type": "code",
   "execution_count": 18,
   "metadata": {},
   "outputs": [
    {
     "name": "stdout",
     "output_type": "stream",
     "text": [
      "No existe, se crea\n"
     ]
    }
   ],
   "source": [
    "nombre_reporte = \"VidaCel\"\n",
    "nombre_carpeta = \"F:/Reportes SF/VidaCel/\"\n",
    "nombre_archivo_final = nombre_carpeta + str(dia) + \"/\" + nombre_reporte + \".xlsx\"\n",
    "Archivo_origen = nombre_carpeta + \"Datos/\" + nombre_reporte + \".xlsx\"\n",
    "crear_carpeta(nombre_carpeta)\n",
    "actualizar(Archivo_origen)\n",
    "Asunto = \"Detalle de Uso \" + nombre_reporte + \" - \" + str(dia)\n",
    "shutil.copy2(Archivo_origen, nombre_archivo_final, follow_symlinks=True)\n",
    "\n",
    "envio_de_email(\n",
    "    remitente=\"jmartinez@careassistance.com\",\n",
    "    destinatarios=[\n",
    "        \"ahoffa@vidacel.cl\",\n",
    "        \"mmerino@vidacel.cl\",\n",
    "        \"mgarcia@vidacel.cl\" \n",
    "    ],\n",
    "    concopia=[\n",
    "        \"rtapia@careassistance.com\",\n",
    "        \"dgarcia@careassistance.com\",\n",
    "        \"dnunez@careassistance.com\",\n",
    "        \"pcerda@careassistance.com\",\n",
    "        \"frubio@careassistance.com\",\n",
    "    ],\n",
    "    asunto=Asunto,\n",
    "    nombre_reporte = str(nombre_reporte),\n",
    "    ruta_adjunto=nombre_archivo_final,\n",
    "    nombre_adjunto=nombre_reporte + \".xlsx\",\n",
    ")"
   ]
  },
  {
   "cell_type": "code",
   "execution_count": 19,
   "metadata": {},
   "outputs": [],
   "source": [
    "nombre_reporte = \"VidaCel Colaboradores\"\n",
    "nombre_carpeta = \"F:/Reportes SF/VidaCel/\"\n",
    "nombre_archivo_final = nombre_carpeta + str(dia) + \"/\" + nombre_reporte + \".xlsx\"\n",
    "Archivo_origen = nombre_carpeta + \"Datos/\" + nombre_reporte + \".xlsx\"\n",
    "crear_carpeta(nombre_carpeta)\n",
    "actualizar(Archivo_origen)\n",
    "Asunto = \"Detalle de Uso \" + nombre_reporte + \" - \" + str(dia)\n",
    "shutil.copy2(Archivo_origen, nombre_archivo_final, follow_symlinks=True)\n",
    "\n",
    "envio_de_email(\n",
    "    remitente=\"jmartinez@careassistance.com\",\n",
    "    destinatarios=['mespinoza@vidacel.cl',\n",
    "'ahoffa@vidacel.cl'\n",
    "\n",
    "\n",
    "    ],\n",
    "    concopia=[\n",
    "        \"rtapia@careassistance.com\",\n",
    "        \"dgarcia@careassistance.com\",\n",
    "        \"dnunez@careassistance.com\",\n",
    "        \"pcerda@careassistance.com\",\n",
    "        \"frubio@careassistance.com\",\n",
    "    ],\n",
    "    asunto=Asunto,\n",
    "    nombre_reporte = str(nombre_reporte),\n",
    "    ruta_adjunto=nombre_archivo_final,\n",
    "    nombre_adjunto=nombre_reporte + \".xlsx\",\n",
    ")"
   ]
  },
  {
   "attachments": {},
   "cell_type": "markdown",
   "metadata": {},
   "source": [
    "Socofar"
   ]
  },
  {
   "cell_type": "code",
   "execution_count": 20,
   "metadata": {},
   "outputs": [
    {
     "name": "stdout",
     "output_type": "stream",
     "text": [
      "No existe, se crea\n"
     ]
    }
   ],
   "source": [
    "nombre_reporte = \"Socofar\"\n",
    "nombre_carpeta = \"F:/Reportes SF/Socofar/\"\n",
    "nombre_archivo_final = nombre_carpeta + str(dia) + \"/\" + nombre_reporte + \".xlsx\"\n",
    "Archivo_origen = nombre_carpeta + \"Datos/\" + nombre_reporte + \".xlsx\"\n",
    "crear_carpeta(nombre_carpeta)\n",
    "actualizar(Archivo_origen)\n",
    "Asunto = \"Detalle de Uso \" + nombre_reporte + \" - \" + str(dia)\n",
    "shutil.copy2(Archivo_origen, nombre_archivo_final, follow_symlinks=True)\n",
    "\n",
    "envio_de_email(\n",
    "    remitente=\"jmartinez@careassistance.com\",\n",
    "    destinatarios=[\"jmartinez@careassistance.com\"],\n",
    "    concopia=[\n",
    "        'jcm.matus@gmail.com','jota.kamm@gmail.com'\n",
    "    ],\n",
    "    asunto=Asunto,\n",
    "    nombre_reporte = str(nombre_reporte),\n",
    "    ruta_adjunto=nombre_archivo_final,\n",
    "    nombre_adjunto=nombre_reporte + \".xlsx\",\n",
    ")"
   ]
  },
  {
   "attachments": {},
   "cell_type": "markdown",
   "metadata": {},
   "source": [
    "Milan Fajanovic"
   ]
  },
  {
   "cell_type": "code",
   "execution_count": 21,
   "metadata": {},
   "outputs": [
    {
     "name": "stdout",
     "output_type": "stream",
     "text": [
      "No existe, se crea\n"
     ]
    }
   ],
   "source": [
    "nombre_reporte = \"Milan Fajanovic\"\n",
    "nombre_carpeta = \"F:/Reportes SF/Milan Fajanovic/\"\n",
    "nombre_archivo_final = nombre_carpeta + str(dia) + \"/\" + nombre_reporte + \".xlsx\"\n",
    "Archivo_origen = nombre_carpeta + \"Datos/\" + nombre_reporte + \".xlsx\"\n",
    "crear_carpeta(nombre_carpeta)\n",
    "actualizar(Archivo_origen)\n",
    "Asunto = \"Detalle de Uso \" + nombre_reporte + \" - \" + str(dia)\n",
    "shutil.copy2(Archivo_origen, nombre_archivo_final, follow_symlinks=True)\n",
    "\n",
    "envio_de_email(\n",
    "    remitente=\"jmartinez@careassistance.com\",\n",
    "    destinatarios=[\"c.valenzuela@mfabjanovic.cl\"],\n",
    "    concopia=[\n",
    "        \"dgarcia@careassistance.com\",\n",
    "        \"dnunez@careassistance.com\",\n",
    "        \"pcerda@careassistance.com\",\n",
    "        \"frubio@careassistance.com\",\n",
    "    ],\n",
    "    asunto=Asunto,\n",
    "    nombre_reporte = str(nombre_reporte),\n",
    "    ruta_adjunto=nombre_archivo_final,\n",
    "    nombre_adjunto=nombre_reporte + \".xlsx\",\n",
    ")"
   ]
  },
  {
   "attachments": {},
   "cell_type": "markdown",
   "metadata": {},
   "source": [
    "Kaufmann"
   ]
  },
  {
   "cell_type": "code",
   "execution_count": 22,
   "metadata": {},
   "outputs": [
    {
     "name": "stdout",
     "output_type": "stream",
     "text": [
      "No existe, se crea\n"
     ]
    }
   ],
   "source": [
    "nombre_reporte = \"Kaufmann\"\n",
    "nombre_carpeta = \"F:/Reportes SF/Kaufmann/\"\n",
    "nombre_archivo_final = nombre_carpeta + str(dia) + \"/\" + nombre_reporte + \".xlsx\"\n",
    "Archivo_origen = nombre_carpeta + \"Datos/\" + nombre_reporte + \".xlsx\"\n",
    "crear_carpeta(nombre_carpeta)\n",
    "actualizar(Archivo_origen)\n",
    "Asunto = \"Detalle de Uso \" + nombre_reporte + \" - \" + str(dia)\n",
    "shutil.copy2(Archivo_origen, nombre_archivo_final, follow_symlinks=True)\n",
    "\n",
    "envio_de_email(\n",
    "    remitente=\"jmartinez@careassistance.com\",\n",
    "    destinatarios=[\"srivas@kaufmann.cl\", \"catalina.tobar@kaufmann.cl\"],\n",
    "    concopia=[\n",
    "        \"rtapia@careassistance.com\",\n",
    "        \"dgarcia@careassistance.com\",\n",
    "        \"dnunez@careassistance.com\",\n",
    "        \"pcerda@careassistance.com\",\n",
    "        \"frubio@careassistance.com\",\n",
    "    ],\n",
    "    asunto=Asunto,\n",
    "    nombre_reporte = str(nombre_reporte),\n",
    "    ruta_adjunto=nombre_archivo_final,\n",
    "    nombre_adjunto=nombre_reporte + \".xlsx\",\n",
    ")"
   ]
  },
  {
   "attachments": {},
   "cell_type": "markdown",
   "metadata": {},
   "source": [
    "Pesco"
   ]
  },
  {
   "cell_type": "code",
   "execution_count": 23,
   "metadata": {},
   "outputs": [
    {
     "name": "stdout",
     "output_type": "stream",
     "text": [
      "No existe, se crea\n"
     ]
    }
   ],
   "source": [
    "nombre_reporte = \"Pesco\"\n",
    "nombre_carpeta = \"F:/Reportes SF/Pesco/\"\n",
    "nombre_archivo_final = nombre_carpeta + str(dia) + \"/\" + nombre_reporte + \".xlsx\"\n",
    "Archivo_origen = nombre_carpeta + \"Datos/\" + nombre_reporte + \".xlsx\"\n",
    "crear_carpeta(nombre_carpeta)\n",
    "actualizar(Archivo_origen)\n",
    "Asunto = \"Detalle de Uso \" + nombre_reporte + \" - \" + str(dia)\n",
    "shutil.copy2(Archivo_origen, nombre_archivo_final, follow_symlinks=True)\n",
    "\n",
    "envio_de_email(\n",
    "    remitente=\"jmartinez@careassistance.com\",\n",
    "    destinatarios=[\"savendano@pesco.cl\",'dcontreras@pesco.cl'],\n",
    "    concopia=[\n",
    "        \"pferreira@careassistance.com\",\n",
    "        \"dgarcia@careassistance.com\",\n",
    "        \"dnunez@careassistance.com\",\n",
    "        \"pcerda@careassistance.com\",\n",
    "        \"frubio@careassistance.com\",\n",
    "    ],\n",
    "    asunto=Asunto,\n",
    "    nombre_reporte = str(nombre_reporte),\n",
    "    ruta_adjunto=nombre_archivo_final,\n",
    "    nombre_adjunto=nombre_reporte + \".xlsx\",\n",
    ")"
   ]
  },
  {
   "attachments": {},
   "cell_type": "markdown",
   "metadata": {},
   "source": [
    "DERMIC\n"
   ]
  },
  {
   "cell_type": "code",
   "execution_count": 24,
   "metadata": {},
   "outputs": [
    {
     "name": "stdout",
     "output_type": "stream",
     "text": [
      "No existe, se crea\n"
     ]
    }
   ],
   "source": [
    "nombre_reporte = \"Dermik\"\n",
    "nombre_carpeta = \"F:/Reportes SF/Dermik/\"\n",
    "nombre_archivo_final = nombre_carpeta + str(dia) + \"/\" + nombre_reporte + \".xlsx\"\n",
    "Archivo_origen = nombre_carpeta + \"Datos/\" + nombre_reporte + \".xlsx\"\n",
    "crear_carpeta(nombre_carpeta)\n",
    "actualizar(Archivo_origen)\n",
    "Asunto = \"Detalle de Uso \" + nombre_reporte + \" - \" + str(dia)\n",
    "shutil.copy2(Archivo_origen, nombre_archivo_final, follow_symlinks=True)\n",
    "\n",
    "envio_de_email(\n",
    "    remitente=\"jmartinez@careassistance.com\",\n",
    "    destinatarios=[\"daniela.solis@dermik.cl\", \"karla.montero@dermik.cl\"],\n",
    "    concopia=[\n",
    "        \"rtapia@careassistance.com\",\n",
    "        \"dgarcia@careassistance.com\",\n",
    "        \"dnunez@careassistance.com\",\n",
    "        \"pcerda@careassistance.com\",\n",
    "        \"frubio@careassistance.com\",\n",
    "    ],\n",
    "    asunto=Asunto,\n",
    "    nombre_reporte = str(nombre_reporte),\n",
    "    ruta_adjunto=nombre_archivo_final,\n",
    "    nombre_adjunto=nombre_reporte + \".xlsx\",\n",
    ")"
   ]
  },
  {
   "attachments": {},
   "cell_type": "markdown",
   "metadata": {},
   "source": [
    "EY\n"
   ]
  },
  {
   "cell_type": "code",
   "execution_count": 25,
   "metadata": {},
   "outputs": [
    {
     "name": "stdout",
     "output_type": "stream",
     "text": [
      "No existe, se crea\n"
     ]
    }
   ],
   "source": [
    "nombre_reporte = \"EY\"\n",
    "nombre_carpeta = \"F:/Reportes SF/EY/\"\n",
    "nombre_archivo_final = nombre_carpeta + str(dia) + \"/\" + nombre_reporte + \".xlsx\"\n",
    "Archivo_origen = nombre_carpeta + \"Datos/\" + nombre_reporte + \".xlsx\"\n",
    "crear_carpeta(nombre_carpeta)\n",
    "actualizar(Archivo_origen)\n",
    "Asunto = \"Detalle de Uso \" + nombre_reporte + \" - \" + str(dia)\n",
    "shutil.copy2(Archivo_origen, nombre_archivo_final, follow_symlinks=True)\n",
    "\n",
    "envio_de_email(\n",
    "    remitente=\"jmartinez@careassistance.com\",\n",
    "    destinatarios=[\"vicente.fernandez@cl.ey.com\", \"marcela.farias@cl.ey.com\"],\n",
    "    concopia=[\n",
    "        \"rtapia@careassistance.com\",\n",
    "        \"dgarcia@careassistance.com\",\n",
    "        \"dnunez@careassistance.com\",\n",
    "        \"pcerda@careassistance.com\",\n",
    "        \"frubio@careassistance.com\",\n",
    "    ],\n",
    "    asunto=Asunto,\n",
    "    nombre_reporte = str(nombre_reporte),\n",
    "    ruta_adjunto=nombre_archivo_final,\n",
    "    nombre_adjunto=nombre_reporte + \".xlsx\",\n",
    ")"
   ]
  },
  {
   "attachments": {},
   "cell_type": "markdown",
   "metadata": {},
   "source": [
    "Farmacias Ahumada\n"
   ]
  },
  {
   "cell_type": "code",
   "execution_count": 26,
   "metadata": {},
   "outputs": [
    {
     "name": "stdout",
     "output_type": "stream",
     "text": [
      "No existe, se crea\n"
     ]
    }
   ],
   "source": [
    "nombre_reporte = \"Farmacias Ahumada\"\n",
    "nombre_carpeta = \"F:/Reportes SF/Farmacias Ahumada/\"\n",
    "nombre_archivo_final = nombre_carpeta + str(dia) + \"/\" + nombre_reporte + \".xlsx\"\n",
    "Archivo_origen = nombre_carpeta + \"Datos/\" + nombre_reporte + \".xlsx\"\n",
    "crear_carpeta(nombre_carpeta)\n",
    "actualizar(Archivo_origen)\n",
    "Asunto = \"Detalle de Uso \" + nombre_reporte + \" - \" + str(dia)\n",
    "shutil.copy2(Archivo_origen, nombre_archivo_final, follow_symlinks=True)\n",
    "\n",
    "envio_de_email(\n",
    "    remitente=\"jmartinez@careassistance.com\",\n",
    "    destinatarios=[\"mpmunoz@ahumada.cl\", \"jsanmartin@ahumada.cl\", \"jluna@ahumada.cl\"],\n",
    "    concopia=[\n",
    "        \"pferreira@careassistance.com\",\n",
    "        \"dgarcia@careassistance.com\",\n",
    "        \"dnunez@careassistance.com\",\n",
    "        \"pcerda@careassistance.com\",\n",
    "        \"frubio@careassistance.com\",\n",
    "    ],\n",
    "    asunto=Asunto,\n",
    "    nombre_reporte = str(nombre_reporte),\n",
    "    ruta_adjunto=nombre_archivo_final,\n",
    "    nombre_adjunto=nombre_reporte + \".xlsx\",\n",
    ")"
   ]
  },
  {
   "attachments": {},
   "cell_type": "markdown",
   "metadata": {},
   "source": [
    "Forus\n"
   ]
  },
  {
   "cell_type": "code",
   "execution_count": 27,
   "metadata": {},
   "outputs": [
    {
     "name": "stdout",
     "output_type": "stream",
     "text": [
      "No existe, se crea\n"
     ]
    }
   ],
   "source": [
    "nombre_reporte = \"Forus\"\n",
    "nombre_carpeta = \"F:/Reportes SF/Forus/\"\n",
    "nombre_archivo_final = nombre_carpeta + str(dia) + \"/\" + nombre_reporte + \".xlsx\"\n",
    "Archivo_origen = nombre_carpeta + \"Datos/\" + nombre_reporte + \".xlsx\"\n",
    "crear_carpeta(nombre_carpeta)\n",
    "actualizar(Archivo_origen)\n",
    "Asunto = \"Detalle de Uso \" + nombre_reporte + \" - \" + str(dia)\n",
    "shutil.copy2(Archivo_origen, nombre_archivo_final, follow_symlinks=True)\n",
    "\n",
    "envio_de_email(\n",
    "    remitente=\"jmartinez@careassistance.com\",\n",
    "    destinatarios=['mbeiza@forus.cl'],\n",
    "    concopia=[\n",
    "        \"rtapia@careassistance.com\",\n",
    "        \"dgarcia@careassistance.com\",\n",
    "        \"dnunez@careassistance.com\",\n",
    "        \"pcerda@careassistance.com\",\n",
    "        \"frubio@careassistance.com\",\n",
    "    ],\n",
    "    asunto=Asunto,\n",
    "    nombre_reporte = str(nombre_reporte),\n",
    "    ruta_adjunto=nombre_archivo_final,\n",
    "    nombre_adjunto=nombre_reporte + \".xlsx\",\n",
    ")"
   ]
  },
  {
   "attachments": {},
   "cell_type": "markdown",
   "metadata": {},
   "source": [
    "Instruvalve\n"
   ]
  },
  {
   "cell_type": "code",
   "execution_count": 28,
   "metadata": {},
   "outputs": [
    {
     "name": "stdout",
     "output_type": "stream",
     "text": [
      "No existe, se crea\n"
     ]
    }
   ],
   "source": [
    "nombre_reporte = \"Instruvalve\"\n",
    "nombre_carpeta = \"F:/Reportes SF/Instruvalve/\"\n",
    "nombre_archivo_final = nombre_carpeta + str(dia) + \"/\" + nombre_reporte + \".xlsx\"\n",
    "Archivo_origen = nombre_carpeta + \"Datos/\" + nombre_reporte + \".xlsx\"\n",
    "crear_carpeta(nombre_carpeta)\n",
    "actualizar(Archivo_origen)\n",
    "Asunto = \"Detalle de Uso \" + nombre_reporte + \" - \" + str(dia)\n",
    "shutil.copy2(Archivo_origen, nombre_archivo_final, follow_symlinks=True)\n",
    "\n",
    "envio_de_email(\n",
    "    remitente=\"jmartinez@careassistance.com\",\n",
    "    destinatarios=[\"leonardo.cabrera@instruvalve.cl\", \"maria.soto@instruvalve.cl\"],\n",
    "    concopia=[\n",
    "        \"pferreira@careassistance.com\",\n",
    "        \"dgarcia@careassistance.com\",\n",
    "        \"dnunez@careassistance.com\",\n",
    "        \"pcerda@careassistance.com\",\n",
    "        \"frubio@careassistance.com\",\n",
    "    ],\n",
    "    asunto=Asunto,\n",
    "    nombre_reporte = str(nombre_reporte),\n",
    "    ruta_adjunto=nombre_archivo_final,\n",
    "    nombre_adjunto=nombre_reporte + \".xlsx\",\n",
    ")"
   ]
  },
  {
   "attachments": {},
   "cell_type": "markdown",
   "metadata": {},
   "source": [
    "Zurich\n"
   ]
  },
  {
   "cell_type": "code",
   "execution_count": 29,
   "metadata": {},
   "outputs": [
    {
     "name": "stdout",
     "output_type": "stream",
     "text": [
      "No existe, se crea\n"
     ]
    }
   ],
   "source": [
    "nombre_reporte = \"Zurich General\"\n",
    "nombre_carpeta = \"F:/Reportes SF/Zurich/\"\n",
    "nombre_archivo_final = nombre_carpeta + str(dia) + \"/\" + nombre_reporte + \".xlsx\"\n",
    "Archivo_origen = nombre_carpeta + \"Datos/\" + nombre_reporte + \".xlsx\"\n",
    "crear_carpeta(nombre_carpeta)\n",
    "actualizar(Archivo_origen)\n",
    "Asunto = \"Detalle de Uso \" + nombre_reporte + \" - \" + str(dia)\n",
    "shutil.copy2(Archivo_origen, nombre_archivo_final, follow_symlinks=True)\n",
    "\n",
    "envio_de_email(\n",
    "    remitente=\"jmartinez@careassistance.com\",\n",
    "    destinatarios=[\n",
    "        \"clara.angelica.munoz@zurich.com\",\n",
    "        \"claudia.ivonne.zapata@zurich.com\",\n",
    "        \"maria.moreno.poblete@zurich.com\",\n",
    "        \"nadia.pino@zurich.com\",\n",
    "    ],\n",
    "    concopia=[\n",
    "        \"pferreira@careassistance.com\",\n",
    "        \"dgarcia@careassistance.com\",\n",
    "        \"dnunez@careassistance.com\",\n",
    "        \"pcerda@careassistance.com\",\n",
    "        \"frubio@careassistance.com\",\n",
    "    ],\n",
    "    asunto=Asunto,\n",
    "    nombre_reporte = str(nombre_reporte),\n",
    "    ruta_adjunto=nombre_archivo_final,\n",
    "    nombre_adjunto=nombre_reporte + \".xlsx\",\n",
    ")"
   ]
  },
  {
   "cell_type": "code",
   "execution_count": 30,
   "metadata": {},
   "outputs": [],
   "source": [
    "nombre_reporte = \"Zurich - AMSA\"\n",
    "nombre_carpeta = \"F:/Reportes SF/Zurich/\"\n",
    "nombre_archivo_final = nombre_carpeta + str(dia) + \"/\" + nombre_reporte + \".xlsx\"\n",
    "Archivo_origen = nombre_carpeta + \"Datos/\" + nombre_reporte + \".xlsx\"\n",
    "crear_carpeta(nombre_carpeta)\n",
    "actualizar(Archivo_origen)\n",
    "Asunto = \"Detalle de Uso \" + nombre_reporte + \" - \" + str(dia)\n",
    "shutil.copy2(Archivo_origen, nombre_archivo_final, follow_symlinks=True)\n",
    "\n",
    "envio_de_email(\n",
    "    remitente=\"jmartinez@careassistance.com\",\n",
    "    destinatarios=[\n",
    "        \"clara.angelica.munoz@zurich.com\",\n",
    "        \"claudia.ivonne.zapata@zurich.com\",\n",
    "        \"maria.moreno.poblete@zurich.com\",\n",
    "        \"nadia.pino@zurich.com\",\n",
    "    ],\n",
    "    concopia=[\n",
    "        \"pferreira@careassistance.com\",\n",
    "        \"dgarcia@careassistance.com\",\n",
    "        \"dnunez@careassistance.com\",\n",
    "        \"pcerda@careassistance.com\",\n",
    "        \"frubio@careassistance.com\",\n",
    "    ],\n",
    "    asunto=Asunto,\n",
    "    nombre_reporte = str(nombre_reporte),\n",
    "    ruta_adjunto=nombre_archivo_final,\n",
    "    nombre_adjunto=nombre_reporte + \".xlsx\",\n",
    ")"
   ]
  },
  {
   "cell_type": "code",
   "execution_count": 31,
   "metadata": {},
   "outputs": [],
   "source": [
    "nombre_reporte = \"Zurich - Bechtel\"\n",
    "nombre_carpeta = \"F:/Reportes SF/Zurich/\"\n",
    "nombre_archivo_final = nombre_carpeta + str(dia) + \"/\" + nombre_reporte + \".xlsx\"\n",
    "Archivo_origen = nombre_carpeta + \"Datos/\" + nombre_reporte + \".xlsx\"\n",
    "crear_carpeta(nombre_carpeta)\n",
    "actualizar(Archivo_origen)\n",
    "Asunto = \"Detalle de Uso \" + nombre_reporte + \" - \" + str(dia)\n",
    "shutil.copy2(Archivo_origen, nombre_archivo_final, follow_symlinks=True)\n",
    "\n",
    "envio_de_email(\n",
    "    remitente=\"jmartinez@careassistance.com\",\n",
    "    destinatarios=[\n",
    "        \"maria.moreno.poblete@zurich.com\",\n",
    "        \"jeannette.lillo@zurich\",\n",
    "        \"p.goldschmidt@zurich.com\",\n",
    "        \"nadia.pino@zurich.com\",\n",
    "    ],\n",
    "    concopia=[\n",
    "        \"pferreira@careassistance.com\",\n",
    "        \"dgarcia@careassistance.com\",\n",
    "        \"dnunez@careassistance.com\",\n",
    "        \"pcerda@careassistance.com\",\n",
    "        \"frubio@careassistance.com\",\n",
    "    ],\n",
    "    asunto=Asunto,\n",
    "    nombre_reporte = str(nombre_reporte),\n",
    "    ruta_adjunto=nombre_archivo_final,\n",
    "    nombre_adjunto=nombre_reporte + \".xlsx\",\n",
    ")"
   ]
  },
  {
   "attachments": {},
   "cell_type": "markdown",
   "metadata": {},
   "source": [
    "BCI\n"
   ]
  },
  {
   "cell_type": "code",
   "execution_count": 32,
   "metadata": {},
   "outputs": [
    {
     "name": "stdout",
     "output_type": "stream",
     "text": [
      "No existe, se crea\n"
     ]
    }
   ],
   "source": [
    "nombre_reporte = \"BCI - General\"\n",
    "nombre_carpeta = \"F:/Reportes SF/BCI/\"\n",
    "nombre_archivo_final = nombre_carpeta + str(dia) + \"/\" + nombre_reporte + \".xlsx\"\n",
    "Archivo_origen = nombre_carpeta + \"Datos/\" + nombre_reporte + \".xlsx\"\n",
    "crear_carpeta(nombre_carpeta)\n",
    "actualizar(Archivo_origen)\n",
    "Asunto = \"Detalle de Uso \" + nombre_reporte + \" - \" + str(dia)\n",
    "shutil.copy2(Archivo_origen, nombre_archivo_final, follow_symlinks=True)\n",
    "\n",
    "envio_de_email(\n",
    "    remitente=\"jmartinez@careassistance.com\",\n",
    "    destinatarios=[\"andrea.concha@bciseguros.com\", \"mauricio.munoz@bciseguros.com\"],\n",
    "    concopia=[\n",
    "        \"rtapia@careassistance.com\",\n",
    "        \"dgarcia@careassistance.com\",\n",
    "        \"dnunez@careassistance.com\",\n",
    "        \"pcerda@careassistance.com\",\n",
    "        \"frubio@careassistance.com\",\n",
    "    ],\n",
    "    asunto=Asunto,\n",
    "    nombre_reporte = str(nombre_reporte),\n",
    "    ruta_adjunto=nombre_archivo_final,\n",
    "    nombre_adjunto=nombre_reporte + \".xlsx\",\n",
    ")"
   ]
  },
  {
   "cell_type": "code",
   "execution_count": 34,
   "metadata": {},
   "outputs": [],
   "source": [
    "nombre_reporte = \"Bci - Cemin\"\n",
    "nombre_carpeta = \"F:/Reportes SF/BCI/\"\n",
    "nombre_archivo_final = nombre_carpeta + str(dia) + \"/\" + nombre_reporte + \".xlsx\"\n",
    "Archivo_origen = nombre_carpeta + \"Datos/\" + nombre_reporte + \".xlsx\"\n",
    "crear_carpeta(nombre_carpeta)\n",
    "actualizar(Archivo_origen)\n",
    "Asunto = \"Detalle de Uso \" + nombre_reporte + \" - \" + str(dia)\n",
    "shutil.copy2(Archivo_origen, nombre_archivo_final, follow_symlinks=True)\n",
    "\n",
    "envio_de_email(\n",
    "    remitente=\"jmartinez@careassistance.com\",\n",
    "    destinatarios=[\"jeannette.rojas@3sp.cl\"],\n",
    "    concopia=[\n",
    "        \"rtapia@careassistance.com\",\n",
    "        \"dgarcia@careassistance.com\",\n",
    "        \"dnunez@careassistance.com\",\n",
    "        \"pcerda@careassistance.com\",\n",
    "        \"frubio@careassistance.com\",\n",
    "    ],\n",
    "    asunto=Asunto,\n",
    "    nombre_reporte = str(nombre_reporte),\n",
    "    ruta_adjunto=nombre_archivo_final,\n",
    "    nombre_adjunto=nombre_reporte + \".xlsx\",\n",
    ")"
   ]
  },
  {
   "cell_type": "code",
   "execution_count": 35,
   "metadata": {},
   "outputs": [],
   "source": [
    "nombre_reporte = \"Bci - Orbis\"\n",
    "nombre_carpeta = \"F:/Reportes SF/BCI/\"\n",
    "nombre_archivo_final = nombre_carpeta + str(dia) + \"/\" + nombre_reporte + \".xlsx\"\n",
    "Archivo_origen = nombre_carpeta + \"Datos/\" + nombre_reporte + \".xlsx\"\n",
    "crear_carpeta(nombre_carpeta)\n",
    "actualizar(Archivo_origen)\n",
    "Asunto = \"Detalle de Uso \" + nombre_reporte + \" - \" + str(dia)\n",
    "shutil.copy2(Archivo_origen, nombre_archivo_final, follow_symlinks=True)\n",
    "\n",
    "envio_de_email(\n",
    "    remitente=\"jmartinez@careassistance.com\",\n",
    "    destinatarios=[\"kestrada@cotizatuseguro.cl\", \"denisse.urtubia@bciseguros.com\"],\n",
    "    concopia=[\n",
    "        \"rtapia@careassistance.com\",\n",
    "        \"dgarcia@careassistance.com\",\n",
    "        \"dnunez@careassistance.com\",\n",
    "        \"pcerda@careassistance.com\",\n",
    "        \"frubio@careassistance.com\",\n",
    "    ],\n",
    "    asunto=Asunto,\n",
    "    nombre_reporte = str(nombre_reporte),\n",
    "    ruta_adjunto=nombre_archivo_final,\n",
    "    nombre_adjunto=nombre_reporte + \".xlsx\",\n",
    ")"
   ]
  },
  {
   "attachments": {},
   "cell_type": "markdown",
   "metadata": {},
   "source": [
    "Metlife\n"
   ]
  },
  {
   "cell_type": "code",
   "execution_count": 36,
   "metadata": {},
   "outputs": [
    {
     "name": "stdout",
     "output_type": "stream",
     "text": [
      "No existe, se crea\n"
     ]
    }
   ],
   "source": [
    "nombre_reporte = \"MetLife General\"\n",
    "nombre_carpeta = \"F:/Reportes SF/MetLife/\"\n",
    "nombre_archivo_final = nombre_carpeta + str(dia) + \"/\" + nombre_reporte + \".xlsx\"\n",
    "Archivo_origen = nombre_carpeta + \"Datos/\" + nombre_reporte + \".xlsx\"\n",
    "crear_carpeta(nombre_carpeta)\n",
    "actualizar(Archivo_origen)\n",
    "Asunto = \"Detalle de Uso \" + nombre_reporte + \" - \" + str(dia)\n",
    "shutil.copy2(Archivo_origen, nombre_archivo_final, follow_symlinks=True)\n",
    "\n",
    "envio_de_email(\n",
    "    remitente=\"jmartinez@careassistance.com\",\n",
    "    destinatarios=[\n",
    "        \"gabriela.moreau@metlife.cl\",\n",
    "        \"rodrigo.vega@metlife.cl\",\n",
    "        \"francisco.ugarte@metlife.cl\",\n",
    "    ],\n",
    "    concopia=[\n",
    "        \"rtapia@careassistance.com\",\n",
    "        \"lhernandez@careassistance.com\",\n",
    "        \"dgarcia@careassistance.com\",\n",
    "        \"dnunez@careassistance.com\",\n",
    "        \"pcerda@careassistance.com\",\n",
    "        \"frubio@careassistance.com\",\n",
    "    ],\n",
    "    asunto=Asunto,\n",
    "    nombre_reporte = str(nombre_reporte),\n",
    "    ruta_adjunto=nombre_archivo_final,\n",
    "    nombre_adjunto=nombre_reporte + \".xlsx\",\n",
    ")"
   ]
  },
  {
   "cell_type": "code",
   "execution_count": 37,
   "metadata": {},
   "outputs": [],
   "source": [
    "nombre_reporte = \"MetLife - Conosur\"\n",
    "nombre_carpeta = \"F:/Reportes SF/MetLife/\"\n",
    "nombre_archivo_final = nombre_carpeta + str(dia) + \"/\" + nombre_reporte + \".xlsx\"\n",
    "Archivo_origen = nombre_carpeta + \"Datos/\" + nombre_reporte + \".xlsx\"\n",
    "crear_carpeta(nombre_carpeta)\n",
    "actualizar(Archivo_origen)\n",
    "Asunto = \"Detalle de Uso \" + nombre_reporte + \" - \" + str(dia)\n",
    "shutil.copy2(Archivo_origen, nombre_archivo_final, follow_symlinks=True)\n",
    "\n",
    "envio_de_email(\n",
    "    remitente=\"jmartinez@careassistance.com\",\n",
    "    destinatarios=[\n",
    "        \"leslie.huenchunao@conosurseguros.cl\",\n",
    "        \"claudia.vega@conosurseguros.cl\",\n",
    "        \"nathalia.polanco@conosurseguros.cl\",\n",
    "        \"jpalmav@metlife.cl\",\n",
    "        \"katherine.palomino@conosurseguros.cl\",\n",
    "        \"mariapaz.gonzalez@conosurseguros.cl\",\n",
    "        \"jessica.alarcon@conosurseguros.cl\",\n",
    "    ],\n",
    "    concopia=[\n",
    "        \"rtapia@careassistance.com\",\n",
    "        \"dgarcia@careassistance.com\",\n",
    "        \"dnunez@careassistance.com\",\n",
    "        \"pcerda@careassistance.com\",\n",
    "        \"frubio@careassistance.com\",\n",
    "    ],\n",
    "    asunto=Asunto,\n",
    "    nombre_reporte = str(nombre_reporte),\n",
    "    ruta_adjunto=nombre_archivo_final,\n",
    "    nombre_adjunto=nombre_reporte + \".xlsx\",\n",
    ")"
   ]
  },
  {
   "cell_type": "code",
   "execution_count": 38,
   "metadata": {},
   "outputs": [],
   "source": [
    "nombre_reporte = \"MetLife - Burgos\"\n",
    "nombre_carpeta = \"F:/Reportes SF/MetLife/\"\n",
    "nombre_archivo_final = nombre_carpeta + str(dia) + \"/\" + nombre_reporte + \".xlsx\"\n",
    "Archivo_origen = nombre_carpeta + \"Datos/\" + nombre_reporte + \".xlsx\"\n",
    "crear_carpeta(nombre_carpeta)\n",
    "actualizar(Archivo_origen)\n",
    "Asunto = \"Detalle de Uso \" + nombre_reporte + \" - \" + str(dia)\n",
    "shutil.copy2(Archivo_origen, nombre_archivo_final, follow_symlinks=True)\n",
    "\n",
    "envio_de_email(\n",
    "    remitente=\"jmartinez@careassistance.com\",\n",
    "    destinatarios=[\"felipe.paris@burgoscorredores.cl\", \"jeburgos@burgoscorredores.cl\"],\n",
    "    concopia=[\n",
    "        \"rtapia@careassistance.com\",\n",
    "        \"dgarcia@careassistance.com\",\n",
    "        \"dnunez@careassistance.com\",\n",
    "        \"pcerda@careassistance.com\",\n",
    "        \"frubio@careassistance.com\",\n",
    "    ],\n",
    "    asunto=Asunto,\n",
    "    nombre_reporte = str(nombre_reporte),\n",
    "    ruta_adjunto=nombre_archivo_final,\n",
    "    nombre_adjunto=nombre_reporte + \".xlsx\",\n",
    ")"
   ]
  },
  {
   "cell_type": "code",
   "execution_count": 39,
   "metadata": {},
   "outputs": [],
   "source": [
    "nombre_reporte = \"MetLife - Willis Towers Watson\"\n",
    "nombre_carpeta = \"F:/Reportes SF/MetLife/\"\n",
    "nombre_archivo_final = nombre_carpeta + str(dia) + \"/\" + nombre_reporte + \".xlsx\"\n",
    "Archivo_origen = nombre_carpeta + \"Datos/\" + nombre_reporte + \".xlsx\"\n",
    "crear_carpeta(nombre_carpeta)\n",
    "actualizar(Archivo_origen)\n",
    "Asunto = \"Detalle de Uso \" + nombre_reporte + \" - \" + str(dia)\n",
    "shutil.copy2(Archivo_origen, nombre_archivo_final, follow_symlinks=True)\n",
    "\n",
    "envio_de_email(\n",
    "    remitente=\"jmartinez@careassistance.com\",\n",
    "    destinatarios=[\n",
    "        \"jpalmav@metlife.cl\",\n",
    "        \"andrea.vidal@Willistowerswatson.com\",\n",
    "        \"rodrigo.molina@willistowerswatson.com\",\n",
    "        \"maria.diaz@willistowerswatson.com\",\n",
    "        \"claudio.araneda@willistowerswatson.com\",\n",
    "        \"trinidad.covarrubias@willistowerswatson.com\",\n",
    "        \"francisco.bravo@willistowerswatson.com\",\n",
    "        \"francisco.ugarte@metlife.cl\",\n",
    "        \"jose.fuenzalida@willistowerswatson.com\",\n",
    "        \"carla.perez@willistowerswatson.com\",\n",
    "        \"miguel.cifuentes@willistowerswatson.com\",\n",
    "        \"giovanna.labbe@willistowerswatson.com\",\n",
    "        \"fabian.aravena@willistowerswatson.com\",\n",
    "    ],\n",
    "    concopia=[\n",
    "        \"rtapia@careassistance.com\",\n",
    "        \"dgarcia@careassistance.com\",\n",
    "        \"dnunez@careassistance.com\",\n",
    "        \"pcerda@careassistance.com\",\n",
    "        \"frubio@careassistance.com\",\n",
    "    ],\n",
    "    asunto=Asunto,\n",
    "    nombre_reporte = str(nombre_reporte),\n",
    "    ruta_adjunto=nombre_archivo_final,\n",
    "    nombre_adjunto=nombre_reporte + \".xlsx\",\n",
    ")"
   ]
  },
  {
   "cell_type": "code",
   "execution_count": 40,
   "metadata": {},
   "outputs": [],
   "source": [
    "nombre_reporte = \"MetLife - Aon\"\n",
    "nombre_carpeta = \"F:/Reportes SF/MetLife/\"\n",
    "nombre_archivo_final = nombre_carpeta + str(dia) + \"/\" + nombre_reporte + \".xlsx\"\n",
    "Archivo_origen = nombre_carpeta + \"Datos/\" + nombre_reporte + \".xlsx\"\n",
    "crear_carpeta(nombre_carpeta)\n",
    "actualizar(Archivo_origen)\n",
    "Asunto = \"Detalle de Uso \" + nombre_reporte + \" - \" + str(dia)\n",
    "shutil.copy2(Archivo_origen, nombre_archivo_final, follow_symlinks=True)\n",
    "\n",
    "envio_de_email(\n",
    "    remitente=\"jmartinez@careassistance.com\",\n",
    "    destinatarios=[\n",
    "        \"josefina.stradiotto@metlife.cl\",\n",
    "        \"javiera.faundez@aon.com\",\n",
    "        \"jocelyn.azocar@aon.com\",\n",
    "        \"marcia.alegria@aon.com\",\n",
    "        \"nathalia.munoz@aon.com\",\n",
    "    ],\n",
    "    concopia=[\n",
    "        \"rtapia@careassistance.com\",\n",
    "        \"dgarcia@careassistance.com\",\n",
    "        \"dnunez@careassistance.com\",\n",
    "        \"pcerda@careassistance.com\",\n",
    "        \"frubio@careassistance.com\",\n",
    "    ],\n",
    "    asunto=Asunto,\n",
    "    nombre_reporte = str(nombre_reporte),\n",
    "    ruta_adjunto=nombre_archivo_final,\n",
    "    nombre_adjunto=nombre_reporte + \".xlsx\",\n",
    ")"
   ]
  },
  {
   "cell_type": "code",
   "execution_count": 41,
   "metadata": {},
   "outputs": [],
   "source": [
    "nombre_reporte = \"MetLife - Aramark\"\n",
    "nombre_carpeta = \"F:/Reportes SF/MetLife/\"\n",
    "nombre_archivo_final = nombre_carpeta + str(dia) + \"/\" + nombre_reporte + \".xlsx\"\n",
    "Archivo_origen = nombre_carpeta + \"Datos/\" + nombre_reporte + \".xlsx\"\n",
    "crear_carpeta(nombre_carpeta)\n",
    "actualizar(Archivo_origen)\n",
    "Asunto = \"Detalle de Uso \" + nombre_reporte + \" - \" + str(dia)\n",
    "shutil.copy2(Archivo_origen, nombre_archivo_final, follow_symlinks=True)\n",
    "\n",
    "envio_de_email(\n",
    "    remitente=\"jmartinez@careassistance.com\",\n",
    "    destinatarios=[\"renato.allende@mercer.com\"],\n",
    "    concopia=[\n",
    "        \"rtapia@careassistance.com\",\n",
    "        \"dgarcia@careassistance.com\",\n",
    "        \"dnunez@careassistance.com\",\n",
    "        \"pcerda@careassistance.com\",\n",
    "        \"frubio@careassistance.com\",\n",
    "    ],\n",
    "    asunto=Asunto,\n",
    "    nombre_reporte = str(nombre_reporte),\n",
    "    ruta_adjunto=nombre_archivo_final,\n",
    "    nombre_adjunto=nombre_reporte + \".xlsx\",\n",
    ")"
   ]
  },
  {
   "cell_type": "code",
   "execution_count": 42,
   "metadata": {},
   "outputs": [],
   "source": [
    "nombre_reporte = \"MetLife - Benefits\"\n",
    "nombre_carpeta = \"F:/Reportes SF/MetLife/\"\n",
    "nombre_archivo_final = nombre_carpeta + str(dia) + \"/\" + nombre_reporte + \".xlsx\"\n",
    "Archivo_origen = nombre_carpeta + \"Datos/\" + nombre_reporte + \".xlsx\"\n",
    "crear_carpeta(nombre_carpeta)\n",
    "actualizar(Archivo_origen)\n",
    "Asunto = \"Detalle de Uso \" + nombre_reporte + \" - \" + str(dia)\n",
    "shutil.copy2(Archivo_origen, nombre_archivo_final, follow_symlinks=True)\n",
    "\n",
    "envio_de_email(\n",
    "    remitente=\"jmartinez@careassistance.com\",\n",
    "    destinatarios=[\n",
    "        \"ccepeda@metlife.cl\",\n",
    "        \"jorge.melo@benefits.cl\",\n",
    "        \"mchacon@benefits.cl\",\n",
    "        \"fvargas@benefits.cl\",\n",
    "    ],\n",
    "    concopia=[\n",
    "        \"rtapia@careassistance.com\",\n",
    "        \"dgarcia@careassistance.com\",\n",
    "        \"dnunez@careassistance.com\",\n",
    "        \"pcerda@careassistance.com\",\n",
    "        \"frubio@careassistance.com\",\n",
    "    ],\n",
    "    asunto=Asunto,\n",
    "    nombre_reporte = str(nombre_reporte),\n",
    "    ruta_adjunto=nombre_archivo_final,\n",
    "    nombre_adjunto=nombre_reporte + \".xlsx\",\n",
    ")"
   ]
  },
  {
   "cell_type": "code",
   "execution_count": 43,
   "metadata": {},
   "outputs": [],
   "source": [
    "nombre_reporte = \"MetLife - Mercer\"\n",
    "nombre_carpeta = \"F:/Reportes SF/MetLife/\"\n",
    "nombre_archivo_final = nombre_carpeta + str(dia) + \"/\" + nombre_reporte + \".xlsx\"\n",
    "Archivo_origen = nombre_carpeta + \"Datos/\" + nombre_reporte + \".xlsx\"\n",
    "crear_carpeta(nombre_carpeta)\n",
    "actualizar(Archivo_origen)\n",
    "Asunto = \"Detalle de Uso \" + nombre_reporte + \" - \" + str(dia)\n",
    "shutil.copy2(Archivo_origen, nombre_archivo_final, follow_symlinks=True)\n",
    "\n",
    "envio_de_email(\n",
    "    remitente=\"jmartinez@careassistance.com\",\n",
    "    destinatarios=[\n",
    "        \"jpalmav@metlife.cl\",\n",
    "        \"ohonorato@metlife.cl\",\n",
    "        \"rodrigo.cerda@mercermarshbeneficios.com\",\n",
    "    ],\n",
    "    concopia=[\n",
    "        \"rtapia@careassistance.com\",\n",
    "        \"dgarcia@careassistance.com\",\n",
    "        \"dnunez@careassistance.com\",\n",
    "        \"pcerda@careassistance.com\",\n",
    "        \"frubio@careassistance.com\",\n",
    "    ],\n",
    "    asunto=Asunto,\n",
    "    nombre_reporte = str(nombre_reporte),\n",
    "    ruta_adjunto=nombre_archivo_final,\n",
    "    nombre_adjunto=nombre_reporte + \".xlsx\",\n",
    ")"
   ]
  },
  {
   "cell_type": "code",
   "execution_count": 44,
   "metadata": {},
   "outputs": [],
   "source": [
    "nombre_reporte = \"MetLife - Mercer Agrosuper\"\n",
    "nombre_carpeta = \"F:/Reportes SF/MetLife/\"\n",
    "nombre_archivo_final = nombre_carpeta + str(dia) + \"/\" + nombre_reporte + \".xlsx\"\n",
    "Archivo_origen = nombre_carpeta + \"Datos/\" + nombre_reporte + \".xlsx\"\n",
    "crear_carpeta(nombre_carpeta)\n",
    "actualizar(Archivo_origen)\n",
    "Asunto = \"Detalle de Uso \" + nombre_reporte + \" - \" + str(dia)\n",
    "shutil.copy2(Archivo_origen, nombre_archivo_final, follow_symlinks=True)\n",
    "\n",
    "envio_de_email(\n",
    "    remitente=\"jmartinez@careassistance.com\",\n",
    "    destinatarios=[\n",
    "        \"sebastian.cuevas@mercermarshbeneficios.com\",\n",
    "    ],\n",
    "    concopia=[\n",
    "        \"rtapia@careassistance.com\",\n",
    "        \"dgarcia@careassistance.com\",\n",
    "        \"dnunez@careassistance.com\",\n",
    "        \"pcerda@careassistance.com\",\n",
    "        \"frubio@careassistance.com\",\n",
    "    ],\n",
    "    asunto=Asunto,\n",
    "    nombre_reporte = str(nombre_reporte),\n",
    "    ruta_adjunto=nombre_archivo_final,\n",
    "    nombre_adjunto=nombre_reporte + \".xlsx\",\n",
    ")\n"
   ]
  },
  {
   "cell_type": "code",
   "execution_count": 45,
   "metadata": {},
   "outputs": [],
   "source": [
    "nombre_reporte = \"MetLife - Interno\"\n",
    "nombre_carpeta = \"F:/Reportes SF/MetLife/\"\n",
    "nombre_archivo_final = nombre_carpeta + str(dia) + \"/\" + nombre_reporte + \".xlsx\"\n",
    "Archivo_origen = nombre_carpeta + \"Datos/\" + nombre_reporte + \".xlsx\"\n",
    "crear_carpeta(nombre_carpeta)\n",
    "actualizar(Archivo_origen)\n",
    "Asunto = \"Detalle de Uso \" + nombre_reporte + \" - \" + str(dia)\n",
    "shutil.copy2(Archivo_origen, nombre_archivo_final, follow_symlinks=True)\n",
    "\n",
    "envio_de_email(\n",
    "    remitente=\"jmartinez@careassistance.com\",\n",
    "    destinatarios=[\n",
    "        \"constanza.a.bertin@metlife.cl\",\n",
    "        \"josefina.martin@metlife.cl\",\n",
    "        \"bsanmartin@metlife.cl\",\n",
    "    ],\n",
    "    concopia=[\n",
    "        \"rtapia@careassistance.com\",\n",
    "        \"dgarcia@careassistance.com\",\n",
    "        \"dnunez@careassistance.com\",\n",
    "        \"pcerda@careassistance.com\",\n",
    "        \"frubio@careassistance.com\",\n",
    "    ],\n",
    "    asunto=Asunto,\n",
    "    nombre_reporte = str(nombre_reporte),\n",
    "    ruta_adjunto=nombre_archivo_final,\n",
    "    nombre_adjunto=nombre_reporte + \".xlsx\",\n",
    ")"
   ]
  },
  {
   "cell_type": "code",
   "execution_count": 46,
   "metadata": {},
   "outputs": [],
   "source": [
    "nombre_reporte = \"MetLife - Lorena Contreras\"\n",
    "nombre_carpeta = \"F:/Reportes SF/MetLife/\"\n",
    "nombre_archivo_final = nombre_carpeta + str(dia) + \"/\" + nombre_reporte + \".xlsx\"\n",
    "Archivo_origen = nombre_carpeta + \"Datos/\" + nombre_reporte + \".xlsx\"\n",
    "crear_carpeta(nombre_carpeta)\n",
    "actualizar(Archivo_origen)\n",
    "Asunto = \"Detalle de Uso \" + nombre_reporte + \" - \" + str(dia)\n",
    "shutil.copy2(Archivo_origen, nombre_archivo_final, follow_symlinks=True)\n",
    "\n",
    "envio_de_email(\n",
    "    remitente=\"jmartinez@careassistance.com\",\n",
    "    destinatarios=[\"lorecontru@gmail.com\"],\n",
    "    concopia=[\n",
    "        \"rtapia@careassistance.com\",\n",
    "        \"dgarcia@careassistance.com\",\n",
    "        \"dnunez@careassistance.com\",\n",
    "        \"pcerda@careassistance.com\",\n",
    "        \"frubio@careassistance.com\",\n",
    "    ],\n",
    "    asunto=Asunto,\n",
    "    nombre_reporte = str(nombre_reporte),\n",
    "    ruta_adjunto=nombre_archivo_final,\n",
    "    nombre_adjunto=nombre_reporte + \".xlsx\",\n",
    ")"
   ]
  },
  {
   "cell_type": "code",
   "execution_count": 47,
   "metadata": {},
   "outputs": [],
   "source": [
    "nombre_reporte = \"MetLife - Security\"\n",
    "nombre_carpeta = \"F:/Reportes SF/MetLife/\"\n",
    "nombre_archivo_final = nombre_carpeta + str(dia) + \"/\" + nombre_reporte + \".xlsx\"\n",
    "Archivo_origen = nombre_carpeta + \"Datos/\" + nombre_reporte + \".xlsx\"\n",
    "crear_carpeta(nombre_carpeta)\n",
    "actualizar(Archivo_origen)\n",
    "Asunto = \"Detalle de Uso \" + nombre_reporte + \" - \" + str(dia)\n",
    "shutil.copy2(Archivo_origen, nombre_archivo_final, follow_symlinks=True)\n",
    "\n",
    "envio_de_email(\n",
    "    remitente=\"jmartinez@careassistance.com\",\n",
    "    destinatarios=[\n",
    "        \"jpalmav@metlife.cl\",\n",
    "        \"carolina.oyanedel@security.cl\",\n",
    "        \"enrique.cortes@security.cl\",\n",
    "        \"marisol.guerrero@security.cl\",\n",
    "        \"mariadelosangeles.silva@security.cl\",\n",
    "        \"alejandra.castros@security.cl\",\n",
    "        \"ivan.isamit@security.cl\",\n",
    "        \"patricio.morales@security.cl\",\n",
    "    ],\n",
    "    concopia=[\n",
    "        \"rtapia@careassistance.com\",\n",
    "        \"dgarcia@careassistance.com\",\n",
    "        \"dnunez@careassistance.com\",\n",
    "        \"pcerda@careassistance.com\",\n",
    "        \"frubio@careassistance.com\",\n",
    "    ],\n",
    "    asunto=Asunto,\n",
    "    nombre_reporte = str(nombre_reporte),\n",
    "    ruta_adjunto=nombre_archivo_final,\n",
    "    nombre_adjunto=nombre_reporte + \".xlsx\",\n",
    ")"
   ]
  },
  {
   "cell_type": "code",
   "execution_count": 48,
   "metadata": {},
   "outputs": [],
   "source": [
    "nombre_reporte = \"MetLife - THB\"\n",
    "nombre_carpeta = \"F:/Reportes SF/MetLife/\"\n",
    "nombre_archivo_final = nombre_carpeta + str(dia) + \"/\" + nombre_reporte + \".xlsx\"\n",
    "Archivo_origen = nombre_carpeta + \"Datos/\" + nombre_reporte + \".xlsx\"\n",
    "crear_carpeta(nombre_carpeta)\n",
    "actualizar(Archivo_origen)\n",
    "Asunto = \"Detalle de Uso \" + nombre_reporte + \" - \" + str(dia)\n",
    "shutil.copy2(Archivo_origen, nombre_archivo_final, follow_symlinks=True)\n",
    "\n",
    "envio_de_email(\n",
    "    remitente=\"jmartinez@careassistance.com\",\n",
    "    destinatarios=[\n",
    "        \"jbravo@thbseguros.cl\",\n",
    "        \"ccepeda@metlife.cl\",\n",
    "        \"amorales@thbseguros.cl\",\n",
    "        \"agualda@thbseguros.cl\",\n",
    "    ],\n",
    "    concopia=[\n",
    "        \"rtapia@careassistance.com\",\n",
    "        \"dgarcia@careassistance.com\",\n",
    "        \"dnunez@careassistance.com\",\n",
    "        \"pcerda@careassistance.com\",\n",
    "        \"frubio@careassistance.com\",\n",
    "    ],\n",
    "    asunto=Asunto,\n",
    "    nombre_reporte = str(nombre_reporte),\n",
    "    ruta_adjunto=nombre_archivo_final,\n",
    "    nombre_adjunto=nombre_reporte + \".xlsx\",\n",
    ")"
   ]
  },
  {
   "cell_type": "code",
   "execution_count": 49,
   "metadata": {},
   "outputs": [],
   "source": [
    "nombre_reporte = \"MetLife - Veritas\"\n",
    "nombre_carpeta = \"F:/Reportes SF/MetLife/\"\n",
    "nombre_archivo_final = nombre_carpeta + str(dia) + \"/\" + nombre_reporte + \".xlsx\"\n",
    "Archivo_origen = nombre_carpeta + \"Datos/\" + nombre_reporte + \".xlsx\"\n",
    "crear_carpeta(nombre_carpeta)\n",
    "actualizar(Archivo_origen)\n",
    "Asunto = \"Detalle de Uso \" + nombre_reporte + \" - \" + str(dia)\n",
    "shutil.copy2(Archivo_origen, nombre_archivo_final, follow_symlinks=True)\n",
    "\n",
    "envio_de_email(\n",
    "    remitente=\"jmartinez@careassistance.com\",\n",
    "    destinatarios=[\n",
    "        \"oespinoza@veritas.cl\",\n",
    "        \"ohonorato@metlife.cl\",\n",
    "        \"jpalmav@metlife.cl\",\n",
    "    ],\n",
    "    concopia=[\n",
    "        \"rtapia@careassistance.com\",\n",
    "        \"dgarcia@careassistance.com\",\n",
    "        \"dnunez@careassistance.com\",\n",
    "        \"pcerda@careassistance.com\",\n",
    "        \"frubio@careassistance.com\",\n",
    "    ],\n",
    "    asunto=Asunto,\n",
    "    nombre_reporte = str(nombre_reporte),\n",
    "    ruta_adjunto=nombre_archivo_final,\n",
    "    nombre_adjunto=nombre_reporte + \".xlsx\",\n",
    ")"
   ]
  },
  {
   "cell_type": "code",
   "execution_count": 50,
   "metadata": {},
   "outputs": [],
   "source": [
    "nombre_reporte = \"Metlife - Veritas\"\n",
    "nombre_carpeta = \"F:/Reportes SF/MetLife/\"\n",
    "nombre_archivo_final = nombre_carpeta + str(dia) + \"/\" + nombre_reporte + \".xlsx\"\n",
    "Archivo_origen = nombre_carpeta + \"Datos/\" + nombre_reporte + \".xlsx\"\n",
    "crear_carpeta(nombre_carpeta)\n",
    "actualizar(Archivo_origen)\n",
    "Asunto = \"Detalle de Uso \" + nombre_reporte + \" - \" + str(dia)\n",
    "shutil.copy2(Archivo_origen, nombre_archivo_final, follow_symlinks=True)\n",
    "\n",
    "envio_de_email(\n",
    "    remitente=\"jmartinez@careassistance.com\",\n",
    "    destinatarios=[\"cvillanueva@careassistance.com\"],\n",
    "    concopia=[\n",
    "        \"jmartinez@careassistance.com\",\n",
    "        \"jcm.matus@gmail.com\",\n",
    "        \"cvillanueva@careassistance.com\"\n",
    "    ],\n",
    "    asunto=Asunto,\n",
    "    nombre_reporte = str(nombre_reporte),\n",
    "    ruta_adjunto=nombre_archivo_final,\n",
    "    nombre_adjunto=nombre_reporte + \".xlsx\",\n",
    ")"
   ]
  }
 ],
 "metadata": {
  "kernelspec": {
   "display_name": "Python 3",
   "language": "python",
   "name": "python3"
  },
  "language_info": {
   "codemirror_mode": {
    "name": "ipython",
    "version": 3
   },
   "file_extension": ".py",
   "mimetype": "text/x-python",
   "name": "python",
   "nbconvert_exporter": "python",
   "pygments_lexer": "ipython3",
   "version": "3.10.8"
  },
  "orig_nbformat": 4,
  "vscode": {
   "interpreter": {
    "hash": "a4c0672c92e7bf4f58b7029fe981849933df28de4314420b2cba9072c49cf0a9"
   }
  }
 },
 "nbformat": 4,
 "nbformat_minor": 2
}
