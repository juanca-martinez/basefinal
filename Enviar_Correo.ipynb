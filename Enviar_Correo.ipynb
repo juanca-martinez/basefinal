{
 "cells": [
  {
   "cell_type": "code",
   "execution_count": 1,
   "metadata": {},
   "outputs": [],
   "source": [
    "import smtplib\n",
    "from email.mime.multipart import MIMEMultipart\n",
    "from email.mime.text import MIMEText\n",
    "from email.mime.base import MIMEBase\n",
    "from email import encoders\n",
    "import win32com.client\n",
    "from datetime import datetime\n",
    "import os\n",
    "import shutil\n"
   ]
  },
  {
   "attachments": {},
   "cell_type": "markdown",
   "metadata": {},
   "source": [
    "funcion envio de email"
   ]
  },
  {
   "cell_type": "code",
   "execution_count": 7,
   "metadata": {},
   "outputs": [],
   "source": [
    "def envio_de_email(\n",
    "    remitente, destinatarios,concopia, asunto, cuerpo, ruta_adjunto, nombre_adjunto\n",
    "):\n",
    "    # Creamos el objeto mensaje\n",
    "    mensaje = MIMEMultipart()\n",
    "    # Establecemos los atributos del mensaje\n",
    "    mensaje[\"From\"] = remitente\n",
    "    mensaje[\"To\"] = \", \".join(destinatarios)\n",
    "    mensaje['CC'] = ', '.join(concopia)\n",
    "    mensaje[\"Subject\"] = asunto\n",
    "    # Agregamos el cuerpo del mensaje como objeto MIME de tipo texto\n",
    "    mensaje.attach(MIMEText(cuerpo, \"plain\"))\n",
    "    # Abrimos el archivo que vamos a adjuntar\n",
    "    archivo_adjunto = open(ruta_adjunto, \"rb\")\n",
    "\n",
    "    # Creamos un objeto MIME base\n",
    "    adjunto_MIME = MIMEBase(\"application\", \"octet-stream\")\n",
    "    # Y le cargamos el archivo adjunto\n",
    "    adjunto_MIME.set_payload((archivo_adjunto).read())\n",
    "    # Codificamos el objeto en BASE64\n",
    "    encoders.encode_base64(adjunto_MIME)\n",
    "    # Agregamos una cabecera al objeto\n",
    "    adjunto_MIME.add_header(\n",
    "        \"Content-Disposition\", \"attachment; filename= %s\" % nombre_adjunto\n",
    "    )\n",
    "    # Y finalmente lo agregamos al mensaje\n",
    "    mensaje.attach(adjunto_MIME)\n",
    "    # Creamos la conexión con el servidor\n",
    "    sesion_smtp = smtplib.SMTP(\"smtp.office365.com\", 587)\n",
    "    # Ciframos la conexión\n",
    "    sesion_smtp.starttls()\n",
    "    # Iniciamos sesión en el servidor\n",
    "    sesion_smtp.login(\"jmartinez@careassistance.com\", \"Jcmm010483\")\n",
    "    # Convertimos el objeto mensaje a texto\n",
    "    texto = mensaje.as_string()\n",
    "    # Enviamos el mensaje\n",
    "    sesion_smtp.sendmail(remitente, destinatarios, texto)\n",
    "    # Cerramos la conexión\n",
    "    sesion_smtp.quit()"
   ]
  },
  {
   "attachments": {},
   "cell_type": "markdown",
   "metadata": {},
   "source": [
    "funcion de actualizar archivo"
   ]
  },
  {
   "cell_type": "code",
   "execution_count": 3,
   "metadata": {},
   "outputs": [],
   "source": [
    "def actualizar(nombre_archivo):\n",
    "    # Opening Excel software using the win32com\n",
    "    File = win32com.client.Dispatch(\"Excel.Application\")  \n",
    "    # Optional line to show the Excel software\n",
    "    File.Visible = 1\n",
    "    # Opening your workbook\n",
    "    Workbook = File.Workbooks.open(nombre_archivo)\n",
    "    Workbook.RefreshAll()\n",
    "    # Refeshing all the shests  \n",
    "    # Saving the Workbook\n",
    "    Workbook.Save()  \n",
    "    # Closing the Excel File\n",
    "    File.Quit()"
   ]
  },
  {
   "attachments": {},
   "cell_type": "markdown",
   "metadata": {},
   "source": [
    "Funcion crear carpeta"
   ]
  },
  {
   "cell_type": "code",
   "execution_count": 4,
   "metadata": {},
   "outputs": [],
   "source": [
    "date = datetime.now()\n",
    "dia = date.strftime('%d-%m-%Y')\n",
    "\n",
    "\n",
    "####### Comprobacion de carpeta ########\n",
    "\n",
    "def crear_carpeta(nombre_carpeta):    \n",
    "    if not os.path.isdir(str(nombre_carpeta)  + str(dia)):\n",
    "        print('No existe, se crea')\n",
    "        os.mkdir(str(nombre_carpeta)  + str(dia))\n",
    "        nombre = (str(nombre_carpeta)  + str(dia) + '/')\n",
    "        return nombre"
   ]
  },
  {
   "attachments": {},
   "cell_type": "markdown",
   "metadata": {},
   "source": [
    "3SP"
   ]
  },
  {
   "cell_type": "code",
   "execution_count": 135,
   "metadata": {},
   "outputs": [],
   "source": [
    "nombre_reporte = \"3SP - Amicar\"\n",
    "nombre_carpeta = \"F:/Reportes SF/3sp/\"\n",
    "nombre_archivo_final = \"F:/Reportes SF/3sp/\" + str(dia) + \"/3sp.xlsx\"\n",
    "Archivo_origen = \"F:/Reportes SF/3sp/datos/3sp.xlsx\"\n",
    "crear_carpeta(nombre_carpeta)\n",
    "actualizar(Archivo_origen)\n",
    "Asunto = \"Detalle de Uso \" + nombre_reporte + \" - \" + str(dia)\n",
    "shutil.copy2(Archivo_origen, nombre_archivo_final, follow_symlinks=True)\n",
    "\n",
    "envio_de_email(\n",
    "    remitente=\"jmartinez@careassistance.com\",\n",
    "    destinatarios=[ \"jmartinez@careassistance.com\",'cvillanueva@careassistance.com'],\n",
    "    asunto=Asunto,\n",
    "    cuerpo='Estimados, buen día.\\n\\nAdjunto reporte semanal ' + nombre_reporte + ' actualizado.\\n\\n\\nSaludos.',\n",
    "    ruta_adjunto=nombre_archivo_final,\n",
    "    nombre_adjunto=\"3sp.xlsx\",\n",
    ")"
   ]
  },
  {
   "attachments": {},
   "cell_type": "markdown",
   "metadata": {},
   "source": [
    "Colmena"
   ]
  },
  {
   "cell_type": "code",
   "execution_count": 8,
   "metadata": {},
   "outputs": [],
   "source": [
    "nombre_reporte = \"Colmena\"\n",
    "nombre_carpeta = \"F:/Reportes SF/Colmena/\"\n",
    "nombre_archivo_final = \"F:/Reportes SF/Colmena/\" + str(dia) + \"/Colmena.xlsx\"\n",
    "Archivo_origen = \"F:/Reportes SF/Colmena/Datos/Colmena.xlsx\"\n",
    "crear_carpeta(nombre_carpeta)\n",
    "actualizar(Archivo_origen)\n",
    "Asunto = \"Detalle de Uso \" + nombre_reporte + \" - \" + str(dia)\n",
    "shutil.copy2(Archivo_origen, nombre_archivo_final)\n",
    "\n",
    "envio_de_email(\n",
    "    remitente=\"jmartinez@careassistance.com\",\n",
    "    destinatarios=[ \"jmartinez@careassistance.com\"],\n",
    "    concopia = [ \"jmartinez@careassistance.com\"],\n",
    "    asunto=Asunto,\n",
    "    cuerpo='Estimados, buen día.\\n\\nAdjunto reporte semanal ' + nombre_reporte + ' actualizado.\\n\\n\\nSaludos.',\n",
    "    ruta_adjunto=nombre_archivo_final,\n",
    "    nombre_adjunto=\"Colmena.xlsx\",\n",
    ")"
   ]
  },
  {
   "attachments": {},
   "cell_type": "markdown",
   "metadata": {},
   "source": [
    "Cruz Verde"
   ]
  },
  {
   "cell_type": "code",
   "execution_count": 137,
   "metadata": {},
   "outputs": [],
   "source": [
    "nombre_reporte = \"Farmacias Cruz Verde\"\n",
    "nombre_carpeta = \"F:/Reportes SF/Cruz Verde/\"\n",
    "nombre_archivo_final = \"F:/Reportes SF/Cruz Verde/\" + str(dia) + \"/Farmacias Cruz Verde.xlsx\"\n",
    "Archivo_origen = \"F:/Reportes SF/Cruz Verde/Datos/Farmacias Cruz Verde.xlsx\"\n",
    "crear_carpeta(nombre_carpeta)\n",
    "actualizar(Archivo_origen)\n",
    "Asunto = \"Detalle de Uso \" + nombre_reporte + \" - \" + str(dia)\n",
    "shutil.copy2(Archivo_origen, nombre_archivo_final)\n",
    "\n",
    "envio_de_email(\n",
    "    remitente=\"jmartinez@careassistance.com\",\n",
    "    destinatarios=[ \"jmartinez@careassistance.com\"],\n",
    "    asunto=Asunto,\n",
    "    cuerpo='Estimados, buen día.\\n\\nAdjunto reporte semanal ' + nombre_reporte + ' actualizado.\\n\\n\\nSaludos.',\n",
    "    ruta_adjunto=nombre_archivo_final,\n",
    "    nombre_adjunto=\"Farmacias Cruz Verde.xlsx\",\n",
    ")"
   ]
  },
  {
   "attachments": {},
   "cell_type": "markdown",
   "metadata": {},
   "source": [
    "DERMIC"
   ]
  },
  {
   "cell_type": "code",
   "execution_count": 138,
   "metadata": {},
   "outputs": [],
   "source": [
    "nombre_reporte = \"Dermic\"\n",
    "nombre_carpeta = \"F:/Reportes SF/Dermic/\"\n",
    "nombre_archivo_final = \"F:/Reportes SF/Dermic/\" + str(dia) + \"/Dermic.xlsx\"\n",
    "Archivo_origen = \"F:/Reportes SF/Dermic/Datos/Dermic.xlsx\"\n",
    "crear_carpeta(nombre_carpeta)\n",
    "actualizar(Archivo_origen)\n",
    "Asunto = \"Detalle de Uso \" + nombre_reporte + \" - \" + str(dia)\n",
    "shutil.copy2(Archivo_origen, nombre_archivo_final)\n",
    "\n",
    "envio_de_email(\n",
    "    remitente=\"jmartinez@careassistance.com\",\n",
    "    destinatarios=[ \"jmartinez@careassistance.com\"],\n",
    "    asunto=Asunto,\n",
    "    cuerpo='Estimados, buen día.\\n\\nAdjunto reporte semanal ' + nombre_reporte + ' actualizado.\\n\\n\\nSaludos.',\n",
    "    ruta_adjunto=nombre_archivo_final,\n",
    "    nombre_adjunto=\"Dermic.xlsx\",\n",
    ")"
   ]
  },
  {
   "attachments": {},
   "cell_type": "markdown",
   "metadata": {},
   "source": [
    "EY"
   ]
  },
  {
   "cell_type": "code",
   "execution_count": 139,
   "metadata": {},
   "outputs": [],
   "source": [
    "nombre_reporte = \"EY\"\n",
    "nombre_carpeta = \"F:/Reportes SF/EY/\"\n",
    "nombre_archivo_final = \"F:/Reportes SF/EY/\" + str(dia) + \"/EY.xlsx\"\n",
    "Archivo_origen = \"F:/Reportes SF/EY/Datos/EY.xlsx\"\n",
    "crear_carpeta(nombre_carpeta)\n",
    "actualizar(Archivo_origen)\n",
    "Asunto = \"Detalle de Uso \" + nombre_reporte + \" - \" + str(dia)\n",
    "shutil.copy2(Archivo_origen, nombre_archivo_final)\n",
    "\n",
    "envio_de_email(\n",
    "    remitente=\"jmartinez@careassistance.com\",\n",
    "    destinatarios=[ \"jmartinez@careassistance.com\"],\n",
    "    asunto=Asunto,\n",
    "    cuerpo='Estimados, buen día.\\n\\nAdjunto reporte semanal ' + nombre_reporte + ' actualizado.\\n\\n\\nSaludos.',\n",
    "    ruta_adjunto=nombre_archivo_final,\n",
    "    nombre_adjunto=\"EY.xlsx\",\n",
    ")"
   ]
  },
  {
   "attachments": {},
   "cell_type": "markdown",
   "metadata": {},
   "source": [
    "Farmacias Ahumada"
   ]
  },
  {
   "cell_type": "code",
   "execution_count": 141,
   "metadata": {},
   "outputs": [
    {
     "name": "stdout",
     "output_type": "stream",
     "text": [
      "No existe, se crea\n"
     ]
    }
   ],
   "source": [
    "nombre_reporte = \"Farmacias Ahumada\"\n",
    "nombre_carpeta = \"F:/Reportes SF/Farmacias Ahumada/\"\n",
    "nombre_archivo_final = \"F:/Reportes SF/Farmacias Ahumada/\" + str(dia) + \"/Farmacias Ahumada.xlsx\"\n",
    "Archivo_origen = \"F:/Reportes SF/Farmacias Ahumada/Datos/Farmacias Ahumada.xlsx\"\n",
    "crear_carpeta(nombre_carpeta)\n",
    "actualizar(Archivo_origen)\n",
    "Asunto = \"Detalle de Uso \" + nombre_reporte + \" - \" + str(dia)\n",
    "shutil.copy2(Archivo_origen, nombre_archivo_final)\n",
    "\n",
    "envio_de_email(\n",
    "    remitente=\"jmartinez@careassistance.com\",\n",
    "    destinatarios=[ \"jmartinez@careassistance.com\"],\n",
    "    asunto=Asunto,\n",
    "    cuerpo='Estimados, buen día.\\n\\nAdjunto reporte semanal ' + nombre_reporte + ' actualizado.\\n\\n\\nSaludos.',\n",
    "    ruta_adjunto=nombre_archivo_final,\n",
    "    nombre_adjunto=\"Farmacias Ahumada.xlsx\",\n",
    ")"
   ]
  },
  {
   "attachments": {},
   "cell_type": "markdown",
   "metadata": {},
   "source": [
    "Forus"
   ]
  },
  {
   "cell_type": "code",
   "execution_count": 147,
   "metadata": {},
   "outputs": [],
   "source": [
    "nombre_reporte = \"Forus\"\n",
    "nombre_carpeta = \"F:/Reportes SF/Forus/\"\n",
    "nombre_archivo_final = \"F:/Reportes SF/Forus/\" + str(dia) + \"/Forus.xlsx\"\n",
    "Archivo_origen = \"F:/Reportes SF/Forus/Datos/Forus.xlsx\"\n",
    "crear_carpeta(nombre_carpeta)\n",
    "actualizar(Archivo_origen)\n",
    "Asunto = \"Detalle de Uso \" + nombre_reporte + \" - \" + str(dia)\n",
    "shutil.copy2(Archivo_origen, nombre_archivo_final)\n",
    "\n",
    "envio_de_email(\n",
    "    remitente=\"jmartinez@careassistance.com\",\n",
    "    destinatarios=[ \"jmartinez@careassistance.com\"],\n",
    "    asunto=Asunto,\n",
    "    cuerpo='Estimados, buen día.\\n\\nAdjunto reporte semanal ' + nombre_reporte + ' actualizado.\\n\\n\\nSaludos.',\n",
    "    ruta_adjunto=nombre_archivo_final,\n",
    "    nombre_adjunto=\"Forus.xlsx\",\n",
    ")"
   ]
  },
  {
   "attachments": {},
   "cell_type": "markdown",
   "metadata": {},
   "source": [
    "Instruvalve"
   ]
  },
  {
   "cell_type": "code",
   "execution_count": 146,
   "metadata": {},
   "outputs": [],
   "source": [
    "nombre_reporte = \"Instruvalve\"\n",
    "nombre_carpeta = \"F:/Reportes SF/Instruvalve/\"\n",
    "nombre_archivo_final = \"F:/Reportes SF/Instruvalve/\" + str(dia) + \"/Instruvalve.xlsx\"\n",
    "Archivo_origen = \"F:/Reportes SF/Instruvalve/Datos/Instruvalve.xlsx\"\n",
    "crear_carpeta(nombre_carpeta)\n",
    "actualizar(Archivo_origen)\n",
    "Asunto = \"Detalle de Uso \" + nombre_reporte + \" - \" + str(dia)\n",
    "shutil.copy2(Archivo_origen, nombre_archivo_final)\n",
    "\n",
    "envio_de_email(\n",
    "    remitente=\"jmartinez@careassistance.com\",\n",
    "    destinatarios=[ \"jmartinez@careassistance.com\"],\n",
    "    asunto=Asunto,\n",
    "    cuerpo='Estimados, buen día.\\n\\nAdjunto reporte semanal ' + nombre_reporte + ' actualizado.\\n\\n\\nSaludos.',\n",
    "    ruta_adjunto=nombre_archivo_final,\n",
    "    nombre_adjunto=\"Instruvalve.xlsx\",\n",
    ")"
   ]
  },
  {
   "attachments": {},
   "cell_type": "markdown",
   "metadata": {},
   "source": [
    "Zurich"
   ]
  },
  {
   "cell_type": "code",
   "execution_count": null,
   "metadata": {},
   "outputs": [],
   "source": [
    "nombre_reporte = \"Zurich\"\n",
    "nombre_carpeta = \"F:/Reportes SF/Zurich/\"\n",
    "nombre_archivo_final = \"F:/Reportes SF/Zurich/\" + str(dia) + \"/Zurich_General.xlsx\"\n",
    "Archivo_origen = \"F:/Reportes SF/Zurich/Datos/Zurich_General.xlsx\"\n",
    "crear_carpeta(nombre_carpeta)\n",
    "actualizar(Archivo_origen)\n",
    "Asunto = \"Detalle de Uso \" + nombre_reporte + \" - \" + str(dia)\n",
    "shutil.copy2(Archivo_origen, nombre_archivo_final)\n",
    "\n",
    "envio_de_email(\n",
    "    remitente=\"jmartinez@careassistance.com\",\n",
    "    destinatarios=[ \"jmartinez@careassistance.com\"],\n",
    "    asunto=Asunto,\n",
    "    cuerpo='Estimados, buen día.\\n\\nAdjunto reporte semanal ' + nombre_reporte + ' actualizado.\\n\\n\\nSaludos.',\n",
    "    ruta_adjunto=nombre_archivo_final,\n",
    "    nombre_adjunto=\"Zurich.xlsx\",\n",
    ")"
   ]
  },
  {
   "cell_type": "code",
   "execution_count": null,
   "metadata": {},
   "outputs": [],
   "source": [
    "nombre_reporte = \"Zurich - AMSA\"\n",
    "nombre_carpeta = \"F:/Reportes SF/Zurich/\"\n",
    "nombre_archivo_final = \"F:/Reportes SF/Zurich/\" + str(dia) + \"/Amsa.xlsx\"\n",
    "Archivo_origen = \"F:/Reportes SF/Zurich/Datos/Amsa.xlsx\"\n",
    "crear_carpeta(nombre_carpeta)\n",
    "actualizar(Archivo_origen)\n",
    "Asunto = \"Detalle de Uso \" + nombre_reporte + \" - \" + str(dia)\n",
    "shutil.copy2(Archivo_origen, nombre_archivo_final)\n",
    "\n",
    "envio_de_email(\n",
    "    remitente=\"jmartinez@careassistance.com\",\n",
    "    destinatarios=[ \"jmartinez@careassistance.com\"],\n",
    "    asunto=Asunto,\n",
    "    cuerpo='Estimados, buen día.\\n\\nAdjunto reporte semanal ' + nombre_reporte + ' actualizado.\\n\\n\\nSaludos.',\n",
    "    ruta_adjunto=nombre_archivo_final,\n",
    "    nombre_adjunto=\"Zurich - AMSA.xlsx\",\n",
    ")"
   ]
  },
  {
   "cell_type": "code",
   "execution_count": null,
   "metadata": {},
   "outputs": [],
   "source": [
    "nombre_reporte = \"Zurich - Bechtel\"\n",
    "nombre_carpeta = \"F:/Reportes SF/Zurich/\"\n",
    "nombre_archivo_final = \"F:/Reportes SF/Zurich/\" + str(dia) + \"/Bechtel.xlsx\"\n",
    "Archivo_origen = \"F:/Reportes SF/Zurich/Datos/Bechtel.xlsx\"\n",
    "crear_carpeta(nombre_carpeta)\n",
    "actualizar(Archivo_origen)\n",
    "Asunto = \"Detalle de Uso \" + nombre_reporte + \" - \" + str(dia)\n",
    "shutil.copy2(Archivo_origen, nombre_archivo_final)\n",
    "\n",
    "envio_de_email(\n",
    "    remitente=\"jmartinez@careassistance.com\",\n",
    "    destinatarios=[ \"jmartinez@careassistance.com\"],\n",
    "    asunto=Asunto,\n",
    "    cuerpo='Estimados, buen día.\\n\\nAdjunto reporte semanal ' + nombre_reporte + ' actualizado.\\n\\n\\nSaludos.',\n",
    "    ruta_adjunto=nombre_archivo_final,\n",
    "    nombre_adjunto=\"Zurich - Bechtel.xlsx\",\n",
    ")"
   ]
  },
  {
   "attachments": {},
   "cell_type": "markdown",
   "metadata": {},
   "source": [
    "BCI"
   ]
  },
  {
   "cell_type": "code",
   "execution_count": null,
   "metadata": {},
   "outputs": [],
   "source": [
    "nombre_reporte = \"BCI\"\n",
    "nombre_carpeta = \"F:/Reportes SF/BCI/\"\n",
    "nombre_archivo_final = \"F:/Reportes SF/BCI/\" + str(dia) + \"/BCI.xlsx\"\n",
    "Archivo_origen = \"F:/Reportes SF/BCI/Datos/BCI.xlsx\"\n",
    "crear_carpeta(nombre_carpeta)\n",
    "actualizar(Archivo_origen)\n",
    "Asunto = \"Detalle de Uso \" + nombre_reporte + \" - \" + str(dia)\n",
    "shutil.copy2(Archivo_origen, nombre_archivo_final)\n",
    "\n",
    "envio_de_email(\n",
    "    remitente=\"jmartinez@careassistance.com\",\n",
    "    destinatarios=[ \"jmartinez@careassistance.com\"],\n",
    "    asunto=Asunto,\n",
    "    cuerpo='Estimados, buen día.\\n\\nAdjunto reporte semanal ' + nombre_reporte + ' actualizado.\\n\\n\\nSaludos.',\n",
    "    ruta_adjunto=nombre_archivo_final,\n",
    "    nombre_adjunto=\"BCI.xlsx\",\n",
    ")"
   ]
  },
  {
   "cell_type": "code",
   "execution_count": null,
   "metadata": {},
   "outputs": [],
   "source": [
    "nombre_reporte = \"BCI - Cenim\"\n",
    "nombre_carpeta = \"F:/Reportes SF/BCI/\"\n",
    "nombre_archivo_final = \"F:/Reportes SF/BCI/\" + str(dia) + \"/Bci - Cenim.xlsx\"\n",
    "Archivo_origen = \"F:/Reportes SF/BCI/Datos/Bci - Cenim.xlsx\"\n",
    "crear_carpeta(nombre_carpeta)\n",
    "actualizar(Archivo_origen)\n",
    "Asunto = \"Detalle de Uso \" + nombre_reporte + \" - \" + str(dia)\n",
    "shutil.copy2(Archivo_origen, nombre_archivo_final)\n",
    "\n",
    "envio_de_email(\n",
    "    remitente=\"jmartinez@careassistance.com\",\n",
    "    destinatarios=[ \"jmartinez@careassistance.com\"],\n",
    "    asunto=Asunto,\n",
    "    cuerpo='Estimados, buen día.\\n\\nAdjunto reporte semanal ' + nombre_reporte + ' actualizado.\\n\\n\\nSaludos.',\n",
    "    ruta_adjunto=nombre_archivo_final,\n",
    "    nombre_adjunto=\"Bci - Cenim.xlsx\",\n",
    ")"
   ]
  },
  {
   "cell_type": "code",
   "execution_count": null,
   "metadata": {},
   "outputs": [],
   "source": [
    "nombre_reporte = \"Bci - Orbis\"\n",
    "nombre_carpeta = \"F:/Reportes SF/BCI/\"\n",
    "nombre_archivo_final = \"F:/Reportes SF/BCI/\" + str(dia) + \"/Bci - Orbis.xlsx\"\n",
    "Archivo_origen = \"F:/Reportes SF/BCI/Datos/Bci - Orbis.xlsx\"\n",
    "crear_carpeta(nombre_carpeta)\n",
    "actualizar(Archivo_origen)\n",
    "Asunto = \"Detalle de Uso \" + nombre_reporte + \" - \" + str(dia)\n",
    "shutil.copy2(Archivo_origen, nombre_archivo_final)\n",
    "\n",
    "envio_de_email(\n",
    "    remitente=\"jmartinez@careassistance.com\",\n",
    "    destinatarios=[ \"jmartinez@careassistance.com\"],\n",
    "    asunto=Asunto,\n",
    "    cuerpo='Estimados, buen día.\\n\\nAdjunto reporte semanal ' + nombre_reporte + ' actualizado.\\n\\n\\nSaludos.',\n",
    "    ruta_adjunto=nombre_archivo_final,\n",
    "    nombre_adjunto=\"Bci - Orbis.xlsx\",\n",
    ")"
   ]
  },
  {
   "attachments": {},
   "cell_type": "markdown",
   "metadata": {},
   "source": [
    "Metlife"
   ]
  },
  {
   "cell_type": "code",
   "execution_count": 5,
   "metadata": {},
   "outputs": [
    {
     "name": "stdout",
     "output_type": "stream",
     "text": [
      "No existe, se crea\n"
     ]
    }
   ],
   "source": [
    "nombre_reporte = \"MetLife\"\n",
    "nombre_carpeta = \"F:/Reportes SF/MetLife/\"\n",
    "nombre_archivo_final = \"F:/Reportes SF/MetLife/\" + str(dia) + \"/MetLife General.xlsx\"\n",
    "Archivo_origen = \"F:/Reportes SF/MetLife/Datos/MetLife General.xlsx\"\n",
    "crear_carpeta(nombre_carpeta)\n",
    "actualizar(Archivo_origen)\n",
    "Asunto = \"Detalle de Uso \" + nombre_reporte + \" - \" + str(dia)\n",
    "shutil.copy2(Archivo_origen, nombre_archivo_final)\n",
    "\n",
    "envio_de_email(\n",
    "    remitente=\"jmartinez@careassistance.com\",\n",
    "    destinatarios=[ \"jmartinez@careassistance.com\"],\n",
    "    asunto=Asunto,\n",
    "    cuerpo='Estimados, buen día.\\n\\nAdjunto reporte semanal ' + nombre_reporte + ' actualizado.\\n\\n\\nSaludos.',\n",
    "    ruta_adjunto=nombre_archivo_final,\n",
    "    nombre_adjunto=\"MetLife General.xlsx\",\n",
    ")"
   ]
  },
  {
   "cell_type": "code",
   "execution_count": null,
   "metadata": {},
   "outputs": [],
   "source": [
    "nombre_reporte = \"Metlife - Conosur\"\n",
    "nombre_carpeta = \"F:/Reportes SF/MetLife/\"\n",
    "nombre_archivo_final = \"F:/Reportes SF/MetLife/\" + str(dia) + \"/Metlife - Conosur.xlsx\"\n",
    "Archivo_origen = \"F:/Reportes SF/MetLife/Datos/Metlife - Conosur.xlsx\"\n",
    "crear_carpeta(nombre_carpeta)\n",
    "actualizar(Archivo_origen)\n",
    "Asunto = \"Detalle de Uso \" + nombre_reporte + \" - \" + str(dia)\n",
    "shutil.copy2(Archivo_origen, nombre_archivo_final)\n",
    "\n",
    "envio_de_email(\n",
    "    remitente=\"jmartinez@careassistance.com\",\n",
    "    destinatarios=[ \"jmartinez@careassistance.com\"],\n",
    "    asunto=Asunto,\n",
    "    cuerpo='Estimados, buen día.\\n\\nAdjunto reporte semanal ' + nombre_reporte + ' actualizado.\\n\\n\\nSaludos.',\n",
    "    ruta_adjunto=nombre_archivo_final,\n",
    "    nombre_adjunto=\"Metlife - Conosur.xlsx\",\n",
    ")"
   ]
  },
  {
   "cell_type": "code",
   "execution_count": null,
   "metadata": {},
   "outputs": [],
   "source": [
    "nombre_reporte = \"Metlife - Burgos\"\n",
    "nombre_carpeta = \"F:/Reportes SF/MetLife/\"\n",
    "nombre_archivo_final = \"F:/Reportes SF/MetLife/\" + str(dia) + \"/Metlife - Burgos.xlsx\"\n",
    "Archivo_origen = \"F:/Reportes SF/MetLife/Datos/Metlife - Burgos.xlsx\"\n",
    "crear_carpeta(nombre_carpeta)\n",
    "actualizar(Archivo_origen)\n",
    "Asunto = \"Detalle de Uso \" + nombre_reporte + \" - \" + str(dia)\n",
    "shutil.copy2(Archivo_origen, nombre_archivo_final)\n",
    "\n",
    "envio_de_email(\n",
    "    remitente=\"jmartinez@careassistance.com\",\n",
    "    destinatarios=[ \"jmartinez@careassistance.com\"],\n",
    "    asunto=Asunto,\n",
    "    cuerpo='Estimados, buen día.\\n\\nAdjunto reporte semanal ' + nombre_reporte + ' actualizado.\\n\\n\\nSaludos.',\n",
    "    ruta_adjunto=nombre_archivo_final,\n",
    "    nombre_adjunto=\"Metlife - Burgos.xlsx\",\n",
    ")"
   ]
  },
  {
   "cell_type": "code",
   "execution_count": null,
   "metadata": {},
   "outputs": [],
   "source": [
    "nombre_reporte = \"Metlife - Willis Torres Watson\"\n",
    "nombre_carpeta = \"F:/Reportes SF/MetLife/\"\n",
    "nombre_archivo_final = \"F:/Reportes SF/MetLife/\" + str(dia) + \"/Metlife - Willis Torres Watson.xlsx\"\n",
    "Archivo_origen = \"F:/Reportes SF/MetLife/Datos/Metlife - Willis Torres Watson.xlsx\"\n",
    "crear_carpeta(nombre_carpeta)\n",
    "actualizar(Archivo_origen)\n",
    "Asunto = \"Detalle de Uso \" + nombre_reporte + \" - \" + str(dia)\n",
    "shutil.copy2(Archivo_origen, nombre_archivo_final)\n",
    "\n",
    "envio_de_email(\n",
    "    remitente=\"jmartinez@careassistance.com\",\n",
    "    destinatarios=[ \"jmartinez@careassistance.com\"],\n",
    "    asunto=Asunto,\n",
    "    cuerpo='Estimados, buen día.\\n\\nAdjunto reporte semanal ' + nombre_reporte + ' actualizado.\\n\\n\\nSaludos.',\n",
    "    ruta_adjunto=nombre_archivo_final,\n",
    "    nombre_adjunto=\"Metlife - Willis Torres Watson.xlsx\",\n",
    ")"
   ]
  },
  {
   "cell_type": "code",
   "execution_count": null,
   "metadata": {},
   "outputs": [],
   "source": [
    "nombre_reporte = \"Metlife - Willis Torres Watson\"\n",
    "nombre_carpeta = \"F:/Reportes SF/MetLife/\"\n",
    "nombre_archivo_final = \"F:/Reportes SF/MetLife/\" + str(dia) + \"/Metlife - Willis Torres Watson.xlsx\"\n",
    "Archivo_origen = \"F:/Reportes SF/MetLife/Datos/Metlife - Willis Torres Watson.xlsx\"\n",
    "crear_carpeta(nombre_carpeta)\n",
    "actualizar(Archivo_origen)\n",
    "Asunto = \"Detalle de Uso \" + nombre_reporte + \" - \" + str(dia)\n",
    "shutil.copy2(Archivo_origen, nombre_archivo_final)\n",
    "\n",
    "envio_de_email(\n",
    "    remitente=\"jmartinez@careassistance.com\",\n",
    "    destinatarios=[ \"jmartinez@careassistance.com\"],\n",
    "    asunto=Asunto,\n",
    "    cuerpo='Estimados, buen día.\\n\\nAdjunto reporte semanal ' + nombre_reporte + ' actualizado.\\n\\n\\nSaludos.',\n",
    "    ruta_adjunto=nombre_archivo_final,\n",
    "    nombre_adjunto=\"Metlife - Willis Torres Watson.xlsx\",\n",
    ")"
   ]
  },
  {
   "cell_type": "code",
   "execution_count": 140,
   "metadata": {},
   "outputs": [
    {
     "ename": "NameError",
     "evalue": "name 'Dermic' is not defined",
     "output_type": "error",
     "traceback": [
      "\u001b[1;31m---------------------------------------------------------------------------\u001b[0m",
      "\u001b[1;31mNameError\u001b[0m                                 Traceback (most recent call last)",
      "Cell \u001b[1;32mIn [140], line 1\u001b[0m\n\u001b[1;32m----> 1\u001b[0m Dermic\n\u001b[0;32m      3\u001b[0m \u001b[39m#Archivo de origen para copiar\u001b[39;00m\n\u001b[0;32m      4\u001b[0m Archivo_origen \u001b[39m=\u001b[39m (\u001b[39m'\u001b[39m\u001b[39mF:/Reportes SF/Lipigas/datos/3sp.xlsx\u001b[39m\u001b[39m'\u001b[39m)\n",
      "\u001b[1;31mNameError\u001b[0m: name 'Dermic' is not defined"
     ]
    }
   ],
   "source": [
    "Dermic\n",
    "\n",
    "#Archivo de origen para copiar\n",
    "Archivo_origen = ('F:/Reportes SF/Lipigas/datos/3sp.xlsx')\n",
    "#Crear Carpeta con nombre de fecha\n",
    "nombre_carpeta = ('F:/Reportes SF/3SP/')\n",
    "datos = crear_carpeta(nombre_carpeta)\n",
    "print (datos)"
   ]
  }
 ],
 "metadata": {
  "kernelspec": {
   "display_name": "Python 3",
   "language": "python",
   "name": "python3"
  },
  "language_info": {
   "codemirror_mode": {
    "name": "ipython",
    "version": 3
   },
   "file_extension": ".py",
   "mimetype": "text/x-python",
   "name": "python",
   "nbconvert_exporter": "python",
   "pygments_lexer": "ipython3",
   "version": "3.10.8"
  },
  "orig_nbformat": 4,
  "vscode": {
   "interpreter": {
    "hash": "a4c0672c92e7bf4f58b7029fe981849933df28de4314420b2cba9072c49cf0a9"
   }
  }
 },
 "nbformat": 4,
 "nbformat_minor": 2
}
