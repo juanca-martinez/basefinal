{
 "cells": [
  {
   "cell_type": "code",
   "execution_count": 1,
   "metadata": {},
   "outputs": [],
   "source": [
    "import pandas as pd\n",
    "import numpy as np\n",
    "from sqlalchemy import create_engine\n",
    "import matplotlib.pyplot as plt"
   ]
  },
  {
   "cell_type": "code",
   "execution_count": 2,
   "metadata": {},
   "outputs": [],
   "source": [
    "pacientes_arriba1 = \"C:/Users/jmartinez/Desktop/validaciones/enviados/Pacientes1.xlsx\"\n",
    "pacientes_arriba2 = \"C:/Users/jmartinez/Desktop/validaciones/enviados/Pacientes2.xlsx\"\n",
    "pacientes_arriba3 = \"C:/Users/jmartinez/Desktop/validaciones/enviados/Pacientes3.xlsx\"\n",
    "pacientes_arriba4 = \"C:/Users/jmartinez/Desktop/validaciones/enviados/Pacientes4.xlsx\"\n",
    "pacientes_arriba5 = \"C:/Users/jmartinez/Desktop/validaciones/enviados/Pacientes5.xlsx\"\n",
    "pacientes_arriba6 = \"C:/Users/jmartinez/Desktop/validaciones/enviados/Pacientes6.xlsx\"\n",
    "\n",
    "pacientes_sf1 = pd.read_excel(pacientes_arriba1)\n",
    "pacientes_sf2 = pd.read_excel(pacientes_arriba2)\n",
    "pacientes_sf3 = pd.read_excel(pacientes_arriba3)\n",
    "pacientes_sf4 = pd.read_excel(pacientes_arriba4)\n",
    "pacientes_sf5 = pd.read_excel(pacientes_arriba5)\n",
    "pacientes_sf6 = pd.read_excel(pacientes_arriba6)"
   ]
  },
  {
   "cell_type": "code",
   "execution_count": 3,
   "metadata": {},
   "outputs": [],
   "source": [
    "pacientes_uni = pd.concat([pacientes_sf1, pacientes_sf2], ignore_index=True, sort=False)\n"
   ]
  },
  {
   "cell_type": "code",
   "execution_count": 4,
   "metadata": {},
   "outputs": [],
   "source": [
    "pacientes_uni2 = pd.concat(\n",
    "    [pacientes_sf4, pacientes_sf3], ignore_index=True, sort=False\n",
    ")\n"
   ]
  },
  {
   "cell_type": "code",
   "execution_count": 5,
   "metadata": {},
   "outputs": [],
   "source": [
    "pacientes_arriba = pd.concat(\n",
    "    [pacientes_uni, pacientes_uni2], ignore_index=True, sort=False\n",
    ")\n"
   ]
  },
  {
   "cell_type": "code",
   "execution_count": 6,
   "metadata": {},
   "outputs": [],
   "source": [
    "pacientes_nuestros = pd.concat(\n",
    "    [pacientes_arriba, pacientes_sf5], ignore_index=True, sort=False\n",
    ")\n"
   ]
  },
  {
   "cell_type": "code",
   "execution_count": 7,
   "metadata": {},
   "outputs": [],
   "source": [
    "pacientes_totales = pd.concat(\n",
    "    [pacientes_nuestros, pacientes_sf6], ignore_index=True, sort=False\n",
    ")\n"
   ]
  },
  {
   "cell_type": "code",
   "execution_count": 8,
   "metadata": {},
   "outputs": [],
   "source": [
    "si_verdad = pacientes_totales[\n",
    "    (pacientes_totales[\"campana_paciente\"] == \"Vida Security\")\n",
    "]\n"
   ]
  },
  {
   "cell_type": "code",
   "execution_count": 9,
   "metadata": {},
   "outputs": [
    {
     "data": {
      "text/html": [
       "<div><div id=7256cdc2-5780-4303-aca9-43ec51b3d995 style=\"display:none; background-color:#9D6CFF; color:white; width:200px; height:30px; padding-left:5px; border-radius:4px; flex-direction:row; justify-content:space-around; align-items:center;\" onmouseover=\"this.style.backgroundColor='#BA9BF8'\" onmouseout=\"this.style.backgroundColor='#9D6CFF'\" onclick=\"window.commands?.execute('create-mitosheet-from-dataframe-output');\">See Full Dataframe in Mito</div> <script> if (window.commands?.hasCommand('create-mitosheet-from-dataframe-output')) document.getElementById('7256cdc2-5780-4303-aca9-43ec51b3d995').style.display = 'flex' </script> <table border=\"1\" class=\"dataframe\">\n",
       "  <thead>\n",
       "    <tr style=\"text-align: right;\">\n",
       "      <th></th>\n",
       "      <th>rut</th>\n",
       "      <th>id</th>\n",
       "      <th>deleted</th>\n",
       "      <th>salutation_name</th>\n",
       "      <th>first_name</th>\n",
       "      <th>last_name</th>\n",
       "      <th>description</th>\n",
       "      <th>address_street</th>\n",
       "      <th>address_city</th>\n",
       "      <th>address_state</th>\n",
       "      <th>...</th>\n",
       "      <th>Unnamed: 25</th>\n",
       "      <th>Unnamed: 26</th>\n",
       "      <th>sdfgds</th>\n",
       "      <th>LLave</th>\n",
       "      <th>checks</th>\n",
       "      <th>Unnamed: 17</th>\n",
       "      <th>chkeorut</th>\n",
       "      <th>LLave_Empresa</th>\n",
       "      <th>llave</th>\n",
       "      <th>Clave</th>\n",
       "    </tr>\n",
       "  </thead>\n",
       "  <tbody>\n",
       "    <tr>\n",
       "      <th>19</th>\n",
       "      <td>12691413-k</td>\n",
       "      <td>6321fcdb478bf3f7f</td>\n",
       "      <td>0.0</td>\n",
       "      <td>NaN</td>\n",
       "      <td>Maria Ines</td>\n",
       "      <td>Moraga Reyes</td>\n",
       "      <td>NaN</td>\n",
       "      <td>Av. El Eincón Pasaje Juez Ventura Arredondo Sitio 7 El Rincón La Punta, San Francisco De Mostazal</td>\n",
       "      <td>NaN</td>\n",
       "      <td>NaN</td>\n",
       "      <td>...</td>\n",
       "      <td>NaN</td>\n",
       "      <td>NaN</td>\n",
       "      <td>NaN</td>\n",
       "      <td>NaN</td>\n",
       "      <td>NaN</td>\n",
       "      <td>NaN</td>\n",
       "      <td>NaN</td>\n",
       "      <td>NaN</td>\n",
       "      <td>NaN</td>\n",
       "      <td>NaN</td>\n",
       "    </tr>\n",
       "    <tr>\n",
       "      <th>114</th>\n",
       "      <td>18536941-2</td>\n",
       "      <td>62ebf40a12cae5baf</td>\n",
       "      <td>0.0</td>\n",
       "      <td>NaN</td>\n",
       "      <td>Francisca Andrea</td>\n",
       "      <td>Roa San Martin</td>\n",
       "      <td>NaN</td>\n",
       "      <td>NaN</td>\n",
       "      <td>NaN</td>\n",
       "      <td>NaN</td>\n",
       "      <td>...</td>\n",
       "      <td>NaN</td>\n",
       "      <td>NaN</td>\n",
       "      <td>NaN</td>\n",
       "      <td>NaN</td>\n",
       "      <td>NaN</td>\n",
       "      <td>NaN</td>\n",
       "      <td>NaN</td>\n",
       "      <td>NaN</td>\n",
       "      <td>NaN</td>\n",
       "      <td>NaN</td>\n",
       "    </tr>\n",
       "    <tr>\n",
       "      <th>144</th>\n",
       "      <td>18084741-3</td>\n",
       "      <td>620fccee835d1638e</td>\n",
       "      <td>0.0</td>\n",
       "      <td>NaN</td>\n",
       "      <td>Loreto Beatriz</td>\n",
       "      <td>Irribarra Lopez</td>\n",
       "      <td>NaN</td>\n",
       "      <td>Guada 2489, La Florida</td>\n",
       "      <td>NaN</td>\n",
       "      <td>NaN</td>\n",
       "      <td>...</td>\n",
       "      <td>NaN</td>\n",
       "      <td>NaN</td>\n",
       "      <td>NaN</td>\n",
       "      <td>NaN</td>\n",
       "      <td>NaN</td>\n",
       "      <td>NaN</td>\n",
       "      <td>NaN</td>\n",
       "      <td>NaN</td>\n",
       "      <td>NaN</td>\n",
       "      <td>NaN</td>\n",
       "    </tr>\n",
       "    <tr>\n",
       "      <th>145</th>\n",
       "      <td>13398953-6</td>\n",
       "      <td>61cf2a6e77b3e13e6</td>\n",
       "      <td>0.0</td>\n",
       "      <td>NaN</td>\n",
       "      <td>Alvaro Javier</td>\n",
       "      <td>Apablaza Vasquez</td>\n",
       "      <td>NaN</td>\n",
       "      <td>José Rabat. 10670, Los Robles 102, Colina</td>\n",
       "      <td>NaN</td>\n",
       "      <td>NaN</td>\n",
       "      <td>...</td>\n",
       "      <td>NaN</td>\n",
       "      <td>NaN</td>\n",
       "      <td>NaN</td>\n",
       "      <td>NaN</td>\n",
       "      <td>NaN</td>\n",
       "      <td>NaN</td>\n",
       "      <td>NaN</td>\n",
       "      <td>NaN</td>\n",
       "      <td>NaN</td>\n",
       "      <td>NaN</td>\n",
       "    </tr>\n",
       "    <tr>\n",
       "      <th>208</th>\n",
       "      <td>17962088-k</td>\n",
       "      <td>62aa187636fb11fc4</td>\n",
       "      <td>0.0</td>\n",
       "      <td>NaN</td>\n",
       "      <td>Santiago Nicolas</td>\n",
       "      <td>Cruz Pena</td>\n",
       "      <td>NaN</td>\n",
       "      <td>Los Nogales 6766</td>\n",
       "      <td>NaN</td>\n",
       "      <td>NaN</td>\n",
       "      <td>...</td>\n",
       "      <td>NaN</td>\n",
       "      <td>NaN</td>\n",
       "      <td>NaN</td>\n",
       "      <td>NaN</td>\n",
       "      <td>NaN</td>\n",
       "      <td>NaN</td>\n",
       "      <td>NaN</td>\n",
       "      <td>NaN</td>\n",
       "      <td>NaN</td>\n",
       "      <td>NaN</td>\n",
       "    </tr>\n",
       "  </tbody>\n",
       "</table></div>"
      ],
      "text/plain": [
       "            rut                 id  deleted salutation_name        first_name  \\\n",
       "19   12691413-k  6321fcdb478bf3f7f      0.0             NaN        Maria Ines   \n",
       "114  18536941-2  62ebf40a12cae5baf      0.0             NaN  Francisca Andrea   \n",
       "144  18084741-3  620fccee835d1638e      0.0             NaN    Loreto Beatriz   \n",
       "145  13398953-6  61cf2a6e77b3e13e6      0.0             NaN     Alvaro Javier   \n",
       "208  17962088-k  62aa187636fb11fc4      0.0             NaN  Santiago Nicolas   \n",
       "\n",
       "            last_name description  \\\n",
       "19       Moraga Reyes         NaN   \n",
       "114    Roa San Martin         NaN   \n",
       "144   Irribarra Lopez         NaN   \n",
       "145  Apablaza Vasquez         NaN   \n",
       "208         Cruz Pena         NaN   \n",
       "\n",
       "                                        address_street address_city  \\\n",
       "19   Av. El Eincón Pasaje Juez Ventura Arredondo Si...          NaN   \n",
       "114                                                NaN          NaN   \n",
       "144                             Guada 2489, La Florida          NaN   \n",
       "145          José Rabat. 10670, Los Robles 102, Colina          NaN   \n",
       "208                                   Los Nogales 6766          NaN   \n",
       "\n",
       "    address_state  ... Unnamed: 25 Unnamed: 26 sdfgds LLave checks  \\\n",
       "19            NaN  ...         NaN         NaN    NaN   NaN    NaN   \n",
       "114           NaN  ...         NaN         NaN    NaN   NaN    NaN   \n",
       "144           NaN  ...         NaN         NaN    NaN   NaN    NaN   \n",
       "145           NaN  ...         NaN         NaN    NaN   NaN    NaN   \n",
       "208           NaN  ...         NaN         NaN    NaN   NaN    NaN   \n",
       "\n",
       "    Unnamed: 17 chkeorut LLave_Empresa llave Clave  \n",
       "19          NaN      NaN           NaN   NaN   NaN  \n",
       "114         NaN      NaN           NaN   NaN   NaN  \n",
       "144         NaN      NaN           NaN   NaN   NaN  \n",
       "145         NaN      NaN           NaN   NaN   NaN  \n",
       "208         NaN      NaN           NaN   NaN   NaN  \n",
       "\n",
       "[5 rows x 52 columns]"
      ]
     },
     "execution_count": 9,
     "metadata": {},
     "output_type": "execute_result"
    }
   ],
   "source": [
    "si_verdad.head()\n"
   ]
  },
  {
   "cell_type": "code",
   "execution_count": 10,
   "metadata": {},
   "outputs": [
    {
     "data": {
      "text/plain": [
       "(85777, 52)"
      ]
     },
     "execution_count": 10,
     "metadata": {},
     "output_type": "execute_result"
    }
   ],
   "source": [
    "si_verdad.shape\n"
   ]
  },
  {
   "cell_type": "code",
   "execution_count": 11,
   "metadata": {},
   "outputs": [],
   "source": [
    "si_verdad.to_excel(\"C:/Users/jmartinez/Desktop/validaciones/enviados/Vida.xlsx\")\n"
   ]
  }
 ],
 "metadata": {
  "kernelspec": {
   "display_name": "Mito",
   "language": "python",
   "name": "python3"
  },
  "language_info": {
   "codemirror_mode": {
    "name": "ipython",
    "version": 3
   },
   "file_extension": ".py",
   "mimetype": "text/x-python",
   "name": "python",
   "nbconvert_exporter": "python",
   "pygments_lexer": "ipython3",
   "version": "3.10.6 | packaged by conda-forge | (main, Oct  7 2022, 20:14:50) [MSC v.1916 64 bit (AMD64)]"
  },
  "orig_nbformat": 4,
  "vscode": {
   "interpreter": {
    "hash": "8ca7c6c0b372e79d1b046e97089bf0eca059102913bf5fbce589f25f1f28c438"
   }
  }
 },
 "nbformat": 4,
 "nbformat_minor": 2
}
