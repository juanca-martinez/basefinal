{
 "cells": [
  {
   "cell_type": "code",
   "execution_count": 33,
   "metadata": {
    "notebookRunGroups": {
     "groupValue": "1"
    }
   },
   "outputs": [],
   "source": [
    "from pathlib import Path \n",
    "import requests\n",
    "import pandas as pd\n",
    "import numpy as np\n",
    "from io import StringIO\n",
    "from simple_salesforce import Salesforce\n",
    "import shutil\n",
    "import datetime\n",
    "from datetime import date\n",
    "\n",
    "\n",
    "sf = Salesforce(\n",
    "    username=\"jmartinez@careassistance.com\",\n",
    "    password=\"Jcmm010483\",\n",
    "    security_token=\"nc20DsgxOHWVR9OHZ78s7TRp\",\n",
    ")"
   ]
  },
  {
   "attachments": {},
   "cell_type": "markdown",
   "metadata": {},
   "source": [
    "Empresas Programas por empresa y empresas desde account"
   ]
  },
  {
   "cell_type": "code",
   "execution_count": 34,
   "metadata": {
    "notebookRunGroups": {
     "groupValue": "1"
    }
   },
   "outputs": [
    {
     "data": {
      "text/plain": [
       "(6898, 10)"
      ]
     },
     "execution_count": 34,
     "metadata": {},
     "output_type": "execute_result"
    }
   ],
   "source": [
    "# Recuperar empresas ID de salesforce desde Account\n",
    "results = sf.query_all(\n",
    "    \"\"\"\n",
    "  select Id, name, Holding__c ,Campa_a__c,Id_Empresa__c,Empleador__c,poliza__c,Vigencia__c, Corredor__c,Pa_s_del_Paciente__c from account where ispersonaccount = false \n",
    "    \"\"\"\n",
    ")\n",
    "Empresas_SF = pd.DataFrame(results[\"records\"])\n",
    "Empresas_SF = Empresas_SF[\n",
    "    [\n",
    "        \"Id\",\n",
    "        \"Name\",\n",
    "        \"Holding__c\",\n",
    "        \"Campa_a__c\",\n",
    "        \"Id_Empresa__c\",\n",
    "        \"Empleador__c\",\n",
    "        \"poliza__c\",\n",
    "        \"Vigencia__c\",\n",
    "        \"Corredor__c\",\n",
    "        \"Pa_s_del_Paciente__c\",\n",
    "    ]\n",
    "]\n",
    "Empresas_SF.shape"
   ]
  },
  {
   "cell_type": "code",
   "execution_count": 35,
   "metadata": {
    "notebookRunGroups": {
     "groupValue": "1"
    }
   },
   "outputs": [
    {
     "data": {
      "text/plain": [
       "(6880, 5)"
      ]
     },
     "execution_count": 35,
     "metadata": {},
     "output_type": "execute_result"
    }
   ],
   "source": [
    "# buscar empresas desde Programas_por_Empresas__c datos de empresas\n",
    "results = sf.query_all(\n",
    "    \"\"\"\n",
    "   select Id,Empresa__c, Empresa_Padre__c,Nombre_Empresa__c, Name  from Programas_por_Empresas__c \n",
    "    \"\"\"\n",
    ")\n",
    "Programas_por_empresa_SF = pd.DataFrame(results[\"records\"])\n",
    "\n",
    "Programas_por_empresa_SF = Programas_por_empresa_SF[\n",
    "    [\"Id\", \"Empresa__c\", \"Empresa_Padre__c\", \"Nombre_Empresa__c\", \"Name\"]\n",
    "]\n",
    "Programas_por_empresa_SF.shape"
   ]
  },
  {
   "cell_type": "code",
   "execution_count": 36,
   "metadata": {},
   "outputs": [
    {
     "data": {
      "text/plain": [
       "(80, 2)"
      ]
     },
     "execution_count": 36,
     "metadata": {},
     "output_type": "execute_result"
    }
   ],
   "source": [
    "# Recuperar empresas ID de salesforce desde Account\n",
    "results = sf.query_all(\n",
    "    \"\"\"\n",
    "  select Id,Name from user\n",
    "    \"\"\"\n",
    ")\n",
    "usuarios_SF = pd.DataFrame(results[\"records\"])\n",
    "usuarios_SF = usuarios_SF[\n",
    "    [\n",
    "        \"Id\",\n",
    "        \"Name\",\n",
    "    ]\n",
    "]\n",
    "usuarios_SF = usuarios_SF.rename(\n",
    "    columns={\n",
    "        \"Id\": \"Id Account Usuario\",        \n",
    "        \"Name\": \"Nombre Usuario\",\n",
    "        \n",
    "    }\n",
    ")\n",
    "usuarios_SF.shape"
   ]
  },
  {
   "cell_type": "code",
   "execution_count": 37,
   "metadata": {
    "notebookRunGroups": {
     "groupValue": "1"
    }
   },
   "outputs": [
    {
     "data": {
      "text/plain": [
       "(6904, 15)"
      ]
     },
     "execution_count": 37,
     "metadata": {},
     "output_type": "execute_result"
    }
   ],
   "source": [
    "#Union de Programas Empresa y empresas\n",
    "Programas_empresas = pd.merge(\n",
    "    left=Empresas_SF,\n",
    "    right=Programas_por_empresa_SF,\n",
    "    how=\"left\",\n",
    "    left_on=\"Id\",\n",
    "    right_on=\"Empresa__c\",\n",
    ")\n",
    "Programas_empresas.shape"
   ]
  },
  {
   "cell_type": "code",
   "execution_count": 38,
   "metadata": {
    "notebookRunGroups": {
     "groupValue": "1"
    }
   },
   "outputs": [],
   "source": [
    "Programas_pacientes = Programas_empresas.rename(\n",
    "    columns={\n",
    "        \"Id_x\": \"Id Account Empresa\",\n",
    "        \"Name_x\": \"Nombre Empresa\",\n",
    "        \"Holding__c\": \"Holding\",\n",
    "        \"Campa_a__c\": \"Campaña\",\n",
    "        \"Empleador__c\": \"Empleador\",\n",
    "        \"poliza__c\": \"Poliza\",\n",
    "        \"Id_y\": \"Programas_por_Empresas__c\",\n",
    "        \"Id_Empresa__c\": \"Codigo EMP\",\n",
    "        \"Name_y\": \"Codigo A\",\n",
    "        \"Vigencia__c\": \"Vigente\",\n",
    "        \"Corredor__c\": \"Corredor\",\n",
    "        \"Pa_s_del_Paciente__c\": \"Pais\",\n",
    "    }\n",
    ")\n",
    "Programas_pacientes = Programas_pacientes[\n",
    "    [\n",
    "        \"Id Account Empresa\",\n",
    "        \"Nombre Empresa\",\n",
    "        \"Holding\",\n",
    "        \"Campaña\",\n",
    "        \"Empleador\",\n",
    "        \"Poliza\",\n",
    "        \"Programas_por_Empresas__c\",\n",
    "        \"Codigo EMP\",\n",
    "        \"Codigo A\",\n",
    "        \"Vigente\",\n",
    "        \"Corredor\",\n",
    "        \"Pais\",\n",
    "    ]\n",
    "]"
   ]
  },
  {
   "attachments": {},
   "cell_type": "markdown",
   "metadata": {},
   "source": [
    "fin empresas y comienzo de rescate de pacientes\n"
   ]
  },
  {
   "cell_type": "code",
   "execution_count": 39,
   "metadata": {
    "notebookRunGroups": {
     "groupValue": "1"
    }
   },
   "outputs": [
    {
     "data": {
      "text/plain": [
       "(1625675, 9)"
      ]
     },
     "execution_count": 39,
     "metadata": {},
     "output_type": "execute_result"
    }
   ],
   "source": [
    "results = sf.query_all(\n",
    "    \"\"\"\n",
    "    select Id, IdentificationId__pc,Name, Identification_Type__c, Ocupaci_n__c,  PersonTitle ,PersonDepartment,HealthCloudGA__Gender__pc,Phone  from Account where ispersonaccount = True\n",
    "   \"\"\"\n",
    ")\n",
    "Pacientes_SF = pd.DataFrame(results[\"records\"])\n",
    "\n",
    "Pacientes_SF = Pacientes_SF[\n",
    "    [\n",
    "        \"Id\",\n",
    "        \"IdentificationId__pc\",\n",
    "        \"Name\",\n",
    "        \"Identification_Type__c\",\n",
    "        \"Ocupaci_n__c\",\n",
    "        \"PersonTitle\",\n",
    "        \"PersonDepartment\",\n",
    "        \"HealthCloudGA__Gender__pc\",\n",
    "        'Phone'\n",
    "        \n",
    "    ]\n",
    "]\n",
    "Pacientes_SF = Pacientes_SF.rename(\n",
    "    columns={\n",
    "        \"Id\": \"Id Account Paciente\",\n",
    "        \"IdentificationId__pc\": \"Rut\",\n",
    "        \"Name\": \"Nombre\",\n",
    "        \"Ocupaci_n__c\": \"Ocupacion\",\n",
    "        \"PersonTitle\": \"Cargo\",\n",
    "        \"PersonDepartment\": \"Departamento\",\n",
    "        \"HealthCloudGA__Gender__pc\": \"Sexo\",\n",
    "        \"Phone\": \"Telefono\",\n",
    "        \"Identification_Type__c\": \"Tipo de Documento\",\n",
    "    }\n",
    ")\n",
    "Pacientes_SF.shape"
   ]
  },
  {
   "attachments": {},
   "cell_type": "markdown",
   "metadata": {},
   "source": [
    "Aca se comienzan a unir las relaciones de pacientes y empresas ya creadas."
   ]
  },
  {
   "cell_type": "code",
   "execution_count": 40,
   "metadata": {
    "notebookRunGroups": {
     "groupValue": "1"
    }
   },
   "outputs": [
    {
     "data": {
      "text/plain": [
       "(1188951, 4)"
      ]
     },
     "execution_count": 40,
     "metadata": {},
     "output_type": "execute_result"
    }
   ],
   "source": [
    "#buscar empresas desde Paciente_Programas__c relaciones de empresas con pacientes\n",
    "results = sf.query_all(\n",
    "    \"\"\"\n",
    "    select Id,Paciente__c, Programas_por_Empresas__c,padre__c from Paciente_Programas__c  \n",
    "    \"\"\"\n",
    ")\n",
    "Paciente_Programas_SF = pd.DataFrame(results[\"records\"])\n",
    "\n",
    "Paciente_Programas_SF = Paciente_Programas_SF[\n",
    "    [\"Id\", \"Paciente__c\", \"Programas_por_Empresas__c\", \"padre__c\"]\n",
    "]\n",
    "Paciente_Programas_SF.shape"
   ]
  },
  {
   "attachments": {},
   "cell_type": "markdown",
   "metadata": {},
   "source": [
    "Union de pacientes programas con las empresas"
   ]
  },
  {
   "cell_type": "code",
   "execution_count": 41,
   "metadata": {
    "notebookRunGroups": {
     "groupValue": "1"
    }
   },
   "outputs": [
    {
     "data": {
      "text/plain": [
       "(1188951, 15)"
      ]
     },
     "execution_count": 41,
     "metadata": {},
     "output_type": "execute_result"
    }
   ],
   "source": [
    "#Union de Pacientes Programas y Programas por empresa\n",
    "empresas_unidas = pd.merge(\n",
    "    left=Paciente_Programas_SF,\n",
    "    right=Programas_pacientes,\n",
    "    how=\"left\",\n",
    "    left_on=\"Programas_por_Empresas__c\",\n",
    "    right_on=\"Programas_por_Empresas__c\",\n",
    ")\n",
    "empresas_unidas.shape"
   ]
  },
  {
   "cell_type": "code",
   "execution_count": 42,
   "metadata": {
    "notebookRunGroups": {
     "groupValue": "1"
    }
   },
   "outputs": [
    {
     "data": {
      "text/plain": [
       "(1188951, 24)"
      ]
     },
     "execution_count": 42,
     "metadata": {},
     "output_type": "execute_result"
    }
   ],
   "source": [
    "empresas_unidas = pd.merge(\n",
    "    left=empresas_unidas,\n",
    "    right=Pacientes_SF,\n",
    "    how=\"left\",\n",
    "    left_on=\"Paciente__c\",\n",
    "    right_on=\"Id Account Paciente\",\n",
    ")\n",
    "empresas_unidas.shape"
   ]
  },
  {
   "cell_type": "code",
   "execution_count": 43,
   "metadata": {
    "notebookRunGroups": {
     "groupValue": "1"
    }
   },
   "outputs": [
    {
     "data": {
      "text/plain": [
       "(1188951, 23)"
      ]
     },
     "execution_count": 43,
     "metadata": {},
     "output_type": "execute_result"
    }
   ],
   "source": [
    "empresas_unidas = empresas_unidas.rename(columns={\"Id\": \"Id Pacientes Programas\"})\n",
    "empresas_unidas = empresas_unidas[\n",
    "    [\n",
    "        \"Id Pacientes Programas\",\n",
    "        \"Paciente__c\",\n",
    "        \"Programas_por_Empresas__c\",\n",
    "        \"Id Account Empresa\",\n",
    "        \"Nombre Empresa\",\n",
    "        \"Holding\",\n",
    "        \"Campaña\",\n",
    "        \"Empleador\",\n",
    "        \"Poliza\",\n",
    "        \"Id Account Paciente\",\n",
    "        \"Rut\",\n",
    "        \"Nombre\",\n",
    "        \"Ocupacion\",\n",
    "        \"Cargo\",\n",
    "        \"Departamento\",\n",
    "        \"Sexo\",\n",
    "        \"Telefono\",\n",
    "        \"Tipo de Documento\",\n",
    "        \"Codigo EMP\",\n",
    "        \"Codigo A\",\n",
    "        \"Vigente\",\n",
    "        \"Corredor\",\n",
    "        \"Pais\",\n",
    "    ]\n",
    "]\n",
    "\n",
    "empresas_unidas.shape"
   ]
  },
  {
   "cell_type": "code",
   "execution_count": 44,
   "metadata": {
    "notebookRunGroups": {
     "groupValue": "1"
    }
   },
   "outputs": [],
   "source": [
    "# cantidad_de_PAcientes = pd.DataFrame()\n",
    "def cantidad_gente(corredor):\n",
    "    empresas_unidas2 = empresas_unidas[empresas_unidas[\"Corredor\"] == corredor]\n",
    "    empresas_unidas2 = empresas_unidas2.drop_duplicates(\n",
    "        subset=[\"Rut\", \"Empleador\", \"Poliza\",\"Nombre Empresa\"], keep=\"last\"\n",
    "    )\n",
    "    cantidad_de_PAcientes = empresas_unidas2.groupby([\"Poliza\", \"Empleador\"])[\n",
    "        \"Paciente__c\"\n",
    "    ].count()\n",
    "    cantidad_de_PAcientes = cantidad_de_PAcientes.reset_index()\n",
    "    # cantidad_de_PAcientes = cantidad_de_PAcientes[cantidad_de_PAcientes[\"Poliza\",\"Empleador\",\"count\"]]\n",
    "    Archivo_gente = \"F:/Reportes SF/MetLife/usuarios/\" + corredor + \"_gente.xlsx\"\n",
    "    cantidad_de_PAcientes.to_excel(Archivo_gente, index=False)\n",
    "    cantidad_de_PAcientes.shape"
   ]
  },
  {
   "attachments": {},
   "cell_type": "markdown",
   "metadata": {},
   "source": [
    "Terminado la visualizacion de las empresas y pacientes que se muestran en los reportes\n"
   ]
  },
  {
   "attachments": {},
   "cell_type": "markdown",
   "metadata": {},
   "source": [
    "Descarga desde Citas de Servicios"
   ]
  },
  {
   "cell_type": "code",
   "execution_count": 45,
   "metadata": {
    "notebookRunGroups": {
     "groupValue": "1"
    }
   },
   "outputs": [
    {
     "data": {
      "text/html": [
       "<div>\n",
       "<style scoped>\n",
       "    .dataframe tbody tr th:only-of-type {\n",
       "        vertical-align: middle;\n",
       "    }\n",
       "\n",
       "    .dataframe tbody tr th {\n",
       "        vertical-align: top;\n",
       "    }\n",
       "\n",
       "    .dataframe thead th {\n",
       "        text-align: right;\n",
       "    }\n",
       "</style>\n",
       "<table border=\"1\" class=\"dataframe\">\n",
       "  <thead>\n",
       "    <tr style=\"text-align: right;\">\n",
       "      <th></th>\n",
       "      <th>AppointmentNumber</th>\n",
       "      <th>RUT__c</th>\n",
       "      <th>Empresas</th>\n",
       "      <th>CreatedDate</th>\n",
       "      <th>Tipo_de_la_cita__c</th>\n",
       "      <th>Empresas Id</th>\n",
       "      <th>AccountId</th>\n",
       "      <th>Clinica__c</th>\n",
       "      <th>CreatedById</th>\n",
       "    </tr>\n",
       "  </thead>\n",
       "  <tbody>\n",
       "    <tr>\n",
       "      <th>0</th>\n",
       "      <td>FSA-12257</td>\n",
       "      <td>138959341</td>\n",
       "      <td>NaN</td>\n",
       "      <td>2023-03-11T12:30:20.000+0000</td>\n",
       "      <td>Video</td>\n",
       "      <td>NaN</td>\n",
       "      <td>0018c00002amSUbAAM</td>\n",
       "      <td>Clínica de Psicología</td>\n",
       "      <td>0058c00000DcdOjAAJ</td>\n",
       "    </tr>\n",
       "    <tr>\n",
       "      <th>1</th>\n",
       "      <td>FSA-3124</td>\n",
       "      <td>183552252</td>\n",
       "      <td>NaN</td>\n",
       "      <td>2022-12-02T16:23:05.000+0000</td>\n",
       "      <td>Phone</td>\n",
       "      <td>NaN</td>\n",
       "      <td>0018c00002azpJ4AAI</td>\n",
       "      <td>Clínica de Nutrición</td>\n",
       "      <td>0058c00000DcdNnAAJ</td>\n",
       "    </tr>\n",
       "    <tr>\n",
       "      <th>2</th>\n",
       "      <td>FSA-11374</td>\n",
       "      <td>139187598</td>\n",
       "      <td>NaN</td>\n",
       "      <td>2023-03-03T17:16:41.000+0000</td>\n",
       "      <td>Phone</td>\n",
       "      <td>NaN</td>\n",
       "      <td>0018c00002amLVAAA2</td>\n",
       "      <td>Clínica de Nutrición</td>\n",
       "      <td>0058c00000DcdO5AAJ</td>\n",
       "    </tr>\n",
       "    <tr>\n",
       "      <th>3</th>\n",
       "      <td>FSA-10627</td>\n",
       "      <td>159754278</td>\n",
       "      <td>NaN</td>\n",
       "      <td>2023-02-24T13:00:37.000+0000</td>\n",
       "      <td>Phone</td>\n",
       "      <td>NaN</td>\n",
       "      <td>0018c00002bINLlAAO</td>\n",
       "      <td>Clínica de Nutrición</td>\n",
       "      <td>0058c00000DcdNnAAJ</td>\n",
       "    </tr>\n",
       "    <tr>\n",
       "      <th>4</th>\n",
       "      <td>FSA-12261</td>\n",
       "      <td>162332392</td>\n",
       "      <td>NaN</td>\n",
       "      <td>2023-03-11T12:44:57.000+0000</td>\n",
       "      <td>Phone</td>\n",
       "      <td>NaN</td>\n",
       "      <td>0018c00002cX820AAC</td>\n",
       "      <td>Clínica APSSex</td>\n",
       "      <td>0058c00000DcdOAAAZ</td>\n",
       "    </tr>\n",
       "  </tbody>\n",
       "</table>\n",
       "</div>"
      ],
      "text/plain": [
       "  AppointmentNumber     RUT__c  Empresas                   CreatedDate  \\\n",
       "0         FSA-12257  138959341       NaN  2023-03-11T12:30:20.000+0000   \n",
       "1          FSA-3124  183552252       NaN  2022-12-02T16:23:05.000+0000   \n",
       "2         FSA-11374  139187598       NaN  2023-03-03T17:16:41.000+0000   \n",
       "3         FSA-10627  159754278       NaN  2023-02-24T13:00:37.000+0000   \n",
       "4         FSA-12261  162332392       NaN  2023-03-11T12:44:57.000+0000   \n",
       "\n",
       "  Tipo_de_la_cita__c  Empresas Id           AccountId             Clinica__c  \\\n",
       "0              Video          NaN  0018c00002amSUbAAM  Clínica de Psicología   \n",
       "1              Phone          NaN  0018c00002azpJ4AAI   Clínica de Nutrición   \n",
       "2              Phone          NaN  0018c00002amLVAAA2   Clínica de Nutrición   \n",
       "3              Phone          NaN  0018c00002bINLlAAO   Clínica de Nutrición   \n",
       "4              Phone          NaN  0018c00002cX820AAC         Clínica APSSex   \n",
       "\n",
       "          CreatedById  \n",
       "0  0058c00000DcdOjAAJ  \n",
       "1  0058c00000DcdNnAAJ  \n",
       "2  0058c00000DcdO5AAJ  \n",
       "3  0058c00000DcdNnAAJ  \n",
       "4  0058c00000DcdOAAAZ  "
      ]
     },
     "execution_count": 45,
     "metadata": {},
     "output_type": "execute_result"
    }
   ],
   "source": [
    "# Citas de Servicio\n",
    "results = sf.query_all(\n",
    "    \"\"\"\n",
    "    SELECT Id, clinica__c,AccountId,CreatedDate,RUT__c,Work_TypeGroup__c,Status,Interacci_n__c,AppointmentNumber,Tipo_de_la_cita__c,CreatedById from ServiceAppointment\n",
    "    \"\"\"\n",
    ")\n",
    "\n",
    "\n",
    "Citas_de_servicio = pd.DataFrame(results[\"records\"])\n",
    "Citas_de_servicio['Empresas'] = np.nan\n",
    "#Citas_de_servicio['RUT__c'].map(pacientessf_empresas.set_index('IdentificationId__pc_x',verify_integrity=False)['Name']) \n",
    "Citas_de_servicio['Empresas Id'] = np.nan\n",
    "np.matrix\n",
    "Citas_de_servicio = Citas_de_servicio[\n",
    "    [\n",
    "        \"AppointmentNumber\",        \n",
    "        \"RUT__c\",  \n",
    "        'Empresas',      \n",
    "        \"CreatedDate\",\n",
    "        \"Tipo_de_la_cita__c\",\n",
    "        'Empresas Id',        \n",
    "        \"AccountId\",\n",
    "        'Clinica__c',\n",
    "        'CreatedById'\n",
    "        \n",
    "    ]\n",
    "]\n",
    "Citas_de_servicio[\"AppointmentNumber\"] = 'F' + Citas_de_servicio[\"AppointmentNumber\"]\n",
    "    \n",
    "Citas_de_servicio.head()\n"
   ]
  },
  {
   "cell_type": "code",
   "execution_count": 46,
   "metadata": {},
   "outputs": [],
   "source": [
    "Citas_de_servicio.to_excel(\"F:/Empresas SF/reportes/citas de servicio.xlsx\", index=False)"
   ]
  },
  {
   "cell_type": "code",
   "execution_count": 47,
   "metadata": {
    "notebookRunGroups": {
     "groupValue": "1"
    }
   },
   "outputs": [
    {
     "data": {
      "text/plain": [
       "(14695, 9)"
      ]
     },
     "execution_count": 47,
     "metadata": {},
     "output_type": "execute_result"
    }
   ],
   "source": [
    "# Citas de Servicio Orientacion\n",
    "results = sf.query_all(\n",
    "    \"\"\"\n",
    "    SELECT Id, AccountId,CreatedDate,RUT__c,WorkTypeId,Work_TypeGroup__c,Status,Interacci_n__c,Tipo_de_la_cita__c,AppointmentNumber,CreatedById from ServiceAppointment\n",
    "    \"\"\"\n",
    ")\n",
    "Citas_de_servicio2 = pd.DataFrame(results[\"records\"])\n",
    "Citas_de_servicio2['Clinica__c'] = 'Orientación Médica'\n",
    "Citas_de_servicio2['Empresas'] = np.nan\n",
    "Citas_de_servicio2['Empresas Id'] = np.nan\n",
    "Citas_de_servicio2 = Citas_de_servicio2[\n",
    "    [\n",
    "        \"AppointmentNumber\",        \n",
    "        \"RUT__c\",  \n",
    "        'Empresas',      \n",
    "        \"CreatedDate\",\n",
    "        \"Tipo_de_la_cita__c\",\n",
    "        'Empresas Id',       \n",
    "        \"AccountId\",\n",
    "        'Clinica__c',\n",
    "        'CreatedById'\n",
    "        \n",
    "    ]\n",
    "]\n",
    "Citas_de_servicio2.shape\n"
   ]
  },
  {
   "cell_type": "code",
   "execution_count": 48,
   "metadata": {
    "notebookRunGroups": {
     "groupValue": "1"
    }
   },
   "outputs": [
    {
     "data": {
      "text/plain": [
       "(29390, 9)"
      ]
     },
     "execution_count": 48,
     "metadata": {},
     "output_type": "execute_result"
    }
   ],
   "source": [
    "#unir dos citas\n",
    "Gran_Citas_deservicio = pd.concat([Citas_de_servicio, Citas_de_servicio2], axis=0)\n",
    "Gran_Citas_deservicio = Gran_Citas_deservicio.rename(\n",
    "    columns={\n",
    "        \"AppointmentNumber\": \"Codigo Ficha\",\n",
    "        \"RUT__c\": \"Rut\",\n",
    "        \"Empresas\": \"Empleador\",\n",
    "        \"CreatedDate\": \"Fecha\",\n",
    "        \"Tipo_de_la_cita__c\": \"Canal\",\n",
    "        \"Empresas Id\": \"Cod. Empresa\",\n",
    "        \"AccountId\": \"Id Paciente\",        \n",
    "        'Clinica__c':'Clínica',\n",
    "        'CreatedById':'Creado'\n",
    "    }\n",
    ")\n",
    "\n",
    "Gran_Citas_deservicio.shape"
   ]
  },
  {
   "cell_type": "code",
   "execution_count": 49,
   "metadata": {
    "notebookRunGroups": {
     "groupValue": "1"
    }
   },
   "outputs": [
    {
     "data": {
      "text/plain": [
       "(2041, 9)"
      ]
     },
     "execution_count": 49,
     "metadata": {},
     "output_type": "execute_result"
    }
   ],
   "source": [
    "#Clinica_deporte\n",
    "results = sf.query_all(\n",
    "    \"\"\"\n",
    "   SELECT id,Name,Rut__c,Nombre_Empresa__c,CreatedDate,Canal__c, Empresa__c, Account__c,CreatedById from Ficha_Cl_nica_Deporte__c\n",
    "     \"\"\"\n",
    ")\n",
    "ficha_deporte = pd.DataFrame(results[\"records\"])\n",
    "\n",
    "ficha_deporte = ficha_deporte[\n",
    "    [\n",
    "        \"Name\",\n",
    "        \"Rut__c\",\n",
    "        \"Nombre_Empresa__c\",\n",
    "        \"CreatedDate\",\n",
    "        \"Canal__c\",\n",
    "        \"Empresa__c\",\n",
    "        \"Account__c\",\n",
    "        'CreatedById',\n",
    "        \n",
    "    ]\n",
    "]\n",
    "ficha_deporte['clinica'] = 'Deporte'\n",
    "ficha_deporte = ficha_deporte.rename(\n",
    "    columns={\n",
    "        \"Name\": \"Codigo Ficha\",\n",
    "        \"Rut__c\": \"Rut\",\n",
    "        \"Nombre_Empresa__c\": \"Empleador\",\n",
    "        \"CreatedDate\": \"Fecha\",\n",
    "        \"Canal__c\": \"Canal\",\n",
    "        \"Empresa__c\": \"Cod. Empresa\",\n",
    "        \"Account__c\": \"Id Paciente\",        \n",
    "        'clinica':'Clínica',\n",
    "        'CreatedById':'Creado'\n",
    "    }\n",
    "            )\n",
    "ficha_deporte.shape\n"
   ]
  },
  {
   "cell_type": "code",
   "execution_count": 50,
   "metadata": {
    "notebookRunGroups": {
     "groupValue": "1"
    }
   },
   "outputs": [
    {
     "data": {
      "text/plain": [
       "(4508, 9)"
      ]
     },
     "execution_count": 50,
     "metadata": {},
     "output_type": "execute_result"
    }
   ],
   "source": [
    "# Clinica Nutricion\n",
    "results = sf.query_all(\n",
    "    \"\"\"\n",
    "   select  Name, RUT__c, Nombre_Empresa__c, CreatedDate, Canal__c, Empresa__c, Account__c,CreatedById from Ficha_Clinica_Nutrici_n__c \n",
    "     \"\"\"\n",
    ")\n",
    "ficha_nutricion = pd.DataFrame(results[\"records\"])\n",
    "\n",
    "ficha_nutricion = ficha_nutricion[\n",
    "    [\n",
    "        \"Name\",\n",
    "        \"RUT__c\",\n",
    "        \"Nombre_Empresa__c\",\n",
    "        \"CreatedDate\",\n",
    "        \"Canal__c\",\n",
    "        \"Empresa__c\",\n",
    "        \"Account__c\",\n",
    "        'CreatedById',\n",
    "        \n",
    "    ]\n",
    "]\n",
    "ficha_nutricion[\"clinica\"] = \"Nutrición\"\n",
    "\n",
    "ficha_nutricion = ficha_nutricion.rename(\n",
    "    columns={\n",
    "        \"Name\": \"Codigo Ficha\",\n",
    "        \"RUT__c\": \"Rut\",\n",
    "        \"Nombre_Empresa__c\": \"Empleador\",\n",
    "        \"CreatedDate\": \"Fecha\",\n",
    "        \"Canal__c\": \"Canal\",\n",
    "        \"Empresa__c\": \"Cod. Empresa\",\n",
    "        \"Account__c\": \"Id Paciente\",\n",
    "        'clinica':'Clínica',\n",
    "        'CreatedById':'Creado'\n",
    "    }\n",
    ")\n",
    "\n",
    "\n",
    "ficha_nutricion.shape"
   ]
  },
  {
   "cell_type": "code",
   "execution_count": 51,
   "metadata": {
    "notebookRunGroups": {
     "groupValue": "1"
    }
   },
   "outputs": [
    {
     "data": {
      "text/plain": [
       "(19, 9)"
      ]
     },
     "execution_count": 51,
     "metadata": {},
     "output_type": "execute_result"
    }
   ],
   "source": [
    "#Clinica AppSex\n",
    "results = sf.query_all(\n",
    "    \"\"\"\n",
    "   select  Name, Rut__c, Nombre_Empresa__c, CreatedDate, Canal__c, Empresa__c, Account__c, RecordTypeId,CreatedById from Ficha_Cl_nica_ApsSex__c \n",
    "     \"\"\"\n",
    ")\n",
    "ficha_Apssex = pd.DataFrame(results[\"records\"])\n",
    "\n",
    "ficha_Apssex = ficha_Apssex[\n",
    "    [\n",
    "        \"Name\",\n",
    "        \"Rut__c\",\n",
    "        \"Nombre_Empresa__c\",\n",
    "        \"CreatedDate\",\n",
    "        \"Canal__c\",\n",
    "        \"Empresa__c\",\n",
    "        \"Account__c\",\n",
    "        'CreatedById',\n",
    "        \n",
    "    ]\n",
    "]\n",
    "ficha_Apssex['clinica'] = 'Asesoría Psicologíca en Salud Sexual'\n",
    "ficha_Apssex = ficha_Apssex.rename(\n",
    "    columns={\n",
    "        \"Name\": \"Codigo Ficha\",\n",
    "        \"Rut__c\": \"Rut\",\n",
    "        \"Nombre_Empresa__c\": \"Empleador\",\n",
    "        \"CreatedDate\": \"Fecha\",\n",
    "        \"Canal__c\": \"Canal\",\n",
    "        \"Empresa__c\": \"Cod. Empresa\",\n",
    "        \"Account__c\": \"Id Paciente\",\n",
    "        'clinica':'Clínica',\n",
    "        'CreatedById':'Creado'\n",
    "    }\n",
    ")\n",
    "\n",
    "ficha_Apssex.shape"
   ]
  },
  {
   "cell_type": "code",
   "execution_count": 52,
   "metadata": {
    "notebookRunGroups": {
     "groupValue": "1"
    }
   },
   "outputs": [
    {
     "data": {
      "text/plain": [
       "(3133, 10)"
      ]
     },
     "execution_count": 52,
     "metadata": {},
     "output_type": "execute_result"
    }
   ],
   "source": [
    "# Clinica Psicologia\n",
    "results = sf.query_all(\n",
    "    \"\"\"\n",
    "   select  Name, Rut__c, Nombre_Empresa__c, CreatedDate, Canal__c, Empresa__c, Account__c, RecordTypeId,Motivo_de_consulta_manifiesto__c,CreatedById from Ficha_Cl_nica_Asistencia_Emocional__c \n",
    "     \"\"\"\n",
    ")\n",
    "ficha_Psicologia = pd.DataFrame(results[\"records\"])\n",
    "\n",
    "ficha_Psicologia = ficha_Psicologia[\n",
    "    [\n",
    "        \"Name\",\n",
    "        \"Rut__c\",\n",
    "        \"Nombre_Empresa__c\",\n",
    "        \"CreatedDate\",\n",
    "        \"Canal__c\",\n",
    "        \"Empresa__c\",\n",
    "        \"Account__c\",\n",
    "        \"Motivo_de_consulta_manifiesto__c\",\n",
    "        'CreatedById',\n",
    "    ]\n",
    "]\n",
    "ficha_Psicologia[\"clinica\"] = \"Psicología\"\n",
    "ficha_Psicologia.Motivo_de_consulta_manifiesto__c.fillna(0, inplace=True)\n",
    "ficha_Psicologia['Motivo_de_consulta_manifiesto__c'] = np.where(ficha_Psicologia['Motivo_de_consulta_manifiesto__c']== 0 ,'Otras Derivaciones',ficha_Psicologia['Motivo_de_consulta_manifiesto__c'] )\n",
    "#ficha_Psicologia['77'] = len(ficha_Psicologia['Motivo_de_consulta_manifiesto__c'])\n",
    "ficha_Psicologia = ficha_Psicologia.rename(\n",
    "    columns={\n",
    "        \"Name\": \"Codigo Ficha\",\n",
    "        \"Rut__c\": \"Rut\",\n",
    "        \"Nombre_Empresa__c\": \"Empleador\",\n",
    "        \"CreatedDate\": \"Fecha\",\n",
    "        \"Canal__c\": \"Canal\",\n",
    "        \"Empresa__c\": \"Cod. Empresa\",\n",
    "        \"Account__c\": \"Id Paciente\",\n",
    "        \"clinica\": \"Clínica\",\n",
    "        \"Motivo_de_consulta_manifiesto__c\": \"Motivo de consulta\",\n",
    "        'CreatedById':'Creado'\n",
    "    }\n",
    ")\n",
    "\n",
    "ficha_Psicologia.shape"
   ]
  },
  {
   "cell_type": "code",
   "execution_count": 53,
   "metadata": {
    "notebookRunGroups": {
     "groupValue": "1"
    }
   },
   "outputs": [
    {
     "data": {
      "text/plain": [
       "(416, 9)"
      ]
     },
     "execution_count": 53,
     "metadata": {},
     "output_type": "execute_result"
    }
   ],
   "source": [
    "#Clinica Sueño\n",
    "results = sf.query_all(\n",
    "    \"\"\"\n",
    "   select  Name, RUT__c, Nombre_Empresa__c, CreatedDate, Canal__c, Empresa__c, Account__c, RecordTypeId,CreatedById from Ficha_Cl_nica_del_Sue_o__c \n",
    "     \"\"\"\n",
    ")\n",
    "ficha_Sueno = pd.DataFrame(results[\"records\"])\n",
    "ficha_Sueno = ficha_Sueno[\n",
    "    [\n",
    "        \"Name\",\n",
    "        \"Rut__c\",\n",
    "        \"Nombre_Empresa__c\",\n",
    "        \"CreatedDate\",\n",
    "        \"Canal__c\",\n",
    "        \"Empresa__c\",\n",
    "        \"Account__c\",\n",
    "        'CreatedById',\n",
    "    ]\n",
    "]\n",
    "ficha_Sueno['clinica'] = 'Clínica Del Sueño'\n",
    "ficha_Sueno = ficha_Sueno.rename(\n",
    "    columns={\n",
    "        \"Name\": \"Codigo Ficha\",\n",
    "        \"Rut__c\": \"Rut\",\n",
    "        \"Nombre_Empresa__c\": \"Empleador\",\n",
    "        \"CreatedDate\": \"Fecha\",\n",
    "        \"Canal__c\": \"Canal\",\n",
    "        \"Empresa__c\": \"Cod. Empresa\",\n",
    "        \"Account__c\": \"Id Paciente\",\n",
    "        'clinica':'Clínica',\n",
    "        'CreatedById':'Creado'\n",
    "    }\n",
    ")\n",
    "ficha_Sueno.shape"
   ]
  },
  {
   "cell_type": "code",
   "execution_count": 54,
   "metadata": {
    "notebookRunGroups": {
     "groupValue": "1"
    }
   },
   "outputs": [
    {
     "data": {
      "text/plain": [
       "(1598, 9)"
      ]
     },
     "execution_count": 54,
     "metadata": {},
     "output_type": "execute_result"
    }
   ],
   "source": [
    "#Clinica PAciente Cronico\n",
    "results = sf.query_all(\n",
    "    \"\"\"\n",
    "   select  Name, RUT__c, Nombre_Empresa__c, CreatedDate, Canal__c, Empresa__c, Account__c,CreatedById from Ficha_Cl_nica_Seg_Paciente_Cr_nico__c  \n",
    "     \"\"\"\n",
    ")\n",
    "ficha_Cronico = pd.DataFrame(results[\"records\"])\n",
    "ficha_Cronico = ficha_Cronico[\n",
    "    [\n",
    "        \"Name\",\n",
    "        \"Rut__c\",\n",
    "        \"Nombre_Empresa__c\",\n",
    "        \"CreatedDate\",\n",
    "        \"Canal__c\",\n",
    "        \"Empresa__c\",\n",
    "        \"Account__c\",\n",
    "        'CreatedById'\n",
    "    ]\n",
    "]\n",
    "ficha_Cronico['clinica'] = 'Pacientes Crónicos'\n",
    "ficha_Cronico = ficha_Cronico.rename(\n",
    "    columns={\n",
    "        \"Name\": \"Codigo Ficha\",\n",
    "        \"Rut__c\": \"Rut\",\n",
    "        \"Nombre_Empresa__c\": \"Empleador\",\n",
    "        \"CreatedDate\": \"Fecha\",\n",
    "        \"Canal__c\": \"Canal\",\n",
    "        \"Empresa__c\": \"Cod. Empresa\",\n",
    "        \"Account__c\": \"Id Paciente\",\n",
    "        'clinica':'Clínica',\n",
    "        'CreatedById':'Creado'\n",
    "    }\n",
    ")\n",
    "ficha_Cronico.shape"
   ]
  },
  {
   "cell_type": "code",
   "execution_count": 55,
   "metadata": {
    "notebookRunGroups": {
     "groupValue": "1"
    }
   },
   "outputs": [
    {
     "data": {
      "text/plain": [
       "(5151, 9)"
      ]
     },
     "execution_count": 55,
     "metadata": {},
     "output_type": "execute_result"
    }
   ],
   "source": [
    "#Clinica Telemedicina\n",
    "results = sf.query_all(\n",
    "    \"\"\"\n",
    "   select  Name, RUT__c, Nombre_Empresa__c, CreatedDate, Canal__c, Empresa__c, Account__c,CreatedById from Ficha_Cl_nica_Telemedicina__c   \n",
    "     \"\"\"\n",
    ")\n",
    "ficha_Telemedicina = pd.DataFrame(results[\"records\"])\n",
    "ficha_Telemedicina = ficha_Telemedicina[\n",
    "    [\n",
    "        \"Name\",\n",
    "        \"Rut__c\",\n",
    "        \"Nombre_Empresa__c\",\n",
    "        \"CreatedDate\",\n",
    "        \"Canal__c\",\n",
    "        \"Empresa__c\",\n",
    "        \"Account__c\",\n",
    "        'CreatedById'\n",
    "    ]\n",
    "]\n",
    "ficha_Telemedicina['clinica'] = 'Telemedicina'\n",
    "ficha_Telemedicina = ficha_Telemedicina.rename(\n",
    "    columns={\n",
    "        \"Name\": \"Codigo Ficha\",\n",
    "        \"Rut__c\": \"Rut\",\n",
    "        \"Nombre_Empresa__c\": \"Empleador\",\n",
    "        \"CreatedDate\": \"Fecha\",\n",
    "        \"Canal__c\": \"Canal\",\n",
    "        \"Empresa__c\": \"Cod. Empresa\",\n",
    "        \"Account__c\": \"Id Paciente\",        \n",
    "        'clinica':'Clínica',\n",
    "        'CreatedById':'Creado'\n",
    "    }\n",
    ")\n",
    "ficha_Telemedicina.shape"
   ]
  },
  {
   "cell_type": "code",
   "execution_count": 56,
   "metadata": {
    "notebookRunGroups": {
     "groupValue": "1"
    }
   },
   "outputs": [
    {
     "data": {
      "text/plain": [
       "(45, 9)"
      ]
     },
     "execution_count": 56,
     "metadata": {},
     "output_type": "execute_result"
    }
   ],
   "source": [
    "#Clinica Veterinaria\n",
    "results = sf.query_all(\n",
    "    \"\"\"\n",
    "   select  Name, RUT__c, Nombre_Empresa__c, CreatedDate, Canal__c, Empresa__c,CreatedById, Account__c from Ficha_Cl_nica_Veterinaria__c    \n",
    "     \"\"\"\n",
    ")\n",
    "ficha_Veterinaria = pd.DataFrame(results[\"records\"])\n",
    "ficha_Veterinaria = ficha_Veterinaria[\n",
    "    [\n",
    "        \"Name\",\n",
    "        \"Rut__c\",\n",
    "        \"Nombre_Empresa__c\",\n",
    "        \"CreatedDate\",\n",
    "        \"Canal__c\",\n",
    "        \"Empresa__c\",\n",
    "        \"Account__c\",\n",
    "        'CreatedById'\n",
    "    ]\n",
    "]\n",
    "ficha_Veterinaria['clinica'] = 'Veterinaria'\n",
    "ficha_Veterinaria = ficha_Veterinaria.rename(\n",
    "    columns={\n",
    "        \"Name\": \"Codigo Ficha\",\n",
    "        \"Rut__c\": \"Rut\",\n",
    "        \"Nombre_Empresa__c\": \"Empleador\",\n",
    "        \"CreatedDate\": \"Fecha\",\n",
    "        \"Canal__c\": \"Canal\",\n",
    "        \"Empresa__c\": \"Cod. Empresa\",\n",
    "        \"Account__c\": \"Id Paciente\",\n",
    "        'clinica':'Clínica',\n",
    "        'CreatedById':'Creado'\n",
    "    }\n",
    ")\n",
    "ficha_Veterinaria.shape"
   ]
  },
  {
   "cell_type": "code",
   "execution_count": 57,
   "metadata": {
    "notebookRunGroups": {
     "groupValue": "1"
    }
   },
   "outputs": [
    {
     "data": {
      "text/plain": [
       "(109, 9)"
      ]
     },
     "execution_count": 57,
     "metadata": {},
     "output_type": "execute_result"
    }
   ],
   "source": [
    "# Clinica Orientacion\n",
    "results = sf.query_all(\n",
    "    \"\"\"\n",
    "   select  Name, RUT__c, Nombre_Empresa__c, CreatedDate, Canal__c, Empresa__c, Account__c,CreatedById from Ficha_Orientaci_n_Medica__c     \n",
    "     \"\"\"\n",
    ")\n",
    "ficha_Orientacion = pd.DataFrame(results[\"records\"])\n",
    "ficha_Orientacion = ficha_Orientacion[\n",
    "    [\n",
    "        \"Name\",\n",
    "        \"Rut__c\",\n",
    "        \"Nombre_Empresa__c\",\n",
    "        \"CreatedDate\",\n",
    "        \"Canal__c\",\n",
    "        \"Empresa__c\",\n",
    "        \"Account__c\",\n",
    "        'CreatedById'\n",
    "    ]\n",
    "]\n",
    "ficha_Orientacion[\"clinica\"] = \"Orientación Médica\"\n",
    "ficha_Orientacion = ficha_Orientacion.rename(\n",
    "    columns={\n",
    "        \"Name\": \"Codigo Ficha\",\n",
    "        \"Rut__c\": \"Rut\",\n",
    "        \"Nombre_Empresa__c\": \"Empleador\",\n",
    "        \"CreatedDate\": \"Fecha\",\n",
    "        \"Canal__c\": \"Canal\",\n",
    "        \"Empresa__c\": \"Cod. Empresa\",\n",
    "        \"Account__c\": \"Id Paciente\",\n",
    "        \"clinica\": \"Clínica\",\n",
    "        'CreatedById':'Creado'\n",
    "    }\n",
    ")\n",
    "ficha_Orientacion.shape"
   ]
  },
  {
   "cell_type": "code",
   "execution_count": 58,
   "metadata": {
    "notebookRunGroups": {
     "groupValue": "1"
    }
   },
   "outputs": [
    {
     "data": {
      "text/plain": [
       "(1149, 9)"
      ]
     },
     "execution_count": 58,
     "metadata": {},
     "output_type": "execute_result"
    }
   ],
   "source": [
    "# Clinica Front\n",
    "results = sf.query_all(\n",
    "    \"\"\"\n",
    "   select  Name, RUT__c, Nombre_Empresa__c, CreatedDate, Canal__c, Empresa__c, Account__c,CreatedById from Ficha_Front__c     \n",
    "     \"\"\"\n",
    ")\n",
    "ficha_Front = pd.DataFrame(results[\"records\"])\n",
    "\n",
    "ficha_Front = ficha_Front[\n",
    "    [\n",
    "        \"Name\",\n",
    "        \"Rut__c\",\n",
    "        \"Nombre_Empresa__c\",\n",
    "        \"CreatedDate\",\n",
    "        \"Canal__c\",\n",
    "        \"Empresa__c\",\n",
    "        \"Account__c\",\n",
    "        'CreatedById'\n",
    "    ]\n",
    "]\n",
    "ficha_Front[\"clinica\"] = \"Orientación Médica\"\n",
    "ficha_Front = ficha_Front.rename(\n",
    "    columns={\n",
    "        \"Name\": \"Codigo Ficha\",\n",
    "        \"Rut__c\": \"Rut\",\n",
    "        \"Nombre_Empresa__c\": \"Empleador\",\n",
    "        \"CreatedDate\": \"Fecha\",\n",
    "        \"Canal__c\": \"Canal\",\n",
    "        \"Empresa__c\": \"Cod. Empresa\",\n",
    "        \"Account__c\": \"Id Paciente\",\n",
    "        \"clinica\": \"Clínica\",\n",
    "        'CreatedById':'Creado'\n",
    "    }\n",
    ")\n",
    "ficha_Front.shape"
   ]
  },
  {
   "cell_type": "code",
   "execution_count": 59,
   "metadata": {
    "notebookRunGroups": {
     "groupValue": "1"
    }
   },
   "outputs": [
    {
     "data": {
      "text/plain": [
       "(1992, 9)"
      ]
     },
     "execution_count": 59,
     "metadata": {},
     "output_type": "execute_result"
    }
   ],
   "source": [
    "#Clinica_general\n",
    "results = sf.query_all(\n",
    "    \"\"\"\n",
    "   select  Name, RUT__c, Nombre_Empresa__c, CreatedDate, Canal__c, Empresa__c,Account__c, Programa__c,CreatedById   from Ficha_Clinica_General__c \n",
    "     \"\"\"\n",
    ")\n",
    "ficha_general = pd.DataFrame(results[\"records\"])\n",
    "\n",
    "ficha_general = ficha_general[\n",
    "    [\n",
    "        \"Name\",\n",
    "        \"Rut__c\",\n",
    "        \"Nombre_Empresa__c\",\n",
    "        \"CreatedDate\",\n",
    "        \"Canal__c\",\n",
    "        \"Empresa__c\",\n",
    "        \"Account__c\",\n",
    "        'Programa__c',\n",
    "        'CreatedById'\n",
    "        \n",
    "    ]\n",
    "]\n",
    "\n",
    "ficha_general = ficha_general.rename(\n",
    "    columns={\n",
    "        \"Name\": \"Codigo Ficha\",\n",
    "        \"Rut__c\": \"Rut\",\n",
    "        \"Nombre_Empresa__c\": \"Empleador\",\n",
    "        \"CreatedDate\": \"Fecha\",\n",
    "        \"Canal__c\": \"Canal\",\n",
    "        \"Empresa__c\": \"Cod. Empresa\",\n",
    "        \"Account__c\": \"Id Paciente\",        \n",
    "        'Programa__c':'Clínica',\n",
    "        'CreatedById':'Creado'\n",
    "    }\n",
    ")\n",
    "ficha_general.shape\n"
   ]
  },
  {
   "cell_type": "code",
   "execution_count": 60,
   "metadata": {
    "notebookRunGroups": {
     "groupValue": "1"
    }
   },
   "outputs": [
    {
     "data": {
      "text/plain": [
       "(268, 9)"
      ]
     },
     "execution_count": 60,
     "metadata": {},
     "output_type": "execute_result"
    }
   ],
   "source": [
    "#Clinica Ingreso deportivo\n",
    "results = sf.query_all(\n",
    "    \"\"\"\n",
    "   select  Name, RUT__c, Nombre_Empresa__c, CreatedDate, Canal__c, Empresa__c, Account__c,CreatedById from Ficha_Cl_nica_Ingreso_Deportivo__c    \n",
    "     \"\"\"\n",
    ")\n",
    "ficha_Ingreso_dep = pd.DataFrame(results[\"records\"])\n",
    "\n",
    "ficha_Ingreso_dep = ficha_Ingreso_dep[\n",
    "    [\n",
    "        \"Name\",\n",
    "        \"Rut__c\",\n",
    "        \"Nombre_Empresa__c\",\n",
    "        \"CreatedDate\",\n",
    "        \"Canal__c\",\n",
    "        \"Empresa__c\",\n",
    "        \"Account__c\",\n",
    "        'CreatedById'\n",
    "        \n",
    "    ]\n",
    "]\n",
    "ficha_Ingreso_dep['clinica'] = 'Ingreso Deporte Seguro'\n",
    "ficha_Ingreso_dep = ficha_Ingreso_dep.rename(\n",
    "    columns={\n",
    "        \"Name\": \"Codigo Ficha\",\n",
    "        \"Rut__c\": \"Rut\",\n",
    "        \"Nombre_Empresa__c\": \"Empleador\",\n",
    "        \"CreatedDate\": \"Fecha\",\n",
    "        \"Canal__c\": \"Canal\",\n",
    "        \"Empresa__c\": \"Cod. Empresa\",\n",
    "        \"Account__c\": \"Id Paciente\",\n",
    "        'clinica':'Clínica',\n",
    "        'CreatedById':'Creado'\n",
    "    }\n",
    ")\n",
    "ficha_Ingreso_dep.shape"
   ]
  },
  {
   "cell_type": "code",
   "execution_count": null,
   "metadata": {},
   "outputs": [],
   "source": []
  },
  {
   "cell_type": "code",
   "execution_count": 61,
   "metadata": {},
   "outputs": [
    {
     "data": {
      "text/plain": [
       "(5, 9)"
      ]
     },
     "execution_count": 61,
     "metadata": {},
     "output_type": "execute_result"
    }
   ],
   "source": [
    "#Clinica mis primeros pasos\n",
    "results = sf.query_all(\n",
    "    \"\"\"\n",
    "   select  Name,Rut__c,Nombre_Empresa__c, CreatedDate, Canal__c, Empresa__c, Cuenta__c,  CreatedById from Ficha_Mis_Primeros_Pasos__c   \n",
    "     \"\"\"\n",
    ")\n",
    "ficha_Mis_Pri = pd.DataFrame(results[\"records\"])\n",
    "\n",
    "ficha_Mis_Pri = ficha_Mis_Pri[\n",
    "    [\n",
    "        \"Name\",\n",
    "        \"Rut__c\",\n",
    "        \"Nombre_Empresa__c\",\n",
    "        \"CreatedDate\",\n",
    "        \"Canal__c\",\n",
    "        \"Empresa__c\",\n",
    "        \"Cuenta__c\",\n",
    "        'CreatedById'\n",
    "        \n",
    "    ]\n",
    "]\n",
    "ficha_Mis_Pri['clinica'] = 'Mis Primeros Pasos'\n",
    "ficha_Mis_Pri = ficha_Mis_Pri.rename(\n",
    "    columns={\n",
    "        \"Name\": \"Codigo Ficha\",\n",
    "        \"Rut__c\": \"Rut\",\n",
    "        \"Nombre_Empresa__c\": \"Empleador\",\n",
    "        \"CreatedDate\": \"Fecha\",\n",
    "        \"Canal__c\": \"Canal\",\n",
    "        \"Empresa__c\": \"Cod. Empresa\",\n",
    "        \"Cuenta__c\": \"Id Paciente\",\n",
    "        'clinica':'Clínica',\n",
    "        'CreatedById':'Creado'\n",
    "    }\n",
    ")\n",
    "ficha_Mis_Pri.shape"
   ]
  },
  {
   "cell_type": "code",
   "execution_count": 62,
   "metadata": {},
   "outputs": [
    {
     "data": {
      "text/plain": [
       "(1, 9)"
      ]
     },
     "execution_count": 62,
     "metadata": {},
     "output_type": "execute_result"
    }
   ],
   "source": [
    "#Clinica Ergonomia\n",
    "results = sf.query_all(\n",
    "    \"\"\"\n",
    "   select  Name,Rut__c,Nombre_de_Empresa__c,  CreatedDate, Canal__c, Empresa__c, Cuenta__c,  CreatedById from Ficha_de_Ergonomia__c    \n",
    "     \"\"\"\n",
    ")\n",
    "Ficha_Ergonomia = pd.DataFrame(results[\"records\"])\n",
    "\n",
    "Ficha_Ergonomia = Ficha_Ergonomia[\n",
    "    [\n",
    "        \"Name\",\n",
    "        \"Rut__c\",\n",
    "        \"Nombre_de_Empresa__c\",\n",
    "        \"CreatedDate\",\n",
    "        \"Canal__c\",\n",
    "        \"Empresa__c\",\n",
    "        \"Cuenta__c\",\n",
    "        'CreatedById'\n",
    "        \n",
    "    ]\n",
    "]\n",
    "Ficha_Ergonomia['clinica'] = 'Ergonomía'\n",
    "Ficha_Ergonomia = Ficha_Ergonomia.rename(\n",
    "    columns={\n",
    "        \"Name\": \"Codigo Ficha\",\n",
    "        \"Rut__c\": \"Rut\",\n",
    "        \"Nombre_de_Empresa__c\": \"Empleador\",\n",
    "        \"CreatedDate\": \"Fecha\",\n",
    "        \"Canal__c\": \"Canal\",\n",
    "        \"Empresa__c\": \"Cod. Empresa\",\n",
    "        \"Cuenta__c\": \"Id Paciente\",\n",
    "        'clinica':'Clínica',\n",
    "        'CreatedById':'Creado'\n",
    "    }\n",
    ")\n",
    "Ficha_Ergonomia.shape"
   ]
  },
  {
   "cell_type": "code",
   "execution_count": 63,
   "metadata": {},
   "outputs": [
    {
     "data": {
      "text/plain": [
       "(304, 9)"
      ]
     },
     "execution_count": 63,
     "metadata": {},
     "output_type": "execute_result"
    }
   ],
   "source": [
    "# Ficha Activacion\n",
    "results = sf.query_all(\n",
    "    \"\"\"\n",
    "   select  Name,Rut__c, Empresas__c, Nombre_Empresa__c,  CreatedDate, Area__c,  Cuenta__c,  CreatedById from Activaciones__c    \n",
    "     \"\"\"\n",
    ")\n",
    "Ficha_Activacion = pd.DataFrame(results[\"records\"])\n",
    "\n",
    "Ficha_Activacion = Ficha_Activacion[\n",
    "    [\n",
    "        \"Name\",\n",
    "        \"Rut__c\",\n",
    "        \"Nombre_Empresa__c\",\n",
    "        \"CreatedDate\",\n",
    "        \"Empresas__c\",\n",
    "        \"Cuenta__c\",\n",
    "        \"CreatedById\",\n",
    "        \"Area__c\",\n",
    "    ]\n",
    "]\n",
    "Ficha_Activacion[\"Canal\"] = \"Presencial\"\n",
    "Ficha_Activacion = Ficha_Activacion.rename(\n",
    "    columns={\n",
    "        \"Name\": \"Codigo Ficha\",\n",
    "        \"Rut__c\": \"Rut\",\n",
    "        \"Nombre_de_Empresa__c\": \"Empleador\",\n",
    "        \"CreatedDate\": \"Fecha\",\n",
    "        \"Empresa__c\": \"Cod. Empresa\",\n",
    "        \"Cuenta__c\": \"Id Paciente\",\n",
    "        \"clinica\": \"Clínica\",\n",
    "        \"CreatedById\": \"Creado\",\n",
    "        \"Area__c\": \"Clínica\",\n",
    "    }\n",
    ")\n",
    "Ficha_Activacion.shape"
   ]
  },
  {
   "cell_type": "code",
   "execution_count": 64,
   "metadata": {
    "notebookRunGroups": {
     "groupValue": "1"
    }
   },
   "outputs": [
    {
     "data": {
      "text/plain": [
       "(20739, 12)"
      ]
     },
     "execution_count": 64,
     "metadata": {},
     "output_type": "execute_result"
    }
   ],
   "source": [
    "Clinicas = pd.concat(\n",
    "    [\n",
    "        ficha_Front,\n",
    "        ficha_Ingreso_dep,\n",
    "        ficha_Orientacion,\n",
    "        ficha_Veterinaria,\n",
    "        ficha_Telemedicina,\n",
    "        ficha_Cronico,\n",
    "        ficha_Sueno,\n",
    "        ficha_Psicologia,\n",
    "        ficha_Apssex,\n",
    "        ficha_nutricion,\n",
    "        ficha_deporte,\n",
    "        ficha_general,\n",
    "        ficha_Mis_Pri,\n",
    "        Ficha_Ergonomia,\n",
    "        Ficha_Activacion,\n",
    "    ],\n",
    "    axis=0,\n",
    ")\n",
    "Clinicas.shape"
   ]
  },
  {
   "cell_type": "code",
   "execution_count": 65,
   "metadata": {
    "notebookRunGroups": {
     "groupValue": "1"
    }
   },
   "outputs": [
    {
     "data": {
      "text/plain": [
       "(50129, 12)"
      ]
     },
     "execution_count": 65,
     "metadata": {},
     "output_type": "execute_result"
    }
   ],
   "source": [
    "Reortes_general = pd.concat([Clinicas,Gran_Citas_deservicio ], axis=0)\n",
    "Reortes_general.shape"
   ]
  },
  {
   "cell_type": "code",
   "execution_count": 66,
   "metadata": {
    "notebookRunGroups": {
     "groupValue": "1"
    }
   },
   "outputs": [],
   "source": [
    "Reortes_general[\"Dia\"] = pd.to_datetime(Reortes_general[\"Fecha\"]).dt.day\n",
    "\n",
    "Reortes_general[\"Mes\"] = pd.to_datetime(Reortes_general[\"Fecha\"]).dt.month\n",
    "\n",
    "Reortes_general[\"semana\"] = pd.to_datetime(Reortes_general[\"Fecha\"]).dt.month_name()\n",
    "\n",
    "Reortes_general[\"Año\"] = pd.to_datetime(Reortes_general[\"Fecha\"]).dt.year\n",
    "\n",
    "\n",
    "# x = date(Citas_de_servicio['Dia'], Citas_de_servicio['Mes'], Citas_de_servicio['Año'] )\n",
    "Reortes_general[\"Fecha_chilena\"] = pd.to_datetime(\n",
    "    Reortes_general[\"Fecha\"], dayfirst=True, yearfirst=False, exact=True\n",
    ")\n",
    "Reortes_general[\"Fecha_chilena2\"] = Reortes_general[\"Fecha_chilena\"].dt.strftime(\n",
    "    \"%d-%m-%Y\"\n",
    ")\n",
    "general_Sexo = {\n",
    "        \"M\": \"Hombre\",\n",
    "        \"m\": \"Hombre\",\n",
    "        \"Masculino\": \"Hombre\",\n",
    "        \"Femenino\": \"Mujer\",\n",
    "        \"\": \"Prefiero no responder\",\n",
    "        \"HOMBRE\": \"Hombre\",\n",
    "        \"MUJER\": \"Mujer\",\n",
    "        \"F\": \"Mujer\",\n",
    "        \"O\": \"O\",\n",
    "        \"Ambos\": \"Prefiero no responder\",\n",
    "        \"N\": \"Prefiero no responder\",\n",
    "        \"Otro\": \"Prefiero no responder\",\n",
    "        \"n\": \"Prefiero no responder\",\n",
    "        \"N\": \"Prefiero no responder\",\n",
    "        \"FEMENINO\": \"Mujer\",\n",
    "        \"f\": \"Mujer\",\n",
    "        \"MASCULINO\": \"Hombre\",\n",
    "        \"m\": \"Hombre\",\n",
    "        \"M \": \"Hombre\",\n",
    "        \"F \": \"Mujer\",\n",
    "        'Varón':'Hombre'      \n",
    "        \n",
    "    }\n",
    "\n",
    "\n",
    "clinicas_ = {\n",
    "    \"Clínica de Nutrición\": \"Nutrición\",\n",
    "    \"Clínica de Deporte\": \"Deporte\",\n",
    "    \"Clínica de Psicología\": \"Psicología\",\n",
    "    \"Clínica Ingreso Deportivo Seguro\": \"Deporte\",\n",
    "    \"Clínica del Sueño\": \"Clínica Del Sueño\",\n",
    "    \"Clínica Seguimiento Pacientes Crónicos\": \"Pacientes Crónicos\",\n",
    "    \"Orientación Médica\": \"Orientación Médica\",\n",
    "    \"Asesoría Deportiva\": \"Deporte\",\n",
    "    \"Asistencia Emocional\": \"Psicología\",\n",
    "    \"Asistencia Nutricional\": \"Nutrición\",\n",
    "    \"Clínica APSSex\": \"Asesoría Psicologíca en Salud Sexual\",\n",
    "    \"Clínica Del Sueño\": \"Clínica Del Sueño\",\n",
    "    \"Clínica Veterinaria\": \"Veterinaria\",\n",
    "    \"Ingreso Deportivo Seguro\": \"Deporte\",\n",
    "    \"Clínica Mis Primeros Pasos\": \"Mis Primeros Pasos\",\n",
    "    \"Ingreso Deporte Seguro\": \"Deporte\",\n",
    "}\n",
    "Reortes_general.replace({\"Clínica\": clinicas_}, inplace=True)\n",
    "\n",
    "Clinicas_metlife = {\n",
    "    \"Mis Primeros Pasos\": \"Pacientes Crónicos\",\n",
    "    \"Ingreso Deporte Seguro\": \"Deporte\",\n",
    "    \"Veterinaria\": \"Orientación Médica\",\n",
    "}\n",
    "\n",
    "Canal = {\n",
    "    \"Phone\": \"Teléfono\",\n",
    "    \"Video\": \"Videollamada\",\n",
    "    \"Entrante - Chat\": \"Entrante - Chat Online\",\n",
    "}\n",
    "Reortes_general.replace({\"Canal\": Canal}, inplace=True)\n",
    "\n",
    "meses = {\n",
    "    1: \"Enero\",\n",
    "    2: \"Febrero\",\n",
    "    3: \"Marzo\",\n",
    "    4: \"Abril\",\n",
    "    5: \"Mayo\",\n",
    "    6: \"Junio\",\n",
    "    7: \"Julio\",\n",
    "    8: \"Agosto\",\n",
    "    9: \"Septiembre\",\n",
    "    10: \"Octubre\",\n",
    "    11: \"Noviembre\",\n",
    "    12: \"Diciembre\",\n",
    "    }\n",
    "Reortes_general['Meses'] = Reortes_general['Mes']\n",
    "Reortes_general.replace({\"Meses\": meses}, inplace=True)\n",
    "Reortes_general[\"Fecha_chilena\"] = Reortes_general[\"Fecha_chilena\"].dt.tz_localize(None)\n",
    "Reortes_general.Rut.fillna(\"0\", inplace=True)\n",
    "Reortes_general.Canal.fillna(\"Sin Canal\", inplace=True)\n"
   ]
  },
  {
   "cell_type": "code",
   "execution_count": 75,
   "metadata": {},
   "outputs": [
    {
     "data": {
      "text/html": [
       "<div>\n",
       "<style scoped>\n",
       "    .dataframe tbody tr th:only-of-type {\n",
       "        vertical-align: middle;\n",
       "    }\n",
       "\n",
       "    .dataframe tbody tr th {\n",
       "        vertical-align: top;\n",
       "    }\n",
       "\n",
       "    .dataframe thead th {\n",
       "        text-align: right;\n",
       "    }\n",
       "</style>\n",
       "<table border=\"1\" class=\"dataframe\">\n",
       "  <thead>\n",
       "    <tr style=\"text-align: right;\">\n",
       "      <th></th>\n",
       "      <th>Codigo Ficha</th>\n",
       "      <th>Rut</th>\n",
       "      <th>Empleador</th>\n",
       "      <th>Fecha</th>\n",
       "      <th>Canal</th>\n",
       "      <th>Cod. Empresa</th>\n",
       "      <th>Id Paciente</th>\n",
       "      <th>Creado</th>\n",
       "      <th>Clínica</th>\n",
       "      <th>Motivo de consulta</th>\n",
       "      <th>Nombre_Empresa__c</th>\n",
       "      <th>Empresas__c</th>\n",
       "      <th>Dia</th>\n",
       "      <th>Mes</th>\n",
       "      <th>semana</th>\n",
       "      <th>Año</th>\n",
       "      <th>Fecha_chilena</th>\n",
       "      <th>Fecha_chilena2</th>\n",
       "      <th>Meses</th>\n",
       "    </tr>\n",
       "  </thead>\n",
       "  <tbody>\n",
       "    <tr>\n",
       "      <th>0</th>\n",
       "      <td>FFF-0358</td>\n",
       "      <td>200166892</td>\n",
       "      <td>Farmacias Cruz Verde S.A.</td>\n",
       "      <td>2023-02-13T18:31:03.000+0000</td>\n",
       "      <td>Entrante - Chat Online</td>\n",
       "      <td>a1Y8c00000C6VqyEAF</td>\n",
       "      <td>0018c00002amLv7AAE</td>\n",
       "      <td>0058c00000DcdNVAAZ</td>\n",
       "      <td>Orientación Médica</td>\n",
       "      <td>NaN</td>\n",
       "      <td>NaN</td>\n",
       "      <td>NaN</td>\n",
       "      <td>13</td>\n",
       "      <td>2</td>\n",
       "      <td>February</td>\n",
       "      <td>2023</td>\n",
       "      <td>2023-02-13 18:31:03</td>\n",
       "      <td>13-02-2023</td>\n",
       "      <td>Febrero</td>\n",
       "    </tr>\n",
       "    <tr>\n",
       "      <th>1</th>\n",
       "      <td>FFF-0035</td>\n",
       "      <td>181523778</td>\n",
       "      <td>Farmacias Ahumada S.A.</td>\n",
       "      <td>2023-01-24T18:31:33.000+0000</td>\n",
       "      <td>Entrante - WhatsApp</td>\n",
       "      <td>a1Y8c00000C6VINEA3</td>\n",
       "      <td>0018c00002amVPcAAM</td>\n",
       "      <td>0058c00000DcdNYAAZ</td>\n",
       "      <td>Orientación Médica</td>\n",
       "      <td>NaN</td>\n",
       "      <td>NaN</td>\n",
       "      <td>NaN</td>\n",
       "      <td>24</td>\n",
       "      <td>1</td>\n",
       "      <td>January</td>\n",
       "      <td>2023</td>\n",
       "      <td>2023-01-24 18:31:33</td>\n",
       "      <td>24-01-2023</td>\n",
       "      <td>Enero</td>\n",
       "    </tr>\n",
       "    <tr>\n",
       "      <th>2</th>\n",
       "      <td>FFF-0154</td>\n",
       "      <td>166090636</td>\n",
       "      <td>EY Audit SPA</td>\n",
       "      <td>2023-01-30T18:24:32.000+0000</td>\n",
       "      <td>Entrante - Chat Online</td>\n",
       "      <td>a1Y8c00000DxPM9EAN</td>\n",
       "      <td>0018c00002amSFbAAM</td>\n",
       "      <td>0058c00000DcdNVAAZ</td>\n",
       "      <td>Orientación Médica</td>\n",
       "      <td>NaN</td>\n",
       "      <td>NaN</td>\n",
       "      <td>NaN</td>\n",
       "      <td>30</td>\n",
       "      <td>1</td>\n",
       "      <td>January</td>\n",
       "      <td>2023</td>\n",
       "      <td>2023-01-30 18:24:32</td>\n",
       "      <td>30-01-2023</td>\n",
       "      <td>Enero</td>\n",
       "    </tr>\n",
       "    <tr>\n",
       "      <th>3</th>\n",
       "      <td>FFF-0088</td>\n",
       "      <td>164841448</td>\n",
       "      <td>Evaluaserve Chile S.A.</td>\n",
       "      <td>2023-01-26T14:25:58.000+0000</td>\n",
       "      <td>Entrante - Chat Online</td>\n",
       "      <td>a1Y8c00000Clq5uEAB</td>\n",
       "      <td>0018c00002b03a0AAA</td>\n",
       "      <td>0058c00000DcdNWAAZ</td>\n",
       "      <td>Orientación Médica</td>\n",
       "      <td>NaN</td>\n",
       "      <td>NaN</td>\n",
       "      <td>NaN</td>\n",
       "      <td>26</td>\n",
       "      <td>1</td>\n",
       "      <td>January</td>\n",
       "      <td>2023</td>\n",
       "      <td>2023-01-26 14:25:58</td>\n",
       "      <td>26-01-2023</td>\n",
       "      <td>Enero</td>\n",
       "    </tr>\n",
       "    <tr>\n",
       "      <th>4</th>\n",
       "      <td>FFF-0096</td>\n",
       "      <td>188075606</td>\n",
       "      <td>None</td>\n",
       "      <td>2023-01-26T17:29:57.000+0000</td>\n",
       "      <td>Entrante - Llamada</td>\n",
       "      <td>None</td>\n",
       "      <td>0018c00002eimgBAAQ</td>\n",
       "      <td>0058c00000DcdNVAAZ</td>\n",
       "      <td>Orientación Médica</td>\n",
       "      <td>NaN</td>\n",
       "      <td>NaN</td>\n",
       "      <td>NaN</td>\n",
       "      <td>26</td>\n",
       "      <td>1</td>\n",
       "      <td>January</td>\n",
       "      <td>2023</td>\n",
       "      <td>2023-01-26 17:29:57</td>\n",
       "      <td>26-01-2023</td>\n",
       "      <td>Enero</td>\n",
       "    </tr>\n",
       "  </tbody>\n",
       "</table>\n",
       "</div>"
      ],
      "text/plain": [
       "  Codigo Ficha        Rut                  Empleador  \\\n",
       "0     FFF-0358  200166892  Farmacias Cruz Verde S.A.   \n",
       "1     FFF-0035  181523778     Farmacias Ahumada S.A.   \n",
       "2     FFF-0154  166090636               EY Audit SPA   \n",
       "3     FFF-0088  164841448     Evaluaserve Chile S.A.   \n",
       "4     FFF-0096  188075606                       None   \n",
       "\n",
       "                          Fecha                   Canal        Cod. Empresa  \\\n",
       "0  2023-02-13T18:31:03.000+0000  Entrante - Chat Online  a1Y8c00000C6VqyEAF   \n",
       "1  2023-01-24T18:31:33.000+0000     Entrante - WhatsApp  a1Y8c00000C6VINEA3   \n",
       "2  2023-01-30T18:24:32.000+0000  Entrante - Chat Online  a1Y8c00000DxPM9EAN   \n",
       "3  2023-01-26T14:25:58.000+0000  Entrante - Chat Online  a1Y8c00000Clq5uEAB   \n",
       "4  2023-01-26T17:29:57.000+0000      Entrante - Llamada                None   \n",
       "\n",
       "          Id Paciente              Creado             Clínica  \\\n",
       "0  0018c00002amLv7AAE  0058c00000DcdNVAAZ  Orientación Médica   \n",
       "1  0018c00002amVPcAAM  0058c00000DcdNYAAZ  Orientación Médica   \n",
       "2  0018c00002amSFbAAM  0058c00000DcdNVAAZ  Orientación Médica   \n",
       "3  0018c00002b03a0AAA  0058c00000DcdNWAAZ  Orientación Médica   \n",
       "4  0018c00002eimgBAAQ  0058c00000DcdNVAAZ  Orientación Médica   \n",
       "\n",
       "  Motivo de consulta Nombre_Empresa__c Empresas__c  Dia  Mes    semana   Año  \\\n",
       "0                NaN               NaN         NaN   13    2  February  2023   \n",
       "1                NaN               NaN         NaN   24    1   January  2023   \n",
       "2                NaN               NaN         NaN   30    1   January  2023   \n",
       "3                NaN               NaN         NaN   26    1   January  2023   \n",
       "4                NaN               NaN         NaN   26    1   January  2023   \n",
       "\n",
       "        Fecha_chilena Fecha_chilena2    Meses  \n",
       "0 2023-02-13 18:31:03     13-02-2023  Febrero  \n",
       "1 2023-01-24 18:31:33     24-01-2023    Enero  \n",
       "2 2023-01-30 18:24:32     30-01-2023    Enero  \n",
       "3 2023-01-26 14:25:58     26-01-2023    Enero  \n",
       "4 2023-01-26 17:29:57     26-01-2023    Enero  "
      ]
     },
     "execution_count": 75,
     "metadata": {},
     "output_type": "execute_result"
    }
   ],
   "source": [
    "Reortes_general.head()"
   ]
  },
  {
   "cell_type": "code",
   "execution_count": 76,
   "metadata": {},
   "outputs": [
    {
     "data": {
      "text/html": [
       "<div>\n",
       "<style scoped>\n",
       "    .dataframe tbody tr th:only-of-type {\n",
       "        vertical-align: middle;\n",
       "    }\n",
       "\n",
       "    .dataframe tbody tr th {\n",
       "        vertical-align: top;\n",
       "    }\n",
       "\n",
       "    .dataframe thead th {\n",
       "        text-align: right;\n",
       "    }\n",
       "</style>\n",
       "<table border=\"1\" class=\"dataframe\">\n",
       "  <thead>\n",
       "    <tr style=\"text-align: right;\">\n",
       "      <th></th>\n",
       "      <th>Id Pacientes Programas</th>\n",
       "      <th>Paciente__c</th>\n",
       "      <th>Programas_por_Empresas__c</th>\n",
       "      <th>Id Account Empresa</th>\n",
       "      <th>Nombre Empresa</th>\n",
       "      <th>Holding</th>\n",
       "      <th>Campaña</th>\n",
       "      <th>Empleador</th>\n",
       "      <th>Poliza</th>\n",
       "      <th>Id Account Paciente</th>\n",
       "      <th>...</th>\n",
       "      <th>Cargo</th>\n",
       "      <th>Departamento</th>\n",
       "      <th>Sexo</th>\n",
       "      <th>Telefono</th>\n",
       "      <th>Tipo de Documento</th>\n",
       "      <th>Codigo EMP</th>\n",
       "      <th>Codigo A</th>\n",
       "      <th>Vigente</th>\n",
       "      <th>Corredor</th>\n",
       "      <th>Pais</th>\n",
       "    </tr>\n",
       "  </thead>\n",
       "  <tbody>\n",
       "    <tr>\n",
       "      <th>0</th>\n",
       "      <td>a1Y8c00000C5asnEAB</td>\n",
       "      <td>0018c00002amLbpAAE</td>\n",
       "      <td>a1W8c000007vDPvEAM</td>\n",
       "      <td>0018c00002axQaeAAE</td>\n",
       "      <td>Serv. De Comerc. Y Ases. Callbusiness SPA</td>\n",
       "      <td>DBCH - CNSTD 2019</td>\n",
       "      <td>MetLife</td>\n",
       "      <td>Serv. De Comerc. Y Ases. Callbusiness SPA</td>\n",
       "      <td>340016490</td>\n",
       "      <td>0018c00002amLbpAAE</td>\n",
       "      <td>...</td>\n",
       "      <td>None</td>\n",
       "      <td>None</td>\n",
       "      <td>Mujer</td>\n",
       "      <td>967786319</td>\n",
       "      <td>RUT</td>\n",
       "      <td>EMP6008</td>\n",
       "      <td>A-0173</td>\n",
       "      <td>SI</td>\n",
       "      <td>Directo BCH</td>\n",
       "      <td>a1U8c000005dAtnEAE</td>\n",
       "    </tr>\n",
       "    <tr>\n",
       "      <th>1</th>\n",
       "      <td>a1Y8c00000C5asoEAB</td>\n",
       "      <td>0018c00002amLbqAAE</td>\n",
       "      <td>a1W8c000007vDSpEAM</td>\n",
       "      <td>0018c00002axQecAAE</td>\n",
       "      <td>Clínica Alemana</td>\n",
       "      <td>Clínica Alemana</td>\n",
       "      <td>MetLife</td>\n",
       "      <td>Clínica Alemana</td>\n",
       "      <td>340006119</td>\n",
       "      <td>0018c00002amLbqAAE</td>\n",
       "      <td>...</td>\n",
       "      <td>None</td>\n",
       "      <td>None</td>\n",
       "      <td>Mujer</td>\n",
       "      <td>None</td>\n",
       "      <td>RUT</td>\n",
       "      <td>EMP6274</td>\n",
       "      <td>A-0353</td>\n",
       "      <td>SI</td>\n",
       "      <td>Willis Towers Watson S.A. Corred. De Seg.</td>\n",
       "      <td>a1U8c000005dAtnEAE</td>\n",
       "    </tr>\n",
       "    <tr>\n",
       "      <th>2</th>\n",
       "      <td>a1Y8c00000C5aspEAB</td>\n",
       "      <td>0018c00002amLbrAAE</td>\n",
       "      <td>a1W8c000007vDSpEAM</td>\n",
       "      <td>0018c00002axQecAAE</td>\n",
       "      <td>Clínica Alemana</td>\n",
       "      <td>Clínica Alemana</td>\n",
       "      <td>MetLife</td>\n",
       "      <td>Clínica Alemana</td>\n",
       "      <td>340006119</td>\n",
       "      <td>0018c00002amLbrAAE</td>\n",
       "      <td>...</td>\n",
       "      <td>None</td>\n",
       "      <td>None</td>\n",
       "      <td>Mujer</td>\n",
       "      <td>None</td>\n",
       "      <td>RUT</td>\n",
       "      <td>EMP6274</td>\n",
       "      <td>A-0353</td>\n",
       "      <td>SI</td>\n",
       "      <td>Willis Towers Watson S.A. Corred. De Seg.</td>\n",
       "      <td>a1U8c000005dAtnEAE</td>\n",
       "    </tr>\n",
       "    <tr>\n",
       "      <th>3</th>\n",
       "      <td>a1Y8c00000C5asqEAB</td>\n",
       "      <td>0018c00002amLbsAAE</td>\n",
       "      <td>a1W8c000007vDSpEAM</td>\n",
       "      <td>0018c00002axQecAAE</td>\n",
       "      <td>Clínica Alemana</td>\n",
       "      <td>Clínica Alemana</td>\n",
       "      <td>MetLife</td>\n",
       "      <td>Clínica Alemana</td>\n",
       "      <td>340006119</td>\n",
       "      <td>0018c00002amLbsAAE</td>\n",
       "      <td>...</td>\n",
       "      <td>None</td>\n",
       "      <td>None</td>\n",
       "      <td>Hombre</td>\n",
       "      <td>953757757</td>\n",
       "      <td>RUT</td>\n",
       "      <td>EMP6274</td>\n",
       "      <td>A-0353</td>\n",
       "      <td>SI</td>\n",
       "      <td>Willis Towers Watson S.A. Corred. De Seg.</td>\n",
       "      <td>a1U8c000005dAtnEAE</td>\n",
       "    </tr>\n",
       "    <tr>\n",
       "      <th>4</th>\n",
       "      <td>a1Y8c00000C5asrEAB</td>\n",
       "      <td>0018c00002amLc2AAE</td>\n",
       "      <td>a1W8c000007vDSpEAM</td>\n",
       "      <td>0018c00002axQecAAE</td>\n",
       "      <td>Clínica Alemana</td>\n",
       "      <td>Clínica Alemana</td>\n",
       "      <td>MetLife</td>\n",
       "      <td>Clínica Alemana</td>\n",
       "      <td>340006119</td>\n",
       "      <td>0018c00002amLc2AAE</td>\n",
       "      <td>...</td>\n",
       "      <td>None</td>\n",
       "      <td>None</td>\n",
       "      <td>Mujer</td>\n",
       "      <td>982058845</td>\n",
       "      <td>RUT</td>\n",
       "      <td>EMP6274</td>\n",
       "      <td>A-0353</td>\n",
       "      <td>SI</td>\n",
       "      <td>Willis Towers Watson S.A. Corred. De Seg.</td>\n",
       "      <td>a1U8c000005dAtnEAE</td>\n",
       "    </tr>\n",
       "  </tbody>\n",
       "</table>\n",
       "<p>5 rows × 23 columns</p>\n",
       "</div>"
      ],
      "text/plain": [
       "  Id Pacientes Programas         Paciente__c Programas_por_Empresas__c  \\\n",
       "0     a1Y8c00000C5asnEAB  0018c00002amLbpAAE        a1W8c000007vDPvEAM   \n",
       "1     a1Y8c00000C5asoEAB  0018c00002amLbqAAE        a1W8c000007vDSpEAM   \n",
       "2     a1Y8c00000C5aspEAB  0018c00002amLbrAAE        a1W8c000007vDSpEAM   \n",
       "3     a1Y8c00000C5asqEAB  0018c00002amLbsAAE        a1W8c000007vDSpEAM   \n",
       "4     a1Y8c00000C5asrEAB  0018c00002amLc2AAE        a1W8c000007vDSpEAM   \n",
       "\n",
       "   Id Account Empresa                             Nombre Empresa  \\\n",
       "0  0018c00002axQaeAAE  Serv. De Comerc. Y Ases. Callbusiness SPA   \n",
       "1  0018c00002axQecAAE                            Clínica Alemana   \n",
       "2  0018c00002axQecAAE                            Clínica Alemana   \n",
       "3  0018c00002axQecAAE                            Clínica Alemana   \n",
       "4  0018c00002axQecAAE                            Clínica Alemana   \n",
       "\n",
       "             Holding  Campaña                                  Empleador  \\\n",
       "0  DBCH - CNSTD 2019  MetLife  Serv. De Comerc. Y Ases. Callbusiness SPA   \n",
       "1    Clínica Alemana  MetLife                            Clínica Alemana   \n",
       "2    Clínica Alemana  MetLife                            Clínica Alemana   \n",
       "3    Clínica Alemana  MetLife                            Clínica Alemana   \n",
       "4    Clínica Alemana  MetLife                            Clínica Alemana   \n",
       "\n",
       "      Poliza Id Account Paciente  ... Cargo Departamento    Sexo   Telefono  \\\n",
       "0  340016490  0018c00002amLbpAAE  ...  None         None   Mujer  967786319   \n",
       "1  340006119  0018c00002amLbqAAE  ...  None         None   Mujer       None   \n",
       "2  340006119  0018c00002amLbrAAE  ...  None         None   Mujer       None   \n",
       "3  340006119  0018c00002amLbsAAE  ...  None         None  Hombre  953757757   \n",
       "4  340006119  0018c00002amLc2AAE  ...  None         None   Mujer  982058845   \n",
       "\n",
       "  Tipo de Documento Codigo EMP Codigo A Vigente  \\\n",
       "0               RUT    EMP6008   A-0173      SI   \n",
       "1               RUT    EMP6274   A-0353      SI   \n",
       "2               RUT    EMP6274   A-0353      SI   \n",
       "3               RUT    EMP6274   A-0353      SI   \n",
       "4               RUT    EMP6274   A-0353      SI   \n",
       "\n",
       "                                    Corredor                Pais  \n",
       "0                                Directo BCH  a1U8c000005dAtnEAE  \n",
       "1  Willis Towers Watson S.A. Corred. De Seg.  a1U8c000005dAtnEAE  \n",
       "2  Willis Towers Watson S.A. Corred. De Seg.  a1U8c000005dAtnEAE  \n",
       "3  Willis Towers Watson S.A. Corred. De Seg.  a1U8c000005dAtnEAE  \n",
       "4  Willis Towers Watson S.A. Corred. De Seg.  a1U8c000005dAtnEAE  \n",
       "\n",
       "[5 rows x 23 columns]"
      ]
     },
     "execution_count": 76,
     "metadata": {},
     "output_type": "execute_result"
    }
   ],
   "source": [
    "empresas_unidas.head()"
   ]
  },
  {
   "cell_type": "code",
   "execution_count": 67,
   "metadata": {
    "notebookRunGroups": {
     "groupValue": "1"
    }
   },
   "outputs": [
    {
     "data": {
      "text/plain": [
       "(59536, 42)"
      ]
     },
     "execution_count": 67,
     "metadata": {},
     "output_type": "execute_result"
    }
   ],
   "source": [
    "Reportes_con_empresas = pd.merge(\n",
    "    left=Reortes_general,\n",
    "    right=empresas_unidas,\n",
    "    how=\"left\",\n",
    "    left_on=\"Id Paciente\",\n",
    "    right_on=\"Id Account Paciente\",\n",
    ")\n",
    "\n",
    "\n",
    "Reportes_con_empresas.shape"
   ]
  },
  {
   "cell_type": "code",
   "execution_count": 68,
   "metadata": {
    "notebookRunGroups": {
     "groupValue": "1"
    }
   },
   "outputs": [],
   "source": [
    "Reportes_con_empresas['Rut_x'].str.upper()\n",
    "Reportes_con_empresas['Rut_y'].str.upper()\n",
    "\n",
    "Reportes_con_empresas.Empleador_x.fillna(Reportes_con_empresas['Nombre Empresa'], inplace=True)"
   ]
  },
  {
   "cell_type": "code",
   "execution_count": 70,
   "metadata": {},
   "outputs": [],
   "source": [
    "Programas_pacientes.to_excel(\"C:/Users/jmartinez/Documents/Empresas.xlsx\", index=False)"
   ]
  },
  {
   "attachments": {},
   "cell_type": "markdown",
   "metadata": {},
   "source": [
    "Salida de datos"
   ]
  },
  {
   "cell_type": "code",
   "execution_count": 71,
   "metadata": {
    "notebookRunGroups": {
     "groupValue": "1"
    }
   },
   "outputs": [
    {
     "name": "stderr",
     "output_type": "stream",
     "text": [
      "C:\\Users\\jmartinez\\AppData\\Local\\Temp\\ipykernel_15020\\121612437.py:34: SettingWithCopyWarning: \n",
      "A value is trying to be set on a copy of a slice from a DataFrame.\n",
      "Try using .loc[row_indexer,col_indexer] = value instead\n",
      "\n",
      "See the caveats in the documentation: https://pandas.pydata.org/pandas-docs/stable/user_guide/indexing.html#returning-a-view-versus-a-copy\n",
      "  reportes.replace({\"Pais\": Pais_SF}, inplace=True)\n"
     ]
    }
   ],
   "source": [
    "reportes = Reportes_con_empresas[\n",
    "    [\n",
    "        \"Codigo Ficha\",\n",
    "        \"Rut_x\",\n",
    "        \"Nombre\",\n",
    "        \"Sexo\",\n",
    "        \"Ocupacion\",\n",
    "        \"Cargo\",\n",
    "        \"Departamento\",\n",
    "        \"Campaña\",\n",
    "        \"Holding\",\n",
    "        \"Empleador_x\",\n",
    "        \"Poliza\",\n",
    "        \"Fecha\",\n",
    "        \"Fecha_chilena\",\n",
    "        \"Fecha_chilena2\",\n",
    "        \"Dia\",\n",
    "        \"Mes\",\n",
    "        \"Año\",\n",
    "        \"Meses\",\n",
    "        \"Canal\",\n",
    "        \"Clínica\",\n",
    "        \"Motivo de consulta\",\n",
    "        \"Nombre Empresa\",\n",
    "        \"Codigo EMP\",\n",
    "        \"Codigo A\",\n",
    "        \"Vigente\",\n",
    "        \"Corredor\",\n",
    "        \"Pais\",\n",
    "    ]\n",
    "]\n",
    "\n",
    "Pais_SF = {\"a1U8c000005dAtnEAE\": \"Chile\", \"a1U8c000005dAtsEAE\": \"México\"}\n",
    "reportes.replace({\"Pais\": Pais_SF}, inplace=True)\n",
    "\n",
    "reportes = reportes.rename(columns={\"Rut_x\": \"Rut\", \"Empleador_x\": \"Empleador\"})\n",
    "reportes[\"Motivo de consulta\"].fillna(0, inplace=True)\n",
    "reportes[\"Motivo de consulta\"] = np.where(\n",
    "    (reportes[\"Clínica\"] == \"Psicología\") & (reportes[\"Motivo de consulta\"] == 0),\n",
    "    \"Ingreso a Psicologia\",\n",
    "    reportes[\"Motivo de consulta\"],\n",
    ")\n",
    "reportes.Clínica.fillna(\"Orientación Médica\", inplace=True)\n",
    "reportes = reportes.drop_duplicates(\n",
    "    [\"Clínica\", \"Empleador\", \"Nombre Empresa\", \"Codigo Ficha\"], keep=\"last\"\n",
    ")\n",
    "\n",
    "reportes['Rut'] = reportes['Rut'].str.replace(\"-\",\"\")\n",
    "reportes.replace({\"Sexo\": general_Sexo}, inplace=True)"
   ]
  },
  {
   "cell_type": "code",
   "execution_count": 73,
   "metadata": {
    "notebookRunGroups": {
     "groupValue": "1"
    }
   },
   "outputs": [],
   "source": [
    "Reportes_con_empresas.to_excel(\n",
    "    \"C:/Users/jmartinez/Documents/reportes_completos.xlsx\", index=False\n",
    ")\n",
    "\n",
    "\n",
    "Programas_pacientes.to_excel(\"C:/Users/jmartinez/Documents/Empresas.xlsx\", index=False)\n",
    "reportes.to_excel(\"C:/Users/jmartinez/Documents/reportes.xlsx\", index=False)"
   ]
  },
  {
   "cell_type": "code",
   "execution_count": 74,
   "metadata": {
    "notebookRunGroups": {
     "groupValue": "1"
    }
   },
   "outputs": [],
   "source": [
    "general_todo = reportes[(reportes[\"Empleador\"] == reportes[\"Nombre Empresa\"])]\n",
    "general_todo.to_excel(\"F:/Reportes SF/General/General_Base.xlsx\", index=False)"
   ]
  }
 ],
 "metadata": {
  "kernelspec": {
   "display_name": "salesforce",
   "language": "python",
   "name": "python3"
  },
  "language_info": {
   "codemirror_mode": {
    "name": "ipython",
    "version": 3
   },
   "file_extension": ".py",
   "mimetype": "text/x-python",
   "name": "python",
   "nbconvert_exporter": "python",
   "pygments_lexer": "ipython3",
   "version": "3.8.16"
  },
  "orig_nbformat": 4,
  "vscode": {
   "interpreter": {
    "hash": "7fbccfb583f385d5cd7c75cc6ade03c09354727271e9200f47ca4e7fedb5381e"
   }
  }
 },
 "nbformat": 4,
 "nbformat_minor": 2
}
