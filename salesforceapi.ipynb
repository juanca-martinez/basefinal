{
 "cells": [
  {
   "cell_type": "code",
   "execution_count": null,
   "metadata": {
    "notebookRunGroups": {
     "groupValue": "1"
    }
   },
   "outputs": [],
   "source": [
    "import json\n",
    "import pandas as pd\n",
    "import requests\n",
    "from simple_salesforce import Salesforce, SalesforceLogin, SFType"
   ]
  },
  {
   "cell_type": "code",
   "execution_count": null,
   "metadata": {
    "notebookRunGroups": {
     "groupValue": "1"
    }
   },
   "outputs": [],
   "source": [
    "sf = Salesforce(\n",
    "    username=\"jmartinez@careassistance.com\",\n",
    "    password=\"Jcmm0104\",\n",
    "    security_token=\"EwVPSL02qXM8XQ2pkUdA13aW\",\n",
    ")"
   ]
  },
  {
   "cell_type": "code",
   "execution_count": null,
   "metadata": {
    "notebookRunGroups": {
     "groupValue": "1"
    }
   },
   "outputs": [],
   "source": [
    "results = sf.query_all(\n",
    "    \"\"\"\n",
    "   select Id, IdentificationId__pc from Account \n",
    "    \"\"\"\n",
    ")\n",
    "df = pd.DataFrame(results[\"records\"])\n",
    "df.shape\n",
    "Pacientes_SF = df[[\"Id\", \"IdentificationId__pc\"]]\n",
    "Pacientes_SF.shape"
   ]
  },
  {
   "cell_type": "code",
   "execution_count": null,
   "metadata": {
    "notebookRunGroups": {
     "groupValue": "1"
    }
   },
   "outputs": [],
   "source": [
    "# Recuperar empresas ID de salesforce\n",
    "results = sf.query_all(\n",
    "    \"\"\"\n",
    "   select Id, Name, Holding__c ,Pa_s_del_Paciente__c,Campa_a__c,AccountNumber,Id_Empresa__c,Empleador__c, ParentId, IsPersonAccount,poliza__c  from account where ispersonaccount = false \n",
    "    \"\"\"\n",
    ")\n",
    "df = pd.DataFrame(results[\"records\"])\n",
    "df.shape\n",
    "Empresas_account_SF = df[[\"Id\", \"Name\", \"Pa_s_del_Paciente__c\", \"Campa_a__c\",\"AccountNumber\",'Id_Empresa__c','Empleador__c','ParentId','IsPersonAccount','poliza__c']]\n",
    "Empresas_account_SF.head()\n",
    "\n"
   ]
  },
  {
   "cell_type": "code",
   "execution_count": null,
   "metadata": {},
   "outputs": [],
   "source": [
    "#traer empresas de accouint para unir con empresas sf\n",
    "results = sf.query_all(\n",
    "    \"\"\"\n",
    "   select id,Name,Nombre_Empresa__c,Empresa__c, Empresa_Padre__c from Programas_por_Empresas__c\n",
    "    \"\"\"\n",
    ")\n",
    "df = pd.DataFrame(results[\"records\"])\n",
    "df.shape\n",
    "Empresas_SF = df[[\"Id\", \"Nombre_Empresa__c\", \"Name\", \"Empresa__c\",\"Empresa_Padre__c\"]]\n",
    "Empresas_SF.head()\n"
   ]
  },
  {
   "cell_type": "code",
   "execution_count": null,
   "metadata": {},
   "outputs": [],
   "source": [
    "empresas = pd.merge(\n",
    "    left=Empresas_account_SF,\n",
    "    right=Empresas_SF,\n",
    "    how=\"left\",\n",
    "    left_on=\"Id\",\n",
    "    right_on=\"Empresa__c\",\n",
    ")\n",
    "empresas.head()"
   ]
  },
  {
   "cell_type": "code",
   "execution_count": null,
   "metadata": {
    "notebookRunGroups": {
     "groupValue": "1"
    }
   },
   "outputs": [],
   "source": [
    "empresas.shape"
   ]
  },
  {
   "cell_type": "code",
   "execution_count": null,
   "metadata": {},
   "outputs": [],
   "source": [
    "empresas.to_excel(\"F:/Empresas SF/reportes/emresas_.xlsx\",index=False)"
   ]
  },
  {
   "cell_type": "code",
   "execution_count": null,
   "metadata": {
    "notebookRunGroups": {
     "groupValue": "1"
    }
   },
   "outputs": [],
   "source": [
    "\n",
    "# Relacion pacientes y empresas\n",
    "results = sf.query_all(\n",
    "    \"\"\"\n",
    "  select Id,Paciente__c,Programas_por_Empresas__c from Paciente_Programas__c \n",
    "    \"\"\"\n",
    ")\n",
    "df = pd.DataFrame(results)\n",
    "df.shape\n",
    "Pacientes_empresas = pd.DataFrame(results[\"records\"])\n",
    "Pacientes_empresas = Pacientes_empresas[\n",
    "    [\"Paciente__c\", \"Programas_por_Empresas__c\"]\n",
    "]\n",
    "Pacientes_empresas.head()"
   ]
  },
  {
   "cell_type": "code",
   "execution_count": null,
   "metadata": {
    "notebookRunGroups": {
     "groupValue": "1"
    }
   },
   "outputs": [],
   "source": [
    "#une Pacientes y el que hace de union Pacientes_empresas\n",
    "pacientes_y_union = pd.merge(\n",
    "    left=Pacientes_SF,\n",
    "    right=Pacientes_empresas,\n",
    "    how=\"left\",\n",
    "    left_on=\"Id\",\n",
    "    right_on=\"Paciente__c\",\n",
    ")\n",
    "pacientes_y_union.head()"
   ]
  },
  {
   "cell_type": "code",
   "execution_count": null,
   "metadata": {
    "notebookRunGroups": {
     "groupValue": "1"
    }
   },
   "outputs": [],
   "source": [
    "pacientes_y_union.shape"
   ]
  },
  {
   "cell_type": "code",
   "execution_count": null,
   "metadata": {
    "notebookRunGroups": {
     "groupValue": "1"
    }
   },
   "outputs": [],
   "source": [
    "pacientes_y_empresas_final = pd.merge(\n",
    "    left=pacientes_y_union,\n",
    "    right=Empresas_SF,\n",
    "    how=\"left\",\n",
    "    left_on=\"Programas_por_Empresas__c\",\n",
    "    right_on=\"Id\",\n",
    ")\n",
    "pacientes_y_empresas_final.head()"
   ]
  },
  {
   "cell_type": "code",
   "execution_count": null,
   "metadata": {},
   "outputs": [],
   "source": [
    "pacientes_y_empresas_final.shape"
   ]
  },
  {
   "cell_type": "code",
   "execution_count": null,
   "metadata": {
    "notebookRunGroups": {
     "groupValue": "2"
    }
   },
   "outputs": [],
   "source": [
    "nuevos = (\"F:/Empresas SF/reportes/activos.xlsx\")\n",
    "Pacientes_Archivo = pd.read_excel(nuevos)\n",
    "# OJO se copia rut1 a rut le saca el guoion\n",
    "Pacientes_Archivo[\"rut\"] = Pacientes_Archivo[\"rut1\"].str.replace(\"-\", \"\")\n",
    "\n",
    "# aca se trabaja con el nuevo rut desde rut1 ojooooooo\n",
    "Pacientes_Archivo[\"rut\"] = Pacientes_Archivo[\"rut\"].str.upper()\n",
    "Pacientes_Archivo[\"rut\"] = Pacientes_Archivo[\"rut\"].astype(str)\n",
    "Pacientes_Archivo[\"rut\"] = Pacientes_Archivo[\"rut\"].str.strip()\n",
    "Pacientes_Archivo.head()"
   ]
  },
  {
   "cell_type": "code",
   "execution_count": null,
   "metadata": {
    "notebookRunGroups": {
     "groupValue": "2"
    }
   },
   "outputs": [],
   "source": [
    "Pacientes_Archivo[\"nombres\"] = Pacientes_Archivo[\"nombres\"].str.replace(\",\", \"\")\n",
    "Pacientes_Archivo[\"nombres\"] = Pacientes_Archivo[\"nombres\"].str.replace(\".\", \"\")\n",
    "Pacientes_Archivo[\"nombres\"] = Pacientes_Archivo[\"nombres\"].str.title()\n",
    "#Pacientes_Archivo[\"empresa\"] = Pacientes_Archivo[\"empresa\"].str.title()\n",
    "Pacientes_Archivo[\"apellidos\"] = Pacientes_Archivo[\"apellidos\"].str.replace(\",\", \"\")\n",
    "Pacientes_Archivo[\"apellidos\"] = Pacientes_Archivo[\"apellidos\"].str.replace(\".\", \"\")\n",
    "Pacientes_Archivo[\"apellidos\"] = Pacientes_Archivo[\"apellidos\"].str.title()\n",
    "Pacientes_SF[\"IdentificationId__pc\"] = Pacientes_SF[\"IdentificationId__pc\"].str.upper()\n",
    "Pacientes_SF[\"IdentificationId__pc\"] = Pacientes_SF[\"IdentificationId__pc\"].astype(str)\n",
    "Pacientes_SF[\"IdentificationId__pc\"] = Pacientes_SF[\"IdentificationId__pc\"].str.strip()\n",
    "Pacientes_SF[\"IdentificationId__pc\"] = Pacientes_SF[\"IdentificationId__pc\"].str.replace(\n",
    "    \"-\", \"\"\n",
    ")\n",
    "\n",
    "\n",
    "Pacientes_Archivo[\"RutEstaoNo\"] = Pacientes_Archivo[\"rut\"].isin(\n",
    "    Pacientes_SF[\"IdentificationId__pc\"])"
   ]
  },
  {
   "cell_type": "code",
   "execution_count": null,
   "metadata": {
    "notebookRunGroups": {
     "groupValue": "2"
    }
   },
   "outputs": [],
   "source": [
    "Pacientes_Archivo.head(20)"
   ]
  },
  {
   "cell_type": "code",
   "execution_count": null,
   "metadata": {
    "notebookRunGroups": {
     "groupValue": "2"
    }
   },
   "outputs": [],
   "source": [
    "Pacientes_con_ID = pd.merge(\n",
    "    left=Pacientes_Archivo,\n",
    "    right=pacientes_y_empresas_final,\n",
    "    how=\"left\",\n",
    "    left_on=\"rut\",\n",
    "    right_on=\"IdentificationId__pc\",\n",
    ")\n",
    "Pacientes_con_ID.head()\n"
   ]
  },
  {
   "cell_type": "code",
   "execution_count": null,
   "metadata": {
    "notebookRunGroups": {
     "groupValue": "2"
    }
   },
   "outputs": [],
   "source": [
    "Pacientes_con_ID.to_excel(\n",
    "    \"F:/Empresas SF/reportes/Pacientes_y_empresas_nuevas.xlsx\", index=False\n",
    ")\n"
   ]
  },
  {
   "cell_type": "code",
   "execution_count": null,
   "metadata": {},
   "outputs": [],
   "source": [
    "Final_pacientes_y_empresa = Pacientes_con_ID\n",
    "Subir_pacientes = pd.DataFrame()\n",
    "# agrupar = empresasqfaltan[empresasqfaltan['si']==False]\n",
    "Final_pacientes_y_empresa = Final_pacientes_y_empresa[\n",
    "    Final_pacientes_y_empresa[\"RutEstaoNo\"] == False\n",
    "]\n",
    "\n",
    "if (\"nombres\" in Final_pacientes_y_empresa.columns) == True:\n",
    "    Subir_pacientes[\"FirstName\"] = Final_pacientes_y_empresa[\"nombres\"]\n",
    "if (\"apellidos\" in Final_pacientes_y_empresa.columns) == True:\n",
    "    Subir_pacientes[\"LastName\"] = Final_pacientes_y_empresa[\"apellidos\"]\n",
    "if (\"rut\" in Final_pacientes_y_empresa.columns) == True:\n",
    "    Subir_pacientes[\"IdentificationId__pc\"] = Final_pacientes_y_empresa[\"rut\"]\n",
    "if (\"email\" in Final_pacientes_y_empresa.columns) == True:\n",
    "    Final_pacientes_y_empresa[\"email\"] = Final_pacientes_y_empresa[\"email\"].str.lower()\n",
    "    Subir_pacientes[\"PersonEmail\"] = Final_pacientes_y_empresa[\"email\"]\n",
    "if (\"nacimiento\" in Final_pacientes_y_empresa.columns) == True:\n",
    "    Subir_pacientes[\"PersonBirthdate\"] = Final_pacientes_y_empresa[\"nacimiento\"]\n",
    "if (\"sexo\" in Final_pacientes_y_empresa.columns) == True:\n",
    "    Subir_pacientes[\"HealthCloudGA__Gender__pc\"] = Final_pacientes_y_empresa[\"sexo\"]\n",
    "if (\"direccion\" in Final_pacientes_y_empresa.columns) == True:\n",
    "    Subir_pacientes[\"BillingStreet\"] = Final_pacientes_y_empresa[\"direccion\"]\n",
    "if (\"comuna\" in Final_pacientes_y_empresa.columns) == True:\n",
    "    Subir_pacientes[\"BillingState\"] = Final_pacientes_y_empresa[\"comuna\"]\n",
    "if (\"ciudad\" in Final_pacientes_y_empresa.columns) == True:\n",
    "    Subir_pacientes[\"BillingCity\"] = Final_pacientes_y_empresa[\"ciudad\"]\n",
    "if (\"cargo\" in Final_pacientes_y_empresa.columns) == True:\n",
    "    Subir_pacientes[\"PersonTitle\"] = Final_pacientes_y_empresa[\"cargo\"]\n",
    "if (\"division\" in Final_pacientes_y_empresa.columns) == True:\n",
    "    Subir_pacientes[\"PersonDepartment\"] = Final_pacientes_y_empresa[\"division\"]\n",
    "\n",
    "Subir_pacientes[\"BillingCountry\"] = \"Chile\"\n",
    "Subir_pacientes[\"Identification_Type__c\"] = \"RUT\"\n",
    "Subir_pacientes[\"RecordTypeId\"] = \"0128c000002Byp4AAC\"\n",
    "\n",
    "\n",
    "Subir_pacientes.to_excel(\n",
    "     \"F:/Empresas SF/reportes/account.xlsx\", index=False\n",
    ")\n",
    "Subir_pacientes.head()\n"
   ]
  },
  {
   "cell_type": "code",
   "execution_count": null,
   "metadata": {},
   "outputs": [],
   "source": [
    "nuevos = (\"F:/Empresas SF/reportes/activos.xlsx\")\n",
    "Pacientes_Archivo = pd.read_excel(nuevos)\n",
    "# OJO se copia rut1 a rut le saca el guoion\n",
    "Pacientes_Archivo[\"rut\"] = Pacientes_Archivo[\"rut1\"].str.replace(\"-\", \"\")\n",
    "# aca se trabaja con el nuevo rut desde rut1 ojooooooo\n",
    "Pacientes_Archivo[\"rut\"] = Pacientes_Archivo[\"rut\"].str.upper()\n",
    "Pacientes_Archivo[\"rut\"] = Pacientes_Archivo[\"rut\"].astype(str)\n",
    "Pacientes_Archivo[\"rut\"] = Pacientes_Archivo[\"rut\"].str.strip()\n",
    "Pacientes_Archivo.head()\n",
    "\n",
    "pacientes_id = pd.merge(\n",
    "    left=Pacientes_Archivo,\n",
    "    right=Pacientes_SF,\n",
    "    how=\"left\",\n",
    "    left_on=\"rut\",\n",
    "    right_on=\"IdentificationId__pc\",\n",
    ")\n",
    "pacientes_id.head()\n",
    "pacientes_id.to_excel(\n",
    "     \"F:/Empresas SF/reportes/archivo_id.xlsx\", index=False\n",
    ")"
   ]
  }
 ],
 "metadata": {
  "kernelspec": {
   "display_name": "salesforce",
   "language": "python",
   "name": "python3"
  },
  "language_info": {
   "codemirror_mode": {
    "name": "ipython",
    "version": 3
   },
   "file_extension": ".py",
   "mimetype": "text/x-python",
   "name": "python",
   "nbconvert_exporter": "python",
   "pygments_lexer": "ipython3",
   "version": "3.8.15 (default, Nov 24 2022, 14:38:14) [MSC v.1916 64 bit (AMD64)]"
  },
  "orig_nbformat": 4,
  "vscode": {
   "interpreter": {
    "hash": "7fbccfb583f385d5cd7c75cc6ade03c09354727271e9200f47ca4e7fedb5381e"
   }
  }
 },
 "nbformat": 4,
 "nbformat_minor": 2
}
