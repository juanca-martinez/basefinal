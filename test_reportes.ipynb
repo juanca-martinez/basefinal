{
 "cells": [
  {
   "cell_type": "code",
   "execution_count": 1,
   "metadata": {},
   "outputs": [],
   "source": [
    "import pandas as pd\n",
    "import pandasforce as pf\n",
    "#from simple_salesforce import SalesforceAPI"
   ]
  },
  {
   "cell_type": "code",
   "execution_count": 2,
   "metadata": {},
   "outputs": [],
   "source": [
    "#sf = SalesforceAPI('jmartinez@careassistance.com', 'Jcmm0104', 'EwVPSL02qXM8XQ2pkUdA13aW')\n",
    "session = pf.login(username = 'jmartinez@careassistance.com', password = 'Jcmm0104', token = 'EwVPSL02qXM8XQ2pkUdA13aW')"
   ]
  },
  {
   "cell_type": "code",
   "execution_count": 3,
   "metadata": {},
   "outputs": [
    {
     "data": {
      "text/plain": [
       "'00D8c000002LnLR!AREAQKus.dd5C2saIGaBNCNTeRSEJwfBnNYgYf1EuqIZMoFXNizzuYegsKEY.Ce9Lp4YPAHkIzWkFiN6pZbJgFZRva3Yv7ig'"
      ]
     },
     "execution_count": 3,
     "metadata": {},
     "output_type": "execute_result"
    }
   ],
   "source": [
    "session.id"
   ]
  },
  {
   "cell_type": "code",
   "execution_count": 4,
   "metadata": {},
   "outputs": [
    {
     "data": {
      "text/plain": [
       "'https://careassistance.my.salesforce.com/services/Soap/u/47.0/00D8c000002LnLR'"
      ]
     },
     "execution_count": 4,
     "metadata": {},
     "output_type": "execute_result"
    }
   ],
   "source": [
    "session.server\n"
   ]
  },
  {
   "cell_type": "code",
   "execution_count": 5,
   "metadata": {},
   "outputs": [
    {
     "ename": "AttributeError",
     "evalue": "module 'pandasforce' has no attribute 'getObjectFields'",
     "output_type": "error",
     "traceback": [
      "\u001b[1;31m---------------------------------------------------------------------------\u001b[0m",
      "\u001b[1;31mAttributeError\u001b[0m                            Traceback (most recent call last)",
      "Cell \u001b[1;32mIn [5], line 1\u001b[0m\n\u001b[1;32m----> 1\u001b[0m derty \u001b[39m=\u001b[39m pf\u001b[39m.\u001b[39;49mgetObjectFields\n",
      "\u001b[1;31mAttributeError\u001b[0m: module 'pandasforce' has no attribute 'getObjectFields'"
     ]
    }
   ],
   "source": [
    "derty = pf.getObjectFields"
   ]
  },
  {
   "cell_type": "markdown",
   "metadata": {},
   "source": []
  }
 ],
 "metadata": {
  "kernelspec": {
   "display_name": "Python 3.10.6 ('Mito')",
   "language": "python",
   "name": "python3"
  },
  "language_info": {
   "codemirror_mode": {
    "name": "ipython",
    "version": 3
   },
   "file_extension": ".py",
   "mimetype": "text/x-python",
   "name": "python",
   "nbconvert_exporter": "python",
   "pygments_lexer": "ipython3",
   "version": "3.10.6"
  },
  "orig_nbformat": 4,
  "vscode": {
   "interpreter": {
    "hash": "8ca7c6c0b372e79d1b046e97089bf0eca059102913bf5fbce589f25f1f28c438"
   }
  }
 },
 "nbformat": 4,
 "nbformat_minor": 2
}
