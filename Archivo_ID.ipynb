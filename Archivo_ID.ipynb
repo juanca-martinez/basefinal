{
 "cells": [
  {
   "cell_type": "code",
   "execution_count": 1,
   "metadata": {
    "notebookRunGroups": {
     "groupValue": "1"
    }
   },
   "outputs": [],
   "source": [
    "from pathlib import Path \n",
    "import requests\n",
    "import pandas as pd\n",
    "import numpy as np\n",
    "from io import StringIO\n",
    "from simple_salesforce import Salesforce\n",
    "import shutil\n",
    "import datetime"
   ]
  },
  {
   "cell_type": "code",
   "execution_count": 2,
   "metadata": {
    "notebookRunGroups": {
     "groupValue": "1"
    }
   },
   "outputs": [],
   "source": [
    "sf = Salesforce(\n",
    "    username=\"jmartinez@careassistance.com\",\n",
    "    password=\"Jcmm0104\",\n",
    "    security_token=\"EwVPSL02qXM8XQ2pkUdA13aW\",\n",
    ")"
   ]
  },
  {
   "cell_type": "code",
   "execution_count": 3,
   "metadata": {
    "notebookRunGroups": {
     "groupValue": "1"
    }
   },
   "outputs": [
    {
     "data": {
      "text/plain": [
       "(7887, 11)"
      ]
     },
     "execution_count": 3,
     "metadata": {},
     "output_type": "execute_result"
    }
   ],
   "source": [
    "# Recuperar empresas ID de salesforce desde Account\n",
    "results = sf.query_all(\n",
    "    \"\"\"\n",
    "   select Id, Name, IdentificationId__pc, Identification_Type__c,Holding__c ,Pa_s_del_Paciente__c,Campa_a__c,AccountNumber,Id_Empresa__c,poliza__c,Empleador__c  from account where ispersonaccount = false \n",
    "    \"\"\"\n",
    ")\n",
    "Empresas_SF = pd.DataFrame(results[\"records\"])\n",
    "Empresas_SF = Empresas_SF[\n",
    "    [\"Id\", \"Name\", \"IdentificationId__pc\", \"Identification_Type__c\", \"Holding__c\", \"Pa_s_del_Paciente__c\",'Campa_a__c','AccountNumber','Id_Empresa__c','Empleador__c','poliza__c']\n",
    "]\n",
    "Empresas_SF.shape"
   ]
  },
  {
   "cell_type": "code",
   "execution_count": 4,
   "metadata": {
    "notebookRunGroups": {
     "groupValue": "1"
    }
   },
   "outputs": [
    {
     "data": {
      "text/plain": [
       "(1534714, 10)"
      ]
     },
     "execution_count": 4,
     "metadata": {},
     "output_type": "execute_result"
    }
   ],
   "source": [
    "# recuperar todos los pacientes ID desdde aAccount\n",
    "results = sf.query_all(\n",
    "    \"\"\"\n",
    "  select Id, IdentificationId__pc,Name,poliza__c, Identification_Type__c, IsPersonAccount, Ocupaci_n__c, Pa_s_del_Paciente__c, PersonTitle ,PersonDepartment  from Account where ispersonaccount = True\n",
    "    \"\"\"\n",
    ")\n",
    "Pacientes_SF = pd.DataFrame(results[\"records\"])\n",
    "\n",
    "Pacientes_SF = Pacientes_SF[[\"Id\", \"IdentificationId__pc\", \"Name\",'poliza__c','Identification_Type__c','IsPersonAccount','Ocupaci_n__c','Pa_s_del_Paciente__c','PersonTitle','PersonDepartment']]\n",
    "Pacientes_SF.shape"
   ]
  },
  {
   "cell_type": "code",
   "execution_count": 5,
   "metadata": {
    "notebookRunGroups": {
     "groupValue": "1"
    }
   },
   "outputs": [
    {
     "data": {
      "text/plain": [
       "(1534714, 3)"
      ]
     },
     "execution_count": 5,
     "metadata": {},
     "output_type": "execute_result"
    }
   ],
   "source": [
    "# recuperar todos los pacientes ID desde Contact\n",
    "results = sf.query_all(\n",
    "    \"\"\"\n",
    "   select Id,Name,AccountId  from Contact\n",
    "    \"\"\"\n",
    ")\n",
    "Pacientesc_SF = pd.DataFrame(results[\"records\"])\n",
    "\n",
    "Pacientesc_SF = Pacientesc_SF[[\"Id\", \"AccountId\", \"Name\"]]\n",
    "Pacientesc_SF.shape"
   ]
  },
  {
   "cell_type": "code",
   "execution_count": 6,
   "metadata": {
    "notebookRunGroups": {
     "groupValue": "1"
    }
   },
   "outputs": [
    {
     "data": {
      "text/plain": [
       "(1222507, 5)"
      ]
     },
     "execution_count": 6,
     "metadata": {},
     "output_type": "execute_result"
    }
   ],
   "source": [
    "#Relacion AccountContactRelacion se descarga la relacion paciente Empresa\n",
    "results = sf.query_all(\n",
    "    \"\"\"\n",
    "   select Id,AccountId,ContactId,NameAccount__c, RutContact__c from AccountContactRelation\n",
    "    \"\"\"\n",
    ")\n",
    "Relacion_Pacientes_Empresas = pd.DataFrame(results[\"records\"])\n",
    "\n",
    "Relacion_Pacientes_Empresas = Relacion_Pacientes_Empresas[\n",
    "    [\"Id\", \"AccountId\", \"ContactId\", \"NameAccount__c\", \"RutContact__c\"]\n",
    "]\n",
    "Relacion_Pacientes_Empresas.shape"
   ]
  },
  {
   "cell_type": "code",
   "execution_count": 7,
   "metadata": {
    "notebookRunGroups": {
     "groupValue": ""
    }
   },
   "outputs": [
    {
     "data": {
      "text/html": [
       "<div>\n",
       "<style scoped>\n",
       "    .dataframe tbody tr th:only-of-type {\n",
       "        vertical-align: middle;\n",
       "    }\n",
       "\n",
       "    .dataframe tbody tr th {\n",
       "        vertical-align: top;\n",
       "    }\n",
       "\n",
       "    .dataframe thead th {\n",
       "        text-align: right;\n",
       "    }\n",
       "</style>\n",
       "<table border=\"1\" class=\"dataframe\">\n",
       "  <thead>\n",
       "    <tr style=\"text-align: right;\">\n",
       "      <th></th>\n",
       "      <th>Id_x</th>\n",
       "      <th>AccountId_x</th>\n",
       "      <th>ContactId</th>\n",
       "      <th>NameAccount__c</th>\n",
       "      <th>RutContact__c</th>\n",
       "      <th>Id_y</th>\n",
       "      <th>AccountId_y</th>\n",
       "      <th>Name</th>\n",
       "    </tr>\n",
       "  </thead>\n",
       "  <tbody>\n",
       "    <tr>\n",
       "      <th>0</th>\n",
       "      <td>07k8c00000RGWPNAA5</td>\n",
       "      <td>0018c00002axQa5AAE</td>\n",
       "      <td>0038c000036jLDrAAM</td>\n",
       "      <td>Metlife Holding Metlife Finning</td>\n",
       "      <td>174365172</td>\n",
       "      <td>0038c000036jLDrAAM</td>\n",
       "      <td>0018c00002cVCmPAAW</td>\n",
       "      <td>Correa Aguilar Rene Alberto</td>\n",
       "    </tr>\n",
       "    <tr>\n",
       "      <th>1</th>\n",
       "      <td>07k8c00000RGWPAAA5</td>\n",
       "      <td>0018c00002axQdlAAE</td>\n",
       "      <td>0038c000036jelbAAA</td>\n",
       "      <td>Metlife Holding Metlife Skberge</td>\n",
       "      <td>182204846</td>\n",
       "      <td>0038c000036jelbAAA</td>\n",
       "      <td>0018c00002cVWElAAO</td>\n",
       "      <td>Maldonado Velasquez Nicolas</td>\n",
       "    </tr>\n",
       "    <tr>\n",
       "      <th>2</th>\n",
       "      <td>07k8c00000RGWPBAA5</td>\n",
       "      <td>0018c00002axQdlAAE</td>\n",
       "      <td>0038c000035CWLYAA4</td>\n",
       "      <td>Metlife Holding Metlife Skberge</td>\n",
       "      <td>18396206K</td>\n",
       "      <td>0038c000035CWLYAA4</td>\n",
       "      <td>0018c00002amMfoAAE</td>\n",
       "      <td>Zaror Yunis Daniel Esteban</td>\n",
       "    </tr>\n",
       "    <tr>\n",
       "      <th>3</th>\n",
       "      <td>07k8c00000RGWPCAA5</td>\n",
       "      <td>0018c00002axQdlAAE</td>\n",
       "      <td>0038c000035CaxiAAC</td>\n",
       "      <td>Metlife Holding Metlife Skberge</td>\n",
       "      <td>184262452</td>\n",
       "      <td>0038c000035CaxiAAC</td>\n",
       "      <td>0018c00002amRHeAAM</td>\n",
       "      <td>Bustamante Morales Flor Del Carmen</td>\n",
       "    </tr>\n",
       "    <tr>\n",
       "      <th>4</th>\n",
       "      <td>07k8c00000RGWPDAA5</td>\n",
       "      <td>0018c00002axQdlAAE</td>\n",
       "      <td>0038c000036jelcAAA</td>\n",
       "      <td>Metlife Holding Metlife Skberge</td>\n",
       "      <td>184429772</td>\n",
       "      <td>0038c000036jelcAAA</td>\n",
       "      <td>0018c00002cVWEmAAO</td>\n",
       "      <td>Malleo Abarca Rigoberto Andres</td>\n",
       "    </tr>\n",
       "  </tbody>\n",
       "</table>\n",
       "</div>"
      ],
      "text/plain": [
       "                 Id_x         AccountId_x           ContactId  \\\n",
       "0  07k8c00000RGWPNAA5  0018c00002axQa5AAE  0038c000036jLDrAAM   \n",
       "1  07k8c00000RGWPAAA5  0018c00002axQdlAAE  0038c000036jelbAAA   \n",
       "2  07k8c00000RGWPBAA5  0018c00002axQdlAAE  0038c000035CWLYAA4   \n",
       "3  07k8c00000RGWPCAA5  0018c00002axQdlAAE  0038c000035CaxiAAC   \n",
       "4  07k8c00000RGWPDAA5  0018c00002axQdlAAE  0038c000036jelcAAA   \n",
       "\n",
       "                    NameAccount__c RutContact__c                Id_y  \\\n",
       "0  Metlife Holding Metlife Finning     174365172  0038c000036jLDrAAM   \n",
       "1  Metlife Holding Metlife Skberge     182204846  0038c000036jelbAAA   \n",
       "2  Metlife Holding Metlife Skberge     18396206K  0038c000035CWLYAA4   \n",
       "3  Metlife Holding Metlife Skberge     184262452  0038c000035CaxiAAC   \n",
       "4  Metlife Holding Metlife Skberge     184429772  0038c000036jelcAAA   \n",
       "\n",
       "          AccountId_y                                Name  \n",
       "0  0018c00002cVCmPAAW         Correa Aguilar Rene Alberto  \n",
       "1  0018c00002cVWElAAO         Maldonado Velasquez Nicolas  \n",
       "2  0018c00002amMfoAAE          Zaror Yunis Daniel Esteban  \n",
       "3  0018c00002amRHeAAM  Bustamante Morales Flor Del Carmen  \n",
       "4  0018c00002cVWEmAAO      Malleo Abarca Rigoberto Andres  "
      ]
     },
     "execution_count": 7,
     "metadata": {},
     "output_type": "execute_result"
    }
   ],
   "source": [
    "#union de pacientes\n",
    "Union_account_contact_relation = pd.merge(\n",
    "    left=Relacion_Pacientes_Empresas,\n",
    "    right=Pacientesc_SF,\n",
    "    how=\"left\",\n",
    "    left_on=\"ContactId\",\n",
    "    right_on=\"Id\",\n",
    ")\n",
    "Union_account_contact_relation.head()"
   ]
  },
  {
   "cell_type": "code",
   "execution_count": 8,
   "metadata": {
    "notebookRunGroups": {
     "groupValue": ""
    }
   },
   "outputs": [
    {
     "data": {
      "text/html": [
       "<div>\n",
       "<style scoped>\n",
       "    .dataframe tbody tr th:only-of-type {\n",
       "        vertical-align: middle;\n",
       "    }\n",
       "\n",
       "    .dataframe tbody tr th {\n",
       "        vertical-align: top;\n",
       "    }\n",
       "\n",
       "    .dataframe thead th {\n",
       "        text-align: right;\n",
       "    }\n",
       "</style>\n",
       "<table border=\"1\" class=\"dataframe\">\n",
       "  <thead>\n",
       "    <tr style=\"text-align: right;\">\n",
       "      <th></th>\n",
       "      <th>Id_x</th>\n",
       "      <th>AccountId_x</th>\n",
       "      <th>ContactId</th>\n",
       "      <th>NameAccount__c</th>\n",
       "      <th>RutContact__c</th>\n",
       "      <th>Id_y</th>\n",
       "      <th>AccountId_y</th>\n",
       "      <th>Name_x</th>\n",
       "      <th>Id</th>\n",
       "      <th>Name_y</th>\n",
       "      <th>IdentificationId__pc</th>\n",
       "      <th>Identification_Type__c</th>\n",
       "      <th>Holding__c</th>\n",
       "      <th>Pa_s_del_Paciente__c</th>\n",
       "      <th>Campa_a__c</th>\n",
       "      <th>AccountNumber</th>\n",
       "      <th>Id_Empresa__c</th>\n",
       "      <th>Empleador__c</th>\n",
       "      <th>poliza__c</th>\n",
       "    </tr>\n",
       "  </thead>\n",
       "  <tbody>\n",
       "    <tr>\n",
       "      <th>0</th>\n",
       "      <td>07k8c00000RGWPNAA5</td>\n",
       "      <td>0018c00002axQa5AAE</td>\n",
       "      <td>0038c000036jLDrAAM</td>\n",
       "      <td>Metlife Holding Metlife Finning</td>\n",
       "      <td>174365172</td>\n",
       "      <td>0038c000036jLDrAAM</td>\n",
       "      <td>0018c00002cVCmPAAW</td>\n",
       "      <td>Correa Aguilar Rene Alberto</td>\n",
       "      <td>0018c00002axQa5AAE</td>\n",
       "      <td>Metlife Holding Metlife Finning</td>\n",
       "      <td>None</td>\n",
       "      <td>None</td>\n",
       "      <td>MetLife</td>\n",
       "      <td>a1U8c000005dAtnEAE</td>\n",
       "      <td>MetLife</td>\n",
       "      <td>None</td>\n",
       "      <td>EMP5951</td>\n",
       "      <td>None</td>\n",
       "      <td>None</td>\n",
       "    </tr>\n",
       "    <tr>\n",
       "      <th>1</th>\n",
       "      <td>07k8c00000RGWPAAA5</td>\n",
       "      <td>0018c00002axQdlAAE</td>\n",
       "      <td>0038c000036jelbAAA</td>\n",
       "      <td>Metlife Holding Metlife Skberge</td>\n",
       "      <td>182204846</td>\n",
       "      <td>0038c000036jelbAAA</td>\n",
       "      <td>0018c00002cVWElAAO</td>\n",
       "      <td>Maldonado Velasquez Nicolas</td>\n",
       "      <td>0018c00002axQdlAAE</td>\n",
       "      <td>Metlife Holding Metlife Skberge</td>\n",
       "      <td>None</td>\n",
       "      <td>None</td>\n",
       "      <td>MetLife</td>\n",
       "      <td>a1U8c000005dAtnEAE</td>\n",
       "      <td>MetLife</td>\n",
       "      <td>None</td>\n",
       "      <td>EMP5641</td>\n",
       "      <td>None</td>\n",
       "      <td>None</td>\n",
       "    </tr>\n",
       "    <tr>\n",
       "      <th>2</th>\n",
       "      <td>07k8c00000RGWPBAA5</td>\n",
       "      <td>0018c00002axQdlAAE</td>\n",
       "      <td>0038c000035CWLYAA4</td>\n",
       "      <td>Metlife Holding Metlife Skberge</td>\n",
       "      <td>18396206K</td>\n",
       "      <td>0038c000035CWLYAA4</td>\n",
       "      <td>0018c00002amMfoAAE</td>\n",
       "      <td>Zaror Yunis Daniel Esteban</td>\n",
       "      <td>0018c00002axQdlAAE</td>\n",
       "      <td>Metlife Holding Metlife Skberge</td>\n",
       "      <td>None</td>\n",
       "      <td>None</td>\n",
       "      <td>MetLife</td>\n",
       "      <td>a1U8c000005dAtnEAE</td>\n",
       "      <td>MetLife</td>\n",
       "      <td>None</td>\n",
       "      <td>EMP5641</td>\n",
       "      <td>None</td>\n",
       "      <td>None</td>\n",
       "    </tr>\n",
       "    <tr>\n",
       "      <th>3</th>\n",
       "      <td>07k8c00000RGWPCAA5</td>\n",
       "      <td>0018c00002axQdlAAE</td>\n",
       "      <td>0038c000035CaxiAAC</td>\n",
       "      <td>Metlife Holding Metlife Skberge</td>\n",
       "      <td>184262452</td>\n",
       "      <td>0038c000035CaxiAAC</td>\n",
       "      <td>0018c00002amRHeAAM</td>\n",
       "      <td>Bustamante Morales Flor Del Carmen</td>\n",
       "      <td>0018c00002axQdlAAE</td>\n",
       "      <td>Metlife Holding Metlife Skberge</td>\n",
       "      <td>None</td>\n",
       "      <td>None</td>\n",
       "      <td>MetLife</td>\n",
       "      <td>a1U8c000005dAtnEAE</td>\n",
       "      <td>MetLife</td>\n",
       "      <td>None</td>\n",
       "      <td>EMP5641</td>\n",
       "      <td>None</td>\n",
       "      <td>None</td>\n",
       "    </tr>\n",
       "    <tr>\n",
       "      <th>4</th>\n",
       "      <td>07k8c00000RGWPDAA5</td>\n",
       "      <td>0018c00002axQdlAAE</td>\n",
       "      <td>0038c000036jelcAAA</td>\n",
       "      <td>Metlife Holding Metlife Skberge</td>\n",
       "      <td>184429772</td>\n",
       "      <td>0038c000036jelcAAA</td>\n",
       "      <td>0018c00002cVWEmAAO</td>\n",
       "      <td>Malleo Abarca Rigoberto Andres</td>\n",
       "      <td>0018c00002axQdlAAE</td>\n",
       "      <td>Metlife Holding Metlife Skberge</td>\n",
       "      <td>None</td>\n",
       "      <td>None</td>\n",
       "      <td>MetLife</td>\n",
       "      <td>a1U8c000005dAtnEAE</td>\n",
       "      <td>MetLife</td>\n",
       "      <td>None</td>\n",
       "      <td>EMP5641</td>\n",
       "      <td>None</td>\n",
       "      <td>None</td>\n",
       "    </tr>\n",
       "  </tbody>\n",
       "</table>\n",
       "</div>"
      ],
      "text/plain": [
       "                 Id_x         AccountId_x           ContactId  \\\n",
       "0  07k8c00000RGWPNAA5  0018c00002axQa5AAE  0038c000036jLDrAAM   \n",
       "1  07k8c00000RGWPAAA5  0018c00002axQdlAAE  0038c000036jelbAAA   \n",
       "2  07k8c00000RGWPBAA5  0018c00002axQdlAAE  0038c000035CWLYAA4   \n",
       "3  07k8c00000RGWPCAA5  0018c00002axQdlAAE  0038c000035CaxiAAC   \n",
       "4  07k8c00000RGWPDAA5  0018c00002axQdlAAE  0038c000036jelcAAA   \n",
       "\n",
       "                    NameAccount__c RutContact__c                Id_y  \\\n",
       "0  Metlife Holding Metlife Finning     174365172  0038c000036jLDrAAM   \n",
       "1  Metlife Holding Metlife Skberge     182204846  0038c000036jelbAAA   \n",
       "2  Metlife Holding Metlife Skberge     18396206K  0038c000035CWLYAA4   \n",
       "3  Metlife Holding Metlife Skberge     184262452  0038c000035CaxiAAC   \n",
       "4  Metlife Holding Metlife Skberge     184429772  0038c000036jelcAAA   \n",
       "\n",
       "          AccountId_y                              Name_x                  Id  \\\n",
       "0  0018c00002cVCmPAAW         Correa Aguilar Rene Alberto  0018c00002axQa5AAE   \n",
       "1  0018c00002cVWElAAO         Maldonado Velasquez Nicolas  0018c00002axQdlAAE   \n",
       "2  0018c00002amMfoAAE          Zaror Yunis Daniel Esteban  0018c00002axQdlAAE   \n",
       "3  0018c00002amRHeAAM  Bustamante Morales Flor Del Carmen  0018c00002axQdlAAE   \n",
       "4  0018c00002cVWEmAAO      Malleo Abarca Rigoberto Andres  0018c00002axQdlAAE   \n",
       "\n",
       "                            Name_y IdentificationId__pc  \\\n",
       "0  Metlife Holding Metlife Finning                 None   \n",
       "1  Metlife Holding Metlife Skberge                 None   \n",
       "2  Metlife Holding Metlife Skberge                 None   \n",
       "3  Metlife Holding Metlife Skberge                 None   \n",
       "4  Metlife Holding Metlife Skberge                 None   \n",
       "\n",
       "  Identification_Type__c Holding__c Pa_s_del_Paciente__c Campa_a__c  \\\n",
       "0                   None    MetLife   a1U8c000005dAtnEAE    MetLife   \n",
       "1                   None    MetLife   a1U8c000005dAtnEAE    MetLife   \n",
       "2                   None    MetLife   a1U8c000005dAtnEAE    MetLife   \n",
       "3                   None    MetLife   a1U8c000005dAtnEAE    MetLife   \n",
       "4                   None    MetLife   a1U8c000005dAtnEAE    MetLife   \n",
       "\n",
       "  AccountNumber Id_Empresa__c Empleador__c poliza__c  \n",
       "0          None       EMP5951         None      None  \n",
       "1          None       EMP5641         None      None  \n",
       "2          None       EMP5641         None      None  \n",
       "3          None       EMP5641         None      None  \n",
       "4          None       EMP5641         None      None  "
      ]
     },
     "execution_count": 8,
     "metadata": {},
     "output_type": "execute_result"
    }
   ],
   "source": [
    "#union de empresas\n",
    "Union_account_contact_relation = pd.merge(\n",
    "    left=Union_account_contact_relation,\n",
    "    right=Empresas_SF,\n",
    "    how=\"left\",\n",
    "    left_on=\"AccountId_x\",\n",
    "    right_on=\"Id\",\n",
    ")\n",
    "Union_account_contact_relation.head()"
   ]
  },
  {
   "cell_type": "code",
   "execution_count": 9,
   "metadata": {},
   "outputs": [
    {
     "name": "stderr",
     "output_type": "stream",
     "text": [
      "C:\\Users\\jmartinez\\AppData\\Local\\Temp\\ipykernel_15012\\3766479298.py:2: FutureWarning: Passing 'suffixes' which cause duplicate columns {'Id_x'} in the result is deprecated and will raise a MergeError in a future version.\n",
      "  Union_account_contact_relation = pd.merge(\n"
     ]
    },
    {
     "data": {
      "text/html": [
       "<div>\n",
       "<style scoped>\n",
       "    .dataframe tbody tr th:only-of-type {\n",
       "        vertical-align: middle;\n",
       "    }\n",
       "\n",
       "    .dataframe tbody tr th {\n",
       "        vertical-align: top;\n",
       "    }\n",
       "\n",
       "    .dataframe thead th {\n",
       "        text-align: right;\n",
       "    }\n",
       "</style>\n",
       "<table border=\"1\" class=\"dataframe\">\n",
       "  <thead>\n",
       "    <tr style=\"text-align: right;\">\n",
       "      <th></th>\n",
       "      <th>Id_x</th>\n",
       "      <th>AccountId_x</th>\n",
       "      <th>ContactId</th>\n",
       "      <th>NameAccount__c</th>\n",
       "      <th>RutContact__c</th>\n",
       "      <th>Id_y</th>\n",
       "      <th>AccountId_y</th>\n",
       "      <th>Name_x</th>\n",
       "      <th>Id_x</th>\n",
       "      <th>Name_y</th>\n",
       "      <th>...</th>\n",
       "      <th>Id_y</th>\n",
       "      <th>IdentificationId__pc_y</th>\n",
       "      <th>Name</th>\n",
       "      <th>poliza__c_y</th>\n",
       "      <th>Identification_Type__c_y</th>\n",
       "      <th>IsPersonAccount</th>\n",
       "      <th>Ocupaci_n__c</th>\n",
       "      <th>Pa_s_del_Paciente__c_y</th>\n",
       "      <th>PersonTitle</th>\n",
       "      <th>PersonDepartment</th>\n",
       "    </tr>\n",
       "  </thead>\n",
       "  <tbody>\n",
       "    <tr>\n",
       "      <th>0</th>\n",
       "      <td>07k8c00000RGWPNAA5</td>\n",
       "      <td>0018c00002axQa5AAE</td>\n",
       "      <td>0038c000036jLDrAAM</td>\n",
       "      <td>Metlife Holding Metlife Finning</td>\n",
       "      <td>174365172</td>\n",
       "      <td>0038c000036jLDrAAM</td>\n",
       "      <td>0018c00002cVCmPAAW</td>\n",
       "      <td>Correa Aguilar Rene Alberto</td>\n",
       "      <td>0018c00002axQa5AAE</td>\n",
       "      <td>Metlife Holding Metlife Finning</td>\n",
       "      <td>...</td>\n",
       "      <td>0018c00002cVCmPAAW</td>\n",
       "      <td>174365172</td>\n",
       "      <td>Correa Aguilar Rene Alberto</td>\n",
       "      <td>None</td>\n",
       "      <td>RUT</td>\n",
       "      <td>True</td>\n",
       "      <td>None</td>\n",
       "      <td>a1U8c000005dAtnEAE</td>\n",
       "      <td>None</td>\n",
       "      <td>None</td>\n",
       "    </tr>\n",
       "    <tr>\n",
       "      <th>1</th>\n",
       "      <td>07k8c00000RGWPAAA5</td>\n",
       "      <td>0018c00002axQdlAAE</td>\n",
       "      <td>0038c000036jelbAAA</td>\n",
       "      <td>Metlife Holding Metlife Skberge</td>\n",
       "      <td>182204846</td>\n",
       "      <td>0038c000036jelbAAA</td>\n",
       "      <td>0018c00002cVWElAAO</td>\n",
       "      <td>Maldonado Velasquez Nicolas</td>\n",
       "      <td>0018c00002axQdlAAE</td>\n",
       "      <td>Metlife Holding Metlife Skberge</td>\n",
       "      <td>...</td>\n",
       "      <td>0018c00002cVWElAAO</td>\n",
       "      <td>182204846</td>\n",
       "      <td>Maldonado Velasquez Nicolas</td>\n",
       "      <td>None</td>\n",
       "      <td>RUT</td>\n",
       "      <td>True</td>\n",
       "      <td>None</td>\n",
       "      <td>a1U8c000005dAtnEAE</td>\n",
       "      <td>None</td>\n",
       "      <td>None</td>\n",
       "    </tr>\n",
       "    <tr>\n",
       "      <th>2</th>\n",
       "      <td>07k8c00000RGWPBAA5</td>\n",
       "      <td>0018c00002axQdlAAE</td>\n",
       "      <td>0038c000035CWLYAA4</td>\n",
       "      <td>Metlife Holding Metlife Skberge</td>\n",
       "      <td>18396206K</td>\n",
       "      <td>0038c000035CWLYAA4</td>\n",
       "      <td>0018c00002amMfoAAE</td>\n",
       "      <td>Zaror Yunis Daniel Esteban</td>\n",
       "      <td>0018c00002axQdlAAE</td>\n",
       "      <td>Metlife Holding Metlife Skberge</td>\n",
       "      <td>...</td>\n",
       "      <td>0018c00002amMfoAAE</td>\n",
       "      <td>18396206K</td>\n",
       "      <td>Zaror Yunis Daniel Esteban</td>\n",
       "      <td>None</td>\n",
       "      <td>RUT</td>\n",
       "      <td>True</td>\n",
       "      <td>None</td>\n",
       "      <td>a1U8c000005dAtnEAE</td>\n",
       "      <td>None</td>\n",
       "      <td>None</td>\n",
       "    </tr>\n",
       "    <tr>\n",
       "      <th>3</th>\n",
       "      <td>07k8c00000RGWPCAA5</td>\n",
       "      <td>0018c00002axQdlAAE</td>\n",
       "      <td>0038c000035CaxiAAC</td>\n",
       "      <td>Metlife Holding Metlife Skberge</td>\n",
       "      <td>184262452</td>\n",
       "      <td>0038c000035CaxiAAC</td>\n",
       "      <td>0018c00002amRHeAAM</td>\n",
       "      <td>Bustamante Morales Flor Del Carmen</td>\n",
       "      <td>0018c00002axQdlAAE</td>\n",
       "      <td>Metlife Holding Metlife Skberge</td>\n",
       "      <td>...</td>\n",
       "      <td>0018c00002amRHeAAM</td>\n",
       "      <td>184262452</td>\n",
       "      <td>Bustamante Morales Flor Del Carmen</td>\n",
       "      <td>None</td>\n",
       "      <td>RUT</td>\n",
       "      <td>True</td>\n",
       "      <td>None</td>\n",
       "      <td>a1U8c000005dAtnEAE</td>\n",
       "      <td>None</td>\n",
       "      <td>None</td>\n",
       "    </tr>\n",
       "    <tr>\n",
       "      <th>4</th>\n",
       "      <td>07k8c00000RGWPDAA5</td>\n",
       "      <td>0018c00002axQdlAAE</td>\n",
       "      <td>0038c000036jelcAAA</td>\n",
       "      <td>Metlife Holding Metlife Skberge</td>\n",
       "      <td>184429772</td>\n",
       "      <td>0038c000036jelcAAA</td>\n",
       "      <td>0018c00002cVWEmAAO</td>\n",
       "      <td>Malleo Abarca Rigoberto Andres</td>\n",
       "      <td>0018c00002axQdlAAE</td>\n",
       "      <td>Metlife Holding Metlife Skberge</td>\n",
       "      <td>...</td>\n",
       "      <td>0018c00002cVWEmAAO</td>\n",
       "      <td>184429772</td>\n",
       "      <td>Malleo Abarca Rigoberto Andres</td>\n",
       "      <td>None</td>\n",
       "      <td>RUT</td>\n",
       "      <td>True</td>\n",
       "      <td>None</td>\n",
       "      <td>a1U8c000005dAtnEAE</td>\n",
       "      <td>None</td>\n",
       "      <td>None</td>\n",
       "    </tr>\n",
       "  </tbody>\n",
       "</table>\n",
       "<p>5 rows × 29 columns</p>\n",
       "</div>"
      ],
      "text/plain": [
       "                 Id_x         AccountId_x           ContactId  \\\n",
       "0  07k8c00000RGWPNAA5  0018c00002axQa5AAE  0038c000036jLDrAAM   \n",
       "1  07k8c00000RGWPAAA5  0018c00002axQdlAAE  0038c000036jelbAAA   \n",
       "2  07k8c00000RGWPBAA5  0018c00002axQdlAAE  0038c000035CWLYAA4   \n",
       "3  07k8c00000RGWPCAA5  0018c00002axQdlAAE  0038c000035CaxiAAC   \n",
       "4  07k8c00000RGWPDAA5  0018c00002axQdlAAE  0038c000036jelcAAA   \n",
       "\n",
       "                    NameAccount__c RutContact__c                Id_y  \\\n",
       "0  Metlife Holding Metlife Finning     174365172  0038c000036jLDrAAM   \n",
       "1  Metlife Holding Metlife Skberge     182204846  0038c000036jelbAAA   \n",
       "2  Metlife Holding Metlife Skberge     18396206K  0038c000035CWLYAA4   \n",
       "3  Metlife Holding Metlife Skberge     184262452  0038c000035CaxiAAC   \n",
       "4  Metlife Holding Metlife Skberge     184429772  0038c000036jelcAAA   \n",
       "\n",
       "          AccountId_y                              Name_x                Id_x  \\\n",
       "0  0018c00002cVCmPAAW         Correa Aguilar Rene Alberto  0018c00002axQa5AAE   \n",
       "1  0018c00002cVWElAAO         Maldonado Velasquez Nicolas  0018c00002axQdlAAE   \n",
       "2  0018c00002amMfoAAE          Zaror Yunis Daniel Esteban  0018c00002axQdlAAE   \n",
       "3  0018c00002amRHeAAM  Bustamante Morales Flor Del Carmen  0018c00002axQdlAAE   \n",
       "4  0018c00002cVWEmAAO      Malleo Abarca Rigoberto Andres  0018c00002axQdlAAE   \n",
       "\n",
       "                            Name_y  ...                Id_y  \\\n",
       "0  Metlife Holding Metlife Finning  ...  0018c00002cVCmPAAW   \n",
       "1  Metlife Holding Metlife Skberge  ...  0018c00002cVWElAAO   \n",
       "2  Metlife Holding Metlife Skberge  ...  0018c00002amMfoAAE   \n",
       "3  Metlife Holding Metlife Skberge  ...  0018c00002amRHeAAM   \n",
       "4  Metlife Holding Metlife Skberge  ...  0018c00002cVWEmAAO   \n",
       "\n",
       "  IdentificationId__pc_y                                Name poliza__c_y  \\\n",
       "0              174365172         Correa Aguilar Rene Alberto        None   \n",
       "1              182204846         Maldonado Velasquez Nicolas        None   \n",
       "2              18396206K          Zaror Yunis Daniel Esteban        None   \n",
       "3              184262452  Bustamante Morales Flor Del Carmen        None   \n",
       "4              184429772      Malleo Abarca Rigoberto Andres        None   \n",
       "\n",
       "  Identification_Type__c_y IsPersonAccount Ocupaci_n__c  \\\n",
       "0                      RUT            True         None   \n",
       "1                      RUT            True         None   \n",
       "2                      RUT            True         None   \n",
       "3                      RUT            True         None   \n",
       "4                      RUT            True         None   \n",
       "\n",
       "  Pa_s_del_Paciente__c_y PersonTitle PersonDepartment  \n",
       "0     a1U8c000005dAtnEAE        None             None  \n",
       "1     a1U8c000005dAtnEAE        None             None  \n",
       "2     a1U8c000005dAtnEAE        None             None  \n",
       "3     a1U8c000005dAtnEAE        None             None  \n",
       "4     a1U8c000005dAtnEAE        None             None  \n",
       "\n",
       "[5 rows x 29 columns]"
      ]
     },
     "execution_count": 9,
     "metadata": {},
     "output_type": "execute_result"
    }
   ],
   "source": [
    "#union de pacientes con sus datos\n",
    "Union_account_contact_relation = pd.merge(\n",
    "    left=Union_account_contact_relation,\n",
    "    right=Pacientes_SF,\n",
    "    how=\"left\",\n",
    "    left_on=\"RutContact__c\",\n",
    "    right_on=\"IdentificationId__pc\",\n",
    ")\n",
    "Union_account_contact_relation.head()"
   ]
  },
  {
   "cell_type": "code",
   "execution_count": 10,
   "metadata": {
    "notebookRunGroups": {
     "groupValue": ""
    }
   },
   "outputs": [
    {
     "data": {
      "text/html": [
       "<div>\n",
       "<style scoped>\n",
       "    .dataframe tbody tr th:only-of-type {\n",
       "        vertical-align: middle;\n",
       "    }\n",
       "\n",
       "    .dataframe tbody tr th {\n",
       "        vertical-align: top;\n",
       "    }\n",
       "\n",
       "    .dataframe thead th {\n",
       "        text-align: right;\n",
       "    }\n",
       "</style>\n",
       "<table border=\"1\" class=\"dataframe\">\n",
       "  <thead>\n",
       "    <tr style=\"text-align: right;\">\n",
       "      <th></th>\n",
       "      <th>nombres</th>\n",
       "      <th>apellidos</th>\n",
       "      <th>rut1</th>\n",
       "      <th>telefono</th>\n",
       "      <th>email</th>\n",
       "      <th>rut</th>\n",
       "    </tr>\n",
       "  </thead>\n",
       "  <tbody>\n",
       "    <tr>\n",
       "      <th>0</th>\n",
       "      <td>Paulina Roxana</td>\n",
       "      <td>Opazo Carvajal</td>\n",
       "      <td>17202451-3</td>\n",
       "      <td>964050660</td>\n",
       "      <td>popazoc@achs.cl</td>\n",
       "      <td>172024513</td>\n",
       "    </tr>\n",
       "    <tr>\n",
       "      <th>1</th>\n",
       "      <td>sonia luzmira</td>\n",
       "      <td>miranda zarzuri</td>\n",
       "      <td>10264052-7</td>\n",
       "      <td>961398226</td>\n",
       "      <td>soniluzmi15@gmail.cl</td>\n",
       "      <td>102640527</td>\n",
       "    </tr>\n",
       "    <tr>\n",
       "      <th>2</th>\n",
       "      <td>Claudio Javier</td>\n",
       "      <td>Bugueño Ulloa</td>\n",
       "      <td>16142556-7</td>\n",
       "      <td>987573827</td>\n",
       "      <td>cjbuguenou@achs.cl</td>\n",
       "      <td>161425567</td>\n",
       "    </tr>\n",
       "    <tr>\n",
       "      <th>3</th>\n",
       "      <td>sujei naomi</td>\n",
       "      <td>silva day</td>\n",
       "      <td>19361805-7</td>\n",
       "      <td>986641803</td>\n",
       "      <td>sujeinaomi@hotmail.com</td>\n",
       "      <td>193618057</td>\n",
       "    </tr>\n",
       "    <tr>\n",
       "      <th>4</th>\n",
       "      <td>Cristóbal Guillermo</td>\n",
       "      <td>Catalán Garrido</td>\n",
       "      <td>20117622-0</td>\n",
       "      <td>982134216</td>\n",
       "      <td>catalancristobal22@gmail.com</td>\n",
       "      <td>201176220</td>\n",
       "    </tr>\n",
       "  </tbody>\n",
       "</table>\n",
       "</div>"
      ],
      "text/plain": [
       "               nombres        apellidos        rut1   telefono  \\\n",
       "0       Paulina Roxana   Opazo Carvajal  17202451-3  964050660   \n",
       "1        sonia luzmira  miranda zarzuri  10264052-7  961398226   \n",
       "2       Claudio Javier    Bugueño Ulloa  16142556-7  987573827   \n",
       "3          sujei naomi        silva day  19361805-7  986641803   \n",
       "4  Cristóbal Guillermo  Catalán Garrido  20117622-0  982134216   \n",
       "\n",
       "                          email        rut  \n",
       "0               popazoc@achs.cl  172024513  \n",
       "1          soniluzmi15@gmail.cl  102640527  \n",
       "2            cjbuguenou@achs.cl  161425567  \n",
       "3        sujeinaomi@hotmail.com  193618057  \n",
       "4  catalancristobal22@gmail.com  201176220  "
      ]
     },
     "execution_count": 10,
     "metadata": {},
     "output_type": "execute_result"
    }
   ],
   "source": [
    "nuevos = \"F:/Empresas SF/carga/sacarid.xlsx\"\n",
    "Pacientes_Archivo = pd.read_excel(nuevos)\n",
    "# OJO se copia rut1 a rut le saca el guoion\n",
    "\n",
    "    \n",
    "\n",
    "Pacientes_Archivo[\"rut\"] = Pacientes_Archivo[\"rut1\"].astype(str)\n",
    "Pacientes_Archivo[\"rut\"] = Pacientes_Archivo[\"rut\"].str.replace(\"-\", \"\")\n",
    "    # aca se trabaja con el nuevo rut desde rut1 ojooooooo    \n",
    "Pacientes_Archivo[\"rut\"] = Pacientes_Archivo[\"rut\"].str.upper()    \n",
    "Pacientes_Archivo[\"rut\"] = Pacientes_Archivo[\"rut\"].str.strip()\n",
    "Pacientes_Archivo.head()\n"
   ]
  },
  {
   "cell_type": "code",
   "execution_count": 11,
   "metadata": {
    "notebookRunGroups": {
     "groupValue": ""
    }
   },
   "outputs": [],
   "source": [
    "#Pacientes_SF[\"IdentificationId__pc\"] = Pacientes_SF[\"rut1\"].astype(str)\n",
    "Pacientes_SF[\"IdentificationId__pc\"] = Pacientes_SF[\"IdentificationId__pc\"].str.replace(\"-\", \"\")\n",
    "    # aca se trabaja con el nuevo rut desde rut1 ojooooooo    \n",
    "Pacientes_SF[\"IdentificationId__pc\"] = Pacientes_SF[\"IdentificationId__pc\"].str.upper()    \n",
    "Pacientes_SF[\"IdentificationId__pc\"] = Pacientes_SF[\"IdentificationId__pc\"].str.strip()\n",
    "\n",
    "pacientes_y_datos = pd.merge(\n",
    "    left=Pacientes_Archivo,\n",
    "    right=Pacientes_SF,\n",
    "    how=\"left\",\n",
    "    left_on=\"rut\",\n",
    "    right_on=\"IdentificationId__pc\",\n",
    ")\n",
    "pacientes_y_datos.to_excel(\"F:/Empresas SF/carga/pacientes_en_account.xlsx\", index=False)"
   ]
  },
  {
   "cell_type": "code",
   "execution_count": 12,
   "metadata": {},
   "outputs": [
    {
     "data": {
      "text/plain": [
       "(7892, 5)"
      ]
     },
     "execution_count": 12,
     "metadata": {},
     "output_type": "execute_result"
    }
   ],
   "source": [
    "#buscar empresas desde Programas_por_Empresas__c\n",
    "results = sf.query_all(\n",
    "    \"\"\"\n",
    "   select Id,Empresa__c, Empresa_Padre__c,Nombre_Empresa__c, Name  from Programas_por_Empresas__c \n",
    "    \"\"\"\n",
    ")\n",
    "Programas_por_empresa_SF = pd.DataFrame(results[\"records\"])\n",
    "\n",
    "Programas_por_empresa_SF = Programas_por_empresa_SF[\n",
    "    [\"Id\", \"Empresa__c\", \"Empresa_Padre__c\", \"Nombre_Empresa__c\", \"Name\"]\n",
    "]\n",
    "Programas_por_empresa_SF.shape"
   ]
  },
  {
   "cell_type": "code",
   "execution_count": 13,
   "metadata": {
    "notebookRunGroups": {
     "groupValue": ""
    }
   },
   "outputs": [
    {
     "data": {
      "text/plain": [
       "(1222352, 4)"
      ]
     },
     "execution_count": 13,
     "metadata": {},
     "output_type": "execute_result"
    }
   ],
   "source": [
    "#buscar empresas desde Paciente_Programas__c\n",
    "results = sf.query_all(\n",
    "    \"\"\"\n",
    "    select Id,Paciente__c, Programas_por_Empresas__c,padre__c from Paciente_Programas__c  \n",
    "    \"\"\"\n",
    ")\n",
    "Paciente_Programas_SF = pd.DataFrame(results[\"records\"])\n",
    "\n",
    "Paciente_Programas_SF = Paciente_Programas_SF[\n",
    "    [\"Id\", \"Paciente__c\", \"Programas_por_Empresas__c\", \"padre__c\"]\n",
    "]\n",
    "Paciente_Programas_SF.shape"
   ]
  },
  {
   "cell_type": "code",
   "execution_count": 14,
   "metadata": {
    "notebookRunGroups": {
     "groupValue": ""
    }
   },
   "outputs": [],
   "source": [
    "pacientes_y_datos2 = pd.merge(\n",
    "    left=pacientes_y_datos,\n",
    "    right=Pacientesc_SF,\n",
    "    how=\"left\",\n",
    "    left_on=\"Id\",\n",
    "    right_on=\"AccountId\",\n",
    ")\n",
    "pacientes_y_datos2.to_excel(\"F:/Empresas SF/carga/pacientes_en_Contact.xlsx\", index=False)"
   ]
  },
  {
   "cell_type": "code",
   "execution_count": 15,
   "metadata": {
    "notebookRunGroups": {
     "groupValue": ""
    }
   },
   "outputs": [],
   "source": [
    "Pacientes_Archivo[\"RutEstaoNo\"] = Pacientes_Archivo[\"rut\"].isin(\n",
    "    Pacientes_SF[\"IdentificationId__pc\"]\n",
    ")\n",
    "\n",
    "Final_pacientes_y_empresa = Pacientes_Archivo\n",
    "\n",
    "Subir_pacientes = pd.DataFrame()\n",
    "# agrupar = empresasqfaltan[empresasqfaltan['si']==False]\n",
    "Final_pacientes_y_empresa = Final_pacientes_y_empresa[\n",
    "    Final_pacientes_y_empresa[\"RutEstaoNo\"] == False\n",
    "]\n",
    "\n",
    "if (\"nombres\" in Final_pacientes_y_empresa.columns) == True:\n",
    "    Subir_pacientes[\"FirstName\"] = Final_pacientes_y_empresa[\"nombres\"].str.title().str.strip()    \n",
    "if (\"apellidos\" in Final_pacientes_y_empresa.columns) == True:\n",
    "    Subir_pacientes[\"LastName\"] = Final_pacientes_y_empresa[\"apellidos\"].str.title().str.strip()  \n",
    "if (\"rut\" in Final_pacientes_y_empresa.columns) == True:\n",
    "    Subir_pacientes[\"IdentificationId__pc\"] = Final_pacientes_y_empresa[\"rut\"]\n",
    "if (\"email\" in Final_pacientes_y_empresa.columns) == True:\n",
    "    Final_pacientes_y_empresa[\"email\"] = Final_pacientes_y_empresa[\"email\"].str.lower().str.strip()  \n",
    "    Subir_pacientes[\"PersonEmail\"] = Final_pacientes_y_empresa[\"email\"]\n",
    "if (\"nacimiento\" in Final_pacientes_y_empresa.columns) == True:\n",
    "    Subir_pacientes[\"PersonBirthdate\"] = Final_pacientes_y_empresa[\"nacimiento\"]\n",
    "if (\"sexo\" in Final_pacientes_y_empresa.columns) == True:\n",
    "    Subir_pacientes[\"HealthCloudGA__Gender__pc\"] = Final_pacientes_y_empresa[\"sexo\"].str.title().str.strip() \n",
    "if (\"direccion\" in Final_pacientes_y_empresa.columns) == True:\n",
    "    Subir_pacientes[\"BillingStreet\"] = Final_pacientes_y_empresa[\"direccion\"].str.title().str.strip()\n",
    "if (\"comuna\" in Final_pacientes_y_empresa.columns) == True:\n",
    "    Subir_pacientes[\"BillingState\"] = Final_pacientes_y_empresa[\"comuna\"].str.title().str.strip() \n",
    "if (\"ciudad\" in Final_pacientes_y_empresa.columns) == True:\n",
    "    Subir_pacientes[\"BillingCity\"] = Final_pacientes_y_empresa[\"ciudad\"].str.title().str.strip() \n",
    "if (\"cargo\" in Final_pacientes_y_empresa.columns) == True:\n",
    "    Subir_pacientes[\"PersonTitle\"] = Final_pacientes_y_empresa[\"cargo\"].str.title().str.strip() \n",
    "if (\"division\" in Final_pacientes_y_empresa.columns) == True:\n",
    "    Subir_pacientes[\"PersonDepartment\"] = Final_pacientes_y_empresa[\"division\"].str.title().str.strip() \n",
    "if (\"telefono\" in Final_pacientes_y_empresa.columns) == True:\n",
    "    Subir_pacientes[\"PersonMobilePhone\"] = Final_pacientes_y_empresa[\"telefono\"]\n",
    "\n",
    "    \n",
    "\n",
    "Subir_pacientes[\"BillingCountry\"] = \"Chile\"\n",
    "Subir_pacientes[\"Identification_Type__c\"] = \"RUT\"\n",
    "Subir_pacientes[\"RecordTypeId\"] = \"0128c000002Byp4AAC\"\n",
    "\n",
    "\n",
    "Subir_pacientes.to_excel(\"F:/Empresas SF/carga/pacientes_q_no_estan.xlsx\", index=False)\n",
    "\n"
   ]
  },
  {
   "cell_type": "code",
   "execution_count": 16,
   "metadata": {
    "notebookRunGroups": {
     "groupValue": ""
    }
   },
   "outputs": [],
   "source": [
    "\n",
    "Union_account_contact_relation['IdentificationId__pc_y'] = Union_account_contact_relation['IdentificationId__pc_y'].astype(str)\n",
    "Union_account_contact_relation['IdentificationId__pc_y'] = Union_account_contact_relation['IdentificationId__pc_y'].str.replace(\"-\", \"\")\n",
    "Union_account_contact_relation['IdentificationId__pc_y'] = Union_account_contact_relation['IdentificationId__pc_y'].str.upper()\n",
    "Union_account_contact_relation['IdentificationId__pc_y'] = Union_account_contact_relation['IdentificationId__pc_y'].str.strip()\n",
    "\n",
    "\n",
    "pacientes_y_datos_relation = pd.merge(\n",
    "    left=Pacientes_Archivo,\n",
    "    right=Union_account_contact_relation,\n",
    "    how=\"left\",\n",
    "    left_on=\"rut\",\n",
    "    right_on=\"IdentificationId__pc_y\",\n",
    ")\n",
    "pacientes_y_datos_relation.head()\n",
    "pacientes_y_datos_relation.to_excel(\"F:/Empresas SF/carga/pacientes_en_Acountcontacrelation.xlsx\", index=False)"
   ]
  },
  {
   "cell_type": "code",
   "execution_count": 17,
   "metadata": {
    "notebookRunGroups": {
     "groupValue": ""
    }
   },
   "outputs": [
    {
     "data": {
      "text/plain": [
       "(7894, 16)"
      ]
     },
     "execution_count": 17,
     "metadata": {},
     "output_type": "execute_result"
    }
   ],
   "source": [
    "#unir empresas y todas sus caracteristicas\n",
    "\n",
    "\n",
    "empresas_unidas = pd.merge(\n",
    "    left=Empresas_SF,\n",
    "    right=Programas_por_empresa_SF,\n",
    "    how=\"left\",\n",
    "    left_on=\"Id\",\n",
    "    right_on=\"Empresa__c\",\n",
    ")\n",
    "empresas_unidas.shape"
   ]
  },
  {
   "cell_type": "code",
   "execution_count": 18,
   "metadata": {
    "notebookRunGroups": {
     "groupValue": ""
    }
   },
   "outputs": [],
   "source": [
    "empresas_unidas.to_excel(\"F:/Empresas SF/carga/Empresas.xlsx\", index=False)"
   ]
  },
  {
   "cell_type": "code",
   "execution_count": 19,
   "metadata": {
    "notebookRunGroups": {
     "groupValue": ""
    }
   },
   "outputs": [
    {
     "data": {
      "text/plain": [
       "(1227484, 20)"
      ]
     },
     "execution_count": 19,
     "metadata": {},
     "output_type": "execute_result"
    }
   ],
   "source": [
    "Todos_los_Pacientes_con_empresas = pd.merge(\n",
    "    left=Paciente_Programas_SF,\n",
    "    right=empresas_unidas,\n",
    "    how=\"left\",\n",
    "    left_on=\"Programas_por_Empresas__c\",\n",
    "    right_on=\"Id_y\",\n",
    ")\n",
    "Todos_los_Pacientes_con_empresas.shape"
   ]
  },
  {
   "cell_type": "code",
   "execution_count": 20,
   "metadata": {
    "notebookRunGroups": {
     "groupValue": ""
    }
   },
   "outputs": [
    {
     "data": {
      "text/html": [
       "<div>\n",
       "<style scoped>\n",
       "    .dataframe tbody tr th:only-of-type {\n",
       "        vertical-align: middle;\n",
       "    }\n",
       "\n",
       "    .dataframe tbody tr th {\n",
       "        vertical-align: top;\n",
       "    }\n",
       "\n",
       "    .dataframe thead th {\n",
       "        text-align: right;\n",
       "    }\n",
       "</style>\n",
       "<table border=\"1\" class=\"dataframe\">\n",
       "  <thead>\n",
       "    <tr style=\"text-align: right;\">\n",
       "      <th></th>\n",
       "      <th>Id</th>\n",
       "      <th>Paciente__c</th>\n",
       "      <th>Programas_por_Empresas__c</th>\n",
       "      <th>padre__c</th>\n",
       "      <th>Id_x</th>\n",
       "      <th>Name_x</th>\n",
       "      <th>IdentificationId__pc</th>\n",
       "      <th>Identification_Type__c</th>\n",
       "      <th>Holding__c</th>\n",
       "      <th>Pa_s_del_Paciente__c</th>\n",
       "      <th>Campa_a__c</th>\n",
       "      <th>AccountNumber</th>\n",
       "      <th>Id_Empresa__c</th>\n",
       "      <th>Empleador__c</th>\n",
       "      <th>poliza__c</th>\n",
       "      <th>Id_y</th>\n",
       "      <th>Empresa__c</th>\n",
       "      <th>Empresa_Padre__c</th>\n",
       "      <th>Nombre_Empresa__c</th>\n",
       "      <th>Name_y</th>\n",
       "    </tr>\n",
       "  </thead>\n",
       "  <tbody>\n",
       "    <tr>\n",
       "      <th>0</th>\n",
       "      <td>a1Y8c00000C5asnEAB</td>\n",
       "      <td>0018c00002amLbpAAE</td>\n",
       "      <td>a1W8c000007vDPvEAM</td>\n",
       "      <td>MetLife</td>\n",
       "      <td>0018c00002axQaeAAE</td>\n",
       "      <td>Metlife Holding Metlife Serv. De Comerc Y Ases...</td>\n",
       "      <td>None</td>\n",
       "      <td>None</td>\n",
       "      <td>MetLife</td>\n",
       "      <td>a1U8c000005dAtnEAE</td>\n",
       "      <td>MetLife</td>\n",
       "      <td>None</td>\n",
       "      <td>EMP6008</td>\n",
       "      <td>None</td>\n",
       "      <td>None</td>\n",
       "      <td>a1W8c000007vDPvEAM</td>\n",
       "      <td>0018c00002axQaeAAE</td>\n",
       "      <td>MetLife</td>\n",
       "      <td>Metlife Holding Metlife Serv. De Comerc Y Ases...</td>\n",
       "      <td>A-0173</td>\n",
       "    </tr>\n",
       "    <tr>\n",
       "      <th>1</th>\n",
       "      <td>a1Y8c00000C5asoEAB</td>\n",
       "      <td>0018c00002amLbqAAE</td>\n",
       "      <td>a1W8c000007vDSpEAM</td>\n",
       "      <td>MetLife</td>\n",
       "      <td>0018c00002axQecAAE</td>\n",
       "      <td>Clínica Alemana</td>\n",
       "      <td>None</td>\n",
       "      <td>None</td>\n",
       "      <td>Clínica Alemana</td>\n",
       "      <td>a1U8c000005dAtnEAE</td>\n",
       "      <td>MetLife</td>\n",
       "      <td>None</td>\n",
       "      <td>EMP6274</td>\n",
       "      <td>Clínica Alemana</td>\n",
       "      <td>340006119</td>\n",
       "      <td>a1W8c000007vDSpEAM</td>\n",
       "      <td>0018c00002axQecAAE</td>\n",
       "      <td>MetLife</td>\n",
       "      <td>Clínica Alemana</td>\n",
       "      <td>A-0353</td>\n",
       "    </tr>\n",
       "    <tr>\n",
       "      <th>2</th>\n",
       "      <td>a1Y8c00000C5aspEAB</td>\n",
       "      <td>0018c00002amLbrAAE</td>\n",
       "      <td>a1W8c000007vDSpEAM</td>\n",
       "      <td>MetLife</td>\n",
       "      <td>0018c00002axQecAAE</td>\n",
       "      <td>Clínica Alemana</td>\n",
       "      <td>None</td>\n",
       "      <td>None</td>\n",
       "      <td>Clínica Alemana</td>\n",
       "      <td>a1U8c000005dAtnEAE</td>\n",
       "      <td>MetLife</td>\n",
       "      <td>None</td>\n",
       "      <td>EMP6274</td>\n",
       "      <td>Clínica Alemana</td>\n",
       "      <td>340006119</td>\n",
       "      <td>a1W8c000007vDSpEAM</td>\n",
       "      <td>0018c00002axQecAAE</td>\n",
       "      <td>MetLife</td>\n",
       "      <td>Clínica Alemana</td>\n",
       "      <td>A-0353</td>\n",
       "    </tr>\n",
       "    <tr>\n",
       "      <th>3</th>\n",
       "      <td>a1Y8c00000C5asqEAB</td>\n",
       "      <td>0018c00002amLbsAAE</td>\n",
       "      <td>a1W8c000007vDSpEAM</td>\n",
       "      <td>MetLife</td>\n",
       "      <td>0018c00002axQecAAE</td>\n",
       "      <td>Clínica Alemana</td>\n",
       "      <td>None</td>\n",
       "      <td>None</td>\n",
       "      <td>Clínica Alemana</td>\n",
       "      <td>a1U8c000005dAtnEAE</td>\n",
       "      <td>MetLife</td>\n",
       "      <td>None</td>\n",
       "      <td>EMP6274</td>\n",
       "      <td>Clínica Alemana</td>\n",
       "      <td>340006119</td>\n",
       "      <td>a1W8c000007vDSpEAM</td>\n",
       "      <td>0018c00002axQecAAE</td>\n",
       "      <td>MetLife</td>\n",
       "      <td>Clínica Alemana</td>\n",
       "      <td>A-0353</td>\n",
       "    </tr>\n",
       "    <tr>\n",
       "      <th>4</th>\n",
       "      <td>a1Y8c00000C5asrEAB</td>\n",
       "      <td>0018c00002amLc2AAE</td>\n",
       "      <td>a1W8c000007vDSpEAM</td>\n",
       "      <td>MetLife</td>\n",
       "      <td>0018c00002axQecAAE</td>\n",
       "      <td>Clínica Alemana</td>\n",
       "      <td>None</td>\n",
       "      <td>None</td>\n",
       "      <td>Clínica Alemana</td>\n",
       "      <td>a1U8c000005dAtnEAE</td>\n",
       "      <td>MetLife</td>\n",
       "      <td>None</td>\n",
       "      <td>EMP6274</td>\n",
       "      <td>Clínica Alemana</td>\n",
       "      <td>340006119</td>\n",
       "      <td>a1W8c000007vDSpEAM</td>\n",
       "      <td>0018c00002axQecAAE</td>\n",
       "      <td>MetLife</td>\n",
       "      <td>Clínica Alemana</td>\n",
       "      <td>A-0353</td>\n",
       "    </tr>\n",
       "  </tbody>\n",
       "</table>\n",
       "</div>"
      ],
      "text/plain": [
       "                   Id         Paciente__c Programas_por_Empresas__c padre__c  \\\n",
       "0  a1Y8c00000C5asnEAB  0018c00002amLbpAAE        a1W8c000007vDPvEAM  MetLife   \n",
       "1  a1Y8c00000C5asoEAB  0018c00002amLbqAAE        a1W8c000007vDSpEAM  MetLife   \n",
       "2  a1Y8c00000C5aspEAB  0018c00002amLbrAAE        a1W8c000007vDSpEAM  MetLife   \n",
       "3  a1Y8c00000C5asqEAB  0018c00002amLbsAAE        a1W8c000007vDSpEAM  MetLife   \n",
       "4  a1Y8c00000C5asrEAB  0018c00002amLc2AAE        a1W8c000007vDSpEAM  MetLife   \n",
       "\n",
       "                 Id_x                                             Name_x  \\\n",
       "0  0018c00002axQaeAAE  Metlife Holding Metlife Serv. De Comerc Y Ases...   \n",
       "1  0018c00002axQecAAE                                    Clínica Alemana   \n",
       "2  0018c00002axQecAAE                                    Clínica Alemana   \n",
       "3  0018c00002axQecAAE                                    Clínica Alemana   \n",
       "4  0018c00002axQecAAE                                    Clínica Alemana   \n",
       "\n",
       "  IdentificationId__pc Identification_Type__c       Holding__c  \\\n",
       "0                 None                   None          MetLife   \n",
       "1                 None                   None  Clínica Alemana   \n",
       "2                 None                   None  Clínica Alemana   \n",
       "3                 None                   None  Clínica Alemana   \n",
       "4                 None                   None  Clínica Alemana   \n",
       "\n",
       "  Pa_s_del_Paciente__c Campa_a__c AccountNumber Id_Empresa__c  \\\n",
       "0   a1U8c000005dAtnEAE    MetLife          None       EMP6008   \n",
       "1   a1U8c000005dAtnEAE    MetLife          None       EMP6274   \n",
       "2   a1U8c000005dAtnEAE    MetLife          None       EMP6274   \n",
       "3   a1U8c000005dAtnEAE    MetLife          None       EMP6274   \n",
       "4   a1U8c000005dAtnEAE    MetLife          None       EMP6274   \n",
       "\n",
       "      Empleador__c  poliza__c                Id_y          Empresa__c  \\\n",
       "0             None       None  a1W8c000007vDPvEAM  0018c00002axQaeAAE   \n",
       "1  Clínica Alemana  340006119  a1W8c000007vDSpEAM  0018c00002axQecAAE   \n",
       "2  Clínica Alemana  340006119  a1W8c000007vDSpEAM  0018c00002axQecAAE   \n",
       "3  Clínica Alemana  340006119  a1W8c000007vDSpEAM  0018c00002axQecAAE   \n",
       "4  Clínica Alemana  340006119  a1W8c000007vDSpEAM  0018c00002axQecAAE   \n",
       "\n",
       "  Empresa_Padre__c                                  Nombre_Empresa__c  Name_y  \n",
       "0          MetLife  Metlife Holding Metlife Serv. De Comerc Y Ases...  A-0173  \n",
       "1          MetLife                                    Clínica Alemana  A-0353  \n",
       "2          MetLife                                    Clínica Alemana  A-0353  \n",
       "3          MetLife                                    Clínica Alemana  A-0353  \n",
       "4          MetLife                                    Clínica Alemana  A-0353  "
      ]
     },
     "execution_count": 20,
     "metadata": {},
     "output_type": "execute_result"
    }
   ],
   "source": [
    "Todos_los_Pacientes_con_empresas.head()"
   ]
  },
  {
   "cell_type": "code",
   "execution_count": 21,
   "metadata": {
    "notebookRunGroups": {
     "groupValue": ""
    }
   },
   "outputs": [
    {
     "name": "stderr",
     "output_type": "stream",
     "text": [
      "C:\\Users\\jmartinez\\AppData\\Local\\Temp\\ipykernel_15012\\165953703.py:1: FutureWarning: Passing 'suffixes' which cause duplicate columns {'Id_y'} in the result is deprecated and will raise a MergeError in a future version.\n",
      "  Todos_los_Pacientes_con_empresas2 = pd.merge(\n"
     ]
    },
    {
     "data": {
      "text/plain": [
       "(1642371, 30)"
      ]
     },
     "execution_count": 21,
     "metadata": {},
     "output_type": "execute_result"
    }
   ],
   "source": [
    "Todos_los_Pacientes_con_empresas2 = pd.merge(\n",
    "    left=Pacientes_SF,\n",
    "    right=Todos_los_Pacientes_con_empresas,\n",
    "    how=\"left\",\n",
    "    left_on=\"Id\",\n",
    "    right_on=\"Paciente__c\",\n",
    ")\n",
    "Todos_los_Pacientes_con_empresas2.shape"
   ]
  },
  {
   "cell_type": "code",
   "execution_count": 22,
   "metadata": {
    "notebookRunGroups": {
     "groupValue": ""
    }
   },
   "outputs": [
    {
     "data": {
      "text/html": [
       "<div>\n",
       "<style scoped>\n",
       "    .dataframe tbody tr th:only-of-type {\n",
       "        vertical-align: middle;\n",
       "    }\n",
       "\n",
       "    .dataframe tbody tr th {\n",
       "        vertical-align: top;\n",
       "    }\n",
       "\n",
       "    .dataframe thead th {\n",
       "        text-align: right;\n",
       "    }\n",
       "</style>\n",
       "<table border=\"1\" class=\"dataframe\">\n",
       "  <thead>\n",
       "    <tr style=\"text-align: right;\">\n",
       "      <th></th>\n",
       "      <th>Id_x</th>\n",
       "      <th>IdentificationId__pc_x</th>\n",
       "      <th>Name</th>\n",
       "      <th>poliza__c_x</th>\n",
       "      <th>Identification_Type__c_x</th>\n",
       "      <th>IsPersonAccount</th>\n",
       "      <th>Ocupaci_n__c</th>\n",
       "      <th>Pa_s_del_Paciente__c_x</th>\n",
       "      <th>PersonTitle</th>\n",
       "      <th>PersonDepartment</th>\n",
       "      <th>...</th>\n",
       "      <th>Campa_a__c</th>\n",
       "      <th>AccountNumber</th>\n",
       "      <th>Id_Empresa__c</th>\n",
       "      <th>Empleador__c</th>\n",
       "      <th>poliza__c_y</th>\n",
       "      <th>Id_y</th>\n",
       "      <th>Empresa__c</th>\n",
       "      <th>Empresa_Padre__c</th>\n",
       "      <th>Nombre_Empresa__c</th>\n",
       "      <th>Name_y</th>\n",
       "    </tr>\n",
       "  </thead>\n",
       "  <tbody>\n",
       "    <tr>\n",
       "      <th>0</th>\n",
       "      <td>0018c00002amLTMAA2</td>\n",
       "      <td>173805004</td>\n",
       "      <td>Ximena Alejandra Muñoz Tudela</td>\n",
       "      <td>None</td>\n",
       "      <td>RUT</td>\n",
       "      <td>True</td>\n",
       "      <td>None</td>\n",
       "      <td>a1U8c000005dAtnEAE</td>\n",
       "      <td>None</td>\n",
       "      <td>None</td>\n",
       "      <td>...</td>\n",
       "      <td>MetLife</td>\n",
       "      <td>None</td>\n",
       "      <td>EMP7790</td>\n",
       "      <td>None</td>\n",
       "      <td>None</td>\n",
       "      <td>a1W8c0000083icPEAQ</td>\n",
       "      <td>0018c00002cXJZeAAO</td>\n",
       "      <td>MetLife</td>\n",
       "      <td>Metlife Vulco Vulco S.A.</td>\n",
       "      <td>A-1075</td>\n",
       "    </tr>\n",
       "    <tr>\n",
       "      <th>1</th>\n",
       "      <td>0018c00002amLUGAA2</td>\n",
       "      <td>153338949</td>\n",
       "      <td>Juana Andrea Gallardo Espinoza</td>\n",
       "      <td>None</td>\n",
       "      <td>RUT</td>\n",
       "      <td>True</td>\n",
       "      <td>None</td>\n",
       "      <td>a1U8c000005dAtnEAE</td>\n",
       "      <td>None</td>\n",
       "      <td>None</td>\n",
       "      <td>...</td>\n",
       "      <td>NaN</td>\n",
       "      <td>NaN</td>\n",
       "      <td>NaN</td>\n",
       "      <td>NaN</td>\n",
       "      <td>NaN</td>\n",
       "      <td>NaN</td>\n",
       "      <td>NaN</td>\n",
       "      <td>NaN</td>\n",
       "      <td>NaN</td>\n",
       "      <td>NaN</td>\n",
       "    </tr>\n",
       "    <tr>\n",
       "      <th>2</th>\n",
       "      <td>0018c00002amLUHAA2</td>\n",
       "      <td>177735213</td>\n",
       "      <td>Valentina Jahdai Gonzalez Diaz</td>\n",
       "      <td>None</td>\n",
       "      <td>RUT</td>\n",
       "      <td>True</td>\n",
       "      <td>None</td>\n",
       "      <td>a1U8c000005dAtnEAE</td>\n",
       "      <td>None</td>\n",
       "      <td>None</td>\n",
       "      <td>...</td>\n",
       "      <td>Farmacias Cruz Verde</td>\n",
       "      <td>None</td>\n",
       "      <td>EMP6476</td>\n",
       "      <td>Farmacias Cruz Verde</td>\n",
       "      <td>Sin Póliza Asociada</td>\n",
       "      <td>a1W8c0000083j8wEAA</td>\n",
       "      <td>0018c00002cXclVAAS</td>\n",
       "      <td>Farmacias Cruz Verde</td>\n",
       "      <td>Farmacias Cruz Verde</td>\n",
       "      <td>A-2322</td>\n",
       "    </tr>\n",
       "    <tr>\n",
       "      <th>3</th>\n",
       "      <td>0018c00002amLUIAA2</td>\n",
       "      <td>169332924</td>\n",
       "      <td>Deayan Nicole Parra Peralta</td>\n",
       "      <td>None</td>\n",
       "      <td>RUT</td>\n",
       "      <td>True</td>\n",
       "      <td>None</td>\n",
       "      <td>a1U8c000005dAtnEAE</td>\n",
       "      <td>None</td>\n",
       "      <td>None</td>\n",
       "      <td>...</td>\n",
       "      <td>Ey</td>\n",
       "      <td>None</td>\n",
       "      <td>EMP4888</td>\n",
       "      <td>None</td>\n",
       "      <td>None</td>\n",
       "      <td>a1W8c0000083laZEAQ</td>\n",
       "      <td>0018c00002eTboVAAS</td>\n",
       "      <td>Ey</td>\n",
       "      <td>EY - EY Audit SpA</td>\n",
       "      <td>A-4489</td>\n",
       "    </tr>\n",
       "    <tr>\n",
       "      <th>4</th>\n",
       "      <td>0018c00002amLUJAA2</td>\n",
       "      <td>172957692</td>\n",
       "      <td>Camila Fernanda Velásquez Rojas</td>\n",
       "      <td>None</td>\n",
       "      <td>RUT</td>\n",
       "      <td>True</td>\n",
       "      <td>None</td>\n",
       "      <td>a1U8c000005dAtnEAE</td>\n",
       "      <td>None</td>\n",
       "      <td>None</td>\n",
       "      <td>...</td>\n",
       "      <td>Minera Abra</td>\n",
       "      <td>None</td>\n",
       "      <td>EMP7397</td>\n",
       "      <td>None</td>\n",
       "      <td>None</td>\n",
       "      <td>a1W8c0000083iWhEAI</td>\n",
       "      <td>0018c00002cXJTrAAO</td>\n",
       "      <td>Minera Abra</td>\n",
       "      <td>Minera Abra Holding Minera Abra Minera Abra</td>\n",
       "      <td>A-0721</td>\n",
       "    </tr>\n",
       "  </tbody>\n",
       "</table>\n",
       "<p>5 rows × 30 columns</p>\n",
       "</div>"
      ],
      "text/plain": [
       "                 Id_x IdentificationId__pc_x                             Name  \\\n",
       "0  0018c00002amLTMAA2              173805004    Ximena Alejandra Muñoz Tudela   \n",
       "1  0018c00002amLUGAA2              153338949   Juana Andrea Gallardo Espinoza   \n",
       "2  0018c00002amLUHAA2              177735213   Valentina Jahdai Gonzalez Diaz   \n",
       "3  0018c00002amLUIAA2              169332924      Deayan Nicole Parra Peralta   \n",
       "4  0018c00002amLUJAA2              172957692  Camila Fernanda Velásquez Rojas   \n",
       "\n",
       "  poliza__c_x Identification_Type__c_x  IsPersonAccount Ocupaci_n__c  \\\n",
       "0        None                      RUT             True         None   \n",
       "1        None                      RUT             True         None   \n",
       "2        None                      RUT             True         None   \n",
       "3        None                      RUT             True         None   \n",
       "4        None                      RUT             True         None   \n",
       "\n",
       "  Pa_s_del_Paciente__c_x PersonTitle PersonDepartment  ...  \\\n",
       "0     a1U8c000005dAtnEAE        None             None  ...   \n",
       "1     a1U8c000005dAtnEAE        None             None  ...   \n",
       "2     a1U8c000005dAtnEAE        None             None  ...   \n",
       "3     a1U8c000005dAtnEAE        None             None  ...   \n",
       "4     a1U8c000005dAtnEAE        None             None  ...   \n",
       "\n",
       "             Campa_a__c AccountNumber Id_Empresa__c          Empleador__c  \\\n",
       "0               MetLife          None       EMP7790                  None   \n",
       "1                   NaN           NaN           NaN                   NaN   \n",
       "2  Farmacias Cruz Verde          None       EMP6476  Farmacias Cruz Verde   \n",
       "3                    Ey          None       EMP4888                  None   \n",
       "4           Minera Abra          None       EMP7397                  None   \n",
       "\n",
       "           poliza__c_y                Id_y          Empresa__c  \\\n",
       "0                 None  a1W8c0000083icPEAQ  0018c00002cXJZeAAO   \n",
       "1                  NaN                 NaN                 NaN   \n",
       "2  Sin Póliza Asociada  a1W8c0000083j8wEAA  0018c00002cXclVAAS   \n",
       "3                 None  a1W8c0000083laZEAQ  0018c00002eTboVAAS   \n",
       "4                 None  a1W8c0000083iWhEAI  0018c00002cXJTrAAO   \n",
       "\n",
       "       Empresa_Padre__c                            Nombre_Empresa__c  Name_y  \n",
       "0               MetLife                     Metlife Vulco Vulco S.A.  A-1075  \n",
       "1                   NaN                                          NaN     NaN  \n",
       "2  Farmacias Cruz Verde                         Farmacias Cruz Verde  A-2322  \n",
       "3                    Ey                            EY - EY Audit SpA  A-4489  \n",
       "4           Minera Abra  Minera Abra Holding Minera Abra Minera Abra  A-0721  \n",
       "\n",
       "[5 rows x 30 columns]"
      ]
     },
     "execution_count": 22,
     "metadata": {},
     "output_type": "execute_result"
    }
   ],
   "source": [
    "Todos_los_Pacientes_con_empresas2.head()"
   ]
  },
  {
   "cell_type": "code",
   "execution_count": 23,
   "metadata": {},
   "outputs": [
    {
     "data": {
      "text/plain": [
       "(1642371, 30)"
      ]
     },
     "execution_count": 23,
     "metadata": {},
     "output_type": "execute_result"
    }
   ],
   "source": [
    "Todos_los_Pacientes_con_empresas2.shape"
   ]
  },
  {
   "cell_type": "code",
   "execution_count": 24,
   "metadata": {
    "notebookRunGroups": {
     "groupValue": ""
    }
   },
   "outputs": [],
   "source": [
    "#Empresa_Padre__c\n",
    "Todos_los_Pacientes_con_empresas4 = Todos_los_Pacientes_con_empresas2[Todos_los_Pacientes_con_empresas2['Campa_a__c']== 'MetLife']\n",
    "#Todos_los_Pacientes_con_empresas4.to_excel(\"F:/Empresas SF/carga/Metlife.xlsx\", index=False)\n"
   ]
  },
  {
   "cell_type": "code",
   "execution_count": 25,
   "metadata": {},
   "outputs": [],
   "source": [
    "Todos_los_Pacientes_con_empresas4.shape\n",
    "Todos_los_Pacientes_con_empresas4.to_excel(\"F:/Empresas SF/carga/Metlife.xlsx\", index=False)"
   ]
  },
  {
   "attachments": {},
   "cell_type": "markdown",
   "metadata": {},
   "source": [
    "Aca es necesario El codigo Id desde Account de la empresa"
   ]
  },
  {
   "cell_type": "code",
   "execution_count": 26,
   "metadata": {},
   "outputs": [
    {
     "ename": "SyntaxError",
     "evalue": "invalid syntax (1909426273.py, line 2)",
     "output_type": "error",
     "traceback": [
      "\u001b[1;36m  Cell \u001b[1;32mIn[26], line 2\u001b[1;36m\u001b[0m\n\u001b[1;33m    Id_Y id desde account\u001b[0m\n\u001b[1;37m         ^\u001b[0m\n\u001b[1;31mSyntaxError\u001b[0m\u001b[1;31m:\u001b[0m invalid syntax\n"
     ]
    }
   ],
   "source": [
    "#AcoountContactRelation\n",
    "Id_Y id desde account\n",
    "empresa__c empresa"
   ]
  },
  {
   "cell_type": "code",
   "execution_count": null,
   "metadata": {},
   "outputs": [],
   "source": [
    "nuevos = \"C:/Users/jmartinez/Documents/reporte/19-01/reporte_general.xlsx\"\n",
    "Pacientes_Archivo2 = pd.read_excel(nuevos)\n",
    "# OJO se copia rut1 a rut le saca el guoion\n",
    "\n",
    "    \n",
    "\n",
    "Pacientes_Archivo2[\"rut\"] = Pacientes_Archivo2[\"Rut\"].astype(str)\n",
    "Pacientes_Archivo2[\"rut\"] = Pacientes_Archivo2[\"rut\"].str.replace(\"-\", \"\")\n",
    "    # aca se trabaja con el nuevo rut desde rut1 ojooooooo    \n",
    "Pacientes_Archivo2[\"rut\"] = Pacientes_Archivo2[\"rut\"].str.upper()    \n",
    "Pacientes_Archivo2[\"rut\"] = Pacientes_Archivo2[\"rut\"].str.strip()\n",
    "Pacientes_Archivo2.head()"
   ]
  },
  {
   "cell_type": "code",
   "execution_count": null,
   "metadata": {},
   "outputs": [],
   "source": [
    "pacientes_final_reportes = pd.merge(\n",
    "    left=Pacientes_Archivo2,\n",
    "    right=Todos_los_Pacientes_con_empresas2,\n",
    "    how=\"left\",\n",
    "    left_on=\"rut\",\n",
    "    right_on=\"IdentificationId__pc_x\",\n",
    ")\n",
    "pacientes_final_reportes.shape\n",
    "\n",
    "\n",
    "pacientes_final_reportes.to_excel(\"C:/Users/jmartinez/Documents/reporte/19-01/salida_reporte_general.xlsx\",index=False)"
   ]
  }
 ],
 "metadata": {
  "kernelspec": {
   "display_name": "salesforce",
   "language": "python",
   "name": "python3"
  },
  "language_info": {
   "codemirror_mode": {
    "name": "ipython",
    "version": 3
   },
   "file_extension": ".py",
   "mimetype": "text/x-python",
   "name": "python",
   "nbconvert_exporter": "python",
   "pygments_lexer": "ipython3",
   "version": "3.8.15"
  },
  "orig_nbformat": 4,
  "vscode": {
   "interpreter": {
    "hash": "7fbccfb583f385d5cd7c75cc6ade03c09354727271e9200f47ca4e7fedb5381e"
   }
  }
 },
 "nbformat": 4,
 "nbformat_minor": 2
}
