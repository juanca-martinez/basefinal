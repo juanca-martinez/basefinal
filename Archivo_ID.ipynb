{
 "cells": [
  {
   "cell_type": "code",
   "execution_count": null,
   "metadata": {
    "notebookRunGroups": {
     "groupValue": "1"
    }
   },
   "outputs": [],
   "source": [
    "from pathlib import Path \n",
    "import requests\n",
    "import pandas as pd\n",
    "import numpy as np\n",
    "from io import StringIO\n",
    "from simple_salesforce import Salesforce\n",
    "import shutil\n",
    "import datetime"
   ]
  },
  {
   "cell_type": "code",
   "execution_count": null,
   "metadata": {
    "notebookRunGroups": {
     "groupValue": "1"
    }
   },
   "outputs": [],
   "source": [
    "sf = Salesforce(\n",
    "    username=\"jmartinez@careassistance.com\",\n",
    "    password=\"Jcmm0104\",\n",
    "    security_token=\"EwVPSL02qXM8XQ2pkUdA13aW\",\n",
    ")"
   ]
  },
  {
   "cell_type": "code",
   "execution_count": null,
   "metadata": {
    "notebookRunGroups": {
     "groupValue": "1"
    }
   },
   "outputs": [],
   "source": [
    "# Recuperar empresas ID de salesforce desde Account\n",
    "results = sf.query_all(\n",
    "    \"\"\"\n",
    "   select Id, Name, IdentificationId__pc, Identification_Type__c,Holding__c ,Pa_s_del_Paciente__c,Campa_a__c,AccountNumber,Id_Empresa__c,poliza__c,Empleador__c  from account where ispersonaccount = false \n",
    "    \"\"\"\n",
    ")\n",
    "Empresas_SF = pd.DataFrame(results[\"records\"])\n",
    "Empresas_SF = Empresas_SF[\n",
    "    [\"Id\", \"Name\", \"IdentificationId__pc\", \"Identification_Type__c\", \"Holding__c\", \"Pa_s_del_Paciente__c\",'Campa_a__c','AccountNumber','Id_Empresa__c','Empleador__c','poliza__c']\n",
    "]\n",
    "Empresas_SF.shape"
   ]
  },
  {
   "cell_type": "code",
   "execution_count": null,
   "metadata": {
    "notebookRunGroups": {
     "groupValue": "1"
    }
   },
   "outputs": [],
   "source": [
    "# recuperar todos los pacientes ID desdde aAccount\n",
    "results = sf.query_all(\n",
    "    \"\"\"\n",
    "  select Id, IdentificationId__pc,Name,poliza__c, Identification_Type__c, IsPersonAccount, Ocupaci_n__c, Pa_s_del_Paciente__c, PersonTitle ,PersonDepartment  from Account where ispersonaccount = True\n",
    "    \"\"\"\n",
    ")\n",
    "Pacientes_SF = pd.DataFrame(results[\"records\"])\n",
    "\n",
    "Pacientes_SF = Pacientes_SF[[\"Id\", \"IdentificationId__pc\", \"Name\",'poliza__c','Identification_Type__c','IsPersonAccount','Ocupaci_n__c','Pa_s_del_Paciente__c','PersonTitle','PersonDepartment']]\n",
    "Pacientes_SF.shape"
   ]
  },
  {
   "cell_type": "code",
   "execution_count": null,
   "metadata": {
    "notebookRunGroups": {
     "groupValue": "1"
    }
   },
   "outputs": [],
   "source": [
    "# recuperar todos los pacientes ID desde Contact\n",
    "results = sf.query_all(\n",
    "    \"\"\"\n",
    "   select Id,Name,AccountId  from Contact\n",
    "    \"\"\"\n",
    ")\n",
    "Pacientesc_SF = pd.DataFrame(results[\"records\"])\n",
    "\n",
    "Pacientesc_SF = Pacientesc_SF[[\"Id\", \"AccountId\", \"Name\"]]\n",
    "Pacientesc_SF.shape"
   ]
  },
  {
   "cell_type": "code",
   "execution_count": null,
   "metadata": {
    "notebookRunGroups": {
     "groupValue": "1"
    }
   },
   "outputs": [],
   "source": [
    "#Relacion AccountContactRelacion se descarga la relacion paciente Empresa\n",
    "results = sf.query_all(\n",
    "    \"\"\"\n",
    "   select Id,AccountId,ContactId,NameAccount__c, RutContact__c from AccountContactRelation\n",
    "    \"\"\"\n",
    ")\n",
    "Relacion_Pacientes_Empresas = pd.DataFrame(results[\"records\"])\n",
    "\n",
    "Relacion_Pacientes_Empresas = Relacion_Pacientes_Empresas[\n",
    "    [\"Id\", \"AccountId\", \"ContactId\", \"NameAccount__c\", \"RutContact__c\"]\n",
    "]\n",
    "Relacion_Pacientes_Empresas.shape"
   ]
  },
  {
   "cell_type": "code",
   "execution_count": null,
   "metadata": {
    "notebookRunGroups": {
     "groupValue": ""
    }
   },
   "outputs": [],
   "source": [
    "#union de pacientes\n",
    "Union_account_contact_relation = pd.merge(\n",
    "    left=Relacion_Pacientes_Empresas,\n",
    "    right=Pacientesc_SF,\n",
    "    how=\"left\",\n",
    "    left_on=\"ContactId\",\n",
    "    right_on=\"Id\",\n",
    ")\n",
    "Union_account_contact_relation.head()"
   ]
  },
  {
   "cell_type": "code",
   "execution_count": null,
   "metadata": {
    "notebookRunGroups": {
     "groupValue": ""
    }
   },
   "outputs": [],
   "source": [
    "#union de empresas\n",
    "Union_account_contact_relation = pd.merge(\n",
    "    left=Union_account_contact_relation,\n",
    "    right=Empresas_SF,\n",
    "    how=\"left\",\n",
    "    left_on=\"AccountId_x\",\n",
    "    right_on=\"Id\",\n",
    ")\n",
    "Union_account_contact_relation.head()"
   ]
  },
  {
   "cell_type": "code",
   "execution_count": null,
   "metadata": {},
   "outputs": [],
   "source": [
    "#union de pacientes con sus datos\n",
    "Union_account_contact_relation = pd.merge(\n",
    "    left=Union_account_contact_relation,\n",
    "    right=Pacientes_SF,\n",
    "    how=\"left\",\n",
    "    left_on=\"RutContact__c\",\n",
    "    right_on=\"IdentificationId__pc\",\n",
    ")\n",
    "Union_account_contact_relation.head()"
   ]
  },
  {
   "cell_type": "code",
   "execution_count": null,
   "metadata": {
    "notebookRunGroups": {
     "groupValue": ""
    }
   },
   "outputs": [],
   "source": [
    "nuevos = \"F:/Empresas SF/carga/sacarid.xlsx\"\n",
    "Pacientes_Archivo = pd.read_excel(nuevos)\n",
    "# OJO se copia rut1 a rut le saca el guoion\n",
    "\n",
    "    \n",
    "\n",
    "Pacientes_Archivo[\"rut\"] = Pacientes_Archivo[\"rut1\"].astype(str)\n",
    "Pacientes_Archivo[\"rut\"] = Pacientes_Archivo[\"rut\"].str.replace(\"-\", \"\")\n",
    "    # aca se trabaja con el nuevo rut desde rut1 ojooooooo    \n",
    "Pacientes_Archivo[\"rut\"] = Pacientes_Archivo[\"rut\"].str.upper()    \n",
    "Pacientes_Archivo[\"rut\"] = Pacientes_Archivo[\"rut\"].str.strip()\n",
    "Pacientes_Archivo.head()\n"
   ]
  },
  {
   "cell_type": "code",
   "execution_count": null,
   "metadata": {
    "notebookRunGroups": {
     "groupValue": ""
    }
   },
   "outputs": [],
   "source": [
    "#Pacientes_SF[\"IdentificationId__pc\"] = Pacientes_SF[\"rut1\"].astype(str)\n",
    "Pacientes_SF[\"IdentificationId__pc\"] = Pacientes_SF[\"IdentificationId__pc\"].str.replace(\"-\", \"\")\n",
    "    # aca se trabaja con el nuevo rut desde rut1 ojooooooo    \n",
    "Pacientes_SF[\"IdentificationId__pc\"] = Pacientes_SF[\"IdentificationId__pc\"].str.upper()    \n",
    "Pacientes_SF[\"IdentificationId__pc\"] = Pacientes_SF[\"IdentificationId__pc\"].str.strip()\n",
    "\n",
    "pacientes_y_datos = pd.merge(\n",
    "    left=Pacientes_Archivo,\n",
    "    right=Pacientes_SF,\n",
    "    how=\"left\",\n",
    "    left_on=\"rut\",\n",
    "    right_on=\"IdentificationId__pc\",\n",
    ")\n",
    "pacientes_y_datos.to_excel(\"F:/Empresas SF/carga/pacientes_en_account.xlsx\", index=False)"
   ]
  },
  {
   "cell_type": "code",
   "execution_count": null,
   "metadata": {},
   "outputs": [],
   "source": [
    "#buscar empresas desde Programas_por_Empresas__c\n",
    "results = sf.query_all(\n",
    "    \"\"\"\n",
    "   select Id,Empresa__c, Empresa_Padre__c,Nombre_Empresa__c, Name  from Programas_por_Empresas__c \n",
    "    \"\"\"\n",
    ")\n",
    "Programas_por_empresa_SF = pd.DataFrame(results[\"records\"])\n",
    "\n",
    "Programas_por_empresa_SF = Programas_por_empresa_SF[\n",
    "    [\"Id\", \"Empresa__c\", \"Empresa_Padre__c\", \"Nombre_Empresa__c\", \"Name\"]\n",
    "]\n",
    "Programas_por_empresa_SF.shape"
   ]
  },
  {
   "cell_type": "code",
   "execution_count": null,
   "metadata": {
    "notebookRunGroups": {
     "groupValue": ""
    }
   },
   "outputs": [],
   "source": [
    "#buscar empresas desde Paciente_Programas__c\n",
    "results = sf.query_all(\n",
    "    \"\"\"\n",
    "    select Id,Paciente__c, Programas_por_Empresas__c,padre__c from Paciente_Programas__c  \n",
    "    \"\"\"\n",
    ")\n",
    "Paciente_Programas_SF = pd.DataFrame(results[\"records\"])\n",
    "\n",
    "Paciente_Programas_SF = Paciente_Programas_SF[\n",
    "    [\"Id\", \"Paciente__c\", \"Programas_por_Empresas__c\", \"padre__c\"]\n",
    "]\n",
    "Paciente_Programas_SF.shape"
   ]
  },
  {
   "cell_type": "code",
   "execution_count": null,
   "metadata": {
    "notebookRunGroups": {
     "groupValue": ""
    }
   },
   "outputs": [],
   "source": [
    "pacientes_y_datos2 = pd.merge(\n",
    "    left=pacientes_y_datos,\n",
    "    right=Pacientesc_SF,\n",
    "    how=\"left\",\n",
    "    left_on=\"Id\",\n",
    "    right_on=\"AccountId\",\n",
    ")\n",
    "pacientes_y_datos2.to_excel(\"F:/Empresas SF/carga/pacientes_en_Contact.xlsx\", index=False)"
   ]
  },
  {
   "cell_type": "code",
   "execution_count": null,
   "metadata": {
    "notebookRunGroups": {
     "groupValue": ""
    }
   },
   "outputs": [],
   "source": [
    "Pacientes_Archivo[\"RutEstaoNo\"] = Pacientes_Archivo[\"rut\"].isin(\n",
    "    Pacientes_SF[\"IdentificationId__pc\"]\n",
    ")\n",
    "\n",
    "Final_pacientes_y_empresa = Pacientes_Archivo\n",
    "\n",
    "Subir_pacientes = pd.DataFrame()\n",
    "# agrupar = empresasqfaltan[empresasqfaltan['si']==False]\n",
    "Final_pacientes_y_empresa = Final_pacientes_y_empresa[\n",
    "    Final_pacientes_y_empresa[\"RutEstaoNo\"] == False\n",
    "]\n",
    "\n",
    "if (\"nombres\" in Final_pacientes_y_empresa.columns) == True:\n",
    "    Subir_pacientes[\"FirstName\"] = Final_pacientes_y_empresa[\"nombres\"].str.title().str.strip()    \n",
    "if (\"apellidos\" in Final_pacientes_y_empresa.columns) == True:\n",
    "    Subir_pacientes[\"LastName\"] = Final_pacientes_y_empresa[\"apellidos\"].str.title().str.strip()  \n",
    "if (\"rut\" in Final_pacientes_y_empresa.columns) == True:\n",
    "    Subir_pacientes[\"IdentificationId__pc\"] = Final_pacientes_y_empresa[\"rut\"]\n",
    "if (\"email\" in Final_pacientes_y_empresa.columns) == True:\n",
    "    Final_pacientes_y_empresa[\"email\"] = Final_pacientes_y_empresa[\"email\"].str.lower().str.strip()  \n",
    "    Subir_pacientes[\"PersonEmail\"] = Final_pacientes_y_empresa[\"email\"]\n",
    "if (\"nacimiento\" in Final_pacientes_y_empresa.columns) == True:\n",
    "    Subir_pacientes[\"PersonBirthdate\"] = Final_pacientes_y_empresa[\"nacimiento\"]\n",
    "if (\"sexo\" in Final_pacientes_y_empresa.columns) == True:\n",
    "    Subir_pacientes[\"HealthCloudGA__Gender__pc\"] = Final_pacientes_y_empresa[\"sexo\"].str.title().str.strip() \n",
    "if (\"direccion\" in Final_pacientes_y_empresa.columns) == True:\n",
    "    Subir_pacientes[\"BillingStreet\"] = Final_pacientes_y_empresa[\"direccion\"].str.title().str.strip()\n",
    "if (\"comuna\" in Final_pacientes_y_empresa.columns) == True:\n",
    "    Subir_pacientes[\"BillingState\"] = Final_pacientes_y_empresa[\"comuna\"].str.title().str.strip() \n",
    "if (\"ciudad\" in Final_pacientes_y_empresa.columns) == True:\n",
    "    Subir_pacientes[\"BillingCity\"] = Final_pacientes_y_empresa[\"ciudad\"].str.title().str.strip() \n",
    "if (\"cargo\" in Final_pacientes_y_empresa.columns) == True:\n",
    "    Subir_pacientes[\"PersonTitle\"] = Final_pacientes_y_empresa[\"cargo\"].str.title().str.strip() \n",
    "if (\"division\" in Final_pacientes_y_empresa.columns) == True:\n",
    "    Subir_pacientes[\"PersonDepartment\"] = Final_pacientes_y_empresa[\"division\"].str.title().str.strip() \n",
    "if (\"telefono\" in Final_pacientes_y_empresa.columns) == True:\n",
    "    Subir_pacientes[\"PersonMobilePhone\"] = Final_pacientes_y_empresa[\"telefono\"]\n",
    "\n",
    "    \n",
    "\n",
    "Subir_pacientes[\"BillingCountry\"] = \"Chile\"\n",
    "Subir_pacientes[\"Identification_Type__c\"] = \"RUT\"\n",
    "Subir_pacientes[\"RecordTypeId\"] = \"0128c000002Byp4AAC\"\n",
    "\n",
    "\n",
    "Subir_pacientes.to_excel(\"F:/Empresas SF/carga/pacientes_q_no_estan.xlsx\", index=False)\n",
    "\n"
   ]
  },
  {
   "cell_type": "code",
   "execution_count": null,
   "metadata": {
    "notebookRunGroups": {
     "groupValue": ""
    }
   },
   "outputs": [],
   "source": [
    "\n",
    "Union_account_contact_relation['IdentificationId__pc_y'] = Union_account_contact_relation['IdentificationId__pc_y'].astype(str)\n",
    "Union_account_contact_relation['IdentificationId__pc_y'] = Union_account_contact_relation['IdentificationId__pc_y'].str.replace(\"-\", \"\")\n",
    "Union_account_contact_relation['IdentificationId__pc_y'] = Union_account_contact_relation['IdentificationId__pc_y'].str.upper()\n",
    "Union_account_contact_relation['IdentificationId__pc_y'] = Union_account_contact_relation['IdentificationId__pc_y'].str.strip()\n",
    "\n",
    "\n",
    "pacientes_y_datos_relation = pd.merge(\n",
    "    left=Pacientes_Archivo,\n",
    "    right=Union_account_contact_relation,\n",
    "    how=\"left\",\n",
    "    left_on=\"rut\",\n",
    "    right_on=\"IdentificationId__pc_y\",\n",
    ")\n",
    "pacientes_y_datos_relation.head()\n",
    "pacientes_y_datos_relation.to_excel(\"F:/Empresas SF/carga/pacientes_en_Acountcontacrelation.xlsx\", index=False)"
   ]
  },
  {
   "cell_type": "code",
   "execution_count": null,
   "metadata": {
    "notebookRunGroups": {
     "groupValue": ""
    }
   },
   "outputs": [],
   "source": [
    "#unir empresas y todas sus caracteristicas\n",
    "\n",
    "\n",
    "empresas_unidas = pd.merge(\n",
    "    left=Empresas_SF,\n",
    "    right=Programas_por_empresa_SF,\n",
    "    how=\"left\",\n",
    "    left_on=\"Id\",\n",
    "    right_on=\"Empresa__c\",\n",
    ")\n",
    "empresas_unidas.shape"
   ]
  },
  {
   "cell_type": "code",
   "execution_count": null,
   "metadata": {
    "notebookRunGroups": {
     "groupValue": ""
    }
   },
   "outputs": [],
   "source": [
    "empresas_unidas.to_excel(\"F:/Empresas SF/carga/Empresas.xlsx\", index=False)"
   ]
  },
  {
   "cell_type": "code",
   "execution_count": null,
   "metadata": {
    "notebookRunGroups": {
     "groupValue": ""
    }
   },
   "outputs": [],
   "source": [
    "Todos_los_Pacientes_con_empresas = pd.merge(\n",
    "    left=Paciente_Programas_SF,\n",
    "    right=empresas_unidas,\n",
    "    how=\"left\",\n",
    "    left_on=\"Programas_por_Empresas__c\",\n",
    "    right_on=\"Id_y\",\n",
    ")\n",
    "Todos_los_Pacientes_con_empresas.shape"
   ]
  },
  {
   "cell_type": "code",
   "execution_count": null,
   "metadata": {
    "notebookRunGroups": {
     "groupValue": ""
    }
   },
   "outputs": [],
   "source": [
    "Todos_los_Pacientes_con_empresas.head()"
   ]
  },
  {
   "cell_type": "code",
   "execution_count": null,
   "metadata": {
    "notebookRunGroups": {
     "groupValue": ""
    }
   },
   "outputs": [],
   "source": [
    "Todos_los_Pacientes_con_empresas2 = pd.merge(\n",
    "    left=Pacientes_SF,\n",
    "    right=Todos_los_Pacientes_con_empresas,\n",
    "    how=\"left\",\n",
    "    left_on=\"Id\",\n",
    "    right_on=\"Paciente__c\",\n",
    ")\n",
    "Todos_los_Pacientes_con_empresas2.shape"
   ]
  },
  {
   "cell_type": "code",
   "execution_count": null,
   "metadata": {
    "notebookRunGroups": {
     "groupValue": ""
    }
   },
   "outputs": [],
   "source": [
    "Todos_los_Pacientes_con_empresas2.head()"
   ]
  },
  {
   "cell_type": "code",
   "execution_count": null,
   "metadata": {},
   "outputs": [],
   "source": [
    "Todos_los_Pacientes_con_empresas2.shape"
   ]
  },
  {
   "cell_type": "code",
   "execution_count": null,
   "metadata": {
    "notebookRunGroups": {
     "groupValue": ""
    }
   },
   "outputs": [],
   "source": [
    "#Empresa_Padre__c\n",
    "Todos_los_Pacientes_con_empresas4 = Todos_los_Pacientes_con_empresas2[Todos_los_Pacientes_con_empresas2['Campa_a__c']== 'MetLife']\n",
    "#Todos_los_Pacientes_con_empresas4.to_excel(\"F:/Empresas SF/carga/Metlife.xlsx\", index=False)\n"
   ]
  },
  {
   "cell_type": "code",
   "execution_count": null,
   "metadata": {},
   "outputs": [],
   "source": [
    "Todos_los_Pacientes_con_empresas4.shape\n",
    "Todos_los_Pacientes_con_empresas4.to_excel(\"F:/Empresas SF/carga/Metlife.xlsx\", index=False)"
   ]
  },
  {
   "attachments": {},
   "cell_type": "markdown",
   "metadata": {},
   "source": [
    "Aca es necesario El codigo Id desde Account de la empresa"
   ]
  },
  {
   "cell_type": "code",
   "execution_count": null,
   "metadata": {},
   "outputs": [],
   "source": [
    "#AcoountContactRelation\n",
    "Id_Y id desde account\n",
    "empresa__c empresa"
   ]
  },
  {
   "cell_type": "code",
   "execution_count": null,
   "metadata": {},
   "outputs": [],
   "source": [
    "nuevos = \"C:/Users/jmartinez/Documents/reporte/19-01/reporte_general.xlsx\"\n",
    "Pacientes_Archivo2 = pd.read_excel(nuevos)\n",
    "# OJO se copia rut1 a rut le saca el guoion\n",
    "\n",
    "    \n",
    "\n",
    "Pacientes_Archivo2[\"rut\"] = Pacientes_Archivo2[\"Rut\"].astype(str)\n",
    "Pacientes_Archivo2[\"rut\"] = Pacientes_Archivo2[\"rut\"].str.replace(\"-\", \"\")\n",
    "    # aca se trabaja con el nuevo rut desde rut1 ojooooooo    \n",
    "Pacientes_Archivo2[\"rut\"] = Pacientes_Archivo2[\"rut\"].str.upper()    \n",
    "Pacientes_Archivo2[\"rut\"] = Pacientes_Archivo2[\"rut\"].str.strip()\n",
    "Pacientes_Archivo2.head()"
   ]
  },
  {
   "cell_type": "code",
   "execution_count": null,
   "metadata": {},
   "outputs": [],
   "source": [
    "pacientes_final_reportes = pd.merge(\n",
    "    left=Pacientes_Archivo2,\n",
    "    right=Todos_los_Pacientes_con_empresas2,\n",
    "    how=\"left\",\n",
    "    left_on=\"rut\",\n",
    "    right_on=\"IdentificationId__pc_x\",\n",
    ")\n",
    "pacientes_final_reportes.shape\n",
    "\n",
    "\n",
    "pacientes_final_reportes.to_excel(\"C:/Users/jmartinez/Documents/reporte/19-01/salida_reporte_general.xlsx\",index=False)"
   ]
  }
 ],
 "metadata": {
  "kernelspec": {
   "display_name": "salesforce",
   "language": "python",
   "name": "python3"
  },
  "language_info": {
   "codemirror_mode": {
    "name": "ipython",
    "version": 3
   },
   "file_extension": ".py",
   "mimetype": "text/x-python",
   "name": "python",
   "nbconvert_exporter": "python",
   "pygments_lexer": "ipython3",
   "version": "3.8.15"
  },
  "orig_nbformat": 4,
  "vscode": {
   "interpreter": {
    "hash": "7fbccfb583f385d5cd7c75cc6ade03c09354727271e9200f47ca4e7fedb5381e"
   }
  }
 },
 "nbformat": 4,
 "nbformat_minor": 2
}
