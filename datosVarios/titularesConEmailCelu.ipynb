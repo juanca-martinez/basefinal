{
 "cells": [
  {
   "cell_type": "code",
   "execution_count": 15,
   "metadata": {},
   "outputs": [],
   "source": [
    "import json\n",
    "import numpy as np\n",
    "import matplotlib.pyplot as plt\n",
    "import matplotlib\n",
    "import pandas as pd\n",
    "from simple_salesforce import Salesforce, format_soql, format_external_id\n",
    "import paramiko\n",
    "import datetime\n",
    "from datetime import date\n",
    "import re\n",
    "from collections import OrderedDict\n",
    "import simpler_sf\n",
    "simpler_sf.simple_salesforce()\n",
    "import simple_salesforce\n",
    "with open(\"../login.json\", \"r\") as j:\n",
    "    misDatos = json.load(j)\n",
    "#para smart query\n",
    "\"\"\" sf = simple_salesforce.Salesforce(\n",
    "    username=misDatos[\"username\"],\n",
    "    password=misDatos[\"password\"],\n",
    "    security_token=misDatos[\"security_token\"],\n",
    ")\n",
    " \"\"\"\n",
    "#para lo demas\n",
    "sf = Salesforce(\n",
    "    username=misDatos[\"username\"],\n",
    "    password=misDatos[\"password\"],\n",
    "    security_token=misDatos[\"security_token\"],\n",
    ")\n",
    "# paramiko.util.log_to_file(\"paramiko.log\")\n",
    "regex = re.compile(r\"([A-Za-z0-9]+[.-_])*[A-Za-z0-9]+@[A-Za-z0-9-]+(\\.[A-Z|a-z]{2,})+\")"
   ]
  },
  {
   "cell_type": "code",
   "execution_count": 11,
   "metadata": {},
   "outputs": [
    {
     "data": {
      "text/plain": [
       "(10543, 3)"
      ]
     },
     "execution_count": 11,
     "metadata": {},
     "output_type": "execute_result"
    }
   ],
   "source": [
    "celular = sf.query_all(\n",
    "    \"\"\"\n",
    "  select Id, IdentificationId__pc, PersonEmail , PersonMobilePhone,Phone ,HealthCloudGA__Age__pc  from account where ispersonaccount = true and PersonMobilePhone <> ''\n",
    "    \"\"\"\n",
    ")\n",
    "dfCelular = pd.DataFrame(celular[\"records\"])\n",
    "dfCelular = dfCelular[ \n",
    "    [\n",
    "        \"Id\",\n",
    "        \"IdentificationId__pc\",\n",
    "        \"PersonMobilePhone\",\n",
    "        \n",
    "    ]\n",
    "] \n",
    "dfCelular.shape"
   ]
  },
  {
   "cell_type": "code",
   "execution_count": 12,
   "metadata": {},
   "outputs": [
    {
     "data": {
      "text/plain": [
       "(108144, 3)"
      ]
     },
     "execution_count": 12,
     "metadata": {},
     "output_type": "execute_result"
    }
   ],
   "source": [
    "telefono = sf.query_all(\n",
    "    \"\"\"\n",
    "  select Id, IdentificationId__pc, PersonEmail , Phone ,PersonMobilePhone ,HealthCloudGA__Age__pc  from account where ispersonaccount = true and Phone <> ''\n",
    "    \"\"\"\n",
    ")\n",
    "dftTelefono = pd.DataFrame(telefono[\"records\"])\n",
    "dftTelefono = dftTelefono[ \n",
    "    [\n",
    "        \"Id\",\n",
    "        \"IdentificationId__pc\",\n",
    "        \"Phone\",\n",
    "        \n",
    "    ]\n",
    "] \n",
    "dftTelefono.shape"
   ]
  },
  {
   "cell_type": "code",
   "execution_count": 13,
   "metadata": {},
   "outputs": [
    {
     "data": {
      "text/plain": [
       "(717419, 3)"
      ]
     },
     "execution_count": 13,
     "metadata": {},
     "output_type": "execute_result"
    }
   ],
   "source": [
    "email = sf.query_all(\n",
    "    \"\"\"\n",
    "  select Id, IdentificationId__pc,PersonEmail , Phone  ,PersonMobilePhone ,HealthCloudGA__Age__pc  from account where ispersonaccount = true and PersonEmail <> ''\n",
    "    \"\"\"\n",
    ")\n",
    "dfemail = pd.DataFrame(email[\"records\"])\n",
    "dfemail = dfemail[ \n",
    "    [\n",
    "        \"Id\",\n",
    "        \"IdentificationId__pc\",\n",
    "        \"PersonEmail\",\n",
    "        \"HealthCloudGA__Age__pc\",\n",
    "        \n",
    "    ]\n",
    "] \n",
    "dfemail.shape"
   ]
  },
  {
   "cell_type": "code",
   "execution_count": 16,
   "metadata": {},
   "outputs": [
    {
     "data": {
      "text/plain": [
       "(761043, 3)"
      ]
     },
     "execution_count": 16,
     "metadata": {},
     "output_type": "execute_result"
    }
   ],
   "source": [
    "\n",
    "email = sf.query_all(\n",
    "    \"\"\"\n",
    "  select Id,IdentificationId__pc, PersonEmail , Phone  ,PersonMobilePhone ,HealthCloudGA__Age__pc  from account where  PersonMobilePhone <> '' or Phone <> '' or PersonEmail <> ''\n",
    "\n",
    "    \"\"\"\n",
    ")\n",
    "dfemail = pd.DataFrame(email[\"records\"])\n",
    "dfemail = dfemail[ \n",
    "    [\n",
    "        \"Id\",\n",
    "        \"IdentificationId__pc\",\n",
    "        \"PersonEmail\",\n",
    "        \"HealthCloudGA__Age__pc\",\n",
    "        \n",
    "    ]\n",
    "] \n",
    "dfemail.shape"
   ]
  },
  {
   "cell_type": "code",
   "execution_count": null,
   "metadata": {},
   "outputs": [],
   "source": [
    "tiTulares = \"F:/Empresas SF/carga/carga.xlsx\"\n",
    "Pacientes_Archivo = pd.read_excel(tiTulares)"
   ]
  },
  {
   "cell_type": "code",
   "execution_count": null,
   "metadata": {},
   "outputs": [],
   "source": []
  }
 ],
 "metadata": {
  "kernelspec": {
   "display_name": "salesforce",
   "language": "python",
   "name": "python3"
  },
  "language_info": {
   "codemirror_mode": {
    "name": "ipython",
    "version": 3
   },
   "file_extension": ".py",
   "mimetype": "text/x-python",
   "name": "python",
   "nbconvert_exporter": "python",
   "pygments_lexer": "ipython3",
   "version": "3.8.16"
  },
  "orig_nbformat": 4
 },
 "nbformat": 4,
 "nbformat_minor": 2
}
