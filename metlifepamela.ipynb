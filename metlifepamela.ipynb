{
 "cells": [
  {
   "cell_type": "code",
   "execution_count": null,
   "metadata": {},
   "outputs": [],
   "source": [
    "import pandas as pd\n",
    "import numpy as np\n",
    "from sqlalchemy import create_engine\n",
    "import matplotlib.pyplot as plt "
   ]
  },
  {
   "cell_type": "code",
   "execution_count": null,
   "metadata": {},
   "outputs": [],
   "source": [
    "archivo2 = 'C:/Users/jmartinez/Downloads/pamela metlife.xlsx'\n",
    "data20 = pd.read_excel(archivo2)"
   ]
  },
  {
   "cell_type": "code",
   "execution_count": null,
   "metadata": {},
   "outputs": [],
   "source": [
    "data20.shape"
   ]
  },
  {
   "cell_type": "code",
   "execution_count": null,
   "metadata": {},
   "outputs": [],
   "source": [
    "def cambiarSa(x):      \n",
    "    #subcadena = 'Sa' #la subcadena que queremos\n",
    "    #if subcadena in x and x.index(subcadena) != 0:\n",
    "    \n",
    "    if x[len(x)-2:] == 'Sa':\n",
    "        x = x.replace('Sa','S.A.')\n",
    "    if x[len(x)-2:] == 'S.':\n",
    "        x = x.replace('S.','S.A.')\n",
    "    if x[len(x)-3:] == 'S A':\n",
    "        x = x.replace('S A','S.A.')\n",
    "    if x[len(x)-3:] == 'SA.':\n",
    "        x = x.replace('SA.','S.A.')\n",
    "    if x[len(x)-3:] == 'S.A':\n",
    "        x = x.replace('S.A','S.A.') \n",
    "    if x[len(x)-4:] == 'S. A': \n",
    "        x = x.replace('S. A','S.A.') \n",
    "    return x\n",
    "\n",
    "def cambiarIn(y):\n",
    "    \n",
    "    if y[0:4] == 'Soc ':\n",
    "        y = y.replace('Soc ','Soc. ')\n",
    "    if y[0:5] == 'Serv ':\n",
    "        y = y.replace('Serv ','Serv. ')\n",
    "    if y[0:5] == 'Asoc ':\n",
    "        y = y.replace('Asoc ','Asoc. ')\n",
    "    return y"
   ]
  },
  {
   "cell_type": "code",
   "execution_count": null,
   "metadata": {},
   "outputs": [],
   "source": [
    "#ingresar data20 segun Campaña\n",
    "\n",
    "\n",
    "data20['empleador'] = data20['empleador'].astype(str)\n",
    "\n",
    "\n",
    "#saca espacios\n",
    "\n",
    "data20['empleador'] = data20['empleador'].str.strip()\n",
    "data20['empleador'] = data20['empleador'].str.strip('.')\n",
    "#data20['holding'] = data20['holding'].str.strip('0123456789-_.,')\n",
    "data20['holding'] = data20['holding'].str.strip()\n",
    "data20['holding'] = data20['holding'].str.strip('.')\n",
    "\n",
    "\n",
    "\n",
    "#los deja en mayuscula\n",
    "data20['empleador'] = data20['empleador'].str.upper()\n",
    "#los deja con la primera letra con mayuscula y el resto minuscula en todas las palabras\n",
    "#data20['empleador'] = data20['empleador'].str.replace('S A','S.A.')\n",
    "#data20['empleador'] = data20['empleador'].str.replace('SA.','S.A.')\n",
    "#data20['empleador'] = data20['empleador'].str.replace('S.A','S.A.')\n",
    "data20['empleador'] = data20['empleador'].str.replace('LTDA','Ltda.')\n",
    "data20['empleador'] = data20['empleador'].str.replace('SAEZA.','SAESA.')\n",
    "#data20['empleador'] = data20['empleador'].str.replace('s.A.','sa')\n",
    "\n",
    "data20['empleador'] = data20['empleador'].str.replace('Á','A')\n",
    "data20['empleador'] = data20['empleador'].str.replace('É','E')\n",
    "data20['empleador'] = data20['empleador'].str.replace('Í','I')\n",
    "data20['empleador'] = data20['empleador'].str.replace('Ó','O')\n",
    "data20['empleador'] = data20['empleador'].str.replace('Ú','U')\n",
    "\n",
    "\n",
    "data20['empleador'] = data20['empleador'].str.title()\n",
    "data20['empleador'] = data20['empleador'].str.replace('Spa','Spa.')\n",
    "data20['empleador'] = data20['empleador'].str.replace('Ltda..','Ltda.')\n",
    "data20['empleador'] = data20['empleador'].str.replace('Limitada','Ltda.')\n",
    "data20['empleador'] = data20['empleador'].str.replace('Siempre Chile','Care Assistance')\n",
    "data20['empleador'] = data20['empleador'].str.replace('Colaboradores Empresas','Care Assistance')\n",
    "data20['empleador'] = data20['empleador'].str.replace('Clalemana','Clinica Alemana')\n",
    "data20['empleador'] = data20['empleador'].str.replace('Bancodechile','Banco de Chile')\n",
    "data20['empleador'] = data20['empleador'].str.replace('Bancochile','Banco de Chile')\n",
    "data20['empleador'] = data20['empleador'].str.replace('Conchaytoro','Concha y Toro')\n",
    "data20['empleador'] = data20['empleador'].str.replace('Prueba Empresas','Testing De Ejecutivos')\n",
    "data20['empleador'] = data20['empleador'].str.replace('Serv_Vicio','Servicio')\n",
    "data20['empleador'] = data20['empleador'].str.replace('Socidad','Sociedad')\n",
    "data20['empleador'] = data20['empleador'].str.replace('Serv.Bienestar','Serv. Bienestar')\n",
    "data20['empleador'] = data20['empleador'].str.replace('S.P.A','Spa.')\n",
    "data20['empleador'] = data20['empleador'].str.replace('10 Uf Asegurados En Evaluacion','Asegurados En Evaluacion')\n",
    "data20['empleador'] = data20['empleador'].str.replace('Citroen Chile S.A.C','Citroen Chile S.A.C.')\n",
    "data20['empleador'] = data20['empleador'].str.replace('Cla','Clinica Alemana')\n",
    "data20['empleador'] = data20['empleador'].str.replace('La Araucana Ccaf','La Araucana C.C.A.F.')\n",
    "\n",
    "data20['empleador'] = data20['empleador'].str.replace('Lmtda','Ltda.')\n",
    "\n",
    "data20['empleador'] = data20['empleador'].apply(lambda x: cambiarSa(x))\n",
    "data20['empleador'] = data20['empleador'].apply(lambda y: cambiarIn(y))\n",
    "\n",
    "\n",
    "\n",
    "#data20.convenio.fillna(data20.Campaña + 'convenio', inplace=True)\n",
    "#data20['convenio'] = data20['convenio'].str.lower()\n",
    "convenios = {\n",
    "     'metlifeconvenio':'Orienta',\n",
    "     '3spconvenio':'3SP',\n",
    "     'ambar mxconvenio':'Ambar',\n",
    "     'asismedconvenio':'Asismed',\n",
    "     'bciconvenio':'BCI',\n",
    "     'burgos - consorcioconvenio':'Burgos - Consorcio'\n",
    "\n",
    "}\n",
    "campana_dicc = {\n",
    "     'Thbseguroscovid':'Thb Seguros Covid'\n",
    "     \n",
    "}\n",
    "data20.replace({'Campaña':campana_dicc}, inplace=True)\n",
    "#data20.replace({'convenio': convenios}, inplace=True)\n",
    "#data20['convenio'] = data20['convenio'].str.lower()\n",
    "data20['Campaña'] = data20['Campaña'].str.title() \n",
    "data20['holding'] = data20['holding'].str.title()\n",
    "\n",
    "data20.empleador.fillna(data20.Campaña + ' empresa', inplace=True)\n",
    "data20.holding.fillna('Holding ' + data20.Campaña, inplace=True)\n",
    "\n",
    "data20['rut'] = data20['rut'].astype(str)\n",
    "data20['rut'] = data20['rut'].str.lower()\n",
    "#data20['rut_asegurado'] = data20['rut_asegurado'].str.lower()\n",
    "\n",
    "#llave del sistema\n",
    "data20['LLave'] = data20['rut'].astype(str) + data20['Campaña'].astype(str) + data20['empleador'].astype(str)"
   ]
  },
  {
   "cell_type": "code",
   "execution_count": null,
   "metadata": {},
   "outputs": [],
   "source": [
    "remplazahombremujer = {'Femenino': 'F', 'Masculino': 'M', '': 'O','Hombre':'M','Mujer':'F','M':'M','F':'F','O':'O','Ambos':'O','N':'O','Otro':'O','FEMENINO':'F','MASCULINO':'M'}\n",
    "data20.replace({'sex': remplazahombremujer}, inplace=True)\n",
    "remplazo = {'F':'Femenino','M':'Masculino','O':'Otros'}\n",
    "data20.replace({'sex': remplazo}, inplace=True)\n",
    "\n",
    "data20['empleador'] = data20['empleador'].str.lower()\n",
    "data20['holding'] = data20['empleador'].apply(lambda x:'clinica alemana' if x=='clinica alemana' )\n",
    "data20['holding'] = data20['empleador'].apply(lambda x:'vulco' if x=='vulco' else x ) \n",
    "data20['empleador'] = data20['empleador'].str.title()"
   ]
  },
  {
   "cell_type": "code",
   "execution_count": null,
   "metadata": {},
   "outputs": [],
   "source": [
    "data20.head()"
   ]
  },
  {
   "cell_type": "code",
   "execution_count": null,
   "metadata": {},
   "outputs": [],
   "source": [
    "data20.to_excel('C:/Users/jmartinez/Downloads/1111.xlsx',index=False,sheet_name='Sheet1')"
   ]
  }
 ],
 "metadata": {
  "kernelspec": {
   "display_name": "Python 3.10.6 ('Mito')",
   "language": "python",
   "name": "python3"
  },
  "language_info": {
   "codemirror_mode": {
    "name": "ipython",
    "version": 3
   },
   "file_extension": ".py",
   "mimetype": "text/x-python",
   "name": "python",
   "nbconvert_exporter": "python",
   "pygments_lexer": "ipython3",
   "version": "3.10.6"
  },
  "orig_nbformat": 4,
  "vscode": {
   "interpreter": {
    "hash": "8ca7c6c0b372e79d1b046e97089bf0eca059102913bf5fbce589f25f1f28c438"
   }
  }
 },
 "nbformat": 4,
 "nbformat_minor": 2
}
