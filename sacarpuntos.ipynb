{
 "cells": [
  {
   "cell_type": "code",
   "execution_count": null,
   "metadata": {},
   "outputs": [],
   "source": [
    "import encodings\n",
    "import pandas as pd\n",
    "import numpy as np\n",
    "from sqlalchemy import create_engine\n",
    "import openpyxl"
   ]
  },
  {
   "cell_type": "code",
   "execution_count": null,
   "metadata": {},
   "outputs": [],
   "source": [
    "data = 'C:/Users/jmartinez/Desktop/base de datos/filas cero/2019.xlsx'\n",
    "data2 = 'C:/Users/jmartinez/Desktop/base de datos/2019.xlsx'\n",
    "df = pd.read_excel(data2)"
   ]
  },
  {
   "cell_type": "code",
   "execution_count": null,
   "metadata": {},
   "outputs": [],
   "source": [
    "df['address_city'] = df['address_city'].str.strip('1234567890.#/}{)(¥|xX')\n",
    "df['address_state'] = df['address_state'].str.strip('1234567890.#/}{)(¥|xX')\n",
    "df['address_country'] = df['address_country'].str.strip('1234567890.#/}{)(¥|xX')\n",
    "\n",
    "df.head()"
   ]
  },
  {
   "cell_type": "code",
   "execution_count": null,
   "metadata": {},
   "outputs": [],
   "source": [
    "df.to_excel(data, index=False)"
   ]
  }
 ],
 "metadata": {
  "kernelspec": {
   "display_name": "Python 3.10.8 64-bit",
   "language": "python",
   "name": "python3"
  },
  "language_info": {
   "codemirror_mode": {
    "name": "ipython",
    "version": 3
   },
   "file_extension": ".py",
   "mimetype": "text/x-python",
   "name": "python",
   "nbconvert_exporter": "python",
   "pygments_lexer": "ipython3",
   "version": "3.10.8"
  },
  "orig_nbformat": 4,
  "vscode": {
   "interpreter": {
    "hash": "a4c0672c92e7bf4f58b7029fe981849933df28de4314420b2cba9072c49cf0a9"
   }
  }
 },
 "nbformat": 4,
 "nbformat_minor": 2
}
