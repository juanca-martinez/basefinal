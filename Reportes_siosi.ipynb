{
 "cells": [
  {
   "cell_type": "code",
   "execution_count": 7,
   "metadata": {},
   "outputs": [],
   "source": [
    "from pathlib import Path \n",
    "import requests\n",
    "import pandas as pd\n",
    "import numpy as np\n",
    "from io import StringIO\n",
    "from simple_salesforce import Salesforce\n",
    "import shutil\n",
    "import datetime\n",
    "\n",
    "\n",
    "sf = Salesforce(\n",
    "    username=\"jmartinez@careassistance.com\",\n",
    "    password=\"Jcmm0104\",\n",
    "    security_token=\"EwVPSL02qXM8XQ2pkUdA13aW\",\n",
    ")"
   ]
  },
  {
   "attachments": {},
   "cell_type": "markdown",
   "metadata": {},
   "source": [
    "Descarga desde Citas de Servicios"
   ]
  },
  {
   "cell_type": "code",
   "execution_count": 59,
   "metadata": {},
   "outputs": [],
   "source": [
    "# Recuperar empresas ID de salesforce desde Account\n",
    "results = sf.query_all(\n",
    "    \"\"\"\n",
    "    SELECT Id, clinica__c,AccountId,CreatedDate,RUT__c,WorkTypeId,Work_TypeGroup__c,Status,Interacci_n__c,AppointmentNumber,ParentRecordId from ServiceAppointment\n",
    "    \"\"\"\n",
    ")\n",
    "Citas_de_servicio = pd.DataFrame(results[\"records\"])\n"
   ]
  },
  {
   "cell_type": "code",
   "execution_count": 38,
   "metadata": {},
   "outputs": [
    {
     "data": {
      "text/plain": [
       "(6809, 7)"
      ]
     },
     "execution_count": 38,
     "metadata": {},
     "output_type": "execute_result"
    }
   ],
   "source": [
    "Citas_de_servicio = Citas_de_servicio[\n",
    "    [\n",
    "        \"Id\",\n",
    "        \"Clinica__c\",\n",
    "        \"AccountId\",\n",
    "        \"CreatedDate\",\n",
    "        \"RUT__c\",\n",
    "        \"WorkTypeId\",\n",
    "        \"Work_TypeGroup__c\",\n",
    "        \n",
    "        \n",
    "    ]\n",
    "]\n",
    "Citas_de_servicio.shape"
   ]
  },
  {
   "cell_type": "code",
   "execution_count": 53,
   "metadata": {},
   "outputs": [
    {
     "data": {
      "text/html": [
       "<div>\n",
       "<style scoped>\n",
       "    .dataframe tbody tr th:only-of-type {\n",
       "        vertical-align: middle;\n",
       "    }\n",
       "\n",
       "    .dataframe tbody tr th {\n",
       "        vertical-align: top;\n",
       "    }\n",
       "\n",
       "    .dataframe thead th {\n",
       "        text-align: right;\n",
       "    }\n",
       "</style>\n",
       "<table border=\"1\" class=\"dataframe\">\n",
       "  <thead>\n",
       "    <tr style=\"text-align: right;\">\n",
       "      <th></th>\n",
       "      <th>attributes</th>\n",
       "      <th>Id</th>\n",
       "      <th>Clinica__c</th>\n",
       "      <th>AccountId</th>\n",
       "      <th>CreatedDate</th>\n",
       "      <th>RUT__c</th>\n",
       "      <th>WorkTypeId</th>\n",
       "      <th>Work_TypeGroup__c</th>\n",
       "      <th>Status</th>\n",
       "      <th>Interacci_n__c</th>\n",
       "      <th>AppointmentNumber</th>\n",
       "      <th>ParentRecordId</th>\n",
       "    </tr>\n",
       "  </thead>\n",
       "  <tbody>\n",
       "    <tr>\n",
       "      <th>0</th>\n",
       "      <td>{'type': 'ServiceAppointment', 'url': '/servic...</td>\n",
       "      <td>08p8c0000007B0zAAE</td>\n",
       "      <td>Clínica de Nutrición</td>\n",
       "      <td>0018c00002azpJ4AAI</td>\n",
       "      <td>2022-12-02T16:23:05.000+0000</td>\n",
       "      <td>183552252</td>\n",
       "      <td>08q8c000000VW1yAAG</td>\n",
       "      <td>0VS8c0000005YZv</td>\n",
       "      <td>Reagendado</td>\n",
       "      <td>Seguimiento</td>\n",
       "      <td>SA-3124</td>\n",
       "      <td>0018c00002azpJ4AAI</td>\n",
       "    </tr>\n",
       "    <tr>\n",
       "      <th>1</th>\n",
       "      <td>{'type': 'ServiceAppointment', 'url': '/servic...</td>\n",
       "      <td>08p8c0000007RPeAAM</td>\n",
       "      <td>Clínica de Nutrición</td>\n",
       "      <td>0018c00002amLbpAAE</td>\n",
       "      <td>2022-12-21T21:28:49.000+0000</td>\n",
       "      <td>224488556</td>\n",
       "      <td>08q8c000000VW1yAAG</td>\n",
       "      <td>0VS8c0000005YZv</td>\n",
       "      <td>Realizado</td>\n",
       "      <td>Seguimiento</td>\n",
       "      <td>SA-4987</td>\n",
       "      <td>0018c00002amLbpAAE</td>\n",
       "    </tr>\n",
       "    <tr>\n",
       "      <th>2</th>\n",
       "      <td>{'type': 'ServiceAppointment', 'url': '/servic...</td>\n",
       "      <td>08p8c0000007P0bAAE</td>\n",
       "      <td>Clínica de Deporte</td>\n",
       "      <td>0018c00002ay6KFAAY</td>\n",
       "      <td>2022-12-12T15:34:28.000+0000</td>\n",
       "      <td>185384799</td>\n",
       "      <td>08q8c000000VW24AAG</td>\n",
       "      <td>0VS8c0000005YaA</td>\n",
       "      <td>Realizado</td>\n",
       "      <td>Explicacion Plan de Intervención</td>\n",
       "      <td>SA-3905</td>\n",
       "      <td>0018c00002ay6KFAAY</td>\n",
       "    </tr>\n",
       "    <tr>\n",
       "      <th>3</th>\n",
       "      <td>{'type': 'ServiceAppointment', 'url': '/servic...</td>\n",
       "      <td>08p8c0000007OumAAE</td>\n",
       "      <td>Clínica de Psicología</td>\n",
       "      <td>0018c00002bI5vJAAS</td>\n",
       "      <td>2022-12-12T12:21:02.000+0000</td>\n",
       "      <td>187821444</td>\n",
       "      <td>08q8c000000VVsBAAW</td>\n",
       "      <td>0VS8c0000005Ya0</td>\n",
       "      <td>Cancelado</td>\n",
       "      <td>Ingreso al programa</td>\n",
       "      <td>SA-3871</td>\n",
       "      <td>0018c00002bI5vJAAS</td>\n",
       "    </tr>\n",
       "    <tr>\n",
       "      <th>4</th>\n",
       "      <td>{'type': 'ServiceAppointment', 'url': '/servic...</td>\n",
       "      <td>08p8c0000007OznAAE</td>\n",
       "      <td>Clínica de Nutrición</td>\n",
       "      <td>0018c00002ao4fCAAQ</td>\n",
       "      <td>2022-12-12T15:04:05.000+0000</td>\n",
       "      <td>167466923</td>\n",
       "      <td>08q8c000000VVs1AAG</td>\n",
       "      <td>0VS8c0000005YZv</td>\n",
       "      <td>Realizado</td>\n",
       "      <td>Ingreso</td>\n",
       "      <td>SA-3898</td>\n",
       "      <td>0018c00002ao4fCAAQ</td>\n",
       "    </tr>\n",
       "  </tbody>\n",
       "</table>\n",
       "</div>"
      ],
      "text/plain": [
       "                                          attributes                  Id  \\\n",
       "0  {'type': 'ServiceAppointment', 'url': '/servic...  08p8c0000007B0zAAE   \n",
       "1  {'type': 'ServiceAppointment', 'url': '/servic...  08p8c0000007RPeAAM   \n",
       "2  {'type': 'ServiceAppointment', 'url': '/servic...  08p8c0000007P0bAAE   \n",
       "3  {'type': 'ServiceAppointment', 'url': '/servic...  08p8c0000007OumAAE   \n",
       "4  {'type': 'ServiceAppointment', 'url': '/servic...  08p8c0000007OznAAE   \n",
       "\n",
       "              Clinica__c           AccountId                   CreatedDate  \\\n",
       "0   Clínica de Nutrición  0018c00002azpJ4AAI  2022-12-02T16:23:05.000+0000   \n",
       "1   Clínica de Nutrición  0018c00002amLbpAAE  2022-12-21T21:28:49.000+0000   \n",
       "2     Clínica de Deporte  0018c00002ay6KFAAY  2022-12-12T15:34:28.000+0000   \n",
       "3  Clínica de Psicología  0018c00002bI5vJAAS  2022-12-12T12:21:02.000+0000   \n",
       "4   Clínica de Nutrición  0018c00002ao4fCAAQ  2022-12-12T15:04:05.000+0000   \n",
       "\n",
       "      RUT__c          WorkTypeId Work_TypeGroup__c      Status  \\\n",
       "0  183552252  08q8c000000VW1yAAG   0VS8c0000005YZv  Reagendado   \n",
       "1  224488556  08q8c000000VW1yAAG   0VS8c0000005YZv   Realizado   \n",
       "2  185384799  08q8c000000VW24AAG   0VS8c0000005YaA   Realizado   \n",
       "3  187821444  08q8c000000VVsBAAW   0VS8c0000005Ya0   Cancelado   \n",
       "4  167466923  08q8c000000VVs1AAG   0VS8c0000005YZv   Realizado   \n",
       "\n",
       "                     Interacci_n__c AppointmentNumber      ParentRecordId  \n",
       "0                       Seguimiento           SA-3124  0018c00002azpJ4AAI  \n",
       "1                       Seguimiento           SA-4987  0018c00002amLbpAAE  \n",
       "2  Explicacion Plan de Intervención           SA-3905  0018c00002ay6KFAAY  \n",
       "3               Ingreso al programa           SA-3871  0018c00002bI5vJAAS  \n",
       "4                           Ingreso           SA-3898  0018c00002ao4fCAAQ  "
      ]
     },
     "execution_count": 53,
     "metadata": {},
     "output_type": "execute_result"
    }
   ],
   "source": [
    "Citas_de_servicio.head()"
   ]
  }
 ],
 "metadata": {
  "kernelspec": {
   "display_name": "salesforce",
   "language": "python",
   "name": "python3"
  },
  "language_info": {
   "codemirror_mode": {
    "name": "ipython",
    "version": 3
   },
   "file_extension": ".py",
   "mimetype": "text/x-python",
   "name": "python",
   "nbconvert_exporter": "python",
   "pygments_lexer": "ipython3",
   "version": "3.8.15"
  },
  "orig_nbformat": 4,
  "vscode": {
   "interpreter": {
    "hash": "7fbccfb583f385d5cd7c75cc6ade03c09354727271e9200f47ca4e7fedb5381e"
   }
  }
 },
 "nbformat": 4,
 "nbformat_minor": 2
}
