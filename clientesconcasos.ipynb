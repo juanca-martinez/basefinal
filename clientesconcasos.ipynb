{
 "cells": [
  {
   "cell_type": "code",
   "execution_count": null,
   "metadata": {},
   "outputs": [],
   "source": [
    "import pandas as pd\n",
    "import numpy as np\n",
    "from sqlalchemy import create_engine"
   ]
  },
  {
   "cell_type": "code",
   "execution_count": null,
   "metadata": {},
   "outputs": [],
   "source": [
    "usuario = 'siempreread'\n",
    "contrasena = 'S13mpr3_Ch1l3'\n",
    "url_servidor = '209.151.148.250'\n",
    "puerto = '3306'\n",
    "esquema = 'EspoCRM2'\n",
    "plugin_autenticacion = 'mysql_native_password'\n",
    "\n",
    "# Conexión a la base de datos\n",
    "\n",
    "c_conexion = 'mysql+mysqlconnector://{0}:{1}@{2}:{3}/{4}?auth_plugin={5}'\n",
    "c_conexion = c_conexion.format(usuario, contrasena, url_servidor, puerto,\n",
    "                               esquema, plugin_autenticacion)\n",
    "motor_mysql_mariadb = create_engine(c_conexion)"
   ]
  },
  {
   "cell_type": "code",
   "execution_count": null,
   "metadata": {},
   "outputs": [],
   "source": [
    "#ojo modificar año de la tabla  para ver bien los datos\n",
    "\n",
    "sql = 'select *, month(created_at) as mes, year(created_at) as ano from contact where CHAR_LENGTH(rut_asegurado) > 6 AND CHAR_LENGTH(rut) > 6'\n",
    "#dataframe desde consulta SQL ######   and month(created_at) = 6\n",
    "datos = pd.read_sql_query(sql, motor_mysql_mariadb)\n",
    "\n",
    "#tabla de emails\n",
    "listado_email = 'SELECT t1.id,t3.lower as email FROM contact t1 left JOIN entity_email_address t2 ON t1.id = t2.entity_id left JOIN email_address t3 ON t2.email_address_id = t3.id '\n",
    "emails = pd.read_sql_query(listado_email, motor_mysql_mariadb)\n",
    "\n",
    "#tabla excel con ruts faltantes\n",
    "ruts_faltantes = 'C:/Users/jmartinez/Desktop/casos nuevos/casosfaltantes.xlsx'\n",
    "listado_faltantes = pd.read_excel(ruts_faltantes,index=False)\n",
    "\n",
    "#archivo de salida modificar segun archivo\n",
    "archivo = 'C:/Users/jmartinez/Desktop/casos nuevos/clientes/1/2022.xlsx'"
   ]
  },
  {
   "cell_type": "code",
   "execution_count": null,
   "metadata": {},
   "outputs": [],
   "source": [
    "data20 = pd.merge(left=datos,right=emails, how='left', left_on='id', right_on='id')"
   ]
  }
 ],
 "metadata": {
  "kernelspec": {
   "display_name": "Python 3.10.6 ('Mito')",
   "language": "python",
   "name": "python3"
  },
  "language_info": {
   "name": "python",
   "version": "3.10.6"
  },
  "orig_nbformat": 4,
  "vscode": {
   "interpreter": {
    "hash": "8ca7c6c0b372e79d1b046e97089bf0eca059102913bf5fbce589f25f1f28c438"
   }
  }
 },
 "nbformat": 4,
 "nbformat_minor": 2
}
