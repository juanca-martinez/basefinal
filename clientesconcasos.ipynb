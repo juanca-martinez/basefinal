{
 "cells": [
  {
   "cell_type": "code",
   "execution_count": 4,
   "metadata": {},
   "outputs": [],
   "source": [
    "import pandas as pd\n",
    "import numpy as np\n",
    "from sqlalchemy import create_engine\n",
    "import matplotlib.pyplot as plt "
   ]
  },
  {
   "cell_type": "code",
   "execution_count": 5,
   "metadata": {},
   "outputs": [],
   "source": [
    "#usuario = 'siempreread'\n",
    "#contrasena = 'S13mpr3_Ch1l3'\n",
    "#url_servidor = '209.151.148.250'\n",
    "puerto = '3306'\n",
    "esquema = 'EspoCRM2'\n",
    "plugin_autenticacion = 'mysql_native_password'\n",
    "\n",
    "usuario = 'care_consulta'\n",
    "contrasena = 'CareAssistance!10'\n",
    "url_servidor = '10.0.10.22'\n",
    "\n",
    "# Conexión a la base de datos\n",
    "\n",
    "c_conexion = 'mysql+mysqlconnector://{0}:{1}@{2}:{3}/{4}?auth_plugin={5}'\n",
    "c_conexion = c_conexion.format(usuario, contrasena, url_servidor, puerto,\n",
    "                               esquema, plugin_autenticacion)\n",
    "motor_mysql_mariadb = create_engine(c_conexion)\n",
    "\n",
    "\n",
    "#archivo de salida modificar segun archivo\n",
    "archivo = 'C:/Users/jmartinez/Desktop/casos nuevos/clientes/1/casos_faltantes_segun_archivo.xlsx'"
   ]
  },
  {
   "cell_type": "code",
   "execution_count": 6,
   "metadata": {},
   "outputs": [
    {
     "data": {
      "text/plain": [
       "(1867416, 65)"
      ]
     },
     "execution_count": 6,
     "metadata": {},
     "output_type": "execute_result"
    }
   ],
   "source": [
    "#ojo modificar año de la tabla  para ver bien los datos\n",
    "\n",
    "sql = 'select *, month(created_at) as mes, year(created_at) as ano from contact where CHAR_LENGTH(rut_asegurado) > 6 AND CHAR_LENGTH(rut) > 6 '\n",
    "#dataframe desde consulta SQL ######   and month(created_at) = 6\n",
    "datos = pd.read_sql_query(sql, motor_mysql_mariadb)\n",
    "\n",
    "\n",
    "datos.shape\n"
   ]
  },
  {
   "cell_type": "code",
   "execution_count": 7,
   "metadata": {},
   "outputs": [
    {
     "data": {
      "text/plain": [
       "(1872601, 2)"
      ]
     },
     "execution_count": 7,
     "metadata": {},
     "output_type": "execute_result"
    }
   ],
   "source": [
    "#tabla de emails\n",
    "listado_email = 'SELECT t1.id,t3.lower as email FROM contact t1 left JOIN entity_email_address t2 ON t1.id = t2.entity_id left JOIN email_address t3 ON t2.email_address_id = t3.id '\n",
    "emails = pd.read_sql_query(listado_email, motor_mysql_mariadb)\n",
    "emails.shape"
   ]
  },
  {
   "cell_type": "code",
   "execution_count": 8,
   "metadata": {},
   "outputs": [
    {
     "data": {
      "text/plain": [
       "(191687, 3)"
      ]
     },
     "execution_count": 8,
     "metadata": {},
     "output_type": "execute_result"
    }
   ],
   "source": [
    "\n",
    "#tabla excel con ruts faltantes\n",
    "ruts_faltantes = 'C:/Users/jmartinez/Desktop/casos nuevos/casosfaltantes.xlsx'\n",
    "listado_faltantes = pd.read_excel(ruts_faltantes)\n",
    "listado_faltantes.shape"
   ]
  },
  {
   "cell_type": "code",
   "execution_count": 9,
   "metadata": {},
   "outputs": [
    {
     "data": {
      "text/plain": [
       "(837, 1)"
      ]
     },
     "execution_count": 9,
     "metadata": {},
     "output_type": "execute_result"
    }
   ],
   "source": [
    "\n",
    "#tabla excel con ruts francisca\n",
    "ruts_faltantes_fr = 'C:/Users/jmartinez/Desktop/clientes francisca/pacientes_agendas.xlsx'\n",
    "listado_faltantes_fr = pd.read_excel(ruts_faltantes_fr)\n",
    "listado_faltantes_fr.shape"
   ]
  },
  {
   "cell_type": "code",
   "execution_count": 10,
   "metadata": {},
   "outputs": [
    {
     "data": {
      "text/plain": [
       "(1869449, 66)"
      ]
     },
     "execution_count": 10,
     "metadata": {},
     "output_type": "execute_result"
    }
   ],
   "source": [
    "#se juntan emails a tooodos los clientes \n",
    "data20 = pd.merge(left=datos,right=emails, how='left', left_on='id', right_on='id',copy=False)\n",
    "data20.shape"
   ]
  },
  {
   "cell_type": "code",
   "execution_count": 11,
   "metadata": {},
   "outputs": [
    {
     "name": "stderr",
     "output_type": "stream",
     "text": [
      "C:\\Users\\jmartinez\\AppData\\Local\\Temp\\ipykernel_17448\\1874038854.py:51: FutureWarning: The default value of regex will change from True to False in a future version. In addition, single character regular expressions will *not* be treated as literal strings when regex=True.\n",
      "  data20['rut'] = data20['rut'].str.replace('.','')\n",
      "C:\\Users\\jmartinez\\AppData\\Local\\Temp\\ipykernel_17448\\1874038854.py:52: FutureWarning: The default value of regex will change from True to False in a future version. In addition, single character regular expressions will *not* be treated as literal strings when regex=True.\n",
      "  data20['rut_asegurado'] = data20['rut_asegurado'].str.replace('.','')\n",
      "C:\\Users\\jmartinez\\AppData\\Local\\Temp\\ipykernel_17448\\1874038854.py:93: FutureWarning: The default value of regex will change from True to False in a future version.\n",
      "  data20['address_city'] = data20['address_city'].str.replace('-Prov. De Bs.As.','')\n",
      "C:\\Users\\jmartinez\\AppData\\Local\\Temp\\ipykernel_17448\\1874038854.py:128: FutureWarning: The default value of regex will change from True to False in a future version.\n",
      "  data20['address_city'] = data20['address_city'].str.replace(', Bogota D.C','')\n",
      "C:\\Users\\jmartinez\\AppData\\Local\\Temp\\ipykernel_17448\\1874038854.py:156: FutureWarning: The default value of regex will change from True to False in a future version.\n",
      "  data20['address_city'] = data20['address_city'].str.replace('. Cordoba','')\n",
      "C:\\Users\\jmartinez\\AppData\\Local\\Temp\\ipykernel_17448\\1874038854.py:158: FutureWarning: The default value of regex will change from True to False in a future version.\n",
      "  data20['address_city'] = data20['address_city'].str.replace(' ( La Matanza )','')\n",
      "C:\\Users\\jmartinez\\AppData\\Local\\Temp\\ipykernel_17448\\1874038854.py:183: FutureWarning: The default value of regex will change from True to False in a future version.\n",
      "  data20['address_city'] = data20['address_city'].str.replace(' (Parque Avellaneda)','')\n",
      "C:\\Users\\jmartinez\\AppData\\Local\\Temp\\ipykernel_17448\\1874038854.py:207: FutureWarning: The default value of regex will change from True to False in a future version.\n",
      "  data20['address_city'] = data20['address_city'].str.replace(' - 11 - Region Aisen Del Gral. Carlos Ibanez Del Camp - Chile','')\n"
     ]
    }
   ],
   "source": [
    "#limpieza tablas\n",
    "data20.drop(['do_not_call','address_postal_code','marca_preexistencia','marca_programa_cronico','marca_enfermedad_alto_costo','marca_problemas_nutricionales','marca_trastornos_mentales','marca_momento_traumatico'], axis=1, inplace=True)\n",
    "data20.drop(['url_empleador','marca_inicio_sintomas','marca_requirio_derivacion_emergencias','marca_requirio_internacion','marca_fecha_alta_seguimiento_virtual','middle_name'], axis=1, inplace=True)\n",
    "data20.drop(['account_id','campaign_id','patologies','family_background','drug_history','hospital_and_surgeries_history','allergies','habits','habits_tobacco','habits_alcohol'],axis=1, inplace=True)\n",
    "data20.drop(['habits_drugs','md_sedentarism','md_injuries_history','malnutrition','md_mental_illness','md_malnutrition','mes','ano'],axis=1, inplace=True)\n",
    "\n",
    "#saca los espacios de todo el dataframe \n",
    "data20 = data20.replace(r\"^ +| +$\",r\"\",regex=True)\n",
    "\n",
    "#cambia los valores en SEX\n",
    "remplazahombremujer = {'Femenino': 'F', 'Masculino': 'M', '': 'O','Hombre':'M','Mujer':'F','M':'M','F':'F','O':'O','Ambos':'O','N':'O','Otro':'O','FEMENINO':'F','MASCULINO':'M'}\n",
    "data20.replace({'sex': remplazahombremujer}, inplace=True)\n",
    "\n",
    "#cambia los valores de relacion con titulares\n",
    "relacion = {'ND':'O','ES':'CO','Titular':'AS','Cónyuge':'CO','Hijo/a':'HI','Otro':'O','Mamá':'M','Papá':'P','Nieto/a':'NI','TITULAR':'AS','CÓNYUGE':'CO','HIJO':'HI','HIJA':'HI','OTRO':'O','PAPA':'P','MAMA':'M','PAPÁ':'P','MAMÁ':'M','NIETO':'NI','NIETA':'NI','PADRE':'P','MADRE':'M','COTIZANTE':'AS','CONYUGE':'CO','Mama':'M','Pareja':'CO','CONYUGE/CONVIVIENTE':'CO','MA':'M','OT':'O','PA':'P','SO':'O'}\n",
    "data20.replace({'relacion_con_asegurado': relacion}, inplace=True)\n",
    "\n",
    "#saca acentos\n",
    "acentos = {'Á':'A','É':'E','Í':'I','Ó':'O','Ú':'U','á':'a','é':'e','í':'i','ó':'o','ú':'u'}\n",
    "data20.replace({'address_city': acentos}, inplace=True)\n",
    "data20.replace({'address_state': acentos}, inplace=True)\n",
    "data20.replace({'address_country': acentos}, inplace=True)\n",
    "\n",
    "data20['relacion_con_asegurado'] = data20['relacion_con_asegurado'].str.upper()\n",
    "data20['first_name'] = data20['first_name'].str.title()\n",
    "data20['last_name'] = data20['last_name'].str.title()\n",
    "data20['description'] = data20['description'].str.lower()\n",
    "data20['address_street'] = data20['address_street'].str.title()\n",
    "data20['address_city'] = data20['address_city'].str.title()\n",
    "data20['address_state'] = data20['address_state'].str.title()\n",
    "data20['address_country'] = data20['address_country'].str.title()\n",
    "data20['campana_paciente'] = data20['campana_paciente'].str.upper()\n",
    "data20['empleador'] = data20['empleador'].str.title()\n",
    "data20['convenio'] = data20['convenio'].str.title()\n",
    "data20['isapre'] = data20['isapre'].str.title()\n",
    "data20['cargo'] = data20['cargo'].str.title()\n",
    "data20['marca_estado_c19'] = data20['marca_estado_c19'].str.title()\n",
    "data20['holding'] = data20['holding'].str.title()\n",
    "data20['horariopreferente'].str.upper()\n",
    "data20['division'] = data20['division'].str.title()\n",
    "data20['ubicacion'] = data20['ubicacion'].str.title()\n",
    "#data20['email'] = data20['email'].str.lower()\n",
    "\n",
    "\n",
    "data20['address_city'] = data20['address_city'].str.strip('1234567890.#/}{)(¥|xX;,-_')\n",
    "data20['address_state'] = data20['address_state'].str.strip('1234567890.#/}{)(¥|xX;,-_')\n",
    "data20['address_street'] = data20['address_street'].str.strip(',.#/}{)(¥|xX;')\n",
    "data20['address_country'] = data20['address_country'].str.strip('1234567890,.#/}{)(¥|xX;')\n",
    "\n",
    "#sacar los puntos de los rut\n",
    "data20['rut'] = data20['rut'].str.replace('.','')\n",
    "data20['rut_asegurado'] = data20['rut_asegurado'].str.replace('.','')\n",
    "data20['rut_asegurado'] = data20['rut_asegurado'].str.strip()\n",
    "data20['rut'] = data20['rut'].str.strip()\n",
    "\n",
    "data20['address_city'] =data20['address_city'].str.normalize('NFKD').str.encode('ascii', errors='ignore').str.decode('utf-8')\n",
    "data20['address_state'] =data20['address_state'].str.normalize('NFKD').str.encode('ascii', errors='ignore').str.decode('utf-8')\n",
    "data20['address_country'] =data20['address_country'].str.normalize('NFKD').str.encode('ascii', errors='ignore').str.decode('utf-8')\n",
    "#data20['address_city'] = data20['address_city'].str.rstrip('Region Metropolitana','Bahia','Sao Paulo','Buenos Aires','Capital Federal','Atlantico','Cordoba','Santa Fe','Rio Grande Do Sul','Rio De Janeiro','Santiago')\n",
    "#data20['address_city'] = data20['address_city'].str.strip('1234567890.#/}{)(¥|xX;,-_')\n",
    "\n",
    "data20['address_city'] = data20['address_city'].str.replace(', Region Metropolitana','')\n",
    "data20['address_city'] = data20['address_city'].str.replace(', Bahia','')\n",
    "data20['address_city'] = data20['address_city'].str.replace(', Sao Paulo','')\n",
    "data20['address_city'] = data20['address_city'].str.replace(', Buenos Aires','')\n",
    "data20['address_city'] = data20['address_city'].str.replace(', Capital Federal','')\n",
    "data20['address_city'] = data20['address_city'].str.replace(', Atlantico','')\n",
    "data20['address_city'] = data20['address_city'].str.replace(', Cordoba','')\n",
    "data20['address_city'] = data20['address_city'].str.replace(', Santa Fe','')\n",
    "data20['address_city'] = data20['address_city'].str.replace(', Rio Grande Do Sul','')\n",
    "data20['address_city'] = data20['address_city'].str.replace(', Rio De Janeiro','')\n",
    "data20['address_city'] = data20['address_city'].str.replace(', Santiago','')\n",
    "data20['address_city'] = data20['address_city'].str.replace(', Santiago Metropolitan','')\n",
    "data20['address_city'] = data20['address_city'].str.replace(', Santiago Metropolitana','')\n",
    "data20['address_city'] = data20['address_city'].str.replace(', Morelos','')\n",
    "data20['address_city'] = data20['address_city'].str.replace(', Concepcion','')\n",
    "data20['address_city'] = data20['address_city'].str.replace(', San Jose','')\n",
    "data20['address_city'] = data20['address_city'].str.replace(', San Pedro','')\n",
    "data20['address_city'] = data20['address_city'].str.replace(', San Luis','')\n",
    "data20['address_city'] = data20['address_city'].str.replace(', San Juan','')\n",
    "data20['address_city'] = data20['address_city'].str.replace(', San Miguel','')\n",
    "data20['address_city'] = data20['address_city'].str.replace(', San Martin','')\n",
    "data20['address_city'] = data20['address_city'].str.replace(', San Salvador','')\n",
    "data20['address_city'] = data20['address_city'].str.replace(', San Francisco','')\n",
    "data20['address_city'] = data20['address_city'].str.replace(', San Bernardo','')\n",
    "data20['address_city'] = data20['address_city'].str.replace(', San Carlos','')\n",
    "data20['address_city'] = data20['address_city'].str.replace(', San Cristobal','')\n",
    "data20['address_city'] = data20['address_city'].str.replace(', San Fernando','')\n",
    "data20['address_city'] = data20['address_city'].str.replace(', Paraiba','')\n",
    "data20['address_city'] = data20['address_city'].str.replace(', San Luis Potosi','')\n",
    "data20['address_city'] = data20['address_city'].str.replace(', Concepcion','')\n",
    "data20['address_city'] = data20['address_city'].str.replace(', Temuco','')\n",
    "data20['address_city'] = data20['address_city'].str.replace('-Prov. De Bs.As.','')\n",
    "data20['address_city'] = data20['address_city'].str.replace(' - Comuna 13','')\n",
    "data20['address_city'] = data20['address_city'].str.replace(' - Buenos Aires','')\n",
    "data20['address_city'] = data20['address_city'].str.replace(', Mendoza','')\n",
    "data20['address_city'] = data20['address_city'].str.replace(', La Rioja','')\n",
    "data20['address_city'] = data20['address_city'].str.replace(', Rio Negro','')\n",
    "data20['address_city'] = data20['address_city'].str.replace(', Neuquen','')\n",
    "data20['address_city'] = data20['address_city'].str.replace(', Tucuman','')\n",
    "data20['address_city'] = data20['address_city'].str.replace(', Mexico State','')\n",
    "data20['address_city'] = data20['address_city'].str.replace(', Distrito Federal','')\n",
    "data20['address_city'] = data20['address_city'].str.replace(', Santa Catarina','')\n",
    "data20['address_city'] = data20['address_city'].str.replace(', Santa Cruz','')\n",
    "data20['address_city'] = data20['address_city'].str.replace(', Santa Fe','')\n",
    "data20['address_city'] = data20['address_city'].str.replace(', Santa Elena','')\n",
    "data20['address_city'] = data20['address_city'].str.replace(' - Capital Federal','')\n",
    "data20['address_city'] = data20['address_city'].str.replace(' - Buenos Aires','')\n",
    "data20['address_city'] = data20['address_city'].str.replace(' - Cordoba','')\n",
    "data20['address_city'] = data20['address_city'].str.replace(' - Santa Fe','')\n",
    "data20['address_city'] = data20['address_city'].str.replace(' - Rio Grande Do Sul','')\n",
    "data20['address_city'] = data20['address_city'].str.replace(' - Rio De Janeiro','')\n",
    "data20['address_city'] = data20['address_city'].str.replace(' - Santiago','')\n",
    "data20['address_city'] = data20['address_city'].str.replace(', Entre Rios','')\n",
    "data20['address_city'] = data20['address_city'].str.replace(', Chubut','')\n",
    "data20['address_city'] = data20['address_city'].str.replace(', Chaco','')\n",
    "data20['address_city'] = data20['address_city'].str.replace(', Catamarca','')\n",
    "data20['address_city'] = data20['address_city'].str.replace(', Corrientes','')\n",
    "data20['address_city'] = data20['address_city'].str.replace(', Tierra Del Fuego','')\n",
    "data20['address_city'] = data20['address_city'].str.replace(', Entre Rios','')\n",
    "data20['address_city'] = data20['address_city'].str.replace(', La Pampa','')\n",
    "data20['address_city'] = data20['address_city'].str.replace(' - Isidro Casanova','')\n",
    "data20['address_city'] = data20['address_city'].str.replace(' - San Miguel','')\n",
    "data20['address_city'] = data20['address_city'].str.replace(' Area, Colombia','')\n",
    "data20['address_city'] = data20['address_city'].str.replace(', Monte Grande','')\n",
    "data20['address_city'] = data20['address_city'].str.replace(', Cundinamarca','')\n",
    "data20['address_city'] = data20['address_city'].str.replace(', Canelones','')\n",
    "data20['address_city'] = data20['address_city'].str.replace(', Bogota D.C','')\n",
    "data20['address_city'] = data20['address_city'].str.replace(', La Plata','')\n",
    "data20['address_city'] = data20['address_city'].str.replace(', Capital','') \n",
    "data20['address_city'] = data20['address_city'].str.replace(' Buenos Aires','')\n",
    "data20['address_city'] = data20['address_city'].str.replace(', Valparaiso','')\n",
    "data20['address_city'] = data20['address_city'].str.replace(', Chiapas','')\n",
    "data20['address_city'] = data20['address_city'].str.replace(', Veracruz','')\n",
    "data20['address_city'] = data20['address_city'].str.replace(', Minas Gerais','')\n",
    "data20['address_city'] = data20['address_city'].str.replace(', Espirito Santo','')\n",
    "data20['address_city'] = data20['address_city'].str.replace(', Mato Grosso Do Sul','')\n",
    "data20['address_city'] = data20['address_city'].str.replace(', Mato Grosso','')\n",
    "data20['address_city'] = data20['address_city'].str.replace(', Minas Gerais','')\n",
    "data20['address_city'] = data20['address_city'].str.replace(', Hidalgo','')\n",
    "data20['address_city'] = data20['address_city'].str.replace(' - Monte Grande','')\n",
    "data20['address_city'] = data20['address_city'].str.replace(', Pernambuco','')\n",
    "data20['address_city'] = data20['address_city'].str.replace(', Dependencias Federales','')\n",
    "data20['address_city'] = data20['address_city'].str.replace(', Tigre','')\n",
    "data20['address_city'] = data20['address_city'].str.replace(', Lanus','')\n",
    "data20['address_city'] = data20['address_city'].str.replace(', San Luis','')\n",
    "data20['address_city'] = data20['address_city'].str.replace(' , Solano','')\n",
    "data20['address_city'] = data20['address_city'].str.replace(' / Juana Koslay','')  \n",
    "data20['address_city'] = data20['address_city'].str.replace(' - Vicente Lopez','')\n",
    "data20['address_city'] = data20['address_city'].str.replace(' - San Isidro','')\n",
    "data20['address_city'] = data20['address_city'].str.replace(' - Mendoza','')\n",
    "data20['address_city'] = data20['address_city'].str.replace(', Vicente Lopez','')\n",
    "data20['address_city'] = data20['address_city'].str.replace(' - Vicente Lopez','')\n",
    "data20['address_city'] = data20['address_city'].str.replace(', Vicente Lopez','')\n",
    "data20['address_city'] = data20['address_city'].str.replace(', San Isidro','')\n",
    "data20['address_city'] = data20['address_city'].str.replace('. Cordoba','')\n",
    "data20['address_city'] = data20['address_city'].str.replace(' - Avellaneda','')\n",
    "data20['address_city'] = data20['address_city'].str.replace(' ( La Matanza )','')\n",
    "data20['address_city'] = data20['address_city'].str.replace(' - La Tablada','')\n",
    "data20['address_city'] = data20['address_city'].str.replace(', Vicente Lopez','')\n",
    "data20['address_city'] = data20['address_city'].str.replace(' - Gregorio De Laferrere','')\n",
    "data20['address_city'] = data20['address_city'].str.replace(', Metropolitana De Santiago','')\n",
    "data20['address_city'] = data20['address_city'].str.replace(', Sinaloa','')\n",
    "data20['address_city'] = data20['address_city'].str.replace(', Nuevo Leon','')\n",
    "data20['address_city'] = data20['address_city'].str.replace(', Campeche','')\n",
    "data20['address_city'] = data20['address_city'].str.replace(', Jalisco','')\n",
    "data20['address_city'] = data20['address_city'].str.replace(', Tamaulipas','')\n",
    "data20['address_city'] = data20['address_city'].str.replace(', Yucatan','')\n",
    "data20['address_city'] = data20['address_city'].str.replace(', Quintana Roo','')\n",
    "data20['address_city'] = data20['address_city'].str.replace(', Sonora','')\n",
    "data20['address_city'] = data20['address_city'].str.replace(', Queretaro','')\n",
    "data20['address_city'] = data20['address_city'].str.replace(', Sonora','')\n",
    "data20['address_city'] = data20['address_city'].str.replace(', Goias','')\n",
    "data20['address_city'] = data20['address_city'].str.replace(', Parana','')\n",
    "data20['address_city'] = data20['address_city'].str.replace(', Amazonas','')\n",
    "data20['address_city'] = data20['address_city'].str.replace(', Uruguay','')\n",
    "data20['address_city'] = data20['address_city'].str.replace(', Miranda','')\n",
    "data20['address_city'] = data20['address_city'].str.replace(', Caracas','')\n",
    "data20['address_city'] = data20['address_city'].str.replace(', Sucre','')\n",
    "data20['address_city'] = data20['address_city'].str.replace(', Antioquia','')\n",
    "data20['address_city'] = data20['address_city'].str.replace(' - Maschwitz','')\n",
    "data20['address_city'] = data20['address_city'].str.replace('- Temperley','')\n",
    "data20['address_city'] = data20['address_city'].str.replace(' (Parque Avellaneda)','')\n",
    "data20['address_city'] = data20['address_city'].str.replace(', Coahuila','')\n",
    "data20['address_city'] = data20['address_city'].str.replace(', Baja California','')\n",
    "data20['address_city'] = data20['address_city'].str.replace(', Alagoas','')\n",
    "data20['address_city'] = data20['address_city'].str.replace(' - Sp','')\n",
    "data20['address_city'] = data20['address_city'].str.replace(' - 13 - Region Metropolitana De Santiago - Chile','')\n",
    "data20['address_city'] = data20['address_city'].str.replace(', Octava Region','')\n",
    "data20['address_city'] = data20['address_city'].str.replace(' - 08 - Region Del Biobio - Chile','')\n",
    "data20['address_city'] = data20['address_city'].str.replace(' - 15 - Arica Y Parinacota - Chile','')\n",
    "data20['address_city'] = data20['address_city'].str.replace(' - 05 - Valparaiso - Chile','')\n",
    "data20['address_city'] = data20['address_city'].str.replace(' - 03 - Atacama - Chile','')\n",
    "data20['address_city'] = data20['address_city'].str.replace(' - 10 - Region De Los Lagos - Chile','')\n",
    "data20['address_city'] = data20['address_city'].str.replace(' - 02 - Antofagasta - Chile','')\n",
    "data20['address_city'] = data20['address_city'].str.replace(' - 01 - Tarapaca - Chile','')\n",
    "data20['address_city'] = data20['address_city'].str.replace(' - 07 - Region Del Maule - Chile','')\n",
    "data20['address_city'] = data20['address_city'].str.replace(' - 16 - Region De Nuble - Chile','')\n",
    "data20['address_city'] = data20['address_city'].str.replace(' - 14 - Region De Los Rios - Chile','')\n",
    "data20['address_city'] = data20['address_city'].str.replace(' - 04 - Coquimbo - Chile','')\n",
    "data20['address_city'] = data20['address_city'].str.replace(' - 06 - Region Del Libertador General Bernardo O\\'higgins - Chile','')\n",
    "data20['address_city'] = data20['address_city'].str.replace(' - 03 - Atacama - Chile','')\n",
    "data20['address_city'] = data20['address_city'].str.replace(' - 09 - Region De Aysen Del General Carlos Ibanez Del Campo - Chile','')\n",
    "data20['address_city'] = data20['address_city'].str.replace(' - 12 - Region De Magallanes Y De La Antartica Chilena - Chile','')\n",
    "data20['address_city'] = data20['address_city'].str.replace(' - 15 - Arica Y Parinacota - Chile','')\n",
    "data20['address_city'] = data20['address_city'].str.replace(' - 07 - Region Del Maule - Chile','')\n",
    "data20['address_city'] = data20['address_city'].str.replace(' - 11 - Region Aisen Del Gral. Carlos Ibanez Del Camp - Chile','')\n",
    "data20['address_city'] = data20['address_city'].str.replace(' 6 Ta Region','')\n",
    "data20['address_city'] = data20['address_city'].str.replace(', Aysen','')\n",
    "\n",
    "\n",
    "\n",
    "ciudades = {\n",
    "'[No Especificado]':'',\n",
    "'Region Metropolitana':'Santiago',\n",
    "'No Informado':'',\n",
    "'Metropolitana':'Santiago',\n",
    "', Bahia':'',', Sao Paulo':'',\n",
    "'Nuble':'Ñuble',\n",
    "', Buenos Aires':'',\n",
    "'Capital Federal':'Buenos Aires',\n",
    "'Atlantico':'',\n",
    "', Cordoba':'',\n",
    "', Santa Fe':'',\n",
    "', Rio Grande Do Sul':'',\n",
    "', Rio De Janeiro':'',\n",
    "', Santiago':'',\n",
    "', Cordoba':'',\n",
    "', Morelos':'',\n",
    "', Paraiba':'',\n",
    "', Santa Catarina':'',\n",
    "'- Alto Macul':'',\n",
    "'Metropolitana De Santiago':'Santiago',\n",
    "', Temuco':'',\n",
    "', Concepcion':'',\n",
    "'Vina Del Mar':'Viña Del Mar',\n",
    "'Nunoa':'Ñuñoa',\n",
    "'Stgo':'Santiago',\n",
    "'Santiago Centro':'Santiago',\n",
    "'Vicuna':'Vicuña',\n",
    "'Region De La Araucania':'Araucanía',\n",
    "'Provincia Cordillera':'Cordillera',\n",
    "'Provincia De Copiapo':'Copiapó',\n",
    "'Buenos Aires Capital':'Buenos Aires',\n",
    "'S\\C':''\n",
    "}\n",
    "data20.replace({'address_city': ciudades}, inplace=True)\n",
    "data20.replace({'address_state': ciudades}, inplace=True)\n",
    "data20.replace({'address_country': ciudades}, inplace=True)\n",
    "\n",
    "#saca los espacios de todo el dataframe\n",
    "data20 = data20.replace(r\"^ +| +$\",r\"\",regex=True)\n",
    "#data20['contar'] = data20['LLave'].str.contains(data20['LLave']).value_counts()[True]\n",
    "#crea llave unica\n",
    "\n"
   ]
  },
  {
   "cell_type": "code",
   "execution_count": 12,
   "metadata": {},
   "outputs": [],
   "source": [
    "def cambiarSa(x):      \n",
    "    #subcadena = 'Sa' #la subcadena que queremos\n",
    "    #if subcadena in x and x.index(subcadena) != 0:\n",
    "    \n",
    "    if x[len(x)-2:] == 'Sa':\n",
    "        x = x.replace('Sa','S.A.')\n",
    "    if x[len(x)-2:] == 'S.':\n",
    "        x = x.replace('S.','S.A.')\n",
    "    if x[len(x)-3:] == 'S A':\n",
    "        x = x.replace('S A','S.A.')\n",
    "    if x[len(x)-3:] == 'SA.':\n",
    "        x = x.replace('SA.','S.A.')\n",
    "    if x[len(x)-3:] == 'S.A':\n",
    "        x = x.replace('S.A','S.A.') \n",
    "    if x[len(x)-4:] == 'S. A': \n",
    "        x = x.replace('S. A','S.A.') \n",
    "    return x\n",
    "\n",
    "def cambiarIn(y):\n",
    "    \n",
    "    if y[0:4] == 'Soc ':\n",
    "        y = y.replace('Soc ','Soc. ')\n",
    "    if y[0:5] == 'Serv ':\n",
    "        y = y.replace('Serv ','Serv. ')\n",
    "    if y[0:5] == 'Asoc ':\n",
    "        y = y.replace('Asoc ','Asoc. ')\n",
    "    return y"
   ]
  },
  {
   "cell_type": "code",
   "execution_count": 13,
   "metadata": {},
   "outputs": [
    {
     "name": "stderr",
     "output_type": "stream",
     "text": [
      "C:\\Users\\jmartinez\\AppData\\Local\\Temp\\ipykernel_17448\\3915117837.py:21: FutureWarning: The default value of regex will change from True to False in a future version.\n",
      "  data20['empleador'] = data20['empleador'].str.replace('SAEZA.','SAESA.')\n",
      "C:\\Users\\jmartinez\\AppData\\Local\\Temp\\ipykernel_17448\\3915117837.py:33: FutureWarning: The default value of regex will change from True to False in a future version.\n",
      "  data20['empleador'] = data20['empleador'].str.replace('Ltda..','Ltda.')\n",
      "C:\\Users\\jmartinez\\AppData\\Local\\Temp\\ipykernel_17448\\3915117837.py:44: FutureWarning: The default value of regex will change from True to False in a future version.\n",
      "  data20['empleador'] = data20['empleador'].str.replace('Serv.Bienestar','Serv. Bienestar')\n",
      "C:\\Users\\jmartinez\\AppData\\Local\\Temp\\ipykernel_17448\\3915117837.py:45: FutureWarning: The default value of regex will change from True to False in a future version.\n",
      "  data20['empleador'] = data20['empleador'].str.replace('S.P.A','Spa.')\n"
     ]
    }
   ],
   "source": [
    "#ingresar data20 segun campaña\n",
    "data20.empleador.fillna(data20.campana_paciente + ' empresa', inplace=True)\n",
    "data20.holding.fillna('Holding ' + data20.campana_paciente, inplace=True)\n",
    "\n",
    "data20.empleador = data20['empleador'].astype(str)\n",
    "\n",
    "#saca acentos\n",
    "\n",
    "#saca espacios\n",
    "\n",
    "data20['empleador'] = data20['empleador'].str.strip()\n",
    "data20['empleador'] = data20['empleador'].str.strip('.')\n",
    "\n",
    "#los deja en mayuscula\n",
    "data20['empleador'] = data20['empleador'].str.upper()\n",
    "#los deja con la primera letra con mayuscula y el resto minuscula en todas las palabras\n",
    "#data20['empleador'] = data20['empleador'].str.replace('S A','S.A.')\n",
    "#data20['empleador'] = data20['empleador'].str.replace('SA.','S.A.')\n",
    "#data20['empleador'] = data20['empleador'].str.replace('S.A','S.A.')\n",
    "data20['empleador'] = data20['empleador'].str.replace('LTDA','Ltda.')\n",
    "data20['empleador'] = data20['empleador'].str.replace('SAEZA.','SAESA.')\n",
    "#data20['empleador'] = data20['empleador'].str.replace('s.A.','sa')\n",
    "\n",
    "data20['empleador'] = data20['empleador'].str.replace('Á','A')\n",
    "data20['empleador'] = data20['empleador'].str.replace('É','E')\n",
    "data20['empleador'] = data20['empleador'].str.replace('Í','I')\n",
    "data20['empleador'] = data20['empleador'].str.replace('Ó','O')\n",
    "data20['empleador'] = data20['empleador'].str.replace('Ú','U')\n",
    "\n",
    "\n",
    "data20['empleador'] = data20['empleador'].str.title()\n",
    "data20['empleador'] = data20['empleador'].str.replace('Spa','Spa.')\n",
    "data20['empleador'] = data20['empleador'].str.replace('Ltda..','Ltda.')\n",
    "data20['empleador'] = data20['empleador'].str.replace('Limitada','Ltda.')\n",
    "data20['empleador'] = data20['empleador'].str.replace('Siempre Chile','Care Assistance')\n",
    "data20['empleador'] = data20['empleador'].str.replace('Colaboradores Empresas','Care Assistance')\n",
    "data20['empleador'] = data20['empleador'].str.replace('Clalemana','Clinica Alemana')\n",
    "data20['empleador'] = data20['empleador'].str.replace('Bancodechile','Banco de Chile')\n",
    "data20['empleador'] = data20['empleador'].str.replace('Bancochile','Banco de Chile')\n",
    "data20['empleador'] = data20['empleador'].str.replace('Conchaytoro','Concha y Toro')\n",
    "data20['empleador'] = data20['empleador'].str.replace('Prueba Empresas','Testing De Ejecutivos')\n",
    "data20['empleador'] = data20['empleador'].str.replace('Serv_Vicio','Servicio')\n",
    "data20['empleador'] = data20['empleador'].str.replace('Socidad','Sociedad')\n",
    "data20['empleador'] = data20['empleador'].str.replace('Serv.Bienestar','Serv. Bienestar')\n",
    "data20['empleador'] = data20['empleador'].str.replace('S.P.A','Spa.')\n",
    "data20['empleador'] = data20['empleador'].str.replace('10 Uf Asegurados En Evaluacion','Asegurados En Evaluacion')\n",
    "\n",
    "data20['empleador'] = data20['empleador'].str.replace('Lmtda','Ltda.')\n",
    "\n",
    "data20['empleador'] = data20['empleador'].apply(lambda x: cambiarSa(x))\n",
    "data20['empleador'] = data20['empleador'].apply(lambda y: cambiarIn(y))\n",
    "\n",
    "data20['holding'] = data20['holding'].str.strip('0123456789-_.,')\n",
    "data20['holding'] = data20['holding'].str.strip()\n",
    "data20['holding'] = data20['holding'].str.strip('.')\n",
    "\n",
    "data20.convenio.fillna(data20.campana_paciente + 'convenio', inplace=True)\n",
    "data20['convenio'] = data20['convenio'].str.lower()\n",
    "convenios = {\n",
    "     'metlifeconvenio':'Orienta',\n",
    "     '3spconvenio':'3SP',\n",
    "     'ambar mxconvenio':'Ambar',\n",
    "     'asismedconvenio':'Asismed',\n",
    "     'bciconvenio':'BCI',\n",
    "     'burgos - consorcioconvenio':'Burgos - Consorcio'\n",
    "\n",
    "}\n",
    "data20.replace({'convenio': convenios}, inplace=True)\n",
    "data20['convenio'] = data20['convenio'].str.lower()\n",
    "data20['campana_paciente'] = data20['campana_paciente'].str.upper() \n",
    "\n",
    "#llave del sistema\n",
    "data20['LLave'] = data20['rut'].astype(str) + data20['rut_asegurado'].astype(str) + data20['campana_paciente'].astype(str) + data20['empleador'].astype(str)"
   ]
  },
  {
   "cell_type": "code",
   "execution_count": 14,
   "metadata": {},
   "outputs": [
    {
     "data": {
      "text/plain": [
       "<bound method NDFrame.head of 0                   Metlife Empresa\n",
       "1                               Vip\n",
       "2                               Vip\n",
       "3                               Vip\n",
       "4                           Metlife\n",
       "                     ...           \n",
       "1869444    Farmacias Yza Mx Empresa\n",
       "1869445               Kaufmann S.A.\n",
       "1869446             Colmena Empresa\n",
       "1869447              Prueba Empresa\n",
       "1869448             Lipigas Empresa\n",
       "Name: empleador, Length: 1869449, dtype: object>"
      ]
     },
     "execution_count": 14,
     "metadata": {},
     "output_type": "execute_result"
    }
   ],
   "source": [
    "data20['empleador'].head"
   ]
  },
  {
   "cell_type": "code",
   "execution_count": 15,
   "metadata": {},
   "outputs": [
    {
     "data": {
      "text/plain": [
       "(230925, 38)"
      ]
     },
     "execution_count": 15,
     "metadata": {},
     "output_type": "execute_result"
    }
   ],
   "source": [
    "#union datos con ruts faltantes segun casos data30esta liogado a casos\n",
    "listado_faltantes['contact_id'] = listado_faltantes['contact_id'].str.strip()\n",
    "data20['id'] = data20['id'].str.strip()\n",
    "\n",
    "data30 = pd.merge(left=listado_faltantes,right=data20,how='left',left_on='contact_id',right_on='id')\n",
    "data30.shape"
   ]
  },
  {
   "cell_type": "code",
   "execution_count": 16,
   "metadata": {},
   "outputs": [
    {
     "data": {
      "text/plain": [
       "(17214, 39)"
      ]
     },
     "execution_count": 16,
     "metadata": {},
     "output_type": "execute_result"
    }
   ],
   "source": [
    "#se crea una columna con una llave\n",
    "\n",
    "\n",
    "\n",
    "llave2 = data30.value_counts(['LLave'],sort=True).to_frame()\n",
    "data30 = pd.merge(left=data30,right=llave2, how='left', left_on='LLave', right_on='LLave')\n",
    "data30 = data30.drop_duplicates(subset = ['LLave'], keep='last')\n",
    "\n",
    "\n",
    "data30.shape"
   ]
  },
  {
   "cell_type": "code",
   "execution_count": 17,
   "metadata": {},
   "outputs": [],
   "source": [
    "archivo2 = 'C:/Users/jmartinez/Desktop/casos nuevos/clientes/1/archivo_ruts_faltante_de_casos_.xlsx'\n",
    "data30.to_excel(archivo2, index=False)"
   ]
  },
  {
   "cell_type": "code",
   "execution_count": 18,
   "metadata": {},
   "outputs": [],
   "source": [
    "listado_faltantes_fr['rut'] = listado_faltantes_fr['rut'].str.strip()\n",
    "listado_faltantes_fr['rut'] = listado_faltantes_fr['rut'].str.lstrip()\n",
    "listado_faltantes_fr['rut'] = listado_faltantes_fr['rut'].str.rstrip()\n",
    "listado_faltantes_fr['rut'] = listado_faltantes_fr['rut'].str.lower()\n",
    "listado_faltantes_fr['rut'] = listado_faltantes_fr['rut'].str.strip()\n",
    "listado_faltantes_fr['rut'] = listado_faltantes_fr['rut'].str.replace(' ','')\n",
    "data20['rut'] = data20['rut'].str.strip()\n",
    "data20['rut'] = data20['rut'].str.lstrip()\n",
    "data20['rut'] = data20['rut'].str.rstrip()\n",
    "data20['rut'] = data20['rut'].str.lower()\n",
    "data20['rut'] = data20['rut'].str.strip()\n",
    "\n",
    "\n",
    "datos_fr = pd.merge(left=listado_faltantes_fr,right=data20,how='left',left_on='rut',right_on='rut')\n",
    "llave4 = datos_fr.value_counts(['LLave'],sort=True).to_frame()\n",
    "datos_fr = pd.merge(left=datos_fr,right=llave4, how='left', left_on='LLave', right_on='LLave')\n",
    "#datos_fr = datos_fr.drop_duplicates(subset = ['LLave'], keep='last')"
   ]
  },
  {
   "cell_type": "code",
   "execution_count": 19,
   "metadata": {},
   "outputs": [],
   "source": [
    "datosuser_fr = 'C:/Users/jmartinez/Desktop/casos nuevos/clientes/1/pacientes_francisca.xlsx'\n",
    "datos_fr.to_excel(datosuser_fr,index=False)"
   ]
  },
  {
   "cell_type": "code",
   "execution_count": 20,
   "metadata": {},
   "outputs": [
    {
     "ename": "ValueError",
     "evalue": "This sheet is too large! Your sheet size is: 1869449, 35 Max sheet size is: 1048576, 16384",
     "output_type": "error",
     "traceback": [
      "\u001b[1;31m---------------------------------------------------------------------------\u001b[0m",
      "\u001b[1;31mValueError\u001b[0m                                Traceback (most recent call last)",
      "Cell \u001b[1;32mIn [20], line 2\u001b[0m\n\u001b[0;32m      1\u001b[0m pacientes \u001b[39m=\u001b[39m \u001b[39m'\u001b[39m\u001b[39mC:/Users/jmartinez/Desktop/casos nuevos/clientes/1/pacientes.xlsx\u001b[39m\u001b[39m'\u001b[39m\n\u001b[1;32m----> 2\u001b[0m data20\u001b[39m.\u001b[39;49mto_excel(pacientes,index\u001b[39m=\u001b[39;49m\u001b[39mFalse\u001b[39;49;00m)\n",
      "File \u001b[1;32m~\\AppData\\Roaming\\Python\\Python310\\site-packages\\pandas\\util\\_decorators.py:211\u001b[0m, in \u001b[0;36mdeprecate_kwarg.<locals>._deprecate_kwarg.<locals>.wrapper\u001b[1;34m(*args, **kwargs)\u001b[0m\n\u001b[0;32m    209\u001b[0m     \u001b[39melse\u001b[39;00m:\n\u001b[0;32m    210\u001b[0m         kwargs[new_arg_name] \u001b[39m=\u001b[39m new_arg_value\n\u001b[1;32m--> 211\u001b[0m \u001b[39mreturn\u001b[39;00m func(\u001b[39m*\u001b[39margs, \u001b[39m*\u001b[39m\u001b[39m*\u001b[39mkwargs)\n",
      "File \u001b[1;32m~\\AppData\\Roaming\\Python\\Python310\\site-packages\\pandas\\util\\_decorators.py:211\u001b[0m, in \u001b[0;36mdeprecate_kwarg.<locals>._deprecate_kwarg.<locals>.wrapper\u001b[1;34m(*args, **kwargs)\u001b[0m\n\u001b[0;32m    209\u001b[0m     \u001b[39melse\u001b[39;00m:\n\u001b[0;32m    210\u001b[0m         kwargs[new_arg_name] \u001b[39m=\u001b[39m new_arg_value\n\u001b[1;32m--> 211\u001b[0m \u001b[39mreturn\u001b[39;00m func(\u001b[39m*\u001b[39margs, \u001b[39m*\u001b[39m\u001b[39m*\u001b[39mkwargs)\n",
      "File \u001b[1;32m~\\AppData\\Roaming\\Python\\Python310\\site-packages\\pandas\\core\\generic.py:2374\u001b[0m, in \u001b[0;36mNDFrame.to_excel\u001b[1;34m(self, excel_writer, sheet_name, na_rep, float_format, columns, header, index, index_label, startrow, startcol, engine, merge_cells, encoding, inf_rep, verbose, freeze_panes, storage_options)\u001b[0m\n\u001b[0;32m   2361\u001b[0m \u001b[39mfrom\u001b[39;00m \u001b[39mpandas\u001b[39;00m\u001b[39m.\u001b[39;00m\u001b[39mio\u001b[39;00m\u001b[39m.\u001b[39;00m\u001b[39mformats\u001b[39;00m\u001b[39m.\u001b[39;00m\u001b[39mexcel\u001b[39;00m \u001b[39mimport\u001b[39;00m ExcelFormatter\n\u001b[0;32m   2363\u001b[0m formatter \u001b[39m=\u001b[39m ExcelFormatter(\n\u001b[0;32m   2364\u001b[0m     df,\n\u001b[0;32m   2365\u001b[0m     na_rep\u001b[39m=\u001b[39mna_rep,\n\u001b[1;32m   (...)\u001b[0m\n\u001b[0;32m   2372\u001b[0m     inf_rep\u001b[39m=\u001b[39minf_rep,\n\u001b[0;32m   2373\u001b[0m )\n\u001b[1;32m-> 2374\u001b[0m formatter\u001b[39m.\u001b[39;49mwrite(\n\u001b[0;32m   2375\u001b[0m     excel_writer,\n\u001b[0;32m   2376\u001b[0m     sheet_name\u001b[39m=\u001b[39;49msheet_name,\n\u001b[0;32m   2377\u001b[0m     startrow\u001b[39m=\u001b[39;49mstartrow,\n\u001b[0;32m   2378\u001b[0m     startcol\u001b[39m=\u001b[39;49mstartcol,\n\u001b[0;32m   2379\u001b[0m     freeze_panes\u001b[39m=\u001b[39;49mfreeze_panes,\n\u001b[0;32m   2380\u001b[0m     engine\u001b[39m=\u001b[39;49mengine,\n\u001b[0;32m   2381\u001b[0m     storage_options\u001b[39m=\u001b[39;49mstorage_options,\n\u001b[0;32m   2382\u001b[0m )\n",
      "File \u001b[1;32m~\\AppData\\Roaming\\Python\\Python310\\site-packages\\pandas\\io\\formats\\excel.py:899\u001b[0m, in \u001b[0;36mExcelFormatter.write\u001b[1;34m(self, writer, sheet_name, startrow, startcol, freeze_panes, engine, storage_options)\u001b[0m\n\u001b[0;32m    897\u001b[0m num_rows, num_cols \u001b[39m=\u001b[39m \u001b[39mself\u001b[39m\u001b[39m.\u001b[39mdf\u001b[39m.\u001b[39mshape\n\u001b[0;32m    898\u001b[0m \u001b[39mif\u001b[39;00m num_rows \u001b[39m>\u001b[39m \u001b[39mself\u001b[39m\u001b[39m.\u001b[39mmax_rows \u001b[39mor\u001b[39;00m num_cols \u001b[39m>\u001b[39m \u001b[39mself\u001b[39m\u001b[39m.\u001b[39mmax_cols:\n\u001b[1;32m--> 899\u001b[0m     \u001b[39mraise\u001b[39;00m \u001b[39mValueError\u001b[39;00m(\n\u001b[0;32m    900\u001b[0m         \u001b[39mf\u001b[39m\u001b[39m\"\u001b[39m\u001b[39mThis sheet is too large! Your sheet size is: \u001b[39m\u001b[39m{\u001b[39;00mnum_rows\u001b[39m}\u001b[39;00m\u001b[39m, \u001b[39m\u001b[39m{\u001b[39;00mnum_cols\u001b[39m}\u001b[39;00m\u001b[39m \u001b[39m\u001b[39m\"\u001b[39m\n\u001b[0;32m    901\u001b[0m         \u001b[39mf\u001b[39m\u001b[39m\"\u001b[39m\u001b[39mMax sheet size is: \u001b[39m\u001b[39m{\u001b[39;00m\u001b[39mself\u001b[39m\u001b[39m.\u001b[39mmax_rows\u001b[39m}\u001b[39;00m\u001b[39m, \u001b[39m\u001b[39m{\u001b[39;00m\u001b[39mself\u001b[39m\u001b[39m.\u001b[39mmax_cols\u001b[39m}\u001b[39;00m\u001b[39m\"\u001b[39m\n\u001b[0;32m    902\u001b[0m     )\n\u001b[0;32m    904\u001b[0m formatted_cells \u001b[39m=\u001b[39m \u001b[39mself\u001b[39m\u001b[39m.\u001b[39mget_formatted_cells()\n\u001b[0;32m    905\u001b[0m \u001b[39mif\u001b[39;00m \u001b[39misinstance\u001b[39m(writer, ExcelWriter):\n",
      "\u001b[1;31mValueError\u001b[0m: This sheet is too large! Your sheet size is: 1869449, 35 Max sheet size is: 1048576, 16384"
     ]
    }
   ],
   "source": [
    "pacientes = 'C:/Users/jmartinez/Desktop/casos nuevos/clientes/1/pacientes.xlsx'\n",
    "data20.to_excel(pacientes,index=False)"
   ]
  }
 ],
 "metadata": {
  "kernelspec": {
   "display_name": "Python 3.10.6 ('Mito')",
   "language": "python",
   "name": "python3"
  },
  "language_info": {
   "codemirror_mode": {
    "name": "ipython",
    "version": 3
   },
   "file_extension": ".py",
   "mimetype": "text/x-python",
   "name": "python",
   "nbconvert_exporter": "python",
   "pygments_lexer": "ipython3",
   "version": "3.10.6"
  },
  "orig_nbformat": 4,
  "vscode": {
   "interpreter": {
    "hash": "8ca7c6c0b372e79d1b046e97089bf0eca059102913bf5fbce589f25f1f28c438"
   }
  }
 },
 "nbformat": 4,
 "nbformat_minor": 2
}
